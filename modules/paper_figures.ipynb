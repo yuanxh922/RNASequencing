{
 "cells": [
  {
   "cell_type": "code",
   "execution_count": null,
   "id": "younger-compound",
   "metadata": {},
   "outputs": [],
   "source": [
    "import matplotlib\n",
    "import matplotlib.pyplot as plt"
   ]
  },
  {
   "cell_type": "code",
   "execution_count": null,
   "id": "narrative-travel",
   "metadata": {},
   "outputs": [],
   "source": [
    "def draw_df(df, svg_fpath, x='Mass', y='RT', s=6, color='C0', label=''):\n",
    "#     fig = plt.figure(figsize=(5, 3))\n",
    "    fig = plt.figure(figsize=(2.5, 1.5))\n",
    "    plt.scatter(df[x], df[y], s=s, color=color, label=label) \n",
    "    plt.legend()\n",
    "\n",
    "    fig.tight_layout()\n",
    "    plt.savefig(svg_fpath, transparent=True, dpi=300)\n",
    "    \n",
    "def draw_dfs(df1, df2, svg_fpath, x='Mass', y='RT', s=6, colors=['C0', 'r'], labels=['', ''], xy=([], [])):\n",
    "    fig = plt.figure(figsize=(2.5, 1.5))\n",
    "    plt.scatter(df1[x], df1[y], s=s, color=colors[0], label=labels[0]) \n",
    "    plt.scatter(df2[x], df2[y], s=s, color=colors[1], label=labels[1]) \n",
    "    if xy[0]:\n",
    "        plt.scatter(xy[0], xy[1], color='w')\n",
    "    plt.legend()\n",
    "\n",
    "    fig.tight_layout()\n",
    "    plt.savefig(svg_fpath, transparent=True, dpi=300)\n",
    "    \n",
    "def draw_dfs_bar(df1, df2, svg_fpath, x='Mass', y='RT', s=6, colors=['C0', 'r'], labels=['', ''], xy=([], [])):\n",
    "    fig = plt.figure(figsize=(2.5, 1.5))\n",
    "    plt.scatter(df1[x], df1[y], s=s, color=colors[0], label=labels[0]) \n",
    "    plt.scatter(df2[x], df2[y], s=s, color=colors[1], label=labels[1]) \n",
    "    if xy[0]:\n",
    "        plt.scatter(xy[0], xy[1], color='w')\n",
    "    plt.legend()\n",
    "\n",
    "    fig.tight_layout()\n",
    "    plt.savefig(svg_fpath, transparent=True, dpi=300)\n",
    "    "
   ]
  }
 ],
 "metadata": {
  "kernelspec": {
   "display_name": "Python 3",
   "language": "python",
   "name": "python3"
  },
  "language_info": {
   "codemirror_mode": {
    "name": "ipython",
    "version": 3
   },
   "file_extension": ".py",
   "mimetype": "text/x-python",
   "name": "python",
   "nbconvert_exporter": "python",
   "pygments_lexer": "ipython3",
   "version": "3.7.3"
  }
 },
 "nbformat": 4,
 "nbformat_minor": 5
}
