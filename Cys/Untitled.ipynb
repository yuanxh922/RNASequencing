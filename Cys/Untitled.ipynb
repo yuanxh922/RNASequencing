{
 "cells": [
  {
   "cell_type": "code",
   "execution_count": null,
   "id": "overhead-firmware",
   "metadata": {},
   "outputs": [],
   "source": [
    "import pandas as pd"
   ]
  },
  {
   "cell_type": "code",
   "execution_count": null,
   "id": "tracked-semiconductor",
   "metadata": {},
   "outputs": [],
   "source": [
    "%run ../modules/utils.ipynb\n",
    "%run ../modules/preprocessing.ipynb\n",
    "%run ../modules/cds.ipynb"
   ]
  },
  {
   "cell_type": "code",
   "execution_count": null,
   "id": "recent-fundamental",
   "metadata": {},
   "outputs": [],
   "source": [
    "def load_data2(fpath, csv_format=False):\n",
    "    parse_datasrc = pd.read_excel if not csv_format else pd.read_csv\n",
    "    df = parse_datasrc(fpath)\n",
    "    df = thermo_df(df)\n",
    "    return df"
   ]
  },
  {
   "cell_type": "code",
   "execution_count": null,
   "id": "endless-fetish",
   "metadata": {},
   "outputs": [],
   "source": [
    "f_control = '/Users/bryan/Documents/ChenLab/DataYue/Cys/DrChen_tRNA_t_Cys.xlsx'\n",
    "f = '/Users/bryan/Documents/ChenLab/DataYue/Cys/DrChen_tRNA_t_Cys_FA.xlsx'\n",
    "f_control_alkb = '/Users/bryan/Documents/ChenLab/DataYue/Cys/DrChen_tRNA_t_Cys_A.xlsx'\n",
    "f_alkb = '/Users/bryan/Documents/ChenLab/DataYue/Cys/DrChen_tRNA_t_Cys_A_FA.xlsx'\n",
    "\n",
    "# df_control = pd.read_excel('/Users/bryan/Documents/ChenLab/DataYue/Cys/DrChen_tRNA_t_Cys.xlsx')\n",
    "df_control = load_data2(f_control)\n",
    "# df_control = df_control[(df_control.Mass>24000)&(df_control.Mass<26000)]\n",
    "df_control_alkb = load_data2(f_control_alkb)\n",
    "# df_control_alkb = df_control_alkb[(df_control_alkb.Mass>24000)&(df_control_alkb.Mass<26000)]\n",
    "\n",
    "df = load_data2(f)\n",
    "df_alkb = load_data2(f_alkb)\n",
    "\n"
   ]
  },
  {
   "cell_type": "code",
   "execution_count": null,
   "id": "finished-anime",
   "metadata": {},
   "outputs": [],
   "source": [
    "# plotly_zone(df_control[(df_control.Mass>24000)&(df_control.Mass<26000)], y='Vol')\n",
    "# plotly_zone(df_control_alkb[(df_control_alkb.Mass>24000)&(df_control_alkb.Mass<26000)], y='Vol')\n",
    "# plotly_zone(df_control[df_control.Mass>5000], y='Vol')\n",
    "# plotly_zone(df_control_alkb[df_control_alkb.Mass>5000], y='Vol')\n",
    "plotly_zone(df_alkb[(df_alkb.Mass<1830)&(df_alkb.Mass>1800)])"
   ]
  },
  {
   "cell_type": "code",
   "execution_count": null,
   "id": "inside-action",
   "metadata": {},
   "outputs": [],
   "source": [
    "df_ala_5p = pd.read_excel('~/Studio/tools/ala_uc_75_5p.xlsx')\n",
    "df_ala_3p = pd.read_excel('~/Studio/tools/ala_uc_75_3p.xlsx')"
   ]
  },
  {
   "cell_type": "code",
   "execution_count": null,
   "id": "little-conditioning",
   "metadata": {},
   "outputs": [],
   "source": [
    "df_sample = df\n",
    "dft = df_ala_5p.copy()\n",
    "dfm_5p = match_dfs(dft, df_sample)\n",
    "dft.Mass -= 15.995\n",
    "dfm_5p_m16 = match_dfs(dft, df_sample)\n",
    "dft = df_ala_5p.copy()\n",
    "dft.Mass += 1\n",
    "dfm_5p_a1 = match_dfs(dft, df_sample)\n",
    "\n",
    "dft = df_ala_3p.copy()\n",
    "dfm_3p = match_dfs(dft, df_sample)\n",
    "dft.Mass -= 14.0106\n",
    "dfm_3p_m14 = match_dfs(dft, df_sample)\n",
    "dft = df_ala_3p.copy()\n",
    "dft.Mass += 15\n",
    "dfm_3p_a15 = match_dfs(dft, df_sample)\n",
    "plotly_multi_zones([dfm_5p, dfm_5p_m16, dfm_5p_a1], names=['5p', 'm16', 'a1'], y='RT')\n",
    "plotly_multi_zones([dfm_5p, dfm_5p_m16, dfm_5p_a1], names=['5p', 'm16', 'a1'], y='Vol')\n",
    "plotly_multi_zones([ dfm_3p, dfm_3p_m14, dfm_3p_a15], y='RT')\n",
    "# plotly_zones(dfm_5p, dfm_3p)\n",
    "dfm_5p.shape, dfm_3p.shape"
   ]
  },
  {
   "cell_type": "code",
   "execution_count": null,
   "id": "experienced-cycle",
   "metadata": {},
   "outputs": [],
   "source": []
  }
 ],
 "metadata": {
  "kernelspec": {
   "display_name": "Python 3",
   "language": "python",
   "name": "python3"
  },
  "language_info": {
   "codemirror_mode": {
    "name": "ipython",
    "version": 3
   },
   "file_extension": ".py",
   "mimetype": "text/x-python",
   "name": "python",
   "nbconvert_exporter": "python",
   "pygments_lexer": "ipython3",
   "version": "3.7.3"
  }
 },
 "nbformat": 4,
 "nbformat_minor": 5
}
