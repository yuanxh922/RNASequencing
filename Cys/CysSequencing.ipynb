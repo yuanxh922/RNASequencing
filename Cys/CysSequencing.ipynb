{
 "cells": [
  {
   "cell_type": "code",
   "execution_count": null,
   "id": "external-millennium",
   "metadata": {},
   "outputs": [],
   "source": [
    "import pandas as pd"
   ]
  },
  {
   "cell_type": "code",
   "execution_count": null,
   "id": "blessed-invention",
   "metadata": {},
   "outputs": [],
   "source": [
    "%run ../modules/utils.ipynb\n",
    "%run ../modules/preprocessing.ipynb\n",
    "%run ../modules/cds.ipynb"
   ]
  },
  {
   "cell_type": "code",
   "execution_count": null,
   "id": "growing-effects",
   "metadata": {},
   "outputs": [],
   "source": [
    "def load_data2(fpath, csv_format=False):\n",
    "    parse_datasrc = pd.read_excel if not csv_format else pd.read_csv\n",
    "    df = parse_datasrc(fpath)\n",
    "    df = thermo_df(df)\n",
    "    return df"
   ]
  },
  {
   "cell_type": "code",
   "execution_count": null,
   "id": "knowing-savage",
   "metadata": {},
   "outputs": [],
   "source": [
    "f_control = '/Users/bryan/Documents/ChenLab/DataYue/Cys/DrChen_tRNA_t_Cys.xlsx'\n",
    "f = '/Users/bryan/Documents/ChenLab/DataYue/Cys/DrChen_tRNA_t_Cys_FA.xlsx'\n",
    "f_control_alkb = '/Users/bryan/Documents/ChenLab/DataYue/Cys/DrChen_tRNA_t_Cys_A.xlsx'\n",
    "f_alkb = '/Users/bryan/Documents/ChenLab/DataYue/Cys/DrChen_tRNA_t_Cys_A_FA.xlsx'\n",
    "\n",
    "# df_control = pd.read_excel('/Users/bryan/Documents/ChenLab/DataYue/Cys/DrChen_tRNA_t_Cys.xlsx')\n",
    "df_control = load_data2(f_control)\n",
    "# df_control = df_control[(df_control.Mass>24000)&(df_control.Mass<26000)]\n",
    "df_control_alkb = load_data2(f_control_alkb)\n",
    "# df_control_alkb = df_control_alkb[(df_control_alkb.Mass>24000)&(df_control_alkb.Mass<26000)]\n",
    "\n",
    "df = load_data2(f)\n",
    "df_alkb = load_data2(f_alkb)\n"
   ]
  },
  {
   "cell_type": "code",
   "execution_count": null,
   "id": "static-dutch",
   "metadata": {},
   "outputs": [],
   "source": [
    "# plotly_zone(df_control[(df_control.Mass>24000)&(df_control.Mass<26000)], y='Vol')\n",
    "# plotly_zone(df_control_alkb[(df_control_alkb.Mass>24000)&(df_control_alkb.Mass<26000)], y='Vol')\n",
    "plotly_zone(df_control[df_control.Mass>5000], y='Vol')\n",
    "plotly_zone(df_control_alkb[df_control_alkb.Mass>5000], y='Vol')"
   ]
  },
  {
   "cell_type": "code",
   "execution_count": null,
   "id": "provincial-backing",
   "metadata": {},
   "outputs": [],
   "source": [
    "plotly_zone(df[(df.Mass>24000)&(df.Mass<26000)], y='Vol')\n",
    "plotly_zone(df_alkb[(df_alkb.Mass>24000)&(df_alkb.Mass<26000)], y='Vol')\n",
    "# plotly_zone(df)\n",
    "# plotly_zone(df_alkb)"
   ]
  },
  {
   "cell_type": "code",
   "execution_count": null,
   "id": "major-register",
   "metadata": {},
   "outputs": [],
   "source": [
    "dft1 = df_control[(df_control.Mass>24000)&(df_control.Mass<24800)]\n",
    "dft2 = df_control[(df_control.Mass>25190)&(df_control.Mass<25636)]\n",
    "\n",
    "dft3 = df_control_alkb[(df_control_alkb.Mass>24000)&(df_control_alkb.Mass<24800)]\n",
    "dft4 = df_control_alkb[(df_control_alkb.Mass>25190)&(df_control_alkb.Mass<25636)]\n",
    "\n",
    "dft5 = df[(df.Mass>24000)&(df.Mass<25000)]\n",
    "dft6 = df_alkb[(df_alkb.Mass>24000)&(df_alkb.Mass<25000)]\n",
    "\n",
    "# top = 20\n",
    "# dft1 = dft1.sort_values('Vol', ascending=False).iloc[:dft1.shape[0]//10]\n",
    "# dft2 = dft2.sort_values('Vol', ascending=False).iloc[:dft2.shape[0]//10]\n",
    "# dft3 = dft3.sort_values('Vol', ascending=False).iloc[:dft3.shape[0]//10]\n",
    "# dft4 = dft4.sort_values('Vol', ascending=False).iloc[:dft4.shape[0]//10]\n",
    "# dft5 = dft5.sort_values('Vol', ascending=False).iloc[:dft5.shape[0]//10]\n",
    "# dft6 = dft6.sort_values('Vol', ascending=False).iloc[:dft6.shape[0]//10]\n",
    "\n",
    "dft1.median(), dft2.median(), dft3.median(), dft4.median(), dft5.median(), dft6.median()"
   ]
  },
  {
   "cell_type": "code",
   "execution_count": null,
   "id": "secure-edinburgh",
   "metadata": {},
   "outputs": [],
   "source": [
    "df_top = local_top_range(df, range=(5, 10))\n",
    "plotly_zone(df_top)\n",
    "plotly_zone(df[df.Mass>1600], y='Vol')\n",
    "\n",
    "# df_top = local_top(df_alkb, top=5)\n",
    "# plotly_zone(df_top)\n",
    "# plotly_zone(df_alkb[df_alkb.Mass>1600], y='Vol')"
   ]
  },
  {
   "cell_type": "code",
   "execution_count": null,
   "id": "terminal-crystal",
   "metadata": {},
   "outputs": [],
   "source": [
    "low, high = 11868, 14846\n",
    "# low, high = 13072, 15025\n",
    "df_sample = df_top[(df_top.Mass>low)&(df_top.Mass<high)&(df_top.RT>1)]\n",
    "bcr = base_calling_random(df_sample)\n",
    "plotly_basecalling(df_sample, bcr[1])"
   ]
  },
  {
   "cell_type": "code",
   "execution_count": null,
   "id": "disabled-philippines",
   "metadata": {},
   "outputs": [],
   "source": [
    "df_gaps1 = dots_in_mid_gap(df, 13403.86, 14359.98)\n",
    "df_gaps2 = dots_in_mid_gap(df, 13417.89, 14374.01)\n",
    "df_gaps1.sort_values('Mass'), df_gaps2.sort_values('Mass')"
   ]
  },
  {
   "cell_type": "code",
   "execution_count": null,
   "id": "prompt-gilbert",
   "metadata": {},
   "outputs": [],
   "source": [
    "# plotly_zones(df_gaps1, df_gaps2)\n",
    "plotly_multi_zones([df[(df.Mass>13403)&(df.Mass<14375)], df_gaps1, df_gaps2])"
   ]
  },
  {
   "cell_type": "code",
   "execution_count": null,
   "id": "stunning-eating",
   "metadata": {},
   "outputs": [],
   "source": [
    "# bcr_gap1 = base_calling_random(df_gaps1)\n",
    "# plotly_basecalling(df_gaps1, bcr_gap1[1])\n",
    "13417.89 + A+M"
   ]
  },
  {
   "cell_type": "code",
   "execution_count": null,
   "id": "hungry-gentleman",
   "metadata": {},
   "outputs": [],
   "source": [
    "df_ala_5p = pd.read_excel('~/Studio/tools/ala_uc_75_5p.xlsx')\n",
    "df_ala_3p = pd.read_excel('~/Studio/tools/ala_uc_75_3p.xlsx')"
   ]
  },
  {
   "cell_type": "code",
   "execution_count": null,
   "id": "social-attention",
   "metadata": {},
   "outputs": [],
   "source": [
    "\n",
    "dft = df_ala_5p.copy()\n",
    "dfm5p = match_dfs(df_sample, df_ala_5p)\n",
    "df_missing5p = df_ala_5p.drop(dfm5p.index)\n",
    "dfm5p = match_dfs(df_sample, df_ala_3p)\n",
    "df_missing3p = df_ala_3p.drop(dfm5p.index)"
   ]
  },
  {
   "cell_type": "code",
   "execution_count": null,
   "id": "confident-spain",
   "metadata": {},
   "outputs": [],
   "source": [
    "df_missing5p, df_missing3p, df_ala_5p.iloc[:7].Mass.tolist()"
   ]
  },
  {
   "cell_type": "code",
   "execution_count": null,
   "id": "endless-antigua",
   "metadata": {},
   "outputs": [],
   "source": [
    "df_sample = df\n",
    "dft = df_ala_5p.copy()\n",
    "dfm_5p = match_dfs(dft, df_sample)\n",
    "dft.Mass -= 15.995\n",
    "dfm_5p_m16 = match_dfs(dft, df_sample)\n",
    "\n",
    "dft = df_ala_3p.copy()\n",
    "dfm_3p = match_dfs(dft, df_sample)\n",
    "dft.Mass -= 14.0106\n",
    "dfm_3p_m14 = match_dfs(dft, df_sample)\n",
    "dft = df_ala_3p.copy()\n",
    "dft.Mass += 15\n",
    "dfm_3p_a15 = match_dfs(dft, df_sample)\n",
    "plotly_multi_zones([dfm_5p, dfm_5p_m16], names=['Source', '5p', 'm16'], y='Vol')\n",
    "plotly_multi_zones([ dfm_3p, dfm_3p_m14, dfm_3p_a15], y='RT')\n",
    "# plotly_zones(dfm_5p, dfm_3p)\n",
    "dfm_5p.shape, dfm_3p.shape"
   ]
  },
  {
   "cell_type": "code",
   "execution_count": null,
   "id": "documentary-switzerland",
   "metadata": {},
   "outputs": [],
   "source": [
    "df_sample = df_alkb\n",
    "dfm_5p = match_dfs(df_ala_5p, df_sample)\n",
    "# dfm_3p = match_dfs(df_ala_3p, df_sample)"
   ]
  },
  {
   "cell_type": "code",
   "execution_count": null,
   "id": "planned-future",
   "metadata": {},
   "outputs": [],
   "source": [
    "# calc MassSum for a bunch of dots\n",
    "\n",
    "df_sample = df.sort_values('Vol', ascending=False).iloc[:3000]\n",
    "# df_sample = df_top\n",
    "\n",
    "def calc_cds(fullmass):\n",
    "    dfs = computational_data_seperation(df_sample, df_sample, full_mass=fullmass)\n",
    "    return dfs[0].shape[0]\n",
    "\n",
    "df_25k = df_control[(df_control.Mass>25000)&(df_control.Mass<27000)]\n",
    "df_25k = df_25k.sort_values('Vol', ascending=False).copy()\n",
    "df_25k['MassSumCount'] = df_25k['Mass'].apply(calc_cds)"
   ]
  },
  {
   "cell_type": "code",
   "execution_count": null,
   "id": "chicken-transcript",
   "metadata": {},
   "outputs": [],
   "source": [
    "df_25k.head()\n",
    "df_25k.to_excel('~/Downloads/Group2_MassSum_localtop30.xlsx')\n",
    "# fullmass = 24391.303611\n",
    "# dfs = computational_data_seperation(df_sample, df_sample, full_mass=fullmass)\n",
    "# dfs[0].shape[0]"
   ]
  },
  {
   "cell_type": "code",
   "execution_count": null,
   "id": "hairy-wound",
   "metadata": {},
   "outputs": [],
   "source": [
    "plotly_zone(dfs[0])\n",
    "df_sample.shape"
   ]
  },
  {
   "cell_type": "code",
   "execution_count": null,
   "id": "identified-endorsement",
   "metadata": {},
   "outputs": [],
   "source": [
    "df_top = local_top(df, top=30)\n",
    "plotly_zone(df_top)\n",
    "df_top.shape"
   ]
  },
  {
   "cell_type": "code",
   "execution_count": null,
   "id": "seeing-calcium",
   "metadata": {},
   "outputs": [],
   "source": [
    "def remove_salts2(df_sample, df_src, salts=[21.9819, 43.9638, 37.9558, 75.9114, 61.95348]):\n",
    "    \"\"\" remove salts from dataframe df_sample, returns df and df_salts\n",
    "    \"\"\"\n",
    "    if df_sample.empty:\n",
    "        return pd.DataFrame(), pd.DataFrame()\n",
    "    \n",
    "    df = df_sample.copy()\n",
    "    df_salts = list()\n",
    "    for salt in salts:\n",
    "        df_salt = match_dfs(df_src, df, shift=salt)\n",
    "        df_salts.append(df_salt)\n",
    "    df_salts = pd.concat(df_salts).drop_duplicates()\n",
    "    df = df.drop(df_salts.index)\n",
    "    return df, df_salts\n"
   ]
  },
  {
   "cell_type": "code",
   "execution_count": null,
   "id": "baking-papua",
   "metadata": {},
   "outputs": [],
   "source": [
    "_, df_salts = remove_salts2(df, df_top)"
   ]
  },
  {
   "cell_type": "code",
   "execution_count": null,
   "id": "colonial-professor",
   "metadata": {},
   "outputs": [],
   "source": [
    "df_top.shape, df_salts.shape"
   ]
  },
  {
   "cell_type": "code",
   "execution_count": null,
   "id": "spread-suffering",
   "metadata": {},
   "outputs": [],
   "source": [
    "plotly_zones(df_top[df_top.Mass>1600], df_salts[df_salts.Mass>1600], y='Vol')"
   ]
  },
  {
   "cell_type": "code",
   "execution_count": null,
   "id": "every-southwest",
   "metadata": {},
   "outputs": [],
   "source": []
  }
 ],
 "metadata": {
  "kernelspec": {
   "display_name": "Python 3",
   "language": "python",
   "name": "python3"
  },
  "language_info": {
   "codemirror_mode": {
    "name": "ipython",
    "version": 3
   },
   "file_extension": ".py",
   "mimetype": "text/x-python",
   "name": "python",
   "nbconvert_exporter": "python",
   "pygments_lexer": "ipython3",
   "version": "3.7.3"
  }
 },
 "nbformat": 4,
 "nbformat_minor": 5
}
