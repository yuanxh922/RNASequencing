{
 "cells": [
  {
   "cell_type": "code",
   "execution_count": 1,
   "metadata": {},
   "outputs": [],
   "source": [
    "import pandas as pd\n",
    "import numpy as np\n",
    "import matplotlib.pyplot as plt\n",
    "import networkx as nx"
   ]
  },
  {
   "cell_type": "code",
   "execution_count": 2,
   "metadata": {},
   "outputs": [],
   "source": [
    "# datasrc = \"/Users/bryan/Studio/tools/mix_10.csv\"\n",
    "# datasrc = '/Users/bryan/Documents/SeqDataSets/12mix/12mix.csv'\n",
    "datasrc = '/Users/bryan/Studio/seq/data/samples/20.csv'\n",
    "df = pd.read_csv(datasrc)"
   ]
  },
  {
   "cell_type": "code",
   "execution_count": 3,
   "metadata": {},
   "outputs": [
    {
     "name": "stdout",
     "output_type": "stream",
     "text": [
      "chose 200 cpds from (600, 24)\n"
     ]
    },
    {
     "data": {
      "text/plain": [
       "<matplotlib.collections.PathCollection at 0x121ca5160>"
      ]
     },
     "execution_count": 3,
     "metadata": {},
     "output_type": "execute_result"
    },
    {
     "data": {
      "image/png": "[encoded data removed]",
      "text/plain": [
       "<Figure size 1152x864 with 1 Axes>"
      ]
     },
     "metadata": {
      "needs_background": "light"
     },
     "output_type": "display_data"
    }
   ],
   "source": [
    "df.dropna(axis=1, inplace=True)\n",
    "df.sort_values('Vol', ascending=False, inplace=True)\n",
    "min_N = 200\n",
    "top_N = int(df.shape[0]/10)\n",
    "if top_N < min_N:\n",
    "    top_N = min_N\n",
    "dftop = df.head(top_N)\n",
    "# dftop = df\n",
    "x = dftop['Mass']\n",
    "y = dftop['RT']\n",
    "z = np.polyfit(x, y, 1)\n",
    "print(\"chose {} cpds from {}\".format(top_N, df.shape))\n",
    "plt.figure(figsize=(16, 12))\n",
    "# plt.scatter(df['Mass'], df['RT'])\n",
    "plt.scatter(dftop['Mass'], dftop['RT'])\n",
    "# plt.plot(x, z[0]*x+z[1])"
   ]
  },
  {
   "cell_type": "code",
   "execution_count": 4,
   "metadata": {},
   "outputs": [],
   "source": [
    "upleft_dots = df[(df.Mass < 1000) & (df.RT > 15)]\n",
    "df = df.drop(upleft_dots.index)"
   ]
  },
  {
   "cell_type": "code",
   "execution_count": 5,
   "metadata": {},
   "outputs": [],
   "source": [
    "df = df[['Mass', 'RT', 'Vol']]"
   ]
  },
  {
   "cell_type": "code",
   "execution_count": 6,
   "metadata": {},
   "outputs": [],
   "source": [
    "TAG = 694.2397"
   ]
  },
  {
   "cell_type": "code",
   "execution_count": 7,
   "metadata": {},
   "outputs": [],
   "source": [
    "base5p_df = pd.DataFrame([[18.0106, 0.66, 10000],\n",
    "                          [347.0631, 0.99, 10000],\n",
    "                          [323.0519, 0.99, 10000], \n",
    "                          [363.058, 0.99, 10000], \n",
    "                          [324.0359, 0.99, 10000]], columns=['Mass', 'RT', 'Vol'])\n",
    "base3p_df = pd.DataFrame([[694.2397, 1.66, 20000]], columns=['Mass', 'RT', 'Vol'])\n",
    "df = df.append(base5p_df, sort=True).reindex()\n",
    "df = df.append(base3p_df, sort=True).reindex()"
   ]
  },
  {
   "cell_type": "code",
   "execution_count": 8,
   "metadata": {},
   "outputs": [],
   "source": [
    "base5p_df = pd.DataFrame([[18.0106, 0.66, 10000],\n",
    "                          [347.0631, 0.99, 10000],\n",
    "                          [323.0519, 0.99, 10000], \n",
    "                          [363.058, 0.99, 10000], \n",
    "                          [324.0359, 0.99, 10000]], columns=['Mass', 'RT', 'Vol'])\n",
    "base5p_df\n",
    "\n",
    "base3p_df = pd.DataFrame([[694.2397, 1.66, 20000]], columns=['Mass', 'RT', 'Vol'])\n",
    "base3p_df\n",
    "\n",
    "dftop = dftop.append(base5p_df, sort=True).reindex()\n",
    "dftop = dftop.append(base3p_df, sort=True).reindex()"
   ]
  },
  {
   "cell_type": "code",
   "execution_count": 24,
   "metadata": {},
   "outputs": [
    {
     "name": "stdout",
     "output_type": "stream",
     "text": [
      "(93,) (144,)\n"
     ]
    }
   ],
   "source": [
    "# df3p_mass_np = df5p_mass_np = np.array(dftop['Mass'])\n",
    "seq_mass = 7079.0823\n",
    "df3p_mass = dftop[(dftop.Mass > TAG+200) & (dftop.Mass < seq_mass + 1)]['Mass']\n",
    "df3p_mass_np = np.array(df3p_mass)\n",
    "df5p_mass = dftop[(dftop.Mass > 535) & (dftop.Mass < seq_mass + 18.0106 + 80 + 1)]['Mass']\n",
    "df5p_mass_np = np.array(df5p_mass)\n",
    "print(df3p_mass_np.shape, df5p_mass_np.shape)"
   ]
  },
  {
   "cell_type": "code",
   "execution_count": 25,
   "metadata": {},
   "outputs": [
    {
     "data": {
      "text/plain": [
       "(93, 144)"
      ]
     },
     "execution_count": 25,
     "metadata": {},
     "output_type": "execute_result"
    }
   ],
   "source": [
    "mass_sum_np = df3p_mass_np[:, np.newaxis] + df5p_mass_np\n",
    "mass_sum_np.shape"
   ]
  },
  {
   "cell_type": "code",
   "execution_count": 26,
   "metadata": {},
   "outputs": [],
   "source": [
    "mass_sum_1 = np.round(mass_sum_np, 1)\n",
    "mass_sum_2 = np.round(mass_sum_np, 2)\n",
    "mass_sum_3 = np.round(mass_sum_np, 3)"
   ]
  },
  {
   "cell_type": "code",
   "execution_count": 27,
   "metadata": {},
   "outputs": [
    {
     "name": "stdout",
     "output_type": "stream",
     "text": [
      "6322.8603\n"
     ]
    },
    {
     "data": {
      "text/html": [
       "<div>\n",
       "<style scoped>\n",
       "    .dataframe tbody tr th:only-of-type {\n",
       "        vertical-align: middle;\n",
       "    }\n",
       "\n",
       "    .dataframe tbody tr th {\n",
       "        vertical-align: top;\n",
       "    }\n",
       "\n",
       "    .dataframe thead th {\n",
       "        text-align: right;\n",
       "    }\n",
       "</style>\n",
       "<table border=\"1\" class=\"dataframe\">\n",
       "  <thead>\n",
       "    <tr style=\"text-align: right;\">\n",
       "      <th></th>\n",
       "      <th>Mass</th>\n",
       "      <th>RT</th>\n",
       "      <th>Vol</th>\n",
       "    </tr>\n",
       "  </thead>\n",
       "  <tbody>\n",
       "    <tr>\n",
       "      <th>2</th>\n",
       "      <td>6322.8565</td>\n",
       "      <td>7.741</td>\n",
       "      <td>13695730</td>\n",
       "    </tr>\n",
       "    <tr>\n",
       "      <th>2</th>\n",
       "      <td>323.0519</td>\n",
       "      <td>0.990</td>\n",
       "      <td>10000</td>\n",
       "    </tr>\n",
       "  </tbody>\n",
       "</table>\n",
       "</div>"
      ],
      "text/plain": [
       "        Mass     RT       Vol\n",
       "2  6322.8565  7.741  13695730\n",
       "2   323.0519  0.990     10000"
      ]
     },
     "execution_count": 27,
     "metadata": {},
     "output_type": "execute_result"
    }
   ],
   "source": [
    "sum_value = round(seq_mass + 18.0106, 1)\n",
    "end_5p = sum_value - 80 - TAG\n",
    "masses = df.Mass\n",
    "print(end_5p)\n",
    "BIAS = 0.1\n",
    "end5p_idxs = masses[(masses>=end_5p-BIAS) & (masses<=end_5p+BIAS)].index\n",
    "df.loc[end5p_idxs]"
   ]
  },
  {
   "cell_type": "code",
   "execution_count": 28,
   "metadata": {},
   "outputs": [],
   "source": [
    "mass_sum_df = pd.DataFrame(mass_sum_np)\n",
    "mass_sum_df1 = pd.DataFrame(mass_sum_1)"
   ]
  },
  {
   "cell_type": "code",
   "execution_count": 29,
   "metadata": {},
   "outputs": [
    {
     "name": "stdout",
     "output_type": "stream",
     "text": [
      "df3 idxs 38 \n",
      "df5 idxs 38\n"
     ]
    }
   ],
   "source": [
    "sum_value = round(seq_mass + 18.0106, 1)\n",
    "tmp = mass_sum_df1[(mass_sum_df1 >= sum_value-0.1) & (mass_sum_df1 <= sum_value+0.1)]\n",
    "# print(mass_sum_df1)\n",
    "final_idx_pairs = list(tmp[tmp.notnull()].stack().index)\n",
    "df3_idxs = [pair[0] for pair in final_idx_pairs]\n",
    "df5_idxs = [pair[1] for pair in final_idx_pairs]\n",
    "print(\"df3 idxs {} \\ndf5 idxs {}\".format(len(df3_idxs), len(df5_idxs)))\n",
    "df5_idxs.extend(list(end5p_idxs))\n",
    "# print(df5_idxs)"
   ]
  },
  {
   "cell_type": "code",
   "execution_count": 30,
   "metadata": {},
   "outputs": [
    {
     "data": {
      "text/plain": [
       "17     5118.6460\n",
       "18     3527.4665\n",
       "21     2242.3037\n",
       "24     4812.6211\n",
       "25     4507.5779\n",
       "27     3222.4211\n",
       "28     3856.5113\n",
       "30     5752.7276\n",
       "31     1937.2633\n",
       "33     2571.3524\n",
       "35     4201.5561\n",
       "38     5447.6963\n",
       "39     2916.3990\n",
       "42     1632.2230\n",
       "45     3569.5960\n",
       "46     6097.7792\n",
       "50     1978.4135\n",
       "52     4854.7562\n",
       "54     2284.4371\n",
       "56     6443.9541\n",
       "57     2589.4766\n",
       "59     5159.8026\n",
       "61     3874.6356\n",
       "68     4525.7034\n",
       "69     1327.1827\n",
       "70     3240.5467\n",
       "75     2895.4995\n",
       "76     4180.6582\n",
       "81     6402.8163\n",
       "81     6402.8163\n",
       "81     6402.8163\n",
       "87     1344.3224\n",
       "100    5769.8585\n",
       "104     982.1362\n",
       "112    1649.3626\n",
       "137    6114.9026\n",
       "158     999.2753\n",
       "178    5464.8200\n",
       "Name: Mass, dtype: float64"
      ]
     },
     "execution_count": 30,
     "metadata": {},
     "output_type": "execute_result"
    }
   ],
   "source": [
    "df3p_mass.iloc[df3_idxs]"
   ]
  },
  {
   "cell_type": "code",
   "execution_count": 31,
   "metadata": {},
   "outputs": [],
   "source": [
    "df3_idxs = df3p_mass.iloc[df3_idxs].index\n",
    "df5_idxs = df5p_mass.iloc[df5_idxs].index"
   ]
  },
  {
   "cell_type": "code",
   "execution_count": 33,
   "metadata": {
    "scrolled": true
   },
   "outputs": [
    {
     "name": "stdout",
     "output_type": "stream",
     "text": [
      "idxs 41 df3_idxs 36 df5_idxs 39\n"
     ]
    },
    {
     "data": {
      "text/plain": [
       "<matplotlib.collections.PathCollection at 0x1075d57b8>"
      ]
     },
     "execution_count": 33,
     "metadata": {},
     "output_type": "execute_result"
    },
    {
     "data": {
      "image/png": "[encoded data removed]",
      "text/plain": [
       "<Figure size 1152x864 with 1 Axes>"
      ]
     },
     "metadata": {
      "needs_background": "light"
     },
     "output_type": "display_data"
    }
   ],
   "source": [
    "plt.figure(figsize=(16, 12))\n",
    "\n",
    "idxs = list()\n",
    "df3_idxs = list(set(df3_idxs))\n",
    "idxs.extend(df3_idxs)\n",
    "df5_idxs = list(set(df5_idxs))\n",
    "idxs.extend(df5_idxs)\n",
    "idxs = list(set(idxs))\n",
    "print(\"idxs {} df3_idxs {} df5_idxs {}\".format(len(idxs), len(df3_idxs), len(df5_idxs)))\n",
    "plt.scatter(dftop.loc[idxs]['Mass'], dftop.loc[idxs]['RT'])\n",
    "# dftop.loc[idxs].to_csv('data/5p.csv')"
   ]
  },
  {
   "cell_type": "code",
   "execution_count": 34,
   "metadata": {},
   "outputs": [
    {
     "data": {
      "text/plain": [
       "[<matplotlib.lines.Line2D at 0x1075f8048>]"
      ]
     },
     "execution_count": 34,
     "metadata": {},
     "output_type": "execute_result"
    },
    {
     "data": {
      "image/png": "[encoded data removed]",
      "text/plain": [
       "<Figure size 1152x864 with 1 Axes>"
      ]
     },
     "metadata": {
      "needs_background": "light"
     },
     "output_type": "display_data"
    }
   ],
   "source": [
    "tmpdf = dftop.loc[idxs]\n",
    "upleft_dots = tmpdf[(tmpdf.Mass < 1000) & (tmpdf.RT > 15)]\n",
    "tmpdf = tmpdf.drop(upleft_dots.index)\n",
    "x = tmpdf['Mass']\n",
    "y = tmpdf['RT']\n",
    "z = np.polyfit(x, y, 1)\n",
    "# print(\"chose {} cpds from {}\".format(top_N, df.shape))\n",
    "plt.figure(figsize=(16, 12))\n",
    "# plt.scatter(df['Mass'], df['RT'])\n",
    "plt.scatter(tmpdf['Mass'], tmpdf['RT'])\n",
    "plt.plot(x, z[0]*x+z[1])"
   ]
  },
  {
   "cell_type": "code",
   "execution_count": 35,
   "metadata": {},
   "outputs": [
    {
     "data": {
      "text/plain": [
       "[<matplotlib.lines.Line2D at 0x122260f60>]"
      ]
     },
     "execution_count": 35,
     "metadata": {},
     "output_type": "execute_result"
    },
    {
     "data": {
      "image/png": "[encoded data removed]",
      "text/plain": [
       "<Figure size 1152x864 with 1 Axes>"
      ]
     },
     "metadata": {
      "needs_background": "light"
     },
     "output_type": "display_data"
    }
   ],
   "source": [
    "plt.figure(figsize=(16, 12))\n",
    "# plt.scatter(df['Mass'], df['RT'])\n",
    "plt.scatter(tmpdf['Mass'], tmpdf['RT'])\n",
    "plt.plot(x, (z[0]-0.0005)*x+z[1]+1.5)"
   ]
  },
  {
   "cell_type": "code",
   "execution_count": null,
   "metadata": {},
   "outputs": [],
   "source": []
  }
 ],
 "metadata": {
  "kernelspec": {
   "display_name": "Python 3",
   "language": "python",
   "name": "python3"
  },
  "language_info": {
   "codemirror_mode": {
    "name": "ipython",
    "version": 3
   },
   "file_extension": ".py",
   "mimetype": "text/x-python",
   "name": "python",
   "nbconvert_exporter": "python",
   "pygments_lexer": "ipython3",
   "version": "3.7.3"
  }
 },
 "nbformat": 4,
 "nbformat_minor": 4
}
