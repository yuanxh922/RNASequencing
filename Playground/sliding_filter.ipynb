{
 "cells": [
  {
   "cell_type": "code",
   "execution_count": null,
   "metadata": {},
   "outputs": [],
   "source": [
    "import pandas as pd\n",
    "import numpy as np\n",
    "import matplotlib\n",
    "import plotly.express as px\n",
    "import matplotlib.pyplot as plt\n",
    "from collections import namedtuple"
   ]
  },
  {
   "cell_type": "code",
   "execution_count": null,
   "metadata": {},
   "outputs": [],
   "source": [
    "%run ../modules/utils.ipynb\n",
    "%run ../modules/cds.ipynb\n",
    "%run ../modules/preprocessing.ipynb"
   ]
  },
  {
   "cell_type": "code",
   "execution_count": null,
   "metadata": {},
   "outputs": [],
   "source": [
    "df = pd.read_excel('/Users/bryan/Documents/BioPharmaFinder/ZhangLab/Data/Excels/total_tRNA_acid_degradated_20to40_component_only.xlsx')\n",
    "# df = pd.read_excel('/Users/bryan/Documents/BioPharmaFinder/BaoLab/SecondBatch/Analysis/rsv_25k.xlsx')\n",
    "# df = pd.read_excel('/Users/bryan/Documents/BioPharmaFinder/ZhangLab/oligosdegradsample2-1.xlsx')\n",
    "df.shape\n",
    "df = thermo_df(df)\n",
    "plot_zone(df)"
   ]
  },
  {
   "cell_type": "code",
   "execution_count": null,
   "metadata": {},
   "outputs": [],
   "source": [
    "plt.figure(frameon=False)\n",
    "_, ax = plt.subplots(figsize=(16, 9))\n",
    "# ax.figure(figsize=(16, 12))\n",
    "ax.set_axis_off()\n",
    "df_main = df[df.Mass < 20000]\n",
    "plt.scatter(df_main.Mass, df_main.RT)\n",
    "plt.savefig('/Users/bryan/Downloads/df.png', transparent=True)"
   ]
  },
  {
   "cell_type": "code",
   "execution_count": null,
   "metadata": {},
   "outputs": [],
   "source": [
    "bcr_5p = base_calling_random(df[df.Mass>22000])\n",
    "plt, _ = plot_basecalling(*bcr_5p, annotate=True)"
   ]
  },
  {
   "cell_type": "code",
   "execution_count": null,
   "metadata": {},
   "outputs": [],
   "source": [
    "bcr_5p = base_calling_random(df)\n",
    "plt, _ = plot_basecalling(*bcr_5p, annotate=False)"
   ]
  },
  {
   "cell_type": "markdown",
   "metadata": {},
   "source": [
    "# Single Filter"
   ]
  },
  {
   "cell_type": "code",
   "execution_count": null,
   "metadata": {},
   "outputs": [],
   "source": [
    "mass_win_loc = 6500\n",
    "mass_win_size = 100"
   ]
  },
  {
   "cell_type": "code",
   "execution_count": null,
   "metadata": {},
   "outputs": [],
   "source": [
    "df_win = df[(df.Mass > mass_win_loc) & (df.Mass < mass_win_loc + mass_win_size)]\n",
    "df_win.shape\n",
    "plot_zones(df, df_win)"
   ]
  },
  {
   "cell_type": "code",
   "execution_count": null,
   "metadata": {},
   "outputs": [],
   "source": [
    "def bin_range(df, bin_num):\n",
    "    rt = df.RT\n",
    "    if rt.empty:\n",
    "        return 0.0, 0.0\n",
    "    rt_min = rt.min()\n",
    "    rt_max = rt.max()\n",
    "    rt_height = rt_max - rt_min\n",
    "#     print(rt_min, rt_max, rt_height)\n",
    "    \n",
    "    bin_size = rt_height / 5.\n",
    "    bin_size = 0.5 if bin_size < 0.5 else bin_size\n",
    "\n",
    "    bins = rt_height / rt_win_size\n",
    "    \n",
    "    rt_hi = rt_max - bin_size * (bin_num - 1)\n",
    "    rt_lo = rt_hi - bin_size\n",
    "#     print(type(rt_lo), type(bin_size))\n",
    "    if np.less(rt_lo, rt_min):\n",
    "        print('Reach the last bin.')\n",
    "        rt_lo = rt_min\n",
    "        rt_hi = rt_lo + bin_size\n",
    "    print('df_win count {} RT lo-hi {}-{}'.format(df.shape[0], rt_lo, rt_hi))\n",
    "    return rt_lo, rt_hi"
   ]
  },
  {
   "cell_type": "code",
   "execution_count": null,
   "metadata": {},
   "outputs": [],
   "source": [
    "# rt_lo, rt_hi = bin_range(df_win, 1)\n",
    "rt_lo, rt_hi = bin_range2(df_win, mass_win_loc, mass_win_loc+mass_win_size, f_hi2, f_lo2, 1)\n",
    "df_filter = df_win[(df_win.RT<=rt_hi) & (df_win.RT>=rt_lo)]\n",
    "print(df_filter.shape)\n",
    "# plt = plot_zones(df_win, df_filter)\n",
    "fig, ax = plt.subplots(1, figsize=(16, 12))\n",
    "rect = create_rectangle(mass_win_loc, mass_win_loc+mass_win_size, rt_lo, rt_hi)\n",
    "ax.add_patch(rect)\n",
    "# ax.scatter(df_win.Mass, df_win.RT)\n",
    "ax.scatter(df_sample.Mass, df_sample.RT)\n",
    "ax.scatter(df_win.Mass, df_win.RT)"
   ]
  },
  {
   "cell_type": "code",
   "execution_count": null,
   "metadata": {},
   "outputs": [],
   "source": []
  },
  {
   "cell_type": "markdown",
   "metadata": {},
   "source": [
    "# Sliding Filter"
   ]
  },
  {
   "cell_type": "code",
   "execution_count": null,
   "metadata": {},
   "outputs": [],
   "source": [
    "df.Mass.max()"
   ]
  },
  {
   "cell_type": "code",
   "execution_count": null,
   "metadata": {},
   "outputs": [],
   "source": [
    "import matplotlib.patches as patches"
   ]
  },
  {
   "cell_type": "code",
   "execution_count": null,
   "metadata": {},
   "outputs": [],
   "source": [
    "def create_rectangle(left, right, lo, hi):\n",
    "    rect = patches.Rectangle((left, lo), right-left, hi-lo, color='r')\n",
    "    return rect"
   ]
  },
  {
   "cell_type": "code",
   "execution_count": null,
   "metadata": {},
   "outputs": [],
   "source": [
    "df_sample.RT.min(), df_sample.RT.max()"
   ]
  },
  {
   "cell_type": "code",
   "execution_count": null,
   "metadata": {},
   "outputs": [],
   "source": []
  },
  {
   "cell_type": "code",
   "execution_count": null,
   "metadata": {},
   "outputs": [],
   "source": [
    "filter_min = 0.3\n",
    "filter_nums = 5\n",
    "\n",
    "def bin_range2(df, left, right, f_hi, f_lo, bin_num):\n",
    "    rt = df.RT\n",
    "    if rt.empty:\n",
    "        return 0.0, 0.0\n",
    "#     rt_min = rt.min()\n",
    "#     rt_max = rt.max()\n",
    "    rt_min = f_lo(left)\n",
    "    rt_min = 0.26 if rt_min < 0.26 else rt_min\n",
    "    rt_max = f_hi(right)\n",
    "    rt_max = 10.13 if rt_max > 10.13 else rt_max\n",
    "    rt_height = rt_max - rt_min\n",
    "#     print(rt_min, rt_max, rt_height)\n",
    "    \n",
    "    bin_size = rt_height / filter_nums\n",
    "    bin_size = filter_min if bin_size < filter_min else bin_size\n",
    "\n",
    "    bins = rt_height / rt_win_size\n",
    "    \n",
    "    rt_hi = rt_max - bin_size * (bin_num - 1)\n",
    "    rt_lo = rt_hi - bin_size\n",
    "#     print(type(rt_lo), type(bin_size))\n",
    "    if np.less(rt_lo, rt_min):\n",
    "        print('Reach the last bin.')\n",
    "        rt_lo = rt_min\n",
    "        rt_hi = rt_lo + bin_size\n",
    "    print('df_win count {} winRT {}-{} filterRT lo-hi {}-{}'.format(df.shape[0], rt_min, rt_max, rt_lo, rt_hi))\n",
    "    return rt_lo, rt_hi"
   ]
  },
  {
   "cell_type": "code",
   "execution_count": null,
   "metadata": {},
   "outputs": [],
   "source": [
    "cursor = 0\n",
    "mass_win_size = 10\n",
    "bin_num = 2\n",
    "last_rt_lo = 0.0\n",
    "\n",
    "# plt.figure(figsize=(16, 9))\n",
    "fig, ax = plt.subplots(1, figsize=(16, 9))\n",
    "ax.scatter(df.Mass, df.RT)\n",
    "filters = list()\n",
    "while cursor < 20000:\n",
    "    # do sth\n",
    "#     print('processing win {}-{}'.format(cursor, cursor+mass_win_size))\n",
    "    df_win = df[(df.Mass >= cursor) & (df.Mass < cursor + mass_win_size)]\n",
    "    rt_lo, rt_hi = bin_range2(df_win, cursor, cursor+mass_win_size, f_hi2, f_lo2, bin_num)\n",
    "    if rt_lo < last_rt_lo:\n",
    "        rt_lo = last_rt_lo\n",
    "        if rt_lo >= rt_hi:\n",
    "            cursor += mass_win_size\n",
    "            continue\n",
    "            \n",
    "    if np.isclose(rt_lo, 0.0) or np.isclose(rt_hi, 0.0):\n",
    "        cursor += mass_win_size\n",
    "        continue\n",
    "    \n",
    "    rect = create_rectangle(cursor, cursor+mass_win_size, rt_lo, rt_hi)\n",
    "    ax.add_patch(rect)\n",
    "    \n",
    "    last_rt_lo = rt_lo\n",
    "    df_filter = df_win[(df_win.RT>=rt_lo) & (df_win.RT<=rt_hi)]\n",
    "#     print(cursor, df_filter.shape)\n",
    "    filters.append(df_filter)\n",
    "    cursor += mass_win_size\n",
    "\n",
    "plt.show()"
   ]
  },
  {
   "cell_type": "code",
   "execution_count": null,
   "metadata": {},
   "outputs": [],
   "source": [
    "df_filters = pd.concat(filters)\n",
    "plt = plot_zones(df[df.Mass<20000], df_filters)\n",
    "plt.plot(df_hi.Mass, f_hi2(df_hi.Mass))\n",
    "plt.plot(df_lo.Mass, f_lo2(df_lo.Mass))\n",
    "plt.savefig('/Users/bryan/Documents/Presentations/Jan 12 2021/filter_{}_bin_{}_filters_{}.png'.format(filter_min, bin_num, filter_nums), transparent=True)"
   ]
  },
  {
   "cell_type": "code",
   "execution_count": null,
   "metadata": {},
   "outputs": [],
   "source": [
    "bcr_5p = base_calling_random(df_filters)\n",
    "plt, _ = plot_basecalling(*bcr_5p, annotate=False)\n",
    "plt.savefig('/Users/bryan/Documents/Presentations/Jan 12 2021/filter_bc_{}_bin_{}_filters_{}.png'.format(filter_min, bin_num, filter_nums), transparent=True)"
   ]
  },
  {
   "cell_type": "code",
   "execution_count": null,
   "metadata": {},
   "outputs": [],
   "source": [
    "G = nx.DiGraph()\n",
    "\n",
    "df_bcr = bcr_5p[0]\n",
    "mass_pairs = bcr_5p[1]\n",
    "for t in mass_pairs:\n",
    "#     df_pair = df_bcr[df_bcr.Mass.isin(t)]\n",
    "#     if df_pair.empty:\n",
    "#         continue\n",
    "#     plt.plot(df_pair.Mass, df_pair.RT, 'green')\n",
    "#     print(t)\n",
    "#     G.add_path([t[1], t[0]])\n",
    "    G.add_edge(t[1], t[0], base=t[-1])\n",
    "\n",
    "path = longest_path(G)\n",
    "seqs = [G.edges[path[i], path[i+1]]['base'] for i in range(len(path)-1)]\n",
    "print('longest sequence: ' + ''.join(seqs))\n",
    "print(path)"
   ]
  },
  {
   "cell_type": "code",
   "execution_count": null,
   "metadata": {},
   "outputs": [],
   "source": [
    "import networkx as nx\n",
    "def longest_path(G):\n",
    "    dist = {} # stores [node, distance] pair\n",
    "    for node in nx.topological_sort(G):\n",
    "        # pairs of dist,node for all incoming edges\n",
    "        pairs = [(dist[v][0]+1,v) for v in G.pred[node]] \n",
    "        if pairs:\n",
    "            dist[node] = max(pairs)\n",
    "        else:\n",
    "            dist[node] = (0, node)\n",
    "    node,(length,_)  = max(dist.items(), key=lambda x:x[1])\n",
    "    path = []\n",
    "    while length > 0:\n",
    "        path.append(node)\n",
    "        length,node = dist[node]\n",
    "    return list(reversed(path))"
   ]
  },
  {
   "cell_type": "code",
   "execution_count": null,
   "metadata": {},
   "outputs": [],
   "source": [
    "from scipy.spatial import ConvexHull, convex_hull_plot_2d\n",
    "from descartes import PolygonPatch\n",
    "import alphashape\n",
    "\n",
    "def draw_fit_zone(df):\n",
    "        df = df.sort_values(by='Mass')\n",
    "        x = df['Mass']\n",
    "        y = df['RT']\n",
    "        plt.figure(figsize=(16, 12))\n",
    "        plt.scatter(x, y)\n",
    "        points = np.array([x, y]).T\n",
    "        hull = ConvexHull(points)\n",
    "#         fig, ax = plt.subplots(1, figsize=(16, 9))\n",
    "        for simplex in hull.simplices:\n",
    "            plt.plot(points[simplex, 0], points[simplex, 1], '--', color='green')\n",
    "\n",
    "        z = np.polyfit(x, y, 2)\n",
    "        def f(x):\n",
    "            return z[0]*x*x + z[1]*x + z[2]\n",
    "        y = f(x)\n",
    "        plt.plot(x, y, \"r-\")\n",
    "\n",
    "        plt.show()\n",
    "\n",
    "#         return df_invalid"
   ]
  },
  {
   "cell_type": "code",
   "execution_count": null,
   "metadata": {},
   "outputs": [],
   "source": [
    "draw_fit_zone(df[df.Mass < 20000])"
   ]
  },
  {
   "cell_type": "code",
   "execution_count": null,
   "metadata": {},
   "outputs": [],
   "source": [
    "def alpha_shape_func(points, alpha, only_outer=True):\n",
    "    \"\"\"\n",
    "    Compute the alpha shape (concave hull) of a set of points.\n",
    "    :param points: np.array of shape (n,2) points.\n",
    "    :param alpha: alpha value.\n",
    "    :param only_outer: boolean value to specify if we keep only the outer border\n",
    "    or also inner edges.\n",
    "    :return: set of (i,j) pairs representing edges of the alpha-shape. (i,j) are\n",
    "    the indices in the points array.\n",
    "    \"\"\"\n",
    "    assert points.shape[0] > 3, \"Need at least four points\"\n",
    "\n",
    "    def add_edge(edges, i, j):\n",
    "        \"\"\"\n",
    "        Add a line between the i-th and j-th points,\n",
    "        if not in the list already\n",
    "        \"\"\"\n",
    "        if (i, j) in edges or (j, i) in edges:\n",
    "            # already added\n",
    "            assert (j, i) in edges, \"Can't go twice over same directed edge right?\"\n",
    "            if only_outer:\n",
    "                # if both neighboring triangles are in shape, it's not a boundary edge\n",
    "                edges.remove((j, i))\n",
    "            return\n",
    "        edges.add((i, j))\n",
    "\n",
    "    tri = Delaunay(points)\n",
    "    edges = set()\n",
    "    # Loop over triangles:\n",
    "    # ia, ib, ic = indices of corner points of the triangle\n",
    "    for ia, ib, ic in tri.vertices:\n",
    "        pa = points[ia]\n",
    "        pb = points[ib]\n",
    "        pc = points[ic]\n",
    "        # Computing radius of triangle circumcircle\n",
    "        # www.mathalino.com/reviewer/derivation-of-formulas/derivation-of-formula-for-radius-of-circumcircle\n",
    "        a = np.sqrt((pa[0] - pb[0]) ** 2 + (pa[1] - pb[1]) ** 2)\n",
    "        b = np.sqrt((pb[0] - pc[0]) ** 2 + (pb[1] - pc[1]) ** 2)\n",
    "        c = np.sqrt((pc[0] - pa[0]) ** 2 + (pc[1] - pa[1]) ** 2)\n",
    "        s = (a + b + c) / 2.0\n",
    "        area = np.sqrt(s * (s - a) * (s - b) * (s - c))\n",
    "        circum_r = a * b * c / (4.0 * area)\n",
    "        if circum_r < alpha:\n",
    "            add_edge(edges, ia, ib)\n",
    "            add_edge(edges, ib, ic)\n",
    "            add_edge(edges, ic, ia)\n",
    "    return edges"
   ]
  },
  {
   "cell_type": "code",
   "execution_count": null,
   "metadata": {},
   "outputs": [],
   "source": [
    "from scipy.spatial import Delaunay\n",
    "df_win['RT1'] = df_win.RT * 1000\n",
    "points = np.array(df_win[['Mass', 'RT1']])\n",
    "# print(points)\n",
    "edges = alpha_shape_func(points, 0.25, only_outer=False)\n",
    "print(edges)"
   ]
  },
  {
   "cell_type": "code",
   "execution_count": null,
   "metadata": {},
   "outputs": [],
   "source": [
    "idxs = list()\n",
    "# create our callback function\n",
    "def on_selection(trace, points, selector):\n",
    "    print('points {}'.format(points.point_inds) )\n",
    "    idxs.extend(points.point_inds)\n",
    "\n",
    "def on_click(trace, points, selector):\n",
    "#     print('points {}'.format(points.point_inds) )\n",
    "    idxs.extend(points.point_inds)\n",
    "\n",
    "df_sample = df[df.Mass < 20000]\n",
    "f = zone_selection(df_sample, on_selection=on_selection, on_click=on_click)\n",
    "f"
   ]
  },
  {
   "cell_type": "code",
   "execution_count": null,
   "metadata": {},
   "outputs": [],
   "source": [
    "df_chosen = df_sample.iloc[idxs]\n",
    "df_chosen.shape"
   ]
  },
  {
   "cell_type": "code",
   "execution_count": null,
   "metadata": {},
   "outputs": [],
   "source": [
    "df_hi = df_chosen\n",
    "# df_lo = df_chosen"
   ]
  },
  {
   "cell_type": "code",
   "execution_count": null,
   "metadata": {},
   "outputs": [],
   "source": [
    "x = df_hi.Mass\n",
    "y = df_hi.RT\n",
    "z = np.polyfit(x, y, 4)\n",
    "def f_hi2(x):\n",
    "    return z[0] * x**4 + z[1]*x**3 + z[2]*x**2 + z[3]*x + z[4] + 0.1\n",
    "y = f_hi2(x)\n",
    "plt.figure(figsize=(16, 12))\n",
    "plt.scatter(df_sample.Mass, df_sample.RT)\n",
    "plt.plot(x, y, \"r-\")\n",
    "\n",
    "plt.scatter(x, y)\n",
    "plt.show()"
   ]
  },
  {
   "cell_type": "code",
   "execution_count": null,
   "metadata": {},
   "outputs": [],
   "source": [
    "x = df_lo.Mass\n",
    "y = df_lo.RT\n",
    "# z_lo2 = np.polyfit(x, y, 4)\n",
    "z_lo2 = np.polyfit(x, y, 4)\n",
    "def f_lo2(x):\n",
    "    return z_lo2[0] * x**4 + z_lo2[1]*x**3 + z_lo2[2]*x**2 + z_lo2[3]*x + z_lo2[4] - 0.1\n",
    "#     return z_lo2[0] * x**4 + z_z_lo2lo[1]*x**3 + z_lo2[2]*x**2 + z_lo2[3]*x + z_lo2[4] - 0.1\n",
    "#     return z_lo[0] * x**3 + z_lo[1]*x**2 + z_lo[2]*x + z_lo[3]\n",
    "y = f_lo2(x)\n",
    "plt.figure(figsize=(16, 12))\n",
    "plt.scatter(df_sample.Mass, df_sample.RT)\n",
    "plt.plot(x, y, \"r-\")\n",
    "# plt.scatter(x, y)\n",
    "plt.show()"
   ]
  },
  {
   "cell_type": "code",
   "execution_count": null,
   "metadata": {},
   "outputs": [],
   "source": [
    "# plt = plot_zones(df_chosen, df_lo)\n",
    "_, ax = plt.subplots(figsize=(16, 12))\n",
    "ax.scatter(df_sample.Mass, df_sample.RT)\n",
    "\n",
    "# ax.scatter(df_hi.Mass, df_hi.RT, c='red')\n",
    "ax.plot(df_hi.Mass, f_hi2(df_hi.Mass), c='red')\n",
    "\n",
    "# ax.scatter(df_lo.Mass, df_lo.RT, c='green')\n",
    "ax.plot(df_lo.Mass, f_lo2(df_lo.Mass), c='green')\n",
    "\n",
    "# Bezier Curve\n",
    "# nodes_hi = np.array(df_hi[['Mass', 'RT']]).T\n",
    "# num_hi = df_chosen.shape[0]\n",
    "# curve_hi = bezier.Curve(nodes_hi, degree=num_hi-1)\n",
    "# curve_hi.plot(num_hi, ax=ax)\n",
    "\n",
    "# nodes_lo = np.array(df_lo[['Mass', 'RT']]).T\n",
    "# num_lo = df_lo.shape[0]\n",
    "# curve_lo = bezier.Curve(nodes_lo, degree=num_lo-1)\n",
    "# curve_lo.plot(num_lo, ax=ax)"
   ]
  },
  {
   "cell_type": "code",
   "execution_count": null,
   "metadata": {},
   "outputs": [],
   "source": [
    "import bezier"
   ]
  },
  {
   "cell_type": "code",
   "execution_count": null,
   "metadata": {},
   "outputs": [],
   "source": [
    "df_sample = df[df.Mass < 20000]\n",
    "plt.figure(figsize=(16, 12))\n",
    "plt.scatter(df_sample.Mass, df_sample.RT)\n",
    "x = df_sample.Mass.sort_values()\n",
    "plt.plot(x, f_hi(x))\n",
    "plt.plot(x, f_lo(x))\n"
   ]
  },
  {
   "cell_type": "code",
   "execution_count": null,
   "metadata": {},
   "outputs": [],
   "source": []
  }
 ],
 "metadata": {
  "kernelspec": {
   "display_name": "Python 3",
   "language": "python",
   "name": "python3"
  },
  "language_info": {
   "codemirror_mode": {
    "name": "ipython",
    "version": 3
   },
   "file_extension": ".py",
   "mimetype": "text/x-python",
   "name": "python",
   "nbconvert_exporter": "python",
   "pygments_lexer": "ipython3",
   "version": "3.7.3"
  }
 },
 "nbformat": 4,
 "nbformat_minor": 4
}
