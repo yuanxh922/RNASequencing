{
 "cells": [
  {
   "cell_type": "code",
   "execution_count": null,
   "id": "suspected-adrian",
   "metadata": {},
   "outputs": [],
   "source": [
    "import pandas as pd\n",
    "import numpy as np"
   ]
  },
  {
   "cell_type": "code",
   "execution_count": null,
   "id": "dynamic-applicant",
   "metadata": {},
   "outputs": [],
   "source": [
    "df = pd.read_excel('~/Downloads/Modification.xlsx')"
   ]
  },
  {
   "cell_type": "code",
   "execution_count": null,
   "id": "cutting-specific",
   "metadata": {},
   "outputs": [],
   "source": [
    "df.rename(columns={'Mass diff with Standard': 'Diff', 'Exact Mass': 'Mass'}, inplace=True)"
   ]
  },
  {
   "cell_type": "code",
   "execution_count": null,
   "id": "invisible-diana",
   "metadata": {},
   "outputs": [],
   "source": [
    "df = df[['Symbol', 'Common Name', 'Mass', 'Diff']].dropna(subset=['Diff'])"
   ]
  },
  {
   "cell_type": "code",
   "execution_count": null,
   "id": "connected-disclaimer",
   "metadata": {},
   "outputs": [],
   "source": [
    "df"
   ]
  },
  {
   "cell_type": "code",
   "execution_count": null,
   "id": "serious-receipt",
   "metadata": {},
   "outputs": [],
   "source": [
    "uni_diff = df.Diff.unique()\n",
    "uni_diff.sort()\n",
    "uni_diff"
   ]
  },
  {
   "cell_type": "code",
   "execution_count": null,
   "id": "eleven-programmer",
   "metadata": {},
   "outputs": [],
   "source": [
    "uni_diff = uni_diff.astype(int)"
   ]
  },
  {
   "cell_type": "code",
   "execution_count": null,
   "id": "premium-arbitration",
   "metadata": {},
   "outputs": [],
   "source": [
    "modulo = uni_diff % 14\n",
    "\n",
    "uni_modulo = np.unique(modulo)\n",
    "modulo, uni_modulo"
   ]
  },
  {
   "cell_type": "code",
   "execution_count": null,
   "id": "complicated-weapon",
   "metadata": {},
   "outputs": [],
   "source": []
  },
  {
   "cell_type": "code",
   "execution_count": null,
   "id": "reduced-powder",
   "metadata": {},
   "outputs": [],
   "source": []
  }
 ],
 "metadata": {
  "kernelspec": {
   "display_name": "Python 3",
   "language": "python",
   "name": "python3"
  },
  "language_info": {
   "codemirror_mode": {
    "name": "ipython",
    "version": 3
   },
   "file_extension": ".py",
   "mimetype": "text/x-python",
   "name": "python",
   "nbconvert_exporter": "python",
   "pygments_lexer": "ipython3",
   "version": "3.7.3"
  }
 },
 "nbformat": 4,
 "nbformat_minor": 5
}
