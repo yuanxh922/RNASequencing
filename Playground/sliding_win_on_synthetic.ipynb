{
 "cells": [
  {
   "cell_type": "code",
   "execution_count": null,
   "metadata": {},
   "outputs": [],
   "source": [
    "import pandas as pd\n",
    "import numpy as np\n",
    "import matplotlib\n",
    "import plotly.express as px\n",
    "import matplotlib.pyplot as plt\n",
    "from collections import namedtuple"
   ]
  },
  {
   "cell_type": "code",
   "execution_count": null,
   "metadata": {},
   "outputs": [],
   "source": [
    "%run ../modules/utils.ipynb\n",
    "%run ../modules/cds.ipynb\n",
    "%run ../modules/preprocessing.ipynb"
   ]
  },
  {
   "cell_type": "code",
   "execution_count": null,
   "metadata": {},
   "outputs": [],
   "source": [
    "# df = pd.read_csv('/Users/bryan/Documents/SeqDataSets/Ning1024/12mixtures/19-Table 1.csv')\n",
    "# df = pd.read_csv('/Users/bryan/Documents/SeqDataSets/Ning1024/12mixtures/30-Table 1.csv')\n",
    "# df = pd.read_csv('/Users/bryan/Studio/lcmsseq/examples/compounds.csv', skiprows=2)\n",
    "# df = pd.read_excel('/Users/bryan/Documents/SeqDataSets/Ning1024/5mix_MFE.xlsx')\n",
    "# df = pd.read_excel('/Users/bryan/Documents/SeqDataSets/Ning1024/2mix_180521s14_100.xls')\n",
    "# df = pd.read_csv('/Users/bryan/Documents/SeqDataSets/Ning1024/12mixtures/12mix.csv')\n",
    "# df = pd.read_excel('/Users/bryan/Documents/BioPharmaFinder/ZhangLab/Data/Excels/tRNA_Phe_0724_std.xlsx')\n",
    "# df = pd.read_excel('/Users/bryan/Documents/BioPharmaFinder/ZhangLab/oligosdegradsample2-1.xlsx')\n",
    "# df = pd.read_excel('/Users/bryan/Documents/BioPharmaFinder/ZhangLab/Data/Excels/total_tRNA_acid_degradated_20to40_component_only.xlsx')\n",
    "# df = pd.read_excel('/Users/bryan/Documents/BioPharmaFinder/ZhangLab/Data/Excels/total_tRNA_acid_deg.xlsx')\n",
    "# df = thermo_df(df)\n",
    "# df = df[df.Mass < 20000]\n",
    "# df = pd.read_excel('/Users/bryan/Documents/SeqDataSets/PaperData/ACS/032919s07.xls')\n",
    "df = pd.read_excel('/Users/bryan/Documents/SeqDataSets/PaperData/ACS/111418s05.xls')\n",
    "# df = pd.read_excel('/Users/bryan/Documents/SeqDataSets/PaperData/ACS/100918s06.xls')\n",
    "df.shape"
   ]
  },
  {
   "cell_type": "code",
   "execution_count": null,
   "metadata": {},
   "outputs": [],
   "source": [
    "plot_zone(df)"
   ]
  },
  {
   "cell_type": "code",
   "execution_count": null,
   "metadata": {},
   "outputs": [],
   "source": [
    "\n",
    "idxs = list()\n",
    "# create our callback function\n",
    "def update_point(trace, points, selector):\n",
    "    print('points {}'.format(points.point_inds) )\n",
    "    idxs.extend(points.point_inds)\n",
    "f = zone_selection(df, update_point)\n",
    "f"
   ]
  },
  {
   "cell_type": "code",
   "execution_count": null,
   "metadata": {},
   "outputs": [],
   "source": [
    "df_chosen = df.iloc[idxs]\n",
    "df_chosen.shape"
   ]
  },
  {
   "cell_type": "code",
   "execution_count": null,
   "metadata": {},
   "outputs": [],
   "source": [
    "bcr_5p = base_calling_random(df_chosen)\n",
    "plt, _ = plot_basecalling(*bcr_5p, annotate=False)"
   ]
  },
  {
   "cell_type": "code",
   "execution_count": null,
   "metadata": {},
   "outputs": [],
   "source": [
    "def process_slopes(df, mass_pairs, radius=0.25, median=-1):\n",
    "    slopes = list()\n",
    "    for t in mass_pairs:\n",
    "        df_pair = df[df.Mass.isin(t)]\n",
    "        if df_pair.empty:\n",
    "            continue\n",
    "        \n",
    "        slope = 1E3 * (df_pair.iloc[0].RT - df_pair.iloc[1].RT)/(df_pair.iloc[0].Mass - df_pair.iloc[1].Mass)\n",
    "        if 0. < slope < float('inf'):\n",
    "            slopes.append(slope)\n",
    "    if median < 0:\n",
    "        median = np.median(slopes)\n",
    "    lo = median - radius\n",
    "    lo = lo if lo > 0 else 0\n",
    "    hi = median + radius\n",
    "#     median = slope_range(slopes, radius * 2)\n",
    "#     if not median:\n",
    "#         return None\n",
    "#     lo = median.lo\n",
    "#     hi = median.hi\n",
    "#     ranges = slope_ranges(slopes)\n",
    "        \n",
    "    count = 0\n",
    "    count_ignore = 0\n",
    "    accepted_pairs = list()\n",
    "    for t in mass_pairs:\n",
    "        df_pair = df[df.Mass.isin(t)]\n",
    "        if df_pair.empty:\n",
    "            continue\n",
    "        \n",
    "        slope = 1E3 * (df_pair.iloc[0].RT - df_pair.iloc[1].RT)/(df_pair.iloc[0].Mass - df_pair.iloc[1].Mass)\n",
    "#         if slope > 0.:\n",
    "        if lo < slope < hi:\n",
    "#         if any([i[0] < slope < i[1] for i in ranges]):\n",
    "            slopes.append(slope)\n",
    "#             plt.plot(df_pair.Mass, df_pair.RT, 'green')\n",
    "            count += 1\n",
    "            accepted_pairs.append(df_pair)\n",
    "        else:\n",
    "            count_ignore += 1\n",
    "    \n",
    "#     print('median {:.2f} lo-hi {:.3f}-{:.3f} accept {} reject {}'.format((lo+hi)/2, lo, hi, count, count_ignore))\n",
    "    print('accept {} reject {}'.format(count, count_ignore))\n",
    "    return accepted_pairs"
   ]
  },
  {
   "cell_type": "code",
   "execution_count": null,
   "metadata": {},
   "outputs": [],
   "source": [
    "def slope_ranges(l, ratio=0.5, top=2):\n",
    "    print(l)\n",
    "    hist = np.histogram(l, bins='auto')\n",
    "    max_bin_count = max(hist[0])\n",
    "    loc_counts = list(enumerate(hist[0]))\n",
    "    top_loc_counts = [i for i in loc_counts if i[1] > max_bin_count * ratio]\n",
    "    top_loc_counts = sorted(top_loc_counts, key=lambda x: x[1], reverse=True)[:top]\n",
    "    ranges = [(hist[1][i[0]], hist[1][i[0]+1]) for i in top_loc_counts]\n",
    "    print(ranges)\n",
    "    return ranges"
   ]
  },
  {
   "cell_type": "code",
   "execution_count": null,
   "metadata": {},
   "outputs": [],
   "source": [
    "win_pos = 200\n",
    "win_size = 600\n",
    "TOP = 2\n",
    "pairs = list()\n",
    "while win_pos + win_size < df.Mass.max():\n",
    "    df_win = df_chosen[(df_chosen.Mass > win_pos) & (df_chosen.Mass < win_pos + win_size)]\n",
    "#     print(df_win.shape)\n",
    "    if df_win.shape[0] > 1:\n",
    "#         continue\n",
    "        print('win {}-{}'.format(win_pos, win_pos+win_size))\n",
    "        slope, _ = np.polyfit(df_win.Mass, df_win.RT, 1)\n",
    "        slope = slope * 1E3\n",
    "        print(slope)\n",
    "        bcr_5p = base_calling_random(df_win, silence=True)\n",
    "        accepted_pairs = process_slopes(*bcr_5p, radius=0.40, median=-1)\n",
    "        if accepted_pairs:\n",
    "            pairs.extend(accepted_pairs)\n",
    "    win_pos += 100"
   ]
  },
  {
   "cell_type": "code",
   "execution_count": null,
   "metadata": {},
   "outputs": [],
   "source": [
    "import matplotlib.pyplot as plt\n",
    "plt.figure(figsize=(16, 12))\n",
    "plt.xlabel('Monoisotopic Mass (Da)', fontname=\"Arial\", fontsize=15, color='black')\n",
    "plt.ylabel('Retention Time (min)', fontname=\"Arial\", fontsize=15, color='black')\n",
    "plt.xticks(fontname=\"Arial\", size=13, color='black')\n",
    "plt.yticks(fontname=\"Arial\", size=13, color='black')\n",
    "plt.scatter(df.Mass, df.RT)\n",
    "for pair in pairs:\n",
    "    plt.plot(pair.Mass, pair.RT, color='g')\n",
    "plt.savefig('/Users/bryan/Downloads/3mix.png', transparent=True)\n",
    "# plt.savefig('/Users/bryan/Downloads/total_line_only.png', transparent=True)"
   ]
  },
  {
   "cell_type": "code",
   "execution_count": null,
   "metadata": {},
   "outputs": [],
   "source": [
    "df_all = pd.concat(pairs)\n",
    "df_all.shape\n",
    "df_all.drop_duplicates(inplace=True)\n",
    "df_all.shape"
   ]
  },
  {
   "cell_type": "code",
   "execution_count": null,
   "metadata": {},
   "outputs": [],
   "source": [
    "bcr = base_calling_random(df_all)\n",
    "plt, _ = plot_basecalling(*bcr, annotate=False)"
   ]
  },
  {
   "cell_type": "code",
   "execution_count": null,
   "metadata": {},
   "outputs": [],
   "source": [
    "bcr[0].to_excel('/Users/bryan/Downloads/total_sliding_win.xlsx')"
   ]
  },
  {
   "cell_type": "code",
   "execution_count": null,
   "metadata": {},
   "outputs": [],
   "source": [
    "win_pos = 200\n",
    "win_size = 600\n",
    "TOP = 2\n",
    "pairs = list()\n",
    "while win_pos + win_size < df_all.Mass.max():\n",
    "    df_win = df_all[(df_all.Mass > win_pos) & (df_all.Mass < win_pos + win_size)]\n",
    "#     print(df_win.shape)\n",
    "    if df_win.shape[0] > 1:\n",
    "#         continue\n",
    "        print('win {}-{}'.format(win_pos, win_pos+win_size))\n",
    "        slope, _ = np.polyfit(df_win.Mass, df_win.RT, 1)\n",
    "        slope = slope * 1E3\n",
    "        print(slope)\n",
    "        bcr_5p = base_calling_random(df_win, silence=True)\n",
    "        accepted_pairs = process_slopes(*bcr_5p, radius=0.40, median=-1)\n",
    "        if accepted_pairs:\n",
    "            pairs.extend(accepted_pairs)\n",
    "    win_pos += 100\n",
    "\n",
    "import matplotlib.pyplot as plt\n",
    "plt.figure(figsize=(16, 12))\n",
    "plt.xlabel('Monoisotopic Mass (Da)', fontname=\"Arial\", fontsize=15, color='black')\n",
    "plt.ylabel('Retention Time (min)', fontname=\"Arial\", fontsize=15, color='black')\n",
    "plt.xticks(fontname=\"Arial\", size=13, color='black')\n",
    "plt.yticks(fontname=\"Arial\", size=13, color='black')\n",
    "plt.scatter(df.Mass, df.RT)\n",
    "for pair in pairs:\n",
    "    plt.plot(pair.Mass, pair.RT, color='g')\n",
    "# plt.savefig('/Users/bryan/Downloads/total.png', transparent=True)\n",
    "# plt.savefig('/Users/bryan/Downloads/total_line_only.png', transparent=True)"
   ]
  },
  {
   "cell_type": "code",
   "execution_count": null,
   "metadata": {},
   "outputs": [],
   "source": [
    "\n",
    "idxs = list()\n",
    "# create our callback function\n",
    "def update_point(trace, points, selector):\n",
    "    print('points {}'.format(points.point_inds) )\n",
    "    idxs.extend(points.point_inds)\n",
    "f = zone_selection(df_all, update_point)\n",
    "f"
   ]
  },
  {
   "cell_type": "code",
   "execution_count": null,
   "metadata": {},
   "outputs": [],
   "source": [
    "df_all_chosen = df_all.iloc[idxs]\n",
    "df_all_chosen.shape"
   ]
  },
  {
   "cell_type": "code",
   "execution_count": null,
   "metadata": {},
   "outputs": [],
   "source": [
    "bcr = base_calling_random(df_all_chosen)\n",
    "plt, _ = plot_basecalling(*bcr, annotate=False)"
   ]
  },
  {
   "cell_type": "markdown",
   "metadata": {},
   "source": [
    "# Utils Functions"
   ]
  },
  {
   "cell_type": "code",
   "execution_count": null,
   "metadata": {},
   "outputs": [],
   "source": [
    "def plot_basecalling3(df, mass_pairs, endpoints=pd.DataFrame(), annotate=True, plt=None, median=-1):\n",
    "    if not plt:\n",
    "        plt = matplotlib.pyplot\n",
    "    fig = plt.figure(figsize=(16, 12))\n",
    "    plt.xlabel('Monoisotopic Mass (Da)', fontname=\"Arial\", fontsize=15, color='black')\n",
    "    plt.ylabel('Retention Time (min)', fontname=\"Arial\", fontsize=15, color='black')\n",
    "    plt.xticks(fontname=\"Arial\", size=13, color='black')\n",
    "    plt.yticks(fontname=\"Arial\", size=13, color='black')\n",
    "        \n",
    "    plt.scatter(df.Mass, df.RT)\n",
    "\n",
    "    # calc slopes\n",
    "    slopes = list()\n",
    "    for t in mass_pairs:\n",
    "        df_pair = df[df.Mass.isin(t)]\n",
    "        if df_pair.empty:\n",
    "            continue\n",
    "        \n",
    "        slope = 1E3 * (df_pair.iloc[0].RT - df_pair.iloc[1].RT)/(df_pair.iloc[0].Mass - df_pair.iloc[1].Mass)\n",
    "        if slope > 0.:\n",
    "            slopes.append(slope)\n",
    "    if median < 0:\n",
    "        median = np.median(slopes)\n",
    "    radius = 0.4\n",
    "    lo = median - radius\n",
    "    lo = lo if lo > 0 else 0\n",
    "    hi = median + radius\n",
    "#     median = slope_range(slopes, 0.5)\n",
    "#     if not median:\n",
    "#         return plt, fig\n",
    "#     lo = median.lo\n",
    "#     hi = median.hi\n",
    "        \n",
    "    count = 0\n",
    "    count_ignore = 0\n",
    "    for t in mass_pairs:\n",
    "        df_pair = df[df.Mass.isin(t)]\n",
    "        if df_pair.empty:\n",
    "            continue\n",
    "        \n",
    "        slope = 1E3 * (df_pair.iloc[0].RT - df_pair.iloc[1].RT)/(df_pair.iloc[0].Mass - df_pair.iloc[1].Mass)\n",
    "#         if slope > 0.:\n",
    "        if lo < slope < hi:\n",
    "#             slopes.append(slope)\n",
    "            plt.plot(df_pair.Mass, df_pair.RT, 'green')\n",
    "            count += 1\n",
    "        else:\n",
    "            count_ignore += 1\n",
    "        \n",
    "        if not annotate:\n",
    "            continue\n",
    "            \n",
    "        idmax = df_pair['Mass'].idxmax()\n",
    "        plt.annotate(s=t[2], size=15, xy=(df_pair.loc[idmax].Mass, df_pair.loc[idmax].RT), \n",
    "                     textcoords=\"offset points\", xytext=(-10, 10), ha='center', color='black')\n",
    "        \n",
    "        mass = '{:.2f}'.format(df_pair.loc[idmax].Mass)\n",
    "        plt.annotate(s=mass, size=13, xy=(df_pair.loc[idmax].Mass, df_pair.loc[idmax].RT), \n",
    "                     textcoords=\"offset points\", xytext=(10, -20), ha='center')\n",
    "\n",
    "    print('median {:.2f} lo-hi {:.3f}-{:.3f} accept {} reject {}'.format((lo+hi)/2, lo, hi, count, count_ignore))\n",
    "    print(slopes)\n",
    "    if not endpoints.empty:\n",
    "        plt.scatter(endpoints.Mass, endpoints.RT, color='r')\n",
    "        print(endpoints[['Mass', 'RT', 'Vol']])\n",
    "    return plt, fig"
   ]
  },
  {
   "cell_type": "markdown",
   "metadata": {},
   "source": [
    "# Single Window"
   ]
  },
  {
   "cell_type": "code",
   "execution_count": null,
   "metadata": {},
   "outputs": [],
   "source": [
    "win_pos = 2100\n",
    "win_size = 600"
   ]
  },
  {
   "cell_type": "code",
   "execution_count": null,
   "metadata": {},
   "outputs": [],
   "source": [
    "df_win = df_chosen[(df_chosen.Mass > win_pos) & (df_chosen.Mass < win_pos + win_size)]\n",
    "df_win.shape"
   ]
  },
  {
   "cell_type": "code",
   "execution_count": null,
   "metadata": {},
   "outputs": [],
   "source": [
    "plt = plot_zones(df_chosen, df_win)"
   ]
  },
  {
   "cell_type": "code",
   "execution_count": null,
   "metadata": {},
   "outputs": [],
   "source": [
    "plt = plot_zone(df_win, trend=True)\n",
    "slope, _ = np.polyfit(df_win.Mass, df_win.RT, 1)\n",
    "slope = slope * 1E3\n",
    "print(slope)"
   ]
  },
  {
   "cell_type": "code",
   "execution_count": null,
   "metadata": {},
   "outputs": [],
   "source": [
    "def calc_slope(df, mass_pairs):\n",
    "    masses = list(set(sum(mass_pairs, ())))\n",
    "    df_basecalls = df[df.Mass.isin(masses)]\n",
    "    slope, _ = np.polyfit(df_basecalls.Mass, df_basecalls.RT, 1)\n",
    "    slope = slope * 1E3\n",
    "    print(slope)\n",
    "    return df_basecalls, slope"
   ]
  },
  {
   "cell_type": "code",
   "execution_count": null,
   "metadata": {},
   "outputs": [],
   "source": [
    "bcr_5p = base_calling_random(df_win, silence=True)\n",
    "df_bc, slope = calc_slope(*bcr_5p)\n",
    "# plt, _ = plot_basecalling(*bcr_5p, annotate=False)\n",
    "plt, _ = plot_basecalling3(*bcr_5p, annotate=False, median=slope)\n",
    "plt.scatter(df_win.Mass, df_win.RT, color='C0')\n",
    "plt.savefig('/Users/bryan/Downloads/win.png', transparent=True)"
   ]
  },
  {
   "cell_type": "code",
   "execution_count": null,
   "metadata": {},
   "outputs": [],
   "source": [
    "plot_zone(df_bc, trend=True)\n",
    "slope, _ = np.polyfit(df_bc.Mass, df_bc.RT, 1)\n",
    "print(slope * 1E3)"
   ]
  },
  {
   "cell_type": "code",
   "execution_count": null,
   "metadata": {},
   "outputs": [],
   "source": [
    "# fig = px.scatter(x=df_win.Mass, y=df_win.RT)\n",
    "# fig.show()"
   ]
  },
  {
   "cell_type": "code",
   "execution_count": null,
   "metadata": {},
   "outputs": [],
   "source": []
  }
 ],
 "metadata": {
  "kernelspec": {
   "display_name": "Python 3",
   "language": "python",
   "name": "python3"
  },
  "language_info": {
   "codemirror_mode": {
    "name": "ipython",
    "version": 3
   },
   "file_extension": ".py",
   "mimetype": "text/x-python",
   "name": "python",
   "nbconvert_exporter": "python",
   "pygments_lexer": "ipython3",
   "version": "3.7.3"
  }
 },
 "nbformat": 4,
 "nbformat_minor": 4
}
