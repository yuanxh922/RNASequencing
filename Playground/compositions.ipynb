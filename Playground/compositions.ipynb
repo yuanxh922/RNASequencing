{
 "cells": [
  {
   "cell_type": "code",
   "execution_count": 1,
   "metadata": {},
   "outputs": [],
   "source": [
    "import pandas as pd\n",
    "import numpy as np\n",
    "from itertools import permutations, product, combinations"
   ]
  },
  {
   "cell_type": "code",
   "execution_count": 3,
   "metadata": {},
   "outputs": [],
   "source": [
    "df_mod = pd.read_csv('mod.csv')\n",
    "df_mod.columns\n",
    "mod_mass_list = pd.unique(df_mod['Exact Mass'])\n",
    "df_mod.rename(columns={'Exact Mass': 'Mass'}, inplace=True)"
   ]
  },
  {
   "cell_type": "code",
   "execution_count": 4,
   "metadata": {},
   "outputs": [],
   "source": [
    "def ppm2dm(m, ppm=10):\n",
    "    return (m*ppm)/1E6"
   ]
  },
  {
   "cell_type": "code",
   "execution_count": 22,
   "metadata": {},
   "outputs": [],
   "source": [
    "def get_permutations(m, n):\n",
    "    l = list(product(range(m+1), repeat=n))\n",
    "    l = [i for i in l if sum(i) in range(m-3, m+2) and i[2] > 0]\n",
    "    l = np.array(l)\n",
    "    return l"
   ]
  },
  {
   "cell_type": "code",
   "execution_count": 23,
   "metadata": {},
   "outputs": [],
   "source": [
    "def handle_4bases(mass, masses=[329.0525, 305.0413, 345.0474, 306.0253]):\n",
    "    size = int(mass/320)\n",
    "    perms = get_permutations(size, len(masses))\n",
    "    seq_masses = np.matmul(perms, masses)\n",
    "    seq_masses_pd = pd.Series(seq_masses)\n",
    "    res_masses = perms.copy()\n",
    "    res_masses = pd.DataFrame(res_masses)\n",
    "#     print(res_masses.index)\n",
    "#     print(seq_masses_pd.index)\n",
    "    res_masses['Mass'] = seq_masses_pd\n",
    "    return res_masses[res_masses.Mass <= mass+1]\n",
    "#     return seq_masses[seq_masses <= mass+1]"
   ]
  },
  {
   "cell_type": "code",
   "execution_count": 24,
   "metadata": {},
   "outputs": [],
   "source": [
    "def find_mass_in_df(mass, df, ppm=10):\n",
    "    dm = ppm2dm(mass, ppm)\n",
    "    low, high = mass - dm, mass + dm\n",
    "#     print(\"low {} high {}\".format(low, high))\n",
    "    return df[(df.Mass>low) & (df.Mass<high)]\n",
    "#     mask = np.ma.masked_inside(ds, low, high).mask\n",
    "#     return ds[mask]"
   ]
  },
  {
   "cell_type": "code",
   "execution_count": 25,
   "metadata": {},
   "outputs": [],
   "source": [
    "dfm_rows = list(dfm.iterrows())\n",
    "mass_cb = list()\n",
    "mass_cb.extend(list(combinations(dfm_rows, 1)))\n",
    "mass_cb.extend(list(combinations(dfm_rows, 2)))\n",
    "mass_cb.extend(list(combinations(dfm_rows, 3)))"
   ]
  },
  {
   "cell_type": "code",
   "execution_count": 26,
   "metadata": {},
   "outputs": [
    {
     "data": {
      "text/plain": [
       "[(308.0409525, [4]), (319.0569369, [2]), (320.0409525, [3]), (330.03654, [12])]"
      ]
     },
     "execution_count": 26,
     "metadata": {},
     "output_type": "execute_result"
    }
   ],
   "source": [
    "mass_cb_sum = [(sum([item[1].Mass for item in row]), [item[0] for item in row]) for row in mass_cb]\n",
    "mass_cb_sum.sort()\n",
    "mass_cb_sum[:4]"
   ]
  },
  {
   "cell_type": "code",
   "execution_count": 28,
   "metadata": {},
   "outputs": [
    {
     "name": "stdout",
     "output_type": "stream",
     "text": [
      "found 43 possibilities\n",
      "\n",
      "1A 8C 1G 5U m3C\n",
      "1A 9C 1G 4U m5U\n",
      "0A 9C 1G 5U m1A\n",
      "0A 10C 1G 4U m1I\n",
      "1A 0C 8G 5U m1I\n",
      "0A 9C 1G 4U m3C I\n",
      "0A 10C 1G 3U m5U I\n",
      "1A 0C 8G 4U m5U I\n",
      "0A 0C 8G 5U m1A I\n",
      "0A 1C 8G 4U m1I I\n",
      "1A 0C 7G 5U m1G I\n",
      "0A 0C 6G 7U hU ms2i6A\n",
      "0A 0C 5G 8U ac4C ms2i6A\n",
      "1A 2C 3G 7U m22G t6A\n",
      "2A 0C 6G 4U ac4C m5U m1I\n",
      "1A 0C 6G 5U ac4C m1A m1I\n",
      "2A 0C 5G 5U m1G ac4C m1I\n",
      "2A 0C 5G 5U ac4C m22G I\n",
      "1A 0C 4G 7U hU t6A I\n",
      "1A 1C 4G 6U m3C m5U t6A\n",
      "2A 1C 3G 6U ac4C hU t6A\n",
      "0A 0C 4G 8U m3C m22G ms2i6A\n",
      "0A 1C 4G 7U m3C m1A t6A\n",
      "0A 1C 4G 7U m5U m22G ms2i6A\n",
      "0A 2C 4G 6U m3C t6A m1I\n",
      "0A 2C 4G 6U m5U m1A t6A\n",
      "0A 3C 4G 5U m5U t6A m1I\n",
      "1A 1C 3G 7U m1G m3C t6A\n",
      "1A 2C 3G 6U m1G m5U t6A\n",
      "2A 0C 2G 8U m5U m22G t6A\n",
      "0A 1C 3G 8U m1G m22G ms2i6A\n",
      "0A 2C 3G 7U m1G m1A t6A\n",
      "0A 3C 3G 6U m1G t6A m1I\n",
      "0A 3C 3G 6U m22G t6A I\n",
      "1A 0C 2G 9U m22G m1A t6A\n",
      "1A 0C 2G 9U m3C i6A t6A\n",
      "1A 1C 2G 8U m22G t6A m1I\n",
      "1A 1C 2G 8U m5U i6A t6A\n",
      "2A 0C 1G 9U m1G m22G t6A\n",
      "2A 2C 1G 7U hU yW I\n",
      "0A 1C 2G 9U i6A m1A t6A\n",
      "0A 2C 2G 8U i6A t6A m1I\n",
      "1A 1C 1G 9U m1G i6A t6A\n",
      "\n"
     ]
    }
   ],
   "source": [
    "# mass = 2567.37756\n",
    "mass = 4963.6122\n",
    "# mass = 9183.4049\n",
    "# mass = 13395.9393\n",
    "seq_masses = handle_4bases(mass)\n",
    "len(seq_masses)\n",
    "\n",
    "diff = seq_masses\n",
    "diff['Mass'] = mass - seq_masses['Mass']\n",
    "# diff = pd.Series(diff)\n",
    "# diff = diff[(diff.Mass > df_mod.Mass.min()) & (diff.Mass < df_mod.Mass.max())]\n",
    "valid_diff = diff[diff.Mass > df_mod.Mass.min()]\n",
    "# valid_diff.sort()\n",
    "# valid_diff\n",
    "\n",
    "count = 0\n",
    "full_msg = \"\"\n",
    "for idx, item in enumerate(mass_cb_sum):\n",
    "    found = find_mass_in_df(item[0], valid_diff, 25)\n",
    "    valid_found = found.dropna()\n",
    "    if valid_found.size > 0:\n",
    "#         print(\"found {} \\n valid_found--->\\n{}\\n<---\".format(mass_cb_sum[idx], valid_found.iloc[:, 0:4]))\n",
    "        index = mass_cb_sum[idx][1]\n",
    "#         print(list(dfm.loc[index]['Symbol']))\n",
    "        \n",
    "        for idx, row in valid_found.iterrows():\n",
    "            msg = \"{}A {}C {}G {}U \".format(int(row[0]), int(row[1]), int(row[2]), int(row[3])) \n",
    "            msg += \"{}\\n\".format(' '.join(list(dfm.loc[index]['Symbol'])))\n",
    "            full_msg += msg\n",
    "            count += 1\n",
    "\n",
    "print(\"found {} possibilities\\n\".format(count))\n",
    "print(full_msg)"
   ]
  },
  {
   "cell_type": "code",
   "execution_count": null,
   "metadata": {},
   "outputs": [],
   "source": []
  }
 ],
 "metadata": {
  "kernelspec": {
   "display_name": "Python 3",
   "language": "python",
   "name": "python3"
  },
  "language_info": {
   "codemirror_mode": {
    "name": "ipython",
    "version": 3
   },
   "file_extension": ".py",
   "mimetype": "text/x-python",
   "name": "python",
   "nbconvert_exporter": "python",
   "pygments_lexer": "ipython3",
   "version": "3.7.3"
  }
 },
 "nbformat": 4,
 "nbformat_minor": 4
}
