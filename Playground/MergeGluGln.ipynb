{
 "cells": [
  {
   "cell_type": "code",
   "execution_count": null,
   "id": "prompt-radical",
   "metadata": {},
   "outputs": [],
   "source": [
    "import pandas as pd\n",
    "import matplotlib\n",
    "import plotly.express as px\n",
    "import matplotlib.pyplot as plt"
   ]
  },
  {
   "cell_type": "code",
   "execution_count": null,
   "id": "atmospheric-worth",
   "metadata": {},
   "outputs": [],
   "source": [
    "%run ../modules/utils.ipynb\n",
    "%run ../modules/cds.ipynb\n",
    "%run ../modules/preprocessing.ipynb"
   ]
  },
  {
   "cell_type": "code",
   "execution_count": null,
   "id": "commercial-senegal",
   "metadata": {},
   "outputs": [],
   "source": [
    "path = \"/Users/bryan/Documents/ChenLab/DataYue/\"\n",
    "\"\"\"\n",
    "A_Gln:\n",
    "DrChen_tRNA_A_Gln.xlsx\t\t\tDrChen_tRNA_A_Gln_FA.xlsx\n",
    "DrChen_tRNA_A_Gln_A.xlsx\t\tDrChen_tRNA_A_Gln_FA_13_Batch2.xlsx\n",
    "DrChen_tRNA_A_Gln_A_FA.xlsx\n",
    "\n",
    "B_Gln:\n",
    "7_B_Gln.xlsx\t\t\t\tDrChen_tRNA_B_Gln_A_FA_20_Batch2.xlsx\n",
    "8_B_Gln_A.xlsx\t\t\t\tDrChen_tRNA_B_Gln_FA.xlsx\n",
    "B_Gln_Summary.docx\t\t\tDrChen_tRNA_B_Gln_FA_19_Batch2.xlsx\n",
    "DrChen_tRNA_B_Gln_A_FA.xlsx\n",
    "\"\"\"\n",
    "df1 = pd.read_excel('{}/{}/{}.xlsx'.format(path,'A_Gln', 'DrChen_tRNA_A_Gln'))\n",
    "df2 = pd.read_excel('{}/{}/{}.xlsx'.format(path,'A_Gln', 'DrChen_tRNA_A_Gln_A'))\n",
    "df13 = pd.read_excel('{}/{}/{}.xlsx'.format(path,'A_Gln', 'DrChen_tRNA_A_Gln_FA'))\n",
    "df13_2 = pd.read_excel('{}/{}/{}.xlsx'.format(path,'A_Gln', 'DrChen_tRNA_A_Gln_FA_13_Batch2'))\n",
    "df14 = pd.read_excel('{}/{}/{}.xlsx'.format(path,'A_Gln', 'DrChen_tRNA_A_Gln_A_FA'))\n",
    "\n",
    "df7 = pd.read_excel('{}/{}/{}.xlsx'.format(path,'B_Gln', '7_B_Gln'))\n",
    "df8 = pd.read_excel('{}/{}/{}.xlsx'.format(path,'B_Gln', '8_B_Gln_A'))\n",
    "df19 = pd.read_excel('{}/{}/{}.xlsx'.format(path,'B_Gln', 'DrChen_tRNA_B_Gln_FA'))\n",
    "df19_2 = pd.read_excel('{}/{}/{}.xlsx'.format(path,'B_Gln', 'DrChen_tRNA_B_Gln_FA_19_Batch2'))\n",
    "df20 = pd.read_excel('{}/{}/{}.xlsx'.format(path,'B_Gln', 'DrChen_tRNA_B_Gln_A_FA'))\n",
    "df20_2 = pd.read_excel('{}/{}/{}.xlsx'.format(path,'B_Gln', 'DrChen_tRNA_B_Gln_A_FA_20_Batch2'))\n",
    "\n",
    "df1 = thermo_df(df1)\n",
    "df2 = thermo_df(df2)\n",
    "df13 = thermo_df(df13)\n",
    "df13_2 = thermo_df(df13_2)\n",
    "df14 = thermo_df(df14)\n",
    "\n",
    "df7 = thermo_df(df7)\n",
    "df8 = thermo_df(df8)\n",
    "df19 = thermo_df(df19)\n",
    "df19_2 = thermo_df(df19_2)\n",
    "df20 = thermo_df(df20)\n",
    "df20_2 = thermo_df(df20_2)"
   ]
  },
  {
   "cell_type": "code",
   "execution_count": null,
   "id": "wound-captain",
   "metadata": {},
   "outputs": [],
   "source": [
    "### Glu\n",
    "path1 = '/Users/bryan/Documents/Data/UC'\n",
    "path2 = '/Users/bryan/Documents/ChenLab/10Jun2021/'\n",
    "\n",
    "df_glu0_ctrl = pd.read_excel('{}/{}.xlsx'.format(path1, 'UC_Glu_1'))\n",
    "# df_glu0_ctrl = load_uc_glu(1)\n",
    "df_glu0_ctrl_alkb = pd.read_excel('{}/{}.xlsx'.format(path1, 'UC_Glu_2'))\n",
    "# df_glu0_ctrl_alkb = load_uc_glu(2)\n",
    "# plotly_zone(df_glu0_ctrl)\n",
    "\n",
    "df_glu1_ctrl = pd.read_excel('{}/{}/{}.xlsx'.format(path2, 'intact', '5_A_Glu'))\n",
    "# df_glu1_ctrl = load_uc2(5, intact=True)\n",
    "df_glu1_ctrl_alkb = pd.read_excel('{}/{}/{}.xlsx'.format(path2, 'intact', '6_A_Glu_A'))\n",
    "# df_glu1_ctrl_alkb = load_uc2(6, intact=True)\n",
    "# plotly_zone(df_glu1_ctrl)\n",
    "\n",
    "df_glu0 = pd.read_excel('/Users/bryan/Documents/Data/UC/UC_glu_5_rosa.xlsx')\n",
    "\n",
    "df_glu1 = pd.read_excel('{}/{}/{}.xlsx'.format(path2, 'degraded', '17_Glu'))\n",
    "# df_glu1 = load_uc2(17)\n",
    "\n",
    "df_glu2 = pd.read_excel('{}/{}/{}.xlsx'.format(path2, 'degraded', 'DrChen_tRNA_A_Glu_FA_17'))\n",
    "# df_glu2 = pd.read_excel('/Users/bryan/Documents/ChenLab/10Jun2021/degraded/DrChen_tRNA_A_Glu_FA_17.xlsx')\n",
    "\n",
    "df_glu0_ctrl = thermo_df(df_glu0_ctrl)\n",
    "df_glu0_ctrl_alkb = thermo_df(df_glu0_ctrl_alkb)\n",
    "df_glu1_ctrl = thermo_df(df_glu1_ctrl)\n",
    "\n",
    "df_glu0 = thermo_df(df_glu0)\n",
    "df_glu1 = thermo_df(df_glu1)\n",
    "df_glu2 = thermo_df(df_glu2)"
   ]
  },
  {
   "cell_type": "code",
   "execution_count": null,
   "id": "surface-nicaragua",
   "metadata": {},
   "outputs": [],
   "source": [
    "plotly_zone(df13_2[df13_2.Mass>23000], y='Vol')\n",
    "plotly_zone(df_glu0[df_glu0.Mass>23000], y='Vol')"
   ]
  },
  {
   "cell_type": "code",
   "execution_count": null,
   "id": "civil-audio",
   "metadata": {},
   "outputs": [],
   "source": [
    "# df13_2, df_glu_0\n",
    "dfa, dfb = df13_2, df_glu2\n",
    "df_src = pd.concat([dfa, dfb]).reset_index()\n",
    "plotly_zones(dfa, dfb)"
   ]
  },
  {
   "cell_type": "code",
   "execution_count": null,
   "id": "material-boring",
   "metadata": {},
   "outputs": [],
   "source": [
    "isoform_dot = df13[df13.Mass>23000].sort_values('Vol', ascending=False).iloc[:5]\n",
    "fullmass = isoform_dot.iloc[0].Mass\n",
    "fullmass, isoform_dot"
   ]
  },
  {
   "cell_type": "code",
   "execution_count": null,
   "id": "opposite-january",
   "metadata": {},
   "outputs": [],
   "source": []
  },
  {
   "cell_type": "code",
   "execution_count": null,
   "id": "announced-tooth",
   "metadata": {},
   "outputs": [],
   "source": [
    "df_5p3p, _ = computational_data_seperation(df_src, df_src, fullmass)\n",
    "plotly_zone(df_5p3p)"
   ]
  },
  {
   "cell_type": "code",
   "execution_count": null,
   "id": "framed-textbook",
   "metadata": {},
   "outputs": [],
   "source": [
    "# df_5p3p_top = df_5p3p.sort_values('Vol', ascending=False).iloc[:df_5p3p.shape[0]//3]\n",
    "# plotly_zone(df_5p3p_top)"
   ]
  },
  {
   "cell_type": "code",
   "execution_count": null,
   "id": "voluntary-belief",
   "metadata": {},
   "outputs": [],
   "source": [
    "df_local_top = local_top(df_5p3p, top=1)\n",
    "plotly_zone(df_local_top, y='RT')"
   ]
  },
  {
   "cell_type": "code",
   "execution_count": null,
   "id": "delayed-render",
   "metadata": {},
   "outputs": [],
   "source": [
    "idxs = list()\n",
    "# create our callback function\n",
    "def on_selection(trace, points, selector):\n",
    "    print('points {}'.format(points.point_inds) )\n",
    "    idxs.extend(points.point_inds)\n",
    "\n",
    "def on_click(trace, points, selector):\n",
    "#     print('points {}'.format(points.point_inds) )\n",
    "    idxs.extend(points.point_inds)\n",
    "\n",
    "df_sample = df_local_top\n",
    "f = zone_selection(df_sample, on_selection=on_selection, on_click=on_click)\n",
    "f"
   ]
  },
  {
   "cell_type": "code",
   "execution_count": null,
   "id": "worldwide-andrews",
   "metadata": {},
   "outputs": [],
   "source": [
    "df_chosen = df_sample.iloc[idxs]\n",
    "df_chosen.shape"
   ]
  },
  {
   "cell_type": "code",
   "execution_count": null,
   "id": "ranging-agent",
   "metadata": {},
   "outputs": [],
   "source": [
    "df_5p_skeleton = df_chosen.copy()"
   ]
  },
  {
   "cell_type": "code",
   "execution_count": null,
   "id": "attempted-tourism",
   "metadata": {},
   "outputs": [],
   "source": [
    "df_gap_dots_5p = find_gap_dots(df_src, df_5p_skeleton, isoform_dot.iloc[:1], major=True, stop_at=16000)"
   ]
  },
  {
   "cell_type": "code",
   "execution_count": null,
   "id": "further-wright",
   "metadata": {},
   "outputs": [],
   "source": [
    "plotly_zones(df_5p_skeleton, df_gap_dots_5p)"
   ]
  },
  {
   "cell_type": "code",
   "execution_count": null,
   "id": "nervous-cable",
   "metadata": {},
   "outputs": [],
   "source": [
    "df_top = local_top(df_src, top=3)\n",
    "# plotly_zones(df_src, df_top, y='RT')\n",
    "plotly_zone(df_top)\n",
    "plotly_zone(df_top[df_top.Mass>1500], y='Vol')"
   ]
  },
  {
   "cell_type": "code",
   "execution_count": null,
   "id": "severe-coast",
   "metadata": {},
   "outputs": [],
   "source": [
    "dfm = match_dfs(df_top, df_top, shift=K)\n",
    "plotly_zones(df_top, dfm)\n",
    "plotly_zone(df_top.drop(dfm.index))"
   ]
  },
  {
   "cell_type": "code",
   "execution_count": null,
   "id": "artificial-thesis",
   "metadata": {},
   "outputs": [],
   "source": [
    "bcr = base_calling_random(df_top)"
   ]
  },
  {
   "cell_type": "code",
   "execution_count": null,
   "id": "restricted-powder",
   "metadata": {},
   "outputs": [],
   "source": [
    "plotly_basecalling(*bcr)"
   ]
  },
  {
   "cell_type": "code",
   "execution_count": null,
   "id": "valued-leave",
   "metadata": {},
   "outputs": [],
   "source": [
    "idxs = list()\n",
    "# create our callback function\n",
    "def on_selection(trace, points, selector):\n",
    "    print('points {}'.format(points.point_inds) )\n",
    "    idxs.extend(points.point_inds)\n",
    "\n",
    "def on_click(trace, points, selector):\n",
    "#     print('points {}'.format(points.point_inds) )\n",
    "    idxs.extend(points.point_inds)\n",
    "\n",
    "df_sample = df_top\n",
    "f = zone_selection(df_sample, on_selection=on_selection, on_click=on_click)\n",
    "f"
   ]
  },
  {
   "cell_type": "code",
   "execution_count": null,
   "id": "conventional-belarus",
   "metadata": {},
   "outputs": [],
   "source": [
    "df_chosen = df_sample.iloc[idxs]\n",
    "df_chosen.shape"
   ]
  },
  {
   "cell_type": "code",
   "execution_count": null,
   "id": "liable-wagner",
   "metadata": {},
   "outputs": [],
   "source": [
    "df_3p_skeleton = df_chosen.copy()\n",
    "plotly_zone(df_3p_skeleton)"
   ]
  },
  {
   "cell_type": "code",
   "execution_count": null,
   "id": "surprised-danger",
   "metadata": {},
   "outputs": [],
   "source": [
    "\n",
    "df_gap_dots_3p = find_gap_dots(df_src, df_3p_skeleton, isoform_dot.iloc[:1], orientation=3)\n",
    "# df_gap_dots.shape[0]"
   ]
  },
  {
   "cell_type": "code",
   "execution_count": null,
   "id": "promising-bidder",
   "metadata": {},
   "outputs": [],
   "source": [
    "plotly_zones(df_3p_skeleton, df_gap_dots_3p)"
   ]
  },
  {
   "cell_type": "code",
   "execution_count": null,
   "id": "continent-thumbnail",
   "metadata": {},
   "outputs": [],
   "source": []
  }
 ],
 "metadata": {
  "kernelspec": {
   "display_name": "Python 3",
   "language": "python",
   "name": "python3"
  },
  "language_info": {
   "codemirror_mode": {
    "name": "ipython",
    "version": 3
   },
   "file_extension": ".py",
   "mimetype": "text/x-python",
   "name": "python",
   "nbconvert_exporter": "python",
   "pygments_lexer": "ipython3",
   "version": "3.7.3"
  }
 },
 "nbformat": 4,
 "nbformat_minor": 5
}
