{
 "cells": [
  {
   "cell_type": "markdown",
   "metadata": {},
   "source": [
    "# export top 1K Vol"
   ]
  },
  {
   "cell_type": "code",
   "execution_count": null,
   "metadata": {},
   "outputs": [],
   "source": [
    "import pandas as pd\n",
    "import matplotlib.pyplot as plt"
   ]
  },
  {
   "cell_type": "code",
   "execution_count": null,
   "metadata": {},
   "outputs": [],
   "source": [
    "# df = pd.read_excel('/Users/bryan/Downloads/SLZ_200313_10_0606.xls')\n",
    "# df = pd.read_excel('/Users/bryan/Documents/SeqDataSets/5mix.xlsx')\n",
    "# df = pd.read_excel('/Users/bryan/Documents/SeqDataSets/200313/200313s15_100.xls')\n",
    "# df = pd.read_csv('/Users/bryan/Documents/SeqDataSets/12mix/12mix.csv')\n",
    "# df = pd.read_excel('/Users/bryan/Documents/SeqDataSets/signal_to_noise_20/SLZ_200313_09_0610_20.xls')\n",
    "df = pd.read_csv('/Users/bryan/Documents/SeqDataSets/signal_to_noise_5/SLZ_200313_s10_0619.csv')\n",
    "# df = pd.read_excel('/Users/bryan/Documents/SeqDataSets/200313/SLZ_200313_s10_0619.csv')\n",
    "# df = pd.read_excel('/Users/bryan/Downloads/oligossample3.xlsx')\n",
    "df.info()"
   ]
  },
  {
   "cell_type": "code",
   "execution_count": null,
   "metadata": {},
   "outputs": [],
   "source": [
    "df.sort_values('Vol', ascending=False)[['Mass', 'RT', 'Vol']]"
   ]
  },
  {
   "cell_type": "code",
   "execution_count": null,
   "metadata": {},
   "outputs": [],
   "source": [
    "plt.figure(figsize=(12, 9))\n",
    "plt.scatter(df.Mass, df.RT)"
   ]
  },
  {
   "cell_type": "code",
   "execution_count": null,
   "metadata": {},
   "outputs": [],
   "source": [
    "df = df[df['Quality Score'] >= 50]\n",
    "df.to_excel('/Users/bryan/Documents/SeqDataSets/signal_to_noise_5/SLZ_200313_s10_0619_qs.xls')\n",
    "df.to_csv('/Users/bryan/Documents/SeqDataSets/signal_to_noise_5/SLZ_200313_s10_0619_qs.csv')"
   ]
  },
  {
   "cell_type": "code",
   "execution_count": null,
   "metadata": {},
   "outputs": [],
   "source": [
    "df.columns"
   ]
  },
  {
   "cell_type": "code",
   "execution_count": null,
   "metadata": {},
   "outputs": [],
   "source": [
    "df.rename(columns={'Monoisotopic Mass': 'Mass'}, inplace=True)"
   ]
  },
  {
   "cell_type": "code",
   "execution_count": null,
   "metadata": {},
   "outputs": [],
   "source": [
    "df.rename(columns={'Sum Intensity': 'Vol', 'Apex RT': 'RT'}, inplace=True)"
   ]
  },
  {
   "cell_type": "code",
   "execution_count": null,
   "metadata": {},
   "outputs": [],
   "source": [
    "df.to_excel('/Users/bryan/Downloads/oligossample3.xlsx')"
   ]
  },
  {
   "cell_type": "code",
   "execution_count": null,
   "metadata": {},
   "outputs": [],
   "source": [
    "df.columns"
   ]
  },
  {
   "cell_type": "code",
   "execution_count": null,
   "metadata": {},
   "outputs": [],
   "source": [
    "name = 'NZ_180830_s06_0616_20'\n",
    "df = pd.read_excel('/Users/bryan/Documents/SeqDataSets/signal_to_noise_20/{}.xls'.format(name))\n",
    "df.rename(columns={'Min Z': 'MinZ', 'Max Z': 'MaxZ'}, inplace=True)\n",
    "df[(abs(df.MinZ) < 15) & (abs(df.MaxZ) < 15)].to_csv('/Users/bryan/Documents/SeqDataSets/signal_to_noise_20/{}_k.csv'.format(name))\n",
    "\n",
    "df[(abs(df.MinZ) < 15) & (abs(df.MaxZ) < 15)].shape"
   ]
  },
  {
   "cell_type": "code",
   "execution_count": null,
   "metadata": {},
   "outputs": [],
   "source": [
    "df = df.sort_values('Vol', ascending=False)"
   ]
  },
  {
   "cell_type": "code",
   "execution_count": null,
   "metadata": {},
   "outputs": [],
   "source": [
    "top = df.iloc[:6000]"
   ]
  },
  {
   "cell_type": "code",
   "execution_count": null,
   "metadata": {},
   "outputs": [],
   "source": [
    "plt.figure(figsize=(12, 9))\n",
    "plt.scatter(top.Mass, top.RT)"
   ]
  },
  {
   "cell_type": "code",
   "execution_count": null,
   "metadata": {},
   "outputs": [],
   "source": [
    "df.info()"
   ]
  },
  {
   "cell_type": "code",
   "execution_count": null,
   "metadata": {},
   "outputs": [],
   "source": [
    "df.rename(columns={'Min Z': 'MinZ', 'Max Z': 'MaxZ'}, inplace=True)\n",
    "df[(abs(df.MinZ) < 15) & (abs(df.MaxZ) < 15)].shape"
   ]
  },
  {
   "cell_type": "code",
   "execution_count": null,
   "metadata": {},
   "outputs": [],
   "source": [
    "df[(abs(df.MinZ) < 15) & (abs(df.MaxZ) < 15)].to_csv('/Users/bryan/Documents/SeqDataSets/signal_to_noise_20/NZ_180521_s06_0610_20_k.xls')"
   ]
  },
  {
   "cell_type": "code",
   "execution_count": null,
   "metadata": {},
   "outputs": [],
   "source": [
    "top.to_excel('/Users/bryan/Downloads/200313s15_100_top_3k.xls')"
   ]
  },
  {
   "cell_type": "markdown",
   "metadata": {},
   "source": [
    "# Dealling with missing dots"
   ]
  },
  {
   "cell_type": "code",
   "execution_count": null,
   "metadata": {},
   "outputs": [],
   "source": [
    "import plotly.express as px"
   ]
  },
  {
   "cell_type": "code",
   "execution_count": null,
   "metadata": {},
   "outputs": [],
   "source": [
    "fig = px.scatter(x=top.Mass, y=top.RT)\n",
    "fig.show()"
   ]
  },
  {
   "cell_type": "code",
   "execution_count": null,
   "metadata": {},
   "outputs": [],
   "source": [
    "import plotly.graph_objects as go\n",
    "\n",
    "x = top.Mass\n",
    "y = top.RT\n",
    "\n",
    "f = go.FigureWidget([go.Scatter(x=x, y=y, mode='markers')])\n",
    "\n",
    "scatter = f.data[0]\n",
    "# colors = ['#a3a7e4'] * 100\n",
    "# scatter.marker.color = colors\n",
    "# scatter.marker.size = [10] * 100\n",
    "# scatter.marker.opacity = 0.5\n",
    "# f.layout.dragmode = 'lasso'\n",
    "\n",
    "idxs_3p = list()\n",
    "\n",
    "# create our callback function\n",
    "def update_point(trace, points, selector):\n",
    "    print('points {}'.format(points.point_inds) )\n",
    "    idxs_3p.extend(points.point_inds)\n",
    "#     c = list(scatter.marker.color)\n",
    "#     s = list(scatter.marker.size)\n",
    "#     for i in points.point_inds:\n",
    "#         c[i] = '#bae2be'\n",
    "#         s[i] = 20\n",
    "#         with f.batch_update():\n",
    "#             scatter.marker.color = c\n",
    "#             scatter.marker.size = s\n",
    "\n",
    "\n",
    "scatter.on_selection(update_point)\n",
    "\n",
    "f"
   ]
  },
  {
   "cell_type": "code",
   "execution_count": null,
   "metadata": {},
   "outputs": [],
   "source": [
    "len(idxs_3p)"
   ]
  },
  {
   "cell_type": "code",
   "execution_count": null,
   "metadata": {},
   "outputs": [],
   "source": [
    "top_3p = top.iloc[idxs_3p]"
   ]
  },
  {
   "cell_type": "code",
   "execution_count": null,
   "metadata": {},
   "outputs": [],
   "source": [
    "top_3p.shape"
   ]
  },
  {
   "cell_type": "code",
   "execution_count": null,
   "metadata": {},
   "outputs": [],
   "source": [
    "top_3p = top_3p.sort_values('Vol', ascending=False)"
   ]
  },
  {
   "cell_type": "code",
   "execution_count": null,
   "metadata": {},
   "outputs": [],
   "source": [
    "top_3p."
   ]
  },
  {
   "cell_type": "code",
   "execution_count": null,
   "metadata": {},
   "outputs": [],
   "source": [
    "idxs_5p = [i for i in range(top.shape[0]) if i not in idxs_3p]\n",
    "len(idxs_5p)"
   ]
  },
  {
   "cell_type": "code",
   "execution_count": null,
   "metadata": {},
   "outputs": [],
   "source": [
    "df_3p = top.iloc[idxs_3p]\n",
    "df_5p = top.iloc[idxs_5p]"
   ]
  },
  {
   "cell_type": "code",
   "execution_count": null,
   "metadata": {},
   "outputs": [],
   "source": [
    "plt.scatter(df_3p.Mass, df_3p.RT)\n",
    "plt.scatter(df_5p.Mass, df_5p.RT, color='r')"
   ]
  },
  {
   "cell_type": "code",
   "execution_count": null,
   "metadata": {},
   "outputs": [],
   "source": [
    "df_3p.to_csv('/Users/bryan/Studio/seq2/3p.csv')\n",
    "df_5p.to_csv('/Users/bryan/Studio/seq2/5p.csv')"
   ]
  },
  {
   "cell_type": "markdown",
   "metadata": {},
   "source": [
    "## select 3' zone"
   ]
  },
  {
   "cell_type": "markdown",
   "metadata": {},
   "source": [
    "## top N from 3' zone"
   ]
  },
  {
   "cell_type": "markdown",
   "metadata": {},
   "source": [
    "## identify 3' fragments, and try to find counterpart 5' fragments"
   ]
  },
  {
   "cell_type": "markdown",
   "metadata": {},
   "source": [
    "## adding missing dots into 5' ladders, by MassSum - Mass3p"
   ]
  },
  {
   "cell_type": "markdown",
   "metadata": {},
   "source": [
    "## adding missing dots into 3' ladders, by MassSum - Mass5p"
   ]
  },
  {
   "cell_type": "markdown",
   "metadata": {},
   "source": [
    "## fill in gap dots, by two-end-points"
   ]
  },
  {
   "cell_type": "code",
   "execution_count": null,
   "metadata": {},
   "outputs": [],
   "source": []
  }
 ],
 "metadata": {
  "kernelspec": {
   "display_name": "Python 3",
   "language": "python",
   "name": "python3"
  },
  "language_info": {
   "codemirror_mode": {
    "name": "ipython",
    "version": 3
   },
   "file_extension": ".py",
   "mimetype": "text/x-python",
   "name": "python",
   "nbconvert_exporter": "python",
   "pygments_lexer": "ipython3",
   "version": "3.7.3"
  }
 },
 "nbformat": 4,
 "nbformat_minor": 4
}
