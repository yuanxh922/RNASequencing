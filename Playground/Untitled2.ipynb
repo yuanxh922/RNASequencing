{
 "cells": [
  {
   "cell_type": "code",
   "execution_count": null,
   "id": "handy-prompt",
   "metadata": {},
   "outputs": [],
   "source": [
    "import pandas as pd"
   ]
  },
  {
   "cell_type": "code",
   "execution_count": null,
   "id": "raised-allergy",
   "metadata": {},
   "outputs": [],
   "source": [
    "%run ../modules/utils.ipynb\n",
    "%run ../modules/cds.ipynb\n",
    "%run ../modules/preprocessing.ipynb"
   ]
  },
  {
   "cell_type": "code",
   "execution_count": null,
   "id": "unique-house",
   "metadata": {},
   "outputs": [],
   "source": [
    "# fpath = '/Users/xyuan/Documents/Data/ZhangLab/20220616_YeastPhe/tRNAphe_AD.xlsx'\n",
    "fpath = '/Users/xyuan/Downloads/PheAD1C.xlsx'\n",
    "df = pd.read_excel(fpath)"
   ]
  },
  {
   "cell_type": "code",
   "execution_count": null,
   "id": "related-hamilton",
   "metadata": {},
   "outputs": [],
   "source": [
    "df.head()"
   ]
  },
  {
   "cell_type": "code",
   "execution_count": null,
   "id": "dried-procedure",
   "metadata": {},
   "outputs": [],
   "source": [
    "df.rename(columns={'Monoisotopic Mass': 'Mass', 'Apex RT': 'RT', 'Sum Intensity': 'Vol'}, inplace=True)"
   ]
  },
  {
   "cell_type": "code",
   "execution_count": null,
   "id": "wrong-mississippi",
   "metadata": {},
   "outputs": [],
   "source": [
    "df_phe = pd.read_excel('~/Studio/tools/phe_76_5p.xlsx')\n",
    "df_phe.head()"
   ]
  },
  {
   "cell_type": "code",
   "execution_count": null,
   "id": "collect-richards",
   "metadata": {},
   "outputs": [],
   "source": [
    "dfm = match_dfs(df_phe, df)\n",
    "dfm.shape"
   ]
  },
  {
   "cell_type": "code",
   "execution_count": null,
   "id": "individual-republic",
   "metadata": {},
   "outputs": [],
   "source": [
    "df.shape"
   ]
  },
  {
   "cell_type": "code",
   "execution_count": null,
   "id": "polish-cleanup",
   "metadata": {},
   "outputs": [],
   "source": [
    "plotly_zone(df)"
   ]
  },
  {
   "cell_type": "code",
   "execution_count": null,
   "id": "logical-library",
   "metadata": {},
   "outputs": [],
   "source": []
  }
 ],
 "metadata": {
  "kernelspec": {
   "display_name": "Python 3",
   "language": "python",
   "name": "python3"
  },
  "language_info": {
   "codemirror_mode": {
    "name": "ipython",
    "version": 3
   },
   "file_extension": ".py",
   "mimetype": "text/x-python",
   "name": "python",
   "nbconvert_exporter": "python",
   "pygments_lexer": "ipython3",
   "version": "3.7.3"
  }
 },
 "nbformat": 4,
 "nbformat_minor": 5
}
