{
 "cells": [
  {
   "cell_type": "code",
   "execution_count": null,
   "metadata": {},
   "outputs": [],
   "source": [
    "import pandas as pd\n",
    "import numpy as np\n",
    "import matplotlib\n",
    "import plotly.express as px\n",
    "import plotly.graph_objects as go\n",
    "import matplotlib.pyplot as plt\n",
    "from collections import namedtuple\n",
    "import matplotlib.patches as patches\n",
    "import networkx as nx"
   ]
  },
  {
   "cell_type": "code",
   "execution_count": null,
   "metadata": {},
   "outputs": [],
   "source": [
    "%run ../modules/utils.ipynb\n",
    "%run ../modules/cds.ipynb\n",
    "%run ../modules/preprocessing.ipynb"
   ]
  },
  {
   "cell_type": "markdown",
   "metadata": {},
   "source": [
    "# Mass Sum -- Phe"
   ]
  },
  {
   "cell_type": "code",
   "execution_count": null,
   "metadata": {},
   "outputs": [],
   "source": [
    "# df_phe = pd.read_excel('/Users/bryan/Documents/BioPharmaFinder/ZhangLab/Data/Excels/total_tRNA_acid_degradated_20to40_component_only.xlsx')\n",
    "# df_phe = pd.read_excel('/Users/bryan/Documents/BioPharmaFinder/ZhangLab/Data/Excels/Sigma_tRNA_standard_150pmol_Degradation.xlsx')\n",
    "# df_phe = pd.read_excel('/Users/bryan/Documents/BioPharmaFinder/ZhangLab/Data/Excels/Sigma_tRNA_standard_150pmol_Degradation_all_level.xlsx')\n",
    "df_phe = pd.read_excel('/Users/bryan/Documents/BioPharmaFinder/ZhangLab/Data/Excels/tRNA_Phe_0724.xlsx')\n",
    "# df_phe = pd.read_excel('/Users/bryan/Documents/BioPharmaFinder/ZhangLab/Data/Excels/tRNA_Phe_0724_COMBINE2.xlsx')\n",
    "print(df_phe.shape)\n",
    "df_phe = thermo_df(df_phe)\n",
    "plot_zone(df_phe)"
   ]
  },
  {
   "cell_type": "code",
   "execution_count": null,
   "metadata": {},
   "outputs": [],
   "source": [
    "idxs = list()\n",
    "# create our callback function\n",
    "def on_selection(trace, points, selector):\n",
    "    print('points {}'.format(points.point_inds) )\n",
    "    idxs.extend(points.point_inds)\n",
    "\n",
    "def on_click(trace, points, selector):\n",
    "#     print('points {}'.format(points.point_inds) )\n",
    "    idxs.extend(points.point_inds)\n",
    "\n",
    "df_sample = df_phe[df_phe.Mass < 25000]\n",
    "f = zone_selection(df_sample, on_selection=on_selection, on_click=on_click)\n",
    "f"
   ]
  },
  {
   "cell_type": "code",
   "execution_count": null,
   "metadata": {},
   "outputs": [],
   "source": [
    "df_chosen = df_sample.iloc[idxs]\n",
    "df_chosen.shape"
   ]
  },
  {
   "cell_type": "code",
   "execution_count": null,
   "metadata": {},
   "outputs": [],
   "source": [
    "df_5p = df_chosen\n",
    "df_5p.shape"
   ]
  },
  {
   "cell_type": "code",
   "execution_count": null,
   "metadata": {},
   "outputs": [],
   "source": [
    "df_3p = df_chosen\n",
    "df_3p.shape"
   ]
  },
  {
   "cell_type": "code",
   "execution_count": null,
   "metadata": {},
   "outputs": [],
   "source": [
    "df_phe_25k = df_phe[(df_phe.Mass > 23500) & (df_phe.Mass < 25000)]\n",
    "px.scatter(x=df_phe_25k.Mass, y=df_phe_25k.Vol)"
   ]
  },
  {
   "cell_type": "code",
   "execution_count": null,
   "metadata": {},
   "outputs": [],
   "source": [
    "target_full_mass = 24581.380920 #24252.311092\n",
    "df_phe_25k['delta'] = df_phe_25k.Mass - target_full_mass\n",
    "for idx, row in df_phe_25k.iterrows():\n",
    "#     print(idx, item)\n",
    "    comps = components(abs(row.delta))\n",
    "    if comps.shape[0] > 0:\n",
    "        print('Mass {:4f} diff {:4f}\\n{}'.format(row.Mass, row.delta, comps))"
   ]
  },
  {
   "cell_type": "code",
   "execution_count": null,
   "metadata": {},
   "outputs": [],
   "source": [
    "target_full_mass = 24252.311092\n",
    "df_phe_25k['delta'] = df_phe_25k.Mass - target_full_mass\n",
    "for idx, row in df_phe_25k.iterrows():\n",
    "#     print(idx, item)\n",
    "    comps = components(abs(row.delta))\n",
    "    if comps.shape[0] > 0:\n",
    "        print('Mass {:4f} diff {:4f}\\n{}'.format(row.Mass, row.delta, comps))"
   ]
  },
  {
   "cell_type": "code",
   "execution_count": null,
   "metadata": {},
   "outputs": [],
   "source": [
    "components(1657.27)"
   ]
  },
  {
   "cell_type": "code",
   "execution_count": null,
   "metadata": {},
   "outputs": [],
   "source": [
    "df_sample = df_phe[df_phe.Mass < 25000]"
   ]
  },
  {
   "cell_type": "code",
   "execution_count": null,
   "metadata": {},
   "outputs": [],
   "source": [
    "df_5p = pd.read_excel('/Users/bryan/Downloads/phe5p.xlsx')\n",
    "df_3p = pd.read_excel('/Users/bryan/Downloads/phe3p.xlsx')\n",
    "df_5p.shape, df_3p.shape"
   ]
  },
  {
   "cell_type": "code",
   "execution_count": null,
   "metadata": {},
   "outputs": [],
   "source": [
    "full_mass = 24252.315242 #24581.374101 \n",
    "df_3p_cc, df_5p_cc = computational_data_seperation(df_3p, df_5p, full_mass, ignore_endpoints=True)\n",
    "# bcr = base_calling_random(df_3p_cc)\n",
    "# df_res_3p_cc = process_seats(*bcr, full_mass, orientation=3)\n",
    "# bcr = base_calling_random(df_5p_cc)\n",
    "# df_res_5p_cc = process_seats(*bcr, full_mass, orientation=5)"
   ]
  },
  {
   "cell_type": "code",
   "execution_count": null,
   "metadata": {},
   "outputs": [],
   "source": [
    "df_5p_cc[(df_5p_cc.Mass>4000)&(df_5p_cc.Mass<4100)]"
   ]
  },
  {
   "cell_type": "code",
   "execution_count": null,
   "metadata": {},
   "outputs": [],
   "source": [
    "full_mass =24252.315242 - 14 #24581.374101 \n",
    "df_3p_cc_m1m, df_5p_cc_m1m = computational_data_seperation(df_3p, df_5p, full_mass, ignore_endpoints=True)\n",
    "bcr = base_calling_random(df_3p_cc_m1m)\n",
    "df_res_3p_cc_m1m = process_seats(*bcr, full_mass, orientation=3)\n",
    "bcr = base_calling_random(df_5p_cc_m1m)\n",
    "df_res_5p_cc_m1m = process_seats(*bcr, full_mass, orientation=5)"
   ]
  },
  {
   "cell_type": "code",
   "execution_count": null,
   "metadata": {},
   "outputs": [],
   "source": [
    "full_mass = 24252.315242 - 14*2 #24238.334749 #24252.315242 #24581.374101 \n",
    "df_3p_cc_m2m, df_5p_cc_m2m = computational_data_seperation(df_3p, df_5p, full_mass, ignore_endpoints=True)"
   ]
  },
  {
   "cell_type": "code",
   "execution_count": null,
   "metadata": {},
   "outputs": [],
   "source": [
    "full_mass = 24252.315242 + 14*2 #24238.334749 #24252.315242 #24581.374101 \n",
    "df_3p_cc_a2m, df_5p_cc_a2m = computational_data_seperation(df_3p, df_5p, full_mass, ignore_endpoints=True)\n",
    "bcr = base_calling_random(df_3p_cc_a2m)\n",
    "df_res_3p_cc_a2m = process_seats(*bcr, full_mass, orientation=3)\n",
    "bcr = base_calling_random(df_5p_cc_a2m)\n",
    "df_res_5p_cc_a2m = process_seats(*bcr, full_mass, orientation=5)"
   ]
  },
  {
   "cell_type": "code",
   "execution_count": null,
   "metadata": {},
   "outputs": [],
   "source": [
    "full_mass = 24581.374101 \n",
    "df_3p_cca, df_5p_cca = computational_data_seperation(df_3p, df_5p, full_mass, ignore_endpoints=True)\n",
    "bcr = base_calling_random(df_3p_cca)\n",
    "df_res_3p_cca = process_seats(*bcr, full_mass, orientation=3)\n",
    "bcr = base_calling_random(df_5p_cca)\n",
    "df_res_5p_cca = process_seats(*bcr, full_mass, orientation=5)"
   ]
  },
  {
   "cell_type": "code",
   "execution_count": null,
   "metadata": {},
   "outputs": [],
   "source": [
    "full_mass = 24581.374101 - 14 #24238.334749 #24252.315242 #24581.374101 \n",
    "df_3p_cca_m1m, df_5p_cca_m1m = computational_data_seperation(df_3p, df_5p, full_mass, ignore_endpoints=True)"
   ]
  },
  {
   "cell_type": "code",
   "execution_count": null,
   "metadata": {},
   "outputs": [],
   "source": [
    "full_mass = 24581.374101 + 14*2 #24238.334749 #24252.315242 #24581.374101 \n",
    "df_3p_cca_a2m, df_5p_cca_a2m = computational_data_seperation(df_3p, df_5p, full_mass, ignore_endpoints=True)\n",
    "bcr = base_calling_random(df_3p_cca_a2m)\n",
    "df_res_3p_cca_a2m = process_seats(*bcr, full_mass, orientation=3)\n",
    "bcr = base_calling_random(df_5p_cca_a2m)\n",
    "df_res_5p_cca_a2m = process_seats(*bcr, full_mass, orientation=5)"
   ]
  },
  {
   "cell_type": "code",
   "execution_count": null,
   "metadata": {},
   "outputs": [],
   "source": [
    "plt.figure(figsize=(16, 12))\n",
    "# plt.scatter(df_5p_cc.Mass, df_5p_cc.RT)\n",
    "plt.scatter(df_5p_cca.Mass, df_5p_cca.RT)"
   ]
  },
  {
   "cell_type": "code",
   "execution_count": null,
   "metadata": {},
   "outputs": [],
   "source": [
    "# df_5p_cca['color'] = 'cca'\n",
    "# df_5p_cc['color'] = 'cc'\n",
    "# df_merge = pd.concat([df_5p_cca, df_5p_cc])\n",
    "# px.scatter(df_merge, x='Mass', y='RT', color='color')\n",
    "bcr = base_calling_random(df_3p_cc) #[df_3p_cc.Mass>20000]\n",
    "plt, _ = plot_basecalling2(*bcr, annotate=False)\n",
    "# plt.savefig('/Users/bryan/Downloads/df_3p_cca.png', transparent=True)"
   ]
  },
  {
   "cell_type": "code",
   "execution_count": null,
   "metadata": {},
   "outputs": [],
   "source": [
    "idxs = list()\n",
    "# create our callback function\n",
    "def on_selection(trace, points, selector):\n",
    "    print('points {}'.format(points.point_inds) )\n",
    "    idxs.extend(points.point_inds)\n",
    "\n",
    "def on_click(trace, points, selector):\n",
    "#     print('points {}'.format(points.point_inds) )\n",
    "    idxs.extend(points.point_inds)\n",
    "\n",
    "df_sample = bcr[0] #df_phe[df_phe.Mass < 25000]\n",
    "f = zone_selection(df_sample, on_selection=on_selection, on_click=on_click)\n",
    "f"
   ]
  },
  {
   "cell_type": "code",
   "execution_count": null,
   "metadata": {},
   "outputs": [],
   "source": [
    "df_chosen = df_sample.iloc[idxs]\n",
    "df_chosen.shape"
   ]
  },
  {
   "cell_type": "code",
   "execution_count": null,
   "metadata": {},
   "outputs": [],
   "source": [
    "df_ends_3p = df_chosen\n",
    "df_ends_3p.shape"
   ]
  },
  {
   "cell_type": "code",
   "execution_count": null,
   "metadata": {},
   "outputs": [],
   "source": [
    "df_ends_5p = df_chosen\n",
    "df_ends_5p.shape"
   ]
  },
  {
   "cell_type": "code",
   "execution_count": null,
   "metadata": {},
   "outputs": [],
   "source": [
    "df_ends_3p_cc = df_chosen\n",
    "df_ends_3p_cc.shape"
   ]
  },
  {
   "cell_type": "code",
   "execution_count": null,
   "metadata": {},
   "outputs": [],
   "source": [
    "df_ends_5p_cc = df_chosen\n",
    "df_ends_5p_cc.shape"
   ]
  },
  {
   "cell_type": "code",
   "execution_count": null,
   "metadata": {},
   "outputs": [],
   "source": [
    "# df_standalones_3p = df_standalones\n",
    "# df_standalones_3p.shape"
   ]
  },
  {
   "cell_type": "code",
   "execution_count": null,
   "metadata": {},
   "outputs": [],
   "source": [
    "# df_standalones = standalone_dots(df_5p, df_ends)\n",
    "df_standalones_3p = standalone_dots(df_3p, df_ends_3p)"
   ]
  },
  {
   "cell_type": "code",
   "execution_count": null,
   "metadata": {},
   "outputs": [],
   "source": [
    "df_standalones_5p = standalone_dots(df_5p, df_ends_5p)\n",
    "df_standalones_5p.shape"
   ]
  },
  {
   "cell_type": "code",
   "execution_count": null,
   "metadata": {},
   "outputs": [],
   "source": [
    "df_standalones_3p_cc = standalone_dots(df_3p, df_ends_3p_cc)\n",
    "df_standalones_5p_cc = standalone_dots(df_5p, df_ends_5p_cc)"
   ]
  },
  {
   "cell_type": "code",
   "execution_count": null,
   "metadata": {},
   "outputs": [],
   "source": [
    "# plot_zones(df_3p_cca, df_standalones_3p)\n",
    "bcr = base_calling_random(df_5p_cc)\n",
    "# plot_zones(bcr[0], df_standalones_5p)\n",
    "\n",
    "df_merge = pd.concat([bcr[0], df_standalones_5p_cc]).drop_duplicates()\n",
    "bcr = base_calling_random(df_merge)\n",
    "plot_basecalling2(*bcr, annotate=False)"
   ]
  },
  {
   "cell_type": "code",
   "execution_count": null,
   "metadata": {},
   "outputs": [],
   "source": [
    "bcr = base_calling_random(df_5p_cca)\n",
    "df_5p_cca_plus_gap = pd.concat([bcr[0], df_standalones_5p]).drop_duplicates()\n",
    "# df_5p_cca_plus_gap.head()\n",
    "bcr_plus_gap = base_calling_random(df_5p_cca_plus_gap) #[df_3p_cc.Mass>20000]\n",
    "# plot_basecalling(*bcr_plus_gap, annotate=False)\n",
    "df_res_5p_cca_plus_gap = process_seats(*bcr_plus_gap, full_mass, orientation=5)\n",
    "df_res_5p_cca_plus_gap.shape"
   ]
  },
  {
   "cell_type": "code",
   "execution_count": null,
   "metadata": {},
   "outputs": [],
   "source": [
    "bcr = base_calling_random(df_3p_cca)\n",
    "df_3p_cca_plus_gap = pd.concat([bcr[0], df_standalones_3p]).drop_duplicates()\n",
    "# df_5p_cca_plus_gap.head()\n",
    "bcr_plus_gap = base_calling_random(df_3p_cca_plus_gap) #[df_3p_cc.Mass>20000]\n",
    "# plot_basecalling(*bcr_plus_gap, annotate=False)\n",
    "df_res_3p_cca_plus_gap = process_seats(*bcr_plus_gap, full_mass, orientation=3)\n",
    "df_res_3p_cca_plus_gap.shape"
   ]
  },
  {
   "cell_type": "code",
   "execution_count": null,
   "metadata": {},
   "outputs": [],
   "source": [
    "bcr = base_calling_random(df_5p_cc)\n",
    "df_5p_cc_plus_gap = pd.concat([bcr[0], df_standalones_5p_cc]).drop_duplicates()\n",
    "# df_5p_cca_plus_gap.head()\n",
    "bcr_plus_gap = base_calling_random(df_5p_cc_plus_gap) #[df_3p_cc.Mass>20000]\n",
    "# plot_basecalling(*bcr_plus_gap, annotate=False)\n",
    "df_res_5p_cc_plus_gap = process_seats(*bcr_plus_gap, full_mass, orientation=5)\n",
    "df_res_5p_cc_plus_gap.shape"
   ]
  },
  {
   "cell_type": "code",
   "execution_count": null,
   "metadata": {},
   "outputs": [],
   "source": [
    "bcr = base_calling_random(df_3p_cc)\n",
    "df_3p_cc_plus_gap = pd.concat([bcr[0], df_standalones_3p_cc]).drop_duplicates()\n",
    "# df_5p_cca_plus_gap.head()\n",
    "bcr_plus_gap = base_calling_random(df_3p_cc_plus_gap) #[df_3p_cc.Mass>20000]\n",
    "# plot_basecalling(*bcr_plus_gap, annotate=False)\n",
    "df_res_3p_cc_plus_gap = process_seats(*bcr_plus_gap, full_mass, orientation=3)\n",
    "df_res_3p_cc_plus_gap.shape"
   ]
  },
  {
   "cell_type": "code",
   "execution_count": null,
   "metadata": {},
   "outputs": [],
   "source": [
    "df_res = pd.DataFrame()\n",
    "df_res['CCA3p'] = df_res_3p_cca.Base\n",
    "df_res['CCA5p'] = df_res_5p_cca.Base\n",
    "df_res['CCA3p_gap'] = df_res_3p_cca_plus_gap.Base\n",
    "df_res['CCA5p_gap'] = df_res_5p_cca_plus_gap.Base\n",
    "df_res['CC3p'] = df_res_3p_cc.Base\n",
    "df_res['CC5p'] = df_res_5p_cc.Base\n",
    "df_res['CC3p_gap'] = df_res_3p_cc_plus_gap.Base\n",
    "df_res['CC5p_gap'] = df_res_5p_cc_plus_gap.Base\n",
    "df_res['CC3pm1m'] = df_res_3p_cc_m1m.Base\n",
    "df_res['CC5pm1m'] = df_res_5p_cc_m1m.Base\n",
    "df_res['CC3pa2m'] = df_res_3p_cc_a2m.Base\n",
    "df_res['CC5pa2m'] = df_res_5p_cc_a2m.Base\n",
    "df_res['CCA3pa2m'] = df_res_3p_cca_a2m.Base\n",
    "df_res['CCA5pa2m'] = df_res_5p_cca_a2m.Base\n",
    "df_res.to_excel('/Users/bryan/Downloads/res.xlsx')\n",
    "df_res"
   ]
  },
  {
   "cell_type": "markdown",
   "metadata": {},
   "source": [
    "# Utils"
   ]
  },
  {
   "cell_type": "code",
   "execution_count": null,
   "metadata": {},
   "outputs": [],
   "source": [
    "def gap_rect(df_ends):\n",
    "    z_zoomin = np.polyfit(df_ends.Mass, df_ends.RT, 1)\n",
    "    def f_zoomin(x):\n",
    "        return z_zoomin[0] * x + z_zoomin[1]\n",
    "\n",
    "    df_zoomin = df_ends.sort_values('Mass')\n",
    "    l = df_ends.iloc[0].Mass + 300\n",
    "    r = df_ends.iloc[1].Mass - 300\n",
    "    df_zoomin = df_ends.sort_values('RT')\n",
    "    b = f_zoomin(l) \n",
    "    t = f_zoomin(r)\n",
    "    return l, r, b-0.1, t+0.1\n",
    "\n",
    "def all_dots_in_gap(df, df_ends):\n",
    "    l, r, b, t = gap_rect(df_ends)\n",
    "    df_gap = df[(df.Mass > l) & (df.Mass < r) & (df.RT > b) & (df.RT < t)]\n",
    "    return df_gap\n",
    "\n",
    "def standalone_dots_in_gap(df_gap, df_ends):\n",
    "#     df['Delta'] = df.Mass - df_ends.iloc[1]['Mass']\n",
    "    idxs = list()\n",
    "    for idx, row in df_gap.iterrows():\n",
    "#         print('Processing {}'.format(row.Mass))\n",
    "        delta_left = abs(row.Mass - df_ends.iloc[0]['Mass'])\n",
    "        delta_right = abs(row.Mass - df_ends.iloc[1]['Mass'])\n",
    "#         print(delta_left, delta_right)\n",
    "        df_res_left = components(delta_left)\n",
    "        df_res_right = components(delta_right)\n",
    "#         if df_res_left.shape[0] > 0:\n",
    "#             print('left')\n",
    "#             print(df_res_left)\n",
    "#         if df_res_right.shape[0] > 0:\n",
    "#             print('right')\n",
    "#             print(df_res_right)\n",
    "        if df_res_left.shape[0] > 0 and df_res_right.shape[0] > 0:\n",
    "#             print('Mass {} Left Delta {} \\n{}\\nRight Delta {} \\n{}'.format(row.Mass, delta_left, df_res_left, delta_right, df_res_right))\n",
    "            idxs.append(idx)\n",
    "    \n",
    "    if not idxs:\n",
    "        print('No dots found in the gap.')\n",
    "    else:\n",
    "        print('Got {} items. {}'.format(len(idxs), df_gap.loc[idxs]))\n",
    "    return df_gap.loc[idxs]\n",
    "\n",
    "def standalone_dots(df, df_ends):\n",
    "    df_res_list = list()\n",
    "    for i in range(0, df_ends.shape[0], 2):\n",
    "        df_end = df_ends.iloc[i:i+2]\n",
    "        df_gap = all_dots_in_gap(df, df_end)\n",
    "        print('Processing the gap {}-{}, {} dots'.format(df_end.iloc[0]['Mass'], df_end.iloc[1]['Mass'], df_gap.shape[0]))\n",
    "        df_res = standalone_dots_in_gap(df_gap, df_end)\n",
    "        if not df_res.empty:\n",
    "            df_res_list.append(df_res)\n",
    "\n",
    "    if not df_res_list:\n",
    "        print('No dots found in these gaps.')\n",
    "        return pd.DataFrame()\n",
    "    df_standalones = pd.concat(df_res_list)\n",
    "    df_standalones.drop_duplicates(inplace=True)\n",
    "    print(df_standalones)\n",
    "    return df_standalones"
   ]
  },
  {
   "cell_type": "code",
   "execution_count": null,
   "metadata": {},
   "outputs": [],
   "source": []
  },
  {
   "cell_type": "code",
   "execution_count": null,
   "metadata": {},
   "outputs": [],
   "source": [
    "components(1657.27)"
   ]
  },
  {
   "cell_type": "code",
   "execution_count": null,
   "metadata": {},
   "outputs": [],
   "source": [
    "def plot_basecalling2(df, mass_pairs, endpoints=pd.DataFrame(), annotate=True, plt=None):\n",
    "#     if in_plt:\n",
    "#         plt = in_plt\n",
    "#     else:\n",
    "    if not plt:\n",
    "        plt = matplotlib.pyplot\n",
    "    fig = plt.figure(figsize=(24, 18))\n",
    "#     plt.xlabel('Mass (Da)')\n",
    "#     plt.ylabel('Retention Time (min)')\n",
    "    plt.xlabel('Monoisotopic Mass (Da)', fontname=\"Arial\", fontsize=15, color='black')\n",
    "    plt.ylabel('Retention Time (min)', fontname=\"Arial\", fontsize=15, color='black')\n",
    "#     plt.xticks(range(0, 25001, 2500), fontname=\"Arial\", size=13, color='black')\n",
    "#     plt.yticks(range(0, 25, 2), fontname=\"Arial\", size=13, color='black')\n",
    "    plt.xticks(fontname=\"Arial\", size=13, color='black')\n",
    "    plt.yticks(fontname=\"Arial\", size=13, color='black')\n",
    "        \n",
    "    plt.scatter(df.Mass, df.RT)\n",
    "\n",
    "    for t in mass_pairs:\n",
    "        df_pair = df[df.Mass.isin(t)]\n",
    "        if df_pair.empty:\n",
    "            continue\n",
    "        plt.plot(df_pair.Mass, df_pair.RT, 'green')\n",
    "        \n",
    "        idmax = df_pair['Mass'].idxmax()\n",
    "        plt.annotate(s=t[2], size=15, xy=(df_pair.loc[idmax].Mass, df_pair.loc[idmax].RT), \n",
    "                     textcoords=\"offset points\", xytext=(-10, 10), ha='center', color='C0')\n",
    "        \n",
    "        if not annotate:\n",
    "            continue\n",
    "            \n",
    "        mass = '{:.2f}'.format(df_pair.loc[idmax].Mass)\n",
    "        plt.annotate(s=mass, size=13, xy=(df_pair.loc[idmax].Mass, df_pair.loc[idmax].RT), \n",
    "                     textcoords=\"offset points\", xytext=(10, -20), ha='center')\n",
    "\n",
    "    if not endpoints.empty:\n",
    "        plt.scatter(endpoints.Mass, endpoints.RT, color='r')\n",
    "        print(endpoints[['Mass', 'RT', 'Vol']])\n",
    "#     plt.show()\n",
    "    return plt, fig"
   ]
  },
  {
   "cell_type": "code",
   "execution_count": null,
   "metadata": {},
   "outputs": [],
   "source": [
    "def process_seats(df, mass_pairs, full_mass, col_name='Base', orientation=5):\n",
    "    seats = int(full_mass // 320)\n",
    "    df_res = pd.DataFrame()\n",
    "#     df_res.set_index(range(1, seats+1), inplace=True)\n",
    "    df_res['position'] = range(1, seats+1)\n",
    "    df_res[col_name] = ''\n",
    "    df_res.set_index('position', inplace=True)\n",
    "    \n",
    "    for t in mass_pairs:\n",
    "        df_pair = df[df.Mass.isin(t)]\n",
    "        if df_pair.empty:\n",
    "            continue\n",
    "#         plt.plot(df_pair.Mass, df_pair.RT, 'green')\n",
    "        \n",
    "        idx = df_pair['Mass'].idxmax()\n",
    "        if orientation == 3:\n",
    "            idx = df_pair['Mass'].idxmin()\n",
    "        pos = int(df_pair.loc[idx].Mass // 320)\n",
    "        if orientation == 3:\n",
    "            pos = seats + 1 - pos\n",
    "            pos -= 1\n",
    "        base = df_res.loc[pos, col_name] \n",
    "        if not base:\n",
    "            base = t[2]\n",
    "        else:\n",
    "            base = '{}, {}'.format(base, t[2])\n",
    "        df_res.loc[pos, col_name] = base\n",
    "    \n",
    "    return df_res\n",
    "    "
   ]
  },
  {
   "cell_type": "code",
   "execution_count": null,
   "metadata": {},
   "outputs": [],
   "source": [
    "df_res_tmp = process_seats(*bcr, full_mass, orientation=5)\n",
    "df_res_tmp"
   ]
  },
  {
   "cell_type": "code",
   "execution_count": null,
   "metadata": {},
   "outputs": [],
   "source": []
  },
  {
   "cell_type": "code",
   "execution_count": null,
   "metadata": {},
   "outputs": [],
   "source": []
  }
 ],
 "metadata": {
  "kernelspec": {
   "display_name": "Python 3",
   "language": "python",
   "name": "python3"
  },
  "language_info": {
   "codemirror_mode": {
    "name": "ipython",
    "version": 3
   },
   "file_extension": ".py",
   "mimetype": "text/x-python",
   "name": "python",
   "nbconvert_exporter": "python",
   "pygments_lexer": "ipython3",
   "version": "3.7.3"
  }
 },
 "nbformat": 4,
 "nbformat_minor": 4
}
