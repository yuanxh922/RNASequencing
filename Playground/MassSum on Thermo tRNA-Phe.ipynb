{
 "cells": [
  {
   "cell_type": "code",
   "execution_count": null,
   "metadata": {},
   "outputs": [],
   "source": [
    "import pandas as pd\n",
    "import matplotlib\n",
    "import matplotlib.pyplot as plt\n",
    "import plotly.express as px"
   ]
  },
  {
   "cell_type": "code",
   "execution_count": null,
   "metadata": {},
   "outputs": [],
   "source": [
    "%run ../modules/utils.ipynb\n",
    "%run ../modules/cds.ipynb\n",
    "%run ../modules/preprocessing.ipynb"
   ]
  },
  {
   "cell_type": "code",
   "execution_count": null,
   "metadata": {},
   "outputs": [],
   "source": [
    "df_phe = pd.read_excel('/Users/bryan/Documents/BioPharmaFinder/ZhangLab/Data/Excels/tRNA_Phe_0724.xlsx')\n",
    "# df_phe = pd.read_excel('/Users/bryan/Documents/BioPharmaFinder/BaoLab/FirstBatch/Excels/S2to5combined_20ul_40min.xlsx')\n",
    "df_phe = thermo_df(df_phe)\n",
    "df_phe.shape\n",
    "plotly_zone(df_phe)"
   ]
  },
  {
   "cell_type": "code",
   "execution_count": null,
   "metadata": {},
   "outputs": [],
   "source": [
    "df_phe = pd.read_excel('/Users/bryan/Documents/BioPharmaFinder/BaoLab/FirstBatch/Excels/S2to5combined_20ul_40min.xlsx')"
   ]
  },
  {
   "cell_type": "code",
   "execution_count": null,
   "metadata": {},
   "outputs": [],
   "source": [
    "df_noad = pd.read_excel('/Users/bryan/Documents/BioPharmaFinder/ZhangLab/oligossample1.xlsx')\n",
    "df_noad = thermo_df(df_noad)\n",
    "df_noad.shape\n",
    "plot_zone(df_noad)"
   ]
  },
  {
   "cell_type": "code",
   "execution_count": null,
   "metadata": {},
   "outputs": [],
   "source": [
    "df_noad_25k = df_noad[(df_noad.Mass > 20000)]\n",
    "plotly_zone(df_noad_25k)"
   ]
  },
  {
   "cell_type": "code",
   "execution_count": null,
   "metadata": {},
   "outputs": [],
   "source": [
    "bcr = base_calling_random(df_noad_25k, silence=True)\n",
    "plotly_basecalling_vol(*bcr)"
   ]
  },
  {
   "cell_type": "code",
   "execution_count": null,
   "metadata": {},
   "outputs": [],
   "source": [
    "df_phe_25k = df_phe[(df_phe.Mass > 24000) & (df_phe.Mass < 26000) & (df_phe.Vol > 1E5)]\n",
    "# df_phe_25k = df_phe[(df_phe.Mass > 23900) & (df_phe.Mass < 24000)]\n",
    "# df_phe_25k = df_phe[df_phe.Mass > 23000]\n",
    "px.scatter(x=df_phe_25k.Mass, y=df_phe_25k.Vol)"
   ]
  },
  {
   "cell_type": "code",
   "execution_count": null,
   "metadata": {},
   "outputs": [],
   "source": [
    "df_phe[(df_phe.Mass > 24000) & (df_phe.Vol > 500000)].sort_values('Mass')"
   ]
  },
  {
   "cell_type": "code",
   "execution_count": null,
   "metadata": {},
   "outputs": [],
   "source": [
    "df_phe[(df_phe.Mass > 24600) & (df_phe.Mass < 25500) & (df_phe.Vol > 100000)].sort_values('Mass')"
   ]
  },
  {
   "cell_type": "code",
   "execution_count": null,
   "metadata": {},
   "outputs": [],
   "source": [
    "bcr = base_calling_random(df_phe_25k, silence=True)\n",
    "plt, _ = plot_basecalling(*bcr)\n",
    "plt.savefig('/Users/bryan/Documents/Presentations/Feb 17 2021/25k_bc.png', transparent=True)"
   ]
  },
  {
   "cell_type": "code",
   "execution_count": null,
   "metadata": {},
   "outputs": [],
   "source": [
    "plotly_basecalling(*bcr)"
   ]
  },
  {
   "cell_type": "code",
   "execution_count": null,
   "metadata": {},
   "outputs": [],
   "source": [
    "df_5p = pd.read_excel('/Users/bryan/Downloads/phe5p.xlsx')\n",
    "df_3p = pd.read_excel('/Users/bryan/Downloads/phe3p.xlsx')\n",
    "df_5p.shape, df_3p.shape"
   ]
  },
  {
   "cell_type": "code",
   "execution_count": null,
   "metadata": {},
   "outputs": [],
   "source": [
    "df_5p = df_5p[df_5p.Vol > 1E5]\n",
    "df_3p = df_3p[df_3p.Vol > 1E5]\n",
    "df_5p.shape, df_3p.shape"
   ]
  },
  {
   "cell_type": "code",
   "execution_count": null,
   "metadata": {},
   "outputs": [],
   "source": [
    "full_mass = 24416.29 #24189.23 #24245.225 #24941.525 #24252.315242 #24581.374101 \n",
    "df_3p_24416, df_5p_24416 = computational_data_seperation(df_3p, df_5p, full_mass, ignore_endpoints=True)\n",
    "plotly_zones(df_5p_24416, df_3p_24416)\n",
    "df_24416 = pd.concat([df_3p_24416, df_5p_24416]).drop_duplicates()\n",
    "df_24416.shape"
   ]
  },
  {
   "cell_type": "code",
   "execution_count": null,
   "metadata": {},
   "outputs": [],
   "source": [
    "full_mass = 24087.24 #24189.23 #24245.225 #24941.525 #24252.315242 #24581.374101 \n",
    "df_3p_24087, df_5p_24087 = computational_data_seperation(df_3p, df_5p, full_mass, ignore_endpoints=True)\n",
    "plotly_zones(df_5p_24087, df_3p_24087)\n",
    "df_24087 = pd.concat([df_3p_24087, df_5p_24087]).drop_duplicates()\n",
    "df_24087.shape"
   ]
  },
  {
   "cell_type": "code",
   "execution_count": null,
   "metadata": {},
   "outputs": [],
   "source": [
    "tmp = df_3p_24087.copy()\n",
    "tmp.Mass += 329.0525\n",
    "plotly_zones(df_3p_24416, tmp)"
   ]
  },
  {
   "cell_type": "code",
   "execution_count": null,
   "metadata": {},
   "outputs": [],
   "source": [
    "# df_merge = pd.concat([df_3p_24445, df_5p_24116]).drop_duplicates()\n",
    "full_mass = 24252.32 #24581.38 #\n",
    "df_skeleton = df_3p_24252 #df_5p_24597\n",
    "group = 'Group_24581'\n",
    "\n",
    "fullmass_dot = df_phe[(df_phe.Mass>full_mass-0.1) & (df_phe.Mass<full_mass+0.1)]\n",
    "df_gap_dots = find_gap_dots(df_3p, df_skeleton, fullmass_dot, orientation=3)\n",
    "df_gap_dots.shape"
   ]
  },
  {
   "cell_type": "code",
   "execution_count": null,
   "metadata": {},
   "outputs": [],
   "source": [
    "plotly_zones(df_skeleton, df_gap_dots)\n",
    "plt = plot_zones(df_skeleton, df_gap_dots)\n",
    "plt.savefig('/Users/bryan/Documents/BioPharmaFinder/ZhangLab/MassSum/II/Phe_MFE0724/{}/{}_3p.png'.format(group, int(full_mass)), transparent=True)"
   ]
  },
  {
   "cell_type": "code",
   "execution_count": null,
   "metadata": {},
   "outputs": [],
   "source": [
    "%run ../modules/cds.ipynb"
   ]
  },
  {
   "cell_type": "code",
   "execution_count": null,
   "metadata": {},
   "outputs": [],
   "source": [
    "df1 = df_skeleton.copy()\n",
    "df2 = df_gap_dots.copy()\n",
    "\n",
    "# df1['Skeleton'] = True\n",
    "# df2['Skeleton'] = False\n",
    "df_merge = pd.concat([df1, df2, fullmass_dot]).drop_duplicates()\n",
    "df_merge['Skeleton'] = False\n",
    "df_merge.loc[df1.index, 'Skeleton'] = True\n",
    "df_merge.loc[fullmass_dot.index, 'Skeleton'] = True\n",
    "df_merge = df_merge.sort_values('Mass')\n",
    "\n",
    "bcr = base_calling_random(df_merge, silence=True)\n",
    "df_seats = process_mass_base_seats(df_merge, bcr[1], full_mass=full_mass, orientation=3)\n",
    "df_seats.to_excel('/Users/bryan/Documents/BioPharmaFinder/ZhangLab/MassSum/II/Phe_MFE0724/{}/seats_{}_3p.xlsx'.format(group, int(full_mass)))\n",
    "df_merge.to_excel('/Users/bryan/Documents/BioPharmaFinder/ZhangLab/MassSum/II/Phe_MFE0724/{}/{}_3p.xlsx'.format(group, int(full_mass)))"
   ]
  },
  {
   "cell_type": "code",
   "execution_count": null,
   "metadata": {},
   "outputs": [],
   "source": [
    "def find_gap_dots(df, df_skeleton, fullmass_dot, orientation=5):\n",
    "    TAG_5P = 79.9663\n",
    "    TAG_3OH = 18.0106\n",
    "\n",
    "    df_skeleton = df_skeleton.sort_values('Mass')\n",
    "\n",
    "    idxs = list()\n",
    "    gap_idxs = list()\n",
    "    for idx, row in df_skeleton.iterrows():\n",
    "        print('Processing forward {}'.format(row.Mass))\n",
    "        columns = ['Mass', 'RT', 'Vol']\n",
    "        df_ends = pd.DataFrame(index=[0, 1], columns=columns)\n",
    "        if not idxs:\n",
    "            # handle gap between TAG and the first dot\n",
    "            if orientation == 3:\n",
    "                pre = TAG_3OH - TAG_5P\n",
    "            else:\n",
    "                pre = TAG_5P + TAG_3OH\n",
    "            df_ends.iloc[0] = [pre, 0.001, 0]\n",
    "        else:\n",
    "            pre = df_skeleton.loc[idxs[-1]].Mass\n",
    "            df_ends.iloc[0] = df_skeleton.loc[idxs[-1]][columns]\n",
    "        is_last = True if idx == df_skeleton.index[-1] else False\n",
    "        if not is_last and row.Mass - pre < 600:\n",
    "            continue\n",
    "        if row.Mass - pre > 10000:\n",
    "            idxs.append(idx)\n",
    "            continue\n",
    "        print('components {}-{}'.format(row.Mass, pre))\n",
    "        res = components(row.Mass - pre)\n",
    "        if not res.empty:\n",
    "            # keep this dot, and fill in the gap\n",
    "            print('keep this dot {}'.format(row.Mass))\n",
    "            idxs.append(idx)\n",
    "    #         continue\n",
    "            df_ends.iloc[1] = row[columns]\n",
    "    #         print(df_ends, df_ends.info())\n",
    "            df_ends = df_ends.astype(float)\n",
    "            df_alones = standalone_dots(df, df_ends, mode='all')\n",
    "            if not df_alones.empty:\n",
    "                print('extend dots ', df_alones)\n",
    "                gap_idxs.extend(df_alones.index)\n",
    "    #         print(df_alones)\n",
    "\n",
    "        if is_last:\n",
    "            df_ends.iloc[0] = df_skeleton.loc[idxs[-1]][columns]\n",
    "            df_ends.iloc[1] = fullmass_dot.iloc[0][columns]\n",
    "            if orientation == 5:\n",
    "                df_ends.iloc[1]['Mass'] += TAG_5P\n",
    "#             df_alones = standalone_dots(df_5p, df_ends, mode='all')\n",
    "            df_alones = standalone_dots(df, df_ends, mode='all')\n",
    "            if not df_alones.empty:\n",
    "                print('extend dots ', df_alones)\n",
    "                gap_idxs.extend(df_alones.index)\n",
    "\n",
    "            # append the fullmass dot\n",
    "            gap_idxs.append(fullmass_dot.index[0])\n",
    "\n",
    "    print(gap_idxs)\n",
    "    return df.loc[gap_idxs]\n",
    "\n",
    "def find_gap_dots2(df, df_skeleton):\n",
    "    TAG_5P = 79.9663\n",
    "    TAG_3OH = 18.0106\n",
    "\n",
    "    df_skeleton = df_skeleton.sort_values('Mass')\n",
    "    idxs = list()\n",
    "    gap_idxs = list()\n",
    "    for idx, row in df_skeleton.iterrows():\n",
    "        print('Processing {}'.format(row.Mass))\n",
    "        columns = ['Mass', 'RT', 'Vol']\n",
    "        df_ends = pd.DataFrame(index=[0, 1], columns=columns)\n",
    "        if not idxs:\n",
    "            # handle gap between TAG and the first dot\n",
    "            pre = TAG_5P + TAG_3OH\n",
    "            df_ends.iloc[0] = [pre, 0.001, 0]\n",
    "    #         df_ends.iloc[0]['Mass'] = pre\n",
    "    #         df_ends.iloc[0]['RT'] = 0\n",
    "    #         df_ends.iloc[0]['Vol'] = 0\n",
    "        else:\n",
    "            pre = df_skeleton.loc[idxs[-1]].Mass\n",
    "            df_ends.iloc[0] = df_skeleton.loc[idxs[-1]][columns]\n",
    "        res = components(row.Mass - pre)\n",
    "        if not res.empty:\n",
    "            # keep this dot, and fill in the gap\n",
    "            idxs.append(idx)\n",
    "\n",
    "            df_ends.iloc[1] = row[columns]\n",
    "            print(df_ends, df_ends.info())\n",
    "            df_ends = df_ends.astype(float)\n",
    "            df_alones = standalone_dots(df, df_ends)\n",
    "            print(df_alones)\n",
    "            gap_idxs.extend(list(df_alones.index))\n",
    "    \n",
    "    return df.loc[gap_idxs]"
   ]
  },
  {
   "cell_type": "code",
   "execution_count": null,
   "metadata": {},
   "outputs": [],
   "source": [
    "full_mass = 24581.374101 #24189.23 #24245.225 #24941.525 #24252.315242 #24581.374101 \n",
    "df_3p_24581, df_5p_24581 = computational_data_seperation(df_3p, df_5p, full_mass, ignore_endpoints=True)\n",
    "plotly_zones(df_5p_24581, df_3p_24581)\n",
    "df_24581 = pd.concat([df_3p_24581, df_5p_24581]).drop_duplicates()\n",
    "df_24581.shape"
   ]
  },
  {
   "cell_type": "code",
   "execution_count": null,
   "metadata": {},
   "outputs": [],
   "source": [
    "full_mass = 24252.31 #24189.23 #24245.225 #24941.525 #24252.315242 #24581.374101 \n",
    "df_3p_24252, df_5p_24252 = computational_data_seperation(df_3p, df_5p, full_mass, ignore_endpoints=True)\n",
    "plotly_zones(df_5p_24252, df_3p_24252)\n",
    "df_24252 = pd.concat([df_3p_24252, df_5p_24252]).drop_duplicates()\n",
    "df_24252.shape"
   ]
  },
  {
   "cell_type": "code",
   "execution_count": null,
   "metadata": {},
   "outputs": [],
   "source": [
    "full_mass = 24596.36  #24189.23 #24245.225 #24941.525 #24252.315242 #24581.374101 \n",
    "df_3p_24596, df_5p_24596 = computational_data_seperation(df_3p, df_5p, full_mass, ignore_endpoints=True)\n",
    "plotly_zones(df_5p_24596, df_3p_24596)\n",
    "df_24596 = pd.concat([df_3p_24596, df_5p_24596]).drop_duplicates()\n",
    "df_24596.shape"
   ]
  },
  {
   "cell_type": "code",
   "execution_count": null,
   "metadata": {},
   "outputs": [],
   "source": [
    "full_mass = 24267.31  #24189.23 #24245.225 #24941.525 #24252.315242 #24581.374101 \n",
    "df_3p_24267, df_5p_24267 = computational_data_seperation(df_3p, df_5p, full_mass, ignore_endpoints=True)\n",
    "plotly_zones(df_5p_24267, df_3p_24267)\n",
    "df_24267 = pd.concat([df_3p_24267, df_5p_24267]).drop_duplicates()\n",
    "df_24267.shape"
   ]
  },
  {
   "cell_type": "code",
   "execution_count": null,
   "metadata": {},
   "outputs": [],
   "source": [
    "df_tmp = df_3p_24267.copy()\n",
    "df_tmp.Mass += 329.0525\n",
    "plotly_zones(df_3p_24596, df_tmp)"
   ]
  },
  {
   "cell_type": "code",
   "execution_count": null,
   "metadata": {},
   "outputs": [],
   "source": [
    "full_mass = 24597.35  #24189.23 #24245.225 #24941.525 #24252.315242 #24581.374101 \n",
    "df_3p_24597, df_5p_24597 = computational_data_seperation(df_3p, df_5p, full_mass, ignore_endpoints=True)\n",
    "plotly_zones(df_5p_24597, df_3p_24597)\n",
    "df_24597 = pd.concat([df_3p_24597, df_5p_24597]).drop_duplicates()\n",
    "df_24597.shape"
   ]
  },
  {
   "cell_type": "code",
   "execution_count": null,
   "metadata": {},
   "outputs": [],
   "source": [
    "full_mass = 24268.3  #24189.23 #24245.225 #24941.525 #24252.315242 #24581.374101 \n",
    "df_3p_24268, df_5p_24268 = computational_data_seperation(df_3p, df_5p, full_mass, ignore_endpoints=True)\n",
    "plotly_zone(df_3p_24268)\n",
    "plotly_zone(df_5p_24268)\n",
    "plotly_zones(df_3p_24268, df_5p_24268)\n",
    "df_24268 = pd.concat([df_3p_24268, df_5p_24268]).drop_duplicates()\n",
    "df_24268.shape"
   ]
  },
  {
   "cell_type": "code",
   "execution_count": null,
   "metadata": {},
   "outputs": [],
   "source": [
    "full_mass = 25334.57 #24189.23 #24245.225 #24941.525 #24252.315242 #24581.374101 \n",
    "df_3p_25334, df_5p_25334 = computational_data_seperation(df_3p, df_5p, full_mass, ignore_endpoints=True, error=0.15)\n",
    "plotly_zone(df_3p_25334)\n",
    "df_25334 = pd.concat([df_3p_25334, df_5p_25334]).drop_duplicates()\n",
    "df_25334.shape"
   ]
  },
  {
   "cell_type": "code",
   "execution_count": null,
   "metadata": {},
   "outputs": [],
   "source": [
    "full_mass = 25005.52 #24189.23 #24245.225 #24941.525 #24252.315242 #24581.374101 \n",
    "df_3p_25005, df_5p_25005 = computational_data_seperation(df_3p, df_5p, full_mass, ignore_endpoints=True, error=0.15)\n",
    "plotly_zones(df_5p_25005, df_3p_25005)\n",
    "df_25005 = pd.concat([df_3p_25005, df_5p_25005]).drop_duplicates()\n",
    "df_25005.shape"
   ]
  },
  {
   "cell_type": "code",
   "execution_count": null,
   "metadata": {},
   "outputs": [],
   "source": [
    "tmp = df_3p_25005.copy()\n",
    "tmp.Mass += 329.0524\n",
    "plotly_zones(tmp, df_3p_25334)"
   ]
  },
  {
   "cell_type": "code",
   "execution_count": null,
   "metadata": {},
   "outputs": [],
   "source": [
    "# plotly_zones(df_5p_25005, df_5p_25334)\n",
    "df_common = df_5p_25005[df_5p_25005.Mass.isin(df_5p_25334.Mass)]\n",
    "plotly_multi_zones([df_5p_25005, df_5p_25334, df_common])"
   ]
  },
  {
   "cell_type": "code",
   "execution_count": null,
   "metadata": {},
   "outputs": [],
   "source": [
    "full_mass = 24332.31#24661.36 #24189.23 #24245.225 #24941.525 #24252.315242 #24581.374101 \n",
    "df_3p_24332, df_5p_24332 = computational_data_seperation(df_3p, df_5p, full_mass, ignore_endpoints=True)\n",
    "plotly_zones(df_5p_24332, df_3p_24332)\n",
    "df_24332 = pd.concat([df_3p_24332, df_5p_24332]).drop_duplicates()\n",
    "df_24332.shape"
   ]
  },
  {
   "cell_type": "code",
   "execution_count": null,
   "metadata": {},
   "outputs": [],
   "source": [
    "full_mass = 24027.24#24661.36 #24189.23 #24245.225 #24941.525 #24252.315242 #24581.374101 \n",
    "df_3p_24027, df_5p_24027 = computational_data_seperation(df_3p, df_5p, full_mass, ignore_endpoints=True)\n",
    "plotly_zones(df_5p_24027, df_3p_24027)\n",
    "df_24027 = pd.concat([df_3p_24027, df_5p_24027]).drop_duplicates()\n",
    "df_24027.shape"
   ]
  },
  {
   "cell_type": "code",
   "execution_count": null,
   "metadata": {},
   "outputs": [],
   "source": [
    "df_common = df_5p_24332[df_5p_24332.Mass.isin(df_5p_24027.Mass)]\n",
    "# plotly_multi_zones([df_5p_24332, df_5p_24027, df_common])\n",
    "plotly_zone(df_common)"
   ]
  },
  {
   "cell_type": "code",
   "execution_count": null,
   "metadata": {},
   "outputs": [],
   "source": [
    "full_mass = 24445.35 #24116.27 ##24661.36 #24189.23 #24245.225 #24941.525 #24252.315242 #24581.374101 \n",
    "df_3p_24445, df_5p_24445 = computational_data_seperation(df_3p, df_5p, full_mass, ignore_endpoints=True)\n",
    "plotly_zones(df_5p_24445, df_3p_24445)\n",
    "df_24445 = pd.concat([df_3p_24445, df_5p_24445]).drop_duplicates()\n",
    "df_24445.shape"
   ]
  },
  {
   "cell_type": "code",
   "execution_count": null,
   "metadata": {},
   "outputs": [],
   "source": [
    "full_mass = 24116.27 # ##24661.36 #24189.23 #24245.225 #24941.525 #24252.315242 #24581.374101 \n",
    "df_3p_24116, df_5p_24116 = computational_data_seperation(df_3p, df_5p, full_mass, ignore_endpoints=True)\n",
    "plotly_zones(df_5p_24116, df_3p_24116)\n",
    "df_24116 = pd.concat([df_3p_24116, df_5p_24116]).drop_duplicates()\n",
    "df_24116.shape"
   ]
  },
  {
   "cell_type": "code",
   "execution_count": null,
   "metadata": {},
   "outputs": [],
   "source": [
    "full_mass = 24668.41 #24997.46 #23722.165\n",
    "df_3p_no, df_5p_no = computational_data_seperation(df_3p, df_5p, full_mass, ignore_endpoints=True)\n",
    "plotly_zones(df_5p_no, df_3p_no)\n",
    "df_no = pd.concat([df_3p_no, df_5p_no]).drop_duplicates()\n",
    "df_no.shape"
   ]
  },
  {
   "cell_type": "code",
   "execution_count": null,
   "metadata": {},
   "outputs": [],
   "source": [
    "df_merge = pd.concat([df_5p_24332, df_5p_24027]).drop_duplicates()\n",
    "bcr = base_calling_random(df_merge, silence=True)\n",
    "plotly_basecalling(*bcr)\n",
    "df_seats = process_mass_base_seats(df_merge, bcr[1], full_mass=24332.31)\n",
    "df_seats.shape\n",
    "df_seats.to_excel('/Users/bryan/Documents/Presentations/Feb 3 2021/seats.xlsx')"
   ]
  },
  {
   "cell_type": "code",
   "execution_count": null,
   "metadata": {},
   "outputs": [],
   "source": [
    "df_3p.shape"
   ]
  },
  {
   "cell_type": "code",
   "execution_count": null,
   "metadata": {},
   "outputs": [],
   "source": [
    "# plotly_zones(df_3p_24581, df_3p_24252)\n",
    "# df_tmp = df_3p_24252.copy()\n",
    "# df_tmp.Mass = df_tmp.Mass + 329.0525\n",
    "# plotly_zones(df_3p_24581, df_tmp)\n",
    "\n",
    "# plotly_zones(df_5p_24416, df_5p_24087)\n",
    "# plotly_zones(df_5p_24581, df_5p_24416)\n",
    "# plotly_zones(df_5p_24252, df_5p_24087)\n",
    "# plotly_zones(df_24252, df_24087)\n",
    "# plotly_zones(df_3p_24581, df_3p_24416)\n",
    "\n",
    "# plotly_zones(df_3p_24252, df_3p_24087)\n",
    "# df_tmp = df_3p_24087.copy()\n",
    "# df_tmp.Mass = df_tmp.Mass + 165.07\n",
    "# plotly_zones(df_3p_24252, df_tmp)\n",
    "\n",
    "# # plotly_zones(df_3p_24581, df_3p_24597)\n",
    "# df_tmp = df_3p_24597.copy()\n",
    "# # df_tmp.Mass = df_tmp.Mass - 16\n",
    "# plotly_zones(df_3p_24581, df_tmp)\n",
    "\n",
    "# plotly_zones(df_5p_24581, df_5p_24252, y='RT')\n",
    "# plotly_zones(df_5p_24332, df_5p_24027, y='RT')\n",
    "# plotly_zone(df_3p_24332)\n",
    "# plotly_zone(df_3p_24027)\n",
    "plotly_zone(df_3p_24596)\n",
    "plotly_zone(df_3p_24267)\n",
    "\n",
    "# plotly_zones(df_3p_24252, df_3p_24268)\n",
    "# plotly_zones(df_3p_24581, df_3p_24597)\n",
    "# plotly_zones(df_24252, df_24268)\n",
    "# plotly_zones(df_24252, df_24597)\n",
    "# plotly_multi_zones([df_5p_24581, df_24597, df_24252, df_24268])"
   ]
  },
  {
   "cell_type": "code",
   "execution_count": null,
   "metadata": {},
   "outputs": [],
   "source": [
    "df_left_gap = dots_in_left_gap(df_5p, 2826.404, orientation=5)\n",
    "df_left_gap.shape"
   ]
  },
  {
   "cell_type": "code",
   "execution_count": null,
   "metadata": {},
   "outputs": [],
   "source": [
    "# df_mid_gap = dots_in_mid_gap(df_5p, 2548.3381, 3856.531)\n",
    "df_mid_gap = dots_in_mid_gap(df_5p, 9535.374254, 14310.00116)\n",
    "df_mid_gap.shape"
   ]
  },
  {
   "cell_type": "code",
   "execution_count": null,
   "metadata": {},
   "outputs": [],
   "source": [
    "# df_right_gap = dots_in_right_gap(df_phe, 20449.84227, 24267.31, orientation=3)\n",
    "df_right_gap = dots_in_right_gap(df_phe, 21150.87924, 24596.36, orientation=5)\n",
    "df_right_gap.shape"
   ]
  },
  {
   "cell_type": "code",
   "execution_count": null,
   "metadata": {},
   "outputs": [],
   "source": [
    "%run ../modules/utils.ipynb\n",
    "components(674.1275284)"
   ]
  },
  {
   "cell_type": "code",
   "execution_count": null,
   "metadata": {},
   "outputs": [],
   "source": [
    "\n",
    "# plotly_multi_zones([df_3p_24332, df_mid_gap])\n",
    "# plotly_multi_zones([df_3p_24027, df_mid_gap])\n",
    "df_3p_tmp = df_3p_24332.copy()\n",
    "df_3p_tmp.Mass = df_3p_tmp.Mass - 305.0413\n",
    "# plotly_multi_zones([df_3p_24332, df_3p_tmp])\n",
    "\n",
    "df_common = match_dfs(df_3p_tmp, df_3p_24027)\n",
    "# plotly_zone(df_common)\n",
    "# plotly_multi_zones([df_3p_24027, df_left_gap[df_left_gap.Hit > 3]])\n",
    "# plotly_multi_zones([df_3p_24027, df_mid_gap, df_left_gap])\n",
    "# plotly_multi_zones([df_3p_24267, df_mid_gap, df_left_gap, df_right_gap])\n",
    "plotly_multi_zones([df_5p_25334,  df_mid_gap,])\n",
    "# df_3p_tmp = df_3p_24252.copy()\n",
    "# df_3p_tmp.Mass = df_3p_tmp.Mass + 329.0525\n",
    "# plotly_multi_zones([df_3p_24581, df_3p_tmp])\n",
    "\n",
    "# plotly_multi_zones([df_5p_24332, df_mid_gap, df_right_gap])\n",
    "# plotly_multi_zones([df_5p_24416, df_5p_24087, df_left_gap])"
   ]
  },
  {
   "cell_type": "code",
   "execution_count": null,
   "metadata": {},
   "outputs": [],
   "source": [
    "df_left_gap = mutual_connection(df_left_gap)"
   ]
  },
  {
   "cell_type": "code",
   "execution_count": null,
   "metadata": {},
   "outputs": [],
   "source": [
    "import random\n",
    "\n",
    "def mutual_connection(_df):\n",
    "    df = _df.copy()\n",
    "    df['Hit'] = 0\n",
    "    len = df.shape[0]\n",
    "    for i in range(len):\n",
    "        print('Processing {}'.format(df.iloc[i].Mass))\n",
    "        count = 0\n",
    "        j_pool = set()\n",
    "        N = 5 if i > 3 else 2\n",
    "        while count < N:\n",
    "            j = random.randint(0, len-1)\n",
    "            if j == i or j in j_pool:\n",
    "                continue\n",
    "    #         print('i {} j {}, len {}'.format(i, j, len))\n",
    "            diff = abs(df.iloc[i].Mass - df.iloc[j].Mass)\n",
    "            if diff < 400 or diff > 3000:\n",
    "                continue\n",
    "\n",
    "            j_pool.add(j)\n",
    "\n",
    "            print('--handle Mass {}'.format(df.iloc[j].Mass))\n",
    "            df_condidates = components(diff)\n",
    "            print(df_condidates)\n",
    "            if not df_condidates.empty:\n",
    "                print('Hit index {}.'.format(i))\n",
    "                df['Hit'].iloc[i] += 1\n",
    "\n",
    "            count += 1\n",
    "\n",
    "    print(df)\n",
    "    return df\n",
    "    "
   ]
  },
  {
   "cell_type": "code",
   "execution_count": null,
   "metadata": {},
   "outputs": [],
   "source": [
    "\n",
    "df_mid_ends = pd.DataFrame()\n",
    "df_mid_ends['Mass'] = np.array([9535.374254, 14310.00116])\n",
    "df_mid_ends = match_dfs(df_mid_ends, df_5p)\n",
    "df_tmp = pd.concat([df_mid_gap, df_mid_ends])\n",
    "bcr = base_calling_random(df_tmp, silence=True)\n",
    "plotly_basecalling(*bcr)"
   ]
  },
  {
   "cell_type": "code",
   "execution_count": null,
   "metadata": {},
   "outputs": [],
   "source": [
    "df_3p_24267.to_excel('/Users/bryan/Documents/BioPharmaFinder/ZhangLab/MassSum/Phe_MFE0724/Group_24596/skeleton.xlsx')"
   ]
  },
  {
   "cell_type": "code",
   "execution_count": null,
   "metadata": {},
   "outputs": [],
   "source": [
    "df_merge = df_3p_24267 #pd.concat([df_5p_24332, df_5p_24027]).drop_duplicates()\n",
    "bcr = base_calling_random(df_merge, silence=True)\n",
    "df_seats = process_mass_base_seats(df_merge, bcr[1], full_mass=24267.31)\n",
    "df_seats.to_excel('/Users/bryan/Documents/BioPharmaFinder/ZhangLab/MassSum/Phe_MFE0724/Group_24596/seats.xlsx')"
   ]
  },
  {
   "cell_type": "code",
   "execution_count": null,
   "metadata": {},
   "outputs": [],
   "source": [
    "df_left_gap = dots_in_left_gap(df_3p, 2789.406, orientation=3)\n",
    "df_left_gap.shape"
   ]
  },
  {
   "cell_type": "code",
   "execution_count": null,
   "metadata": {},
   "outputs": [],
   "source": [
    "plot_zones(df_3p_24581, df_left_gap)\n",
    "plotly_zone(df_left_gap, y='Vol')"
   ]
  },
  {
   "cell_type": "code",
   "execution_count": null,
   "metadata": {},
   "outputs": [],
   "source": [
    "%run ../modules/utils.ipynb"
   ]
  },
  {
   "cell_type": "code",
   "execution_count": null,
   "metadata": {},
   "outputs": [],
   "source": [
    "df_seats = process_mass_base_seats(df_merge, bcr[1], full_mass=24581.38)\n",
    "df_seats.to_excel('/Users/bryan/Documents/Presentations/Feb 3 2021/seats.xlsx')"
   ]
  },
  {
   "cell_type": "code",
   "execution_count": null,
   "metadata": {},
   "outputs": [],
   "source": [
    "df_merge = pd.concat([df_5p_24597, df_5p_24268]).drop_duplicates()\n",
    "bcr = base_calling_random(df_merge) #[df_3p_cc.Mass>20000]\n",
    "plotly_basecalling(*bcr, df_ori=df_merge)"
   ]
  },
  {
   "cell_type": "code",
   "execution_count": null,
   "metadata": {},
   "outputs": [],
   "source": [
    "TAG_5P = 79.9663\n",
    "TAG_3OH = 18.0106\n",
    "\n",
    "def dots_in_left_gap(df, mass, orientation=5):\n",
    "    columns = ['Mass', 'RT']\n",
    "    df_ends = pd.DataFrame(index=[0, 1], columns=columns, dtype=float)\n",
    "    left_mass = TAG_5P\n",
    "    if orientation == 3:\n",
    "        left_mass = TAG_3OH - TAG_5P\n",
    "    df_ends.loc[0][columns] = [left_mass, 0.0]\n",
    "    df_ends.loc[1][columns] = df[(df.Mass < mass+0.1) & (df.Mass > mass-0.1)].iloc[0][columns]\n",
    "    df_gap = standalone_dots(df, df_ends, mode='all')\n",
    "    return df_gap\n",
    "\n",
    "def dots_in_right_gap(df, mass, full_mass, orientation=5):\n",
    "    columns = ['Mass', 'RT']\n",
    "    df_ends = pd.DataFrame(index=[0, 1], columns=columns, dtype=float)\n",
    "    df_ends.loc[0][columns] = df[(df.Mass < mass+0.1) & (df.Mass > mass-0.1)].iloc[0][columns]\n",
    "    df_ends.loc[1][columns] = df[(df.Mass < full_mass+0.1) & (df.Mass > full_mass-0.1)].iloc[0][columns]\n",
    "    if orientation == 5:\n",
    "        df_ends.loc[1]['Mass'] += TAG_5P\n",
    "    df_gap = standalone_dots(df, df_ends, mode='all')\n",
    "    return df_gap\n",
    "\n",
    "def dots_in_mid_gap(df, left_mass, right_mass):\n",
    "    columns = ['Mass', 'RT']\n",
    "    df_ends = pd.DataFrame(index=[0, 1], columns=columns, dtype=float)\n",
    "    df_ends.loc[0][columns] = df[(df.Mass < left_mass+0.1) & (df.Mass > left_mass-0.1)].iloc[0][columns]\n",
    "    df_ends.loc[1][columns] = df[(df.Mass < right_mass+0.1) & (df.Mass > right_mass-0.1)].iloc[0][columns]\n",
    "    df_gap = standalone_dots(df, df_ends, mode='all')\n",
    "    return df_gap"
   ]
  },
  {
   "cell_type": "code",
   "execution_count": null,
   "metadata": {},
   "outputs": [],
   "source": []
  },
  {
   "cell_type": "code",
   "execution_count": null,
   "metadata": {},
   "outputs": [],
   "source": [
    "TAG_5P = 79.9663\n",
    "TAG_3OH = 18.0106\n",
    "\n",
    "start_mass = 20821.81608\n",
    "full_mass = 24416.29\n",
    "columns = ['Mass', 'RT']\n",
    "df_ends = pd.DataFrame(index=[0, 1], columns=columns, dtype=float)\n",
    "# df_ends.loc[0][columns] = df_5p[(df_5p.Mass < 21825.96+0.1) & (df_5p.Mass > 21825.96-0.1)].iloc[0][columns]\n",
    "df_ends.loc[0][columns] = df_5p[(df_5p.Mass < start_mass+0.1) & (df_5p.Mass > start_mass-0.1)].iloc[0][columns]\n",
    "df_ends.loc[1][columns] = df_5p[(df_5p.Mass < full_mass+0.1) & (df_5p.Mass > full_mass-0.1)].iloc[0][columns]\n",
    "df_ends.loc[1]['Mass'] += TAG_5P\n",
    "df_ends\n",
    "df_alones_5p = standalone_dots(df_5p, df_ends, mode='all')\n",
    "plotly_zone(df_alones_5p)"
   ]
  },
  {
   "cell_type": "code",
   "execution_count": null,
   "metadata": {},
   "outputs": [],
   "source": [
    "df_alones_5p"
   ]
  },
  {
   "cell_type": "code",
   "execution_count": null,
   "metadata": {},
   "outputs": [],
   "source": [
    "# df_alones_5p.append(df_5p[(df_5p.Mass < full_mass+0.1) & (df_5p.Mass > full_mass-0.1)].iloc[0])\n",
    "# df_alones_5p\n",
    "bcr = base_calling_random(df_alones_5p) #[df_3p_cc.Mass>20000]\n",
    "plt, _ = plotly_basecalling(*bcr)"
   ]
  },
  {
   "cell_type": "code",
   "execution_count": null,
   "metadata": {},
   "outputs": [],
   "source": [
    "tmp_mass = 283.0917 #588.133 #893.174299\n",
    "df_3p[(df_3p.Mass < tmp_mass+0.1) & (df_3p.Mass > tmp_mass-0.1)]"
   ]
  },
  {
   "cell_type": "code",
   "execution_count": null,
   "metadata": {},
   "outputs": [],
   "source": [
    "df_alones_5p.iloc[1]['Mass'] += TAG_5P"
   ]
  },
  {
   "cell_type": "code",
   "execution_count": null,
   "metadata": {},
   "outputs": [],
   "source": [
    "columns = ['Mass', 'RT']\n",
    "df_ends = pd.DataFrame(index=[0, 1], columns=columns, dtype=float)\n",
    "# df_ends.loc[0][columns] = [-61.9557, 0.0]\n",
    "df_ends.loc[0][columns] = [893.174299, 0.0]\n",
    "df_ends.loc[1][columns] = df_24597[(df_24597.Mass < 2789.41) & (df_24597.Mass > 2789.40)].iloc[0][columns]\n",
    "df_alones_3p = standalone_dots(df_3p, df_ends, mode='all')\n",
    "df_alones_3p.shape"
   ]
  },
  {
   "cell_type": "code",
   "execution_count": null,
   "metadata": {},
   "outputs": [],
   "source": [
    "df_alones_3p"
   ]
  },
  {
   "cell_type": "code",
   "execution_count": null,
   "metadata": {},
   "outputs": [],
   "source": [
    "plotly_zone(df_alones_3p, y='Vol')"
   ]
  },
  {
   "cell_type": "code",
   "execution_count": null,
   "metadata": {},
   "outputs": [],
   "source": [
    "plotly_zones(df_24597, df_alones_3p)\n",
    "# plotly_zones(df_24268, df_alones_3p)"
   ]
  },
  {
   "cell_type": "code",
   "execution_count": null,
   "metadata": {},
   "outputs": [],
   "source": []
  },
  {
   "cell_type": "code",
   "execution_count": null,
   "metadata": {},
   "outputs": [],
   "source": [
    "bcr = base_calling_random(df_alones_3p, silence=True)\n",
    "plotly_basecalling(*bcr)"
   ]
  },
  {
   "cell_type": "code",
   "execution_count": null,
   "metadata": {},
   "outputs": [],
   "source": [
    "plotly_zone(df_5p_cc)"
   ]
  },
  {
   "cell_type": "code",
   "execution_count": null,
   "metadata": {},
   "outputs": [],
   "source": [
    "bcr = base_calling_random(df_5p_cc) #[df_3p_cc.Mass>20000]\n",
    "plt, _ = plot_basecalling(*bcr, annotate=False)"
   ]
  },
  {
   "cell_type": "code",
   "execution_count": null,
   "metadata": {},
   "outputs": [],
   "source": [
    "fullmass_dot = df_phe[(df_phe.Mass>full_mass-0.1) & (df_phe.Mass<full_mass+0.1)]\n",
    "fullmass_dot"
   ]
  },
  {
   "cell_type": "code",
   "execution_count": null,
   "metadata": {},
   "outputs": [],
   "source": [
    "TAG_5P = 79.9663\n",
    "TAG_3OH = 18.0106\n",
    "\n",
    "df_sample = df_5p_cc #df_5p_cc_ref\n",
    "df_sample = df_sample.sort_values('Mass')\n",
    "\n",
    "idxs = list()\n",
    "gap_idxs = list()\n",
    "for idx, row in df_sample.iterrows():\n",
    "    print('Processing forward {}'.format(row.Mass))\n",
    "    columns = ['Mass', 'RT', 'Vol']\n",
    "    df_ends = pd.DataFrame(index=[0, 1], columns=columns)\n",
    "    if not idxs:\n",
    "        # handle gap between TAG and the first dot\n",
    "        pre = TAG_5P + TAG_3OH\n",
    "        df_ends.iloc[0] = [pre, 0.001, 0]\n",
    "    else:\n",
    "        pre = df_sample.loc[idxs[-1]].Mass\n",
    "        df_ends.iloc[0] = df_sample.loc[idxs[-1]][columns]\n",
    "    is_last = True if idx == df_sample.index[-1] else False\n",
    "    if not is_last and row.Mass - pre < 600:\n",
    "        continue\n",
    "    print('components {}-{}'.format(row.Mass, pre))\n",
    "    res = components(row.Mass - pre)\n",
    "    if not res.empty:\n",
    "        # keep this dot, and fill in the gap\n",
    "        print('keep this dot {}'.format(row.Mass))\n",
    "        idxs.append(idx)\n",
    "#         continue\n",
    "        df_ends.iloc[1] = row[columns]\n",
    "#         print(df_ends, df_ends.info())\n",
    "        df_ends = df_ends.astype(float)\n",
    "        df_alones = standalone_dots(df_5p, df_ends, mode='all')\n",
    "        if not df_alones.empty:\n",
    "            print('extend dots ', df_alones)\n",
    "            gap_idxs.extend(df_alones.index)\n",
    "#         print(df_alones)\n",
    "\n",
    "    if is_last:\n",
    "        df_ends.iloc[0] = df_sample.loc[idxs[-1]][columns]\n",
    "        df_ends.iloc[1] = fullmass_dot.iloc[0][columns]\n",
    "        df_ends.iloc[1]['Mass'] += TAG_5P\n",
    "        df_alones = standalone_dots(df_5p, df_ends, mode='all')\n",
    "        if not df_alones.empty:\n",
    "            print('extend dots ', df_alones)\n",
    "            gap_idxs.extend(df_alones.index)\n",
    "        \n",
    "        # append the fullmass dot\n",
    "        gap_idxs.append(fullmass_dot.index[0])\n",
    "        \n",
    "print(gap_idxs)\n",
    "print(df_5p.loc[gap_idxs])"
   ]
  },
  {
   "cell_type": "code",
   "execution_count": null,
   "metadata": {},
   "outputs": [],
   "source": [
    "components(918.0750643431002)"
   ]
  },
  {
   "cell_type": "code",
   "execution_count": null,
   "metadata": {},
   "outputs": [],
   "source": [
    "df_gap_dots = df_5p.loc[gap_idxs]\n",
    "df_gap_dots"
   ]
  },
  {
   "cell_type": "code",
   "execution_count": null,
   "metadata": {},
   "outputs": [],
   "source": [
    "plot_zones(df_gap_dots, df_sample)"
   ]
  },
  {
   "cell_type": "code",
   "execution_count": null,
   "metadata": {},
   "outputs": [],
   "source": [
    "df_5p_cc.to_excel('/Users/bryan/Documents/BioPharmaFinder/ZhangLab/MassSum/Yue/24203.24/skeleton.xlsx')\n",
    "# df_3p_cc.to_excel('/Users/bryan/Documents/BioPharmaFinder/ZhangLab/MassSum/Yue/24941.525/skeleton_3p.xlsx')"
   ]
  },
  {
   "cell_type": "code",
   "execution_count": null,
   "metadata": {},
   "outputs": [],
   "source": [
    "df_5p_cc.to_excel('/Users/bryan/Documents/BioPharmaFinder/ZhangLab/MassSum/Yue/25334.618/skeleton_5p_top.xlsx')\n",
    "df_3p_cc.to_excel('/Users/bryan/Documents/BioPharmaFinder/ZhangLab/MassSum/Yue/25334.618/skeleton_3p_top.xlsx')"
   ]
  },
  {
   "cell_type": "code",
   "execution_count": null,
   "metadata": {},
   "outputs": [],
   "source": [
    "df_all = pd.concat([df_gap_dots, df_sample])\n",
    "df_all.drop_duplicates().to_excel('/Users/bryan/Documents/BioPharmaFinder/ZhangLab/MassSum/Yue/25334.618/skeleton_with_dots_in_gap_5p.xlsx')"
   ]
  },
  {
   "cell_type": "code",
   "execution_count": null,
   "metadata": {},
   "outputs": [],
   "source": []
  },
  {
   "cell_type": "code",
   "execution_count": null,
   "metadata": {},
   "outputs": [],
   "source": [
    "fpath = '/Users/bryan/Documents/Presentations/Feb 3 2021/seats_25334.csv'\n",
    "df1 = pd.read_csv(fpath)\n",
    "plt = plot_zone(df1)\n",
    "png = fpath.split('.')[0]+'.png'\n",
    "plt.savefig(png, transparent=True)"
   ]
  },
  {
   "cell_type": "code",
   "execution_count": null,
   "metadata": {},
   "outputs": [],
   "source": []
  }
 ],
 "metadata": {
  "kernelspec": {
   "display_name": "Python 3",
   "language": "python",
   "name": "python3"
  },
  "language_info": {
   "codemirror_mode": {
    "name": "ipython",
    "version": 3
   },
   "file_extension": ".py",
   "mimetype": "text/x-python",
   "name": "python",
   "nbconvert_exporter": "python",
   "pygments_lexer": "ipython3",
   "version": "3.7.3"
  }
 },
 "nbformat": 4,
 "nbformat_minor": 4
}
