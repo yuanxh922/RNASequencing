{
 "cells": [
  {
   "cell_type": "code",
   "execution_count": null,
   "metadata": {},
   "outputs": [],
   "source": [
    "import pandas as pd\n",
    "import numpy as np"
   ]
  },
  {
   "cell_type": "code",
   "execution_count": null,
   "metadata": {},
   "outputs": [],
   "source": [
    "import matplotlib.pyplot as plt"
   ]
  },
  {
   "cell_type": "code",
   "execution_count": null,
   "metadata": {},
   "outputs": [],
   "source": [
    "# df = pd.read_csv('/Users/bryan/Documents/SeqDataSets/12mix/12mix.csv')\n",
    "# df = pd.read_excel('/Users/bryan/Studio/seq_bank/mix100.xlsx')\n",
    "# df = pd.read_excel('/Users/bryan/Studio/seq_bank/data/merge/mix_19_20_21_201_202_203_204_205_206_207.xlsx')\n",
    "df = pd.read_csv('/Users/bryan/Studio/seq/data/merges/df_19_20_21.csv')"
   ]
  },
  {
   "cell_type": "code",
   "execution_count": null,
   "metadata": {},
   "outputs": [],
   "source": [
    "plt.scatter(df.Mass, df.RT)"
   ]
  },
  {
   "cell_type": "code",
   "execution_count": null,
   "metadata": {},
   "outputs": [],
   "source": [
    "df_6k = df[df.Mass > 6000]"
   ]
  },
  {
   "cell_type": "code",
   "execution_count": null,
   "metadata": {},
   "outputs": [],
   "source": [
    "plt.scatter(df_6k.Mass, df_6k.RT)"
   ]
  },
  {
   "cell_type": "code",
   "execution_count": null,
   "metadata": {},
   "outputs": [],
   "source": [
    "df_6k = df_6k.sort_values('Vol', ascending=False)"
   ]
  },
  {
   "cell_type": "code",
   "execution_count": null,
   "metadata": {},
   "outputs": [],
   "source": [
    "df_condidates = df_6k[df_6k.Vol > 5E6]"
   ]
  },
  {
   "cell_type": "code",
   "execution_count": null,
   "metadata": {},
   "outputs": [],
   "source": [
    "df_condidates.index"
   ]
  },
  {
   "cell_type": "code",
   "execution_count": null,
   "metadata": {},
   "outputs": [],
   "source": [
    "df_condidates.shape"
   ]
  },
  {
   "cell_type": "code",
   "execution_count": null,
   "metadata": {},
   "outputs": [],
   "source": [
    "x = y = df_condidates.Mass"
   ]
  },
  {
   "cell_type": "code",
   "execution_count": null,
   "metadata": {},
   "outputs": [],
   "source": [
    "x = np.array(x)\n",
    "y = np.array(y)"
   ]
  },
  {
   "cell_type": "code",
   "execution_count": null,
   "metadata": {},
   "outputs": [],
   "source": [
    "x, y"
   ]
  },
  {
   "cell_type": "code",
   "execution_count": null,
   "metadata": {},
   "outputs": [],
   "source": [
    "TAG = 694.2397\n",
    "MASS_P = 79.96633\n",
    "MASS_H2O = 18.0106\n",
    "MASS_DIFF = TAG + MASS_P - MASS_H2O "
   ]
  },
  {
   "cell_type": "code",
   "execution_count": null,
   "metadata": {},
   "outputs": [],
   "source": [
    "np_ppm = np.abs((x[:, np.newaxis] - y - MASS_DIFF))# * 1E6 / MASS_DIFF"
   ]
  },
  {
   "cell_type": "code",
   "execution_count": null,
   "metadata": {},
   "outputs": [],
   "source": [
    "np_ppm[np_ppm < 0.1]"
   ]
  },
  {
   "cell_type": "code",
   "execution_count": null,
   "metadata": {},
   "outputs": [],
   "source": [
    "df_ppm = pd.DataFrame(np_ppm)\n",
    "df_ppm = df_ppm[df_ppm < 0.1]\n",
    "# df_ppm.notnull().stack().index"
   ]
  },
  {
   "cell_type": "code",
   "execution_count": null,
   "metadata": {},
   "outputs": [],
   "source": [
    "idx_pairs = list(df_ppm[df_ppm.notnull()].stack().index)\n",
    "df3_idxs = [pair[0] for pair in idx_pairs]\n",
    "df5_idxs = [pair[1] for pair in idx_pairs]\n",
    "print(len(df3_idxs), len(df5_idxs))\n",
    "df3_idxs = list(set(df3_idxs))\n",
    "df5_idxs = list(set(df5_idxs))"
   ]
  },
  {
   "cell_type": "code",
   "execution_count": null,
   "metadata": {},
   "outputs": [],
   "source": [
    "end_masses_3p = df_condidates.iloc[df3_idxs]['Mass'].sort_values()"
   ]
  },
  {
   "cell_type": "code",
   "execution_count": null,
   "metadata": {},
   "outputs": [],
   "source": [
    "end_masses_3p"
   ]
  },
  {
   "cell_type": "code",
   "execution_count": null,
   "metadata": {},
   "outputs": [],
   "source": [
    "df_condidates.iloc[df5_idxs]['Mass'].sort_values()"
   ]
  },
  {
   "cell_type": "markdown",
   "metadata": {},
   "source": [
    "# Final Version"
   ]
  },
  {
   "cell_type": "code",
   "execution_count": null,
   "metadata": {},
   "outputs": [],
   "source": [
    "def endpoints(df, mass_diff=MASS_DIFF, min_mass=6000, min_vol=5E6):\n",
    "    df_top = df[(df.Mass > min_mass) & (df.Vol > min_vol)]\n",
    "    print(\"Input shape {} filtered shape {} by min mass {} and min Vol {}\".format(df.shape, df_top.shape, min_mass, min_vol))\n",
    "    \n",
    "    x = y = np.array(df_top.Mass)\n",
    "    np_ppm = np.abs((x[:, np.newaxis] - y - mass_diff))\n",
    "    df_ppm = pd.DataFrame(np_ppm)\n",
    "    df_ppm = df_ppm[df_ppm < 0.1]\n",
    "    \n",
    "    idx_pairs = list(df_ppm[df_ppm.notnull()].stack().index)\n",
    "    df3_idxs = [pair[0] for pair in idx_pairs]\n",
    "    df5_idxs = [pair[1] for pair in idx_pairs]\n",
    "    df3_idxs = list(set(df3_idxs))\n",
    "    df5_idxs = list(set(df5_idxs))\n",
    "    print(\"found 3' ladder ends {} 5' ladder ends {}\".format(len(df3_idxs), len(df5_idxs)))\n",
    "    return df_top.iloc[df3_idxs].sort_values('Mass'), df_top.iloc[df5_idxs].sort_values('Mass')"
   ]
  },
  {
   "cell_type": "code",
   "execution_count": null,
   "metadata": {},
   "outputs": [],
   "source": [
    "features = ['Mass', 'RT', 'Vol'] #, 'Quality Score'"
   ]
  },
  {
   "cell_type": "code",
   "execution_count": null,
   "metadata": {},
   "outputs": [],
   "source": [
    "df = pd.read_csv('/Users/bryan/Studio/seq/data/merges/df_19_20.csv')\n",
    "endpoints_3p, endpoints_5p = endpoints(df)\n",
    "endpoints_3p[features], endpoints_5p[features]"
   ]
  },
  {
   "cell_type": "code",
   "execution_count": null,
   "metadata": {},
   "outputs": [],
   "source": [
    "df = pd.read_csv('/Users/bryan/Studio/seq/data/merges/df_19_20_21_201_202_203_204.csv')\n",
    "endpoints_3p, endpoints_5p = endpoints(df)\n",
    "endpoints_3p[features], endpoints_5p[features]"
   ]
  },
  {
   "cell_type": "code",
   "execution_count": null,
   "metadata": {},
   "outputs": [],
   "source": [
    "df = pd.read_csv('/Users/bryan/Studio/seq/data/merges/df_19_20_21_201_202.csv')\n",
    "endpoints_3p, endpoints_5p = endpoints(df)\n",
    "endpoints_3p[features], endpoints_5p[features]"
   ]
  },
  {
   "cell_type": "code",
   "execution_count": null,
   "metadata": {},
   "outputs": [],
   "source": [
    "df = pd.read_excel('/Users/bryan/Documents/SeqDataSets/5mix.xlsx')\n",
    "endpoints_3p, endpoints_5p = endpoints(df)\n",
    "endpoints_3p[features], endpoints_5p[features]"
   ]
  },
  {
   "cell_type": "code",
   "execution_count": null,
   "metadata": {},
   "outputs": [],
   "source": [
    "df = pd.read_csv('/Users/bryan/Documents/SeqDataSets/12mix/12mix.csv')\n",
    "endpoints_3p, endpoints_5p = endpoints(df)\n",
    "endpoints_3p[features], endpoints_5p[features]"
   ]
  },
  {
   "cell_type": "code",
   "execution_count": null,
   "metadata": {},
   "outputs": [],
   "source": [
    "df_19 = pd.read_csv('/Users/bryan/Studio/seq/data/samples/19.csv')\n",
    "endpoints_3p, endpoints_5p = endpoints(df_19)\n",
    "endpoints_3p[features], endpoints_5p[features]"
   ]
  },
  {
   "cell_type": "code",
   "execution_count": null,
   "metadata": {},
   "outputs": [],
   "source": [
    "df = pd.read_csv('/Users/bryan/Studio/seq/data/samples/20.csv')\n",
    "endpoints_3p, endpoints_5p = endpoints(df)\n",
    "endpoints_3p[features], endpoints_5p[features]"
   ]
  },
  {
   "cell_type": "code",
   "execution_count": null,
   "metadata": {},
   "outputs": [],
   "source": [
    "df = pd.read_csv('/Users/bryan/Studio/seq/data/samples/21.csv')\n",
    "endpoints_3p, endpoints_5p = endpoints(df)\n",
    "endpoints_3p[features], endpoints_5p[features]"
   ]
  },
  {
   "cell_type": "code",
   "execution_count": null,
   "metadata": {},
   "outputs": [],
   "source": [
    "df = pd.read_csv('/Users/bryan/Studio/seq/data/samples/201.csv')\n",
    "endpoints_3p, endpoints_5p = endpoints(df)\n",
    "endpoints_3p[features], endpoints_5p[features]"
   ]
  },
  {
   "cell_type": "code",
   "execution_count": null,
   "metadata": {},
   "outputs": [],
   "source": [
    "df = pd.read_csv('/Users/bryan/Studio/seq/data/samples/202.csv')\n",
    "endpoints_3p, endpoints_5p = endpoints(df)\n",
    "endpoints_3p[features], endpoints_5p[features]"
   ]
  },
  {
   "cell_type": "code",
   "execution_count": null,
   "metadata": {},
   "outputs": [],
   "source": [
    "df = pd.read_csv('/Users/bryan/Studio/seq/data/samples/203.csv')\n",
    "endpoints_3p, endpoints_5p = endpoints(df)\n",
    "endpoints_3p[features], endpoints_5p[features]"
   ]
  },
  {
   "cell_type": "code",
   "execution_count": null,
   "metadata": {},
   "outputs": [],
   "source": [
    "df = pd.read_csv('/Users/bryan/Studio/seq/data/samples/204.csv')\n",
    "endpoints_3p, endpoints_5p = endpoints(df)\n",
    "endpoints_3p[features], endpoints_5p[features]"
   ]
  },
  {
   "cell_type": "code",
   "execution_count": null,
   "metadata": {},
   "outputs": [],
   "source": [
    "df = pd.read_csv('/Users/bryan/Studio/seq/data/samples/205.csv')\n",
    "endpoints_3p, endpoints_5p = endpoints(df)\n",
    "endpoints_3p[features], endpoints_5p[features]"
   ]
  },
  {
   "cell_type": "code",
   "execution_count": null,
   "metadata": {},
   "outputs": [],
   "source": [
    "df = pd.read_csv('/Users/bryan/Studio/seq/data/samples/206.csv')\n",
    "endpoints_3p, endpoints_5p = endpoints(df)\n",
    "endpoints_3p[features], endpoints_5p[features]"
   ]
  },
  {
   "cell_type": "code",
   "execution_count": null,
   "metadata": {},
   "outputs": [],
   "source": [
    "df = pd.read_csv('/Users/bryan/Studio/seq/data/samples/207.csv')\n",
    "endpoints_3p, endpoints_5p = endpoints(df)\n",
    "endpoints_3p[features], endpoints_5p[features]"
   ]
  },
  {
   "cell_type": "code",
   "execution_count": null,
   "metadata": {},
   "outputs": [],
   "source": [
    "TAG2 = 826.3184\n",
    "MASS_DIFF2 = TAG2 + MASS_P - MASS_H2O "
   ]
  },
  {
   "cell_type": "code",
   "execution_count": null,
   "metadata": {},
   "outputs": [],
   "source": [
    "df = pd.read_excel('/Users/bryan/Documents/SeqDataSets/200313/200313s15_100.xls')\n",
    "endpoints_3p, endpoints_5p = endpoints(df, mass_diff=MASS_DIFF2)\n",
    "endpoints_3p[features], endpoints_5p[features]"
   ]
  },
  {
   "cell_type": "code",
   "execution_count": null,
   "metadata": {},
   "outputs": [],
   "source": [
    "df = pd.read_excel('/Users/bryan/Documents/SeqDataSets/200313/200313s09_100.xls')\n",
    "endpoints_3p, endpoints_5p = endpoints(df, mass_diff=MASS_DIFF2)\n",
    "endpoints_3p[features], endpoints_5p[features]"
   ]
  },
  {
   "cell_type": "code",
   "execution_count": null,
   "metadata": {},
   "outputs": [],
   "source": [
    "df = pd.read_excel('/Users/bryan/Documents/SeqDataSets/200313/200313s10_100.xls')\n",
    "endpoints_3p, endpoints_5p = endpoints(df, mass_diff=MASS_DIFF2)\n",
    "endpoints_3p[features], endpoints_5p[features]"
   ]
  },
  {
   "cell_type": "code",
   "execution_count": null,
   "metadata": {},
   "outputs": [],
   "source": [
    "df = pd.read_excel('/Users/bryan/Documents/SeqDataSets/200313/200313s12_100.xls')\n",
    "endpoints_3p, endpoints_5p = endpoints(df, mass_diff=MASS_DIFF2)\n",
    "endpoints_3p[features], endpoints_5p[features]"
   ]
  },
  {
   "cell_type": "code",
   "execution_count": null,
   "metadata": {},
   "outputs": [],
   "source": [
    "df.columns"
   ]
  },
  {
   "cell_type": "code",
   "execution_count": null,
   "metadata": {},
   "outputs": [],
   "source": []
  }
 ],
 "metadata": {
  "kernelspec": {
   "display_name": "Python 3",
   "language": "python",
   "name": "python3"
  },
  "language_info": {
   "codemirror_mode": {
    "name": "ipython",
    "version": 3
   },
   "file_extension": ".py",
   "mimetype": "text/x-python",
   "name": "python",
   "nbconvert_exporter": "python",
   "pygments_lexer": "ipython3",
   "version": "3.7.3"
  }
 },
 "nbformat": 4,
 "nbformat_minor": 4
}
