{
 "cells": [
  {
   "cell_type": "code",
   "execution_count": 1,
   "metadata": {},
   "outputs": [],
   "source": [
    "import pandas as pd\n",
    "import numpy as np"
   ]
  },
  {
   "cell_type": "code",
   "execution_count": 2,
   "metadata": {},
   "outputs": [],
   "source": [
    "import matplotlib.pyplot as plt"
   ]
  },
  {
   "cell_type": "code",
   "execution_count": 219,
   "metadata": {},
   "outputs": [],
   "source": [
    "# df = pd.read_csv('/Users/bryan/Documents/SeqDataSets/12mix/12mix.csv')\n",
    "# df = pd.read_excel('/Users/bryan/Studio/seq_bank/mix100.xlsx')\n",
    "# df = pd.read_excel('/Users/bryan/Studio/seq_bank/data/merge/mix_19_20_21_201_202_203_204_205_206_207.xlsx')\n",
    "df = pd.read_csv('/Users/bryan/Studio/seq/data/merges/df_19_20_21.csv')"
   ]
  },
  {
   "cell_type": "code",
   "execution_count": 220,
   "metadata": {},
   "outputs": [
    {
     "data": {
      "text/plain": [
       "<matplotlib.collections.PathCollection at 0x1212308d0>"
      ]
     },
     "execution_count": 220,
     "metadata": {},
     "output_type": "execute_result"
    },
    {
     "data": {
      "image/png": "[encoded data removed]",
      "text/plain": [
       "<Figure size 432x288 with 1 Axes>"
      ]
     },
     "metadata": {
      "needs_background": "light"
     },
     "output_type": "display_data"
    }
   ],
   "source": [
    "plt.scatter(df.Mass, df.RT)"
   ]
  },
  {
   "cell_type": "code",
   "execution_count": 221,
   "metadata": {},
   "outputs": [],
   "source": [
    "df_6k = df[df.Mass > 6000]"
   ]
  },
  {
   "cell_type": "code",
   "execution_count": 222,
   "metadata": {},
   "outputs": [
    {
     "data": {
      "text/plain": [
       "<matplotlib.collections.PathCollection at 0x121157278>"
      ]
     },
     "execution_count": 222,
     "metadata": {},
     "output_type": "execute_result"
    },
    {
     "data": {
      "image/png": "[encoded data removed]",
      "text/plain": [
       "<Figure size 432x288 with 1 Axes>"
      ]
     },
     "metadata": {
      "needs_background": "light"
     },
     "output_type": "display_data"
    }
   ],
   "source": [
    "plt.scatter(df_6k.Mass, df_6k.RT)"
   ]
  },
  {
   "cell_type": "code",
   "execution_count": 223,
   "metadata": {},
   "outputs": [],
   "source": [
    "df_6k = df_6k.sort_values('Vol', ascending=False)"
   ]
  },
  {
   "cell_type": "code",
   "execution_count": 224,
   "metadata": {},
   "outputs": [],
   "source": [
    "df_condidates = df_6k[df_6k.Vol > 5E6]"
   ]
  },
  {
   "cell_type": "code",
   "execution_count": 225,
   "metadata": {},
   "outputs": [
    {
     "data": {
      "text/plain": [
       "Int64Index([1, 510, 2, 511], dtype='int64')"
      ]
     },
     "execution_count": 225,
     "metadata": {},
     "output_type": "execute_result"
    }
   ],
   "source": [
    "df_condidates.index"
   ]
  },
  {
   "cell_type": "code",
   "execution_count": 226,
   "metadata": {},
   "outputs": [
    {
     "data": {
      "text/plain": [
       "(4, 4)"
      ]
     },
     "execution_count": 226,
     "metadata": {},
     "output_type": "execute_result"
    }
   ],
   "source": [
    "df_condidates.shape"
   ]
  },
  {
   "cell_type": "code",
   "execution_count": 227,
   "metadata": {},
   "outputs": [],
   "source": [
    "x = y = df_condidates.Mass"
   ]
  },
  {
   "cell_type": "code",
   "execution_count": 228,
   "metadata": {},
   "outputs": [],
   "source": [
    "x = np.array(x)\n",
    "y = np.array(y)"
   ]
  },
  {
   "cell_type": "code",
   "execution_count": 229,
   "metadata": {},
   "outputs": [
    {
     "data": {
      "text/plain": [
       "(array([6781.0413, 7079.0519, 6024.8481, 6322.8565]),\n",
       " array([6781.0413, 7079.0519, 6024.8481, 6322.8565]))"
      ]
     },
     "execution_count": 229,
     "metadata": {},
     "output_type": "execute_result"
    }
   ],
   "source": [
    "x, y"
   ]
  },
  {
   "cell_type": "code",
   "execution_count": 247,
   "metadata": {},
   "outputs": [],
   "source": [
    "TAG = 694.2397\n",
    "MASS_P = 79.96633\n",
    "MASS_H2O = 18.0106\n",
    "MASS_DIFF = TAG + MASS_P - MASS_H2O "
   ]
  },
  {
   "cell_type": "code",
   "execution_count": 231,
   "metadata": {},
   "outputs": [],
   "source": [
    "np_ppm = np.abs((x[:, np.newaxis] - y - MASS_DIFF))# * 1E6 / MASS_DIFF"
   ]
  },
  {
   "cell_type": "code",
   "execution_count": 232,
   "metadata": {},
   "outputs": [
    {
     "data": {
      "text/plain": [
       "array([2.23000000e-03, 2.99999995e-05])"
      ]
     },
     "execution_count": 232,
     "metadata": {},
     "output_type": "execute_result"
    }
   ],
   "source": [
    "np_ppm[np_ppm < 0.1]"
   ]
  },
  {
   "cell_type": "code",
   "execution_count": 233,
   "metadata": {},
   "outputs": [],
   "source": [
    "df_ppm = pd.DataFrame(np_ppm)\n",
    "df_ppm = df_ppm[df_ppm < 0.1]\n",
    "# df_ppm.notnull().stack().index"
   ]
  },
  {
   "cell_type": "code",
   "execution_count": 234,
   "metadata": {},
   "outputs": [
    {
     "name": "stdout",
     "output_type": "stream",
     "text": [
      "2 2\n"
     ]
    }
   ],
   "source": [
    "idx_pairs = list(df_ppm[df_ppm.notnull()].stack().index)\n",
    "df3_idxs = [pair[0] for pair in idx_pairs]\n",
    "df5_idxs = [pair[1] for pair in idx_pairs]\n",
    "print(len(df3_idxs), len(df5_idxs))\n",
    "df3_idxs = list(set(df3_idxs))\n",
    "df5_idxs = list(set(df5_idxs))"
   ]
  },
  {
   "cell_type": "code",
   "execution_count": 235,
   "metadata": {},
   "outputs": [],
   "source": [
    "end_masses_3p = df_condidates.iloc[df3_idxs]['Mass'].sort_values()"
   ]
  },
  {
   "cell_type": "code",
   "execution_count": 236,
   "metadata": {},
   "outputs": [
    {
     "data": {
      "text/plain": [
       "1      6781.0413\n",
       "510    7079.0519\n",
       "Name: Mass, dtype: float64"
      ]
     },
     "execution_count": 236,
     "metadata": {},
     "output_type": "execute_result"
    }
   ],
   "source": [
    "end_masses_3p"
   ]
  },
  {
   "cell_type": "code",
   "execution_count": 237,
   "metadata": {},
   "outputs": [
    {
     "data": {
      "text/plain": [
       "2      6024.8481\n",
       "511    6322.8565\n",
       "Name: Mass, dtype: float64"
      ]
     },
     "execution_count": 237,
     "metadata": {},
     "output_type": "execute_result"
    }
   ],
   "source": [
    "df_condidates.iloc[df5_idxs]['Mass'].sort_values()"
   ]
  },
  {
   "cell_type": "markdown",
   "metadata": {},
   "source": [
    "# Final Version"
   ]
  },
  {
   "cell_type": "code",
   "execution_count": 248,
   "metadata": {},
   "outputs": [],
   "source": [
    "def endpoints(df, mass_diff=MASS_DIFF, min_mass=6000, min_vol=5E6):\n",
    "    df_top = df[(df.Mass > min_mass) & (df.Vol > min_vol)]\n",
    "    print(\"Input shape {} filtered shape {} by min mass {} and min Vol {}\".format(df.shape, df_top.shape, min_mass, min_vol))\n",
    "    \n",
    "    x = y = np.array(df_top.Mass)\n",
    "    np_ppm = np.abs((x[:, np.newaxis] - y - mass_diff))\n",
    "    df_ppm = pd.DataFrame(np_ppm)\n",
    "    df_ppm = df_ppm[df_ppm < 0.1]\n",
    "    \n",
    "    idx_pairs = list(df_ppm[df_ppm.notnull()].stack().index)\n",
    "    df3_idxs = [pair[0] for pair in idx_pairs]\n",
    "    df5_idxs = [pair[1] for pair in idx_pairs]\n",
    "    df3_idxs = list(set(df3_idxs))\n",
    "    df5_idxs = list(set(df5_idxs))\n",
    "    print(\"found 3' ladder ends {} 5' ladder ends {}\".format(len(df3_idxs), len(df5_idxs)))\n",
    "    return df_top.iloc[df3_idxs].sort_values('Mass'), df_top.iloc[df5_idxs].sort_values('Mass')"
   ]
  },
  {
   "cell_type": "code",
   "execution_count": 239,
   "metadata": {},
   "outputs": [],
   "source": [
    "features = ['Mass', 'RT', 'Vol'] #, 'Quality Score'"
   ]
  },
  {
   "cell_type": "code",
   "execution_count": 240,
   "metadata": {},
   "outputs": [
    {
     "name": "stdout",
     "output_type": "stream",
     "text": [
      "Input shape (1109, 4) filtered shape (4, 4) by min mass 6000 and min Vol 5000000.0\n",
      "found 3' ladder ends 2 5' ladder ends 2\n"
     ]
    },
    {
     "data": {
      "text/plain": [
       "(          Mass     RT       Vol\n",
       " 1    6781.0413  9.752  16819442\n",
       " 510  7079.0519  9.695  15887400,\n",
       "           Mass     RT       Vol\n",
       " 2    6024.8481  7.743  13740135\n",
       " 511  6322.8565  7.741  13695730)"
      ]
     },
     "execution_count": 240,
     "metadata": {},
     "output_type": "execute_result"
    }
   ],
   "source": [
    "df = pd.read_csv('/Users/bryan/Studio/seq/data/merges/df_19_20.csv')\n",
    "endpoints_3p, endpoints_5p = endpoints(df)\n",
    "endpoints_3p[features], endpoints_5p[features]"
   ]
  },
  {
   "cell_type": "code",
   "execution_count": 250,
   "metadata": {},
   "outputs": [
    {
     "name": "stdout",
     "output_type": "stream",
     "text": [
      "Input shape (10877, 6) filtered shape (22, 6) by min mass 6000 and min Vol 5000000.0\n",
      "found 3' ladder ends 9 5' ladder ends 9\n"
     ]
    },
    {
     "data": {
      "text/plain": [
       "(           Mass      RT       Vol\n",
       " 1     6781.0413   9.752  16819442\n",
       " 9131  6954.9496   9.252  19518152\n",
       " 4046  6985.0207  11.625  58498820\n",
       " 4034  7022.9624  11.628  13913092\n",
       " 6309  7073.0472  12.156  82887552\n",
       " 510   7079.0519   9.695  15887400\n",
       " 2631  7088.0481   9.912  20041130\n",
       " 2621  7125.9965   9.914   5117104\n",
       " 1324  7522.0727   9.677  10294695,\n",
       "            Mass      RT       Vol\n",
       " 2     6024.8481   7.743  13740135\n",
       " 9322  6198.7584   7.239  28722032\n",
       " 4094  6228.8290   9.631  76824144\n",
       " 4085  6266.7697   9.635  13504408\n",
       " 6354  6316.8541  10.330  72694952\n",
       " 511   6322.8565   7.741  13695730\n",
       " 2817  6331.8575   8.134  27714554\n",
       " 2804  6369.8036   8.136  10346698\n",
       " 1445  6765.8739   7.858   8310886)"
      ]
     },
     "execution_count": 250,
     "metadata": {},
     "output_type": "execute_result"
    }
   ],
   "source": [
    "df = pd.read_csv('/Users/bryan/Studio/seq/data/merges/df_19_20_21_201_202_203_204.csv')\n",
    "endpoints_3p, endpoints_5p = endpoints(df)\n",
    "endpoints_3p[features], endpoints_5p[features]"
   ]
  },
  {
   "cell_type": "code",
   "execution_count": 249,
   "metadata": {},
   "outputs": [
    {
     "name": "stdout",
     "output_type": "stream",
     "text": [
      "Input shape (6282, 6) filtered shape (16, 6) by min mass 6000 and min Vol 5000000.0\n",
      "found 3' ladder ends 7 5' ladder ends 7\n"
     ]
    },
    {
     "data": {
      "text/plain": [
       "(           Mass      RT       Vol\n",
       " 1     6781.0413   9.752  16819442\n",
       " 4046  6985.0207  11.625  58498820\n",
       " 4034  7022.9624  11.628  13913092\n",
       " 510   7079.0519   9.695  15887400\n",
       " 2631  7088.0481   9.912  20041130\n",
       " 2621  7125.9965   9.914   5117104\n",
       " 1324  7522.0727   9.677  10294695,\n",
       "            Mass     RT       Vol\n",
       " 2     6024.8481  7.743  13740135\n",
       " 4094  6228.8290  9.631  76824144\n",
       " 4085  6266.7697  9.635  13504408\n",
       " 511   6322.8565  7.741  13695730\n",
       " 2817  6331.8575  8.134  27714554\n",
       " 2804  6369.8036  8.136  10346698\n",
       " 1445  6765.8739  7.858   8310886)"
      ]
     },
     "execution_count": 249,
     "metadata": {},
     "output_type": "execute_result"
    }
   ],
   "source": [
    "df = pd.read_csv('/Users/bryan/Studio/seq/data/merges/df_19_20_21_201_202.csv')\n",
    "endpoints_3p, endpoints_5p = endpoints(df)\n",
    "endpoints_3p[features], endpoints_5p[features]"
   ]
  },
  {
   "cell_type": "code",
   "execution_count": 202,
   "metadata": {},
   "outputs": [
    {
     "name": "stdout",
     "output_type": "stream",
     "text": [
      "Input shape (5962, 26) filtered shape (17, 26) by min mass 6000 and min Vol 5000000.0\n",
      "found 3' ladder ends 7 5' ladder ends 7\n"
     ]
    },
    {
     "data": {
      "text/plain": [
       "(          Mass     RT       Vol\n",
       " 309  6781.0426  9.576  35286012\n",
       " 273  6818.9862  9.591   7577704\n",
       " 195  6954.9478  9.243  16978916\n",
       " 147  7079.0513  9.529  34343980\n",
       " 145  7088.0479  9.902  18422776\n",
       " 112  7116.9915  9.524   8698739\n",
       " 47   7522.0681  9.519  21361914,\n",
       "           Mass     RT       Vol\n",
       " 650  6024.8498  7.575  32082504\n",
       " 625  6062.7960  7.566   7275172\n",
       " 537  6198.7590  7.218  22736186\n",
       " 482  6322.8563  7.608  31174514\n",
       " 475  6331.8589  8.116  24863660\n",
       " 445  6360.8068  7.618  11065491\n",
       " 314  6765.8759  7.715  20532520)"
      ]
     },
     "execution_count": 202,
     "metadata": {},
     "output_type": "execute_result"
    }
   ],
   "source": [
    "df = pd.read_excel('/Users/bryan/Documents/SeqDataSets/5mix.xlsx')\n",
    "endpoints_3p, endpoints_5p = endpoints(df)\n",
    "endpoints_3p[features], endpoints_5p[features]"
   ]
  },
  {
   "cell_type": "code",
   "execution_count": 203,
   "metadata": {},
   "outputs": [
    {
     "name": "stdout",
     "output_type": "stream",
     "text": [
      "Input shape (4177, 26) filtered shape (27, 26) by min mass 6000 and min Vol 5000000.0\n",
      "found 3' ladder ends 12 5' ladder ends 12\n"
     ]
    },
    {
     "data": {
      "text/plain": [
       "(          Mass      RT       Vol\n",
       " 12   6781.0487  11.774  28249250\n",
       " 25   6954.9524  11.345  17940340\n",
       " 6    6985.0192  11.596  36982456\n",
       " 4    7073.0393  12.104  42531824\n",
       " 8    7079.0599  11.729  35588908\n",
       " 31   7088.0531  12.205   8321166\n",
       " 9    7088.0576  11.861  34051628\n",
       " 22   7110.0607  11.512  19469152\n",
       " 5    7151.0890  12.279  37600404\n",
       " 18   7193.0263  11.782  21564316\n",
       " 15   7522.0756  11.851  25635358\n",
       " 23  10283.4738  12.301  19203606,\n",
       "          Mass      RT       Vol\n",
       " 11  6024.8560   9.786  28678592\n",
       " 20  6198.7617   9.274  20338994\n",
       " 3   6228.8264   9.615  43142020\n",
       " 7   6316.8515  10.303  35823888\n",
       " 10  6322.8656   9.812  32831604\n",
       " 19  6331.8620  10.422  21101738\n",
       " 24  6331.8625   9.997  17998786\n",
       " 0   6353.8724   9.511  65561736\n",
       " 1   6394.9003  10.446  47741592\n",
       " 2   6436.8377   9.702  44142560\n",
       " 13  6765.8819  10.040  28026282\n",
       " 17  9527.2806  10.994  22201768)"
      ]
     },
     "execution_count": 203,
     "metadata": {},
     "output_type": "execute_result"
    }
   ],
   "source": [
    "df = pd.read_csv('/Users/bryan/Documents/SeqDataSets/12mix/12mix.csv')\n",
    "endpoints_3p, endpoints_5p = endpoints(df)\n",
    "endpoints_3p[features], endpoints_5p[features]"
   ]
  },
  {
   "cell_type": "code",
   "execution_count": 204,
   "metadata": {},
   "outputs": [
    {
     "name": "stdout",
     "output_type": "stream",
     "text": [
      "Input shape (509, 27) filtered shape (2, 27) by min mass 6000 and min Vol 5000000.0\n",
      "found 3' ladder ends 1 5' ladder ends 1\n"
     ]
    },
    {
     "data": {
      "text/plain": [
       "(        Mass     RT       Vol\n",
       " 1  6781.0413  9.752  16819442,\n",
       "         Mass     RT       Vol\n",
       " 2  6024.8481  7.743  13740135)"
      ]
     },
     "execution_count": 204,
     "metadata": {},
     "output_type": "execute_result"
    }
   ],
   "source": [
    "df_19 = pd.read_csv('/Users/bryan/Studio/seq/data/samples/19.csv')\n",
    "endpoints_3p, endpoints_5p = endpoints(df_19)\n",
    "endpoints_3p[features], endpoints_5p[features]"
   ]
  },
  {
   "cell_type": "code",
   "execution_count": 205,
   "metadata": {},
   "outputs": [
    {
     "name": "stdout",
     "output_type": "stream",
     "text": [
      "Input shape (600, 26) filtered shape (2, 26) by min mass 6000 and min Vol 5000000.0\n",
      "found 3' ladder ends 1 5' ladder ends 1\n"
     ]
    },
    {
     "data": {
      "text/plain": [
       "(        Mass     RT       Vol\n",
       " 1  7079.0519  9.695  15887400,\n",
       "         Mass     RT       Vol\n",
       " 2  6322.8565  7.741  13695730)"
      ]
     },
     "execution_count": 205,
     "metadata": {},
     "output_type": "execute_result"
    }
   ],
   "source": [
    "df = pd.read_csv('/Users/bryan/Studio/seq/data/samples/20.csv')\n",
    "endpoints_3p, endpoints_5p = endpoints(df)\n",
    "endpoints_3p[features], endpoints_5p[features]"
   ]
  },
  {
   "cell_type": "code",
   "execution_count": 206,
   "metadata": {},
   "outputs": [
    {
     "name": "stdout",
     "output_type": "stream",
     "text": [
      "Input shape (796, 26) filtered shape (2, 26) by min mass 6000 and min Vol 5000000.0\n",
      "found 3' ladder ends 1 5' ladder ends 1\n"
     ]
    },
    {
     "data": {
      "text/plain": [
       "(          Mass     RT       Vol\n",
       " 215  7522.0727  9.677  10294695,\n",
       "           Mass     RT      Vol\n",
       " 336  6765.8739  7.858  8310886)"
      ]
     },
     "execution_count": 206,
     "metadata": {},
     "output_type": "execute_result"
    }
   ],
   "source": [
    "df = pd.read_csv('/Users/bryan/Studio/seq/data/samples/21.csv')\n",
    "endpoints_3p, endpoints_5p = endpoints(df)\n",
    "endpoints_3p[features], endpoints_5p[features]"
   ]
  },
  {
   "cell_type": "code",
   "execution_count": 207,
   "metadata": {},
   "outputs": [
    {
     "name": "stdout",
     "output_type": "stream",
     "text": [
      "Input shape (2114, 26) filtered shape (4, 26) by min mass 6000 and min Vol 5000000.0\n",
      "found 3' ladder ends 2 5' ladder ends 2\n"
     ]
    },
    {
     "data": {
      "text/plain": [
       "(          Mass     RT       Vol\n",
       " 726  7088.0481  9.912  20041130\n",
       " 716  7125.9965  9.914   5117104,\n",
       "           Mass     RT       Vol\n",
       " 912  6331.8575  8.134  27714554\n",
       " 899  6369.8036  8.136  10346698)"
      ]
     },
     "execution_count": 207,
     "metadata": {},
     "output_type": "execute_result"
    }
   ],
   "source": [
    "df = pd.read_csv('/Users/bryan/Studio/seq/data/samples/201.csv')\n",
    "endpoints_3p, endpoints_5p = endpoints(df)\n",
    "endpoints_3p[features], endpoints_5p[features]"
   ]
  },
  {
   "cell_type": "code",
   "execution_count": 208,
   "metadata": {},
   "outputs": [
    {
     "name": "stdout",
     "output_type": "stream",
     "text": [
      "Input shape (2263, 26) filtered shape (6, 26) by min mass 6000 and min Vol 5000000.0\n",
      "found 3' ladder ends 2 5' ladder ends 2\n"
     ]
    },
    {
     "data": {
      "text/plain": [
       "(         Mass      RT       Vol\n",
       " 27  6985.0207  11.625  58498820\n",
       " 15  7022.9624  11.628  13913092,\n",
       "          Mass     RT       Vol\n",
       " 75  6228.8290  9.631  76824144\n",
       " 66  6266.7697  9.635  13504408)"
      ]
     },
     "execution_count": 208,
     "metadata": {},
     "output_type": "execute_result"
    }
   ],
   "source": [
    "df = pd.read_csv('/Users/bryan/Studio/seq/data/samples/202.csv')\n",
    "endpoints_3p, endpoints_5p = endpoints(df)\n",
    "endpoints_3p[features], endpoints_5p[features]"
   ]
  },
  {
   "cell_type": "code",
   "execution_count": 209,
   "metadata": {},
   "outputs": [
    {
     "name": "stdout",
     "output_type": "stream",
     "text": [
      "Input shape (2068, 26) filtered shape (3, 26) by min mass 6000 and min Vol 5000000.0\n",
      "found 3' ladder ends 1 5' ladder ends 1\n"
     ]
    },
    {
     "data": {
      "text/plain": [
       "(         Mass      RT       Vol\n",
       " 27  7073.0472  12.156  82887552,\n",
       "          Mass     RT       Vol\n",
       " 72  6316.8541  10.33  72694952)"
      ]
     },
     "execution_count": 209,
     "metadata": {},
     "output_type": "execute_result"
    }
   ],
   "source": [
    "df = pd.read_csv('/Users/bryan/Studio/seq/data/samples/203.csv')\n",
    "endpoints_3p, endpoints_5p = endpoints(df)\n",
    "endpoints_3p[features], endpoints_5p[features]"
   ]
  },
  {
   "cell_type": "code",
   "execution_count": 210,
   "metadata": {},
   "outputs": [
    {
     "name": "stdout",
     "output_type": "stream",
     "text": [
      "Input shape (2527, 26) filtered shape (3, 26) by min mass 6000 and min Vol 5000000.0\n",
      "found 3' ladder ends 1 5' ladder ends 1\n"
     ]
    },
    {
     "data": {
      "text/plain": [
       "(          Mass     RT       Vol\n",
       " 781  6954.9496  9.252  19518152,\n",
       "           Mass     RT       Vol\n",
       " 972  6198.7584  7.239  28722032)"
      ]
     },
     "execution_count": 210,
     "metadata": {},
     "output_type": "execute_result"
    }
   ],
   "source": [
    "df = pd.read_csv('/Users/bryan/Studio/seq/data/samples/204.csv')\n",
    "endpoints_3p, endpoints_5p = endpoints(df)\n",
    "endpoints_3p[features], endpoints_5p[features]"
   ]
  },
  {
   "cell_type": "code",
   "execution_count": 211,
   "metadata": {},
   "outputs": [
    {
     "name": "stdout",
     "output_type": "stream",
     "text": [
      "Input shape (1695, 26) filtered shape (6, 26) by min mass 6000 and min Vol 5000000.0\n",
      "found 3' ladder ends 1 5' ladder ends 3\n"
     ]
    },
    {
     "data": {
      "text/plain": [
       "(         Mass     RT       Vol\n",
       " 30  7110.0622  11.55  40533036,\n",
       "          Mass     RT        Vol\n",
       " 67  6353.8616  9.342    7172262\n",
       " 66  6353.8690  9.582    8352953\n",
       " 65  6353.8728  9.539  114873784)"
      ]
     },
     "execution_count": 211,
     "metadata": {},
     "output_type": "execute_result"
    }
   ],
   "source": [
    "df = pd.read_csv('/Users/bryan/Studio/seq/data/samples/205.csv')\n",
    "endpoints_3p, endpoints_5p = endpoints(df)\n",
    "endpoints_3p[features], endpoints_5p[features]"
   ]
  },
  {
   "cell_type": "code",
   "execution_count": 212,
   "metadata": {},
   "outputs": [
    {
     "name": "stdout",
     "output_type": "stream",
     "text": [
      "Input shape (1991, 26) filtered shape (6, 26) by min mass 6000 and min Vol 5000000.0\n",
      "found 3' ladder ends 2 5' ladder ends 2\n"
     ]
    },
    {
     "data": {
      "text/plain": [
       "(         Mass      RT       Vol\n",
       " 26  7151.0928  12.317  87850496\n",
       " 16  7173.0738  12.316   7182505,\n",
       "          Mass      RT       Vol\n",
       " 72  6394.9004  10.463  98203984\n",
       " 64  6416.8842  10.465   8175817)"
      ]
     },
     "execution_count": 212,
     "metadata": {},
     "output_type": "execute_result"
    }
   ],
   "source": [
    "df = pd.read_csv('/Users/bryan/Studio/seq/data/samples/206.csv')\n",
    "endpoints_3p, endpoints_5p = endpoints(df)\n",
    "endpoints_3p[features], endpoints_5p[features]"
   ]
  },
  {
   "cell_type": "code",
   "execution_count": 213,
   "metadata": {},
   "outputs": [
    {
     "name": "stdout",
     "output_type": "stream",
     "text": [
      "Input shape (2099, 26) filtered shape (3, 26) by min mass 6000 and min Vol 5000000.0\n",
      "found 3' ladder ends 1 5' ladder ends 1\n"
     ]
    },
    {
     "data": {
      "text/plain": [
       "(         Mass      RT       Vol\n",
       " 23  7193.0274  11.807  55442324,\n",
       "          Mass     RT       Vol\n",
       " 53  6436.8358  9.723  97470984)"
      ]
     },
     "execution_count": 213,
     "metadata": {},
     "output_type": "execute_result"
    }
   ],
   "source": [
    "df = pd.read_csv('/Users/bryan/Studio/seq/data/samples/207.csv')\n",
    "endpoints_3p, endpoints_5p = endpoints(df)\n",
    "endpoints_3p[features], endpoints_5p[features]"
   ]
  },
  {
   "cell_type": "code",
   "execution_count": 214,
   "metadata": {},
   "outputs": [],
   "source": [
    "TAG2 = 826.3184\n",
    "MASS_DIFF2 = TAG2 + MASS_P - MASS_H2O "
   ]
  },
  {
   "cell_type": "code",
   "execution_count": 215,
   "metadata": {},
   "outputs": [
    {
     "name": "stdout",
     "output_type": "stream",
     "text": [
      "WARNING *** file size (1367657) not 512 + multiple of sector size (512)\n",
      "Input shape (4418, 34) filtered shape (140, 34) by min mass 6000 and min Vol 5000000.0\n",
      "found 3' ladder ends 18 5' ladder ends 14\n"
     ]
    },
    {
     "data": {
      "text/plain": [
       "(           Mass      RT        Vol\n",
       " 3933  7234.2036  44.742  516314176\n",
       " 3950  7272.1440  44.748   60623840\n",
       " 3894  7283.1908  44.643   49167280\n",
       " 4018  7283.2023  45.116  679215104\n",
       " 4015  7283.2414  45.112  142628176\n",
       " 3865  7321.1150  44.572    5152310\n",
       " 4039  7321.1448  45.129    5333626\n",
       " 4064  7321.1607  45.158  118470768\n",
       " 3546  8486.5389  43.086   11372876\n",
       " 3616  8832.3874  43.194  202790480\n",
       " 4123  9501.5105  45.606  175306416\n",
       " 4129  9502.4432  45.611   28370734\n",
       " 4127  9520.4230  45.608    7241582\n",
       " 4145  9523.4497  45.624   16116858\n",
       " 4151  9535.8739  45.628    5462881\n",
       " 4154  9538.4254  45.630   21694646\n",
       " 4159  9539.4269  45.636   62517200\n",
       " 4173  9577.4086  45.672   10013182,\n",
       "            Mass      RT       Vol\n",
       " 2128  6345.9106  32.776  53080896\n",
       " 2134  6383.8586  32.782  21964912\n",
       " 2210  6394.9312  33.101  22360434\n",
       " 2213  6432.8638  33.103   9371245\n",
       " 3730  7598.2070  43.540   5357591\n",
       " 2177  7944.0873  32.916   7893797\n",
       " 2442  8613.1948  36.446  83198312\n",
       " 2445  8614.1631  36.446  10969808\n",
       " 2465  8632.2009  36.453   8435822\n",
       " 2456  8635.1697  36.450   7347552\n",
       " 2469  8647.5453  36.456   9447222\n",
       " 2462  8650.1561  36.453  10811376\n",
       " 2473  8651.1634  36.458  41096620\n",
       " 2486  8689.0885  36.473   5350866)"
      ]
     },
     "execution_count": 215,
     "metadata": {},
     "output_type": "execute_result"
    }
   ],
   "source": [
    "df = pd.read_excel('/Users/bryan/Documents/SeqDataSets/200313/200313s15_100.xls')\n",
    "endpoints_3p, endpoints_5p = endpoints(df, mass_diff=MASS_DIFF2)\n",
    "endpoints_3p[features], endpoints_5p[features]"
   ]
  },
  {
   "cell_type": "code",
   "execution_count": 216,
   "metadata": {},
   "outputs": [
    {
     "name": "stdout",
     "output_type": "stream",
     "text": [
      "WARNING *** file size (1301349) not 512 + multiple of sector size (512)\n",
      "Input shape (4203, 34) filtered shape (65, 34) by min mass 6000 and min Vol 5000000.0\n",
      "found 3' ladder ends 3 5' ladder ends 2\n"
     ]
    },
    {
     "data": {
      "text/plain": [
       "(           Mass      RT        Vol\n",
       " 3505  8832.4031  43.316  411847712\n",
       " 3650  8870.3379  44.935    5469421\n",
       " 3539  8870.3476  43.342   54310616,\n",
       "            Mass      RT       Vol\n",
       " 2440  7944.0958  32.904  17199908\n",
       " 2443  7982.0351  32.909   8141388)"
      ]
     },
     "execution_count": 216,
     "metadata": {},
     "output_type": "execute_result"
    }
   ],
   "source": [
    "df = pd.read_excel('/Users/bryan/Documents/SeqDataSets/200313/200313s09_100.xls')\n",
    "endpoints_3p, endpoints_5p = endpoints(df, mass_diff=MASS_DIFF2)\n",
    "endpoints_3p[features], endpoints_5p[features]"
   ]
  },
  {
   "cell_type": "code",
   "execution_count": 217,
   "metadata": {},
   "outputs": [
    {
     "name": "stdout",
     "output_type": "stream",
     "text": [
      "WARNING *** file size (773597) not 512 + multiple of sector size (512)\n",
      "Input shape (2492, 34) filtered shape (68, 34) by min mass 6000 and min Vol 5000000.0\n",
      "found 3' ladder ends 8 5' ladder ends 8\n"
     ]
    },
    {
     "data": {
      "text/plain": [
       "(           Mass      RT        Vol\n",
       " 2113  9501.5099  45.571  423222720\n",
       " 2123  9519.4169  45.576   15555447\n",
       " 2146  9538.4666  45.593   34026892\n",
       " 2139  9539.4580  45.589  173487328\n",
       " 2125  9557.4385  45.577   18404696\n",
       " 2162  9575.4360  45.615   30558106\n",
       " 2161  9576.4114  45.612   18177506\n",
       " 2176  9614.3798  45.738    5209423,\n",
       "            Mass      RT        Vol\n",
       " 1547  8613.2281  36.378  167130240\n",
       " 1560  8631.1435  36.387   25312116\n",
       " 1587  8650.1575  36.416   19960552\n",
       " 1569  8651.1729  36.398   83240888\n",
       " 1575  8669.1376  36.404   10938546\n",
       " 1612  8687.0938  36.445   13259181\n",
       " 1613  8688.1107  36.446   25877780\n",
       " 1625  8726.1094  36.511    6218524)"
      ]
     },
     "execution_count": 217,
     "metadata": {},
     "output_type": "execute_result"
    }
   ],
   "source": [
    "df = pd.read_excel('/Users/bryan/Documents/SeqDataSets/200313/200313s10_100.xls')\n",
    "endpoints_3p, endpoints_5p = endpoints(df, mass_diff=MASS_DIFF2)\n",
    "endpoints_3p[features], endpoints_5p[features]"
   ]
  },
  {
   "cell_type": "code",
   "execution_count": 218,
   "metadata": {},
   "outputs": [
    {
     "name": "stdout",
     "output_type": "stream",
     "text": [
      "WARNING *** file size (499895) not 512 + multiple of sector size (512)\n",
      "Input shape (1604, 34) filtered shape (42, 34) by min mass 6000 and min Vol 5000000.0\n",
      "found 3' ladder ends 4 5' ladder ends 5\n"
     ]
    },
    {
     "data": {
      "text/plain": [
       "(           Mass      RT        Vol\n",
       " 1309  7234.1970  44.696  956124480\n",
       " 1335  7256.1775  44.710   80115584\n",
       " 1351  7272.1533  44.726  226115648\n",
       " 1372  7310.0967  44.814   20804940,\n",
       "           Mass      RT       Vol\n",
       " 786  6345.9117  32.143   5690196\n",
       " 796  6345.9156  32.731  77148472\n",
       " 800  6367.8879  32.734  12917306\n",
       " 802  6383.8606  32.737  52855904\n",
       " 817  6421.8048  32.757  15123419)"
      ]
     },
     "execution_count": 218,
     "metadata": {},
     "output_type": "execute_result"
    }
   ],
   "source": [
    "df = pd.read_excel('/Users/bryan/Documents/SeqDataSets/200313/200313s12_100.xls')\n",
    "endpoints_3p, endpoints_5p = endpoints(df, mass_diff=MASS_DIFF2)\n",
    "endpoints_3p[features], endpoints_5p[features]"
   ]
  },
  {
   "cell_type": "code",
   "execution_count": 192,
   "metadata": {},
   "outputs": [
    {
     "data": {
      "text/plain": [
       "Index(['Cpd', 'Mass', 'Avg Mass', 'RT', 'Vol', 'Quality Score', 'm/z',\n",
       "       'Show/Hide', 'Label', 'Std Dev', 'Base Peak', 'Polarity', 'Max Z',\n",
       "       'Min Z', 'Start', 'End', 'Height', 'Width', 'Vol %', 'Ions', 'Z Count',\n",
       "       'Saturated', 'Group', 'Cpds/Group', 'File', 'Algorithm'],\n",
       "      dtype='object')"
      ]
     },
     "execution_count": 192,
     "metadata": {},
     "output_type": "execute_result"
    }
   ],
   "source": [
    "df.columns"
   ]
  },
  {
   "cell_type": "code",
   "execution_count": null,
   "metadata": {},
   "outputs": [],
   "source": []
  }
 ],
 "metadata": {
  "kernelspec": {
   "display_name": "Python 3",
   "language": "python",
   "name": "python3"
  },
  "language_info": {
   "codemirror_mode": {
    "name": "ipython",
    "version": 3
   },
   "file_extension": ".py",
   "mimetype": "text/x-python",
   "name": "python",
   "nbconvert_exporter": "python",
   "pygments_lexer": "ipython3",
   "version": "3.7.3"
  }
 },
 "nbformat": 4,
 "nbformat_minor": 4
}
