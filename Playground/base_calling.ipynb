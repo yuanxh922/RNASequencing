{
 "cells": [
  {
   "cell_type": "code",
   "execution_count": null,
   "metadata": {},
   "outputs": [],
   "source": [
    "from IPython import get_ipython\n",
    "get_ipython().magic('reset -sf') "
   ]
  },
  {
   "cell_type": "code",
   "execution_count": null,
   "metadata": {},
   "outputs": [],
   "source": [
    "import numpy as np\n",
    "import pandas as pd\n",
    "import matplotlib.pyplot as plt"
   ]
  },
  {
   "cell_type": "code",
   "execution_count": null,
   "metadata": {},
   "outputs": [],
   "source": [
    "# df_mfe = pd.read_csv(\"/Users/bryan/Studio/tools/mix_10.csv\")\n",
    "# df_mfe = pd.read_csv('/Users/bryan/Studio/seq/data/samples/21.csv')\n",
    "# df_mfe = pd.read_excel('/Users/bryan/Documents/SeqDataSets/200313/200313s10_100.xls')\n",
    "# df_mfe = pd.read_csv('/Users/bryan/Studio/seq2/compounds.csv')\n",
    "# df_mfe = pd.read_csv('/Users/bryan/Documents/SeqDataSets/signal_to_noise_20/SLZ_200313_10_0610_20_k.csv')\n",
    "# df_mfe = pd.read_csv('/Users/bryan/Documents/SeqDataSets/signal_to_noise_5/SLZ_200313_10_0606_z.csv')\n",
    "df_mfe = pd.read_excel('/Users/bryan/Documents/SeqDataSets/signal_to_noise_5/SLZ_200313_s09_0619_qs.xls')\n",
    "df_mfe.shape"
   ]
  },
  {
   "cell_type": "code",
   "execution_count": null,
   "metadata": {},
   "outputs": [],
   "source": [
    "plt.figure(figsize=(12, 9))\n",
    "plt.scatter(df_mfe['Mass'], df_mfe['RT'])\n",
    "plt.xlabel('Mass')\n",
    "plt.ylabel('RT')"
   ]
  },
  {
   "cell_type": "code",
   "execution_count": null,
   "metadata": {},
   "outputs": [],
   "source": [
    "TAG = 826.3184\n",
    "# TAG = 694.2397\n",
    "# endmass_3p = 6781.0487 #6781.0763 #19\n",
    "# endmass_3p = 7079.0771 #7079.0861 #20\n",
    "# endmass_3p = 7522.1059 #7522.1079 #21\n",
    "# endmass_3p = 7088.0804 #7088.0775 #201\n",
    "# endmass_3p = 6985.0463 #6985.0417 #202\n",
    "# endmass_3p = 7073.0771 #7073.0735 #203\n",
    "# endmass_3p = 6954.9782 #6954.9831 #204\n",
    "# endmass_3p = 7110.0904 #7110.0883 #205\n",
    "# endmass_3p = 7151.113 #206\n",
    "# endmass_3p = 7193.0523 #207\n",
    "\n",
    "endmass_3p = 8832.4031 #8832.3519 #s09\n",
    "# endmass_3p = 9501.5099 #9501.4446 #s10\n",
    "# endmass_3p = 10190.5566 #s12\n",
    "# endmass_3p = 7234.1721 #s13\n",
    "sum_value = round(endmass_3p + 18.0106, 1)\n",
    "\n",
    "endmass_5p = sum_value - 80 - TAG\n",
    "masses = df_mfe.Mass\n",
    "BIAS = 0.1\n",
    "end5p_idxs = masses[(masses>=endmass_5p-BIAS) & (masses<=endmass_5p+BIAS)].index\n",
    "end5p_df = df_mfe.loc[end5p_idxs]\n",
    "print(\"5' ladder end mass {}, found \\n{}\".format(endmass_5p, end5p_df[['Mass', 'RT', 'Vol']]))\n",
    "\n",
    "masses = df_mfe.Mass\n",
    "end3p_idxs = masses[(masses>=endmass_3p-BIAS) & (masses<=endmass_3p+BIAS)].index\n",
    "end3p_df = df_mfe.loc[end3p_idxs]\n",
    "print(\"3' ladder end mass {}, found \\n{}\".format(endmass_3p, end3p_df[['Mass', 'RT', 'Vol']]))"
   ]
  },
  {
   "cell_type": "code",
   "execution_count": null,
   "metadata": {},
   "outputs": [],
   "source": [
    "end5p_df = end5p_df.drop(1124)\n",
    "end3p_df = end3p_df.drop(256)"
   ]
  },
  {
   "cell_type": "code",
   "execution_count": null,
   "metadata": {},
   "outputs": [],
   "source": [
    "end5p_idx = end5p_df['Vol'].idxmax()\n",
    "df5p_endpoint = end5p_df.loc[end5p_idx]\n",
    "df5p_endpoint[['Mass', 'RT', 'Vol']]"
   ]
  },
  {
   "cell_type": "code",
   "execution_count": null,
   "metadata": {},
   "outputs": [],
   "source": [
    "PPM = 10\n",
    "base_masses = [305.0413, 329.0525, 345.0474, 306.0253, 359.0631, 308.041, 319.0569, 320.041, 373.0787, 343.0682, 570.1475, 212.0086, 557.2251, 688.1156, 625.0844]\n",
    "\n",
    "df = df_mfe.sort_index()\n",
    "df5p = start5p_df = pd.DataFrame([[18.0106, 0.01, 10000],\n",
    "                          [347.0631, 0.01, 10000],\n",
    "                          [323.0519, 0.01, 10000], \n",
    "                          [363.058, 0.01, 10000], \n",
    "                          [324.0359, 0.01, 10000]], columns=['Mass', 'RT', 'Vol']).reindex()\n",
    "df3p = start3p_df = pd.DataFrame([[18.0106, 0.01, 10000], [TAG, 6.66, 20000]], columns=['Mass', 'RT', 'Vol']).reindex()\n",
    "\n"
   ]
  },
  {
   "cell_type": "code",
   "execution_count": null,
   "metadata": {},
   "outputs": [],
   "source": [
    "df3p = start3p_df = pd.DataFrame([[TAG, 6.66, 20000]], columns=['Mass', 'RT', 'Vol']).reindex()"
   ]
  },
  {
   "cell_type": "code",
   "execution_count": null,
   "metadata": {},
   "outputs": [],
   "source": [
    "\n",
    "df5p = start5p_df = pd.DataFrame([\n",
    "                          [347.0631, 0.01, 10000],\n",
    "                          [323.0519, 0.01, 10000], \n",
    "                          [363.058, 0.01, 10000], \n",
    "                          [324.0359, 0.01, 10000]], columns=['Mass', 'RT', 'Vol']).reindex()"
   ]
  },
  {
   "cell_type": "code",
   "execution_count": null,
   "metadata": {},
   "outputs": [],
   "source": [
    "# x = np.array([668.0955, 973.1367, 5775.7534, 6024.8510])\n",
    "# y = np.array([0.7340, 0.8460, 7.781, 7.596])\n",
    "x_ends = np.array([668.0955, 6024.8510])\n",
    "y_ends = np.array([0.7340, 7.596])\n",
    "z = np.polyfit(x_ends, y_ends, 1)\n",
    "def f(x):\n",
    "    return z[0]*x + z[1]\n",
    "#     return z[0]*x*x + z[1]*x + z[2]\n",
    "# x = common_df5p.Mass.sort_values()\n",
    "plt.scatter(df_mfe['Mass'], df_mfe['RT'])\n",
    "plt.plot(x_ends, f(x_ends))\n",
    "plt.plot(x_ends, f(x_ends)+1.5)\n",
    "plt.plot(x_ends, f(x_ends)-0.5)\n",
    "print(z)"
   ]
  },
  {
   "cell_type": "code",
   "execution_count": null,
   "metadata": {},
   "outputs": [],
   "source": [
    "def basecalling_minus(df_x, df_y, rt_strict=False, untagged=False):\n",
    "    print(\"basecalling_plus params {} {}\".format(df_x, df_y.shape))\n",
    "    df_total = df_x.copy()\n",
    "    if untagged:\n",
    "        df_x.Mass = df_x.Mass + 80\n",
    "    while True:\n",
    "        idxs = list()\n",
    "        mass_x = np.array(df_x.Mass)\n",
    "        mass_y = np.array(df_y.Mass)\n",
    "        rt_x = np.array(df_x.RT)\n",
    "        rt_y = np.array(df_y.RT)\n",
    "        for base_mass in base_masses:\n",
    "#             ppm_matrix = np.abs((np.abs(mass_x[:, np.newaxis] - mass_y) - base_mass) * 1E6 / (mass_y + base_mass))\n",
    "            ppm_matrix = np.abs((mass_x[:, np.newaxis] - mass_y - base_mass) * 1E6 /  (mass_y + base_mass))\n",
    "#             ppm_matrix = np.abs((mass_x[:, np.newaxis] - mass_y - base_mass) * 1E6 /  mass_y)\n",
    "#             ppm_matrix = np.abs((-mass_x[:, np.newaxis] + mass_y - base_mass) * 1E6 / base_mass)\n",
    "            within_ppm10 = ppm_matrix < 10\n",
    "            ppm_df = pd.DataFrame(ppm_matrix)\n",
    "#             base_connects = ppm_df[ppm_df < 10]\n",
    "\n",
    "            rt_matrix = rt_x[:, np.newaxis] - rt_y\n",
    "            if rt_strict:\n",
    "                diff_rt_low = 0\n",
    "            else:\n",
    "                diff_rt_low = -0.5\n",
    "            is_rt_asc = (rt_matrix > diff_rt_low) & (rt_matrix < 1.8)\n",
    "            mask = within_ppm10# & is_rt_asc\n",
    "            \n",
    "            mask_df = pd.DataFrame(mask)\n",
    "            base_connects = ppm_df[mask_df]\n",
    "            \n",
    "            idx_pairs = list(base_connects[base_connects.notnull()].stack().index)\n",
    "            df5_idxs = [pair[1] for pair in idx_pairs]\n",
    "            df5_idxs = list(set(df5_idxs))\n",
    "            if df5_idxs:\n",
    "                idxs.extend(df5_idxs)\n",
    "\n",
    "        if not idxs:\n",
    "            break\n",
    "        idxs = list(set(idxs))\n",
    "        if idxs:\n",
    "            print(\"number of indexes {}\".format(len(idxs)))\n",
    "        moved = df_y.iloc[idxs]\n",
    "        mass_x = np.append(mass_x, np.array(moved.Mass))\n",
    "#         if untagged:\n",
    "#             df_x = moved[(moved.RT >= f(moved.Mass)-0.5) & (moved.RT <= f(moved.Mass)+1.5)]\n",
    "#         else:\n",
    "        df_x = moved\n",
    "        df_total = df_total.append(df_x)\n",
    "        df_y = df_y.drop(moved.index)\n",
    "        mass_y = np.delete(mass_y, idxs)\n",
    "    \n",
    "    print(df_total.shape)\n",
    "    return df_total, df_y"
   ]
  },
  {
   "cell_type": "code",
   "execution_count": null,
   "metadata": {},
   "outputs": [],
   "source": [
    "def basecalling_plus(df_x, df_y, rt_strict=False):\n",
    "    print(\"basecalling_plus params {} {} {}\".format(df_x.shape, df_y.shape, rt_strict))\n",
    "    df_total = df_x.copy()\n",
    "    while True:\n",
    "        idxs = list()\n",
    "        mass_x = np.array(df_x.Mass)\n",
    "        mass_y = np.array(df_y.Mass)\n",
    "        rt_x = np.array(df_x.RT)\n",
    "        rt_y = np.array(df_y.RT)\n",
    "        for base_mass in base_masses:\n",
    "            ppm_matrix = np.abs((-mass_x[:, np.newaxis] + mass_y - base_mass) * 1E6 /  (mass_y + base_mass))\n",
    "            within_ppm10 = ppm_matrix < 10\n",
    "            ppm_df = pd.DataFrame(ppm_matrix)\n",
    "#             base_connects = ppm_df[ppm_df < 10]\n",
    "            \n",
    "            rt_matrix = -rt_x[:, np.newaxis] + rt_y\n",
    "            if rt_strict:\n",
    "                diff_rt_low = 0\n",
    "            else:\n",
    "                diff_rt_low = -0.5\n",
    "            is_rt_asc = (rt_matrix > diff_rt_low) & (rt_matrix < 1.5)\n",
    "            mask = within_ppm10 #& is_rt_asc\n",
    "            \n",
    "            mask_df = pd.DataFrame(mask)\n",
    "            base_connects = ppm_df[mask_df]\n",
    "            \n",
    "            idx_pairs = list(base_connects[base_connects.notnull()].stack().index)\n",
    "            df5_idxs = [pair[1] for pair in idx_pairs]\n",
    "            df5_idxs = list(set(df5_idxs))\n",
    "            if df5_idxs:\n",
    "                idxs.extend(df5_idxs)\n",
    "\n",
    "        if not idxs:\n",
    "            break\n",
    "        idxs = list(set(idxs))\n",
    "        if idxs:\n",
    "            print(\"number of indexes {}\".format(len(idxs)))\n",
    "        moved = df_y.iloc[idxs]\n",
    "        mass_x = np.append(mass_x, np.array(moved.Mass))\n",
    "        df_total = df_total.append(moved)\n",
    "        df_x = moved\n",
    "        df_y = df_y.drop(moved.index)\n",
    "        mass_y = np.delete(mass_y, idxs)\n",
    "    \n",
    "    print(df_total.shape)\n",
    "    return df_total, df_y"
   ]
  },
  {
   "cell_type": "code",
   "execution_count": null,
   "metadata": {},
   "outputs": [],
   "source": [
    "df3p, _ = basecalling_plus(df3p, df)"
   ]
  },
  {
   "cell_type": "code",
   "execution_count": null,
   "metadata": {},
   "outputs": [],
   "source": [
    "end3p_df"
   ]
  },
  {
   "cell_type": "code",
   "execution_count": null,
   "metadata": {},
   "outputs": [],
   "source": [
    "df3p_minus, _ = basecalling_minus(end3p_df, df)"
   ]
  },
  {
   "cell_type": "code",
   "execution_count": null,
   "metadata": {},
   "outputs": [],
   "source": [
    "df5p, _ = basecalling_plus(df5p, df, rt_strict=True)"
   ]
  },
  {
   "cell_type": "code",
   "execution_count": null,
   "metadata": {},
   "outputs": [],
   "source": [
    "plt.scatter(df5p.Mass, df5p.RT)"
   ]
  },
  {
   "cell_type": "code",
   "execution_count": null,
   "metadata": {},
   "outputs": [],
   "source": [
    "df5p_minus, _ = basecalling_minus(end5p_df, df, untagged=True)"
   ]
  },
  {
   "cell_type": "code",
   "execution_count": null,
   "metadata": {},
   "outputs": [],
   "source": [
    "df3p.shape, df5p.shape, df.shape"
   ]
  },
  {
   "cell_type": "code",
   "execution_count": null,
   "metadata": {},
   "outputs": [],
   "source": [
    "df3p_minus.shape, df5p_minus.shape, df.shape"
   ]
  },
  {
   "cell_type": "code",
   "execution_count": null,
   "metadata": {},
   "outputs": [],
   "source": [
    "df5p = df5p.append(end5p_df.loc[end5p_idx])\n",
    "df3p = df3p.append(end3p_df)\n",
    "df5p_minus = df5p_minus.append(end5p_df.loc[end5p_idx])\n",
    "df3p_minus = df3p_minus.append(end3p_df)"
   ]
  },
  {
   "cell_type": "code",
   "execution_count": null,
   "metadata": {},
   "outputs": [],
   "source": [
    "plt.figure(figsize=(12, 9))\n",
    "# plt.scatter(df5p.Mass, df5p.RT)\n",
    "plt.scatter(df3p.Mass, df3p.RT)\n",
    "# plt.scatter(end5p_df.loc[end5p_idx].Mass, end5p_df.loc[end5p_idx].RT, marker='X', color='r')\n",
    "plt.scatter(end3p_df.Mass, end3p_df.RT, marker='X', color='r')\n",
    "# plt.scatter(start5p_df.Mass, start5p_df.RT, marker='X', color='r')\n",
    "plt.scatter(start3p_df.Mass, start3p_df.RT, marker='X', color='r')\n",
    "plt.xlabel('Mass')\n",
    "plt.ylabel('RT')"
   ]
  },
  {
   "cell_type": "code",
   "execution_count": null,
   "metadata": {},
   "outputs": [],
   "source": [
    "plt.figure(figsize=(12, 9))\n",
    "# plt.scatter(df5p_minus.Mass, df5p_minus.RT)\n",
    "plt.scatter(df3p_minus.Mass, df3p_minus.RT)\n",
    "# plt.scatter(end5p_df.loc[end5p_idx].Mass, end5p_df.loc[end5p_idx].RT, marker='X', color='r')\n",
    "plt.scatter(end3p_df.Mass, end3p_df.RT, marker='X', color='r')\n",
    "# plt.scatter(start5p_df.Mass, start5p_df.RT, marker='X', color='r')"
   ]
  },
  {
   "cell_type": "code",
   "execution_count": null,
   "metadata": {},
   "outputs": [],
   "source": [
    "df3p.to_excel('data/3p.xlsx')\n",
    "df5p.to_excel('data/5p.xlsx')\n",
    "df_merge = pd.concat([df3p, df5p])\n",
    "df_merge.to_csv('data/merge.csv')"
   ]
  },
  {
   "cell_type": "code",
   "execution_count": null,
   "metadata": {},
   "outputs": [],
   "source": [
    "df3p_minus.to_excel('data/3p.xlsx')\n",
    "df5p_minus.to_excel('data/5p.xlsx')\n",
    "df_merge = pd.concat([df3p_minus, df5p_minus])\n",
    "df_merge.to_csv('data/merge.csv')"
   ]
  },
  {
   "cell_type": "code",
   "execution_count": null,
   "metadata": {},
   "outputs": [],
   "source": [
    "df5p[df5p.Mass > 5000][['Mass', 'RT', 'Vol']]"
   ]
  },
  {
   "cell_type": "code",
   "execution_count": null,
   "metadata": {},
   "outputs": [],
   "source": [
    "df5p_minus[(df5p_minus.Mass < 975) & (df5p_minus.Mass > 972)][['Mass', 'RT', 'Vol']].mean()"
   ]
  },
  {
   "cell_type": "code",
   "execution_count": null,
   "metadata": {},
   "outputs": [],
   "source": [
    "plt.scatter(df5p_minus.Mass, df5p_minus.RT)"
   ]
  },
  {
   "cell_type": "code",
   "execution_count": null,
   "metadata": {},
   "outputs": [],
   "source": [
    "common_idxs_5p = df5p_minus.index & df5p.index\n",
    "common_idxs_3p = df3p_minus.index & df3p.index"
   ]
  },
  {
   "cell_type": "code",
   "execution_count": null,
   "metadata": {},
   "outputs": [],
   "source": [
    "common_idxs_5p.shape, common_idxs_3p.shape"
   ]
  },
  {
   "cell_type": "code",
   "execution_count": null,
   "metadata": {},
   "outputs": [],
   "source": [
    "common_df3p = df_mfe.loc[common_idxs_3p]\n",
    "common_df5p = df_mfe.loc[common_idxs_5p]\n",
    "plt.figure(figsize=(12, 9))\n",
    "# plt.scatter(common_df5p.Mass, common_df5p.RT)\n",
    "plt.scatter(common_df3p.Mass, common_df3p.RT)\n",
    "# plt.scatter(end5p_df.loc[end5p_idx].Mass, end5p_df.loc[end5p_idx].RT, marker='X', color='r')\n",
    "plt.scatter(end3p_df.Mass, end3p_df.RT, marker='X', color='r')\n",
    "# plt.scatter(start5p_df.Mass, start5p_df.RT, marker='X', color='r')\n",
    "\n",
    "x = np.array([668.0955, 973.1367, 5775.7534, 6024.8510])\n",
    "y = np.array([0.7340, 0.8460, 7.781, 7.596])\n",
    "z = np.polyfit(x, y, 1)\n",
    "def f(x):\n",
    "    return z[0]*x + z[1]\n",
    "#     return z[0]*x*x + z[1]*x + z[2]\n",
    "# x = common_df5p.Mass.sort_values()\n",
    "# plt.plot(x, f(x))\n",
    "# plt.plot(x, f(x)+1.5)\n",
    "# plt.plot(x, f(x)-0.5)\n",
    "print(z)\n",
    "print(common_df3p.shape, common_df5p.shape)"
   ]
  },
  {
   "cell_type": "code",
   "execution_count": null,
   "metadata": {},
   "outputs": [],
   "source": [
    "common_df5p.shape"
   ]
  },
  {
   "cell_type": "code",
   "execution_count": null,
   "metadata": {},
   "outputs": [],
   "source": [
    "df5p_tmp = common_df5p[(common_df5p.RT >= f(common_df5p.Mass)-0.5) & (common_df5p.RT <= f(common_df5p.Mass)+1.5)]\n",
    "plt.figure(figsize=(16, 12))\n",
    "plt.scatter(df5p_tmp['Mass'], df5p_tmp['RT'])\n",
    "plt.scatter(end5p_df['Mass'], end5p_df['RT'], marker='X')\n",
    "print(df5p_tmp.shape)"
   ]
  },
  {
   "cell_type": "code",
   "execution_count": null,
   "metadata": {},
   "outputs": [],
   "source": [
    "plt.scatter(df3p_minus.Mass, df3p_minus.RT)\n",
    "# plt.scatter(end5p_df.loc[end5p_idx].Mass, end5p_df.loc[end5p_idx].RT, marker='X', color='r')\n",
    "plt.scatter(end3p_df.Mass, end3p_df.RT, marker='X', color='r')\n",
    "plt.scatter(start5p_df.Mass, start5p_df.RT, marker='X', color='r')"
   ]
  },
  {
   "cell_type": "code",
   "execution_count": null,
   "metadata": {},
   "outputs": [],
   "source": [
    "common_df3p = common_df3p[['Cpd', 'Mass', 'RT', 'Vol', 'Width', 'Quality Score']]\n",
    "common_df5p = common_df5p[['Cpd', 'Mass', 'RT', 'Vol', 'Width', 'Quality Score']]\n",
    "common_df3p.to_excel('data/3p.xlsx')\n",
    "common_df5p.to_excel('data/5p.xlsx')\n",
    "df_merge = pd.concat([df3p_minus, df5p_minus])\n",
    "df_merge.to_csv('data/merge.csv')"
   ]
  },
  {
   "cell_type": "code",
   "execution_count": null,
   "metadata": {},
   "outputs": [],
   "source": [
    "common_df5p.shape"
   ]
  },
  {
   "cell_type": "code",
   "execution_count": null,
   "metadata": {},
   "outputs": [],
   "source": [
    "seqs_df = pd.read_csv('/Users/bryan/Studio/seq2/seqs.csv')"
   ]
  },
  {
   "cell_type": "code",
   "execution_count": null,
   "metadata": {},
   "outputs": [],
   "source": [
    "seqs_df = seqs_df[seqs_df.RT < 10]\n",
    "plt.scatter(seqs_df.Mass, seqs_df.RT)"
   ]
  },
  {
   "cell_type": "code",
   "execution_count": null,
   "metadata": {},
   "outputs": [],
   "source": []
  }
 ],
 "metadata": {
  "kernelspec": {
   "display_name": "Python 3",
   "language": "python",
   "name": "python3"
  },
  "language_info": {
   "codemirror_mode": {
    "name": "ipython",
    "version": 3
   },
   "file_extension": ".py",
   "mimetype": "text/x-python",
   "name": "python",
   "nbconvert_exporter": "python",
   "pygments_lexer": "ipython3",
   "version": "3.7.3"
  }
 },
 "nbformat": 4,
 "nbformat_minor": 4
}
