{
 "cells": [
  {
   "cell_type": "code",
   "execution_count": null,
   "metadata": {},
   "outputs": [],
   "source": [
    "import pandas as pd\n",
    "import numpy as np\n",
    "import matplotlib.pyplot as plt\n",
    "import networkx as nx"
   ]
  },
  {
   "cell_type": "code",
   "execution_count": null,
   "metadata": {},
   "outputs": [],
   "source": [
    "# datasrc = '/Users/bryan/Documents/SeqDataSets/200313/200313s10_100.xls'\n",
    "# df = pd.read_excel(datasrc)\n",
    "datasrc = '/Users/bryan/Studio/seq/data/samples/30.csv'\n",
    "# datasrc = \"/Users/bryan/Studio/tools/mix_10.csv\"\n",
    "df = pd.read_csv(datasrc)"
   ]
  },
  {
   "cell_type": "code",
   "execution_count": null,
   "metadata": {},
   "outputs": [],
   "source": [
    "topleft = df[df.RT>15]\n",
    "df = df.drop(topleft.index)"
   ]
  },
  {
   "cell_type": "code",
   "execution_count": null,
   "metadata": {},
   "outputs": [],
   "source": [
    "df.dropna(axis=1, inplace=True)\n",
    "# df = df.drop(df[(df.RT>15) & (df.Mass < 1000)].index)\n",
    "# df = df.drop(df[df.Vol < 10000].index)\n",
    "df.sort_values('Vol', ascending=False, inplace=True)\n",
    "# dftop = df.head(200)\n",
    "min_N = 200\n",
    "top_N = int(df.shape[0]/10)\n",
    "if top_N < min_N:\n",
    "    top_N = min_N\n",
    "dftop = df.head(top_N)\n",
    "x = dftop['Mass']\n",
    "y = dftop['RT']\n",
    "z = np.polyfit(x, y, 1)\n",
    "print(\"chose {} cpds from {}\".format(top_N, df.shape))\n",
    "plt.figure(figsize=(16, 12))\n",
    "# plt.scatter(df['Mass'], df['RT'])\n",
    "plt.scatter(dftop['Mass'], dftop['RT'])\n",
    "# plt.plot(x, z[0]*x+z[1])\n",
    "\n",
    "df5p = dftop.sort_values('Mass')\n",
    "x = df5p['Mass']\n",
    "y = df5p['RT']\n",
    "z2 = np.polyfit(x, y, 2)\n",
    "print(z2)\n",
    "def f2(x):\n",
    "    return z2[0]*x*x+z2[1]*x+z2[2]\n",
    "fx = f2(x)\n",
    "# plt.scatter(x, y)\n",
    "# plt.plot(x, fx)"
   ]
  },
  {
   "cell_type": "code",
   "execution_count": null,
   "metadata": {},
   "outputs": [],
   "source": [
    "plt.figure(figsize=(16, 12))\n",
    "df5p = dftop[dftop.RT < z[0]*dftop.Mass+z[1]]\n",
    "df5p = df5p.sort_values('Vol', ascending=False)\n",
    "# df5p = df5p.head(50)\n",
    "df5p = df5p.sort_values('Mass')\n",
    "x = df5p['Mass']\n",
    "y = df5p['RT']\n",
    "z5 = np.polyfit(x, y, 2)\n",
    "print(z5)\n",
    "def f(x):\n",
    "    return z5[0]*x*x+z5[1]*x+z5[2]#*x+z5[3]\n",
    "fx = f(x)\n",
    "plt.scatter(x, y)\n",
    "plt.plot(x, fx)\n",
    "print(\"df5p.shape {}\".format(df5p.shape))\n",
    "df5p.to_csv('data/5p.csv')"
   ]
  },
  {
   "cell_type": "code",
   "execution_count": null,
   "metadata": {},
   "outputs": [],
   "source": [
    "plt.figure(figsize=(16, 12))\n",
    "df3p = dftop[dftop.RT > z[0]*dftop.Mass+z[1]]\n",
    "print(\"df3p.shape {}\".format(df3p.shape))\n",
    "df3p = df3p.sort_values('Vol', ascending=False)\n",
    "# df3p = df3p.head(200)\n",
    "df3p = df3p.sort_values('Mass')\n",
    "plt.scatter(df3p['Mass'], df3p['RT'])\n",
    "print(df3p.shape)\n",
    "df3p.to_csv('data/3p.csv')"
   ]
  },
  {
   "cell_type": "code",
   "execution_count": null,
   "metadata": {},
   "outputs": [],
   "source": [
    "plt.scatter(df['Mass'], df['RT'])"
   ]
  },
  {
   "cell_type": "code",
   "execution_count": null,
   "metadata": {},
   "outputs": [],
   "source": [
    "df3p_mass_np = np.array(df3p['Mass'])\n",
    "df5p_mass_np = np.array(df5p['Mass'])"
   ]
  },
  {
   "cell_type": "code",
   "execution_count": null,
   "metadata": {},
   "outputs": [],
   "source": [
    "df3p_mass_np = df5p_mass_np = np.array(dftop['Mass'])"
   ]
  },
  {
   "cell_type": "code",
   "execution_count": null,
   "metadata": {},
   "outputs": [],
   "source": [
    "mass_sum_np = df3p_mass_np[:, np.newaxis] + df5p_mass_np\n",
    "mass_sum_np"
   ]
  },
  {
   "cell_type": "code",
   "execution_count": null,
   "metadata": {},
   "outputs": [],
   "source": [
    "mass_sum_1 = np.round(mass_sum_np, 1)\n",
    "mass_sum_2 = np.round(mass_sum_np, 2)\n",
    "mass_sum_3 = np.round(mass_sum_np, 3)"
   ]
  },
  {
   "cell_type": "code",
   "execution_count": null,
   "metadata": {},
   "outputs": [],
   "source": [
    "res1 = np.unique(mass_sum_1, return_counts=True)\n",
    "res2 = np.unique(mass_sum_2, return_counts=True)\n",
    "res3 = np.unique(mass_sum_3, return_counts=True)"
   ]
  },
  {
   "cell_type": "code",
   "execution_count": null,
   "metadata": {},
   "outputs": [],
   "source": [
    "res1_s0 = pd.Series(res1[0])\n",
    "res1_s1 = pd.Series(res1[1])\n",
    "\n",
    "res2_s0 = pd.Series(res2[0])\n",
    "res2_s1 = pd.Series(res2[1])\n",
    "\n",
    "res3_s0 = pd.Series(res3[0])\n",
    "res3_s1 = pd.Series(res3[1])"
   ]
  },
  {
   "cell_type": "code",
   "execution_count": null,
   "metadata": {},
   "outputs": [],
   "source": [
    "res1_s1_max = np.max(res1_s1)\n",
    "res1_s2_max = np.max(res2_s1)\n",
    "res1_s3_max = np.max(res3_s1)\n",
    "print(\"max s1 {} s2 {} s3 {}\".format(res1_s1_max, res1_s2_max, res1_s3_max))"
   ]
  },
  {
   "cell_type": "code",
   "execution_count": null,
   "metadata": {},
   "outputs": [],
   "source": [
    "res1_idxs = res1_s1[res1_s1 > 20].index\n",
    "res1_s0[res1_idxs]\n",
    "list(zip(res1_s0[res1_idxs], res1_s1[res1_idxs]))"
   ]
  },
  {
   "cell_type": "code",
   "execution_count": null,
   "metadata": {},
   "outputs": [],
   "source": [
    "res2_idxs = res2_s1[res2_s1 > 12].index\n",
    "list(zip(res2_s0[res2_idxs], res2_s1[res2_idxs]))"
   ]
  },
  {
   "cell_type": "code",
   "execution_count": null,
   "metadata": {},
   "outputs": [],
   "source": [
    "sum_value = 6781.1\n",
    "# sum_value = 9848.4\n",
    "# sum_value = 8888.3\n",
    "# sum_value = 9557.4\n",
    "# sum_value = 7290.1\n",
    "# sum_value = 7710.1\n",
    "# sum_value = 7301.2\n",
    "# sum_value = 8850.4 #9862.5 #6683.1 #9557.4 #7252.2 #8850.4 #7301.2\n",
    "# sum_value = 10471.6\n",
    "mass_sum_1[mass_sum_1 == sum_value]"
   ]
  },
  {
   "cell_type": "code",
   "execution_count": null,
   "metadata": {},
   "outputs": [],
   "source": [
    "mass_sum_df = pd.DataFrame(mass_sum_np)\n",
    "mass_sum_df1 = pd.DataFrame(mass_sum_1)"
   ]
  },
  {
   "cell_type": "code",
   "execution_count": null,
   "metadata": {},
   "outputs": [],
   "source": [
    "tmp = mass_sum_df1[mass_sum_df1 == sum_value]\n",
    "final_idx_pairs = list(tmp[tmp.notnull()].stack().index)\n",
    "df3_idxs = [pair[0] for pair in final_idx_pairs]\n",
    "df5_idxs = [pair[1] for pair in final_idx_pairs]\n",
    "print(\"df3 idxs {} \\ndf5 idxs {}\".format(df3_idxs, df5_idxs))"
   ]
  },
  {
   "cell_type": "code",
   "execution_count": null,
   "metadata": {},
   "outputs": [],
   "source": [
    "df3p_mass_np[df3_idxs]"
   ]
  },
  {
   "cell_type": "code",
   "execution_count": null,
   "metadata": {},
   "outputs": [],
   "source": [
    "df5p_mass_np[df5_idxs]"
   ]
  },
  {
   "cell_type": "code",
   "execution_count": null,
   "metadata": {},
   "outputs": [],
   "source": [
    "plt.figure(figsize=(16, 12))\n",
    "df5p_selected = df5p_mass.iloc[df5_idxs]\n",
    "plt.scatter(df5p_selected['Mass'], df5p_selected['RT'])\n",
    "\n",
    "x = df5p_selected[df5p_selected.Mass > 1000]['Mass']\n",
    "y = df5p_selected[df5p_selected.Mass > 1000]['RT']\n",
    "z5 = np.polyfit(x, y, 2)\n",
    "print(z5)\n",
    "def f(x):\n",
    "    return z5[0]*x*x+z5[1]*x+z5[2]#*x+z5[3]\n",
    "fx = f(x)\n",
    "plt.plot(x, fx)\n",
    "df5p_selected.to_csv('data/5p.csv')"
   ]
  },
  {
   "cell_type": "code",
   "execution_count": null,
   "metadata": {},
   "outputs": [],
   "source": [
    "plt.figure(figsize=(16, 12))\n",
    "plt.scatter(df3p.iloc[df3_idxs]['Mass'], df3p.iloc[df3_idxs]['RT'])\n",
    "df3p.iloc[df3_idxs].to_csv('data/3p.csv')"
   ]
  },
  {
   "cell_type": "code",
   "execution_count": null,
   "metadata": {},
   "outputs": [],
   "source": [
    "print(\"df3_idxs {} df5_idxs {}\".format(len(df3_idxs), len(df5_idxs)))"
   ]
  },
  {
   "cell_type": "code",
   "execution_count": null,
   "metadata": {},
   "outputs": [],
   "source": []
  }
 ],
 "metadata": {
  "kernelspec": {
   "display_name": "Python 3",
   "language": "python",
   "name": "python3"
  },
  "language_info": {
   "codemirror_mode": {
    "name": "ipython",
    "version": 3
   },
   "file_extension": ".py",
   "mimetype": "text/x-python",
   "name": "python",
   "nbconvert_exporter": "python",
   "pygments_lexer": "ipython3",
   "version": "3.7.3"
  }
 },
 "nbformat": 4,
 "nbformat_minor": 4
}
