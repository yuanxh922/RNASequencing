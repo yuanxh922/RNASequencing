{
 "cells": [
  {
   "cell_type": "code",
   "execution_count": null,
   "metadata": {},
   "outputs": [],
   "source": [
    "import pandas as pd\n",
    "import numpy as np\n",
    "import matplotlib\n",
    "import plotly.express as px\n",
    "import plotly.graph_objects as go\n",
    "import matplotlib.pyplot as plt\n",
    "from collections import namedtuple\n",
    "import matplotlib.patches as patches\n",
    "import networkx as nx"
   ]
  },
  {
   "cell_type": "code",
   "execution_count": null,
   "metadata": {},
   "outputs": [],
   "source": [
    "%run ../modules/utils.ipynb\n",
    "%run ../modules/cds.ipynb\n",
    "%run ../modules/preprocessing.ipynb"
   ]
  },
  {
   "cell_type": "markdown",
   "metadata": {},
   "source": [
    "# Mass Sum -- Phe"
   ]
  },
  {
   "cell_type": "code",
   "execution_count": null,
   "metadata": {},
   "outputs": [],
   "source": [
    "# df_phe = pd.read_excel('/Users/bryan/Documents/BioPharmaFinder/ZhangLab/Data/Excels/total_tRNA_acid_degradated_20to40_component_only.xlsx')\n",
    "# df_phe = pd.read_excel('/Users/bryan/Documents/BioPharmaFinder/ZhangLab/Data/Excels/Sigma_tRNA_standard_150pmol_Degradation.xlsx')\n",
    "# df_phe = pd.read_excel('/Users/bryan/Documents/BioPharmaFinder/ZhangLab/Data/Excels/Sigma_tRNA_standard_150pmol_Degradation_all_level.xlsx')\n",
    "df_phe = pd.read_excel('/Users/bryan/Documents/BioPharmaFinder/ZhangLab/Data/Excels/tRNA_Phe_0724.xlsx')\n",
    "# df_phe = pd.read_excel('/Users/bryan/Documents/BioPharmaFinder/ZhangLab/Data/Excels/tRNA_Phe_0724_COMBINE2.xlsx')\n",
    "print(df_phe.shape)\n",
    "df_phe = thermo_df(df_phe)\n",
    "plot_zone(df_phe)"
   ]
  },
  {
   "cell_type": "code",
   "execution_count": null,
   "metadata": {},
   "outputs": [],
   "source": [
    "idxs = list()\n",
    "# create our callback function\n",
    "def on_selection(trace, points, selector):\n",
    "    print('points {}'.format(points.point_inds) )\n",
    "    idxs.extend(points.point_inds)\n",
    "\n",
    "def on_click(trace, points, selector):\n",
    "#     print('points {}'.format(points.point_inds) )\n",
    "    idxs.extend(points.point_inds)\n",
    "\n",
    "df_sample = df_phe[df_phe.Mass < 25000]\n",
    "f = zone_selection(df_sample, on_selection=on_selection, on_click=on_click)\n",
    "f"
   ]
  },
  {
   "cell_type": "code",
   "execution_count": null,
   "metadata": {},
   "outputs": [],
   "source": [
    "df_chosen = df_sample.iloc[idxs]\n",
    "df_chosen.shape"
   ]
  },
  {
   "cell_type": "code",
   "execution_count": null,
   "metadata": {},
   "outputs": [],
   "source": [
    "df_5p = df_chosen\n",
    "df_5p.shape"
   ]
  },
  {
   "cell_type": "code",
   "execution_count": null,
   "metadata": {},
   "outputs": [],
   "source": [
    "df_3p = df_chosen\n",
    "df_3p.shape"
   ]
  },
  {
   "cell_type": "code",
   "execution_count": null,
   "metadata": {},
   "outputs": [],
   "source": [
    "df_phe_25k = df_phe[(df_phe.Mass > 23500) & (df_phe.Mass < 25000)]\n",
    "px.scatter(x=df_phe_25k.Mass, y=df_phe_25k.Vol)"
   ]
  },
  {
   "cell_type": "code",
   "execution_count": null,
   "metadata": {},
   "outputs": [],
   "source": [
    "target_full_mass = 24252.311092\n",
    "df_phe_25k['delta'] = df_phe_25k.Mass - target_full_mass\n",
    "for idx, row in df_phe_25k.iterrows():\n",
    "#     print(idx, item)\n",
    "    comps = components(abs(row.delta))\n",
    "    if comps.shape[0] > 0:\n",
    "        print('Mass {:4f} diff {:4f}\\n{}'.format(row.Mass, row.delta, comps))"
   ]
  },
  {
   "cell_type": "code",
   "execution_count": null,
   "metadata": {},
   "outputs": [],
   "source": [
    "components(1657.27)"
   ]
  },
  {
   "cell_type": "code",
   "execution_count": null,
   "metadata": {},
   "outputs": [],
   "source": [
    "df_phe[(df_phe.Mass > 24500) & (df_phe.Mass < 25000)].sort_values('Mass')"
   ]
  },
  {
   "cell_type": "code",
   "execution_count": null,
   "metadata": {},
   "outputs": [],
   "source": [
    "df_sample = df_phe[df_phe.Mass < 25000]"
   ]
  },
  {
   "cell_type": "code",
   "execution_count": null,
   "metadata": {},
   "outputs": [],
   "source": [
    "full_mass = 24252.315242 #24581.374101 \n",
    "df_3p_cc, df_5p_cc = computational_data_seperation(df_3p, df_5p, full_mass, ignore_endpoints=True)"
   ]
  },
  {
   "cell_type": "code",
   "execution_count": null,
   "metadata": {},
   "outputs": [],
   "source": [
    "full_mass =24252.315242 - 14 #24581.374101 \n",
    "df_3p_cc_m1m, df_5p_cc_m1m = computational_data_seperation(df_3p, df_5p, full_mass, ignore_endpoints=True)"
   ]
  },
  {
   "cell_type": "code",
   "execution_count": null,
   "metadata": {},
   "outputs": [],
   "source": [
    "full_mass = 24252.315242 - 14*2 #24238.334749 #24252.315242 #24581.374101 \n",
    "df_3p_cc_m2m, df_5p_cc_m2m = computational_data_seperation(df_3p, df_5p, full_mass, ignore_endpoints=True)"
   ]
  },
  {
   "cell_type": "code",
   "execution_count": null,
   "metadata": {},
   "outputs": [],
   "source": [
    "full_mass = 24252.315242 + 14*2 #24238.334749 #24252.315242 #24581.374101 \n",
    "df_3p_cc_a2m, df_5p_cc_a2m = computational_data_seperation(df_3p, df_5p, full_mass, ignore_endpoints=True)"
   ]
  },
  {
   "cell_type": "code",
   "execution_count": null,
   "metadata": {},
   "outputs": [],
   "source": [
    "full_mass = 24581.374101 \n",
    "df_3p_cca, df_5p_cca = computational_data_seperation(df_3p, df_5p, full_mass, ignore_endpoints=True)"
   ]
  },
  {
   "cell_type": "code",
   "execution_count": null,
   "metadata": {},
   "outputs": [],
   "source": [
    "full_mass = 24581.374101 - 14 #24238.334749 #24252.315242 #24581.374101 \n",
    "df_3p_cca_m1m, df_5p_cca_m1m = computational_data_seperation(df_3p, df_5p, full_mass, ignore_endpoints=True)"
   ]
  },
  {
   "cell_type": "code",
   "execution_count": null,
   "metadata": {},
   "outputs": [],
   "source": [
    "full_mass = 24581.374101 + 14*2 #24238.334749 #24252.315242 #24581.374101 \n",
    "df_3p_cca_a2m, df_5p_cca_a2m = computational_data_seperation(df_3p, df_5p, full_mass, ignore_endpoints=True)"
   ]
  },
  {
   "cell_type": "code",
   "execution_count": null,
   "metadata": {},
   "outputs": [],
   "source": [
    "plt.figure(figsize=(24, 18))\n",
    "# plt.scatter(df_sample.Mass, df_sample.RT)\n",
    "# plt.scatter(df_3p.Mass, df_3p.RT)\n",
    "# plt.scatter(df_3p_cc.Mass, df_3p_cc.RT)\n",
    "# plot_zone(df_3p_cc, trend=True)\n",
    "# plt.scatter(df_5p_cc.Mass, df_5p_cc.RT)\n",
    "# plt.scatter(df_3p_cc.Mass, df_3p_cc.RT)\n",
    "plt.scatter(df_5p_cca.Mass, df_5p_cca.RT)\n",
    "# plt.scatter(df_3p_cca.Mass, df_3p_cca.RT)\n",
    "# plt.scatter(df_5p_cca.Mass, df_5p_cca.RT)\n",
    "# px.scatter(df_3p_cc, x='Mass', y='RT')\n",
    "# plt.scatter(df_3p_cc_m1m.Mass, df_3p_cc_m1m.RT)\n",
    "# plt.scatter(df_3p_cc_m1m.Mass, df_3p_cc_m1m.RT)"
   ]
  },
  {
   "cell_type": "code",
   "execution_count": null,
   "metadata": {},
   "outputs": [],
   "source": [
    "bcr = base_calling_random(df_5p_cca)\n",
    "plt, _ = plot_basecalling2(*bcr, annotate=False)"
   ]
  },
  {
   "cell_type": "code",
   "execution_count": null,
   "metadata": {},
   "outputs": [],
   "source": [
    "df_3p_cc.loc[:,'type'] = 'Reg'\n",
    "df_3p_cca.loc[:,'type'] = 'Methyl'\n",
    "df_merge = pd.concat([df_3p_cc, df_3p_cca])\n",
    "fig = px.scatter(df_merge, x='Mass', y='RT', color='type')\n",
    "fig.update_layout(\n",
    "    width=960*1.2,\n",
    "    height=720*1.2,\n",
    "    margin=dict(l=0, r=0, t=20, b=0),\n",
    "    paper_bgcolor=\"LightSteelBlue\",\n",
    "    showlegend=False\n",
    ")\n",
    "\n",
    "#     fig.update_layout(showlegend=False)"
   ]
  },
  {
   "cell_type": "code",
   "execution_count": null,
   "metadata": {},
   "outputs": [],
   "source": [
    "idxs = list()\n",
    "# create our callback function\n",
    "def on_selection(trace, points, selector):\n",
    "    print('points {}'.format(points.point_inds) )\n",
    "    idxs.extend(points.point_inds)\n",
    "\n",
    "def on_click(trace, points, selector):\n",
    "#     print('points {}'.format(points.point_inds) )\n",
    "    idxs.extend(points.point_inds)\n",
    "\n",
    "df_zoomin = bcr[0]\n",
    "f = zone_selection(df_zoomin, on_selection=on_selection, on_click=on_click)\n",
    "f"
   ]
  },
  {
   "cell_type": "code",
   "execution_count": null,
   "metadata": {},
   "outputs": [],
   "source": [
    "plotly_basecalling(*bcr)"
   ]
  },
  {
   "cell_type": "code",
   "execution_count": null,
   "metadata": {},
   "outputs": [],
   "source": [
    "idxs = list()\n",
    "# create our callback function\n",
    "def on_selection(trace, points, selector):\n",
    "    print('points {}'.format(points.point_inds) )\n",
    "    idxs.extend(points.point_inds)\n",
    "\n",
    "def on_click(trace, points, selector):\n",
    "    print('points {}'.format(points.point_inds) )\n",
    "    idxs.extend(points.point_inds)\n",
    "\n",
    "df_ladder = bcr[0]\n",
    "f = zone_selection(df_ladder, on_selection=on_selection, on_click=on_click)\n",
    "f"
   ]
  },
  {
   "cell_type": "code",
   "execution_count": null,
   "metadata": {},
   "outputs": [],
   "source": [
    "df_zoomin = df_ladder.iloc[idxs]\n",
    "df_zoomin.shape\n",
    "df_zoomin = df_zoomin.sort_values('Mass')"
   ]
  },
  {
   "cell_type": "code",
   "execution_count": null,
   "metadata": {},
   "outputs": [],
   "source": [
    "z_zoomin = np.polyfit(df_zoomin.Mass, df_zoomin.RT, 1)\n",
    "def f_zoomin(x):\n",
    "    return z_zoomin[0] * x + z_zoomin[1]\n",
    "\n",
    "df_zoomin = df_zoomin.sort_values('Mass')\n",
    "l = df_zoomin.iloc[0].Mass + 300\n",
    "r = df_zoomin.iloc[1].Mass - 300\n",
    "df_zoomin = df_zoomin.sort_values('RT')\n",
    "b = f_zoomin(l) \n",
    "t = f_zoomin(r)\n",
    "print(b, t)\n",
    "\n",
    "\n",
    "df_sample.shape\n",
    "# df_tmp = df_sample[(df_sample.Mass > l) & (df_sample.Mass < r) & (df_sample.RT > f_zoomin(df_sample.Mass)) & (df_sample.RT < t)]\n",
    "df_tmp = df_sample[(df_sample.Mass > l) & (df_sample.Mass < r) & (df_sample.RT > b) & (df_sample.RT < t)]\n",
    "print(df_tmp.shape)\n",
    "plot_zones(df_sample, df_tmp)"
   ]
  },
  {
   "cell_type": "code",
   "execution_count": null,
   "metadata": {},
   "outputs": [],
   "source": [
    "df_focus = pd.concat([df_tmp, df_zoomin])\n",
    "df_focus.shape\n",
    "plt = plot_zones(df_focus, df_zoomin)\n",
    "\n",
    "# plt.plot(df_zoomin.Mass, f_zoomin(df_zoomin.Mass))"
   ]
  },
  {
   "cell_type": "code",
   "execution_count": null,
   "metadata": {},
   "outputs": [],
   "source": [
    "bcr_focus = base_calling_random(df_focus)\n",
    "\n",
    "plotly_basecalling(df_focus, bcr_focus[1])\n",
    "# plt.scatter(df_focus.Mass, df_focus.RT)\n",
    "# plt.scatter(df_zoomin.Mass, df_zoomin.RT, color='r')\n"
   ]
  },
  {
   "cell_type": "code",
   "execution_count": null,
   "metadata": {},
   "outputs": [],
   "source": [
    "def standalone_dots(df, df_ends):\n",
    "#     df['Delta'] = df.Mass - df_ends.iloc[1]['Mass']\n",
    "    idxs = list()\n",
    "    for idx, row in df.iterrows():\n",
    "        print('Processing {}'.format(row.Mass))\n",
    "        delta_left = abs(row.Mass - df_ends.iloc[0]['Mass'])\n",
    "        delta_right = abs(row.Mass - df_ends.iloc[1]['Mass'])\n",
    "#         print(delta_left, delta_right)\n",
    "        df_res_left = components(delta_left)\n",
    "        df_res_right = components(delta_right)\n",
    "        if df_res_left.shape[0] > 0:\n",
    "            print('left')\n",
    "            print(df_res_left)\n",
    "        if df_res_right.shape[0] > 0:\n",
    "            print('right')\n",
    "            print(df_res_right)\n",
    "        if df_res_left.shape[0] > 0 and df_res_right.shape[0] > 0:\n",
    "            print('Mass {} Left Delta {} \\n{}\\nRight Delta {} \\n{}'.format(row.Mass, delta_left, df_res_left, delta_right, df_res_right))\n",
    "            idxs.append(idx)\n",
    "    \n",
    "    print('Got {} items. {}'.format(len(idxs), df.loc[idxs]))\n",
    "    return df.loc[idxs]"
   ]
  },
  {
   "cell_type": "code",
   "execution_count": null,
   "metadata": {},
   "outputs": [],
   "source": [
    "# print(df_tmp, df_zoomin)\n",
    "standalone_dots(df_tmp, df_zoomin)"
   ]
  },
  {
   "cell_type": "markdown",
   "metadata": {},
   "source": [
    "# Utils"
   ]
  },
  {
   "cell_type": "code",
   "execution_count": null,
   "metadata": {},
   "outputs": [],
   "source": []
  },
  {
   "cell_type": "code",
   "execution_count": null,
   "metadata": {},
   "outputs": [],
   "source": [
    "components(28.1)"
   ]
  },
  {
   "cell_type": "code",
   "execution_count": null,
   "metadata": {},
   "outputs": [],
   "source": [
    "def plot_basecalling2(df, mass_pairs, endpoints=pd.DataFrame(), annotate=True, plt=None):\n",
    "#     if in_plt:\n",
    "#         plt = in_plt\n",
    "#     else:\n",
    "    if not plt:\n",
    "        plt = matplotlib.pyplot\n",
    "    fig = plt.figure(figsize=(24, 18))\n",
    "#     plt.xlabel('Mass (Da)')\n",
    "#     plt.ylabel('Retention Time (min)')\n",
    "    plt.xlabel('Monoisotopic Mass (Da)', fontname=\"Arial\", fontsize=15, color='black')\n",
    "    plt.ylabel('Retention Time (min)', fontname=\"Arial\", fontsize=15, color='black')\n",
    "#     plt.xticks(range(0, 25001, 2500), fontname=\"Arial\", size=13, color='black')\n",
    "#     plt.yticks(range(0, 25, 2), fontname=\"Arial\", size=13, color='black')\n",
    "    plt.xticks(fontname=\"Arial\", size=13, color='black')\n",
    "    plt.yticks(fontname=\"Arial\", size=13, color='black')\n",
    "        \n",
    "    plt.scatter(df.Mass, df.RT)\n",
    "\n",
    "    for t in mass_pairs:\n",
    "        df_pair = df[df.Mass.isin(t)]\n",
    "        if df_pair.empty:\n",
    "            continue\n",
    "        plt.plot(df_pair.Mass, df_pair.RT, 'green')\n",
    "        \n",
    "        idmax = df_pair['Mass'].idxmax()\n",
    "        plt.annotate(s=t[2], size=15, xy=(df_pair.loc[idmax].Mass, df_pair.loc[idmax].RT), \n",
    "                     textcoords=\"offset points\", xytext=(-10, 10), ha='center', color='C0')\n",
    "        \n",
    "        if not annotate:\n",
    "            continue\n",
    "            \n",
    "        mass = '{:.2f}'.format(df_pair.loc[idmax].Mass)\n",
    "        plt.annotate(s=mass, size=13, xy=(df_pair.loc[idmax].Mass, df_pair.loc[idmax].RT), \n",
    "                     textcoords=\"offset points\", xytext=(10, -20), ha='center')\n",
    "\n",
    "    if not endpoints.empty:\n",
    "        plt.scatter(endpoints.Mass, endpoints.RT, color='r')\n",
    "        print(endpoints[['Mass', 'RT', 'Vol']])\n",
    "#     plt.show()\n",
    "    return plt, fig"
   ]
  },
  {
   "cell_type": "code",
   "execution_count": null,
   "metadata": {},
   "outputs": [],
   "source": [
    "def process_seats(df, mass_pairs, full_mass, col_name, orientation=5):\n",
    "    seats = int(full_mass // 320)\n",
    "    df_res = pd.DataFrame()\n",
    "#     df_res.set_index(range(1, seats+1), inplace=True)\n",
    "    df_res['position'] = range(1, seats+1)\n",
    "    df_res[col_name] = ''\n",
    "    df_res.set_index('position', inplace=True)\n",
    "    \n",
    "    for t in mass_pairs:\n",
    "        df_pair = df[df.Mass.isin(t)]\n",
    "        if df_pair.empty:\n",
    "            continue\n",
    "#         plt.plot(df_pair.Mass, df_pair.RT, 'green')\n",
    "        \n",
    "        idmax = df_pair['Mass'].idxmax()\n",
    "        pos = int(df_pair.loc[idmax].Mass // 320)\n",
    "        if orientation == 3:\n",
    "            pos = seats +1 - pos\n",
    "        base = df_res.loc[pos, col_name] \n",
    "        if not base:\n",
    "            base = t[2]\n",
    "        else:\n",
    "            base = '{}, {}'.format(base, t[2])\n",
    "        df_res.loc[pos, col_name] = base\n",
    "    \n",
    "    return df_res\n",
    "    "
   ]
  },
  {
   "cell_type": "code",
   "execution_count": null,
   "metadata": {},
   "outputs": [],
   "source": [
    "df_res = process_seats(*bcr, full_mass, col_name='BaseCCA', orientation=5)\n",
    "df_res"
   ]
  },
  {
   "cell_type": "code",
   "execution_count": null,
   "metadata": {},
   "outputs": [],
   "source": []
  },
  {
   "cell_type": "code",
   "execution_count": null,
   "metadata": {},
   "outputs": [],
   "source": []
  }
 ],
 "metadata": {
  "kernelspec": {
   "display_name": "Python 3",
   "language": "python",
   "name": "python3"
  },
  "language_info": {
   "codemirror_mode": {
    "name": "ipython",
    "version": 3
   },
   "file_extension": ".py",
   "mimetype": "text/x-python",
   "name": "python",
   "nbconvert_exporter": "python",
   "pygments_lexer": "ipython3",
   "version": "3.7.3"
  }
 },
 "nbformat": 4,
 "nbformat_minor": 4
}
