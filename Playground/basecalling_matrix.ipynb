{
 "cells": [
  {
   "cell_type": "code",
   "execution_count": null,
   "metadata": {},
   "outputs": [],
   "source": [
    "from IPython import get_ipython\n",
    "get_ipython().magic('reset -sf') "
   ]
  },
  {
   "cell_type": "code",
   "execution_count": null,
   "metadata": {},
   "outputs": [],
   "source": [
    "import pandas as pd\n",
    "import numpy as np\n",
    "import matplotlib.pyplot as plt"
   ]
  },
  {
   "cell_type": "code",
   "execution_count": null,
   "metadata": {},
   "outputs": [],
   "source": [
    "# df3p = pd.read_csv('/Users/bryan/Studio/seq2/data/merge_samples/mix13_tag694_3p.csv')\n",
    "# df3p = pd.read_csv('/Users/bryan/Studio/seq2/data/merge_samples/mix13_tag826_3p.csv')\n",
    "# df5p = pd.read_csv('/Users/bryan/Studio/seq2/data/merge_samples/mix13_5p.csv')\n",
    "# df3p = pd.read_csv('/Users/bryan/Studio/seq2/data/merge_samples/mix10_3p.csv')\n",
    "# df5p = pd.read_csv('/Users/bryan/Studio/seq2/data/merge_samples/mix10_5p.csv')\n",
    "df3p = pd.read_excel('/Users/bryan/Studio/Notebooks/data/3p.xlsx')\n",
    "df5p = pd.read_excel('/Users/bryan/Studio/Notebooks/data/5p.xlsx')\n",
    "df3p.shape, df5p.shape"
   ]
  },
  {
   "cell_type": "code",
   "execution_count": null,
   "metadata": {},
   "outputs": [],
   "source": [
    "# df5p = df5p.append({'Mass': 18.0106, 'RT': 0.66, 'Vol': 10000}, ignore_index=True)\n",
    "# df5p = df5p.append({'Mass': 347.0631, 'RT': 0.99, 'Vol': 10000}, ignore_index=True)\n",
    "# df5p = df5p.append({'Mass': 323.0519, 'RT': 0.99, 'Vol': 10000}, ignore_index=True)\n",
    "# df5p = df5p.append({'Mass': 363.058, 'RT': 0.99, 'Vol': 10000}, ignore_index=True)\n",
    "# df5p = df5p.append({'Mass': 324.0359, 'RT': 0.99, 'Vol': 10000}, ignore_index=True)\n",
    "\n",
    "basecpds_5p = [{'Mass': 18.0106, 'RT': 0.66, 'Vol': 10000},\n",
    "              {'Mass': 347.0631, 'RT': 0.99, 'Vol': 10000},\n",
    "              {'Mass': 323.0519, 'RT': 0.99, 'Vol': 10000},\n",
    "              {'Mass': 363.058, 'RT': 0.99, 'Vol': 10000},\n",
    "              {'Mass': 324.0359, 'RT': 0.99, 'Vol': 10000}]\n",
    "df5p = df5p.append(basecpds_5p, ignore_index=True)\n",
    "\n",
    "basecpds_3p = [{'Mass': 694.2397, 'RT': 6.66, 'Vol': 20000}]\n",
    "# basecpds_3p = [{'Mass': 826.3184, 'RT': 6.66, 'Vol': 20000}]\n",
    "df3p = df3p.append(basecpds_3p, ignore_index=True)"
   ]
  },
  {
   "cell_type": "code",
   "execution_count": null,
   "metadata": {},
   "outputs": [],
   "source": [
    "plt.figure(figsize=(16, 12))\n",
    "plt.scatter(df3p['Mass'], df3p['RT'])"
   ]
  },
  {
   "cell_type": "code",
   "execution_count": null,
   "metadata": {},
   "outputs": [],
   "source": [
    "plt.figure(figsize=(16, 12))\n",
    "plt.scatter(df5p['Mass'], df5p['RT'])"
   ]
  },
  {
   "cell_type": "code",
   "execution_count": null,
   "metadata": {},
   "outputs": [],
   "source": [
    "plt.figure(figsize=(12, 9))\n",
    "plt.scatter(df5p['Mass'], df5p['RT'], color='b')\n",
    "plt.scatter(df3p['Mass'], df3p['RT'], color='r')\n",
    "plt.xlabel('Mass')\n",
    "plt.ylabel('RT')"
   ]
  },
  {
   "cell_type": "code",
   "execution_count": null,
   "metadata": {},
   "outputs": [],
   "source": [
    "merge_df = pd.concat([df3p, df5p])\n",
    "plt.figure(figsize=(16, 12))\n",
    "plt.scatter(merge_df['Mass'], merge_df['RT'])\n",
    "merge_df.shape"
   ]
  },
  {
   "cell_type": "code",
   "execution_count": null,
   "metadata": {},
   "outputs": [],
   "source": [
    "df3p_mass_np = np.array(df3p['Mass'])\n",
    "df5p_mass_np = np.array(df5p['Mass'])\n",
    "mass_sum_np = df3p_mass_np[:, np.newaxis] + df5p_mass_np"
   ]
  },
  {
   "cell_type": "code",
   "execution_count": null,
   "metadata": {},
   "outputs": [],
   "source": [
    "mass_sum_0 = np.round(mass_sum_np, 0)\n",
    "mass_sum_1 = np.round(mass_sum_np, 1)\n",
    "mass_sum_2 = np.round(mass_sum_np, 2)\n",
    "mass_sum_3 = np.round(mass_sum_np, 3)"
   ]
  },
  {
   "cell_type": "code",
   "execution_count": null,
   "metadata": {},
   "outputs": [],
   "source": [
    "# TAG = 826.3184\n",
    "TAG = 694.2397"
   ]
  },
  {
   "cell_type": "code",
   "execution_count": null,
   "metadata": {},
   "outputs": [],
   "source": [
    "# seq_mass = 6781.0763 #19\n",
    "# seq_mass = 7079.0861 #20\n",
    "# seq_mass = 7522.1079 #21\n",
    "# seq_mass = 7088.0775 #201\n",
    "# seq_mass = 6985.0417 #202\n",
    "seq_mass = 7073.0735 #203\n",
    "# seq_mass = 6954.9831 #204\n",
    "# seq_mass = 7110.0883 #205\n",
    "# seq_mass = 7151.113 #206\n",
    "# seq_mass = 7193.0523 #207\n",
    "\n",
    "# seq_mass = 8832.3519 #s09\n",
    "# seq_mass = 9501.4446 #s10\n",
    "# seq_mass = 10190.5566 #s12\n",
    "# seq_mass = 7234.1721 #s13\n",
    "sum_value = round(seq_mass + 18.0106, 1)"
   ]
  },
  {
   "cell_type": "code",
   "execution_count": null,
   "metadata": {},
   "outputs": [],
   "source": [
    "end_5p = sum_value - 80 - TAG\n",
    "masses = df5p.Mass\n",
    "print(end_5p)\n",
    "BIAS = 0.1\n",
    "end5p_idxs = masses[(masses>=end_5p-BIAS) & (masses<=end_5p+BIAS)].index\n",
    "df5p_endpoints = df5p.loc[end5p_idxs]\n",
    "print(df5p_endpoints)\n",
    "\n",
    "masses = df3p.Mass\n",
    "end3p_idxs = masses[(masses>=seq_mass-BIAS) & (masses<=seq_mass+BIAS)].index\n",
    "end3p_endpoints = df3p.loc[end3p_idxs]\n",
    "print(seq_mass, end3p_endpoints)"
   ]
  },
  {
   "cell_type": "code",
   "execution_count": null,
   "metadata": {},
   "outputs": [],
   "source": [
    "df5p.columns"
   ]
  },
  {
   "cell_type": "code",
   "execution_count": null,
   "metadata": {},
   "outputs": [],
   "source": [
    "end5p_idx = df5p_endpoints['Vol'].idxmax()\n",
    "df5p_endpoint = df5p.loc[end5p_idx]\n",
    "df5p_endpoint"
   ]
  },
  {
   "cell_type": "code",
   "execution_count": null,
   "metadata": {},
   "outputs": [],
   "source": [
    "mass_sum_df = pd.DataFrame(mass_sum_np)\n",
    "mass_sum_df1 = pd.DataFrame(mass_sum_1)\n",
    "\n",
    "tmp = mass_sum_df1[(mass_sum_df1 >= sum_value-0.1) & (mass_sum_df1 <= sum_value+0.1)]\n",
    "final_idx_pairs = list(tmp[tmp.notnull()].stack().index)\n",
    "df3_idxs = [pair[0] for pair in final_idx_pairs]\n",
    "df5_idxs = [pair[1] for pair in final_idx_pairs]\n",
    "df3_idxs = list(set(df3_idxs))\n",
    "df5_idxs = list(set(df5_idxs))\n",
    "print(\"df3_idxs {} df5_idxs {}\".format(len(df3_idxs), len(df5_idxs)))"
   ]
  },
  {
   "cell_type": "code",
   "execution_count": null,
   "metadata": {},
   "outputs": [],
   "source": [
    "# df5_idxs.extend(list(end5p_idxs))\n",
    "df5_idxs.append(end5p_idx)\n",
    "print(len(df5_idxs))"
   ]
  },
  {
   "cell_type": "code",
   "execution_count": null,
   "metadata": {},
   "outputs": [],
   "source": [
    "plt.figure(figsize=(16, 12))\n",
    "df5p_selected = df5p.iloc[df5_idxs]\n",
    "print(df5p_selected.shape)\n",
    "df5p_selected = df5p_selected.sort_values('Mass')\n",
    "plt.scatter(df5p_selected['Mass'], df5p_selected['RT'])\n",
    "plt.scatter(df5p_endpoints['Mass'], df5p_endpoints['RT'], marker='X')"
   ]
  },
  {
   "cell_type": "code",
   "execution_count": null,
   "metadata": {},
   "outputs": [],
   "source": [
    "plt.figure(figsize=(16, 12))\n",
    "TOP_RT = 8\n",
    "# df5p_selected = df5p_selected[df5p_selected.RT < TOP_RT]\n",
    "print(df5p_selected.shape)\n",
    "df5p_selected = df5p_selected.sort_values('Mass')\n",
    "plt.scatter(df5p_selected['Mass'], df5p_selected['RT'])\n",
    "plt.scatter(df5p_endpoints['Mass'], df5p_endpoints['RT'], marker='X')\n",
    "\n",
    "df5p_selected = df5p_selected.sort_values('Mass')\n",
    "x = df5p_selected['Mass']\n",
    "y = df5p_selected['RT']\n",
    "z5 = np.polyfit(x, y, 2)\n",
    "print(z5)\n",
    "def f(x):\n",
    "    return z5[0]*x*x+z5[1]*x+z5[2]\n",
    "fx = f(x)\n",
    "plt.plot(x, fx, 'g--')\n",
    "plt.plot(x, fx+1.8, 'r')\n",
    "plt.plot(x, fx-1.8, 'r')"
   ]
  },
  {
   "cell_type": "code",
   "execution_count": null,
   "metadata": {},
   "outputs": [],
   "source": [
    "# idxs = list()\n",
    "# for idx, row in df5p_selected.iterrows():\n",
    "#     if (row['RT'] > f(row['Mass'])-1) and (row['RT'] < f(row['Mass'])+1):\n",
    "#         print(idx)\n",
    "#         idxs.append(idx)\n",
    "# df5p_selected.loc[idxs]\n",
    "\n",
    "df5p_tmp = df5p_selected[(df5p_selected.RT > f(df5p_selected.Mass)-1.8) & (df5p_selected.RT <f(df5p_selected.Mass)+1.8)]\n",
    "plt.figure(figsize=(16, 12))\n",
    "plt.scatter(df5p_tmp['Mass'], df5p_tmp['RT'])\n",
    "plt.scatter(df5p_endpoints['Mass'], df5p_endpoints['RT'], marker='X')"
   ]
  },
  {
   "cell_type": "code",
   "execution_count": null,
   "metadata": {},
   "outputs": [],
   "source": [
    "plt.figure(figsize=(16, 12))\n",
    "\n",
    "df5p_tmp = df5p_tmp.sort_values('Mass')\n",
    "x = df5p_tmp['Mass']\n",
    "y = df5p_tmp['RT']\n",
    "z5 = np.polyfit(x, y, 2)\n",
    "print(z5)\n",
    "def f(x):\n",
    "    return z5[0]*x*x+z5[1]*x+z5[2]\n",
    "fx = f(x)\n",
    "plt.plot(x, fx, 'g--')\n",
    "plt.plot(x, fx+1, 'r')\n",
    "plt.plot(x, fx-0.8, 'r')\n",
    "plt.scatter(x, y)\n",
    "plt.scatter(df5p_endpoints['Mass'], df5p_endpoints['RT'], marker='X')"
   ]
  },
  {
   "cell_type": "code",
   "execution_count": null,
   "metadata": {},
   "outputs": [],
   "source": [
    "df5p_tmp = df5p_tmp[(df5p_tmp.RT > f(df5p_tmp.Mass)-1) & (df5p_tmp.RT <f(df5p_tmp.Mass)+1)]"
   ]
  },
  {
   "cell_type": "code",
   "execution_count": null,
   "metadata": {},
   "outputs": [],
   "source": [
    "plt.figure(figsize=(16, 12))\n",
    "df3p_selected = df3p.iloc[df3_idxs]\n",
    "print(df3p_selected.shape)\n",
    "df3p_selected = df3p_selected.sort_values('Mass')\n",
    "plt.scatter(df3p_selected['Mass'], df3p_selected['RT'])\n",
    "plt.scatter(end3p_endpoints['Mass'], end3p_endpoints['RT'], marker='X')"
   ]
  },
  {
   "cell_type": "code",
   "execution_count": null,
   "metadata": {},
   "outputs": [],
   "source": [
    "# x = df3p_selected['Mass']\n",
    "# y = df3p_selected['RT']\n",
    "x = pd.Series([0, 7073.0472])\n",
    "y = pd.Series([6, 12.156])\n",
    "z = np.polyfit(x, y, 1)\n",
    "def f_3p(x):\n",
    "    return z[0]*x+z[1]\n",
    "\n",
    "plt.figure(figsize=(16, 12))\n",
    "plt.plot(x, f_3p(x), 'g--')\n",
    "# plt.plot(x, f_3p(x)-1, 'r')\n",
    "plt.scatter(df3p_selected['Mass'], df3p_selected['RT'])\n",
    "plt.scatter(end3p_endpoints['Mass'], end3p_endpoints['RT'], marker='X')"
   ]
  },
  {
   "cell_type": "code",
   "execution_count": null,
   "metadata": {},
   "outputs": [],
   "source": [
    "plt.figure(figsize=(12, 9))\n",
    "plt.scatter(df5p_selected['Mass'], df5p_selected['RT'], color='b')\n",
    "plt.scatter(df3p_selected['Mass'], df3p_selected['RT'], color='r')\n",
    "plt.xlabel('Mass')\n",
    "plt.ylabel('RT')"
   ]
  },
  {
   "cell_type": "code",
   "execution_count": null,
   "metadata": {},
   "outputs": [],
   "source": [
    "df_seqs = pd.read_csv('/Users/bryan/Studio/seq2/seqs.csv')"
   ]
  },
  {
   "cell_type": "code",
   "execution_count": null,
   "metadata": {},
   "outputs": [],
   "source": [
    "plt.figure(figsize=(12, 9))\n",
    "plt.scatter(df_seqs['Mass'], df_seqs['RT'])\n",
    "plt.xlabel('Mass')\n",
    "plt.ylabel('RT')"
   ]
  },
  {
   "cell_type": "code",
   "execution_count": null,
   "metadata": {},
   "outputs": [],
   "source": []
  },
  {
   "cell_type": "code",
   "execution_count": null,
   "metadata": {},
   "outputs": [],
   "source": [
    "\n",
    "df3p_tmp = df3p_selected[df3p_selected.RT > f_3p(df3p_selected.Mass)]"
   ]
  },
  {
   "cell_type": "code",
   "execution_count": null,
   "metadata": {},
   "outputs": [],
   "source": [
    "merge_df = pd.concat([df3p_selected, df5p_selected])\n",
    "# merge_df = pd.concat([df3p_tmp, df5p_tmp])\n",
    "print(merge_df.shape)\n",
    "merge_df.to_csv('data/merge.csv')"
   ]
  },
  {
   "cell_type": "code",
   "execution_count": null,
   "metadata": {},
   "outputs": [],
   "source": [
    "plt.figure(figsize=(16, 12))\n",
    "plt.scatter(merge_df['Mass'], merge_df['RT'])\n",
    "# plt.scatter(end3p_endpoints['Mass'], end3p_endpoints['RT'], marker='X', color='r')\n",
    "# plt.scatter(df5p_endpoints['Mass'], df5p_endpoints['RT'], marker='X', color='r')"
   ]
  },
  {
   "cell_type": "code",
   "execution_count": null,
   "metadata": {},
   "outputs": [],
   "source": []
  }
 ],
 "metadata": {
  "kernelspec": {
   "display_name": "Python 3",
   "language": "python",
   "name": "python3"
  },
  "language_info": {
   "codemirror_mode": {
    "name": "ipython",
    "version": 3
   },
   "file_extension": ".py",
   "mimetype": "text/x-python",
   "name": "python",
   "nbconvert_exporter": "python",
   "pygments_lexer": "ipython3",
   "version": "3.7.3"
  }
 },
 "nbformat": 4,
 "nbformat_minor": 4
}
