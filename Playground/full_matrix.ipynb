{
 "cells": [
  {
   "cell_type": "code",
   "execution_count": null,
   "metadata": {},
   "outputs": [],
   "source": [
    "import pandas as pd\n",
    "import numpy as np\n",
    "import matplotlib.pyplot as plt\n",
    "# import statsmodels.api as sm\n",
    "import seaborn as sns"
   ]
  },
  {
   "cell_type": "code",
   "execution_count": null,
   "metadata": {},
   "outputs": [],
   "source": [
    "# df = pd.read_excel('/Users/bryan/Documents/SeqDataSets/200313/200313s09_100_full.xls')\n",
    "# df = pd.read_csv(\"/Users/bryan/Studio/tools/mix_10.csv\")\n",
    "# df = pd.read_csv('/Users/bryan/Documents/SeqDataSets/12mix/12mix.csv')\n",
    "df = pd.read_excel(\"/Users/bryan/Studio/seq_bank/19.xlsx\")\n",
    "# df = pd.read_csv(\"/Users/bryan/Studio/seq/data/samples/19.csv\")\n",
    "# df = pd.read_excel('/Users/bryan/Studio/seq_bank/data/merge/mix_19_20_21_201_202_203_204_205_206_207.xlsx')\n",
    "# df = pd.read_csv('/Users/bryan/Studio/seq/data/samples/201.csv')\n",
    "# df = pd.read_csv('/Users/bryan/Documents/SeqDataSets/signal_to_noise_20/NZ_180709_s06_0610_20_k.xls')\n",
    "# df = pd.read_csv('/Users/bryan/Documents/SeqDataSets/signal_to_noise_20/MIX/NZ_180709_S05_0610_20_k.csv')\n",
    "# df = pd.read_excel('/Users/bryan/Documents/SeqDataSets/signal_to_noise_20/MIX/NZ_180709_S05_0610_20.xls')\n",
    "# df = pd.read_csv('/Users/bryan/Studio/seq/data/merges/df_19_20_21_201_202_203_204_205_206_207.csv')\n",
    "# df = pd.read_excel('/Users/bryan/Studio/seq_bank/694.2397_500_20200624112302.xlsx')\n",
    "df.shape"
   ]
  },
  {
   "cell_type": "code",
   "execution_count": null,
   "metadata": {},
   "outputs": [],
   "source": [
    "df[df.Mass == 6954.9496]"
   ]
  },
  {
   "cell_type": "code",
   "execution_count": null,
   "metadata": {},
   "outputs": [],
   "source": [
    "df3p = pd.read_csv('/Users/bryan/Studio/seq2/3p.csv')\n",
    "df5p = pd.read_csv('/Users/bryan/Studio/seq2/5p.csv')"
   ]
  },
  {
   "cell_type": "code",
   "execution_count": null,
   "metadata": {},
   "outputs": [],
   "source": [
    "plt.scatter(df3p['Mass'], df3p['RT'])"
   ]
  },
  {
   "cell_type": "code",
   "execution_count": null,
   "metadata": {},
   "outputs": [],
   "source": [
    "plt.scatter(df5p['Mass'], df5p['RT'])"
   ]
  },
  {
   "cell_type": "code",
   "execution_count": null,
   "metadata": {},
   "outputs": [],
   "source": [
    "# TAG = 826.3184\n",
    "TAG = 694.2397\n",
    "def init_df(df, tag=694.2397):\n",
    "    df = df.append({'Mass': 18.0106, 'RT': 0.66, 'Vol': 10000}, ignore_index=True)\n",
    "    df = df.append({'Mass': 347.0631, 'RT': 0.99, 'Vol': 10000}, ignore_index=True)\n",
    "    df = df.append({'Mass': 323.0519, 'RT': 0.99, 'Vol': 10000}, ignore_index=True)\n",
    "    df = df.append({'Mass': 363.058, 'RT': 0.99, 'Vol': 10000}, ignore_index=True)\n",
    "    df = df.append({'Mass': 324.0359, 'RT': 0.99, 'Vol': 10000}, ignore_index=True)\n",
    "    # df = df.append({'Mass': 826.3184, 'RT': 1.66, 'Vol': 20000}, ignore_index=True)\n",
    "    df = df.append({'Mass': tag, 'RT': 1.66, 'Vol': 20000}, ignore_index=True)\n",
    "    df.shape\n",
    "    return df"
   ]
  },
  {
   "cell_type": "code",
   "execution_count": null,
   "metadata": {},
   "outputs": [],
   "source": [
    "plt.figure(figsize=(12, 9))\n",
    "plt.scatter(df['Mass'], df['RT'])"
   ]
  },
  {
   "cell_type": "code",
   "execution_count": null,
   "metadata": {},
   "outputs": [],
   "source": [
    "def base_calling_random(df):\n",
    "    df = df.sort_index()\n",
    "    mass_x = np.array(df.Mass)\n",
    "    mass_y = np.array(df.Mass)\n",
    "    print(\"mass_x {} mass_y {}\".format(mass_x.shape, mass_y.shape))\n",
    "\n",
    "    bases = [305.0413, 329.0525, 345.0474, 306.0253, 359.0631, 308.041, 319.0569, 320.041, 373.0787, 343.0682, 570.1475, 212.0086, 557.2251, 688.1156, 625.0844]\n",
    "    base_dict = {'C': 305.0413, 'A': 329.0525, 'G': 345.0474, 'U': 306.0253, 'g': 359.0631, 'D': 308.041, 'c': 319.0569, 'T': 320.041, 'G^': 373.0787, 'a': 343.0682, 'y': 212.0086, 'Y': 570.1475, 'P': 557.2251, 'x': 688.1156, 'z': 625.0844}\n",
    "    pairs = list()\n",
    "    idxs = list()\n",
    "    PPM = 10\n",
    "    for k in base_dict.keys():\n",
    "        base_mass = base_dict.get(k)\n",
    "        ppm_matrix = np.abs((mass_x[:, np.newaxis] - mass_y - base_mass) * 1E6 / (mass_y + base_mass))\n",
    "        ppm_df = pd.DataFrame(ppm_matrix)\n",
    "        crosstalk = ppm_df[ppm_df < 10]\n",
    "        idx_pairs = list(crosstalk[crosstalk.notnull()].stack().index)\n",
    "        if idx_pairs:\n",
    "            idx_pairs = [(*pair, k) for pair in idx_pairs] # append base name into idx_pairs\n",
    "            pairs.extend(idx_pairs)\n",
    "        df3_idxs = [pair[0] for pair in idx_pairs]\n",
    "        df5_idxs = [pair[1] for pair in idx_pairs]\n",
    "        df3_idxs = list(set(df3_idxs))\n",
    "        df5_idxs = list(set(df5_idxs))\n",
    "        print(\"df3_idxs {} df5_idxs {}\".format(len(df3_idxs), len(df5_idxs)))\n",
    "        idxs.extend(df3_idxs)\n",
    "        idxs.extend(df5_idxs)\n",
    "    \n",
    "    mass_pairs = [(df.Mass.iloc[p[0]], df.Mass.iloc[p[1]], p[2]) for p in pairs]\n",
    "    idxs = list(set(idxs))\n",
    "    plt.figure(figsize=(16, 12))\n",
    "    df_base_calling = df.iloc[idxs]\n",
    "    print(df_base_calling.shape)\n",
    "    return df_base_calling, mass_pairs"
   ]
  },
  {
   "cell_type": "code",
   "execution_count": null,
   "metadata": {},
   "outputs": [],
   "source": [
    "def get_end5p_points(df5p, sum_value):\n",
    "    end_5p = sum_value - 80 - TAG\n",
    "    masses = df5p.Mass\n",
    "    print(end_5p)\n",
    "    BIAS = 0.3\n",
    "    end5p_idxs = masses[(masses>=end_5p-BIAS) & (masses<=end_5p+BIAS)].index\n",
    "    print(\"end5p_idxs {}\".format(end5p_idxs))\n",
    "    \n",
    "    endpoints = df5p.loc[end5p_idxs]\n",
    "    endpoints = endpoints.sort_values('Vol', ascending=False)\n",
    "    return endpoints.iloc[0]\n",
    "\n",
    "# df5_idxs.extend(list(end5p_idxs))"
   ]
  },
  {
   "cell_type": "code",
   "execution_count": null,
   "metadata": {},
   "outputs": [],
   "source": [
    "def computational_data_seperation(df3p, df5p, full_mass, ignore_endpoints=False):\n",
    "    df3p_mass_np = np.array(df3p['Mass'])\n",
    "    df5p_mass_np = np.array(df5p['Mass'])\n",
    "    mass_sum_np = df3p_mass_np[:, np.newaxis] + df5p_mass_np\n",
    "    mass_sum_1 = np.round(mass_sum_np, 1)\n",
    "    mass_sum_df = pd.DataFrame(mass_sum_np)\n",
    "    mass_sum_df1 = pd.DataFrame(mass_sum_1)\n",
    "\n",
    "    sum_value = round(full_mass + 18.0106, 1)\n",
    "\n",
    "    tmp = mass_sum_df1[(mass_sum_df1 >= sum_value-0.1) & (mass_sum_df1 <= sum_value+0.1)]\n",
    "    final_idx_pairs = list(tmp[tmp.notnull()].stack().index)\n",
    "    df3_idxs = [pair[0] for pair in final_idx_pairs]\n",
    "    df5_idxs = [pair[1] for pair in final_idx_pairs]\n",
    "    df3_idxs = list(set(df3_idxs))\n",
    "    df5_idxs = list(set(df5_idxs))\n",
    "    print(\"df3_idxs {} df5_idxs {}\".format(len(df3_idxs), len(df5_idxs)))\n",
    "\n",
    "    df3p_selected = df3p.iloc[df3_idxs]\n",
    "    df5p_selected = df5p.iloc[df5_idxs]\n",
    "    \n",
    "    if not ignore_endpoints:\n",
    "        df5p_endpoints = get_end5p_points(df5p, full_mass + 18.0106)\n",
    "        print(\"df5p_endpoints {}\".format(df5p_endpoints[['Mass', 'RT', 'Vol']]))\n",
    "\n",
    "        df3p_selected = df3p_selected.append(df5p_endpoints)\n",
    "        df5p_selected = df5p_selected.append(df5p_endpoints)\n",
    "        \n",
    "    return df3p_selected, df5p_selected"
   ]
  },
  {
   "cell_type": "code",
   "execution_count": null,
   "metadata": {},
   "outputs": [],
   "source": [
    "def label_unlabel_comparison(df3p, df5p, diff=694.2397 + 61.9557):\n",
    "    df3p_mass_np = np.array(df3p['Mass'])\n",
    "    df5p_mass_np = np.array(df5p['Mass'])\n",
    "    mass_sum_np = df3p_mass_np[:, np.newaxis] - df5p_mass_np\n",
    "    mass_sum_1 = np.round(mass_sum_np, 1)\n",
    "    mass_sum_df = pd.DataFrame(mass_sum_np)\n",
    "    mass_sum_df1 = pd.DataFrame(mass_sum_1)\n",
    "\n",
    "    comparee = round(diff, 1)\n",
    "\n",
    "    tmp = mass_sum_df1[(mass_sum_df1 >= comparee-0.1) & (mass_sum_df1 <= comparee+0.1)]\n",
    "    final_idx_pairs = list(tmp[tmp.notnull()].stack().index)\n",
    "    df3_idxs = [pair[0] for pair in final_idx_pairs]\n",
    "    df5_idxs = [pair[1] for pair in final_idx_pairs]\n",
    "    df3_idxs = list(set(df3_idxs))\n",
    "    df5_idxs = list(set(df5_idxs))\n",
    "    print(\"df3_idxs {} df5_idxs {}\".format(len(df3_idxs), len(df5_idxs)))\n",
    "\n",
    "    df3p_selected = df3p.iloc[df3_idxs]\n",
    "    df5p_selected = df5p.iloc[df5_idxs]\n",
    "    return df3p_selected, df5p_selected"
   ]
  },
  {
   "cell_type": "code",
   "execution_count": null,
   "metadata": {},
   "outputs": [],
   "source": [
    "def plot_zones(df3p, df5p):\n",
    "    plt.figure(figsize=(12, 9))\n",
    "    sns.regplot(df3p.Mass, df3p.RT)\n",
    "    sns.regplot(df5p.Mass, df5p.RT)\n",
    "\n",
    "def plot_zone(df):\n",
    "    plt.figure(figsize=(12, 9))\n",
    "    plt.scatter(df.Mass, df.RT)"
   ]
  },
  {
   "cell_type": "code",
   "execution_count": null,
   "metadata": {},
   "outputs": [],
   "source": [
    "df3p = df\n",
    "df5p = df\n",
    "df3p.shape, df5p.shape"
   ]
  },
  {
   "cell_type": "code",
   "execution_count": null,
   "metadata": {},
   "outputs": [],
   "source": [
    "src_to_transfer = '/Users/bryan/Downloads/gradientyeastsample4.xlsx'\n",
    "df = pd.read_excel(src_to_transfer)\n",
    "df.rename(columns={'Monoisotopic Mass': 'Mass', 'Sum Intensity': 'Vol', 'Apex RT': 'RT'}, inplace=True)\n",
    "df.to_excel(src_to_transfer)"
   ]
  },
  {
   "cell_type": "code",
   "execution_count": null,
   "metadata": {},
   "outputs": [],
   "source": [
    "df = pd.read_excel('/Users/bryan/Downloads/oligosdegradsample2.xlsx')\n",
    "df.shape"
   ]
  },
  {
   "cell_type": "code",
   "execution_count": null,
   "metadata": {},
   "outputs": [],
   "source": [
    "df_big = df[df.Mass>22000].sort_values('Vol', ascending=False)[:10][['Mass', 'Vol', 'RT']]\n",
    "df_big"
   ]
  },
  {
   "cell_type": "code",
   "execution_count": null,
   "metadata": {},
   "outputs": [],
   "source": [
    "# full_mass = 24581.37038 # phe\n",
    "# full_mass = 24252.354538 # phe2\n",
    "# full_mass = 24233.17434 # Asp\n",
    "# full_mass = 24287.342597 # unknow\n",
    "full_mass = df_big.iloc[1].Mass\n",
    "print(full_mass)\n",
    "df_ms, _ = computational_data_seperation(df, df, full_mass=full_mass, ignore_endpoints=True)\n",
    "df_ms.shape"
   ]
  },
  {
   "cell_type": "code",
   "execution_count": null,
   "metadata": {},
   "outputs": [],
   "source": [
    "df_ms_bcr, mass_pairs = base_calling_random(df_ms)\n",
    "df_ms_bcr.shape, len(mass_pairs)"
   ]
  },
  {
   "cell_type": "code",
   "execution_count": null,
   "metadata": {},
   "outputs": [],
   "source": [
    "df_ms_bcr.info()"
   ]
  },
  {
   "cell_type": "code",
   "execution_count": null,
   "metadata": {},
   "outputs": [],
   "source": [
    "%run ../modules/utils.ipynb\n",
    "plot_basecalling2(df_ms_bcr, mass_pairs)"
   ]
  },
  {
   "cell_type": "code",
   "execution_count": null,
   "metadata": {},
   "outputs": [],
   "source": [
    "plt.figure(figsize=(16, 12))\n",
    "plt.scatter(df_ms.Mass, df_ms.RT)\n",
    "mass1 = [t[0] for t in mass_pairs]\n",
    "mass2 = [t[1] for t in mass_pairs]\n",
    "\n",
    "for t in mass_pairs:\n",
    "    df_pair = df_ms[df_ms.Mass.isin(t)]\n",
    "#     print(\"p1 {} p2 {}\".format(p1.Mass.values[0], p2.Mass))\n",
    "    plt.plot(df_pair.Mass, df_pair.RT, 'black')\n",
    "    plt.annotate(s=t[2], size=15, xy=(df_pair.Mass[:1], df_pair.RT[:1]), textcoords=\"offset points\", xytext=(0,10), ha='center')\n",
    "\n",
    "plt.title('tRNA-phe')\n",
    "plt.show()"
   ]
  },
  {
   "cell_type": "code",
   "execution_count": null,
   "metadata": {},
   "outputs": [],
   "source": [
    "df = df.sort_values('Vol', ascending=False)"
   ]
  },
  {
   "cell_type": "code",
   "execution_count": null,
   "metadata": {},
   "outputs": [],
   "source": [
    "df.iloc[:5][['Mass', 'Vol']]"
   ]
  },
  {
   "cell_type": "code",
   "execution_count": null,
   "metadata": {},
   "outputs": [],
   "source": [
    "df = pd.read_excel('/Users/bryan/Studio/seq_bank/694.2397_500_20200624112302.xlsx')\n",
    "df.shape"
   ]
  },
  {
   "cell_type": "code",
   "execution_count": null,
   "metadata": {},
   "outputs": [],
   "source": [
    "df1 = pd.read_excel('/Users/bryan/Documents/SeqDataSets/PaperData/ACS/100918s06.xls')\n",
    "df2 = pd.read_excel('/Users/bryan/Downloads/oligosdegradsample2.xlsx')\n",
    "df1.shape, df2.shape"
   ]
  },
  {
   "cell_type": "code",
   "execution_count": null,
   "metadata": {},
   "outputs": [],
   "source": [
    "df1.columns, df2.columns"
   ]
  },
  {
   "cell_type": "code",
   "execution_count": null,
   "metadata": {},
   "outputs": [],
   "source": [
    "df_phe = pd.concat([df1[['Mass', 'RT', 'Vol']], df2[['Mass', 'RT', 'Vol']]])"
   ]
  },
  {
   "cell_type": "code",
   "execution_count": null,
   "metadata": {},
   "outputs": [],
   "source": [
    "df_ms.to_excel('data/asp_merge.xlsx')"
   ]
  },
  {
   "cell_type": "code",
   "execution_count": null,
   "metadata": {},
   "outputs": [],
   "source": [
    "df.drop('Unnamed: 0', axis=1, inplace=True)"
   ]
  },
  {
   "cell_type": "code",
   "execution_count": null,
   "metadata": {},
   "outputs": [],
   "source": [
    "df.shape"
   ]
  },
  {
   "cell_type": "code",
   "execution_count": null,
   "metadata": {},
   "outputs": [],
   "source": [
    "df.head()"
   ]
  },
  {
   "cell_type": "code",
   "execution_count": null,
   "metadata": {},
   "outputs": [],
   "source": [
    "def computational_data_seperation(df3p, df5p, full_mass, ignore_endpoints=False):\n",
    "    df3p_mass_np = np.array(df3p['Mass'])\n",
    "    df5p_mass_np = np.array(df5p['Mass'])\n",
    "    mass_sum_np = df3p_mass_np[:, np.newaxis] + df5p_mass_np\n",
    "    mass_sum_1 = np.round(mass_sum_np, 1)\n",
    "    mass_sum_df = pd.DataFrame(mass_sum_np)\n",
    "    mass_sum_df1 = pd.DataFrame(mass_sum_1)\n",
    "\n",
    "    sum_value = round(full_mass + 18.0106, 1)\n",
    "\n",
    "    bias = 0.2\n",
    "    tmp = mass_sum_df1[(mass_sum_df1 >= sum_value-bias) & (mass_sum_df1 <= sum_value+bias)]\n",
    "    final_idx_pairs = list(tmp[tmp.notnull()].stack().index)\n",
    "    df3_idxs = [pair[0] for pair in final_idx_pairs]\n",
    "    df5_idxs = [pair[1] for pair in final_idx_pairs]\n",
    "    df3_idxs = list(set(df3_idxs))\n",
    "    df5_idxs = list(set(df5_idxs))\n",
    "    print(\"df3_idxs {} df5_idxs {}\".format(len(df3_idxs), len(df5_idxs)))\n",
    "\n",
    "    df3p_selected = df3p.iloc[df3_idxs]\n",
    "    df5p_selected = df5p.iloc[df5_idxs]\n",
    "    \n",
    "    if not ignore_endpoints:\n",
    "        df5p_endpoints = get_end5p_points(df5p, full_mass + 18.0106)\n",
    "        print(\"df5p_endpoints {}\".format(df5p_endpoints[['Mass', 'RT', 'Vol']]))\n",
    "\n",
    "        df3p_selected = df3p_selected.append(df5p_endpoints)\n",
    "        df5p_selected = df5p_selected.append(df5p_endpoints)\n",
    "        \n",
    "    return df3p_selected, df5p_selected"
   ]
  },
  {
   "cell_type": "code",
   "execution_count": null,
   "metadata": {},
   "outputs": [],
   "source": [
    "plot_zone(df3p)"
   ]
  },
  {
   "cell_type": "code",
   "execution_count": null,
   "metadata": {},
   "outputs": [],
   "source": [
    "#24581.37038\n",
    "full_mass = 24581.37038\n",
    "df_ms, _ = computational_data_seperation(df2, df2, full_mass=full_mass, ignore_endpoints=True)"
   ]
  },
  {
   "cell_type": "code",
   "execution_count": null,
   "metadata": {},
   "outputs": [],
   "source": [
    "df2.columns"
   ]
  },
  {
   "cell_type": "code",
   "execution_count": null,
   "metadata": {},
   "outputs": [],
   "source": [
    "plt.figure(figsize=(15,11))\n",
    "plt.scatter(df2[df2.Mass > 22000].Mass, df2[df2.Mass > 22000]['Sum Intensity'])"
   ]
  },
  {
   "cell_type": "code",
   "execution_count": null,
   "metadata": {},
   "outputs": [],
   "source": [
    "plt.figure(figsize=(15, 11))\n",
    "plt.scatter(df_ms.Mass, df_ms.RT)"
   ]
  },
  {
   "cell_type": "code",
   "execution_count": null,
   "metadata": {},
   "outputs": [],
   "source": [
    "df3p.to_excel('data/tmp_mix500.xlsx')"
   ]
  },
  {
   "cell_type": "code",
   "execution_count": null,
   "metadata": {},
   "outputs": [],
   "source": [
    "full_masses = {'19': 6781.0752, '20': 7079.0804, '21': 7522.1083, '201': 7088.0843, '202': 6985.0440, \n",
    "               '203': 7073.0746, '204': 6954.9496, '205': 7110.0903, '206': 7151.1211, '207': 7193.0484}\n",
    "for k in full_masses.keys():\n",
    "    full_mass = full_masses.get(k)\n",
    "    df_seq, _ = computational_data_seperation(df3p, df5p, full_mass=full_mass)\n",
    "    df_seq.to_excel('data/merge/mix_{}_{}.xlsx'.format(len(full_masses), k))\n",
    "    df_seq.shape\n",
    "#     plot_zone(df_seq)"
   ]
  },
  {
   "cell_type": "code",
   "execution_count": null,
   "metadata": {},
   "outputs": [],
   "source": [
    "# full_mass = 6847.0787\n",
    "# full_mass = 6929.0318\n",
    "full_mass = 6781.0752 #19\n",
    "# full_mass = 7079.0804 #20\n",
    "# full_mass = 7522.1083 #21\n",
    "# full_mass = 7088.0843 #201\n",
    "# full_mass = 6985.0440 #202\n",
    "# full_mass = 7073.0746 #203\n",
    "# full_mass = 6954.9496 #6954.9868 #204\n",
    "# full_mass = 7110.0903 #205\n",
    "# full_mass = 7151.1211 #206\n",
    "# full_mass = 7193.0484 #207\n"
   ]
  },
  {
   "cell_type": "code",
   "execution_count": null,
   "metadata": {},
   "outputs": [],
   "source": [
    "df = pd.read_csv('/Users/bryan/Documents/SeqDataSets/2mix/NZ_180521s07_19_20.csv')\n",
    "print(df.shape)\n",
    "df = init_df(df)\n",
    "df3p = df5p = df\n",
    "df_seq, _ = computational_data_seperation(df3p, df5p, full_mass=full_mass)\n",
    "# df_seq.to_excel('data/merge_pure/mix_1_19.xlsx')\n",
    "df_seq.shape\n",
    "plot_zone(df_seq)"
   ]
  },
  {
   "cell_type": "code",
   "execution_count": null,
   "metadata": {},
   "outputs": [],
   "source": [
    "df_3p, df_5p = computational_data_seperation(df3p, df5p, full_mass=full_mass)\n",
    "df_3p.shape, df_5p.shape"
   ]
  },
  {
   "cell_type": "code",
   "execution_count": null,
   "metadata": {},
   "outputs": [],
   "source": [
    "plot_zones(df_3p, df_5p)"
   ]
  },
  {
   "cell_type": "code",
   "execution_count": null,
   "metadata": {},
   "outputs": [],
   "source": [
    "df_seq = df_seq[df_seq.RT < 15]\n",
    "z = np.polyfit(df_seq.Mass, df_seq.RT, 1)\n",
    "def f(x):\n",
    "    return z[0]*x + z[1]\n",
    "plt.scatter(df_seq.Mass, df_seq.RT)\n",
    "plt.plot(df_seq.Mass, f(df_seq.Mass))"
   ]
  },
  {
   "cell_type": "code",
   "execution_count": null,
   "metadata": {},
   "outputs": [],
   "source": [
    "# df_seq_3p = df_seq[df_seq.RT > f(df_seq.Mass)]\n",
    "# df_seq_5p = df_seq[df_seq.RT <= f(df_seq.Mass)]\n",
    "df_seq_3p.shape, df_seq_5p.shape"
   ]
  },
  {
   "cell_type": "code",
   "execution_count": null,
   "metadata": {},
   "outputs": [],
   "source": [
    "plot_zones(df_seq_3p, df_seq_5p)"
   ]
  },
  {
   "cell_type": "code",
   "execution_count": null,
   "metadata": {},
   "outputs": [],
   "source": [
    "df_label, df_unlabel = label_unlabel_comparison(df3p, df5p)"
   ]
  },
  {
   "cell_type": "code",
   "execution_count": null,
   "metadata": {},
   "outputs": [],
   "source": [
    "plot_zones(df_label, df_unlabel)"
   ]
  },
  {
   "cell_type": "code",
   "execution_count": null,
   "metadata": {},
   "outputs": [],
   "source": [
    "df_common_3p = pd.merge(df_label, df_seq_3p, how='inner')\n",
    "df_common_3p.shape"
   ]
  },
  {
   "cell_type": "code",
   "execution_count": null,
   "metadata": {},
   "outputs": [],
   "source": [
    "plot_zone(df_common_3p)"
   ]
  },
  {
   "cell_type": "code",
   "execution_count": null,
   "metadata": {},
   "outputs": [],
   "source": [
    "df_common_3p_bc = base_calling_random(df_common_3p)\n",
    "df_common_3p_bc.shape"
   ]
  },
  {
   "cell_type": "code",
   "execution_count": null,
   "metadata": {},
   "outputs": [],
   "source": [
    "plot_zone(df_common_3p_bc)"
   ]
  },
  {
   "cell_type": "code",
   "execution_count": null,
   "metadata": {},
   "outputs": [],
   "source": [
    "df_common_3p_lbl, df_unlbl = label_unlabel_comparison(df_common_3p, df_unlabel)"
   ]
  },
  {
   "cell_type": "code",
   "execution_count": null,
   "metadata": {},
   "outputs": [],
   "source": [
    "plot_zone(df_unlbl)"
   ]
  },
  {
   "cell_type": "code",
   "execution_count": null,
   "metadata": {},
   "outputs": [],
   "source": [
    "df_unlbl_bc = base_calling_random(df_unlbl)\n",
    "df_unlbl_bc.shape"
   ]
  },
  {
   "cell_type": "code",
   "execution_count": null,
   "metadata": {},
   "outputs": [],
   "source": [
    "plot_zones(df_common_3p_lbl, df_unlbl_bc)"
   ]
  },
  {
   "cell_type": "code",
   "execution_count": null,
   "metadata": {},
   "outputs": [],
   "source": [
    "df_common_3p_tmp, df_seq_5p_tmp = computational_data_seperation(df_common_3p, df_seq_5p)"
   ]
  },
  {
   "cell_type": "code",
   "execution_count": null,
   "metadata": {},
   "outputs": [],
   "source": [
    "plot_zones(df_common_3p_tmp, df_seq_5p_tmp)"
   ]
  },
  {
   "cell_type": "code",
   "execution_count": null,
   "metadata": {},
   "outputs": [],
   "source": [
    "df_common_3p_tmp[['Mass', 'RT', 'Vol', 'Quality Score']]"
   ]
  },
  {
   "cell_type": "code",
   "execution_count": null,
   "metadata": {},
   "outputs": [],
   "source": [
    "df_common_3p_lbl.to_excel('data/19_3p.xls')\n",
    "df_seq_5p_tmp.to_excel('data/19_5p.xls')"
   ]
  },
  {
   "cell_type": "code",
   "execution_count": null,
   "metadata": {},
   "outputs": [],
   "source": [
    "# df = df.sort_values(by='Vol', ascending=False)\n",
    "df = df.sort_index()\n",
    "df.to_csv('data/5p.csv')"
   ]
  },
  {
   "cell_type": "code",
   "execution_count": null,
   "metadata": {},
   "outputs": [],
   "source": [
    "df3p_mass_np = np.array(df3p['Mass'])\n",
    "df5p_mass_np = np.array(df5p['Mass'])\n",
    "mass_sum_np = df3p_mass_np[:, np.newaxis] + df5p_mass_np"
   ]
  },
  {
   "cell_type": "code",
   "execution_count": null,
   "metadata": {},
   "outputs": [],
   "source": [
    "mass_sum_0 = np.round(mass_sum_np, 0)\n",
    "mass_sum_1 = np.round(mass_sum_np, 1)\n",
    "mass_sum_2 = np.round(mass_sum_np, 2)\n",
    "mass_sum_3 = np.round(mass_sum_np, 3)"
   ]
  },
  {
   "cell_type": "code",
   "execution_count": null,
   "metadata": {},
   "outputs": [],
   "source": [
    "# seq_mass = 7281.1982\n",
    "# seq_mass = 7079.0861\n",
    "seq_mass = 6781.0487 #6781.0763\n",
    "# seq_mass = 7522.1079\n",
    "# seq_mass = 7088.0775\n",
    "# seq_mass = 7073.0735\n",
    "# seq_mass = 6954.9831\n",
    "# seq_mass = 7110.0883\n",
    "# seq_mass = 7151.113\n",
    "# seq_mass = 7193.0523\n",
    "# seq_mass = 6781.0763\n",
    "# seq_mass = 6985.9879\n",
    "sum_value = round(seq_mass + 18.0106, 1)\n",
    "mass_sum_1[(mass_sum_1 >= sum_value-0.2) & (mass_sum_1 <=sum_value+0.2)]"
   ]
  },
  {
   "cell_type": "code",
   "execution_count": null,
   "metadata": {},
   "outputs": [],
   "source": [
    "end_5p = sum_value - 80 - TAG\n",
    "masses = df5p.Mass\n",
    "print(end_5p)\n",
    "BIAS = 0.1\n",
    "end5p_idxs = masses[(masses>=end_5p-BIAS) & (masses<=end_5p+BIAS)].index\n",
    "df5p.loc[end5p_idxs]"
   ]
  },
  {
   "cell_type": "code",
   "execution_count": null,
   "metadata": {},
   "outputs": [],
   "source": [
    "# tmp = mass_sum_1[((mass_sum_1 >= sum_value-0.1) & (mass_sum_1 <= sum_value+0.1)) | ((mass_sum_1 >= sum_value-80-0.1) & (mass_sum_1 <= sum_value-80+0.1))]\n",
    "tmp = mass_sum_1[(mass_sum_1 >= sum_value-0.1) & (mass_sum_1 <= sum_value+0.1)]\n",
    "len(tmp)"
   ]
  },
  {
   "cell_type": "code",
   "execution_count": null,
   "metadata": {},
   "outputs": [],
   "source": [
    "mass_sum_df = pd.DataFrame(mass_sum_np)\n",
    "mass_sum_df1 = pd.DataFrame(mass_sum_1)\n",
    "\n",
    "# tmp = mass_sum_df1[((mass_sum_df1 >= sum_value-0.1) & (mass_sum_df1 <= sum_value+0.1)) | ((mass_sum_df1 >= sum_value-80-0.1) & (mass_sum_df1 <= sum_value-80+0.1))]\n",
    "tmp = mass_sum_df1[(mass_sum_df1 >= sum_value-0.1) & (mass_sum_df1 <= sum_value+0.1)]\n",
    "final_idx_pairs = list(tmp[tmp.notnull()].stack().index)\n",
    "df3_idxs = [pair[0] for pair in final_idx_pairs]\n",
    "df5_idxs = [pair[1] for pair in final_idx_pairs]\n",
    "# df5_idxs += df3_idxs\n",
    "# print(\"df3 idxs {} \\ndf5 idxs {}\".format(df3_idxs, df5_idxs))\n",
    "\n",
    "# df3p_mass_np[df3_idxs]\n",
    "# df5p_mass_np[df5_idxs]\n",
    "print(\"df3_idxs {} df5_idxs {}\".format(len(df3_idxs), len(df5_idxs)))"
   ]
  },
  {
   "cell_type": "code",
   "execution_count": null,
   "metadata": {},
   "outputs": [],
   "source": [
    "df3_idxs_tmp = list(set(df3_idxs))\n",
    "len(df3_idxs_tmp)"
   ]
  },
  {
   "cell_type": "code",
   "execution_count": null,
   "metadata": {},
   "outputs": [],
   "source": [
    "df3_idxs = list(set(df3_idxs))\n",
    "df5_idxs = list(set(df5_idxs))\n",
    "df5_idxs.extend(list(end5p_idxs))\n",
    "print(len(df5_idxs))"
   ]
  },
  {
   "cell_type": "code",
   "execution_count": null,
   "metadata": {},
   "outputs": [],
   "source": [
    "plt.figure(figsize=(12, 9))\n",
    "df3p_selected = df3p.iloc[df3_idxs]\n",
    "df5p_selected = df5p.iloc[df5_idxs]\n",
    "print(df5p_selected.shape, df3p_selected.shape)\n",
    "df5p_selected = df5p_selected.sort_values('Mass')\n",
    "plt.scatter(df3p_selected['Mass'], df3p_selected['RT'], color='r')\n",
    "plt.scatter(df5p_selected['Mass'], df5p_selected['RT'])"
   ]
  },
  {
   "cell_type": "code",
   "execution_count": null,
   "metadata": {},
   "outputs": [],
   "source": [
    "df3p_selected = df3p_selected.sort_values('Vol', ascending=False)"
   ]
  },
  {
   "cell_type": "code",
   "execution_count": null,
   "metadata": {},
   "outputs": [],
   "source": [
    "df3p_top = df3p_selected.iloc[:200]\n",
    "plt.figure(figsize=(12, 9))\n",
    "plt.scatter(df3p_top.Mass, df3p_top.RT)"
   ]
  },
  {
   "cell_type": "code",
   "execution_count": null,
   "metadata": {},
   "outputs": [],
   "source": [
    "df3p_basecalling = base_calling_random(df3p_selected)"
   ]
  },
  {
   "cell_type": "code",
   "execution_count": null,
   "metadata": {},
   "outputs": [],
   "source": [
    "df5p_basecalling = base_calling_random(df5p_selected)"
   ]
  },
  {
   "cell_type": "code",
   "execution_count": null,
   "metadata": {},
   "outputs": [],
   "source": [
    "df3p_selected.to_excel('data/first.xlsx')"
   ]
  },
  {
   "cell_type": "code",
   "execution_count": null,
   "metadata": {},
   "outputs": [],
   "source": [
    "df3p_cds, df5p_cds = computational_data_seperation(df3p_basecalling, df5p_basecalling)"
   ]
  },
  {
   "cell_type": "code",
   "execution_count": null,
   "metadata": {},
   "outputs": [],
   "source": [
    "plot_zones(df3p_cds, df5p_cds)"
   ]
  },
  {
   "cell_type": "code",
   "execution_count": null,
   "metadata": {},
   "outputs": [],
   "source": [
    "df3p_cds = base_calling_random(df3p_cds)\n",
    "df5p_cds = base_calling_random(df5p_cds)"
   ]
  },
  {
   "cell_type": "code",
   "execution_count": null,
   "metadata": {},
   "outputs": [],
   "source": []
  }
 ],
 "metadata": {
  "kernelspec": {
   "display_name": "Python 3",
   "language": "python",
   "name": "python3"
  },
  "language_info": {
   "codemirror_mode": {
    "name": "ipython",
    "version": 3
   },
   "file_extension": ".py",
   "mimetype": "text/x-python",
   "name": "python",
   "nbconvert_exporter": "python",
   "pygments_lexer": "ipython3",
   "version": "3.7.3"
  }
 },
 "nbformat": 4,
 "nbformat_minor": 4
}
