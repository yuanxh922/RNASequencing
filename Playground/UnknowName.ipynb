{
 "cells": [
  {
   "cell_type": "code",
   "execution_count": null,
   "metadata": {},
   "outputs": [],
   "source": [
    "import pandas as pd\n",
    "import matplotlib.pyplot as plt"
   ]
  },
  {
   "cell_type": "code",
   "execution_count": null,
   "metadata": {},
   "outputs": [],
   "source": [
    "%run ../modules/utils.ipynb\n",
    "%run ../modules/cds.ipynb\n",
    "%run ../modules/preprocessing.ipynb"
   ]
  },
  {
   "cell_type": "code",
   "execution_count": null,
   "metadata": {},
   "outputs": [],
   "source": [
    "df1 = pd.read_excel('/Users/bryan/Downloads/mix10_synthetic/mix10_synthetic_1.xlsx')\n",
    "df2 = pd.read_excel('/Users/bryan/Downloads/mix10_synthetic/mix10_synthetic_1_3p_zone.xlsx')\n",
    "df3 = pd.read_excel('/Users/bryan/Downloads/mix10_synthetic/mix10_synthetic_1_5p_zone.xlsx')"
   ]
  },
  {
   "cell_type": "code",
   "execution_count": null,
   "metadata": {},
   "outputs": [],
   "source": [
    "plt.figure(figsize=(16, 12))\n",
    "plt.scatter(df1.Mass, df1.RT)\n",
    "plt.scatter(df2.Mass, df2.RT)\n",
    "# plt.scatter(df3.Mass, df3.RT)"
   ]
  },
  {
   "cell_type": "code",
   "execution_count": null,
   "metadata": {},
   "outputs": [],
   "source": [
    "df_mix5 = pd.read_excel('/Users/bryan/Documents/SeqDataSets/5mix.xlsx')\n",
    "df_mix5.shape"
   ]
  },
  {
   "cell_type": "code",
   "execution_count": null,
   "metadata": {},
   "outputs": [],
   "source": [
    "df_part = df_mix5[(df_mix5.RT < 11) & (df_mix5.Mass < 8000)]"
   ]
  },
  {
   "cell_type": "code",
   "execution_count": null,
   "metadata": {},
   "outputs": [],
   "source": [
    "plot_zone(df_part)"
   ]
  },
  {
   "cell_type": "code",
   "execution_count": null,
   "metadata": {},
   "outputs": [],
   "source": [
    "import matplotlib.pyplot as plt\n",
    "import matplotlib.colors as colors\n",
    "import numpy as np\n",
    "fig = plt.figure(figsize=(9, 4))\n",
    "plt.xlabel('Mass (Da)')\n",
    "plt.ylabel('Retention Time (min)')\n",
    "sc = plt.scatter(df_part.Mass, df_part.RT, c=df_part.Vol, alpha=0.4, cmap=plt.cm.cool, norm=colors.LogNorm(vmax=np.max(df_part.Vol), clip=True), zorder=1)\n",
    "plt.colorbar(sc)\n",
    "fig.tight_layout()\n",
    "plt.savefig('/Users/bryan/Downloads/tmp.png', transparent=True, dpi=300)"
   ]
  },
  {
   "cell_type": "code",
   "execution_count": null,
   "metadata": {},
   "outputs": [],
   "source": [
    "df_core = pd.read_csv('/Users/bryan/Studio/seq_bank/mix5.csv')\n",
    "df_core.shape"
   ]
  },
  {
   "cell_type": "code",
   "execution_count": null,
   "metadata": {},
   "outputs": [],
   "source": [
    "plot_zones(df_part, df_core)"
   ]
  },
  {
   "cell_type": "code",
   "execution_count": null,
   "metadata": {},
   "outputs": [],
   "source": [
    "fig = plt.figure(figsize=(9, 4))\n",
    "plt.xlabel('Mass (Da)')\n",
    "plt.ylabel('Retention Time (min)')\n",
    "sc = plt.scatter(df_part.Mass, df_part.RT)\n",
    "sc = plt.scatter(df_core.Mass, df_core.RT, color='g')\n",
    "fig.tight_layout()\n",
    "plt.savefig('/Users/bryan/Downloads/noises.png', transparent=True, dpi=300)"
   ]
  },
  {
   "cell_type": "code",
   "execution_count": null,
   "metadata": {},
   "outputs": [],
   "source": [
    "df = pd.read_excel('/Users/xyuan/MLC-Seq-main/samples/Glu/tRNA_Glu_Deg_1.xlsx')\n",
    "df.shape"
   ]
  },
  {
   "cell_type": "code",
   "execution_count": null,
   "metadata": {},
   "outputs": [],
   "source": [
    "df = thermo_df(df)"
   ]
  },
  {
   "cell_type": "code",
   "execution_count": null,
   "metadata": {},
   "outputs": [],
   "source": [
    "plotly_zone(df, y='RT')"
   ]
  },
  {
   "cell_type": "code",
   "execution_count": null,
   "metadata": {},
   "outputs": [],
   "source": [
    "df_24k = df[df.Mass>24000]"
   ]
  },
  {
   "cell_type": "code",
   "execution_count": null,
   "metadata": {},
   "outputs": [],
   "source": [
    "df_24k = df_24k.sort_values('Vol', ascending=False)\n",
    "fullmass = df_24k.iloc[0].Mass"
   ]
  },
  {
   "cell_type": "code",
   "execution_count": null,
   "metadata": {},
   "outputs": [],
   "source": [
    "cds = computational_data_seperation(df, df, full_mass=fullmass)\n",
    "plotly_zone(cds[0])"
   ]
  },
  {
   "cell_type": "code",
   "execution_count": null,
   "metadata": {},
   "outputs": [],
   "source": [
    "df[(df.Mass>403)&(df.Mass<405)]"
   ]
  },
  {
   "cell_type": "code",
   "execution_count": null,
   "metadata": {},
   "outputs": [],
   "source": []
  }
 ],
 "metadata": {
  "kernelspec": {
   "display_name": "Python 3",
   "language": "python",
   "name": "python3"
  },
  "language_info": {
   "codemirror_mode": {
    "name": "ipython",
    "version": 3
   },
   "file_extension": ".py",
   "mimetype": "text/x-python",
   "name": "python",
   "nbconvert_exporter": "python",
   "pygments_lexer": "ipython3",
   "version": "3.7.3"
  }
 },
 "nbformat": 4,
 "nbformat_minor": 4
}
