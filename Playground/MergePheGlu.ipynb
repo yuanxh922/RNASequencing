{
 "cells": [
  {
   "cell_type": "code",
   "execution_count": null,
   "id": "personalized-affiliate",
   "metadata": {},
   "outputs": [],
   "source": [
    "import pandas as pd\n",
    "import matplotlib\n",
    "import plotly.express as px\n",
    "import matplotlib.pyplot as plt"
   ]
  },
  {
   "cell_type": "code",
   "execution_count": null,
   "id": "traditional-stock",
   "metadata": {},
   "outputs": [],
   "source": []
  },
  {
   "cell_type": "code",
   "execution_count": null,
   "id": "assumed-tutorial",
   "metadata": {},
   "outputs": [],
   "source": [
    "%run ../modules/utils.ipynb\n",
    "%run ../modules/cds.ipynb\n",
    "%run ../modules/preprocessing.ipynb"
   ]
  },
  {
   "cell_type": "code",
   "execution_count": null,
   "id": "extended-bangkok",
   "metadata": {},
   "outputs": [],
   "source": [
    "### Glu\n",
    "path1 = '/Users/bryan/Documents/Data/UC'\n",
    "path2 = '/Users/bryan/Documents/ChenLab/10Jun2021/'\n",
    "\n",
    "df_glu0_ctrl = pd.read_excel('{}/{}.xlsx'.format(path1, 'UC_Glu_1'))\n",
    "# df_glu0_ctrl = load_uc_glu(1)\n",
    "df_glu0_ctrl_alkb = pd.read_excel('{}/{}.xlsx'.format(path1, 'UC_Glu_2'))\n",
    "# df_glu0_ctrl_alkb = load_uc_glu(2)\n",
    "# plotly_zone(df_glu0_ctrl)\n",
    "\n",
    "df_glu1_ctrl = pd.read_excel('{}/{}/{}.xlsx'.format(path2, 'intact', '5_A_Glu'))\n",
    "# df_glu1_ctrl = load_uc2(5, intact=True)\n",
    "df_glu1_ctrl_alkb = pd.read_excel('{}/{}/{}.xlsx'.format(path2, 'intact', '6_A_Glu_A'))\n",
    "# df_glu1_ctrl_alkb = load_uc2(6, intact=True)\n",
    "# plotly_zone(df_glu1_ctrl)\n",
    "\n",
    "df_glu0 = pd.read_excel('/Users/bryan/Documents/Data/UC/UC_glu_5_rosa.xlsx')\n",
    "\n",
    "df_glu1 = pd.read_excel('{}/{}/{}.xlsx'.format(path2, 'degraded', '17_Glu'))\n",
    "# df_glu1 = load_uc2(17)\n",
    "\n",
    "df_glu2 = pd.read_excel('{}/{}/{}.xlsx'.format(path2, 'degraded', 'DrChen_tRNA_A_Glu_FA_17'))\n",
    "# df_glu2 = pd.read_excel('/Users/bryan/Documents/ChenLab/10Jun2021/degraded/DrChen_tRNA_A_Glu_FA_17.xlsx')\n",
    "\n",
    "df_glu0_ctrl = thermo_df(df_glu0_ctrl)\n",
    "df_glu0_ctrl_alkb = thermo_df(df_glu0_ctrl_alkb)\n",
    "df_glu1_ctrl = thermo_df(df_glu1_ctrl)\n",
    "\n",
    "df_glu0 = thermo_df(df_glu0)\n",
    "df_glu1 = thermo_df(df_glu1)\n",
    "df_glu2 = thermo_df(df_glu2)"
   ]
  },
  {
   "cell_type": "code",
   "execution_count": null,
   "id": "characteristic-retail",
   "metadata": {},
   "outputs": [],
   "source": [
    "df_phe_ctrl = pd.read_excel('/Users/bryan/Documents/BioPharmaFinder/ZhangLab/oligossample1.xlsx')\n",
    "df_phe_ctrl = thermo_df(df_phe_ctrl)\n",
    "df_phe = pd.read_excel('/Users/bryan/Documents/BioPharmaFinder/ZhangLab/Data/Excels/tRNA_Phe_0724.xlsx')\n",
    "df_phe = thermo_df(df_phe)"
   ]
  },
  {
   "cell_type": "code",
   "execution_count": null,
   "id": "lonely-acrylic",
   "metadata": {},
   "outputs": [],
   "source": [
    "df_glu = df_glu0.copy()"
   ]
  },
  {
   "cell_type": "code",
   "execution_count": null,
   "id": "confused-trademark",
   "metadata": {},
   "outputs": [],
   "source": [
    "df_phe_24k = df_phe[df_phe.Mass>23000]\n",
    "df_glu_24k = df_glu[df_glu.Mass>23000]"
   ]
  },
  {
   "cell_type": "code",
   "execution_count": null,
   "id": "municipal-quantum",
   "metadata": {},
   "outputs": [],
   "source": [
    "plotly_zone(df_phe_24k, y='Vol')\n",
    "plotly_zone(df_glu_24k, y='Vol')"
   ]
  },
  {
   "cell_type": "code",
   "execution_count": null,
   "id": "encouraging-disease",
   "metadata": {},
   "outputs": [],
   "source": [
    "max_vol_phe = df_phe_24k.Vol.max()\n",
    "max_vol_glu = df_glu_24k.Vol.max()\n",
    "ratio = max_vol_glu/max_vol_phe\n",
    "df_tmp_phe = df_phe.copy()\n",
    "df_tmp_phe.Vol *= ratio\n",
    "df_merge = pd.concat([df_glu, df_phe]).reset_index()"
   ]
  },
  {
   "cell_type": "code",
   "execution_count": null,
   "id": "contemporary-costume",
   "metadata": {},
   "outputs": [],
   "source": [
    "plotly_zone(df_merge, y='RT')\n",
    "plotly_zone(df_merge[df_merge.Mass>1500], y='Vol')"
   ]
  },
  {
   "cell_type": "code",
   "execution_count": null,
   "id": "twelve-amount",
   "metadata": {},
   "outputs": [],
   "source": [
    "idxs = list()\n",
    "# create our callback function\n",
    "def on_selection(trace, points, selector):\n",
    "    print('points {}'.format(points.point_inds) )\n",
    "    idxs.extend(points.point_inds)\n",
    "\n",
    "def on_click(trace, points, selector):\n",
    "#     print('points {}'.format(points.point_inds) )\n",
    "    idxs.extend(points.point_inds)\n",
    "\n",
    "df_sample = df_merge\n",
    "f = zone_selection(df_sample, on_selection=on_selection, on_click=on_click)\n",
    "f"
   ]
  },
  {
   "cell_type": "code",
   "execution_count": null,
   "id": "rotary-logistics",
   "metadata": {},
   "outputs": [],
   "source": [
    "df_chosen = df_sample.iloc[idxs]\n",
    "df_chosen.shape"
   ]
  },
  {
   "cell_type": "code",
   "execution_count": null,
   "id": "induced-heath",
   "metadata": {},
   "outputs": [],
   "source": [
    "df_merge_chosen = df_chosen.copy()"
   ]
  },
  {
   "cell_type": "code",
   "execution_count": null,
   "id": "detected-words",
   "metadata": {},
   "outputs": [],
   "source": [
    "df_merge_chosen_top = df_merge_chosen.sort_values('Vol', ascending=False).iloc[:2000]\n",
    "plotly_zone(df_merge_chosen_top)"
   ]
  },
  {
   "cell_type": "code",
   "execution_count": null,
   "id": "fleet-mailman",
   "metadata": {},
   "outputs": [],
   "source": [
    "isoform_dot = df_phe_24k.sort_values('Vol', ascending=False).iloc[:5]\n",
    "fullmass = isoform_dot.iloc[0].Mass\n",
    "fullmass_581 = isoform_dot.iloc[1].Mass"
   ]
  },
  {
   "cell_type": "code",
   "execution_count": null,
   "id": "young-conclusion",
   "metadata": {},
   "outputs": [],
   "source": [
    "isoform_dot"
   ]
  },
  {
   "cell_type": "code",
   "execution_count": null,
   "id": "sporting-robert",
   "metadata": {},
   "outputs": [],
   "source": [
    "df_5p3p, _ = computational_data_seperation(df_merge_chosen, df_merge_chosen, fullmass)\n",
    "plotly_zone(df_5p3p)\n"
   ]
  },
  {
   "cell_type": "code",
   "execution_count": null,
   "id": "accessory-contest",
   "metadata": {},
   "outputs": [],
   "source": []
  },
  {
   "cell_type": "code",
   "execution_count": null,
   "id": "martial-knife",
   "metadata": {},
   "outputs": [],
   "source": [
    "\n",
    "df_5p3p_top = df_5p3p.sort_values('Vol', ascending=False).iloc[:df_5p3p.shape[0]//3]\n",
    "plotly_zone(df_5p3p_top)"
   ]
  },
  {
   "cell_type": "code",
   "execution_count": null,
   "id": "owned-senate",
   "metadata": {},
   "outputs": [],
   "source": [
    "fullmass - 19141.66 + H2O, fullmass - 18998.66 + H2O"
   ]
  },
  {
   "cell_type": "code",
   "execution_count": null,
   "id": "ranking-carbon",
   "metadata": {},
   "outputs": [],
   "source": []
  },
  {
   "cell_type": "code",
   "execution_count": null,
   "id": "adequate-clarity",
   "metadata": {},
   "outputs": [],
   "source": [
    "idxs = list()\n",
    "# create our callback function\n",
    "def on_selection(trace, points, selector):\n",
    "    print('points {}'.format(points.point_inds) )\n",
    "    idxs.extend(points.point_inds)\n",
    "\n",
    "def on_click(trace, points, selector):\n",
    "#     print('points {}'.format(points.point_inds) )\n",
    "    idxs.extend(points.point_inds)\n",
    "\n",
    "df_sample = df_5p3p_top\n",
    "f = zone_selection(df_sample, on_selection=on_selection, on_click=on_click)\n",
    "f"
   ]
  },
  {
   "cell_type": "code",
   "execution_count": null,
   "id": "touched-character",
   "metadata": {},
   "outputs": [],
   "source": [
    "df_chosen = df_sample.iloc[idxs]\n",
    "df_chosen.shape"
   ]
  },
  {
   "cell_type": "code",
   "execution_count": null,
   "id": "chicken-nicaragua",
   "metadata": {},
   "outputs": [],
   "source": [
    "df_5p_skeleton = df_chosen.copy()\n",
    "plotly_zone(df_5p_skeleton)"
   ]
  },
  {
   "cell_type": "code",
   "execution_count": null,
   "id": "frozen-business",
   "metadata": {},
   "outputs": [],
   "source": [
    "df_gap_dots = find_gap_dots(df_merge_chosen, df_5p_skeleton, isoform_dot)"
   ]
  },
  {
   "cell_type": "code",
   "execution_count": null,
   "id": "centered-runner",
   "metadata": {},
   "outputs": [],
   "source": [
    "plotly_zones(df_5p_skeleton, df_gap_dots)"
   ]
  },
  {
   "cell_type": "code",
   "execution_count": null,
   "id": "suspended-supply",
   "metadata": {},
   "outputs": [],
   "source": [
    "\n",
    "df_3p_skeleton = df_chosen.copy()\n",
    "plotly_zone(df_3p_skeleton)"
   ]
  },
  {
   "cell_type": "code",
   "execution_count": null,
   "id": "patient-wrong",
   "metadata": {},
   "outputs": [],
   "source": [
    "# refine df_3p_skeleton\n",
    "df_3p_skeleton.drop(df_3p_skeleton[(df_3p_skeleton.Mass>15159)&(df_3p_skeleton.Mass<15465)].index, \n",
    "                    inplace=True)\n",
    "plotly_zone(df_3p_skeleton)"
   ]
  },
  {
   "cell_type": "code",
   "execution_count": null,
   "id": "previous-surface",
   "metadata": {},
   "outputs": [],
   "source": [
    "\n",
    "df_gap_dots_3p = find_gap_dots(df_merge_chosen, df_3p_skeleton, isoform_dot, orientation=3)\n",
    "# df_gap_dots.shape[0]"
   ]
  },
  {
   "cell_type": "code",
   "execution_count": null,
   "id": "black-barrel",
   "metadata": {},
   "outputs": [],
   "source": [
    "plotly_zones(df_3p_skeleton, df_gap_dots_3p)"
   ]
  },
  {
   "cell_type": "code",
   "execution_count": null,
   "id": "literary-sheriff",
   "metadata": {},
   "outputs": [],
   "source": [
    "df_5p_fragments = pd.concat([df_5p_skeleton, df_gap_dots]).reset_index()\n",
    "bcr = base_calling_random(df_5p_fragments)\n",
    "plotly_basecalling(*bcr)"
   ]
  },
  {
   "cell_type": "code",
   "execution_count": null,
   "id": "original-berlin",
   "metadata": {},
   "outputs": [],
   "source": [
    "df_3p_fragments = pd.concat([df_3p_skeleton, df_gap_dots_3p]).reset_index()\n",
    "bcr = base_calling_random(df_3p_fragments)\n",
    "plotly_basecalling(*bcr)"
   ]
  },
  {
   "cell_type": "code",
   "execution_count": null,
   "id": "numeric-mounting",
   "metadata": {},
   "outputs": [],
   "source": []
  },
  {
   "cell_type": "markdown",
   "id": "resistant-portfolio",
   "metadata": {},
   "source": [
    "## 24581"
   ]
  },
  {
   "cell_type": "code",
   "execution_count": null,
   "id": "falling-formation",
   "metadata": {},
   "outputs": [],
   "source": [
    "df_5p3p_581, _ = computational_data_seperation(df_merge_chosen, df_merge_chosen, fullmass_581)\n",
    "plotly_zone(df_5p3p_581)\n"
   ]
  },
  {
   "cell_type": "code",
   "execution_count": null,
   "id": "neutral-context",
   "metadata": {},
   "outputs": [],
   "source": [
    "df_5p3p_581_top = df_5p3p_581.sort_values('Vol', ascending=False).iloc[:df_5p3p_581.shape[0]//3]\n",
    "plotly_zone(df_5p3p_581_top)"
   ]
  },
  {
   "cell_type": "code",
   "execution_count": null,
   "id": "freelance-ivory",
   "metadata": {},
   "outputs": [],
   "source": [
    "idxs = list()\n",
    "# create our callback function\n",
    "def on_selection(trace, points, selector):\n",
    "    print('points {}'.format(points.point_inds) )\n",
    "    idxs.extend(points.point_inds)\n",
    "\n",
    "def on_click(trace, points, selector):\n",
    "#     print('points {}'.format(points.point_inds) )\n",
    "    idxs.extend(points.point_inds)\n",
    "\n",
    "df_sample = df_5p3p_581_top\n",
    "f = zone_selection(df_sample, on_selection=on_selection, on_click=on_click)\n",
    "f"
   ]
  },
  {
   "cell_type": "code",
   "execution_count": null,
   "id": "passive-failing",
   "metadata": {},
   "outputs": [],
   "source": [
    "df_chosen = df_sample.iloc[idxs]\n",
    "df_chosen.shape"
   ]
  },
  {
   "cell_type": "code",
   "execution_count": null,
   "id": "judicial-export",
   "metadata": {},
   "outputs": [],
   "source": [
    "df_581_5p_skeleton = df_chosen.copy()"
   ]
  },
  {
   "cell_type": "code",
   "execution_count": null,
   "id": "bearing-artist",
   "metadata": {},
   "outputs": [],
   "source": [
    "df_581_3p_skeleton = df_chosen.copy()"
   ]
  },
  {
   "cell_type": "code",
   "execution_count": null,
   "id": "golden-tribute",
   "metadata": {},
   "outputs": [],
   "source": [
    "df_gap_dots_5p_581 = find_gap_dots(df_merge_chosen, df_581_5p_skeleton, isoform_dot.iloc[1:2])"
   ]
  },
  {
   "cell_type": "code",
   "execution_count": null,
   "id": "political-rings",
   "metadata": {},
   "outputs": [],
   "source": [
    "plotly_zones(df_581_5p_skeleton, df_gap_dots_5p_581)"
   ]
  },
  {
   "cell_type": "code",
   "execution_count": null,
   "id": "foreign-links",
   "metadata": {},
   "outputs": [],
   "source": [
    "df_gap_dots_3p_581 = find_gap_dots(df_merge_chosen, df_581_3p_skeleton, isoform_dot.iloc[1:2], orientation=3)\n"
   ]
  },
  {
   "cell_type": "code",
   "execution_count": null,
   "id": "retired-function",
   "metadata": {},
   "outputs": [],
   "source": [
    "plotly_zones(df_581_3p_skeleton, df_gap_dots_3p_581)"
   ]
  },
  {
   "cell_type": "code",
   "execution_count": null,
   "id": "martial-characterization",
   "metadata": {},
   "outputs": [],
   "source": []
  },
  {
   "cell_type": "code",
   "execution_count": null,
   "id": "clean-hybrid",
   "metadata": {},
   "outputs": [],
   "source": [
    "def cds_pairs(df3p, df5p, full_mass, threshold=1E6, error=0.1):\n",
    "    df3p_mass_np = np.array(df3p['Mass'])\n",
    "    df5p_mass_np = np.array(df5p['Mass'])\n",
    "    mass_sum_np = df3p_mass_np[:, np.newaxis] + df5p_mass_np\n",
    "    mass_sum_1 = np.round(mass_sum_np, 1)\n",
    "    mass_sum_df = pd.DataFrame(mass_sum_np)\n",
    "    mass_sum_df1 = pd.DataFrame(mass_sum_1)\n",
    "\n",
    "    sum_value = round(full_mass + 18.0106, 1)\n",
    "    print('full_mass {} sum_value {}'.format(full_mass, sum_value))\n",
    "\n",
    "    tmp = mass_sum_df1[(mass_sum_df1 >= sum_value-error) & (mass_sum_df1 <= sum_value+error)]\n",
    "    final_idx_pairs = list(tmp[tmp.notnull()].stack().index)\n",
    "    \n",
    "    vol_sums = list()\n",
    "    df3_idxs, df5_idxs = list(), list()\n",
    "    for idx_pair in final_idx_pairs:\n",
    "        df3_idx = idx_pair[0]\n",
    "        df5_idx = idx_pair[1]\n",
    "        df3p_selected = df3p.iloc[df3_idx]\n",
    "        df5p_selected = df5p.iloc[df5_idx]\n",
    "        vol_sum = df3p_selected.Vol + df5p_selected.Vol\n",
    "        if vol_sum < threshold:\n",
    "            continue\n",
    "        vol_sums.append(vol_sum)\n",
    "        df3_idxs.append(df3_idx)\n",
    "        df5_idxs.append(df5_idx)\n",
    "        \n",
    "#     df3_idxs = list(set(df3_idxs))\n",
    "#     df5_idxs = list(set(df5_idxs))\n",
    "#     print(\"df3 {} df5 {}\".format(len(df3_idxs), len(df5_idxs)))\n",
    "\n",
    "    df3p_selected = df3p.iloc[df3_idxs]\n",
    "    df5p_selected = df5p.iloc[df5_idxs]\n",
    "    \n",
    "    return vol_sums, df3p_selected, df5p_selected"
   ]
  },
  {
   "cell_type": "code",
   "execution_count": null,
   "id": "computational-upset",
   "metadata": {},
   "outputs": [],
   "source": []
  }
 ],
 "metadata": {
  "kernelspec": {
   "display_name": "Python 3",
   "language": "python",
   "name": "python3"
  },
  "language_info": {
   "codemirror_mode": {
    "name": "ipython",
    "version": 3
   },
   "file_extension": ".py",
   "mimetype": "text/x-python",
   "name": "python",
   "nbconvert_exporter": "python",
   "pygments_lexer": "ipython3",
   "version": "3.7.3"
  }
 },
 "nbformat": 4,
 "nbformat_minor": 5
}
