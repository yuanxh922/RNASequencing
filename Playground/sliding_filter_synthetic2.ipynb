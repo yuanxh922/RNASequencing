{
 "cells": [
  {
   "cell_type": "code",
   "execution_count": null,
   "metadata": {},
   "outputs": [],
   "source": [
    "import pandas as pd\n",
    "import numpy as np\n",
    "import matplotlib\n",
    "import plotly.express as px\n",
    "import matplotlib.pyplot as plt\n",
    "from collections import namedtuple\n",
    "import matplotlib.patches as patches\n",
    "import networkx as nx"
   ]
  },
  {
   "cell_type": "code",
   "execution_count": null,
   "metadata": {},
   "outputs": [],
   "source": [
    "%run ../modules/utils.ipynb\n",
    "%run ../modules/cds.ipynb\n",
    "%run ../modules/preprocessing.ipynb"
   ]
  },
  {
   "cell_type": "code",
   "execution_count": null,
   "metadata": {},
   "outputs": [],
   "source": [
    "# df = pd.read_csv('/Users/bryan/Documents/SeqDataSets/Ning1024/12mixtures/19-Table 1.csv')\n",
    "# df = pd.read_csv('/Users/bryan/Documents/SeqDataSets/Ning1024/12mixtures/30-Table 1.csv')\n",
    "# df = pd.read_csv('/Users/bryan/Studio/lcmsseq/examples/compounds.csv', skiprows=2)\n",
    "df = pd.read_excel('/Users/bryan/Documents/SeqDataSets/5mix.xlsx')\n",
    "# df = pd.read_excel('/Users/bryan/Documents/SeqDataSets/Ning1024/2mix_180521s14_100.xls')\n",
    "# df = pd.read_csv('/Users/bryan/Documents/SeqDataSets/Ning1024/12mixtures/12mix.csv')\n",
    "# df = pd.read_excel('/Users/bryan/Documents/BioPharmaFinder/ZhangLab/Data/Excels/tRNA_Phe_0724_std.xlsx')\n",
    "# df = pd.read_excel('/Users/bryan/Documents/BioPharmaFinder/ZhangLab/oligosdegradsample2-1.xlsx')\n",
    "# df = pd.read_excel('/Users/bryan/Documents/BioPharmaFinder/ZhangLab/Data/Excels/total_tRNA_acid_degradated_20to40_component_only.xlsx')\n",
    "# df = pd.read_excel('/Users/bryan/Documents/BioPharmaFinder/ZhangLab/Data/Excels/total_tRNA_acid_deg.xlsx')\n",
    "# df = thermo_df(df)\n",
    "# df = df[df.Mass < 20000]\n",
    "# df = pd.read_excel('/Users/bryan/Documents/SeqDataSets/PaperData/ACS/032919s07.xls')\n",
    "# df = pd.read_excel('/Users/bryan/Documents/SeqDataSets/PaperData/ACS/111418s05.xls')\n",
    "# df = pd.read_excel('/Users/bryan/Documents/SeqDataSets/PaperData/ACS/100918s06.xls')\n",
    "df.shape\n",
    "plot_zone(df)"
   ]
  },
  {
   "cell_type": "code",
   "execution_count": null,
   "metadata": {},
   "outputs": [],
   "source": [
    "df_sample = df[(df.Mass < 8000) & (df.RT < 11)]\n",
    "plot_zone(df_sample)"
   ]
  },
  {
   "cell_type": "code",
   "execution_count": null,
   "metadata": {},
   "outputs": [],
   "source": [
    "idxs = list()\n",
    "# create our callback function\n",
    "def on_selection(trace, points, selector):\n",
    "    print('points {}'.format(points.point_inds) )\n",
    "    idxs.extend(points.point_inds)\n",
    "\n",
    "def on_click(trace, points, selector):\n",
    "#     print('points {}'.format(points.point_inds) )\n",
    "    idxs.extend(points.point_inds)\n",
    "\n",
    "f = zone_selection(df_sample, on_selection=on_selection, on_click=on_click)\n",
    "f"
   ]
  },
  {
   "cell_type": "code",
   "execution_count": null,
   "metadata": {},
   "outputs": [],
   "source": [
    "df_chosen = df_sample.iloc[idxs]\n",
    "df_chosen.shape"
   ]
  },
  {
   "cell_type": "code",
   "execution_count": null,
   "metadata": {},
   "outputs": [],
   "source": [
    "# df_hi = df_chosen\n",
    "df_lo = df_chosen"
   ]
  },
  {
   "cell_type": "code",
   "execution_count": null,
   "metadata": {},
   "outputs": [],
   "source": [
    "x = df_hi.Mass\n",
    "y = df_hi.RT\n",
    "z = np.polyfit(x, y, 4)\n",
    "def f_hi2(x):\n",
    "    return z[0] * x**4 + z[1]*x**3 + z[2]*x**2 + z[3]*x + z[4] + 0.1\n",
    "y = f_hi2(x)\n",
    "plt.figure(figsize=(16, 12))\n",
    "plt.scatter(df_sample.Mass, df_sample.RT)\n",
    "plt.plot(x, y, \"r-\")\n",
    "\n",
    "plt.scatter(x, y)\n",
    "plt.show()"
   ]
  },
  {
   "cell_type": "code",
   "execution_count": null,
   "metadata": {},
   "outputs": [],
   "source": [
    "x = df_lo.Mass\n",
    "y = df_lo.RT\n",
    "z_lo = np.polyfit(x, y, 4)\n",
    "def f_lo2(x):\n",
    "    return z_lo[0] * x**4 + z_lo[1]*x**3 + z_lo[2]*x**2 + z_lo[3]*x + z_lo[4] - 0.1\n",
    "#     return z_lo[0] * x**3 + z_lo[1]*x**2 + z_lo[2]*x + z_lo[3]\n",
    "y = f_lo2(x)\n",
    "plt.figure(figsize=(16, 12))\n",
    "plt.plot(x, y, \"r-\")\n",
    "plt.scatter(df_sample.Mass, df_sample.RT)\n",
    "plt.scatter(x, y)\n",
    "plt.show()"
   ]
  },
  {
   "cell_type": "code",
   "execution_count": null,
   "metadata": {},
   "outputs": [],
   "source": [
    "_, ax = plt.subplots(figsize=(16, 12))\n",
    "ax.scatter(df_sample.Mass, df_sample.RT)\n",
    "\n",
    "ax.scatter(df_hi.Mass, df_hi.RT, c='blue')\n",
    "ax.plot(df_hi.Mass, f_hi2(df_hi.Mass), c='blue')\n",
    "\n",
    "ax.scatter(df_lo.Mass, df_lo.RT, c='green')\n",
    "ax.plot(df_lo.Mass, f_lo2(df_lo.Mass), c='green')"
   ]
  },
  {
   "cell_type": "code",
   "execution_count": null,
   "metadata": {},
   "outputs": [],
   "source": []
  },
  {
   "cell_type": "code",
   "execution_count": null,
   "metadata": {},
   "outputs": [],
   "source": []
  },
  {
   "cell_type": "code",
   "execution_count": null,
   "metadata": {},
   "outputs": [],
   "source": [
    "sample_rt_min = df_sample.RT.min()\n",
    "sample_rt_max = df_sample.RT.max()"
   ]
  },
  {
   "cell_type": "code",
   "execution_count": null,
   "metadata": {},
   "outputs": [],
   "source": [
    "filter_min = 0.5\n",
    "filter_nums = 5\n",
    "\n",
    "def bin_range2(df, left, right, f_hi, f_lo, bin_num):\n",
    "    rt = df.RT\n",
    "    if rt.empty:\n",
    "        return 0.0, 0.0\n",
    "#     rt_min = rt.min()\n",
    "#     rt_max = rt.max()\n",
    "    rt_min = f_lo(left)\n",
    "    rt_min = sample_rt_min if rt_min < sample_rt_min else rt_min\n",
    "    rt_max = f_hi(right)\n",
    "    rt_max = sample_rt_max if rt_max > sample_rt_max else rt_max\n",
    "    rt_height = rt_max - rt_min\n",
    "#     print(rt_min, rt_max, rt_height)\n",
    "    \n",
    "    bin_size = rt_height / filter_nums\n",
    "    bin_size = filter_min if bin_size < filter_min else bin_size\n",
    "    \n",
    "    rt_hi = rt_max - bin_size * (bin_num - 1)\n",
    "    rt_lo = rt_hi - bin_size\n",
    "#     print(type(rt_lo), type(bin_size))\n",
    "    if np.less(rt_lo, rt_min):\n",
    "        print('Reach the last bin.')\n",
    "        rt_lo = rt_min\n",
    "        rt_hi = rt_lo + bin_size\n",
    "    print('df_win count {} winRT {}-{} filterRT lo-hi {}-{}'.format(df.shape[0], rt_min, rt_max, rt_lo, rt_hi))\n",
    "    return rt_lo, rt_hi"
   ]
  },
  {
   "cell_type": "code",
   "execution_count": null,
   "metadata": {},
   "outputs": [],
   "source": [
    "def create_rectangle(left, right, lo, hi):\n",
    "    rect = patches.Rectangle((left, lo), right-left, hi-lo)\n",
    "    return rect"
   ]
  },
  {
   "cell_type": "code",
   "execution_count": null,
   "metadata": {},
   "outputs": [],
   "source": [
    "cursor = 0\n",
    "mass_win_size = 10\n",
    "bin_num = 3\n",
    "last_rt_lo = 0.0\n",
    "\n",
    "# plt.figure(figsize=(16, 9))\n",
    "fig, ax = plt.subplots(1, figsize=(16, 9))\n",
    "ax.scatter(df.Mass, df.RT)\n",
    "filters = list()\n",
    "while cursor < df_sample.Mass.max():\n",
    "    # do sth\n",
    "#     print('processing win {}-{}'.format(cursor, cursor+mass_win_size))\n",
    "    df_win = df[(df.Mass >= cursor) & (df.Mass < cursor + mass_win_size)]\n",
    "    rt_lo, rt_hi = bin_range2(df_win, cursor, cursor+mass_win_size, f_hi2, f_lo2, bin_num)\n",
    "    if rt_lo < last_rt_lo:\n",
    "        rt_lo = last_rt_lo\n",
    "        if rt_lo >= rt_hi:\n",
    "            cursor += mass_win_size\n",
    "            continue\n",
    "            \n",
    "    if np.isclose(rt_lo, 0.0) or np.isclose(rt_hi, 0.0):\n",
    "        cursor += mass_win_size\n",
    "        continue\n",
    "    \n",
    "    rect = create_rectangle(cursor, cursor+mass_win_size, rt_lo, rt_hi)\n",
    "    ax.add_patch(rect)\n",
    "    \n",
    "    last_rt_lo = rt_lo\n",
    "    df_filter = df_win[(df_win.RT>=rt_lo) & (df_win.RT<=rt_hi)]\n",
    "#     print(cursor, df_filter.shape)\n",
    "    filters.append(df_filter)\n",
    "    cursor += mass_win_size\n",
    "\n",
    "plt.show()"
   ]
  },
  {
   "cell_type": "code",
   "execution_count": null,
   "metadata": {},
   "outputs": [],
   "source": [
    "df_filters = pd.concat(filters)\n",
    "plt = plot_zones(df_sample, df_filters)\n",
    "plt.plot(df_hi.Mass, f_hi2(df_hi.Mass))\n",
    "plt.plot(df_lo.Mass, f_lo2(df_lo.Mass))\n",
    "plt.savefig('/Users/bryan/Documents/Presentations/Jan 12 2021/{}/filter_{}_bin_{}_filters_{}.png'.format('mix5', filter_min, bin_num, filter_nums), transparent=True)"
   ]
  },
  {
   "cell_type": "code",
   "execution_count": null,
   "metadata": {},
   "outputs": [],
   "source": [
    "bcr_5p = base_calling_random(df_filters)\n",
    "plt, _ = plot_basecalling(*bcr_5p, annotate=False)\n",
    "plt.savefig('/Users/bryan/Documents/Presentations/Jan 12 2021/{}/filter_bc_{}_bin_{}_filters_{}.png'.format('mix5', filter_min, bin_num, filter_nums), transparent=True)"
   ]
  },
  {
   "cell_type": "code",
   "execution_count": null,
   "metadata": {},
   "outputs": [],
   "source": [
    "G = nx.DiGraph()\n",
    "\n",
    "df_bcr = bcr_5p[0]\n",
    "mass_pairs = bcr_5p[1]\n",
    "for t in mass_pairs:\n",
    "    G.add_edge(t[1], t[0], base=t[-1])\n",
    "\n",
    "path = longest_path(G)\n",
    "seqs = [G.edges[path[i], path[i+1]]['base'] for i in range(len(path)-1)]\n",
    "print('longest sequence: ' + ''.join(seqs))\n",
    "print(path)"
   ]
  },
  {
   "cell_type": "code",
   "execution_count": null,
   "metadata": {},
   "outputs": [],
   "source": [
    "def longest_path(G):\n",
    "    dist = {} # stores [node, distance] pair\n",
    "    for node in nx.topological_sort(G):\n",
    "        # pairs of dist,node for all incoming edges\n",
    "        pairs = [(dist[v][0]+1,v) for v in G.pred[node]] \n",
    "        if pairs:\n",
    "            dist[node] = max(pairs)\n",
    "        else:\n",
    "            dist[node] = (0, node)\n",
    "    node,(length,_)  = max(dist.items(), key=lambda x:x[1])\n",
    "    path = []\n",
    "    while length > 0:\n",
    "        path.append(node)\n",
    "        length,node = dist[node]\n",
    "    return list(reversed(path))"
   ]
  },
  {
   "cell_type": "markdown",
   "metadata": {},
   "source": [
    "# Mass Sum"
   ]
  },
  {
   "cell_type": "code",
   "execution_count": null,
   "metadata": {},
   "outputs": [],
   "source": [
    "df_src = df_sample.sort_values('Vol', ascending=False)[:2000]"
   ]
  },
  {
   "cell_type": "code",
   "execution_count": null,
   "metadata": {},
   "outputs": [],
   "source": [
    "plot_zone(df_src)"
   ]
  },
  {
   "cell_type": "code",
   "execution_count": null,
   "metadata": {},
   "outputs": [],
   "source": [
    "full_mass = 6781.0694\n",
    "df_3p_cca, df_5p_cca = computational_data_seperation(df_src, df_src, full_mass, ignore_endpoints=False, tag=694.2397)"
   ]
  },
  {
   "cell_type": "code",
   "execution_count": null,
   "metadata": {},
   "outputs": [],
   "source": [
    "plt.figure(figsize=(16, 12))\n",
    "plt.scatter(df_sample.Mass, df_sample.RT)\n",
    "plt.scatter(df_3p_cca.Mass, df_3p_cca.RT)"
   ]
  },
  {
   "cell_type": "code",
   "execution_count": null,
   "metadata": {},
   "outputs": [],
   "source": [
    "idxs = list()\n",
    "# create our callback function\n",
    "def on_selection(trace, points, selector):\n",
    "    print('points {}'.format(points.point_inds) )\n",
    "    idxs.extend(points.point_inds)\n",
    "\n",
    "def on_click(trace, points, selector):\n",
    "#     print('points {}'.format(points.point_inds) )\n",
    "    idxs.extend(points.point_inds)\n",
    "\n",
    "# df_sample = df[df.Mass < 20000]\n",
    "f = zone_selection(df_sample, on_selection=on_selection, on_click=on_click)\n",
    "f"
   ]
  },
  {
   "cell_type": "code",
   "execution_count": null,
   "metadata": {},
   "outputs": [],
   "source": [
    "df_chosen = df_sample.iloc[idxs]\n",
    "df_chosen.shape"
   ]
  },
  {
   "cell_type": "code",
   "execution_count": null,
   "metadata": {},
   "outputs": [],
   "source": [
    "# df_3p = df_chosen\n",
    "df_5p = df_chosen"
   ]
  },
  {
   "cell_type": "code",
   "execution_count": null,
   "metadata": {},
   "outputs": [],
   "source": [
    "full_mass = 7088.0855 #7079.0852 #6781.0694\n",
    "df_3p_cca, df_5p_cca = computational_data_seperation(df_3p, df_5p, full_mass, ignore_endpoints=True, tag=694.2397)"
   ]
  },
  {
   "cell_type": "code",
   "execution_count": null,
   "metadata": {},
   "outputs": [],
   "source": [
    "plt.figure(figsize=(16, 12))\n",
    "plt.scatter(df_sample.Mass, df_sample.RT)\n",
    "plt.scatter(df_3p_cca.Mass, df_3p_cca.RT)\n",
    "plt.scatter(df_5p_cca.Mass, df_5p_cca.RT)"
   ]
  },
  {
   "cell_type": "code",
   "execution_count": null,
   "metadata": {},
   "outputs": [],
   "source": []
  }
 ],
 "metadata": {
  "kernelspec": {
   "display_name": "Python 3",
   "language": "python",
   "name": "python3"
  },
  "language_info": {
   "codemirror_mode": {
    "name": "ipython",
    "version": 3
   },
   "file_extension": ".py",
   "mimetype": "text/x-python",
   "name": "python",
   "nbconvert_exporter": "python",
   "pygments_lexer": "ipython3",
   "version": "3.7.3"
  }
 },
 "nbformat": 4,
 "nbformat_minor": 4
}
