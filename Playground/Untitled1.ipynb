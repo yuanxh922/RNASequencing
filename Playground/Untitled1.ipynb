{
 "cells": [
  {
   "cell_type": "code",
   "execution_count": null,
   "id": "flying-promotion",
   "metadata": {},
   "outputs": [],
   "source": [
    "import pandas as pd"
   ]
  },
  {
   "cell_type": "code",
   "execution_count": null,
   "id": "present-supplier",
   "metadata": {},
   "outputs": [],
   "source": [
    "%run ../modules/utils.ipynb\n",
    "%run ../modules/cds.ipynb\n",
    "%run ../modules/preprocessing.ipynb"
   ]
  },
  {
   "cell_type": "code",
   "execution_count": null,
   "id": "sublime-mounting",
   "metadata": {},
   "outputs": [],
   "source": [
    "fpath = '/Users/xyuan/Downloads/Data from S2C and S4C.xlsx'\n",
    "df = pd.read_excel(fpath, sheet_name=1)\n",
    "df.shape"
   ]
  },
  {
   "cell_type": "code",
   "execution_count": null,
   "id": "individual-worship",
   "metadata": {},
   "outputs": [],
   "source": [
    "plot_zone(df)"
   ]
  },
  {
   "cell_type": "code",
   "execution_count": null,
   "id": "ready-greensboro",
   "metadata": {},
   "outputs": [],
   "source": [
    "l, h = 3000, 11000\n",
    "df_sample = df[(df.Mass>l)&(df.Mass<h)&(df.RT>4)]\n",
    "df_lt = local_top(df_sample, top=50)\n",
    "plotly_zone(df_lt)\n",
    "bcr = base_calling_random(df_lt, base_only=True)\n",
    "plotly_basecalling(*bcr)\n",
    "df_lt.shape"
   ]
  },
  {
   "cell_type": "code",
   "execution_count": null,
   "id": "fatty-sally",
   "metadata": {},
   "outputs": [],
   "source": []
  }
 ],
 "metadata": {
  "kernelspec": {
   "display_name": "Python 3",
   "language": "python",
   "name": "python3"
  },
  "language_info": {
   "codemirror_mode": {
    "name": "ipython",
    "version": 3
   },
   "file_extension": ".py",
   "mimetype": "text/x-python",
   "name": "python",
   "nbconvert_exporter": "python",
   "pygments_lexer": "ipython3",
   "version": "3.7.3"
  }
 },
 "nbformat": 4,
 "nbformat_minor": 5
}
