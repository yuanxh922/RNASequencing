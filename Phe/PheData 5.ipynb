{
 "cells": [
  {
   "cell_type": "code",
   "execution_count": null,
   "id": "organized-twelve",
   "metadata": {},
   "outputs": [],
   "source": [
    "%run data.ipynb\n",
    "%run ../modules/preprocessing.ipynb\n",
    "%run ../modules/cds.ipynb"
   ]
  },
  {
   "cell_type": "code",
   "execution_count": null,
   "id": "forced-carnival",
   "metadata": {},
   "outputs": [],
   "source": [
    "df_tyr_5p = pd.read_excel('~/Studio/tools/tyr_76_5p.xlsx')\n",
    "df_tyr_3p = pd.read_excel('~/Studio/tools/tyr_76_3p.xlsx')\n",
    "df_tyr75_3p = pd.read_excel('~/Studio/tools/tyr_75_3p.xlsx')"
   ]
  },
  {
   "cell_type": "code",
   "execution_count": null,
   "id": "other-blast",
   "metadata": {},
   "outputs": [],
   "source": [
    "df_phe_5p = pd.read_excel('~/Studio/tools/phe_76_5p.xlsx')\n",
    "df_phe_3p = pd.read_excel('~/Studio/tools/phe_76_3p.xlsx')\n",
    "df_phe_cc_5p = pd.read_excel('~/Studio/tools/phe_75_5p.xlsx')\n",
    "df_phe_cc_3p = pd.read_excel('~/Studio/tools/phe_75_3p.xlsx')"
   ]
  },
  {
   "cell_type": "code",
   "execution_count": null,
   "id": "rotary-marshall",
   "metadata": {},
   "outputs": [],
   "source": [
    "df = load_phe(True)\n",
    "df.shape"
   ]
  },
  {
   "cell_type": "code",
   "execution_count": null,
   "id": "indie-infrared",
   "metadata": {},
   "outputs": [],
   "source": [
    "df = pd.read_excel('~/Downloads/PheJuly22_2020.xlsx')\n",
    "df = thermo_df(df)\n",
    "df.shape"
   ]
  },
  {
   "cell_type": "code",
   "execution_count": null,
   "id": "exceptional-injection",
   "metadata": {},
   "outputs": [],
   "source": []
  },
  {
   "cell_type": "code",
   "execution_count": null,
   "id": "exact-cream",
   "metadata": {},
   "outputs": [],
   "source": [
    "# df_tmp = df_phe_cc_3p.copy()\n",
    "df_tmp = df_phe_3p.copy()\n",
    "# df_tmp = df_phe_cc_5p.copy()\n",
    "# df_tmp = df_phe_5p.copy()\n",
    "df_tmp.Mass += 16 #2*M\n",
    "df_match = match_dfs(df_tmp, df)\n",
    "plotly_zone(df_match)\n",
    "df_match.shape"
   ]
  },
  {
   "cell_type": "code",
   "execution_count": null,
   "id": "charming-contents",
   "metadata": {},
   "outputs": [],
   "source": []
  },
  {
   "cell_type": "code",
   "execution_count": null,
   "id": "antique-recipe",
   "metadata": {},
   "outputs": [],
   "source": []
  },
  {
   "cell_type": "code",
   "execution_count": null,
   "id": "collaborative-hardware",
   "metadata": {},
   "outputs": [],
   "source": []
  },
  {
   "cell_type": "code",
   "execution_count": null,
   "id": "cleared-community",
   "metadata": {},
   "outputs": [],
   "source": [
    "df_data = pd.read_excel('/Users/bryan/Documents/BioPharmaFinder/ZhangLab/Data/Outputs_phe/complementary_5p_cca.xlsx')\n",
    "print(df_data.shape)\n",
    "df_sample = df_data[df_data.isSkeleton==True]\n",
    "# plotly_zones(df_data, df_sample)\n",
    "\n",
    "fig = plt.figure(figsize=(10, 1))\n",
    "plt.scatter(df_sample.Mass, [1]*df_sample.shape[0])\n",
    "plt.scatter(df_data.Mass.min(), 1, color='white')\n",
    "plt.scatter(df_data.Mass.max(), 1, color='white')\n",
    "output(plt, fig, 'masssum')\n"
   ]
  },
  {
   "cell_type": "code",
   "execution_count": null,
   "id": "mediterranean-ready",
   "metadata": {},
   "outputs": [],
   "source": [
    "fpath = '/Users/bryan/Documents/BioPharmaFinder/ZhangLab/Data/Outputs_phe/complementary_3p_cca.xlsx'\n",
    "# fpath = '/Users/bryan/Documents/BioPharmaFinder/ZhangLab/Data/Outputs_a16Da/complementary_3p_cc.xlsx'\n",
    "df_data = pd.read_excel(fpath)\n",
    "df_sample = df_data[df_data.isSkeleton==False]\n",
    "df_skeleton = df_data[df_data.isSkeleton==True]\n",
    "df_comm = match_dfs(df_skeleton, df_sample)\n",
    "df_gap = df_sample.drop(df_comm.index)\n",
    "\n",
    "fig = plt.figure(figsize=(12, 2))\n",
    "plt.scatter(df_skeleton.Mass, [0.7]*df_skeleton.shape[0], color='b')\n",
    "\n",
    "plt.scatter(df_skeleton.Mass, [0.3]*df_skeleton.shape[0], color='b')\n",
    "plt.scatter(df_gap.Mass, [0.3]*df_gap.shape[0], color='r')\n",
    "\n",
    "plt.scatter(443, 0, color='white')\n",
    "plt.scatter(24581, 1, color='white')\n",
    "output(plt, fig, 'gapfill')\n",
    "\n"
   ]
  },
  {
   "cell_type": "code",
   "execution_count": null,
   "id": "applied-lyric",
   "metadata": {},
   "outputs": [],
   "source": [
    "def draw_masssum(df, plt, rt=0.3):\n",
    "    df_sample = df[df.isSkeleton==False]\n",
    "    df_skeleton = df[df.isSkeleton==True]\n",
    "    df_comm = match_dfs(df_skeleton, df_sample)\n",
    "    df_gap = df_sample.drop(df_comm.index)\n",
    "    plt.scatter(df_skeleton.Mass, [rt]*df_skeleton.shape[0], color='b')\n",
    "\n",
    "def draw_gapfill(df, plt, rt=0.3):\n",
    "    df_sample = df[df.isSkeleton==False]\n",
    "    df_skeleton = df[df.isSkeleton==True]\n",
    "    df_comm = match_dfs(df_skeleton, df_sample)\n",
    "    df_gap = df_sample.drop(df_comm.index)\n",
    "    plt.scatter(df_skeleton.Mass, [rt]*df_skeleton.shape[0], color='b')\n",
    "    plt.scatter(df_gap.Mass, [rt]*df_gap.shape[0], color='r')\n",
    "\n",
    "fpath1 = '/Users/bryan/Documents/BioPharmaFinder/ZhangLab/Data/Outputs_a16Da/complementary_5p_cca.xlsx'\n",
    "df1 = pd.read_excel(fpath1)\n",
    "fpath2 = '/Users/bryan/Documents/BioPharmaFinder/ZhangLab/Data/Outputs_a16Da/complementary_5p_cc.xlsx'\n",
    "df2 = pd.read_excel(fpath2)\n",
    "fpath3 = '/Users/bryan/Documents/BioPharmaFinder/ZhangLab/Data/Outputs_phe/complementary_5p_cca.xlsx'\n",
    "df3 = pd.read_excel(fpath3)\n",
    "fpath4 = '/Users/bryan/Documents/BioPharmaFinder/ZhangLab/Data/Outputs_phe/complementary_5p_cc.xlsx'\n",
    "df4 = pd.read_excel(fpath4)\n",
    "\n",
    "fpath5 = '/Users/bryan/Documents/BioPharmaFinder/SI/Archive_YS/phe16_76_3p.xlsx'\n",
    "df5 = pd.read_excel(fpath5)\n",
    "\n",
    "fig = plt.figure(figsize=(12, 2))\n",
    "plt.scatter(443, 0, color='white')\n",
    "plt.scatter(24581, 1, color='white')\n",
    "draw_masssum(df1, plt, rt=0.2)\n",
    "draw_masssum(df2, plt, rt=0.4)\n",
    "draw_masssum(df3, plt, rt=0.6)\n",
    "draw_masssum(df4, plt, rt=0.8)\n",
    "# output(plt, fig, 'masssum')\n",
    "\n",
    "# draw_gapfill(df1, plt, rt=0.2)\n",
    "# draw_gapfill(df2, plt, rt=0.4)\n",
    "# draw_gapfill(df3, plt, rt=0.6)\n",
    "# draw_gapfill(df4, plt, rt=0.8)\n",
    "# output(plt, fig, 'gapfill')\n",
    "# plt.show()"
   ]
  },
  {
   "cell_type": "code",
   "execution_count": null,
   "id": "modified-picking",
   "metadata": {},
   "outputs": [],
   "source": [
    "df_25k = df[(df.Mass>24200)&(df.Mass<25350)&(df.Vol>3E6)]\n",
    "plotly_zone(df_25k, y='Vol')\n",
    "# df_25k.to_excel('/Users/bryan/Documents/BioPharmaFinder/Draw/Source/Fig2_homology_acid_deg.xlsx')"
   ]
  },
  {
   "cell_type": "code",
   "execution_count": null,
   "id": "false-roads",
   "metadata": {},
   "outputs": [],
   "source": [
    "df_phe = pd.read_excel('~/Downloads/PheJuly22_2020.xlsx')\n",
    "df_phe = thermo_df(df_phe)\n",
    "df_phe.shape"
   ]
  },
  {
   "cell_type": "code",
   "execution_count": null,
   "id": "warming-western",
   "metadata": {},
   "outputs": [],
   "source": [
    "df_25k = df[(df.Mass>23800)&(df.Mass<26000)&(df.Vol>1E6)]\n",
    "plotly_zone(df_25k, y='Vol')\n",
    "plotly_zone(df)"
   ]
  },
  {
   "cell_type": "code",
   "execution_count": null,
   "id": "retired-columbia",
   "metadata": {},
   "outputs": [],
   "source": [
    "df_top = df.sort_values('Vol', ascending=False).iloc[2000:3000]\n",
    "plotly_zone(df_top)"
   ]
  },
  {
   "cell_type": "code",
   "execution_count": null,
   "id": "brave-scoop",
   "metadata": {},
   "outputs": [],
   "source": [
    "df_sample = df_phe\n",
    "df_tyr_5p_match = match_dfs(df_tyr_5p, df_sample)\n",
    "df_tyr_3p_match = match_dfs(df_tyr_3p, df_sample)\n",
    "df_tyr75_3p_match = match_dfs(df_tyr75_3p, df_sample)\n",
    "plotly_multi_zones([df_sample, df_tyr_5p_match, df_tyr_3p_match])\n",
    "# plotly_zones(df_tyr_5p_match, df_tyr_3p_match)\n",
    "df_tyr_5p_match.shape, df_tyr_3p_match.shape, df_tyr75_3p_match.shape"
   ]
  },
  {
   "cell_type": "code",
   "execution_count": null,
   "id": "flush-broadcast",
   "metadata": {},
   "outputs": [],
   "source": []
  },
  {
   "cell_type": "code",
   "execution_count": null,
   "id": "sharing-stations",
   "metadata": {},
   "outputs": [],
   "source": [
    "df_sample = df#[df.Mass>2000]\n",
    "df_head = df_sample.groupby('RT').head(2)\n",
    "df_tail = df_sample.groupby('RT').tail(2)\n",
    "plotly_zones(df_head, df_tail)\n",
    "df_head.shape, df_tail.shape"
   ]
  },
  {
   "cell_type": "code",
   "execution_count": null,
   "id": "necessary-optimum",
   "metadata": {},
   "outputs": [],
   "source": [
    "# plotly_zone(df_phe)\n",
    "df_sample = df_phe#[df_phe.Mass>10000]\n",
    "df_phe_5p_match = match_dfs(df_phe_5p, df_sample)\n",
    "df_phe_3p_match = match_dfs(df_phe_3p, df_sample)\n",
    "plotly_multi_zones([df_sample, df_phe_5p_match, df_phe_3p_match])\n",
    "df_phe_5p_match.shape, df_phe_5p_match.shape"
   ]
  },
  {
   "cell_type": "code",
   "execution_count": null,
   "id": "studied-meter",
   "metadata": {},
   "outputs": [],
   "source": [
    "df_5p, df_3p = load_phe_5p3p(True)\n",
    "df_5p.shape, df_3p.shape"
   ]
  },
  {
   "cell_type": "code",
   "execution_count": null,
   "id": "typical-single",
   "metadata": {},
   "outputs": [],
   "source": [
    "df_a = match_dfs(df_3p, df_3p, shift=A)\n",
    "plotly_zone(df_a)"
   ]
  },
  {
   "cell_type": "code",
   "execution_count": null,
   "id": "criminal-property",
   "metadata": {},
   "outputs": [],
   "source": [
    "df_head = df.sort_values('Vol', ascending=False).groupby('RT').head(1)\n",
    "print(df_head.shape)\n",
    "dfs = computational_data_seperation(df_head, df, 24280.31)\n",
    "plotly_zones(*dfs)"
   ]
  },
  {
   "cell_type": "code",
   "execution_count": null,
   "id": "ethical-genesis",
   "metadata": {},
   "outputs": [],
   "source": [
    "def output(plt, fig, svg_name, transparent=True):\n",
    "    fig.tight_layout()\n",
    "    plt.savefig(f'/Users/bryan/Documents/BioTechDraw/Outputs_Fig2/{svg_name}.svg', dpi=300, transparent=transparent)\n",
    "\n",
    "\n"
   ]
  },
  {
   "cell_type": "code",
   "execution_count": null,
   "id": "beginning-sensitivity",
   "metadata": {},
   "outputs": [],
   "source": []
  }
 ],
 "metadata": {
  "kernelspec": {
   "display_name": "Python 3",
   "language": "python",
   "name": "python3"
  },
  "language_info": {
   "codemirror_mode": {
    "name": "ipython",
    "version": 3
   },
   "file_extension": ".py",
   "mimetype": "text/x-python",
   "name": "python",
   "nbconvert_exporter": "python",
   "pygments_lexer": "ipython3",
   "version": "3.7.3"
  }
 },
 "nbformat": 4,
 "nbformat_minor": 5
}
