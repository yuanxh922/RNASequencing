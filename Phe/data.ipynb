{
 "cells": [
  {
   "cell_type": "code",
   "execution_count": null,
   "id": "valued-charm",
   "metadata": {},
   "outputs": [],
   "source": [
    "import pandas as pd"
   ]
  },
  {
   "cell_type": "code",
   "execution_count": null,
   "id": "filled-fourth",
   "metadata": {},
   "outputs": [],
   "source": [
    "%run ../modules/utils.ipynb"
   ]
  },
  {
   "cell_type": "code",
   "execution_count": null,
   "id": "radio-forward",
   "metadata": {},
   "outputs": [],
   "source": [
    "masses_phe_noad = [24939.55, 24610.49]\n",
    "masses_phe = [24581.380920, 24252.311092, 24238.33]\n",
    "masses_phe16 = [24597.35, 24268.30]\n",
    "masses_phe2 = [24596.356603, 24267.306460]\n",
    "masses_tyr = [25334.568757, 25005.518339]"
   ]
  },
  {
   "cell_type": "code",
   "execution_count": null,
   "id": "regular-taste",
   "metadata": {},
   "outputs": [],
   "source": [
    "def load_phe(ad=True):\n",
    "    if ad:\n",
    "        data_src = '/Users/bryan/Documents/BioPharmaFinder/ZhangLab/Data/Excels/tRNA_Phe_0724.xlsx'\n",
    "    else:\n",
    "        data_src = '/Users/bryan/Documents/BioPharmaFinder/ZhangLab/oligossample1.xlsx'\n",
    "    \n",
    "    df = pd.read_excel(data_src)\n",
    "    df = thermo_df(df)\n",
    "    return df"
   ]
  },
  {
   "cell_type": "code",
   "execution_count": null,
   "id": "honest-israel",
   "metadata": {},
   "outputs": [],
   "source": [
    "def load_phe_5p3p(top=False):\n",
    "    df_5p = pd.read_excel('/Users/bryan/Documents/BioPharmaFinder/ZhangLab/MassSum/GraphsOutput/phe5p.xlsx')\n",
    "    df_3p = pd.read_excel('/Users/bryan/Documents/BioPharmaFinder/ZhangLab/MassSum/GraphsOutput/phe3p.xlsx')\n",
    "    if top:\n",
    "        df_5p = df_5p.sort_values('Vol', ascending=False).iloc[:1000]\n",
    "        df_3p = df_3p.sort_values('Vol', ascending=False).iloc[:1000]\n",
    "    return df_5p, df_3p"
   ]
  }
 ],
 "metadata": {
  "kernelspec": {
   "display_name": "Python 3",
   "language": "python",
   "name": "python3"
  },
  "language_info": {
   "codemirror_mode": {
    "name": "ipython",
    "version": 3
   },
   "file_extension": ".py",
   "mimetype": "text/x-python",
   "name": "python",
   "nbconvert_exporter": "python",
   "pygments_lexer": "ipython3",
   "version": "3.7.3"
  }
 },
 "nbformat": 4,
 "nbformat_minor": 5
}
