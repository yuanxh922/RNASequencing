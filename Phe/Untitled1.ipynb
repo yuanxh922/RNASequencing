{
 "cells": [
  {
   "cell_type": "code",
   "execution_count": null,
   "id": "valid-membrane",
   "metadata": {},
   "outputs": [],
   "source": [
    "import pandas as pd\n",
    "import matplotlib\n",
    "import plotly.express as px\n",
    "import matplotlib.pyplot as plt\n",
    "import matplotlib.cm as cm"
   ]
  },
  {
   "cell_type": "code",
   "execution_count": null,
   "id": "korean-request",
   "metadata": {},
   "outputs": [],
   "source": [
    "%run ../modules/utils.ipynb\n",
    "%run ../modules/cds.ipynb\n",
    "%run ../modules/preprocessing.ipynb"
   ]
  },
  {
   "cell_type": "code",
   "execution_count": null,
   "id": "funny-scanning",
   "metadata": {},
   "outputs": [],
   "source": [
    "# df = pd.read_excel('/Users/bryan/Documents/BioPharmaFinder/ZhangLab/total_tRNA_acid_deg_oligosdegcoplex4.xlsx')\n",
    "df1 = pd.read_excel('/Users/bryan/Documents/BioPharmaFinder/ZhangLab/Data/Excels/tRNA_Phe_0724.xlsx')\n",
    "df2 = pd.read_excel('/Users/bryan/Documents/BioPharmaFinder/ZhangLab/Data/Excels/tRNA_Phe_0821.xlsx')\n",
    "df1 = thermo_df(df1)\n",
    "df2 = thermo_df(df2)"
   ]
  },
  {
   "cell_type": "code",
   "execution_count": null,
   "id": "decent-advantage",
   "metadata": {},
   "outputs": [],
   "source": [
    "plotly_zone(df1[df1.Mass>1300], y='Vol')"
   ]
  },
  {
   "cell_type": "code",
   "execution_count": null,
   "id": "vital-method",
   "metadata": {},
   "outputs": [],
   "source": [
    "# df_top = df_sample[df_sample.Mass>2800].sort_values('Vol', ascending=False).iloc[:300]\n",
    "df_top = local_top(df1, top=10)\n",
    "plotly_zone(df_top)\n",
    "bcr = base_calling_random(df_top)\n",
    "# plotly_basecalling(*bcr)\n",
    "len(bcr[1])"
   ]
  },
  {
   "cell_type": "code",
   "execution_count": null,
   "id": "unknown-gregory",
   "metadata": {},
   "outputs": [],
   "source": [
    "# df_top = df_sample[df_sample.Mass>2800].sort_values('Vol', ascending=False).iloc[:300]\n",
    "top_list = list(range(40, 60))\n",
    "count_list = list()\n",
    "for top in top_list:\n",
    "    df_top = local_top(df1, top=top)\n",
    "    bcr = base_calling_random(df_top)\n",
    "    count_list.append(len(bcr[1]))\n",
    "\n",
    "print(top_list, count_list)\n",
    "plt.scatter(x=top_list, y=count_list)"
   ]
  },
  {
   "cell_type": "code",
   "execution_count": null,
   "id": "fluid-ebony",
   "metadata": {},
   "outputs": [],
   "source": [
    "df_76_5p = pd.read_excel('~/Studio/tools/phe_76_5p.xlsx')\n",
    "df_75_5p = pd.read_excel('~/Studio/tools/phe_75_5p.xlsx')\n",
    "df_76_3p = pd.read_excel('~/Studio/tools/phe_76_3p.xlsx')\n",
    "df_75_3p = pd.read_excel('~/Studio/tools/phe_75_3p.xlsx')\n",
    "# df_76_3p = thermo_df(df_76_3p)\n",
    "dfm_76_3p = match_dfs(df_76_3p, df1)\n",
    "dft = df_76_3p.copy()\n",
    "dft.Mass += 16\n",
    "dfm_76_3p_2 = match_dfs(dft, df1)\n",
    "dfm_75_3p = match_dfs(df_75_3p, df1)\n",
    "dft = df_75_3p.copy()\n",
    "dft.Mass += 16\n",
    "dfm_75_3p_2 = match_dfs(dft, df1)\n",
    "plotly_zones(dfm_76_3p, dfm_76_3p_2, y='Vol')\n",
    "plotly_zones(dfm_75_3p, dfm_75_3p_2, y='Vol')\n",
    "\n",
    "dfm_76_5p = match_dfs(df_76_5p, df1)\n",
    "dft = df_76_5p.copy()\n",
    "dft.Mass += 16\n",
    "dfm_76_5p_2 = match_dfs(dft, df1)\n",
    "dfm_75_5p = match_dfs(df_75_5p, df1)\n",
    "dft = df_75_5p.copy()\n",
    "dft.Mass += 16\n",
    "dfm_75_5p_2 = match_dfs(dft, df1)\n",
    "# plotly_zones(dfm_76_5p, dfm_76_5p_2)\n",
    "# plotly_zones(dfm_75_5p, dfm_75_5p_2)\n"
   ]
  },
  {
   "cell_type": "code",
   "execution_count": null,
   "id": "prompt-fence",
   "metadata": {},
   "outputs": [],
   "source": [
    "# df_5p = pd.read_excel('~/Downloads/df_phe74_5p_filter.xlsx')\n",
    "# df_3p = pd.read_excel('~/Downloads/df_phe74_3p_filter.xlsx')\n",
    "df_5p = pd.read_excel('~/Documents/BioPharmaFinder/ZhangLab/Data/Outputs_phe/cc5p_revised.xlsx')\n",
    "df_3p = pd.read_excel('~/Documents/BioPharmaFinder/ZhangLab/Data/Outputs_phe/cc3p_revised.xlsx')\n",
    "\n",
    "df_5p = thermo_df(df_5p)\n",
    "df_3p = thermo_df(df_3p)\n",
    "plotly_zones(df_5p, df_3p)"
   ]
  },
  {
   "cell_type": "code",
   "execution_count": null,
   "id": "inappropriate-induction",
   "metadata": {},
   "outputs": [],
   "source": [
    "# df_sample = df\n",
    "fig = plt.figure(figsize=(3, 2))\n",
    "plt.xlabel('Mass (Da)', fontname=\"Helvetica\", fontsize=13, color='black')\n",
    "plt.ylabel('Retention Time (min)', fontname=\"Helvetica\", fontsize=13, color='black')\n",
    "# plt.xticks(range(0, 30000, 6000), fontname=\"Arial\", size=13, color='black')\n",
    "plt.yticks(fontname=\"Helvetica\", size=13, color='black')\n",
    "\n",
    "p4 = plt.scatter(df_5p.Mass, df_5p.RT, s=8)\n",
    "p4 = plt.scatter(df_3p.Mass, df_3p.RT, s=8)\n",
    "# p4 = plt.scatter(df_sample.Mass, df_sample.RT, c=df_sample.Vol, cmap=cm.cool)\n",
    "# df.plot(kind='scatter', x='Mass', y='RT', c='Vol', alpha=0.3, \n",
    "#         cmap=plt.get_cmap('jet'), colorbar=True, figsize=(12, 9))\n",
    "# cbar = plt.colorbar()\n",
    "# cbar.ax.get_yaxis().labelpad = 14\n",
    "# # cbar.ax.set_yticklabels([])\n",
    "# # cbar.ax.set_yticklabels(cbar.ax.get_yticks(), rotate=90)\n",
    "# cbar.ax.set_ylabel('Intensity', size=14, rotation=270)\n",
    "# plt.show()\n",
    "# output(plt, fig, 'MassSum')"
   ]
  },
  {
   "cell_type": "code",
   "execution_count": null,
   "id": "satisfactory-plaza",
   "metadata": {},
   "outputs": [],
   "source": []
  },
  {
   "cell_type": "code",
   "execution_count": null,
   "id": "continuing-linux",
   "metadata": {},
   "outputs": [],
   "source": [
    "def output(plt, fig, svg_name, transparent=True):\n",
    "    fig.tight_layout()\n",
    "    plt.savefig(f'/Users/bryan/Downloads/{svg_name}.svg', dpi=300, transparent=transparent)"
   ]
  }
 ],
 "metadata": {
  "kernelspec": {
   "display_name": "Python 3",
   "language": "python",
   "name": "python3"
  },
  "language_info": {
   "codemirror_mode": {
    "name": "ipython",
    "version": 3
   },
   "file_extension": ".py",
   "mimetype": "text/x-python",
   "name": "python",
   "nbconvert_exporter": "python",
   "pygments_lexer": "ipython3",
   "version": "3.7.3"
  }
 },
 "nbformat": 4,
 "nbformat_minor": 5
}
