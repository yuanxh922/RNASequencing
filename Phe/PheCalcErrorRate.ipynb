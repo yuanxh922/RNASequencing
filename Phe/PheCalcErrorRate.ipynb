{
 "cells": [
  {
   "cell_type": "code",
   "execution_count": null,
   "id": "expressed-expansion",
   "metadata": {},
   "outputs": [],
   "source": [
    "import pandas as pd\n",
    "import matplotlib\n",
    "import plotly.express as px\n",
    "import matplotlib.pyplot as plt"
   ]
  },
  {
   "cell_type": "code",
   "execution_count": null,
   "id": "previous-surgery",
   "metadata": {},
   "outputs": [],
   "source": [
    "%run ../modules/utils.ipynb\n",
    "%run ../modules/cds.ipynb\n",
    "%run ../modules/preprocessing.ipynb"
   ]
  },
  {
   "cell_type": "code",
   "execution_count": null,
   "id": "sonic-arlington",
   "metadata": {},
   "outputs": [],
   "source": [
    "# df = pd.read_excel('/Users/bryan/Documents/BioPharmaFinder/ZhangLab/total_tRNA_acid_deg_oligosdegcoplex4.xlsx')\n",
    "df1 = pd.read_excel('/Users/xyuan/Documents/BioPharmaFinder/ZhangLab/Data/Excels/tRNA_Phe_0724.xlsx')\n",
    "df2 = pd.read_excel('/Users/xyuan/Documents/BioPharmaFinder/ZhangLab/Data/Excels/tRNA_Phe_0821.xlsx')\n",
    "df1 = thermo_df(df1)\n",
    "df2 = thermo_df(df2)"
   ]
  },
  {
   "cell_type": "code",
   "execution_count": null,
   "id": "improving-duration",
   "metadata": {},
   "outputs": [],
   "source": [
    "df_noad = pd.read_excel('/Users/xyuan/Documents/BioPharmaFinder/ZhangLab/oligossample1.xlsx')\n",
    "df_noad = thermo_df(df_noad)\n",
    "df_noad.shape"
   ]
  },
  {
   "cell_type": "code",
   "execution_count": null,
   "id": "governmental-forestry",
   "metadata": {},
   "outputs": [],
   "source": [
    "plot_zone(df1)"
   ]
  },
  {
   "cell_type": "code",
   "execution_count": null,
   "id": "quick-winning",
   "metadata": {},
   "outputs": [],
   "source": [
    "df_pre = pd.read_excel('~/Downloads/phe2.xlsx', 'pre')\n",
    "df_post = pd.read_excel('~/Downloads/phe2.xlsx', 'post')\n",
    "df_pre = match_dfs(df_pre, df_noad)\n",
    "df_post = match_dfs(df_post, df2)\n",
    "plotly_zones(df_pre, df_post, y='Vol')\n",
    "\n",
    "bcr = base_calling_random(df_pre, homology=True)\n",
    "plt, fig = plot_basecalling(*bcr, y='Vol')"
   ]
  },
  {
   "cell_type": "code",
   "execution_count": null,
   "id": "internal-powell",
   "metadata": {},
   "outputs": [],
   "source": [
    "df_pre['Ratio'] = df_pre.Vol/df_pre.Vol.sum()\n",
    "df_pre"
   ]
  },
  {
   "cell_type": "code",
   "execution_count": null,
   "id": "national-victory",
   "metadata": {},
   "outputs": [],
   "source": [
    "df_post.sort_values('Vol', ascending=False).iloc[1].Mass"
   ]
  },
  {
   "cell_type": "code",
   "execution_count": null,
   "id": "chubby-judge",
   "metadata": {},
   "outputs": [],
   "source": [
    "plotly_zone(df2[df2.Mass>23000], y='Vol')\n",
    "top_mass = df2[df2.Mass>23000].sort_values('Vol', ascending=False).iloc[0].Mass\n",
    "top_mass - C, df2[df2.Mass>23900].sort_values('Mass').iloc[:5]"
   ]
  },
  {
   "cell_type": "code",
   "execution_count": null,
   "id": "piano-logic",
   "metadata": {},
   "outputs": [],
   "source": [
    "df_std_phe_76_5p = pd.read_excel('/Users/xyuan/Studio/tools/phe_76_5p.xlsx')\n",
    "df_std_phe_76_3p = pd.read_excel('/Users/xyuan/Studio/tools/phe_76_3p.xlsx')\n",
    "df_std_phe_75_3p = pd.read_excel('/Users/xyuan/Studio/tools/phe_75_3p.xlsx')"
   ]
  },
  {
   "cell_type": "code",
   "execution_count": null,
   "id": "familiar-phenomenon",
   "metadata": {},
   "outputs": [],
   "source": [
    "df5p_1 = match_dfs(df_std_phe_76_5p, df1)\n",
    "df5p_2 = match_dfs(df_std_phe_76_5p, df2)\n",
    "df5p_1 = df5p_1[(df5p_1.Mass>3000)&(df5p_1.Mass<24000)]\n",
    "df5p_2 = df5p_2[(df5p_2.Mass>3000)&(df5p_2.Mass<24000)]\n",
    "df5p_2 = df5p_2[df5p_2.RT>1]"
   ]
  },
  {
   "cell_type": "code",
   "execution_count": null,
   "id": "twelve-compensation",
   "metadata": {},
   "outputs": [],
   "source": [
    "\n",
    "df5p_1['Ratio'] = df5p_1.Vol / df5p_1.Vol.sum()\n",
    "df5p_2['Ratio'] = df5p_2.Vol / df5p_2.Vol.sum()\n",
    "\n",
    "df5p_1 = match_dfs(df5p_2, df5p_1)\n",
    "df5p_2 = match_dfs(df5p_1, df5p_2)\n",
    "\n",
    "plotly_zones(df5p_1, df5p_2, names=['Sample0724', 'Sample0821'])\n",
    "plotly_zones(df5p_1, df5p_2, y='Ratio', names=['Sample0724', 'Sample0821'])\n",
    "df5p_1.iloc[-10:], df5p_2.iloc[-10:]\n",
    "ratio1 = df5p_1.Ratio.mean()\n",
    "ratio2 = df5p_2.Ratio.mean()\n",
    "ratio1, ratio2, 2.0*(ratio1 - ratio2)/(ratio1 + ratio2)\n"
   ]
  },
  {
   "cell_type": "code",
   "execution_count": null,
   "id": "forward-superintendent",
   "metadata": {},
   "outputs": [],
   "source": [
    "def process_single_ladder(df, mass_pairs, full_mass, orientation=5, df_res=pd.DataFrame(), idx=-1):\n",
    "    seats = int(full_mass // 320)\n",
    "    col_base = 'Base' if idx < 0 else f'Base{idx}'\n",
    "    col_mass = 'Mass' if idx < 0 else f'Mass{idx}'\n",
    "    if df_res.empty:\n",
    "        df_res = pd.DataFrame()\n",
    "        df_res['position'] = range(1, seats+1)\n",
    "        df_res.set_index('position', inplace=True)\n",
    "    df_res[col_base] = ''\n",
    "    df_res[col_mass] = ''\n",
    "    \n",
    "    df = df.fillna(0)\n",
    "    for idx, row in df.iterrows():\n",
    "        if row.Mass <= 0:\n",
    "            continue\n",
    "        pos = int(row.Mass // 320)\n",
    "        if orientation == 3:\n",
    "            pos = seats + 1 - pos\n",
    "#             pos -= 1\n",
    "        mass = df_res.loc[pos, col_mass] \n",
    "        if not mass:\n",
    "            mass = row.Mass\n",
    "        else:\n",
    "            mass = '{}, {}'.format(mass, row.Mass)\n",
    "        df_res.loc[pos, col_mass] = mass\n",
    "        \n",
    "    for t in mass_pairs:\n",
    "        df_pair = df[df.Mass.isin(t)]\n",
    "        if df_pair.empty:\n",
    "            continue\n",
    "        \n",
    "        idx = df_pair['Mass'].idxmax()\n",
    "        if orientation == 3:\n",
    "            idx = df_pair['Mass'].idxmin()\n",
    "        pos = int(df_pair.loc[idx].Mass // 320)\n",
    "        if orientation == 3:\n",
    "            pos = seats + 1 - pos\n",
    "            pos -= 1\n",
    "        base = df_res.loc[pos, col_base] \n",
    "        if not base:\n",
    "            base = t[2]\n",
    "        else:\n",
    "            base = '{}, {}'.format(base, t[2])\n",
    "        df_res.loc[pos, col_base] = base\n",
    "    \n",
    "    return df_res"
   ]
  },
  {
   "cell_type": "code",
   "execution_count": null,
   "id": "accurate-republic",
   "metadata": {},
   "outputs": [],
   "source": [
    "# fullmass = df_post.sort_values('Vol', ascending=False).iloc[1].Mass\n",
    "# print(f'fullmass {fullmass}')\n",
    "# bcr = base_calling_random(df5p_1)\n",
    "# df_res = process_single_ladder(*bcr, fullmass, idx=0)\n",
    "\n",
    "# fullmass = df_post.sort_values('Vol', ascending=False).iloc[0].Mass\n",
    "# bcr = base_calling_random(df5p_2)\n",
    "# df_res = process_single_ladder(*bcr, fullmass, df_res=df_res, idx=1)\n",
    "# df_res.tail(20)\n",
    "\n",
    "fullmass1 = df_post.sort_values('Vol', ascending=False).iloc[1].Mass\n",
    "fullmass2 = df_post.sort_values('Vol', ascending=False).iloc[0].Mass\n",
    "ladders = [(df5p_1, fullmass1, 5), (df5p_2, fullmass2, 5)]\n",
    "\n",
    "def ladder_complementation(ladders):\n",
    "    df_res = pd.DataFrame()\n",
    "    for idx, ladder in enumerate(ladders):\n",
    "        df = ladder[0]\n",
    "        fullmass = ladder[1]\n",
    "        print(f'processing fullmass {fullmass}')\n",
    "        bcr = base_calling_random(df)\n",
    "        df_res = process_single_ladder(*bcr, fullmass, df_res=df_res, idx=idx)\n",
    "\n",
    "    return df_res"
   ]
  },
  {
   "cell_type": "code",
   "execution_count": null,
   "id": "changed-candy",
   "metadata": {},
   "outputs": [],
   "source": []
  },
  {
   "cell_type": "code",
   "execution_count": null,
   "id": "generous-principal",
   "metadata": {},
   "outputs": [],
   "source": [
    "df5p_1.head(5), df5p_2.head(5)\n",
    "df5p_1.to_excel('~/Downloads/phe_data_sample0724.xlsx')\n",
    "df5p_2.to_excel('~/Downloads/phe_data_sample0821.xlsx')"
   ]
  },
  {
   "cell_type": "code",
   "execution_count": null,
   "id": "fluid-conjunction",
   "metadata": {},
   "outputs": [],
   "source": [
    "arr1 = np.array(df5p_1.Ratio)\n",
    "arr2 = np.array(df5p_2.Ratio)\n",
    "a = np.array([arr1, arr2])\n",
    "np.std(arr1, axis=1)"
   ]
  },
  {
   "cell_type": "code",
   "execution_count": null,
   "id": "pacific-karaoke",
   "metadata": {},
   "outputs": [],
   "source": []
  }
 ],
 "metadata": {
  "kernelspec": {
   "display_name": "Python 3",
   "language": "python",
   "name": "python3"
  },
  "language_info": {
   "codemirror_mode": {
    "name": "ipython",
    "version": 3
   },
   "file_extension": ".py",
   "mimetype": "text/x-python",
   "name": "python",
   "nbconvert_exporter": "python",
   "pygments_lexer": "ipython3",
   "version": "3.7.3"
  }
 },
 "nbformat": 4,
 "nbformat_minor": 5
}
