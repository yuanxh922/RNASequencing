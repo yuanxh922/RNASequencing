{
 "cells": [
  {
   "cell_type": "code",
   "execution_count": null,
   "id": "surprised-float",
   "metadata": {},
   "outputs": [],
   "source": [
    "import pandas as pd\n",
    "import matplotlib"
   ]
  },
  {
   "cell_type": "code",
   "execution_count": null,
   "id": "controlling-basic",
   "metadata": {},
   "outputs": [],
   "source": [
    "%run data.ipynb\n",
    "%run ../modules/preprocessing.ipynb\n",
    "%run ../modules/cds.ipynb\n",
    "%run ../modules/utils.ipynb"
   ]
  },
  {
   "cell_type": "code",
   "execution_count": null,
   "id": "indirect-direction",
   "metadata": {},
   "outputs": [],
   "source": [
    "dfa = load_uc_glu(1)\n",
    "dfa_alkb = load_uc_glu(2)\n",
    "# dfa_ad = load_uc_glu(5, more=True)\n",
    "dfa_ad = pd.read_excel('/Users/bryan/Documents/Data/UC/UC_glu_5_rosa.xlsx')\n",
    "dfa_ad = thermo_df(dfa_ad)\n",
    "# dfa_ad_alkb = load_uc_glu(6)\n",
    "# dfa_ad_alkb = load_uc_glu(6, more=True)\n",
    "dfa_ad_alkb = pd.read_excel('/Users/bryan/Documents/Data/UC/UC_glu_6_rosa.xlsx')\n",
    "dfa_ad_alkb = thermo_df(dfa_ad_alkb)\n",
    "dfa.shape, dfa_ad.shape\n",
    "# plotly_zone(dfa_alkb)\n",
    "# plotly_zone(dfa_ad_alkb)"
   ]
  },
  {
   "cell_type": "code",
   "execution_count": null,
   "id": "magnetic-procedure",
   "metadata": {},
   "outputs": [],
   "source": [
    "df_24k = dfa_alkb[(dfa_alkb.Mass>24000)&(dfa_alkb.Mass<24400)]\n",
    "plotly_zone(df_24k, y='Vol')\n",
    "df_24k = dfa_ad_alkb[dfa_ad_alkb.Mass>24000]\n",
    "plotly_zone(df_24k, y='Vol')"
   ]
  },
  {
   "cell_type": "code",
   "execution_count": null,
   "id": "designed-coral",
   "metadata": {},
   "outputs": [],
   "source": [
    "df_24k.Vol.sum(), df_24k.sort_values('Vol', ascending=False).iloc[:7]"
   ]
  },
  {
   "cell_type": "code",
   "execution_count": null,
   "id": "single-stuart",
   "metadata": {},
   "outputs": [],
   "source": [
    "df_24k = dfa[(dfa.Mass>24000)&(dfa.Mass<24400)]\n",
    "plotly_zone(df_24k, y='Vol')\n",
    "df_24k = dfa_ad[dfa_ad.Mass>24000]\n",
    "plotly_zone(df_24k, y='Vol')\n",
    "\n",
    "# ad = False\n",
    "# if ad:\n",
    "#     df_24k = dfa_ad[dfa_ad.Mass>24000]\n",
    "#     plotly_zone(df_24k, y='Vol')\n",
    "#     df_24k = dfa_ad_alkb[dfa_ad_alkb.Mass>24000]\n",
    "#     plotly_zone(df_24k, y='Vol')\n",
    "# else:\n",
    "#     df_24k = dfa[dfa.Mass>24000]\n",
    "#     plotly_zone(df_24k, y='Vol')\n",
    "#     df_24k = dfa_alkb[dfa_alkb.Mass>24000]\n",
    "#     plotly_zone(df_24k, y='Vol')"
   ]
  },
  {
   "cell_type": "code",
   "execution_count": null,
   "id": "narrative-abortion",
   "metadata": {},
   "outputs": [],
   "source": [
    "df_top = dfa[(dfa.Mass>24189)&(dfa.Mass<24233)&(dfa.Vol>10000)]\n",
    "plotly_zone(df_top, y='Vol')"
   ]
  },
  {
   "cell_type": "code",
   "execution_count": null,
   "id": "organic-collar",
   "metadata": {},
   "outputs": [],
   "source": [
    "plotly_zone(dfa_ad_alkb)"
   ]
  },
  {
   "cell_type": "code",
   "execution_count": null,
   "id": "physical-award",
   "metadata": {},
   "outputs": [],
   "source": [
    "dfb = load_uc2(5)\n",
    "dfb_alkb = load_uc2(6)\n",
    "dfb_ad = pd.read_excel('/Users/bryan/Documents/ChenLab/10Jun2021/degraded/DrChen_tRNA_A_Glu_FA_17.xlsx')\n",
    "dfb_ad = thermo_df(dfb_ad)\n",
    "# dfb_ad = load_uc2(17)\n",
    "dfb_ad_alkb = load_uc2(18)\n",
    "dfb.shape, dfb_ad.shape\n",
    "# plotly_zone(dfb)\n",
    "# plotly_zone(dfb_ad)"
   ]
  },
  {
   "cell_type": "code",
   "execution_count": null,
   "id": "incorrect-dairy",
   "metadata": {},
   "outputs": [],
   "source": [
    "# dfab = pd.concat([dfa, dfb]).drop_duplicates(subset=['Mass'])\n",
    "dfab_ad = pd.concat([dfa_ad, dfb_ad])#.drop_duplicates(subset=['Mass'])\n",
    "dfab_ad.to_excel('~/Downloads/dfab_ad.xlsx')"
   ]
  },
  {
   "cell_type": "code",
   "execution_count": null,
   "id": "vietnamese-shaft",
   "metadata": {},
   "outputs": [],
   "source": [
    "fullmass = 24189.28\n",
    "# fullmass = 24203.29\n",
    "# fullmass = 24203.29\n",
    "# fullmass = 24217.3\n",
    "# fullmass = 24231.3\n",
    "# fullmass = 24218.31\n",
    "# fullmass = 24232.29\n",
    "dfs = computational_data_seperation(dfab_ad, dfab_ad, full_mass=fullmass)\n",
    "dfs[0].shape"
   ]
  },
  {
   "cell_type": "code",
   "execution_count": null,
   "id": "indirect-surrey",
   "metadata": {},
   "outputs": [],
   "source": [
    "df_189 = dfs[0].copy()"
   ]
  },
  {
   "cell_type": "code",
   "execution_count": null,
   "id": "united-evidence",
   "metadata": {},
   "outputs": [],
   "source": [
    "df_203 = dfs[0].copy()"
   ]
  },
  {
   "cell_type": "code",
   "execution_count": null,
   "id": "engaged-salem",
   "metadata": {},
   "outputs": [],
   "source": [
    "df_217 = dfs[0].copy()"
   ]
  },
  {
   "cell_type": "code",
   "execution_count": null,
   "id": "radical-biotechnology",
   "metadata": {},
   "outputs": [],
   "source": [
    "df_218 = dfs[0].copy()"
   ]
  },
  {
   "cell_type": "code",
   "execution_count": null,
   "id": "soviet-hamburg",
   "metadata": {},
   "outputs": [],
   "source": [
    "df_231 = dfs[0].copy()"
   ]
  },
  {
   "cell_type": "code",
   "execution_count": null,
   "id": "integral-drink",
   "metadata": {},
   "outputs": [],
   "source": [
    "df_232 = dfs[0].copy()"
   ]
  },
  {
   "cell_type": "code",
   "execution_count": null,
   "id": "enhanced-violence",
   "metadata": {},
   "outputs": [],
   "source": [
    "# df_tmp = df_203.copy()\n",
    "# df_tmp.Mass -= M\n",
    "# dfm = match_dfs(df_tmp, dfab_ad)\n",
    "# plotly_zone(dfm)\n",
    "# plotly_multi_zones([df_203,  df_189])\n",
    "# plotly_zones(df_217, df_232)\n",
    "plotly_zone(df_189)"
   ]
  },
  {
   "cell_type": "code",
   "execution_count": null,
   "id": "amazing-discretion",
   "metadata": {},
   "outputs": [],
   "source": []
  },
  {
   "cell_type": "code",
   "execution_count": null,
   "id": "irish-applicant",
   "metadata": {},
   "outputs": [],
   "source": [
    "target = 14205\n",
    "df_sample = dfab_ad\n",
    "dfa = df_sample[(df_sample.Mass>target-1)&(df_sample.Mass<target+1)]\n",
    "target += M\n",
    "dfb = df_sample[(df_sample.Mass>target-1)&(df_sample.Mass<target+1)]\n",
    "dfa, dfb"
   ]
  },
  {
   "cell_type": "code",
   "execution_count": null,
   "id": "suburban-providence",
   "metadata": {},
   "outputs": [],
   "source": []
  },
  {
   "cell_type": "code",
   "execution_count": null,
   "id": "necessary-kitchen",
   "metadata": {},
   "outputs": [],
   "source": [
    "df_217_3p_6mG = pd.read_excel('/Users/bryan/Studio/tools/glu_24217_3p_6mG.xlsx')\n",
    "df_217_5p_6mG = pd.read_excel('/Users/bryan/Studio/tools/glu_24217_5p_6mG.xlsx')\n",
    "df_217_3p = pd.read_excel('/Users/bryan/Studio/tools/glu_24217_3p.xlsx')\n",
    "df_217_5p = pd.read_excel('/Users/bryan/Studio/tools/glu_24217_5p.xlsx')\n",
    "df_203_3p_6mG = pd.read_excel('/Users/bryan/Studio/tools/glu_24203_3p_6mG.xlsx')\n",
    "df_203_5p_6mG = pd.read_excel('/Users/bryan/Studio/tools/glu_24203_5p_6mG.xlsx')\n",
    "df_203_3p = pd.read_excel('/Users/bryan/Studio/tools/glu_24203_3p.xlsx')\n",
    "df_203_5p = pd.read_excel('/Users/bryan/Studio/tools/glu_24203_5p.xlsx')\n",
    "df_189_3p = pd.read_excel('/Users/bryan/Studio/tools/glu_24189_3p.xlsx')\n",
    "df_189_5p = pd.read_excel('/Users/bryan/Studio/tools/glu_24189_5p.xlsx')\n",
    "\n",
    "df_232_3p = pd.read_excel('/Users/bryan/Studio/tools/glu_24232_3p.xlsx')\n",
    "df_232_5p = pd.read_excel('/Users/bryan/Studio/tools/glu_24232_5p.xlsx')\n",
    "# df_218_3p = pd.read_excel('/Users/bryan/Studio/tools/glu_24218_3p.xlsx')\n",
    "# df_218_5p = pd.read_excel('/Users/bryan/Studio/tools/glu_24218_5p.xlsx')\n",
    "df_204_3p = pd.read_excel('/Users/bryan/Studio/tools/glu_24204_3p.xlsx')\n",
    "df_204_5p = pd.read_excel('/Users/bryan/Studio/tools/glu_24204_5p.xlsx')\n",
    "\n",
    "df_218_3p = pd.read_excel('/Users/bryan/Studio/tools/glu_24218_3p_11Me.xlsx')\n",
    "df_218_5p = pd.read_excel('/Users/bryan/Studio/tools/glu_24218_5p_11Me.xlsx')\n",
    "# df_204_3p = pd.read_excel('/Users/bryan/Studio/tools/glu_24204_3p_67U.xlsx')\n",
    "# df_204_5p = pd.read_excel('/Users/bryan/Studio/tools/glu_24204_5p_67U.xlsx')"
   ]
  },
  {
   "cell_type": "code",
   "execution_count": null,
   "id": "conventional-dubai",
   "metadata": {},
   "outputs": [],
   "source": [
    "df_204_5p.Mass[:15]"
   ]
  },
  {
   "cell_type": "code",
   "execution_count": null,
   "id": "juvenile-input",
   "metadata": {},
   "outputs": [],
   "source": [
    "dfm_a = match_dfs(df_204_5p, dfa_ad_alkb)\n",
    "dfm_b = match_dfs(df_204_5p, dfb_ad_alkb)\n",
    "plotly_zones(dfm_a, dfm_b)\n",
    "\n",
    "# split_mass = 6857\n",
    "# dfm_merge_189_5p = pd.concat([dfm_a[dfm_a.Mass>split_mass], dfm_b[dfm_b.Mass<split_mass]])\n",
    "# plotly_zone(dfm_merge_189_5p)\n",
    "\n",
    "# split_mass = 6707\n",
    "# dfm_merge_189_3p = pd.concat([dfm_a[dfm_a.Mass>split_mass], dfm_b[dfm_b.Mass<split_mass]])\n",
    "# plotly_zone(dfm_merge_189_3p)\n",
    "\n",
    "# split_mass = 7347 \n",
    "# dfm_merge_204_3p = pd.concat([dfm_a[dfm_a.Mass>split_mass], dfm_b[dfm_b.Mass<split_mass]])\n",
    "# plotly_zone(dfm_merge_204_3p)\n",
    "\n",
    "split_mass = 5568\n",
    "dfm_merge_204_5p = pd.concat([dfm_a[dfm_a.Mass>split_mass], dfm_b[dfm_b.Mass<split_mass]])\n",
    "plotly_zone(dfm_merge_204_5p)\n",
    "\n",
    "# split_mass = 7347 #18015\n",
    "# dfm_merge_218_3p = pd.concat([dfm_a[dfm_a.Mass>split_mass], dfm_b[dfm_b.Mass<split_mass]])\n",
    "# plotly_zone(dfm_merge_218_3p)\n",
    "\n",
    "# split_mass = 12960#20036\n",
    "# dfm_merge_218_5p = pd.concat([dfm_a[dfm_a.Mass>split_mass], dfm_b[dfm_b.Mass<split_mass]])\n",
    "# plotly_zone(dfm_merge_218_5p)\n",
    "\n",
    "# split_mass = 10030\n",
    "# dfm_merge_232_3p = pd.concat([dfm_a[dfm_a.Mass>split_mass], dfm_b[dfm_b.Mass<split_mass]])\n",
    "# plotly_zone(dfm_merge_232_3p)\n",
    "\n",
    "# split_mass = 15536\n",
    "# dfm_merge_232_5p = pd.concat([dfm_a[dfm_a.Mass>split_mass], dfm_b[dfm_b.Mass<split_mass]])\n",
    "# plotly_zone(dfm_merge_232_5p)\n",
    "\n",
    "# split_mass = 6850\n",
    "# dfm_merge_217_5p = pd.concat([dfm_a[dfm_a.Mass>split_mass], dfm_b[dfm_b.Mass<split_mass]])\n",
    "# plotly_zone(dfm_merge_217_5p)\n",
    "\n",
    "# split_mass = 6850\n",
    "# dfm_merge_203_5p = pd.concat([dfm_a[dfm_a.Mass>split_mass], dfm_b[dfm_b.Mass<split_mass]])\n",
    "# plotly_zone(dfm_merge_203_5p)\n",
    "\n",
    "# split_mass = 7360\n",
    "# dfm_merge_217_3p = pd.concat([dfm_a[dfm_a.Mass>split_mass], dfm_b[dfm_b.Mass<split_mass]])\n",
    "# plotly_zone(dfm_merge_217_3p)\n",
    "\n",
    "# split_mass = 7347\n",
    "# dfm_merge_203_3p = pd.concat([dfm_a[dfm_a.Mass>split_mass], dfm_b[dfm_b.Mass<split_mass]])\n",
    "# plotly_zone(dfm_merge_203_3p)"
   ]
  },
  {
   "cell_type": "code",
   "execution_count": null,
   "id": "skilled-jaguar",
   "metadata": {},
   "outputs": [],
   "source": [
    "# dfm_merge_217_5p.to_excel('~/Downloads/dfm_merge_217_5p.xlsx')\n",
    "# dfm_merge_217_3p.to_excel('~/Downloads/dfm_merge_217_3p.xlsx')\n",
    "# dfm_merge_203_3p.to_excel('~/Downloads/dfm_merge_203_3p.xlsx')\n",
    "# dfm_merge_203_5p.to_excel('~/Downloads/dfm_merge_203_5p.xlsx')\n",
    "# dfm_merge_232_5p.to_excel('~/Downloads/dfm_merge_232_5p.xlsx')\n",
    "# dfm_merge_232_3p.to_excel('~/Downloads/dfm_merge_232_3p.xlsx')\n",
    "# dfm_merge_218_3p.to_excel('~/Downloads/dfm_merge_218_3p.xlsx')\n",
    "# dfm_merge_218_5p.to_excel('~/Downloads/dfm_merge_218_5p.xlsx')\n",
    "\n",
    "dfm_merge_204_3p.to_excel('~/Downloads/dfm_merge_204_3p.xlsx')\n",
    "dfm_merge_204_5p.to_excel('~/Downloads/dfm_merge_204_5p.xlsx')\n",
    "\n",
    "# dfm_merge_189_3p.to_excel('~/Downloads/dfm_merge_189_3p.xlsx')\n",
    "# dfm_merge_189_5p.to_excel('~/Downloads/dfm_merge_189_5p.xlsx')"
   ]
  },
  {
   "cell_type": "code",
   "execution_count": null,
   "id": "acute-rebate",
   "metadata": {},
   "outputs": [],
   "source": [
    "dfrev = dfm_merge_218_3p.copy()\n",
    "# dfrev.Mass.max()\n",
    "dfrev.Mass = dfrev.Mass.max() + H2O - dfrev.Mass\n",
    "dfrev = dfrev[dfrev.Mass>200]\n",
    "dfrev.to_excel('~/Downloads/dfm_merge_218_3p_rev.xlsx')"
   ]
  },
  {
   "cell_type": "code",
   "execution_count": null,
   "id": "indian-muslim",
   "metadata": {},
   "outputs": [],
   "source": [
    "dfm_merge_203_3p[dfm_merge_203_3p.Mass<7000].head(30), dfm_merge_217_3p[dfm_merge_217_3p.Mass<7000].head(30)\n",
    "plotly_zones(dfm_merge_203_3p, dfm_merge_217_3p)\n",
    "dfm_merge_203_3p.shape, dfm_merge_217_3p.shape"
   ]
  },
  {
   "cell_type": "code",
   "execution_count": null,
   "id": "antique-cisco",
   "metadata": {},
   "outputs": [],
   "source": []
  },
  {
   "cell_type": "code",
   "execution_count": null,
   "id": "inner-criticism",
   "metadata": {},
   "outputs": [],
   "source": []
  },
  {
   "cell_type": "code",
   "execution_count": null,
   "id": "private-width",
   "metadata": {},
   "outputs": [],
   "source": [
    "df_tmp = df_217_5p_6mG.copy()\n",
    "dfm1 = match_dfs(df_tmp, dfa_ad)\n",
    "df_tmp.Mass += 1 +M\n",
    "dfm2 = match_dfs(df_tmp, dfa_ad)\n",
    "plotly_zones(dfm1, dfm2)"
   ]
  },
  {
   "cell_type": "code",
   "execution_count": null,
   "id": "legitimate-genesis",
   "metadata": {},
   "outputs": [],
   "source": []
  }
 ],
 "metadata": {
  "kernelspec": {
   "display_name": "Python 3",
   "language": "python",
   "name": "python3"
  },
  "language_info": {
   "codemirror_mode": {
    "name": "ipython",
    "version": 3
   },
   "file_extension": ".py",
   "mimetype": "text/x-python",
   "name": "python",
   "nbconvert_exporter": "python",
   "pygments_lexer": "ipython3",
   "version": "3.7.3"
  }
 },
 "nbformat": 4,
 "nbformat_minor": 5
}
