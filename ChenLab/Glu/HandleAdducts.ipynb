{
 "cells": [
  {
   "cell_type": "code",
   "execution_count": null,
   "id": "universal-criticism",
   "metadata": {},
   "outputs": [],
   "source": [
    "import pandas as pd\n",
    "import matplotlib"
   ]
  },
  {
   "cell_type": "code",
   "execution_count": null,
   "id": "tested-elizabeth",
   "metadata": {},
   "outputs": [],
   "source": [
    "%run data.ipynb\n",
    "%run ../modules/preprocessing.ipynb\n",
    "%run ../modules/cds.ipynb\n",
    "%run ../modules/utils.ipynb"
   ]
  },
  {
   "cell_type": "code",
   "execution_count": null,
   "id": "ambient-starter",
   "metadata": {},
   "outputs": [],
   "source": [
    "df1 = load_uc_glu(1) # Glu May control data"
   ]
  },
  {
   "cell_type": "code",
   "execution_count": null,
   "id": "distinct-minute",
   "metadata": {},
   "outputs": [],
   "source": [
    "df5 = load_uc2(5, intact=True) # Glu June control data\n",
    "# df17 = load_uc2(17)\n",
    "df17 = pd.read_excel('/Users/bryan/Documents/ChenLab/10Jun2021/degraded/DrChen_tRNA_A_Glu_FA_17.xlsx')\n",
    "df17 = thermo_df(df17)\n",
    "df18 = load_uc2(18)"
   ]
  },
  {
   "cell_type": "code",
   "execution_count": null,
   "id": "seven-surname",
   "metadata": {},
   "outputs": [],
   "source": [
    "df1_24k = df1[df1.Mass>23000]\n",
    "df5_24k = df5[df5.Mass>24000]\n"
   ]
  },
  {
   "cell_type": "code",
   "execution_count": null,
   "id": "atomic-petersburg",
   "metadata": {},
   "outputs": [],
   "source": [
    "plotly_zone(df5_24k, y='Vol')\n",
    "plotly_zone(df1_24k, y='Vol')"
   ]
  },
  {
   "cell_type": "code",
   "execution_count": null,
   "id": "laden-isolation",
   "metadata": {},
   "outputs": [],
   "source": [
    "ppm = 10\n",
    "limit = 6\n",
    "%run ../modules/preprocessing.ipynb\n",
    "\n",
    "df_samples = [df5]\n",
    "sample_names = ['5']\n",
    "intacts = [24217.31, 24203.31, 24232.29, 24189.31, 24218.33]\n",
    "# df_samples = [df2, df14, df8, df20]\n",
    "# intacts = [24146, 24132, 24145, 24131, 24160, 24147, 24176]\n",
    "\n",
    "intacts = np.array(intacts)\n",
    "cols = [f'Group_{int(intact)}' for intact in intacts]\n",
    "amino = 147.1\n",
    "# intacts += amino - H2O # Amino Acid Glu\n",
    "df_result = pd.DataFrame(columns=cols)\n",
    "for idx, df_sample in enumerate(df_samples):\n",
    "#     df_sample = df.copy()\n",
    "#     df_sample.Mass -= 146.1 - H2O\n",
    "    df_24k = df_sample[(df_sample.Mass>24000)&(df_sample.Mass<25000)&(df_sample.Vol>1E4)]\n",
    "    df_24k = df_24k.sort_values('Vol', ascending=False)#.iloc[:50].copy()\n",
    "    print('Top dots: ', df_24k.iloc[:10].Mass.tolist())\n",
    "    df_count = df_24k.copy()\n",
    "    df_count['cnt'] = 0\n",
    "    df_founds = list()\n",
    "    for intact in intacts:\n",
    "#         intact += amino - 18.0106 # amino acid glu\n",
    "        df_found = detect_combined_salts(df_24k, intact, limit=limit, ppm=ppm, amino=0)\n",
    "        df_founds.append(df_found)\n",
    "        \n",
    "#         print(df_found.shape, df_count.shape)\n",
    "        if not df_found.empty:\n",
    "            df_found = df_found.sort_values('Vol', ascending=False)\n",
    "            print('intact ', intact, 'hit ', df_found.Mass.unique().tolist())\n",
    "#             print('intact ', intact - amino +H2O, 'hit ', df_found.Mass.unique().tolist()) #\n",
    "#         df_count.loc[df_found.index, 'cnt'] += 1\n",
    "#     print(df_count.sort_values('Vol', ascending=False))\n",
    "#     print(df_founds)\n",
    "    print(f'Sample {idx}')\n",
    "    l = [df.Vol.sum()/1E3 for df in df_founds]\n",
    "    l = np.round(l, 2)\n",
    "    df_result.loc[idx] = l\n",
    "    print(l)\n",
    "    print(df_24k)\n",
    "    df_24k.to_excel('~/Downloads/glu_adducts_#{}.xlsx'.format(sample_names[idx]))\n",
    "\n",
    "print(df_result)"
   ]
  },
  {
   "cell_type": "code",
   "execution_count": null,
   "id": "similar-delaware",
   "metadata": {},
   "outputs": [],
   "source": [
    "# low, high = 3300, 6700\n",
    "low, high = 10000, 12000\n",
    "df_sample = df17.copy()\n",
    "df_zone = df_sample[(df_sample.Mass>low)&(df_sample.Mass<high)]\n",
    "df_zone = df_zone[(df_zone.RT>0.2)&(df_zone.RT<19)]\n",
    "\n",
    "df_sample2 = df18.copy()\n",
    "df_zone2 = df_sample2[(df_sample2.Mass>low)&(df_sample2.Mass<high)]\n",
    "# df_zone2 = df_zone2[(df_zone2.RT>0.2)&(df_zone2.RT<15)]\n",
    "\n",
    "# df_zone = df_sample[(df_sample.Mass>1000)&(df_sample.Mass<3000)]\n",
    "# df_zone = df_zone[(df_zone.RT>0.2)&(df_zone.RT<3.0)]\n",
    "plotly_zones(df_zone, df_zone2)\n",
    "plotly_zones(df_zone, df_zone2, y='Vol')"
   ]
  },
  {
   "cell_type": "code",
   "execution_count": null,
   "id": "devoted-stuart",
   "metadata": {},
   "outputs": [],
   "source": []
  },
  {
   "cell_type": "code",
   "execution_count": null,
   "id": "changed-refund",
   "metadata": {},
   "outputs": [],
   "source": [
    "# Choose dots\n",
    "\n",
    "idxs = list()\n",
    "# create our callback function\n",
    "def on_selection(trace, points, selector):\n",
    "    print('points {}'.format(points.point_inds) )\n",
    "    idxs.extend(points.point_inds)\n",
    "\n",
    "def on_click(trace, points, selector):\n",
    "#     print('points {}'.format(points.point_inds) )\n",
    "    idxs.extend(points.point_inds)\n",
    "\n",
    "df_sample = df_zone2\n",
    "f = zone_selection(df_sample, on_selection=on_selection, on_click=on_click)\n",
    "f"
   ]
  },
  {
   "cell_type": "code",
   "execution_count": null,
   "id": "apart-illinois",
   "metadata": {},
   "outputs": [],
   "source": [
    "df_chosen = df_sample.iloc[idxs]\n",
    "# df_zone = df_sample.drop(df_chosen.index)\n",
    "df_chosen.shape"
   ]
  },
  {
   "cell_type": "code",
   "execution_count": null,
   "id": "violent-destination",
   "metadata": {},
   "outputs": [],
   "source": [
    "df5p = df_chosen.copy()"
   ]
  },
  {
   "cell_type": "code",
   "execution_count": null,
   "id": "cosmetic-visiting",
   "metadata": {},
   "outputs": [],
   "source": [
    "df3p = df_sample.drop(df5p.index)"
   ]
  },
  {
   "cell_type": "code",
   "execution_count": null,
   "id": "anonymous-region",
   "metadata": {},
   "outputs": [],
   "source": [
    "# plotly_zones(df5p, df3p)\n",
    "plotly_zone(df5p)\n",
    "plotly_zone(df5p, y='Vol')"
   ]
  },
  {
   "cell_type": "code",
   "execution_count": null,
   "id": "capable-designer",
   "metadata": {},
   "outputs": [],
   "source": []
  },
  {
   "cell_type": "code",
   "execution_count": null,
   "id": "musical-public",
   "metadata": {},
   "outputs": [],
   "source": []
  }
 ],
 "metadata": {
  "kernelspec": {
   "display_name": "Python 3",
   "language": "python",
   "name": "python3"
  },
  "language_info": {
   "codemirror_mode": {
    "name": "ipython",
    "version": 3
   },
   "file_extension": ".py",
   "mimetype": "text/x-python",
   "name": "python",
   "nbconvert_exporter": "python",
   "pygments_lexer": "ipython3",
   "version": "3.7.3"
  }
 },
 "nbformat": 4,
 "nbformat_minor": 5
}
