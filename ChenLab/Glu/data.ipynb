{
 "cells": [
  {
   "cell_type": "code",
   "execution_count": null,
   "id": "finite-lightweight",
   "metadata": {},
   "outputs": [],
   "source": [
    "import pandas as pd"
   ]
  },
  {
   "cell_type": "code",
   "execution_count": null,
   "id": "geological-agreement",
   "metadata": {},
   "outputs": [],
   "source": [
    "%run ../../modules/utils.ipynb"
   ]
  },
  {
   "cell_type": "code",
   "execution_count": null,
   "id": "thousand-witch",
   "metadata": {},
   "outputs": [],
   "source": [
    "glu_rsv_masses = [24189.22, 24203.25, 24217.24]\n",
    "glu_mock_masses = [24189.23, 24203.24, 24217.27]\n",
    "glu_isoforms = [int(x) for x in glu_rsv_masses]"
   ]
  },
  {
   "cell_type": "code",
   "execution_count": null,
   "id": "oriental-blast",
   "metadata": {},
   "outputs": [],
   "source": [
    "glu_uc_masses = [24189.29, 24203.29, 24217.3, 24232.29]\n",
    "glu_uc_ak_masses = [24189.28, 24204.29, 24218.32, 24219.27]\n",
    "glu_uc_direct_masses = [24217.3, 24203.29, 24185.27]\n",
    "glu_uc_direct_ak_masses = [24203.29, 24204.29, 24218.32] #24217.3, \n",
    "glu_uc_direct_merge_masses = [24203.29, 24204.29, 24217.3]\n",
    "\n",
    "glu_uc_isoforms = [int(x) for x in glu_uc_masses]\n",
    "glu_uc_ak_isoforms = [int(x) for x in glu_uc_ak_masses]\n",
    "glu_uc_direct_isoforms = [int(x) for x in glu_uc_direct_masses]\n",
    "glu_uc_direct_ak_isoforms = [int(x) for x in glu_uc_direct_ak_masses]\n",
    "glu_uc_direct_merge_isoforms = [int(x) for x in glu_uc_direct_merge_masses]"
   ]
  },
  {
   "cell_type": "code",
   "execution_count": null,
   "id": "rotary-convenience",
   "metadata": {},
   "outputs": [],
   "source": [
    "def load_glu_mock(ad=True):\n",
    "    if ad:\n",
    "        data_src = '~/Documents/BioPharmaFinder/BaoLab/FirstBatch/Excels/S2to5combined_20ul_40min.xlsx'\n",
    "    else:\n",
    "        data_src = '~/Documents/BioPharmaFinder/BaoLab/FirstBatch/Excels/1_Mock_10ul_9min_NewOmics_std.xlsx'\n",
    "    \n",
    "    df = pd.read_excel(data_src)\n",
    "    df = thermo_df(df)\n",
    "    return df"
   ]
  },
  {
   "cell_type": "code",
   "execution_count": null,
   "id": "coordinate-insight",
   "metadata": {},
   "outputs": [],
   "source": [
    "def load_glu_rsv(ad=True):\n",
    "    if ad:\n",
    "        data_src = '~/Documents/BioPharmaFinder/BaoLab/FirstBatch/Excels/S6to10combined_20ul_40min.xlsx'\n",
    "    else:\n",
    "        data_src = '~/Documents/BioPharmaFinder/BaoLab/FirstBatch/Excels/6_RSV1_10ul_9min_NewOmics_std.xlsx'\n",
    "    \n",
    "    df = pd.read_excel(data_src)\n",
    "    df = thermo_df(df)\n",
    "    return df"
   ]
  },
  {
   "cell_type": "code",
   "execution_count": null,
   "id": "modular-tradition",
   "metadata": {},
   "outputs": [],
   "source": [
    "def filter_25k(df, low=23000, high=26000):\n",
    "    df_25k = df[(df.Mass>low) & (df.Mass<high)]\n",
    "    return df_25k"
   ]
  },
  {
   "cell_type": "code",
   "execution_count": null,
   "id": "upset-symbol",
   "metadata": {},
   "outputs": [],
   "source": [
    "def load_uc_glu(idx, more=False):\n",
    "    name = f'~/Documents/Data/UC/UC_Glu_{idx}.xlsx'\n",
    "    if more:\n",
    "        name = f'~/Documents/Data/UC/UC_Glu_{idx}_new.xlsx'\n",
    "    df = pd.read_excel(name)\n",
    "    df = thermo_df(df)\n",
    "    return df"
   ]
  },
  {
   "cell_type": "code",
   "execution_count": null,
   "id": "permanent-perry",
   "metadata": {},
   "outputs": [],
   "source": [
    "ref = '../RefSeqs/'"
   ]
  },
  {
   "cell_type": "code",
   "execution_count": null,
   "id": "headed-growth",
   "metadata": {},
   "outputs": [],
   "source": [
    "def load_ref(name):\n",
    "    name = f'{ref}/{name}.xlsx'\n",
    "    df = pd.read_excel(name)\n",
    "    return df"
   ]
  },
  {
   "cell_type": "code",
   "execution_count": null,
   "id": "identical-telescope",
   "metadata": {},
   "outputs": [],
   "source": [
    "uc2 = '~/Documents/ChenLab/10Jun2021/'"
   ]
  },
  {
   "cell_type": "code",
   "execution_count": null,
   "id": "expensive-equipment",
   "metadata": {},
   "outputs": [],
   "source": [
    "def load_uc2(idx, intact=False):\n",
    "    names = {5: '5_A_Glu', 6: '6_A_Glu_A', 18: '18_Glu_A', 17: '17_Glu',\n",
    "             #17: 'DrChen_tRNA_A_Glu_FA_17',\n",
    "            13: '13_Gln', 14: '14_Gln_A', 19: '19_B_Gln', 20: '20_B_Gln_A',\n",
    "            15: '15_A_Lys', 16: '16_A_Lys_A', 21: '21_B_Lys', 22: '22_B_Lys_A',\n",
    "            23: '23_t_Cys', 24: '24_t_Cys_A',\n",
    "            27: '27_C_Leu_A_FA', 28: '28_C_Leu_FA'}\n",
    "    if intact:\n",
    "        names = {1: '1_A_Gln', 2: '2_A_Gln_A', 7: '7_B_Gln', 8: '8_B_Gln_A',\n",
    "                 5: '5_A_Glu', 6: '6_A_Glu_A',\n",
    "                 11: '11_DrChen_tRNA_t_Cys', 12: '12_DrChen_tRNA_t_Cys_A'}\n",
    "    folder = 'degraded' if idx > 12 else 'intact'\n",
    "    name = f'{uc2}/{folder}/{names[idx]}.xlsx'\n",
    "    df = pd.read_excel(name)\n",
    "    df = thermo_df(df)\n",
    "    return df"
   ]
  },
  {
   "cell_type": "code",
   "execution_count": null,
   "id": "ancient-wrong",
   "metadata": {},
   "outputs": [],
   "source": [
    "def load_glu_data_mock(isoform, orientation=5, refined=False):\n",
    "    data_src = f'~/Documents/BioTechData/Glu/Mock/{isoform}/{orientation}p_gapfill.xlsx'\n",
    "    if refined:\n",
    "        data_src = f'~/Documents/BioTechData/Glu/Mock/{isoform}/{orientation}p_gapfill_analysis.xlsx'\n",
    "    df = pd.read_excel(data_src)\n",
    "    df = thermo_df(df)\n",
    "    return df\n",
    "\n",
    "def load_glu_data_rsv(isoform, orientation=5, refined=False):\n",
    "    data_src = f'~/Documents/BioTechData/Glu/RSV/{isoform}/{orientation}p_gapfill.xlsx'\n",
    "    if refined:\n",
    "        data_src = f'~/Documents/BioTechData/Glu/RSV/{isoform}/{orientation}p_gapfill_analysis.xlsx'\n",
    "    df = pd.read_excel(data_src)\n",
    "    df = thermo_df(df)\n",
    "    return df\n",
    "\n",
    "def load_glu_direct_ut_data(mode, isoform, orientation=5, refined=False):\n",
    "    data_src = f'~/Documents/BioTechData/GluDirect/{mode}/{isoform}_{orientation}p.xlsx'\n",
    "    if refined:\n",
    "        data_src = f'~/Documents/BioTechData/GluDirect/{mode}/{isoform}_{orientation}p_analysis.xlsx'\n",
    "    df = pd.read_excel(data_src)\n",
    "    df = thermo_df(df)\n",
    "    return df"
   ]
  },
  {
   "cell_type": "code",
   "execution_count": null,
   "id": "cosmetic-transcript",
   "metadata": {},
   "outputs": [],
   "source": []
  },
  {
   "cell_type": "code",
   "execution_count": null,
   "id": "accredited-injection",
   "metadata": {},
   "outputs": [],
   "source": [
    "def dump_glu_mock_seats(df, isoform, orientation):\n",
    "    name = f'~/Documents/BioTechData/Glu/Mock/{isoform}/{orientation}p_seats.xlsx'\n",
    "    df.to_excel(name)"
   ]
  },
  {
   "cell_type": "code",
   "execution_count": null,
   "id": "funded-vacuum",
   "metadata": {},
   "outputs": [],
   "source": [
    "def dump_glu_rsv_seats(df, isoform, orientation):\n",
    "    name = f'~/Documents/BioTechData/Glu/RSV/{isoform}/{orientation}p_seats.xlsx'\n",
    "    df.to_excel(name)"
   ]
  },
  {
   "cell_type": "code",
   "execution_count": null,
   "id": "younger-soccer",
   "metadata": {},
   "outputs": [],
   "source": [
    "def dump_glu_uc_mock_seats(df, isoform, orientation):\n",
    "    name = f'~/Documents/BioTechData/GluUC/Mock/{isoform}/{orientation}p_seats.xlsx'\n",
    "    df.to_excel(name)\n",
    "\n",
    "def dump_glu_uc_ak_seats(df, isoform, orientation):\n",
    "    name = f'~/Documents/BioTechData/GluUC/AlkaB/{isoform}/{orientation}p_seats.xlsx'\n",
    "    df.to_excel(name)"
   ]
  },
  {
   "cell_type": "code",
   "execution_count": null,
   "id": "native-client",
   "metadata": {},
   "outputs": [],
   "source": [
    "def load_glu_data_uc_mock(isoform, orientation=5, refined=False):\n",
    "    data_src = f'~/Documents/BioTechData/GluUC/Mock/{isoform}/{orientation}p_gapfill.xlsx'\n",
    "    if refined:\n",
    "        data_src = f'~/Documents/BioTechData/GluUC/Mock/{isoform}/{orientation}p_gapfill_analysis.xlsx'\n",
    "    df = pd.read_excel(data_src)\n",
    "    df = thermo_df(df)\n",
    "    return df\n",
    "\n",
    "def load_glu_data_uc_ak(isoform, orientation=5, refined=False):\n",
    "    data_src = f'~/Documents/BioTechData/GluUC/AlkaB/{isoform}/{orientation}p_gapfill.xlsx'\n",
    "    if refined:\n",
    "        data_src = f'~/Documents/BioTechData/GluUC/AlkaB/{isoform}/{orientation}p_gapfill_analysis.xlsx'\n",
    "    df = pd.read_excel(data_src)\n",
    "    df = thermo_df(df)\n",
    "    return df"
   ]
  },
  {
   "cell_type": "code",
   "execution_count": null,
   "id": "conceptual-postage",
   "metadata": {},
   "outputs": [],
   "source": [
    "def load_glu_direct_data_uc_mock(isoform, orientation=5, refined=False):\n",
    "    data_src = f'~/Documents/BioTechData/GluUCDirect/Mock/{isoform}_{orientation}p.xlsx'\n",
    "    if refined:\n",
    "        data_src = f'~/Documents/BioTechData/GluUCDirect/Mock/{isoform}_{orientation}p_analysis.xlsx'\n",
    "    df = pd.read_excel(data_src)\n",
    "    df = thermo_df(df)\n",
    "    return df\n",
    "\n",
    "def load_glu_direct_data_uc_ak(isoform, orientation=5, refined=False):\n",
    "    data_src = f'~/Documents/BioTechData/GluUCDirect/AlkaB/{isoform}_{orientation}p.xlsx'\n",
    "    if refined:\n",
    "        data_src = f'~/Documents/BioTechData/GluUCDirect/AlkaB/{isoform}_{orientation}p_analysis.xlsx'\n",
    "    df = pd.read_excel(data_src)\n",
    "    df = thermo_df(df)\n",
    "    return df\n",
    "\n",
    "def load_glu_direct_data(mode, isoform, orientation=5, refined=False):\n",
    "    data_src = f'~/Documents/BioTechData/GluUCDirect/{mode}/{isoform}_{orientation}p.xlsx'\n",
    "    if refined:\n",
    "        data_src = f'~/Documents/BioTechData/GluUCDirect/{mode}/{isoform}_{orientation}p_analysis.xlsx'\n",
    "    df = pd.read_excel(data_src)\n",
    "    df = thermo_df(df)\n",
    "    return df"
   ]
  }
 ],
 "metadata": {
  "kernelspec": {
   "display_name": "Python 3",
   "language": "python",
   "name": "python3"
  },
  "language_info": {
   "codemirror_mode": {
    "name": "ipython",
    "version": 3
   },
   "file_extension": ".py",
   "mimetype": "text/x-python",
   "name": "python",
   "nbconvert_exporter": "python",
   "pygments_lexer": "ipython3",
   "version": "3.7.3"
  }
 },
 "nbformat": 4,
 "nbformat_minor": 5
}
