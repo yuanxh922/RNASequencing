{
 "cells": [
  {
   "cell_type": "code",
   "execution_count": null,
   "id": "alternative-neighborhood",
   "metadata": {},
   "outputs": [],
   "source": [
    "import pandas as pd"
   ]
  },
  {
   "cell_type": "code",
   "execution_count": null,
   "id": "anonymous-squad",
   "metadata": {},
   "outputs": [],
   "source": [
    "%run data.ipynb"
   ]
  },
  {
   "cell_type": "code",
   "execution_count": null,
   "id": "turkish-owner",
   "metadata": {},
   "outputs": [],
   "source": [
    "df = pd.read_excel('/Users/bryan/Documents/BioTechData/GluUC/Mock/24203/5p_gapfill.xlsx')\n",
    "# df = thermo_df(df)\n",
    "# df = load_glu_data_uc_mock(24203)\n",
    "df.info()"
   ]
  },
  {
   "cell_type": "code",
   "execution_count": null,
   "id": "sexual-queensland",
   "metadata": {},
   "outputs": [],
   "source": [
    "dfa = df[df.isSkeleton==True]\n",
    "dfb = df[df.isSkeleton==False]\n",
    "plotly_zones(dfa, dfb, )"
   ]
  },
  {
   "cell_type": "code",
   "execution_count": null,
   "id": "french-tunisia",
   "metadata": {},
   "outputs": [],
   "source": [
    "# df_tmp = df_acu.copy()\n",
    "# df_match_rsv = match_dfs(df_tmp, df_rsv_ad)\n",
    "# df_match_rsv.RT /= 21.58822\n",
    "\n",
    "# df_tmp.Mass -= 18\n",
    "# df_match_rsv_trf = match_dfs(df_tmp, df_rsv)\n",
    "# df_match_rsv_trf.RT /= 3.2047\n",
    "\n",
    "# dfa = df_match_rsv.copy()\n",
    "# dfb = df_match_rsv_trf.copy()\n",
    "# dfa['type'] = 'tRNA'\n",
    "# dfb['type'] = 'tRF'\n",
    "# df_merge = pd.concat([dfa, dfb])\n",
    "# df_merge.to_excel('/Users/bryan/Documents/Data/Glu_tRFs/rsv.xlsx')\n",
    "\n",
    "plotly_zones(dfa, dfb, names=['Skeleton', 'Gap dots'])\n",
    "\n",
    "plt, fig = plot_zones(dfa, dfb, names=['tRNA', 'tRF'])\n",
    "# fig.tight_layout()\n",
    "# plt.savefig('/Users/bryan/Documents/BioPharmaFinder/Draw/Outputs_Fig4/rsv_trna_trf.svg', transparent=True, dpi=300)\n",
    "\n"
   ]
  },
  {
   "cell_type": "code",
   "execution_count": null,
   "id": "veterinary-circular",
   "metadata": {},
   "outputs": [],
   "source": []
  }
 ],
 "metadata": {
  "kernelspec": {
   "display_name": "Python 3",
   "language": "python",
   "name": "python3"
  },
  "language_info": {
   "codemirror_mode": {
    "name": "ipython",
    "version": 3
   },
   "file_extension": ".py",
   "mimetype": "text/x-python",
   "name": "python",
   "nbconvert_exporter": "python",
   "pygments_lexer": "ipython3",
   "version": "3.7.3"
  }
 },
 "nbformat": 4,
 "nbformat_minor": 5
}
