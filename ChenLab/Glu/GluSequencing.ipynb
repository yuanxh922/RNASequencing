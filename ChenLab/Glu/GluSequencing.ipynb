{
 "cells": [
  {
   "cell_type": "code",
   "execution_count": null,
   "id": "superior-hometown",
   "metadata": {},
   "outputs": [],
   "source": [
    "import pandas as pd\n",
    "import matplotlib\n",
    "\n",
    "import matplotlib.cm as cm"
   ]
  },
  {
   "cell_type": "code",
   "execution_count": null,
   "id": "usual-russia",
   "metadata": {},
   "outputs": [],
   "source": [
    "%run data.ipynb\n",
    "%run ../modules/preprocessing.ipynb\n",
    "%run ../modules/cds.ipynb\n",
    "%run ../modules/utils.ipynb"
   ]
  },
  {
   "cell_type": "code",
   "execution_count": null,
   "id": "organized-essence",
   "metadata": {},
   "outputs": [],
   "source": [
    "from datetime import datetime\n",
    "def print_now():\n",
    "    now = datetime.now()\n",
    "    print(now.strftime('%m/%d/%Y %H:%M:%S'))"
   ]
  },
  {
   "cell_type": "code",
   "execution_count": null,
   "id": "wound-belarus",
   "metadata": {},
   "outputs": [],
   "source": [
    "# Yue's Data\n",
    "df1 = pd.read_excel('~/Documents/ChenLab/DataYue/Glu/DrChen_tRNA_s1.xlsx')\n",
    "df2 = pd.read_excel('~/Documents/ChenLab/DataYue/Glu/UC_glu_2_new.xlsx')\n",
    "df1_ad = pd.read_excel('~/Documents/ChenLab/DataYue/Glu/DrChen_tRNAs5_complete.xlsx')\n",
    "df2_ad = pd.read_excel('~/Documents/ChenLab/DataYue/Glu/DrChen_tRNAs6_complete.xlsx')\n",
    "\n",
    "df1 = thermo_df(df1)\n",
    "df2 = thermo_df(df2)\n",
    "df1_ad = thermo_df(df1_ad)\n",
    "df2_ad = thermo_df(df2_ad)\n",
    "print_now()"
   ]
  },
  {
   "cell_type": "code",
   "execution_count": null,
   "id": "lucky-soccer",
   "metadata": {},
   "outputs": [],
   "source": [
    "# My Data, May\n",
    "df1 = load_uc_glu(1) # Glu May control data\n",
    "df2 = load_uc_glu(2) # Glu May control data\n",
    "\n",
    "df1_ad = load_uc_glu(5, True) # Glu May AD data\n",
    "df2_ad = load_uc_glu(6, True) # Glu May AD data\n",
    "print_now()"
   ]
  },
  {
   "cell_type": "code",
   "execution_count": null,
   "id": "light-external",
   "metadata": {},
   "outputs": [],
   "source": [
    "# June Date\n",
    "df1 = load_uc2(5, intact=True) # Glu June control data\n",
    "df2 = load_uc2(6, intact=True)\n",
    "# df1_ad = load_uc2(17)\n",
    "df1_ad = pd.read_excel('/Users/bryan/Documents/ChenLab/10Jun2021/degraded/DrChen_tRNA_A_Glu_FA_17.xlsx')\n",
    "df1_ad = thermo_df(df1_ad)\n",
    "df2_ad = load_uc2(18)\n",
    "print_now()"
   ]
  },
  {
   "cell_type": "code",
   "execution_count": null,
   "id": "determined-pharmacology",
   "metadata": {},
   "outputs": [],
   "source": [
    "df1_24k = df1[df1.Mass>23000]\n",
    "df2_24k = df2[df2.Mass>23000]\n",
    "df1_ad_24k = df1_ad[(df1_ad.Mass>24000)&(df1_ad.Mass<25000)]\n",
    "df2_ad_24k = df2_ad[(df2_ad.Mass>24000)&(df2_ad.Mass<25000)]\n",
    "\n"
   ]
  },
  {
   "cell_type": "code",
   "execution_count": null,
   "id": "opposite-essex",
   "metadata": {},
   "outputs": [],
   "source": [
    "plotly_zone(df1_24k, y='Vol')\n",
    "df1_24k.sort_values('Vol', ascending=False).iloc[:30]"
   ]
  },
  {
   "cell_type": "code",
   "execution_count": null,
   "id": "responsible-mississippi",
   "metadata": {},
   "outputs": [],
   "source": [
    "df_217_5p = pd.read_excel('~/Studio/tools/glu_24217_5p_6mG.xlsx')\n",
    "df_217_3p = pd.read_excel('~/Studio/tools/glu_24217_3p_6mG.xlsx')\n",
    "df_203_5p = pd.read_excel('~/Studio/tools/glu_24203_5p_6mG.xlsx')\n",
    "df_203_3p = pd.read_excel('~/Studio/tools/glu_24203_3p_6mG.xlsx')"
   ]
  },
  {
   "cell_type": "code",
   "execution_count": null,
   "id": "bronze-crowd",
   "metadata": {},
   "outputs": [],
   "source": [
    "df_sample = df2_ad\n",
    "df_tops = local_top_range(df_sample, range=(0,8))\n",
    "df_tops.shape"
   ]
  },
  {
   "cell_type": "code",
   "execution_count": null,
   "id": "promising-destruction",
   "metadata": {},
   "outputs": [],
   "source": [
    "# plotly_zone(df_sample)\n",
    "dft = df_203_3p.copy()\n",
    "# dft.Mass += 1\n",
    "dfm = match_dfs(dft, df_sample)\n",
    "dft.Mass -= M\n",
    "dfm_1 = match_dfs(dft, df_sample)\n",
    "\n",
    "# plot_multi_zones([dfm, dfm_1])\n",
    "plot_zone(dfm)\n",
    "plotly_zone(dfm_1)\n",
    "\n",
    "# low, high = 5400, 9400\n",
    "# dfa = dfm[(dfm.Mass>low) & (dfm.Mass<high)].copy()\n",
    "# dfb = dfm_k[(dfm_k.Mass>low) & (dfm_k.Mass<high)].copy()\n",
    "# dfa['type'] = 'Regular'\n",
    "# dfb['type'] = 'Regular+K'\n",
    "# pd.concat([dfa, dfb]).to_excel('~/Downloads/m5Um_and_K.xlsx')"
   ]
  },
  {
   "cell_type": "code",
   "execution_count": null,
   "id": "posted-barbados",
   "metadata": {},
   "outputs": [],
   "source": []
  },
  {
   "cell_type": "code",
   "execution_count": null,
   "id": "twenty-ranking",
   "metadata": {},
   "outputs": [],
   "source": [
    "df_top = df_sample[df_sample.Mass>2800].sort_values('Vol', ascending=False).iloc[:300]\n",
    "plotly_zone(df_top)\n",
    "bcr = base_calling_random(df_top)\n",
    "plotly_basecalling(*bcr)\n",
    "len(bcr[1])"
   ]
  },
  {
   "cell_type": "code",
   "execution_count": null,
   "id": "stock-christopher",
   "metadata": {},
   "outputs": [],
   "source": [
    "# df_top = df_sample[df_sample.Mass>2800].sort_values('Vol', ascending=False).iloc[:300]\n",
    "df_top = local_top(df1_ad, step=320, top=20)\n",
    "plotly_zone(df_top)\n",
    "bcr = base_calling_random(df_top)\n",
    "# plotly_basecalling(*bcr)\n",
    "len(bcr[1])"
   ]
  },
  {
   "cell_type": "code",
   "execution_count": null,
   "id": "sporting-north",
   "metadata": {},
   "outputs": [],
   "source": [
    "df_win = df_sample[(df_sample.Mass>5200)&(df_sample.Mass<5520)]\n",
    "plotly_zones(df_sample, df_win)"
   ]
  },
  {
   "cell_type": "code",
   "execution_count": null,
   "id": "japanese-trading",
   "metadata": {},
   "outputs": [],
   "source": [
    "top_list = list(range(1, 30))\n",
    "count_list = list()\n",
    "for top in top_list:\n",
    "    df_top = local_top(df_sample, top=top)\n",
    "    bcr = base_calling_random(df_top)\n",
    "    count_list.append(len(bcr[1]))\n",
    "\n",
    "print(top_list, count_list)\n",
    "fig = plt.figure(figsize=(3, 2))\n",
    "plt.scatter(x=top_list, y=count_list)\n",
    "fig.tight_layout()\n",
    "svg_name = 'basecalling_count_glu_17_low'\n",
    "fpath = f'/Users/bryan/Downloads/{svg_name}.svg'\n",
    "plt.savefig(fpath, dpi=600, transparent=True)"
   ]
  },
  {
   "cell_type": "code",
   "execution_count": null,
   "id": "hairy-heavy",
   "metadata": {},
   "outputs": [],
   "source": [
    "plotly_zone(df_tops[df_tops.Mass>1900], y='RT')\n",
    "# plotly_zone(df_tops[df_tops.Mass>1900], y='Vol')\n",
    "df_zone = df_sample[(df_sample.Mass>1900)&(df_sample.Mass<24000)]\n",
    "plotly_zone(df_zone, y='RT')\n",
    "plotly_zone(df_zone, y='Vol')\n"
   ]
  },
  {
   "cell_type": "code",
   "execution_count": null,
   "id": "buried-kitchen",
   "metadata": {},
   "outputs": [],
   "source": [
    "bcr = base_calling_random(df_tops)\n",
    "plotly_basecalling(*bcr)"
   ]
  },
  {
   "cell_type": "code",
   "execution_count": null,
   "id": "lasting-chapel",
   "metadata": {},
   "outputs": [],
   "source": [
    "\n",
    "df_203_5p = pd.read_excel('~/Studio/tools/glu_24203_5p_6mG.xlsx')\n",
    "df_203_3p = pd.read_excel('~/Studio/tools/glu_24203_3p_6mG.xlsx')"
   ]
  },
  {
   "cell_type": "code",
   "execution_count": null,
   "id": "after-seventh",
   "metadata": {},
   "outputs": [],
   "source": [
    "dft = df_203_3p.copy()\n",
    "dfm1 = match_dfs(dft, df_sample)\n",
    "dft.Mass += M\n",
    "dfm2 = match_dfs(dft, df_sample)\n",
    "plotly_zones(dfm1, dfm2)\n",
    "plotly_zones(dfm1, dfm2, y='Vol')\n",
    "dfm = df_203_3p.copy()\n",
    "# dfm['Mass'] = "
   ]
  },
  {
   "cell_type": "code",
   "execution_count": null,
   "id": "fitting-valuable",
   "metadata": {},
   "outputs": [],
   "source": []
  }
 ],
 "metadata": {
  "kernelspec": {
   "display_name": "Python 3",
   "language": "python",
   "name": "python3"
  },
  "language_info": {
   "codemirror_mode": {
    "name": "ipython",
    "version": 3
   },
   "file_extension": ".py",
   "mimetype": "text/x-python",
   "name": "python",
   "nbconvert_exporter": "python",
   "pygments_lexer": "ipython3",
   "version": "3.7.3"
  }
 },
 "nbformat": 4,
 "nbformat_minor": 5
}
