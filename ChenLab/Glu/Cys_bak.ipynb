{
 "cells": [
  {
   "cell_type": "code",
   "execution_count": null,
   "id": "noticed-christmas",
   "metadata": {},
   "outputs": [],
   "source": [
    "import pandas as pd\n",
    "import matplotlib"
   ]
  },
  {
   "cell_type": "code",
   "execution_count": null,
   "id": "greatest-carpet",
   "metadata": {},
   "outputs": [],
   "source": [
    "%run data.ipynb\n",
    "%run ../modules/preprocessing.ipynb\n",
    "%run ../modules/cds.ipynb\n",
    "%run ../modules/utils.ipynb"
   ]
  },
  {
   "cell_type": "code",
   "execution_count": null,
   "id": "proper-imaging",
   "metadata": {},
   "outputs": [],
   "source": [
    "df23 = load_uc2(23)\n",
    "df24 = load_uc2(24)\n",
    "# df23 = pd.read_excel('~/Downloads/DrChen_tRNA_t_Cys_FA.xlsx')\n",
    "# df24 = pd.read_excel('~/Downloads/DrChen_tRNA_t_Cys_A_FA.xlsx')\n",
    "# df23 = thermo_df(df23)\n",
    "# df24 = thermo_df(df24)\n",
    "df23.shape, df24.shape"
   ]
  },
  {
   "cell_type": "code",
   "execution_count": null,
   "id": "pharmaceutical-rugby",
   "metadata": {},
   "outputs": [],
   "source": [
    "df11 = load_uc2(11, intact=True)\n",
    "df12 = load_uc2(12, intact=True)\n",
    "df11.shape, df12.shape"
   ]
  },
  {
   "cell_type": "code",
   "execution_count": null,
   "id": "simplified-sociology",
   "metadata": {},
   "outputs": [],
   "source": [
    "plotly_zone(df11)"
   ]
  },
  {
   "cell_type": "code",
   "execution_count": null,
   "id": "english-vision",
   "metadata": {},
   "outputs": [],
   "source": [
    "\n",
    "df_src = df23.copy()\n",
    "# df_src = df_chosen.copy()\n",
    "plotly_zone(df_src)"
   ]
  },
  {
   "cell_type": "code",
   "execution_count": null,
   "id": "ranging-syndication",
   "metadata": {},
   "outputs": [],
   "source": [
    "# direct sequencing\n",
    "\n",
    "df_sample = df_src #df_src\n",
    "df_top = df_sample[(df_sample.Mass>2400)&(df_sample.Mass<22000)].sort_values('Vol', ascending=False).iloc[:200].copy()\n",
    "# df_top = df_sample.copy()\n",
    "# plotly_zone(df_top4\n",
    "\n",
    "# df_salts = list()\n",
    "# for salt in [21.9819, 37.9558, 34.9694, 27.9949, 56.92]:\n",
    "#     df_salt = match_dfs(df_top, df_top, shift=salt)\n",
    "#     df_top = df_top.drop(df_salt.index)\n",
    "#     df_salts.append(df_salt)\n",
    "# df_salts = pd.concat(df_salts)\n",
    "# plotly_zones(df_top, df_salts)\n",
    "\n",
    "bcr = base_calling_random(df_top)\n",
    "plotly_basecalling(*bcr, annotate=False)\n",
    "# groups = basecalling_groups(df_top)\n",
    "# plotly_basecalling(*groups[0], annotate=False)\n",
    "\n",
    "dfm1 = match_dfs(bcr[0], df_sample, shift=-1*M)\n",
    "dfm2 = match_dfs(bcr[0], df_sample, shift=1*M)\n",
    "# plotly_multi_zones([bcr[0], dfm1, dfm2])\n",
    "if not dfm1.empty:\n",
    "    plotly_zones(bcr[0], dfm1)"
   ]
  },
  {
   "cell_type": "code",
   "execution_count": null,
   "id": "fixed-iraqi",
   "metadata": {},
   "outputs": [],
   "source": [
    "target = 10938\n",
    "dfa = df_src[(df_src.Mass>target-1)&(df_src.Mass<target+1)]\n",
    "target += M\n",
    "dfb = df_src[(df_src.Mass>target-1)&(df_src.Mass<target+1)]\n",
    "dfa, dfb"
   ]
  },
  {
   "cell_type": "code",
   "execution_count": null,
   "id": "falling-validity",
   "metadata": {},
   "outputs": [],
   "source": []
  },
  {
   "cell_type": "code",
   "execution_count": null,
   "id": "magnetic-transmission",
   "metadata": {},
   "outputs": [],
   "source": []
  },
  {
   "cell_type": "code",
   "execution_count": null,
   "id": "preceding-marble",
   "metadata": {},
   "outputs": [],
   "source": [
    "# Choose dots\n",
    "\n",
    "idxs = list()\n",
    "# create our callback function\n",
    "def on_selection(trace, points, selector):\n",
    "    print('points {}'.format(points.point_inds) )\n",
    "    idxs.extend(points.point_inds)\n",
    "\n",
    "def on_click(trace, points, selector):\n",
    "#     print('points {}'.format(points.point_inds) )\n",
    "    idxs.extend(points.point_inds)\n",
    "\n",
    "# df_sample = df_top\n",
    "df_sample = df_src[(df_src.Mass>2400)&(df_src.Mass<5000)]\n",
    "f = zone_selection(df_sample, on_selection=on_selection, on_click=on_click)\n",
    "f"
   ]
  },
  {
   "cell_type": "code",
   "execution_count": null,
   "id": "increased-wrong",
   "metadata": {},
   "outputs": [],
   "source": [
    "df_chosen = df_sample.iloc[idxs]\n",
    "# df_zone = df_sample.drop(df_chosen.index)\n",
    "df_chosen.shape"
   ]
  },
  {
   "cell_type": "code",
   "execution_count": null,
   "id": "developed-disability",
   "metadata": {},
   "outputs": [],
   "source": [
    "df3p = df_chosen.copy()\n",
    "# plotly_zone(df3p)"
   ]
  },
  {
   "cell_type": "code",
   "execution_count": null,
   "id": "continuous-section",
   "metadata": {},
   "outputs": [],
   "source": [
    "df_sample = df3p.sort_values('Vol', ascending=False).iloc[:60]\n",
    "# df_sample = df3p\n",
    "orientation = 3\n",
    "\n",
    "# df_sf, df_salts = remove_salts(df_sample)\n",
    "df_sf = df_sample\n",
    "\n",
    "bcr = base_calling_random(df_sf)\n",
    "plotly_basecalling(*bcr, annotate=False, y='RT')\n",
    "group = bcr\n",
    "\n",
    "# groups = basecalling_groups(df_sf)\n",
    "# group = groups[0]\n",
    "# plotly_basecalling(*group, annotate=False)\n",
    "\n",
    "# output seats\n",
    "# df = process_mass_base_seats(*group, full_mass=24174, orientation=orientation)\n",
    "# df.to_excel('~/Downloads/seats.xlsx')\n",
    "\n",
    "\n",
    "dfm = match_dfs(bcr[0], df_src, shift=-1*M)\n",
    "if not dfm.empty:\n",
    "    plotly_zones(bcr[0], dfm, y='RT')"
   ]
  },
  {
   "cell_type": "code",
   "execution_count": null,
   "id": "greater-surface",
   "metadata": {},
   "outputs": [],
   "source": []
  },
  {
   "cell_type": "code",
   "execution_count": null,
   "id": "quick-machine",
   "metadata": {},
   "outputs": [],
   "source": [
    "dft = pd.read_excel('/Users/bryan/Documents/ChenLab/10Jun2021/SupportMethylData/cys_10mG_5p.xlsx')\n",
    "dft = dft.sort_values('Vol', ascending=False).iloc[:20]\n",
    "dft.info()\n",
    "bcr = base_calling_random(dft)\n",
    "plotly_basecalling(*bcr, annotate=False, y='RT')\n",
    "\n",
    "dfm = match_dfs(dft, df_src, shift=-1*M)\n",
    "plotly_zones(dft, dfm)"
   ]
  },
  {
   "cell_type": "code",
   "execution_count": null,
   "id": "unique-quebec",
   "metadata": {},
   "outputs": [],
   "source": []
  },
  {
   "cell_type": "code",
   "execution_count": null,
   "id": "broad-lebanon",
   "metadata": {},
   "outputs": [],
   "source": [
    "target = 3743\n",
    "dfa = df_src[(df_src.Mass>target-1)&(df_src.Mass<target+1)]\n",
    "target += M\n",
    "dfb = df_src[(df_src.Mass>target-1)&(df_src.Mass<target+1)]\n",
    "dfa, dfb"
   ]
  },
  {
   "cell_type": "code",
   "execution_count": null,
   "id": "dedicated-thanks",
   "metadata": {},
   "outputs": [],
   "source": [
    "# bcr[0].to_excel('~/Downloads/type_position_ori.xlsx')\n",
    "dfa = bcr[0].copy()\n",
    "dfb = dfm.copy()\n",
    "dfa['DeMethyl'] = False\n",
    "dfb['DeMethyl'] = True\n",
    "dfab = pd.concat([dfa, dfb])\n",
    "dfab.to_excel('~/Downloads/type_position_ori.xlsx')"
   ]
  },
  {
   "cell_type": "code",
   "execution_count": null,
   "id": "framed-jewelry",
   "metadata": {},
   "outputs": [],
   "source": []
  }
 ],
 "metadata": {
  "kernelspec": {
   "display_name": "Python 3",
   "language": "python",
   "name": "python3"
  },
  "language_info": {
   "codemirror_mode": {
    "name": "ipython",
    "version": 3
   },
   "file_extension": ".py",
   "mimetype": "text/x-python",
   "name": "python",
   "nbconvert_exporter": "python",
   "pygments_lexer": "ipython3",
   "version": "3.7.3"
  }
 },
 "nbformat": 4,
 "nbformat_minor": 5
}
