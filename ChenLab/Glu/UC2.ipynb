{
 "cells": [
  {
   "cell_type": "code",
   "execution_count": null,
   "id": "corresponding-bundle",
   "metadata": {},
   "outputs": [],
   "source": [
    "%run data.ipynb\n",
    "%run ../modules/preprocessing.ipynb\n",
    "%run ../modules/cds.ipynb\n",
    "%run ../modules/utils.ipynb"
   ]
  },
  {
   "cell_type": "code",
   "execution_count": null,
   "id": "arranged-foster",
   "metadata": {},
   "outputs": [],
   "source": [
    "import pandas as pd\n",
    "import matplotlib"
   ]
  },
  {
   "cell_type": "code",
   "execution_count": null,
   "id": "italic-stupid",
   "metadata": {},
   "outputs": [],
   "source": [
    "df5 = load_uc_glu(5, more=True)\n",
    "df5.shape\n",
    "df6 = load_uc_glu(6, more=True)\n",
    "df6.shape"
   ]
  },
  {
   "cell_type": "code",
   "execution_count": null,
   "id": "silent-export",
   "metadata": {},
   "outputs": [],
   "source": [
    "df5 = load_uc2(5)\n",
    "df6 = load_uc2(6)\n",
    "df5.shape, df6.shape"
   ]
  },
  {
   "cell_type": "code",
   "execution_count": null,
   "id": "elementary-awareness",
   "metadata": {},
   "outputs": [],
   "source": [
    "df17 = load_uc2(17)\n",
    "df18 = load_uc2(18)\n",
    "df17.shape, df18.shape"
   ]
  },
  {
   "cell_type": "code",
   "execution_count": null,
   "id": "nonprofit-flooring",
   "metadata": {},
   "outputs": [],
   "source": [
    "df23 = load_uc2(23)\n",
    "df24 = load_uc2(24)\n",
    "df23.shape, df24.shape"
   ]
  },
  {
   "cell_type": "code",
   "execution_count": null,
   "id": "destroyed-denmark",
   "metadata": {},
   "outputs": [],
   "source": [
    "df15 = load_uc2(15)\n",
    "df16 = load_uc2(16)\n",
    "df21 = load_uc2(21)\n",
    "df22 = load_uc2(22)\n",
    "df15.shape, df16.shape, df21.shape, df22.shape"
   ]
  },
  {
   "cell_type": "code",
   "execution_count": null,
   "id": "structured-staff",
   "metadata": {},
   "outputs": [],
   "source": [
    "df13 = load_uc2(13)\n",
    "df14 = load_uc2(14)\n",
    "df19 = load_uc2(19)\n",
    "df20 = load_uc2(20)\n",
    "df13.shape, df14.shape, df19.shape, df20.shape"
   ]
  },
  {
   "cell_type": "code",
   "execution_count": null,
   "id": "subsequent-samoa",
   "metadata": {},
   "outputs": [],
   "source": [
    "idxs = list()\n",
    "# create our callback function\n",
    "def on_selection(trace, points, selector):\n",
    "    print('points {}'.format(points.point_inds) )\n",
    "    idxs.extend(points.point_inds)\n",
    "\n",
    "def on_click(trace, points, selector):\n",
    "#     print('points {}'.format(points.point_inds) )\n",
    "    idxs.extend(points.point_inds)\n",
    "\n",
    "df_sample = df_src\n",
    "f = zone_selection(df_sample, on_selection=on_selection, on_click=on_click)\n",
    "f"
   ]
  },
  {
   "cell_type": "code",
   "execution_count": null,
   "id": "exterior-bibliography",
   "metadata": {},
   "outputs": [],
   "source": [
    "df_chosen = df_sample.iloc[idxs]\n",
    "# df_zone = df_sample.drop(df_chosen.index)\n",
    "df_chosen.shape"
   ]
  },
  {
   "cell_type": "code",
   "execution_count": null,
   "id": "medium-front",
   "metadata": {},
   "outputs": [],
   "source": [
    "df_src = df23.copy()\n",
    "df_src.describe()\n",
    "plotly_zone(df_src[df_src.RA>0.03])"
   ]
  },
  {
   "cell_type": "code",
   "execution_count": null,
   "id": "beneficial-prompt",
   "metadata": {},
   "outputs": [],
   "source": [
    "df_src = df13.copy()\n",
    "# df_src = df_chosen.copy()\n",
    "plotly_zone(df_src)\n",
    "df_top = df_src[(df_src.Mass>2050)&(df_src.Mass<24000)].sort_values('Vol', ascending=False).iloc[:100].copy()\n",
    "# df_top = df_src[(df_src.Mass>12000)&(df_src.Mass<24000)].sort_values('Vol', ascending=False).iloc[:100].copy()\n",
    "# plotly_zone(df_top4\n",
    "df_salts = list()\n",
    "for salt in [21.9819, 37.9558, 34.9694, 27.9949, 56.92]:\n",
    "    df_salt = match_dfs(df_top, df_top, shift=salt)\n",
    "    df_top = df_top.drop(df_salt.index)\n",
    "    df_salts.append(df_salt)\n",
    "df_salts = pd.concat(df_salts)\n",
    "# df_top = df_top.sort_values('Vol', ascending=False).iloc[:150].copy()\n",
    "plotly_zones(df_top, df_salts)\n",
    "bcr = base_calling_random(df_top)\n",
    "plotly_basecalling(*bcr, annotate=False)\n",
    "# groups = basecalling_groups(df_top)\n",
    "# plotly_basecalling(*groups[0], annotate=False)\n",
    "\n",
    "# idxs = list()\n",
    "# # create our callback function\n",
    "# def on_selection(trace, points, selector):\n",
    "#     print('points {}'.format(points.point_inds) )\n",
    "#     idxs.extend(points.point_inds)\n",
    "\n",
    "# def on_click(trace, points, selector):\n",
    "# #     print('points {}'.format(points.point_inds) )\n",
    "#     idxs.extend(points.point_inds)\n",
    "\n",
    "# df_sample = df_src\n",
    "# f = zone_selection(df_sample, on_selection=on_selection, on_click=on_click)\n",
    "# f"
   ]
  },
  {
   "cell_type": "code",
   "execution_count": null,
   "id": "vocal-connecticut",
   "metadata": {},
   "outputs": [],
   "source": []
  },
  {
   "cell_type": "code",
   "execution_count": null,
   "id": "adjusted-march",
   "metadata": {},
   "outputs": [],
   "source": [
    "df_lys = pd.read_excel('/Users/bryan/Downloads/tRNA_B_Lys_results_brief.xlsx')\n",
    "df_lys5p = df_lys[df_lys.is5p==True]\n",
    "df_lys3p = df_lys[df_lys.is5p==False]\n",
    "plotly_zones(df_lys5p, df_lys3p)\n",
    "bcr = base_calling_random(df_lys)\n",
    "plotly_basecalling(*bcr, annotate=False)"
   ]
  },
  {
   "cell_type": "code",
   "execution_count": null,
   "id": "miniature-parent",
   "metadata": {},
   "outputs": [],
   "source": []
  },
  {
   "cell_type": "code",
   "execution_count": null,
   "id": "cloudy-drilling",
   "metadata": {},
   "outputs": [],
   "source": [
    "df_chosen = df_sample.iloc[idxs]\n",
    "# df_zone = df_sample.drop(df_chosen.index)\n",
    "df_chosen.shape"
   ]
  },
  {
   "cell_type": "code",
   "execution_count": null,
   "id": "damaged-custody",
   "metadata": {},
   "outputs": [],
   "source": [
    "\n",
    "dfm = match_dfs(df_chosen, df_chosen, shift=21.9819)\n",
    "bcr = base_calling_random(dfm)\n",
    "# plotly_basecalling(df_sample, bcr[1], y='RT', annotate=False)\n",
    "plotly_basecalling(*bcr, y='RT', annotate=False)\n",
    "\n",
    "# dfm = match_dfs(df_chosen, df_chosen, shift=21.9819)\n",
    "# plotly_zone(dfm)\n",
    "# groups = basecalling_groups(dfm)\n",
    "# plotly_basecalling(*groups[0], annotate=False)"
   ]
  },
  {
   "cell_type": "code",
   "execution_count": null,
   "id": "insured-instruction",
   "metadata": {},
   "outputs": [],
   "source": [
    "# Na-H salt\n",
    "\n",
    "dfm = match_dfs(df_chosen, df_chosen, shift=-21.9819)\n",
    "dfm2 = match_dfs(df_chosen, df_chosen, shift=21.9819)\n",
    "plotly_zones(dfm, dfm2)"
   ]
  },
  {
   "cell_type": "code",
   "execution_count": null,
   "id": "considerable-provision",
   "metadata": {},
   "outputs": [],
   "source": []
  },
  {
   "cell_type": "code",
   "execution_count": null,
   "id": "killing-calculation",
   "metadata": {},
   "outputs": [],
   "source": []
  },
  {
   "cell_type": "code",
   "execution_count": null,
   "id": "anticipated-buying",
   "metadata": {},
   "outputs": [],
   "source": [
    "# find salt\n",
    "\n",
    "salts = [34.9694, 37.9559, 21.9819, 18.0106]\n",
    "df25k = df5[df5.Mass>2.3E4]\n",
    "\n",
    "bases = list()\n",
    "bases_with_salt = list()\n",
    "for salt in salts:\n",
    "    dfm = match_dfs(df25k, df25k, shift=-1*salt)\n",
    "    dfm2 = match_dfs(df25k, df25k, shift=salt)\n",
    "    bases.append(dfm)\n",
    "    bases_with_salt.append(dfm2)\n",
    "plotly_zones(pd.concat(bases), pd.concat(bases_with_salt), y='RT')\n",
    "# plotly_zone(pd.concat(bases))\n",
    "# plotly_zone(pd.concat(bases_with_salt))\n",
    "# plotly_multi_zones(bases, y='Vol')\n",
    "# plotly_multi_zones(bases_with_salt, y='Vol')\n",
    "# df25k.shape, dfm.shape, dfm2.shape"
   ]
  },
  {
   "cell_type": "code",
   "execution_count": null,
   "id": "precise-object",
   "metadata": {},
   "outputs": [],
   "source": [
    "df189_5p = load_ref('glu_24189_5p')\n",
    "df189_3p = load_ref('glu_24189_3p')\n",
    "df203_5p = load_ref('glu_24203_5p')\n",
    "df203_3p = load_ref('glu_24203_3p')\n",
    "df217_5p = load_ref('glu_24217_5p')\n",
    "df217_3p = load_ref('glu_24217_3p')"
   ]
  },
  {
   "cell_type": "code",
   "execution_count": null,
   "id": "enormous-sunset",
   "metadata": {},
   "outputs": [],
   "source": [
    "df_gln_5p = load_ref('mus_gln_75_5p')\n",
    "df_gln_3p = load_ref('mus_gln_75_3p')\n",
    "df_bgln_5p = load_ref('mus_b_gln_75_5p')\n",
    "df_bgln_3p = load_ref('mus_b_gln_75_3p')"
   ]
  },
  {
   "cell_type": "code",
   "execution_count": null,
   "id": "patent-draft",
   "metadata": {},
   "outputs": [],
   "source": [
    "df_lys_5p = load_ref('mus_lys_75_5p')\n",
    "df_lys_3p = load_ref('mus_lys_75_3p')\n",
    "df_blys_5p = load_ref('mus_b_lys_75_5p')\n",
    "df_blys_3p = load_ref('mus_b_lys_75_3p')"
   ]
  },
  {
   "cell_type": "code",
   "execution_count": null,
   "id": "adjusted-sight",
   "metadata": {},
   "outputs": [],
   "source": [
    "#  \n",
    "# plotly_zone(df_src)\n",
    "\n",
    "\n",
    "# df_sample = pd.concat([df203_3p, df189_3p])\n",
    "# df_sample = pd.concat([df203_5p, df189_5p])\n",
    "# df_sample = pd.concat([df189_5p, df189_3p])\n",
    "# df_sample = pd.concat([df203_5p, df203_3p])\n",
    "# df_sample = pd.concat([df217_5p, df217_3p])\n",
    "\n",
    "# df_sample = pd.concat([df_gln_5p, df_gln_3p])\n",
    "df_sample = pd.concat([df_lys_5p, df_lys_3p])\n",
    "dfm_base = match_dfs(df_sample, df_src)\n",
    "plotly_zone(dfm_base)\n",
    "# df_src = df19.copy() #df18.copy()\n",
    "# df_sample = df_gln_5p.copy()\n",
    "# dfm = match_dfs(df_sample, df_src)\n",
    "# df_sample = df_gln_3p.copy()\n",
    "# dfm_shift = match_dfs(df_sample, df_src)\n",
    "# plotly_zones(dfm, dfm_shift, y='RT')\n",
    "\n",
    "# df_sample = df203_3p.copy()\n",
    "# dfm = match_dfs(df_sample, df17)\n",
    "# df_sample.Mass += 38\n",
    "# dfm_shift = match_dfs(df_sample, df17)\n",
    "# plotly_multi_zones([dfm[dfm.Mass<13000], dfm_shift[dfm_shift.Mass<13000]], y='RT')\n"
   ]
  },
  {
   "cell_type": "code",
   "execution_count": null,
   "id": "removable-repair",
   "metadata": {},
   "outputs": [],
   "source": [
    "dfms = list()\n",
    "for shift in [-1*M]:#range(-16, 16):\n",
    "#     df_sample, df_src = df_gln_5p.copy(), df19.copy()\n",
    "#     df_sample.Mass += shift\n",
    "    dfm = match_dfs(df_sample, df_src, shift=shift)\n",
    "    if not dfm.empty:\n",
    "        dfms.append(dfm)\n",
    "\n",
    "plotly_multi_zones(dfms)\n",
    "df_dfms = pd.concat(dfms).drop_duplicates('Mass')"
   ]
  },
  {
   "cell_type": "code",
   "execution_count": null,
   "id": "returning-tower",
   "metadata": {},
   "outputs": [],
   "source": [
    "plotly_zones(dfm_base, df_dfms, y='Vol')"
   ]
  },
  {
   "cell_type": "code",
   "execution_count": null,
   "id": "sensitive-server",
   "metadata": {},
   "outputs": [],
   "source": []
  },
  {
   "cell_type": "code",
   "execution_count": null,
   "id": "efficient-creation",
   "metadata": {},
   "outputs": [],
   "source": [
    "df5.info()"
   ]
  },
  {
   "cell_type": "code",
   "execution_count": null,
   "id": "pleased-fisher",
   "metadata": {},
   "outputs": [],
   "source": [
    "# plotly_zones(df5[df5.Mass>2E4], df6[df6.Mass>2E4], y='Vol')\n",
    "# plotly_zones(df17[df17.Mass>2E4], df18[df18.Mass>2E4], y='Vol')\n",
    "\n",
    "plotly_zone(df6[df6.Mass>2E4], y='Vol')\n",
    "plotly_zone(df18[df18.Mass>2E4], y='Vol')"
   ]
  },
  {
   "cell_type": "code",
   "execution_count": null,
   "id": "suited-keeping",
   "metadata": {},
   "outputs": [],
   "source": []
  }
 ],
 "metadata": {
  "kernelspec": {
   "display_name": "Python 3",
   "language": "python",
   "name": "python3"
  },
  "language_info": {
   "codemirror_mode": {
    "name": "ipython",
    "version": 3
   },
   "file_extension": ".py",
   "mimetype": "text/x-python",
   "name": "python",
   "nbconvert_exporter": "python",
   "pygments_lexer": "ipython3",
   "version": "3.7.3"
  }
 },
 "nbformat": 4,
 "nbformat_minor": 5
}
