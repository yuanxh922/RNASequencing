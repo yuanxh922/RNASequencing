{
 "cells": [
  {
   "cell_type": "code",
   "execution_count": null,
   "id": "presidential-batch",
   "metadata": {},
   "outputs": [],
   "source": [
    "import pandas as pd\n",
    "import matplotlib"
   ]
  },
  {
   "cell_type": "code",
   "execution_count": null,
   "id": "breeding-ticket",
   "metadata": {},
   "outputs": [],
   "source": [
    "%run data.ipynb\n",
    "%run ../modules/preprocessing.ipynb\n",
    "%run ../modules/cds.ipynb\n",
    "%run ../modules/utils.ipynb"
   ]
  },
  {
   "cell_type": "code",
   "execution_count": null,
   "id": "taken-reward",
   "metadata": {},
   "outputs": [],
   "source": [
    "df0 = pd.read_excel('/Users/bryan/Documents/Data/UC/UC_glu_5_rosa.xlsx')\n",
    "df0 = thermo_df(df0)\n",
    "\n",
    "df1 = load_uc2(17)\n",
    "\n",
    "df2 = pd.read_excel('/Users/bryan/Documents/ChenLab/10Jun2021/degraded/DrChen_tRNA_A_Glu_FA_17.xlsx')\n",
    "df2 = thermo_df(df2)"
   ]
  },
  {
   "cell_type": "code",
   "execution_count": null,
   "id": "growing-outreach",
   "metadata": {},
   "outputs": [],
   "source": [
    "df_217_3p = pd.read_excel('/Users/bryan/Studio/tools/glu_24217_3p_6mG.xlsx')\n",
    "df_217_5p = pd.read_excel('/Users/bryan/Studio/tools/glu_24217_5p_6mG.xlsx')\n",
    "df_218_3p = pd.read_excel('/Users/bryan/Studio/tools/glu_24218_3p.xlsx')\n",
    "df_218_5p = pd.read_excel('/Users/bryan/Studio/tools/glu_24218_5p.xlsx')\n",
    "df_203_3p = pd.read_excel('/Users/bryan/Studio/tools/glu_24203_3p_6mG.xlsx')\n",
    "df_203_5p = pd.read_excel('/Users/bryan/Studio/tools/glu_24203_5p_6mG.xlsx')\n",
    "df_232_3p = pd.read_excel('/Users/bryan/Studio/tools/glu_24232_3p.xlsx')\n",
    "df_232_5p = pd.read_excel('/Users/bryan/Studio/tools/glu_24232_5p.xlsx')\n",
    "df_204_3p = pd.read_excel('/Users/bryan/Studio/tools/glu_24204_3p.xlsx')\n",
    "df_204_5p = pd.read_excel('/Users/bryan/Studio/tools/glu_24204_5p.xlsx')\n",
    "df_189_3p = pd.read_excel('/Users/bryan/Studio/tools/glu_24189_3p.xlsx')\n",
    "df_189_5p = pd.read_excel('/Users/bryan/Studio/tools/glu_24189_5p.xlsx')"
   ]
  },
  {
   "cell_type": "code",
   "execution_count": null,
   "id": "together-yukon",
   "metadata": {},
   "outputs": [],
   "source": [
    "plotly_zone(df0)"
   ]
  },
  {
   "cell_type": "code",
   "execution_count": null,
   "id": "major-luther",
   "metadata": {},
   "outputs": [],
   "source": [
    "\n",
    "df_src = df11.copy()\n",
    "# df_src = df_chosen.copy()\n",
    "plotly_zone(df_src)"
   ]
  },
  {
   "cell_type": "code",
   "execution_count": null,
   "id": "adopted-austin",
   "metadata": {},
   "outputs": [],
   "source": [
    "# My Data, May\n",
    "df1 = load_uc_glu(1) # Glu May control data\n",
    "df2 = load_uc_glu(2) # Glu May control data\n",
    "\n",
    "df1_ad = load_uc_glu(5, True) # Glu May AD data\n",
    "df2_ad = load_uc_glu(6, True) # Glu May AD data\n",
    "# print_now()"
   ]
  },
  {
   "cell_type": "code",
   "execution_count": null,
   "id": "designing-retail",
   "metadata": {},
   "outputs": [],
   "source": [
    "df_217_5p = pd.read_excel('~/Studio/tools/glu_24217_5p_6mG.xlsx')\n",
    "df_217_3p = pd.read_excel('~/Studio/tools/glu_24217_3p_6mG.xlsx')\n",
    "df_203_5p = pd.read_excel('~/Studio/tools/glu_24203_5p_6mG.xlsx')\n",
    "df_203_3p = pd.read_excel('~/Studio/tools/glu_24203_3p_6mG.xlsx')"
   ]
  },
  {
   "cell_type": "code",
   "execution_count": null,
   "id": "appreciated-complaint",
   "metadata": {},
   "outputs": [],
   "source": [
    "df_sample = df2_ad"
   ]
  },
  {
   "cell_type": "code",
   "execution_count": null,
   "id": "basic-navigator",
   "metadata": {},
   "outputs": [],
   "source": [
    "dft = df_203_5p.copy()\n",
    "# dft.Mass += 1\n",
    "dfm = match_dfs(dft, df_sample)\n",
    "dft.Mass -= M\n",
    "dfm_1 = match_dfs(dft, df_sample)\n",
    "dft.Mass -= M\n",
    "dfm_2 = match_dfs(dft, df_sample)\n",
    "\n",
    "plotly_multi_zones([dfm, dfm_1, dfm_2])\n",
    "# plotly_zones(dfm, dfm_1)\n",
    "# plotly_zone(dfm_1)"
   ]
  },
  {
   "cell_type": "code",
   "execution_count": null,
   "id": "coral-mobile",
   "metadata": {},
   "outputs": [],
   "source": []
  }
 ],
 "metadata": {
  "kernelspec": {
   "display_name": "Python 3",
   "language": "python",
   "name": "python3"
  },
  "language_info": {
   "codemirror_mode": {
    "name": "ipython",
    "version": 3
   },
   "file_extension": ".py",
   "mimetype": "text/x-python",
   "name": "python",
   "nbconvert_exporter": "python",
   "pygments_lexer": "ipython3",
   "version": "3.7.3"
  }
 },
 "nbformat": 4,
 "nbformat_minor": 5
}
