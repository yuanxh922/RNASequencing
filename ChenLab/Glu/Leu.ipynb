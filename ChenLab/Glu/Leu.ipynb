{
 "cells": [
  {
   "cell_type": "code",
   "execution_count": null,
   "id": "wicked-paintball",
   "metadata": {},
   "outputs": [],
   "source": [
    "import pandas as pd\n",
    "import matplotlib"
   ]
  },
  {
   "cell_type": "code",
   "execution_count": null,
   "id": "competent-danish",
   "metadata": {},
   "outputs": [],
   "source": [
    "%run data.ipynb\n",
    "%run ../modules/preprocessing.ipynb\n",
    "%run ../modules/cds.ipynb\n",
    "%run ../modules/utils.ipynb"
   ]
  },
  {
   "cell_type": "code",
   "execution_count": null,
   "id": "interstate-messenger",
   "metadata": {},
   "outputs": [],
   "source": [
    "df27 = load_uc2(27)\n",
    "df28 = load_uc2(28)\n",
    "df27.shape, df28.shape"
   ]
  },
  {
   "cell_type": "code",
   "execution_count": null,
   "id": "forty-conservative",
   "metadata": {},
   "outputs": [],
   "source": [
    "df_src = df27.copy()\n",
    "# df_src = df_chosen.copy()\n",
    "plotly_zone(df_src)"
   ]
  },
  {
   "cell_type": "code",
   "execution_count": null,
   "id": "compliant-outside",
   "metadata": {},
   "outputs": [],
   "source": [
    "# direct sequencing\n",
    "\n",
    "low = 5500\n",
    "high = 8500\n",
    "full = 88*318\n",
    "# low, high = full - high, full - low\n",
    "print(low, high)\n",
    "df_top = df_src[(df_src.Mass>low)&(df_src.Mass<high)].sort_values('Vol', ascending=False).iloc[:200].copy()\n",
    "# df_top = df_src[(df_src.Mass>low)&(df_src.Mass<high)].copy()\n",
    "# df_top = df_src[(df_src.Mass>full-high)&(df_src.Mass<full-low)].sort_values('Vol', ascending=False).iloc[:200].copy()\n",
    "# df_top = df_src.copy()\n",
    "plotly_zone(df_top)\n",
    "\n",
    "# df_salts = list()\n",
    "# for salt in [21.9819, 37.9558, 34.9694, 27.9949, 56.92]:\n",
    "#     df_salt = match_dfs(df_top, df_top, shift=salt)\n",
    "# #     df_top = df_top.drop(df_salt.index)\n",
    "#     df_salts.append(df_salt)\n",
    "# df_salts = pd.concat(df_salts)\n",
    "# # plotly_zones(df_top, df_salts)\n",
    "\n",
    "bcr = base_calling_random(df_top)\n",
    "plotly_basecalling(*bcr, annotate=False)\n",
    "# groups = basecalling_groups(df_top)\n",
    "# plotly_basecalling(*groups[0], annotate=False)\n",
    "\n",
    "dfm = match_dfs(bcr[0], df_src, shift=-1*M)\n",
    "if not dfm.empty:\n",
    "    plotly_zones(bcr[0], dfm)"
   ]
  },
  {
   "cell_type": "code",
   "execution_count": null,
   "id": "incorporated-smart",
   "metadata": {},
   "outputs": [],
   "source": []
  },
  {
   "cell_type": "code",
   "execution_count": null,
   "id": "sixth-grace",
   "metadata": {},
   "outputs": [],
   "source": [
    "# Choose dots\n",
    "\n",
    "idxs = list()\n",
    "# create our callback function\n",
    "def on_selection(trace, points, selector):\n",
    "    print('points {}'.format(points.point_inds) )\n",
    "    idxs.extend(points.point_inds)\n",
    "\n",
    "def on_click(trace, points, selector):\n",
    "#     print('points {}'.format(points.point_inds) )\n",
    "    idxs.extend(points.point_inds)\n",
    "\n",
    "# df_sample = df_src[(df_src.Mass>10000)&(df_src.Mass<27000)]\n",
    "# df_sample = df_top\n",
    "df_sample = df_chosen\n",
    "f = zone_selection(df_sample, on_selection=on_selection, on_click=on_click)\n",
    "f"
   ]
  },
  {
   "cell_type": "code",
   "execution_count": null,
   "id": "turkish-closing",
   "metadata": {},
   "outputs": [],
   "source": [
    "df_chosen = df_sample.iloc[idxs]\n",
    "# df_chosen = df_sample.drop(df_chosen.index)\n",
    "df_chosen.shape"
   ]
  },
  {
   "cell_type": "code",
   "execution_count": null,
   "id": "adaptive-trader",
   "metadata": {},
   "outputs": [],
   "source": [
    "df_sample = df_chosen.sort_values('Vol', ascending=False).iloc[:50]\n",
    "# df_sample = df_sample[(df_sample.Mass>3000)&(df_sample.Mass<4800)]\n",
    "# df_sample = df_chosen\n",
    "orientation = 5\n",
    "\n",
    "# df_sf, df_salts = remove_salts(df_sample)\n",
    "df_sf = df_sample\n",
    "\n",
    "bcr = base_calling_random(df_sf)\n",
    "plotly_basecalling(*bcr, annotate=False, y='RT')\n",
    "group = bcr\n",
    "\n",
    "# groups = basecalling_groups(df_sf)\n",
    "# group = groups[0]\n",
    "# plotly_basecalling(*group, annotate=False)\n",
    "\n",
    "# output seats\n",
    "# df = process_mass_base_seats(*group, full_mass=24174, orientation=orientation)\n",
    "# df.to_excel('~/Downloads/seats.xlsx')\n",
    "\n",
    "\n",
    "dfm = match_dfs(bcr[0], df_src, shift=-1*M)\n",
    "if not dfm.empty:\n",
    "    plotly_zones(bcr[0], dfm, y='RT')\n",
    "else:\n",
    "    plotly_zone(bcr[0])"
   ]
  },
  {
   "cell_type": "code",
   "execution_count": null,
   "id": "regular-novel",
   "metadata": {},
   "outputs": [],
   "source": [
    "target = 7259\n",
    "dfa = df_src[(df_src.Mass>target-1)&(df_src.Mass<target+1)]\n",
    "target += M\n",
    "dfb = df_src[(df_src.Mass>target-1)&(df_src.Mass<target+1)]\n",
    "dfa, dfb"
   ]
  },
  {
   "cell_type": "code",
   "execution_count": null,
   "id": "overall-mentor",
   "metadata": {},
   "outputs": [],
   "source": [
    "# bcr[0].to_excel('~/Downloads/type_position_ori.xlsx')\n",
    "dfa = bcr[0].copy()\n",
    "dfb = dfm.copy()\n",
    "dfa['DeMethyl'] = False\n",
    "dfb['DeMethyl'] = True\n",
    "dfab = pd.concat([dfa, dfb])\n",
    "dfab.to_excel('~/Downloads/type_position_ori.xlsx')"
   ]
  },
  {
   "cell_type": "code",
   "execution_count": null,
   "id": "nearby-retention",
   "metadata": {},
   "outputs": [],
   "source": []
  },
  {
   "cell_type": "code",
   "execution_count": null,
   "id": "living-plastic",
   "metadata": {},
   "outputs": [],
   "source": [
    "def base_calling_random(df, silence=False, homology=False, acid_labile=False, methyl=False):\n",
    "    df = df.sort_index()\n",
    "    mass_x = np.array(df.Mass)\n",
    "    mass_y = np.array(df.Mass)\n",
    "    if acid_labile:\n",
    "        mass_x = np.array(df[df.isAD == False].Mass)\n",
    "        mass_y = np.array(df[df.isAD == True].Mass)\n",
    "    if not silence:\n",
    "        print(\"mass_x {} mass_y {}\".format(mass_x.shape, mass_y.shape))\n",
    "\n",
    "#     base_dict = {'C': 305.0413, 'A': 329.0525, 'G': 345.0474, 'U': 306.0253, 'g': 359.0631, 'D': 308.041, 'c': 319.0569, 'u': 320.041, 'G^': 373.0787, 'a': 343.0682, 'y': 212.0086, 'Y': 570.1475, 'P': 557.2251, 'x': 688.1156, 'z': 625.0844, 'I': 330.03654, 'O': 344.052}\n",
    "    base_dict = {'C': 305.0413, 'A': 329.0525, 'G': 345.0474, 'U': 306.0253, \n",
    "                 'mG': 359.0631, 'D': 308.041, 'mC': 319.0569, \n",
    "                 'mU': 320.041, 'mA': 343.0682#, 'm22C': 333.0625,\n",
    "#                  'ac4C': 347.05185\n",
    "                #'mcm5U': 378.0464\n",
    "                } #, 'y': 212.0086, 'mnm5s2U': 365.04466, 'X': 449.08299, 's4U': 322.00246, 'ms2io6A': 459.09776\n",
    "#     base_dict = {'g': 359.0631, 'u': 320.041, 'mnm5s2U': 365.04466, 'X': 449.08299, 's4U': 322.00246, 'ms2io6A': 459.09776} #387.1273+61.9557\n",
    "    if homology:\n",
    "#         base_dict = {'Me': 14.0106} \n",
    "#         base_dict = {'C (305.04)': 305.0413, 'A (329.05)': 329.0525, 'endA (249.09)': 249.0862, 'endC (225.08)': 225.075, 'Me (14.01)': 14.0106, '2Me (14.01)': 28.0212} #, 'Udiff': 43\n",
    "        base_dict = {'C': 305.0413, 'A': 329.0525, 'Ai': 249.0862, 'Ci': 225.075, 'Ox': 16.0, 'Methyl': 14.0106, '2Methyl': 28.0212} #, 'Udiff': 43\n",
    "#         base_dict = {'Y (358.16)': 358.1599, 'C (305.04)': 305.0413, 'A (329.05)': 329.0525, 'endA (249.09)': 249.0862, 'endC (225.08)': 225.075, 'Methyl (14.01)': 14.0106}\n",
    "    if acid_labile:\n",
    "#         base_dict = {'Y': 358.1599, 'm6t6A': 276.09568, 'Gr(p)': 345.04602, 'cnm5U': 133.0262, 'I': 118.02654, 'g6A': 218.05381, 'o2yW': 390.12737, 'ms2t6A': 308.06775, 'acp3U/cmnm5Um': 195.06298, 'mcmo5U': 182.03135}\n",
    "        base_dict = {'Y': 358.1599}\n",
    "    if methyl:\n",
    "        base_dict = {'Me': 14.0106} #, '2Me': 28.0212\n",
    "    pairs = list()\n",
    "    idxs = list()\n",
    "    PPM = 10\n",
    "    for k in base_dict.keys():\n",
    "        base_mass = base_dict.get(k)\n",
    "        ppm_matrix = np.abs((mass_x[:, np.newaxis] - mass_y - base_mass) * 1E6 / (mass_y + base_mass))\n",
    "        ppm_df = pd.DataFrame(ppm_matrix)\n",
    "        crosstalk = ppm_df[ppm_df < PPM]\n",
    "        idx_pairs = list(crosstalk[crosstalk.notnull()].stack().index)\n",
    "        if idx_pairs:\n",
    "            idx_pairs = [(*pair, k) for pair in idx_pairs] # append base name into idx_pairs\n",
    "            pairs.extend(idx_pairs)\n",
    "        df3_idxs = [pair[0] for pair in idx_pairs]\n",
    "        df5_idxs = [pair[1] for pair in idx_pairs]\n",
    "        df3_idxs = list(set(df3_idxs))\n",
    "        df5_idxs = list(set(df5_idxs))\n",
    "#         if not silence:\n",
    "#             print(\"df3_idxs {} df5_idxs {}\".format(len(df3_idxs), len(df5_idxs)))\n",
    "        if df3_idxs:\n",
    "            idxs.extend(df3_idxs)\n",
    "        if df5_idxs:\n",
    "            idxs.extend(df5_idxs)\n",
    "    \n",
    "    mass_pairs = [(df.Mass.iloc[p[0]], df.Mass.iloc[p[1]], p[2]) for p in pairs]\n",
    "    if acid_labile:\n",
    "        mass_pairs = [(df[df.isAD == False].Mass.iloc[p[0]], df[df.isAD == True].Mass.iloc[p[1]], p[2]) for p in pairs]\n",
    "    mass_pairs = [mp for mp in mass_pairs if mp[0] != mp[1]] # remove item which contains duplicated values\n",
    "    idxs = list(set(idxs))\n",
    "#     plt.figure(figsize=(16, 12))\n",
    "    df_base_calling = df.iloc[idxs]\n",
    "    if acid_labile:\n",
    "        masses = [pair[0] for pair in mass_pairs]\n",
    "        masses_1 = [pair[1] for pair in mass_pairs]\n",
    "        masses.extend(masses_1)\n",
    "        masses = list(set(masses))\n",
    "        df_base_calling = df[df.Mass.isin(masses)]\n",
    "    return df_base_calling, mass_pairs"
   ]
  },
  {
   "cell_type": "code",
   "execution_count": null,
   "id": "imperial-mentor",
   "metadata": {},
   "outputs": [],
   "source": [
    "com"
   ]
  }
 ],
 "metadata": {
  "kernelspec": {
   "display_name": "Python 3",
   "language": "python",
   "name": "python3"
  },
  "language_info": {
   "codemirror_mode": {
    "name": "ipython",
    "version": 3
   },
   "file_extension": ".py",
   "mimetype": "text/x-python",
   "name": "python",
   "nbconvert_exporter": "python",
   "pygments_lexer": "ipython3",
   "version": "3.7.3"
  }
 },
 "nbformat": 4,
 "nbformat_minor": 5
}
