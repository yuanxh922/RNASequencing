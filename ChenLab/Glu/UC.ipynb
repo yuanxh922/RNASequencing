{
 "cells": [
  {
   "cell_type": "code",
   "execution_count": null,
   "id": "portuguese-terry",
   "metadata": {},
   "outputs": [],
   "source": [
    "%run data.ipynb\n",
    "%run ../modules/preprocessing.ipynb\n",
    "%run ../modules/cds.ipynb\n",
    "%run ../modules/utils.ipynb"
   ]
  },
  {
   "cell_type": "code",
   "execution_count": null,
   "id": "gross-pakistan",
   "metadata": {},
   "outputs": [],
   "source": [
    "import pandas as pd\n",
    "import matplotlib\n",
    "import plotly.express as px\n",
    "import matplotlib.pyplot as plt"
   ]
  },
  {
   "cell_type": "code",
   "execution_count": null,
   "id": "postal-postage",
   "metadata": {},
   "outputs": [],
   "source": [
    "df1 = load_uc_glu(1)\n",
    "df2 = load_uc_glu(2)\n",
    "df1.shape, df2.shape"
   ]
  },
  {
   "cell_type": "code",
   "execution_count": null,
   "id": "wrapped-seating",
   "metadata": {},
   "outputs": [],
   "source": [
    "df3 = load_uc_glu(3)\n",
    "df4 = load_uc_glu(4)\n",
    "df3.shape, df4.shape"
   ]
  },
  {
   "cell_type": "code",
   "execution_count": null,
   "id": "simple-internet",
   "metadata": {},
   "outputs": [],
   "source": [
    "df5 = load_uc_glu(5)\n",
    "df5.shape"
   ]
  },
  {
   "cell_type": "code",
   "execution_count": null,
   "id": "monetary-senior",
   "metadata": {},
   "outputs": [],
   "source": [
    "# df5_new = load_uc_glu(5, more=True)\n",
    "df5_new = pd.read_excel('/Users/bryan/Documents/Data/UC/UC_glu_5_merge.xlsx')\n",
    "df5_new = thermo_df(df5_new)\n",
    "df5_new.shape"
   ]
  },
  {
   "cell_type": "code",
   "execution_count": null,
   "id": "under-carrier",
   "metadata": {},
   "outputs": [],
   "source": [
    "df6 = load_uc_glu(6)\n",
    "df6 = thermo_df(df6)\n",
    "df6.shape"
   ]
  },
  {
   "cell_type": "code",
   "execution_count": null,
   "id": "productive-nation",
   "metadata": {},
   "outputs": [],
   "source": [
    "# df6_new = load_uc_glu(6, more=True)\n",
    "df6_new = pd.read_excel('/Users/bryan/Documents/Data/UC/UC_glu_6_merge.xlsx')\n",
    "df6_new = thermo_df(df6_new)\n",
    "df6_new.shape"
   ]
  },
  {
   "cell_type": "code",
   "execution_count": null,
   "id": "foster-independence",
   "metadata": {},
   "outputs": [],
   "source": [
    "df7 = load_uc_glu(7)\n",
    "df8 = load_uc_glu(8)\n",
    "df7.shape, df8.shape"
   ]
  },
  {
   "cell_type": "code",
   "execution_count": null,
   "id": "editorial-technical",
   "metadata": {},
   "outputs": [],
   "source": []
  },
  {
   "cell_type": "code",
   "execution_count": null,
   "id": "generous-crowd",
   "metadata": {},
   "outputs": [],
   "source": [
    "plotly_zones(df3[df3.Mass>10000], df4[df4.Mass>10000], y='Vol')"
   ]
  },
  {
   "cell_type": "code",
   "execution_count": null,
   "id": "varying-minister",
   "metadata": {},
   "outputs": [],
   "source": [
    "dfa = df3.copy()\n",
    "dfb = df4.copy()\n",
    "dfc = df7.copy()\n",
    "dfd = df8.copy()\n",
    "# dfa = dfa[dfa.Mass>7000]\n",
    "# dfb = dfb[dfb.Mass>7000]\n",
    "# dfc = dfc[dfc.Mass>7000]\n",
    "# dfd = dfd[dfd.Mass>7000]\n",
    "# plotly_zones(dfa, dfb, y='RT')\n",
    "plotly_zones(dfa, dfc)\n",
    "plotly_zones(dfb, dfd)\n",
    "\n",
    "# bcr = base_calling_random(dfa)\n",
    "# plotly_basecalling(*bcr, annotate=False)"
   ]
  },
  {
   "cell_type": "code",
   "execution_count": null,
   "id": "convenient-filter",
   "metadata": {},
   "outputs": [],
   "source": []
  },
  {
   "cell_type": "code",
   "execution_count": null,
   "id": "agreed-netherlands",
   "metadata": {},
   "outputs": [],
   "source": [
    "df5.shape"
   ]
  },
  {
   "cell_type": "code",
   "execution_count": null,
   "id": "comfortable-brazilian",
   "metadata": {},
   "outputs": [],
   "source": [
    "target = 17194 #7347 #\n",
    "delta = 2\n",
    "dft = df6_new.copy()\n",
    "for shift in [-1*M, 0, M, 2*M]:\n",
    "    detect = target + shift\n",
    "    tmp = dft[(dft.Mass>detect-delta)&(dft.Mass<detect+delta)]\n",
    "    if not tmp.empty:\n",
    "        print(tmp)"
   ]
  },
  {
   "cell_type": "code",
   "execution_count": null,
   "id": "effective-password",
   "metadata": {},
   "outputs": [],
   "source": [
    "df1_25k = df1[(df1.Mass>24180)&(df1.Mass<24240)]\n",
    "df2_25k = df2[(df2.Mass>24180)&(df2.Mass<24240)]\n",
    "plotly_zones(df1_25k, df2_25k, y='RA', names=['Mock', 'AK'])\n",
    "df1_25k.sort_values('Mass').to_excel('~/Downloads/glu_before_ad.xlsx')\n",
    "df2_25k.sort_values('Mass').to_excel('~/Downloads/glu_alkb_before_ad.xlsx')"
   ]
  },
  {
   "cell_type": "code",
   "execution_count": null,
   "id": "downtown-africa",
   "metadata": {},
   "outputs": [],
   "source": [
    "df1_top = df1[df1.Mass>22000]\n",
    "df2_top = df2[df2.Mass>22000]"
   ]
  },
  {
   "cell_type": "code",
   "execution_count": null,
   "id": "stretch-liver",
   "metadata": {},
   "outputs": [],
   "source": [
    "df5_top = df5_new[df5_new.Mass>24000]"
   ]
  },
  {
   "cell_type": "code",
   "execution_count": null,
   "id": "gorgeous-listening",
   "metadata": {},
   "outputs": [],
   "source": []
  },
  {
   "cell_type": "code",
   "execution_count": null,
   "id": "better-modeling",
   "metadata": {},
   "outputs": [],
   "source": [
    "plotly_zone(df5_top)"
   ]
  },
  {
   "cell_type": "code",
   "execution_count": null,
   "id": "patient-mailing",
   "metadata": {},
   "outputs": [],
   "source": [
    "dft = df2_top.copy()\n",
    "# dft = dft.sort_values('Vol', ascending=False).iloc[:3].copy()\n",
    "vol = dft.Vol.sum()\n",
    "dft['Ratio'] = dft.Vol/vol\n",
    "dft = dft.sort_values('Mass')\n",
    "# list(dft.Mass)\n",
    "dft[(dft.Mass>24189)]"
   ]
  },
  {
   "cell_type": "code",
   "execution_count": null,
   "id": "typical-victor",
   "metadata": {},
   "outputs": [],
   "source": [
    "dft = df2_25k[(df2_25k.Mass<24220)]\n",
    "dft = dft.sort_values('Vol', ascending=False).iloc[:3].copy()\n",
    "vol = dft.Vol.sum()\n",
    "dft['Ratio'] = dft.Vol/vol\n",
    "dft"
   ]
  },
  {
   "cell_type": "code",
   "execution_count": null,
   "id": "tested-lodge",
   "metadata": {},
   "outputs": [],
   "source": []
  },
  {
   "cell_type": "code",
   "execution_count": null,
   "id": "wireless-cherry",
   "metadata": {},
   "outputs": [],
   "source": []
  },
  {
   "cell_type": "code",
   "execution_count": null,
   "id": "centered-illinois",
   "metadata": {},
   "outputs": [],
   "source": []
  },
  {
   "cell_type": "code",
   "execution_count": null,
   "id": "german-rwanda",
   "metadata": {},
   "outputs": [],
   "source": [
    "df5_25k = df5_new[(df5_new.Mass>24180)&(df5_new.Mass<24240)]\n",
    "df6_25k = df6_new[(df6_new.Mass>24180)&(df6_new.Mass<24240)]\n",
    "plotly_zones(df5_25k, df6_25k, y='Vol')\n",
    "# df5_zone = df5_new[(df5_new.Mass>19000)&(df5_new.Mass<23000)]\n",
    "# df6_zone = df6_new[(df6_new.Mass>19000)&(df6_new.Mass<23000)]\n",
    "# plotly_zones(df5_zone, df6_zone, y='Vol')\n",
    "df5_25k,df6_25k\n",
    "\n",
    "df5_25k.sort_values('Mass').to_excel('~/Downloads/glu_after_ad.xlsx')\n",
    "df6_25k.sort_values('Mass').to_excel('~/Downloads/glu_alkb_after_ad.xlsx')"
   ]
  },
  {
   "cell_type": "code",
   "execution_count": null,
   "id": "white-beauty",
   "metadata": {},
   "outputs": [],
   "source": []
  },
  {
   "cell_type": "code",
   "execution_count": null,
   "id": "pressing-criticism",
   "metadata": {},
   "outputs": [],
   "source": [
    "dfa = df1_25k.copy()\n",
    "dfb = df5_25k.copy()\n",
    "dfa.Vol /= dfa.Vol.max()\n",
    "dfb.Vol /= dfb.Vol.max()\n",
    "plotly_zones(dfa, dfb, y='Vol')"
   ]
  },
  {
   "cell_type": "code",
   "execution_count": null,
   "id": "modified-quick",
   "metadata": {},
   "outputs": [],
   "source": []
  },
  {
   "cell_type": "code",
   "execution_count": null,
   "id": "graduate-sword",
   "metadata": {},
   "outputs": [],
   "source": []
  },
  {
   "cell_type": "code",
   "execution_count": null,
   "id": "round-float",
   "metadata": {},
   "outputs": [],
   "source": [
    "plotly_zone(df1_25k, y='Vol')\n",
    "plotly_zone(df5_25k, y='Vol')\n",
    "# plotly_zone(df1)\n",
    "# plotly_zone(df5_new)"
   ]
  },
  {
   "cell_type": "code",
   "execution_count": null,
   "id": "interracial-bolivia",
   "metadata": {},
   "outputs": [],
   "source": [
    "# Glu Reg\n",
    "df_intact_5 = pd.read_excel('/Users/bryan/Documents/ChenLab/10Jun2021/intact/5_A_Glu.xlsx')\n",
    "df_intact_5 = thermo_df(df_intact_5)\n",
    "df_intact_5.shape\n",
    "df_intact_5_25k = df_intact_5[df_intact_5.Mass > 24000]\n",
    "# plotly_zone(df_intact_5_25k)\n",
    "\n",
    "# Glu AlkB\n",
    "df_intact_6 = pd.read_excel('/Users/bryan/Documents/ChenLab/10Jun2021/intact/6_A_Glu_A.xlsx')\n",
    "df_intact_6 = thermo_df(df_intact_6)\n",
    "df_intact_6.shape\n",
    "df_intact_6_25k = df_intact_6[df_intact_6.Mass > 24000]\n",
    "# plotly_zone(df_intact_6_25k)\n",
    "\n",
    "# comm between Reg & AlkB\n",
    "df_comm5 = match_dfs(df_intact_6_25k, df_intact_5_25k)\n",
    "df_rest5 = df_intact_5_25k.drop(df_comm5.index)\n",
    "df_comm6 = match_dfs(df_intact_5_25k, df_intact_6_25k)\n",
    "df_rest6 = df_intact_6_25k.drop(df_comm6.index)\n",
    "# plotly_zones(df_rest5, df_rest6)\n",
    "# plotly_zone(df_comm5)\n",
    "\n",
    "# Glu AD\n",
    "df_ad_5 = pd.read_excel('/Users/bryan/Documents/ChenLab/10Jun2021/degraded/17_Glu.xlsx')\n",
    "df_ad_5 = thermo_df(df_ad_5)\n",
    "df_ad_5.shape\n",
    "df_ad_5_25k = df_ad_5[df_ad_5.Mass > 24000]\n",
    "plotly_zone(df_ad_5_25k)\n",
    "\n",
    "# Glu AkaB AD\n",
    "df_ad_6 = pd.read_excel('/Users/bryan/Documents/ChenLab/10Jun2021/degraded/18_Glu_A.xlsx')\n",
    "df_ad_6 = thermo_df(df_ad_6)\n",
    "df_ad_6.shape\n",
    "df_ad_6_25k = df_ad_6[df_ad_6.Mass > 24000]\n",
    "plotly_zone(df_ad_6_25k)\n",
    "\n",
    "\n",
    "# plotly_zone(df_ad_5)\n"
   ]
  },
  {
   "cell_type": "code",
   "execution_count": null,
   "id": "organic-acting",
   "metadata": {},
   "outputs": [],
   "source": []
  },
  {
   "cell_type": "code",
   "execution_count": null,
   "id": "amazing-shopper",
   "metadata": {},
   "outputs": [],
   "source": [
    "df_189_5p = pd.read_excel('/Users/bryan/Studio/tools/glu_24189_5p.xlsx')\n",
    "df_203_5p = pd.read_excel('/Users/bryan/Studio/tools/glu_24203_5p.xlsx')\n",
    "df_217_5p = pd.read_excel('/Users/bryan/Studio/tools/glu_24217_5p.xlsx')\n",
    "\n",
    "df_189_3p = pd.read_excel('/Users/bryan/Studio/tools/glu_24189_3p.xlsx')\n",
    "df_203_3p = pd.read_excel('/Users/bryan/Studio/tools/glu_24203_3p.xlsx')\n",
    "df_217_3p = pd.read_excel('/Users/bryan/Studio/tools/glu_24217_3p.xlsx')\n",
    "\n",
    "df_sample = df_ad_5\n",
    "df_189_5p = match_dfs(df_189_5p, df_sample)\n",
    "df_203_5p = match_dfs(df_203_5p, df_sample)\n",
    "df_217_5p = match_dfs(df_217_5p, df_sample)\n",
    "print(df_189_5p.shape, df_203_5p.shape, df_217_5p.shape)\n",
    "dfs_5p = [df_189_5p, df_203_5p, df_217_5p]\n",
    "\n",
    "df_189_3p = match_dfs(df_189_3p, df_sample)\n",
    "df_203_3p = match_dfs(df_203_3p, df_sample)\n",
    "df_217_3p = match_dfs(df_217_3p, df_sample)\n",
    "print(df_189_3p.shape, df_203_3p.shape, df_217_3p.shape)\n",
    "dfs_3p = [df_189_3p, df_203_3p, df_217_3p]\n",
    "\n",
    "plotly_multi_zones(dfs_5p)"
   ]
  },
  {
   "cell_type": "code",
   "execution_count": null,
   "id": "configured-following",
   "metadata": {},
   "outputs": [],
   "source": [
    "df_5ps = [df_189_5p, df_203_5p, df_217_5p]\n",
    "df_3ps = [df_189_3p, df_203_3p, df_217_3p]\n",
    "\n",
    "df_5ps_nm = list()\n",
    "for idx, df in enumerate(df_5ps):\n",
    "    df_tmp = df.copy()\n",
    "    df_tmp.RT += idx\n",
    "    df_5ps_nm.append(df_tmp)\n",
    "\n",
    "\n",
    "df_3ps_nm = list()\n",
    "for idx, df in enumerate(df_3ps):\n",
    "    df_tmp = df.copy()\n",
    "    df_tmp.RT += idx\n",
    "    df_3ps_nm.append(df_tmp)"
   ]
  },
  {
   "cell_type": "code",
   "execution_count": null,
   "id": "indian-panic",
   "metadata": {},
   "outputs": [],
   "source": [
    "plt.figure(figsize=(16, 5))\n",
    "for idx, df in enumerate(df_5ps):\n",
    "    df_tmp = df.copy()\n",
    "    df_tmp.RT += idx\n",
    "    plt.scatter(df_tmp.Mass, df_tmp.RT)"
   ]
  },
  {
   "cell_type": "code",
   "execution_count": null,
   "id": "fallen-sacrifice",
   "metadata": {},
   "outputs": [],
   "source": [
    "from numpy import log, log2, log10, log1p\n",
    "# plotly_multi_zones(df_5ps_nm)\n",
    "# dfs_tmp = [df[df.Mass<24000] for df in df_3ps[1:]]\n",
    "dfs_tmp = list()\n",
    "for idx, df in enumerate(df_3ps[:2]):\n",
    "    df_tmp = df[(df.Mass>18000)&(df.Mass<24000)].copy()\n",
    "# for idx, df in enumerate(df_3ps[1:]):\n",
    "#     df_tmp = df[(df.Mass<10000)].copy()\n",
    "#     df_tmp.Vol = log1p(df_tmp.Vol)\n",
    "    df_tmp.RT += idx\n",
    "    dfs_tmp.append(df_tmp)\n",
    "plotly_multi_zones(dfs_tmp, y='Vol')"
   ]
  },
  {
   "cell_type": "code",
   "execution_count": null,
   "id": "cross-cornwall",
   "metadata": {},
   "outputs": [],
   "source": []
  },
  {
   "cell_type": "code",
   "execution_count": null,
   "id": "desirable-thermal",
   "metadata": {},
   "outputs": [],
   "source": [
    "dfs_5p = list()\n",
    "for shift in [-3*M, -2*M, -1*M, 0, M]:\n",
    "    df_tmp = df_217_5p.copy()\n",
    "    df_tmp.Mass += shift\n",
    "    df_match = match_dfs(df_tmp, df5_new)\n",
    "    match_count = df_match.shape[0]\n",
    "    if match_count >0:\n",
    "        print(f'shift {shift} Da matched {match_count} compounds')\n",
    "        dfs_5p.append(df_match)\n",
    "\n",
    "dfs_3p = list()\n",
    "for shift in [-3*M, -2*M, -1*M, 0, M]:\n",
    "    df_tmp = df_217_3p.copy()\n",
    "    df_tmp.Mass += shift\n",
    "    df_match = match_dfs(df_tmp, df5_new)\n",
    "    match_count = df_match.shape[0]\n",
    "    if match_count >0:\n",
    "        print(f'shift {shift} Da matched {match_count} compounds')\n",
    "        dfs_3p.append(df_match)"
   ]
  },
  {
   "cell_type": "code",
   "execution_count": null,
   "id": "atomic-skiing",
   "metadata": {},
   "outputs": [],
   "source": [
    "plotly_multi_zones(dfs_5p)\n",
    "plotly_multi_zones(dfs_3p, y='Vol')"
   ]
  },
  {
   "cell_type": "code",
   "execution_count": null,
   "id": "scenic-interval",
   "metadata": {},
   "outputs": [],
   "source": []
  },
  {
   "cell_type": "code",
   "execution_count": null,
   "id": "considered-allocation",
   "metadata": {},
   "outputs": [],
   "source": []
  },
  {
   "cell_type": "code",
   "execution_count": null,
   "id": "hollow-bradley",
   "metadata": {},
   "outputs": [],
   "source": []
  },
  {
   "cell_type": "code",
   "execution_count": null,
   "id": "protected-chorus",
   "metadata": {},
   "outputs": [],
   "source": [
    "bcr = base_calling_random(df5_25k, homology=True)\n",
    "bcr[1]"
   ]
  },
  {
   "cell_type": "code",
   "execution_count": null,
   "id": "romantic-election",
   "metadata": {},
   "outputs": [],
   "source": [
    "df_tmp = df5_new[(df5_new.Mass>5500)&(df5_new.RT>10)]\n",
    "# plotly_zone(df5_new)\n",
    "# dfa = pd.read_excel('/Users/bryan/Downloads/DrChen_tRNAs5_0.01to5min.xlsx')\n",
    "dfa = pd.read_excel('/Users/bryan/Downloads/DrChen_tRNAs6_0.01to10min.xlsx')\n",
    "dfa = thermo_df(dfa)\n",
    "dfb = dfa[(dfa.RT>0.7)]\n",
    "plotly_zone(dfa)\n",
    "bcr = base_calling_random(dfa)\n",
    "plot_basecalling(*bcr)"
   ]
  },
  {
   "cell_type": "code",
   "execution_count": null,
   "id": "strong-official",
   "metadata": {},
   "outputs": [],
   "source": [
    "df5_new = df5_new[(df5_new.Mass>5500)&(df5_new.RT>10)]\n",
    "df6_new = df6_new[(df6_new.Mass>5500)&(df6_new.RT>10)]\n",
    "plotly_zones(df5_new, df6_new)\n",
    "# plotly_zone(df6)"
   ]
  },
  {
   "cell_type": "code",
   "execution_count": null,
   "id": "consolidated-reasoning",
   "metadata": {},
   "outputs": [],
   "source": [
    "plotly_zone(df6_new, y='RT')"
   ]
  },
  {
   "cell_type": "code",
   "execution_count": null,
   "id": "subtle-quilt",
   "metadata": {},
   "outputs": [],
   "source": [
    "df_tmp = pd.read_excel('/Users/bryan/Documents/Data/UC/UC_glu_6_new.xlsx')\n",
    "df_tmp = thermo_df(df_tmp)\n",
    "plotly_zone(df_tmp)"
   ]
  },
  {
   "cell_type": "code",
   "execution_count": null,
   "id": "perfect-study",
   "metadata": {},
   "outputs": [],
   "source": [
    "plotly_zone(df6_new, y='RT')"
   ]
  },
  {
   "cell_type": "code",
   "execution_count": null,
   "id": "explicit-diameter",
   "metadata": {},
   "outputs": [],
   "source": [
    "# plotly_zone(df5_new, y='Vol')\n",
    "target = 6056 #+ 1*M #3' 57A\n",
    "# target = 18493 #5' 57A\n",
    "delta = M+2\n",
    "df5_match = df5_new[(df5_new.Mass>target-delta)&(df5_new.Mass<target+delta)]\n",
    "df6_match = df6_new[(df6_new.Mass>target-delta)&(df6_new.Mass<target+delta)]\n",
    "df5_match, df6_match"
   ]
  },
  {
   "cell_type": "code",
   "execution_count": null,
   "id": "ready-professional",
   "metadata": {},
   "outputs": [],
   "source": [
    "df_glu = pd.read_excel('/Users/bryan/Studio/tools/glu_24203_5p.xlsx')\n",
    "df_sample = df5\n",
    "for shift in [-1*M-1, -1*M, -1*M+1, -1, 0, 1, M-1, M, M+1]: #range(-16, -13, 1):\n",
    "    df_tmp = df_glu.copy()\n",
    "    df_tmp.Mass += shift\n",
    "    df_match = match_dfs(df_tmp, df_sample, ppm=20)\n",
    "    match_count = df_match.shape[0]\n",
    "    if match_count >0:\n",
    "        print(f'shift {shift} Da matched {match_count} compounds')\n",
    "        dfs.append(df_match)"
   ]
  },
  {
   "cell_type": "code",
   "execution_count": null,
   "id": "tracked-update",
   "metadata": {},
   "outputs": [],
   "source": [
    "plotly_zone(df8)"
   ]
  },
  {
   "cell_type": "code",
   "execution_count": null,
   "id": "embedded-arkansas",
   "metadata": {},
   "outputs": [],
   "source": [
    "# plotly_zone(df5_new, y='Vol')\n",
    "target = 3631 - 1*M\n",
    "delta = 10\n",
    "# df7_match = df7[(df7.Mass>target-delta)&(df7.Mass<target+delta)]\n",
    "# df8_match = df8[(df8.Mass>target-delta)&(df8.Mass<target+delta)]\n",
    "df3_match = df3[(df3.Mass>target-delta)&(df3.Mass<target+delta)]\n",
    "df4_match = df4[(df4.Mass>target-delta)&(df4.Mass<target+delta)]\n",
    "df3_match, df4_match"
   ]
  },
  {
   "cell_type": "code",
   "execution_count": null,
   "id": "chubby-consequence",
   "metadata": {},
   "outputs": [],
   "source": [
    "df6_only"
   ]
  },
  {
   "cell_type": "code",
   "execution_count": null,
   "id": "herbal-forwarding",
   "metadata": {},
   "outputs": [],
   "source": [
    "df6_comm = match_dfs(df5_new, df6_new)\n",
    "df6_only = df6_new.drop(df6_comm.index)\n",
    "plotly_zone(df6_only)"
   ]
  },
  {
   "cell_type": "code",
   "execution_count": null,
   "id": "coupled-helena",
   "metadata": {},
   "outputs": [],
   "source": [
    "df_bao = load_glu_mock(True)\n",
    "df_bao.shape"
   ]
  },
  {
   "cell_type": "code",
   "execution_count": null,
   "id": "quarterly-allocation",
   "metadata": {},
   "outputs": [],
   "source": [
    "df_glu = pd.read_excel('/Users/bryan/Studio/tools/glu_bao_5p.xlsx')\n",
    "df_tmp = df_glu.copy()\n",
    "df_m1 = match_dfs(df_tmp, df_bao)\n",
    "df_tmp.Mass += M\n",
    "df_m2 = match_dfs(df_tmp, df_bao)\n",
    "df_m1.shape, df_m2.shape"
   ]
  },
  {
   "cell_type": "code",
   "execution_count": null,
   "id": "considered-wagon",
   "metadata": {},
   "outputs": [],
   "source": [
    "plotly_zones(df_m1, df_m2)"
   ]
  },
  {
   "cell_type": "code",
   "execution_count": null,
   "id": "aggressive-manufacturer",
   "metadata": {},
   "outputs": [],
   "source": [
    "# plotly_zone(df1_25k, y='Vol')\n",
    "# plotly_zone(df2_25k, y='Vol')\n",
    "df_t1 = df1_25k.copy()\n",
    "df_t1.Vol /= 140000\n",
    "df_t2 = df2_25k.copy()\n",
    "df_t2.Vol /= 5000000\n",
    "plotly_zones(df_t1, df_t2, y='Vol', names=['s1', 's2'])"
   ]
  },
  {
   "cell_type": "code",
   "execution_count": null,
   "id": "detailed-webmaster",
   "metadata": {},
   "outputs": [],
   "source": [
    "df_tmp = df1_25k.copy()\n",
    "df_tmp.RT /= 6\n",
    "plotly_zones(df_tmp, df2_25k, names=['s1', 's2'], y='Vol')"
   ]
  },
  {
   "cell_type": "code",
   "execution_count": null,
   "id": "freelance-metropolitan",
   "metadata": {},
   "outputs": [],
   "source": [
    "mode = 'Mock'\n",
    "idx = 3\n",
    "isoform = glu_uc_isoforms[idx]\n",
    "df_top = df5_new.sort_values('Vol', ascending=False).iloc[500:2000]\n",
    "df_5p, df_3p = computational_data_seperation(df_top, df5_new, full_mass=glu_uc_masses[idx])\n",
    "df_5p.shape"
   ]
  },
  {
   "cell_type": "code",
   "execution_count": null,
   "id": "lesbian-clearing",
   "metadata": {},
   "outputs": [],
   "source": [
    "mode = 'AlkaB'\n",
    "idx = 3\n",
    "isoform = glu_uc_ak_isoforms[idx]\n",
    "df_top = df6_new.sort_values('Vol', ascending=False).iloc[:600]\n",
    "df_5p, df_3p = computational_data_seperation(df_top, df6_new, full_mass=glu_uc_ak_masses[idx])\n",
    "df_5p.shape"
   ]
  },
  {
   "cell_type": "code",
   "execution_count": null,
   "id": "adjusted-explosion",
   "metadata": {},
   "outputs": [],
   "source": [
    "plotly_zone(df_3p)\n",
    "plotly_zone(df_5p)"
   ]
  },
  {
   "cell_type": "code",
   "execution_count": null,
   "id": "editorial-harris",
   "metadata": {},
   "outputs": [],
   "source": [
    "# plotly_zone(df5_new, y='Vol')\n",
    "target = 10320 + M\n",
    "delta = 20\n",
    "df5_match = df5_new[(df5_new.Mass>target-delta)&(df5_new.Mass<target+delta)]\n",
    "df6_match = df6_new[(df6_new.Mass>target-delta)&(df6_new.Mass<target+delta)]\n",
    "df5_match, df6_match"
   ]
  },
  {
   "cell_type": "code",
   "execution_count": null,
   "id": "surprising-roman",
   "metadata": {},
   "outputs": [],
   "source": [
    "idxs = list()\n",
    "# create our callback function\n",
    "def on_selection(trace, points, selector):\n",
    "    print('points {}'.format(points.point_inds) )\n",
    "    idxs.extend(points.point_inds)\n",
    "\n",
    "def on_click(trace, points, selector):\n",
    "#     print('points {}'.format(points.point_inds) )\n",
    "    idxs.extend(points.point_inds)\n",
    "\n",
    "# df_sample = df5_new[(df5_new.RT>10)&(df5_new.Mass>5900)] #df_5p[df_5p.RT>15]\n",
    "df_sample = df_5p #df6_new[(df6_new.RT>10)&(df6_new.Mass>5900)]\n",
    "f = zone_selection(df_sample, on_selection=on_selection, on_click=on_click)\n",
    "f"
   ]
  },
  {
   "cell_type": "code",
   "execution_count": null,
   "id": "marked-comfort",
   "metadata": {},
   "outputs": [],
   "source": [
    "df_chosen = df_sample.iloc[idxs]\n",
    "# df_chosen = df_sample.drop(df_chosen.index)\n",
    "df_chosen.shape"
   ]
  },
  {
   "cell_type": "code",
   "execution_count": null,
   "id": "reserved-dominican",
   "metadata": {},
   "outputs": [],
   "source": [
    "df5_skeleton = df_chosen.drop_duplicates().copy().sort_values('Mass')"
   ]
  },
  {
   "cell_type": "code",
   "execution_count": null,
   "id": "amazing-england",
   "metadata": {},
   "outputs": [],
   "source": [
    "df3_skeleton = df_chosen.drop_duplicates().copy().sort_values('Mass')"
   ]
  },
  {
   "cell_type": "code",
   "execution_count": null,
   "id": "framed-brief",
   "metadata": {},
   "outputs": [],
   "source": [
    "df5_skeleton.to_excel(f'/Users/bryan/Documents/BioTechData/GluUC/{mode}/{isoform}/5p_skeleton.xlsx')\n",
    "df3_skeleton.to_excel(f'/Users/bryan/Documents/BioTechData/GluUC/{mode}/{isoform}/3p_skeleton.xlsx')"
   ]
  },
  {
   "cell_type": "code",
   "execution_count": null,
   "id": "engaging-credit",
   "metadata": {},
   "outputs": [],
   "source": []
  },
  {
   "cell_type": "code",
   "execution_count": null,
   "id": "loved-thompson",
   "metadata": {},
   "outputs": [],
   "source": [
    "orientation = 5\n",
    "\n",
    "df_sample = df5_new # sample 5\n",
    "mass = glu_uc_masses[idx]\n",
    "df_skeleton = df5_skeleton if orientation == 5 else df3_skeleton\n",
    "fullmass_dot = df_sample[(df_sample.Mass>mass-0.1) & (df_sample.Mass<mass+0.1)]\n",
    "print(fullmass_dot)\n",
    "df_gap = find_gap_dots(df_sample, df_skeleton, fullmass_dot, major=True, stop_at=24000, orientation=orientation) #\n",
    "df_gap.shape"
   ]
  },
  {
   "cell_type": "code",
   "execution_count": null,
   "id": "imported-immune",
   "metadata": {},
   "outputs": [],
   "source": [
    "dfa = df5_skeleton.copy() if orientation == 5 else df3_skeleton.copy()\n",
    "dfb = df_gap.copy()\n",
    "dfa['isSkeleton'] = True\n",
    "dfb['isSkeleton'] = False\n",
    "plotly_zones(dfa, dfb)\n",
    "df_mg = pd.concat([dfa, dfb])\n",
    "df_mg = df_mg.drop_duplicates(subset=['Mass', 'RT']).sort_values('Mass')\n",
    "df_mg.to_excel(f'/Users/bryan/Documents/BioTechData/GluUC/{mode}/{isoform}/{orientation}p_gapfill.xlsx')"
   ]
  },
  {
   "cell_type": "code",
   "execution_count": null,
   "id": "supported-symbol",
   "metadata": {},
   "outputs": [],
   "source": [
    "df_sample = df_mg\n",
    "bcr = base_calling_random(df_sample)\n",
    "plotly_basecalling(*bcr, annotate=False)\n",
    "df = process_mass_base_seats(df_sample, bcr[1], full_mass=glu_uc_masses[idx])\n",
    "dump_glu_uc_mock_seats(df, glu_uc_isoforms[idx], orientation=orientation)"
   ]
  },
  {
   "cell_type": "code",
   "execution_count": null,
   "id": "active-worcester",
   "metadata": {},
   "outputs": [],
   "source": []
  },
  {
   "cell_type": "code",
   "execution_count": null,
   "id": "incredible-charleston",
   "metadata": {},
   "outputs": [],
   "source": [
    "df5_gapfill = pd.read_excel(f'/Users/bryan/Documents/BioTechData/GluUC/{mode}/{isoform}/5p_gapfill_analysis.xlsx')\n",
    "df3_gapfill = pd.read_excel(f'/Users/bryan/Documents/BioTechData/GluUC/{mode}/{isoform}/3p_gapfill_analysis.xlsx')\n"
   ]
  },
  {
   "cell_type": "code",
   "execution_count": null,
   "id": "apart-capacity",
   "metadata": {},
   "outputs": [],
   "source": [
    "plotly_zone(df3_gapfill)"
   ]
  },
  {
   "cell_type": "code",
   "execution_count": null,
   "id": "jewish-malaysia",
   "metadata": {},
   "outputs": [],
   "source": []
  },
  {
   "cell_type": "code",
   "execution_count": null,
   "id": "matched-pilot",
   "metadata": {},
   "outputs": [],
   "source": [
    "groups = basecalling_groups(df6_new)"
   ]
  },
  {
   "cell_type": "code",
   "execution_count": null,
   "id": "herbal-original",
   "metadata": {},
   "outputs": [],
   "source": [
    "df = groups[0][0]\n",
    "# df.to_excel('/Users/bryan/Documents/Data/UC/seq_dots.xlsx')"
   ]
  },
  {
   "cell_type": "code",
   "execution_count": null,
   "id": "brown-inspiration",
   "metadata": {},
   "outputs": [],
   "source": [
    "# df = pd.read_excel('/Users/bryan/Documents/Data/UC/seq_dots_analysis.xlsx')\n",
    "# df_tmp = df[(df.Mass>10000)&(df.Mass<14000)]\n",
    "bcr = base_calling_random(df)\n",
    "plotly_basecalling(*bcr, annotate=False)\n",
    "df = process_mass_base_seats(*bcr, full_mass=glu_mock_masses[2], orientation=3)\n",
    "# df = process_base_seats(*groups[0], full_mass=glu_mock_masses[2], orientation=3)\n",
    "# df.to_excel('/Users/bryan/D÷ocuments/Data/UC/seq_seats.xlsx')"
   ]
  },
  {
   "cell_type": "code",
   "execution_count": null,
   "id": "treated-scotland",
   "metadata": {},
   "outputs": [],
   "source": [
    "df_glu = load_glu_mock(True)\n",
    "df_glu.shape"
   ]
  },
  {
   "cell_type": "markdown",
   "id": "small-footwear",
   "metadata": {},
   "source": [
    "# Sample 5"
   ]
  },
  {
   "cell_type": "code",
   "execution_count": null,
   "id": "answering-crest",
   "metadata": {},
   "outputs": [],
   "source": [
    "# df_glu = pd.read_excel('/Users/bryan/Studio/tools/glu_uc_24204_3p.xlsx')\n",
    "df_glu = pd.read_excel('/Users/bryan/Studio/tools/glu_24203_3p.xlsx')\n",
    "# df_glu = pd.read_excel('/Users/bryan/Studio/tools/glu_24217_5p.xlsx')\n",
    "# df_glu = pd.read_excel('/Users/bryan/Studio/tools/glu_uc_24218_5p.xlsx')\n",
    "# df_glu = pd.read_excel('/Users/bryan/Studio/tools/glu_24219_5p.xlsx')\n",
    "# df_glu = pd.read_excel('/Users/bryan/Studio/tools/glu_24232_5p.xlsx')\n",
    "# df_glu = pd.read_excel('/Users/bryan/Studio/tools/glu_24232_5p_2.xlsx')\n",
    "df_sample = df5_new.copy()\n",
    "# df_sample = df_sample[(df_sample.Mass>5900)&(df_sample.RT>10)]\n",
    "# df_sample = df_sample[(df_sample.Mass>4900)]\n",
    "\n",
    "# df_base_match = match_dfs(df_glu, df_sample)\n",
    "# dfs = list()\n",
    "# for shift in range(13, 15, 1):\n",
    "#     df_tmp = df_glu.copy()\n",
    "#     df_tmp.Mass += shift\n",
    "#     df_match = match_dfs(df_tmp, df_sample)\n",
    "#     match_count = df_match.shape[0]\n",
    "#     print(f'shift {shift} Da matched {match_count} compounds')\n",
    "#     if match_count > 0:\n",
    "#         dfs.append(df_match)\n",
    "\n",
    "df_tmp = df_glu.copy()\n",
    "df_m0 = match_dfs(df_tmp, df_sample)\n",
    "df_m6 = match_dfs(df_tmp, df6_new)\n",
    "print(df_m0.shape)\n",
    "df_tmp.Mass += 1\n",
    "df_m = match_dfs(df_tmp, df_sample)\n",
    "df_tmp.Mass += 1\n",
    "df_m1 = match_dfs(df_tmp, df_sample)\n",
    "df_tmp.Mass += 1\n",
    "df_m2 = match_dfs(df_tmp, df_sample)\n",
    "print(df_sample.shape, df_m.shape, df_m1.shape, df_m2.shape)\n",
    "plotly_zone(df_m0)\n",
    "\n",
    "# plotly_multi_zones([df_m0, df_m, df_m1, df_m2])\n",
    "plotly_zones(df_m0, df_m6)"
   ]
  },
  {
   "cell_type": "code",
   "execution_count": null,
   "id": "extensive-setup",
   "metadata": {},
   "outputs": [],
   "source": [
    "plotly_multi_zones(dfs[:], y='RT')\n",
    "# plotly_zone(df_base_match)"
   ]
  },
  {
   "cell_type": "code",
   "execution_count": null,
   "id": "aging-western",
   "metadata": {},
   "outputs": [],
   "source": [
    "# df_24219_3p = df_base_match.copy()\n",
    "# df_24219_5p = df_base_match.copy()\n",
    "# df_24219_3p.to_excel('~/Downloads/glu_24219_3p.xlsx')\n",
    "# df_24219_5p.to_excel('~/Downloads/glu_24219_5p.xlsx')"
   ]
  },
  {
   "cell_type": "code",
   "execution_count": null,
   "id": "bored-dollar",
   "metadata": {},
   "outputs": [],
   "source": [
    "df_m0.to_excel('~/Downloads/24232_3p.xlsx')"
   ]
  },
  {
   "cell_type": "code",
   "execution_count": null,
   "id": "bottom-arizona",
   "metadata": {},
   "outputs": [],
   "source": [
    "dfx = pd.read_excel('/Users/bryan/Documents/Data/UC/UC_Glu_5.xlsx')\n",
    "dfx = thermo_df(dfx)\n",
    "dfx.to_excel('/Users/bryan/Documents/Data/UC/UC_Glu_5_std.xlsx')"
   ]
  },
  {
   "cell_type": "code",
   "execution_count": null,
   "id": "desperate-pledge",
   "metadata": {},
   "outputs": [],
   "source": [
    "df_s5_24203_5p = df_m0.copy()\n",
    "df_s5_24203_5p_shift = pd.concat([df_m, df_m1]).drop_duplicates().copy()"
   ]
  },
  {
   "cell_type": "code",
   "execution_count": null,
   "id": "cultural-flower",
   "metadata": {},
   "outputs": [],
   "source": [
    "df_s5_24203_3p = df_m0.copy()"
   ]
  },
  {
   "cell_type": "code",
   "execution_count": null,
   "id": "complicated-clear",
   "metadata": {},
   "outputs": [],
   "source": [
    "df_s5_24217_5p = df_m0.copy()"
   ]
  },
  {
   "cell_type": "code",
   "execution_count": null,
   "id": "coupled-longer",
   "metadata": {},
   "outputs": [],
   "source": [
    "df_s5_24217_3p = df_m0.copy()\n",
    "df_s5_24217_3p.to_excel('/Users/bryan/Documents/BioTechData/GluUCDirect/Mock/24217_3p.xlsx')"
   ]
  },
  {
   "cell_type": "code",
   "execution_count": null,
   "id": "intimate-sessions",
   "metadata": {},
   "outputs": [],
   "source": [
    "df_s5_24203_5p.to_excel('/Users/bryan/Documents/BioTechData/GluUCDirect/Mock/24203_5p.xlsx')\n",
    "df_s5_24203_3p.to_excel('/Users/bryan/Documents/BioTechData/GluUCDirect/Mock/24203_3p.xlsx')\n",
    "df_s5_24203_5p_shift.to_excel('/Users/bryan/Documents/BioTechData/GluUCDirect/Mock/24203_5p_shift.xlsx')\n",
    "df_s5_24217_5p.to_excel('/Users/bryan/Documents/BioTechData/GluUCDirect/Mock/24217_5p.xlsx')\n",
    "df_s5_24217_3p.to_excel('/Users/bryan/Documents/BioTechData/GluUCDirect/Mock/24217_3p.xlsx')"
   ]
  },
  {
   "cell_type": "markdown",
   "id": "incorporate-sleep",
   "metadata": {},
   "source": [
    "# Merge Multi Samples"
   ]
  },
  {
   "cell_type": "code",
   "execution_count": null,
   "id": "former-judgment",
   "metadata": {},
   "outputs": [],
   "source": [
    "# merge multi data source\n",
    "dfa = pd.read_excel('/Users/bryan/Documents/Data/UC/UC_glu_5_rosa.xlsx')\n",
    "dfb = pd.read_excel('/Users/bryan/Documents/Data/UC/UC_glu_5_yue.xlsx')\n",
    "dfa = thermo_df(dfa)\n",
    "dfb = thermo_df(dfb)\n",
    "dfa_comm = match_dfs(dfb, dfa)\n",
    "dfa_rest = dfa.drop(dfa_comm.index)\n",
    "df_merge = pd.concat([dfb, dfa_rest])\n",
    "df_merge.to_excel('/Users/bryan/Documents/Data/UC/UC_glu_5_merge.xlsx')"
   ]
  },
  {
   "cell_type": "code",
   "execution_count": null,
   "id": "handed-convenience",
   "metadata": {},
   "outputs": [],
   "source": [
    "dfa = pd.read_excel('/Users/bryan/Documents/Data/UC/UC_glu_5_merge.xlsx')\n",
    "dfb = pd.read_excel('/Users/bryan/Documents/Data/UC/UC_glu_6_merge.xlsx')\n",
    "dfa = thermo_df(dfa)\n",
    "dfb = thermo_df(dfb)\n",
    "dfa_comm = match_dfs(dfb, dfa)\n",
    "dfa_rest = dfa.drop(dfa_comm.index)\n",
    "df_merge = pd.concat([dfb, dfa_rest])\n",
    "df_merge.to_excel('/Users/bryan/Documents/Data/UC/UC_glu_56_merge.xlsx')"
   ]
  },
  {
   "cell_type": "markdown",
   "id": "appointed-assets",
   "metadata": {},
   "source": [
    "# Sample 6"
   ]
  },
  {
   "cell_type": "code",
   "execution_count": null,
   "id": "played-tobago",
   "metadata": {},
   "outputs": [],
   "source": [
    "plotly_zones(df5_new[(df5_new.Mass>24000)], df6_new[(df6_new.Mass>24000)], y='RT')\n",
    "# plotly_zone(df6_new)\n",
    "# plotly_zone(df6)\n",
    "# plotly_zones(df6_new, df6)"
   ]
  },
  {
   "cell_type": "code",
   "execution_count": null,
   "id": "liquid-crystal",
   "metadata": {},
   "outputs": [],
   "source": [
    "# df_glu = pd.read_excel('/Users/bryan/Studio/tools/glu_76_3p.xlsx')\n",
    "# df_glu = pd.read_excel('/Users/bryan/Studio/tools/glu_uc_24204_5p.xlsx')\n",
    "# df_glu = pd.read_excel('/Users/bryan/Studio/tools/glu_uc_24218_5p.xlsx')\n",
    "# df_glu = pd.read_excel('/Users/bryan/Studio/tools/glu_24203_5p.xlsx')\n",
    "df_glu = pd.read_excel('/Users/bryan/Studio/tools/glu_24217_5p.xlsx')\n",
    "# df_sample = pd.read_excel('/Users/bryan/Downloads/DrChen_tRNAs6_complete.xlsx')\n",
    "# df_sample = pd.read_excel('/Users/bryan/Documents/BioPharmaFinder/BaoLab/FirstBatch/Excels/S6to10combined_20ul_40min_std.xlsx')\n",
    "# df_sample =thermo_df(df_sample)\n",
    "df_sample = df6_new.copy()\n",
    "# df_sample = df_sample[(df_sample.Mass>5900)&(df_sample.RT>10)]\n",
    "# df_sample = df_sample[(df_sample.Mass>4900)]\n",
    "\n",
    "df_base_match = match_dfs(df_glu, df_sample)\n",
    "dfs = list()\n",
    "for shift in [M-1, M, M+1, M+2]: #range(1, 2, 1):\n",
    "    df_tmp = df_glu.copy()\n",
    "    df_tmp.Mass += shift\n",
    "    df_match = match_dfs(df_tmp, df_sample)\n",
    "    match_count = df_match.shape[0]\n",
    "    print(f'shift {shift} Da matched {match_count} compounds')\n",
    "    if match_count > 2:\n",
    "        dfs.append(df_match)\n",
    "\n",
    "# df_tmp = df_glu.copy()\n",
    "# df_m0 = match_dfs(df_tmp, df_sample)\n",
    "# print(df_m0.shape)\n",
    "# df_tmp.Mass += 1 #\n",
    "# df_m = match_dfs(df_tmp, df_sample)\n",
    "# df_tmp.Mass += 1\n",
    "# df_m1 = match_dfs(df_tmp, df_sample)\n",
    "# print(df_sample.shape, df_m.shape, df_m1.shape)\n",
    "# # plotly_zones(df_m5, df_m0)\n",
    "# # plotly_multi_zones([df_m0, df_m])\n",
    "# plotly_zone(df_m0)\n",
    "plotly_multi_zones(dfs[0:1])\n",
    "\n",
    "# plotly_zone(df6_new[(df6_new.Mass>19120)&(df6_new.Mass<20036)])"
   ]
  },
  {
   "cell_type": "code",
   "execution_count": null,
   "id": "color-inspector",
   "metadata": {},
   "outputs": [],
   "source": []
  },
  {
   "cell_type": "code",
   "execution_count": null,
   "id": "lesbian-pressing",
   "metadata": {},
   "outputs": [],
   "source": [
    "df_s6_24203_5p = df_m0.copy()\n",
    "# df_s6_24203_5p_shift = df_m1 #pd.concat([df_m, df_m1]).drop_duplicates().copy()"
   ]
  },
  {
   "cell_type": "code",
   "execution_count": null,
   "id": "alien-satellite",
   "metadata": {},
   "outputs": [],
   "source": [
    "df_s6_24203_3p = df_m0.copy()"
   ]
  },
  {
   "cell_type": "code",
   "execution_count": null,
   "id": "included-acrylic",
   "metadata": {},
   "outputs": [],
   "source": [
    "df_s6_24204_5p = df_m0.copy()"
   ]
  },
  {
   "cell_type": "code",
   "execution_count": null,
   "id": "returning-grass",
   "metadata": {},
   "outputs": [],
   "source": [
    "df_s6_24204_3p = df_m0.copy()"
   ]
  },
  {
   "cell_type": "code",
   "execution_count": null,
   "id": "sized-illustration",
   "metadata": {},
   "outputs": [],
   "source": [
    "df_s6_24217_5p = df_m0.copy()"
   ]
  },
  {
   "cell_type": "code",
   "execution_count": null,
   "id": "horizontal-treatment",
   "metadata": {},
   "outputs": [],
   "source": [
    "df_s6_24217_3p = df_m0.copy()"
   ]
  },
  {
   "cell_type": "code",
   "execution_count": null,
   "id": "orange-disclosure",
   "metadata": {},
   "outputs": [],
   "source": [
    "df_s6_24218_5p = df_m0.copy()"
   ]
  },
  {
   "cell_type": "code",
   "execution_count": null,
   "id": "eastern-blake",
   "metadata": {},
   "outputs": [],
   "source": [
    "df_s6_24218_3p = df_m0.copy()"
   ]
  },
  {
   "cell_type": "code",
   "execution_count": null,
   "id": "statewide-relationship",
   "metadata": {},
   "outputs": [],
   "source": []
  },
  {
   "cell_type": "code",
   "execution_count": null,
   "id": "soviet-seminar",
   "metadata": {},
   "outputs": [],
   "source": [
    "df_s6_24203_5p.to_excel('/Users/bryan/Documents/BioTechData/GluUCDirect/AlkaB/24203_5p.xlsx')\n",
    "df_s6_24203_3p.to_excel('/Users/bryan/Documents/BioTechData/GluUCDirect/AlkaB/24203_3p.xlsx')\n",
    "df_s6_24203_5p_shift.to_excel('/Users/bryan/Documents/BioTechData/GluUCDirect/AlkaB/24203_5p_shift.xlsx')\n",
    "df_s6_24204_5p.to_excel('/Users/bryan/Documents/BioTechData/GluUCDirect/AlkaB/24204_5p.xlsx')\n",
    "df_s6_24204_3p.to_excel('/Users/bryan/Documents/BioTechData/GluUCDirect/AlkaB/24204_3p.xlsx')\n",
    "df_s6_24217_5p.to_excel('/Users/bryan/Documents/BioTechData/GluUCDirect/AlkaB/24217_5p.xlsx')\n",
    "df_s6_24217_3p.to_excel('/Users/bryan/Documents/BioTechData/GluUCDirect/AlkaB/24217_3p.xlsx')\n",
    "df_s6_24218_5p.to_excel('/Users/bryan/Documents/BioTechData/GluUCDirect/AlkaB/24218_5p.xlsx')\n",
    "df_s6_24218_3p.to_excel('/Users/bryan/Documents/BioTechData/GluUCDirect/AlkaB/24218_3p.xlsx')"
   ]
  },
  {
   "cell_type": "code",
   "execution_count": null,
   "id": "pressing-organic",
   "metadata": {},
   "outputs": [],
   "source": []
  },
  {
   "cell_type": "code",
   "execution_count": null,
   "id": "respected-alaska",
   "metadata": {},
   "outputs": [],
   "source": []
  },
  {
   "cell_type": "code",
   "execution_count": null,
   "id": "underlying-month",
   "metadata": {},
   "outputs": [],
   "source": []
  },
  {
   "cell_type": "markdown",
   "id": "palestinian-interference",
   "metadata": {},
   "source": [
    "# Sample 5&6 Merge"
   ]
  },
  {
   "cell_type": "code",
   "execution_count": null,
   "id": "fabulous-affect",
   "metadata": {},
   "outputs": [],
   "source": [
    "# df_glu = pd.read_excel('/Users/bryan/Studio/tools/glu_76_3p.xlsx')\n",
    "# df_glu = pd.read_excel('/Users/bryan/Studio/tools/glu_uc_24204_5p.xlsx')\n",
    "# df_glu = pd.read_excel('/Users/bryan/Studio/tools/glu_uc_24218_5p.xlsx')\n",
    "# df_glu = pd.read_excel('/Users/bryan/Studio/tools/glu_24203_5p.xlsx')\n",
    "df_glu = pd.read_excel('/Users/bryan/Studio/tools/glu_24217_5p.xlsx')\n",
    "\n",
    "df_sample = pd.read_excel('/Users/bryan/Documents/Data/UC/UC_glu_56_merge.xlsx')\n",
    "df_sample =thermo_df(df_sample)\n",
    "\n",
    "# df_base_match = match_dfs(df_glu, df_sample)\n",
    "# dfs = list()\n",
    "# for shift in range(1, 2, 1):\n",
    "#     df_tmp = df_glu.copy()\n",
    "#     df_tmp.Mass += shift\n",
    "#     df_match = match_dfs(df_tmp, df_sample)\n",
    "#     match_count = df_match.shape[0]\n",
    "#     print(f'shift {shift} Da matched {match_count} compounds')\n",
    "#     if match_count > 0:\n",
    "#         dfs.append(df_match)\n",
    "\n",
    "df_tmp = df_glu.copy()\n",
    "df_m0 = match_dfs(df_tmp, df_sample)\n",
    "print(df_m0.shape)\n",
    "plotly_zone(df_m0)\n"
   ]
  },
  {
   "cell_type": "code",
   "execution_count": null,
   "id": "advance-billy",
   "metadata": {},
   "outputs": [],
   "source": []
  },
  {
   "cell_type": "code",
   "execution_count": null,
   "id": "stuffed-thumb",
   "metadata": {},
   "outputs": [],
   "source": [
    "df_s6_24203_5p = df_m0.copy()"
   ]
  },
  {
   "cell_type": "code",
   "execution_count": null,
   "id": "little-technician",
   "metadata": {},
   "outputs": [],
   "source": [
    "df_s6_24203_3p = df_m0.copy()"
   ]
  },
  {
   "cell_type": "code",
   "execution_count": null,
   "id": "daily-gilbert",
   "metadata": {},
   "outputs": [],
   "source": [
    "df_s6_24204_5p = df_m0.copy()"
   ]
  },
  {
   "cell_type": "code",
   "execution_count": null,
   "id": "genuine-desire",
   "metadata": {},
   "outputs": [],
   "source": [
    "df_s6_24204_3p = df_m0.copy()"
   ]
  },
  {
   "cell_type": "code",
   "execution_count": null,
   "id": "threatened-collectible",
   "metadata": {},
   "outputs": [],
   "source": [
    "df_s6_24217_5p = df_m0.copy()"
   ]
  },
  {
   "cell_type": "code",
   "execution_count": null,
   "id": "sized-skiing",
   "metadata": {},
   "outputs": [],
   "source": [
    "df_s6_24217_3p = df_m0.copy()"
   ]
  },
  {
   "cell_type": "code",
   "execution_count": null,
   "id": "informational-orlando",
   "metadata": {},
   "outputs": [],
   "source": [
    "df_s6_24203_5p.to_excel('/Users/bryan/Documents/BioTechData/GluUCDirect/Merge/24203_5p.xlsx')\n",
    "df_s6_24203_3p.to_excel('/Users/bryan/Documents/BioTechData/GluUCDirect/Merge/24203_3p.xlsx')\n",
    "df_s6_24204_5p.to_excel('/Users/bryan/Documents/BioTechData/GluUCDirect/Merge/24204_5p.xlsx')\n",
    "df_s6_24204_3p.to_excel('/Users/bryan/Documents/BioTechData/GluUCDirect/Merge/24204_3p.xlsx')\n",
    "df_s6_24217_5p.to_excel('/Users/bryan/Documents/BioTechData/GluUCDirect/Merge/24217_5p.xlsx')\n",
    "df_s6_24217_3p.to_excel('/Users/bryan/Documents/BioTechData/GluUCDirect/Merge/24217_3p.xlsx')"
   ]
  },
  {
   "cell_type": "code",
   "execution_count": null,
   "id": "generic-violin",
   "metadata": {},
   "outputs": [],
   "source": [
    "df_s6_24203_5p.Vol.mean(), df_s6_24203_3p.Vol.mean(), df_s6_24217_5p.Vol.mean(), df_s6_24217_3p.Vol.mean()"
   ]
  },
  {
   "cell_type": "code",
   "execution_count": null,
   "id": "beautiful-harrison",
   "metadata": {},
   "outputs": [],
   "source": [
    "df_s6_24204_5p.Vol.mean(), df_s6_24204_3p.Vol.mean()"
   ]
  },
  {
   "cell_type": "code",
   "execution_count": null,
   "id": "plastic-rachel",
   "metadata": {},
   "outputs": [],
   "source": [
    "dfa = df_s6_24203_5p\n",
    "dfb = df_s6_24204_5p\n",
    "dfa = dfa[(dfa.Mass>3325)&(dfa.Mass<4580)]\n",
    "dfb = dfb[(dfb.Mass>3325)&(dfb.Mass<4580)]\n",
    "dfa.sort_values('Mass'), dfb.sort_values('Mass')"
   ]
  },
  {
   "cell_type": "code",
   "execution_count": null,
   "id": "incoming-plaintiff",
   "metadata": {},
   "outputs": [],
   "source": [
    "plotly_zones(df_s6_24203_5p, df_s6_24204_5p)"
   ]
  },
  {
   "cell_type": "code",
   "execution_count": null,
   "id": "aquatic-definition",
   "metadata": {},
   "outputs": [],
   "source": []
  },
  {
   "cell_type": "code",
   "execution_count": null,
   "id": "tracked-input",
   "metadata": {},
   "outputs": [],
   "source": []
  },
  {
   "cell_type": "code",
   "execution_count": null,
   "id": "dying-church",
   "metadata": {},
   "outputs": [],
   "source": []
  }
 ],
 "metadata": {
  "kernelspec": {
   "display_name": "Python 3",
   "language": "python",
   "name": "python3"
  },
  "language_info": {
   "codemirror_mode": {
    "name": "ipython",
    "version": 3
   },
   "file_extension": ".py",
   "mimetype": "text/x-python",
   "name": "python",
   "nbconvert_exporter": "python",
   "pygments_lexer": "ipython3",
   "version": "3.7.3"
  }
 },
 "nbformat": 4,
 "nbformat_minor": 5
}
