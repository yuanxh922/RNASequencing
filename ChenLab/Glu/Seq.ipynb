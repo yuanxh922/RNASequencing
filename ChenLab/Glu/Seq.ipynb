{
 "cells": [
  {
   "cell_type": "code",
   "execution_count": null,
   "id": "small-integration",
   "metadata": {},
   "outputs": [],
   "source": [
    "import pandas as pd"
   ]
  },
  {
   "cell_type": "code",
   "execution_count": null,
   "id": "bottom-synthesis",
   "metadata": {},
   "outputs": [],
   "source": [
    "%run data.ipynb\n",
    "%run ../modules/cds.ipynb\n",
    "%run ../modules/utils.ipynb\n",
    "%run ../modules/preprocessing.ipynb"
   ]
  },
  {
   "cell_type": "code",
   "execution_count": null,
   "id": "decreased-island",
   "metadata": {},
   "outputs": [],
   "source": [
    "df_mock_24189 = load_glu_data_mock(glu_isoforms[0])\n",
    "df_mock_24203 = load_glu_data_mock(glu_isoforms[1])\n",
    "df_mock_24217 = load_glu_data_mock(glu_isoforms[2])\n",
    "dfs = [df_mock_24189, df_mock_24203, df_mock_24217]"
   ]
  },
  {
   "cell_type": "code",
   "execution_count": null,
   "id": "aware-saturn",
   "metadata": {},
   "outputs": [],
   "source": [
    "df_mock_24189_3p = load_glu_data_mock(glu_isoforms[0], orientation=3)\n",
    "df_mock_24203_3p = load_glu_data_mock(glu_isoforms[1], orientation=3)\n",
    "df_mock_24217_3p = load_glu_data_mock(glu_isoforms[2], orientation=3)\n",
    "dfs_3p = [df_mock_24189_3p, df_mock_24203_3p, df_mock_24217_3p]"
   ]
  },
  {
   "cell_type": "code",
   "execution_count": null,
   "id": "human-pipeline",
   "metadata": {},
   "outputs": [],
   "source": [
    "idx = 1\n",
    "orientation = 5\n",
    "df_sample = dfs[idx]\n",
    "# df_sample = dfs_3p[idx]\n",
    "bcr = base_calling_random(df_sample)\n",
    "plotly_basecalling(*bcr, annotate=False)\n",
    "# df = process_mass_base_seats(df_sample, bcr[1], full_mass=glu_mock_masses[idx])\n",
    "# dump_glu_mock_seats(df, glu_isoforms[idx], orientation=orientation)"
   ]
  },
  {
   "cell_type": "code",
   "execution_count": null,
   "id": "alpha-conservative",
   "metadata": {},
   "outputs": [],
   "source": []
  },
  {
   "cell_type": "code",
   "execution_count": null,
   "id": "cheap-dancing",
   "metadata": {},
   "outputs": [],
   "source": [
    "# df_rsv_24189 = load_glu_data_mock(glu_isoforms[0])\n",
    "# df_rsv_24203 = load_glu_data_mock(glu_isoforms[1])\n",
    "# df_mock_24217 = load_glu_data_mock(glu_isoforms[2])\n",
    "# dfs = [df_mock_24189, df_mock_24203, df_mock_24217]\n",
    "\n",
    "dfs_rsv_5p = list()\n",
    "dfs_rsv_3p = list()\n",
    "for i in range(3):\n",
    "    df_rsv = load_glu_data_rsv(glu_isoforms[i])\n",
    "    dfs_rsv_5p.append(df_rsv)\n",
    "    df_rsv = load_glu_data_rsv(glu_isoforms[i], orientation=3)\n",
    "    dfs_rsv_3p.append(df_rsv)"
   ]
  },
  {
   "cell_type": "code",
   "execution_count": null,
   "id": "based-shepherd",
   "metadata": {},
   "outputs": [],
   "source": [
    "idx = 2\n",
    "orientation = 3\n",
    "# df_sample = dfs_rsv_5p[idx]\n",
    "df_sample = dfs_rsv_3p[idx]\n",
    "bcr = base_calling_random(df_sample)\n",
    "plotly_basecalling(*bcr, annotate=False)\n",
    "df = process_mass_base_seats(df_sample, bcr[1], full_mass=glu_rsv_masses[idx])\n",
    "dump_glu_rsv_seats(df, glu_isoforms[idx], orientation=orientation)"
   ]
  },
  {
   "cell_type": "code",
   "execution_count": null,
   "id": "popular-excellence",
   "metadata": {},
   "outputs": [],
   "source": []
  },
  {
   "cell_type": "code",
   "execution_count": null,
   "id": "iraqi-system",
   "metadata": {},
   "outputs": [],
   "source": [
    "dft = load_glu_rsv(True)\n",
    "dft[(dft.Mass>7310)&(dft.Mass<7362)]"
   ]
  },
  {
   "cell_type": "code",
   "execution_count": null,
   "id": "documentary-samoa",
   "metadata": {},
   "outputs": [],
   "source": [
    "plotly_zone(dft[(dft.Mass>24100)&(dft.Mass<24300)])"
   ]
  },
  {
   "cell_type": "code",
   "execution_count": null,
   "id": "nearby-optimum",
   "metadata": {},
   "outputs": [],
   "source": []
  }
 ],
 "metadata": {
  "kernelspec": {
   "display_name": "Python 3",
   "language": "python",
   "name": "python3"
  },
  "language_info": {
   "codemirror_mode": {
    "name": "ipython",
    "version": 3
   },
   "file_extension": ".py",
   "mimetype": "text/x-python",
   "name": "python",
   "nbconvert_exporter": "python",
   "pygments_lexer": "ipython3",
   "version": "3.7.3"
  }
 },
 "nbformat": 4,
 "nbformat_minor": 5
}
