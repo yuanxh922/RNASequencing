{
 "cells": [
  {
   "cell_type": "code",
   "execution_count": null,
   "id": "empirical-myanmar",
   "metadata": {},
   "outputs": [],
   "source": [
    "import pandas as pd\n",
    "import matplotlib\n",
    "import plotly.express as px\n",
    "import matplotlib.pyplot as plt"
   ]
  },
  {
   "cell_type": "code",
   "execution_count": null,
   "id": "alleged-conference",
   "metadata": {},
   "outputs": [],
   "source": [
    "%run data.ipynb\n",
    "%run ../modules/utils.ipynb\n",
    "%run ../modules/cds.ipynb\n",
    "%run ../modules/preprocessing.ipynb"
   ]
  },
  {
   "cell_type": "code",
   "execution_count": null,
   "id": "nearby-spain",
   "metadata": {},
   "outputs": [],
   "source": [
    "df_217_3p = pd.read_excel('/Users/bryan/Studio/tools/glu_24217_3p_6mG.xlsx')\n",
    "df_217_5p = pd.read_excel('/Users/bryan/Studio/tools/glu_24217_5p_6mG.xlsx')\n",
    "df_218_3p = pd.read_excel('/Users/bryan/Studio/tools/glu_24218_3p.xlsx')\n",
    "df_218_5p = pd.read_excel('/Users/bryan/Studio/tools/glu_24218_5p.xlsx')\n",
    "df_203_3p = pd.read_excel('/Users/bryan/Studio/tools/glu_24203_3p_6mG.xlsx')\n",
    "df_203_5p = pd.read_excel('/Users/bryan/Studio/tools/glu_24203_5p_6mG.xlsx')\n",
    "df_232_3p = pd.read_excel('/Users/bryan/Studio/tools/glu_24232_3p.xlsx')\n",
    "df_232_5p = pd.read_excel('/Users/bryan/Studio/tools/glu_24232_5p.xlsx')\n",
    "df_204_3p = pd.read_excel('/Users/bryan/Studio/tools/glu_24204_3p.xlsx')\n",
    "df_204_5p = pd.read_excel('/Users/bryan/Studio/tools/glu_24204_5p.xlsx')\n",
    "df_189_3p = pd.read_excel('/Users/bryan/Studio/tools/glu_24189_3p.xlsx')\n",
    "df_189_5p = pd.read_excel('/Users/bryan/Studio/tools/glu_24189_5p.xlsx')"
   ]
  },
  {
   "cell_type": "code",
   "execution_count": null,
   "id": "mature-assist",
   "metadata": {},
   "outputs": [],
   "source": [
    "df_templates_5p = [df_217_5p, df_203_5p, df_204_5p, df_189_5p, df_218_5p, df_232_5p]\n",
    "df_templates_3p = [df_217_3p, df_203_3p, df_204_3p, df_189_3p, df_218_3p, df_232_3p]"
   ]
  },
  {
   "cell_type": "code",
   "execution_count": null,
   "id": "intelligent-monaco",
   "metadata": {},
   "outputs": [],
   "source": [
    "df0_ctrl = load_uc_glu(1)\n",
    "df0_ctrl_alkb = load_uc_glu(2)\n",
    "plotly_zone(df0_ctrl)\n",
    "\n",
    "df1_ctrl = load_uc2(5, intact=True)\n",
    "df1_ctrl_alkb = load_uc2(6, intact=True)\n",
    "plotly_zone(df1_ctrl)"
   ]
  },
  {
   "cell_type": "code",
   "execution_count": null,
   "id": "difficult-oriental",
   "metadata": {},
   "outputs": [],
   "source": [
    "df0 = pd.read_excel('/Users/bryan/Documents/Data/UC/UC_glu_5_rosa.xlsx')\n",
    "df0 = thermo_df(df0)\n",
    "\n",
    "df1 = load_uc2(17)\n",
    "\n",
    "df2 = pd.read_excel('/Users/bryan/Documents/ChenLab/10Jun2021/degraded/DrChen_tRNA_A_Glu_FA_17.xlsx')\n",
    "df2 = thermo_df(df2)"
   ]
  },
  {
   "cell_type": "code",
   "execution_count": null,
   "id": "usual-laptop",
   "metadata": {},
   "outputs": [],
   "source": [
    "dfm_5ps = list()\n",
    "dfm_3ps = list()\n",
    "dfm_3ps_rev = list()\n",
    "df_sample = df1.copy()\n",
    "for df_template in df_templates_5p:\n",
    "    dfm = match_dfs(df_template, df_sample)\n",
    "    dfm_5ps.append(dfm)\n",
    "\n",
    "for df_template in df_templates_3p:\n",
    "    dfm = match_dfs(df_template, df_sample)\n",
    "    dfm_3ps.append(dfm)\n",
    "    \n",
    "    dfm_rev = dfm.copy()\n",
    "    dfm_rev.Mass = df_template.Mass.max() + H2O - dfm_rev.Mass\n",
    "    dfm_rev = dfm_rev[dfm_rev.Mass>200]\n",
    "    dfm_3ps_rev.append(dfm_rev)"
   ]
  },
  {
   "cell_type": "code",
   "execution_count": null,
   "id": "hawaiian-anxiety",
   "metadata": {},
   "outputs": [],
   "source": [
    "fig, (ax1, ax2) = plt.subplots(2, figsize=(12, 5), \n",
    "                               sharex=True, sharey=True, \n",
    "                               gridspec_kw={'height_ratios': [5, 1]})\n",
    "\n",
    "dfs = [\n",
    "       (dfm_5ps[0], \"24160 5'\"),\n",
    "       (dfm_5ps[1], \"24159 5'\"),\n",
    "       (dfm_5ps[2], \"24174 5'\"),\n",
    "       (dfm_5ps[3], \"24175 5'\"),\n",
    "#        (dfm_5ps[4], \"23947 5'\"),\n",
    "       \n",
    "       (dfm_3ps_rev[0], \"24160 3' --> 5'\"),\n",
    "       (dfm_3ps_rev[1], \"24159 3' --> 5'\"),\n",
    "       (dfm_3ps_rev[2], \"24174 3' --> 5'\"),\n",
    "       (dfm_3ps_rev[3], \"24175 3' --> 5'\"),\n",
    "#        (dfm_3ps_rev[4], \"23947 3' --> 5'\"),\n",
    "      ] \n",
    "\n",
    "total = len(dfs)\n",
    "df_isoforms = list()\n",
    "for idx, item in enumerate(dfs):\n",
    "    df_iso = item[0].copy()\n",
    "    print(idx, df_iso.shape)\n",
    "    if 'Position' in df_iso.columns:\n",
    "        df_iso['pos'] = df_iso.Position\n",
    "    else:\n",
    "        df_iso['pos'] = df_iso.Mass/320\n",
    "        df_iso.pos.astype(int)\n",
    "    label = item[1]\n",
    "    ax1.scatter(df_iso.Mass, [total - idx]*len(df_iso.Mass), label=label)\n",
    "    \n",
    "    df_iso['Isoform'] = idx + 1\n",
    "    df_isoforms.append(df_iso)\n",
    "# plt.legend(loc=3)\n",
    "ax1.xaxis.set_ticks(np.arange(0, 25000, 1000))\n",
    "\n",
    "df_merge_5p = pd.concat(df_isoforms).drop_duplicates(subset=['Mass', 'RT'])\n",
    "print(df_merge_5p.shape)\n",
    "ax2.scatter(df_merge_5p.Mass, [3]*df_merge_5p.shape[0], color='b')\n",
    "\n",
    "ax = plt.gca()\n",
    "plt.draw()\n",
    "ax2.set_xticklabels(ax2.get_xticks(), rotation = 45)\n",
    "# df_merge_5p = pd.concat(df_isoforms)\n",
    "# output(df_merge_5p, plt, fig, 1, 'phe_complement_5p3p')\n",
    "\n",
    "# fig.tight_layout()\n",
    "# plt.savefig('/Users/bryan/Downloads/tRNA_phe_olis2c1_complement.svg', transparent=True, dpi=300)"
   ]
  },
  {
   "cell_type": "code",
   "execution_count": null,
   "id": "loved-insured",
   "metadata": {},
   "outputs": [],
   "source": []
  },
  {
   "cell_type": "code",
   "execution_count": null,
   "id": "earlier-pencil",
   "metadata": {},
   "outputs": [],
   "source": [
    "df_masses = pd.read_excel('~/Downloads/glu_isoforms.xlsx')\n",
    "df_hm = match_dfs(df_masses, df0_ctrl)\n",
    "df_hm_alkb = match_dfs(df_masses, df0_ctrl_alkb)\n",
    "df_hm['Ratio'] = df_hm.Vol / df_hm.Vol.max()\n",
    "df_hm_alkb['Ratio'] = df_hm_alkb.Vol / df_hm.Vol.max()\n",
    "df_hm, df_hm_alkb"
   ]
  },
  {
   "cell_type": "code",
   "execution_count": null,
   "id": "urban-russia",
   "metadata": {},
   "outputs": [],
   "source": [
    "plotly_zones(df_hm, df_hm_alkb, y='Ratio')"
   ]
  },
  {
   "cell_type": "code",
   "execution_count": null,
   "id": "spiritual-senate",
   "metadata": {},
   "outputs": [],
   "source": [
    "fig = plt.figure(figsize=(10, 6))\n",
    "plt.scatter(df_hm.Mass, df_hm.Ratio, s=100, color='black', label='Wild-type') ##bdc1c1\n",
    "plt.scatter(df_hm_alkb.Mass, df_hm_alkb.Ratio, s=100, color='r', label='AlkB') ##d9d9d9\n",
    "\n",
    "for idx, row in df_hm.iterrows():\n",
    "        x_pos = row.Mass\n",
    "        y_pos = row.Ratio\n",
    "        mass = '{:.4f}'.format(x_pos)\n",
    "        plt.annotate(text=mass, size=13, xy=(x_pos, y_pos), \n",
    "                     textcoords=\"offset points\", xytext=(10, -20), ha='center')\n",
    "\n",
    "for idx, row in df_hm_alkb.iterrows():\n",
    "        x_pos = row.Mass\n",
    "        y_pos = row.Ratio\n",
    "        mass = '{:.4f}'.format(x_pos)\n",
    "        plt.annotate(text=mass, size=13, xy=(x_pos, y_pos), \n",
    "                     textcoords=\"offset points\", xytext=(10, -20), ha='center', color='r')\n",
    "\n",
    "plt.legend()\n",
    "\n",
    "fig.tight_layout()\n",
    "plt.savefig('/Users/bryan/Downloads/glu_homology_v2.svg', transparent=True, dpi=300)"
   ]
  },
  {
   "cell_type": "code",
   "execution_count": null,
   "id": "ranking-vacuum",
   "metadata": {},
   "outputs": [],
   "source": []
  }
 ],
 "metadata": {
  "kernelspec": {
   "display_name": "Python 3",
   "language": "python",
   "name": "python3"
  },
  "language_info": {
   "codemirror_mode": {
    "name": "ipython",
    "version": 3
   },
   "file_extension": ".py",
   "mimetype": "text/x-python",
   "name": "python",
   "nbconvert_exporter": "python",
   "pygments_lexer": "ipython3",
   "version": "3.7.3"
  }
 },
 "nbformat": 4,
 "nbformat_minor": 5
}
