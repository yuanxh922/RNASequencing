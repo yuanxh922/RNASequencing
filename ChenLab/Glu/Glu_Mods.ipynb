{
 "cells": [
  {
   "cell_type": "code",
   "execution_count": null,
   "id": "subtle-clerk",
   "metadata": {},
   "outputs": [],
   "source": [
    "import pandas as pd\n",
    "import matplotlib"
   ]
  },
  {
   "cell_type": "code",
   "execution_count": null,
   "id": "artificial-output",
   "metadata": {},
   "outputs": [],
   "source": [
    "%run data.ipynb\n",
    "%run ../modules/preprocessing.ipynb\n",
    "%run ../modules/cds.ipynb\n",
    "%run ../modules/utils.ipynb"
   ]
  },
  {
   "cell_type": "code",
   "execution_count": null,
   "id": "adjustable-antique",
   "metadata": {},
   "outputs": [],
   "source": [
    "C+15"
   ]
  },
  {
   "cell_type": "code",
   "execution_count": null,
   "id": "sorted-emperor",
   "metadata": {},
   "outputs": [],
   "source": [
    "dfx = pd.read_excel('/Users/bryan/Documents/Data/UC/UC_glu_6_rosa.xlsx')\n",
    "# dfx = pd.read_excel('/Users/bryan/Documents/ChenLab/10Jun2021/degraded/DrChen_tRNA_A_Glu_FA_17.xlsx')\n",
    "dfx = thermo_df(dfx)\n",
    "\n",
    "# dfx = load_uc2(18)\n",
    "plotly_zone(dfx)\n",
    "plotly_zone(dfx, y='Vol')"
   ]
  },
  {
   "cell_type": "code",
   "execution_count": null,
   "id": "induced-impression",
   "metadata": {},
   "outputs": [],
   "source": [
    "target = 6528\n",
    "df_sample = dfx\n",
    "dfa = df_sample[(df_sample.Mass>target-1)&(df_sample.Mass<target+1)]\n",
    "target += M + 1\n",
    "dfb = df_sample[(df_sample.Mass>target-1)&(df_sample.Mass<target+1)]\n",
    "dfa, dfb"
   ]
  },
  {
   "cell_type": "code",
   "execution_count": null,
   "id": "integral-engine",
   "metadata": {},
   "outputs": [],
   "source": [
    "# direct sequencing\n",
    "df_src = dfx.copy()\n",
    "df_top = df_src[(df_src.Mass>5000)&(df_src.Mass<7000)].sort_values('Vol', ascending=False).iloc[:500].copy()\n",
    "df_top.shape\n",
    "# df_top = df_src.copy()\n",
    "\n",
    "# df_salts = list()\n",
    "# for salt in [21.9819, 37.9558, 34.9694, 27.9949, 56.92]:\n",
    "#     df_salt = match_dfs(df_top, df_top, shift=salt)\n",
    "# #     df_top = df_top.drop(df_salt.index)\n",
    "#     df_salts.append(df_salt)\n",
    "# df_salts = pd.concat(df_salts).drop_duplicates()\n",
    "# # df_top = df_top.drop(df_salts.index)\n",
    "# # plotly_zones(df_top, df_salts)\n",
    "\n",
    "bcr = base_calling_random(df_top)\n",
    "plotly_basecalling(*bcr, annotate=False)\n",
    "# groups = basecalling_groups(df_top)\n",
    "# plotly_basecalling(*groups[0], annotate=False)\n",
    "\n",
    "dfm1 = match_dfs(bcr[0], df_src, shift=-1*M)\n",
    "dfm2 = match_dfs(bcr[0], df_src, shift=1*M)\n",
    "# plotly_multi_zones([bcr[0], dfm1, dfm2])\n",
    "if not dfm1.empty:\n",
    "    plotly_zones(bcr[0], dfm1, names=['baseline', 'de-methyl'])"
   ]
  },
  {
   "cell_type": "code",
   "execution_count": null,
   "id": "graphic-wonder",
   "metadata": {},
   "outputs": [],
   "source": [
    "# Choose dots\n",
    "\n",
    "idxs = list()\n",
    "# create our callback function\n",
    "def on_selection(trace, points, selector):\n",
    "    print('points {}'.format(points.point_inds) )\n",
    "    idxs.extend(points.point_inds)\n",
    "\n",
    "def on_click(trace, points, selector):\n",
    "#     print('points {}'.format(points.point_inds) )\n",
    "    idxs.extend(points.point_inds)\n",
    "\n",
    "df_sample = df_top\n",
    "f = zone_selection(df_sample, on_selection=on_selection, on_click=on_click)\n",
    "f"
   ]
  },
  {
   "cell_type": "code",
   "execution_count": null,
   "id": "apart-still",
   "metadata": {},
   "outputs": [],
   "source": [
    "df_chosen = df_sample.iloc[idxs]\n",
    "# df_zone = df_sample.drop(df_chosen.index)\n",
    "df_chosen.shape"
   ]
  },
  {
   "cell_type": "code",
   "execution_count": null,
   "id": "constant-acting",
   "metadata": {},
   "outputs": [],
   "source": [
    "# direct sequencing on small zone\n",
    "\n",
    "# df_zone = df_chosen.sort_values('Vol', ascending=False).iloc[:30]\n",
    "df_zone = df_chosen.copy()\n",
    "# df_salts = list()\n",
    "# for salt in [21.9819, 37.9558, 34.9694, 27.9949, 56.92]:\n",
    "#     df_salt = match_dfs(df_top, df_top, shift=salt)\n",
    "#     df_salts.append(df_salt)\n",
    "# df_salts = pd.concat(df_salts).drop_duplicates()\n",
    "# # df_top = df_top.drop(df_salts.index)\n",
    "\n",
    "bcr = base_calling_random(df_zone)\n",
    "plotly_basecalling(*bcr, annotate=False, y='RT')\n",
    "\n",
    "dfm = match_dfs(bcr[0], df_src, shift=1*M)\n",
    "# plotly_multi_zones([bcr[0], dfm1, dfm2])\n",
    "if not dfm.empty:\n",
    "    plotly_zones(bcr[0], dfm)\n",
    "else:\n",
    "    plotly_zone(bcr[0])"
   ]
  },
  {
   "cell_type": "code",
   "execution_count": null,
   "id": "yellow-polyester",
   "metadata": {},
   "outputs": [],
   "source": [
    "bcr[0].to_excel('~/Downloads/glu_20_5p_sample17.xlsx')"
   ]
  },
  {
   "cell_type": "code",
   "execution_count": null,
   "id": "ideal-lancaster",
   "metadata": {},
   "outputs": [],
   "source": []
  },
  {
   "cell_type": "code",
   "execution_count": null,
   "id": "acquired-happiness",
   "metadata": {},
   "outputs": [],
   "source": [
    "dft = pd.read_excel('~/Downloads/glu_57_3p_sample17.xlsx')\n",
    "plotly_zone(dft)"
   ]
  },
  {
   "cell_type": "code",
   "execution_count": null,
   "id": "behind-track",
   "metadata": {},
   "outputs": [],
   "source": []
  }
 ],
 "metadata": {
  "kernelspec": {
   "display_name": "Python 3",
   "language": "python",
   "name": "python3"
  },
  "language_info": {
   "codemirror_mode": {
    "name": "ipython",
    "version": 3
   },
   "file_extension": ".py",
   "mimetype": "text/x-python",
   "name": "python",
   "nbconvert_exporter": "python",
   "pygments_lexer": "ipython3",
   "version": "3.7.3"
  }
 },
 "nbformat": 4,
 "nbformat_minor": 5
}
