{
 "cells": [
  {
   "cell_type": "code",
   "execution_count": null,
   "id": "universal-criticism",
   "metadata": {},
   "outputs": [],
   "source": [
    "import pandas as pd\n",
    "import matplotlib"
   ]
  },
  {
   "cell_type": "code",
   "execution_count": null,
   "id": "tested-elizabeth",
   "metadata": {},
   "outputs": [],
   "source": [
    "%run data.ipynb\n",
    "%run ../modules/preprocessing.ipynb\n",
    "%run ../modules/cds.ipynb\n",
    "%run ../modules/utils.ipynb"
   ]
  },
  {
   "cell_type": "code",
   "execution_count": null,
   "id": "psychological-vulnerability",
   "metadata": {},
   "outputs": [],
   "source": [
    "from datetime import datetime\n",
    "def print_now():\n",
    "    now = datetime.now()\n",
    "    print(now.strftime('%m/%d/%Y %H:%M:%S'))"
   ]
  },
  {
   "cell_type": "code",
   "execution_count": null,
   "id": "equivalent-addiction",
   "metadata": {},
   "outputs": [],
   "source": [
    "# Yue's Data\n",
    "df1 = pd.read_excel('~/Documents/ChenLab/DataYue/Glu/DrChen_tRNA_s1.xlsx')\n",
    "df2 = pd.read_excel('~/Documents/ChenLab/DataYue/Glu/UC_glu_2_new.xlsx')\n",
    "df1_ad = pd.read_excel('~/Documents/ChenLab/DataYue/Glu/DrChen_tRNAs5_complete.xlsx')\n",
    "df2_ad = pd.read_excel('~/Documents/ChenLab/DataYue/Glu/DrChen_tRNAs6_complete.xlsx')\n",
    "\n",
    "df1 = thermo_df(df1)\n",
    "df2 = thermo_df(df2)\n",
    "df1_ad = thermo_df(df1_ad)\n",
    "df2_ad = thermo_df(df2_ad)\n",
    "print_now()"
   ]
  },
  {
   "cell_type": "code",
   "execution_count": null,
   "id": "ambient-starter",
   "metadata": {},
   "outputs": [],
   "source": [
    "# My Data\n",
    "df1 = load_uc_glu(1) # Glu May control data\n",
    "df2 = load_uc_glu(2) # Glu May control data\n",
    "\n",
    "df1_ad = load_uc_glu(5, True) # Glu May AD data\n",
    "df2_ad = load_uc_glu(6, True) # Glu May AD data\n",
    "print_now()"
   ]
  },
  {
   "cell_type": "code",
   "execution_count": null,
   "id": "wicked-ownership",
   "metadata": {},
   "outputs": [],
   "source": [
    "# My Data June\n",
    "df1 = load_uc2(5, intact=True)\n",
    "df2 = load_uc2(6, intact=True)\n",
    "\n",
    "df1_ad = pd.read_excel('/Users/bryan/Documents/ChenLab/10Jun2021/degraded/DrChen_tRNA_A_Glu_FA_17.xlsx')\n",
    "df1_ad = thermo_df(df1_ad)\n",
    "df2_ad = load_uc2(18)\n",
    "print_now()"
   ]
  },
  {
   "cell_type": "code",
   "execution_count": null,
   "id": "distinct-minute",
   "metadata": {},
   "outputs": [],
   "source": [
    "df5 = load_uc2(5, intact=True) # Glu June control data\n",
    "df6 = load_uc2(6, intact=True)\n",
    "# df17 = load_uc2(17)\n",
    "df17 = pd.read_excel('/Users/bryan/Documents/ChenLab/10Jun2021/degraded/DrChen_tRNA_A_Glu_FA_17.xlsx')\n",
    "df17 = thermo_df(df17)\n",
    "df18 = load_uc2(18)"
   ]
  },
  {
   "cell_type": "code",
   "execution_count": null,
   "id": "seven-surname",
   "metadata": {},
   "outputs": [],
   "source": [
    "df1_24k = df1[df1.Mass>23000]\n",
    "df2_24k = df2[df2.Mass>23000]\n",
    "df1_ad_24k = df1_ad[(df1_ad.Mass>24000)&(df1_ad.Mass<25000)]\n",
    "df2_ad_24k = df2_ad[(df2_ad.Mass>24000)&(df2_ad.Mass<25000)]\n"
   ]
  },
  {
   "cell_type": "code",
   "execution_count": null,
   "id": "hearing-classification",
   "metadata": {},
   "outputs": [],
   "source": [
    "plotly_zone(df1_24k, y='Vol')\n",
    "plotly_zone(df2_24k, y='Vol')\n",
    "plotly_zones(df1_24k.sort_values('Vol', ascending=False).iloc[:3],\n",
    "           df2_24k.sort_values('Vol', ascending=False).iloc[:2],\n",
    "            names=['Wild-type', 'AlkB'], y='Vol')\n",
    "# plotly_zone(df1_ad_24k, y='Vol')\n",
    "# plotly_zone(df2_ad_24k, y='Vol')"
   ]
  },
  {
   "cell_type": "code",
   "execution_count": null,
   "id": "accepting-ballot",
   "metadata": {},
   "outputs": [],
   "source": [
    "mass = 24232.29\n",
    "df_src = df1_ad.copy()\n",
    "df_src = df_src.sort_values('Vol', ascending=False)#.iloc[:1500]\n",
    "dfs = computational_data_seperation(df_src, df_src, mass)\n",
    "plotly_zone(dfs[0])"
   ]
  },
  {
   "cell_type": "code",
   "execution_count": null,
   "id": "perfect-newfoundland",
   "metadata": {},
   "outputs": [],
   "source": [
    "dfa = dfm10[(dfm10.Mass>4500)&(dfm10.Mass<7000)].copy()\n",
    "dfb = dfm11[(dfm11.Mass>2000)&(dfm11.Mass<7000)].copy()\n",
    "dfb.RT = dfb.RT*0.9\n",
    "plotly_zones(dfa, dfb)"
   ]
  },
  {
   "cell_type": "code",
   "execution_count": null,
   "id": "powered-arctic",
   "metadata": {},
   "outputs": [],
   "source": [
    "df_sample = df2_ad\n",
    "df_203_5p = pd.read_excel('~/Studio/tools/glu_24203_5p_6mG.xlsx')\n",
    "df_203_3p = pd.read_excel('~/Studio/tools/glu_24203_3p_6mG.xlsx')\n",
    "\n",
    "# df_sample = df2_ad\n",
    "# df_203_5p = pd.read_excel('~/Studio/tools/glu_24217_5p_6mG.xlsx')\n",
    "# df_203_3p = pd.read_excel('~/Studio/tools/glu_24217_3p_6mG.xlsx')\n",
    "\n",
    "# df_203_5p = thermo_df(df_203_5p)\n",
    "dft = df_203_5p.copy()\n",
    "dfm10 = match_dfs(dft, df_sample)\n",
    "dfm10.RT = 1\n",
    "\n",
    "dft.Mass += 1\n",
    "dfm11 = match_dfs(dft, df_sample)\n",
    "# dfm11 = dfm11[dfm11.Vol > 1E4]\n",
    "dfm11.RT = 1.1\n",
    "\n",
    "dft.Mass += M #M\n",
    "dfm12 = match_dfs(dft, df_sample)\n",
    "dfm12.RT = 1.2\n",
    "\n",
    "dft = df_203_5p.copy()\n",
    "dft.Mass += M\n",
    "dfm13 = match_dfs(dft, df_sample)\n",
    "dfm13.RT = 1.3\n",
    "\n",
    "# dft = df_203_5p.copy()\n",
    "# dft.Mass += M\n",
    "# dfm14 = match_dfs(dft, df_sample)\n",
    "# dfm14.RT = 1.4\n",
    "\n",
    "dft = df_203_3p.copy()\n",
    "dfm20 = match_dfs(dft, df_sample)\n",
    "dfm20.RT = 2\n",
    "\n",
    "dft.Mass += 1\n",
    "dfm21 = match_dfs(dft, df_sample)\n",
    "# dfm21 = dfm21[dfm21.Vol > 1E4]\n",
    "dfm21.RT = 2.1\n",
    "\n",
    "dft.Mass += M #M\n",
    "dfm22 = match_dfs(dft, df_sample)\n",
    "dfm22.RT = 2.2\n",
    "\n",
    "dft = df_203_3p.copy()\n",
    "dft.Mass += M #+M\n",
    "dfm23 = match_dfs(dft, df_sample)\n",
    "dfm23.RT = 2.3\n",
    "\n",
    "# dft = df_203_3p.copy()\n",
    "# dft.Mass += M\n",
    "# dfm24 = match_dfs(dft, df_sample)\n",
    "# dfm24.RT = 2.4\n",
    "\n",
    "# plotly_multi_zones([dfm10, dfm11, dfm12, dfm13, dfm14], \n",
    "#                    names=['Base24203', '24204', '24218', '24219', '24217'])\n",
    "# plotly_multi_zones([dfm20, dfm21, dfm22, dfm23, dfm24], \n",
    "#                    names=['Base24203', '24204', '24218', '24219', '24217'])\n",
    "\n",
    "\n",
    "plotly_multi_zones([dfm10, dfm11, dfm12, dfm13], \n",
    "                   names=['Baseline24203', '+1', '+15', '+14', '24217'])\n",
    "plotly_multi_zones([dfm20, dfm21, dfm22, dfm23], \n",
    "                   names=['Baseline24203', '+1', '+15', '+14', '24217'])\n",
    "\n",
    "# plotly_multi_zones([dfm10, dfm13], \n",
    "#                    names=['Baseline24203', '+15', '+14'])\n",
    "# plotly_multi_zones([dfm20, dfm23], \n",
    "#                    names=['Baseline24203', '+15', '+14'])\n"
   ]
  },
  {
   "cell_type": "code",
   "execution_count": null,
   "id": "lined-source",
   "metadata": {},
   "outputs": [],
   "source": [
    "\n",
    "# plotly_multi_zones([dfm10, dfm11, dfm12, dfm13, dfm14], \n",
    "#                    names=['Base24203', '24204', '24218', '24219', '24217'], \n",
    "#                    y='Vol')\n",
    "# plotly_multi_zones([dfm20, dfm21, dfm22, dfm23, dfm24], \n",
    "#                    names=['Base24203', '24204', '24218', '24219', '24217'], \n",
    "#                    y='Vol')\n",
    "\n",
    "plotly_multi_zones([dfm10, dfm11, dfm12, dfm13], \n",
    "                   names=['Baseline24203', '+1', '+15', '+14', '24217'], \n",
    "                   y='Vol')\n",
    "plotly_multi_zones([dfm20, dfm21, dfm22, dfm23], \n",
    "                   names=['Baseline24203', '+1', '+15', '+14', '24217'],\n",
    "                  y='Vol')\n",
    "\n",
    "# plotly_multi_zones([dfm10, dfm13], \n",
    "#                    names=['Baseline24203', '+15'],\n",
    "#                   y='Vol')\n",
    "# plotly_multi_zones([dfm20, dfm23], \n",
    "#                    names=['Baseline24203', '+15'],\n",
    "#                   y='Vol')\n",
    "\n",
    "# plotly_multi_zones([dfm10, dfm12, dfm13], \n",
    "#                    names=['Baseline24203', '+15', '+14'],\n",
    "#                   y='Vol')\n",
    "# plotly_multi_zones([dfm20, dfm22, dfm23], \n",
    "#                    names=['Baseline24203', '+15', '+14'],\n",
    "#                   y='Vol')"
   ]
  },
  {
   "cell_type": "code",
   "execution_count": null,
   "id": "ideal-manhattan",
   "metadata": {},
   "outputs": [],
   "source": []
  },
  {
   "cell_type": "code",
   "execution_count": null,
   "id": "atomic-petersburg",
   "metadata": {},
   "outputs": [],
   "source": [
    "low, high = 5000, 6000\n",
    "# plotly_zone(df5_24k, y='Vol')\n",
    "# plotly_zone(df2_24k, y='Vol')\n",
    "# plotly_zone(df2_ad[df2_ad.Mass>24000], y='Vol')\n",
    "# plotly_zone(df2[(df2.Mass>24200)&(df2.Mass<24220)], y='Vol')\n",
    "# plotly_zone(df17[(df17.Mass>24200)&(df17.Mass<24205)], y='Vol')\n",
    "plotly_zone(df1_ad[(df1_ad.Mass<high)&(df1_ad.Mass>low)], y='Vol')\n",
    "plotly_zone(df2_ad[(df2_ad.Mass<high)&(df2_ad.Mass>low)], y='Vol')\n",
    "# plotly_zone(df18[(df18.Mass<high)&(df18.Mass>low)], y='Vol')"
   ]
  },
  {
   "cell_type": "code",
   "execution_count": null,
   "id": "pleased-resort",
   "metadata": {},
   "outputs": [],
   "source": [
    "def local_top(df_src, win=320, step=100, top=3):\n",
    "    \"\"\"Using a sliding window to find the top dots.\n",
    "    Param win: Window size, default 300 Da.\n",
    "    Param step: step size, default 100 Da.\n",
    "    Param top: the number of dots, those have the top Volumes inside the window\n",
    "    \"\"\"\n",
    "    df_chosen = list()\n",
    "    low, high = df_src.Mass.min(), df_src.Mass.max()\n",
    "    if high - low < step:\n",
    "        return pd.DataFrame()\n",
    "    \n",
    "    cur = low\n",
    "    while high - cur > step:\n",
    "        cur += step\n",
    "        df = df_src[(df_src.Mass>=cur)&(df_src.Mass<cur+win)]\n",
    "        df_top = df.sort_values('Vol', ascending=False).iloc[:top]\n",
    "        df_chosen.append(df_top)\n",
    "    \n",
    "    df_chosen = pd.concat(df_chosen).drop_duplicates()\n",
    "    return df_chosen"
   ]
  },
  {
   "cell_type": "code",
   "execution_count": null,
   "id": "intensive-recommendation",
   "metadata": {},
   "outputs": [],
   "source": [
    "df_tops = local_top(df2_ad, top=1)"
   ]
  },
  {
   "cell_type": "code",
   "execution_count": null,
   "id": "olympic-savannah",
   "metadata": {},
   "outputs": [],
   "source": [
    "plotly_zone(df_tops[df_tops.Mass>1900], y='RT')\n",
    "plotly_zone(df_tops[df_tops.Mass>1900], y='Vol')\n",
    "\n",
    "bcr = base_calling_random(df_tops)\n",
    "plotly_basecalling(*bcr, annotate=False)"
   ]
  },
  {
   "cell_type": "code",
   "execution_count": null,
   "id": "advisory-ethics",
   "metadata": {},
   "outputs": [],
   "source": []
  },
  {
   "cell_type": "code",
   "execution_count": null,
   "id": "laden-isolation",
   "metadata": {},
   "outputs": [],
   "source": [
    "ppm = 10\n",
    "limit = 6\n",
    "%run ../modules/preprocessing.ipynb\n",
    "\n",
    "df_samples = [df5]\n",
    "sample_names = ['5']\n",
    "intacts = [24217.31, 24203.31, 24232.29, 24189.31, 24218.33]\n",
    "# df_samples = [df2, df14, df8, df20]\n",
    "# intacts = [24146, 24132, 24145, 24131, 24160, 24147, 24176]\n",
    "\n",
    "intacts = np.array(intacts)\n",
    "cols = [f'Group_{int(intact)}' for intact in intacts]\n",
    "amino = 147.1\n",
    "# intacts += amino - H2O # Amino Acid Glu\n",
    "df_result = pd.DataFrame(columns=cols)\n",
    "for idx, df_sample in enumerate(df_samples):\n",
    "#     df_sample = df.copy()\n",
    "#     df_sample.Mass -= 146.1 - H2O\n",
    "    df_24k = df_sample[(df_sample.Mass>24000)&(df_sample.Mass<25000)&(df_sample.Vol>1E4)]\n",
    "    df_24k = df_24k.sort_values('Vol', ascending=False)#.iloc[:50].copy()\n",
    "    print('Top dots: ', df_24k.iloc[:10].Mass.tolist())\n",
    "    df_count = df_24k.copy()\n",
    "    df_count['cnt'] = 0\n",
    "    df_founds = list()\n",
    "    for intact in intacts:\n",
    "#         intact += amino - 18.0106 # amino acid glu\n",
    "        df_found = detect_combined_salts(df_24k, intact, limit=limit, ppm=ppm, amino=0)\n",
    "        df_founds.append(df_found)\n",
    "        \n",
    "#         print(df_found.shape, df_count.shape)\n",
    "        if not df_found.empty:\n",
    "            df_found = df_found.sort_values('Vol', ascending=False)\n",
    "            print('intact ', intact, 'hit ', df_found.Mass.unique().tolist())\n",
    "#             print('intact ', intact - amino +H2O, 'hit ', df_found.Mass.unique().tolist()) #\n",
    "#         df_count.loc[df_found.index, 'cnt'] += 1\n",
    "#     print(df_count.sort_values('Vol', ascending=False))\n",
    "#     print(df_founds)\n",
    "    print(f'Sample {idx}')\n",
    "    l = [df.Vol.sum()/1E3 for df in df_founds]\n",
    "    l = np.round(l, 2)\n",
    "    df_result.loc[idx] = l\n",
    "    print(l)\n",
    "    print(df_24k)\n",
    "    df_24k.to_excel('~/Downloads/glu_adducts_#{}.xlsx'.format(sample_names[idx]))\n",
    "\n",
    "print(df_result)"
   ]
  },
  {
   "cell_type": "code",
   "execution_count": null,
   "id": "through-python",
   "metadata": {},
   "outputs": [],
   "source": [
    "plotly_zone(df1_ad)"
   ]
  },
  {
   "cell_type": "code",
   "execution_count": null,
   "id": "similar-delaware",
   "metadata": {},
   "outputs": [],
   "source": [
    "# low, high = 3500, 6500\n",
    "low, high = 20000, 24000\n",
    "df_sample = df1_ad.copy()\n",
    "df_zone = df_sample[(df_sample.Mass>low)&(df_sample.Mass<high)]\n",
    "# df_zone = df_zone[(df_zone.RT>0.2)&(df_zone.RT<19)]\n",
    "\n",
    "df_sample2 = df2_ad.copy()\n",
    "df_zone2 = df_sample2[(df_sample2.Mass>low)&(df_sample2.Mass<high)]\n",
    "# df_zone2 = df_zone2[(df_zone2.RT>0.2)&(df_zone2.RT<15)]\n",
    "\n",
    "# df_zone = df_sample[(df_sample.Mass>1000)&(df_sample.Mass<3000)]\n",
    "# df_zone = df_zone[(df_zone.RT>0.2)&(df_zone.RT<3.0)]\n",
    "plotly_zones(df_zone, df_zone2)\n",
    "plotly_zones(df_zone, df_zone2, y='Vol')"
   ]
  },
  {
   "cell_type": "code",
   "execution_count": null,
   "id": "devoted-stuart",
   "metadata": {},
   "outputs": [],
   "source": []
  },
  {
   "cell_type": "code",
   "execution_count": null,
   "id": "changed-refund",
   "metadata": {},
   "outputs": [],
   "source": [
    "# Choose dots\n",
    "\n",
    "idxs = list()\n",
    "# create our callback function\n",
    "def on_selection(trace, points, selector):\n",
    "    print('points {}'.format(points.point_inds) )\n",
    "    idxs.extend(points.point_inds)\n",
    "\n",
    "def on_click(trace, points, selector):\n",
    "#     print('points {}'.format(points.point_inds) )\n",
    "    idxs.extend(points.point_inds)\n",
    "\n",
    "df_sample = df_zone2\n",
    "f = zone_selection(df_sample, on_selection=on_selection, on_click=on_click)\n",
    "f"
   ]
  },
  {
   "cell_type": "code",
   "execution_count": null,
   "id": "apart-illinois",
   "metadata": {},
   "outputs": [],
   "source": [
    "df_chosen = df_sample.iloc[idxs]\n",
    "# df_zone = df_sample.drop(df_chosen.index)\n",
    "df_chosen.shape"
   ]
  },
  {
   "cell_type": "code",
   "execution_count": null,
   "id": "violent-destination",
   "metadata": {},
   "outputs": [],
   "source": [
    "df5p = df_chosen.copy()"
   ]
  },
  {
   "cell_type": "code",
   "execution_count": null,
   "id": "cosmetic-visiting",
   "metadata": {},
   "outputs": [],
   "source": [
    "df3p = df_sample.drop(df5p.index)"
   ]
  },
  {
   "cell_type": "code",
   "execution_count": null,
   "id": "anonymous-region",
   "metadata": {},
   "outputs": [],
   "source": [
    "# plotly_zones(df5p, df3p)\n",
    "plotly_zone(df5p)\n",
    "plotly_zone(df5p, y='Vol')"
   ]
  },
  {
   "cell_type": "code",
   "execution_count": null,
   "id": "capable-designer",
   "metadata": {},
   "outputs": [],
   "source": []
  },
  {
   "cell_type": "code",
   "execution_count": null,
   "id": "isolated-trinidad",
   "metadata": {},
   "outputs": [],
   "source": []
  }
 ],
 "metadata": {
  "kernelspec": {
   "display_name": "Python 3",
   "language": "python",
   "name": "python3"
  },
  "language_info": {
   "codemirror_mode": {
    "name": "ipython",
    "version": 3
   },
   "file_extension": ".py",
   "mimetype": "text/x-python",
   "name": "python",
   "nbconvert_exporter": "python",
   "pygments_lexer": "ipython3",
   "version": "3.7.3"
  }
 },
 "nbformat": 4,
 "nbformat_minor": 5
}
