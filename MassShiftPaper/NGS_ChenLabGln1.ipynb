{
 "cells": [
  {
   "cell_type": "code",
   "execution_count": null,
   "id": "metallic-sheet",
   "metadata": {},
   "outputs": [],
   "source": [
    "import pandas as pd"
   ]
  },
  {
   "cell_type": "code",
   "execution_count": null,
   "id": "lightweight-craft",
   "metadata": {},
   "outputs": [],
   "source": [
    "%run ../modules/utils.ipynb\n",
    "%run ../modules/cds.ipynb\n",
    "%run ../modules/preprocessing.ipynb\n"
   ]
  },
  {
   "cell_type": "code",
   "execution_count": null,
   "id": "durable-hostel",
   "metadata": {},
   "outputs": [],
   "source": [
    "gln_path = '/Users/xyuan/Documents/ChenLab/10Jun2021/degraded/DrChen_tRNA_A_Gln_FA_13.xlsx'\n",
    "df_gln1 = load_data(gln_path)\n",
    "gln_path = '/Users/xyuan/Documents/ChenLab/10Jun2021/degraded/14_Gln_A.xlsx'\n",
    "df_gln1_alkb = load_data(gln_path)\n",
    "print(df_gln1.shape[0], df_gln1_alkb.shape[0])\n",
    "gln_path = '/Users/xyuan/Documents/ChenLab/10Jun2021/degraded/DrChen_tRNA_B_Gln_FA_19.xlsx'\n",
    "df_gln2 = load_data(gln_path)\n",
    "gln_path = '/Users/xyuan/Documents/ChenLab/10Jun2021/degraded/DrChen_tRNA_B_Gln_A_FA_20.xlsx'\n",
    "df_gln2_alkb = load_data(gln_path)\n",
    "print(df_gln2.shape[0], df_gln2_alkb.shape[0])"
   ]
  },
  {
   "cell_type": "code",
   "execution_count": null,
   "id": "committed-phrase",
   "metadata": {},
   "outputs": [],
   "source": [
    "# remove adducts from df_glu1\n",
    "dfs = df_gln1.copy()\n",
    "dfs_alkb = df_gln1_alkb.copy()\n",
    "\n",
    "adducts = [K, Na]\n",
    "dfm_adducts_list = list()\n",
    "dfm_adducts_Na = match_dfs(dfs, dfs, shift=Na)\n",
    "dfm_adducts_K = match_dfs(dfs, dfs, shift=K)\n",
    "dfm_adducts = pd.concat([dfm_adducts_Na, dfm_adducts_K]).drop_duplicates()\n",
    "df_gln_without_adducts = dfs.drop(dfm_adducts.index)\n",
    "df_gln_adducts_only = dfm_adducts.copy()\n",
    "print(dfs.shape[0], df_gln_without_adducts.shape[0])\n",
    "\n",
    "dfm_adducts_list = list()\n",
    "for adduct in adducts:\n",
    "    dfm_r = match_dfs(dfs_alkb, dfs_alkb, shift=adduct)\n",
    "    dfm_adducts_list.append(dfm_r)\n",
    "dfm_adducts = pd.concat(dfm_adducts_list).drop_duplicates()\n",
    "df_gln_alkb_without_adducts = dfs_alkb.drop(dfm_adducts.index)\n",
    "df_gln_alkb_adducts_only = dfm_adducts.copy()\n",
    "print(dfs_alkb.shape[0], df_gln_alkb_without_adducts.shape[0])"
   ]
  },
  {
   "cell_type": "code",
   "execution_count": null,
   "id": "stylish-soldier",
   "metadata": {},
   "outputs": [],
   "source": [
    "df_wild, df_alkb = df_gln_without_adducts, df_gln_alkb_without_adducts\n",
    "df_wild_sample = df_wild.copy()\n",
    "df_alkb_sample = df_alkb.copy()\n",
    "df_wild_sample.shape, df_alkb_sample.shape"
   ]
  },
  {
   "cell_type": "code",
   "execution_count": null,
   "id": "proud-channels",
   "metadata": {},
   "outputs": [],
   "source": [
    "df_wild_adducts, df_alkb_adducts = df_gln_adducts_only, df_gln_alkb_adducts_only\n",
    "df_wild_adducts.shape, df_alkb_adducts.shape"
   ]
  },
  {
   "cell_type": "code",
   "execution_count": null,
   "id": "local-contrary",
   "metadata": {},
   "outputs": [],
   "source": []
  },
  {
   "cell_type": "code",
   "execution_count": null,
   "id": "crazy-rider",
   "metadata": {},
   "outputs": [],
   "source": [
    "# path = '~/Studio/seq_bank/data/gln/Gln-CTG-1-1_5p.xlsx'\n",
    "# path = '~/Studio/seq_bank/data/gln/Gln-CTG-1-1_3p.xlsx'\n",
    "path = '~/Studio/seq_bank/data/gln/Gln-CTG-2-1_5p.xlsx'\n",
    "# path = '~/Studio/seq_bank/data/gln/Gln-CTG-2-1_3p.xlsx'\n",
    "# path = '~/Studio/seq_bank/data/gln/Gln-TTG-1-1_5p.xlsx'\n",
    "# path = '~/Studio/seq_bank/data/gln/Gln-TTG-1-1_3p.xlsx'\n",
    "df_ngs = load_data(path)\n",
    "\n",
    "gln_ctg_1_1_5p = 'GGUUCCAUGGUGUAAUGGUUAGCACUCUGGACUCUGAAUCCAGCGACCCGAGUUCAAAUCUCGGUGGGACCUCCA'\n",
    "gln_ctg_1_1_3p = gln_ctg_1_1_5p[::-1]\n",
    "\n",
    "gln_ctg_2_1_5p = 'GGUUCCAUGGUGUAAUGGUUAGCACUCUGGACUCUGAAUCCAGCGAUCCGAGUUCAAAUCUCGGUGGAACCUCCA'\n",
    "gln_ctg_2_1_3p = gln_ctg_2_1_5p[::-1]\n",
    "\n",
    "gln_ttg_1_1_5p = 'GGUCCCAUGGUGUAAUGGUUAGCACUCUGGACUUUGAAUCCAGCGAUCCGAGUUCAAAUCUCGGUGGGACCUCCA'\n",
    "gln_ttg_1_1_3p = gln_ttg_1_1_5p[::-1]\n",
    "\n",
    "ori, ngs_seq = 5, gln_ctg_2_1_5p\n",
    "df_ngs['Base'] = list(ngs_seq)\n",
    "if ori == 5:\n",
    "    df_ngs['Idx'] = np.array(df_ngs.index)+1\n",
    "else:\n",
    "    df_ngs['Idx'] = 75-np.array(df_ngs.index)\n",
    "df_ngs.tail()"
   ]
  },
  {
   "cell_type": "code",
   "execution_count": null,
   "id": "approximate-money",
   "metadata": {},
   "outputs": [],
   "source": [
    "plotly_zone(df_ngs)\n",
    "df_ngs[['Mass', 'Base', 'Idx']].to_excel('~/Downloads/tmp.xlsx')"
   ]
  },
  {
   "cell_type": "code",
   "execution_count": null,
   "id": "promising-handling",
   "metadata": {},
   "outputs": [],
   "source": []
  },
  {
   "cell_type": "code",
   "execution_count": null,
   "id": "oriented-check",
   "metadata": {},
   "outputs": [],
   "source": [
    "import multiprocessing\n",
    "from collections import namedtuple\n",
    "ShiftHit = namedtuple('ShiftHit', 'shift hit')\n",
    "\n",
    "def func(df_s1, df_s2, shift):\n",
    "    dfm = match_dfs(df_s1, df_s2, shift=shift)\n",
    "    sh = ShiftHit(shift=shift, hit=dfm.shape[0])\n",
    "    return sh\n",
    "\n",
    "PROCESSES = 8\n",
    "params = [(df_ngs, df_wild_sample, shift) for shift in np.arange(0, 160, 1)]\n",
    "with multiprocessing.Pool(PROCESSES) as pool:\n",
    "    shift_hits = pool.starmap(func, params)\n",
    "print('Done for regular sample.')\n",
    "params = [(df_ngs, dfm_adducts_Na, shift) for shift in np.arange(22, 160+22, 1)]\n",
    "with multiprocessing.Pool(PROCESSES) as pool:\n",
    "    shift_hits_adducts_Na = pool.starmap(func, params)\n",
    "print('Done for adducts Na sample.')\n",
    "params = [(df_ngs, dfm_adducts_K, shift) for shift in np.arange(38, 160+38, 1)]\n",
    "with multiprocessing.Pool(PROCESSES) as pool:\n",
    "    shift_hits_adducts_K = pool.starmap(func, params)\n",
    "print('Done for adducts K sample.')\n",
    "\n",
    "df_shift_hits = pd.DataFrame(shift_hits)\n",
    "df_shift_hits_adducts_Na = pd.DataFrame(shift_hits_adducts_Na)\n",
    "df_shift_hits_adducts_K = pd.DataFrame(shift_hits_adducts_K)"
   ]
  },
  {
   "cell_type": "code",
   "execution_count": null,
   "id": "balanced-agenda",
   "metadata": {},
   "outputs": [],
   "source": [
    "fig = px.scatter(df_shift_hits[df_shift_hits.hit<df_shift_hits.shape[0]], x='shift', y='hit', labels={'shift': 'Mass Shift', 'hit': 'Hit Count'})\n",
    "fig.show()\n",
    "fig = px.scatter(df_shift_hits_adducts_Na[df_shift_hits_adducts_Na.hit<df_shift_hits_adducts_Na.shape[0]], x='shift', y='hit', labels={'shift': 'Mass Shift', 'hit': 'Hit Count'})\n",
    "fig.show()\n",
    "fig = px.scatter(df_shift_hits_adducts_K[df_shift_hits_adducts_K.hit<df_shift_hits_adducts_K.shape[0]], x='shift', y='hit', labels={'shift': 'Mass Shift', 'hit': 'Hit Count'})\n",
    "fig.show()"
   ]
  },
  {
   "cell_type": "code",
   "execution_count": null,
   "id": "straight-peripheral",
   "metadata": {},
   "outputs": [],
   "source": [
    "df_sh_top = df_shift_hits[df_shift_hits.hit>1]\n",
    "shifts = df_sh_top['shift']\n",
    "df_sh_top_adducts_Na = df_shift_hits_adducts_Na[df_shift_hits_adducts_Na.hit>1]\n",
    "shifts_adducts_Na = df_sh_top_adducts_Na['shift']\n",
    "df_sh_top_adducts_K = df_shift_hits_adducts_K[df_shift_hits_adducts_K.hit>1]\n",
    "shifts_adducts_K = df_sh_top_adducts_K['shift']\n",
    "shifts.shape, shifts_adducts_Na.shape, shifts_adducts_K.shape"
   ]
  },
  {
   "cell_type": "code",
   "execution_count": null,
   "id": "structural-lodging",
   "metadata": {},
   "outputs": [],
   "source": [
    "# find out data points which can generate base calling\n",
    "def func(df_s1, df_s2, shift):\n",
    "    _, df = peer_dfs(df_s1, df_s2, shift=shift)\n",
    "    \n",
    "    bcr = base_calling_random(df, base_only=True)\n",
    "    df = bcr[0].copy()\n",
    "    df['Shift'] = shift\n",
    "    return df\n",
    "\n",
    "PROCESSES = 8\n",
    "params = [(df_ngs, df_wild_sample, shift) for shift in shifts]\n",
    "with multiprocessing.Pool(PROCESSES) as pool:\n",
    "    df_basecallings = pool.starmap(func, params)\n",
    "print('Done for regular sample.')\n",
    "params = [(df_ngs, dfm_adducts_Na, shift) for shift in shifts_adducts_Na]\n",
    "with multiprocessing.Pool(PROCESSES) as pool:\n",
    "    df_basecallings_adducts_Na = pool.starmap(func, params)\n",
    "print('Done for adducts Na sample.')\n",
    "params = [(df_ngs, dfm_adducts_K, shift) for shift in shifts_adducts_K]\n",
    "with multiprocessing.Pool(PROCESSES) as pool:\n",
    "    df_basecallings_adducts_K = pool.starmap(func, params)\n",
    "print('Done for adducts K sample.')\n",
    "\n",
    "df_hits = pd.concat(df_basecallings).drop_duplicates()\n",
    "df_hits_adducts_Na = pd.concat(df_basecallings_adducts_Na).drop_duplicates()\n",
    "df_hits_adducts_K = pd.concat(df_basecallings_adducts_K).drop_duplicates()\n",
    "df_hits.shape, df_hits_adducts_Na.shape, df_hits_adducts_K.shape"
   ]
  },
  {
   "cell_type": "code",
   "execution_count": null,
   "id": "tough-hungarian",
   "metadata": {},
   "outputs": [],
   "source": [
    "# plotly_zones(df_wild_sample, df_hits)\n",
    "plotly_zone(df_hits, y='Shift')\n",
    "# plotly_zone(df_hits_adducts, y='Shift')\n",
    "df_hits_adducts_Na['ShiftNa'] = df_hits_adducts_Na['Shift'] - 22\n",
    "plotly_zone(df_hits_adducts_Na, y='ShiftNa')\n",
    "df_hits_adducts_K['ShiftK'] = df_hits_adducts_K['Shift'] - 38\n",
    "plotly_zone(df_hits_adducts_K, y='ShiftK')\n",
    "# df_hits_adducts['ShiftNa'] = df_hits_adducts['Shift'] - 22\n",
    "# df_hits_adducts['ShiftK'] = df_hits_adducts['Shift'] - 38\n",
    "# plotly_zone(df_hits_adducts, y='ShiftNa')\n",
    "# plotly_zone(df_hits_adducts, y='ShiftK')\n",
    "df_hits.Shift.unique(), df_hits_adducts_Na.ShiftNa.unique(), df_hits_adducts_K.ShiftK.unique()"
   ]
  },
  {
   "cell_type": "code",
   "execution_count": null,
   "id": "dimensional-solid",
   "metadata": {},
   "outputs": [],
   "source": [
    "fig = plt.figure(figsize=(9, 2.5))\n",
    "# plot_zone(df_hits, y='Shift')\n",
    "plt.scatter(df_hits.Mass, df_hits.Shift, color='black', marker = '.', label=\"data source\")\n",
    "# plt.scatter(df5p.Mass, df5p.RT, color='royalblue', marker=marker, label=\"5' ladder\")\n",
    "fig.tight_layout()\n",
    "plt.savefig('/Users/xyuan/Downloads/tRNA_glu_ladders.svg', transparent=True, dpi=300)"
   ]
  },
  {
   "cell_type": "code",
   "execution_count": null,
   "id": "fifty-dollar",
   "metadata": {},
   "outputs": [],
   "source": [
    "# df_hits_adducts_Na.ShiftNa.unique().tolist()\n",
    "hits = list()\n",
    "for i in df_hits.Shift.unique():\n",
    "    for j in set(df_hits_adducts_Na.ShiftNa.unique().tolist() + df_hits_adducts_K.ShiftK.unique().tolist()):\n",
    "        if i == j:\n",
    "            print(i, j)\n",
    "            hits.append(i)\n",
    "#     for j in df_hits_adducts_Na.ShiftNa.unique().tolist():\n",
    "#         for k in df_hits_adducts_K.ShiftK.unique().tolist():\n",
    "#             if i == j == k:\n",
    "#                 print(i, j)\n",
    "#                 hits.append(i)\n",
    "\n",
    "if 0 not in hits:\n",
    "    hits.append(0)"
   ]
  },
  {
   "cell_type": "code",
   "execution_count": null,
   "id": "expired-breakdown",
   "metadata": {},
   "outputs": [],
   "source": [
    "dft = df_hits[df_hits.Shift.isin([\n",
    "#                                 0, 14, 33, 34, 48, 54, 61, 113\n",
    "                                #0.0, 14.0, 28.0, 28.1, \n",
    "                                    #42.0, 42.1, \n",
    "#                                     56 # 70.0, 70.1, 70.2,\n",
    "                                  #37.9, 38, 52, 80\n",
    "                                 ])]\n",
    "dft = df_hits[df_hits.Shift.isin(hits)]\n",
    "# dft_adducts = df_hits_adducts[df_hits_adducts.Shift.isin([\n",
    "#                                   22, 36, 50, \n",
    "#                                     38, 52, 66, 80\n",
    "#                                  ])]\n",
    "# print(dft.shape)\n",
    "plotly_zones(df_hits, dft, y='Shift', names=['Baseline', 'Confirmed'])\n",
    "bcr = base_calling_random(dft)\n",
    "plotly_basecalling(*bcr)\n",
    "# bcr = base_calling_random(dft_adducts)\n",
    "# plotly_basecalling(*bcr)\n",
    "# dft_joint = pd.concat([dft, dft_adducts]).drop_duplicates()\n",
    "# bcr = base_calling_random(dft_joint)\n",
    "# plotly_basecalling(*bcr)"
   ]
  },
  {
   "cell_type": "code",
   "execution_count": null,
   "id": "hearing-china",
   "metadata": {},
   "outputs": [],
   "source": []
  }
 ],
 "metadata": {
  "kernelspec": {
   "display_name": "Python 3",
   "language": "python",
   "name": "python3"
  },
  "language_info": {
   "codemirror_mode": {
    "name": "ipython",
    "version": 3
   },
   "file_extension": ".py",
   "mimetype": "text/x-python",
   "name": "python",
   "nbconvert_exporter": "python",
   "pygments_lexer": "ipython3",
   "version": "3.7.3"
  }
 },
 "nbformat": 4,
 "nbformat_minor": 5
}
