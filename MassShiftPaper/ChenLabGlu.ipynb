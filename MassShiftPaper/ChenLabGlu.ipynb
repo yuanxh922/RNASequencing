{
 "cells": [
  {
   "cell_type": "code",
   "execution_count": null,
   "id": "statewide-style",
   "metadata": {},
   "outputs": [],
   "source": [
    "import pandas as pd"
   ]
  },
  {
   "cell_type": "code",
   "execution_count": null,
   "id": "controversial-colors",
   "metadata": {},
   "outputs": [],
   "source": [
    "%run ../modules/utils.ipynb\n",
    "%run ../modules/cds.ipynb\n",
    "%run ../modules/preprocessing.ipynb\n",
    "\n",
    "%run ../modules/paper_figures.ipynb"
   ]
  },
  {
   "cell_type": "code",
   "execution_count": null,
   "id": "planned-questionnaire",
   "metadata": {},
   "outputs": [],
   "source": [
    "glu_path = '/Users/xyuan/Documents/ChenLab/10Jun2021/degraded/DrChen_tRNA_A_Glu_FA_17.xlsx'\n",
    "df_glu1 = load_data(glu_path)\n",
    "glu_path = '/Users/xyuan/Documents/ChenLab/10Jun2021/degraded/18_Glu_A.xlsx'\n",
    "df_glu1_alkb = load_data(glu_path)\n",
    "\n",
    "# glu_path = '/Users/xyuan/Documents/ChenLab/8May2021/UC_glu_5_rosa.xlsx'\n",
    "glu_path = '/Users/xyuan/Documents/ChenLab/DataYue/Glu/DrChen_tRNAs5_complete.xlsx'\n",
    "df_glu2 = load_data(glu_path)\n",
    "# glu_path = '/Users/xyuan/Documents/ChenLab/8May2021/UC_glu_6_rosa.xlsx'\n",
    "glu_path = '/Users/xyuan/Documents/ChenLab/DataYue/Glu/DrChen_tRNAs6_complete.xlsx'\n",
    "df_glu2_alkb = load_data(glu_path)"
   ]
  },
  {
   "cell_type": "code",
   "execution_count": null,
   "id": "removed-robertson",
   "metadata": {},
   "outputs": [],
   "source": [
    "# df_glu1 = df_glu1[df_glu1.Mass>1500]\n",
    "# df_glu1_alkb = df_glu1_alkb[df_glu1_alkb.Mass>1500]\n",
    "df_glu2 = df_glu2[df_glu2.Mass>1500]\n",
    "df_glu2_alkb = df_glu2_alkb[df_glu2_alkb.Mass>1500]"
   ]
  },
  {
   "cell_type": "code",
   "execution_count": null,
   "id": "minute-tackle",
   "metadata": {},
   "outputs": [],
   "source": [
    "df_glu1.shape, df_glu1_alkb.shape, df_glu2.shape, df_glu2_alkb.shape"
   ]
  },
  {
   "cell_type": "code",
   "execution_count": null,
   "id": "controversial-edmonton",
   "metadata": {},
   "outputs": [],
   "source": [
    "df_wild_24k = df_glu1_without_adducts[df_glu1_without_adducts.Mass>24000]\n",
    "df_alkb_24k = df_glu1_alkb_without_adducts[df_glu1_alkb_without_adducts.Mass>24000]\n",
    "# df_wild_24k = df_glu2[df_glu2.Mass>24000]\n",
    "# df_alkb_24k = df_glu2_alkb[df_glu2_alkb.Mass>24000]\n",
    "plotly_zone(df_wild_24k, y='Vol')\n",
    "plotly_zone(df_alkb_24k, y='Vol')\n",
    "# plotly_zones(df_wild_24k[df_wild_24k.Vol>5E5], df_alkb_24k[df_alkb_24k.Vol>5E5], y='Vol')"
   ]
  },
  {
   "cell_type": "code",
   "execution_count": null,
   "id": "finnish-entrance",
   "metadata": {},
   "outputs": [],
   "source": [
    "# remove adducts from df_gln2\n",
    "adducts = [K, Na]\n",
    "dfm_adducts_list = list()\n",
    "for adduct in adducts:\n",
    "    dfm_r = match_dfs(df_glu1, df_glu1, shift=adduct)\n",
    "    dfm_adducts_list.append(dfm_r)\n",
    "dfm_adducts = pd.concat(dfm_adducts_list).drop_duplicates()\n",
    "df_glu1_without_adducts = df_glu1.drop(dfm_adducts.index)\n",
    "\n",
    "dfm_adducts_list = list()\n",
    "for adduct in adducts:\n",
    "    dfm_r = match_dfs(df_glu1_alkb, df_glu1_alkb, shift=adduct)\n",
    "    dfm_adducts_list.append(dfm_r)\n",
    "dfm_adducts = pd.concat(dfm_adducts_list).drop_duplicates()\n",
    "df_glu1_alkb_without_adducts = df_glu1_alkb.drop(dfm_adducts.index)"
   ]
  },
  {
   "cell_type": "code",
   "execution_count": null,
   "id": "yellow-variety",
   "metadata": {},
   "outputs": [],
   "source": [
    "# remove adducts from df_gln2\n",
    "adducts = [K, Na]\n",
    "dfm_adducts_list = list()\n",
    "for adduct in adducts:\n",
    "    dfm_r = match_dfs(df_glu2, df_glu2, shift=adduct)\n",
    "    dfm_adducts_list.append(dfm_r)\n",
    "dfm_adducts = pd.concat(dfm_adducts_list).drop_duplicates()\n",
    "df_glu2_without_adducts = df_glu2.drop(dfm_adducts.index)\n",
    "\n",
    "dfm_adducts_list = list()\n",
    "for adduct in adducts:\n",
    "    dfm_r = match_dfs(df_glu2_alkb, df_glu2_alkb, shift=adduct)\n",
    "    dfm_adducts_list.append(dfm_r)\n",
    "dfm_adducts = pd.concat(dfm_adducts_list).drop_duplicates()\n",
    "df_glu2_alkb_without_adducts = df_glu2_alkb.drop(dfm_adducts.index)"
   ]
  },
  {
   "cell_type": "code",
   "execution_count": null,
   "id": "trying-kansas",
   "metadata": {},
   "outputs": [],
   "source": [
    "# df_wild_sample = df_glu2_without_adducts[df_glu2_without_adducts.Vol>df_glu2_without_adducts.Vol.quantile(.75)].copy()\n",
    "# df_alkb_sample = df_glu2_alkb_without_adducts[df_glu2_alkb_without_adducts.Vol>df_glu2_alkb_without_adducts.Vol.quantile(.75)].copy()\n",
    "# df_wild_sample.shape, df_alkb_sample.shape"
   ]
  },
  {
   "cell_type": "code",
   "execution_count": null,
   "id": "confidential-wells",
   "metadata": {},
   "outputs": [],
   "source": [
    "df_wild_sample = local_top(df_glu1_without_adducts, top=10)\n",
    "df_alkb_sample = local_top(df_glu1_alkb_without_adducts, top=10)\n",
    "# df_wild_sample = local_top(df_glu2_without_adducts, top=10)\n",
    "# df_alkb_sample = local_top(df_glu2_alkb_without_adducts, top=10)\n",
    "df_wild_sample.shape, df_alkb_sample.shape"
   ]
  },
  {
   "cell_type": "code",
   "execution_count": null,
   "id": "medieval-expert",
   "metadata": {},
   "outputs": [],
   "source": [
    "df_wild_sample_only, df_alkb_sample_only = diff_dfs(df_wild_sample, df_alkb_sample)\n",
    "df_wild_sample_only.shape, df_alkb_sample_only.shape\n",
    "# dfm_tmp = match_dfs(df_wild_sample, df_alkb_sample_only)\n",
    "# dfm_tmp.shape\n"
   ]
  },
  {
   "cell_type": "code",
   "execution_count": null,
   "id": "instant-mills",
   "metadata": {},
   "outputs": [],
   "source": [
    "import multiprocessing\n",
    "from collections import namedtuple\n",
    "ShiftHit = namedtuple('ShiftHit', 'shift hit')\n",
    "\n",
    "def func(df_s1, df_s2, shift):\n",
    "    dfm = match_dfs(df_s1, df_s2, shift=shift)\n",
    "    sh = ShiftHit(shift=shift, hit=dfm.shape[0])\n",
    "    return sh\n",
    "\n",
    "PROCESSES = 8\n",
    "params = [(df_wild_sample, df_alkb_sample_only, shift) for shift in np.arange(-64, 64, 0.1)]\n",
    "# params = [(df_wild_sample, df_wild_sample, shift) for shift in np.arange(-64, 64, 1)]\n",
    "# params = [(df_alkb_sample, df_alkb_sample, shift) for shift in np.arange(-64, 64, 1)]\n",
    "# params = [(df_glu2, df_glu2_alkb_only, shift) for shift in np.arange(-64, 64, 1)]\n",
    "# params = [(df_glu1, df_glu1_alkb, shift) for shift in np.arange(-64, 64, 1)]\n",
    "# params = [(df_gln2, df_gln2, shift) for shift in np.arange(1, 64, 1)]\n",
    "# params = [(df_gln2_without_adducts, df_gln2_alkb_without_adducts, shift) for shift in np.arange(-64, 64, 1)]\n",
    "# params = [(df_comm_wild2, df_comm_wild2, shift) for shift in np.arange(1, 64, 1)]\n",
    "# params = [(df_wild2, df_alkb2, shift) for shift in np.arange(-64, 64, 1)]\n",
    "# params = [(dfm_l, dfm_l, shift) for shift in np.arange(1, 64, 1)]\n",
    "# params = [(df_sample, shift) for shift in np.arange(1, 64, 0.1)]\n",
    "with multiprocessing.Pool(PROCESSES) as pool:\n",
    "    shift_hits = pool.starmap(func, params)\n",
    "\n",
    "df_shift_hits = pd.DataFrame(shift_hits)"
   ]
  },
  {
   "cell_type": "code",
   "execution_count": null,
   "id": "cathedral-buyer",
   "metadata": {},
   "outputs": [],
   "source": [
    "fig = px.scatter(df_shift_hits[df_shift_hits.hit<df_shift_hits.shape[0]], x='shift', y='hit', labels={'shift': 'Mass Shift', 'hit': 'Hit Count'})\n",
    "fig.show()"
   ]
  },
  {
   "cell_type": "code",
   "execution_count": null,
   "id": "finite-second",
   "metadata": {},
   "outputs": [],
   "source": [
    "# df_sh_glu2 = df_shift_hits.copy()\n",
    "# df_sh_glu2.to_excel('ShiftHit_Glu2_top10.xlsx')"
   ]
  },
  {
   "cell_type": "code",
   "execution_count": null,
   "id": "champion-contest",
   "metadata": {},
   "outputs": [],
   "source": [
    "global_mean = df_shift_hits.hit.mean()\n",
    "df_calc = df_shift_hits[(df_shift_hits.hit<df_shift_hits.shape[0])&\n",
    "                        (df_shift_hits.hit>global_mean)]\n",
    "global_mean, df_calc.hit.mean()\n",
    "# df_calc.hit.quantile(.75)"
   ]
  },
  {
   "cell_type": "code",
   "execution_count": null,
   "id": "favorite-moldova",
   "metadata": {},
   "outputs": [],
   "source": [
    "# df_sh_full = df_shift_hits.copy()\n",
    "# df_sh_alkb_only = df_shift_hits.copy()"
   ]
  },
  {
   "cell_type": "code",
   "execution_count": null,
   "id": "seeing-jewelry",
   "metadata": {},
   "outputs": [],
   "source": [
    "def func_count_basecallings(shift, df_s1, df_s2):\n",
    "    dfm_l, dfm_r = peer_dfs(df_s1, df_s2, shift=shift)\n",
    "    df = dfm_l if dfm_l.shape[0] < dfm_r.shape[0] else dfm_r\n",
    "    bcr = base_calling_random(df)\n",
    "    return len(bcr[1])\n",
    "\n",
    "def func_longest_ladder(shift, df_s1, df_s2):\n",
    "    dfm_l, dfm_r = peer_dfs(df_s1, df_s2, shift=shift)\n",
    "    df = dfm_l if dfm_l.shape[0] < dfm_r.shape[0] else dfm_r\n",
    "    groups = basecalling_groups(df)\n",
    "    return len(groups[0][1]) if groups else 0\n",
    "\n",
    "df_s1 = df_wild_sample.copy()\n",
    "df_s2 = df_alkb_sample.copy()\n",
    "df_sh_top = df_shift_hits.sort_values('hit', ascending=False).iloc[0:10].copy()\n",
    "df_sh_top['basecallings'] = df_sh_top.apply(\n",
    "    lambda x: func_count_basecallings(x['shift'], df_s1, df_s2), axis=1)\n",
    "df_sh_top['longestladder'] = df_sh_top.apply(\n",
    "    lambda x: func_longest_ladder(x['shift'], df_s1, df_s2), axis=1)\n",
    "df_sh_top"
   ]
  },
  {
   "cell_type": "code",
   "execution_count": null,
   "id": "informational-interpretation",
   "metadata": {},
   "outputs": [],
   "source": [
    "def func_longest_ladder(shift, df_s1, df_s2):\n",
    "    dfm_l, dfm_r = peer_dfs(df_s1, df_s2, shift=shift)\n",
    "    df = dfm_l if dfm_l.shape[0] < dfm_r.shape[0] else dfm_r\n",
    "    groups_l = basecalling_groups(df)\n",
    "    return len(groups_l[0][1])\n",
    "\n",
    "func_longest_ladder(0, df_wild_sample, df_alkb_sample)"
   ]
  },
  {
   "cell_type": "code",
   "execution_count": null,
   "id": "alternative-youth",
   "metadata": {},
   "outputs": [],
   "source": [
    "fig = plt.figure(figsize=(10, 6))\n",
    "df_plt = df_sh_top.copy().sort_values('shift')\n",
    "df_plt1 = df_plt.copy()\n",
    "df_plt1['shift'] = df_plt1['shift'].astype(int)\n",
    "df_plt1 = df_plt1.set_index('shift')\n",
    "df_plt1.plot(kind='bar')"
   ]
  },
  {
   "cell_type": "code",
   "execution_count": null,
   "id": "friendly-circulation",
   "metadata": {},
   "outputs": [],
   "source": [
    "shift = -14.1\n",
    "# dfm_l, dfm_r = peer_dfs(df_glu1, df_glu1_alkb, shift=shift)\n",
    "dfm_base_l, dfm_base_r = peer_dfs(df_wild_sample, df_alkb_sample, shift=0)\n",
    "dfm_l, dfm_r = peer_dfs(df_wild_sample, df_alkb_sample, shift=shift)\n",
    "# dfm_l.shape, dfm_r.shape\n",
    "plotly_zones(dfm_base_l, dfm_l)\n",
    "bcr = base_calling_random(dfm_l)\n",
    "plotly_basecalling(dfm_l, bcr[1])\n",
    "bcr = base_calling_random(dfm_r)\n",
    "plotly_basecalling(dfm_r, bcr[1], y='RT')"
   ]
  },
  {
   "cell_type": "code",
   "execution_count": null,
   "id": "south-delaware",
   "metadata": {},
   "outputs": [],
   "source": []
  },
  {
   "cell_type": "code",
   "execution_count": null,
   "id": "addressed-consolidation",
   "metadata": {},
   "outputs": [],
   "source": [
    "dft_l = dfm_l[(dfm_l.Mass>3000)&(dfm_l.Mass<7700)]\n",
    "bcr = base_calling_random(dft_l)\n",
    "plotly_basecalling(*bcr)\n",
    "\n",
    "dft_r = dfm_r[(dfm_r.Mass>2900)&(dfm_r.Mass<7700)]\n",
    "bcr = base_calling_random(dft_r)\n",
    "plotly_basecalling(*bcr)"
   ]
  },
  {
   "cell_type": "code",
   "execution_count": null,
   "id": "organic-brunei",
   "metadata": {},
   "outputs": [],
   "source": [
    "dftmp = pd.DataFrame({'Mass': [6070.89, 6415.932, 6720.984,\n",
    "                              6108.838, 6453.874, 6758.932,\n",
    "                               6056.877, 6401.92, 6706.967,\n",
    "                              6094.815, 6439.872, 6744.916]})\n",
    "\n",
    "df_ladders = match_dfs(dftmp, dft_l)\n",
    "bcr_l = base_calling_random(df_ladders)\n",
    "plotly_basecalling(*bcr_l)\n",
    "\n",
    "dftmp.Mass -= M\n",
    "df_ladders = match_dfs(dftmp, dft_r)\n",
    "bcr_r = base_calling_random(df_ladders)\n",
    "plotly_basecalling(*bcr_r)"
   ]
  },
  {
   "cell_type": "code",
   "execution_count": null,
   "id": "composed-violence",
   "metadata": {},
   "outputs": [],
   "source": [
    "thres = 10000\n",
    "groups_l = basecalling_groups(dfm_l[dfm_l.Mass<thres])\n",
    "len(groups_l)\n",
    "groups_r = basecalling_groups(dfm_r[dfm_r.Mass<thres])\n",
    "len(groups_r)"
   ]
  },
  {
   "cell_type": "code",
   "execution_count": null,
   "id": "optional-anime",
   "metadata": {},
   "outputs": [],
   "source": [
    "idx = 0\n",
    "\n",
    "dft = groups_l[idx][0]\n",
    "print(dft.shape)\n",
    "bcr = base_calling_random(dft)\n",
    "plotly_basecalling(*bcr)\n",
    "\n",
    "dft = groups_r[idx][0]\n",
    "bcr = base_calling_random(dft)\n",
    "plotly_basecalling(*bcr)"
   ]
  },
  {
   "cell_type": "code",
   "execution_count": null,
   "id": "worthy-today",
   "metadata": {},
   "outputs": [],
   "source": [
    "# df_sh_top = df_shift_hits.sort_values('hit', ascending=False).iloc[1:11].copy()\n",
    "df_sh_top = df_shift_hits.sort_values('hit', ascending=False).iloc[0:10].copy()\n",
    "# df_sh_top = df_sh_alkb_only.sort_values('hit', ascending=False).iloc[:10].copy()\n",
    "df_sh_top"
   ]
  },
  {
   "cell_type": "code",
   "execution_count": null,
   "id": "similar-lotus",
   "metadata": {},
   "outputs": [],
   "source": []
  },
  {
   "cell_type": "code",
   "execution_count": null,
   "id": "posted-caribbean",
   "metadata": {},
   "outputs": [],
   "source": [
    "fig = plt.figure(figsize=(2.5, 1.5))\n",
    "\n",
    "# plot_basecalling(*bcr, figsize=(5, 3))\n",
    "# bcr = base_calling_random(df_ladders)\n",
    "nodes = pd.concat([bcr_l[0], bcr_r[0]])\n",
    "edges = bcr_l[1] + bcr_r[1]\n",
    "# plot_basecalling(*bcr_l, figsize=(5, 3))\n",
    "# plot_basecalling(*bcr_r, figsize=(5, 3))\n",
    "plot_basecalling(nodes, edges, figsize=(5, 3))\n",
    "\n",
    "# plt.legend()\n",
    "fig.tight_layout()\n",
    "svg_fpath = '/Users/xyuan/Downloads/demo.svg'\n",
    "plt.savefig(svg_fpath, transparent=True, dpi=300)"
   ]
  },
  {
   "cell_type": "code",
   "execution_count": null,
   "id": "convenient-greece",
   "metadata": {},
   "outputs": [],
   "source": [
    "def func(shift, df_s1, df_s2):\n",
    "    dfm_l, dfm_r = peer_dfs(df_s1, df_s2, shift=shift)\n",
    "    df = dfm_l if dfm_l.shape[0] < dfm_r.shape[0] else dfm_r\n",
    "    bcr = base_calling_random(df)\n",
    "    return len(bcr[1])\n",
    "\n",
    "df_s1 = df_wild_sample.copy()\n",
    "df_s2 = df_alkb_sample_only.copy()\n",
    "# df_s1 = df_glu2.copy()\n",
    "# df_s2 = df_glu2_alkb_only.copy()\n",
    "df_sh_top['basecallings'] = df_sh_top.apply(lambda x: func(x['shift'], df_s1, df_s2), axis=1)\n",
    "df_sh_top"
   ]
  },
  {
   "cell_type": "code",
   "execution_count": null,
   "id": "outstanding-desire",
   "metadata": {},
   "outputs": [],
   "source": [
    "shifts = df_sh_top.iloc[:3]['shift'] #[-16, -15, -1, 1, 15]\n",
    "print(shifts)\n",
    "dfm_list = list()\n",
    "for shift in shifts:\n",
    "    dfm_r = match_dfs(df_wild_sample, df_alkb_sample_only, shift=shift)\n",
    "    dfm_list.append(dfm_r)\n",
    "# dfm_list.append(df_mock)\n",
    "dfm_shifts = pd.concat(dfm_list).drop_duplicates()"
   ]
  },
  {
   "cell_type": "code",
   "execution_count": null,
   "id": "indoor-switch",
   "metadata": {},
   "outputs": [],
   "source": [
    "# plotly_zone(dfm_shifts)\n",
    "dft = dfm_shifts\n",
    "# dft = dfm_list[2]\n",
    "bcr = base_calling_random(dft)\n",
    "plotly_basecalling(*bcr)"
   ]
  },
  {
   "cell_type": "code",
   "execution_count": null,
   "id": "particular-institute",
   "metadata": {},
   "outputs": [],
   "source": [
    "fig = plt.figure(figsize=(2.5, 1.5))\n",
    "df_plt = df_sh_top.copy().sort_values('shift')\n",
    "df_plt1 = df_plt.copy()\n",
    "df_plt1['shift'] = df_plt1['shift'].astype(int)\n",
    "df_plt1 = df_plt1.set_index('shift')\n",
    "df_plt1.plot(kind='bar',figsize=(2.5, 1.5))\n",
    "plt.legend()\n",
    "\n",
    "fig.tight_layout()\n",
    "svg_fpath = '/Users/xyuan/Downloads/demo.svg'\n",
    "plt.savefig(svg_fpath, transparent=True, dpi=300)"
   ]
  },
  {
   "cell_type": "code",
   "execution_count": null,
   "id": "occupational-clone",
   "metadata": {},
   "outputs": [],
   "source": [
    "svg_fpath = '/Users/xyuan/Downloads/demo.svg'\n",
    "draw_df(df_sh_alkb_only[df_sh_alkb_only.hit>0], svg_fpath, x='shift', y='hit')"
   ]
  },
  {
   "cell_type": "code",
   "execution_count": null,
   "id": "fluid-usage",
   "metadata": {},
   "outputs": [],
   "source": []
  }
 ],
 "metadata": {
  "kernelspec": {
   "display_name": "Python 3",
   "language": "python",
   "name": "python3"
  },
  "language_info": {
   "codemirror_mode": {
    "name": "ipython",
    "version": 3
   },
   "file_extension": ".py",
   "mimetype": "text/x-python",
   "name": "python",
   "nbconvert_exporter": "python",
   "pygments_lexer": "ipython3",
   "version": "3.7.3"
  }
 },
 "nbformat": 4,
 "nbformat_minor": 5
}
