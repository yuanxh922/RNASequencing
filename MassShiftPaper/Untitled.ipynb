{
 "cells": [
  {
   "cell_type": "code",
   "execution_count": null,
   "id": "restricted-fruit",
   "metadata": {},
   "outputs": [],
   "source": [
    "import pandas as pd"
   ]
  },
  {
   "cell_type": "code",
   "execution_count": null,
   "id": "moved-preliminary",
   "metadata": {},
   "outputs": [],
   "source": [
    "%run ../modules/utils.ipynb\n",
    "%run ../modules/cds.ipynb\n",
    "%run ../modules/preprocessing.ipynb\n"
   ]
  },
  {
   "cell_type": "code",
   "execution_count": null,
   "id": "herbal-experiment",
   "metadata": {},
   "outputs": [],
   "source": [
    "glu_path = '/Users/xyuan/Documents/ChenLab/10Jun2021/degraded/DrChen_tRNA_A_Glu_FA_17.xlsx'\n",
    "df_glu1 = load_data(glu_path)\n",
    "glu_path = '/Users/xyuan/Documents/ChenLab/10Jun2021/degraded/18_Glu_A.xlsx'\n",
    "df_glu1_alkb = load_data(glu_path)\n",
    "\n",
    "# glu_path = '/Users/xyuan/Documents/ChenLab/8May2021/UC_glu_5_rosa.xlsx'\n",
    "glu_path = '/Users/xyuan/Documents/ChenLab/DataYue/Glu/DrChen_tRNAs5_complete.xlsx'\n",
    "df_glu2 = load_data(glu_path)\n",
    "# glu_path = '/Users/xyuan/Documents/ChenLab/8May2021/UC_glu_6_rosa.xlsx'\n",
    "glu_path = '/Users/xyuan/Documents/ChenLab/DataYue/Glu/DrChen_tRNAs6_complete.xlsx'\n",
    "df_glu2_alkb = load_data(glu_path)"
   ]
  },
  {
   "cell_type": "code",
   "execution_count": null,
   "id": "coral-glasgow",
   "metadata": {},
   "outputs": [],
   "source": [
    "# remove adducts from df_glu1\n",
    "dfs = df_glu2.copy()\n",
    "dfs_alkb = df_glu2_alkb.copy()\n",
    "\n",
    "adducts = [K, Na]\n",
    "dfm_adducts_list = list()\n",
    "dfm_adducts_Na = match_dfs(dfs, dfs, shift=Na)\n",
    "dfm_adducts_K = match_dfs(dfs, dfs, shift=K)\n",
    "dfm_adducts = pd.concat([dfm_adducts_Na, dfm_adducts_K]).drop_duplicates()\n",
    "df_glu_without_adducts = dfs.drop(dfm_adducts.index)\n",
    "df_glu_adducts_only = dfm_adducts.copy()\n",
    "print(dfs.shape[0], df_glu_without_adducts.shape[0])\n",
    "\n",
    "dfm_adducts_list = list()\n",
    "for adduct in adducts:\n",
    "    dfm_r = match_dfs(dfs_alkb, dfs_alkb, shift=adduct)\n",
    "    dfm_adducts_list.append(dfm_r)\n",
    "dfm_adducts = pd.concat(dfm_adducts_list).drop_duplicates()\n",
    "df_glu_alkb_without_adducts = dfs_alkb.drop(dfm_adducts.index)\n",
    "df_glu_alkb_adducts_only = dfm_adducts.copy()\n",
    "print(dfs_alkb.shape[0], df_glu_alkb_without_adducts.shape[0])"
   ]
  },
  {
   "cell_type": "code",
   "execution_count": null,
   "id": "demonstrated-vancouver",
   "metadata": {},
   "outputs": [],
   "source": [
    "df_wild, df_alkb = df_glu_without_adducts, df_glu_alkb_without_adducts\n",
    "df_wild_sample = df_wild.copy()\n",
    "df_alkb_sample = df_alkb.copy()\n",
    "df_wild_sample.shape, df_alkb_sample.shape"
   ]
  },
  {
   "cell_type": "code",
   "execution_count": null,
   "id": "exempt-variety",
   "metadata": {},
   "outputs": [],
   "source": [
    "df_wild_adducts, df_alkb_adducts = df_glu_adducts_only, df_glu_alkb_adducts_only\n",
    "df_wild_adducts.shape, df_alkb_adducts.shape"
   ]
  },
  {
   "cell_type": "code",
   "execution_count": null,
   "id": "parliamentary-payday",
   "metadata": {},
   "outputs": [],
   "source": [
    "# path = '~/Studio/seq_bank/data/glu/Glu-CTC-1-1_5p.xlsx'\n",
    "path = '~/Studio/seq_bank/data/glu/Glu-CTC-1-1_3p.xlsx'\n",
    "df_ngs = load_data(path)\n",
    "df_ngs.head()"
   ]
  },
  {
   "cell_type": "code",
   "execution_count": null,
   "id": "urban-driver",
   "metadata": {},
   "outputs": [],
   "source": [
    "import multiprocessing\n",
    "from collections import namedtuple\n",
    "ShiftHit = namedtuple('ShiftHit', 'shift hit')\n",
    "\n",
    "def func(df_s1, df_s2, shift):\n",
    "    dfm = match_dfs(df_s1, df_s2, shift=shift)\n",
    "    sh = ShiftHit(shift=shift, hit=dfm.shape[0])\n",
    "    return sh\n",
    "\n",
    "PROCESSES = 8\n",
    "params = [(df_ngs, df_wild_sample, shift) for shift in np.arange(0, 160, 1)]\n",
    "with multiprocessing.Pool(PROCESSES) as pool:\n",
    "    shift_hits = pool.starmap(func, params)\n",
    "print('Done for regular sample.')\n",
    "params = [(df_ngs, dfm_adducts_Na, shift) for shift in np.arange(22, 160+22, 1)]\n",
    "with multiprocessing.Pool(PROCESSES) as pool:\n",
    "    shift_hits_adducts_Na = pool.starmap(func, params)\n",
    "print('Done for adducts Na sample.')\n",
    "params = [(df_ngs, dfm_adducts_K, shift) for shift in np.arange(38, 160+38, 1)]\n",
    "with multiprocessing.Pool(PROCESSES) as pool:\n",
    "    shift_hits_adducts_K = pool.starmap(func, params)\n",
    "print('Done for adducts K sample.')\n",
    "\n",
    "df_shift_hits = pd.DataFrame(shift_hits)\n",
    "df_shift_hits_adducts_Na = pd.DataFrame(shift_hits_adducts_Na)\n",
    "df_shift_hits_adducts_K = pd.DataFrame(shift_hits_adducts_K)"
   ]
  },
  {
   "cell_type": "code",
   "execution_count": null,
   "id": "positive-grocery",
   "metadata": {},
   "outputs": [],
   "source": [
    "fig = px.scatter(df_shift_hits[df_shift_hits.hit<df_shift_hits.shape[0]], x='shift', y='hit', labels={'shift': 'Mass Shift', 'hit': 'Hit Count'})\n",
    "fig.show()\n",
    "fig = px.scatter(df_shift_hits_adducts_Na[df_shift_hits_adducts_Na.hit<df_shift_hits_adducts_Na.shape[0]], x='shift', y='hit', labels={'shift': 'Mass Shift', 'hit': 'Hit Count'})\n",
    "fig.show()\n",
    "fig = px.scatter(df_shift_hits_adducts_K[df_shift_hits_adducts_K.hit<df_shift_hits_adducts_K.shape[0]], x='shift', y='hit', labels={'shift': 'Mass Shift', 'hit': 'Hit Count'})\n",
    "fig.show()"
   ]
  },
  {
   "cell_type": "code",
   "execution_count": null,
   "id": "union-ontario",
   "metadata": {},
   "outputs": [],
   "source": [
    "df_sh_top = df_shift_hits[df_shift_hits.hit>1]\n",
    "shifts = df_sh_top['shift']\n",
    "df_sh_top_adducts_Na = df_shift_hits_adducts_Na[df_shift_hits_adducts_Na.hit>1]\n",
    "shifts_adducts_Na = df_sh_top_adducts_Na['shift']\n",
    "df_sh_top_adducts_K = df_shift_hits_adducts_K[df_shift_hits_adducts_K.hit>1]\n",
    "shifts_adducts_K = df_sh_top_adducts_K['shift']\n",
    "shifts.shape, shifts_adducts_Na.shape, shifts_adducts_K.shape"
   ]
  },
  {
   "cell_type": "code",
   "execution_count": null,
   "id": "increasing-credits",
   "metadata": {},
   "outputs": [],
   "source": [
    "# find out data points which can generate base calling\n",
    "def func(df_s1, df_s2, shift):\n",
    "    _, df = peer_dfs(df_s1, df_s2, shift=shift)\n",
    "    \n",
    "    bcr = base_calling_random(df, base_only=True)\n",
    "    df = bcr[0].copy()\n",
    "    df['Shift'] = shift\n",
    "    return df\n",
    "\n",
    "PROCESSES = 8\n",
    "params = [(df_ngs, df_wild_sample, shift) for shift in shifts]\n",
    "with multiprocessing.Pool(PROCESSES) as pool:\n",
    "    df_basecallings = pool.starmap(func, params)\n",
    "print('Done for regular sample.')\n",
    "params = [(df_ngs, dfm_adducts_Na, shift) for shift in shifts_adducts_Na]\n",
    "with multiprocessing.Pool(PROCESSES) as pool:\n",
    "    df_basecallings_adducts_Na = pool.starmap(func, params)\n",
    "print('Done for adducts Na sample.')\n",
    "params = [(df_ngs, dfm_adducts_K, shift) for shift in shifts_adducts_K]\n",
    "with multiprocessing.Pool(PROCESSES) as pool:\n",
    "    df_basecallings_adducts_K = pool.starmap(func, params)\n",
    "print('Done for adducts K sample.')\n",
    "\n",
    "df_hits = pd.concat(df_basecallings).drop_duplicates()\n",
    "df_hits_adducts_Na = pd.DataFrame() if len(df_basecallings_adducts_Na) == 0 else pd.concat(df_basecallings_adducts_Na).drop_duplicates()\n",
    "df_hits_adducts_K = pd.DataFrame() if len(df_basecallings_adducts_K) == 0 else pd.concat(df_basecallings_adducts_K).drop_duplicates()\n",
    "df_hits.shape, df_hits_adducts_Na.shape, df_hits_adducts_K.shape"
   ]
  },
  {
   "cell_type": "code",
   "execution_count": null,
   "id": "complicated-seattle",
   "metadata": {},
   "outputs": [],
   "source": [
    "plotly_zone(df_hits, y='Shift')\n",
    "if not df_hits_adducts_Na.empty:\n",
    "    df_hits_adducts_Na['ShiftNa'] = df_hits_adducts_Na['Shift'] - 22\n",
    "    plotly_zone(df_hits_adducts_Na, y='ShiftNa')\n",
    "if not df_hits_adducts_K.empty:\n",
    "    df_hits_adducts_K['ShiftK'] = df_hits_adducts_K['Shift'] - 38\n",
    "    plotly_zone(df_hits_adducts_K, y='ShiftK')\n",
    "# df_hits.Shift.unique(), df_hits_adducts_Na.ShiftNa.unique(), df_hits_adducts_K.ShiftK.unique()"
   ]
  },
  {
   "cell_type": "code",
   "execution_count": null,
   "id": "reserved-canvas",
   "metadata": {},
   "outputs": [],
   "source": [
    "# df_hits_adducts_Na.ShiftNa.unique().tolist()\n",
    "hits = list()\n",
    "for i in df_hits.Shift.unique():\n",
    "    if 'ShiftNa' in df_hits_adducts_Na.columns and 'ShiftK' in df_hits_adducts_K.columbs:\n",
    "        for j in set(df_hits_adducts_Na.ShiftNa.unique().tolist() + df_hits_adducts_K.ShiftK.unique().tolist()):\n",
    "            if i == j:\n",
    "                print(i, j)\n",
    "                hits.append(i)\n",
    "#     for j in df_hits_adducts_Na.ShiftNa.unique().tolist():\n",
    "#         for k in df_hits_adducts_K.ShiftK.unique().tolist():\n",
    "#             if i == j == k:\n",
    "#                 print(i, j)\n",
    "#                 hits.append(i)\n",
    "\n",
    "if 0 not in hits and len(hits) > 0:\n",
    "    hits.append(0)"
   ]
  },
  {
   "cell_type": "code",
   "execution_count": null,
   "id": "reverse-quarter",
   "metadata": {},
   "outputs": [],
   "source": [
    "\n",
    "dft = df_hits[df_hits.Shift.isin(hits)]\n",
    "plotly_zones(df_hits, dft, y='Shift', names=['Baseline', 'Confirmed'])\n",
    "bcr = base_calling_random(dft)\n",
    "plotly_basecalling(*bcr)"
   ]
  },
  {
   "cell_type": "code",
   "execution_count": null,
   "id": "documented-sacrifice",
   "metadata": {},
   "outputs": [],
   "source": [
    "s = 3*C+A+G"
   ]
  },
  {
   "cell_type": "code",
   "execution_count": null,
   "id": "incoming-fifty",
   "metadata": {},
   "outputs": [],
   "source": [
    "2* 802.6081 - s"
   ]
  },
  {
   "cell_type": "code",
   "execution_count": null,
   "id": "textile-municipality",
   "metadata": {},
   "outputs": [],
   "source": [
    "s"
   ]
  },
  {
   "cell_type": "code",
   "execution_count": null,
   "id": "enormous-cosmetic",
   "metadata": {},
   "outputs": [],
   "source": []
  }
 ],
 "metadata": {
  "kernelspec": {
   "display_name": "Python 3",
   "language": "python",
   "name": "python3"
  },
  "language_info": {
   "codemirror_mode": {
    "name": "ipython",
    "version": 3
   },
   "file_extension": ".py",
   "mimetype": "text/x-python",
   "name": "python",
   "nbconvert_exporter": "python",
   "pygments_lexer": "ipython3",
   "version": "3.7.3"
  }
 },
 "nbformat": 4,
 "nbformat_minor": 5
}
