{
 "cells": [
  {
   "cell_type": "code",
   "execution_count": null,
   "id": "intense-trade",
   "metadata": {},
   "outputs": [],
   "source": [
    "import pandas as pd"
   ]
  },
  {
   "cell_type": "code",
   "execution_count": null,
   "id": "suburban-necklace",
   "metadata": {},
   "outputs": [],
   "source": [
    "%run ../modules/utils.ipynb\n",
    "%run ../modules/cds.ipynb\n",
    "%run ../modules/preprocessing.ipynb"
   ]
  },
  {
   "cell_type": "code",
   "execution_count": null,
   "id": "addressed-consumer",
   "metadata": {},
   "outputs": [],
   "source": [
    "fpath = '/Users/xyuan/Documents/BioPharmaFinder/ZhangLab/Data/NoAcidDeg_Phe/Sigma_tRNA_std_150.xlsx'\n",
    "df_control = load_data(fpath)\n",
    "df_control.shape"
   ]
  },
  {
   "cell_type": "code",
   "execution_count": null,
   "id": "filled-thinking",
   "metadata": {},
   "outputs": [],
   "source": [
    "# df = pd.read_excel('~/Documents/BioPharmaFinder/ZhangLab/total_tRNA_acid_deg_oligosdegcoplex4.xlsx')\n",
    "df1 = pd.read_excel('~/Documents/BioPharmaFinder/ZhangLab/Data/Excels/tRNA_Phe_0724.xlsx')\n",
    "df2 = pd.read_excel('~/Documents/BioPharmaFinder/ZhangLab/Data/Excels/tRNA_Phe_0821.xlsx')\n",
    "df1 = thermo_df(df1)\n",
    "df2 = thermo_df(df2)"
   ]
  },
  {
   "cell_type": "code",
   "execution_count": null,
   "id": "modified-arctic",
   "metadata": {},
   "outputs": [],
   "source": [
    "fpath = '/Users/xyuan/Documents/BioPharmaFinder/ZhangLab/Data/Excels/total_tRNA_acid_deg.xlsx'\n",
    "df_total = load_data(fpath)\n",
    "df_total.shape"
   ]
  },
  {
   "cell_type": "code",
   "execution_count": null,
   "id": "departmental-council",
   "metadata": {},
   "outputs": [],
   "source": [
    "df_5p = load_data('~/Studio/MLC-Seq/examples/data/phe5p.xlsx')\n",
    "df_3p = load_data('~/Studio/MLC-Seq/examples/data/phe3p.xlsx')\n",
    "df_5p.shape[0], df_3p.shape[0]"
   ]
  },
  {
   "cell_type": "code",
   "execution_count": null,
   "id": "minimal-sheffield",
   "metadata": {},
   "outputs": [],
   "source": [
    "# plotly_zone(df1[(df1.Mass>2000)&(df1.Mass<20000)], y='Vol')\n",
    "# df_24k = df1[(df1.Mass>23000)&(df1.Mass<26000)]\n",
    "plotly_zone(df_24k, y='Vol')\n",
    "# plotly_zone(df1)"
   ]
  },
  {
   "cell_type": "code",
   "execution_count": null,
   "id": "geographic-atlantic",
   "metadata": {},
   "outputs": [],
   "source": [
    "fpath = '~/Studio/tools/NGS_phe_76_5p.xlsx'\n",
    "df_ngs_5p = pd.read_excel(fpath)\n",
    "fpath = '~/Studio/tools/NGS_phe_76_3p.xlsx'\n",
    "df_ngs_3p = pd.read_excel(fpath)\n",
    "\n",
    "fpath = '~/Studio/tools/NGS_phe_75_5p.xlsx'\n",
    "df_ngs_75nt_5p = pd.read_excel(fpath)\n",
    "fpath = '~/Studio/tools/NGS_phe_75_3p.xlsx'\n",
    "df_ngs_75nt_3p = pd.read_excel(fpath)"
   ]
  },
  {
   "cell_type": "code",
   "execution_count": null,
   "id": "later-valley",
   "metadata": {},
   "outputs": [],
   "source": [
    "# dftmp = df_ngs_75nt_3p.copy()\n",
    "dftmp = df_ngs_3p.copy()\n",
    "dftmp.index -= 76\n",
    "dftmp.index *= -1\n",
    "dftmp[['Mass', 'Base']]"
   ]
  },
  {
   "cell_type": "code",
   "execution_count": null,
   "id": "freelance-robert",
   "metadata": {},
   "outputs": [],
   "source": [
    "fpath = '~/Studio/tools/phe_76_5p.xlsx'\n",
    "df_phe_5p = pd.read_excel(fpath)\n",
    "fpath = '~/Studio/tools/phe_76_3p.xlsx'\n",
    "df_phe_3p = pd.read_excel(fpath)\n",
    "fpath = '~/Studio/tools/phe_75_3p.xlsx'\n",
    "df_phe_75nt_3p = pd.read_excel(fpath)"
   ]
  },
  {
   "cell_type": "code",
   "execution_count": null,
   "id": "governmental-festival",
   "metadata": {},
   "outputs": [],
   "source": [
    "# dfm1 = match_dfs(df_phe_3p, df1)\n",
    "# dfm2 = match_dfs(df_phe_75nt_3p, df1)\n",
    "# plotly_zone(dfm1)\n",
    "# plotly_zone(dfm2)\n",
    "# dfm1.shape, dfm2.shape"
   ]
  },
  {
   "cell_type": "code",
   "execution_count": null,
   "id": "surgical-control",
   "metadata": {},
   "outputs": [],
   "source": [
    "import multiprocessing\n",
    "from collections import namedtuple\n",
    "ShiftHit = namedtuple('ShiftHit', 'shift hit')\n",
    "\n",
    "def func(df_s1, df_s2, shift):\n",
    "    dfm = match_dfs(df_s1, df_s2, shift=shift)\n",
    "    sh = ShiftHit(shift=shift, hit=dfm.shape[0])\n",
    "    return sh\n",
    "\n",
    "# find out data points which can generate base calling\n",
    "def func2(df_s1, df_s2, shift):\n",
    "    _, df = peer_dfs(df_s1, df_s2, shift=shift)\n",
    "\n",
    "    bcr = base_calling_random(df, base_only=True)\n",
    "    df = bcr[0].copy()\n",
    "    df['Shift'] = shift\n",
    "    return df\n",
    "\n",
    "def process(dfs, df_ngs, shift_range, delta, full_mass):\n",
    "    \"\"\"ShiftSum\n",
    "    :param dfs: a set consists of two LC-MS datasets\n",
    "    :param df_ngs: a set contains two opposite mass ladders of an NGS sequence,\n",
    "    the first item is the mass ladder of 5´, the second is of 3´\n",
    "    :param shift_range: iterate the shift in between\n",
    "    \"\"\"\n",
    "    # 1\n",
    "    print('step 1')\n",
    "    PROCESSES = 8\n",
    "    params = [(df_ngs[0], dfs[0], shift) for shift in shift_range]\n",
    "    with multiprocessing.Pool(PROCESSES) as pool:\n",
    "        shift_hits = pool.starmap(func, params)\n",
    "    df_shift_hits_5p = pd.DataFrame(shift_hits)\n",
    "    \n",
    "    params = [(df_ngs[1], dfs[1], shift) for shift in shift_range]\n",
    "    with multiprocessing.Pool(PROCESSES) as pool:\n",
    "        shift_hits = pool.starmap(func, params)\n",
    "    df_shift_hits_3p = pd.DataFrame(shift_hits)\n",
    "    \n",
    "    # 2\n",
    "    print('step 2')\n",
    "    df_sh_top_5p = df_shift_hits_5p[df_shift_hits_5p.hit>1]\n",
    "    shifts_5p = df_sh_top_5p['shift']\n",
    "    \n",
    "    df_sh_top_3p = df_shift_hits_3p[df_shift_hits_3p.hit>1]\n",
    "    shifts_3p = df_sh_top_3p['shift']\n",
    "    \n",
    "    # 3\n",
    "    print('step 3')\n",
    "    pairs = list()\n",
    "    for i in shifts_5p:\n",
    "        for j in shifts_3p:\n",
    "            if i+j == delta: #144:\n",
    "                pairs.append((i, j))\n",
    "#                 print(i, j, '\\n')\n",
    "    \n",
    "    # 4\n",
    "    print('step 4')\n",
    "    PROCESSES = 8\n",
    "#     params = [(df_ngs, df_sample, shift) for shift in shifts]\n",
    "#     params = [(df_ngs[0], dfs[0], pair[0]) for pair in pairs]\n",
    "    params = [(df_ngs[0], dfs[0], shift) for shift in shifts_5p]\n",
    "    with multiprocessing.Pool(PROCESSES) as pool:\n",
    "        df_basecallings = pool.starmap(func2, params)\n",
    "    df_hits_5p = pd.concat(df_basecallings).drop_duplicates()\n",
    "    shift_5p = df_hits_5p.Shift.unique()\n",
    "    plotly_zone(df_hits_5p, y='Shift')\n",
    "    \n",
    "#     params = [(df_ngs[1], dfs[1], pair[1]) for pair in pairs]\n",
    "    params = [(df_ngs[1], dfs[1], shift) for shift in shifts_3p]\n",
    "    with multiprocessing.Pool(PROCESSES) as pool:\n",
    "        df_basecallings = pool.starmap(func2, params)\n",
    "    df_hits_3p = pd.concat(df_basecallings).drop_duplicates()\n",
    "    shift_3p = df_hits_3p.Shift.unique()\n",
    "    plotly_zone(df_hits_3p, y='Shift')\n",
    "    return\n",
    "    # 5\n",
    "    print('step 5')\n",
    "    pairs = list()\n",
    "    # pairs_75nt = list()\n",
    "    for i in shift_5p:\n",
    "        for j in shift_3p:\n",
    "            if i+j == 11:\n",
    "                dft = df_hits_5p[df_hits_5p.Shift == i]\n",
    "                mass_5p = dft.sort_values('Mass')['Mass']\n",
    "                dft = df_hits_3p[df_hits_3p.Shift == j]\n",
    "                mass_3p = dft.sort_values('Mass')['Mass']\n",
    "                max_5p, max_3p = mass_5p.max(), mass_3p.max()\n",
    "                min_5p, min_3p = mass_5p.min(), mass_3p.min()\n",
    "                if min_5p + min_3p > full_mass or max_5p + max_3p < full_mass:\n",
    "                    continue\n",
    "                pairs.append((i, j))\n",
    "                print(i, j, '\\n', mass_5p.to_list(), '\\n', mass_3p.to_list())\n",
    "    \n",
    "    selected_5p = [i[0] for i in pairs]\n",
    "    selected_3p = [i[1] for i in pairs]\n",
    "    \n",
    "    # 6\n",
    "    print('step 6')\n",
    "    target_shifts = selected_5p.copy()\n",
    "    dft_5p = df_hits_5p[df_hits_5p.Shift.isin(target_shifts)]\n",
    "#     plotly_zone(dft_5p, y='Shift')\n",
    "    target_shifts = selected_3p.copy()\n",
    "    dft_3p = df_hits_3p[df_hits_3p.Shift.isin(target_shifts)]\n",
    "#     plotly_zone(dft_3p, y='Shift')\n",
    "    return dft_5p, dft_3p"
   ]
  },
  {
   "cell_type": "code",
   "execution_count": null,
   "id": "strange-roots",
   "metadata": {},
   "outputs": [],
   "source": [
    "dfs = (df_5p, df_3p)\n",
    "df_ngs = (df_ngs_5p, df_ngs_3p)\n",
    "shift_range = np.arange(-160, 160, 1)\n",
    "delta = 11\n",
    "fullmass = 24581.38\n",
    "dfts_76 = process(dfs, df_ngs, shift_range, delta, fullmass)\n",
    "dfts_76[0].shape"
   ]
  },
  {
   "cell_type": "code",
   "execution_count": null,
   "id": "defensive-cleaners",
   "metadata": {},
   "outputs": [],
   "source": [
    "dfs = (df_5p, df_3p)\n",
    "df_ngs = (df_ngs_75nt_5p, df_ngs_75nt_3p)\n",
    "shift_range = np.arange(-160, 160, 1)\n",
    "delta = 11\n",
    "fullmass = 24252.31\n",
    "dfts_75 = process(dfs, df_ngs, shift_range, delta, fullmass)\n",
    "dfts_75[0].shape"
   ]
  },
  {
   "cell_type": "code",
   "execution_count": null,
   "id": "comprehensive-example",
   "metadata": {},
   "outputs": [],
   "source": [
    "dfts_76"
   ]
  },
  {
   "cell_type": "code",
   "execution_count": null,
   "id": "funky-delight",
   "metadata": {},
   "outputs": [],
   "source": [
    "plotly_zone(dfts_76[0], y='Shift')\n",
    "plotly_zone(dfts_76[1], y='Shift')"
   ]
  },
  {
   "cell_type": "code",
   "execution_count": null,
   "id": "dental-component",
   "metadata": {},
   "outputs": [],
   "source": [
    "plotly_zone(dfts_75[0], y='Shift')\n",
    "plotly_zone(dfts_75[1], y='Shift')"
   ]
  },
  {
   "cell_type": "code",
   "execution_count": null,
   "id": "computational-packaging",
   "metadata": {},
   "outputs": [],
   "source": [
    "dfts_tmp = computational_data_seperation(*dfts_75, 24252.31)\n",
    "plotly_zones(*dfts_tmp)\n",
    "dfts_tmp[0].shape\n",
    "# dfts_76_tmp = computational_data_seperation(*dfts_76, 24581.38)\n",
    "# plotly_zones(*dfts_76_tmp)\n",
    "# dfts_76_tmp[0].shape\n",
    "\n",
    "# df_gap_76_5p = find_gap_dots(dfts_76[0], dfts_76_tmp[0], fullmass_dot=pd.DataFrame())\n",
    "# df_gap_76_5p.shape\n",
    "# plotly_zones(dfts_76_tmp[0], df_gap_76_5p, y='Shift', names=['MassSum', 'GapFill'])\n",
    "# df_gap_76_3p = find_gap_dots(dfts_76[1], dfts_76_tmp[1], fullmass_dot=pd.DataFrame())\n",
    "# df_gap_76_3p.shape\n",
    "\n",
    "# plotly_zone(df_3p[(df_3p.Mass>13031)&(df_3p.Mass<14345)])\n",
    "# plotly_zones(dfts_76_tmp[1], df_gap_76_3p, y='Shift', names=['MassSum', 'GapFill'])\n",
    "\n",
    "# df_gap_75_5p = find_gap_dots(dfts_75[0], dfts_tmp[0], fullmass_dot=pd.DataFrame())\n",
    "# df_gap_75_5p.shape\n",
    "# plotly_zone(df_5p[(df_5p.Mass>10254)&(df_5p.Mass<11567)])\n",
    "plotly_zones(dfts_tmp[0], df_gap_75_5p, y='Shift', names=['MassSum', 'GapFill'])\n",
    "# df_gap_75_3p = find_gap_dots(dfts_75[1], dfts_tmp[1], fullmass_dot=pd.DataFrame())\n",
    "# df_gap_75_3p.shape\n",
    "plotly_zone(df_3p[(df_3p.Mass>13031)&(df_3p.Mass<14345)])\n",
    "plotly_zones(dfts_tmp[1], df_gap_75_3p, y='Shift', names=['MassSum', 'GapFill'])"
   ]
  },
  {
   "cell_type": "code",
   "execution_count": null,
   "id": "racial-companion",
   "metadata": {},
   "outputs": [],
   "source": [
    "# plotly_zones(dfts_75[0], dfts_tmp[0], y='Shift')\n",
    "# plotly_zones(dfts_75[1], dfts_tmp[1], y='Shift')"
   ]
  },
  {
   "cell_type": "code",
   "execution_count": null,
   "id": "impressive-playing",
   "metadata": {},
   "outputs": [],
   "source": [
    "# plotly_zones(dfts_76[0], dfts_76_tmp[0], y='Shift')\n",
    "# plotly_zones(dfts_76[1], dfts_76_tmp[1], y='Shift')"
   ]
  },
  {
   "cell_type": "code",
   "execution_count": null,
   "id": "sublime-carnival",
   "metadata": {},
   "outputs": [],
   "source": [
    "dft = pd.concat([dfts_76_tmp[0], df_gap_76_5p])\n",
    "bcr = base_calling_random(dft)\n",
    "plotly_basecalling(*bcr)"
   ]
  },
  {
   "cell_type": "code",
   "execution_count": null,
   "id": "expressed-radar",
   "metadata": {},
   "outputs": [],
   "source": []
  },
  {
   "cell_type": "code",
   "execution_count": null,
   "id": "skilled-wayne",
   "metadata": {},
   "outputs": [],
   "source": [
    "dft = df_ngs[1].copy()\n",
    "dft.head()"
   ]
  },
  {
   "cell_type": "code",
   "execution_count": null,
   "id": "thirty-worship",
   "metadata": {},
   "outputs": [],
   "source": [
    "plt.scatter(dft.Mass[:10], [1]*10)"
   ]
  },
  {
   "cell_type": "code",
   "execution_count": null,
   "id": "passing-candle",
   "metadata": {},
   "outputs": [],
   "source": []
  },
  {
   "cell_type": "code",
   "execution_count": null,
   "id": "motivated-destiny",
   "metadata": {},
   "outputs": [],
   "source": []
  }
 ],
 "metadata": {
  "kernelspec": {
   "display_name": "Python 3",
   "language": "python",
   "name": "python3"
  },
  "language_info": {
   "codemirror_mode": {
    "name": "ipython",
    "version": 3
   },
   "file_extension": ".py",
   "mimetype": "text/x-python",
   "name": "python",
   "nbconvert_exporter": "python",
   "pygments_lexer": "ipython3",
   "version": "3.7.3"
  }
 },
 "nbformat": 4,
 "nbformat_minor": 5
}
