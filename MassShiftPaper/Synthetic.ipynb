{
 "cells": [
  {
   "cell_type": "code",
   "execution_count": null,
   "id": "welcome-ceramic",
   "metadata": {},
   "outputs": [],
   "source": [
    "import pandas as pd"
   ]
  },
  {
   "cell_type": "code",
   "execution_count": null,
   "id": "living-basis",
   "metadata": {},
   "outputs": [],
   "source": [
    "%run ../modules/utils.ipynb\n",
    "%run ../modules/cds.ipynb\n",
    "%run ../modules/preprocessing.ipynb"
   ]
  },
  {
   "cell_type": "code",
   "execution_count": null,
   "id": "isolated-appliance",
   "metadata": {},
   "outputs": [],
   "source": [
    "# fpath = '/Users/xyuan/Documents/SeqDataSets/Cy3/12_mixtures_5_sulfo_Cy3/20nt-Table 1.csv'\n",
    "fpath = \"/Users/xyuan/Documents/SeqDataSets/Ning1024/12mixtures_3'-Biotin_MFE/19-Table 1.csv\"\n",
    "# fpath = \"/Users/xyuan/Documents/SeqDataSets/Ning1024/12mixtures_3'-Biotin_MFE/20-6-Table 1.csv\"\n",
    "df_19 = load_data(fpath, csv_format=True)\n",
    "df_19 = df_19[df_19.RT<15].copy()\n",
    "df_19.shape"
   ]
  },
  {
   "cell_type": "code",
   "execution_count": null,
   "id": "understanding-primary",
   "metadata": {},
   "outputs": [],
   "source": [
    "plot_zone(df_19)"
   ]
  },
  {
   "cell_type": "code",
   "execution_count": null,
   "id": "varied-reunion",
   "metadata": {},
   "outputs": [],
   "source": [
    "df_sample = df_19.copy()\n",
    "# remove adducts from df_19\n",
    "\n",
    "adducts = [K, Na]\n",
    "dfm_adducts_list = list()\n",
    "for adduct in adducts:\n",
    "    dfm_r = match_dfs(df_sample, df_sample, shift=adduct)\n",
    "    dfm_adducts_list.append(dfm_r)\n",
    "dfm_adducts = pd.concat(dfm_adducts_list).drop_duplicates()\n",
    "df_without_adducts = df_sample.drop(dfm_adducts.index)\n",
    "df_without_adducts.shape"
   ]
  },
  {
   "cell_type": "code",
   "execution_count": null,
   "id": "becoming-sheet",
   "metadata": {},
   "outputs": [],
   "source": [
    "# df_sample = df_without_adducts\n",
    "df_sample = df_19.copy()\n",
    "\n",
    "import multiprocessing\n",
    "from collections import namedtuple\n",
    "ShiftHit = namedtuple('ShiftHit', 'shift hit')\n",
    "\n",
    "def func(df_sample, shift):\n",
    "    dfm = match_dfs(df_sample, df_sample, shift=shift)\n",
    "    sh = ShiftHit(shift=shift, hit=dfm.shape[0])\n",
    "    return sh\n",
    "\n",
    "PROCESSES = 16\n",
    "params = [(df_sample, shift) for shift in np.arange(1, 900, 0.1)]  # biotin 3'\n",
    "# params = [(df_sample, shift) for shift in np.arange(1, 900, 0.1)] # Sulfo-cy3 5´\n",
    "# params = [(df_sample, shift) for shift in np.arange(1, 64, 1)]\n",
    "with multiprocessing.Pool(PROCESSES) as pool:\n",
    "    shift_hits = pool.starmap(func, params)\n",
    "\n",
    "df_shift_hits = pd.DataFrame(shift_hits)    "
   ]
  },
  {
   "cell_type": "code",
   "execution_count": null,
   "id": "frozen-summer",
   "metadata": {},
   "outputs": [],
   "source": [
    "# fig = px.scatter(df_shift_hits, x='shift', y='hit', labels={'shift': 'Mass Shift', 'hit': 'Hit Count'})\n",
    "# fig.show()\n",
    "plt.scatter(df_shift_hits['shift'], df_shift_hits['hit'])"
   ]
  },
  {
   "cell_type": "code",
   "execution_count": null,
   "id": "variable-strike",
   "metadata": {},
   "outputs": [],
   "source": []
  },
  {
   "cell_type": "code",
   "execution_count": null,
   "id": "thick-sensitivity",
   "metadata": {},
   "outputs": [],
   "source": [
    "# df_sh_sulfo = df_shift_hits.copy()\n",
    "# df_sh_sulfo.to_excel('ShiftHit_Sulfo.xlsx')"
   ]
  },
  {
   "cell_type": "code",
   "execution_count": null,
   "id": "incorporate-dover",
   "metadata": {},
   "outputs": [],
   "source": [
    "# df_sh_biotin = df_shift_hits.copy()\n",
    "# df_sh_biotin.to_excel('ShiftHit_Biotin.xlsx')"
   ]
  },
  {
   "cell_type": "code",
   "execution_count": null,
   "id": "virtual-consultancy",
   "metadata": {},
   "outputs": [],
   "source": [
    "df_sh_top = df_shift_hits.sort_values('hit', ascending=False).iloc[:50].copy()"
   ]
  },
  {
   "cell_type": "code",
   "execution_count": null,
   "id": "crucial-engineer",
   "metadata": {},
   "outputs": [],
   "source": [
    "def func(shift):\n",
    "    dfm_l, dfm_r = peer_dfs(df_sample, df_sample, shift=shift)\n",
    "    df = dfm_l if dfm_l.shape[0] < dfm_r.shape[0] else dfm_r\n",
    "    bcr = base_calling_random(df)\n",
    "    return len(bcr[1])\n",
    "\n",
    "df_sh_top['basecallings'] = df_sh_top.apply(lambda x: func(x['shift']), axis=1)"
   ]
  },
  {
   "cell_type": "code",
   "execution_count": null,
   "id": "lucky-inclusion",
   "metadata": {},
   "outputs": [],
   "source": [
    "# df_sh_top.sort_values('basecallings', ascending=False)"
   ]
  },
  {
   "cell_type": "code",
   "execution_count": null,
   "id": "embedded-mistress",
   "metadata": {},
   "outputs": [],
   "source": [
    "shift = 756.2 #634.1 #A #409 #612.1 #612.1 #biotin 3´\n",
    "# shift = 834.1828 #sulfo-cy3 5´\n",
    "df_sample = df_19\n",
    "dfm_l, dfm_r = peer_dfs(df_sample, df_sample, shift=shift)\n",
    "dfm_l.shape, dfm_r.shape"
   ]
  },
  {
   "cell_type": "code",
   "execution_count": null,
   "id": "radio-myrtle",
   "metadata": {},
   "outputs": [],
   "source": [
    "df_sample = df_19.drop(dfm_r.index)"
   ]
  },
  {
   "cell_type": "code",
   "execution_count": null,
   "id": "stuck-audio",
   "metadata": {},
   "outputs": [],
   "source": [
    "shift = 22 #660# 327.0 #18 #658.1 #734.2 #756.1954 #biotin 3´\n",
    "# shift = 834.1828 #sulfo-cy3 5´\n",
    "df_sample = df_19\n",
    "dfm_l, dfm_r = peer_dfs(df_sample, df_sample, shift=shift)\n",
    "dfm_l.shape, dfm_r.shape"
   ]
  },
  {
   "cell_type": "code",
   "execution_count": null,
   "id": "choice-focus",
   "metadata": {},
   "outputs": [],
   "source": [
    "plot_zones(dfm_l, dfm_r)"
   ]
  },
  {
   "cell_type": "code",
   "execution_count": null,
   "id": "fancy-blood",
   "metadata": {},
   "outputs": [],
   "source": [
    "bcr = base_calling_random(dfm_l)\n",
    "plot_basecalling(*bcr)\n",
    "print(len(bcr[0]))"
   ]
  },
  {
   "cell_type": "code",
   "execution_count": null,
   "id": "tribal-sacramento",
   "metadata": {},
   "outputs": [],
   "source": [
    "bcr_l = base_calling_random(dfm_l)\n",
    "bcr_r = base_calling_random(dfm_r)\n",
    "bcr = (pd.concat([bcr_l[0],bcr_r[0]]), bcr_l[1] + bcr_r[1])\n",
    "# bcr"
   ]
  },
  {
   "cell_type": "code",
   "execution_count": null,
   "id": "hispanic-measurement",
   "metadata": {},
   "outputs": [],
   "source": [
    "# bcr = base_calling_random(dfm_r)\n",
    "plot_basecalling(*bcr)"
   ]
  },
  {
   "cell_type": "code",
   "execution_count": null,
   "id": "monthly-marijuana",
   "metadata": {},
   "outputs": [],
   "source": [
    "df_top = local_top(df_19, top=1)\n",
    "df_top.shape"
   ]
  },
  {
   "cell_type": "code",
   "execution_count": null,
   "id": "proper-survey",
   "metadata": {},
   "outputs": [],
   "source": [
    "def draw_df(df, svg_fpath, x='Mass', y='RT', s=6, color='C0', label=''):\n",
    "#     fig = plt.figure(figsize=(5, 3))\n",
    "    fig = plt.figure(figsize=(2.5, 1.5))\n",
    "    plt.scatter(df[x], df[y], s=s, color=color, label=label) \n",
    "    plt.legend()\n",
    "\n",
    "    fig.tight_layout()\n",
    "    plt.savefig(svg_fpath, transparent=True, dpi=300)\n",
    "    \n",
    "def draw_dfs(df1, df2, svg_fpath, x='Mass', y='RT', s=6, colors=['C0', 'r'], labels=['', ''], xy=([], [])):\n",
    "    fig = plt.figure(figsize=(2.5, 1.5))\n",
    "    plt.scatter(df1[x], df1[y], s=s, color=colors[0], label=labels[0]) \n",
    "    plt.scatter(df2[x], df2[y], s=s, color=colors[1], label=labels[1]) \n",
    "    if xy[0]:\n",
    "        plt.scatter(xy[0], xy[1], color='w')\n",
    "    plt.legend()\n",
    "\n",
    "    fig.tight_layout()\n",
    "    plt.savefig(svg_fpath, transparent=True, dpi=300)\n",
    "    \n",
    "def draw_dfs_bar(df1, df2, svg_fpath, x='Mass', y='RT', s=6, colors=['C0', 'r'], labels=['', ''], xy=([], [])):\n",
    "    fig = plt.figure(figsize=(2.5, 1.5))\n",
    "    plt.scatter(df1[x], df1[y], s=s, color=colors[0], label=labels[0]) \n",
    "    plt.scatter(df2[x], df2[y], s=s, color=colors[1], label=labels[1]) \n",
    "    if xy[0]:\n",
    "        plt.scatter(xy[0], xy[1], color='w')\n",
    "    plt.legend()\n",
    "\n",
    "    fig.tight_layout()\n",
    "    plt.savefig(svg_fpath, transparent=True, dpi=300)\n",
    "    "
   ]
  },
  {
   "cell_type": "code",
   "execution_count": null,
   "id": "reported-produce",
   "metadata": {},
   "outputs": [],
   "source": [
    "svg_fpath = '/Users/xyuan/Downloads/demo.svg'\n",
    "draw_df(df_sh_top, svg_fpath, x='shift', y='hit')"
   ]
  },
  {
   "cell_type": "code",
   "execution_count": null,
   "id": "expensive-columbia",
   "metadata": {},
   "outputs": [],
   "source": [
    "svg_fpath = '/Users/xyuan/Downloads/demo.svg'\n",
    "draw_df(df_sh_top, svg_fpath, x='shift', y='basecallings')"
   ]
  },
  {
   "cell_type": "code",
   "execution_count": null,
   "id": "connected-absolute",
   "metadata": {},
   "outputs": [],
   "source": [
    "# Sample code, plot bar\n",
    "plotdata = pd.DataFrame({\n",
    "    \"2018\":[57,67,77,83],\n",
    "    \"2019\":[68,73,80,79],\n",
    "    \"2020\":[73,78,80,85]})\n",
    "plotdata.plot(kind=\"bar\",figsize=(15, 8))\n",
    "plt.title(\"FIFA ratings\")\n",
    "plt.xlabel(\"Footballer\")\n",
    "plt.ylabel(\"Ratings\")"
   ]
  },
  {
   "cell_type": "code",
   "execution_count": null,
   "id": "eastern-conference",
   "metadata": {},
   "outputs": [],
   "source": [
    "# df_sh_top = df_sh_top.sort_values('shift')\n",
    "# df_sh_top[df_sh_top.columns[1:]].plot(kind='bar',figsize=(15, 8))"
   ]
  },
  {
   "cell_type": "code",
   "execution_count": null,
   "id": "unauthorized-yesterday",
   "metadata": {},
   "outputs": [],
   "source": [
    "fig = plt.figure(figsize=(2.5, 1.5))\n",
    "# plt.bar(df_sh_top['shift'], df_sh_top[y], s=s, color=colors[0], label=labels[0]) \n",
    "# plt.scatter(df2[x], df2[y], s=s, color=colors[1], label=labels[1]) \n",
    "# if xy[0]:\n",
    "#     plt.scatter(xy[0], xy[1], color='w')\n",
    "df_plt = df_sh_top.sort_values('hit', ascending=False).iloc[:10].copy()\n",
    "df_plt = df_plt.sort_values('shift')\n",
    "df_plt1 = df_plt.copy()\n",
    "df_plt1['shift'] = df_plt1['shift'].astype(int)\n",
    "df_plt1 = df_plt1.set_index('shift')\n",
    "df_plt1.plot(kind='bar',figsize=(2.5, 1.5))\n",
    "plt.legend()\n",
    "\n",
    "fig.tight_layout()\n",
    "plt.savefig(svg_fpath, transparent=True, dpi=300)"
   ]
  },
  {
   "cell_type": "code",
   "execution_count": null,
   "id": "affiliated-eating",
   "metadata": {},
   "outputs": [],
   "source": [
    "fig = plt.figure(figsize=(2.5, 1.5))\n",
    "plot_basecalling(*bcr, figsize=(5, 3))\n",
    "plt.legend()\n",
    "\n",
    "fig.tight_layout()\n",
    "plt.savefig(svg_fpath, transparent=True, dpi=300)"
   ]
  },
  {
   "cell_type": "code",
   "execution_count": null,
   "id": "satisfactory-convergence",
   "metadata": {},
   "outputs": [],
   "source": [
    "fig = plt.figure(figsize=(2.5, 1.5))\n",
    "\n",
    "plot_zone(df_sample, figsize=(5, 3))\n",
    "\n",
    "plt.legend()\n",
    "fig.tight_layout()\n",
    "plt.savefig(svg_fpath, transparent=True, dpi=300)"
   ]
  },
  {
   "cell_type": "code",
   "execution_count": null,
   "id": "sunrise-prerequisite",
   "metadata": {},
   "outputs": [],
   "source": []
  }
 ],
 "metadata": {
  "kernelspec": {
   "display_name": "Python 3",
   "language": "python",
   "name": "python3"
  },
  "language_info": {
   "codemirror_mode": {
    "name": "ipython",
    "version": 3
   },
   "file_extension": ".py",
   "mimetype": "text/x-python",
   "name": "python",
   "nbconvert_exporter": "python",
   "pygments_lexer": "ipython3",
   "version": "3.7.3"
  }
 },
 "nbformat": 4,
 "nbformat_minor": 5
}
