{
 "cells": [
  {
   "cell_type": "code",
   "execution_count": null,
   "id": "sudden-blues",
   "metadata": {},
   "outputs": [],
   "source": [
    "import pandas as pd"
   ]
  },
  {
   "cell_type": "code",
   "execution_count": null,
   "id": "taken-noise",
   "metadata": {},
   "outputs": [],
   "source": [
    "%run ../modules/utils.ipynb\n",
    "%run ../modules/cds.ipynb\n",
    "%run ../modules/preprocessing.ipynb\n",
    "\n",
    "%run ../modules/paper_figures.ipynb"
   ]
  },
  {
   "cell_type": "code",
   "execution_count": null,
   "id": "developed-raleigh",
   "metadata": {},
   "outputs": [],
   "source": [
    "lys_path = '/Users/xyuan/Documents/ChenLab/10Jun2021/degraded/DrChen_tRNA_A_Lys_FA_15.xlsx'\n",
    "df_wild1 = load_data(lys_path)\n",
    "lys_path = '/Users/xyuan/Documents/ChenLab/10Jun2021/degraded/16_A_Lys_A.xlsx'\n",
    "df_alkb1 = load_data(lys_path)\n",
    "df_wild1.shape, df_alkb1.shape"
   ]
  },
  {
   "cell_type": "code",
   "execution_count": null,
   "id": "grateful-artist",
   "metadata": {},
   "outputs": [],
   "source": [
    "lys_path = '/Users/xyuan/Documents/ChenLab/10Jun2021/degraded/21_B_Lys.xlsx'\n",
    "df_wild2 = load_data(lys_path)\n",
    "lys_path = '/Users/xyuan/Documents/ChenLab/10Jun2021/degraded/22_B_Lys_A.xlsx'\n",
    "df_alkb2 = load_data(lys_path)\n",
    "df_wild2.shape, df_alkb2.shape"
   ]
  },
  {
   "cell_type": "code",
   "execution_count": null,
   "id": "identified-timing",
   "metadata": {},
   "outputs": [],
   "source": [
    "df_wild1 = df_wild1[df_wild1.Mass>1500]\n",
    "df_alkb1 = df_alkb1[df_alkb1.Mass>1500]\n",
    "df_wild1.shape, df_alkb1.shape"
   ]
  },
  {
   "cell_type": "code",
   "execution_count": null,
   "id": "infrared-holocaust",
   "metadata": {},
   "outputs": [],
   "source": [
    "df_wild2 = df_wild2[df_wild2.Mass>1500]\n",
    "df_alkb2 = df_alkb2[df_alkb2.Mass>1500]"
   ]
  },
  {
   "cell_type": "code",
   "execution_count": null,
   "id": "upper-martin",
   "metadata": {},
   "outputs": [],
   "source": [
    "_, df_alkb1_only = diff_dfs(df_wild1, df_alkb1)\n",
    "df_alkb1_only.shape"
   ]
  },
  {
   "cell_type": "code",
   "execution_count": null,
   "id": "assured-scoop",
   "metadata": {},
   "outputs": [],
   "source": [
    "_, df_alkb2_only = diff_dfs(df_wild2, df_alkb2)\n",
    "df_alkb2_only.shape"
   ]
  },
  {
   "cell_type": "code",
   "execution_count": null,
   "id": "descending-surface",
   "metadata": {},
   "outputs": [],
   "source": [
    "import multiprocessing\n",
    "from collections import namedtuple\n",
    "ShiftHit = namedtuple('ShiftHit', 'shift hit')\n",
    "\n",
    "def func(df_s1, df_s2, shift):\n",
    "    dfm = match_dfs(df_s1, df_s2, shift=shift)\n",
    "    sh = ShiftHit(shift=shift, hit=dfm.shape[0])\n",
    "    return sh\n",
    "\n",
    "PROCESSES = 8\n",
    "# params = [(df_wild1, df_alkb1_only, shift) for shift in np.arange(-64, 64, 1)]\n",
    "params = [(df_wild2, df_alkb2_only, shift) for shift in np.arange(-64, 64, 1)]\n",
    "with multiprocessing.Pool(PROCESSES) as pool:\n",
    "    shift_hits = pool.starmap(func, params)\n",
    "\n",
    "df_shift_hits = pd.DataFrame(shift_hits)    "
   ]
  },
  {
   "cell_type": "code",
   "execution_count": null,
   "id": "threatened-photograph",
   "metadata": {},
   "outputs": [],
   "source": [
    "fig = px.scatter(df_shift_hits[df_shift_hits.hit>0], x='shift', y='hit', labels={'shift': 'Mass Shift', 'hit': 'Hit Count'})\n",
    "fig.show()"
   ]
  },
  {
   "cell_type": "code",
   "execution_count": null,
   "id": "prerequisite-comparison",
   "metadata": {},
   "outputs": [],
   "source": [
    "# df_sh_1 = df_shift_hits.copy()\n",
    "# df_sh_1.to_excel('Shift_Lys_1.xlsx')\n",
    "# df_sh_2 = df_shift_hits.copy()\n",
    "# df_sh_2.to_excel('Shift_Lys_2.xlsx')"
   ]
  },
  {
   "cell_type": "code",
   "execution_count": null,
   "id": "advised-korea",
   "metadata": {},
   "outputs": [],
   "source": [
    "df_sh_top = df_shift_hits.sort_values('hit', ascending=False).reset_index(drop=True).iloc[:10].copy()"
   ]
  },
  {
   "cell_type": "code",
   "execution_count": null,
   "id": "vulnerable-helping",
   "metadata": {},
   "outputs": [],
   "source": [
    "def func(shift, df_s1, df_s2):\n",
    "    dfm_l, dfm_r = peer_dfs(df_s1, df_s2, shift=shift)\n",
    "    df = dfm_l if dfm_l.shape[0] < dfm_r.shape[0] else dfm_r\n",
    "    bcr = base_calling_random(df)\n",
    "    return len(bcr[1])\n",
    "\n",
    "# df_s1 = df_wild1.copy()\n",
    "# df_s2 = df_alkb1_only.copy()\n",
    "df_s1 = df_wild2.copy()\n",
    "df_s2 = df_alkb2_only.copy()\n",
    "df_sh_top['basecallings'] = df_sh_top.apply(lambda x: func(x['shift'], df_s1, df_s2), axis=1)"
   ]
  },
  {
   "cell_type": "code",
   "execution_count": null,
   "id": "directed-trouble",
   "metadata": {},
   "outputs": [],
   "source": [
    "fig = plt.figure(figsize=(2.5, 1.5))\n",
    "df_plt = df_sh_top.copy().sort_values('shift')\n",
    "df_plt1 = df_plt.copy()\n",
    "df_plt1['shift'] = df_plt1['shift'].astype(int)\n",
    "df_plt1 = df_plt1.set_index('shift')\n",
    "df_plt1.plot(kind='bar',figsize=(2.5, 1.5))\n",
    "plt.legend()\n",
    "\n",
    "fig.tight_layout()\n",
    "svg_fpath = '/Users/xyuan/Downloads/demo.svg'\n",
    "plt.savefig(svg_fpath, transparent=True, dpi=300)"
   ]
  },
  {
   "cell_type": "code",
   "execution_count": null,
   "id": "acknowledged-victorian",
   "metadata": {},
   "outputs": [],
   "source": [
    "svg_fpath = '/Users/xyuan/Downloads/demo.svg'\n",
    "draw_df(df_shift_hits[df_shift_hits.hit>0], svg_fpath, x='shift', y='hit')"
   ]
  },
  {
   "cell_type": "code",
   "execution_count": null,
   "id": "packed-capitol",
   "metadata": {},
   "outputs": [],
   "source": []
  }
 ],
 "metadata": {
  "kernelspec": {
   "display_name": "Python 3",
   "language": "python",
   "name": "python3"
  },
  "language_info": {
   "codemirror_mode": {
    "name": "ipython",
    "version": 3
   },
   "file_extension": ".py",
   "mimetype": "text/x-python",
   "name": "python",
   "nbconvert_exporter": "python",
   "pygments_lexer": "ipython3",
   "version": "3.7.3"
  }
 },
 "nbformat": 4,
 "nbformat_minor": 5
}
