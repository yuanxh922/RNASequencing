{
 "cells": [
  {
   "cell_type": "code",
   "execution_count": null,
   "id": "efficient-oregon",
   "metadata": {},
   "outputs": [],
   "source": [
    "import pandas as pd"
   ]
  },
  {
   "cell_type": "code",
   "execution_count": null,
   "id": "novel-translation",
   "metadata": {},
   "outputs": [],
   "source": [
    "%run ../modules/utils.ipynb\n",
    "%run ../modules/cds.ipynb\n",
    "%run ../modules/preprocessing.ipynb"
   ]
  },
  {
   "cell_type": "code",
   "execution_count": null,
   "id": "unlimited-israel",
   "metadata": {},
   "outputs": [],
   "source": [
    "path = '/Users/xyuan/Documents/BioPharmaFinder/BaoLab/FirstBatch/Excels/S2to5combined_20ul_40min.xlsx'\n",
    "df_mock = load_data(path)\n",
    "path = '/Users/xyuan/Documents/BioPharmaFinder/BaoLab/FirstBatch/Excels/S6to10combined_20ul_40min.xlsx'\n",
    "df_rsv = load_data(path)\n",
    "df_mock.shape, df_rsv.shape"
   ]
  },
  {
   "cell_type": "code",
   "execution_count": null,
   "id": "suffering-tuning",
   "metadata": {},
   "outputs": [],
   "source": [
    "df_24k = df_mock[(df_mock.Mass>24000)&(df_mock.Mass<25000)]\n",
    "plotly_zone(df_24k, y='Vol')"
   ]
  },
  {
   "cell_type": "code",
   "execution_count": null,
   "id": "sealed-hypothetical",
   "metadata": {},
   "outputs": [],
   "source": [
    "fpath = '~/Studio/tools/NGS_24129_5p.xlsx'\n",
    "df_ngs_5p = pd.read_excel(fpath)\n",
    "fpath = '~/Studio/tools/NGS_24129_3p.xlsx'\n",
    "df_ngs_3p = pd.read_excel(fpath)"
   ]
  },
  {
   "cell_type": "code",
   "execution_count": null,
   "id": "conventional-absolute",
   "metadata": {},
   "outputs": [],
   "source": [
    "df_sample = df_mock.copy()\n",
    "df_sample.shape"
   ]
  },
  {
   "cell_type": "code",
   "execution_count": null,
   "id": "floating-first",
   "metadata": {},
   "outputs": [],
   "source": [
    "# df_ngs = df_ngs_5p.copy()\n",
    "df_ngs = df_ngs_3p.copy()\n",
    "df_ngs.head()"
   ]
  },
  {
   "cell_type": "code",
   "execution_count": null,
   "id": "substantial-influence",
   "metadata": {},
   "outputs": [],
   "source": [
    "import multiprocessing\n",
    "from collections import namedtuple\n",
    "ShiftHit = namedtuple('ShiftHit', 'shift hit')\n",
    "\n",
    "def func(df_s1, df_s2, shift):\n",
    "    dfm = match_dfs(df_s1, df_s2, shift=shift)\n",
    "    sh = ShiftHit(shift=shift, hit=dfm.shape[0])\n",
    "    return sh\n",
    "\n",
    "PROCESSES = 8\n",
    "params = [(df_ngs, df_sample, shift) for shift in np.arange(0, 160, 1)]\n",
    "with multiprocessing.Pool(PROCESSES) as pool:\n",
    "    shift_hits = pool.starmap(func, params)\n",
    "\n",
    "df_shift_hits = pd.DataFrame(shift_hits)"
   ]
  },
  {
   "cell_type": "code",
   "execution_count": null,
   "id": "delayed-architect",
   "metadata": {},
   "outputs": [],
   "source": [
    "fig = px.scatter(df_shift_hits[df_shift_hits.hit<df_shift_hits.shape[0]], x='shift', y='hit', labels={'shift': 'Mass Shift', 'hit': 'Hit Count'})\n",
    "fig.show()\n",
    "# df_shift_hits"
   ]
  },
  {
   "cell_type": "code",
   "execution_count": null,
   "id": "illegal-workshop",
   "metadata": {},
   "outputs": [],
   "source": [
    "df_sh_top = df_shift_hits[df_shift_hits.hit>1]\n",
    "# df_sh_top = df_shift_hits.sort_values('hit', ascending=False).iloc[:10]\n",
    "shifts = df_sh_top['shift']\n",
    "df_sh_top.shape"
   ]
  },
  {
   "cell_type": "code",
   "execution_count": null,
   "id": "spiritual-enlargement",
   "metadata": {},
   "outputs": [],
   "source": [
    "# find out data points which can generate base calling\n",
    "def func(df_s1, df_s2, shift):\n",
    "    _, df = peer_dfs(df_s1, df_s2, shift=shift)\n",
    "    \n",
    "    bcr = base_calling_random(df, base_only=True)\n",
    "    df = bcr[0].copy()\n",
    "    df['Shift'] = shift\n",
    "    return df\n",
    "\n",
    "PROCESSES = 8\n",
    "params = [(df_ngs, df_sample, shift) for shift in shifts]\n",
    "with multiprocessing.Pool(PROCESSES) as pool:\n",
    "    df_basecallings = pool.starmap(func, params)\n",
    "\n",
    "df_hits = pd.concat(df_basecallings).drop_duplicates()"
   ]
  },
  {
   "cell_type": "code",
   "execution_count": null,
   "id": "generic-detroit",
   "metadata": {},
   "outputs": [],
   "source": [
    "plotly_zone(df_hits, y='Shift')"
   ]
  },
  {
   "cell_type": "code",
   "execution_count": null,
   "id": "abstract-jungle",
   "metadata": {},
   "outputs": [],
   "source": [
    "# df_hits_5p = df_hits.copy()\n",
    "# shift_5p = df_hits.Shift.unique()\n",
    "# shift_5p\n",
    "df_hits_3p = df_hits.copy()\n",
    "shift_3p = df_hits.Shift.unique()\n",
    "shift_3p"
   ]
  },
  {
   "cell_type": "code",
   "execution_count": null,
   "id": "flush-transaction",
   "metadata": {},
   "outputs": [],
   "source": [
    "full_mass = 24203.24 #24217.27 #24189.23 #  #\n",
    "pairs = list()\n",
    "for i in shift_5p:\n",
    "    for j in shift_3p:\n",
    "        if i+j == 88:\n",
    "            dft = df_hits_5p[df_hits_5p.Shift == i]\n",
    "            mass_5p = dft.sort_values('Mass')['Mass']\n",
    "            dft = df_hits_3p[df_hits_3p.Shift == j]\n",
    "            mass_3p = dft.sort_values('Mass')['Mass']\n",
    "            max_5p, max_3p = mass_5p.max(), mass_3p.max()\n",
    "            min_5p, min_3p = mass_5p.min(), mass_3p.min()\n",
    "            if min_5p + min_3p > full_mass or max_5p + max_3p < full_mass:\n",
    "                continue\n",
    "            pairs.append((i, j))\n",
    "            print(i, j, '\\n', mass_5p.to_list(), '\\n', mass_3p.to_list())"
   ]
  },
  {
   "cell_type": "code",
   "execution_count": null,
   "id": "technical-firewall",
   "metadata": {},
   "outputs": [],
   "source": [
    "# pairs_24203 = pairs.copy()\n",
    "# pairs_24189 = pairs.copy()\n",
    "# pairs_24217 = pairs.copy()"
   ]
  },
  {
   "cell_type": "code",
   "execution_count": null,
   "id": "collective-dominant",
   "metadata": {},
   "outputs": [],
   "source": [
    "selected_5p = [i[0] for i in pairs]\n",
    "selected_3p = [i[1] for i in pairs]\n",
    "# selected_5p.extend([0, 14])\n",
    "# selected_3p.extend([0, 14])\n",
    "# selected_5p, selected_3p\n",
    "pairs"
   ]
  },
  {
   "cell_type": "code",
   "execution_count": null,
   "id": "numeric-nature",
   "metadata": {},
   "outputs": [],
   "source": [
    "target_shifts = selected_5p.copy()\n",
    "dft = df_hits_5p[df_hits_5p.Shift.isin(target_shifts)]\n",
    "plotly_zones(df_hits_5p, dft, y='Shift')\n",
    "target_shifts = selected_3p.copy()\n",
    "dft = df_hits_3p[df_hits_3p.Shift.isin(target_shifts)]\n",
    "plotly_zones(df_hits_3p, dft, y='Shift')\n",
    "# bcr = base_calling_random(dft)\n",
    "# plotly_basecalling(*bcr)"
   ]
  },
  {
   "cell_type": "code",
   "execution_count": null,
   "id": "welcome-disclosure",
   "metadata": {},
   "outputs": [],
   "source": [
    "# plotly_zones(df_mock, dft)\n",
    "plotly_zone(dft, y='Shift')\n",
    "\n",
    "bcr = base_calling_random(dft)\n",
    "plotly_basecalling(*bcr)"
   ]
  },
  {
   "cell_type": "code",
   "execution_count": null,
   "id": "outdoor-testing",
   "metadata": {},
   "outputs": [],
   "source": []
  }
 ],
 "metadata": {
  "kernelspec": {
   "display_name": "Python 3",
   "language": "python",
   "name": "python3"
  },
  "language_info": {
   "codemirror_mode": {
    "name": "ipython",
    "version": 3
   },
   "file_extension": ".py",
   "mimetype": "text/x-python",
   "name": "python",
   "nbconvert_exporter": "python",
   "pygments_lexer": "ipython3",
   "version": "3.7.3"
  }
 },
 "nbformat": 4,
 "nbformat_minor": 5
}
