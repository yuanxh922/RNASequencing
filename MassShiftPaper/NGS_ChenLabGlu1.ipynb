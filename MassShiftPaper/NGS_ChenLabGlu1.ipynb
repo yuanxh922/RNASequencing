{
 "cells": [
  {
   "cell_type": "code",
   "execution_count": null,
   "id": "irish-moses",
   "metadata": {},
   "outputs": [],
   "source": [
    "import pandas as pd"
   ]
  },
  {
   "cell_type": "code",
   "execution_count": null,
   "id": "alpha-volleyball",
   "metadata": {},
   "outputs": [],
   "source": [
    "%run ../modules/utils.ipynb\n",
    "%run ../modules/cds.ipynb\n",
    "%run ../modules/preprocessing.ipynb\n"
   ]
  },
  {
   "cell_type": "code",
   "execution_count": null,
   "id": "daily-extraction",
   "metadata": {},
   "outputs": [],
   "source": [
    "path = '~/Studio/seq_bank/data/glu/Glu-CTC-1-1_5p.xlsx'\n",
    "# path = '~/Studio/seq_bank/data/glu/Glu-CTC-1-1_3p.xlsx'\n",
    "# path = '~/Studio/seq_bank/data/glu/Glu-CTC-2-1_3p.xlsx'\n",
    "# path = '~/Studio/seq_bank/data/glu/Glu-TTC-1-1_5p.xlsx'\n",
    "# path = '~/Studio/seq_bank/data/glu/Glu-TTC-1-1_3p.xlsx'\n",
    "df_ngs = load_data(path)\n",
    "\n",
    "glu_ctc_1_1_5p = 'UCCCUGGUGGUCUAGUGGUUAGGAUUCGGCGCUCUCACCGCCGCGGCCCGGGUUCGAUUCCCGGUCAGGGAACCA'\n",
    "glu_ctc_1_1_3p = glu_ctc_1_1_5p[::-1]\n",
    "\n",
    "glu_ctc_2_1_5p = 'UCCCUGGUGGUCUAGUGGUUAGGAUUUGGCGCUCUCACCGCCGCGGCCUGGGUUCGAUUCCCGGUCAGGGAACCA'\n",
    "glu_ctc_2_1_3p = glu_ctc_2_1_5p[::-1]\n",
    "\n",
    "glu_ttc_1_1_5p = 'UCCCACAUGGUCUAGCGGUUAGGAUUCCUGGUUUUCACCCAGGCGGCCCGGGUUCGACUCCCGGUGUGGGAACCA'\n",
    "glu_ttc_1_1_3p = glu_ctc_1_1_5p[::-1]\n",
    "\n",
    "ori, ngs_seq = 5, glu_ctc_1_1_5p\n",
    "df_ngs['Base'] = list(ngs_seq)\n",
    "if ori == 5:\n",
    "    df_ngs['Idx'] = np.array(df_ngs.index)+1\n",
    "else:\n",
    "    df_ngs['Idx'] = 75-np.array(df_ngs.index)\n",
    "df_ngs.head()"
   ]
  },
  {
   "cell_type": "code",
   "execution_count": null,
   "id": "humanitarian-karaoke",
   "metadata": {},
   "outputs": [],
   "source": [
    "plotly_zone(df_ngs)\n",
    "df_ngs[['Mass', 'Base', 'Idx']].to_excel('~/Downloads/tmp.xlsx')"
   ]
  },
  {
   "cell_type": "code",
   "execution_count": null,
   "id": "grave-ready",
   "metadata": {},
   "outputs": [],
   "source": [
    "glu_path = '/Users/xyuan/Documents/ChenLab/10Jun2021/degraded/DrChen_tRNA_A_Glu_FA_17.xlsx'\n",
    "df_glu1 = load_data(glu_path)\n",
    "glu_path = '/Users/xyuan/Documents/ChenLab/10Jun2021/degraded/18_Glu_A.xlsx'\n",
    "df_glu1_alkb = load_data(glu_path)\n",
    "\n",
    "# glu_path = '/Users/xyuan/Documents/ChenLab/8May2021/UC_glu_5_rosa.xlsx'\n",
    "glu_path = '/Users/xyuan/Documents/ChenLab/DataYue/Glu/DrChen_tRNAs5_complete.xlsx'\n",
    "df_glu2 = load_data(glu_path)\n",
    "# glu_path = '/Users/xyuan/Documents/ChenLab/8May2021/UC_glu_6_rosa.xlsx'\n",
    "glu_path = '/Users/xyuan/Documents/ChenLab/DataYue/Glu/DrChen_tRNAs6_complete.xlsx'\n",
    "df_glu2_alkb = load_data(glu_path)\n",
    "\n",
    "df_glu1.shape[0], df_glu1_alkb.shape[0], df_glu2.shape[0], df_glu2_alkb.shape[0]"
   ]
  },
  {
   "cell_type": "code",
   "execution_count": null,
   "id": "smoking-lyric",
   "metadata": {},
   "outputs": [],
   "source": [
    "plotly_zone(df_glu1_alkb)"
   ]
  },
  {
   "cell_type": "code",
   "execution_count": null,
   "id": "exciting-essence",
   "metadata": {},
   "outputs": [],
   "source": [
    "# remove adducts from df_glu1\n",
    "adducts = [K, Na]\n",
    "dfm_adducts_list = list()\n",
    "for adduct in adducts:\n",
    "    dfm_r = match_dfs(df_glu1, df_glu1, shift=adduct)\n",
    "    dfm_adducts_list.append(dfm_r)\n",
    "df_glu1_adducts = pd.concat(dfm_adducts_list).drop_duplicates()\n",
    "df_glu1_without_adducts = df_glu1.drop(df_glu1_adducts.index)\n",
    "print(df_glu1.shape[0], df_glu1_without_adducts.shape[0], df_glu1_adducts.shape[0])\n",
    "\n",
    "dfm_adducts_list = list()\n",
    "for adduct in adducts:\n",
    "    dfm_r = match_dfs(df_glu1_alkb, df_glu1_alkb, shift=adduct)\n",
    "    dfm_adducts_list.append(dfm_r)\n",
    "df_glu1_alkb_adducts = pd.concat(dfm_adducts_list).drop_duplicates()\n",
    "df_glu1_alkb_without_adducts = df_glu1_alkb.drop(df_glu1_alkb_adducts.index)\n",
    "print(df_glu1_alkb.shape[0], df_glu1_alkb_without_adducts.shape[0], df_glu1_alkb_adducts.shape[0])"
   ]
  },
  {
   "cell_type": "code",
   "execution_count": null,
   "id": "responsible-smart",
   "metadata": {},
   "outputs": [],
   "source": [
    "# df_wild, df_alkb = df_glu1.copy(), df_glu1_alkb.copy()\n",
    "# df_wild_sample = local_top(df_wild, top=20)\n",
    "# df_alkb_sample = local_top(df_alkb, top=20)\n",
    "\n",
    "df_wild, df_alkb = df_glu1_without_adducts, df_glu1_alkb_without_adducts\n",
    "df_wild_sample = df_wild.copy()\n",
    "df_wild_adducts_sample = df_glu1_adducts.copy()\n",
    "df_alkb_sample = df_alkb.copy()\n",
    "df_alkb_adducts_sample = df_glu1_alkb_adducts.copy()\n",
    "df_wild_sample.shape, df_wild_adducts_sample.shape, df_alkb_sample.shape, df_alkb_adducts_sample.shape"
   ]
  },
  {
   "cell_type": "code",
   "execution_count": null,
   "id": "clear-induction",
   "metadata": {},
   "outputs": [],
   "source": [
    "import multiprocessing\n",
    "from collections import namedtuple\n",
    "ShiftHit = namedtuple('ShiftHit', 'shift hit')\n",
    "\n",
    "def func(df_s1, df_s2, shift):\n",
    "    dfm = match_dfs(df_s1, df_s2, shift=shift)\n",
    "    sh = ShiftHit(shift=shift, hit=dfm.shape[0])\n",
    "    return sh\n",
    "\n",
    "PROCESSES = 8\n",
    "# params = [(df_ngs, df_wild_sample, shift) for shift in np.arange(0, 160, 1)]\n",
    "params = [(df_ngs, df_wild_adducts_sample, shift) for shift in np.arange(0, 160, 1)]\n",
    "with multiprocessing.Pool(PROCESSES) as pool:\n",
    "    shift_hits = pool.starmap(func, params)\n",
    "\n",
    "df_shift_hits = pd.DataFrame(shift_hits)"
   ]
  },
  {
   "cell_type": "code",
   "execution_count": null,
   "id": "constitutional-growth",
   "metadata": {},
   "outputs": [],
   "source": [
    "fig = px.scatter(df_shift_hits[df_shift_hits.hit<df_shift_hits.shape[0]], x='shift', y='hit', labels={'shift': 'Mass Shift', 'hit': 'Hit Count'})\n",
    "fig.show()"
   ]
  },
  {
   "cell_type": "code",
   "execution_count": null,
   "id": "surprising-catch",
   "metadata": {},
   "outputs": [],
   "source": [
    "df_sh_top = df_shift_hits[df_shift_hits.hit>1]\n",
    "shifts = df_sh_top['shift']\n",
    "df_sh_top.shape"
   ]
  },
  {
   "cell_type": "code",
   "execution_count": null,
   "id": "returning-publisher",
   "metadata": {},
   "outputs": [],
   "source": [
    "# find out data points which can generate base calling\n",
    "def func(df_s1, df_s2, shift):\n",
    "    _, df = peer_dfs(df_s1, df_s2, shift=shift)\n",
    "    \n",
    "    bcr = base_calling_random(df, base_only=True)\n",
    "    df = bcr[0].copy()\n",
    "    df['Shift'] = shift\n",
    "    return df\n",
    "\n",
    "PROCESSES = 8\n",
    "# params = [(df_ngs, df_wild, shift) for shift in shifts]\n",
    "params = [(df_ngs, df_wild_adducts_sample, shift) for shift in shifts]\n",
    "with multiprocessing.Pool(PROCESSES) as pool:\n",
    "    df_basecallings = pool.starmap(func, params)\n",
    "\n",
    "df_hits = pd.concat(df_basecallings).drop_duplicates()\n",
    "df_hits.shape"
   ]
  },
  {
   "cell_type": "code",
   "execution_count": null,
   "id": "subjective-henry",
   "metadata": {},
   "outputs": [],
   "source": [
    "# plotly_zones(df_wild_sample, df_hits)\n",
    "plotly_zone(df_hits, y='Shift')\n",
    "# plotly_zones(df_hits, dft, y='Shift', names=['All Shifts', 'Selected Shifts'])"
   ]
  },
  {
   "cell_type": "code",
   "execution_count": null,
   "id": "fresh-discovery",
   "metadata": {},
   "outputs": [],
   "source": [
    "fig = plt.figure(figsize=(10, 6))\n",
    "\n",
    "df_plt1 = df_hits.copy()\n",
    "\n",
    "plt.scatter(x=df_plt1['Mass'], y=df_plt1['Shift'])\n",
    "plt.legend()\n",
    "\n",
    "fig.tight_layout()\n",
    "svg_fpath = '/Users/xyuan/Downloads/demo.svg'\n",
    "plt.savefig(svg_fpath, transparent=True, dpi=300)"
   ]
  },
  {
   "cell_type": "code",
   "execution_count": null,
   "id": "further-frame",
   "metadata": {},
   "outputs": [],
   "source": [
    "# dft = df_hits[df_hits.Shift.isin([0.0, 14.0, 28.0, 28.1, 42.0, 42.1, 70.0, 70.1, 70.2])]\n",
    "# target_shifts = [0.0, 14.0, 18, 46]\n",
    "target_shifts = [0.0, 14.0, 28.0, 28.1, 42.0, 42.1, 56, 70.0, 70.1, 70.2]\n",
    "dft = df_hits[df_hits.Shift.isin(target_shifts)]\n",
    "print(dft.shape)\n",
    "# plotly_zone(dft)\n",
    "bcr = base_calling_random(dft)\n",
    "plotly_basecalling(*bcr)"
   ]
  },
  {
   "cell_type": "code",
   "execution_count": null,
   "id": "lesser-purchase",
   "metadata": {},
   "outputs": [],
   "source": [
    "df_tmp = df_wild_sample[(df_wild_sample.Mass>8701)&(df_wild_sample.Mass<9034)]\n",
    "plotly_zone(df_tmp, y='Vol')"
   ]
  },
  {
   "cell_type": "code",
   "execution_count": null,
   "id": "unexpected-reality",
   "metadata": {},
   "outputs": [],
   "source": []
  }
 ],
 "metadata": {
  "kernelspec": {
   "display_name": "Python 3",
   "language": "python",
   "name": "python3"
  },
  "language_info": {
   "codemirror_mode": {
    "name": "ipython",
    "version": 3
   },
   "file_extension": ".py",
   "mimetype": "text/x-python",
   "name": "python",
   "nbconvert_exporter": "python",
   "pygments_lexer": "ipython3",
   "version": "3.7.3"
  }
 },
 "nbformat": 4,
 "nbformat_minor": 5
}
