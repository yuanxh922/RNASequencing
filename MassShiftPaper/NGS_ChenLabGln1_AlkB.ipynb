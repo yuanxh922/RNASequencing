{
 "cells": [
  {
   "cell_type": "code",
   "execution_count": null,
   "id": "composite-vector",
   "metadata": {},
   "outputs": [],
   "source": [
    "import pandas as pd"
   ]
  },
  {
   "cell_type": "code",
   "execution_count": null,
   "id": "stopped-relative",
   "metadata": {},
   "outputs": [],
   "source": [
    "%run ../modules/utils.ipynb\n",
    "%run ../modules/cds.ipynb\n",
    "%run ../modules/preprocessing.ipynb"
   ]
  },
  {
   "cell_type": "code",
   "execution_count": null,
   "id": "simple-bridal",
   "metadata": {},
   "outputs": [],
   "source": [
    "gln_path = '/Users/xyuan/Documents/ChenLab/10Jun2021/degraded/DrChen_tRNA_A_Gln_FA_13.xlsx'\n",
    "df_gln1 = load_data(gln_path)\n",
    "gln_path = '/Users/xyuan/Documents/ChenLab/10Jun2021/degraded/14_Gln_A.xlsx'\n",
    "df_gln1_alkb = load_data(gln_path)\n",
    "print(df_gln1.shape[0], df_gln1_alkb.shape[0])\n",
    "gln_path = '/Users/xyuan/Documents/ChenLab/10Jun2021/degraded/DrChen_tRNA_B_Gln_FA_19.xlsx'\n",
    "df_gln2 = load_data(gln_path)\n",
    "gln_path = '/Users/xyuan/Documents/ChenLab/10Jun2021/degraded/DrChen_tRNA_B_Gln_A_FA_20.xlsx'\n",
    "df_gln2_alkb = load_data(gln_path)\n",
    "print(df_gln2.shape[0], df_gln2_alkb.shape[0])"
   ]
  },
  {
   "cell_type": "code",
   "execution_count": null,
   "id": "circular-atlas",
   "metadata": {},
   "outputs": [],
   "source": [
    "# remove adducts from df_glu1\n",
    "adducts = [K, Na]\n",
    "dfm_adducts_list = list()\n",
    "for adduct in adducts:\n",
    "    dfm_r = match_dfs(df_gln1, df_gln1, shift=adduct)\n",
    "    dfm_adducts_list.append(dfm_r)\n",
    "dfm_adducts = pd.concat(dfm_adducts_list).drop_duplicates()\n",
    "df_gln1_without_adducts = df_gln1.drop(dfm_adducts.index)\n",
    "df_gln1_adducts_only = dfm_adducts.copy()\n",
    "print(df_gln1.shape[0], df_gln1_without_adducts.shape[0])\n",
    "\n",
    "dfm_adducts_list = list()\n",
    "for adduct in adducts:\n",
    "    dfm_r = match_dfs(df_gln1_alkb, df_gln1_alkb, shift=adduct)\n",
    "    dfm_adducts_list.append(dfm_r)\n",
    "dfm_adducts = pd.concat(dfm_adducts_list).drop_duplicates()\n",
    "df_gln1_alkb_without_adducts = df_gln1_alkb.drop(dfm_adducts.index)\n",
    "df_gln1_alkb_adducts_only = dfm_adducts.copy()\n",
    "print(df_gln1_alkb.shape[0], df_gln1_alkb_without_adducts.shape[0])"
   ]
  },
  {
   "cell_type": "code",
   "execution_count": null,
   "id": "comic-frost",
   "metadata": {},
   "outputs": [],
   "source": [
    "df_wild, df_alkb = df_gln1_without_adducts, df_gln1_alkb_without_adducts\n",
    "df_wild_sample = df_wild.copy()\n",
    "df_alkb_sample = df_alkb.copy()\n",
    "df_wild_sample.shape, df_alkb_sample.shape"
   ]
  },
  {
   "cell_type": "code",
   "execution_count": null,
   "id": "chemical-tunisia",
   "metadata": {},
   "outputs": [],
   "source": [
    "df_wild_adducts, df_alkb_adducts = df_gln1_adducts_only, df_gln1_alkb_adducts_only\n",
    "df_wild_adducts.shape, df_alkb_adducts.shape"
   ]
  },
  {
   "cell_type": "code",
   "execution_count": null,
   "id": "comfortable-certificate",
   "metadata": {},
   "outputs": [],
   "source": [
    "# path = '~/Studio/seq_bank/data/gln/Gln-CTG-1-1_5p.xlsx'\n",
    "# path = '~/Studio/seq_bank/data/gln/Gln-CTG-1-1_3p.xlsx'\n",
    "path = '~/Studio/seq_bank/data/gln/Gln-CTG-2-1_5p.xlsx'\n",
    "# path = '~/Studio/seq_bank/data/gln/Gln-CTG-2-1_3p.xlsx'\n",
    "# path = '~/Studio/seq_bank/data/gln/Gln-TTG-1-1_5p.xlsx'\n",
    "# path = '~/Studio/seq_bank/data/gln/Gln-TTG-1-1_3p.xlsx'\n",
    "df_ngs = load_data(path)\n",
    "\n",
    "gln_ctg_1_1_5p = 'GGUUCCAUGGUGUAAUGGUUAGCACUCUGGACUCUGAAUCCAGCGACCCGAGUUCAAAUCUCGGUGGGACCUCCA'\n",
    "gln_ctg_1_1_3p = gln_ctg_1_1_5p[::-1]\n",
    "\n",
    "gln_ctg_2_1_5p = 'GGUUCCAUGGUGUAAUGGUUAGCACUCUGGACUCUGAAUCCAGCGAUCCGAGUUCAAAUCUCGGUGGAACCUCCA'\n",
    "gln_ctg_2_1_3p = gln_ctg_2_1_5p[::-1]\n",
    "\n",
    "gln_ttg_1_1_5p = 'GGUCCCAUGGUGUAAUGGUUAGCACUCUGGACUUUGAAUCCAGCGAUCCGAGUUCAAAUCUCGGUGGGACCUCCA'\n",
    "gln_ttg_1_1_3p = gln_ttg_1_1_5p[::-1]\n",
    "\n",
    "ori, ngs_seq = 5, gln_ctg_2_1_5p\n",
    "df_ngs['Base'] = list(ngs_seq)\n",
    "if ori == 5:\n",
    "    df_ngs['Idx'] = np.array(df_ngs.index)+1\n",
    "else:\n",
    "    df_ngs['Idx'] = 75-np.array(df_ngs.index)\n",
    "df_ngs.head()"
   ]
  },
  {
   "cell_type": "code",
   "execution_count": null,
   "id": "north-congo",
   "metadata": {},
   "outputs": [],
   "source": [
    "plotly_zone(df_ngs)\n",
    "df_ngs[['Mass', 'Base', 'Idx']].to_excel('~/Downloads/tmp.xlsx')"
   ]
  },
  {
   "cell_type": "code",
   "execution_count": null,
   "id": "rolled-outside",
   "metadata": {},
   "outputs": [],
   "source": [
    "import multiprocessing\n",
    "from collections import namedtuple\n",
    "ShiftHit = namedtuple('ShiftHit', 'shift hit')\n",
    "\n",
    "def func(df_s1, df_s2, shift):\n",
    "    dfm = match_dfs(df_s1, df_s2, shift=shift)\n",
    "    sh = ShiftHit(shift=shift, hit=dfm.shape[0])\n",
    "    return sh\n",
    "\n",
    "PROCESSES = 8\n",
    "params = [(df_ngs, df_alkb_sample, shift) for shift in np.arange(0, 160, 0.1)]\n",
    "with multiprocessing.Pool(PROCESSES) as pool:\n",
    "    shift_hits = pool.starmap(func, params)\n",
    "print('Done for regular sample.')\n",
    "params = [(df_ngs, df_alkb_adducts, shift) for shift in np.arange(0, 160, 0.1)]\n",
    "with multiprocessing.Pool(PROCESSES) as pool:\n",
    "    shift_hits_adducts = pool.starmap(func, params)\n",
    "print('Done for adducts sample.')\n",
    "\n",
    "df_shift_hits = pd.DataFrame(shift_hits)\n",
    "df_shift_hits_adducts = pd.DataFrame(shift_hits_adducts)"
   ]
  },
  {
   "cell_type": "code",
   "execution_count": null,
   "id": "above-mandate",
   "metadata": {},
   "outputs": [],
   "source": [
    "fig = px.scatter(df_shift_hits[df_shift_hits.hit<df_shift_hits.shape[0]], x='shift', y='hit', labels={'shift': 'Mass Shift', 'hit': 'Hit Count'})\n",
    "fig.show()\n",
    "fig = px.scatter(df_shift_hits_adducts[df_shift_hits_adducts.hit<df_shift_hits_adducts.shape[0]], x='shift', y='hit', labels={'shift': 'Mass Shift', 'hit': 'Hit Count'})\n",
    "fig.show()"
   ]
  },
  {
   "cell_type": "code",
   "execution_count": null,
   "id": "broadband-fifteen",
   "metadata": {},
   "outputs": [],
   "source": [
    "df_sh_top = df_shift_hits[df_shift_hits.hit>2]\n",
    "shifts = df_sh_top['shift']\n",
    "df_sh_top_adducts = df_shift_hits_adducts[df_shift_hits_adducts.hit>2]\n",
    "shifts_adducts = df_sh_top_adducts['shift']\n",
    "shifts.shape, shifts_adducts.shape"
   ]
  },
  {
   "cell_type": "code",
   "execution_count": null,
   "id": "welcome-camping",
   "metadata": {},
   "outputs": [],
   "source": [
    "# find out data points which can generate base calling\n",
    "def func(df_s1, df_s2, shift):\n",
    "    _, df = peer_dfs(df_s1, df_s2, shift=shift)\n",
    "    \n",
    "    bcr = base_calling_random(df, base_only=True)\n",
    "    df = bcr[0].copy()\n",
    "    df['Shift'] = shift\n",
    "    return df\n",
    "\n",
    "PROCESSES = 8\n",
    "params = [(df_ngs, df_alkb, shift) for shift in shifts]\n",
    "with multiprocessing.Pool(PROCESSES) as pool:\n",
    "    df_basecallings = pool.starmap(func, params)\n",
    "print('Done for regular sample.')\n",
    "params = [(df_ngs, df_alkb_adducts, shift) for shift in shifts_adducts]\n",
    "with multiprocessing.Pool(PROCESSES) as pool:\n",
    "    df_basecallings_adducts = pool.starmap(func, params)\n",
    "print('Done for adducts sample.')\n",
    "\n",
    "df_hits = pd.concat(df_basecallings).drop_duplicates()\n",
    "df_hits_adducts = pd.concat(df_basecallings_adducts).drop_duplicates()\n",
    "df_hits.shape, df_hits_adducts.shape"
   ]
  },
  {
   "cell_type": "code",
   "execution_count": null,
   "id": "flying-confusion",
   "metadata": {},
   "outputs": [],
   "source": [
    "plotly_zone(df_hits, y='Shift')\n",
    "plotly_zone(df_hits_adducts, y='Shift')\n",
    "df_hits.shape, df_hits_adducts.shape"
   ]
  },
  {
   "cell_type": "code",
   "execution_count": null,
   "id": "quarterly-latino",
   "metadata": {},
   "outputs": [],
   "source": [
    "dft = df_hits[df_hits.Shift.isin([\n",
    "                                0.0, 14.0, \n",
    "                                #28.0, 28.1, \n",
    "                                    #42.0, 42.1, \n",
    "                                    #56 # 70.0, 70.1, 70.2,\n",
    "                                  #37.9, 38, 52, 80\n",
    "                                 ])]\n",
    "dft_adducts = df_hits_adducts[df_hits_adducts.Shift.isin([\n",
    "                                  22, #36, #50, \n",
    "                                    38, 52, #66#, 80\n",
    "                                 ])]\n",
    "# print(dft.shape)\n",
    "# plotly_zone(dft)\n",
    "bcr = base_calling_random(dft)\n",
    "plotly_basecalling(*bcr, y='Vol')\n",
    "bcr = base_calling_random(dft_adducts)\n",
    "plotly_basecalling(*bcr)\n",
    "dft_joint = pd.concat([dft, dft_adducts]).drop_duplicates()\n",
    "bcr = base_calling_random(dft_joint)\n",
    "plotly_basecalling(*bcr)"
   ]
  },
  {
   "cell_type": "code",
   "execution_count": null,
   "id": "angry-somalia",
   "metadata": {},
   "outputs": [],
   "source": []
  }
 ],
 "metadata": {
  "kernelspec": {
   "display_name": "Python 3",
   "language": "python",
   "name": "python3"
  },
  "language_info": {
   "codemirror_mode": {
    "name": "ipython",
    "version": 3
   },
   "file_extension": ".py",
   "mimetype": "text/x-python",
   "name": "python",
   "nbconvert_exporter": "python",
   "pygments_lexer": "ipython3",
   "version": "3.7.3"
  }
 },
 "nbformat": 4,
 "nbformat_minor": 5
}
