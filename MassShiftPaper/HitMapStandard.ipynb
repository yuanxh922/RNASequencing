{
 "cells": [
  {
   "cell_type": "code",
   "execution_count": null,
   "id": "czech-artwork",
   "metadata": {},
   "outputs": [],
   "source": [
    "import pandas as pd\n",
    "from random import randrange, sample\n",
    "from numpy.random import uniform"
   ]
  },
  {
   "cell_type": "code",
   "execution_count": null,
   "id": "british-sweet",
   "metadata": {},
   "outputs": [],
   "source": [
    "%run ../modules/utils.ipynb\n",
    "%run ../modules/cds.ipynb\n",
    "%run ../modules/preprocessing.ipynb"
   ]
  },
  {
   "cell_type": "code",
   "execution_count": null,
   "id": "signal-gates",
   "metadata": {},
   "outputs": [],
   "source": []
  },
  {
   "cell_type": "code",
   "execution_count": null,
   "id": "optimum-meditation",
   "metadata": {},
   "outputs": [],
   "source": [
    "s1_path = '/Users/xyuan/Studio/seq_bank/results/2022MarPaper/Sample1.xlsx'\n",
    "df_s1 = load_data(s1_path)\n",
    "s2_path = '/Users/xyuan/Studio/seq_bank/results/2022MarPaper/Sample2.xlsx'\n",
    "df_s2 = load_data(s2_path)\n",
    "\n",
    "df_s1.shape, df_s2.shape"
   ]
  },
  {
   "cell_type": "code",
   "execution_count": null,
   "id": "cubic-appraisal",
   "metadata": {},
   "outputs": [],
   "source": [
    "# Generate related samples from base samples\n",
    "df_s1_left, df_s1_right = df_s1.copy(), df_s1.copy()\n",
    "shift = randrange(-64, 0)\n",
    "print('shift ', shift)\n",
    "df_s1_left.Mass += shift\n",
    "\n",
    "shift = randrange(0, 64)\n",
    "print('shift ', shift)\n",
    "df_s1_right.Mass += shift\n",
    "\n",
    "df_s2_left, df_s2_right = df_s2.copy(), df_s2.copy()\n",
    "shift = randrange(-64, 0)\n",
    "print('shift ', shift)\n",
    "df_s2_left.Mass += shift\n",
    "shift = randrange(0, 64)\n",
    "print('shift ', shift)\n",
    "df_s2_right.Mass += shift"
   ]
  },
  {
   "cell_type": "code",
   "execution_count": null,
   "id": "chief-sleep",
   "metadata": {},
   "outputs": [],
   "source": [
    "# Generate related samples, based on df_s1 and df_s2\n",
    "# shifts = np.sort(uniform(-32, 32, size=100))#.tolist()\n",
    "\n",
    "def magnify_sample(df, shift_range, times):\n",
    "    l = list()\n",
    "    shifts = np.sort(uniform(*shift_range, size=times))\n",
    "    for shift in shifts:\n",
    "        df_tmp = df.copy()\n",
    "        df_tmp.Mass += shift\n",
    "        df_tmp.RT += uniform(-1, 1)\n",
    "        l.append(df_tmp)\n",
    "\n",
    "    return pd.concat(l).reset_index(drop=True)"
   ]
  },
  {
   "cell_type": "code",
   "execution_count": null,
   "id": "major-floating",
   "metadata": {},
   "outputs": [],
   "source": [
    "df_s2_multi100 = magnify_sample(df_s2, (-32, 32), 100)\n",
    "df_s2_multi100.head()"
   ]
  },
  {
   "cell_type": "code",
   "execution_count": null,
   "id": "institutional-geology",
   "metadata": {},
   "outputs": [],
   "source": [
    "plotly_zones(df_s1_multi100, df_s2_multi100)"
   ]
  },
  {
   "cell_type": "code",
   "execution_count": null,
   "id": "heavy-percentage",
   "metadata": {},
   "outputs": [],
   "source": [
    "# Generate random samples\n",
    "size = (100,)\n",
    "df_rs1 = pd.DataFrame({'Mass': np.sort(uniform(300, 3500, size=size)),\n",
    "                       'RT': np.sort(uniform(25, 35, size=size))})\n",
    "df_rs2 = pd.DataFrame({'Mass': np.sort(uniform(300, 3500, size=size)),\n",
    "                       'RT': np.sort(uniform(20, 30, size=size))})\n",
    "\n",
    "df_rs1.shape, df_rs2.shape"
   ]
  },
  {
   "cell_type": "code",
   "execution_count": null,
   "id": "hybrid-owner",
   "metadata": {},
   "outputs": [],
   "source": [
    "# Generate 1/2 random samples\n",
    "size = (1000,)\n",
    "df_rs3 = pd.DataFrame({'Mass': np.sort(uniform(300, 3500, size=size)),\n",
    "                       'RT': np.sort(uniform(25, 35, size=size))})\n",
    "\n",
    "df_tmp = df_rs3.sample(500)\n",
    "size = (500,)\n",
    "df_rs4 = pd.DataFrame({'Mass': np.sort(uniform(300, 3500, size=size)),\n",
    "                       'RT': np.sort(uniform(20, 30, size=size))})\n",
    "df_rs4 = pd.concat([df_rs4, df_tmp]).reset_index(drop=True)\n",
    "\n",
    "df_rs3.shape, df_rs4.shape"
   ]
  },
  {
   "cell_type": "code",
   "execution_count": null,
   "id": "advance-particle",
   "metadata": {},
   "outputs": [],
   "source": [
    "size = (1000,)\n",
    "df_rs5 = pd.DataFrame({'Mass': np.sort(uniform(300, 3500, size=size)),\n",
    "                       'RT': np.sort(uniform(25, 35, size=size))})\n",
    "df_rs6 = df_rs5.copy()"
   ]
  },
  {
   "cell_type": "code",
   "execution_count": null,
   "id": "nasty-doubt",
   "metadata": {},
   "outputs": [],
   "source": [
    "# dfm_tmp = match_dfs(df_rs3, df_rs4)\n",
    "# dfm_tmp.shape"
   ]
  },
  {
   "cell_type": "code",
   "execution_count": null,
   "id": "explicit-lancaster",
   "metadata": {},
   "outputs": [],
   "source": [
    "df_rs1_left, df_rs1_right = df_rs1.copy(), df_rs1.copy()\n",
    "shift = randrange(-64, 0)\n",
    "print('shift ', shift)\n",
    "df_rs1_left.Mass += shift\n",
    "shift = randrange(0, 64)\n",
    "print('shift ', shift)\n",
    "df_rs1_right.Mass += shift\n",
    "\n",
    "df_rs2_left, df_rs2_right = df_rs2.copy(), df_rs2.copy()\n",
    "shift = randrange(-64, 0)\n",
    "print('shift ', shift)\n",
    "df_rs2_left.Mass += shift\n",
    "shift = randrange(0, 64)\n",
    "print('shift ', shift)\n",
    "df_rs2_right.Mass += shift"
   ]
  },
  {
   "cell_type": "code",
   "execution_count": null,
   "id": "obvious-arbitration",
   "metadata": {},
   "outputs": [],
   "source": [
    "# plotly_zones(df_s1, df_s2)\n",
    "# plotly_zones(df_s1_left, df_s1_right)\n",
    "# plotly_zones(df_s2_left, df_s2_right)\n",
    "# plotly_zones(df_rs1, df_rs2)\n",
    "# plotly_zones(df_rs3, df_rs4)\n",
    "plotly_zones(df_rs1, df_rs2)"
   ]
  },
  {
   "cell_type": "code",
   "execution_count": null,
   "id": "alien-catalyst",
   "metadata": {},
   "outputs": [],
   "source": [
    "# sample_size = 200\n",
    "# dfa, dfb, mass_range = df_rs1.sample(sample_size).copy(), df_rs2.sample(sample_size).copy(), np.arange(-64, 64, 0.1)\n",
    "# dfa, dfb, mass_range = df_s1.copy(), df_s2.copy(), np.arange(-64, 64, 0.1)\n",
    "dfa, dfb, mass_range = df_s1_multi100.copy(), df_s2_multi100.copy(), np.arange(-64, 64, 0.1)\n",
    "\n",
    "\n",
    "import multiprocessing\n",
    "from collections import namedtuple\n",
    "ShiftHit = namedtuple('ShiftHit', 'shift hit')\n",
    "\n",
    "def func(df_s1, df_s2, shift):\n",
    "    dfm = match_dfs(df_s1, df_s2, shift=shift)\n",
    "    sh = ShiftHit(shift=shift, hit=dfm.shape[0])\n",
    "    return sh\n",
    "\n",
    "PROCESSES = 8\n",
    "params = [(dfa, dfb, shift) for shift in mass_range]\n",
    "with multiprocessing.Pool(PROCESSES) as pool:\n",
    "    shift_hits = pool.starmap(func, params)\n",
    "\n",
    "df_shift_hits = pd.DataFrame(shift_hits)"
   ]
  },
  {
   "cell_type": "code",
   "execution_count": null,
   "id": "visible-mustang",
   "metadata": {},
   "outputs": [],
   "source": [
    "fig = px.line(df_shift_hits, x='shift', y='hit', labels={'shift': 'Mass Shift', 'hit': 'Hit Count'})\n",
    "fig.show()"
   ]
  },
  {
   "cell_type": "code",
   "execution_count": null,
   "id": "latter-bubble",
   "metadata": {},
   "outputs": [],
   "source": []
  },
  {
   "cell_type": "code",
   "execution_count": null,
   "id": "powerful-stockholm",
   "metadata": {},
   "outputs": [],
   "source": [
    "\n",
    "def func(dfa, dfb, shift):\n",
    "    dfm = match_dfs(dfa, dfb, shift=shift)\n",
    "    sh = ShiftHit(shift=shift, hit=dfm.shape[0])\n",
    "    return sh\n",
    "\n",
    "def hit_map(dfa, dfb, mass_range):\n",
    "\n",
    "    PROCESSES = 8\n",
    "    params = [(dfa, dfb, shift) for shift in mass_range]\n",
    "    with multiprocessing.Pool(PROCESSES) as pool:\n",
    "        shift_hits = pool.starmap(func, params)\n",
    "\n",
    "    return pd.DataFrame(shift_hits)\n",
    "\n",
    "mass_range = np.arange(-64, 64, 0.1)\n",
    "sample_pairs = [\n",
    "#                 (df_s1, df_s1, mass_range),\n",
    "#                  (df_s1, df_s1_left, mass_range),\n",
    "#                  (df_s1, df_s1_right, mass_range),\n",
    "                 \n",
    "#                  (df_s2, df_s2, mass_range),\n",
    "#                  (df_s2, df_s2_left, mass_range),\n",
    "#                  (df_s2, df_s2_right, mass_range),\n",
    "                \n",
    "#                  (df_rs1, df_rs1, mass_range),\n",
    "#                 (df_rs1, df_rs1_left, mass_range),\n",
    "#                 (df_rs1, df_rs1_right, mass_range),\n",
    "                \n",
    "#                 (df_rs2, df_rs2, mass_range),\n",
    "#                 (df_rs2, df_rs2_left, mass_range),\n",
    "#                 (df_rs2, df_rs2_right, mass_range),\n",
    "                 \n",
    "#                  (df_s1, df_s2, mass_range),\n",
    "#                 (df_s1, df_rs1, mass_range),\n",
    "#                 (df_s2, df_rs1, mass_range),\n",
    "#                 (df_rs1, df_rs2, mass_range),\n",
    "#                 (df_rs3, df_rs4, mass_range),\n",
    "#                 (df_rs5, df_rs6, mass_range),\n",
    "#                 (df_s1_multi100, df_s1_multi100, mass_range),\n",
    "                (df_s1_multi100, df_s2_multi100, mass_range),\n",
    "                ]\n",
    "\n",
    "hitmap_list = [hit_map(*pair) for pair in sample_pairs]\n"
   ]
  },
  {
   "cell_type": "code",
   "execution_count": null,
   "id": "lyric-instrumentation",
   "metadata": {},
   "outputs": [],
   "source": [
    "hm_list = list()\n",
    "for idx, df in enumerate(hitmap_list):\n",
    "    df_hm = df.copy()\n",
    "    df_hm['idx'] = idx\n",
    "    hm_list.append(df_hm)\n",
    "\n",
    "df_hms = pd.concat(hm_list)\n",
    "fig = px.line(df_hms[df_hms.hit<500], x='shift', y='hit', labels={'shift': 'Mass Shift', 'hit': 'Hit Count'}, color='idx')\n",
    "fig.show()\n",
    "play_beep()"
   ]
  },
  {
   "cell_type": "code",
   "execution_count": null,
   "id": "nuclear-teach",
   "metadata": {},
   "outputs": [],
   "source": []
  },
  {
   "cell_type": "code",
   "execution_count": null,
   "id": "residential-vegetable",
   "metadata": {},
   "outputs": [],
   "source": [
    "# save data\n",
    "# with pd.ExcelWriter('data/random_two_1k.xlsx') as writer:\n",
    "#     df_rs1.to_excel(writer, sheet_name='RandomSample1')\n",
    "#     df_rs2.to_excel(writer, sheet_name='RandomSample2')\n",
    "#     hitmap_list[0].to_excel(writer, sheet_name='hitmap')\n",
    "\n",
    "# with pd.ExcelWriter('data/random_1k_and_500.xlsx') as writer:\n",
    "#     df_rs3.to_excel(writer, sheet_name='RandomSample3')\n",
    "#     df_rs4.to_excel(writer, sheet_name='RandomSample4')\n",
    "#     hitmap_list[0].to_excel(writer, sheet_name='hitmap')\n",
    "\n",
    "# with pd.ExcelWriter('data/random_1k_and_duplicated_1k.xlsx') as writer:\n",
    "#     df_rs5.to_excel(writer, sheet_name='RandomSample5')\n",
    "#     df_rs6.to_excel(writer, sheet_name='RandomSample6')\n",
    "#     hitmap_list[0].to_excel(writer, sheet_name='hitmap')\n",
    "\n",
    "# with pd.ExcelWriter('data/s1_1k_and_duplicated_1k.xlsx') as writer:\n",
    "#     df_rs5.to_excel(writer, sheet_name='RandomSample5')\n",
    "#     df_rs6.to_excel(writer, sheet_name='RandomSample6')\n",
    "#     hitmap_list[0].to_excel(writer, sheet_name='hitmap')\n",
    "\n",
    "# with pd.ExcelWriter('data/s1_sample500_and_s2_sample500.xlsx') as writer:\n",
    "#     dfa.to_excel(writer, sheet_name='S1_sample500')\n",
    "#     dfb.to_excel(writer, sheet_name='S2_sample500')\n",
    "#     df_shift_hits.to_excel(writer, sheet_name='hitmap')\n",
    "\n",
    "# with pd.ExcelWriter('data/s1_sample100_and_s2_sample100.xlsx') as writer:\n",
    "#     dfa.to_excel(writer, sheet_name='S1_sample100')\n",
    "#     dfb.to_excel(writer, sheet_name='S2_sample100')\n",
    "#     df_shift_hits.to_excel(writer, sheet_name='hitmap')\n",
    "\n",
    "with pd.ExcelWriter('data/s1_sample200_and_s2_sample200.xlsx') as writer:\n",
    "    dfa.to_excel(writer, sheet_name='S1_sample200')\n",
    "    dfb.to_excel(writer, sheet_name='S2_sample200')\n",
    "    df_shift_hits.to_excel(writer, sheet_name='hitmap')"
   ]
  },
  {
   "cell_type": "code",
   "execution_count": null,
   "id": "spare-kruger",
   "metadata": {},
   "outputs": [],
   "source": []
  },
  {
   "cell_type": "code",
   "execution_count": null,
   "id": "electrical-sheffield",
   "metadata": {},
   "outputs": [],
   "source": [
    "fig = plt.figure(figsize=(2.5, 1.5))\n",
    "# df_plt = df_sh_top.copy().sort_values('shift')\n",
    "# df_plt1 = df_plt.copy()\n",
    "# df_plt1['shift'] = df_plt1['shift'].astype(int)\n",
    "# df_plt1 = df_plt1.set_index('shift')\n",
    "# df_plt1.plot(kind='bar',figsize=(2.5, 1.5))\n",
    "\n",
    "hitmap_list[0]['hit'].plot.line()\n",
    "# fg = px.line(df_hms, x='shift', y='hit', labels={'shift': 'Mass Shift', 'hit': 'Hit Count'}, color='idx')\n",
    "# fg.show()\n",
    "# plt.legend()\n",
    "\n",
    "fig.tight_layout()\n",
    "svg_fpath = '/Users/xyuan/Downloads/demo.svg'\n",
    "plt.savefig(svg_fpath, transparent=True, dpi=300)"
   ]
  },
  {
   "cell_type": "code",
   "execution_count": null,
   "id": "vocational-nepal",
   "metadata": {},
   "outputs": [],
   "source": []
  }
 ],
 "metadata": {
  "kernelspec": {
   "display_name": "Python 3",
   "language": "python",
   "name": "python3"
  },
  "language_info": {
   "codemirror_mode": {
    "name": "ipython",
    "version": 3
   },
   "file_extension": ".py",
   "mimetype": "text/x-python",
   "name": "python",
   "nbconvert_exporter": "python",
   "pygments_lexer": "ipython3",
   "version": "3.7.3"
  }
 },
 "nbformat": 4,
 "nbformat_minor": 5
}
