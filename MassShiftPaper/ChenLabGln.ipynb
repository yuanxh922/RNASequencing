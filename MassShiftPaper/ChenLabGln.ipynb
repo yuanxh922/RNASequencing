{
 "cells": [
  {
   "cell_type": "code",
   "execution_count": null,
   "id": "molecular-comparative",
   "metadata": {},
   "outputs": [],
   "source": [
    "import pandas as pd"
   ]
  },
  {
   "cell_type": "code",
   "execution_count": null,
   "id": "restricted-conservation",
   "metadata": {},
   "outputs": [],
   "source": [
    "%run ../modules/utils.ipynb\n",
    "%run ../modules/cds.ipynb\n",
    "%run ../modules/preprocessing.ipynb\n",
    "\n",
    "%run ../modules/paper_figures.ipynb"
   ]
  },
  {
   "cell_type": "code",
   "execution_count": null,
   "id": "patient-brake",
   "metadata": {},
   "outputs": [],
   "source": [
    "gln_path = '/Users/xyuan/Documents/ChenLab/10Jun2021/degraded/DrChen_tRNA_A_Gln_FA_13.xlsx'\n",
    "df_gln1 = load_data(gln_path)\n",
    "gln_path = '/Users/xyuan/Documents/ChenLab/10Jun2021/degraded/14_Gln_A.xlsx'\n",
    "df_gln1_alkb = load_data(gln_path)\n",
    "\n",
    "gln_path = '/Users/xyuan/Documents/ChenLab/10Jun2021/degraded/DrChen_tRNA_B_Gln_FA_19.xlsx'\n",
    "df_gln2 = load_data(gln_path)\n",
    "gln_path = '/Users/xyuan/Documents/ChenLab/10Jun2021/degraded/DrChen_tRNA_B_Gln_A_FA_20.xlsx'\n",
    "df_gln2_alkb = load_data(gln_path)"
   ]
  },
  {
   "cell_type": "code",
   "execution_count": null,
   "id": "comparable-brave",
   "metadata": {},
   "outputs": [],
   "source": [
    "df_gln1 = df_gln1[df_gln1.Mass>1500]\n",
    "df_gln1_alkb = df_gln1_alkb[df_gln1_alkb.Mass>1500]\n",
    "df_gln2 = df_gln2[df_gln2.Mass>1500]\n",
    "df_gln2_alkb = df_gln2_alkb[df_gln2_alkb.Mass>1500]"
   ]
  },
  {
   "cell_type": "code",
   "execution_count": null,
   "id": "exceptional-patrol",
   "metadata": {},
   "outputs": [],
   "source": [
    "plotly_zone(df_gln2_alkb)\n",
    "df_gln2_alkb.shape"
   ]
  },
  {
   "cell_type": "code",
   "execution_count": null,
   "id": "editorial-spoke",
   "metadata": {},
   "outputs": [],
   "source": [
    "adducts = [K, Na]\n",
    "dfm_adducts_list = list()\n",
    "\n",
    "# dfm_r = match_dfs(df_gln1, df_gln1, shift=-1*K)\n",
    "dfm_l = match_dfs(df_gln1_alkb, df_gln1_alkb, shift=-1*K)\n",
    "plotly_zone(dfm_l)\n",
    "dfm_l.shape"
   ]
  },
  {
   "cell_type": "code",
   "execution_count": null,
   "id": "aquatic-iceland",
   "metadata": {},
   "outputs": [],
   "source": [
    "dfs = dfm_l[(dfm_l.Mass>4700)&(dfm_l.Mass<7000)&(dfm_l.RT<14.5)].copy()\n",
    "# dfs = dfm_r[(dfm_r.Mass>4700)&(dfm_r.Mass<7000)].copy()\n",
    "bcr = base_calling_random(dfs)\n",
    "plotly_basecalling(dfs, bcr[1])"
   ]
  },
  {
   "cell_type": "code",
   "execution_count": null,
   "id": "weird-maintenance",
   "metadata": {},
   "outputs": [],
   "source": [
    "# remove adducts from df_gln2\n",
    "adducts = [K, Na]\n",
    "dfm_adducts_list = list()\n",
    "for adduct in adducts:\n",
    "    dfm_r = match_dfs(df_gln1, df_gln1, shift=adduct)\n",
    "    dfm_adducts_list.append(dfm_r)\n",
    "dfm_adducts = pd.concat(dfm_adducts_list).drop_duplicates()\n",
    "df_gln1_without_adducts = df_gln1.drop(dfm_adducts.index)\n",
    "\n",
    "dfm_adducts_list = list()\n",
    "for adduct in adducts:\n",
    "    dfm_r = match_dfs(df_gln1_alkb, df_gln1_alkb, shift=adduct)\n",
    "    dfm_adducts_list.append(dfm_r)\n",
    "dfm_adducts = pd.concat(dfm_adducts_list).drop_duplicates()\n",
    "df_gln1_alkb_without_adducts = df_gln1_alkb.drop(dfm_adducts.index)"
   ]
  },
  {
   "cell_type": "code",
   "execution_count": null,
   "id": "explicit-egypt",
   "metadata": {},
   "outputs": [],
   "source": [
    "# remove adducts from df_gln2\n",
    "adducts = [K, Na]\n",
    "dfm_adducts_list = list()\n",
    "for adduct in adducts:\n",
    "    dfm_r = match_dfs(df_gln2, df_gln2, shift=adduct)\n",
    "    dfm_adducts_list.append(dfm_r)\n",
    "dfm_adducts = pd.concat(dfm_adducts_list).drop_duplicates()\n",
    "df_gln2_without_adducts = df_gln2.drop(dfm_adducts.index)\n",
    "\n",
    "dfm_adducts_list = list()\n",
    "for adduct in adducts:\n",
    "    dfm_r = match_dfs(df_gln2_alkb, df_gln2_alkb, shift=adduct)\n",
    "    dfm_adducts_list.append(dfm_r)\n",
    "dfm_adducts = pd.concat(dfm_adducts_list).drop_duplicates()\n",
    "df_gln2_alkb_without_adducts = df_gln2_alkb.drop(dfm_adducts.index)"
   ]
  },
  {
   "cell_type": "code",
   "execution_count": null,
   "id": "different-tulsa",
   "metadata": {},
   "outputs": [],
   "source": [
    "df_gln2_without_adducts.shape, df_gln2_alkb_without_adducts.shape"
   ]
  },
  {
   "cell_type": "code",
   "execution_count": null,
   "id": "fifteen-production",
   "metadata": {},
   "outputs": [],
   "source": [
    "# df_wild_sample = df_gln1_without_adducts[df_gln1_without_adducts.Vol>df_gln1_without_adducts.Vol.quantile(.75)].copy()\n",
    "# df_alkb_sample = df_gln1_alkb_without_adducts[df_gln1_alkb_without_adducts.Vol>df_gln1_alkb_without_adducts.Vol.quantile(.75)].copy()\n",
    "\n",
    "# df_wild_sample = df_gln2_without_adducts[df_gln2_without_adducts.Vol>df_gln2_without_adducts.Vol.quantile(.75)].copy()\n",
    "# df_alkb_sample = df_gln2_alkb_without_adducts[df_gln2_alkb_without_adducts.Vol>df_gln2_alkb_without_adducts.Vol.quantile(.75)].copy()\n",
    "# df_wild_sample.shape, df_alkb_sample.shape"
   ]
  },
  {
   "cell_type": "code",
   "execution_count": null,
   "id": "bronze-drawing",
   "metadata": {},
   "outputs": [],
   "source": [
    "df_gln2_top = local_top_range(df_gln2_without_adducts, range=(0, 10))\n",
    "df_gln2_alkb_top = local_top_range(df_gln2_alkb_without_adducts, range=(0, 10))\n",
    "df_gln2_top.shape, df_gln2_alkb_top.shape"
   ]
  },
  {
   "cell_type": "code",
   "execution_count": null,
   "id": "loved-progressive",
   "metadata": {},
   "outputs": [],
   "source": [
    "# df_wild_sample = local_top(df_gln1_without_adducts)\n",
    "# df_alkb_sample = local_top(df_gln1_alkb_without_adducts)\n",
    "# df_wild_sample = local_top(df_gln2_without_adducts, top=6)\n",
    "# df_alkb_sample = local_top(df_gln2_alkb_without_adducts, top=6)\n",
    "df_wild_sample = local_top_range(df_gln1_without_adducts, range=(0, 10))\n",
    "df_alkb_sample = local_top_range(df_gln1_alkb_without_adducts, range=(0, 10))\n",
    "df_wild_sample.shape, df_alkb_sample.shape"
   ]
  },
  {
   "cell_type": "code",
   "execution_count": null,
   "id": "mysterious-client",
   "metadata": {},
   "outputs": [],
   "source": [
    "df_gln2_without_adducts.shape"
   ]
  },
  {
   "cell_type": "code",
   "execution_count": null,
   "id": "infectious-justice",
   "metadata": {},
   "outputs": [],
   "source": [
    "_, df_alkb_sample_only = diff_dfs(df_wild_sample, df_alkb_sample)\n",
    "df_alkb_sample_only.shape"
   ]
  },
  {
   "cell_type": "code",
   "execution_count": null,
   "id": "unable-greensboro",
   "metadata": {},
   "outputs": [],
   "source": [
    "plotly_zones(df_wild_sample, df_alkb_sample_only, y='RT')"
   ]
  },
  {
   "cell_type": "code",
   "execution_count": null,
   "id": "manufactured-birthday",
   "metadata": {},
   "outputs": [],
   "source": [
    "# plotly_zones(df_wild_sample, df_alkb_sample)"
   ]
  },
  {
   "cell_type": "code",
   "execution_count": null,
   "id": "vital-guitar",
   "metadata": {},
   "outputs": [],
   "source": [
    "import multiprocessing\n",
    "from collections import namedtuple\n",
    "ShiftHit = namedtuple('ShiftHit', 'shift hit')\n",
    "\n",
    "def func(df_s1, df_s2, shift):\n",
    "    dfm = match_dfs(df_s1, df_s2, shift=shift)\n",
    "    sh = ShiftHit(shift=shift, hit=dfm.shape[0])\n",
    "    return sh\n",
    "\n",
    "PROCESSES = 8\n",
    "params = [(df_wild_sample, df_alkb_sample_only, shift) for shift in np.arange(-64, 64, 0.1)]\n",
    "# params = [(df_wild_sample, df_wild_sample, shift) for shift in np.arange(-64, 64, 0.1)]\n",
    "# params = [(df_alkb_sample, df_alkb_sample, shift) for shift in np.arange(-64, 64, 0.1)]\n",
    "# params = [(df_sample, shift) for shift in np.arange(1, 64, 0.1)]\n",
    "with multiprocessing.Pool(PROCESSES) as pool:\n",
    "    shift_hits = pool.starmap(func, params)\n",
    "\n",
    "df_shift_hits = pd.DataFrame(shift_hits)"
   ]
  },
  {
   "cell_type": "code",
   "execution_count": null,
   "id": "ruled-organizer",
   "metadata": {},
   "outputs": [],
   "source": [
    "fig = px.scatter(df_shift_hits[df_shift_hits.hit<df_shift_hits.shape[0]], x='shift', y='hit', labels={'shift': 'Mass Shift', 'hit': 'Hit Count'})\n",
    "fig.show()"
   ]
  },
  {
   "cell_type": "code",
   "execution_count": null,
   "id": "junior-duration",
   "metadata": {},
   "outputs": [],
   "source": [
    "global_mean = df_shift_hits.hit.mean()\n",
    "df_calc = df_shift_hits[(df_shift_hits.hit<df_shift_hits.shape[0])&\n",
    "                        (df_shift_hits.hit>global_mean)]\n",
    "global_mean, df_calc.hit.mean()"
   ]
  },
  {
   "cell_type": "code",
   "execution_count": null,
   "id": "promotional-specialist",
   "metadata": {},
   "outputs": [],
   "source": [
    "# df_sh_without_adducts = df_shift_hits.copy()\n",
    "# df_sh_without_adducts.to_excel('ShiftHit_Gln_without_adducts.xlsx')\n",
    "\n",
    "# df_sh_gln2 = df_shift_hits.copy()\n",
    "# df_sh_gln2.to_excel('ShiftHit_Gln2_top10.xlsx')\n",
    "\n",
    "# df_sh_gln1 = df_shift_hits.copy()\n",
    "# df_sh_gln1.to_excel('ShiftHit_Gln1_top10.xlsx')\n",
    "\n",
    "# df_sh_gln1_wild = df_shift_hits.copy()\n",
    "# df_sh_gln1_wild.to_excel('ShiftHit_Gln1_top10_wild.xlsx')\n",
    "\n",
    "# df_sh_gln1_alkb = df_shift_hits.copy()\n",
    "# df_sh_gln1_alkb.to_excel('ShiftHit_Gln1_top10_alkb.xlsx')"
   ]
  },
  {
   "cell_type": "code",
   "execution_count": null,
   "id": "arctic-charger",
   "metadata": {},
   "outputs": [],
   "source": [
    "df_sh_top = df_shift_hits[df_shift_hits['shift']>=1].sort_values('hit', ascending=False).iloc[:10].copy()\n",
    "print(df_sh_top)\n",
    "df_sh_top = df_sh_gln1.sort_values('hit', ascending=False).iloc[:10].copy()\n",
    "print(df_sh_top)"
   ]
  },
  {
   "cell_type": "code",
   "execution_count": null,
   "id": "impossible-consumer",
   "metadata": {},
   "outputs": [],
   "source": [
    "def func_count_basecallings(shift, df_s1, df_s2):\n",
    "    dfm_l, dfm_r = peer_dfs(df_s1, df_s2, shift=shift)\n",
    "    df = dfm_l if dfm_l.shape[0] < dfm_r.shape[0] else dfm_r\n",
    "    bcr = base_calling_random(df)\n",
    "    return len(bcr[1])\n",
    "\n",
    "def func_longest_ladder(shift, df_s1, df_s2):\n",
    "    dfm_l, dfm_r = peer_dfs(df_s1, df_s2, shift=shift)\n",
    "    df = dfm_l if dfm_l.shape[0] < dfm_r.shape[0] else dfm_r\n",
    "    groups = basecalling_groups(df)\n",
    "    return len(groups[0][1]) if groups else 0\n",
    "\n",
    "df_s1 = df_wild_sample.copy()\n",
    "df_s2 = df_alkb_sample.copy()\n",
    "df_sh_top = df_shift_hits.sort_values('hit', ascending=False).iloc[0:10].copy()\n",
    "df_sh_top['basecallings'] = df_sh_top.apply(\n",
    "    lambda x: func_count_basecallings(x['shift'], df_s1, df_s2), axis=1)\n",
    "df_sh_top['longestladder'] = df_sh_top.apply(\n",
    "    lambda x: func_longest_ladder(x['shift'], df_s1, df_s2), axis=1)\n",
    "df_sh_top"
   ]
  },
  {
   "cell_type": "code",
   "execution_count": null,
   "id": "dominican-geography",
   "metadata": {},
   "outputs": [],
   "source": [
    "shift = -1\n",
    "dfm_base_l, dfm_base_r = peer_dfs(df_wild_sample, df_alkb_sample, shift=0)\n",
    "# dfm_l, dfm_r = peer_dfs(df_gln2_top, df_gln2_top, shift=shift)\n",
    "# dfm_l, dfm_r = peer_dfs(df_wild_sample, df_wild_sample, shift=shift)\n",
    "dfm_l, dfm_r = peer_dfs(df_wild_sample, df_alkb_sample_only, shift=shift)\n",
    "print(dfm_l.shape, dfm_r.shape)\n",
    "plotly_zones(dfm_base_l, dfm_l)\n",
    "bcr = base_calling_random(dfm_l)\n",
    "plotly_basecalling(dfm_l, bcr[1], y='RT')\n",
    "bcr = base_calling_random(dfm_r)\n",
    "plotly_basecalling(dfm_r, bcr[1], y='RT')"
   ]
  },
  {
   "cell_type": "code",
   "execution_count": null,
   "id": "oriental-panel",
   "metadata": {},
   "outputs": [],
   "source": [
    "shift = -1\n",
    "dfm_base_l, dfm_base_r = peer_dfs(df_wild_sample, df_alkb_sample, shift=0)\n",
    "# dfm_l, dfm_r = peer_dfs(df_gln2_top, df_gln2_top, shift=shift)\n",
    "# dfm_l, dfm_r = peer_dfs(df_wild_sample, df_wild_sample, shift=shift)\n",
    "dfm_l, dfm_r = peer_dfs(df_wild_sample, df_alkb_sample_only, shift=shift)\n",
    "print(dfm_l.shape, dfm_r.shape)\n",
    "plotly_zones(dfm_base_l, dfm_l)\n",
    "bcr = base_calling_random(dfm_l)\n",
    "plotly_basecalling(dfm_l, bcr[1], y='RT')\n",
    "bcr = base_calling_random(dfm_r)\n",
    "plotly_basecalling(dfm_r, bcr[1], y='RT')"
   ]
  },
  {
   "cell_type": "code",
   "execution_count": null,
   "id": "sunset-mambo",
   "metadata": {},
   "outputs": [],
   "source": [
    "fig = plt.figure(figsize=(2.5, 1.5))\n",
    "df_plt = df_sh_top.copy().sort_values('shift')\n",
    "df_plt1 = df_plt.copy()\n",
    "df_plt1['shift'] = df_plt1['shift'].astype(int)\n",
    "df_plt1 = df_plt1.set_index('shift')\n",
    "df_plt1.plot(kind='bar',figsize=(2.5, 1.5))\n",
    "plt.legend()\n",
    "\n",
    "fig.tight_layout()\n",
    "svg_fpath = '/Users/xyuan/Downloads/demo.svg'\n",
    "plt.savefig(svg_fpath, transparent=True, dpi=300)"
   ]
  },
  {
   "cell_type": "code",
   "execution_count": null,
   "id": "velvet-graph",
   "metadata": {},
   "outputs": [],
   "source": [
    "fig = plt.figure(figsize=(10, 6))\n",
    "df_plt1.plot(kind='bar')"
   ]
  },
  {
   "cell_type": "code",
   "execution_count": null,
   "id": "modified-logging",
   "metadata": {},
   "outputs": [],
   "source": []
  },
  {
   "cell_type": "code",
   "execution_count": null,
   "id": "fluid-thickness",
   "metadata": {},
   "outputs": [],
   "source": [
    "shift = 1\n",
    "# dfm_l, dfm_r = peer_dfs(df_gln1_without_adducts, df_gln1_alkb_without_adducts, shift=shift)\n",
    "dfm_l, dfm_r = peer_dfs(df_gln2_without_adducts, df_gln2_alkb_without_adducts, shift=shift)\n",
    "# dfm_l, dfm_r = peer_dfs(df_gln2, df_gln2_alkb, shift=shift)\n",
    "dfm_l.shape, dfm_r.shape"
   ]
  },
  {
   "cell_type": "code",
   "execution_count": null,
   "id": "appreciated-landscape",
   "metadata": {},
   "outputs": [],
   "source": [
    "thres = 26000\n",
    "groups_l = basecalling_groups(dfm_l[dfm_l.Mass<thres])\n",
    "len(groups_l)\n",
    "groups_r = basecalling_groups(dfm_r[dfm_r.Mass<thres])\n",
    "len(groups_r)"
   ]
  },
  {
   "cell_type": "code",
   "execution_count": null,
   "id": "bigger-combat",
   "metadata": {},
   "outputs": [],
   "source": [
    "# groups_l[idx][0].shape\n",
    "plotly_zone(dfm_l)\n",
    "plotly_zone(dfm_r)\n",
    "# plotly_zone(groups_r[0][0])"
   ]
  },
  {
   "cell_type": "code",
   "execution_count": null,
   "id": "everyday-business",
   "metadata": {},
   "outputs": [],
   "source": [
    "# [len(group[0]) for group in groups]\n",
    "idx = 0\n",
    "\n",
    "dft = groups_l[idx][0]\n",
    "print(dft.shape)\n",
    "bcr = base_calling_random(dft)\n",
    "plotly_basecalling(*bcr)\n",
    "\n",
    "dft = groups_r[idx][0]\n",
    "bcr = base_calling_random(dft)\n",
    "plotly_basecalling(*bcr)"
   ]
  },
  {
   "cell_type": "code",
   "execution_count": null,
   "id": "perceived-ownership",
   "metadata": {},
   "outputs": [],
   "source": [
    "groups_l[0][1]"
   ]
  },
  {
   "cell_type": "code",
   "execution_count": null,
   "id": "former-tissue",
   "metadata": {},
   "outputs": [],
   "source": [
    "# dft = dft[dft.Mass<5000].copy()\n",
    "# bcr = base_calling_random(dft)\n",
    "# plotly_basecalling(*bcr)\n",
    "\n",
    "start, step = 1000, 3000\n",
    "dft_l = dfm_l[(dfm_l.Mass>start)&(dfm_l.Mass<start+step)]\n",
    "bcr = base_calling_random(dft_l)\n",
    "plotly_basecalling(*bcr)\n",
    "\n",
    "dft_r = dfm_r[(dfm_r.Mass>start)&(dfm_r.Mass<start+step)]\n",
    "bcr = base_calling_random(dft_r)\n",
    "plotly_basecalling(*bcr)\n",
    "\n",
    "# dft = df_gln2_without_adducts[(df_gln2_without_adducts.Mass>1)&(df_gln2_without_adducts.Mass<3500)]\n",
    "# # plotly_zone(dft)\n",
    "# # dft.shape\n",
    "# bcr = base_calling_random(dft, base_only=True)\n",
    "# plotly_basecalling(*bcr)"
   ]
  },
  {
   "cell_type": "code",
   "execution_count": null,
   "id": "sized-arkansas",
   "metadata": {},
   "outputs": [],
   "source": [
    "dftmp = pd.DataFrame({'Mass': [3004.35, 3349.398, 3655.425, 4000.472, \n",
    "                               6031.871, 6360.925, 6665.962, 6971.991, 7278.019, 7623.063,\n",
    "                              6047.855, 6376.913, 6681.958, 6987.991, 7294.017, 7639.064,\n",
    "                              6033.852, 6362.904, 6667.947, 6973.977, 7280.001, 7625.039]})\n",
    "\n",
    "df_ladders = match_dfs(dftmp, dft_l)\n",
    "bcr_l = base_calling_random(df_ladders)\n",
    "plotly_basecalling(*bcr_l)\n",
    "\n",
    "dftmp.Mass -= M\n",
    "df_ladders = match_dfs(dftmp, dft_r)\n",
    "bcr_r = base_calling_random(df_ladders)\n",
    "plotly_basecalling(*bcr_r)"
   ]
  },
  {
   "cell_type": "code",
   "execution_count": null,
   "id": "human-glasgow",
   "metadata": {},
   "outputs": [],
   "source": [
    "dft = dfm_r[(dfm_r.Mass>22000)]\n",
    "plotly_zone(dft, y='Vol')"
   ]
  },
  {
   "cell_type": "code",
   "execution_count": null,
   "id": "circular-vatican",
   "metadata": {},
   "outputs": [],
   "source": [
    "\n",
    "# A2C2U  1569.201 - 18.0106 = 1551.1904\n",
    "# 3ACU   1616.238 - 18.0106 = 1598.2274\n",
    "# GCAuC  1622.238 - 18.0106 = 1604.2274"
   ]
  },
  {
   "cell_type": "code",
   "execution_count": null,
   "id": "baking-conviction",
   "metadata": {},
   "outputs": [],
   "source": [
    "dfm_l_top = local_top(dfm_l, top=2)\n",
    "dfm_r_top = local_top(dfm_r, top=2)\n",
    "# plotly_zones(dfm_l_top, dfm_r_top)\n",
    "plotly_zone(dfm_l_top, y='Vol')\n",
    "plotly_zone(dfm_r_top, y='Vol')\n",
    "# dft = dfm_l_top[(dfm_l_top.Mass>1000)&(dfm_l_top.Mass<9000)]\n",
    "# bcr = base_calling_random(dft)\n",
    "# plotly_basecalling(*bcr)\n",
    "\n",
    "# dft = dfm_r_top[(dfm_r_top.Mass>1000)&(dfm_r_top.Mass<9000)]\n",
    "# bcr = base_calling_random(dft)\n",
    "# plotly_basecalling(*bcr)"
   ]
  },
  {
   "cell_type": "code",
   "execution_count": null,
   "id": "forward-chamber",
   "metadata": {},
   "outputs": [],
   "source": [
    "fig = plt.figure(figsize=(2.5, 1.5))\n",
    "\n",
    "# nodes = pd.concat([bcr_l[0], bcr_r[0]])\n",
    "# edges = bcr_l[1] + bcr_r[1]\n",
    "# plot_basecalling(nodes, edges, figsize=(5, 3))\n",
    "# plot_basecalling(*bcr_l, figsize=(5, 3))\n",
    "# plot_basecalling(*bcr_r, figsize=(5, 3))\n",
    "\n",
    "# plot_basecalling(*bcr, figsize=(5, 3))\n",
    "# plot_basecalling(*bcr, figsize=(5, 3))\n",
    "plot_basecalling(dfs, bcr[1], figsize=(5, 3))\n",
    "\n",
    "# plt.legend()\n",
    "fig.tight_layout()\n",
    "svg_fpath = '/Users/xyuan/Downloads/demo.svg'\n",
    "plt.savefig(svg_fpath, transparent=True, dpi=300)"
   ]
  },
  {
   "cell_type": "code",
   "execution_count": null,
   "id": "legal-parish",
   "metadata": {},
   "outputs": [],
   "source": [
    "svg_fpath = '/Users/xyuan/Downloads/demo.svg'\n",
    "draw_df(df_sh_without_adducts_top, svg_fpath, x='shift', y='hit')"
   ]
  },
  {
   "cell_type": "code",
   "execution_count": null,
   "id": "stone-faith",
   "metadata": {},
   "outputs": [],
   "source": [
    "## Import up sound alert dependencies\n",
    "from IPython.display import Audio, display\n",
    "\n",
    "def allDone():\n",
    "  display(Audio(url='https://sound.peal.io/ps/audios/000/000/537/original/woo_vu_luvub_dub_dub.wav', autoplay=True))\n",
    "## Insert whatever audio file you want above\n",
    "\n",
    "allDone()"
   ]
  },
  {
   "cell_type": "code",
   "execution_count": null,
   "id": "seven-religion",
   "metadata": {},
   "outputs": [],
   "source": []
  }
 ],
 "metadata": {
  "kernelspec": {
   "display_name": "Python 3",
   "language": "python",
   "name": "python3"
  },
  "language_info": {
   "codemirror_mode": {
    "name": "ipython",
    "version": 3
   },
   "file_extension": ".py",
   "mimetype": "text/x-python",
   "name": "python",
   "nbconvert_exporter": "python",
   "pygments_lexer": "ipython3",
   "version": "3.7.3"
  }
 },
 "nbformat": 4,
 "nbformat_minor": 5
}
