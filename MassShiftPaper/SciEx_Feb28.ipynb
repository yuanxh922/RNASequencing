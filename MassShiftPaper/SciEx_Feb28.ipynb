{
 "cells": [
  {
   "cell_type": "code",
   "execution_count": null,
   "id": "native-separation",
   "metadata": {},
   "outputs": [],
   "source": [
    "import pandas as pd"
   ]
  },
  {
   "cell_type": "code",
   "execution_count": null,
   "id": "secure-motor",
   "metadata": {},
   "outputs": [],
   "source": [
    "%run ../modules/utils.ipynb\n",
    "%run ../modules/cds.ipynb\n",
    "%run ../modules/preprocessing.ipynb"
   ]
  },
  {
   "cell_type": "code",
   "execution_count": null,
   "id": "marine-wealth",
   "metadata": {},
   "outputs": [],
   "source": [
    "fpath = \"/Users/xyuan/Downloads/NYIT_Monoisoptopic masslist.xlsx\"\n",
    "df = pd.read_excel(fpath, 1)\n",
    "df = df.rename(columns={'Base Peak Mass (Da)': 'Mass', 'RT (min)': 'RT', 'Intensity': 'Vol'})\n",
    "df.shape"
   ]
  },
  {
   "cell_type": "code",
   "execution_count": null,
   "id": "pending-squad",
   "metadata": {},
   "outputs": [],
   "source": [
    "\n",
    "fpath = \"/Users/xyuan/Downloads/Monoisotopic mass list of Sample 1 & 2 Ala_FA_2.xlsx\"\n",
    "df = pd.read_excel(fpath, 2)\n",
    "df = df[df.Mass<1E5]\n",
    "df.shape"
   ]
  },
  {
   "cell_type": "code",
   "execution_count": null,
   "id": "fitting-generic",
   "metadata": {},
   "outputs": [],
   "source": [
    "fpath = \"/Users/xyuan/Downloads/Monoisotopic mass list of Sample 5 & 6 .xlsx\"\n",
    "df = pd.read_excel(fpath, 1)\n",
    "df = df[(df.Mass<20000)&(df.RT<15)]\n",
    "df.shape"
   ]
  },
  {
   "cell_type": "code",
   "execution_count": null,
   "id": "dutch-covering",
   "metadata": {},
   "outputs": [],
   "source": [
    "plot_zone(df)"
   ]
  },
  {
   "cell_type": "code",
   "execution_count": null,
   "id": "urban-fleece",
   "metadata": {},
   "outputs": [],
   "source": [
    "bcr = base_calling_random(df, base_only=True)\n",
    "# plotly_basecalling(df, bcr[1])\n",
    "print(len(bcr[0]))\n",
    "plot_basecalling(*bcr)"
   ]
  },
  {
   "cell_type": "code",
   "execution_count": null,
   "id": "eight-azerbaijan",
   "metadata": {},
   "outputs": [],
   "source": [
    "df"
   ]
  },
  {
   "cell_type": "code",
   "execution_count": null,
   "id": "australian-running",
   "metadata": {},
   "outputs": [],
   "source": [
    "# Sheet 4\n",
    "#3´  GUUG  GCUCAGUGGUA     GCG\n",
    "#5´      UAGCUCAGUGGUAGA  G   C\n",
    "#    GUUGUAGCUCAGUGGUAGA  GGCGC\n",
    "\n",
    "# Sheet 3\n",
    "#3´  3GU|U|AG|CUcAGUGGUAG\n",
    "#5´      |A|GC|UcAGUGGUAGAG|2CG|2C3GU\n",
    "#       3GUUAGCUcAGUGGUAGAG\n",
    "\n",
    "# Sheet 2\n",
    "#3´  ggggGG2U__CUC__GGGUA__GCG|C+G+U\n",
    "#5´         UAGCUCAGGGGUAGAGCG\n",
    "#.   ggggGGUUAGCUCAGGGGUAGAGCGCGU\n",
    "\n",
    "# Sheet 1\n",
    "#3' G(UGGGUGUAGCUCAGUGGUAGAGCGCGU\n",
    "#5'    GGGUGUAGCUC   GG    GCGC  .\n",
    "#   G(UGGGUGUAGCUCAGUGGUAGAGCGCGUG\n",
    "# ( --> 385.991, fa7d7G, archaeosine"
   ]
  },
  {
   "cell_type": "code",
   "execution_count": null,
   "id": "proved-miracle",
   "metadata": {},
   "outputs": [],
   "source": [
    "# 2530.338 - (6*G++U+4*M)\n",
    "2*U+2*G"
   ]
  },
  {
   "cell_type": "code",
   "execution_count": null,
   "id": "published-audio",
   "metadata": {},
   "outputs": [],
   "source": []
  }
 ],
 "metadata": {
  "kernelspec": {
   "display_name": "Python 3",
   "language": "python",
   "name": "python3"
  },
  "language_info": {
   "codemirror_mode": {
    "name": "ipython",
    "version": 3
   },
   "file_extension": ".py",
   "mimetype": "text/x-python",
   "name": "python",
   "nbconvert_exporter": "python",
   "pygments_lexer": "ipython3",
   "version": "3.7.3"
  }
 },
 "nbformat": 4,
 "nbformat_minor": 5
}
