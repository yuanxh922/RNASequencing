{
 "cells": [
  {
   "cell_type": "code",
   "execution_count": null,
   "id": "split-wiring",
   "metadata": {},
   "outputs": [],
   "source": [
    "import pandas as pd\n",
    "import numpy as np"
   ]
  },
  {
   "cell_type": "code",
   "execution_count": null,
   "id": "removed-dressing",
   "metadata": {},
   "outputs": [],
   "source": [
    "%run ../modules/utils.ipynb\n",
    "%run ../modules/cds.ipynb\n",
    "%run ../modules/preprocessing.ipynb"
   ]
  },
  {
   "cell_type": "code",
   "execution_count": null,
   "id": "determined-genetics",
   "metadata": {},
   "outputs": [],
   "source": [
    "path = '/Users/xyuan/Documents/BioPharmaFinder/BaoLab/FirstBatch/Excels/S2to5combined_20ul_40min.xlsx'\n",
    "df_mock = load_data(path)\n",
    "path = '/Users/xyuan/Documents/BioPharmaFinder/BaoLab/FirstBatch/Excels/S6to10combined_20ul_40min.xlsx'\n",
    "df_rsv = load_data(path)\n",
    "df_mock.shape, df_rsv.shape"
   ]
  },
  {
   "cell_type": "code",
   "execution_count": null,
   "id": "appropriate-ethnic",
   "metadata": {},
   "outputs": [],
   "source": [
    "path = '/Users/xyuan/Documents/BioPharmaFinder/BaoLab/FirstBatch/Excels/UTMB6.xlsx'\n",
    "df_intact = load_data(path)\n",
    "df_intact.shape"
   ]
  },
  {
   "cell_type": "code",
   "execution_count": null,
   "id": "defined-universe",
   "metadata": {},
   "outputs": [],
   "source": [
    "df_mock_sample = df_mock.copy()\n",
    "df_rsv_sample = df_rsv.copy()\n",
    "df_mock_sample.shape, df_rsv_sample.shape"
   ]
  },
  {
   "cell_type": "code",
   "execution_count": null,
   "id": "clear-terry",
   "metadata": {},
   "outputs": [],
   "source": [
    "df_ngs_src = pd.read_excel('~/Downloads/EJ_rsv.xlsx')\n",
    "df_ngs_src.shape, df_ngs_src.head()"
   ]
  },
  {
   "cell_type": "code",
   "execution_count": null,
   "id": "located-significance",
   "metadata": {},
   "outputs": [],
   "source": [
    "mass_glu = 147.1\n",
    "\n",
    "def reg_mass(seq):\n",
    "    \"\"\"given a sequence(contains ACGU only), calculate the intact mass\n",
    "    \"\"\"\n",
    "    mass = 0\n",
    "    bases = {'A': 329.0525,\n",
    "            'C': 305.0413,\n",
    "            'G': 345.0474,\n",
    "            'U': 306.0253}\n",
    "    \n",
    "    for base in bases:\n",
    "        num = seq.count(base)\n",
    "        mass += num * bases.get(base)\n",
    "\n",
    "    mass += H2O\n",
    "    return mass\n"
   ]
  },
  {
   "cell_type": "code",
   "execution_count": null,
   "id": "spatial-guess",
   "metadata": {},
   "outputs": [],
   "source": [
    "dft = df_ngs_src.dropna(subset=['seq']).copy()\n",
    "df_sample = df_rsv_sample\n",
    "for idx, row in dft.iterrows():\n",
    "    seq = row['seq']\n",
    "#     print(idx, row['seqs'])\n",
    "    mass = reg_mass(seq)\n",
    "    df_ngs_src.loc[idx, 'MassReg'] = mass + C+C+A if len(seq)>=72 else 0\n",
    "    df_ngs_src.loc[idx, 'MassP'] = mass + 80\n",
    "    df_ngs_src.loc[idx, 'MassOH'] = mass - 80\n",
    "    df_ngs_src.loc[idx, 'MassAmino'] = mass + mass_glu - H2O"
   ]
  },
  {
   "cell_type": "code",
   "execution_count": null,
   "id": "angry-wrapping",
   "metadata": {},
   "outputs": [],
   "source": [
    "df_ngs_src.head()"
   ]
  },
  {
   "cell_type": "code",
   "execution_count": null,
   "id": "decent-springfield",
   "metadata": {},
   "outputs": [],
   "source": [
    "df = df_ngs_src.copy()\n",
    "df.rename(columns={'MassP': \"Mass\"}, inplace=True)"
   ]
  },
  {
   "cell_type": "code",
   "execution_count": null,
   "id": "contained-appliance",
   "metadata": {},
   "outputs": [],
   "source": [
    "df[['name', 'b', 'seqs', 'Vol', 'Mass']]"
   ]
  },
  {
   "cell_type": "code",
   "execution_count": null,
   "id": "growing-newspaper",
   "metadata": {},
   "outputs": [],
   "source": [
    "dfm_seq, dfm = peer_dfs(df, df_intact)\n",
    "dfm_seq.shape, dfm.shape"
   ]
  },
  {
   "cell_type": "code",
   "execution_count": null,
   "id": "pointed-coordinator",
   "metadata": {},
   "outputs": [],
   "source": [
    "plotly_zones(df, dfm_seq, x='Mass', y='Vol')\n",
    "plotly_zones(df_intact, dfm)"
   ]
  },
  {
   "cell_type": "code",
   "execution_count": null,
   "id": "prospective-minority",
   "metadata": {},
   "outputs": [],
   "source": [
    "\n",
    "print(df_intact[(df_intact.Mass>9690)&(df_intact.Mass<14550)].sort_values('Mass'))\n",
    "print(dfm.sort_values('Mass'))"
   ]
  },
  {
   "cell_type": "code",
   "execution_count": null,
   "id": "general-aircraft",
   "metadata": {},
   "outputs": [],
   "source": [
    "bcr = base_calling_random(dfm)\n",
    "plotly_basecalling(dfm, bcr[1])"
   ]
  },
  {
   "cell_type": "code",
   "execution_count": null,
   "id": "breeding-metropolitan",
   "metadata": {},
   "outputs": [],
   "source": [
    "import multiprocessing\n",
    "from collections import namedtuple\n",
    "ShiftHit = namedtuple('ShiftHit', 'shift hit')\n",
    "\n",
    "# find out data points which can generate base calling\n",
    "def func(df_s1, df_s2, shift):\n",
    "    _, df = peer_dfs(df_s1, df_s2, shift=shift)\n",
    "    \n",
    "    bcr = base_calling_random(df, base_only=True)\n",
    "    df = bcr[0].copy()\n",
    "    df['Shift'] = shift\n",
    "    return df\n",
    "\n",
    "def shift_hits(df_ngs, df_src, shifts):\n",
    "    PROCESSES = 8\n",
    "    params = [(df_ngs, df_src, shift) for shift in shifts]\n",
    "    with multiprocessing.Pool(PROCESSES) as pool:\n",
    "        df_basecallings = pool.starmap(func, params)\n",
    "\n",
    "    df_hits = pd.concat(df_basecallings).drop_duplicates()\n",
    "    return df_hits\n"
   ]
  },
  {
   "cell_type": "code",
   "execution_count": null,
   "id": "basic-decade",
   "metadata": {},
   "outputs": [],
   "source": [
    "dft = dfm_seq.copy()\n",
    "df_sample = df_rsv\n",
    "shifts = [0, 14]\n",
    "for idx, row in dft.iterrows():\n",
    "    seq = row['seq']\n",
    "    df_5p = pd.read_json(row['MassLadder5p'])\n",
    "    df_5p['Base'] = list(seq)\n",
    "    df_5p['Idx'] = np.array(df_5p.index)+1\n",
    "    \n",
    "    df_hits_5p = shift_hits(df_5p, df_sample, shifts)\n",
    "    dfm_seq.loc[idx, 'Hit5Count'] = df_hits_5p.shape[0]\n",
    "    dfm_seq.loc[idx, 'Hit5Ladder'] = df_hits_5p.to_json()\n",
    "\n",
    "dfm_seq.to_excel('~/Downloads/EJ_rsv_result.xlsx')"
   ]
  },
  {
   "cell_type": "code",
   "execution_count": null,
   "id": "engaged-jurisdiction",
   "metadata": {},
   "outputs": [],
   "source": [
    "dft = pd.read_json(dfm_seq.loc[17, 'MassLadder5p'])\n",
    "df_hit = shift_hits(dft, df_rsv, [0, 14, 16, 18])\n",
    "plotly_zone(df_hit, y='Shift')\n",
    "dfm_seq.loc[17]"
   ]
  },
  {
   "cell_type": "code",
   "execution_count": null,
   "id": "extra-patch",
   "metadata": {},
   "outputs": [],
   "source": []
  }
 ],
 "metadata": {
  "kernelspec": {
   "display_name": "Python 3",
   "language": "python",
   "name": "python3"
  },
  "language_info": {
   "codemirror_mode": {
    "name": "ipython",
    "version": 3
   },
   "file_extension": ".py",
   "mimetype": "text/x-python",
   "name": "python",
   "nbconvert_exporter": "python",
   "pygments_lexer": "ipython3",
   "version": "3.7.3"
  }
 },
 "nbformat": 4,
 "nbformat_minor": 5
}
