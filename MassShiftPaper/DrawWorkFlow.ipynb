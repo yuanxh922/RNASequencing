{
 "cells": [
  {
   "cell_type": "code",
   "execution_count": null,
   "id": "instant-cooperative",
   "metadata": {},
   "outputs": [],
   "source": [
    "import pandas as pd"
   ]
  },
  {
   "cell_type": "code",
   "execution_count": null,
   "id": "conservative-polymer",
   "metadata": {},
   "outputs": [],
   "source": [
    "%run ../modules/utils.ipynb\n",
    "%run ../modules/cds.ipynb\n",
    "%run ../modules/preprocessing.ipynb"
   ]
  },
  {
   "cell_type": "code",
   "execution_count": null,
   "id": "confused-reader",
   "metadata": {},
   "outputs": [],
   "source": [
    "fpath = \"/Users/xyuan/Documents/SeqDataSets/Ning1024/12mixtures_3'-Biotin_MFE/19-Table 1.csv\"\n",
    "df_19 = load_data(fpath, csv_format=True)\n",
    "df_19 = df_19[df_19.RT<15].copy()\n",
    "df_19.shape"
   ]
  },
  {
   "cell_type": "code",
   "execution_count": null,
   "id": "handled-effects",
   "metadata": {},
   "outputs": [],
   "source": [
    "df_top = local_top(df_19, top=1)\n",
    "df_top.shape"
   ]
  },
  {
   "cell_type": "code",
   "execution_count": null,
   "id": "aquatic-emperor",
   "metadata": {},
   "outputs": [],
   "source": [
    "\n",
    "def draw_df(df, svg_fpath, x='Mass', y='RT', s=6, color='C0', label=''):\n",
    "#     fig = plt.figure(figsize=(5, 3))\n",
    "    fig = plt.figure(figsize=(2.5, 1.5))\n",
    "    plt.scatter(df[x], df[y], s=s, color=color, label=label) \n",
    "    plt.legend()\n",
    "\n",
    "    fig.tight_layout()\n",
    "    plt.savefig(svg_fpath, transparent=True, dpi=300)\n",
    "    \n",
    "def draw_dfs(df1, df2, svg_fpath, x='Mass', y='RT', s=6, colors=['C0', 'r'], labels=['', ''], xy=([], [])):\n",
    "    fig = plt.figure(figsize=(2.5, 1.5))\n",
    "    plt.scatter(df1[x], df1[y], s=s, color=colors[0], label=labels[0]) \n",
    "    plt.scatter(df2[x], df2[y], s=s, color=colors[1], label=labels[1]) \n",
    "    if xy[0]:\n",
    "        plt.scatter(xy[0], xy[1], color='w')\n",
    "    plt.legend()\n",
    "\n",
    "    fig.tight_layout()\n",
    "    plt.savefig(svg_fpath, transparent=True, dpi=300)"
   ]
  },
  {
   "cell_type": "code",
   "execution_count": null,
   "id": "recent-israeli",
   "metadata": {},
   "outputs": [],
   "source": [
    "# Choose mass range (0, 4000), duplicate (2000, 4000), make it a shifted ladder\n",
    "df_sample = df_top[df_top.Mass<4000]\n",
    "df_me = df_sample[df_sample.Mass>2000].copy()\n",
    "df_me.Mass += 10*M\n",
    "df_me.RT += 0.7\n",
    "df_sample_ext = pd.concat([df_sample, df_me]).reset_index(drop=True)"
   ]
  },
  {
   "cell_type": "code",
   "execution_count": null,
   "id": "computational-stephen",
   "metadata": {},
   "outputs": [],
   "source": [
    "plot_zones(df_sample, df_me)\n",
    "plot_zone(df_sample_ext)"
   ]
  },
  {
   "cell_type": "code",
   "execution_count": null,
   "id": "fancy-learning",
   "metadata": {},
   "outputs": [],
   "source": [
    "svg_fpath = '/Users/xyuan/Downloads/demo.svg'\n",
    "draw_df(df_sample_ext, svg_fpath, color='C0')"
   ]
  },
  {
   "cell_type": "code",
   "execution_count": null,
   "id": "mental-threat",
   "metadata": {},
   "outputs": [],
   "source": [
    "df1 = df_sample_ext.copy()\n",
    "# df1.RT = 1\n",
    "df2 = df_sample_ext.copy()\n",
    "# df2.RT = 2\n",
    "df2.Mass += 10*M\n",
    "\n",
    "svg_fpath = '/Users/xyuan/Downloads/demo.svg'\n",
    "draw_dfs(df1, df2, svg_fpath)"
   ]
  },
  {
   "cell_type": "code",
   "execution_count": null,
   "id": "instrumental-object",
   "metadata": {},
   "outputs": [],
   "source": [
    "df1 = df_sample_ext.copy()\n",
    "df2 = df_sample_ext.copy()\n",
    "dfa, dfb = peer_dfs(df1, df2, shift=10*M)\n",
    "dfa.Mass += 10*M\n",
    "\n",
    "svg_fpath = '/Users/xyuan/Downloads/demo.svg'\n",
    "# dfb.Mass += 10*M\n",
    "x = [df_sample_ext.Mass.min(), df_sample_ext.Mass.max()]\n",
    "y = [df_sample_ext.RT.min(), df_sample_ext.RT.max()]\n",
    "xy = (x, y)\n",
    "print(xy)\n",
    "draw_dfs(dfb, dfa, svg_fpath, xy=xy)"
   ]
  },
  {
   "cell_type": "code",
   "execution_count": null,
   "id": "spare-steel",
   "metadata": {},
   "outputs": [],
   "source": []
  }
 ],
 "metadata": {
  "kernelspec": {
   "display_name": "Python 3",
   "language": "python",
   "name": "python3"
  },
  "language_info": {
   "codemirror_mode": {
    "name": "ipython",
    "version": 3
   },
   "file_extension": ".py",
   "mimetype": "text/x-python",
   "name": "python",
   "nbconvert_exporter": "python",
   "pygments_lexer": "ipython3",
   "version": "3.7.3"
  }
 },
 "nbformat": 4,
 "nbformat_minor": 5
}
