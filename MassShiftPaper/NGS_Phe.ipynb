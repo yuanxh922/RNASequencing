{
 "cells": [
  {
   "cell_type": "code",
   "execution_count": null,
   "id": "adopted-invitation",
   "metadata": {},
   "outputs": [],
   "source": [
    "import pandas as pd"
   ]
  },
  {
   "cell_type": "code",
   "execution_count": null,
   "id": "universal-cemetery",
   "metadata": {},
   "outputs": [],
   "source": [
    "%run ../modules/utils.ipynb\n",
    "%run ../modules/cds.ipynb\n",
    "%run ../modules/preprocessing.ipynb"
   ]
  },
  {
   "cell_type": "code",
   "execution_count": null,
   "id": "becoming-drama",
   "metadata": {},
   "outputs": [],
   "source": [
    "fpath = '/Users/xyuan/Documents/BioPharmaFinder/ZhangLab/Data/NoAcidDeg_Phe/Sigma_tRNA_std_150.xlsx'\n",
    "df_control = load_data(fpath)\n",
    "df_control.shape"
   ]
  },
  {
   "cell_type": "code",
   "execution_count": null,
   "id": "medical-basic",
   "metadata": {},
   "outputs": [],
   "source": [
    "# df = pd.read_excel('~/Documents/BioPharmaFinder/ZhangLab/total_tRNA_acid_deg_oligosdegcoplex4.xlsx')\n",
    "df1 = pd.read_excel('~/Documents/BioPharmaFinder/ZhangLab/Data/Excels/tRNA_Phe_0724.xlsx')\n",
    "df2 = pd.read_excel('~/Documents/BioPharmaFinder/ZhangLab/Data/Excels/tRNA_Phe_0821.xlsx')\n",
    "df1 = thermo_df(df1)\n",
    "df2 = thermo_df(df2)"
   ]
  },
  {
   "cell_type": "code",
   "execution_count": null,
   "id": "genuine-conspiracy",
   "metadata": {},
   "outputs": [],
   "source": [
    "fpath = '/Users/xyuan/Documents/BioPharmaFinder/ZhangLab/Data/Excels/total_tRNA_acid_deg.xlsx'\n",
    "df_total = load_data(fpath)\n",
    "df_total.shape"
   ]
  },
  {
   "cell_type": "code",
   "execution_count": null,
   "id": "renewable-craps",
   "metadata": {},
   "outputs": [],
   "source": [
    "ms = 394.02359\n",
    "# dfm_l, dfm_r = peer_dfs(df1, df1, shift=ms)\n",
    "dfm_l, dfm_r = peer_dfs(df1, df2)\n",
    "# dfm.shape\n",
    "dfm_l.shape"
   ]
  },
  {
   "cell_type": "code",
   "execution_count": null,
   "id": "noticed-kruger",
   "metadata": {},
   "outputs": [],
   "source": []
  },
  {
   "cell_type": "code",
   "execution_count": null,
   "id": "experimental-montgomery",
   "metadata": {},
   "outputs": [],
   "source": [
    "plotly_zone(dfm_l, y='Vol')\n",
    "# plotly_zones(dfm_l, dfm_r, y='Vol')\n",
    "# (ms - U), M, 443.03997 - ms"
   ]
  },
  {
   "cell_type": "code",
   "execution_count": null,
   "id": "minor-burke",
   "metadata": {},
   "outputs": [],
   "source": [
    "9537.371 - ms"
   ]
  },
  {
   "cell_type": "code",
   "execution_count": null,
   "id": "regulation-suffering",
   "metadata": {},
   "outputs": [],
   "source": [
    "# remove adducts from df_glu1\n",
    "adducts = [K, Na]\n",
    "dfm_adducts_list = list()\n",
    "for adduct in adducts:\n",
    "    dfm_r = match_dfs(df1, df1, shift=adduct)\n",
    "    dfm_adducts_list.append(dfm_r)\n",
    "dfm_adducts = pd.concat(dfm_adducts_list).drop_duplicates()\n",
    "df1_without_adducts = df1.drop(dfm_adducts.index)\n",
    "df1_adducts_only = dfm_adducts.copy()\n",
    "print(df1.shape[0], df1_without_adducts.shape[0])\n",
    "\n",
    "dfm_adducts_list = list()\n",
    "for adduct in adducts:\n",
    "    dfm_r = match_dfs(df2, df2, shift=adduct)\n",
    "    dfm_adducts_list.append(dfm_r)\n",
    "dfm_adducts = pd.concat(dfm_adducts_list).drop_duplicates()\n",
    "df2_without_adducts = df2.drop(dfm_adducts.index)\n",
    "df2_adducts_only = dfm_adducts.copy()\n",
    "print(df2.shape[0], df2_without_adducts.shape[0])"
   ]
  },
  {
   "cell_type": "code",
   "execution_count": null,
   "id": "automated-arnold",
   "metadata": {},
   "outputs": [],
   "source": [
    "df_5p = load_data('~/Studio/MLC-Seq/examples/data/phe5p.xlsx')\n",
    "df_3p = load_data('~/Studio/MLC-Seq/examples/data/phe3p.xlsx')\n",
    "df_5p.shape[0], df_3p.shape[0]"
   ]
  },
  {
   "cell_type": "code",
   "execution_count": null,
   "id": "distant-navigator",
   "metadata": {},
   "outputs": [],
   "source": [
    "# remove adducts from df_glu1\n",
    "adducts = [K, Na]\n",
    "dfm_adducts_list = list()\n",
    "for adduct in adducts:\n",
    "    dfm_r = match_dfs(df_5p, df_5p, shift=adduct)\n",
    "    dfm_adducts_list.append(dfm_r)\n",
    "dfm_adducts = pd.concat(dfm_adducts_list).drop_duplicates()\n",
    "df_5p_without_adducts = df_5p.drop(dfm_adducts.index)\n",
    "df_5p_adducts_only = dfm_adducts.copy()\n",
    "print(df_5p.shape[0], df_5p_without_adducts.shape[0])\n",
    "\n",
    "dfm_adducts_list = list()\n",
    "for adduct in adducts:\n",
    "    dfm_r = match_dfs(df_3p, df_3p, shift=adduct)\n",
    "    dfm_adducts_list.append(dfm_r)\n",
    "dfm_adducts = pd.concat(dfm_adducts_list).drop_duplicates()\n",
    "df_3p_without_adducts = df_3p.drop(dfm_adducts.index)\n",
    "df_3p_adducts_only = dfm_adducts.copy()\n",
    "print(df_3p.shape[0], df_3p_without_adducts.shape[0])"
   ]
  },
  {
   "cell_type": "code",
   "execution_count": null,
   "id": "polar-breath",
   "metadata": {},
   "outputs": [],
   "source": [
    "plotly_zone(df_control[df_control.Mass>23000], y='Vol')"
   ]
  },
  {
   "cell_type": "code",
   "execution_count": null,
   "id": "specific-auditor",
   "metadata": {},
   "outputs": [],
   "source": [
    "plotly_zone(df1[(df1.Mass>2000)&(df1.Mass<20000)], y='Vol')\n",
    "df_24k = df1[(df1.Mass>23000)&(df1.Mass<26000)]\n",
    "plotly_zone(df_24k, y='Vol')\n",
    "# dfs = df_total\n",
    "# plotly_zone(dfs)\n",
    "# dfs.shape[0]"
   ]
  },
  {
   "cell_type": "code",
   "execution_count": null,
   "id": "decreased-republican",
   "metadata": {},
   "outputs": [],
   "source": [
    "fpath = '~/Studio/tools/NGS_phe_76_5p.xlsx'\n",
    "df_ngs_5p = pd.read_excel(fpath)\n",
    "fpath = '~/Studio/tools/NGS_phe_76_3p.xlsx'\n",
    "df_ngs_3p = pd.read_excel(fpath)\n",
    "fpath = '~/Studio/tools/NGS_phe_75_3p.xlsx'\n",
    "df_ngs_75nt_3p = pd.read_excel(fpath)"
   ]
  },
  {
   "cell_type": "code",
   "execution_count": null,
   "id": "numerical-vocabulary",
   "metadata": {},
   "outputs": [],
   "source": [
    "fpath = '~/Studio/tools/phe_76_5p.xlsx'\n",
    "df_phe_5p = pd.read_excel(fpath)\n",
    "fpath = '~/Studio/tools/phe_76_3p.xlsx'\n",
    "df_phe_3p = pd.read_excel(fpath)\n",
    "fpath = '~/Studio/tools/phe_75_3p.xlsx'\n",
    "df_phe_75nt_3p = pd.read_excel(fpath)"
   ]
  },
  {
   "cell_type": "code",
   "execution_count": null,
   "id": "cutting-credits",
   "metadata": {},
   "outputs": [],
   "source": [
    "fig = plt.figure(figsize=(10, 6))\n",
    "\n",
    "df_plt1 = df1.copy()\n",
    "\n",
    "plt.scatter(x=df_plt1['Mass'], y=df_plt1['RT'])\n",
    "plt.legend()\n",
    "\n",
    "fig.tight_layout()\n",
    "svg_fpath = '/Users/xyuan/Downloads/demo.svg'\n",
    "plt.savefig(svg_fpath, transparent=True, dpi=300)"
   ]
  },
  {
   "cell_type": "code",
   "execution_count": null,
   "id": "alternative-zoning",
   "metadata": {},
   "outputs": [],
   "source": [
    "# dfm1 = match_dfs(df_phe_3p, df1)\n",
    "# dfm2 = match_dfs(df_phe_75nt_3p, df1)\n",
    "# plotly_zone(dfm1)\n",
    "# plotly_zone(dfm2)\n",
    "# dfm1.shape, dfm2.shape\n",
    "fullmass = 24581.38 #24252.31\n",
    "dfs = computational_data_seperation(df_3p, df_5p, fullmass)\n",
    "plotly_zones(*dfs)\n",
    "dfs[0].shape"
   ]
  },
  {
   "cell_type": "code",
   "execution_count": null,
   "id": "racial-leadership",
   "metadata": {},
   "outputs": [],
   "source": [
    "# df_sample = df_5p.copy()\n",
    "df_sample = df_3p.copy()\n",
    "df_sample.shape"
   ]
  },
  {
   "cell_type": "code",
   "execution_count": null,
   "id": "premium-peoples",
   "metadata": {},
   "outputs": [],
   "source": [
    "# df_ngs = df_ngs_5p.copy()\n",
    "df_ngs = df_ngs_3p.copy()\n",
    "# df_ngs = df_ngs_75nt_3p.copy()\n",
    "# df_ngs.head()"
   ]
  },
  {
   "cell_type": "code",
   "execution_count": null,
   "id": "powerful-reproduction",
   "metadata": {},
   "outputs": [],
   "source": [
    "# # process 5´ Y --> G\n",
    "# # plotly_zone(df_ngs)\n",
    "# delta = 11822.5318 + G - 12034.5424\n",
    "# print(df_ngs.loc[35:38])\n",
    "# df_ngs.loc[36:, 'Mass'] = df_ngs.loc[36:]['Mass'] + delta\n",
    "# print(df_ngs.loc[35:38])"
   ]
  },
  {
   "cell_type": "code",
   "execution_count": null,
   "id": "solved-configuration",
   "metadata": {},
   "outputs": [],
   "source": [
    "# # process 3´ Y --> G\n",
    "# # plotly_zone(df_ngs)\n",
    "# delta = 11822.5318 + G - 12034.5424\n",
    "# print(df_ngs.loc[38:41])\n",
    "# df_ngs.loc[39:, 'Mass'] = df_ngs.loc[39:]['Mass'] + delta\n",
    "# print(df_ngs.loc[38:41])"
   ]
  },
  {
   "cell_type": "code",
   "execution_count": null,
   "id": "valued-shadow",
   "metadata": {},
   "outputs": [],
   "source": [
    "import multiprocessing\n",
    "from collections import namedtuple\n",
    "ShiftHit = namedtuple('ShiftHit', 'shift hit')\n",
    "\n",
    "def func(df_s1, df_s2, shift):\n",
    "    dfm = match_dfs(df_s1, df_s2, shift=shift)\n",
    "    sh = ShiftHit(shift=shift, hit=dfm.shape[0])\n",
    "    return sh\n",
    "\n",
    "PROCESSES = 8\n",
    "params = [(df_ngs, df_sample, shift) for shift in np.arange(-160, 160, 1)]\n",
    "with multiprocessing.Pool(PROCESSES) as pool:\n",
    "    shift_hits = pool.starmap(func, params)\n",
    "\n",
    "df_shift_hits = pd.DataFrame(shift_hits)"
   ]
  },
  {
   "cell_type": "code",
   "execution_count": null,
   "id": "modular-presence",
   "metadata": {},
   "outputs": [],
   "source": [
    "fig = px.scatter(df_shift_hits[df_shift_hits.hit<df_shift_hits.shape[0]], x='shift', y='hit', labels={'shift': 'Mass Shift', 'hit': 'Hit Count'})\n",
    "fig.show()\n",
    "# df_shift_hits"
   ]
  },
  {
   "cell_type": "code",
   "execution_count": null,
   "id": "architectural-admission",
   "metadata": {},
   "outputs": [],
   "source": [
    "df_sh_top = df_shift_hits[df_shift_hits.hit>1]\n",
    "# df_sh_top = df_shift_hits.sort_values('hit', ascending=False).iloc[:10]\n",
    "shifts = df_sh_top['shift']\n",
    "df_sh_top"
   ]
  },
  {
   "cell_type": "code",
   "execution_count": null,
   "id": "conservative-subcommittee",
   "metadata": {},
   "outputs": [],
   "source": [
    "# shifts_5p = shifts.copy()\n",
    "shifts_3p = shifts.copy()\n",
    "# shifts_75nt_3p = shifts.copy()"
   ]
  },
  {
   "cell_type": "code",
   "execution_count": null,
   "id": "executed-slovakia",
   "metadata": {},
   "outputs": [],
   "source": [
    "pairs = list()\n",
    "for i in shifts_5p:\n",
    "#     for j in shifts_3p:\n",
    "    for j in shifts_75nt_3p:\n",
    "        if i+j == 11: #144:\n",
    "            pairs.append((i, j))\n",
    "            print(i, j, '\\n')\n",
    "\n",
    "            \n",
    "len(pairs), len(shifts_5p), len(shifts_3p)"
   ]
  },
  {
   "cell_type": "code",
   "execution_count": null,
   "id": "severe-forty",
   "metadata": {},
   "outputs": [],
   "source": [
    "# find out data points which can generate base calling\n",
    "def func(df_s1, df_s2, shift):\n",
    "    _, df = peer_dfs(df_s1, df_s2, shift=shift)\n",
    "    \n",
    "    bcr = base_calling_random(df, base_only=True)\n",
    "    df = bcr[0].copy()\n",
    "    df['Shift'] = shift\n",
    "    return df\n",
    "\n",
    "PROCESSES = 8\n",
    "params = [(df_ngs, df_sample, shift) for shift in shifts]\n",
    "# params = [(df_ngs, df_sample, pair[0]) for pair in pairs]\n",
    "# params = [(df_ngs, df_sample, pair[1]) for pair in pairs]\n",
    "with multiprocessing.Pool(PROCESSES) as pool:\n",
    "    df_basecallings = pool.starmap(func, params)\n",
    "\n",
    "df_hits = pd.concat(df_basecallings).drop_duplicates()"
   ]
  },
  {
   "cell_type": "code",
   "execution_count": null,
   "id": "primary-frederick",
   "metadata": {},
   "outputs": [],
   "source": [
    "plotly_zone(df_hits, y='Shift')\n",
    "# plotly_zones(df_hits, dft, y='Shift', names=['All Shifts', 'Selected Shifts'])"
   ]
  },
  {
   "cell_type": "code",
   "execution_count": null,
   "id": "front-damage",
   "metadata": {},
   "outputs": [],
   "source": [
    "df_plt1.head()"
   ]
  },
  {
   "cell_type": "code",
   "execution_count": null,
   "id": "orange-norfolk",
   "metadata": {},
   "outputs": [],
   "source": [
    "fig = plt.figure(figsize=(10, 6))\n",
    "df_plt = df_hits.copy().sort_values('Shift')\n",
    "df_plt1 = df_plt.copy()\n",
    "df_plt1['Shift'] = df_plt1['Shift'].astype(int)\n",
    "# df_plt1 = df_plt1.set_index('Shift')\n",
    "plt.scatter(x=df_plt1['Mass'], y=df_plt1['Shift'])\n",
    "plt.legend()\n",
    "\n",
    "fig.tight_layout()\n",
    "svg_fpath = '/Users/xyuan/Downloads/demo.svg'\n",
    "plt.savefig(svg_fpath, transparent=True, dpi=300)\n"
   ]
  },
  {
   "cell_type": "code",
   "execution_count": null,
   "id": "surgical-greene",
   "metadata": {},
   "outputs": [],
   "source": [
    "# df_hits_5p = df_hits.copy()\n",
    "# shift_5p = df_hits.Shift.unique()\n",
    "# shift_5p\n",
    "df_hits_3p = df_hits.copy()\n",
    "shift_3p = df_hits.Shift.unique()\n",
    "shift_3p\n",
    "# df_hits_75nt_3p = df_hits.copy()\n",
    "# shift_75nt_3p = df_hits.Shift.unique()\n",
    "# shift_75nt_3p"
   ]
  },
  {
   "cell_type": "code",
   "execution_count": null,
   "id": "mighty-parks",
   "metadata": {},
   "outputs": [],
   "source": [
    "len(shift_5p), len(shift_3p)"
   ]
  },
  {
   "cell_type": "code",
   "execution_count": null,
   "id": "identical-hawaiian",
   "metadata": {},
   "outputs": [],
   "source": [
    "# df_ngs.tail()\n",
    "shift_5p.max()"
   ]
  },
  {
   "cell_type": "code",
   "execution_count": null,
   "id": "blank-eagle",
   "metadata": {},
   "outputs": [],
   "source": [
    "full_mass = 24581.1825\n",
    "# full_mass = 24252.31\n",
    "pairs = list()\n",
    "# pairs_75nt = list()\n",
    "for i in shift_5p:\n",
    "    for j in shift_3p:\n",
    "        if i+j == 11:\n",
    "            dft = df_hits_5p[df_hits_5p.Shift == i]\n",
    "            mass_5p = dft.sort_values('Mass')['Mass']\n",
    "            dft = df_hits_3p[df_hits_3p.Shift == j]\n",
    "            mass_3p = dft.sort_values('Mass')['Mass']\n",
    "            max_5p, max_3p = mass_5p.max(), mass_3p.max()\n",
    "            min_5p, min_3p = mass_5p.min(), mass_3p.min()\n",
    "            if min_5p + min_3p > full_mass or max_5p + max_3p < full_mass:\n",
    "                continue\n",
    "            pairs.append((i, j))\n",
    "            print(i, j, '\\n', mass_5p.to_list(), '\\n', mass_3p.to_list())"
   ]
  },
  {
   "cell_type": "code",
   "execution_count": null,
   "id": "vocational-chest",
   "metadata": {},
   "outputs": [],
   "source": [
    "selected_5p = [i[0] for i in pairs]\n",
    "selected_3p = [i[1] for i in pairs]"
   ]
  },
  {
   "cell_type": "code",
   "execution_count": null,
   "id": "grand-characterization",
   "metadata": {},
   "outputs": [],
   "source": [
    "selected_5p, selected_3p"
   ]
  },
  {
   "cell_type": "code",
   "execution_count": null,
   "id": "instructional-lover",
   "metadata": {},
   "outputs": [],
   "source": [
    "# target_shifts = [\n",
    "#                                 0.0, 14.0, 18, \n",
    "#                                     46.0, 74, \n",
    "#                                     88, 102, 116, 130, 144,\n",
    "#                                     32, 60,\n",
    "#                                  ]\n",
    "# target_shifts = [\n",
    "#                                 0.0, 14.0, \n",
    "#                                     28, 42, 56, 70, 98, 126, 130, 144\n",
    "#                                  ]\n",
    "target_shifts = selected_5p.copy()\n",
    "dft_76_5p = df_hits_5p[df_hits_5p.Shift.isin(target_shifts)]\n",
    "plotly_zone(dft_76_5p, y='Shift')\n",
    "target_shifts = selected_3p.copy()\n",
    "dft_76_3p = df_hits_3p[df_hits_3p.Shift.isin(target_shifts)]\n",
    "plotly_zone(dft_76_3p, y='Shift')\n",
    "# target_shifts = selected_3p.copy()\n",
    "# dft = df_hits_75nt_3p[df_hits_75nt_3p.Shift.isin(target_shifts)]\n",
    "# plotly_zone(dft, y='Shift')\n",
    "# bcr = base_calling_random(dft)\n",
    "# plotly_basecalling(*bcr)"
   ]
  },
  {
   "cell_type": "code",
   "execution_count": null,
   "id": "enclosed-webcam",
   "metadata": {},
   "outputs": [],
   "source": [
    "fig = plt.figure(figsize=(10, 6))\n",
    "\n",
    "# target_shifts = selected_5p.copy()\n",
    "# dft_76_5p = df_hits_5p[df_hits_5p.Shift.isin(target_shifts)]\n",
    "# dft = dft_76_5p.copy()\n",
    "target_shifts = selected_3p.copy()\n",
    "dft_76_3p = df_hits_3p[df_hits_3p.Shift.isin(target_shifts)]\n",
    "dft = dft_76_3p.copy()\n",
    "\n",
    "df_plt = dft.copy().sort_values('Shift')\n",
    "df_plt1 = df_plt.copy()\n",
    "df_plt1['Shift'] = df_plt1['Shift'].astype(int)\n",
    "\n",
    "plt.scatter(x=df_plt1['Mass'], y=df_plt1['Shift'])\n",
    "plt.legend()\n",
    "\n",
    "fig.tight_layout()\n",
    "svg_fpath = '/Users/xyuan/Downloads/demo.svg'\n",
    "plt.savefig(svg_fpath, transparent=True, dpi=300)\n"
   ]
  },
  {
   "cell_type": "code",
   "execution_count": null,
   "id": "therapeutic-monaco",
   "metadata": {},
   "outputs": [],
   "source": [
    "dfts_76_tmp = computational_data_seperation(dft_76_5p, dft_76_3p, 24581.38)\n",
    "plotly_zones(*dfts_76_tmp)\n",
    "dfts_76_tmp[0].shape\n",
    "\n",
    "df_gap_76_5p = find_gap_dots(dft_76_5p, dfts_76_tmp[0], fullmass_dot=pd.DataFrame())\n",
    "df_gap_76_5p.shape\n",
    "plotly_zones(dfts_76_tmp[0], df_gap_76_5p, y='Shift', names=['MassSum', 'GapFill'])\n",
    "df_gap_76_3p = find_gap_dots(dft_76_3p, dfts_76_tmp[1], fullmass_dot=pd.DataFrame())\n",
    "df_gap_76_3p.shape\n",
    "plotly_zones(dfts_76_tmp[1], df_gap_76_3p, y='Shift', names=['MassSum', 'GapFill'])"
   ]
  },
  {
   "cell_type": "code",
   "execution_count": null,
   "id": "dramatic-debut",
   "metadata": {},
   "outputs": [],
   "source": [
    "fig = plt.figure(figsize=(10, 6))\n",
    "\n",
    "# df_plt1 = dfts_76_tmp[0].copy()\n",
    "# df_plt2 = df_gap_76_5p.copy()\n",
    "df_plt1 = dfts_76_tmp[1].copy()\n",
    "df_plt2 = df_gap_76_3p.copy()\n",
    "\n",
    "# df_plt1['Shift'] = df_plt1['Shift'].astype(int)\n",
    "# df_plt2['Shift'] = df_plt2['Shift'].astype(int)\n",
    "\n",
    "plt.scatter(x=df_plt1['Mass'], y=df_plt1['Shift'])\n",
    "plt.scatter(x=df_plt2['Mass'], y=df_plt2['Shift'])\n",
    "plt.legend()\n",
    "\n",
    "fig.tight_layout()\n",
    "svg_fpath = '/Users/xyuan/Downloads/demo.svg'\n",
    "plt.savefig(svg_fpath, transparent=True, dpi=300)"
   ]
  },
  {
   "cell_type": "code",
   "execution_count": null,
   "id": "accepting-geology",
   "metadata": {},
   "outputs": [],
   "source": [
    "# 75nt\n",
    "target_shifts = selected_5p.copy()\n",
    "dft = df_hits_5p[df_hits_5p.Shift.isin(target_shifts)]\n",
    "plotly_zone(dft, y='Shift')\n",
    "# target_shifts = selected_3p.copy()\n",
    "# dft = df_hits_3p[df_hits_3p.Shift.isin(target_shifts)]\n",
    "# plotly_zone(dft, y='Shift')\n",
    "target_shifts = selected_3p.copy()\n",
    "dft = df_hits_75nt_3p[df_hits_75nt_3p.Shift.isin(target_shifts)]\n",
    "plotly_zone(dft, y='Shift')"
   ]
  },
  {
   "cell_type": "code",
   "execution_count": null,
   "id": "processed-image",
   "metadata": {},
   "outputs": [],
   "source": [
    "idxs = list()\n",
    "#create our callback function\n",
    "def on_selection(trace, points, selector):\n",
    "    print('points {}'.format(points.point_inds) )\n",
    "    idxs.extend(points.point_inds)\n",
    "\n",
    "def on_click(trace, points, selector):\n",
    "    #print('points {}'.format(points.point_inds) )\n",
    "    idxs.extend(points.point_inds)\n",
    "\n",
    "df_sample = dft\n",
    "f = zone_selection(df_sample, on_selection=on_selection, on_click=on_click, y='Shift')\n",
    "f"
   ]
  },
  {
   "cell_type": "code",
   "execution_count": null,
   "id": "starting-butter",
   "metadata": {},
   "outputs": [],
   "source": [
    "# df_result_5p = dft.copy()\n",
    "# df_result_3p = dft.copy()\n",
    "dft = df_result_3p.copy()\n",
    "dft.head()"
   ]
  },
  {
   "cell_type": "code",
   "execution_count": null,
   "id": "tired-possible",
   "metadata": {},
   "outputs": [],
   "source": [
    "dfm = match_dfs(df_phe_5p, df1)\n",
    "plotly_zone(dfm)\n",
    "dfm.shape[0]"
   ]
  },
  {
   "cell_type": "code",
   "execution_count": null,
   "id": "contained-midwest",
   "metadata": {},
   "outputs": [],
   "source": [
    "dft_5p = pd.read_excel('~/Downloads/tmp_5p.xlsx')\n",
    "dft_5p_mod = pd.read_excel('~/Downloads/tmp_5p_mod.xlsx')\n",
    "dft_3p = pd.read_excel('~/Downloads/tmp_3p.xlsx')\n",
    "dft_3p_mod = pd.read_excel('~/Downloads/tmp_3p_mod.xlsx')"
   ]
  },
  {
   "cell_type": "code",
   "execution_count": null,
   "id": "noble-distributor",
   "metadata": {},
   "outputs": [],
   "source": [
    "dfa = dft_3p.copy()\n",
    "dfb = dft_3p_mod.copy()\n",
    "\n",
    "dfa['Shift'] = -0.2\n",
    "dfb['Shift'] = dfb.Mass - dfa.Mass"
   ]
  },
  {
   "cell_type": "code",
   "execution_count": null,
   "id": "urban-dayton",
   "metadata": {},
   "outputs": [],
   "source": [
    "\"\"\"\n",
    "seq\n",
    "GCGGAUUUAGC\n",
    "GCLGAUUTAGC\n",
    "\"\"\" \n",
    "plotly_zones(dfa, dfb, y='Shift', names=['Without Modifications', 'With Modifications'])"
   ]
  },
  {
   "cell_type": "code",
   "execution_count": null,
   "id": "ranging-yesterday",
   "metadata": {},
   "outputs": [],
   "source": [
    "dfc = pd.DataFrame()\n",
    "dfc['BaseSeq'] = dfa['Base']\n",
    "dfc['BaseMass'] = dfa['Mass']\n",
    "dfc['Seq'] = dfb['Base']\n",
    "dfc['Mass'] = dfb['Mass']\n",
    "dfc['Shift'] = dfb['Shift']\n",
    "dfc"
   ]
  },
  {
   "cell_type": "code",
   "execution_count": null,
   "id": "single-belgium",
   "metadata": {},
   "outputs": [],
   "source": []
  }
 ],
 "metadata": {
  "kernelspec": {
   "display_name": "Python 3",
   "language": "python",
   "name": "python3"
  },
  "language_info": {
   "codemirror_mode": {
    "name": "ipython",
    "version": 3
   },
   "file_extension": ".py",
   "mimetype": "text/x-python",
   "name": "python",
   "nbconvert_exporter": "python",
   "pygments_lexer": "ipython3",
   "version": "3.7.3"
  }
 },
 "nbformat": 4,
 "nbformat_minor": 5
}
