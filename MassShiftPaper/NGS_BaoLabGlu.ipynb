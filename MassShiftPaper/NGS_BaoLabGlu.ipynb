{
 "cells": [
  {
   "cell_type": "code",
   "execution_count": null,
   "id": "right-beijing",
   "metadata": {},
   "outputs": [],
   "source": [
    "import pandas as pd"
   ]
  },
  {
   "cell_type": "code",
   "execution_count": null,
   "id": "criminal-drive",
   "metadata": {},
   "outputs": [],
   "source": [
    "%run ../modules/utils.ipynb\n",
    "%run ../modules/cds.ipynb\n",
    "%run ../modules/preprocessing.ipynb"
   ]
  },
  {
   "cell_type": "code",
   "execution_count": null,
   "id": "instant-freeware",
   "metadata": {},
   "outputs": [],
   "source": [
    "path = '/Users/xyuan/Documents/BioPharmaFinder/BaoLab/FirstBatch/Excels/S2to5combined_20ul_40min.xlsx'\n",
    "df_mock = load_data(path)\n",
    "path = '/Users/xyuan/Documents/BioPharmaFinder/BaoLab/FirstBatch/Excels/S6to10combined_20ul_40min.xlsx'\n",
    "df_rsv = load_data(path)\n",
    "df_mock.shape, df_rsv.shape"
   ]
  },
  {
   "cell_type": "code",
   "execution_count": null,
   "id": "micro-canadian",
   "metadata": {},
   "outputs": [],
   "source": [
    "path = '/Users/xyuan/Documents/BioPharmaFinder/BaoLab/FirstBatch/Excels/S2to5combined_20ul_9min.xlsx'\n",
    "df_mock_ = load_data(path)\n",
    "path = '/Users/xyuan/Documents/BioPharmaFinder/BaoLab/FirstBatch/Excels/S6to10combined_20ul_9min.xlsx'\n",
    "df_rsv_ = load_data(path)\n",
    "df_mock_.shape, df_rsv_.shape"
   ]
  },
  {
   "cell_type": "code",
   "execution_count": null,
   "id": "collectible-daily",
   "metadata": {},
   "outputs": [],
   "source": [
    "bcr = base_calling_random(df_mock, base_only=True)\n",
    "bcr[0].shape"
   ]
  },
  {
   "cell_type": "code",
   "execution_count": null,
   "id": "palestinian-niagara",
   "metadata": {},
   "outputs": [],
   "source": [
    "# plotly_zone(df_mock)\n",
    "# plotly_zone(bcr[0])\n",
    "pairs = [(i[0], i[1], i[2], int(i[0]//320)) for i in bcr[1]]\n",
    "pairs[:10]"
   ]
  },
  {
   "cell_type": "code",
   "execution_count": null,
   "id": "appropriate-leone",
   "metadata": {},
   "outputs": [],
   "source": [
    "seq = 'TCCCTGGTGGTCTAGTGGTTAGGATTCGGCGCTCTCACCGCCGCGGCCCGGGTTCGATTCCCGGTCAGGGAA'.replace('T', 'U') + 'CCA'\n",
    "new_pairs = list()\n",
    "new_masses = list()\n",
    "for idx, base in enumerate(seq):\n",
    "    for pair in pairs:\n",
    "        if idx+1 == pair[3] and base == pair[2]:\n",
    "            new_pairs.append(pair)\n",
    "            new_masses.append(pair[0])\n",
    "            new_masses.append(pair[1])\n",
    "\n",
    "df_tmp = bcr[0]\n",
    "df_new = df_tmp[df_tmp.Mass.isin(set(new_masses))]\n",
    "df_new.shape, len(new_pairs)"
   ]
  },
  {
   "cell_type": "code",
   "execution_count": null,
   "id": "brutal-qualification",
   "metadata": {},
   "outputs": [],
   "source": [
    "plotly_zone(df_new)"
   ]
  },
  {
   "cell_type": "code",
   "execution_count": null,
   "id": "geological-recognition",
   "metadata": {},
   "outputs": [],
   "source": [
    "plot_basecalling(bcr[0], new_pairs)"
   ]
  },
  {
   "cell_type": "code",
   "execution_count": null,
   "id": "legendary-durham",
   "metadata": {},
   "outputs": [],
   "source": [
    "dfm_mock = match_dfs(df_mock, df_mock_)\n",
    "dfm_rsv = match_dfs(df_rsv, df_rsv_)\n",
    "# plotly_zones(df_mock_, dfm)\n",
    "dfm_mock.shape, dfm_rsv.shape"
   ]
  },
  {
   "cell_type": "code",
   "execution_count": null,
   "id": "recent-stadium",
   "metadata": {},
   "outputs": [],
   "source": [
    "dfm = match_dfs(dfm_mock, dfm_rsv)\n",
    "plotly_zones(dfm_rsv, dfm)\n",
    "dfm.shape"
   ]
  },
  {
   "cell_type": "code",
   "execution_count": null,
   "id": "mathematical-wallace",
   "metadata": {},
   "outputs": [],
   "source": [
    "bcr = base_calling_random(dfm[dfm.Mass>2000])\n",
    "plotly_basecalling(*bcr)"
   ]
  },
  {
   "cell_type": "code",
   "execution_count": null,
   "id": "swiss-loading",
   "metadata": {},
   "outputs": [],
   "source": [
    "df_ngs_src = pd.read_excel('~/Downloads/EJ_summary.xlsx')\n",
    "\n",
    "df_ngs_src = df_ngs_src.drop_duplicates(subset=['seqs'])\n",
    "df_ngs_src.shape"
   ]
  },
  {
   "cell_type": "code",
   "execution_count": null,
   "id": "seeing-vintage",
   "metadata": {},
   "outputs": [],
   "source": [
    "df_ngs_src"
   ]
  },
  {
   "cell_type": "code",
   "execution_count": null,
   "id": "devoted-seven",
   "metadata": {},
   "outputs": [],
   "source": [
    "for idx, row in df_ngs_src.iterrows():\n",
    "    if idx != 5:\n",
    "        continue\n",
    "    seq = row['seq']\n",
    "    df_5p = pd.read_json(row['MassLadder5p'])\n",
    "    df_3p = pd.read_json(row['MassLadder3p'])\n",
    "    \n",
    "    df_5p['Base'] = list(seq)\n",
    "    df_3p['Base'] = list(seq[::-1])\n",
    "    \n",
    "    df_5p['Idx'] = np.array(df_5p.index)+1\n",
    "    df_3p['Idx'] = 75-np.array(df_3p.index)\n",
    "    print(row)\n",
    "#     break\n"
   ]
  },
  {
   "cell_type": "code",
   "execution_count": null,
   "id": "documentary-surfing",
   "metadata": {},
   "outputs": [],
   "source": [
    "df_ngs = df_3p.copy()\n",
    "\n",
    "# df_ngs = pd.read_excel('~/Studio/seq_bank/data/glu/Glu-CCC_5p.xlsx')\n",
    "# seq = 'UCCCUGGUGGUCUAGUGGUUAGGAUUCGGCGCUCCCACCGCCGCGGCCCGGGUUCGAUUCCCGGUCAGGGAACCA'\n",
    "# ori, ngs_seq = 5, seq\n",
    "# df_ngs['Base'] = list(ngs_seq)\n",
    "# if ori == 5:\n",
    "#     df_ngs['Idx'] = np.array(df_ngs.index)+1\n",
    "# else:\n",
    "#     df_ngs['Idx'] = 75-np.array(df_ngs.index)\n",
    "# df_ngs.head()"
   ]
  },
  {
   "cell_type": "code",
   "execution_count": null,
   "id": "married-sessions",
   "metadata": {},
   "outputs": [],
   "source": [
    "# remove adducts from df_glu\n",
    "adducts = [K, Na]\n",
    "dfm_adducts_list = list()\n",
    "for adduct in adducts:\n",
    "    dfm_r = match_dfs(df_mock, df_mock, shift=adduct)\n",
    "    dfm_adducts_list.append(dfm_r)\n",
    "dfm_adducts = pd.concat(dfm_adducts_list).drop_duplicates()\n",
    "df_mock_without_adducts = df_mock.drop(dfm_adducts.index)\n",
    "df_mock_adducts_only = dfm_adducts.copy()\n",
    "print(df_mock.shape[0], df_mock_without_adducts.shape[0])\n",
    "\n",
    "dfm_adducts_list = list()\n",
    "for adduct in adducts:\n",
    "    dfm_r = match_dfs(df_rsv, df_rsv, shift=adduct)\n",
    "    dfm_adducts_list.append(dfm_r)\n",
    "dfm_adducts = pd.concat(dfm_adducts_list).drop_duplicates()\n",
    "df_rsv_without_adducts = df_rsv.drop(dfm_adducts.index)\n",
    "df_rsv_adducts_only = dfm_adducts.copy()\n",
    "print(df_rsv.shape[0], df_rsv_without_adducts.shape[0])"
   ]
  },
  {
   "cell_type": "code",
   "execution_count": null,
   "id": "deluxe-theme",
   "metadata": {},
   "outputs": [],
   "source": [
    "plotly_zone(df_rsv_adducts_only)"
   ]
  },
  {
   "cell_type": "code",
   "execution_count": null,
   "id": "negative-being",
   "metadata": {},
   "outputs": [],
   "source": [
    "# df_wild, df_alkb = df_, df_gln1_alkb_without_adducts\n",
    "df_mock_sample = df_mock.copy()\n",
    "df_rsv_sample = df_rsv.copy()\n",
    "df_mock_sample.shape, df_rsv_sample.shape"
   ]
  },
  {
   "cell_type": "code",
   "execution_count": null,
   "id": "sudden-stations",
   "metadata": {},
   "outputs": [],
   "source": [
    "df_mock_adducts, df_rsv_adducts = df_mock_adducts_only, df_rsv_adducts_only\n",
    "df_mock_adducts.shape, df_rsv_adducts.shape"
   ]
  },
  {
   "cell_type": "code",
   "execution_count": null,
   "id": "independent-resource",
   "metadata": {},
   "outputs": [],
   "source": [
    "import multiprocessing\n",
    "from collections import namedtuple\n",
    "ShiftHit = namedtuple('ShiftHit', 'shift hit')\n",
    "\n",
    "def func(df_s1, df_s2, shift):\n",
    "    dfm = match_dfs(df_s1, df_s2, shift=shift)\n",
    "    sh = ShiftHit(shift=shift, hit=dfm.shape[0])\n",
    "    return sh\n",
    "\n",
    "PROCESSES = 8\n",
    "params = [(df_ngs, df_mock_sample, shift) for shift in np.arange(0, 160, 1)]\n",
    "with multiprocessing.Pool(PROCESSES) as pool:\n",
    "    shift_hits = pool.starmap(func, params)\n",
    "\n",
    "# df_shift_hits = pd.DataFrame(shift_hits)\n",
    "\n",
    "print('Done for regular sample.')\n",
    "params = [(df_ngs, df_mock_adducts, shift) for shift in np.arange(0, 160, 1)]\n",
    "with multiprocessing.Pool(PROCESSES) as pool:\n",
    "    shift_hits_adducts = pool.starmap(func, params)\n",
    "print('Done for adducts sample.')\n",
    "\n",
    "df_shift_hits = pd.DataFrame(shift_hits)\n",
    "df_shift_hits_adducts = pd.DataFrame(shift_hits_adducts)"
   ]
  },
  {
   "cell_type": "code",
   "execution_count": null,
   "id": "mathematical-assistant",
   "metadata": {},
   "outputs": [],
   "source": [
    "fig = px.scatter(df_shift_hits[df_shift_hits.hit<df_shift_hits.shape[0]], x='shift', y='hit', labels={'shift': 'Mass Shift', 'hit': 'Hit Count'})\n",
    "fig.show()\n",
    "fig = px.scatter(df_shift_hits_adducts[df_shift_hits_adducts.hit<df_shift_hits_adducts.shape[0]], x='shift', y='hit', labels={'shift': 'Mass Shift', 'hit': 'Hit Count'})\n",
    "fig.show()"
   ]
  },
  {
   "cell_type": "code",
   "execution_count": null,
   "id": "peripheral-usage",
   "metadata": {},
   "outputs": [],
   "source": [
    "df_sh_top = df_shift_hits[df_shift_hits.hit>=9]\n",
    "shifts = df_sh_top['shift']\n",
    "df_sh_top_adducts = df_shift_hits_adducts[df_shift_hits_adducts.hit>=5]\n",
    "shifts_adducts = df_sh_top_adducts['shift']\n",
    "shifts.shape, shifts_adducts.shape"
   ]
  },
  {
   "cell_type": "code",
   "execution_count": null,
   "id": "concerned-inspector",
   "metadata": {},
   "outputs": [],
   "source": [
    "shifts = [0, 14, 28]\n",
    "shifts_adducts = [0, 14]"
   ]
  },
  {
   "cell_type": "code",
   "execution_count": null,
   "id": "objective-astrology",
   "metadata": {},
   "outputs": [],
   "source": [
    "# find out data points which can generate base calling\n",
    "def func(df_s1, df_s2, shift):\n",
    "    _, df = peer_dfs(df_s1, df_s2, shift=shift)\n",
    "    \n",
    "    bcr = base_calling_random(df, base_only=True)\n",
    "    df = bcr[0].copy()\n",
    "    df['Shift'] = shift\n",
    "    return df\n",
    "\n",
    "PROCESSES = 8\n",
    "params = [(df_ngs, df_mock_sample, shift) for shift in shifts]\n",
    "with multiprocessing.Pool(PROCESSES) as pool:\n",
    "    df_basecallings = pool.starmap(func, params)\n",
    "print('Done for regular sample.')\n",
    "params = [(df_ngs, df_mock_adducts, shift) for shift in shifts_adducts]\n",
    "with multiprocessing.Pool(PROCESSES) as pool:\n",
    "    df_basecallings_adducts = pool.starmap(func, params)\n",
    "print('Done for adducts sample.')\n",
    "\n",
    "df_hits = pd.concat(df_basecallings).drop_duplicates()\n",
    "df_hits_adducts = pd.concat(df_basecallings_adducts).drop_duplicates()\n",
    "df_hits.shape, df_hits_adducts.shape"
   ]
  },
  {
   "cell_type": "code",
   "execution_count": null,
   "id": "resident-actress",
   "metadata": {},
   "outputs": [],
   "source": [
    "plotly_zone(df_hits, y='Shift')\n",
    "plotly_zone(df_hits_adducts, y='Shift')\n",
    "df_hits.shape, df_hits_adducts.shape"
   ]
  },
  {
   "cell_type": "code",
   "execution_count": null,
   "id": "guilty-sweet",
   "metadata": {},
   "outputs": [],
   "source": [
    "dft = df_hits[df_hits.Shift.isin([\n",
    "                                0.0, 14.0, 28.0, 28.1, \n",
    "                                    42.0, 42.1, \n",
    "                                    #56 # 70.0, 70.1, 70.2,\n",
    "                                  #37.9, 38, 52, 80\n",
    "                                 ])]\n",
    "dft_adducts = df_hits_adducts[df_hits_adducts.Shift.isin([\n",
    "                                  22, 36, 50, \n",
    "                                    38, 52, 66, 80\n",
    "                                 ])]\n",
    "# print(dft.shape)\n",
    "# plotly_zone(dft)\n",
    "bcr = base_calling_random(dft)\n",
    "plotly_basecalling(*bcr)\n",
    "\n",
    "plotly_zone(dft, y='Shift')\n",
    "plotly_zone(dft, y='Vol')\n",
    "# bcr = base_calling_random(dft_adducts)\n",
    "# plotly_basecalling(*bcr)\n",
    "# dft_joint = pd.concat([dft, dft_adducts]).drop_duplicates()\n",
    "# bcr = base_calling_random(dft_joint)\n",
    "# plotly_basecalling(*bcr)"
   ]
  },
  {
   "cell_type": "code",
   "execution_count": null,
   "id": "blind-speed",
   "metadata": {},
   "outputs": [],
   "source": []
  }
 ],
 "metadata": {
  "kernelspec": {
   "display_name": "Python 3",
   "language": "python",
   "name": "python3"
  },
  "language_info": {
   "codemirror_mode": {
    "name": "ipython",
    "version": 3
   },
   "file_extension": ".py",
   "mimetype": "text/x-python",
   "name": "python",
   "nbconvert_exporter": "python",
   "pygments_lexer": "ipython3",
   "version": "3.7.3"
  }
 },
 "nbformat": 4,
 "nbformat_minor": 5
}
