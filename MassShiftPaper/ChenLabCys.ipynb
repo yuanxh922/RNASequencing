{
 "cells": [
  {
   "cell_type": "code",
   "execution_count": null,
   "id": "ultimate-opera",
   "metadata": {},
   "outputs": [],
   "source": [
    "import pandas as pd"
   ]
  },
  {
   "cell_type": "code",
   "execution_count": null,
   "id": "fixed-object",
   "metadata": {},
   "outputs": [],
   "source": [
    "%run ../modules/utils.ipynb\n",
    "%run ../modules/cds.ipynb\n",
    "%run ../modules/preprocessing.ipynb\n",
    "\n",
    "%run ../modules/paper_figures.ipynb"
   ]
  },
  {
   "cell_type": "code",
   "execution_count": null,
   "id": "secondary-rental",
   "metadata": {},
   "outputs": [],
   "source": [
    "path = '/Users/xyuan/Documents/ChenLab/10Jun2021/degraded/23_t_Cys.xlsx'\n",
    "df_wild = load_data(path)\n",
    "path = '/Users/xyuan/Documents/ChenLab/10Jun2021/degraded/24_t_Cys_A.xlsx'\n",
    "df_alkb = load_data(path)\n",
    "df_wild.shape, df_alkb.shape"
   ]
  },
  {
   "cell_type": "code",
   "execution_count": null,
   "id": "lyric-hours",
   "metadata": {},
   "outputs": [],
   "source": [
    "df_wild = df_wild[df_wild.Mass>1500]\n",
    "df_alkb = df_alkb[df_alkb.Mass>1500]\n",
    "df_wild.shape, df_alkb.shape"
   ]
  },
  {
   "cell_type": "code",
   "execution_count": null,
   "id": "hired-fence",
   "metadata": {},
   "outputs": [],
   "source": [
    "_, df_alkb_only = diff_dfs(df_wild, df_alkb)\n",
    "df_alkb_only.shape"
   ]
  },
  {
   "cell_type": "code",
   "execution_count": null,
   "id": "general-toilet",
   "metadata": {},
   "outputs": [],
   "source": [
    "import multiprocessing\n",
    "from collections import namedtuple\n",
    "ShiftHit = namedtuple('ShiftHit', 'shift hit')\n",
    "\n",
    "def func(df_s1, df_s2, shift):\n",
    "    dfm = match_dfs(df_s1, df_s2, shift=shift)\n",
    "    sh = ShiftHit(shift=shift, hit=dfm.shape[0])\n",
    "    return sh\n",
    "\n",
    "PROCESSES = 8\n",
    "# params = [(df_intact_wild2, df_intact_alkb2_only, shift) for shift in np.arange(-64, 64, 1)]\n",
    "params = [(df_wild, df_alkb_only, shift) for shift in np.arange(-64, 64, 1)]\n",
    "# params = [(df_comm_wild2, df_comm_wild2, shift) for shift in np.arange(1, 64, 1)]\n",
    "# params = [(df_wild2, df_alkb2, shift) for shift in np.arange(1, 100, 1)]\n",
    "# params = [(df_sample, shift) for shift in np.arange(1, 64, 0.1)]\n",
    "with multiprocessing.Pool(PROCESSES) as pool:\n",
    "    shift_hits = pool.starmap(func, params)\n",
    "\n",
    "df_shift_hits = pd.DataFrame(shift_hits)    "
   ]
  },
  {
   "cell_type": "code",
   "execution_count": null,
   "id": "smart-astrology",
   "metadata": {},
   "outputs": [],
   "source": [
    "# df_sh = df_shift_hits.copy()\n",
    "# df_sh.to_excel('Shift_Cys.xlsx')"
   ]
  },
  {
   "cell_type": "code",
   "execution_count": null,
   "id": "endangered-yield",
   "metadata": {},
   "outputs": [],
   "source": [
    "df_sh_top = df_shift_hits.sort_values('hit', ascending=False).reset_index(drop=True).iloc[:10].copy()"
   ]
  },
  {
   "cell_type": "code",
   "execution_count": null,
   "id": "hired-frontier",
   "metadata": {},
   "outputs": [],
   "source": [
    "def func(shift, df_s1, df_s2):\n",
    "    dfm_l, dfm_r = peer_dfs(df_s1, df_s2, shift=shift)\n",
    "    df = dfm_l if dfm_l.shape[0] < dfm_r.shape[0] else dfm_r\n",
    "    bcr = base_calling_random(df)\n",
    "    return len(bcr[1])\n",
    "\n",
    "df_s1 = df_wild.copy()\n",
    "df_s2 = df_alkb_only.copy()\n",
    "# df_s1 = df_glu2.copy()\n",
    "# df_s2 = df_glu2_alkb_only.copy()\n",
    "df_sh_top['basecallings'] = df_sh_top.apply(lambda x: func(x['shift'], df_s1, df_s2), axis=1)"
   ]
  },
  {
   "cell_type": "code",
   "execution_count": null,
   "id": "color-cassette",
   "metadata": {},
   "outputs": [],
   "source": [
    "fig = plt.figure(figsize=(2.5, 1.5))\n",
    "df_plt = df_sh_top.copy().sort_values('shift')\n",
    "df_plt1 = df_plt.copy()\n",
    "df_plt1['shift'] = df_plt1['shift'].astype(int)\n",
    "df_plt1 = df_plt1.set_index('shift')\n",
    "df_plt1.plot(kind='bar',figsize=(2.5, 1.5))\n",
    "plt.legend()\n",
    "\n",
    "fig.tight_layout()\n",
    "svg_fpath = '/Users/xyuan/Downloads/demo.svg'\n",
    "plt.savefig(svg_fpath, transparent=True, dpi=300)"
   ]
  },
  {
   "cell_type": "code",
   "execution_count": null,
   "id": "emotional-trademark",
   "metadata": {},
   "outputs": [],
   "source": [
    "svg_fpath = '/Users/xyuan/Downloads/demo.svg'\n",
    "draw_df(df_shift_hits[df_shift_hits.hit>0], svg_fpath, x='shift', y='hit')"
   ]
  },
  {
   "cell_type": "code",
   "execution_count": null,
   "id": "detailed-benjamin",
   "metadata": {},
   "outputs": [],
   "source": []
  }
 ],
 "metadata": {
  "kernelspec": {
   "display_name": "Python 3",
   "language": "python",
   "name": "python3"
  },
  "language_info": {
   "codemirror_mode": {
    "name": "ipython",
    "version": 3
   },
   "file_extension": ".py",
   "mimetype": "text/x-python",
   "name": "python",
   "nbconvert_exporter": "python",
   "pygments_lexer": "ipython3",
   "version": "3.7.3"
  }
 },
 "nbformat": 4,
 "nbformat_minor": 5
}
