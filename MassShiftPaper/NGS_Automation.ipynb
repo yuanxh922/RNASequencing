{
 "cells": [
  {
   "cell_type": "code",
   "execution_count": null,
   "id": "prescription-heating",
   "metadata": {},
   "outputs": [],
   "source": [
    "import pandas as pd\n",
    "import numpy as np"
   ]
  },
  {
   "cell_type": "code",
   "execution_count": null,
   "id": "miniature-johns",
   "metadata": {},
   "outputs": [],
   "source": [
    "%run ../modules/utils.ipynb\n",
    "%run ../modules/cds.ipynb\n",
    "%run ../modules/preprocessing.ipynb"
   ]
  },
  {
   "cell_type": "code",
   "execution_count": null,
   "id": "intellectual-distributor",
   "metadata": {},
   "outputs": [],
   "source": [
    "\"\"\"Task 1:\n",
    "given a list of NGS sequences, find out which sequences are relative abundance in the dataset.\n",
    "\"\"\""
   ]
  },
  {
   "cell_type": "code",
   "execution_count": null,
   "id": "motivated-democrat",
   "metadata": {},
   "outputs": [],
   "source": [
    "\"\"\"Task 2:\n",
    "given a list of NGS sequences, find out the Mass V.S. Shift map\n",
    "\"\"\""
   ]
  },
  {
   "cell_type": "code",
   "execution_count": null,
   "id": "present-broadcast",
   "metadata": {},
   "outputs": [],
   "source": [
    "path = '/Users/xyuan/Documents/BioPharmaFinder/BaoLab/FirstBatch/Excels/S2to5combined_20ul_40min.xlsx'\n",
    "df_mock = load_data(path)\n",
    "path = '/Users/xyuan/Documents/BioPharmaFinder/BaoLab/FirstBatch/Excels/S6to10combined_20ul_40min.xlsx'\n",
    "df_rsv = load_data(path)\n",
    "df_mock.shape, df_rsv.shape"
   ]
  },
  {
   "cell_type": "code",
   "execution_count": null,
   "id": "lovely-belfast",
   "metadata": {},
   "outputs": [],
   "source": [
    "path = '/Users/xyuan/Documents/BioPharmaFinder/BaoLab/FirstBatch/Excels/UTMB1.xlsx'\n",
    "df_intact = load_data(path)\n",
    "df_intact.shape"
   ]
  },
  {
   "cell_type": "code",
   "execution_count": null,
   "id": "compatible-bedroom",
   "metadata": {},
   "outputs": [],
   "source": [
    "# remove adducts from df_glu\n",
    "adducts = [K, Na]\n",
    "dfm_adducts_list = list()\n",
    "for adduct in adducts:\n",
    "    dfm_r = match_dfs(df_mock, df_mock, shift=adduct)\n",
    "    dfm_adducts_list.append(dfm_r)\n",
    "dfm_adducts = pd.concat(dfm_adducts_list).drop_duplicates()\n",
    "df_mock_without_adducts = df_mock.drop(dfm_adducts.index)\n",
    "df_mock_adducts_only = dfm_adducts.copy()\n",
    "print(df_mock.shape[0], df_mock_without_adducts.shape[0])\n",
    "\n",
    "dfm_adducts_list = list()\n",
    "for adduct in adducts:\n",
    "    dfm_r = match_dfs(df_rsv, df_rsv, shift=adduct)\n",
    "    dfm_adducts_list.append(dfm_r)\n",
    "dfm_adducts = pd.concat(dfm_adducts_list).drop_duplicates()\n",
    "df_rsv_without_adducts = df_rsv.drop(dfm_adducts.index)\n",
    "df_rsv_adducts_only = dfm_adducts.copy()\n",
    "print(df_rsv.shape[0], df_rsv_without_adducts.shape[0])"
   ]
  },
  {
   "cell_type": "code",
   "execution_count": null,
   "id": "armed-glossary",
   "metadata": {},
   "outputs": [],
   "source": [
    "df_mock_sample = df_mock.copy()\n",
    "df_rsv_sample = df_rsv.copy()\n",
    "df_mock_sample.shape, df_rsv_sample.shape"
   ]
  },
  {
   "cell_type": "code",
   "execution_count": null,
   "id": "stock-biotechnology",
   "metadata": {},
   "outputs": [],
   "source": [
    "df_mock_adducts, df_rsv_adducts = df_mock_adducts_only, df_rsv_adducts_only\n",
    "df_mock_adducts.shape, df_rsv_adducts.shape"
   ]
  },
  {
   "cell_type": "code",
   "execution_count": null,
   "id": "liable-implement",
   "metadata": {},
   "outputs": [],
   "source": []
  },
  {
   "cell_type": "markdown",
   "id": "affiliated-compatibility",
   "metadata": {},
   "source": [
    "Task 1"
   ]
  },
  {
   "cell_type": "code",
   "execution_count": null,
   "id": "hispanic-demographic",
   "metadata": {},
   "outputs": [],
   "source": [
    "df = pd.read_excel('~/Downloads/a.xlsx')\n",
    "df.shape"
   ]
  },
  {
   "cell_type": "code",
   "execution_count": null,
   "id": "breeding-shadow",
   "metadata": {},
   "outputs": [],
   "source": [
    "shifts = [0, 14]"
   ]
  },
  {
   "cell_type": "code",
   "execution_count": null,
   "id": "minor-machine",
   "metadata": {},
   "outputs": [],
   "source": [
    "import multiprocessing\n",
    "from collections import namedtuple\n",
    "ShiftHit = namedtuple('ShiftHit', 'shift hit')\n",
    "\n",
    "# find out data points which can generate base calling\n",
    "def func(df_s1, df_s2, shift):\n",
    "    _, df = peer_dfs(df_s1, df_s2, shift=shift)\n",
    "    \n",
    "    bcr = base_calling_random(df, base_only=True)\n",
    "    df = bcr[0].copy()\n",
    "    df['Shift'] = shift\n",
    "    return df\n",
    "\n",
    "def shift_hits(df_ngs, df_src, shifts):\n",
    "    PROCESSES = 8\n",
    "    params = [(df_ngs, df_src, shift) for shift in shifts]\n",
    "    with multiprocessing.Pool(PROCESSES) as pool:\n",
    "        df_basecallings = pool.starmap(func, params)\n",
    "\n",
    "    df_hits = pd.concat(df_basecallings).drop_duplicates()\n",
    "    return df_hits\n"
   ]
  },
  {
   "cell_type": "code",
   "execution_count": null,
   "id": "retired-ticket",
   "metadata": {},
   "outputs": [],
   "source": [
    "df_ngs_src = pd.read_excel('~/Downloads/a.xlsx')\n",
    "# df_ngs_src = pd.read_excel('~/Downloads/EJ_mock.xlsx')\n",
    "# df_ngs_src = pd.read_excel('~/Downloads/EJ_rsv.xlsx')\n",
    "# df_ngs_src = pd.read_excel('~/Downloads/EJ_summary.xlsx')\n",
    "\n",
    "# ngs_path = '~/Documents/BioPharmaFinder/BaoLab/NGS/tRNA-Glu-CTC_CNvRSV_EJ.xlsx'\n",
    "# df_ngs_src = pd.read_excel(ngs_path, 1)\n",
    "df_ngs_src.shape, df_ngs_src.head()"
   ]
  },
  {
   "cell_type": "code",
   "execution_count": null,
   "id": "lightweight-bosnia",
   "metadata": {},
   "outputs": [],
   "source": [
    "def T2U(seq):\n",
    "    \"\"\"Change input sequence from DNA to RNA stype, 'T' to 'U' \n",
    "    \"\"\"\n",
    "    # print('input', seq)\n",
    "    seq = seq.replace('T', 'U').replace('t', 'U')\n",
    "    return seq\n",
    "\n",
    "df_ngs_src['seq'] = df_ngs_src.seqs.apply(T2U)\n",
    "df_ngs_src.head()"
   ]
  },
  {
   "cell_type": "code",
   "execution_count": null,
   "id": "smooth-broadway",
   "metadata": {},
   "outputs": [],
   "source": [
    "df_ngs_src = df_ngs_src.drop_duplicates(subset=['seqs'])\n",
    "df_ngs_src.shape[0]"
   ]
  },
  {
   "cell_type": "code",
   "execution_count": null,
   "id": "legislative-stranger",
   "metadata": {},
   "outputs": [],
   "source": [
    "dft = df_ngs_src.copy()\n",
    "# df_sample = df_mock_sample\n",
    "df_sample = df_rsv_sample\n",
    "for idx, row in dft.iterrows():\n",
    "#     if len(row['seqs']) < 65:\n",
    "#         continue\n",
    "    seq = row['seq']\n",
    "    df_5p = pd.read_json(row['MassLadder5p'])\n",
    "    df_3p = pd.read_json(row['MassLadder3p'])\n",
    "    \n",
    "    df_5p['Base'] = list(seq)\n",
    "    df_3p['Base'] = list(seq[::-1])\n",
    "    \n",
    "    df_5p['Idx'] = np.array(df_5p.index)+1\n",
    "    df_3p['Idx'] = 75-np.array(df_3p.index)\n",
    "    \n",
    "    df_hits_5p = shift_hits(df_5p, df_sample, shifts)\n",
    "    df_hits_3p = shift_hits(df_3p, df_sample, shifts)\n",
    "    print(idx, seq, '5´ hits:', df_hits_5p.shape[0], '3´ hits:', df_hits_3p.shape[0])\n",
    "    df_ngs_src.loc[idx, 'Hit5Ladder'] = df_hits_5p.shape[0]\n",
    "    df_ngs_src.loc[idx, 'Hit3Ladder'] = df_hits_3p.shape[0]\n",
    "\n",
    "# df_ngs_src.to_excel('~/Downloads/summary_result.xlsx')\n",
    "df_ngs_src.to_excel('~/Downloads/a_result.xlsx')\n",
    "    \n",
    "#     break"
   ]
  },
  {
   "cell_type": "code",
   "execution_count": null,
   "id": "olympic-sherman",
   "metadata": {},
   "outputs": [],
   "source": [
    "df_hits = shift_hits(df_5p, df_mock_sample, shifts)\n",
    "df_hits.shape"
   ]
  },
  {
   "cell_type": "code",
   "execution_count": null,
   "id": "italian-pantyhose",
   "metadata": {},
   "outputs": [],
   "source": [
    "plotly_zone(df_hits, y='Shift')\n",
    "df_hits"
   ]
  },
  {
   "cell_type": "code",
   "execution_count": null,
   "id": "organizational-explanation",
   "metadata": {},
   "outputs": [],
   "source": [
    "df.head()"
   ]
  },
  {
   "cell_type": "code",
   "execution_count": null,
   "id": "pointed-turning",
   "metadata": {},
   "outputs": [],
   "source": [
    "# p-seq-OH, OH-seq-p, mass sum + h2o\n",
    "\n",
    "# p-seq-p, mass sum + h2o + 80\n",
    "\n",
    "# OH-seq-OH, mass sum + h2o - 80"
   ]
  },
  {
   "cell_type": "code",
   "execution_count": null,
   "id": "beginning-narrow",
   "metadata": {},
   "outputs": [],
   "source": [
    "mass_glu = 147.1"
   ]
  },
  {
   "cell_type": "code",
   "execution_count": null,
   "id": "skilled-married",
   "metadata": {},
   "outputs": [],
   "source": [
    "def reg_mass(seq):\n",
    "    \"\"\"given a sequence(contains ACGU only), calculate the intact mass\n",
    "    \"\"\"\n",
    "    mass = 0\n",
    "    bases = {'A': 329.0525,\n",
    "            'C': 305.0413,\n",
    "            'G': 345.0474,\n",
    "            'U': 306.0253}\n",
    "    \n",
    "    for base in bases:\n",
    "        num = seq.count(base)\n",
    "        mass += num * bases.get(base)\n",
    "\n",
    "    mass += H2O\n",
    "    return mass\n"
   ]
  },
  {
   "cell_type": "code",
   "execution_count": null,
   "id": "exterior-allen",
   "metadata": {},
   "outputs": [],
   "source": [
    "# mass = reg_mass(seq)\n",
    "# mass_p = mass + 80\n",
    "# mass_oh = mass - 80\n",
    "# mass_amino = mass + mass_glu - H2O\n",
    "\n",
    "# mass, mass_p, mass_oh, mass_amino"
   ]
  },
  {
   "cell_type": "code",
   "execution_count": null,
   "id": "eastern-calendar",
   "metadata": {},
   "outputs": [],
   "source": [
    "dft = df_ngs_src.dropna(subset=['seq']).copy()\n",
    "df_sample = df_rsv_sample\n",
    "for idx, row in dft.iterrows():\n",
    "    seq = row['seq']\n",
    "#     print(idx, row['seqs'])\n",
    "    mass = reg_mass(seq)\n",
    "    df_ngs_src.loc[idx, 'MassReg'] = mass + C+C+A if len(seq)>=72 else 0\n",
    "    df_ngs_src.loc[idx, 'MassP'] = mass + 80\n",
    "    df_ngs_src.loc[idx, 'MassOH'] = mass - 80\n",
    "    df_ngs_src.loc[idx, 'MassAmino'] = mass + mass_glu - H2O"
   ]
  },
  {
   "cell_type": "code",
   "execution_count": null,
   "id": "attached-pennsylvania",
   "metadata": {},
   "outputs": [],
   "source": [
    "df_ngs_src.head()"
   ]
  },
  {
   "cell_type": "code",
   "execution_count": null,
   "id": "close-organizer",
   "metadata": {},
   "outputs": [],
   "source": [
    "# df = df_ngs_src.copy()\n",
    "# df.rename(columns={'MassP': \"Mass\"}, inplace=True)\n",
    "# plotly_zone(df, x='Mass', y='Vol')\n",
    "plotly_zones(df, dfm_seq, y='Vol')\n",
    "# df = df_ngs_src[['seq', 'MassH']].copy()\n",
    "# df.rename(columns={'MassOH': \"Mass\"}, inplace=True)\n",
    "# df = df_ngs_src[['seq', 'MassAmino']].copy()\n",
    "# df.rename(columns={'MassAmino': \"Mass\"}, inplace=True)"
   ]
  },
  {
   "cell_type": "code",
   "execution_count": null,
   "id": "rational-superior",
   "metadata": {},
   "outputs": [],
   "source": [
    "df[['name', 'b', 'seqs', 'Vol', 'Mass']]"
   ]
  },
  {
   "cell_type": "code",
   "execution_count": null,
   "id": "received-apartment",
   "metadata": {},
   "outputs": [],
   "source": [
    "dfm_seq, dfm = peer_dfs(df, df_intact)\n",
    "dfm_seq.shape, dfm.shape"
   ]
  },
  {
   "cell_type": "code",
   "execution_count": null,
   "id": "transparent-cinema",
   "metadata": {},
   "outputs": [],
   "source": [
    "dfm_seq#[['seq', 'Mass', 'Vol']]#.iloc[:10]\n",
    "# dfm_seq[['seq', 'Mass', 'Vol']].sort_values('Mass').groupby(['Mass']).head(1)"
   ]
  },
  {
   "cell_type": "code",
   "execution_count": null,
   "id": "understood-empire",
   "metadata": {},
   "outputs": [],
   "source": [
    "# shifts\n",
    "# dft.sort_values('Mass').Mass\n",
    "plotly_zone(df_mock_sample)"
   ]
  },
  {
   "cell_type": "code",
   "execution_count": null,
   "id": "powered-steel",
   "metadata": {},
   "outputs": [],
   "source": [
    "dft = dfm_seq.copy()\n",
    "df_sample = df_mock_sample\n",
    "shifts = [0, 14]\n",
    "# masses = [11032.3456, 11644.3962]\n",
    "masses = [12582.5473]\n",
    "# df_sample = df_rsv_sample\n",
    "for idx, row in dft.iterrows():\n",
    "    seq = row['seq']\n",
    "    df_5p = pd.read_json(row['MassLadder5p'])\n",
    "    df_5p['Base'] = list(seq)\n",
    "    df_5p['Idx'] = np.array(df_5p.index)+1\n",
    "    \n",
    "    df_hits_5p = shift_hits(df_5p, df_sample, shifts)\n",
    "    dfm_seq.loc[idx, 'Hit5Count'] = df_hits_5p.shape[0]\n",
    "    dfm_seq.loc[idx, 'Hit5Ladder'] = df_hits_5p.to_json()\n",
    "\n",
    "dfm_seq.to_excel('~/Downloads/b_result.xlsx')"
   ]
  },
  {
   "cell_type": "code",
   "execution_count": null,
   "id": "reflected-taylor",
   "metadata": {},
   "outputs": [],
   "source": [
    "dfm_seq.sort_values('Hit5Count', ascending=False)[['seq', 'Mass', 'Hit5Count']].iloc[:30]"
   ]
  },
  {
   "cell_type": "code",
   "execution_count": null,
   "id": "emerging-shark",
   "metadata": {},
   "outputs": [],
   "source": [
    "dft = dfm_seq.copy()\n",
    "df_sample = df_mock_sample\n",
    "shifts = [0, 14, 16, 18]\n",
    "# masses = [11032.3456, 11644.3962]\n",
    "masses = [12582.5473]\n",
    "# df_sample = df_rsv_sample\n",
    "for idx, row in dft.iterrows():\n",
    "    if not abs(row['Mass'] - masses[0]) < 1E-3:\n",
    "#     if not (abs(row['Mass'] - masses[0]) < 1E-3 or abs(row['Mass'] - masses[1]) < 1E-3):\n",
    "#         print(row['Mass'])\n",
    "        continue\n",
    "#     if len(row['seqs']) < 65:\n",
    "#         continue\n",
    "    seq = row['seq']\n",
    "    df_5p = pd.read_json(row['MassLadder5p'])\n",
    "#     df_3p = pd.read_json(row['MassLadder3p'])\n",
    "    \n",
    "    df_5p['Base'] = list(seq)\n",
    "#     df_3p['Base'] = list(seq[::-1])\n",
    "    \n",
    "    df_5p['Idx'] = np.array(df_5p.index)+1\n",
    "#     df_3p['Idx'] = 75-np.array(df_3p.index)\n",
    "    \n",
    "    df_hits_5p = shift_hits(df_5p, df_sample, shifts)\n",
    "#     df_hits_3p = shift_hits(df_3p, df_sample, shifts)\n",
    "    print(idx, seq, row['Mass'], '5´ hits count:', df_hits_5p.shape[0], '5´ hits:\\n', df_hits_5p.sort_values(['Shift', 'Mass']))\n",
    "    plotly_zone(df_hits_5p, y='Shift')"
   ]
  },
  {
   "cell_type": "code",
   "execution_count": null,
   "id": "governmental-psychiatry",
   "metadata": {},
   "outputs": [],
   "source": [
    "plotly_zones(df_intact, dfm, y='RT')\n",
    "# plotly_zone(dfm_mock)\n",
    "print(df_intact[(df_intact.Mass>10656)&(df_intact.Mass<14533)].sort_values('Mass'))\n",
    "print(dfm.sort_values('Mass'))"
   ]
  },
  {
   "cell_type": "code",
   "execution_count": null,
   "id": "liquid-occupation",
   "metadata": {},
   "outputs": [],
   "source": []
  },
  {
   "cell_type": "code",
   "execution_count": null,
   "id": "smaller-mustang",
   "metadata": {},
   "outputs": [],
   "source": [
    "dfm_seq.to_excel('~/Downloads/tmp.xlsx')"
   ]
  },
  {
   "cell_type": "code",
   "execution_count": null,
   "id": "automated-cartoon",
   "metadata": {},
   "outputs": [],
   "source": [
    "target = 11032.2456\n",
    "dfm_seq[(dfm_seq.Mass>target-0.5)&(dfm_seq.Mass<target+0.5)]"
   ]
  },
  {
   "cell_type": "code",
   "execution_count": null,
   "id": "private-appendix",
   "metadata": {},
   "outputs": [],
   "source": [
    "bcr = base_calling_random(dfm)"
   ]
  },
  {
   "cell_type": "code",
   "execution_count": null,
   "id": "related-testimony",
   "metadata": {},
   "outputs": [],
   "source": [
    "plotly_basecalling(dfm, bcr[1])"
   ]
  },
  {
   "cell_type": "code",
   "execution_count": null,
   "id": "coupled-surprise",
   "metadata": {},
   "outputs": [],
   "source": [
    "dfm_seq.seq.astype(str)\n",
    "# dfm_seq.drop_duplicates(subset=[seq])"
   ]
  },
  {
   "cell_type": "code",
   "execution_count": null,
   "id": "published-trainer",
   "metadata": {},
   "outputs": [],
   "source": [
    "dfm_seq.info()"
   ]
  },
  {
   "cell_type": "code",
   "execution_count": null,
   "id": "geological-serbia",
   "metadata": {},
   "outputs": [],
   "source": []
  }
 ],
 "metadata": {
  "kernelspec": {
   "display_name": "Python 3",
   "language": "python",
   "name": "python3"
  },
  "language_info": {
   "codemirror_mode": {
    "name": "ipython",
    "version": 3
   },
   "file_extension": ".py",
   "mimetype": "text/x-python",
   "name": "python",
   "nbconvert_exporter": "python",
   "pygments_lexer": "ipython3",
   "version": "3.7.3"
  }
 },
 "nbformat": 4,
 "nbformat_minor": 5
}
