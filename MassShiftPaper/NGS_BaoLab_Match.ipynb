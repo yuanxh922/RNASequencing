{
 "cells": [
  {
   "cell_type": "code",
   "execution_count": null,
   "id": "armed-carry",
   "metadata": {},
   "outputs": [],
   "source": [
    "import pandas as pd"
   ]
  },
  {
   "cell_type": "code",
   "execution_count": null,
   "id": "amateur-flush",
   "metadata": {},
   "outputs": [],
   "source": [
    "%run ../modules/utils.ipynb\n",
    "%run ../modules/cds.ipynb\n",
    "%run ../modules/preprocessing.ipynb"
   ]
  },
  {
   "cell_type": "code",
   "execution_count": null,
   "id": "reflected-bulgarian",
   "metadata": {},
   "outputs": [],
   "source": [
    "path = '/Users/xyuan/Documents/BioPharmaFinder/BaoLab/FirstBatch/Excels/S2to5combined_20ul_40min.xlsx'\n",
    "df_mock = load_data(path)\n",
    "path = '/Users/xyuan/Documents/BioPharmaFinder/BaoLab/FirstBatch/Excels/S6to10combined_20ul_40min.xlsx'\n",
    "df_rsv = load_data(path)\n",
    "df_mock.shape, df_rsv.shape"
   ]
  },
  {
   "cell_type": "code",
   "execution_count": null,
   "id": "fourth-fiber",
   "metadata": {},
   "outputs": [],
   "source": [
    "path = '/Users/xyuan/Documents/BioPharmaFinder/BaoLab/SecondBatch/OE240_UTMB_Mock_5ul_9min_IPM_LP_420to2k_21Dec2020.xlsx'\n",
    "df_mock_2 = load_data(path)\n",
    "path = '/Users/xyuan/Documents/BioPharmaFinder/BaoLab/SecondBatch/OE240_UTMB_RSV_5ul_9min_IPM_LP_420to2k_21Dec2020.xlsx'\n",
    "df_rsv_2 = load_data(path)"
   ]
  },
  {
   "cell_type": "code",
   "execution_count": null,
   "id": "applied-carol",
   "metadata": {},
   "outputs": [],
   "source": [
    "# plotly_zone(df_mock)\n",
    "# plotly_zone(df_mock_2)\n",
    "plotly_zone(df_rsv)\n",
    "plotly_zone(df_rsv_2)"
   ]
  },
  {
   "cell_type": "code",
   "execution_count": null,
   "id": "single-nirvana",
   "metadata": {},
   "outputs": [],
   "source": [
    "df_mock_24k = df_mock[(df_mock.Mass>23900)&(df_mock.Mass<25000)]\n",
    "df_rsv_24k = df_rsv[(df_rsv.Mass>23900)&(df_rsv.Mass<25000)]"
   ]
  },
  {
   "cell_type": "code",
   "execution_count": null,
   "id": "statistical-reason",
   "metadata": {},
   "outputs": [],
   "source": [
    "df_mock_top = local_top(df_mock)\n",
    "df_rsv_top = local_top(df_rsv)"
   ]
  },
  {
   "cell_type": "code",
   "execution_count": null,
   "id": "rental-dealing",
   "metadata": {},
   "outputs": [],
   "source": [
    "# dfm1 = match_dfs(df_mock_24k, df_rsv_24k, shift=M)\n",
    "# plotly_zone(dfm1, y='Vol')\n",
    "# dfm2 = match_dfs(df_mock_24k, df_rsv_24k, shift=-1*M)\n",
    "# plotly_zone(dfm2, y='Vol')\n",
    "# plotly_zones(dfm1, dfm2)\n",
    "dfm_l, dfm_r = peer_dfs(df_mock_24k, df_rsv_24k, shift=-1*M)\n",
    "dfm_l.Vol.sum(), dfm_r.Vol.sum()"
   ]
  },
  {
   "cell_type": "code",
   "execution_count": null,
   "id": "technical-broadcast",
   "metadata": {},
   "outputs": [],
   "source": [
    "plotly_zone(df_mock_24k, y='Vol')\n",
    "plotly_zone(df_rsv_24k, y='Vol')"
   ]
  },
  {
   "cell_type": "code",
   "execution_count": null,
   "id": "direct-stage",
   "metadata": {},
   "outputs": [],
   "source": [
    "dfm = match_dfs(df_mock_top, df_rsv_top)"
   ]
  },
  {
   "cell_type": "code",
   "execution_count": null,
   "id": "seven-soundtrack",
   "metadata": {},
   "outputs": [],
   "source": [
    "dft = df_mock[(df_mock.Mass>6050)&(df_mock.Mass<6080)]\n",
    "plotly_zone(dft, y='Vol')\n",
    "dft = df_rsv[(df_rsv.Mass>6050)&(df_rsv.Mass<6080)]\n",
    "plotly_zone(dft, y='Vol')"
   ]
  },
  {
   "cell_type": "code",
   "execution_count": null,
   "id": "dental-newcastle",
   "metadata": {},
   "outputs": [],
   "source": [
    "\n",
    "bcr = base_calling_random(df_mock_top)\n",
    "plotly_basecalling(*bcr)\n",
    "\n",
    "bcr = base_calling_random(df_rsv_top)\n",
    "plotly_basecalling(*bcr)\n",
    "\n",
    "bcr = base_calling_random(dfm)\n",
    "plotly_basecalling(*bcr)"
   ]
  },
  {
   "cell_type": "code",
   "execution_count": null,
   "id": "fifth-intranet",
   "metadata": {},
   "outputs": [],
   "source": []
  }
 ],
 "metadata": {
  "kernelspec": {
   "display_name": "Python 3",
   "language": "python",
   "name": "python3"
  },
  "language_info": {
   "codemirror_mode": {
    "name": "ipython",
    "version": 3
   },
   "file_extension": ".py",
   "mimetype": "text/x-python",
   "name": "python",
   "nbconvert_exporter": "python",
   "pygments_lexer": "ipython3",
   "version": "3.7.3"
  }
 },
 "nbformat": 4,
 "nbformat_minor": 5
}
