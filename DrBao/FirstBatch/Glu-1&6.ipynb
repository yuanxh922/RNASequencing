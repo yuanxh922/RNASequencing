{
 "cells": [
  {
   "cell_type": "code",
   "execution_count": null,
   "metadata": {},
   "outputs": [],
   "source": [
    "import pandas as pd\n",
    "import numpy as np\n",
    "import matplotlib\n",
    "import plotly.express as px"
   ]
  },
  {
   "cell_type": "code",
   "execution_count": null,
   "metadata": {},
   "outputs": [],
   "source": [
    "%run ../modules/utils.ipynb\n",
    "%run ../modules/cds.ipynb\n",
    "%run ../modules/preprocessing.ipynb"
   ]
  },
  {
   "cell_type": "markdown",
   "metadata": {},
   "source": [
    "# Processing UTMB1_std"
   ]
  },
  {
   "cell_type": "code",
   "execution_count": null,
   "metadata": {},
   "outputs": [],
   "source": [
    "df_glu_1 = pd.read_excel('/Users/bryan/Documents/BioPharmaFinder/BaoLab/Excels/UTMB1_std.xlsx')\n",
    "df_glu_6 = pd.read_excel('/Users/bryan/Documents/BioPharmaFinder/BaoLab/Excels/UTMB6_std.xlsx')\n",
    "df_glu_1.info(), df_glu_6.info()"
   ]
  },
  {
   "cell_type": "code",
   "execution_count": null,
   "metadata": {},
   "outputs": [],
   "source": [
    "plot_zones(df_glu_1, df_glu_6)"
   ]
  },
  {
   "cell_type": "code",
   "execution_count": null,
   "metadata": {},
   "outputs": [],
   "source": [
    "df_glu_kernel = df_glu_1[(df_glu_1.Mass > 1500) & (df_glu_1.Mass < 15000)]"
   ]
  },
  {
   "cell_type": "code",
   "execution_count": null,
   "metadata": {},
   "outputs": [],
   "source": [
    "df_glu_kernel = df_glu_kernel.sort_values('Vol', ascending=False)"
   ]
  },
  {
   "cell_type": "code",
   "execution_count": null,
   "metadata": {},
   "outputs": [],
   "source": [
    "df_glu_kernel.info()"
   ]
  },
  {
   "cell_type": "code",
   "execution_count": null,
   "metadata": {},
   "outputs": [],
   "source": [
    "df_glu_top = df_glu_kernel[:800]\n",
    "# df_glu_top = df_glu_top[df_glu_top.RT < 4]\n",
    "fig = px.scatter(x=df_glu_top.Mass, y=df_glu_top.RT)\n",
    "fig.show()"
   ]
  },
  {
   "cell_type": "code",
   "execution_count": null,
   "metadata": {},
   "outputs": [],
   "source": [
    "import plotly.graph_objects as go\n",
    "\n",
    "idxs = list()\n",
    "# create our callback function\n",
    "def update_point(trace, points, selector):\n",
    "    print('points {}'.format(points.point_inds) )\n",
    "    idxs.extend(points.point_inds)\n",
    "\n",
    "x = df_glu_top.Mass\n",
    "y = df_glu_top.RT\n",
    "f = go.FigureWidget([go.Scatter(x=x, y=y, mode='markers')])\n",
    "f.update_layout(autosize=False, width=1024, height=700, paper_bgcolor=\"LightSteelBlue\",\n",
    "    margin=dict(\n",
    "        l=20,\n",
    "        r=20,\n",
    "        b=20,\n",
    "        t=20,\n",
    "        pad=4\n",
    "    ))\n",
    "scatter = f.data[0]\n",
    "scatter.on_selection(update_point)\n",
    "f"
   ]
  },
  {
   "cell_type": "code",
   "execution_count": null,
   "metadata": {},
   "outputs": [],
   "source": [
    "df_glu_top_a = df_glu_top.iloc[idxs]"
   ]
  },
  {
   "cell_type": "code",
   "execution_count": null,
   "metadata": {},
   "outputs": [],
   "source": [
    "df_glu_top_b = df_glu_top#.iloc[idxs]"
   ]
  },
  {
   "cell_type": "code",
   "execution_count": null,
   "metadata": {},
   "outputs": [],
   "source": [
    "df_glu_top_b.info()"
   ]
  },
  {
   "cell_type": "code",
   "execution_count": null,
   "metadata": {},
   "outputs": [],
   "source": [
    "df_glu_top_b = df_glu_top_b.sort_values('Vol', ascending=False)\n",
    "df_glu_top_b_top = df_glu_top_b[:800]\n",
    "fig = px.scatter(x=df_glu_top_b_top.Mass, y=df_glu_top_b_top.RT)\n",
    "fig.show()\n",
    "# plot_zones(df_glu_top_a, df_glu_top_b)"
   ]
  },
  {
   "cell_type": "code",
   "execution_count": null,
   "metadata": {},
   "outputs": [],
   "source": [
    "# df_paired_5p_top = df_paired_5p.sort_values('Vol', ascending=False).iloc[:27]\n",
    "bcr_5p = base_calling_random(df_glu_top_b_top)\n",
    "plot_basecalling(*bcr_5p, annotate=True)"
   ]
  },
  {
   "cell_type": "markdown",
   "metadata": {},
   "source": [
    "# Grouped RT, Top Vol "
   ]
  },
  {
   "cell_type": "code",
   "execution_count": null,
   "metadata": {},
   "outputs": [],
   "source": [
    "df1 = df_glu_top_b_top\n",
    "df1_top = df1[(df1.Mass > 2000) & (df1.Mass < 22000)].sort_values('Vol').groupby('RT').tail(3)"
   ]
  },
  {
   "cell_type": "code",
   "execution_count": null,
   "metadata": {},
   "outputs": [],
   "source": [
    "import plotly.graph_objects as go\n",
    "\n",
    "idxs = list()\n",
    "# create our callback function\n",
    "def update_point(trace, points, selector):\n",
    "    print('points {}'.format(points.point_inds) )\n",
    "    idxs.extend(points.point_inds)\n",
    "\n",
    "# df_draw = df2[(df2.Mass > 12329) & (df2.Mass < 22000) & (df2.RT < 25) & (df2.RT > 8)]\n",
    "# df_draw = df2_chosen[:100] #df7\n",
    "df_draw = df1_top#[(df7_top.RT < 25) & (df7_top.RT > 8)]\n",
    "x = df_draw.Mass\n",
    "y = df_draw.RT\n",
    "fig = go.Scatter(x=x, y=y, mode='markers')\n",
    "f = go.FigureWidget(fig)\n",
    "f.update_layout(autosize=False, width=1024, height=700, paper_bgcolor=\"LightSteelBlue\",\n",
    "    margin=dict(\n",
    "        l=20,\n",
    "        r=20,\n",
    "        b=20,\n",
    "        t=20,\n",
    "        pad=4\n",
    "    ))\n",
    "scatter = f.data[0]\n",
    "scatter.on_selection(update_point)\n",
    "f"
   ]
  },
  {
   "cell_type": "code",
   "execution_count": null,
   "metadata": {},
   "outputs": [],
   "source": [
    "df1_chosen = df_draw#.iloc[idxs]\n",
    "df1_chosen.info()\n",
    "df1_chosen = df1_chosen.sort_values('Vol', ascending=False)"
   ]
  },
  {
   "cell_type": "code",
   "execution_count": null,
   "metadata": {},
   "outputs": [],
   "source": [
    "# plot_zone(df2_chosen[:100])\n",
    "bcr_5p = base_calling_random(df_glu_top)\n",
    "plt = plot_basecalling(*bcr_5p, annotate=True)\n",
    "# plt.savefig('/Users/bryan/Downloads/Glu_1.png', bbox_inches='tight', transparent=True)"
   ]
  },
  {
   "cell_type": "markdown",
   "metadata": {},
   "source": [
    "# Analysis dots that exist in Glu6 but not in Glu1"
   ]
  },
  {
   "cell_type": "code",
   "execution_count": null,
   "metadata": {},
   "outputs": [],
   "source": [
    "# match results\n",
    "df = pd.read_csv('/Users/bryan/Documents/BioPharmaFinder/BaoLab/Excels/UTMB6_std.csv')\n",
    "df.info()"
   ]
  },
  {
   "cell_type": "code",
   "execution_count": null,
   "metadata": {},
   "outputs": [],
   "source": [
    "df.to_excel('/Users/bryan/Documents/BioPharmaFinder/BaoLab/Excels/UTMB6_match_utmb1.xls')"
   ]
  },
  {
   "cell_type": "code",
   "execution_count": null,
   "metadata": {},
   "outputs": [],
   "source": [
    "df_10k = df[(df.Match == False) & (df.Mass > 8000) & (df.Mass < 12000)][['Mass', 'RT', 'Vol']]\n",
    "df_10k.info()"
   ]
  },
  {
   "cell_type": "code",
   "execution_count": null,
   "metadata": {},
   "outputs": [],
   "source": [
    "df_10k = df_10k.sort_values('Mass', ascending=False)"
   ]
  },
  {
   "cell_type": "code",
   "execution_count": null,
   "metadata": {},
   "outputs": [],
   "source": [
    "df_10k[:15], df_10k[15:]"
   ]
  },
  {
   "cell_type": "markdown",
   "metadata": {},
   "source": [
    "# if df1 - h2o exist in df6"
   ]
  },
  {
   "cell_type": "code",
   "execution_count": null,
   "metadata": {},
   "outputs": [],
   "source": [
    "df1_h2o = df_glu_1.copy()\n",
    "df1_h2o.Mass = df1_h2o.Mass - 18.0106\n",
    "df1_h2o.to_excel('/Users/bryan/Documents/BioPharmaFinder/BaoLab/Excels/UTMB1_std_h2o.xlsx')"
   ]
  },
  {
   "cell_type": "code",
   "execution_count": null,
   "metadata": {},
   "outputs": [],
   "source": [
    "df1_h2o.info()"
   ]
  },
  {
   "cell_type": "code",
   "execution_count": null,
   "metadata": {},
   "outputs": [],
   "source": [
    "df1_h2o_existin_6 = pd.read_csv('/Users/bryan/Documents/BioPharmaFinder/BaoLab/Excels/UTMB1_std_h2o.csv')\n",
    "df1_h2o_existin_6.info()"
   ]
  },
  {
   "cell_type": "code",
   "execution_count": null,
   "metadata": {},
   "outputs": [],
   "source": [
    "df1_h2o_existin_6[df1_h2o_existin_6.Match == True].sort_values('Mass', ascending=False)[['Mass', 'RT', 'Vol']]"
   ]
  },
  {
   "cell_type": "markdown",
   "metadata": {},
   "source": [
    "# 25k dots exist in both df1 and df6"
   ]
  },
  {
   "cell_type": "code",
   "execution_count": null,
   "metadata": {},
   "outputs": [],
   "source": [
    "df_common_25k = df[(df.Mass > 22000) & (df.Match == True)]"
   ]
  },
  {
   "cell_type": "code",
   "execution_count": null,
   "metadata": {},
   "outputs": [],
   "source": [
    "df_common_25k.to_excel('/Users/bryan/Documents/BioPharmaFinder/BaoLab/Excels/UTMB_common_25k.xlsx')"
   ]
  },
  {
   "cell_type": "code",
   "execution_count": null,
   "metadata": {},
   "outputs": [],
   "source": [
    "df_common_25k[['Mass', 'RT', 'Vol']]#.sort_values('Mass')"
   ]
  },
  {
   "cell_type": "markdown",
   "metadata": {},
   "source": [
    "# df1 also exist in df6"
   ]
  },
  {
   "cell_type": "code",
   "execution_count": null,
   "metadata": {},
   "outputs": [],
   "source": [
    "df1_in6 = pd.read_csv('/Users/bryan/Documents/BioPharmaFinder/BaoLab/Excels/UTMB6_std.csv')\n",
    "df1_in6.info()"
   ]
  },
  {
   "cell_type": "code",
   "execution_count": null,
   "metadata": {},
   "outputs": [],
   "source": [
    "df1_in6[(df1_in6.Match==True) & (df1_in6.Mass > 22000)].sort_values('Mass', ascending=False)[['Mass', 'RT', 'Vol']]"
   ]
  },
  {
   "cell_type": "markdown",
   "metadata": {},
   "source": [
    "# df6 only"
   ]
  },
  {
   "cell_type": "code",
   "execution_count": null,
   "metadata": {},
   "outputs": [],
   "source": [
    "df_only6 = df[df.Match == False]\n",
    "df_only6.info()"
   ]
  },
  {
   "cell_type": "code",
   "execution_count": null,
   "metadata": {},
   "outputs": [],
   "source": [
    "df_only6 = df_only6[['Mass', 'RT', 'Vol']]"
   ]
  },
  {
   "cell_type": "code",
   "execution_count": null,
   "metadata": {},
   "outputs": [],
   "source": [
    "plot_zone(df_only6)"
   ]
  },
  {
   "cell_type": "code",
   "execution_count": null,
   "metadata": {},
   "outputs": [],
   "source": [
    "df_only6.to_excel('/Users/bryan/Documents/BioPharmaFinder/BaoLab/Excels/UTMB_6only.xlsx')"
   ]
  },
  {
   "cell_type": "code",
   "execution_count": null,
   "metadata": {},
   "outputs": [],
   "source": [
    "df_glu_top = df_only6[(df_only6.RT < 4.1) & (df_only6.RT > 2) & (df_only6.Mass > 2000)]\n",
    "df_glu_top.info()\n",
    "fig = px.scatter(x=df_glu_top.Mass, y=df_glu_top.RT)\n",
    "fig.show()"
   ]
  },
  {
   "cell_type": "code",
   "execution_count": null,
   "metadata": {},
   "outputs": [],
   "source": [
    "df_6only_groupedRT_topVol = df_glu_top[df_glu_top.Mass > 2000].sort_values('Vol').groupby('RT').tail(1)\n",
    "df_6only_groupedRT_topVol.info()"
   ]
  },
  {
   "cell_type": "code",
   "execution_count": null,
   "metadata": {},
   "outputs": [],
   "source": [
    "df_glu_top = df_glu_top.sort_values('Mass', ascending=True)\n",
    "df_zone = df_glu_top[df_glu_top.Mass > 20000]\n",
    "fig = px.scatter(x=df_zone.Mass, y=df_zone.RT)\n",
    "fig.show()\n",
    "df_6only_groupedRT_topVol[df_6only_groupedRT_topVol.Mass>20000]"
   ]
  },
  {
   "cell_type": "code",
   "execution_count": null,
   "metadata": {},
   "outputs": [],
   "source": [
    "df_6only_groupedRT_topVol[df_6only_groupedRT_topVol.Mass>20000][['Mass', 'RT', 'Vol']]"
   ]
  },
  {
   "cell_type": "code",
   "execution_count": null,
   "metadata": {},
   "outputs": [],
   "source": [
    "df_glu_top = df_glu_top.sort_values('Mass', ascending=True)\n",
    "df_zone = df_glu_top[(df_glu_top.Mass > 320*27) & (df_glu_top.Mass < 320*40)]\n",
    "fig = px.scatter(x=df_zone.Mass, y=df_zone.RT)\n",
    "fig.show()"
   ]
  },
  {
   "cell_type": "code",
   "execution_count": null,
   "metadata": {},
   "outputs": [],
   "source": [
    "bcr_5p = base_calling_random(df_zone)\n",
    "plt = plot_basecalling(*bcr_5p, annotate=True)\n",
    "# plt.savefig('/Users/bryan/Downloads/Glu_1.png', bbox_inches='tight', transparent=True)"
   ]
  },
  {
   "cell_type": "code",
   "execution_count": null,
   "metadata": {},
   "outputs": [],
   "source": [
    "df_10k = df_glu_top[(df_glu_top.Mass > 320*27) & (df_glu_top.Mass < 320*40)]\n",
    "df_10k.info()"
   ]
  },
  {
   "cell_type": "code",
   "execution_count": null,
   "metadata": {},
   "outputs": [],
   "source": [
    "df_10k.sort_values('Mass', ascending=False)"
   ]
  },
  {
   "cell_type": "code",
   "execution_count": null,
   "metadata": {},
   "outputs": [],
   "source": []
  }
 ],
 "metadata": {
  "kernelspec": {
   "display_name": "Python 3",
   "language": "python",
   "name": "python3"
  },
  "language_info": {
   "codemirror_mode": {
    "name": "ipython",
    "version": 3
   },
   "file_extension": ".py",
   "mimetype": "text/x-python",
   "name": "python",
   "nbconvert_exporter": "python",
   "pygments_lexer": "ipython3",
   "version": "3.7.3"
  }
 },
 "nbformat": 4,
 "nbformat_minor": 4
}
