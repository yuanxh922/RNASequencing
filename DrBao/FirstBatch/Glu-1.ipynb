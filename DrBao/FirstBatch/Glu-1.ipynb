{
 "cells": [
  {
   "cell_type": "code",
   "execution_count": 1,
   "metadata": {},
   "outputs": [],
   "source": [
    "import pandas as pd\n",
    "import numpy as np\n",
    "import matplotlib\n",
    "import plotly.express as px"
   ]
  },
  {
   "cell_type": "code",
   "execution_count": 2,
   "metadata": {},
   "outputs": [],
   "source": [
    "%run ../../modules/utils.ipynb\n",
    "%run ../../modules/cds.ipynb\n",
    "%run ../../modules/preprocessing.ipynb"
   ]
  },
  {
   "cell_type": "markdown",
   "metadata": {},
   "source": [
    "# Preprocessing UTMB1"
   ]
  },
  {
   "cell_type": "code",
   "execution_count": 3,
   "metadata": {},
   "outputs": [
    {
     "name": "stdout",
     "output_type": "stream",
     "text": [
      "<class 'pandas.core.frame.DataFrame'>\n",
      "RangeIndex: 2945 entries, 0 to 2944\n",
      "Data columns (total 13 columns):\n",
      " #   Column                        Non-Null Count  Dtype  \n",
      "---  ------                        --------------  -----  \n",
      " 0   Monoisotopic Mass             818 non-null    float64\n",
      " 1   Apex RT                       818 non-null    float64\n",
      " 2   Average Mass                  2945 non-null   object \n",
      " 3   Sum Intensity                 2945 non-null   object \n",
      " 4   Relative Abundance            2945 non-null   object \n",
      " 5   Fractional Abundance          2945 non-null   object \n",
      " 6   Number of Charge States       818 non-null    float64\n",
      " 7   Charge State Distribution     818 non-null    object \n",
      " 8   Number of Detected Intervals  818 non-null    float64\n",
      " 9   Delta Mass                    818 non-null    float64\n",
      " 10  Scan Range                    818 non-null    object \n",
      " 11  Start Time (min)              818 non-null    float64\n",
      " 12  Stop Time (min)               818 non-null    float64\n",
      "dtypes: float64(7), object(6)\n",
      "memory usage: 299.2+ KB\n"
     ]
    }
   ],
   "source": [
    "df_glu_1 = pd.read_excel('/Users/bryan/Documents/BioPharmaFinder/BaoLab/FirstBatch/Excels/UTMB6.xlsx')\n",
    "df_glu_1.info()"
   ]
  },
  {
   "cell_type": "code",
   "execution_count": 4,
   "metadata": {},
   "outputs": [
    {
     "name": "stdout",
     "output_type": "stream",
     "text": [
      "<class 'pandas.core.frame.DataFrame'>\n",
      "Int64Index: 818 entries, 0 to 2942\n",
      "Data columns (total 5 columns):\n",
      " #   Column  Non-Null Count  Dtype  \n",
      "---  ------  --------------  -----  \n",
      " 0   Mass    818 non-null    float64\n",
      " 1   RT      818 non-null    float64\n",
      " 2   Vol     818 non-null    float64\n",
      " 3   RA      818 non-null    float64\n",
      " 4   FA      818 non-null    float64\n",
      "dtypes: float64(5)\n",
      "memory usage: 38.3 KB\n"
     ]
    }
   ],
   "source": [
    "df_glu_1 = thermo_df(df_glu_1)\n",
    "df_glu_1.info()\n",
    "df_glu_1 = df_glu_1.dropna()\n",
    "df_glu_1 = df_glu_1.astype('float64')"
   ]
  },
  {
   "cell_type": "code",
   "execution_count": 10,
   "metadata": {},
   "outputs": [
    {
     "data": {
      "application/vnd.plotly.v1+json": {
       "config": {
        "plotlyServerURL": "https://plot.ly"
       },
       "data": [
        {
         "hovertemplate": "Mass=%{x}<br>Vol=%{y}<extra></extra>",
         "legendgroup": "",
         "marker": {
          "color": "#636efa",
          "symbol": "circle"
         },
         "mode": "markers",
         "name": "",
         "orientation": "v",
         "showlegend": false,
         "type": "scatter",
         "x": [
          7183.88328648603,
          7528.928445326,
          6166.06103649904,
          7877.00285131861,
          7857.98979621206,
          7184.88691644229,
          6406.94707978674,
          6509.77787230225,
          6320.77241296518,
          6856.84681916874,
          6839.83986976949,
          6665.83129245304,
          6408.11107964225,
          7012.89251047552,
          7661.97386462565,
          7168.85581735463,
          7070.96568587198,
          7761.06788621359,
          6023.85904590155,
          6217.7552635481,
          6702.89048411329
         ],
         "xaxis": "x",
         "y": [
          21851.46,
          16540.02,
          12086.18,
          11281.93,
          10324.07,
          8521.44,
          7341.32,
          5942.18,
          3992.85,
          3798.11,
          2982.98,
          2541.42,
          2197.05,
          2169.63,
          1786.04,
          1644.46,
          1310.87,
          1076.06,
          919.86,
          759.11,
          567.77
         ],
         "yaxis": "y"
        }
       ],
       "layout": {
        "legend": {
         "tracegroupgap": 0
        },
        "margin": {
         "t": 60
        },
        "template": {
         "data": {
          "bar": [
           {
            "error_x": {
             "color": "#2a3f5f"
            },
            "error_y": {
             "color": "#2a3f5f"
            },
            "marker": {
             "line": {
              "color": "#E5ECF6",
              "width": 0.5
             }
            },
            "type": "bar"
           }
          ],
          "barpolar": [
           {
            "marker": {
             "line": {
              "color": "#E5ECF6",
              "width": 0.5
             }
            },
            "type": "barpolar"
           }
          ],
          "carpet": [
           {
            "aaxis": {
             "endlinecolor": "#2a3f5f",
             "gridcolor": "white",
             "linecolor": "white",
             "minorgridcolor": "white",
             "startlinecolor": "#2a3f5f"
            },
            "baxis": {
             "endlinecolor": "#2a3f5f",
             "gridcolor": "white",
             "linecolor": "white",
             "minorgridcolor": "white",
             "startlinecolor": "#2a3f5f"
            },
            "type": "carpet"
           }
          ],
          "choropleth": [
           {
            "colorbar": {
             "outlinewidth": 0,
             "ticks": ""
            },
            "type": "choropleth"
           }
          ],
          "contour": [
           {
            "colorbar": {
             "outlinewidth": 0,
             "ticks": ""
            },
            "colorscale": [
             [
              0,
              "#0d0887"
             ],
             [
              0.1111111111111111,
              "#46039f"
             ],
             [
              0.2222222222222222,
              "#7201a8"
             ],
             [
              0.3333333333333333,
              "#9c179e"
             ],
             [
              0.4444444444444444,
              "#bd3786"
             ],
             [
              0.5555555555555556,
              "#d8576b"
             ],
             [
              0.6666666666666666,
              "#ed7953"
             ],
             [
              0.7777777777777778,
              "#fb9f3a"
             ],
             [
              0.8888888888888888,
              "#fdca26"
             ],
             [
              1,
              "#f0f921"
             ]
            ],
            "type": "contour"
           }
          ],
          "contourcarpet": [
           {
            "colorbar": {
             "outlinewidth": 0,
             "ticks": ""
            },
            "type": "contourcarpet"
           }
          ],
          "heatmap": [
           {
            "colorbar": {
             "outlinewidth": 0,
             "ticks": ""
            },
            "colorscale": [
             [
              0,
              "#0d0887"
             ],
             [
              0.1111111111111111,
              "#46039f"
             ],
             [
              0.2222222222222222,
              "#7201a8"
             ],
             [
              0.3333333333333333,
              "#9c179e"
             ],
             [
              0.4444444444444444,
              "#bd3786"
             ],
             [
              0.5555555555555556,
              "#d8576b"
             ],
             [
              0.6666666666666666,
              "#ed7953"
             ],
             [
              0.7777777777777778,
              "#fb9f3a"
             ],
             [
              0.8888888888888888,
              "#fdca26"
             ],
             [
              1,
              "#f0f921"
             ]
            ],
            "type": "heatmap"
           }
          ],
          "heatmapgl": [
           {
            "colorbar": {
             "outlinewidth": 0,
             "ticks": ""
            },
            "colorscale": [
             [
              0,
              "#0d0887"
             ],
             [
              0.1111111111111111,
              "#46039f"
             ],
             [
              0.2222222222222222,
              "#7201a8"
             ],
             [
              0.3333333333333333,
              "#9c179e"
             ],
             [
              0.4444444444444444,
              "#bd3786"
             ],
             [
              0.5555555555555556,
              "#d8576b"
             ],
             [
              0.6666666666666666,
              "#ed7953"
             ],
             [
              0.7777777777777778,
              "#fb9f3a"
             ],
             [
              0.8888888888888888,
              "#fdca26"
             ],
             [
              1,
              "#f0f921"
             ]
            ],
            "type": "heatmapgl"
           }
          ],
          "histogram": [
           {
            "marker": {
             "colorbar": {
              "outlinewidth": 0,
              "ticks": ""
             }
            },
            "type": "histogram"
           }
          ],
          "histogram2d": [
           {
            "colorbar": {
             "outlinewidth": 0,
             "ticks": ""
            },
            "colorscale": [
             [
              0,
              "#0d0887"
             ],
             [
              0.1111111111111111,
              "#46039f"
             ],
             [
              0.2222222222222222,
              "#7201a8"
             ],
             [
              0.3333333333333333,
              "#9c179e"
             ],
             [
              0.4444444444444444,
              "#bd3786"
             ],
             [
              0.5555555555555556,
              "#d8576b"
             ],
             [
              0.6666666666666666,
              "#ed7953"
             ],
             [
              0.7777777777777778,
              "#fb9f3a"
             ],
             [
              0.8888888888888888,
              "#fdca26"
             ],
             [
              1,
              "#f0f921"
             ]
            ],
            "type": "histogram2d"
           }
          ],
          "histogram2dcontour": [
           {
            "colorbar": {
             "outlinewidth": 0,
             "ticks": ""
            },
            "colorscale": [
             [
              0,
              "#0d0887"
             ],
             [
              0.1111111111111111,
              "#46039f"
             ],
             [
              0.2222222222222222,
              "#7201a8"
             ],
             [
              0.3333333333333333,
              "#9c179e"
             ],
             [
              0.4444444444444444,
              "#bd3786"
             ],
             [
              0.5555555555555556,
              "#d8576b"
             ],
             [
              0.6666666666666666,
              "#ed7953"
             ],
             [
              0.7777777777777778,
              "#fb9f3a"
             ],
             [
              0.8888888888888888,
              "#fdca26"
             ],
             [
              1,
              "#f0f921"
             ]
            ],
            "type": "histogram2dcontour"
           }
          ],
          "mesh3d": [
           {
            "colorbar": {
             "outlinewidth": 0,
             "ticks": ""
            },
            "type": "mesh3d"
           }
          ],
          "parcoords": [
           {
            "line": {
             "colorbar": {
              "outlinewidth": 0,
              "ticks": ""
             }
            },
            "type": "parcoords"
           }
          ],
          "pie": [
           {
            "automargin": true,
            "type": "pie"
           }
          ],
          "scatter": [
           {
            "marker": {
             "colorbar": {
              "outlinewidth": 0,
              "ticks": ""
             }
            },
            "type": "scatter"
           }
          ],
          "scatter3d": [
           {
            "line": {
             "colorbar": {
              "outlinewidth": 0,
              "ticks": ""
             }
            },
            "marker": {
             "colorbar": {
              "outlinewidth": 0,
              "ticks": ""
             }
            },
            "type": "scatter3d"
           }
          ],
          "scattercarpet": [
           {
            "marker": {
             "colorbar": {
              "outlinewidth": 0,
              "ticks": ""
             }
            },
            "type": "scattercarpet"
           }
          ],
          "scattergeo": [
           {
            "marker": {
             "colorbar": {
              "outlinewidth": 0,
              "ticks": ""
             }
            },
            "type": "scattergeo"
           }
          ],
          "scattergl": [
           {
            "marker": {
             "colorbar": {
              "outlinewidth": 0,
              "ticks": ""
             }
            },
            "type": "scattergl"
           }
          ],
          "scattermapbox": [
           {
            "marker": {
             "colorbar": {
              "outlinewidth": 0,
              "ticks": ""
             }
            },
            "type": "scattermapbox"
           }
          ],
          "scatterpolar": [
           {
            "marker": {
             "colorbar": {
              "outlinewidth": 0,
              "ticks": ""
             }
            },
            "type": "scatterpolar"
           }
          ],
          "scatterpolargl": [
           {
            "marker": {
             "colorbar": {
              "outlinewidth": 0,
              "ticks": ""
             }
            },
            "type": "scatterpolargl"
           }
          ],
          "scatterternary": [
           {
            "marker": {
             "colorbar": {
              "outlinewidth": 0,
              "ticks": ""
             }
            },
            "type": "scatterternary"
           }
          ],
          "surface": [
           {
            "colorbar": {
             "outlinewidth": 0,
             "ticks": ""
            },
            "colorscale": [
             [
              0,
              "#0d0887"
             ],
             [
              0.1111111111111111,
              "#46039f"
             ],
             [
              0.2222222222222222,
              "#7201a8"
             ],
             [
              0.3333333333333333,
              "#9c179e"
             ],
             [
              0.4444444444444444,
              "#bd3786"
             ],
             [
              0.5555555555555556,
              "#d8576b"
             ],
             [
              0.6666666666666666,
              "#ed7953"
             ],
             [
              0.7777777777777778,
              "#fb9f3a"
             ],
             [
              0.8888888888888888,
              "#fdca26"
             ],
             [
              1,
              "#f0f921"
             ]
            ],
            "type": "surface"
           }
          ],
          "table": [
           {
            "cells": {
             "fill": {
              "color": "#EBF0F8"
             },
             "line": {
              "color": "white"
             }
            },
            "header": {
             "fill": {
              "color": "#C8D4E3"
             },
             "line": {
              "color": "white"
             }
            },
            "type": "table"
           }
          ]
         },
         "layout": {
          "annotationdefaults": {
           "arrowcolor": "#2a3f5f",
           "arrowhead": 0,
           "arrowwidth": 1
          },
          "autotypenumbers": "strict",
          "coloraxis": {
           "colorbar": {
            "outlinewidth": 0,
            "ticks": ""
           }
          },
          "colorscale": {
           "diverging": [
            [
             0,
             "#8e0152"
            ],
            [
             0.1,
             "#c51b7d"
            ],
            [
             0.2,
             "#de77ae"
            ],
            [
             0.3,
             "#f1b6da"
            ],
            [
             0.4,
             "#fde0ef"
            ],
            [
             0.5,
             "#f7f7f7"
            ],
            [
             0.6,
             "#e6f5d0"
            ],
            [
             0.7,
             "#b8e186"
            ],
            [
             0.8,
             "#7fbc41"
            ],
            [
             0.9,
             "#4d9221"
            ],
            [
             1,
             "#276419"
            ]
           ],
           "sequential": [
            [
             0,
             "#0d0887"
            ],
            [
             0.1111111111111111,
             "#46039f"
            ],
            [
             0.2222222222222222,
             "#7201a8"
            ],
            [
             0.3333333333333333,
             "#9c179e"
            ],
            [
             0.4444444444444444,
             "#bd3786"
            ],
            [
             0.5555555555555556,
             "#d8576b"
            ],
            [
             0.6666666666666666,
             "#ed7953"
            ],
            [
             0.7777777777777778,
             "#fb9f3a"
            ],
            [
             0.8888888888888888,
             "#fdca26"
            ],
            [
             1,
             "#f0f921"
            ]
           ],
           "sequentialminus": [
            [
             0,
             "#0d0887"
            ],
            [
             0.1111111111111111,
             "#46039f"
            ],
            [
             0.2222222222222222,
             "#7201a8"
            ],
            [
             0.3333333333333333,
             "#9c179e"
            ],
            [
             0.4444444444444444,
             "#bd3786"
            ],
            [
             0.5555555555555556,
             "#d8576b"
            ],
            [
             0.6666666666666666,
             "#ed7953"
            ],
            [
             0.7777777777777778,
             "#fb9f3a"
            ],
            [
             0.8888888888888888,
             "#fdca26"
            ],
            [
             1,
             "#f0f921"
            ]
           ]
          },
          "colorway": [
           "#636efa",
           "#EF553B",
           "#00cc96",
           "#ab63fa",
           "#FFA15A",
           "#19d3f3",
           "#FF6692",
           "#B6E880",
           "#FF97FF",
           "#FECB52"
          ],
          "font": {
           "color": "#2a3f5f"
          },
          "geo": {
           "bgcolor": "white",
           "lakecolor": "white",
           "landcolor": "#E5ECF6",
           "showlakes": true,
           "showland": true,
           "subunitcolor": "white"
          },
          "hoverlabel": {
           "align": "left"
          },
          "hovermode": "closest",
          "mapbox": {
           "style": "light"
          },
          "paper_bgcolor": "white",
          "plot_bgcolor": "#E5ECF6",
          "polar": {
           "angularaxis": {
            "gridcolor": "white",
            "linecolor": "white",
            "ticks": ""
           },
           "bgcolor": "#E5ECF6",
           "radialaxis": {
            "gridcolor": "white",
            "linecolor": "white",
            "ticks": ""
           }
          },
          "scene": {
           "xaxis": {
            "backgroundcolor": "#E5ECF6",
            "gridcolor": "white",
            "gridwidth": 2,
            "linecolor": "white",
            "showbackground": true,
            "ticks": "",
            "zerolinecolor": "white"
           },
           "yaxis": {
            "backgroundcolor": "#E5ECF6",
            "gridcolor": "white",
            "gridwidth": 2,
            "linecolor": "white",
            "showbackground": true,
            "ticks": "",
            "zerolinecolor": "white"
           },
           "zaxis": {
            "backgroundcolor": "#E5ECF6",
            "gridcolor": "white",
            "gridwidth": 2,
            "linecolor": "white",
            "showbackground": true,
            "ticks": "",
            "zerolinecolor": "white"
           }
          },
          "shapedefaults": {
           "line": {
            "color": "#2a3f5f"
           }
          },
          "ternary": {
           "aaxis": {
            "gridcolor": "white",
            "linecolor": "white",
            "ticks": ""
           },
           "baxis": {
            "gridcolor": "white",
            "linecolor": "white",
            "ticks": ""
           },
           "bgcolor": "#E5ECF6",
           "caxis": {
            "gridcolor": "white",
            "linecolor": "white",
            "ticks": ""
           }
          },
          "title": {
           "x": 0.05
          },
          "xaxis": {
           "automargin": true,
           "gridcolor": "white",
           "linecolor": "white",
           "ticks": "",
           "title": {
            "standoff": 15
           },
           "zerolinecolor": "white",
           "zerolinewidth": 2
          },
          "yaxis": {
           "automargin": true,
           "gridcolor": "white",
           "linecolor": "white",
           "ticks": "",
           "title": {
            "standoff": 15
           },
           "zerolinecolor": "white",
           "zerolinewidth": 2
          }
         }
        },
        "xaxis": {
         "anchor": "y",
         "domain": [
          0,
          1
         ],
         "title": {
          "text": "Mass"
         }
        },
        "yaxis": {
         "anchor": "x",
         "domain": [
          0,
          1
         ],
         "title": {
          "text": "Vol"
         }
        }
       }
      },
      "text/html": [
       "<div>                            <div id=\"7d69a879-c121-4001-bff0-2ad55d7f7a62\" class=\"plotly-graph-div\" style=\"height:525px; width:100%;\"></div>            <script type=\"text/javascript\">                require([\"plotly\"], function(Plotly) {                    window.PLOTLYENV=window.PLOTLYENV || {};                                    if (document.getElementById(\"7d69a879-c121-4001-bff0-2ad55d7f7a62\")) {                    Plotly.newPlot(                        \"7d69a879-c121-4001-bff0-2ad55d7f7a62\",                        [{\"hovertemplate\": \"Mass=%{x}<br>Vol=%{y}<extra></extra>\", \"legendgroup\": \"\", \"marker\": {\"color\": \"#636efa\", \"symbol\": \"circle\"}, \"mode\": \"markers\", \"name\": \"\", \"orientation\": \"v\", \"showlegend\": false, \"type\": \"scatter\", \"x\": [7183.88328648603, 7528.928445326, 6166.06103649904, 7877.00285131861, 7857.98979621206, 7184.88691644229, 6406.94707978674, 6509.77787230225, 6320.77241296518, 6856.84681916874, 6839.83986976949, 6665.83129245304, 6408.11107964225, 7012.89251047552, 7661.97386462565, 7168.85581735463, 7070.96568587198, 7761.06788621359, 6023.85904590155, 6217.7552635481, 6702.89048411329], \"xaxis\": \"x\", \"y\": [21851.46, 16540.02, 12086.18, 11281.93, 10324.07, 8521.44, 7341.32, 5942.18, 3992.85, 3798.11, 2982.98, 2541.42, 2197.05, 2169.63, 1786.04, 1644.46, 1310.87, 1076.06, 919.86, 759.11, 567.77], \"yaxis\": \"y\"}],                        {\"legend\": {\"tracegroupgap\": 0}, \"margin\": {\"t\": 60}, \"template\": {\"data\": {\"bar\": [{\"error_x\": {\"color\": \"#2a3f5f\"}, \"error_y\": {\"color\": \"#2a3f5f\"}, \"marker\": {\"line\": {\"color\": \"#E5ECF6\", \"width\": 0.5}}, \"type\": \"bar\"}], \"barpolar\": [{\"marker\": {\"line\": {\"color\": \"#E5ECF6\", \"width\": 0.5}}, \"type\": \"barpolar\"}], \"carpet\": [{\"aaxis\": {\"endlinecolor\": \"#2a3f5f\", \"gridcolor\": \"white\", \"linecolor\": \"white\", \"minorgridcolor\": \"white\", \"startlinecolor\": \"#2a3f5f\"}, \"baxis\": {\"endlinecolor\": \"#2a3f5f\", \"gridcolor\": \"white\", \"linecolor\": \"white\", \"minorgridcolor\": \"white\", \"startlinecolor\": \"#2a3f5f\"}, \"type\": \"carpet\"}], \"choropleth\": [{\"colorbar\": {\"outlinewidth\": 0, \"ticks\": \"\"}, \"type\": \"choropleth\"}], \"contour\": [{\"colorbar\": {\"outlinewidth\": 0, \"ticks\": \"\"}, \"colorscale\": [[0.0, \"#0d0887\"], [0.1111111111111111, \"#46039f\"], [0.2222222222222222, \"#7201a8\"], [0.3333333333333333, \"#9c179e\"], [0.4444444444444444, \"#bd3786\"], [0.5555555555555556, \"#d8576b\"], [0.6666666666666666, \"#ed7953\"], [0.7777777777777778, \"#fb9f3a\"], [0.8888888888888888, \"#fdca26\"], [1.0, \"#f0f921\"]], \"type\": \"contour\"}], \"contourcarpet\": [{\"colorbar\": {\"outlinewidth\": 0, \"ticks\": \"\"}, \"type\": \"contourcarpet\"}], \"heatmap\": [{\"colorbar\": {\"outlinewidth\": 0, \"ticks\": \"\"}, \"colorscale\": [[0.0, \"#0d0887\"], [0.1111111111111111, \"#46039f\"], [0.2222222222222222, \"#7201a8\"], [0.3333333333333333, \"#9c179e\"], [0.4444444444444444, \"#bd3786\"], [0.5555555555555556, \"#d8576b\"], [0.6666666666666666, \"#ed7953\"], [0.7777777777777778, \"#fb9f3a\"], [0.8888888888888888, \"#fdca26\"], [1.0, \"#f0f921\"]], \"type\": \"heatmap\"}], \"heatmapgl\": [{\"colorbar\": {\"outlinewidth\": 0, \"ticks\": \"\"}, \"colorscale\": [[0.0, \"#0d0887\"], [0.1111111111111111, \"#46039f\"], [0.2222222222222222, \"#7201a8\"], [0.3333333333333333, \"#9c179e\"], [0.4444444444444444, \"#bd3786\"], [0.5555555555555556, \"#d8576b\"], [0.6666666666666666, \"#ed7953\"], [0.7777777777777778, \"#fb9f3a\"], [0.8888888888888888, \"#fdca26\"], [1.0, \"#f0f921\"]], \"type\": \"heatmapgl\"}], \"histogram\": [{\"marker\": {\"colorbar\": {\"outlinewidth\": 0, \"ticks\": \"\"}}, \"type\": \"histogram\"}], \"histogram2d\": [{\"colorbar\": {\"outlinewidth\": 0, \"ticks\": \"\"}, \"colorscale\": [[0.0, \"#0d0887\"], [0.1111111111111111, \"#46039f\"], [0.2222222222222222, \"#7201a8\"], [0.3333333333333333, \"#9c179e\"], [0.4444444444444444, \"#bd3786\"], [0.5555555555555556, \"#d8576b\"], [0.6666666666666666, \"#ed7953\"], [0.7777777777777778, \"#fb9f3a\"], [0.8888888888888888, \"#fdca26\"], [1.0, \"#f0f921\"]], \"type\": \"histogram2d\"}], \"histogram2dcontour\": [{\"colorbar\": {\"outlinewidth\": 0, \"ticks\": \"\"}, \"colorscale\": [[0.0, \"#0d0887\"], [0.1111111111111111, \"#46039f\"], [0.2222222222222222, \"#7201a8\"], [0.3333333333333333, \"#9c179e\"], [0.4444444444444444, \"#bd3786\"], [0.5555555555555556, \"#d8576b\"], [0.6666666666666666, \"#ed7953\"], [0.7777777777777778, \"#fb9f3a\"], [0.8888888888888888, \"#fdca26\"], [1.0, \"#f0f921\"]], \"type\": \"histogram2dcontour\"}], \"mesh3d\": [{\"colorbar\": {\"outlinewidth\": 0, \"ticks\": \"\"}, \"type\": \"mesh3d\"}], \"parcoords\": [{\"line\": {\"colorbar\": {\"outlinewidth\": 0, \"ticks\": \"\"}}, \"type\": \"parcoords\"}], \"pie\": [{\"automargin\": true, \"type\": \"pie\"}], \"scatter\": [{\"marker\": {\"colorbar\": {\"outlinewidth\": 0, \"ticks\": \"\"}}, \"type\": \"scatter\"}], \"scatter3d\": [{\"line\": {\"colorbar\": {\"outlinewidth\": 0, \"ticks\": \"\"}}, \"marker\": {\"colorbar\": {\"outlinewidth\": 0, \"ticks\": \"\"}}, \"type\": \"scatter3d\"}], \"scattercarpet\": [{\"marker\": {\"colorbar\": {\"outlinewidth\": 0, \"ticks\": \"\"}}, \"type\": \"scattercarpet\"}], \"scattergeo\": [{\"marker\": {\"colorbar\": {\"outlinewidth\": 0, \"ticks\": \"\"}}, \"type\": \"scattergeo\"}], \"scattergl\": [{\"marker\": {\"colorbar\": {\"outlinewidth\": 0, \"ticks\": \"\"}}, \"type\": \"scattergl\"}], \"scattermapbox\": [{\"marker\": {\"colorbar\": {\"outlinewidth\": 0, \"ticks\": \"\"}}, \"type\": \"scattermapbox\"}], \"scatterpolar\": [{\"marker\": {\"colorbar\": {\"outlinewidth\": 0, \"ticks\": \"\"}}, \"type\": \"scatterpolar\"}], \"scatterpolargl\": [{\"marker\": {\"colorbar\": {\"outlinewidth\": 0, \"ticks\": \"\"}}, \"type\": \"scatterpolargl\"}], \"scatterternary\": [{\"marker\": {\"colorbar\": {\"outlinewidth\": 0, \"ticks\": \"\"}}, \"type\": \"scatterternary\"}], \"surface\": [{\"colorbar\": {\"outlinewidth\": 0, \"ticks\": \"\"}, \"colorscale\": [[0.0, \"#0d0887\"], [0.1111111111111111, \"#46039f\"], [0.2222222222222222, \"#7201a8\"], [0.3333333333333333, \"#9c179e\"], [0.4444444444444444, \"#bd3786\"], [0.5555555555555556, \"#d8576b\"], [0.6666666666666666, \"#ed7953\"], [0.7777777777777778, \"#fb9f3a\"], [0.8888888888888888, \"#fdca26\"], [1.0, \"#f0f921\"]], \"type\": \"surface\"}], \"table\": [{\"cells\": {\"fill\": {\"color\": \"#EBF0F8\"}, \"line\": {\"color\": \"white\"}}, \"header\": {\"fill\": {\"color\": \"#C8D4E3\"}, \"line\": {\"color\": \"white\"}}, \"type\": \"table\"}]}, \"layout\": {\"annotationdefaults\": {\"arrowcolor\": \"#2a3f5f\", \"arrowhead\": 0, \"arrowwidth\": 1}, \"autotypenumbers\": \"strict\", \"coloraxis\": {\"colorbar\": {\"outlinewidth\": 0, \"ticks\": \"\"}}, \"colorscale\": {\"diverging\": [[0, \"#8e0152\"], [0.1, \"#c51b7d\"], [0.2, \"#de77ae\"], [0.3, \"#f1b6da\"], [0.4, \"#fde0ef\"], [0.5, \"#f7f7f7\"], [0.6, \"#e6f5d0\"], [0.7, \"#b8e186\"], [0.8, \"#7fbc41\"], [0.9, \"#4d9221\"], [1, \"#276419\"]], \"sequential\": [[0.0, \"#0d0887\"], [0.1111111111111111, \"#46039f\"], [0.2222222222222222, \"#7201a8\"], [0.3333333333333333, \"#9c179e\"], [0.4444444444444444, \"#bd3786\"], [0.5555555555555556, \"#d8576b\"], [0.6666666666666666, \"#ed7953\"], [0.7777777777777778, \"#fb9f3a\"], [0.8888888888888888, \"#fdca26\"], [1.0, \"#f0f921\"]], \"sequentialminus\": [[0.0, \"#0d0887\"], [0.1111111111111111, \"#46039f\"], [0.2222222222222222, \"#7201a8\"], [0.3333333333333333, \"#9c179e\"], [0.4444444444444444, \"#bd3786\"], [0.5555555555555556, \"#d8576b\"], [0.6666666666666666, \"#ed7953\"], [0.7777777777777778, \"#fb9f3a\"], [0.8888888888888888, \"#fdca26\"], [1.0, \"#f0f921\"]]}, \"colorway\": [\"#636efa\", \"#EF553B\", \"#00cc96\", \"#ab63fa\", \"#FFA15A\", \"#19d3f3\", \"#FF6692\", \"#B6E880\", \"#FF97FF\", \"#FECB52\"], \"font\": {\"color\": \"#2a3f5f\"}, \"geo\": {\"bgcolor\": \"white\", \"lakecolor\": \"white\", \"landcolor\": \"#E5ECF6\", \"showlakes\": true, \"showland\": true, \"subunitcolor\": \"white\"}, \"hoverlabel\": {\"align\": \"left\"}, \"hovermode\": \"closest\", \"mapbox\": {\"style\": \"light\"}, \"paper_bgcolor\": \"white\", \"plot_bgcolor\": \"#E5ECF6\", \"polar\": {\"angularaxis\": {\"gridcolor\": \"white\", \"linecolor\": \"white\", \"ticks\": \"\"}, \"bgcolor\": \"#E5ECF6\", \"radialaxis\": {\"gridcolor\": \"white\", \"linecolor\": \"white\", \"ticks\": \"\"}}, \"scene\": {\"xaxis\": {\"backgroundcolor\": \"#E5ECF6\", \"gridcolor\": \"white\", \"gridwidth\": 2, \"linecolor\": \"white\", \"showbackground\": true, \"ticks\": \"\", \"zerolinecolor\": \"white\"}, \"yaxis\": {\"backgroundcolor\": \"#E5ECF6\", \"gridcolor\": \"white\", \"gridwidth\": 2, \"linecolor\": \"white\", \"showbackground\": true, \"ticks\": \"\", \"zerolinecolor\": \"white\"}, \"zaxis\": {\"backgroundcolor\": \"#E5ECF6\", \"gridcolor\": \"white\", \"gridwidth\": 2, \"linecolor\": \"white\", \"showbackground\": true, \"ticks\": \"\", \"zerolinecolor\": \"white\"}}, \"shapedefaults\": {\"line\": {\"color\": \"#2a3f5f\"}}, \"ternary\": {\"aaxis\": {\"gridcolor\": \"white\", \"linecolor\": \"white\", \"ticks\": \"\"}, \"baxis\": {\"gridcolor\": \"white\", \"linecolor\": \"white\", \"ticks\": \"\"}, \"bgcolor\": \"#E5ECF6\", \"caxis\": {\"gridcolor\": \"white\", \"linecolor\": \"white\", \"ticks\": \"\"}}, \"title\": {\"x\": 0.05}, \"xaxis\": {\"automargin\": true, \"gridcolor\": \"white\", \"linecolor\": \"white\", \"ticks\": \"\", \"title\": {\"standoff\": 15}, \"zerolinecolor\": \"white\", \"zerolinewidth\": 2}, \"yaxis\": {\"automargin\": true, \"gridcolor\": \"white\", \"linecolor\": \"white\", \"ticks\": \"\", \"title\": {\"standoff\": 15}, \"zerolinecolor\": \"white\", \"zerolinewidth\": 2}}}, \"xaxis\": {\"anchor\": \"y\", \"domain\": [0.0, 1.0], \"title\": {\"text\": \"Mass\"}}, \"yaxis\": {\"anchor\": \"x\", \"domain\": [0.0, 1.0], \"title\": {\"text\": \"Vol\"}}},                        {\"responsive\": true}                    ).then(function(){\n",
       "                            \n",
       "var gd = document.getElementById('7d69a879-c121-4001-bff0-2ad55d7f7a62');\n",
       "var x = new MutationObserver(function (mutations, observer) {{\n",
       "        var display = window.getComputedStyle(gd).display;\n",
       "        if (!display || display === 'none') {{\n",
       "            console.log([gd, 'removed!']);\n",
       "            Plotly.purge(gd);\n",
       "            observer.disconnect();\n",
       "        }}\n",
       "}});\n",
       "\n",
       "// Listen for the removal of the full notebook cells\n",
       "var notebookContainer = gd.closest('#notebook-container');\n",
       "if (notebookContainer) {{\n",
       "    x.observe(notebookContainer, {childList: true});\n",
       "}}\n",
       "\n",
       "// Listen for the clearing of the current output cell\n",
       "var outputEl = gd.closest('.output');\n",
       "if (outputEl) {{\n",
       "    x.observe(outputEl, {childList: true});\n",
       "}}\n",
       "\n",
       "                        })                };                });            </script>        </div>"
      ]
     },
     "metadata": {},
     "output_type": "display_data"
    }
   ],
   "source": [
    "plotly_zone(df_glu_1[(df_glu_1.Mass>6000)&(df_glu_1.Mass<8000)], y='Vol')"
   ]
  },
  {
   "cell_type": "markdown",
   "metadata": {},
   "source": [
    "# Processing UTMB1_std"
   ]
  },
  {
   "cell_type": "code",
   "execution_count": 44,
   "metadata": {},
   "outputs": [
    {
     "name": "stdout",
     "output_type": "stream",
     "text": [
      "<class 'pandas.core.frame.DataFrame'>\n",
      "RangeIndex: 655 entries, 0 to 654\n",
      "Data columns (total 4 columns):\n",
      "Unnamed: 0    655 non-null int64\n",
      "Mass          655 non-null float64\n",
      "RT            655 non-null float64\n",
      "Vol           655 non-null float64\n",
      "dtypes: float64(3), int64(1)\n",
      "memory usage: 20.5 KB\n"
     ]
    }
   ],
   "source": [
    "df_glu_1 = pd.read_excel('/Users/bryan/Documents/BioPharmaFinder/BaoLab/Excels/UTMB1_std.xlsx')\n",
    "df_glu_1.info()"
   ]
  },
  {
   "cell_type": "code",
   "execution_count": 14,
   "metadata": {},
   "outputs": [
    {
     "data": {
      "application/vnd.plotly.v1+json": {
       "config": {
        "plotlyServerURL": "https://plot.ly"
       },
       "data": [
        {
         "hovertemplate": "Mass=%{x}<br>Vol=%{y}<extra></extra>",
         "legendgroup": "",
         "marker": {
          "color": "#636efa",
          "symbol": "circle"
         },
         "mode": "markers",
         "name": "",
         "orientation": "v",
         "showlegend": false,
         "type": "scatter",
         "x": [
          24302.2287870343,
          24259.1922990559,
          24245.255351956,
          24359.1761602531,
          24316.1748484255,
          24942.5442052376,
          24203.2678313727,
          24217.2852944405,
          24189.2496993168,
          24330.1641237846,
          24373.1507494765,
          24273.199828793,
          24274.1998710885,
          24287.2066213141,
          24957.5334113811,
          24231.2433991696,
          24416.1000120463,
          24344.1547567587,
          24928.5233447351,
          24998.4791230846,
          24429.1043982891,
          24386.1085332255,
          24343.1569440815,
          24984.5333059569,
          25014.4667171957,
          24999.4708379293,
          24400.0898301452,
          24971.5229696282,
          24415.1203711455,
          24401.1154252794,
          24372.1647315739,
          24174.2351799288,
          24930.5071322198,
          24399.0949925611,
          24970.5231183379,
          24173.224767095,
          24972.521194353,
          24349.1905510274,
          24214.2747268661,
          24927.4987800355,
          24440.076530119,
          24913.4687554411,
          24914.4928103627,
          25006.4417464573,
          24357.1304331109,
          24271.2071545946,
          24244.1492319967,
          24246.2136932877,
          24380.1373586926,
          24276.2001070922
         ],
         "xaxis": "x",
         "y": [
          1327968.92,
          1111322.15,
          1088826.83,
          1073765.3,
          970725.06,
          910792.3,
          896322.88,
          869971.01,
          868042.84,
          693826.58,
          639863.42,
          545687.33,
          517704.39,
          485118.88,
          461854.85,
          361687.08,
          308863.05,
          306779.39,
          277735.66,
          235239.3,
          190185.19,
          182941.19,
          168017.94,
          164861.95,
          162396.12,
          148493.68,
          73458.86,
          63331.82,
          61016.07,
          50496.61,
          41427.43,
          40131.45,
          37453.43,
          34234.16,
          30341.45,
          25731.32,
          22590.57,
          19325.18,
          14287.28,
          12754.41,
          10816.63,
          10785.1,
          10500.59,
          9285.18,
          8632.14,
          8314.92,
          7551.74,
          6589.66,
          4973.81,
          3103.96
         ],
         "yaxis": "y"
        }
       ],
       "layout": {
        "legend": {
         "tracegroupgap": 0
        },
        "margin": {
         "t": 60
        },
        "template": {
         "data": {
          "bar": [
           {
            "error_x": {
             "color": "#2a3f5f"
            },
            "error_y": {
             "color": "#2a3f5f"
            },
            "marker": {
             "line": {
              "color": "#E5ECF6",
              "width": 0.5
             }
            },
            "type": "bar"
           }
          ],
          "barpolar": [
           {
            "marker": {
             "line": {
              "color": "#E5ECF6",
              "width": 0.5
             }
            },
            "type": "barpolar"
           }
          ],
          "carpet": [
           {
            "aaxis": {
             "endlinecolor": "#2a3f5f",
             "gridcolor": "white",
             "linecolor": "white",
             "minorgridcolor": "white",
             "startlinecolor": "#2a3f5f"
            },
            "baxis": {
             "endlinecolor": "#2a3f5f",
             "gridcolor": "white",
             "linecolor": "white",
             "minorgridcolor": "white",
             "startlinecolor": "#2a3f5f"
            },
            "type": "carpet"
           }
          ],
          "choropleth": [
           {
            "colorbar": {
             "outlinewidth": 0,
             "ticks": ""
            },
            "type": "choropleth"
           }
          ],
          "contour": [
           {
            "colorbar": {
             "outlinewidth": 0,
             "ticks": ""
            },
            "colorscale": [
             [
              0,
              "#0d0887"
             ],
             [
              0.1111111111111111,
              "#46039f"
             ],
             [
              0.2222222222222222,
              "#7201a8"
             ],
             [
              0.3333333333333333,
              "#9c179e"
             ],
             [
              0.4444444444444444,
              "#bd3786"
             ],
             [
              0.5555555555555556,
              "#d8576b"
             ],
             [
              0.6666666666666666,
              "#ed7953"
             ],
             [
              0.7777777777777778,
              "#fb9f3a"
             ],
             [
              0.8888888888888888,
              "#fdca26"
             ],
             [
              1,
              "#f0f921"
             ]
            ],
            "type": "contour"
           }
          ],
          "contourcarpet": [
           {
            "colorbar": {
             "outlinewidth": 0,
             "ticks": ""
            },
            "type": "contourcarpet"
           }
          ],
          "heatmap": [
           {
            "colorbar": {
             "outlinewidth": 0,
             "ticks": ""
            },
            "colorscale": [
             [
              0,
              "#0d0887"
             ],
             [
              0.1111111111111111,
              "#46039f"
             ],
             [
              0.2222222222222222,
              "#7201a8"
             ],
             [
              0.3333333333333333,
              "#9c179e"
             ],
             [
              0.4444444444444444,
              "#bd3786"
             ],
             [
              0.5555555555555556,
              "#d8576b"
             ],
             [
              0.6666666666666666,
              "#ed7953"
             ],
             [
              0.7777777777777778,
              "#fb9f3a"
             ],
             [
              0.8888888888888888,
              "#fdca26"
             ],
             [
              1,
              "#f0f921"
             ]
            ],
            "type": "heatmap"
           }
          ],
          "heatmapgl": [
           {
            "colorbar": {
             "outlinewidth": 0,
             "ticks": ""
            },
            "colorscale": [
             [
              0,
              "#0d0887"
             ],
             [
              0.1111111111111111,
              "#46039f"
             ],
             [
              0.2222222222222222,
              "#7201a8"
             ],
             [
              0.3333333333333333,
              "#9c179e"
             ],
             [
              0.4444444444444444,
              "#bd3786"
             ],
             [
              0.5555555555555556,
              "#d8576b"
             ],
             [
              0.6666666666666666,
              "#ed7953"
             ],
             [
              0.7777777777777778,
              "#fb9f3a"
             ],
             [
              0.8888888888888888,
              "#fdca26"
             ],
             [
              1,
              "#f0f921"
             ]
            ],
            "type": "heatmapgl"
           }
          ],
          "histogram": [
           {
            "marker": {
             "colorbar": {
              "outlinewidth": 0,
              "ticks": ""
             }
            },
            "type": "histogram"
           }
          ],
          "histogram2d": [
           {
            "colorbar": {
             "outlinewidth": 0,
             "ticks": ""
            },
            "colorscale": [
             [
              0,
              "#0d0887"
             ],
             [
              0.1111111111111111,
              "#46039f"
             ],
             [
              0.2222222222222222,
              "#7201a8"
             ],
             [
              0.3333333333333333,
              "#9c179e"
             ],
             [
              0.4444444444444444,
              "#bd3786"
             ],
             [
              0.5555555555555556,
              "#d8576b"
             ],
             [
              0.6666666666666666,
              "#ed7953"
             ],
             [
              0.7777777777777778,
              "#fb9f3a"
             ],
             [
              0.8888888888888888,
              "#fdca26"
             ],
             [
              1,
              "#f0f921"
             ]
            ],
            "type": "histogram2d"
           }
          ],
          "histogram2dcontour": [
           {
            "colorbar": {
             "outlinewidth": 0,
             "ticks": ""
            },
            "colorscale": [
             [
              0,
              "#0d0887"
             ],
             [
              0.1111111111111111,
              "#46039f"
             ],
             [
              0.2222222222222222,
              "#7201a8"
             ],
             [
              0.3333333333333333,
              "#9c179e"
             ],
             [
              0.4444444444444444,
              "#bd3786"
             ],
             [
              0.5555555555555556,
              "#d8576b"
             ],
             [
              0.6666666666666666,
              "#ed7953"
             ],
             [
              0.7777777777777778,
              "#fb9f3a"
             ],
             [
              0.8888888888888888,
              "#fdca26"
             ],
             [
              1,
              "#f0f921"
             ]
            ],
            "type": "histogram2dcontour"
           }
          ],
          "mesh3d": [
           {
            "colorbar": {
             "outlinewidth": 0,
             "ticks": ""
            },
            "type": "mesh3d"
           }
          ],
          "parcoords": [
           {
            "line": {
             "colorbar": {
              "outlinewidth": 0,
              "ticks": ""
             }
            },
            "type": "parcoords"
           }
          ],
          "pie": [
           {
            "automargin": true,
            "type": "pie"
           }
          ],
          "scatter": [
           {
            "marker": {
             "colorbar": {
              "outlinewidth": 0,
              "ticks": ""
             }
            },
            "type": "scatter"
           }
          ],
          "scatter3d": [
           {
            "line": {
             "colorbar": {
              "outlinewidth": 0,
              "ticks": ""
             }
            },
            "marker": {
             "colorbar": {
              "outlinewidth": 0,
              "ticks": ""
             }
            },
            "type": "scatter3d"
           }
          ],
          "scattercarpet": [
           {
            "marker": {
             "colorbar": {
              "outlinewidth": 0,
              "ticks": ""
             }
            },
            "type": "scattercarpet"
           }
          ],
          "scattergeo": [
           {
            "marker": {
             "colorbar": {
              "outlinewidth": 0,
              "ticks": ""
             }
            },
            "type": "scattergeo"
           }
          ],
          "scattergl": [
           {
            "marker": {
             "colorbar": {
              "outlinewidth": 0,
              "ticks": ""
             }
            },
            "type": "scattergl"
           }
          ],
          "scattermapbox": [
           {
            "marker": {
             "colorbar": {
              "outlinewidth": 0,
              "ticks": ""
             }
            },
            "type": "scattermapbox"
           }
          ],
          "scatterpolar": [
           {
            "marker": {
             "colorbar": {
              "outlinewidth": 0,
              "ticks": ""
             }
            },
            "type": "scatterpolar"
           }
          ],
          "scatterpolargl": [
           {
            "marker": {
             "colorbar": {
              "outlinewidth": 0,
              "ticks": ""
             }
            },
            "type": "scatterpolargl"
           }
          ],
          "scatterternary": [
           {
            "marker": {
             "colorbar": {
              "outlinewidth": 0,
              "ticks": ""
             }
            },
            "type": "scatterternary"
           }
          ],
          "surface": [
           {
            "colorbar": {
             "outlinewidth": 0,
             "ticks": ""
            },
            "colorscale": [
             [
              0,
              "#0d0887"
             ],
             [
              0.1111111111111111,
              "#46039f"
             ],
             [
              0.2222222222222222,
              "#7201a8"
             ],
             [
              0.3333333333333333,
              "#9c179e"
             ],
             [
              0.4444444444444444,
              "#bd3786"
             ],
             [
              0.5555555555555556,
              "#d8576b"
             ],
             [
              0.6666666666666666,
              "#ed7953"
             ],
             [
              0.7777777777777778,
              "#fb9f3a"
             ],
             [
              0.8888888888888888,
              "#fdca26"
             ],
             [
              1,
              "#f0f921"
             ]
            ],
            "type": "surface"
           }
          ],
          "table": [
           {
            "cells": {
             "fill": {
              "color": "#EBF0F8"
             },
             "line": {
              "color": "white"
             }
            },
            "header": {
             "fill": {
              "color": "#C8D4E3"
             },
             "line": {
              "color": "white"
             }
            },
            "type": "table"
           }
          ]
         },
         "layout": {
          "annotationdefaults": {
           "arrowcolor": "#2a3f5f",
           "arrowhead": 0,
           "arrowwidth": 1
          },
          "autotypenumbers": "strict",
          "coloraxis": {
           "colorbar": {
            "outlinewidth": 0,
            "ticks": ""
           }
          },
          "colorscale": {
           "diverging": [
            [
             0,
             "#8e0152"
            ],
            [
             0.1,
             "#c51b7d"
            ],
            [
             0.2,
             "#de77ae"
            ],
            [
             0.3,
             "#f1b6da"
            ],
            [
             0.4,
             "#fde0ef"
            ],
            [
             0.5,
             "#f7f7f7"
            ],
            [
             0.6,
             "#e6f5d0"
            ],
            [
             0.7,
             "#b8e186"
            ],
            [
             0.8,
             "#7fbc41"
            ],
            [
             0.9,
             "#4d9221"
            ],
            [
             1,
             "#276419"
            ]
           ],
           "sequential": [
            [
             0,
             "#0d0887"
            ],
            [
             0.1111111111111111,
             "#46039f"
            ],
            [
             0.2222222222222222,
             "#7201a8"
            ],
            [
             0.3333333333333333,
             "#9c179e"
            ],
            [
             0.4444444444444444,
             "#bd3786"
            ],
            [
             0.5555555555555556,
             "#d8576b"
            ],
            [
             0.6666666666666666,
             "#ed7953"
            ],
            [
             0.7777777777777778,
             "#fb9f3a"
            ],
            [
             0.8888888888888888,
             "#fdca26"
            ],
            [
             1,
             "#f0f921"
            ]
           ],
           "sequentialminus": [
            [
             0,
             "#0d0887"
            ],
            [
             0.1111111111111111,
             "#46039f"
            ],
            [
             0.2222222222222222,
             "#7201a8"
            ],
            [
             0.3333333333333333,
             "#9c179e"
            ],
            [
             0.4444444444444444,
             "#bd3786"
            ],
            [
             0.5555555555555556,
             "#d8576b"
            ],
            [
             0.6666666666666666,
             "#ed7953"
            ],
            [
             0.7777777777777778,
             "#fb9f3a"
            ],
            [
             0.8888888888888888,
             "#fdca26"
            ],
            [
             1,
             "#f0f921"
            ]
           ]
          },
          "colorway": [
           "#636efa",
           "#EF553B",
           "#00cc96",
           "#ab63fa",
           "#FFA15A",
           "#19d3f3",
           "#FF6692",
           "#B6E880",
           "#FF97FF",
           "#FECB52"
          ],
          "font": {
           "color": "#2a3f5f"
          },
          "geo": {
           "bgcolor": "white",
           "lakecolor": "white",
           "landcolor": "#E5ECF6",
           "showlakes": true,
           "showland": true,
           "subunitcolor": "white"
          },
          "hoverlabel": {
           "align": "left"
          },
          "hovermode": "closest",
          "mapbox": {
           "style": "light"
          },
          "paper_bgcolor": "white",
          "plot_bgcolor": "#E5ECF6",
          "polar": {
           "angularaxis": {
            "gridcolor": "white",
            "linecolor": "white",
            "ticks": ""
           },
           "bgcolor": "#E5ECF6",
           "radialaxis": {
            "gridcolor": "white",
            "linecolor": "white",
            "ticks": ""
           }
          },
          "scene": {
           "xaxis": {
            "backgroundcolor": "#E5ECF6",
            "gridcolor": "white",
            "gridwidth": 2,
            "linecolor": "white",
            "showbackground": true,
            "ticks": "",
            "zerolinecolor": "white"
           },
           "yaxis": {
            "backgroundcolor": "#E5ECF6",
            "gridcolor": "white",
            "gridwidth": 2,
            "linecolor": "white",
            "showbackground": true,
            "ticks": "",
            "zerolinecolor": "white"
           },
           "zaxis": {
            "backgroundcolor": "#E5ECF6",
            "gridcolor": "white",
            "gridwidth": 2,
            "linecolor": "white",
            "showbackground": true,
            "ticks": "",
            "zerolinecolor": "white"
           }
          },
          "shapedefaults": {
           "line": {
            "color": "#2a3f5f"
           }
          },
          "ternary": {
           "aaxis": {
            "gridcolor": "white",
            "linecolor": "white",
            "ticks": ""
           },
           "baxis": {
            "gridcolor": "white",
            "linecolor": "white",
            "ticks": ""
           },
           "bgcolor": "#E5ECF6",
           "caxis": {
            "gridcolor": "white",
            "linecolor": "white",
            "ticks": ""
           }
          },
          "title": {
           "x": 0.05
          },
          "xaxis": {
           "automargin": true,
           "gridcolor": "white",
           "linecolor": "white",
           "ticks": "",
           "title": {
            "standoff": 15
           },
           "zerolinecolor": "white",
           "zerolinewidth": 2
          },
          "yaxis": {
           "automargin": true,
           "gridcolor": "white",
           "linecolor": "white",
           "ticks": "",
           "title": {
            "standoff": 15
           },
           "zerolinecolor": "white",
           "zerolinewidth": 2
          }
         }
        },
        "xaxis": {
         "anchor": "y",
         "domain": [
          0,
          1
         ],
         "title": {
          "text": "Mass"
         }
        },
        "yaxis": {
         "anchor": "x",
         "domain": [
          0,
          1
         ],
         "title": {
          "text": "Vol"
         }
        }
       }
      },
      "text/html": [
       "<div>                            <div id=\"e0054102-3345-40da-b413-db64a4641907\" class=\"plotly-graph-div\" style=\"height:525px; width:100%;\"></div>            <script type=\"text/javascript\">                require([\"plotly\"], function(Plotly) {                    window.PLOTLYENV=window.PLOTLYENV || {};                                    if (document.getElementById(\"e0054102-3345-40da-b413-db64a4641907\")) {                    Plotly.newPlot(                        \"e0054102-3345-40da-b413-db64a4641907\",                        [{\"hovertemplate\": \"Mass=%{x}<br>Vol=%{y}<extra></extra>\", \"legendgroup\": \"\", \"marker\": {\"color\": \"#636efa\", \"symbol\": \"circle\"}, \"mode\": \"markers\", \"name\": \"\", \"orientation\": \"v\", \"showlegend\": false, \"type\": \"scatter\", \"x\": [24302.2287870343, 24259.1922990559, 24245.255351956, 24359.1761602531, 24316.1748484255, 24942.5442052376, 24203.2678313727, 24217.2852944405, 24189.2496993168, 24330.1641237846, 24373.1507494765, 24273.199828793, 24274.1998710885, 24287.2066213141, 24957.5334113811, 24231.2433991696, 24416.1000120463, 24344.1547567587, 24928.5233447351, 24998.4791230846, 24429.1043982891, 24386.1085332255, 24343.1569440815, 24984.5333059569, 25014.4667171957, 24999.4708379293, 24400.0898301452, 24971.5229696282, 24415.1203711455, 24401.1154252794, 24372.1647315739, 24174.2351799288, 24930.5071322198, 24399.0949925611, 24970.5231183379, 24173.224767095, 24972.521194353, 24349.1905510274, 24214.2747268661, 24927.4987800355, 24440.076530119, 24913.4687554411, 24914.4928103627, 25006.4417464573, 24357.1304331109, 24271.2071545946, 24244.1492319967, 24246.2136932877, 24380.1373586926, 24276.2001070922], \"xaxis\": \"x\", \"y\": [1327968.92, 1111322.15, 1088826.83, 1073765.3, 970725.06, 910792.3, 896322.88, 869971.01, 868042.84, 693826.58, 639863.42, 545687.33, 517704.39, 485118.88, 461854.85, 361687.08, 308863.05, 306779.39, 277735.66, 235239.3, 190185.19, 182941.19, 168017.94, 164861.95, 162396.12, 148493.68, 73458.86, 63331.82, 61016.07, 50496.61, 41427.43, 40131.45, 37453.43, 34234.16, 30341.45, 25731.32, 22590.57, 19325.18, 14287.28, 12754.41, 10816.63, 10785.1, 10500.59, 9285.18, 8632.14, 8314.92, 7551.74, 6589.66, 4973.81, 3103.96], \"yaxis\": \"y\"}],                        {\"legend\": {\"tracegroupgap\": 0}, \"margin\": {\"t\": 60}, \"template\": {\"data\": {\"bar\": [{\"error_x\": {\"color\": \"#2a3f5f\"}, \"error_y\": {\"color\": \"#2a3f5f\"}, \"marker\": {\"line\": {\"color\": \"#E5ECF6\", \"width\": 0.5}}, \"type\": \"bar\"}], \"barpolar\": [{\"marker\": {\"line\": {\"color\": \"#E5ECF6\", \"width\": 0.5}}, \"type\": \"barpolar\"}], \"carpet\": [{\"aaxis\": {\"endlinecolor\": \"#2a3f5f\", \"gridcolor\": \"white\", \"linecolor\": \"white\", \"minorgridcolor\": \"white\", \"startlinecolor\": \"#2a3f5f\"}, \"baxis\": {\"endlinecolor\": \"#2a3f5f\", \"gridcolor\": \"white\", \"linecolor\": \"white\", \"minorgridcolor\": \"white\", \"startlinecolor\": \"#2a3f5f\"}, \"type\": \"carpet\"}], \"choropleth\": [{\"colorbar\": {\"outlinewidth\": 0, \"ticks\": \"\"}, \"type\": \"choropleth\"}], \"contour\": [{\"colorbar\": {\"outlinewidth\": 0, \"ticks\": \"\"}, \"colorscale\": [[0.0, \"#0d0887\"], [0.1111111111111111, \"#46039f\"], [0.2222222222222222, \"#7201a8\"], [0.3333333333333333, \"#9c179e\"], [0.4444444444444444, \"#bd3786\"], [0.5555555555555556, \"#d8576b\"], [0.6666666666666666, \"#ed7953\"], [0.7777777777777778, \"#fb9f3a\"], [0.8888888888888888, \"#fdca26\"], [1.0, \"#f0f921\"]], \"type\": \"contour\"}], \"contourcarpet\": [{\"colorbar\": {\"outlinewidth\": 0, \"ticks\": \"\"}, \"type\": \"contourcarpet\"}], \"heatmap\": [{\"colorbar\": {\"outlinewidth\": 0, \"ticks\": \"\"}, \"colorscale\": [[0.0, \"#0d0887\"], [0.1111111111111111, \"#46039f\"], [0.2222222222222222, \"#7201a8\"], [0.3333333333333333, \"#9c179e\"], [0.4444444444444444, \"#bd3786\"], [0.5555555555555556, \"#d8576b\"], [0.6666666666666666, \"#ed7953\"], [0.7777777777777778, \"#fb9f3a\"], [0.8888888888888888, \"#fdca26\"], [1.0, \"#f0f921\"]], \"type\": \"heatmap\"}], \"heatmapgl\": [{\"colorbar\": {\"outlinewidth\": 0, \"ticks\": \"\"}, \"colorscale\": [[0.0, \"#0d0887\"], [0.1111111111111111, \"#46039f\"], [0.2222222222222222, \"#7201a8\"], [0.3333333333333333, \"#9c179e\"], [0.4444444444444444, \"#bd3786\"], [0.5555555555555556, \"#d8576b\"], [0.6666666666666666, \"#ed7953\"], [0.7777777777777778, \"#fb9f3a\"], [0.8888888888888888, \"#fdca26\"], [1.0, \"#f0f921\"]], \"type\": \"heatmapgl\"}], \"histogram\": [{\"marker\": {\"colorbar\": {\"outlinewidth\": 0, \"ticks\": \"\"}}, \"type\": \"histogram\"}], \"histogram2d\": [{\"colorbar\": {\"outlinewidth\": 0, \"ticks\": \"\"}, \"colorscale\": [[0.0, \"#0d0887\"], [0.1111111111111111, \"#46039f\"], [0.2222222222222222, \"#7201a8\"], [0.3333333333333333, \"#9c179e\"], [0.4444444444444444, \"#bd3786\"], [0.5555555555555556, \"#d8576b\"], [0.6666666666666666, \"#ed7953\"], [0.7777777777777778, \"#fb9f3a\"], [0.8888888888888888, \"#fdca26\"], [1.0, \"#f0f921\"]], \"type\": \"histogram2d\"}], \"histogram2dcontour\": [{\"colorbar\": {\"outlinewidth\": 0, \"ticks\": \"\"}, \"colorscale\": [[0.0, \"#0d0887\"], [0.1111111111111111, \"#46039f\"], [0.2222222222222222, \"#7201a8\"], [0.3333333333333333, \"#9c179e\"], [0.4444444444444444, \"#bd3786\"], [0.5555555555555556, \"#d8576b\"], [0.6666666666666666, \"#ed7953\"], [0.7777777777777778, \"#fb9f3a\"], [0.8888888888888888, \"#fdca26\"], [1.0, \"#f0f921\"]], \"type\": \"histogram2dcontour\"}], \"mesh3d\": [{\"colorbar\": {\"outlinewidth\": 0, \"ticks\": \"\"}, \"type\": \"mesh3d\"}], \"parcoords\": [{\"line\": {\"colorbar\": {\"outlinewidth\": 0, \"ticks\": \"\"}}, \"type\": \"parcoords\"}], \"pie\": [{\"automargin\": true, \"type\": \"pie\"}], \"scatter\": [{\"marker\": {\"colorbar\": {\"outlinewidth\": 0, \"ticks\": \"\"}}, \"type\": \"scatter\"}], \"scatter3d\": [{\"line\": {\"colorbar\": {\"outlinewidth\": 0, \"ticks\": \"\"}}, \"marker\": {\"colorbar\": {\"outlinewidth\": 0, \"ticks\": \"\"}}, \"type\": \"scatter3d\"}], \"scattercarpet\": [{\"marker\": {\"colorbar\": {\"outlinewidth\": 0, \"ticks\": \"\"}}, \"type\": \"scattercarpet\"}], \"scattergeo\": [{\"marker\": {\"colorbar\": {\"outlinewidth\": 0, \"ticks\": \"\"}}, \"type\": \"scattergeo\"}], \"scattergl\": [{\"marker\": {\"colorbar\": {\"outlinewidth\": 0, \"ticks\": \"\"}}, \"type\": \"scattergl\"}], \"scattermapbox\": [{\"marker\": {\"colorbar\": {\"outlinewidth\": 0, \"ticks\": \"\"}}, \"type\": \"scattermapbox\"}], \"scatterpolar\": [{\"marker\": {\"colorbar\": {\"outlinewidth\": 0, \"ticks\": \"\"}}, \"type\": \"scatterpolar\"}], \"scatterpolargl\": [{\"marker\": {\"colorbar\": {\"outlinewidth\": 0, \"ticks\": \"\"}}, \"type\": \"scatterpolargl\"}], \"scatterternary\": [{\"marker\": {\"colorbar\": {\"outlinewidth\": 0, \"ticks\": \"\"}}, \"type\": \"scatterternary\"}], \"surface\": [{\"colorbar\": {\"outlinewidth\": 0, \"ticks\": \"\"}, \"colorscale\": [[0.0, \"#0d0887\"], [0.1111111111111111, \"#46039f\"], [0.2222222222222222, \"#7201a8\"], [0.3333333333333333, \"#9c179e\"], [0.4444444444444444, \"#bd3786\"], [0.5555555555555556, \"#d8576b\"], [0.6666666666666666, \"#ed7953\"], [0.7777777777777778, \"#fb9f3a\"], [0.8888888888888888, \"#fdca26\"], [1.0, \"#f0f921\"]], \"type\": \"surface\"}], \"table\": [{\"cells\": {\"fill\": {\"color\": \"#EBF0F8\"}, \"line\": {\"color\": \"white\"}}, \"header\": {\"fill\": {\"color\": \"#C8D4E3\"}, \"line\": {\"color\": \"white\"}}, \"type\": \"table\"}]}, \"layout\": {\"annotationdefaults\": {\"arrowcolor\": \"#2a3f5f\", \"arrowhead\": 0, \"arrowwidth\": 1}, \"autotypenumbers\": \"strict\", \"coloraxis\": {\"colorbar\": {\"outlinewidth\": 0, \"ticks\": \"\"}}, \"colorscale\": {\"diverging\": [[0, \"#8e0152\"], [0.1, \"#c51b7d\"], [0.2, \"#de77ae\"], [0.3, \"#f1b6da\"], [0.4, \"#fde0ef\"], [0.5, \"#f7f7f7\"], [0.6, \"#e6f5d0\"], [0.7, \"#b8e186\"], [0.8, \"#7fbc41\"], [0.9, \"#4d9221\"], [1, \"#276419\"]], \"sequential\": [[0.0, \"#0d0887\"], [0.1111111111111111, \"#46039f\"], [0.2222222222222222, \"#7201a8\"], [0.3333333333333333, \"#9c179e\"], [0.4444444444444444, \"#bd3786\"], [0.5555555555555556, \"#d8576b\"], [0.6666666666666666, \"#ed7953\"], [0.7777777777777778, \"#fb9f3a\"], [0.8888888888888888, \"#fdca26\"], [1.0, \"#f0f921\"]], \"sequentialminus\": [[0.0, \"#0d0887\"], [0.1111111111111111, \"#46039f\"], [0.2222222222222222, \"#7201a8\"], [0.3333333333333333, \"#9c179e\"], [0.4444444444444444, \"#bd3786\"], [0.5555555555555556, \"#d8576b\"], [0.6666666666666666, \"#ed7953\"], [0.7777777777777778, \"#fb9f3a\"], [0.8888888888888888, \"#fdca26\"], [1.0, \"#f0f921\"]]}, \"colorway\": [\"#636efa\", \"#EF553B\", \"#00cc96\", \"#ab63fa\", \"#FFA15A\", \"#19d3f3\", \"#FF6692\", \"#B6E880\", \"#FF97FF\", \"#FECB52\"], \"font\": {\"color\": \"#2a3f5f\"}, \"geo\": {\"bgcolor\": \"white\", \"lakecolor\": \"white\", \"landcolor\": \"#E5ECF6\", \"showlakes\": true, \"showland\": true, \"subunitcolor\": \"white\"}, \"hoverlabel\": {\"align\": \"left\"}, \"hovermode\": \"closest\", \"mapbox\": {\"style\": \"light\"}, \"paper_bgcolor\": \"white\", \"plot_bgcolor\": \"#E5ECF6\", \"polar\": {\"angularaxis\": {\"gridcolor\": \"white\", \"linecolor\": \"white\", \"ticks\": \"\"}, \"bgcolor\": \"#E5ECF6\", \"radialaxis\": {\"gridcolor\": \"white\", \"linecolor\": \"white\", \"ticks\": \"\"}}, \"scene\": {\"xaxis\": {\"backgroundcolor\": \"#E5ECF6\", \"gridcolor\": \"white\", \"gridwidth\": 2, \"linecolor\": \"white\", \"showbackground\": true, \"ticks\": \"\", \"zerolinecolor\": \"white\"}, \"yaxis\": {\"backgroundcolor\": \"#E5ECF6\", \"gridcolor\": \"white\", \"gridwidth\": 2, \"linecolor\": \"white\", \"showbackground\": true, \"ticks\": \"\", \"zerolinecolor\": \"white\"}, \"zaxis\": {\"backgroundcolor\": \"#E5ECF6\", \"gridcolor\": \"white\", \"gridwidth\": 2, \"linecolor\": \"white\", \"showbackground\": true, \"ticks\": \"\", \"zerolinecolor\": \"white\"}}, \"shapedefaults\": {\"line\": {\"color\": \"#2a3f5f\"}}, \"ternary\": {\"aaxis\": {\"gridcolor\": \"white\", \"linecolor\": \"white\", \"ticks\": \"\"}, \"baxis\": {\"gridcolor\": \"white\", \"linecolor\": \"white\", \"ticks\": \"\"}, \"bgcolor\": \"#E5ECF6\", \"caxis\": {\"gridcolor\": \"white\", \"linecolor\": \"white\", \"ticks\": \"\"}}, \"title\": {\"x\": 0.05}, \"xaxis\": {\"automargin\": true, \"gridcolor\": \"white\", \"linecolor\": \"white\", \"ticks\": \"\", \"title\": {\"standoff\": 15}, \"zerolinecolor\": \"white\", \"zerolinewidth\": 2}, \"yaxis\": {\"automargin\": true, \"gridcolor\": \"white\", \"linecolor\": \"white\", \"ticks\": \"\", \"title\": {\"standoff\": 15}, \"zerolinecolor\": \"white\", \"zerolinewidth\": 2}}}, \"xaxis\": {\"anchor\": \"y\", \"domain\": [0.0, 1.0], \"title\": {\"text\": \"Mass\"}}, \"yaxis\": {\"anchor\": \"x\", \"domain\": [0.0, 1.0], \"title\": {\"text\": \"Vol\"}}},                        {\"responsive\": true}                    ).then(function(){\n",
       "                            \n",
       "var gd = document.getElementById('e0054102-3345-40da-b413-db64a4641907');\n",
       "var x = new MutationObserver(function (mutations, observer) {{\n",
       "        var display = window.getComputedStyle(gd).display;\n",
       "        if (!display || display === 'none') {{\n",
       "            console.log([gd, 'removed!']);\n",
       "            Plotly.purge(gd);\n",
       "            observer.disconnect();\n",
       "        }}\n",
       "}});\n",
       "\n",
       "// Listen for the removal of the full notebook cells\n",
       "var notebookContainer = gd.closest('#notebook-container');\n",
       "if (notebookContainer) {{\n",
       "    x.observe(notebookContainer, {childList: true});\n",
       "}}\n",
       "\n",
       "// Listen for the clearing of the current output cell\n",
       "var outputEl = gd.closest('.output');\n",
       "if (outputEl) {{\n",
       "    x.observe(outputEl, {childList: true});\n",
       "}}\n",
       "\n",
       "                        })                };                });            </script>        </div>"
      ]
     },
     "metadata": {},
     "output_type": "display_data"
    }
   ],
   "source": [
    "df_24k = df_glu_1[(df_glu_1.Mass>24000)&(df_glu_1.Mass<26000)]\n",
    "plotly_zone(df_24k, y='Vol')"
   ]
  },
  {
   "cell_type": "code",
   "execution_count": 48,
   "metadata": {},
   "outputs": [],
   "source": [
    "df_glu_kernel = df_glu_1[(df_glu_1.Mass > 1500) & (df_glu_1.Mass < 15000)]"
   ]
  },
  {
   "cell_type": "code",
   "execution_count": 49,
   "metadata": {},
   "outputs": [],
   "source": [
    "df_glu_kernel = df_glu_kernel.sort_values('Vol', ascending=False)"
   ]
  },
  {
   "cell_type": "code",
   "execution_count": 50,
   "metadata": {},
   "outputs": [
    {
     "name": "stdout",
     "output_type": "stream",
     "text": [
      "<class 'pandas.core.frame.DataFrame'>\n",
      "Int64Index: 248 entries, 22 to 654\n",
      "Data columns (total 4 columns):\n",
      "Unnamed: 0    248 non-null int64\n",
      "Mass          248 non-null float64\n",
      "RT            248 non-null float64\n",
      "Vol           248 non-null float64\n",
      "dtypes: float64(3), int64(1)\n",
      "memory usage: 9.7 KB\n"
     ]
    }
   ],
   "source": [
    "df_glu_kernel.info()"
   ]
  },
  {
   "cell_type": "code",
   "execution_count": 56,
   "metadata": {},
   "outputs": [
    {
     "data": {
      "application/vnd.plotly.v1+json": {
       "config": {
        "plotlyServerURL": "https://plot.ly"
       },
       "data": [
        {
         "hoverlabel": {
          "namelength": 0
         },
         "hovertemplate": "x=%{x}<br>y=%{y}",
         "legendgroup": "",
         "marker": {
          "color": "#636efa",
          "symbol": "circle"
         },
         "mode": "markers",
         "name": "",
         "showlegend": false,
         "type": "scatter",
         "x": [
          4055.69880851859,
          5523.9530179957,
          3100.53237426614,
          3742.64368223472,
          4112.61804741342,
          4648.79633851218,
          1532.78509158148,
          1613.17619695829,
          4077.67875737319,
          3413.59028135509,
          4236.69537457633,
          5210.89368227878,
          1519.83705767363,
          4961.85273886204,
          4897.83545480797,
          1811.97748226565,
          4099.65961969137,
          1832.47829687715,
          1739.08356367306,
          5828.00487048953,
          2458.42203627627,
          3084.53694918537,
          4121.63506799123,
          8158.00968744306,
          1666.755696238,
          4118.62323697323,
          2300.69454961534,
          1781.78766157784,
          1740.22675222253,
          1912.71562891775,
          5184.66548335519,
          3122.5131699634,
          2282.83291790435,
          1815.74453181594,
          4359.74829472535,
          5545.93720765248,
          4143.62261283571,
          4135.66781081528,
          2195.70145075286,
          2771.47906027701,
          8161.3619057133,
          3765.62688723005,
          9120.1243332371,
          8793.09101345668,
          7183.88796931017,
          5194.90676336612,
          4006.68223205657,
          4165.60487502942,
          2522.43902989398,
          2238.71058871186,
          2811.48595128319,
          8470.04457420833,
          8776.07390523015,
          4187.58595290689,
          4873.68283400402,
          4865.84459707464,
          4134.59944249718,
          2005.72432762401,
          8164.0194736797,
          4029.04274700688,
          4670.77342355288,
          2102.6981755727,
          4254.70532142479,
          4209.56786367548,
          4568.64108283833,
          7529.93600899831,
          4705.71402763178,
          4231.55087971549,
          4319.74132582409,
          3799.56310290723,
          13537.7034657899,
          5567.90851198358,
          3144.49388943311,
          4253.53541108413,
          1987.1162,
          3157.45258853068,
          3766.65091600134,
          7876.995014702,
          5106.77666337215,
          4488.67665923444,
          2124.64302385643,
          3822.60858049132,
          9139.14184361478,
          5412.79992476537,
          5549.64794247272,
          2602.40375944811,
          4218.68603106341,
          1952.62179962086,
          3938.65469846203,
          1913.20337149348,
          10673.3442328166,
          6166.06083008009,
          11050.3894054383,
          7528.92603389469,
          3166.47628267152,
          4881.83814830963,
          11356.3830984476,
          7858.99037106249,
          1519.83770929789,
          2285.61968903981,
          14187.8034304348,
          3940.67885599496,
          6857.84608481862,
          3435.57249167864,
          6406.94678967776,
          1953.7873734546,
          1867.69389156736,
          8488.05921877729,
          2360.6995,
          3786.60468959607,
          5589.89744523827,
          5580.87285798898,
          2128.36916000836,
          5233.87497085411,
          4180.55875530303,
          4055.37920443236,
          9698.2267738586,
          5853.0033598197,
          4692.7575243691,
          11338.3928242789,
          2237.8345152912,
          10726.3241686451,
          9771.21228561776,
          2101.6971007434,
          6839.83606854653,
          11662.4330750241,
          3808.59135719993,
          2703.43306672102,
          6510.78020370635,
          14204.8222388344,
          4093.65618391679,
          13882.7563609588,
          13232.6634322143,
          3188.45727205745,
          3083.54825844629,
          3902.55500352204,
          2787.46973797862,
          8588.09682532286,
          1732.73013196327,
          3937.66969595782,
          5611.8784165728,
          4287.61120868558,
          4919.812,
          7376.99768188015,
          11644.4321155685,
          10349.3000354234,
          10115.2653087699,
          4714.7386,
          4089.70360794067,
          2313.61969019691,
          5169.89563667932,
          4138.60248287463,
          11032.3661527684,
          6067.81500811512,
          10439.3056114633,
          6320.77517734909,
          4202.54002112244,
          1637.75022483533,
          13623.6959562497,
          14532.8499830157,
          2027.71297495381,
          6061.89054127816,
          3964.68111645951,
          3210.43960866982,
          10656.3359698939,
          10421.3058253072,
          4983.83288423867,
          5204.60536373299,
          4898.57008110534,
          7012.89047937331,
          5633.8594,
          2148.61960651051,
          12582.574399113,
          9159.14845091863,
          1771.71841549825,
          7201.9066877713,
          3010.51407366623,
          7722.04623361388,
          7070.97243377859,
          11678.4285927385,
          12926.6175860925,
          4552.78711351855,
          8530.06411870758,
          5539.9533467591,
          8850.00508353011,
          1917.67017190555,
          2018.6799250716,
          8611.08779772547,
          9177.04790273135,
          13538.7086630759,
          1755.4151335842,
          7761.06904116208,
          3179.5091347183,
          3156.45072596481,
          1699.6557605156,
          5498.95065161939,
          1837.68854291093,
          6665.83252983464,
          9125.13278743278,
          1709.778434696,
          5078.8807686051,
          8836.0795842818,
          7662.97943440235,
          8875.11916753022,
          6373.83660753764,
          3314.56264865427,
          12278.52847146,
          4263.60187636339,
          6838.83387181052,
          8627.11262088073,
          13967.7398837834,
          2018.67857498751,
          2027.66569265333,
          8373.12343699147,
          4183.63467826775,
          14386.8319819377,
          4929.60289101423,
          1582.73641498165,
          3453.593,
          4774.83447006956,
          7608.99136792941,
          8570.0883705165,
          2721.45700055323,
          7919.00922801895,
          1943.74755382303,
          6408.10969945076,
          1922.70886426799,
          3838.54071490643,
          5075.78027011708,
          1950.63639836627,
          1844.67013864193,
          7416.01529228357,
          6023.8579,
          6337.78723117664,
          7301.91991898372,
          2891.45600224856,
          5761.77811516898,
          1838.69290878582,
          6702.88987390359,
          13550.7313114865,
          5680.78471406055,
          4793.71750722497,
          12007.4948039677,
          7030.94386495398,
          4977.71110446934,
          6725.9195,
          6374.83396784888,
          5723.8632
         ],
         "xaxis": "x",
         "y": [
          2.41199741717974,
          2.97924640930494,
          1.75233174916903,
          2.19648224271139,
          2.41199741717974,
          2.6555249408563,
          0.0670641338507334,
          0.307182893721263,
          2.41199741717974,
          2.07908764239947,
          2.41199741717974,
          2.8929083521843,
          3.33934735016823,
          2.80443505999247,
          2.77460951762199,
          4.38983826793035,
          2.41199741717974,
          4.77918826696078,
          3.91470047589938,
          3.03669087645213,
          0.760181142457326,
          1.72014276739756,
          2.41199741717974,
          3.91470047589938,
          2.565401025184,
          2.38141830123266,
          0.250375351874034,
          4.38983826793035,
          3.93684571739833,
          0.132814760573705,
          4.38983826793035,
          1.75233174916903,
          0.281792791255315,
          0.0670641338507334,
          2.53493417458534,
          2.97924640930494,
          2.41199741717974,
          2.565401025184,
          2.59542910811106,
          1.33083772616386,
          3.93684571739833,
          2.22781536734899,
          3.18662824190458,
          3.15822680946986,
          2.92132813490232,
          2.8929083521843,
          2.38141830123266,
          2.41199741717974,
          0.818162510363261,
          0.307182893721263,
          1.12464423335393,
          3.10085884289742,
          3.12933750109673,
          2.41199741717974,
          2.28872465051015,
          2.83412881848017,
          2.41199741717974,
          1.83971891757647,
          3.06520854986509,
          4.95983024991353,
          2.6555249408563,
          0.0670641338507334,
          2.41199741717974,
          2.38141830123266,
          2.14184403376579,
          2.95012683428129,
          2.6555249408563,
          2.41199741717974,
          2.565401025184,
          2.19648224271139,
          3.54791891730626,
          2.97924640930494,
          1.75233174916903,
          2.38141830123266,
          5.92146116650899,
          1.75233174916903,
          2.22781536734899,
          3.06520854986509,
          2.16504036741257,
          1.6879191016833,
          1.27319053368568,
          2.41199741717974,
          3.22149218476613,
          2.28872465051015,
          2.565401025184,
          1.4779728348732,
          2.41199741717974,
          5.70963553345998,
          2.31717286861738,
          5.49790438370705,
          3.40157680865924,
          3.12933750109673,
          3.40157680865924,
          2.97924640930494,
          1.75233174916903,
          2.83412881848017,
          3.42949121750196,
          3.03669087645213,
          0.0670641338507334,
          2.8929083521843,
          3.57562115149498,
          2.50424900012016,
          2.8929083521843,
          2.11072370963097,
          2.47452833410899,
          5.80737327493032,
          0.132814760573705,
          3.12933750109673,
          5.23168555057843,
          2.19648224271139,
          2.97924640930494,
          2.97924640930494,
          0.61184439218839,
          2.8929083521843,
          2.41199741717974,
          2.41199741717974,
          3.28389054295222,
          3.06520854986509,
          2.6555249408563,
          3.40157680865924,
          3.93684571739833,
          3.33934735016823,
          3.24911055919329,
          1.4779728348732,
          2.86365475214322,
          3.42949121750196,
          2.19648224271139,
          0.942408517567317,
          2.77460951762199,
          3.57562115149498,
          2.38141830123266,
          3.54791891730626,
          3.54791891730626,
          1.75233174916903,
          1.87182180838585,
          1.83971891757647,
          1.14942673401833,
          3.15822680946986,
          5.17552039182981,
          2.14184403376579,
          2.97924640930494,
          2.02339700814883,
          2.77460951762199,
          2.83412881848017,
          3.42949121750196,
          3.33934735016823,
          3.3117775753816,
          2.6555249408563,
          2.28872465051015,
          0.132814760573705,
          2.92132813490232,
          2.38141830123266,
          3.33934735016823,
          2.50424900012016,
          3.33934735016823,
          2.71506675041517,
          2.38141830123266,
          0.0999241665681203,
          3.54791891730626,
          3.60999576803843,
          2.38141830123266,
          2.35143605030378,
          2.19648224271139,
          1.75233174916903,
          3.36708034234047,
          3.3117775753816,
          2.80443505999247,
          2.47452833410899,
          2.38141830123266,
          2.92132813490232,
          2.97924640930494,
          4.03561839418411,
          3.4573341424942,
          3.24911055919329,
          0.132814760573705,
          2.95012683428129,
          1.80779737588565,
          2.8929083521843,
          2.77460951762199,
          3.4573341424942,
          3.54791891730626,
          2.74475895123482,
          3.12933750109673,
          2.97924640930494,
          3.15822680946986,
          0.760181142457326,
          0.0999241665681203,
          3.18662824190458,
          3.15822680946986,
          3.54791891730626,
          3.12933750109673,
          2.86365475214322,
          2.11072370963097,
          1.77617063479423,
          0.132814760573705,
          2.95012683428129,
          1.3882135585626,
          2.80443505999247,
          3.18662824190458,
          1.95955337640444,
          2.77460951762199,
          3.15822680946986,
          3.03669087645213,
          3.18662824190458,
          2.565401025184,
          2.14184403376579,
          3.4573341424942,
          1.95955337640444,
          2.80443505999247,
          3.15822680946986,
          3.60999576803843,
          1.42096937454542,
          0.132814760573705,
          2.97924640930494,
          1.27319053368568,
          3.60999576803843,
          2.28872465051015,
          0.132814760573705,
          1.95955337640444,
          2.71506675041517,
          3.03669087645213,
          3.15822680946986,
          0.942408517567317,
          3.06520854986509,
          5.82393964088758,
          3.10085884289742,
          1.33083772616386,
          1.65610215024948,
          2.25845570918719,
          0.132814760573705,
          0.0999241665681203,
          2.83412881848017,
          2.38141830123266,
          2.77460951762199,
          2.95012683428129,
          1.80779737588565,
          2.44041759328842,
          0.132814760573705,
          2.68547071771622,
          3.54791891730626,
          2.41199741717974,
          1.92781483289401,
          3.51996747609774,
          2.80443505999247,
          2.28872465051015,
          2.71506675041517,
          2.565401025184,
          2.53493417458534
         ],
         "yaxis": "y"
        }
       ],
       "layout": {
        "legend": {
         "tracegroupgap": 0
        },
        "margin": {
         "t": 60
        },
        "template": {
         "data": {
          "bar": [
           {
            "error_x": {
             "color": "#2a3f5f"
            },
            "error_y": {
             "color": "#2a3f5f"
            },
            "marker": {
             "line": {
              "color": "#E5ECF6",
              "width": 0.5
             }
            },
            "type": "bar"
           }
          ],
          "barpolar": [
           {
            "marker": {
             "line": {
              "color": "#E5ECF6",
              "width": 0.5
             }
            },
            "type": "barpolar"
           }
          ],
          "carpet": [
           {
            "aaxis": {
             "endlinecolor": "#2a3f5f",
             "gridcolor": "white",
             "linecolor": "white",
             "minorgridcolor": "white",
             "startlinecolor": "#2a3f5f"
            },
            "baxis": {
             "endlinecolor": "#2a3f5f",
             "gridcolor": "white",
             "linecolor": "white",
             "minorgridcolor": "white",
             "startlinecolor": "#2a3f5f"
            },
            "type": "carpet"
           }
          ],
          "choropleth": [
           {
            "colorbar": {
             "outlinewidth": 0,
             "ticks": ""
            },
            "type": "choropleth"
           }
          ],
          "contour": [
           {
            "colorbar": {
             "outlinewidth": 0,
             "ticks": ""
            },
            "colorscale": [
             [
              0,
              "#0d0887"
             ],
             [
              0.1111111111111111,
              "#46039f"
             ],
             [
              0.2222222222222222,
              "#7201a8"
             ],
             [
              0.3333333333333333,
              "#9c179e"
             ],
             [
              0.4444444444444444,
              "#bd3786"
             ],
             [
              0.5555555555555556,
              "#d8576b"
             ],
             [
              0.6666666666666666,
              "#ed7953"
             ],
             [
              0.7777777777777778,
              "#fb9f3a"
             ],
             [
              0.8888888888888888,
              "#fdca26"
             ],
             [
              1,
              "#f0f921"
             ]
            ],
            "type": "contour"
           }
          ],
          "contourcarpet": [
           {
            "colorbar": {
             "outlinewidth": 0,
             "ticks": ""
            },
            "type": "contourcarpet"
           }
          ],
          "heatmap": [
           {
            "colorbar": {
             "outlinewidth": 0,
             "ticks": ""
            },
            "colorscale": [
             [
              0,
              "#0d0887"
             ],
             [
              0.1111111111111111,
              "#46039f"
             ],
             [
              0.2222222222222222,
              "#7201a8"
             ],
             [
              0.3333333333333333,
              "#9c179e"
             ],
             [
              0.4444444444444444,
              "#bd3786"
             ],
             [
              0.5555555555555556,
              "#d8576b"
             ],
             [
              0.6666666666666666,
              "#ed7953"
             ],
             [
              0.7777777777777778,
              "#fb9f3a"
             ],
             [
              0.8888888888888888,
              "#fdca26"
             ],
             [
              1,
              "#f0f921"
             ]
            ],
            "type": "heatmap"
           }
          ],
          "heatmapgl": [
           {
            "colorbar": {
             "outlinewidth": 0,
             "ticks": ""
            },
            "colorscale": [
             [
              0,
              "#0d0887"
             ],
             [
              0.1111111111111111,
              "#46039f"
             ],
             [
              0.2222222222222222,
              "#7201a8"
             ],
             [
              0.3333333333333333,
              "#9c179e"
             ],
             [
              0.4444444444444444,
              "#bd3786"
             ],
             [
              0.5555555555555556,
              "#d8576b"
             ],
             [
              0.6666666666666666,
              "#ed7953"
             ],
             [
              0.7777777777777778,
              "#fb9f3a"
             ],
             [
              0.8888888888888888,
              "#fdca26"
             ],
             [
              1,
              "#f0f921"
             ]
            ],
            "type": "heatmapgl"
           }
          ],
          "histogram": [
           {
            "marker": {
             "colorbar": {
              "outlinewidth": 0,
              "ticks": ""
             }
            },
            "type": "histogram"
           }
          ],
          "histogram2d": [
           {
            "colorbar": {
             "outlinewidth": 0,
             "ticks": ""
            },
            "colorscale": [
             [
              0,
              "#0d0887"
             ],
             [
              0.1111111111111111,
              "#46039f"
             ],
             [
              0.2222222222222222,
              "#7201a8"
             ],
             [
              0.3333333333333333,
              "#9c179e"
             ],
             [
              0.4444444444444444,
              "#bd3786"
             ],
             [
              0.5555555555555556,
              "#d8576b"
             ],
             [
              0.6666666666666666,
              "#ed7953"
             ],
             [
              0.7777777777777778,
              "#fb9f3a"
             ],
             [
              0.8888888888888888,
              "#fdca26"
             ],
             [
              1,
              "#f0f921"
             ]
            ],
            "type": "histogram2d"
           }
          ],
          "histogram2dcontour": [
           {
            "colorbar": {
             "outlinewidth": 0,
             "ticks": ""
            },
            "colorscale": [
             [
              0,
              "#0d0887"
             ],
             [
              0.1111111111111111,
              "#46039f"
             ],
             [
              0.2222222222222222,
              "#7201a8"
             ],
             [
              0.3333333333333333,
              "#9c179e"
             ],
             [
              0.4444444444444444,
              "#bd3786"
             ],
             [
              0.5555555555555556,
              "#d8576b"
             ],
             [
              0.6666666666666666,
              "#ed7953"
             ],
             [
              0.7777777777777778,
              "#fb9f3a"
             ],
             [
              0.8888888888888888,
              "#fdca26"
             ],
             [
              1,
              "#f0f921"
             ]
            ],
            "type": "histogram2dcontour"
           }
          ],
          "mesh3d": [
           {
            "colorbar": {
             "outlinewidth": 0,
             "ticks": ""
            },
            "type": "mesh3d"
           }
          ],
          "parcoords": [
           {
            "line": {
             "colorbar": {
              "outlinewidth": 0,
              "ticks": ""
             }
            },
            "type": "parcoords"
           }
          ],
          "pie": [
           {
            "automargin": true,
            "type": "pie"
           }
          ],
          "scatter": [
           {
            "marker": {
             "colorbar": {
              "outlinewidth": 0,
              "ticks": ""
             }
            },
            "type": "scatter"
           }
          ],
          "scatter3d": [
           {
            "line": {
             "colorbar": {
              "outlinewidth": 0,
              "ticks": ""
             }
            },
            "marker": {
             "colorbar": {
              "outlinewidth": 0,
              "ticks": ""
             }
            },
            "type": "scatter3d"
           }
          ],
          "scattercarpet": [
           {
            "marker": {
             "colorbar": {
              "outlinewidth": 0,
              "ticks": ""
             }
            },
            "type": "scattercarpet"
           }
          ],
          "scattergeo": [
           {
            "marker": {
             "colorbar": {
              "outlinewidth": 0,
              "ticks": ""
             }
            },
            "type": "scattergeo"
           }
          ],
          "scattergl": [
           {
            "marker": {
             "colorbar": {
              "outlinewidth": 0,
              "ticks": ""
             }
            },
            "type": "scattergl"
           }
          ],
          "scattermapbox": [
           {
            "marker": {
             "colorbar": {
              "outlinewidth": 0,
              "ticks": ""
             }
            },
            "type": "scattermapbox"
           }
          ],
          "scatterpolar": [
           {
            "marker": {
             "colorbar": {
              "outlinewidth": 0,
              "ticks": ""
             }
            },
            "type": "scatterpolar"
           }
          ],
          "scatterpolargl": [
           {
            "marker": {
             "colorbar": {
              "outlinewidth": 0,
              "ticks": ""
             }
            },
            "type": "scatterpolargl"
           }
          ],
          "scatterternary": [
           {
            "marker": {
             "colorbar": {
              "outlinewidth": 0,
              "ticks": ""
             }
            },
            "type": "scatterternary"
           }
          ],
          "surface": [
           {
            "colorbar": {
             "outlinewidth": 0,
             "ticks": ""
            },
            "colorscale": [
             [
              0,
              "#0d0887"
             ],
             [
              0.1111111111111111,
              "#46039f"
             ],
             [
              0.2222222222222222,
              "#7201a8"
             ],
             [
              0.3333333333333333,
              "#9c179e"
             ],
             [
              0.4444444444444444,
              "#bd3786"
             ],
             [
              0.5555555555555556,
              "#d8576b"
             ],
             [
              0.6666666666666666,
              "#ed7953"
             ],
             [
              0.7777777777777778,
              "#fb9f3a"
             ],
             [
              0.8888888888888888,
              "#fdca26"
             ],
             [
              1,
              "#f0f921"
             ]
            ],
            "type": "surface"
           }
          ],
          "table": [
           {
            "cells": {
             "fill": {
              "color": "#EBF0F8"
             },
             "line": {
              "color": "white"
             }
            },
            "header": {
             "fill": {
              "color": "#C8D4E3"
             },
             "line": {
              "color": "white"
             }
            },
            "type": "table"
           }
          ]
         },
         "layout": {
          "annotationdefaults": {
           "arrowcolor": "#2a3f5f",
           "arrowhead": 0,
           "arrowwidth": 1
          },
          "coloraxis": {
           "colorbar": {
            "outlinewidth": 0,
            "ticks": ""
           }
          },
          "colorscale": {
           "diverging": [
            [
             0,
             "#8e0152"
            ],
            [
             0.1,
             "#c51b7d"
            ],
            [
             0.2,
             "#de77ae"
            ],
            [
             0.3,
             "#f1b6da"
            ],
            [
             0.4,
             "#fde0ef"
            ],
            [
             0.5,
             "#f7f7f7"
            ],
            [
             0.6,
             "#e6f5d0"
            ],
            [
             0.7,
             "#b8e186"
            ],
            [
             0.8,
             "#7fbc41"
            ],
            [
             0.9,
             "#4d9221"
            ],
            [
             1,
             "#276419"
            ]
           ],
           "sequential": [
            [
             0,
             "#0d0887"
            ],
            [
             0.1111111111111111,
             "#46039f"
            ],
            [
             0.2222222222222222,
             "#7201a8"
            ],
            [
             0.3333333333333333,
             "#9c179e"
            ],
            [
             0.4444444444444444,
             "#bd3786"
            ],
            [
             0.5555555555555556,
             "#d8576b"
            ],
            [
             0.6666666666666666,
             "#ed7953"
            ],
            [
             0.7777777777777778,
             "#fb9f3a"
            ],
            [
             0.8888888888888888,
             "#fdca26"
            ],
            [
             1,
             "#f0f921"
            ]
           ],
           "sequentialminus": [
            [
             0,
             "#0d0887"
            ],
            [
             0.1111111111111111,
             "#46039f"
            ],
            [
             0.2222222222222222,
             "#7201a8"
            ],
            [
             0.3333333333333333,
             "#9c179e"
            ],
            [
             0.4444444444444444,
             "#bd3786"
            ],
            [
             0.5555555555555556,
             "#d8576b"
            ],
            [
             0.6666666666666666,
             "#ed7953"
            ],
            [
             0.7777777777777778,
             "#fb9f3a"
            ],
            [
             0.8888888888888888,
             "#fdca26"
            ],
            [
             1,
             "#f0f921"
            ]
           ]
          },
          "colorway": [
           "#636efa",
           "#EF553B",
           "#00cc96",
           "#ab63fa",
           "#FFA15A",
           "#19d3f3",
           "#FF6692",
           "#B6E880",
           "#FF97FF",
           "#FECB52"
          ],
          "font": {
           "color": "#2a3f5f"
          },
          "geo": {
           "bgcolor": "white",
           "lakecolor": "white",
           "landcolor": "#E5ECF6",
           "showlakes": true,
           "showland": true,
           "subunitcolor": "white"
          },
          "hoverlabel": {
           "align": "left"
          },
          "hovermode": "closest",
          "mapbox": {
           "style": "light"
          },
          "paper_bgcolor": "white",
          "plot_bgcolor": "#E5ECF6",
          "polar": {
           "angularaxis": {
            "gridcolor": "white",
            "linecolor": "white",
            "ticks": ""
           },
           "bgcolor": "#E5ECF6",
           "radialaxis": {
            "gridcolor": "white",
            "linecolor": "white",
            "ticks": ""
           }
          },
          "scene": {
           "xaxis": {
            "backgroundcolor": "#E5ECF6",
            "gridcolor": "white",
            "gridwidth": 2,
            "linecolor": "white",
            "showbackground": true,
            "ticks": "",
            "zerolinecolor": "white"
           },
           "yaxis": {
            "backgroundcolor": "#E5ECF6",
            "gridcolor": "white",
            "gridwidth": 2,
            "linecolor": "white",
            "showbackground": true,
            "ticks": "",
            "zerolinecolor": "white"
           },
           "zaxis": {
            "backgroundcolor": "#E5ECF6",
            "gridcolor": "white",
            "gridwidth": 2,
            "linecolor": "white",
            "showbackground": true,
            "ticks": "",
            "zerolinecolor": "white"
           }
          },
          "shapedefaults": {
           "line": {
            "color": "#2a3f5f"
           }
          },
          "ternary": {
           "aaxis": {
            "gridcolor": "white",
            "linecolor": "white",
            "ticks": ""
           },
           "baxis": {
            "gridcolor": "white",
            "linecolor": "white",
            "ticks": ""
           },
           "bgcolor": "#E5ECF6",
           "caxis": {
            "gridcolor": "white",
            "linecolor": "white",
            "ticks": ""
           }
          },
          "title": {
           "x": 0.05
          },
          "xaxis": {
           "automargin": true,
           "gridcolor": "white",
           "linecolor": "white",
           "ticks": "",
           "title": {
            "standoff": 15
           },
           "zerolinecolor": "white",
           "zerolinewidth": 2
          },
          "yaxis": {
           "automargin": true,
           "gridcolor": "white",
           "linecolor": "white",
           "ticks": "",
           "title": {
            "standoff": 15
           },
           "zerolinecolor": "white",
           "zerolinewidth": 2
          }
         }
        },
        "xaxis": {
         "anchor": "y",
         "domain": [
          0,
          1
         ],
         "title": {
          "text": "x"
         }
        },
        "yaxis": {
         "anchor": "x",
         "domain": [
          0,
          1
         ],
         "title": {
          "text": "y"
         }
        }
       }
      },
      "text/html": [
       "<div>\n",
       "        \n",
       "        \n",
       "            <div id=\"bc81e56a-e89d-4c35-bd76-592ff9ec0243\" class=\"plotly-graph-div\" style=\"height:525px; width:100%;\"></div>\n",
       "            <script type=\"text/javascript\">\n",
       "                require([\"plotly\"], function(Plotly) {\n",
       "                    window.PLOTLYENV=window.PLOTLYENV || {};\n",
       "                    \n",
       "                if (document.getElementById(\"bc81e56a-e89d-4c35-bd76-592ff9ec0243\")) {\n",
       "                    Plotly.newPlot(\n",
       "                        'bc81e56a-e89d-4c35-bd76-592ff9ec0243',\n",
       "                        [{\"hoverlabel\": {\"namelength\": 0}, \"hovertemplate\": \"x=%{x}<br>y=%{y}\", \"legendgroup\": \"\", \"marker\": {\"color\": \"#636efa\", \"symbol\": \"circle\"}, \"mode\": \"markers\", \"name\": \"\", \"showlegend\": false, \"type\": \"scatter\", \"x\": [4055.69880851859, 5523.9530179957, 3100.53237426614, 3742.64368223472, 4112.61804741342, 4648.79633851218, 1532.78509158148, 1613.17619695829, 4077.67875737319, 3413.59028135509, 4236.69537457633, 5210.89368227878, 1519.83705767363, 4961.85273886204, 4897.83545480797, 1811.97748226565, 4099.65961969137, 1832.47829687715, 1739.08356367306, 5828.00487048953, 2458.42203627627, 3084.53694918537, 4121.63506799123, 8158.00968744306, 1666.755696238, 4118.62323697323, 2300.69454961534, 1781.78766157784, 1740.22675222253, 1912.71562891775, 5184.66548335519, 3122.5131699634, 2282.83291790435, 1815.74453181594, 4359.74829472535, 5545.93720765248, 4143.62261283571, 4135.66781081528, 2195.70145075286, 2771.47906027701, 8161.3619057133, 3765.62688723005, 9120.1243332371, 8793.09101345668, 7183.88796931017, 5194.90676336612, 4006.68223205657, 4165.60487502942, 2522.43902989398, 2238.71058871186, 2811.48595128319, 8470.04457420833, 8776.07390523015, 4187.58595290689, 4873.68283400402, 4865.84459707464, 4134.59944249718, 2005.72432762401, 8164.0194736797, 4029.04274700688, 4670.77342355288, 2102.6981755727, 4254.70532142479, 4209.56786367548, 4568.64108283833, 7529.93600899831, 4705.71402763178, 4231.55087971549, 4319.74132582409, 3799.56310290723, 13537.7034657899, 5567.90851198358, 3144.49388943311, 4253.53541108413, 1987.1162, 3157.45258853068, 3766.65091600134, 7876.995014702, 5106.77666337215, 4488.67665923444, 2124.64302385643, 3822.60858049132, 9139.14184361478, 5412.79992476537, 5549.64794247272, 2602.40375944811, 4218.68603106341, 1952.62179962086, 3938.65469846203, 1913.20337149348, 10673.3442328166, 6166.06083008009, 11050.3894054383, 7528.92603389469, 3166.47628267152, 4881.83814830963, 11356.3830984476, 7858.99037106249, 1519.83770929789, 2285.61968903981, 14187.8034304348, 3940.67885599496, 6857.84608481862, 3435.57249167864, 6406.94678967776, 1953.7873734546, 1867.69389156736, 8488.05921877729, 2360.6995, 3786.60468959607, 5589.89744523827, 5580.87285798898, 2128.36916000836, 5233.87497085411, 4180.55875530303, 4055.37920443236, 9698.2267738586, 5853.0033598197, 4692.7575243691, 11338.3928242789, 2237.8345152912, 10726.3241686451, 9771.21228561776, 2101.6971007434, 6839.83606854653, 11662.4330750241, 3808.59135719993, 2703.43306672102, 6510.78020370635, 14204.8222388344, 4093.65618391679, 13882.7563609588, 13232.6634322143, 3188.45727205745, 3083.54825844629, 3902.55500352204, 2787.46973797862, 8588.09682532286, 1732.73013196327, 3937.66969595782, 5611.8784165728, 4287.61120868558, 4919.812, 7376.99768188015, 11644.4321155685, 10349.3000354234, 10115.2653087699, 4714.7386, 4089.70360794067, 2313.61969019691, 5169.89563667932, 4138.60248287463, 11032.3661527684, 6067.81500811512, 10439.3056114633, 6320.77517734909, 4202.54002112244, 1637.75022483533, 13623.6959562497, 14532.8499830157, 2027.71297495381, 6061.89054127816, 3964.68111645951, 3210.43960866982, 10656.3359698939, 10421.3058253072, 4983.83288423867, 5204.60536373299, 4898.57008110534, 7012.89047937331, 5633.8594, 2148.61960651051, 12582.574399113, 9159.14845091863, 1771.71841549825, 7201.9066877713, 3010.51407366623, 7722.04623361388, 7070.97243377859, 11678.4285927385, 12926.6175860925, 4552.78711351855, 8530.06411870758, 5539.9533467591, 8850.00508353011, 1917.67017190555, 2018.6799250716, 8611.08779772547, 9177.04790273135, 13538.7086630759, 1755.4151335842, 7761.06904116208, 3179.5091347183, 3156.45072596481, 1699.6557605156, 5498.95065161939, 1837.68854291093, 6665.83252983464, 9125.13278743278, 1709.778434696, 5078.8807686051, 8836.0795842818, 7662.97943440235, 8875.11916753022, 6373.83660753764, 3314.56264865427, 12278.52847146, 4263.60187636339, 6838.83387181052, 8627.11262088073, 13967.7398837834, 2018.67857498751, 2027.66569265333, 8373.12343699147, 4183.63467826775, 14386.8319819377, 4929.60289101423, 1582.73641498165, 3453.593, 4774.83447006956, 7608.99136792941, 8570.0883705165, 2721.45700055323, 7919.00922801895, 1943.74755382303, 6408.10969945076, 1922.70886426799, 3838.54071490643, 5075.78027011708, 1950.63639836627, 1844.67013864193, 7416.01529228357, 6023.8579, 6337.78723117664, 7301.91991898372, 2891.45600224856, 5761.77811516898, 1838.69290878582, 6702.88987390359, 13550.7313114865, 5680.78471406055, 4793.71750722497, 12007.4948039677, 7030.94386495398, 4977.71110446934, 6725.9195, 6374.83396784888, 5723.8632], \"xaxis\": \"x\", \"y\": [2.41199741717974, 2.97924640930494, 1.75233174916903, 2.19648224271139, 2.41199741717974, 2.6555249408563, 0.0670641338507334, 0.307182893721263, 2.41199741717974, 2.07908764239947, 2.41199741717974, 2.8929083521843, 3.33934735016823, 2.80443505999247, 2.77460951762199, 4.38983826793035, 2.41199741717974, 4.77918826696078, 3.91470047589938, 3.03669087645213, 0.760181142457326, 1.72014276739756, 2.41199741717974, 3.91470047589938, 2.565401025184, 2.38141830123266, 0.250375351874034, 4.38983826793035, 3.93684571739833, 0.132814760573705, 4.38983826793035, 1.75233174916903, 0.281792791255315, 0.0670641338507334, 2.53493417458534, 2.97924640930494, 2.41199741717974, 2.565401025184, 2.59542910811106, 1.33083772616386, 3.93684571739833, 2.22781536734899, 3.18662824190458, 3.15822680946986, 2.92132813490232, 2.8929083521843, 2.38141830123266, 2.41199741717974, 0.818162510363261, 0.307182893721263, 1.12464423335393, 3.10085884289742, 3.12933750109673, 2.41199741717974, 2.28872465051015, 2.83412881848017, 2.41199741717974, 1.83971891757647, 3.06520854986509, 4.95983024991353, 2.6555249408563, 0.0670641338507334, 2.41199741717974, 2.38141830123266, 2.14184403376579, 2.95012683428129, 2.6555249408563, 2.41199741717974, 2.565401025184, 2.19648224271139, 3.54791891730626, 2.97924640930494, 1.75233174916903, 2.38141830123266, 5.92146116650899, 1.75233174916903, 2.22781536734899, 3.06520854986509, 2.16504036741257, 1.6879191016833, 1.27319053368568, 2.41199741717974, 3.22149218476613, 2.28872465051015, 2.565401025184, 1.4779728348732, 2.41199741717974, 5.70963553345998, 2.31717286861738, 5.49790438370705, 3.40157680865924, 3.12933750109673, 3.40157680865924, 2.97924640930494, 1.75233174916903, 2.83412881848017, 3.42949121750196, 3.03669087645213, 0.0670641338507334, 2.8929083521843, 3.57562115149498, 2.50424900012016, 2.8929083521843, 2.11072370963097, 2.47452833410899, 5.80737327493032, 0.132814760573705, 3.12933750109673, 5.23168555057843, 2.19648224271139, 2.97924640930494, 2.97924640930494, 0.61184439218839, 2.8929083521843, 2.41199741717974, 2.41199741717974, 3.28389054295222, 3.06520854986509, 2.6555249408563, 3.40157680865924, 3.93684571739833, 3.33934735016823, 3.24911055919329, 1.4779728348732, 2.86365475214322, 3.42949121750196, 2.19648224271139, 0.942408517567317, 2.77460951762199, 3.57562115149498, 2.38141830123266, 3.54791891730626, 3.54791891730626, 1.75233174916903, 1.87182180838585, 1.83971891757647, 1.14942673401833, 3.15822680946986, 5.17552039182981, 2.14184403376579, 2.97924640930494, 2.02339700814883, 2.77460951762199, 2.83412881848017, 3.42949121750196, 3.33934735016823, 3.3117775753816, 2.6555249408563, 2.28872465051015, 0.132814760573705, 2.92132813490232, 2.38141830123266, 3.33934735016823, 2.50424900012016, 3.33934735016823, 2.71506675041517, 2.38141830123266, 0.0999241665681203, 3.54791891730626, 3.60999576803843, 2.38141830123266, 2.35143605030378, 2.19648224271139, 1.75233174916903, 3.36708034234047, 3.3117775753816, 2.80443505999247, 2.47452833410899, 2.38141830123266, 2.92132813490232, 2.97924640930494, 4.03561839418411, 3.4573341424942, 3.24911055919329, 0.132814760573705, 2.95012683428129, 1.80779737588565, 2.8929083521843, 2.77460951762199, 3.4573341424942, 3.54791891730626, 2.74475895123482, 3.12933750109673, 2.97924640930494, 3.15822680946986, 0.760181142457326, 0.0999241665681203, 3.18662824190458, 3.15822680946986, 3.54791891730626, 3.12933750109673, 2.86365475214322, 2.11072370963097, 1.77617063479423, 0.132814760573705, 2.95012683428129, 1.3882135585626, 2.80443505999247, 3.18662824190458, 1.95955337640444, 2.77460951762199, 3.15822680946986, 3.03669087645213, 3.18662824190458, 2.565401025184, 2.14184403376579, 3.4573341424942, 1.95955337640444, 2.80443505999247, 3.15822680946986, 3.60999576803843, 1.42096937454542, 0.132814760573705, 2.97924640930494, 1.27319053368568, 3.60999576803843, 2.28872465051015, 0.132814760573705, 1.95955337640444, 2.71506675041517, 3.03669087645213, 3.15822680946986, 0.942408517567317, 3.06520854986509, 5.82393964088758, 3.10085884289742, 1.33083772616386, 1.65610215024948, 2.25845570918719, 0.132814760573705, 0.0999241665681203, 2.83412881848017, 2.38141830123266, 2.77460951762199, 2.95012683428129, 1.80779737588565, 2.44041759328842, 0.132814760573705, 2.68547071771622, 3.54791891730626, 2.41199741717974, 1.92781483289401, 3.51996747609774, 2.80443505999247, 2.28872465051015, 2.71506675041517, 2.565401025184, 2.53493417458534], \"yaxis\": \"y\"}],\n",
       "                        {\"legend\": {\"tracegroupgap\": 0}, \"margin\": {\"t\": 60}, \"template\": {\"data\": {\"bar\": [{\"error_x\": {\"color\": \"#2a3f5f\"}, \"error_y\": {\"color\": \"#2a3f5f\"}, \"marker\": {\"line\": {\"color\": \"#E5ECF6\", \"width\": 0.5}}, \"type\": \"bar\"}], \"barpolar\": [{\"marker\": {\"line\": {\"color\": \"#E5ECF6\", \"width\": 0.5}}, \"type\": \"barpolar\"}], \"carpet\": [{\"aaxis\": {\"endlinecolor\": \"#2a3f5f\", \"gridcolor\": \"white\", \"linecolor\": \"white\", \"minorgridcolor\": \"white\", \"startlinecolor\": \"#2a3f5f\"}, \"baxis\": {\"endlinecolor\": \"#2a3f5f\", \"gridcolor\": \"white\", \"linecolor\": \"white\", \"minorgridcolor\": \"white\", \"startlinecolor\": \"#2a3f5f\"}, \"type\": \"carpet\"}], \"choropleth\": [{\"colorbar\": {\"outlinewidth\": 0, \"ticks\": \"\"}, \"type\": \"choropleth\"}], \"contour\": [{\"colorbar\": {\"outlinewidth\": 0, \"ticks\": \"\"}, \"colorscale\": [[0.0, \"#0d0887\"], [0.1111111111111111, \"#46039f\"], [0.2222222222222222, \"#7201a8\"], [0.3333333333333333, \"#9c179e\"], [0.4444444444444444, \"#bd3786\"], [0.5555555555555556, \"#d8576b\"], [0.6666666666666666, \"#ed7953\"], [0.7777777777777778, \"#fb9f3a\"], [0.8888888888888888, \"#fdca26\"], [1.0, \"#f0f921\"]], \"type\": \"contour\"}], \"contourcarpet\": [{\"colorbar\": {\"outlinewidth\": 0, \"ticks\": \"\"}, \"type\": \"contourcarpet\"}], \"heatmap\": [{\"colorbar\": {\"outlinewidth\": 0, \"ticks\": \"\"}, \"colorscale\": [[0.0, \"#0d0887\"], [0.1111111111111111, \"#46039f\"], [0.2222222222222222, \"#7201a8\"], [0.3333333333333333, \"#9c179e\"], [0.4444444444444444, \"#bd3786\"], [0.5555555555555556, \"#d8576b\"], [0.6666666666666666, \"#ed7953\"], [0.7777777777777778, \"#fb9f3a\"], [0.8888888888888888, \"#fdca26\"], [1.0, \"#f0f921\"]], \"type\": \"heatmap\"}], \"heatmapgl\": [{\"colorbar\": {\"outlinewidth\": 0, \"ticks\": \"\"}, \"colorscale\": [[0.0, \"#0d0887\"], [0.1111111111111111, \"#46039f\"], [0.2222222222222222, \"#7201a8\"], [0.3333333333333333, \"#9c179e\"], [0.4444444444444444, \"#bd3786\"], [0.5555555555555556, \"#d8576b\"], [0.6666666666666666, \"#ed7953\"], [0.7777777777777778, \"#fb9f3a\"], [0.8888888888888888, \"#fdca26\"], [1.0, \"#f0f921\"]], \"type\": \"heatmapgl\"}], \"histogram\": [{\"marker\": {\"colorbar\": {\"outlinewidth\": 0, \"ticks\": \"\"}}, \"type\": \"histogram\"}], \"histogram2d\": [{\"colorbar\": {\"outlinewidth\": 0, \"ticks\": \"\"}, \"colorscale\": [[0.0, \"#0d0887\"], [0.1111111111111111, \"#46039f\"], [0.2222222222222222, \"#7201a8\"], [0.3333333333333333, \"#9c179e\"], [0.4444444444444444, \"#bd3786\"], [0.5555555555555556, \"#d8576b\"], [0.6666666666666666, \"#ed7953\"], [0.7777777777777778, \"#fb9f3a\"], [0.8888888888888888, \"#fdca26\"], [1.0, \"#f0f921\"]], \"type\": \"histogram2d\"}], \"histogram2dcontour\": [{\"colorbar\": {\"outlinewidth\": 0, \"ticks\": \"\"}, \"colorscale\": [[0.0, \"#0d0887\"], [0.1111111111111111, \"#46039f\"], [0.2222222222222222, \"#7201a8\"], [0.3333333333333333, \"#9c179e\"], [0.4444444444444444, \"#bd3786\"], [0.5555555555555556, \"#d8576b\"], [0.6666666666666666, \"#ed7953\"], [0.7777777777777778, \"#fb9f3a\"], [0.8888888888888888, \"#fdca26\"], [1.0, \"#f0f921\"]], \"type\": \"histogram2dcontour\"}], \"mesh3d\": [{\"colorbar\": {\"outlinewidth\": 0, \"ticks\": \"\"}, \"type\": \"mesh3d\"}], \"parcoords\": [{\"line\": {\"colorbar\": {\"outlinewidth\": 0, \"ticks\": \"\"}}, \"type\": \"parcoords\"}], \"pie\": [{\"automargin\": true, \"type\": \"pie\"}], \"scatter\": [{\"marker\": {\"colorbar\": {\"outlinewidth\": 0, \"ticks\": \"\"}}, \"type\": \"scatter\"}], \"scatter3d\": [{\"line\": {\"colorbar\": {\"outlinewidth\": 0, \"ticks\": \"\"}}, \"marker\": {\"colorbar\": {\"outlinewidth\": 0, \"ticks\": \"\"}}, \"type\": \"scatter3d\"}], \"scattercarpet\": [{\"marker\": {\"colorbar\": {\"outlinewidth\": 0, \"ticks\": \"\"}}, \"type\": \"scattercarpet\"}], \"scattergeo\": [{\"marker\": {\"colorbar\": {\"outlinewidth\": 0, \"ticks\": \"\"}}, \"type\": \"scattergeo\"}], \"scattergl\": [{\"marker\": {\"colorbar\": {\"outlinewidth\": 0, \"ticks\": \"\"}}, \"type\": \"scattergl\"}], \"scattermapbox\": [{\"marker\": {\"colorbar\": {\"outlinewidth\": 0, \"ticks\": \"\"}}, \"type\": \"scattermapbox\"}], \"scatterpolar\": [{\"marker\": {\"colorbar\": {\"outlinewidth\": 0, \"ticks\": \"\"}}, \"type\": \"scatterpolar\"}], \"scatterpolargl\": [{\"marker\": {\"colorbar\": {\"outlinewidth\": 0, \"ticks\": \"\"}}, \"type\": \"scatterpolargl\"}], \"scatterternary\": [{\"marker\": {\"colorbar\": {\"outlinewidth\": 0, \"ticks\": \"\"}}, \"type\": \"scatterternary\"}], \"surface\": [{\"colorbar\": {\"outlinewidth\": 0, \"ticks\": \"\"}, \"colorscale\": [[0.0, \"#0d0887\"], [0.1111111111111111, \"#46039f\"], [0.2222222222222222, \"#7201a8\"], [0.3333333333333333, \"#9c179e\"], [0.4444444444444444, \"#bd3786\"], [0.5555555555555556, \"#d8576b\"], [0.6666666666666666, \"#ed7953\"], [0.7777777777777778, \"#fb9f3a\"], [0.8888888888888888, \"#fdca26\"], [1.0, \"#f0f921\"]], \"type\": \"surface\"}], \"table\": [{\"cells\": {\"fill\": {\"color\": \"#EBF0F8\"}, \"line\": {\"color\": \"white\"}}, \"header\": {\"fill\": {\"color\": \"#C8D4E3\"}, \"line\": {\"color\": \"white\"}}, \"type\": \"table\"}]}, \"layout\": {\"annotationdefaults\": {\"arrowcolor\": \"#2a3f5f\", \"arrowhead\": 0, \"arrowwidth\": 1}, \"coloraxis\": {\"colorbar\": {\"outlinewidth\": 0, \"ticks\": \"\"}}, \"colorscale\": {\"diverging\": [[0, \"#8e0152\"], [0.1, \"#c51b7d\"], [0.2, \"#de77ae\"], [0.3, \"#f1b6da\"], [0.4, \"#fde0ef\"], [0.5, \"#f7f7f7\"], [0.6, \"#e6f5d0\"], [0.7, \"#b8e186\"], [0.8, \"#7fbc41\"], [0.9, \"#4d9221\"], [1, \"#276419\"]], \"sequential\": [[0.0, \"#0d0887\"], [0.1111111111111111, \"#46039f\"], [0.2222222222222222, \"#7201a8\"], [0.3333333333333333, \"#9c179e\"], [0.4444444444444444, \"#bd3786\"], [0.5555555555555556, \"#d8576b\"], [0.6666666666666666, \"#ed7953\"], [0.7777777777777778, \"#fb9f3a\"], [0.8888888888888888, \"#fdca26\"], [1.0, \"#f0f921\"]], \"sequentialminus\": [[0.0, \"#0d0887\"], [0.1111111111111111, \"#46039f\"], [0.2222222222222222, \"#7201a8\"], [0.3333333333333333, \"#9c179e\"], [0.4444444444444444, \"#bd3786\"], [0.5555555555555556, \"#d8576b\"], [0.6666666666666666, \"#ed7953\"], [0.7777777777777778, \"#fb9f3a\"], [0.8888888888888888, \"#fdca26\"], [1.0, \"#f0f921\"]]}, \"colorway\": [\"#636efa\", \"#EF553B\", \"#00cc96\", \"#ab63fa\", \"#FFA15A\", \"#19d3f3\", \"#FF6692\", \"#B6E880\", \"#FF97FF\", \"#FECB52\"], \"font\": {\"color\": \"#2a3f5f\"}, \"geo\": {\"bgcolor\": \"white\", \"lakecolor\": \"white\", \"landcolor\": \"#E5ECF6\", \"showlakes\": true, \"showland\": true, \"subunitcolor\": \"white\"}, \"hoverlabel\": {\"align\": \"left\"}, \"hovermode\": \"closest\", \"mapbox\": {\"style\": \"light\"}, \"paper_bgcolor\": \"white\", \"plot_bgcolor\": \"#E5ECF6\", \"polar\": {\"angularaxis\": {\"gridcolor\": \"white\", \"linecolor\": \"white\", \"ticks\": \"\"}, \"bgcolor\": \"#E5ECF6\", \"radialaxis\": {\"gridcolor\": \"white\", \"linecolor\": \"white\", \"ticks\": \"\"}}, \"scene\": {\"xaxis\": {\"backgroundcolor\": \"#E5ECF6\", \"gridcolor\": \"white\", \"gridwidth\": 2, \"linecolor\": \"white\", \"showbackground\": true, \"ticks\": \"\", \"zerolinecolor\": \"white\"}, \"yaxis\": {\"backgroundcolor\": \"#E5ECF6\", \"gridcolor\": \"white\", \"gridwidth\": 2, \"linecolor\": \"white\", \"showbackground\": true, \"ticks\": \"\", \"zerolinecolor\": \"white\"}, \"zaxis\": {\"backgroundcolor\": \"#E5ECF6\", \"gridcolor\": \"white\", \"gridwidth\": 2, \"linecolor\": \"white\", \"showbackground\": true, \"ticks\": \"\", \"zerolinecolor\": \"white\"}}, \"shapedefaults\": {\"line\": {\"color\": \"#2a3f5f\"}}, \"ternary\": {\"aaxis\": {\"gridcolor\": \"white\", \"linecolor\": \"white\", \"ticks\": \"\"}, \"baxis\": {\"gridcolor\": \"white\", \"linecolor\": \"white\", \"ticks\": \"\"}, \"bgcolor\": \"#E5ECF6\", \"caxis\": {\"gridcolor\": \"white\", \"linecolor\": \"white\", \"ticks\": \"\"}}, \"title\": {\"x\": 0.05}, \"xaxis\": {\"automargin\": true, \"gridcolor\": \"white\", \"linecolor\": \"white\", \"ticks\": \"\", \"title\": {\"standoff\": 15}, \"zerolinecolor\": \"white\", \"zerolinewidth\": 2}, \"yaxis\": {\"automargin\": true, \"gridcolor\": \"white\", \"linecolor\": \"white\", \"ticks\": \"\", \"title\": {\"standoff\": 15}, \"zerolinecolor\": \"white\", \"zerolinewidth\": 2}}}, \"xaxis\": {\"anchor\": \"y\", \"domain\": [0.0, 1.0], \"title\": {\"text\": \"x\"}}, \"yaxis\": {\"anchor\": \"x\", \"domain\": [0.0, 1.0], \"title\": {\"text\": \"y\"}}},\n",
       "                        {\"responsive\": true}\n",
       "                    ).then(function(){\n",
       "                            \n",
       "var gd = document.getElementById('bc81e56a-e89d-4c35-bd76-592ff9ec0243');\n",
       "var x = new MutationObserver(function (mutations, observer) {{\n",
       "        var display = window.getComputedStyle(gd).display;\n",
       "        if (!display || display === 'none') {{\n",
       "            console.log([gd, 'removed!']);\n",
       "            Plotly.purge(gd);\n",
       "            observer.disconnect();\n",
       "        }}\n",
       "}});\n",
       "\n",
       "// Listen for the removal of the full notebook cells\n",
       "var notebookContainer = gd.closest('#notebook-container');\n",
       "if (notebookContainer) {{\n",
       "    x.observe(notebookContainer, {childList: true});\n",
       "}}\n",
       "\n",
       "// Listen for the clearing of the current output cell\n",
       "var outputEl = gd.closest('.output');\n",
       "if (outputEl) {{\n",
       "    x.observe(outputEl, {childList: true});\n",
       "}}\n",
       "\n",
       "                        })\n",
       "                };\n",
       "                });\n",
       "            </script>\n",
       "        </div>"
      ]
     },
     "metadata": {},
     "output_type": "display_data"
    }
   ],
   "source": [
    "df_glu_top = df_glu_kernel[:800]\n",
    "# df_glu_top = df_glu_top[df_glu_top.RT < 4]\n",
    "fig = px.scatter(x=df_glu_top.Mass, y=df_glu_top.RT)\n",
    "fig.show()"
   ]
  },
  {
   "cell_type": "code",
   "execution_count": 55,
   "metadata": {},
   "outputs": [
    {
     "data": {
      "application/vnd.jupyter.widget-view+json": {
       "model_id": "9c655891239f4ca593de3365011200d3",
       "version_major": 2,
       "version_minor": 0
      },
      "text/plain": [
       "FigureWidget({\n",
       "    'data': [{'mode': 'markers',\n",
       "              'type': 'scatter',\n",
       "              'uid': '222fef5…"
      ]
     },
     "metadata": {},
     "output_type": "display_data"
    }
   ],
   "source": [
    "import plotly.graph_objects as go\n",
    "\n",
    "idxs = list()\n",
    "# create our callback function\n",
    "def update_point(trace, points, selector):\n",
    "    print('points {}'.format(points.point_inds) )\n",
    "    idxs.extend(points.point_inds)\n",
    "\n",
    "x = df_glu_top.Mass\n",
    "y = df_glu_top.RT\n",
    "f = go.FigureWidget([go.Scatter(x=x, y=y, mode='markers')])\n",
    "f.update_layout(autosize=False, width=1024, height=700, paper_bgcolor=\"LightSteelBlue\",\n",
    "    margin=dict(\n",
    "        l=20,\n",
    "        r=20,\n",
    "        b=20,\n",
    "        t=20,\n",
    "        pad=4\n",
    "    ))\n",
    "scatter = f.data[0]\n",
    "scatter.on_selection(update_point)\n",
    "f"
   ]
  },
  {
   "cell_type": "code",
   "execution_count": 23,
   "metadata": {},
   "outputs": [],
   "source": [
    "df_glu_top_a = df_glu_top.iloc[idxs]"
   ]
  },
  {
   "cell_type": "code",
   "execution_count": 57,
   "metadata": {},
   "outputs": [],
   "source": [
    "df_glu_top_b = df_glu_top#.iloc[idxs]"
   ]
  },
  {
   "cell_type": "code",
   "execution_count": 58,
   "metadata": {},
   "outputs": [
    {
     "name": "stdout",
     "output_type": "stream",
     "text": [
      "<class 'pandas.core.frame.DataFrame'>\n",
      "Int64Index: 248 entries, 22 to 654\n",
      "Data columns (total 4 columns):\n",
      "Unnamed: 0    248 non-null int64\n",
      "Mass          248 non-null float64\n",
      "RT            248 non-null float64\n",
      "Vol           248 non-null float64\n",
      "dtypes: float64(3), int64(1)\n",
      "memory usage: 9.7 KB\n"
     ]
    }
   ],
   "source": [
    "df_glu_top_b.info()"
   ]
  },
  {
   "cell_type": "code",
   "execution_count": 61,
   "metadata": {},
   "outputs": [
    {
     "data": {
      "application/vnd.plotly.v1+json": {
       "config": {
        "plotlyServerURL": "https://plot.ly"
       },
       "data": [
        {
         "hoverlabel": {
          "namelength": 0
         },
         "hovertemplate": "x=%{x}<br>y=%{y}",
         "legendgroup": "",
         "marker": {
          "color": "#636efa",
          "symbol": "circle"
         },
         "mode": "markers",
         "name": "",
         "showlegend": false,
         "type": "scatter",
         "x": [
          4055.69880851859,
          5523.9530179957,
          3100.53237426614,
          3742.64368223472,
          4112.61804741342,
          4648.79633851218,
          1532.78509158148,
          1613.17619695829,
          4077.67875737319,
          3413.59028135509,
          4236.69537457633,
          5210.89368227878,
          1519.83705767363,
          4961.85273886204,
          4897.83545480797,
          1811.97748226565,
          4099.65961969137,
          1832.47829687715,
          1739.08356367306,
          5828.00487048953,
          2458.42203627627,
          3084.53694918537,
          4121.63506799123,
          8158.00968744306,
          1666.755696238,
          4118.62323697323,
          2300.69454961534,
          1781.78766157784,
          1740.22675222253,
          1912.71562891775,
          5184.66548335519,
          3122.5131699634,
          2282.83291790435,
          1815.74453181594,
          4359.74829472535,
          5545.93720765248,
          4143.62261283571,
          4135.66781081528,
          2195.70145075286,
          2771.47906027701,
          8161.3619057133,
          3765.62688723005,
          9120.1243332371,
          8793.09101345668,
          7183.88796931017,
          5194.90676336612,
          4006.68223205657,
          4165.60487502942,
          2522.43902989398,
          2238.71058871186,
          2811.48595128319,
          8470.04457420833,
          8776.07390523015,
          4187.58595290689,
          4873.68283400402,
          4865.84459707464,
          4134.59944249718,
          2005.72432762401,
          8164.0194736797,
          4029.04274700688,
          4670.77342355288,
          2102.6981755727,
          4254.70532142479,
          4209.56786367548,
          4568.64108283833,
          7529.93600899831,
          4705.71402763178,
          4231.55087971549,
          4319.74132582409,
          3799.56310290723,
          13537.7034657899,
          5567.90851198358,
          3144.49388943311,
          4253.53541108413,
          1987.1162,
          3157.45258853068,
          3766.65091600134,
          7876.995014702,
          5106.77666337215,
          4488.67665923444,
          2124.64302385643,
          3822.60858049132,
          9139.14184361478,
          5412.79992476537,
          5549.64794247272,
          2602.40375944811,
          4218.68603106341,
          1952.62179962086,
          3938.65469846203,
          1913.20337149348,
          10673.3442328166,
          6166.06083008009,
          11050.3894054383,
          7528.92603389469,
          3166.47628267152,
          4881.83814830963,
          11356.3830984476,
          7858.99037106249,
          1519.83770929789,
          2285.61968903981,
          14187.8034304348,
          3940.67885599496,
          6857.84608481862,
          3435.57249167864,
          6406.94678967776,
          1953.7873734546,
          1867.69389156736,
          8488.05921877729,
          2360.6995,
          3786.60468959607,
          5589.89744523827,
          5580.87285798898,
          2128.36916000836,
          5233.87497085411,
          4180.55875530303,
          4055.37920443236,
          9698.2267738586,
          5853.0033598197,
          4692.7575243691,
          11338.3928242789,
          2237.8345152912,
          10726.3241686451,
          9771.21228561776,
          2101.6971007434,
          6839.83606854653,
          11662.4330750241,
          3808.59135719993,
          2703.43306672102,
          6510.78020370635,
          14204.8222388344,
          4093.65618391679,
          13882.7563609588,
          13232.6634322143,
          3188.45727205745,
          3083.54825844629,
          3902.55500352204,
          2787.46973797862,
          8588.09682532286,
          1732.73013196327,
          3937.66969595782,
          5611.8784165728,
          4287.61120868558,
          4919.812,
          7376.99768188015,
          11644.4321155685,
          10349.3000354234,
          10115.2653087699,
          4714.7386,
          4089.70360794067,
          2313.61969019691,
          5169.89563667932,
          4138.60248287463,
          11032.3661527684,
          6067.81500811512,
          10439.3056114633,
          6320.77517734909,
          4202.54002112244,
          1637.75022483533,
          13623.6959562497,
          14532.8499830157,
          2027.71297495381,
          6061.89054127816,
          3964.68111645951,
          3210.43960866982,
          10656.3359698939,
          10421.3058253072,
          4983.83288423867,
          5204.60536373299,
          4898.57008110534,
          7012.89047937331,
          5633.8594,
          2148.61960651051,
          12582.574399113,
          9159.14845091863,
          1771.71841549825,
          7201.9066877713,
          3010.51407366623,
          7722.04623361388,
          7070.97243377859,
          11678.4285927385,
          12926.6175860925,
          4552.78711351855,
          8530.06411870758,
          5539.9533467591,
          8850.00508353011,
          1917.67017190555,
          2018.6799250716,
          8611.08779772547,
          9177.04790273135,
          13538.7086630759,
          1755.4151335842,
          7761.06904116208,
          3179.5091347183,
          3156.45072596481,
          1699.6557605156,
          5498.95065161939,
          1837.68854291093,
          6665.83252983464,
          9125.13278743278,
          1709.778434696,
          5078.8807686051,
          8836.0795842818,
          7662.97943440235,
          8875.11916753022,
          6373.83660753764,
          3314.56264865427,
          12278.52847146,
          4263.60187636339,
          6838.83387181052,
          8627.11262088073,
          13967.7398837834,
          2018.67857498751,
          2027.66569265333,
          8373.12343699147,
          4183.63467826775,
          14386.8319819377,
          4929.60289101423,
          1582.73641498165,
          3453.593,
          4774.83447006956,
          7608.99136792941,
          8570.0883705165,
          2721.45700055323,
          7919.00922801895,
          1943.74755382303,
          6408.10969945076,
          1922.70886426799,
          3838.54071490643,
          5075.78027011708,
          1950.63639836627,
          1844.67013864193,
          7416.01529228357,
          6023.8579,
          6337.78723117664,
          7301.91991898372,
          2891.45600224856,
          5761.77811516898,
          1838.69290878582,
          6702.88987390359,
          13550.7313114865,
          5680.78471406055,
          4793.71750722497,
          12007.4948039677,
          7030.94386495398,
          4977.71110446934,
          6725.9195,
          6374.83396784888,
          5723.8632
         ],
         "xaxis": "x",
         "y": [
          2.41199741717974,
          2.97924640930494,
          1.75233174916903,
          2.19648224271139,
          2.41199741717974,
          2.6555249408563,
          0.0670641338507334,
          0.307182893721263,
          2.41199741717974,
          2.07908764239947,
          2.41199741717974,
          2.8929083521843,
          3.33934735016823,
          2.80443505999247,
          2.77460951762199,
          4.38983826793035,
          2.41199741717974,
          4.77918826696078,
          3.91470047589938,
          3.03669087645213,
          0.760181142457326,
          1.72014276739756,
          2.41199741717974,
          3.91470047589938,
          2.565401025184,
          2.38141830123266,
          0.250375351874034,
          4.38983826793035,
          3.93684571739833,
          0.132814760573705,
          4.38983826793035,
          1.75233174916903,
          0.281792791255315,
          0.0670641338507334,
          2.53493417458534,
          2.97924640930494,
          2.41199741717974,
          2.565401025184,
          2.59542910811106,
          1.33083772616386,
          3.93684571739833,
          2.22781536734899,
          3.18662824190458,
          3.15822680946986,
          2.92132813490232,
          2.8929083521843,
          2.38141830123266,
          2.41199741717974,
          0.818162510363261,
          0.307182893721263,
          1.12464423335393,
          3.10085884289742,
          3.12933750109673,
          2.41199741717974,
          2.28872465051015,
          2.83412881848017,
          2.41199741717974,
          1.83971891757647,
          3.06520854986509,
          4.95983024991353,
          2.6555249408563,
          0.0670641338507334,
          2.41199741717974,
          2.38141830123266,
          2.14184403376579,
          2.95012683428129,
          2.6555249408563,
          2.41199741717974,
          2.565401025184,
          2.19648224271139,
          3.54791891730626,
          2.97924640930494,
          1.75233174916903,
          2.38141830123266,
          5.92146116650899,
          1.75233174916903,
          2.22781536734899,
          3.06520854986509,
          2.16504036741257,
          1.6879191016833,
          1.27319053368568,
          2.41199741717974,
          3.22149218476613,
          2.28872465051015,
          2.565401025184,
          1.4779728348732,
          2.41199741717974,
          5.70963553345998,
          2.31717286861738,
          5.49790438370705,
          3.40157680865924,
          3.12933750109673,
          3.40157680865924,
          2.97924640930494,
          1.75233174916903,
          2.83412881848017,
          3.42949121750196,
          3.03669087645213,
          0.0670641338507334,
          2.8929083521843,
          3.57562115149498,
          2.50424900012016,
          2.8929083521843,
          2.11072370963097,
          2.47452833410899,
          5.80737327493032,
          0.132814760573705,
          3.12933750109673,
          5.23168555057843,
          2.19648224271139,
          2.97924640930494,
          2.97924640930494,
          0.61184439218839,
          2.8929083521843,
          2.41199741717974,
          2.41199741717974,
          3.28389054295222,
          3.06520854986509,
          2.6555249408563,
          3.40157680865924,
          3.93684571739833,
          3.33934735016823,
          3.24911055919329,
          1.4779728348732,
          2.86365475214322,
          3.42949121750196,
          2.19648224271139,
          0.942408517567317,
          2.77460951762199,
          3.57562115149498,
          2.38141830123266,
          3.54791891730626,
          3.54791891730626,
          1.75233174916903,
          1.87182180838585,
          1.83971891757647,
          1.14942673401833,
          3.15822680946986,
          5.17552039182981,
          2.14184403376579,
          2.97924640930494,
          2.02339700814883,
          2.77460951762199,
          2.83412881848017,
          3.42949121750196,
          3.33934735016823,
          3.3117775753816,
          2.6555249408563,
          2.28872465051015,
          0.132814760573705,
          2.92132813490232,
          2.38141830123266,
          3.33934735016823,
          2.50424900012016,
          3.33934735016823,
          2.71506675041517,
          2.38141830123266,
          0.0999241665681203,
          3.54791891730626,
          3.60999576803843,
          2.38141830123266,
          2.35143605030378,
          2.19648224271139,
          1.75233174916903,
          3.36708034234047,
          3.3117775753816,
          2.80443505999247,
          2.47452833410899,
          2.38141830123266,
          2.92132813490232,
          2.97924640930494,
          4.03561839418411,
          3.4573341424942,
          3.24911055919329,
          0.132814760573705,
          2.95012683428129,
          1.80779737588565,
          2.8929083521843,
          2.77460951762199,
          3.4573341424942,
          3.54791891730626,
          2.74475895123482,
          3.12933750109673,
          2.97924640930494,
          3.15822680946986,
          0.760181142457326,
          0.0999241665681203,
          3.18662824190458,
          3.15822680946986,
          3.54791891730626,
          3.12933750109673,
          2.86365475214322,
          2.11072370963097,
          1.77617063479423,
          0.132814760573705,
          2.95012683428129,
          1.3882135585626,
          2.80443505999247,
          3.18662824190458,
          1.95955337640444,
          2.77460951762199,
          3.15822680946986,
          3.03669087645213,
          3.18662824190458,
          2.565401025184,
          2.14184403376579,
          3.4573341424942,
          1.95955337640444,
          2.80443505999247,
          3.15822680946986,
          3.60999576803843,
          1.42096937454542,
          0.132814760573705,
          2.97924640930494,
          1.27319053368568,
          3.60999576803843,
          2.28872465051015,
          0.132814760573705,
          1.95955337640444,
          2.71506675041517,
          3.03669087645213,
          3.15822680946986,
          0.942408517567317,
          3.06520854986509,
          5.82393964088758,
          3.10085884289742,
          1.33083772616386,
          1.65610215024948,
          2.25845570918719,
          0.132814760573705,
          0.0999241665681203,
          2.83412881848017,
          2.38141830123266,
          2.77460951762199,
          2.95012683428129,
          1.80779737588565,
          2.44041759328842,
          0.132814760573705,
          2.68547071771622,
          3.54791891730626,
          2.41199741717974,
          1.92781483289401,
          3.51996747609774,
          2.80443505999247,
          2.28872465051015,
          2.71506675041517,
          2.565401025184,
          2.53493417458534
         ],
         "yaxis": "y"
        }
       ],
       "layout": {
        "legend": {
         "tracegroupgap": 0
        },
        "margin": {
         "t": 60
        },
        "template": {
         "data": {
          "bar": [
           {
            "error_x": {
             "color": "#2a3f5f"
            },
            "error_y": {
             "color": "#2a3f5f"
            },
            "marker": {
             "line": {
              "color": "#E5ECF6",
              "width": 0.5
             }
            },
            "type": "bar"
           }
          ],
          "barpolar": [
           {
            "marker": {
             "line": {
              "color": "#E5ECF6",
              "width": 0.5
             }
            },
            "type": "barpolar"
           }
          ],
          "carpet": [
           {
            "aaxis": {
             "endlinecolor": "#2a3f5f",
             "gridcolor": "white",
             "linecolor": "white",
             "minorgridcolor": "white",
             "startlinecolor": "#2a3f5f"
            },
            "baxis": {
             "endlinecolor": "#2a3f5f",
             "gridcolor": "white",
             "linecolor": "white",
             "minorgridcolor": "white",
             "startlinecolor": "#2a3f5f"
            },
            "type": "carpet"
           }
          ],
          "choropleth": [
           {
            "colorbar": {
             "outlinewidth": 0,
             "ticks": ""
            },
            "type": "choropleth"
           }
          ],
          "contour": [
           {
            "colorbar": {
             "outlinewidth": 0,
             "ticks": ""
            },
            "colorscale": [
             [
              0,
              "#0d0887"
             ],
             [
              0.1111111111111111,
              "#46039f"
             ],
             [
              0.2222222222222222,
              "#7201a8"
             ],
             [
              0.3333333333333333,
              "#9c179e"
             ],
             [
              0.4444444444444444,
              "#bd3786"
             ],
             [
              0.5555555555555556,
              "#d8576b"
             ],
             [
              0.6666666666666666,
              "#ed7953"
             ],
             [
              0.7777777777777778,
              "#fb9f3a"
             ],
             [
              0.8888888888888888,
              "#fdca26"
             ],
             [
              1,
              "#f0f921"
             ]
            ],
            "type": "contour"
           }
          ],
          "contourcarpet": [
           {
            "colorbar": {
             "outlinewidth": 0,
             "ticks": ""
            },
            "type": "contourcarpet"
           }
          ],
          "heatmap": [
           {
            "colorbar": {
             "outlinewidth": 0,
             "ticks": ""
            },
            "colorscale": [
             [
              0,
              "#0d0887"
             ],
             [
              0.1111111111111111,
              "#46039f"
             ],
             [
              0.2222222222222222,
              "#7201a8"
             ],
             [
              0.3333333333333333,
              "#9c179e"
             ],
             [
              0.4444444444444444,
              "#bd3786"
             ],
             [
              0.5555555555555556,
              "#d8576b"
             ],
             [
              0.6666666666666666,
              "#ed7953"
             ],
             [
              0.7777777777777778,
              "#fb9f3a"
             ],
             [
              0.8888888888888888,
              "#fdca26"
             ],
             [
              1,
              "#f0f921"
             ]
            ],
            "type": "heatmap"
           }
          ],
          "heatmapgl": [
           {
            "colorbar": {
             "outlinewidth": 0,
             "ticks": ""
            },
            "colorscale": [
             [
              0,
              "#0d0887"
             ],
             [
              0.1111111111111111,
              "#46039f"
             ],
             [
              0.2222222222222222,
              "#7201a8"
             ],
             [
              0.3333333333333333,
              "#9c179e"
             ],
             [
              0.4444444444444444,
              "#bd3786"
             ],
             [
              0.5555555555555556,
              "#d8576b"
             ],
             [
              0.6666666666666666,
              "#ed7953"
             ],
             [
              0.7777777777777778,
              "#fb9f3a"
             ],
             [
              0.8888888888888888,
              "#fdca26"
             ],
             [
              1,
              "#f0f921"
             ]
            ],
            "type": "heatmapgl"
           }
          ],
          "histogram": [
           {
            "marker": {
             "colorbar": {
              "outlinewidth": 0,
              "ticks": ""
             }
            },
            "type": "histogram"
           }
          ],
          "histogram2d": [
           {
            "colorbar": {
             "outlinewidth": 0,
             "ticks": ""
            },
            "colorscale": [
             [
              0,
              "#0d0887"
             ],
             [
              0.1111111111111111,
              "#46039f"
             ],
             [
              0.2222222222222222,
              "#7201a8"
             ],
             [
              0.3333333333333333,
              "#9c179e"
             ],
             [
              0.4444444444444444,
              "#bd3786"
             ],
             [
              0.5555555555555556,
              "#d8576b"
             ],
             [
              0.6666666666666666,
              "#ed7953"
             ],
             [
              0.7777777777777778,
              "#fb9f3a"
             ],
             [
              0.8888888888888888,
              "#fdca26"
             ],
             [
              1,
              "#f0f921"
             ]
            ],
            "type": "histogram2d"
           }
          ],
          "histogram2dcontour": [
           {
            "colorbar": {
             "outlinewidth": 0,
             "ticks": ""
            },
            "colorscale": [
             [
              0,
              "#0d0887"
             ],
             [
              0.1111111111111111,
              "#46039f"
             ],
             [
              0.2222222222222222,
              "#7201a8"
             ],
             [
              0.3333333333333333,
              "#9c179e"
             ],
             [
              0.4444444444444444,
              "#bd3786"
             ],
             [
              0.5555555555555556,
              "#d8576b"
             ],
             [
              0.6666666666666666,
              "#ed7953"
             ],
             [
              0.7777777777777778,
              "#fb9f3a"
             ],
             [
              0.8888888888888888,
              "#fdca26"
             ],
             [
              1,
              "#f0f921"
             ]
            ],
            "type": "histogram2dcontour"
           }
          ],
          "mesh3d": [
           {
            "colorbar": {
             "outlinewidth": 0,
             "ticks": ""
            },
            "type": "mesh3d"
           }
          ],
          "parcoords": [
           {
            "line": {
             "colorbar": {
              "outlinewidth": 0,
              "ticks": ""
             }
            },
            "type": "parcoords"
           }
          ],
          "pie": [
           {
            "automargin": true,
            "type": "pie"
           }
          ],
          "scatter": [
           {
            "marker": {
             "colorbar": {
              "outlinewidth": 0,
              "ticks": ""
             }
            },
            "type": "scatter"
           }
          ],
          "scatter3d": [
           {
            "line": {
             "colorbar": {
              "outlinewidth": 0,
              "ticks": ""
             }
            },
            "marker": {
             "colorbar": {
              "outlinewidth": 0,
              "ticks": ""
             }
            },
            "type": "scatter3d"
           }
          ],
          "scattercarpet": [
           {
            "marker": {
             "colorbar": {
              "outlinewidth": 0,
              "ticks": ""
             }
            },
            "type": "scattercarpet"
           }
          ],
          "scattergeo": [
           {
            "marker": {
             "colorbar": {
              "outlinewidth": 0,
              "ticks": ""
             }
            },
            "type": "scattergeo"
           }
          ],
          "scattergl": [
           {
            "marker": {
             "colorbar": {
              "outlinewidth": 0,
              "ticks": ""
             }
            },
            "type": "scattergl"
           }
          ],
          "scattermapbox": [
           {
            "marker": {
             "colorbar": {
              "outlinewidth": 0,
              "ticks": ""
             }
            },
            "type": "scattermapbox"
           }
          ],
          "scatterpolar": [
           {
            "marker": {
             "colorbar": {
              "outlinewidth": 0,
              "ticks": ""
             }
            },
            "type": "scatterpolar"
           }
          ],
          "scatterpolargl": [
           {
            "marker": {
             "colorbar": {
              "outlinewidth": 0,
              "ticks": ""
             }
            },
            "type": "scatterpolargl"
           }
          ],
          "scatterternary": [
           {
            "marker": {
             "colorbar": {
              "outlinewidth": 0,
              "ticks": ""
             }
            },
            "type": "scatterternary"
           }
          ],
          "surface": [
           {
            "colorbar": {
             "outlinewidth": 0,
             "ticks": ""
            },
            "colorscale": [
             [
              0,
              "#0d0887"
             ],
             [
              0.1111111111111111,
              "#46039f"
             ],
             [
              0.2222222222222222,
              "#7201a8"
             ],
             [
              0.3333333333333333,
              "#9c179e"
             ],
             [
              0.4444444444444444,
              "#bd3786"
             ],
             [
              0.5555555555555556,
              "#d8576b"
             ],
             [
              0.6666666666666666,
              "#ed7953"
             ],
             [
              0.7777777777777778,
              "#fb9f3a"
             ],
             [
              0.8888888888888888,
              "#fdca26"
             ],
             [
              1,
              "#f0f921"
             ]
            ],
            "type": "surface"
           }
          ],
          "table": [
           {
            "cells": {
             "fill": {
              "color": "#EBF0F8"
             },
             "line": {
              "color": "white"
             }
            },
            "header": {
             "fill": {
              "color": "#C8D4E3"
             },
             "line": {
              "color": "white"
             }
            },
            "type": "table"
           }
          ]
         },
         "layout": {
          "annotationdefaults": {
           "arrowcolor": "#2a3f5f",
           "arrowhead": 0,
           "arrowwidth": 1
          },
          "coloraxis": {
           "colorbar": {
            "outlinewidth": 0,
            "ticks": ""
           }
          },
          "colorscale": {
           "diverging": [
            [
             0,
             "#8e0152"
            ],
            [
             0.1,
             "#c51b7d"
            ],
            [
             0.2,
             "#de77ae"
            ],
            [
             0.3,
             "#f1b6da"
            ],
            [
             0.4,
             "#fde0ef"
            ],
            [
             0.5,
             "#f7f7f7"
            ],
            [
             0.6,
             "#e6f5d0"
            ],
            [
             0.7,
             "#b8e186"
            ],
            [
             0.8,
             "#7fbc41"
            ],
            [
             0.9,
             "#4d9221"
            ],
            [
             1,
             "#276419"
            ]
           ],
           "sequential": [
            [
             0,
             "#0d0887"
            ],
            [
             0.1111111111111111,
             "#46039f"
            ],
            [
             0.2222222222222222,
             "#7201a8"
            ],
            [
             0.3333333333333333,
             "#9c179e"
            ],
            [
             0.4444444444444444,
             "#bd3786"
            ],
            [
             0.5555555555555556,
             "#d8576b"
            ],
            [
             0.6666666666666666,
             "#ed7953"
            ],
            [
             0.7777777777777778,
             "#fb9f3a"
            ],
            [
             0.8888888888888888,
             "#fdca26"
            ],
            [
             1,
             "#f0f921"
            ]
           ],
           "sequentialminus": [
            [
             0,
             "#0d0887"
            ],
            [
             0.1111111111111111,
             "#46039f"
            ],
            [
             0.2222222222222222,
             "#7201a8"
            ],
            [
             0.3333333333333333,
             "#9c179e"
            ],
            [
             0.4444444444444444,
             "#bd3786"
            ],
            [
             0.5555555555555556,
             "#d8576b"
            ],
            [
             0.6666666666666666,
             "#ed7953"
            ],
            [
             0.7777777777777778,
             "#fb9f3a"
            ],
            [
             0.8888888888888888,
             "#fdca26"
            ],
            [
             1,
             "#f0f921"
            ]
           ]
          },
          "colorway": [
           "#636efa",
           "#EF553B",
           "#00cc96",
           "#ab63fa",
           "#FFA15A",
           "#19d3f3",
           "#FF6692",
           "#B6E880",
           "#FF97FF",
           "#FECB52"
          ],
          "font": {
           "color": "#2a3f5f"
          },
          "geo": {
           "bgcolor": "white",
           "lakecolor": "white",
           "landcolor": "#E5ECF6",
           "showlakes": true,
           "showland": true,
           "subunitcolor": "white"
          },
          "hoverlabel": {
           "align": "left"
          },
          "hovermode": "closest",
          "mapbox": {
           "style": "light"
          },
          "paper_bgcolor": "white",
          "plot_bgcolor": "#E5ECF6",
          "polar": {
           "angularaxis": {
            "gridcolor": "white",
            "linecolor": "white",
            "ticks": ""
           },
           "bgcolor": "#E5ECF6",
           "radialaxis": {
            "gridcolor": "white",
            "linecolor": "white",
            "ticks": ""
           }
          },
          "scene": {
           "xaxis": {
            "backgroundcolor": "#E5ECF6",
            "gridcolor": "white",
            "gridwidth": 2,
            "linecolor": "white",
            "showbackground": true,
            "ticks": "",
            "zerolinecolor": "white"
           },
           "yaxis": {
            "backgroundcolor": "#E5ECF6",
            "gridcolor": "white",
            "gridwidth": 2,
            "linecolor": "white",
            "showbackground": true,
            "ticks": "",
            "zerolinecolor": "white"
           },
           "zaxis": {
            "backgroundcolor": "#E5ECF6",
            "gridcolor": "white",
            "gridwidth": 2,
            "linecolor": "white",
            "showbackground": true,
            "ticks": "",
            "zerolinecolor": "white"
           }
          },
          "shapedefaults": {
           "line": {
            "color": "#2a3f5f"
           }
          },
          "ternary": {
           "aaxis": {
            "gridcolor": "white",
            "linecolor": "white",
            "ticks": ""
           },
           "baxis": {
            "gridcolor": "white",
            "linecolor": "white",
            "ticks": ""
           },
           "bgcolor": "#E5ECF6",
           "caxis": {
            "gridcolor": "white",
            "linecolor": "white",
            "ticks": ""
           }
          },
          "title": {
           "x": 0.05
          },
          "xaxis": {
           "automargin": true,
           "gridcolor": "white",
           "linecolor": "white",
           "ticks": "",
           "title": {
            "standoff": 15
           },
           "zerolinecolor": "white",
           "zerolinewidth": 2
          },
          "yaxis": {
           "automargin": true,
           "gridcolor": "white",
           "linecolor": "white",
           "ticks": "",
           "title": {
            "standoff": 15
           },
           "zerolinecolor": "white",
           "zerolinewidth": 2
          }
         }
        },
        "xaxis": {
         "anchor": "y",
         "domain": [
          0,
          1
         ],
         "title": {
          "text": "x"
         }
        },
        "yaxis": {
         "anchor": "x",
         "domain": [
          0,
          1
         ],
         "title": {
          "text": "y"
         }
        }
       }
      },
      "text/html": [
       "<div>\n",
       "        \n",
       "        \n",
       "            <div id=\"73a51d53-88fd-47d4-a135-848e8f9991c2\" class=\"plotly-graph-div\" style=\"height:525px; width:100%;\"></div>\n",
       "            <script type=\"text/javascript\">\n",
       "                require([\"plotly\"], function(Plotly) {\n",
       "                    window.PLOTLYENV=window.PLOTLYENV || {};\n",
       "                    \n",
       "                if (document.getElementById(\"73a51d53-88fd-47d4-a135-848e8f9991c2\")) {\n",
       "                    Plotly.newPlot(\n",
       "                        '73a51d53-88fd-47d4-a135-848e8f9991c2',\n",
       "                        [{\"hoverlabel\": {\"namelength\": 0}, \"hovertemplate\": \"x=%{x}<br>y=%{y}\", \"legendgroup\": \"\", \"marker\": {\"color\": \"#636efa\", \"symbol\": \"circle\"}, \"mode\": \"markers\", \"name\": \"\", \"showlegend\": false, \"type\": \"scatter\", \"x\": [4055.69880851859, 5523.9530179957, 3100.53237426614, 3742.64368223472, 4112.61804741342, 4648.79633851218, 1532.78509158148, 1613.17619695829, 4077.67875737319, 3413.59028135509, 4236.69537457633, 5210.89368227878, 1519.83705767363, 4961.85273886204, 4897.83545480797, 1811.97748226565, 4099.65961969137, 1832.47829687715, 1739.08356367306, 5828.00487048953, 2458.42203627627, 3084.53694918537, 4121.63506799123, 8158.00968744306, 1666.755696238, 4118.62323697323, 2300.69454961534, 1781.78766157784, 1740.22675222253, 1912.71562891775, 5184.66548335519, 3122.5131699634, 2282.83291790435, 1815.74453181594, 4359.74829472535, 5545.93720765248, 4143.62261283571, 4135.66781081528, 2195.70145075286, 2771.47906027701, 8161.3619057133, 3765.62688723005, 9120.1243332371, 8793.09101345668, 7183.88796931017, 5194.90676336612, 4006.68223205657, 4165.60487502942, 2522.43902989398, 2238.71058871186, 2811.48595128319, 8470.04457420833, 8776.07390523015, 4187.58595290689, 4873.68283400402, 4865.84459707464, 4134.59944249718, 2005.72432762401, 8164.0194736797, 4029.04274700688, 4670.77342355288, 2102.6981755727, 4254.70532142479, 4209.56786367548, 4568.64108283833, 7529.93600899831, 4705.71402763178, 4231.55087971549, 4319.74132582409, 3799.56310290723, 13537.7034657899, 5567.90851198358, 3144.49388943311, 4253.53541108413, 1987.1162, 3157.45258853068, 3766.65091600134, 7876.995014702, 5106.77666337215, 4488.67665923444, 2124.64302385643, 3822.60858049132, 9139.14184361478, 5412.79992476537, 5549.64794247272, 2602.40375944811, 4218.68603106341, 1952.62179962086, 3938.65469846203, 1913.20337149348, 10673.3442328166, 6166.06083008009, 11050.3894054383, 7528.92603389469, 3166.47628267152, 4881.83814830963, 11356.3830984476, 7858.99037106249, 1519.83770929789, 2285.61968903981, 14187.8034304348, 3940.67885599496, 6857.84608481862, 3435.57249167864, 6406.94678967776, 1953.7873734546, 1867.69389156736, 8488.05921877729, 2360.6995, 3786.60468959607, 5589.89744523827, 5580.87285798898, 2128.36916000836, 5233.87497085411, 4180.55875530303, 4055.37920443236, 9698.2267738586, 5853.0033598197, 4692.7575243691, 11338.3928242789, 2237.8345152912, 10726.3241686451, 9771.21228561776, 2101.6971007434, 6839.83606854653, 11662.4330750241, 3808.59135719993, 2703.43306672102, 6510.78020370635, 14204.8222388344, 4093.65618391679, 13882.7563609588, 13232.6634322143, 3188.45727205745, 3083.54825844629, 3902.55500352204, 2787.46973797862, 8588.09682532286, 1732.73013196327, 3937.66969595782, 5611.8784165728, 4287.61120868558, 4919.812, 7376.99768188015, 11644.4321155685, 10349.3000354234, 10115.2653087699, 4714.7386, 4089.70360794067, 2313.61969019691, 5169.89563667932, 4138.60248287463, 11032.3661527684, 6067.81500811512, 10439.3056114633, 6320.77517734909, 4202.54002112244, 1637.75022483533, 13623.6959562497, 14532.8499830157, 2027.71297495381, 6061.89054127816, 3964.68111645951, 3210.43960866982, 10656.3359698939, 10421.3058253072, 4983.83288423867, 5204.60536373299, 4898.57008110534, 7012.89047937331, 5633.8594, 2148.61960651051, 12582.574399113, 9159.14845091863, 1771.71841549825, 7201.9066877713, 3010.51407366623, 7722.04623361388, 7070.97243377859, 11678.4285927385, 12926.6175860925, 4552.78711351855, 8530.06411870758, 5539.9533467591, 8850.00508353011, 1917.67017190555, 2018.6799250716, 8611.08779772547, 9177.04790273135, 13538.7086630759, 1755.4151335842, 7761.06904116208, 3179.5091347183, 3156.45072596481, 1699.6557605156, 5498.95065161939, 1837.68854291093, 6665.83252983464, 9125.13278743278, 1709.778434696, 5078.8807686051, 8836.0795842818, 7662.97943440235, 8875.11916753022, 6373.83660753764, 3314.56264865427, 12278.52847146, 4263.60187636339, 6838.83387181052, 8627.11262088073, 13967.7398837834, 2018.67857498751, 2027.66569265333, 8373.12343699147, 4183.63467826775, 14386.8319819377, 4929.60289101423, 1582.73641498165, 3453.593, 4774.83447006956, 7608.99136792941, 8570.0883705165, 2721.45700055323, 7919.00922801895, 1943.74755382303, 6408.10969945076, 1922.70886426799, 3838.54071490643, 5075.78027011708, 1950.63639836627, 1844.67013864193, 7416.01529228357, 6023.8579, 6337.78723117664, 7301.91991898372, 2891.45600224856, 5761.77811516898, 1838.69290878582, 6702.88987390359, 13550.7313114865, 5680.78471406055, 4793.71750722497, 12007.4948039677, 7030.94386495398, 4977.71110446934, 6725.9195, 6374.83396784888, 5723.8632], \"xaxis\": \"x\", \"y\": [2.41199741717974, 2.97924640930494, 1.75233174916903, 2.19648224271139, 2.41199741717974, 2.6555249408563, 0.0670641338507334, 0.307182893721263, 2.41199741717974, 2.07908764239947, 2.41199741717974, 2.8929083521843, 3.33934735016823, 2.80443505999247, 2.77460951762199, 4.38983826793035, 2.41199741717974, 4.77918826696078, 3.91470047589938, 3.03669087645213, 0.760181142457326, 1.72014276739756, 2.41199741717974, 3.91470047589938, 2.565401025184, 2.38141830123266, 0.250375351874034, 4.38983826793035, 3.93684571739833, 0.132814760573705, 4.38983826793035, 1.75233174916903, 0.281792791255315, 0.0670641338507334, 2.53493417458534, 2.97924640930494, 2.41199741717974, 2.565401025184, 2.59542910811106, 1.33083772616386, 3.93684571739833, 2.22781536734899, 3.18662824190458, 3.15822680946986, 2.92132813490232, 2.8929083521843, 2.38141830123266, 2.41199741717974, 0.818162510363261, 0.307182893721263, 1.12464423335393, 3.10085884289742, 3.12933750109673, 2.41199741717974, 2.28872465051015, 2.83412881848017, 2.41199741717974, 1.83971891757647, 3.06520854986509, 4.95983024991353, 2.6555249408563, 0.0670641338507334, 2.41199741717974, 2.38141830123266, 2.14184403376579, 2.95012683428129, 2.6555249408563, 2.41199741717974, 2.565401025184, 2.19648224271139, 3.54791891730626, 2.97924640930494, 1.75233174916903, 2.38141830123266, 5.92146116650899, 1.75233174916903, 2.22781536734899, 3.06520854986509, 2.16504036741257, 1.6879191016833, 1.27319053368568, 2.41199741717974, 3.22149218476613, 2.28872465051015, 2.565401025184, 1.4779728348732, 2.41199741717974, 5.70963553345998, 2.31717286861738, 5.49790438370705, 3.40157680865924, 3.12933750109673, 3.40157680865924, 2.97924640930494, 1.75233174916903, 2.83412881848017, 3.42949121750196, 3.03669087645213, 0.0670641338507334, 2.8929083521843, 3.57562115149498, 2.50424900012016, 2.8929083521843, 2.11072370963097, 2.47452833410899, 5.80737327493032, 0.132814760573705, 3.12933750109673, 5.23168555057843, 2.19648224271139, 2.97924640930494, 2.97924640930494, 0.61184439218839, 2.8929083521843, 2.41199741717974, 2.41199741717974, 3.28389054295222, 3.06520854986509, 2.6555249408563, 3.40157680865924, 3.93684571739833, 3.33934735016823, 3.24911055919329, 1.4779728348732, 2.86365475214322, 3.42949121750196, 2.19648224271139, 0.942408517567317, 2.77460951762199, 3.57562115149498, 2.38141830123266, 3.54791891730626, 3.54791891730626, 1.75233174916903, 1.87182180838585, 1.83971891757647, 1.14942673401833, 3.15822680946986, 5.17552039182981, 2.14184403376579, 2.97924640930494, 2.02339700814883, 2.77460951762199, 2.83412881848017, 3.42949121750196, 3.33934735016823, 3.3117775753816, 2.6555249408563, 2.28872465051015, 0.132814760573705, 2.92132813490232, 2.38141830123266, 3.33934735016823, 2.50424900012016, 3.33934735016823, 2.71506675041517, 2.38141830123266, 0.0999241665681203, 3.54791891730626, 3.60999576803843, 2.38141830123266, 2.35143605030378, 2.19648224271139, 1.75233174916903, 3.36708034234047, 3.3117775753816, 2.80443505999247, 2.47452833410899, 2.38141830123266, 2.92132813490232, 2.97924640930494, 4.03561839418411, 3.4573341424942, 3.24911055919329, 0.132814760573705, 2.95012683428129, 1.80779737588565, 2.8929083521843, 2.77460951762199, 3.4573341424942, 3.54791891730626, 2.74475895123482, 3.12933750109673, 2.97924640930494, 3.15822680946986, 0.760181142457326, 0.0999241665681203, 3.18662824190458, 3.15822680946986, 3.54791891730626, 3.12933750109673, 2.86365475214322, 2.11072370963097, 1.77617063479423, 0.132814760573705, 2.95012683428129, 1.3882135585626, 2.80443505999247, 3.18662824190458, 1.95955337640444, 2.77460951762199, 3.15822680946986, 3.03669087645213, 3.18662824190458, 2.565401025184, 2.14184403376579, 3.4573341424942, 1.95955337640444, 2.80443505999247, 3.15822680946986, 3.60999576803843, 1.42096937454542, 0.132814760573705, 2.97924640930494, 1.27319053368568, 3.60999576803843, 2.28872465051015, 0.132814760573705, 1.95955337640444, 2.71506675041517, 3.03669087645213, 3.15822680946986, 0.942408517567317, 3.06520854986509, 5.82393964088758, 3.10085884289742, 1.33083772616386, 1.65610215024948, 2.25845570918719, 0.132814760573705, 0.0999241665681203, 2.83412881848017, 2.38141830123266, 2.77460951762199, 2.95012683428129, 1.80779737588565, 2.44041759328842, 0.132814760573705, 2.68547071771622, 3.54791891730626, 2.41199741717974, 1.92781483289401, 3.51996747609774, 2.80443505999247, 2.28872465051015, 2.71506675041517, 2.565401025184, 2.53493417458534], \"yaxis\": \"y\"}],\n",
       "                        {\"legend\": {\"tracegroupgap\": 0}, \"margin\": {\"t\": 60}, \"template\": {\"data\": {\"bar\": [{\"error_x\": {\"color\": \"#2a3f5f\"}, \"error_y\": {\"color\": \"#2a3f5f\"}, \"marker\": {\"line\": {\"color\": \"#E5ECF6\", \"width\": 0.5}}, \"type\": \"bar\"}], \"barpolar\": [{\"marker\": {\"line\": {\"color\": \"#E5ECF6\", \"width\": 0.5}}, \"type\": \"barpolar\"}], \"carpet\": [{\"aaxis\": {\"endlinecolor\": \"#2a3f5f\", \"gridcolor\": \"white\", \"linecolor\": \"white\", \"minorgridcolor\": \"white\", \"startlinecolor\": \"#2a3f5f\"}, \"baxis\": {\"endlinecolor\": \"#2a3f5f\", \"gridcolor\": \"white\", \"linecolor\": \"white\", \"minorgridcolor\": \"white\", \"startlinecolor\": \"#2a3f5f\"}, \"type\": \"carpet\"}], \"choropleth\": [{\"colorbar\": {\"outlinewidth\": 0, \"ticks\": \"\"}, \"type\": \"choropleth\"}], \"contour\": [{\"colorbar\": {\"outlinewidth\": 0, \"ticks\": \"\"}, \"colorscale\": [[0.0, \"#0d0887\"], [0.1111111111111111, \"#46039f\"], [0.2222222222222222, \"#7201a8\"], [0.3333333333333333, \"#9c179e\"], [0.4444444444444444, \"#bd3786\"], [0.5555555555555556, \"#d8576b\"], [0.6666666666666666, \"#ed7953\"], [0.7777777777777778, \"#fb9f3a\"], [0.8888888888888888, \"#fdca26\"], [1.0, \"#f0f921\"]], \"type\": \"contour\"}], \"contourcarpet\": [{\"colorbar\": {\"outlinewidth\": 0, \"ticks\": \"\"}, \"type\": \"contourcarpet\"}], \"heatmap\": [{\"colorbar\": {\"outlinewidth\": 0, \"ticks\": \"\"}, \"colorscale\": [[0.0, \"#0d0887\"], [0.1111111111111111, \"#46039f\"], [0.2222222222222222, \"#7201a8\"], [0.3333333333333333, \"#9c179e\"], [0.4444444444444444, \"#bd3786\"], [0.5555555555555556, \"#d8576b\"], [0.6666666666666666, \"#ed7953\"], [0.7777777777777778, \"#fb9f3a\"], [0.8888888888888888, \"#fdca26\"], [1.0, \"#f0f921\"]], \"type\": \"heatmap\"}], \"heatmapgl\": [{\"colorbar\": {\"outlinewidth\": 0, \"ticks\": \"\"}, \"colorscale\": [[0.0, \"#0d0887\"], [0.1111111111111111, \"#46039f\"], [0.2222222222222222, \"#7201a8\"], [0.3333333333333333, \"#9c179e\"], [0.4444444444444444, \"#bd3786\"], [0.5555555555555556, \"#d8576b\"], [0.6666666666666666, \"#ed7953\"], [0.7777777777777778, \"#fb9f3a\"], [0.8888888888888888, \"#fdca26\"], [1.0, \"#f0f921\"]], \"type\": \"heatmapgl\"}], \"histogram\": [{\"marker\": {\"colorbar\": {\"outlinewidth\": 0, \"ticks\": \"\"}}, \"type\": \"histogram\"}], \"histogram2d\": [{\"colorbar\": {\"outlinewidth\": 0, \"ticks\": \"\"}, \"colorscale\": [[0.0, \"#0d0887\"], [0.1111111111111111, \"#46039f\"], [0.2222222222222222, \"#7201a8\"], [0.3333333333333333, \"#9c179e\"], [0.4444444444444444, \"#bd3786\"], [0.5555555555555556, \"#d8576b\"], [0.6666666666666666, \"#ed7953\"], [0.7777777777777778, \"#fb9f3a\"], [0.8888888888888888, \"#fdca26\"], [1.0, \"#f0f921\"]], \"type\": \"histogram2d\"}], \"histogram2dcontour\": [{\"colorbar\": {\"outlinewidth\": 0, \"ticks\": \"\"}, \"colorscale\": [[0.0, \"#0d0887\"], [0.1111111111111111, \"#46039f\"], [0.2222222222222222, \"#7201a8\"], [0.3333333333333333, \"#9c179e\"], [0.4444444444444444, \"#bd3786\"], [0.5555555555555556, \"#d8576b\"], [0.6666666666666666, \"#ed7953\"], [0.7777777777777778, \"#fb9f3a\"], [0.8888888888888888, \"#fdca26\"], [1.0, \"#f0f921\"]], \"type\": \"histogram2dcontour\"}], \"mesh3d\": [{\"colorbar\": {\"outlinewidth\": 0, \"ticks\": \"\"}, \"type\": \"mesh3d\"}], \"parcoords\": [{\"line\": {\"colorbar\": {\"outlinewidth\": 0, \"ticks\": \"\"}}, \"type\": \"parcoords\"}], \"pie\": [{\"automargin\": true, \"type\": \"pie\"}], \"scatter\": [{\"marker\": {\"colorbar\": {\"outlinewidth\": 0, \"ticks\": \"\"}}, \"type\": \"scatter\"}], \"scatter3d\": [{\"line\": {\"colorbar\": {\"outlinewidth\": 0, \"ticks\": \"\"}}, \"marker\": {\"colorbar\": {\"outlinewidth\": 0, \"ticks\": \"\"}}, \"type\": \"scatter3d\"}], \"scattercarpet\": [{\"marker\": {\"colorbar\": {\"outlinewidth\": 0, \"ticks\": \"\"}}, \"type\": \"scattercarpet\"}], \"scattergeo\": [{\"marker\": {\"colorbar\": {\"outlinewidth\": 0, \"ticks\": \"\"}}, \"type\": \"scattergeo\"}], \"scattergl\": [{\"marker\": {\"colorbar\": {\"outlinewidth\": 0, \"ticks\": \"\"}}, \"type\": \"scattergl\"}], \"scattermapbox\": [{\"marker\": {\"colorbar\": {\"outlinewidth\": 0, \"ticks\": \"\"}}, \"type\": \"scattermapbox\"}], \"scatterpolar\": [{\"marker\": {\"colorbar\": {\"outlinewidth\": 0, \"ticks\": \"\"}}, \"type\": \"scatterpolar\"}], \"scatterpolargl\": [{\"marker\": {\"colorbar\": {\"outlinewidth\": 0, \"ticks\": \"\"}}, \"type\": \"scatterpolargl\"}], \"scatterternary\": [{\"marker\": {\"colorbar\": {\"outlinewidth\": 0, \"ticks\": \"\"}}, \"type\": \"scatterternary\"}], \"surface\": [{\"colorbar\": {\"outlinewidth\": 0, \"ticks\": \"\"}, \"colorscale\": [[0.0, \"#0d0887\"], [0.1111111111111111, \"#46039f\"], [0.2222222222222222, \"#7201a8\"], [0.3333333333333333, \"#9c179e\"], [0.4444444444444444, \"#bd3786\"], [0.5555555555555556, \"#d8576b\"], [0.6666666666666666, \"#ed7953\"], [0.7777777777777778, \"#fb9f3a\"], [0.8888888888888888, \"#fdca26\"], [1.0, \"#f0f921\"]], \"type\": \"surface\"}], \"table\": [{\"cells\": {\"fill\": {\"color\": \"#EBF0F8\"}, \"line\": {\"color\": \"white\"}}, \"header\": {\"fill\": {\"color\": \"#C8D4E3\"}, \"line\": {\"color\": \"white\"}}, \"type\": \"table\"}]}, \"layout\": {\"annotationdefaults\": {\"arrowcolor\": \"#2a3f5f\", \"arrowhead\": 0, \"arrowwidth\": 1}, \"coloraxis\": {\"colorbar\": {\"outlinewidth\": 0, \"ticks\": \"\"}}, \"colorscale\": {\"diverging\": [[0, \"#8e0152\"], [0.1, \"#c51b7d\"], [0.2, \"#de77ae\"], [0.3, \"#f1b6da\"], [0.4, \"#fde0ef\"], [0.5, \"#f7f7f7\"], [0.6, \"#e6f5d0\"], [0.7, \"#b8e186\"], [0.8, \"#7fbc41\"], [0.9, \"#4d9221\"], [1, \"#276419\"]], \"sequential\": [[0.0, \"#0d0887\"], [0.1111111111111111, \"#46039f\"], [0.2222222222222222, \"#7201a8\"], [0.3333333333333333, \"#9c179e\"], [0.4444444444444444, \"#bd3786\"], [0.5555555555555556, \"#d8576b\"], [0.6666666666666666, \"#ed7953\"], [0.7777777777777778, \"#fb9f3a\"], [0.8888888888888888, \"#fdca26\"], [1.0, \"#f0f921\"]], \"sequentialminus\": [[0.0, \"#0d0887\"], [0.1111111111111111, \"#46039f\"], [0.2222222222222222, \"#7201a8\"], [0.3333333333333333, \"#9c179e\"], [0.4444444444444444, \"#bd3786\"], [0.5555555555555556, \"#d8576b\"], [0.6666666666666666, \"#ed7953\"], [0.7777777777777778, \"#fb9f3a\"], [0.8888888888888888, \"#fdca26\"], [1.0, \"#f0f921\"]]}, \"colorway\": [\"#636efa\", \"#EF553B\", \"#00cc96\", \"#ab63fa\", \"#FFA15A\", \"#19d3f3\", \"#FF6692\", \"#B6E880\", \"#FF97FF\", \"#FECB52\"], \"font\": {\"color\": \"#2a3f5f\"}, \"geo\": {\"bgcolor\": \"white\", \"lakecolor\": \"white\", \"landcolor\": \"#E5ECF6\", \"showlakes\": true, \"showland\": true, \"subunitcolor\": \"white\"}, \"hoverlabel\": {\"align\": \"left\"}, \"hovermode\": \"closest\", \"mapbox\": {\"style\": \"light\"}, \"paper_bgcolor\": \"white\", \"plot_bgcolor\": \"#E5ECF6\", \"polar\": {\"angularaxis\": {\"gridcolor\": \"white\", \"linecolor\": \"white\", \"ticks\": \"\"}, \"bgcolor\": \"#E5ECF6\", \"radialaxis\": {\"gridcolor\": \"white\", \"linecolor\": \"white\", \"ticks\": \"\"}}, \"scene\": {\"xaxis\": {\"backgroundcolor\": \"#E5ECF6\", \"gridcolor\": \"white\", \"gridwidth\": 2, \"linecolor\": \"white\", \"showbackground\": true, \"ticks\": \"\", \"zerolinecolor\": \"white\"}, \"yaxis\": {\"backgroundcolor\": \"#E5ECF6\", \"gridcolor\": \"white\", \"gridwidth\": 2, \"linecolor\": \"white\", \"showbackground\": true, \"ticks\": \"\", \"zerolinecolor\": \"white\"}, \"zaxis\": {\"backgroundcolor\": \"#E5ECF6\", \"gridcolor\": \"white\", \"gridwidth\": 2, \"linecolor\": \"white\", \"showbackground\": true, \"ticks\": \"\", \"zerolinecolor\": \"white\"}}, \"shapedefaults\": {\"line\": {\"color\": \"#2a3f5f\"}}, \"ternary\": {\"aaxis\": {\"gridcolor\": \"white\", \"linecolor\": \"white\", \"ticks\": \"\"}, \"baxis\": {\"gridcolor\": \"white\", \"linecolor\": \"white\", \"ticks\": \"\"}, \"bgcolor\": \"#E5ECF6\", \"caxis\": {\"gridcolor\": \"white\", \"linecolor\": \"white\", \"ticks\": \"\"}}, \"title\": {\"x\": 0.05}, \"xaxis\": {\"automargin\": true, \"gridcolor\": \"white\", \"linecolor\": \"white\", \"ticks\": \"\", \"title\": {\"standoff\": 15}, \"zerolinecolor\": \"white\", \"zerolinewidth\": 2}, \"yaxis\": {\"automargin\": true, \"gridcolor\": \"white\", \"linecolor\": \"white\", \"ticks\": \"\", \"title\": {\"standoff\": 15}, \"zerolinecolor\": \"white\", \"zerolinewidth\": 2}}}, \"xaxis\": {\"anchor\": \"y\", \"domain\": [0.0, 1.0], \"title\": {\"text\": \"x\"}}, \"yaxis\": {\"anchor\": \"x\", \"domain\": [0.0, 1.0], \"title\": {\"text\": \"y\"}}},\n",
       "                        {\"responsive\": true}\n",
       "                    ).then(function(){\n",
       "                            \n",
       "var gd = document.getElementById('73a51d53-88fd-47d4-a135-848e8f9991c2');\n",
       "var x = new MutationObserver(function (mutations, observer) {{\n",
       "        var display = window.getComputedStyle(gd).display;\n",
       "        if (!display || display === 'none') {{\n",
       "            console.log([gd, 'removed!']);\n",
       "            Plotly.purge(gd);\n",
       "            observer.disconnect();\n",
       "        }}\n",
       "}});\n",
       "\n",
       "// Listen for the removal of the full notebook cells\n",
       "var notebookContainer = gd.closest('#notebook-container');\n",
       "if (notebookContainer) {{\n",
       "    x.observe(notebookContainer, {childList: true});\n",
       "}}\n",
       "\n",
       "// Listen for the clearing of the current output cell\n",
       "var outputEl = gd.closest('.output');\n",
       "if (outputEl) {{\n",
       "    x.observe(outputEl, {childList: true});\n",
       "}}\n",
       "\n",
       "                        })\n",
       "                };\n",
       "                });\n",
       "            </script>\n",
       "        </div>"
      ]
     },
     "metadata": {},
     "output_type": "display_data"
    }
   ],
   "source": [
    "df_glu_top_b = df_glu_top_b.sort_values('Vol', ascending=False)\n",
    "df_glu_top_b_top = df_glu_top_b[:800]\n",
    "fig = px.scatter(x=df_glu_top_b_top.Mass, y=df_glu_top_b_top.RT)\n",
    "fig.show()\n",
    "# plot_zones(df_glu_top_a, df_glu_top_b)"
   ]
  },
  {
   "cell_type": "code",
   "execution_count": 62,
   "metadata": {},
   "outputs": [
    {
     "name": "stdout",
     "output_type": "stream",
     "text": [
      "mass_x (248,) mass_y (248,)\n",
      "df3_idxs 12 df5_idxs 12\n",
      "df3_idxs 18 df5_idxs 18\n",
      "df3_idxs 17 df5_idxs 17\n",
      "df3_idxs 18 df5_idxs 18\n",
      "df3_idxs 2 df5_idxs 2\n",
      "df3_idxs 0 df5_idxs 0\n",
      "df3_idxs 1 df5_idxs 1\n",
      "df3_idxs 0 df5_idxs 0\n"
     ]
    },
    {
     "data": {
      "text/plain": [
       "<module 'matplotlib.pyplot' from '/Users/bryan/Virtuals/vir_seq/lib/python3.7/site-packages/matplotlib/pyplot.py'>"
      ]
     },
     "execution_count": 62,
     "metadata": {},
     "output_type": "execute_result"
    },
    {
     "data": {
      "image/png": "[encoded data removed]",
      "text/plain": [
       "<Figure size 1152x864 with 1 Axes>"
      ]
     },
     "metadata": {},
     "output_type": "display_data"
    }
   ],
   "source": [
    "# df_paired_5p_top = df_paired_5p.sort_values('Vol', ascending=False).iloc[:27]\n",
    "bcr_5p = base_calling_random(df_glu_top_b_top)\n",
    "plot_basecalling(*bcr_5p, annotate=True)"
   ]
  },
  {
   "cell_type": "markdown",
   "metadata": {},
   "source": [
    "# Grouped RT, Top Vol "
   ]
  },
  {
   "cell_type": "code",
   "execution_count": 37,
   "metadata": {},
   "outputs": [],
   "source": [
    "df1 = df_glu_top_b_top\n",
    "df1_top = df1[(df1.Mass > 2000) & (df1.Mass < 22000)].sort_values('Vol').groupby('RT').tail(3)"
   ]
  },
  {
   "cell_type": "code",
   "execution_count": 38,
   "metadata": {},
   "outputs": [
    {
     "data": {
      "application/vnd.jupyter.widget-view+json": {
       "model_id": "cd47a22ebba749a3828e82e8efc8eab8",
       "version_major": 2,
       "version_minor": 0
      },
      "text/plain": [
       "FigureWidget({\n",
       "    'data': [{'mode': 'markers',\n",
       "              'type': 'scatter',\n",
       "              'uid': '79a73e5…"
      ]
     },
     "metadata": {},
     "output_type": "display_data"
    }
   ],
   "source": [
    "import plotly.graph_objects as go\n",
    "\n",
    "idxs = list()\n",
    "# create our callback function\n",
    "def update_point(trace, points, selector):\n",
    "    print('points {}'.format(points.point_inds) )\n",
    "    idxs.extend(points.point_inds)\n",
    "\n",
    "# df_draw = df2[(df2.Mass > 12329) & (df2.Mass < 22000) & (df2.RT < 25) & (df2.RT > 8)]\n",
    "# df_draw = df2_chosen[:100] #df7\n",
    "df_draw = df1_top#[(df7_top.RT < 25) & (df7_top.RT > 8)]\n",
    "x = df_draw.Mass\n",
    "y = df_draw.RT\n",
    "fig = go.Scatter(x=x, y=y, mode='markers')\n",
    "f = go.FigureWidget(fig)\n",
    "f.update_layout(autosize=False, width=1024, height=700, paper_bgcolor=\"LightSteelBlue\",\n",
    "    margin=dict(\n",
    "        l=20,\n",
    "        r=20,\n",
    "        b=20,\n",
    "        t=20,\n",
    "        pad=4\n",
    "    ))\n",
    "scatter = f.data[0]\n",
    "scatter.on_selection(update_point)\n",
    "f"
   ]
  },
  {
   "cell_type": "code",
   "execution_count": 39,
   "metadata": {},
   "outputs": [
    {
     "name": "stdout",
     "output_type": "stream",
     "text": [
      "<class 'pandas.core.frame.DataFrame'>\n",
      "Int64Index: 91 entries, 654 to 291\n",
      "Data columns (total 4 columns):\n",
      "Unnamed: 0    91 non-null int64\n",
      "Mass          91 non-null float64\n",
      "RT            91 non-null float64\n",
      "Vol           91 non-null float64\n",
      "dtypes: float64(3), int64(1)\n",
      "memory usage: 3.6 KB\n"
     ]
    }
   ],
   "source": [
    "df1_chosen = df_draw#.iloc[idxs]\n",
    "df1_chosen.info()\n",
    "df1_chosen = df1_chosen.sort_values('Vol', ascending=False)"
   ]
  },
  {
   "cell_type": "code",
   "execution_count": 41,
   "metadata": {},
   "outputs": [
    {
     "name": "stdout",
     "output_type": "stream",
     "text": [
      "mass_x (235,) mass_y (235,)\n",
      "df3_idxs 12 df5_idxs 12\n",
      "df3_idxs 17 df5_idxs 17\n",
      "df3_idxs 17 df5_idxs 17\n",
      "df3_idxs 18 df5_idxs 18\n",
      "df3_idxs 2 df5_idxs 2\n",
      "df3_idxs 0 df5_idxs 0\n",
      "df3_idxs 1 df5_idxs 1\n",
      "df3_idxs 0 df5_idxs 0\n"
     ]
    },
    {
     "data": {
      "image/png": "[encoded data removed]",
      "text/plain": [
       "<Figure size 1152x864 with 1 Axes>"
      ]
     },
     "metadata": {},
     "output_type": "display_data"
    }
   ],
   "source": [
    "# plot_zone(df2_chosen[:100])\n",
    "bcr_5p = base_calling_random(df_glu_top)\n",
    "plt = plot_basecalling(*bcr_5p, annotate=True)\n",
    "# plt.savefig('/Users/bryan/Downloads/Glu_1.png', bbox_inches='tight', transparent=True)"
   ]
  },
  {
   "cell_type": "code",
   "execution_count": null,
   "metadata": {},
   "outputs": [],
   "source": []
  }
 ],
 "metadata": {
  "kernelspec": {
   "display_name": "Python 3",
   "language": "python",
   "name": "python3"
  },
  "language_info": {
   "codemirror_mode": {
    "name": "ipython",
    "version": 3
   },
   "file_extension": ".py",
   "mimetype": "text/x-python",
   "name": "python",
   "nbconvert_exporter": "python",
   "pygments_lexer": "ipython3",
   "version": "3.7.3"
  }
 },
 "nbformat": 4,
 "nbformat_minor": 4
}
