{
 "cells": [
  {
   "cell_type": "code",
   "execution_count": null,
   "id": "julian-range",
   "metadata": {},
   "outputs": [],
   "source": [
    "import pandas as pd\n",
    "import numpy as np\n",
    "import matplotlib\n",
    "import plotly.express as px"
   ]
  },
  {
   "cell_type": "code",
   "execution_count": null,
   "id": "blocked-british",
   "metadata": {},
   "outputs": [],
   "source": [
    "%run ../../modules/utils.ipynb\n",
    "%run ../../modules/cds.ipynb\n",
    "%run ../../modules/preprocessing.ipynb"
   ]
  },
  {
   "cell_type": "code",
   "execution_count": null,
   "id": "parliamentary-detection",
   "metadata": {},
   "outputs": [],
   "source": [
    "df_mock = pd.read_excel('/Users/bryan/Documents/BioPharmaFinder/BaoLab/FirstBatch/Excels/1_Mock_10ul_9min_NewOmics.xlsx')\n",
    "df_rsv = pd.read_excel('/Users/bryan/Documents/BioPharmaFinder/BaoLab/FirstBatch/Excels/6_RSV1_10ul_9min_NewOmics.xlsx')\n",
    "df_mock = thermo_df(df_mock)\n",
    "df_rsv = thermo_df(df_rsv)\n",
    "df_mock.shape, df_rsv.shape"
   ]
  },
  {
   "cell_type": "code",
   "execution_count": null,
   "id": "diverse-combine",
   "metadata": {},
   "outputs": [],
   "source": [
    "df3 = pd.read_excel('/Users/bryan/Documents/BioPharmaFinder/BaoLab/FirstBatch/Excels/S2to5combined_20ul_40min.xlsx')\n",
    "df6 = pd.read_excel('/Users/bryan/Documents/BioPharmaFinder/BaoLab/FirstBatch/Excels/S6to10combined_20ul_40min.xlsx')\n",
    "df3 = thermo_df(df3)\n",
    "df6 = thermo_df(df6)\n",
    "df3.shape, df6.shape"
   ]
  },
  {
   "cell_type": "code",
   "execution_count": null,
   "id": "personalized-stockholm",
   "metadata": {},
   "outputs": [],
   "source": [
    "df_ngs_5p = pd.read_excel('/Users/bryan/Studio/tools/NGS_24128_5p.xlsx')\n",
    "df_ngs_3p = pd.read_excel('/Users/bryan/Studio/tools/NGS_24128_3p.xlsx')\n",
    "df_ngs_5p.shape, df_ngs_3p.shape"
   ]
  },
  {
   "cell_type": "code",
   "execution_count": null,
   "id": "impaired-candidate",
   "metadata": {},
   "outputs": [],
   "source": [
    "df_glu_5p = pd.read_excel('/Users/bryan/Studio/tools/glu_76_5p.xlsx')\n",
    "df_glu_3p = pd.read_excel('/Users/bryan/Studio/tools/glu_76_3p.xlsx')\n",
    "df_glu_5p.shape, df_glu_3p.shape"
   ]
  },
  {
   "cell_type": "code",
   "execution_count": null,
   "id": "enabling-detection",
   "metadata": {},
   "outputs": [],
   "source": [
    "def find_exist_ladder_dots(df, series):\n",
    "    df_ladder = pd.DataFrame()\n",
    "    df_ladder['Mass'] = series\n",
    "    df_found = match_dfs(df_ladder, df)\n",
    "    return df_found"
   ]
  },
  {
   "cell_type": "code",
   "execution_count": null,
   "id": "senior-retail",
   "metadata": {},
   "outputs": [],
   "source": [
    "glu_5p = df_glu_5p.Mass - 18\n",
    "glu_3p = df_glu_3p.Mass - 18\n",
    "\n",
    "# ngs_5p_m1 = df_ngs_5p.Mass + M\n",
    "# ngs_5p_m1d2 = ngs_5p_m1 + 2 * 2\n",
    "# ngs_5p_m2d2 = ngs_5p_m1d2 + M\n",
    "# ngs_5p_m3d2 = ngs_5p_m2d2 + M\n",
    "# ngs_5p_m4d2 = ngs_5p_m3d2 + M\n",
    "\n",
    "# ngs_3p_m1 = df_ngs_3p.Mass + M\n",
    "# ngs_3p_m2 = ngs_3p_m1 + M\n",
    "# ngs_3p_m3 = ngs_3p_m2 + M\n",
    "# ngs_3p_m3d2 = ngs_3p_m3 + 2 * 2\n",
    "# ngs_3p_m4d2 = ngs_3p_m3d2 + M"
   ]
  },
  {
   "cell_type": "code",
   "execution_count": null,
   "id": "herbal-moscow",
   "metadata": {},
   "outputs": [],
   "source": [
    "glu_5p = df_glu_5p.Mass - 18 \n",
    "df_match0 = find_exist_ladder_dots(df_mock, glu_5p)\n",
    "glu_5p = df_glu_5p.Mass - 18 + 2\n",
    "df_match1 = find_exist_ladder_dots(df_mock, glu_5p)\n",
    "glu_5p = df_glu_5p.Mass - 18 + 2 - 1\n",
    "df_match2 = find_exist_ladder_dots(df_mock, glu_5p)\n",
    "plotly_multi_zones([df_match0, df_match1, df_match2], y='RT')"
   ]
  },
  {
   "cell_type": "code",
   "execution_count": null,
   "id": "paperback-helmet",
   "metadata": {},
   "outputs": [],
   "source": [
    "df_matches = [df_match0, df_match1, df_match2]\n",
    "df_list = list()\n",
    "for idx, df in enumerate(df_matches):\n",
    "    df_tmp = df.copy()\n",
    "    df_tmp['ModificationId'] = idx\n",
    "    df_list.append(df_tmp)\n",
    "df_merge = pd.concat(df_list)\n",
    "df_merge.to_excel('/Users/bryan/Documents/BioPharmaFinder/Draw/SourceGlu/Fig4_Data_U2C.xlsx')"
   ]
  },
  {
   "cell_type": "code",
   "execution_count": null,
   "id": "optional-pepper",
   "metadata": {},
   "outputs": [],
   "source": [
    "\n",
    "bcr = base_calling_random(df_merge, silence=True)\n",
    "plot_basecalling(*bcr, annotate=False)"
   ]
  },
  {
   "cell_type": "code",
   "execution_count": null,
   "id": "addressed-electricity",
   "metadata": {},
   "outputs": [],
   "source": [
    "glu_5p = df_glu_5p.Mass - 18 \n",
    "df_match0 = find_exist_ladder_dots(df_rsv, glu_5p)\n",
    "glu_5p = df_glu_5p.Mass - 18 + 2\n",
    "df_match1 = find_exist_ladder_dots(df_rsv, glu_5p)\n",
    "glu_5p = df_glu_5p.Mass - 18 + 2 - 1\n",
    "df_match2 = find_exist_ladder_dots(df_rsv, glu_5p)\n",
    "plotly_multi_zones([df_match0, df_match1, df_match2], y='RT')"
   ]
  },
  {
   "cell_type": "code",
   "execution_count": null,
   "id": "wooden-botswana",
   "metadata": {},
   "outputs": [],
   "source": [
    "glu_5p = df_glu_5p.Mass - 18 \n",
    "df_match0 = find_exist_ladder_dots(df3, glu_5p)\n",
    "glu_5p = df_glu_5p.Mass - 18 + 2\n",
    "df_match1 = find_exist_ladder_dots(df3, glu_5p)\n",
    "glu_5p = df_glu_5p.Mass - 18 + 2 - 1\n",
    "df_match2 = find_exist_ladder_dots(df3, glu_5p)\n",
    "plotly_multi_zones([df_match0, df_match1, df_match2], y='RT')"
   ]
  },
  {
   "cell_type": "code",
   "execution_count": null,
   "id": "according-buffalo",
   "metadata": {},
   "outputs": [],
   "source": []
  }
 ],
 "metadata": {
  "kernelspec": {
   "display_name": "Python 3",
   "language": "python",
   "name": "python3"
  },
  "language_info": {
   "codemirror_mode": {
    "name": "ipython",
    "version": 3
   },
   "file_extension": ".py",
   "mimetype": "text/x-python",
   "name": "python",
   "nbconvert_exporter": "python",
   "pygments_lexer": "ipython3",
   "version": "3.7.3"
  }
 },
 "nbformat": 4,
 "nbformat_minor": 5
}
