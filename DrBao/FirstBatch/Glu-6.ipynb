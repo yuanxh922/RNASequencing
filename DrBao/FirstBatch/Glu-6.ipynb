{
 "cells": [
  {
   "cell_type": "code",
   "execution_count": null,
   "metadata": {},
   "outputs": [],
   "source": [
    "import pandas as pd\n",
    "import numpy as np\n",
    "import matplotlib\n",
    "import plotly.express as px"
   ]
  },
  {
   "cell_type": "code",
   "execution_count": null,
   "metadata": {},
   "outputs": [],
   "source": [
    "%run ../modules/utils.ipynb\n",
    "%run ../modules/cds.ipynb\n",
    "%run ../modules/preprocessing.ipynb"
   ]
  },
  {
   "cell_type": "markdown",
   "metadata": {},
   "source": [
    "# Glu Dataset 6"
   ]
  },
  {
   "cell_type": "markdown",
   "metadata": {},
   "source": [
    "# Preprocessing Glu 6"
   ]
  },
  {
   "cell_type": "code",
   "execution_count": null,
   "metadata": {},
   "outputs": [],
   "source": [
    "df_glu_6 = pd.read_excel('/Users/bryan/Documents/BioPharmaFinder/BaoLab/Excels/6_RSV1_10ul_9min_NewOmics.xlsx')\n",
    "df_glu_6.info()"
   ]
  },
  {
   "cell_type": "code",
   "execution_count": null,
   "metadata": {},
   "outputs": [],
   "source": [
    "df_glu_6 = thermo_df(df_glu_6)\n",
    "df_glu_6 = df_glu_6.dropna()"
   ]
  },
  {
   "cell_type": "code",
   "execution_count": null,
   "metadata": {},
   "outputs": [],
   "source": [
    "df_glu_6 = pd.read_excel('/Users/bryan/Documents/BioPharmaFinder/BaoLab/Excels/UTMB6_std.xlsx')\n",
    "df_glu_6.info()"
   ]
  },
  {
   "cell_type": "code",
   "execution_count": null,
   "metadata": {},
   "outputs": [],
   "source": [
    "plot_zone(df_glu_6)"
   ]
  },
  {
   "cell_type": "code",
   "execution_count": null,
   "metadata": {},
   "outputs": [],
   "source": [
    "import plotly.graph_objects as go\n",
    "\n",
    "idxs = list()\n",
    "# create our callback function\n",
    "def update_point(trace, points, selector):\n",
    "    print('points {}'.format(points.point_inds) )\n",
    "    idxs.extend(points.point_inds)\n",
    "\n",
    "# df_glu_6 = df_glu_6[(df_glu_6.Mass > 3291) & (df_glu_6.Mass < 15401)]\n",
    "# df_draw = df_glu_6_kernel\n",
    "df_draw = df_glu_6\n",
    "x = df_draw.Mass\n",
    "y = df_draw.RT\n",
    "f = go.FigureWidget([go.Scatter(x=x, y=y, mode='markers')])\n",
    "scatter = f.data[0]\n",
    "scatter.on_selection(update_point)\n",
    "f"
   ]
  },
  {
   "cell_type": "code",
   "execution_count": null,
   "metadata": {},
   "outputs": [],
   "source": [
    "df_glu_6_kernel = df_draw.iloc[idxs]\n",
    "df_glu_6_kernel.info()"
   ]
  },
  {
   "cell_type": "code",
   "execution_count": null,
   "metadata": {},
   "outputs": [],
   "source": [
    "df_glu_6_kernel = df_glu_6_kernel.sort_values('Vol', ascending=False)\n",
    "df_glu_6_kernel_top = df_glu_6_kernel[:100]\n",
    "fig = px.scatter(x=df_glu_6_kernel_top.Mass, y=df_glu_6_kernel_top.RT)\n",
    "fig.show()\n",
    "# plot_zones(df_glu_top_a, df_glu_top_b)"
   ]
  },
  {
   "cell_type": "code",
   "execution_count": null,
   "metadata": {},
   "outputs": [],
   "source": [
    "# df_paired_5p_top = df_paired_5p.sort_values('Vol', ascending=False).iloc[:27]\n",
    "bcr_5p = base_calling_random(df_glu_6_kernel_top)\n",
    "plot_basecalling(*bcr_5p, annotate=True)"
   ]
  },
  {
   "cell_type": "code",
   "execution_count": null,
   "metadata": {},
   "outputs": [],
   "source": []
  }
 ],
 "metadata": {
  "kernelspec": {
   "display_name": "Python 3",
   "language": "python",
   "name": "python3"
  },
  "language_info": {
   "codemirror_mode": {
    "name": "ipython",
    "version": 3
   },
   "file_extension": ".py",
   "mimetype": "text/x-python",
   "name": "python",
   "nbconvert_exporter": "python",
   "pygments_lexer": "ipython3",
   "version": "3.7.3"
  }
 },
 "nbformat": 4,
 "nbformat_minor": 4
}
