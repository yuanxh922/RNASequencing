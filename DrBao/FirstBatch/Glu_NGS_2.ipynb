{
 "cells": [
  {
   "cell_type": "code",
   "execution_count": null,
   "metadata": {},
   "outputs": [],
   "source": [
    "import pandas as pd\n",
    "import numpy as np\n",
    "import matplotlib\n",
    "import plotly.express as px"
   ]
  },
  {
   "cell_type": "code",
   "execution_count": null,
   "metadata": {},
   "outputs": [],
   "source": [
    "%run ../../modules/utils.ipynb\n",
    "%run ../../modules/cds.ipynb\n",
    "%run ../../modules/preprocessing.ipynb"
   ]
  },
  {
   "cell_type": "code",
   "execution_count": null,
   "metadata": {},
   "outputs": [],
   "source": [
    "df3 = pd.read_excel('/Users/bryan/Documents/BioPharmaFinder/BaoLab/FirstBatch/Excels/S2to5combined_20ul_40min.xlsx')\n",
    "df6 = pd.read_excel('/Users/bryan/Documents/BioPharmaFinder/BaoLab/FirstBatch/Excels/S6to10combined_20ul_40min.xlsx')\n",
    "df3 = thermo_df(df3)\n",
    "df6 = thermo_df(df6)\n",
    "df3.shape, df6.shape"
   ]
  },
  {
   "cell_type": "code",
   "execution_count": null,
   "metadata": {},
   "outputs": [],
   "source": [
    "df36 = pd.concat([df3, df6]).drop_duplicates()\n",
    "df36.shape"
   ]
  },
  {
   "cell_type": "code",
   "execution_count": null,
   "metadata": {},
   "outputs": [],
   "source": [
    "df_ngs_5p = pd.read_excel('/Users/bryan/Studio/tools/NGS_24129_5p.xlsx')\n",
    "df_ngs_3p = pd.read_excel('/Users/bryan/Studio/tools/NGS_24129_3p.xlsx')\n",
    "df_ngs_5p.shape, df_ngs_3p.shape"
   ]
  },
  {
   "cell_type": "code",
   "execution_count": null,
   "metadata": {},
   "outputs": [],
   "source": [
    "def find_exist_ladder_dots(df, series):\n",
    "    df_ladder = pd.DataFrame()\n",
    "    df_ladder['Mass'] = series\n",
    "    df_found = match_dfs(df_ladder, df)\n",
    "    return df_found"
   ]
  },
  {
   "cell_type": "code",
   "execution_count": null,
   "metadata": {},
   "outputs": [],
   "source": [
    "def local_plot_zone(df, trend=False, order=1, y='RT'):\n",
    "    fig = plt.figure(figsize=(8.5, 4))\n",
    "    plt.xlabel('Monoisotopic Mass (Da)', fontname=\"Arial\", fontsize=15, color='black')\n",
    "    if y == 'RT':\n",
    "        plt.ylabel('Retention Time (min)', fontname=\"Arial\", fontsize=15, color='black')\n",
    "    else:\n",
    "        plt.ylabel('Intensity', fontname=\"Arial\", fontsize=15, color='black')\n",
    "    plt.xticks(fontname=\"Arial\", size=13, color='black')\n",
    "    plt.yticks(fontname=\"Arial\", size=13, color='black')\n",
    "    if trend:\n",
    "        sns.regplot(df.Mass, df[y], order=order)\n",
    "    else:\n",
    "        plt.scatter(df.Mass, df[y])\n",
    "    \n",
    "    return plt, fig\n",
    "\n",
    "def local_plot_zones(df3p, df5p, trend=False, y='RT'):\n",
    "    fig = plt.figure(figsize=(8.5, 4))\n",
    "    plt.xlabel('Monoisotopic Mass (Da)', fontname=\"Arial\", fontsize=15, color='black')\n",
    "    plt.ylabel('Retention Time (min)', fontname=\"Arial\", fontsize=15, color='black')\n",
    "    plt.xticks(fontname=\"Arial\", size=13, color='black')\n",
    "    plt.yticks(fontname=\"Arial\", size=13, color='black')\n",
    "    if trend:\n",
    "        sns.regplot(df3p.Mass, df3p[y])\n",
    "        sns.regplot(df5p.Mass, df5p[y], order=2)\n",
    "    else:\n",
    "        plt.scatter(df3p.Mass, df3p[y])\n",
    "        plt.scatter(df5p.Mass, df5p[y])\n",
    "    \n",
    "    return plt, fig\n",
    "\n",
    "def output(df_ds, plt, fig, idx, svg_name):\n",
    "    fig.tight_layout()\n",
    "    plt.savefig(f'/Users/bryan/Documents/BioPharmaFinder/BaoLab/MassSum/FirstBatch/{group}/Fig{idx}_{svg_name}.svg', dpi=300, transparent=True)"
   ]
  },
  {
   "cell_type": "code",
   "execution_count": null,
   "metadata": {},
   "outputs": [],
   "source": [
    "masses = [24189.23, 24203.24, 24217.27, 24231.25, 24246.23]"
   ]
  },
  {
   "cell_type": "code",
   "execution_count": null,
   "metadata": {},
   "outputs": [],
   "source": [
    "# 24203 - 24129 = 74 Da = 5 Methyl, 4 Da\n",
    "ngs_5p = df_ngs_5p.Mass\n",
    "ngs_5p_m1 = ngs_5p + M\n",
    "ngs_5p_m1d2 = ngs_5p_m1 + 2 * 2\n",
    "ngs_5p_m2d2 = ngs_5p_m1d2 + M\n",
    "ngs_5p_m3d2 = ngs_5p_m2d2 + M\n",
    "ngs_5p_m4d2 = ngs_5p_m3d2 + M\n",
    "ngs_5p_m5d2 = ngs_5p_m4d2 + M\n",
    "\n",
    "ngs_3p = df_ngs_3p.Mass\n",
    "ngs_3p_m1 = ngs_3p + M\n",
    "ngs_3p_m2 = ngs_3p_m1 + M\n",
    "ngs_3p_m3 = ngs_3p_m2 + M\n",
    "ngs_3p_m4 = ngs_3p_m3 + M\n",
    "ngs_3p_m4d2 = ngs_3p_m4 + 2 * 2\n",
    "ngs_3p_m5d2 = ngs_3p_m4d2 + M"
   ]
  },
  {
   "cell_type": "code",
   "execution_count": null,
   "metadata": {},
   "outputs": [],
   "source": [
    "# 24217 - 24129 = 88 Da = 6 Methyl, 4 Da\n",
    "diff = M\n",
    "ngs_5p = df_ngs_5p.Mass\n",
    "ngs_5p_m1 = ngs_5p + M\n",
    "ngs_5p_m1d2 = ngs_5p_m1 + 2 * 2\n",
    "ngs_5p_m2d2 = ngs_5p_m1d2 + M\n",
    "ngs_5p_m3d2 = ngs_5p_m2d2 + M\n",
    "ngs_5p_m4d2 = ngs_5p_m3d2 + M\n",
    "ngs_5p_m5d2 = ngs_5p_m4d2 + M #* 2\n",
    "ngs_5p_m6d2 = ngs_5p_m5d2 + M\n",
    "\n",
    "ngs_3p = df_ngs_3p.Mass\n",
    "ngs_3p_m1 = ngs_3p + M\n",
    "ngs_3p_m2 = ngs_3p_m1 + M\n",
    "ngs_3p_m3 = ngs_3p_m2 + M# * 2\n",
    "ngs_3p_m4 = ngs_3p_m3 + M\n",
    "ngs_3p_m5 = ngs_3p_m4 + M\n",
    "ngs_3p_m5d2 = ngs_3p_m5 + 2 * 2\n",
    "ngs_3p_m6d2 = ngs_3p_m5d2 + M"
   ]
  },
  {
   "cell_type": "code",
   "execution_count": null,
   "metadata": {},
   "outputs": [],
   "source": []
  },
  {
   "cell_type": "code",
   "execution_count": null,
   "metadata": {},
   "outputs": [],
   "source": [
    "# ngs_5p_list = [ngs_5p_m1, ngs_5p_m1d2, ngs_5p_m2d2, ngs_5p_m3d2, ngs_5p_m4d2, ngs_5p_m5d2, ngs_5p_m6d2, ngs_5p_m7d2]\n",
    "ngs_5p_list = [ngs_5p, ngs_5p_m1, ngs_5p_m1d2, ngs_5p_m2d2, ngs_5p_m3d2, ngs_5p_m4d2, ngs_5p_m5d2]\n",
    "# ngs_5p_list = [ngs_5p, ngs_5p_m1, ngs_5p_m1d2, ngs_5p_m2d2, ngs_5p_m3d2, ngs_5p_m4d2, ngs_5p_m5d2, ngs_5p_m6d2]\n",
    "# ngs_5p_list = [ngs_5p, ngs_5p_m1, ngs_5p_m1d2, ngs_5p_m2d2, ngs_5p_m3d2, ngs_5p_m5d2, ngs_5p_m6d2]\n",
    "df_matched_5p_s3_list = list()\n",
    "df_matched_5p_s6_list = list()\n",
    "for idx, ngs in enumerate(ngs_5p_list):\n",
    "    df_ngs = find_exist_ladder_dots(df3, ngs)\n",
    "#     if idx + 1 == len(ngs_5p_list):\n",
    "#         df_ngs = df_ngs[df_ngs.Mass > 16000]\n",
    "    df_matched_5p_s3_list.append(df_ngs)\n",
    "    df_ngs = find_exist_ladder_dots(df6, ngs)\n",
    "#     if idx + 1 == len(ngs_5p_list):\n",
    "#         df_ngs = df_ngs[df_ngs.Mass > 16000]\n",
    "    df_matched_5p_s6_list.append(df_ngs)\n",
    "    \n",
    "ngs_3p_list = [ngs_3p, ngs_3p_m1, ngs_3p_m2, ngs_3p_m3, ngs_3p_m4, ngs_3p_m4d2, ngs_3p_m5d2]\n",
    "# ngs_3p_list = [ngs_3p, ngs_3p_m1, ngs_3p_m2, ngs_3p_m3, ngs_3p_m4, ngs_3p_m5, ngs_3p_m5d2, ngs_3p_m6d2]\n",
    "# ngs_3p_list = [ngs_3p, ngs_3p_m1, ngs_3p_m3, ngs_3p_m4, ngs_3p_m5, ngs_3p_m5d2, ngs_3p_m6d2]\n",
    "df_matched_3p_s3_list = list()\n",
    "df_matched_3p_s6_list = list()\n",
    "for idx, ngs in enumerate(ngs_3p_list):\n",
    "    df_ngs = find_exist_ladder_dots(df3, ngs)\n",
    "#     if idx + 1 == len(ngs_3p_list):\n",
    "#         df_ngs = df_ngs[df_ngs.Mass > 16000]\n",
    "    df_matched_3p_s3_list.append(df_ngs)\n",
    "    df_ngs = find_exist_ladder_dots(df6, ngs)\n",
    "#     if idx + 1 == len(ngs_3p_list):\n",
    "#         df_ngs = df_ngs[df_ngs.Mass > 16000]\n",
    "    df_matched_3p_s6_list.append(df_ngs)"
   ]
  },
  {
   "cell_type": "code",
   "execution_count": null,
   "metadata": {},
   "outputs": [],
   "source": [
    "df_matched_5p_s3 = pd.concat(df_matched_5p_s3_list).drop_duplicates()\n",
    "df_matched_5p_s6 = pd.concat(df_matched_5p_s6_list).drop_duplicates()\n",
    "\n",
    "df_matched_3p_s3 = pd.concat(df_matched_3p_s3_list).drop_duplicates()\n",
    "df_matched_3p_s6 = pd.concat(df_matched_3p_s6_list).drop_duplicates()"
   ]
  },
  {
   "cell_type": "code",
   "execution_count": null,
   "metadata": {},
   "outputs": [],
   "source": []
  },
  {
   "cell_type": "code",
   "execution_count": null,
   "metadata": {},
   "outputs": [],
   "source": [
    "# plus 1 * 43 Da difference\n",
    "diff = 14\n",
    "ngs_5p_D = ngs_5p + diff\n",
    "ngs_5p_m1_D = ngs_5p_m1 + diff\n",
    "ngs_5p_m1d2_D = ngs_5p_m1d2 + diff\n",
    "ngs_5p_m2d2_D = ngs_5p_m2d2 + diff\n",
    "ngs_5p_m3d2_D = ngs_5p_m3d2 + diff\n",
    "ngs_5p_m4d2_D = ngs_5p_m4d2 + diff\n",
    "ngs_5p_m5d2_D = ngs_5p_m5d2 + diff"
   ]
  },
  {
   "cell_type": "code",
   "execution_count": null,
   "metadata": {},
   "outputs": [],
   "source": [
    "ngs_5p_D_list = [ngs_5p_D, ngs_5p_m1_D, ngs_5p_m1d2_D, ngs_5p_m2d2_D, ngs_5p_m3d2_D, ngs_5p_m4d2_D, ngs_5p_m5d2_D]\n",
    "df_matched_5p_D_s3_list = list()\n",
    "df_matched_5p_D_s6_list = list()\n",
    "for idx, ngs in enumerate(ngs_5p_D_list):\n",
    "    df_ngs = find_exist_ladder_dots(df3, ngs)\n",
    "#     if idx + 1 == len(ngs_5p_D_list):\n",
    "#         df_ngs = df_ngs[df_ngs.Mass > 16000]\n",
    "    df_matched_5p_D_s3_list.append(df_ngs)\n",
    "    df_ngs = find_exist_ladder_dots(df6, ngs)\n",
    "    df_matched_5p_D_s6_list.append(df_ngs)"
   ]
  },
  {
   "cell_type": "code",
   "execution_count": null,
   "metadata": {},
   "outputs": [],
   "source": [
    "df_matched_5p_D_s3 = pd.concat(df_matched_5p_D_s3_list).drop_duplicates()\n",
    "df_matched_5p_D_s6 = pd.concat(df_matched_5p_D_s6_list).drop_duplicates()"
   ]
  },
  {
   "cell_type": "code",
   "execution_count": null,
   "metadata": {},
   "outputs": [],
   "source": [
    "C+G"
   ]
  },
  {
   "cell_type": "code",
   "execution_count": null,
   "metadata": {},
   "outputs": [],
   "source": [
    "idx = 0\n",
    "total = 7\n",
    "# plotly_zones(df_matched_5p_s3_list[total-idx-1], df_matched_5p_s3_list[total-idx])\n",
    "# plotly_zones(df_matched_3p_s3_list[idx], df_matched_3p_s3_list[idx+1])\n",
    "plotly_multi_zones(df_matched_3p_s3_list)\n",
    "\n",
    "# idx = 3\n",
    "# plotly_zones(pd.concat(df_matched_5p_s6_list[:idx]).drop_duplicates(), df_matched_5p_s6_list[idx])\n",
    "# plotly_zones(pd.concat(df_matched_5p_s6_list[:idx+1]).drop_duplicates(), df_matched_5p_s6_list[idx+1])\n"
   ]
  },
  {
   "cell_type": "code",
   "execution_count": null,
   "metadata": {},
   "outputs": [],
   "source": []
  },
  {
   "cell_type": "code",
   "execution_count": null,
   "metadata": {},
   "outputs": [],
   "source": [
    "plotly_zone(df_matched_3p_s3)"
   ]
  },
  {
   "cell_type": "code",
   "execution_count": null,
   "metadata": {},
   "outputs": [],
   "source": []
  },
  {
   "cell_type": "code",
   "execution_count": null,
   "metadata": {},
   "outputs": [],
   "source": [
    "matched_5p_s3 = list()\n",
    "for idx, df_i in enumerate(df_matched_5p_s3_list):\n",
    "    df_tmp = df_i.copy()\n",
    "    df_tmp['ModificationId'] = idx\n",
    "    matched_5p_s3.append(df_tmp)\n",
    "\n",
    "matched_3p_s3 = list()\n",
    "for idx, df_i in enumerate(df_matched_3p_s3_list):\n",
    "    df_tmp = df_i.copy()\n",
    "    df_tmp['ModificationId'] = idx\n",
    "    matched_3p_s3.append(df_tmp)"
   ]
  },
  {
   "cell_type": "code",
   "execution_count": null,
   "metadata": {},
   "outputs": [],
   "source": [
    "full_mass = masses[2]\n",
    "df_multi_col_masses_5p_s3 = pd.DataFrame()\n",
    "for idx, df_i in enumerate(df_matched_5p_s3_list):\n",
    "#     df_tmp = df_i.copy()\n",
    "#     df_tmp['ModificationId'] = idx\n",
    "#     matched_5p_s3.append(df_tmp)\n",
    "    df_exam = df_i\n",
    "    bcr = base_calling_random(df_exam, silence=True)\n",
    "    df_seats = process_mass_base_seats(df_exam, bcr[1], full_mass=full_mass, orientation=5)\n",
    "    df_multi_col_masses_5p_s3[f'Mass_{idx}'] = df_seats.Mass\n",
    "\n",
    "df_multi_col_masses_3p_s3 = pd.DataFrame()\n",
    "for idx, df_i in enumerate(df_matched_3p_s3_list):\n",
    "    df_exam = df_i\n",
    "    bcr = base_calling_random(df_exam, silence=True)\n",
    "    df_seats = process_mass_base_seats(df_exam, bcr[1], full_mass=full_mass, orientation=3)\n",
    "    df_multi_col_masses_3p_s3[f'Mass_{idx}'] = df_seats.Mass"
   ]
  },
  {
   "cell_type": "code",
   "execution_count": null,
   "metadata": {},
   "outputs": [],
   "source": [
    "df_multi_col_masses_5p_s3.to_excel('/Users/bryan/Documents/BioPharmaFinder/BaoLab/MassSum/FirstBatch/{}/seats_{}_5p_s3.xlsx'.format(group, int(full_mass)))\n",
    "df_multi_col_masses_3p_s3.to_excel('/Users/bryan/Documents/BioPharmaFinder/BaoLab/MassSum/FirstBatch/{}/seats_{}_3p_s3.xlsx'.format(group, int(full_mass)))"
   ]
  },
  {
   "cell_type": "code",
   "execution_count": null,
   "metadata": {},
   "outputs": [],
   "source": [
    "plotly_zone(df_matched_5p_s3)"
   ]
  },
  {
   "cell_type": "code",
   "execution_count": null,
   "metadata": {},
   "outputs": [],
   "source": [
    "group = 'Group_24217'\n",
    "full_mass = masses[2]\n",
    "df_exam = df_matched_5p_s3\n",
    "bcr = base_calling_random(df_exam, silence=True)\n",
    "df_seats = process_mass_base_seats(df_exam, bcr[1], full_mass=full_mass, orientation=5)\n",
    "df_seats.to_excel('/Users/bryan/Documents/BioPharmaFinder/BaoLab/MassSum/FirstBatch/{}/seats_{}_5p.xlsx'.format(group, int(full_mass)))"
   ]
  },
  {
   "cell_type": "code",
   "execution_count": null,
   "metadata": {},
   "outputs": [],
   "source": [
    "df_5p_s3 = pd.concat(matched_5p_s3)\n",
    "df_3p_s3 = pd.concat(matched_3p_s3)\n",
    "df_5p_s3.to_excel(f'/Users/bryan/Documents/BioPharmaFinder/BaoLab/MassSum/FirstBatch/{group}/24217_5p_s3.xlsx')\n",
    "df_3p_s3.to_excel(f'/Users/bryan/Documents/BioPharmaFinder/BaoLab/MassSum/FirstBatch/{group}/24217_3p_s3.xlsx')"
   ]
  },
  {
   "cell_type": "code",
   "execution_count": null,
   "metadata": {},
   "outputs": [],
   "source": [
    "group = 'Group_24203'\n",
    "\n",
    "matched_5p_s3 = list()\n",
    "for idx, df_i in enumerate(df_matched_5p_s3_list):\n",
    "    df_tmp = df_i.copy()\n",
    "    df_tmp['ModificationId'] = idx\n",
    "    matched_5p_s3.append(df_tmp)\n",
    "\n",
    "matched_3p_s3 = list()\n",
    "for idx, df_i in enumerate(df_matched_3p_s3_list):\n",
    "    df_tmp = df_i.copy()\n",
    "    df_tmp['ModificationId'] = idx\n",
    "    matched_3p_s3.append(df_tmp)\n",
    "    \n",
    "matched_5p_s6 = list()\n",
    "for idx, df_i in enumerate(df_matched_5p_s6_list):\n",
    "    df_tmp = df_i.copy()\n",
    "    df_tmp['ModificationId'] = idx\n",
    "    matched_5p_s6.append(df_tmp)\n",
    "\n",
    "matched_3p_s6 = list()\n",
    "for idx, df_i in enumerate(df_matched_3p_s6_list):\n",
    "    df_tmp = df_i.copy()\n",
    "    df_tmp['ModificationId'] = idx\n",
    "    matched_3p_s6.append(df_tmp)\n",
    "    \n",
    "    \n",
    "df_5p_s3 = pd.concat(matched_5p_s3)\n",
    "df_3p_s3 = pd.concat(matched_3p_s3)\n",
    "df_5p_s6 = pd.concat(matched_5p_s6)\n",
    "df_3p_s6 = pd.concat(matched_3p_s6)\n",
    "# df_5p_s3.to_excel(f'/Users/bryan/Documents/BioPharmaFinder/BaoLab/MassSum/FirstBatch/{group}/24203_5p_s3.xlsx')\n",
    "# df_5p_s6.to_excel(f'/Users/bryan/Documents/BioPharmaFinder/BaoLab/MassSum/FirstBatch/{group}/24203_5p_s6.xlsx')\n",
    "\n",
    "full_mass = masses[1]\n",
    "df_exam = df_matched_5p_s3\n",
    "bcr = base_calling_random(df_exam, silence=True)\n",
    "df_seats = process_mass_base_seats(df_exam, bcr[1], full_mass=full_mass, orientation=5)\n",
    "# df_seats.to_excel('/Users/bryan/Documents/BioPharmaFinder/BaoLab/MassSum/FirstBatch/{}/seats_{}_5p_s3.xlsx'.format(group, int(full_mass)))\n",
    "\n",
    "full_mass = masses[1]\n",
    "df_exam = df_matched_5p_s6\n",
    "bcr = base_calling_random(df_exam, silence=True)\n",
    "df_seats = process_mass_base_seats(df_exam, bcr[1], full_mass=full_mass, orientation=5)\n",
    "# df_seats.to_excel('/Users/bryan/Documents/BioPharmaFinder/BaoLab/MassSum/FirstBatch/{}/seats_{}_5p_s6.xlsx'.format(group, int(full_mass)))"
   ]
  },
  {
   "cell_type": "code",
   "execution_count": null,
   "metadata": {},
   "outputs": [],
   "source": [
    "# plotly_zone(df_5p_s3)\n",
    "# plotly_zone(df_5p_s6)\n",
    "plotly_multi_zones(matched_5p_s3)"
   ]
  },
  {
   "cell_type": "code",
   "execution_count": null,
   "metadata": {},
   "outputs": [],
   "source": [
    "# "
   ]
  },
  {
   "cell_type": "code",
   "execution_count": null,
   "metadata": {},
   "outputs": [],
   "source": []
  },
  {
   "cell_type": "code",
   "execution_count": null,
   "metadata": {},
   "outputs": [],
   "source": [
    "df_draw = df_matched_5p_s3\n",
    "plt, fig = local_plot_zone(df_draw, y='RT')\n",
    "# output(df_draw, plt, fig, 2, '5p_s3')\n",
    "df_draw = df_matched_5p_s6\n",
    "plt, fig = local_plot_zone(df_draw, y='RT')"
   ]
  },
  {
   "cell_type": "code",
   "execution_count": null,
   "metadata": {},
   "outputs": [],
   "source": []
  },
  {
   "cell_type": "code",
   "execution_count": null,
   "metadata": {},
   "outputs": [],
   "source": []
  },
  {
   "cell_type": "code",
   "execution_count": null,
   "metadata": {},
   "outputs": [],
   "source": [
    "# df_skeleton_24217, _ = computational_data_seperation(df3, df3, full_mass=masses[2], ignore_endpoints=True)\n",
    "comm_df\n",
    "plotly_zone(df_skeleton_24217)"
   ]
  },
  {
   "cell_type": "code",
   "execution_count": null,
   "metadata": {},
   "outputs": [],
   "source": [
    "idxs = list()\n",
    "# create our callback function\n",
    "def on_selection(trace, points, selector):\n",
    "    print('points {}'.format(points.point_inds) )\n",
    "    idxs.extend(points.point_inds)\n",
    "\n",
    "def on_click(trace, points, selector):\n",
    "#     print('points {}'.format(points.point_inds) )\n",
    "    idxs.extend(points.point_inds)\n",
    "\n",
    "df_sample = df_skeleton_24217\n",
    "f = zone_selection(df_sample, on_selection=on_selection, on_click=on_click)\n",
    "f"
   ]
  },
  {
   "cell_type": "code",
   "execution_count": null,
   "metadata": {},
   "outputs": [],
   "source": [
    "df_chosen = df_sample.iloc[idxs]\n",
    "df_chosen.shape"
   ]
  },
  {
   "cell_type": "code",
   "execution_count": null,
   "metadata": {},
   "outputs": [],
   "source": [
    "df_chosen = df_chosen.sort_values('Mass')\n",
    "plotly_zone(df_chosen)\n",
    "df_chosen"
   ]
  },
  {
   "cell_type": "code",
   "execution_count": null,
   "metadata": {},
   "outputs": [],
   "source": []
  }
 ],
 "metadata": {
  "kernelspec": {
   "display_name": "Python 3",
   "language": "python",
   "name": "python3"
  },
  "language_info": {
   "codemirror_mode": {
    "name": "ipython",
    "version": 3
   },
   "file_extension": ".py",
   "mimetype": "text/x-python",
   "name": "python",
   "nbconvert_exporter": "python",
   "pygments_lexer": "ipython3",
   "version": "3.7.3"
  }
 },
 "nbformat": 4,
 "nbformat_minor": 4
}
