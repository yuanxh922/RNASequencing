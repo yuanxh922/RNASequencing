{
 "cells": [
  {
   "cell_type": "code",
   "execution_count": null,
   "metadata": {},
   "outputs": [],
   "source": [
    "import pandas as pd\n",
    "import numpy as np\n",
    "import matplotlib\n",
    "import plotly.express as px"
   ]
  },
  {
   "cell_type": "code",
   "execution_count": null,
   "metadata": {},
   "outputs": [],
   "source": [
    "%run ../../modules/utils.ipynb\n",
    "%run ../../modules/cds.ipynb\n",
    "%run ../../modules/preprocessing.ipynb"
   ]
  },
  {
   "cell_type": "code",
   "execution_count": null,
   "metadata": {},
   "outputs": [],
   "source": [
    "df3 = pd.read_excel('/Users/bryan/Documents/BioPharmaFinder/BaoLab/FirstBatch/Excels/S2to5combined_20ul_9min.xlsx')\n",
    "df6 = pd.read_excel('/Users/bryan/Documents/BioPharmaFinder/BaoLab/FirstBatch/Excels/S6to10combined_20ul_9min.xlsx')\n",
    "df3 = thermo_df(df3)\n",
    "df6 = thermo_df(df6)\n",
    "df3.shape, df6.shape"
   ]
  },
  {
   "cell_type": "code",
   "execution_count": null,
   "metadata": {},
   "outputs": [],
   "source": [
    "df2 = pd.read_excel('/Users/bryan/Documents/BioPharmaFinder/BaoLab/FirstBatch/Excels/S2to5combined_20ul_40min.xlsx')\n",
    "df7 = pd.read_excel('/Users/bryan/Documents/BioPharmaFinder/BaoLab/FirstBatch/Excels/S6to10combined_20ul_40min.xlsx')\n",
    "df2 = thermo_df(df2)\n",
    "df7 = thermo_df(df7)\n",
    "df2.shape, df7.shape"
   ]
  },
  {
   "cell_type": "code",
   "execution_count": null,
   "metadata": {},
   "outputs": [],
   "source": [
    "df2_25k = df2[(df2.Mass > 24000) & (df2.Mass < 24500)]\n",
    "plotly_zone(df2_25k, y='Vol')"
   ]
  },
  {
   "cell_type": "code",
   "execution_count": null,
   "metadata": {},
   "outputs": [],
   "source": [
    "df7_25k = df7[(df7.Mass > 24000) & (df7.Mass < 25000)]\n",
    "plotly_zone(df7_25k, y='Vol')"
   ]
  },
  {
   "cell_type": "code",
   "execution_count": null,
   "metadata": {},
   "outputs": [],
   "source": [
    "df2_big = df2[df2.Mass>22000].sort_values('Vol', ascending=False)[:20][['Mass', 'Vol', 'RT']]\n",
    "df2_big # 2"
   ]
  },
  {
   "cell_type": "code",
   "execution_count": null,
   "metadata": {},
   "outputs": [],
   "source": [
    "df7_big = df7[df7.Mass>22000].sort_values('Vol', ascending=False)[:10][['Mass', 'Vol', 'RT']]\n",
    "df7_big # 0, "
   ]
  },
  {
   "cell_type": "code",
   "execution_count": null,
   "metadata": {},
   "outputs": [],
   "source": [
    "\n",
    "AminoAcid = 128.94\n",
    "def handle_methyl(df, intact_mass_a, intact_mass_b):\n",
    "    \"\"\" Given two intact Masses with Methyl difference, return ladders for both Masses\n",
    "    \"\"\"\n",
    "    df_ms_1, _ = computational_data_seperation(df, df, full_mass=intact_mass_a, ignore_endpoints=True)\n",
    "    df_ms_2, _ = computational_data_seperation(df, df, full_mass=intact_mass_b, ignore_endpoints=True)\n",
    "    df_comm = df_ms_1[df_ms_1.Mass.isin(df_ms_2.Mass)]\n",
    "#     plotly_zone(df_comm, title='Common Dots')\n",
    "    df_ms_2_tmp = df_ms_2.copy()\n",
    "    df_ms_2_tmp.Mass -= M\n",
    "    df_comm_pre_methyl = match_dfs(df_ms_2_tmp, df_ms_1)\n",
    "    \n",
    "    df_ms_1_tmp = df_ms_1.copy()\n",
    "    df_ms_1_tmp.Mass += M\n",
    "    df_comm_post_methyl = match_dfs(df_ms_1_tmp, df_ms_2)\n",
    "\n",
    "    df_A = pd.concat([df_comm, df_comm_pre_methyl])\n",
    "#     plotly_zones(df_comm, df_comm_pre_methyl, title='Pre Methyl')\n",
    "    df_B = pd.concat([df_comm, df_comm_post_methyl])\n",
    "#     plotly_zones(df_comm, df_comm_post_methyl, title='Post Methyl')\n",
    "\n",
    "    return df_A, df_B"
   ]
  },
  {
   "cell_type": "code",
   "execution_count": null,
   "metadata": {},
   "outputs": [],
   "source": [
    "def comm_dots(df1, df2, intact_mass):\n",
    "    df_ms_1, _ = computational_data_seperation(df1, df1, full_mass=intact_mass, ignore_endpoints=True)\n",
    "    df_ms_2, _ = computational_data_seperation(df2, df2, full_mass=intact_mass, ignore_endpoints=True)\n",
    "    df_comm = match_dfs(df_ms_2, df_ms_1)\n",
    "    return df_comm"
   ]
  },
  {
   "cell_type": "code",
   "execution_count": null,
   "metadata": {},
   "outputs": [],
   "source": [
    "\n",
    "masses = [24189.23, 24203.24, 24217.27, 24231.25]"
   ]
  },
  {
   "cell_type": "code",
   "execution_count": null,
   "metadata": {},
   "outputs": [],
   "source": [
    "# common dots for methyled intact mass pairs\n",
    "# masses = [24288.17982, 24302.1913, 24316.12684, 24330.1247, 24344.13365]\n",
    "# masses = [24189.22295, 24203.25458, 24245.22615]\n",
    "df2_A, df2_B = handle_methyl(df2, masses[0], masses[1])\n",
    "df7_A, df7_B = handle_methyl(df7, masses[0], masses[1])\n",
    "df2_A.shape, df2_B.shape, df7_A.shape, df7_B.shape"
   ]
  },
  {
   "cell_type": "code",
   "execution_count": null,
   "metadata": {},
   "outputs": [],
   "source": [
    "df27_A, df27_B = handle_methyl(df_27, masses[0], masses[1])\n",
    "df27_A.shape, df27_B.shape"
   ]
  },
  {
   "cell_type": "code",
   "execution_count": null,
   "metadata": {},
   "outputs": [],
   "source": [
    "df_A = match_dfs(df7_A, df2_A)\n",
    "plotly_zone(df_A)\n",
    "df_B = match_dfs(df7_B, df2_B)\n",
    "plotly_zone(df_B)\n",
    "plotly_zones(df_A, df_B)"
   ]
  },
  {
   "cell_type": "code",
   "execution_count": null,
   "metadata": {},
   "outputs": [],
   "source": [
    "df_mass2 = comm_dots(df2, df7, masses[0])\n",
    "plotly_zone(df_mass2)"
   ]
  },
  {
   "cell_type": "code",
   "execution_count": null,
   "metadata": {},
   "outputs": [],
   "source": [
    "df_mass7 = comm_dots(df7, df2, masses[0])\n",
    "plotly_zone(df_mass7)"
   ]
  },
  {
   "cell_type": "code",
   "execution_count": null,
   "metadata": {},
   "outputs": [],
   "source": [
    "idxs = list()\n",
    "# create our callback function\n",
    "def on_selection(trace, points, selector):\n",
    "    print('points {}'.format(points.point_inds) )\n",
    "    idxs.extend(points.point_inds)\n",
    "\n",
    "def on_click(trace, points, selector):\n",
    "#     print('points {}'.format(points.point_inds) )\n",
    "    idxs.extend(points.point_inds)\n",
    "\n",
    "df_sample = df_mass2\n",
    "f = zone_selection(df_sample, on_selection=on_selection, on_click=on_click)\n",
    "f"
   ]
  },
  {
   "cell_type": "code",
   "execution_count": null,
   "metadata": {},
   "outputs": [],
   "source": [
    "df_chosen = df_sample.iloc[idxs]\n",
    "df_zone = df_sample.drop(df_chosen.index)\n",
    "df_zone.sort_values('Mass')"
   ]
  },
  {
   "cell_type": "code",
   "execution_count": null,
   "metadata": {},
   "outputs": [],
   "source": [
    "df_chosen.shape, df_zone.shape\n",
    "df_a = df_zone.copy()\n",
    "df_b = df_chosen.copy()\n",
    "df_a['is5p'] = True\n",
    "df_b['is5p'] = False\n",
    "df_merge = pd.concat([df_a, df_b])\n",
    "df_merge.to_excel('/Users/bryan/Documents/BioPharmaFinder/Draw/SourceGlu/ladders_split_s3_24189.xlsx')"
   ]
  },
  {
   "cell_type": "code",
   "execution_count": null,
   "metadata": {},
   "outputs": [],
   "source": [
    "df_merge = pd.read_excel('/Users/bryan/Documents/BioPharmaFinder/Draw/SourceGlu/ladders_split_s3_24189.xlsx')\n",
    "df_merge.head()"
   ]
  },
  {
   "cell_type": "code",
   "execution_count": null,
   "metadata": {},
   "outputs": [],
   "source": [
    "plotly_zones(df_merge[df_merge.is5p==True], df_merge[df_merge.is5p==False])"
   ]
  },
  {
   "cell_type": "code",
   "execution_count": null,
   "metadata": {},
   "outputs": [],
   "source": [
    "df_src = df7\n",
    "df_end_dot = df_src[(df_src.Mass>masses[0]-0.1) & (df_src.Mass<masses[0]+0.1)]\n",
    "df_gap_dots = find_gap_dots(df_src, df_merge[df_merge.is5p==True], df_end_dot, orientation=5)"
   ]
  },
  {
   "cell_type": "code",
   "execution_count": null,
   "metadata": {},
   "outputs": [],
   "source": [
    "df_zone = df_merge[df_merge.is5p==True]\n",
    "plotly_zones(df_zone, df_gap_dots)\n",
    "# plt.savefig('/Users/bryan/Documents/BioPharmaFinder/Draw/SourceGlu/masssum_s3_24189_5p.svg', dpi=300, transparent=transparent)"
   ]
  },
  {
   "cell_type": "code",
   "execution_count": null,
   "metadata": {},
   "outputs": [],
   "source": [
    "df_a = df_zone.copy()\n",
    "df_b = df_gap_dots.copy()\n",
    "df_a['isSkeleton'] = True\n",
    "df_b['isSkeleton'] = False\n",
    "df_merge = pd.concat([df_a, df_b])\n",
    "df_merge.to_excel('/Users/bryan/Documents/BioPharmaFinder/Draw/SourceGlu/masssum_s6_24189_5p.xlsx')\n",
    "\n",
    "group = '24189'\n",
    "full_mass = masses[0]\n",
    "bcr = base_calling_random(df_merge, silence=True)\n",
    "plot_basecalling(*bcr, annotate=False)\n",
    "df_seats = process_mass_base_seats(df_merge, bcr[1], full_mass=full_mass)\n",
    "df_seats.to_excel('/Users/bryan/Documents/BioPharmaFinder/Draw/SourceGlu/seats_s6_24189_5p.xlsx')"
   ]
  },
  {
   "cell_type": "code",
   "execution_count": null,
   "metadata": {},
   "outputs": [],
   "source": []
  },
  {
   "cell_type": "code",
   "execution_count": null,
   "metadata": {},
   "outputs": [],
   "source": []
  },
  {
   "cell_type": "code",
   "execution_count": null,
   "metadata": {},
   "outputs": [],
   "source": []
  },
  {
   "cell_type": "code",
   "execution_count": null,
   "metadata": {},
   "outputs": [],
   "source": []
  },
  {
   "cell_type": "code",
   "execution_count": null,
   "metadata": {},
   "outputs": [],
   "source": [
    "bcr = base_calling_random(df_zone, silence=True)\n",
    "plt, _ = plot_basecalling(*bcr)\n",
    "plt.scatter(df_zone.Mass, df_zone.RT)"
   ]
  },
  {
   "cell_type": "code",
   "execution_count": null,
   "metadata": {},
   "outputs": [],
   "source": [
    "# df_27 = pd.concat([df2, df7]).drop_duplicates()\n",
    "df_27 = match_dfs(df7, df2)"
   ]
  },
  {
   "cell_type": "code",
   "execution_count": null,
   "metadata": {},
   "outputs": [],
   "source": [
    "df_skeletons = list()\n",
    "for idx in range(len(masses)):\n",
    "    df_skeleton, _ = computational_data_seperation(df_27, df_27, full_mass=masses[idx], ignore_endpoints=True)\n",
    "    df_skeletons.append(df_skeleton)"
   ]
  },
  {
   "cell_type": "code",
   "execution_count": null,
   "metadata": {},
   "outputs": [],
   "source": [
    "df_skeleton_24217, _ = computational_data_seperation(df7, df7, full_mass=masses[2], ignore_endpoints=True)\n",
    "plotly_zone(df_skeleton_24217)"
   ]
  },
  {
   "cell_type": "code",
   "execution_count": null,
   "metadata": {},
   "outputs": [],
   "source": [
    "idxs = list()\n",
    "# create our callback function\n",
    "def on_selection(trace, points, selector):\n",
    "    print('points {}'.format(points.point_inds) )\n",
    "    idxs.extend(points.point_inds)\n",
    "\n",
    "def on_click(trace, points, selector):\n",
    "#     print('points {}'.format(points.point_inds) )\n",
    "    idxs.extend(points.point_inds)\n",
    "\n",
    "df_sample = df_skeleton_24217\n",
    "f = zone_selection(df_sample, on_selection=on_selection, on_click=on_click)\n",
    "f"
   ]
  },
  {
   "cell_type": "code",
   "execution_count": null,
   "metadata": {},
   "outputs": [],
   "source": [
    "df_chosen = df_sample.iloc[idxs]\n",
    "df_chosen.shape"
   ]
  },
  {
   "cell_type": "code",
   "execution_count": null,
   "metadata": {},
   "outputs": [],
   "source": [
    "df_mid_3p = df_chosen.copy()\n",
    "df_mid_3p.sort_values('Mass')"
   ]
  },
  {
   "cell_type": "code",
   "execution_count": null,
   "metadata": {},
   "outputs": [],
   "source": [
    "df_mid = df_chosen.copy()\n",
    "df_mid_core = filter_dots_in_mid_gap(df_mid)\n",
    "df_mid_core.shape"
   ]
  },
  {
   "cell_type": "code",
   "execution_count": null,
   "metadata": {},
   "outputs": [],
   "source": [
    "plotly_zones(df_mid, df_mid_core)\n",
    "plotly_zone(df_mid_core)"
   ]
  },
  {
   "cell_type": "code",
   "execution_count": null,
   "metadata": {},
   "outputs": [],
   "source": [
    "components(5541.719 - 4571.528)"
   ]
  },
  {
   "cell_type": "code",
   "execution_count": null,
   "metadata": {},
   "outputs": [],
   "source": [
    "plotly_multi_zones(df_skeletons[2:3])\n",
    "masses[2]"
   ]
  },
  {
   "cell_type": "code",
   "execution_count": null,
   "metadata": {},
   "outputs": [],
   "source": [
    "# common dots in sample2 and sample7\n",
    "masses = [24189.23, 24203.24, 24217.27, 24231.25]\n",
    "# masses = [24288.17982, 24302.1913, 24316.12684, 24330.1247, 24344.13365]\n",
    "# masses = [24189.22295, 24203.25458, 24245.22615]\n",
    "\n",
    "AminoAcid = 128.94\n",
    "df_comms = list()\n",
    "for mass in masses:\n",
    "    df_ms_1, _ = computational_data_seperation(df2, df2, full_mass=mass, ignore_endpoints=True)\n",
    "    df_ms_2, _ = computational_data_seperation(df7, df7, full_mass=mass, ignore_endpoints=True)\n",
    "    df_comm = match_dfs(df_ms_1, df_ms_2)\n",
    "    df_comms.append(df_comm)\n",
    "#     plotly_zone(df_ms_1)\n",
    "#     plotly_zone(df_ms_2)\n",
    "    plotly_zone(df_comm)\n",
    "    "
   ]
  },
  {
   "cell_type": "markdown",
   "metadata": {},
   "source": [
    "# 24189 Sample2"
   ]
  },
  {
   "cell_type": "code",
   "execution_count": null,
   "metadata": {},
   "outputs": [],
   "source": [
    "plotly_zone(df_comms[0])"
   ]
  },
  {
   "cell_type": "code",
   "execution_count": null,
   "metadata": {},
   "outputs": [],
   "source": [
    "idxs = list()\n",
    "# create our callback function\n",
    "def on_selection(trace, points, selector):\n",
    "    print('points {}'.format(points.point_inds) )\n",
    "    idxs.extend(points.point_inds)\n",
    "\n",
    "def on_click(trace, points, selector):\n",
    "#     print('points {}'.format(points.point_inds) )\n",
    "    idxs.extend(points.point_inds)\n",
    "\n",
    "df_sample = df_comms[0]\n",
    "f = zone_selection(df_sample, on_selection=on_selection, on_click=on_click)\n",
    "f"
   ]
  },
  {
   "cell_type": "code",
   "execution_count": null,
   "metadata": {},
   "outputs": [],
   "source": [
    "df_chosen = df_sample.iloc[idxs]\n",
    "df_chosen.shape"
   ]
  },
  {
   "cell_type": "code",
   "execution_count": null,
   "metadata": {},
   "outputs": [],
   "source": [
    "df_24189 = df_sample.drop(df_chosen.index).copy()\n",
    "df_24189.shape"
   ]
  },
  {
   "cell_type": "code",
   "execution_count": null,
   "metadata": {},
   "outputs": [],
   "source": [
    "df_sample = df_comms[0]\n",
    "df_24189_3p = df_sample.drop(df_24189.index)\n",
    "plotly_zones(df_24189, df_24189_3p)"
   ]
  },
  {
   "cell_type": "code",
   "execution_count": null,
   "metadata": {},
   "outputs": [],
   "source": [
    "df_24189['is5p'] = True\n",
    "df_24189_3p['is5p'] = False\n",
    "df_merge_24189 = pd.concat([df_24189, df_24189_3p])"
   ]
  },
  {
   "cell_type": "code",
   "execution_count": null,
   "metadata": {},
   "outputs": [],
   "source": [
    "# df_merge_24189.to_excel('/Users/bryan/Documents/BioPharmaFinder/BaoLab/MassSum/GraphsOutput/24189')\n",
    "plt, fig = local_plot_zones(df_24189, df_24189_3p)\n",
    "output(df_merge_24189, plt, fig, 1, 'mass_sum')"
   ]
  },
  {
   "cell_type": "code",
   "execution_count": null,
   "metadata": {},
   "outputs": [],
   "source": [
    "plotly_zone(df_24189)"
   ]
  },
  {
   "cell_type": "code",
   "execution_count": null,
   "metadata": {},
   "outputs": [],
   "source": [
    "full_mass = masses[0]\n",
    "fullmass_dot = df2[(df2.Mass>full_mass-0.1) & (df2.Mass<full_mass+0.1)]\n",
    "df_gap_dots = find_gap_dots(df2, df_24189, fullmass_dot, orientation=5)\n",
    "df_gap_dots.shape"
   ]
  },
  {
   "cell_type": "code",
   "execution_count": null,
   "metadata": {},
   "outputs": [],
   "source": [
    "plotly_zones(df_24189, df_gap_dots)\n",
    "# plt = plot_zones(df_skeleton, df_gap_dots)\n",
    "# plt.savefig('/Users/bryan/Documents/BioPharmaFinder/ZhangLab/MassSum/II/Phe_MFE0724/{}/{}_5p.png'.format(group, int(full_mass)), transparent=True)"
   ]
  },
  {
   "cell_type": "code",
   "execution_count": null,
   "metadata": {},
   "outputs": [],
   "source": [
    "df_merge = pd.concat([df_24189, df_gap_dots]).drop_duplicates()\n"
   ]
  },
  {
   "cell_type": "code",
   "execution_count": null,
   "metadata": {},
   "outputs": [],
   "source": [
    "idxs = list()\n",
    "# create our callback function\n",
    "def on_selection(trace, points, selector):\n",
    "    print('points {}'.format(points.point_inds) )\n",
    "    idxs.extend(points.point_inds)\n",
    "\n",
    "def on_click(trace, points, selector):\n",
    "#     print('points {}'.format(points.point_inds) )\n",
    "    idxs.extend(points.point_inds)\n",
    "\n",
    "df_sample = df_merge\n",
    "f = zone_selection(df_sample, on_selection=on_selection, on_click=on_click)\n",
    "f"
   ]
  },
  {
   "cell_type": "code",
   "execution_count": null,
   "metadata": {},
   "outputs": [],
   "source": [
    "df_chosen = df_sample.iloc[idxs]\n",
    "df_chosen.shape"
   ]
  },
  {
   "cell_type": "code",
   "execution_count": null,
   "metadata": {},
   "outputs": [],
   "source": [
    "plotly_zone(df_chosen)"
   ]
  },
  {
   "cell_type": "code",
   "execution_count": null,
   "metadata": {},
   "outputs": [],
   "source": [
    "bcr = base_calling_random(df_chosen, silence=True)\n",
    "plot_basecalling(*bcr, annotate=False)"
   ]
  },
  {
   "cell_type": "code",
   "execution_count": null,
   "metadata": {},
   "outputs": [],
   "source": [
    "group = 'Group_24189'\n",
    "df_seats = process_mass_base_seats(df_merge, bcr[1], full_mass=full_mass)\n",
    "df_seats.to_excel('/Users/bryan/Documents/BioPharmaFinder/BaoLab/MassSum/FirstBatch/{}/seats_{}_5p.xlsx'.format(group, int(full_mass)))\n",
    "df_merge.to_excel('/Users/bryan/Documents/BioPharmaFinder/BaoLab/MassSum/FirstBatch/{}/{}_5p.xlsx'.format(group, int(full_mass)))"
   ]
  },
  {
   "cell_type": "code",
   "execution_count": null,
   "metadata": {},
   "outputs": [],
   "source": []
  },
  {
   "cell_type": "code",
   "execution_count": null,
   "metadata": {},
   "outputs": [],
   "source": []
  },
  {
   "cell_type": "markdown",
   "metadata": {},
   "source": [
    "# 24189 Sample7"
   ]
  },
  {
   "cell_type": "code",
   "execution_count": null,
   "metadata": {},
   "outputs": [],
   "source": [
    "%run ../../modules/utils.ipynb"
   ]
  },
  {
   "cell_type": "code",
   "execution_count": null,
   "metadata": {},
   "outputs": [],
   "source": [
    "full_mass = masses[0]\n",
    "fullmass_dot_7 = df7[(df7.Mass>full_mass-0.1) & (df7.Mass<full_mass+0.1)]\n",
    "df_gap_dots_7 = find_gap_dots(df7, df_24189, fullmass_dot, orientation=5)\n",
    "df_gap_dots_7.shape"
   ]
  },
  {
   "cell_type": "code",
   "execution_count": null,
   "metadata": {},
   "outputs": [],
   "source": []
  },
  {
   "cell_type": "code",
   "execution_count": null,
   "metadata": {},
   "outputs": [],
   "source": [
    "df_mid = dots_in_mid_gap(df7, 13555.735066273, 14205.8059294037)\n",
    "# df_mid = df_mid.sort_values('Mass', ascending=False)\n",
    "df_mid_core = filter_dots_in_mid_gap(df_mid)\n",
    "df_mid_core"
   ]
  },
  {
   "cell_type": "code",
   "execution_count": null,
   "metadata": {},
   "outputs": [],
   "source": [
    "plotly_zones(df_24189, df_gap_dots_7[df_gap_dots_7.RT < 30])"
   ]
  },
  {
   "cell_type": "code",
   "execution_count": null,
   "metadata": {},
   "outputs": [],
   "source": [
    "df_24189.head()"
   ]
  },
  {
   "cell_type": "code",
   "execution_count": null,
   "metadata": {},
   "outputs": [],
   "source": [
    "df_m = pd.concat([df_24189[['Mass', 'RT', 'Vol']], df_gap_dots_7[df_gap_dots_7.RT < 30]]).drop_duplicates()\n",
    "bcr = base_calling_random(df_m, silence=True)\n",
    "df_seats = process_mass_base_seats(df_m, bcr[1], full_mass=masses[0])\n",
    "df_seats.to_excel('/Users/bryan/Documents/BioPharmaFinder/BaoLab/MassSum/GraphsOutput/seats_{}_5p_core.xlsx'.format(int(full_mass)))"
   ]
  },
  {
   "cell_type": "code",
   "execution_count": null,
   "metadata": {},
   "outputs": [],
   "source": [
    "# df_mid = dots_in_mid_gap(df7, 12600.63, 13555.74)\n",
    "df_mid = dots_in_mid_gap(df7, 5912.7, 8489.055)\n",
    "df_mid = df_mid.sort_values('Mass', ascending=False)\n",
    "df_mid_core = filter_dots_in_mid_gap(df_mid)\n",
    "df_mid_core"
   ]
  },
  {
   "cell_type": "code",
   "execution_count": null,
   "metadata": {},
   "outputs": [],
   "source": [
    "df_mid"
   ]
  },
  {
   "cell_type": "code",
   "execution_count": null,
   "metadata": {},
   "outputs": [],
   "source": [
    "df_x = df_mid.Mass.copy()\n",
    "df_y = df_mid.Mass.copy()\n",
    "np_x = np.array(df_x)\n",
    "np_y = np.array(df_y)"
   ]
  },
  {
   "cell_type": "code",
   "execution_count": null,
   "metadata": {},
   "outputs": [],
   "source": [
    "np_xy = np_x[:, np.newaxis] - np_y\n",
    "np_xy"
   ]
  },
  {
   "cell_type": "code",
   "execution_count": null,
   "metadata": {},
   "outputs": [],
   "source": [
    "\n",
    "def soft_connected(mass_diff):\n",
    "    if mass_diff <= 0:\n",
    "        return False\n",
    "    df = components(mass_diff)\n",
    "    return not df.empty\n",
    "comp_vec = np.vectorize(soft_connected)"
   ]
  },
  {
   "cell_type": "code",
   "execution_count": null,
   "metadata": {},
   "outputs": [],
   "source": [
    "np_conns = comp_vec(np_xy)\n",
    "df_conns = pd.DataFrame(np_conns)\n",
    "df_conns"
   ]
  },
  {
   "cell_type": "code",
   "execution_count": null,
   "metadata": {},
   "outputs": [],
   "source": [
    "idx_pairs = list(df_conns[df_conns == True].stack().index)\n",
    "print(idx_pairs)\n",
    "# df_mid.iloc[idx_pairs[0][0]], df_mid.iloc[idx_pairs[0][1]]"
   ]
  },
  {
   "cell_type": "code",
   "execution_count": null,
   "metadata": {},
   "outputs": [],
   "source": [
    "def zip_list(G):\n",
    "    node_count_list = [(node, len(G.edges(node))) for node in G.nodes]\n",
    "    node_count_list.sort(key=lambda x: x[1])\n",
    "    return node_count_list"
   ]
  },
  {
   "cell_type": "code",
   "execution_count": null,
   "metadata": {},
   "outputs": [],
   "source": [
    "import networkx as nx\n",
    "G = nx.Graph()\n",
    "for pair in idx_pairs:\n",
    "    a = df_mid.iloc[pair[0]].Mass\n",
    "    b = df_mid.iloc[pair[1]].Mass\n",
    "#     if pair[0] == 1:\n",
    "#         continue\n",
    "    G.add_edge(a, b)"
   ]
  },
  {
   "cell_type": "code",
   "execution_count": null,
   "metadata": {},
   "outputs": [],
   "source": [
    "\n",
    "while True:\n",
    "    l = zip_list(G)\n",
    "    print(l)\n",
    "    max_edges = l[-1][1]\n",
    "    if l[0][1] >= max_edges:\n",
    "        break\n",
    "    G.remove_node(l[0][0])\n",
    "l = zip_list(G)\n",
    "print('final: ', l)"
   ]
  },
  {
   "cell_type": "code",
   "execution_count": null,
   "metadata": {},
   "outputs": [],
   "source": [
    "def soft_connected(mass_diff):\n",
    "    if mass_diff <= 0:\n",
    "        return False\n",
    "    df = components(mass_diff)\n",
    "    return not df.empty\n",
    "comp_vec = np.vectorize(soft_connected)\n",
    "\n",
    "def zip_list(G):\n",
    "    node_count_list = [(node, len(G.edges(node))) for node in G.nodes]\n",
    "    node_count_list.sort(key=lambda x: x[1])\n",
    "    return node_count_list\n",
    "\n",
    "import networkx as nx\n",
    "def filter_dots_in_mid_gap(df):\n",
    "    df_x = df.Mass.copy()\n",
    "    df_y = df.Mass.copy()\n",
    "    np_x = np.array(df_x)\n",
    "    np_y = np.array(df_y)\n",
    "    np_xy = np_x[:, np.newaxis] - np_y\n",
    "#     np_xy\n",
    "\n",
    "    np_conns = comp_vec(np_xy)\n",
    "    df_conns = pd.DataFrame(np_conns)\n",
    "#     df_conns\n",
    "\n",
    "    idx_pairs = list(df_conns[df_conns == True].stack().index)\n",
    "#     print(idx_pairs)\n",
    "    # df_mid.iloc[idx_pairs[0][0]], df_mid.iloc[idx_pairs[0][1]]\n",
    "\n",
    "    G = nx.Graph()\n",
    "    for pair in idx_pairs:\n",
    "        a = df_mid.iloc[pair[0]].Mass\n",
    "        b = df_mid.iloc[pair[1]].Mass\n",
    "    #     if pair[0] == 1:\n",
    "    #         continue\n",
    "        G.add_edge(a, b)\n",
    "\n",
    "    while True:\n",
    "        l = zip_list(G)\n",
    "#         print(l)\n",
    "        max_edges = l[-1][1]\n",
    "        if l[0][1] >= max_edges:\n",
    "            break\n",
    "        G.remove_node(l[0][0])\n",
    "    l = zip_list(G)\n",
    "#     print('final: ', l)\n",
    "    masses = [node[0] for node in l]\n",
    "    print('reserved masses: ', masses)\n",
    "    return df[df.Mass.isin(masses)]"
   ]
  },
  {
   "cell_type": "code",
   "execution_count": null,
   "metadata": {},
   "outputs": [],
   "source": [
    "%run ../../modules/utils.ipynb\n",
    "df_mid_core = filter_dots_in_mid_gap(df_mid)\n",
    "df_mid_core"
   ]
  },
  {
   "cell_type": "code",
   "execution_count": null,
   "metadata": {},
   "outputs": [],
   "source": [
    "# scc = nx.kosaraju_strongly_connected_components(G)\n",
    "# nx.is_strongly_connected(G)\n",
    "scc = nx.connected_components(G)"
   ]
  },
  {
   "cell_type": "code",
   "execution_count": null,
   "metadata": {},
   "outputs": [],
   "source": [
    "list(scc)"
   ]
  },
  {
   "cell_type": "code",
   "execution_count": null,
   "metadata": {},
   "outputs": [],
   "source": []
  },
  {
   "cell_type": "code",
   "execution_count": null,
   "metadata": {},
   "outputs": [],
   "source": []
  },
  {
   "cell_type": "code",
   "execution_count": null,
   "metadata": {},
   "outputs": [],
   "source": [
    "df_mid"
   ]
  },
  {
   "cell_type": "code",
   "execution_count": null,
   "metadata": {},
   "outputs": [],
   "source": [
    "df_comp = components(13555.74 - 12600.63)\n",
    "not df_comp.empty"
   ]
  },
  {
   "cell_type": "code",
   "execution_count": null,
   "metadata": {},
   "outputs": [],
   "source": []
  },
  {
   "cell_type": "code",
   "execution_count": null,
   "metadata": {},
   "outputs": [],
   "source": [
    "df_a = df_24189.copy()\n",
    "df_b = df_gap_dots_7[df_gap_dots_7.RT < 30].copy()\n",
    "df_a['isSkeleton'] = True\n",
    "df_b['isSkeleton'] = False\n",
    "df_m = pd.concat([df_a, df_b])\n",
    "plt, fig = local_plot_zones(df_a, df_b)\n",
    "output(df_m, plt, fig, 2, 'gap_fill')"
   ]
  },
  {
   "cell_type": "code",
   "execution_count": null,
   "metadata": {},
   "outputs": [],
   "source": [
    "df_m = df_m[['Mass', 'RT', 'Vol']].drop_duplicates()"
   ]
  },
  {
   "cell_type": "code",
   "execution_count": null,
   "metadata": {},
   "outputs": [],
   "source": [
    "%run ../../modules/cds.ipynb\n",
    "full_mass=masses[0]\n",
    "bcr = base_calling_random(df_m, silence=True)\n",
    "df_seats = process_mass_base_seats(df_m, bcr[1], full_mass=masses[0])\n",
    "df_seats.to_excel('/Users/bryan/Documents/BioPharmaFinder/BaoLab/MassSum/GraphsOutput/seats_{}_5p_core.xlsx'.format(int(full_mass)))"
   ]
  },
  {
   "cell_type": "code",
   "execution_count": null,
   "metadata": {},
   "outputs": [],
   "source": [
    "def local_plot_zone(df, trend=False, order=1, y='RT'):\n",
    "    fig = plt.figure(figsize=(8.5, 4))\n",
    "    plt.xlabel('Monoisotopic Mass (Da)', fontname=\"Arial\", fontsize=15, color='black')\n",
    "    if y == 'RT':\n",
    "        plt.ylabel('Retention Time (min)', fontname=\"Arial\", fontsize=15, color='black')\n",
    "    else:\n",
    "        plt.ylabel('Intensity', fontname=\"Arial\", fontsize=15, color='black')\n",
    "    plt.xticks(fontname=\"Arial\", size=13, color='black')\n",
    "    plt.yticks(fontname=\"Arial\", size=13, color='black')\n",
    "    if trend:\n",
    "        sns.regplot(df.Mass, df[y], order=order)\n",
    "    else:\n",
    "        plt.scatter(df.Mass, df[y])\n",
    "    \n",
    "    return plt, fig\n",
    "\n",
    "def local_plot_zones(df3p, df5p, trend=False, y='RT'):\n",
    "    fig = plt.figure(figsize=(8.5, 4))\n",
    "    plt.xlabel('Monoisotopic Mass (Da)', fontname=\"Arial\", fontsize=15, color='black')\n",
    "    plt.ylabel('Retention Time (min)', fontname=\"Arial\", fontsize=15, color='black')\n",
    "    plt.xticks(fontname=\"Arial\", size=13, color='black')\n",
    "    plt.yticks(fontname=\"Arial\", size=13, color='black')\n",
    "    if trend:\n",
    "        sns.regplot(df3p.Mass, df3p[y])\n",
    "        sns.regplot(df5p.Mass, df5p[y], order=2)\n",
    "    else:\n",
    "        plt.scatter(df3p.Mass, df3p[y])\n",
    "        plt.scatter(df5p.Mass, df5p[y])\n",
    "    \n",
    "    return plt, fig\n",
    "\n",
    "def output(df, plt, fig, idx, svg_name):\n",
    "    fig.tight_layout()\n",
    "    plt.savefig(f'/Users/bryan/Documents/BioPharmaFinder/BaoLab/MassSum/GraphsOutput/Fig{idx}_{svg_name}.svg', dpi=300, transparent=True)\n",
    "    df.to_excel(f'/Users/bryan/Documents/BioPharmaFinder/BaoLab/MassSum/GraphsOutput/S{idx}_{svg_name}.xlsx')"
   ]
  },
  {
   "cell_type": "code",
   "execution_count": null,
   "metadata": {},
   "outputs": [],
   "source": [
    "components(5567-4916)"
   ]
  },
  {
   "cell_type": "code",
   "execution_count": null,
   "metadata": {},
   "outputs": [],
   "source": [
    "df_merge_7 = pd.concat([df_24189, df_gap_dots_7]).drop_duplicates()"
   ]
  },
  {
   "cell_type": "code",
   "execution_count": null,
   "metadata": {},
   "outputs": [],
   "source": [
    "df_merge_7 = df_merge_7[df_merge_7.RT < 30].copy()"
   ]
  },
  {
   "cell_type": "code",
   "execution_count": null,
   "metadata": {},
   "outputs": [],
   "source": [
    "idxs = list()\n",
    "# create our callback function\n",
    "def on_selection(trace, points, selector):\n",
    "    print('points {}'.format(points.point_inds) )\n",
    "    idxs.extend(points.point_inds)\n",
    "\n",
    "def on_click(trace, points, selector):\n",
    "#     print('points {}'.format(points.point_inds) )\n",
    "    idxs.extend(points.point_inds)\n",
    "\n",
    "df_sample = df_merge_7\n",
    "f = zone_selection(df_sample, on_selection=on_selection, on_click=on_click)\n",
    "f"
   ]
  },
  {
   "cell_type": "code",
   "execution_count": null,
   "metadata": {},
   "outputs": [],
   "source": [
    "df_chosen = df_sample.iloc[idxs]\n",
    "df_chosen.shape"
   ]
  },
  {
   "cell_type": "code",
   "execution_count": null,
   "metadata": {},
   "outputs": [],
   "source": [
    "plotly_zone(df_chosen)"
   ]
  },
  {
   "cell_type": "code",
   "execution_count": null,
   "metadata": {},
   "outputs": [],
   "source": [
    "bcr7 = base_calling_random(df_chosen, silence=True)"
   ]
  },
  {
   "cell_type": "code",
   "execution_count": null,
   "metadata": {},
   "outputs": [],
   "source": [
    "group = 'Group_24189'\n",
    "df_seats = process_mass_base_seats(df_merge_7, bcr7[1], full_mass=full_mass)\n",
    "df_seats.to_excel('/Users/bryan/Documents/BioPharmaFinder/BaoLab/MassSum/FirstBatch/{}_RSV/seats_{}_5p.xlsx'.format(group, int(full_mass)))\n",
    "df_merge.to_excel('/Users/bryan/Documents/BioPharmaFinder/BaoLab/MassSum/FirstBatch/{}_RSV/{}_5p.xlsx'.format(group, int(full_mass)))"
   ]
  },
  {
   "cell_type": "code",
   "execution_count": null,
   "metadata": {},
   "outputs": [],
   "source": []
  },
  {
   "cell_type": "markdown",
   "metadata": {},
   "source": [
    "# 24203 Sample 7"
   ]
  },
  {
   "cell_type": "code",
   "execution_count": null,
   "metadata": {},
   "outputs": [],
   "source": [
    "idxs = list()\n",
    "# create our callback function\n",
    "def on_selection(trace, points, selector):\n",
    "    print('points {}'.format(points.point_inds) )\n",
    "    idxs.extend(points.point_inds)\n",
    "\n",
    "def on_click(trace, points, selector):\n",
    "#     print('points {}'.format(points.point_inds) )\n",
    "    idxs.extend(points.point_inds)\n",
    "\n",
    "df_sample = df_comms[1]\n",
    "f = zone_selection(df_sample, on_selection=on_selection, on_click=on_click)\n",
    "f"
   ]
  },
  {
   "cell_type": "code",
   "execution_count": null,
   "metadata": {},
   "outputs": [],
   "source": [
    "df_comp1 = components(12945.64 - 11661.46)"
   ]
  },
  {
   "cell_type": "code",
   "execution_count": null,
   "metadata": {},
   "outputs": [],
   "source": [
    "12945.64 - (2*G + U + U + 2)"
   ]
  },
  {
   "cell_type": "code",
   "execution_count": null,
   "metadata": {},
   "outputs": [],
   "source": [
    "components(12945.64 - 10682.4)"
   ]
  },
  {
   "cell_type": "code",
   "execution_count": null,
   "metadata": {},
   "outputs": [],
   "source": [
    "components(12945.64 - 11641.4946)"
   ]
  },
  {
   "cell_type": "code",
   "execution_count": null,
   "metadata": {},
   "outputs": [],
   "source": [
    "components(11641.4946 - 10682.4)"
   ]
  },
  {
   "cell_type": "code",
   "execution_count": null,
   "metadata": {},
   "outputs": [],
   "source": [
    "components(12945.64 - 11661.46)"
   ]
  },
  {
   "cell_type": "code",
   "execution_count": null,
   "metadata": {},
   "outputs": [],
   "source": [
    "components(11661.46 - 10682.4)"
   ]
  },
  {
   "cell_type": "code",
   "execution_count": null,
   "metadata": {},
   "outputs": [],
   "source": [
    "df_chosen_24203 = df_sample.iloc[idxs]\n",
    "df_chosen_24203.shape"
   ]
  },
  {
   "cell_type": "code",
   "execution_count": null,
   "metadata": {},
   "outputs": [],
   "source": [
    "df_24203 = df_sample.drop(df_chosen_24203.index).copy()\n",
    "df_24203.shape"
   ]
  },
  {
   "cell_type": "code",
   "execution_count": null,
   "metadata": {},
   "outputs": [],
   "source": [
    "%run ../../modules/preprocessing.ipynb"
   ]
  },
  {
   "cell_type": "code",
   "execution_count": null,
   "metadata": {},
   "outputs": [],
   "source": [
    "df_c = match_dfs(df2, df7)\n",
    "df_c.shape"
   ]
  },
  {
   "cell_type": "code",
   "execution_count": null,
   "metadata": {},
   "outputs": [],
   "source": [
    "plotly_zone(df_c)"
   ]
  },
  {
   "cell_type": "code",
   "execution_count": null,
   "metadata": {},
   "outputs": [],
   "source": [
    "df_c_main = df_c[df_c.Mass > 2900]"
   ]
  },
  {
   "cell_type": "code",
   "execution_count": null,
   "metadata": {},
   "outputs": [],
   "source": [
    "bcr = base_calling_random(df_c_main, silence=True)\n",
    "plot_basecalling(*bcr, annotate=False)\n",
    "len(bcr[1])"
   ]
  },
  {
   "cell_type": "code",
   "execution_count": null,
   "metadata": {},
   "outputs": [],
   "source": [
    "print(len([i for i in bcr[1] if i[2] == 'mnm5s2U']),\n",
    "len([i for i in bcr[1] if i[2] == 'X']),\n",
    "len([i for i in bcr[1] if i[2] == 'T']),\n",
    "len([i for i in bcr[1] if i[2] == 'g']),\n",
    "len([i for i in bcr[1] if i[2] == 's4U']),\n",
    "len([i for i in bcr[1] if i[2] == 'ms2io6A']))"
   ]
  },
  {
   "cell_type": "code",
   "execution_count": null,
   "metadata": {},
   "outputs": [],
   "source": []
  },
  {
   "cell_type": "code",
   "execution_count": null,
   "metadata": {},
   "outputs": [],
   "source": [
    "%run ../../modules/utils.ipynb"
   ]
  },
  {
   "cell_type": "code",
   "execution_count": null,
   "metadata": {},
   "outputs": [],
   "source": [
    "full_mass = masses[1]\n",
    "fullmass_dot_24203 = df7[(df7.Mass>full_mass-0.1) & (df7.Mass<full_mass+0.1)]\n",
    "df_24203_gap_dots = find_gap_dots(df7, df_24203, fullmass_dot_24203, orientation=5, major=True)\n",
    "df_24203_gap_dots.shape"
   ]
  },
  {
   "cell_type": "code",
   "execution_count": null,
   "metadata": {},
   "outputs": [],
   "source": [
    "plotly_zones(df_24203, df_24203_gap_dots)"
   ]
  },
  {
   "cell_type": "code",
   "execution_count": null,
   "metadata": {},
   "outputs": [],
   "source": []
  },
  {
   "cell_type": "code",
   "execution_count": null,
   "metadata": {},
   "outputs": [],
   "source": []
  },
  {
   "cell_type": "code",
   "execution_count": null,
   "metadata": {},
   "outputs": [],
   "source": []
  },
  {
   "cell_type": "code",
   "execution_count": null,
   "metadata": {},
   "outputs": [],
   "source": [
    "dots_in_mid_gap()"
   ]
  },
  {
   "cell_type": "code",
   "execution_count": null,
   "metadata": {},
   "outputs": [],
   "source": [
    "# masses = [24288.17982, 24302.1913, 24316.12684, 24330.1247, 24344.13365] \n",
    "# masses = [24189.22295, 24203.25458, 24245.22615]\n",
    "masses = [24189.23, 24203.24, 24217.27, 24231.25]\n",
    "\n",
    "df_ms_list = list()\n",
    "df_common = pd.DataFrame()\n",
    "for idx in range(1, len(masses)):\n",
    "    df_ms_1, _ = computational_data_seperation(df2, df2, full_mass=masses[idx-1], ignore_endpoints=True)\n",
    "    df_ms_2, _ = computational_data_seperation(df2, df2, full_mass=masses[idx], ignore_endpoints=True)\n",
    "    df_comm = df_ms_1[df_ms_1.Mass.isin(df_ms_2.Mass)]\n",
    "    plotly_zone(df_comm)"
   ]
  },
  {
   "cell_type": "code",
   "execution_count": null,
   "metadata": {},
   "outputs": [],
   "source": [
    "# full_mass = df_big.iloc[0].Mass\n",
    "# full_mass = 23277.1 #23281.1 #24206.2 #24330.2261\n",
    "# full_mass = 23595.15 #24234.26\n",
    "full_mass = 24203.26029 #24189.22863 #24330.1247 #24201.18331 #24330.1247 #24302.19227 #23057.09\n",
    "print(full_mass)\n",
    "df_ms_3, df_ms_5  = computational_data_seperation(df7, df7, full_mass=full_mass, ignore_endpoints=True)\n",
    "# df_ms.shape\n",
    "plotly_zones(df_ms_3, df_ms_5)"
   ]
  },
  {
   "cell_type": "code",
   "execution_count": null,
   "metadata": {},
   "outputs": [],
   "source": [
    "df_ms_bcr, mass_pairs = base_calling_random(df_ms)\n",
    "df_ms_bcr.shape, len(mass_pairs)\n",
    "plot_basecalling(df_ms_bcr, mass_pairs, annotate=False)"
   ]
  },
  {
   "cell_type": "code",
   "execution_count": null,
   "metadata": {},
   "outputs": [],
   "source": [
    "mass_3p = [pair[0] for pair in mass_pairs]\n",
    "mass_5p = [pair[1] for pair in mass_pairs]\n",
    "mass_3p5p = set(mass_3p) & set(mass_3p)\n",
    "mass_3ponly = set(mass_3p) - set(mass_5p)\n",
    "mass_5ponly = set(mass_5p) - set(mass_3p)\n",
    "mass_else = mass_3ponly | mass_5ponly\n",
    "\n",
    "df_mass_3p5p = df_ms_bcr[df_ms_bcr.Mass.isin(mass_3p5p)]\n",
    "# plot_zone(df_mass_3p5p)\n",
    "# plot_zone(df_ms_bcr[df_ms_bcr.Mass.isin(mass_else)])\n",
    "plt.figure(figsize=(12, 9))\n",
    "plt.xlabel('Mass')\n",
    "plt.ylabel('RT')\n",
    "plt.scatter(df_mass_3p5p.Mass, df_mass_3p5p.RT)\n",
    "len(mass_3p5p), len(mass_else)\n",
    "# plt.savefig('/Users/bryan/Documents/BioPharmaFinder/BaoLab/FirstBatch/Excels/S6to10combined_20ul_40min_skeleton_1.png', transparent=True)"
   ]
  },
  {
   "cell_type": "markdown",
   "metadata": {},
   "source": [
    "#    Rank to get the full mass value"
   ]
  },
  {
   "cell_type": "code",
   "execution_count": null,
   "metadata": {},
   "outputs": [],
   "source": [
    "df_glu = df7[df7.Mass > 1500]"
   ]
  },
  {
   "cell_type": "code",
   "execution_count": null,
   "metadata": {},
   "outputs": [],
   "source": [
    "df_glu = df2[df2.Mass > 2329]"
   ]
  },
  {
   "cell_type": "code",
   "execution_count": null,
   "metadata": {},
   "outputs": [],
   "source": [
    "df3p_mass_np = np.array(df_glu['Mass'])\n",
    "df5p_mass_np = np.array(df_glu['Mass'])\n",
    "mass_sum_np = df3p_mass_np[:, np.newaxis] + df5p_mass_np\n",
    "mass_sum_0 = np.round(mass_sum_np, 0)\n",
    "mass_sum_1 = np.round(mass_sum_np, 1)\n",
    "mass_sum_2 = np.round(mass_sum_np, 2)\n",
    "mass_sum_3 = np.round(mass_sum_np, 3)"
   ]
  },
  {
   "cell_type": "code",
   "execution_count": null,
   "metadata": {},
   "outputs": [],
   "source": [
    "res1 = np.unique(mass_sum_1, return_counts=True)\n",
    "res2 = np.unique(mass_sum_2, return_counts=True)\n",
    "res3 = np.unique(mass_sum_3, return_counts=True)"
   ]
  },
  {
   "cell_type": "code",
   "execution_count": null,
   "metadata": {},
   "outputs": [],
   "source": [
    "res1_s0 = pd.Series(res1[0])\n",
    "res1_s1 = pd.Series(res1[1])\n",
    "\n",
    "res2_s0 = pd.Series(res2[0])\n",
    "res2_s1 = pd.Series(res2[1])\n",
    "\n",
    "res3_s0 = pd.Series(res3[0])\n",
    "res3_s1 = pd.Series(res3[1])"
   ]
  },
  {
   "cell_type": "code",
   "execution_count": null,
   "metadata": {},
   "outputs": [],
   "source": [
    "res1_s1_max = np.max(res1_s1)\n",
    "res1_s2_max = np.max(res2_s1)\n",
    "res1_s3_max = np.max(res3_s1)\n",
    "print(\"max s1 {} s2 {} s3 {}\".format(res1_s1_max, res1_s2_max, res1_s3_max))"
   ]
  },
  {
   "cell_type": "code",
   "execution_count": null,
   "metadata": {},
   "outputs": [],
   "source": [
    "res1_idxs = res1_s1[res1_s1 > 400].index\n",
    "res1_s0[res1_idxs]\n",
    "l = list(zip(res1_s0[res1_idxs], res1_s1[res1_idxs]))\n",
    "[i for i in l if i[0] > 23000]"
   ]
  },
  {
   "cell_type": "code",
   "execution_count": null,
   "metadata": {},
   "outputs": [],
   "source": [
    "res2_idxs = res2_s1[res2_s1 > 80].index\n",
    "l = list(zip(res2_s0[res2_idxs], res2_s1[res2_idxs]))\n",
    "[i for i in l if i[0] > 23000]"
   ]
  },
  {
   "cell_type": "code",
   "execution_count": null,
   "metadata": {},
   "outputs": [],
   "source": [
    "res3_idxs = res3_s1[res3_s1 > 10].index\n",
    "l = list(zip(res3_s0[res3_idxs], res3_s1[res3_idxs]))"
   ]
  },
  {
   "cell_type": "markdown",
   "metadata": {},
   "source": [
    "# Top vols"
   ]
  },
  {
   "cell_type": "code",
   "execution_count": null,
   "metadata": {},
   "outputs": [],
   "source": [
    "plotly_zone(df_glu)"
   ]
  },
  {
   "cell_type": "code",
   "execution_count": null,
   "metadata": {},
   "outputs": [],
   "source": [
    "df_glu = df_glu.sort_values('Vol', ascending=False)"
   ]
  },
  {
   "cell_type": "code",
   "execution_count": null,
   "metadata": {},
   "outputs": [],
   "source": [
    "df_top = df_glu[(df_glu.Mass > 11000) & (df_glu.Mass < 20000)][:500]"
   ]
  },
  {
   "cell_type": "code",
   "execution_count": null,
   "metadata": {},
   "outputs": [],
   "source": [
    "plotly_zone(df_top)"
   ]
  },
  {
   "cell_type": "markdown",
   "metadata": {},
   "source": [
    "# Glu DataSet 7"
   ]
  },
  {
   "cell_type": "code",
   "execution_count": null,
   "metadata": {},
   "outputs": [],
   "source": [
    "import plotly.graph_objects as go\n",
    "\n",
    "idxs = list()\n",
    "# create our callback function\n",
    "def update_point(trace, points, selector):\n",
    "    print('points {}'.format(points.point_inds) )\n",
    "    idxs.extend(points.point_inds)\n",
    "\n",
    "df_draw = df7[(df7.Mass > 5000) & (df7.Mass < 22000)]\n",
    "# df_draw = df7_chosen[:100] #df7\n",
    "x = df_draw.Mass\n",
    "y = df_draw.RT\n",
    "fig = go.Scatter(x=x, y=y, mode='markers')\n",
    "# fig.update_layout(width=1024, height=768)\n",
    "f = go.FigureWidget(fig)\n",
    "scatter = f.data[0]\n",
    "scatter.on_selection(update_point)\n",
    "f"
   ]
  },
  {
   "cell_type": "code",
   "execution_count": null,
   "metadata": {},
   "outputs": [],
   "source": [
    "df7_1 = df_draw.iloc[idxs]\n",
    "df7_1.info()"
   ]
  },
  {
   "cell_type": "code",
   "execution_count": null,
   "metadata": {},
   "outputs": [],
   "source": [
    "bcr_5p = base_calling_random(df7_1[:100])\n",
    "plot_basecalling(*bcr_5p, annotate=False)"
   ]
  },
  {
   "cell_type": "code",
   "execution_count": null,
   "metadata": {},
   "outputs": [],
   "source": []
  },
  {
   "cell_type": "code",
   "execution_count": null,
   "metadata": {},
   "outputs": [],
   "source": []
  },
  {
   "cell_type": "code",
   "execution_count": null,
   "metadata": {},
   "outputs": [],
   "source": []
  },
  {
   "cell_type": "code",
   "execution_count": null,
   "metadata": {},
   "outputs": [],
   "source": []
  },
  {
   "cell_type": "code",
   "execution_count": null,
   "metadata": {},
   "outputs": [],
   "source": []
  },
  {
   "cell_type": "code",
   "execution_count": null,
   "metadata": {},
   "outputs": [],
   "source": [
    "df7_chosen = df_draw.iloc[idxs]\n",
    "df7_chosen.info()"
   ]
  },
  {
   "cell_type": "code",
   "execution_count": null,
   "metadata": {},
   "outputs": [],
   "source": [
    "df7_chosen = df7_chosen.sort_values('Vol', ascending=False)"
   ]
  },
  {
   "cell_type": "code",
   "execution_count": null,
   "metadata": {},
   "outputs": [],
   "source": [
    "bcr_5p = base_calling_random(df7_chosen[:100])\n",
    "plot_basecalling(*bcr_5p, annotate=True)"
   ]
  },
  {
   "cell_type": "markdown",
   "metadata": {},
   "source": [
    "# Glu Dataset 2"
   ]
  },
  {
   "cell_type": "code",
   "execution_count": null,
   "metadata": {},
   "outputs": [],
   "source": [
    "df2_top = df2[(df2.Mass > 2300) & (df2.Mass < 22000)].sort_values('Vol').groupby('RT').tail(1)"
   ]
  },
  {
   "cell_type": "code",
   "execution_count": null,
   "metadata": {},
   "outputs": [],
   "source": [
    "import plotly.graph_objects as go\n",
    "\n",
    "idxs = list()\n",
    "# create our callback function\n",
    "def update_point(trace, points, selector):\n",
    "    print('points {}'.format(points.point_inds) )\n",
    "    idxs.extend(points.point_inds)\n",
    "\n",
    "# df_draw = df2[(df2.Mass > 12329) & (df2.Mass < 22000) & (df2.RT < 25) & (df2.RT > 8)]\n",
    "# df_draw = df2_chosen[:100] #df7\n",
    "df_draw = df2_top[(df2_top.RT < 25) & (df2_top.RT > 8)]\n",
    "x = df_draw.Mass\n",
    "y = df_draw.RT\n",
    "fig = go.Scatter(x=x, y=y, mode='markers')\n",
    "f = go.FigureWidget(fig)\n",
    "f.update_layout(autosize=False, width=1024, height=700, paper_bgcolor=\"LightSteelBlue\",\n",
    "    margin=dict(\n",
    "        l=20,\n",
    "        r=20,\n",
    "        b=20,\n",
    "        t=20,\n",
    "        pad=4\n",
    "    ))\n",
    "scatter = f.data[0]\n",
    "scatter.on_selection(update_point)\n",
    "f"
   ]
  },
  {
   "cell_type": "code",
   "execution_count": null,
   "metadata": {},
   "outputs": [],
   "source": [
    "df2_chosen = df_draw.iloc[idxs]\n",
    "df2_chosen.info()"
   ]
  },
  {
   "cell_type": "code",
   "execution_count": null,
   "metadata": {},
   "outputs": [],
   "source": [
    "df2_chosen = df2_chosen.sort_values('Vol', ascending=False)"
   ]
  },
  {
   "cell_type": "code",
   "execution_count": null,
   "metadata": {},
   "outputs": [],
   "source": [
    "plot_zone(df2_chosen[:100])"
   ]
  },
  {
   "cell_type": "code",
   "execution_count": null,
   "metadata": {},
   "outputs": [],
   "source": [
    "bcr_5p = base_calling_random(df2_chosen[:100])\n",
    "plot_basecalling(*bcr_5p, annotate=True)"
   ]
  },
  {
   "cell_type": "code",
   "execution_count": null,
   "metadata": {},
   "outputs": [],
   "source": [
    "# df2_chosen.to_excel('/Users/bryan/Documents/BioPharmaFinder/BaoLab/Excels/S2to5combined_20ul_40min_skeleton_1.xlsx')\n",
    "df2_chosen = pd.read_excel('/Users/bryan/Documents/BioPharmaFinder/BaoLab/Excels/S2to5combined_20ul_40min_skeleton_1.xlsx')"
   ]
  },
  {
   "cell_type": "code",
   "execution_count": null,
   "metadata": {},
   "outputs": [],
   "source": [
    "df2_chosen = df2_chosen.sort_values('Mass', ascending=True)\n",
    "df2_chosen.tail()"
   ]
  },
  {
   "cell_type": "code",
   "execution_count": null,
   "metadata": {},
   "outputs": [],
   "source": [
    "df2_exclude_h2o = df2_chosen\n",
    "df2_exclude_h2o.Mass = df2_exclude_h2o.Mass - 18.0106"
   ]
  },
  {
   "cell_type": "code",
   "execution_count": null,
   "metadata": {},
   "outputs": [],
   "source": [
    "df2_exclude_h2o_restricted = df2_exclude_h2o[(df2_exclude_h2o.Mass > 8000) & (df2_exclude_h2o.Mass < 11000)]\n",
    "df2_exclude_h2o_restricted.to_excel('/Users/bryan/Documents/BioPharmaFinder/BaoLab/Excels/S2to5combined_20ul_40min_skeleton_h2o_8k_11k.xlsx')"
   ]
  },
  {
   "cell_type": "code",
   "execution_count": null,
   "metadata": {},
   "outputs": [],
   "source": [
    "df2_chosen_restricted = df2_chosen[(df2_chosen.Mass > 8000) & (df2_chosen.Mass < 11000)]\n",
    "df2_chosen_restricted.to_excel('/Users/bryan/Documents/BioPharmaFinder/BaoLab/Excels/S2to5combined_20ul_40min_skeleton_8k_11k.xlsx')"
   ]
  },
  {
   "cell_type": "code",
   "execution_count": null,
   "metadata": {},
   "outputs": [],
   "source": []
  }
 ],
 "metadata": {
  "kernelspec": {
   "display_name": "Python 3",
   "language": "python",
   "name": "python3"
  },
  "language_info": {
   "codemirror_mode": {
    "name": "ipython",
    "version": 3
   },
   "file_extension": ".py",
   "mimetype": "text/x-python",
   "name": "python",
   "nbconvert_exporter": "python",
   "pygments_lexer": "ipython3",
   "version": "3.7.3"
  }
 },
 "nbformat": 4,
 "nbformat_minor": 4
}
