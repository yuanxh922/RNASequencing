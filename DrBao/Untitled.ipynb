{
 "cells": [
  {
   "cell_type": "code",
   "execution_count": null,
   "metadata": {},
   "outputs": [],
   "source": [
    "import pandas as pd"
   ]
  },
  {
   "cell_type": "code",
   "execution_count": null,
   "metadata": {},
   "outputs": [],
   "source": [
    "%run ../modules/utils.ipynb\n",
    "%run ../modules/cds.ipynb\n",
    "%run ../modules/preprocessing.ipynb"
   ]
  },
  {
   "cell_type": "code",
   "execution_count": null,
   "metadata": {},
   "outputs": [],
   "source": [
    "df = pd.read_csv('/Users/bryan/Studio/tools/out.csv')"
   ]
  },
  {
   "cell_type": "code",
   "execution_count": null,
   "metadata": {},
   "outputs": [],
   "source": [
    "bcr_5p = base_calling_random(df)\n",
    "plt, fig = plot_basecalling(*bcr_5p, annotate=False)\n",
    "df = df.sort_values('Mass')\n",
    "plt.scatter(df.Mass, df.RT)\n",
    "for idx, row in df.iterrows():\n",
    "    plt.annotate(s='{:.4f}'.format(row.Mass), size=11, xy=(row.Mass, row.RT), textcoords=\"offset points\", xytext=(20, -20), ha='center', color='black')\n",
    "\n",
    "fig.tight_layout()\n",
    "plt.savefig('/Users/bryan/Downloads/glu_1methyl.png', transparent=True, dpi=300)"
   ]
  },
  {
   "cell_type": "code",
   "execution_count": null,
   "metadata": {},
   "outputs": [],
   "source": []
  }
 ],
 "metadata": {
  "kernelspec": {
   "display_name": "Python 3",
   "language": "python",
   "name": "python3"
  },
  "language_info": {
   "codemirror_mode": {
    "name": "ipython",
    "version": 3
   },
   "file_extension": ".py",
   "mimetype": "text/x-python",
   "name": "python",
   "nbconvert_exporter": "python",
   "pygments_lexer": "ipython3",
   "version": "3.7.3"
  }
 },
 "nbformat": 4,
 "nbformat_minor": 4
}
