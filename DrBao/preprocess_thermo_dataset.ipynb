{
 "cells": [
  {
   "cell_type": "code",
   "execution_count": 17,
   "metadata": {},
   "outputs": [],
   "source": [
    "import pandas as pd\n",
    "%run ../modules/utils.ipynb"
   ]
  },
  {
   "cell_type": "code",
   "execution_count": 18,
   "metadata": {},
   "outputs": [],
   "source": [
    "def transfer_thermo(in_xls, out_xls):\n",
    "    df = pd.read_excel(in_xls)\n",
    "    df = thermo_df(df)\n",
    "    df.to_excel(out_xls)"
   ]
  },
  {
   "cell_type": "code",
   "execution_count": null,
   "metadata": {},
   "outputs": [],
   "source": [
    "for i in range(6):\n",
    "    in_xls = '/Users/bryan/Documents/BioPharmaFinder/BaoLab/RawExcels/sample{}.xlsx'.format(i+1)\n",
    "    out_xls = '/Users/bryan/Documents/BioPharmaFinder/BaoLab/RawExcels/sample{}_std.xlsx'.format(i+1)\n",
    "    transfer_thermo(in_xls, out_xls)\n",
    "    print('Done for {}'.format(i))"
   ]
  }
 ],
 "metadata": {
  "kernelspec": {
   "display_name": "Python 3",
   "language": "python",
   "name": "python3"
  },
  "language_info": {
   "codemirror_mode": {
    "name": "ipython",
    "version": 3
   },
   "file_extension": ".py",
   "mimetype": "text/x-python",
   "name": "python",
   "nbconvert_exporter": "python",
   "pygments_lexer": "ipython3",
   "version": "3.7.3"
  }
 },
 "nbformat": 4,
 "nbformat_minor": 4
}
