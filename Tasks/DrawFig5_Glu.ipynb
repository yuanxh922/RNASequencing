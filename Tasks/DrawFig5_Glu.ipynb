{
 "cells": [
  {
   "cell_type": "code",
   "execution_count": null,
   "id": "tired-employment",
   "metadata": {},
   "outputs": [],
   "source": [
    "import matplotlib.pyplot as plt\n",
    "import plotly.express as px\n",
    "import numpy as np\n",
    "import pandas as pd"
   ]
  },
  {
   "cell_type": "code",
   "execution_count": null,
   "id": "spectacular-savannah",
   "metadata": {},
   "outputs": [],
   "source": [
    "%run ../modules/utils.ipynb\n",
    "%run ../modules/preprocessing.ipynb\n",
    "%run ../modules/cds.ipynb"
   ]
  },
  {
   "cell_type": "code",
   "execution_count": null,
   "id": "negative-notion",
   "metadata": {},
   "outputs": [],
   "source": [
    "df_m = pd.read_excel('/Users/bryan/Documents/BioPharmaFinder/BaoLab/FirstBatch/PaperData/Glu/mock_5p_22G_to_44C.xlsx')\n",
    "df_r = pd.read_excel('/Users/bryan/Documents/BioPharmaFinder/BaoLab/FirstBatch/PaperData/Glu/rsv_5p_20D_to_40G.xlsx')"
   ]
  },
  {
   "cell_type": "code",
   "execution_count": null,
   "id": "italic-literacy",
   "metadata": {},
   "outputs": [],
   "source": [
    "plotly_zone(df_m)\n",
    "df_m.focus.not_null()"
   ]
  },
  {
   "cell_type": "code",
   "execution_count": null,
   "id": "abstract-producer",
   "metadata": {},
   "outputs": [],
   "source": [
    "df_mock_noad = pd.read_excel('/Users/bryan/Documents/BioPharmaFinder/BaoLab/FirstBatch/Excels/1_Mock_10ul_9min_NewOmics.xlsx')\n",
    "df_rsv_noad = pd.read_excel('/Users/bryan/Documents/BioPharmaFinder/BaoLab/FirstBatch/Excels/6_RSV1_10ul_9min_NewOmics.xlsx')\n",
    "df_mock_noad = thermo_df(df_mock_noad)\n",
    "df_rsv_noad = thermo_df(df_rsv_noad)\n",
    "df_mock = pd.read_excel('/Users/bryan/Documents/BioPharmaFinder/BaoLab/FirstBatch/Excels/S2to5combined_20ul_40min.xlsx')\n",
    "df_rsv = pd.read_excel('/Users/bryan/Documents/BioPharmaFinder/BaoLab/FirstBatch/Excels/S6to10combined_20ul_40min.xlsx')\n",
    "df_mock = thermo_df(df_mock)\n",
    "df_rsv = thermo_df(df_rsv)"
   ]
  },
  {
   "cell_type": "code",
   "execution_count": null,
   "id": "animal-journal",
   "metadata": {},
   "outputs": [],
   "source": [
    "df_mock_noad[(df_mock_noad.Mass>24190)&(df_mock_noad.Mass<24350)]\n",
    "# df_rsv_noad[(df_rsv_noad.Mass>24190)&(df_rsv_noad.Mass<24350)]"
   ]
  },
  {
   "cell_type": "code",
   "execution_count": null,
   "id": "unauthorized-manhattan",
   "metadata": {},
   "outputs": [],
   "source": [
    "groups = basecalling_groups(df_mock_noad)"
   ]
  },
  {
   "cell_type": "code",
   "execution_count": null,
   "id": "loose-concentrate",
   "metadata": {},
   "outputs": [],
   "source": [
    "plotly_basecalling(*groups[4], annotate=False)"
   ]
  },
  {
   "cell_type": "code",
   "execution_count": null,
   "id": "bright-auckland",
   "metadata": {},
   "outputs": [],
   "source": [
    "mask = df_m.focus.notna()\n",
    "df_m_focus = df_m[mask]\n",
    "# plotly_zones(df_m_focus, df_r_focus)\n",
    "\n",
    "bcr = base_calling_random(df_m_focus, silence=True)\n",
    "plotly_basecalling(*bcr, annotate=False)\n",
    "\n",
    "mask = df_r.focus.notna()\n",
    "df_r_focus = df_r[mask]\n",
    "bcr = base_calling_random(df_r_focus, silence=True)\n",
    "plotly_basecalling(*bcr, annotate=False)\n",
    "# plt, fig = plot_basecalling(bcr[0], bcr[1], plt=plt, annotate=False)\n",
    "# fig.tight_layout()\n",
    "# plt.savefig('/Users/bryan/Documents/BioPharmaFinder/Draw/Outputs_Fig4/mock_denovo_seq_22to44.svg', transparent=True, dpi=300)\n",
    "\n"
   ]
  },
  {
   "cell_type": "code",
   "execution_count": null,
   "id": "acquired-london",
   "metadata": {},
   "outputs": [],
   "source": [
    "\n",
    "mask = df_r.focus.notna()\n",
    "df_r_focus = df_r[mask]\n",
    "bcr = base_calling_random(df_r_focus, silence=True)\n",
    "plt, fig = plot_basecalling(df_r, bcr[1], plt=plt, annotate=False)\n",
    "fig.tight_layout()\n",
    "# plt.savefig('/Users/bryan/Documents/BioPharmaFinder/Draw/Outputs_Fig4/rsv_denovo_seq_20to40.svg', transparent=True, dpi=300)\n"
   ]
  },
  {
   "cell_type": "code",
   "execution_count": null,
   "id": "exterior-klein",
   "metadata": {},
   "outputs": [],
   "source": [
    "plotly_zones(df_m_focus, df_r_focus)\n",
    "plotly_zone(df_r_focus)"
   ]
  },
  {
   "cell_type": "code",
   "execution_count": null,
   "id": "clean-financing",
   "metadata": {},
   "outputs": [],
   "source": []
  },
  {
   "cell_type": "code",
   "execution_count": null,
   "id": "higher-measurement",
   "metadata": {},
   "outputs": [],
   "source": [
    "\n",
    "df_10k_mock_noad = pd.read_excel('/Users/bryan/Documents/BioPharmaFinder/BaoLab/FirstBatch/PaperData/GluCleavage/mock.xlsx')\n",
    "df_10k_rsv_noad = pd.read_excel('/Users/bryan/Documents/BioPharmaFinder/BaoLab/FirstBatch/PaperData/GluCleavage/rsv.xlsx')\n",
    "\n",
    "# plot_zone(df_10k_mock_noad, y='Vol')\n",
    "# plotly_zone(df_10k_rsv_noad, y='Vol')\n",
    "dfa = df_10k_mock_noad.copy()\n",
    "dfa.Vol = dfa.Vol/25612.53\n",
    "dfb = df_10k_rsv_noad.copy()\n",
    "dfb.Vol = dfb.Vol/54691.31\n",
    "plt, fig = plot_zones(dfa, dfb, y='Vol')\n",
    "\n",
    "fig.tight_layout()\n",
    "plt.savefig('/Users/bryan/Documents/BioPharmaFinder/Draw/Outputs_Fig4/cleavage.svg', transparent=True, dpi=300)\n",
    "plotly_zones(dfa, dfb, y='Vol')\n"
   ]
  },
  {
   "cell_type": "code",
   "execution_count": null,
   "id": "front-medicaid",
   "metadata": {},
   "outputs": [],
   "source": [
    "''.join(list(df_auu.Base))"
   ]
  },
  {
   "cell_type": "code",
   "execution_count": null,
   "id": "eight-exposure",
   "metadata": {},
   "outputs": [],
   "source": [
    "df_auu = pd.read_excel('/Users/bryan/Studio/tools/glu_auu_new.xlsx')\n",
    "df_acu = pd.read_excel('/Users/bryan/Studio/tools/glu_acu_new.xlsx')\n",
    "df_mock = pd.read_excel('/Users/bryan/Documents/BioPharmaFinder/BaoLab/FirstBatch/Excels/1_Mock_10ul_9min_NewOmics.xlsx')\n",
    "df_rsv = pd.read_excel('/Users/bryan/Documents/BioPharmaFinder/BaoLab/FirstBatch/Excels/6_RSV1_10ul_9min_NewOmics.xlsx')\n",
    "df_mock = thermo_df(df_mock)\n",
    "df_rsv = thermo_df(df_rsv)\n",
    "\n",
    "df_mock_ad = pd.read_excel('/Users/bryan/Documents/BioPharmaFinder/BaoLab/FirstBatch/Excels/S2to5combined_20ul_40min.xlsx')\n",
    "df_rsv_ad = pd.read_excel('/Users/bryan/Documents/BioPharmaFinder/BaoLab/FirstBatch/Excels/S6to10combined_20ul_40min.xlsx')\n",
    "df_mock_ad = thermo_df(df_mock_ad)\n",
    "df_rsv_ad = thermo_df(df_rsv_ad)"
   ]
  },
  {
   "cell_type": "code",
   "execution_count": null,
   "id": "intense-brand",
   "metadata": {},
   "outputs": [],
   "source": [
    "df_tmp = df_auu[df_auu.Mass<9000].copy()\n",
    "df_match_mock = match_dfs(df_tmp, df_mock_ad)\n",
    "df_match_mock.RT /= 20.01286\n",
    "dfa = df_match_mock.copy()\n",
    "dfa['type'] = 'tRNA'\n",
    "\n",
    "df_tmp.Mass -= 18\n",
    "df_match_mock_trf = match_dfs(df_tmp, df_mock)\n",
    "# df_match_mock_trf.RT += 17.2\n",
    "df_match_mock_trf.RT /= 2.945023\n",
    "dfb = df_match_mock_trf.copy()\n",
    "dfb['type'] = 'tRF'\n",
    "\n",
    "df_merge = pd.concat([dfa, dfb])\n",
    "# df_merge.to_excel('/Users/bryan/Documents/Data/Glu_tRFs/mock.xlsx')\n",
    "\n",
    "# df_match_mock.shape, df_match_mock_trf.shape, df_match_rsv.shape, df_match_rsv_trf.shape\n",
    "\n",
    "plotly_zones(df_match_mock, df_match_mock_trf, names=['tRNA', 'tRF'])\n",
    "\n",
    "# plt, fig = plot_zones(df_match_mock, df_match_mock_trf, names=['tRNA', 'tRF'])\n",
    "# fig.tight_layout()\n",
    "# plt.savefig('/Users/bryan/Documents/BioPharmaFinder/Draw/Outputs_Fig4/mock_trna_trf.svg', transparent=True, dpi=300)\n",
    "\n"
   ]
  },
  {
   "cell_type": "code",
   "execution_count": null,
   "id": "typical-disabled",
   "metadata": {},
   "outputs": [],
   "source": [
    "df_tmp = df_acu.copy()\n",
    "df_match_rsv = match_dfs(df_tmp, df_rsv_ad)\n",
    "df_match_rsv.RT /= 21.58822\n",
    "\n",
    "df_tmp.Mass -= 18\n",
    "df_match_rsv_trf = match_dfs(df_tmp, df_rsv)\n",
    "df_match_rsv_trf.RT /= 3.2047\n",
    "\n",
    "dfa = df_match_rsv.copy()\n",
    "dfb = df_match_rsv_trf.copy()\n",
    "dfa['type'] = 'tRNA'\n",
    "dfb['type'] = 'tRF'\n",
    "df_merge = pd.concat([dfa, dfb])\n",
    "df_merge.to_excel('/Users/bryan/Documents/Data/Glu_tRFs/rsv.xlsx')\n",
    "\n",
    "plotly_zones(df_match_rsv, df_match_rsv_trf, names=['tRNA', 'tRF'])\n",
    "\n",
    "plt, fig = plot_zones(df_match_rsv, df_match_rsv_trf, names=['tRNA', 'tRF'])\n",
    "fig.tight_layout()\n",
    "plt.savefig('/Users/bryan/Documents/BioPharmaFinder/Draw/Outputs_Fig4/rsv_trna_trf.svg', transparent=True, dpi=300)\n"
   ]
  },
  {
   "cell_type": "code",
   "execution_count": null,
   "id": "arctic-publicity",
   "metadata": {},
   "outputs": [],
   "source": []
  },
  {
   "cell_type": "code",
   "execution_count": null,
   "id": "structured-compiler",
   "metadata": {},
   "outputs": [],
   "source": []
  },
  {
   "cell_type": "code",
   "execution_count": null,
   "id": "excited-yeast",
   "metadata": {},
   "outputs": [],
   "source": [
    "def plot_zones(df3p, df5p, trend=False, y='RT', names=[]):\n",
    "    fig = plt.figure(figsize=(8, 4))\n",
    "    plt.xlabel('Monoisotopic Mass (Da)', fontname=\"Arial\", fontsize=15, color='black')\n",
    "    plt.ylabel('Retention Time (min)', fontname=\"Arial\", fontsize=15, color='black')\n",
    "    plt.xticks(fontname=\"Arial\", size=13, color='black')\n",
    "    plt.yticks(fontname=\"Arial\", size=13, color='black')\n",
    "    lbl1 = 'Mock' if not names else names[0]\n",
    "    lbl2 = 'Mock' if not names else names[1]\n",
    "    plt.scatter(df3p.Mass, df3p[y], s=60, label=lbl1)\n",
    "    plt.scatter(df5p.Mass, df5p[y], s=60, label=lbl2)\n",
    "\n",
    "#     for df in [df3p, df5p]:\n",
    "#         for idx, row in df.iterrows():\n",
    "#             mass = '{:.4f}'.format(row.Mass)\n",
    "#             plt.annotate(text=mass, size=13, xy=(row.Mass, row[y]), \n",
    "#                          textcoords=\"offset points\", xytext=(10, -20), ha='center')\n",
    "    plt.legend()\n",
    "    return plt, fig"
   ]
  },
  {
   "cell_type": "code",
   "execution_count": null,
   "id": "cross-eight",
   "metadata": {},
   "outputs": [],
   "source": [
    "def plot_basecalling(df, mass_pairs, endpoints=pd.DataFrame(), annotate=True, plt=None, y='RT'):\n",
    "#     if in_plt:\n",
    "#         plt = in_plt\n",
    "#     else:\n",
    "    if not plt:\n",
    "        plt = matplotlib.pyplot\n",
    "    fig = plt.figure(figsize=(8, 3.5)) \n",
    "    plt.xlabel('Monoisotopic Mass (Da)', fontname=\"Arial\", fontsize=15, color='black')\n",
    "    plt.ylabel('Retention Time (min)', fontname=\"Arial\", fontsize=15, color='black')\n",
    "#     plt.xticks(range(0, 25001, 2500), fontname=\"Arial\", size=13, color='black')\n",
    "#     plt.yticks(range(0, 25, 2), fontname=\"Arial\", size=13, color='black')\n",
    "    plt.xticks(fontname=\"Arial\", size=13, color='black')\n",
    "    plt.yticks(fontname=\"Arial\", size=13, color='black')\n",
    "    \n",
    "    plt.scatter(df.Mass, df[y], color='#bdc1c1')\n",
    "\n",
    "    for t in mass_pairs:\n",
    "        df_pair = df[df.Mass.isin(t)]\n",
    "        if df_pair.empty:\n",
    "            continue\n",
    "        plt.scatter(df_pair.Mass, df_pair[y], marker='o', color='b')\n",
    "        \n",
    "            \n",
    "        idmax = df_pair.Mass.idxmax()\n",
    "        x_pos = df_pair.Mass.mean()\n",
    "        y_pos = df_pair[y].mean()\n",
    "        plt.annotate(text=t[2], size=8, xy=(x_pos, y_pos), \n",
    "                     textcoords=\"offset points\", xytext=(0, 10), ha='center', color='b')\n",
    "        \n",
    "        \n",
    "        if not annotate:\n",
    "            continue\n",
    "        mass = '{:.2f}'.format(df_pair.iloc[0].Mass)\n",
    "        plt.annotate(text=mass, size=13, xy=(df_pair.iloc[0].Mass, df_pair.iloc[0][y]), \n",
    "                     textcoords=\"offset points\", xytext=(10, -20), ha='center')\n",
    "        mass = '{:.2f}'.format(df_pair.iloc[1].Mass)\n",
    "        plt.annotate(text=mass, size=13, xy=(df_pair.iloc[1].Mass, df_pair.iloc[1][y]), \n",
    "                     textcoords=\"offset points\", xytext=(10, -20), ha='center')\n",
    "\n",
    "    if not endpoints.empty:\n",
    "        plt.scatter(endpoints.Mass, endpoints.RT, color='r')\n",
    "        print(endpoints[['Mass', 'RT', 'Vol']])\n",
    "#     plt.show()\n",
    "    return plt, fig"
   ]
  },
  {
   "cell_type": "code",
   "execution_count": null,
   "id": "enormous-beaver",
   "metadata": {},
   "outputs": [],
   "source": []
  }
 ],
 "metadata": {
  "kernelspec": {
   "display_name": "Python 3",
   "language": "python",
   "name": "python3"
  },
  "language_info": {
   "codemirror_mode": {
    "name": "ipython",
    "version": 3
   },
   "file_extension": ".py",
   "mimetype": "text/x-python",
   "name": "python",
   "nbconvert_exporter": "python",
   "pygments_lexer": "ipython3",
   "version": "3.7.3"
  }
 },
 "nbformat": 4,
 "nbformat_minor": 5
}
