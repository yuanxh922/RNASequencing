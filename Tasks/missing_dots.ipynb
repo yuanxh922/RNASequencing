{
 "cells": [
  {
   "cell_type": "code",
   "execution_count": null,
   "metadata": {},
   "outputs": [],
   "source": [
    "import pandas as pd\n",
    "import numpy as np\n",
    "import matplotlib.pyplot as plt"
   ]
  },
  {
   "cell_type": "code",
   "execution_count": null,
   "metadata": {},
   "outputs": [],
   "source": [
    "%run ../modules/utils.ipynb\n",
    "%run ../modules/preprocessing.ipynb\n",
    "%run ../modules/cds.ipynb"
   ]
  },
  {
   "cell_type": "code",
   "execution_count": null,
   "metadata": {},
   "outputs": [],
   "source": [
    "# df = pd.read_csv('/Users/bryan/Documents/SeqDataSets/signal_to_noise_20/NZ_180709_s07_0610_20_k.csv')\n",
    "# df = pd.read_csv('/Users/bryan/Documents/SeqDataSets/12mix/12mix_30.csv')\n",
    "# df = pd.read_csv('/Users/bryan/Studio/seq/data/samples/204.csv')\n",
    "# df = pd.read_excel('/Users/bryan/Documents/SeqDataSets/signal_to_noise_20/NZ_180521_s06_0610_20.xls') #stn20, 21nt\n",
    "# df = pd.read_csv('/Users/bryan/Documents/SeqDataSets/12mix/12mix.csv')\n",
    "df = pd.read_excel('/Users/bryan/Documents/SeqDataSets/signal_to_noise_20/SLZ_200313_09_0610_20.xls')\n",
    "df.shape"
   ]
  },
  {
   "cell_type": "code",
   "execution_count": null,
   "metadata": {},
   "outputs": [],
   "source": [
    "plot_zone(df)"
   ]
  },
  {
   "cell_type": "code",
   "execution_count": null,
   "metadata": {},
   "outputs": [],
   "source": [
    "# TAG = 694.2397\n",
    "TAG = 826.3184"
   ]
  },
  {
   "cell_type": "code",
   "execution_count": null,
   "metadata": {},
   "outputs": [],
   "source": [
    "df3_endpoints, df5_endpoints = endpoints(df, tag=TAG)"
   ]
  },
  {
   "cell_type": "code",
   "execution_count": null,
   "metadata": {},
   "outputs": [],
   "source": [
    "df3_endpoints[['Mass', 'RT', 'Vol']], df5_endpoints[['Mass', 'RT', 'Vol']]"
   ]
  },
  {
   "cell_type": "code",
   "execution_count": null,
   "metadata": {},
   "outputs": [],
   "source": [
    "# endpoint = 10283.489\n",
    "endpoint = df3_endpoints.sort_values('Vol', ascending=False).iloc[0]['Mass']\n",
    "df_ms, _ = computational_data_seperation(df, df, endpoint, tag=TAG)\n",
    "df_ms.shape"
   ]
  },
  {
   "cell_type": "code",
   "execution_count": null,
   "metadata": {},
   "outputs": [],
   "source": [
    "plot_zone(df_ms)"
   ]
  },
  {
   "cell_type": "code",
   "execution_count": null,
   "metadata": {},
   "outputs": [],
   "source": [
    "df_label, df_unlabel = label_unlabel_comparison(df, df)"
   ]
  },
  {
   "cell_type": "code",
   "execution_count": null,
   "metadata": {},
   "outputs": [],
   "source": [
    "plot_zones(df_label, df_unlabel)"
   ]
  },
  {
   "cell_type": "code",
   "execution_count": null,
   "metadata": {},
   "outputs": [],
   "source": [
    "plt.figure(figsize=(12, 9))\n",
    "df_top = df_5p.sort_values('Vol', ascending=False)[:27*2]\n",
    "sns.scatterplot(df_top.Mass, df_top.RT, hue=df_top.Vol)"
   ]
  },
  {
   "cell_type": "code",
   "execution_count": null,
   "metadata": {},
   "outputs": [],
   "source": [
    "df_bcr, mass_pairs = base_calling_random(df_top)\n",
    "plot_basecalling(df_bcr, mass_pairs, endpoints=pd.concat([df3_endpoints, df5_endpoints]))\n",
    "# plt.scatter(df3_endpoints.Mass, df3_endpoints.RT, color='r')"
   ]
  },
  {
   "cell_type": "code",
   "execution_count": null,
   "metadata": {},
   "outputs": [],
   "source": [
    "df_top_3p = df_top"
   ]
  },
  {
   "cell_type": "code",
   "execution_count": null,
   "metadata": {},
   "outputs": [],
   "source": [
    "df_top_5p = df_top"
   ]
  },
  {
   "cell_type": "code",
   "execution_count": null,
   "metadata": {},
   "outputs": [],
   "source": [
    "# missing = 6649.9418\n",
    "# missing = 6609.9373\n",
    "# missing = 9977.4835\n",
    "# missing = 9978.4701\n",
    "# df_rest5 = df.drop(df_ms.index)\n",
    "df_paired_3p, df_paired_5p = computational_data_seperation(df_top_3p, df_top_5p, endpoint, ignore_endpoints=True)"
   ]
  },
  {
   "cell_type": "code",
   "execution_count": null,
   "metadata": {},
   "outputs": [],
   "source": [
    "plot_zones(df_paired_3p, df_paired_5p)"
   ]
  },
  {
   "cell_type": "code",
   "execution_count": null,
   "metadata": {},
   "outputs": [],
   "source": [
    "df_paired_3p_top = df_paired_3p.sort_values('Vol', ascending=False).iloc[:27]\n",
    "bcr_3p = base_calling_random(df_paired_3p_top)\n",
    "plot_basecalling(*bcr_3p, endpoints=df3_endpoints)\n",
    "# plt.scatter(df3_endpoints.Mass, df3_endpoints.RT, color='r')"
   ]
  },
  {
   "cell_type": "code",
   "execution_count": null,
   "metadata": {},
   "outputs": [],
   "source": [
    "df_paired_5p_top = df_paired_5p.sort_values('Vol', ascending=False).iloc[:27]\n",
    "bcr_5p = base_calling_random(df_paired_5p_top)\n",
    "plot_basecalling(*bcr_5p, endpoints=df5_endpoints)"
   ]
  },
  {
   "cell_type": "code",
   "execution_count": null,
   "metadata": {},
   "outputs": [],
   "source": [
    "import plotly.graph_objects as go\n",
    "\n",
    "x = df.Mass\n",
    "y = df.RT\n",
    "\n",
    "layout = go.Layout(\n",
    "        width=1000,\n",
    "        height=750,\n",
    "        showlegend=False\n",
    "    )\n",
    "\n",
    "f = go.FigureWidget([go.Scatter(x=x, y=y, mode='markers')], layout=layout)\n",
    "\n",
    "\n",
    "scatter = f.data[0]\n",
    "# colors = ['#a3a7e4'] * 100\n",
    "# scatter.marker.color = colors\n",
    "# scatter.marker.size = [10] * 100\n",
    "# scatter.marker.opacity = 0.5\n",
    "# f.layout.dragmode = 'lasso'\n",
    "\n",
    "idxs_3p = list()\n",
    "\n",
    "# create our callback function\n",
    "def update_point(trace, points, selector):\n",
    "    print('points {}'.format(points.point_inds) )\n",
    "    idxs_3p.extend(points.point_inds)\n",
    "#     c = list(scatter.marker.color)\n",
    "#     s = list(scatter.marker.size)\n",
    "#     for i in points.point_inds:\n",
    "#         c[i] = '#bae2be'\n",
    "#         s[i] = 20\n",
    "#         with f.batch_update():\n",
    "#             scatter.marker.color = c\n",
    "#             scatter.marker.size = s\n",
    "\n",
    "\n",
    "scatter.on_selection(update_point)\n",
    "\n",
    "f"
   ]
  },
  {
   "cell_type": "code",
   "execution_count": null,
   "metadata": {},
   "outputs": [],
   "source": [
    "df_3p = df.iloc[idxs_3p]\n",
    "\n",
    "# idxs_5p = [i for i in range(df.shape[0]) if i not in idxs_3p]\n",
    "# df_5p = df.iloc[idxs_5p]"
   ]
  },
  {
   "cell_type": "code",
   "execution_count": null,
   "metadata": {},
   "outputs": [],
   "source": [
    "# idxs_5p = [i for i in range(df.shape[0]) if i not in idxs_3p]\n",
    "df_5p = df.iloc[idxs_3p]"
   ]
  },
  {
   "cell_type": "code",
   "execution_count": null,
   "metadata": {},
   "outputs": [],
   "source": [
    "df_3p.shape, df_5p.shape"
   ]
  },
  {
   "cell_type": "code",
   "execution_count": null,
   "metadata": {},
   "outputs": [],
   "source": [
    "plot_zones(df_3p, df_5p)"
   ]
  },
  {
   "cell_type": "code",
   "execution_count": null,
   "metadata": {},
   "outputs": [],
   "source": [
    "top_N = 54\n",
    "df_3p_top = df_3p.sort_values('Vol', ascending=False).iloc[:top_N]\n",
    "df_5p_top = df_5p.sort_values('Vol', ascending=False).iloc[:top_N]\n",
    "plot_zones(df_3p_top, df_5p_top)"
   ]
  },
  {
   "cell_type": "code",
   "execution_count": null,
   "metadata": {},
   "outputs": [],
   "source": [
    "def conterpart_dots(df, mass_sum):\n",
    "    df_dst = df.copy()\n",
    "    df_dst.Mass = mass_sum + 18.0106 - df.Mass \n",
    "    return df_dst"
   ]
  },
  {
   "cell_type": "code",
   "execution_count": null,
   "metadata": {},
   "outputs": [],
   "source": [
    "df_paired_3p, df_paired_5p = computational_data_seperation(df_3p, df_5p, endpoint, ignore_endpoints=True)"
   ]
  },
  {
   "cell_type": "code",
   "execution_count": null,
   "metadata": {},
   "outputs": [],
   "source": [
    "df_3p.to_excel('~/Notebooks/data/s1_3p.xlsx')\n",
    "df_5p.to_excel('~/Notebooks/data/s1_5p.xlsx')"
   ]
  },
  {
   "cell_type": "code",
   "execution_count": null,
   "metadata": {},
   "outputs": [],
   "source": [
    "plot_zones(df_paired_3p, df_paired_5p)"
   ]
  },
  {
   "cell_type": "code",
   "execution_count": null,
   "metadata": {},
   "outputs": [],
   "source": [
    "df_bcr, mass_pairs = base_calling_random(pd.concat([df_paired_3p, df_paired_5p]))\n",
    "plot_basecalling(df_bcr, mass_pairs, endpoints=pd.concat([df3_endpoints, df5_endpoints]))"
   ]
  },
  {
   "cell_type": "code",
   "execution_count": null,
   "metadata": {},
   "outputs": [],
   "source": []
  }
 ],
 "metadata": {
  "kernelspec": {
   "display_name": "Python 3",
   "language": "python",
   "name": "python3"
  },
  "language_info": {
   "codemirror_mode": {
    "name": "ipython",
    "version": 3
   },
   "file_extension": ".py",
   "mimetype": "text/x-python",
   "name": "python",
   "nbconvert_exporter": "python",
   "pygments_lexer": "ipython3",
   "version": "3.7.3"
  }
 },
 "nbformat": 4,
 "nbformat_minor": 4
}
