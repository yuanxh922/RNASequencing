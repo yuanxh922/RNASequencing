{
 "cells": [
  {
   "cell_type": "code",
   "execution_count": 1,
   "id": "transsexual-wiring",
   "metadata": {},
   "outputs": [],
   "source": [
    "import pandas as pd\n",
    "import plotly.graph_objects as go"
   ]
  },
  {
   "cell_type": "code",
   "execution_count": 8,
   "id": "patient-thunder",
   "metadata": {},
   "outputs": [],
   "source": [
    "def zone_selection(df, on_selection=None, on_click=None):\n",
    "    \"\"\" df is a pandas DataFrame contains compounds information.\n",
    "        the columns of df contains Mass and RT.\n",
    "    \"\"\"\n",
    "    x = df.Mass\n",
    "    y = df.RT\n",
    "    fig = go.Scatter(x=x, y=y, mode='markers')\n",
    "    f = go.FigureWidget(fig)\n",
    "    scatter = f.data[0]\n",
    "    colors = ['#6371f2'] * df.shape[0]\n",
    "    scatter.marker.color = colors\n",
    "    \n",
    "    def onclick_callback(trace, points, selector):\n",
    "        nonlocal scatter\n",
    "        c = list(scatter.marker.color)\n",
    "        for i in points.point_inds:\n",
    "            c[i] = '#87a14a'\n",
    "            with f.batch_update():\n",
    "                scatter.marker.color = c\n",
    "        \n",
    "        on_click(trace, points, selector)\n",
    "        \n",
    "    if on_selection:\n",
    "        scatter.on_selection(on_selection)\n",
    "    if on_click:\n",
    "        scatter.on_click(onclick_callback)\n",
    "    return f"
   ]
  },
  {
   "cell_type": "code",
   "execution_count": null,
   "id": "rolled-prayer",
   "metadata": {},
   "outputs": [],
   "source": [
    "idxs = list()\n",
    "# create our callback function\n",
    "def on_selection(trace, points, selector):\n",
    "    \"\"\" the callback responds to users' action \n",
    "        if they select a zone using the lasso tool\n",
    "    \"\"\"\n",
    "    idxs.extend(points.point_inds)\n",
    "\n",
    "def on_click(trace, points, selector):\n",
    "    \"\"\" the callback responds to users' action\n",
    "        if they select dots by click on them directly\n",
    "    \"\"\"\n",
    "    idxs.extend(points.point_inds)\n",
    "\n",
    "src = '<path to your data source>' # data source in excel format\n",
    "df = pd.read_excel(src)\n",
    "f = zone_selection(df_sample, on_selection=on_selection, on_click=on_click)\n",
    "f"
   ]
  },
  {
   "cell_type": "code",
   "execution_count": null,
   "id": "outside-passion",
   "metadata": {},
   "outputs": [],
   "source": [
    "df_chosen = df_sample.iloc[idxs]\n",
    "df_5p = df_chosen.copy() # we got candidate dots for 5' ladder\n",
    "# df_3p = df_chosen.copy() # or we got candidate dots for 3' ladder"
   ]
  }
 ],
 "metadata": {
  "kernelspec": {
   "display_name": "Python 3",
   "language": "python",
   "name": "python3"
  },
  "language_info": {
   "codemirror_mode": {
    "name": "ipython",
    "version": 3
   },
   "file_extension": ".py",
   "mimetype": "text/x-python",
   "name": "python",
   "nbconvert_exporter": "python",
   "pygments_lexer": "ipython3",
   "version": "3.7.3"
  }
 },
 "nbformat": 4,
 "nbformat_minor": 5
}
