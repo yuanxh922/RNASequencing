{
 "cells": [
  {
   "cell_type": "code",
   "execution_count": null,
   "id": "contrary-opposition",
   "metadata": {},
   "outputs": [],
   "source": [
    "import pandas as pd\n",
    "import matplotlib\n",
    "# import plotly.express as px\n",
    "import matplotlib.pyplot as plt"
   ]
  },
  {
   "cell_type": "code",
   "execution_count": null,
   "id": "convenient-rolling",
   "metadata": {},
   "outputs": [],
   "source": [
    "%run ../modules/utils.ipynb\n",
    "%run ../modules/preprocessing.ipynb\n",
    "%run ../modules/cds.ipynb"
   ]
  },
  {
   "cell_type": "code",
   "execution_count": null,
   "id": "celtic-invite",
   "metadata": {},
   "outputs": [],
   "source": []
  },
  {
   "cell_type": "code",
   "execution_count": null,
   "id": "optical-pledge",
   "metadata": {},
   "outputs": [],
   "source": [
    "df_noad = pd.read_excel('/Users/bryan/Documents/BioPharmaFinder/ZhangLab/oligossample1.xlsx')\n",
    "df = pd.read_excel('/Users/bryan/Documents/BioPharmaFinder/ZhangLab/Data/Excels/tRNA_Phe_0724.xlsx')\n",
    "df = thermo_df(df)\n",
    "df_noad = thermo_df(df_noad)\n",
    "df_noad.shape, df.shape\n",
    "df_25k_noad = df_noad[(df_noad.Mass > 2.3E4) & (df_noad.Mass < 2.6E4) & (df_noad.Vol > 1E6)] # & (df_noad.Vol > 2E5) \n",
    "df_25k = df[(df.Mass > 2.3E4) & (df.Mass < 3E4) & (df.Vol > 1E6)] #  \n",
    "df_25k_noad.shape, df_25k.shape\n",
    "\n",
    "df_a = df_25k_noad.copy()\n",
    "df_b = df_25k.copy()\n",
    "df_a['isAD'] = False\n",
    "df_b['isAD'] = True\n",
    "df_merge = pd.concat([df_a, df_b])\n",
    "\n",
    "bcr = base_calling_random(df_merge) #, acid_labile=True\n",
    "# print(bcr)\n",
    "plt, fig = plot_basecalling3(*bcr, y='Vol')\n",
    "\n",
    "pre = df_a[df_a.Mass.isin(bcr[0].Mass)]\n",
    "post = df_b[df_b.Mass.isin(bcr[0].Mass)]\n",
    "# plt.scatter(pre.Mass, pre.Vol, marker='o', s=100, color='C0', label='Before Acid Degradation')\n",
    "plt.scatter(post.Mass, post.Vol, marker='s', s=90, color='C0', label='After Acid Degradation')\n",
    "plotly_zone(post, y='Vol')\n",
    "plt.legend()\n",
    "# df_pairs = bcr2df(bcr[1])\n",
    "# output(plt, fig, 'homology_acid_labile')"
   ]
  },
  {
   "cell_type": "code",
   "execution_count": null,
   "id": "international-habitat",
   "metadata": {},
   "outputs": [],
   "source": [
    "# Fig 2 Homology\n",
    "df = pd.read_excel('/Users/bryan/Documents/BioPharmaFinder/Draw/Source/Fig5_homology.xlsx')\n",
    "# plotly_zone(df, y='Vol')\n",
    "bcr = base_calling_random(df, homology=True)\n",
    "print(bcr[1])\n",
    "plt, fig = plot_basecalling3(df, bcr[1], y='Vol', annotate=True)\n",
    "# plt.scatter(df.Mass, df.Vol, marker='o', s=100, color='C0')\n",
    "# plt.scatter(df.Mass, df.Vol, marker='o', s=100, color='b')\n",
    "plt.scatter(24200, 20000, color='white')\n",
    "plt.scatter(24650, 20000, marker='o', s=100, color='white')\n",
    "plt.legend()\n",
    "output(plt, fig, 'homology_ad')"
   ]
  },
  {
   "cell_type": "code",
   "execution_count": null,
   "id": "registered-candle",
   "metadata": {},
   "outputs": [],
   "source": [
    "# post.to_excel('/Users/bryan/Documents/BioPharmaFinder/Draw/Source/Fig5_homology.xlsx')"
   ]
  },
  {
   "cell_type": "code",
   "execution_count": null,
   "id": "sought-round",
   "metadata": {},
   "outputs": [],
   "source": []
  },
  {
   "cell_type": "code",
   "execution_count": null,
   "id": "breeding-national",
   "metadata": {},
   "outputs": [],
   "source": []
  },
  {
   "cell_type": "code",
   "execution_count": null,
   "id": "applied-shoot",
   "metadata": {},
   "outputs": [],
   "source": [
    "def plot_basecalling3(df, mass_pairs, endpoints=pd.DataFrame(), annotate=True, plt=None, y='RT'):\n",
    "#     if in_plt:\n",
    "#         plt = in_plt\n",
    "#     else:\n",
    "    if not plt:\n",
    "        plt = matplotlib.pyplot\n",
    "    fig = plt.figure(figsize=(5, 4))\n",
    "    fig, ax = plt.subplots(1)\n",
    "#     plt.xlabel('Mass (Da)')\n",
    "#     plt.ylabel('Retention Time (min)')\n",
    "    plt.xlabel('Monoisotopic Mass (Da)', fontname=\"Arial\", fontsize=15, color='black')\n",
    "    plt.ylabel('Abandance', fontname=\"Arial\", fontsize=15, color='black')\n",
    "#     plt.xticks(range(0, 25001, 2500), fontname=\"Arial\", size=13, color='black')\n",
    "#     plt.yticks(range(0, 25, 2), fontname=\"Arial\", size=13, color='black')\n",
    "    plt.xticks(fontname=\"Arial\", size=13, color='black')\n",
    "    plt.yticks(fontname=\"Arial\", size=13, color='black')\n",
    "    \n",
    "#     plt.ylabel('')\n",
    "#     ax.xaxis.set_visible(False)\n",
    "#     ax.yaxis.set_visible(False)\n",
    "    vol_max = df.Vol.max()\n",
    "    for idx, row in df.iterrows():\n",
    "        x_pos = row.Mass\n",
    "        y_pos = row[y]\n",
    "        mass = '{:.2f}%'.format(100*row.Vol/vol_max)\n",
    "        plt.scatter(x_pos, y_pos, color='C0')\n",
    "        plt.annotate(text=mass, size=13, xy=(x_pos, y_pos), \n",
    "                     textcoords=\"offset points\", xytext=(10, -20), ha='center')\n",
    "\n",
    "    for t in mass_pairs:\n",
    "        df_pair = df[df.Mass.isin(t)]\n",
    "        if df_pair.empty:\n",
    "            continue\n",
    "        plt.plot(df_pair.Mass, df_pair[y], 'green')\n",
    "        \n",
    "        idmax = df_pair.Mass.idxmax()\n",
    "        x_pos = df_pair.Mass.mean()\n",
    "        y_pos = df_pair[y].mean()\n",
    "        plt.annotate(text=t[2], size=15, xy=(x_pos, y_pos), \n",
    "                     textcoords=\"offset points\", xytext=(-10, 10), ha='center', color='C0')\n",
    "#         plt.annotate(s=t[2], size=15, xy=(df_pair.loc[idmax].Mass, df_pair.loc[idmax].RT), \n",
    "#                      textcoords=\"offset points\", xytext=(-10, 10), ha='center', color='C0')\n",
    "        \n",
    "        if not annotate:\n",
    "            continue\n",
    "            \n",
    "#         mass = '{:.2f}'.format(df_pair.loc[idmax].Mass)\n",
    "#         plt.annotate(s=mass, size=13, xy=(df_pair.loc[idmax].Mass, df_pair.loc[idmax].RT), \n",
    "#                      textcoords=\"offset points\", xytext=(10, -20), ha='center')\n",
    "#         print(mass_pairs, df_pair)\n",
    "#         mass = '{:.2f}'.format(df_pair.iloc[0].Mass)\n",
    "#         plt.annotate(text=mass, size=13, xy=(df_pair.iloc[0].Mass, df_pair.iloc[0][y]), \n",
    "#                      textcoords=\"offset points\", xytext=(10, -20), ha='center')\n",
    "#         mass = '{:.2f}'.format(df_pair.iloc[1].Mass)\n",
    "#         plt.annotate(text=mass, size=13, xy=(df_pair.iloc[1].Mass, df_pair.iloc[1][y]), \n",
    "#                      textcoords=\"offset points\", xytext=(10, -20), ha='center')\n",
    "\n",
    "    if not endpoints.empty:\n",
    "        plt.scatter(endpoints.Mass, endpoints.RT, color='r')\n",
    "        print(endpoints[['Mass', 'RT', 'Vol']])\n",
    "#     plt.show()\n",
    "    return plt, fig"
   ]
  },
  {
   "cell_type": "code",
   "execution_count": null,
   "id": "painful-correction",
   "metadata": {},
   "outputs": [],
   "source": [
    "def output(plt, fig, svg_name, transparent=True):\n",
    "    fig.tight_layout()\n",
    "    plt.savefig(f'/Users/bryan/Documents/BioPharmaFinder/Draw/Outputs_Fig5/{svg_name}.svg', dpi=300, transparent=transparent)\n",
    "\n"
   ]
  },
  {
   "cell_type": "code",
   "execution_count": null,
   "id": "large-monthly",
   "metadata": {},
   "outputs": [],
   "source": []
  }
 ],
 "metadata": {
  "kernelspec": {
   "display_name": "Python 3",
   "language": "python",
   "name": "python3"
  },
  "language_info": {
   "codemirror_mode": {
    "name": "ipython",
    "version": 3
   },
   "file_extension": ".py",
   "mimetype": "text/x-python",
   "name": "python",
   "nbconvert_exporter": "python",
   "pygments_lexer": "ipython3",
   "version": "3.7.3"
  }
 },
 "nbformat": 4,
 "nbformat_minor": 5
}
