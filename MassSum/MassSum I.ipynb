{
 "cells": [
  {
   "cell_type": "code",
   "execution_count": null,
   "metadata": {},
   "outputs": [],
   "source": [
    "import pandas as pd\n",
    "import numpy as np\n",
    "import matplotlib\n",
    "import plotly.express as px\n",
    "import plotly.graph_objects as go\n",
    "import matplotlib.pyplot as plt\n",
    "from collections import namedtuple\n",
    "import networkx as nx\n",
    "import random"
   ]
  },
  {
   "cell_type": "code",
   "execution_count": null,
   "metadata": {},
   "outputs": [],
   "source": [
    "%run ../modules/utils.ipynb\n",
    "%run ../modules/cds.ipynb\n",
    "%run ../modules/preprocessing.ipynb"
   ]
  },
  {
   "cell_type": "code",
   "execution_count": null,
   "metadata": {},
   "outputs": [],
   "source": [
    "df_phe = pd.read_excel('/Users/bryan/Documents/BioPharmaFinder/ZhangLab/Data/Excels/tRNA_Phe_0724.xlsx')\n",
    "print(df_phe.shape)\n",
    "df_phe = thermo_df(df_phe)\n",
    "plot_zone(df_phe)"
   ]
  },
  {
   "cell_type": "code",
   "execution_count": null,
   "metadata": {},
   "outputs": [],
   "source": [
    "df_phe.to_excel('/home/bryan/Downloads/tRNA_Phe_0724_std.xlsx')"
   ]
  },
  {
   "cell_type": "markdown",
   "metadata": {},
   "source": [
    "# Split 3' and 5' Dots"
   ]
  },
  {
   "cell_type": "code",
   "execution_count": null,
   "metadata": {},
   "outputs": [],
   "source": [
    "idxs = list()\n",
    "# create our callback function\n",
    "def on_selection(trace, points, selector):\n",
    "    print('points {}'.format(points.point_inds) )\n",
    "    idxs.extend(points.point_inds)\n",
    "\n",
    "def on_click(trace, points, selector):\n",
    "#     print('points {}'.format(points.point_inds) )\n",
    "    idxs.extend(points.point_inds)\n",
    "\n",
    "df_sample = df_phe[df_phe.Mass < 25000]\n",
    "f = zone_selection(df_sample, on_selection=on_selection, on_click=on_click)\n",
    "f"
   ]
  },
  {
   "cell_type": "code",
   "execution_count": null,
   "metadata": {},
   "outputs": [],
   "source": [
    "df_chosen = df_sample.iloc[idxs]\n",
    "df_chosen.shape"
   ]
  },
  {
   "cell_type": "code",
   "execution_count": null,
   "metadata": {},
   "outputs": [],
   "source": [
    "df_5p = df_chosen\n",
    "df_5p.shape"
   ]
  },
  {
   "cell_type": "code",
   "execution_count": null,
   "metadata": {},
   "outputs": [],
   "source": [
    "df_3p = df_chosen\n",
    "df_3p.shape"
   ]
  },
  {
   "cell_type": "markdown",
   "metadata": {},
   "source": [
    "# Put&Get Splitted Ladder"
   ]
  },
  {
   "cell_type": "code",
   "execution_count": null,
   "metadata": {},
   "outputs": [],
   "source": [
    "df_5p.to_excel('/Users/bryan/Downloads/phe5p.xlsx')\n",
    "df_3p.to_excel('/Users/bryan/Downloads/phe3p.xlsx')"
   ]
  },
  {
   "cell_type": "code",
   "execution_count": null,
   "metadata": {},
   "outputs": [],
   "source": [
    "df_5p = pd.read_excel('/Users/bryan/Downloads/phe5p.xlsx')\n",
    "df_3p = pd.read_excel('/Users/bryan/Downloads/phe3p.xlsx')\n",
    "df_5p.shape, df_3p.shape"
   ]
  },
  {
   "cell_type": "code",
   "execution_count": null,
   "metadata": {},
   "outputs": [],
   "source": [
    "df_5p = df_5p[df_5p.Vol > 1E5]\n",
    "df_3p = df_3p[df_3p.Vol > 1E5]\n",
    "df_5p.shape, df_3p.shape"
   ]
  },
  {
   "cell_type": "markdown",
   "metadata": {},
   "source": [
    "# 25k Dots and their connections"
   ]
  },
  {
   "cell_type": "code",
   "execution_count": null,
   "metadata": {},
   "outputs": [],
   "source": [
    "df_phe_25k = df_phe[(df_phe.Mass > 23500) & (df_phe.Mass < 25000) & (df_phe.Vol > 1E6)]\n",
    "px.scatter(x=df_phe_25k.Mass, y=df_phe_25k.Vol)"
   ]
  },
  {
   "cell_type": "markdown",
   "metadata": {},
   "source": [
    "# Generate ladders by MassSum"
   ]
  },
  {
   "cell_type": "code",
   "execution_count": null,
   "metadata": {},
   "outputs": [],
   "source": [
    "full_mass = 24581.374101 \n",
    "df_3p_cca, df_5p_cca = computational_data_seperation(df_3p, df_5p, full_mass, ignore_endpoints=True)\n",
    "plot_zones(df_5p_cca, df_3p_cca)"
   ]
  },
  {
   "cell_type": "markdown",
   "metadata": {},
   "source": [
    "# Refine 5' ladder"
   ]
  },
  {
   "cell_type": "code",
   "execution_count": null,
   "metadata": {},
   "outputs": [],
   "source": [
    "idxs = list()\n",
    "# create our callback function\n",
    "def on_selection(trace, points, selector):\n",
    "    print('points {}'.format(points.point_inds) )\n",
    "    idxs.extend(points.point_inds)\n",
    "\n",
    "def on_click(trace, points, selector):\n",
    "#     print('points {}'.format(points.point_inds) )\n",
    "    idxs.extend(points.point_inds)\n",
    "\n",
    "df_sample = df_5p_cca\n",
    "f = zone_selection(df_sample, on_selection=on_selection, on_click=on_click)\n",
    "f"
   ]
  },
  {
   "cell_type": "code",
   "execution_count": null,
   "metadata": {},
   "outputs": [],
   "source": [
    "df_chosen = df_sample.iloc[idxs]\n",
    "df_5p_cca_ref = df_sample.drop(df_chosen.index)\n",
    "df_5p_cca_ref.shape\n",
    "plot_zone(df_5p_cca_ref)"
   ]
  },
  {
   "cell_type": "markdown",
   "metadata": {},
   "source": [
    "# Mutual Verification"
   ]
  },
  {
   "cell_type": "code",
   "execution_count": null,
   "metadata": {},
   "outputs": [],
   "source": [
    "df_5p_cca_ref['Hit'] = 0\n",
    "len = df_5p_cca_ref.shape[0]\n",
    "for i in range(len):\n",
    "    print('Processing {}'.format(df_5p_cca_ref.iloc[i].Mass))\n",
    "    count = 0\n",
    "    j_pool = set()\n",
    "    while count < 5:\n",
    "        j = random.randint(0, len-1)\n",
    "        if j == i or j in j_pool:\n",
    "            continue\n",
    "#         print('i {} j {}, len {}'.format(i, j, len))\n",
    "        diff = abs(df_5p_cca_ref.iloc[i].Mass - df_5p_cca_ref.iloc[j].Mass)\n",
    "        if diff < 400 or diff > 3000:\n",
    "            continue\n",
    "            \n",
    "        j_pool.add(j)\n",
    "        \n",
    "        print('--handle Mass {}'.format( df_5p_cca_ref.iloc[j].Mass))\n",
    "        df_condidates = components(diff)\n",
    "        print(df_condidates)\n",
    "        if not df_condidates.empty:\n",
    "            print('Hit index {}.'.format(i))\n",
    "            df_5p_cca_ref['Hit'].iloc[i] += 1\n",
    "        \n",
    "        count += 1\n",
    "\n",
    "print(df_5p_cca_ref)\n",
    "    "
   ]
  },
  {
   "cell_type": "code",
   "execution_count": null,
   "metadata": {},
   "outputs": [],
   "source": [
    "df_5p_cca_ref[df_5p_cca_ref.Hit>2].sort_values('Mass')"
   ]
  },
  {
   "cell_type": "code",
   "execution_count": null,
   "metadata": {},
   "outputs": [],
   "source": [
    "components(918.0750643431002)"
   ]
  },
  {
   "cell_type": "code",
   "execution_count": null,
   "metadata": {},
   "outputs": [],
   "source": [
    "plot_zones(df_5p_cca_ref, df_5p_cca_ref[df_5p_cca_ref.Hit>2])"
   ]
  },
  {
   "cell_type": "code",
   "execution_count": null,
   "metadata": {},
   "outputs": [],
   "source": [
    "bcr = base_calling_random(df_5p_cca_ref[df_5p_cca_ref.Hit > 2])\n",
    "plt, _ = plot_basecalling(*bcr, annotate=False)\n",
    "tmp = df_5p_cca_ref[df_5p_cca_ref.Hit>2]\n",
    "# plt.scatter(tmp.Mass, tmp.RT)"
   ]
  },
  {
   "cell_type": "code",
   "execution_count": null,
   "metadata": {},
   "outputs": [],
   "source": [
    "px.scatter(df_sample_refine, x='Mass', y='RT')"
   ]
  },
  {
   "cell_type": "markdown",
   "metadata": {},
   "source": [
    "# Put Mass Ladder into Seats"
   ]
  },
  {
   "cell_type": "code",
   "execution_count": null,
   "metadata": {},
   "outputs": [],
   "source": [
    "df_5p_cca_ref[df_5p_cca_ref.Hit<=3]"
   ]
  },
  {
   "cell_type": "code",
   "execution_count": null,
   "metadata": {},
   "outputs": [],
   "source": [
    "df_5p_cca_ref[df_5p_cca_ref.Hit>0].to_excel('/home/bryan/Downloads/phe_5p_cca_ref.xlsx')"
   ]
  },
  {
   "cell_type": "code",
   "execution_count": null,
   "metadata": {},
   "outputs": [],
   "source": [
    "df_5p_cca_ref = pd.read_excel('/home/bryan/Downloads/phe_5p_cca_ref.xlsx')"
   ]
  },
  {
   "cell_type": "code",
   "execution_count": null,
   "metadata": {},
   "outputs": [],
   "source": [
    "tmp = df_5p_cca_ref[df_5p_cca_ref.Hit>2]\n",
    "process_mass_seats(tmp, full_mass)"
   ]
  },
  {
   "cell_type": "markdown",
   "metadata": {},
   "source": [
    "# Fill in the Gap"
   ]
  },
  {
   "cell_type": "code",
   "execution_count": null,
   "metadata": {},
   "outputs": [],
   "source": [
    "fullmass_dot = df_5p[(df_5p.Mass>full_mass-0.1) & (df_5p.Mass<full_mass+0.1)]"
   ]
  },
  {
   "cell_type": "code",
   "execution_count": null,
   "metadata": {},
   "outputs": [],
   "source": [
    "fullmass_dot"
   ]
  },
  {
   "cell_type": "code",
   "execution_count": null,
   "metadata": {},
   "outputs": [],
   "source": [
    "%run ../modules/utils.ipynb"
   ]
  },
  {
   "cell_type": "code",
   "execution_count": null,
   "metadata": {},
   "outputs": [],
   "source": [
    "TAG_5P = 79.9663\n",
    "TAG_3OH = 18.0106\n",
    "\n",
    "df_sample = df_5p_cca_ref.copy()\n",
    "df_sample = df_sample.sort_values('Mass', ascending=False)\n",
    "idxs = list()\n",
    "for idx, row in df_sample.iterrows():\n",
    "    print('Processing backward {}'.format(row.Mass))\n",
    "    columns = ['Mass', 'RT', 'Vol']\n",
    "    df_ends = pd.DataFrame(index=[0, 1], columns=columns)\n",
    "    if not idxs:\n",
    "        # handle gap between TAG and the last dot(fullmass dot)\n",
    "        pre = fullmass_dot.iloc[0]['Mass'] + TAG_5P\n",
    "        df_ends.iloc[0] = fullmass_dot.iloc[0][columns]\n",
    "        df_ends.iloc[1]['Mass'] += TAG_5P\n",
    "    else:\n",
    "        pre = df_sample.loc[idxs[-1]].Mass\n",
    "        df_ends.iloc[0] = df_sample.loc[idxs[-1]][columns]\n",
    "    \n",
    "    print('components {}-{}'.format(row.Mass, pre))\n",
    "    res = components(row.Mass - pre)\n",
    "    if not res.empty:\n",
    "        # keep this dot\n",
    "        print('keep this dot {}'.format(row.Mass))\n",
    "        idxs.append(idx)\n",
    "        \n",
    "df_sample_refine = df_sample.loc[idxs].copy()\n",
    "print(df_sample.shape, df_sample_refine.shape)\n",
    "\n",
    "df_sample_refine = df_sample_refine.sort_values('Mass')\n",
    "\n",
    "idxs = list()\n",
    "gap_idxs = list()\n",
    "for idx, row in df_sample_refine.iterrows():\n",
    "    print('Processing forward {}'.format(row.Mass))\n",
    "    columns = ['Mass', 'RT', 'Vol']\n",
    "    df_ends = pd.DataFrame(index=[0, 1], columns=columns)\n",
    "    \n",
    "    is_first = True if not idxs else False\n",
    "    if is_first:\n",
    "        # handle gap between TAG and the first dot\n",
    "        pre = TAG_5P + TAG_3OH\n",
    "        df_ends.iloc[0] = [pre, 0.001, 0]\n",
    "    else:\n",
    "        pre = df_sample.loc[idxs[-1]].Mass\n",
    "        df_ends.iloc[0] = df_sample.loc[idxs[-1]][columns]\n",
    "    \n",
    "    is_last = True if idx == df_sample_refine.index[-1] else False\n",
    "    if not is_last and row.Mass - pre < 600:\n",
    "        continue\n",
    "    print('components {}-{}'.format(row.Mass, pre))\n",
    "    res = components(row.Mass - pre)\n",
    "    if not res.empty:\n",
    "        # keep this dot, and fill in the gap\n",
    "        print('keep this dot {}'.format(row.Mass))\n",
    "        idxs.append(idx)\n",
    "#         continue\n",
    "        df_ends.iloc[1] = row[columns]\n",
    "#         print(df_ends, df_ends.info())\n",
    "        df_ends = df_ends.astype(float)\n",
    "        df_alones = standalone_dots(df_5p, df_ends, mode='all')\n",
    "        if not df_alones.empty:\n",
    "            print('extend dots ', df_alones)\n",
    "            gap_idxs.extend(df_alones.index)\n",
    "#         print(df_alones)\n",
    "\n",
    "    if is_last:\n",
    "        df_ends.iloc[0] = df_sample.loc[idxs[-1]][columns]\n",
    "        df_ends.iloc[1] = fullmass_dot.iloc[0][columns]\n",
    "        df_ends.iloc[1]['Mass'] += TAG_5P\n",
    "        print('Processing the last item. {}'.format(df_ends))\n",
    "        df_alones = standalone_dots(df_5p, df_ends, mode='all')\n",
    "        if not df_alones.empty:\n",
    "            print('extend dots ', df_alones)\n",
    "            gap_idxs.extend(df_alones.index)\n",
    "        \n",
    "        # append the fullmass dot\n",
    "        gap_idxs.append(fullmass_dot.index[0])\n",
    "\n",
    "print(gap_idxs)\n",
    "print(df_5p.loc[gap_idxs])"
   ]
  },
  {
   "cell_type": "code",
   "execution_count": null,
   "metadata": {},
   "outputs": [],
   "source": [
    "px.scatter(df_sample_refine, x='Mass', y='RT')"
   ]
  },
  {
   "cell_type": "code",
   "execution_count": null,
   "metadata": {},
   "outputs": [],
   "source": [
    "df_5p[(df_5p.Mass > 3014.34251378776) & (df_5p.Mass < 4006.45213)]"
   ]
  },
  {
   "cell_type": "code",
   "execution_count": null,
   "metadata": {},
   "outputs": [],
   "source": [
    "df_gap_dots = df_5p.loc[gap_idxs]\n",
    "df_gap_dots"
   ]
  },
  {
   "cell_type": "code",
   "execution_count": null,
   "metadata": {},
   "outputs": [],
   "source": [
    "df_gap_dots_a = df_gap_dots.copy()"
   ]
  },
  {
   "cell_type": "code",
   "execution_count": null,
   "metadata": {},
   "outputs": [],
   "source": [
    "df_gap_dots_odd = df_gap_dots.copy()"
   ]
  },
  {
   "cell_type": "code",
   "execution_count": null,
   "metadata": {},
   "outputs": [],
   "source": [
    "df_gap_dots_even = df_gap_dots.copy()"
   ]
  },
  {
   "cell_type": "code",
   "execution_count": null,
   "metadata": {},
   "outputs": [],
   "source": [
    "plot_zones(df_gap_dots, df_sample_refine)"
   ]
  },
  {
   "cell_type": "code",
   "execution_count": null,
   "metadata": {},
   "outputs": [],
   "source": [
    "df_merge = pd.concat([df_sample, df_gap_dots])\n",
    "df_merge = df_merge.sort_values('Mass')\n",
    "df_merge.to_excel('~/Downloads/phe_5p_cca_res.xlsx')"
   ]
  },
  {
   "cell_type": "code",
   "execution_count": null,
   "metadata": {},
   "outputs": [],
   "source": []
  },
  {
   "cell_type": "markdown",
   "metadata": {},
   "source": [
    "# Presentation"
   ]
  },
  {
   "cell_type": "code",
   "execution_count": null,
   "metadata": {},
   "outputs": [],
   "source": [
    "plt = plot_zone(df_5p_cca)\n",
    "plt.savefig('/home/bryan/Downloads/Jan27/cca_5p.png', transparent=True)"
   ]
  },
  {
   "cell_type": "code",
   "execution_count": null,
   "metadata": {},
   "outputs": [],
   "source": [
    "plt = plot_zone(df_sample_refine)\n",
    "plt.savefig('/home/bryan/Downloads/Jan27/cca_5p_ref.png', transparent=True)"
   ]
  },
  {
   "cell_type": "code",
   "execution_count": null,
   "metadata": {},
   "outputs": [],
   "source": [
    "plt = plot_zones(df_gap_dots, df_sample_refine, shift_color=True)\n",
    "plt.savefig('/home/bryan/Downloads/Jan27/cca_5p_ref_fill.png', transparent=True)"
   ]
  },
  {
   "cell_type": "code",
   "execution_count": null,
   "metadata": {},
   "outputs": [],
   "source": [
    "%run ../modules/utils.ipynb"
   ]
  },
  {
   "cell_type": "code",
   "execution_count": null,
   "metadata": {},
   "outputs": [],
   "source": []
  }
 ],
 "metadata": {
  "kernelspec": {
   "display_name": "Python 3",
   "language": "python",
   "name": "python3"
  },
  "language_info": {
   "codemirror_mode": {
    "name": "ipython",
    "version": 3
   },
   "file_extension": ".py",
   "mimetype": "text/x-python",
   "name": "python",
   "nbconvert_exporter": "python",
   "pygments_lexer": "ipython3",
   "version": "3.7.3"
  }
 },
 "nbformat": 4,
 "nbformat_minor": 4
}
