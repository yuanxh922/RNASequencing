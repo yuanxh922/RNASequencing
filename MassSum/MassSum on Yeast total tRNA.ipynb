{
 "cells": [
  {
   "cell_type": "code",
   "execution_count": null,
   "metadata": {},
   "outputs": [],
   "source": [
    "import pandas as pd\n",
    "import matplotlib\n",
    "import matplotlib.pyplot as plt\n",
    "import plotly.express as px"
   ]
  },
  {
   "cell_type": "code",
   "execution_count": null,
   "metadata": {},
   "outputs": [],
   "source": [
    "%run ../modules/utils.ipynb\n",
    "%run ../modules/cds.ipynb\n",
    "%run ../modules/preprocessing.ipynb"
   ]
  },
  {
   "cell_type": "code",
   "execution_count": null,
   "metadata": {},
   "outputs": [],
   "source": [
    "df_total = pd.read_excel('/Users/bryan/Documents/BioPharmaFinder/ZhangLab/total_tRNA_acid_deg.xlsx')\n",
    "df_total = thermo_df(df_total)\n",
    "plotly_zone(df_total)\n",
    "df_total.shape"
   ]
  },
  {
   "cell_type": "code",
   "execution_count": null,
   "metadata": {},
   "outputs": [],
   "source": [
    "df_noad = pd.read_excel('/Users/bryan/Documents/BioPharmaFinder/ZhangLab/Data/Excels/total_tRNA_no_acid_deg.xlsx')\n",
    "df_noad = thermo_df(df_noad)\n",
    "plotly_zone(df_noad)\n",
    "df_noad.shape"
   ]
  },
  {
   "cell_type": "code",
   "execution_count": null,
   "metadata": {},
   "outputs": [],
   "source": [
    "df_noad_25k = df_noad[(df_noad.Mass > 23000)]\n",
    "plotly_zone(df_noad_25k, y='Vol')"
   ]
  },
  {
   "cell_type": "code",
   "execution_count": null,
   "metadata": {},
   "outputs": [],
   "source": [
    "bcr = base_calling_random(df_noad_25k, silence=True)\n",
    "plotly_basecalling(*bcr)"
   ]
  },
  {
   "cell_type": "code",
   "execution_count": null,
   "metadata": {},
   "outputs": [],
   "source": [
    "df_25k = df_total[(df_total.Mass > 23000) & (df_total.Vol > 1E5)]\n",
    "px.scatter(x=df_25k.Mass, y=df_25k.Vol)"
   ]
  },
  {
   "cell_type": "code",
   "execution_count": null,
   "metadata": {},
   "outputs": [],
   "source": [
    "bcr = base_calling_random(df_25k, silence=True)\n",
    "plotly_basecalling(*bcr)\n",
    "# plt.savefig('/Users/bryan/Documents/Presentations/Feb 3 2021/25k_bc.png', transparent=True)"
   ]
  },
  {
   "cell_type": "code",
   "execution_count": null,
   "metadata": {},
   "outputs": [],
   "source": [
    "df = df_total[df_total.Mass < 20000]\n",
    "plotly_zone(df)"
   ]
  },
  {
   "cell_type": "code",
   "execution_count": null,
   "metadata": {},
   "outputs": [],
   "source": [
    "idxs = list()\n",
    "# create our callback function\n",
    "def on_selection(trace, points, selector):\n",
    "    print('points {}'.format(points.point_inds) )\n",
    "    idxs.extend(points.point_inds)\n",
    "\n",
    "def on_click(trace, points, selector):\n",
    "#     print('points {}'.format(points.point_inds) )\n",
    "    idxs.extend(points.point_inds)\n",
    "\n",
    "df_sample = df\n",
    "f = zone_selection(df_sample, on_selection=on_selection, on_click=on_click)\n",
    "f"
   ]
  },
  {
   "cell_type": "code",
   "execution_count": null,
   "metadata": {},
   "outputs": [],
   "source": [
    "df_chosen = df_sample.iloc[idxs]\n",
    "df_chosen.shape"
   ]
  },
  {
   "cell_type": "code",
   "execution_count": null,
   "metadata": {},
   "outputs": [],
   "source": [
    "df_5p = df_chosen\n",
    "df_5p.shape"
   ]
  },
  {
   "cell_type": "code",
   "execution_count": null,
   "metadata": {},
   "outputs": [],
   "source": [
    "df_3p = df_chosen\n",
    "df_3p.shape"
   ]
  },
  {
   "cell_type": "code",
   "execution_count": null,
   "metadata": {},
   "outputs": [],
   "source": [
    "full_mass = 23904.24\n",
    "df_3p_23904, df_5p_23904 = computational_data_seperation(df_3p, df_5p, full_mass, ignore_endpoints=True)\n",
    "plotly_zones(df_5p_23904, df_3p_23904)\n",
    "df_23904 = pd.concat([df_3p_23904, df_5p_23904]).drop_duplicates()\n",
    "df_23904.shape"
   ]
  },
  {
   "cell_type": "code",
   "execution_count": null,
   "metadata": {},
   "outputs": [],
   "source": [
    "full_mass = 24233.28\n",
    "df_3p_24233, df_5p_24233 = computational_data_seperation(df_3p, df_5p, full_mass, ignore_endpoints=True)\n",
    "plotly_zones(df_5p_24233, df_3p_24233)\n",
    "df_24233 = pd.concat([df_3p_24233, df_5p_24233]).drop_duplicates()\n",
    "df_24233.shape"
   ]
  },
  {
   "cell_type": "code",
   "execution_count": null,
   "metadata": {},
   "outputs": [],
   "source": [
    "full_mass = 23599.19\n",
    "df_3p_23599, df_5p_23599 = computational_data_seperation(df_3p, df_5p, full_mass, ignore_endpoints=True)\n",
    "plotly_zones(df_5p_23599, df_3p_23599)\n",
    "df_23599 = pd.concat([df_3p_23599, df_5p_23599]).drop_duplicates()\n",
    "df_23599.shape"
   ]
  },
  {
   "cell_type": "code",
   "execution_count": null,
   "metadata": {},
   "outputs": [],
   "source": [
    "full_mass = 24287.35\n",
    "df_3p_24287, df_5p_24287 = computational_data_seperation(df_3p, df_5p, full_mass, ignore_endpoints=True)\n",
    "plotly_zones(df_5p_24287, df_3p_24287)\n",
    "df_24287 = pd.concat([df_3p_24287, df_5p_24287]).drop_duplicates()\n",
    "df_24287.shape"
   ]
  },
  {
   "cell_type": "code",
   "execution_count": null,
   "metadata": {},
   "outputs": [],
   "source": [
    "full_mass =  23688.23 #24272.32 #24428.38 # ## #\n",
    "df_3p_27657, df_5p_27657 = computational_data_seperation(df_3p, df_5p, full_mass, ignore_endpoints=True)\n",
    "plotly_zone(df_5p_27657)\n",
    "df_27657 = pd.concat([df_3p_27657, df_5p_27657]).drop_duplicates()\n",
    "df_27657.shape"
   ]
  },
  {
   "cell_type": "code",
   "execution_count": null,
   "metadata": {},
   "outputs": [],
   "source": [
    "df_merge_23904 = pd.concat([df_5p_23904, df_5p_24233, df_5p_23599]).drop_duplicates()\n",
    "plotly_zone(df_merge_23904, y='RT')"
   ]
  },
  {
   "cell_type": "code",
   "execution_count": null,
   "metadata": {},
   "outputs": [],
   "source": [
    "df_merge = df_5p_27657\n",
    "# full_mass = 23962.2\n",
    "\n",
    "bcr = base_calling_random(df_merge, silence=True)\n",
    "plotly_basecalling(*bcr)\n",
    "df_seats = process_mass_base_seats(df_merge, bcr[1], full_mass=full_mass)\n",
    "df_seats.shape\n",
    "df_seats.to_excel('/Users/bryan/Documents/BioPharmaFinder/ZhangLab/MassSum/tRNA_Total/seats.xlsx')"
   ]
  },
  {
   "cell_type": "code",
   "execution_count": null,
   "metadata": {},
   "outputs": [],
   "source": [
    "df_mid_gap = dots_in_mid_gap(df_5p, 8473.104757, 9552.270563)\n",
    "df_mid_gap.shape"
   ]
  },
  {
   "cell_type": "code",
   "execution_count": null,
   "metadata": {},
   "outputs": [],
   "source": [
    "df_tmp = df_5p[(df_5p.Mass>9790.2) & (df_5p.Mass < 9790.35)]\n",
    "df_tmp"
   ]
  },
  {
   "cell_type": "code",
   "execution_count": null,
   "metadata": {},
   "outputs": [],
   "source": [
    "plotly_multi_zones([df_merge, df_mid_gap])\n",
    "# plotly_multi_zones([df_5p_24416, df_5p_24087, df_left_gap])"
   ]
  },
  {
   "cell_type": "code",
   "execution_count": null,
   "metadata": {},
   "outputs": [],
   "source": [
    "components(659.0890242)"
   ]
  },
  {
   "cell_type": "code",
   "execution_count": null,
   "metadata": {},
   "outputs": [],
   "source": []
  }
 ],
 "metadata": {
  "kernelspec": {
   "display_name": "Python 3",
   "language": "python",
   "name": "python3"
  },
  "language_info": {
   "codemirror_mode": {
    "name": "ipython",
    "version": 3
   },
   "file_extension": ".py",
   "mimetype": "text/x-python",
   "name": "python",
   "nbconvert_exporter": "python",
   "pygments_lexer": "ipython3",
   "version": "3.7.3"
  }
 },
 "nbformat": 4,
 "nbformat_minor": 4
}
