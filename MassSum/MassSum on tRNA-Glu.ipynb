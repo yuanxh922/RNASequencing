{
 "cells": [
  {
   "cell_type": "code",
   "execution_count": null,
   "metadata": {},
   "outputs": [],
   "source": [
    "import pandas as pd\n",
    "import matplotlib\n",
    "import matplotlib.pyplot as plt\n",
    "import plotly.express as px"
   ]
  },
  {
   "cell_type": "code",
   "execution_count": null,
   "metadata": {},
   "outputs": [],
   "source": [
    "%run ../modules/utils.ipynb\n",
    "%run ../modules/cds.ipynb\n",
    "%run ../modules/preprocessing.ipynb"
   ]
  },
  {
   "cell_type": "code",
   "execution_count": null,
   "metadata": {},
   "outputs": [],
   "source": [
    "df_noad = pd.read_excel('/Users/bryan/Documents/BioPharmaFinder/BaoLab/FirstBatch/Excels/UTMB1.xlsx')\n",
    "df_noad = thermo_df(df_noad)\n",
    "df_noad.shape"
   ]
  },
  {
   "cell_type": "code",
   "execution_count": null,
   "metadata": {},
   "outputs": [],
   "source": [
    "df_noad_top = df_noad[(df_noad.Mass > 24000) & (df_noad.Vol > 0.1 * 1E6)]\n",
    "plotly_zone(df_noad_top, y='Vol')"
   ]
  },
  {
   "cell_type": "code",
   "execution_count": null,
   "metadata": {},
   "outputs": [],
   "source": [
    "df_tmp = df_24302.copy()\n",
    "df_tmp.Mass += 28\n",
    "df_comm_302_330 = match_dfs(df_tmp, df_24330)\n",
    "df_comm_302_330.shape\n",
    "plotly_zone(df_comm_302_330)\n",
    "bcr = base_calling_random(df_comm_302_330, silence=True)\n",
    "plotly_basecalling(*bcr)"
   ]
  },
  {
   "cell_type": "code",
   "execution_count": null,
   "metadata": {},
   "outputs": [],
   "source": [
    "df_comm_274_302 = match_dfs(df_24274, df_24302)\n",
    "plotly_zone(df_comm_274_302)\n",
    "df_comm_274_302.shape\n",
    "bcr = base_calling_random(df_comm_274_302, silence=True)\n",
    "plotly_basecalling(*bcr)"
   ]
  },
  {
   "cell_type": "code",
   "execution_count": null,
   "metadata": {},
   "outputs": [],
   "source": [
    "# df_phe = pd.read_excel('/Users/bryan/Documents/BioPharmaFinder/ZhangLab/Data/Excels/tRNA_Phe_0724.xlsx')\n",
    "df_glu = pd.read_excel('/Users/bryan/Documents/BioPharmaFinder/BaoLab/FirstBatch/Excels/S2to5combined_20ul_40min.xlsx')\n",
    "df_glu = thermo_df(df_glu)\n",
    "df_glu.shape\n",
    "plotly_zone(df_glu)"
   ]
  },
  {
   "cell_type": "code",
   "execution_count": null,
   "metadata": {},
   "outputs": [],
   "source": [
    "df_3p = df_5p = df_glu"
   ]
  },
  {
   "cell_type": "code",
   "execution_count": null,
   "metadata": {},
   "outputs": [],
   "source": [
    "full_mass = 24302.22 #5984.87154  #24189.23 #24245.225 #24941.525 #24252.315242 #24581.374101 \n",
    "df_3p_24302, df_5p_24302 = computational_data_seperation(df_3p, df_5p, full_mass, ignore_endpoints=True, has_tag=False)\n",
    "plotly_zones(df_5p_24302, df_3p_24302)\n",
    "df_24302 = pd.concat([df_3p_24302, df_5p_24302]).drop_duplicates()\n",
    "df_24302.shape"
   ]
  },
  {
   "cell_type": "code",
   "execution_count": null,
   "metadata": {},
   "outputs": [],
   "source": [
    "full_mass = 24330.15 #5984.87154  #24189.23 #24245.225 #24941.525 #24252.315242 #24581.374101 \n",
    "df_3p_24330, df_5p_24330 = computational_data_seperation(df_3p, df_5p, full_mass, ignore_endpoints=True, has_tag=False)\n",
    "plotly_zones(df_5p_24330, df_3p_24330)\n",
    "df_24330 = pd.concat([df_3p_24330, df_5p_24330]).drop_duplicates()\n",
    "df_24330.shape"
   ]
  },
  {
   "cell_type": "code",
   "execution_count": null,
   "metadata": {},
   "outputs": [],
   "source": [
    "full_mass = 24260.2 #5984.87154  #24189.23 #24245.225 #24941.525 #24252.315242 #24581.374101 \n",
    "df_3p_24260, df_5p_24260 = computational_data_seperation(df_3p, df_5p, full_mass, ignore_endpoints=True, has_tag=False)\n",
    "plotly_zones(df_5p_24260, df_3p_24260)\n",
    "df_24260 = pd.concat([df_3p_24260, df_5p_24260]).drop_duplicates()\n",
    "df_24260.shape"
   ]
  },
  {
   "cell_type": "code",
   "execution_count": null,
   "metadata": {},
   "outputs": [],
   "source": [
    "full_mass = 24274.22 #5984.87154  #24189.23 #24245.225 #24941.525 #24252.315242 #24581.374101 \n",
    "df_3p_24274, df_5p_24274 = computational_data_seperation(df_3p, df_5p, full_mass, ignore_endpoints=True, has_tag=False)\n",
    "plotly_zones(df_5p_24274, df_3p_24274)\n",
    "df_24274 = pd.concat([df_3p_24274, df_5p_24274]).drop_duplicates()\n",
    "df_24274.shape"
   ]
  },
  {
   "cell_type": "code",
   "execution_count": null,
   "metadata": {},
   "outputs": [],
   "source": [
    "full_mass = 24288.21 #5984.87154  #24189.23 #24245.225 #24941.525 #24252.315242 #24581.374101 \n",
    "df_3p_24288, df_5p_24288 = computational_data_seperation(df_3p, df_5p, full_mass, ignore_endpoints=True, has_tag=False)\n",
    "plotly_zones(df_5p_24288, df_3p_24288)\n",
    "df_24288 = pd.concat([df_3p_24288, df_5p_24288]).drop_duplicates()\n",
    "df_24288.shape"
   ]
  },
  {
   "cell_type": "code",
   "execution_count": null,
   "metadata": {},
   "outputs": [],
   "source": [
    "full_mass = 24316.18 #5984.87154  #24189.23 #24245.225 #24941.525 #24252.315242 #24581.374101 \n",
    "df_3p_24316, df_5p_24316 = computational_data_seperation(df_3p, df_5p, full_mass, ignore_endpoints=True, has_tag=False)\n",
    "plotly_zones(df_5p_24316, df_3p_24316)\n",
    "df_24316 = pd.concat([df_3p_24316, df_5p_24316]).drop_duplicates()\n",
    "df_24316.shape"
   ]
  },
  {
   "cell_type": "code",
   "execution_count": null,
   "metadata": {},
   "outputs": [],
   "source": []
  }
 ],
 "metadata": {
  "kernelspec": {
   "display_name": "Python 3",
   "language": "python",
   "name": "python3"
  },
  "language_info": {
   "codemirror_mode": {
    "name": "ipython",
    "version": 3
   },
   "file_extension": ".py",
   "mimetype": "text/x-python",
   "name": "python",
   "nbconvert_exporter": "python",
   "pygments_lexer": "ipython3",
   "version": "3.7.3"
  }
 },
 "nbformat": 4,
 "nbformat_minor": 4
}
