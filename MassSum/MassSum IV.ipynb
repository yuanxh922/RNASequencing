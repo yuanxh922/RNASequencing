{
 "cells": [
  {
   "cell_type": "code",
   "execution_count": null,
   "id": "small-metadata",
   "metadata": {},
   "outputs": [],
   "source": [
    "import pandas as pd\n",
    "import matplotlib\n",
    "import matplotlib.pyplot as plt\n",
    "import plotly.express as px"
   ]
  },
  {
   "cell_type": "code",
   "execution_count": null,
   "id": "geological-outdoors",
   "metadata": {},
   "outputs": [],
   "source": [
    "%run ../modules/utils.ipynb\n",
    "%run ../modules/cds.ipynb\n",
    "%run ../modules/preprocessing.ipynb"
   ]
  },
  {
   "cell_type": "code",
   "execution_count": null,
   "id": "polyphonic-contents",
   "metadata": {},
   "outputs": [],
   "source": [
    "df = pd.read_excel('/Users/bryan/Documents/BioPharmaFinder/ZhangLab/Data/Excels/tRNA_Phe_0724.xlsx')\n",
    "# df_phe = pd.read_excel('/Users/bryan/Documents/BioPharmaFinder/BaoLab/FirstBatch/Excels/S2to5combined_20ul_40min.xlsx')\n",
    "df = thermo_df(df)\n",
    "df.shape\n",
    "# plotly_zone(df_phe)"
   ]
  },
  {
   "cell_type": "code",
   "execution_count": null,
   "id": "unnecessary-amount",
   "metadata": {},
   "outputs": [],
   "source": [
    "df_total = pd.read_excel('/Users/bryan/Documents/BioPharmaFinder/ZhangLab/Data/Excels/total_tRNA_acid_deg.xlsx')\n",
    "df_total = thermo_df(df_total)\n",
    "df_total.shape"
   ]
  },
  {
   "cell_type": "code",
   "execution_count": null,
   "id": "ranging-central",
   "metadata": {},
   "outputs": [],
   "source": [
    "df_total_top = df_total.sort_values('Vol', ascending=False).iloc[:1000]\n",
    "df_total_top.to_excel('/Users/bryan/Downloads/top800.xlsx')"
   ]
  },
  {
   "cell_type": "code",
   "execution_count": null,
   "id": "affiliated-agreement",
   "metadata": {},
   "outputs": [],
   "source": [
    "plotly_zone(df_total)"
   ]
  },
  {
   "cell_type": "code",
   "execution_count": null,
   "id": "accomplished-dinner",
   "metadata": {},
   "outputs": [],
   "source": [
    "df_5p = pd.read_excel('/Users/bryan/Downloads/phe5p.xlsx')\n",
    "df_3p = pd.read_excel('/Users/bryan/Downloads/phe3p.xlsx')\n",
    "df_5p.shape, df_3p.shape"
   ]
  },
  {
   "cell_type": "code",
   "execution_count": null,
   "id": "southeast-township",
   "metadata": {},
   "outputs": [],
   "source": [
    "df_5p = df_5p.sort_values('Vol', ascending=False).iloc[:1000]\n",
    "df_3p = df_3p.sort_values('Vol', ascending=False).iloc[:1000]"
   ]
  },
  {
   "cell_type": "code",
   "execution_count": null,
   "id": "minor-magnet",
   "metadata": {},
   "outputs": [],
   "source": [
    "# masses = [24252.31, 24581.38]\n",
    "# masses = [25334.57, 25005.52]\n",
    "# masses = [24596.36, 24267.31]\n",
    "# masses = [23904.24, 23599.19, 24233.28] # Asp\n",
    "masses = [24287.35, 24460.38] # Ala, Val\n",
    "# masses = [24460.38] # Val\n",
    "# masses = [23545.17] # unknow "
   ]
  },
  {
   "cell_type": "code",
   "execution_count": null,
   "id": "mineral-valentine",
   "metadata": {},
   "outputs": [],
   "source": [
    "full_mass = masses[0]\n",
    "df_pairs0 = computational_data_seperation(df_total, df_total, full_mass, ignore_endpoints=True)\n",
    "full_mass = masses[1]\n",
    "df_pairs1 = computational_data_seperation(df_total, df_total, full_mass, ignore_endpoints=True)\n",
    "# plotly_zones(*df_ladders)\n",
    "# print(df_pairs0[0].shape, df_pairs1[0].shape)\n",
    "\n",
    "# df_tmp0 = df_pairs0[0].copy()\n",
    "\n",
    "df_tmp0 = df_pairs0[0]#.sort_values('Vol', ascending=False).iloc[:20]\n",
    "# print(df_tmp0.shape)\n",
    "# df_tmp0 = df_tmp0.iloc[:30]\n",
    "# print(df_tmp0.shape)\n",
    "df_tmp0.to_excel('/Users/bryan/Downloads/ms0.xlsx')\n",
    "# df_tmp1 = df_pairs1[0].copy()\n",
    "df_tmp1 = df_pairs1[0]#.sort_values('Vol', ascending=False).iloc[:20]\n",
    "df_tmp1.to_excel('/Users/bryan/Downloads/ms1.xlsx')\n",
    "# plotly_zones(df_tmp0, df_tmp1)"
   ]
  },
  {
   "cell_type": "code",
   "execution_count": null,
   "id": "broke-check",
   "metadata": {},
   "outputs": [],
   "source": [
    "# df_tmp = df_pairs0[0].copy()\n",
    "# df_tmp.sort_values('Vol', ascending=False).iloc[30]\n",
    "plotly_zone(df_tmp0)\n",
    "df_tmp0.shape, df_tmp1.shape"
   ]
  },
  {
   "cell_type": "code",
   "execution_count": null,
   "id": "speaking-brake",
   "metadata": {},
   "outputs": [],
   "source": [
    "idxs = list()\n",
    "# create our callback function\n",
    "def on_selection(trace, points, selector):\n",
    "    print('points {}'.format(points.point_inds) )\n",
    "    idxs.extend(points.point_inds)\n",
    "\n",
    "def on_click(trace, points, selector):\n",
    "#     print('points {}'.format(points.point_inds) )\n",
    "    idxs.extend(points.point_inds)\n",
    "\n",
    "df_sample = df_tmp0\n",
    "f = zone_selection(df_sample, on_selection=on_selection, on_click=on_click)\n",
    "f"
   ]
  },
  {
   "cell_type": "code",
   "execution_count": null,
   "id": "palestinian-scoop",
   "metadata": {},
   "outputs": [],
   "source": [
    "df_chosen = df_sample.iloc[idxs]\n",
    "df_chosen.shape"
   ]
  },
  {
   "cell_type": "code",
   "execution_count": null,
   "id": "closed-bridge",
   "metadata": {},
   "outputs": [],
   "source": [
    "df_mid_5p = df_chosen.copy()"
   ]
  },
  {
   "cell_type": "code",
   "execution_count": null,
   "id": "modern-semester",
   "metadata": {},
   "outputs": [],
   "source": [
    "df_mid_3p = df_chosen.copy()"
   ]
  },
  {
   "cell_type": "code",
   "execution_count": null,
   "id": "needed-character",
   "metadata": {},
   "outputs": [],
   "source": [
    "df_mid = df_chosen.copy()\n",
    "fullmass_dot = pd.DataFrame()\n",
    "# df_gap = find_gap_dots(df_total, df_mid, fullmass_dot, major=True)\n",
    "df_gap = find_gap_dots(df_total, df_mid_3p, fullmass_dot, major=True, orientation=3)\n",
    "df_gap.shape"
   ]
  },
  {
   "cell_type": "code",
   "execution_count": null,
   "id": "animated-senate",
   "metadata": {},
   "outputs": [],
   "source": [
    "plotly_zones(df_mid_3p, df_gap)"
   ]
  },
  {
   "cell_type": "code",
   "execution_count": null,
   "id": "electrical-queens",
   "metadata": {},
   "outputs": [],
   "source": [
    "df_asp = pd.concat([df_mid, df_gap]).drop_duplicates()\n",
    "bcr = base_calling_random(df_asp)\n",
    "plotly_basecalling(*bcr, annotate=False)"
   ]
  },
  {
   "cell_type": "code",
   "execution_count": null,
   "id": "quick-gibson",
   "metadata": {},
   "outputs": [],
   "source": []
  },
  {
   "cell_type": "code",
   "execution_count": null,
   "id": "split-maintenance",
   "metadata": {},
   "outputs": [],
   "source": [
    "df_tmp = df_pairs0[1].copy()\n",
    "df_tmp.Mass += 2*M\n",
    "df_ox = match_dfs(df_tmp, df)\n",
    "plotly_zones(df_pairs0[0], df_ox)\n",
    "# plotly_zone(df_ox)"
   ]
  },
  {
   "cell_type": "code",
   "execution_count": null,
   "id": "transparent-damages",
   "metadata": {},
   "outputs": [],
   "source": [
    "df1 = pd.read_csv('/Users/bryan/Downloads/phe2_75_5p.csv')\n",
    "df2 = pd.read_csv('/Users/bryan/Downloads/phe2_75_3p.csv')\n",
    "df3 = pd.read_csv('/Users/bryan/Downloads/phe2_76_5p.csv')\n",
    "df4 = pd.read_csv('/Users/bryan/Downloads/phe2_76_3p.csv')\n",
    "# df1[df1.Match==True].head()\n",
    "# df2[df2.Match==True].head()\n",
    "df1.head(), df3.head()"
   ]
  },
  {
   "cell_type": "code",
   "execution_count": null,
   "id": "dedicated-motel",
   "metadata": {},
   "outputs": [],
   "source": [
    "df_total = pd.read_excel('/Users/bryan/Documents/BioPharmaFinder/ZhangLab/Data/Excels/total_tRNA_acid_deg.xlsx')\n",
    "df_total = thermo_df(df_total)\n",
    "# df_tyr.to_excel('/Users/bryan/Documents/BioPharmaFinder/ZhangLab/Data/Excels/total_tRNA_acid_deg_std.xlsx')"
   ]
  },
  {
   "cell_type": "code",
   "execution_count": null,
   "id": "noticed-consideration",
   "metadata": {},
   "outputs": [],
   "source": [
    "\n",
    "df_cca, df_cc = cds_isoforms(df_3p, df_3p, A)"
   ]
  },
  {
   "cell_type": "code",
   "execution_count": null,
   "id": "french-planet",
   "metadata": {},
   "outputs": [],
   "source": [
    "df_cca.to_excel('/Users/bryan/Downloads/cca.xlsx')"
   ]
  },
  {
   "cell_type": "code",
   "execution_count": null,
   "id": "optimum-machinery",
   "metadata": {},
   "outputs": [],
   "source": [
    "df_3p_isoforms, df_3p_isoforms_i = cds_isoforms(df_3p, df_cc, 79.97)\n",
    "# plotly_zones(df_3p_isoforms, df_3p_isoforms_i)"
   ]
  },
  {
   "cell_type": "code",
   "execution_count": null,
   "id": "false-announcement",
   "metadata": {},
   "outputs": [],
   "source": []
  },
  {
   "cell_type": "code",
   "execution_count": null,
   "id": "neutral-great",
   "metadata": {},
   "outputs": [],
   "source": [
    "def cds_3d(df3p, df5p, full_mass, error=0.1, ignore_endpoints=False, has_tag=False, tag=826.3184):\n",
    "    df3p_mass_np = np.array(df3p['Mass'])\n",
    "    df5p_mass_np = np.array(df5p['Mass'])\n",
    "    mass_sum_np = df3p_mass_np[:, np.newaxis] + df5p_mass_np\n",
    "    mass_sum_1 = np.round(mass_sum_np, 1)\n",
    "    mass_sum_df = pd.DataFrame(mass_sum_np)\n",
    "    mass_sum_df1 = pd.DataFrame(mass_sum_1)\n",
    "\n",
    "    if has_tag:\n",
    "        sum_value = round(full_mass + tag + 79.9663 - 18.0106, 1)\n",
    "        print('full_mass {} sum_value {}'.format(full_mass, sum_value))\n",
    "    else:\n",
    "        sum_value = round(full_mass + 18.0106, 1)\n",
    "        print('full_mass {} sum_value {}'.format(full_mass, sum_value))\n",
    "\n",
    "    tmp = mass_sum_df1[(mass_sum_df1 >= sum_value-error) & (mass_sum_df1 <= sum_value+error)]\n",
    "    final_idx_pairs = list(tmp[tmp.notnull()].stack().index)\n",
    "    df3_idxs = [pair[0] for pair in final_idx_pairs]\n",
    "    df5_idxs = [pair[1] for pair in final_idx_pairs]\n",
    "    df3_idxs = list(set(df3_idxs))\n",
    "    df5_idxs = list(set(df5_idxs))\n",
    "#     print(\"df3 {} df5 {}\".format(len(df3_idxs), len(df5_idxs)))\n",
    "\n",
    "    df3p_selected = df3p.iloc[df3_idxs]\n",
    "    df5p_selected = df5p.iloc[df5_idxs]\n",
    "    \n",
    "    if not ignore_endpoints:\n",
    "        df5p_endpoints = get_end5p_points(df5p, full_mass + 18.0106, tag)\n",
    "        print(\"df5p_endpoints {}\".format(df5p_endpoints[['Mass', 'RT', 'Vol']]))\n",
    "\n",
    "        df3p_selected.update(df5p_endpoints)\n",
    "        df5p_selected.update(df5p_endpoints)\n",
    "        \n",
    "    return df3p_selected, df5p_selected"
   ]
  },
  {
   "cell_type": "code",
   "execution_count": null,
   "id": "laden-championship",
   "metadata": {},
   "outputs": [],
   "source": []
  },
  {
   "cell_type": "code",
   "execution_count": null,
   "id": "independent-carrier",
   "metadata": {},
   "outputs": [],
   "source": []
  },
  {
   "cell_type": "code",
   "execution_count": null,
   "id": "waiting-psychiatry",
   "metadata": {},
   "outputs": [],
   "source": [
    "# full_mass = 22782.14087 #20566.83957 #20911.88697 #21216.92827 #20261.79827 #19955.77297 #22437.09347 ##23472.23567 #21521.96957 #21827.01087 ## #\n",
    "# full_mass = 24338.48264 #24643.52394 #24949.54924\n",
    "# full_mass = 11238.5368 #23393.1479 #23088.1066\n",
    "full_mass = 23506.2668 #23851.3142\n",
    "# df_pairs0 = computational_data_seperation(df_5p, df, full_mass, ignore_endpoints=True)\n",
    "df_pairs0 = computational_data_seperation(df, df_3p, full_mass, ignore_endpoints=True)\n",
    "plotly_zones(*df_pairs0)\n",
    "list(df_pairs0[0].sort_values('Mass').Mass), '---->', list(df_pairs0[1].sort_values('Mass').Mass)"
   ]
  },
  {
   "cell_type": "code",
   "execution_count": null,
   "id": "collect-maker",
   "metadata": {},
   "outputs": [],
   "source": [
    "ms = 1358.194132 #2194.33335932565 #11319.4977708134 #10668.384177 #3149.507861 #1358.194132\n",
    "df[(df.Mass>=ms) & (df.Mass<ms+0.1)]"
   ]
  },
  {
   "cell_type": "markdown",
   "id": "brave-virus",
   "metadata": {},
   "source": [
    "# Match sequence with Mass shift"
   ]
  },
  {
   "cell_type": "code",
   "execution_count": null,
   "id": "regional-christopher",
   "metadata": {},
   "outputs": [],
   "source": [
    "# df = pd.read_excel('/Users/bryan/Documents/BioPharmaFinder/ZhangLab/Data/Excels/tRNA_Phe_0724.xlsx')\n",
    "df_phe = pd.read_excel('/Users/bryan/Documents/BioPharmaFinder/BaoLab/FirstBatch/Excels/S2to5combined_20ul_40min.xlsx')\n",
    "df = thermo_df(df)\n",
    "df.shape"
   ]
  },
  {
   "cell_type": "code",
   "execution_count": null,
   "id": "aquatic-yeast",
   "metadata": {},
   "outputs": [],
   "source": [
    "df_phe2_5p = pd.read_excel('/Users/bryan/Studio/tools/phe_75_5p.xlsx')\n",
    "df_phe2_5p.shape, df_phe2_5p.tail()"
   ]
  },
  {
   "cell_type": "code",
   "execution_count": null,
   "id": "small-consistency",
   "metadata": {},
   "outputs": [],
   "source": [
    "df_tmp = df_phe2_5p.copy()\n",
    "df_found1 = match_dfs(df_phe2_5p, df, ppm=10)\n",
    "shift = 2*14\n",
    "df_tmp.Mass += shift\n",
    "df_found2 = match_dfs(df_tmp, df, ppm=10)\n",
    "plotly_zones(df_found1, df_found2)"
   ]
  },
  {
   "cell_type": "code",
   "execution_count": null,
   "id": "weekly-asthma",
   "metadata": {},
   "outputs": [],
   "source": [
    "df_matches = list()\n",
    "# df_phe_match = match_dfs(df_phe2_5p, df)\n",
    "# print(df_phe_match.shape)\n",
    "for shift in range(0, 19, 1):\n",
    "    df_tmp = df_phe2_5p.copy()\n",
    "    df_tmp.Mass += shift\n",
    "    df_found = match_dfs(df_tmp, df, ppm=15)\n",
    "    if not df_found.empty:\n",
    "        print(f'shift {shift}')\n",
    "        df_matches.append((df_found, f'{shift}'))\n",
    "#     plotly_zones(df_phe_match, df_found)"
   ]
  },
  {
   "cell_type": "code",
   "execution_count": null,
   "id": "meaningful-equity",
   "metadata": {},
   "outputs": [],
   "source": [
    "dfs = list()\n",
    "# dfs.append(df_phe_match)\n",
    "# dfs.extend(df_matches)\n",
    "# print(dfs)\n",
    "dfs_chosen = [df_matches[0][0], df_matches[2][0], df_matches[16][0]] #, df_matches[1], df_matches[15], df_matches[17]\n",
    "names = [df_matches[0][1], df_matches[2][1], df_matches[16][1]] #['base', '1', '14']#, '2', '16', '18'\n",
    "plotly_multi_zones(dfs_chosen, names=names)\n",
    "# plotly_multi_zones([x[0] for x in df_matches], names=[x[1] for x in df_matches])\n",
    "# plt.scatter(df_phe_match.Mass, df_phe_match.RT)\n",
    "# for idx, df in enumerate(df_matches):\n",
    "#     print(idx)\n",
    "#     if idx == 18:\n",
    "#         print(df)\n",
    "#     plt.scatter(df.Mass, df.RT, label=f'{idx}')\n",
    "# plt.legend()"
   ]
  },
  {
   "cell_type": "code",
   "execution_count": null,
   "id": "phantom-trout",
   "metadata": {},
   "outputs": [],
   "source": [
    "for i in range(1, 50, 1):\n",
    "    df_tmp = df_phe2_5p.copy()\n",
    "    df_tmp.Mass += i\n",
    "    df_found = match_dfs(df_tmp, df)\n",
    "    print(i, df_found.shape)"
   ]
  },
  {
   "cell_type": "code",
   "execution_count": null,
   "id": "incomplete-floor",
   "metadata": {},
   "outputs": [],
   "source": [
    "fullmass = 24642.532301 # #24642.532301\n",
    "df_pairs = computational_data_seperation(df_5p, df_3p, fullmass, ignore_endpoints=True)\n",
    "df_pairs[0].sort_values('Mass')"
   ]
  },
  {
   "cell_type": "code",
   "execution_count": null,
   "id": "apparent-stocks",
   "metadata": {},
   "outputs": [],
   "source": []
  },
  {
   "cell_type": "markdown",
   "id": "amber-treasury",
   "metadata": {},
   "source": [
    "# Combinations of random 3 compounds"
   ]
  },
  {
   "cell_type": "code",
   "execution_count": null,
   "id": "plastic-enemy",
   "metadata": {},
   "outputs": [],
   "source": [
    "from itertools import combinations"
   ]
  },
  {
   "cell_type": "code",
   "execution_count": null,
   "id": "likely-kazakhstan",
   "metadata": {},
   "outputs": [],
   "source": [
    "dftop = pd.read_excel('/Users/bryan/Downloads/top800.xlsx')\n",
    "dftop.shape"
   ]
  },
  {
   "cell_type": "code",
   "execution_count": null,
   "id": "dietary-improvement",
   "metadata": {},
   "outputs": [],
   "source": [
    "dftop = dftop.iloc[:5]\n",
    "list(dftop.iterrows())"
   ]
  },
  {
   "cell_type": "code",
   "execution_count": null,
   "id": "christian-employer",
   "metadata": {},
   "outputs": [],
   "source": [
    "dftop['idx'] = dftop.index\n",
    "dftop = dftop[['idx', 'Mass', 'RT', 'Vol']]\n",
    "# dftop['idx'].astype(int)\n",
    "# print(list(dftop.iterrows()))"
   ]
  },
  {
   "cell_type": "code",
   "execution_count": null,
   "id": "standing-arbor",
   "metadata": {},
   "outputs": [],
   "source": [
    "for row in dftop.iterrows()"
   ]
  },
  {
   "cell_type": "code",
   "execution_count": null,
   "id": "standard-status",
   "metadata": {},
   "outputs": [],
   "source": [
    "# def is_valid(data):\n",
    "dftop.sort_values('Vol', ascending=False)\n",
    "sums = list()\n",
    "idxs = list()\n",
    "for comb in combinations(dftop.iloc[:500].iterrows(), 3):\n",
    "#     print(comb[0][1], comb[0][1][0], comb[0][1][1])\n",
    "    masssum = sum([x[1][1] for x in comb]) - 18.0106 * 2\n",
    "#     masssum = sum(comb) - 18.0106 * 2\n",
    "    sums.append(masssum)\n",
    "    idx = [int(x[1][0]) for x in comb]\n",
    "    idxs.append(idx)\n",
    "#     break\n",
    "\n",
    "len(sums), len(idxs)"
   ]
  },
  {
   "cell_type": "code",
   "execution_count": null,
   "id": "passing-affiliation",
   "metadata": {},
   "outputs": [],
   "source": [
    "df_sums = pd.Series(sums)\n",
    "df_idxs = pd.DataFrame(idxs)"
   ]
  },
  {
   "cell_type": "code",
   "execution_count": null,
   "id": "positive-removal",
   "metadata": {},
   "outputs": [],
   "source": [
    "df_sums.head(), df_idxs.head()"
   ]
  },
  {
   "cell_type": "code",
   "execution_count": null,
   "id": "organized-comment",
   "metadata": {},
   "outputs": [],
   "source": [
    "pd_sums = pd.Series(sums)"
   ]
  },
  {
   "cell_type": "code",
   "execution_count": null,
   "id": "dominant-korea",
   "metadata": {},
   "outputs": [],
   "source": [
    "mass = 24280.3\n",
    "len(pd_sums[(pd_sums>mass) & (pd_sums<mass+0.1)])"
   ]
  },
  {
   "cell_type": "code",
   "execution_count": null,
   "id": "absent-exposure",
   "metadata": {},
   "outputs": [],
   "source": []
  },
  {
   "cell_type": "code",
   "execution_count": null,
   "id": "particular-lexington",
   "metadata": {},
   "outputs": [],
   "source": [
    "# df_comm_5p = match_dfs(df_pairs0[0], df_pairs1[0])\n",
    "# plotly_zone(df_comm_5p)\n",
    "\n",
    "# df_tmp = df_pairs1[1].copy()\n",
    "# df_tmp.Mass += A\n",
    "# df_comm_3p = match_dfs(df_tmp, df_pairs0[1])\n",
    "# plotly_zone(df_comm_3p)\n",
    "\n",
    "plotly_zone(df_pairs0[0], y='RT')\n",
    "\n",
    "# bcr = base_calling_random(df_pairs1[0])\n",
    "# plotly_basecalling(*bcr, annotate=False)"
   ]
  },
  {
   "cell_type": "code",
   "execution_count": null,
   "id": "chinese-twelve",
   "metadata": {},
   "outputs": [],
   "source": [
    "df_pairs1[0].sort_values('Mass', ascending=False)"
   ]
  },
  {
   "cell_type": "code",
   "execution_count": null,
   "id": "neither-immunology",
   "metadata": {},
   "outputs": [],
   "source": [
    "orientation = 3\n",
    "df_sample = df_3p\n",
    "mask = np.abs(df_sample.Mass - full_mass) < 0.1\n",
    "fullmass_dot = df_sample[mask]\n",
    "df_gap_phe76 = find_gap_dots(df_sample, df_3p_cc, fullmass_dot, major=True, orientation=orientation)\n",
    "df_gap_phe76.shape"
   ]
  },
  {
   "cell_type": "code",
   "execution_count": null,
   "id": "resident-neighbor",
   "metadata": {},
   "outputs": [],
   "source": [
    "dfa = df_3p_cc.copy()\n",
    "dfb = df_gap_phe76.copy()\n",
    "dfa['isSkeleton'] = True\n",
    "dfb['isSkeleton'] = False\n",
    "dfc = pd.concat([dfa, dfb])\n",
    "plotly_zones(df_3p_cc, df_gap_phe76)\n",
    "full_mass - dfc.Mass"
   ]
  },
  {
   "cell_type": "code",
   "execution_count": null,
   "id": "brown-nepal",
   "metadata": {},
   "outputs": [],
   "source": []
  }
 ],
 "metadata": {
  "kernelspec": {
   "display_name": "Python 3",
   "language": "python",
   "name": "python3"
  },
  "language_info": {
   "codemirror_mode": {
    "name": "ipython",
    "version": 3
   },
   "file_extension": ".py",
   "mimetype": "text/x-python",
   "name": "python",
   "nbconvert_exporter": "python",
   "pygments_lexer": "ipython3",
   "version": "3.7.3"
  }
 },
 "nbformat": 4,
 "nbformat_minor": 5
}
