{
 "cells": [
  {
   "cell_type": "code",
   "execution_count": null,
   "metadata": {},
   "outputs": [],
   "source": [
    "import pandas as pd\n",
    "import matplotlib\n",
    "import matplotlib.pyplot as plt\n",
    "import plotly.express as px"
   ]
  },
  {
   "cell_type": "code",
   "execution_count": null,
   "metadata": {},
   "outputs": [],
   "source": [
    "%run ../modules/utils.ipynb\n",
    "%run ../modules/cds.ipynb\n",
    "%run ../modules/preprocessing.ipynb"
   ]
  },
  {
   "cell_type": "code",
   "execution_count": null,
   "metadata": {},
   "outputs": [],
   "source": [
    "# df_phe = pd.read_excel('/Users/bryan/Documents/BioPharmaFinder/ZhangLab/Data/Excels/tRNA_Phe_0724.xlsx')\n",
    "df_phe = pd.read_excel('/Users/bryan/Documents/SeqDataSets/PaperData/ACS/111418s05.xls')\n",
    "# df_phe = thermo_df(df_phe)\n",
    "df_phe.shape\n",
    "plotly_zone(df_phe)"
   ]
  },
  {
   "cell_type": "code",
   "execution_count": null,
   "metadata": {},
   "outputs": [],
   "source": [
    "idxs = list()\n",
    "# create our callback function\n",
    "def on_selection(trace, points, selector):\n",
    "    print('points {}'.format(points.point_inds) )\n",
    "    idxs.extend(points.point_inds)\n",
    "\n",
    "def on_click(trace, points, selector):\n",
    "#     print('points {}'.format(points.point_inds) )\n",
    "    idxs.extend(points.point_inds)\n",
    "\n",
    "df_sample = df_phe[df_phe.Mass < 25000]\n",
    "f = zone_selection(df_sample, on_selection=on_selection, on_click=on_click)\n",
    "f"
   ]
  },
  {
   "cell_type": "code",
   "execution_count": null,
   "metadata": {},
   "outputs": [],
   "source": [
    "df_chosen = df_sample.iloc[idxs]\n",
    "df_chosen.shape"
   ]
  },
  {
   "cell_type": "code",
   "execution_count": null,
   "metadata": {},
   "outputs": [],
   "source": [
    "df_5p = df_chosen\n",
    "df_5p.shape"
   ]
  },
  {
   "cell_type": "code",
   "execution_count": null,
   "metadata": {},
   "outputs": [],
   "source": [
    "df_3p = df_chosen\n",
    "df_3p.shape"
   ]
  },
  {
   "cell_type": "code",
   "execution_count": null,
   "metadata": {},
   "outputs": [],
   "source": [
    "df_3p = df_5p = df_phe"
   ]
  },
  {
   "cell_type": "code",
   "execution_count": null,
   "metadata": {},
   "outputs": [],
   "source": [
    "full_mass = 12003.6973 #5984.87154  #24189.23 #24245.225 #24941.525 #24252.315242 #24581.374101 \n",
    "df_3p_24581, df_5p_24581 = computational_data_seperation(df_3p, df_5p, full_mass, ignore_endpoints=True, has_tag=False)\n",
    "plotly_zones(df_5p_24581, df_3p_24581)\n",
    "df_24581 = pd.concat([df_3p_24581, df_5p_24581]).drop_duplicates()\n",
    "df_24581.shape"
   ]
  },
  {
   "cell_type": "code",
   "execution_count": null,
   "metadata": {},
   "outputs": [],
   "source": [
    "df_phe = pd.read_csv('/Users/bryan/Studio/seq/data/samples/204.csv')\n",
    "full_mass = 6198.7854 #6024.8755  #24189.23 #24245.225 #24941.525 #24252.315242 #24581.374101 \n",
    "df_3p_24581, df_5p_24581 = computational_data_seperation(df_phe, df_phe, full_mass, ignore_endpoints=True, has_tag=True, tag=694.2397)\n",
    "plotly_zones(df_5p_24581, df_3p_24581)\n",
    "df_24581 = pd.concat([df_3p_24581, df_5p_24581]).drop_duplicates()\n",
    "df_24581.shape"
   ]
  },
  {
   "cell_type": "code",
   "execution_count": null,
   "metadata": {},
   "outputs": [],
   "source": [
    "df_phe = pd.read_csv('/Users/bryan/Studio/seq/data/samples/19.csv')\n",
    "full_mass = 6024.8755  #24189.23 #24245.225 #24941.525 #24252.315242 #24581.374101 \n",
    "df_3p_24581, df_5p_24581 = computational_data_seperation(df_phe, df_phe, full_mass, ignore_endpoints=True, has_tag=True, tag=694.2397)\n",
    "plotly_zones(df_5p_24581, df_3p_24581)\n",
    "df_24581 = pd.concat([df_3p_24581, df_5p_24581]).drop_duplicates()\n",
    "df_24581.shape"
   ]
  },
  {
   "cell_type": "code",
   "execution_count": null,
   "metadata": {},
   "outputs": [],
   "source": []
  }
 ],
 "metadata": {
  "kernelspec": {
   "display_name": "Python 3",
   "language": "python",
   "name": "python3"
  },
  "language_info": {
   "codemirror_mode": {
    "name": "ipython",
    "version": 3
   },
   "file_extension": ".py",
   "mimetype": "text/x-python",
   "name": "python",
   "nbconvert_exporter": "python",
   "pygments_lexer": "ipython3",
   "version": "3.7.3"
  }
 },
 "nbformat": 4,
 "nbformat_minor": 4
}
