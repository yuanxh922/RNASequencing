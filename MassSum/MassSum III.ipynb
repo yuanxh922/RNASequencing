{
 "cells": [
  {
   "cell_type": "code",
   "execution_count": null,
   "id": "material-pantyhose",
   "metadata": {},
   "outputs": [],
   "source": [
    "import pandas as pd\n",
    "import matplotlib\n",
    "import matplotlib.pyplot as plt\n",
    "import plotly.express as px\n",
    "import networkx as nx"
   ]
  },
  {
   "cell_type": "code",
   "execution_count": null,
   "id": "polished-diary",
   "metadata": {},
   "outputs": [],
   "source": [
    "%run ../modules/utils.ipynb\n",
    "%run ../modules/cds.ipynb\n",
    "%run ../modules/preprocessing.ipynb"
   ]
  },
  {
   "cell_type": "code",
   "execution_count": null,
   "id": "acquired-objective",
   "metadata": {},
   "outputs": [],
   "source": [
    "df_glu = pd.read_excel('/Users/bryan/Documents/BioPharmaFinder/BaoLab/FirstBatch/Excels/S2to5combined_20ul_40min.xlsx')\n",
    "df_glu = thermo_df(df_glu)\n",
    "df_glu.shape"
   ]
  },
  {
   "cell_type": "code",
   "execution_count": null,
   "id": "fallen-trade",
   "metadata": {},
   "outputs": [],
   "source": [
    "df = pd.read_excel('/Users/bryan/Documents/BioPharmaFinder/ZhangLab/Data/Excels/tRNA_Phe_0724.xlsx')\n",
    "# df_phe = pd.read_excel('/Users/bryan/Documents/BioPharmaFinder/BaoLab/FirstBatch/Excels/S2to5combined_20ul_40min.xlsx')\n",
    "df = thermo_df(df)\n",
    "df.shape\n",
    "# plotly_zone(df)"
   ]
  },
  {
   "cell_type": "code",
   "execution_count": null,
   "id": "continuing-quality",
   "metadata": {},
   "outputs": [],
   "source": []
  },
  {
   "cell_type": "markdown",
   "id": "beneficial-printer",
   "metadata": {},
   "source": [
    "# Cut 2 times"
   ]
  },
  {
   "cell_type": "code",
   "execution_count": null,
   "id": "caroline-surge",
   "metadata": {},
   "outputs": [],
   "source": [
    "ms_idxs = list()\n",
    "for idx, row in dftop.iterrows():\n",
    "    ms_idxs.append((row.Mass, idx))\n",
    "len(ms_idxs)"
   ]
  },
  {
   "cell_type": "code",
   "execution_count": null,
   "id": "prepared-detective",
   "metadata": {},
   "outputs": [],
   "source": [
    "ms_idxs[0]"
   ]
  },
  {
   "cell_type": "code",
   "execution_count": null,
   "id": "essential-rolling",
   "metadata": {},
   "outputs": [],
   "source": [
    "from itertools import combinations"
   ]
  },
  {
   "cell_type": "code",
   "execution_count": null,
   "id": "hidden-dispatch",
   "metadata": {},
   "outputs": [],
   "source": [
    "sums = list()\n",
    "idxs = list()\n",
    "for comb in combinations(ms_idxs, 3):\n",
    "    masssum = sum([x[0] for x in comb]) - 18.0106 * 2\n",
    "    sums.append(masssum)\n",
    "    idx = [x[1] for x in comb]\n",
    "    idxs.append(idx)\n",
    "#     break\n",
    "\n",
    "# len(sums), len(idxs)\n",
    "print('done')"
   ]
  },
  {
   "cell_type": "code",
   "execution_count": null,
   "id": "limited-ecology",
   "metadata": {},
   "outputs": [],
   "source": [
    "df_sums = pd.Series(sums)\n",
    "df_idxs = pd.DataFrame(idxs)"
   ]
  },
  {
   "cell_type": "code",
   "execution_count": null,
   "id": "monetary-irrigation",
   "metadata": {},
   "outputs": [],
   "source": [
    "import pickle\n",
    "with open('/Users/bryan/Documents/BioPharmaFinder/ZhangLab/Data/PaperData/df_sums.pkl', 'wb') as f:\n",
    "    pickle.dump(df_sums, f)\n",
    "\n",
    "with open('/Users/bryan/Documents/BioPharmaFinder/ZhangLab/Data/PaperData/df_idxs.pkl', 'wb') as f:\n",
    "    pikcle.dump(df_idxs, f)"
   ]
  },
  {
   "cell_type": "code",
   "execution_count": null,
   "id": "facial-vessel",
   "metadata": {},
   "outputs": [],
   "source": [
    "# ms = 24252.31 #25334.57 #25005.52 #24267.31\n",
    "# masses = [23904.24, 23599.19, 24233.28] # Asp\n",
    "masses = [24287.35, 24460.38] # Ala, Val\n",
    "# masses = [24460.38] # Val\n",
    "ms = masses[0]\n",
    "df_chosen = df_sums[(df_sums>=ms-0.05)&(df_sums<ms+0.05)]\n",
    "len(df_idxs.loc[df_chosen.index])"
   ]
  },
  {
   "cell_type": "code",
   "execution_count": null,
   "id": "progressive-juvenile",
   "metadata": {},
   "outputs": [],
   "source": [
    "df_idxs_chosen = df_idxs.loc[df_chosen.index]\n",
    "df_idxs_chosen.shape"
   ]
  },
  {
   "cell_type": "code",
   "execution_count": null,
   "id": "infinite-inspector",
   "metadata": {},
   "outputs": [],
   "source": [
    "np_idxs = np.array(df_idxs_chosen)\n",
    "np_uni_idxs = np.unique(np_idxs)"
   ]
  },
  {
   "cell_type": "code",
   "execution_count": null,
   "id": "timely-diving",
   "metadata": {},
   "outputs": [],
   "source": [
    "df_tmp = dftop.loc[np_uni_idxs]\n",
    "plotly_zone(df_tmp)\n",
    "df_tmp.shape\n",
    "df_tmp.to_excel('/Users/bryan/Downloads/cut2times.xlsx')"
   ]
  },
  {
   "cell_type": "code",
   "execution_count": null,
   "id": "statutory-species",
   "metadata": {},
   "outputs": [],
   "source": [
    "df_phe_5p = pd.read_excel('/Users/bryan/Documents/BioPharmaFinder/ZhangLab/MassSum/GraphsOutput/Graphs_1_24581/S3_gap_fill_5p.xlsx')\n",
    "df_phe_5p.shape"
   ]
  },
  {
   "cell_type": "code",
   "execution_count": null,
   "id": "boxed-gates",
   "metadata": {},
   "outputs": [],
   "source": [
    "full_mass = 21839.9673 #23088.1066 #23393.1479 #24581.3\n",
    "df_fd_phe = computational_data_seperation(df_phe_5p, df, full_mass, ignore_endpoints=True)\n",
    "# df_fd_phe = computational_data_seperation()\n",
    "# plotly_basecalling(*df_fd_phe)\n",
    "plotly_zones(*df_fd_phe, names=[\"5'dots\", \"mid dots\"])"
   ]
  },
  {
   "cell_type": "code",
   "execution_count": null,
   "id": "frank-showcase",
   "metadata": {},
   "outputs": [],
   "source": [
    "bcr = base_calling_random(df_fd_phe[1])\n",
    "plotly_basecalling(*bcr, y='RT', annotate=False)"
   ]
  },
  {
   "cell_type": "code",
   "execution_count": null,
   "id": "surprised-internship",
   "metadata": {},
   "outputs": [],
   "source": [
    "bcr[1]"
   ]
  },
  {
   "cell_type": "code",
   "execution_count": null,
   "id": "stretch-hughes",
   "metadata": {},
   "outputs": [],
   "source": []
  },
  {
   "cell_type": "markdown",
   "id": "elder-volleyball",
   "metadata": {},
   "source": [
    "# Homology Search & Group"
   ]
  },
  {
   "cell_type": "code",
   "execution_count": null,
   "id": "continued-investing",
   "metadata": {},
   "outputs": [],
   "source": [
    "def homology_groups(df):\n",
    "    \"\"\" given ~25k area dots, doing homology search\n",
    "        return a list of group, each group represents a tRNA specy and its isoforms \n",
    "    \"\"\"\n",
    "    def create_graph(bcr):\n",
    "        G = nx.Graph()\n",
    "        for x in bcr[1]:\n",
    "            G.add_edge(x[0], x[1], name=x[2])\n",
    "\n",
    "        cc = list(nx.connected_components(G))\n",
    "        subgraphs = [G.subgraph(x) for x in cc]\n",
    "        subgraphs.sort(key=len, reverse=True)\n",
    "        return subgraphs\n",
    "    \n",
    "    bcr = base_calling_random(df, homology=True)\n",
    "    subgraphs = create_graph(bcr)\n",
    "    subgraphs_edges = [ [(x[0], x[1], x[2].get('name')) for x in sg.edges(data=True)] for sg in subgraphs]\n",
    "    subgraphs_edges = [sorted(sg_edges, key=lambda x: x[0]) for sg_edges in subgraphs_edges]\n",
    "    subgraphs_nodes = [list(sg.nodes) for sg in subgraphs]\n",
    "    \n",
    "    node_edge_pairs = list()\n",
    "    for group in range(len(subgraphs)):\n",
    "        df_nodes = df[df.Mass.isin(subgraphs_nodes[group])]\n",
    "        edges = subgraphs_edges[group]\n",
    "        node_edge_pairs.append((df_nodes, edges))\n",
    "    \n",
    "    return node_edge_pairs"
   ]
  },
  {
   "cell_type": "code",
   "execution_count": null,
   "id": "distributed-slovenia",
   "metadata": {},
   "outputs": [],
   "source": [
    "groups = homology_groups(df_25k)\n",
    "groups[0]\n",
    "# plotly_basecalling(*groups[0], y='Vol', annotate=False)"
   ]
  },
  {
   "cell_type": "code",
   "execution_count": null,
   "id": "duplicate-terrorist",
   "metadata": {},
   "outputs": [],
   "source": [
    "df_25k = df[(df.Mass > 2.3E4) & (df.Mass < 2.6E4) & (df.Vol > 5E5)]\n",
    "bcr = base_calling_random(df_25k, homology=True)\n",
    "# plotly_basecalling(*bcr, y='Vol')"
   ]
  },
  {
   "cell_type": "code",
   "execution_count": null,
   "id": "spectacular-agriculture",
   "metadata": {},
   "outputs": [],
   "source": [
    "G = nx.Graph()\n",
    "for x in bcr[1]:\n",
    "    G.add_edge(x[0], x[1], name=x[2])\n",
    "\n",
    "cc = list(nx.connected_components(G))\n",
    "subgraphs = [G.subgraph(x) for x in cc]\n",
    "subgraphs.sort(key=len, reverse=True)\n",
    "len(subgraphs)"
   ]
  },
  {
   "cell_type": "code",
   "execution_count": null,
   "id": "sorted-municipality",
   "metadata": {},
   "outputs": [],
   "source": [
    "subgraphs_edges = [ [(x[0], x[1], x[2].get('name')) for x in sg.edges(data=True)] for sg in subgraphs]\n",
    "subgraphs_nodes = [list(sg.nodes) for sg in subgraphs]\n",
    "\n",
    "subgraphs_edges = [sorted(sg_edges, key=lambda x: x[0]) for sg_edges in subgraphs_edges]"
   ]
  },
  {
   "cell_type": "code",
   "execution_count": null,
   "id": "capable-compatibility",
   "metadata": {},
   "outputs": [],
   "source": [
    "idx = 1\n",
    "group = idx - 1\n",
    "df_nodes = df[df.Mass.isin(subgraphs_nodes[group])]\n",
    "df_edges = subgraphs_edges[group]\n",
    "plotly_basecalling(df_nodes, df_edges, y='Vol', annotate=False)\n",
    "df_nodes.Mass, df_edges"
   ]
  },
  {
   "cell_type": "code",
   "execution_count": null,
   "id": "greatest-champion",
   "metadata": {},
   "outputs": [],
   "source": [
    "for idx, sg in enumerate(subgraphs):\n",
    "    edges = list(sg.edges(data=True))\n",
    "    edges = [(x[0], x[1], x[2].get('name')) for x in edges]\n",
    "    edges.sort(key=lambda x:x[0], reverse=True)\n",
    "    print(f'Group{idx+1}\\n', edges)"
   ]
  },
  {
   "cell_type": "code",
   "execution_count": null,
   "id": "olympic-waters",
   "metadata": {},
   "outputs": [],
   "source": []
  }
 ],
 "metadata": {
  "kernelspec": {
   "display_name": "Python 3",
   "language": "python",
   "name": "python3"
  },
  "language_info": {
   "codemirror_mode": {
    "name": "ipython",
    "version": 3
   },
   "file_extension": ".py",
   "mimetype": "text/x-python",
   "name": "python",
   "nbconvert_exporter": "python",
   "pygments_lexer": "ipython3",
   "version": "3.7.3"
  }
 },
 "nbformat": 4,
 "nbformat_minor": 5
}
