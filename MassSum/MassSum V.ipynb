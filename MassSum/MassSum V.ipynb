{
 "cells": [
  {
   "cell_type": "code",
   "execution_count": null,
   "metadata": {},
   "outputs": [],
   "source": [
    "import pandas as pd\n",
    "import matplotlib\n",
    "import plotly.express as px\n",
    "import matplotlib.pyplot as plt"
   ]
  },
  {
   "cell_type": "code",
   "execution_count": null,
   "metadata": {},
   "outputs": [],
   "source": [
    "%run ../modules/utils.ipynb\n",
    "%run ../modules/cds.ipynb\n",
    "%run ../modules/preprocessing.ipynb"
   ]
  },
  {
   "cell_type": "code",
   "execution_count": null,
   "metadata": {},
   "outputs": [],
   "source": [
    "df = pd.read_excel('/Users/bryan/Documents/BioPharmaFinder/ZhangLab/Data/Excels/tRNA_Phe_0724.xlsx')\n",
    "df = thermo_df(df)\n",
    "df.shape"
   ]
  },
  {
   "cell_type": "code",
   "execution_count": null,
   "metadata": {},
   "outputs": [],
   "source": [
    "shift = 1000\n",
    "ms = 10556\n",
    "df1 = df[(df.Mass>ms-shift) & (df.Mass<ms+shift)]\n",
    "plotly_zone(df1)"
   ]
  },
  {
   "cell_type": "code",
   "execution_count": null,
   "metadata": {},
   "outputs": [],
   "source": [
    "df_5p = pd.read_excel('/Users/bryan/Documents/BioPharmaFinder/ZhangLab/MassSum/GraphsOutput/phe5p.xlsx')\n",
    "df_3p = pd.read_excel('/Users/bryan/Documents/BioPharmaFinder/ZhangLab/MassSum/GraphsOutput/phe3p.xlsx')\n",
    "df_5p.shape, df_3p.shape"
   ]
  },
  {
   "cell_type": "code",
   "execution_count": null,
   "metadata": {},
   "outputs": [],
   "source": [
    "df_5p = pd.read_excel('/Users/bryan/Documents/BioPharmaFinder/ZhangLab/Data/PaperData/phe_5p_zone.xlsx')\n",
    "df_3p = pd.read_excel('/Users/bryan/Documents/BioPharmaFinder/ZhangLab/Data/PaperData/phe_3p_zone.xlsx')\n",
    "df_5p.shape, df_3p.shape"
   ]
  },
  {
   "cell_type": "code",
   "execution_count": null,
   "metadata": {},
   "outputs": [],
   "source": [
    "df_5p = df_5p.sort_values('Vol', ascending=False).iloc[:1000]\n",
    "df_3p = df_3p.sort_values('Vol', ascending=False).iloc[:1000]\n",
    "df_5p.shape, df_3p.shape"
   ]
  },
  {
   "cell_type": "code",
   "execution_count": null,
   "metadata": {},
   "outputs": [],
   "source": [
    "# df_25k = df[(df.Mass > 2.3E4) & (df.Mass < 2.6E4) & (df.Vol > 5E5)]\n",
    "df_25k = df[(df.Mass > 24500) & (df.Mass < 24650)]\n",
    "# groups = homology_groups(df_25k)\n",
    "plotly_zone(df_25k, y='Vol')"
   ]
  },
  {
   "cell_type": "code",
   "execution_count": null,
   "metadata": {},
   "outputs": [],
   "source": [
    "plotly_basecalling(*groups[1], y='Vol', annotate=False)"
   ]
  },
  {
   "cell_type": "code",
   "execution_count": null,
   "metadata": {},
   "outputs": [],
   "source": [
    "group = 1\n",
    "df_nodes = groups[group][0]\n",
    "df_nodes = df_nodes.sort_values('Vol', ascending=False)\n",
    "masses = list(df_nodes.Mass)\n",
    "masses\n",
    "\n",
    "df_pair_list_group2 = list()\n",
    "for mass in masses:\n",
    "    df_pairs = computational_data_seperation(df_5p, df_3p, mass, ignore_endpoints=True)\n",
    "    df_pair_list_group2.append(df_pairs)\n",
    "    \n",
    "df_5ps_group2 = [df_pair[0] for df_pair in df_pair_list_group2]\n",
    "df_3ps_group2 = [df_pair[1] for df_pair in df_pair_list_group2]"
   ]
  },
  {
   "cell_type": "code",
   "execution_count": null,
   "metadata": {},
   "outputs": [],
   "source": [
    "plotly_multi_zones(df_5ps_group2[:1])"
   ]
  },
  {
   "cell_type": "code",
   "execution_count": null,
   "metadata": {},
   "outputs": [],
   "source": [
    "group = 0\n",
    "df_nodes = groups[group][0]\n",
    "df_nodes = df_nodes.sort_values('Vol', ascending=False)\n",
    "masses = list(df_nodes.Mass)\n",
    "masses"
   ]
  },
  {
   "cell_type": "code",
   "execution_count": null,
   "metadata": {},
   "outputs": [],
   "source": []
  },
  {
   "cell_type": "code",
   "execution_count": null,
   "metadata": {},
   "outputs": [],
   "source": [
    "df_pair_list = list()\n",
    "for mass in masses:\n",
    "    df_pairs = computational_data_seperation(df_5p, df_3p, mass, ignore_endpoints=True)\n",
    "    df_pair_list.append(df_pairs)"
   ]
  },
  {
   "cell_type": "code",
   "execution_count": null,
   "metadata": {},
   "outputs": [],
   "source": [
    "df_5ps = [df_pair[0] for df_pair in df_pair_list]\n",
    "df_3ps = [df_pair[1] for df_pair in df_pair_list]"
   ]
  },
  {
   "cell_type": "code",
   "execution_count": null,
   "metadata": {},
   "outputs": [],
   "source": [
    "full_mass = masses[0] - C\n",
    "print(full_mass)\n",
    "df_pairs = computational_data_seperation(df_5p, df_3p, full_mass, ignore_endpoints=True)\n",
    "# plotly_zone(df_pairs[1])\n",
    "\n",
    "\n",
    "idx1, idx2 = 0, 3\n",
    "reverse = 1\n",
    "df_sample = df_3ps\n",
    "# plotly_multi_zones([df_sample[idx1], df_sample[idx2]])\n",
    "df_comms = relative_dots(df_pairs[1], df_sample[idx1], reverse * C)\n",
    "# df_comms[0].sort_values('Mass').Mass, df_comms[1].sort_values('Mass').Mass\n",
    "\n",
    "plotly_zones(df_pairs[1], df_comms[0])\n",
    "\n",
    "vals = ['Mass', 'RT', 'Vol']\n",
    "df_merge_c3p = pd.concat([df_pairs[1], df_comms[0]]).drop_duplicates()\n",
    "df_merge_c3p = df_merge_c3p.sort_values('Mass')[vals]\n",
    "df_merge_c3p.to_excel('/Users/bryan/Documents/BioPharmaFinder/ZhangLab/Data/Outputs/c3p.xlsx')"
   ]
  },
  {
   "cell_type": "code",
   "execution_count": null,
   "metadata": {},
   "outputs": [],
   "source": [
    "\n",
    "df_merge_c3p = pd.read_excel('/Users/bryan/Documents/BioPharmaFinder/ZhangLab/Data/Outputs/c3p_revised.xlsx')\n",
    "df_merge_c3p = df_merge_c3p.drop_duplicates()\n",
    "\n",
    "# full_mass = masses[idx2]\n",
    "df_sample = df_3p\n",
    "df_skeleton = df_merge_c3p\n",
    "mask = np.abs(df_sample.Mass - full_mass) < 0.1\n",
    "fullmass_dot = df_sample[mask]\n",
    "df_gap = find_gap_dots(df_sample, df_skeleton, fullmass_dot, orientation=3, stop_at=10000, major=True)"
   ]
  },
  {
   "cell_type": "code",
   "execution_count": null,
   "metadata": {},
   "outputs": [],
   "source": [
    "plotly_zones(df_skeleton, df_gap)\n",
    "dfa = df_skeleton.copy()\n",
    "# dfa['isSkeleton'] = True\n",
    "dfb = df_gap.copy()\n",
    "# dfb['isSkeleton'] = False\n",
    "df_merge = pd.concat([dfa, dfb])\n",
    "cols = ['Mass', 'RT', 'Vol']\n",
    "df_merge = df_merge.drop_duplicates(subset=cols)\n",
    "df_merge_reversed = df_merge.copy()\n",
    "df_merge_reversed.Mass = full_mass + 18.0106 - df_merge_reversed.Mass\n",
    "# output(df_merge, full_mass, '3p_cc', 3)\n",
    "# print(df_merge_reversed.head())\n",
    "# df_merge_reversed = df_merge_reversed[cols.append('isSkeleton')]\n",
    "# df_merge_reversed\n",
    "# output(df_merge, full_mass, '3p_cc', 5)\n",
    "bcr = base_calling_random(df_merge_reversed, silence=True)\n",
    "df_seats = process_mass_base_seats(bcr[0], bcr[1], full_mass=full_mass, orientation=5)\n",
    "df_seats.to_excel(f'/Users/bryan/Documents/BioPharmaFinder/ZhangLab/Data/Outputs/seats_3p_c.xlsx')"
   ]
  },
  {
   "cell_type": "code",
   "execution_count": null,
   "metadata": {},
   "outputs": [],
   "source": [
    "\n",
    "idx1, idx2 = 3, 5 #0, 3\n",
    "reverse = 1\n",
    "df_sample = df_3ps\n",
    "# plotly_multi_zones([df_sample[idx1], df_sample[idx2]])\n",
    "df_comms = relative_dots(df_sample[idx1], df_sample[idx2], reverse * (masses[idx2]-masses[idx1]))\n",
    "# df_comms[0].sort_values('Mass').Mass, df_comms[1].sort_values('Mass').Mass"
   ]
  },
  {
   "cell_type": "code",
   "execution_count": null,
   "metadata": {},
   "outputs": [],
   "source": [
    "\n",
    "idx1, idx2 = 3, 5 #0, 3\n",
    "reverse = 1\n",
    "df_sample = df_5ps\n",
    "# plotly_multi_zones([df_sample[idx1], df_sample[idx2]])\n",
    "df_comms = relative_dots(df_sample[idx1], df_sample[idx2], 0)\n",
    "# df_comms[0].sort_values('Mass').Mass, df_comms[1].sort_values('Mass').Mass"
   ]
  },
  {
   "cell_type": "code",
   "execution_count": null,
   "metadata": {},
   "outputs": [],
   "source": [
    "plotly_zones(df_sample[idx1], df_comms[0])\n",
    "plotly_zones(df_sample[idx2], df_comms[1])\n",
    "\n",
    "vals = ['Mass', 'RT', 'Vol']\n",
    "df_merge_cc5p = pd.concat([df_sample[idx1], df_comms[0]]).drop_duplicates()\n",
    "df_merge_cc5p = df_merge_cc5p.sort_values('Mass')[vals]\n",
    "df_merge_cca5p = pd.concat([df_sample[idx2], df_comms[1]]).drop_duplicates()\n",
    "df_merge_cca5p = df_merge_cca5p.sort_values('Mass')[vals]\n",
    "df_merge_cc5p.to_excel('/Users/bryan/Documents/BioPharmaFinder/ZhangLab/Data/Outputs_a16Da/cc5p.xlsx')\n",
    "df_merge_cca5p.to_excel('/Users/bryan/Documents/BioPharmaFinder/ZhangLab/Data/Outputs_a16Da/cca5p.xlsx')"
   ]
  },
  {
   "cell_type": "code",
   "execution_count": null,
   "metadata": {},
   "outputs": [],
   "source": [
    "\n",
    "df_merge_cc3p = pd.read_excel('/Users/bryan/Documents/BioPharmaFinder/ZhangLab/Data/Outputs_a16Da/cc3p_revised.xlsx')\n",
    "df_merge_cca3p = pd.read_excel('/Users/bryan/Documents/BioPharmaFinder/ZhangLab/Data/Outputs_a16Da/cca3p_revised.xlsx')\n",
    "df_merge_cc3p = df_merge_cc3p.drop_duplicates()\n",
    "df_merge_cca3p = df_merge_cca3p.drop_duplicates()"
   ]
  },
  {
   "cell_type": "code",
   "execution_count": null,
   "metadata": {},
   "outputs": [],
   "source": [
    "\n",
    "df_merge_cc5p = pd.read_excel('/Users/bryan/Documents/BioPharmaFinder/ZhangLab/Data/Outputs_a16Da/cc5p_revised.xlsx')\n",
    "df_merge_cca5p = pd.read_excel('/Users/bryan/Documents/BioPharmaFinder/ZhangLab/Data/Outputs_a16Da/cca5p_revised.xlsx')\n",
    "df_merge_cc5p = df_merge_cc5p.drop_duplicates()\n",
    "df_merge_cca5p = df_merge_cca5p.drop_duplicates()"
   ]
  },
  {
   "cell_type": "code",
   "execution_count": null,
   "metadata": {},
   "outputs": [],
   "source": [
    "full_mass = masses[idx2]\n",
    "df_sample = df_3p\n",
    "df_skeleton = df_merge_cca3p\n",
    "mask = np.abs(df_sample.Mass - full_mass) < 0.1\n",
    "fullmass_dot = df_sample[mask]\n",
    "df_gap = find_gap_dots(df_sample, df_skeleton, fullmass_dot, orientation=3, stop_at=13000, major=True)"
   ]
  },
  {
   "cell_type": "code",
   "execution_count": null,
   "metadata": {},
   "outputs": [],
   "source": [
    "full_mass = masses[idx1]\n",
    "df_sample = df_5p\n",
    "df_skeleton = df_merge_cca5p\n",
    "mask = np.abs(df_sample.Mass - full_mass) < 0.1\n",
    "fullmass_dot = df_sample[mask]\n",
    "df_gap = find_gap_dots(df_sample, df_skeleton, fullmass_dot, orientation=5, stop_at=23000, major=True)"
   ]
  },
  {
   "cell_type": "code",
   "execution_count": null,
   "metadata": {},
   "outputs": [],
   "source": [
    "plotly_zones(df_skeleton, df_gap)\n",
    "dfa = df_skeleton.copy()\n",
    "dfa['isSkeleton'] = True\n",
    "dfb = df_gap.copy()\n",
    "dfb['isSkeleton'] = False\n",
    "df_merge = pd.concat([dfa, dfb])\n",
    "cols = ['Mass', 'RT', 'Vol']\n",
    "df_merge = df_merge.drop_duplicates(subset=cols)\n",
    "# df_merge.to_excel(f'/Users/bryan/Documents/BioPharmaFinder/ZhangLab/Data/Outputs_a16Da/complementary_3p_cca.xlsx')\n",
    "# df_merge.to_excel(f'/Users/bryan/Documents/BioPharmaFinder/ZhangLab/Data/Outputs_a16Da/complementary_3p_cc.xlsx')\n",
    "\n",
    "df_merge_reversed = df_merge.copy()\n",
    "df_merge_reversed.Mass = full_mass + 18.0106 - df_merge_reversed.Mass\n",
    "\n",
    "df_merge_reversed.to_excel(f'/Users/bryan/Documents/BioPharmaFinder/ZhangLab/Data/Outputs_a16Da/complementary_3p_cca_rev.xlsx')\n",
    "# df_merge_reversed.to_excel(f'/Users/bryan/Documents/BioPharmaFinder/ZhangLab/Data/Outputs_a16Da/complementary_3p_cc_rev.xlsx')\n",
    "\n",
    "# output(df_merge, full_mass, '3p_cc', 3)\n",
    "# print(df_merge_reversed.head())\n",
    "# df_merge_reversed = df_merge_reversed[cols.append('isSkeleton')]\n",
    "# df_merge_reversed\n",
    "# output(df_merge, full_mass, '3p_cc', 5)\n",
    "# bcr = base_calling_random(df_merge_reversed, silence=True)\n",
    "# df_seats = process_mass_base_seats(bcr[0], bcr[1], full_mass=full_mass, orientation=5)\n",
    "# df_seats.to_excel(f'/Users/bryan/Documents/BioPharmaFinder/ZhangLab/Data/Outputs/seats_3p_cca.xlsx')"
   ]
  },
  {
   "cell_type": "code",
   "execution_count": null,
   "metadata": {},
   "outputs": [],
   "source": [
    "plotly_zones(df_skeleton, df_gap)\n",
    "dfa = df_skeleton.copy()\n",
    "dfa['isSkeleton'] = True\n",
    "dfb = df_gap.copy()\n",
    "dfb['isSkeleton'] = False\n",
    "df_merge = pd.concat([dfa, dfb])\n",
    "cols = ['Mass', 'RT', 'Vol']\n",
    "df_merge = df_merge.drop_duplicates(subset=cols)\n",
    "# df_merge.to_excel(f'/Users/bryan/Documents/BioPharmaFinder/ZhangLab/Data/Outputs_a16Da/complementary_5p_cca.xlsx')\n",
    "df_merge.to_excel(f'/Users/bryan/Documents/BioPharmaFinder/ZhangLab/Data/Outputs_a16Da/complementary_5p_cc.xlsx')\n",
    "\n",
    "# df_merge_reversed = df_merge.copy()\n",
    "# df_merge_reversed.Mass = full_mass + 18.0106 - df_merge_reversed.Mass\n",
    "\n",
    "# df_merge_reversed.to_excel(f'/Users/bryan/Documents/BioPharmaFinder/ZhangLab/Data/Outputs_a16Da/complementary_3p_cca_rev.xlsx')\n",
    "# df_merge_reversed.to_excel(f'/Users/bryan/Documents/BioPharmaFinder/ZhangLab/Data/Outputs_a16Da/complementary_3p_cc_rev.xlsx')\n",
    "\n",
    "# output(df_merge, full_mass, '3p_cc', 3)\n",
    "# print(df_merge_reversed.head())\n",
    "# df_merge_reversed = df_merge_reversed[cols.append('isSkeleton')]\n",
    "# df_merge_reversed\n",
    "# output(df_merge, full_mass, '3p_cc', 5)\n",
    "# bcr = base_calling_random(df_merge_reversed, silence=True)\n",
    "# df_seats = process_mass_base_seats(bcr[0], bcr[1], full_mass=full_mass, orientation=5)\n",
    "# df_seats.to_excel(f'/Users/bryan/Documents/BioPharmaFinder/ZhangLab/Data/Outputs/seats_3p_cca.xlsx')"
   ]
  },
  {
   "cell_type": "code",
   "execution_count": null,
   "metadata": {},
   "outputs": [],
   "source": [
    "bcr = base_calling_random(df_merge)\n",
    "plotly_basecalling(*bcr, annotate=False)"
   ]
  },
  {
   "cell_type": "code",
   "execution_count": null,
   "metadata": {},
   "outputs": [],
   "source": [
    "def relative_dots(df1, df2, shift):\n",
    "    df1_comm = match_dfs(df2, df1, shift=-1*shift)\n",
    "    df2_comm = match_dfs(df1, df2, shift=shift)\n",
    "    return df1_comm, df2_comm"
   ]
  },
  {
   "cell_type": "code",
   "execution_count": null,
   "metadata": {},
   "outputs": [],
   "source": [
    "# 5' common dots"
   ]
  },
  {
   "cell_type": "code",
   "execution_count": null,
   "metadata": {},
   "outputs": [],
   "source": [
    "idx1, idx2 = 0, 1\n",
    "reverse = 1\n",
    "shift=(masses[idx2] - masses[idx1])*reverse\n",
    "df_5p_comms = relative_dots(df_5ps[idx1], df_5ps[idx2], 0)\n",
    "df_5p_comms[0].shape, df_5p_comms[1].shape"
   ]
  },
  {
   "cell_type": "code",
   "execution_count": null,
   "metadata": {},
   "outputs": [],
   "source": [
    "# plotly_zones(df_5ps[idx1], df_5p_comms[0])\n",
    "plotly_zones(df_5ps[idx1], df_5p_comms[0])\n",
    "plotly_zones(df_5ps[idx2], df_5p_comms[1])\n",
    "\n",
    "df_merge_cc5p = pd.concat([df_5ps[idx1], df_5p_comms[0]])\n",
    "df_merge_cc5p = df_merge_cc5p.sort_values('Mass')\n",
    "df_merge_cca5p = pd.concat([df_5ps[idx2], df_5p_comms[1]])\n",
    "df_merge_cca5p = df_merge_cca5p.sort_values('Mass')\n",
    "df_merge_cc5p.to_excel('/Users/bryan/Documents/BioPharmaFinder/ZhangLab/Data/Outputs/cc5p.xlsx')\n",
    "df_merge_cca5p.to_excel('/Users/bryan/Documents/BioPharmaFinder/ZhangLab/Data/Outputs/cca5p.xlsx')"
   ]
  },
  {
   "cell_type": "code",
   "execution_count": null,
   "metadata": {},
   "outputs": [],
   "source": [
    "\n",
    "df_merge_cc5p = pd.read_excel('/Users/bryan/Documents/BioPharmaFinder/ZhangLab/Data/Outputs/cc5p_revised.xlsx')\n",
    "df_merge_cca5p = pd.read_excel('/Users/bryan/Documents/BioPharmaFinder/ZhangLab/Data/Outputs/cca5p_revised.xlsx')\n",
    "df_merge_cc5p = df_merge_cc5p.drop_duplicates()\n",
    "df_merge_cca5p = df_merge_cca5p.drop_duplicates()"
   ]
  },
  {
   "cell_type": "code",
   "execution_count": null,
   "metadata": {},
   "outputs": [],
   "source": [
    "# 5'\n",
    "full_mass = masses[0]\n",
    "df_sample = df_5p\n",
    "df_skeleton = df_merge_cc5p\n",
    "mask = np.abs(df_sample.Mass - full_mass) < 0.1\n",
    "fullmass_dot = df_sample[mask]\n",
    "df_gap = find_gap_dots(df_sample, df_skeleton, fullmass_dot)\n",
    "plotly_zones(df_skeleton, df_gap)"
   ]
  },
  {
   "cell_type": "code",
   "execution_count": null,
   "metadata": {},
   "outputs": [],
   "source": []
  },
  {
   "cell_type": "code",
   "execution_count": null,
   "metadata": {},
   "outputs": [],
   "source": [
    "dfa = df_skeleton.copy()\n",
    "dfa['isSkeleton'] = True\n",
    "dfb = df_gap.copy()\n",
    "dfb['isSkeleton'] = False\n",
    "df_merge = pd.concat([dfa, dfb])\n",
    "cols = ['Mass', 'RT', 'Vol']\n",
    "df_merge = df_merge.drop_duplicates(subset=cols)\n",
    "df_merge.to_excel(f'/Users/bryan/Documents/BioPharmaFinder/ZhangLab/Data/Outputs/complementary_5p_cc.xlsx')\n",
    "# bcr = base_calling_random(df_merge, silence=True)\n",
    "# df_seats = process_mass_base_seats(bcr[0], bcr[1], full_mass=full_mass, orientation=5)\n",
    "# df_seats.to_excel(f'/Users/bryan/Documents/BioPharmaFinder/ZhangLab/Data/Outputs/seats_5p_cc.xlsx')"
   ]
  },
  {
   "cell_type": "code",
   "execution_count": null,
   "metadata": {},
   "outputs": [],
   "source": [
    "def output(df, fullmass, name, orientation): \n",
    "    df.to_excel(f'/Users/bryan/Documents/BioPharmaFinder/ZhangLab/Data/Outputs/complementary_{name}.xlsx')\n",
    "    bcr = base_calling_random(df, silence=True)\n",
    "    df_seats = process_mass_base_seats(df, bcr[1], full_mass=fullmass, orientation=orientation)\n",
    "    df_seats.to_excel(f'/Users/bryan/Documents/BioPharmaFinder/ZhangLab/Data/Outputs/seats_{name}.xlsx')"
   ]
  },
  {
   "cell_type": "code",
   "execution_count": null,
   "metadata": {},
   "outputs": [],
   "source": [
    "idx1, idx2 = 0, 1\n",
    "reverse = 1\n",
    "# plotly_multi_zones([df_3ps[idx1], df_3ps[idx2]])\n",
    "shift=(masses[idx2] - masses[idx1])*reverse\n",
    "df_comms = relative_dots(df_3ps[idx1], df_3ps[idx2], shift)\n",
    "df_comms[0].shape, df_comms[1].shape"
   ]
  },
  {
   "cell_type": "code",
   "execution_count": null,
   "metadata": {},
   "outputs": [],
   "source": [
    "plotly_zones(df_3ps[idx1], df_comms[0])\n",
    "plotly_zones(df_3ps[idx2], df_comms[1])\n",
    "\n",
    "df_merge_cc3p = pd.concat([df_3ps[idx1], df_comms[0]])\n",
    "df_merge_cc3p = df_merge_cc3p.sort_values('Mass')\n",
    "df_merge_cca3p = pd.concat([df_3ps[idx2], df_comms[1]])\n",
    "df_merge_cca3p = df_merge_cca3p.sort_values('Mass')\n",
    "# df_merge_cc3p.to_excel('/Users/bryan/Documents/BioPharmaFinder/ZhangLab/Data/Outputs/cc3p.xlsx')\n",
    "df_merge_cca3p.to_excel('/Users/bryan/Documents/BioPharmaFinder/ZhangLab/Data/Outputs/cca3p.xlsx')"
   ]
  },
  {
   "cell_type": "code",
   "execution_count": null,
   "metadata": {},
   "outputs": [],
   "source": [
    "\n",
    "df_merge_cc3p = pd.read_excel('/Users/bryan/Documents/BioPharmaFinder/ZhangLab/Data/Outputs/cc3p_revised.xlsx')\n",
    "df_merge_cc3p = df_merge_cc3p.drop_duplicates()\n",
    "df_merge_cca3p = pd.read_excel('/Users/bryan/Documents/BioPharmaFinder/ZhangLab/Data/Outputs/cca3p_revised.xlsx')\n",
    "df_merge_cca3p = df_merge_cca3p.drop_duplicates()"
   ]
  },
  {
   "cell_type": "code",
   "execution_count": null,
   "metadata": {},
   "outputs": [],
   "source": [
    "full_mass = masses[0]\n",
    "df_sample = df_3p\n",
    "df_skeleton = df_merge_cc3p\n",
    "mask = np.abs(df_sample.Mass - full_mass) < 0.1\n",
    "fullmass_dot = df_sample[mask]\n",
    "df_gap = find_gap_dots(df_sample, df_skeleton, fullmass_dot, orientation=3)"
   ]
  },
  {
   "cell_type": "code",
   "execution_count": null,
   "metadata": {},
   "outputs": [],
   "source": [
    "plotly_zones(df_skeleton, df_gap)"
   ]
  },
  {
   "cell_type": "code",
   "execution_count": null,
   "metadata": {},
   "outputs": [],
   "source": [
    "dfa = df_skeleton.copy()\n",
    "# dfa['isSkeleton'] = True\n",
    "dfb = df_gap.copy()\n",
    "# dfb['isSkeleton'] = False\n",
    "df_merge = pd.concat([dfa, dfb])\n",
    "cols = ['Mass', 'RT', 'Vol']\n",
    "df_merge = df_merge.drop_duplicates(subset=cols)\n",
    "df_merge_reversed = df_merge.copy()\n",
    "df_merge_reversed.Mass = full_mass + 18.0106 - df_merge_reversed.Mass\n",
    "# output(df_merge, full_mass, '3p_cc', 3)\n",
    "# print(df_merge_reversed.head())\n",
    "# df_merge_reversed = df_merge_reversed[cols.append('isSkeleton')]\n",
    "# df_merge_reversed\n",
    "# output(df_merge, full_mass, '3p_cc', 5)\n",
    "bcr = base_calling_random(df_merge_reversed, silence=True)\n",
    "df_seats = process_mass_base_seats(bcr[0], bcr[1], full_mass=full_mass, orientation=5)\n",
    "df_seats.to_excel(f'/Users/bryan/Documents/BioPharmaFinder/ZhangLab/Data/Outputs/seats_3p_cc.xlsx')"
   ]
  },
  {
   "cell_type": "code",
   "execution_count": null,
   "metadata": {},
   "outputs": [],
   "source": [
    "plotly_zones(dfa, dfb)"
   ]
  },
  {
   "cell_type": "code",
   "execution_count": null,
   "metadata": {},
   "outputs": [],
   "source": [
    "# 3'\n",
    "shift = masses[1] - masses[0]\n",
    "print(f'Mass shift {shift}')\n",
    "df_tmp = df_3ps[0].copy()\n",
    "df_tmp.Mass += shift\n",
    "df1_comm = match_dfs(df_tmp, df_3ps[1])\n",
    "# plotly_zone(df1_comm)\n",
    "\n",
    "df_tmp = df_3ps[1].copy()\n",
    "df_tmp.Mass -= shift\n",
    "df0_comm = match_dfs(df_tmp, df_3ps[0])\n",
    "\n",
    "plotly_multi_zones([df0_comm, df1_comm])"
   ]
  },
  {
   "cell_type": "code",
   "execution_count": null,
   "metadata": {},
   "outputs": [],
   "source": [
    "df_lc = pd.read_excel('/Users/bryan/Documents/BioPharmaFinder/SI/Phe/S1_phe_complement_5p.xlsx')\n",
    "bcr = base_calling_random(df_lc)\n",
    "plotly_basecalling(*bcr, y='RT', annotate=False)\n",
    "full_mass = 24581.37\n",
    "df_seats = process_mass_base_seats(*bcr, full_mass=full_mass, orientation=5)\n",
    "# df_seats.to_excel(f'/Users/bryan/Documents/BioPharmaFinder/SI/Phe/S1_phe_complement_5p_seats.xlsx')"
   ]
  },
  {
   "cell_type": "code",
   "execution_count": null,
   "metadata": {},
   "outputs": [],
   "source": [
    "df_lc = pd.read_excel('/Users/bryan/Documents/BioPharmaFinder/SI/Phe/S1_phe_complement_3p.xlsx')\n",
    "\n",
    "df_lc['RoundedMass'] = np.round(df_lc.Mass, decimals=1)\n",
    "df_lc = df_lc.sort_values('Vol', ascending=False)\n",
    "df_lc = df_lc.drop_duplicates(subset=['RoundedMass'])\n",
    "print(df_lc.shape)\n",
    "df_lc.to_excel('/Users/bryan/Documents/BioPharmaFinder/SI/Phe/S1_phe_complement_3p_round.xlsx')\n",
    "\n",
    "bcr = base_calling_random(df_lc)\n",
    "plotly_basecalling(*bcr, y='RT', annotate=False)\n",
    "full_mass = 24581.37\n",
    "df_seats = process_mass_base_seats(*bcr, full_mass=full_mass, orientation=3)\n",
    "\n",
    "df_seats.to_excel(f'/Users/bryan/Documents/BioPharmaFinder/SI/Phe/S1_phe_complement_3p_seats.xlsx')"
   ]
  },
  {
   "cell_type": "code",
   "execution_count": null,
   "metadata": {},
   "outputs": [],
   "source": [
    "df_lc = pd.read_excel('/Users/bryan/Documents/BioPharmaFinder/SI/Phe/S1_phe_complement_5p3p.xlsx')\n",
    "\n",
    "df_lc['RoundedMass'] = np.round(df_lc.Mass, decimals=1)\n",
    "df_lc = df_lc.sort_values('Vol', ascending=False)\n",
    "df_lc = df_lc.drop_duplicates(subset=['RoundedMass'])\n",
    "print(df_lc.shape)\n",
    "df_lc.to_excel('/Users/bryan/Documents/BioPharmaFinder/SI/Phe/S1_phe_complement_5p3p_round.xlsx')\n",
    "\n",
    "bcr = base_calling_random(df_lc)\n",
    "plotly_basecalling(*bcr, y='RT', annotate=False)\n",
    "full_mass = 24581.37\n",
    "df_seats = process_mass_base_seats(*bcr, full_mass=full_mass, orientation=5)\n",
    "\n",
    "df_seats.to_excel(f'/Users/bryan/Documents/BioPharmaFinder/SI/Phe/S1_phe_complement_5p3p_seats.xlsx')"
   ]
  },
  {
   "cell_type": "code",
   "execution_count": null,
   "metadata": {},
   "outputs": [],
   "source": []
  },
  {
   "cell_type": "code",
   "execution_count": null,
   "metadata": {},
   "outputs": [],
   "source": []
  }
 ],
 "metadata": {
  "kernelspec": {
   "display_name": "Python 3",
   "language": "python",
   "name": "python3"
  },
  "language_info": {
   "codemirror_mode": {
    "name": "ipython",
    "version": 3
   },
   "file_extension": ".py",
   "mimetype": "text/x-python",
   "name": "python",
   "nbconvert_exporter": "python",
   "pygments_lexer": "ipython3",
   "version": "3.7.3"
  }
 },
 "nbformat": 4,
 "nbformat_minor": 4
}
