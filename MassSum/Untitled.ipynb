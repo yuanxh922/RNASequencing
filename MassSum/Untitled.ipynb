{
 "cells": [
  {
   "cell_type": "code",
   "execution_count": null,
   "metadata": {},
   "outputs": [],
   "source": [
    "import pandas as pd\n",
    "import matplotlib\n",
    "import matplotlib.pyplot as plt\n",
    "import plotly.express as px"
   ]
  },
  {
   "cell_type": "code",
   "execution_count": null,
   "metadata": {},
   "outputs": [],
   "source": [
    "%run ../modules/utils.ipynb\n",
    "%run ../modules/cds.ipynb\n",
    "%run ../modules/preprocessing.ipynb"
   ]
  },
  {
   "cell_type": "code",
   "execution_count": null,
   "metadata": {},
   "outputs": [],
   "source": [
    "df_noad = pd.read_excel('/Users/bryan/Documents/BioPharmaFinder/ZhangLab/oligossample1.xlsx')\n",
    "df_noad = thermo_df(df_noad)\n",
    "df_noad.shape\n",
    "plotly_zone(df_noad)"
   ]
  },
  {
   "cell_type": "code",
   "execution_count": null,
   "metadata": {},
   "outputs": [],
   "source": [
    "df_noad_27k = df_noad[df_noad.Mass > 27000]\n",
    "print(df_noad_27k)"
   ]
  },
  {
   "cell_type": "code",
   "execution_count": null,
   "metadata": {},
   "outputs": [],
   "source": [
    "target_mass = 27709.846331 / 2\n",
    "print(target_mass)\n",
    "df_noad[(df_noad.Mass > target_mass - 1) & (df_noad.Mass < target_mass + 1)]"
   ]
  },
  {
   "cell_type": "code",
   "execution_count": null,
   "metadata": {},
   "outputs": [],
   "source": [
    "df_noad_25k = df_noad[(df_noad.Mass > 23000) & (df_noad.Mass < 27000) & (df_noad.Vol > 1E6)]\n",
    "plotly_zone(df_noad_25k)\n",
    "df_noad_25k.shape"
   ]
  },
  {
   "cell_type": "code",
   "execution_count": null,
   "metadata": {},
   "outputs": [],
   "source": [
    "df_noad_25k.sort_values('Vol', ascending=False)"
   ]
  },
  {
   "cell_type": "code",
   "execution_count": null,
   "metadata": {},
   "outputs": [],
   "source": [
    "bcr = base_calling_random(df_noad_25k, silence=True)\n",
    "plotly_basecalling_vol(*bcr)"
   ]
  },
  {
   "cell_type": "code",
   "execution_count": null,
   "metadata": {},
   "outputs": [],
   "source": [
    "bcr[1]"
   ]
  },
  {
   "cell_type": "code",
   "execution_count": null,
   "metadata": {},
   "outputs": [],
   "source": [
    "df = pd.read_excel('/Users/bryan/Documents/BioPharmaFinder/ZhangLab/Data/Excels/tRNA_Phe_0724.xlsx')\n",
    "df = thermo_df(df)\n",
    "df.shape\n",
    "plotly_zone(df)"
   ]
  },
  {
   "cell_type": "code",
   "execution_count": null,
   "metadata": {},
   "outputs": [],
   "source": [
    "df_25k = df[(df.Mass > 23000) & (df.Mass < 27000) & (df.Vol > 1E5)]\n",
    "plotly_zone(df_25k, y='Vol')"
   ]
  },
  {
   "cell_type": "code",
   "execution_count": null,
   "metadata": {},
   "outputs": [],
   "source": [
    "bcr = base_calling_random(df_25k, silence=True)\n",
    "plotly_basecalling_vol(*bcr)"
   ]
  },
  {
   "cell_type": "code",
   "execution_count": null,
   "metadata": {},
   "outputs": [],
   "source": [
    "bcr[1]"
   ]
  },
  {
   "cell_type": "code",
   "execution_count": null,
   "metadata": {},
   "outputs": [],
   "source": [
    "df_25k[df_25k.Vol > 1E5].sort_values('Vol', ascending=False)"
   ]
  },
  {
   "cell_type": "code",
   "execution_count": null,
   "metadata": {},
   "outputs": [],
   "source": [
    "df_25k[df_25k.Vol > 100000].shape"
   ]
  },
  {
   "cell_type": "code",
   "execution_count": null,
   "metadata": {},
   "outputs": [],
   "source": [
    "# process ~27k dots\n",
    "df_27k = df[df.Mass > 26000]\n",
    "for idx, row in df_27k.iterrows():\n",
    "    target_mass = row.Mass / 2\n",
    "    df_target = df[(df.Mass > target_mass - 1) & (df.Mass < target_mass + 1)]\n",
    "    if not df_target.empty:\n",
    "        print(row.Mass)\n",
    "        print(df_target)\n",
    "    "
   ]
  },
  {
   "cell_type": "markdown",
   "metadata": {},
   "source": [
    "# 112 Modifications"
   ]
  },
  {
   "cell_type": "code",
   "execution_count": null,
   "metadata": {},
   "outputs": [],
   "source": [
    "df_mod = pd.read_csv('/Users/bryan/Documents/Seq/112_RNA_modification.csv')\n",
    "df_mod.shape"
   ]
  },
  {
   "cell_type": "code",
   "execution_count": null,
   "metadata": {},
   "outputs": [],
   "source": [
    "df_mod.rename(columns={'Exact Mass': 'Mass'}, inplace=True)"
   ]
  },
  {
   "cell_type": "code",
   "execution_count": null,
   "metadata": {},
   "outputs": [],
   "source": [
    "df_mod.tail()"
   ]
  },
  {
   "cell_type": "code",
   "execution_count": null,
   "metadata": {},
   "outputs": [],
   "source": [
    "df_mid = df_mod[:-3].copy() \n",
    "df_mid.Mass -= 212.0106\n",
    "df_mid = df_mid.drop_duplicates()\n",
    "df_mid.sort_values()"
   ]
  },
  {
   "cell_type": "markdown",
   "metadata": {},
   "source": [
    "# Connections between AD and NOAD"
   ]
  },
  {
   "cell_type": "code",
   "execution_count": null,
   "metadata": {},
   "outputs": [],
   "source": [
    "df_noad_25k.shape, df_25k.shape"
   ]
  },
  {
   "cell_type": "code",
   "execution_count": null,
   "metadata": {},
   "outputs": [],
   "source": [
    "ad = np.array(df_noad_25k.Mass)\n",
    "noad = np.array(df_25k.Mass)\n",
    "diff = ad[:, np.newaxis] - noad\n",
    "df_diff = pd.DataFrame(diff)\n",
    "tmp = df_diff[df_diff >= 0]\n",
    "final_idx_pairs = list(tmp[tmp.notnull()].stack().index)\n",
    "df3_idxs = [pair[0] for pair in final_idx_pairs]\n",
    "df5_idxs = [pair[1] for pair in final_idx_pairs]\n",
    "df3_idxs = list(set(df3_idxs))"
   ]
  },
  {
   "cell_type": "code",
   "execution_count": null,
   "metadata": {},
   "outputs": [],
   "source": [
    "diff[(diff>94)&(diff<422)].shape"
   ]
  },
  {
   "cell_type": "markdown",
   "metadata": {},
   "source": [
    "# Other NoAcidDegraded ~25k"
   ]
  },
  {
   "cell_type": "code",
   "execution_count": null,
   "metadata": {},
   "outputs": [],
   "source": [
    "# file = '/Users/bryan/Documents/BioPharmaFinder/ZhangLab/Data/NoAcidDeg_Phe/Sigma_tRNA_std_150.xlsx'\n",
    "# file = '/Users/bryan/Documents/BioPharmaFinder/ZhangLab/Data/NoAcidDeg_Phe/Sigma_tRNA_std_150_IPM_Lowpresure.xlsx'\n",
    "file = '/Users/bryan/Documents/BioPharmaFinder/ZhangLab/Data/NoAcidDeg_Phe/Sigma_tRNA_standard_IPM_Lowpresure_30min_Shallow.xlsx'\n",
    "df1 = pd.read_excel(file)\n",
    "df1 = thermo_df(df1)\n",
    "df1_25k = df1[(df1.Mass > 23000) & (df1.Mass < 27000)]\n",
    "plotly_zone(df1_25k, y='Vol')"
   ]
  },
  {
   "cell_type": "code",
   "execution_count": null,
   "metadata": {},
   "outputs": [],
   "source": []
  }
 ],
 "metadata": {
  "kernelspec": {
   "display_name": "Python 3",
   "language": "python",
   "name": "python3"
  },
  "language_info": {
   "codemirror_mode": {
    "name": "ipython",
    "version": 3
   },
   "file_extension": ".py",
   "mimetype": "text/x-python",
   "name": "python",
   "nbconvert_exporter": "python",
   "pygments_lexer": "ipython3",
   "version": "3.7.3"
  }
 },
 "nbformat": 4,
 "nbformat_minor": 4
}
