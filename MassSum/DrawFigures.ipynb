{
 "cells": [
  {
   "cell_type": "code",
   "execution_count": null,
   "metadata": {},
   "outputs": [],
   "source": [
    "import pandas as pd\n",
    "import matplotlib\n",
    "import matplotlib.pyplot as plt\n",
    "import plotly.express as px"
   ]
  },
  {
   "cell_type": "code",
   "execution_count": null,
   "metadata": {},
   "outputs": [],
   "source": [
    "%run ../modules/utils.ipynb\n",
    "%run ../modules/cds.ipynb\n",
    "%run ../modules/preprocessing.ipynb"
   ]
  },
  {
   "cell_type": "code",
   "execution_count": null,
   "metadata": {},
   "outputs": [],
   "source": [
    "def local_plot_zone(df, trend=False, order=1, y='RT'):\n",
    "    fig = plt.figure(figsize=(8.5, 4))\n",
    "    plt.xlabel('Monoisotopic Mass (Da)', fontname=\"Arial\", fontsize=15, color='black')\n",
    "    if y == 'RT':\n",
    "        plt.ylabel('Retention Time (min)', fontname=\"Arial\", fontsize=15, color='black')\n",
    "    else:\n",
    "        plt.ylabel('Intensity', fontname=\"Arial\", fontsize=15, color='black')\n",
    "    plt.xticks(fontname=\"Arial\", size=13, color='black')\n",
    "    plt.yticks(fontname=\"Arial\", size=13, color='black')\n",
    "    if trend:\n",
    "        sns.regplot(df.Mass, df[y], order=order)\n",
    "    else:\n",
    "        plt.scatter(df.Mass, df[y])\n",
    "    \n",
    "    return plt, fig\n",
    "\n",
    "def local_plot_zones(df3p, df5p, trend=False, y='RT'):\n",
    "    fig = plt.figure(figsize=(8.5, 4))\n",
    "    plt.xlabel('Monoisotopic Mass (Da)', fontname=\"Arial\", fontsize=15, color='black')\n",
    "    plt.ylabel('Retention Time (min)', fontname=\"Arial\", fontsize=15, color='black')\n",
    "    plt.xticks(fontname=\"Arial\", size=13, color='black')\n",
    "    plt.yticks(fontname=\"Arial\", size=13, color='black')\n",
    "    if trend:\n",
    "        sns.regplot(df3p.Mass, df3p[y])\n",
    "        sns.regplot(df5p.Mass, df5p[y], order=2)\n",
    "    else:\n",
    "        plt.scatter(df3p.Mass, df3p[y])\n",
    "        plt.scatter(df5p.Mass, df5p[y])\n",
    "    \n",
    "    return plt, fig"
   ]
  },
  {
   "cell_type": "code",
   "execution_count": null,
   "metadata": {},
   "outputs": [],
   "source": [
    "def output(df_ds, plt, fig, idx, svg_name):\n",
    "    fig.tight_layout()\n",
    "    plt.savefig(f'/Users/bryan/Documents/BioPharmaFinder/ZhangLab/MassSum/GraphsOutput/Fig{idx}_{svg_name}.svg', dpi=300, transparent=True)\n",
    "    df_ds.to_excel(f'/Users/bryan/Documents/BioPharmaFinder/ZhangLab/MassSum/GraphsOutput/S{idx}_{svg_name}.xlsx')"
   ]
  },
  {
   "cell_type": "code",
   "execution_count": null,
   "metadata": {},
   "outputs": [],
   "source": []
  },
  {
   "cell_type": "code",
   "execution_count": null,
   "metadata": {},
   "outputs": [],
   "source": [
    "df_phe = pd.read_excel('/Users/bryan/Documents/BioPharmaFinder/ZhangLab/Data/Excels/tRNA_Phe_0724.xlsx')\n",
    "# df_phe = pd.read_excel('/Users/bryan/Documents/BioPharmaFinder/BaoLab/FirstBatch/Excels/S2to5combined_20ul_40min.xlsx')\n",
    "df_phe = thermo_df(df_phe)\n",
    "plotly_zone(df_phe)\n",
    "df_phe.shape"
   ]
  },
  {
   "cell_type": "code",
   "execution_count": null,
   "metadata": {},
   "outputs": [],
   "source": [
    "df_phe_25k = df_phe[(df_phe.Mass > 24000) & (df_phe.Mass < 26000) & (df_phe.Vol > 1E5)]\n",
    "plt, fig = local_plot_zone(df_phe_25k, y='Vol')\n",
    "# Fig 1\n",
    "# fig.tight_layout()\n",
    "# plt.savefig('/Users/bryan/Documents/BioPharmaFinder/ZhangLab/MassSum/GraphsOutput/Fig1_intact_mass.svg', dpi=300, transparent=True)\n",
    "# df_phe_25k.to_excel('/Users/bryan/Documents/BioPharmaFinder/ZhangLab/MassSum/GraphsOutput/intact_mass.xlsx')\n",
    "output(df_phe_25k, plt, fig, 1, 'intact_mass')"
   ]
  },
  {
   "cell_type": "code",
   "execution_count": null,
   "metadata": {},
   "outputs": [],
   "source": [
    "plotly_zone(df_phe_25k, y='Vol')"
   ]
  },
  {
   "cell_type": "code",
   "execution_count": null,
   "metadata": {},
   "outputs": [],
   "source": [
    "df_5p = pd.read_excel('/Users/bryan/Documents/BioPharmaFinder/ZhangLab/MassSum/GraphsOutput/phe5p.xlsx')\n",
    "df_3p = pd.read_excel('/Users/bryan/Documents/BioPharmaFinder/ZhangLab/MassSum/GraphsOutput/phe3p.xlsx')\n",
    "df_5p.shape, df_3p.shape"
   ]
  },
  {
   "cell_type": "code",
   "execution_count": null,
   "metadata": {},
   "outputs": [],
   "source": [
    "df_5p = df_5p[df_5p.Vol > 1E5]\n",
    "df_3p = df_3p[df_3p.Vol > 1E5]\n",
    "df_5p.shape, df_3p.shape"
   ]
  },
  {
   "cell_type": "code",
   "execution_count": null,
   "metadata": {},
   "outputs": [],
   "source": [
    "full_mass = 24252.31\n",
    "df_3p_24252, df_5p_24252 = computational_data_seperation(df_3p, df_5p, full_mass, ignore_endpoints=True)\n",
    "plot_zones(df_5p_24252, df_3p_24252)\n",
    "df_24252 = pd.concat([df_3p_24252, df_5p_24252]).drop_duplicates()\n",
    "df_24252.shape"
   ]
  },
  {
   "cell_type": "code",
   "execution_count": null,
   "metadata": {},
   "outputs": [],
   "source": [
    "full_mass = 24581.374101\n",
    "df_3p_24581, df_5p_24581 = computational_data_seperation(df_3p, df_5p, full_mass, ignore_endpoints=True)\n",
    "plot_zones(df_5p_24581, df_3p_24581)\n",
    "df_24581 = pd.concat([df_3p_24581, df_5p_24581]).drop_duplicates()\n",
    "df_24581.shape"
   ]
  },
  {
   "cell_type": "code",
   "execution_count": null,
   "metadata": {},
   "outputs": [],
   "source": [
    "plt, fig = local_plot_zones(df_5p_24581, df_3p_24581)\n",
    "# local_plot_zones(df_5p_24581, df_3p_24581)\n",
    "# Fig 2 MassSum\n",
    "df_a = df_5p_24581.copy()\n",
    "df_b = df_3p_24581.copy()\n",
    "df_a['is5p'] = True\n",
    "df_b['is5p'] = False\n",
    "df_merge = pd.concat([df_a, df_b])\n",
    "output(df_merge, plt, fig, 2, 'mass_sum')"
   ]
  },
  {
   "cell_type": "code",
   "execution_count": null,
   "metadata": {},
   "outputs": [],
   "source": [
    "plotly_zone(df_3p_24252)"
   ]
  },
  {
   "cell_type": "code",
   "execution_count": null,
   "metadata": {},
   "outputs": [],
   "source": [
    "full_mass = 24252.32\n",
    "df_skeleton = df_skeleton_3p_24252_core #df_3p_24252 #df_5p_24252 #df_5p_24597\n",
    "group = 'Group_24581'\n",
    "\n",
    "fullmass_dot = df_phe[(df_phe.Mass>full_mass-0.1) & (df_phe.Mass<full_mass+0.1)]\n",
    "df_gap_dots = find_gap_dots(df_3p, df_skeleton, fullmass_dot, orientation=3)\n",
    "df_gap_dots.shape"
   ]
  },
  {
   "cell_type": "code",
   "execution_count": null,
   "metadata": {},
   "outputs": [],
   "source": [
    "%run ../modules/utils.ipynb\n",
    "df_tmp = df_5p.loc[[699, 915, 932]]\n",
    "filter_dots_in_mid_gap(df_tmp)"
   ]
  },
  {
   "cell_type": "code",
   "execution_count": null,
   "metadata": {},
   "outputs": [],
   "source": [
    "plotly_zone(df_tmp)"
   ]
  },
  {
   "cell_type": "code",
   "execution_count": null,
   "metadata": {},
   "outputs": [],
   "source": [
    "plotly_zones(df_skeleton, df_gap_dots)"
   ]
  },
  {
   "cell_type": "code",
   "execution_count": null,
   "metadata": {},
   "outputs": [],
   "source": [
    "%run ../modules/utils.ipynb\n",
    "dots_in_mid_gap(df_3p, 11855.6515, 12702.7379)\n",
    "# dots_in_right_gap(df_3p, 22197.1107, full_mass=24252.31, orientation=3)\n",
    "# dots_in_left_gap(df_3p, 1856.32, orientation=3)"
   ]
  },
  {
   "cell_type": "code",
   "execution_count": null,
   "metadata": {},
   "outputs": [],
   "source": [
    "df_tmp = df_3p.loc[[1802, 1816, 1818]]\n",
    "filter_dots_in_mid_gap(df_tmp)"
   ]
  },
  {
   "cell_type": "code",
   "execution_count": null,
   "metadata": {},
   "outputs": [],
   "source": [
    "components(12702.7379 - 12373.685147)"
   ]
  },
  {
   "cell_type": "code",
   "execution_count": null,
   "metadata": {},
   "outputs": [],
   "source": [
    "# df_tmp = df_5p[(df_5p.Mass > 1767.213) & (df_5p.Mass < 2685.288)]\n",
    "df_tmp = df_3p[(df_3p.Mass > 11855.6515) & (df_3p.Mass < 12702.7379)]\n",
    "plotly_zone(df_tmp)\n",
    "df_tmp.shape"
   ]
  },
  {
   "cell_type": "code",
   "execution_count": null,
   "metadata": {},
   "outputs": [],
   "source": [
    "idxs = list()\n",
    "\n",
    "def on_click(trace, points, selector):\n",
    "#     print('points {}'.format(points.point_inds) )\n",
    "    idxs.extend(points.point_inds)\n",
    "\n",
    "df_sample = df_5p_24252\n",
    "f = zone_selection(df_sample, on_click=on_click)\n",
    "f"
   ]
  },
  {
   "cell_type": "code",
   "execution_count": null,
   "metadata": {},
   "outputs": [],
   "source": [
    "df_chosen = df_sample.iloc[idxs]\n",
    "# df_skeleton_3p_24581_core = df_sample.drop(df_chosen.index)\n",
    "# df_skeleton_3p_24581.shape, df_skeleton_24581_core.shape\n",
    "\n",
    "df_skeleton_3p_24252_core = df_sample.drop(df_chosen.index)\n",
    "df_3p_24252.shape, df_skeleton_3p_24252_core.shape"
   ]
  },
  {
   "cell_type": "code",
   "execution_count": null,
   "metadata": {},
   "outputs": [],
   "source": [
    "df_chosen = df_sample.iloc[idxs]\n",
    "# df_skeleton_3p_24581_core = df_sample.drop(df_chosen.index)\n",
    "# df_skeleton_3p_24581.shape, df_skeleton_24581_core.shape\n",
    "\n",
    "df_skeleton_5p_24252_core = df_sample.drop(df_chosen.index)\n",
    "df_5p_24252.shape, df_skeleton_5p_24252_core.shape"
   ]
  },
  {
   "cell_type": "code",
   "execution_count": null,
   "metadata": {},
   "outputs": [],
   "source": [
    "full_mass = 24581.3741\n",
    "df_skeleton_24581 = df_skeleton_3p_24581_core #df_5p_24252 #df_5p_24597\n",
    "group = 'Group_24581'\n",
    "orientation = 3\n",
    "\n",
    "fullmass_dot_24581 = df_phe[(df_phe.Mass>full_mass-0.1) & (df_phe.Mass<full_mass+0.1)]\n",
    "df_gap_dots_24581 = find_gap_dots(df_3p, df_skeleton_24581, fullmass_dot_24581, orientation=orientation)\n",
    "df_gap_dots_24581.shape"
   ]
  },
  {
   "cell_type": "code",
   "execution_count": null,
   "metadata": {},
   "outputs": [],
   "source": [
    "plotly_zones(df_skeleton_24581, df_gap_dots_24581)"
   ]
  },
  {
   "cell_type": "code",
   "execution_count": null,
   "metadata": {},
   "outputs": [],
   "source": [
    "# components(8641.175070-8268.082)\n",
    "components(8946.1978-8268.082)"
   ]
  },
  {
   "cell_type": "code",
   "execution_count": null,
   "metadata": {},
   "outputs": [],
   "source": [
    "plt, fig = local_plot_zones(df_skeleton, df_gap_dots)\n",
    "\n",
    "df_a = df_skeleton.copy()\n",
    "df_b = df_gap_dots.copy()\n",
    "df_a['isSkeleton'] = True\n",
    "df_b['isSkeleton'] = False\n",
    "df_merge = pd.concat([df_a, df_b])\n",
    "output(df_merge, plt, fig, 3, 'gap_fill')"
   ]
  },
  {
   "cell_type": "code",
   "execution_count": null,
   "metadata": {},
   "outputs": [],
   "source": [
    "plt, fig = local_plot_zones(df_skeleton_24581, df_gap_dots_24581)\n",
    "\n",
    "df_a = df_skeleton_24581.copy()\n",
    "df_b = df_gap_dots_24581.copy()\n",
    "df_a['isSkeleton'] = True\n",
    "df_b['isSkeleton'] = False\n",
    "df_merge = pd.concat([df_a, df_b])\n",
    "output(df_merge, plt, fig, 3, 'gap_fill')"
   ]
  },
  {
   "cell_type": "code",
   "execution_count": null,
   "metadata": {},
   "outputs": [],
   "source": [
    "df_merge = pd.concat([df_skeleton, df_gap_dots]).drop_duplicates()\n",
    "\n",
    "bcr = base_calling_random(df_merge, silence=True)\n",
    "full_mass = 24252.32\n",
    "df_seats = process_mass_base_seats(df_merge, bcr[1], full_mass=full_mass, orientation=orientation)"
   ]
  },
  {
   "cell_type": "code",
   "execution_count": null,
   "metadata": {},
   "outputs": [],
   "source": [
    "df_merge = pd.concat([df_skeleton_24581, df_gap_dots_24581]).drop_duplicates()\n",
    "\n",
    "bcr = base_calling_random(df_merge, silence=True)\n",
    "full_mass = 24581.3741\n",
    "df_seats = process_mass_base_seats(df_merge, bcr[1], full_mass=full_mass, orientation=orientation)"
   ]
  },
  {
   "cell_type": "code",
   "execution_count": null,
   "metadata": {},
   "outputs": [],
   "source": [
    "import matplotlib.ticker as ticker\n",
    "\n",
    "fig = plt.figure(figsize=(17, 4))\n",
    "ax = plt.subplot()\n",
    "plt.xlabel('Mass (Da)', fontname=\"Arial\", fontsize=15, color='black')\n",
    "plt.ylabel('Retention Time (min)', fontname=\"Arial\", fontsize=15, color='black')\n",
    "# plt.xticks(range(0, 25001, 2500), fontname=\"Arial\", size=13, color='black')\n",
    "# plt.xticks(range(0, int(df_merge.Mass.max()), 320), fontname=\"Arial\", size=13, color='black')\n",
    "mass_max = int(df_merge.Mass.max()) + 1\n",
    "major_loc = ticker.FixedLocator(range(0, mass_max, 2500))\n",
    "minor_loc = ticker.FixedLocator(range(0, mass_max, 320))\n",
    "ax.xaxis.set_major_locator(major_loc)\n",
    "ax.xaxis.set_minor_locator(minor_loc)\n",
    "ax.tick_params(which='major', colors='black')\n",
    "ax.tick_params(which='minor', colors='black')\n",
    "plt.yticks(range(0, 17, 2), fontname=\"Arial\", size=13, color='black')\n",
    "# plt.grid(True, which='minor', axis='y')\n",
    "# plt.scatter(df_3p_24252.Mass, df_3p_24252.RT, color='red', marker='s')\n",
    "plt.scatter(df_merge.Mass, df_merge.RT, color='royalblue')\n",
    "# plt.xlim(320, 25000)\n",
    "plt.grid(True, axis='x', linestyle='--', which='minor')\n",
    "# plt.grid(b=True,which='both')\n",
    "# plt.scatter(df_skeleton.Mass, df_skeleton.RT, color='royalblue')\n",
    "# plt.scatter(df_phe_big.iloc[1].Mass, df_phe_big.iloc[1].RT, color='royalblue')\n",
    "# fig.tight_layout()\n",
    "# plt.savefig('/Users/bryan/Downloads/tRNA_phe_ladders_sep28.svg', transparent=True, dpi=300)\n",
    "output(df_seats, plt, fig, 4, 'seats')"
   ]
  },
  {
   "cell_type": "code",
   "execution_count": null,
   "metadata": {},
   "outputs": [],
   "source": []
  }
 ],
 "metadata": {
  "kernelspec": {
   "display_name": "Python 3",
   "language": "python",
   "name": "python3"
  },
  "language_info": {
   "codemirror_mode": {
    "name": "ipython",
    "version": 3
   },
   "file_extension": ".py",
   "mimetype": "text/x-python",
   "name": "python",
   "nbconvert_exporter": "python",
   "pygments_lexer": "ipython3",
   "version": "3.7.3"
  }
 },
 "nbformat": 4,
 "nbformat_minor": 4
}
