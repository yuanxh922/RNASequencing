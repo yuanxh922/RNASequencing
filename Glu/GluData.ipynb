{
 "cells": [
  {
   "cell_type": "code",
   "execution_count": null,
   "id": "respected-marketplace",
   "metadata": {},
   "outputs": [],
   "source": [
    "import pandas as pd"
   ]
  },
  {
   "cell_type": "code",
   "execution_count": null,
   "id": "backed-wedding",
   "metadata": {},
   "outputs": [],
   "source": [
    "%run data.ipynb\n",
    "%run ../modules/cds.ipynb\n",
    "%run ../modules/utils.ipynb\n",
    "%run ../modules/preprocessing.ipynb"
   ]
  },
  {
   "cell_type": "code",
   "execution_count": null,
   "id": "explicit-antibody",
   "metadata": {},
   "outputs": [],
   "source": [
    "df_mock = load_glu_mock(ad=False)\n",
    "df_mock_ad = load_glu_mock()\n",
    "df_rsv = load_glu_rsv(ad=False)\n",
    "df_rsv_ad = load_glu_rsv()"
   ]
  },
  {
   "cell_type": "code",
   "execution_count": null,
   "id": "frozen-uganda",
   "metadata": {},
   "outputs": [],
   "source": [
    "df_mock_25k = filter_25k(df_mock, high=24500)\n",
    "df_mock_25k = df_mock_25k[df_mock_25k.RT<4]\n",
    "df_mock_ad_25k = filter_25k(df_mock_ad, low=24000, high=24450)"
   ]
  },
  {
   "cell_type": "code",
   "execution_count": null,
   "id": "parental-charlotte",
   "metadata": {},
   "outputs": [],
   "source": [
    "df_rsv_25k = filter_25k(df_rsv, low=24000, high=24500)\n",
    "# df_rsv_25k = df_rsv_25k[df_rsv_25k.RT<4]\n",
    "df_rsv_ad_25k = filter_25k(df_rsv_ad, low=24000, high=24450)"
   ]
  },
  {
   "cell_type": "code",
   "execution_count": null,
   "id": "outer-timothy",
   "metadata": {},
   "outputs": [],
   "source": [
    "df_mock_ad_25k.Vol.max()"
   ]
  },
  {
   "cell_type": "code",
   "execution_count": null,
   "id": "sixth-daniel",
   "metadata": {},
   "outputs": [],
   "source": [
    "compare_mock = False\n",
    "if compare_mock:\n",
    "    dfa = df_mock_25k.copy()\n",
    "    dfb = df_mock_ad_25k.copy()\n",
    "else:\n",
    "    dfa = df_rsv_25k.copy()\n",
    "    dfb = df_rsv_ad_25k.copy()\n",
    "    \n",
    "dfa.Vol /= dfa.Vol.max()\n",
    "dfb.Vol /= dfb.Vol.max()\n",
    "plotly_zones(dfa, dfb, y='Vol')"
   ]
  },
  {
   "cell_type": "code",
   "execution_count": null,
   "id": "continued-tract",
   "metadata": {},
   "outputs": [],
   "source": [
    "target = 22234 #+ #1*M\n",
    "delta = 5\n",
    "df_sample = df_mock_ad\n",
    "df_mock_match = df_sample[(df_sample.Mass>target-delta)&(df_sample.Mass<target+delta)]\n",
    "df_sample = df_rsv_ad\n",
    "df_rsv_match = df_sample[(df_sample.Mass>target-delta)&(df_sample.Mass<target+delta)]\n",
    "df_mock_match, df_rsv_match"
   ]
  },
  {
   "cell_type": "code",
   "execution_count": null,
   "id": "fitting-warrior",
   "metadata": {},
   "outputs": [],
   "source": []
  },
  {
   "cell_type": "code",
   "execution_count": null,
   "id": "saving-visit",
   "metadata": {},
   "outputs": [],
   "source": [
    "df_glu = pd.read_excel('/Users/bryan/Studio/tools/glu_24203_3p.xlsx')\n",
    "\n",
    "# df_sample = pd.read_excel('/Users/bryan/Documents/Data/UC/UC_glu_56_merge.xlsx')\n",
    "# df_sample =thermo_df(df_sample)\n",
    "df_sample = df_mock_ad.copy()\n",
    "\n",
    "df_base_match = match_dfs(df_glu, df_sample, ppm=20)\n",
    "dfs = list()\n",
    "for shift in [-2*M, -1*M, 0, M]: #range(1, 3, 1):\n",
    "    df_tmp = df_glu.copy()\n",
    "    df_tmp.Mass += shift\n",
    "    df_match = match_dfs(df_tmp, df_sample)\n",
    "    match_count = df_match.shape[0]\n",
    "    print(f'shift {shift} Da matched {match_count} compounds')\n",
    "    if match_count > 0:\n",
    "        dfs.append(df_match)\n",
    "\n",
    "plotly_multi_zones(dfs)\n",
    "df_merge = pd.concat(dfs).drop_duplicates().sort_values('Mass')\n",
    "df_merge[(df_merge.Mass>5700)&(df_merge.Mass<8000)]"
   ]
  },
  {
   "cell_type": "code",
   "execution_count": null,
   "id": "bizarre-christmas",
   "metadata": {},
   "outputs": [],
   "source": []
  },
  {
   "cell_type": "markdown",
   "id": "dominican-hearing",
   "metadata": {},
   "source": [
    "# Direct Data"
   ]
  },
  {
   "cell_type": "code",
   "execution_count": null,
   "id": "recent-lodge",
   "metadata": {},
   "outputs": [],
   "source": [
    "# Direct Mock\n",
    "\n",
    "# df_glu = pd.read_excel('/Users/bryan/Studio/tools/glu_24189_3p.xlsx')\n",
    "# df_glu = pd.read_excel('/Users/bryan/Studio/tools/glu_24203_3p.xlsx')\n",
    "df_glu = pd.read_excel('/Users/bryan/Studio/tools/glu_24217_3p.xlsx')\n",
    "# df_glu = pd.read_excel('/Users/bryan/Studio/tools/glu_24232_5p_2.xlsx')\n",
    "\n",
    "# df_glu = pd.read_excel('/Users/bryan/Studio/tools/glu_24189_25c32u_3p.xlsx')\n",
    "# df_glu = pd.read_excel('/Users/bryan/Studio/tools/glu_24203_25c32u_3p.xlsx')\n",
    "df_glu = pd.read_excel('/Users/bryan/Studio/tools/glu_24217_25c32u_3p.xlsx')\n",
    "\n",
    "df_sample = df_mock_ad.copy()\n",
    "# df_sample = df_sample[(df_sample.Mass>5900)&(df_sample.RT>10)]\n",
    "# df_sample = df_sample[(df_sample.Mass>4900)]\n",
    "\n",
    "# df_base_match = match_dfs(df_glu, df_sample)\n",
    "# dfs = list()\n",
    "# for shift in range(13, 15, 1):\n",
    "#     df_tmp = df_glu.copy()\n",
    "#     df_tmp.Mass += shift\n",
    "#     df_match = match_dfs(df_tmp, df_sample)\n",
    "#     match_count = df_match.shape[0]\n",
    "#     print(f'shift {shift} Da matched {match_count} compounds')\n",
    "#     if match_count > 0:\n",
    "#         dfs.append(df_match)\n",
    "\n",
    "df_tmp = df_glu.copy()\n",
    "df_m0 = match_dfs(df_tmp, df_sample)\n",
    "# df_m6 = match_dfs(df_glu2, df_sample)\n",
    "print(df_m0.shape)\n",
    "# print(df_m6.shape)\n",
    "df_tmp.Mass += 1\n",
    "df_m = match_dfs(df_tmp, df_sample)\n",
    "df_tmp.Mass += 1\n",
    "df_m1 = match_dfs(df_tmp, df_sample)\n",
    "df_tmp.Mass += 1\n",
    "df_m2 = match_dfs(df_tmp, df_sample)\n",
    "print(df_sample.shape, df_m.shape, df_m1.shape, df_m2.shape)\n",
    "plotly_zone(df_m0)\n",
    "# plotly_zone(df_m6)\n",
    "\n",
    "# plotly_multi_zones([df_m0, df_m, df_m1, df_m2])\n",
    "# plotly_zones(df_m0, df_m6)"
   ]
  },
  {
   "cell_type": "code",
   "execution_count": null,
   "id": "peaceful-advertiser",
   "metadata": {},
   "outputs": [],
   "source": [
    "df_mock_24189_5p = df_m0.copy()"
   ]
  },
  {
   "cell_type": "code",
   "execution_count": null,
   "id": "forced-lambda",
   "metadata": {},
   "outputs": [],
   "source": [
    "df_mock_24189_3p = df_m0.copy()"
   ]
  },
  {
   "cell_type": "code",
   "execution_count": null,
   "id": "binding-mystery",
   "metadata": {},
   "outputs": [],
   "source": [
    "df_mock_24203_5p = df_m0.copy()"
   ]
  },
  {
   "cell_type": "code",
   "execution_count": null,
   "id": "expressed-advertising",
   "metadata": {},
   "outputs": [],
   "source": [
    "df_mock_24203_3p = df_m0.copy()"
   ]
  },
  {
   "cell_type": "code",
   "execution_count": null,
   "id": "dangerous-wales",
   "metadata": {},
   "outputs": [],
   "source": [
    "df_mock_24217_5p = df_m0.copy()"
   ]
  },
  {
   "cell_type": "code",
   "execution_count": null,
   "id": "nominated-liberal",
   "metadata": {},
   "outputs": [],
   "source": [
    "df_mock_24217_3p = df_m0.copy()"
   ]
  },
  {
   "cell_type": "code",
   "execution_count": null,
   "id": "muslim-burlington",
   "metadata": {},
   "outputs": [],
   "source": [
    "df_mock_24189_5p.to_excel('/Users/bryan/Documents/BioTechData/GluDirect/Mock/24189_5p.xlsx')\n",
    "df_mock_24189_3p.to_excel('/Users/bryan/Documents/BioTechData/GluDirect/Mock/24189_3p.xlsx')\n",
    "df_mock_24203_5p.to_excel('/Users/bryan/Documents/BioTechData/GluDirect/Mock/24203_5p.xlsx')\n",
    "df_mock_24203_3p.to_excel('/Users/bryan/Documents/BioTechData/GluDirect/Mock/24203_3p.xlsx')\n",
    "df_mock_24217_5p.to_excel('/Users/bryan/Documents/BioTechData/GluDirect/Mock/24217_5p.xlsx')\n",
    "df_mock_24217_3p.to_excel('/Users/bryan/Documents/BioTechData/GluDirect/Mock/24217_3p.xlsx')"
   ]
  },
  {
   "cell_type": "code",
   "execution_count": null,
   "id": "behind-arrival",
   "metadata": {},
   "outputs": [],
   "source": []
  },
  {
   "cell_type": "code",
   "execution_count": null,
   "id": "cross-median",
   "metadata": {},
   "outputs": [],
   "source": [
    "plotly_zone(df_mock)"
   ]
  },
  {
   "cell_type": "code",
   "execution_count": null,
   "id": "brief-strengthening",
   "metadata": {},
   "outputs": [],
   "source": [
    "df1 = pd.read_excel('/Users/bryan/Documents/BioPharmaFinder/BaoLab/FirstBatch/RawExcels/sample3.xlsx')\n",
    "df2 = pd.read_excel('/Users/bryan/Downloads/drbao_s3_1984.xlsx')\n",
    "df_merge = pd.concat([df1, df2]).drop_duplicates(subset=['Monoisotopic Mass', 'Apex RT'])\n",
    "df_merge.to_excel('/Users/bryan/Documents/BioPharmaFinder/BaoLab/FirstBatch/RawExcels/sample3_merge.xlsx')"
   ]
  },
  {
   "cell_type": "code",
   "execution_count": null,
   "id": "efficient-background",
   "metadata": {},
   "outputs": [],
   "source": [
    "# Direct RSV\n",
    "\n",
    "# df_glu = pd.read_excel('/Users/bryan/Studio/tools/glu_24189_3p.xlsx')\n",
    "# df_glu = pd.read_excel('/Users/bryan/Studio/tools/glu_24203_3p.xlsx')\n",
    "# df_glu = pd.read_excel('/Users/bryan/Studio/tools/glu_uc_24204_3p.xlsx')\n",
    "df_glu = pd.read_excel('/Users/bryan/Studio/tools/glu_24217_3p.xlsx')\n",
    "# df_glu = pd.read_excel('/Users/bryan/Studio/tools/glu_24232_5p_2.xlsx')\n",
    "\n",
    "# df_glu = pd.read_excel('/Users/bryan/Studio/tools/glu_24189_25c32u_3p.xlsx')\n",
    "# df_glu = pd.read_excel('/Users/bryan/Studio/tools/glu_24203_25c32u_3p.xlsx')\n",
    "# df_glu = pd.read_excel('/Users/bryan/Studio/tools/glu_24217_25c32u_3p.xlsx')\n",
    "\n",
    "# df_sample = df_rsv_ad.copy()\n",
    "# df_sample = df_mock_ad.copy()\n",
    "# df_sample = pd.read_excel('/Users/bryan/Documents/BioPharmaFinder/BaoLab/FirstBatch/Excels/S2to5combined_20ul_9min.xlsx')\n",
    "df_sample = pd.read_excel('/Users/bryan/Documents/Data/UC/UC_glu_6_merge.xlsx')\n",
    "# df_sample = pd.read_excel('/Users/bryan/Documents/BioPharmaFinder/BaoLab/FirstBatch/RawExcels/sample3_merge.xlsx')\n",
    "# df_sample = pd.read_excel('/Users/bryan/Documents/BioPharmaFinder/ZhangLab/Data/Excels/total_tRNA_acid_degradated_20to40_component_only.xlsx')\n",
    "# name = '/Users/bryan/Documents/BioPharmaFinder/BaoLab/SecondBatch/OE240_UTMB_RSV_5ul_9min_IPM_LP_420to2k_21Dec2020.xlsx'\n",
    "# name = '/Users/bryan/Downloads/drbao_s3.xlsx'\n",
    "# name = '/Users/bryan/Downloads/DrBao_Batch1_mock_9min_WW_0.05min.xlsx'\n",
    "# name = '/Users/bryan/Downloads/drbao_s3_1000_2330.xlsx'\n",
    "# name = '/Users/bryan/Downloads/DrBao_Batch1_mock_40min_WW_0.1min.xlsx'\n",
    "# df_sample = pd.read_excel(name)\n",
    "df_sample = thermo_df(df_sample)\n",
    "# df_sample = load_uc_glu(6, more=True)\n",
    "print(df_sample.shape)\n",
    "\n",
    "# df_sample = df_mock.copy()\n",
    "# df_sample = df_rsv.copy()\n",
    "# df_sample = df_sample[(df_sample.Mass>5900)&(df_sample.RT>10)]\n",
    "# df_sample = df_sample[(df_sample.Mass>4900)]\n",
    "\n",
    "df_base_match = match_dfs(df_glu, df_sample)\n",
    "dfs = list()\n",
    "# for shift in [-1*M - H2O, 0-H2O, M-H2O]: #range(-16, -13, 1):\n",
    "# for shift in [-1*M-1, -1*M, -1*M+1, -1, 0, 1, M-1, M, M+1]: #range(-16, -13, 1):\n",
    "for shift in [-1*M, 0]: #range(-16, -13, 1):\n",
    "# for shift in [ 0, 1]:\n",
    "    df_tmp = df_glu.copy()\n",
    "    df_tmp.Mass += shift\n",
    "    df_match = match_dfs(df_tmp, df_sample, ppm=20)\n",
    "    match_count = df_match.shape[0]\n",
    "    if match_count >0:\n",
    "        print(f'shift {shift} Da matched {match_count} compounds')\n",
    "        dfs.append(df_match)\n",
    "\n",
    "# df_tmp = df_glu.copy()\n",
    "# df_m0 = match_dfs(df_tmp, df_sample)\n",
    "\n",
    "# df_m6 = match_dfs(df_glu2, df_sample)\n",
    "# print(df_m0.shape)\n",
    "# print(df_m6.shape)\n",
    "# df_tmp.Mass += 1\n",
    "# df_m = match_dfs(df_tmp, df_sample)\n",
    "# df_tmp.Mass += 1\n",
    "# df_m1 = match_dfs(df_tmp, df_sample)\n",
    "# df_tmp.Mass += 1\n",
    "# df_m2 = match_dfs(df_tmp, df_sample)\n",
    "# print(df_sample.shape, df_m.shape, df_m1.shape, df_m2.shape)\n",
    "# plotly_zone(df_base_match)\n",
    "# # plotly_zone(df_m6)\n",
    "\n",
    "plotly_multi_zones(dfs, y='Vol')\n",
    "# plotly_zones(df_m0, df_m6)"
   ]
  },
  {
   "cell_type": "code",
   "execution_count": null,
   "id": "valuable-conjunction",
   "metadata": {},
   "outputs": [],
   "source": [
    "# Direct RSV\n",
    "\n",
    "\n",
    "df_glu = pd.read_excel('/Users/bryan/Studio/tools/glu_24217_3p.xlsx')\n",
    "df_sample = pd.read_excel('/Users/bryan/Documents/Data/UC/UC_glu_5_merge.xlsx')\n",
    "df_sample6 = pd.read_excel('/Users/bryan/Documents/Data/UC/UC_glu_6_merge.xlsx')\n",
    "df_sample = thermo_df(df_sample)\n",
    "df_sample6 = thermo_df(df_sample6)\n",
    "# df_sample = df_sample[df_sample.Mass<24000]\n",
    "# df_sample6 = df_sample6[df_sample6.Mass<24000]\n",
    "\n",
    "# df_base_match = match_dfs(df_glu, df_sample)\n",
    "dfs = list()\n",
    "dfs6 = list()\n",
    "for shift in [-1*M, 0]: #range(-16, -13, 1):\n",
    "    df_tmp = df_glu.copy()\n",
    "    df_tmp.Mass += shift\n",
    "    df_match = match_dfs(df_tmp, df_sample, ppm=20)\n",
    "    match_count = df_match.shape[0]\n",
    "    if match_count >0:\n",
    "        print(f'shift {shift} Da matched {match_count} compounds')\n",
    "        dfs.append(df_match)\n",
    "        \n",
    "    df_match = match_dfs(df_tmp, df_sample6, ppm=20)\n",
    "    match_count = df_sample6.shape[0]\n",
    "    if match_count >0:\n",
    "        print(f'shift {shift} Da matched {match_count} compounds')\n",
    "        dfs6.append(df_match)\n",
    "\n",
    "plotly_multi_zones(dfs, y='Vol')\n",
    "plotly_multi_zones(dfs6, y='Vol')"
   ]
  },
  {
   "cell_type": "code",
   "execution_count": null,
   "id": "outer-kansas",
   "metadata": {},
   "outputs": [],
   "source": [
    "dfs[0].sort_values('Mass', ascending=False).iloc[0]"
   ]
  },
  {
   "cell_type": "code",
   "execution_count": null,
   "id": "integral-sally",
   "metadata": {},
   "outputs": [],
   "source": [
    "df_sample = pd.read_excel('/Users/bryan/Documents/Data/UC/UC_glu_6.xlsx')\n",
    "df_sample.info()"
   ]
  },
  {
   "cell_type": "code",
   "execution_count": null,
   "id": "nutritional-encounter",
   "metadata": {},
   "outputs": [],
   "source": [
    "#sample 5\n",
    "dfb = dfs[0].copy() #.loc[1602]\n",
    "dfa = dfs[1].copy()\n",
    "# dfc = dfa[(dfa.Mass>21240)&(dfa.Mass<21260)].append(dfb)\n",
    "# dfc.to_excel('~/Documents/Data/5-22-2021/glu_10mG/regular.xlsx')\n",
    "dfa = func(dfa)\n",
    "dfb = func(dfb)\n",
    "dfa.to_excel('~/Documents/Data/5-22-2021/glu_10mG/regular_methyl.xlsx')\n",
    "dfb.to_excel('~/Documents/Data/5-22-2021/glu_10mG/regular_demethyl.xlsx')"
   ]
  },
  {
   "cell_type": "code",
   "execution_count": null,
   "id": "possible-prerequisite",
   "metadata": {},
   "outputs": [],
   "source": []
  },
  {
   "cell_type": "code",
   "execution_count": null,
   "id": "pacific-grenada",
   "metadata": {},
   "outputs": [],
   "source": [
    "def func(df):\n",
    "    seats = 75\n",
    "    df_res = pd.DataFrame()\n",
    "    df_res['position'] = range(1, seats+1)\n",
    "    df_res['Mass'] = ''\n",
    "    df_res['Vol'] = ''\n",
    "    df_res.set_index('position', inplace=True)\n",
    "    \n",
    "    for idx, row in df.iterrows():\n",
    "        pos = int(row.Mass // 320)\n",
    "        pos = seats + 1 - pos\n",
    "        pos -= 1\n",
    "        if pos == 0:\n",
    "            continue\n",
    "        print(f'Mass {row.Mass} pos {pos}')\n",
    "        mass = df_res.loc[pos, 'Mass'] \n",
    "        if not mass:\n",
    "            mass = row.Mass\n",
    "        else:\n",
    "            mass = '{}, {}'.format(mass, row.Mass)\n",
    "        df_res.loc[pos, 'Mass'] = mass\n",
    "        \n",
    "        vol = df_res.loc[pos, 'Vol'] \n",
    "        if not vol:\n",
    "            vol = row.Vol\n",
    "        else:\n",
    "            vol = '{}, {}'.format(vol, row.Vol)\n",
    "        df_res.loc[pos, 'Vol'] = vol\n",
    "    return df_res"
   ]
  },
  {
   "cell_type": "code",
   "execution_count": null,
   "id": "tutorial-chancellor",
   "metadata": {},
   "outputs": [],
   "source": [
    "#sample 6\n",
    "dfa = dfs[1].copy()\n",
    "dfb = dfs[0].copy()\n",
    "dfa = func(dfa)\n",
    "dfb = func(dfb)\n",
    "dfa.to_excel('~/Documents/Data/5-22-2021/glu_10mG/alkb_methyl.xlsx')\n",
    "dfb.to_excel('~/Documents/Data/5-22-2021/glu_10mG/alkb_demethyl.xlsx')"
   ]
  },
  {
   "cell_type": "code",
   "execution_count": null,
   "id": "precise-storage",
   "metadata": {},
   "outputs": [],
   "source": [
    "plotly_zone(df_mock)"
   ]
  },
  {
   "cell_type": "code",
   "execution_count": null,
   "id": "chinese-magnitude",
   "metadata": {},
   "outputs": [],
   "source": [
    "dfs_mock = dfs.copy()"
   ]
  },
  {
   "cell_type": "code",
   "execution_count": null,
   "id": "abstract-munich",
   "metadata": {},
   "outputs": [],
   "source": [
    "dfs_rsv = dfs.copy()"
   ]
  },
  {
   "cell_type": "code",
   "execution_count": null,
   "id": "confidential-stanford",
   "metadata": {},
   "outputs": [],
   "source": [
    "# plotly_multi_zones(dfs_mock)\n",
    "df_merge = pd.concat(dfs_mock).drop_duplicates()\n",
    "bcr = base_calling_random(df_merge)\n",
    "plotly_basecalling(*bcr, annotate=False)\n",
    "\n",
    "# plotly_multi_zones(dfs_rsv)\n",
    "df_merge = pd.concat(dfs_rsv).drop_duplicates()\n",
    "bcr = base_calling_random(df_merge)\n",
    "plotly_basecalling(*bcr, annotate=False)"
   ]
  },
  {
   "cell_type": "code",
   "execution_count": null,
   "id": "funny-treasure",
   "metadata": {},
   "outputs": [],
   "source": [
    "df_rsv_24189_5p = df_m0.copy()"
   ]
  },
  {
   "cell_type": "code",
   "execution_count": null,
   "id": "multiple-virgin",
   "metadata": {},
   "outputs": [],
   "source": [
    "df_rsv_24189_3p = df_m0.copy()"
   ]
  },
  {
   "cell_type": "code",
   "execution_count": null,
   "id": "clean-singapore",
   "metadata": {},
   "outputs": [],
   "source": [
    "df_rsv_24203_5p = df_m0.copy()"
   ]
  },
  {
   "cell_type": "code",
   "execution_count": null,
   "id": "painted-indiana",
   "metadata": {},
   "outputs": [],
   "source": [
    "df_rsv_24203_3p = df_m0.copy()"
   ]
  },
  {
   "cell_type": "code",
   "execution_count": null,
   "id": "reliable-fabric",
   "metadata": {},
   "outputs": [],
   "source": [
    "df_rsv_24217_5p = df_m0.copy()"
   ]
  },
  {
   "cell_type": "code",
   "execution_count": null,
   "id": "positive-candidate",
   "metadata": {},
   "outputs": [],
   "source": [
    "df_rsv_24217_3p = df_m0.copy()"
   ]
  },
  {
   "cell_type": "code",
   "execution_count": null,
   "id": "conceptual-receiver",
   "metadata": {},
   "outputs": [],
   "source": [
    "df_rsv_24189_5p.to_excel('/Users/bryan/Documents/BioTechData/GluDirect/RSV/24189_5p.xlsx')\n",
    "df_rsv_24189_3p.to_excel('/Users/bryan/Documents/BioTechData/GluDirect/RSV/24189_3p.xlsx')\n",
    "df_rsv_24203_5p.to_excel('/Users/bryan/Documents/BioTechData/GluDirect/RSV/24203_5p.xlsx')\n",
    "df_rsv_24203_3p.to_excel('/Users/bryan/Documents/BioTechData/GluDirect/RSV/24203_3p.xlsx')\n",
    "df_rsv_24217_5p.to_excel('/Users/bryan/Documents/BioTechData/GluDirect/RSV/24217_5p.xlsx')\n",
    "df_rsv_24217_3p.to_excel('/Users/bryan/Documents/BioTechData/GluDirect/RSV/24217_3p.xlsx')"
   ]
  },
  {
   "cell_type": "code",
   "execution_count": null,
   "id": "capable-nurse",
   "metadata": {},
   "outputs": [],
   "source": []
  },
  {
   "cell_type": "code",
   "execution_count": null,
   "id": "incident-review",
   "metadata": {},
   "outputs": [],
   "source": []
  },
  {
   "cell_type": "code",
   "execution_count": null,
   "id": "twelve-programming",
   "metadata": {},
   "outputs": [],
   "source": []
  },
  {
   "cell_type": "code",
   "execution_count": null,
   "id": "satisfactory-saint",
   "metadata": {},
   "outputs": [],
   "source": []
  },
  {
   "cell_type": "code",
   "execution_count": null,
   "id": "hired-vertex",
   "metadata": {},
   "outputs": [],
   "source": []
  },
  {
   "cell_type": "code",
   "execution_count": null,
   "id": "convertible-auditor",
   "metadata": {},
   "outputs": [],
   "source": []
  },
  {
   "cell_type": "code",
   "execution_count": null,
   "id": "unknown-optimization",
   "metadata": {},
   "outputs": [],
   "source": [
    "df_tmp = df_mock_ad_25k.copy()\n",
    "df_tmp.RT /= 6.6\n",
    "plotly_zones(df_mock_25k, df_tmp, names=['Before', 'After'])"
   ]
  },
  {
   "cell_type": "code",
   "execution_count": null,
   "id": "after-county",
   "metadata": {},
   "outputs": [],
   "source": [
    "df_rsv_25k = filter_25k(df_rsv)\n",
    "df_rsv_25k = df_rsv_25k[(df_rsv_25k.Mass>24000)&(df_rsv_25k.Mass<24500)&(df_rsv_25k.RT<4)]\n",
    "df_rsv_ad_25k = filter_25k(df_rsv_ad)\n",
    "df_rsv_ad_25k = df_rsv_ad_25k[df_rsv_ad_25k.Mass<24500]"
   ]
  },
  {
   "cell_type": "code",
   "execution_count": null,
   "id": "auburn-lesbian",
   "metadata": {},
   "outputs": [],
   "source": [
    "# plotly_zone(df_rsv_25k)\n",
    "# plotly_zone(df_rsv_ad_25k)\n",
    "\n",
    "df_tmp = df_rsv_ad_25k.copy()\n",
    "df_tmp.RT /= 6.6\n",
    "plotly_zones(df_rsv_25k, df_tmp, names=['Before', 'After'], y='RT')"
   ]
  },
  {
   "cell_type": "code",
   "execution_count": null,
   "id": "headed-database",
   "metadata": {},
   "outputs": [],
   "source": [
    "plotly_zones(df_mock_25k, df_rsv_25k)"
   ]
  },
  {
   "cell_type": "code",
   "execution_count": null,
   "id": "brilliant-yellow",
   "metadata": {},
   "outputs": [],
   "source": [
    "plotly_zones(df_mock_ad_25k, df_rsv_ad_25k)"
   ]
  },
  {
   "cell_type": "code",
   "execution_count": null,
   "id": "bearing-salvation",
   "metadata": {},
   "outputs": [],
   "source": [
    "df_rsv_ad_comm = match_dfs(df_mock_ad, df_rsv_ad)"
   ]
  },
  {
   "cell_type": "code",
   "execution_count": null,
   "id": "working-stroke",
   "metadata": {},
   "outputs": [],
   "source": [
    "# mass = 24189.22 #24203.25 #24217.24 # # # #24203.25 #24330.12\n",
    "mass = 24217.27 #24203.24 #24189.23 # #24217.27 # # # #24203.25 #24330.12\n",
    "isoform = int(mass)"
   ]
  },
  {
   "cell_type": "code",
   "execution_count": null,
   "id": "cultural-glossary",
   "metadata": {},
   "outputs": [],
   "source": [
    "# Mock\n",
    "mode = 'Mock'\n",
    "df_sample = df_mock_ad.sort_values('Vol', ascending=False).iloc[:900]\n",
    "df5, df3 = computational_data_seperation(df_sample, df_mock_ad, mass)\n",
    "df5.shape"
   ]
  },
  {
   "cell_type": "code",
   "execution_count": null,
   "id": "developing-devon",
   "metadata": {},
   "outputs": [],
   "source": [
    "# RSV\n",
    "mode = 'RSV'\n",
    "df_sample = df_rsv_ad.sort_values('Vol', ascending=False).iloc[:1000]\n",
    "df5, df3 = computational_data_seperation(df_sample, df_rsv_ad, mass)\n",
    "df5.shape"
   ]
  },
  {
   "cell_type": "code",
   "execution_count": null,
   "id": "aboriginal-polls",
   "metadata": {},
   "outputs": [],
   "source": [
    "plotly_zones(df5, df3)"
   ]
  },
  {
   "cell_type": "code",
   "execution_count": null,
   "id": "expanded-december",
   "metadata": {},
   "outputs": [],
   "source": [
    "df5.to_excel(f'/Users/bryan/Documents/BioTechData/Glu/{mode}/{isoform}/5p_masssum.xlsx')\n",
    "df3.to_excel(f'/Users/bryan/Documents/BioTechData/Glu/{mode}/{isoform}/3p_masssum.xlsx')"
   ]
  },
  {
   "cell_type": "code",
   "execution_count": null,
   "id": "forward-there",
   "metadata": {},
   "outputs": [],
   "source": [
    "idxs = list()\n",
    "# create our callback function\n",
    "def on_selection(trace, points, selector):\n",
    "    print('points {}'.format(points.point_inds) )\n",
    "    idxs.extend(points.point_inds)\n",
    "\n",
    "def on_click(trace, points, selector):\n",
    "#     print('points {}'.format(points.point_inds) )\n",
    "    idxs.extend(points.point_inds)\n",
    "\n",
    "df_sample = pd.concat([df5, df3]).drop_duplicates()\n",
    "f = zone_selection(df_sample, on_selection=on_selection, on_click=on_click)\n",
    "f"
   ]
  },
  {
   "cell_type": "code",
   "execution_count": null,
   "id": "unusual-convertible",
   "metadata": {},
   "outputs": [],
   "source": [
    "df_chosen = df_sample.iloc[idxs]\n",
    "df_chosen.shape"
   ]
  },
  {
   "cell_type": "code",
   "execution_count": null,
   "id": "worth-manhattan",
   "metadata": {},
   "outputs": [],
   "source": [
    "df5_skeleton = df_chosen.copy()"
   ]
  },
  {
   "cell_type": "code",
   "execution_count": null,
   "id": "bacterial-impact",
   "metadata": {},
   "outputs": [],
   "source": [
    "df3_skeleton = df_chosen.copy()"
   ]
  },
  {
   "cell_type": "code",
   "execution_count": null,
   "id": "consolidated-uruguay",
   "metadata": {},
   "outputs": [],
   "source": [
    "df5_skeleton.to_excel(f'/Users/bryan/Documents/BioTechData/Glu/{mode}/{isoform}/5p_skeleton.xlsx')\n",
    "df3_skeleton.to_excel(f'/Users/bryan/Documents/BioTechData/Glu/{mode}/{isoform}/3p_skeleton.xlsx')"
   ]
  },
  {
   "cell_type": "code",
   "execution_count": null,
   "id": "centered-noise",
   "metadata": {},
   "outputs": [],
   "source": [
    "orientation = 5\n",
    "fullmass_dot = df_mock_ad[(df_mock_ad.Mass>mass-0.1) & (df_mock_ad.Mass<mass+0.1)]\n",
    "df_gap = find_gap_dots(df_mock_ad, df5_skeleton, fullmass_dot, stop_at=20000, major=True, orientation=orientation)\n",
    "# df_gap = find_gap_dots(df_mock_ad, df3_skeleton, fullmass_dot, stop_at=20000, major=True, orientation=orientation)\n",
    "df_gap.shape"
   ]
  },
  {
   "cell_type": "code",
   "execution_count": null,
   "id": "charitable-vancouver",
   "metadata": {},
   "outputs": [],
   "source": [
    "dfa = df5_skeleton.copy()\n",
    "# dfa = df3_skeleton.copy()\n",
    "dfa['isSkeleton'] = True\n",
    "dfb = df_gap.copy()\n",
    "dfb['isSkeleton'] = False\n",
    "plotly_zones(dfa, dfb)\n",
    "df_mg = pd.concat([dfa, dfb])\n",
    "df_mg.to_excel(f'/Users/bryan/Documents/BioTechData/Glu/{mode}/{isoform}/5p_gapfill.xlsx')\n",
    "# df_mg.to_excel(f'/Users/bryan/Documents/BioTechData/Glu/{mode}/{isoform}/3p_gapfill.xlsx')"
   ]
  },
  {
   "cell_type": "code",
   "execution_count": null,
   "id": "frequent-vampire",
   "metadata": {},
   "outputs": [],
   "source": []
  }
 ],
 "metadata": {
  "kernelspec": {
   "display_name": "Python 3",
   "language": "python",
   "name": "python3"
  },
  "language_info": {
   "codemirror_mode": {
    "name": "ipython",
    "version": 3
   },
   "file_extension": ".py",
   "mimetype": "text/x-python",
   "name": "python",
   "nbconvert_exporter": "python",
   "pygments_lexer": "ipython3",
   "version": "3.7.3"
  }
 },
 "nbformat": 4,
 "nbformat_minor": 5
}
