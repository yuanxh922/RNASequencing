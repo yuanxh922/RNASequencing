{
 "cells": [
  {
   "cell_type": "code",
   "execution_count": null,
   "id": "naval-philippines",
   "metadata": {},
   "outputs": [],
   "source": [
    "import pandas as pd\n",
    "import matplotlib"
   ]
  },
  {
   "cell_type": "code",
   "execution_count": null,
   "id": "fundamental-contemporary",
   "metadata": {},
   "outputs": [],
   "source": [
    "%run data.ipynb\n",
    "%run ../modules/preprocessing.ipynb\n",
    "%run ../modules/cds.ipynb\n",
    "%run ../modules/utils.ipynb"
   ]
  },
  {
   "cell_type": "code",
   "execution_count": null,
   "id": "beneficial-morgan",
   "metadata": {},
   "outputs": [],
   "source": [
    "df23 = load_uc2(23)\n",
    "df24 = load_uc2(24)\n",
    "df23.shape, df24.shape"
   ]
  },
  {
   "cell_type": "code",
   "execution_count": null,
   "id": "negative-experiment",
   "metadata": {},
   "outputs": [],
   "source": [
    "df11 = load_uc2(11, intact=True)\n",
    "df12 = load_uc2(12, intact=True)\n",
    "df11.shape, df12.shape"
   ]
  },
  {
   "cell_type": "code",
   "execution_count": null,
   "id": "affected-columbus",
   "metadata": {},
   "outputs": [],
   "source": [
    "df11_25k = df11[(df11.Mass>24000)&(df11.Mass<25900)]\n",
    "df12_25k = df12[(df12.Mass>24000)&(df12.Mass<25900)]\n",
    "\n",
    "df11_25k_ll = df11_25k[(df11_25k.Mass<24800)&(df11_25k.RT<3.9)]\n",
    "df11_25k_ur = df11_25k[(df11_25k.Mass>25100)&(df11_25k.RT>3.89)]"
   ]
  },
  {
   "cell_type": "code",
   "execution_count": null,
   "id": "vital-calgary",
   "metadata": {},
   "outputs": [],
   "source": [
    "plotly_zone(df11_25k, y='RT')\n",
    "# plotly_zone(df12_25k, y='RT')\n",
    "\n",
    "# plotly_zone(df11_25k_ll, y='Vol')\n",
    "# plotly_zone(df11_25k_ur, y='Vol')\n",
    "df11_25k_selected = pd.concat([df11_25k_ll, df11_25k_ur])\n",
    "plotly_zone(df11_25k_selected, y='Vol')\n",
    "df11_25k_ll.Vol.sum(), df11_25k_ur.Vol.sum()"
   ]
  },
  {
   "cell_type": "code",
   "execution_count": null,
   "id": "italic-return",
   "metadata": {},
   "outputs": [],
   "source": [
    "dfm = match_dfs(df12_25k, df11_25k, shift=1*M)\n",
    "plotly_zones(df11_25k, dfm, y='Vol')\n",
    "dfm = match_dfs(df11_25k, df12_25k, shift=-1*M)\n",
    "plotly_zones(df12_25k, dfm, y='Vol')\n",
    "dfm.shape"
   ]
  },
  {
   "cell_type": "code",
   "execution_count": null,
   "id": "regulated-violation",
   "metadata": {},
   "outputs": [],
   "source": [
    "df11_25k.Mass.sum(), df11_25k_selected.Mass.sum(), df12_25k.Mass.sum()"
   ]
  },
  {
   "cell_type": "code",
   "execution_count": null,
   "id": "extreme-exclusive",
   "metadata": {},
   "outputs": [],
   "source": []
  },
  {
   "cell_type": "code",
   "execution_count": null,
   "id": "induced-monkey",
   "metadata": {},
   "outputs": [],
   "source": [
    "df11_25k_cluster1 = df11[(df11.Mass>24000)&(df11.Mass<24800)&(df11.RT<3.9)&(df11.Vol>100000)]\n",
    "df11_25k_cluster2 = df11[(df11.Mass>25000)&(df11.Mass<25700)&(df11.RT>3.81)&(df11.Vol>50000)]\n",
    "df11_25k_cluster1.shape, df11_25k_cluster2.shape, df11_25k_cluster1.Vol.sum(), df11_25k_cluster2.Vol.sum()"
   ]
  },
  {
   "cell_type": "code",
   "execution_count": null,
   "id": "nutritional-blues",
   "metadata": {},
   "outputs": [],
   "source": [
    "plotly_zone(df11_25k_cluster1, y='Vol')\n",
    "plotly_zone(df11_25k_cluster2, y='Vol')"
   ]
  },
  {
   "cell_type": "code",
   "execution_count": null,
   "id": "fitted-cornell",
   "metadata": {},
   "outputs": [],
   "source": [
    "df_sf, df_salts = remove_combinated_salts(df11_25k_cluster1)\n",
    "plotly_zones(df11_25k_cluster1, df_sf, y='Vol')\n",
    "df_sf, df_salts = remove_combinated_salts(df11_25k_cluster2)\n",
    "plotly_zones(df11_25k_cluster2, df_sf, y='Vol')\n",
    "# df_sf.shape, df_salts.shape"
   ]
  },
  {
   "cell_type": "code",
   "execution_count": null,
   "id": "fundamental-disorder",
   "metadata": {},
   "outputs": [],
   "source": []
  },
  {
   "cell_type": "code",
   "execution_count": null,
   "id": "superior-greece",
   "metadata": {},
   "outputs": [],
   "source": [
    "df_sf = df_sf.sort_values('Vol', ascending=False)\n",
    "df_sf"
   ]
  },
  {
   "cell_type": "code",
   "execution_count": null,
   "id": "southern-timber",
   "metadata": {},
   "outputs": [],
   "source": [
    "df_src = df23.copy()\n",
    "# df_src = df_chosen.copy()\n",
    "plotly_zone(df_src)"
   ]
  },
  {
   "cell_type": "code",
   "execution_count": null,
   "id": "governmental-blend",
   "metadata": {},
   "outputs": [],
   "source": [
    "# direct sequencing\n",
    "\n",
    "df_sample = df_src #df_src\n",
    "df_top = df_sample[(df_sample.Mass>1500)&(df_sample.Mass<12000)].sort_values('Vol', ascending=False).iloc[400:600].copy()\n",
    "# df_top = df_sample.copy()\n",
    "plotly_zone(df_top)\n",
    "\n",
    "bcr = base_calling_random(df_top)\n",
    "plotly_basecalling(*bcr, annotate=False)\n",
    "\n",
    "dfm = match_dfs(bcr[0], df_sample, shift=-1*M)\n",
    "if dfm.empty:\n",
    "    plotly_zone(bcr[0])\n",
    "else:\n",
    "    plotly_zones(bcr[0], dfm)"
   ]
  },
  {
   "cell_type": "code",
   "execution_count": null,
   "id": "bigger-grass",
   "metadata": {},
   "outputs": [],
   "source": []
  },
  {
   "cell_type": "code",
   "execution_count": null,
   "id": "silent-sacramento",
   "metadata": {},
   "outputs": [],
   "source": [
    "df_sample = df_src.sort_values('Vol', ascending=False).iloc[:2000]\n",
    "fullmass = 24352.33 #24447.25 #df_sf.iloc[0].Mass\n",
    "dfs = computational_data_seperation(df_sample, df_sample, full_mass=fullmass)\n",
    "plotly_zones(*dfs)"
   ]
  },
  {
   "cell_type": "code",
   "execution_count": null,
   "id": "stock-comment",
   "metadata": {},
   "outputs": [],
   "source": []
  },
  {
   "cell_type": "code",
   "execution_count": null,
   "id": "associate-terminology",
   "metadata": {},
   "outputs": [],
   "source": []
  }
 ],
 "metadata": {
  "kernelspec": {
   "display_name": "Python 3",
   "language": "python",
   "name": "python3"
  },
  "language_info": {
   "codemirror_mode": {
    "name": "ipython",
    "version": 3
   },
   "file_extension": ".py",
   "mimetype": "text/x-python",
   "name": "python",
   "nbconvert_exporter": "python",
   "pygments_lexer": "ipython3",
   "version": "3.7.3"
  }
 },
 "nbformat": 4,
 "nbformat_minor": 5
}
