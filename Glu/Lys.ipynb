{
 "cells": [
  {
   "cell_type": "code",
   "execution_count": null,
   "id": "conceptual-think",
   "metadata": {},
   "outputs": [],
   "source": [
    "import pandas as pd\n",
    "import matplotlib"
   ]
  },
  {
   "cell_type": "code",
   "execution_count": null,
   "id": "authentic-question",
   "metadata": {},
   "outputs": [],
   "source": [
    "%run data.ipynb\n",
    "%run ../modules/preprocessing.ipynb\n",
    "%run ../modules/cds.ipynb\n",
    "%run ../modules/utils.ipynb"
   ]
  },
  {
   "cell_type": "code",
   "execution_count": null,
   "id": "unlike-tobago",
   "metadata": {},
   "outputs": [],
   "source": [
    "# df15 = load_uc2(15)\n",
    "df15 = pd.read_excel('/Users/bryan/Documents/ChenLab/10Jun2021/degraded/DrChen_tRNA_A_Lys_FA_15.xlsx')\n",
    "df15 = thermo_df(df15)\n",
    "df16 = load_uc2(16)\n",
    "df21 = load_uc2(21)\n",
    "df22 = load_uc2(22)\n",
    "df15.shape, df16.shape, df21.shape, df22.shape"
   ]
  },
  {
   "cell_type": "code",
   "execution_count": null,
   "id": "sapphire-fancy",
   "metadata": {},
   "outputs": [],
   "source": [
    "df15.info()"
   ]
  },
  {
   "cell_type": "code",
   "execution_count": null,
   "id": "studied-maple",
   "metadata": {},
   "outputs": [],
   "source": [
    "\n",
    "df_src = df16.copy()\n",
    "# df_src = df_chosen.copy()\n",
    "plotly_zone(df_src)"
   ]
  },
  {
   "cell_type": "code",
   "execution_count": null,
   "id": "satellite-finance",
   "metadata": {},
   "outputs": [],
   "source": [
    "# direct sequencing\n",
    "\n",
    "df_top = df_src[(df_src.Mass>6000)&(df_src.Mass<8800)].sort_values('Vol', ascending=False).iloc[:100].copy()\n",
    "# df_top = df_src.copy()\n",
    "# plotly_zone(df_top4\n",
    "df_salts = list()\n",
    "for salt in [21.9819, 37.9558, 34.9694, 27.9949, 56.92]:\n",
    "    df_salt = match_dfs(df_top, df_top, shift=salt)\n",
    "#     df_top = df_top.drop(df_salt.index)\n",
    "    df_salts.append(df_salt)\n",
    "df_salts = pd.concat(df_salts)\n",
    "# plotly_zones(df_top, df_salts)\n",
    "\n",
    "bcr = base_calling_random(df_top)\n",
    "plotly_basecalling(*bcr, annotate=False)\n",
    "# groups = basecalling_groups(df_top)\n",
    "# plotly_basecalling(*groups[0], annotate=False)\n",
    "\n",
    "dfm1 = match_dfs(bcr[0], df_src, shift=-1*M)\n",
    "dfm2 = match_dfs(bcr[0], df_src, shift=1*M)\n",
    "# plotly_multi_zones([bcr[0], dfm1, dfm2])\n",
    "plotly_zones(bcr[0], dfm1)"
   ]
  },
  {
   "cell_type": "code",
   "execution_count": null,
   "id": "veterinary-sister",
   "metadata": {},
   "outputs": [],
   "source": [
    "target = 3982\n",
    "dfa = df_src[(df_src.Mass>target-1)&(df_src.Mass<target+1)]\n",
    "target += M\n",
    "dfb = df_src[(df_src.Mass>target-1)&(df_src.Mass<target+1)]\n",
    "dfa, dfb"
   ]
  },
  {
   "cell_type": "code",
   "execution_count": null,
   "id": "virgin-floating",
   "metadata": {},
   "outputs": [],
   "source": []
  },
  {
   "cell_type": "code",
   "execution_count": null,
   "id": "royal-jason",
   "metadata": {},
   "outputs": [],
   "source": [
    "# Choose dots\n",
    "\n",
    "idxs = list()\n",
    "# create our callback function\n",
    "def on_selection(trace, points, selector):\n",
    "    print('points {}'.format(points.point_inds) )\n",
    "    idxs.extend(points.point_inds)\n",
    "\n",
    "def on_click(trace, points, selector):\n",
    "#     print('points {}'.format(points.point_inds) )\n",
    "    idxs.extend(points.point_inds)\n",
    "\n",
    "df_sample = df_top #df_src[(df_src.Mass>5000)&(df_src.Mass<8700)]\n",
    "f = zone_selection(df_sample, on_selection=on_selection, on_click=on_click)\n",
    "f"
   ]
  },
  {
   "cell_type": "code",
   "execution_count": null,
   "id": "lonely-product",
   "metadata": {},
   "outputs": [],
   "source": [
    "df_chosen = df_sample.iloc[idxs]\n",
    "# df_zone = df_sample.drop(df_chosen.index)\n",
    "df_chosen.shape"
   ]
  },
  {
   "cell_type": "code",
   "execution_count": null,
   "id": "blind-glasgow",
   "metadata": {},
   "outputs": [],
   "source": [
    "df5p = df_chosen.copy()"
   ]
  },
  {
   "cell_type": "code",
   "execution_count": null,
   "id": "facial-hospital",
   "metadata": {},
   "outputs": [],
   "source": [
    "df_sample = df5p.sort_values('Vol', ascending=False).iloc[:20]\n",
    "# df_sample = df5p\n",
    "orientation = 5\n",
    "\n",
    "# df_sf, df_salts = remove_salts(df_sample)\n",
    "df_sf = df_sample\n",
    "\n",
    "bcr = base_calling_random(df_sf)\n",
    "plotly_basecalling(*bcr, annotate=False, y='RT')\n",
    "group = bcr\n",
    "\n",
    "# groups = basecalling_groups(df_sf)\n",
    "# group = groups[0]\n",
    "# plotly_basecalling(*group, annotate=False)\n",
    "\n",
    "# output seats\n",
    "# df = process_mass_base_seats(*group, full_mass=24174, orientation=orientation)\n",
    "# df.to_excel('~/Downloads/seats.xlsx')\n",
    "\n",
    "dfm = match_dfs(bcr[0], df_src, shift=-1*M)\n",
    "if not dfm.empty:\n",
    "    plotly_zones(bcr[0], dfm, y='RT')"
   ]
  },
  {
   "cell_type": "code",
   "execution_count": null,
   "id": "challenging-associate",
   "metadata": {},
   "outputs": [],
   "source": [
    "target = 8650\n",
    "dfa = df_src[(df_src.Mass>target-1)&(df_src.Mass<target+1)]\n",
    "target += M\n",
    "dfb = df_src[(df_src.Mass>target-1)&(df_src.Mass<target+1)]\n",
    "dfa, dfb"
   ]
  },
  {
   "cell_type": "code",
   "execution_count": null,
   "id": "static-jamaica",
   "metadata": {},
   "outputs": [],
   "source": [
    "# bcr[0].to_excel('~/Downloads/type_position_ori.xlsx')\n",
    "dfa = bcr[0].copy()\n",
    "dfb = dfm.copy()\n",
    "dfa['DeMethyl'] = False\n",
    "dfb['DeMethyl'] = True\n",
    "dfab = pd.concat([dfa, dfb])\n",
    "dfab.to_excel('~/Downloads/type_position_ori.xlsx')"
   ]
  },
  {
   "cell_type": "code",
   "execution_count": null,
   "id": "weighted-celebration",
   "metadata": {},
   "outputs": [],
   "source": []
  },
  {
   "cell_type": "code",
   "execution_count": null,
   "id": "helpful-sunglasses",
   "metadata": {},
   "outputs": [],
   "source": []
  },
  {
   "cell_type": "code",
   "execution_count": null,
   "id": "advisory-upper",
   "metadata": {},
   "outputs": [],
   "source": []
  },
  {
   "cell_type": "code",
   "execution_count": null,
   "id": "national-separation",
   "metadata": {},
   "outputs": [],
   "source": [
    "def remove_salts(df_sample, salts=[21.9819, 37.9558, 34.9694, 27.9949, 56.92]):\n",
    "    df = df_sample.copy()\n",
    "    df_salts = list()\n",
    "    for salt in salts:\n",
    "        df_salt = match_dfs(df, df, shift=salt)\n",
    "#         df = df.drop(df_salt.index)\n",
    "        df_salts.append(df_salt)\n",
    "    df_salts = pd.concat(df_salts).drop_duplicates()\n",
    "    df = df.drop(df_salts.index)\n",
    "    return df, df_salts"
   ]
  },
  {
   "cell_type": "code",
   "execution_count": null,
   "id": "accessible-treaty",
   "metadata": {},
   "outputs": [],
   "source": []
  }
 ],
 "metadata": {
  "kernelspec": {
   "display_name": "Python 3",
   "language": "python",
   "name": "python3"
  },
  "language_info": {
   "codemirror_mode": {
    "name": "ipython",
    "version": 3
   },
   "file_extension": ".py",
   "mimetype": "text/x-python",
   "name": "python",
   "nbconvert_exporter": "python",
   "pygments_lexer": "ipython3",
   "version": "3.7.3"
  }
 },
 "nbformat": 4,
 "nbformat_minor": 5
}
