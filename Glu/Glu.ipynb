{
 "cells": [
  {
   "cell_type": "code",
   "execution_count": null,
   "id": "adequate-physiology",
   "metadata": {},
   "outputs": [],
   "source": [
    "import pandas as pd\n",
    "import matplotlib"
   ]
  },
  {
   "cell_type": "code",
   "execution_count": null,
   "id": "subjective-viewer",
   "metadata": {},
   "outputs": [],
   "source": [
    "%run data.ipynb\n",
    "%run ../modules/preprocessing.ipynb\n",
    "%run ../modules/cds.ipynb\n",
    "%run ../modules/utils.ipynb"
   ]
  },
  {
   "cell_type": "code",
   "execution_count": null,
   "id": "incorporated-safety",
   "metadata": {},
   "outputs": [],
   "source": [
    "dfx = pd.read_excel('/Users/bryan/Documents/Data/UC/UC_glu_5_merge.xlsx')\n",
    "# dfx = pd.read_excel('/Users/bryan/Documents/ChenLab/10Jun2021/degraded/DrChen_tRNA_A_Glu_FA_17.xlsx')\n",
    "\n",
    "# dfx = thermo_df(dfx)\n",
    "plotly_zone(dfx)\n",
    "# dfx_top = dfx[dfx.Mass>1200].sort_values('Vol', ascending=False).iloc[:100]\n",
    "# bcr = base_calling_random(dfx_top)\n",
    "# plotly_basecalling(*bcr, annotate=False)"
   ]
  },
  {
   "cell_type": "code",
   "execution_count": null,
   "id": "clear-montana",
   "metadata": {},
   "outputs": [],
   "source": [
    "df_217_3p_6mG = pd.read_excel('/Users/bryan/Studio/tools/glu_24217_3p_6mG.xlsx')\n",
    "df_217_5p_6mG = pd.read_excel('/Users/bryan/Studio/tools/glu_24217_5p_6mG.xlsx')\n",
    "df_217_3p = pd.read_excel('/Users/bryan/Studio/tools/glu_24217_3p.xlsx')\n",
    "df_217_5p = pd.read_excel('/Users/bryan/Studio/tools/glu_24217_5p.xlsx')\n",
    "df_203_3p_6mG = pd.read_excel('/Users/bryan/Studio/tools/glu_24203_3p_6mG.xlsx')\n",
    "df_203_5p_6mG = pd.read_excel('/Users/bryan/Studio/tools/glu_24203_5p_6mG.xlsx')\n",
    "df_203_3p = pd.read_excel('/Users/bryan/Studio/tools/glu_24203_3p.xlsx')\n",
    "df_203_5p = pd.read_excel('/Users/bryan/Studio/tools/glu_24203_5p.xlsx')\n",
    "df_189_3p = pd.read_excel('/Users/bryan/Studio/tools/glu_24189_3p.xlsx')\n",
    "df_189_5p = pd.read_excel('/Users/bryan/Studio/tools/glu_24189_5p.xlsx')"
   ]
  },
  {
   "cell_type": "code",
   "execution_count": null,
   "id": "outdoor-antigua",
   "metadata": {},
   "outputs": [],
   "source": [
    "df_tmp = df_189_3p.copy()\n",
    "df_tmp = df_tmp[df_tmp.Mass>20200]\n",
    "# df_tmp = df_tmp[df_tmp.Mass<4200]\n",
    "df_sample = dfx\n",
    "dfm1 = match_dfs(df_tmp, df_sample)\n",
    "# plotly_zone(dfm1)\n",
    "df_tmp.Mass += M\n",
    "dfm2 = match_dfs(df_tmp, df_sample)\n",
    "plotly_zones(dfm1, dfm2)\n",
    "\n",
    "# df_tmp.Mass += 1\n",
    "# dfm3 = match_dfs(df_tmp, df_sample)\n",
    "# # plotly_multi_zones([dfm1, dfm2, dfm3])\n",
    "\n",
    "# df_tmp = df_203_3p.copy()\n",
    "# df_tmp = df_tmp[df_tmp.Mass>20200]\n",
    "# # df_tmp = df_tmp[df_tmp.Mass<4200]\n",
    "# dfm2 = match_dfs(df_tmp, df_sample)\n",
    "# # plotly_zones(dfm2, dfm1)\n",
    "# # plotly_zone(dfm2)\n",
    "\n",
    "# bcr = base_calling_random(dfm1)\n",
    "# plotly_basecalling(dfm1, bcr[1], annotate=False)\n",
    "# bcr = base_calling_random(dfm2)\n",
    "# plotly_basecalling(dfm2, bcr[1], annotate=False)"
   ]
  },
  {
   "cell_type": "code",
   "execution_count": null,
   "id": "loose-competition",
   "metadata": {},
   "outputs": [],
   "source": [
    "target = 24189\n",
    "dfa = df_sample[(df_sample.Mass>target-1)&(df_sample.Mass<target+1)]\n",
    "target += M\n",
    "dfb = df_sample[(df_sample.Mass>target-1)&(df_sample.Mass<target+1)]\n",
    "dfa, dfb"
   ]
  },
  {
   "cell_type": "code",
   "execution_count": null,
   "id": "going-announcement",
   "metadata": {},
   "outputs": [],
   "source": []
  },
  {
   "cell_type": "code",
   "execution_count": null,
   "id": "weird-transaction",
   "metadata": {},
   "outputs": [],
   "source": []
  },
  {
   "cell_type": "code",
   "execution_count": null,
   "id": "formal-intersection",
   "metadata": {},
   "outputs": [],
   "source": [
    "# df17 = load_uc2(17)\n",
    "df17 = pd.read_excel('/Users/bryan/Documents/ChenLab/10Jun2021/degraded/DrChen_tRNA_A_Glu_FA_17.xlsx')\n",
    "df17 = thermo_df(df17)\n",
    "df18 = load_uc2(18)\n",
    "df17.shape, df18.shape"
   ]
  },
  {
   "cell_type": "code",
   "execution_count": null,
   "id": "heavy-furniture",
   "metadata": {},
   "outputs": [],
   "source": [
    "df17_25k = df17[(df17.Mass>23900)&(df17.Mass<25000)].sort_values('Vol', ascending=False).iloc[:20]\n",
    "df18_25k = df18[df18.Mass>23900].sort_values('Vol', ascending=False).iloc[:20]\n",
    "plotly_zone(df17_25k, y='Vol')\n",
    "plotly_zone(df18_25k, y='Vol')\n",
    "plotly_zones(df17_25k, df18_25k, y='Vol')"
   ]
  },
  {
   "cell_type": "code",
   "execution_count": null,
   "id": "female-edmonton",
   "metadata": {},
   "outputs": [],
   "source": [
    "\n",
    "df_src = df17.copy()\n",
    "# df_src = df_chosen.copy()\n",
    "plotly_zone(df_src[(df_src.Mass>2000)&(df_src.Mass<25000)], y='Vol')"
   ]
  },
  {
   "cell_type": "code",
   "execution_count": null,
   "id": "compressed-contract",
   "metadata": {},
   "outputs": [],
   "source": [
    "# direct sequencing\n",
    "\n",
    "df_top = df_src[(df_src.Mass>1500)&(df_src.Mass<24000)].sort_values('Vol', ascending=False).iloc[:200].copy()\n",
    "df_top.shape\n",
    "# df_top = df_src.copy()\n",
    "\n",
    "# df_salts = list()\n",
    "# for salt in [21.9819, 37.9558, 34.9694, 27.9949, 56.92]:\n",
    "#     df_salt = match_dfs(df_top, df_top, shift=salt)\n",
    "# #     df_top = df_top.drop(df_salt.index)\n",
    "#     df_salts.append(df_salt)\n",
    "# df_salts = pd.concat(df_salts).drop_duplicates()\n",
    "# # df_top = df_top.drop(df_salts.index)\n",
    "# # plotly_zones(df_top, df_salts)\n",
    "\n",
    "bcr = base_calling_random(df_top)\n",
    "plotly_basecalling(*bcr, annotate=False)\n",
    "# groups = basecalling_groups(df_top)\n",
    "# plotly_basecalling(*groups[0], annotate=False)\n",
    "\n",
    "dfm1 = match_dfs(bcr[0], df_src, shift=-1*M)\n",
    "dfm2 = match_dfs(bcr[0], df_src, shift=1*M)\n",
    "# plotly_multi_zones([bcr[0], dfm1, dfm2])\n",
    "if not dfm1.empty:\n",
    "    plotly_zones(bcr[0], dfm1, names=['baseline', 'de-methyl'])"
   ]
  },
  {
   "cell_type": "code",
   "execution_count": null,
   "id": "limiting-appliance",
   "metadata": {},
   "outputs": [],
   "source": [
    "target = 22888\n",
    "dfa = df_src[(df_src.Mass>target-1)&(df_src.Mass<target+1)]\n",
    "target += M\n",
    "dfb = df_src[(df_src.Mass>target-1)&(df_src.Mass<target+1)]\n",
    "dfa, dfb"
   ]
  },
  {
   "cell_type": "code",
   "execution_count": null,
   "id": "realistic-serum",
   "metadata": {},
   "outputs": [],
   "source": []
  },
  {
   "cell_type": "code",
   "execution_count": null,
   "id": "further-certificate",
   "metadata": {},
   "outputs": [],
   "source": [
    "# Choose dots\n",
    "\n",
    "idxs = list()\n",
    "# create our callback function\n",
    "def on_selection(trace, points, selector):\n",
    "    print('points {}'.format(points.point_inds) )\n",
    "    idxs.extend(points.point_inds)\n",
    "\n",
    "def on_click(trace, points, selector):\n",
    "#     print('points {}'.format(points.point_inds) )\n",
    "    idxs.extend(points.point_inds)\n",
    "\n",
    "df_sample = df_top\n",
    "f = zone_selection(df_sample, on_selection=on_selection, on_click=on_click)\n",
    "f"
   ]
  },
  {
   "cell_type": "code",
   "execution_count": null,
   "id": "serial-offer",
   "metadata": {},
   "outputs": [],
   "source": [
    "df_chosen = df_sample.iloc[idxs]\n",
    "# df_zone = df_sample.drop(df_chosen.index)\n",
    "df_chosen.shape"
   ]
  },
  {
   "cell_type": "code",
   "execution_count": null,
   "id": "auburn-sigma",
   "metadata": {},
   "outputs": [],
   "source": [
    "# direct sequencing on small zone\n",
    "\n",
    "df_zone = df_chosen.sort_values('Vol', ascending=False).iloc[:36]\n",
    "df_top = df_zone\n",
    "# df_top = df_zone[df_zone.Mass<7000]\n",
    "df_salts = list()\n",
    "for salt in [21.9819, 37.9558, 34.9694, 27.9949, 56.92]:\n",
    "    df_salt = match_dfs(df_top, df_top, shift=salt)\n",
    "    df_salts.append(df_salt)\n",
    "df_salts = pd.concat(df_salts).drop_duplicates()\n",
    "# df_top = df_top.drop(df_salts.index)\n",
    "\n",
    "bcr = base_calling_random(df_top)\n",
    "plotly_basecalling(*bcr, annotate=False, y='RT')\n",
    "\n",
    "dfm1 = match_dfs(bcr[0], df_src, shift=-1*M)\n",
    "dfm2 = match_dfs(bcr[0], df_src, shift=1*M)\n",
    "# plotly_multi_zones([bcr[0], dfm1, dfm2])\n",
    "if not dfm1.empty:\n",
    "    plotly_zones(bcr[0], dfm1)\n",
    "else:\n",
    "    plotly_zone(bcr[0])"
   ]
  },
  {
   "cell_type": "code",
   "execution_count": null,
   "id": "continued-david",
   "metadata": {},
   "outputs": [],
   "source": [
    "# df3p.to_excel('~/Downloads/type_position_ori.xlsx')\n",
    "\n",
    "bcr[0].to_excel('~/Downloads/type_position_ori.xlsx')\n",
    "# bcr[0], dfm1\n",
    "# dfa = bcr[0].copy()\n",
    "# dfb = dfm1.copy()\n",
    "# dfa['DeMethyl'] = False\n",
    "# dfb['DeMethyl'] = True\n",
    "# dfab = pd.concat([dfa, dfb])\n",
    "# dfab.to_excel('~/Downloads/type_position_ori.xlsx')"
   ]
  },
  {
   "cell_type": "code",
   "execution_count": null,
   "id": "experienced-foundation",
   "metadata": {},
   "outputs": [],
   "source": []
  },
  {
   "cell_type": "code",
   "execution_count": null,
   "id": "legal-ticket",
   "metadata": {},
   "outputs": [],
   "source": [
    "df_217_3p_6mG = pd.read_excel('/Users/bryan/Studio/tools/glu_24217_3p_6mG.xlsx')\n",
    "df_217_5p_6mG = pd.read_excel('/Users/bryan/Studio/tools/glu_24217_5p_6mG.xlsx')\n",
    "df_218_3p = pd.read_excel('/Users/bryan/Studio/tools/glu_24218_3p.xlsx')\n",
    "df_218_5p = pd.read_excel('/Users/bryan/Studio/tools/glu_24218_5p.xlsx')\n",
    "df_203_3p_6mG = pd.read_excel('/Users/bryan/Studio/tools/glu_24203_3p_6mG.xlsx')\n",
    "df_203_5p_6mG = pd.read_excel('/Users/bryan/Studio/tools/glu_24203_5p_6mG.xlsx')\n",
    "df_204_3p = pd.read_excel('/Users/bryan/Studio/tools/glu_24204_3p.xlsx')\n",
    "df_204_5p = pd.read_excel('/Users/bryan/Studio/tools/glu_24204_5p.xlsx')\n",
    "df_189_3p = pd.read_excel('/Users/bryan/Studio/tools/glu_24189_3p.xlsx')\n",
    "df_189_5p = pd.read_excel('/Users/bryan/Studio/tools/glu_24189_5p.xlsx')\n",
    "df_232_3p = pd.read_excel('/Users/bryan/Studio/tools/glu_24232_3p.xlsx')\n",
    "df_232_5p = pd.read_excel('/Users/bryan/Studio/tools/glu_24232_5p.xlsx')"
   ]
  },
  {
   "cell_type": "code",
   "execution_count": null,
   "id": "driving-hello",
   "metadata": {},
   "outputs": [],
   "source": [
    "df = df17.copy()"
   ]
  },
  {
   "cell_type": "code",
   "execution_count": null,
   "id": "outdoor-retrieval",
   "metadata": {},
   "outputs": [],
   "source": [
    "\n",
    "# df_217_5p_6mG.head(10), dfm_217_3p_rev.head(), df_217_5p_6mG.tail(10), dfm_217_3p_rev.tail()"
   ]
  },
  {
   "cell_type": "code",
   "execution_count": null,
   "id": "coordinate-internship",
   "metadata": {},
   "outputs": [],
   "source": [
    "# Glu Wild-type\n",
    "\n",
    "dfm_217_5p = match_dfs(df_217_5p_6mG, df)\n",
    "dfm_217_3p = match_dfs(df_217_3p_6mG, df)\n",
    "dfm_203_5p = match_dfs(df_203_5p_6mG, df)\n",
    "dfm_203_3p = match_dfs(df_203_3p_6mG, df)\n",
    "dfm_218_5p = match_dfs(df_218_5p, df)\n",
    "dfm_218_3p = match_dfs(df_218_3p, df)\n",
    "dfm_204_5p = match_dfs(df_204_5p, df)\n",
    "dfm_204_3p = match_dfs(df_204_3p, df)\n",
    "dfm_232_5p = match_dfs(df_232_5p, df)\n",
    "dfm_232_3p = match_dfs(df_232_3p, df)\n",
    "dfm_189_5p = match_dfs(df_189_5p, df)\n",
    "dfm_189_3p = match_dfs(df_189_3p, df)\n",
    "\n",
    "dfm_217_3p_rev = dfm_217_3p.sort_values('Mass').copy()\n",
    "dfm_217_3p_rev.Mass = df_217_3p_6mG.Mass.max() + H2O - dfm_217_3p_rev.Mass\n",
    "dfm_203_3p_rev = dfm_203_3p.sort_values('Mass').copy()\n",
    "dfm_203_3p_rev.Mass = df_203_3p_6mG.Mass.max() + H2O - dfm_203_3p_rev.Mass\n",
    "dfm_218_3p_rev = dfm_218_3p.sort_values('Mass').copy()\n",
    "dfm_218_3p_rev.Mass = df_218_3p.Mass.max() + H2O - dfm_218_3p_rev.Mass\n",
    "dfm_204_3p_rev = dfm_204_3p.sort_values('Mass').copy()\n",
    "dfm_204_3p_rev.Mass = df_204_3p.Mass.max() + H2O - dfm_204_3p_rev.Mass\n",
    "dfm_232_3p_rev = dfm_232_3p.sort_values('Mass').copy()\n",
    "dfm_232_3p_rev.Mass = df_232_3p.Mass.max() + H2O - dfm_232_3p_rev.Mass\n",
    "dfm_189_3p_rev = dfm_189_3p.sort_values('Mass').copy()\n",
    "dfm_189_3p_rev.Mass = df_189_3p.Mass.max() + H2O - dfm_189_3p_rev.Mass\n",
    "\n",
    "dfm_217_3p_rev = dfm_217_3p_rev[dfm_217_3p_rev.Mass>200]\n",
    "dfm_203_3p_rev = dfm_203_3p_rev[dfm_203_3p_rev.Mass>200]\n",
    "dfm_218_3p_rev = dfm_218_3p_rev[dfm_218_3p_rev.Mass>200]\n",
    "dfm_204_3p_rev = dfm_204_3p_rev[dfm_204_3p_rev.Mass>200]\n",
    "dfm_232_3p_rev = dfm_232_3p_rev[dfm_232_3p_rev.Mass>200]\n",
    "dfm_189_3p_rev = dfm_189_3p_rev[dfm_189_3p_rev.Mass>200]\n",
    "\n",
    "fig, (ax1, ax2) = plt.subplots(2, figsize=(12, 5), \n",
    "                               sharex=True, sharey=True, \n",
    "                               gridspec_kw={'height_ratios': [5, 1]})\n",
    "\n",
    "dfs = [\n",
    "       (dfm_217_5p, \"24217 5'\"),\n",
    "       (dfm_203_5p, \"24203 5'\"),\n",
    "       (dfm_218_5p, \"24218 5'\"),\n",
    "       (dfm_204_5p, \"24204 5'\"),\n",
    "       (dfm_232_5p, \"24232 5'\"),\n",
    "       (dfm_189_5p, \"24189 5'\"),\n",
    "       \n",
    "       (dfm_217_3p_rev, \"24217 3' --> 5'\"),\n",
    "       (dfm_203_3p_rev, \"24203 3' --> 5'\"),\n",
    "       (dfm_218_3p_rev, \"24218 3' --> 5'\"),\n",
    "       (dfm_204_3p_rev, \"24204 3' --> 5'\"),\n",
    "       (dfm_232_3p_rev, \"24232 3' --> 5'\"),\n",
    "       (dfm_189_3p_rev, \"24189 3' --> 5'\"),\n",
    "      ] \n",
    "\n",
    "total = len(dfs)\n",
    "df_isoforms = list()\n",
    "for idx, item in enumerate(dfs):\n",
    "    df_iso = item[0].copy()\n",
    "    print(idx, df_iso.shape)\n",
    "    if 'Position' in df_iso.columns:\n",
    "        df_iso['pos'] = df_iso.Position\n",
    "    else:\n",
    "        df_iso['pos'] = df_iso.Mass/320\n",
    "        df_iso.pos.astype(int)\n",
    "    label = item[1]\n",
    "    ax1.scatter(df_iso.Mass, [total - idx]*len(df_iso.Mass), label=label)\n",
    "    \n",
    "    df_iso['Isoform'] = idx + 1\n",
    "    df_isoforms.append(df_iso)\n",
    "# plt.legend(loc=3)\n",
    "\n",
    "df_merge_5p = pd.concat(df_isoforms).drop_duplicates(subset=['Mass', 'RT'])\n",
    "print(df_merge_5p.shape)\n",
    "ax2.scatter(df_merge_5p.Mass, [3]*df_merge_5p.shape[0], color='b')\n",
    "\n",
    "# df_merge_5p = pd.concat(df_isoforms)\n",
    "# output(df_merge_5p, plt, fig, 1, 'phe_complement_5p3p')\n",
    "\n",
    "fig.tight_layout()\n",
    "plt.savefig('/Users/bryan/Downloads/Wild/tRNA_glu_complement.svg', transparent=True, dpi=300)"
   ]
  },
  {
   "cell_type": "code",
   "execution_count": null,
   "id": "nearby-earthquake",
   "metadata": {},
   "outputs": [],
   "source": []
  }
 ],
 "metadata": {
  "kernelspec": {
   "display_name": "Python 3",
   "language": "python",
   "name": "python3"
  },
  "language_info": {
   "codemirror_mode": {
    "name": "ipython",
    "version": 3
   },
   "file_extension": ".py",
   "mimetype": "text/x-python",
   "name": "python",
   "nbconvert_exporter": "python",
   "pygments_lexer": "ipython3",
   "version": "3.7.3"
  }
 },
 "nbformat": 4,
 "nbformat_minor": 5
}
