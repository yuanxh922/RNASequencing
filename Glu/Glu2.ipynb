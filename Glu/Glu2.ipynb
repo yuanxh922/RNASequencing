{
 "cells": [
  {
   "cell_type": "code",
   "execution_count": null,
   "id": "wound-drove",
   "metadata": {},
   "outputs": [],
   "source": [
    "import pandas as pd\n",
    "import matplotlib"
   ]
  },
  {
   "cell_type": "code",
   "execution_count": null,
   "id": "blocked-sample",
   "metadata": {},
   "outputs": [],
   "source": [
    "%run data.ipynb\n",
    "%run ../modules/preprocessing.ipynb\n",
    "%run ../modules/cds.ipynb\n",
    "%run ../modules/utils.ipynb"
   ]
  },
  {
   "cell_type": "code",
   "execution_count": null,
   "id": "referenced-norfolk",
   "metadata": {},
   "outputs": [],
   "source": [
    "dfa = load_uc_glu(1)\n",
    "dfa_alkb = load_uc_glu(2)\n",
    "dfa_ad = load_uc_glu(5, more=True)\n",
    "dfa_ad_alkb = load_uc_glu(6, more=True)\n",
    "dfa.shape, dfa_ad.shape\n",
    "# plotly_zone(dfa_alkb)\n",
    "# plotly_zone(dfa_ad_alkb)"
   ]
  },
  {
   "cell_type": "code",
   "execution_count": null,
   "id": "logical-latex",
   "metadata": {},
   "outputs": [],
   "source": [
    "plotly_zone(dfa, y='Vol')"
   ]
  },
  {
   "cell_type": "code",
   "execution_count": null,
   "id": "bibliographic-front",
   "metadata": {},
   "outputs": [],
   "source": [
    "dfb = load_uc2(5)\n",
    "dfb_alkb = load_uc2(6)\n",
    "dfb_ad = pd.read_excel('/Users/bryan/Documents/ChenLab/10Jun2021/degraded/DrChen_tRNA_A_Glu_FA_17.xlsx')\n",
    "dfb_ad = thermo_df(dfb_ad)\n",
    "# dfb_ad = load_uc2(17)\n",
    "dfb_ad_alkb = load_uc2(18)\n",
    "dfb.shape, dfb_ad.shape\n",
    "# plotly_zone(dfb)\n",
    "# plotly_zone(dfb_ad)"
   ]
  },
  {
   "cell_type": "code",
   "execution_count": null,
   "id": "corrected-contact",
   "metadata": {},
   "outputs": [],
   "source": [
    "dfa_25k = dfa[(dfa.Mass>24000)&(dfa.Mass<24500)]\n",
    "dfa_ad_25k = dfa_ad[(dfa_ad.Mass>24000)&(dfa_ad.Mass<24500)]"
   ]
  },
  {
   "cell_type": "code",
   "execution_count": null,
   "id": "accompanied-testimony",
   "metadata": {},
   "outputs": [],
   "source": [
    "dfa_alkb_25k = dfa_alkb[(dfa_alkb.Mass>24000)&(dfa_alkb.Mass<24500)]\n",
    "dfa_ad_alkb_25k = dfa_ad_alkb[(dfa_ad_alkb.Mass>24000)&(dfa_ad_alkb.Mass<24500)]"
   ]
  },
  {
   "cell_type": "code",
   "execution_count": null,
   "id": "smoking-botswana",
   "metadata": {},
   "outputs": [],
   "source": [
    "# dfx = dfa_25k[dfa_25k.Vol>100000]\n",
    "# dfx = dfa_ad_25k[(dfa_ad_25k.Vol>50000)&(dfa_ad_25k.Mass>24189)&(dfa_ad_25k.Mass<24234)]\n",
    "# plotly_zone(dfx, y='Vol')\n",
    "\n",
    "dfy = dfa_alkb_25k[dfa_alkb_25k.Vol>100000]\n",
    "dfy_ad = dfa_ad_alkb_25k[(dfa_ad_alkb_25k.Vol>60000)&(dfa_ad_alkb_25k.Mass>24189)&(dfa_ad_alkb_25k.Mass<24234)]\n",
    "# plotly_zone(dfy, y='Vol')\n",
    "\n",
    "plotly_zones(dfy, dfy_ad, y='Vol')\n",
    "# dfx = dfx.copy()\n",
    "# dfy = dfy.copy()\n",
    "# dfx.Vol /= dfx.Vol.max()\n",
    "# dfy.Vol /= dfy.Vol.max()\n",
    "# plotly_zones(dfx, dfy, y='Vol')"
   ]
  },
  {
   "cell_type": "code",
   "execution_count": null,
   "id": "grateful-experiment",
   "metadata": {},
   "outputs": [],
   "source": []
  },
  {
   "cell_type": "code",
   "execution_count": null,
   "id": "norman-lawyer",
   "metadata": {},
   "outputs": [],
   "source": [
    "# dfb_25k = dfb[dfb.Mass>24000]\n",
    "# dfb_alkb_25k = dfb_alkb[dfb_alkb.Mass>24000]\n",
    "dfb_ad_25k = dfb_ad[(dfb_ad.Mass>24000)&(dfb_ad.Mass<27000)]\n",
    "dfb_ad_alkb_25k = dfb_ad_alkb[(dfb_ad_alkb.Mass>24000)]"
   ]
  },
  {
   "cell_type": "code",
   "execution_count": null,
   "id": "dietary-provider",
   "metadata": {},
   "outputs": [],
   "source": [
    "# plotly_zone(dfb_25k[dfb_25k.Vol>100000], y='Vol')\n",
    "plotly_zone(dfb_ad_25k[dfb_ad_25k.Vol>50000], y='Vol')\n",
    "\n",
    "# plotly_zone(dfb_alkb_25k[dfb_alkb_25k.Vol>100000], y='Vol')\n",
    "plotly_zone(dfb_ad_alkb_25k[dfb_ad_alkb_25k.Vol>50000], y='Vol')"
   ]
  },
  {
   "cell_type": "code",
   "execution_count": null,
   "id": "stuck-scientist",
   "metadata": {},
   "outputs": [],
   "source": []
  },
  {
   "cell_type": "code",
   "execution_count": null,
   "id": "apart-ethiopia",
   "metadata": {},
   "outputs": [],
   "source": [
    "dfm1 = match_dfs(dfb_ad_alkb_25k, dfb_ad_25k, shift=1*M)\n",
    "plotly_zones(dfb_ad_25k, dfm1, y='Vol')\n",
    "dfm2 = match_dfs(dfb_ad_25k, dfb_ad_alkb_25k, shift=-1*M)\n",
    "plotly_zones(dfb_ad_alkb_25k, dfm2, y='Vol')\n",
    "plotly_zones(dfm1, dfm2)"
   ]
  },
  {
   "cell_type": "code",
   "execution_count": null,
   "id": "distinguished-feeding",
   "metadata": {},
   "outputs": [],
   "source": [
    "dfa_25k = dfa[(dfa.Mass>23900)]\n",
    "dfb_25k = dfb[(dfb.Mass>23900)]\n",
    "plotly_zone(dfa_25k, y='Vol')\n",
    "plotly_zone(dfb_25k, y='Vol')\n",
    "\n",
    "# dfa_alkb_25k = dfa_alkb[(dfa_alkb.Mass>23900)]\n",
    "# dfb_alkb_25k = dfb_alkb[(dfb_alkb.Mass>23900)]\n",
    "# plotly_zone(dfa_alkb_25k, y='Vol')\n",
    "# plotly_zone(dfb_alkb_25k, y='Vol')"
   ]
  },
  {
   "cell_type": "code",
   "execution_count": null,
   "id": "liked-effects",
   "metadata": {},
   "outputs": [],
   "source": []
  },
  {
   "cell_type": "code",
   "execution_count": null,
   "id": "civilian-inspiration",
   "metadata": {},
   "outputs": [],
   "source": [
    "\n",
    "plotly_zone(dfb_25k, y='RT')"
   ]
  },
  {
   "cell_type": "code",
   "execution_count": null,
   "id": "smaller-fossil",
   "metadata": {},
   "outputs": [],
   "source": []
  },
  {
   "cell_type": "code",
   "execution_count": null,
   "id": "metric-carol",
   "metadata": {},
   "outputs": [],
   "source": []
  },
  {
   "cell_type": "code",
   "execution_count": null,
   "id": "downtown-uganda",
   "metadata": {},
   "outputs": [],
   "source": []
  },
  {
   "cell_type": "code",
   "execution_count": null,
   "id": "daily-bearing",
   "metadata": {},
   "outputs": [],
   "source": [
    "dfm = match_dfs(dfa_25k, dfb_25k)\n",
    "plotly_zones(dfb_25k, dfm, y='Vol')\n",
    "dfm = match_dfs(dfb_25k, dfa_25k)\n",
    "plotly_zones(dfa_25k, dfm, y='Vol')"
   ]
  },
  {
   "cell_type": "code",
   "execution_count": null,
   "id": "greek-plymouth",
   "metadata": {},
   "outputs": [],
   "source": []
  }
 ],
 "metadata": {
  "kernelspec": {
   "display_name": "Python 3",
   "language": "python",
   "name": "python3"
  },
  "language_info": {
   "codemirror_mode": {
    "name": "ipython",
    "version": 3
   },
   "file_extension": ".py",
   "mimetype": "text/x-python",
   "name": "python",
   "nbconvert_exporter": "python",
   "pygments_lexer": "ipython3",
   "version": "3.7.3"
  }
 },
 "nbformat": 4,
 "nbformat_minor": 5
}
