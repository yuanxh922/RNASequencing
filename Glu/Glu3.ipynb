{
 "cells": [
  {
   "cell_type": "code",
   "execution_count": 1,
   "id": "israeli-mileage",
   "metadata": {},
   "outputs": [],
   "source": [
    "import pandas as pd\n",
    "import matplotlib"
   ]
  },
  {
   "cell_type": "code",
   "execution_count": 2,
   "id": "modular-louisiana",
   "metadata": {},
   "outputs": [],
   "source": [
    "%run data.ipynb\n",
    "%run ../modules/preprocessing.ipynb\n",
    "%run ../modules/cds.ipynb\n",
    "%run ../modules/utils.ipynb"
   ]
  },
  {
   "cell_type": "code",
   "execution_count": 506,
   "id": "noble-settlement",
   "metadata": {},
   "outputs": [
    {
     "name": "stdout",
     "output_type": "stream",
     "text": [
      "            Mass        RT         Vol         RA        FA\n",
      "38  24204.280838  3.908830  5130159.03  13.186417  3.033720\n",
      "34  24218.258135  3.908830  2150057.99   5.526449  1.271437\n",
      "28  24235.277412  3.908830   730082.50   1.876584  0.431734\n",
      "33  24219.260911  3.841848   477417.31   1.227140  0.282321\n",
      "40  24189.292910  3.908830   419119.83   1.077294  0.247847\n"
     ]
    },
    {
     "data": {
      "application/vnd.plotly.v1+json": {
       "config": {
        "plotlyServerURL": "https://plot.ly"
       },
       "data": [
        {
         "hovertemplate": "Mass=%{x}<br>Vol=%{y}<extra></extra>",
         "legendgroup": "",
         "marker": {
          "color": "#636efa",
          "symbol": "circle"
         },
         "mode": "markers",
         "name": "",
         "orientation": "v",
         "showlegend": false,
         "type": "scatter",
         "x": [
          24203.2846934834,
          24204.2917711877,
          24219.2738984065,
          24218.2785968118,
          24236.2883314722,
          24189.2775336598,
          24234.2812118421,
          24261.281972402,
          24262.2720395597,
          24235.26497573,
          24541.4325717133,
          24249.2727911127,
          24555.4340518195,
          24136.2865638065,
          24174.2814283287,
          24275.2635993445,
          24277.2918581922,
          24188.2623166929,
          24247.277783347,
          24233.3026858385,
          24228.2715829137,
          24343.3285454944,
          24556.4305320016,
          24527.4073872232,
          24154.28693945,
          24227.2703519223,
          24251.2882252758,
          24137.2865748542,
          24123.2597417872,
          24274.2523351447,
          24276.2609320619,
          24226.2657795594,
          24069.2516648053,
          24246.2929243045,
          24292.2793669629,
          24269.2622217446,
          24175.2907891446,
          24106.2732995552,
          24108.3001121549,
          24081.2439496886,
          24165.2621448638,
          24570.4380379102,
          24088.2532031971,
          24070.2710275537,
          24121.2455637951,
          24526.4094975243,
          24053.2077540512,
          24146.298022914,
          24571.437649713,
          24164.2639415522,
          24149.2832586332,
          24142.2806364874,
          24306.2742068385,
          24376.3761084539,
          24237.3175597628,
          24253.2747808363,
          24286.2703289989,
          24283.2830577121,
          24569.4285710057,
          24392.3793003624,
          24134.2352230123,
          24391.3711309533,
          24143.2682807451,
          24329.3136706263,
          24600.456835814,
          24362.372339672,
          24131.2857463482,
          24100.2369494132,
          24293.3152628308,
          24299.2527987488,
          24599.4592261554,
          24287.250970186,
          24409.4124864618,
          24443.4047057403,
          24513.3936458162,
          24302.2901834833,
          24327.3364385518,
          25182.5115834701,
          24587.4498835434,
          24584.4346360705,
          24512.4219613601,
          24477.4624232758,
          24360.3426362514,
          24359.3384838016,
          24308.2679414378,
          24305.2839093846,
          24297.3329412403,
          24255.2691559783,
          24238.3333422062,
          24173.2787696849,
          24161.3064600479,
          24159.3189298919,
          24152.2878904324,
          24107.2827397481,
          24051.2663556391,
          24035.238030408
         ],
         "xaxis": "x",
         "y": [
          2241677.63,
          1854713.02,
          1189145.07,
          1060667.22,
          396206.61,
          364195.37,
          338981.25,
          197876.61,
          187865.87,
          166954.04,
          151687.67,
          96704.16,
          75859.81,
          74652.04,
          71098.12,
          64648.26,
          60922.2,
          57774,
          55346.96,
          54977.98,
          54658.51,
          50491.11,
          46470.59,
          45605.82,
          44284.28,
          43403.53,
          40786.97,
          40347.18,
          37521.89,
          34295.31,
          32005.91,
          30999.93,
          28435.39,
          26602.15,
          25594.92,
          25592.9,
          23557.57,
          23043.41,
          22655.14,
          17561.72,
          15749.84,
          15245.41,
          14352.46,
          14270.82,
          11818.05,
          10692.07,
          10359.6,
          9595,
          9188.67,
          8989.32,
          8528.19,
          8147.57,
          6394.37,
          6213.38,
          5784.27,
          5705.1,
          5581.42,
          5558.12,
          5505.18,
          4677.58,
          4665.24,
          4444.57,
          4056.52,
          3462.15,
          3353.69,
          3178.94,
          3004.37,
          2504.9,
          2084.52,
          1897.41,
          1874.49,
          1634,
          1239.9,
          1203.25,
          1069.97,
          965.93,
          939.49,
          410.77,
          1004.34,
          2713.35,
          1338.85,
          541.42,
          2756.69,
          1326.24,
          3543.7,
          2703.27,
          542.6,
          11813.39,
          3956.55,
          1947.84,
          1536.44,
          1287.34,
          22300.26,
          26612.94,
          2669.76,
          4220.3
         ],
         "yaxis": "y"
        }
       ],
       "layout": {
        "legend": {
         "tracegroupgap": 0
        },
        "margin": {
         "t": 60
        },
        "template": {
         "data": {
          "bar": [
           {
            "error_x": {
             "color": "#2a3f5f"
            },
            "error_y": {
             "color": "#2a3f5f"
            },
            "marker": {
             "line": {
              "color": "#E5ECF6",
              "width": 0.5
             }
            },
            "type": "bar"
           }
          ],
          "barpolar": [
           {
            "marker": {
             "line": {
              "color": "#E5ECF6",
              "width": 0.5
             }
            },
            "type": "barpolar"
           }
          ],
          "carpet": [
           {
            "aaxis": {
             "endlinecolor": "#2a3f5f",
             "gridcolor": "white",
             "linecolor": "white",
             "minorgridcolor": "white",
             "startlinecolor": "#2a3f5f"
            },
            "baxis": {
             "endlinecolor": "#2a3f5f",
             "gridcolor": "white",
             "linecolor": "white",
             "minorgridcolor": "white",
             "startlinecolor": "#2a3f5f"
            },
            "type": "carpet"
           }
          ],
          "choropleth": [
           {
            "colorbar": {
             "outlinewidth": 0,
             "ticks": ""
            },
            "type": "choropleth"
           }
          ],
          "contour": [
           {
            "colorbar": {
             "outlinewidth": 0,
             "ticks": ""
            },
            "colorscale": [
             [
              0,
              "#0d0887"
             ],
             [
              0.1111111111111111,
              "#46039f"
             ],
             [
              0.2222222222222222,
              "#7201a8"
             ],
             [
              0.3333333333333333,
              "#9c179e"
             ],
             [
              0.4444444444444444,
              "#bd3786"
             ],
             [
              0.5555555555555556,
              "#d8576b"
             ],
             [
              0.6666666666666666,
              "#ed7953"
             ],
             [
              0.7777777777777778,
              "#fb9f3a"
             ],
             [
              0.8888888888888888,
              "#fdca26"
             ],
             [
              1,
              "#f0f921"
             ]
            ],
            "type": "contour"
           }
          ],
          "contourcarpet": [
           {
            "colorbar": {
             "outlinewidth": 0,
             "ticks": ""
            },
            "type": "contourcarpet"
           }
          ],
          "heatmap": [
           {
            "colorbar": {
             "outlinewidth": 0,
             "ticks": ""
            },
            "colorscale": [
             [
              0,
              "#0d0887"
             ],
             [
              0.1111111111111111,
              "#46039f"
             ],
             [
              0.2222222222222222,
              "#7201a8"
             ],
             [
              0.3333333333333333,
              "#9c179e"
             ],
             [
              0.4444444444444444,
              "#bd3786"
             ],
             [
              0.5555555555555556,
              "#d8576b"
             ],
             [
              0.6666666666666666,
              "#ed7953"
             ],
             [
              0.7777777777777778,
              "#fb9f3a"
             ],
             [
              0.8888888888888888,
              "#fdca26"
             ],
             [
              1,
              "#f0f921"
             ]
            ],
            "type": "heatmap"
           }
          ],
          "heatmapgl": [
           {
            "colorbar": {
             "outlinewidth": 0,
             "ticks": ""
            },
            "colorscale": [
             [
              0,
              "#0d0887"
             ],
             [
              0.1111111111111111,
              "#46039f"
             ],
             [
              0.2222222222222222,
              "#7201a8"
             ],
             [
              0.3333333333333333,
              "#9c179e"
             ],
             [
              0.4444444444444444,
              "#bd3786"
             ],
             [
              0.5555555555555556,
              "#d8576b"
             ],
             [
              0.6666666666666666,
              "#ed7953"
             ],
             [
              0.7777777777777778,
              "#fb9f3a"
             ],
             [
              0.8888888888888888,
              "#fdca26"
             ],
             [
              1,
              "#f0f921"
             ]
            ],
            "type": "heatmapgl"
           }
          ],
          "histogram": [
           {
            "marker": {
             "colorbar": {
              "outlinewidth": 0,
              "ticks": ""
             }
            },
            "type": "histogram"
           }
          ],
          "histogram2d": [
           {
            "colorbar": {
             "outlinewidth": 0,
             "ticks": ""
            },
            "colorscale": [
             [
              0,
              "#0d0887"
             ],
             [
              0.1111111111111111,
              "#46039f"
             ],
             [
              0.2222222222222222,
              "#7201a8"
             ],
             [
              0.3333333333333333,
              "#9c179e"
             ],
             [
              0.4444444444444444,
              "#bd3786"
             ],
             [
              0.5555555555555556,
              "#d8576b"
             ],
             [
              0.6666666666666666,
              "#ed7953"
             ],
             [
              0.7777777777777778,
              "#fb9f3a"
             ],
             [
              0.8888888888888888,
              "#fdca26"
             ],
             [
              1,
              "#f0f921"
             ]
            ],
            "type": "histogram2d"
           }
          ],
          "histogram2dcontour": [
           {
            "colorbar": {
             "outlinewidth": 0,
             "ticks": ""
            },
            "colorscale": [
             [
              0,
              "#0d0887"
             ],
             [
              0.1111111111111111,
              "#46039f"
             ],
             [
              0.2222222222222222,
              "#7201a8"
             ],
             [
              0.3333333333333333,
              "#9c179e"
             ],
             [
              0.4444444444444444,
              "#bd3786"
             ],
             [
              0.5555555555555556,
              "#d8576b"
             ],
             [
              0.6666666666666666,
              "#ed7953"
             ],
             [
              0.7777777777777778,
              "#fb9f3a"
             ],
             [
              0.8888888888888888,
              "#fdca26"
             ],
             [
              1,
              "#f0f921"
             ]
            ],
            "type": "histogram2dcontour"
           }
          ],
          "mesh3d": [
           {
            "colorbar": {
             "outlinewidth": 0,
             "ticks": ""
            },
            "type": "mesh3d"
           }
          ],
          "parcoords": [
           {
            "line": {
             "colorbar": {
              "outlinewidth": 0,
              "ticks": ""
             }
            },
            "type": "parcoords"
           }
          ],
          "pie": [
           {
            "automargin": true,
            "type": "pie"
           }
          ],
          "scatter": [
           {
            "marker": {
             "colorbar": {
              "outlinewidth": 0,
              "ticks": ""
             }
            },
            "type": "scatter"
           }
          ],
          "scatter3d": [
           {
            "line": {
             "colorbar": {
              "outlinewidth": 0,
              "ticks": ""
             }
            },
            "marker": {
             "colorbar": {
              "outlinewidth": 0,
              "ticks": ""
             }
            },
            "type": "scatter3d"
           }
          ],
          "scattercarpet": [
           {
            "marker": {
             "colorbar": {
              "outlinewidth": 0,
              "ticks": ""
             }
            },
            "type": "scattercarpet"
           }
          ],
          "scattergeo": [
           {
            "marker": {
             "colorbar": {
              "outlinewidth": 0,
              "ticks": ""
             }
            },
            "type": "scattergeo"
           }
          ],
          "scattergl": [
           {
            "marker": {
             "colorbar": {
              "outlinewidth": 0,
              "ticks": ""
             }
            },
            "type": "scattergl"
           }
          ],
          "scattermapbox": [
           {
            "marker": {
             "colorbar": {
              "outlinewidth": 0,
              "ticks": ""
             }
            },
            "type": "scattermapbox"
           }
          ],
          "scatterpolar": [
           {
            "marker": {
             "colorbar": {
              "outlinewidth": 0,
              "ticks": ""
             }
            },
            "type": "scatterpolar"
           }
          ],
          "scatterpolargl": [
           {
            "marker": {
             "colorbar": {
              "outlinewidth": 0,
              "ticks": ""
             }
            },
            "type": "scatterpolargl"
           }
          ],
          "scatterternary": [
           {
            "marker": {
             "colorbar": {
              "outlinewidth": 0,
              "ticks": ""
             }
            },
            "type": "scatterternary"
           }
          ],
          "surface": [
           {
            "colorbar": {
             "outlinewidth": 0,
             "ticks": ""
            },
            "colorscale": [
             [
              0,
              "#0d0887"
             ],
             [
              0.1111111111111111,
              "#46039f"
             ],
             [
              0.2222222222222222,
              "#7201a8"
             ],
             [
              0.3333333333333333,
              "#9c179e"
             ],
             [
              0.4444444444444444,
              "#bd3786"
             ],
             [
              0.5555555555555556,
              "#d8576b"
             ],
             [
              0.6666666666666666,
              "#ed7953"
             ],
             [
              0.7777777777777778,
              "#fb9f3a"
             ],
             [
              0.8888888888888888,
              "#fdca26"
             ],
             [
              1,
              "#f0f921"
             ]
            ],
            "type": "surface"
           }
          ],
          "table": [
           {
            "cells": {
             "fill": {
              "color": "#EBF0F8"
             },
             "line": {
              "color": "white"
             }
            },
            "header": {
             "fill": {
              "color": "#C8D4E3"
             },
             "line": {
              "color": "white"
             }
            },
            "type": "table"
           }
          ]
         },
         "layout": {
          "annotationdefaults": {
           "arrowcolor": "#2a3f5f",
           "arrowhead": 0,
           "arrowwidth": 1
          },
          "autotypenumbers": "strict",
          "coloraxis": {
           "colorbar": {
            "outlinewidth": 0,
            "ticks": ""
           }
          },
          "colorscale": {
           "diverging": [
            [
             0,
             "#8e0152"
            ],
            [
             0.1,
             "#c51b7d"
            ],
            [
             0.2,
             "#de77ae"
            ],
            [
             0.3,
             "#f1b6da"
            ],
            [
             0.4,
             "#fde0ef"
            ],
            [
             0.5,
             "#f7f7f7"
            ],
            [
             0.6,
             "#e6f5d0"
            ],
            [
             0.7,
             "#b8e186"
            ],
            [
             0.8,
             "#7fbc41"
            ],
            [
             0.9,
             "#4d9221"
            ],
            [
             1,
             "#276419"
            ]
           ],
           "sequential": [
            [
             0,
             "#0d0887"
            ],
            [
             0.1111111111111111,
             "#46039f"
            ],
            [
             0.2222222222222222,
             "#7201a8"
            ],
            [
             0.3333333333333333,
             "#9c179e"
            ],
            [
             0.4444444444444444,
             "#bd3786"
            ],
            [
             0.5555555555555556,
             "#d8576b"
            ],
            [
             0.6666666666666666,
             "#ed7953"
            ],
            [
             0.7777777777777778,
             "#fb9f3a"
            ],
            [
             0.8888888888888888,
             "#fdca26"
            ],
            [
             1,
             "#f0f921"
            ]
           ],
           "sequentialminus": [
            [
             0,
             "#0d0887"
            ],
            [
             0.1111111111111111,
             "#46039f"
            ],
            [
             0.2222222222222222,
             "#7201a8"
            ],
            [
             0.3333333333333333,
             "#9c179e"
            ],
            [
             0.4444444444444444,
             "#bd3786"
            ],
            [
             0.5555555555555556,
             "#d8576b"
            ],
            [
             0.6666666666666666,
             "#ed7953"
            ],
            [
             0.7777777777777778,
             "#fb9f3a"
            ],
            [
             0.8888888888888888,
             "#fdca26"
            ],
            [
             1,
             "#f0f921"
            ]
           ]
          },
          "colorway": [
           "#636efa",
           "#EF553B",
           "#00cc96",
           "#ab63fa",
           "#FFA15A",
           "#19d3f3",
           "#FF6692",
           "#B6E880",
           "#FF97FF",
           "#FECB52"
          ],
          "font": {
           "color": "#2a3f5f"
          },
          "geo": {
           "bgcolor": "white",
           "lakecolor": "white",
           "landcolor": "#E5ECF6",
           "showlakes": true,
           "showland": true,
           "subunitcolor": "white"
          },
          "hoverlabel": {
           "align": "left"
          },
          "hovermode": "closest",
          "mapbox": {
           "style": "light"
          },
          "paper_bgcolor": "white",
          "plot_bgcolor": "#E5ECF6",
          "polar": {
           "angularaxis": {
            "gridcolor": "white",
            "linecolor": "white",
            "ticks": ""
           },
           "bgcolor": "#E5ECF6",
           "radialaxis": {
            "gridcolor": "white",
            "linecolor": "white",
            "ticks": ""
           }
          },
          "scene": {
           "xaxis": {
            "backgroundcolor": "#E5ECF6",
            "gridcolor": "white",
            "gridwidth": 2,
            "linecolor": "white",
            "showbackground": true,
            "ticks": "",
            "zerolinecolor": "white"
           },
           "yaxis": {
            "backgroundcolor": "#E5ECF6",
            "gridcolor": "white",
            "gridwidth": 2,
            "linecolor": "white",
            "showbackground": true,
            "ticks": "",
            "zerolinecolor": "white"
           },
           "zaxis": {
            "backgroundcolor": "#E5ECF6",
            "gridcolor": "white",
            "gridwidth": 2,
            "linecolor": "white",
            "showbackground": true,
            "ticks": "",
            "zerolinecolor": "white"
           }
          },
          "shapedefaults": {
           "line": {
            "color": "#2a3f5f"
           }
          },
          "ternary": {
           "aaxis": {
            "gridcolor": "white",
            "linecolor": "white",
            "ticks": ""
           },
           "baxis": {
            "gridcolor": "white",
            "linecolor": "white",
            "ticks": ""
           },
           "bgcolor": "#E5ECF6",
           "caxis": {
            "gridcolor": "white",
            "linecolor": "white",
            "ticks": ""
           }
          },
          "title": {
           "x": 0.05
          },
          "xaxis": {
           "automargin": true,
           "gridcolor": "white",
           "linecolor": "white",
           "ticks": "",
           "title": {
            "standoff": 15
           },
           "zerolinecolor": "white",
           "zerolinewidth": 2
          },
          "yaxis": {
           "automargin": true,
           "gridcolor": "white",
           "linecolor": "white",
           "ticks": "",
           "title": {
            "standoff": 15
           },
           "zerolinecolor": "white",
           "zerolinewidth": 2
          }
         }
        },
        "xaxis": {
         "anchor": "y",
         "domain": [
          0,
          1
         ],
         "title": {
          "text": "Mass"
         }
        },
        "yaxis": {
         "anchor": "x",
         "domain": [
          0,
          1
         ],
         "title": {
          "text": "Vol"
         }
        }
       }
      },
      "text/html": [
       "<div>                            <div id=\"77deb524-56d2-4593-a068-cb3562c516d5\" class=\"plotly-graph-div\" style=\"height:525px; width:100%;\"></div>            <script type=\"text/javascript\">                require([\"plotly\"], function(Plotly) {                    window.PLOTLYENV=window.PLOTLYENV || {};                                    if (document.getElementById(\"77deb524-56d2-4593-a068-cb3562c516d5\")) {                    Plotly.newPlot(                        \"77deb524-56d2-4593-a068-cb3562c516d5\",                        [{\"hovertemplate\": \"Mass=%{x}<br>Vol=%{y}<extra></extra>\", \"legendgroup\": \"\", \"marker\": {\"color\": \"#636efa\", \"symbol\": \"circle\"}, \"mode\": \"markers\", \"name\": \"\", \"orientation\": \"v\", \"showlegend\": false, \"type\": \"scatter\", \"x\": [24203.2846934834, 24204.2917711877, 24219.2738984065, 24218.2785968118, 24236.2883314722, 24189.2775336598, 24234.2812118421, 24261.281972402, 24262.2720395597, 24235.26497573, 24541.4325717133, 24249.2727911127, 24555.4340518195, 24136.2865638065, 24174.2814283287, 24275.2635993445, 24277.2918581922, 24188.2623166929, 24247.277783347, 24233.3026858385, 24228.2715829137, 24343.3285454944, 24556.4305320016, 24527.4073872232, 24154.28693945, 24227.2703519223, 24251.2882252758, 24137.2865748542, 24123.2597417872, 24274.2523351447, 24276.2609320619, 24226.2657795594, 24069.2516648053, 24246.2929243045, 24292.2793669629, 24269.2622217446, 24175.2907891446, 24106.2732995552, 24108.3001121549, 24081.2439496886, 24165.2621448638, 24570.4380379102, 24088.2532031971, 24070.2710275537, 24121.2455637951, 24526.4094975243, 24053.2077540512, 24146.298022914, 24571.437649713, 24164.2639415522, 24149.2832586332, 24142.2806364874, 24306.2742068385, 24376.3761084539, 24237.3175597628, 24253.2747808363, 24286.2703289989, 24283.2830577121, 24569.4285710057, 24392.3793003624, 24134.2352230123, 24391.3711309533, 24143.2682807451, 24329.3136706263, 24600.456835814, 24362.372339672, 24131.2857463482, 24100.2369494132, 24293.3152628308, 24299.2527987488, 24599.4592261554, 24287.250970186, 24409.4124864618, 24443.4047057403, 24513.3936458162, 24302.2901834833, 24327.3364385518, 25182.5115834701, 24587.4498835434, 24584.4346360705, 24512.4219613601, 24477.4624232758, 24360.3426362514, 24359.3384838016, 24308.2679414378, 24305.2839093846, 24297.3329412403, 24255.2691559783, 24238.3333422062, 24173.2787696849, 24161.3064600479, 24159.3189298919, 24152.2878904324, 24107.2827397481, 24051.2663556391, 24035.238030408], \"xaxis\": \"x\", \"y\": [2241677.63, 1854713.02, 1189145.07, 1060667.22, 396206.61, 364195.37, 338981.25, 197876.61, 187865.87, 166954.04, 151687.67, 96704.16, 75859.81, 74652.04, 71098.12, 64648.26, 60922.2, 57774.0, 55346.96, 54977.98, 54658.51, 50491.11, 46470.59, 45605.82, 44284.28, 43403.53, 40786.97, 40347.18, 37521.89, 34295.31, 32005.91, 30999.93, 28435.39, 26602.15, 25594.92, 25592.9, 23557.57, 23043.41, 22655.14, 17561.72, 15749.84, 15245.41, 14352.46, 14270.82, 11818.05, 10692.07, 10359.6, 9595.0, 9188.67, 8989.32, 8528.19, 8147.57, 6394.37, 6213.38, 5784.27, 5705.1, 5581.42, 5558.12, 5505.18, 4677.58, 4665.24, 4444.57, 4056.52, 3462.15, 3353.69, 3178.94, 3004.37, 2504.9, 2084.52, 1897.41, 1874.49, 1634.0, 1239.9, 1203.25, 1069.97, 965.93, 939.49, 410.77, 1004.34, 2713.35, 1338.85, 541.42, 2756.69, 1326.24, 3543.7, 2703.27, 542.6, 11813.39, 3956.55, 1947.84, 1536.44, 1287.34, 22300.26, 26612.94, 2669.76, 4220.3], \"yaxis\": \"y\"}],                        {\"legend\": {\"tracegroupgap\": 0}, \"margin\": {\"t\": 60}, \"template\": {\"data\": {\"bar\": [{\"error_x\": {\"color\": \"#2a3f5f\"}, \"error_y\": {\"color\": \"#2a3f5f\"}, \"marker\": {\"line\": {\"color\": \"#E5ECF6\", \"width\": 0.5}}, \"type\": \"bar\"}], \"barpolar\": [{\"marker\": {\"line\": {\"color\": \"#E5ECF6\", \"width\": 0.5}}, \"type\": \"barpolar\"}], \"carpet\": [{\"aaxis\": {\"endlinecolor\": \"#2a3f5f\", \"gridcolor\": \"white\", \"linecolor\": \"white\", \"minorgridcolor\": \"white\", \"startlinecolor\": \"#2a3f5f\"}, \"baxis\": {\"endlinecolor\": \"#2a3f5f\", \"gridcolor\": \"white\", \"linecolor\": \"white\", \"minorgridcolor\": \"white\", \"startlinecolor\": \"#2a3f5f\"}, \"type\": \"carpet\"}], \"choropleth\": [{\"colorbar\": {\"outlinewidth\": 0, \"ticks\": \"\"}, \"type\": \"choropleth\"}], \"contour\": [{\"colorbar\": {\"outlinewidth\": 0, \"ticks\": \"\"}, \"colorscale\": [[0.0, \"#0d0887\"], [0.1111111111111111, \"#46039f\"], [0.2222222222222222, \"#7201a8\"], [0.3333333333333333, \"#9c179e\"], [0.4444444444444444, \"#bd3786\"], [0.5555555555555556, \"#d8576b\"], [0.6666666666666666, \"#ed7953\"], [0.7777777777777778, \"#fb9f3a\"], [0.8888888888888888, \"#fdca26\"], [1.0, \"#f0f921\"]], \"type\": \"contour\"}], \"contourcarpet\": [{\"colorbar\": {\"outlinewidth\": 0, \"ticks\": \"\"}, \"type\": \"contourcarpet\"}], \"heatmap\": [{\"colorbar\": {\"outlinewidth\": 0, \"ticks\": \"\"}, \"colorscale\": [[0.0, \"#0d0887\"], [0.1111111111111111, \"#46039f\"], [0.2222222222222222, \"#7201a8\"], [0.3333333333333333, \"#9c179e\"], [0.4444444444444444, \"#bd3786\"], [0.5555555555555556, \"#d8576b\"], [0.6666666666666666, \"#ed7953\"], [0.7777777777777778, \"#fb9f3a\"], [0.8888888888888888, \"#fdca26\"], [1.0, \"#f0f921\"]], \"type\": \"heatmap\"}], \"heatmapgl\": [{\"colorbar\": {\"outlinewidth\": 0, \"ticks\": \"\"}, \"colorscale\": [[0.0, \"#0d0887\"], [0.1111111111111111, \"#46039f\"], [0.2222222222222222, \"#7201a8\"], [0.3333333333333333, \"#9c179e\"], [0.4444444444444444, \"#bd3786\"], [0.5555555555555556, \"#d8576b\"], [0.6666666666666666, \"#ed7953\"], [0.7777777777777778, \"#fb9f3a\"], [0.8888888888888888, \"#fdca26\"], [1.0, \"#f0f921\"]], \"type\": \"heatmapgl\"}], \"histogram\": [{\"marker\": {\"colorbar\": {\"outlinewidth\": 0, \"ticks\": \"\"}}, \"type\": \"histogram\"}], \"histogram2d\": [{\"colorbar\": {\"outlinewidth\": 0, \"ticks\": \"\"}, \"colorscale\": [[0.0, \"#0d0887\"], [0.1111111111111111, \"#46039f\"], [0.2222222222222222, \"#7201a8\"], [0.3333333333333333, \"#9c179e\"], [0.4444444444444444, \"#bd3786\"], [0.5555555555555556, \"#d8576b\"], [0.6666666666666666, \"#ed7953\"], [0.7777777777777778, \"#fb9f3a\"], [0.8888888888888888, \"#fdca26\"], [1.0, \"#f0f921\"]], \"type\": \"histogram2d\"}], \"histogram2dcontour\": [{\"colorbar\": {\"outlinewidth\": 0, \"ticks\": \"\"}, \"colorscale\": [[0.0, \"#0d0887\"], [0.1111111111111111, \"#46039f\"], [0.2222222222222222, \"#7201a8\"], [0.3333333333333333, \"#9c179e\"], [0.4444444444444444, \"#bd3786\"], [0.5555555555555556, \"#d8576b\"], [0.6666666666666666, \"#ed7953\"], [0.7777777777777778, \"#fb9f3a\"], [0.8888888888888888, \"#fdca26\"], [1.0, \"#f0f921\"]], \"type\": \"histogram2dcontour\"}], \"mesh3d\": [{\"colorbar\": {\"outlinewidth\": 0, \"ticks\": \"\"}, \"type\": \"mesh3d\"}], \"parcoords\": [{\"line\": {\"colorbar\": {\"outlinewidth\": 0, \"ticks\": \"\"}}, \"type\": \"parcoords\"}], \"pie\": [{\"automargin\": true, \"type\": \"pie\"}], \"scatter\": [{\"marker\": {\"colorbar\": {\"outlinewidth\": 0, \"ticks\": \"\"}}, \"type\": \"scatter\"}], \"scatter3d\": [{\"line\": {\"colorbar\": {\"outlinewidth\": 0, \"ticks\": \"\"}}, \"marker\": {\"colorbar\": {\"outlinewidth\": 0, \"ticks\": \"\"}}, \"type\": \"scatter3d\"}], \"scattercarpet\": [{\"marker\": {\"colorbar\": {\"outlinewidth\": 0, \"ticks\": \"\"}}, \"type\": \"scattercarpet\"}], \"scattergeo\": [{\"marker\": {\"colorbar\": {\"outlinewidth\": 0, \"ticks\": \"\"}}, \"type\": \"scattergeo\"}], \"scattergl\": [{\"marker\": {\"colorbar\": {\"outlinewidth\": 0, \"ticks\": \"\"}}, \"type\": \"scattergl\"}], \"scattermapbox\": [{\"marker\": {\"colorbar\": {\"outlinewidth\": 0, \"ticks\": \"\"}}, \"type\": \"scattermapbox\"}], \"scatterpolar\": [{\"marker\": {\"colorbar\": {\"outlinewidth\": 0, \"ticks\": \"\"}}, \"type\": \"scatterpolar\"}], \"scatterpolargl\": [{\"marker\": {\"colorbar\": {\"outlinewidth\": 0, \"ticks\": \"\"}}, \"type\": \"scatterpolargl\"}], \"scatterternary\": [{\"marker\": {\"colorbar\": {\"outlinewidth\": 0, \"ticks\": \"\"}}, \"type\": \"scatterternary\"}], \"surface\": [{\"colorbar\": {\"outlinewidth\": 0, \"ticks\": \"\"}, \"colorscale\": [[0.0, \"#0d0887\"], [0.1111111111111111, \"#46039f\"], [0.2222222222222222, \"#7201a8\"], [0.3333333333333333, \"#9c179e\"], [0.4444444444444444, \"#bd3786\"], [0.5555555555555556, \"#d8576b\"], [0.6666666666666666, \"#ed7953\"], [0.7777777777777778, \"#fb9f3a\"], [0.8888888888888888, \"#fdca26\"], [1.0, \"#f0f921\"]], \"type\": \"surface\"}], \"table\": [{\"cells\": {\"fill\": {\"color\": \"#EBF0F8\"}, \"line\": {\"color\": \"white\"}}, \"header\": {\"fill\": {\"color\": \"#C8D4E3\"}, \"line\": {\"color\": \"white\"}}, \"type\": \"table\"}]}, \"layout\": {\"annotationdefaults\": {\"arrowcolor\": \"#2a3f5f\", \"arrowhead\": 0, \"arrowwidth\": 1}, \"autotypenumbers\": \"strict\", \"coloraxis\": {\"colorbar\": {\"outlinewidth\": 0, \"ticks\": \"\"}}, \"colorscale\": {\"diverging\": [[0, \"#8e0152\"], [0.1, \"#c51b7d\"], [0.2, \"#de77ae\"], [0.3, \"#f1b6da\"], [0.4, \"#fde0ef\"], [0.5, \"#f7f7f7\"], [0.6, \"#e6f5d0\"], [0.7, \"#b8e186\"], [0.8, \"#7fbc41\"], [0.9, \"#4d9221\"], [1, \"#276419\"]], \"sequential\": [[0.0, \"#0d0887\"], [0.1111111111111111, \"#46039f\"], [0.2222222222222222, \"#7201a8\"], [0.3333333333333333, \"#9c179e\"], [0.4444444444444444, \"#bd3786\"], [0.5555555555555556, \"#d8576b\"], [0.6666666666666666, \"#ed7953\"], [0.7777777777777778, \"#fb9f3a\"], [0.8888888888888888, \"#fdca26\"], [1.0, \"#f0f921\"]], \"sequentialminus\": [[0.0, \"#0d0887\"], [0.1111111111111111, \"#46039f\"], [0.2222222222222222, \"#7201a8\"], [0.3333333333333333, \"#9c179e\"], [0.4444444444444444, \"#bd3786\"], [0.5555555555555556, \"#d8576b\"], [0.6666666666666666, \"#ed7953\"], [0.7777777777777778, \"#fb9f3a\"], [0.8888888888888888, \"#fdca26\"], [1.0, \"#f0f921\"]]}, \"colorway\": [\"#636efa\", \"#EF553B\", \"#00cc96\", \"#ab63fa\", \"#FFA15A\", \"#19d3f3\", \"#FF6692\", \"#B6E880\", \"#FF97FF\", \"#FECB52\"], \"font\": {\"color\": \"#2a3f5f\"}, \"geo\": {\"bgcolor\": \"white\", \"lakecolor\": \"white\", \"landcolor\": \"#E5ECF6\", \"showlakes\": true, \"showland\": true, \"subunitcolor\": \"white\"}, \"hoverlabel\": {\"align\": \"left\"}, \"hovermode\": \"closest\", \"mapbox\": {\"style\": \"light\"}, \"paper_bgcolor\": \"white\", \"plot_bgcolor\": \"#E5ECF6\", \"polar\": {\"angularaxis\": {\"gridcolor\": \"white\", \"linecolor\": \"white\", \"ticks\": \"\"}, \"bgcolor\": \"#E5ECF6\", \"radialaxis\": {\"gridcolor\": \"white\", \"linecolor\": \"white\", \"ticks\": \"\"}}, \"scene\": {\"xaxis\": {\"backgroundcolor\": \"#E5ECF6\", \"gridcolor\": \"white\", \"gridwidth\": 2, \"linecolor\": \"white\", \"showbackground\": true, \"ticks\": \"\", \"zerolinecolor\": \"white\"}, \"yaxis\": {\"backgroundcolor\": \"#E5ECF6\", \"gridcolor\": \"white\", \"gridwidth\": 2, \"linecolor\": \"white\", \"showbackground\": true, \"ticks\": \"\", \"zerolinecolor\": \"white\"}, \"zaxis\": {\"backgroundcolor\": \"#E5ECF6\", \"gridcolor\": \"white\", \"gridwidth\": 2, \"linecolor\": \"white\", \"showbackground\": true, \"ticks\": \"\", \"zerolinecolor\": \"white\"}}, \"shapedefaults\": {\"line\": {\"color\": \"#2a3f5f\"}}, \"ternary\": {\"aaxis\": {\"gridcolor\": \"white\", \"linecolor\": \"white\", \"ticks\": \"\"}, \"baxis\": {\"gridcolor\": \"white\", \"linecolor\": \"white\", \"ticks\": \"\"}, \"bgcolor\": \"#E5ECF6\", \"caxis\": {\"gridcolor\": \"white\", \"linecolor\": \"white\", \"ticks\": \"\"}}, \"title\": {\"x\": 0.05}, \"xaxis\": {\"automargin\": true, \"gridcolor\": \"white\", \"linecolor\": \"white\", \"ticks\": \"\", \"title\": {\"standoff\": 15}, \"zerolinecolor\": \"white\", \"zerolinewidth\": 2}, \"yaxis\": {\"automargin\": true, \"gridcolor\": \"white\", \"linecolor\": \"white\", \"ticks\": \"\", \"title\": {\"standoff\": 15}, \"zerolinecolor\": \"white\", \"zerolinewidth\": 2}}}, \"xaxis\": {\"anchor\": \"y\", \"domain\": [0.0, 1.0], \"title\": {\"text\": \"Mass\"}}, \"yaxis\": {\"anchor\": \"x\", \"domain\": [0.0, 1.0], \"title\": {\"text\": \"Vol\"}}},                        {\"responsive\": true}                    ).then(function(){\n",
       "                            \n",
       "var gd = document.getElementById('77deb524-56d2-4593-a068-cb3562c516d5');\n",
       "var x = new MutationObserver(function (mutations, observer) {{\n",
       "        var display = window.getComputedStyle(gd).display;\n",
       "        if (!display || display === 'none') {{\n",
       "            console.log([gd, 'removed!']);\n",
       "            Plotly.purge(gd);\n",
       "            observer.disconnect();\n",
       "        }}\n",
       "}});\n",
       "\n",
       "// Listen for the removal of the full notebook cells\n",
       "var notebookContainer = gd.closest('#notebook-container');\n",
       "if (notebookContainer) {{\n",
       "    x.observe(notebookContainer, {childList: true});\n",
       "}}\n",
       "\n",
       "// Listen for the clearing of the current output cell\n",
       "var outputEl = gd.closest('.output');\n",
       "if (outputEl) {{\n",
       "    x.observe(outputEl, {childList: true});\n",
       "}}\n",
       "\n",
       "                        })                };                });            </script>        </div>"
      ]
     },
     "metadata": {},
     "output_type": "display_data"
    },
    {
     "name": "stdout",
     "output_type": "stream",
     "text": [
      "mass_x (200,) mass_y (200,)\n"
     ]
    },
    {
     "data": {
      "application/vnd.plotly.v1+json": {
       "config": {
        "plotlyServerURL": "https://plot.ly"
       },
       "data": [
        {
         "mode": "markers",
         "type": "scatter",
         "x": [
          24219.2738984065,
          24236.2883314722,
          6706.98400688655,
          8701.26924583026,
          24261.281972402,
          9020.32598026316,
          24262.2720395597,
          8382.20706214978,
          6401.94014801255,
          12559.8322146278,
          24235.26497573,
          24541.4325717133,
          13475.9362119865,
          8037.16378074694,
          19978.816568096,
          12864.880390494,
          10665.5516259945,
          16673.356628588,
          16038.2690666753,
          17692.5141861137,
          9670.41425979244,
          13170.8950256606,
          4242.49504398641,
          13781.9749629717,
          7692.11172427071,
          11620.6618852996,
          10015.4713294076,
          5568.67265225435,
          9325.36475346509,
          18000.551542718,
          11925.7068691309,
          15732.2426620751,
          15082.1562745015,
          7547.94912425451,
          24249.2727911127,
          14432.0742394802,
          15427.2036490404,
          11275.6314357154,
          6056.89161883064,
          4916.5979595981,
          10970.5925940368,
          6857.8561983642,
          10439.3260577578,
          12230.7639159187,
          18653.6479221138,
          10745.3578714833,
          7347.05684879686,
          14087.0251189363,
          16344.2982238138,
          8794.09537060277,
          17018.4063383594,
          18308.6068926104,
          10320.4975362999,
          7202.90669181442,
          4571.53912822689,
          24555.4340518195,
          9790.2632945027,
          17363.4669382686,
          8184.03862880557,
          23955.2166253422,
          20284.8134688862,
          17514.3562047957,
          15201.0095981808,
          8490.05905655933,
          5222.62234711882,
          18998.6963605955,
          24275.2635993445,
          14737.109400579,
          14895.9528055614,
          8183.02343505106,
          17819.3790325983,
          6528.80370660363,
          11051.3946980712,
          24247.277783347,
          24233.3026858385,
          10134.2953728731,
          11662.4782942436,
          15520.0751697882,
          7548.94953205272,
          11661.4715330193,
          13900.8204765651,
          8489.05547469648,
          11356.4298315365,
          11990.5258433114,
          18164.4496274057,
          9140.1567576108,
          12600.6170093243,
          7877.00567281426,
          19304.7469066922,
          5223.62534709916,
          20589.8996316901,
          13555.7711503537,
          24556.4305320016,
          24527.4073872232,
          11357.4276692837,
          9139.16804234589,
          24227.2703519223,
          7878.00448801112,
          12573.8481678246,
          14551.9147667085,
          24251.2882252758,
          23954.1779926616,
          12295.5814748975,
          21240.9642285629,
          19649.7749722232,
          16184.1864696611,
          12945.6839412189,
          14206.8693559961,
          15839.1326836439,
          7203.90580461805,
          11050.3933418306,
          8781.24209876718,
          24274.2523351447,
          5913.71518023102,
          9485.20669988301,
          7438.01883779606,
          18799.5275336785,
          24276.2609320619,
          19105.5579601672,
          24226.2657795594,
          19993.8341218957,
          9484.20199003764,
          8795.10691170016,
          3936.4672395617,
          16874.2591205591,
          16687.3628318671,
          14205.8938470173,
          9789.2480852,
          18494.4930493261,
          6220.75813275767,
          5115.78853016458,
          5912.71687853447,
          16529.2071716204,
          13489.9599650357,
          9684.43519340662,
          16052.2824639065,
          21586.0331786903,
          13251.7113179015,
          20895.9065958425,
          23970.1976333339,
          13250.716859999,
          23512.2673838995,
          12296.5952402934,
          10728.3476676777,
          22237.0996918152,
          15096.1621583302,
          9339.36735824868,
          15746.2567669336,
          11634.6831264742,
          13184.9031751192,
          23207.2288639912,
          9100.29846712101,
          12878.8817133848,
          4810.74736015224,
          7132.97705338479,
          14101.0352434829,
          19650.7534305088,
          11939.6789029211,
          14550.9158413196,
          21892.0397324855,
          10746.3733864801,
          10422.3264983106
         ],
         "y": [
          23.6554368590991,
          23.632162918218,
          14.7598228668849,
          18.7605418836753,
          23.632162918218,
          19.1912616169135,
          23.7138601338545,
          18.3132568990866,
          1.43616851723989,
          21.1295146083514,
          23.6899588242849,
          23.961373100249,
          21.4277051424662,
          17.981933825779,
          22.9819806094646,
          21.2123450930595,
          20.0858492668152,
          22.3884734348138,
          22.1566143428961,
          22.587159291474,
          19.5060260410786,
          21.311742633152,
          1.00917167620659,
          21.527102233537,
          17.6671776350021,
          20.6159651016871,
          19.6882630006154,
          1.38764385935466,
          19.3403565680663,
          22.6037208930333,
          20.7816263413111,
          22.090350549984,
          21.9081226086299,
          18.1641618843555,
          23.7138601338545,
          21.7424617504756,
          22.0075194831371,
          20.4337376669725,
          1.38764385935466,
          1.24067400054932,
          20.2349451179981,
          17.4021198844592,
          20.2349451179981,
          20.9141553496997,
          22.735878908205,
          20.4171716924191,
          17.460101208655,
          21.6099325096289,
          22.2560112174034,
          19.3072245414734,
          22.4050410504818,
          22.6532974000454,
          19.8870557005882,
          17.8162728166262,
          1.15826730883916,
          24.0073864753723,
          19.8539231415272,
          22.4547265167713,
          18.81024059213,
          23.7316166833719,
          22.965684399573,
          22.5540266151905,
          22.0406516249657,
          19.0421659246763,
          1.33891995903651,
          22.7852655585289,
          23.7316166833719,
          21.8087259169102,
          21.9578213826497,
          18.8599390502453,
          22.6368071591536,
          16.5075488582929,
          20.5662666336377,
          23.7316166833719,
          23.8098755097071,
          20.0858492668152,
          20.7816263413111,
          22.106916250356,
          18.0647652085304,
          20.8313245431264,
          21.6596309081395,
          19.1084312752565,
          20.7319276586851,
          21.0301179345131,
          22.7027592515628,
          19.5060260410786,
          21.1792130247434,
          18.6114472504139,
          22.8348287677447,
          1.2903792833964,
          23.0632769997597,
          21.527102233537,
          23.961373100249,
          23.938416357406,
          20.6656635240396,
          19.5888652161439,
          23.632162918218,
          18.528616807429,
          21.1792130247434,
          21.841858233579,
          23.5898895001094,
          23.6554368590991,
          21.1295146083514,
          23.1787309324423,
          22.8843744333267,
          22.2891437685172,
          21.3283082163016,
          21.709329107968,
          22.1897475675424,
          17.7334430352529,
          20.4668696935654,
          19.0918648755232,
          23.6899588242849,
          13.9894981499195,
          19.7379601176262,
          17.6671776350021,
          22.8348287677447,
          23.7138601338545,
          22.9171164349397,
          23.7316166833719,
          23.0306997354507,
          19.7048283433596,
          19.2078281736056,
          0.959473307498296,
          22.4050410504818,
          22.4050410504818,
          21.7590275740306,
          19.9367539004167,
          22.8101183430036,
          15.7123745834509,
          1.0920033589681,
          14.5030478334109,
          22.3553965345701,
          21.4774033323606,
          19.5557246005217,
          22.2063131328106,
          23.2283694660346,
          21.4608372246901,
          23.1126086747328,
          23.7138601338545,
          21.411139499712,
          23.5365063186169,
          21.0632502750238,
          20.2846421912988,
          23.3604580497424,
          21.9412547504584,
          19.4563198919773,
          22.1400484339078,
          20.7153614000161,
          21.3283082163016,
          23.5066257253965,
          19.4066209749063,
          21.2620440419197,
          0.959473307498296,
          17.2364585832437,
          21.6927632903735,
          22.8348287677447,
          20.8644567664146,
          21.9081226086299,
          23.2777669743379,
          20.3674731508573,
          20.1024148002942
         ]
        },
        {
         "line": {
          "color": "pink"
         },
         "mode": "lines+markers",
         "name": "C",
         "type": "scatter",
         "x": [
          6706.98400688655,
          6401.94014801255
         ],
         "y": [
          14.7598228668849,
          1.43616851723989
         ]
        },
        {
         "line": {
          "color": "pink"
         },
         "mode": "lines+markers",
         "name": "C",
         "type": "scatter",
         "x": [
          24236.2883314722,
          24541.4325717133
         ],
         "y": [
          23.632162918218,
          23.961373100249
         ]
        },
        {
         "line": {
          "color": "pink"
         },
         "mode": "lines+markers",
         "name": "C",
         "type": "scatter",
         "x": [
          13475.9362119865,
          13170.8950256606
         ],
         "y": [
          21.4277051424662,
          21.311742633152
         ]
        },
        {
         "line": {
          "color": "pink"
         },
         "mode": "lines+markers",
         "name": "C",
         "type": "scatter",
         "x": [
          12559.8322146278,
          12864.880390494
         ],
         "y": [
          21.1295146083514,
          21.2123450930595
         ]
        },
        {
         "line": {
          "color": "pink"
         },
         "mode": "lines+markers",
         "name": "C",
         "type": "scatter",
         "x": [
          9020.32598026316,
          9325.36475346509
         ],
         "y": [
          19.1912616169135,
          19.3403565680663
         ]
        },
        {
         "line": {
          "color": "pink"
         },
         "mode": "lines+markers",
         "name": "C",
         "type": "scatter",
         "x": [
          11620.6618852996,
          11925.7068691309
         ],
         "y": [
          20.6159651016871,
          20.7816263413111
         ]
        },
        {
         "line": {
          "color": "pink"
         },
         "mode": "lines+markers",
         "name": "C",
         "type": "scatter",
         "x": [
          15732.2426620751,
          15427.2036490404
         ],
         "y": [
          22.090350549984,
          22.0075194831371
         ]
        },
        {
         "line": {
          "color": "pink"
         },
         "mode": "lines+markers",
         "name": "C",
         "type": "scatter",
         "x": [
          11275.6314357154,
          10970.5925940368
         ],
         "y": [
          20.4337376669725,
          20.2349451179981
         ]
        },
        {
         "line": {
          "color": "pink"
         },
         "mode": "lines+markers",
         "name": "C",
         "type": "scatter",
         "x": [
          10665.5516259945,
          10970.5925940368
         ],
         "y": [
          20.0858492668152,
          20.2349451179981
         ]
        },
        {
         "line": {
          "color": "pink"
         },
         "mode": "lines+markers",
         "name": "C",
         "type": "scatter",
         "x": [
          10439.3260577578,
          10134.2953728731
         ],
         "y": [
          20.2349451179981,
          20.0858492668152
         ]
        },
        {
         "line": {
          "color": "pink"
         },
         "mode": "lines+markers",
         "name": "C",
         "type": "scatter",
         "x": [
          11925.7068691309,
          12230.7639159187
         ],
         "y": [
          20.7816263413111,
          20.9141553496997
         ]
        },
        {
         "line": {
          "color": "pink"
         },
         "mode": "lines+markers",
         "name": "C",
         "type": "scatter",
         "x": [
          13781.9749629717,
          14087.0251189363
         ],
         "y": [
          21.527102233537,
          21.6099325096289
         ]
        },
        {
         "line": {
          "color": "pink"
         },
         "mode": "lines+markers",
         "name": "C",
         "type": "scatter",
         "x": [
          8794.09537060277,
          8489.05547469648
         ],
         "y": [
          19.3072245414734,
          19.1084312752565
         ]
        },
        {
         "line": {
          "color": "pink"
         },
         "mode": "lines+markers",
         "name": "C",
         "type": "scatter",
         "x": [
          10015.4713294076,
          10320.4975362999
         ],
         "y": [
          19.6882630006154,
          19.8870557005882
         ]
        },
        {
         "line": {
          "color": "pink"
         },
         "mode": "lines+markers",
         "name": "C",
         "type": "scatter",
         "x": [
          9790.2632945027,
          9485.20669988301
         ],
         "y": [
          19.8539231415272,
          19.7379601176262
         ]
        },
        {
         "line": {
          "color": "pink"
         },
         "mode": "lines+markers",
         "name": "C",
         "type": "scatter",
         "x": [
          15201.0095981808,
          14895.9528055614
         ],
         "y": [
          22.0406516249657,
          21.9578213826497
         ]
        },
        {
         "line": {
          "color": "pink"
         },
         "mode": "lines+markers",
         "name": "C",
         "type": "scatter",
         "x": [
          24275.2635993445,
          23970.1976333339
         ],
         "y": [
          23.7316166833719,
          23.7138601338545
         ]
        },
        {
         "line": {
          "color": "pink"
         },
         "mode": "lines+markers",
         "name": "C",
         "type": "scatter",
         "x": [
          14432.0742394802,
          14737.109400579
         ],
         "y": [
          21.7424617504756,
          21.8087259169102
         ]
        },
        {
         "line": {
          "color": "pink"
         },
         "mode": "lines+markers",
         "name": "C",
         "type": "scatter",
         "x": [
          8183.02343505106,
          7878.00448801112
         ],
         "y": [
          18.8599390502453,
          18.528616807429
         ]
        },
        {
         "line": {
          "color": "pink"
         },
         "mode": "lines+markers",
         "name": "C",
         "type": "scatter",
         "x": [
          17514.3562047957,
          17819.3790325983
         ],
         "y": [
          22.5540266151905,
          22.6368071591536
         ]
        },
        {
         "line": {
          "color": "pink"
         },
         "mode": "lines+markers",
         "name": "C",
         "type": "scatter",
         "x": [
          11051.3946980712,
          10746.3733864801
         ],
         "y": [
          20.5662666336377,
          20.3674731508573
         ]
        },
        {
         "line": {
          "color": "pink"
         },
         "mode": "lines+markers",
         "name": "C",
         "type": "scatter",
         "x": [
          11662.4782942436,
          11357.4276692837
         ],
         "y": [
          20.7816263413111,
          20.6656635240396
         ]
        },
        {
         "line": {
          "color": "pink"
         },
         "mode": "lines+markers",
         "name": "C",
         "type": "scatter",
         "x": [
          11661.4715330193,
          11356.4298315365
         ],
         "y": [
          20.8313245431264,
          20.7319276586851
         ]
        },
        {
         "line": {
          "color": "pink"
         },
         "mode": "lines+markers",
         "name": "C",
         "type": "scatter",
         "x": [
          8184.03862880557,
          8489.05547469648
         ],
         "y": [
          18.81024059213,
          19.1084312752565
         ]
        },
        {
         "line": {
          "color": "pink"
         },
         "mode": "lines+markers",
         "name": "C",
         "type": "scatter",
         "x": [
          11051.3946980712,
          11356.4298315365
         ],
         "y": [
          20.5662666336377,
          20.7319276586851
         ]
        },
        {
         "line": {
          "color": "pink"
         },
         "mode": "lines+markers",
         "name": "C",
         "type": "scatter",
         "x": [
          12600.6170093243,
          12295.5814748975
         ],
         "y": [
          21.1792130247434,
          21.1295146083514
         ]
        },
        {
         "line": {
          "color": "pink"
         },
         "mode": "lines+markers",
         "name": "C",
         "type": "scatter",
         "x": [
          20284.8134688862,
          20589.8996316901
         ],
         "y": [
          22.965684399573,
          23.0632769997597
         ]
        },
        {
         "line": {
          "color": "pink"
         },
         "mode": "lines+markers",
         "name": "C",
         "type": "scatter",
         "x": [
          13555.7711503537,
          13250.716859999
         ],
         "y": [
          21.527102233537,
          21.411139499712
         ]
        },
        {
         "line": {
          "color": "pink"
         },
         "mode": "lines+markers",
         "name": "C",
         "type": "scatter",
         "x": [
          24556.4305320016,
          24251.2882252758
         ],
         "y": [
          23.961373100249,
          23.5898895001094
         ]
        },
        {
         "line": {
          "color": "pink"
         },
         "mode": "lines+markers",
         "name": "C",
         "type": "scatter",
         "x": [
          11990.5258433114,
          12295.5814748975
         ],
         "y": [
          21.0301179345131,
          21.1295146083514
         ]
        },
        {
         "line": {
          "color": "pink"
         },
         "mode": "lines+markers",
         "name": "C",
         "type": "scatter",
         "x": [
          10745.3578714833,
          11050.3933418306
         ],
         "y": [
          20.4171716924191,
          20.4668696935654
         ]
        },
        {
         "line": {
          "color": "pink"
         },
         "mode": "lines+markers",
         "name": "C",
         "type": "scatter",
         "x": [
          7438.01883779606,
          7132.97705338479
         ],
         "y": [
          17.6671776350021,
          17.2364585832437
         ]
        },
        {
         "line": {
          "color": "pink"
         },
         "mode": "lines+markers",
         "name": "C",
         "type": "scatter",
         "x": [
          18799.5275336785,
          18494.4930493261
         ],
         "y": [
          22.8348287677447,
          22.8101183430036
         ]
        },
        {
         "line": {
          "color": "pink"
         },
         "mode": "lines+markers",
         "name": "C",
         "type": "scatter",
         "x": [
          8490.05905655933,
          8795.10691170016
         ],
         "y": [
          19.0421659246763,
          19.2078281736056
         ]
        },
        {
         "line": {
          "color": "pink"
         },
         "mode": "lines+markers",
         "name": "C",
         "type": "scatter",
         "x": [
          13900.8204765651,
          14205.8938470173
         ],
         "y": [
          21.6596309081395,
          21.7590275740306
         ]
        },
        {
         "line": {
          "color": "pink"
         },
         "mode": "lines+markers",
         "name": "C",
         "type": "scatter",
         "x": [
          9484.20199003764,
          9789.2480852
         ],
         "y": [
          19.7048283433596,
          19.9367539004167
         ]
        },
        {
         "line": {
          "color": "pink"
         },
         "mode": "lines+markers",
         "name": "C",
         "type": "scatter",
         "x": [
          5115.78853016458,
          4810.74736015224
         ],
         "y": [
          1.0920033589681,
          0.959473307498296
         ]
        },
        {
         "line": {
          "color": "pink"
         },
         "mode": "lines+markers",
         "name": "C",
         "type": "scatter",
         "x": [
          13489.9599650357,
          13184.9031751192
         ],
         "y": [
          21.4774033323606,
          21.3283082163016
         ]
        },
        {
         "line": {
          "color": "pink"
         },
         "mode": "lines+markers",
         "name": "C",
         "type": "scatter",
         "x": [
          12945.6839412189,
          13250.716859999
         ],
         "y": [
          21.3283082163016,
          21.411139499712
         ]
        },
        {
         "line": {
          "color": "pink"
         },
         "mode": "lines+markers",
         "name": "C",
         "type": "scatter",
         "x": [
          23512.2673838995,
          23207.2288639912
         ],
         "y": [
          23.5365063186169,
          23.5066257253965
         ]
        },
        {
         "line": {
          "color": "pink"
         },
         "mode": "lines+markers",
         "name": "C",
         "type": "scatter",
         "x": [
          12573.8481678246,
          12878.8817133848
         ],
         "y": [
          21.1792130247434,
          21.2620440419197
         ]
        },
        {
         "line": {
          "color": "pink"
         },
         "mode": "lines+markers",
         "name": "C",
         "type": "scatter",
         "x": [
          11634.6831264742,
          11939.6789029211
         ],
         "y": [
          20.7153614000161,
          20.8644567664146
         ]
        },
        {
         "line": {
          "color": "pink"
         },
         "mode": "lines+markers",
         "name": "A",
         "type": "scatter",
         "x": [
          12559.8322146278,
          12230.7639159187
         ],
         "y": [
          21.1295146083514,
          20.9141553496997
         ]
        },
        {
         "line": {
          "color": "pink"
         },
         "mode": "lines+markers",
         "name": "A",
         "type": "scatter",
         "x": [
          19978.816568096,
          19649.7749722232
         ],
         "y": [
          22.9819806094646,
          22.8843744333267
         ]
        },
        {
         "line": {
          "color": "pink"
         },
         "mode": "lines+markers",
         "name": "A",
         "type": "scatter",
         "x": [
          16673.356628588,
          16344.2982238138
         ],
         "y": [
          22.3884734348138,
          22.2560112174034
         ]
        },
        {
         "line": {
          "color": "pink"
         },
         "mode": "lines+markers",
         "name": "A",
         "type": "scatter",
         "x": [
          17692.5141861137,
          17363.4669382686
         ],
         "y": [
          22.587159291474,
          22.4547265167713
         ]
        },
        {
         "line": {
          "color": "pink"
         },
         "mode": "lines+markers",
         "name": "A",
         "type": "scatter",
         "x": [
          6857.8561983642,
          6528.80370660363
         ],
         "y": [
          17.4021198844592,
          16.5075488582929
         ]
        },
        {
         "line": {
          "color": "pink"
         },
         "mode": "lines+markers",
         "name": "A",
         "type": "scatter",
         "x": [
          4242.49504398641,
          4571.53912822689
         ],
         "y": [
          1.00917167620659,
          1.15826730883916
         ]
        },
        {
         "line": {
          "color": "pink"
         },
         "mode": "lines+markers",
         "name": "A",
         "type": "scatter",
         "x": [
          24555.4340518195,
          24226.2657795594
         ],
         "y": [
          24.0073864753723,
          23.7316166833719
         ]
        },
        {
         "line": {
          "color": "pink"
         },
         "mode": "lines+markers",
         "name": "A",
         "type": "scatter",
         "x": [
          11661.4715330193,
          11990.5258433114
         ],
         "y": [
          20.8313245431264,
          21.0301179345131
         ]
        },
        {
         "line": {
          "color": "pink"
         },
         "mode": "lines+markers",
         "name": "A",
         "type": "scatter",
         "x": [
          7547.94912425451,
          7877.00567281426
         ],
         "y": [
          18.1641618843555,
          18.6114472504139
         ]
        },
        {
         "line": {
          "color": "pink"
         },
         "mode": "lines+markers",
         "name": "A",
         "type": "scatter",
         "x": [
          24556.4305320016,
          24227.2703519223
         ],
         "y": [
          23.961373100249,
          23.632162918218
         ]
        },
        {
         "line": {
          "color": "pink"
         },
         "mode": "lines+markers",
         "name": "A",
         "type": "scatter",
         "x": [
          7548.94953205272,
          7878.00448801112
         ],
         "y": [
          18.0647652085304,
          18.528616807429
         ]
        },
        {
         "line": {
          "color": "pink"
         },
         "mode": "lines+markers",
         "name": "G",
         "type": "scatter",
         "x": [
          8382.20706214978,
          8037.16378074694
         ],
         "y": [
          18.3132568990866,
          17.981933825779
         ]
        },
        {
         "line": {
          "color": "pink"
         },
         "mode": "lines+markers",
         "name": "G",
         "type": "scatter",
         "x": [
          6401.94014801255,
          6056.89161883064
         ],
         "y": [
          1.43616851723989,
          1.38764385935466
         ]
        },
        {
         "line": {
          "color": "pink"
         },
         "mode": "lines+markers",
         "name": "G",
         "type": "scatter",
         "x": [
          8037.16378074694,
          7692.11172427071
         ],
         "y": [
          17.981933825779,
          17.6671776350021
         ]
        },
        {
         "line": {
          "color": "pink"
         },
         "mode": "lines+markers",
         "name": "G",
         "type": "scatter",
         "x": [
          10665.5516259945,
          10320.4975362999
         ],
         "y": [
          20.0858492668152,
          19.8870557005882
         ]
        },
        {
         "line": {
          "color": "pink"
         },
         "mode": "lines+markers",
         "name": "G",
         "type": "scatter",
         "x": [
          9670.41425979244,
          9325.36475346509
         ],
         "y": [
          19.5060260410786,
          19.3403565680663
         ]
        },
        {
         "line": {
          "color": "pink"
         },
         "mode": "lines+markers",
         "name": "G",
         "type": "scatter",
         "x": [
          7692.11172427071,
          7347.05684879686
         ],
         "y": [
          17.6671776350021,
          17.460101208655
         ]
        },
        {
         "line": {
          "color": "pink"
         },
         "mode": "lines+markers",
         "name": "G",
         "type": "scatter",
         "x": [
          11620.6618852996,
          11275.6314357154
         ],
         "y": [
          20.6159651016871,
          20.4337376669725
         ]
        },
        {
         "line": {
          "color": "pink"
         },
         "mode": "lines+markers",
         "name": "G",
         "type": "scatter",
         "x": [
          9670.41425979244,
          10015.4713294076
         ],
         "y": [
          19.5060260410786,
          19.6882630006154
         ]
        },
        {
         "line": {
          "color": "pink"
         },
         "mode": "lines+markers",
         "name": "G",
         "type": "scatter",
         "x": [
          5568.67265225435,
          5223.62534709916
         ],
         "y": [
          1.38764385935466,
          1.2903792833964
         ]
        },
        {
         "line": {
          "color": "pink"
         },
         "mode": "lines+markers",
         "name": "G",
         "type": "scatter",
         "x": [
          15082.1562745015,
          14737.109400579
         ],
         "y": [
          21.9081226086299,
          21.8087259169102
         ]
        },
        {
         "line": {
          "color": "pink"
         },
         "mode": "lines+markers",
         "name": "G",
         "type": "scatter",
         "x": [
          7547.94912425451,
          7202.90669181442
         ],
         "y": [
          18.1641618843555,
          17.8162728166262
         ]
        },
        {
         "line": {
          "color": "pink"
         },
         "mode": "lines+markers",
         "name": "G",
         "type": "scatter",
         "x": [
          14432.0742394802,
          14087.0251189363
         ],
         "y": [
          21.7424617504756,
          21.6099325096289
         ]
        },
        {
         "line": {
          "color": "pink"
         },
         "mode": "lines+markers",
         "name": "G",
         "type": "scatter",
         "x": [
          15082.1562745015,
          15427.2036490404
         ],
         "y": [
          21.9081226086299,
          22.0075194831371
         ]
        },
        {
         "line": {
          "color": "pink"
         },
         "mode": "lines+markers",
         "name": "G",
         "type": "scatter",
         "x": [
          4916.5979595981,
          4571.53912822689
         ],
         "y": [
          1.24067400054932,
          1.15826730883916
         ]
        },
        {
         "line": {
          "color": "pink"
         },
         "mode": "lines+markers",
         "name": "G",
         "type": "scatter",
         "x": [
          18653.6479221138,
          18308.6068926104
         ],
         "y": [
          22.735878908205,
          22.6532974000454
         ]
        },
        {
         "line": {
          "color": "pink"
         },
         "mode": "lines+markers",
         "name": "G",
         "type": "scatter",
         "x": [
          16673.356628588,
          17018.4063383594
         ],
         "y": [
          22.3884734348138,
          22.4050410504818
         ]
        },
        {
         "line": {
          "color": "pink"
         },
         "mode": "lines+markers",
         "name": "G",
         "type": "scatter",
         "x": [
          6857.8561983642,
          7202.90669181442
         ],
         "y": [
          17.4021198844592,
          17.8162728166262
         ]
        },
        {
         "line": {
          "color": "pink"
         },
         "mode": "lines+markers",
         "name": "G",
         "type": "scatter",
         "x": [
          17018.4063383594,
          17363.4669382686
         ],
         "y": [
          22.4050410504818,
          22.4547265167713
         ]
        },
        {
         "line": {
          "color": "pink"
         },
         "mode": "lines+markers",
         "name": "G",
         "type": "scatter",
         "x": [
          18653.6479221138,
          18998.6963605955
         ],
         "y": [
          22.735878908205,
          22.7852655585289
         ]
        },
        {
         "line": {
          "color": "pink"
         },
         "mode": "lines+markers",
         "name": "G",
         "type": "scatter",
         "x": [
          14895.9528055614,
          14550.9158413196
         ],
         "y": [
          21.9578213826497,
          21.9081226086299
         ]
        },
        {
         "line": {
          "color": "pink"
         },
         "mode": "lines+markers",
         "name": "G",
         "type": "scatter",
         "x": [
          10134.2953728731,
          9789.2480852
         ],
         "y": [
          20.0858492668152,
          19.9367539004167
         ]
        },
        {
         "line": {
          "color": "pink"
         },
         "mode": "lines+markers",
         "name": "G",
         "type": "scatter",
         "x": [
          7548.94953205272,
          7203.90580461805
         ],
         "y": [
          18.0647652085304,
          17.7334430352529
         ]
        },
        {
         "line": {
          "color": "pink"
         },
         "mode": "lines+markers",
         "name": "G",
         "type": "scatter",
         "x": [
          13900.8204765651,
          13555.7711503537
         ],
         "y": [
          21.6596309081395,
          21.527102233537
         ]
        },
        {
         "line": {
          "color": "pink"
         },
         "mode": "lines+markers",
         "name": "G",
         "type": "scatter",
         "x": [
          17819.3790325983,
          18164.4496274057
         ],
         "y": [
          22.6368071591536,
          22.7027592515628
         ]
        },
        {
         "line": {
          "color": "pink"
         },
         "mode": "lines+markers",
         "name": "G",
         "type": "scatter",
         "x": [
          9140.1567576108,
          8795.10691170016
         ],
         "y": [
          19.5060260410786,
          19.2078281736056
         ]
        },
        {
         "line": {
          "color": "pink"
         },
         "mode": "lines+markers",
         "name": "G",
         "type": "scatter",
         "x": [
          8794.09537060277,
          9139.16804234589
         ],
         "y": [
          19.3072245414734,
          19.5888652161439
         ]
        },
        {
         "line": {
          "color": "pink"
         },
         "mode": "lines+markers",
         "name": "G",
         "type": "scatter",
         "x": [
          14551.9147667085,
          14206.8693559961
         ],
         "y": [
          21.841858233579,
          21.709329107968
         ]
        },
        {
         "line": {
          "color": "pink"
         },
         "mode": "lines+markers",
         "name": "G",
         "type": "scatter",
         "x": [
          21240.9642285629,
          20895.9065958425
         ],
         "y": [
          23.1787309324423,
          23.1126086747328
         ]
        },
        {
         "line": {
          "color": "pink"
         },
         "mode": "lines+markers",
         "name": "G",
         "type": "scatter",
         "x": [
          19304.7469066922,
          19649.7749722232
         ],
         "y": [
          22.8348287677447,
          22.8843744333267
         ]
        },
        {
         "line": {
          "color": "pink"
         },
         "mode": "lines+markers",
         "name": "G",
         "type": "scatter",
         "x": [
          16184.1864696611,
          15839.1326836439
         ],
         "y": [
          22.2891437685172,
          22.1897475675424
         ]
        },
        {
         "line": {
          "color": "pink"
         },
         "mode": "lines+markers",
         "name": "G",
         "type": "scatter",
         "x": [
          12600.6170093243,
          12945.6839412189
         ],
         "y": [
          21.1792130247434,
          21.3283082163016
         ]
        },
        {
         "line": {
          "color": "pink"
         },
         "mode": "lines+markers",
         "name": "G",
         "type": "scatter",
         "x": [
          5568.67265225435,
          5913.71518023102
         ],
         "y": [
          1.38764385935466,
          13.9894981499195
         ]
        },
        {
         "line": {
          "color": "pink"
         },
         "mode": "lines+markers",
         "name": "G",
         "type": "scatter",
         "x": [
          9140.1567576108,
          9485.20669988301
         ],
         "y": [
          19.5060260410786,
          19.7379601176262
         ]
        },
        {
         "line": {
          "color": "pink"
         },
         "mode": "lines+markers",
         "name": "G",
         "type": "scatter",
         "x": [
          9139.16804234589,
          9484.20199003764
         ],
         "y": [
          19.5888652161439,
          19.7048283433596
         ]
        },
        {
         "line": {
          "color": "pink"
         },
         "mode": "lines+markers",
         "name": "G",
         "type": "scatter",
         "x": [
          16874.2591205591,
          16529.2071716204
         ],
         "y": [
          22.4050410504818,
          22.3553965345701
         ]
        },
        {
         "line": {
          "color": "pink"
         },
         "mode": "lines+markers",
         "name": "G",
         "type": "scatter",
         "x": [
          16184.1864696611,
          16529.2071716204
         ],
         "y": [
          22.2891437685172,
          22.3553965345701
         ]
        },
        {
         "line": {
          "color": "pink"
         },
         "mode": "lines+markers",
         "name": "G",
         "type": "scatter",
         "x": [
          9684.43519340662,
          9339.36735824868
         ],
         "y": [
          19.5557246005217,
          19.4563198919773
         ]
        },
        {
         "line": {
          "color": "pink"
         },
         "mode": "lines+markers",
         "name": "G",
         "type": "scatter",
         "x": [
          21240.9642285629,
          21586.0331786903
         ],
         "y": [
          23.1787309324423,
          23.2283694660346
         ]
        },
        {
         "line": {
          "color": "pink"
         },
         "mode": "lines+markers",
         "name": "G",
         "type": "scatter",
         "x": [
          22237.0996918152,
          21892.0397324855
         ],
         "y": [
          23.3604580497424,
          23.2777669743379
         ]
        },
        {
         "line": {
          "color": "pink"
         },
         "mode": "lines+markers",
         "name": "G",
         "type": "scatter",
         "x": [
          14205.8938470173,
          14550.9158413196
         ],
         "y": [
          21.7590275740306,
          21.9081226086299
         ]
        },
        {
         "line": {
          "color": "pink"
         },
         "mode": "lines+markers",
         "name": "U",
         "type": "scatter",
         "x": [
          24261.281972402,
          23955.2166253422
         ],
         "y": [
          23.632162918218,
          23.7316166833719
         ]
        },
        {
         "line": {
          "color": "pink"
         },
         "mode": "lines+markers",
         "name": "U",
         "type": "scatter",
         "x": [
          24235.26497573,
          24541.4325717133
         ],
         "y": [
          23.6899588242849,
          23.961373100249
         ]
        },
        {
         "line": {
          "color": "pink"
         },
         "mode": "lines+markers",
         "name": "U",
         "type": "scatter",
         "x": [
          16038.2690666753,
          15732.2426620751
         ],
         "y": [
          22.1566143428961,
          22.090350549984
         ]
        },
        {
         "line": {
          "color": "pink"
         },
         "mode": "lines+markers",
         "name": "U",
         "type": "scatter",
         "x": [
          12864.880390494,
          13170.8950256606
         ],
         "y": [
          21.2123450930595,
          21.311742633152
         ]
        },
        {
         "line": {
          "color": "pink"
         },
         "mode": "lines+markers",
         "name": "U",
         "type": "scatter",
         "x": [
          4242.49504398641,
          3936.4672395617
         ],
         "y": [
          1.00917167620659,
          0.959473307498296
         ]
        },
        {
         "line": {
          "color": "pink"
         },
         "mode": "lines+markers",
         "name": "U",
         "type": "scatter",
         "x": [
          13475.9362119865,
          13781.9749629717
         ],
         "y": [
          21.4277051424662,
          21.527102233537
         ]
        },
        {
         "line": {
          "color": "pink"
         },
         "mode": "lines+markers",
         "name": "U",
         "type": "scatter",
         "x": [
          10439.3260577578,
          10745.3578714833
         ],
         "y": [
          20.2349451179981,
          20.4171716924191
         ]
        },
        {
         "line": {
          "color": "pink"
         },
         "mode": "lines+markers",
         "name": "U",
         "type": "scatter",
         "x": [
          16038.2690666753,
          16344.2982238138
         ],
         "y": [
          22.1566143428961,
          22.2560112174034
         ]
        },
        {
         "line": {
          "color": "pink"
         },
         "mode": "lines+markers",
         "name": "U",
         "type": "scatter",
         "x": [
          24249.2727911127,
          24555.4340518195
         ],
         "y": [
          23.7138601338545,
          24.0073864753723
         ]
        },
        {
         "line": {
          "color": "pink"
         },
         "mode": "lines+markers",
         "name": "U",
         "type": "scatter",
         "x": [
          9790.2632945027,
          9484.20199003764
         ],
         "y": [
          19.8539231415272,
          19.7048283433596
         ]
        },
        {
         "line": {
          "color": "pink"
         },
         "mode": "lines+markers",
         "name": "U",
         "type": "scatter",
         "x": [
          8184.03862880557,
          7878.00448801112
         ],
         "y": [
          18.81024059213,
          18.528616807429
         ]
        },
        {
         "line": {
          "color": "pink"
         },
         "mode": "lines+markers",
         "name": "U",
         "type": "scatter",
         "x": [
          19978.816568096,
          20284.8134688862
         ],
         "y": [
          22.9819806094646,
          22.965684399573
         ]
        },
        {
         "line": {
          "color": "pink"
         },
         "mode": "lines+markers",
         "name": "U",
         "type": "scatter",
         "x": [
          8184.03862880557,
          8490.05905655933
         ],
         "y": [
          18.81024059213,
          19.0421659246763
         ]
        },
        {
         "line": {
          "color": "pink"
         },
         "mode": "lines+markers",
         "name": "U",
         "type": "scatter",
         "x": [
          4916.5979595981,
          5222.62234711882
         ],
         "y": [
          1.24067400054932,
          1.33891995903651
         ]
        },
        {
         "line": {
          "color": "pink"
         },
         "mode": "lines+markers",
         "name": "U",
         "type": "scatter",
         "x": [
          8183.02343505106,
          7877.00567281426
         ],
         "y": [
          18.8599390502453,
          18.6114472504139
         ]
        },
        {
         "line": {
          "color": "pink"
         },
         "mode": "lines+markers",
         "name": "U",
         "type": "scatter",
         "x": [
          10745.3578714833,
          11051.3946980712
         ],
         "y": [
          20.4171716924191,
          20.5662666336377
         ]
        },
        {
         "line": {
          "color": "pink"
         },
         "mode": "lines+markers",
         "name": "U",
         "type": "scatter",
         "x": [
          11662.4782942436,
          11356.4298315365
         ],
         "y": [
          20.7816263413111,
          20.7319276586851
         ]
        },
        {
         "line": {
          "color": "pink"
         },
         "mode": "lines+markers",
         "name": "U",
         "type": "scatter",
         "x": [
          8183.02343505106,
          8489.05547469648
         ],
         "y": [
          18.8599390502453,
          19.1084312752565
         ]
        },
        {
         "line": {
          "color": "pink"
         },
         "mode": "lines+markers",
         "name": "U",
         "type": "scatter",
         "x": [
          11356.4298315365,
          11050.3933418306
         ],
         "y": [
          20.7319276586851,
          20.4668696935654
         ]
        },
        {
         "line": {
          "color": "pink"
         },
         "mode": "lines+markers",
         "name": "U",
         "type": "scatter",
         "x": [
          18998.6963605955,
          19304.7469066922
         ],
         "y": [
          22.7852655585289,
          22.8348287677447
         ]
        },
        {
         "line": {
          "color": "pink"
         },
         "mode": "lines+markers",
         "name": "U",
         "type": "scatter",
         "x": [
          11051.3946980712,
          11357.4276692837
         ],
         "y": [
          20.5662666336377,
          20.6656635240396
         ]
        },
        {
         "line": {
          "color": "pink"
         },
         "mode": "lines+markers",
         "name": "U",
         "type": "scatter",
         "x": [
          13900.8204765651,
          14206.8693559961
         ],
         "y": [
          21.6596309081395,
          21.709329107968
         ]
        },
        {
         "line": {
          "color": "pink"
         },
         "mode": "lines+markers",
         "name": "U",
         "type": "scatter",
         "x": [
          24276.2609320619,
          23970.1976333339
         ],
         "y": [
          23.7138601338545,
          23.7138601338545
         ]
        },
        {
         "line": {
          "color": "pink"
         },
         "mode": "lines+markers",
         "name": "U",
         "type": "scatter",
         "x": [
          18799.5275336785,
          19105.5579601672
         ],
         "y": [
          22.8348287677447,
          22.9171164349397
         ]
        },
        {
         "line": {
          "color": "pink"
         },
         "mode": "lines+markers",
         "name": "U",
         "type": "scatter",
         "x": [
          8489.05547469648,
          8795.10691170016
         ],
         "y": [
          19.1084312752565,
          19.2078281736056
         ]
        },
        {
         "line": {
          "color": "pink"
         },
         "mode": "lines+markers",
         "name": "U",
         "type": "scatter",
         "x": [
          16052.2824639065,
          15746.2567669336
         ],
         "y": [
          22.2063131328106,
          22.1400484339078
         ]
        },
        {
         "line": {
          "color": "pink"
         },
         "mode": "lines+markers",
         "name": "U",
         "type": "scatter",
         "x": [
          12945.6839412189,
          13251.7113179015
         ],
         "y": [
          21.3283082163016,
          21.4608372246901
         ]
        },
        {
         "line": {
          "color": "pink"
         },
         "mode": "lines+markers",
         "name": "U",
         "type": "scatter",
         "x": [
          20589.8996316901,
          20895.9065958425
         ],
         "y": [
          23.0632769997597,
          23.1126086747328
         ]
        },
        {
         "line": {
          "color": "pink"
         },
         "mode": "lines+markers",
         "name": "U",
         "type": "scatter",
         "x": [
          11990.5258433114,
          12296.5952402934
         ],
         "y": [
          21.0301179345131,
          21.0632502750238
         ]
        },
        {
         "line": {
          "color": "pink"
         },
         "mode": "lines+markers",
         "name": "U",
         "type": "scatter",
         "x": [
          10728.3476676777,
          10422.3264983106
         ],
         "y": [
          20.2846421912988,
          20.1024148002942
         ]
        },
        {
         "line": {
          "color": "pink"
         },
         "mode": "lines+markers",
         "name": "U",
         "type": "scatter",
         "x": [
          13184.9031751192,
          12878.8817133848
         ],
         "y": [
          21.3283082163016,
          21.2620440419197
         ]
        },
        {
         "line": {
          "color": "pink"
         },
         "mode": "lines+markers",
         "name": "U",
         "type": "scatter",
         "x": [
          21586.0331786903,
          21892.0397324855
         ],
         "y": [
          23.2283694660346,
          23.2777669743379
         ]
        },
        {
         "line": {
          "color": "pink"
         },
         "mode": "lines+markers",
         "name": "mG",
         "type": "scatter",
         "x": [
          9325.36475346509,
          9684.43519340662
         ],
         "y": [
          19.3403565680663,
          19.5557246005217
         ]
        },
        {
         "line": {
          "color": "pink"
         },
         "mode": "lines+markers",
         "name": "mG",
         "type": "scatter",
         "x": [
          14737.109400579,
          15096.1621583302
         ],
         "y": [
          21.8087259169102,
          21.9412547504584
         ]
        },
        {
         "line": {
          "color": "pink"
         },
         "mode": "lines+markers",
         "name": "mG",
         "type": "scatter",
         "x": [
          11275.6314357154,
          11634.6831264742
         ],
         "y": [
          20.4337376669725,
          20.7153614000161
         ]
        },
        {
         "line": {
          "color": "pink"
         },
         "mode": "lines+markers",
         "name": "D",
         "type": "scatter",
         "x": [
          24262.2720395597,
          23954.1779926616
         ],
         "y": [
          23.7138601338545,
          23.6554368590991
         ]
        },
        {
         "line": {
          "color": "pink"
         },
         "mode": "lines+markers",
         "name": "D",
         "type": "scatter",
         "x": [
          24541.4325717133,
          24233.3026858385
         ],
         "y": [
          23.961373100249,
          23.8098755097071
         ]
        },
        {
         "line": {
          "color": "pink"
         },
         "mode": "lines+markers",
         "name": "D",
         "type": "scatter",
         "x": [
          17692.5141861137,
          18000.551542718
         ],
         "y": [
          22.587159291474,
          22.6037208930333
         ]
        },
        {
         "line": {
          "color": "pink"
         },
         "mode": "lines+markers",
         "name": "D",
         "type": "scatter",
         "x": [
          18000.551542718,
          18308.6068926104
         ],
         "y": [
          22.6037208930333,
          22.6532974000454
         ]
        },
        {
         "line": {
          "color": "pink"
         },
         "mode": "lines+markers",
         "name": "D",
         "type": "scatter",
         "x": [
          24555.4340518195,
          24247.277783347
         ],
         "y": [
          24.0073864753723,
          23.7316166833719
         ]
        },
        {
         "line": {
          "color": "pink"
         },
         "mode": "lines+markers",
         "name": "D",
         "type": "scatter",
         "x": [
          6528.80370660363,
          6220.75813275767
         ],
         "y": [
          16.5075488582929,
          15.7123745834509
         ]
        },
        {
         "line": {
          "color": "pink"
         },
         "mode": "lines+markers",
         "name": "D",
         "type": "scatter",
         "x": [
          24219.2738984065,
          24527.4073872232
         ],
         "y": [
          23.6554368590991,
          23.938416357406
         ]
        },
        {
         "line": {
          "color": "pink"
         },
         "mode": "lines+markers",
         "name": "D",
         "type": "scatter",
         "x": [
          6220.75813275767,
          5912.71687853447
         ],
         "y": [
          15.7123745834509,
          14.5030478334109
         ]
        },
        {
         "line": {
          "color": "pink"
         },
         "mode": "lines+markers",
         "name": "mC",
         "type": "scatter",
         "x": [
          8701.26924583026,
          8382.20706214978
         ],
         "y": [
          18.7605418836753,
          18.3132568990866
         ]
        },
        {
         "line": {
          "color": "pink"
         },
         "mode": "lines+markers",
         "name": "mC",
         "type": "scatter",
         "x": [
          8701.26924583026,
          9020.32598026316
         ],
         "y": [
          18.7605418836753,
          19.1912616169135
         ]
        },
        {
         "line": {
          "color": "pink"
         },
         "mode": "lines+markers",
         "name": "mC",
         "type": "scatter",
         "x": [
          24236.2883314722,
          24555.4340518195
         ],
         "y": [
          23.632162918218,
          24.0073864753723
         ]
        },
        {
         "line": {
          "color": "pink"
         },
         "mode": "lines+markers",
         "name": "mC",
         "type": "scatter",
         "x": [
          15201.0095981808,
          15520.0751697882
         ],
         "y": [
          22.0406516249657,
          22.106916250356
         ]
        },
        {
         "line": {
          "color": "pink"
         },
         "mode": "lines+markers",
         "name": "mC",
         "type": "scatter",
         "x": [
          15520.0751697882,
          15839.1326836439
         ],
         "y": [
          22.106916250356,
          22.1897475675424
         ]
        },
        {
         "line": {
          "color": "pink"
         },
         "mode": "lines+markers",
         "name": "mC",
         "type": "scatter",
         "x": [
          23955.2166253422,
          24274.2523351447
         ],
         "y": [
          23.7316166833719,
          23.6899588242849
         ]
        },
        {
         "line": {
          "color": "pink"
         },
         "mode": "lines+markers",
         "name": "mC",
         "type": "scatter",
         "x": [
          13170.8950256606,
          13489.9599650357
         ],
         "y": [
          21.311742633152,
          21.4774033323606
         ]
        },
        {
         "line": {
          "color": "pink"
         },
         "mode": "lines+markers",
         "name": "mC",
         "type": "scatter",
         "x": [
          9020.32598026316,
          9339.36735824868
         ],
         "y": [
          19.1912616169135,
          19.4563198919773
         ]
        },
        {
         "line": {
          "color": "pink"
         },
         "mode": "lines+markers",
         "name": "mC",
         "type": "scatter",
         "x": [
          15427.2036490404,
          15746.2567669336
         ],
         "y": [
          22.0075194831371,
          22.1400484339078
         ]
        },
        {
         "line": {
          "color": "pink"
         },
         "mode": "lines+markers",
         "name": "mC",
         "type": "scatter",
         "x": [
          8781.24209876718,
          9100.29846712101
         ],
         "y": [
          19.0918648755232,
          19.4066209749063
         ]
        },
        {
         "line": {
          "color": "pink"
         },
         "mode": "lines+markers",
         "name": "mC",
         "type": "scatter",
         "x": [
          12559.8322146278,
          12878.8817133848
         ],
         "y": [
          21.1295146083514,
          21.2620440419197
         ]
        },
        {
         "line": {
          "color": "pink"
         },
         "mode": "lines+markers",
         "name": "mC",
         "type": "scatter",
         "x": [
          13781.9749629717,
          14101.0352434829
         ],
         "y": [
          21.527102233537,
          21.6927632903735
         ]
        },
        {
         "line": {
          "color": "pink"
         },
         "mode": "lines+markers",
         "name": "mC",
         "type": "scatter",
         "x": [
          11620.6618852996,
          11939.6789029211
         ],
         "y": [
          20.6159651016871,
          20.8644567664146
         ]
        },
        {
         "line": {
          "color": "pink"
         },
         "mode": "lines+markers",
         "name": "mU",
         "type": "scatter",
         "x": [
          24235.26497573,
          24555.4340518195
         ],
         "y": [
          23.6899588242849,
          24.0073864753723
         ]
        },
        {
         "line": {
          "color": "pink"
         },
         "mode": "lines+markers",
         "name": "mU",
         "type": "scatter",
         "x": [
          23955.2166253422,
          24275.2635993445
         ],
         "y": [
          23.7316166833719,
          23.7316166833719
         ]
        },
        {
         "line": {
          "color": "pink"
         },
         "mode": "lines+markers",
         "name": "mU",
         "type": "scatter",
         "x": [
          24236.2883314722,
          24556.4305320016
         ],
         "y": [
          23.632162918218,
          23.961373100249
         ]
        },
        {
         "line": {
          "color": "pink"
         },
         "mode": "lines+markers",
         "name": "mU",
         "type": "scatter",
         "x": [
          23954.1779926616,
          24274.2523351447
         ],
         "y": [
          23.6554368590991,
          23.6899588242849
         ]
        },
        {
         "line": {
          "color": "pink"
         },
         "mode": "lines+markers",
         "name": "mU",
         "type": "scatter",
         "x": [
          15732.2426620751,
          16052.2824639065
         ],
         "y": [
          22.090350549984,
          22.2063131328106
         ]
        },
        {
         "line": {
          "color": "pink"
         },
         "mode": "lines+markers",
         "name": "mU",
         "type": "scatter",
         "x": [
          12864.880390494,
          13184.9031751192
         ],
         "y": [
          21.2123450930595,
          21.3283082163016
         ]
        },
        {
         "line": {
          "color": "pink"
         },
         "mode": "lines+markers",
         "name": "mA",
         "type": "scatter",
         "x": [
          12230.7639159187,
          12573.8481678246
         ],
         "y": [
          20.9141553496997,
          21.1792130247434
         ]
        },
        {
         "line": {
          "color": "pink"
         },
         "mode": "lines+markers",
         "name": "mA",
         "type": "scatter",
         "x": [
          19993.8341218957,
          19650.7534305088
         ],
         "y": [
          23.0306997354507,
          22.8348287677447
         ]
        },
        {
         "line": {
          "color": "pink"
         },
         "mode": "lines+markers",
         "name": "mA",
         "type": "scatter",
         "x": [
          16344.2982238138,
          16687.3628318671
         ],
         "y": [
          22.2560112174034,
          22.4050410504818
         ]
        }
       ],
       "layout": {
        "annotations": [
         {
          "arrowhead": 1,
          "showarrow": false,
          "text": "C",
          "x": 6554.46207744955,
          "y": 8.097995692062394,
          "yshift": 5
         },
         {
          "arrowhead": 1,
          "showarrow": false,
          "text": "C",
          "x": 24388.86045159275,
          "y": 23.7967680092335,
          "yshift": 5
         },
         {
          "arrowhead": 1,
          "showarrow": false,
          "text": "C",
          "x": 13323.41561882355,
          "y": 21.3697238878091,
          "yshift": 5
         },
         {
          "arrowhead": 1,
          "showarrow": false,
          "text": "C",
          "x": 12712.3563025609,
          "y": 21.17092985070545,
          "yshift": 5
         },
         {
          "arrowhead": 1,
          "showarrow": false,
          "text": "C",
          "x": 9172.845366864125,
          "y": 19.265809092489903,
          "yshift": 5
         },
         {
          "arrowhead": 1,
          "showarrow": false,
          "text": "C",
          "x": 11773.18437721525,
          "y": 20.6987957214991,
          "yshift": 5
         },
         {
          "arrowhead": 1,
          "showarrow": false,
          "text": "C",
          "x": 15579.72315555775,
          "y": 22.04893501656055,
          "yshift": 5
         },
         {
          "arrowhead": 1,
          "showarrow": false,
          "text": "C",
          "x": 11123.1120148761,
          "y": 20.3343413924853,
          "yshift": 5
         },
         {
          "arrowhead": 1,
          "showarrow": false,
          "text": "C",
          "x": 10818.07211001565,
          "y": 20.16039719240665,
          "yshift": 5
         },
         {
          "arrowhead": 1,
          "showarrow": false,
          "text": "C",
          "x": 10286.81071531545,
          "y": 20.16039719240665,
          "yshift": 5
         },
         {
          "arrowhead": 1,
          "showarrow": false,
          "text": "C",
          "x": 12078.235392524799,
          "y": 20.8478908455054,
          "yshift": 5
         },
         {
          "arrowhead": 1,
          "showarrow": false,
          "text": "C",
          "x": 13934.500040954,
          "y": 21.56851737158295,
          "yshift": 5
         },
         {
          "arrowhead": 1,
          "showarrow": false,
          "text": "C",
          "x": 8641.575422649625,
          "y": 19.207827908364948,
          "yshift": 5
         },
         {
          "arrowhead": 1,
          "showarrow": false,
          "text": "C",
          "x": 10167.98443285375,
          "y": 19.7876593506018,
          "yshift": 5
         },
         {
          "arrowhead": 1,
          "showarrow": false,
          "text": "C",
          "x": 9637.734997192856,
          "y": 19.795941629576703,
          "yshift": 5
         },
         {
          "arrowhead": 1,
          "showarrow": false,
          "text": "C",
          "x": 15048.4812018711,
          "y": 21.9992365038077,
          "yshift": 5
         },
         {
          "arrowhead": 1,
          "showarrow": false,
          "text": "C",
          "x": 24122.7306163392,
          "y": 23.7227384086132,
          "yshift": 5
         },
         {
          "arrowhead": 1,
          "showarrow": false,
          "text": "C",
          "x": 14584.5918200296,
          "y": 21.7755938336929,
          "yshift": 5
         },
         {
          "arrowhead": 1,
          "showarrow": false,
          "text": "C",
          "x": 8030.51396153109,
          "y": 18.69427792883715,
          "yshift": 5
         },
         {
          "arrowhead": 1,
          "showarrow": false,
          "text": "C",
          "x": 17666.867618696997,
          "y": 22.59541688717205,
          "yshift": 5
         },
         {
          "arrowhead": 1,
          "showarrow": false,
          "text": "C",
          "x": 10898.884042275651,
          "y": 20.4668698922475,
          "yshift": 5
         },
         {
          "arrowhead": 1,
          "showarrow": false,
          "text": "C",
          "x": 11509.95298176365,
          "y": 20.72364493267535,
          "yshift": 5
         },
         {
          "arrowhead": 1,
          "showarrow": false,
          "text": "C",
          "x": 11508.9506822779,
          "y": 20.781626100905747,
          "yshift": 5
         },
         {
          "arrowhead": 1,
          "showarrow": false,
          "text": "C",
          "x": 8336.547051751026,
          "y": 18.95933593369325,
          "yshift": 5
         },
         {
          "arrowhead": 1,
          "showarrow": false,
          "text": "C",
          "x": 11203.91226480385,
          "y": 20.6490971461614,
          "yshift": 5
         },
         {
          "arrowhead": 1,
          "showarrow": false,
          "text": "C",
          "x": 12448.0992421109,
          "y": 21.154363816547402,
          "yshift": 5
         },
         {
          "arrowhead": 1,
          "showarrow": false,
          "text": "C",
          "x": 20437.35655028815,
          "y": 23.01448069966635,
          "yshift": 5
         },
         {
          "arrowhead": 1,
          "showarrow": false,
          "text": "C",
          "x": 13403.24400517635,
          "y": 21.4691208666245,
          "yshift": 5
         },
         {
          "arrowhead": 1,
          "showarrow": false,
          "text": "C",
          "x": 24403.8593786387,
          "y": 23.7756313001792,
          "yshift": 5
         },
         {
          "arrowhead": 1,
          "showarrow": false,
          "text": "C",
          "x": 12143.053659104451,
          "y": 21.07981627143225,
          "yshift": 5
         },
         {
          "arrowhead": 1,
          "showarrow": false,
          "text": "C",
          "x": 10897.875606656951,
          "y": 20.44202069299225,
          "yshift": 5
         },
         {
          "arrowhead": 1,
          "showarrow": false,
          "text": "C",
          "x": 7285.497945590425,
          "y": 17.4518181091229,
          "yshift": 5
         },
         {
          "arrowhead": 1,
          "showarrow": false,
          "text": "C",
          "x": 18647.0102915023,
          "y": 22.822473555374152,
          "yshift": 5
         },
         {
          "arrowhead": 1,
          "showarrow": false,
          "text": "C",
          "x": 8642.582984129745,
          "y": 19.12499704914095,
          "yshift": 5
         },
         {
          "arrowhead": 1,
          "showarrow": false,
          "text": "C",
          "x": 14053.3571617912,
          "y": 21.70932924108505,
          "yshift": 5
         },
         {
          "arrowhead": 1,
          "showarrow": false,
          "text": "C",
          "x": 9636.72503761882,
          "y": 19.82079112188815,
          "yshift": 5
         },
         {
          "arrowhead": 1,
          "showarrow": false,
          "text": "C",
          "x": 4963.26794515841,
          "y": 1.025738333233198,
          "yshift": 5
         },
         {
          "arrowhead": 1,
          "showarrow": false,
          "text": "C",
          "x": 13337.43157007745,
          "y": 21.4028557743311,
          "yshift": 5
         },
         {
          "arrowhead": 1,
          "showarrow": false,
          "text": "C",
          "x": 13098.20040060895,
          "y": 21.3697238580068,
          "yshift": 5
         },
         {
          "arrowhead": 1,
          "showarrow": false,
          "text": "C",
          "x": 23359.74812394535,
          "y": 23.521566022006702,
          "yshift": 5
         },
         {
          "arrowhead": 1,
          "showarrow": false,
          "text": "C",
          "x": 12726.3649406047,
          "y": 21.22062853333155,
          "yshift": 5
         },
         {
          "arrowhead": 1,
          "showarrow": false,
          "text": "C",
          "x": 11787.18101469765,
          "y": 20.78990908321535,
          "yshift": 5
         },
         {
          "arrowhead": 1,
          "showarrow": false,
          "text": "A",
          "x": 12395.298065273251,
          "y": 21.02183497902555,
          "yshift": 5
         },
         {
          "arrowhead": 1,
          "showarrow": false,
          "text": "A",
          "x": 19814.295770159602,
          "y": 22.93317752139565,
          "yshift": 5
         },
         {
          "arrowhead": 1,
          "showarrow": false,
          "text": "A",
          "x": 16508.8274262009,
          "y": 22.3222423261086,
          "yshift": 5
         },
         {
          "arrowhead": 1,
          "showarrow": false,
          "text": "A",
          "x": 17527.990562191153,
          "y": 22.52094290412265,
          "yshift": 5
         },
         {
          "arrowhead": 1,
          "showarrow": false,
          "text": "A",
          "x": 6693.329952483915,
          "y": 16.95483437137605,
          "yshift": 5
         },
         {
          "arrowhead": 1,
          "showarrow": false,
          "text": "A",
          "x": 4407.01708610665,
          "y": 1.083719492522875,
          "yshift": 5
         },
         {
          "arrowhead": 1,
          "showarrow": false,
          "text": "A",
          "x": 24390.849915689447,
          "y": 23.8695015793721,
          "yshift": 5
         },
         {
          "arrowhead": 1,
          "showarrow": false,
          "text": "A",
          "x": 11825.99868816535,
          "y": 20.93072123881975,
          "yshift": 5
         },
         {
          "arrowhead": 1,
          "showarrow": false,
          "text": "A",
          "x": 7712.477398534385,
          "y": 18.3878045673847,
          "yshift": 5
         },
         {
          "arrowhead": 1,
          "showarrow": false,
          "text": "A",
          "x": 24391.85044196195,
          "y": 23.7967680092335,
          "yshift": 5
         },
         {
          "arrowhead": 1,
          "showarrow": false,
          "text": "A",
          "x": 7713.47701003192,
          "y": 18.2966910079797,
          "yshift": 5
         },
         {
          "arrowhead": 1,
          "showarrow": false,
          "text": "G",
          "x": 8209.685421448361,
          "y": 18.1475953624328,
          "yshift": 5
         },
         {
          "arrowhead": 1,
          "showarrow": false,
          "text": "G",
          "x": 6229.415883421595,
          "y": 1.411906188297275,
          "yshift": 5
         },
         {
          "arrowhead": 1,
          "showarrow": false,
          "text": "G",
          "x": 7864.637752508825,
          "y": 17.82455573039055,
          "yshift": 5
         },
         {
          "arrowhead": 1,
          "showarrow": false,
          "text": "G",
          "x": 10493.0245811472,
          "y": 19.986452483701697,
          "yshift": 5
         },
         {
          "arrowhead": 1,
          "showarrow": false,
          "text": "G",
          "x": 9497.889506628766,
          "y": 19.42319130457245,
          "yshift": 5
         },
         {
          "arrowhead": 1,
          "showarrow": false,
          "text": "G",
          "x": 7519.584286533785,
          "y": 17.56363942182855,
          "yshift": 5
         },
         {
          "arrowhead": 1,
          "showarrow": false,
          "text": "G",
          "x": 11448.1466605075,
          "y": 20.5248513843298,
          "yshift": 5
         },
         {
          "arrowhead": 1,
          "showarrow": false,
          "text": "G",
          "x": 9842.94279460002,
          "y": 19.597144520847,
          "yshift": 5
         },
         {
          "arrowhead": 1,
          "showarrow": false,
          "text": "G",
          "x": 5396.148999676755,
          "y": 1.3390115713755302,
          "yshift": 5
         },
         {
          "arrowhead": 1,
          "showarrow": false,
          "text": "G",
          "x": 14909.63283754025,
          "y": 21.85842426277005,
          "yshift": 5
         },
         {
          "arrowhead": 1,
          "showarrow": false,
          "text": "G",
          "x": 7375.427908034465,
          "y": 17.990217350490852,
          "yshift": 5
         },
         {
          "arrowhead": 1,
          "showarrow": false,
          "text": "G",
          "x": 14259.54967920825,
          "y": 21.676197130052252,
          "yshift": 5
         },
         {
          "arrowhead": 1,
          "showarrow": false,
          "text": "G",
          "x": 15254.679961770951,
          "y": 21.9578210458835,
          "yshift": 5
         },
         {
          "arrowhead": 1,
          "showarrow": false,
          "text": "G",
          "x": 4744.068543912495,
          "y": 1.19947065469424,
          "yshift": 5
         },
         {
          "arrowhead": 1,
          "showarrow": false,
          "text": "G",
          "x": 18481.127407362103,
          "y": 22.6945881541252,
          "yshift": 5
         },
         {
          "arrowhead": 1,
          "showarrow": false,
          "text": "G",
          "x": 16845.8814834737,
          "y": 22.3967572426478,
          "yshift": 5
         },
         {
          "arrowhead": 1,
          "showarrow": false,
          "text": "G",
          "x": 7030.38144508931,
          "y": 17.6091963505427,
          "yshift": 5
         },
         {
          "arrowhead": 1,
          "showarrow": false,
          "text": "G",
          "x": 17190.936638314,
          "y": 22.42988378362655,
          "yshift": 5
         },
         {
          "arrowhead": 1,
          "showarrow": false,
          "text": "G",
          "x": 18826.172141354647,
          "y": 22.76057223336695,
          "yshift": 5
         },
         {
          "arrowhead": 1,
          "showarrow": false,
          "text": "G",
          "x": 14723.434323440499,
          "y": 21.9329719956398,
          "yshift": 5
         },
         {
          "arrowhead": 1,
          "showarrow": false,
          "text": "G",
          "x": 9961.77172903655,
          "y": 20.01130158361595,
          "yshift": 5
         },
         {
          "arrowhead": 1,
          "showarrow": false,
          "text": "G",
          "x": 7376.4276683353855,
          "y": 17.89910412189165,
          "yshift": 5
         },
         {
          "arrowhead": 1,
          "showarrow": false,
          "text": "G",
          "x": 13728.295813459401,
          "y": 21.59336657083825,
          "yshift": 5
         },
         {
          "arrowhead": 1,
          "showarrow": false,
          "text": "G",
          "x": 17991.914330002,
          "y": 22.6697832053582,
          "yshift": 5
         },
         {
          "arrowhead": 1,
          "showarrow": false,
          "text": "G",
          "x": 8967.63183465548,
          "y": 19.3569271073421,
          "yshift": 5
         },
         {
          "arrowhead": 1,
          "showarrow": false,
          "text": "G",
          "x": 8966.63170647433,
          "y": 19.448044878808652,
          "yshift": 5
         },
         {
          "arrowhead": 1,
          "showarrow": false,
          "text": "G",
          "x": 14379.3920613523,
          "y": 21.7755936707735,
          "yshift": 5
         },
         {
          "arrowhead": 1,
          "showarrow": false,
          "text": "G",
          "x": 21068.4354122027,
          "y": 23.145669803587552,
          "yshift": 5
         },
         {
          "arrowhead": 1,
          "showarrow": false,
          "text": "G",
          "x": 19477.2609394577,
          "y": 22.859601600535697,
          "yshift": 5
         },
         {
          "arrowhead": 1,
          "showarrow": false,
          "text": "G",
          "x": 16011.659576652499,
          "y": 22.239445668029802,
          "yshift": 5
         },
         {
          "arrowhead": 1,
          "showarrow": false,
          "text": "G",
          "x": 12773.1504752716,
          "y": 21.2537606205225,
          "yshift": 5
         },
         {
          "arrowhead": 1,
          "showarrow": false,
          "text": "G",
          "x": 5741.193916242685,
          "y": 7.68857100463708,
          "yshift": 5
         },
         {
          "arrowhead": 1,
          "showarrow": false,
          "text": "G",
          "x": 9312.681728746906,
          "y": 19.6219930793524,
          "yshift": 5
         },
         {
          "arrowhead": 1,
          "showarrow": false,
          "text": "G",
          "x": 9311.685016191765,
          "y": 19.64684677975175,
          "yshift": 5
         },
         {
          "arrowhead": 1,
          "showarrow": false,
          "text": "G",
          "x": 16701.73314608975,
          "y": 22.38021879252595,
          "yshift": 5
         },
         {
          "arrowhead": 1,
          "showarrow": false,
          "text": "G",
          "x": 16356.696820640751,
          "y": 22.32227015154365,
          "yshift": 5
         },
         {
          "arrowhead": 1,
          "showarrow": false,
          "text": "G",
          "x": 9511.901275827651,
          "y": 19.5060222462495,
          "yshift": 5
         },
         {
          "arrowhead": 1,
          "showarrow": false,
          "text": "G",
          "x": 21413.498703626603,
          "y": 23.20355019923845,
          "yshift": 5
         },
         {
          "arrowhead": 1,
          "showarrow": false,
          "text": "G",
          "x": 22064.56971215035,
          "y": 23.31911251204015,
          "yshift": 5
         },
         {
          "arrowhead": 1,
          "showarrow": false,
          "text": "G",
          "x": 14378.40484416845,
          "y": 21.83357509133025,
          "yshift": 5
         },
         {
          "arrowhead": 1,
          "showarrow": false,
          "text": "U",
          "x": 24108.2492988721,
          "y": 23.68188980079495,
          "yshift": 5
         },
         {
          "arrowhead": 1,
          "showarrow": false,
          "text": "U",
          "x": 24388.34877372165,
          "y": 23.82566596226695,
          "yshift": 5
         },
         {
          "arrowhead": 1,
          "showarrow": false,
          "text": "U",
          "x": 15885.2558643752,
          "y": 22.12348244644005,
          "yshift": 5
         },
         {
          "arrowhead": 1,
          "showarrow": false,
          "text": "U",
          "x": 13017.8877080773,
          "y": 21.262043863105752,
          "yshift": 5
         },
         {
          "arrowhead": 1,
          "showarrow": false,
          "text": "U",
          "x": 4089.481141774055,
          "y": 0.984322491852443,
          "yshift": 5
         },
         {
          "arrowhead": 1,
          "showarrow": false,
          "text": "U",
          "x": 13628.9555874791,
          "y": 21.4774036880016,
          "yshift": 5
         },
         {
          "arrowhead": 1,
          "showarrow": false,
          "text": "U",
          "x": 10592.341964620551,
          "y": 20.3260584052086,
          "yshift": 5
         },
         {
          "arrowhead": 1,
          "showarrow": false,
          "text": "U",
          "x": 16191.28364524455,
          "y": 22.20631278014975,
          "yshift": 5
         },
         {
          "arrowhead": 1,
          "showarrow": false,
          "text": "U",
          "x": 24402.353421466098,
          "y": 23.860623304613398,
          "yshift": 5
         },
         {
          "arrowhead": 1,
          "showarrow": false,
          "text": "U",
          "x": 9637.23264227017,
          "y": 19.7793757424434,
          "yshift": 5
         },
         {
          "arrowhead": 1,
          "showarrow": false,
          "text": "U",
          "x": 8031.021558408345,
          "y": 18.669428699779502,
          "yshift": 5
         },
         {
          "arrowhead": 1,
          "showarrow": false,
          "text": "U",
          "x": 20131.8150184911,
          "y": 22.9738325045188,
          "yshift": 5
         },
         {
          "arrowhead": 1,
          "showarrow": false,
          "text": "U",
          "x": 8337.04884268245,
          "y": 18.92620325840315,
          "yshift": 5
         },
         {
          "arrowhead": 1,
          "showarrow": false,
          "text": "U",
          "x": 5069.61015335846,
          "y": 1.289796979792915,
          "yshift": 5
         },
         {
          "arrowhead": 1,
          "showarrow": false,
          "text": "U",
          "x": 8030.01455393266,
          "y": 18.7356931503296,
          "yshift": 5
         },
         {
          "arrowhead": 1,
          "showarrow": false,
          "text": "U",
          "x": 10898.37628477725,
          "y": 20.4917191630284,
          "yshift": 5
         },
         {
          "arrowhead": 1,
          "showarrow": false,
          "text": "U",
          "x": 11509.45406289005,
          "y": 20.7567769999981,
          "yshift": 5
         },
         {
          "arrowhead": 1,
          "showarrow": false,
          "text": "U",
          "x": 8336.039454873771,
          "y": 18.984185162750897,
          "yshift": 5
         },
         {
          "arrowhead": 1,
          "showarrow": false,
          "text": "U",
          "x": 11203.41158668355,
          "y": 20.599398676125247,
          "yshift": 5
         },
         {
          "arrowhead": 1,
          "showarrow": false,
          "text": "U",
          "x": 19151.72163364385,
          "y": 22.8100471631368,
          "yshift": 5
         },
         {
          "arrowhead": 1,
          "showarrow": false,
          "text": "U",
          "x": 11204.41118367745,
          "y": 20.61596507883865,
          "yshift": 5
         },
         {
          "arrowhead": 1,
          "showarrow": false,
          "text": "U",
          "x": 14053.8449162806,
          "y": 21.68448000805375,
          "yshift": 5
         },
         {
          "arrowhead": 1,
          "showarrow": false,
          "text": "U",
          "x": 24123.229282697903,
          "y": 23.7138601338545,
          "yshift": 5
         },
         {
          "arrowhead": 1,
          "showarrow": false,
          "text": "U",
          "x": 18952.542746922853,
          "y": 22.8759726013422,
          "yshift": 5
         },
         {
          "arrowhead": 1,
          "showarrow": false,
          "text": "U",
          "x": 8642.08119319832,
          "y": 19.15812972443105,
          "yshift": 5
         },
         {
          "arrowhead": 1,
          "showarrow": false,
          "text": "U",
          "x": 15899.26961542005,
          "y": 22.1731807833592,
          "yshift": 5
         },
         {
          "arrowhead": 1,
          "showarrow": false,
          "text": "U",
          "x": 13098.6976295602,
          "y": 21.39457272049585,
          "yshift": 5
         },
         {
          "arrowhead": 1,
          "showarrow": false,
          "text": "U",
          "x": 20742.9031137663,
          "y": 23.087942837246253,
          "yshift": 5
         },
         {
          "arrowhead": 1,
          "showarrow": false,
          "text": "U",
          "x": 12143.560541802399,
          "y": 21.046684104768453,
          "yshift": 5
         },
         {
          "arrowhead": 1,
          "showarrow": false,
          "text": "U",
          "x": 10575.33708299415,
          "y": 20.1935284957965,
          "yshift": 5
         },
         {
          "arrowhead": 1,
          "showarrow": false,
          "text": "U",
          "x": 13031.892444252,
          "y": 21.29517612911065,
          "yshift": 5
         },
         {
          "arrowhead": 1,
          "showarrow": false,
          "text": "U",
          "x": 21739.0364555879,
          "y": 23.25306822018625,
          "yshift": 5
         },
         {
          "arrowhead": 1,
          "showarrow": false,
          "text": "mG",
          "x": 9504.899973435855,
          "y": 19.448040584294,
          "yshift": 5
         },
         {
          "arrowhead": 1,
          "showarrow": false,
          "text": "mG",
          "x": 14916.6357794546,
          "y": 21.8749903336843,
          "yshift": 5
         },
         {
          "arrowhead": 1,
          "showarrow": false,
          "text": "mG",
          "x": 11455.1572810948,
          "y": 20.5745495334943,
          "yshift": 5
         },
         {
          "arrowhead": 1,
          "showarrow": false,
          "text": "D",
          "x": 24108.22501611065,
          "y": 23.6846484964768,
          "yshift": 5
         },
         {
          "arrowhead": 1,
          "showarrow": false,
          "text": "D",
          "x": 24387.3676287759,
          "y": 23.88562430497805,
          "yshift": 5
         },
         {
          "arrowhead": 1,
          "showarrow": false,
          "text": "D",
          "x": 17846.53286441585,
          "y": 22.59544009225365,
          "yshift": 5
         },
         {
          "arrowhead": 1,
          "showarrow": false,
          "text": "D",
          "x": 18154.5792176642,
          "y": 22.62850914653935,
          "yshift": 5
         },
         {
          "arrowhead": 1,
          "showarrow": false,
          "text": "D",
          "x": 24401.35591758325,
          "y": 23.8695015793721,
          "yshift": 5
         },
         {
          "arrowhead": 1,
          "showarrow": false,
          "text": "D",
          "x": 6374.78091968065,
          "y": 16.1099617208719,
          "yshift": 5
         },
         {
          "arrowhead": 1,
          "showarrow": false,
          "text": "D",
          "x": 24373.340642814852,
          "y": 23.796926608252548,
          "yshift": 5
         },
         {
          "arrowhead": 1,
          "showarrow": false,
          "text": "D",
          "x": 6066.73750564607,
          "y": 15.1077112084309,
          "yshift": 5
         },
         {
          "arrowhead": 1,
          "showarrow": false,
          "text": "mC",
          "x": 8541.73815399002,
          "y": 18.53689939138095,
          "yshift": 5
         },
         {
          "arrowhead": 1,
          "showarrow": false,
          "text": "mC",
          "x": 8860.79761304671,
          "y": 18.9759017502944,
          "yshift": 5
         },
         {
          "arrowhead": 1,
          "showarrow": false,
          "text": "mC",
          "x": 24395.861191645847,
          "y": 23.81977469679515,
          "yshift": 5
         },
         {
          "arrowhead": 1,
          "showarrow": false,
          "text": "mC",
          "x": 15360.5423839845,
          "y": 22.07378393766085,
          "yshift": 5
         },
         {
          "arrowhead": 1,
          "showarrow": false,
          "text": "mC",
          "x": 15679.60392671605,
          "y": 22.148331908949203,
          "yshift": 5
         },
         {
          "arrowhead": 1,
          "showarrow": false,
          "text": "mC",
          "x": 24114.734480243453,
          "y": 23.7107877538284,
          "yshift": 5
         },
         {
          "arrowhead": 1,
          "showarrow": false,
          "text": "mC",
          "x": 13330.42749534815,
          "y": 21.3945729827563,
          "yshift": 5
         },
         {
          "arrowhead": 1,
          "showarrow": false,
          "text": "mC",
          "x": 9179.84666925592,
          "y": 19.3237907544454,
          "yshift": 5
         },
         {
          "arrowhead": 1,
          "showarrow": false,
          "text": "mC",
          "x": 15586.730207987,
          "y": 22.073783958522448,
          "yshift": 5
         },
         {
          "arrowhead": 1,
          "showarrow": false,
          "text": "mC",
          "x": 8940.770282944095,
          "y": 19.24924292521475,
          "yshift": 5
         },
         {
          "arrowhead": 1,
          "showarrow": false,
          "text": "mC",
          "x": 12719.3569640063,
          "y": 21.19577932513555,
          "yshift": 5
         },
         {
          "arrowhead": 1,
          "showarrow": false,
          "text": "mC",
          "x": 13941.5051032273,
          "y": 21.60993276195525,
          "yshift": 5
         },
         {
          "arrowhead": 1,
          "showarrow": false,
          "text": "mC",
          "x": 11780.17039411035,
          "y": 20.74021093405085,
          "yshift": 5
         },
         {
          "arrowhead": 1,
          "showarrow": false,
          "text": "mU",
          "x": 24395.34951377475,
          "y": 23.8486726498286,
          "yshift": 5
         },
         {
          "arrowhead": 1,
          "showarrow": false,
          "text": "mU",
          "x": 24115.240112343352,
          "y": 23.7316166833719,
          "yshift": 5
         },
         {
          "arrowhead": 1,
          "showarrow": false,
          "text": "mU",
          "x": 24396.3594317369,
          "y": 23.7967680092335,
          "yshift": 5
         },
         {
          "arrowhead": 1,
          "showarrow": false,
          "text": "mU",
          "x": 24114.21516390315,
          "y": 23.672697841692,
          "yshift": 5
         },
         {
          "arrowhead": 1,
          "showarrow": false,
          "text": "mU",
          "x": 15892.2625629908,
          "y": 22.1483318413973,
          "yshift": 5
         },
         {
          "arrowhead": 1,
          "showarrow": false,
          "text": "mU",
          "x": 13024.8917828066,
          "y": 21.270326654680552,
          "yshift": 5
         },
         {
          "arrowhead": 1,
          "showarrow": false,
          "text": "mA",
          "x": 12402.30604187165,
          "y": 21.04668418722155,
          "yshift": 5
         },
         {
          "arrowhead": 1,
          "showarrow": false,
          "text": "mA",
          "x": 19822.29377620225,
          "y": 22.9327642515977,
          "yshift": 5
         },
         {
          "arrowhead": 1,
          "showarrow": false,
          "text": "mA",
          "x": 16515.83052784045,
          "y": 22.330526133942598,
          "yshift": 5
         }
        ],
        "template": {
         "data": {
          "bar": [
           {
            "error_x": {
             "color": "#2a3f5f"
            },
            "error_y": {
             "color": "#2a3f5f"
            },
            "marker": {
             "line": {
              "color": "#E5ECF6",
              "width": 0.5
             }
            },
            "type": "bar"
           }
          ],
          "barpolar": [
           {
            "marker": {
             "line": {
              "color": "#E5ECF6",
              "width": 0.5
             }
            },
            "type": "barpolar"
           }
          ],
          "carpet": [
           {
            "aaxis": {
             "endlinecolor": "#2a3f5f",
             "gridcolor": "white",
             "linecolor": "white",
             "minorgridcolor": "white",
             "startlinecolor": "#2a3f5f"
            },
            "baxis": {
             "endlinecolor": "#2a3f5f",
             "gridcolor": "white",
             "linecolor": "white",
             "minorgridcolor": "white",
             "startlinecolor": "#2a3f5f"
            },
            "type": "carpet"
           }
          ],
          "choropleth": [
           {
            "colorbar": {
             "outlinewidth": 0,
             "ticks": ""
            },
            "type": "choropleth"
           }
          ],
          "contour": [
           {
            "colorbar": {
             "outlinewidth": 0,
             "ticks": ""
            },
            "colorscale": [
             [
              0,
              "#0d0887"
             ],
             [
              0.1111111111111111,
              "#46039f"
             ],
             [
              0.2222222222222222,
              "#7201a8"
             ],
             [
              0.3333333333333333,
              "#9c179e"
             ],
             [
              0.4444444444444444,
              "#bd3786"
             ],
             [
              0.5555555555555556,
              "#d8576b"
             ],
             [
              0.6666666666666666,
              "#ed7953"
             ],
             [
              0.7777777777777778,
              "#fb9f3a"
             ],
             [
              0.8888888888888888,
              "#fdca26"
             ],
             [
              1,
              "#f0f921"
             ]
            ],
            "type": "contour"
           }
          ],
          "contourcarpet": [
           {
            "colorbar": {
             "outlinewidth": 0,
             "ticks": ""
            },
            "type": "contourcarpet"
           }
          ],
          "heatmap": [
           {
            "colorbar": {
             "outlinewidth": 0,
             "ticks": ""
            },
            "colorscale": [
             [
              0,
              "#0d0887"
             ],
             [
              0.1111111111111111,
              "#46039f"
             ],
             [
              0.2222222222222222,
              "#7201a8"
             ],
             [
              0.3333333333333333,
              "#9c179e"
             ],
             [
              0.4444444444444444,
              "#bd3786"
             ],
             [
              0.5555555555555556,
              "#d8576b"
             ],
             [
              0.6666666666666666,
              "#ed7953"
             ],
             [
              0.7777777777777778,
              "#fb9f3a"
             ],
             [
              0.8888888888888888,
              "#fdca26"
             ],
             [
              1,
              "#f0f921"
             ]
            ],
            "type": "heatmap"
           }
          ],
          "heatmapgl": [
           {
            "colorbar": {
             "outlinewidth": 0,
             "ticks": ""
            },
            "colorscale": [
             [
              0,
              "#0d0887"
             ],
             [
              0.1111111111111111,
              "#46039f"
             ],
             [
              0.2222222222222222,
              "#7201a8"
             ],
             [
              0.3333333333333333,
              "#9c179e"
             ],
             [
              0.4444444444444444,
              "#bd3786"
             ],
             [
              0.5555555555555556,
              "#d8576b"
             ],
             [
              0.6666666666666666,
              "#ed7953"
             ],
             [
              0.7777777777777778,
              "#fb9f3a"
             ],
             [
              0.8888888888888888,
              "#fdca26"
             ],
             [
              1,
              "#f0f921"
             ]
            ],
            "type": "heatmapgl"
           }
          ],
          "histogram": [
           {
            "marker": {
             "colorbar": {
              "outlinewidth": 0,
              "ticks": ""
             }
            },
            "type": "histogram"
           }
          ],
          "histogram2d": [
           {
            "colorbar": {
             "outlinewidth": 0,
             "ticks": ""
            },
            "colorscale": [
             [
              0,
              "#0d0887"
             ],
             [
              0.1111111111111111,
              "#46039f"
             ],
             [
              0.2222222222222222,
              "#7201a8"
             ],
             [
              0.3333333333333333,
              "#9c179e"
             ],
             [
              0.4444444444444444,
              "#bd3786"
             ],
             [
              0.5555555555555556,
              "#d8576b"
             ],
             [
              0.6666666666666666,
              "#ed7953"
             ],
             [
              0.7777777777777778,
              "#fb9f3a"
             ],
             [
              0.8888888888888888,
              "#fdca26"
             ],
             [
              1,
              "#f0f921"
             ]
            ],
            "type": "histogram2d"
           }
          ],
          "histogram2dcontour": [
           {
            "colorbar": {
             "outlinewidth": 0,
             "ticks": ""
            },
            "colorscale": [
             [
              0,
              "#0d0887"
             ],
             [
              0.1111111111111111,
              "#46039f"
             ],
             [
              0.2222222222222222,
              "#7201a8"
             ],
             [
              0.3333333333333333,
              "#9c179e"
             ],
             [
              0.4444444444444444,
              "#bd3786"
             ],
             [
              0.5555555555555556,
              "#d8576b"
             ],
             [
              0.6666666666666666,
              "#ed7953"
             ],
             [
              0.7777777777777778,
              "#fb9f3a"
             ],
             [
              0.8888888888888888,
              "#fdca26"
             ],
             [
              1,
              "#f0f921"
             ]
            ],
            "type": "histogram2dcontour"
           }
          ],
          "mesh3d": [
           {
            "colorbar": {
             "outlinewidth": 0,
             "ticks": ""
            },
            "type": "mesh3d"
           }
          ],
          "parcoords": [
           {
            "line": {
             "colorbar": {
              "outlinewidth": 0,
              "ticks": ""
             }
            },
            "type": "parcoords"
           }
          ],
          "pie": [
           {
            "automargin": true,
            "type": "pie"
           }
          ],
          "scatter": [
           {
            "marker": {
             "colorbar": {
              "outlinewidth": 0,
              "ticks": ""
             }
            },
            "type": "scatter"
           }
          ],
          "scatter3d": [
           {
            "line": {
             "colorbar": {
              "outlinewidth": 0,
              "ticks": ""
             }
            },
            "marker": {
             "colorbar": {
              "outlinewidth": 0,
              "ticks": ""
             }
            },
            "type": "scatter3d"
           }
          ],
          "scattercarpet": [
           {
            "marker": {
             "colorbar": {
              "outlinewidth": 0,
              "ticks": ""
             }
            },
            "type": "scattercarpet"
           }
          ],
          "scattergeo": [
           {
            "marker": {
             "colorbar": {
              "outlinewidth": 0,
              "ticks": ""
             }
            },
            "type": "scattergeo"
           }
          ],
          "scattergl": [
           {
            "marker": {
             "colorbar": {
              "outlinewidth": 0,
              "ticks": ""
             }
            },
            "type": "scattergl"
           }
          ],
          "scattermapbox": [
           {
            "marker": {
             "colorbar": {
              "outlinewidth": 0,
              "ticks": ""
             }
            },
            "type": "scattermapbox"
           }
          ],
          "scatterpolar": [
           {
            "marker": {
             "colorbar": {
              "outlinewidth": 0,
              "ticks": ""
             }
            },
            "type": "scatterpolar"
           }
          ],
          "scatterpolargl": [
           {
            "marker": {
             "colorbar": {
              "outlinewidth": 0,
              "ticks": ""
             }
            },
            "type": "scatterpolargl"
           }
          ],
          "scatterternary": [
           {
            "marker": {
             "colorbar": {
              "outlinewidth": 0,
              "ticks": ""
             }
            },
            "type": "scatterternary"
           }
          ],
          "surface": [
           {
            "colorbar": {
             "outlinewidth": 0,
             "ticks": ""
            },
            "colorscale": [
             [
              0,
              "#0d0887"
             ],
             [
              0.1111111111111111,
              "#46039f"
             ],
             [
              0.2222222222222222,
              "#7201a8"
             ],
             [
              0.3333333333333333,
              "#9c179e"
             ],
             [
              0.4444444444444444,
              "#bd3786"
             ],
             [
              0.5555555555555556,
              "#d8576b"
             ],
             [
              0.6666666666666666,
              "#ed7953"
             ],
             [
              0.7777777777777778,
              "#fb9f3a"
             ],
             [
              0.8888888888888888,
              "#fdca26"
             ],
             [
              1,
              "#f0f921"
             ]
            ],
            "type": "surface"
           }
          ],
          "table": [
           {
            "cells": {
             "fill": {
              "color": "#EBF0F8"
             },
             "line": {
              "color": "white"
             }
            },
            "header": {
             "fill": {
              "color": "#C8D4E3"
             },
             "line": {
              "color": "white"
             }
            },
            "type": "table"
           }
          ]
         },
         "layout": {
          "annotationdefaults": {
           "arrowcolor": "#2a3f5f",
           "arrowhead": 0,
           "arrowwidth": 1
          },
          "autotypenumbers": "strict",
          "coloraxis": {
           "colorbar": {
            "outlinewidth": 0,
            "ticks": ""
           }
          },
          "colorscale": {
           "diverging": [
            [
             0,
             "#8e0152"
            ],
            [
             0.1,
             "#c51b7d"
            ],
            [
             0.2,
             "#de77ae"
            ],
            [
             0.3,
             "#f1b6da"
            ],
            [
             0.4,
             "#fde0ef"
            ],
            [
             0.5,
             "#f7f7f7"
            ],
            [
             0.6,
             "#e6f5d0"
            ],
            [
             0.7,
             "#b8e186"
            ],
            [
             0.8,
             "#7fbc41"
            ],
            [
             0.9,
             "#4d9221"
            ],
            [
             1,
             "#276419"
            ]
           ],
           "sequential": [
            [
             0,
             "#0d0887"
            ],
            [
             0.1111111111111111,
             "#46039f"
            ],
            [
             0.2222222222222222,
             "#7201a8"
            ],
            [
             0.3333333333333333,
             "#9c179e"
            ],
            [
             0.4444444444444444,
             "#bd3786"
            ],
            [
             0.5555555555555556,
             "#d8576b"
            ],
            [
             0.6666666666666666,
             "#ed7953"
            ],
            [
             0.7777777777777778,
             "#fb9f3a"
            ],
            [
             0.8888888888888888,
             "#fdca26"
            ],
            [
             1,
             "#f0f921"
            ]
           ],
           "sequentialminus": [
            [
             0,
             "#0d0887"
            ],
            [
             0.1111111111111111,
             "#46039f"
            ],
            [
             0.2222222222222222,
             "#7201a8"
            ],
            [
             0.3333333333333333,
             "#9c179e"
            ],
            [
             0.4444444444444444,
             "#bd3786"
            ],
            [
             0.5555555555555556,
             "#d8576b"
            ],
            [
             0.6666666666666666,
             "#ed7953"
            ],
            [
             0.7777777777777778,
             "#fb9f3a"
            ],
            [
             0.8888888888888888,
             "#fdca26"
            ],
            [
             1,
             "#f0f921"
            ]
           ]
          },
          "colorway": [
           "#636efa",
           "#EF553B",
           "#00cc96",
           "#ab63fa",
           "#FFA15A",
           "#19d3f3",
           "#FF6692",
           "#B6E880",
           "#FF97FF",
           "#FECB52"
          ],
          "font": {
           "color": "#2a3f5f"
          },
          "geo": {
           "bgcolor": "white",
           "lakecolor": "white",
           "landcolor": "#E5ECF6",
           "showlakes": true,
           "showland": true,
           "subunitcolor": "white"
          },
          "hoverlabel": {
           "align": "left"
          },
          "hovermode": "closest",
          "mapbox": {
           "style": "light"
          },
          "paper_bgcolor": "white",
          "plot_bgcolor": "#E5ECF6",
          "polar": {
           "angularaxis": {
            "gridcolor": "white",
            "linecolor": "white",
            "ticks": ""
           },
           "bgcolor": "#E5ECF6",
           "radialaxis": {
            "gridcolor": "white",
            "linecolor": "white",
            "ticks": ""
           }
          },
          "scene": {
           "xaxis": {
            "backgroundcolor": "#E5ECF6",
            "gridcolor": "white",
            "gridwidth": 2,
            "linecolor": "white",
            "showbackground": true,
            "ticks": "",
            "zerolinecolor": "white"
           },
           "yaxis": {
            "backgroundcolor": "#E5ECF6",
            "gridcolor": "white",
            "gridwidth": 2,
            "linecolor": "white",
            "showbackground": true,
            "ticks": "",
            "zerolinecolor": "white"
           },
           "zaxis": {
            "backgroundcolor": "#E5ECF6",
            "gridcolor": "white",
            "gridwidth": 2,
            "linecolor": "white",
            "showbackground": true,
            "ticks": "",
            "zerolinecolor": "white"
           }
          },
          "shapedefaults": {
           "line": {
            "color": "#2a3f5f"
           }
          },
          "ternary": {
           "aaxis": {
            "gridcolor": "white",
            "linecolor": "white",
            "ticks": ""
           },
           "baxis": {
            "gridcolor": "white",
            "linecolor": "white",
            "ticks": ""
           },
           "bgcolor": "#E5ECF6",
           "caxis": {
            "gridcolor": "white",
            "linecolor": "white",
            "ticks": ""
           }
          },
          "title": {
           "x": 0.05
          },
          "xaxis": {
           "automargin": true,
           "gridcolor": "white",
           "linecolor": "white",
           "ticks": "",
           "title": {
            "standoff": 15
           },
           "zerolinecolor": "white",
           "zerolinewidth": 2
          },
          "yaxis": {
           "automargin": true,
           "gridcolor": "white",
           "linecolor": "white",
           "ticks": "",
           "title": {
            "standoff": 15
           },
           "zerolinecolor": "white",
           "zerolinewidth": 2
          }
         }
        }
       }
      },
      "text/html": [
       "<div>                            <div id=\"97564b9d-93d5-43df-b9d7-32bdfc25d96a\" class=\"plotly-graph-div\" style=\"height:525px; width:100%;\"></div>            <script type=\"text/javascript\">                require([\"plotly\"], function(Plotly) {                    window.PLOTLYENV=window.PLOTLYENV || {};                                    if (document.getElementById(\"97564b9d-93d5-43df-b9d7-32bdfc25d96a\")) {                    Plotly.newPlot(                        \"97564b9d-93d5-43df-b9d7-32bdfc25d96a\",                        [{\"mode\": \"markers\", \"type\": \"scatter\", \"x\": [24219.2738984065, 24236.2883314722, 6706.98400688655, 8701.26924583026, 24261.281972402, 9020.32598026316, 24262.2720395597, 8382.20706214978, 6401.94014801255, 12559.8322146278, 24235.26497573, 24541.4325717133, 13475.9362119865, 8037.16378074694, 19978.816568096, 12864.880390494, 10665.5516259945, 16673.356628588, 16038.2690666753, 17692.5141861137, 9670.41425979244, 13170.8950256606, 4242.49504398641, 13781.9749629717, 7692.11172427071, 11620.6618852996, 10015.4713294076, 5568.67265225435, 9325.36475346509, 18000.551542718, 11925.7068691309, 15732.2426620751, 15082.1562745015, 7547.94912425451, 24249.2727911127, 14432.0742394802, 15427.2036490404, 11275.6314357154, 6056.89161883064, 4916.5979595981, 10970.5925940368, 6857.8561983642, 10439.3260577578, 12230.7639159187, 18653.6479221138, 10745.3578714833, 7347.05684879686, 14087.0251189363, 16344.2982238138, 8794.09537060277, 17018.4063383594, 18308.6068926104, 10320.4975362999, 7202.90669181442, 4571.53912822689, 24555.4340518195, 9790.2632945027, 17363.4669382686, 8184.03862880557, 23955.2166253422, 20284.8134688862, 17514.3562047957, 15201.0095981808, 8490.05905655933, 5222.62234711882, 18998.6963605955, 24275.2635993445, 14737.109400579, 14895.9528055614, 8183.02343505106, 17819.3790325983, 6528.80370660363, 11051.3946980712, 24247.277783347, 24233.3026858385, 10134.2953728731, 11662.4782942436, 15520.0751697882, 7548.94953205272, 11661.4715330193, 13900.8204765651, 8489.05547469648, 11356.4298315365, 11990.5258433114, 18164.4496274057, 9140.1567576108, 12600.6170093243, 7877.00567281426, 19304.7469066922, 5223.62534709916, 20589.8996316901, 13555.7711503537, 24556.4305320016, 24527.4073872232, 11357.4276692837, 9139.16804234589, 24227.2703519223, 7878.00448801112, 12573.8481678246, 14551.9147667085, 24251.2882252758, 23954.1779926616, 12295.5814748975, 21240.9642285629, 19649.7749722232, 16184.1864696611, 12945.6839412189, 14206.8693559961, 15839.1326836439, 7203.90580461805, 11050.3933418306, 8781.24209876718, 24274.2523351447, 5913.71518023102, 9485.20669988301, 7438.01883779606, 18799.5275336785, 24276.2609320619, 19105.5579601672, 24226.2657795594, 19993.8341218957, 9484.20199003764, 8795.10691170016, 3936.4672395617, 16874.2591205591, 16687.3628318671, 14205.8938470173, 9789.2480852, 18494.4930493261, 6220.75813275767, 5115.78853016458, 5912.71687853447, 16529.2071716204, 13489.9599650357, 9684.43519340662, 16052.2824639065, 21586.0331786903, 13251.7113179015, 20895.9065958425, 23970.1976333339, 13250.716859999, 23512.2673838995, 12296.5952402934, 10728.3476676777, 22237.0996918152, 15096.1621583302, 9339.36735824868, 15746.2567669336, 11634.6831264742, 13184.9031751192, 23207.2288639912, 9100.29846712101, 12878.8817133848, 4810.74736015224, 7132.97705338479, 14101.0352434829, 19650.7534305088, 11939.6789029211, 14550.9158413196, 21892.0397324855, 10746.3733864801, 10422.3264983106], \"y\": [23.6554368590991, 23.632162918218, 14.7598228668849, 18.7605418836753, 23.632162918218, 19.1912616169135, 23.7138601338545, 18.3132568990866, 1.43616851723989, 21.1295146083514, 23.6899588242849, 23.961373100249, 21.4277051424662, 17.981933825779, 22.9819806094646, 21.2123450930595, 20.0858492668152, 22.3884734348138, 22.1566143428961, 22.587159291474, 19.5060260410786, 21.311742633152, 1.00917167620659, 21.527102233537, 17.6671776350021, 20.6159651016871, 19.6882630006154, 1.38764385935466, 19.3403565680663, 22.6037208930333, 20.7816263413111, 22.090350549984, 21.9081226086299, 18.1641618843555, 23.7138601338545, 21.7424617504756, 22.0075194831371, 20.4337376669725, 1.38764385935466, 1.24067400054932, 20.2349451179981, 17.4021198844592, 20.2349451179981, 20.9141553496997, 22.735878908205, 20.4171716924191, 17.460101208655, 21.6099325096289, 22.2560112174034, 19.3072245414734, 22.4050410504818, 22.6532974000454, 19.8870557005882, 17.8162728166262, 1.15826730883916, 24.0073864753723, 19.8539231415272, 22.4547265167713, 18.81024059213, 23.7316166833719, 22.965684399573, 22.5540266151905, 22.0406516249657, 19.0421659246763, 1.33891995903651, 22.7852655585289, 23.7316166833719, 21.8087259169102, 21.9578213826497, 18.8599390502453, 22.6368071591536, 16.5075488582929, 20.5662666336377, 23.7316166833719, 23.8098755097071, 20.0858492668152, 20.7816263413111, 22.106916250356, 18.0647652085304, 20.8313245431264, 21.6596309081395, 19.1084312752565, 20.7319276586851, 21.0301179345131, 22.7027592515628, 19.5060260410786, 21.1792130247434, 18.6114472504139, 22.8348287677447, 1.2903792833964, 23.0632769997597, 21.527102233537, 23.961373100249, 23.938416357406, 20.6656635240396, 19.5888652161439, 23.632162918218, 18.528616807429, 21.1792130247434, 21.841858233579, 23.5898895001094, 23.6554368590991, 21.1295146083514, 23.1787309324423, 22.8843744333267, 22.2891437685172, 21.3283082163016, 21.709329107968, 22.1897475675424, 17.7334430352529, 20.4668696935654, 19.0918648755232, 23.6899588242849, 13.9894981499195, 19.7379601176262, 17.6671776350021, 22.8348287677447, 23.7138601338545, 22.9171164349397, 23.7316166833719, 23.0306997354507, 19.7048283433596, 19.2078281736056, 0.959473307498296, 22.4050410504818, 22.4050410504818, 21.7590275740306, 19.9367539004167, 22.8101183430036, 15.7123745834509, 1.0920033589681, 14.5030478334109, 22.3553965345701, 21.4774033323606, 19.5557246005217, 22.2063131328106, 23.2283694660346, 21.4608372246901, 23.1126086747328, 23.7138601338545, 21.411139499712, 23.5365063186169, 21.0632502750238, 20.2846421912988, 23.3604580497424, 21.9412547504584, 19.4563198919773, 22.1400484339078, 20.7153614000161, 21.3283082163016, 23.5066257253965, 19.4066209749063, 21.2620440419197, 0.959473307498296, 17.2364585832437, 21.6927632903735, 22.8348287677447, 20.8644567664146, 21.9081226086299, 23.2777669743379, 20.3674731508573, 20.1024148002942]}, {\"line\": {\"color\": \"pink\"}, \"mode\": \"lines+markers\", \"name\": \"C\", \"type\": \"scatter\", \"x\": [6706.98400688655, 6401.94014801255], \"y\": [14.7598228668849, 1.43616851723989]}, {\"line\": {\"color\": \"pink\"}, \"mode\": \"lines+markers\", \"name\": \"C\", \"type\": \"scatter\", \"x\": [24236.2883314722, 24541.4325717133], \"y\": [23.632162918218, 23.961373100249]}, {\"line\": {\"color\": \"pink\"}, \"mode\": \"lines+markers\", \"name\": \"C\", \"type\": \"scatter\", \"x\": [13475.9362119865, 13170.8950256606], \"y\": [21.4277051424662, 21.311742633152]}, {\"line\": {\"color\": \"pink\"}, \"mode\": \"lines+markers\", \"name\": \"C\", \"type\": \"scatter\", \"x\": [12559.8322146278, 12864.880390494], \"y\": [21.1295146083514, 21.2123450930595]}, {\"line\": {\"color\": \"pink\"}, \"mode\": \"lines+markers\", \"name\": \"C\", \"type\": \"scatter\", \"x\": [9020.32598026316, 9325.36475346509], \"y\": [19.1912616169135, 19.3403565680663]}, {\"line\": {\"color\": \"pink\"}, \"mode\": \"lines+markers\", \"name\": \"C\", \"type\": \"scatter\", \"x\": [11620.6618852996, 11925.7068691309], \"y\": [20.6159651016871, 20.7816263413111]}, {\"line\": {\"color\": \"pink\"}, \"mode\": \"lines+markers\", \"name\": \"C\", \"type\": \"scatter\", \"x\": [15732.2426620751, 15427.2036490404], \"y\": [22.090350549984, 22.0075194831371]}, {\"line\": {\"color\": \"pink\"}, \"mode\": \"lines+markers\", \"name\": \"C\", \"type\": \"scatter\", \"x\": [11275.6314357154, 10970.5925940368], \"y\": [20.4337376669725, 20.2349451179981]}, {\"line\": {\"color\": \"pink\"}, \"mode\": \"lines+markers\", \"name\": \"C\", \"type\": \"scatter\", \"x\": [10665.5516259945, 10970.5925940368], \"y\": [20.0858492668152, 20.2349451179981]}, {\"line\": {\"color\": \"pink\"}, \"mode\": \"lines+markers\", \"name\": \"C\", \"type\": \"scatter\", \"x\": [10439.3260577578, 10134.2953728731], \"y\": [20.2349451179981, 20.0858492668152]}, {\"line\": {\"color\": \"pink\"}, \"mode\": \"lines+markers\", \"name\": \"C\", \"type\": \"scatter\", \"x\": [11925.7068691309, 12230.7639159187], \"y\": [20.7816263413111, 20.9141553496997]}, {\"line\": {\"color\": \"pink\"}, \"mode\": \"lines+markers\", \"name\": \"C\", \"type\": \"scatter\", \"x\": [13781.9749629717, 14087.0251189363], \"y\": [21.527102233537, 21.6099325096289]}, {\"line\": {\"color\": \"pink\"}, \"mode\": \"lines+markers\", \"name\": \"C\", \"type\": \"scatter\", \"x\": [8794.09537060277, 8489.05547469648], \"y\": [19.3072245414734, 19.1084312752565]}, {\"line\": {\"color\": \"pink\"}, \"mode\": \"lines+markers\", \"name\": \"C\", \"type\": \"scatter\", \"x\": [10015.4713294076, 10320.4975362999], \"y\": [19.6882630006154, 19.8870557005882]}, {\"line\": {\"color\": \"pink\"}, \"mode\": \"lines+markers\", \"name\": \"C\", \"type\": \"scatter\", \"x\": [9790.2632945027, 9485.20669988301], \"y\": [19.8539231415272, 19.7379601176262]}, {\"line\": {\"color\": \"pink\"}, \"mode\": \"lines+markers\", \"name\": \"C\", \"type\": \"scatter\", \"x\": [15201.0095981808, 14895.9528055614], \"y\": [22.0406516249657, 21.9578213826497]}, {\"line\": {\"color\": \"pink\"}, \"mode\": \"lines+markers\", \"name\": \"C\", \"type\": \"scatter\", \"x\": [24275.2635993445, 23970.1976333339], \"y\": [23.7316166833719, 23.7138601338545]}, {\"line\": {\"color\": \"pink\"}, \"mode\": \"lines+markers\", \"name\": \"C\", \"type\": \"scatter\", \"x\": [14432.0742394802, 14737.109400579], \"y\": [21.7424617504756, 21.8087259169102]}, {\"line\": {\"color\": \"pink\"}, \"mode\": \"lines+markers\", \"name\": \"C\", \"type\": \"scatter\", \"x\": [8183.02343505106, 7878.00448801112], \"y\": [18.8599390502453, 18.528616807429]}, {\"line\": {\"color\": \"pink\"}, \"mode\": \"lines+markers\", \"name\": \"C\", \"type\": \"scatter\", \"x\": [17514.3562047957, 17819.3790325983], \"y\": [22.5540266151905, 22.6368071591536]}, {\"line\": {\"color\": \"pink\"}, \"mode\": \"lines+markers\", \"name\": \"C\", \"type\": \"scatter\", \"x\": [11051.3946980712, 10746.3733864801], \"y\": [20.5662666336377, 20.3674731508573]}, {\"line\": {\"color\": \"pink\"}, \"mode\": \"lines+markers\", \"name\": \"C\", \"type\": \"scatter\", \"x\": [11662.4782942436, 11357.4276692837], \"y\": [20.7816263413111, 20.6656635240396]}, {\"line\": {\"color\": \"pink\"}, \"mode\": \"lines+markers\", \"name\": \"C\", \"type\": \"scatter\", \"x\": [11661.4715330193, 11356.4298315365], \"y\": [20.8313245431264, 20.7319276586851]}, {\"line\": {\"color\": \"pink\"}, \"mode\": \"lines+markers\", \"name\": \"C\", \"type\": \"scatter\", \"x\": [8184.03862880557, 8489.05547469648], \"y\": [18.81024059213, 19.1084312752565]}, {\"line\": {\"color\": \"pink\"}, \"mode\": \"lines+markers\", \"name\": \"C\", \"type\": \"scatter\", \"x\": [11051.3946980712, 11356.4298315365], \"y\": [20.5662666336377, 20.7319276586851]}, {\"line\": {\"color\": \"pink\"}, \"mode\": \"lines+markers\", \"name\": \"C\", \"type\": \"scatter\", \"x\": [12600.6170093243, 12295.5814748975], \"y\": [21.1792130247434, 21.1295146083514]}, {\"line\": {\"color\": \"pink\"}, \"mode\": \"lines+markers\", \"name\": \"C\", \"type\": \"scatter\", \"x\": [20284.8134688862, 20589.8996316901], \"y\": [22.965684399573, 23.0632769997597]}, {\"line\": {\"color\": \"pink\"}, \"mode\": \"lines+markers\", \"name\": \"C\", \"type\": \"scatter\", \"x\": [13555.7711503537, 13250.716859999], \"y\": [21.527102233537, 21.411139499712]}, {\"line\": {\"color\": \"pink\"}, \"mode\": \"lines+markers\", \"name\": \"C\", \"type\": \"scatter\", \"x\": [24556.4305320016, 24251.2882252758], \"y\": [23.961373100249, 23.5898895001094]}, {\"line\": {\"color\": \"pink\"}, \"mode\": \"lines+markers\", \"name\": \"C\", \"type\": \"scatter\", \"x\": [11990.5258433114, 12295.5814748975], \"y\": [21.0301179345131, 21.1295146083514]}, {\"line\": {\"color\": \"pink\"}, \"mode\": \"lines+markers\", \"name\": \"C\", \"type\": \"scatter\", \"x\": [10745.3578714833, 11050.3933418306], \"y\": [20.4171716924191, 20.4668696935654]}, {\"line\": {\"color\": \"pink\"}, \"mode\": \"lines+markers\", \"name\": \"C\", \"type\": \"scatter\", \"x\": [7438.01883779606, 7132.97705338479], \"y\": [17.6671776350021, 17.2364585832437]}, {\"line\": {\"color\": \"pink\"}, \"mode\": \"lines+markers\", \"name\": \"C\", \"type\": \"scatter\", \"x\": [18799.5275336785, 18494.4930493261], \"y\": [22.8348287677447, 22.8101183430036]}, {\"line\": {\"color\": \"pink\"}, \"mode\": \"lines+markers\", \"name\": \"C\", \"type\": \"scatter\", \"x\": [8490.05905655933, 8795.10691170016], \"y\": [19.0421659246763, 19.2078281736056]}, {\"line\": {\"color\": \"pink\"}, \"mode\": \"lines+markers\", \"name\": \"C\", \"type\": \"scatter\", \"x\": [13900.8204765651, 14205.8938470173], \"y\": [21.6596309081395, 21.7590275740306]}, {\"line\": {\"color\": \"pink\"}, \"mode\": \"lines+markers\", \"name\": \"C\", \"type\": \"scatter\", \"x\": [9484.20199003764, 9789.2480852], \"y\": [19.7048283433596, 19.9367539004167]}, {\"line\": {\"color\": \"pink\"}, \"mode\": \"lines+markers\", \"name\": \"C\", \"type\": \"scatter\", \"x\": [5115.78853016458, 4810.74736015224], \"y\": [1.0920033589681, 0.959473307498296]}, {\"line\": {\"color\": \"pink\"}, \"mode\": \"lines+markers\", \"name\": \"C\", \"type\": \"scatter\", \"x\": [13489.9599650357, 13184.9031751192], \"y\": [21.4774033323606, 21.3283082163016]}, {\"line\": {\"color\": \"pink\"}, \"mode\": \"lines+markers\", \"name\": \"C\", \"type\": \"scatter\", \"x\": [12945.6839412189, 13250.716859999], \"y\": [21.3283082163016, 21.411139499712]}, {\"line\": {\"color\": \"pink\"}, \"mode\": \"lines+markers\", \"name\": \"C\", \"type\": \"scatter\", \"x\": [23512.2673838995, 23207.2288639912], \"y\": [23.5365063186169, 23.5066257253965]}, {\"line\": {\"color\": \"pink\"}, \"mode\": \"lines+markers\", \"name\": \"C\", \"type\": \"scatter\", \"x\": [12573.8481678246, 12878.8817133848], \"y\": [21.1792130247434, 21.2620440419197]}, {\"line\": {\"color\": \"pink\"}, \"mode\": \"lines+markers\", \"name\": \"C\", \"type\": \"scatter\", \"x\": [11634.6831264742, 11939.6789029211], \"y\": [20.7153614000161, 20.8644567664146]}, {\"line\": {\"color\": \"pink\"}, \"mode\": \"lines+markers\", \"name\": \"A\", \"type\": \"scatter\", \"x\": [12559.8322146278, 12230.7639159187], \"y\": [21.1295146083514, 20.9141553496997]}, {\"line\": {\"color\": \"pink\"}, \"mode\": \"lines+markers\", \"name\": \"A\", \"type\": \"scatter\", \"x\": [19978.816568096, 19649.7749722232], \"y\": [22.9819806094646, 22.8843744333267]}, {\"line\": {\"color\": \"pink\"}, \"mode\": \"lines+markers\", \"name\": \"A\", \"type\": \"scatter\", \"x\": [16673.356628588, 16344.2982238138], \"y\": [22.3884734348138, 22.2560112174034]}, {\"line\": {\"color\": \"pink\"}, \"mode\": \"lines+markers\", \"name\": \"A\", \"type\": \"scatter\", \"x\": [17692.5141861137, 17363.4669382686], \"y\": [22.587159291474, 22.4547265167713]}, {\"line\": {\"color\": \"pink\"}, \"mode\": \"lines+markers\", \"name\": \"A\", \"type\": \"scatter\", \"x\": [6857.8561983642, 6528.80370660363], \"y\": [17.4021198844592, 16.5075488582929]}, {\"line\": {\"color\": \"pink\"}, \"mode\": \"lines+markers\", \"name\": \"A\", \"type\": \"scatter\", \"x\": [4242.49504398641, 4571.53912822689], \"y\": [1.00917167620659, 1.15826730883916]}, {\"line\": {\"color\": \"pink\"}, \"mode\": \"lines+markers\", \"name\": \"A\", \"type\": \"scatter\", \"x\": [24555.4340518195, 24226.2657795594], \"y\": [24.0073864753723, 23.7316166833719]}, {\"line\": {\"color\": \"pink\"}, \"mode\": \"lines+markers\", \"name\": \"A\", \"type\": \"scatter\", \"x\": [11661.4715330193, 11990.5258433114], \"y\": [20.8313245431264, 21.0301179345131]}, {\"line\": {\"color\": \"pink\"}, \"mode\": \"lines+markers\", \"name\": \"A\", \"type\": \"scatter\", \"x\": [7547.94912425451, 7877.00567281426], \"y\": [18.1641618843555, 18.6114472504139]}, {\"line\": {\"color\": \"pink\"}, \"mode\": \"lines+markers\", \"name\": \"A\", \"type\": \"scatter\", \"x\": [24556.4305320016, 24227.2703519223], \"y\": [23.961373100249, 23.632162918218]}, {\"line\": {\"color\": \"pink\"}, \"mode\": \"lines+markers\", \"name\": \"A\", \"type\": \"scatter\", \"x\": [7548.94953205272, 7878.00448801112], \"y\": [18.0647652085304, 18.528616807429]}, {\"line\": {\"color\": \"pink\"}, \"mode\": \"lines+markers\", \"name\": \"G\", \"type\": \"scatter\", \"x\": [8382.20706214978, 8037.16378074694], \"y\": [18.3132568990866, 17.981933825779]}, {\"line\": {\"color\": \"pink\"}, \"mode\": \"lines+markers\", \"name\": \"G\", \"type\": \"scatter\", \"x\": [6401.94014801255, 6056.89161883064], \"y\": [1.43616851723989, 1.38764385935466]}, {\"line\": {\"color\": \"pink\"}, \"mode\": \"lines+markers\", \"name\": \"G\", \"type\": \"scatter\", \"x\": [8037.16378074694, 7692.11172427071], \"y\": [17.981933825779, 17.6671776350021]}, {\"line\": {\"color\": \"pink\"}, \"mode\": \"lines+markers\", \"name\": \"G\", \"type\": \"scatter\", \"x\": [10665.5516259945, 10320.4975362999], \"y\": [20.0858492668152, 19.8870557005882]}, {\"line\": {\"color\": \"pink\"}, \"mode\": \"lines+markers\", \"name\": \"G\", \"type\": \"scatter\", \"x\": [9670.41425979244, 9325.36475346509], \"y\": [19.5060260410786, 19.3403565680663]}, {\"line\": {\"color\": \"pink\"}, \"mode\": \"lines+markers\", \"name\": \"G\", \"type\": \"scatter\", \"x\": [7692.11172427071, 7347.05684879686], \"y\": [17.6671776350021, 17.460101208655]}, {\"line\": {\"color\": \"pink\"}, \"mode\": \"lines+markers\", \"name\": \"G\", \"type\": \"scatter\", \"x\": [11620.6618852996, 11275.6314357154], \"y\": [20.6159651016871, 20.4337376669725]}, {\"line\": {\"color\": \"pink\"}, \"mode\": \"lines+markers\", \"name\": \"G\", \"type\": \"scatter\", \"x\": [9670.41425979244, 10015.4713294076], \"y\": [19.5060260410786, 19.6882630006154]}, {\"line\": {\"color\": \"pink\"}, \"mode\": \"lines+markers\", \"name\": \"G\", \"type\": \"scatter\", \"x\": [5568.67265225435, 5223.62534709916], \"y\": [1.38764385935466, 1.2903792833964]}, {\"line\": {\"color\": \"pink\"}, \"mode\": \"lines+markers\", \"name\": \"G\", \"type\": \"scatter\", \"x\": [15082.1562745015, 14737.109400579], \"y\": [21.9081226086299, 21.8087259169102]}, {\"line\": {\"color\": \"pink\"}, \"mode\": \"lines+markers\", \"name\": \"G\", \"type\": \"scatter\", \"x\": [7547.94912425451, 7202.90669181442], \"y\": [18.1641618843555, 17.8162728166262]}, {\"line\": {\"color\": \"pink\"}, \"mode\": \"lines+markers\", \"name\": \"G\", \"type\": \"scatter\", \"x\": [14432.0742394802, 14087.0251189363], \"y\": [21.7424617504756, 21.6099325096289]}, {\"line\": {\"color\": \"pink\"}, \"mode\": \"lines+markers\", \"name\": \"G\", \"type\": \"scatter\", \"x\": [15082.1562745015, 15427.2036490404], \"y\": [21.9081226086299, 22.0075194831371]}, {\"line\": {\"color\": \"pink\"}, \"mode\": \"lines+markers\", \"name\": \"G\", \"type\": \"scatter\", \"x\": [4916.5979595981, 4571.53912822689], \"y\": [1.24067400054932, 1.15826730883916]}, {\"line\": {\"color\": \"pink\"}, \"mode\": \"lines+markers\", \"name\": \"G\", \"type\": \"scatter\", \"x\": [18653.6479221138, 18308.6068926104], \"y\": [22.735878908205, 22.6532974000454]}, {\"line\": {\"color\": \"pink\"}, \"mode\": \"lines+markers\", \"name\": \"G\", \"type\": \"scatter\", \"x\": [16673.356628588, 17018.4063383594], \"y\": [22.3884734348138, 22.4050410504818]}, {\"line\": {\"color\": \"pink\"}, \"mode\": \"lines+markers\", \"name\": \"G\", \"type\": \"scatter\", \"x\": [6857.8561983642, 7202.90669181442], \"y\": [17.4021198844592, 17.8162728166262]}, {\"line\": {\"color\": \"pink\"}, \"mode\": \"lines+markers\", \"name\": \"G\", \"type\": \"scatter\", \"x\": [17018.4063383594, 17363.4669382686], \"y\": [22.4050410504818, 22.4547265167713]}, {\"line\": {\"color\": \"pink\"}, \"mode\": \"lines+markers\", \"name\": \"G\", \"type\": \"scatter\", \"x\": [18653.6479221138, 18998.6963605955], \"y\": [22.735878908205, 22.7852655585289]}, {\"line\": {\"color\": \"pink\"}, \"mode\": \"lines+markers\", \"name\": \"G\", \"type\": \"scatter\", \"x\": [14895.9528055614, 14550.9158413196], \"y\": [21.9578213826497, 21.9081226086299]}, {\"line\": {\"color\": \"pink\"}, \"mode\": \"lines+markers\", \"name\": \"G\", \"type\": \"scatter\", \"x\": [10134.2953728731, 9789.2480852], \"y\": [20.0858492668152, 19.9367539004167]}, {\"line\": {\"color\": \"pink\"}, \"mode\": \"lines+markers\", \"name\": \"G\", \"type\": \"scatter\", \"x\": [7548.94953205272, 7203.90580461805], \"y\": [18.0647652085304, 17.7334430352529]}, {\"line\": {\"color\": \"pink\"}, \"mode\": \"lines+markers\", \"name\": \"G\", \"type\": \"scatter\", \"x\": [13900.8204765651, 13555.7711503537], \"y\": [21.6596309081395, 21.527102233537]}, {\"line\": {\"color\": \"pink\"}, \"mode\": \"lines+markers\", \"name\": \"G\", \"type\": \"scatter\", \"x\": [17819.3790325983, 18164.4496274057], \"y\": [22.6368071591536, 22.7027592515628]}, {\"line\": {\"color\": \"pink\"}, \"mode\": \"lines+markers\", \"name\": \"G\", \"type\": \"scatter\", \"x\": [9140.1567576108, 8795.10691170016], \"y\": [19.5060260410786, 19.2078281736056]}, {\"line\": {\"color\": \"pink\"}, \"mode\": \"lines+markers\", \"name\": \"G\", \"type\": \"scatter\", \"x\": [8794.09537060277, 9139.16804234589], \"y\": [19.3072245414734, 19.5888652161439]}, {\"line\": {\"color\": \"pink\"}, \"mode\": \"lines+markers\", \"name\": \"G\", \"type\": \"scatter\", \"x\": [14551.9147667085, 14206.8693559961], \"y\": [21.841858233579, 21.709329107968]}, {\"line\": {\"color\": \"pink\"}, \"mode\": \"lines+markers\", \"name\": \"G\", \"type\": \"scatter\", \"x\": [21240.9642285629, 20895.9065958425], \"y\": [23.1787309324423, 23.1126086747328]}, {\"line\": {\"color\": \"pink\"}, \"mode\": \"lines+markers\", \"name\": \"G\", \"type\": \"scatter\", \"x\": [19304.7469066922, 19649.7749722232], \"y\": [22.8348287677447, 22.8843744333267]}, {\"line\": {\"color\": \"pink\"}, \"mode\": \"lines+markers\", \"name\": \"G\", \"type\": \"scatter\", \"x\": [16184.1864696611, 15839.1326836439], \"y\": [22.2891437685172, 22.1897475675424]}, {\"line\": {\"color\": \"pink\"}, \"mode\": \"lines+markers\", \"name\": \"G\", \"type\": \"scatter\", \"x\": [12600.6170093243, 12945.6839412189], \"y\": [21.1792130247434, 21.3283082163016]}, {\"line\": {\"color\": \"pink\"}, \"mode\": \"lines+markers\", \"name\": \"G\", \"type\": \"scatter\", \"x\": [5568.67265225435, 5913.71518023102], \"y\": [1.38764385935466, 13.9894981499195]}, {\"line\": {\"color\": \"pink\"}, \"mode\": \"lines+markers\", \"name\": \"G\", \"type\": \"scatter\", \"x\": [9140.1567576108, 9485.20669988301], \"y\": [19.5060260410786, 19.7379601176262]}, {\"line\": {\"color\": \"pink\"}, \"mode\": \"lines+markers\", \"name\": \"G\", \"type\": \"scatter\", \"x\": [9139.16804234589, 9484.20199003764], \"y\": [19.5888652161439, 19.7048283433596]}, {\"line\": {\"color\": \"pink\"}, \"mode\": \"lines+markers\", \"name\": \"G\", \"type\": \"scatter\", \"x\": [16874.2591205591, 16529.2071716204], \"y\": [22.4050410504818, 22.3553965345701]}, {\"line\": {\"color\": \"pink\"}, \"mode\": \"lines+markers\", \"name\": \"G\", \"type\": \"scatter\", \"x\": [16184.1864696611, 16529.2071716204], \"y\": [22.2891437685172, 22.3553965345701]}, {\"line\": {\"color\": \"pink\"}, \"mode\": \"lines+markers\", \"name\": \"G\", \"type\": \"scatter\", \"x\": [9684.43519340662, 9339.36735824868], \"y\": [19.5557246005217, 19.4563198919773]}, {\"line\": {\"color\": \"pink\"}, \"mode\": \"lines+markers\", \"name\": \"G\", \"type\": \"scatter\", \"x\": [21240.9642285629, 21586.0331786903], \"y\": [23.1787309324423, 23.2283694660346]}, {\"line\": {\"color\": \"pink\"}, \"mode\": \"lines+markers\", \"name\": \"G\", \"type\": \"scatter\", \"x\": [22237.0996918152, 21892.0397324855], \"y\": [23.3604580497424, 23.2777669743379]}, {\"line\": {\"color\": \"pink\"}, \"mode\": \"lines+markers\", \"name\": \"G\", \"type\": \"scatter\", \"x\": [14205.8938470173, 14550.9158413196], \"y\": [21.7590275740306, 21.9081226086299]}, {\"line\": {\"color\": \"pink\"}, \"mode\": \"lines+markers\", \"name\": \"U\", \"type\": \"scatter\", \"x\": [24261.281972402, 23955.2166253422], \"y\": [23.632162918218, 23.7316166833719]}, {\"line\": {\"color\": \"pink\"}, \"mode\": \"lines+markers\", \"name\": \"U\", \"type\": \"scatter\", \"x\": [24235.26497573, 24541.4325717133], \"y\": [23.6899588242849, 23.961373100249]}, {\"line\": {\"color\": \"pink\"}, \"mode\": \"lines+markers\", \"name\": \"U\", \"type\": \"scatter\", \"x\": [16038.2690666753, 15732.2426620751], \"y\": [22.1566143428961, 22.090350549984]}, {\"line\": {\"color\": \"pink\"}, \"mode\": \"lines+markers\", \"name\": \"U\", \"type\": \"scatter\", \"x\": [12864.880390494, 13170.8950256606], \"y\": [21.2123450930595, 21.311742633152]}, {\"line\": {\"color\": \"pink\"}, \"mode\": \"lines+markers\", \"name\": \"U\", \"type\": \"scatter\", \"x\": [4242.49504398641, 3936.4672395617], \"y\": [1.00917167620659, 0.959473307498296]}, {\"line\": {\"color\": \"pink\"}, \"mode\": \"lines+markers\", \"name\": \"U\", \"type\": \"scatter\", \"x\": [13475.9362119865, 13781.9749629717], \"y\": [21.4277051424662, 21.527102233537]}, {\"line\": {\"color\": \"pink\"}, \"mode\": \"lines+markers\", \"name\": \"U\", \"type\": \"scatter\", \"x\": [10439.3260577578, 10745.3578714833], \"y\": [20.2349451179981, 20.4171716924191]}, {\"line\": {\"color\": \"pink\"}, \"mode\": \"lines+markers\", \"name\": \"U\", \"type\": \"scatter\", \"x\": [16038.2690666753, 16344.2982238138], \"y\": [22.1566143428961, 22.2560112174034]}, {\"line\": {\"color\": \"pink\"}, \"mode\": \"lines+markers\", \"name\": \"U\", \"type\": \"scatter\", \"x\": [24249.2727911127, 24555.4340518195], \"y\": [23.7138601338545, 24.0073864753723]}, {\"line\": {\"color\": \"pink\"}, \"mode\": \"lines+markers\", \"name\": \"U\", \"type\": \"scatter\", \"x\": [9790.2632945027, 9484.20199003764], \"y\": [19.8539231415272, 19.7048283433596]}, {\"line\": {\"color\": \"pink\"}, \"mode\": \"lines+markers\", \"name\": \"U\", \"type\": \"scatter\", \"x\": [8184.03862880557, 7878.00448801112], \"y\": [18.81024059213, 18.528616807429]}, {\"line\": {\"color\": \"pink\"}, \"mode\": \"lines+markers\", \"name\": \"U\", \"type\": \"scatter\", \"x\": [19978.816568096, 20284.8134688862], \"y\": [22.9819806094646, 22.965684399573]}, {\"line\": {\"color\": \"pink\"}, \"mode\": \"lines+markers\", \"name\": \"U\", \"type\": \"scatter\", \"x\": [8184.03862880557, 8490.05905655933], \"y\": [18.81024059213, 19.0421659246763]}, {\"line\": {\"color\": \"pink\"}, \"mode\": \"lines+markers\", \"name\": \"U\", \"type\": \"scatter\", \"x\": [4916.5979595981, 5222.62234711882], \"y\": [1.24067400054932, 1.33891995903651]}, {\"line\": {\"color\": \"pink\"}, \"mode\": \"lines+markers\", \"name\": \"U\", \"type\": \"scatter\", \"x\": [8183.02343505106, 7877.00567281426], \"y\": [18.8599390502453, 18.6114472504139]}, {\"line\": {\"color\": \"pink\"}, \"mode\": \"lines+markers\", \"name\": \"U\", \"type\": \"scatter\", \"x\": [10745.3578714833, 11051.3946980712], \"y\": [20.4171716924191, 20.5662666336377]}, {\"line\": {\"color\": \"pink\"}, \"mode\": \"lines+markers\", \"name\": \"U\", \"type\": \"scatter\", \"x\": [11662.4782942436, 11356.4298315365], \"y\": [20.7816263413111, 20.7319276586851]}, {\"line\": {\"color\": \"pink\"}, \"mode\": \"lines+markers\", \"name\": \"U\", \"type\": \"scatter\", \"x\": [8183.02343505106, 8489.05547469648], \"y\": [18.8599390502453, 19.1084312752565]}, {\"line\": {\"color\": \"pink\"}, \"mode\": \"lines+markers\", \"name\": \"U\", \"type\": \"scatter\", \"x\": [11356.4298315365, 11050.3933418306], \"y\": [20.7319276586851, 20.4668696935654]}, {\"line\": {\"color\": \"pink\"}, \"mode\": \"lines+markers\", \"name\": \"U\", \"type\": \"scatter\", \"x\": [18998.6963605955, 19304.7469066922], \"y\": [22.7852655585289, 22.8348287677447]}, {\"line\": {\"color\": \"pink\"}, \"mode\": \"lines+markers\", \"name\": \"U\", \"type\": \"scatter\", \"x\": [11051.3946980712, 11357.4276692837], \"y\": [20.5662666336377, 20.6656635240396]}, {\"line\": {\"color\": \"pink\"}, \"mode\": \"lines+markers\", \"name\": \"U\", \"type\": \"scatter\", \"x\": [13900.8204765651, 14206.8693559961], \"y\": [21.6596309081395, 21.709329107968]}, {\"line\": {\"color\": \"pink\"}, \"mode\": \"lines+markers\", \"name\": \"U\", \"type\": \"scatter\", \"x\": [24276.2609320619, 23970.1976333339], \"y\": [23.7138601338545, 23.7138601338545]}, {\"line\": {\"color\": \"pink\"}, \"mode\": \"lines+markers\", \"name\": \"U\", \"type\": \"scatter\", \"x\": [18799.5275336785, 19105.5579601672], \"y\": [22.8348287677447, 22.9171164349397]}, {\"line\": {\"color\": \"pink\"}, \"mode\": \"lines+markers\", \"name\": \"U\", \"type\": \"scatter\", \"x\": [8489.05547469648, 8795.10691170016], \"y\": [19.1084312752565, 19.2078281736056]}, {\"line\": {\"color\": \"pink\"}, \"mode\": \"lines+markers\", \"name\": \"U\", \"type\": \"scatter\", \"x\": [16052.2824639065, 15746.2567669336], \"y\": [22.2063131328106, 22.1400484339078]}, {\"line\": {\"color\": \"pink\"}, \"mode\": \"lines+markers\", \"name\": \"U\", \"type\": \"scatter\", \"x\": [12945.6839412189, 13251.7113179015], \"y\": [21.3283082163016, 21.4608372246901]}, {\"line\": {\"color\": \"pink\"}, \"mode\": \"lines+markers\", \"name\": \"U\", \"type\": \"scatter\", \"x\": [20589.8996316901, 20895.9065958425], \"y\": [23.0632769997597, 23.1126086747328]}, {\"line\": {\"color\": \"pink\"}, \"mode\": \"lines+markers\", \"name\": \"U\", \"type\": \"scatter\", \"x\": [11990.5258433114, 12296.5952402934], \"y\": [21.0301179345131, 21.0632502750238]}, {\"line\": {\"color\": \"pink\"}, \"mode\": \"lines+markers\", \"name\": \"U\", \"type\": \"scatter\", \"x\": [10728.3476676777, 10422.3264983106], \"y\": [20.2846421912988, 20.1024148002942]}, {\"line\": {\"color\": \"pink\"}, \"mode\": \"lines+markers\", \"name\": \"U\", \"type\": \"scatter\", \"x\": [13184.9031751192, 12878.8817133848], \"y\": [21.3283082163016, 21.2620440419197]}, {\"line\": {\"color\": \"pink\"}, \"mode\": \"lines+markers\", \"name\": \"U\", \"type\": \"scatter\", \"x\": [21586.0331786903, 21892.0397324855], \"y\": [23.2283694660346, 23.2777669743379]}, {\"line\": {\"color\": \"pink\"}, \"mode\": \"lines+markers\", \"name\": \"mG\", \"type\": \"scatter\", \"x\": [9325.36475346509, 9684.43519340662], \"y\": [19.3403565680663, 19.5557246005217]}, {\"line\": {\"color\": \"pink\"}, \"mode\": \"lines+markers\", \"name\": \"mG\", \"type\": \"scatter\", \"x\": [14737.109400579, 15096.1621583302], \"y\": [21.8087259169102, 21.9412547504584]}, {\"line\": {\"color\": \"pink\"}, \"mode\": \"lines+markers\", \"name\": \"mG\", \"type\": \"scatter\", \"x\": [11275.6314357154, 11634.6831264742], \"y\": [20.4337376669725, 20.7153614000161]}, {\"line\": {\"color\": \"pink\"}, \"mode\": \"lines+markers\", \"name\": \"D\", \"type\": \"scatter\", \"x\": [24262.2720395597, 23954.1779926616], \"y\": [23.7138601338545, 23.6554368590991]}, {\"line\": {\"color\": \"pink\"}, \"mode\": \"lines+markers\", \"name\": \"D\", \"type\": \"scatter\", \"x\": [24541.4325717133, 24233.3026858385], \"y\": [23.961373100249, 23.8098755097071]}, {\"line\": {\"color\": \"pink\"}, \"mode\": \"lines+markers\", \"name\": \"D\", \"type\": \"scatter\", \"x\": [17692.5141861137, 18000.551542718], \"y\": [22.587159291474, 22.6037208930333]}, {\"line\": {\"color\": \"pink\"}, \"mode\": \"lines+markers\", \"name\": \"D\", \"type\": \"scatter\", \"x\": [18000.551542718, 18308.6068926104], \"y\": [22.6037208930333, 22.6532974000454]}, {\"line\": {\"color\": \"pink\"}, \"mode\": \"lines+markers\", \"name\": \"D\", \"type\": \"scatter\", \"x\": [24555.4340518195, 24247.277783347], \"y\": [24.0073864753723, 23.7316166833719]}, {\"line\": {\"color\": \"pink\"}, \"mode\": \"lines+markers\", \"name\": \"D\", \"type\": \"scatter\", \"x\": [6528.80370660363, 6220.75813275767], \"y\": [16.5075488582929, 15.7123745834509]}, {\"line\": {\"color\": \"pink\"}, \"mode\": \"lines+markers\", \"name\": \"D\", \"type\": \"scatter\", \"x\": [24219.2738984065, 24527.4073872232], \"y\": [23.6554368590991, 23.938416357406]}, {\"line\": {\"color\": \"pink\"}, \"mode\": \"lines+markers\", \"name\": \"D\", \"type\": \"scatter\", \"x\": [6220.75813275767, 5912.71687853447], \"y\": [15.7123745834509, 14.5030478334109]}, {\"line\": {\"color\": \"pink\"}, \"mode\": \"lines+markers\", \"name\": \"mC\", \"type\": \"scatter\", \"x\": [8701.26924583026, 8382.20706214978], \"y\": [18.7605418836753, 18.3132568990866]}, {\"line\": {\"color\": \"pink\"}, \"mode\": \"lines+markers\", \"name\": \"mC\", \"type\": \"scatter\", \"x\": [8701.26924583026, 9020.32598026316], \"y\": [18.7605418836753, 19.1912616169135]}, {\"line\": {\"color\": \"pink\"}, \"mode\": \"lines+markers\", \"name\": \"mC\", \"type\": \"scatter\", \"x\": [24236.2883314722, 24555.4340518195], \"y\": [23.632162918218, 24.0073864753723]}, {\"line\": {\"color\": \"pink\"}, \"mode\": \"lines+markers\", \"name\": \"mC\", \"type\": \"scatter\", \"x\": [15201.0095981808, 15520.0751697882], \"y\": [22.0406516249657, 22.106916250356]}, {\"line\": {\"color\": \"pink\"}, \"mode\": \"lines+markers\", \"name\": \"mC\", \"type\": \"scatter\", \"x\": [15520.0751697882, 15839.1326836439], \"y\": [22.106916250356, 22.1897475675424]}, {\"line\": {\"color\": \"pink\"}, \"mode\": \"lines+markers\", \"name\": \"mC\", \"type\": \"scatter\", \"x\": [23955.2166253422, 24274.2523351447], \"y\": [23.7316166833719, 23.6899588242849]}, {\"line\": {\"color\": \"pink\"}, \"mode\": \"lines+markers\", \"name\": \"mC\", \"type\": \"scatter\", \"x\": [13170.8950256606, 13489.9599650357], \"y\": [21.311742633152, 21.4774033323606]}, {\"line\": {\"color\": \"pink\"}, \"mode\": \"lines+markers\", \"name\": \"mC\", \"type\": \"scatter\", \"x\": [9020.32598026316, 9339.36735824868], \"y\": [19.1912616169135, 19.4563198919773]}, {\"line\": {\"color\": \"pink\"}, \"mode\": \"lines+markers\", \"name\": \"mC\", \"type\": \"scatter\", \"x\": [15427.2036490404, 15746.2567669336], \"y\": [22.0075194831371, 22.1400484339078]}, {\"line\": {\"color\": \"pink\"}, \"mode\": \"lines+markers\", \"name\": \"mC\", \"type\": \"scatter\", \"x\": [8781.24209876718, 9100.29846712101], \"y\": [19.0918648755232, 19.4066209749063]}, {\"line\": {\"color\": \"pink\"}, \"mode\": \"lines+markers\", \"name\": \"mC\", \"type\": \"scatter\", \"x\": [12559.8322146278, 12878.8817133848], \"y\": [21.1295146083514, 21.2620440419197]}, {\"line\": {\"color\": \"pink\"}, \"mode\": \"lines+markers\", \"name\": \"mC\", \"type\": \"scatter\", \"x\": [13781.9749629717, 14101.0352434829], \"y\": [21.527102233537, 21.6927632903735]}, {\"line\": {\"color\": \"pink\"}, \"mode\": \"lines+markers\", \"name\": \"mC\", \"type\": \"scatter\", \"x\": [11620.6618852996, 11939.6789029211], \"y\": [20.6159651016871, 20.8644567664146]}, {\"line\": {\"color\": \"pink\"}, \"mode\": \"lines+markers\", \"name\": \"mU\", \"type\": \"scatter\", \"x\": [24235.26497573, 24555.4340518195], \"y\": [23.6899588242849, 24.0073864753723]}, {\"line\": {\"color\": \"pink\"}, \"mode\": \"lines+markers\", \"name\": \"mU\", \"type\": \"scatter\", \"x\": [23955.2166253422, 24275.2635993445], \"y\": [23.7316166833719, 23.7316166833719]}, {\"line\": {\"color\": \"pink\"}, \"mode\": \"lines+markers\", \"name\": \"mU\", \"type\": \"scatter\", \"x\": [24236.2883314722, 24556.4305320016], \"y\": [23.632162918218, 23.961373100249]}, {\"line\": {\"color\": \"pink\"}, \"mode\": \"lines+markers\", \"name\": \"mU\", \"type\": \"scatter\", \"x\": [23954.1779926616, 24274.2523351447], \"y\": [23.6554368590991, 23.6899588242849]}, {\"line\": {\"color\": \"pink\"}, \"mode\": \"lines+markers\", \"name\": \"mU\", \"type\": \"scatter\", \"x\": [15732.2426620751, 16052.2824639065], \"y\": [22.090350549984, 22.2063131328106]}, {\"line\": {\"color\": \"pink\"}, \"mode\": \"lines+markers\", \"name\": \"mU\", \"type\": \"scatter\", \"x\": [12864.880390494, 13184.9031751192], \"y\": [21.2123450930595, 21.3283082163016]}, {\"line\": {\"color\": \"pink\"}, \"mode\": \"lines+markers\", \"name\": \"mA\", \"type\": \"scatter\", \"x\": [12230.7639159187, 12573.8481678246], \"y\": [20.9141553496997, 21.1792130247434]}, {\"line\": {\"color\": \"pink\"}, \"mode\": \"lines+markers\", \"name\": \"mA\", \"type\": \"scatter\", \"x\": [19993.8341218957, 19650.7534305088], \"y\": [23.0306997354507, 22.8348287677447]}, {\"line\": {\"color\": \"pink\"}, \"mode\": \"lines+markers\", \"name\": \"mA\", \"type\": \"scatter\", \"x\": [16344.2982238138, 16687.3628318671], \"y\": [22.2560112174034, 22.4050410504818]}],                        {\"annotations\": [{\"arrowhead\": 1, \"showarrow\": false, \"text\": \"C\", \"x\": 6554.46207744955, \"y\": 8.097995692062394, \"yshift\": 5}, {\"arrowhead\": 1, \"showarrow\": false, \"text\": \"C\", \"x\": 24388.86045159275, \"y\": 23.7967680092335, \"yshift\": 5}, {\"arrowhead\": 1, \"showarrow\": false, \"text\": \"C\", \"x\": 13323.41561882355, \"y\": 21.3697238878091, \"yshift\": 5}, {\"arrowhead\": 1, \"showarrow\": false, \"text\": \"C\", \"x\": 12712.3563025609, \"y\": 21.17092985070545, \"yshift\": 5}, {\"arrowhead\": 1, \"showarrow\": false, \"text\": \"C\", \"x\": 9172.845366864125, \"y\": 19.265809092489903, \"yshift\": 5}, {\"arrowhead\": 1, \"showarrow\": false, \"text\": \"C\", \"x\": 11773.18437721525, \"y\": 20.6987957214991, \"yshift\": 5}, {\"arrowhead\": 1, \"showarrow\": false, \"text\": \"C\", \"x\": 15579.72315555775, \"y\": 22.04893501656055, \"yshift\": 5}, {\"arrowhead\": 1, \"showarrow\": false, \"text\": \"C\", \"x\": 11123.1120148761, \"y\": 20.3343413924853, \"yshift\": 5}, {\"arrowhead\": 1, \"showarrow\": false, \"text\": \"C\", \"x\": 10818.07211001565, \"y\": 20.16039719240665, \"yshift\": 5}, {\"arrowhead\": 1, \"showarrow\": false, \"text\": \"C\", \"x\": 10286.81071531545, \"y\": 20.16039719240665, \"yshift\": 5}, {\"arrowhead\": 1, \"showarrow\": false, \"text\": \"C\", \"x\": 12078.235392524799, \"y\": 20.8478908455054, \"yshift\": 5}, {\"arrowhead\": 1, \"showarrow\": false, \"text\": \"C\", \"x\": 13934.500040954, \"y\": 21.56851737158295, \"yshift\": 5}, {\"arrowhead\": 1, \"showarrow\": false, \"text\": \"C\", \"x\": 8641.575422649625, \"y\": 19.207827908364948, \"yshift\": 5}, {\"arrowhead\": 1, \"showarrow\": false, \"text\": \"C\", \"x\": 10167.98443285375, \"y\": 19.7876593506018, \"yshift\": 5}, {\"arrowhead\": 1, \"showarrow\": false, \"text\": \"C\", \"x\": 9637.734997192856, \"y\": 19.795941629576703, \"yshift\": 5}, {\"arrowhead\": 1, \"showarrow\": false, \"text\": \"C\", \"x\": 15048.4812018711, \"y\": 21.9992365038077, \"yshift\": 5}, {\"arrowhead\": 1, \"showarrow\": false, \"text\": \"C\", \"x\": 24122.7306163392, \"y\": 23.7227384086132, \"yshift\": 5}, {\"arrowhead\": 1, \"showarrow\": false, \"text\": \"C\", \"x\": 14584.5918200296, \"y\": 21.7755938336929, \"yshift\": 5}, {\"arrowhead\": 1, \"showarrow\": false, \"text\": \"C\", \"x\": 8030.51396153109, \"y\": 18.69427792883715, \"yshift\": 5}, {\"arrowhead\": 1, \"showarrow\": false, \"text\": \"C\", \"x\": 17666.867618696997, \"y\": 22.59541688717205, \"yshift\": 5}, {\"arrowhead\": 1, \"showarrow\": false, \"text\": \"C\", \"x\": 10898.884042275651, \"y\": 20.4668698922475, \"yshift\": 5}, {\"arrowhead\": 1, \"showarrow\": false, \"text\": \"C\", \"x\": 11509.95298176365, \"y\": 20.72364493267535, \"yshift\": 5}, {\"arrowhead\": 1, \"showarrow\": false, \"text\": \"C\", \"x\": 11508.9506822779, \"y\": 20.781626100905747, \"yshift\": 5}, {\"arrowhead\": 1, \"showarrow\": false, \"text\": \"C\", \"x\": 8336.547051751026, \"y\": 18.95933593369325, \"yshift\": 5}, {\"arrowhead\": 1, \"showarrow\": false, \"text\": \"C\", \"x\": 11203.91226480385, \"y\": 20.6490971461614, \"yshift\": 5}, {\"arrowhead\": 1, \"showarrow\": false, \"text\": \"C\", \"x\": 12448.0992421109, \"y\": 21.154363816547402, \"yshift\": 5}, {\"arrowhead\": 1, \"showarrow\": false, \"text\": \"C\", \"x\": 20437.35655028815, \"y\": 23.01448069966635, \"yshift\": 5}, {\"arrowhead\": 1, \"showarrow\": false, \"text\": \"C\", \"x\": 13403.24400517635, \"y\": 21.4691208666245, \"yshift\": 5}, {\"arrowhead\": 1, \"showarrow\": false, \"text\": \"C\", \"x\": 24403.8593786387, \"y\": 23.7756313001792, \"yshift\": 5}, {\"arrowhead\": 1, \"showarrow\": false, \"text\": \"C\", \"x\": 12143.053659104451, \"y\": 21.07981627143225, \"yshift\": 5}, {\"arrowhead\": 1, \"showarrow\": false, \"text\": \"C\", \"x\": 10897.875606656951, \"y\": 20.44202069299225, \"yshift\": 5}, {\"arrowhead\": 1, \"showarrow\": false, \"text\": \"C\", \"x\": 7285.497945590425, \"y\": 17.4518181091229, \"yshift\": 5}, {\"arrowhead\": 1, \"showarrow\": false, \"text\": \"C\", \"x\": 18647.0102915023, \"y\": 22.822473555374152, \"yshift\": 5}, {\"arrowhead\": 1, \"showarrow\": false, \"text\": \"C\", \"x\": 8642.582984129745, \"y\": 19.12499704914095, \"yshift\": 5}, {\"arrowhead\": 1, \"showarrow\": false, \"text\": \"C\", \"x\": 14053.3571617912, \"y\": 21.70932924108505, \"yshift\": 5}, {\"arrowhead\": 1, \"showarrow\": false, \"text\": \"C\", \"x\": 9636.72503761882, \"y\": 19.82079112188815, \"yshift\": 5}, {\"arrowhead\": 1, \"showarrow\": false, \"text\": \"C\", \"x\": 4963.26794515841, \"y\": 1.025738333233198, \"yshift\": 5}, {\"arrowhead\": 1, \"showarrow\": false, \"text\": \"C\", \"x\": 13337.43157007745, \"y\": 21.4028557743311, \"yshift\": 5}, {\"arrowhead\": 1, \"showarrow\": false, \"text\": \"C\", \"x\": 13098.20040060895, \"y\": 21.3697238580068, \"yshift\": 5}, {\"arrowhead\": 1, \"showarrow\": false, \"text\": \"C\", \"x\": 23359.74812394535, \"y\": 23.521566022006702, \"yshift\": 5}, {\"arrowhead\": 1, \"showarrow\": false, \"text\": \"C\", \"x\": 12726.3649406047, \"y\": 21.22062853333155, \"yshift\": 5}, {\"arrowhead\": 1, \"showarrow\": false, \"text\": \"C\", \"x\": 11787.18101469765, \"y\": 20.78990908321535, \"yshift\": 5}, {\"arrowhead\": 1, \"showarrow\": false, \"text\": \"A\", \"x\": 12395.298065273251, \"y\": 21.02183497902555, \"yshift\": 5}, {\"arrowhead\": 1, \"showarrow\": false, \"text\": \"A\", \"x\": 19814.295770159602, \"y\": 22.93317752139565, \"yshift\": 5}, {\"arrowhead\": 1, \"showarrow\": false, \"text\": \"A\", \"x\": 16508.8274262009, \"y\": 22.3222423261086, \"yshift\": 5}, {\"arrowhead\": 1, \"showarrow\": false, \"text\": \"A\", \"x\": 17527.990562191153, \"y\": 22.52094290412265, \"yshift\": 5}, {\"arrowhead\": 1, \"showarrow\": false, \"text\": \"A\", \"x\": 6693.329952483915, \"y\": 16.95483437137605, \"yshift\": 5}, {\"arrowhead\": 1, \"showarrow\": false, \"text\": \"A\", \"x\": 4407.01708610665, \"y\": 1.083719492522875, \"yshift\": 5}, {\"arrowhead\": 1, \"showarrow\": false, \"text\": \"A\", \"x\": 24390.849915689447, \"y\": 23.8695015793721, \"yshift\": 5}, {\"arrowhead\": 1, \"showarrow\": false, \"text\": \"A\", \"x\": 11825.99868816535, \"y\": 20.93072123881975, \"yshift\": 5}, {\"arrowhead\": 1, \"showarrow\": false, \"text\": \"A\", \"x\": 7712.477398534385, \"y\": 18.3878045673847, \"yshift\": 5}, {\"arrowhead\": 1, \"showarrow\": false, \"text\": \"A\", \"x\": 24391.85044196195, \"y\": 23.7967680092335, \"yshift\": 5}, {\"arrowhead\": 1, \"showarrow\": false, \"text\": \"A\", \"x\": 7713.47701003192, \"y\": 18.2966910079797, \"yshift\": 5}, {\"arrowhead\": 1, \"showarrow\": false, \"text\": \"G\", \"x\": 8209.685421448361, \"y\": 18.1475953624328, \"yshift\": 5}, {\"arrowhead\": 1, \"showarrow\": false, \"text\": \"G\", \"x\": 6229.415883421595, \"y\": 1.411906188297275, \"yshift\": 5}, {\"arrowhead\": 1, \"showarrow\": false, \"text\": \"G\", \"x\": 7864.637752508825, \"y\": 17.82455573039055, \"yshift\": 5}, {\"arrowhead\": 1, \"showarrow\": false, \"text\": \"G\", \"x\": 10493.0245811472, \"y\": 19.986452483701697, \"yshift\": 5}, {\"arrowhead\": 1, \"showarrow\": false, \"text\": \"G\", \"x\": 9497.889506628766, \"y\": 19.42319130457245, \"yshift\": 5}, {\"arrowhead\": 1, \"showarrow\": false, \"text\": \"G\", \"x\": 7519.584286533785, \"y\": 17.56363942182855, \"yshift\": 5}, {\"arrowhead\": 1, \"showarrow\": false, \"text\": \"G\", \"x\": 11448.1466605075, \"y\": 20.5248513843298, \"yshift\": 5}, {\"arrowhead\": 1, \"showarrow\": false, \"text\": \"G\", \"x\": 9842.94279460002, \"y\": 19.597144520847, \"yshift\": 5}, {\"arrowhead\": 1, \"showarrow\": false, \"text\": \"G\", \"x\": 5396.148999676755, \"y\": 1.3390115713755302, \"yshift\": 5}, {\"arrowhead\": 1, \"showarrow\": false, \"text\": \"G\", \"x\": 14909.63283754025, \"y\": 21.85842426277005, \"yshift\": 5}, {\"arrowhead\": 1, \"showarrow\": false, \"text\": \"G\", \"x\": 7375.427908034465, \"y\": 17.990217350490852, \"yshift\": 5}, {\"arrowhead\": 1, \"showarrow\": false, \"text\": \"G\", \"x\": 14259.54967920825, \"y\": 21.676197130052252, \"yshift\": 5}, {\"arrowhead\": 1, \"showarrow\": false, \"text\": \"G\", \"x\": 15254.679961770951, \"y\": 21.9578210458835, \"yshift\": 5}, {\"arrowhead\": 1, \"showarrow\": false, \"text\": \"G\", \"x\": 4744.068543912495, \"y\": 1.19947065469424, \"yshift\": 5}, {\"arrowhead\": 1, \"showarrow\": false, \"text\": \"G\", \"x\": 18481.127407362103, \"y\": 22.6945881541252, \"yshift\": 5}, {\"arrowhead\": 1, \"showarrow\": false, \"text\": \"G\", \"x\": 16845.8814834737, \"y\": 22.3967572426478, \"yshift\": 5}, {\"arrowhead\": 1, \"showarrow\": false, \"text\": \"G\", \"x\": 7030.38144508931, \"y\": 17.6091963505427, \"yshift\": 5}, {\"arrowhead\": 1, \"showarrow\": false, \"text\": \"G\", \"x\": 17190.936638314, \"y\": 22.42988378362655, \"yshift\": 5}, {\"arrowhead\": 1, \"showarrow\": false, \"text\": \"G\", \"x\": 18826.172141354647, \"y\": 22.76057223336695, \"yshift\": 5}, {\"arrowhead\": 1, \"showarrow\": false, \"text\": \"G\", \"x\": 14723.434323440499, \"y\": 21.9329719956398, \"yshift\": 5}, {\"arrowhead\": 1, \"showarrow\": false, \"text\": \"G\", \"x\": 9961.77172903655, \"y\": 20.01130158361595, \"yshift\": 5}, {\"arrowhead\": 1, \"showarrow\": false, \"text\": \"G\", \"x\": 7376.4276683353855, \"y\": 17.89910412189165, \"yshift\": 5}, {\"arrowhead\": 1, \"showarrow\": false, \"text\": \"G\", \"x\": 13728.295813459401, \"y\": 21.59336657083825, \"yshift\": 5}, {\"arrowhead\": 1, \"showarrow\": false, \"text\": \"G\", \"x\": 17991.914330002, \"y\": 22.6697832053582, \"yshift\": 5}, {\"arrowhead\": 1, \"showarrow\": false, \"text\": \"G\", \"x\": 8967.63183465548, \"y\": 19.3569271073421, \"yshift\": 5}, {\"arrowhead\": 1, \"showarrow\": false, \"text\": \"G\", \"x\": 8966.63170647433, \"y\": 19.448044878808652, \"yshift\": 5}, {\"arrowhead\": 1, \"showarrow\": false, \"text\": \"G\", \"x\": 14379.3920613523, \"y\": 21.7755936707735, \"yshift\": 5}, {\"arrowhead\": 1, \"showarrow\": false, \"text\": \"G\", \"x\": 21068.4354122027, \"y\": 23.145669803587552, \"yshift\": 5}, {\"arrowhead\": 1, \"showarrow\": false, \"text\": \"G\", \"x\": 19477.2609394577, \"y\": 22.859601600535697, \"yshift\": 5}, {\"arrowhead\": 1, \"showarrow\": false, \"text\": \"G\", \"x\": 16011.659576652499, \"y\": 22.239445668029802, \"yshift\": 5}, {\"arrowhead\": 1, \"showarrow\": false, \"text\": \"G\", \"x\": 12773.1504752716, \"y\": 21.2537606205225, \"yshift\": 5}, {\"arrowhead\": 1, \"showarrow\": false, \"text\": \"G\", \"x\": 5741.193916242685, \"y\": 7.68857100463708, \"yshift\": 5}, {\"arrowhead\": 1, \"showarrow\": false, \"text\": \"G\", \"x\": 9312.681728746906, \"y\": 19.6219930793524, \"yshift\": 5}, {\"arrowhead\": 1, \"showarrow\": false, \"text\": \"G\", \"x\": 9311.685016191765, \"y\": 19.64684677975175, \"yshift\": 5}, {\"arrowhead\": 1, \"showarrow\": false, \"text\": \"G\", \"x\": 16701.73314608975, \"y\": 22.38021879252595, \"yshift\": 5}, {\"arrowhead\": 1, \"showarrow\": false, \"text\": \"G\", \"x\": 16356.696820640751, \"y\": 22.32227015154365, \"yshift\": 5}, {\"arrowhead\": 1, \"showarrow\": false, \"text\": \"G\", \"x\": 9511.901275827651, \"y\": 19.5060222462495, \"yshift\": 5}, {\"arrowhead\": 1, \"showarrow\": false, \"text\": \"G\", \"x\": 21413.498703626603, \"y\": 23.20355019923845, \"yshift\": 5}, {\"arrowhead\": 1, \"showarrow\": false, \"text\": \"G\", \"x\": 22064.56971215035, \"y\": 23.31911251204015, \"yshift\": 5}, {\"arrowhead\": 1, \"showarrow\": false, \"text\": \"G\", \"x\": 14378.40484416845, \"y\": 21.83357509133025, \"yshift\": 5}, {\"arrowhead\": 1, \"showarrow\": false, \"text\": \"U\", \"x\": 24108.2492988721, \"y\": 23.68188980079495, \"yshift\": 5}, {\"arrowhead\": 1, \"showarrow\": false, \"text\": \"U\", \"x\": 24388.34877372165, \"y\": 23.82566596226695, \"yshift\": 5}, {\"arrowhead\": 1, \"showarrow\": false, \"text\": \"U\", \"x\": 15885.2558643752, \"y\": 22.12348244644005, \"yshift\": 5}, {\"arrowhead\": 1, \"showarrow\": false, \"text\": \"U\", \"x\": 13017.8877080773, \"y\": 21.262043863105752, \"yshift\": 5}, {\"arrowhead\": 1, \"showarrow\": false, \"text\": \"U\", \"x\": 4089.481141774055, \"y\": 0.984322491852443, \"yshift\": 5}, {\"arrowhead\": 1, \"showarrow\": false, \"text\": \"U\", \"x\": 13628.9555874791, \"y\": 21.4774036880016, \"yshift\": 5}, {\"arrowhead\": 1, \"showarrow\": false, \"text\": \"U\", \"x\": 10592.341964620551, \"y\": 20.3260584052086, \"yshift\": 5}, {\"arrowhead\": 1, \"showarrow\": false, \"text\": \"U\", \"x\": 16191.28364524455, \"y\": 22.20631278014975, \"yshift\": 5}, {\"arrowhead\": 1, \"showarrow\": false, \"text\": \"U\", \"x\": 24402.353421466098, \"y\": 23.860623304613398, \"yshift\": 5}, {\"arrowhead\": 1, \"showarrow\": false, \"text\": \"U\", \"x\": 9637.23264227017, \"y\": 19.7793757424434, \"yshift\": 5}, {\"arrowhead\": 1, \"showarrow\": false, \"text\": \"U\", \"x\": 8031.021558408345, \"y\": 18.669428699779502, \"yshift\": 5}, {\"arrowhead\": 1, \"showarrow\": false, \"text\": \"U\", \"x\": 20131.8150184911, \"y\": 22.9738325045188, \"yshift\": 5}, {\"arrowhead\": 1, \"showarrow\": false, \"text\": \"U\", \"x\": 8337.04884268245, \"y\": 18.92620325840315, \"yshift\": 5}, {\"arrowhead\": 1, \"showarrow\": false, \"text\": \"U\", \"x\": 5069.61015335846, \"y\": 1.289796979792915, \"yshift\": 5}, {\"arrowhead\": 1, \"showarrow\": false, \"text\": \"U\", \"x\": 8030.01455393266, \"y\": 18.7356931503296, \"yshift\": 5}, {\"arrowhead\": 1, \"showarrow\": false, \"text\": \"U\", \"x\": 10898.37628477725, \"y\": 20.4917191630284, \"yshift\": 5}, {\"arrowhead\": 1, \"showarrow\": false, \"text\": \"U\", \"x\": 11509.45406289005, \"y\": 20.7567769999981, \"yshift\": 5}, {\"arrowhead\": 1, \"showarrow\": false, \"text\": \"U\", \"x\": 8336.039454873771, \"y\": 18.984185162750897, \"yshift\": 5}, {\"arrowhead\": 1, \"showarrow\": false, \"text\": \"U\", \"x\": 11203.41158668355, \"y\": 20.599398676125247, \"yshift\": 5}, {\"arrowhead\": 1, \"showarrow\": false, \"text\": \"U\", \"x\": 19151.72163364385, \"y\": 22.8100471631368, \"yshift\": 5}, {\"arrowhead\": 1, \"showarrow\": false, \"text\": \"U\", \"x\": 11204.41118367745, \"y\": 20.61596507883865, \"yshift\": 5}, {\"arrowhead\": 1, \"showarrow\": false, \"text\": \"U\", \"x\": 14053.8449162806, \"y\": 21.68448000805375, \"yshift\": 5}, {\"arrowhead\": 1, \"showarrow\": false, \"text\": \"U\", \"x\": 24123.229282697903, \"y\": 23.7138601338545, \"yshift\": 5}, {\"arrowhead\": 1, \"showarrow\": false, \"text\": \"U\", \"x\": 18952.542746922853, \"y\": 22.8759726013422, \"yshift\": 5}, {\"arrowhead\": 1, \"showarrow\": false, \"text\": \"U\", \"x\": 8642.08119319832, \"y\": 19.15812972443105, \"yshift\": 5}, {\"arrowhead\": 1, \"showarrow\": false, \"text\": \"U\", \"x\": 15899.26961542005, \"y\": 22.1731807833592, \"yshift\": 5}, {\"arrowhead\": 1, \"showarrow\": false, \"text\": \"U\", \"x\": 13098.6976295602, \"y\": 21.39457272049585, \"yshift\": 5}, {\"arrowhead\": 1, \"showarrow\": false, \"text\": \"U\", \"x\": 20742.9031137663, \"y\": 23.087942837246253, \"yshift\": 5}, {\"arrowhead\": 1, \"showarrow\": false, \"text\": \"U\", \"x\": 12143.560541802399, \"y\": 21.046684104768453, \"yshift\": 5}, {\"arrowhead\": 1, \"showarrow\": false, \"text\": \"U\", \"x\": 10575.33708299415, \"y\": 20.1935284957965, \"yshift\": 5}, {\"arrowhead\": 1, \"showarrow\": false, \"text\": \"U\", \"x\": 13031.892444252, \"y\": 21.29517612911065, \"yshift\": 5}, {\"arrowhead\": 1, \"showarrow\": false, \"text\": \"U\", \"x\": 21739.0364555879, \"y\": 23.25306822018625, \"yshift\": 5}, {\"arrowhead\": 1, \"showarrow\": false, \"text\": \"mG\", \"x\": 9504.899973435855, \"y\": 19.448040584294, \"yshift\": 5}, {\"arrowhead\": 1, \"showarrow\": false, \"text\": \"mG\", \"x\": 14916.6357794546, \"y\": 21.8749903336843, \"yshift\": 5}, {\"arrowhead\": 1, \"showarrow\": false, \"text\": \"mG\", \"x\": 11455.1572810948, \"y\": 20.5745495334943, \"yshift\": 5}, {\"arrowhead\": 1, \"showarrow\": false, \"text\": \"D\", \"x\": 24108.22501611065, \"y\": 23.6846484964768, \"yshift\": 5}, {\"arrowhead\": 1, \"showarrow\": false, \"text\": \"D\", \"x\": 24387.3676287759, \"y\": 23.88562430497805, \"yshift\": 5}, {\"arrowhead\": 1, \"showarrow\": false, \"text\": \"D\", \"x\": 17846.53286441585, \"y\": 22.59544009225365, \"yshift\": 5}, {\"arrowhead\": 1, \"showarrow\": false, \"text\": \"D\", \"x\": 18154.5792176642, \"y\": 22.62850914653935, \"yshift\": 5}, {\"arrowhead\": 1, \"showarrow\": false, \"text\": \"D\", \"x\": 24401.35591758325, \"y\": 23.8695015793721, \"yshift\": 5}, {\"arrowhead\": 1, \"showarrow\": false, \"text\": \"D\", \"x\": 6374.78091968065, \"y\": 16.1099617208719, \"yshift\": 5}, {\"arrowhead\": 1, \"showarrow\": false, \"text\": \"D\", \"x\": 24373.340642814852, \"y\": 23.796926608252548, \"yshift\": 5}, {\"arrowhead\": 1, \"showarrow\": false, \"text\": \"D\", \"x\": 6066.73750564607, \"y\": 15.1077112084309, \"yshift\": 5}, {\"arrowhead\": 1, \"showarrow\": false, \"text\": \"mC\", \"x\": 8541.73815399002, \"y\": 18.53689939138095, \"yshift\": 5}, {\"arrowhead\": 1, \"showarrow\": false, \"text\": \"mC\", \"x\": 8860.79761304671, \"y\": 18.9759017502944, \"yshift\": 5}, {\"arrowhead\": 1, \"showarrow\": false, \"text\": \"mC\", \"x\": 24395.861191645847, \"y\": 23.81977469679515, \"yshift\": 5}, {\"arrowhead\": 1, \"showarrow\": false, \"text\": \"mC\", \"x\": 15360.5423839845, \"y\": 22.07378393766085, \"yshift\": 5}, {\"arrowhead\": 1, \"showarrow\": false, \"text\": \"mC\", \"x\": 15679.60392671605, \"y\": 22.148331908949203, \"yshift\": 5}, {\"arrowhead\": 1, \"showarrow\": false, \"text\": \"mC\", \"x\": 24114.734480243453, \"y\": 23.7107877538284, \"yshift\": 5}, {\"arrowhead\": 1, \"showarrow\": false, \"text\": \"mC\", \"x\": 13330.42749534815, \"y\": 21.3945729827563, \"yshift\": 5}, {\"arrowhead\": 1, \"showarrow\": false, \"text\": \"mC\", \"x\": 9179.84666925592, \"y\": 19.3237907544454, \"yshift\": 5}, {\"arrowhead\": 1, \"showarrow\": false, \"text\": \"mC\", \"x\": 15586.730207987, \"y\": 22.073783958522448, \"yshift\": 5}, {\"arrowhead\": 1, \"showarrow\": false, \"text\": \"mC\", \"x\": 8940.770282944095, \"y\": 19.24924292521475, \"yshift\": 5}, {\"arrowhead\": 1, \"showarrow\": false, \"text\": \"mC\", \"x\": 12719.3569640063, \"y\": 21.19577932513555, \"yshift\": 5}, {\"arrowhead\": 1, \"showarrow\": false, \"text\": \"mC\", \"x\": 13941.5051032273, \"y\": 21.60993276195525, \"yshift\": 5}, {\"arrowhead\": 1, \"showarrow\": false, \"text\": \"mC\", \"x\": 11780.17039411035, \"y\": 20.74021093405085, \"yshift\": 5}, {\"arrowhead\": 1, \"showarrow\": false, \"text\": \"mU\", \"x\": 24395.34951377475, \"y\": 23.8486726498286, \"yshift\": 5}, {\"arrowhead\": 1, \"showarrow\": false, \"text\": \"mU\", \"x\": 24115.240112343352, \"y\": 23.7316166833719, \"yshift\": 5}, {\"arrowhead\": 1, \"showarrow\": false, \"text\": \"mU\", \"x\": 24396.3594317369, \"y\": 23.7967680092335, \"yshift\": 5}, {\"arrowhead\": 1, \"showarrow\": false, \"text\": \"mU\", \"x\": 24114.21516390315, \"y\": 23.672697841692, \"yshift\": 5}, {\"arrowhead\": 1, \"showarrow\": false, \"text\": \"mU\", \"x\": 15892.2625629908, \"y\": 22.1483318413973, \"yshift\": 5}, {\"arrowhead\": 1, \"showarrow\": false, \"text\": \"mU\", \"x\": 13024.8917828066, \"y\": 21.270326654680552, \"yshift\": 5}, {\"arrowhead\": 1, \"showarrow\": false, \"text\": \"mA\", \"x\": 12402.30604187165, \"y\": 21.04668418722155, \"yshift\": 5}, {\"arrowhead\": 1, \"showarrow\": false, \"text\": \"mA\", \"x\": 19822.29377620225, \"y\": 22.9327642515977, \"yshift\": 5}, {\"arrowhead\": 1, \"showarrow\": false, \"text\": \"mA\", \"x\": 16515.83052784045, \"y\": 22.330526133942598, \"yshift\": 5}], \"template\": {\"data\": {\"bar\": [{\"error_x\": {\"color\": \"#2a3f5f\"}, \"error_y\": {\"color\": \"#2a3f5f\"}, \"marker\": {\"line\": {\"color\": \"#E5ECF6\", \"width\": 0.5}}, \"type\": \"bar\"}], \"barpolar\": [{\"marker\": {\"line\": {\"color\": \"#E5ECF6\", \"width\": 0.5}}, \"type\": \"barpolar\"}], \"carpet\": [{\"aaxis\": {\"endlinecolor\": \"#2a3f5f\", \"gridcolor\": \"white\", \"linecolor\": \"white\", \"minorgridcolor\": \"white\", \"startlinecolor\": \"#2a3f5f\"}, \"baxis\": {\"endlinecolor\": \"#2a3f5f\", \"gridcolor\": \"white\", \"linecolor\": \"white\", \"minorgridcolor\": \"white\", \"startlinecolor\": \"#2a3f5f\"}, \"type\": \"carpet\"}], \"choropleth\": [{\"colorbar\": {\"outlinewidth\": 0, \"ticks\": \"\"}, \"type\": \"choropleth\"}], \"contour\": [{\"colorbar\": {\"outlinewidth\": 0, \"ticks\": \"\"}, \"colorscale\": [[0.0, \"#0d0887\"], [0.1111111111111111, \"#46039f\"], [0.2222222222222222, \"#7201a8\"], [0.3333333333333333, \"#9c179e\"], [0.4444444444444444, \"#bd3786\"], [0.5555555555555556, \"#d8576b\"], [0.6666666666666666, \"#ed7953\"], [0.7777777777777778, \"#fb9f3a\"], [0.8888888888888888, \"#fdca26\"], [1.0, \"#f0f921\"]], \"type\": \"contour\"}], \"contourcarpet\": [{\"colorbar\": {\"outlinewidth\": 0, \"ticks\": \"\"}, \"type\": \"contourcarpet\"}], \"heatmap\": [{\"colorbar\": {\"outlinewidth\": 0, \"ticks\": \"\"}, \"colorscale\": [[0.0, \"#0d0887\"], [0.1111111111111111, \"#46039f\"], [0.2222222222222222, \"#7201a8\"], [0.3333333333333333, \"#9c179e\"], [0.4444444444444444, \"#bd3786\"], [0.5555555555555556, \"#d8576b\"], [0.6666666666666666, \"#ed7953\"], [0.7777777777777778, \"#fb9f3a\"], [0.8888888888888888, \"#fdca26\"], [1.0, \"#f0f921\"]], \"type\": \"heatmap\"}], \"heatmapgl\": [{\"colorbar\": {\"outlinewidth\": 0, \"ticks\": \"\"}, \"colorscale\": [[0.0, \"#0d0887\"], [0.1111111111111111, \"#46039f\"], [0.2222222222222222, \"#7201a8\"], [0.3333333333333333, \"#9c179e\"], [0.4444444444444444, \"#bd3786\"], [0.5555555555555556, \"#d8576b\"], [0.6666666666666666, \"#ed7953\"], [0.7777777777777778, \"#fb9f3a\"], [0.8888888888888888, \"#fdca26\"], [1.0, \"#f0f921\"]], \"type\": \"heatmapgl\"}], \"histogram\": [{\"marker\": {\"colorbar\": {\"outlinewidth\": 0, \"ticks\": \"\"}}, \"type\": \"histogram\"}], \"histogram2d\": [{\"colorbar\": {\"outlinewidth\": 0, \"ticks\": \"\"}, \"colorscale\": [[0.0, \"#0d0887\"], [0.1111111111111111, \"#46039f\"], [0.2222222222222222, \"#7201a8\"], [0.3333333333333333, \"#9c179e\"], [0.4444444444444444, \"#bd3786\"], [0.5555555555555556, \"#d8576b\"], [0.6666666666666666, \"#ed7953\"], [0.7777777777777778, \"#fb9f3a\"], [0.8888888888888888, \"#fdca26\"], [1.0, \"#f0f921\"]], \"type\": \"histogram2d\"}], \"histogram2dcontour\": [{\"colorbar\": {\"outlinewidth\": 0, \"ticks\": \"\"}, \"colorscale\": [[0.0, \"#0d0887\"], [0.1111111111111111, \"#46039f\"], [0.2222222222222222, \"#7201a8\"], [0.3333333333333333, \"#9c179e\"], [0.4444444444444444, \"#bd3786\"], [0.5555555555555556, \"#d8576b\"], [0.6666666666666666, \"#ed7953\"], [0.7777777777777778, \"#fb9f3a\"], [0.8888888888888888, \"#fdca26\"], [1.0, \"#f0f921\"]], \"type\": \"histogram2dcontour\"}], \"mesh3d\": [{\"colorbar\": {\"outlinewidth\": 0, \"ticks\": \"\"}, \"type\": \"mesh3d\"}], \"parcoords\": [{\"line\": {\"colorbar\": {\"outlinewidth\": 0, \"ticks\": \"\"}}, \"type\": \"parcoords\"}], \"pie\": [{\"automargin\": true, \"type\": \"pie\"}], \"scatter\": [{\"marker\": {\"colorbar\": {\"outlinewidth\": 0, \"ticks\": \"\"}}, \"type\": \"scatter\"}], \"scatter3d\": [{\"line\": {\"colorbar\": {\"outlinewidth\": 0, \"ticks\": \"\"}}, \"marker\": {\"colorbar\": {\"outlinewidth\": 0, \"ticks\": \"\"}}, \"type\": \"scatter3d\"}], \"scattercarpet\": [{\"marker\": {\"colorbar\": {\"outlinewidth\": 0, \"ticks\": \"\"}}, \"type\": \"scattercarpet\"}], \"scattergeo\": [{\"marker\": {\"colorbar\": {\"outlinewidth\": 0, \"ticks\": \"\"}}, \"type\": \"scattergeo\"}], \"scattergl\": [{\"marker\": {\"colorbar\": {\"outlinewidth\": 0, \"ticks\": \"\"}}, \"type\": \"scattergl\"}], \"scattermapbox\": [{\"marker\": {\"colorbar\": {\"outlinewidth\": 0, \"ticks\": \"\"}}, \"type\": \"scattermapbox\"}], \"scatterpolar\": [{\"marker\": {\"colorbar\": {\"outlinewidth\": 0, \"ticks\": \"\"}}, \"type\": \"scatterpolar\"}], \"scatterpolargl\": [{\"marker\": {\"colorbar\": {\"outlinewidth\": 0, \"ticks\": \"\"}}, \"type\": \"scatterpolargl\"}], \"scatterternary\": [{\"marker\": {\"colorbar\": {\"outlinewidth\": 0, \"ticks\": \"\"}}, \"type\": \"scatterternary\"}], \"surface\": [{\"colorbar\": {\"outlinewidth\": 0, \"ticks\": \"\"}, \"colorscale\": [[0.0, \"#0d0887\"], [0.1111111111111111, \"#46039f\"], [0.2222222222222222, \"#7201a8\"], [0.3333333333333333, \"#9c179e\"], [0.4444444444444444, \"#bd3786\"], [0.5555555555555556, \"#d8576b\"], [0.6666666666666666, \"#ed7953\"], [0.7777777777777778, \"#fb9f3a\"], [0.8888888888888888, \"#fdca26\"], [1.0, \"#f0f921\"]], \"type\": \"surface\"}], \"table\": [{\"cells\": {\"fill\": {\"color\": \"#EBF0F8\"}, \"line\": {\"color\": \"white\"}}, \"header\": {\"fill\": {\"color\": \"#C8D4E3\"}, \"line\": {\"color\": \"white\"}}, \"type\": \"table\"}]}, \"layout\": {\"annotationdefaults\": {\"arrowcolor\": \"#2a3f5f\", \"arrowhead\": 0, \"arrowwidth\": 1}, \"autotypenumbers\": \"strict\", \"coloraxis\": {\"colorbar\": {\"outlinewidth\": 0, \"ticks\": \"\"}}, \"colorscale\": {\"diverging\": [[0, \"#8e0152\"], [0.1, \"#c51b7d\"], [0.2, \"#de77ae\"], [0.3, \"#f1b6da\"], [0.4, \"#fde0ef\"], [0.5, \"#f7f7f7\"], [0.6, \"#e6f5d0\"], [0.7, \"#b8e186\"], [0.8, \"#7fbc41\"], [0.9, \"#4d9221\"], [1, \"#276419\"]], \"sequential\": [[0.0, \"#0d0887\"], [0.1111111111111111, \"#46039f\"], [0.2222222222222222, \"#7201a8\"], [0.3333333333333333, \"#9c179e\"], [0.4444444444444444, \"#bd3786\"], [0.5555555555555556, \"#d8576b\"], [0.6666666666666666, \"#ed7953\"], [0.7777777777777778, \"#fb9f3a\"], [0.8888888888888888, \"#fdca26\"], [1.0, \"#f0f921\"]], \"sequentialminus\": [[0.0, \"#0d0887\"], [0.1111111111111111, \"#46039f\"], [0.2222222222222222, \"#7201a8\"], [0.3333333333333333, \"#9c179e\"], [0.4444444444444444, \"#bd3786\"], [0.5555555555555556, \"#d8576b\"], [0.6666666666666666, \"#ed7953\"], [0.7777777777777778, \"#fb9f3a\"], [0.8888888888888888, \"#fdca26\"], [1.0, \"#f0f921\"]]}, \"colorway\": [\"#636efa\", \"#EF553B\", \"#00cc96\", \"#ab63fa\", \"#FFA15A\", \"#19d3f3\", \"#FF6692\", \"#B6E880\", \"#FF97FF\", \"#FECB52\"], \"font\": {\"color\": \"#2a3f5f\"}, \"geo\": {\"bgcolor\": \"white\", \"lakecolor\": \"white\", \"landcolor\": \"#E5ECF6\", \"showlakes\": true, \"showland\": true, \"subunitcolor\": \"white\"}, \"hoverlabel\": {\"align\": \"left\"}, \"hovermode\": \"closest\", \"mapbox\": {\"style\": \"light\"}, \"paper_bgcolor\": \"white\", \"plot_bgcolor\": \"#E5ECF6\", \"polar\": {\"angularaxis\": {\"gridcolor\": \"white\", \"linecolor\": \"white\", \"ticks\": \"\"}, \"bgcolor\": \"#E5ECF6\", \"radialaxis\": {\"gridcolor\": \"white\", \"linecolor\": \"white\", \"ticks\": \"\"}}, \"scene\": {\"xaxis\": {\"backgroundcolor\": \"#E5ECF6\", \"gridcolor\": \"white\", \"gridwidth\": 2, \"linecolor\": \"white\", \"showbackground\": true, \"ticks\": \"\", \"zerolinecolor\": \"white\"}, \"yaxis\": {\"backgroundcolor\": \"#E5ECF6\", \"gridcolor\": \"white\", \"gridwidth\": 2, \"linecolor\": \"white\", \"showbackground\": true, \"ticks\": \"\", \"zerolinecolor\": \"white\"}, \"zaxis\": {\"backgroundcolor\": \"#E5ECF6\", \"gridcolor\": \"white\", \"gridwidth\": 2, \"linecolor\": \"white\", \"showbackground\": true, \"ticks\": \"\", \"zerolinecolor\": \"white\"}}, \"shapedefaults\": {\"line\": {\"color\": \"#2a3f5f\"}}, \"ternary\": {\"aaxis\": {\"gridcolor\": \"white\", \"linecolor\": \"white\", \"ticks\": \"\"}, \"baxis\": {\"gridcolor\": \"white\", \"linecolor\": \"white\", \"ticks\": \"\"}, \"bgcolor\": \"#E5ECF6\", \"caxis\": {\"gridcolor\": \"white\", \"linecolor\": \"white\", \"ticks\": \"\"}}, \"title\": {\"x\": 0.05}, \"xaxis\": {\"automargin\": true, \"gridcolor\": \"white\", \"linecolor\": \"white\", \"ticks\": \"\", \"title\": {\"standoff\": 15}, \"zerolinecolor\": \"white\", \"zerolinewidth\": 2}, \"yaxis\": {\"automargin\": true, \"gridcolor\": \"white\", \"linecolor\": \"white\", \"ticks\": \"\", \"title\": {\"standoff\": 15}, \"zerolinecolor\": \"white\", \"zerolinewidth\": 2}}}},                        {\"responsive\": true}                    ).then(function(){\n",
       "                            \n",
       "var gd = document.getElementById('97564b9d-93d5-43df-b9d7-32bdfc25d96a');\n",
       "var x = new MutationObserver(function (mutations, observer) {{\n",
       "        var display = window.getComputedStyle(gd).display;\n",
       "        if (!display || display === 'none') {{\n",
       "            console.log([gd, 'removed!']);\n",
       "            Plotly.purge(gd);\n",
       "            observer.disconnect();\n",
       "        }}\n",
       "}});\n",
       "\n",
       "// Listen for the removal of the full notebook cells\n",
       "var notebookContainer = gd.closest('#notebook-container');\n",
       "if (notebookContainer) {{\n",
       "    x.observe(notebookContainer, {childList: true});\n",
       "}}\n",
       "\n",
       "// Listen for the clearing of the current output cell\n",
       "var outputEl = gd.closest('.output');\n",
       "if (outputEl) {{\n",
       "    x.observe(outputEl, {childList: true});\n",
       "}}\n",
       "\n",
       "                        })                };                });            </script>        </div>"
      ]
     },
     "metadata": {},
     "output_type": "display_data"
    }
   ],
   "source": [
    "dfx = pd.read_excel('/Users/bryan/Documents/Data/UC/UC_glu_6_merge.xlsx')\n",
    "# dfx = pd.read_excel('/Users/bryan/Documents/ChenLab/10Jun2021/degraded/DrChen_tRNA_A_Glu_FA_17.xlsx')\n",
    "dfx = thermo_df(dfx)\n",
    "dfa_alkb = load_uc_glu(2)\n",
    "print(dfa_alkb[dfa_alkb.Mass>24000].sort_values('Vol', ascending=False).iloc[:5])\n",
    "# dfx = load_uc2(18)\n",
    "plotly_zone(dfx[dfx.Mass>24000], y='Vol')\n",
    "dfx_top = dfx[dfx.Mass>2000].sort_values('Vol', ascending=False).iloc[:200]\n",
    "bcr = base_calling_random(dfx_top)\n",
    "plotly_basecalling(*bcr, annotate=False)"
   ]
  },
  {
   "cell_type": "code",
   "execution_count": 364,
   "id": "bearing-festival",
   "metadata": {},
   "outputs": [
    {
     "data": {
      "text/plain": [
       "(6526, 5)"
      ]
     },
     "execution_count": 364,
     "metadata": {},
     "output_type": "execute_result"
    }
   ],
   "source": [
    "df0 = pd.read_excel('/Users/bryan/Documents/Data/UC/UC_glu_5_merge.xlsx')\n",
    "df0 = thermo_df(df0)\n",
    "df1 = load_uc2(17)\n",
    "# df1 = thermo_df(df1)\n",
    "\n",
    "df2 = pd.read_excel('/Users/bryan/Documents/ChenLab/10Jun2021/degraded/DrChen_tRNA_A_Glu_FA_17.xlsx')\n",
    "# dfab_ad_alkb = pd.concat([df0_alkb, df2_alkb]).drop_duplicates(subset=['Mass'])\n",
    "df2 = thermo_df(df2)\n",
    "df2.shape\n",
    "\n",
    "df0_alkb = pd.read_excel('/Users/bryan/Documents/Data/UC/UC_glu_6_merge.xlsx')\n",
    "df0_alkb = thermo_df(df0_alkb)\n",
    "\n",
    "df2_alkb = load_uc2(18)\n",
    "dfab_ad_alkb = pd.concat([df0_alkb, df2_alkb]).drop_duplicates(subset=['Mass'])\n",
    "dfab_ad_alkb.shape"
   ]
  },
  {
   "cell_type": "code",
   "execution_count": null,
   "id": "laughing-delight",
   "metadata": {},
   "outputs": [],
   "source": []
  },
  {
   "cell_type": "code",
   "execution_count": 461,
   "id": "eligible-mineral",
   "metadata": {},
   "outputs": [],
   "source": [
    "df_217_3p_6mG = pd.read_excel('/Users/bryan/Studio/tools/glu_24217_3p_6mG.xlsx')\n",
    "df_217_5p_6mG = pd.read_excel('/Users/bryan/Studio/tools/glu_24217_5p_6mG.xlsx')\n",
    "df_218_3p = pd.read_excel('/Users/bryan/Studio/tools/glu_24218_3p.xlsx')\n",
    "df_218_5p = pd.read_excel('/Users/bryan/Studio/tools/glu_24218_5p.xlsx')\n",
    "df_203_3p_6mG = pd.read_excel('/Users/bryan/Studio/tools/glu_24203_3p_6mG.xlsx')\n",
    "df_203_5p_6mG = pd.read_excel('/Users/bryan/Studio/tools/glu_24203_5p_6mG.xlsx')\n",
    "df_203_3p = pd.read_excel('/Users/bryan/Studio/tools/glu_24203_3p.xlsx')\n",
    "df_203_5p = pd.read_excel('/Users/bryan/Studio/tools/glu_24203_5p.xlsx')\n",
    "df_232_3p = pd.read_excel('/Users/bryan/Studio/tools/glu_24232_3p.xlsx')\n",
    "df_232_5p = pd.read_excel('/Users/bryan/Studio/tools/glu_24232_5p.xlsx')\n",
    "df_204_3p = pd.read_excel('/Users/bryan/Studio/tools/glu_24204_3p_67U.xlsx')\n",
    "df_204_5p = pd.read_excel('/Users/bryan/Studio/tools/glu_24204_5p_67U.xlsx')\n",
    "df_189_3p = pd.read_excel('/Users/bryan/Studio/tools/glu_24189_3p.xlsx')\n",
    "df_189_5p = pd.read_excel('/Users/bryan/Studio/tools/glu_24189_5p.xlsx')"
   ]
  },
  {
   "cell_type": "code",
   "execution_count": 508,
   "id": "documented-financing",
   "metadata": {},
   "outputs": [
    {
     "data": {
      "application/vnd.plotly.v1+json": {
       "config": {
        "plotlyServerURL": "https://plot.ly"
       },
       "data": [
        {
         "hovertemplate": "type=ladder_1<br>Mass=%{x}<br>Vol=%{y}<extra></extra>",
         "legendgroup": "ladder_1",
         "marker": {
          "color": "#636efa",
          "symbol": "circle"
         },
         "mode": "markers",
         "name": "ladder_1",
         "orientation": "v",
         "showlegend": true,
         "type": "scatter",
         "x": [
          24203.2846934834,
          4242.49504398641,
          7547.94912425451,
          4916.5979595981,
          6857.8561983642,
          10439.3260577578,
          10745.3578714833,
          8794.09537060277,
          7202.90669181442,
          4571.53912822689,
          17514.3562047957,
          15201.0095981808,
          5222.62234711882,
          14895.9528055614,
          8183.02343505106,
          17819.3790325983,
          6528.80370660363,
          10134.2953728731,
          15520.0751697882,
          11661.4715330193,
          13900.8204765651,
          8489.05547469648,
          11356.4298315365,
          11990.5258433114,
          18164.4496274057,
          12600.6170093243,
          7877.00567281426,
          13555.7711503537,
          9139.16804234589,
          23954.1779926616,
          12295.5814748975,
          16184.1864696611,
          12945.6839412189,
          15839.1326836439,
          11050.3933418306,
          20020.6954021558,
          18799.5275336785,
          19105.5579601672,
          9484.20199003764,
          3936.4672395617,
          16874.2591205591,
          14205.8938470173,
          9789.2480852,
          6220.75813275767,
          5912.71687853447,
          16529.2071716204,
          13250.716859999,
          21321.8368850377,
          14550.9158413196,
          19410.5905082462,
          19715.6350106554,
          20365.7271713825,
          21016.7936504431,
          3631.42548213504,
          21650.9134935724,
          21995.9902986618,
          1625.15999156332,
          5912.71565194894,
          4242.49137976193,
          20710.8059358938,
          18493.4772504122
         ],
         "xaxis": "x",
         "y": [
          2241677.63,
          108917.9,
          96946.6,
          89171.83,
          88446.84,
          86659.33,
          84274.44,
          80566.75,
          79538.39,
          76635.54,
          70349.83,
          69654.23,
          66092.36,
          61336.74,
          58735.97,
          57655.39,
          56939.12,
          54746.06,
          53442.17,
          53181.7,
          52185.21,
          51362.38,
          50989.9,
          50919.38,
          50379.41,
          48871.42,
          48832.88,
          46914.31,
          43702.35,
          40172.34,
          39989.9,
          37164.05,
          37092.71,
          36717.27,
          36315.78,
          33996.68,
          32490.69,
          31190.43,
          30511.24,
          28374.69,
          27745.72,
          26856.58,
          26713.3,
          26602.17,
          25690.86,
          25213.53,
          21987.63,
          21273.89,
          18782.19,
          17234,
          16723.52,
          15528.7,
          14228.91,
          13693.51,
          9638.15,
          4470.31,
          3677.04,
          3498.57,
          1593.63,
          3629.82,
          3940.32
         ],
         "yaxis": "y"
        },
        {
         "hovertemplate": "type=ladder_2<br>Mass=%{x}<br>Vol=%{y}<extra></extra>",
         "legendgroup": "ladder_2",
         "marker": {
          "color": "#EF553B",
          "symbol": "circle"
         },
         "mode": "markers",
         "name": "ladder_2",
         "orientation": "v",
         "showlegend": true,
         "type": "scatter",
         "x": [
          24189.2775336598,
          5553.66576795458,
          19091.5461867903,
          8475.04567331345
         ],
         "xaxis": "x",
         "y": [
          364195.37,
          3078.63,
          2197.63,
          1756.84
         ],
         "yaxis": "y"
        },
        {
         "hovertemplate": "type=ladder_3<br>Mass=%{x}<br>Vol=%{y}<extra></extra>",
         "legendgroup": "ladder_3",
         "marker": {
          "color": "#00cc96",
          "symbol": "circle"
         },
         "mode": "markers",
         "name": "ladder_3",
         "orientation": "v",
         "showlegend": true,
         "type": "scatter",
         "x": [
          19729.6266179002,
          19424.598192326,
          15215.0075815104,
          18813.5277810817,
          20379.7305018896,
          13569.7894911415,
          14564.9568990649,
          8503.07401411278,
          20034.705180908,
          6542.81981320489,
          9803.26579602235,
          8808.1198352822,
          7891.02486067562,
          7216.91951649197,
          22355.0108654483,
          16198.1816118458,
          23968.1969271315,
          21030.812067292,
          19119.5965725987,
          16888.2672555759
         ],
         "xaxis": "x",
         "y": [
          12153.76,
          6197.58,
          3920.64,
          3882.86,
          3699.79,
          3697.26,
          2106.79,
          1970.2,
          1550.86,
          1462.11,
          1392.28,
          1243.29,
          1198.01,
          870.06,
          644.31,
          627.48,
          4533.59,
          1979.3,
          2708.92,
          1707.25
         ],
         "yaxis": "y"
        }
       ],
       "layout": {
        "legend": {
         "title": {
          "text": "type"
         },
         "tracegroupgap": 0
        },
        "margin": {
         "t": 60
        },
        "template": {
         "data": {
          "bar": [
           {
            "error_x": {
             "color": "#2a3f5f"
            },
            "error_y": {
             "color": "#2a3f5f"
            },
            "marker": {
             "line": {
              "color": "#E5ECF6",
              "width": 0.5
             }
            },
            "type": "bar"
           }
          ],
          "barpolar": [
           {
            "marker": {
             "line": {
              "color": "#E5ECF6",
              "width": 0.5
             }
            },
            "type": "barpolar"
           }
          ],
          "carpet": [
           {
            "aaxis": {
             "endlinecolor": "#2a3f5f",
             "gridcolor": "white",
             "linecolor": "white",
             "minorgridcolor": "white",
             "startlinecolor": "#2a3f5f"
            },
            "baxis": {
             "endlinecolor": "#2a3f5f",
             "gridcolor": "white",
             "linecolor": "white",
             "minorgridcolor": "white",
             "startlinecolor": "#2a3f5f"
            },
            "type": "carpet"
           }
          ],
          "choropleth": [
           {
            "colorbar": {
             "outlinewidth": 0,
             "ticks": ""
            },
            "type": "choropleth"
           }
          ],
          "contour": [
           {
            "colorbar": {
             "outlinewidth": 0,
             "ticks": ""
            },
            "colorscale": [
             [
              0,
              "#0d0887"
             ],
             [
              0.1111111111111111,
              "#46039f"
             ],
             [
              0.2222222222222222,
              "#7201a8"
             ],
             [
              0.3333333333333333,
              "#9c179e"
             ],
             [
              0.4444444444444444,
              "#bd3786"
             ],
             [
              0.5555555555555556,
              "#d8576b"
             ],
             [
              0.6666666666666666,
              "#ed7953"
             ],
             [
              0.7777777777777778,
              "#fb9f3a"
             ],
             [
              0.8888888888888888,
              "#fdca26"
             ],
             [
              1,
              "#f0f921"
             ]
            ],
            "type": "contour"
           }
          ],
          "contourcarpet": [
           {
            "colorbar": {
             "outlinewidth": 0,
             "ticks": ""
            },
            "type": "contourcarpet"
           }
          ],
          "heatmap": [
           {
            "colorbar": {
             "outlinewidth": 0,
             "ticks": ""
            },
            "colorscale": [
             [
              0,
              "#0d0887"
             ],
             [
              0.1111111111111111,
              "#46039f"
             ],
             [
              0.2222222222222222,
              "#7201a8"
             ],
             [
              0.3333333333333333,
              "#9c179e"
             ],
             [
              0.4444444444444444,
              "#bd3786"
             ],
             [
              0.5555555555555556,
              "#d8576b"
             ],
             [
              0.6666666666666666,
              "#ed7953"
             ],
             [
              0.7777777777777778,
              "#fb9f3a"
             ],
             [
              0.8888888888888888,
              "#fdca26"
             ],
             [
              1,
              "#f0f921"
             ]
            ],
            "type": "heatmap"
           }
          ],
          "heatmapgl": [
           {
            "colorbar": {
             "outlinewidth": 0,
             "ticks": ""
            },
            "colorscale": [
             [
              0,
              "#0d0887"
             ],
             [
              0.1111111111111111,
              "#46039f"
             ],
             [
              0.2222222222222222,
              "#7201a8"
             ],
             [
              0.3333333333333333,
              "#9c179e"
             ],
             [
              0.4444444444444444,
              "#bd3786"
             ],
             [
              0.5555555555555556,
              "#d8576b"
             ],
             [
              0.6666666666666666,
              "#ed7953"
             ],
             [
              0.7777777777777778,
              "#fb9f3a"
             ],
             [
              0.8888888888888888,
              "#fdca26"
             ],
             [
              1,
              "#f0f921"
             ]
            ],
            "type": "heatmapgl"
           }
          ],
          "histogram": [
           {
            "marker": {
             "colorbar": {
              "outlinewidth": 0,
              "ticks": ""
             }
            },
            "type": "histogram"
           }
          ],
          "histogram2d": [
           {
            "colorbar": {
             "outlinewidth": 0,
             "ticks": ""
            },
            "colorscale": [
             [
              0,
              "#0d0887"
             ],
             [
              0.1111111111111111,
              "#46039f"
             ],
             [
              0.2222222222222222,
              "#7201a8"
             ],
             [
              0.3333333333333333,
              "#9c179e"
             ],
             [
              0.4444444444444444,
              "#bd3786"
             ],
             [
              0.5555555555555556,
              "#d8576b"
             ],
             [
              0.6666666666666666,
              "#ed7953"
             ],
             [
              0.7777777777777778,
              "#fb9f3a"
             ],
             [
              0.8888888888888888,
              "#fdca26"
             ],
             [
              1,
              "#f0f921"
             ]
            ],
            "type": "histogram2d"
           }
          ],
          "histogram2dcontour": [
           {
            "colorbar": {
             "outlinewidth": 0,
             "ticks": ""
            },
            "colorscale": [
             [
              0,
              "#0d0887"
             ],
             [
              0.1111111111111111,
              "#46039f"
             ],
             [
              0.2222222222222222,
              "#7201a8"
             ],
             [
              0.3333333333333333,
              "#9c179e"
             ],
             [
              0.4444444444444444,
              "#bd3786"
             ],
             [
              0.5555555555555556,
              "#d8576b"
             ],
             [
              0.6666666666666666,
              "#ed7953"
             ],
             [
              0.7777777777777778,
              "#fb9f3a"
             ],
             [
              0.8888888888888888,
              "#fdca26"
             ],
             [
              1,
              "#f0f921"
             ]
            ],
            "type": "histogram2dcontour"
           }
          ],
          "mesh3d": [
           {
            "colorbar": {
             "outlinewidth": 0,
             "ticks": ""
            },
            "type": "mesh3d"
           }
          ],
          "parcoords": [
           {
            "line": {
             "colorbar": {
              "outlinewidth": 0,
              "ticks": ""
             }
            },
            "type": "parcoords"
           }
          ],
          "pie": [
           {
            "automargin": true,
            "type": "pie"
           }
          ],
          "scatter": [
           {
            "marker": {
             "colorbar": {
              "outlinewidth": 0,
              "ticks": ""
             }
            },
            "type": "scatter"
           }
          ],
          "scatter3d": [
           {
            "line": {
             "colorbar": {
              "outlinewidth": 0,
              "ticks": ""
             }
            },
            "marker": {
             "colorbar": {
              "outlinewidth": 0,
              "ticks": ""
             }
            },
            "type": "scatter3d"
           }
          ],
          "scattercarpet": [
           {
            "marker": {
             "colorbar": {
              "outlinewidth": 0,
              "ticks": ""
             }
            },
            "type": "scattercarpet"
           }
          ],
          "scattergeo": [
           {
            "marker": {
             "colorbar": {
              "outlinewidth": 0,
              "ticks": ""
             }
            },
            "type": "scattergeo"
           }
          ],
          "scattergl": [
           {
            "marker": {
             "colorbar": {
              "outlinewidth": 0,
              "ticks": ""
             }
            },
            "type": "scattergl"
           }
          ],
          "scattermapbox": [
           {
            "marker": {
             "colorbar": {
              "outlinewidth": 0,
              "ticks": ""
             }
            },
            "type": "scattermapbox"
           }
          ],
          "scatterpolar": [
           {
            "marker": {
             "colorbar": {
              "outlinewidth": 0,
              "ticks": ""
             }
            },
            "type": "scatterpolar"
           }
          ],
          "scatterpolargl": [
           {
            "marker": {
             "colorbar": {
              "outlinewidth": 0,
              "ticks": ""
             }
            },
            "type": "scatterpolargl"
           }
          ],
          "scatterternary": [
           {
            "marker": {
             "colorbar": {
              "outlinewidth": 0,
              "ticks": ""
             }
            },
            "type": "scatterternary"
           }
          ],
          "surface": [
           {
            "colorbar": {
             "outlinewidth": 0,
             "ticks": ""
            },
            "colorscale": [
             [
              0,
              "#0d0887"
             ],
             [
              0.1111111111111111,
              "#46039f"
             ],
             [
              0.2222222222222222,
              "#7201a8"
             ],
             [
              0.3333333333333333,
              "#9c179e"
             ],
             [
              0.4444444444444444,
              "#bd3786"
             ],
             [
              0.5555555555555556,
              "#d8576b"
             ],
             [
              0.6666666666666666,
              "#ed7953"
             ],
             [
              0.7777777777777778,
              "#fb9f3a"
             ],
             [
              0.8888888888888888,
              "#fdca26"
             ],
             [
              1,
              "#f0f921"
             ]
            ],
            "type": "surface"
           }
          ],
          "table": [
           {
            "cells": {
             "fill": {
              "color": "#EBF0F8"
             },
             "line": {
              "color": "white"
             }
            },
            "header": {
             "fill": {
              "color": "#C8D4E3"
             },
             "line": {
              "color": "white"
             }
            },
            "type": "table"
           }
          ]
         },
         "layout": {
          "annotationdefaults": {
           "arrowcolor": "#2a3f5f",
           "arrowhead": 0,
           "arrowwidth": 1
          },
          "autotypenumbers": "strict",
          "coloraxis": {
           "colorbar": {
            "outlinewidth": 0,
            "ticks": ""
           }
          },
          "colorscale": {
           "diverging": [
            [
             0,
             "#8e0152"
            ],
            [
             0.1,
             "#c51b7d"
            ],
            [
             0.2,
             "#de77ae"
            ],
            [
             0.3,
             "#f1b6da"
            ],
            [
             0.4,
             "#fde0ef"
            ],
            [
             0.5,
             "#f7f7f7"
            ],
            [
             0.6,
             "#e6f5d0"
            ],
            [
             0.7,
             "#b8e186"
            ],
            [
             0.8,
             "#7fbc41"
            ],
            [
             0.9,
             "#4d9221"
            ],
            [
             1,
             "#276419"
            ]
           ],
           "sequential": [
            [
             0,
             "#0d0887"
            ],
            [
             0.1111111111111111,
             "#46039f"
            ],
            [
             0.2222222222222222,
             "#7201a8"
            ],
            [
             0.3333333333333333,
             "#9c179e"
            ],
            [
             0.4444444444444444,
             "#bd3786"
            ],
            [
             0.5555555555555556,
             "#d8576b"
            ],
            [
             0.6666666666666666,
             "#ed7953"
            ],
            [
             0.7777777777777778,
             "#fb9f3a"
            ],
            [
             0.8888888888888888,
             "#fdca26"
            ],
            [
             1,
             "#f0f921"
            ]
           ],
           "sequentialminus": [
            [
             0,
             "#0d0887"
            ],
            [
             0.1111111111111111,
             "#46039f"
            ],
            [
             0.2222222222222222,
             "#7201a8"
            ],
            [
             0.3333333333333333,
             "#9c179e"
            ],
            [
             0.4444444444444444,
             "#bd3786"
            ],
            [
             0.5555555555555556,
             "#d8576b"
            ],
            [
             0.6666666666666666,
             "#ed7953"
            ],
            [
             0.7777777777777778,
             "#fb9f3a"
            ],
            [
             0.8888888888888888,
             "#fdca26"
            ],
            [
             1,
             "#f0f921"
            ]
           ]
          },
          "colorway": [
           "#636efa",
           "#EF553B",
           "#00cc96",
           "#ab63fa",
           "#FFA15A",
           "#19d3f3",
           "#FF6692",
           "#B6E880",
           "#FF97FF",
           "#FECB52"
          ],
          "font": {
           "color": "#2a3f5f"
          },
          "geo": {
           "bgcolor": "white",
           "lakecolor": "white",
           "landcolor": "#E5ECF6",
           "showlakes": true,
           "showland": true,
           "subunitcolor": "white"
          },
          "hoverlabel": {
           "align": "left"
          },
          "hovermode": "closest",
          "mapbox": {
           "style": "light"
          },
          "paper_bgcolor": "white",
          "plot_bgcolor": "#E5ECF6",
          "polar": {
           "angularaxis": {
            "gridcolor": "white",
            "linecolor": "white",
            "ticks": ""
           },
           "bgcolor": "#E5ECF6",
           "radialaxis": {
            "gridcolor": "white",
            "linecolor": "white",
            "ticks": ""
           }
          },
          "scene": {
           "xaxis": {
            "backgroundcolor": "#E5ECF6",
            "gridcolor": "white",
            "gridwidth": 2,
            "linecolor": "white",
            "showbackground": true,
            "ticks": "",
            "zerolinecolor": "white"
           },
           "yaxis": {
            "backgroundcolor": "#E5ECF6",
            "gridcolor": "white",
            "gridwidth": 2,
            "linecolor": "white",
            "showbackground": true,
            "ticks": "",
            "zerolinecolor": "white"
           },
           "zaxis": {
            "backgroundcolor": "#E5ECF6",
            "gridcolor": "white",
            "gridwidth": 2,
            "linecolor": "white",
            "showbackground": true,
            "ticks": "",
            "zerolinecolor": "white"
           }
          },
          "shapedefaults": {
           "line": {
            "color": "#2a3f5f"
           }
          },
          "ternary": {
           "aaxis": {
            "gridcolor": "white",
            "linecolor": "white",
            "ticks": ""
           },
           "baxis": {
            "gridcolor": "white",
            "linecolor": "white",
            "ticks": ""
           },
           "bgcolor": "#E5ECF6",
           "caxis": {
            "gridcolor": "white",
            "linecolor": "white",
            "ticks": ""
           }
          },
          "title": {
           "x": 0.05
          },
          "xaxis": {
           "automargin": true,
           "gridcolor": "white",
           "linecolor": "white",
           "ticks": "",
           "title": {
            "standoff": 15
           },
           "zerolinecolor": "white",
           "zerolinewidth": 2
          },
          "yaxis": {
           "automargin": true,
           "gridcolor": "white",
           "linecolor": "white",
           "ticks": "",
           "title": {
            "standoff": 15
           },
           "zerolinecolor": "white",
           "zerolinewidth": 2
          }
         }
        },
        "xaxis": {
         "anchor": "y",
         "domain": [
          0,
          1
         ],
         "title": {
          "text": "Mass"
         }
        },
        "yaxis": {
         "anchor": "x",
         "domain": [
          0,
          1
         ],
         "title": {
          "text": "Vol"
         }
        }
       }
      },
      "text/html": [
       "<div>                            <div id=\"158aa009-7881-4617-b8ae-6ddff86755c8\" class=\"plotly-graph-div\" style=\"height:525px; width:100%;\"></div>            <script type=\"text/javascript\">                require([\"plotly\"], function(Plotly) {                    window.PLOTLYENV=window.PLOTLYENV || {};                                    if (document.getElementById(\"158aa009-7881-4617-b8ae-6ddff86755c8\")) {                    Plotly.newPlot(                        \"158aa009-7881-4617-b8ae-6ddff86755c8\",                        [{\"hovertemplate\": \"type=ladder_1<br>Mass=%{x}<br>Vol=%{y}<extra></extra>\", \"legendgroup\": \"ladder_1\", \"marker\": {\"color\": \"#636efa\", \"symbol\": \"circle\"}, \"mode\": \"markers\", \"name\": \"ladder_1\", \"orientation\": \"v\", \"showlegend\": true, \"type\": \"scatter\", \"x\": [24203.2846934834, 4242.49504398641, 7547.94912425451, 4916.5979595981, 6857.8561983642, 10439.3260577578, 10745.3578714833, 8794.09537060277, 7202.90669181442, 4571.53912822689, 17514.3562047957, 15201.0095981808, 5222.62234711882, 14895.9528055614, 8183.02343505106, 17819.3790325983, 6528.80370660363, 10134.2953728731, 15520.0751697882, 11661.4715330193, 13900.8204765651, 8489.05547469648, 11356.4298315365, 11990.5258433114, 18164.4496274057, 12600.6170093243, 7877.00567281426, 13555.7711503537, 9139.16804234589, 23954.1779926616, 12295.5814748975, 16184.1864696611, 12945.6839412189, 15839.1326836439, 11050.3933418306, 20020.6954021558, 18799.5275336785, 19105.5579601672, 9484.20199003764, 3936.4672395617, 16874.2591205591, 14205.8938470173, 9789.2480852, 6220.75813275767, 5912.71687853447, 16529.2071716204, 13250.716859999, 21321.8368850377, 14550.9158413196, 19410.5905082462, 19715.6350106554, 20365.7271713825, 21016.7936504431, 3631.42548213504, 21650.9134935724, 21995.9902986618, 1625.15999156332, 5912.71565194894, 4242.49137976193, 20710.8059358938, 18493.4772504122], \"xaxis\": \"x\", \"y\": [2241677.63, 108917.9, 96946.6, 89171.83, 88446.84, 86659.33, 84274.44, 80566.75, 79538.39, 76635.54, 70349.83, 69654.23, 66092.36, 61336.74, 58735.97, 57655.39, 56939.12, 54746.06, 53442.17, 53181.7, 52185.21, 51362.38, 50989.9, 50919.38, 50379.41, 48871.42, 48832.88, 46914.31, 43702.35, 40172.34, 39989.9, 37164.05, 37092.71, 36717.27, 36315.78, 33996.68, 32490.69, 31190.43, 30511.24, 28374.69, 27745.72, 26856.58, 26713.3, 26602.17, 25690.86, 25213.53, 21987.63, 21273.89, 18782.19, 17234.0, 16723.52, 15528.7, 14228.91, 13693.51, 9638.15, 4470.31, 3677.04, 3498.57, 1593.63, 3629.82, 3940.32], \"yaxis\": \"y\"}, {\"hovertemplate\": \"type=ladder_2<br>Mass=%{x}<br>Vol=%{y}<extra></extra>\", \"legendgroup\": \"ladder_2\", \"marker\": {\"color\": \"#EF553B\", \"symbol\": \"circle\"}, \"mode\": \"markers\", \"name\": \"ladder_2\", \"orientation\": \"v\", \"showlegend\": true, \"type\": \"scatter\", \"x\": [24189.2775336598, 5553.66576795458, 19091.5461867903, 8475.04567331345], \"xaxis\": \"x\", \"y\": [364195.37, 3078.63, 2197.63, 1756.84], \"yaxis\": \"y\"}, {\"hovertemplate\": \"type=ladder_3<br>Mass=%{x}<br>Vol=%{y}<extra></extra>\", \"legendgroup\": \"ladder_3\", \"marker\": {\"color\": \"#00cc96\", \"symbol\": \"circle\"}, \"mode\": \"markers\", \"name\": \"ladder_3\", \"orientation\": \"v\", \"showlegend\": true, \"type\": \"scatter\", \"x\": [19729.6266179002, 19424.598192326, 15215.0075815104, 18813.5277810817, 20379.7305018896, 13569.7894911415, 14564.9568990649, 8503.07401411278, 20034.705180908, 6542.81981320489, 9803.26579602235, 8808.1198352822, 7891.02486067562, 7216.91951649197, 22355.0108654483, 16198.1816118458, 23968.1969271315, 21030.812067292, 19119.5965725987, 16888.2672555759], \"xaxis\": \"x\", \"y\": [12153.76, 6197.58, 3920.64, 3882.86, 3699.79, 3697.26, 2106.79, 1970.2, 1550.86, 1462.11, 1392.28, 1243.29, 1198.01, 870.06, 644.31, 627.48, 4533.59, 1979.3, 2708.92, 1707.25], \"yaxis\": \"y\"}],                        {\"legend\": {\"title\": {\"text\": \"type\"}, \"tracegroupgap\": 0}, \"margin\": {\"t\": 60}, \"template\": {\"data\": {\"bar\": [{\"error_x\": {\"color\": \"#2a3f5f\"}, \"error_y\": {\"color\": \"#2a3f5f\"}, \"marker\": {\"line\": {\"color\": \"#E5ECF6\", \"width\": 0.5}}, \"type\": \"bar\"}], \"barpolar\": [{\"marker\": {\"line\": {\"color\": \"#E5ECF6\", \"width\": 0.5}}, \"type\": \"barpolar\"}], \"carpet\": [{\"aaxis\": {\"endlinecolor\": \"#2a3f5f\", \"gridcolor\": \"white\", \"linecolor\": \"white\", \"minorgridcolor\": \"white\", \"startlinecolor\": \"#2a3f5f\"}, \"baxis\": {\"endlinecolor\": \"#2a3f5f\", \"gridcolor\": \"white\", \"linecolor\": \"white\", \"minorgridcolor\": \"white\", \"startlinecolor\": \"#2a3f5f\"}, \"type\": \"carpet\"}], \"choropleth\": [{\"colorbar\": {\"outlinewidth\": 0, \"ticks\": \"\"}, \"type\": \"choropleth\"}], \"contour\": [{\"colorbar\": {\"outlinewidth\": 0, \"ticks\": \"\"}, \"colorscale\": [[0.0, \"#0d0887\"], [0.1111111111111111, \"#46039f\"], [0.2222222222222222, \"#7201a8\"], [0.3333333333333333, \"#9c179e\"], [0.4444444444444444, \"#bd3786\"], [0.5555555555555556, \"#d8576b\"], [0.6666666666666666, \"#ed7953\"], [0.7777777777777778, \"#fb9f3a\"], [0.8888888888888888, \"#fdca26\"], [1.0, \"#f0f921\"]], \"type\": \"contour\"}], \"contourcarpet\": [{\"colorbar\": {\"outlinewidth\": 0, \"ticks\": \"\"}, \"type\": \"contourcarpet\"}], \"heatmap\": [{\"colorbar\": {\"outlinewidth\": 0, \"ticks\": \"\"}, \"colorscale\": [[0.0, \"#0d0887\"], [0.1111111111111111, \"#46039f\"], [0.2222222222222222, \"#7201a8\"], [0.3333333333333333, \"#9c179e\"], [0.4444444444444444, \"#bd3786\"], [0.5555555555555556, \"#d8576b\"], [0.6666666666666666, \"#ed7953\"], [0.7777777777777778, \"#fb9f3a\"], [0.8888888888888888, \"#fdca26\"], [1.0, \"#f0f921\"]], \"type\": \"heatmap\"}], \"heatmapgl\": [{\"colorbar\": {\"outlinewidth\": 0, \"ticks\": \"\"}, \"colorscale\": [[0.0, \"#0d0887\"], [0.1111111111111111, \"#46039f\"], [0.2222222222222222, \"#7201a8\"], [0.3333333333333333, \"#9c179e\"], [0.4444444444444444, \"#bd3786\"], [0.5555555555555556, \"#d8576b\"], [0.6666666666666666, \"#ed7953\"], [0.7777777777777778, \"#fb9f3a\"], [0.8888888888888888, \"#fdca26\"], [1.0, \"#f0f921\"]], \"type\": \"heatmapgl\"}], \"histogram\": [{\"marker\": {\"colorbar\": {\"outlinewidth\": 0, \"ticks\": \"\"}}, \"type\": \"histogram\"}], \"histogram2d\": [{\"colorbar\": {\"outlinewidth\": 0, \"ticks\": \"\"}, \"colorscale\": [[0.0, \"#0d0887\"], [0.1111111111111111, \"#46039f\"], [0.2222222222222222, \"#7201a8\"], [0.3333333333333333, \"#9c179e\"], [0.4444444444444444, \"#bd3786\"], [0.5555555555555556, \"#d8576b\"], [0.6666666666666666, \"#ed7953\"], [0.7777777777777778, \"#fb9f3a\"], [0.8888888888888888, \"#fdca26\"], [1.0, \"#f0f921\"]], \"type\": \"histogram2d\"}], \"histogram2dcontour\": [{\"colorbar\": {\"outlinewidth\": 0, \"ticks\": \"\"}, \"colorscale\": [[0.0, \"#0d0887\"], [0.1111111111111111, \"#46039f\"], [0.2222222222222222, \"#7201a8\"], [0.3333333333333333, \"#9c179e\"], [0.4444444444444444, \"#bd3786\"], [0.5555555555555556, \"#d8576b\"], [0.6666666666666666, \"#ed7953\"], [0.7777777777777778, \"#fb9f3a\"], [0.8888888888888888, \"#fdca26\"], [1.0, \"#f0f921\"]], \"type\": \"histogram2dcontour\"}], \"mesh3d\": [{\"colorbar\": {\"outlinewidth\": 0, \"ticks\": \"\"}, \"type\": \"mesh3d\"}], \"parcoords\": [{\"line\": {\"colorbar\": {\"outlinewidth\": 0, \"ticks\": \"\"}}, \"type\": \"parcoords\"}], \"pie\": [{\"automargin\": true, \"type\": \"pie\"}], \"scatter\": [{\"marker\": {\"colorbar\": {\"outlinewidth\": 0, \"ticks\": \"\"}}, \"type\": \"scatter\"}], \"scatter3d\": [{\"line\": {\"colorbar\": {\"outlinewidth\": 0, \"ticks\": \"\"}}, \"marker\": {\"colorbar\": {\"outlinewidth\": 0, \"ticks\": \"\"}}, \"type\": \"scatter3d\"}], \"scattercarpet\": [{\"marker\": {\"colorbar\": {\"outlinewidth\": 0, \"ticks\": \"\"}}, \"type\": \"scattercarpet\"}], \"scattergeo\": [{\"marker\": {\"colorbar\": {\"outlinewidth\": 0, \"ticks\": \"\"}}, \"type\": \"scattergeo\"}], \"scattergl\": [{\"marker\": {\"colorbar\": {\"outlinewidth\": 0, \"ticks\": \"\"}}, \"type\": \"scattergl\"}], \"scattermapbox\": [{\"marker\": {\"colorbar\": {\"outlinewidth\": 0, \"ticks\": \"\"}}, \"type\": \"scattermapbox\"}], \"scatterpolar\": [{\"marker\": {\"colorbar\": {\"outlinewidth\": 0, \"ticks\": \"\"}}, \"type\": \"scatterpolar\"}], \"scatterpolargl\": [{\"marker\": {\"colorbar\": {\"outlinewidth\": 0, \"ticks\": \"\"}}, \"type\": \"scatterpolargl\"}], \"scatterternary\": [{\"marker\": {\"colorbar\": {\"outlinewidth\": 0, \"ticks\": \"\"}}, \"type\": \"scatterternary\"}], \"surface\": [{\"colorbar\": {\"outlinewidth\": 0, \"ticks\": \"\"}, \"colorscale\": [[0.0, \"#0d0887\"], [0.1111111111111111, \"#46039f\"], [0.2222222222222222, \"#7201a8\"], [0.3333333333333333, \"#9c179e\"], [0.4444444444444444, \"#bd3786\"], [0.5555555555555556, \"#d8576b\"], [0.6666666666666666, \"#ed7953\"], [0.7777777777777778, \"#fb9f3a\"], [0.8888888888888888, \"#fdca26\"], [1.0, \"#f0f921\"]], \"type\": \"surface\"}], \"table\": [{\"cells\": {\"fill\": {\"color\": \"#EBF0F8\"}, \"line\": {\"color\": \"white\"}}, \"header\": {\"fill\": {\"color\": \"#C8D4E3\"}, \"line\": {\"color\": \"white\"}}, \"type\": \"table\"}]}, \"layout\": {\"annotationdefaults\": {\"arrowcolor\": \"#2a3f5f\", \"arrowhead\": 0, \"arrowwidth\": 1}, \"autotypenumbers\": \"strict\", \"coloraxis\": {\"colorbar\": {\"outlinewidth\": 0, \"ticks\": \"\"}}, \"colorscale\": {\"diverging\": [[0, \"#8e0152\"], [0.1, \"#c51b7d\"], [0.2, \"#de77ae\"], [0.3, \"#f1b6da\"], [0.4, \"#fde0ef\"], [0.5, \"#f7f7f7\"], [0.6, \"#e6f5d0\"], [0.7, \"#b8e186\"], [0.8, \"#7fbc41\"], [0.9, \"#4d9221\"], [1, \"#276419\"]], \"sequential\": [[0.0, \"#0d0887\"], [0.1111111111111111, \"#46039f\"], [0.2222222222222222, \"#7201a8\"], [0.3333333333333333, \"#9c179e\"], [0.4444444444444444, \"#bd3786\"], [0.5555555555555556, \"#d8576b\"], [0.6666666666666666, \"#ed7953\"], [0.7777777777777778, \"#fb9f3a\"], [0.8888888888888888, \"#fdca26\"], [1.0, \"#f0f921\"]], \"sequentialminus\": [[0.0, \"#0d0887\"], [0.1111111111111111, \"#46039f\"], [0.2222222222222222, \"#7201a8\"], [0.3333333333333333, \"#9c179e\"], [0.4444444444444444, \"#bd3786\"], [0.5555555555555556, \"#d8576b\"], [0.6666666666666666, \"#ed7953\"], [0.7777777777777778, \"#fb9f3a\"], [0.8888888888888888, \"#fdca26\"], [1.0, \"#f0f921\"]]}, \"colorway\": [\"#636efa\", \"#EF553B\", \"#00cc96\", \"#ab63fa\", \"#FFA15A\", \"#19d3f3\", \"#FF6692\", \"#B6E880\", \"#FF97FF\", \"#FECB52\"], \"font\": {\"color\": \"#2a3f5f\"}, \"geo\": {\"bgcolor\": \"white\", \"lakecolor\": \"white\", \"landcolor\": \"#E5ECF6\", \"showlakes\": true, \"showland\": true, \"subunitcolor\": \"white\"}, \"hoverlabel\": {\"align\": \"left\"}, \"hovermode\": \"closest\", \"mapbox\": {\"style\": \"light\"}, \"paper_bgcolor\": \"white\", \"plot_bgcolor\": \"#E5ECF6\", \"polar\": {\"angularaxis\": {\"gridcolor\": \"white\", \"linecolor\": \"white\", \"ticks\": \"\"}, \"bgcolor\": \"#E5ECF6\", \"radialaxis\": {\"gridcolor\": \"white\", \"linecolor\": \"white\", \"ticks\": \"\"}}, \"scene\": {\"xaxis\": {\"backgroundcolor\": \"#E5ECF6\", \"gridcolor\": \"white\", \"gridwidth\": 2, \"linecolor\": \"white\", \"showbackground\": true, \"ticks\": \"\", \"zerolinecolor\": \"white\"}, \"yaxis\": {\"backgroundcolor\": \"#E5ECF6\", \"gridcolor\": \"white\", \"gridwidth\": 2, \"linecolor\": \"white\", \"showbackground\": true, \"ticks\": \"\", \"zerolinecolor\": \"white\"}, \"zaxis\": {\"backgroundcolor\": \"#E5ECF6\", \"gridcolor\": \"white\", \"gridwidth\": 2, \"linecolor\": \"white\", \"showbackground\": true, \"ticks\": \"\", \"zerolinecolor\": \"white\"}}, \"shapedefaults\": {\"line\": {\"color\": \"#2a3f5f\"}}, \"ternary\": {\"aaxis\": {\"gridcolor\": \"white\", \"linecolor\": \"white\", \"ticks\": \"\"}, \"baxis\": {\"gridcolor\": \"white\", \"linecolor\": \"white\", \"ticks\": \"\"}, \"bgcolor\": \"#E5ECF6\", \"caxis\": {\"gridcolor\": \"white\", \"linecolor\": \"white\", \"ticks\": \"\"}}, \"title\": {\"x\": 0.05}, \"xaxis\": {\"automargin\": true, \"gridcolor\": \"white\", \"linecolor\": \"white\", \"ticks\": \"\", \"title\": {\"standoff\": 15}, \"zerolinecolor\": \"white\", \"zerolinewidth\": 2}, \"yaxis\": {\"automargin\": true, \"gridcolor\": \"white\", \"linecolor\": \"white\", \"ticks\": \"\", \"title\": {\"standoff\": 15}, \"zerolinecolor\": \"white\", \"zerolinewidth\": 2}}}, \"xaxis\": {\"anchor\": \"y\", \"domain\": [0.0, 1.0], \"title\": {\"text\": \"Mass\"}}, \"yaxis\": {\"anchor\": \"x\", \"domain\": [0.0, 1.0], \"title\": {\"text\": \"Vol\"}}},                        {\"responsive\": true}                    ).then(function(){\n",
       "                            \n",
       "var gd = document.getElementById('158aa009-7881-4617-b8ae-6ddff86755c8');\n",
       "var x = new MutationObserver(function (mutations, observer) {{\n",
       "        var display = window.getComputedStyle(gd).display;\n",
       "        if (!display || display === 'none') {{\n",
       "            console.log([gd, 'removed!']);\n",
       "            Plotly.purge(gd);\n",
       "            observer.disconnect();\n",
       "        }}\n",
       "}});\n",
       "\n",
       "// Listen for the removal of the full notebook cells\n",
       "var notebookContainer = gd.closest('#notebook-container');\n",
       "if (notebookContainer) {{\n",
       "    x.observe(notebookContainer, {childList: true});\n",
       "}}\n",
       "\n",
       "// Listen for the clearing of the current output cell\n",
       "var outputEl = gd.closest('.output');\n",
       "if (outputEl) {{\n",
       "    x.observe(outputEl, {childList: true});\n",
       "}}\n",
       "\n",
       "                        })                };                });            </script>        </div>"
      ]
     },
     "metadata": {},
     "output_type": "display_data"
    },
    {
     "name": "stdout",
     "output_type": "stream",
     "text": [
      "    Unnamed: 0         Mass Base   Unnamed: 3\n",
      "65          66  21254.89063    L  21240.88003\n",
      "66          67  21599.93803    G  21585.92743\n",
      "67          68  21905.96333    U  21891.95273\n",
      "68          69  22251.01073    G  22237.00013\n",
      "69          70  22596.05813    G  22596.05813\n",
      "70          71  22902.08343    U  22902.08343\n",
      "71          72  23207.12473    C          NaN\n",
      "72          73  23512.16603    C          NaN\n",
      "73          74  23817.20733    C          NaN\n",
      "74          75  24203.19896    U          NaN\n"
     ]
    }
   ],
   "source": [
    "dfs = df_203_5p\n",
    "dfm_203 = match_dfs(dfs, dfx)\n",
    "dftmp = dfs.copy()\n",
    "dftmp.Mass -= M\n",
    "dfm_189 = match_dfs(dftmp, dfx)\n",
    "dftmp.Mass += 2*M\n",
    "dfm_217 = match_dfs(dftmp, dfx)\n",
    "plotly_multi_zones([dfm_203, dfm_189, dfm_217], y='Vol')\n",
    "print(df_203_3p.tail(10))"
   ]
  },
  {
   "cell_type": "code",
   "execution_count": 202,
   "id": "approved-transcription",
   "metadata": {},
   "outputs": [],
   "source": [
    "def match_dfs_with_adducts(df_target, df_src, adducts=[21.9819, 37.9559, 27.9949]):\n",
    "#     return match_dfs(df_target, df_src)\n",
    "    dfms = list()\n",
    "    dfm = match_dfs(df_target, df_src)\n",
    "    if not dfm.empty:\n",
    "        dfms.append(dfm)\n",
    "    for adduct in adducts[:2]:\n",
    "        df_tmp = df_target.copy()\n",
    "        df_tmp.Mass += adduct\n",
    "        dfm = match_dfs(df_tmp, df_src)\n",
    "        if not dfm.empty:\n",
    "            dfms.append(dfm)\n",
    "    \n",
    "#     dfm = pd.concat(dfms).drop_duplicates()\n",
    "    return dfms\n",
    "\n",
    "def match_dfs_with1Da(df_target, df_src):\n",
    "    dfms = list()\n",
    "    dfm = match_dfs(df_target, df_src)\n",
    "    if not dfm.empty:\n",
    "        dfms.append(dfm)\n",
    "        \n",
    "    df_tmp = df_target.copy()\n",
    "    df_tmp.Mass += 1\n",
    "    dfm = match_dfs(df_tmp, df_src)\n",
    "    if not dfm.empty:\n",
    "        dfms.append(dfm)\n",
    "    \n",
    "    dfm = pd.concat(dfms).drop_duplicates() if dfms else pd.DataFrame()\n",
    "    return dfm"
   ]
  },
  {
   "cell_type": "code",
   "execution_count": 509,
   "id": "manual-alexander",
   "metadata": {},
   "outputs": [
    {
     "name": "stdout",
     "output_type": "stream",
     "text": [
      "3 3\n"
     ]
    },
    {
     "data": {
      "application/vnd.plotly.v1+json": {
       "config": {
        "plotlyServerURL": "https://plot.ly"
       },
       "data": [
        {
         "hovertemplate": "type=Baseline1<br>Mass=%{x}<br>RT=%{y}<extra></extra>",
         "legendgroup": "Baseline1",
         "marker": {
          "color": "#636efa",
          "symbol": "circle"
         },
         "mode": "markers",
         "name": "Baseline1",
         "orientation": "v",
         "showlegend": true,
         "type": "scatter",
         "x": [
          2635.29072544204,
          2329.26403566954,
          3631.41174307586,
          2980.33805218022,
          3325.3846879753,
          7548.9323329077,
          1984.21630961812,
          5568.65388306123,
          11662.4619412791,
          12601.5924730657,
          12296.5606295918,
          9790.22223237134,
          11051.391112235,
          8490.04384741683,
          8795.10136124633,
          5913.70240974159,
          11991.5176294349,
          10746.3576024528,
          14565.8771684082,
          7203.88042538061,
          17834.3088463449,
          11357.4395084994,
          15215.9574047785,
          14220.8231805298,
          20394.6735545453,
          6529.78745054443,
          20049.6723368403
         ],
         "xaxis": "x",
         "y": [
          1,
          1,
          1,
          1,
          1,
          1,
          1,
          1,
          1,
          1,
          1,
          1,
          1,
          1,
          1,
          1,
          1,
          1,
          1,
          1,
          1,
          1,
          1,
          1,
          1,
          1,
          1
         ],
         "yaxis": "y"
        },
        {
         "hovertemplate": "type=Baseline1+Na<br>Mass=%{x}<br>RT=%{y}<extra></extra>",
         "legendgroup": "Baseline1+Na",
         "marker": {
          "color": "#EF553B",
          "symbol": "circle"
         },
         "mode": "markers",
         "name": "Baseline1+Na",
         "orientation": "v",
         "showlegend": true,
         "type": "scatter",
         "x": [
          6551.76869968098,
          7570.9161072823,
          8817.0714233885,
          11073.3800492798,
          11684.4521640649,
          9162.12246867295,
          13578.7272243971,
          8205.99142802131,
          5245.57324227938,
          12318.5568991147,
          7225.87278622232,
          5590.63298801247,
          2657.27059341499,
          13923.7638742008,
          13273.6883803858,
          5935.67996927386,
          17856.2842279003,
          16221.0615370062,
          16911.1443302145,
          16566.1135948361,
          12968.6220157132,
          14242.8038027015,
          4939.5532708407,
          15237.9153567577,
          12623.5911986394,
          19766.5230798615,
          12013.5263169415
         ],
         "xaxis": "x",
         "y": [
          1.1,
          1.1,
          1.1,
          1.1,
          1.1,
          1.1,
          1.1,
          1.1,
          1.1,
          1.1,
          1.1,
          1.1,
          1.1,
          1.1,
          1.1,
          1.1,
          1.1,
          1.1,
          1.1,
          1.1,
          1.1,
          1.1,
          1.1,
          1.1,
          1.1,
          1.1,
          1.1
         ],
         "yaxis": "y"
        },
        {
         "hovertemplate": "type=Baseline1+K<br>Mass=%{x}<br>RT=%{y}<extra></extra>",
         "legendgroup": "Baseline1+K",
         "marker": {
          "color": "#00cc96",
          "symbol": "circle"
         },
         "mode": "markers",
         "name": "Baseline1+K",
         "orientation": "v",
         "showlegend": true,
         "type": "scatter",
         "x": [
          7586.8898331047,
          3669.35875938102,
          6259.69262429112,
          5606.6023087443,
          5951.63741579882,
          8221.97715212592,
          5261.55175028582,
          7241.8432506599,
          6567.74801357619,
          9178.10128390887,
          10784.3135231702,
          11700.4310020662,
          10173.2290207592,
          8833.06054874109,
          12984.6421138838,
          12639.5989478442,
          15253.9162463449,
          13594.7384576037,
          7915.95243194137,
          13939.7599702441,
          16582.1092717499
         ],
         "xaxis": "x",
         "y": [
          1.2,
          1.2,
          1.2,
          1.2,
          1.2,
          1.2,
          1.2,
          1.2,
          1.2,
          1.2,
          1.2,
          1.2,
          1.2,
          1.2,
          1.2,
          1.2,
          1.2,
          1.2,
          1.2,
          1.2,
          1.2
         ],
         "yaxis": "y"
        },
        {
         "hovertemplate": "type=Baseline2(Baseline1+Methyl)<br>Mass=%{x}<br>RT=%{y}<extra></extra>",
         "legendgroup": "Baseline2(Baseline1+Methyl)",
         "marker": {
          "color": "#ab63fa",
          "symbol": "circle"
         },
         "mode": "markers",
         "name": "Baseline2(Baseline1+Methyl)",
         "orientation": "v",
         "showlegend": true,
         "type": "scatter",
         "x": [
          13265.7514961636,
          13570.7747028055,
          4257.49693354082,
          6235.75064248528,
          6543.81303076399,
          7217.90320144502,
          15548.994977493,
          4586.54768715297,
          9804.23090765229,
          10454.3012738136,
          11065.4200889183,
          8504.04263073219,
          3645.43236892478,
          8809.10574398195,
          5237.62069040677,
          10760.3908521515,
          19148.433928168,
          16213.0803652831,
          9499.15482854196,
          17543.2426994766,
          12005.5734813932,
          14234.8433772702
         ],
         "xaxis": "x",
         "y": [
          2,
          2,
          2,
          2,
          2,
          2,
          2,
          2,
          2,
          2,
          2,
          2,
          2,
          2,
          2,
          2,
          2,
          2,
          2,
          2,
          2,
          2
         ],
         "yaxis": "y"
        },
        {
         "hovertemplate": "type=Baseline2+Na<br>Mass=%{x}<br>RT=%{y}<extra></extra>",
         "legendgroup": "Baseline2+Na",
         "marker": {
          "color": "#FFA15A",
          "symbol": "circle"
         },
         "mode": "markers",
         "name": "Baseline2+Na",
         "orientation": "v",
         "showlegend": true,
         "type": "scatter",
         "x": [
          13287.7024501778,
          12027.4869682674,
          13937.7772968157,
          11698.4197748599,
          15251.9090386989,
          9826.20037823186
         ],
         "xaxis": "x",
         "y": [
          2.1,
          2.1,
          2.1,
          2.1,
          2.1,
          2.1
         ],
         "yaxis": "y"
        },
        {
         "hovertemplate": "type=Baseline2+K<br>Mass=%{x}<br>RT=%{y}<extra></extra>",
         "legendgroup": "Baseline2+K",
         "marker": {
          "color": "#19d3f3",
          "symbol": "circle"
         },
         "mode": "markers",
         "name": "Baseline2+K",
         "orientation": "v",
         "showlegend": true,
         "type": "scatter",
         "x": [
          13608.71922,
          15267.9072410074,
          10798.2928893358,
          16251.0360932222,
          10492.2362112603,
          11103.3402233066,
          21402.7122114587,
          17886.2640194966,
          12348.5889081913,
          10187.2035594144
         ],
         "xaxis": "x",
         "y": [
          2.2,
          2.2,
          2.2,
          2.2,
          2.2,
          2.2,
          2.2,
          2.2,
          2.2,
          2.2
         ],
         "yaxis": "y"
        }
       ],
       "layout": {
        "legend": {
         "title": {
          "text": "type"
         },
         "tracegroupgap": 0
        },
        "margin": {
         "t": 60
        },
        "template": {
         "data": {
          "bar": [
           {
            "error_x": {
             "color": "#2a3f5f"
            },
            "error_y": {
             "color": "#2a3f5f"
            },
            "marker": {
             "line": {
              "color": "#E5ECF6",
              "width": 0.5
             }
            },
            "type": "bar"
           }
          ],
          "barpolar": [
           {
            "marker": {
             "line": {
              "color": "#E5ECF6",
              "width": 0.5
             }
            },
            "type": "barpolar"
           }
          ],
          "carpet": [
           {
            "aaxis": {
             "endlinecolor": "#2a3f5f",
             "gridcolor": "white",
             "linecolor": "white",
             "minorgridcolor": "white",
             "startlinecolor": "#2a3f5f"
            },
            "baxis": {
             "endlinecolor": "#2a3f5f",
             "gridcolor": "white",
             "linecolor": "white",
             "minorgridcolor": "white",
             "startlinecolor": "#2a3f5f"
            },
            "type": "carpet"
           }
          ],
          "choropleth": [
           {
            "colorbar": {
             "outlinewidth": 0,
             "ticks": ""
            },
            "type": "choropleth"
           }
          ],
          "contour": [
           {
            "colorbar": {
             "outlinewidth": 0,
             "ticks": ""
            },
            "colorscale": [
             [
              0,
              "#0d0887"
             ],
             [
              0.1111111111111111,
              "#46039f"
             ],
             [
              0.2222222222222222,
              "#7201a8"
             ],
             [
              0.3333333333333333,
              "#9c179e"
             ],
             [
              0.4444444444444444,
              "#bd3786"
             ],
             [
              0.5555555555555556,
              "#d8576b"
             ],
             [
              0.6666666666666666,
              "#ed7953"
             ],
             [
              0.7777777777777778,
              "#fb9f3a"
             ],
             [
              0.8888888888888888,
              "#fdca26"
             ],
             [
              1,
              "#f0f921"
             ]
            ],
            "type": "contour"
           }
          ],
          "contourcarpet": [
           {
            "colorbar": {
             "outlinewidth": 0,
             "ticks": ""
            },
            "type": "contourcarpet"
           }
          ],
          "heatmap": [
           {
            "colorbar": {
             "outlinewidth": 0,
             "ticks": ""
            },
            "colorscale": [
             [
              0,
              "#0d0887"
             ],
             [
              0.1111111111111111,
              "#46039f"
             ],
             [
              0.2222222222222222,
              "#7201a8"
             ],
             [
              0.3333333333333333,
              "#9c179e"
             ],
             [
              0.4444444444444444,
              "#bd3786"
             ],
             [
              0.5555555555555556,
              "#d8576b"
             ],
             [
              0.6666666666666666,
              "#ed7953"
             ],
             [
              0.7777777777777778,
              "#fb9f3a"
             ],
             [
              0.8888888888888888,
              "#fdca26"
             ],
             [
              1,
              "#f0f921"
             ]
            ],
            "type": "heatmap"
           }
          ],
          "heatmapgl": [
           {
            "colorbar": {
             "outlinewidth": 0,
             "ticks": ""
            },
            "colorscale": [
             [
              0,
              "#0d0887"
             ],
             [
              0.1111111111111111,
              "#46039f"
             ],
             [
              0.2222222222222222,
              "#7201a8"
             ],
             [
              0.3333333333333333,
              "#9c179e"
             ],
             [
              0.4444444444444444,
              "#bd3786"
             ],
             [
              0.5555555555555556,
              "#d8576b"
             ],
             [
              0.6666666666666666,
              "#ed7953"
             ],
             [
              0.7777777777777778,
              "#fb9f3a"
             ],
             [
              0.8888888888888888,
              "#fdca26"
             ],
             [
              1,
              "#f0f921"
             ]
            ],
            "type": "heatmapgl"
           }
          ],
          "histogram": [
           {
            "marker": {
             "colorbar": {
              "outlinewidth": 0,
              "ticks": ""
             }
            },
            "type": "histogram"
           }
          ],
          "histogram2d": [
           {
            "colorbar": {
             "outlinewidth": 0,
             "ticks": ""
            },
            "colorscale": [
             [
              0,
              "#0d0887"
             ],
             [
              0.1111111111111111,
              "#46039f"
             ],
             [
              0.2222222222222222,
              "#7201a8"
             ],
             [
              0.3333333333333333,
              "#9c179e"
             ],
             [
              0.4444444444444444,
              "#bd3786"
             ],
             [
              0.5555555555555556,
              "#d8576b"
             ],
             [
              0.6666666666666666,
              "#ed7953"
             ],
             [
              0.7777777777777778,
              "#fb9f3a"
             ],
             [
              0.8888888888888888,
              "#fdca26"
             ],
             [
              1,
              "#f0f921"
             ]
            ],
            "type": "histogram2d"
           }
          ],
          "histogram2dcontour": [
           {
            "colorbar": {
             "outlinewidth": 0,
             "ticks": ""
            },
            "colorscale": [
             [
              0,
              "#0d0887"
             ],
             [
              0.1111111111111111,
              "#46039f"
             ],
             [
              0.2222222222222222,
              "#7201a8"
             ],
             [
              0.3333333333333333,
              "#9c179e"
             ],
             [
              0.4444444444444444,
              "#bd3786"
             ],
             [
              0.5555555555555556,
              "#d8576b"
             ],
             [
              0.6666666666666666,
              "#ed7953"
             ],
             [
              0.7777777777777778,
              "#fb9f3a"
             ],
             [
              0.8888888888888888,
              "#fdca26"
             ],
             [
              1,
              "#f0f921"
             ]
            ],
            "type": "histogram2dcontour"
           }
          ],
          "mesh3d": [
           {
            "colorbar": {
             "outlinewidth": 0,
             "ticks": ""
            },
            "type": "mesh3d"
           }
          ],
          "parcoords": [
           {
            "line": {
             "colorbar": {
              "outlinewidth": 0,
              "ticks": ""
             }
            },
            "type": "parcoords"
           }
          ],
          "pie": [
           {
            "automargin": true,
            "type": "pie"
           }
          ],
          "scatter": [
           {
            "marker": {
             "colorbar": {
              "outlinewidth": 0,
              "ticks": ""
             }
            },
            "type": "scatter"
           }
          ],
          "scatter3d": [
           {
            "line": {
             "colorbar": {
              "outlinewidth": 0,
              "ticks": ""
             }
            },
            "marker": {
             "colorbar": {
              "outlinewidth": 0,
              "ticks": ""
             }
            },
            "type": "scatter3d"
           }
          ],
          "scattercarpet": [
           {
            "marker": {
             "colorbar": {
              "outlinewidth": 0,
              "ticks": ""
             }
            },
            "type": "scattercarpet"
           }
          ],
          "scattergeo": [
           {
            "marker": {
             "colorbar": {
              "outlinewidth": 0,
              "ticks": ""
             }
            },
            "type": "scattergeo"
           }
          ],
          "scattergl": [
           {
            "marker": {
             "colorbar": {
              "outlinewidth": 0,
              "ticks": ""
             }
            },
            "type": "scattergl"
           }
          ],
          "scattermapbox": [
           {
            "marker": {
             "colorbar": {
              "outlinewidth": 0,
              "ticks": ""
             }
            },
            "type": "scattermapbox"
           }
          ],
          "scatterpolar": [
           {
            "marker": {
             "colorbar": {
              "outlinewidth": 0,
              "ticks": ""
             }
            },
            "type": "scatterpolar"
           }
          ],
          "scatterpolargl": [
           {
            "marker": {
             "colorbar": {
              "outlinewidth": 0,
              "ticks": ""
             }
            },
            "type": "scatterpolargl"
           }
          ],
          "scatterternary": [
           {
            "marker": {
             "colorbar": {
              "outlinewidth": 0,
              "ticks": ""
             }
            },
            "type": "scatterternary"
           }
          ],
          "surface": [
           {
            "colorbar": {
             "outlinewidth": 0,
             "ticks": ""
            },
            "colorscale": [
             [
              0,
              "#0d0887"
             ],
             [
              0.1111111111111111,
              "#46039f"
             ],
             [
              0.2222222222222222,
              "#7201a8"
             ],
             [
              0.3333333333333333,
              "#9c179e"
             ],
             [
              0.4444444444444444,
              "#bd3786"
             ],
             [
              0.5555555555555556,
              "#d8576b"
             ],
             [
              0.6666666666666666,
              "#ed7953"
             ],
             [
              0.7777777777777778,
              "#fb9f3a"
             ],
             [
              0.8888888888888888,
              "#fdca26"
             ],
             [
              1,
              "#f0f921"
             ]
            ],
            "type": "surface"
           }
          ],
          "table": [
           {
            "cells": {
             "fill": {
              "color": "#EBF0F8"
             },
             "line": {
              "color": "white"
             }
            },
            "header": {
             "fill": {
              "color": "#C8D4E3"
             },
             "line": {
              "color": "white"
             }
            },
            "type": "table"
           }
          ]
         },
         "layout": {
          "annotationdefaults": {
           "arrowcolor": "#2a3f5f",
           "arrowhead": 0,
           "arrowwidth": 1
          },
          "autotypenumbers": "strict",
          "coloraxis": {
           "colorbar": {
            "outlinewidth": 0,
            "ticks": ""
           }
          },
          "colorscale": {
           "diverging": [
            [
             0,
             "#8e0152"
            ],
            [
             0.1,
             "#c51b7d"
            ],
            [
             0.2,
             "#de77ae"
            ],
            [
             0.3,
             "#f1b6da"
            ],
            [
             0.4,
             "#fde0ef"
            ],
            [
             0.5,
             "#f7f7f7"
            ],
            [
             0.6,
             "#e6f5d0"
            ],
            [
             0.7,
             "#b8e186"
            ],
            [
             0.8,
             "#7fbc41"
            ],
            [
             0.9,
             "#4d9221"
            ],
            [
             1,
             "#276419"
            ]
           ],
           "sequential": [
            [
             0,
             "#0d0887"
            ],
            [
             0.1111111111111111,
             "#46039f"
            ],
            [
             0.2222222222222222,
             "#7201a8"
            ],
            [
             0.3333333333333333,
             "#9c179e"
            ],
            [
             0.4444444444444444,
             "#bd3786"
            ],
            [
             0.5555555555555556,
             "#d8576b"
            ],
            [
             0.6666666666666666,
             "#ed7953"
            ],
            [
             0.7777777777777778,
             "#fb9f3a"
            ],
            [
             0.8888888888888888,
             "#fdca26"
            ],
            [
             1,
             "#f0f921"
            ]
           ],
           "sequentialminus": [
            [
             0,
             "#0d0887"
            ],
            [
             0.1111111111111111,
             "#46039f"
            ],
            [
             0.2222222222222222,
             "#7201a8"
            ],
            [
             0.3333333333333333,
             "#9c179e"
            ],
            [
             0.4444444444444444,
             "#bd3786"
            ],
            [
             0.5555555555555556,
             "#d8576b"
            ],
            [
             0.6666666666666666,
             "#ed7953"
            ],
            [
             0.7777777777777778,
             "#fb9f3a"
            ],
            [
             0.8888888888888888,
             "#fdca26"
            ],
            [
             1,
             "#f0f921"
            ]
           ]
          },
          "colorway": [
           "#636efa",
           "#EF553B",
           "#00cc96",
           "#ab63fa",
           "#FFA15A",
           "#19d3f3",
           "#FF6692",
           "#B6E880",
           "#FF97FF",
           "#FECB52"
          ],
          "font": {
           "color": "#2a3f5f"
          },
          "geo": {
           "bgcolor": "white",
           "lakecolor": "white",
           "landcolor": "#E5ECF6",
           "showlakes": true,
           "showland": true,
           "subunitcolor": "white"
          },
          "hoverlabel": {
           "align": "left"
          },
          "hovermode": "closest",
          "mapbox": {
           "style": "light"
          },
          "paper_bgcolor": "white",
          "plot_bgcolor": "#E5ECF6",
          "polar": {
           "angularaxis": {
            "gridcolor": "white",
            "linecolor": "white",
            "ticks": ""
           },
           "bgcolor": "#E5ECF6",
           "radialaxis": {
            "gridcolor": "white",
            "linecolor": "white",
            "ticks": ""
           }
          },
          "scene": {
           "xaxis": {
            "backgroundcolor": "#E5ECF6",
            "gridcolor": "white",
            "gridwidth": 2,
            "linecolor": "white",
            "showbackground": true,
            "ticks": "",
            "zerolinecolor": "white"
           },
           "yaxis": {
            "backgroundcolor": "#E5ECF6",
            "gridcolor": "white",
            "gridwidth": 2,
            "linecolor": "white",
            "showbackground": true,
            "ticks": "",
            "zerolinecolor": "white"
           },
           "zaxis": {
            "backgroundcolor": "#E5ECF6",
            "gridcolor": "white",
            "gridwidth": 2,
            "linecolor": "white",
            "showbackground": true,
            "ticks": "",
            "zerolinecolor": "white"
           }
          },
          "shapedefaults": {
           "line": {
            "color": "#2a3f5f"
           }
          },
          "ternary": {
           "aaxis": {
            "gridcolor": "white",
            "linecolor": "white",
            "ticks": ""
           },
           "baxis": {
            "gridcolor": "white",
            "linecolor": "white",
            "ticks": ""
           },
           "bgcolor": "#E5ECF6",
           "caxis": {
            "gridcolor": "white",
            "linecolor": "white",
            "ticks": ""
           }
          },
          "title": {
           "x": 0.05
          },
          "xaxis": {
           "automargin": true,
           "gridcolor": "white",
           "linecolor": "white",
           "ticks": "",
           "title": {
            "standoff": 15
           },
           "zerolinecolor": "white",
           "zerolinewidth": 2
          },
          "yaxis": {
           "automargin": true,
           "gridcolor": "white",
           "linecolor": "white",
           "ticks": "",
           "title": {
            "standoff": 15
           },
           "zerolinecolor": "white",
           "zerolinewidth": 2
          }
         }
        },
        "xaxis": {
         "anchor": "y",
         "domain": [
          0,
          1
         ],
         "title": {
          "text": "Mass"
         }
        },
        "yaxis": {
         "anchor": "x",
         "domain": [
          0,
          1
         ],
         "title": {
          "text": "RT"
         }
        }
       }
      },
      "text/html": [
       "<div>                            <div id=\"9629d9bc-80f1-489e-b62c-a04656753dd2\" class=\"plotly-graph-div\" style=\"height:525px; width:100%;\"></div>            <script type=\"text/javascript\">                require([\"plotly\"], function(Plotly) {                    window.PLOTLYENV=window.PLOTLYENV || {};                                    if (document.getElementById(\"9629d9bc-80f1-489e-b62c-a04656753dd2\")) {                    Plotly.newPlot(                        \"9629d9bc-80f1-489e-b62c-a04656753dd2\",                        [{\"hovertemplate\": \"type=Baseline1<br>Mass=%{x}<br>RT=%{y}<extra></extra>\", \"legendgroup\": \"Baseline1\", \"marker\": {\"color\": \"#636efa\", \"symbol\": \"circle\"}, \"mode\": \"markers\", \"name\": \"Baseline1\", \"orientation\": \"v\", \"showlegend\": true, \"type\": \"scatter\", \"x\": [2635.29072544204, 2329.26403566954, 3631.41174307586, 2980.33805218022, 3325.3846879753, 7548.9323329077, 1984.21630961812, 5568.65388306123, 11662.4619412791, 12601.5924730657, 12296.5606295918, 9790.22223237134, 11051.391112235, 8490.04384741683, 8795.10136124633, 5913.70240974159, 11991.5176294349, 10746.3576024528, 14565.8771684082, 7203.88042538061, 17834.3088463449, 11357.4395084994, 15215.9574047785, 14220.8231805298, 20394.6735545453, 6529.78745054443, 20049.6723368403], \"xaxis\": \"x\", \"y\": [1.0, 1.0, 1.0, 1.0, 1.0, 1.0, 1.0, 1.0, 1.0, 1.0, 1.0, 1.0, 1.0, 1.0, 1.0, 1.0, 1.0, 1.0, 1.0, 1.0, 1.0, 1.0, 1.0, 1.0, 1.0, 1.0, 1.0], \"yaxis\": \"y\"}, {\"hovertemplate\": \"type=Baseline1+Na<br>Mass=%{x}<br>RT=%{y}<extra></extra>\", \"legendgroup\": \"Baseline1+Na\", \"marker\": {\"color\": \"#EF553B\", \"symbol\": \"circle\"}, \"mode\": \"markers\", \"name\": \"Baseline1+Na\", \"orientation\": \"v\", \"showlegend\": true, \"type\": \"scatter\", \"x\": [6551.76869968098, 7570.9161072823, 8817.0714233885, 11073.3800492798, 11684.4521640649, 9162.12246867295, 13578.7272243971, 8205.99142802131, 5245.57324227938, 12318.5568991147, 7225.87278622232, 5590.63298801247, 2657.27059341499, 13923.7638742008, 13273.6883803858, 5935.67996927386, 17856.2842279003, 16221.0615370062, 16911.1443302145, 16566.1135948361, 12968.6220157132, 14242.8038027015, 4939.5532708407, 15237.9153567577, 12623.5911986394, 19766.5230798615, 12013.5263169415], \"xaxis\": \"x\", \"y\": [1.1, 1.1, 1.1, 1.1, 1.1, 1.1, 1.1, 1.1, 1.1, 1.1, 1.1, 1.1, 1.1, 1.1, 1.1, 1.1, 1.1, 1.1, 1.1, 1.1, 1.1, 1.1, 1.1, 1.1, 1.1, 1.1, 1.1], \"yaxis\": \"y\"}, {\"hovertemplate\": \"type=Baseline1+K<br>Mass=%{x}<br>RT=%{y}<extra></extra>\", \"legendgroup\": \"Baseline1+K\", \"marker\": {\"color\": \"#00cc96\", \"symbol\": \"circle\"}, \"mode\": \"markers\", \"name\": \"Baseline1+K\", \"orientation\": \"v\", \"showlegend\": true, \"type\": \"scatter\", \"x\": [7586.8898331047, 3669.35875938102, 6259.69262429112, 5606.6023087443, 5951.63741579882, 8221.97715212592, 5261.55175028582, 7241.8432506599, 6567.74801357619, 9178.10128390887, 10784.3135231702, 11700.4310020662, 10173.2290207592, 8833.06054874109, 12984.6421138838, 12639.5989478442, 15253.9162463449, 13594.7384576037, 7915.95243194137, 13939.7599702441, 16582.1092717499], \"xaxis\": \"x\", \"y\": [1.2, 1.2, 1.2, 1.2, 1.2, 1.2, 1.2, 1.2, 1.2, 1.2, 1.2, 1.2, 1.2, 1.2, 1.2, 1.2, 1.2, 1.2, 1.2, 1.2, 1.2], \"yaxis\": \"y\"}, {\"hovertemplate\": \"type=Baseline2(Baseline1+Methyl)<br>Mass=%{x}<br>RT=%{y}<extra></extra>\", \"legendgroup\": \"Baseline2(Baseline1+Methyl)\", \"marker\": {\"color\": \"#ab63fa\", \"symbol\": \"circle\"}, \"mode\": \"markers\", \"name\": \"Baseline2(Baseline1+Methyl)\", \"orientation\": \"v\", \"showlegend\": true, \"type\": \"scatter\", \"x\": [13265.7514961636, 13570.7747028055, 4257.49693354082, 6235.75064248528, 6543.81303076399, 7217.90320144502, 15548.994977493, 4586.54768715297, 9804.23090765229, 10454.3012738136, 11065.4200889183, 8504.04263073219, 3645.43236892478, 8809.10574398195, 5237.62069040677, 10760.3908521515, 19148.433928168, 16213.0803652831, 9499.15482854196, 17543.2426994766, 12005.5734813932, 14234.8433772702], \"xaxis\": \"x\", \"y\": [2.0, 2.0, 2.0, 2.0, 2.0, 2.0, 2.0, 2.0, 2.0, 2.0, 2.0, 2.0, 2.0, 2.0, 2.0, 2.0, 2.0, 2.0, 2.0, 2.0, 2.0, 2.0], \"yaxis\": \"y\"}, {\"hovertemplate\": \"type=Baseline2+Na<br>Mass=%{x}<br>RT=%{y}<extra></extra>\", \"legendgroup\": \"Baseline2+Na\", \"marker\": {\"color\": \"#FFA15A\", \"symbol\": \"circle\"}, \"mode\": \"markers\", \"name\": \"Baseline2+Na\", \"orientation\": \"v\", \"showlegend\": true, \"type\": \"scatter\", \"x\": [13287.7024501778, 12027.4869682674, 13937.7772968157, 11698.4197748599, 15251.9090386989, 9826.20037823186], \"xaxis\": \"x\", \"y\": [2.1, 2.1, 2.1, 2.1, 2.1, 2.1], \"yaxis\": \"y\"}, {\"hovertemplate\": \"type=Baseline2+K<br>Mass=%{x}<br>RT=%{y}<extra></extra>\", \"legendgroup\": \"Baseline2+K\", \"marker\": {\"color\": \"#19d3f3\", \"symbol\": \"circle\"}, \"mode\": \"markers\", \"name\": \"Baseline2+K\", \"orientation\": \"v\", \"showlegend\": true, \"type\": \"scatter\", \"x\": [13608.71922, 15267.9072410074, 10798.2928893358, 16251.0360932222, 10492.2362112603, 11103.3402233066, 21402.7122114587, 17886.2640194966, 12348.5889081913, 10187.2035594144], \"xaxis\": \"x\", \"y\": [2.2, 2.2, 2.2, 2.2, 2.2, 2.2, 2.2, 2.2, 2.2, 2.2], \"yaxis\": \"y\"}],                        {\"legend\": {\"title\": {\"text\": \"type\"}, \"tracegroupgap\": 0}, \"margin\": {\"t\": 60}, \"template\": {\"data\": {\"bar\": [{\"error_x\": {\"color\": \"#2a3f5f\"}, \"error_y\": {\"color\": \"#2a3f5f\"}, \"marker\": {\"line\": {\"color\": \"#E5ECF6\", \"width\": 0.5}}, \"type\": \"bar\"}], \"barpolar\": [{\"marker\": {\"line\": {\"color\": \"#E5ECF6\", \"width\": 0.5}}, \"type\": \"barpolar\"}], \"carpet\": [{\"aaxis\": {\"endlinecolor\": \"#2a3f5f\", \"gridcolor\": \"white\", \"linecolor\": \"white\", \"minorgridcolor\": \"white\", \"startlinecolor\": \"#2a3f5f\"}, \"baxis\": {\"endlinecolor\": \"#2a3f5f\", \"gridcolor\": \"white\", \"linecolor\": \"white\", \"minorgridcolor\": \"white\", \"startlinecolor\": \"#2a3f5f\"}, \"type\": \"carpet\"}], \"choropleth\": [{\"colorbar\": {\"outlinewidth\": 0, \"ticks\": \"\"}, \"type\": \"choropleth\"}], \"contour\": [{\"colorbar\": {\"outlinewidth\": 0, \"ticks\": \"\"}, \"colorscale\": [[0.0, \"#0d0887\"], [0.1111111111111111, \"#46039f\"], [0.2222222222222222, \"#7201a8\"], [0.3333333333333333, \"#9c179e\"], [0.4444444444444444, \"#bd3786\"], [0.5555555555555556, \"#d8576b\"], [0.6666666666666666, \"#ed7953\"], [0.7777777777777778, \"#fb9f3a\"], [0.8888888888888888, \"#fdca26\"], [1.0, \"#f0f921\"]], \"type\": \"contour\"}], \"contourcarpet\": [{\"colorbar\": {\"outlinewidth\": 0, \"ticks\": \"\"}, \"type\": \"contourcarpet\"}], \"heatmap\": [{\"colorbar\": {\"outlinewidth\": 0, \"ticks\": \"\"}, \"colorscale\": [[0.0, \"#0d0887\"], [0.1111111111111111, \"#46039f\"], [0.2222222222222222, \"#7201a8\"], [0.3333333333333333, \"#9c179e\"], [0.4444444444444444, \"#bd3786\"], [0.5555555555555556, \"#d8576b\"], [0.6666666666666666, \"#ed7953\"], [0.7777777777777778, \"#fb9f3a\"], [0.8888888888888888, \"#fdca26\"], [1.0, \"#f0f921\"]], \"type\": \"heatmap\"}], \"heatmapgl\": [{\"colorbar\": {\"outlinewidth\": 0, \"ticks\": \"\"}, \"colorscale\": [[0.0, \"#0d0887\"], [0.1111111111111111, \"#46039f\"], [0.2222222222222222, \"#7201a8\"], [0.3333333333333333, \"#9c179e\"], [0.4444444444444444, \"#bd3786\"], [0.5555555555555556, \"#d8576b\"], [0.6666666666666666, \"#ed7953\"], [0.7777777777777778, \"#fb9f3a\"], [0.8888888888888888, \"#fdca26\"], [1.0, \"#f0f921\"]], \"type\": \"heatmapgl\"}], \"histogram\": [{\"marker\": {\"colorbar\": {\"outlinewidth\": 0, \"ticks\": \"\"}}, \"type\": \"histogram\"}], \"histogram2d\": [{\"colorbar\": {\"outlinewidth\": 0, \"ticks\": \"\"}, \"colorscale\": [[0.0, \"#0d0887\"], [0.1111111111111111, \"#46039f\"], [0.2222222222222222, \"#7201a8\"], [0.3333333333333333, \"#9c179e\"], [0.4444444444444444, \"#bd3786\"], [0.5555555555555556, \"#d8576b\"], [0.6666666666666666, \"#ed7953\"], [0.7777777777777778, \"#fb9f3a\"], [0.8888888888888888, \"#fdca26\"], [1.0, \"#f0f921\"]], \"type\": \"histogram2d\"}], \"histogram2dcontour\": [{\"colorbar\": {\"outlinewidth\": 0, \"ticks\": \"\"}, \"colorscale\": [[0.0, \"#0d0887\"], [0.1111111111111111, \"#46039f\"], [0.2222222222222222, \"#7201a8\"], [0.3333333333333333, \"#9c179e\"], [0.4444444444444444, \"#bd3786\"], [0.5555555555555556, \"#d8576b\"], [0.6666666666666666, \"#ed7953\"], [0.7777777777777778, \"#fb9f3a\"], [0.8888888888888888, \"#fdca26\"], [1.0, \"#f0f921\"]], \"type\": \"histogram2dcontour\"}], \"mesh3d\": [{\"colorbar\": {\"outlinewidth\": 0, \"ticks\": \"\"}, \"type\": \"mesh3d\"}], \"parcoords\": [{\"line\": {\"colorbar\": {\"outlinewidth\": 0, \"ticks\": \"\"}}, \"type\": \"parcoords\"}], \"pie\": [{\"automargin\": true, \"type\": \"pie\"}], \"scatter\": [{\"marker\": {\"colorbar\": {\"outlinewidth\": 0, \"ticks\": \"\"}}, \"type\": \"scatter\"}], \"scatter3d\": [{\"line\": {\"colorbar\": {\"outlinewidth\": 0, \"ticks\": \"\"}}, \"marker\": {\"colorbar\": {\"outlinewidth\": 0, \"ticks\": \"\"}}, \"type\": \"scatter3d\"}], \"scattercarpet\": [{\"marker\": {\"colorbar\": {\"outlinewidth\": 0, \"ticks\": \"\"}}, \"type\": \"scattercarpet\"}], \"scattergeo\": [{\"marker\": {\"colorbar\": {\"outlinewidth\": 0, \"ticks\": \"\"}}, \"type\": \"scattergeo\"}], \"scattergl\": [{\"marker\": {\"colorbar\": {\"outlinewidth\": 0, \"ticks\": \"\"}}, \"type\": \"scattergl\"}], \"scattermapbox\": [{\"marker\": {\"colorbar\": {\"outlinewidth\": 0, \"ticks\": \"\"}}, \"type\": \"scattermapbox\"}], \"scatterpolar\": [{\"marker\": {\"colorbar\": {\"outlinewidth\": 0, \"ticks\": \"\"}}, \"type\": \"scatterpolar\"}], \"scatterpolargl\": [{\"marker\": {\"colorbar\": {\"outlinewidth\": 0, \"ticks\": \"\"}}, \"type\": \"scatterpolargl\"}], \"scatterternary\": [{\"marker\": {\"colorbar\": {\"outlinewidth\": 0, \"ticks\": \"\"}}, \"type\": \"scatterternary\"}], \"surface\": [{\"colorbar\": {\"outlinewidth\": 0, \"ticks\": \"\"}, \"colorscale\": [[0.0, \"#0d0887\"], [0.1111111111111111, \"#46039f\"], [0.2222222222222222, \"#7201a8\"], [0.3333333333333333, \"#9c179e\"], [0.4444444444444444, \"#bd3786\"], [0.5555555555555556, \"#d8576b\"], [0.6666666666666666, \"#ed7953\"], [0.7777777777777778, \"#fb9f3a\"], [0.8888888888888888, \"#fdca26\"], [1.0, \"#f0f921\"]], \"type\": \"surface\"}], \"table\": [{\"cells\": {\"fill\": {\"color\": \"#EBF0F8\"}, \"line\": {\"color\": \"white\"}}, \"header\": {\"fill\": {\"color\": \"#C8D4E3\"}, \"line\": {\"color\": \"white\"}}, \"type\": \"table\"}]}, \"layout\": {\"annotationdefaults\": {\"arrowcolor\": \"#2a3f5f\", \"arrowhead\": 0, \"arrowwidth\": 1}, \"autotypenumbers\": \"strict\", \"coloraxis\": {\"colorbar\": {\"outlinewidth\": 0, \"ticks\": \"\"}}, \"colorscale\": {\"diverging\": [[0, \"#8e0152\"], [0.1, \"#c51b7d\"], [0.2, \"#de77ae\"], [0.3, \"#f1b6da\"], [0.4, \"#fde0ef\"], [0.5, \"#f7f7f7\"], [0.6, \"#e6f5d0\"], [0.7, \"#b8e186\"], [0.8, \"#7fbc41\"], [0.9, \"#4d9221\"], [1, \"#276419\"]], \"sequential\": [[0.0, \"#0d0887\"], [0.1111111111111111, \"#46039f\"], [0.2222222222222222, \"#7201a8\"], [0.3333333333333333, \"#9c179e\"], [0.4444444444444444, \"#bd3786\"], [0.5555555555555556, \"#d8576b\"], [0.6666666666666666, \"#ed7953\"], [0.7777777777777778, \"#fb9f3a\"], [0.8888888888888888, \"#fdca26\"], [1.0, \"#f0f921\"]], \"sequentialminus\": [[0.0, \"#0d0887\"], [0.1111111111111111, \"#46039f\"], [0.2222222222222222, \"#7201a8\"], [0.3333333333333333, \"#9c179e\"], [0.4444444444444444, \"#bd3786\"], [0.5555555555555556, \"#d8576b\"], [0.6666666666666666, \"#ed7953\"], [0.7777777777777778, \"#fb9f3a\"], [0.8888888888888888, \"#fdca26\"], [1.0, \"#f0f921\"]]}, \"colorway\": [\"#636efa\", \"#EF553B\", \"#00cc96\", \"#ab63fa\", \"#FFA15A\", \"#19d3f3\", \"#FF6692\", \"#B6E880\", \"#FF97FF\", \"#FECB52\"], \"font\": {\"color\": \"#2a3f5f\"}, \"geo\": {\"bgcolor\": \"white\", \"lakecolor\": \"white\", \"landcolor\": \"#E5ECF6\", \"showlakes\": true, \"showland\": true, \"subunitcolor\": \"white\"}, \"hoverlabel\": {\"align\": \"left\"}, \"hovermode\": \"closest\", \"mapbox\": {\"style\": \"light\"}, \"paper_bgcolor\": \"white\", \"plot_bgcolor\": \"#E5ECF6\", \"polar\": {\"angularaxis\": {\"gridcolor\": \"white\", \"linecolor\": \"white\", \"ticks\": \"\"}, \"bgcolor\": \"#E5ECF6\", \"radialaxis\": {\"gridcolor\": \"white\", \"linecolor\": \"white\", \"ticks\": \"\"}}, \"scene\": {\"xaxis\": {\"backgroundcolor\": \"#E5ECF6\", \"gridcolor\": \"white\", \"gridwidth\": 2, \"linecolor\": \"white\", \"showbackground\": true, \"ticks\": \"\", \"zerolinecolor\": \"white\"}, \"yaxis\": {\"backgroundcolor\": \"#E5ECF6\", \"gridcolor\": \"white\", \"gridwidth\": 2, \"linecolor\": \"white\", \"showbackground\": true, \"ticks\": \"\", \"zerolinecolor\": \"white\"}, \"zaxis\": {\"backgroundcolor\": \"#E5ECF6\", \"gridcolor\": \"white\", \"gridwidth\": 2, \"linecolor\": \"white\", \"showbackground\": true, \"ticks\": \"\", \"zerolinecolor\": \"white\"}}, \"shapedefaults\": {\"line\": {\"color\": \"#2a3f5f\"}}, \"ternary\": {\"aaxis\": {\"gridcolor\": \"white\", \"linecolor\": \"white\", \"ticks\": \"\"}, \"baxis\": {\"gridcolor\": \"white\", \"linecolor\": \"white\", \"ticks\": \"\"}, \"bgcolor\": \"#E5ECF6\", \"caxis\": {\"gridcolor\": \"white\", \"linecolor\": \"white\", \"ticks\": \"\"}}, \"title\": {\"x\": 0.05}, \"xaxis\": {\"automargin\": true, \"gridcolor\": \"white\", \"linecolor\": \"white\", \"ticks\": \"\", \"title\": {\"standoff\": 15}, \"zerolinecolor\": \"white\", \"zerolinewidth\": 2}, \"yaxis\": {\"automargin\": true, \"gridcolor\": \"white\", \"linecolor\": \"white\", \"ticks\": \"\", \"title\": {\"standoff\": 15}, \"zerolinecolor\": \"white\", \"zerolinewidth\": 2}}}, \"xaxis\": {\"anchor\": \"y\", \"domain\": [0.0, 1.0], \"title\": {\"text\": \"Mass\"}}, \"yaxis\": {\"anchor\": \"x\", \"domain\": [0.0, 1.0], \"title\": {\"text\": \"RT\"}}},                        {\"responsive\": true}                    ).then(function(){\n",
       "                            \n",
       "var gd = document.getElementById('9629d9bc-80f1-489e-b62c-a04656753dd2');\n",
       "var x = new MutationObserver(function (mutations, observer) {{\n",
       "        var display = window.getComputedStyle(gd).display;\n",
       "        if (!display || display === 'none') {{\n",
       "            console.log([gd, 'removed!']);\n",
       "            Plotly.purge(gd);\n",
       "            observer.disconnect();\n",
       "        }}\n",
       "}});\n",
       "\n",
       "// Listen for the removal of the full notebook cells\n",
       "var notebookContainer = gd.closest('#notebook-container');\n",
       "if (notebookContainer) {{\n",
       "    x.observe(notebookContainer, {childList: true});\n",
       "}}\n",
       "\n",
       "// Listen for the clearing of the current output cell\n",
       "var outputEl = gd.closest('.output');\n",
       "if (outputEl) {{\n",
       "    x.observe(outputEl, {childList: true});\n",
       "}}\n",
       "\n",
       "                        })                };                });            </script>        </div>"
      ]
     },
     "metadata": {},
     "output_type": "display_data"
    },
    {
     "data": {
      "application/vnd.plotly.v1+json": {
       "config": {
        "plotlyServerURL": "https://plot.ly"
       },
       "data": [
        {
         "hovertemplate": "type=Baseline1<br>Mass=%{x}<br>Vol=%{y}<extra></extra>",
         "legendgroup": "Baseline1",
         "marker": {
          "color": "#636efa",
          "symbol": "circle"
         },
         "mode": "markers",
         "name": "Baseline1",
         "orientation": "v",
         "showlegend": true,
         "type": "scatter",
         "x": [
          2635.29072544204,
          2329.26403566954,
          3631.41174307586,
          2980.33805218022,
          3325.3846879753,
          7548.9323329077,
          1984.21630961812,
          5568.65388306123,
          11662.4619412791,
          12601.5924730657,
          12296.5606295918,
          9790.22223237134,
          11051.391112235,
          8490.04384741683,
          8795.10136124633,
          5913.70240974159,
          11991.5176294349,
          10746.3576024528,
          14565.8771684082,
          7203.88042538061,
          17834.3088463449,
          11357.4395084994,
          15215.9574047785,
          14220.8231805298,
          20394.6735545453,
          6529.78745054443,
          20049.6723368403
         ],
         "xaxis": "x",
         "y": [
          360564.31,
          305164.09,
          269022.72,
          179470.59,
          141565.45,
          113127.49,
          103158.37,
          77780.89,
          65035.66,
          48796.6,
          46290.66,
          33744.17,
          30722.3,
          21156.73,
          20963.64,
          19152.53,
          15861.56,
          12183.06,
          9467.71,
          7372.28,
          7360.85,
          6621.75,
          6119.03,
          4214.04,
          3170.39,
          2604.58,
          2411.11
         ],
         "yaxis": "y"
        },
        {
         "hovertemplate": "type=Baseline1+Na<br>Mass=%{x}<br>Vol=%{y}<extra></extra>",
         "legendgroup": "Baseline1+Na",
         "marker": {
          "color": "#EF553B",
          "symbol": "circle"
         },
         "mode": "markers",
         "name": "Baseline1+Na",
         "orientation": "v",
         "showlegend": true,
         "type": "scatter",
         "x": [
          6551.76869968098,
          7570.9161072823,
          8817.0714233885,
          11073.3800492798,
          11684.4521640649,
          9162.12246867295,
          13578.7272243971,
          8205.99142802131,
          5245.57324227938,
          12318.5568991147,
          7225.87278622232,
          5590.63298801247,
          2657.27059341499,
          13923.7638742008,
          13273.6883803858,
          5935.67996927386,
          17856.2842279003,
          16221.0615370062,
          16911.1443302145,
          16566.1135948361,
          12968.6220157132,
          14242.8038027015,
          4939.5532708407,
          15237.9153567577,
          12623.5911986394,
          19766.5230798615,
          12013.5263169415
         ],
         "xaxis": "x",
         "y": [
          27920.09,
          20041.05,
          17081.13,
          15330.67,
          13871.47,
          13628.16,
          12958.39,
          12121.06,
          9980.42,
          9900.99,
          9418.13,
          6825.01,
          6413.51,
          5221.94,
          5205.4,
          5196.39,
          5100.52,
          4942.12,
          4285.65,
          4020.58,
          3645.92,
          3537.24,
          3111.94,
          3002.15,
          2258.51,
          2084.81,
          1899.89
         ],
         "yaxis": "y"
        },
        {
         "hovertemplate": "type=Baseline1+K<br>Mass=%{x}<br>Vol=%{y}<extra></extra>",
         "legendgroup": "Baseline1+K",
         "marker": {
          "color": "#00cc96",
          "symbol": "circle"
         },
         "mode": "markers",
         "name": "Baseline1+K",
         "orientation": "v",
         "showlegend": true,
         "type": "scatter",
         "x": [
          7586.8898331047,
          3669.35875938102,
          6259.69262429112,
          5606.6023087443,
          5951.63741579882,
          8221.97715212592,
          5261.55175028582,
          7241.8432506599,
          6567.74801357619,
          9178.10128390887,
          10784.3135231702,
          11700.4310020662,
          10173.2290207592,
          8833.06054874109,
          12984.6421138838,
          12639.5989478442,
          15253.9162463449,
          13594.7384576037,
          7915.95243194137,
          13939.7599702441,
          16582.1092717499
         ],
         "xaxis": "x",
         "y": [
          47786.38,
          44858.37,
          37725.26,
          30538.97,
          27804.04,
          24188.16,
          24016.89,
          16290.4,
          14436.01,
          14377.73,
          12413.98,
          11850.95,
          9358.15,
          7254.68,
          6764.27,
          6205.06,
          6075,
          5973.99,
          5540.15,
          5050.02,
          2589.44
         ],
         "yaxis": "y"
        },
        {
         "hovertemplate": "type=Baseline2(Baseline1+Methyl)<br>Mass=%{x}<br>Vol=%{y}<extra></extra>",
         "legendgroup": "Baseline2(Baseline1+Methyl)",
         "marker": {
          "color": "#ab63fa",
          "symbol": "circle"
         },
         "mode": "markers",
         "name": "Baseline2(Baseline1+Methyl)",
         "orientation": "v",
         "showlegend": true,
         "type": "scatter",
         "x": [
          13265.7514961636,
          13570.7747028055,
          4257.49693354082,
          6235.75064248528,
          6543.81303076399,
          7217.90320144502,
          15548.994977493,
          4586.54768715297,
          9804.23090765229,
          10454.3012738136,
          11065.4200889183,
          8504.04263073219,
          3645.43236892478,
          8809.10574398195,
          5237.62069040677,
          10760.3908521515,
          19148.433928168,
          16213.0803652831,
          9499.15482854196,
          17543.2426994766,
          12005.5734813932,
          14234.8433772702
         ],
         "xaxis": "x",
         "y": [
          21863.49,
          14314.53,
          12151.85,
          9783.86,
          9761.25,
          7950.09,
          7546.82,
          7104.21,
          5425.96,
          5147.02,
          5114.72,
          4830.57,
          4479.26,
          4472.38,
          4436.46,
          3962.78,
          3211.59,
          3162.44,
          2520.71,
          2233.55,
          877.85,
          747.52
         ],
         "yaxis": "y"
        },
        {
         "hovertemplate": "type=Baseline2+Na<br>Mass=%{x}<br>Vol=%{y}<extra></extra>",
         "legendgroup": "Baseline2+Na",
         "marker": {
          "color": "#FFA15A",
          "symbol": "circle"
         },
         "mode": "markers",
         "name": "Baseline2+Na",
         "orientation": "v",
         "showlegend": true,
         "type": "scatter",
         "x": [
          13287.7024501778,
          12027.4869682674,
          13937.7772968157,
          11698.4197748599,
          15251.9090386989,
          9826.20037823186
         ],
         "xaxis": "x",
         "y": [
          22519.99,
          17727.09,
          7839.1,
          4229.97,
          3702.35,
          2226.97
         ],
         "yaxis": "y"
        },
        {
         "hovertemplate": "type=Baseline2+K<br>Mass=%{x}<br>Vol=%{y}<extra></extra>",
         "legendgroup": "Baseline2+K",
         "marker": {
          "color": "#19d3f3",
          "symbol": "circle"
         },
         "mode": "markers",
         "name": "Baseline2+K",
         "orientation": "v",
         "showlegend": true,
         "type": "scatter",
         "x": [
          13608.71922,
          15267.9072410074,
          10798.2928893358,
          16251.0360932222,
          10492.2362112603,
          11103.3402233066,
          21402.7122114587,
          17886.2640194966,
          12348.5889081913,
          10187.2035594144
         ],
         "xaxis": "x",
         "y": [
          4547.26,
          4413.93,
          3360.5,
          2948.15,
          2101.8,
          1755.38,
          1626.54,
          1521.55,
          1437.74,
          1088.49
         ],
         "yaxis": "y"
        }
       ],
       "layout": {
        "legend": {
         "title": {
          "text": "type"
         },
         "tracegroupgap": 0
        },
        "margin": {
         "t": 60
        },
        "template": {
         "data": {
          "bar": [
           {
            "error_x": {
             "color": "#2a3f5f"
            },
            "error_y": {
             "color": "#2a3f5f"
            },
            "marker": {
             "line": {
              "color": "#E5ECF6",
              "width": 0.5
             }
            },
            "type": "bar"
           }
          ],
          "barpolar": [
           {
            "marker": {
             "line": {
              "color": "#E5ECF6",
              "width": 0.5
             }
            },
            "type": "barpolar"
           }
          ],
          "carpet": [
           {
            "aaxis": {
             "endlinecolor": "#2a3f5f",
             "gridcolor": "white",
             "linecolor": "white",
             "minorgridcolor": "white",
             "startlinecolor": "#2a3f5f"
            },
            "baxis": {
             "endlinecolor": "#2a3f5f",
             "gridcolor": "white",
             "linecolor": "white",
             "minorgridcolor": "white",
             "startlinecolor": "#2a3f5f"
            },
            "type": "carpet"
           }
          ],
          "choropleth": [
           {
            "colorbar": {
             "outlinewidth": 0,
             "ticks": ""
            },
            "type": "choropleth"
           }
          ],
          "contour": [
           {
            "colorbar": {
             "outlinewidth": 0,
             "ticks": ""
            },
            "colorscale": [
             [
              0,
              "#0d0887"
             ],
             [
              0.1111111111111111,
              "#46039f"
             ],
             [
              0.2222222222222222,
              "#7201a8"
             ],
             [
              0.3333333333333333,
              "#9c179e"
             ],
             [
              0.4444444444444444,
              "#bd3786"
             ],
             [
              0.5555555555555556,
              "#d8576b"
             ],
             [
              0.6666666666666666,
              "#ed7953"
             ],
             [
              0.7777777777777778,
              "#fb9f3a"
             ],
             [
              0.8888888888888888,
              "#fdca26"
             ],
             [
              1,
              "#f0f921"
             ]
            ],
            "type": "contour"
           }
          ],
          "contourcarpet": [
           {
            "colorbar": {
             "outlinewidth": 0,
             "ticks": ""
            },
            "type": "contourcarpet"
           }
          ],
          "heatmap": [
           {
            "colorbar": {
             "outlinewidth": 0,
             "ticks": ""
            },
            "colorscale": [
             [
              0,
              "#0d0887"
             ],
             [
              0.1111111111111111,
              "#46039f"
             ],
             [
              0.2222222222222222,
              "#7201a8"
             ],
             [
              0.3333333333333333,
              "#9c179e"
             ],
             [
              0.4444444444444444,
              "#bd3786"
             ],
             [
              0.5555555555555556,
              "#d8576b"
             ],
             [
              0.6666666666666666,
              "#ed7953"
             ],
             [
              0.7777777777777778,
              "#fb9f3a"
             ],
             [
              0.8888888888888888,
              "#fdca26"
             ],
             [
              1,
              "#f0f921"
             ]
            ],
            "type": "heatmap"
           }
          ],
          "heatmapgl": [
           {
            "colorbar": {
             "outlinewidth": 0,
             "ticks": ""
            },
            "colorscale": [
             [
              0,
              "#0d0887"
             ],
             [
              0.1111111111111111,
              "#46039f"
             ],
             [
              0.2222222222222222,
              "#7201a8"
             ],
             [
              0.3333333333333333,
              "#9c179e"
             ],
             [
              0.4444444444444444,
              "#bd3786"
             ],
             [
              0.5555555555555556,
              "#d8576b"
             ],
             [
              0.6666666666666666,
              "#ed7953"
             ],
             [
              0.7777777777777778,
              "#fb9f3a"
             ],
             [
              0.8888888888888888,
              "#fdca26"
             ],
             [
              1,
              "#f0f921"
             ]
            ],
            "type": "heatmapgl"
           }
          ],
          "histogram": [
           {
            "marker": {
             "colorbar": {
              "outlinewidth": 0,
              "ticks": ""
             }
            },
            "type": "histogram"
           }
          ],
          "histogram2d": [
           {
            "colorbar": {
             "outlinewidth": 0,
             "ticks": ""
            },
            "colorscale": [
             [
              0,
              "#0d0887"
             ],
             [
              0.1111111111111111,
              "#46039f"
             ],
             [
              0.2222222222222222,
              "#7201a8"
             ],
             [
              0.3333333333333333,
              "#9c179e"
             ],
             [
              0.4444444444444444,
              "#bd3786"
             ],
             [
              0.5555555555555556,
              "#d8576b"
             ],
             [
              0.6666666666666666,
              "#ed7953"
             ],
             [
              0.7777777777777778,
              "#fb9f3a"
             ],
             [
              0.8888888888888888,
              "#fdca26"
             ],
             [
              1,
              "#f0f921"
             ]
            ],
            "type": "histogram2d"
           }
          ],
          "histogram2dcontour": [
           {
            "colorbar": {
             "outlinewidth": 0,
             "ticks": ""
            },
            "colorscale": [
             [
              0,
              "#0d0887"
             ],
             [
              0.1111111111111111,
              "#46039f"
             ],
             [
              0.2222222222222222,
              "#7201a8"
             ],
             [
              0.3333333333333333,
              "#9c179e"
             ],
             [
              0.4444444444444444,
              "#bd3786"
             ],
             [
              0.5555555555555556,
              "#d8576b"
             ],
             [
              0.6666666666666666,
              "#ed7953"
             ],
             [
              0.7777777777777778,
              "#fb9f3a"
             ],
             [
              0.8888888888888888,
              "#fdca26"
             ],
             [
              1,
              "#f0f921"
             ]
            ],
            "type": "histogram2dcontour"
           }
          ],
          "mesh3d": [
           {
            "colorbar": {
             "outlinewidth": 0,
             "ticks": ""
            },
            "type": "mesh3d"
           }
          ],
          "parcoords": [
           {
            "line": {
             "colorbar": {
              "outlinewidth": 0,
              "ticks": ""
             }
            },
            "type": "parcoords"
           }
          ],
          "pie": [
           {
            "automargin": true,
            "type": "pie"
           }
          ],
          "scatter": [
           {
            "marker": {
             "colorbar": {
              "outlinewidth": 0,
              "ticks": ""
             }
            },
            "type": "scatter"
           }
          ],
          "scatter3d": [
           {
            "line": {
             "colorbar": {
              "outlinewidth": 0,
              "ticks": ""
             }
            },
            "marker": {
             "colorbar": {
              "outlinewidth": 0,
              "ticks": ""
             }
            },
            "type": "scatter3d"
           }
          ],
          "scattercarpet": [
           {
            "marker": {
             "colorbar": {
              "outlinewidth": 0,
              "ticks": ""
             }
            },
            "type": "scattercarpet"
           }
          ],
          "scattergeo": [
           {
            "marker": {
             "colorbar": {
              "outlinewidth": 0,
              "ticks": ""
             }
            },
            "type": "scattergeo"
           }
          ],
          "scattergl": [
           {
            "marker": {
             "colorbar": {
              "outlinewidth": 0,
              "ticks": ""
             }
            },
            "type": "scattergl"
           }
          ],
          "scattermapbox": [
           {
            "marker": {
             "colorbar": {
              "outlinewidth": 0,
              "ticks": ""
             }
            },
            "type": "scattermapbox"
           }
          ],
          "scatterpolar": [
           {
            "marker": {
             "colorbar": {
              "outlinewidth": 0,
              "ticks": ""
             }
            },
            "type": "scatterpolar"
           }
          ],
          "scatterpolargl": [
           {
            "marker": {
             "colorbar": {
              "outlinewidth": 0,
              "ticks": ""
             }
            },
            "type": "scatterpolargl"
           }
          ],
          "scatterternary": [
           {
            "marker": {
             "colorbar": {
              "outlinewidth": 0,
              "ticks": ""
             }
            },
            "type": "scatterternary"
           }
          ],
          "surface": [
           {
            "colorbar": {
             "outlinewidth": 0,
             "ticks": ""
            },
            "colorscale": [
             [
              0,
              "#0d0887"
             ],
             [
              0.1111111111111111,
              "#46039f"
             ],
             [
              0.2222222222222222,
              "#7201a8"
             ],
             [
              0.3333333333333333,
              "#9c179e"
             ],
             [
              0.4444444444444444,
              "#bd3786"
             ],
             [
              0.5555555555555556,
              "#d8576b"
             ],
             [
              0.6666666666666666,
              "#ed7953"
             ],
             [
              0.7777777777777778,
              "#fb9f3a"
             ],
             [
              0.8888888888888888,
              "#fdca26"
             ],
             [
              1,
              "#f0f921"
             ]
            ],
            "type": "surface"
           }
          ],
          "table": [
           {
            "cells": {
             "fill": {
              "color": "#EBF0F8"
             },
             "line": {
              "color": "white"
             }
            },
            "header": {
             "fill": {
              "color": "#C8D4E3"
             },
             "line": {
              "color": "white"
             }
            },
            "type": "table"
           }
          ]
         },
         "layout": {
          "annotationdefaults": {
           "arrowcolor": "#2a3f5f",
           "arrowhead": 0,
           "arrowwidth": 1
          },
          "autotypenumbers": "strict",
          "coloraxis": {
           "colorbar": {
            "outlinewidth": 0,
            "ticks": ""
           }
          },
          "colorscale": {
           "diverging": [
            [
             0,
             "#8e0152"
            ],
            [
             0.1,
             "#c51b7d"
            ],
            [
             0.2,
             "#de77ae"
            ],
            [
             0.3,
             "#f1b6da"
            ],
            [
             0.4,
             "#fde0ef"
            ],
            [
             0.5,
             "#f7f7f7"
            ],
            [
             0.6,
             "#e6f5d0"
            ],
            [
             0.7,
             "#b8e186"
            ],
            [
             0.8,
             "#7fbc41"
            ],
            [
             0.9,
             "#4d9221"
            ],
            [
             1,
             "#276419"
            ]
           ],
           "sequential": [
            [
             0,
             "#0d0887"
            ],
            [
             0.1111111111111111,
             "#46039f"
            ],
            [
             0.2222222222222222,
             "#7201a8"
            ],
            [
             0.3333333333333333,
             "#9c179e"
            ],
            [
             0.4444444444444444,
             "#bd3786"
            ],
            [
             0.5555555555555556,
             "#d8576b"
            ],
            [
             0.6666666666666666,
             "#ed7953"
            ],
            [
             0.7777777777777778,
             "#fb9f3a"
            ],
            [
             0.8888888888888888,
             "#fdca26"
            ],
            [
             1,
             "#f0f921"
            ]
           ],
           "sequentialminus": [
            [
             0,
             "#0d0887"
            ],
            [
             0.1111111111111111,
             "#46039f"
            ],
            [
             0.2222222222222222,
             "#7201a8"
            ],
            [
             0.3333333333333333,
             "#9c179e"
            ],
            [
             0.4444444444444444,
             "#bd3786"
            ],
            [
             0.5555555555555556,
             "#d8576b"
            ],
            [
             0.6666666666666666,
             "#ed7953"
            ],
            [
             0.7777777777777778,
             "#fb9f3a"
            ],
            [
             0.8888888888888888,
             "#fdca26"
            ],
            [
             1,
             "#f0f921"
            ]
           ]
          },
          "colorway": [
           "#636efa",
           "#EF553B",
           "#00cc96",
           "#ab63fa",
           "#FFA15A",
           "#19d3f3",
           "#FF6692",
           "#B6E880",
           "#FF97FF",
           "#FECB52"
          ],
          "font": {
           "color": "#2a3f5f"
          },
          "geo": {
           "bgcolor": "white",
           "lakecolor": "white",
           "landcolor": "#E5ECF6",
           "showlakes": true,
           "showland": true,
           "subunitcolor": "white"
          },
          "hoverlabel": {
           "align": "left"
          },
          "hovermode": "closest",
          "mapbox": {
           "style": "light"
          },
          "paper_bgcolor": "white",
          "plot_bgcolor": "#E5ECF6",
          "polar": {
           "angularaxis": {
            "gridcolor": "white",
            "linecolor": "white",
            "ticks": ""
           },
           "bgcolor": "#E5ECF6",
           "radialaxis": {
            "gridcolor": "white",
            "linecolor": "white",
            "ticks": ""
           }
          },
          "scene": {
           "xaxis": {
            "backgroundcolor": "#E5ECF6",
            "gridcolor": "white",
            "gridwidth": 2,
            "linecolor": "white",
            "showbackground": true,
            "ticks": "",
            "zerolinecolor": "white"
           },
           "yaxis": {
            "backgroundcolor": "#E5ECF6",
            "gridcolor": "white",
            "gridwidth": 2,
            "linecolor": "white",
            "showbackground": true,
            "ticks": "",
            "zerolinecolor": "white"
           },
           "zaxis": {
            "backgroundcolor": "#E5ECF6",
            "gridcolor": "white",
            "gridwidth": 2,
            "linecolor": "white",
            "showbackground": true,
            "ticks": "",
            "zerolinecolor": "white"
           }
          },
          "shapedefaults": {
           "line": {
            "color": "#2a3f5f"
           }
          },
          "ternary": {
           "aaxis": {
            "gridcolor": "white",
            "linecolor": "white",
            "ticks": ""
           },
           "baxis": {
            "gridcolor": "white",
            "linecolor": "white",
            "ticks": ""
           },
           "bgcolor": "#E5ECF6",
           "caxis": {
            "gridcolor": "white",
            "linecolor": "white",
            "ticks": ""
           }
          },
          "title": {
           "x": 0.05
          },
          "xaxis": {
           "automargin": true,
           "gridcolor": "white",
           "linecolor": "white",
           "ticks": "",
           "title": {
            "standoff": 15
           },
           "zerolinecolor": "white",
           "zerolinewidth": 2
          },
          "yaxis": {
           "automargin": true,
           "gridcolor": "white",
           "linecolor": "white",
           "ticks": "",
           "title": {
            "standoff": 15
           },
           "zerolinecolor": "white",
           "zerolinewidth": 2
          }
         }
        },
        "xaxis": {
         "anchor": "y",
         "domain": [
          0,
          1
         ],
         "title": {
          "text": "Mass"
         }
        },
        "yaxis": {
         "anchor": "x",
         "domain": [
          0,
          1
         ],
         "title": {
          "text": "Vol"
         }
        }
       }
      },
      "text/html": [
       "<div>                            <div id=\"1d0df0c1-5ce2-4f42-af44-75ba96398c82\" class=\"plotly-graph-div\" style=\"height:525px; width:100%;\"></div>            <script type=\"text/javascript\">                require([\"plotly\"], function(Plotly) {                    window.PLOTLYENV=window.PLOTLYENV || {};                                    if (document.getElementById(\"1d0df0c1-5ce2-4f42-af44-75ba96398c82\")) {                    Plotly.newPlot(                        \"1d0df0c1-5ce2-4f42-af44-75ba96398c82\",                        [{\"hovertemplate\": \"type=Baseline1<br>Mass=%{x}<br>Vol=%{y}<extra></extra>\", \"legendgroup\": \"Baseline1\", \"marker\": {\"color\": \"#636efa\", \"symbol\": \"circle\"}, \"mode\": \"markers\", \"name\": \"Baseline1\", \"orientation\": \"v\", \"showlegend\": true, \"type\": \"scatter\", \"x\": [2635.29072544204, 2329.26403566954, 3631.41174307586, 2980.33805218022, 3325.3846879753, 7548.9323329077, 1984.21630961812, 5568.65388306123, 11662.4619412791, 12601.5924730657, 12296.5606295918, 9790.22223237134, 11051.391112235, 8490.04384741683, 8795.10136124633, 5913.70240974159, 11991.5176294349, 10746.3576024528, 14565.8771684082, 7203.88042538061, 17834.3088463449, 11357.4395084994, 15215.9574047785, 14220.8231805298, 20394.6735545453, 6529.78745054443, 20049.6723368403], \"xaxis\": \"x\", \"y\": [360564.31, 305164.09, 269022.72, 179470.59, 141565.45, 113127.49, 103158.37, 77780.89, 65035.66, 48796.6, 46290.66, 33744.17, 30722.3, 21156.73, 20963.64, 19152.53, 15861.56, 12183.06, 9467.71, 7372.28, 7360.85, 6621.75, 6119.03, 4214.04, 3170.39, 2604.58, 2411.11], \"yaxis\": \"y\"}, {\"hovertemplate\": \"type=Baseline1+Na<br>Mass=%{x}<br>Vol=%{y}<extra></extra>\", \"legendgroup\": \"Baseline1+Na\", \"marker\": {\"color\": \"#EF553B\", \"symbol\": \"circle\"}, \"mode\": \"markers\", \"name\": \"Baseline1+Na\", \"orientation\": \"v\", \"showlegend\": true, \"type\": \"scatter\", \"x\": [6551.76869968098, 7570.9161072823, 8817.0714233885, 11073.3800492798, 11684.4521640649, 9162.12246867295, 13578.7272243971, 8205.99142802131, 5245.57324227938, 12318.5568991147, 7225.87278622232, 5590.63298801247, 2657.27059341499, 13923.7638742008, 13273.6883803858, 5935.67996927386, 17856.2842279003, 16221.0615370062, 16911.1443302145, 16566.1135948361, 12968.6220157132, 14242.8038027015, 4939.5532708407, 15237.9153567577, 12623.5911986394, 19766.5230798615, 12013.5263169415], \"xaxis\": \"x\", \"y\": [27920.09, 20041.05, 17081.13, 15330.67, 13871.47, 13628.16, 12958.39, 12121.06, 9980.42, 9900.99, 9418.13, 6825.01, 6413.51, 5221.94, 5205.4, 5196.39, 5100.52, 4942.12, 4285.65, 4020.58, 3645.92, 3537.24, 3111.94, 3002.15, 2258.51, 2084.81, 1899.89], \"yaxis\": \"y\"}, {\"hovertemplate\": \"type=Baseline1+K<br>Mass=%{x}<br>Vol=%{y}<extra></extra>\", \"legendgroup\": \"Baseline1+K\", \"marker\": {\"color\": \"#00cc96\", \"symbol\": \"circle\"}, \"mode\": \"markers\", \"name\": \"Baseline1+K\", \"orientation\": \"v\", \"showlegend\": true, \"type\": \"scatter\", \"x\": [7586.8898331047, 3669.35875938102, 6259.69262429112, 5606.6023087443, 5951.63741579882, 8221.97715212592, 5261.55175028582, 7241.8432506599, 6567.74801357619, 9178.10128390887, 10784.3135231702, 11700.4310020662, 10173.2290207592, 8833.06054874109, 12984.6421138838, 12639.5989478442, 15253.9162463449, 13594.7384576037, 7915.95243194137, 13939.7599702441, 16582.1092717499], \"xaxis\": \"x\", \"y\": [47786.38, 44858.37, 37725.26, 30538.97, 27804.04, 24188.16, 24016.89, 16290.4, 14436.01, 14377.73, 12413.98, 11850.95, 9358.15, 7254.68, 6764.27, 6205.06, 6075.0, 5973.99, 5540.15, 5050.02, 2589.44], \"yaxis\": \"y\"}, {\"hovertemplate\": \"type=Baseline2(Baseline1+Methyl)<br>Mass=%{x}<br>Vol=%{y}<extra></extra>\", \"legendgroup\": \"Baseline2(Baseline1+Methyl)\", \"marker\": {\"color\": \"#ab63fa\", \"symbol\": \"circle\"}, \"mode\": \"markers\", \"name\": \"Baseline2(Baseline1+Methyl)\", \"orientation\": \"v\", \"showlegend\": true, \"type\": \"scatter\", \"x\": [13265.7514961636, 13570.7747028055, 4257.49693354082, 6235.75064248528, 6543.81303076399, 7217.90320144502, 15548.994977493, 4586.54768715297, 9804.23090765229, 10454.3012738136, 11065.4200889183, 8504.04263073219, 3645.43236892478, 8809.10574398195, 5237.62069040677, 10760.3908521515, 19148.433928168, 16213.0803652831, 9499.15482854196, 17543.2426994766, 12005.5734813932, 14234.8433772702], \"xaxis\": \"x\", \"y\": [21863.49, 14314.53, 12151.85, 9783.86, 9761.25, 7950.09, 7546.82, 7104.21, 5425.96, 5147.02, 5114.72, 4830.57, 4479.26, 4472.38, 4436.46, 3962.78, 3211.59, 3162.44, 2520.71, 2233.55, 877.85, 747.52], \"yaxis\": \"y\"}, {\"hovertemplate\": \"type=Baseline2+Na<br>Mass=%{x}<br>Vol=%{y}<extra></extra>\", \"legendgroup\": \"Baseline2+Na\", \"marker\": {\"color\": \"#FFA15A\", \"symbol\": \"circle\"}, \"mode\": \"markers\", \"name\": \"Baseline2+Na\", \"orientation\": \"v\", \"showlegend\": true, \"type\": \"scatter\", \"x\": [13287.7024501778, 12027.4869682674, 13937.7772968157, 11698.4197748599, 15251.9090386989, 9826.20037823186], \"xaxis\": \"x\", \"y\": [22519.99, 17727.09, 7839.1, 4229.97, 3702.35, 2226.97], \"yaxis\": \"y\"}, {\"hovertemplate\": \"type=Baseline2+K<br>Mass=%{x}<br>Vol=%{y}<extra></extra>\", \"legendgroup\": \"Baseline2+K\", \"marker\": {\"color\": \"#19d3f3\", \"symbol\": \"circle\"}, \"mode\": \"markers\", \"name\": \"Baseline2+K\", \"orientation\": \"v\", \"showlegend\": true, \"type\": \"scatter\", \"x\": [13608.71922, 15267.9072410074, 10798.2928893358, 16251.0360932222, 10492.2362112603, 11103.3402233066, 21402.7122114587, 17886.2640194966, 12348.5889081913, 10187.2035594144], \"xaxis\": \"x\", \"y\": [4547.26, 4413.93, 3360.5, 2948.15, 2101.8, 1755.38, 1626.54, 1521.55, 1437.74, 1088.49], \"yaxis\": \"y\"}],                        {\"legend\": {\"title\": {\"text\": \"type\"}, \"tracegroupgap\": 0}, \"margin\": {\"t\": 60}, \"template\": {\"data\": {\"bar\": [{\"error_x\": {\"color\": \"#2a3f5f\"}, \"error_y\": {\"color\": \"#2a3f5f\"}, \"marker\": {\"line\": {\"color\": \"#E5ECF6\", \"width\": 0.5}}, \"type\": \"bar\"}], \"barpolar\": [{\"marker\": {\"line\": {\"color\": \"#E5ECF6\", \"width\": 0.5}}, \"type\": \"barpolar\"}], \"carpet\": [{\"aaxis\": {\"endlinecolor\": \"#2a3f5f\", \"gridcolor\": \"white\", \"linecolor\": \"white\", \"minorgridcolor\": \"white\", \"startlinecolor\": \"#2a3f5f\"}, \"baxis\": {\"endlinecolor\": \"#2a3f5f\", \"gridcolor\": \"white\", \"linecolor\": \"white\", \"minorgridcolor\": \"white\", \"startlinecolor\": \"#2a3f5f\"}, \"type\": \"carpet\"}], \"choropleth\": [{\"colorbar\": {\"outlinewidth\": 0, \"ticks\": \"\"}, \"type\": \"choropleth\"}], \"contour\": [{\"colorbar\": {\"outlinewidth\": 0, \"ticks\": \"\"}, \"colorscale\": [[0.0, \"#0d0887\"], [0.1111111111111111, \"#46039f\"], [0.2222222222222222, \"#7201a8\"], [0.3333333333333333, \"#9c179e\"], [0.4444444444444444, \"#bd3786\"], [0.5555555555555556, \"#d8576b\"], [0.6666666666666666, \"#ed7953\"], [0.7777777777777778, \"#fb9f3a\"], [0.8888888888888888, \"#fdca26\"], [1.0, \"#f0f921\"]], \"type\": \"contour\"}], \"contourcarpet\": [{\"colorbar\": {\"outlinewidth\": 0, \"ticks\": \"\"}, \"type\": \"contourcarpet\"}], \"heatmap\": [{\"colorbar\": {\"outlinewidth\": 0, \"ticks\": \"\"}, \"colorscale\": [[0.0, \"#0d0887\"], [0.1111111111111111, \"#46039f\"], [0.2222222222222222, \"#7201a8\"], [0.3333333333333333, \"#9c179e\"], [0.4444444444444444, \"#bd3786\"], [0.5555555555555556, \"#d8576b\"], [0.6666666666666666, \"#ed7953\"], [0.7777777777777778, \"#fb9f3a\"], [0.8888888888888888, \"#fdca26\"], [1.0, \"#f0f921\"]], \"type\": \"heatmap\"}], \"heatmapgl\": [{\"colorbar\": {\"outlinewidth\": 0, \"ticks\": \"\"}, \"colorscale\": [[0.0, \"#0d0887\"], [0.1111111111111111, \"#46039f\"], [0.2222222222222222, \"#7201a8\"], [0.3333333333333333, \"#9c179e\"], [0.4444444444444444, \"#bd3786\"], [0.5555555555555556, \"#d8576b\"], [0.6666666666666666, \"#ed7953\"], [0.7777777777777778, \"#fb9f3a\"], [0.8888888888888888, \"#fdca26\"], [1.0, \"#f0f921\"]], \"type\": \"heatmapgl\"}], \"histogram\": [{\"marker\": {\"colorbar\": {\"outlinewidth\": 0, \"ticks\": \"\"}}, \"type\": \"histogram\"}], \"histogram2d\": [{\"colorbar\": {\"outlinewidth\": 0, \"ticks\": \"\"}, \"colorscale\": [[0.0, \"#0d0887\"], [0.1111111111111111, \"#46039f\"], [0.2222222222222222, \"#7201a8\"], [0.3333333333333333, \"#9c179e\"], [0.4444444444444444, \"#bd3786\"], [0.5555555555555556, \"#d8576b\"], [0.6666666666666666, \"#ed7953\"], [0.7777777777777778, \"#fb9f3a\"], [0.8888888888888888, \"#fdca26\"], [1.0, \"#f0f921\"]], \"type\": \"histogram2d\"}], \"histogram2dcontour\": [{\"colorbar\": {\"outlinewidth\": 0, \"ticks\": \"\"}, \"colorscale\": [[0.0, \"#0d0887\"], [0.1111111111111111, \"#46039f\"], [0.2222222222222222, \"#7201a8\"], [0.3333333333333333, \"#9c179e\"], [0.4444444444444444, \"#bd3786\"], [0.5555555555555556, \"#d8576b\"], [0.6666666666666666, \"#ed7953\"], [0.7777777777777778, \"#fb9f3a\"], [0.8888888888888888, \"#fdca26\"], [1.0, \"#f0f921\"]], \"type\": \"histogram2dcontour\"}], \"mesh3d\": [{\"colorbar\": {\"outlinewidth\": 0, \"ticks\": \"\"}, \"type\": \"mesh3d\"}], \"parcoords\": [{\"line\": {\"colorbar\": {\"outlinewidth\": 0, \"ticks\": \"\"}}, \"type\": \"parcoords\"}], \"pie\": [{\"automargin\": true, \"type\": \"pie\"}], \"scatter\": [{\"marker\": {\"colorbar\": {\"outlinewidth\": 0, \"ticks\": \"\"}}, \"type\": \"scatter\"}], \"scatter3d\": [{\"line\": {\"colorbar\": {\"outlinewidth\": 0, \"ticks\": \"\"}}, \"marker\": {\"colorbar\": {\"outlinewidth\": 0, \"ticks\": \"\"}}, \"type\": \"scatter3d\"}], \"scattercarpet\": [{\"marker\": {\"colorbar\": {\"outlinewidth\": 0, \"ticks\": \"\"}}, \"type\": \"scattercarpet\"}], \"scattergeo\": [{\"marker\": {\"colorbar\": {\"outlinewidth\": 0, \"ticks\": \"\"}}, \"type\": \"scattergeo\"}], \"scattergl\": [{\"marker\": {\"colorbar\": {\"outlinewidth\": 0, \"ticks\": \"\"}}, \"type\": \"scattergl\"}], \"scattermapbox\": [{\"marker\": {\"colorbar\": {\"outlinewidth\": 0, \"ticks\": \"\"}}, \"type\": \"scattermapbox\"}], \"scatterpolar\": [{\"marker\": {\"colorbar\": {\"outlinewidth\": 0, \"ticks\": \"\"}}, \"type\": \"scatterpolar\"}], \"scatterpolargl\": [{\"marker\": {\"colorbar\": {\"outlinewidth\": 0, \"ticks\": \"\"}}, \"type\": \"scatterpolargl\"}], \"scatterternary\": [{\"marker\": {\"colorbar\": {\"outlinewidth\": 0, \"ticks\": \"\"}}, \"type\": \"scatterternary\"}], \"surface\": [{\"colorbar\": {\"outlinewidth\": 0, \"ticks\": \"\"}, \"colorscale\": [[0.0, \"#0d0887\"], [0.1111111111111111, \"#46039f\"], [0.2222222222222222, \"#7201a8\"], [0.3333333333333333, \"#9c179e\"], [0.4444444444444444, \"#bd3786\"], [0.5555555555555556, \"#d8576b\"], [0.6666666666666666, \"#ed7953\"], [0.7777777777777778, \"#fb9f3a\"], [0.8888888888888888, \"#fdca26\"], [1.0, \"#f0f921\"]], \"type\": \"surface\"}], \"table\": [{\"cells\": {\"fill\": {\"color\": \"#EBF0F8\"}, \"line\": {\"color\": \"white\"}}, \"header\": {\"fill\": {\"color\": \"#C8D4E3\"}, \"line\": {\"color\": \"white\"}}, \"type\": \"table\"}]}, \"layout\": {\"annotationdefaults\": {\"arrowcolor\": \"#2a3f5f\", \"arrowhead\": 0, \"arrowwidth\": 1}, \"autotypenumbers\": \"strict\", \"coloraxis\": {\"colorbar\": {\"outlinewidth\": 0, \"ticks\": \"\"}}, \"colorscale\": {\"diverging\": [[0, \"#8e0152\"], [0.1, \"#c51b7d\"], [0.2, \"#de77ae\"], [0.3, \"#f1b6da\"], [0.4, \"#fde0ef\"], [0.5, \"#f7f7f7\"], [0.6, \"#e6f5d0\"], [0.7, \"#b8e186\"], [0.8, \"#7fbc41\"], [0.9, \"#4d9221\"], [1, \"#276419\"]], \"sequential\": [[0.0, \"#0d0887\"], [0.1111111111111111, \"#46039f\"], [0.2222222222222222, \"#7201a8\"], [0.3333333333333333, \"#9c179e\"], [0.4444444444444444, \"#bd3786\"], [0.5555555555555556, \"#d8576b\"], [0.6666666666666666, \"#ed7953\"], [0.7777777777777778, \"#fb9f3a\"], [0.8888888888888888, \"#fdca26\"], [1.0, \"#f0f921\"]], \"sequentialminus\": [[0.0, \"#0d0887\"], [0.1111111111111111, \"#46039f\"], [0.2222222222222222, \"#7201a8\"], [0.3333333333333333, \"#9c179e\"], [0.4444444444444444, \"#bd3786\"], [0.5555555555555556, \"#d8576b\"], [0.6666666666666666, \"#ed7953\"], [0.7777777777777778, \"#fb9f3a\"], [0.8888888888888888, \"#fdca26\"], [1.0, \"#f0f921\"]]}, \"colorway\": [\"#636efa\", \"#EF553B\", \"#00cc96\", \"#ab63fa\", \"#FFA15A\", \"#19d3f3\", \"#FF6692\", \"#B6E880\", \"#FF97FF\", \"#FECB52\"], \"font\": {\"color\": \"#2a3f5f\"}, \"geo\": {\"bgcolor\": \"white\", \"lakecolor\": \"white\", \"landcolor\": \"#E5ECF6\", \"showlakes\": true, \"showland\": true, \"subunitcolor\": \"white\"}, \"hoverlabel\": {\"align\": \"left\"}, \"hovermode\": \"closest\", \"mapbox\": {\"style\": \"light\"}, \"paper_bgcolor\": \"white\", \"plot_bgcolor\": \"#E5ECF6\", \"polar\": {\"angularaxis\": {\"gridcolor\": \"white\", \"linecolor\": \"white\", \"ticks\": \"\"}, \"bgcolor\": \"#E5ECF6\", \"radialaxis\": {\"gridcolor\": \"white\", \"linecolor\": \"white\", \"ticks\": \"\"}}, \"scene\": {\"xaxis\": {\"backgroundcolor\": \"#E5ECF6\", \"gridcolor\": \"white\", \"gridwidth\": 2, \"linecolor\": \"white\", \"showbackground\": true, \"ticks\": \"\", \"zerolinecolor\": \"white\"}, \"yaxis\": {\"backgroundcolor\": \"#E5ECF6\", \"gridcolor\": \"white\", \"gridwidth\": 2, \"linecolor\": \"white\", \"showbackground\": true, \"ticks\": \"\", \"zerolinecolor\": \"white\"}, \"zaxis\": {\"backgroundcolor\": \"#E5ECF6\", \"gridcolor\": \"white\", \"gridwidth\": 2, \"linecolor\": \"white\", \"showbackground\": true, \"ticks\": \"\", \"zerolinecolor\": \"white\"}}, \"shapedefaults\": {\"line\": {\"color\": \"#2a3f5f\"}}, \"ternary\": {\"aaxis\": {\"gridcolor\": \"white\", \"linecolor\": \"white\", \"ticks\": \"\"}, \"baxis\": {\"gridcolor\": \"white\", \"linecolor\": \"white\", \"ticks\": \"\"}, \"bgcolor\": \"#E5ECF6\", \"caxis\": {\"gridcolor\": \"white\", \"linecolor\": \"white\", \"ticks\": \"\"}}, \"title\": {\"x\": 0.05}, \"xaxis\": {\"automargin\": true, \"gridcolor\": \"white\", \"linecolor\": \"white\", \"ticks\": \"\", \"title\": {\"standoff\": 15}, \"zerolinecolor\": \"white\", \"zerolinewidth\": 2}, \"yaxis\": {\"automargin\": true, \"gridcolor\": \"white\", \"linecolor\": \"white\", \"ticks\": \"\", \"title\": {\"standoff\": 15}, \"zerolinecolor\": \"white\", \"zerolinewidth\": 2}}}, \"xaxis\": {\"anchor\": \"y\", \"domain\": [0.0, 1.0], \"title\": {\"text\": \"Mass\"}}, \"yaxis\": {\"anchor\": \"x\", \"domain\": [0.0, 1.0], \"title\": {\"text\": \"Vol\"}}},                        {\"responsive\": true}                    ).then(function(){\n",
       "                            \n",
       "var gd = document.getElementById('1d0df0c1-5ce2-4f42-af44-75ba96398c82');\n",
       "var x = new MutationObserver(function (mutations, observer) {{\n",
       "        var display = window.getComputedStyle(gd).display;\n",
       "        if (!display || display === 'none') {{\n",
       "            console.log([gd, 'removed!']);\n",
       "            Plotly.purge(gd);\n",
       "            observer.disconnect();\n",
       "        }}\n",
       "}});\n",
       "\n",
       "// Listen for the removal of the full notebook cells\n",
       "var notebookContainer = gd.closest('#notebook-container');\n",
       "if (notebookContainer) {{\n",
       "    x.observe(notebookContainer, {childList: true});\n",
       "}}\n",
       "\n",
       "// Listen for the clearing of the current output cell\n",
       "var outputEl = gd.closest('.output');\n",
       "if (outputEl) {{\n",
       "    x.observe(outputEl, {childList: true});\n",
       "}}\n",
       "\n",
       "                        })                };                });            </script>        </div>"
      ]
     },
     "metadata": {},
     "output_type": "display_data"
    }
   ],
   "source": [
    "# match Methyls, -M, +M, +2M\n",
    "\n",
    "# df_tmp = df_203_5p_6mG.copy()\n",
    "df_tmp = df_232_5p.copy()\n",
    "df_tmp = df_tmp[df_tmp.Mass<24189]\n",
    "# df_tmp = df_tmp[df_tmp.Mass>20200]\n",
    "# df_tmp = df_tmp[df_tmp.Mass<4200]\n",
    "df_sample = df2_alkb\n",
    "dfm1 = match_dfs_with_adducts(df_tmp, df_sample)\n",
    "# dfm1.RT = 0\n",
    "for idx, df in enumerate(dfm1):\n",
    "    df['RT'] = 1 + idx/10.\n",
    "# plotly_multi_zones(dfm1)\n",
    "\n",
    "# df_tmp = df_204_5p.copy()\n",
    "df_tmp.Mass +=  M\n",
    "dfm2 = match_dfs_with_adducts(df_tmp, df_sample)\n",
    "# dfm2.RT = 1\n",
    "for idx, df in enumerate(dfm2):\n",
    "    df['RT'] = 2 + idx/10.\n",
    "print(len(dfm1), len(dfm2))\n",
    "# plotly_zones(dfm1[0], dfm2[0], names=['Baseline1', 'Baseline2(Baseline1+1Da)'])\n",
    "# plotly_zones(dfm1[0], dfm2[0], names=['Baseline1', 'Baseline2(Baseline1+1Da)'], y='Vol')\n",
    "df_all = dfm1.copy()\n",
    "df_all.extend(dfm2)\n",
    "plotly_multi_zones(df_all, names=['Baseline1', 'Baseline1+Na', 'Baseline1+K', 'Baseline2(Baseline1+Methyl)', 'Baseline2+Na', 'Baseline2+K'])\n",
    "plotly_multi_zones(df_all, names=['Baseline1', 'Baseline1+Na', 'Baseline1+K', 'Baseline2(Baseline1+Methyl)', 'Baseline2+Na', 'Baseline2+K'], y='Vol')\n",
    "\n",
    "# df_tmp = df_189_5p.copy()\n",
    "# dfm4 = match_dfs_with_adducts(df_tmp, df_sample)\n",
    "# dfm4.RT = -2\n",
    "# # plotly_zones(dfm1, dfm2)\n",
    "\n",
    "# # df_tmp.Mass += 2*M\n",
    "# df_tmp = df_232_5p.copy()\n",
    "# dfm3 = match_dfs_with_adducts(df_tmp, df_sample)\n",
    "# dfm3.RT = 1\n",
    "\n",
    "# plotly_multi_zones([dfm1, dfm2, dfm3, dfm4], y='RT')\n",
    "# plotly_multi_zones([dfm1, dfm2, dfm3, dfm4], y='Vol')"
   ]
  },
  {
   "cell_type": "code",
   "execution_count": null,
   "id": "obvious-encyclopedia",
   "metadata": {},
   "outputs": [],
   "source": []
  },
  {
   "cell_type": "code",
   "execution_count": null,
   "id": "variable-premises",
   "metadata": {},
   "outputs": [],
   "source": []
  },
  {
   "cell_type": "code",
   "execution_count": 186,
   "id": "cardiovascular-insured",
   "metadata": {},
   "outputs": [
    {
     "data": {
      "application/vnd.plotly.v1+json": {
       "config": {
        "plotlyServerURL": "https://plot.ly"
       },
       "data": [
        {
         "hovertemplate": "type=ladder_1<br>Mass=%{x}<br>RT=%{y}<extra></extra>",
         "legendgroup": "ladder_1",
         "marker": {
          "color": "#636efa",
          "symbol": "circle"
         },
         "mode": "markers",
         "name": "ladder_1",
         "orientation": "v",
         "showlegend": true,
         "type": "scatter",
         "x": [
          6720.99956193812,
          6415.95775398294,
          5421.81461503746,
          4810.74670954933,
          5115.78884673967,
          5727.83854491296,
          8715.28075864902,
          9034.3419422131,
          8051.17871977834,
          8396.22381133442,
          12573.8456118822,
          10679.5696911427,
          6070.90521864812,
          7706.12812558896,
          13489.9591112701,
          9684.43235305755,
          10029.4852831546,
          16052.2923870713,
          16687.3731344216,
          4200.66413180695,
          11634.7080155978,
          10984.6120207818,
          17706.5150035621,
          4505.70386620078,
          7361.08019395483,
          13795.9870245382,
          13184.9099021291,
          9339.3801425999,
          18014.5544365778,
          11289.653852774,
          15441.2504967915,
          12244.7938090263,
          18322.5991243918,
          10334.5242073844,
          14101.0327044641,
          17377.4723025065,
          18667.6586771185,
          15746.2652290827,
          17032.4222473138,
          12878.8928325522,
          16358.3136560012,
          14446.0722921197,
          20298.8597946174,
          3855.61074856348,
          15096.1671459629,
          11939.7063171988,
          19663.7741393553,
          20604.8988994247,
          14751.1310374379,
          22917.2111717332,
          22611.1684869208,
          20910.9181293114,
          23222.2016472315,
          19318.731658224,
          23832.2872914486,
          21255.9825365589,
          1573.23510649676
         ],
         "xaxis": "x",
         "y": [
          0,
          0,
          0,
          0,
          0,
          0,
          0,
          0,
          0,
          0,
          0,
          0,
          0,
          0,
          0,
          0,
          0,
          0,
          0,
          0,
          0,
          0,
          0,
          0,
          0,
          0,
          0,
          0,
          0,
          0,
          0,
          0,
          0,
          0,
          0,
          0,
          0,
          0,
          0,
          0,
          0,
          0,
          0,
          0,
          0,
          0,
          0,
          0,
          0,
          0,
          0,
          0,
          0,
          0,
          0,
          0,
          0
         ],
         "yaxis": "y"
        },
        {
         "hovertemplate": "type=ladder_2<br>Mass=%{x}<br>RT=%{y}<extra></extra>",
         "legendgroup": "ladder_2",
         "marker": {
          "color": "#EF553B",
          "symbol": "circle"
         },
         "mode": "markers",
         "name": "ladder_2",
         "orientation": "v",
         "showlegend": true,
         "type": "scatter",
         "x": [
          24217.3030798282,
          6720.99956193812,
          6415.95775398294,
          5421.81461503746,
          4810.74670954933,
          5115.78884673967,
          5727.83854491296,
          8715.28075864902,
          9034.3419422131,
          8051.17871977834,
          8396.22381133442,
          12573.8456118822,
          10679.5696911427,
          6070.90521864812,
          7706.12812558896,
          13489.9591112701,
          9684.43235305755,
          10029.4852831546,
          16052.2923870713,
          16687.3731344216,
          4200.66413180695,
          11634.7080155978,
          10984.6120207818,
          17706.5150035621,
          4505.70386620078,
          7361.08019395483,
          13795.9870245382,
          13184.9099021291,
          9339.3801425999,
          18014.5544365778,
          11289.653852774,
          15441.2504967915,
          12244.7938090263,
          18322.5991243918,
          10334.5242073844,
          14101.0327044641,
          17377.4723025065,
          18667.6586771185,
          15746.2652290827,
          17032.4222473138,
          12878.8928325522,
          16358.3136560012,
          14446.0722921197,
          20298.8597946174,
          23221.2221890785,
          3855.61074856348,
          15096.1671459629,
          11939.7063171988,
          19663.7741393553,
          23526.2587072879,
          14751.1310374379,
          20603.8939685011,
          20909.9288536878,
          22916.1972048664,
          19318.731658224,
          22251.1191759271,
          21254.9766263762,
          1573.23510649676
         ],
         "xaxis": "x",
         "y": [
          -1,
          -1,
          -1,
          -1,
          -1,
          -1,
          -1,
          -1,
          -1,
          -1,
          -1,
          -1,
          -1,
          -1,
          -1,
          -1,
          -1,
          -1,
          -1,
          -1,
          -1,
          -1,
          -1,
          -1,
          -1,
          -1,
          -1,
          -1,
          -1,
          -1,
          -1,
          -1,
          -1,
          -1,
          -1,
          -1,
          -1,
          -1,
          -1,
          -1,
          -1,
          -1,
          -1,
          -1,
          -1,
          -1,
          -1,
          -1,
          -1,
          -1,
          -1,
          -1,
          -1,
          -1,
          -1,
          -1,
          -1,
          -1
         ],
         "yaxis": "y"
        },
        {
         "hovertemplate": "type=ladder_3<br>Mass=%{x}<br>RT=%{y}<extra></extra>",
         "legendgroup": "ladder_3",
         "marker": {
          "color": "#00cc96",
          "symbol": "circle"
         },
         "mode": "markers",
         "name": "ladder_3",
         "orientation": "v",
         "showlegend": true,
         "type": "scatter",
         "x": [
          24232.2913296959,
          6720.99956193812,
          6415.95775398294,
          5421.81461503746,
          4810.74670954933,
          5115.78884673967,
          5727.83854491296,
          8715.28075864902,
          9034.3419422131,
          8051.17871977834,
          8396.22381133442,
          6070.90521864812,
          7706.12812558896,
          9684.43235305755,
          10029.4852831546,
          4200.66413180695,
          4505.70386620078,
          7361.08019395483,
          9339.3801425999,
          3855.61074856348,
          12587.8632961977,
          20006.8546207698,
          13503.9755158531,
          12892.9032169784,
          16066.3047411193,
          15455.2343990788,
          23236.2448437372,
          18028.571216869,
          12258.8073344786,
          24254.2802300639,
          1573.23510649676
         ],
         "xaxis": "x",
         "y": [
          1,
          1,
          1,
          1,
          1,
          1,
          1,
          1,
          1,
          1,
          1,
          1,
          1,
          1,
          1,
          1,
          1,
          1,
          1,
          1,
          1,
          1,
          1,
          1,
          1,
          1,
          1,
          1,
          1,
          1,
          1
         ],
         "yaxis": "y"
        },
        {
         "hovertemplate": "type=ladder_4<br>Mass=%{x}<br>RT=%{y}<extra></extra>",
         "legendgroup": "ladder_4",
         "marker": {
          "color": "#ab63fa",
          "symbol": "circle"
         },
         "mode": "markers",
         "name": "ladder_4",
         "orientation": "v",
         "showlegend": true,
         "type": "scatter",
         "x": [
          9698.45401664417,
          24247.297734554,
          9354.40432509672
         ],
         "xaxis": "x",
         "y": [
          2,
          2,
          2
         ],
         "yaxis": "y"
        }
       ],
       "layout": {
        "legend": {
         "title": {
          "text": "type"
         },
         "tracegroupgap": 0
        },
        "margin": {
         "t": 60
        },
        "template": {
         "data": {
          "bar": [
           {
            "error_x": {
             "color": "#2a3f5f"
            },
            "error_y": {
             "color": "#2a3f5f"
            },
            "marker": {
             "line": {
              "color": "#E5ECF6",
              "width": 0.5
             }
            },
            "type": "bar"
           }
          ],
          "barpolar": [
           {
            "marker": {
             "line": {
              "color": "#E5ECF6",
              "width": 0.5
             }
            },
            "type": "barpolar"
           }
          ],
          "carpet": [
           {
            "aaxis": {
             "endlinecolor": "#2a3f5f",
             "gridcolor": "white",
             "linecolor": "white",
             "minorgridcolor": "white",
             "startlinecolor": "#2a3f5f"
            },
            "baxis": {
             "endlinecolor": "#2a3f5f",
             "gridcolor": "white",
             "linecolor": "white",
             "minorgridcolor": "white",
             "startlinecolor": "#2a3f5f"
            },
            "type": "carpet"
           }
          ],
          "choropleth": [
           {
            "colorbar": {
             "outlinewidth": 0,
             "ticks": ""
            },
            "type": "choropleth"
           }
          ],
          "contour": [
           {
            "colorbar": {
             "outlinewidth": 0,
             "ticks": ""
            },
            "colorscale": [
             [
              0,
              "#0d0887"
             ],
             [
              0.1111111111111111,
              "#46039f"
             ],
             [
              0.2222222222222222,
              "#7201a8"
             ],
             [
              0.3333333333333333,
              "#9c179e"
             ],
             [
              0.4444444444444444,
              "#bd3786"
             ],
             [
              0.5555555555555556,
              "#d8576b"
             ],
             [
              0.6666666666666666,
              "#ed7953"
             ],
             [
              0.7777777777777778,
              "#fb9f3a"
             ],
             [
              0.8888888888888888,
              "#fdca26"
             ],
             [
              1,
              "#f0f921"
             ]
            ],
            "type": "contour"
           }
          ],
          "contourcarpet": [
           {
            "colorbar": {
             "outlinewidth": 0,
             "ticks": ""
            },
            "type": "contourcarpet"
           }
          ],
          "heatmap": [
           {
            "colorbar": {
             "outlinewidth": 0,
             "ticks": ""
            },
            "colorscale": [
             [
              0,
              "#0d0887"
             ],
             [
              0.1111111111111111,
              "#46039f"
             ],
             [
              0.2222222222222222,
              "#7201a8"
             ],
             [
              0.3333333333333333,
              "#9c179e"
             ],
             [
              0.4444444444444444,
              "#bd3786"
             ],
             [
              0.5555555555555556,
              "#d8576b"
             ],
             [
              0.6666666666666666,
              "#ed7953"
             ],
             [
              0.7777777777777778,
              "#fb9f3a"
             ],
             [
              0.8888888888888888,
              "#fdca26"
             ],
             [
              1,
              "#f0f921"
             ]
            ],
            "type": "heatmap"
           }
          ],
          "heatmapgl": [
           {
            "colorbar": {
             "outlinewidth": 0,
             "ticks": ""
            },
            "colorscale": [
             [
              0,
              "#0d0887"
             ],
             [
              0.1111111111111111,
              "#46039f"
             ],
             [
              0.2222222222222222,
              "#7201a8"
             ],
             [
              0.3333333333333333,
              "#9c179e"
             ],
             [
              0.4444444444444444,
              "#bd3786"
             ],
             [
              0.5555555555555556,
              "#d8576b"
             ],
             [
              0.6666666666666666,
              "#ed7953"
             ],
             [
              0.7777777777777778,
              "#fb9f3a"
             ],
             [
              0.8888888888888888,
              "#fdca26"
             ],
             [
              1,
              "#f0f921"
             ]
            ],
            "type": "heatmapgl"
           }
          ],
          "histogram": [
           {
            "marker": {
             "colorbar": {
              "outlinewidth": 0,
              "ticks": ""
             }
            },
            "type": "histogram"
           }
          ],
          "histogram2d": [
           {
            "colorbar": {
             "outlinewidth": 0,
             "ticks": ""
            },
            "colorscale": [
             [
              0,
              "#0d0887"
             ],
             [
              0.1111111111111111,
              "#46039f"
             ],
             [
              0.2222222222222222,
              "#7201a8"
             ],
             [
              0.3333333333333333,
              "#9c179e"
             ],
             [
              0.4444444444444444,
              "#bd3786"
             ],
             [
              0.5555555555555556,
              "#d8576b"
             ],
             [
              0.6666666666666666,
              "#ed7953"
             ],
             [
              0.7777777777777778,
              "#fb9f3a"
             ],
             [
              0.8888888888888888,
              "#fdca26"
             ],
             [
              1,
              "#f0f921"
             ]
            ],
            "type": "histogram2d"
           }
          ],
          "histogram2dcontour": [
           {
            "colorbar": {
             "outlinewidth": 0,
             "ticks": ""
            },
            "colorscale": [
             [
              0,
              "#0d0887"
             ],
             [
              0.1111111111111111,
              "#46039f"
             ],
             [
              0.2222222222222222,
              "#7201a8"
             ],
             [
              0.3333333333333333,
              "#9c179e"
             ],
             [
              0.4444444444444444,
              "#bd3786"
             ],
             [
              0.5555555555555556,
              "#d8576b"
             ],
             [
              0.6666666666666666,
              "#ed7953"
             ],
             [
              0.7777777777777778,
              "#fb9f3a"
             ],
             [
              0.8888888888888888,
              "#fdca26"
             ],
             [
              1,
              "#f0f921"
             ]
            ],
            "type": "histogram2dcontour"
           }
          ],
          "mesh3d": [
           {
            "colorbar": {
             "outlinewidth": 0,
             "ticks": ""
            },
            "type": "mesh3d"
           }
          ],
          "parcoords": [
           {
            "line": {
             "colorbar": {
              "outlinewidth": 0,
              "ticks": ""
             }
            },
            "type": "parcoords"
           }
          ],
          "pie": [
           {
            "automargin": true,
            "type": "pie"
           }
          ],
          "scatter": [
           {
            "marker": {
             "colorbar": {
              "outlinewidth": 0,
              "ticks": ""
             }
            },
            "type": "scatter"
           }
          ],
          "scatter3d": [
           {
            "line": {
             "colorbar": {
              "outlinewidth": 0,
              "ticks": ""
             }
            },
            "marker": {
             "colorbar": {
              "outlinewidth": 0,
              "ticks": ""
             }
            },
            "type": "scatter3d"
           }
          ],
          "scattercarpet": [
           {
            "marker": {
             "colorbar": {
              "outlinewidth": 0,
              "ticks": ""
             }
            },
            "type": "scattercarpet"
           }
          ],
          "scattergeo": [
           {
            "marker": {
             "colorbar": {
              "outlinewidth": 0,
              "ticks": ""
             }
            },
            "type": "scattergeo"
           }
          ],
          "scattergl": [
           {
            "marker": {
             "colorbar": {
              "outlinewidth": 0,
              "ticks": ""
             }
            },
            "type": "scattergl"
           }
          ],
          "scattermapbox": [
           {
            "marker": {
             "colorbar": {
              "outlinewidth": 0,
              "ticks": ""
             }
            },
            "type": "scattermapbox"
           }
          ],
          "scatterpolar": [
           {
            "marker": {
             "colorbar": {
              "outlinewidth": 0,
              "ticks": ""
             }
            },
            "type": "scatterpolar"
           }
          ],
          "scatterpolargl": [
           {
            "marker": {
             "colorbar": {
              "outlinewidth": 0,
              "ticks": ""
             }
            },
            "type": "scatterpolargl"
           }
          ],
          "scatterternary": [
           {
            "marker": {
             "colorbar": {
              "outlinewidth": 0,
              "ticks": ""
             }
            },
            "type": "scatterternary"
           }
          ],
          "surface": [
           {
            "colorbar": {
             "outlinewidth": 0,
             "ticks": ""
            },
            "colorscale": [
             [
              0,
              "#0d0887"
             ],
             [
              0.1111111111111111,
              "#46039f"
             ],
             [
              0.2222222222222222,
              "#7201a8"
             ],
             [
              0.3333333333333333,
              "#9c179e"
             ],
             [
              0.4444444444444444,
              "#bd3786"
             ],
             [
              0.5555555555555556,
              "#d8576b"
             ],
             [
              0.6666666666666666,
              "#ed7953"
             ],
             [
              0.7777777777777778,
              "#fb9f3a"
             ],
             [
              0.8888888888888888,
              "#fdca26"
             ],
             [
              1,
              "#f0f921"
             ]
            ],
            "type": "surface"
           }
          ],
          "table": [
           {
            "cells": {
             "fill": {
              "color": "#EBF0F8"
             },
             "line": {
              "color": "white"
             }
            },
            "header": {
             "fill": {
              "color": "#C8D4E3"
             },
             "line": {
              "color": "white"
             }
            },
            "type": "table"
           }
          ]
         },
         "layout": {
          "annotationdefaults": {
           "arrowcolor": "#2a3f5f",
           "arrowhead": 0,
           "arrowwidth": 1
          },
          "autotypenumbers": "strict",
          "coloraxis": {
           "colorbar": {
            "outlinewidth": 0,
            "ticks": ""
           }
          },
          "colorscale": {
           "diverging": [
            [
             0,
             "#8e0152"
            ],
            [
             0.1,
             "#c51b7d"
            ],
            [
             0.2,
             "#de77ae"
            ],
            [
             0.3,
             "#f1b6da"
            ],
            [
             0.4,
             "#fde0ef"
            ],
            [
             0.5,
             "#f7f7f7"
            ],
            [
             0.6,
             "#e6f5d0"
            ],
            [
             0.7,
             "#b8e186"
            ],
            [
             0.8,
             "#7fbc41"
            ],
            [
             0.9,
             "#4d9221"
            ],
            [
             1,
             "#276419"
            ]
           ],
           "sequential": [
            [
             0,
             "#0d0887"
            ],
            [
             0.1111111111111111,
             "#46039f"
            ],
            [
             0.2222222222222222,
             "#7201a8"
            ],
            [
             0.3333333333333333,
             "#9c179e"
            ],
            [
             0.4444444444444444,
             "#bd3786"
            ],
            [
             0.5555555555555556,
             "#d8576b"
            ],
            [
             0.6666666666666666,
             "#ed7953"
            ],
            [
             0.7777777777777778,
             "#fb9f3a"
            ],
            [
             0.8888888888888888,
             "#fdca26"
            ],
            [
             1,
             "#f0f921"
            ]
           ],
           "sequentialminus": [
            [
             0,
             "#0d0887"
            ],
            [
             0.1111111111111111,
             "#46039f"
            ],
            [
             0.2222222222222222,
             "#7201a8"
            ],
            [
             0.3333333333333333,
             "#9c179e"
            ],
            [
             0.4444444444444444,
             "#bd3786"
            ],
            [
             0.5555555555555556,
             "#d8576b"
            ],
            [
             0.6666666666666666,
             "#ed7953"
            ],
            [
             0.7777777777777778,
             "#fb9f3a"
            ],
            [
             0.8888888888888888,
             "#fdca26"
            ],
            [
             1,
             "#f0f921"
            ]
           ]
          },
          "colorway": [
           "#636efa",
           "#EF553B",
           "#00cc96",
           "#ab63fa",
           "#FFA15A",
           "#19d3f3",
           "#FF6692",
           "#B6E880",
           "#FF97FF",
           "#FECB52"
          ],
          "font": {
           "color": "#2a3f5f"
          },
          "geo": {
           "bgcolor": "white",
           "lakecolor": "white",
           "landcolor": "#E5ECF6",
           "showlakes": true,
           "showland": true,
           "subunitcolor": "white"
          },
          "hoverlabel": {
           "align": "left"
          },
          "hovermode": "closest",
          "mapbox": {
           "style": "light"
          },
          "paper_bgcolor": "white",
          "plot_bgcolor": "#E5ECF6",
          "polar": {
           "angularaxis": {
            "gridcolor": "white",
            "linecolor": "white",
            "ticks": ""
           },
           "bgcolor": "#E5ECF6",
           "radialaxis": {
            "gridcolor": "white",
            "linecolor": "white",
            "ticks": ""
           }
          },
          "scene": {
           "xaxis": {
            "backgroundcolor": "#E5ECF6",
            "gridcolor": "white",
            "gridwidth": 2,
            "linecolor": "white",
            "showbackground": true,
            "ticks": "",
            "zerolinecolor": "white"
           },
           "yaxis": {
            "backgroundcolor": "#E5ECF6",
            "gridcolor": "white",
            "gridwidth": 2,
            "linecolor": "white",
            "showbackground": true,
            "ticks": "",
            "zerolinecolor": "white"
           },
           "zaxis": {
            "backgroundcolor": "#E5ECF6",
            "gridcolor": "white",
            "gridwidth": 2,
            "linecolor": "white",
            "showbackground": true,
            "ticks": "",
            "zerolinecolor": "white"
           }
          },
          "shapedefaults": {
           "line": {
            "color": "#2a3f5f"
           }
          },
          "ternary": {
           "aaxis": {
            "gridcolor": "white",
            "linecolor": "white",
            "ticks": ""
           },
           "baxis": {
            "gridcolor": "white",
            "linecolor": "white",
            "ticks": ""
           },
           "bgcolor": "#E5ECF6",
           "caxis": {
            "gridcolor": "white",
            "linecolor": "white",
            "ticks": ""
           }
          },
          "title": {
           "x": 0.05
          },
          "xaxis": {
           "automargin": true,
           "gridcolor": "white",
           "linecolor": "white",
           "ticks": "",
           "title": {
            "standoff": 15
           },
           "zerolinecolor": "white",
           "zerolinewidth": 2
          },
          "yaxis": {
           "automargin": true,
           "gridcolor": "white",
           "linecolor": "white",
           "ticks": "",
           "title": {
            "standoff": 15
           },
           "zerolinecolor": "white",
           "zerolinewidth": 2
          }
         }
        },
        "xaxis": {
         "anchor": "y",
         "domain": [
          0,
          1
         ],
         "title": {
          "text": "Mass"
         }
        },
        "yaxis": {
         "anchor": "x",
         "domain": [
          0,
          1
         ],
         "title": {
          "text": "RT"
         }
        }
       }
      },
      "text/html": [
       "<div>                            <div id=\"b68ebd1b-19a8-4a1c-9ff1-9df0276d67b6\" class=\"plotly-graph-div\" style=\"height:525px; width:100%;\"></div>            <script type=\"text/javascript\">                require([\"plotly\"], function(Plotly) {                    window.PLOTLYENV=window.PLOTLYENV || {};                                    if (document.getElementById(\"b68ebd1b-19a8-4a1c-9ff1-9df0276d67b6\")) {                    Plotly.newPlot(                        \"b68ebd1b-19a8-4a1c-9ff1-9df0276d67b6\",                        [{\"hovertemplate\": \"type=ladder_1<br>Mass=%{x}<br>RT=%{y}<extra></extra>\", \"legendgroup\": \"ladder_1\", \"marker\": {\"color\": \"#636efa\", \"symbol\": \"circle\"}, \"mode\": \"markers\", \"name\": \"ladder_1\", \"orientation\": \"v\", \"showlegend\": true, \"type\": \"scatter\", \"x\": [6720.99956193812, 6415.95775398294, 5421.81461503746, 4810.74670954933, 5115.78884673967, 5727.83854491296, 8715.28075864902, 9034.3419422131, 8051.17871977834, 8396.22381133442, 12573.8456118822, 10679.5696911427, 6070.90521864812, 7706.12812558896, 13489.9591112701, 9684.43235305755, 10029.4852831546, 16052.2923870713, 16687.3731344216, 4200.66413180695, 11634.7080155978, 10984.6120207818, 17706.5150035621, 4505.70386620078, 7361.08019395483, 13795.9870245382, 13184.9099021291, 9339.3801425999, 18014.5544365778, 11289.653852774, 15441.2504967915, 12244.7938090263, 18322.5991243918, 10334.5242073844, 14101.0327044641, 17377.4723025065, 18667.6586771185, 15746.2652290827, 17032.4222473138, 12878.8928325522, 16358.3136560012, 14446.0722921197, 20298.8597946174, 3855.61074856348, 15096.1671459629, 11939.7063171988, 19663.7741393553, 20604.8988994247, 14751.1310374379, 22917.2111717332, 22611.1684869208, 20910.9181293114, 23222.2016472315, 19318.731658224, 23832.2872914486, 21255.9825365589, 1573.23510649676], \"xaxis\": \"x\", \"y\": [0, 0, 0, 0, 0, 0, 0, 0, 0, 0, 0, 0, 0, 0, 0, 0, 0, 0, 0, 0, 0, 0, 0, 0, 0, 0, 0, 0, 0, 0, 0, 0, 0, 0, 0, 0, 0, 0, 0, 0, 0, 0, 0, 0, 0, 0, 0, 0, 0, 0, 0, 0, 0, 0, 0, 0, 0], \"yaxis\": \"y\"}, {\"hovertemplate\": \"type=ladder_2<br>Mass=%{x}<br>RT=%{y}<extra></extra>\", \"legendgroup\": \"ladder_2\", \"marker\": {\"color\": \"#EF553B\", \"symbol\": \"circle\"}, \"mode\": \"markers\", \"name\": \"ladder_2\", \"orientation\": \"v\", \"showlegend\": true, \"type\": \"scatter\", \"x\": [24217.3030798282, 6720.99956193812, 6415.95775398294, 5421.81461503746, 4810.74670954933, 5115.78884673967, 5727.83854491296, 8715.28075864902, 9034.3419422131, 8051.17871977834, 8396.22381133442, 12573.8456118822, 10679.5696911427, 6070.90521864812, 7706.12812558896, 13489.9591112701, 9684.43235305755, 10029.4852831546, 16052.2923870713, 16687.3731344216, 4200.66413180695, 11634.7080155978, 10984.6120207818, 17706.5150035621, 4505.70386620078, 7361.08019395483, 13795.9870245382, 13184.9099021291, 9339.3801425999, 18014.5544365778, 11289.653852774, 15441.2504967915, 12244.7938090263, 18322.5991243918, 10334.5242073844, 14101.0327044641, 17377.4723025065, 18667.6586771185, 15746.2652290827, 17032.4222473138, 12878.8928325522, 16358.3136560012, 14446.0722921197, 20298.8597946174, 23221.2221890785, 3855.61074856348, 15096.1671459629, 11939.7063171988, 19663.7741393553, 23526.2587072879, 14751.1310374379, 20603.8939685011, 20909.9288536878, 22916.1972048664, 19318.731658224, 22251.1191759271, 21254.9766263762, 1573.23510649676], \"xaxis\": \"x\", \"y\": [-1, -1, -1, -1, -1, -1, -1, -1, -1, -1, -1, -1, -1, -1, -1, -1, -1, -1, -1, -1, -1, -1, -1, -1, -1, -1, -1, -1, -1, -1, -1, -1, -1, -1, -1, -1, -1, -1, -1, -1, -1, -1, -1, -1, -1, -1, -1, -1, -1, -1, -1, -1, -1, -1, -1, -1, -1, -1], \"yaxis\": \"y\"}, {\"hovertemplate\": \"type=ladder_3<br>Mass=%{x}<br>RT=%{y}<extra></extra>\", \"legendgroup\": \"ladder_3\", \"marker\": {\"color\": \"#00cc96\", \"symbol\": \"circle\"}, \"mode\": \"markers\", \"name\": \"ladder_3\", \"orientation\": \"v\", \"showlegend\": true, \"type\": \"scatter\", \"x\": [24232.2913296959, 6720.99956193812, 6415.95775398294, 5421.81461503746, 4810.74670954933, 5115.78884673967, 5727.83854491296, 8715.28075864902, 9034.3419422131, 8051.17871977834, 8396.22381133442, 6070.90521864812, 7706.12812558896, 9684.43235305755, 10029.4852831546, 4200.66413180695, 4505.70386620078, 7361.08019395483, 9339.3801425999, 3855.61074856348, 12587.8632961977, 20006.8546207698, 13503.9755158531, 12892.9032169784, 16066.3047411193, 15455.2343990788, 23236.2448437372, 18028.571216869, 12258.8073344786, 24254.2802300639, 1573.23510649676], \"xaxis\": \"x\", \"y\": [1, 1, 1, 1, 1, 1, 1, 1, 1, 1, 1, 1, 1, 1, 1, 1, 1, 1, 1, 1, 1, 1, 1, 1, 1, 1, 1, 1, 1, 1, 1], \"yaxis\": \"y\"}, {\"hovertemplate\": \"type=ladder_4<br>Mass=%{x}<br>RT=%{y}<extra></extra>\", \"legendgroup\": \"ladder_4\", \"marker\": {\"color\": \"#ab63fa\", \"symbol\": \"circle\"}, \"mode\": \"markers\", \"name\": \"ladder_4\", \"orientation\": \"v\", \"showlegend\": true, \"type\": \"scatter\", \"x\": [9698.45401664417, 24247.297734554, 9354.40432509672], \"xaxis\": \"x\", \"y\": [2, 2, 2], \"yaxis\": \"y\"}],                        {\"legend\": {\"title\": {\"text\": \"type\"}, \"tracegroupgap\": 0}, \"margin\": {\"t\": 60}, \"template\": {\"data\": {\"bar\": [{\"error_x\": {\"color\": \"#2a3f5f\"}, \"error_y\": {\"color\": \"#2a3f5f\"}, \"marker\": {\"line\": {\"color\": \"#E5ECF6\", \"width\": 0.5}}, \"type\": \"bar\"}], \"barpolar\": [{\"marker\": {\"line\": {\"color\": \"#E5ECF6\", \"width\": 0.5}}, \"type\": \"barpolar\"}], \"carpet\": [{\"aaxis\": {\"endlinecolor\": \"#2a3f5f\", \"gridcolor\": \"white\", \"linecolor\": \"white\", \"minorgridcolor\": \"white\", \"startlinecolor\": \"#2a3f5f\"}, \"baxis\": {\"endlinecolor\": \"#2a3f5f\", \"gridcolor\": \"white\", \"linecolor\": \"white\", \"minorgridcolor\": \"white\", \"startlinecolor\": \"#2a3f5f\"}, \"type\": \"carpet\"}], \"choropleth\": [{\"colorbar\": {\"outlinewidth\": 0, \"ticks\": \"\"}, \"type\": \"choropleth\"}], \"contour\": [{\"colorbar\": {\"outlinewidth\": 0, \"ticks\": \"\"}, \"colorscale\": [[0.0, \"#0d0887\"], [0.1111111111111111, \"#46039f\"], [0.2222222222222222, \"#7201a8\"], [0.3333333333333333, \"#9c179e\"], [0.4444444444444444, \"#bd3786\"], [0.5555555555555556, \"#d8576b\"], [0.6666666666666666, \"#ed7953\"], [0.7777777777777778, \"#fb9f3a\"], [0.8888888888888888, \"#fdca26\"], [1.0, \"#f0f921\"]], \"type\": \"contour\"}], \"contourcarpet\": [{\"colorbar\": {\"outlinewidth\": 0, \"ticks\": \"\"}, \"type\": \"contourcarpet\"}], \"heatmap\": [{\"colorbar\": {\"outlinewidth\": 0, \"ticks\": \"\"}, \"colorscale\": [[0.0, \"#0d0887\"], [0.1111111111111111, \"#46039f\"], [0.2222222222222222, \"#7201a8\"], [0.3333333333333333, \"#9c179e\"], [0.4444444444444444, \"#bd3786\"], [0.5555555555555556, \"#d8576b\"], [0.6666666666666666, \"#ed7953\"], [0.7777777777777778, \"#fb9f3a\"], [0.8888888888888888, \"#fdca26\"], [1.0, \"#f0f921\"]], \"type\": \"heatmap\"}], \"heatmapgl\": [{\"colorbar\": {\"outlinewidth\": 0, \"ticks\": \"\"}, \"colorscale\": [[0.0, \"#0d0887\"], [0.1111111111111111, \"#46039f\"], [0.2222222222222222, \"#7201a8\"], [0.3333333333333333, \"#9c179e\"], [0.4444444444444444, \"#bd3786\"], [0.5555555555555556, \"#d8576b\"], [0.6666666666666666, \"#ed7953\"], [0.7777777777777778, \"#fb9f3a\"], [0.8888888888888888, \"#fdca26\"], [1.0, \"#f0f921\"]], \"type\": \"heatmapgl\"}], \"histogram\": [{\"marker\": {\"colorbar\": {\"outlinewidth\": 0, \"ticks\": \"\"}}, \"type\": \"histogram\"}], \"histogram2d\": [{\"colorbar\": {\"outlinewidth\": 0, \"ticks\": \"\"}, \"colorscale\": [[0.0, \"#0d0887\"], [0.1111111111111111, \"#46039f\"], [0.2222222222222222, \"#7201a8\"], [0.3333333333333333, \"#9c179e\"], [0.4444444444444444, \"#bd3786\"], [0.5555555555555556, \"#d8576b\"], [0.6666666666666666, \"#ed7953\"], [0.7777777777777778, \"#fb9f3a\"], [0.8888888888888888, \"#fdca26\"], [1.0, \"#f0f921\"]], \"type\": \"histogram2d\"}], \"histogram2dcontour\": [{\"colorbar\": {\"outlinewidth\": 0, \"ticks\": \"\"}, \"colorscale\": [[0.0, \"#0d0887\"], [0.1111111111111111, \"#46039f\"], [0.2222222222222222, \"#7201a8\"], [0.3333333333333333, \"#9c179e\"], [0.4444444444444444, \"#bd3786\"], [0.5555555555555556, \"#d8576b\"], [0.6666666666666666, \"#ed7953\"], [0.7777777777777778, \"#fb9f3a\"], [0.8888888888888888, \"#fdca26\"], [1.0, \"#f0f921\"]], \"type\": \"histogram2dcontour\"}], \"mesh3d\": [{\"colorbar\": {\"outlinewidth\": 0, \"ticks\": \"\"}, \"type\": \"mesh3d\"}], \"parcoords\": [{\"line\": {\"colorbar\": {\"outlinewidth\": 0, \"ticks\": \"\"}}, \"type\": \"parcoords\"}], \"pie\": [{\"automargin\": true, \"type\": \"pie\"}], \"scatter\": [{\"marker\": {\"colorbar\": {\"outlinewidth\": 0, \"ticks\": \"\"}}, \"type\": \"scatter\"}], \"scatter3d\": [{\"line\": {\"colorbar\": {\"outlinewidth\": 0, \"ticks\": \"\"}}, \"marker\": {\"colorbar\": {\"outlinewidth\": 0, \"ticks\": \"\"}}, \"type\": \"scatter3d\"}], \"scattercarpet\": [{\"marker\": {\"colorbar\": {\"outlinewidth\": 0, \"ticks\": \"\"}}, \"type\": \"scattercarpet\"}], \"scattergeo\": [{\"marker\": {\"colorbar\": {\"outlinewidth\": 0, \"ticks\": \"\"}}, \"type\": \"scattergeo\"}], \"scattergl\": [{\"marker\": {\"colorbar\": {\"outlinewidth\": 0, \"ticks\": \"\"}}, \"type\": \"scattergl\"}], \"scattermapbox\": [{\"marker\": {\"colorbar\": {\"outlinewidth\": 0, \"ticks\": \"\"}}, \"type\": \"scattermapbox\"}], \"scatterpolar\": [{\"marker\": {\"colorbar\": {\"outlinewidth\": 0, \"ticks\": \"\"}}, \"type\": \"scatterpolar\"}], \"scatterpolargl\": [{\"marker\": {\"colorbar\": {\"outlinewidth\": 0, \"ticks\": \"\"}}, \"type\": \"scatterpolargl\"}], \"scatterternary\": [{\"marker\": {\"colorbar\": {\"outlinewidth\": 0, \"ticks\": \"\"}}, \"type\": \"scatterternary\"}], \"surface\": [{\"colorbar\": {\"outlinewidth\": 0, \"ticks\": \"\"}, \"colorscale\": [[0.0, \"#0d0887\"], [0.1111111111111111, \"#46039f\"], [0.2222222222222222, \"#7201a8\"], [0.3333333333333333, \"#9c179e\"], [0.4444444444444444, \"#bd3786\"], [0.5555555555555556, \"#d8576b\"], [0.6666666666666666, \"#ed7953\"], [0.7777777777777778, \"#fb9f3a\"], [0.8888888888888888, \"#fdca26\"], [1.0, \"#f0f921\"]], \"type\": \"surface\"}], \"table\": [{\"cells\": {\"fill\": {\"color\": \"#EBF0F8\"}, \"line\": {\"color\": \"white\"}}, \"header\": {\"fill\": {\"color\": \"#C8D4E3\"}, \"line\": {\"color\": \"white\"}}, \"type\": \"table\"}]}, \"layout\": {\"annotationdefaults\": {\"arrowcolor\": \"#2a3f5f\", \"arrowhead\": 0, \"arrowwidth\": 1}, \"autotypenumbers\": \"strict\", \"coloraxis\": {\"colorbar\": {\"outlinewidth\": 0, \"ticks\": \"\"}}, \"colorscale\": {\"diverging\": [[0, \"#8e0152\"], [0.1, \"#c51b7d\"], [0.2, \"#de77ae\"], [0.3, \"#f1b6da\"], [0.4, \"#fde0ef\"], [0.5, \"#f7f7f7\"], [0.6, \"#e6f5d0\"], [0.7, \"#b8e186\"], [0.8, \"#7fbc41\"], [0.9, \"#4d9221\"], [1, \"#276419\"]], \"sequential\": [[0.0, \"#0d0887\"], [0.1111111111111111, \"#46039f\"], [0.2222222222222222, \"#7201a8\"], [0.3333333333333333, \"#9c179e\"], [0.4444444444444444, \"#bd3786\"], [0.5555555555555556, \"#d8576b\"], [0.6666666666666666, \"#ed7953\"], [0.7777777777777778, \"#fb9f3a\"], [0.8888888888888888, \"#fdca26\"], [1.0, \"#f0f921\"]], \"sequentialminus\": [[0.0, \"#0d0887\"], [0.1111111111111111, \"#46039f\"], [0.2222222222222222, \"#7201a8\"], [0.3333333333333333, \"#9c179e\"], [0.4444444444444444, \"#bd3786\"], [0.5555555555555556, \"#d8576b\"], [0.6666666666666666, \"#ed7953\"], [0.7777777777777778, \"#fb9f3a\"], [0.8888888888888888, \"#fdca26\"], [1.0, \"#f0f921\"]]}, \"colorway\": [\"#636efa\", \"#EF553B\", \"#00cc96\", \"#ab63fa\", \"#FFA15A\", \"#19d3f3\", \"#FF6692\", \"#B6E880\", \"#FF97FF\", \"#FECB52\"], \"font\": {\"color\": \"#2a3f5f\"}, \"geo\": {\"bgcolor\": \"white\", \"lakecolor\": \"white\", \"landcolor\": \"#E5ECF6\", \"showlakes\": true, \"showland\": true, \"subunitcolor\": \"white\"}, \"hoverlabel\": {\"align\": \"left\"}, \"hovermode\": \"closest\", \"mapbox\": {\"style\": \"light\"}, \"paper_bgcolor\": \"white\", \"plot_bgcolor\": \"#E5ECF6\", \"polar\": {\"angularaxis\": {\"gridcolor\": \"white\", \"linecolor\": \"white\", \"ticks\": \"\"}, \"bgcolor\": \"#E5ECF6\", \"radialaxis\": {\"gridcolor\": \"white\", \"linecolor\": \"white\", \"ticks\": \"\"}}, \"scene\": {\"xaxis\": {\"backgroundcolor\": \"#E5ECF6\", \"gridcolor\": \"white\", \"gridwidth\": 2, \"linecolor\": \"white\", \"showbackground\": true, \"ticks\": \"\", \"zerolinecolor\": \"white\"}, \"yaxis\": {\"backgroundcolor\": \"#E5ECF6\", \"gridcolor\": \"white\", \"gridwidth\": 2, \"linecolor\": \"white\", \"showbackground\": true, \"ticks\": \"\", \"zerolinecolor\": \"white\"}, \"zaxis\": {\"backgroundcolor\": \"#E5ECF6\", \"gridcolor\": \"white\", \"gridwidth\": 2, \"linecolor\": \"white\", \"showbackground\": true, \"ticks\": \"\", \"zerolinecolor\": \"white\"}}, \"shapedefaults\": {\"line\": {\"color\": \"#2a3f5f\"}}, \"ternary\": {\"aaxis\": {\"gridcolor\": \"white\", \"linecolor\": \"white\", \"ticks\": \"\"}, \"baxis\": {\"gridcolor\": \"white\", \"linecolor\": \"white\", \"ticks\": \"\"}, \"bgcolor\": \"#E5ECF6\", \"caxis\": {\"gridcolor\": \"white\", \"linecolor\": \"white\", \"ticks\": \"\"}}, \"title\": {\"x\": 0.05}, \"xaxis\": {\"automargin\": true, \"gridcolor\": \"white\", \"linecolor\": \"white\", \"ticks\": \"\", \"title\": {\"standoff\": 15}, \"zerolinecolor\": \"white\", \"zerolinewidth\": 2}, \"yaxis\": {\"automargin\": true, \"gridcolor\": \"white\", \"linecolor\": \"white\", \"ticks\": \"\", \"title\": {\"standoff\": 15}, \"zerolinecolor\": \"white\", \"zerolinewidth\": 2}}}, \"xaxis\": {\"anchor\": \"y\", \"domain\": [0.0, 1.0], \"title\": {\"text\": \"Mass\"}}, \"yaxis\": {\"anchor\": \"x\", \"domain\": [0.0, 1.0], \"title\": {\"text\": \"RT\"}}},                        {\"responsive\": true}                    ).then(function(){\n",
       "                            \n",
       "var gd = document.getElementById('b68ebd1b-19a8-4a1c-9ff1-9df0276d67b6');\n",
       "var x = new MutationObserver(function (mutations, observer) {{\n",
       "        var display = window.getComputedStyle(gd).display;\n",
       "        if (!display || display === 'none') {{\n",
       "            console.log([gd, 'removed!']);\n",
       "            Plotly.purge(gd);\n",
       "            observer.disconnect();\n",
       "        }}\n",
       "}});\n",
       "\n",
       "// Listen for the removal of the full notebook cells\n",
       "var notebookContainer = gd.closest('#notebook-container');\n",
       "if (notebookContainer) {{\n",
       "    x.observe(notebookContainer, {childList: true});\n",
       "}}\n",
       "\n",
       "// Listen for the clearing of the current output cell\n",
       "var outputEl = gd.closest('.output');\n",
       "if (outputEl) {{\n",
       "    x.observe(outputEl, {childList: true});\n",
       "}}\n",
       "\n",
       "                        })                };                });            </script>        </div>"
      ]
     },
     "metadata": {},
     "output_type": "display_data"
    },
    {
     "data": {
      "application/vnd.plotly.v1+json": {
       "config": {
        "plotlyServerURL": "https://plot.ly"
       },
       "data": [
        {
         "hovertemplate": "type=ladder_1<br>Mass=%{x}<br>Vol=%{y}<extra></extra>",
         "legendgroup": "ladder_1",
         "marker": {
          "color": "#636efa",
          "symbol": "circle"
         },
         "mode": "markers",
         "name": "ladder_1",
         "orientation": "v",
         "showlegend": true,
         "type": "scatter",
         "x": [
          6720.99956193812,
          6415.95775398294,
          5421.81461503746,
          4810.74670954933,
          5115.78884673967,
          5727.83854491296,
          8715.28075864902,
          9034.3419422131,
          8051.17871977834,
          8396.22381133442,
          12573.8456118822,
          10679.5696911427,
          6070.90521864812,
          7706.12812558896,
          13489.9591112701,
          9684.43235305755,
          10029.4852831546,
          16052.2923870713,
          16687.3731344216,
          4200.66413180695,
          11634.7080155978,
          10984.6120207818,
          17706.5150035621,
          4505.70386620078,
          7361.08019395483,
          13795.9870245382,
          13184.9099021291,
          9339.3801425999,
          18014.5544365778,
          11289.653852774,
          15441.2504967915,
          12244.7938090263,
          18322.5991243918,
          10334.5242073844,
          14101.0327044641,
          17377.4723025065,
          18667.6586771185,
          15746.2652290827,
          17032.4222473138,
          12878.8928325522,
          16358.3136560012,
          14446.0722921197,
          20298.8597946174,
          3855.61074856348,
          15096.1671459629,
          11939.7063171988,
          19663.7741393553,
          20604.8988994247,
          14751.1310374379,
          22917.2111717332,
          22611.1684869208,
          20910.9181293114,
          23222.2016472315,
          19318.731658224,
          23832.2872914486,
          21255.9825365589,
          1573.23510649676
         ],
         "xaxis": "x",
         "y": [
          45408.24,
          42574.71,
          41490.86,
          37734.18,
          37402.21,
          33102.27,
          32881.86,
          30244.4,
          26365.11,
          26062.12,
          24185.87,
          19709.19,
          19212.02,
          19109.02,
          19019.67,
          18805.43,
          18627.64,
          17908.46,
          17863.36,
          17861.79,
          16546.96,
          16396.55,
          16126.05,
          16002.41,
          15898.14,
          15133.77,
          15053.91,
          14373.11,
          14111.05,
          13235.41,
          12627.83,
          12302.03,
          11970.72,
          11548.03,
          10940.24,
          9996.08,
          9881.05,
          9772.35,
          8498.13,
          8447.44,
          8307.75,
          7429.11,
          6237.19,
          5509.51,
          5248.52,
          5088.89,
          4304.76,
          4185.86,
          3261.67,
          3227.32,
          2796.04,
          2169.36,
          1596.56,
          1129.93,
          588.21,
          2878.34,
          200145.91
         ],
         "yaxis": "y"
        },
        {
         "hovertemplate": "type=ladder_2<br>Mass=%{x}<br>Vol=%{y}<extra></extra>",
         "legendgroup": "ladder_2",
         "marker": {
          "color": "#EF553B",
          "symbol": "circle"
         },
         "mode": "markers",
         "name": "ladder_2",
         "orientation": "v",
         "showlegend": true,
         "type": "scatter",
         "x": [
          24217.3030798282,
          6720.99956193812,
          6415.95775398294,
          5421.81461503746,
          4810.74670954933,
          5115.78884673967,
          5727.83854491296,
          8715.28075864902,
          9034.3419422131,
          8051.17871977834,
          8396.22381133442,
          12573.8456118822,
          10679.5696911427,
          6070.90521864812,
          7706.12812558896,
          13489.9591112701,
          9684.43235305755,
          10029.4852831546,
          16052.2923870713,
          16687.3731344216,
          4200.66413180695,
          11634.7080155978,
          10984.6120207818,
          17706.5150035621,
          4505.70386620078,
          7361.08019395483,
          13795.9870245382,
          13184.9099021291,
          9339.3801425999,
          18014.5544365778,
          11289.653852774,
          15441.2504967915,
          12244.7938090263,
          18322.5991243918,
          10334.5242073844,
          14101.0327044641,
          17377.4723025065,
          18667.6586771185,
          15746.2652290827,
          17032.4222473138,
          12878.8928325522,
          16358.3136560012,
          14446.0722921197,
          20298.8597946174,
          23221.2221890785,
          3855.61074856348,
          15096.1671459629,
          11939.7063171988,
          19663.7741393553,
          23526.2587072879,
          14751.1310374379,
          20603.8939685011,
          20909.9288536878,
          22916.1972048664,
          19318.731658224,
          22251.1191759271,
          21254.9766263762,
          1573.23510649676
         ],
         "xaxis": "x",
         "y": [
          2419823.39,
          45408.24,
          42574.71,
          41490.86,
          37734.18,
          37402.21,
          33102.27,
          32881.86,
          30244.4,
          26365.11,
          26062.12,
          24185.87,
          19709.19,
          19212.02,
          19109.02,
          19019.67,
          18805.43,
          18627.64,
          17908.46,
          17863.36,
          17861.79,
          16546.96,
          16396.55,
          16126.05,
          16002.41,
          15898.14,
          15133.77,
          15053.91,
          14373.11,
          14111.05,
          13235.41,
          12627.83,
          12302.03,
          11970.72,
          11548.03,
          10940.24,
          9996.08,
          9881.05,
          9772.35,
          8498.13,
          8447.44,
          8307.75,
          7429.11,
          6237.19,
          5597.23,
          5509.51,
          5248.52,
          5088.89,
          4304.76,
          3395.22,
          3261.67,
          2662.79,
          2401.85,
          2182.72,
          1129.93,
          912.48,
          790.6,
          200145.91
         ],
         "yaxis": "y"
        },
        {
         "hovertemplate": "type=ladder_3<br>Mass=%{x}<br>Vol=%{y}<extra></extra>",
         "legendgroup": "ladder_3",
         "marker": {
          "color": "#00cc96",
          "symbol": "circle"
         },
         "mode": "markers",
         "name": "ladder_3",
         "orientation": "v",
         "showlegend": true,
         "type": "scatter",
         "x": [
          24232.2913296959,
          6720.99956193812,
          6415.95775398294,
          5421.81461503746,
          4810.74670954933,
          5115.78884673967,
          5727.83854491296,
          8715.28075864902,
          9034.3419422131,
          8051.17871977834,
          8396.22381133442,
          6070.90521864812,
          7706.12812558896,
          9684.43235305755,
          10029.4852831546,
          4200.66413180695,
          4505.70386620078,
          7361.08019395483,
          9339.3801425999,
          3855.61074856348,
          12587.8632961977,
          20006.8546207698,
          13503.9755158531,
          12892.9032169784,
          16066.3047411193,
          15455.2343990788,
          23236.2448437372,
          18028.571216869,
          12258.8073344786,
          24254.2802300639,
          1573.23510649676
         ],
         "xaxis": "x",
         "y": [
          791293.67,
          45408.24,
          42574.71,
          41490.86,
          37734.18,
          37402.21,
          33102.27,
          32881.86,
          30244.4,
          26365.11,
          26062.12,
          19212.02,
          19109.02,
          18805.43,
          18627.64,
          17861.79,
          16002.41,
          15898.14,
          14373.11,
          5509.51,
          3259.88,
          2442.63,
          2303.46,
          2075.93,
          1224.51,
          981.29,
          817.68,
          991.94,
          362.37,
          10578.43,
          200145.91
         ],
         "yaxis": "y"
        },
        {
         "hovertemplate": "type=ladder_4<br>Mass=%{x}<br>Vol=%{y}<extra></extra>",
         "legendgroup": "ladder_4",
         "marker": {
          "color": "#ab63fa",
          "symbol": "circle"
         },
         "mode": "markers",
         "name": "ladder_4",
         "orientation": "v",
         "showlegend": true,
         "type": "scatter",
         "x": [
          9698.45401664417,
          24247.297734554,
          9354.40432509672
         ],
         "xaxis": "x",
         "y": [
          1466.7,
          8721.45,
          1413.93
         ],
         "yaxis": "y"
        }
       ],
       "layout": {
        "legend": {
         "title": {
          "text": "type"
         },
         "tracegroupgap": 0
        },
        "margin": {
         "t": 60
        },
        "template": {
         "data": {
          "bar": [
           {
            "error_x": {
             "color": "#2a3f5f"
            },
            "error_y": {
             "color": "#2a3f5f"
            },
            "marker": {
             "line": {
              "color": "#E5ECF6",
              "width": 0.5
             }
            },
            "type": "bar"
           }
          ],
          "barpolar": [
           {
            "marker": {
             "line": {
              "color": "#E5ECF6",
              "width": 0.5
             }
            },
            "type": "barpolar"
           }
          ],
          "carpet": [
           {
            "aaxis": {
             "endlinecolor": "#2a3f5f",
             "gridcolor": "white",
             "linecolor": "white",
             "minorgridcolor": "white",
             "startlinecolor": "#2a3f5f"
            },
            "baxis": {
             "endlinecolor": "#2a3f5f",
             "gridcolor": "white",
             "linecolor": "white",
             "minorgridcolor": "white",
             "startlinecolor": "#2a3f5f"
            },
            "type": "carpet"
           }
          ],
          "choropleth": [
           {
            "colorbar": {
             "outlinewidth": 0,
             "ticks": ""
            },
            "type": "choropleth"
           }
          ],
          "contour": [
           {
            "colorbar": {
             "outlinewidth": 0,
             "ticks": ""
            },
            "colorscale": [
             [
              0,
              "#0d0887"
             ],
             [
              0.1111111111111111,
              "#46039f"
             ],
             [
              0.2222222222222222,
              "#7201a8"
             ],
             [
              0.3333333333333333,
              "#9c179e"
             ],
             [
              0.4444444444444444,
              "#bd3786"
             ],
             [
              0.5555555555555556,
              "#d8576b"
             ],
             [
              0.6666666666666666,
              "#ed7953"
             ],
             [
              0.7777777777777778,
              "#fb9f3a"
             ],
             [
              0.8888888888888888,
              "#fdca26"
             ],
             [
              1,
              "#f0f921"
             ]
            ],
            "type": "contour"
           }
          ],
          "contourcarpet": [
           {
            "colorbar": {
             "outlinewidth": 0,
             "ticks": ""
            },
            "type": "contourcarpet"
           }
          ],
          "heatmap": [
           {
            "colorbar": {
             "outlinewidth": 0,
             "ticks": ""
            },
            "colorscale": [
             [
              0,
              "#0d0887"
             ],
             [
              0.1111111111111111,
              "#46039f"
             ],
             [
              0.2222222222222222,
              "#7201a8"
             ],
             [
              0.3333333333333333,
              "#9c179e"
             ],
             [
              0.4444444444444444,
              "#bd3786"
             ],
             [
              0.5555555555555556,
              "#d8576b"
             ],
             [
              0.6666666666666666,
              "#ed7953"
             ],
             [
              0.7777777777777778,
              "#fb9f3a"
             ],
             [
              0.8888888888888888,
              "#fdca26"
             ],
             [
              1,
              "#f0f921"
             ]
            ],
            "type": "heatmap"
           }
          ],
          "heatmapgl": [
           {
            "colorbar": {
             "outlinewidth": 0,
             "ticks": ""
            },
            "colorscale": [
             [
              0,
              "#0d0887"
             ],
             [
              0.1111111111111111,
              "#46039f"
             ],
             [
              0.2222222222222222,
              "#7201a8"
             ],
             [
              0.3333333333333333,
              "#9c179e"
             ],
             [
              0.4444444444444444,
              "#bd3786"
             ],
             [
              0.5555555555555556,
              "#d8576b"
             ],
             [
              0.6666666666666666,
              "#ed7953"
             ],
             [
              0.7777777777777778,
              "#fb9f3a"
             ],
             [
              0.8888888888888888,
              "#fdca26"
             ],
             [
              1,
              "#f0f921"
             ]
            ],
            "type": "heatmapgl"
           }
          ],
          "histogram": [
           {
            "marker": {
             "colorbar": {
              "outlinewidth": 0,
              "ticks": ""
             }
            },
            "type": "histogram"
           }
          ],
          "histogram2d": [
           {
            "colorbar": {
             "outlinewidth": 0,
             "ticks": ""
            },
            "colorscale": [
             [
              0,
              "#0d0887"
             ],
             [
              0.1111111111111111,
              "#46039f"
             ],
             [
              0.2222222222222222,
              "#7201a8"
             ],
             [
              0.3333333333333333,
              "#9c179e"
             ],
             [
              0.4444444444444444,
              "#bd3786"
             ],
             [
              0.5555555555555556,
              "#d8576b"
             ],
             [
              0.6666666666666666,
              "#ed7953"
             ],
             [
              0.7777777777777778,
              "#fb9f3a"
             ],
             [
              0.8888888888888888,
              "#fdca26"
             ],
             [
              1,
              "#f0f921"
             ]
            ],
            "type": "histogram2d"
           }
          ],
          "histogram2dcontour": [
           {
            "colorbar": {
             "outlinewidth": 0,
             "ticks": ""
            },
            "colorscale": [
             [
              0,
              "#0d0887"
             ],
             [
              0.1111111111111111,
              "#46039f"
             ],
             [
              0.2222222222222222,
              "#7201a8"
             ],
             [
              0.3333333333333333,
              "#9c179e"
             ],
             [
              0.4444444444444444,
              "#bd3786"
             ],
             [
              0.5555555555555556,
              "#d8576b"
             ],
             [
              0.6666666666666666,
              "#ed7953"
             ],
             [
              0.7777777777777778,
              "#fb9f3a"
             ],
             [
              0.8888888888888888,
              "#fdca26"
             ],
             [
              1,
              "#f0f921"
             ]
            ],
            "type": "histogram2dcontour"
           }
          ],
          "mesh3d": [
           {
            "colorbar": {
             "outlinewidth": 0,
             "ticks": ""
            },
            "type": "mesh3d"
           }
          ],
          "parcoords": [
           {
            "line": {
             "colorbar": {
              "outlinewidth": 0,
              "ticks": ""
             }
            },
            "type": "parcoords"
           }
          ],
          "pie": [
           {
            "automargin": true,
            "type": "pie"
           }
          ],
          "scatter": [
           {
            "marker": {
             "colorbar": {
              "outlinewidth": 0,
              "ticks": ""
             }
            },
            "type": "scatter"
           }
          ],
          "scatter3d": [
           {
            "line": {
             "colorbar": {
              "outlinewidth": 0,
              "ticks": ""
             }
            },
            "marker": {
             "colorbar": {
              "outlinewidth": 0,
              "ticks": ""
             }
            },
            "type": "scatter3d"
           }
          ],
          "scattercarpet": [
           {
            "marker": {
             "colorbar": {
              "outlinewidth": 0,
              "ticks": ""
             }
            },
            "type": "scattercarpet"
           }
          ],
          "scattergeo": [
           {
            "marker": {
             "colorbar": {
              "outlinewidth": 0,
              "ticks": ""
             }
            },
            "type": "scattergeo"
           }
          ],
          "scattergl": [
           {
            "marker": {
             "colorbar": {
              "outlinewidth": 0,
              "ticks": ""
             }
            },
            "type": "scattergl"
           }
          ],
          "scattermapbox": [
           {
            "marker": {
             "colorbar": {
              "outlinewidth": 0,
              "ticks": ""
             }
            },
            "type": "scattermapbox"
           }
          ],
          "scatterpolar": [
           {
            "marker": {
             "colorbar": {
              "outlinewidth": 0,
              "ticks": ""
             }
            },
            "type": "scatterpolar"
           }
          ],
          "scatterpolargl": [
           {
            "marker": {
             "colorbar": {
              "outlinewidth": 0,
              "ticks": ""
             }
            },
            "type": "scatterpolargl"
           }
          ],
          "scatterternary": [
           {
            "marker": {
             "colorbar": {
              "outlinewidth": 0,
              "ticks": ""
             }
            },
            "type": "scatterternary"
           }
          ],
          "surface": [
           {
            "colorbar": {
             "outlinewidth": 0,
             "ticks": ""
            },
            "colorscale": [
             [
              0,
              "#0d0887"
             ],
             [
              0.1111111111111111,
              "#46039f"
             ],
             [
              0.2222222222222222,
              "#7201a8"
             ],
             [
              0.3333333333333333,
              "#9c179e"
             ],
             [
              0.4444444444444444,
              "#bd3786"
             ],
             [
              0.5555555555555556,
              "#d8576b"
             ],
             [
              0.6666666666666666,
              "#ed7953"
             ],
             [
              0.7777777777777778,
              "#fb9f3a"
             ],
             [
              0.8888888888888888,
              "#fdca26"
             ],
             [
              1,
              "#f0f921"
             ]
            ],
            "type": "surface"
           }
          ],
          "table": [
           {
            "cells": {
             "fill": {
              "color": "#EBF0F8"
             },
             "line": {
              "color": "white"
             }
            },
            "header": {
             "fill": {
              "color": "#C8D4E3"
             },
             "line": {
              "color": "white"
             }
            },
            "type": "table"
           }
          ]
         },
         "layout": {
          "annotationdefaults": {
           "arrowcolor": "#2a3f5f",
           "arrowhead": 0,
           "arrowwidth": 1
          },
          "autotypenumbers": "strict",
          "coloraxis": {
           "colorbar": {
            "outlinewidth": 0,
            "ticks": ""
           }
          },
          "colorscale": {
           "diverging": [
            [
             0,
             "#8e0152"
            ],
            [
             0.1,
             "#c51b7d"
            ],
            [
             0.2,
             "#de77ae"
            ],
            [
             0.3,
             "#f1b6da"
            ],
            [
             0.4,
             "#fde0ef"
            ],
            [
             0.5,
             "#f7f7f7"
            ],
            [
             0.6,
             "#e6f5d0"
            ],
            [
             0.7,
             "#b8e186"
            ],
            [
             0.8,
             "#7fbc41"
            ],
            [
             0.9,
             "#4d9221"
            ],
            [
             1,
             "#276419"
            ]
           ],
           "sequential": [
            [
             0,
             "#0d0887"
            ],
            [
             0.1111111111111111,
             "#46039f"
            ],
            [
             0.2222222222222222,
             "#7201a8"
            ],
            [
             0.3333333333333333,
             "#9c179e"
            ],
            [
             0.4444444444444444,
             "#bd3786"
            ],
            [
             0.5555555555555556,
             "#d8576b"
            ],
            [
             0.6666666666666666,
             "#ed7953"
            ],
            [
             0.7777777777777778,
             "#fb9f3a"
            ],
            [
             0.8888888888888888,
             "#fdca26"
            ],
            [
             1,
             "#f0f921"
            ]
           ],
           "sequentialminus": [
            [
             0,
             "#0d0887"
            ],
            [
             0.1111111111111111,
             "#46039f"
            ],
            [
             0.2222222222222222,
             "#7201a8"
            ],
            [
             0.3333333333333333,
             "#9c179e"
            ],
            [
             0.4444444444444444,
             "#bd3786"
            ],
            [
             0.5555555555555556,
             "#d8576b"
            ],
            [
             0.6666666666666666,
             "#ed7953"
            ],
            [
             0.7777777777777778,
             "#fb9f3a"
            ],
            [
             0.8888888888888888,
             "#fdca26"
            ],
            [
             1,
             "#f0f921"
            ]
           ]
          },
          "colorway": [
           "#636efa",
           "#EF553B",
           "#00cc96",
           "#ab63fa",
           "#FFA15A",
           "#19d3f3",
           "#FF6692",
           "#B6E880",
           "#FF97FF",
           "#FECB52"
          ],
          "font": {
           "color": "#2a3f5f"
          },
          "geo": {
           "bgcolor": "white",
           "lakecolor": "white",
           "landcolor": "#E5ECF6",
           "showlakes": true,
           "showland": true,
           "subunitcolor": "white"
          },
          "hoverlabel": {
           "align": "left"
          },
          "hovermode": "closest",
          "mapbox": {
           "style": "light"
          },
          "paper_bgcolor": "white",
          "plot_bgcolor": "#E5ECF6",
          "polar": {
           "angularaxis": {
            "gridcolor": "white",
            "linecolor": "white",
            "ticks": ""
           },
           "bgcolor": "#E5ECF6",
           "radialaxis": {
            "gridcolor": "white",
            "linecolor": "white",
            "ticks": ""
           }
          },
          "scene": {
           "xaxis": {
            "backgroundcolor": "#E5ECF6",
            "gridcolor": "white",
            "gridwidth": 2,
            "linecolor": "white",
            "showbackground": true,
            "ticks": "",
            "zerolinecolor": "white"
           },
           "yaxis": {
            "backgroundcolor": "#E5ECF6",
            "gridcolor": "white",
            "gridwidth": 2,
            "linecolor": "white",
            "showbackground": true,
            "ticks": "",
            "zerolinecolor": "white"
           },
           "zaxis": {
            "backgroundcolor": "#E5ECF6",
            "gridcolor": "white",
            "gridwidth": 2,
            "linecolor": "white",
            "showbackground": true,
            "ticks": "",
            "zerolinecolor": "white"
           }
          },
          "shapedefaults": {
           "line": {
            "color": "#2a3f5f"
           }
          },
          "ternary": {
           "aaxis": {
            "gridcolor": "white",
            "linecolor": "white",
            "ticks": ""
           },
           "baxis": {
            "gridcolor": "white",
            "linecolor": "white",
            "ticks": ""
           },
           "bgcolor": "#E5ECF6",
           "caxis": {
            "gridcolor": "white",
            "linecolor": "white",
            "ticks": ""
           }
          },
          "title": {
           "x": 0.05
          },
          "xaxis": {
           "automargin": true,
           "gridcolor": "white",
           "linecolor": "white",
           "ticks": "",
           "title": {
            "standoff": 15
           },
           "zerolinecolor": "white",
           "zerolinewidth": 2
          },
          "yaxis": {
           "automargin": true,
           "gridcolor": "white",
           "linecolor": "white",
           "ticks": "",
           "title": {
            "standoff": 15
           },
           "zerolinecolor": "white",
           "zerolinewidth": 2
          }
         }
        },
        "xaxis": {
         "anchor": "y",
         "domain": [
          0,
          1
         ],
         "title": {
          "text": "Mass"
         }
        },
        "yaxis": {
         "anchor": "x",
         "domain": [
          0,
          1
         ],
         "title": {
          "text": "Vol"
         }
        }
       }
      },
      "text/html": [
       "<div>                            <div id=\"19829e1f-3eb8-4d8b-bfe1-34903dce4105\" class=\"plotly-graph-div\" style=\"height:525px; width:100%;\"></div>            <script type=\"text/javascript\">                require([\"plotly\"], function(Plotly) {                    window.PLOTLYENV=window.PLOTLYENV || {};                                    if (document.getElementById(\"19829e1f-3eb8-4d8b-bfe1-34903dce4105\")) {                    Plotly.newPlot(                        \"19829e1f-3eb8-4d8b-bfe1-34903dce4105\",                        [{\"hovertemplate\": \"type=ladder_1<br>Mass=%{x}<br>Vol=%{y}<extra></extra>\", \"legendgroup\": \"ladder_1\", \"marker\": {\"color\": \"#636efa\", \"symbol\": \"circle\"}, \"mode\": \"markers\", \"name\": \"ladder_1\", \"orientation\": \"v\", \"showlegend\": true, \"type\": \"scatter\", \"x\": [6720.99956193812, 6415.95775398294, 5421.81461503746, 4810.74670954933, 5115.78884673967, 5727.83854491296, 8715.28075864902, 9034.3419422131, 8051.17871977834, 8396.22381133442, 12573.8456118822, 10679.5696911427, 6070.90521864812, 7706.12812558896, 13489.9591112701, 9684.43235305755, 10029.4852831546, 16052.2923870713, 16687.3731344216, 4200.66413180695, 11634.7080155978, 10984.6120207818, 17706.5150035621, 4505.70386620078, 7361.08019395483, 13795.9870245382, 13184.9099021291, 9339.3801425999, 18014.5544365778, 11289.653852774, 15441.2504967915, 12244.7938090263, 18322.5991243918, 10334.5242073844, 14101.0327044641, 17377.4723025065, 18667.6586771185, 15746.2652290827, 17032.4222473138, 12878.8928325522, 16358.3136560012, 14446.0722921197, 20298.8597946174, 3855.61074856348, 15096.1671459629, 11939.7063171988, 19663.7741393553, 20604.8988994247, 14751.1310374379, 22917.2111717332, 22611.1684869208, 20910.9181293114, 23222.2016472315, 19318.731658224, 23832.2872914486, 21255.9825365589, 1573.23510649676], \"xaxis\": \"x\", \"y\": [45408.24, 42574.71, 41490.86, 37734.18, 37402.21, 33102.27, 32881.86, 30244.4, 26365.11, 26062.12, 24185.87, 19709.19, 19212.02, 19109.02, 19019.67, 18805.43, 18627.64, 17908.46, 17863.36, 17861.79, 16546.96, 16396.55, 16126.05, 16002.41, 15898.14, 15133.77, 15053.91, 14373.11, 14111.05, 13235.41, 12627.83, 12302.03, 11970.72, 11548.03, 10940.24, 9996.08, 9881.05, 9772.35, 8498.13, 8447.44, 8307.75, 7429.11, 6237.19, 5509.51, 5248.52, 5088.89, 4304.76, 4185.86, 3261.67, 3227.32, 2796.04, 2169.36, 1596.56, 1129.93, 588.21, 2878.34, 200145.91], \"yaxis\": \"y\"}, {\"hovertemplate\": \"type=ladder_2<br>Mass=%{x}<br>Vol=%{y}<extra></extra>\", \"legendgroup\": \"ladder_2\", \"marker\": {\"color\": \"#EF553B\", \"symbol\": \"circle\"}, \"mode\": \"markers\", \"name\": \"ladder_2\", \"orientation\": \"v\", \"showlegend\": true, \"type\": \"scatter\", \"x\": [24217.3030798282, 6720.99956193812, 6415.95775398294, 5421.81461503746, 4810.74670954933, 5115.78884673967, 5727.83854491296, 8715.28075864902, 9034.3419422131, 8051.17871977834, 8396.22381133442, 12573.8456118822, 10679.5696911427, 6070.90521864812, 7706.12812558896, 13489.9591112701, 9684.43235305755, 10029.4852831546, 16052.2923870713, 16687.3731344216, 4200.66413180695, 11634.7080155978, 10984.6120207818, 17706.5150035621, 4505.70386620078, 7361.08019395483, 13795.9870245382, 13184.9099021291, 9339.3801425999, 18014.5544365778, 11289.653852774, 15441.2504967915, 12244.7938090263, 18322.5991243918, 10334.5242073844, 14101.0327044641, 17377.4723025065, 18667.6586771185, 15746.2652290827, 17032.4222473138, 12878.8928325522, 16358.3136560012, 14446.0722921197, 20298.8597946174, 23221.2221890785, 3855.61074856348, 15096.1671459629, 11939.7063171988, 19663.7741393553, 23526.2587072879, 14751.1310374379, 20603.8939685011, 20909.9288536878, 22916.1972048664, 19318.731658224, 22251.1191759271, 21254.9766263762, 1573.23510649676], \"xaxis\": \"x\", \"y\": [2419823.39, 45408.24, 42574.71, 41490.86, 37734.18, 37402.21, 33102.27, 32881.86, 30244.4, 26365.11, 26062.12, 24185.87, 19709.19, 19212.02, 19109.02, 19019.67, 18805.43, 18627.64, 17908.46, 17863.36, 17861.79, 16546.96, 16396.55, 16126.05, 16002.41, 15898.14, 15133.77, 15053.91, 14373.11, 14111.05, 13235.41, 12627.83, 12302.03, 11970.72, 11548.03, 10940.24, 9996.08, 9881.05, 9772.35, 8498.13, 8447.44, 8307.75, 7429.11, 6237.19, 5597.23, 5509.51, 5248.52, 5088.89, 4304.76, 3395.22, 3261.67, 2662.79, 2401.85, 2182.72, 1129.93, 912.48, 790.6, 200145.91], \"yaxis\": \"y\"}, {\"hovertemplate\": \"type=ladder_3<br>Mass=%{x}<br>Vol=%{y}<extra></extra>\", \"legendgroup\": \"ladder_3\", \"marker\": {\"color\": \"#00cc96\", \"symbol\": \"circle\"}, \"mode\": \"markers\", \"name\": \"ladder_3\", \"orientation\": \"v\", \"showlegend\": true, \"type\": \"scatter\", \"x\": [24232.2913296959, 6720.99956193812, 6415.95775398294, 5421.81461503746, 4810.74670954933, 5115.78884673967, 5727.83854491296, 8715.28075864902, 9034.3419422131, 8051.17871977834, 8396.22381133442, 6070.90521864812, 7706.12812558896, 9684.43235305755, 10029.4852831546, 4200.66413180695, 4505.70386620078, 7361.08019395483, 9339.3801425999, 3855.61074856348, 12587.8632961977, 20006.8546207698, 13503.9755158531, 12892.9032169784, 16066.3047411193, 15455.2343990788, 23236.2448437372, 18028.571216869, 12258.8073344786, 24254.2802300639, 1573.23510649676], \"xaxis\": \"x\", \"y\": [791293.67, 45408.24, 42574.71, 41490.86, 37734.18, 37402.21, 33102.27, 32881.86, 30244.4, 26365.11, 26062.12, 19212.02, 19109.02, 18805.43, 18627.64, 17861.79, 16002.41, 15898.14, 14373.11, 5509.51, 3259.88, 2442.63, 2303.46, 2075.93, 1224.51, 981.29, 817.68, 991.94, 362.37, 10578.43, 200145.91], \"yaxis\": \"y\"}, {\"hovertemplate\": \"type=ladder_4<br>Mass=%{x}<br>Vol=%{y}<extra></extra>\", \"legendgroup\": \"ladder_4\", \"marker\": {\"color\": \"#ab63fa\", \"symbol\": \"circle\"}, \"mode\": \"markers\", \"name\": \"ladder_4\", \"orientation\": \"v\", \"showlegend\": true, \"type\": \"scatter\", \"x\": [9698.45401664417, 24247.297734554, 9354.40432509672], \"xaxis\": \"x\", \"y\": [1466.7, 8721.45, 1413.93], \"yaxis\": \"y\"}],                        {\"legend\": {\"title\": {\"text\": \"type\"}, \"tracegroupgap\": 0}, \"margin\": {\"t\": 60}, \"template\": {\"data\": {\"bar\": [{\"error_x\": {\"color\": \"#2a3f5f\"}, \"error_y\": {\"color\": \"#2a3f5f\"}, \"marker\": {\"line\": {\"color\": \"#E5ECF6\", \"width\": 0.5}}, \"type\": \"bar\"}], \"barpolar\": [{\"marker\": {\"line\": {\"color\": \"#E5ECF6\", \"width\": 0.5}}, \"type\": \"barpolar\"}], \"carpet\": [{\"aaxis\": {\"endlinecolor\": \"#2a3f5f\", \"gridcolor\": \"white\", \"linecolor\": \"white\", \"minorgridcolor\": \"white\", \"startlinecolor\": \"#2a3f5f\"}, \"baxis\": {\"endlinecolor\": \"#2a3f5f\", \"gridcolor\": \"white\", \"linecolor\": \"white\", \"minorgridcolor\": \"white\", \"startlinecolor\": \"#2a3f5f\"}, \"type\": \"carpet\"}], \"choropleth\": [{\"colorbar\": {\"outlinewidth\": 0, \"ticks\": \"\"}, \"type\": \"choropleth\"}], \"contour\": [{\"colorbar\": {\"outlinewidth\": 0, \"ticks\": \"\"}, \"colorscale\": [[0.0, \"#0d0887\"], [0.1111111111111111, \"#46039f\"], [0.2222222222222222, \"#7201a8\"], [0.3333333333333333, \"#9c179e\"], [0.4444444444444444, \"#bd3786\"], [0.5555555555555556, \"#d8576b\"], [0.6666666666666666, \"#ed7953\"], [0.7777777777777778, \"#fb9f3a\"], [0.8888888888888888, \"#fdca26\"], [1.0, \"#f0f921\"]], \"type\": \"contour\"}], \"contourcarpet\": [{\"colorbar\": {\"outlinewidth\": 0, \"ticks\": \"\"}, \"type\": \"contourcarpet\"}], \"heatmap\": [{\"colorbar\": {\"outlinewidth\": 0, \"ticks\": \"\"}, \"colorscale\": [[0.0, \"#0d0887\"], [0.1111111111111111, \"#46039f\"], [0.2222222222222222, \"#7201a8\"], [0.3333333333333333, \"#9c179e\"], [0.4444444444444444, \"#bd3786\"], [0.5555555555555556, \"#d8576b\"], [0.6666666666666666, \"#ed7953\"], [0.7777777777777778, \"#fb9f3a\"], [0.8888888888888888, \"#fdca26\"], [1.0, \"#f0f921\"]], \"type\": \"heatmap\"}], \"heatmapgl\": [{\"colorbar\": {\"outlinewidth\": 0, \"ticks\": \"\"}, \"colorscale\": [[0.0, \"#0d0887\"], [0.1111111111111111, \"#46039f\"], [0.2222222222222222, \"#7201a8\"], [0.3333333333333333, \"#9c179e\"], [0.4444444444444444, \"#bd3786\"], [0.5555555555555556, \"#d8576b\"], [0.6666666666666666, \"#ed7953\"], [0.7777777777777778, \"#fb9f3a\"], [0.8888888888888888, \"#fdca26\"], [1.0, \"#f0f921\"]], \"type\": \"heatmapgl\"}], \"histogram\": [{\"marker\": {\"colorbar\": {\"outlinewidth\": 0, \"ticks\": \"\"}}, \"type\": \"histogram\"}], \"histogram2d\": [{\"colorbar\": {\"outlinewidth\": 0, \"ticks\": \"\"}, \"colorscale\": [[0.0, \"#0d0887\"], [0.1111111111111111, \"#46039f\"], [0.2222222222222222, \"#7201a8\"], [0.3333333333333333, \"#9c179e\"], [0.4444444444444444, \"#bd3786\"], [0.5555555555555556, \"#d8576b\"], [0.6666666666666666, \"#ed7953\"], [0.7777777777777778, \"#fb9f3a\"], [0.8888888888888888, \"#fdca26\"], [1.0, \"#f0f921\"]], \"type\": \"histogram2d\"}], \"histogram2dcontour\": [{\"colorbar\": {\"outlinewidth\": 0, \"ticks\": \"\"}, \"colorscale\": [[0.0, \"#0d0887\"], [0.1111111111111111, \"#46039f\"], [0.2222222222222222, \"#7201a8\"], [0.3333333333333333, \"#9c179e\"], [0.4444444444444444, \"#bd3786\"], [0.5555555555555556, \"#d8576b\"], [0.6666666666666666, \"#ed7953\"], [0.7777777777777778, \"#fb9f3a\"], [0.8888888888888888, \"#fdca26\"], [1.0, \"#f0f921\"]], \"type\": \"histogram2dcontour\"}], \"mesh3d\": [{\"colorbar\": {\"outlinewidth\": 0, \"ticks\": \"\"}, \"type\": \"mesh3d\"}], \"parcoords\": [{\"line\": {\"colorbar\": {\"outlinewidth\": 0, \"ticks\": \"\"}}, \"type\": \"parcoords\"}], \"pie\": [{\"automargin\": true, \"type\": \"pie\"}], \"scatter\": [{\"marker\": {\"colorbar\": {\"outlinewidth\": 0, \"ticks\": \"\"}}, \"type\": \"scatter\"}], \"scatter3d\": [{\"line\": {\"colorbar\": {\"outlinewidth\": 0, \"ticks\": \"\"}}, \"marker\": {\"colorbar\": {\"outlinewidth\": 0, \"ticks\": \"\"}}, \"type\": \"scatter3d\"}], \"scattercarpet\": [{\"marker\": {\"colorbar\": {\"outlinewidth\": 0, \"ticks\": \"\"}}, \"type\": \"scattercarpet\"}], \"scattergeo\": [{\"marker\": {\"colorbar\": {\"outlinewidth\": 0, \"ticks\": \"\"}}, \"type\": \"scattergeo\"}], \"scattergl\": [{\"marker\": {\"colorbar\": {\"outlinewidth\": 0, \"ticks\": \"\"}}, \"type\": \"scattergl\"}], \"scattermapbox\": [{\"marker\": {\"colorbar\": {\"outlinewidth\": 0, \"ticks\": \"\"}}, \"type\": \"scattermapbox\"}], \"scatterpolar\": [{\"marker\": {\"colorbar\": {\"outlinewidth\": 0, \"ticks\": \"\"}}, \"type\": \"scatterpolar\"}], \"scatterpolargl\": [{\"marker\": {\"colorbar\": {\"outlinewidth\": 0, \"ticks\": \"\"}}, \"type\": \"scatterpolargl\"}], \"scatterternary\": [{\"marker\": {\"colorbar\": {\"outlinewidth\": 0, \"ticks\": \"\"}}, \"type\": \"scatterternary\"}], \"surface\": [{\"colorbar\": {\"outlinewidth\": 0, \"ticks\": \"\"}, \"colorscale\": [[0.0, \"#0d0887\"], [0.1111111111111111, \"#46039f\"], [0.2222222222222222, \"#7201a8\"], [0.3333333333333333, \"#9c179e\"], [0.4444444444444444, \"#bd3786\"], [0.5555555555555556, \"#d8576b\"], [0.6666666666666666, \"#ed7953\"], [0.7777777777777778, \"#fb9f3a\"], [0.8888888888888888, \"#fdca26\"], [1.0, \"#f0f921\"]], \"type\": \"surface\"}], \"table\": [{\"cells\": {\"fill\": {\"color\": \"#EBF0F8\"}, \"line\": {\"color\": \"white\"}}, \"header\": {\"fill\": {\"color\": \"#C8D4E3\"}, \"line\": {\"color\": \"white\"}}, \"type\": \"table\"}]}, \"layout\": {\"annotationdefaults\": {\"arrowcolor\": \"#2a3f5f\", \"arrowhead\": 0, \"arrowwidth\": 1}, \"autotypenumbers\": \"strict\", \"coloraxis\": {\"colorbar\": {\"outlinewidth\": 0, \"ticks\": \"\"}}, \"colorscale\": {\"diverging\": [[0, \"#8e0152\"], [0.1, \"#c51b7d\"], [0.2, \"#de77ae\"], [0.3, \"#f1b6da\"], [0.4, \"#fde0ef\"], [0.5, \"#f7f7f7\"], [0.6, \"#e6f5d0\"], [0.7, \"#b8e186\"], [0.8, \"#7fbc41\"], [0.9, \"#4d9221\"], [1, \"#276419\"]], \"sequential\": [[0.0, \"#0d0887\"], [0.1111111111111111, \"#46039f\"], [0.2222222222222222, \"#7201a8\"], [0.3333333333333333, \"#9c179e\"], [0.4444444444444444, \"#bd3786\"], [0.5555555555555556, \"#d8576b\"], [0.6666666666666666, \"#ed7953\"], [0.7777777777777778, \"#fb9f3a\"], [0.8888888888888888, \"#fdca26\"], [1.0, \"#f0f921\"]], \"sequentialminus\": [[0.0, \"#0d0887\"], [0.1111111111111111, \"#46039f\"], [0.2222222222222222, \"#7201a8\"], [0.3333333333333333, \"#9c179e\"], [0.4444444444444444, \"#bd3786\"], [0.5555555555555556, \"#d8576b\"], [0.6666666666666666, \"#ed7953\"], [0.7777777777777778, \"#fb9f3a\"], [0.8888888888888888, \"#fdca26\"], [1.0, \"#f0f921\"]]}, \"colorway\": [\"#636efa\", \"#EF553B\", \"#00cc96\", \"#ab63fa\", \"#FFA15A\", \"#19d3f3\", \"#FF6692\", \"#B6E880\", \"#FF97FF\", \"#FECB52\"], \"font\": {\"color\": \"#2a3f5f\"}, \"geo\": {\"bgcolor\": \"white\", \"lakecolor\": \"white\", \"landcolor\": \"#E5ECF6\", \"showlakes\": true, \"showland\": true, \"subunitcolor\": \"white\"}, \"hoverlabel\": {\"align\": \"left\"}, \"hovermode\": \"closest\", \"mapbox\": {\"style\": \"light\"}, \"paper_bgcolor\": \"white\", \"plot_bgcolor\": \"#E5ECF6\", \"polar\": {\"angularaxis\": {\"gridcolor\": \"white\", \"linecolor\": \"white\", \"ticks\": \"\"}, \"bgcolor\": \"#E5ECF6\", \"radialaxis\": {\"gridcolor\": \"white\", \"linecolor\": \"white\", \"ticks\": \"\"}}, \"scene\": {\"xaxis\": {\"backgroundcolor\": \"#E5ECF6\", \"gridcolor\": \"white\", \"gridwidth\": 2, \"linecolor\": \"white\", \"showbackground\": true, \"ticks\": \"\", \"zerolinecolor\": \"white\"}, \"yaxis\": {\"backgroundcolor\": \"#E5ECF6\", \"gridcolor\": \"white\", \"gridwidth\": 2, \"linecolor\": \"white\", \"showbackground\": true, \"ticks\": \"\", \"zerolinecolor\": \"white\"}, \"zaxis\": {\"backgroundcolor\": \"#E5ECF6\", \"gridcolor\": \"white\", \"gridwidth\": 2, \"linecolor\": \"white\", \"showbackground\": true, \"ticks\": \"\", \"zerolinecolor\": \"white\"}}, \"shapedefaults\": {\"line\": {\"color\": \"#2a3f5f\"}}, \"ternary\": {\"aaxis\": {\"gridcolor\": \"white\", \"linecolor\": \"white\", \"ticks\": \"\"}, \"baxis\": {\"gridcolor\": \"white\", \"linecolor\": \"white\", \"ticks\": \"\"}, \"bgcolor\": \"#E5ECF6\", \"caxis\": {\"gridcolor\": \"white\", \"linecolor\": \"white\", \"ticks\": \"\"}}, \"title\": {\"x\": 0.05}, \"xaxis\": {\"automargin\": true, \"gridcolor\": \"white\", \"linecolor\": \"white\", \"ticks\": \"\", \"title\": {\"standoff\": 15}, \"zerolinecolor\": \"white\", \"zerolinewidth\": 2}, \"yaxis\": {\"automargin\": true, \"gridcolor\": \"white\", \"linecolor\": \"white\", \"ticks\": \"\", \"title\": {\"standoff\": 15}, \"zerolinecolor\": \"white\", \"zerolinewidth\": 2}}}, \"xaxis\": {\"anchor\": \"y\", \"domain\": [0.0, 1.0], \"title\": {\"text\": \"Mass\"}}, \"yaxis\": {\"anchor\": \"x\", \"domain\": [0.0, 1.0], \"title\": {\"text\": \"Vol\"}}},                        {\"responsive\": true}                    ).then(function(){\n",
       "                            \n",
       "var gd = document.getElementById('19829e1f-3eb8-4d8b-bfe1-34903dce4105');\n",
       "var x = new MutationObserver(function (mutations, observer) {{\n",
       "        var display = window.getComputedStyle(gd).display;\n",
       "        if (!display || display === 'none') {{\n",
       "            console.log([gd, 'removed!']);\n",
       "            Plotly.purge(gd);\n",
       "            observer.disconnect();\n",
       "        }}\n",
       "}});\n",
       "\n",
       "// Listen for the removal of the full notebook cells\n",
       "var notebookContainer = gd.closest('#notebook-container');\n",
       "if (notebookContainer) {{\n",
       "    x.observe(notebookContainer, {childList: true});\n",
       "}}\n",
       "\n",
       "// Listen for the clearing of the current output cell\n",
       "var outputEl = gd.closest('.output');\n",
       "if (outputEl) {{\n",
       "    x.observe(outputEl, {childList: true});\n",
       "}}\n",
       "\n",
       "                        })                };                });            </script>        </div>"
      ]
     },
     "metadata": {},
     "output_type": "display_data"
    }
   ],
   "source": [
    "# match Methyls, -M, +M, +2M\n",
    "\n",
    "df_tmp = df_218_3p.copy()\n",
    "df_tmp = df_tmp[df_tmp.Mass<24189]\n",
    "# df_tmp = df_tmp[df_tmp.Mass>20200]\n",
    "# df_tmp = df_tmp[df_tmp.Mass<4200]\n",
    "df_sample = dfx\n",
    "dfm1 = match_dfs_with_adducts(df_tmp, df_sample)\n",
    "dfm1.RT = 0\n",
    "# plotly_zone(dfm1)\n",
    "# df_tmp.Mass -= M\n",
    "df_tmp = df_217_3p_6mG.copy()\n",
    "dfm2 = match_dfs_with_adducts(df_tmp, df_sample)\n",
    "dfm2.RT = -1\n",
    "# plotly_zones(dfm1, dfm2)\n",
    "\n",
    "# df_tmp.Mass += 2*M\n",
    "df_tmp = df_232_3p.copy()\n",
    "dfm3 = match_dfs_with_adducts(df_tmp, df_sample)\n",
    "dfm3.RT = 1\n",
    "# df_tmp.Mass += 1\n",
    "# dfm3_ = match_dfs_with_adducts(df_tmp, df_sample)\n",
    "# dfm3_.RT = 1\n",
    "\n",
    "df_tmp.Mass += M\n",
    "dfm4 = match_dfs_with1Da(df_tmp, df_sample)\n",
    "dfm4.RT = 2\n",
    "# df_tmp.Mass += 1\n",
    "# dfm4_ = match_dfs_with_adducts(df_tmp, df_sample)\n",
    "# dfm4_.RT = 2\n",
    "\n",
    "plotly_multi_zones([dfm1, dfm2, dfm3, dfm4], y='RT')\n",
    "plotly_multi_zones([dfm1, dfm2, dfm3, dfm4], y='Vol')\n",
    "# plotly_multi_zones([dfm1, dfm2, dfm3, dfm4], y='RT')\n",
    "# plotly_multi_zones([dfm1, dfm2, dfm3, dfm4], y='Vol')\n",
    "\n",
    "# df_tmp = df_203_3p.copy()\n",
    "# df_tmp = df_tmp[df_tmp.Mass>20200]\n",
    "# # df_tmp = df_tmp[df_tmp.Mass<4200]\n",
    "# dfm2 = match_dfs(df_tmp, df_sample)\n",
    "# # plotly_zones(dfm2, dfm1)\n",
    "# # plotly_zone(dfm2)\n",
    "\n",
    "# bcr = base_calling_random(dfm1)\n",
    "# plotly_basecalling(dfm1, bcr[1], annotate=False)\n",
    "# bcr = base_calling_random(dfm2)\n",
    "# plotly_basecalling(dfm2, bcr[1], annotate=False)"
   ]
  },
  {
   "cell_type": "code",
   "execution_count": null,
   "id": "buried-subscriber",
   "metadata": {},
   "outputs": [],
   "source": []
  },
  {
   "cell_type": "code",
   "execution_count": 177,
   "id": "monthly-penalty",
   "metadata": {},
   "outputs": [
    {
     "data": {
      "application/vnd.plotly.v1+json": {
       "config": {
        "plotlyServerURL": "https://plot.ly"
       },
       "data": [
        {
         "hovertemplate": "type=Baseline<br>Mass=%{x}<br>RT=%{y}<extra></extra>",
         "legendgroup": "Baseline",
         "marker": {
          "color": "#636efa",
          "symbol": "circle"
         },
         "mode": "markers",
         "name": "Baseline",
         "orientation": "v",
         "showlegend": true,
         "type": "scatter",
         "x": [
          6720.99956193812,
          6415.95775398294,
          5421.81461503746,
          4810.74670954933,
          5115.78884673967,
          5727.83854491296,
          8715.28075864902,
          9034.3419422131,
          8051.17871977834,
          8396.22381133442,
          12573.8456118822,
          10679.5696911427,
          6070.90521864812,
          7706.12812558896,
          13489.9591112701,
          9684.43235305755,
          10029.4852831546,
          16052.2923870713,
          16687.3731344216,
          4200.66413180695,
          11634.7080155978,
          10984.6120207818,
          17706.5150035621,
          4505.70386620078,
          7361.08019395483,
          13795.9870245382,
          13184.9099021291,
          9339.3801425999,
          18014.5544365778,
          11289.653852774,
          15441.2504967915,
          12244.7938090263,
          18322.5991243918,
          10334.5242073844,
          14101.0327044641,
          17377.4723025065,
          18667.6586771185,
          15746.2652290827,
          17032.4222473138,
          12878.8928325522,
          16358.3136560012,
          14446.0722921197,
          20298.8597946174,
          23221.2221890785,
          3855.61074856348,
          15096.1671459629,
          11939.7063171988,
          19663.7741393553,
          23526.2587072879,
          14751.1310374379,
          20603.8939685011,
          20909.9288536878,
          22916.1972048664,
          19318.731658224,
          22251.1191759271,
          21254.9766263762
         ],
         "xaxis": "x",
         "y": [
          0,
          0,
          0,
          0,
          0,
          0,
          0,
          0,
          0,
          0,
          0,
          0,
          0,
          0,
          0,
          0,
          0,
          0,
          0,
          0,
          0,
          0,
          0,
          0,
          0,
          0,
          0,
          0,
          0,
          0,
          0,
          0,
          0,
          0,
          0,
          0,
          0,
          0,
          0,
          0,
          0,
          0,
          0,
          0,
          0,
          0,
          0,
          0,
          0,
          0,
          0,
          0,
          0,
          0,
          0,
          0
         ],
         "yaxis": "y"
        },
        {
         "hovertemplate": "type=+1<br>Mass=%{x}<br>RT=%{y}<extra></extra>",
         "legendgroup": "+1",
         "marker": {
          "color": "#EF553B",
          "symbol": "circle"
         },
         "mode": "markers",
         "name": "+1",
         "orientation": "v",
         "showlegend": true,
         "type": "scatter",
         "x": [
          19993.8425543094,
          19013.7071341648,
          20604.8988994247,
          20299.8589859828,
          19319.7306792613,
          22917.2111717332,
          22611.1684869208,
          20910.9181293114,
          23222.2016472315,
          14102.0361589687,
          23832.2872914486,
          21255.9825365589,
          6416.95555968777
         ],
         "xaxis": "x",
         "y": [
          1,
          1,
          1,
          1,
          1,
          1,
          1,
          1,
          1,
          1,
          1,
          1,
          1
         ],
         "yaxis": "y"
        }
       ],
       "layout": {
        "legend": {
         "title": {
          "text": "type"
         },
         "tracegroupgap": 0
        },
        "margin": {
         "t": 60
        },
        "template": {
         "data": {
          "bar": [
           {
            "error_x": {
             "color": "#2a3f5f"
            },
            "error_y": {
             "color": "#2a3f5f"
            },
            "marker": {
             "line": {
              "color": "#E5ECF6",
              "width": 0.5
             }
            },
            "type": "bar"
           }
          ],
          "barpolar": [
           {
            "marker": {
             "line": {
              "color": "#E5ECF6",
              "width": 0.5
             }
            },
            "type": "barpolar"
           }
          ],
          "carpet": [
           {
            "aaxis": {
             "endlinecolor": "#2a3f5f",
             "gridcolor": "white",
             "linecolor": "white",
             "minorgridcolor": "white",
             "startlinecolor": "#2a3f5f"
            },
            "baxis": {
             "endlinecolor": "#2a3f5f",
             "gridcolor": "white",
             "linecolor": "white",
             "minorgridcolor": "white",
             "startlinecolor": "#2a3f5f"
            },
            "type": "carpet"
           }
          ],
          "choropleth": [
           {
            "colorbar": {
             "outlinewidth": 0,
             "ticks": ""
            },
            "type": "choropleth"
           }
          ],
          "contour": [
           {
            "colorbar": {
             "outlinewidth": 0,
             "ticks": ""
            },
            "colorscale": [
             [
              0,
              "#0d0887"
             ],
             [
              0.1111111111111111,
              "#46039f"
             ],
             [
              0.2222222222222222,
              "#7201a8"
             ],
             [
              0.3333333333333333,
              "#9c179e"
             ],
             [
              0.4444444444444444,
              "#bd3786"
             ],
             [
              0.5555555555555556,
              "#d8576b"
             ],
             [
              0.6666666666666666,
              "#ed7953"
             ],
             [
              0.7777777777777778,
              "#fb9f3a"
             ],
             [
              0.8888888888888888,
              "#fdca26"
             ],
             [
              1,
              "#f0f921"
             ]
            ],
            "type": "contour"
           }
          ],
          "contourcarpet": [
           {
            "colorbar": {
             "outlinewidth": 0,
             "ticks": ""
            },
            "type": "contourcarpet"
           }
          ],
          "heatmap": [
           {
            "colorbar": {
             "outlinewidth": 0,
             "ticks": ""
            },
            "colorscale": [
             [
              0,
              "#0d0887"
             ],
             [
              0.1111111111111111,
              "#46039f"
             ],
             [
              0.2222222222222222,
              "#7201a8"
             ],
             [
              0.3333333333333333,
              "#9c179e"
             ],
             [
              0.4444444444444444,
              "#bd3786"
             ],
             [
              0.5555555555555556,
              "#d8576b"
             ],
             [
              0.6666666666666666,
              "#ed7953"
             ],
             [
              0.7777777777777778,
              "#fb9f3a"
             ],
             [
              0.8888888888888888,
              "#fdca26"
             ],
             [
              1,
              "#f0f921"
             ]
            ],
            "type": "heatmap"
           }
          ],
          "heatmapgl": [
           {
            "colorbar": {
             "outlinewidth": 0,
             "ticks": ""
            },
            "colorscale": [
             [
              0,
              "#0d0887"
             ],
             [
              0.1111111111111111,
              "#46039f"
             ],
             [
              0.2222222222222222,
              "#7201a8"
             ],
             [
              0.3333333333333333,
              "#9c179e"
             ],
             [
              0.4444444444444444,
              "#bd3786"
             ],
             [
              0.5555555555555556,
              "#d8576b"
             ],
             [
              0.6666666666666666,
              "#ed7953"
             ],
             [
              0.7777777777777778,
              "#fb9f3a"
             ],
             [
              0.8888888888888888,
              "#fdca26"
             ],
             [
              1,
              "#f0f921"
             ]
            ],
            "type": "heatmapgl"
           }
          ],
          "histogram": [
           {
            "marker": {
             "colorbar": {
              "outlinewidth": 0,
              "ticks": ""
             }
            },
            "type": "histogram"
           }
          ],
          "histogram2d": [
           {
            "colorbar": {
             "outlinewidth": 0,
             "ticks": ""
            },
            "colorscale": [
             [
              0,
              "#0d0887"
             ],
             [
              0.1111111111111111,
              "#46039f"
             ],
             [
              0.2222222222222222,
              "#7201a8"
             ],
             [
              0.3333333333333333,
              "#9c179e"
             ],
             [
              0.4444444444444444,
              "#bd3786"
             ],
             [
              0.5555555555555556,
              "#d8576b"
             ],
             [
              0.6666666666666666,
              "#ed7953"
             ],
             [
              0.7777777777777778,
              "#fb9f3a"
             ],
             [
              0.8888888888888888,
              "#fdca26"
             ],
             [
              1,
              "#f0f921"
             ]
            ],
            "type": "histogram2d"
           }
          ],
          "histogram2dcontour": [
           {
            "colorbar": {
             "outlinewidth": 0,
             "ticks": ""
            },
            "colorscale": [
             [
              0,
              "#0d0887"
             ],
             [
              0.1111111111111111,
              "#46039f"
             ],
             [
              0.2222222222222222,
              "#7201a8"
             ],
             [
              0.3333333333333333,
              "#9c179e"
             ],
             [
              0.4444444444444444,
              "#bd3786"
             ],
             [
              0.5555555555555556,
              "#d8576b"
             ],
             [
              0.6666666666666666,
              "#ed7953"
             ],
             [
              0.7777777777777778,
              "#fb9f3a"
             ],
             [
              0.8888888888888888,
              "#fdca26"
             ],
             [
              1,
              "#f0f921"
             ]
            ],
            "type": "histogram2dcontour"
           }
          ],
          "mesh3d": [
           {
            "colorbar": {
             "outlinewidth": 0,
             "ticks": ""
            },
            "type": "mesh3d"
           }
          ],
          "parcoords": [
           {
            "line": {
             "colorbar": {
              "outlinewidth": 0,
              "ticks": ""
             }
            },
            "type": "parcoords"
           }
          ],
          "pie": [
           {
            "automargin": true,
            "type": "pie"
           }
          ],
          "scatter": [
           {
            "marker": {
             "colorbar": {
              "outlinewidth": 0,
              "ticks": ""
             }
            },
            "type": "scatter"
           }
          ],
          "scatter3d": [
           {
            "line": {
             "colorbar": {
              "outlinewidth": 0,
              "ticks": ""
             }
            },
            "marker": {
             "colorbar": {
              "outlinewidth": 0,
              "ticks": ""
             }
            },
            "type": "scatter3d"
           }
          ],
          "scattercarpet": [
           {
            "marker": {
             "colorbar": {
              "outlinewidth": 0,
              "ticks": ""
             }
            },
            "type": "scattercarpet"
           }
          ],
          "scattergeo": [
           {
            "marker": {
             "colorbar": {
              "outlinewidth": 0,
              "ticks": ""
             }
            },
            "type": "scattergeo"
           }
          ],
          "scattergl": [
           {
            "marker": {
             "colorbar": {
              "outlinewidth": 0,
              "ticks": ""
             }
            },
            "type": "scattergl"
           }
          ],
          "scattermapbox": [
           {
            "marker": {
             "colorbar": {
              "outlinewidth": 0,
              "ticks": ""
             }
            },
            "type": "scattermapbox"
           }
          ],
          "scatterpolar": [
           {
            "marker": {
             "colorbar": {
              "outlinewidth": 0,
              "ticks": ""
             }
            },
            "type": "scatterpolar"
           }
          ],
          "scatterpolargl": [
           {
            "marker": {
             "colorbar": {
              "outlinewidth": 0,
              "ticks": ""
             }
            },
            "type": "scatterpolargl"
           }
          ],
          "scatterternary": [
           {
            "marker": {
             "colorbar": {
              "outlinewidth": 0,
              "ticks": ""
             }
            },
            "type": "scatterternary"
           }
          ],
          "surface": [
           {
            "colorbar": {
             "outlinewidth": 0,
             "ticks": ""
            },
            "colorscale": [
             [
              0,
              "#0d0887"
             ],
             [
              0.1111111111111111,
              "#46039f"
             ],
             [
              0.2222222222222222,
              "#7201a8"
             ],
             [
              0.3333333333333333,
              "#9c179e"
             ],
             [
              0.4444444444444444,
              "#bd3786"
             ],
             [
              0.5555555555555556,
              "#d8576b"
             ],
             [
              0.6666666666666666,
              "#ed7953"
             ],
             [
              0.7777777777777778,
              "#fb9f3a"
             ],
             [
              0.8888888888888888,
              "#fdca26"
             ],
             [
              1,
              "#f0f921"
             ]
            ],
            "type": "surface"
           }
          ],
          "table": [
           {
            "cells": {
             "fill": {
              "color": "#EBF0F8"
             },
             "line": {
              "color": "white"
             }
            },
            "header": {
             "fill": {
              "color": "#C8D4E3"
             },
             "line": {
              "color": "white"
             }
            },
            "type": "table"
           }
          ]
         },
         "layout": {
          "annotationdefaults": {
           "arrowcolor": "#2a3f5f",
           "arrowhead": 0,
           "arrowwidth": 1
          },
          "autotypenumbers": "strict",
          "coloraxis": {
           "colorbar": {
            "outlinewidth": 0,
            "ticks": ""
           }
          },
          "colorscale": {
           "diverging": [
            [
             0,
             "#8e0152"
            ],
            [
             0.1,
             "#c51b7d"
            ],
            [
             0.2,
             "#de77ae"
            ],
            [
             0.3,
             "#f1b6da"
            ],
            [
             0.4,
             "#fde0ef"
            ],
            [
             0.5,
             "#f7f7f7"
            ],
            [
             0.6,
             "#e6f5d0"
            ],
            [
             0.7,
             "#b8e186"
            ],
            [
             0.8,
             "#7fbc41"
            ],
            [
             0.9,
             "#4d9221"
            ],
            [
             1,
             "#276419"
            ]
           ],
           "sequential": [
            [
             0,
             "#0d0887"
            ],
            [
             0.1111111111111111,
             "#46039f"
            ],
            [
             0.2222222222222222,
             "#7201a8"
            ],
            [
             0.3333333333333333,
             "#9c179e"
            ],
            [
             0.4444444444444444,
             "#bd3786"
            ],
            [
             0.5555555555555556,
             "#d8576b"
            ],
            [
             0.6666666666666666,
             "#ed7953"
            ],
            [
             0.7777777777777778,
             "#fb9f3a"
            ],
            [
             0.8888888888888888,
             "#fdca26"
            ],
            [
             1,
             "#f0f921"
            ]
           ],
           "sequentialminus": [
            [
             0,
             "#0d0887"
            ],
            [
             0.1111111111111111,
             "#46039f"
            ],
            [
             0.2222222222222222,
             "#7201a8"
            ],
            [
             0.3333333333333333,
             "#9c179e"
            ],
            [
             0.4444444444444444,
             "#bd3786"
            ],
            [
             0.5555555555555556,
             "#d8576b"
            ],
            [
             0.6666666666666666,
             "#ed7953"
            ],
            [
             0.7777777777777778,
             "#fb9f3a"
            ],
            [
             0.8888888888888888,
             "#fdca26"
            ],
            [
             1,
             "#f0f921"
            ]
           ]
          },
          "colorway": [
           "#636efa",
           "#EF553B",
           "#00cc96",
           "#ab63fa",
           "#FFA15A",
           "#19d3f3",
           "#FF6692",
           "#B6E880",
           "#FF97FF",
           "#FECB52"
          ],
          "font": {
           "color": "#2a3f5f"
          },
          "geo": {
           "bgcolor": "white",
           "lakecolor": "white",
           "landcolor": "#E5ECF6",
           "showlakes": true,
           "showland": true,
           "subunitcolor": "white"
          },
          "hoverlabel": {
           "align": "left"
          },
          "hovermode": "closest",
          "mapbox": {
           "style": "light"
          },
          "paper_bgcolor": "white",
          "plot_bgcolor": "#E5ECF6",
          "polar": {
           "angularaxis": {
            "gridcolor": "white",
            "linecolor": "white",
            "ticks": ""
           },
           "bgcolor": "#E5ECF6",
           "radialaxis": {
            "gridcolor": "white",
            "linecolor": "white",
            "ticks": ""
           }
          },
          "scene": {
           "xaxis": {
            "backgroundcolor": "#E5ECF6",
            "gridcolor": "white",
            "gridwidth": 2,
            "linecolor": "white",
            "showbackground": true,
            "ticks": "",
            "zerolinecolor": "white"
           },
           "yaxis": {
            "backgroundcolor": "#E5ECF6",
            "gridcolor": "white",
            "gridwidth": 2,
            "linecolor": "white",
            "showbackground": true,
            "ticks": "",
            "zerolinecolor": "white"
           },
           "zaxis": {
            "backgroundcolor": "#E5ECF6",
            "gridcolor": "white",
            "gridwidth": 2,
            "linecolor": "white",
            "showbackground": true,
            "ticks": "",
            "zerolinecolor": "white"
           }
          },
          "shapedefaults": {
           "line": {
            "color": "#2a3f5f"
           }
          },
          "ternary": {
           "aaxis": {
            "gridcolor": "white",
            "linecolor": "white",
            "ticks": ""
           },
           "baxis": {
            "gridcolor": "white",
            "linecolor": "white",
            "ticks": ""
           },
           "bgcolor": "#E5ECF6",
           "caxis": {
            "gridcolor": "white",
            "linecolor": "white",
            "ticks": ""
           }
          },
          "title": {
           "x": 0.05
          },
          "xaxis": {
           "automargin": true,
           "gridcolor": "white",
           "linecolor": "white",
           "ticks": "",
           "title": {
            "standoff": 15
           },
           "zerolinecolor": "white",
           "zerolinewidth": 2
          },
          "yaxis": {
           "automargin": true,
           "gridcolor": "white",
           "linecolor": "white",
           "ticks": "",
           "title": {
            "standoff": 15
           },
           "zerolinecolor": "white",
           "zerolinewidth": 2
          }
         }
        },
        "xaxis": {
         "anchor": "y",
         "domain": [
          0,
          1
         ],
         "title": {
          "text": "Mass"
         }
        },
        "yaxis": {
         "anchor": "x",
         "domain": [
          0,
          1
         ],
         "title": {
          "text": "RT"
         }
        }
       }
      },
      "text/html": [
       "<div>                            <div id=\"b9f4bb8d-93a9-447a-b9a3-4a4950ec1986\" class=\"plotly-graph-div\" style=\"height:525px; width:100%;\"></div>            <script type=\"text/javascript\">                require([\"plotly\"], function(Plotly) {                    window.PLOTLYENV=window.PLOTLYENV || {};                                    if (document.getElementById(\"b9f4bb8d-93a9-447a-b9a3-4a4950ec1986\")) {                    Plotly.newPlot(                        \"b9f4bb8d-93a9-447a-b9a3-4a4950ec1986\",                        [{\"hovertemplate\": \"type=Baseline<br>Mass=%{x}<br>RT=%{y}<extra></extra>\", \"legendgroup\": \"Baseline\", \"marker\": {\"color\": \"#636efa\", \"symbol\": \"circle\"}, \"mode\": \"markers\", \"name\": \"Baseline\", \"orientation\": \"v\", \"showlegend\": true, \"type\": \"scatter\", \"x\": [6720.99956193812, 6415.95775398294, 5421.81461503746, 4810.74670954933, 5115.78884673967, 5727.83854491296, 8715.28075864902, 9034.3419422131, 8051.17871977834, 8396.22381133442, 12573.8456118822, 10679.5696911427, 6070.90521864812, 7706.12812558896, 13489.9591112701, 9684.43235305755, 10029.4852831546, 16052.2923870713, 16687.3731344216, 4200.66413180695, 11634.7080155978, 10984.6120207818, 17706.5150035621, 4505.70386620078, 7361.08019395483, 13795.9870245382, 13184.9099021291, 9339.3801425999, 18014.5544365778, 11289.653852774, 15441.2504967915, 12244.7938090263, 18322.5991243918, 10334.5242073844, 14101.0327044641, 17377.4723025065, 18667.6586771185, 15746.2652290827, 17032.4222473138, 12878.8928325522, 16358.3136560012, 14446.0722921197, 20298.8597946174, 23221.2221890785, 3855.61074856348, 15096.1671459629, 11939.7063171988, 19663.7741393553, 23526.2587072879, 14751.1310374379, 20603.8939685011, 20909.9288536878, 22916.1972048664, 19318.731658224, 22251.1191759271, 21254.9766263762], \"xaxis\": \"x\", \"y\": [0, 0, 0, 0, 0, 0, 0, 0, 0, 0, 0, 0, 0, 0, 0, 0, 0, 0, 0, 0, 0, 0, 0, 0, 0, 0, 0, 0, 0, 0, 0, 0, 0, 0, 0, 0, 0, 0, 0, 0, 0, 0, 0, 0, 0, 0, 0, 0, 0, 0, 0, 0, 0, 0, 0, 0], \"yaxis\": \"y\"}, {\"hovertemplate\": \"type=+1<br>Mass=%{x}<br>RT=%{y}<extra></extra>\", \"legendgroup\": \"+1\", \"marker\": {\"color\": \"#EF553B\", \"symbol\": \"circle\"}, \"mode\": \"markers\", \"name\": \"+1\", \"orientation\": \"v\", \"showlegend\": true, \"type\": \"scatter\", \"x\": [19993.8425543094, 19013.7071341648, 20604.8988994247, 20299.8589859828, 19319.7306792613, 22917.2111717332, 22611.1684869208, 20910.9181293114, 23222.2016472315, 14102.0361589687, 23832.2872914486, 21255.9825365589, 6416.95555968777], \"xaxis\": \"x\", \"y\": [1, 1, 1, 1, 1, 1, 1, 1, 1, 1, 1, 1, 1], \"yaxis\": \"y\"}],                        {\"legend\": {\"title\": {\"text\": \"type\"}, \"tracegroupgap\": 0}, \"margin\": {\"t\": 60}, \"template\": {\"data\": {\"bar\": [{\"error_x\": {\"color\": \"#2a3f5f\"}, \"error_y\": {\"color\": \"#2a3f5f\"}, \"marker\": {\"line\": {\"color\": \"#E5ECF6\", \"width\": 0.5}}, \"type\": \"bar\"}], \"barpolar\": [{\"marker\": {\"line\": {\"color\": \"#E5ECF6\", \"width\": 0.5}}, \"type\": \"barpolar\"}], \"carpet\": [{\"aaxis\": {\"endlinecolor\": \"#2a3f5f\", \"gridcolor\": \"white\", \"linecolor\": \"white\", \"minorgridcolor\": \"white\", \"startlinecolor\": \"#2a3f5f\"}, \"baxis\": {\"endlinecolor\": \"#2a3f5f\", \"gridcolor\": \"white\", \"linecolor\": \"white\", \"minorgridcolor\": \"white\", \"startlinecolor\": \"#2a3f5f\"}, \"type\": \"carpet\"}], \"choropleth\": [{\"colorbar\": {\"outlinewidth\": 0, \"ticks\": \"\"}, \"type\": \"choropleth\"}], \"contour\": [{\"colorbar\": {\"outlinewidth\": 0, \"ticks\": \"\"}, \"colorscale\": [[0.0, \"#0d0887\"], [0.1111111111111111, \"#46039f\"], [0.2222222222222222, \"#7201a8\"], [0.3333333333333333, \"#9c179e\"], [0.4444444444444444, \"#bd3786\"], [0.5555555555555556, \"#d8576b\"], [0.6666666666666666, \"#ed7953\"], [0.7777777777777778, \"#fb9f3a\"], [0.8888888888888888, \"#fdca26\"], [1.0, \"#f0f921\"]], \"type\": \"contour\"}], \"contourcarpet\": [{\"colorbar\": {\"outlinewidth\": 0, \"ticks\": \"\"}, \"type\": \"contourcarpet\"}], \"heatmap\": [{\"colorbar\": {\"outlinewidth\": 0, \"ticks\": \"\"}, \"colorscale\": [[0.0, \"#0d0887\"], [0.1111111111111111, \"#46039f\"], [0.2222222222222222, \"#7201a8\"], [0.3333333333333333, \"#9c179e\"], [0.4444444444444444, \"#bd3786\"], [0.5555555555555556, \"#d8576b\"], [0.6666666666666666, \"#ed7953\"], [0.7777777777777778, \"#fb9f3a\"], [0.8888888888888888, \"#fdca26\"], [1.0, \"#f0f921\"]], \"type\": \"heatmap\"}], \"heatmapgl\": [{\"colorbar\": {\"outlinewidth\": 0, \"ticks\": \"\"}, \"colorscale\": [[0.0, \"#0d0887\"], [0.1111111111111111, \"#46039f\"], [0.2222222222222222, \"#7201a8\"], [0.3333333333333333, \"#9c179e\"], [0.4444444444444444, \"#bd3786\"], [0.5555555555555556, \"#d8576b\"], [0.6666666666666666, \"#ed7953\"], [0.7777777777777778, \"#fb9f3a\"], [0.8888888888888888, \"#fdca26\"], [1.0, \"#f0f921\"]], \"type\": \"heatmapgl\"}], \"histogram\": [{\"marker\": {\"colorbar\": {\"outlinewidth\": 0, \"ticks\": \"\"}}, \"type\": \"histogram\"}], \"histogram2d\": [{\"colorbar\": {\"outlinewidth\": 0, \"ticks\": \"\"}, \"colorscale\": [[0.0, \"#0d0887\"], [0.1111111111111111, \"#46039f\"], [0.2222222222222222, \"#7201a8\"], [0.3333333333333333, \"#9c179e\"], [0.4444444444444444, \"#bd3786\"], [0.5555555555555556, \"#d8576b\"], [0.6666666666666666, \"#ed7953\"], [0.7777777777777778, \"#fb9f3a\"], [0.8888888888888888, \"#fdca26\"], [1.0, \"#f0f921\"]], \"type\": \"histogram2d\"}], \"histogram2dcontour\": [{\"colorbar\": {\"outlinewidth\": 0, \"ticks\": \"\"}, \"colorscale\": [[0.0, \"#0d0887\"], [0.1111111111111111, \"#46039f\"], [0.2222222222222222, \"#7201a8\"], [0.3333333333333333, \"#9c179e\"], [0.4444444444444444, \"#bd3786\"], [0.5555555555555556, \"#d8576b\"], [0.6666666666666666, \"#ed7953\"], [0.7777777777777778, \"#fb9f3a\"], [0.8888888888888888, \"#fdca26\"], [1.0, \"#f0f921\"]], \"type\": \"histogram2dcontour\"}], \"mesh3d\": [{\"colorbar\": {\"outlinewidth\": 0, \"ticks\": \"\"}, \"type\": \"mesh3d\"}], \"parcoords\": [{\"line\": {\"colorbar\": {\"outlinewidth\": 0, \"ticks\": \"\"}}, \"type\": \"parcoords\"}], \"pie\": [{\"automargin\": true, \"type\": \"pie\"}], \"scatter\": [{\"marker\": {\"colorbar\": {\"outlinewidth\": 0, \"ticks\": \"\"}}, \"type\": \"scatter\"}], \"scatter3d\": [{\"line\": {\"colorbar\": {\"outlinewidth\": 0, \"ticks\": \"\"}}, \"marker\": {\"colorbar\": {\"outlinewidth\": 0, \"ticks\": \"\"}}, \"type\": \"scatter3d\"}], \"scattercarpet\": [{\"marker\": {\"colorbar\": {\"outlinewidth\": 0, \"ticks\": \"\"}}, \"type\": \"scattercarpet\"}], \"scattergeo\": [{\"marker\": {\"colorbar\": {\"outlinewidth\": 0, \"ticks\": \"\"}}, \"type\": \"scattergeo\"}], \"scattergl\": [{\"marker\": {\"colorbar\": {\"outlinewidth\": 0, \"ticks\": \"\"}}, \"type\": \"scattergl\"}], \"scattermapbox\": [{\"marker\": {\"colorbar\": {\"outlinewidth\": 0, \"ticks\": \"\"}}, \"type\": \"scattermapbox\"}], \"scatterpolar\": [{\"marker\": {\"colorbar\": {\"outlinewidth\": 0, \"ticks\": \"\"}}, \"type\": \"scatterpolar\"}], \"scatterpolargl\": [{\"marker\": {\"colorbar\": {\"outlinewidth\": 0, \"ticks\": \"\"}}, \"type\": \"scatterpolargl\"}], \"scatterternary\": [{\"marker\": {\"colorbar\": {\"outlinewidth\": 0, \"ticks\": \"\"}}, \"type\": \"scatterternary\"}], \"surface\": [{\"colorbar\": {\"outlinewidth\": 0, \"ticks\": \"\"}, \"colorscale\": [[0.0, \"#0d0887\"], [0.1111111111111111, \"#46039f\"], [0.2222222222222222, \"#7201a8\"], [0.3333333333333333, \"#9c179e\"], [0.4444444444444444, \"#bd3786\"], [0.5555555555555556, \"#d8576b\"], [0.6666666666666666, \"#ed7953\"], [0.7777777777777778, \"#fb9f3a\"], [0.8888888888888888, \"#fdca26\"], [1.0, \"#f0f921\"]], \"type\": \"surface\"}], \"table\": [{\"cells\": {\"fill\": {\"color\": \"#EBF0F8\"}, \"line\": {\"color\": \"white\"}}, \"header\": {\"fill\": {\"color\": \"#C8D4E3\"}, \"line\": {\"color\": \"white\"}}, \"type\": \"table\"}]}, \"layout\": {\"annotationdefaults\": {\"arrowcolor\": \"#2a3f5f\", \"arrowhead\": 0, \"arrowwidth\": 1}, \"autotypenumbers\": \"strict\", \"coloraxis\": {\"colorbar\": {\"outlinewidth\": 0, \"ticks\": \"\"}}, \"colorscale\": {\"diverging\": [[0, \"#8e0152\"], [0.1, \"#c51b7d\"], [0.2, \"#de77ae\"], [0.3, \"#f1b6da\"], [0.4, \"#fde0ef\"], [0.5, \"#f7f7f7\"], [0.6, \"#e6f5d0\"], [0.7, \"#b8e186\"], [0.8, \"#7fbc41\"], [0.9, \"#4d9221\"], [1, \"#276419\"]], \"sequential\": [[0.0, \"#0d0887\"], [0.1111111111111111, \"#46039f\"], [0.2222222222222222, \"#7201a8\"], [0.3333333333333333, \"#9c179e\"], [0.4444444444444444, \"#bd3786\"], [0.5555555555555556, \"#d8576b\"], [0.6666666666666666, \"#ed7953\"], [0.7777777777777778, \"#fb9f3a\"], [0.8888888888888888, \"#fdca26\"], [1.0, \"#f0f921\"]], \"sequentialminus\": [[0.0, \"#0d0887\"], [0.1111111111111111, \"#46039f\"], [0.2222222222222222, \"#7201a8\"], [0.3333333333333333, \"#9c179e\"], [0.4444444444444444, \"#bd3786\"], [0.5555555555555556, \"#d8576b\"], [0.6666666666666666, \"#ed7953\"], [0.7777777777777778, \"#fb9f3a\"], [0.8888888888888888, \"#fdca26\"], [1.0, \"#f0f921\"]]}, \"colorway\": [\"#636efa\", \"#EF553B\", \"#00cc96\", \"#ab63fa\", \"#FFA15A\", \"#19d3f3\", \"#FF6692\", \"#B6E880\", \"#FF97FF\", \"#FECB52\"], \"font\": {\"color\": \"#2a3f5f\"}, \"geo\": {\"bgcolor\": \"white\", \"lakecolor\": \"white\", \"landcolor\": \"#E5ECF6\", \"showlakes\": true, \"showland\": true, \"subunitcolor\": \"white\"}, \"hoverlabel\": {\"align\": \"left\"}, \"hovermode\": \"closest\", \"mapbox\": {\"style\": \"light\"}, \"paper_bgcolor\": \"white\", \"plot_bgcolor\": \"#E5ECF6\", \"polar\": {\"angularaxis\": {\"gridcolor\": \"white\", \"linecolor\": \"white\", \"ticks\": \"\"}, \"bgcolor\": \"#E5ECF6\", \"radialaxis\": {\"gridcolor\": \"white\", \"linecolor\": \"white\", \"ticks\": \"\"}}, \"scene\": {\"xaxis\": {\"backgroundcolor\": \"#E5ECF6\", \"gridcolor\": \"white\", \"gridwidth\": 2, \"linecolor\": \"white\", \"showbackground\": true, \"ticks\": \"\", \"zerolinecolor\": \"white\"}, \"yaxis\": {\"backgroundcolor\": \"#E5ECF6\", \"gridcolor\": \"white\", \"gridwidth\": 2, \"linecolor\": \"white\", \"showbackground\": true, \"ticks\": \"\", \"zerolinecolor\": \"white\"}, \"zaxis\": {\"backgroundcolor\": \"#E5ECF6\", \"gridcolor\": \"white\", \"gridwidth\": 2, \"linecolor\": \"white\", \"showbackground\": true, \"ticks\": \"\", \"zerolinecolor\": \"white\"}}, \"shapedefaults\": {\"line\": {\"color\": \"#2a3f5f\"}}, \"ternary\": {\"aaxis\": {\"gridcolor\": \"white\", \"linecolor\": \"white\", \"ticks\": \"\"}, \"baxis\": {\"gridcolor\": \"white\", \"linecolor\": \"white\", \"ticks\": \"\"}, \"bgcolor\": \"#E5ECF6\", \"caxis\": {\"gridcolor\": \"white\", \"linecolor\": \"white\", \"ticks\": \"\"}}, \"title\": {\"x\": 0.05}, \"xaxis\": {\"automargin\": true, \"gridcolor\": \"white\", \"linecolor\": \"white\", \"ticks\": \"\", \"title\": {\"standoff\": 15}, \"zerolinecolor\": \"white\", \"zerolinewidth\": 2}, \"yaxis\": {\"automargin\": true, \"gridcolor\": \"white\", \"linecolor\": \"white\", \"ticks\": \"\", \"title\": {\"standoff\": 15}, \"zerolinecolor\": \"white\", \"zerolinewidth\": 2}}}, \"xaxis\": {\"anchor\": \"y\", \"domain\": [0.0, 1.0], \"title\": {\"text\": \"Mass\"}}, \"yaxis\": {\"anchor\": \"x\", \"domain\": [0.0, 1.0], \"title\": {\"text\": \"RT\"}}},                        {\"responsive\": true}                    ).then(function(){\n",
       "                            \n",
       "var gd = document.getElementById('b9f4bb8d-93a9-447a-b9a3-4a4950ec1986');\n",
       "var x = new MutationObserver(function (mutations, observer) {{\n",
       "        var display = window.getComputedStyle(gd).display;\n",
       "        if (!display || display === 'none') {{\n",
       "            console.log([gd, 'removed!']);\n",
       "            Plotly.purge(gd);\n",
       "            observer.disconnect();\n",
       "        }}\n",
       "}});\n",
       "\n",
       "// Listen for the removal of the full notebook cells\n",
       "var notebookContainer = gd.closest('#notebook-container');\n",
       "if (notebookContainer) {{\n",
       "    x.observe(notebookContainer, {childList: true});\n",
       "}}\n",
       "\n",
       "// Listen for the clearing of the current output cell\n",
       "var outputEl = gd.closest('.output');\n",
       "if (outputEl) {{\n",
       "    x.observe(outputEl, {childList: true});\n",
       "}}\n",
       "\n",
       "                        })                };                });            </script>        </div>"
      ]
     },
     "metadata": {},
     "output_type": "display_data"
    },
    {
     "data": {
      "application/vnd.plotly.v1+json": {
       "config": {
        "plotlyServerURL": "https://plot.ly"
       },
       "data": [
        {
         "hovertemplate": "type=Baseline<br>Mass=%{x}<br>Vol=%{y}<extra></extra>",
         "legendgroup": "Baseline",
         "marker": {
          "color": "#636efa",
          "symbol": "circle"
         },
         "mode": "markers",
         "name": "Baseline",
         "orientation": "v",
         "showlegend": true,
         "type": "scatter",
         "x": [
          6720.99956193812,
          6415.95775398294,
          5421.81461503746,
          4810.74670954933,
          5115.78884673967,
          5727.83854491296,
          8715.28075864902,
          9034.3419422131,
          8051.17871977834,
          8396.22381133442,
          12573.8456118822,
          10679.5696911427,
          6070.90521864812,
          7706.12812558896,
          13489.9591112701,
          9684.43235305755,
          10029.4852831546,
          16052.2923870713,
          16687.3731344216,
          4200.66413180695,
          11634.7080155978,
          10984.6120207818,
          17706.5150035621,
          4505.70386620078,
          7361.08019395483,
          13795.9870245382,
          13184.9099021291,
          9339.3801425999,
          18014.5544365778,
          11289.653852774,
          15441.2504967915,
          12244.7938090263,
          18322.5991243918,
          10334.5242073844,
          14101.0327044641,
          17377.4723025065,
          18667.6586771185,
          15746.2652290827,
          17032.4222473138,
          12878.8928325522,
          16358.3136560012,
          14446.0722921197,
          20298.8597946174,
          23221.2221890785,
          3855.61074856348,
          15096.1671459629,
          11939.7063171988,
          19663.7741393553,
          23526.2587072879,
          14751.1310374379,
          20603.8939685011,
          20909.9288536878,
          22916.1972048664,
          19318.731658224,
          22251.1191759271,
          21254.9766263762
         ],
         "xaxis": "x",
         "y": [
          45408.24,
          42574.71,
          41490.86,
          37734.18,
          37402.21,
          33102.27,
          32881.86,
          30244.4,
          26365.11,
          26062.12,
          24185.87,
          19709.19,
          19212.02,
          19109.02,
          19019.67,
          18805.43,
          18627.64,
          17908.46,
          17863.36,
          17861.79,
          16546.96,
          16396.55,
          16126.05,
          16002.41,
          15898.14,
          15133.77,
          15053.91,
          14373.11,
          14111.05,
          13235.41,
          12627.83,
          12302.03,
          11970.72,
          11548.03,
          10940.24,
          9996.08,
          9881.05,
          9772.35,
          8498.13,
          8447.44,
          8307.75,
          7429.11,
          6237.19,
          5597.23,
          5509.51,
          5248.52,
          5088.89,
          4304.76,
          3395.22,
          3261.67,
          2662.79,
          2401.85,
          2182.72,
          1129.93,
          912.48,
          790.6
         ],
         "yaxis": "y"
        },
        {
         "hovertemplate": "type=+1<br>Mass=%{x}<br>Vol=%{y}<extra></extra>",
         "legendgroup": "+1",
         "marker": {
          "color": "#EF553B",
          "symbol": "circle"
         },
         "mode": "markers",
         "name": "+1",
         "orientation": "v",
         "showlegend": true,
         "type": "scatter",
         "x": [
          19993.8425543094,
          19013.7071341648,
          20604.8988994247,
          20299.8589859828,
          19319.7306792613,
          22917.2111717332,
          22611.1684869208,
          20910.9181293114,
          23222.2016472315,
          14102.0361589687,
          23832.2872914486,
          21255.9825365589,
          6416.95555968777
         ],
         "xaxis": "x",
         "y": [
          20630.77,
          6302.04,
          4185.86,
          3932.31,
          3643.48,
          3227.32,
          2796.04,
          2169.36,
          1596.56,
          433.45,
          588.21,
          2878.34,
          935.2
         ],
         "yaxis": "y"
        }
       ],
       "layout": {
        "legend": {
         "title": {
          "text": "type"
         },
         "tracegroupgap": 0
        },
        "margin": {
         "t": 60
        },
        "template": {
         "data": {
          "bar": [
           {
            "error_x": {
             "color": "#2a3f5f"
            },
            "error_y": {
             "color": "#2a3f5f"
            },
            "marker": {
             "line": {
              "color": "#E5ECF6",
              "width": 0.5
             }
            },
            "type": "bar"
           }
          ],
          "barpolar": [
           {
            "marker": {
             "line": {
              "color": "#E5ECF6",
              "width": 0.5
             }
            },
            "type": "barpolar"
           }
          ],
          "carpet": [
           {
            "aaxis": {
             "endlinecolor": "#2a3f5f",
             "gridcolor": "white",
             "linecolor": "white",
             "minorgridcolor": "white",
             "startlinecolor": "#2a3f5f"
            },
            "baxis": {
             "endlinecolor": "#2a3f5f",
             "gridcolor": "white",
             "linecolor": "white",
             "minorgridcolor": "white",
             "startlinecolor": "#2a3f5f"
            },
            "type": "carpet"
           }
          ],
          "choropleth": [
           {
            "colorbar": {
             "outlinewidth": 0,
             "ticks": ""
            },
            "type": "choropleth"
           }
          ],
          "contour": [
           {
            "colorbar": {
             "outlinewidth": 0,
             "ticks": ""
            },
            "colorscale": [
             [
              0,
              "#0d0887"
             ],
             [
              0.1111111111111111,
              "#46039f"
             ],
             [
              0.2222222222222222,
              "#7201a8"
             ],
             [
              0.3333333333333333,
              "#9c179e"
             ],
             [
              0.4444444444444444,
              "#bd3786"
             ],
             [
              0.5555555555555556,
              "#d8576b"
             ],
             [
              0.6666666666666666,
              "#ed7953"
             ],
             [
              0.7777777777777778,
              "#fb9f3a"
             ],
             [
              0.8888888888888888,
              "#fdca26"
             ],
             [
              1,
              "#f0f921"
             ]
            ],
            "type": "contour"
           }
          ],
          "contourcarpet": [
           {
            "colorbar": {
             "outlinewidth": 0,
             "ticks": ""
            },
            "type": "contourcarpet"
           }
          ],
          "heatmap": [
           {
            "colorbar": {
             "outlinewidth": 0,
             "ticks": ""
            },
            "colorscale": [
             [
              0,
              "#0d0887"
             ],
             [
              0.1111111111111111,
              "#46039f"
             ],
             [
              0.2222222222222222,
              "#7201a8"
             ],
             [
              0.3333333333333333,
              "#9c179e"
             ],
             [
              0.4444444444444444,
              "#bd3786"
             ],
             [
              0.5555555555555556,
              "#d8576b"
             ],
             [
              0.6666666666666666,
              "#ed7953"
             ],
             [
              0.7777777777777778,
              "#fb9f3a"
             ],
             [
              0.8888888888888888,
              "#fdca26"
             ],
             [
              1,
              "#f0f921"
             ]
            ],
            "type": "heatmap"
           }
          ],
          "heatmapgl": [
           {
            "colorbar": {
             "outlinewidth": 0,
             "ticks": ""
            },
            "colorscale": [
             [
              0,
              "#0d0887"
             ],
             [
              0.1111111111111111,
              "#46039f"
             ],
             [
              0.2222222222222222,
              "#7201a8"
             ],
             [
              0.3333333333333333,
              "#9c179e"
             ],
             [
              0.4444444444444444,
              "#bd3786"
             ],
             [
              0.5555555555555556,
              "#d8576b"
             ],
             [
              0.6666666666666666,
              "#ed7953"
             ],
             [
              0.7777777777777778,
              "#fb9f3a"
             ],
             [
              0.8888888888888888,
              "#fdca26"
             ],
             [
              1,
              "#f0f921"
             ]
            ],
            "type": "heatmapgl"
           }
          ],
          "histogram": [
           {
            "marker": {
             "colorbar": {
              "outlinewidth": 0,
              "ticks": ""
             }
            },
            "type": "histogram"
           }
          ],
          "histogram2d": [
           {
            "colorbar": {
             "outlinewidth": 0,
             "ticks": ""
            },
            "colorscale": [
             [
              0,
              "#0d0887"
             ],
             [
              0.1111111111111111,
              "#46039f"
             ],
             [
              0.2222222222222222,
              "#7201a8"
             ],
             [
              0.3333333333333333,
              "#9c179e"
             ],
             [
              0.4444444444444444,
              "#bd3786"
             ],
             [
              0.5555555555555556,
              "#d8576b"
             ],
             [
              0.6666666666666666,
              "#ed7953"
             ],
             [
              0.7777777777777778,
              "#fb9f3a"
             ],
             [
              0.8888888888888888,
              "#fdca26"
             ],
             [
              1,
              "#f0f921"
             ]
            ],
            "type": "histogram2d"
           }
          ],
          "histogram2dcontour": [
           {
            "colorbar": {
             "outlinewidth": 0,
             "ticks": ""
            },
            "colorscale": [
             [
              0,
              "#0d0887"
             ],
             [
              0.1111111111111111,
              "#46039f"
             ],
             [
              0.2222222222222222,
              "#7201a8"
             ],
             [
              0.3333333333333333,
              "#9c179e"
             ],
             [
              0.4444444444444444,
              "#bd3786"
             ],
             [
              0.5555555555555556,
              "#d8576b"
             ],
             [
              0.6666666666666666,
              "#ed7953"
             ],
             [
              0.7777777777777778,
              "#fb9f3a"
             ],
             [
              0.8888888888888888,
              "#fdca26"
             ],
             [
              1,
              "#f0f921"
             ]
            ],
            "type": "histogram2dcontour"
           }
          ],
          "mesh3d": [
           {
            "colorbar": {
             "outlinewidth": 0,
             "ticks": ""
            },
            "type": "mesh3d"
           }
          ],
          "parcoords": [
           {
            "line": {
             "colorbar": {
              "outlinewidth": 0,
              "ticks": ""
             }
            },
            "type": "parcoords"
           }
          ],
          "pie": [
           {
            "automargin": true,
            "type": "pie"
           }
          ],
          "scatter": [
           {
            "marker": {
             "colorbar": {
              "outlinewidth": 0,
              "ticks": ""
             }
            },
            "type": "scatter"
           }
          ],
          "scatter3d": [
           {
            "line": {
             "colorbar": {
              "outlinewidth": 0,
              "ticks": ""
             }
            },
            "marker": {
             "colorbar": {
              "outlinewidth": 0,
              "ticks": ""
             }
            },
            "type": "scatter3d"
           }
          ],
          "scattercarpet": [
           {
            "marker": {
             "colorbar": {
              "outlinewidth": 0,
              "ticks": ""
             }
            },
            "type": "scattercarpet"
           }
          ],
          "scattergeo": [
           {
            "marker": {
             "colorbar": {
              "outlinewidth": 0,
              "ticks": ""
             }
            },
            "type": "scattergeo"
           }
          ],
          "scattergl": [
           {
            "marker": {
             "colorbar": {
              "outlinewidth": 0,
              "ticks": ""
             }
            },
            "type": "scattergl"
           }
          ],
          "scattermapbox": [
           {
            "marker": {
             "colorbar": {
              "outlinewidth": 0,
              "ticks": ""
             }
            },
            "type": "scattermapbox"
           }
          ],
          "scatterpolar": [
           {
            "marker": {
             "colorbar": {
              "outlinewidth": 0,
              "ticks": ""
             }
            },
            "type": "scatterpolar"
           }
          ],
          "scatterpolargl": [
           {
            "marker": {
             "colorbar": {
              "outlinewidth": 0,
              "ticks": ""
             }
            },
            "type": "scatterpolargl"
           }
          ],
          "scatterternary": [
           {
            "marker": {
             "colorbar": {
              "outlinewidth": 0,
              "ticks": ""
             }
            },
            "type": "scatterternary"
           }
          ],
          "surface": [
           {
            "colorbar": {
             "outlinewidth": 0,
             "ticks": ""
            },
            "colorscale": [
             [
              0,
              "#0d0887"
             ],
             [
              0.1111111111111111,
              "#46039f"
             ],
             [
              0.2222222222222222,
              "#7201a8"
             ],
             [
              0.3333333333333333,
              "#9c179e"
             ],
             [
              0.4444444444444444,
              "#bd3786"
             ],
             [
              0.5555555555555556,
              "#d8576b"
             ],
             [
              0.6666666666666666,
              "#ed7953"
             ],
             [
              0.7777777777777778,
              "#fb9f3a"
             ],
             [
              0.8888888888888888,
              "#fdca26"
             ],
             [
              1,
              "#f0f921"
             ]
            ],
            "type": "surface"
           }
          ],
          "table": [
           {
            "cells": {
             "fill": {
              "color": "#EBF0F8"
             },
             "line": {
              "color": "white"
             }
            },
            "header": {
             "fill": {
              "color": "#C8D4E3"
             },
             "line": {
              "color": "white"
             }
            },
            "type": "table"
           }
          ]
         },
         "layout": {
          "annotationdefaults": {
           "arrowcolor": "#2a3f5f",
           "arrowhead": 0,
           "arrowwidth": 1
          },
          "autotypenumbers": "strict",
          "coloraxis": {
           "colorbar": {
            "outlinewidth": 0,
            "ticks": ""
           }
          },
          "colorscale": {
           "diverging": [
            [
             0,
             "#8e0152"
            ],
            [
             0.1,
             "#c51b7d"
            ],
            [
             0.2,
             "#de77ae"
            ],
            [
             0.3,
             "#f1b6da"
            ],
            [
             0.4,
             "#fde0ef"
            ],
            [
             0.5,
             "#f7f7f7"
            ],
            [
             0.6,
             "#e6f5d0"
            ],
            [
             0.7,
             "#b8e186"
            ],
            [
             0.8,
             "#7fbc41"
            ],
            [
             0.9,
             "#4d9221"
            ],
            [
             1,
             "#276419"
            ]
           ],
           "sequential": [
            [
             0,
             "#0d0887"
            ],
            [
             0.1111111111111111,
             "#46039f"
            ],
            [
             0.2222222222222222,
             "#7201a8"
            ],
            [
             0.3333333333333333,
             "#9c179e"
            ],
            [
             0.4444444444444444,
             "#bd3786"
            ],
            [
             0.5555555555555556,
             "#d8576b"
            ],
            [
             0.6666666666666666,
             "#ed7953"
            ],
            [
             0.7777777777777778,
             "#fb9f3a"
            ],
            [
             0.8888888888888888,
             "#fdca26"
            ],
            [
             1,
             "#f0f921"
            ]
           ],
           "sequentialminus": [
            [
             0,
             "#0d0887"
            ],
            [
             0.1111111111111111,
             "#46039f"
            ],
            [
             0.2222222222222222,
             "#7201a8"
            ],
            [
             0.3333333333333333,
             "#9c179e"
            ],
            [
             0.4444444444444444,
             "#bd3786"
            ],
            [
             0.5555555555555556,
             "#d8576b"
            ],
            [
             0.6666666666666666,
             "#ed7953"
            ],
            [
             0.7777777777777778,
             "#fb9f3a"
            ],
            [
             0.8888888888888888,
             "#fdca26"
            ],
            [
             1,
             "#f0f921"
            ]
           ]
          },
          "colorway": [
           "#636efa",
           "#EF553B",
           "#00cc96",
           "#ab63fa",
           "#FFA15A",
           "#19d3f3",
           "#FF6692",
           "#B6E880",
           "#FF97FF",
           "#FECB52"
          ],
          "font": {
           "color": "#2a3f5f"
          },
          "geo": {
           "bgcolor": "white",
           "lakecolor": "white",
           "landcolor": "#E5ECF6",
           "showlakes": true,
           "showland": true,
           "subunitcolor": "white"
          },
          "hoverlabel": {
           "align": "left"
          },
          "hovermode": "closest",
          "mapbox": {
           "style": "light"
          },
          "paper_bgcolor": "white",
          "plot_bgcolor": "#E5ECF6",
          "polar": {
           "angularaxis": {
            "gridcolor": "white",
            "linecolor": "white",
            "ticks": ""
           },
           "bgcolor": "#E5ECF6",
           "radialaxis": {
            "gridcolor": "white",
            "linecolor": "white",
            "ticks": ""
           }
          },
          "scene": {
           "xaxis": {
            "backgroundcolor": "#E5ECF6",
            "gridcolor": "white",
            "gridwidth": 2,
            "linecolor": "white",
            "showbackground": true,
            "ticks": "",
            "zerolinecolor": "white"
           },
           "yaxis": {
            "backgroundcolor": "#E5ECF6",
            "gridcolor": "white",
            "gridwidth": 2,
            "linecolor": "white",
            "showbackground": true,
            "ticks": "",
            "zerolinecolor": "white"
           },
           "zaxis": {
            "backgroundcolor": "#E5ECF6",
            "gridcolor": "white",
            "gridwidth": 2,
            "linecolor": "white",
            "showbackground": true,
            "ticks": "",
            "zerolinecolor": "white"
           }
          },
          "shapedefaults": {
           "line": {
            "color": "#2a3f5f"
           }
          },
          "ternary": {
           "aaxis": {
            "gridcolor": "white",
            "linecolor": "white",
            "ticks": ""
           },
           "baxis": {
            "gridcolor": "white",
            "linecolor": "white",
            "ticks": ""
           },
           "bgcolor": "#E5ECF6",
           "caxis": {
            "gridcolor": "white",
            "linecolor": "white",
            "ticks": ""
           }
          },
          "title": {
           "x": 0.05
          },
          "xaxis": {
           "automargin": true,
           "gridcolor": "white",
           "linecolor": "white",
           "ticks": "",
           "title": {
            "standoff": 15
           },
           "zerolinecolor": "white",
           "zerolinewidth": 2
          },
          "yaxis": {
           "automargin": true,
           "gridcolor": "white",
           "linecolor": "white",
           "ticks": "",
           "title": {
            "standoff": 15
           },
           "zerolinecolor": "white",
           "zerolinewidth": 2
          }
         }
        },
        "xaxis": {
         "anchor": "y",
         "domain": [
          0,
          1
         ],
         "title": {
          "text": "Mass"
         }
        },
        "yaxis": {
         "anchor": "x",
         "domain": [
          0,
          1
         ],
         "title": {
          "text": "Vol"
         }
        }
       }
      },
      "text/html": [
       "<div>                            <div id=\"86a06227-7efb-4768-b4f8-cc6582297193\" class=\"plotly-graph-div\" style=\"height:525px; width:100%;\"></div>            <script type=\"text/javascript\">                require([\"plotly\"], function(Plotly) {                    window.PLOTLYENV=window.PLOTLYENV || {};                                    if (document.getElementById(\"86a06227-7efb-4768-b4f8-cc6582297193\")) {                    Plotly.newPlot(                        \"86a06227-7efb-4768-b4f8-cc6582297193\",                        [{\"hovertemplate\": \"type=Baseline<br>Mass=%{x}<br>Vol=%{y}<extra></extra>\", \"legendgroup\": \"Baseline\", \"marker\": {\"color\": \"#636efa\", \"symbol\": \"circle\"}, \"mode\": \"markers\", \"name\": \"Baseline\", \"orientation\": \"v\", \"showlegend\": true, \"type\": \"scatter\", \"x\": [6720.99956193812, 6415.95775398294, 5421.81461503746, 4810.74670954933, 5115.78884673967, 5727.83854491296, 8715.28075864902, 9034.3419422131, 8051.17871977834, 8396.22381133442, 12573.8456118822, 10679.5696911427, 6070.90521864812, 7706.12812558896, 13489.9591112701, 9684.43235305755, 10029.4852831546, 16052.2923870713, 16687.3731344216, 4200.66413180695, 11634.7080155978, 10984.6120207818, 17706.5150035621, 4505.70386620078, 7361.08019395483, 13795.9870245382, 13184.9099021291, 9339.3801425999, 18014.5544365778, 11289.653852774, 15441.2504967915, 12244.7938090263, 18322.5991243918, 10334.5242073844, 14101.0327044641, 17377.4723025065, 18667.6586771185, 15746.2652290827, 17032.4222473138, 12878.8928325522, 16358.3136560012, 14446.0722921197, 20298.8597946174, 23221.2221890785, 3855.61074856348, 15096.1671459629, 11939.7063171988, 19663.7741393553, 23526.2587072879, 14751.1310374379, 20603.8939685011, 20909.9288536878, 22916.1972048664, 19318.731658224, 22251.1191759271, 21254.9766263762], \"xaxis\": \"x\", \"y\": [45408.24, 42574.71, 41490.86, 37734.18, 37402.21, 33102.27, 32881.86, 30244.4, 26365.11, 26062.12, 24185.87, 19709.19, 19212.02, 19109.02, 19019.67, 18805.43, 18627.64, 17908.46, 17863.36, 17861.79, 16546.96, 16396.55, 16126.05, 16002.41, 15898.14, 15133.77, 15053.91, 14373.11, 14111.05, 13235.41, 12627.83, 12302.03, 11970.72, 11548.03, 10940.24, 9996.08, 9881.05, 9772.35, 8498.13, 8447.44, 8307.75, 7429.11, 6237.19, 5597.23, 5509.51, 5248.52, 5088.89, 4304.76, 3395.22, 3261.67, 2662.79, 2401.85, 2182.72, 1129.93, 912.48, 790.6], \"yaxis\": \"y\"}, {\"hovertemplate\": \"type=+1<br>Mass=%{x}<br>Vol=%{y}<extra></extra>\", \"legendgroup\": \"+1\", \"marker\": {\"color\": \"#EF553B\", \"symbol\": \"circle\"}, \"mode\": \"markers\", \"name\": \"+1\", \"orientation\": \"v\", \"showlegend\": true, \"type\": \"scatter\", \"x\": [19993.8425543094, 19013.7071341648, 20604.8988994247, 20299.8589859828, 19319.7306792613, 22917.2111717332, 22611.1684869208, 20910.9181293114, 23222.2016472315, 14102.0361589687, 23832.2872914486, 21255.9825365589, 6416.95555968777], \"xaxis\": \"x\", \"y\": [20630.77, 6302.04, 4185.86, 3932.31, 3643.48, 3227.32, 2796.04, 2169.36, 1596.56, 433.45, 588.21, 2878.34, 935.2], \"yaxis\": \"y\"}],                        {\"legend\": {\"title\": {\"text\": \"type\"}, \"tracegroupgap\": 0}, \"margin\": {\"t\": 60}, \"template\": {\"data\": {\"bar\": [{\"error_x\": {\"color\": \"#2a3f5f\"}, \"error_y\": {\"color\": \"#2a3f5f\"}, \"marker\": {\"line\": {\"color\": \"#E5ECF6\", \"width\": 0.5}}, \"type\": \"bar\"}], \"barpolar\": [{\"marker\": {\"line\": {\"color\": \"#E5ECF6\", \"width\": 0.5}}, \"type\": \"barpolar\"}], \"carpet\": [{\"aaxis\": {\"endlinecolor\": \"#2a3f5f\", \"gridcolor\": \"white\", \"linecolor\": \"white\", \"minorgridcolor\": \"white\", \"startlinecolor\": \"#2a3f5f\"}, \"baxis\": {\"endlinecolor\": \"#2a3f5f\", \"gridcolor\": \"white\", \"linecolor\": \"white\", \"minorgridcolor\": \"white\", \"startlinecolor\": \"#2a3f5f\"}, \"type\": \"carpet\"}], \"choropleth\": [{\"colorbar\": {\"outlinewidth\": 0, \"ticks\": \"\"}, \"type\": \"choropleth\"}], \"contour\": [{\"colorbar\": {\"outlinewidth\": 0, \"ticks\": \"\"}, \"colorscale\": [[0.0, \"#0d0887\"], [0.1111111111111111, \"#46039f\"], [0.2222222222222222, \"#7201a8\"], [0.3333333333333333, \"#9c179e\"], [0.4444444444444444, \"#bd3786\"], [0.5555555555555556, \"#d8576b\"], [0.6666666666666666, \"#ed7953\"], [0.7777777777777778, \"#fb9f3a\"], [0.8888888888888888, \"#fdca26\"], [1.0, \"#f0f921\"]], \"type\": \"contour\"}], \"contourcarpet\": [{\"colorbar\": {\"outlinewidth\": 0, \"ticks\": \"\"}, \"type\": \"contourcarpet\"}], \"heatmap\": [{\"colorbar\": {\"outlinewidth\": 0, \"ticks\": \"\"}, \"colorscale\": [[0.0, \"#0d0887\"], [0.1111111111111111, \"#46039f\"], [0.2222222222222222, \"#7201a8\"], [0.3333333333333333, \"#9c179e\"], [0.4444444444444444, \"#bd3786\"], [0.5555555555555556, \"#d8576b\"], [0.6666666666666666, \"#ed7953\"], [0.7777777777777778, \"#fb9f3a\"], [0.8888888888888888, \"#fdca26\"], [1.0, \"#f0f921\"]], \"type\": \"heatmap\"}], \"heatmapgl\": [{\"colorbar\": {\"outlinewidth\": 0, \"ticks\": \"\"}, \"colorscale\": [[0.0, \"#0d0887\"], [0.1111111111111111, \"#46039f\"], [0.2222222222222222, \"#7201a8\"], [0.3333333333333333, \"#9c179e\"], [0.4444444444444444, \"#bd3786\"], [0.5555555555555556, \"#d8576b\"], [0.6666666666666666, \"#ed7953\"], [0.7777777777777778, \"#fb9f3a\"], [0.8888888888888888, \"#fdca26\"], [1.0, \"#f0f921\"]], \"type\": \"heatmapgl\"}], \"histogram\": [{\"marker\": {\"colorbar\": {\"outlinewidth\": 0, \"ticks\": \"\"}}, \"type\": \"histogram\"}], \"histogram2d\": [{\"colorbar\": {\"outlinewidth\": 0, \"ticks\": \"\"}, \"colorscale\": [[0.0, \"#0d0887\"], [0.1111111111111111, \"#46039f\"], [0.2222222222222222, \"#7201a8\"], [0.3333333333333333, \"#9c179e\"], [0.4444444444444444, \"#bd3786\"], [0.5555555555555556, \"#d8576b\"], [0.6666666666666666, \"#ed7953\"], [0.7777777777777778, \"#fb9f3a\"], [0.8888888888888888, \"#fdca26\"], [1.0, \"#f0f921\"]], \"type\": \"histogram2d\"}], \"histogram2dcontour\": [{\"colorbar\": {\"outlinewidth\": 0, \"ticks\": \"\"}, \"colorscale\": [[0.0, \"#0d0887\"], [0.1111111111111111, \"#46039f\"], [0.2222222222222222, \"#7201a8\"], [0.3333333333333333, \"#9c179e\"], [0.4444444444444444, \"#bd3786\"], [0.5555555555555556, \"#d8576b\"], [0.6666666666666666, \"#ed7953\"], [0.7777777777777778, \"#fb9f3a\"], [0.8888888888888888, \"#fdca26\"], [1.0, \"#f0f921\"]], \"type\": \"histogram2dcontour\"}], \"mesh3d\": [{\"colorbar\": {\"outlinewidth\": 0, \"ticks\": \"\"}, \"type\": \"mesh3d\"}], \"parcoords\": [{\"line\": {\"colorbar\": {\"outlinewidth\": 0, \"ticks\": \"\"}}, \"type\": \"parcoords\"}], \"pie\": [{\"automargin\": true, \"type\": \"pie\"}], \"scatter\": [{\"marker\": {\"colorbar\": {\"outlinewidth\": 0, \"ticks\": \"\"}}, \"type\": \"scatter\"}], \"scatter3d\": [{\"line\": {\"colorbar\": {\"outlinewidth\": 0, \"ticks\": \"\"}}, \"marker\": {\"colorbar\": {\"outlinewidth\": 0, \"ticks\": \"\"}}, \"type\": \"scatter3d\"}], \"scattercarpet\": [{\"marker\": {\"colorbar\": {\"outlinewidth\": 0, \"ticks\": \"\"}}, \"type\": \"scattercarpet\"}], \"scattergeo\": [{\"marker\": {\"colorbar\": {\"outlinewidth\": 0, \"ticks\": \"\"}}, \"type\": \"scattergeo\"}], \"scattergl\": [{\"marker\": {\"colorbar\": {\"outlinewidth\": 0, \"ticks\": \"\"}}, \"type\": \"scattergl\"}], \"scattermapbox\": [{\"marker\": {\"colorbar\": {\"outlinewidth\": 0, \"ticks\": \"\"}}, \"type\": \"scattermapbox\"}], \"scatterpolar\": [{\"marker\": {\"colorbar\": {\"outlinewidth\": 0, \"ticks\": \"\"}}, \"type\": \"scatterpolar\"}], \"scatterpolargl\": [{\"marker\": {\"colorbar\": {\"outlinewidth\": 0, \"ticks\": \"\"}}, \"type\": \"scatterpolargl\"}], \"scatterternary\": [{\"marker\": {\"colorbar\": {\"outlinewidth\": 0, \"ticks\": \"\"}}, \"type\": \"scatterternary\"}], \"surface\": [{\"colorbar\": {\"outlinewidth\": 0, \"ticks\": \"\"}, \"colorscale\": [[0.0, \"#0d0887\"], [0.1111111111111111, \"#46039f\"], [0.2222222222222222, \"#7201a8\"], [0.3333333333333333, \"#9c179e\"], [0.4444444444444444, \"#bd3786\"], [0.5555555555555556, \"#d8576b\"], [0.6666666666666666, \"#ed7953\"], [0.7777777777777778, \"#fb9f3a\"], [0.8888888888888888, \"#fdca26\"], [1.0, \"#f0f921\"]], \"type\": \"surface\"}], \"table\": [{\"cells\": {\"fill\": {\"color\": \"#EBF0F8\"}, \"line\": {\"color\": \"white\"}}, \"header\": {\"fill\": {\"color\": \"#C8D4E3\"}, \"line\": {\"color\": \"white\"}}, \"type\": \"table\"}]}, \"layout\": {\"annotationdefaults\": {\"arrowcolor\": \"#2a3f5f\", \"arrowhead\": 0, \"arrowwidth\": 1}, \"autotypenumbers\": \"strict\", \"coloraxis\": {\"colorbar\": {\"outlinewidth\": 0, \"ticks\": \"\"}}, \"colorscale\": {\"diverging\": [[0, \"#8e0152\"], [0.1, \"#c51b7d\"], [0.2, \"#de77ae\"], [0.3, \"#f1b6da\"], [0.4, \"#fde0ef\"], [0.5, \"#f7f7f7\"], [0.6, \"#e6f5d0\"], [0.7, \"#b8e186\"], [0.8, \"#7fbc41\"], [0.9, \"#4d9221\"], [1, \"#276419\"]], \"sequential\": [[0.0, \"#0d0887\"], [0.1111111111111111, \"#46039f\"], [0.2222222222222222, \"#7201a8\"], [0.3333333333333333, \"#9c179e\"], [0.4444444444444444, \"#bd3786\"], [0.5555555555555556, \"#d8576b\"], [0.6666666666666666, \"#ed7953\"], [0.7777777777777778, \"#fb9f3a\"], [0.8888888888888888, \"#fdca26\"], [1.0, \"#f0f921\"]], \"sequentialminus\": [[0.0, \"#0d0887\"], [0.1111111111111111, \"#46039f\"], [0.2222222222222222, \"#7201a8\"], [0.3333333333333333, \"#9c179e\"], [0.4444444444444444, \"#bd3786\"], [0.5555555555555556, \"#d8576b\"], [0.6666666666666666, \"#ed7953\"], [0.7777777777777778, \"#fb9f3a\"], [0.8888888888888888, \"#fdca26\"], [1.0, \"#f0f921\"]]}, \"colorway\": [\"#636efa\", \"#EF553B\", \"#00cc96\", \"#ab63fa\", \"#FFA15A\", \"#19d3f3\", \"#FF6692\", \"#B6E880\", \"#FF97FF\", \"#FECB52\"], \"font\": {\"color\": \"#2a3f5f\"}, \"geo\": {\"bgcolor\": \"white\", \"lakecolor\": \"white\", \"landcolor\": \"#E5ECF6\", \"showlakes\": true, \"showland\": true, \"subunitcolor\": \"white\"}, \"hoverlabel\": {\"align\": \"left\"}, \"hovermode\": \"closest\", \"mapbox\": {\"style\": \"light\"}, \"paper_bgcolor\": \"white\", \"plot_bgcolor\": \"#E5ECF6\", \"polar\": {\"angularaxis\": {\"gridcolor\": \"white\", \"linecolor\": \"white\", \"ticks\": \"\"}, \"bgcolor\": \"#E5ECF6\", \"radialaxis\": {\"gridcolor\": \"white\", \"linecolor\": \"white\", \"ticks\": \"\"}}, \"scene\": {\"xaxis\": {\"backgroundcolor\": \"#E5ECF6\", \"gridcolor\": \"white\", \"gridwidth\": 2, \"linecolor\": \"white\", \"showbackground\": true, \"ticks\": \"\", \"zerolinecolor\": \"white\"}, \"yaxis\": {\"backgroundcolor\": \"#E5ECF6\", \"gridcolor\": \"white\", \"gridwidth\": 2, \"linecolor\": \"white\", \"showbackground\": true, \"ticks\": \"\", \"zerolinecolor\": \"white\"}, \"zaxis\": {\"backgroundcolor\": \"#E5ECF6\", \"gridcolor\": \"white\", \"gridwidth\": 2, \"linecolor\": \"white\", \"showbackground\": true, \"ticks\": \"\", \"zerolinecolor\": \"white\"}}, \"shapedefaults\": {\"line\": {\"color\": \"#2a3f5f\"}}, \"ternary\": {\"aaxis\": {\"gridcolor\": \"white\", \"linecolor\": \"white\", \"ticks\": \"\"}, \"baxis\": {\"gridcolor\": \"white\", \"linecolor\": \"white\", \"ticks\": \"\"}, \"bgcolor\": \"#E5ECF6\", \"caxis\": {\"gridcolor\": \"white\", \"linecolor\": \"white\", \"ticks\": \"\"}}, \"title\": {\"x\": 0.05}, \"xaxis\": {\"automargin\": true, \"gridcolor\": \"white\", \"linecolor\": \"white\", \"ticks\": \"\", \"title\": {\"standoff\": 15}, \"zerolinecolor\": \"white\", \"zerolinewidth\": 2}, \"yaxis\": {\"automargin\": true, \"gridcolor\": \"white\", \"linecolor\": \"white\", \"ticks\": \"\", \"title\": {\"standoff\": 15}, \"zerolinecolor\": \"white\", \"zerolinewidth\": 2}}}, \"xaxis\": {\"anchor\": \"y\", \"domain\": [0.0, 1.0], \"title\": {\"text\": \"Mass\"}}, \"yaxis\": {\"anchor\": \"x\", \"domain\": [0.0, 1.0], \"title\": {\"text\": \"Vol\"}}},                        {\"responsive\": true}                    ).then(function(){\n",
       "                            \n",
       "var gd = document.getElementById('86a06227-7efb-4768-b4f8-cc6582297193');\n",
       "var x = new MutationObserver(function (mutations, observer) {{\n",
       "        var display = window.getComputedStyle(gd).display;\n",
       "        if (!display || display === 'none') {{\n",
       "            console.log([gd, 'removed!']);\n",
       "            Plotly.purge(gd);\n",
       "            observer.disconnect();\n",
       "        }}\n",
       "}});\n",
       "\n",
       "// Listen for the removal of the full notebook cells\n",
       "var notebookContainer = gd.closest('#notebook-container');\n",
       "if (notebookContainer) {{\n",
       "    x.observe(notebookContainer, {childList: true});\n",
       "}}\n",
       "\n",
       "// Listen for the clearing of the current output cell\n",
       "var outputEl = gd.closest('.output');\n",
       "if (outputEl) {{\n",
       "    x.observe(outputEl, {childList: true});\n",
       "}}\n",
       "\n",
       "                        })                };                });            </script>        </div>"
      ]
     },
     "metadata": {},
     "output_type": "display_data"
    }
   ],
   "source": [
    "# match 1 Da\n",
    "\n",
    "df_tmp = df_217_3p_6mG.copy()\n",
    "df_tmp = df_tmp[df_tmp.Mass<24189]\n",
    "# df_tmp = df_tmp[df_tmp.Mass>20200]\n",
    "# df_tmp = df_tmp[df_tmp.Mass<4200]\n",
    "df_sample = dfx\n",
    "dfm1 = match_dfs_with_adducts(df_tmp, df_sample)\n",
    "dfm1.RT = 0\n",
    "# plotly_zone(dfm1)\n",
    "df_tmp.Mass += 1\n",
    "dfm2 = match_dfs_with_adducts(df_tmp, df_sample)\n",
    "dfm2.RT = 1\n",
    "\n",
    "df_tmp.Mass += 1\n",
    "dfm3 = match_dfs_with_adducts(df_tmp, df_sample)\n",
    "dfm3.RT = 2\n",
    "\n",
    "plotly_multi_zones([dfm1, dfm2], names=['Baseline', '+1'])\n",
    "plotly_multi_zones([dfm1, dfm2], y='Vol', names=['Baseline', '+1'])"
   ]
  },
  {
   "cell_type": "code",
   "execution_count": null,
   "id": "developed-vampire",
   "metadata": {},
   "outputs": [],
   "source": []
  },
  {
   "cell_type": "code",
   "execution_count": 97,
   "id": "wooden-sight",
   "metadata": {},
   "outputs": [
    {
     "data": {
      "text/plain": [
       "(            Mass        RT        Vol        RA        FA\n",
       " 412  1625.154897  0.527181  172894.78  0.018144  0.003038,\n",
       " Empty DataFrame\n",
       " Columns: [Mass, RT, Vol, RA, FA]\n",
       " Index: [])"
      ]
     },
     "execution_count": 97,
     "metadata": {},
     "output_type": "execute_result"
    }
   ],
   "source": [
    "target = 1625\n",
    "# df_sample = df_sample\n",
    "# plotly_zone(df_sample)\n",
    "dfa = df_sample[(df_sample.Mass>target-1)&(df_sample.Mass<target+1)]\n",
    "target += M\n",
    "dfb = df_sample[(df_sample.Mass>target-1)&(df_sample.Mass<target+1)]\n",
    "dfa, dfb"
   ]
  },
  {
   "cell_type": "code",
   "execution_count": 165,
   "id": "worthy-tribune",
   "metadata": {},
   "outputs": [],
   "source": [
    "df_out = dfm1.sort_values('Mass').copy()\n",
    "df_out.to_excel('~/Downloads/o.xlsx')\n",
    "df_out = dfm3.sort_values('Mass').copy()\n",
    "df_out.to_excel('~/Downloads/o2.xlsx')"
   ]
  },
  {
   "cell_type": "code",
   "execution_count": null,
   "id": "metallic-disability",
   "metadata": {},
   "outputs": [],
   "source": []
  },
  {
   "cell_type": "code",
   "execution_count": 20,
   "id": "naval-event",
   "metadata": {},
   "outputs": [
    {
     "name": "stdout",
     "output_type": "stream",
     "text": [
      "mass_x (200,) mass_y (200,)\n"
     ]
    },
    {
     "data": {
      "application/vnd.plotly.v1+json": {
       "config": {
        "plotlyServerURL": "https://plot.ly"
       },
       "data": [
        {
         "mode": "markers",
         "type": "scatter",
         "x": [
          1033.90012790999,
          675.879039724119,
          1117.91925571487,
          687.887326644673,
          767.859568672416,
          727.866184551872,
          1073.89334138995,
          812.881039801654,
          995.923712991009,
          917.850710690362,
          689.901513359611,
          1223.88342319043
         ],
         "y": [
          31.9855488514582,
          31.9855488514582,
          31.9855488514582,
          2.93411309278806,
          11.8135898665269,
          1.70821998473803,
          31.9855488514582,
          15.95513842659,
          31.9855488514582,
          5.20368886745771,
          31.9855488514582,
          31.9855488514582
         ]
        },
        {
         "line": {
          "color": "pink"
         },
         "mode": "lines+markers",
         "name": "C",
         "type": "scatter",
         "x": [
          1117.91925571487,
          812.881039801654
         ],
         "y": [
          31.9855488514582,
          15.95513842659
         ]
        },
        {
         "line": {
          "color": "pink"
         },
         "mode": "lines+markers",
         "name": "U",
         "type": "scatter",
         "x": [
          1033.90012790999,
          727.866184551872
         ],
         "y": [
          31.9855488514582,
          1.70821998473803
         ]
        },
        {
         "line": {
          "color": "pink"
         },
         "mode": "lines+markers",
         "name": "U",
         "type": "scatter",
         "x": [
          767.859568672416,
          1073.89334138995
         ],
         "y": [
          11.8135898665269,
          31.9855488514582
         ]
        },
        {
         "line": {
          "color": "pink"
         },
         "mode": "lines+markers",
         "name": "U",
         "type": "scatter",
         "x": [
          917.850710690362,
          1223.88342319043
         ],
         "y": [
          5.20368886745771,
          31.9855488514582
         ]
        },
        {
         "line": {
          "color": "pink"
         },
         "mode": "lines+markers",
         "name": "U",
         "type": "scatter",
         "x": [
          995.923712991009,
          689.901513359611
         ],
         "y": [
          31.9855488514582,
          31.9855488514582
         ]
        },
        {
         "line": {
          "color": "pink"
         },
         "mode": "lines+markers",
         "name": "D",
         "type": "scatter",
         "x": [
          687.887326644673,
          995.923712991009
         ],
         "y": [
          2.93411309278806,
          31.9855488514582
         ]
        },
        {
         "line": {
          "color": "pink"
         },
         "mode": "lines+markers",
         "name": "mU",
         "type": "scatter",
         "x": [
          675.879039724119,
          995.923712991009
         ],
         "y": [
          31.9855488514582,
          31.9855488514582
         ]
        }
       ],
       "layout": {
        "annotations": [
         {
          "arrowhead": 1,
          "showarrow": false,
          "text": "C",
          "x": 965.4001477582619,
          "y": 23.9703436390241,
          "yshift": 5
         },
         {
          "arrowhead": 1,
          "showarrow": false,
          "text": "U",
          "x": 880.883156230931,
          "y": 16.846884418098117,
          "yshift": 5
         },
         {
          "arrowhead": 1,
          "showarrow": false,
          "text": "U",
          "x": 920.876455031183,
          "y": 21.89956935899255,
          "yshift": 5
         },
         {
          "arrowhead": 1,
          "showarrow": false,
          "text": "U",
          "x": 1070.867066940396,
          "y": 18.594618859457956,
          "yshift": 5
         },
         {
          "arrowhead": 1,
          "showarrow": false,
          "text": "U",
          "x": 842.9126131753101,
          "y": 31.9855488514582,
          "yshift": 5
         },
         {
          "arrowhead": 1,
          "showarrow": false,
          "text": "D",
          "x": 841.905519817841,
          "y": 17.45983097212313,
          "yshift": 5
         },
         {
          "arrowhead": 1,
          "showarrow": false,
          "text": "mU",
          "x": 835.901376357564,
          "y": 31.9855488514582,
          "yshift": 5
         }
        ],
        "template": {
         "data": {
          "bar": [
           {
            "error_x": {
             "color": "#2a3f5f"
            },
            "error_y": {
             "color": "#2a3f5f"
            },
            "marker": {
             "line": {
              "color": "#E5ECF6",
              "width": 0.5
             }
            },
            "type": "bar"
           }
          ],
          "barpolar": [
           {
            "marker": {
             "line": {
              "color": "#E5ECF6",
              "width": 0.5
             }
            },
            "type": "barpolar"
           }
          ],
          "carpet": [
           {
            "aaxis": {
             "endlinecolor": "#2a3f5f",
             "gridcolor": "white",
             "linecolor": "white",
             "minorgridcolor": "white",
             "startlinecolor": "#2a3f5f"
            },
            "baxis": {
             "endlinecolor": "#2a3f5f",
             "gridcolor": "white",
             "linecolor": "white",
             "minorgridcolor": "white",
             "startlinecolor": "#2a3f5f"
            },
            "type": "carpet"
           }
          ],
          "choropleth": [
           {
            "colorbar": {
             "outlinewidth": 0,
             "ticks": ""
            },
            "type": "choropleth"
           }
          ],
          "contour": [
           {
            "colorbar": {
             "outlinewidth": 0,
             "ticks": ""
            },
            "colorscale": [
             [
              0,
              "#0d0887"
             ],
             [
              0.1111111111111111,
              "#46039f"
             ],
             [
              0.2222222222222222,
              "#7201a8"
             ],
             [
              0.3333333333333333,
              "#9c179e"
             ],
             [
              0.4444444444444444,
              "#bd3786"
             ],
             [
              0.5555555555555556,
              "#d8576b"
             ],
             [
              0.6666666666666666,
              "#ed7953"
             ],
             [
              0.7777777777777778,
              "#fb9f3a"
             ],
             [
              0.8888888888888888,
              "#fdca26"
             ],
             [
              1,
              "#f0f921"
             ]
            ],
            "type": "contour"
           }
          ],
          "contourcarpet": [
           {
            "colorbar": {
             "outlinewidth": 0,
             "ticks": ""
            },
            "type": "contourcarpet"
           }
          ],
          "heatmap": [
           {
            "colorbar": {
             "outlinewidth": 0,
             "ticks": ""
            },
            "colorscale": [
             [
              0,
              "#0d0887"
             ],
             [
              0.1111111111111111,
              "#46039f"
             ],
             [
              0.2222222222222222,
              "#7201a8"
             ],
             [
              0.3333333333333333,
              "#9c179e"
             ],
             [
              0.4444444444444444,
              "#bd3786"
             ],
             [
              0.5555555555555556,
              "#d8576b"
             ],
             [
              0.6666666666666666,
              "#ed7953"
             ],
             [
              0.7777777777777778,
              "#fb9f3a"
             ],
             [
              0.8888888888888888,
              "#fdca26"
             ],
             [
              1,
              "#f0f921"
             ]
            ],
            "type": "heatmap"
           }
          ],
          "heatmapgl": [
           {
            "colorbar": {
             "outlinewidth": 0,
             "ticks": ""
            },
            "colorscale": [
             [
              0,
              "#0d0887"
             ],
             [
              0.1111111111111111,
              "#46039f"
             ],
             [
              0.2222222222222222,
              "#7201a8"
             ],
             [
              0.3333333333333333,
              "#9c179e"
             ],
             [
              0.4444444444444444,
              "#bd3786"
             ],
             [
              0.5555555555555556,
              "#d8576b"
             ],
             [
              0.6666666666666666,
              "#ed7953"
             ],
             [
              0.7777777777777778,
              "#fb9f3a"
             ],
             [
              0.8888888888888888,
              "#fdca26"
             ],
             [
              1,
              "#f0f921"
             ]
            ],
            "type": "heatmapgl"
           }
          ],
          "histogram": [
           {
            "marker": {
             "colorbar": {
              "outlinewidth": 0,
              "ticks": ""
             }
            },
            "type": "histogram"
           }
          ],
          "histogram2d": [
           {
            "colorbar": {
             "outlinewidth": 0,
             "ticks": ""
            },
            "colorscale": [
             [
              0,
              "#0d0887"
             ],
             [
              0.1111111111111111,
              "#46039f"
             ],
             [
              0.2222222222222222,
              "#7201a8"
             ],
             [
              0.3333333333333333,
              "#9c179e"
             ],
             [
              0.4444444444444444,
              "#bd3786"
             ],
             [
              0.5555555555555556,
              "#d8576b"
             ],
             [
              0.6666666666666666,
              "#ed7953"
             ],
             [
              0.7777777777777778,
              "#fb9f3a"
             ],
             [
              0.8888888888888888,
              "#fdca26"
             ],
             [
              1,
              "#f0f921"
             ]
            ],
            "type": "histogram2d"
           }
          ],
          "histogram2dcontour": [
           {
            "colorbar": {
             "outlinewidth": 0,
             "ticks": ""
            },
            "colorscale": [
             [
              0,
              "#0d0887"
             ],
             [
              0.1111111111111111,
              "#46039f"
             ],
             [
              0.2222222222222222,
              "#7201a8"
             ],
             [
              0.3333333333333333,
              "#9c179e"
             ],
             [
              0.4444444444444444,
              "#bd3786"
             ],
             [
              0.5555555555555556,
              "#d8576b"
             ],
             [
              0.6666666666666666,
              "#ed7953"
             ],
             [
              0.7777777777777778,
              "#fb9f3a"
             ],
             [
              0.8888888888888888,
              "#fdca26"
             ],
             [
              1,
              "#f0f921"
             ]
            ],
            "type": "histogram2dcontour"
           }
          ],
          "mesh3d": [
           {
            "colorbar": {
             "outlinewidth": 0,
             "ticks": ""
            },
            "type": "mesh3d"
           }
          ],
          "parcoords": [
           {
            "line": {
             "colorbar": {
              "outlinewidth": 0,
              "ticks": ""
             }
            },
            "type": "parcoords"
           }
          ],
          "pie": [
           {
            "automargin": true,
            "type": "pie"
           }
          ],
          "scatter": [
           {
            "marker": {
             "colorbar": {
              "outlinewidth": 0,
              "ticks": ""
             }
            },
            "type": "scatter"
           }
          ],
          "scatter3d": [
           {
            "line": {
             "colorbar": {
              "outlinewidth": 0,
              "ticks": ""
             }
            },
            "marker": {
             "colorbar": {
              "outlinewidth": 0,
              "ticks": ""
             }
            },
            "type": "scatter3d"
           }
          ],
          "scattercarpet": [
           {
            "marker": {
             "colorbar": {
              "outlinewidth": 0,
              "ticks": ""
             }
            },
            "type": "scattercarpet"
           }
          ],
          "scattergeo": [
           {
            "marker": {
             "colorbar": {
              "outlinewidth": 0,
              "ticks": ""
             }
            },
            "type": "scattergeo"
           }
          ],
          "scattergl": [
           {
            "marker": {
             "colorbar": {
              "outlinewidth": 0,
              "ticks": ""
             }
            },
            "type": "scattergl"
           }
          ],
          "scattermapbox": [
           {
            "marker": {
             "colorbar": {
              "outlinewidth": 0,
              "ticks": ""
             }
            },
            "type": "scattermapbox"
           }
          ],
          "scatterpolar": [
           {
            "marker": {
             "colorbar": {
              "outlinewidth": 0,
              "ticks": ""
             }
            },
            "type": "scatterpolar"
           }
          ],
          "scatterpolargl": [
           {
            "marker": {
             "colorbar": {
              "outlinewidth": 0,
              "ticks": ""
             }
            },
            "type": "scatterpolargl"
           }
          ],
          "scatterternary": [
           {
            "marker": {
             "colorbar": {
              "outlinewidth": 0,
              "ticks": ""
             }
            },
            "type": "scatterternary"
           }
          ],
          "surface": [
           {
            "colorbar": {
             "outlinewidth": 0,
             "ticks": ""
            },
            "colorscale": [
             [
              0,
              "#0d0887"
             ],
             [
              0.1111111111111111,
              "#46039f"
             ],
             [
              0.2222222222222222,
              "#7201a8"
             ],
             [
              0.3333333333333333,
              "#9c179e"
             ],
             [
              0.4444444444444444,
              "#bd3786"
             ],
             [
              0.5555555555555556,
              "#d8576b"
             ],
             [
              0.6666666666666666,
              "#ed7953"
             ],
             [
              0.7777777777777778,
              "#fb9f3a"
             ],
             [
              0.8888888888888888,
              "#fdca26"
             ],
             [
              1,
              "#f0f921"
             ]
            ],
            "type": "surface"
           }
          ],
          "table": [
           {
            "cells": {
             "fill": {
              "color": "#EBF0F8"
             },
             "line": {
              "color": "white"
             }
            },
            "header": {
             "fill": {
              "color": "#C8D4E3"
             },
             "line": {
              "color": "white"
             }
            },
            "type": "table"
           }
          ]
         },
         "layout": {
          "annotationdefaults": {
           "arrowcolor": "#2a3f5f",
           "arrowhead": 0,
           "arrowwidth": 1
          },
          "autotypenumbers": "strict",
          "coloraxis": {
           "colorbar": {
            "outlinewidth": 0,
            "ticks": ""
           }
          },
          "colorscale": {
           "diverging": [
            [
             0,
             "#8e0152"
            ],
            [
             0.1,
             "#c51b7d"
            ],
            [
             0.2,
             "#de77ae"
            ],
            [
             0.3,
             "#f1b6da"
            ],
            [
             0.4,
             "#fde0ef"
            ],
            [
             0.5,
             "#f7f7f7"
            ],
            [
             0.6,
             "#e6f5d0"
            ],
            [
             0.7,
             "#b8e186"
            ],
            [
             0.8,
             "#7fbc41"
            ],
            [
             0.9,
             "#4d9221"
            ],
            [
             1,
             "#276419"
            ]
           ],
           "sequential": [
            [
             0,
             "#0d0887"
            ],
            [
             0.1111111111111111,
             "#46039f"
            ],
            [
             0.2222222222222222,
             "#7201a8"
            ],
            [
             0.3333333333333333,
             "#9c179e"
            ],
            [
             0.4444444444444444,
             "#bd3786"
            ],
            [
             0.5555555555555556,
             "#d8576b"
            ],
            [
             0.6666666666666666,
             "#ed7953"
            ],
            [
             0.7777777777777778,
             "#fb9f3a"
            ],
            [
             0.8888888888888888,
             "#fdca26"
            ],
            [
             1,
             "#f0f921"
            ]
           ],
           "sequentialminus": [
            [
             0,
             "#0d0887"
            ],
            [
             0.1111111111111111,
             "#46039f"
            ],
            [
             0.2222222222222222,
             "#7201a8"
            ],
            [
             0.3333333333333333,
             "#9c179e"
            ],
            [
             0.4444444444444444,
             "#bd3786"
            ],
            [
             0.5555555555555556,
             "#d8576b"
            ],
            [
             0.6666666666666666,
             "#ed7953"
            ],
            [
             0.7777777777777778,
             "#fb9f3a"
            ],
            [
             0.8888888888888888,
             "#fdca26"
            ],
            [
             1,
             "#f0f921"
            ]
           ]
          },
          "colorway": [
           "#636efa",
           "#EF553B",
           "#00cc96",
           "#ab63fa",
           "#FFA15A",
           "#19d3f3",
           "#FF6692",
           "#B6E880",
           "#FF97FF",
           "#FECB52"
          ],
          "font": {
           "color": "#2a3f5f"
          },
          "geo": {
           "bgcolor": "white",
           "lakecolor": "white",
           "landcolor": "#E5ECF6",
           "showlakes": true,
           "showland": true,
           "subunitcolor": "white"
          },
          "hoverlabel": {
           "align": "left"
          },
          "hovermode": "closest",
          "mapbox": {
           "style": "light"
          },
          "paper_bgcolor": "white",
          "plot_bgcolor": "#E5ECF6",
          "polar": {
           "angularaxis": {
            "gridcolor": "white",
            "linecolor": "white",
            "ticks": ""
           },
           "bgcolor": "#E5ECF6",
           "radialaxis": {
            "gridcolor": "white",
            "linecolor": "white",
            "ticks": ""
           }
          },
          "scene": {
           "xaxis": {
            "backgroundcolor": "#E5ECF6",
            "gridcolor": "white",
            "gridwidth": 2,
            "linecolor": "white",
            "showbackground": true,
            "ticks": "",
            "zerolinecolor": "white"
           },
           "yaxis": {
            "backgroundcolor": "#E5ECF6",
            "gridcolor": "white",
            "gridwidth": 2,
            "linecolor": "white",
            "showbackground": true,
            "ticks": "",
            "zerolinecolor": "white"
           },
           "zaxis": {
            "backgroundcolor": "#E5ECF6",
            "gridcolor": "white",
            "gridwidth": 2,
            "linecolor": "white",
            "showbackground": true,
            "ticks": "",
            "zerolinecolor": "white"
           }
          },
          "shapedefaults": {
           "line": {
            "color": "#2a3f5f"
           }
          },
          "ternary": {
           "aaxis": {
            "gridcolor": "white",
            "linecolor": "white",
            "ticks": ""
           },
           "baxis": {
            "gridcolor": "white",
            "linecolor": "white",
            "ticks": ""
           },
           "bgcolor": "#E5ECF6",
           "caxis": {
            "gridcolor": "white",
            "linecolor": "white",
            "ticks": ""
           }
          },
          "title": {
           "x": 0.05
          },
          "xaxis": {
           "automargin": true,
           "gridcolor": "white",
           "linecolor": "white",
           "ticks": "",
           "title": {
            "standoff": 15
           },
           "zerolinecolor": "white",
           "zerolinewidth": 2
          },
          "yaxis": {
           "automargin": true,
           "gridcolor": "white",
           "linecolor": "white",
           "ticks": "",
           "title": {
            "standoff": 15
           },
           "zerolinecolor": "white",
           "zerolinewidth": 2
          }
         }
        }
       }
      },
      "text/html": [
       "<div>                            <div id=\"99882a2d-44ba-4332-9d0c-829e65fa2dbc\" class=\"plotly-graph-div\" style=\"height:525px; width:100%;\"></div>            <script type=\"text/javascript\">                require([\"plotly\"], function(Plotly) {                    window.PLOTLYENV=window.PLOTLYENV || {};                                    if (document.getElementById(\"99882a2d-44ba-4332-9d0c-829e65fa2dbc\")) {                    Plotly.newPlot(                        \"99882a2d-44ba-4332-9d0c-829e65fa2dbc\",                        [{\"mode\": \"markers\", \"type\": \"scatter\", \"x\": [1033.90012790999, 675.879039724119, 1117.91925571487, 687.887326644673, 767.859568672416, 727.866184551872, 1073.89334138995, 812.881039801654, 995.923712991009, 917.850710690362, 689.901513359611, 1223.88342319043], \"y\": [31.9855488514582, 31.9855488514582, 31.9855488514582, 2.93411309278806, 11.8135898665269, 1.70821998473803, 31.9855488514582, 15.95513842659, 31.9855488514582, 5.20368886745771, 31.9855488514582, 31.9855488514582]}, {\"line\": {\"color\": \"pink\"}, \"mode\": \"lines+markers\", \"name\": \"C\", \"type\": \"scatter\", \"x\": [1117.91925571487, 812.881039801654], \"y\": [31.9855488514582, 15.95513842659]}, {\"line\": {\"color\": \"pink\"}, \"mode\": \"lines+markers\", \"name\": \"U\", \"type\": \"scatter\", \"x\": [1033.90012790999, 727.866184551872], \"y\": [31.9855488514582, 1.70821998473803]}, {\"line\": {\"color\": \"pink\"}, \"mode\": \"lines+markers\", \"name\": \"U\", \"type\": \"scatter\", \"x\": [767.859568672416, 1073.89334138995], \"y\": [11.8135898665269, 31.9855488514582]}, {\"line\": {\"color\": \"pink\"}, \"mode\": \"lines+markers\", \"name\": \"U\", \"type\": \"scatter\", \"x\": [917.850710690362, 1223.88342319043], \"y\": [5.20368886745771, 31.9855488514582]}, {\"line\": {\"color\": \"pink\"}, \"mode\": \"lines+markers\", \"name\": \"U\", \"type\": \"scatter\", \"x\": [995.923712991009, 689.901513359611], \"y\": [31.9855488514582, 31.9855488514582]}, {\"line\": {\"color\": \"pink\"}, \"mode\": \"lines+markers\", \"name\": \"D\", \"type\": \"scatter\", \"x\": [687.887326644673, 995.923712991009], \"y\": [2.93411309278806, 31.9855488514582]}, {\"line\": {\"color\": \"pink\"}, \"mode\": \"lines+markers\", \"name\": \"mU\", \"type\": \"scatter\", \"x\": [675.879039724119, 995.923712991009], \"y\": [31.9855488514582, 31.9855488514582]}],                        {\"annotations\": [{\"arrowhead\": 1, \"showarrow\": false, \"text\": \"C\", \"x\": 965.4001477582619, \"y\": 23.9703436390241, \"yshift\": 5}, {\"arrowhead\": 1, \"showarrow\": false, \"text\": \"U\", \"x\": 880.883156230931, \"y\": 16.846884418098117, \"yshift\": 5}, {\"arrowhead\": 1, \"showarrow\": false, \"text\": \"U\", \"x\": 920.876455031183, \"y\": 21.89956935899255, \"yshift\": 5}, {\"arrowhead\": 1, \"showarrow\": false, \"text\": \"U\", \"x\": 1070.867066940396, \"y\": 18.594618859457956, \"yshift\": 5}, {\"arrowhead\": 1, \"showarrow\": false, \"text\": \"U\", \"x\": 842.9126131753101, \"y\": 31.9855488514582, \"yshift\": 5}, {\"arrowhead\": 1, \"showarrow\": false, \"text\": \"D\", \"x\": 841.905519817841, \"y\": 17.45983097212313, \"yshift\": 5}, {\"arrowhead\": 1, \"showarrow\": false, \"text\": \"mU\", \"x\": 835.901376357564, \"y\": 31.9855488514582, \"yshift\": 5}], \"template\": {\"data\": {\"bar\": [{\"error_x\": {\"color\": \"#2a3f5f\"}, \"error_y\": {\"color\": \"#2a3f5f\"}, \"marker\": {\"line\": {\"color\": \"#E5ECF6\", \"width\": 0.5}}, \"type\": \"bar\"}], \"barpolar\": [{\"marker\": {\"line\": {\"color\": \"#E5ECF6\", \"width\": 0.5}}, \"type\": \"barpolar\"}], \"carpet\": [{\"aaxis\": {\"endlinecolor\": \"#2a3f5f\", \"gridcolor\": \"white\", \"linecolor\": \"white\", \"minorgridcolor\": \"white\", \"startlinecolor\": \"#2a3f5f\"}, \"baxis\": {\"endlinecolor\": \"#2a3f5f\", \"gridcolor\": \"white\", \"linecolor\": \"white\", \"minorgridcolor\": \"white\", \"startlinecolor\": \"#2a3f5f\"}, \"type\": \"carpet\"}], \"choropleth\": [{\"colorbar\": {\"outlinewidth\": 0, \"ticks\": \"\"}, \"type\": \"choropleth\"}], \"contour\": [{\"colorbar\": {\"outlinewidth\": 0, \"ticks\": \"\"}, \"colorscale\": [[0.0, \"#0d0887\"], [0.1111111111111111, \"#46039f\"], [0.2222222222222222, \"#7201a8\"], [0.3333333333333333, \"#9c179e\"], [0.4444444444444444, \"#bd3786\"], [0.5555555555555556, \"#d8576b\"], [0.6666666666666666, \"#ed7953\"], [0.7777777777777778, \"#fb9f3a\"], [0.8888888888888888, \"#fdca26\"], [1.0, \"#f0f921\"]], \"type\": \"contour\"}], \"contourcarpet\": [{\"colorbar\": {\"outlinewidth\": 0, \"ticks\": \"\"}, \"type\": \"contourcarpet\"}], \"heatmap\": [{\"colorbar\": {\"outlinewidth\": 0, \"ticks\": \"\"}, \"colorscale\": [[0.0, \"#0d0887\"], [0.1111111111111111, \"#46039f\"], [0.2222222222222222, \"#7201a8\"], [0.3333333333333333, \"#9c179e\"], [0.4444444444444444, \"#bd3786\"], [0.5555555555555556, \"#d8576b\"], [0.6666666666666666, \"#ed7953\"], [0.7777777777777778, \"#fb9f3a\"], [0.8888888888888888, \"#fdca26\"], [1.0, \"#f0f921\"]], \"type\": \"heatmap\"}], \"heatmapgl\": [{\"colorbar\": {\"outlinewidth\": 0, \"ticks\": \"\"}, \"colorscale\": [[0.0, \"#0d0887\"], [0.1111111111111111, \"#46039f\"], [0.2222222222222222, \"#7201a8\"], [0.3333333333333333, \"#9c179e\"], [0.4444444444444444, \"#bd3786\"], [0.5555555555555556, \"#d8576b\"], [0.6666666666666666, \"#ed7953\"], [0.7777777777777778, \"#fb9f3a\"], [0.8888888888888888, \"#fdca26\"], [1.0, \"#f0f921\"]], \"type\": \"heatmapgl\"}], \"histogram\": [{\"marker\": {\"colorbar\": {\"outlinewidth\": 0, \"ticks\": \"\"}}, \"type\": \"histogram\"}], \"histogram2d\": [{\"colorbar\": {\"outlinewidth\": 0, \"ticks\": \"\"}, \"colorscale\": [[0.0, \"#0d0887\"], [0.1111111111111111, \"#46039f\"], [0.2222222222222222, \"#7201a8\"], [0.3333333333333333, \"#9c179e\"], [0.4444444444444444, \"#bd3786\"], [0.5555555555555556, \"#d8576b\"], [0.6666666666666666, \"#ed7953\"], [0.7777777777777778, \"#fb9f3a\"], [0.8888888888888888, \"#fdca26\"], [1.0, \"#f0f921\"]], \"type\": \"histogram2d\"}], \"histogram2dcontour\": [{\"colorbar\": {\"outlinewidth\": 0, \"ticks\": \"\"}, \"colorscale\": [[0.0, \"#0d0887\"], [0.1111111111111111, \"#46039f\"], [0.2222222222222222, \"#7201a8\"], [0.3333333333333333, \"#9c179e\"], [0.4444444444444444, \"#bd3786\"], [0.5555555555555556, \"#d8576b\"], [0.6666666666666666, \"#ed7953\"], [0.7777777777777778, \"#fb9f3a\"], [0.8888888888888888, \"#fdca26\"], [1.0, \"#f0f921\"]], \"type\": \"histogram2dcontour\"}], \"mesh3d\": [{\"colorbar\": {\"outlinewidth\": 0, \"ticks\": \"\"}, \"type\": \"mesh3d\"}], \"parcoords\": [{\"line\": {\"colorbar\": {\"outlinewidth\": 0, \"ticks\": \"\"}}, \"type\": \"parcoords\"}], \"pie\": [{\"automargin\": true, \"type\": \"pie\"}], \"scatter\": [{\"marker\": {\"colorbar\": {\"outlinewidth\": 0, \"ticks\": \"\"}}, \"type\": \"scatter\"}], \"scatter3d\": [{\"line\": {\"colorbar\": {\"outlinewidth\": 0, \"ticks\": \"\"}}, \"marker\": {\"colorbar\": {\"outlinewidth\": 0, \"ticks\": \"\"}}, \"type\": \"scatter3d\"}], \"scattercarpet\": [{\"marker\": {\"colorbar\": {\"outlinewidth\": 0, \"ticks\": \"\"}}, \"type\": \"scattercarpet\"}], \"scattergeo\": [{\"marker\": {\"colorbar\": {\"outlinewidth\": 0, \"ticks\": \"\"}}, \"type\": \"scattergeo\"}], \"scattergl\": [{\"marker\": {\"colorbar\": {\"outlinewidth\": 0, \"ticks\": \"\"}}, \"type\": \"scattergl\"}], \"scattermapbox\": [{\"marker\": {\"colorbar\": {\"outlinewidth\": 0, \"ticks\": \"\"}}, \"type\": \"scattermapbox\"}], \"scatterpolar\": [{\"marker\": {\"colorbar\": {\"outlinewidth\": 0, \"ticks\": \"\"}}, \"type\": \"scatterpolar\"}], \"scatterpolargl\": [{\"marker\": {\"colorbar\": {\"outlinewidth\": 0, \"ticks\": \"\"}}, \"type\": \"scatterpolargl\"}], \"scatterternary\": [{\"marker\": {\"colorbar\": {\"outlinewidth\": 0, \"ticks\": \"\"}}, \"type\": \"scatterternary\"}], \"surface\": [{\"colorbar\": {\"outlinewidth\": 0, \"ticks\": \"\"}, \"colorscale\": [[0.0, \"#0d0887\"], [0.1111111111111111, \"#46039f\"], [0.2222222222222222, \"#7201a8\"], [0.3333333333333333, \"#9c179e\"], [0.4444444444444444, \"#bd3786\"], [0.5555555555555556, \"#d8576b\"], [0.6666666666666666, \"#ed7953\"], [0.7777777777777778, \"#fb9f3a\"], [0.8888888888888888, \"#fdca26\"], [1.0, \"#f0f921\"]], \"type\": \"surface\"}], \"table\": [{\"cells\": {\"fill\": {\"color\": \"#EBF0F8\"}, \"line\": {\"color\": \"white\"}}, \"header\": {\"fill\": {\"color\": \"#C8D4E3\"}, \"line\": {\"color\": \"white\"}}, \"type\": \"table\"}]}, \"layout\": {\"annotationdefaults\": {\"arrowcolor\": \"#2a3f5f\", \"arrowhead\": 0, \"arrowwidth\": 1}, \"autotypenumbers\": \"strict\", \"coloraxis\": {\"colorbar\": {\"outlinewidth\": 0, \"ticks\": \"\"}}, \"colorscale\": {\"diverging\": [[0, \"#8e0152\"], [0.1, \"#c51b7d\"], [0.2, \"#de77ae\"], [0.3, \"#f1b6da\"], [0.4, \"#fde0ef\"], [0.5, \"#f7f7f7\"], [0.6, \"#e6f5d0\"], [0.7, \"#b8e186\"], [0.8, \"#7fbc41\"], [0.9, \"#4d9221\"], [1, \"#276419\"]], \"sequential\": [[0.0, \"#0d0887\"], [0.1111111111111111, \"#46039f\"], [0.2222222222222222, \"#7201a8\"], [0.3333333333333333, \"#9c179e\"], [0.4444444444444444, \"#bd3786\"], [0.5555555555555556, \"#d8576b\"], [0.6666666666666666, \"#ed7953\"], [0.7777777777777778, \"#fb9f3a\"], [0.8888888888888888, \"#fdca26\"], [1.0, \"#f0f921\"]], \"sequentialminus\": [[0.0, \"#0d0887\"], [0.1111111111111111, \"#46039f\"], [0.2222222222222222, \"#7201a8\"], [0.3333333333333333, \"#9c179e\"], [0.4444444444444444, \"#bd3786\"], [0.5555555555555556, \"#d8576b\"], [0.6666666666666666, \"#ed7953\"], [0.7777777777777778, \"#fb9f3a\"], [0.8888888888888888, \"#fdca26\"], [1.0, \"#f0f921\"]]}, \"colorway\": [\"#636efa\", \"#EF553B\", \"#00cc96\", \"#ab63fa\", \"#FFA15A\", \"#19d3f3\", \"#FF6692\", \"#B6E880\", \"#FF97FF\", \"#FECB52\"], \"font\": {\"color\": \"#2a3f5f\"}, \"geo\": {\"bgcolor\": \"white\", \"lakecolor\": \"white\", \"landcolor\": \"#E5ECF6\", \"showlakes\": true, \"showland\": true, \"subunitcolor\": \"white\"}, \"hoverlabel\": {\"align\": \"left\"}, \"hovermode\": \"closest\", \"mapbox\": {\"style\": \"light\"}, \"paper_bgcolor\": \"white\", \"plot_bgcolor\": \"#E5ECF6\", \"polar\": {\"angularaxis\": {\"gridcolor\": \"white\", \"linecolor\": \"white\", \"ticks\": \"\"}, \"bgcolor\": \"#E5ECF6\", \"radialaxis\": {\"gridcolor\": \"white\", \"linecolor\": \"white\", \"ticks\": \"\"}}, \"scene\": {\"xaxis\": {\"backgroundcolor\": \"#E5ECF6\", \"gridcolor\": \"white\", \"gridwidth\": 2, \"linecolor\": \"white\", \"showbackground\": true, \"ticks\": \"\", \"zerolinecolor\": \"white\"}, \"yaxis\": {\"backgroundcolor\": \"#E5ECF6\", \"gridcolor\": \"white\", \"gridwidth\": 2, \"linecolor\": \"white\", \"showbackground\": true, \"ticks\": \"\", \"zerolinecolor\": \"white\"}, \"zaxis\": {\"backgroundcolor\": \"#E5ECF6\", \"gridcolor\": \"white\", \"gridwidth\": 2, \"linecolor\": \"white\", \"showbackground\": true, \"ticks\": \"\", \"zerolinecolor\": \"white\"}}, \"shapedefaults\": {\"line\": {\"color\": \"#2a3f5f\"}}, \"ternary\": {\"aaxis\": {\"gridcolor\": \"white\", \"linecolor\": \"white\", \"ticks\": \"\"}, \"baxis\": {\"gridcolor\": \"white\", \"linecolor\": \"white\", \"ticks\": \"\"}, \"bgcolor\": \"#E5ECF6\", \"caxis\": {\"gridcolor\": \"white\", \"linecolor\": \"white\", \"ticks\": \"\"}}, \"title\": {\"x\": 0.05}, \"xaxis\": {\"automargin\": true, \"gridcolor\": \"white\", \"linecolor\": \"white\", \"ticks\": \"\", \"title\": {\"standoff\": 15}, \"zerolinecolor\": \"white\", \"zerolinewidth\": 2}, \"yaxis\": {\"automargin\": true, \"gridcolor\": \"white\", \"linecolor\": \"white\", \"ticks\": \"\", \"title\": {\"standoff\": 15}, \"zerolinecolor\": \"white\", \"zerolinewidth\": 2}}}},                        {\"responsive\": true}                    ).then(function(){\n",
       "                            \n",
       "var gd = document.getElementById('99882a2d-44ba-4332-9d0c-829e65fa2dbc');\n",
       "var x = new MutationObserver(function (mutations, observer) {{\n",
       "        var display = window.getComputedStyle(gd).display;\n",
       "        if (!display || display === 'none') {{\n",
       "            console.log([gd, 'removed!']);\n",
       "            Plotly.purge(gd);\n",
       "            observer.disconnect();\n",
       "        }}\n",
       "}});\n",
       "\n",
       "// Listen for the removal of the full notebook cells\n",
       "var notebookContainer = gd.closest('#notebook-container');\n",
       "if (notebookContainer) {{\n",
       "    x.observe(notebookContainer, {childList: true});\n",
       "}}\n",
       "\n",
       "// Listen for the clearing of the current output cell\n",
       "var outputEl = gd.closest('.output');\n",
       "if (outputEl) {{\n",
       "    x.observe(outputEl, {childList: true});\n",
       "}}\n",
       "\n",
       "                        })                };                });            </script>        </div>"
      ]
     },
     "metadata": {},
     "output_type": "display_data"
    }
   ],
   "source": [
    "# direct sequencing\n",
    "df_src = dfx.copy()\n",
    "df_top = df_src[(df_src.Mass>500)&(df_src.Mass<7500)].sort_values('Vol', ascending=False).iloc[:200].copy()\n",
    "df_top.shape\n",
    "# df_top = df_src.copy()\n",
    "\n",
    "# df_salts = list()\n",
    "# for salt in [21.9819, 37.9558, 34.9694, 27.9949, 56.92]:\n",
    "#     df_salt = match_dfs(df_top, df_top, shift=salt)\n",
    "# #     df_top = df_top.drop(df_salt.index)\n",
    "#     df_salts.append(df_salt)\n",
    "# df_salts = pd.concat(df_salts).drop_duplicates()\n",
    "# # df_top = df_top.drop(df_salts.index)\n",
    "# # plotly_zones(df_top, df_salts)\n",
    "\n",
    "bcr = base_calling_random(df_top)\n",
    "plotly_basecalling(*bcr, annotate=False)\n",
    "# groups = basecalling_groups(df_top)\n",
    "# plotly_basecalling(*groups[0], annotate=False)\n",
    "\n",
    "dfm1 = match_dfs(bcr[0], df_src, shift=-1*M)\n",
    "dfm2 = match_dfs(bcr[0], df_src, shift=1*M)\n",
    "# plotly_multi_zones([bcr[0], dfm1, dfm2])\n",
    "if not dfm1.empty:\n",
    "    plotly_zones(bcr[0], dfm1, names=['baseline', 'de-methyl'])"
   ]
  },
  {
   "cell_type": "code",
   "execution_count": null,
   "id": "modular-academy",
   "metadata": {},
   "outputs": [],
   "source": []
  },
  {
   "cell_type": "code",
   "execution_count": 8,
   "id": "valued-worth",
   "metadata": {},
   "outputs": [
    {
     "data": {
      "application/vnd.jupyter.widget-view+json": {
       "model_id": "3fff508a10214ed7963bd703e10b184a",
       "version_major": 2,
       "version_minor": 0
      },
      "text/plain": [
       "FigureWidget({\n",
       "    'data': [{'marker': {'color': [#6371f2, #6371f2, #6371f2, #6371f2, #6371f2,\n",
       "               …"
      ]
     },
     "metadata": {},
     "output_type": "display_data"
    },
    {
     "name": "stdout",
     "output_type": "stream",
     "text": [
      "points [0, 1, 5, 7, 8, 9, 10, 12, 14, 15, 16, 18, 20, 23, 26, 28, 29, 30, 31, 33, 35, 36, 40, 42, 43, 45, 47, 48, 50, 51, 52, 53, 54, 56, 57, 59, 60, 61, 62, 63, 64, 65, 68, 69, 70, 71, 75, 76, 77, 78, 80, 84, 85, 86, 87, 88, 90, 91, 94, 95, 96, 97, 98, 99, 100, 103, 107, 109, 112, 113, 120, 121, 123, 124, 127, 130, 131, 133, 135, 136, 138, 139, 140, 141, 142]\n"
     ]
    }
   ],
   "source": [
    "# Choose dots\n",
    "\n",
    "idxs = list()\n",
    "# create our callback function\n",
    "def on_selection(trace, points, selector):\n",
    "    print('points {}'.format(points.point_inds) )\n",
    "    idxs.extend(points.point_inds)\n",
    "\n",
    "def on_click(trace, points, selector):\n",
    "#     print('points {}'.format(points.point_inds) )\n",
    "    idxs.extend(points.point_inds)\n",
    "\n",
    "df_sample = df_top\n",
    "f = zone_selection(df_sample, on_selection=on_selection, on_click=on_click)\n",
    "f"
   ]
  },
  {
   "cell_type": "code",
   "execution_count": 12,
   "id": "painted-paraguay",
   "metadata": {},
   "outputs": [
    {
     "data": {
      "text/plain": [
       "(85, 5)"
      ]
     },
     "execution_count": 12,
     "metadata": {},
     "output_type": "execute_result"
    }
   ],
   "source": [
    "df_chosen = df_sample.iloc[idxs]\n",
    "# df_zone = df_sample.drop(df_chosen.index)\n",
    "df_chosen.shape"
   ]
  },
  {
   "cell_type": "code",
   "execution_count": 17,
   "id": "becoming-universe",
   "metadata": {},
   "outputs": [
    {
     "name": "stdout",
     "output_type": "stream",
     "text": [
      "mass_x (20,) mass_y (20,)\n"
     ]
    },
    {
     "data": {
      "application/vnd.plotly.v1+json": {
       "config": {
        "plotlyServerURL": "https://plot.ly"
       },
       "data": [
        {
         "mode": "markers",
         "type": "scatter",
         "x": [
          5222.60433681798,
          6528.7870381268,
          6857.83842473518,
          5913.70637597176,
          6566.73512951296,
          6220.74569320948,
          5260.55246444925,
          5568.65841641501,
          6259.69385124606,
          5567.65583294659,
          6895.78321079946,
          5951.65170414093,
          6221.74969013226,
          5605.60217445463,
          6510.7739577104,
          6529.7883478507,
          6551.76001204446,
          6202.73282492598,
          5606.60571881038
         ],
         "y": [
          13.2760269995213,
          14.5870746250629,
          14.9995387986978,
          14.0298136071046,
          14.5870746250629,
          14.3266743099372,
          13.2760269995213,
          13.6532421743552,
          14.2905402179241,
          13.7257655914307,
          14.9995387986978,
          14.0298136071046,
          14.2111409500917,
          13.6532421743552,
          14.3266743099372,
          14.4786733007113,
          14.5870746250629,
          14.0298136071046,
          13.7257655914307
         ]
        },
        {
         "line": {
          "color": "pink"
         },
         "mode": "lines+markers",
         "name": "A",
         "type": "scatter",
         "x": [
          6528.7870381268,
          6857.83842473518
         ],
         "y": [
          14.5870746250629,
          14.9995387986978
         ]
        },
        {
         "line": {
          "color": "pink"
         },
         "mode": "lines+markers",
         "name": "A",
         "type": "scatter",
         "x": [
          6566.73512951296,
          6895.78321079946
         ],
         "y": [
          14.5870746250629,
          14.9995387986978
         ]
        },
        {
         "line": {
          "color": "pink"
         },
         "mode": "lines+markers",
         "name": "G",
         "type": "scatter",
         "x": [
          5913.70637597176,
          5568.65841641501
         ],
         "y": [
          14.0298136071046,
          13.6532421743552
         ]
        },
        {
         "line": {
          "color": "pink"
         },
         "mode": "lines+markers",
         "name": "G",
         "type": "scatter",
         "x": [
          6566.73512951296,
          6221.74969013226
         ],
         "y": [
          14.5870746250629,
          14.2111409500917
         ]
        },
        {
         "line": {
          "color": "pink"
         },
         "mode": "lines+markers",
         "name": "G",
         "type": "scatter",
         "x": [
          5222.60433681798,
          5567.65583294659
         ],
         "y": [
          13.2760269995213,
          13.7257655914307
         ]
        },
        {
         "line": {
          "color": "pink"
         },
         "mode": "lines+markers",
         "name": "G",
         "type": "scatter",
         "x": [
          5951.65170414093,
          5606.60571881038
         ],
         "y": [
          14.0298136071046,
          13.7257655914307
         ]
        },
        {
         "line": {
          "color": "pink"
         },
         "mode": "lines+markers",
         "name": "G",
         "type": "scatter",
         "x": [
          5260.55246444925,
          5605.60217445463
         ],
         "y": [
          13.2760269995213,
          13.6532421743552
         ]
        },
        {
         "line": {
          "color": "pink"
         },
         "mode": "lines+markers",
         "name": "U",
         "type": "scatter",
         "x": [
          6857.83842473518,
          6551.76001204446
         ],
         "y": [
          14.9995387986978,
          14.5870746250629
         ]
        },
        {
         "line": {
          "color": "pink"
         },
         "mode": "lines+markers",
         "name": "D",
         "type": "scatter",
         "x": [
          6528.7870381268,
          6220.74569320948
         ],
         "y": [
          14.5870746250629,
          14.3266743099372
         ]
        },
        {
         "line": {
          "color": "pink"
         },
         "mode": "lines+markers",
         "name": "D",
         "type": "scatter",
         "x": [
          6259.69385124606,
          5951.65170414093
         ],
         "y": [
          14.2905402179241,
          14.0298136071046
         ]
        },
        {
         "line": {
          "color": "pink"
         },
         "mode": "lines+markers",
         "name": "D",
         "type": "scatter",
         "x": [
          5913.70637597176,
          6221.74969013226
         ],
         "y": [
          14.0298136071046,
          14.2111409500917
         ]
        },
        {
         "line": {
          "color": "pink"
         },
         "mode": "lines+markers",
         "name": "D",
         "type": "scatter",
         "x": [
          6510.7739577104,
          6202.73282492598
         ],
         "y": [
          14.3266743099372,
          14.0298136071046
         ]
        },
        {
         "line": {
          "color": "pink"
         },
         "mode": "lines+markers",
         "name": "D",
         "type": "scatter",
         "x": [
          6221.74969013226,
          6529.7883478507
         ],
         "y": [
          14.2111409500917,
          14.4786733007113
         ]
        }
       ],
       "layout": {
        "annotations": [
         {
          "arrowhead": 1,
          "showarrow": false,
          "text": "A",
          "x": 6693.3127314309895,
          "y": 14.793306711880351,
          "yshift": 5
         },
         {
          "arrowhead": 1,
          "showarrow": false,
          "text": "A",
          "x": 6731.2591701562105,
          "y": 14.793306711880351,
          "yshift": 5
         },
         {
          "arrowhead": 1,
          "showarrow": false,
          "text": "G",
          "x": 5741.182396193385,
          "y": 13.8415278907299,
          "yshift": 5
         },
         {
          "arrowhead": 1,
          "showarrow": false,
          "text": "G",
          "x": 6394.24240982261,
          "y": 14.3991077875773,
          "yshift": 5
         },
         {
          "arrowhead": 1,
          "showarrow": false,
          "text": "G",
          "x": 5395.130084882285,
          "y": 13.500896295476,
          "yshift": 5
         },
         {
          "arrowhead": 1,
          "showarrow": false,
          "text": "G",
          "x": 5779.128711475654,
          "y": 13.87778959926765,
          "yshift": 5
         },
         {
          "arrowhead": 1,
          "showarrow": false,
          "text": "G",
          "x": 5433.07731945194,
          "y": 13.46463458693825,
          "yshift": 5
         },
         {
          "arrowhead": 1,
          "showarrow": false,
          "text": "U",
          "x": 6704.79921838982,
          "y": 14.793306711880351,
          "yshift": 5
         },
         {
          "arrowhead": 1,
          "showarrow": false,
          "text": "D",
          "x": 6374.76636566814,
          "y": 14.45687446750005,
          "yshift": 5
         },
         {
          "arrowhead": 1,
          "showarrow": false,
          "text": "D",
          "x": 6105.672777693495,
          "y": 14.16017691251435,
          "yshift": 5
         },
         {
          "arrowhead": 1,
          "showarrow": false,
          "text": "D",
          "x": 6067.72803305201,
          "y": 14.12047727859815,
          "yshift": 5
         },
         {
          "arrowhead": 1,
          "showarrow": false,
          "text": "D",
          "x": 6356.753391318191,
          "y": 14.1782439585209,
          "yshift": 5
         },
         {
          "arrowhead": 1,
          "showarrow": false,
          "text": "D",
          "x": 6375.76901899148,
          "y": 14.3449071254015,
          "yshift": 5
         }
        ],
        "template": {
         "data": {
          "bar": [
           {
            "error_x": {
             "color": "#2a3f5f"
            },
            "error_y": {
             "color": "#2a3f5f"
            },
            "marker": {
             "line": {
              "color": "#E5ECF6",
              "width": 0.5
             }
            },
            "type": "bar"
           }
          ],
          "barpolar": [
           {
            "marker": {
             "line": {
              "color": "#E5ECF6",
              "width": 0.5
             }
            },
            "type": "barpolar"
           }
          ],
          "carpet": [
           {
            "aaxis": {
             "endlinecolor": "#2a3f5f",
             "gridcolor": "white",
             "linecolor": "white",
             "minorgridcolor": "white",
             "startlinecolor": "#2a3f5f"
            },
            "baxis": {
             "endlinecolor": "#2a3f5f",
             "gridcolor": "white",
             "linecolor": "white",
             "minorgridcolor": "white",
             "startlinecolor": "#2a3f5f"
            },
            "type": "carpet"
           }
          ],
          "choropleth": [
           {
            "colorbar": {
             "outlinewidth": 0,
             "ticks": ""
            },
            "type": "choropleth"
           }
          ],
          "contour": [
           {
            "colorbar": {
             "outlinewidth": 0,
             "ticks": ""
            },
            "colorscale": [
             [
              0,
              "#0d0887"
             ],
             [
              0.1111111111111111,
              "#46039f"
             ],
             [
              0.2222222222222222,
              "#7201a8"
             ],
             [
              0.3333333333333333,
              "#9c179e"
             ],
             [
              0.4444444444444444,
              "#bd3786"
             ],
             [
              0.5555555555555556,
              "#d8576b"
             ],
             [
              0.6666666666666666,
              "#ed7953"
             ],
             [
              0.7777777777777778,
              "#fb9f3a"
             ],
             [
              0.8888888888888888,
              "#fdca26"
             ],
             [
              1,
              "#f0f921"
             ]
            ],
            "type": "contour"
           }
          ],
          "contourcarpet": [
           {
            "colorbar": {
             "outlinewidth": 0,
             "ticks": ""
            },
            "type": "contourcarpet"
           }
          ],
          "heatmap": [
           {
            "colorbar": {
             "outlinewidth": 0,
             "ticks": ""
            },
            "colorscale": [
             [
              0,
              "#0d0887"
             ],
             [
              0.1111111111111111,
              "#46039f"
             ],
             [
              0.2222222222222222,
              "#7201a8"
             ],
             [
              0.3333333333333333,
              "#9c179e"
             ],
             [
              0.4444444444444444,
              "#bd3786"
             ],
             [
              0.5555555555555556,
              "#d8576b"
             ],
             [
              0.6666666666666666,
              "#ed7953"
             ],
             [
              0.7777777777777778,
              "#fb9f3a"
             ],
             [
              0.8888888888888888,
              "#fdca26"
             ],
             [
              1,
              "#f0f921"
             ]
            ],
            "type": "heatmap"
           }
          ],
          "heatmapgl": [
           {
            "colorbar": {
             "outlinewidth": 0,
             "ticks": ""
            },
            "colorscale": [
             [
              0,
              "#0d0887"
             ],
             [
              0.1111111111111111,
              "#46039f"
             ],
             [
              0.2222222222222222,
              "#7201a8"
             ],
             [
              0.3333333333333333,
              "#9c179e"
             ],
             [
              0.4444444444444444,
              "#bd3786"
             ],
             [
              0.5555555555555556,
              "#d8576b"
             ],
             [
              0.6666666666666666,
              "#ed7953"
             ],
             [
              0.7777777777777778,
              "#fb9f3a"
             ],
             [
              0.8888888888888888,
              "#fdca26"
             ],
             [
              1,
              "#f0f921"
             ]
            ],
            "type": "heatmapgl"
           }
          ],
          "histogram": [
           {
            "marker": {
             "colorbar": {
              "outlinewidth": 0,
              "ticks": ""
             }
            },
            "type": "histogram"
           }
          ],
          "histogram2d": [
           {
            "colorbar": {
             "outlinewidth": 0,
             "ticks": ""
            },
            "colorscale": [
             [
              0,
              "#0d0887"
             ],
             [
              0.1111111111111111,
              "#46039f"
             ],
             [
              0.2222222222222222,
              "#7201a8"
             ],
             [
              0.3333333333333333,
              "#9c179e"
             ],
             [
              0.4444444444444444,
              "#bd3786"
             ],
             [
              0.5555555555555556,
              "#d8576b"
             ],
             [
              0.6666666666666666,
              "#ed7953"
             ],
             [
              0.7777777777777778,
              "#fb9f3a"
             ],
             [
              0.8888888888888888,
              "#fdca26"
             ],
             [
              1,
              "#f0f921"
             ]
            ],
            "type": "histogram2d"
           }
          ],
          "histogram2dcontour": [
           {
            "colorbar": {
             "outlinewidth": 0,
             "ticks": ""
            },
            "colorscale": [
             [
              0,
              "#0d0887"
             ],
             [
              0.1111111111111111,
              "#46039f"
             ],
             [
              0.2222222222222222,
              "#7201a8"
             ],
             [
              0.3333333333333333,
              "#9c179e"
             ],
             [
              0.4444444444444444,
              "#bd3786"
             ],
             [
              0.5555555555555556,
              "#d8576b"
             ],
             [
              0.6666666666666666,
              "#ed7953"
             ],
             [
              0.7777777777777778,
              "#fb9f3a"
             ],
             [
              0.8888888888888888,
              "#fdca26"
             ],
             [
              1,
              "#f0f921"
             ]
            ],
            "type": "histogram2dcontour"
           }
          ],
          "mesh3d": [
           {
            "colorbar": {
             "outlinewidth": 0,
             "ticks": ""
            },
            "type": "mesh3d"
           }
          ],
          "parcoords": [
           {
            "line": {
             "colorbar": {
              "outlinewidth": 0,
              "ticks": ""
             }
            },
            "type": "parcoords"
           }
          ],
          "pie": [
           {
            "automargin": true,
            "type": "pie"
           }
          ],
          "scatter": [
           {
            "marker": {
             "colorbar": {
              "outlinewidth": 0,
              "ticks": ""
             }
            },
            "type": "scatter"
           }
          ],
          "scatter3d": [
           {
            "line": {
             "colorbar": {
              "outlinewidth": 0,
              "ticks": ""
             }
            },
            "marker": {
             "colorbar": {
              "outlinewidth": 0,
              "ticks": ""
             }
            },
            "type": "scatter3d"
           }
          ],
          "scattercarpet": [
           {
            "marker": {
             "colorbar": {
              "outlinewidth": 0,
              "ticks": ""
             }
            },
            "type": "scattercarpet"
           }
          ],
          "scattergeo": [
           {
            "marker": {
             "colorbar": {
              "outlinewidth": 0,
              "ticks": ""
             }
            },
            "type": "scattergeo"
           }
          ],
          "scattergl": [
           {
            "marker": {
             "colorbar": {
              "outlinewidth": 0,
              "ticks": ""
             }
            },
            "type": "scattergl"
           }
          ],
          "scattermapbox": [
           {
            "marker": {
             "colorbar": {
              "outlinewidth": 0,
              "ticks": ""
             }
            },
            "type": "scattermapbox"
           }
          ],
          "scatterpolar": [
           {
            "marker": {
             "colorbar": {
              "outlinewidth": 0,
              "ticks": ""
             }
            },
            "type": "scatterpolar"
           }
          ],
          "scatterpolargl": [
           {
            "marker": {
             "colorbar": {
              "outlinewidth": 0,
              "ticks": ""
             }
            },
            "type": "scatterpolargl"
           }
          ],
          "scatterternary": [
           {
            "marker": {
             "colorbar": {
              "outlinewidth": 0,
              "ticks": ""
             }
            },
            "type": "scatterternary"
           }
          ],
          "surface": [
           {
            "colorbar": {
             "outlinewidth": 0,
             "ticks": ""
            },
            "colorscale": [
             [
              0,
              "#0d0887"
             ],
             [
              0.1111111111111111,
              "#46039f"
             ],
             [
              0.2222222222222222,
              "#7201a8"
             ],
             [
              0.3333333333333333,
              "#9c179e"
             ],
             [
              0.4444444444444444,
              "#bd3786"
             ],
             [
              0.5555555555555556,
              "#d8576b"
             ],
             [
              0.6666666666666666,
              "#ed7953"
             ],
             [
              0.7777777777777778,
              "#fb9f3a"
             ],
             [
              0.8888888888888888,
              "#fdca26"
             ],
             [
              1,
              "#f0f921"
             ]
            ],
            "type": "surface"
           }
          ],
          "table": [
           {
            "cells": {
             "fill": {
              "color": "#EBF0F8"
             },
             "line": {
              "color": "white"
             }
            },
            "header": {
             "fill": {
              "color": "#C8D4E3"
             },
             "line": {
              "color": "white"
             }
            },
            "type": "table"
           }
          ]
         },
         "layout": {
          "annotationdefaults": {
           "arrowcolor": "#2a3f5f",
           "arrowhead": 0,
           "arrowwidth": 1
          },
          "autotypenumbers": "strict",
          "coloraxis": {
           "colorbar": {
            "outlinewidth": 0,
            "ticks": ""
           }
          },
          "colorscale": {
           "diverging": [
            [
             0,
             "#8e0152"
            ],
            [
             0.1,
             "#c51b7d"
            ],
            [
             0.2,
             "#de77ae"
            ],
            [
             0.3,
             "#f1b6da"
            ],
            [
             0.4,
             "#fde0ef"
            ],
            [
             0.5,
             "#f7f7f7"
            ],
            [
             0.6,
             "#e6f5d0"
            ],
            [
             0.7,
             "#b8e186"
            ],
            [
             0.8,
             "#7fbc41"
            ],
            [
             0.9,
             "#4d9221"
            ],
            [
             1,
             "#276419"
            ]
           ],
           "sequential": [
            [
             0,
             "#0d0887"
            ],
            [
             0.1111111111111111,
             "#46039f"
            ],
            [
             0.2222222222222222,
             "#7201a8"
            ],
            [
             0.3333333333333333,
             "#9c179e"
            ],
            [
             0.4444444444444444,
             "#bd3786"
            ],
            [
             0.5555555555555556,
             "#d8576b"
            ],
            [
             0.6666666666666666,
             "#ed7953"
            ],
            [
             0.7777777777777778,
             "#fb9f3a"
            ],
            [
             0.8888888888888888,
             "#fdca26"
            ],
            [
             1,
             "#f0f921"
            ]
           ],
           "sequentialminus": [
            [
             0,
             "#0d0887"
            ],
            [
             0.1111111111111111,
             "#46039f"
            ],
            [
             0.2222222222222222,
             "#7201a8"
            ],
            [
             0.3333333333333333,
             "#9c179e"
            ],
            [
             0.4444444444444444,
             "#bd3786"
            ],
            [
             0.5555555555555556,
             "#d8576b"
            ],
            [
             0.6666666666666666,
             "#ed7953"
            ],
            [
             0.7777777777777778,
             "#fb9f3a"
            ],
            [
             0.8888888888888888,
             "#fdca26"
            ],
            [
             1,
             "#f0f921"
            ]
           ]
          },
          "colorway": [
           "#636efa",
           "#EF553B",
           "#00cc96",
           "#ab63fa",
           "#FFA15A",
           "#19d3f3",
           "#FF6692",
           "#B6E880",
           "#FF97FF",
           "#FECB52"
          ],
          "font": {
           "color": "#2a3f5f"
          },
          "geo": {
           "bgcolor": "white",
           "lakecolor": "white",
           "landcolor": "#E5ECF6",
           "showlakes": true,
           "showland": true,
           "subunitcolor": "white"
          },
          "hoverlabel": {
           "align": "left"
          },
          "hovermode": "closest",
          "mapbox": {
           "style": "light"
          },
          "paper_bgcolor": "white",
          "plot_bgcolor": "#E5ECF6",
          "polar": {
           "angularaxis": {
            "gridcolor": "white",
            "linecolor": "white",
            "ticks": ""
           },
           "bgcolor": "#E5ECF6",
           "radialaxis": {
            "gridcolor": "white",
            "linecolor": "white",
            "ticks": ""
           }
          },
          "scene": {
           "xaxis": {
            "backgroundcolor": "#E5ECF6",
            "gridcolor": "white",
            "gridwidth": 2,
            "linecolor": "white",
            "showbackground": true,
            "ticks": "",
            "zerolinecolor": "white"
           },
           "yaxis": {
            "backgroundcolor": "#E5ECF6",
            "gridcolor": "white",
            "gridwidth": 2,
            "linecolor": "white",
            "showbackground": true,
            "ticks": "",
            "zerolinecolor": "white"
           },
           "zaxis": {
            "backgroundcolor": "#E5ECF6",
            "gridcolor": "white",
            "gridwidth": 2,
            "linecolor": "white",
            "showbackground": true,
            "ticks": "",
            "zerolinecolor": "white"
           }
          },
          "shapedefaults": {
           "line": {
            "color": "#2a3f5f"
           }
          },
          "ternary": {
           "aaxis": {
            "gridcolor": "white",
            "linecolor": "white",
            "ticks": ""
           },
           "baxis": {
            "gridcolor": "white",
            "linecolor": "white",
            "ticks": ""
           },
           "bgcolor": "#E5ECF6",
           "caxis": {
            "gridcolor": "white",
            "linecolor": "white",
            "ticks": ""
           }
          },
          "title": {
           "x": 0.05
          },
          "xaxis": {
           "automargin": true,
           "gridcolor": "white",
           "linecolor": "white",
           "ticks": "",
           "title": {
            "standoff": 15
           },
           "zerolinecolor": "white",
           "zerolinewidth": 2
          },
          "yaxis": {
           "automargin": true,
           "gridcolor": "white",
           "linecolor": "white",
           "ticks": "",
           "title": {
            "standoff": 15
           },
           "zerolinecolor": "white",
           "zerolinewidth": 2
          }
         }
        }
       }
      },
      "text/html": [
       "<div>                            <div id=\"379f9b37-7ba5-41a0-bb35-62f7f6c0f410\" class=\"plotly-graph-div\" style=\"height:525px; width:100%;\"></div>            <script type=\"text/javascript\">                require([\"plotly\"], function(Plotly) {                    window.PLOTLYENV=window.PLOTLYENV || {};                                    if (document.getElementById(\"379f9b37-7ba5-41a0-bb35-62f7f6c0f410\")) {                    Plotly.newPlot(                        \"379f9b37-7ba5-41a0-bb35-62f7f6c0f410\",                        [{\"mode\": \"markers\", \"type\": \"scatter\", \"x\": [5222.60433681798, 6528.7870381268, 6857.83842473518, 5913.70637597176, 6566.73512951296, 6220.74569320948, 5260.55246444925, 5568.65841641501, 6259.69385124606, 5567.65583294659, 6895.78321079946, 5951.65170414093, 6221.74969013226, 5605.60217445463, 6510.7739577104, 6529.7883478507, 6551.76001204446, 6202.73282492598, 5606.60571881038], \"y\": [13.2760269995213, 14.5870746250629, 14.9995387986978, 14.0298136071046, 14.5870746250629, 14.3266743099372, 13.2760269995213, 13.6532421743552, 14.2905402179241, 13.7257655914307, 14.9995387986978, 14.0298136071046, 14.2111409500917, 13.6532421743552, 14.3266743099372, 14.4786733007113, 14.5870746250629, 14.0298136071046, 13.7257655914307]}, {\"line\": {\"color\": \"pink\"}, \"mode\": \"lines+markers\", \"name\": \"A\", \"type\": \"scatter\", \"x\": [6528.7870381268, 6857.83842473518], \"y\": [14.5870746250629, 14.9995387986978]}, {\"line\": {\"color\": \"pink\"}, \"mode\": \"lines+markers\", \"name\": \"A\", \"type\": \"scatter\", \"x\": [6566.73512951296, 6895.78321079946], \"y\": [14.5870746250629, 14.9995387986978]}, {\"line\": {\"color\": \"pink\"}, \"mode\": \"lines+markers\", \"name\": \"G\", \"type\": \"scatter\", \"x\": [5913.70637597176, 5568.65841641501], \"y\": [14.0298136071046, 13.6532421743552]}, {\"line\": {\"color\": \"pink\"}, \"mode\": \"lines+markers\", \"name\": \"G\", \"type\": \"scatter\", \"x\": [6566.73512951296, 6221.74969013226], \"y\": [14.5870746250629, 14.2111409500917]}, {\"line\": {\"color\": \"pink\"}, \"mode\": \"lines+markers\", \"name\": \"G\", \"type\": \"scatter\", \"x\": [5222.60433681798, 5567.65583294659], \"y\": [13.2760269995213, 13.7257655914307]}, {\"line\": {\"color\": \"pink\"}, \"mode\": \"lines+markers\", \"name\": \"G\", \"type\": \"scatter\", \"x\": [5951.65170414093, 5606.60571881038], \"y\": [14.0298136071046, 13.7257655914307]}, {\"line\": {\"color\": \"pink\"}, \"mode\": \"lines+markers\", \"name\": \"G\", \"type\": \"scatter\", \"x\": [5260.55246444925, 5605.60217445463], \"y\": [13.2760269995213, 13.6532421743552]}, {\"line\": {\"color\": \"pink\"}, \"mode\": \"lines+markers\", \"name\": \"U\", \"type\": \"scatter\", \"x\": [6857.83842473518, 6551.76001204446], \"y\": [14.9995387986978, 14.5870746250629]}, {\"line\": {\"color\": \"pink\"}, \"mode\": \"lines+markers\", \"name\": \"D\", \"type\": \"scatter\", \"x\": [6528.7870381268, 6220.74569320948], \"y\": [14.5870746250629, 14.3266743099372]}, {\"line\": {\"color\": \"pink\"}, \"mode\": \"lines+markers\", \"name\": \"D\", \"type\": \"scatter\", \"x\": [6259.69385124606, 5951.65170414093], \"y\": [14.2905402179241, 14.0298136071046]}, {\"line\": {\"color\": \"pink\"}, \"mode\": \"lines+markers\", \"name\": \"D\", \"type\": \"scatter\", \"x\": [5913.70637597176, 6221.74969013226], \"y\": [14.0298136071046, 14.2111409500917]}, {\"line\": {\"color\": \"pink\"}, \"mode\": \"lines+markers\", \"name\": \"D\", \"type\": \"scatter\", \"x\": [6510.7739577104, 6202.73282492598], \"y\": [14.3266743099372, 14.0298136071046]}, {\"line\": {\"color\": \"pink\"}, \"mode\": \"lines+markers\", \"name\": \"D\", \"type\": \"scatter\", \"x\": [6221.74969013226, 6529.7883478507], \"y\": [14.2111409500917, 14.4786733007113]}],                        {\"annotations\": [{\"arrowhead\": 1, \"showarrow\": false, \"text\": \"A\", \"x\": 6693.3127314309895, \"y\": 14.793306711880351, \"yshift\": 5}, {\"arrowhead\": 1, \"showarrow\": false, \"text\": \"A\", \"x\": 6731.2591701562105, \"y\": 14.793306711880351, \"yshift\": 5}, {\"arrowhead\": 1, \"showarrow\": false, \"text\": \"G\", \"x\": 5741.182396193385, \"y\": 13.8415278907299, \"yshift\": 5}, {\"arrowhead\": 1, \"showarrow\": false, \"text\": \"G\", \"x\": 6394.24240982261, \"y\": 14.3991077875773, \"yshift\": 5}, {\"arrowhead\": 1, \"showarrow\": false, \"text\": \"G\", \"x\": 5395.130084882285, \"y\": 13.500896295476, \"yshift\": 5}, {\"arrowhead\": 1, \"showarrow\": false, \"text\": \"G\", \"x\": 5779.128711475654, \"y\": 13.87778959926765, \"yshift\": 5}, {\"arrowhead\": 1, \"showarrow\": false, \"text\": \"G\", \"x\": 5433.07731945194, \"y\": 13.46463458693825, \"yshift\": 5}, {\"arrowhead\": 1, \"showarrow\": false, \"text\": \"U\", \"x\": 6704.79921838982, \"y\": 14.793306711880351, \"yshift\": 5}, {\"arrowhead\": 1, \"showarrow\": false, \"text\": \"D\", \"x\": 6374.76636566814, \"y\": 14.45687446750005, \"yshift\": 5}, {\"arrowhead\": 1, \"showarrow\": false, \"text\": \"D\", \"x\": 6105.672777693495, \"y\": 14.16017691251435, \"yshift\": 5}, {\"arrowhead\": 1, \"showarrow\": false, \"text\": \"D\", \"x\": 6067.72803305201, \"y\": 14.12047727859815, \"yshift\": 5}, {\"arrowhead\": 1, \"showarrow\": false, \"text\": \"D\", \"x\": 6356.753391318191, \"y\": 14.1782439585209, \"yshift\": 5}, {\"arrowhead\": 1, \"showarrow\": false, \"text\": \"D\", \"x\": 6375.76901899148, \"y\": 14.3449071254015, \"yshift\": 5}], \"template\": {\"data\": {\"bar\": [{\"error_x\": {\"color\": \"#2a3f5f\"}, \"error_y\": {\"color\": \"#2a3f5f\"}, \"marker\": {\"line\": {\"color\": \"#E5ECF6\", \"width\": 0.5}}, \"type\": \"bar\"}], \"barpolar\": [{\"marker\": {\"line\": {\"color\": \"#E5ECF6\", \"width\": 0.5}}, \"type\": \"barpolar\"}], \"carpet\": [{\"aaxis\": {\"endlinecolor\": \"#2a3f5f\", \"gridcolor\": \"white\", \"linecolor\": \"white\", \"minorgridcolor\": \"white\", \"startlinecolor\": \"#2a3f5f\"}, \"baxis\": {\"endlinecolor\": \"#2a3f5f\", \"gridcolor\": \"white\", \"linecolor\": \"white\", \"minorgridcolor\": \"white\", \"startlinecolor\": \"#2a3f5f\"}, \"type\": \"carpet\"}], \"choropleth\": [{\"colorbar\": {\"outlinewidth\": 0, \"ticks\": \"\"}, \"type\": \"choropleth\"}], \"contour\": [{\"colorbar\": {\"outlinewidth\": 0, \"ticks\": \"\"}, \"colorscale\": [[0.0, \"#0d0887\"], [0.1111111111111111, \"#46039f\"], [0.2222222222222222, \"#7201a8\"], [0.3333333333333333, \"#9c179e\"], [0.4444444444444444, \"#bd3786\"], [0.5555555555555556, \"#d8576b\"], [0.6666666666666666, \"#ed7953\"], [0.7777777777777778, \"#fb9f3a\"], [0.8888888888888888, \"#fdca26\"], [1.0, \"#f0f921\"]], \"type\": \"contour\"}], \"contourcarpet\": [{\"colorbar\": {\"outlinewidth\": 0, \"ticks\": \"\"}, \"type\": \"contourcarpet\"}], \"heatmap\": [{\"colorbar\": {\"outlinewidth\": 0, \"ticks\": \"\"}, \"colorscale\": [[0.0, \"#0d0887\"], [0.1111111111111111, \"#46039f\"], [0.2222222222222222, \"#7201a8\"], [0.3333333333333333, \"#9c179e\"], [0.4444444444444444, \"#bd3786\"], [0.5555555555555556, \"#d8576b\"], [0.6666666666666666, \"#ed7953\"], [0.7777777777777778, \"#fb9f3a\"], [0.8888888888888888, \"#fdca26\"], [1.0, \"#f0f921\"]], \"type\": \"heatmap\"}], \"heatmapgl\": [{\"colorbar\": {\"outlinewidth\": 0, \"ticks\": \"\"}, \"colorscale\": [[0.0, \"#0d0887\"], [0.1111111111111111, \"#46039f\"], [0.2222222222222222, \"#7201a8\"], [0.3333333333333333, \"#9c179e\"], [0.4444444444444444, \"#bd3786\"], [0.5555555555555556, \"#d8576b\"], [0.6666666666666666, \"#ed7953\"], [0.7777777777777778, \"#fb9f3a\"], [0.8888888888888888, \"#fdca26\"], [1.0, \"#f0f921\"]], \"type\": \"heatmapgl\"}], \"histogram\": [{\"marker\": {\"colorbar\": {\"outlinewidth\": 0, \"ticks\": \"\"}}, \"type\": \"histogram\"}], \"histogram2d\": [{\"colorbar\": {\"outlinewidth\": 0, \"ticks\": \"\"}, \"colorscale\": [[0.0, \"#0d0887\"], [0.1111111111111111, \"#46039f\"], [0.2222222222222222, \"#7201a8\"], [0.3333333333333333, \"#9c179e\"], [0.4444444444444444, \"#bd3786\"], [0.5555555555555556, \"#d8576b\"], [0.6666666666666666, \"#ed7953\"], [0.7777777777777778, \"#fb9f3a\"], [0.8888888888888888, \"#fdca26\"], [1.0, \"#f0f921\"]], \"type\": \"histogram2d\"}], \"histogram2dcontour\": [{\"colorbar\": {\"outlinewidth\": 0, \"ticks\": \"\"}, \"colorscale\": [[0.0, \"#0d0887\"], [0.1111111111111111, \"#46039f\"], [0.2222222222222222, \"#7201a8\"], [0.3333333333333333, \"#9c179e\"], [0.4444444444444444, \"#bd3786\"], [0.5555555555555556, \"#d8576b\"], [0.6666666666666666, \"#ed7953\"], [0.7777777777777778, \"#fb9f3a\"], [0.8888888888888888, \"#fdca26\"], [1.0, \"#f0f921\"]], \"type\": \"histogram2dcontour\"}], \"mesh3d\": [{\"colorbar\": {\"outlinewidth\": 0, \"ticks\": \"\"}, \"type\": \"mesh3d\"}], \"parcoords\": [{\"line\": {\"colorbar\": {\"outlinewidth\": 0, \"ticks\": \"\"}}, \"type\": \"parcoords\"}], \"pie\": [{\"automargin\": true, \"type\": \"pie\"}], \"scatter\": [{\"marker\": {\"colorbar\": {\"outlinewidth\": 0, \"ticks\": \"\"}}, \"type\": \"scatter\"}], \"scatter3d\": [{\"line\": {\"colorbar\": {\"outlinewidth\": 0, \"ticks\": \"\"}}, \"marker\": {\"colorbar\": {\"outlinewidth\": 0, \"ticks\": \"\"}}, \"type\": \"scatter3d\"}], \"scattercarpet\": [{\"marker\": {\"colorbar\": {\"outlinewidth\": 0, \"ticks\": \"\"}}, \"type\": \"scattercarpet\"}], \"scattergeo\": [{\"marker\": {\"colorbar\": {\"outlinewidth\": 0, \"ticks\": \"\"}}, \"type\": \"scattergeo\"}], \"scattergl\": [{\"marker\": {\"colorbar\": {\"outlinewidth\": 0, \"ticks\": \"\"}}, \"type\": \"scattergl\"}], \"scattermapbox\": [{\"marker\": {\"colorbar\": {\"outlinewidth\": 0, \"ticks\": \"\"}}, \"type\": \"scattermapbox\"}], \"scatterpolar\": [{\"marker\": {\"colorbar\": {\"outlinewidth\": 0, \"ticks\": \"\"}}, \"type\": \"scatterpolar\"}], \"scatterpolargl\": [{\"marker\": {\"colorbar\": {\"outlinewidth\": 0, \"ticks\": \"\"}}, \"type\": \"scatterpolargl\"}], \"scatterternary\": [{\"marker\": {\"colorbar\": {\"outlinewidth\": 0, \"ticks\": \"\"}}, \"type\": \"scatterternary\"}], \"surface\": [{\"colorbar\": {\"outlinewidth\": 0, \"ticks\": \"\"}, \"colorscale\": [[0.0, \"#0d0887\"], [0.1111111111111111, \"#46039f\"], [0.2222222222222222, \"#7201a8\"], [0.3333333333333333, \"#9c179e\"], [0.4444444444444444, \"#bd3786\"], [0.5555555555555556, \"#d8576b\"], [0.6666666666666666, \"#ed7953\"], [0.7777777777777778, \"#fb9f3a\"], [0.8888888888888888, \"#fdca26\"], [1.0, \"#f0f921\"]], \"type\": \"surface\"}], \"table\": [{\"cells\": {\"fill\": {\"color\": \"#EBF0F8\"}, \"line\": {\"color\": \"white\"}}, \"header\": {\"fill\": {\"color\": \"#C8D4E3\"}, \"line\": {\"color\": \"white\"}}, \"type\": \"table\"}]}, \"layout\": {\"annotationdefaults\": {\"arrowcolor\": \"#2a3f5f\", \"arrowhead\": 0, \"arrowwidth\": 1}, \"autotypenumbers\": \"strict\", \"coloraxis\": {\"colorbar\": {\"outlinewidth\": 0, \"ticks\": \"\"}}, \"colorscale\": {\"diverging\": [[0, \"#8e0152\"], [0.1, \"#c51b7d\"], [0.2, \"#de77ae\"], [0.3, \"#f1b6da\"], [0.4, \"#fde0ef\"], [0.5, \"#f7f7f7\"], [0.6, \"#e6f5d0\"], [0.7, \"#b8e186\"], [0.8, \"#7fbc41\"], [0.9, \"#4d9221\"], [1, \"#276419\"]], \"sequential\": [[0.0, \"#0d0887\"], [0.1111111111111111, \"#46039f\"], [0.2222222222222222, \"#7201a8\"], [0.3333333333333333, \"#9c179e\"], [0.4444444444444444, \"#bd3786\"], [0.5555555555555556, \"#d8576b\"], [0.6666666666666666, \"#ed7953\"], [0.7777777777777778, \"#fb9f3a\"], [0.8888888888888888, \"#fdca26\"], [1.0, \"#f0f921\"]], \"sequentialminus\": [[0.0, \"#0d0887\"], [0.1111111111111111, \"#46039f\"], [0.2222222222222222, \"#7201a8\"], [0.3333333333333333, \"#9c179e\"], [0.4444444444444444, \"#bd3786\"], [0.5555555555555556, \"#d8576b\"], [0.6666666666666666, \"#ed7953\"], [0.7777777777777778, \"#fb9f3a\"], [0.8888888888888888, \"#fdca26\"], [1.0, \"#f0f921\"]]}, \"colorway\": [\"#636efa\", \"#EF553B\", \"#00cc96\", \"#ab63fa\", \"#FFA15A\", \"#19d3f3\", \"#FF6692\", \"#B6E880\", \"#FF97FF\", \"#FECB52\"], \"font\": {\"color\": \"#2a3f5f\"}, \"geo\": {\"bgcolor\": \"white\", \"lakecolor\": \"white\", \"landcolor\": \"#E5ECF6\", \"showlakes\": true, \"showland\": true, \"subunitcolor\": \"white\"}, \"hoverlabel\": {\"align\": \"left\"}, \"hovermode\": \"closest\", \"mapbox\": {\"style\": \"light\"}, \"paper_bgcolor\": \"white\", \"plot_bgcolor\": \"#E5ECF6\", \"polar\": {\"angularaxis\": {\"gridcolor\": \"white\", \"linecolor\": \"white\", \"ticks\": \"\"}, \"bgcolor\": \"#E5ECF6\", \"radialaxis\": {\"gridcolor\": \"white\", \"linecolor\": \"white\", \"ticks\": \"\"}}, \"scene\": {\"xaxis\": {\"backgroundcolor\": \"#E5ECF6\", \"gridcolor\": \"white\", \"gridwidth\": 2, \"linecolor\": \"white\", \"showbackground\": true, \"ticks\": \"\", \"zerolinecolor\": \"white\"}, \"yaxis\": {\"backgroundcolor\": \"#E5ECF6\", \"gridcolor\": \"white\", \"gridwidth\": 2, \"linecolor\": \"white\", \"showbackground\": true, \"ticks\": \"\", \"zerolinecolor\": \"white\"}, \"zaxis\": {\"backgroundcolor\": \"#E5ECF6\", \"gridcolor\": \"white\", \"gridwidth\": 2, \"linecolor\": \"white\", \"showbackground\": true, \"ticks\": \"\", \"zerolinecolor\": \"white\"}}, \"shapedefaults\": {\"line\": {\"color\": \"#2a3f5f\"}}, \"ternary\": {\"aaxis\": {\"gridcolor\": \"white\", \"linecolor\": \"white\", \"ticks\": \"\"}, \"baxis\": {\"gridcolor\": \"white\", \"linecolor\": \"white\", \"ticks\": \"\"}, \"bgcolor\": \"#E5ECF6\", \"caxis\": {\"gridcolor\": \"white\", \"linecolor\": \"white\", \"ticks\": \"\"}}, \"title\": {\"x\": 0.05}, \"xaxis\": {\"automargin\": true, \"gridcolor\": \"white\", \"linecolor\": \"white\", \"ticks\": \"\", \"title\": {\"standoff\": 15}, \"zerolinecolor\": \"white\", \"zerolinewidth\": 2}, \"yaxis\": {\"automargin\": true, \"gridcolor\": \"white\", \"linecolor\": \"white\", \"ticks\": \"\", \"title\": {\"standoff\": 15}, \"zerolinecolor\": \"white\", \"zerolinewidth\": 2}}}},                        {\"responsive\": true}                    ).then(function(){\n",
       "                            \n",
       "var gd = document.getElementById('379f9b37-7ba5-41a0-bb35-62f7f6c0f410');\n",
       "var x = new MutationObserver(function (mutations, observer) {{\n",
       "        var display = window.getComputedStyle(gd).display;\n",
       "        if (!display || display === 'none') {{\n",
       "            console.log([gd, 'removed!']);\n",
       "            Plotly.purge(gd);\n",
       "            observer.disconnect();\n",
       "        }}\n",
       "}});\n",
       "\n",
       "// Listen for the removal of the full notebook cells\n",
       "var notebookContainer = gd.closest('#notebook-container');\n",
       "if (notebookContainer) {{\n",
       "    x.observe(notebookContainer, {childList: true});\n",
       "}}\n",
       "\n",
       "// Listen for the clearing of the current output cell\n",
       "var outputEl = gd.closest('.output');\n",
       "if (outputEl) {{\n",
       "    x.observe(outputEl, {childList: true});\n",
       "}}\n",
       "\n",
       "                        })                };                });            </script>        </div>"
      ]
     },
     "metadata": {},
     "output_type": "display_data"
    },
    {
     "data": {
      "application/vnd.plotly.v1+json": {
       "config": {
        "plotlyServerURL": "https://plot.ly"
       },
       "data": [
        {
         "hovertemplate": "Mass=%{x}<br>RT=%{y}<extra></extra>",
         "legendgroup": "",
         "marker": {
          "color": "#636efa",
          "symbol": "circle"
         },
         "mode": "markers",
         "name": "",
         "orientation": "v",
         "showlegend": false,
         "type": "scatter",
         "x": [
          5222.60433681798,
          6528.7870381268,
          6857.83842473518,
          5913.70637597176,
          6566.73512951296,
          6220.74569320948,
          5260.55246444925,
          5568.65841641501,
          6259.69385124606,
          5567.65583294659,
          6895.78321079946,
          5951.65170414093,
          6221.74969013226,
          5605.60217445463,
          6510.7739577104,
          6529.7883478507,
          6551.76001204446,
          6202.73282492598,
          5606.60571881038
         ],
         "xaxis": "x",
         "y": [
          13.2760269995213,
          14.5870746250629,
          14.9995387986978,
          14.0298136071046,
          14.5870746250629,
          14.3266743099372,
          13.2760269995213,
          13.6532421743552,
          14.2905402179241,
          13.7257655914307,
          14.9995387986978,
          14.0298136071046,
          14.2111409500917,
          13.6532421743552,
          14.3266743099372,
          14.4786733007113,
          14.5870746250629,
          14.0298136071046,
          13.7257655914307
         ],
         "yaxis": "y"
        }
       ],
       "layout": {
        "legend": {
         "tracegroupgap": 0
        },
        "margin": {
         "t": 60
        },
        "template": {
         "data": {
          "bar": [
           {
            "error_x": {
             "color": "#2a3f5f"
            },
            "error_y": {
             "color": "#2a3f5f"
            },
            "marker": {
             "line": {
              "color": "#E5ECF6",
              "width": 0.5
             }
            },
            "type": "bar"
           }
          ],
          "barpolar": [
           {
            "marker": {
             "line": {
              "color": "#E5ECF6",
              "width": 0.5
             }
            },
            "type": "barpolar"
           }
          ],
          "carpet": [
           {
            "aaxis": {
             "endlinecolor": "#2a3f5f",
             "gridcolor": "white",
             "linecolor": "white",
             "minorgridcolor": "white",
             "startlinecolor": "#2a3f5f"
            },
            "baxis": {
             "endlinecolor": "#2a3f5f",
             "gridcolor": "white",
             "linecolor": "white",
             "minorgridcolor": "white",
             "startlinecolor": "#2a3f5f"
            },
            "type": "carpet"
           }
          ],
          "choropleth": [
           {
            "colorbar": {
             "outlinewidth": 0,
             "ticks": ""
            },
            "type": "choropleth"
           }
          ],
          "contour": [
           {
            "colorbar": {
             "outlinewidth": 0,
             "ticks": ""
            },
            "colorscale": [
             [
              0,
              "#0d0887"
             ],
             [
              0.1111111111111111,
              "#46039f"
             ],
             [
              0.2222222222222222,
              "#7201a8"
             ],
             [
              0.3333333333333333,
              "#9c179e"
             ],
             [
              0.4444444444444444,
              "#bd3786"
             ],
             [
              0.5555555555555556,
              "#d8576b"
             ],
             [
              0.6666666666666666,
              "#ed7953"
             ],
             [
              0.7777777777777778,
              "#fb9f3a"
             ],
             [
              0.8888888888888888,
              "#fdca26"
             ],
             [
              1,
              "#f0f921"
             ]
            ],
            "type": "contour"
           }
          ],
          "contourcarpet": [
           {
            "colorbar": {
             "outlinewidth": 0,
             "ticks": ""
            },
            "type": "contourcarpet"
           }
          ],
          "heatmap": [
           {
            "colorbar": {
             "outlinewidth": 0,
             "ticks": ""
            },
            "colorscale": [
             [
              0,
              "#0d0887"
             ],
             [
              0.1111111111111111,
              "#46039f"
             ],
             [
              0.2222222222222222,
              "#7201a8"
             ],
             [
              0.3333333333333333,
              "#9c179e"
             ],
             [
              0.4444444444444444,
              "#bd3786"
             ],
             [
              0.5555555555555556,
              "#d8576b"
             ],
             [
              0.6666666666666666,
              "#ed7953"
             ],
             [
              0.7777777777777778,
              "#fb9f3a"
             ],
             [
              0.8888888888888888,
              "#fdca26"
             ],
             [
              1,
              "#f0f921"
             ]
            ],
            "type": "heatmap"
           }
          ],
          "heatmapgl": [
           {
            "colorbar": {
             "outlinewidth": 0,
             "ticks": ""
            },
            "colorscale": [
             [
              0,
              "#0d0887"
             ],
             [
              0.1111111111111111,
              "#46039f"
             ],
             [
              0.2222222222222222,
              "#7201a8"
             ],
             [
              0.3333333333333333,
              "#9c179e"
             ],
             [
              0.4444444444444444,
              "#bd3786"
             ],
             [
              0.5555555555555556,
              "#d8576b"
             ],
             [
              0.6666666666666666,
              "#ed7953"
             ],
             [
              0.7777777777777778,
              "#fb9f3a"
             ],
             [
              0.8888888888888888,
              "#fdca26"
             ],
             [
              1,
              "#f0f921"
             ]
            ],
            "type": "heatmapgl"
           }
          ],
          "histogram": [
           {
            "marker": {
             "colorbar": {
              "outlinewidth": 0,
              "ticks": ""
             }
            },
            "type": "histogram"
           }
          ],
          "histogram2d": [
           {
            "colorbar": {
             "outlinewidth": 0,
             "ticks": ""
            },
            "colorscale": [
             [
              0,
              "#0d0887"
             ],
             [
              0.1111111111111111,
              "#46039f"
             ],
             [
              0.2222222222222222,
              "#7201a8"
             ],
             [
              0.3333333333333333,
              "#9c179e"
             ],
             [
              0.4444444444444444,
              "#bd3786"
             ],
             [
              0.5555555555555556,
              "#d8576b"
             ],
             [
              0.6666666666666666,
              "#ed7953"
             ],
             [
              0.7777777777777778,
              "#fb9f3a"
             ],
             [
              0.8888888888888888,
              "#fdca26"
             ],
             [
              1,
              "#f0f921"
             ]
            ],
            "type": "histogram2d"
           }
          ],
          "histogram2dcontour": [
           {
            "colorbar": {
             "outlinewidth": 0,
             "ticks": ""
            },
            "colorscale": [
             [
              0,
              "#0d0887"
             ],
             [
              0.1111111111111111,
              "#46039f"
             ],
             [
              0.2222222222222222,
              "#7201a8"
             ],
             [
              0.3333333333333333,
              "#9c179e"
             ],
             [
              0.4444444444444444,
              "#bd3786"
             ],
             [
              0.5555555555555556,
              "#d8576b"
             ],
             [
              0.6666666666666666,
              "#ed7953"
             ],
             [
              0.7777777777777778,
              "#fb9f3a"
             ],
             [
              0.8888888888888888,
              "#fdca26"
             ],
             [
              1,
              "#f0f921"
             ]
            ],
            "type": "histogram2dcontour"
           }
          ],
          "mesh3d": [
           {
            "colorbar": {
             "outlinewidth": 0,
             "ticks": ""
            },
            "type": "mesh3d"
           }
          ],
          "parcoords": [
           {
            "line": {
             "colorbar": {
              "outlinewidth": 0,
              "ticks": ""
             }
            },
            "type": "parcoords"
           }
          ],
          "pie": [
           {
            "automargin": true,
            "type": "pie"
           }
          ],
          "scatter": [
           {
            "marker": {
             "colorbar": {
              "outlinewidth": 0,
              "ticks": ""
             }
            },
            "type": "scatter"
           }
          ],
          "scatter3d": [
           {
            "line": {
             "colorbar": {
              "outlinewidth": 0,
              "ticks": ""
             }
            },
            "marker": {
             "colorbar": {
              "outlinewidth": 0,
              "ticks": ""
             }
            },
            "type": "scatter3d"
           }
          ],
          "scattercarpet": [
           {
            "marker": {
             "colorbar": {
              "outlinewidth": 0,
              "ticks": ""
             }
            },
            "type": "scattercarpet"
           }
          ],
          "scattergeo": [
           {
            "marker": {
             "colorbar": {
              "outlinewidth": 0,
              "ticks": ""
             }
            },
            "type": "scattergeo"
           }
          ],
          "scattergl": [
           {
            "marker": {
             "colorbar": {
              "outlinewidth": 0,
              "ticks": ""
             }
            },
            "type": "scattergl"
           }
          ],
          "scattermapbox": [
           {
            "marker": {
             "colorbar": {
              "outlinewidth": 0,
              "ticks": ""
             }
            },
            "type": "scattermapbox"
           }
          ],
          "scatterpolar": [
           {
            "marker": {
             "colorbar": {
              "outlinewidth": 0,
              "ticks": ""
             }
            },
            "type": "scatterpolar"
           }
          ],
          "scatterpolargl": [
           {
            "marker": {
             "colorbar": {
              "outlinewidth": 0,
              "ticks": ""
             }
            },
            "type": "scatterpolargl"
           }
          ],
          "scatterternary": [
           {
            "marker": {
             "colorbar": {
              "outlinewidth": 0,
              "ticks": ""
             }
            },
            "type": "scatterternary"
           }
          ],
          "surface": [
           {
            "colorbar": {
             "outlinewidth": 0,
             "ticks": ""
            },
            "colorscale": [
             [
              0,
              "#0d0887"
             ],
             [
              0.1111111111111111,
              "#46039f"
             ],
             [
              0.2222222222222222,
              "#7201a8"
             ],
             [
              0.3333333333333333,
              "#9c179e"
             ],
             [
              0.4444444444444444,
              "#bd3786"
             ],
             [
              0.5555555555555556,
              "#d8576b"
             ],
             [
              0.6666666666666666,
              "#ed7953"
             ],
             [
              0.7777777777777778,
              "#fb9f3a"
             ],
             [
              0.8888888888888888,
              "#fdca26"
             ],
             [
              1,
              "#f0f921"
             ]
            ],
            "type": "surface"
           }
          ],
          "table": [
           {
            "cells": {
             "fill": {
              "color": "#EBF0F8"
             },
             "line": {
              "color": "white"
             }
            },
            "header": {
             "fill": {
              "color": "#C8D4E3"
             },
             "line": {
              "color": "white"
             }
            },
            "type": "table"
           }
          ]
         },
         "layout": {
          "annotationdefaults": {
           "arrowcolor": "#2a3f5f",
           "arrowhead": 0,
           "arrowwidth": 1
          },
          "autotypenumbers": "strict",
          "coloraxis": {
           "colorbar": {
            "outlinewidth": 0,
            "ticks": ""
           }
          },
          "colorscale": {
           "diverging": [
            [
             0,
             "#8e0152"
            ],
            [
             0.1,
             "#c51b7d"
            ],
            [
             0.2,
             "#de77ae"
            ],
            [
             0.3,
             "#f1b6da"
            ],
            [
             0.4,
             "#fde0ef"
            ],
            [
             0.5,
             "#f7f7f7"
            ],
            [
             0.6,
             "#e6f5d0"
            ],
            [
             0.7,
             "#b8e186"
            ],
            [
             0.8,
             "#7fbc41"
            ],
            [
             0.9,
             "#4d9221"
            ],
            [
             1,
             "#276419"
            ]
           ],
           "sequential": [
            [
             0,
             "#0d0887"
            ],
            [
             0.1111111111111111,
             "#46039f"
            ],
            [
             0.2222222222222222,
             "#7201a8"
            ],
            [
             0.3333333333333333,
             "#9c179e"
            ],
            [
             0.4444444444444444,
             "#bd3786"
            ],
            [
             0.5555555555555556,
             "#d8576b"
            ],
            [
             0.6666666666666666,
             "#ed7953"
            ],
            [
             0.7777777777777778,
             "#fb9f3a"
            ],
            [
             0.8888888888888888,
             "#fdca26"
            ],
            [
             1,
             "#f0f921"
            ]
           ],
           "sequentialminus": [
            [
             0,
             "#0d0887"
            ],
            [
             0.1111111111111111,
             "#46039f"
            ],
            [
             0.2222222222222222,
             "#7201a8"
            ],
            [
             0.3333333333333333,
             "#9c179e"
            ],
            [
             0.4444444444444444,
             "#bd3786"
            ],
            [
             0.5555555555555556,
             "#d8576b"
            ],
            [
             0.6666666666666666,
             "#ed7953"
            ],
            [
             0.7777777777777778,
             "#fb9f3a"
            ],
            [
             0.8888888888888888,
             "#fdca26"
            ],
            [
             1,
             "#f0f921"
            ]
           ]
          },
          "colorway": [
           "#636efa",
           "#EF553B",
           "#00cc96",
           "#ab63fa",
           "#FFA15A",
           "#19d3f3",
           "#FF6692",
           "#B6E880",
           "#FF97FF",
           "#FECB52"
          ],
          "font": {
           "color": "#2a3f5f"
          },
          "geo": {
           "bgcolor": "white",
           "lakecolor": "white",
           "landcolor": "#E5ECF6",
           "showlakes": true,
           "showland": true,
           "subunitcolor": "white"
          },
          "hoverlabel": {
           "align": "left"
          },
          "hovermode": "closest",
          "mapbox": {
           "style": "light"
          },
          "paper_bgcolor": "white",
          "plot_bgcolor": "#E5ECF6",
          "polar": {
           "angularaxis": {
            "gridcolor": "white",
            "linecolor": "white",
            "ticks": ""
           },
           "bgcolor": "#E5ECF6",
           "radialaxis": {
            "gridcolor": "white",
            "linecolor": "white",
            "ticks": ""
           }
          },
          "scene": {
           "xaxis": {
            "backgroundcolor": "#E5ECF6",
            "gridcolor": "white",
            "gridwidth": 2,
            "linecolor": "white",
            "showbackground": true,
            "ticks": "",
            "zerolinecolor": "white"
           },
           "yaxis": {
            "backgroundcolor": "#E5ECF6",
            "gridcolor": "white",
            "gridwidth": 2,
            "linecolor": "white",
            "showbackground": true,
            "ticks": "",
            "zerolinecolor": "white"
           },
           "zaxis": {
            "backgroundcolor": "#E5ECF6",
            "gridcolor": "white",
            "gridwidth": 2,
            "linecolor": "white",
            "showbackground": true,
            "ticks": "",
            "zerolinecolor": "white"
           }
          },
          "shapedefaults": {
           "line": {
            "color": "#2a3f5f"
           }
          },
          "ternary": {
           "aaxis": {
            "gridcolor": "white",
            "linecolor": "white",
            "ticks": ""
           },
           "baxis": {
            "gridcolor": "white",
            "linecolor": "white",
            "ticks": ""
           },
           "bgcolor": "#E5ECF6",
           "caxis": {
            "gridcolor": "white",
            "linecolor": "white",
            "ticks": ""
           }
          },
          "title": {
           "x": 0.05
          },
          "xaxis": {
           "automargin": true,
           "gridcolor": "white",
           "linecolor": "white",
           "ticks": "",
           "title": {
            "standoff": 15
           },
           "zerolinecolor": "white",
           "zerolinewidth": 2
          },
          "yaxis": {
           "automargin": true,
           "gridcolor": "white",
           "linecolor": "white",
           "ticks": "",
           "title": {
            "standoff": 15
           },
           "zerolinecolor": "white",
           "zerolinewidth": 2
          }
         }
        },
        "xaxis": {
         "anchor": "y",
         "domain": [
          0,
          1
         ],
         "title": {
          "text": "Mass"
         }
        },
        "yaxis": {
         "anchor": "x",
         "domain": [
          0,
          1
         ],
         "title": {
          "text": "RT"
         }
        }
       }
      },
      "text/html": [
       "<div>                            <div id=\"bb799d3d-7dc0-438b-a793-6c9511d9f178\" class=\"plotly-graph-div\" style=\"height:525px; width:100%;\"></div>            <script type=\"text/javascript\">                require([\"plotly\"], function(Plotly) {                    window.PLOTLYENV=window.PLOTLYENV || {};                                    if (document.getElementById(\"bb799d3d-7dc0-438b-a793-6c9511d9f178\")) {                    Plotly.newPlot(                        \"bb799d3d-7dc0-438b-a793-6c9511d9f178\",                        [{\"hovertemplate\": \"Mass=%{x}<br>RT=%{y}<extra></extra>\", \"legendgroup\": \"\", \"marker\": {\"color\": \"#636efa\", \"symbol\": \"circle\"}, \"mode\": \"markers\", \"name\": \"\", \"orientation\": \"v\", \"showlegend\": false, \"type\": \"scatter\", \"x\": [5222.60433681798, 6528.7870381268, 6857.83842473518, 5913.70637597176, 6566.73512951296, 6220.74569320948, 5260.55246444925, 5568.65841641501, 6259.69385124606, 5567.65583294659, 6895.78321079946, 5951.65170414093, 6221.74969013226, 5605.60217445463, 6510.7739577104, 6529.7883478507, 6551.76001204446, 6202.73282492598, 5606.60571881038], \"xaxis\": \"x\", \"y\": [13.2760269995213, 14.5870746250629, 14.9995387986978, 14.0298136071046, 14.5870746250629, 14.3266743099372, 13.2760269995213, 13.6532421743552, 14.2905402179241, 13.7257655914307, 14.9995387986978, 14.0298136071046, 14.2111409500917, 13.6532421743552, 14.3266743099372, 14.4786733007113, 14.5870746250629, 14.0298136071046, 13.7257655914307], \"yaxis\": \"y\"}],                        {\"legend\": {\"tracegroupgap\": 0}, \"margin\": {\"t\": 60}, \"template\": {\"data\": {\"bar\": [{\"error_x\": {\"color\": \"#2a3f5f\"}, \"error_y\": {\"color\": \"#2a3f5f\"}, \"marker\": {\"line\": {\"color\": \"#E5ECF6\", \"width\": 0.5}}, \"type\": \"bar\"}], \"barpolar\": [{\"marker\": {\"line\": {\"color\": \"#E5ECF6\", \"width\": 0.5}}, \"type\": \"barpolar\"}], \"carpet\": [{\"aaxis\": {\"endlinecolor\": \"#2a3f5f\", \"gridcolor\": \"white\", \"linecolor\": \"white\", \"minorgridcolor\": \"white\", \"startlinecolor\": \"#2a3f5f\"}, \"baxis\": {\"endlinecolor\": \"#2a3f5f\", \"gridcolor\": \"white\", \"linecolor\": \"white\", \"minorgridcolor\": \"white\", \"startlinecolor\": \"#2a3f5f\"}, \"type\": \"carpet\"}], \"choropleth\": [{\"colorbar\": {\"outlinewidth\": 0, \"ticks\": \"\"}, \"type\": \"choropleth\"}], \"contour\": [{\"colorbar\": {\"outlinewidth\": 0, \"ticks\": \"\"}, \"colorscale\": [[0.0, \"#0d0887\"], [0.1111111111111111, \"#46039f\"], [0.2222222222222222, \"#7201a8\"], [0.3333333333333333, \"#9c179e\"], [0.4444444444444444, \"#bd3786\"], [0.5555555555555556, \"#d8576b\"], [0.6666666666666666, \"#ed7953\"], [0.7777777777777778, \"#fb9f3a\"], [0.8888888888888888, \"#fdca26\"], [1.0, \"#f0f921\"]], \"type\": \"contour\"}], \"contourcarpet\": [{\"colorbar\": {\"outlinewidth\": 0, \"ticks\": \"\"}, \"type\": \"contourcarpet\"}], \"heatmap\": [{\"colorbar\": {\"outlinewidth\": 0, \"ticks\": \"\"}, \"colorscale\": [[0.0, \"#0d0887\"], [0.1111111111111111, \"#46039f\"], [0.2222222222222222, \"#7201a8\"], [0.3333333333333333, \"#9c179e\"], [0.4444444444444444, \"#bd3786\"], [0.5555555555555556, \"#d8576b\"], [0.6666666666666666, \"#ed7953\"], [0.7777777777777778, \"#fb9f3a\"], [0.8888888888888888, \"#fdca26\"], [1.0, \"#f0f921\"]], \"type\": \"heatmap\"}], \"heatmapgl\": [{\"colorbar\": {\"outlinewidth\": 0, \"ticks\": \"\"}, \"colorscale\": [[0.0, \"#0d0887\"], [0.1111111111111111, \"#46039f\"], [0.2222222222222222, \"#7201a8\"], [0.3333333333333333, \"#9c179e\"], [0.4444444444444444, \"#bd3786\"], [0.5555555555555556, \"#d8576b\"], [0.6666666666666666, \"#ed7953\"], [0.7777777777777778, \"#fb9f3a\"], [0.8888888888888888, \"#fdca26\"], [1.0, \"#f0f921\"]], \"type\": \"heatmapgl\"}], \"histogram\": [{\"marker\": {\"colorbar\": {\"outlinewidth\": 0, \"ticks\": \"\"}}, \"type\": \"histogram\"}], \"histogram2d\": [{\"colorbar\": {\"outlinewidth\": 0, \"ticks\": \"\"}, \"colorscale\": [[0.0, \"#0d0887\"], [0.1111111111111111, \"#46039f\"], [0.2222222222222222, \"#7201a8\"], [0.3333333333333333, \"#9c179e\"], [0.4444444444444444, \"#bd3786\"], [0.5555555555555556, \"#d8576b\"], [0.6666666666666666, \"#ed7953\"], [0.7777777777777778, \"#fb9f3a\"], [0.8888888888888888, \"#fdca26\"], [1.0, \"#f0f921\"]], \"type\": \"histogram2d\"}], \"histogram2dcontour\": [{\"colorbar\": {\"outlinewidth\": 0, \"ticks\": \"\"}, \"colorscale\": [[0.0, \"#0d0887\"], [0.1111111111111111, \"#46039f\"], [0.2222222222222222, \"#7201a8\"], [0.3333333333333333, \"#9c179e\"], [0.4444444444444444, \"#bd3786\"], [0.5555555555555556, \"#d8576b\"], [0.6666666666666666, \"#ed7953\"], [0.7777777777777778, \"#fb9f3a\"], [0.8888888888888888, \"#fdca26\"], [1.0, \"#f0f921\"]], \"type\": \"histogram2dcontour\"}], \"mesh3d\": [{\"colorbar\": {\"outlinewidth\": 0, \"ticks\": \"\"}, \"type\": \"mesh3d\"}], \"parcoords\": [{\"line\": {\"colorbar\": {\"outlinewidth\": 0, \"ticks\": \"\"}}, \"type\": \"parcoords\"}], \"pie\": [{\"automargin\": true, \"type\": \"pie\"}], \"scatter\": [{\"marker\": {\"colorbar\": {\"outlinewidth\": 0, \"ticks\": \"\"}}, \"type\": \"scatter\"}], \"scatter3d\": [{\"line\": {\"colorbar\": {\"outlinewidth\": 0, \"ticks\": \"\"}}, \"marker\": {\"colorbar\": {\"outlinewidth\": 0, \"ticks\": \"\"}}, \"type\": \"scatter3d\"}], \"scattercarpet\": [{\"marker\": {\"colorbar\": {\"outlinewidth\": 0, \"ticks\": \"\"}}, \"type\": \"scattercarpet\"}], \"scattergeo\": [{\"marker\": {\"colorbar\": {\"outlinewidth\": 0, \"ticks\": \"\"}}, \"type\": \"scattergeo\"}], \"scattergl\": [{\"marker\": {\"colorbar\": {\"outlinewidth\": 0, \"ticks\": \"\"}}, \"type\": \"scattergl\"}], \"scattermapbox\": [{\"marker\": {\"colorbar\": {\"outlinewidth\": 0, \"ticks\": \"\"}}, \"type\": \"scattermapbox\"}], \"scatterpolar\": [{\"marker\": {\"colorbar\": {\"outlinewidth\": 0, \"ticks\": \"\"}}, \"type\": \"scatterpolar\"}], \"scatterpolargl\": [{\"marker\": {\"colorbar\": {\"outlinewidth\": 0, \"ticks\": \"\"}}, \"type\": \"scatterpolargl\"}], \"scatterternary\": [{\"marker\": {\"colorbar\": {\"outlinewidth\": 0, \"ticks\": \"\"}}, \"type\": \"scatterternary\"}], \"surface\": [{\"colorbar\": {\"outlinewidth\": 0, \"ticks\": \"\"}, \"colorscale\": [[0.0, \"#0d0887\"], [0.1111111111111111, \"#46039f\"], [0.2222222222222222, \"#7201a8\"], [0.3333333333333333, \"#9c179e\"], [0.4444444444444444, \"#bd3786\"], [0.5555555555555556, \"#d8576b\"], [0.6666666666666666, \"#ed7953\"], [0.7777777777777778, \"#fb9f3a\"], [0.8888888888888888, \"#fdca26\"], [1.0, \"#f0f921\"]], \"type\": \"surface\"}], \"table\": [{\"cells\": {\"fill\": {\"color\": \"#EBF0F8\"}, \"line\": {\"color\": \"white\"}}, \"header\": {\"fill\": {\"color\": \"#C8D4E3\"}, \"line\": {\"color\": \"white\"}}, \"type\": \"table\"}]}, \"layout\": {\"annotationdefaults\": {\"arrowcolor\": \"#2a3f5f\", \"arrowhead\": 0, \"arrowwidth\": 1}, \"autotypenumbers\": \"strict\", \"coloraxis\": {\"colorbar\": {\"outlinewidth\": 0, \"ticks\": \"\"}}, \"colorscale\": {\"diverging\": [[0, \"#8e0152\"], [0.1, \"#c51b7d\"], [0.2, \"#de77ae\"], [0.3, \"#f1b6da\"], [0.4, \"#fde0ef\"], [0.5, \"#f7f7f7\"], [0.6, \"#e6f5d0\"], [0.7, \"#b8e186\"], [0.8, \"#7fbc41\"], [0.9, \"#4d9221\"], [1, \"#276419\"]], \"sequential\": [[0.0, \"#0d0887\"], [0.1111111111111111, \"#46039f\"], [0.2222222222222222, \"#7201a8\"], [0.3333333333333333, \"#9c179e\"], [0.4444444444444444, \"#bd3786\"], [0.5555555555555556, \"#d8576b\"], [0.6666666666666666, \"#ed7953\"], [0.7777777777777778, \"#fb9f3a\"], [0.8888888888888888, \"#fdca26\"], [1.0, \"#f0f921\"]], \"sequentialminus\": [[0.0, \"#0d0887\"], [0.1111111111111111, \"#46039f\"], [0.2222222222222222, \"#7201a8\"], [0.3333333333333333, \"#9c179e\"], [0.4444444444444444, \"#bd3786\"], [0.5555555555555556, \"#d8576b\"], [0.6666666666666666, \"#ed7953\"], [0.7777777777777778, \"#fb9f3a\"], [0.8888888888888888, \"#fdca26\"], [1.0, \"#f0f921\"]]}, \"colorway\": [\"#636efa\", \"#EF553B\", \"#00cc96\", \"#ab63fa\", \"#FFA15A\", \"#19d3f3\", \"#FF6692\", \"#B6E880\", \"#FF97FF\", \"#FECB52\"], \"font\": {\"color\": \"#2a3f5f\"}, \"geo\": {\"bgcolor\": \"white\", \"lakecolor\": \"white\", \"landcolor\": \"#E5ECF6\", \"showlakes\": true, \"showland\": true, \"subunitcolor\": \"white\"}, \"hoverlabel\": {\"align\": \"left\"}, \"hovermode\": \"closest\", \"mapbox\": {\"style\": \"light\"}, \"paper_bgcolor\": \"white\", \"plot_bgcolor\": \"#E5ECF6\", \"polar\": {\"angularaxis\": {\"gridcolor\": \"white\", \"linecolor\": \"white\", \"ticks\": \"\"}, \"bgcolor\": \"#E5ECF6\", \"radialaxis\": {\"gridcolor\": \"white\", \"linecolor\": \"white\", \"ticks\": \"\"}}, \"scene\": {\"xaxis\": {\"backgroundcolor\": \"#E5ECF6\", \"gridcolor\": \"white\", \"gridwidth\": 2, \"linecolor\": \"white\", \"showbackground\": true, \"ticks\": \"\", \"zerolinecolor\": \"white\"}, \"yaxis\": {\"backgroundcolor\": \"#E5ECF6\", \"gridcolor\": \"white\", \"gridwidth\": 2, \"linecolor\": \"white\", \"showbackground\": true, \"ticks\": \"\", \"zerolinecolor\": \"white\"}, \"zaxis\": {\"backgroundcolor\": \"#E5ECF6\", \"gridcolor\": \"white\", \"gridwidth\": 2, \"linecolor\": \"white\", \"showbackground\": true, \"ticks\": \"\", \"zerolinecolor\": \"white\"}}, \"shapedefaults\": {\"line\": {\"color\": \"#2a3f5f\"}}, \"ternary\": {\"aaxis\": {\"gridcolor\": \"white\", \"linecolor\": \"white\", \"ticks\": \"\"}, \"baxis\": {\"gridcolor\": \"white\", \"linecolor\": \"white\", \"ticks\": \"\"}, \"bgcolor\": \"#E5ECF6\", \"caxis\": {\"gridcolor\": \"white\", \"linecolor\": \"white\", \"ticks\": \"\"}}, \"title\": {\"x\": 0.05}, \"xaxis\": {\"automargin\": true, \"gridcolor\": \"white\", \"linecolor\": \"white\", \"ticks\": \"\", \"title\": {\"standoff\": 15}, \"zerolinecolor\": \"white\", \"zerolinewidth\": 2}, \"yaxis\": {\"automargin\": true, \"gridcolor\": \"white\", \"linecolor\": \"white\", \"ticks\": \"\", \"title\": {\"standoff\": 15}, \"zerolinecolor\": \"white\", \"zerolinewidth\": 2}}}, \"xaxis\": {\"anchor\": \"y\", \"domain\": [0.0, 1.0], \"title\": {\"text\": \"Mass\"}}, \"yaxis\": {\"anchor\": \"x\", \"domain\": [0.0, 1.0], \"title\": {\"text\": \"RT\"}}},                        {\"responsive\": true}                    ).then(function(){\n",
       "                            \n",
       "var gd = document.getElementById('bb799d3d-7dc0-438b-a793-6c9511d9f178');\n",
       "var x = new MutationObserver(function (mutations, observer) {{\n",
       "        var display = window.getComputedStyle(gd).display;\n",
       "        if (!display || display === 'none') {{\n",
       "            console.log([gd, 'removed!']);\n",
       "            Plotly.purge(gd);\n",
       "            observer.disconnect();\n",
       "        }}\n",
       "}});\n",
       "\n",
       "// Listen for the removal of the full notebook cells\n",
       "var notebookContainer = gd.closest('#notebook-container');\n",
       "if (notebookContainer) {{\n",
       "    x.observe(notebookContainer, {childList: true});\n",
       "}}\n",
       "\n",
       "// Listen for the clearing of the current output cell\n",
       "var outputEl = gd.closest('.output');\n",
       "if (outputEl) {{\n",
       "    x.observe(outputEl, {childList: true});\n",
       "}}\n",
       "\n",
       "                        })                };                });            </script>        </div>"
      ]
     },
     "metadata": {},
     "output_type": "display_data"
    }
   ],
   "source": [
    "# direct sequencing on small zone\n",
    "\n",
    "df_zone = df_chosen.sort_values('Vol', ascending=False).iloc[:20]\n",
    "# df_zone = df_chosen.copy()\n",
    "# df_salts = list()\n",
    "# for salt in [21.9819, 37.9558, 34.9694, 27.9949, 56.92]:\n",
    "#     df_salt = match_dfs(df_top, df_top, shift=salt)\n",
    "#     df_salts.append(df_salt)\n",
    "# df_salts = pd.concat(df_salts).drop_duplicates()\n",
    "# # df_top = df_top.drop(df_salts.index)\n",
    "\n",
    "bcr = base_calling_random(df_zone)\n",
    "plotly_basecalling(*bcr, annotate=False, y='RT')\n",
    "\n",
    "dfm1 = match_dfs(bcr[0], df_src, shift=-1*M)\n",
    "dfm2 = match_dfs(bcr[0], df_src, shift=1*M)\n",
    "# plotly_multi_zones([bcr[0], dfm1, dfm2])\n",
    "if not dfm1.empty:\n",
    "    plotly_zones(bcr[0], dfm1)\n",
    "else:\n",
    "    plotly_zone(bcr[0])"
   ]
  },
  {
   "cell_type": "code",
   "execution_count": null,
   "id": "joined-incentive",
   "metadata": {},
   "outputs": [],
   "source": []
  }
 ],
 "metadata": {
  "kernelspec": {
   "display_name": "Python 3",
   "language": "python",
   "name": "python3"
  },
  "language_info": {
   "codemirror_mode": {
    "name": "ipython",
    "version": 3
   },
   "file_extension": ".py",
   "mimetype": "text/x-python",
   "name": "python",
   "nbconvert_exporter": "python",
   "pygments_lexer": "ipython3",
   "version": "3.7.3"
  }
 },
 "nbformat": 4,
 "nbformat_minor": 5
}
