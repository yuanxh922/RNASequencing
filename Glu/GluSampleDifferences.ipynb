{
 "cells": [
  {
   "cell_type": "code",
   "execution_count": null,
   "id": "disabled-shannon",
   "metadata": {},
   "outputs": [],
   "source": [
    "import pandas as pd\n",
    "import matplotlib"
   ]
  },
  {
   "cell_type": "code",
   "execution_count": null,
   "id": "scientific-yellow",
   "metadata": {},
   "outputs": [],
   "source": [
    "%run data.ipynb\n",
    "%run ../modules/preprocessing.ipynb\n",
    "%run ../modules/cds.ipynb\n",
    "%run ../modules/utils.ipynb"
   ]
  },
  {
   "cell_type": "code",
   "execution_count": null,
   "id": "statutory-modern",
   "metadata": {},
   "outputs": [],
   "source": [
    "df0 = pd.read_excel('/Users/bryan/Documents/Data/UC/UC_glu_5_rosa.xlsx')\n",
    "df0 = thermo_df(df0)\n",
    "df1 = load_uc2(17)\n",
    "# df1 = thermo_df(df1)\n",
    "\n",
    "df2 = pd.read_excel('/Users/bryan/Documents/ChenLab/10Jun2021/degraded/DrChen_tRNA_A_Glu_FA_17.xlsx')\n",
    "# dfab_ad_alkb = pd.concat([df0_alkb, df2_alkb]).drop_duplicates(subset=['Mass'])\n",
    "df2 = thermo_df(df2)\n",
    "df2.shape\n",
    "\n",
    "df0_alkb = pd.read_excel('/Users/bryan/Documents/Data/UC/UC_glu_6_rosa.xlsx')\n",
    "df0_alkb = thermo_df(df0_alkb)\n",
    "\n",
    "df2_alkb = load_uc2(18)\n",
    "dfab_ad_alkb = pd.concat([df0_alkb, df2_alkb]).drop_duplicates(subset=['Mass'])\n",
    "dfab_ad_alkb.shape"
   ]
  },
  {
   "cell_type": "code",
   "execution_count": null,
   "id": "ignored-louisiana",
   "metadata": {},
   "outputs": [],
   "source": [
    "dfa = load_uc_glu(1)\n",
    "dfa_alkb = load_uc_glu(2)\n",
    "dfa_ad = pd.read_excel('/Users/bryan/Documents/Data/UC/UC_glu_5_rosa.xlsx')\n",
    "dfa_ad = thermo_df(dfa_ad)\n",
    "# dfa_ad_alkb = load_uc_glu(6)\n",
    "# dfa_ad_alkb = load_uc_glu(6, more=True)\n",
    "dfa_ad_alkb = pd.read_excel('/Users/bryan/Documents/Data/UC/UC_glu_6_rosa.xlsx')\n",
    "dfa_ad_alkb = thermo_df(dfa_ad_alkb)\n",
    "dfa.shape, dfa_ad.shape\n",
    "# plotly_zone(dfa_alkb)\n",
    "# plotly_zone(dfa_ad_alkb)"
   ]
  },
  {
   "cell_type": "code",
   "execution_count": null,
   "id": "gothic-poker",
   "metadata": {},
   "outputs": [],
   "source": [
    "dfb = load_uc2(5)\n",
    "dfb_alkb = load_uc2(6)\n",
    "dfb_ad = pd.read_excel('/Users/bryan/Documents/ChenLab/10Jun2021/degraded/DrChen_tRNA_A_Glu_FA_17.xlsx')\n",
    "dfb_ad = thermo_df(dfb_ad)\n",
    "# dfb_ad = load_uc2(17)\n",
    "dfb_ad_alkb = load_uc2(18)\n",
    "dfb.shape, dfb_ad.shape\n",
    "# plotly_zone(dfb)\n",
    "# plotly_zone(dfb_ad)"
   ]
  },
  {
   "cell_type": "code",
   "execution_count": null,
   "id": "instant-robertson",
   "metadata": {},
   "outputs": [],
   "source": [
    "## Batch 1 24k area\n",
    "# dfa_24k = dfa[(dfa.Mass>24000)]\n",
    "# dfa_alkb_24k = dfa_alkb[(dfa_alkb.Mass>24000)]\n",
    "# plotly_zone(dfa_24k, y='Vol')\n",
    "# plotly_zone(dfa_alkb_24k, y='Vol')\n",
    "\n",
    "## Batch 2 24k area\n",
    "# dfb_24k = dfb[(dfb.Mass>24000)]\n",
    "# dfb_alkb_24k = dfb_alkb[(dfb_alkb.Mass>24000)]\n",
    "# plotly_zone(dfb_24k, y='Vol')\n",
    "# plotly_zone(dfb_alkb_24k, y='Vol')\n",
    "\n",
    "## Batch 1 AD \n",
    "# dfb_24k = dfb[(dfb.Mass>24000)]\n",
    "# dfb_alkb_24k = dfb_alkb[(dfb_alkb.Mass>24000)]\n",
    "# plotly_zone(dfb, y='Vol')\n",
    "# plotly_zone(dfb_alkb, y='Vol')\n",
    "\n",
    "## Batch 2 AD \n",
    "# dfb_ad_24k = dfb_ad[(dfb_ad.Mass>24000)]\n",
    "# dfb_ad_alkb_24k = dfb_ad_alkb[(dfb_ad_alkb.Mass>24000)]\n",
    "# plotly_zone(dfa_ad_alkb, y='RT')\n",
    "# plotly_zone(dfb_ad_alkb, y='RT')\n",
    "\n",
    "dfa_ad_zone = dfa_ad[(dfa_ad.Mass>7000)&(dfa_ad.Mass<10000)]\n",
    "dfb_ad_zone = dfb_ad[(dfb_ad.Mass>7000)&(dfb_ad.Mass<10000)&(dfb_ad.RT>1)&(dfb_ad.RT<17)]\n",
    "plotly_zone(dfa_ad_zone, y='RT')\n",
    "plotly_zone(dfb_ad_zone, y='RT')"
   ]
  },
  {
   "cell_type": "code",
   "execution_count": null,
   "id": "possible-extreme",
   "metadata": {},
   "outputs": [],
   "source": [
    "df_217_3p_6mG = pd.read_excel('/Users/bryan/Studio/tools/glu_24217_3p_6mG.xlsx')\n",
    "df_217_5p_6mG = pd.read_excel('/Users/bryan/Studio/tools/glu_24217_5p_6mG.xlsx')\n",
    "df_203_3p_6mG = pd.read_excel('/Users/bryan/Studio/tools/glu_24203_3p_6mG.xlsx')\n",
    "df_203_5p_6mG = pd.read_excel('/Users/bryan/Studio/tools/glu_24203_5p_6mG.xlsx')\n",
    "\n",
    "dft = df_203_5p_6mG.copy()\n",
    "dfm1 = match_dfs(dft, dfa_ad_alkb)\n",
    "dfm2 = match_dfs(dft, dfb_ad_alkb)\n",
    "# dfm3 = match_dfs(dft, df1)\n",
    "plotly_multi_zones([dfm1, dfm2], names=[\"Batch1\", \"Batch3\"])"
   ]
  },
  {
   "cell_type": "code",
   "execution_count": null,
   "id": "particular-riverside",
   "metadata": {},
   "outputs": [],
   "source": [
    "# dfm = match_dfs(dfa_ad_alkb, dfb_ad_alkb)\n",
    "# plotly_zone(dfm)\n",
    "print(dfa_ad_alkb.Vol.sum()/1E6, dfb_ad_alkb.Vol.sum()/1E6, dfa_ad.Vol.sum()/1E6, dfb_ad.Vol.sum()/1E6)\n",
    "print(dfa.Vol.sum()/1E6,dfb.Vol.sum()/1E6, dfa_alkb.Vol.sum()/1E6, dfb_alkb.Vol.sum()/1E6)\n",
    "print(df1.Vol.sum()/1E6)"
   ]
  },
  {
   "cell_type": "code",
   "execution_count": null,
   "id": "sacred-wrestling",
   "metadata": {},
   "outputs": [],
   "source": [
    "dfm[dfm.Mass>4000].shape"
   ]
  },
  {
   "cell_type": "code",
   "execution_count": null,
   "id": "governmental-demonstration",
   "metadata": {},
   "outputs": [],
   "source": [
    "bcr = base_calling_random(dfm)\n",
    "plotly_basecalling(*bcr, annotate=False)"
   ]
  },
  {
   "cell_type": "code",
   "execution_count": null,
   "id": "typical-cigarette",
   "metadata": {},
   "outputs": [],
   "source": []
  }
 ],
 "metadata": {
  "kernelspec": {
   "display_name": "Python 3",
   "language": "python",
   "name": "python3"
  },
  "language_info": {
   "codemirror_mode": {
    "name": "ipython",
    "version": 3
   },
   "file_extension": ".py",
   "mimetype": "text/x-python",
   "name": "python",
   "nbconvert_exporter": "python",
   "pygments_lexer": "ipython3",
   "version": "3.7.3"
  }
 },
 "nbformat": 4,
 "nbformat_minor": 5
}
