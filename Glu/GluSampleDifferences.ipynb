{
 "cells": [
  {
   "cell_type": "code",
   "execution_count": 1,
   "id": "disabled-shannon",
   "metadata": {},
   "outputs": [],
   "source": [
    "import pandas as pd\n",
    "import matplotlib"
   ]
  },
  {
   "cell_type": "code",
   "execution_count": 3,
   "id": "scientific-yellow",
   "metadata": {},
   "outputs": [],
   "source": [
    "%run data.ipynb\n",
    "%run ../modules/preprocessing.ipynb\n",
    "%run ../modules/cds.ipynb\n",
    "%run ../modules/utils.ipynb"
   ]
  },
  {
   "cell_type": "code",
   "execution_count": 7,
   "id": "statutory-modern",
   "metadata": {},
   "outputs": [
    {
     "data": {
      "text/plain": [
       "(4999, 5)"
      ]
     },
     "execution_count": 7,
     "metadata": {},
     "output_type": "execute_result"
    }
   ],
   "source": [
    "df0 = pd.read_excel('/Users/bryan/Documents/Data/UC/UC_glu_5_rosa.xlsx')\n",
    "df0 = thermo_df(df0)\n",
    "df1 = load_uc2(17)\n",
    "# df1 = thermo_df(df1)\n",
    "\n",
    "df2 = pd.read_excel('/Users/bryan/Documents/ChenLab/10Jun2021/degraded/DrChen_tRNA_A_Glu_FA_17.xlsx')\n",
    "# dfab_ad_alkb = pd.concat([df0_alkb, df2_alkb]).drop_duplicates(subset=['Mass'])\n",
    "df2 = thermo_df(df2)\n",
    "df2.shape\n",
    "\n",
    "df0_alkb = pd.read_excel('/Users/bryan/Documents/Data/UC/UC_glu_6_rosa.xlsx')\n",
    "df0_alkb = thermo_df(df0_alkb)\n",
    "\n",
    "df2_alkb = load_uc2(18)\n",
    "dfab_ad_alkb = pd.concat([df0_alkb, df2_alkb]).drop_duplicates(subset=['Mass'])\n",
    "dfab_ad_alkb.shape"
   ]
  },
  {
   "cell_type": "code",
   "execution_count": 9,
   "id": "ignored-louisiana",
   "metadata": {},
   "outputs": [
    {
     "data": {
      "text/plain": [
       "((208, 5), (916, 5))"
      ]
     },
     "execution_count": 9,
     "metadata": {},
     "output_type": "execute_result"
    }
   ],
   "source": [
    "dfa = load_uc_glu(1)\n",
    "dfa_alkb = load_uc_glu(2)\n",
    "dfa_ad = pd.read_excel('/Users/bryan/Documents/Data/UC/UC_glu_5_rosa.xlsx')\n",
    "dfa_ad = thermo_df(dfa_ad)\n",
    "# dfa_ad_alkb = load_uc_glu(6)\n",
    "# dfa_ad_alkb = load_uc_glu(6, more=True)\n",
    "dfa_ad_alkb = pd.read_excel('/Users/bryan/Documents/Data/UC/UC_glu_6_rosa.xlsx')\n",
    "dfa_ad_alkb = thermo_df(dfa_ad_alkb)\n",
    "dfa.shape, dfa_ad.shape\n",
    "# plotly_zone(dfa_alkb)\n",
    "# plotly_zone(dfa_ad_alkb)"
   ]
  },
  {
   "cell_type": "code",
   "execution_count": 34,
   "id": "gothic-poker",
   "metadata": {},
   "outputs": [
    {
     "data": {
      "text/plain": [
       "((1473, 5), (2209, 5))"
      ]
     },
     "execution_count": 34,
     "metadata": {},
     "output_type": "execute_result"
    }
   ],
   "source": [
    "dfb = load_uc2(5)\n",
    "dfb_alkb = load_uc2(6)\n",
    "dfb_ad = pd.read_excel('/Users/bryan/Documents/ChenLab/10Jun2021/degraded/DrChen_tRNA_A_Glu_FA_17.xlsx')\n",
    "dfb_ad = thermo_df(dfb_ad)\n",
    "# dfb_ad = load_uc2(17)\n",
    "dfb_ad_alkb = load_uc2(18)\n",
    "dfb.shape, dfb_ad.shape\n",
    "# plotly_zone(dfb)\n",
    "# plotly_zone(dfb_ad)"
   ]
  },
  {
   "cell_type": "code",
   "execution_count": 68,
   "id": "instant-robertson",
   "metadata": {},
   "outputs": [
    {
     "data": {
      "application/vnd.plotly.v1+json": {
       "config": {
        "plotlyServerURL": "https://plot.ly"
       },
       "data": [
        {
         "hovertemplate": "Mass=%{x}<br>RT=%{y}<extra></extra>",
         "legendgroup": "",
         "marker": {
          "color": "#636efa",
          "symbol": "circle"
         },
         "mode": "markers",
         "name": "",
         "orientation": "v",
         "showlegend": false,
         "type": "scatter",
         "x": [
          9790.24170749476,
          9789.24404385634,
          9771.23082934243,
          9698.45268589794,
          9684.4315225891,
          9670.41776202044,
          9484.19511755798,
          9467.19327373999,
          9354.4035973319,
          9339.38218477846,
          9326.36611413998,
          9325.35839971998,
          9139.14875745621,
          9122.15087384949,
          9034.34305683611,
          9020.32055256955,
          8794.09512660957,
          8777.09811320117,
          8715.28026863755,
          8701.26676263442,
          8489.04997217894,
          8471.04627023206,
          8396.22629771567,
          8382.21128900223,
          8183.02818722035,
          8166.03263472797,
          8051.17848548616,
          8037.1625495724,
          7876.99770749742,
          7858.98317719201,
          7706.1281377973,
          7692.11616590342,
          7691.10598963839,
          7547.95353383172,
          7529.94044209198,
          7361.08112552757,
          7347.04389152428,
          7346.02992924403,
          7202.90828595411
         ],
         "xaxis": "x",
         "y": [
          19.7984961326599,
          19.8978932753881,
          19.7487982070128,
          19.0530207172712,
          19.0033224578381,
          19.5003060992241,
          19.6990996157805,
          19.5500046666145,
          19.0033224578381,
          18.8542271589915,
          19.3512110586643,
          19.3015125488917,
          19.5003060992241,
          19.4009094412804,
          18.7051322992325,
          19.1524177090009,
          19.3015125488917,
          19.1027190323353,
          18.1998650824706,
          18.7548308010578,
          19.0530207172712,
          18.8045292750676,
          17.6945982352575,
          18.3075452919483,
          18.8045292750676,
          18.6057359830221,
          17.2970031654517,
          18.0424870586077,
          18.6057359830221,
          18.3075452919483,
          16.8994079247793,
          17.6945982352575,
          17.7939956660747,
          18.1998650824706,
          17.8436934168816,
          16.6012176668326,
          17.5455030834357,
          17.5455030834357,
          17.7939956660747
         ],
         "yaxis": "y"
        }
       ],
       "layout": {
        "legend": {
         "tracegroupgap": 0
        },
        "margin": {
         "t": 60
        },
        "template": {
         "data": {
          "bar": [
           {
            "error_x": {
             "color": "#2a3f5f"
            },
            "error_y": {
             "color": "#2a3f5f"
            },
            "marker": {
             "line": {
              "color": "#E5ECF6",
              "width": 0.5
             }
            },
            "type": "bar"
           }
          ],
          "barpolar": [
           {
            "marker": {
             "line": {
              "color": "#E5ECF6",
              "width": 0.5
             }
            },
            "type": "barpolar"
           }
          ],
          "carpet": [
           {
            "aaxis": {
             "endlinecolor": "#2a3f5f",
             "gridcolor": "white",
             "linecolor": "white",
             "minorgridcolor": "white",
             "startlinecolor": "#2a3f5f"
            },
            "baxis": {
             "endlinecolor": "#2a3f5f",
             "gridcolor": "white",
             "linecolor": "white",
             "minorgridcolor": "white",
             "startlinecolor": "#2a3f5f"
            },
            "type": "carpet"
           }
          ],
          "choropleth": [
           {
            "colorbar": {
             "outlinewidth": 0,
             "ticks": ""
            },
            "type": "choropleth"
           }
          ],
          "contour": [
           {
            "colorbar": {
             "outlinewidth": 0,
             "ticks": ""
            },
            "colorscale": [
             [
              0,
              "#0d0887"
             ],
             [
              0.1111111111111111,
              "#46039f"
             ],
             [
              0.2222222222222222,
              "#7201a8"
             ],
             [
              0.3333333333333333,
              "#9c179e"
             ],
             [
              0.4444444444444444,
              "#bd3786"
             ],
             [
              0.5555555555555556,
              "#d8576b"
             ],
             [
              0.6666666666666666,
              "#ed7953"
             ],
             [
              0.7777777777777778,
              "#fb9f3a"
             ],
             [
              0.8888888888888888,
              "#fdca26"
             ],
             [
              1,
              "#f0f921"
             ]
            ],
            "type": "contour"
           }
          ],
          "contourcarpet": [
           {
            "colorbar": {
             "outlinewidth": 0,
             "ticks": ""
            },
            "type": "contourcarpet"
           }
          ],
          "heatmap": [
           {
            "colorbar": {
             "outlinewidth": 0,
             "ticks": ""
            },
            "colorscale": [
             [
              0,
              "#0d0887"
             ],
             [
              0.1111111111111111,
              "#46039f"
             ],
             [
              0.2222222222222222,
              "#7201a8"
             ],
             [
              0.3333333333333333,
              "#9c179e"
             ],
             [
              0.4444444444444444,
              "#bd3786"
             ],
             [
              0.5555555555555556,
              "#d8576b"
             ],
             [
              0.6666666666666666,
              "#ed7953"
             ],
             [
              0.7777777777777778,
              "#fb9f3a"
             ],
             [
              0.8888888888888888,
              "#fdca26"
             ],
             [
              1,
              "#f0f921"
             ]
            ],
            "type": "heatmap"
           }
          ],
          "heatmapgl": [
           {
            "colorbar": {
             "outlinewidth": 0,
             "ticks": ""
            },
            "colorscale": [
             [
              0,
              "#0d0887"
             ],
             [
              0.1111111111111111,
              "#46039f"
             ],
             [
              0.2222222222222222,
              "#7201a8"
             ],
             [
              0.3333333333333333,
              "#9c179e"
             ],
             [
              0.4444444444444444,
              "#bd3786"
             ],
             [
              0.5555555555555556,
              "#d8576b"
             ],
             [
              0.6666666666666666,
              "#ed7953"
             ],
             [
              0.7777777777777778,
              "#fb9f3a"
             ],
             [
              0.8888888888888888,
              "#fdca26"
             ],
             [
              1,
              "#f0f921"
             ]
            ],
            "type": "heatmapgl"
           }
          ],
          "histogram": [
           {
            "marker": {
             "colorbar": {
              "outlinewidth": 0,
              "ticks": ""
             }
            },
            "type": "histogram"
           }
          ],
          "histogram2d": [
           {
            "colorbar": {
             "outlinewidth": 0,
             "ticks": ""
            },
            "colorscale": [
             [
              0,
              "#0d0887"
             ],
             [
              0.1111111111111111,
              "#46039f"
             ],
             [
              0.2222222222222222,
              "#7201a8"
             ],
             [
              0.3333333333333333,
              "#9c179e"
             ],
             [
              0.4444444444444444,
              "#bd3786"
             ],
             [
              0.5555555555555556,
              "#d8576b"
             ],
             [
              0.6666666666666666,
              "#ed7953"
             ],
             [
              0.7777777777777778,
              "#fb9f3a"
             ],
             [
              0.8888888888888888,
              "#fdca26"
             ],
             [
              1,
              "#f0f921"
             ]
            ],
            "type": "histogram2d"
           }
          ],
          "histogram2dcontour": [
           {
            "colorbar": {
             "outlinewidth": 0,
             "ticks": ""
            },
            "colorscale": [
             [
              0,
              "#0d0887"
             ],
             [
              0.1111111111111111,
              "#46039f"
             ],
             [
              0.2222222222222222,
              "#7201a8"
             ],
             [
              0.3333333333333333,
              "#9c179e"
             ],
             [
              0.4444444444444444,
              "#bd3786"
             ],
             [
              0.5555555555555556,
              "#d8576b"
             ],
             [
              0.6666666666666666,
              "#ed7953"
             ],
             [
              0.7777777777777778,
              "#fb9f3a"
             ],
             [
              0.8888888888888888,
              "#fdca26"
             ],
             [
              1,
              "#f0f921"
             ]
            ],
            "type": "histogram2dcontour"
           }
          ],
          "mesh3d": [
           {
            "colorbar": {
             "outlinewidth": 0,
             "ticks": ""
            },
            "type": "mesh3d"
           }
          ],
          "parcoords": [
           {
            "line": {
             "colorbar": {
              "outlinewidth": 0,
              "ticks": ""
             }
            },
            "type": "parcoords"
           }
          ],
          "pie": [
           {
            "automargin": true,
            "type": "pie"
           }
          ],
          "scatter": [
           {
            "marker": {
             "colorbar": {
              "outlinewidth": 0,
              "ticks": ""
             }
            },
            "type": "scatter"
           }
          ],
          "scatter3d": [
           {
            "line": {
             "colorbar": {
              "outlinewidth": 0,
              "ticks": ""
             }
            },
            "marker": {
             "colorbar": {
              "outlinewidth": 0,
              "ticks": ""
             }
            },
            "type": "scatter3d"
           }
          ],
          "scattercarpet": [
           {
            "marker": {
             "colorbar": {
              "outlinewidth": 0,
              "ticks": ""
             }
            },
            "type": "scattercarpet"
           }
          ],
          "scattergeo": [
           {
            "marker": {
             "colorbar": {
              "outlinewidth": 0,
              "ticks": ""
             }
            },
            "type": "scattergeo"
           }
          ],
          "scattergl": [
           {
            "marker": {
             "colorbar": {
              "outlinewidth": 0,
              "ticks": ""
             }
            },
            "type": "scattergl"
           }
          ],
          "scattermapbox": [
           {
            "marker": {
             "colorbar": {
              "outlinewidth": 0,
              "ticks": ""
             }
            },
            "type": "scattermapbox"
           }
          ],
          "scatterpolar": [
           {
            "marker": {
             "colorbar": {
              "outlinewidth": 0,
              "ticks": ""
             }
            },
            "type": "scatterpolar"
           }
          ],
          "scatterpolargl": [
           {
            "marker": {
             "colorbar": {
              "outlinewidth": 0,
              "ticks": ""
             }
            },
            "type": "scatterpolargl"
           }
          ],
          "scatterternary": [
           {
            "marker": {
             "colorbar": {
              "outlinewidth": 0,
              "ticks": ""
             }
            },
            "type": "scatterternary"
           }
          ],
          "surface": [
           {
            "colorbar": {
             "outlinewidth": 0,
             "ticks": ""
            },
            "colorscale": [
             [
              0,
              "#0d0887"
             ],
             [
              0.1111111111111111,
              "#46039f"
             ],
             [
              0.2222222222222222,
              "#7201a8"
             ],
             [
              0.3333333333333333,
              "#9c179e"
             ],
             [
              0.4444444444444444,
              "#bd3786"
             ],
             [
              0.5555555555555556,
              "#d8576b"
             ],
             [
              0.6666666666666666,
              "#ed7953"
             ],
             [
              0.7777777777777778,
              "#fb9f3a"
             ],
             [
              0.8888888888888888,
              "#fdca26"
             ],
             [
              1,
              "#f0f921"
             ]
            ],
            "type": "surface"
           }
          ],
          "table": [
           {
            "cells": {
             "fill": {
              "color": "#EBF0F8"
             },
             "line": {
              "color": "white"
             }
            },
            "header": {
             "fill": {
              "color": "#C8D4E3"
             },
             "line": {
              "color": "white"
             }
            },
            "type": "table"
           }
          ]
         },
         "layout": {
          "annotationdefaults": {
           "arrowcolor": "#2a3f5f",
           "arrowhead": 0,
           "arrowwidth": 1
          },
          "autotypenumbers": "strict",
          "coloraxis": {
           "colorbar": {
            "outlinewidth": 0,
            "ticks": ""
           }
          },
          "colorscale": {
           "diverging": [
            [
             0,
             "#8e0152"
            ],
            [
             0.1,
             "#c51b7d"
            ],
            [
             0.2,
             "#de77ae"
            ],
            [
             0.3,
             "#f1b6da"
            ],
            [
             0.4,
             "#fde0ef"
            ],
            [
             0.5,
             "#f7f7f7"
            ],
            [
             0.6,
             "#e6f5d0"
            ],
            [
             0.7,
             "#b8e186"
            ],
            [
             0.8,
             "#7fbc41"
            ],
            [
             0.9,
             "#4d9221"
            ],
            [
             1,
             "#276419"
            ]
           ],
           "sequential": [
            [
             0,
             "#0d0887"
            ],
            [
             0.1111111111111111,
             "#46039f"
            ],
            [
             0.2222222222222222,
             "#7201a8"
            ],
            [
             0.3333333333333333,
             "#9c179e"
            ],
            [
             0.4444444444444444,
             "#bd3786"
            ],
            [
             0.5555555555555556,
             "#d8576b"
            ],
            [
             0.6666666666666666,
             "#ed7953"
            ],
            [
             0.7777777777777778,
             "#fb9f3a"
            ],
            [
             0.8888888888888888,
             "#fdca26"
            ],
            [
             1,
             "#f0f921"
            ]
           ],
           "sequentialminus": [
            [
             0,
             "#0d0887"
            ],
            [
             0.1111111111111111,
             "#46039f"
            ],
            [
             0.2222222222222222,
             "#7201a8"
            ],
            [
             0.3333333333333333,
             "#9c179e"
            ],
            [
             0.4444444444444444,
             "#bd3786"
            ],
            [
             0.5555555555555556,
             "#d8576b"
            ],
            [
             0.6666666666666666,
             "#ed7953"
            ],
            [
             0.7777777777777778,
             "#fb9f3a"
            ],
            [
             0.8888888888888888,
             "#fdca26"
            ],
            [
             1,
             "#f0f921"
            ]
           ]
          },
          "colorway": [
           "#636efa",
           "#EF553B",
           "#00cc96",
           "#ab63fa",
           "#FFA15A",
           "#19d3f3",
           "#FF6692",
           "#B6E880",
           "#FF97FF",
           "#FECB52"
          ],
          "font": {
           "color": "#2a3f5f"
          },
          "geo": {
           "bgcolor": "white",
           "lakecolor": "white",
           "landcolor": "#E5ECF6",
           "showlakes": true,
           "showland": true,
           "subunitcolor": "white"
          },
          "hoverlabel": {
           "align": "left"
          },
          "hovermode": "closest",
          "mapbox": {
           "style": "light"
          },
          "paper_bgcolor": "white",
          "plot_bgcolor": "#E5ECF6",
          "polar": {
           "angularaxis": {
            "gridcolor": "white",
            "linecolor": "white",
            "ticks": ""
           },
           "bgcolor": "#E5ECF6",
           "radialaxis": {
            "gridcolor": "white",
            "linecolor": "white",
            "ticks": ""
           }
          },
          "scene": {
           "xaxis": {
            "backgroundcolor": "#E5ECF6",
            "gridcolor": "white",
            "gridwidth": 2,
            "linecolor": "white",
            "showbackground": true,
            "ticks": "",
            "zerolinecolor": "white"
           },
           "yaxis": {
            "backgroundcolor": "#E5ECF6",
            "gridcolor": "white",
            "gridwidth": 2,
            "linecolor": "white",
            "showbackground": true,
            "ticks": "",
            "zerolinecolor": "white"
           },
           "zaxis": {
            "backgroundcolor": "#E5ECF6",
            "gridcolor": "white",
            "gridwidth": 2,
            "linecolor": "white",
            "showbackground": true,
            "ticks": "",
            "zerolinecolor": "white"
           }
          },
          "shapedefaults": {
           "line": {
            "color": "#2a3f5f"
           }
          },
          "ternary": {
           "aaxis": {
            "gridcolor": "white",
            "linecolor": "white",
            "ticks": ""
           },
           "baxis": {
            "gridcolor": "white",
            "linecolor": "white",
            "ticks": ""
           },
           "bgcolor": "#E5ECF6",
           "caxis": {
            "gridcolor": "white",
            "linecolor": "white",
            "ticks": ""
           }
          },
          "title": {
           "x": 0.05
          },
          "xaxis": {
           "automargin": true,
           "gridcolor": "white",
           "linecolor": "white",
           "ticks": "",
           "title": {
            "standoff": 15
           },
           "zerolinecolor": "white",
           "zerolinewidth": 2
          },
          "yaxis": {
           "automargin": true,
           "gridcolor": "white",
           "linecolor": "white",
           "ticks": "",
           "title": {
            "standoff": 15
           },
           "zerolinecolor": "white",
           "zerolinewidth": 2
          }
         }
        },
        "xaxis": {
         "anchor": "y",
         "domain": [
          0,
          1
         ],
         "title": {
          "text": "Mass"
         }
        },
        "yaxis": {
         "anchor": "x",
         "domain": [
          0,
          1
         ],
         "title": {
          "text": "RT"
         }
        }
       }
      },
      "text/html": [
       "<div>                            <div id=\"cc9f1533-1d2a-4153-88ac-2b024f3f09e8\" class=\"plotly-graph-div\" style=\"height:525px; width:100%;\"></div>            <script type=\"text/javascript\">                require([\"plotly\"], function(Plotly) {                    window.PLOTLYENV=window.PLOTLYENV || {};                                    if (document.getElementById(\"cc9f1533-1d2a-4153-88ac-2b024f3f09e8\")) {                    Plotly.newPlot(                        \"cc9f1533-1d2a-4153-88ac-2b024f3f09e8\",                        [{\"hovertemplate\": \"Mass=%{x}<br>RT=%{y}<extra></extra>\", \"legendgroup\": \"\", \"marker\": {\"color\": \"#636efa\", \"symbol\": \"circle\"}, \"mode\": \"markers\", \"name\": \"\", \"orientation\": \"v\", \"showlegend\": false, \"type\": \"scatter\", \"x\": [9790.24170749476, 9789.24404385634, 9771.23082934243, 9698.45268589794, 9684.4315225891, 9670.41776202044, 9484.19511755798, 9467.19327373999, 9354.4035973319, 9339.38218477846, 9326.36611413998, 9325.35839971998, 9139.14875745621, 9122.15087384949, 9034.34305683611, 9020.32055256955, 8794.09512660957, 8777.09811320117, 8715.28026863755, 8701.26676263442, 8489.04997217894, 8471.04627023206, 8396.22629771567, 8382.21128900223, 8183.02818722035, 8166.03263472797, 8051.17848548616, 8037.1625495724, 7876.99770749742, 7858.98317719201, 7706.1281377973, 7692.11616590342, 7691.10598963839, 7547.95353383172, 7529.94044209198, 7361.08112552757, 7347.04389152428, 7346.02992924403, 7202.90828595411], \"xaxis\": \"x\", \"y\": [19.7984961326599, 19.8978932753881, 19.7487982070128, 19.0530207172712, 19.0033224578381, 19.5003060992241, 19.6990996157805, 19.5500046666145, 19.0033224578381, 18.8542271589915, 19.3512110586643, 19.3015125488917, 19.5003060992241, 19.4009094412804, 18.7051322992325, 19.1524177090009, 19.3015125488917, 19.1027190323353, 18.1998650824706, 18.7548308010578, 19.0530207172712, 18.8045292750676, 17.6945982352575, 18.3075452919483, 18.8045292750676, 18.6057359830221, 17.2970031654517, 18.0424870586077, 18.6057359830221, 18.3075452919483, 16.8994079247793, 17.6945982352575, 17.7939956660747, 18.1998650824706, 17.8436934168816, 16.6012176668326, 17.5455030834357, 17.5455030834357, 17.7939956660747], \"yaxis\": \"y\"}],                        {\"legend\": {\"tracegroupgap\": 0}, \"margin\": {\"t\": 60}, \"template\": {\"data\": {\"bar\": [{\"error_x\": {\"color\": \"#2a3f5f\"}, \"error_y\": {\"color\": \"#2a3f5f\"}, \"marker\": {\"line\": {\"color\": \"#E5ECF6\", \"width\": 0.5}}, \"type\": \"bar\"}], \"barpolar\": [{\"marker\": {\"line\": {\"color\": \"#E5ECF6\", \"width\": 0.5}}, \"type\": \"barpolar\"}], \"carpet\": [{\"aaxis\": {\"endlinecolor\": \"#2a3f5f\", \"gridcolor\": \"white\", \"linecolor\": \"white\", \"minorgridcolor\": \"white\", \"startlinecolor\": \"#2a3f5f\"}, \"baxis\": {\"endlinecolor\": \"#2a3f5f\", \"gridcolor\": \"white\", \"linecolor\": \"white\", \"minorgridcolor\": \"white\", \"startlinecolor\": \"#2a3f5f\"}, \"type\": \"carpet\"}], \"choropleth\": [{\"colorbar\": {\"outlinewidth\": 0, \"ticks\": \"\"}, \"type\": \"choropleth\"}], \"contour\": [{\"colorbar\": {\"outlinewidth\": 0, \"ticks\": \"\"}, \"colorscale\": [[0.0, \"#0d0887\"], [0.1111111111111111, \"#46039f\"], [0.2222222222222222, \"#7201a8\"], [0.3333333333333333, \"#9c179e\"], [0.4444444444444444, \"#bd3786\"], [0.5555555555555556, \"#d8576b\"], [0.6666666666666666, \"#ed7953\"], [0.7777777777777778, \"#fb9f3a\"], [0.8888888888888888, \"#fdca26\"], [1.0, \"#f0f921\"]], \"type\": \"contour\"}], \"contourcarpet\": [{\"colorbar\": {\"outlinewidth\": 0, \"ticks\": \"\"}, \"type\": \"contourcarpet\"}], \"heatmap\": [{\"colorbar\": {\"outlinewidth\": 0, \"ticks\": \"\"}, \"colorscale\": [[0.0, \"#0d0887\"], [0.1111111111111111, \"#46039f\"], [0.2222222222222222, \"#7201a8\"], [0.3333333333333333, \"#9c179e\"], [0.4444444444444444, \"#bd3786\"], [0.5555555555555556, \"#d8576b\"], [0.6666666666666666, \"#ed7953\"], [0.7777777777777778, \"#fb9f3a\"], [0.8888888888888888, \"#fdca26\"], [1.0, \"#f0f921\"]], \"type\": \"heatmap\"}], \"heatmapgl\": [{\"colorbar\": {\"outlinewidth\": 0, \"ticks\": \"\"}, \"colorscale\": [[0.0, \"#0d0887\"], [0.1111111111111111, \"#46039f\"], [0.2222222222222222, \"#7201a8\"], [0.3333333333333333, \"#9c179e\"], [0.4444444444444444, \"#bd3786\"], [0.5555555555555556, \"#d8576b\"], [0.6666666666666666, \"#ed7953\"], [0.7777777777777778, \"#fb9f3a\"], [0.8888888888888888, \"#fdca26\"], [1.0, \"#f0f921\"]], \"type\": \"heatmapgl\"}], \"histogram\": [{\"marker\": {\"colorbar\": {\"outlinewidth\": 0, \"ticks\": \"\"}}, \"type\": \"histogram\"}], \"histogram2d\": [{\"colorbar\": {\"outlinewidth\": 0, \"ticks\": \"\"}, \"colorscale\": [[0.0, \"#0d0887\"], [0.1111111111111111, \"#46039f\"], [0.2222222222222222, \"#7201a8\"], [0.3333333333333333, \"#9c179e\"], [0.4444444444444444, \"#bd3786\"], [0.5555555555555556, \"#d8576b\"], [0.6666666666666666, \"#ed7953\"], [0.7777777777777778, \"#fb9f3a\"], [0.8888888888888888, \"#fdca26\"], [1.0, \"#f0f921\"]], \"type\": \"histogram2d\"}], \"histogram2dcontour\": [{\"colorbar\": {\"outlinewidth\": 0, \"ticks\": \"\"}, \"colorscale\": [[0.0, \"#0d0887\"], [0.1111111111111111, \"#46039f\"], [0.2222222222222222, \"#7201a8\"], [0.3333333333333333, \"#9c179e\"], [0.4444444444444444, \"#bd3786\"], [0.5555555555555556, \"#d8576b\"], [0.6666666666666666, \"#ed7953\"], [0.7777777777777778, \"#fb9f3a\"], [0.8888888888888888, \"#fdca26\"], [1.0, \"#f0f921\"]], \"type\": \"histogram2dcontour\"}], \"mesh3d\": [{\"colorbar\": {\"outlinewidth\": 0, \"ticks\": \"\"}, \"type\": \"mesh3d\"}], \"parcoords\": [{\"line\": {\"colorbar\": {\"outlinewidth\": 0, \"ticks\": \"\"}}, \"type\": \"parcoords\"}], \"pie\": [{\"automargin\": true, \"type\": \"pie\"}], \"scatter\": [{\"marker\": {\"colorbar\": {\"outlinewidth\": 0, \"ticks\": \"\"}}, \"type\": \"scatter\"}], \"scatter3d\": [{\"line\": {\"colorbar\": {\"outlinewidth\": 0, \"ticks\": \"\"}}, \"marker\": {\"colorbar\": {\"outlinewidth\": 0, \"ticks\": \"\"}}, \"type\": \"scatter3d\"}], \"scattercarpet\": [{\"marker\": {\"colorbar\": {\"outlinewidth\": 0, \"ticks\": \"\"}}, \"type\": \"scattercarpet\"}], \"scattergeo\": [{\"marker\": {\"colorbar\": {\"outlinewidth\": 0, \"ticks\": \"\"}}, \"type\": \"scattergeo\"}], \"scattergl\": [{\"marker\": {\"colorbar\": {\"outlinewidth\": 0, \"ticks\": \"\"}}, \"type\": \"scattergl\"}], \"scattermapbox\": [{\"marker\": {\"colorbar\": {\"outlinewidth\": 0, \"ticks\": \"\"}}, \"type\": \"scattermapbox\"}], \"scatterpolar\": [{\"marker\": {\"colorbar\": {\"outlinewidth\": 0, \"ticks\": \"\"}}, \"type\": \"scatterpolar\"}], \"scatterpolargl\": [{\"marker\": {\"colorbar\": {\"outlinewidth\": 0, \"ticks\": \"\"}}, \"type\": \"scatterpolargl\"}], \"scatterternary\": [{\"marker\": {\"colorbar\": {\"outlinewidth\": 0, \"ticks\": \"\"}}, \"type\": \"scatterternary\"}], \"surface\": [{\"colorbar\": {\"outlinewidth\": 0, \"ticks\": \"\"}, \"colorscale\": [[0.0, \"#0d0887\"], [0.1111111111111111, \"#46039f\"], [0.2222222222222222, \"#7201a8\"], [0.3333333333333333, \"#9c179e\"], [0.4444444444444444, \"#bd3786\"], [0.5555555555555556, \"#d8576b\"], [0.6666666666666666, \"#ed7953\"], [0.7777777777777778, \"#fb9f3a\"], [0.8888888888888888, \"#fdca26\"], [1.0, \"#f0f921\"]], \"type\": \"surface\"}], \"table\": [{\"cells\": {\"fill\": {\"color\": \"#EBF0F8\"}, \"line\": {\"color\": \"white\"}}, \"header\": {\"fill\": {\"color\": \"#C8D4E3\"}, \"line\": {\"color\": \"white\"}}, \"type\": \"table\"}]}, \"layout\": {\"annotationdefaults\": {\"arrowcolor\": \"#2a3f5f\", \"arrowhead\": 0, \"arrowwidth\": 1}, \"autotypenumbers\": \"strict\", \"coloraxis\": {\"colorbar\": {\"outlinewidth\": 0, \"ticks\": \"\"}}, \"colorscale\": {\"diverging\": [[0, \"#8e0152\"], [0.1, \"#c51b7d\"], [0.2, \"#de77ae\"], [0.3, \"#f1b6da\"], [0.4, \"#fde0ef\"], [0.5, \"#f7f7f7\"], [0.6, \"#e6f5d0\"], [0.7, \"#b8e186\"], [0.8, \"#7fbc41\"], [0.9, \"#4d9221\"], [1, \"#276419\"]], \"sequential\": [[0.0, \"#0d0887\"], [0.1111111111111111, \"#46039f\"], [0.2222222222222222, \"#7201a8\"], [0.3333333333333333, \"#9c179e\"], [0.4444444444444444, \"#bd3786\"], [0.5555555555555556, \"#d8576b\"], [0.6666666666666666, \"#ed7953\"], [0.7777777777777778, \"#fb9f3a\"], [0.8888888888888888, \"#fdca26\"], [1.0, \"#f0f921\"]], \"sequentialminus\": [[0.0, \"#0d0887\"], [0.1111111111111111, \"#46039f\"], [0.2222222222222222, \"#7201a8\"], [0.3333333333333333, \"#9c179e\"], [0.4444444444444444, \"#bd3786\"], [0.5555555555555556, \"#d8576b\"], [0.6666666666666666, \"#ed7953\"], [0.7777777777777778, \"#fb9f3a\"], [0.8888888888888888, \"#fdca26\"], [1.0, \"#f0f921\"]]}, \"colorway\": [\"#636efa\", \"#EF553B\", \"#00cc96\", \"#ab63fa\", \"#FFA15A\", \"#19d3f3\", \"#FF6692\", \"#B6E880\", \"#FF97FF\", \"#FECB52\"], \"font\": {\"color\": \"#2a3f5f\"}, \"geo\": {\"bgcolor\": \"white\", \"lakecolor\": \"white\", \"landcolor\": \"#E5ECF6\", \"showlakes\": true, \"showland\": true, \"subunitcolor\": \"white\"}, \"hoverlabel\": {\"align\": \"left\"}, \"hovermode\": \"closest\", \"mapbox\": {\"style\": \"light\"}, \"paper_bgcolor\": \"white\", \"plot_bgcolor\": \"#E5ECF6\", \"polar\": {\"angularaxis\": {\"gridcolor\": \"white\", \"linecolor\": \"white\", \"ticks\": \"\"}, \"bgcolor\": \"#E5ECF6\", \"radialaxis\": {\"gridcolor\": \"white\", \"linecolor\": \"white\", \"ticks\": \"\"}}, \"scene\": {\"xaxis\": {\"backgroundcolor\": \"#E5ECF6\", \"gridcolor\": \"white\", \"gridwidth\": 2, \"linecolor\": \"white\", \"showbackground\": true, \"ticks\": \"\", \"zerolinecolor\": \"white\"}, \"yaxis\": {\"backgroundcolor\": \"#E5ECF6\", \"gridcolor\": \"white\", \"gridwidth\": 2, \"linecolor\": \"white\", \"showbackground\": true, \"ticks\": \"\", \"zerolinecolor\": \"white\"}, \"zaxis\": {\"backgroundcolor\": \"#E5ECF6\", \"gridcolor\": \"white\", \"gridwidth\": 2, \"linecolor\": \"white\", \"showbackground\": true, \"ticks\": \"\", \"zerolinecolor\": \"white\"}}, \"shapedefaults\": {\"line\": {\"color\": \"#2a3f5f\"}}, \"ternary\": {\"aaxis\": {\"gridcolor\": \"white\", \"linecolor\": \"white\", \"ticks\": \"\"}, \"baxis\": {\"gridcolor\": \"white\", \"linecolor\": \"white\", \"ticks\": \"\"}, \"bgcolor\": \"#E5ECF6\", \"caxis\": {\"gridcolor\": \"white\", \"linecolor\": \"white\", \"ticks\": \"\"}}, \"title\": {\"x\": 0.05}, \"xaxis\": {\"automargin\": true, \"gridcolor\": \"white\", \"linecolor\": \"white\", \"ticks\": \"\", \"title\": {\"standoff\": 15}, \"zerolinecolor\": \"white\", \"zerolinewidth\": 2}, \"yaxis\": {\"automargin\": true, \"gridcolor\": \"white\", \"linecolor\": \"white\", \"ticks\": \"\", \"title\": {\"standoff\": 15}, \"zerolinecolor\": \"white\", \"zerolinewidth\": 2}}}, \"xaxis\": {\"anchor\": \"y\", \"domain\": [0.0, 1.0], \"title\": {\"text\": \"Mass\"}}, \"yaxis\": {\"anchor\": \"x\", \"domain\": [0.0, 1.0], \"title\": {\"text\": \"RT\"}}},                        {\"responsive\": true}                    ).then(function(){\n",
       "                            \n",
       "var gd = document.getElementById('cc9f1533-1d2a-4153-88ac-2b024f3f09e8');\n",
       "var x = new MutationObserver(function (mutations, observer) {{\n",
       "        var display = window.getComputedStyle(gd).display;\n",
       "        if (!display || display === 'none') {{\n",
       "            console.log([gd, 'removed!']);\n",
       "            Plotly.purge(gd);\n",
       "            observer.disconnect();\n",
       "        }}\n",
       "}});\n",
       "\n",
       "// Listen for the removal of the full notebook cells\n",
       "var notebookContainer = gd.closest('#notebook-container');\n",
       "if (notebookContainer) {{\n",
       "    x.observe(notebookContainer, {childList: true});\n",
       "}}\n",
       "\n",
       "// Listen for the clearing of the current output cell\n",
       "var outputEl = gd.closest('.output');\n",
       "if (outputEl) {{\n",
       "    x.observe(outputEl, {childList: true});\n",
       "}}\n",
       "\n",
       "                        })                };                });            </script>        </div>"
      ]
     },
     "metadata": {},
     "output_type": "display_data"
    },
    {
     "data": {
      "application/vnd.plotly.v1+json": {
       "config": {
        "plotlyServerURL": "https://plot.ly"
       },
       "data": [
        {
         "hovertemplate": "Mass=%{x}<br>RT=%{y}<extra></extra>",
         "legendgroup": "",
         "marker": {
          "color": "#636efa",
          "symbol": "circle"
         },
         "mode": "markers",
         "name": "",
         "orientation": "v",
         "showlegend": false,
         "type": "scatter",
         "x": [
          7202.89032785763,
          7547.9343695075,
          8183.01327043116,
          9139.13554949231,
          8220.95766197938,
          9790.22549866502,
          8526.98825501024,
          8490.04134534416,
          7876.98807481585,
          9828.17109028562,
          8795.08509805035,
          7240.83804668168,
          7706.11556444666,
          7586.88535742027,
          7361.06956667474,
          8715.2694777347,
          8184.0177415301,
          8396.20893469084,
          8051.15963442209,
          8794.087992654,
          9034.31912964107,
          8489.04114980822,
          7744.06306084634,
          7585.88633979977,
          9178.08233208733,
          7399.013355748,
          7548.93722213006,
          9484.18504246519,
          8832.04355891232,
          8434.15141675422,
          7241.83736231899,
          7530.93315259729,
          8089.10874974591,
          8753.22136468151,
          8242.94213360997,
          9789.22663009911,
          7877.988148998,
          7279.77629242812,
          8205.00012733769,
          7570.91258705153,
          9485.18032524369,
          9684.41278483674,
          8512.01604433752,
          9140.1406962283,
          9522.14282831647,
          9812.19090362678,
          8471.03703102039,
          7915.93601143296,
          7184.88170883516,
          9177.0779628738,
          8258.90843860563,
          8203.95782461389,
          8816.04170098721,
          7623.83249619113,
          8037.14627262872,
          7606.85659929811,
          9377.30993756676,
          7436.96487679135,
          8817.05975345012,
          8754.23696961436,
          7225.86730849437,
          7692.09674821751,
          7131.9376020335,
          9772.2178102705,
          8870.97554290797,
          8548.95211286103,
          8564.9330589852,
          9560.07318440236,
          8833.03611696112,
          7347.05096856884,
          7858.97711226618,
          7568.88323377873,
          9161.12715417142,
          9339.3722270638,
          7259.80824354506,
          9467.17217743486,
          7782.00558062938,
          8221.96483890515,
          8852.0113757431,
          9200.06693989432,
          7569.89477135747,
          8547.97700821097,
          9160.10921722593,
          9217.03009511131,
          7437.96894308487,
          9867.13434946211,
          9073.27677588871,
          9505.15947576825,
          7743.0062018611,
          7223.82617476349,
          7936.91070109397,
          7624.8348620938,
          9122.14156163985,
          9072.27655782257,
          9865.12352219531,
          8701.24366334486,
          8700.22870056306,
          8382.18912675631,
          9162.09420623907,
          9340.38063041134,
          8739.19242266776,
          8565.95245154173,
          7899.96181110028,
          8869.98182994942,
          9506.15240153573,
          8073.1343502922,
          7728.08883920961,
          7395.96954568843,
          9059.26413029059,
          8790.16076375875,
          9544.10939956168,
          9848.14824310985,
          8853.0210623871,
          8168.0094817405,
          7693.0955584274,
          8237.97576177272,
          7383.04277254556,
          7262.81160001338,
          8198.01933107587,
          7048.95166033292,
          8510.01733210542,
          8071.07328212496,
          8549.95099230373,
          7187.91695753967,
          8531.9960620031,
          7550.9095682295,
          9110.21343389895,
          8166.0054626806,
          9121.1263547981,
          7730.04842472469,
          9670.40065007338,
          7561.9535672604,
          8474.03242529079,
          8241.94182917523,
          8503.05432165644,
          9111.21416173762,
          9195.06490902155,
          9001.21160213033,
          7385.00585535642,
          9851.15237585196,
          7952.87953012329,
          9850.1267097722,
          8188.00341632989,
          9399.29597332295,
          9709.32668772594,
          8814.03912266663,
          9982.32167395752,
          7491.96437721846,
          9636.27756194348,
          9414.2753365697,
          9394.29546596063,
          9348.29482820607,
          8226.96476650657,
          8075.09336253202,
          8583.90224271307,
          9983.3450632934,
          7354.00413291382,
          9361.3254610385,
          9345.27185096339,
          9056.30195281779,
          7529.9273792658,
          8421.14387796888,
          9347.26783289309,
          8110.08478315286,
          7990.11401908397,
          8999.18625088996,
          7837.99541931918,
          7406.97263938036,
          8723.16633015742
         ],
         "xaxis": "x",
         "y": [
          15.18732298371,
          15.4910722251415,
          15.9771902497292,
          16.4610246256669,
          15.9410113091946,
          16.7636357422352,
          16.1292142585595,
          16.0858514086088,
          15.7885165011565,
          16.7636357422352,
          16.2373660262108,
          15.259377858607,
          14.6231675918579,
          15.3750834262053,
          14.4786733007113,
          15.4910722251415,
          15.8976467247486,
          15.1151810005983,
          14.8546405668735,
          16.2735179161708,
          16.0134670670509,
          16.1581030424118,
          14.6231675918579,
          15.4474802668571,
          16.4610246256669,
          14.4786733007113,
          15.3389776920954,
          16.691637533474,
          16.3527976409276,
          15.1151810005983,
          15.18732298371,
          15.259377858607,
          14.8546405668735,
          15.4910722251415,
          15.9410113091946,
          16.7636357422352,
          15.7523365751584,
          15.2232808009466,
          15.9410113091946,
          15.4474802668571,
          16.5763679738522,
          16.1581030424118,
          16.0858514086088,
          16.3096230423133,
          16.6125055010796,
          16.7275664583524,
          15.9410113091946,
          15.7523365751584,
          15.0355859156132,
          16.5041750168482,
          15.9410113091946,
          15.7885165011565,
          16.1581030424118,
          15.4474802668571,
          15.259377858607,
          15.4474802668571,
          16.1292142585595,
          15.0355859156132,
          16.2735179161708,
          15.4474802668571,
          15.259377858607,
          15.0717622514248,
          14.8111200169404,
          16.6484841421922,
          16.2735179161708,
          16.0858514086088,
          16.1292142585595,
          16.6484841421922,
          16.2373660262108,
          14.9633448000431,
          15.5999654845079,
          15.3026416992823,
          16.4248249903997,
          16.1292142585595,
          15.259377858607,
          16.5041750168482,
          14.6231675918579,
          15.8612506584009,
          16.2014275407473,
          16.4610246256669,
          15.3750834262053,
          16.1292142585595,
          16.3096230423133,
          16.5041750168482,
          15.0717622514248,
          16.7636357422352,
          16.0134670670509,
          16.5403497751236,
          15.259377858607,
          15.0355859156132,
          15.7523365751584,
          15.4910722251415,
          16.3527976409276,
          15.9771902497292,
          16.7636357422352,
          15.9410113091946,
          15.8976467247486,
          15.5273608183543,
          16.4610246256669,
          16.1292142585595,
          15.8976467247486,
          16.1581030424118,
          15.7523365751584,
          16.2735179161708,
          16.6484841421922,
          14.8546405668735,
          14.6231675918579,
          15.0717622514248,
          16.3888502255758,
          15.4910722251415,
          16.5763679738522,
          16.7996555423419,
          16.3527976409276,
          15.8249821658611,
          15.1512648737113,
          15.9410113091946,
          14.4786733007113,
          15.1512648737113,
          15.9771902497292,
          14.8111200169404,
          16.0134670670509,
          15.636172500817,
          16.0134670670509,
          14.8111200169404,
          16.1292142585595,
          15.3750834262053,
          16.0497478003979,
          15.7885165011565,
          16.2735179161708,
          15.1151810005983,
          16.5763679738522,
          15.5636146680196,
          16.0497478003979,
          15.7885165011565,
          16.2014275407473,
          16.0134670670509,
          16.5041750168482,
          16.1581030424118,
          14.9995387986978,
          16.7996555423419,
          15.7885165011565,
          16.6484841421922,
          15.7523365751584,
          16.1581030424118,
          16.5403497751236,
          16.0858514086088,
          16.691637533474,
          15.1151810005983,
          16.5763679738522,
          16.1581030424118,
          16.1292142585595,
          16.5403497751236,
          15.9771902497292,
          15.3026416992823,
          16.0858514086088,
          16.7636357422352,
          15.0717622514248,
          16.0858514086088,
          16.3888502255758,
          16.0134670670509,
          15.3026416992823,
          15.4112789249102,
          16.2735179161708,
          14.8111200169404,
          14.6664618845463,
          16.2014275407473,
          15.3389776920954,
          14.9633448000431,
          16.1292142585595
         ],
         "yaxis": "y"
        }
       ],
       "layout": {
        "legend": {
         "tracegroupgap": 0
        },
        "margin": {
         "t": 60
        },
        "template": {
         "data": {
          "bar": [
           {
            "error_x": {
             "color": "#2a3f5f"
            },
            "error_y": {
             "color": "#2a3f5f"
            },
            "marker": {
             "line": {
              "color": "#E5ECF6",
              "width": 0.5
             }
            },
            "type": "bar"
           }
          ],
          "barpolar": [
           {
            "marker": {
             "line": {
              "color": "#E5ECF6",
              "width": 0.5
             }
            },
            "type": "barpolar"
           }
          ],
          "carpet": [
           {
            "aaxis": {
             "endlinecolor": "#2a3f5f",
             "gridcolor": "white",
             "linecolor": "white",
             "minorgridcolor": "white",
             "startlinecolor": "#2a3f5f"
            },
            "baxis": {
             "endlinecolor": "#2a3f5f",
             "gridcolor": "white",
             "linecolor": "white",
             "minorgridcolor": "white",
             "startlinecolor": "#2a3f5f"
            },
            "type": "carpet"
           }
          ],
          "choropleth": [
           {
            "colorbar": {
             "outlinewidth": 0,
             "ticks": ""
            },
            "type": "choropleth"
           }
          ],
          "contour": [
           {
            "colorbar": {
             "outlinewidth": 0,
             "ticks": ""
            },
            "colorscale": [
             [
              0,
              "#0d0887"
             ],
             [
              0.1111111111111111,
              "#46039f"
             ],
             [
              0.2222222222222222,
              "#7201a8"
             ],
             [
              0.3333333333333333,
              "#9c179e"
             ],
             [
              0.4444444444444444,
              "#bd3786"
             ],
             [
              0.5555555555555556,
              "#d8576b"
             ],
             [
              0.6666666666666666,
              "#ed7953"
             ],
             [
              0.7777777777777778,
              "#fb9f3a"
             ],
             [
              0.8888888888888888,
              "#fdca26"
             ],
             [
              1,
              "#f0f921"
             ]
            ],
            "type": "contour"
           }
          ],
          "contourcarpet": [
           {
            "colorbar": {
             "outlinewidth": 0,
             "ticks": ""
            },
            "type": "contourcarpet"
           }
          ],
          "heatmap": [
           {
            "colorbar": {
             "outlinewidth": 0,
             "ticks": ""
            },
            "colorscale": [
             [
              0,
              "#0d0887"
             ],
             [
              0.1111111111111111,
              "#46039f"
             ],
             [
              0.2222222222222222,
              "#7201a8"
             ],
             [
              0.3333333333333333,
              "#9c179e"
             ],
             [
              0.4444444444444444,
              "#bd3786"
             ],
             [
              0.5555555555555556,
              "#d8576b"
             ],
             [
              0.6666666666666666,
              "#ed7953"
             ],
             [
              0.7777777777777778,
              "#fb9f3a"
             ],
             [
              0.8888888888888888,
              "#fdca26"
             ],
             [
              1,
              "#f0f921"
             ]
            ],
            "type": "heatmap"
           }
          ],
          "heatmapgl": [
           {
            "colorbar": {
             "outlinewidth": 0,
             "ticks": ""
            },
            "colorscale": [
             [
              0,
              "#0d0887"
             ],
             [
              0.1111111111111111,
              "#46039f"
             ],
             [
              0.2222222222222222,
              "#7201a8"
             ],
             [
              0.3333333333333333,
              "#9c179e"
             ],
             [
              0.4444444444444444,
              "#bd3786"
             ],
             [
              0.5555555555555556,
              "#d8576b"
             ],
             [
              0.6666666666666666,
              "#ed7953"
             ],
             [
              0.7777777777777778,
              "#fb9f3a"
             ],
             [
              0.8888888888888888,
              "#fdca26"
             ],
             [
              1,
              "#f0f921"
             ]
            ],
            "type": "heatmapgl"
           }
          ],
          "histogram": [
           {
            "marker": {
             "colorbar": {
              "outlinewidth": 0,
              "ticks": ""
             }
            },
            "type": "histogram"
           }
          ],
          "histogram2d": [
           {
            "colorbar": {
             "outlinewidth": 0,
             "ticks": ""
            },
            "colorscale": [
             [
              0,
              "#0d0887"
             ],
             [
              0.1111111111111111,
              "#46039f"
             ],
             [
              0.2222222222222222,
              "#7201a8"
             ],
             [
              0.3333333333333333,
              "#9c179e"
             ],
             [
              0.4444444444444444,
              "#bd3786"
             ],
             [
              0.5555555555555556,
              "#d8576b"
             ],
             [
              0.6666666666666666,
              "#ed7953"
             ],
             [
              0.7777777777777778,
              "#fb9f3a"
             ],
             [
              0.8888888888888888,
              "#fdca26"
             ],
             [
              1,
              "#f0f921"
             ]
            ],
            "type": "histogram2d"
           }
          ],
          "histogram2dcontour": [
           {
            "colorbar": {
             "outlinewidth": 0,
             "ticks": ""
            },
            "colorscale": [
             [
              0,
              "#0d0887"
             ],
             [
              0.1111111111111111,
              "#46039f"
             ],
             [
              0.2222222222222222,
              "#7201a8"
             ],
             [
              0.3333333333333333,
              "#9c179e"
             ],
             [
              0.4444444444444444,
              "#bd3786"
             ],
             [
              0.5555555555555556,
              "#d8576b"
             ],
             [
              0.6666666666666666,
              "#ed7953"
             ],
             [
              0.7777777777777778,
              "#fb9f3a"
             ],
             [
              0.8888888888888888,
              "#fdca26"
             ],
             [
              1,
              "#f0f921"
             ]
            ],
            "type": "histogram2dcontour"
           }
          ],
          "mesh3d": [
           {
            "colorbar": {
             "outlinewidth": 0,
             "ticks": ""
            },
            "type": "mesh3d"
           }
          ],
          "parcoords": [
           {
            "line": {
             "colorbar": {
              "outlinewidth": 0,
              "ticks": ""
             }
            },
            "type": "parcoords"
           }
          ],
          "pie": [
           {
            "automargin": true,
            "type": "pie"
           }
          ],
          "scatter": [
           {
            "marker": {
             "colorbar": {
              "outlinewidth": 0,
              "ticks": ""
             }
            },
            "type": "scatter"
           }
          ],
          "scatter3d": [
           {
            "line": {
             "colorbar": {
              "outlinewidth": 0,
              "ticks": ""
             }
            },
            "marker": {
             "colorbar": {
              "outlinewidth": 0,
              "ticks": ""
             }
            },
            "type": "scatter3d"
           }
          ],
          "scattercarpet": [
           {
            "marker": {
             "colorbar": {
              "outlinewidth": 0,
              "ticks": ""
             }
            },
            "type": "scattercarpet"
           }
          ],
          "scattergeo": [
           {
            "marker": {
             "colorbar": {
              "outlinewidth": 0,
              "ticks": ""
             }
            },
            "type": "scattergeo"
           }
          ],
          "scattergl": [
           {
            "marker": {
             "colorbar": {
              "outlinewidth": 0,
              "ticks": ""
             }
            },
            "type": "scattergl"
           }
          ],
          "scattermapbox": [
           {
            "marker": {
             "colorbar": {
              "outlinewidth": 0,
              "ticks": ""
             }
            },
            "type": "scattermapbox"
           }
          ],
          "scatterpolar": [
           {
            "marker": {
             "colorbar": {
              "outlinewidth": 0,
              "ticks": ""
             }
            },
            "type": "scatterpolar"
           }
          ],
          "scatterpolargl": [
           {
            "marker": {
             "colorbar": {
              "outlinewidth": 0,
              "ticks": ""
             }
            },
            "type": "scatterpolargl"
           }
          ],
          "scatterternary": [
           {
            "marker": {
             "colorbar": {
              "outlinewidth": 0,
              "ticks": ""
             }
            },
            "type": "scatterternary"
           }
          ],
          "surface": [
           {
            "colorbar": {
             "outlinewidth": 0,
             "ticks": ""
            },
            "colorscale": [
             [
              0,
              "#0d0887"
             ],
             [
              0.1111111111111111,
              "#46039f"
             ],
             [
              0.2222222222222222,
              "#7201a8"
             ],
             [
              0.3333333333333333,
              "#9c179e"
             ],
             [
              0.4444444444444444,
              "#bd3786"
             ],
             [
              0.5555555555555556,
              "#d8576b"
             ],
             [
              0.6666666666666666,
              "#ed7953"
             ],
             [
              0.7777777777777778,
              "#fb9f3a"
             ],
             [
              0.8888888888888888,
              "#fdca26"
             ],
             [
              1,
              "#f0f921"
             ]
            ],
            "type": "surface"
           }
          ],
          "table": [
           {
            "cells": {
             "fill": {
              "color": "#EBF0F8"
             },
             "line": {
              "color": "white"
             }
            },
            "header": {
             "fill": {
              "color": "#C8D4E3"
             },
             "line": {
              "color": "white"
             }
            },
            "type": "table"
           }
          ]
         },
         "layout": {
          "annotationdefaults": {
           "arrowcolor": "#2a3f5f",
           "arrowhead": 0,
           "arrowwidth": 1
          },
          "autotypenumbers": "strict",
          "coloraxis": {
           "colorbar": {
            "outlinewidth": 0,
            "ticks": ""
           }
          },
          "colorscale": {
           "diverging": [
            [
             0,
             "#8e0152"
            ],
            [
             0.1,
             "#c51b7d"
            ],
            [
             0.2,
             "#de77ae"
            ],
            [
             0.3,
             "#f1b6da"
            ],
            [
             0.4,
             "#fde0ef"
            ],
            [
             0.5,
             "#f7f7f7"
            ],
            [
             0.6,
             "#e6f5d0"
            ],
            [
             0.7,
             "#b8e186"
            ],
            [
             0.8,
             "#7fbc41"
            ],
            [
             0.9,
             "#4d9221"
            ],
            [
             1,
             "#276419"
            ]
           ],
           "sequential": [
            [
             0,
             "#0d0887"
            ],
            [
             0.1111111111111111,
             "#46039f"
            ],
            [
             0.2222222222222222,
             "#7201a8"
            ],
            [
             0.3333333333333333,
             "#9c179e"
            ],
            [
             0.4444444444444444,
             "#bd3786"
            ],
            [
             0.5555555555555556,
             "#d8576b"
            ],
            [
             0.6666666666666666,
             "#ed7953"
            ],
            [
             0.7777777777777778,
             "#fb9f3a"
            ],
            [
             0.8888888888888888,
             "#fdca26"
            ],
            [
             1,
             "#f0f921"
            ]
           ],
           "sequentialminus": [
            [
             0,
             "#0d0887"
            ],
            [
             0.1111111111111111,
             "#46039f"
            ],
            [
             0.2222222222222222,
             "#7201a8"
            ],
            [
             0.3333333333333333,
             "#9c179e"
            ],
            [
             0.4444444444444444,
             "#bd3786"
            ],
            [
             0.5555555555555556,
             "#d8576b"
            ],
            [
             0.6666666666666666,
             "#ed7953"
            ],
            [
             0.7777777777777778,
             "#fb9f3a"
            ],
            [
             0.8888888888888888,
             "#fdca26"
            ],
            [
             1,
             "#f0f921"
            ]
           ]
          },
          "colorway": [
           "#636efa",
           "#EF553B",
           "#00cc96",
           "#ab63fa",
           "#FFA15A",
           "#19d3f3",
           "#FF6692",
           "#B6E880",
           "#FF97FF",
           "#FECB52"
          ],
          "font": {
           "color": "#2a3f5f"
          },
          "geo": {
           "bgcolor": "white",
           "lakecolor": "white",
           "landcolor": "#E5ECF6",
           "showlakes": true,
           "showland": true,
           "subunitcolor": "white"
          },
          "hoverlabel": {
           "align": "left"
          },
          "hovermode": "closest",
          "mapbox": {
           "style": "light"
          },
          "paper_bgcolor": "white",
          "plot_bgcolor": "#E5ECF6",
          "polar": {
           "angularaxis": {
            "gridcolor": "white",
            "linecolor": "white",
            "ticks": ""
           },
           "bgcolor": "#E5ECF6",
           "radialaxis": {
            "gridcolor": "white",
            "linecolor": "white",
            "ticks": ""
           }
          },
          "scene": {
           "xaxis": {
            "backgroundcolor": "#E5ECF6",
            "gridcolor": "white",
            "gridwidth": 2,
            "linecolor": "white",
            "showbackground": true,
            "ticks": "",
            "zerolinecolor": "white"
           },
           "yaxis": {
            "backgroundcolor": "#E5ECF6",
            "gridcolor": "white",
            "gridwidth": 2,
            "linecolor": "white",
            "showbackground": true,
            "ticks": "",
            "zerolinecolor": "white"
           },
           "zaxis": {
            "backgroundcolor": "#E5ECF6",
            "gridcolor": "white",
            "gridwidth": 2,
            "linecolor": "white",
            "showbackground": true,
            "ticks": "",
            "zerolinecolor": "white"
           }
          },
          "shapedefaults": {
           "line": {
            "color": "#2a3f5f"
           }
          },
          "ternary": {
           "aaxis": {
            "gridcolor": "white",
            "linecolor": "white",
            "ticks": ""
           },
           "baxis": {
            "gridcolor": "white",
            "linecolor": "white",
            "ticks": ""
           },
           "bgcolor": "#E5ECF6",
           "caxis": {
            "gridcolor": "white",
            "linecolor": "white",
            "ticks": ""
           }
          },
          "title": {
           "x": 0.05
          },
          "xaxis": {
           "automargin": true,
           "gridcolor": "white",
           "linecolor": "white",
           "ticks": "",
           "title": {
            "standoff": 15
           },
           "zerolinecolor": "white",
           "zerolinewidth": 2
          },
          "yaxis": {
           "automargin": true,
           "gridcolor": "white",
           "linecolor": "white",
           "ticks": "",
           "title": {
            "standoff": 15
           },
           "zerolinecolor": "white",
           "zerolinewidth": 2
          }
         }
        },
        "xaxis": {
         "anchor": "y",
         "domain": [
          0,
          1
         ],
         "title": {
          "text": "Mass"
         }
        },
        "yaxis": {
         "anchor": "x",
         "domain": [
          0,
          1
         ],
         "title": {
          "text": "RT"
         }
        }
       }
      },
      "text/html": [
       "<div>                            <div id=\"cbff5719-2dba-44d1-a7a9-226d8a7e3461\" class=\"plotly-graph-div\" style=\"height:525px; width:100%;\"></div>            <script type=\"text/javascript\">                require([\"plotly\"], function(Plotly) {                    window.PLOTLYENV=window.PLOTLYENV || {};                                    if (document.getElementById(\"cbff5719-2dba-44d1-a7a9-226d8a7e3461\")) {                    Plotly.newPlot(                        \"cbff5719-2dba-44d1-a7a9-226d8a7e3461\",                        [{\"hovertemplate\": \"Mass=%{x}<br>RT=%{y}<extra></extra>\", \"legendgroup\": \"\", \"marker\": {\"color\": \"#636efa\", \"symbol\": \"circle\"}, \"mode\": \"markers\", \"name\": \"\", \"orientation\": \"v\", \"showlegend\": false, \"type\": \"scatter\", \"x\": [7202.89032785763, 7547.9343695075, 8183.01327043116, 9139.13554949231, 8220.95766197938, 9790.22549866502, 8526.98825501024, 8490.04134534416, 7876.98807481585, 9828.17109028562, 8795.08509805035, 7240.83804668168, 7706.11556444666, 7586.88535742027, 7361.06956667474, 8715.2694777347, 8184.0177415301, 8396.20893469084, 8051.15963442209, 8794.087992654, 9034.31912964107, 8489.04114980822, 7744.06306084634, 7585.88633979977, 9178.08233208733, 7399.013355748, 7548.93722213006, 9484.18504246519, 8832.04355891232, 8434.15141675422, 7241.83736231899, 7530.93315259729, 8089.10874974591, 8753.22136468151, 8242.94213360997, 9789.22663009911, 7877.988148998, 7279.77629242812, 8205.00012733769, 7570.91258705153, 9485.18032524369, 9684.41278483674, 8512.01604433752, 9140.1406962283, 9522.14282831647, 9812.19090362678, 8471.03703102039, 7915.93601143296, 7184.88170883516, 9177.0779628738, 8258.90843860563, 8203.95782461389, 8816.04170098721, 7623.83249619113, 8037.14627262872, 7606.85659929811, 9377.30993756676, 7436.96487679135, 8817.05975345012, 8754.23696961436, 7225.86730849437, 7692.09674821751, 7131.9376020335, 9772.2178102705, 8870.97554290797, 8548.95211286103, 8564.9330589852, 9560.07318440236, 8833.03611696112, 7347.05096856884, 7858.97711226618, 7568.88323377873, 9161.12715417142, 9339.3722270638, 7259.80824354506, 9467.17217743486, 7782.00558062938, 8221.96483890515, 8852.0113757431, 9200.06693989432, 7569.89477135747, 8547.97700821097, 9160.10921722593, 9217.03009511131, 7437.96894308487, 9867.13434946211, 9073.27677588871, 9505.15947576825, 7743.0062018611, 7223.82617476349, 7936.91070109397, 7624.8348620938, 9122.14156163985, 9072.27655782257, 9865.12352219531, 8701.24366334486, 8700.22870056306, 8382.18912675631, 9162.09420623907, 9340.38063041134, 8739.19242266776, 8565.95245154173, 7899.96181110028, 8869.98182994942, 9506.15240153573, 8073.1343502922, 7728.08883920961, 7395.96954568843, 9059.26413029059, 8790.16076375875, 9544.10939956168, 9848.14824310985, 8853.0210623871, 8168.0094817405, 7693.0955584274, 8237.97576177272, 7383.04277254556, 7262.81160001338, 8198.01933107587, 7048.95166033292, 8510.01733210542, 8071.07328212496, 8549.95099230373, 7187.91695753967, 8531.9960620031, 7550.9095682295, 9110.21343389895, 8166.0054626806, 9121.1263547981, 7730.04842472469, 9670.40065007338, 7561.9535672604, 8474.03242529079, 8241.94182917523, 8503.05432165644, 9111.21416173762, 9195.06490902155, 9001.21160213033, 7385.00585535642, 9851.15237585196, 7952.87953012329, 9850.1267097722, 8188.00341632989, 9399.29597332295, 9709.32668772594, 8814.03912266663, 9982.32167395752, 7491.96437721846, 9636.27756194348, 9414.2753365697, 9394.29546596063, 9348.29482820607, 8226.96476650657, 8075.09336253202, 8583.90224271307, 9983.3450632934, 7354.00413291382, 9361.3254610385, 9345.27185096339, 9056.30195281779, 7529.9273792658, 8421.14387796888, 9347.26783289309, 8110.08478315286, 7990.11401908397, 8999.18625088996, 7837.99541931918, 7406.97263938036, 8723.16633015742], \"xaxis\": \"x\", \"y\": [15.18732298371, 15.4910722251415, 15.9771902497292, 16.4610246256669, 15.9410113091946, 16.7636357422352, 16.1292142585595, 16.0858514086088, 15.7885165011565, 16.7636357422352, 16.2373660262108, 15.259377858607, 14.6231675918579, 15.3750834262053, 14.4786733007113, 15.4910722251415, 15.8976467247486, 15.1151810005983, 14.8546405668735, 16.2735179161708, 16.0134670670509, 16.1581030424118, 14.6231675918579, 15.4474802668571, 16.4610246256669, 14.4786733007113, 15.3389776920954, 16.691637533474, 16.3527976409276, 15.1151810005983, 15.18732298371, 15.259377858607, 14.8546405668735, 15.4910722251415, 15.9410113091946, 16.7636357422352, 15.7523365751584, 15.2232808009466, 15.9410113091946, 15.4474802668571, 16.5763679738522, 16.1581030424118, 16.0858514086088, 16.3096230423133, 16.6125055010796, 16.7275664583524, 15.9410113091946, 15.7523365751584, 15.0355859156132, 16.5041750168482, 15.9410113091946, 15.7885165011565, 16.1581030424118, 15.4474802668571, 15.259377858607, 15.4474802668571, 16.1292142585595, 15.0355859156132, 16.2735179161708, 15.4474802668571, 15.259377858607, 15.0717622514248, 14.8111200169404, 16.6484841421922, 16.2735179161708, 16.0858514086088, 16.1292142585595, 16.6484841421922, 16.2373660262108, 14.9633448000431, 15.5999654845079, 15.3026416992823, 16.4248249903997, 16.1292142585595, 15.259377858607, 16.5041750168482, 14.6231675918579, 15.8612506584009, 16.2014275407473, 16.4610246256669, 15.3750834262053, 16.1292142585595, 16.3096230423133, 16.5041750168482, 15.0717622514248, 16.7636357422352, 16.0134670670509, 16.5403497751236, 15.259377858607, 15.0355859156132, 15.7523365751584, 15.4910722251415, 16.3527976409276, 15.9771902497292, 16.7636357422352, 15.9410113091946, 15.8976467247486, 15.5273608183543, 16.4610246256669, 16.1292142585595, 15.8976467247486, 16.1581030424118, 15.7523365751584, 16.2735179161708, 16.6484841421922, 14.8546405668735, 14.6231675918579, 15.0717622514248, 16.3888502255758, 15.4910722251415, 16.5763679738522, 16.7996555423419, 16.3527976409276, 15.8249821658611, 15.1512648737113, 15.9410113091946, 14.4786733007113, 15.1512648737113, 15.9771902497292, 14.8111200169404, 16.0134670670509, 15.636172500817, 16.0134670670509, 14.8111200169404, 16.1292142585595, 15.3750834262053, 16.0497478003979, 15.7885165011565, 16.2735179161708, 15.1151810005983, 16.5763679738522, 15.5636146680196, 16.0497478003979, 15.7885165011565, 16.2014275407473, 16.0134670670509, 16.5041750168482, 16.1581030424118, 14.9995387986978, 16.7996555423419, 15.7885165011565, 16.6484841421922, 15.7523365751584, 16.1581030424118, 16.5403497751236, 16.0858514086088, 16.691637533474, 15.1151810005983, 16.5763679738522, 16.1581030424118, 16.1292142585595, 16.5403497751236, 15.9771902497292, 15.3026416992823, 16.0858514086088, 16.7636357422352, 15.0717622514248, 16.0858514086088, 16.3888502255758, 16.0134670670509, 15.3026416992823, 15.4112789249102, 16.2735179161708, 14.8111200169404, 14.6664618845463, 16.2014275407473, 15.3389776920954, 14.9633448000431, 16.1292142585595], \"yaxis\": \"y\"}],                        {\"legend\": {\"tracegroupgap\": 0}, \"margin\": {\"t\": 60}, \"template\": {\"data\": {\"bar\": [{\"error_x\": {\"color\": \"#2a3f5f\"}, \"error_y\": {\"color\": \"#2a3f5f\"}, \"marker\": {\"line\": {\"color\": \"#E5ECF6\", \"width\": 0.5}}, \"type\": \"bar\"}], \"barpolar\": [{\"marker\": {\"line\": {\"color\": \"#E5ECF6\", \"width\": 0.5}}, \"type\": \"barpolar\"}], \"carpet\": [{\"aaxis\": {\"endlinecolor\": \"#2a3f5f\", \"gridcolor\": \"white\", \"linecolor\": \"white\", \"minorgridcolor\": \"white\", \"startlinecolor\": \"#2a3f5f\"}, \"baxis\": {\"endlinecolor\": \"#2a3f5f\", \"gridcolor\": \"white\", \"linecolor\": \"white\", \"minorgridcolor\": \"white\", \"startlinecolor\": \"#2a3f5f\"}, \"type\": \"carpet\"}], \"choropleth\": [{\"colorbar\": {\"outlinewidth\": 0, \"ticks\": \"\"}, \"type\": \"choropleth\"}], \"contour\": [{\"colorbar\": {\"outlinewidth\": 0, \"ticks\": \"\"}, \"colorscale\": [[0.0, \"#0d0887\"], [0.1111111111111111, \"#46039f\"], [0.2222222222222222, \"#7201a8\"], [0.3333333333333333, \"#9c179e\"], [0.4444444444444444, \"#bd3786\"], [0.5555555555555556, \"#d8576b\"], [0.6666666666666666, \"#ed7953\"], [0.7777777777777778, \"#fb9f3a\"], [0.8888888888888888, \"#fdca26\"], [1.0, \"#f0f921\"]], \"type\": \"contour\"}], \"contourcarpet\": [{\"colorbar\": {\"outlinewidth\": 0, \"ticks\": \"\"}, \"type\": \"contourcarpet\"}], \"heatmap\": [{\"colorbar\": {\"outlinewidth\": 0, \"ticks\": \"\"}, \"colorscale\": [[0.0, \"#0d0887\"], [0.1111111111111111, \"#46039f\"], [0.2222222222222222, \"#7201a8\"], [0.3333333333333333, \"#9c179e\"], [0.4444444444444444, \"#bd3786\"], [0.5555555555555556, \"#d8576b\"], [0.6666666666666666, \"#ed7953\"], [0.7777777777777778, \"#fb9f3a\"], [0.8888888888888888, \"#fdca26\"], [1.0, \"#f0f921\"]], \"type\": \"heatmap\"}], \"heatmapgl\": [{\"colorbar\": {\"outlinewidth\": 0, \"ticks\": \"\"}, \"colorscale\": [[0.0, \"#0d0887\"], [0.1111111111111111, \"#46039f\"], [0.2222222222222222, \"#7201a8\"], [0.3333333333333333, \"#9c179e\"], [0.4444444444444444, \"#bd3786\"], [0.5555555555555556, \"#d8576b\"], [0.6666666666666666, \"#ed7953\"], [0.7777777777777778, \"#fb9f3a\"], [0.8888888888888888, \"#fdca26\"], [1.0, \"#f0f921\"]], \"type\": \"heatmapgl\"}], \"histogram\": [{\"marker\": {\"colorbar\": {\"outlinewidth\": 0, \"ticks\": \"\"}}, \"type\": \"histogram\"}], \"histogram2d\": [{\"colorbar\": {\"outlinewidth\": 0, \"ticks\": \"\"}, \"colorscale\": [[0.0, \"#0d0887\"], [0.1111111111111111, \"#46039f\"], [0.2222222222222222, \"#7201a8\"], [0.3333333333333333, \"#9c179e\"], [0.4444444444444444, \"#bd3786\"], [0.5555555555555556, \"#d8576b\"], [0.6666666666666666, \"#ed7953\"], [0.7777777777777778, \"#fb9f3a\"], [0.8888888888888888, \"#fdca26\"], [1.0, \"#f0f921\"]], \"type\": \"histogram2d\"}], \"histogram2dcontour\": [{\"colorbar\": {\"outlinewidth\": 0, \"ticks\": \"\"}, \"colorscale\": [[0.0, \"#0d0887\"], [0.1111111111111111, \"#46039f\"], [0.2222222222222222, \"#7201a8\"], [0.3333333333333333, \"#9c179e\"], [0.4444444444444444, \"#bd3786\"], [0.5555555555555556, \"#d8576b\"], [0.6666666666666666, \"#ed7953\"], [0.7777777777777778, \"#fb9f3a\"], [0.8888888888888888, \"#fdca26\"], [1.0, \"#f0f921\"]], \"type\": \"histogram2dcontour\"}], \"mesh3d\": [{\"colorbar\": {\"outlinewidth\": 0, \"ticks\": \"\"}, \"type\": \"mesh3d\"}], \"parcoords\": [{\"line\": {\"colorbar\": {\"outlinewidth\": 0, \"ticks\": \"\"}}, \"type\": \"parcoords\"}], \"pie\": [{\"automargin\": true, \"type\": \"pie\"}], \"scatter\": [{\"marker\": {\"colorbar\": {\"outlinewidth\": 0, \"ticks\": \"\"}}, \"type\": \"scatter\"}], \"scatter3d\": [{\"line\": {\"colorbar\": {\"outlinewidth\": 0, \"ticks\": \"\"}}, \"marker\": {\"colorbar\": {\"outlinewidth\": 0, \"ticks\": \"\"}}, \"type\": \"scatter3d\"}], \"scattercarpet\": [{\"marker\": {\"colorbar\": {\"outlinewidth\": 0, \"ticks\": \"\"}}, \"type\": \"scattercarpet\"}], \"scattergeo\": [{\"marker\": {\"colorbar\": {\"outlinewidth\": 0, \"ticks\": \"\"}}, \"type\": \"scattergeo\"}], \"scattergl\": [{\"marker\": {\"colorbar\": {\"outlinewidth\": 0, \"ticks\": \"\"}}, \"type\": \"scattergl\"}], \"scattermapbox\": [{\"marker\": {\"colorbar\": {\"outlinewidth\": 0, \"ticks\": \"\"}}, \"type\": \"scattermapbox\"}], \"scatterpolar\": [{\"marker\": {\"colorbar\": {\"outlinewidth\": 0, \"ticks\": \"\"}}, \"type\": \"scatterpolar\"}], \"scatterpolargl\": [{\"marker\": {\"colorbar\": {\"outlinewidth\": 0, \"ticks\": \"\"}}, \"type\": \"scatterpolargl\"}], \"scatterternary\": [{\"marker\": {\"colorbar\": {\"outlinewidth\": 0, \"ticks\": \"\"}}, \"type\": \"scatterternary\"}], \"surface\": [{\"colorbar\": {\"outlinewidth\": 0, \"ticks\": \"\"}, \"colorscale\": [[0.0, \"#0d0887\"], [0.1111111111111111, \"#46039f\"], [0.2222222222222222, \"#7201a8\"], [0.3333333333333333, \"#9c179e\"], [0.4444444444444444, \"#bd3786\"], [0.5555555555555556, \"#d8576b\"], [0.6666666666666666, \"#ed7953\"], [0.7777777777777778, \"#fb9f3a\"], [0.8888888888888888, \"#fdca26\"], [1.0, \"#f0f921\"]], \"type\": \"surface\"}], \"table\": [{\"cells\": {\"fill\": {\"color\": \"#EBF0F8\"}, \"line\": {\"color\": \"white\"}}, \"header\": {\"fill\": {\"color\": \"#C8D4E3\"}, \"line\": {\"color\": \"white\"}}, \"type\": \"table\"}]}, \"layout\": {\"annotationdefaults\": {\"arrowcolor\": \"#2a3f5f\", \"arrowhead\": 0, \"arrowwidth\": 1}, \"autotypenumbers\": \"strict\", \"coloraxis\": {\"colorbar\": {\"outlinewidth\": 0, \"ticks\": \"\"}}, \"colorscale\": {\"diverging\": [[0, \"#8e0152\"], [0.1, \"#c51b7d\"], [0.2, \"#de77ae\"], [0.3, \"#f1b6da\"], [0.4, \"#fde0ef\"], [0.5, \"#f7f7f7\"], [0.6, \"#e6f5d0\"], [0.7, \"#b8e186\"], [0.8, \"#7fbc41\"], [0.9, \"#4d9221\"], [1, \"#276419\"]], \"sequential\": [[0.0, \"#0d0887\"], [0.1111111111111111, \"#46039f\"], [0.2222222222222222, \"#7201a8\"], [0.3333333333333333, \"#9c179e\"], [0.4444444444444444, \"#bd3786\"], [0.5555555555555556, \"#d8576b\"], [0.6666666666666666, \"#ed7953\"], [0.7777777777777778, \"#fb9f3a\"], [0.8888888888888888, \"#fdca26\"], [1.0, \"#f0f921\"]], \"sequentialminus\": [[0.0, \"#0d0887\"], [0.1111111111111111, \"#46039f\"], [0.2222222222222222, \"#7201a8\"], [0.3333333333333333, \"#9c179e\"], [0.4444444444444444, \"#bd3786\"], [0.5555555555555556, \"#d8576b\"], [0.6666666666666666, \"#ed7953\"], [0.7777777777777778, \"#fb9f3a\"], [0.8888888888888888, \"#fdca26\"], [1.0, \"#f0f921\"]]}, \"colorway\": [\"#636efa\", \"#EF553B\", \"#00cc96\", \"#ab63fa\", \"#FFA15A\", \"#19d3f3\", \"#FF6692\", \"#B6E880\", \"#FF97FF\", \"#FECB52\"], \"font\": {\"color\": \"#2a3f5f\"}, \"geo\": {\"bgcolor\": \"white\", \"lakecolor\": \"white\", \"landcolor\": \"#E5ECF6\", \"showlakes\": true, \"showland\": true, \"subunitcolor\": \"white\"}, \"hoverlabel\": {\"align\": \"left\"}, \"hovermode\": \"closest\", \"mapbox\": {\"style\": \"light\"}, \"paper_bgcolor\": \"white\", \"plot_bgcolor\": \"#E5ECF6\", \"polar\": {\"angularaxis\": {\"gridcolor\": \"white\", \"linecolor\": \"white\", \"ticks\": \"\"}, \"bgcolor\": \"#E5ECF6\", \"radialaxis\": {\"gridcolor\": \"white\", \"linecolor\": \"white\", \"ticks\": \"\"}}, \"scene\": {\"xaxis\": {\"backgroundcolor\": \"#E5ECF6\", \"gridcolor\": \"white\", \"gridwidth\": 2, \"linecolor\": \"white\", \"showbackground\": true, \"ticks\": \"\", \"zerolinecolor\": \"white\"}, \"yaxis\": {\"backgroundcolor\": \"#E5ECF6\", \"gridcolor\": \"white\", \"gridwidth\": 2, \"linecolor\": \"white\", \"showbackground\": true, \"ticks\": \"\", \"zerolinecolor\": \"white\"}, \"zaxis\": {\"backgroundcolor\": \"#E5ECF6\", \"gridcolor\": \"white\", \"gridwidth\": 2, \"linecolor\": \"white\", \"showbackground\": true, \"ticks\": \"\", \"zerolinecolor\": \"white\"}}, \"shapedefaults\": {\"line\": {\"color\": \"#2a3f5f\"}}, \"ternary\": {\"aaxis\": {\"gridcolor\": \"white\", \"linecolor\": \"white\", \"ticks\": \"\"}, \"baxis\": {\"gridcolor\": \"white\", \"linecolor\": \"white\", \"ticks\": \"\"}, \"bgcolor\": \"#E5ECF6\", \"caxis\": {\"gridcolor\": \"white\", \"linecolor\": \"white\", \"ticks\": \"\"}}, \"title\": {\"x\": 0.05}, \"xaxis\": {\"automargin\": true, \"gridcolor\": \"white\", \"linecolor\": \"white\", \"ticks\": \"\", \"title\": {\"standoff\": 15}, \"zerolinecolor\": \"white\", \"zerolinewidth\": 2}, \"yaxis\": {\"automargin\": true, \"gridcolor\": \"white\", \"linecolor\": \"white\", \"ticks\": \"\", \"title\": {\"standoff\": 15}, \"zerolinecolor\": \"white\", \"zerolinewidth\": 2}}}, \"xaxis\": {\"anchor\": \"y\", \"domain\": [0.0, 1.0], \"title\": {\"text\": \"Mass\"}}, \"yaxis\": {\"anchor\": \"x\", \"domain\": [0.0, 1.0], \"title\": {\"text\": \"RT\"}}},                        {\"responsive\": true}                    ).then(function(){\n",
       "                            \n",
       "var gd = document.getElementById('cbff5719-2dba-44d1-a7a9-226d8a7e3461');\n",
       "var x = new MutationObserver(function (mutations, observer) {{\n",
       "        var display = window.getComputedStyle(gd).display;\n",
       "        if (!display || display === 'none') {{\n",
       "            console.log([gd, 'removed!']);\n",
       "            Plotly.purge(gd);\n",
       "            observer.disconnect();\n",
       "        }}\n",
       "}});\n",
       "\n",
       "// Listen for the removal of the full notebook cells\n",
       "var notebookContainer = gd.closest('#notebook-container');\n",
       "if (notebookContainer) {{\n",
       "    x.observe(notebookContainer, {childList: true});\n",
       "}}\n",
       "\n",
       "// Listen for the clearing of the current output cell\n",
       "var outputEl = gd.closest('.output');\n",
       "if (outputEl) {{\n",
       "    x.observe(outputEl, {childList: true});\n",
       "}}\n",
       "\n",
       "                        })                };                });            </script>        </div>"
      ]
     },
     "metadata": {},
     "output_type": "display_data"
    }
   ],
   "source": [
    "## Batch 1 24k area\n",
    "# dfa_24k = dfa[(dfa.Mass>24000)]\n",
    "# dfa_alkb_24k = dfa_alkb[(dfa_alkb.Mass>24000)]\n",
    "# plotly_zone(dfa_24k, y='Vol')\n",
    "# plotly_zone(dfa_alkb_24k, y='Vol')\n",
    "\n",
    "## Batch 2 24k area\n",
    "# dfb_24k = dfb[(dfb.Mass>24000)]\n",
    "# dfb_alkb_24k = dfb_alkb[(dfb_alkb.Mass>24000)]\n",
    "# plotly_zone(dfb_24k, y='Vol')\n",
    "# plotly_zone(dfb_alkb_24k, y='Vol')\n",
    "\n",
    "## Batch 1 AD \n",
    "# dfb_24k = dfb[(dfb.Mass>24000)]\n",
    "# dfb_alkb_24k = dfb_alkb[(dfb_alkb.Mass>24000)]\n",
    "# plotly_zone(dfb, y='Vol')\n",
    "# plotly_zone(dfb_alkb, y='Vol')\n",
    "\n",
    "## Batch 2 AD \n",
    "# dfb_ad_24k = dfb_ad[(dfb_ad.Mass>24000)]\n",
    "# dfb_ad_alkb_24k = dfb_ad_alkb[(dfb_ad_alkb.Mass>24000)]\n",
    "# plotly_zone(dfa_ad_alkb, y='RT')\n",
    "# plotly_zone(dfb_ad_alkb, y='RT')\n",
    "\n",
    "dfa_ad_zone = dfa_ad[(dfa_ad.Mass>7000)&(dfa_ad.Mass<10000)]\n",
    "dfb_ad_zone = dfb_ad[(dfb_ad.Mass>7000)&(dfb_ad.Mass<10000)&(dfb_ad.RT>1)&(dfb_ad.RT<17)]\n",
    "plotly_zone(dfa_ad_zone, y='RT')\n",
    "plotly_zone(dfb_ad_zone, y='RT')"
   ]
  },
  {
   "cell_type": "code",
   "execution_count": 42,
   "id": "possible-extreme",
   "metadata": {},
   "outputs": [
    {
     "data": {
      "application/vnd.plotly.v1+json": {
       "config": {
        "plotlyServerURL": "https://plot.ly"
       },
       "data": [
        {
         "hovertemplate": "type=Batch1<br>Mass=%{x}<br>RT=%{y}<extra></extra>",
         "legendgroup": "Batch1",
         "marker": {
          "color": "#636efa",
          "symbol": "circle"
         },
         "mode": "markers",
         "name": "Batch1",
         "orientation": "v",
         "showlegend": true,
         "type": "scatter",
         "x": [
          24203.2916040982,
          23954.1804276622,
          21650.9490075158,
          21321.8383748468,
          21016.797076537,
          20710.8059358938,
          20365.7254155201,
          20020.6904823035,
          19715.6623501783,
          19410.585246968,
          19105.5447430927,
          18799.5305649653,
          18493.4772504122,
          18164.4442988041,
          17819.376519456,
          17514.3596873992,
          16874.265573306,
          16529.2111161203,
          16184.1921942972,
          15839.1358382644,
          15520.074088164,
          15201.016812083,
          14895.9659506023,
          14205.8888670503,
          13900.8359890791,
          13555.7722581662,
          13250.7251393651,
          12945.6887581111,
          12600.6290203153,
          11990.5308687932,
          11661.4740009048,
          11356.4193246374,
          11050.3955913539,
          10745.3577000853,
          10439.3257619671,
          10134.2957447306,
          9789.24791942361,
          9484.20147791539,
          9139.16614762801,
          8794.09453026046,
          8489.05761677372,
          8183.02554113931,
          7877.00503640586,
          7547.94985155635,
          7202.9073359226,
          6857.8563757827,
          6528.8038599638,
          6220.75893765106,
          5912.71685354718,
          5222.62185081536,
          4916.59808848916,
          4571.5358329871,
          4242.49591358417,
          4242.49116884506
         ],
         "xaxis": "x",
         "y": [
          23.7975307758331,
          23.6995799835205,
          23.3935082510789,
          23.2944109336217,
          23.2447299337069,
          23.1456492161433,
          23.0966003671964,
          23.0966003671964,
          22.9985007083098,
          22.9489889081001,
          22.8998480415026,
          22.8019311264833,
          22.8998480415026,
          22.7027550991058,
          22.6531067426682,
          22.5540225839297,
          22.4050397828897,
          22.305697951285,
          22.2560124174436,
          22.2063129261812,
          22.1069159920692,
          22.0572177326361,
          21.9495379920483,
          21.7424615994771,
          21.6430646991412,
          21.4939697181861,
          21.4442714746475,
          21.3448748842557,
          21.1957796668688,
          21.0466844991525,
          20.7484936252912,
          20.7981923079173,
          20.5000024830977,
          20.4006050999641,
          20.2515098766168,
          20.1024153347492,
          19.9533200736523,
          19.7545266087532,
          19.6054228082975,
          19.3072246845245,
          19.1498464162827,
          18.8930711324692,
          18.6445793246905,
          18.1475953753471,
          17.7997069592953,
          17.4021197096189,
          16.6069458837986,
          15.5467138842424,
          14.204857533741,
          1.3547395403862,
          1.19926563259761,
          1.10028566675186,
          1.10028566675186,
          13.6995905673186
         ],
         "yaxis": "y"
        },
        {
         "hovertemplate": "type=Batch3<br>Mass=%{x}<br>RT=%{y}<extra></extra>",
         "legendgroup": "Batch3",
         "marker": {
          "color": "#EF553B",
          "symbol": "circle"
         },
         "mode": "markers",
         "name": "Batch3",
         "orientation": "v",
         "showlegend": true,
         "type": "scatter",
         "x": [
          4242.47886654313,
          2635.29072544204,
          2329.26403566954,
          3936.45342338065,
          3631.41174307586,
          24203.1607742977,
          5222.60479236492,
          4571.52938613143,
          6528.7832733723,
          2980.33805218022,
          4916.57921847177,
          6220.74080680678,
          3325.3846879753,
          7202.89070840819,
          8183.01026314414,
          6857.83612472902,
          9139.15139571762,
          5912.69995386829,
          5567.65202118988,
          1984.21630961812,
          8794.08411972788,
          8489.03673933454,
          7876.98409215749,
          10439.2991618954,
          10745.3419649165,
          11356.4353442606,
          9484.17484482664,
          9789.24915970905,
          11050.3877175941,
          13555.749540874,
          10134.2708137591,
          13900.8120433257,
          12945.6627248134,
          14895.9061356758,
          17514.2818060766,
          14205.8230411644,
          15200.9620885319,
          7547.92948439711,
          13250.7255016082,
          16184.0944888297,
          11990.4999804882,
          14550.8866386746,
          11661.4393357706,
          16529.1199506954,
          18799.4586960484,
          19410.4850097845,
          18164.3479966312,
          16874.1868127079,
          23954.0807547898
         ],
         "xaxis": "x",
         "y": [
          11.3946824864229,
          2.35042255279223,
          1.35331189390818,
          10.8501115357558,
          10.0001962697188,
          19.9006463781675,
          13.2008065199534,
          12.3505774612904,
          14.4983041778882,
          4.89890669541359,
          12.7975431775729,
          14.2502431865215,
          8.75456866181691,
          15.2034749106248,
          15.8948396360556,
          14.9500933702469,
          16.3962323780537,
          13.951164994208,
          13.7039136445204,
          1.09902909553846,
          16.2531933621248,
          16.0959553038756,
          15.6998203352769,
          16.9983260368983,
          17.1456405357202,
          17.3986328617414,
          16.5954365447839,
          16.6946649109999,
          17.3000654275894,
          18.1013694679419,
          16.8995118434906,
          18.1490621781031,
          17.9030770178318,
          18.4548025782585,
          18.9485183711529,
          18.2985689774831,
          18.4953146274567,
          15.5487364367326,
          18.0470236277262,
          18.7495013868491,
          17.595881628561,
          18.4006968871435,
          17.595881628561,
          18.7495013868491,
          19.1981348112901,
          19.3468598361492,
          19.0537902033011,
          18.8954182958285,
          19.9471833701611
         ],
         "yaxis": "y"
        }
       ],
       "layout": {
        "legend": {
         "title": {
          "text": "type"
         },
         "tracegroupgap": 0
        },
        "margin": {
         "t": 60
        },
        "template": {
         "data": {
          "bar": [
           {
            "error_x": {
             "color": "#2a3f5f"
            },
            "error_y": {
             "color": "#2a3f5f"
            },
            "marker": {
             "line": {
              "color": "#E5ECF6",
              "width": 0.5
             }
            },
            "type": "bar"
           }
          ],
          "barpolar": [
           {
            "marker": {
             "line": {
              "color": "#E5ECF6",
              "width": 0.5
             }
            },
            "type": "barpolar"
           }
          ],
          "carpet": [
           {
            "aaxis": {
             "endlinecolor": "#2a3f5f",
             "gridcolor": "white",
             "linecolor": "white",
             "minorgridcolor": "white",
             "startlinecolor": "#2a3f5f"
            },
            "baxis": {
             "endlinecolor": "#2a3f5f",
             "gridcolor": "white",
             "linecolor": "white",
             "minorgridcolor": "white",
             "startlinecolor": "#2a3f5f"
            },
            "type": "carpet"
           }
          ],
          "choropleth": [
           {
            "colorbar": {
             "outlinewidth": 0,
             "ticks": ""
            },
            "type": "choropleth"
           }
          ],
          "contour": [
           {
            "colorbar": {
             "outlinewidth": 0,
             "ticks": ""
            },
            "colorscale": [
             [
              0,
              "#0d0887"
             ],
             [
              0.1111111111111111,
              "#46039f"
             ],
             [
              0.2222222222222222,
              "#7201a8"
             ],
             [
              0.3333333333333333,
              "#9c179e"
             ],
             [
              0.4444444444444444,
              "#bd3786"
             ],
             [
              0.5555555555555556,
              "#d8576b"
             ],
             [
              0.6666666666666666,
              "#ed7953"
             ],
             [
              0.7777777777777778,
              "#fb9f3a"
             ],
             [
              0.8888888888888888,
              "#fdca26"
             ],
             [
              1,
              "#f0f921"
             ]
            ],
            "type": "contour"
           }
          ],
          "contourcarpet": [
           {
            "colorbar": {
             "outlinewidth": 0,
             "ticks": ""
            },
            "type": "contourcarpet"
           }
          ],
          "heatmap": [
           {
            "colorbar": {
             "outlinewidth": 0,
             "ticks": ""
            },
            "colorscale": [
             [
              0,
              "#0d0887"
             ],
             [
              0.1111111111111111,
              "#46039f"
             ],
             [
              0.2222222222222222,
              "#7201a8"
             ],
             [
              0.3333333333333333,
              "#9c179e"
             ],
             [
              0.4444444444444444,
              "#bd3786"
             ],
             [
              0.5555555555555556,
              "#d8576b"
             ],
             [
              0.6666666666666666,
              "#ed7953"
             ],
             [
              0.7777777777777778,
              "#fb9f3a"
             ],
             [
              0.8888888888888888,
              "#fdca26"
             ],
             [
              1,
              "#f0f921"
             ]
            ],
            "type": "heatmap"
           }
          ],
          "heatmapgl": [
           {
            "colorbar": {
             "outlinewidth": 0,
             "ticks": ""
            },
            "colorscale": [
             [
              0,
              "#0d0887"
             ],
             [
              0.1111111111111111,
              "#46039f"
             ],
             [
              0.2222222222222222,
              "#7201a8"
             ],
             [
              0.3333333333333333,
              "#9c179e"
             ],
             [
              0.4444444444444444,
              "#bd3786"
             ],
             [
              0.5555555555555556,
              "#d8576b"
             ],
             [
              0.6666666666666666,
              "#ed7953"
             ],
             [
              0.7777777777777778,
              "#fb9f3a"
             ],
             [
              0.8888888888888888,
              "#fdca26"
             ],
             [
              1,
              "#f0f921"
             ]
            ],
            "type": "heatmapgl"
           }
          ],
          "histogram": [
           {
            "marker": {
             "colorbar": {
              "outlinewidth": 0,
              "ticks": ""
             }
            },
            "type": "histogram"
           }
          ],
          "histogram2d": [
           {
            "colorbar": {
             "outlinewidth": 0,
             "ticks": ""
            },
            "colorscale": [
             [
              0,
              "#0d0887"
             ],
             [
              0.1111111111111111,
              "#46039f"
             ],
             [
              0.2222222222222222,
              "#7201a8"
             ],
             [
              0.3333333333333333,
              "#9c179e"
             ],
             [
              0.4444444444444444,
              "#bd3786"
             ],
             [
              0.5555555555555556,
              "#d8576b"
             ],
             [
              0.6666666666666666,
              "#ed7953"
             ],
             [
              0.7777777777777778,
              "#fb9f3a"
             ],
             [
              0.8888888888888888,
              "#fdca26"
             ],
             [
              1,
              "#f0f921"
             ]
            ],
            "type": "histogram2d"
           }
          ],
          "histogram2dcontour": [
           {
            "colorbar": {
             "outlinewidth": 0,
             "ticks": ""
            },
            "colorscale": [
             [
              0,
              "#0d0887"
             ],
             [
              0.1111111111111111,
              "#46039f"
             ],
             [
              0.2222222222222222,
              "#7201a8"
             ],
             [
              0.3333333333333333,
              "#9c179e"
             ],
             [
              0.4444444444444444,
              "#bd3786"
             ],
             [
              0.5555555555555556,
              "#d8576b"
             ],
             [
              0.6666666666666666,
              "#ed7953"
             ],
             [
              0.7777777777777778,
              "#fb9f3a"
             ],
             [
              0.8888888888888888,
              "#fdca26"
             ],
             [
              1,
              "#f0f921"
             ]
            ],
            "type": "histogram2dcontour"
           }
          ],
          "mesh3d": [
           {
            "colorbar": {
             "outlinewidth": 0,
             "ticks": ""
            },
            "type": "mesh3d"
           }
          ],
          "parcoords": [
           {
            "line": {
             "colorbar": {
              "outlinewidth": 0,
              "ticks": ""
             }
            },
            "type": "parcoords"
           }
          ],
          "pie": [
           {
            "automargin": true,
            "type": "pie"
           }
          ],
          "scatter": [
           {
            "marker": {
             "colorbar": {
              "outlinewidth": 0,
              "ticks": ""
             }
            },
            "type": "scatter"
           }
          ],
          "scatter3d": [
           {
            "line": {
             "colorbar": {
              "outlinewidth": 0,
              "ticks": ""
             }
            },
            "marker": {
             "colorbar": {
              "outlinewidth": 0,
              "ticks": ""
             }
            },
            "type": "scatter3d"
           }
          ],
          "scattercarpet": [
           {
            "marker": {
             "colorbar": {
              "outlinewidth": 0,
              "ticks": ""
             }
            },
            "type": "scattercarpet"
           }
          ],
          "scattergeo": [
           {
            "marker": {
             "colorbar": {
              "outlinewidth": 0,
              "ticks": ""
             }
            },
            "type": "scattergeo"
           }
          ],
          "scattergl": [
           {
            "marker": {
             "colorbar": {
              "outlinewidth": 0,
              "ticks": ""
             }
            },
            "type": "scattergl"
           }
          ],
          "scattermapbox": [
           {
            "marker": {
             "colorbar": {
              "outlinewidth": 0,
              "ticks": ""
             }
            },
            "type": "scattermapbox"
           }
          ],
          "scatterpolar": [
           {
            "marker": {
             "colorbar": {
              "outlinewidth": 0,
              "ticks": ""
             }
            },
            "type": "scatterpolar"
           }
          ],
          "scatterpolargl": [
           {
            "marker": {
             "colorbar": {
              "outlinewidth": 0,
              "ticks": ""
             }
            },
            "type": "scatterpolargl"
           }
          ],
          "scatterternary": [
           {
            "marker": {
             "colorbar": {
              "outlinewidth": 0,
              "ticks": ""
             }
            },
            "type": "scatterternary"
           }
          ],
          "surface": [
           {
            "colorbar": {
             "outlinewidth": 0,
             "ticks": ""
            },
            "colorscale": [
             [
              0,
              "#0d0887"
             ],
             [
              0.1111111111111111,
              "#46039f"
             ],
             [
              0.2222222222222222,
              "#7201a8"
             ],
             [
              0.3333333333333333,
              "#9c179e"
             ],
             [
              0.4444444444444444,
              "#bd3786"
             ],
             [
              0.5555555555555556,
              "#d8576b"
             ],
             [
              0.6666666666666666,
              "#ed7953"
             ],
             [
              0.7777777777777778,
              "#fb9f3a"
             ],
             [
              0.8888888888888888,
              "#fdca26"
             ],
             [
              1,
              "#f0f921"
             ]
            ],
            "type": "surface"
           }
          ],
          "table": [
           {
            "cells": {
             "fill": {
              "color": "#EBF0F8"
             },
             "line": {
              "color": "white"
             }
            },
            "header": {
             "fill": {
              "color": "#C8D4E3"
             },
             "line": {
              "color": "white"
             }
            },
            "type": "table"
           }
          ]
         },
         "layout": {
          "annotationdefaults": {
           "arrowcolor": "#2a3f5f",
           "arrowhead": 0,
           "arrowwidth": 1
          },
          "autotypenumbers": "strict",
          "coloraxis": {
           "colorbar": {
            "outlinewidth": 0,
            "ticks": ""
           }
          },
          "colorscale": {
           "diverging": [
            [
             0,
             "#8e0152"
            ],
            [
             0.1,
             "#c51b7d"
            ],
            [
             0.2,
             "#de77ae"
            ],
            [
             0.3,
             "#f1b6da"
            ],
            [
             0.4,
             "#fde0ef"
            ],
            [
             0.5,
             "#f7f7f7"
            ],
            [
             0.6,
             "#e6f5d0"
            ],
            [
             0.7,
             "#b8e186"
            ],
            [
             0.8,
             "#7fbc41"
            ],
            [
             0.9,
             "#4d9221"
            ],
            [
             1,
             "#276419"
            ]
           ],
           "sequential": [
            [
             0,
             "#0d0887"
            ],
            [
             0.1111111111111111,
             "#46039f"
            ],
            [
             0.2222222222222222,
             "#7201a8"
            ],
            [
             0.3333333333333333,
             "#9c179e"
            ],
            [
             0.4444444444444444,
             "#bd3786"
            ],
            [
             0.5555555555555556,
             "#d8576b"
            ],
            [
             0.6666666666666666,
             "#ed7953"
            ],
            [
             0.7777777777777778,
             "#fb9f3a"
            ],
            [
             0.8888888888888888,
             "#fdca26"
            ],
            [
             1,
             "#f0f921"
            ]
           ],
           "sequentialminus": [
            [
             0,
             "#0d0887"
            ],
            [
             0.1111111111111111,
             "#46039f"
            ],
            [
             0.2222222222222222,
             "#7201a8"
            ],
            [
             0.3333333333333333,
             "#9c179e"
            ],
            [
             0.4444444444444444,
             "#bd3786"
            ],
            [
             0.5555555555555556,
             "#d8576b"
            ],
            [
             0.6666666666666666,
             "#ed7953"
            ],
            [
             0.7777777777777778,
             "#fb9f3a"
            ],
            [
             0.8888888888888888,
             "#fdca26"
            ],
            [
             1,
             "#f0f921"
            ]
           ]
          },
          "colorway": [
           "#636efa",
           "#EF553B",
           "#00cc96",
           "#ab63fa",
           "#FFA15A",
           "#19d3f3",
           "#FF6692",
           "#B6E880",
           "#FF97FF",
           "#FECB52"
          ],
          "font": {
           "color": "#2a3f5f"
          },
          "geo": {
           "bgcolor": "white",
           "lakecolor": "white",
           "landcolor": "#E5ECF6",
           "showlakes": true,
           "showland": true,
           "subunitcolor": "white"
          },
          "hoverlabel": {
           "align": "left"
          },
          "hovermode": "closest",
          "mapbox": {
           "style": "light"
          },
          "paper_bgcolor": "white",
          "plot_bgcolor": "#E5ECF6",
          "polar": {
           "angularaxis": {
            "gridcolor": "white",
            "linecolor": "white",
            "ticks": ""
           },
           "bgcolor": "#E5ECF6",
           "radialaxis": {
            "gridcolor": "white",
            "linecolor": "white",
            "ticks": ""
           }
          },
          "scene": {
           "xaxis": {
            "backgroundcolor": "#E5ECF6",
            "gridcolor": "white",
            "gridwidth": 2,
            "linecolor": "white",
            "showbackground": true,
            "ticks": "",
            "zerolinecolor": "white"
           },
           "yaxis": {
            "backgroundcolor": "#E5ECF6",
            "gridcolor": "white",
            "gridwidth": 2,
            "linecolor": "white",
            "showbackground": true,
            "ticks": "",
            "zerolinecolor": "white"
           },
           "zaxis": {
            "backgroundcolor": "#E5ECF6",
            "gridcolor": "white",
            "gridwidth": 2,
            "linecolor": "white",
            "showbackground": true,
            "ticks": "",
            "zerolinecolor": "white"
           }
          },
          "shapedefaults": {
           "line": {
            "color": "#2a3f5f"
           }
          },
          "ternary": {
           "aaxis": {
            "gridcolor": "white",
            "linecolor": "white",
            "ticks": ""
           },
           "baxis": {
            "gridcolor": "white",
            "linecolor": "white",
            "ticks": ""
           },
           "bgcolor": "#E5ECF6",
           "caxis": {
            "gridcolor": "white",
            "linecolor": "white",
            "ticks": ""
           }
          },
          "title": {
           "x": 0.05
          },
          "xaxis": {
           "automargin": true,
           "gridcolor": "white",
           "linecolor": "white",
           "ticks": "",
           "title": {
            "standoff": 15
           },
           "zerolinecolor": "white",
           "zerolinewidth": 2
          },
          "yaxis": {
           "automargin": true,
           "gridcolor": "white",
           "linecolor": "white",
           "ticks": "",
           "title": {
            "standoff": 15
           },
           "zerolinecolor": "white",
           "zerolinewidth": 2
          }
         }
        },
        "xaxis": {
         "anchor": "y",
         "domain": [
          0,
          1
         ],
         "title": {
          "text": "Mass"
         }
        },
        "yaxis": {
         "anchor": "x",
         "domain": [
          0,
          1
         ],
         "title": {
          "text": "RT"
         }
        }
       }
      },
      "text/html": [
       "<div>                            <div id=\"4f14c92b-902b-4f93-addd-f2d68f6355bf\" class=\"plotly-graph-div\" style=\"height:525px; width:100%;\"></div>            <script type=\"text/javascript\">                require([\"plotly\"], function(Plotly) {                    window.PLOTLYENV=window.PLOTLYENV || {};                                    if (document.getElementById(\"4f14c92b-902b-4f93-addd-f2d68f6355bf\")) {                    Plotly.newPlot(                        \"4f14c92b-902b-4f93-addd-f2d68f6355bf\",                        [{\"hovertemplate\": \"type=Batch1<br>Mass=%{x}<br>RT=%{y}<extra></extra>\", \"legendgroup\": \"Batch1\", \"marker\": {\"color\": \"#636efa\", \"symbol\": \"circle\"}, \"mode\": \"markers\", \"name\": \"Batch1\", \"orientation\": \"v\", \"showlegend\": true, \"type\": \"scatter\", \"x\": [24203.2916040982, 23954.1804276622, 21650.9490075158, 21321.8383748468, 21016.797076537, 20710.8059358938, 20365.7254155201, 20020.6904823035, 19715.6623501783, 19410.585246968, 19105.5447430927, 18799.5305649653, 18493.4772504122, 18164.4442988041, 17819.376519456, 17514.3596873992, 16874.265573306, 16529.2111161203, 16184.1921942972, 15839.1358382644, 15520.074088164, 15201.016812083, 14895.9659506023, 14205.8888670503, 13900.8359890791, 13555.7722581662, 13250.7251393651, 12945.6887581111, 12600.6290203153, 11990.5308687932, 11661.4740009048, 11356.4193246374, 11050.3955913539, 10745.3577000853, 10439.3257619671, 10134.2957447306, 9789.24791942361, 9484.20147791539, 9139.16614762801, 8794.09453026046, 8489.05761677372, 8183.02554113931, 7877.00503640586, 7547.94985155635, 7202.9073359226, 6857.8563757827, 6528.8038599638, 6220.75893765106, 5912.71685354718, 5222.62185081536, 4916.59808848916, 4571.5358329871, 4242.49591358417, 4242.49116884506], \"xaxis\": \"x\", \"y\": [23.7975307758331, 23.6995799835205, 23.3935082510789, 23.2944109336217, 23.2447299337069, 23.1456492161433, 23.0966003671964, 23.0966003671964, 22.9985007083098, 22.9489889081001, 22.8998480415026, 22.8019311264833, 22.8998480415026, 22.7027550991058, 22.6531067426682, 22.5540225839297, 22.4050397828897, 22.305697951285, 22.2560124174436, 22.2063129261812, 22.1069159920692, 22.0572177326361, 21.9495379920483, 21.7424615994771, 21.6430646991412, 21.4939697181861, 21.4442714746475, 21.3448748842557, 21.1957796668688, 21.0466844991525, 20.7484936252912, 20.7981923079173, 20.5000024830977, 20.4006050999641, 20.2515098766168, 20.1024153347492, 19.9533200736523, 19.7545266087532, 19.6054228082975, 19.3072246845245, 19.1498464162827, 18.8930711324692, 18.6445793246905, 18.1475953753471, 17.7997069592953, 17.4021197096189, 16.6069458837986, 15.5467138842424, 14.204857533741, 1.3547395403862, 1.19926563259761, 1.10028566675186, 1.10028566675186, 13.6995905673186], \"yaxis\": \"y\"}, {\"hovertemplate\": \"type=Batch3<br>Mass=%{x}<br>RT=%{y}<extra></extra>\", \"legendgroup\": \"Batch3\", \"marker\": {\"color\": \"#EF553B\", \"symbol\": \"circle\"}, \"mode\": \"markers\", \"name\": \"Batch3\", \"orientation\": \"v\", \"showlegend\": true, \"type\": \"scatter\", \"x\": [4242.47886654313, 2635.29072544204, 2329.26403566954, 3936.45342338065, 3631.41174307586, 24203.1607742977, 5222.60479236492, 4571.52938613143, 6528.7832733723, 2980.33805218022, 4916.57921847177, 6220.74080680678, 3325.3846879753, 7202.89070840819, 8183.01026314414, 6857.83612472902, 9139.15139571762, 5912.69995386829, 5567.65202118988, 1984.21630961812, 8794.08411972788, 8489.03673933454, 7876.98409215749, 10439.2991618954, 10745.3419649165, 11356.4353442606, 9484.17484482664, 9789.24915970905, 11050.3877175941, 13555.749540874, 10134.2708137591, 13900.8120433257, 12945.6627248134, 14895.9061356758, 17514.2818060766, 14205.8230411644, 15200.9620885319, 7547.92948439711, 13250.7255016082, 16184.0944888297, 11990.4999804882, 14550.8866386746, 11661.4393357706, 16529.1199506954, 18799.4586960484, 19410.4850097845, 18164.3479966312, 16874.1868127079, 23954.0807547898], \"xaxis\": \"x\", \"y\": [11.3946824864229, 2.35042255279223, 1.35331189390818, 10.8501115357558, 10.0001962697188, 19.9006463781675, 13.2008065199534, 12.3505774612904, 14.4983041778882, 4.89890669541359, 12.7975431775729, 14.2502431865215, 8.75456866181691, 15.2034749106248, 15.8948396360556, 14.9500933702469, 16.3962323780537, 13.951164994208, 13.7039136445204, 1.09902909553846, 16.2531933621248, 16.0959553038756, 15.6998203352769, 16.9983260368983, 17.1456405357202, 17.3986328617414, 16.5954365447839, 16.6946649109999, 17.3000654275894, 18.1013694679419, 16.8995118434906, 18.1490621781031, 17.9030770178318, 18.4548025782585, 18.9485183711529, 18.2985689774831, 18.4953146274567, 15.5487364367326, 18.0470236277262, 18.7495013868491, 17.595881628561, 18.4006968871435, 17.595881628561, 18.7495013868491, 19.1981348112901, 19.3468598361492, 19.0537902033011, 18.8954182958285, 19.9471833701611], \"yaxis\": \"y\"}],                        {\"legend\": {\"title\": {\"text\": \"type\"}, \"tracegroupgap\": 0}, \"margin\": {\"t\": 60}, \"template\": {\"data\": {\"bar\": [{\"error_x\": {\"color\": \"#2a3f5f\"}, \"error_y\": {\"color\": \"#2a3f5f\"}, \"marker\": {\"line\": {\"color\": \"#E5ECF6\", \"width\": 0.5}}, \"type\": \"bar\"}], \"barpolar\": [{\"marker\": {\"line\": {\"color\": \"#E5ECF6\", \"width\": 0.5}}, \"type\": \"barpolar\"}], \"carpet\": [{\"aaxis\": {\"endlinecolor\": \"#2a3f5f\", \"gridcolor\": \"white\", \"linecolor\": \"white\", \"minorgridcolor\": \"white\", \"startlinecolor\": \"#2a3f5f\"}, \"baxis\": {\"endlinecolor\": \"#2a3f5f\", \"gridcolor\": \"white\", \"linecolor\": \"white\", \"minorgridcolor\": \"white\", \"startlinecolor\": \"#2a3f5f\"}, \"type\": \"carpet\"}], \"choropleth\": [{\"colorbar\": {\"outlinewidth\": 0, \"ticks\": \"\"}, \"type\": \"choropleth\"}], \"contour\": [{\"colorbar\": {\"outlinewidth\": 0, \"ticks\": \"\"}, \"colorscale\": [[0.0, \"#0d0887\"], [0.1111111111111111, \"#46039f\"], [0.2222222222222222, \"#7201a8\"], [0.3333333333333333, \"#9c179e\"], [0.4444444444444444, \"#bd3786\"], [0.5555555555555556, \"#d8576b\"], [0.6666666666666666, \"#ed7953\"], [0.7777777777777778, \"#fb9f3a\"], [0.8888888888888888, \"#fdca26\"], [1.0, \"#f0f921\"]], \"type\": \"contour\"}], \"contourcarpet\": [{\"colorbar\": {\"outlinewidth\": 0, \"ticks\": \"\"}, \"type\": \"contourcarpet\"}], \"heatmap\": [{\"colorbar\": {\"outlinewidth\": 0, \"ticks\": \"\"}, \"colorscale\": [[0.0, \"#0d0887\"], [0.1111111111111111, \"#46039f\"], [0.2222222222222222, \"#7201a8\"], [0.3333333333333333, \"#9c179e\"], [0.4444444444444444, \"#bd3786\"], [0.5555555555555556, \"#d8576b\"], [0.6666666666666666, \"#ed7953\"], [0.7777777777777778, \"#fb9f3a\"], [0.8888888888888888, \"#fdca26\"], [1.0, \"#f0f921\"]], \"type\": \"heatmap\"}], \"heatmapgl\": [{\"colorbar\": {\"outlinewidth\": 0, \"ticks\": \"\"}, \"colorscale\": [[0.0, \"#0d0887\"], [0.1111111111111111, \"#46039f\"], [0.2222222222222222, \"#7201a8\"], [0.3333333333333333, \"#9c179e\"], [0.4444444444444444, \"#bd3786\"], [0.5555555555555556, \"#d8576b\"], [0.6666666666666666, \"#ed7953\"], [0.7777777777777778, \"#fb9f3a\"], [0.8888888888888888, \"#fdca26\"], [1.0, \"#f0f921\"]], \"type\": \"heatmapgl\"}], \"histogram\": [{\"marker\": {\"colorbar\": {\"outlinewidth\": 0, \"ticks\": \"\"}}, \"type\": \"histogram\"}], \"histogram2d\": [{\"colorbar\": {\"outlinewidth\": 0, \"ticks\": \"\"}, \"colorscale\": [[0.0, \"#0d0887\"], [0.1111111111111111, \"#46039f\"], [0.2222222222222222, \"#7201a8\"], [0.3333333333333333, \"#9c179e\"], [0.4444444444444444, \"#bd3786\"], [0.5555555555555556, \"#d8576b\"], [0.6666666666666666, \"#ed7953\"], [0.7777777777777778, \"#fb9f3a\"], [0.8888888888888888, \"#fdca26\"], [1.0, \"#f0f921\"]], \"type\": \"histogram2d\"}], \"histogram2dcontour\": [{\"colorbar\": {\"outlinewidth\": 0, \"ticks\": \"\"}, \"colorscale\": [[0.0, \"#0d0887\"], [0.1111111111111111, \"#46039f\"], [0.2222222222222222, \"#7201a8\"], [0.3333333333333333, \"#9c179e\"], [0.4444444444444444, \"#bd3786\"], [0.5555555555555556, \"#d8576b\"], [0.6666666666666666, \"#ed7953\"], [0.7777777777777778, \"#fb9f3a\"], [0.8888888888888888, \"#fdca26\"], [1.0, \"#f0f921\"]], \"type\": \"histogram2dcontour\"}], \"mesh3d\": [{\"colorbar\": {\"outlinewidth\": 0, \"ticks\": \"\"}, \"type\": \"mesh3d\"}], \"parcoords\": [{\"line\": {\"colorbar\": {\"outlinewidth\": 0, \"ticks\": \"\"}}, \"type\": \"parcoords\"}], \"pie\": [{\"automargin\": true, \"type\": \"pie\"}], \"scatter\": [{\"marker\": {\"colorbar\": {\"outlinewidth\": 0, \"ticks\": \"\"}}, \"type\": \"scatter\"}], \"scatter3d\": [{\"line\": {\"colorbar\": {\"outlinewidth\": 0, \"ticks\": \"\"}}, \"marker\": {\"colorbar\": {\"outlinewidth\": 0, \"ticks\": \"\"}}, \"type\": \"scatter3d\"}], \"scattercarpet\": [{\"marker\": {\"colorbar\": {\"outlinewidth\": 0, \"ticks\": \"\"}}, \"type\": \"scattercarpet\"}], \"scattergeo\": [{\"marker\": {\"colorbar\": {\"outlinewidth\": 0, \"ticks\": \"\"}}, \"type\": \"scattergeo\"}], \"scattergl\": [{\"marker\": {\"colorbar\": {\"outlinewidth\": 0, \"ticks\": \"\"}}, \"type\": \"scattergl\"}], \"scattermapbox\": [{\"marker\": {\"colorbar\": {\"outlinewidth\": 0, \"ticks\": \"\"}}, \"type\": \"scattermapbox\"}], \"scatterpolar\": [{\"marker\": {\"colorbar\": {\"outlinewidth\": 0, \"ticks\": \"\"}}, \"type\": \"scatterpolar\"}], \"scatterpolargl\": [{\"marker\": {\"colorbar\": {\"outlinewidth\": 0, \"ticks\": \"\"}}, \"type\": \"scatterpolargl\"}], \"scatterternary\": [{\"marker\": {\"colorbar\": {\"outlinewidth\": 0, \"ticks\": \"\"}}, \"type\": \"scatterternary\"}], \"surface\": [{\"colorbar\": {\"outlinewidth\": 0, \"ticks\": \"\"}, \"colorscale\": [[0.0, \"#0d0887\"], [0.1111111111111111, \"#46039f\"], [0.2222222222222222, \"#7201a8\"], [0.3333333333333333, \"#9c179e\"], [0.4444444444444444, \"#bd3786\"], [0.5555555555555556, \"#d8576b\"], [0.6666666666666666, \"#ed7953\"], [0.7777777777777778, \"#fb9f3a\"], [0.8888888888888888, \"#fdca26\"], [1.0, \"#f0f921\"]], \"type\": \"surface\"}], \"table\": [{\"cells\": {\"fill\": {\"color\": \"#EBF0F8\"}, \"line\": {\"color\": \"white\"}}, \"header\": {\"fill\": {\"color\": \"#C8D4E3\"}, \"line\": {\"color\": \"white\"}}, \"type\": \"table\"}]}, \"layout\": {\"annotationdefaults\": {\"arrowcolor\": \"#2a3f5f\", \"arrowhead\": 0, \"arrowwidth\": 1}, \"autotypenumbers\": \"strict\", \"coloraxis\": {\"colorbar\": {\"outlinewidth\": 0, \"ticks\": \"\"}}, \"colorscale\": {\"diverging\": [[0, \"#8e0152\"], [0.1, \"#c51b7d\"], [0.2, \"#de77ae\"], [0.3, \"#f1b6da\"], [0.4, \"#fde0ef\"], [0.5, \"#f7f7f7\"], [0.6, \"#e6f5d0\"], [0.7, \"#b8e186\"], [0.8, \"#7fbc41\"], [0.9, \"#4d9221\"], [1, \"#276419\"]], \"sequential\": [[0.0, \"#0d0887\"], [0.1111111111111111, \"#46039f\"], [0.2222222222222222, \"#7201a8\"], [0.3333333333333333, \"#9c179e\"], [0.4444444444444444, \"#bd3786\"], [0.5555555555555556, \"#d8576b\"], [0.6666666666666666, \"#ed7953\"], [0.7777777777777778, \"#fb9f3a\"], [0.8888888888888888, \"#fdca26\"], [1.0, \"#f0f921\"]], \"sequentialminus\": [[0.0, \"#0d0887\"], [0.1111111111111111, \"#46039f\"], [0.2222222222222222, \"#7201a8\"], [0.3333333333333333, \"#9c179e\"], [0.4444444444444444, \"#bd3786\"], [0.5555555555555556, \"#d8576b\"], [0.6666666666666666, \"#ed7953\"], [0.7777777777777778, \"#fb9f3a\"], [0.8888888888888888, \"#fdca26\"], [1.0, \"#f0f921\"]]}, \"colorway\": [\"#636efa\", \"#EF553B\", \"#00cc96\", \"#ab63fa\", \"#FFA15A\", \"#19d3f3\", \"#FF6692\", \"#B6E880\", \"#FF97FF\", \"#FECB52\"], \"font\": {\"color\": \"#2a3f5f\"}, \"geo\": {\"bgcolor\": \"white\", \"lakecolor\": \"white\", \"landcolor\": \"#E5ECF6\", \"showlakes\": true, \"showland\": true, \"subunitcolor\": \"white\"}, \"hoverlabel\": {\"align\": \"left\"}, \"hovermode\": \"closest\", \"mapbox\": {\"style\": \"light\"}, \"paper_bgcolor\": \"white\", \"plot_bgcolor\": \"#E5ECF6\", \"polar\": {\"angularaxis\": {\"gridcolor\": \"white\", \"linecolor\": \"white\", \"ticks\": \"\"}, \"bgcolor\": \"#E5ECF6\", \"radialaxis\": {\"gridcolor\": \"white\", \"linecolor\": \"white\", \"ticks\": \"\"}}, \"scene\": {\"xaxis\": {\"backgroundcolor\": \"#E5ECF6\", \"gridcolor\": \"white\", \"gridwidth\": 2, \"linecolor\": \"white\", \"showbackground\": true, \"ticks\": \"\", \"zerolinecolor\": \"white\"}, \"yaxis\": {\"backgroundcolor\": \"#E5ECF6\", \"gridcolor\": \"white\", \"gridwidth\": 2, \"linecolor\": \"white\", \"showbackground\": true, \"ticks\": \"\", \"zerolinecolor\": \"white\"}, \"zaxis\": {\"backgroundcolor\": \"#E5ECF6\", \"gridcolor\": \"white\", \"gridwidth\": 2, \"linecolor\": \"white\", \"showbackground\": true, \"ticks\": \"\", \"zerolinecolor\": \"white\"}}, \"shapedefaults\": {\"line\": {\"color\": \"#2a3f5f\"}}, \"ternary\": {\"aaxis\": {\"gridcolor\": \"white\", \"linecolor\": \"white\", \"ticks\": \"\"}, \"baxis\": {\"gridcolor\": \"white\", \"linecolor\": \"white\", \"ticks\": \"\"}, \"bgcolor\": \"#E5ECF6\", \"caxis\": {\"gridcolor\": \"white\", \"linecolor\": \"white\", \"ticks\": \"\"}}, \"title\": {\"x\": 0.05}, \"xaxis\": {\"automargin\": true, \"gridcolor\": \"white\", \"linecolor\": \"white\", \"ticks\": \"\", \"title\": {\"standoff\": 15}, \"zerolinecolor\": \"white\", \"zerolinewidth\": 2}, \"yaxis\": {\"automargin\": true, \"gridcolor\": \"white\", \"linecolor\": \"white\", \"ticks\": \"\", \"title\": {\"standoff\": 15}, \"zerolinecolor\": \"white\", \"zerolinewidth\": 2}}}, \"xaxis\": {\"anchor\": \"y\", \"domain\": [0.0, 1.0], \"title\": {\"text\": \"Mass\"}}, \"yaxis\": {\"anchor\": \"x\", \"domain\": [0.0, 1.0], \"title\": {\"text\": \"RT\"}}},                        {\"responsive\": true}                    ).then(function(){\n",
       "                            \n",
       "var gd = document.getElementById('4f14c92b-902b-4f93-addd-f2d68f6355bf');\n",
       "var x = new MutationObserver(function (mutations, observer) {{\n",
       "        var display = window.getComputedStyle(gd).display;\n",
       "        if (!display || display === 'none') {{\n",
       "            console.log([gd, 'removed!']);\n",
       "            Plotly.purge(gd);\n",
       "            observer.disconnect();\n",
       "        }}\n",
       "}});\n",
       "\n",
       "// Listen for the removal of the full notebook cells\n",
       "var notebookContainer = gd.closest('#notebook-container');\n",
       "if (notebookContainer) {{\n",
       "    x.observe(notebookContainer, {childList: true});\n",
       "}}\n",
       "\n",
       "// Listen for the clearing of the current output cell\n",
       "var outputEl = gd.closest('.output');\n",
       "if (outputEl) {{\n",
       "    x.observe(outputEl, {childList: true});\n",
       "}}\n",
       "\n",
       "                        })                };                });            </script>        </div>"
      ]
     },
     "metadata": {},
     "output_type": "display_data"
    }
   ],
   "source": [
    "df_217_3p_6mG = pd.read_excel('/Users/bryan/Studio/tools/glu_24217_3p_6mG.xlsx')\n",
    "df_217_5p_6mG = pd.read_excel('/Users/bryan/Studio/tools/glu_24217_5p_6mG.xlsx')\n",
    "df_203_3p_6mG = pd.read_excel('/Users/bryan/Studio/tools/glu_24203_3p_6mG.xlsx')\n",
    "df_203_5p_6mG = pd.read_excel('/Users/bryan/Studio/tools/glu_24203_5p_6mG.xlsx')\n",
    "\n",
    "dft = df_203_5p_6mG.copy()\n",
    "dfm1 = match_dfs(dft, dfa_ad_alkb)\n",
    "dfm2 = match_dfs(dft, dfb_ad_alkb)\n",
    "# dfm3 = match_dfs(dft, df1)\n",
    "plotly_multi_zones([dfm1, dfm2], names=[\"Batch1\", \"Batch3\"])"
   ]
  },
  {
   "cell_type": "code",
   "execution_count": 62,
   "id": "particular-riverside",
   "metadata": {},
   "outputs": [
    {
     "name": "stdout",
     "output_type": "stream",
     "text": [
      "1546.0751197599998 5275.89170937 1530.9257228300003 5691.42703222\n",
      "169.63067557000002 1500.6077912599999 169.10459085999997 1981.43560214\n",
      "6146.386553499998\n"
     ]
    }
   ],
   "source": [
    "# dfm = match_dfs(dfa_ad_alkb, dfb_ad_alkb)\n",
    "# plotly_zone(dfm)\n",
    "print(dfa_ad_alkb.Vol.sum()/1E6, dfb_ad_alkb.Vol.sum()/1E6, dfa_ad.Vol.sum()/1E6, dfb_ad.Vol.sum()/1E6)\n",
    "print(dfa.Vol.sum()/1E6,dfb.Vol.sum()/1E6, dfa_alkb.Vol.sum()/1E6, dfb_alkb.Vol.sum()/1E6)\n",
    "print(df1.Vol.sum()/1E6)"
   ]
  },
  {
   "cell_type": "code",
   "execution_count": 48,
   "id": "sacred-wrestling",
   "metadata": {},
   "outputs": [
    {
     "data": {
      "text/plain": [
       "(313, 5)"
      ]
     },
     "execution_count": 48,
     "metadata": {},
     "output_type": "execute_result"
    }
   ],
   "source": [
    "dfm[dfm.Mass>4000].shape"
   ]
  },
  {
   "cell_type": "code",
   "execution_count": 49,
   "id": "governmental-demonstration",
   "metadata": {},
   "outputs": [
    {
     "name": "stdout",
     "output_type": "stream",
     "text": [
      "mass_x (541,) mass_y (541,)\n"
     ]
    },
    {
     "data": {
      "application/vnd.plotly.v1+json": {
       "config": {
        "plotlyServerURL": "https://plot.ly"
       },
       "data": [
        {
         "mode": "markers",
         "type": "scatter",
         "x": [
          8004.07201565025,
          17732.3801336932,
          800.846224987058,
          10679.5496203544,
          7861.97131225093,
          8282.11925319183,
          10055.2858139843,
          15441.1072234686,
          7671.0192194136,
          20590.8235487438,
          8892.19813328106,
          1033.89764825886,
          8681.14959807303,
          9690.29974241533,
          8878.12489445188,
          7491.97653831395,
          12258.694085491,
          11965.6112994327,
          12244.7553195679,
          16200.0535869215,
          13156.8698494282,
          1096.92383499644,
          1159.90439198255,
          1069.86567951758,
          1117.9164591288,
          1307.85624992109,
          1308.85547074426,
          1117.87890010197,
          751.883403599114,
          4242.47886654313,
          751.883287774678,
          812.878373033594,
          5222.60479236492,
          4571.52938613143,
          6528.7832733723,
          4916.57921847177,
          6706.96718296272,
          6220.74080680678,
          1117.9166,
          7202.89070840819,
          8183.01026314414,
          6857.83612472902,
          9139.15139571762,
          5912.69995386829,
          7548.9323329077,
          5115.77399163721,
          6056.87680513304,
          8794.08411972788,
          6401.91968704731,
          8489.03673933454,
          7876.98409215749,
          10439.2991618954,
          1307.85409148885,
          10745.3419649165,
          7692.09433891764,
          8037.13728722588,
          5568.65388306123,
          7347.04745841545,
          8701.2258534746,
          8382.17931368588,
          11356.4353442606,
          11662.4619412791,
          1117.8788,
          9484.17484482664,
          9789.24915970905,
          6826.9056827863,
          11050.3877175941,
          13555.749540874,
          7437.97645304623,
          5421.79640446909,
          10134.2708137591,
          12296.5606295918,
          13900.8120433257,
          6520.86105061516,
          12945.6627248134,
          14895.9061356758,
          12559.8106384998,
          1001.82287639412,
          17514.2818060766,
          13475.9058481505,
          14205.8230411644,
          24297.1165372079,
          9790.22223237134,
          15200.9620885319,
          6176.81892081406,
          11925.6521770381,
          10665.5099149258,
          12864.8269938343,
          13781.9127305235,
          7547.92948439711,
          12268.6655765281,
          13250.7255016082,
          16184.0944888297,
          11990.4999804882,
          16038.2193439321,
          8683.16957710599,
          10970.5785261915,
          13532.8593579367,
          9020.28684079731,
          5244.58615882784,
          8072.08296662798,
          13170.84211685,
          9027.20521863404,
          12902.7684515336,
          16673.2946054569,
          8048.07578313756,
          8490.04384741683,
          8795.10136124633,
          15082.1061402827,
          11275.6027433194,
          763.832613816054,
          10015.4211693972,
          5913.70240974159,
          8378.1204546411,
          6786.92229373416,
          19978.7569330187,
          17692.4259198982,
          9982.32433656743,
          10672.4084012261,
          7743.02193163646,
          11661.4393357706,
          18000.4753601492,
          7767.04313985023,
          9983.34675591344,
          15732.1922690568,
          10939.4495615525,
          10634.4001850596,
          15201.9575731271,
          9749.26940659541,
          14431.9954733384,
          14737.0553594743,
          9346.2688761018,
          9000.2131525261,
          9678.30061547225,
          6482.89509382055,
          10288.3704347995,
          727.863748275547,
          13570.7747028055,
          12230.7283601848,
          809.846716829567,
          18308.5074479307,
          7366.98018169427,
          13884.8020160839,
          7132.95357065589,
          9043.2184525946,
          15427.1429738068,
          14086.9715514145,
          7091.94701365983,
          9325.31511376077,
          12920.7553142024,
          10320.4627271031,
          10728.3571175894,
          9670.36249439838,
          9805.23505515983,
          10022.3293308457,
          16529.1199506954,
          9443.19757522594,
          8722.16445003679,
          7563.94340448064,
          14564.8769724352,
          7049.94492594709,
          6543.81303076399,
          8392.12576484904,
          13226.8031441161,
          11620.63674365,
          11244.5198607001,
          14565.8771684082,
          5550.65348992162,
          8738.18856913414,
          6457.84995987518,
          10328.3868064708,
          11589.534157564,
          9637.28283044533,
          8393.11666317877,
          8199.02774405191,
          17363.3867007487,
          12614.6906832035,
          11645.4607164202,
          16344.2616720469,
          15789.1239550972,
          9362.26248728585,
          17018.3474490374,
          7203.88042538061,
          17834.3088463449,
          11033.3725578021,
          7702.02566344593,
          10360.3986838407,
          18653.5600643707,
          9333.2588462774,
          8988.21939327,
          9999.34044317448,
          12278.5609450194,
          11357.4395084994,
          9638.29501915911,
          13837.8672231274,
          6620.89198720494,
          13209.8082387353,
          15215.9574047785,
          9998.3323093006,
          5895.69167129136,
          13594.7384576037,
          8377.11051283155,
          7712.02652652407,
          9804.23090765229,
          13192.8566200077,
          13489.9068736835,
          13233.746755947,
          7354.99431628768,
          809.844794620784,
          13538.8161480263,
          5735.76720774992,
          7892.9885203497,
          8168.00792765815,
          8504.04263073219,
          7462.04983117297,
          6275.84686916836,
          16874.1868127079,
          7407.98166124756,
          23954.0807547898,
          7395.96834918867,
          9677.30999959762,
          13525.8165317818,
          10305.393213609,
          7397.98324674173,
          14100.9741945289,
          14220.8231805298,
          7532.92596935066,
          11339.4560540442,
          8017.06612231526,
          11634.5989061623,
          16118.1549720526,
          23968.1240569712,
          9349.26982670593,
          6730.90386822014,
          9010.20488732706,
          8505.0423355844,
          6040.79268304198,
          20284.7718189164,
          12878.8054271656,
          6223.74397870215,
          13795.9345648728,
          11972.552229215,
          6873.83500253861,
          13497.9187622632,
          11550.5368876922,
          20589.8196341436,
          12928.7463832699,
          9294.25403430677,
          17403.373898261,
          14575.840701726,
          8810.08434041484,
          10167.2363153965,
          8655.16816498534,
          6529.78745054443,
          13234.7346250311,
          7660.01818754826,
          11612.5338785648,
          13805.9373081385,
          8587.1619535345,
          15426.1368412173,
          12545.7254653545,
          11894.5810540548,
          18998.594833934,
          9420.22160392623,
          12245.7312166899,
          8573.14600996262,
          1002.82456702488
         ],
         "y": [
          15.5055924033801,
          19.0998493448575,
          1.60212451176643,
          16.948951768446,
          15.6493885532697,
          15.3475874360084,
          16.6521944776853,
          18.5491172031244,
          15.5055924033801,
          19.3984022533576,
          15.8010293360233,
          20.1496977106412,
          15.8514856870651,
          16.5528220112801,
          16.1530903951009,
          15.2034749106248,
          17.595881628561,
          17.4549535031795,
          17.7013431187153,
          18.7495013868491,
          17.9030770178318,
          6.25496734536489,
          22.2505893683116,
          20.3038228030682,
          8.29378807104429,
          20.1026214277426,
          15.0443844790936,
          8.29378807104429,
          24.8987661357403,
          11.3946824864229,
          18.1013694679419,
          15.9523093378226,
          13.2008065199534,
          12.3505774612904,
          14.4983041778882,
          12.7975431775729,
          13.9001959697088,
          14.2502431865215,
          12.4456537619909,
          15.2034749106248,
          15.8948396360556,
          14.9500933702469,
          16.3962323780537,
          13.951164994208,
          15.4050634856701,
          11.4961999352455,
          13.252036688296,
          16.2531933621248,
          13.5515568371296,
          16.0959553038756,
          15.6998203352769,
          16.9983260368983,
          1.60212451176643,
          17.1456405357202,
          15.0443844790936,
          15.2466444130421,
          13.5004550194422,
          14.9500933702469,
          15.8948396360556,
          15.5055924033801,
          17.3986328617414,
          17.4549535031795,
          12.4456537619909,
          16.5954365447839,
          16.6946649109999,
          14.4983041778882,
          17.3000654275894,
          18.1013694679419,
          15.0443844790936,
          11.9478294030507,
          16.8995118434906,
          17.7503235693455,
          18.1490621781031,
          14.2502431865215,
          17.9030770178318,
          18.4548025782585,
          17.8478617942015,
          1.69939231233597,
          18.9485183711529,
          18.0470236277262,
          18.2985689774831,
          19.7507101948738,
          16.7513392285188,
          18.4953146274567,
          13.7984283860207,
          17.5535948868275,
          16.8995118434906,
          17.8478617942015,
          18.1490621781031,
          15.5487364367326,
          17.6522636190732,
          18.0470236277262,
          18.7495013868491,
          17.595881628561,
          18.696357611386,
          16.0528383369923,
          17.0474973872979,
          18.1013694679419,
          16.3532493348598,
          13.252036688296,
          15.6493885532697,
          17.9511506950537,
          16.1960425273259,
          17.9030770178318,
          18.8555435692946,
          15.5487364367326,
          15.9523093378226,
          15.995460384655,
          18.4953146274567,
          17.2018565114021,
          15.6061819946448,
          16.6521944776853,
          14.1480981444995,
          15.8948396360556,
          14.5492934937954,
          19.3984022533576,
          19.0537902033011,
          16.6521944776853,
          17.0474973872979,
          15.2466444130421,
          17.595881628561,
          19.0537902033011,
          15.5487364367326,
          16.7938160534382,
          18.6563473697186,
          17.1456405357202,
          17.0474973872979,
          18.4953146274567,
          16.4532725627899,
          18.2985689774831,
          18.4006968871435,
          16.2960159456412,
          16.1960425273259,
          16.6521944776853,
          14.1992257531166,
          16.8502351438681,
          14.6512711361726,
          18.0470236277262,
          17.6522636190732,
          18.7495013868491,
          19.1459019696395,
          15.0443844790936,
          18.1490621781031,
          14.9500933702469,
          16.2960159456412,
          18.6028141275724,
          18.2511088943164,
          14.7971896266619,
          16.4959380960147,
          17.8478617942015,
          16.7513392285188,
          17.1035744940917,
          16.4959380960147,
          16.4959380960147,
          16.7513392285188,
          18.7495013868491,
          16.2960159456412,
          16.0959553038756,
          15.4050634856701,
          18.3461195106983,
          14.6950287019889,
          14.6950287019889,
          15.6998203352769,
          18.0470236277262,
          17.3986328617414,
          17.3000654275894,
          18.4006968871435,
          13.2960409199874,
          16.0959553038756,
          13.7984283860207,
          16.7513392285188,
          17.3986328617414,
          16.4959380960147,
          15.8514856870651,
          15.8948396360556,
          18.8555435692946,
          17.6522636190732,
          17.4549535031795,
          18.7495013868491,
          18.696357611386,
          16.3962323780537,
          18.8954182958285,
          15.0443844790936,
          19.0011722699483,
          17.2509318128904,
          15.3043170527299,
          16.7513392285188,
          19.1981348112901,
          16.4532725627899,
          16.2960159456412,
          16.7938160534382,
          17.7503235693455,
          17.2018565114021,
          16.5954365447839,
          18.2511088943164,
          14.9500933702469,
          17.8478617942015,
          18.6028141275724,
          16.6946649109999,
          13.747512612311,
          17.9991986369769,
          15.8010293360233,
          15.3475874360084,
          16.7513392285188,
          17.9511506950537,
          18.1013694679419,
          17.9030770178318,
          15.0008576686859,
          23.5030020351887,
          18.0470236277262,
          13.4495166873614,
          15.6493885532697,
          15.8010293360233,
          16.1530903951009,
          15.4050634856701,
          14.6512711361726,
          18.8954182958285,
          15.0008576686859,
          19.9471833701611,
          14.8482208943049,
          16.5954365447839,
          18.1013694679419,
          16.948951768446,
          15.1023240780512,
          18.2511088943164,
          18.1490621781031,
          15.4050634856701,
          17.2018565114021,
          15.5487364367326,
          17.4549535031795,
          18.8024065947215,
          19.9006463781675,
          16.3962323780537,
          14.447228103447,
          16.1960425273259,
          15.995460384655,
          13.747512612311,
          19.4499556616624,
          17.9511506950537,
          14.2502431865215,
          18.1968122040908,
          17.4972321446419,
          14.9500933702469,
          17.9511506950537,
          17.5535948868275,
          19.4499556616624,
          17.799103561608,
          16.3962323780537,
          18.8555435692946,
          18.3461195106983,
          16.2960159456412,
          16.7513392285188,
          16.0528383369923,
          14.3451653277556,
          17.9030770178318,
          15.1457434113502,
          17.4972321446419,
          18.1968122040908,
          15.5055924033801,
          18.5491172031244,
          17.799103561608,
          17.595881628561,
          19.2500301118374,
          16.3532493348598,
          17.6522636190732,
          15.5055924033801,
          2.55380676147143
         ]
        },
        {
         "line": {
          "color": "pink"
         },
         "mode": "lines+markers",
         "name": "C",
         "type": "scatter",
         "x": [
          1117.9164591288,
          812.878373033594
         ],
         "y": [
          8.29378807104429,
          15.9523093378226
         ]
        },
        {
         "line": {
          "color": "pink"
         },
         "mode": "lines+markers",
         "name": "C",
         "type": "scatter",
         "x": [
          1307.85624992109,
          1002.82456702488
         ],
         "y": [
          20.1026214277426,
          2.55380676147143
         ]
        },
        {
         "line": {
          "color": "pink"
         },
         "mode": "lines+markers",
         "name": "C",
         "type": "scatter",
         "x": [
          6528.7832733723,
          6223.74397870215
         ],
         "y": [
          14.4983041778882,
          14.2502431865215
         ]
        },
        {
         "line": {
          "color": "pink"
         },
         "mode": "lines+markers",
         "name": "C",
         "type": "scatter",
         "x": [
          6706.96718296272,
          6401.91968704731
         ],
         "y": [
          13.9001959697088,
          13.5515568371296
         ]
        },
        {
         "line": {
          "color": "pink"
         },
         "mode": "lines+markers",
         "name": "C",
         "type": "scatter",
         "x": [
          812.878373033594,
          1117.9166
         ],
         "y": [
          15.9523093378226,
          12.4456537619909
         ]
        },
        {
         "line": {
          "color": "pink"
         },
         "mode": "lines+markers",
         "name": "C",
         "type": "scatter",
         "x": [
          8794.08411972788,
          8489.03673933454
         ],
         "y": [
          16.2531933621248,
          16.0959553038756
         ]
        },
        {
         "line": {
          "color": "pink"
         },
         "mode": "lines+markers",
         "name": "C",
         "type": "scatter",
         "x": [
          10439.2991618954,
          10134.2708137591
         ],
         "y": [
          16.9983260368983,
          16.8995118434906
         ]
        },
        {
         "line": {
          "color": "pink"
         },
         "mode": "lines+markers",
         "name": "C",
         "type": "scatter",
         "x": [
          1307.85409148885,
          1002.82456702488
         ],
         "y": [
          1.60212451176643,
          2.55380676147143
         ]
        },
        {
         "line": {
          "color": "pink"
         },
         "mode": "lines+markers",
         "name": "C",
         "type": "scatter",
         "x": [
          11662.4619412791,
          11357.4395084994
         ],
         "y": [
          17.4549535031795,
          17.2018565114021
         ]
        },
        {
         "line": {
          "color": "pink"
         },
         "mode": "lines+markers",
         "name": "C",
         "type": "scatter",
         "x": [
          9484.17484482664,
          9789.24915970905
         ],
         "y": [
          16.5954365447839,
          16.6946649109999
         ]
        },
        {
         "line": {
          "color": "pink"
         },
         "mode": "lines+markers",
         "name": "C",
         "type": "scatter",
         "x": [
          10745.3419649165,
          11050.3877175941
         ],
         "y": [
          17.1456405357202,
          17.3000654275894
         ]
        },
        {
         "line": {
          "color": "pink"
         },
         "mode": "lines+markers",
         "name": "C",
         "type": "scatter",
         "x": [
          13555.749540874,
          13250.7255016082
         ],
         "y": [
          18.1013694679419,
          18.0470236277262
         ]
        },
        {
         "line": {
          "color": "pink"
         },
         "mode": "lines+markers",
         "name": "C",
         "type": "scatter",
         "x": [
          7437.97645304623,
          7132.95357065589
         ],
         "y": [
          15.0443844790936,
          14.9500933702469
         ]
        },
        {
         "line": {
          "color": "pink"
         },
         "mode": "lines+markers",
         "name": "C",
         "type": "scatter",
         "x": [
          13475.9058481505,
          13170.84211685
         ],
         "y": [
          18.0470236277262,
          17.9511506950537
         ]
        },
        {
         "line": {
          "color": "pink"
         },
         "mode": "lines+markers",
         "name": "C",
         "type": "scatter",
         "x": [
          13900.8120433257,
          14205.8230411644
         ],
         "y": [
          18.1490621781031,
          18.2985689774831
         ]
        },
        {
         "line": {
          "color": "pink"
         },
         "mode": "lines+markers",
         "name": "C",
         "type": "scatter",
         "x": [
          14895.9061356758,
          15200.9620885319
         ],
         "y": [
          18.4548025782585,
          18.4953146274567
         ]
        },
        {
         "line": {
          "color": "pink"
         },
         "mode": "lines+markers",
         "name": "C",
         "type": "scatter",
         "x": [
          11925.6521770381,
          11620.63674365
         ],
         "y": [
          17.5535948868275,
          17.3986328617414
         ]
        },
        {
         "line": {
          "color": "pink"
         },
         "mode": "lines+markers",
         "name": "C",
         "type": "scatter",
         "x": [
          10665.5099149258,
          10360.3986838407
         ],
         "y": [
          16.8995118434906,
          16.7513392285188
         ]
        },
        {
         "line": {
          "color": "pink"
         },
         "mode": "lines+markers",
         "name": "C",
         "type": "scatter",
         "x": [
          12559.8106384998,
          12864.8269938343
         ],
         "y": [
          17.8478617942015,
          17.8478617942015
         ]
        },
        {
         "line": {
          "color": "pink"
         },
         "mode": "lines+markers",
         "name": "C",
         "type": "scatter",
         "x": [
          12945.6627248134,
          13250.7255016082
         ],
         "y": [
          17.9030770178318,
          18.0470236277262
         ]
        },
        {
         "line": {
          "color": "pink"
         },
         "mode": "lines+markers",
         "name": "C",
         "type": "scatter",
         "x": [
          8683.16957710599,
          8378.1204546411
         ],
         "y": [
          16.0528383369923,
          15.8948396360556
         ]
        },
        {
         "line": {
          "color": "pink"
         },
         "mode": "lines+markers",
         "name": "C",
         "type": "scatter",
         "x": [
          10665.5099149258,
          10970.5785261915
         ],
         "y": [
          16.8995118434906,
          17.0474973872979
         ]
        },
        {
         "line": {
          "color": "pink"
         },
         "mode": "lines+markers",
         "name": "C",
         "type": "scatter",
         "x": [
          8072.08296662798,
          7767.04313985023
         ],
         "y": [
          15.6493885532697,
          15.5487364367326
         ]
        },
        {
         "line": {
          "color": "pink"
         },
         "mode": "lines+markers",
         "name": "C",
         "type": "scatter",
         "x": [
          9027.20521863404,
          8722.16445003679
         ],
         "y": [
          16.1960425273259,
          16.0959553038756
         ]
        },
        {
         "line": {
          "color": "pink"
         },
         "mode": "lines+markers",
         "name": "C",
         "type": "scatter",
         "x": [
          8048.07578313756,
          7743.02193163646
         ],
         "y": [
          15.5487364367326,
          15.2466444130421
         ]
        },
        {
         "line": {
          "color": "pink"
         },
         "mode": "lines+markers",
         "name": "C",
         "type": "scatter",
         "x": [
          8490.04384741683,
          8795.10136124633
         ],
         "y": [
          15.9523093378226,
          15.995460384655
         ]
        },
        {
         "line": {
          "color": "pink"
         },
         "mode": "lines+markers",
         "name": "C",
         "type": "scatter",
         "x": [
          10970.5785261915,
          11275.6027433194
         ],
         "y": [
          17.0474973872979,
          17.2018565114021
         ]
        },
        {
         "line": {
          "color": "pink"
         },
         "mode": "lines+markers",
         "name": "C",
         "type": "scatter",
         "x": [
          9982.32433656743,
          9677.30999959762
         ],
         "y": [
          16.6521944776853,
          16.5954365447839
         ]
        },
        {
         "line": {
          "color": "pink"
         },
         "mode": "lines+markers",
         "name": "C",
         "type": "scatter",
         "x": [
          7437.97645304623,
          7743.02193163646
         ],
         "y": [
          15.0443844790936,
          15.2466444130421
         ]
        },
        {
         "line": {
          "color": "pink"
         },
         "mode": "lines+markers",
         "name": "C",
         "type": "scatter",
         "x": [
          11356.4353442606,
          11661.4393357706
         ],
         "y": [
          17.3986328617414,
          17.595881628561
         ]
        },
        {
         "line": {
          "color": "pink"
         },
         "mode": "lines+markers",
         "name": "C",
         "type": "scatter",
         "x": [
          7767.04313985023,
          7462.04983117297
         ],
         "y": [
          15.5487364367326,
          15.4050634856701
         ]
        },
        {
         "line": {
          "color": "pink"
         },
         "mode": "lines+markers",
         "name": "C",
         "type": "scatter",
         "x": [
          9983.34675591344,
          9678.30061547225
         ],
         "y": [
          16.7938160534382,
          16.6521944776853
         ]
        },
        {
         "line": {
          "color": "pink"
         },
         "mode": "lines+markers",
         "name": "C",
         "type": "scatter",
         "x": [
          15732.1922690568,
          15427.1429738068
         ],
         "y": [
          18.6563473697186,
          18.6028141275724
         ]
        },
        {
         "line": {
          "color": "pink"
         },
         "mode": "lines+markers",
         "name": "C",
         "type": "scatter",
         "x": [
          10939.4495615525,
          10634.4001850596
         ],
         "y": [
          17.1456405357202,
          17.0474973872979
         ]
        },
        {
         "line": {
          "color": "pink"
         },
         "mode": "lines+markers",
         "name": "C",
         "type": "scatter",
         "x": [
          14431.9954733384,
          14737.0553594743
         ],
         "y": [
          18.2985689774831,
          18.4006968871435
         ]
        },
        {
         "line": {
          "color": "pink"
         },
         "mode": "lines+markers",
         "name": "C",
         "type": "scatter",
         "x": [
          9983.34675591344,
          10288.3704347995
         ],
         "y": [
          16.7938160534382,
          16.8502351438681
         ]
        },
        {
         "line": {
          "color": "pink"
         },
         "mode": "lines+markers",
         "name": "C",
         "type": "scatter",
         "x": [
          11925.6521770381,
          12230.7283601848
         ],
         "y": [
          17.5535948868275,
          17.6522636190732
         ]
        },
        {
         "line": {
          "color": "pink"
         },
         "mode": "lines+markers",
         "name": "C",
         "type": "scatter",
         "x": [
          9043.2184525946,
          8738.18856913414
         ],
         "y": [
          16.2960159456412,
          16.0959553038756
         ]
        },
        {
         "line": {
          "color": "pink"
         },
         "mode": "lines+markers",
         "name": "C",
         "type": "scatter",
         "x": [
          13781.9127305235,
          14086.9715514145
         ],
         "y": [
          18.1490621781031,
          18.2511088943164
         ]
        },
        {
         "line": {
          "color": "pink"
         },
         "mode": "lines+markers",
         "name": "C",
         "type": "scatter",
         "x": [
          6786.92229373416,
          7091.94701365983
         ],
         "y": [
          14.5492934937954,
          14.7971896266619
         ]
        },
        {
         "line": {
          "color": "pink"
         },
         "mode": "lines+markers",
         "name": "C",
         "type": "scatter",
         "x": [
          9020.28684079731,
          9325.31511376077
         ],
         "y": [
          16.3532493348598,
          16.4959380960147
         ]
        },
        {
         "line": {
          "color": "pink"
         },
         "mode": "lines+markers",
         "name": "C",
         "type": "scatter",
         "x": [
          10015.4211693972,
          10320.4627271031
         ],
         "y": [
          16.6521944776853,
          16.7513392285188
         ]
        },
        {
         "line": {
          "color": "pink"
         },
         "mode": "lines+markers",
         "name": "C",
         "type": "scatter",
         "x": [
          10939.4495615525,
          11244.5198607001
         ],
         "y": [
          17.1456405357202,
          17.3000654275894
         ]
        },
        {
         "line": {
          "color": "pink"
         },
         "mode": "lines+markers",
         "name": "C",
         "type": "scatter",
         "x": [
          10728.3571175894,
          11033.3725578021
         ],
         "y": [
          17.1035744940917,
          17.2509318128904
         ]
        },
        {
         "line": {
          "color": "pink"
         },
         "mode": "lines+markers",
         "name": "C",
         "type": "scatter",
         "x": [
          10055.2858139843,
          10360.3986838407
         ],
         "y": [
          16.6521944776853,
          16.7513392285188
         ]
        },
        {
         "line": {
          "color": "pink"
         },
         "mode": "lines+markers",
         "name": "C",
         "type": "scatter",
         "x": [
          8683.16957710599,
          8988.21939327
         ],
         "y": [
          16.0528383369923,
          16.2960159456412
         ]
        },
        {
         "line": {
          "color": "pink"
         },
         "mode": "lines+markers",
         "name": "C",
         "type": "scatter",
         "x": [
          9333.2588462774,
          9638.29501915911
         ],
         "y": [
          16.4532725627899,
          16.5954365447839
         ]
        },
        {
         "line": {
          "color": "pink"
         },
         "mode": "lines+markers",
         "name": "C",
         "type": "scatter",
         "x": [
          13532.8593579367,
          13837.8672231274
         ],
         "y": [
          18.1013694679419,
          18.2511088943164
         ]
        },
        {
         "line": {
          "color": "pink"
         },
         "mode": "lines+markers",
         "name": "C",
         "type": "scatter",
         "x": [
          8072.08296662798,
          8377.11051283155
         ],
         "y": [
          15.6493885532697,
          15.8010293360233
         ]
        },
        {
         "line": {
          "color": "pink"
         },
         "mode": "lines+markers",
         "name": "C",
         "type": "scatter",
         "x": [
          13233.746755947,
          12928.7463832699
         ],
         "y": [
          17.9030770178318,
          17.799103561608
         ]
        },
        {
         "line": {
          "color": "pink"
         },
         "mode": "lines+markers",
         "name": "C",
         "type": "scatter",
         "x": [
          7049.94492594709,
          7354.99431628768
         ],
         "y": [
          14.6950287019889,
          15.0008576686859
         ]
        },
        {
         "line": {
          "color": "pink"
         },
         "mode": "lines+markers",
         "name": "C",
         "type": "scatter",
         "x": [
          13233.746755947,
          13538.8161480263
         ],
         "y": [
          17.9030770178318,
          18.0470236277262
         ]
        },
        {
         "line": {
          "color": "pink"
         },
         "mode": "lines+markers",
         "name": "C",
         "type": "scatter",
         "x": [
          8199.02774405191,
          8504.04263073219
         ],
         "y": [
          15.8948396360556,
          16.1530903951009
         ]
        },
        {
         "line": {
          "color": "pink"
         },
         "mode": "lines+markers",
         "name": "C",
         "type": "scatter",
         "x": [
          14100.9741945289,
          13795.9345648728
         ],
         "y": [
          18.2511088943164,
          18.1968122040908
         ]
        },
        {
         "line": {
          "color": "pink"
         },
         "mode": "lines+markers",
         "name": "C",
         "type": "scatter",
         "x": [
          7712.02652652407,
          8017.06612231526
         ],
         "y": [
          15.3475874360084,
          15.5487364367326
         ]
        },
        {
         "line": {
          "color": "pink"
         },
         "mode": "lines+markers",
         "name": "C",
         "type": "scatter",
         "x": [
          5735.76720774992,
          6040.79268304198
         ],
         "y": [
          13.4495166873614,
          13.747512612311
         ]
        },
        {
         "line": {
          "color": "pink"
         },
         "mode": "lines+markers",
         "name": "C",
         "type": "scatter",
         "x": [
          13192.8566200077,
          13497.9187622632
         ],
         "y": [
          17.9511506950537,
          17.9511506950537
         ]
        },
        {
         "line": {
          "color": "pink"
         },
         "mode": "lines+markers",
         "name": "C",
         "type": "scatter",
         "x": [
          20284.7718189164,
          20589.8196341436
         ],
         "y": [
          19.4499556616624,
          19.4499556616624
         ]
        },
        {
         "line": {
          "color": "pink"
         },
         "mode": "lines+markers",
         "name": "C",
         "type": "scatter",
         "x": [
          8505.0423355844,
          8810.08434041484
         ],
         "y": [
          15.995460384655,
          16.2960159456412
         ]
        },
        {
         "line": {
          "color": "pink"
         },
         "mode": "lines+markers",
         "name": "C",
         "type": "scatter",
         "x": [
          7354.99431628768,
          7660.01818754826
         ],
         "y": [
          15.0008576686859,
          15.1457434113502
         ]
        },
        {
         "line": {
          "color": "pink"
         },
         "mode": "lines+markers",
         "name": "C",
         "type": "scatter",
         "x": [
          8282.11925319183,
          8587.1619535345
         ],
         "y": [
          15.3475874360084,
          15.5055924033801
         ]
        },
        {
         "line": {
          "color": "pink"
         },
         "mode": "lines+markers",
         "name": "C",
         "type": "scatter",
         "x": [
          11589.534157564,
          11894.5810540548
         ],
         "y": [
          17.3986328617414,
          17.595881628561
         ]
        },
        {
         "line": {
          "color": "pink"
         },
         "mode": "lines+markers",
         "name": "C",
         "type": "scatter",
         "x": [
          8892.19813328106,
          8587.1619535345
         ],
         "y": [
          15.8010293360233,
          15.5055924033801
         ]
        },
        {
         "line": {
          "color": "pink"
         },
         "mode": "lines+markers",
         "name": "C",
         "type": "scatter",
         "x": [
          8878.12489445188,
          8573.14600996262
         ],
         "y": [
          16.1530903951009,
          15.5055924033801
         ]
        },
        {
         "line": {
          "color": "pink"
         },
         "mode": "lines+markers",
         "name": "A",
         "type": "scatter",
         "x": [
          4242.47886654313,
          4571.52938613143
         ],
         "y": [
          11.3946824864229,
          12.3505774612904
         ]
        },
        {
         "line": {
          "color": "pink"
         },
         "mode": "lines+markers",
         "name": "A",
         "type": "scatter",
         "x": [
          7202.89070840819,
          6873.83500253861
         ],
         "y": [
          15.2034749106248,
          14.9500933702469
         ]
        },
        {
         "line": {
          "color": "pink"
         },
         "mode": "lines+markers",
         "name": "A",
         "type": "scatter",
         "x": [
          6528.7832733723,
          6857.83612472902
         ],
         "y": [
          14.4983041778882,
          14.9500933702469
         ]
        },
        {
         "line": {
          "color": "pink"
         },
         "mode": "lines+markers",
         "name": "A",
         "type": "scatter",
         "x": [
          9139.15139571762,
          8810.08434041484
         ],
         "y": [
          16.3962323780537,
          16.2960159456412
         ]
        },
        {
         "line": {
          "color": "pink"
         },
         "mode": "lines+markers",
         "name": "A",
         "type": "scatter",
         "x": [
          7876.98409215749,
          7547.92948439711
         ],
         "y": [
          15.6998203352769,
          15.5487364367326
         ]
        },
        {
         "line": {
          "color": "pink"
         },
         "mode": "lines+markers",
         "name": "A",
         "type": "scatter",
         "x": [
          13555.749540874,
          13226.8031441161
         ],
         "y": [
          18.1013694679419,
          18.0470236277262
         ]
        },
        {
         "line": {
          "color": "pink"
         },
         "mode": "lines+markers",
         "name": "A",
         "type": "scatter",
         "x": [
          10134.2708137591,
          9805.23505515983
         ],
         "y": [
          16.8995118434906,
          16.4959380960147
         ]
        },
        {
         "line": {
          "color": "pink"
         },
         "mode": "lines+markers",
         "name": "A",
         "type": "scatter",
         "x": [
          12559.8106384998,
          12230.7283601848
         ],
         "y": [
          17.8478617942015,
          17.6522636190732
         ]
        },
        {
         "line": {
          "color": "pink"
         },
         "mode": "lines+markers",
         "name": "A",
         "type": "scatter",
         "x": [
          24297.1165372079,
          23968.1240569712
         ],
         "y": [
          19.7507101948738,
          19.9006463781675
         ]
        },
        {
         "line": {
          "color": "pink"
         },
         "mode": "lines+markers",
         "name": "A",
         "type": "scatter",
         "x": [
          11990.4999804882,
          11661.4393357706
         ],
         "y": [
          17.595881628561,
          17.595881628561
         ]
        },
        {
         "line": {
          "color": "pink"
         },
         "mode": "lines+markers",
         "name": "A",
         "type": "scatter",
         "x": [
          8072.08296662798,
          7743.02193163646
         ],
         "y": [
          15.6493885532697,
          15.2466444130421
         ]
        },
        {
         "line": {
          "color": "pink"
         },
         "mode": "lines+markers",
         "name": "A",
         "type": "scatter",
         "x": [
          16673.2946054569,
          16344.2616720469
         ],
         "y": [
          18.8555435692946,
          18.7495013868491
         ]
        },
        {
         "line": {
          "color": "pink"
         },
         "mode": "lines+markers",
         "name": "A",
         "type": "scatter",
         "x": [
          6786.92229373416,
          6457.84995987518
         ],
         "y": [
          14.5492934937954,
          13.7984283860207
         ]
        },
        {
         "line": {
          "color": "pink"
         },
         "mode": "lines+markers",
         "name": "A",
         "type": "scatter",
         "x": [
          17692.4259198982,
          17363.3867007487
         ],
         "y": [
          19.0537902033011,
          18.8555435692946
         ]
        },
        {
         "line": {
          "color": "pink"
         },
         "mode": "lines+markers",
         "name": "A",
         "type": "scatter",
         "x": [
          7437.97645304623,
          7767.04313985023
         ],
         "y": [
          15.0443844790936,
          15.5487364367326
         ]
        },
        {
         "line": {
          "color": "pink"
         },
         "mode": "lines+markers",
         "name": "A",
         "type": "scatter",
         "x": [
          10634.4001850596,
          10305.393213609
         ],
         "y": [
          17.0474973872979,
          16.948951768446
         ]
        },
        {
         "line": {
          "color": "pink"
         },
         "mode": "lines+markers",
         "name": "A",
         "type": "scatter",
         "x": [
          9749.26940659541,
          9420.22160392623
         ],
         "y": [
          16.4532725627899,
          16.3532493348598
         ]
        },
        {
         "line": {
          "color": "pink"
         },
         "mode": "lines+markers",
         "name": "A",
         "type": "scatter",
         "x": [
          9678.30061547225,
          9349.26982670593
         ],
         "y": [
          16.6521944776853,
          16.3962323780537
         ]
        },
        {
         "line": {
          "color": "pink"
         },
         "mode": "lines+markers",
         "name": "A",
         "type": "scatter",
         "x": [
          13555.749540874,
          13884.8020160839
         ],
         "y": [
          18.1013694679419,
          18.1490621781031
         ]
        },
        {
         "line": {
          "color": "pink"
         },
         "mode": "lines+markers",
         "name": "A",
         "type": "scatter",
         "x": [
          16200.0535869215,
          16529.1199506954
         ],
         "y": [
          18.7495013868491,
          18.7495013868491
         ]
        },
        {
         "line": {
          "color": "pink"
         },
         "mode": "lines+markers",
         "name": "A",
         "type": "scatter",
         "x": [
          8722.16445003679,
          8393.11666317877
         ],
         "y": [
          16.0959553038756,
          15.8514856870651
         ]
        },
        {
         "line": {
          "color": "pink"
         },
         "mode": "lines+markers",
         "name": "A",
         "type": "scatter",
         "x": [
          10328.3868064708,
          9999.34044317448
         ],
         "y": [
          16.7513392285188,
          16.7938160534382
         ]
        },
        {
         "line": {
          "color": "pink"
         },
         "mode": "lines+markers",
         "name": "A",
         "type": "scatter",
         "x": [
          9670.36249439838,
          9999.34044317448
         ],
         "y": [
          16.4959380960147,
          16.7938160534382
         ]
        },
        {
         "line": {
          "color": "pink"
         },
         "mode": "lines+markers",
         "name": "A",
         "type": "scatter",
         "x": [
          8048.07578313756,
          8377.11051283155
         ],
         "y": [
          15.5487364367326,
          15.8010293360233
         ]
        },
        {
         "line": {
          "color": "pink"
         },
         "mode": "lines+markers",
         "name": "A",
         "type": "scatter",
         "x": [
          13209.8082387353,
          13538.8161480263
         ],
         "y": [
          17.8478617942015,
          18.0470236277262
         ]
        },
        {
         "line": {
          "color": "pink"
         },
         "mode": "lines+markers",
         "name": "A",
         "type": "scatter",
         "x": [
          7563.94340448064,
          7892.9885203497
         ],
         "y": [
          15.4050634856701,
          15.6493885532697
         ]
        },
        {
         "line": {
          "color": "pink"
         },
         "mode": "lines+markers",
         "name": "A",
         "type": "scatter",
         "x": [
          7132.95357065589,
          7462.04983117297
         ],
         "y": [
          14.9500933702469,
          15.4050634856701
         ]
        },
        {
         "line": {
          "color": "pink"
         },
         "mode": "lines+markers",
         "name": "A",
         "type": "scatter",
         "x": [
          7203.88042538061,
          7532.92596935066
         ],
         "y": [
          15.0443844790936,
          15.4050634856701
         ]
        },
        {
         "line": {
          "color": "pink"
         },
         "mode": "lines+markers",
         "name": "A",
         "type": "scatter",
         "x": [
          15789.1239550972,
          16118.1549720526
         ],
         "y": [
          18.696357611386,
          18.8024065947215
         ]
        },
        {
         "line": {
          "color": "pink"
         },
         "mode": "lines+markers",
         "name": "A",
         "type": "scatter",
         "x": [
          9020.28684079731,
          9349.26982670593
         ],
         "y": [
          16.3532493348598,
          16.3962323780537
         ]
        },
        {
         "line": {
          "color": "pink"
         },
         "mode": "lines+markers",
         "name": "A",
         "type": "scatter",
         "x": [
          8681.14959807303,
          9010.20488732706
         ],
         "y": [
          15.8514856870651,
          16.1960425273259
         ]
        },
        {
         "line": {
          "color": "pink"
         },
         "mode": "lines+markers",
         "name": "A",
         "type": "scatter",
         "x": [
          17732.3801336932,
          17403.373898261
         ],
         "y": [
          19.0998493448575,
          18.8555435692946
         ]
        },
        {
         "line": {
          "color": "pink"
         },
         "mode": "lines+markers",
         "name": "A",
         "type": "scatter",
         "x": [
          7861.97131225093,
          7532.92596935066
         ],
         "y": [
          15.6493885532697,
          15.4050634856701
         ]
        },
        {
         "line": {
          "color": "pink"
         },
         "mode": "lines+markers",
         "name": "G",
         "type": "scatter",
         "x": [
          1096.92383499644,
          751.883403599114
         ],
         "y": [
          6.25496734536489,
          24.8987661357403
         ]
        },
        {
         "line": {
          "color": "pink"
         },
         "mode": "lines+markers",
         "name": "G",
         "type": "scatter",
         "x": [
          1096.92383499644,
          751.883287774678
         ],
         "y": [
          6.25496734536489,
          18.1013694679419
         ]
        },
        {
         "line": {
          "color": "pink"
         },
         "mode": "lines+markers",
         "name": "G",
         "type": "scatter",
         "x": [
          4571.52938613143,
          4916.57921847177
         ],
         "y": [
          12.3505774612904,
          12.7975431775729
         ]
        },
        {
         "line": {
          "color": "pink"
         },
         "mode": "lines+markers",
         "name": "G",
         "type": "scatter",
         "x": [
          7202.89070840819,
          6857.83612472902
         ],
         "y": [
          15.2034749106248,
          14.9500933702469
         ]
        },
        {
         "line": {
          "color": "pink"
         },
         "mode": "lines+markers",
         "name": "G",
         "type": "scatter",
         "x": [
          9139.15139571762,
          8794.08411972788
         ],
         "y": [
          16.3962323780537,
          16.2531933621248
         ]
        },
        {
         "line": {
          "color": "pink"
         },
         "mode": "lines+markers",
         "name": "G",
         "type": "scatter",
         "x": [
          7548.9323329077,
          7203.88042538061
         ],
         "y": [
          15.4050634856701,
          15.0443844790936
         ]
        },
        {
         "line": {
          "color": "pink"
         },
         "mode": "lines+markers",
         "name": "G",
         "type": "scatter",
         "x": [
          6056.87680513304,
          6401.91968704731
         ],
         "y": [
          13.252036688296,
          13.5515568371296
         ]
        },
        {
         "line": {
          "color": "pink"
         },
         "mode": "lines+markers",
         "name": "G",
         "type": "scatter",
         "x": [
          7692.09433891764,
          7347.04745841545
         ],
         "y": [
          15.0443844790936,
          14.9500933702469
         ]
        },
        {
         "line": {
          "color": "pink"
         },
         "mode": "lines+markers",
         "name": "G",
         "type": "scatter",
         "x": [
          7692.09433891764,
          8037.13728722588
         ],
         "y": [
          15.0443844790936,
          15.2466444130421
         ]
        },
        {
         "line": {
          "color": "pink"
         },
         "mode": "lines+markers",
         "name": "G",
         "type": "scatter",
         "x": [
          8037.13728722588,
          8382.17931368588
         ],
         "y": [
          15.2466444130421,
          15.5055924033801
         ]
        },
        {
         "line": {
          "color": "pink"
         },
         "mode": "lines+markers",
         "name": "G",
         "type": "scatter",
         "x": [
          9139.15139571762,
          9484.17484482664
         ],
         "y": [
          16.3962323780537,
          16.5954365447839
         ]
        },
        {
         "line": {
          "color": "pink"
         },
         "mode": "lines+markers",
         "name": "G",
         "type": "scatter",
         "x": [
          9789.24915970905,
          10134.2708137591
         ],
         "y": [
          16.6946649109999,
          16.8995118434906
         ]
        },
        {
         "line": {
          "color": "pink"
         },
         "mode": "lines+markers",
         "name": "G",
         "type": "scatter",
         "x": [
          13555.749540874,
          13900.8120433257
         ],
         "y": [
          18.1013694679419,
          18.1490621781031
         ]
        },
        {
         "line": {
          "color": "pink"
         },
         "mode": "lines+markers",
         "name": "G",
         "type": "scatter",
         "x": [
          10665.5099149258,
          10320.4627271031
         ],
         "y": [
          16.8995118434906,
          16.7513392285188
         ]
        },
        {
         "line": {
          "color": "pink"
         },
         "mode": "lines+markers",
         "name": "G",
         "type": "scatter",
         "x": [
          7202.89070840819,
          7547.92948439711
         ],
         "y": [
          15.2034749106248,
          15.5487364367326
         ]
        },
        {
         "line": {
          "color": "pink"
         },
         "mode": "lines+markers",
         "name": "G",
         "type": "scatter",
         "x": [
          11990.4999804882,
          11645.4607164202
         ],
         "y": [
          17.595881628561,
          17.4549535031795
         ]
        },
        {
         "line": {
          "color": "pink"
         },
         "mode": "lines+markers",
         "name": "G",
         "type": "scatter",
         "x": [
          15082.1061402827,
          14737.0553594743
         ],
         "y": [
          18.4953146274567,
          18.4006968871435
         ]
        },
        {
         "line": {
          "color": "pink"
         },
         "mode": "lines+markers",
         "name": "G",
         "type": "scatter",
         "x": [
          10015.4211693972,
          9670.36249439838
         ],
         "y": [
          16.6521944776853,
          16.4959380960147
         ]
        },
        {
         "line": {
          "color": "pink"
         },
         "mode": "lines+markers",
         "name": "G",
         "type": "scatter",
         "x": [
          5568.65388306123,
          5913.70240974159
         ],
         "y": [
          13.5004550194422,
          14.1480981444995
         ]
        },
        {
         "line": {
          "color": "pink"
         },
         "mode": "lines+markers",
         "name": "G",
         "type": "scatter",
         "x": [
          9982.32433656743,
          9637.28283044533
         ],
         "y": [
          16.6521944776853,
          16.4959380960147
         ]
        },
        {
         "line": {
          "color": "pink"
         },
         "mode": "lines+markers",
         "name": "G",
         "type": "scatter",
         "x": [
          7743.02193163646,
          7397.98324674173
         ],
         "y": [
          15.2466444130421,
          15.1023240780512
         ]
        },
        {
         "line": {
          "color": "pink"
         },
         "mode": "lines+markers",
         "name": "G",
         "type": "scatter",
         "x": [
          9983.34675591344,
          9638.29501915911
         ],
         "y": [
          16.7938160534382,
          16.5954365447839
         ]
        },
        {
         "line": {
          "color": "pink"
         },
         "mode": "lines+markers",
         "name": "G",
         "type": "scatter",
         "x": [
          14431.9954733384,
          14086.9715514145
         ],
         "y": [
          18.2985689774831,
          18.2511088943164
         ]
        },
        {
         "line": {
          "color": "pink"
         },
         "mode": "lines+markers",
         "name": "G",
         "type": "scatter",
         "x": [
          9000.2131525261,
          8655.16816498534
         ],
         "y": [
          16.1960425273259,
          16.0528383369923
         ]
        },
        {
         "line": {
          "color": "pink"
         },
         "mode": "lines+markers",
         "name": "G",
         "type": "scatter",
         "x": [
          9678.30061547225,
          9333.2588462774
         ],
         "y": [
          16.6521944776853,
          16.4532725627899
         ]
        },
        {
         "line": {
          "color": "pink"
         },
         "mode": "lines+markers",
         "name": "G",
         "type": "scatter",
         "x": [
          15082.1061402827,
          15427.1429738068
         ],
         "y": [
          18.4953146274567,
          18.6028141275724
         ]
        },
        {
         "line": {
          "color": "pink"
         },
         "mode": "lines+markers",
         "name": "G",
         "type": "scatter",
         "x": [
          9325.31511376077,
          9670.36249439838
         ],
         "y": [
          16.4959380960147,
          16.4959380960147
         ]
        },
        {
         "line": {
          "color": "pink"
         },
         "mode": "lines+markers",
         "name": "G",
         "type": "scatter",
         "x": [
          10022.3293308457,
          9677.30999959762
         ],
         "y": [
          16.7513392285188,
          16.5954365447839
         ]
        },
        {
         "line": {
          "color": "pink"
         },
         "mode": "lines+markers",
         "name": "G",
         "type": "scatter",
         "x": [
          16184.0944888297,
          16529.1199506954
         ],
         "y": [
          18.7495013868491,
          18.7495013868491
         ]
        },
        {
         "line": {
          "color": "pink"
         },
         "mode": "lines+markers",
         "name": "G",
         "type": "scatter",
         "x": [
          8722.16445003679,
          8377.11051283155
         ],
         "y": [
          16.0959553038756,
          15.8010293360233
         ]
        },
        {
         "line": {
          "color": "pink"
         },
         "mode": "lines+markers",
         "name": "G",
         "type": "scatter",
         "x": [
          11275.6027433194,
          11620.63674365
         ],
         "y": [
          17.2018565114021,
          17.3986328617414
         ]
        },
        {
         "line": {
          "color": "pink"
         },
         "mode": "lines+markers",
         "name": "G",
         "type": "scatter",
         "x": [
          14565.8771684082,
          14220.8231805298
         ],
         "y": [
          18.4006968871435,
          18.1490621781031
         ]
        },
        {
         "line": {
          "color": "pink"
         },
         "mode": "lines+markers",
         "name": "G",
         "type": "scatter",
         "x": [
          8738.18856913414,
          8393.11666317877
         ],
         "y": [
          16.0959553038756,
          15.8514856870651
         ]
        },
        {
         "line": {
          "color": "pink"
         },
         "mode": "lines+markers",
         "name": "G",
         "type": "scatter",
         "x": [
          9983.34675591344,
          10328.3868064708
         ],
         "y": [
          16.7938160534382,
          16.7513392285188
         ]
        },
        {
         "line": {
          "color": "pink"
         },
         "mode": "lines+markers",
         "name": "G",
         "type": "scatter",
         "x": [
          11244.5198607001,
          11589.534157564
         ],
         "y": [
          17.3000654275894,
          17.3986328617414
         ]
        },
        {
         "line": {
          "color": "pink"
         },
         "mode": "lines+markers",
         "name": "G",
         "type": "scatter",
         "x": [
          8048.07578313756,
          8393.11666317877
         ],
         "y": [
          15.5487364367326,
          15.8514856870651
         ]
        },
        {
         "line": {
          "color": "pink"
         },
         "mode": "lines+markers",
         "name": "G",
         "type": "scatter",
         "x": [
          17363.3867007487,
          17018.3474490374
         ],
         "y": [
          18.8555435692946,
          18.8954182958285
         ]
        },
        {
         "line": {
          "color": "pink"
         },
         "mode": "lines+markers",
         "name": "G",
         "type": "scatter",
         "x": [
          16673.2946054569,
          17018.3474490374
         ],
         "y": [
          18.8555435692946,
          18.8954182958285
         ]
        },
        {
         "line": {
          "color": "pink"
         },
         "mode": "lines+markers",
         "name": "G",
         "type": "scatter",
         "x": [
          10015.4211693972,
          10360.3986838407
         ],
         "y": [
          16.6521944776853,
          16.7513392285188
         ]
        },
        {
         "line": {
          "color": "pink"
         },
         "mode": "lines+markers",
         "name": "G",
         "type": "scatter",
         "x": [
          18308.5074479307,
          18653.5600643707
         ],
         "y": [
          19.1459019696395,
          19.1981348112901
         ]
        },
        {
         "line": {
          "color": "pink"
         },
         "mode": "lines+markers",
         "name": "G",
         "type": "scatter",
         "x": [
          9333.2588462774,
          8988.21939327
         ],
         "y": [
          16.4532725627899,
          16.2960159456412
         ]
        },
        {
         "line": {
          "color": "pink"
         },
         "mode": "lines+markers",
         "name": "G",
         "type": "scatter",
         "x": [
          6620.89198720494,
          6275.84686916836
         ],
         "y": [
          14.9500933702469,
          14.6512711361726
         ]
        },
        {
         "line": {
          "color": "pink"
         },
         "mode": "lines+markers",
         "name": "G",
         "type": "scatter",
         "x": [
          12864.8269938343,
          13209.8082387353
         ],
         "y": [
          17.8478617942015,
          17.8478617942015
         ]
        },
        {
         "line": {
          "color": "pink"
         },
         "mode": "lines+markers",
         "name": "G",
         "type": "scatter",
         "x": [
          5550.65348992162,
          5895.69167129136
         ],
         "y": [
          13.2960409199874,
          13.747512612311
         ]
        },
        {
         "line": {
          "color": "pink"
         },
         "mode": "lines+markers",
         "name": "G",
         "type": "scatter",
         "x": [
          7366.98018169427,
          7712.02652652407
         ],
         "y": [
          15.0443844790936,
          15.3475874360084
         ]
        },
        {
         "line": {
          "color": "pink"
         },
         "mode": "lines+markers",
         "name": "G",
         "type": "scatter",
         "x": [
          7547.92948439711,
          7892.9885203497
         ],
         "y": [
          15.5487364367326,
          15.6493885532697
         ]
        },
        {
         "line": {
          "color": "pink"
         },
         "mode": "lines+markers",
         "name": "G",
         "type": "scatter",
         "x": [
          16529.1199506954,
          16874.1868127079
         ],
         "y": [
          18.7495013868491,
          18.8954182958285
         ]
        },
        {
         "line": {
          "color": "pink"
         },
         "mode": "lines+markers",
         "name": "G",
         "type": "scatter",
         "x": [
          6528.7832733723,
          6873.83500253861
         ],
         "y": [
          14.4983041778882,
          14.9500933702469
         ]
        },
        {
         "line": {
          "color": "pink"
         },
         "mode": "lines+markers",
         "name": "G",
         "type": "scatter",
         "x": [
          18653.5600643707,
          18998.594833934
         ],
         "y": [
          19.1981348112901,
          19.2500301118374
         ]
        },
        {
         "line": {
          "color": "pink"
         },
         "mode": "lines+markers",
         "name": "G",
         "type": "scatter",
         "x": [
          11965.6112994327,
          11620.63674365
         ],
         "y": [
          17.4549535031795,
          17.3986328617414
         ]
        },
        {
         "line": {
          "color": "pink"
         },
         "mode": "lines+markers",
         "name": "U",
         "type": "scatter",
         "x": [
          1033.89764825886,
          727.863748275547
         ],
         "y": [
          20.1496977106412,
          14.6512711361726
         ]
        },
        {
         "line": {
          "color": "pink"
         },
         "mode": "lines+markers",
         "name": "U",
         "type": "scatter",
         "x": [
          1069.86567951758,
          763.832613816054
         ],
         "y": [
          20.3038228030682,
          15.6061819946448
         ]
        },
        {
         "line": {
          "color": "pink"
         },
         "mode": "lines+markers",
         "name": "U",
         "type": "scatter",
         "x": [
          1307.85624992109,
          1001.82287639412
         ],
         "y": [
          20.1026214277426,
          1.69939231233597
         ]
        },
        {
         "line": {
          "color": "pink"
         },
         "mode": "lines+markers",
         "name": "U",
         "type": "scatter",
         "x": [
          1308.85547074426,
          1002.82456702488
         ],
         "y": [
          15.0443844790936,
          2.55380676147143
         ]
        },
        {
         "line": {
          "color": "pink"
         },
         "mode": "lines+markers",
         "name": "U",
         "type": "scatter",
         "x": [
          5222.60479236492,
          4916.57921847177
         ],
         "y": [
          13.2008065199534,
          12.7975431775729
         ]
        },
        {
         "line": {
          "color": "pink"
         },
         "mode": "lines+markers",
         "name": "U",
         "type": "scatter",
         "x": [
          8183.01026314414,
          7876.98409215749
         ],
         "y": [
          15.8948396360556,
          15.6998203352769
         ]
        },
        {
         "line": {
          "color": "pink"
         },
         "mode": "lines+markers",
         "name": "U",
         "type": "scatter",
         "x": [
          8183.01026314414,
          8489.03673933454
         ],
         "y": [
          15.8948396360556,
          16.0959553038756
         ]
        },
        {
         "line": {
          "color": "pink"
         },
         "mode": "lines+markers",
         "name": "U",
         "type": "scatter",
         "x": [
          1307.85409148885,
          1001.82287639412
         ],
         "y": [
          1.60212451176643,
          1.69939231233597
         ]
        },
        {
         "line": {
          "color": "pink"
         },
         "mode": "lines+markers",
         "name": "U",
         "type": "scatter",
         "x": [
          10439.2991618954,
          10745.3419649165
         ],
         "y": [
          16.9983260368983,
          17.1456405357202
         ]
        },
        {
         "line": {
          "color": "pink"
         },
         "mode": "lines+markers",
         "name": "U",
         "type": "scatter",
         "x": [
          11356.4353442606,
          11050.3877175941
         ],
         "y": [
          17.3986328617414,
          17.3000654275894
         ]
        },
        {
         "line": {
          "color": "pink"
         },
         "mode": "lines+markers",
         "name": "U",
         "type": "scatter",
         "x": [
          11356.4353442606,
          11662.4619412791
         ],
         "y": [
          17.3986328617414,
          17.4549535031795
         ]
        },
        {
         "line": {
          "color": "pink"
         },
         "mode": "lines+markers",
         "name": "U",
         "type": "scatter",
         "x": [
          6826.9056827863,
          6520.86105061516
         ],
         "y": [
          14.4983041778882,
          14.2502431865215
         ]
        },
        {
         "line": {
          "color": "pink"
         },
         "mode": "lines+markers",
         "name": "U",
         "type": "scatter",
         "x": [
          5115.77399163721,
          5421.79640446909
         ],
         "y": [
          11.4961999352455,
          11.9478294030507
         ]
        },
        {
         "line": {
          "color": "pink"
         },
         "mode": "lines+markers",
         "name": "U",
         "type": "scatter",
         "x": [
          12296.5606295918,
          11990.4999804882
         ],
         "y": [
          17.7503235693455,
          17.595881628561
         ]
        },
        {
         "line": {
          "color": "pink"
         },
         "mode": "lines+markers",
         "name": "U",
         "type": "scatter",
         "x": [
          13900.8120433257,
          13594.7384576037
         ],
         "y": [
          18.1490621781031,
          17.9991986369769
         ]
        },
        {
         "line": {
          "color": "pink"
         },
         "mode": "lines+markers",
         "name": "U",
         "type": "scatter",
         "x": [
          9484.17484482664,
          9790.22223237134
         ],
         "y": [
          16.5954365447839,
          16.7513392285188
         ]
        },
        {
         "line": {
          "color": "pink"
         },
         "mode": "lines+markers",
         "name": "U",
         "type": "scatter",
         "x": [
          13475.9058481505,
          13781.9127305235
         ],
         "y": [
          18.0470236277262,
          18.1490621781031
         ]
        },
        {
         "line": {
          "color": "pink"
         },
         "mode": "lines+markers",
         "name": "U",
         "type": "scatter",
         "x": [
          16038.2193439321,
          15732.1922690568
         ],
         "y": [
          18.696357611386,
          18.6563473697186
         ]
        },
        {
         "line": {
          "color": "pink"
         },
         "mode": "lines+markers",
         "name": "U",
         "type": "scatter",
         "x": [
          8683.16957710599,
          8377.11051283155
         ],
         "y": [
          16.0528383369923,
          15.8010293360233
         ]
        },
        {
         "line": {
          "color": "pink"
         },
         "mode": "lines+markers",
         "name": "U",
         "type": "scatter",
         "x": [
          13532.8593579367,
          13226.8031441161
         ],
         "y": [
          18.1013694679419,
          18.0470236277262
         ]
        },
        {
         "line": {
          "color": "pink"
         },
         "mode": "lines+markers",
         "name": "U",
         "type": "scatter",
         "x": [
          12864.8269938343,
          13170.84211685
         ],
         "y": [
          17.8478617942015,
          17.9511506950537
         ]
        },
        {
         "line": {
          "color": "pink"
         },
         "mode": "lines+markers",
         "name": "U",
         "type": "scatter",
         "x": [
          8489.03673933454,
          8795.10136124633
         ],
         "y": [
          16.0959553038756,
          15.995460384655
         ]
        },
        {
         "line": {
          "color": "pink"
         },
         "mode": "lines+markers",
         "name": "U",
         "type": "scatter",
         "x": [
          8072.08296662798,
          8378.1204546411
         ],
         "y": [
          15.6493885532697,
          15.8948396360556
         ]
        },
        {
         "line": {
          "color": "pink"
         },
         "mode": "lines+markers",
         "name": "U",
         "type": "scatter",
         "x": [
          9983.34675591344,
          9677.30999959762
         ],
         "y": [
          16.7938160534382,
          16.5954365447839
         ]
        },
        {
         "line": {
          "color": "pink"
         },
         "mode": "lines+markers",
         "name": "U",
         "type": "scatter",
         "x": [
          15732.1922690568,
          15426.1368412173
         ],
         "y": [
          18.6563473697186,
          18.5491172031244
         ]
        },
        {
         "line": {
          "color": "pink"
         },
         "mode": "lines+markers",
         "name": "U",
         "type": "scatter",
         "x": [
          10634.4001850596,
          10328.3868064708
         ],
         "y": [
          17.0474973872979,
          16.7513392285188
         ]
        },
        {
         "line": {
          "color": "pink"
         },
         "mode": "lines+markers",
         "name": "U",
         "type": "scatter",
         "x": [
          14895.9061356758,
          15201.9575731271
         ],
         "y": [
          18.4548025782585,
          18.4953146274567
         ]
        },
        {
         "line": {
          "color": "pink"
         },
         "mode": "lines+markers",
         "name": "U",
         "type": "scatter",
         "x": [
          9749.26940659541,
          9443.19757522594
         ],
         "y": [
          16.4532725627899,
          16.2960159456412
         ]
        },
        {
         "line": {
          "color": "pink"
         },
         "mode": "lines+markers",
         "name": "U",
         "type": "scatter",
         "x": [
          6176.81892081406,
          6482.89509382055
         ],
         "y": [
          13.7984283860207,
          14.1992257531166
         ]
        },
        {
         "line": {
          "color": "pink"
         },
         "mode": "lines+markers",
         "name": "U",
         "type": "scatter",
         "x": [
          9982.32433656743,
          10288.3704347995
         ],
         "y": [
          16.6521944776853,
          16.8502351438681
         ]
        },
        {
         "line": {
          "color": "pink"
         },
         "mode": "lines+markers",
         "name": "U",
         "type": "scatter",
         "x": [
          6826.9056827863,
          7132.95357065589
         ],
         "y": [
          14.4983041778882,
          14.9500933702469
         ]
        },
        {
         "line": {
          "color": "pink"
         },
         "mode": "lines+markers",
         "name": "U",
         "type": "scatter",
         "x": [
          12920.7553142024,
          12614.6906832035
         ],
         "y": [
          17.8478617942015,
          17.6522636190732
         ]
        },
        {
         "line": {
          "color": "pink"
         },
         "mode": "lines+markers",
         "name": "U",
         "type": "scatter",
         "x": [
          12920.7553142024,
          13226.8031441161
         ],
         "y": [
          17.8478617942015,
          18.0470236277262
         ]
        },
        {
         "line": {
          "color": "pink"
         },
         "mode": "lines+markers",
         "name": "U",
         "type": "scatter",
         "x": [
          5244.58615882784,
          5550.65348992162
         ],
         "y": [
          13.252036688296,
          13.2960409199874
         ]
        },
        {
         "line": {
          "color": "pink"
         },
         "mode": "lines+markers",
         "name": "U",
         "type": "scatter",
         "x": [
          10022.3293308457,
          10328.3868064708
         ],
         "y": [
          16.7513392285188,
          16.7513392285188
         ]
        },
        {
         "line": {
          "color": "pink"
         },
         "mode": "lines+markers",
         "name": "U",
         "type": "scatter",
         "x": [
          8199.02774405191,
          7892.9885203497
         ],
         "y": [
          15.8948396360556,
          15.6493885532697
         ]
        },
        {
         "line": {
          "color": "pink"
         },
         "mode": "lines+markers",
         "name": "U",
         "type": "scatter",
         "x": [
          11645.4607164202,
          11339.4560540442
         ],
         "y": [
          17.4549535031795,
          17.2018565114021
         ]
        },
        {
         "line": {
          "color": "pink"
         },
         "mode": "lines+markers",
         "name": "U",
         "type": "scatter",
         "x": [
          16038.2193439321,
          16344.2616720469
         ],
         "y": [
          18.696357611386,
          18.7495013868491
         ]
        },
        {
         "line": {
          "color": "pink"
         },
         "mode": "lines+markers",
         "name": "U",
         "type": "scatter",
         "x": [
          7702.02566344593,
          7395.96834918867
         ],
         "y": [
          15.3043170527299,
          14.8482208943049
         ]
        },
        {
         "line": {
          "color": "pink"
         },
         "mode": "lines+markers",
         "name": "U",
         "type": "scatter",
         "x": [
          9027.20521863404,
          9333.2588462774
         ],
         "y": [
          16.1960425273259,
          16.4532725627899
         ]
        },
        {
         "line": {
          "color": "pink"
         },
         "mode": "lines+markers",
         "name": "U",
         "type": "scatter",
         "x": [
          12278.5609450194,
          11972.552229215
         ],
         "y": [
          17.7503235693455,
          17.4972321446419
         ]
        },
        {
         "line": {
          "color": "pink"
         },
         "mode": "lines+markers",
         "name": "U",
         "type": "scatter",
         "x": [
          7861.97131225093,
          8168.00792765815
         ],
         "y": [
          15.6493885532697,
          15.8010293360233
         ]
        },
        {
         "line": {
          "color": "pink"
         },
         "mode": "lines+markers",
         "name": "U",
         "type": "scatter",
         "x": [
          9999.34044317448,
          10305.393213609
         ],
         "y": [
          16.7938160534382,
          16.948951768446
         ]
        },
        {
         "line": {
          "color": "pink"
         },
         "mode": "lines+markers",
         "name": "U",
         "type": "scatter",
         "x": [
          7091.94701365983,
          7397.98324674173
         ],
         "y": [
          14.7971896266619,
          15.1023240780512
         ]
        },
        {
         "line": {
          "color": "pink"
         },
         "mode": "lines+markers",
         "name": "U",
         "type": "scatter",
         "x": [
          11033.3725578021,
          11339.4560540442
         ],
         "y": [
          17.2509318128904,
          17.2018565114021
         ]
        },
        {
         "line": {
          "color": "pink"
         },
         "mode": "lines+markers",
         "name": "U",
         "type": "scatter",
         "x": [
          9043.2184525946,
          9349.26982670593
         ],
         "y": [
          16.2960159456412,
          16.3962323780537
         ]
        },
        {
         "line": {
          "color": "pink"
         },
         "mode": "lines+markers",
         "name": "U",
         "type": "scatter",
         "x": [
          8199.02774405191,
          8505.0423355844
         ],
         "y": [
          15.8948396360556,
          15.995460384655
         ]
        },
        {
         "line": {
          "color": "pink"
         },
         "mode": "lines+markers",
         "name": "U",
         "type": "scatter",
         "x": [
          19978.7569330187,
          20284.7718189164
         ],
         "y": [
          19.3984022533576,
          19.4499556616624
         ]
        },
        {
         "line": {
          "color": "pink"
         },
         "mode": "lines+markers",
         "name": "U",
         "type": "scatter",
         "x": [
          13489.9068736835,
          13795.9345648728
         ],
         "y": [
          18.1013694679419,
          18.1968122040908
         ]
        },
        {
         "line": {
          "color": "pink"
         },
         "mode": "lines+markers",
         "name": "U",
         "type": "scatter",
         "x": [
          11244.5198607001,
          11550.5368876922
         ],
         "y": [
          17.3000654275894,
          17.5535948868275
         ]
        },
        {
         "line": {
          "color": "pink"
         },
         "mode": "lines+markers",
         "name": "U",
         "type": "scatter",
         "x": [
          8988.21939327,
          9294.25403430677
         ],
         "y": [
          16.2960159456412,
          16.3962323780537
         ]
        },
        {
         "line": {
          "color": "pink"
         },
         "mode": "lines+markers",
         "name": "U",
         "type": "scatter",
         "x": [
          8504.04263073219,
          8810.08434041484
         ],
         "y": [
          16.1530903951009,
          16.2960159456412
         ]
        },
        {
         "line": {
          "color": "pink"
         },
         "mode": "lines+markers",
         "name": "U",
         "type": "scatter",
         "x": [
          6223.74397870215,
          6529.78745054443
         ],
         "y": [
          14.2502431865215,
          14.3451653277556
         ]
        },
        {
         "line": {
          "color": "pink"
         },
         "mode": "lines+markers",
         "name": "U",
         "type": "scatter",
         "x": [
          12928.7463832699,
          13234.7346250311
         ],
         "y": [
          17.799103561608,
          17.9030770178318
         ]
        },
        {
         "line": {
          "color": "pink"
         },
         "mode": "lines+markers",
         "name": "U",
         "type": "scatter",
         "x": [
          10055.2858139843,
          9749.26940659541
         ],
         "y": [
          16.6521944776853,
          16.4532725627899
         ]
        },
        {
         "line": {
          "color": "pink"
         },
         "mode": "lines+markers",
         "name": "U",
         "type": "scatter",
         "x": [
          20590.8235487438,
          20284.7718189164
         ],
         "y": [
          19.3984022533576,
          19.4499556616624
         ]
        },
        {
         "line": {
          "color": "pink"
         },
         "mode": "lines+markers",
         "name": "mG",
         "type": "scatter",
         "x": [
          800.846224987058,
          1159.90439198255
         ],
         "y": [
          1.60212451176643,
          22.2505893683116
         ]
        },
        {
         "line": {
          "color": "pink"
         },
         "mode": "lines+markers",
         "name": "mG",
         "type": "scatter",
         "x": [
          7767.04313985023,
          7407.98166124756
         ],
         "y": [
          15.5487364367326,
          15.0008576686859
         ]
        },
        {
         "line": {
          "color": "pink"
         },
         "mode": "lines+markers",
         "name": "mG",
         "type": "scatter",
         "x": [
          13884.8020160839,
          13525.8165317818
         ],
         "y": [
          18.1490621781031,
          18.1013694679419
         ]
        },
        {
         "line": {
          "color": "pink"
         },
         "mode": "lines+markers",
         "name": "mG",
         "type": "scatter",
         "x": [
          14205.8230411644,
          14564.8769724352
         ],
         "y": [
          18.2985689774831,
          18.3461195106983
         ]
        },
        {
         "line": {
          "color": "pink"
         },
         "mode": "lines+markers",
         "name": "mG",
         "type": "scatter",
         "x": [
          11275.6027433194,
          11634.5989061623
         ],
         "y": [
          17.2018565114021,
          17.4549535031795
         ]
        },
        {
         "line": {
          "color": "pink"
         },
         "mode": "lines+markers",
         "name": "mG",
         "type": "scatter",
         "x": [
          10679.5496203544,
          10320.4627271031
         ],
         "y": [
          16.948951768446,
          16.7513392285188
         ]
        },
        {
         "line": {
          "color": "pink"
         },
         "mode": "lines+markers",
         "name": "mG",
         "type": "scatter",
         "x": [
          15441.1072234686,
          15082.1061402827
         ],
         "y": [
          18.5491172031244,
          18.4953146274567
         ]
        },
        {
         "line": {
          "color": "pink"
         },
         "mode": "lines+markers",
         "name": "mG",
         "type": "scatter",
         "x": [
          7491.97653831395,
          7132.95357065589
         ],
         "y": [
          15.2034749106248,
          14.9500933702469
         ]
        },
        {
         "line": {
          "color": "pink"
         },
         "mode": "lines+markers",
         "name": "D",
         "type": "scatter",
         "x": [
          1117.87890010197,
          809.846716829567
         ],
         "y": [
          8.29378807104429,
          18.7495013868491
         ]
        },
        {
         "line": {
          "color": "pink"
         },
         "mode": "lines+markers",
         "name": "D",
         "type": "scatter",
         "x": [
          1117.87890010197,
          809.844794620784
         ],
         "y": [
          8.29378807104429,
          23.5030020351887
         ]
        },
        {
         "line": {
          "color": "pink"
         },
         "mode": "lines+markers",
         "name": "D",
         "type": "scatter",
         "x": [
          6528.7832733723,
          6220.74080680678
         ],
         "y": [
          14.4983041778882,
          14.2502431865215
         ]
        },
        {
         "line": {
          "color": "pink"
         },
         "mode": "lines+markers",
         "name": "D",
         "type": "scatter",
         "x": [
          6220.74080680678,
          5912.69995386829
         ],
         "y": [
          14.2502431865215,
          13.951164994208
         ]
        },
        {
         "line": {
          "color": "pink"
         },
         "mode": "lines+markers",
         "name": "D",
         "type": "scatter",
         "x": [
          8701.2258534746,
          8393.11666317877
         ],
         "y": [
          15.8948396360556,
          15.8514856870651
         ]
        },
        {
         "line": {
          "color": "pink"
         },
         "mode": "lines+markers",
         "name": "D",
         "type": "scatter",
         "x": [
          1117.8788,
          809.846716829567
         ],
         "y": [
          12.4456537619909,
          18.7495013868491
         ]
        },
        {
         "line": {
          "color": "pink"
         },
         "mode": "lines+markers",
         "name": "D",
         "type": "scatter",
         "x": [
          1117.8788,
          809.844794620784
         ],
         "y": [
          12.4456537619909,
          23.5030020351887
         ]
        },
        {
         "line": {
          "color": "pink"
         },
         "mode": "lines+markers",
         "name": "D",
         "type": "scatter",
         "x": [
          17692.4259198982,
          18000.4753601492
         ],
         "y": [
          19.0537902033011,
          19.0537902033011
         ]
        },
        {
         "line": {
          "color": "pink"
         },
         "mode": "lines+markers",
         "name": "D",
         "type": "scatter",
         "x": [
          18000.4753601492,
          18308.5074479307
         ],
         "y": [
          19.0537902033011,
          19.1459019696395
         ]
        },
        {
         "line": {
          "color": "pink"
         },
         "mode": "lines+markers",
         "name": "D",
         "type": "scatter",
         "x": [
          9670.36249439838,
          9362.26248728585
         ],
         "y": [
          16.4959380960147,
          16.3962323780537
         ]
        },
        {
         "line": {
          "color": "pink"
         },
         "mode": "lines+markers",
         "name": "D",
         "type": "scatter",
         "x": [
          9690.29974241533,
          9998.3323093006
         ],
         "y": [
          16.5528220112801,
          16.6946649109999
         ]
        },
        {
         "line": {
          "color": "pink"
         },
         "mode": "lines+markers",
         "name": "D",
         "type": "scatter",
         "x": [
          13497.9187622632,
          13805.9373081385
         ],
         "y": [
          17.9511506950537,
          18.1968122040908
         ]
        },
        {
         "line": {
          "color": "pink"
         },
         "mode": "lines+markers",
         "name": "mC",
         "type": "scatter",
         "x": [
          8701.2258534746,
          8382.17931368588
         ],
         "y": [
          15.8948396360556,
          15.5055924033801
         ]
        },
        {
         "line": {
          "color": "pink"
         },
         "mode": "lines+markers",
         "name": "mC",
         "type": "scatter",
         "x": [
          13156.8698494282,
          13475.9058481505
         ],
         "y": [
          17.9030770178318,
          18.0470236277262
         ]
        },
        {
         "line": {
          "color": "pink"
         },
         "mode": "lines+markers",
         "name": "mC",
         "type": "scatter",
         "x": [
          12864.8269938343,
          12545.7254653545
         ],
         "y": [
          17.8478617942015,
          17.799103561608
         ]
        },
        {
         "line": {
          "color": "pink"
         },
         "mode": "lines+markers",
         "name": "mC",
         "type": "scatter",
         "x": [
          8701.2258534746,
          9020.28684079731
         ],
         "y": [
          15.8948396360556,
          16.3532493348598
         ]
        },
        {
         "line": {
          "color": "pink"
         },
         "mode": "lines+markers",
         "name": "mC",
         "type": "scatter",
         "x": [
          9027.20521863404,
          9346.2688761018
         ],
         "y": [
          16.1960425273259,
          16.2960159456412
         ]
        },
        {
         "line": {
          "color": "pink"
         },
         "mode": "lines+markers",
         "name": "mC",
         "type": "scatter",
         "x": [
          8681.14959807303,
          9000.2131525261
         ],
         "y": [
          15.8514856870651,
          16.1960425273259
         ]
        },
        {
         "line": {
          "color": "pink"
         },
         "mode": "lines+markers",
         "name": "mC",
         "type": "scatter",
         "x": [
          7049.94492594709,
          6730.90386822014
         ],
         "y": [
          14.6950287019889,
          14.447228103447
         ]
        },
        {
         "line": {
          "color": "pink"
         },
         "mode": "lines+markers",
         "name": "mC",
         "type": "scatter",
         "x": [
          9043.2184525946,
          9362.26248728585
         ],
         "y": [
          16.2960159456412,
          16.3962323780537
         ]
        },
        {
         "line": {
          "color": "pink"
         },
         "mode": "lines+markers",
         "name": "mC",
         "type": "scatter",
         "x": [
          13170.84211685,
          13489.9068736835
         ],
         "y": [
          17.9511506950537,
          18.1013694679419
         ]
        },
        {
         "line": {
          "color": "pink"
         },
         "mode": "lines+markers",
         "name": "mC",
         "type": "scatter",
         "x": [
          13781.9127305235,
          14100.9741945289
         ],
         "y": [
          18.1490621781031,
          18.2511088943164
         ]
        },
        {
         "line": {
          "color": "pink"
         },
         "mode": "lines+markers",
         "name": "mC",
         "type": "scatter",
         "x": [
          12559.8106384998,
          12878.8054271656
         ],
         "y": [
          17.8478617942015,
          17.9511506950537
         ]
        },
        {
         "line": {
          "color": "pink"
         },
         "mode": "lines+markers",
         "name": "mC",
         "type": "scatter",
         "x": [
          10679.5496203544,
          10360.3986838407
         ],
         "y": [
          16.948951768446,
          16.7513392285188
         ]
        },
        {
         "line": {
          "color": "pink"
         },
         "mode": "lines+markers",
         "name": "mC",
         "type": "scatter",
         "x": [
          8892.19813328106,
          8573.14600996262
         ],
         "y": [
          15.8010293360233,
          15.5055924033801
         ]
        },
        {
         "line": {
          "color": "pink"
         },
         "mode": "lines+markers",
         "name": "mC",
         "type": "scatter",
         "x": [
          12244.7553195679,
          11925.6521770381
         ],
         "y": [
          17.7013431187153,
          17.5535948868275
         ]
        },
        {
         "line": {
          "color": "pink"
         },
         "mode": "lines+markers",
         "name": "mU",
         "type": "scatter",
         "x": [
          14895.9061356758,
          14575.840701726
         ],
         "y": [
          18.4548025782585,
          18.3461195106983
         ]
        },
        {
         "line": {
          "color": "pink"
         },
         "mode": "lines+markers",
         "name": "mU",
         "type": "scatter",
         "x": [
          13250.7255016082,
          13570.7747028055
         ],
         "y": [
          18.0470236277262,
          18.0470236277262
         ]
        },
        {
         "line": {
          "color": "pink"
         },
         "mode": "lines+markers",
         "name": "mU",
         "type": "scatter",
         "x": [
          6543.81303076399,
          6223.74397870215
         ],
         "y": [
          14.6950287019889,
          14.2502431865215
         ]
        },
        {
         "line": {
          "color": "pink"
         },
         "mode": "lines+markers",
         "name": "mU",
         "type": "scatter",
         "x": [
          8072.08296662798,
          8392.12576484904
         ],
         "y": [
          15.6493885532697,
          15.6998203352769
         ]
        },
        {
         "line": {
          "color": "pink"
         },
         "mode": "lines+markers",
         "name": "mU",
         "type": "scatter",
         "x": [
          17514.2818060766,
          17834.3088463449
         ],
         "y": [
          18.9485183711529,
          19.0011722699483
         ]
        },
        {
         "line": {
          "color": "pink"
         },
         "mode": "lines+markers",
         "name": "mU",
         "type": "scatter",
         "x": [
          14895.9061356758,
          15215.9574047785
         ],
         "y": [
          18.4548025782585,
          18.6028141275724
         ]
        },
        {
         "line": {
          "color": "pink"
         },
         "mode": "lines+markers",
         "name": "mU",
         "type": "scatter",
         "x": [
          9678.30061547225,
          9998.3323093006
         ],
         "y": [
          16.6521944776853,
          16.6946649109999
         ]
        },
        {
         "line": {
          "color": "pink"
         },
         "mode": "lines+markers",
         "name": "mU",
         "type": "scatter",
         "x": [
          9484.17484482664,
          9804.23090765229
         ],
         "y": [
          16.5954365447839,
          16.7513392285188
         ]
        },
        {
         "line": {
          "color": "pink"
         },
         "mode": "lines+markers",
         "name": "mU",
         "type": "scatter",
         "x": [
          13900.8120433257,
          14220.8231805298
         ],
         "y": [
          18.1490621781031,
          18.1490621781031
         ]
        },
        {
         "line": {
          "color": "pink"
         },
         "mode": "lines+markers",
         "name": "mU",
         "type": "scatter",
         "x": [
          13475.9058481505,
          13795.9345648728
         ],
         "y": [
          18.0470236277262,
          18.1968122040908
         ]
        },
        {
         "line": {
          "color": "pink"
         },
         "mode": "lines+markers",
         "name": "mU",
         "type": "scatter",
         "x": [
          8490.04384741683,
          8810.08434041484
         ],
         "y": [
          15.9523093378226,
          16.2960159456412
         ]
        },
        {
         "line": {
          "color": "pink"
         },
         "mode": "lines+markers",
         "name": "mU",
         "type": "scatter",
         "x": [
          11925.6521770381,
          12245.7312166899
         ],
         "y": [
          17.5535948868275,
          17.6522636190732
         ]
        },
        {
         "line": {
          "color": "pink"
         },
         "mode": "lines+markers",
         "name": "mU",
         "type": "scatter",
         "x": [
          11965.6112994327,
          11645.4607164202
         ],
         "y": [
          17.4549535031795,
          17.4549535031795
         ]
        },
        {
         "line": {
          "color": "pink"
         },
         "mode": "lines+markers",
         "name": "mA",
         "type": "scatter",
         "x": [
          24297.1165372079,
          23954.0807547898
         ],
         "y": [
          19.7507101948738,
          19.9471833701611
         ]
        },
        {
         "line": {
          "color": "pink"
         },
         "mode": "lines+markers",
         "name": "mA",
         "type": "scatter",
         "x": [
          11925.6521770381,
          12268.6655765281
         ],
         "y": [
          17.5535948868275,
          17.6522636190732
         ]
        },
        {
         "line": {
          "color": "pink"
         },
         "mode": "lines+markers",
         "name": "mA",
         "type": "scatter",
         "x": [
          12559.8106384998,
          12902.7684515336
         ],
         "y": [
          17.8478617942015,
          17.9030770178318
         ]
        },
        {
         "line": {
          "color": "pink"
         },
         "mode": "lines+markers",
         "name": "mA",
         "type": "scatter",
         "x": [
          9637.28283044533,
          9294.25403430677
         ],
         "y": [
          16.4959380960147,
          16.3962323780537
         ]
        },
        {
         "line": {
          "color": "pink"
         },
         "mode": "lines+markers",
         "name": "m22C",
         "type": "scatter",
         "x": [
          9000.2131525261,
          9333.2588462774
         ],
         "y": [
          16.1960425273259,
          16.4532725627899
         ]
        },
        {
         "line": {
          "color": "pink"
         },
         "mode": "lines+markers",
         "name": "m22C",
         "type": "scatter",
         "x": [
          8988.21939327,
          8655.16816498534
         ],
         "y": [
          16.2960159456412,
          16.0528383369923
         ]
        },
        {
         "line": {
          "color": "pink"
         },
         "mode": "lines+markers",
         "name": "m22C",
         "type": "scatter",
         "x": [
          13156.8698494282,
          13489.9068736835
         ],
         "y": [
          17.9030770178318,
          18.1013694679419
         ]
        },
        {
         "line": {
          "color": "pink"
         },
         "mode": "lines+markers",
         "name": "m22C",
         "type": "scatter",
         "x": [
          13192.8566200077,
          13525.8165317818
         ],
         "y": [
          17.9511506950537,
          18.1013694679419
         ]
        },
        {
         "line": {
          "color": "pink"
         },
         "mode": "lines+markers",
         "name": "m22C",
         "type": "scatter",
         "x": [
          12878.8054271656,
          12545.7254653545
         ],
         "y": [
          17.9511506950537,
          17.799103561608
         ]
        },
        {
         "line": {
          "color": "pink"
         },
         "mode": "lines+markers",
         "name": "m22C",
         "type": "scatter",
         "x": [
          8004.07201565025,
          7671.0192194136
         ],
         "y": [
          15.5055924033801,
          15.5055924033801
         ]
        },
        {
         "line": {
          "color": "pink"
         },
         "mode": "lines+markers",
         "name": "m22C",
         "type": "scatter",
         "x": [
          12258.694085491,
          11925.6521770381
         ],
         "y": [
          17.595881628561,
          17.5535948868275
         ]
        },
        {
         "line": {
          "color": "pink"
         },
         "mode": "lines+markers",
         "name": "mcm5U",
         "type": "scatter",
         "x": [
          8004.07201565025,
          8382.17931368588
         ],
         "y": [
          15.5055924033801,
          15.5055924033801
         ]
        },
        {
         "line": {
          "color": "pink"
         },
         "mode": "lines+markers",
         "name": "mcm5U",
         "type": "scatter",
         "x": [
          11050.3877175941,
          10672.4084012261
         ],
         "y": [
          17.3000654275894,
          17.0474973872979
         ]
        },
        {
         "line": {
          "color": "pink"
         },
         "mode": "lines+markers",
         "name": "mcm5U",
         "type": "scatter",
         "x": [
          11990.4999804882,
          11612.5338785648
         ],
         "y": [
          17.595881628561,
          17.4972321446419
         ]
        },
        {
         "line": {
          "color": "pink"
         },
         "mode": "lines+markers",
         "name": "mcm5U",
         "type": "scatter",
         "x": [
          10015.4211693972,
          9637.28283044533
         ],
         "y": [
          16.6521944776853,
          16.4959380960147
         ]
        },
        {
         "line": {
          "color": "pink"
         },
         "mode": "lines+markers",
         "name": "mcm5U",
         "type": "scatter",
         "x": [
          13570.7747028055,
          13192.8566200077
         ],
         "y": [
          18.0470236277262,
          17.9511506950537
         ]
        },
        {
         "line": {
          "color": "pink"
         },
         "mode": "lines+markers",
         "name": "mcm5U",
         "type": "scatter",
         "x": [
          9982.32433656743,
          10360.3986838407
         ],
         "y": [
          16.6521944776853,
          16.7513392285188
         ]
        },
        {
         "line": {
          "color": "pink"
         },
         "mode": "lines+markers",
         "name": "mcm5U",
         "type": "scatter",
         "x": [
          9789.24915970905,
          10167.2363153965
         ],
         "y": [
          16.6946649109999,
          16.7513392285188
         ]
        },
        {
         "line": {
          "color": "pink"
         },
         "mode": "lines+markers",
         "name": "mcm5U",
         "type": "scatter",
         "x": [
          10055.2858139843,
          9677.30999959762
         ],
         "y": [
          16.6521944776853,
          16.5954365447839
         ]
        }
       ],
       "layout": {
        "annotations": [
         {
          "arrowhead": 1,
          "showarrow": false,
          "text": "C",
          "x": 965.397416081197,
          "y": 12.123048704433444,
          "yshift": 5
         },
         {
          "arrowhead": 1,
          "showarrow": false,
          "text": "C",
          "x": 1155.340408472985,
          "y": 11.328214094607016,
          "yshift": 5
         },
         {
          "arrowhead": 1,
          "showarrow": false,
          "text": "C",
          "x": 6376.263626037226,
          "y": 14.37427368220485,
          "yshift": 5
         },
         {
          "arrowhead": 1,
          "showarrow": false,
          "text": "C",
          "x": 6554.443435005014,
          "y": 13.7258764034192,
          "yshift": 5
         },
         {
          "arrowhead": 1,
          "showarrow": false,
          "text": "C",
          "x": 965.397486516797,
          "y": 14.198981549906751,
          "yshift": 5
         },
         {
          "arrowhead": 1,
          "showarrow": false,
          "text": "C",
          "x": 8641.560429531211,
          "y": 16.1745743330002,
          "yshift": 5
         },
         {
          "arrowhead": 1,
          "showarrow": false,
          "text": "C",
          "x": 10286.78498782725,
          "y": 16.94891894019445,
          "yshift": 5
         },
         {
          "arrowhead": 1,
          "showarrow": false,
          "text": "C",
          "x": 1155.3393292568649,
          "y": 2.07796563661893,
          "yshift": 5
         },
         {
          "arrowhead": 1,
          "showarrow": false,
          "text": "C",
          "x": 11509.95072488925,
          "y": 17.328405007290797,
          "yshift": 5
         },
         {
          "arrowhead": 1,
          "showarrow": false,
          "text": "C",
          "x": 9636.712002267846,
          "y": 16.6450507278919,
          "yshift": 5
         },
         {
          "arrowhead": 1,
          "showarrow": false,
          "text": "C",
          "x": 10897.864841255301,
          "y": 17.2228529816548,
          "yshift": 5
         },
         {
          "arrowhead": 1,
          "showarrow": false,
          "text": "C",
          "x": 13403.237521241099,
          "y": 18.07419654783405,
          "yshift": 5
         },
         {
          "arrowhead": 1,
          "showarrow": false,
          "text": "C",
          "x": 7285.46501185106,
          "y": 14.997238924670249,
          "yshift": 5
         },
         {
          "arrowhead": 1,
          "showarrow": false,
          "text": "C",
          "x": 13323.37398250025,
          "y": 17.99908716138995,
          "yshift": 5
         },
         {
          "arrowhead": 1,
          "showarrow": false,
          "text": "C",
          "x": 14053.317542245051,
          "y": 18.2238155777931,
          "yshift": 5
         },
         {
          "arrowhead": 1,
          "showarrow": false,
          "text": "C",
          "x": 15048.434112103849,
          "y": 18.4750586028576,
          "yshift": 5
         },
         {
          "arrowhead": 1,
          "showarrow": false,
          "text": "C",
          "x": 11773.14446034405,
          "y": 17.47611387428445,
          "yshift": 5
         },
         {
          "arrowhead": 1,
          "showarrow": false,
          "text": "C",
          "x": 10512.954299383251,
          "y": 16.8254255360047,
          "yshift": 5
         },
         {
          "arrowhead": 1,
          "showarrow": false,
          "text": "C",
          "x": 12712.31881616705,
          "y": 17.8478617942015,
          "yshift": 5
         },
         {
          "arrowhead": 1,
          "showarrow": false,
          "text": "C",
          "x": 13098.1941132108,
          "y": 17.975050322779,
          "yshift": 5
         },
         {
          "arrowhead": 1,
          "showarrow": false,
          "text": "C",
          "x": 8530.645015873546,
          "y": 15.97383898652395,
          "yshift": 5
         },
         {
          "arrowhead": 1,
          "showarrow": false,
          "text": "C",
          "x": 10818.044220558651,
          "y": 16.973504615394248,
          "yshift": 5
         },
         {
          "arrowhead": 1,
          "showarrow": false,
          "text": "C",
          "x": 7919.563053239104,
          "y": 15.59906249500115,
          "yshift": 5
         },
         {
          "arrowhead": 1,
          "showarrow": false,
          "text": "C",
          "x": 8874.684834335414,
          "y": 16.14599891560075,
          "yshift": 5
         },
         {
          "arrowhead": 1,
          "showarrow": false,
          "text": "C",
          "x": 7895.54885738701,
          "y": 15.397690424887351,
          "yshift": 5
         },
         {
          "arrowhead": 1,
          "showarrow": false,
          "text": "C",
          "x": 8642.57260433158,
          "y": 15.973884861238801,
          "yshift": 5
         },
         {
          "arrowhead": 1,
          "showarrow": false,
          "text": "C",
          "x": 11123.09063475545,
          "y": 17.124676949349997,
          "yshift": 5
         },
         {
          "arrowhead": 1,
          "showarrow": false,
          "text": "C",
          "x": 9829.817168082525,
          "y": 16.6238155112346,
          "yshift": 5
         },
         {
          "arrowhead": 1,
          "showarrow": false,
          "text": "C",
          "x": 7590.499192341345,
          "y": 15.14551444606785,
          "yshift": 5
         },
         {
          "arrowhead": 1,
          "showarrow": false,
          "text": "C",
          "x": 11508.9373400156,
          "y": 17.4972572451512,
          "yshift": 5
         },
         {
          "arrowhead": 1,
          "showarrow": false,
          "text": "C",
          "x": 7614.5464855116,
          "y": 15.476899961201351,
          "yshift": 5
         },
         {
          "arrowhead": 1,
          "showarrow": false,
          "text": "C",
          "x": 9830.823685692845,
          "y": 16.72300526556175,
          "yshift": 5
         },
         {
          "arrowhead": 1,
          "showarrow": false,
          "text": "C",
          "x": 15579.6676214318,
          "y": 18.629580748645502,
          "yshift": 5
         },
         {
          "arrowhead": 1,
          "showarrow": false,
          "text": "C",
          "x": 10786.924873306049,
          "y": 17.09656896150905,
          "yshift": 5
         },
         {
          "arrowhead": 1,
          "showarrow": false,
          "text": "C",
          "x": 14584.52541640635,
          "y": 18.3496329323133,
          "yshift": 5
         },
         {
          "arrowhead": 1,
          "showarrow": false,
          "text": "C",
          "x": 10135.85859535647,
          "y": 16.82202559865315,
          "yshift": 5
         },
         {
          "arrowhead": 1,
          "showarrow": false,
          "text": "C",
          "x": 12078.19026861145,
          "y": 17.60292925295035,
          "yshift": 5
         },
         {
          "arrowhead": 1,
          "showarrow": false,
          "text": "C",
          "x": 8890.703510864369,
          "y": 16.1959856247584,
          "yshift": 5
         },
         {
          "arrowhead": 1,
          "showarrow": false,
          "text": "C",
          "x": 13934.442140969,
          "y": 18.20008553620975,
          "yshift": 5
         },
         {
          "arrowhead": 1,
          "showarrow": false,
          "text": "C",
          "x": 6939.434653696995,
          "y": 14.67324156022865,
          "yshift": 5
         },
         {
          "arrowhead": 1,
          "showarrow": false,
          "text": "C",
          "x": 9172.80097727904,
          "y": 16.42459371543725,
          "yshift": 5
         },
         {
          "arrowhead": 1,
          "showarrow": false,
          "text": "C",
          "x": 10167.94194825015,
          "y": 16.70176685310205,
          "yshift": 5
         },
         {
          "arrowhead": 1,
          "showarrow": false,
          "text": "C",
          "x": 11091.9847111263,
          "y": 17.2228529816548,
          "yshift": 5
         },
         {
          "arrowhead": 1,
          "showarrow": false,
          "text": "C",
          "x": 10880.86483769575,
          "y": 17.17725315349105,
          "yshift": 5
         },
         {
          "arrowhead": 1,
          "showarrow": false,
          "text": "C",
          "x": 10207.8422489125,
          "y": 16.70176685310205,
          "yshift": 5
         },
         {
          "arrowhead": 1,
          "showarrow": false,
          "text": "C",
          "x": 8835.694485187994,
          "y": 16.174427141316748,
          "yshift": 5
         },
         {
          "arrowhead": 1,
          "showarrow": false,
          "text": "C",
          "x": 9485.776932718254,
          "y": 16.5243545537869,
          "yshift": 5
         },
         {
          "arrowhead": 1,
          "showarrow": false,
          "text": "C",
          "x": 13685.36329053205,
          "y": 18.176239181129148,
          "yshift": 5
         },
         {
          "arrowhead": 1,
          "showarrow": false,
          "text": "C",
          "x": 8224.596739729765,
          "y": 15.7252089446465,
          "yshift": 5
         },
         {
          "arrowhead": 1,
          "showarrow": false,
          "text": "C",
          "x": 13081.246569608451,
          "y": 17.8510902897199,
          "yshift": 5
         },
         {
          "arrowhead": 1,
          "showarrow": false,
          "text": "C",
          "x": 7202.469621117385,
          "y": 14.8479431853374,
          "yshift": 5
         },
         {
          "arrowhead": 1,
          "showarrow": false,
          "text": "C",
          "x": 13386.281451986652,
          "y": 17.975050322779,
          "yshift": 5
         },
         {
          "arrowhead": 1,
          "showarrow": false,
          "text": "C",
          "x": 8351.53518739205,
          "y": 16.02396501557825,
          "yshift": 5
         },
         {
          "arrowhead": 1,
          "showarrow": false,
          "text": "C",
          "x": 13948.45437970085,
          "y": 18.2239605492036,
          "yshift": 5
         },
         {
          "arrowhead": 1,
          "showarrow": false,
          "text": "C",
          "x": 7864.546324419665,
          "y": 15.4481619363705,
          "yshift": 5
         },
         {
          "arrowhead": 1,
          "showarrow": false,
          "text": "C",
          "x": 5888.279945395951,
          "y": 13.5985146498362,
          "yshift": 5
         },
         {
          "arrowhead": 1,
          "showarrow": false,
          "text": "C",
          "x": 13345.38769113545,
          "y": 17.9511506950537,
          "yshift": 5
         },
         {
          "arrowhead": 1,
          "showarrow": false,
          "text": "C",
          "x": 20437.29572653,
          "y": 19.4499556616624,
          "yshift": 5
         },
         {
          "arrowhead": 1,
          "showarrow": false,
          "text": "C",
          "x": 8657.56333799962,
          "y": 16.145738165148103,
          "yshift": 5
         },
         {
          "arrowhead": 1,
          "showarrow": false,
          "text": "C",
          "x": 7507.50625191797,
          "y": 15.07330054001805,
          "yshift": 5
         },
         {
          "arrowhead": 1,
          "showarrow": false,
          "text": "C",
          "x": 8434.640603363165,
          "y": 15.42658991969425,
          "yshift": 5
         },
         {
          "arrowhead": 1,
          "showarrow": false,
          "text": "C",
          "x": 11742.0576058094,
          "y": 17.4972572451512,
          "yshift": 5
         },
         {
          "arrowhead": 1,
          "showarrow": false,
          "text": "C",
          "x": 8739.68004340778,
          "y": 15.653310869701698,
          "yshift": 5
         },
         {
          "arrowhead": 1,
          "showarrow": false,
          "text": "C",
          "x": 8725.63545220725,
          "y": 15.8293413992405,
          "yshift": 5
         },
         {
          "arrowhead": 1,
          "showarrow": false,
          "text": "A",
          "x": 4407.0041263372805,
          "y": 11.87262997385665,
          "yshift": 5
         },
         {
          "arrowhead": 1,
          "showarrow": false,
          "text": "A",
          "x": 7038.3628554734005,
          "y": 15.076784140435851,
          "yshift": 5
         },
         {
          "arrowhead": 1,
          "showarrow": false,
          "text": "A",
          "x": 6693.30969905066,
          "y": 14.724198774067549,
          "yshift": 5
         },
         {
          "arrowhead": 1,
          "showarrow": false,
          "text": "A",
          "x": 8974.61786806623,
          "y": 16.34612416184745,
          "yshift": 5
         },
         {
          "arrowhead": 1,
          "showarrow": false,
          "text": "A",
          "x": 7712.4567882773,
          "y": 15.62427838600475,
          "yshift": 5
         },
         {
          "arrowhead": 1,
          "showarrow": false,
          "text": "A",
          "x": 13391.27634249505,
          "y": 18.07419654783405,
          "yshift": 5
         },
         {
          "arrowhead": 1,
          "showarrow": false,
          "text": "A",
          "x": 9969.752934459466,
          "y": 16.69772496975265,
          "yshift": 5
         },
         {
          "arrowhead": 1,
          "showarrow": false,
          "text": "A",
          "x": 12395.2694993423,
          "y": 17.75006270663735,
          "yshift": 5
         },
         {
          "arrowhead": 1,
          "showarrow": false,
          "text": "A",
          "x": 24132.62029708955,
          "y": 19.82567828652065,
          "yshift": 5
         },
         {
          "arrowhead": 1,
          "showarrow": false,
          "text": "A",
          "x": 11825.969658129401,
          "y": 17.595881628561,
          "yshift": 5
         },
         {
          "arrowhead": 1,
          "showarrow": false,
          "text": "A",
          "x": 7907.552449132219,
          "y": 15.4480164831559,
          "yshift": 5
         },
         {
          "arrowhead": 1,
          "showarrow": false,
          "text": "A",
          "x": 16508.7781387519,
          "y": 18.80252247807185,
          "yshift": 5
         },
         {
          "arrowhead": 1,
          "showarrow": false,
          "text": "A",
          "x": 6622.386126804669,
          "y": 14.17386093990805,
          "yshift": 5
         },
         {
          "arrowhead": 1,
          "showarrow": false,
          "text": "A",
          "x": 17527.90631032345,
          "y": 18.95466688629785,
          "yshift": 5
         },
         {
          "arrowhead": 1,
          "showarrow": false,
          "text": "A",
          "x": 7602.50979644823,
          "y": 15.296560457913099,
          "yshift": 5
         },
         {
          "arrowhead": 1,
          "showarrow": false,
          "text": "A",
          "x": 10469.8966993343,
          "y": 16.99822457787195,
          "yshift": 5
         },
         {
          "arrowhead": 1,
          "showarrow": false,
          "text": "A",
          "x": 9584.74550526082,
          "y": 16.40326094882485,
          "yshift": 5
         },
         {
          "arrowhead": 1,
          "showarrow": false,
          "text": "A",
          "x": 9513.785221089089,
          "y": 16.524213427869498,
          "yshift": 5
         },
         {
          "arrowhead": 1,
          "showarrow": false,
          "text": "A",
          "x": 13720.27577847895,
          "y": 18.1252158230225,
          "yshift": 5
         },
         {
          "arrowhead": 1,
          "showarrow": false,
          "text": "A",
          "x": 16364.58676880845,
          "y": 18.7495013868491,
          "yshift": 5
         },
         {
          "arrowhead": 1,
          "showarrow": false,
          "text": "A",
          "x": 8557.64055660778,
          "y": 15.97372049547035,
          "yshift": 5
         },
         {
          "arrowhead": 1,
          "showarrow": false,
          "text": "A",
          "x": 10163.86362482264,
          "y": 16.772577640978497,
          "yshift": 5
         },
         {
          "arrowhead": 1,
          "showarrow": false,
          "text": "A",
          "x": 9834.85146878643,
          "y": 16.644877074726452,
          "yshift": 5
         },
         {
          "arrowhead": 1,
          "showarrow": false,
          "text": "A",
          "x": 8212.593147984555,
          "y": 15.67488288637795,
          "yshift": 5
         },
         {
          "arrowhead": 1,
          "showarrow": false,
          "text": "A",
          "x": 13374.3121933808,
          "y": 17.94744271096385,
          "yshift": 5
         },
         {
          "arrowhead": 1,
          "showarrow": false,
          "text": "A",
          "x": 7728.46596241517,
          "y": 15.5272260194699,
          "yshift": 5
         },
         {
          "arrowhead": 1,
          "showarrow": false,
          "text": "A",
          "x": 7297.50170091443,
          "y": 15.177578427958501,
          "yshift": 5
         },
         {
          "arrowhead": 1,
          "showarrow": false,
          "text": "A",
          "x": 7368.403197365635,
          "y": 15.22472398238185,
          "yshift": 5
         },
         {
          "arrowhead": 1,
          "showarrow": false,
          "text": "A",
          "x": 15953.6394635749,
          "y": 18.749382103053748,
          "yshift": 5
         },
         {
          "arrowhead": 1,
          "showarrow": false,
          "text": "A",
          "x": 9184.77833375162,
          "y": 16.37474085645675,
          "yshift": 5
         },
         {
          "arrowhead": 1,
          "showarrow": false,
          "text": "A",
          "x": 8845.677242700045,
          "y": 16.0237641071955,
          "yshift": 5
         },
         {
          "arrowhead": 1,
          "showarrow": false,
          "text": "A",
          "x": 17567.8770159771,
          "y": 18.97769645707605,
          "yshift": 5
         },
         {
          "arrowhead": 1,
          "showarrow": false,
          "text": "A",
          "x": 7697.448640800795,
          "y": 15.5272260194699,
          "yshift": 5
         },
         {
          "arrowhead": 1,
          "showarrow": false,
          "text": "G",
          "x": 924.403619297777,
          "y": 15.576866740552594,
          "yshift": 5
         },
         {
          "arrowhead": 1,
          "showarrow": false,
          "text": "G",
          "x": 924.403561385559,
          "y": 12.178168406653395,
          "yshift": 5
         },
         {
          "arrowhead": 1,
          "showarrow": false,
          "text": "G",
          "x": 4744.0543023016,
          "y": 12.574060319431648,
          "yshift": 5
         },
         {
          "arrowhead": 1,
          "showarrow": false,
          "text": "G",
          "x": 7030.363416568605,
          "y": 15.076784140435851,
          "yshift": 5
         },
         {
          "arrowhead": 1,
          "showarrow": false,
          "text": "G",
          "x": 8966.61775772275,
          "y": 16.32471287008925,
          "yshift": 5
         },
         {
          "arrowhead": 1,
          "showarrow": false,
          "text": "G",
          "x": 7376.406379144155,
          "y": 15.22472398238185,
          "yshift": 5
         },
         {
          "arrowhead": 1,
          "showarrow": false,
          "text": "G",
          "x": 6229.398246090175,
          "y": 13.401796762712799,
          "yshift": 5
         },
         {
          "arrowhead": 1,
          "showarrow": false,
          "text": "G",
          "x": 7519.570898666545,
          "y": 14.997238924670249,
          "yshift": 5
         },
         {
          "arrowhead": 1,
          "showarrow": false,
          "text": "G",
          "x": 7864.6158130717595,
          "y": 15.14551444606785,
          "yshift": 5
         },
         {
          "arrowhead": 1,
          "showarrow": false,
          "text": "G",
          "x": 8209.65830045588,
          "y": 15.376118408211099,
          "yshift": 5
         },
         {
          "arrowhead": 1,
          "showarrow": false,
          "text": "G",
          "x": 9311.66312027213,
          "y": 16.495834461418802,
          "yshift": 5
         },
         {
          "arrowhead": 1,
          "showarrow": false,
          "text": "G",
          "x": 9961.759986734076,
          "y": 16.797088377245252,
          "yshift": 5
         },
         {
          "arrowhead": 1,
          "showarrow": false,
          "text": "G",
          "x": 13728.28079209985,
          "y": 18.1252158230225,
          "yshift": 5
         },
         {
          "arrowhead": 1,
          "showarrow": false,
          "text": "G",
          "x": 10492.98632101445,
          "y": 16.8254255360047,
          "yshift": 5
         },
         {
          "arrowhead": 1,
          "showarrow": false,
          "text": "G",
          "x": 7375.41009640265,
          "y": 15.376105673678701,
          "yshift": 5
         },
         {
          "arrowhead": 1,
          "showarrow": false,
          "text": "G",
          "x": 11817.9803484542,
          "y": 17.52541756587025,
          "yshift": 5
         },
         {
          "arrowhead": 1,
          "showarrow": false,
          "text": "G",
          "x": 14909.5807498785,
          "y": 18.448005757300102,
          "yshift": 5
         },
         {
          "arrowhead": 1,
          "showarrow": false,
          "text": "G",
          "x": 9842.891831897789,
          "y": 16.574066286849998,
          "yshift": 5
         },
         {
          "arrowhead": 1,
          "showarrow": false,
          "text": "G",
          "x": 5741.178146401409,
          "y": 13.82427658197085,
          "yshift": 5
         },
         {
          "arrowhead": 1,
          "showarrow": false,
          "text": "G",
          "x": 9809.80358350638,
          "y": 16.574066286849998,
          "yshift": 5
         },
         {
          "arrowhead": 1,
          "showarrow": false,
          "text": "G",
          "x": 7570.502589189095,
          "y": 15.174484245546651,
          "yshift": 5
         },
         {
          "arrowhead": 1,
          "showarrow": false,
          "text": "G",
          "x": 9810.820887536276,
          "y": 16.69462629911105,
          "yshift": 5
         },
         {
          "arrowhead": 1,
          "showarrow": false,
          "text": "G",
          "x": 14259.48351237645,
          "y": 18.27483893589975,
          "yshift": 5
         },
         {
          "arrowhead": 1,
          "showarrow": false,
          "text": "G",
          "x": 8827.69065875572,
          "y": 16.124440432159098,
          "yshift": 5
         },
         {
          "arrowhead": 1,
          "showarrow": false,
          "text": "G",
          "x": 9505.779730874825,
          "y": 16.5527335202376,
          "yshift": 5
         },
         {
          "arrowhead": 1,
          "showarrow": false,
          "text": "G",
          "x": 15254.62455704475,
          "y": 18.54906437751455,
          "yshift": 5
         },
         {
          "arrowhead": 1,
          "showarrow": false,
          "text": "G",
          "x": 9497.838804079574,
          "y": 16.4959380960147,
          "yshift": 5
         },
         {
          "arrowhead": 1,
          "showarrow": false,
          "text": "G",
          "x": 9849.819665221661,
          "y": 16.673387886651348,
          "yshift": 5
         },
         {
          "arrowhead": 1,
          "showarrow": false,
          "text": "G",
          "x": 16356.60721976255,
          "y": 18.7495013868491,
          "yshift": 5
         },
         {
          "arrowhead": 1,
          "showarrow": false,
          "text": "G",
          "x": 8549.637481434169,
          "y": 15.948492319949448,
          "yshift": 5
         },
         {
          "arrowhead": 1,
          "showarrow": false,
          "text": "G",
          "x": 11448.1197434847,
          "y": 17.30024468657175,
          "yshift": 5
         },
         {
          "arrowhead": 1,
          "showarrow": false,
          "text": "G",
          "x": 14393.350174469,
          "y": 18.274879532623302,
          "yshift": 5
         },
         {
          "arrowhead": 1,
          "showarrow": false,
          "text": "G",
          "x": 8565.652616156454,
          "y": 15.97372049547035,
          "yshift": 5
         },
         {
          "arrowhead": 1,
          "showarrow": false,
          "text": "G",
          "x": 10155.86678119212,
          "y": 16.772577640978497,
          "yshift": 5
         },
         {
          "arrowhead": 1,
          "showarrow": false,
          "text": "G",
          "x": 11417.027009132049,
          "y": 17.3493491446654,
          "yshift": 5
         },
         {
          "arrowhead": 1,
          "showarrow": false,
          "text": "G",
          "x": 8220.596223158165,
          "y": 15.70011106189885,
          "yshift": 5
         },
         {
          "arrowhead": 1,
          "showarrow": false,
          "text": "G",
          "x": 17190.86707489305,
          "y": 18.87548093256155,
          "yshift": 5
         },
         {
          "arrowhead": 1,
          "showarrow": false,
          "text": "G",
          "x": 16845.821027247148,
          "y": 18.87548093256155,
          "yshift": 5
         },
         {
          "arrowhead": 1,
          "showarrow": false,
          "text": "G",
          "x": 10187.90992661895,
          "y": 16.70176685310205,
          "yshift": 5
         },
         {
          "arrowhead": 1,
          "showarrow": false,
          "text": "G",
          "x": 18481.0337561507,
          "y": 19.1720183904648,
          "yshift": 5
         },
         {
          "arrowhead": 1,
          "showarrow": false,
          "text": "G",
          "x": 9160.7391197737,
          "y": 16.37464425421555,
          "yshift": 5
         },
         {
          "arrowhead": 1,
          "showarrow": false,
          "text": "G",
          "x": 6448.36942818665,
          "y": 14.80068225320975,
          "yshift": 5
         },
         {
          "arrowhead": 1,
          "showarrow": false,
          "text": "G",
          "x": 13037.3176162848,
          "y": 17.8478617942015,
          "yshift": 5
         },
         {
          "arrowhead": 1,
          "showarrow": false,
          "text": "G",
          "x": 5723.17258060649,
          "y": 13.5217767661492,
          "yshift": 5
         },
         {
          "arrowhead": 1,
          "showarrow": false,
          "text": "G",
          "x": 7539.50335410917,
          "y": 15.195985957550999,
          "yshift": 5
         },
         {
          "arrowhead": 1,
          "showarrow": false,
          "text": "G",
          "x": 7720.459002373405,
          "y": 15.59906249500115,
          "yshift": 5
         },
         {
          "arrowhead": 1,
          "showarrow": false,
          "text": "G",
          "x": 16701.65338170165,
          "y": 18.822459841338798,
          "yshift": 5
         },
         {
          "arrowhead": 1,
          "showarrow": false,
          "text": "G",
          "x": 6701.309137955455,
          "y": 14.724198774067549,
          "yshift": 5
         },
         {
          "arrowhead": 1,
          "showarrow": false,
          "text": "G",
          "x": 18826.077449152348,
          "y": 19.22408246156375,
          "yshift": 5
         },
         {
          "arrowhead": 1,
          "showarrow": false,
          "text": "G",
          "x": 11793.124021541349,
          "y": 17.42679318246045,
          "yshift": 5
         },
         {
          "arrowhead": 1,
          "showarrow": false,
          "text": "U",
          "x": 880.8806982672036,
          "y": 17.4004844234069,
          "yshift": 5
         },
         {
          "arrowhead": 1,
          "showarrow": false,
          "text": "U",
          "x": 916.849146666817,
          "y": 17.9550023988565,
          "yshift": 5
         },
         {
          "arrowhead": 1,
          "showarrow": false,
          "text": "U",
          "x": 1154.839563157605,
          "y": 10.901006870039286,
          "yshift": 5
         },
         {
          "arrowhead": 1,
          "showarrow": false,
          "text": "U",
          "x": 1155.8400188845699,
          "y": 8.799095620282515,
          "yshift": 5
         },
         {
          "arrowhead": 1,
          "showarrow": false,
          "text": "U",
          "x": 5069.592005418345,
          "y": 12.99917484876315,
          "yshift": 5
         },
         {
          "arrowhead": 1,
          "showarrow": false,
          "text": "U",
          "x": 8029.997177650815,
          "y": 15.79732998566625,
          "yshift": 5
         },
         {
          "arrowhead": 1,
          "showarrow": false,
          "text": "U",
          "x": 8336.02350123934,
          "y": 15.9953974699656,
          "yshift": 5
         },
         {
          "arrowhead": 1,
          "showarrow": false,
          "text": "U",
          "x": 1154.838483941485,
          "y": 1.6507584120512,
          "yshift": 5
         },
         {
          "arrowhead": 1,
          "showarrow": false,
          "text": "U",
          "x": 10592.32056340595,
          "y": 17.071983286309248,
          "yshift": 5
         },
         {
          "arrowhead": 1,
          "showarrow": false,
          "text": "U",
          "x": 11203.411530927351,
          "y": 17.3493491446654,
          "yshift": 5
         },
         {
          "arrowhead": 1,
          "showarrow": false,
          "text": "U",
          "x": 11509.44864276985,
          "y": 17.42679318246045,
          "yshift": 5
         },
         {
          "arrowhead": 1,
          "showarrow": false,
          "text": "U",
          "x": 6673.883366700729,
          "y": 14.37427368220485,
          "yshift": 5
         },
         {
          "arrowhead": 1,
          "showarrow": false,
          "text": "U",
          "x": 5268.78519805315,
          "y": 11.7220146691481,
          "yshift": 5
         },
         {
          "arrowhead": 1,
          "showarrow": false,
          "text": "U",
          "x": 12143.53030504,
          "y": 17.67310259895325,
          "yshift": 5
         },
         {
          "arrowhead": 1,
          "showarrow": false,
          "text": "U",
          "x": 13747.7752504647,
          "y": 18.07413040754,
          "yshift": 5
         },
         {
          "arrowhead": 1,
          "showarrow": false,
          "text": "U",
          "x": 9637.19853859899,
          "y": 16.673387886651348,
          "yshift": 5
         },
         {
          "arrowhead": 1,
          "showarrow": false,
          "text": "U",
          "x": 13628.909289337,
          "y": 18.09804290291465,
          "yshift": 5
         },
         {
          "arrowhead": 1,
          "showarrow": false,
          "text": "U",
          "x": 15885.20580649445,
          "y": 18.676352490552297,
          "yshift": 5
         },
         {
          "arrowhead": 1,
          "showarrow": false,
          "text": "U",
          "x": 8530.14004496877,
          "y": 15.9269338365078,
          "yshift": 5
         },
         {
          "arrowhead": 1,
          "showarrow": false,
          "text": "U",
          "x": 13379.8312510264,
          "y": 18.07419654783405,
          "yshift": 5
         },
         {
          "arrowhead": 1,
          "showarrow": false,
          "text": "U",
          "x": 13017.83455534215,
          "y": 17.8995062446276,
          "yshift": 5
         },
         {
          "arrowhead": 1,
          "showarrow": false,
          "text": "U",
          "x": 8642.069050290436,
          "y": 16.0457078442653,
          "yshift": 5
         },
         {
          "arrowhead": 1,
          "showarrow": false,
          "text": "U",
          "x": 8225.10171063454,
          "y": 15.772114094662651,
          "yshift": 5
         },
         {
          "arrowhead": 1,
          "showarrow": false,
          "text": "U",
          "x": 9830.32837775553,
          "y": 16.69462629911105,
          "yshift": 5
         },
         {
          "arrowhead": 1,
          "showarrow": false,
          "text": "U",
          "x": 15579.16455513705,
          "y": 18.6027322864215,
          "yshift": 5
         },
         {
          "arrowhead": 1,
          "showarrow": false,
          "text": "U",
          "x": 10481.3934957652,
          "y": 16.89941830790835,
          "yshift": 5
         },
         {
          "arrowhead": 1,
          "showarrow": false,
          "text": "U",
          "x": 15048.93185440145,
          "y": 18.4750586028576,
          "yshift": 5
         },
         {
          "arrowhead": 1,
          "showarrow": false,
          "text": "U",
          "x": 9596.233490910676,
          "y": 16.37464425421555,
          "yshift": 5
         },
         {
          "arrowhead": 1,
          "showarrow": false,
          "text": "U",
          "x": 6329.857007317305,
          "y": 13.99882706956865,
          "yshift": 5
         },
         {
          "arrowhead": 1,
          "showarrow": false,
          "text": "U",
          "x": 10135.347385683464,
          "y": 16.751214810776702,
          "yshift": 5
         },
         {
          "arrowhead": 1,
          "showarrow": false,
          "text": "U",
          "x": 6979.929626721095,
          "y": 14.724198774067549,
          "yshift": 5
         },
         {
          "arrowhead": 1,
          "showarrow": false,
          "text": "U",
          "x": 12767.72299870295,
          "y": 17.75006270663735,
          "yshift": 5
         },
         {
          "arrowhead": 1,
          "showarrow": false,
          "text": "U",
          "x": 13073.77922915925,
          "y": 17.94744271096385,
          "yshift": 5
         },
         {
          "arrowhead": 1,
          "showarrow": false,
          "text": "U",
          "x": 5397.61982437473,
          "y": 13.2740388041417,
          "yshift": 5
         },
         {
          "arrowhead": 1,
          "showarrow": false,
          "text": "U",
          "x": 10175.35806865825,
          "y": 16.7513392285188,
          "yshift": 5
         },
         {
          "arrowhead": 1,
          "showarrow": false,
          "text": "U",
          "x": 8046.0081322008045,
          "y": 15.772114094662651,
          "yshift": 5
         },
         {
          "arrowhead": 1,
          "showarrow": false,
          "text": "U",
          "x": 11492.4583852322,
          "y": 17.328405007290797,
          "yshift": 5
         },
         {
          "arrowhead": 1,
          "showarrow": false,
          "text": "U",
          "x": 16191.2405079895,
          "y": 18.722929499117548,
          "yshift": 5
         },
         {
          "arrowhead": 1,
          "showarrow": false,
          "text": "U",
          "x": 7548.9970063173005,
          "y": 15.0762689735174,
          "yshift": 5
         },
         {
          "arrowhead": 1,
          "showarrow": false,
          "text": "U",
          "x": 9180.23203245572,
          "y": 16.3246575450579,
          "yshift": 5
         },
         {
          "arrowhead": 1,
          "showarrow": false,
          "text": "U",
          "x": 12125.5565871172,
          "y": 17.623777856993698,
          "yshift": 5
         },
         {
          "arrowhead": 1,
          "showarrow": false,
          "text": "U",
          "x": 8014.98961995454,
          "y": 15.7252089446465,
          "yshift": 5
         },
         {
          "arrowhead": 1,
          "showarrow": false,
          "text": "U",
          "x": 10152.36682839174,
          "y": 16.8713839109421,
          "yshift": 5
         },
         {
          "arrowhead": 1,
          "showarrow": false,
          "text": "U",
          "x": 7244.965130200781,
          "y": 14.94975685235655,
          "yshift": 5
         },
         {
          "arrowhead": 1,
          "showarrow": false,
          "text": "U",
          "x": 11186.41430592315,
          "y": 17.22639416214625,
          "yshift": 5
         },
         {
          "arrowhead": 1,
          "showarrow": false,
          "text": "U",
          "x": 9196.244139650265,
          "y": 16.34612416184745,
          "yshift": 5
         },
         {
          "arrowhead": 1,
          "showarrow": false,
          "text": "U",
          "x": 8352.035039818154,
          "y": 15.9451500103553,
          "yshift": 5
         },
         {
          "arrowhead": 1,
          "showarrow": false,
          "text": "U",
          "x": 20131.76437596755,
          "y": 19.42417895751,
          "yshift": 5
         },
         {
          "arrowhead": 1,
          "showarrow": false,
          "text": "U",
          "x": 13642.92071927815,
          "y": 18.14909083601635,
          "yshift": 5
         },
         {
          "arrowhead": 1,
          "showarrow": false,
          "text": "U",
          "x": 11397.52837419615,
          "y": 17.42683015720845,
          "yshift": 5
         },
         {
          "arrowhead": 1,
          "showarrow": false,
          "text": "U",
          "x": 9141.236713788385,
          "y": 16.34612416184745,
          "yshift": 5
         },
         {
          "arrowhead": 1,
          "showarrow": false,
          "text": "U",
          "x": 8657.063485573515,
          "y": 16.224553170371053,
          "yshift": 5
         },
         {
          "arrowhead": 1,
          "showarrow": false,
          "text": "U",
          "x": 6376.7657146232905,
          "y": 14.29770425713855,
          "yshift": 5
         },
         {
          "arrowhead": 1,
          "showarrow": false,
          "text": "U",
          "x": 13081.7405041505,
          "y": 17.8510902897199,
          "yshift": 5
         },
         {
          "arrowhead": 1,
          "showarrow": false,
          "text": "U",
          "x": 9902.277610289853,
          "y": 16.5527335202376,
          "yshift": 5
         },
         {
          "arrowhead": 1,
          "showarrow": false,
          "text": "U",
          "x": 20437.7976838301,
          "y": 19.42417895751,
          "yshift": 5
         },
         {
          "arrowhead": 1,
          "showarrow": false,
          "text": "mG",
          "x": 980.375308484804,
          "y": 11.926356940039016,
          "yshift": 5
         },
         {
          "arrowhead": 1,
          "showarrow": false,
          "text": "mG",
          "x": 7587.512400548894,
          "y": 15.27479705270925,
          "yshift": 5
         },
         {
          "arrowhead": 1,
          "showarrow": false,
          "text": "mG",
          "x": 13705.30927393285,
          "y": 18.1252158230225,
          "yshift": 5
         },
         {
          "arrowhead": 1,
          "showarrow": false,
          "text": "mG",
          "x": 14385.3500067998,
          "y": 18.3223442440907,
          "yshift": 5
         },
         {
          "arrowhead": 1,
          "showarrow": false,
          "text": "mG",
          "x": 11455.10082474085,
          "y": 17.328405007290797,
          "yshift": 5
         },
         {
          "arrowhead": 1,
          "showarrow": false,
          "text": "mG",
          "x": 10500.00617372875,
          "y": 16.850145498482398,
          "yshift": 5
         },
         {
          "arrowhead": 1,
          "showarrow": false,
          "text": "mG",
          "x": 15261.60668187565,
          "y": 18.522215915290552,
          "yshift": 5
         },
         {
          "arrowhead": 1,
          "showarrow": false,
          "text": "mG",
          "x": 7312.46505448492,
          "y": 15.076784140435851,
          "yshift": 5
         },
         {
          "arrowhead": 1,
          "showarrow": false,
          "text": "D",
          "x": 963.8628084657685,
          "y": 13.521644728946695,
          "yshift": 5
         },
         {
          "arrowhead": 1,
          "showarrow": false,
          "text": "D",
          "x": 963.8618473613769,
          "y": 15.898395053116495,
          "yshift": 5
         },
         {
          "arrowhead": 1,
          "showarrow": false,
          "text": "D",
          "x": 6374.762040089539,
          "y": 14.37427368220485,
          "yshift": 5
         },
         {
          "arrowhead": 1,
          "showarrow": false,
          "text": "D",
          "x": 6066.720380337535,
          "y": 14.10070409036475,
          "yshift": 5
         },
         {
          "arrowhead": 1,
          "showarrow": false,
          "text": "D",
          "x": 8547.171258326685,
          "y": 15.87316266156035,
          "yshift": 5
         },
         {
          "arrowhead": 1,
          "showarrow": false,
          "text": "D",
          "x": 963.8627584147835,
          "y": 15.59757757442,
          "yshift": 5
         },
         {
          "arrowhead": 1,
          "showarrow": false,
          "text": "D",
          "x": 963.8617973103919,
          "y": 17.9743278985898,
          "yshift": 5
         },
         {
          "arrowhead": 1,
          "showarrow": false,
          "text": "D",
          "x": 17846.4506400237,
          "y": 19.0537902033011,
          "yshift": 5
         },
         {
          "arrowhead": 1,
          "showarrow": false,
          "text": "D",
          "x": 18154.491404039953,
          "y": 19.0998460864703,
          "yshift": 5
         },
         {
          "arrowhead": 1,
          "showarrow": false,
          "text": "D",
          "x": 9516.312490842116,
          "y": 16.4460852370342,
          "yshift": 5
         },
         {
          "arrowhead": 1,
          "showarrow": false,
          "text": "D",
          "x": 9844.316025857965,
          "y": 16.623743461140002,
          "yshift": 5
         },
         {
          "arrowhead": 1,
          "showarrow": false,
          "text": "D",
          "x": 13651.92803520085,
          "y": 18.07398144957225,
          "yshift": 5
         },
         {
          "arrowhead": 1,
          "showarrow": false,
          "text": "mC",
          "x": 8541.70258358024,
          "y": 15.70021601971785,
          "yshift": 5
         },
         {
          "arrowhead": 1,
          "showarrow": false,
          "text": "mC",
          "x": 13316.387848789349,
          "y": 17.975050322779,
          "yshift": 5
         },
         {
          "arrowhead": 1,
          "showarrow": false,
          "text": "mC",
          "x": 12705.276229594401,
          "y": 17.82348267790475,
          "yshift": 5
         },
         {
          "arrowhead": 1,
          "showarrow": false,
          "text": "mC",
          "x": 8860.756347135954,
          "y": 16.124044485457702,
          "yshift": 5
         },
         {
          "arrowhead": 1,
          "showarrow": false,
          "text": "mC",
          "x": 9186.73704736792,
          "y": 16.24602923648355,
          "yshift": 5
         },
         {
          "arrowhead": 1,
          "showarrow": false,
          "text": "mC",
          "x": 8840.681375299566,
          "y": 16.0237641071955,
          "yshift": 5
         },
         {
          "arrowhead": 1,
          "showarrow": false,
          "text": "mC",
          "x": 6890.424397083615,
          "y": 14.57112840271795,
          "yshift": 5
         },
         {
          "arrowhead": 1,
          "showarrow": false,
          "text": "mC",
          "x": 9202.740469940225,
          "y": 16.34612416184745,
          "yshift": 5
         },
         {
          "arrowhead": 1,
          "showarrow": false,
          "text": "mC",
          "x": 13330.374495266751,
          "y": 18.0262600814978,
          "yshift": 5
         },
         {
          "arrowhead": 1,
          "showarrow": false,
          "text": "mC",
          "x": 13941.4434625262,
          "y": 18.20008553620975,
          "yshift": 5
         },
         {
          "arrowhead": 1,
          "showarrow": false,
          "text": "mC",
          "x": 12719.3080328327,
          "y": 17.8995062446276,
          "yshift": 5
         },
         {
          "arrowhead": 1,
          "showarrow": false,
          "text": "mC",
          "x": 10519.974152097551,
          "y": 16.850145498482398,
          "yshift": 5
         },
         {
          "arrowhead": 1,
          "showarrow": false,
          "text": "mC",
          "x": 8732.67207162184,
          "y": 15.653310869701698,
          "yshift": 5
         },
         {
          "arrowhead": 1,
          "showarrow": false,
          "text": "mC",
          "x": 12085.203748303,
          "y": 17.6274690027714,
          "yshift": 5
         },
         {
          "arrowhead": 1,
          "showarrow": false,
          "text": "mU",
          "x": 14735.8734187009,
          "y": 18.4004610444784,
          "yshift": 5
         },
         {
          "arrowhead": 1,
          "showarrow": false,
          "text": "mU",
          "x": 13410.75010220685,
          "y": 18.0470236277262,
          "yshift": 5
         },
         {
          "arrowhead": 1,
          "showarrow": false,
          "text": "mU",
          "x": 6383.778504733071,
          "y": 14.472635944255199,
          "yshift": 5
         },
         {
          "arrowhead": 1,
          "showarrow": false,
          "text": "mU",
          "x": 8232.104365738509,
          "y": 15.6746044442733,
          "yshift": 5
         },
         {
          "arrowhead": 1,
          "showarrow": false,
          "text": "mU",
          "x": 17674.295326210748,
          "y": 18.9748453205506,
          "yshift": 5
         },
         {
          "arrowhead": 1,
          "showarrow": false,
          "text": "mU",
          "x": 15055.931770227151,
          "y": 18.52880835291545,
          "yshift": 5
         },
         {
          "arrowhead": 1,
          "showarrow": false,
          "text": "mU",
          "x": 9838.316462386425,
          "y": 16.6734296943426,
          "yshift": 5
         },
         {
          "arrowhead": 1,
          "showarrow": false,
          "text": "mU",
          "x": 9644.202876239466,
          "y": 16.673387886651348,
          "yshift": 5
         },
         {
          "arrowhead": 1,
          "showarrow": false,
          "text": "mU",
          "x": 14060.81761192775,
          "y": 18.1490621781031,
          "yshift": 5
         },
         {
          "arrowhead": 1,
          "showarrow": false,
          "text": "mU",
          "x": 13635.92020651165,
          "y": 18.1219179159085,
          "yshift": 5
         },
         {
          "arrowhead": 1,
          "showarrow": false,
          "text": "mU",
          "x": 8650.064093915835,
          "y": 16.1241626417319,
          "yshift": 5
         },
         {
          "arrowhead": 1,
          "showarrow": false,
          "text": "mU",
          "x": 12085.691696864,
          "y": 17.60292925295035,
          "yshift": 5
         },
         {
          "arrowhead": 1,
          "showarrow": false,
          "text": "mU",
          "x": 11805.53600792645,
          "y": 17.4549535031795,
          "yshift": 5
         },
         {
          "arrowhead": 1,
          "showarrow": false,
          "text": "mA",
          "x": 24125.59864599885,
          "y": 19.84894678251745,
          "yshift": 5
         },
         {
          "arrowhead": 1,
          "showarrow": false,
          "text": "mA",
          "x": 12097.1588767831,
          "y": 17.60292925295035,
          "yshift": 5
         },
         {
          "arrowhead": 1,
          "showarrow": false,
          "text": "mA",
          "x": 12731.2895450167,
          "y": 17.87546940601665,
          "yshift": 5
         },
         {
          "arrowhead": 1,
          "showarrow": false,
          "text": "mA",
          "x": 9465.768432376051,
          "y": 16.4460852370342,
          "yshift": 5
         },
         {
          "arrowhead": 1,
          "showarrow": false,
          "text": "m22C",
          "x": 9166.73599940175,
          "y": 16.3246575450579,
          "yshift": 5
         },
         {
          "arrowhead": 1,
          "showarrow": false,
          "text": "m22C",
          "x": 8821.693779127669,
          "y": 16.174427141316748,
          "yshift": 5
         },
         {
          "arrowhead": 1,
          "showarrow": false,
          "text": "m22C",
          "x": 13323.38836155585,
          "y": 18.00222324288685,
          "yshift": 5
         },
         {
          "arrowhead": 1,
          "showarrow": false,
          "text": "m22C",
          "x": 13359.336575894751,
          "y": 18.0262600814978,
          "yshift": 5
         },
         {
          "arrowhead": 1,
          "showarrow": false,
          "text": "m22C",
          "x": 12712.265446260051,
          "y": 17.87512712833085,
          "yshift": 5
         },
         {
          "arrowhead": 1,
          "showarrow": false,
          "text": "m22C",
          "x": 7837.545617531925,
          "y": 15.5055924033801,
          "yshift": 5
         },
         {
          "arrowhead": 1,
          "showarrow": false,
          "text": "m22C",
          "x": 12092.17313126455,
          "y": 17.57473825769425,
          "yshift": 5
         },
         {
          "arrowhead": 1,
          "showarrow": false,
          "text": "mcm5U",
          "x": 8193.125664668065,
          "y": 15.5055924033801,
          "yshift": 5
         },
         {
          "arrowhead": 1,
          "showarrow": false,
          "text": "mcm5U",
          "x": 10861.3980594101,
          "y": 17.17378140744365,
          "yshift": 5
         },
         {
          "arrowhead": 1,
          "showarrow": false,
          "text": "mcm5U",
          "x": 11801.5169295265,
          "y": 17.54655688660145,
          "yshift": 5
         },
         {
          "arrowhead": 1,
          "showarrow": false,
          "text": "mcm5U",
          "x": 9826.351999921266,
          "y": 16.574066286849998,
          "yshift": 5
         },
         {
          "arrowhead": 1,
          "showarrow": false,
          "text": "mcm5U",
          "x": 13381.8156614066,
          "y": 17.99908716138995,
          "yshift": 5
         },
         {
          "arrowhead": 1,
          "showarrow": false,
          "text": "mcm5U",
          "x": 10171.361510204064,
          "y": 16.70176685310205,
          "yshift": 5
         },
         {
          "arrowhead": 1,
          "showarrow": false,
          "text": "mcm5U",
          "x": 9978.242737552775,
          "y": 16.72300206975935,
          "yshift": 5
         },
         {
          "arrowhead": 1,
          "showarrow": false,
          "text": "mcm5U",
          "x": 9866.29790679096,
          "y": 16.6238155112346,
          "yshift": 5
         }
        ],
        "template": {
         "data": {
          "bar": [
           {
            "error_x": {
             "color": "#2a3f5f"
            },
            "error_y": {
             "color": "#2a3f5f"
            },
            "marker": {
             "line": {
              "color": "#E5ECF6",
              "width": 0.5
             }
            },
            "type": "bar"
           }
          ],
          "barpolar": [
           {
            "marker": {
             "line": {
              "color": "#E5ECF6",
              "width": 0.5
             }
            },
            "type": "barpolar"
           }
          ],
          "carpet": [
           {
            "aaxis": {
             "endlinecolor": "#2a3f5f",
             "gridcolor": "white",
             "linecolor": "white",
             "minorgridcolor": "white",
             "startlinecolor": "#2a3f5f"
            },
            "baxis": {
             "endlinecolor": "#2a3f5f",
             "gridcolor": "white",
             "linecolor": "white",
             "minorgridcolor": "white",
             "startlinecolor": "#2a3f5f"
            },
            "type": "carpet"
           }
          ],
          "choropleth": [
           {
            "colorbar": {
             "outlinewidth": 0,
             "ticks": ""
            },
            "type": "choropleth"
           }
          ],
          "contour": [
           {
            "colorbar": {
             "outlinewidth": 0,
             "ticks": ""
            },
            "colorscale": [
             [
              0,
              "#0d0887"
             ],
             [
              0.1111111111111111,
              "#46039f"
             ],
             [
              0.2222222222222222,
              "#7201a8"
             ],
             [
              0.3333333333333333,
              "#9c179e"
             ],
             [
              0.4444444444444444,
              "#bd3786"
             ],
             [
              0.5555555555555556,
              "#d8576b"
             ],
             [
              0.6666666666666666,
              "#ed7953"
             ],
             [
              0.7777777777777778,
              "#fb9f3a"
             ],
             [
              0.8888888888888888,
              "#fdca26"
             ],
             [
              1,
              "#f0f921"
             ]
            ],
            "type": "contour"
           }
          ],
          "contourcarpet": [
           {
            "colorbar": {
             "outlinewidth": 0,
             "ticks": ""
            },
            "type": "contourcarpet"
           }
          ],
          "heatmap": [
           {
            "colorbar": {
             "outlinewidth": 0,
             "ticks": ""
            },
            "colorscale": [
             [
              0,
              "#0d0887"
             ],
             [
              0.1111111111111111,
              "#46039f"
             ],
             [
              0.2222222222222222,
              "#7201a8"
             ],
             [
              0.3333333333333333,
              "#9c179e"
             ],
             [
              0.4444444444444444,
              "#bd3786"
             ],
             [
              0.5555555555555556,
              "#d8576b"
             ],
             [
              0.6666666666666666,
              "#ed7953"
             ],
             [
              0.7777777777777778,
              "#fb9f3a"
             ],
             [
              0.8888888888888888,
              "#fdca26"
             ],
             [
              1,
              "#f0f921"
             ]
            ],
            "type": "heatmap"
           }
          ],
          "heatmapgl": [
           {
            "colorbar": {
             "outlinewidth": 0,
             "ticks": ""
            },
            "colorscale": [
             [
              0,
              "#0d0887"
             ],
             [
              0.1111111111111111,
              "#46039f"
             ],
             [
              0.2222222222222222,
              "#7201a8"
             ],
             [
              0.3333333333333333,
              "#9c179e"
             ],
             [
              0.4444444444444444,
              "#bd3786"
             ],
             [
              0.5555555555555556,
              "#d8576b"
             ],
             [
              0.6666666666666666,
              "#ed7953"
             ],
             [
              0.7777777777777778,
              "#fb9f3a"
             ],
             [
              0.8888888888888888,
              "#fdca26"
             ],
             [
              1,
              "#f0f921"
             ]
            ],
            "type": "heatmapgl"
           }
          ],
          "histogram": [
           {
            "marker": {
             "colorbar": {
              "outlinewidth": 0,
              "ticks": ""
             }
            },
            "type": "histogram"
           }
          ],
          "histogram2d": [
           {
            "colorbar": {
             "outlinewidth": 0,
             "ticks": ""
            },
            "colorscale": [
             [
              0,
              "#0d0887"
             ],
             [
              0.1111111111111111,
              "#46039f"
             ],
             [
              0.2222222222222222,
              "#7201a8"
             ],
             [
              0.3333333333333333,
              "#9c179e"
             ],
             [
              0.4444444444444444,
              "#bd3786"
             ],
             [
              0.5555555555555556,
              "#d8576b"
             ],
             [
              0.6666666666666666,
              "#ed7953"
             ],
             [
              0.7777777777777778,
              "#fb9f3a"
             ],
             [
              0.8888888888888888,
              "#fdca26"
             ],
             [
              1,
              "#f0f921"
             ]
            ],
            "type": "histogram2d"
           }
          ],
          "histogram2dcontour": [
           {
            "colorbar": {
             "outlinewidth": 0,
             "ticks": ""
            },
            "colorscale": [
             [
              0,
              "#0d0887"
             ],
             [
              0.1111111111111111,
              "#46039f"
             ],
             [
              0.2222222222222222,
              "#7201a8"
             ],
             [
              0.3333333333333333,
              "#9c179e"
             ],
             [
              0.4444444444444444,
              "#bd3786"
             ],
             [
              0.5555555555555556,
              "#d8576b"
             ],
             [
              0.6666666666666666,
              "#ed7953"
             ],
             [
              0.7777777777777778,
              "#fb9f3a"
             ],
             [
              0.8888888888888888,
              "#fdca26"
             ],
             [
              1,
              "#f0f921"
             ]
            ],
            "type": "histogram2dcontour"
           }
          ],
          "mesh3d": [
           {
            "colorbar": {
             "outlinewidth": 0,
             "ticks": ""
            },
            "type": "mesh3d"
           }
          ],
          "parcoords": [
           {
            "line": {
             "colorbar": {
              "outlinewidth": 0,
              "ticks": ""
             }
            },
            "type": "parcoords"
           }
          ],
          "pie": [
           {
            "automargin": true,
            "type": "pie"
           }
          ],
          "scatter": [
           {
            "marker": {
             "colorbar": {
              "outlinewidth": 0,
              "ticks": ""
             }
            },
            "type": "scatter"
           }
          ],
          "scatter3d": [
           {
            "line": {
             "colorbar": {
              "outlinewidth": 0,
              "ticks": ""
             }
            },
            "marker": {
             "colorbar": {
              "outlinewidth": 0,
              "ticks": ""
             }
            },
            "type": "scatter3d"
           }
          ],
          "scattercarpet": [
           {
            "marker": {
             "colorbar": {
              "outlinewidth": 0,
              "ticks": ""
             }
            },
            "type": "scattercarpet"
           }
          ],
          "scattergeo": [
           {
            "marker": {
             "colorbar": {
              "outlinewidth": 0,
              "ticks": ""
             }
            },
            "type": "scattergeo"
           }
          ],
          "scattergl": [
           {
            "marker": {
             "colorbar": {
              "outlinewidth": 0,
              "ticks": ""
             }
            },
            "type": "scattergl"
           }
          ],
          "scattermapbox": [
           {
            "marker": {
             "colorbar": {
              "outlinewidth": 0,
              "ticks": ""
             }
            },
            "type": "scattermapbox"
           }
          ],
          "scatterpolar": [
           {
            "marker": {
             "colorbar": {
              "outlinewidth": 0,
              "ticks": ""
             }
            },
            "type": "scatterpolar"
           }
          ],
          "scatterpolargl": [
           {
            "marker": {
             "colorbar": {
              "outlinewidth": 0,
              "ticks": ""
             }
            },
            "type": "scatterpolargl"
           }
          ],
          "scatterternary": [
           {
            "marker": {
             "colorbar": {
              "outlinewidth": 0,
              "ticks": ""
             }
            },
            "type": "scatterternary"
           }
          ],
          "surface": [
           {
            "colorbar": {
             "outlinewidth": 0,
             "ticks": ""
            },
            "colorscale": [
             [
              0,
              "#0d0887"
             ],
             [
              0.1111111111111111,
              "#46039f"
             ],
             [
              0.2222222222222222,
              "#7201a8"
             ],
             [
              0.3333333333333333,
              "#9c179e"
             ],
             [
              0.4444444444444444,
              "#bd3786"
             ],
             [
              0.5555555555555556,
              "#d8576b"
             ],
             [
              0.6666666666666666,
              "#ed7953"
             ],
             [
              0.7777777777777778,
              "#fb9f3a"
             ],
             [
              0.8888888888888888,
              "#fdca26"
             ],
             [
              1,
              "#f0f921"
             ]
            ],
            "type": "surface"
           }
          ],
          "table": [
           {
            "cells": {
             "fill": {
              "color": "#EBF0F8"
             },
             "line": {
              "color": "white"
             }
            },
            "header": {
             "fill": {
              "color": "#C8D4E3"
             },
             "line": {
              "color": "white"
             }
            },
            "type": "table"
           }
          ]
         },
         "layout": {
          "annotationdefaults": {
           "arrowcolor": "#2a3f5f",
           "arrowhead": 0,
           "arrowwidth": 1
          },
          "autotypenumbers": "strict",
          "coloraxis": {
           "colorbar": {
            "outlinewidth": 0,
            "ticks": ""
           }
          },
          "colorscale": {
           "diverging": [
            [
             0,
             "#8e0152"
            ],
            [
             0.1,
             "#c51b7d"
            ],
            [
             0.2,
             "#de77ae"
            ],
            [
             0.3,
             "#f1b6da"
            ],
            [
             0.4,
             "#fde0ef"
            ],
            [
             0.5,
             "#f7f7f7"
            ],
            [
             0.6,
             "#e6f5d0"
            ],
            [
             0.7,
             "#b8e186"
            ],
            [
             0.8,
             "#7fbc41"
            ],
            [
             0.9,
             "#4d9221"
            ],
            [
             1,
             "#276419"
            ]
           ],
           "sequential": [
            [
             0,
             "#0d0887"
            ],
            [
             0.1111111111111111,
             "#46039f"
            ],
            [
             0.2222222222222222,
             "#7201a8"
            ],
            [
             0.3333333333333333,
             "#9c179e"
            ],
            [
             0.4444444444444444,
             "#bd3786"
            ],
            [
             0.5555555555555556,
             "#d8576b"
            ],
            [
             0.6666666666666666,
             "#ed7953"
            ],
            [
             0.7777777777777778,
             "#fb9f3a"
            ],
            [
             0.8888888888888888,
             "#fdca26"
            ],
            [
             1,
             "#f0f921"
            ]
           ],
           "sequentialminus": [
            [
             0,
             "#0d0887"
            ],
            [
             0.1111111111111111,
             "#46039f"
            ],
            [
             0.2222222222222222,
             "#7201a8"
            ],
            [
             0.3333333333333333,
             "#9c179e"
            ],
            [
             0.4444444444444444,
             "#bd3786"
            ],
            [
             0.5555555555555556,
             "#d8576b"
            ],
            [
             0.6666666666666666,
             "#ed7953"
            ],
            [
             0.7777777777777778,
             "#fb9f3a"
            ],
            [
             0.8888888888888888,
             "#fdca26"
            ],
            [
             1,
             "#f0f921"
            ]
           ]
          },
          "colorway": [
           "#636efa",
           "#EF553B",
           "#00cc96",
           "#ab63fa",
           "#FFA15A",
           "#19d3f3",
           "#FF6692",
           "#B6E880",
           "#FF97FF",
           "#FECB52"
          ],
          "font": {
           "color": "#2a3f5f"
          },
          "geo": {
           "bgcolor": "white",
           "lakecolor": "white",
           "landcolor": "#E5ECF6",
           "showlakes": true,
           "showland": true,
           "subunitcolor": "white"
          },
          "hoverlabel": {
           "align": "left"
          },
          "hovermode": "closest",
          "mapbox": {
           "style": "light"
          },
          "paper_bgcolor": "white",
          "plot_bgcolor": "#E5ECF6",
          "polar": {
           "angularaxis": {
            "gridcolor": "white",
            "linecolor": "white",
            "ticks": ""
           },
           "bgcolor": "#E5ECF6",
           "radialaxis": {
            "gridcolor": "white",
            "linecolor": "white",
            "ticks": ""
           }
          },
          "scene": {
           "xaxis": {
            "backgroundcolor": "#E5ECF6",
            "gridcolor": "white",
            "gridwidth": 2,
            "linecolor": "white",
            "showbackground": true,
            "ticks": "",
            "zerolinecolor": "white"
           },
           "yaxis": {
            "backgroundcolor": "#E5ECF6",
            "gridcolor": "white",
            "gridwidth": 2,
            "linecolor": "white",
            "showbackground": true,
            "ticks": "",
            "zerolinecolor": "white"
           },
           "zaxis": {
            "backgroundcolor": "#E5ECF6",
            "gridcolor": "white",
            "gridwidth": 2,
            "linecolor": "white",
            "showbackground": true,
            "ticks": "",
            "zerolinecolor": "white"
           }
          },
          "shapedefaults": {
           "line": {
            "color": "#2a3f5f"
           }
          },
          "ternary": {
           "aaxis": {
            "gridcolor": "white",
            "linecolor": "white",
            "ticks": ""
           },
           "baxis": {
            "gridcolor": "white",
            "linecolor": "white",
            "ticks": ""
           },
           "bgcolor": "#E5ECF6",
           "caxis": {
            "gridcolor": "white",
            "linecolor": "white",
            "ticks": ""
           }
          },
          "title": {
           "x": 0.05
          },
          "xaxis": {
           "automargin": true,
           "gridcolor": "white",
           "linecolor": "white",
           "ticks": "",
           "title": {
            "standoff": 15
           },
           "zerolinecolor": "white",
           "zerolinewidth": 2
          },
          "yaxis": {
           "automargin": true,
           "gridcolor": "white",
           "linecolor": "white",
           "ticks": "",
           "title": {
            "standoff": 15
           },
           "zerolinecolor": "white",
           "zerolinewidth": 2
          }
         }
        }
       }
      },
      "text/html": [
       "<div>                            <div id=\"d95e7d7a-04af-47e7-95f9-3d227ad1c76c\" class=\"plotly-graph-div\" style=\"height:525px; width:100%;\"></div>            <script type=\"text/javascript\">                require([\"plotly\"], function(Plotly) {                    window.PLOTLYENV=window.PLOTLYENV || {};                                    if (document.getElementById(\"d95e7d7a-04af-47e7-95f9-3d227ad1c76c\")) {                    Plotly.newPlot(                        \"d95e7d7a-04af-47e7-95f9-3d227ad1c76c\",                        [{\"mode\": \"markers\", \"type\": \"scatter\", \"x\": [8004.07201565025, 17732.3801336932, 800.846224987058, 10679.5496203544, 7861.97131225093, 8282.11925319183, 10055.2858139843, 15441.1072234686, 7671.0192194136, 20590.8235487438, 8892.19813328106, 1033.89764825886, 8681.14959807303, 9690.29974241533, 8878.12489445188, 7491.97653831395, 12258.694085491, 11965.6112994327, 12244.7553195679, 16200.0535869215, 13156.8698494282, 1096.92383499644, 1159.90439198255, 1069.86567951758, 1117.9164591288, 1307.85624992109, 1308.85547074426, 1117.87890010197, 751.883403599114, 4242.47886654313, 751.883287774678, 812.878373033594, 5222.60479236492, 4571.52938613143, 6528.7832733723, 4916.57921847177, 6706.96718296272, 6220.74080680678, 1117.9166, 7202.89070840819, 8183.01026314414, 6857.83612472902, 9139.15139571762, 5912.69995386829, 7548.9323329077, 5115.77399163721, 6056.87680513304, 8794.08411972788, 6401.91968704731, 8489.03673933454, 7876.98409215749, 10439.2991618954, 1307.85409148885, 10745.3419649165, 7692.09433891764, 8037.13728722588, 5568.65388306123, 7347.04745841545, 8701.2258534746, 8382.17931368588, 11356.4353442606, 11662.4619412791, 1117.8788, 9484.17484482664, 9789.24915970905, 6826.9056827863, 11050.3877175941, 13555.749540874, 7437.97645304623, 5421.79640446909, 10134.2708137591, 12296.5606295918, 13900.8120433257, 6520.86105061516, 12945.6627248134, 14895.9061356758, 12559.8106384998, 1001.82287639412, 17514.2818060766, 13475.9058481505, 14205.8230411644, 24297.1165372079, 9790.22223237134, 15200.9620885319, 6176.81892081406, 11925.6521770381, 10665.5099149258, 12864.8269938343, 13781.9127305235, 7547.92948439711, 12268.6655765281, 13250.7255016082, 16184.0944888297, 11990.4999804882, 16038.2193439321, 8683.16957710599, 10970.5785261915, 13532.8593579367, 9020.28684079731, 5244.58615882784, 8072.08296662798, 13170.84211685, 9027.20521863404, 12902.7684515336, 16673.2946054569, 8048.07578313756, 8490.04384741683, 8795.10136124633, 15082.1061402827, 11275.6027433194, 763.832613816054, 10015.4211693972, 5913.70240974159, 8378.1204546411, 6786.92229373416, 19978.7569330187, 17692.4259198982, 9982.32433656743, 10672.4084012261, 7743.02193163646, 11661.4393357706, 18000.4753601492, 7767.04313985023, 9983.34675591344, 15732.1922690568, 10939.4495615525, 10634.4001850596, 15201.9575731271, 9749.26940659541, 14431.9954733384, 14737.0553594743, 9346.2688761018, 9000.2131525261, 9678.30061547225, 6482.89509382055, 10288.3704347995, 727.863748275547, 13570.7747028055, 12230.7283601848, 809.846716829567, 18308.5074479307, 7366.98018169427, 13884.8020160839, 7132.95357065589, 9043.2184525946, 15427.1429738068, 14086.9715514145, 7091.94701365983, 9325.31511376077, 12920.7553142024, 10320.4627271031, 10728.3571175894, 9670.36249439838, 9805.23505515983, 10022.3293308457, 16529.1199506954, 9443.19757522594, 8722.16445003679, 7563.94340448064, 14564.8769724352, 7049.94492594709, 6543.81303076399, 8392.12576484904, 13226.8031441161, 11620.63674365, 11244.5198607001, 14565.8771684082, 5550.65348992162, 8738.18856913414, 6457.84995987518, 10328.3868064708, 11589.534157564, 9637.28283044533, 8393.11666317877, 8199.02774405191, 17363.3867007487, 12614.6906832035, 11645.4607164202, 16344.2616720469, 15789.1239550972, 9362.26248728585, 17018.3474490374, 7203.88042538061, 17834.3088463449, 11033.3725578021, 7702.02566344593, 10360.3986838407, 18653.5600643707, 9333.2588462774, 8988.21939327, 9999.34044317448, 12278.5609450194, 11357.4395084994, 9638.29501915911, 13837.8672231274, 6620.89198720494, 13209.8082387353, 15215.9574047785, 9998.3323093006, 5895.69167129136, 13594.7384576037, 8377.11051283155, 7712.02652652407, 9804.23090765229, 13192.8566200077, 13489.9068736835, 13233.746755947, 7354.99431628768, 809.844794620784, 13538.8161480263, 5735.76720774992, 7892.9885203497, 8168.00792765815, 8504.04263073219, 7462.04983117297, 6275.84686916836, 16874.1868127079, 7407.98166124756, 23954.0807547898, 7395.96834918867, 9677.30999959762, 13525.8165317818, 10305.393213609, 7397.98324674173, 14100.9741945289, 14220.8231805298, 7532.92596935066, 11339.4560540442, 8017.06612231526, 11634.5989061623, 16118.1549720526, 23968.1240569712, 9349.26982670593, 6730.90386822014, 9010.20488732706, 8505.0423355844, 6040.79268304198, 20284.7718189164, 12878.8054271656, 6223.74397870215, 13795.9345648728, 11972.552229215, 6873.83500253861, 13497.9187622632, 11550.5368876922, 20589.8196341436, 12928.7463832699, 9294.25403430677, 17403.373898261, 14575.840701726, 8810.08434041484, 10167.2363153965, 8655.16816498534, 6529.78745054443, 13234.7346250311, 7660.01818754826, 11612.5338785648, 13805.9373081385, 8587.1619535345, 15426.1368412173, 12545.7254653545, 11894.5810540548, 18998.594833934, 9420.22160392623, 12245.7312166899, 8573.14600996262, 1002.82456702488], \"y\": [15.5055924033801, 19.0998493448575, 1.60212451176643, 16.948951768446, 15.6493885532697, 15.3475874360084, 16.6521944776853, 18.5491172031244, 15.5055924033801, 19.3984022533576, 15.8010293360233, 20.1496977106412, 15.8514856870651, 16.5528220112801, 16.1530903951009, 15.2034749106248, 17.595881628561, 17.4549535031795, 17.7013431187153, 18.7495013868491, 17.9030770178318, 6.25496734536489, 22.2505893683116, 20.3038228030682, 8.29378807104429, 20.1026214277426, 15.0443844790936, 8.29378807104429, 24.8987661357403, 11.3946824864229, 18.1013694679419, 15.9523093378226, 13.2008065199534, 12.3505774612904, 14.4983041778882, 12.7975431775729, 13.9001959697088, 14.2502431865215, 12.4456537619909, 15.2034749106248, 15.8948396360556, 14.9500933702469, 16.3962323780537, 13.951164994208, 15.4050634856701, 11.4961999352455, 13.252036688296, 16.2531933621248, 13.5515568371296, 16.0959553038756, 15.6998203352769, 16.9983260368983, 1.60212451176643, 17.1456405357202, 15.0443844790936, 15.2466444130421, 13.5004550194422, 14.9500933702469, 15.8948396360556, 15.5055924033801, 17.3986328617414, 17.4549535031795, 12.4456537619909, 16.5954365447839, 16.6946649109999, 14.4983041778882, 17.3000654275894, 18.1013694679419, 15.0443844790936, 11.9478294030507, 16.8995118434906, 17.7503235693455, 18.1490621781031, 14.2502431865215, 17.9030770178318, 18.4548025782585, 17.8478617942015, 1.69939231233597, 18.9485183711529, 18.0470236277262, 18.2985689774831, 19.7507101948738, 16.7513392285188, 18.4953146274567, 13.7984283860207, 17.5535948868275, 16.8995118434906, 17.8478617942015, 18.1490621781031, 15.5487364367326, 17.6522636190732, 18.0470236277262, 18.7495013868491, 17.595881628561, 18.696357611386, 16.0528383369923, 17.0474973872979, 18.1013694679419, 16.3532493348598, 13.252036688296, 15.6493885532697, 17.9511506950537, 16.1960425273259, 17.9030770178318, 18.8555435692946, 15.5487364367326, 15.9523093378226, 15.995460384655, 18.4953146274567, 17.2018565114021, 15.6061819946448, 16.6521944776853, 14.1480981444995, 15.8948396360556, 14.5492934937954, 19.3984022533576, 19.0537902033011, 16.6521944776853, 17.0474973872979, 15.2466444130421, 17.595881628561, 19.0537902033011, 15.5487364367326, 16.7938160534382, 18.6563473697186, 17.1456405357202, 17.0474973872979, 18.4953146274567, 16.4532725627899, 18.2985689774831, 18.4006968871435, 16.2960159456412, 16.1960425273259, 16.6521944776853, 14.1992257531166, 16.8502351438681, 14.6512711361726, 18.0470236277262, 17.6522636190732, 18.7495013868491, 19.1459019696395, 15.0443844790936, 18.1490621781031, 14.9500933702469, 16.2960159456412, 18.6028141275724, 18.2511088943164, 14.7971896266619, 16.4959380960147, 17.8478617942015, 16.7513392285188, 17.1035744940917, 16.4959380960147, 16.4959380960147, 16.7513392285188, 18.7495013868491, 16.2960159456412, 16.0959553038756, 15.4050634856701, 18.3461195106983, 14.6950287019889, 14.6950287019889, 15.6998203352769, 18.0470236277262, 17.3986328617414, 17.3000654275894, 18.4006968871435, 13.2960409199874, 16.0959553038756, 13.7984283860207, 16.7513392285188, 17.3986328617414, 16.4959380960147, 15.8514856870651, 15.8948396360556, 18.8555435692946, 17.6522636190732, 17.4549535031795, 18.7495013868491, 18.696357611386, 16.3962323780537, 18.8954182958285, 15.0443844790936, 19.0011722699483, 17.2509318128904, 15.3043170527299, 16.7513392285188, 19.1981348112901, 16.4532725627899, 16.2960159456412, 16.7938160534382, 17.7503235693455, 17.2018565114021, 16.5954365447839, 18.2511088943164, 14.9500933702469, 17.8478617942015, 18.6028141275724, 16.6946649109999, 13.747512612311, 17.9991986369769, 15.8010293360233, 15.3475874360084, 16.7513392285188, 17.9511506950537, 18.1013694679419, 17.9030770178318, 15.0008576686859, 23.5030020351887, 18.0470236277262, 13.4495166873614, 15.6493885532697, 15.8010293360233, 16.1530903951009, 15.4050634856701, 14.6512711361726, 18.8954182958285, 15.0008576686859, 19.9471833701611, 14.8482208943049, 16.5954365447839, 18.1013694679419, 16.948951768446, 15.1023240780512, 18.2511088943164, 18.1490621781031, 15.4050634856701, 17.2018565114021, 15.5487364367326, 17.4549535031795, 18.8024065947215, 19.9006463781675, 16.3962323780537, 14.447228103447, 16.1960425273259, 15.995460384655, 13.747512612311, 19.4499556616624, 17.9511506950537, 14.2502431865215, 18.1968122040908, 17.4972321446419, 14.9500933702469, 17.9511506950537, 17.5535948868275, 19.4499556616624, 17.799103561608, 16.3962323780537, 18.8555435692946, 18.3461195106983, 16.2960159456412, 16.7513392285188, 16.0528383369923, 14.3451653277556, 17.9030770178318, 15.1457434113502, 17.4972321446419, 18.1968122040908, 15.5055924033801, 18.5491172031244, 17.799103561608, 17.595881628561, 19.2500301118374, 16.3532493348598, 17.6522636190732, 15.5055924033801, 2.55380676147143]}, {\"line\": {\"color\": \"pink\"}, \"mode\": \"lines+markers\", \"name\": \"C\", \"type\": \"scatter\", \"x\": [1117.9164591288, 812.878373033594], \"y\": [8.29378807104429, 15.9523093378226]}, {\"line\": {\"color\": \"pink\"}, \"mode\": \"lines+markers\", \"name\": \"C\", \"type\": \"scatter\", \"x\": [1307.85624992109, 1002.82456702488], \"y\": [20.1026214277426, 2.55380676147143]}, {\"line\": {\"color\": \"pink\"}, \"mode\": \"lines+markers\", \"name\": \"C\", \"type\": \"scatter\", \"x\": [6528.7832733723, 6223.74397870215], \"y\": [14.4983041778882, 14.2502431865215]}, {\"line\": {\"color\": \"pink\"}, \"mode\": \"lines+markers\", \"name\": \"C\", \"type\": \"scatter\", \"x\": [6706.96718296272, 6401.91968704731], \"y\": [13.9001959697088, 13.5515568371296]}, {\"line\": {\"color\": \"pink\"}, \"mode\": \"lines+markers\", \"name\": \"C\", \"type\": \"scatter\", \"x\": [812.878373033594, 1117.9166], \"y\": [15.9523093378226, 12.4456537619909]}, {\"line\": {\"color\": \"pink\"}, \"mode\": \"lines+markers\", \"name\": \"C\", \"type\": \"scatter\", \"x\": [8794.08411972788, 8489.03673933454], \"y\": [16.2531933621248, 16.0959553038756]}, {\"line\": {\"color\": \"pink\"}, \"mode\": \"lines+markers\", \"name\": \"C\", \"type\": \"scatter\", \"x\": [10439.2991618954, 10134.2708137591], \"y\": [16.9983260368983, 16.8995118434906]}, {\"line\": {\"color\": \"pink\"}, \"mode\": \"lines+markers\", \"name\": \"C\", \"type\": \"scatter\", \"x\": [1307.85409148885, 1002.82456702488], \"y\": [1.60212451176643, 2.55380676147143]}, {\"line\": {\"color\": \"pink\"}, \"mode\": \"lines+markers\", \"name\": \"C\", \"type\": \"scatter\", \"x\": [11662.4619412791, 11357.4395084994], \"y\": [17.4549535031795, 17.2018565114021]}, {\"line\": {\"color\": \"pink\"}, \"mode\": \"lines+markers\", \"name\": \"C\", \"type\": \"scatter\", \"x\": [9484.17484482664, 9789.24915970905], \"y\": [16.5954365447839, 16.6946649109999]}, {\"line\": {\"color\": \"pink\"}, \"mode\": \"lines+markers\", \"name\": \"C\", \"type\": \"scatter\", \"x\": [10745.3419649165, 11050.3877175941], \"y\": [17.1456405357202, 17.3000654275894]}, {\"line\": {\"color\": \"pink\"}, \"mode\": \"lines+markers\", \"name\": \"C\", \"type\": \"scatter\", \"x\": [13555.749540874, 13250.7255016082], \"y\": [18.1013694679419, 18.0470236277262]}, {\"line\": {\"color\": \"pink\"}, \"mode\": \"lines+markers\", \"name\": \"C\", \"type\": \"scatter\", \"x\": [7437.97645304623, 7132.95357065589], \"y\": [15.0443844790936, 14.9500933702469]}, {\"line\": {\"color\": \"pink\"}, \"mode\": \"lines+markers\", \"name\": \"C\", \"type\": \"scatter\", \"x\": [13475.9058481505, 13170.84211685], \"y\": [18.0470236277262, 17.9511506950537]}, {\"line\": {\"color\": \"pink\"}, \"mode\": \"lines+markers\", \"name\": \"C\", \"type\": \"scatter\", \"x\": [13900.8120433257, 14205.8230411644], \"y\": [18.1490621781031, 18.2985689774831]}, {\"line\": {\"color\": \"pink\"}, \"mode\": \"lines+markers\", \"name\": \"C\", \"type\": \"scatter\", \"x\": [14895.9061356758, 15200.9620885319], \"y\": [18.4548025782585, 18.4953146274567]}, {\"line\": {\"color\": \"pink\"}, \"mode\": \"lines+markers\", \"name\": \"C\", \"type\": \"scatter\", \"x\": [11925.6521770381, 11620.63674365], \"y\": [17.5535948868275, 17.3986328617414]}, {\"line\": {\"color\": \"pink\"}, \"mode\": \"lines+markers\", \"name\": \"C\", \"type\": \"scatter\", \"x\": [10665.5099149258, 10360.3986838407], \"y\": [16.8995118434906, 16.7513392285188]}, {\"line\": {\"color\": \"pink\"}, \"mode\": \"lines+markers\", \"name\": \"C\", \"type\": \"scatter\", \"x\": [12559.8106384998, 12864.8269938343], \"y\": [17.8478617942015, 17.8478617942015]}, {\"line\": {\"color\": \"pink\"}, \"mode\": \"lines+markers\", \"name\": \"C\", \"type\": \"scatter\", \"x\": [12945.6627248134, 13250.7255016082], \"y\": [17.9030770178318, 18.0470236277262]}, {\"line\": {\"color\": \"pink\"}, \"mode\": \"lines+markers\", \"name\": \"C\", \"type\": \"scatter\", \"x\": [8683.16957710599, 8378.1204546411], \"y\": [16.0528383369923, 15.8948396360556]}, {\"line\": {\"color\": \"pink\"}, \"mode\": \"lines+markers\", \"name\": \"C\", \"type\": \"scatter\", \"x\": [10665.5099149258, 10970.5785261915], \"y\": [16.8995118434906, 17.0474973872979]}, {\"line\": {\"color\": \"pink\"}, \"mode\": \"lines+markers\", \"name\": \"C\", \"type\": \"scatter\", \"x\": [8072.08296662798, 7767.04313985023], \"y\": [15.6493885532697, 15.5487364367326]}, {\"line\": {\"color\": \"pink\"}, \"mode\": \"lines+markers\", \"name\": \"C\", \"type\": \"scatter\", \"x\": [9027.20521863404, 8722.16445003679], \"y\": [16.1960425273259, 16.0959553038756]}, {\"line\": {\"color\": \"pink\"}, \"mode\": \"lines+markers\", \"name\": \"C\", \"type\": \"scatter\", \"x\": [8048.07578313756, 7743.02193163646], \"y\": [15.5487364367326, 15.2466444130421]}, {\"line\": {\"color\": \"pink\"}, \"mode\": \"lines+markers\", \"name\": \"C\", \"type\": \"scatter\", \"x\": [8490.04384741683, 8795.10136124633], \"y\": [15.9523093378226, 15.995460384655]}, {\"line\": {\"color\": \"pink\"}, \"mode\": \"lines+markers\", \"name\": \"C\", \"type\": \"scatter\", \"x\": [10970.5785261915, 11275.6027433194], \"y\": [17.0474973872979, 17.2018565114021]}, {\"line\": {\"color\": \"pink\"}, \"mode\": \"lines+markers\", \"name\": \"C\", \"type\": \"scatter\", \"x\": [9982.32433656743, 9677.30999959762], \"y\": [16.6521944776853, 16.5954365447839]}, {\"line\": {\"color\": \"pink\"}, \"mode\": \"lines+markers\", \"name\": \"C\", \"type\": \"scatter\", \"x\": [7437.97645304623, 7743.02193163646], \"y\": [15.0443844790936, 15.2466444130421]}, {\"line\": {\"color\": \"pink\"}, \"mode\": \"lines+markers\", \"name\": \"C\", \"type\": \"scatter\", \"x\": [11356.4353442606, 11661.4393357706], \"y\": [17.3986328617414, 17.595881628561]}, {\"line\": {\"color\": \"pink\"}, \"mode\": \"lines+markers\", \"name\": \"C\", \"type\": \"scatter\", \"x\": [7767.04313985023, 7462.04983117297], \"y\": [15.5487364367326, 15.4050634856701]}, {\"line\": {\"color\": \"pink\"}, \"mode\": \"lines+markers\", \"name\": \"C\", \"type\": \"scatter\", \"x\": [9983.34675591344, 9678.30061547225], \"y\": [16.7938160534382, 16.6521944776853]}, {\"line\": {\"color\": \"pink\"}, \"mode\": \"lines+markers\", \"name\": \"C\", \"type\": \"scatter\", \"x\": [15732.1922690568, 15427.1429738068], \"y\": [18.6563473697186, 18.6028141275724]}, {\"line\": {\"color\": \"pink\"}, \"mode\": \"lines+markers\", \"name\": \"C\", \"type\": \"scatter\", \"x\": [10939.4495615525, 10634.4001850596], \"y\": [17.1456405357202, 17.0474973872979]}, {\"line\": {\"color\": \"pink\"}, \"mode\": \"lines+markers\", \"name\": \"C\", \"type\": \"scatter\", \"x\": [14431.9954733384, 14737.0553594743], \"y\": [18.2985689774831, 18.4006968871435]}, {\"line\": {\"color\": \"pink\"}, \"mode\": \"lines+markers\", \"name\": \"C\", \"type\": \"scatter\", \"x\": [9983.34675591344, 10288.3704347995], \"y\": [16.7938160534382, 16.8502351438681]}, {\"line\": {\"color\": \"pink\"}, \"mode\": \"lines+markers\", \"name\": \"C\", \"type\": \"scatter\", \"x\": [11925.6521770381, 12230.7283601848], \"y\": [17.5535948868275, 17.6522636190732]}, {\"line\": {\"color\": \"pink\"}, \"mode\": \"lines+markers\", \"name\": \"C\", \"type\": \"scatter\", \"x\": [9043.2184525946, 8738.18856913414], \"y\": [16.2960159456412, 16.0959553038756]}, {\"line\": {\"color\": \"pink\"}, \"mode\": \"lines+markers\", \"name\": \"C\", \"type\": \"scatter\", \"x\": [13781.9127305235, 14086.9715514145], \"y\": [18.1490621781031, 18.2511088943164]}, {\"line\": {\"color\": \"pink\"}, \"mode\": \"lines+markers\", \"name\": \"C\", \"type\": \"scatter\", \"x\": [6786.92229373416, 7091.94701365983], \"y\": [14.5492934937954, 14.7971896266619]}, {\"line\": {\"color\": \"pink\"}, \"mode\": \"lines+markers\", \"name\": \"C\", \"type\": \"scatter\", \"x\": [9020.28684079731, 9325.31511376077], \"y\": [16.3532493348598, 16.4959380960147]}, {\"line\": {\"color\": \"pink\"}, \"mode\": \"lines+markers\", \"name\": \"C\", \"type\": \"scatter\", \"x\": [10015.4211693972, 10320.4627271031], \"y\": [16.6521944776853, 16.7513392285188]}, {\"line\": {\"color\": \"pink\"}, \"mode\": \"lines+markers\", \"name\": \"C\", \"type\": \"scatter\", \"x\": [10939.4495615525, 11244.5198607001], \"y\": [17.1456405357202, 17.3000654275894]}, {\"line\": {\"color\": \"pink\"}, \"mode\": \"lines+markers\", \"name\": \"C\", \"type\": \"scatter\", \"x\": [10728.3571175894, 11033.3725578021], \"y\": [17.1035744940917, 17.2509318128904]}, {\"line\": {\"color\": \"pink\"}, \"mode\": \"lines+markers\", \"name\": \"C\", \"type\": \"scatter\", \"x\": [10055.2858139843, 10360.3986838407], \"y\": [16.6521944776853, 16.7513392285188]}, {\"line\": {\"color\": \"pink\"}, \"mode\": \"lines+markers\", \"name\": \"C\", \"type\": \"scatter\", \"x\": [8683.16957710599, 8988.21939327], \"y\": [16.0528383369923, 16.2960159456412]}, {\"line\": {\"color\": \"pink\"}, \"mode\": \"lines+markers\", \"name\": \"C\", \"type\": \"scatter\", \"x\": [9333.2588462774, 9638.29501915911], \"y\": [16.4532725627899, 16.5954365447839]}, {\"line\": {\"color\": \"pink\"}, \"mode\": \"lines+markers\", \"name\": \"C\", \"type\": \"scatter\", \"x\": [13532.8593579367, 13837.8672231274], \"y\": [18.1013694679419, 18.2511088943164]}, {\"line\": {\"color\": \"pink\"}, \"mode\": \"lines+markers\", \"name\": \"C\", \"type\": \"scatter\", \"x\": [8072.08296662798, 8377.11051283155], \"y\": [15.6493885532697, 15.8010293360233]}, {\"line\": {\"color\": \"pink\"}, \"mode\": \"lines+markers\", \"name\": \"C\", \"type\": \"scatter\", \"x\": [13233.746755947, 12928.7463832699], \"y\": [17.9030770178318, 17.799103561608]}, {\"line\": {\"color\": \"pink\"}, \"mode\": \"lines+markers\", \"name\": \"C\", \"type\": \"scatter\", \"x\": [7049.94492594709, 7354.99431628768], \"y\": [14.6950287019889, 15.0008576686859]}, {\"line\": {\"color\": \"pink\"}, \"mode\": \"lines+markers\", \"name\": \"C\", \"type\": \"scatter\", \"x\": [13233.746755947, 13538.8161480263], \"y\": [17.9030770178318, 18.0470236277262]}, {\"line\": {\"color\": \"pink\"}, \"mode\": \"lines+markers\", \"name\": \"C\", \"type\": \"scatter\", \"x\": [8199.02774405191, 8504.04263073219], \"y\": [15.8948396360556, 16.1530903951009]}, {\"line\": {\"color\": \"pink\"}, \"mode\": \"lines+markers\", \"name\": \"C\", \"type\": \"scatter\", \"x\": [14100.9741945289, 13795.9345648728], \"y\": [18.2511088943164, 18.1968122040908]}, {\"line\": {\"color\": \"pink\"}, \"mode\": \"lines+markers\", \"name\": \"C\", \"type\": \"scatter\", \"x\": [7712.02652652407, 8017.06612231526], \"y\": [15.3475874360084, 15.5487364367326]}, {\"line\": {\"color\": \"pink\"}, \"mode\": \"lines+markers\", \"name\": \"C\", \"type\": \"scatter\", \"x\": [5735.76720774992, 6040.79268304198], \"y\": [13.4495166873614, 13.747512612311]}, {\"line\": {\"color\": \"pink\"}, \"mode\": \"lines+markers\", \"name\": \"C\", \"type\": \"scatter\", \"x\": [13192.8566200077, 13497.9187622632], \"y\": [17.9511506950537, 17.9511506950537]}, {\"line\": {\"color\": \"pink\"}, \"mode\": \"lines+markers\", \"name\": \"C\", \"type\": \"scatter\", \"x\": [20284.7718189164, 20589.8196341436], \"y\": [19.4499556616624, 19.4499556616624]}, {\"line\": {\"color\": \"pink\"}, \"mode\": \"lines+markers\", \"name\": \"C\", \"type\": \"scatter\", \"x\": [8505.0423355844, 8810.08434041484], \"y\": [15.995460384655, 16.2960159456412]}, {\"line\": {\"color\": \"pink\"}, \"mode\": \"lines+markers\", \"name\": \"C\", \"type\": \"scatter\", \"x\": [7354.99431628768, 7660.01818754826], \"y\": [15.0008576686859, 15.1457434113502]}, {\"line\": {\"color\": \"pink\"}, \"mode\": \"lines+markers\", \"name\": \"C\", \"type\": \"scatter\", \"x\": [8282.11925319183, 8587.1619535345], \"y\": [15.3475874360084, 15.5055924033801]}, {\"line\": {\"color\": \"pink\"}, \"mode\": \"lines+markers\", \"name\": \"C\", \"type\": \"scatter\", \"x\": [11589.534157564, 11894.5810540548], \"y\": [17.3986328617414, 17.595881628561]}, {\"line\": {\"color\": \"pink\"}, \"mode\": \"lines+markers\", \"name\": \"C\", \"type\": \"scatter\", \"x\": [8892.19813328106, 8587.1619535345], \"y\": [15.8010293360233, 15.5055924033801]}, {\"line\": {\"color\": \"pink\"}, \"mode\": \"lines+markers\", \"name\": \"C\", \"type\": \"scatter\", \"x\": [8878.12489445188, 8573.14600996262], \"y\": [16.1530903951009, 15.5055924033801]}, {\"line\": {\"color\": \"pink\"}, \"mode\": \"lines+markers\", \"name\": \"A\", \"type\": \"scatter\", \"x\": [4242.47886654313, 4571.52938613143], \"y\": [11.3946824864229, 12.3505774612904]}, {\"line\": {\"color\": \"pink\"}, \"mode\": \"lines+markers\", \"name\": \"A\", \"type\": \"scatter\", \"x\": [7202.89070840819, 6873.83500253861], \"y\": [15.2034749106248, 14.9500933702469]}, {\"line\": {\"color\": \"pink\"}, \"mode\": \"lines+markers\", \"name\": \"A\", \"type\": \"scatter\", \"x\": [6528.7832733723, 6857.83612472902], \"y\": [14.4983041778882, 14.9500933702469]}, {\"line\": {\"color\": \"pink\"}, \"mode\": \"lines+markers\", \"name\": \"A\", \"type\": \"scatter\", \"x\": [9139.15139571762, 8810.08434041484], \"y\": [16.3962323780537, 16.2960159456412]}, {\"line\": {\"color\": \"pink\"}, \"mode\": \"lines+markers\", \"name\": \"A\", \"type\": \"scatter\", \"x\": [7876.98409215749, 7547.92948439711], \"y\": [15.6998203352769, 15.5487364367326]}, {\"line\": {\"color\": \"pink\"}, \"mode\": \"lines+markers\", \"name\": \"A\", \"type\": \"scatter\", \"x\": [13555.749540874, 13226.8031441161], \"y\": [18.1013694679419, 18.0470236277262]}, {\"line\": {\"color\": \"pink\"}, \"mode\": \"lines+markers\", \"name\": \"A\", \"type\": \"scatter\", \"x\": [10134.2708137591, 9805.23505515983], \"y\": [16.8995118434906, 16.4959380960147]}, {\"line\": {\"color\": \"pink\"}, \"mode\": \"lines+markers\", \"name\": \"A\", \"type\": \"scatter\", \"x\": [12559.8106384998, 12230.7283601848], \"y\": [17.8478617942015, 17.6522636190732]}, {\"line\": {\"color\": \"pink\"}, \"mode\": \"lines+markers\", \"name\": \"A\", \"type\": \"scatter\", \"x\": [24297.1165372079, 23968.1240569712], \"y\": [19.7507101948738, 19.9006463781675]}, {\"line\": {\"color\": \"pink\"}, \"mode\": \"lines+markers\", \"name\": \"A\", \"type\": \"scatter\", \"x\": [11990.4999804882, 11661.4393357706], \"y\": [17.595881628561, 17.595881628561]}, {\"line\": {\"color\": \"pink\"}, \"mode\": \"lines+markers\", \"name\": \"A\", \"type\": \"scatter\", \"x\": [8072.08296662798, 7743.02193163646], \"y\": [15.6493885532697, 15.2466444130421]}, {\"line\": {\"color\": \"pink\"}, \"mode\": \"lines+markers\", \"name\": \"A\", \"type\": \"scatter\", \"x\": [16673.2946054569, 16344.2616720469], \"y\": [18.8555435692946, 18.7495013868491]}, {\"line\": {\"color\": \"pink\"}, \"mode\": \"lines+markers\", \"name\": \"A\", \"type\": \"scatter\", \"x\": [6786.92229373416, 6457.84995987518], \"y\": [14.5492934937954, 13.7984283860207]}, {\"line\": {\"color\": \"pink\"}, \"mode\": \"lines+markers\", \"name\": \"A\", \"type\": \"scatter\", \"x\": [17692.4259198982, 17363.3867007487], \"y\": [19.0537902033011, 18.8555435692946]}, {\"line\": {\"color\": \"pink\"}, \"mode\": \"lines+markers\", \"name\": \"A\", \"type\": \"scatter\", \"x\": [7437.97645304623, 7767.04313985023], \"y\": [15.0443844790936, 15.5487364367326]}, {\"line\": {\"color\": \"pink\"}, \"mode\": \"lines+markers\", \"name\": \"A\", \"type\": \"scatter\", \"x\": [10634.4001850596, 10305.393213609], \"y\": [17.0474973872979, 16.948951768446]}, {\"line\": {\"color\": \"pink\"}, \"mode\": \"lines+markers\", \"name\": \"A\", \"type\": \"scatter\", \"x\": [9749.26940659541, 9420.22160392623], \"y\": [16.4532725627899, 16.3532493348598]}, {\"line\": {\"color\": \"pink\"}, \"mode\": \"lines+markers\", \"name\": \"A\", \"type\": \"scatter\", \"x\": [9678.30061547225, 9349.26982670593], \"y\": [16.6521944776853, 16.3962323780537]}, {\"line\": {\"color\": \"pink\"}, \"mode\": \"lines+markers\", \"name\": \"A\", \"type\": \"scatter\", \"x\": [13555.749540874, 13884.8020160839], \"y\": [18.1013694679419, 18.1490621781031]}, {\"line\": {\"color\": \"pink\"}, \"mode\": \"lines+markers\", \"name\": \"A\", \"type\": \"scatter\", \"x\": [16200.0535869215, 16529.1199506954], \"y\": [18.7495013868491, 18.7495013868491]}, {\"line\": {\"color\": \"pink\"}, \"mode\": \"lines+markers\", \"name\": \"A\", \"type\": \"scatter\", \"x\": [8722.16445003679, 8393.11666317877], \"y\": [16.0959553038756, 15.8514856870651]}, {\"line\": {\"color\": \"pink\"}, \"mode\": \"lines+markers\", \"name\": \"A\", \"type\": \"scatter\", \"x\": [10328.3868064708, 9999.34044317448], \"y\": [16.7513392285188, 16.7938160534382]}, {\"line\": {\"color\": \"pink\"}, \"mode\": \"lines+markers\", \"name\": \"A\", \"type\": \"scatter\", \"x\": [9670.36249439838, 9999.34044317448], \"y\": [16.4959380960147, 16.7938160534382]}, {\"line\": {\"color\": \"pink\"}, \"mode\": \"lines+markers\", \"name\": \"A\", \"type\": \"scatter\", \"x\": [8048.07578313756, 8377.11051283155], \"y\": [15.5487364367326, 15.8010293360233]}, {\"line\": {\"color\": \"pink\"}, \"mode\": \"lines+markers\", \"name\": \"A\", \"type\": \"scatter\", \"x\": [13209.8082387353, 13538.8161480263], \"y\": [17.8478617942015, 18.0470236277262]}, {\"line\": {\"color\": \"pink\"}, \"mode\": \"lines+markers\", \"name\": \"A\", \"type\": \"scatter\", \"x\": [7563.94340448064, 7892.9885203497], \"y\": [15.4050634856701, 15.6493885532697]}, {\"line\": {\"color\": \"pink\"}, \"mode\": \"lines+markers\", \"name\": \"A\", \"type\": \"scatter\", \"x\": [7132.95357065589, 7462.04983117297], \"y\": [14.9500933702469, 15.4050634856701]}, {\"line\": {\"color\": \"pink\"}, \"mode\": \"lines+markers\", \"name\": \"A\", \"type\": \"scatter\", \"x\": [7203.88042538061, 7532.92596935066], \"y\": [15.0443844790936, 15.4050634856701]}, {\"line\": {\"color\": \"pink\"}, \"mode\": \"lines+markers\", \"name\": \"A\", \"type\": \"scatter\", \"x\": [15789.1239550972, 16118.1549720526], \"y\": [18.696357611386, 18.8024065947215]}, {\"line\": {\"color\": \"pink\"}, \"mode\": \"lines+markers\", \"name\": \"A\", \"type\": \"scatter\", \"x\": [9020.28684079731, 9349.26982670593], \"y\": [16.3532493348598, 16.3962323780537]}, {\"line\": {\"color\": \"pink\"}, \"mode\": \"lines+markers\", \"name\": \"A\", \"type\": \"scatter\", \"x\": [8681.14959807303, 9010.20488732706], \"y\": [15.8514856870651, 16.1960425273259]}, {\"line\": {\"color\": \"pink\"}, \"mode\": \"lines+markers\", \"name\": \"A\", \"type\": \"scatter\", \"x\": [17732.3801336932, 17403.373898261], \"y\": [19.0998493448575, 18.8555435692946]}, {\"line\": {\"color\": \"pink\"}, \"mode\": \"lines+markers\", \"name\": \"A\", \"type\": \"scatter\", \"x\": [7861.97131225093, 7532.92596935066], \"y\": [15.6493885532697, 15.4050634856701]}, {\"line\": {\"color\": \"pink\"}, \"mode\": \"lines+markers\", \"name\": \"G\", \"type\": \"scatter\", \"x\": [1096.92383499644, 751.883403599114], \"y\": [6.25496734536489, 24.8987661357403]}, {\"line\": {\"color\": \"pink\"}, \"mode\": \"lines+markers\", \"name\": \"G\", \"type\": \"scatter\", \"x\": [1096.92383499644, 751.883287774678], \"y\": [6.25496734536489, 18.1013694679419]}, {\"line\": {\"color\": \"pink\"}, \"mode\": \"lines+markers\", \"name\": \"G\", \"type\": \"scatter\", \"x\": [4571.52938613143, 4916.57921847177], \"y\": [12.3505774612904, 12.7975431775729]}, {\"line\": {\"color\": \"pink\"}, \"mode\": \"lines+markers\", \"name\": \"G\", \"type\": \"scatter\", \"x\": [7202.89070840819, 6857.83612472902], \"y\": [15.2034749106248, 14.9500933702469]}, {\"line\": {\"color\": \"pink\"}, \"mode\": \"lines+markers\", \"name\": \"G\", \"type\": \"scatter\", \"x\": [9139.15139571762, 8794.08411972788], \"y\": [16.3962323780537, 16.2531933621248]}, {\"line\": {\"color\": \"pink\"}, \"mode\": \"lines+markers\", \"name\": \"G\", \"type\": \"scatter\", \"x\": [7548.9323329077, 7203.88042538061], \"y\": [15.4050634856701, 15.0443844790936]}, {\"line\": {\"color\": \"pink\"}, \"mode\": \"lines+markers\", \"name\": \"G\", \"type\": \"scatter\", \"x\": [6056.87680513304, 6401.91968704731], \"y\": [13.252036688296, 13.5515568371296]}, {\"line\": {\"color\": \"pink\"}, \"mode\": \"lines+markers\", \"name\": \"G\", \"type\": \"scatter\", \"x\": [7692.09433891764, 7347.04745841545], \"y\": [15.0443844790936, 14.9500933702469]}, {\"line\": {\"color\": \"pink\"}, \"mode\": \"lines+markers\", \"name\": \"G\", \"type\": \"scatter\", \"x\": [7692.09433891764, 8037.13728722588], \"y\": [15.0443844790936, 15.2466444130421]}, {\"line\": {\"color\": \"pink\"}, \"mode\": \"lines+markers\", \"name\": \"G\", \"type\": \"scatter\", \"x\": [8037.13728722588, 8382.17931368588], \"y\": [15.2466444130421, 15.5055924033801]}, {\"line\": {\"color\": \"pink\"}, \"mode\": \"lines+markers\", \"name\": \"G\", \"type\": \"scatter\", \"x\": [9139.15139571762, 9484.17484482664], \"y\": [16.3962323780537, 16.5954365447839]}, {\"line\": {\"color\": \"pink\"}, \"mode\": \"lines+markers\", \"name\": \"G\", \"type\": \"scatter\", \"x\": [9789.24915970905, 10134.2708137591], \"y\": [16.6946649109999, 16.8995118434906]}, {\"line\": {\"color\": \"pink\"}, \"mode\": \"lines+markers\", \"name\": \"G\", \"type\": \"scatter\", \"x\": [13555.749540874, 13900.8120433257], \"y\": [18.1013694679419, 18.1490621781031]}, {\"line\": {\"color\": \"pink\"}, \"mode\": \"lines+markers\", \"name\": \"G\", \"type\": \"scatter\", \"x\": [10665.5099149258, 10320.4627271031], \"y\": [16.8995118434906, 16.7513392285188]}, {\"line\": {\"color\": \"pink\"}, \"mode\": \"lines+markers\", \"name\": \"G\", \"type\": \"scatter\", \"x\": [7202.89070840819, 7547.92948439711], \"y\": [15.2034749106248, 15.5487364367326]}, {\"line\": {\"color\": \"pink\"}, \"mode\": \"lines+markers\", \"name\": \"G\", \"type\": \"scatter\", \"x\": [11990.4999804882, 11645.4607164202], \"y\": [17.595881628561, 17.4549535031795]}, {\"line\": {\"color\": \"pink\"}, \"mode\": \"lines+markers\", \"name\": \"G\", \"type\": \"scatter\", \"x\": [15082.1061402827, 14737.0553594743], \"y\": [18.4953146274567, 18.4006968871435]}, {\"line\": {\"color\": \"pink\"}, \"mode\": \"lines+markers\", \"name\": \"G\", \"type\": \"scatter\", \"x\": [10015.4211693972, 9670.36249439838], \"y\": [16.6521944776853, 16.4959380960147]}, {\"line\": {\"color\": \"pink\"}, \"mode\": \"lines+markers\", \"name\": \"G\", \"type\": \"scatter\", \"x\": [5568.65388306123, 5913.70240974159], \"y\": [13.5004550194422, 14.1480981444995]}, {\"line\": {\"color\": \"pink\"}, \"mode\": \"lines+markers\", \"name\": \"G\", \"type\": \"scatter\", \"x\": [9982.32433656743, 9637.28283044533], \"y\": [16.6521944776853, 16.4959380960147]}, {\"line\": {\"color\": \"pink\"}, \"mode\": \"lines+markers\", \"name\": \"G\", \"type\": \"scatter\", \"x\": [7743.02193163646, 7397.98324674173], \"y\": [15.2466444130421, 15.1023240780512]}, {\"line\": {\"color\": \"pink\"}, \"mode\": \"lines+markers\", \"name\": \"G\", \"type\": \"scatter\", \"x\": [9983.34675591344, 9638.29501915911], \"y\": [16.7938160534382, 16.5954365447839]}, {\"line\": {\"color\": \"pink\"}, \"mode\": \"lines+markers\", \"name\": \"G\", \"type\": \"scatter\", \"x\": [14431.9954733384, 14086.9715514145], \"y\": [18.2985689774831, 18.2511088943164]}, {\"line\": {\"color\": \"pink\"}, \"mode\": \"lines+markers\", \"name\": \"G\", \"type\": \"scatter\", \"x\": [9000.2131525261, 8655.16816498534], \"y\": [16.1960425273259, 16.0528383369923]}, {\"line\": {\"color\": \"pink\"}, \"mode\": \"lines+markers\", \"name\": \"G\", \"type\": \"scatter\", \"x\": [9678.30061547225, 9333.2588462774], \"y\": [16.6521944776853, 16.4532725627899]}, {\"line\": {\"color\": \"pink\"}, \"mode\": \"lines+markers\", \"name\": \"G\", \"type\": \"scatter\", \"x\": [15082.1061402827, 15427.1429738068], \"y\": [18.4953146274567, 18.6028141275724]}, {\"line\": {\"color\": \"pink\"}, \"mode\": \"lines+markers\", \"name\": \"G\", \"type\": \"scatter\", \"x\": [9325.31511376077, 9670.36249439838], \"y\": [16.4959380960147, 16.4959380960147]}, {\"line\": {\"color\": \"pink\"}, \"mode\": \"lines+markers\", \"name\": \"G\", \"type\": \"scatter\", \"x\": [10022.3293308457, 9677.30999959762], \"y\": [16.7513392285188, 16.5954365447839]}, {\"line\": {\"color\": \"pink\"}, \"mode\": \"lines+markers\", \"name\": \"G\", \"type\": \"scatter\", \"x\": [16184.0944888297, 16529.1199506954], \"y\": [18.7495013868491, 18.7495013868491]}, {\"line\": {\"color\": \"pink\"}, \"mode\": \"lines+markers\", \"name\": \"G\", \"type\": \"scatter\", \"x\": [8722.16445003679, 8377.11051283155], \"y\": [16.0959553038756, 15.8010293360233]}, {\"line\": {\"color\": \"pink\"}, \"mode\": \"lines+markers\", \"name\": \"G\", \"type\": \"scatter\", \"x\": [11275.6027433194, 11620.63674365], \"y\": [17.2018565114021, 17.3986328617414]}, {\"line\": {\"color\": \"pink\"}, \"mode\": \"lines+markers\", \"name\": \"G\", \"type\": \"scatter\", \"x\": [14565.8771684082, 14220.8231805298], \"y\": [18.4006968871435, 18.1490621781031]}, {\"line\": {\"color\": \"pink\"}, \"mode\": \"lines+markers\", \"name\": \"G\", \"type\": \"scatter\", \"x\": [8738.18856913414, 8393.11666317877], \"y\": [16.0959553038756, 15.8514856870651]}, {\"line\": {\"color\": \"pink\"}, \"mode\": \"lines+markers\", \"name\": \"G\", \"type\": \"scatter\", \"x\": [9983.34675591344, 10328.3868064708], \"y\": [16.7938160534382, 16.7513392285188]}, {\"line\": {\"color\": \"pink\"}, \"mode\": \"lines+markers\", \"name\": \"G\", \"type\": \"scatter\", \"x\": [11244.5198607001, 11589.534157564], \"y\": [17.3000654275894, 17.3986328617414]}, {\"line\": {\"color\": \"pink\"}, \"mode\": \"lines+markers\", \"name\": \"G\", \"type\": \"scatter\", \"x\": [8048.07578313756, 8393.11666317877], \"y\": [15.5487364367326, 15.8514856870651]}, {\"line\": {\"color\": \"pink\"}, \"mode\": \"lines+markers\", \"name\": \"G\", \"type\": \"scatter\", \"x\": [17363.3867007487, 17018.3474490374], \"y\": [18.8555435692946, 18.8954182958285]}, {\"line\": {\"color\": \"pink\"}, \"mode\": \"lines+markers\", \"name\": \"G\", \"type\": \"scatter\", \"x\": [16673.2946054569, 17018.3474490374], \"y\": [18.8555435692946, 18.8954182958285]}, {\"line\": {\"color\": \"pink\"}, \"mode\": \"lines+markers\", \"name\": \"G\", \"type\": \"scatter\", \"x\": [10015.4211693972, 10360.3986838407], \"y\": [16.6521944776853, 16.7513392285188]}, {\"line\": {\"color\": \"pink\"}, \"mode\": \"lines+markers\", \"name\": \"G\", \"type\": \"scatter\", \"x\": [18308.5074479307, 18653.5600643707], \"y\": [19.1459019696395, 19.1981348112901]}, {\"line\": {\"color\": \"pink\"}, \"mode\": \"lines+markers\", \"name\": \"G\", \"type\": \"scatter\", \"x\": [9333.2588462774, 8988.21939327], \"y\": [16.4532725627899, 16.2960159456412]}, {\"line\": {\"color\": \"pink\"}, \"mode\": \"lines+markers\", \"name\": \"G\", \"type\": \"scatter\", \"x\": [6620.89198720494, 6275.84686916836], \"y\": [14.9500933702469, 14.6512711361726]}, {\"line\": {\"color\": \"pink\"}, \"mode\": \"lines+markers\", \"name\": \"G\", \"type\": \"scatter\", \"x\": [12864.8269938343, 13209.8082387353], \"y\": [17.8478617942015, 17.8478617942015]}, {\"line\": {\"color\": \"pink\"}, \"mode\": \"lines+markers\", \"name\": \"G\", \"type\": \"scatter\", \"x\": [5550.65348992162, 5895.69167129136], \"y\": [13.2960409199874, 13.747512612311]}, {\"line\": {\"color\": \"pink\"}, \"mode\": \"lines+markers\", \"name\": \"G\", \"type\": \"scatter\", \"x\": [7366.98018169427, 7712.02652652407], \"y\": [15.0443844790936, 15.3475874360084]}, {\"line\": {\"color\": \"pink\"}, \"mode\": \"lines+markers\", \"name\": \"G\", \"type\": \"scatter\", \"x\": [7547.92948439711, 7892.9885203497], \"y\": [15.5487364367326, 15.6493885532697]}, {\"line\": {\"color\": \"pink\"}, \"mode\": \"lines+markers\", \"name\": \"G\", \"type\": \"scatter\", \"x\": [16529.1199506954, 16874.1868127079], \"y\": [18.7495013868491, 18.8954182958285]}, {\"line\": {\"color\": \"pink\"}, \"mode\": \"lines+markers\", \"name\": \"G\", \"type\": \"scatter\", \"x\": [6528.7832733723, 6873.83500253861], \"y\": [14.4983041778882, 14.9500933702469]}, {\"line\": {\"color\": \"pink\"}, \"mode\": \"lines+markers\", \"name\": \"G\", \"type\": \"scatter\", \"x\": [18653.5600643707, 18998.594833934], \"y\": [19.1981348112901, 19.2500301118374]}, {\"line\": {\"color\": \"pink\"}, \"mode\": \"lines+markers\", \"name\": \"G\", \"type\": \"scatter\", \"x\": [11965.6112994327, 11620.63674365], \"y\": [17.4549535031795, 17.3986328617414]}, {\"line\": {\"color\": \"pink\"}, \"mode\": \"lines+markers\", \"name\": \"U\", \"type\": \"scatter\", \"x\": [1033.89764825886, 727.863748275547], \"y\": [20.1496977106412, 14.6512711361726]}, {\"line\": {\"color\": \"pink\"}, \"mode\": \"lines+markers\", \"name\": \"U\", \"type\": \"scatter\", \"x\": [1069.86567951758, 763.832613816054], \"y\": [20.3038228030682, 15.6061819946448]}, {\"line\": {\"color\": \"pink\"}, \"mode\": \"lines+markers\", \"name\": \"U\", \"type\": \"scatter\", \"x\": [1307.85624992109, 1001.82287639412], \"y\": [20.1026214277426, 1.69939231233597]}, {\"line\": {\"color\": \"pink\"}, \"mode\": \"lines+markers\", \"name\": \"U\", \"type\": \"scatter\", \"x\": [1308.85547074426, 1002.82456702488], \"y\": [15.0443844790936, 2.55380676147143]}, {\"line\": {\"color\": \"pink\"}, \"mode\": \"lines+markers\", \"name\": \"U\", \"type\": \"scatter\", \"x\": [5222.60479236492, 4916.57921847177], \"y\": [13.2008065199534, 12.7975431775729]}, {\"line\": {\"color\": \"pink\"}, \"mode\": \"lines+markers\", \"name\": \"U\", \"type\": \"scatter\", \"x\": [8183.01026314414, 7876.98409215749], \"y\": [15.8948396360556, 15.6998203352769]}, {\"line\": {\"color\": \"pink\"}, \"mode\": \"lines+markers\", \"name\": \"U\", \"type\": \"scatter\", \"x\": [8183.01026314414, 8489.03673933454], \"y\": [15.8948396360556, 16.0959553038756]}, {\"line\": {\"color\": \"pink\"}, \"mode\": \"lines+markers\", \"name\": \"U\", \"type\": \"scatter\", \"x\": [1307.85409148885, 1001.82287639412], \"y\": [1.60212451176643, 1.69939231233597]}, {\"line\": {\"color\": \"pink\"}, \"mode\": \"lines+markers\", \"name\": \"U\", \"type\": \"scatter\", \"x\": [10439.2991618954, 10745.3419649165], \"y\": [16.9983260368983, 17.1456405357202]}, {\"line\": {\"color\": \"pink\"}, \"mode\": \"lines+markers\", \"name\": \"U\", \"type\": \"scatter\", \"x\": [11356.4353442606, 11050.3877175941], \"y\": [17.3986328617414, 17.3000654275894]}, {\"line\": {\"color\": \"pink\"}, \"mode\": \"lines+markers\", \"name\": \"U\", \"type\": \"scatter\", \"x\": [11356.4353442606, 11662.4619412791], \"y\": [17.3986328617414, 17.4549535031795]}, {\"line\": {\"color\": \"pink\"}, \"mode\": \"lines+markers\", \"name\": \"U\", \"type\": \"scatter\", \"x\": [6826.9056827863, 6520.86105061516], \"y\": [14.4983041778882, 14.2502431865215]}, {\"line\": {\"color\": \"pink\"}, \"mode\": \"lines+markers\", \"name\": \"U\", \"type\": \"scatter\", \"x\": [5115.77399163721, 5421.79640446909], \"y\": [11.4961999352455, 11.9478294030507]}, {\"line\": {\"color\": \"pink\"}, \"mode\": \"lines+markers\", \"name\": \"U\", \"type\": \"scatter\", \"x\": [12296.5606295918, 11990.4999804882], \"y\": [17.7503235693455, 17.595881628561]}, {\"line\": {\"color\": \"pink\"}, \"mode\": \"lines+markers\", \"name\": \"U\", \"type\": \"scatter\", \"x\": [13900.8120433257, 13594.7384576037], \"y\": [18.1490621781031, 17.9991986369769]}, {\"line\": {\"color\": \"pink\"}, \"mode\": \"lines+markers\", \"name\": \"U\", \"type\": \"scatter\", \"x\": [9484.17484482664, 9790.22223237134], \"y\": [16.5954365447839, 16.7513392285188]}, {\"line\": {\"color\": \"pink\"}, \"mode\": \"lines+markers\", \"name\": \"U\", \"type\": \"scatter\", \"x\": [13475.9058481505, 13781.9127305235], \"y\": [18.0470236277262, 18.1490621781031]}, {\"line\": {\"color\": \"pink\"}, \"mode\": \"lines+markers\", \"name\": \"U\", \"type\": \"scatter\", \"x\": [16038.2193439321, 15732.1922690568], \"y\": [18.696357611386, 18.6563473697186]}, {\"line\": {\"color\": \"pink\"}, \"mode\": \"lines+markers\", \"name\": \"U\", \"type\": \"scatter\", \"x\": [8683.16957710599, 8377.11051283155], \"y\": [16.0528383369923, 15.8010293360233]}, {\"line\": {\"color\": \"pink\"}, \"mode\": \"lines+markers\", \"name\": \"U\", \"type\": \"scatter\", \"x\": [13532.8593579367, 13226.8031441161], \"y\": [18.1013694679419, 18.0470236277262]}, {\"line\": {\"color\": \"pink\"}, \"mode\": \"lines+markers\", \"name\": \"U\", \"type\": \"scatter\", \"x\": [12864.8269938343, 13170.84211685], \"y\": [17.8478617942015, 17.9511506950537]}, {\"line\": {\"color\": \"pink\"}, \"mode\": \"lines+markers\", \"name\": \"U\", \"type\": \"scatter\", \"x\": [8489.03673933454, 8795.10136124633], \"y\": [16.0959553038756, 15.995460384655]}, {\"line\": {\"color\": \"pink\"}, \"mode\": \"lines+markers\", \"name\": \"U\", \"type\": \"scatter\", \"x\": [8072.08296662798, 8378.1204546411], \"y\": [15.6493885532697, 15.8948396360556]}, {\"line\": {\"color\": \"pink\"}, \"mode\": \"lines+markers\", \"name\": \"U\", \"type\": \"scatter\", \"x\": [9983.34675591344, 9677.30999959762], \"y\": [16.7938160534382, 16.5954365447839]}, {\"line\": {\"color\": \"pink\"}, \"mode\": \"lines+markers\", \"name\": \"U\", \"type\": \"scatter\", \"x\": [15732.1922690568, 15426.1368412173], \"y\": [18.6563473697186, 18.5491172031244]}, {\"line\": {\"color\": \"pink\"}, \"mode\": \"lines+markers\", \"name\": \"U\", \"type\": \"scatter\", \"x\": [10634.4001850596, 10328.3868064708], \"y\": [17.0474973872979, 16.7513392285188]}, {\"line\": {\"color\": \"pink\"}, \"mode\": \"lines+markers\", \"name\": \"U\", \"type\": \"scatter\", \"x\": [14895.9061356758, 15201.9575731271], \"y\": [18.4548025782585, 18.4953146274567]}, {\"line\": {\"color\": \"pink\"}, \"mode\": \"lines+markers\", \"name\": \"U\", \"type\": \"scatter\", \"x\": [9749.26940659541, 9443.19757522594], \"y\": [16.4532725627899, 16.2960159456412]}, {\"line\": {\"color\": \"pink\"}, \"mode\": \"lines+markers\", \"name\": \"U\", \"type\": \"scatter\", \"x\": [6176.81892081406, 6482.89509382055], \"y\": [13.7984283860207, 14.1992257531166]}, {\"line\": {\"color\": \"pink\"}, \"mode\": \"lines+markers\", \"name\": \"U\", \"type\": \"scatter\", \"x\": [9982.32433656743, 10288.3704347995], \"y\": [16.6521944776853, 16.8502351438681]}, {\"line\": {\"color\": \"pink\"}, \"mode\": \"lines+markers\", \"name\": \"U\", \"type\": \"scatter\", \"x\": [6826.9056827863, 7132.95357065589], \"y\": [14.4983041778882, 14.9500933702469]}, {\"line\": {\"color\": \"pink\"}, \"mode\": \"lines+markers\", \"name\": \"U\", \"type\": \"scatter\", \"x\": [12920.7553142024, 12614.6906832035], \"y\": [17.8478617942015, 17.6522636190732]}, {\"line\": {\"color\": \"pink\"}, \"mode\": \"lines+markers\", \"name\": \"U\", \"type\": \"scatter\", \"x\": [12920.7553142024, 13226.8031441161], \"y\": [17.8478617942015, 18.0470236277262]}, {\"line\": {\"color\": \"pink\"}, \"mode\": \"lines+markers\", \"name\": \"U\", \"type\": \"scatter\", \"x\": [5244.58615882784, 5550.65348992162], \"y\": [13.252036688296, 13.2960409199874]}, {\"line\": {\"color\": \"pink\"}, \"mode\": \"lines+markers\", \"name\": \"U\", \"type\": \"scatter\", \"x\": [10022.3293308457, 10328.3868064708], \"y\": [16.7513392285188, 16.7513392285188]}, {\"line\": {\"color\": \"pink\"}, \"mode\": \"lines+markers\", \"name\": \"U\", \"type\": \"scatter\", \"x\": [8199.02774405191, 7892.9885203497], \"y\": [15.8948396360556, 15.6493885532697]}, {\"line\": {\"color\": \"pink\"}, \"mode\": \"lines+markers\", \"name\": \"U\", \"type\": \"scatter\", \"x\": [11645.4607164202, 11339.4560540442], \"y\": [17.4549535031795, 17.2018565114021]}, {\"line\": {\"color\": \"pink\"}, \"mode\": \"lines+markers\", \"name\": \"U\", \"type\": \"scatter\", \"x\": [16038.2193439321, 16344.2616720469], \"y\": [18.696357611386, 18.7495013868491]}, {\"line\": {\"color\": \"pink\"}, \"mode\": \"lines+markers\", \"name\": \"U\", \"type\": \"scatter\", \"x\": [7702.02566344593, 7395.96834918867], \"y\": [15.3043170527299, 14.8482208943049]}, {\"line\": {\"color\": \"pink\"}, \"mode\": \"lines+markers\", \"name\": \"U\", \"type\": \"scatter\", \"x\": [9027.20521863404, 9333.2588462774], \"y\": [16.1960425273259, 16.4532725627899]}, {\"line\": {\"color\": \"pink\"}, \"mode\": \"lines+markers\", \"name\": \"U\", \"type\": \"scatter\", \"x\": [12278.5609450194, 11972.552229215], \"y\": [17.7503235693455, 17.4972321446419]}, {\"line\": {\"color\": \"pink\"}, \"mode\": \"lines+markers\", \"name\": \"U\", \"type\": \"scatter\", \"x\": [7861.97131225093, 8168.00792765815], \"y\": [15.6493885532697, 15.8010293360233]}, {\"line\": {\"color\": \"pink\"}, \"mode\": \"lines+markers\", \"name\": \"U\", \"type\": \"scatter\", \"x\": [9999.34044317448, 10305.393213609], \"y\": [16.7938160534382, 16.948951768446]}, {\"line\": {\"color\": \"pink\"}, \"mode\": \"lines+markers\", \"name\": \"U\", \"type\": \"scatter\", \"x\": [7091.94701365983, 7397.98324674173], \"y\": [14.7971896266619, 15.1023240780512]}, {\"line\": {\"color\": \"pink\"}, \"mode\": \"lines+markers\", \"name\": \"U\", \"type\": \"scatter\", \"x\": [11033.3725578021, 11339.4560540442], \"y\": [17.2509318128904, 17.2018565114021]}, {\"line\": {\"color\": \"pink\"}, \"mode\": \"lines+markers\", \"name\": \"U\", \"type\": \"scatter\", \"x\": [9043.2184525946, 9349.26982670593], \"y\": [16.2960159456412, 16.3962323780537]}, {\"line\": {\"color\": \"pink\"}, \"mode\": \"lines+markers\", \"name\": \"U\", \"type\": \"scatter\", \"x\": [8199.02774405191, 8505.0423355844], \"y\": [15.8948396360556, 15.995460384655]}, {\"line\": {\"color\": \"pink\"}, \"mode\": \"lines+markers\", \"name\": \"U\", \"type\": \"scatter\", \"x\": [19978.7569330187, 20284.7718189164], \"y\": [19.3984022533576, 19.4499556616624]}, {\"line\": {\"color\": \"pink\"}, \"mode\": \"lines+markers\", \"name\": \"U\", \"type\": \"scatter\", \"x\": [13489.9068736835, 13795.9345648728], \"y\": [18.1013694679419, 18.1968122040908]}, {\"line\": {\"color\": \"pink\"}, \"mode\": \"lines+markers\", \"name\": \"U\", \"type\": \"scatter\", \"x\": [11244.5198607001, 11550.5368876922], \"y\": [17.3000654275894, 17.5535948868275]}, {\"line\": {\"color\": \"pink\"}, \"mode\": \"lines+markers\", \"name\": \"U\", \"type\": \"scatter\", \"x\": [8988.21939327, 9294.25403430677], \"y\": [16.2960159456412, 16.3962323780537]}, {\"line\": {\"color\": \"pink\"}, \"mode\": \"lines+markers\", \"name\": \"U\", \"type\": \"scatter\", \"x\": [8504.04263073219, 8810.08434041484], \"y\": [16.1530903951009, 16.2960159456412]}, {\"line\": {\"color\": \"pink\"}, \"mode\": \"lines+markers\", \"name\": \"U\", \"type\": \"scatter\", \"x\": [6223.74397870215, 6529.78745054443], \"y\": [14.2502431865215, 14.3451653277556]}, {\"line\": {\"color\": \"pink\"}, \"mode\": \"lines+markers\", \"name\": \"U\", \"type\": \"scatter\", \"x\": [12928.7463832699, 13234.7346250311], \"y\": [17.799103561608, 17.9030770178318]}, {\"line\": {\"color\": \"pink\"}, \"mode\": \"lines+markers\", \"name\": \"U\", \"type\": \"scatter\", \"x\": [10055.2858139843, 9749.26940659541], \"y\": [16.6521944776853, 16.4532725627899]}, {\"line\": {\"color\": \"pink\"}, \"mode\": \"lines+markers\", \"name\": \"U\", \"type\": \"scatter\", \"x\": [20590.8235487438, 20284.7718189164], \"y\": [19.3984022533576, 19.4499556616624]}, {\"line\": {\"color\": \"pink\"}, \"mode\": \"lines+markers\", \"name\": \"mG\", \"type\": \"scatter\", \"x\": [800.846224987058, 1159.90439198255], \"y\": [1.60212451176643, 22.2505893683116]}, {\"line\": {\"color\": \"pink\"}, \"mode\": \"lines+markers\", \"name\": \"mG\", \"type\": \"scatter\", \"x\": [7767.04313985023, 7407.98166124756], \"y\": [15.5487364367326, 15.0008576686859]}, {\"line\": {\"color\": \"pink\"}, \"mode\": \"lines+markers\", \"name\": \"mG\", \"type\": \"scatter\", \"x\": [13884.8020160839, 13525.8165317818], \"y\": [18.1490621781031, 18.1013694679419]}, {\"line\": {\"color\": \"pink\"}, \"mode\": \"lines+markers\", \"name\": \"mG\", \"type\": \"scatter\", \"x\": [14205.8230411644, 14564.8769724352], \"y\": [18.2985689774831, 18.3461195106983]}, {\"line\": {\"color\": \"pink\"}, \"mode\": \"lines+markers\", \"name\": \"mG\", \"type\": \"scatter\", \"x\": [11275.6027433194, 11634.5989061623], \"y\": [17.2018565114021, 17.4549535031795]}, {\"line\": {\"color\": \"pink\"}, \"mode\": \"lines+markers\", \"name\": \"mG\", \"type\": \"scatter\", \"x\": [10679.5496203544, 10320.4627271031], \"y\": [16.948951768446, 16.7513392285188]}, {\"line\": {\"color\": \"pink\"}, \"mode\": \"lines+markers\", \"name\": \"mG\", \"type\": \"scatter\", \"x\": [15441.1072234686, 15082.1061402827], \"y\": [18.5491172031244, 18.4953146274567]}, {\"line\": {\"color\": \"pink\"}, \"mode\": \"lines+markers\", \"name\": \"mG\", \"type\": \"scatter\", \"x\": [7491.97653831395, 7132.95357065589], \"y\": [15.2034749106248, 14.9500933702469]}, {\"line\": {\"color\": \"pink\"}, \"mode\": \"lines+markers\", \"name\": \"D\", \"type\": \"scatter\", \"x\": [1117.87890010197, 809.846716829567], \"y\": [8.29378807104429, 18.7495013868491]}, {\"line\": {\"color\": \"pink\"}, \"mode\": \"lines+markers\", \"name\": \"D\", \"type\": \"scatter\", \"x\": [1117.87890010197, 809.844794620784], \"y\": [8.29378807104429, 23.5030020351887]}, {\"line\": {\"color\": \"pink\"}, \"mode\": \"lines+markers\", \"name\": \"D\", \"type\": \"scatter\", \"x\": [6528.7832733723, 6220.74080680678], \"y\": [14.4983041778882, 14.2502431865215]}, {\"line\": {\"color\": \"pink\"}, \"mode\": \"lines+markers\", \"name\": \"D\", \"type\": \"scatter\", \"x\": [6220.74080680678, 5912.69995386829], \"y\": [14.2502431865215, 13.951164994208]}, {\"line\": {\"color\": \"pink\"}, \"mode\": \"lines+markers\", \"name\": \"D\", \"type\": \"scatter\", \"x\": [8701.2258534746, 8393.11666317877], \"y\": [15.8948396360556, 15.8514856870651]}, {\"line\": {\"color\": \"pink\"}, \"mode\": \"lines+markers\", \"name\": \"D\", \"type\": \"scatter\", \"x\": [1117.8788, 809.846716829567], \"y\": [12.4456537619909, 18.7495013868491]}, {\"line\": {\"color\": \"pink\"}, \"mode\": \"lines+markers\", \"name\": \"D\", \"type\": \"scatter\", \"x\": [1117.8788, 809.844794620784], \"y\": [12.4456537619909, 23.5030020351887]}, {\"line\": {\"color\": \"pink\"}, \"mode\": \"lines+markers\", \"name\": \"D\", \"type\": \"scatter\", \"x\": [17692.4259198982, 18000.4753601492], \"y\": [19.0537902033011, 19.0537902033011]}, {\"line\": {\"color\": \"pink\"}, \"mode\": \"lines+markers\", \"name\": \"D\", \"type\": \"scatter\", \"x\": [18000.4753601492, 18308.5074479307], \"y\": [19.0537902033011, 19.1459019696395]}, {\"line\": {\"color\": \"pink\"}, \"mode\": \"lines+markers\", \"name\": \"D\", \"type\": \"scatter\", \"x\": [9670.36249439838, 9362.26248728585], \"y\": [16.4959380960147, 16.3962323780537]}, {\"line\": {\"color\": \"pink\"}, \"mode\": \"lines+markers\", \"name\": \"D\", \"type\": \"scatter\", \"x\": [9690.29974241533, 9998.3323093006], \"y\": [16.5528220112801, 16.6946649109999]}, {\"line\": {\"color\": \"pink\"}, \"mode\": \"lines+markers\", \"name\": \"D\", \"type\": \"scatter\", \"x\": [13497.9187622632, 13805.9373081385], \"y\": [17.9511506950537, 18.1968122040908]}, {\"line\": {\"color\": \"pink\"}, \"mode\": \"lines+markers\", \"name\": \"mC\", \"type\": \"scatter\", \"x\": [8701.2258534746, 8382.17931368588], \"y\": [15.8948396360556, 15.5055924033801]}, {\"line\": {\"color\": \"pink\"}, \"mode\": \"lines+markers\", \"name\": \"mC\", \"type\": \"scatter\", \"x\": [13156.8698494282, 13475.9058481505], \"y\": [17.9030770178318, 18.0470236277262]}, {\"line\": {\"color\": \"pink\"}, \"mode\": \"lines+markers\", \"name\": \"mC\", \"type\": \"scatter\", \"x\": [12864.8269938343, 12545.7254653545], \"y\": [17.8478617942015, 17.799103561608]}, {\"line\": {\"color\": \"pink\"}, \"mode\": \"lines+markers\", \"name\": \"mC\", \"type\": \"scatter\", \"x\": [8701.2258534746, 9020.28684079731], \"y\": [15.8948396360556, 16.3532493348598]}, {\"line\": {\"color\": \"pink\"}, \"mode\": \"lines+markers\", \"name\": \"mC\", \"type\": \"scatter\", \"x\": [9027.20521863404, 9346.2688761018], \"y\": [16.1960425273259, 16.2960159456412]}, {\"line\": {\"color\": \"pink\"}, \"mode\": \"lines+markers\", \"name\": \"mC\", \"type\": \"scatter\", \"x\": [8681.14959807303, 9000.2131525261], \"y\": [15.8514856870651, 16.1960425273259]}, {\"line\": {\"color\": \"pink\"}, \"mode\": \"lines+markers\", \"name\": \"mC\", \"type\": \"scatter\", \"x\": [7049.94492594709, 6730.90386822014], \"y\": [14.6950287019889, 14.447228103447]}, {\"line\": {\"color\": \"pink\"}, \"mode\": \"lines+markers\", \"name\": \"mC\", \"type\": \"scatter\", \"x\": [9043.2184525946, 9362.26248728585], \"y\": [16.2960159456412, 16.3962323780537]}, {\"line\": {\"color\": \"pink\"}, \"mode\": \"lines+markers\", \"name\": \"mC\", \"type\": \"scatter\", \"x\": [13170.84211685, 13489.9068736835], \"y\": [17.9511506950537, 18.1013694679419]}, {\"line\": {\"color\": \"pink\"}, \"mode\": \"lines+markers\", \"name\": \"mC\", \"type\": \"scatter\", \"x\": [13781.9127305235, 14100.9741945289], \"y\": [18.1490621781031, 18.2511088943164]}, {\"line\": {\"color\": \"pink\"}, \"mode\": \"lines+markers\", \"name\": \"mC\", \"type\": \"scatter\", \"x\": [12559.8106384998, 12878.8054271656], \"y\": [17.8478617942015, 17.9511506950537]}, {\"line\": {\"color\": \"pink\"}, \"mode\": \"lines+markers\", \"name\": \"mC\", \"type\": \"scatter\", \"x\": [10679.5496203544, 10360.3986838407], \"y\": [16.948951768446, 16.7513392285188]}, {\"line\": {\"color\": \"pink\"}, \"mode\": \"lines+markers\", \"name\": \"mC\", \"type\": \"scatter\", \"x\": [8892.19813328106, 8573.14600996262], \"y\": [15.8010293360233, 15.5055924033801]}, {\"line\": {\"color\": \"pink\"}, \"mode\": \"lines+markers\", \"name\": \"mC\", \"type\": \"scatter\", \"x\": [12244.7553195679, 11925.6521770381], \"y\": [17.7013431187153, 17.5535948868275]}, {\"line\": {\"color\": \"pink\"}, \"mode\": \"lines+markers\", \"name\": \"mU\", \"type\": \"scatter\", \"x\": [14895.9061356758, 14575.840701726], \"y\": [18.4548025782585, 18.3461195106983]}, {\"line\": {\"color\": \"pink\"}, \"mode\": \"lines+markers\", \"name\": \"mU\", \"type\": \"scatter\", \"x\": [13250.7255016082, 13570.7747028055], \"y\": [18.0470236277262, 18.0470236277262]}, {\"line\": {\"color\": \"pink\"}, \"mode\": \"lines+markers\", \"name\": \"mU\", \"type\": \"scatter\", \"x\": [6543.81303076399, 6223.74397870215], \"y\": [14.6950287019889, 14.2502431865215]}, {\"line\": {\"color\": \"pink\"}, \"mode\": \"lines+markers\", \"name\": \"mU\", \"type\": \"scatter\", \"x\": [8072.08296662798, 8392.12576484904], \"y\": [15.6493885532697, 15.6998203352769]}, {\"line\": {\"color\": \"pink\"}, \"mode\": \"lines+markers\", \"name\": \"mU\", \"type\": \"scatter\", \"x\": [17514.2818060766, 17834.3088463449], \"y\": [18.9485183711529, 19.0011722699483]}, {\"line\": {\"color\": \"pink\"}, \"mode\": \"lines+markers\", \"name\": \"mU\", \"type\": \"scatter\", \"x\": [14895.9061356758, 15215.9574047785], \"y\": [18.4548025782585, 18.6028141275724]}, {\"line\": {\"color\": \"pink\"}, \"mode\": \"lines+markers\", \"name\": \"mU\", \"type\": \"scatter\", \"x\": [9678.30061547225, 9998.3323093006], \"y\": [16.6521944776853, 16.6946649109999]}, {\"line\": {\"color\": \"pink\"}, \"mode\": \"lines+markers\", \"name\": \"mU\", \"type\": \"scatter\", \"x\": [9484.17484482664, 9804.23090765229], \"y\": [16.5954365447839, 16.7513392285188]}, {\"line\": {\"color\": \"pink\"}, \"mode\": \"lines+markers\", \"name\": \"mU\", \"type\": \"scatter\", \"x\": [13900.8120433257, 14220.8231805298], \"y\": [18.1490621781031, 18.1490621781031]}, {\"line\": {\"color\": \"pink\"}, \"mode\": \"lines+markers\", \"name\": \"mU\", \"type\": \"scatter\", \"x\": [13475.9058481505, 13795.9345648728], \"y\": [18.0470236277262, 18.1968122040908]}, {\"line\": {\"color\": \"pink\"}, \"mode\": \"lines+markers\", \"name\": \"mU\", \"type\": \"scatter\", \"x\": [8490.04384741683, 8810.08434041484], \"y\": [15.9523093378226, 16.2960159456412]}, {\"line\": {\"color\": \"pink\"}, \"mode\": \"lines+markers\", \"name\": \"mU\", \"type\": \"scatter\", \"x\": [11925.6521770381, 12245.7312166899], \"y\": [17.5535948868275, 17.6522636190732]}, {\"line\": {\"color\": \"pink\"}, \"mode\": \"lines+markers\", \"name\": \"mU\", \"type\": \"scatter\", \"x\": [11965.6112994327, 11645.4607164202], \"y\": [17.4549535031795, 17.4549535031795]}, {\"line\": {\"color\": \"pink\"}, \"mode\": \"lines+markers\", \"name\": \"mA\", \"type\": \"scatter\", \"x\": [24297.1165372079, 23954.0807547898], \"y\": [19.7507101948738, 19.9471833701611]}, {\"line\": {\"color\": \"pink\"}, \"mode\": \"lines+markers\", \"name\": \"mA\", \"type\": \"scatter\", \"x\": [11925.6521770381, 12268.6655765281], \"y\": [17.5535948868275, 17.6522636190732]}, {\"line\": {\"color\": \"pink\"}, \"mode\": \"lines+markers\", \"name\": \"mA\", \"type\": \"scatter\", \"x\": [12559.8106384998, 12902.7684515336], \"y\": [17.8478617942015, 17.9030770178318]}, {\"line\": {\"color\": \"pink\"}, \"mode\": \"lines+markers\", \"name\": \"mA\", \"type\": \"scatter\", \"x\": [9637.28283044533, 9294.25403430677], \"y\": [16.4959380960147, 16.3962323780537]}, {\"line\": {\"color\": \"pink\"}, \"mode\": \"lines+markers\", \"name\": \"m22C\", \"type\": \"scatter\", \"x\": [9000.2131525261, 9333.2588462774], \"y\": [16.1960425273259, 16.4532725627899]}, {\"line\": {\"color\": \"pink\"}, \"mode\": \"lines+markers\", \"name\": \"m22C\", \"type\": \"scatter\", \"x\": [8988.21939327, 8655.16816498534], \"y\": [16.2960159456412, 16.0528383369923]}, {\"line\": {\"color\": \"pink\"}, \"mode\": \"lines+markers\", \"name\": \"m22C\", \"type\": \"scatter\", \"x\": [13156.8698494282, 13489.9068736835], \"y\": [17.9030770178318, 18.1013694679419]}, {\"line\": {\"color\": \"pink\"}, \"mode\": \"lines+markers\", \"name\": \"m22C\", \"type\": \"scatter\", \"x\": [13192.8566200077, 13525.8165317818], \"y\": [17.9511506950537, 18.1013694679419]}, {\"line\": {\"color\": \"pink\"}, \"mode\": \"lines+markers\", \"name\": \"m22C\", \"type\": \"scatter\", \"x\": [12878.8054271656, 12545.7254653545], \"y\": [17.9511506950537, 17.799103561608]}, {\"line\": {\"color\": \"pink\"}, \"mode\": \"lines+markers\", \"name\": \"m22C\", \"type\": \"scatter\", \"x\": [8004.07201565025, 7671.0192194136], \"y\": [15.5055924033801, 15.5055924033801]}, {\"line\": {\"color\": \"pink\"}, \"mode\": \"lines+markers\", \"name\": \"m22C\", \"type\": \"scatter\", \"x\": [12258.694085491, 11925.6521770381], \"y\": [17.595881628561, 17.5535948868275]}, {\"line\": {\"color\": \"pink\"}, \"mode\": \"lines+markers\", \"name\": \"mcm5U\", \"type\": \"scatter\", \"x\": [8004.07201565025, 8382.17931368588], \"y\": [15.5055924033801, 15.5055924033801]}, {\"line\": {\"color\": \"pink\"}, \"mode\": \"lines+markers\", \"name\": \"mcm5U\", \"type\": \"scatter\", \"x\": [11050.3877175941, 10672.4084012261], \"y\": [17.3000654275894, 17.0474973872979]}, {\"line\": {\"color\": \"pink\"}, \"mode\": \"lines+markers\", \"name\": \"mcm5U\", \"type\": \"scatter\", \"x\": [11990.4999804882, 11612.5338785648], \"y\": [17.595881628561, 17.4972321446419]}, {\"line\": {\"color\": \"pink\"}, \"mode\": \"lines+markers\", \"name\": \"mcm5U\", \"type\": \"scatter\", \"x\": [10015.4211693972, 9637.28283044533], \"y\": [16.6521944776853, 16.4959380960147]}, {\"line\": {\"color\": \"pink\"}, \"mode\": \"lines+markers\", \"name\": \"mcm5U\", \"type\": \"scatter\", \"x\": [13570.7747028055, 13192.8566200077], \"y\": [18.0470236277262, 17.9511506950537]}, {\"line\": {\"color\": \"pink\"}, \"mode\": \"lines+markers\", \"name\": \"mcm5U\", \"type\": \"scatter\", \"x\": [9982.32433656743, 10360.3986838407], \"y\": [16.6521944776853, 16.7513392285188]}, {\"line\": {\"color\": \"pink\"}, \"mode\": \"lines+markers\", \"name\": \"mcm5U\", \"type\": \"scatter\", \"x\": [9789.24915970905, 10167.2363153965], \"y\": [16.6946649109999, 16.7513392285188]}, {\"line\": {\"color\": \"pink\"}, \"mode\": \"lines+markers\", \"name\": \"mcm5U\", \"type\": \"scatter\", \"x\": [10055.2858139843, 9677.30999959762], \"y\": [16.6521944776853, 16.5954365447839]}],                        {\"annotations\": [{\"arrowhead\": 1, \"showarrow\": false, \"text\": \"C\", \"x\": 965.397416081197, \"y\": 12.123048704433444, \"yshift\": 5}, {\"arrowhead\": 1, \"showarrow\": false, \"text\": \"C\", \"x\": 1155.340408472985, \"y\": 11.328214094607016, \"yshift\": 5}, {\"arrowhead\": 1, \"showarrow\": false, \"text\": \"C\", \"x\": 6376.263626037226, \"y\": 14.37427368220485, \"yshift\": 5}, {\"arrowhead\": 1, \"showarrow\": false, \"text\": \"C\", \"x\": 6554.443435005014, \"y\": 13.7258764034192, \"yshift\": 5}, {\"arrowhead\": 1, \"showarrow\": false, \"text\": \"C\", \"x\": 965.397486516797, \"y\": 14.198981549906751, \"yshift\": 5}, {\"arrowhead\": 1, \"showarrow\": false, \"text\": \"C\", \"x\": 8641.560429531211, \"y\": 16.1745743330002, \"yshift\": 5}, {\"arrowhead\": 1, \"showarrow\": false, \"text\": \"C\", \"x\": 10286.78498782725, \"y\": 16.94891894019445, \"yshift\": 5}, {\"arrowhead\": 1, \"showarrow\": false, \"text\": \"C\", \"x\": 1155.3393292568649, \"y\": 2.07796563661893, \"yshift\": 5}, {\"arrowhead\": 1, \"showarrow\": false, \"text\": \"C\", \"x\": 11509.95072488925, \"y\": 17.328405007290797, \"yshift\": 5}, {\"arrowhead\": 1, \"showarrow\": false, \"text\": \"C\", \"x\": 9636.712002267846, \"y\": 16.6450507278919, \"yshift\": 5}, {\"arrowhead\": 1, \"showarrow\": false, \"text\": \"C\", \"x\": 10897.864841255301, \"y\": 17.2228529816548, \"yshift\": 5}, {\"arrowhead\": 1, \"showarrow\": false, \"text\": \"C\", \"x\": 13403.237521241099, \"y\": 18.07419654783405, \"yshift\": 5}, {\"arrowhead\": 1, \"showarrow\": false, \"text\": \"C\", \"x\": 7285.46501185106, \"y\": 14.997238924670249, \"yshift\": 5}, {\"arrowhead\": 1, \"showarrow\": false, \"text\": \"C\", \"x\": 13323.37398250025, \"y\": 17.99908716138995, \"yshift\": 5}, {\"arrowhead\": 1, \"showarrow\": false, \"text\": \"C\", \"x\": 14053.317542245051, \"y\": 18.2238155777931, \"yshift\": 5}, {\"arrowhead\": 1, \"showarrow\": false, \"text\": \"C\", \"x\": 15048.434112103849, \"y\": 18.4750586028576, \"yshift\": 5}, {\"arrowhead\": 1, \"showarrow\": false, \"text\": \"C\", \"x\": 11773.14446034405, \"y\": 17.47611387428445, \"yshift\": 5}, {\"arrowhead\": 1, \"showarrow\": false, \"text\": \"C\", \"x\": 10512.954299383251, \"y\": 16.8254255360047, \"yshift\": 5}, {\"arrowhead\": 1, \"showarrow\": false, \"text\": \"C\", \"x\": 12712.31881616705, \"y\": 17.8478617942015, \"yshift\": 5}, {\"arrowhead\": 1, \"showarrow\": false, \"text\": \"C\", \"x\": 13098.1941132108, \"y\": 17.975050322779, \"yshift\": 5}, {\"arrowhead\": 1, \"showarrow\": false, \"text\": \"C\", \"x\": 8530.645015873546, \"y\": 15.97383898652395, \"yshift\": 5}, {\"arrowhead\": 1, \"showarrow\": false, \"text\": \"C\", \"x\": 10818.044220558651, \"y\": 16.973504615394248, \"yshift\": 5}, {\"arrowhead\": 1, \"showarrow\": false, \"text\": \"C\", \"x\": 7919.563053239104, \"y\": 15.59906249500115, \"yshift\": 5}, {\"arrowhead\": 1, \"showarrow\": false, \"text\": \"C\", \"x\": 8874.684834335414, \"y\": 16.14599891560075, \"yshift\": 5}, {\"arrowhead\": 1, \"showarrow\": false, \"text\": \"C\", \"x\": 7895.54885738701, \"y\": 15.397690424887351, \"yshift\": 5}, {\"arrowhead\": 1, \"showarrow\": false, \"text\": \"C\", \"x\": 8642.57260433158, \"y\": 15.973884861238801, \"yshift\": 5}, {\"arrowhead\": 1, \"showarrow\": false, \"text\": \"C\", \"x\": 11123.09063475545, \"y\": 17.124676949349997, \"yshift\": 5}, {\"arrowhead\": 1, \"showarrow\": false, \"text\": \"C\", \"x\": 9829.817168082525, \"y\": 16.6238155112346, \"yshift\": 5}, {\"arrowhead\": 1, \"showarrow\": false, \"text\": \"C\", \"x\": 7590.499192341345, \"y\": 15.14551444606785, \"yshift\": 5}, {\"arrowhead\": 1, \"showarrow\": false, \"text\": \"C\", \"x\": 11508.9373400156, \"y\": 17.4972572451512, \"yshift\": 5}, {\"arrowhead\": 1, \"showarrow\": false, \"text\": \"C\", \"x\": 7614.5464855116, \"y\": 15.476899961201351, \"yshift\": 5}, {\"arrowhead\": 1, \"showarrow\": false, \"text\": \"C\", \"x\": 9830.823685692845, \"y\": 16.72300526556175, \"yshift\": 5}, {\"arrowhead\": 1, \"showarrow\": false, \"text\": \"C\", \"x\": 15579.6676214318, \"y\": 18.629580748645502, \"yshift\": 5}, {\"arrowhead\": 1, \"showarrow\": false, \"text\": \"C\", \"x\": 10786.924873306049, \"y\": 17.09656896150905, \"yshift\": 5}, {\"arrowhead\": 1, \"showarrow\": false, \"text\": \"C\", \"x\": 14584.52541640635, \"y\": 18.3496329323133, \"yshift\": 5}, {\"arrowhead\": 1, \"showarrow\": false, \"text\": \"C\", \"x\": 10135.85859535647, \"y\": 16.82202559865315, \"yshift\": 5}, {\"arrowhead\": 1, \"showarrow\": false, \"text\": \"C\", \"x\": 12078.19026861145, \"y\": 17.60292925295035, \"yshift\": 5}, {\"arrowhead\": 1, \"showarrow\": false, \"text\": \"C\", \"x\": 8890.703510864369, \"y\": 16.1959856247584, \"yshift\": 5}, {\"arrowhead\": 1, \"showarrow\": false, \"text\": \"C\", \"x\": 13934.442140969, \"y\": 18.20008553620975, \"yshift\": 5}, {\"arrowhead\": 1, \"showarrow\": false, \"text\": \"C\", \"x\": 6939.434653696995, \"y\": 14.67324156022865, \"yshift\": 5}, {\"arrowhead\": 1, \"showarrow\": false, \"text\": \"C\", \"x\": 9172.80097727904, \"y\": 16.42459371543725, \"yshift\": 5}, {\"arrowhead\": 1, \"showarrow\": false, \"text\": \"C\", \"x\": 10167.94194825015, \"y\": 16.70176685310205, \"yshift\": 5}, {\"arrowhead\": 1, \"showarrow\": false, \"text\": \"C\", \"x\": 11091.9847111263, \"y\": 17.2228529816548, \"yshift\": 5}, {\"arrowhead\": 1, \"showarrow\": false, \"text\": \"C\", \"x\": 10880.86483769575, \"y\": 17.17725315349105, \"yshift\": 5}, {\"arrowhead\": 1, \"showarrow\": false, \"text\": \"C\", \"x\": 10207.8422489125, \"y\": 16.70176685310205, \"yshift\": 5}, {\"arrowhead\": 1, \"showarrow\": false, \"text\": \"C\", \"x\": 8835.694485187994, \"y\": 16.174427141316748, \"yshift\": 5}, {\"arrowhead\": 1, \"showarrow\": false, \"text\": \"C\", \"x\": 9485.776932718254, \"y\": 16.5243545537869, \"yshift\": 5}, {\"arrowhead\": 1, \"showarrow\": false, \"text\": \"C\", \"x\": 13685.36329053205, \"y\": 18.176239181129148, \"yshift\": 5}, {\"arrowhead\": 1, \"showarrow\": false, \"text\": \"C\", \"x\": 8224.596739729765, \"y\": 15.7252089446465, \"yshift\": 5}, {\"arrowhead\": 1, \"showarrow\": false, \"text\": \"C\", \"x\": 13081.246569608451, \"y\": 17.8510902897199, \"yshift\": 5}, {\"arrowhead\": 1, \"showarrow\": false, \"text\": \"C\", \"x\": 7202.469621117385, \"y\": 14.8479431853374, \"yshift\": 5}, {\"arrowhead\": 1, \"showarrow\": false, \"text\": \"C\", \"x\": 13386.281451986652, \"y\": 17.975050322779, \"yshift\": 5}, {\"arrowhead\": 1, \"showarrow\": false, \"text\": \"C\", \"x\": 8351.53518739205, \"y\": 16.02396501557825, \"yshift\": 5}, {\"arrowhead\": 1, \"showarrow\": false, \"text\": \"C\", \"x\": 13948.45437970085, \"y\": 18.2239605492036, \"yshift\": 5}, {\"arrowhead\": 1, \"showarrow\": false, \"text\": \"C\", \"x\": 7864.546324419665, \"y\": 15.4481619363705, \"yshift\": 5}, {\"arrowhead\": 1, \"showarrow\": false, \"text\": \"C\", \"x\": 5888.279945395951, \"y\": 13.5985146498362, \"yshift\": 5}, {\"arrowhead\": 1, \"showarrow\": false, \"text\": \"C\", \"x\": 13345.38769113545, \"y\": 17.9511506950537, \"yshift\": 5}, {\"arrowhead\": 1, \"showarrow\": false, \"text\": \"C\", \"x\": 20437.29572653, \"y\": 19.4499556616624, \"yshift\": 5}, {\"arrowhead\": 1, \"showarrow\": false, \"text\": \"C\", \"x\": 8657.56333799962, \"y\": 16.145738165148103, \"yshift\": 5}, {\"arrowhead\": 1, \"showarrow\": false, \"text\": \"C\", \"x\": 7507.50625191797, \"y\": 15.07330054001805, \"yshift\": 5}, {\"arrowhead\": 1, \"showarrow\": false, \"text\": \"C\", \"x\": 8434.640603363165, \"y\": 15.42658991969425, \"yshift\": 5}, {\"arrowhead\": 1, \"showarrow\": false, \"text\": \"C\", \"x\": 11742.0576058094, \"y\": 17.4972572451512, \"yshift\": 5}, {\"arrowhead\": 1, \"showarrow\": false, \"text\": \"C\", \"x\": 8739.68004340778, \"y\": 15.653310869701698, \"yshift\": 5}, {\"arrowhead\": 1, \"showarrow\": false, \"text\": \"C\", \"x\": 8725.63545220725, \"y\": 15.8293413992405, \"yshift\": 5}, {\"arrowhead\": 1, \"showarrow\": false, \"text\": \"A\", \"x\": 4407.0041263372805, \"y\": 11.87262997385665, \"yshift\": 5}, {\"arrowhead\": 1, \"showarrow\": false, \"text\": \"A\", \"x\": 7038.3628554734005, \"y\": 15.076784140435851, \"yshift\": 5}, {\"arrowhead\": 1, \"showarrow\": false, \"text\": \"A\", \"x\": 6693.30969905066, \"y\": 14.724198774067549, \"yshift\": 5}, {\"arrowhead\": 1, \"showarrow\": false, \"text\": \"A\", \"x\": 8974.61786806623, \"y\": 16.34612416184745, \"yshift\": 5}, {\"arrowhead\": 1, \"showarrow\": false, \"text\": \"A\", \"x\": 7712.4567882773, \"y\": 15.62427838600475, \"yshift\": 5}, {\"arrowhead\": 1, \"showarrow\": false, \"text\": \"A\", \"x\": 13391.27634249505, \"y\": 18.07419654783405, \"yshift\": 5}, {\"arrowhead\": 1, \"showarrow\": false, \"text\": \"A\", \"x\": 9969.752934459466, \"y\": 16.69772496975265, \"yshift\": 5}, {\"arrowhead\": 1, \"showarrow\": false, \"text\": \"A\", \"x\": 12395.2694993423, \"y\": 17.75006270663735, \"yshift\": 5}, {\"arrowhead\": 1, \"showarrow\": false, \"text\": \"A\", \"x\": 24132.62029708955, \"y\": 19.82567828652065, \"yshift\": 5}, {\"arrowhead\": 1, \"showarrow\": false, \"text\": \"A\", \"x\": 11825.969658129401, \"y\": 17.595881628561, \"yshift\": 5}, {\"arrowhead\": 1, \"showarrow\": false, \"text\": \"A\", \"x\": 7907.552449132219, \"y\": 15.4480164831559, \"yshift\": 5}, {\"arrowhead\": 1, \"showarrow\": false, \"text\": \"A\", \"x\": 16508.7781387519, \"y\": 18.80252247807185, \"yshift\": 5}, {\"arrowhead\": 1, \"showarrow\": false, \"text\": \"A\", \"x\": 6622.386126804669, \"y\": 14.17386093990805, \"yshift\": 5}, {\"arrowhead\": 1, \"showarrow\": false, \"text\": \"A\", \"x\": 17527.90631032345, \"y\": 18.95466688629785, \"yshift\": 5}, {\"arrowhead\": 1, \"showarrow\": false, \"text\": \"A\", \"x\": 7602.50979644823, \"y\": 15.296560457913099, \"yshift\": 5}, {\"arrowhead\": 1, \"showarrow\": false, \"text\": \"A\", \"x\": 10469.8966993343, \"y\": 16.99822457787195, \"yshift\": 5}, {\"arrowhead\": 1, \"showarrow\": false, \"text\": \"A\", \"x\": 9584.74550526082, \"y\": 16.40326094882485, \"yshift\": 5}, {\"arrowhead\": 1, \"showarrow\": false, \"text\": \"A\", \"x\": 9513.785221089089, \"y\": 16.524213427869498, \"yshift\": 5}, {\"arrowhead\": 1, \"showarrow\": false, \"text\": \"A\", \"x\": 13720.27577847895, \"y\": 18.1252158230225, \"yshift\": 5}, {\"arrowhead\": 1, \"showarrow\": false, \"text\": \"A\", \"x\": 16364.58676880845, \"y\": 18.7495013868491, \"yshift\": 5}, {\"arrowhead\": 1, \"showarrow\": false, \"text\": \"A\", \"x\": 8557.64055660778, \"y\": 15.97372049547035, \"yshift\": 5}, {\"arrowhead\": 1, \"showarrow\": false, \"text\": \"A\", \"x\": 10163.86362482264, \"y\": 16.772577640978497, \"yshift\": 5}, {\"arrowhead\": 1, \"showarrow\": false, \"text\": \"A\", \"x\": 9834.85146878643, \"y\": 16.644877074726452, \"yshift\": 5}, {\"arrowhead\": 1, \"showarrow\": false, \"text\": \"A\", \"x\": 8212.593147984555, \"y\": 15.67488288637795, \"yshift\": 5}, {\"arrowhead\": 1, \"showarrow\": false, \"text\": \"A\", \"x\": 13374.3121933808, \"y\": 17.94744271096385, \"yshift\": 5}, {\"arrowhead\": 1, \"showarrow\": false, \"text\": \"A\", \"x\": 7728.46596241517, \"y\": 15.5272260194699, \"yshift\": 5}, {\"arrowhead\": 1, \"showarrow\": false, \"text\": \"A\", \"x\": 7297.50170091443, \"y\": 15.177578427958501, \"yshift\": 5}, {\"arrowhead\": 1, \"showarrow\": false, \"text\": \"A\", \"x\": 7368.403197365635, \"y\": 15.22472398238185, \"yshift\": 5}, {\"arrowhead\": 1, \"showarrow\": false, \"text\": \"A\", \"x\": 15953.6394635749, \"y\": 18.749382103053748, \"yshift\": 5}, {\"arrowhead\": 1, \"showarrow\": false, \"text\": \"A\", \"x\": 9184.77833375162, \"y\": 16.37474085645675, \"yshift\": 5}, {\"arrowhead\": 1, \"showarrow\": false, \"text\": \"A\", \"x\": 8845.677242700045, \"y\": 16.0237641071955, \"yshift\": 5}, {\"arrowhead\": 1, \"showarrow\": false, \"text\": \"A\", \"x\": 17567.8770159771, \"y\": 18.97769645707605, \"yshift\": 5}, {\"arrowhead\": 1, \"showarrow\": false, \"text\": \"A\", \"x\": 7697.448640800795, \"y\": 15.5272260194699, \"yshift\": 5}, {\"arrowhead\": 1, \"showarrow\": false, \"text\": \"G\", \"x\": 924.403619297777, \"y\": 15.576866740552594, \"yshift\": 5}, {\"arrowhead\": 1, \"showarrow\": false, \"text\": \"G\", \"x\": 924.403561385559, \"y\": 12.178168406653395, \"yshift\": 5}, {\"arrowhead\": 1, \"showarrow\": false, \"text\": \"G\", \"x\": 4744.0543023016, \"y\": 12.574060319431648, \"yshift\": 5}, {\"arrowhead\": 1, \"showarrow\": false, \"text\": \"G\", \"x\": 7030.363416568605, \"y\": 15.076784140435851, \"yshift\": 5}, {\"arrowhead\": 1, \"showarrow\": false, \"text\": \"G\", \"x\": 8966.61775772275, \"y\": 16.32471287008925, \"yshift\": 5}, {\"arrowhead\": 1, \"showarrow\": false, \"text\": \"G\", \"x\": 7376.406379144155, \"y\": 15.22472398238185, \"yshift\": 5}, {\"arrowhead\": 1, \"showarrow\": false, \"text\": \"G\", \"x\": 6229.398246090175, \"y\": 13.401796762712799, \"yshift\": 5}, {\"arrowhead\": 1, \"showarrow\": false, \"text\": \"G\", \"x\": 7519.570898666545, \"y\": 14.997238924670249, \"yshift\": 5}, {\"arrowhead\": 1, \"showarrow\": false, \"text\": \"G\", \"x\": 7864.6158130717595, \"y\": 15.14551444606785, \"yshift\": 5}, {\"arrowhead\": 1, \"showarrow\": false, \"text\": \"G\", \"x\": 8209.65830045588, \"y\": 15.376118408211099, \"yshift\": 5}, {\"arrowhead\": 1, \"showarrow\": false, \"text\": \"G\", \"x\": 9311.66312027213, \"y\": 16.495834461418802, \"yshift\": 5}, {\"arrowhead\": 1, \"showarrow\": false, \"text\": \"G\", \"x\": 9961.759986734076, \"y\": 16.797088377245252, \"yshift\": 5}, {\"arrowhead\": 1, \"showarrow\": false, \"text\": \"G\", \"x\": 13728.28079209985, \"y\": 18.1252158230225, \"yshift\": 5}, {\"arrowhead\": 1, \"showarrow\": false, \"text\": \"G\", \"x\": 10492.98632101445, \"y\": 16.8254255360047, \"yshift\": 5}, {\"arrowhead\": 1, \"showarrow\": false, \"text\": \"G\", \"x\": 7375.41009640265, \"y\": 15.376105673678701, \"yshift\": 5}, {\"arrowhead\": 1, \"showarrow\": false, \"text\": \"G\", \"x\": 11817.9803484542, \"y\": 17.52541756587025, \"yshift\": 5}, {\"arrowhead\": 1, \"showarrow\": false, \"text\": \"G\", \"x\": 14909.5807498785, \"y\": 18.448005757300102, \"yshift\": 5}, {\"arrowhead\": 1, \"showarrow\": false, \"text\": \"G\", \"x\": 9842.891831897789, \"y\": 16.574066286849998, \"yshift\": 5}, {\"arrowhead\": 1, \"showarrow\": false, \"text\": \"G\", \"x\": 5741.178146401409, \"y\": 13.82427658197085, \"yshift\": 5}, {\"arrowhead\": 1, \"showarrow\": false, \"text\": \"G\", \"x\": 9809.80358350638, \"y\": 16.574066286849998, \"yshift\": 5}, {\"arrowhead\": 1, \"showarrow\": false, \"text\": \"G\", \"x\": 7570.502589189095, \"y\": 15.174484245546651, \"yshift\": 5}, {\"arrowhead\": 1, \"showarrow\": false, \"text\": \"G\", \"x\": 9810.820887536276, \"y\": 16.69462629911105, \"yshift\": 5}, {\"arrowhead\": 1, \"showarrow\": false, \"text\": \"G\", \"x\": 14259.48351237645, \"y\": 18.27483893589975, \"yshift\": 5}, {\"arrowhead\": 1, \"showarrow\": false, \"text\": \"G\", \"x\": 8827.69065875572, \"y\": 16.124440432159098, \"yshift\": 5}, {\"arrowhead\": 1, \"showarrow\": false, \"text\": \"G\", \"x\": 9505.779730874825, \"y\": 16.5527335202376, \"yshift\": 5}, {\"arrowhead\": 1, \"showarrow\": false, \"text\": \"G\", \"x\": 15254.62455704475, \"y\": 18.54906437751455, \"yshift\": 5}, {\"arrowhead\": 1, \"showarrow\": false, \"text\": \"G\", \"x\": 9497.838804079574, \"y\": 16.4959380960147, \"yshift\": 5}, {\"arrowhead\": 1, \"showarrow\": false, \"text\": \"G\", \"x\": 9849.819665221661, \"y\": 16.673387886651348, \"yshift\": 5}, {\"arrowhead\": 1, \"showarrow\": false, \"text\": \"G\", \"x\": 16356.60721976255, \"y\": 18.7495013868491, \"yshift\": 5}, {\"arrowhead\": 1, \"showarrow\": false, \"text\": \"G\", \"x\": 8549.637481434169, \"y\": 15.948492319949448, \"yshift\": 5}, {\"arrowhead\": 1, \"showarrow\": false, \"text\": \"G\", \"x\": 11448.1197434847, \"y\": 17.30024468657175, \"yshift\": 5}, {\"arrowhead\": 1, \"showarrow\": false, \"text\": \"G\", \"x\": 14393.350174469, \"y\": 18.274879532623302, \"yshift\": 5}, {\"arrowhead\": 1, \"showarrow\": false, \"text\": \"G\", \"x\": 8565.652616156454, \"y\": 15.97372049547035, \"yshift\": 5}, {\"arrowhead\": 1, \"showarrow\": false, \"text\": \"G\", \"x\": 10155.86678119212, \"y\": 16.772577640978497, \"yshift\": 5}, {\"arrowhead\": 1, \"showarrow\": false, \"text\": \"G\", \"x\": 11417.027009132049, \"y\": 17.3493491446654, \"yshift\": 5}, {\"arrowhead\": 1, \"showarrow\": false, \"text\": \"G\", \"x\": 8220.596223158165, \"y\": 15.70011106189885, \"yshift\": 5}, {\"arrowhead\": 1, \"showarrow\": false, \"text\": \"G\", \"x\": 17190.86707489305, \"y\": 18.87548093256155, \"yshift\": 5}, {\"arrowhead\": 1, \"showarrow\": false, \"text\": \"G\", \"x\": 16845.821027247148, \"y\": 18.87548093256155, \"yshift\": 5}, {\"arrowhead\": 1, \"showarrow\": false, \"text\": \"G\", \"x\": 10187.90992661895, \"y\": 16.70176685310205, \"yshift\": 5}, {\"arrowhead\": 1, \"showarrow\": false, \"text\": \"G\", \"x\": 18481.0337561507, \"y\": 19.1720183904648, \"yshift\": 5}, {\"arrowhead\": 1, \"showarrow\": false, \"text\": \"G\", \"x\": 9160.7391197737, \"y\": 16.37464425421555, \"yshift\": 5}, {\"arrowhead\": 1, \"showarrow\": false, \"text\": \"G\", \"x\": 6448.36942818665, \"y\": 14.80068225320975, \"yshift\": 5}, {\"arrowhead\": 1, \"showarrow\": false, \"text\": \"G\", \"x\": 13037.3176162848, \"y\": 17.8478617942015, \"yshift\": 5}, {\"arrowhead\": 1, \"showarrow\": false, \"text\": \"G\", \"x\": 5723.17258060649, \"y\": 13.5217767661492, \"yshift\": 5}, {\"arrowhead\": 1, \"showarrow\": false, \"text\": \"G\", \"x\": 7539.50335410917, \"y\": 15.195985957550999, \"yshift\": 5}, {\"arrowhead\": 1, \"showarrow\": false, \"text\": \"G\", \"x\": 7720.459002373405, \"y\": 15.59906249500115, \"yshift\": 5}, {\"arrowhead\": 1, \"showarrow\": false, \"text\": \"G\", \"x\": 16701.65338170165, \"y\": 18.822459841338798, \"yshift\": 5}, {\"arrowhead\": 1, \"showarrow\": false, \"text\": \"G\", \"x\": 6701.309137955455, \"y\": 14.724198774067549, \"yshift\": 5}, {\"arrowhead\": 1, \"showarrow\": false, \"text\": \"G\", \"x\": 18826.077449152348, \"y\": 19.22408246156375, \"yshift\": 5}, {\"arrowhead\": 1, \"showarrow\": false, \"text\": \"G\", \"x\": 11793.124021541349, \"y\": 17.42679318246045, \"yshift\": 5}, {\"arrowhead\": 1, \"showarrow\": false, \"text\": \"U\", \"x\": 880.8806982672036, \"y\": 17.4004844234069, \"yshift\": 5}, {\"arrowhead\": 1, \"showarrow\": false, \"text\": \"U\", \"x\": 916.849146666817, \"y\": 17.9550023988565, \"yshift\": 5}, {\"arrowhead\": 1, \"showarrow\": false, \"text\": \"U\", \"x\": 1154.839563157605, \"y\": 10.901006870039286, \"yshift\": 5}, {\"arrowhead\": 1, \"showarrow\": false, \"text\": \"U\", \"x\": 1155.8400188845699, \"y\": 8.799095620282515, \"yshift\": 5}, {\"arrowhead\": 1, \"showarrow\": false, \"text\": \"U\", \"x\": 5069.592005418345, \"y\": 12.99917484876315, \"yshift\": 5}, {\"arrowhead\": 1, \"showarrow\": false, \"text\": \"U\", \"x\": 8029.997177650815, \"y\": 15.79732998566625, \"yshift\": 5}, {\"arrowhead\": 1, \"showarrow\": false, \"text\": \"U\", \"x\": 8336.02350123934, \"y\": 15.9953974699656, \"yshift\": 5}, {\"arrowhead\": 1, \"showarrow\": false, \"text\": \"U\", \"x\": 1154.838483941485, \"y\": 1.6507584120512, \"yshift\": 5}, {\"arrowhead\": 1, \"showarrow\": false, \"text\": \"U\", \"x\": 10592.32056340595, \"y\": 17.071983286309248, \"yshift\": 5}, {\"arrowhead\": 1, \"showarrow\": false, \"text\": \"U\", \"x\": 11203.411530927351, \"y\": 17.3493491446654, \"yshift\": 5}, {\"arrowhead\": 1, \"showarrow\": false, \"text\": \"U\", \"x\": 11509.44864276985, \"y\": 17.42679318246045, \"yshift\": 5}, {\"arrowhead\": 1, \"showarrow\": false, \"text\": \"U\", \"x\": 6673.883366700729, \"y\": 14.37427368220485, \"yshift\": 5}, {\"arrowhead\": 1, \"showarrow\": false, \"text\": \"U\", \"x\": 5268.78519805315, \"y\": 11.7220146691481, \"yshift\": 5}, {\"arrowhead\": 1, \"showarrow\": false, \"text\": \"U\", \"x\": 12143.53030504, \"y\": 17.67310259895325, \"yshift\": 5}, {\"arrowhead\": 1, \"showarrow\": false, \"text\": \"U\", \"x\": 13747.7752504647, \"y\": 18.07413040754, \"yshift\": 5}, {\"arrowhead\": 1, \"showarrow\": false, \"text\": \"U\", \"x\": 9637.19853859899, \"y\": 16.673387886651348, \"yshift\": 5}, {\"arrowhead\": 1, \"showarrow\": false, \"text\": \"U\", \"x\": 13628.909289337, \"y\": 18.09804290291465, \"yshift\": 5}, {\"arrowhead\": 1, \"showarrow\": false, \"text\": \"U\", \"x\": 15885.20580649445, \"y\": 18.676352490552297, \"yshift\": 5}, {\"arrowhead\": 1, \"showarrow\": false, \"text\": \"U\", \"x\": 8530.14004496877, \"y\": 15.9269338365078, \"yshift\": 5}, {\"arrowhead\": 1, \"showarrow\": false, \"text\": \"U\", \"x\": 13379.8312510264, \"y\": 18.07419654783405, \"yshift\": 5}, {\"arrowhead\": 1, \"showarrow\": false, \"text\": \"U\", \"x\": 13017.83455534215, \"y\": 17.8995062446276, \"yshift\": 5}, {\"arrowhead\": 1, \"showarrow\": false, \"text\": \"U\", \"x\": 8642.069050290436, \"y\": 16.0457078442653, \"yshift\": 5}, {\"arrowhead\": 1, \"showarrow\": false, \"text\": \"U\", \"x\": 8225.10171063454, \"y\": 15.772114094662651, \"yshift\": 5}, {\"arrowhead\": 1, \"showarrow\": false, \"text\": \"U\", \"x\": 9830.32837775553, \"y\": 16.69462629911105, \"yshift\": 5}, {\"arrowhead\": 1, \"showarrow\": false, \"text\": \"U\", \"x\": 15579.16455513705, \"y\": 18.6027322864215, \"yshift\": 5}, {\"arrowhead\": 1, \"showarrow\": false, \"text\": \"U\", \"x\": 10481.3934957652, \"y\": 16.89941830790835, \"yshift\": 5}, {\"arrowhead\": 1, \"showarrow\": false, \"text\": \"U\", \"x\": 15048.93185440145, \"y\": 18.4750586028576, \"yshift\": 5}, {\"arrowhead\": 1, \"showarrow\": false, \"text\": \"U\", \"x\": 9596.233490910676, \"y\": 16.37464425421555, \"yshift\": 5}, {\"arrowhead\": 1, \"showarrow\": false, \"text\": \"U\", \"x\": 6329.857007317305, \"y\": 13.99882706956865, \"yshift\": 5}, {\"arrowhead\": 1, \"showarrow\": false, \"text\": \"U\", \"x\": 10135.347385683464, \"y\": 16.751214810776702, \"yshift\": 5}, {\"arrowhead\": 1, \"showarrow\": false, \"text\": \"U\", \"x\": 6979.929626721095, \"y\": 14.724198774067549, \"yshift\": 5}, {\"arrowhead\": 1, \"showarrow\": false, \"text\": \"U\", \"x\": 12767.72299870295, \"y\": 17.75006270663735, \"yshift\": 5}, {\"arrowhead\": 1, \"showarrow\": false, \"text\": \"U\", \"x\": 13073.77922915925, \"y\": 17.94744271096385, \"yshift\": 5}, {\"arrowhead\": 1, \"showarrow\": false, \"text\": \"U\", \"x\": 5397.61982437473, \"y\": 13.2740388041417, \"yshift\": 5}, {\"arrowhead\": 1, \"showarrow\": false, \"text\": \"U\", \"x\": 10175.35806865825, \"y\": 16.7513392285188, \"yshift\": 5}, {\"arrowhead\": 1, \"showarrow\": false, \"text\": \"U\", \"x\": 8046.0081322008045, \"y\": 15.772114094662651, \"yshift\": 5}, {\"arrowhead\": 1, \"showarrow\": false, \"text\": \"U\", \"x\": 11492.4583852322, \"y\": 17.328405007290797, \"yshift\": 5}, {\"arrowhead\": 1, \"showarrow\": false, \"text\": \"U\", \"x\": 16191.2405079895, \"y\": 18.722929499117548, \"yshift\": 5}, {\"arrowhead\": 1, \"showarrow\": false, \"text\": \"U\", \"x\": 7548.9970063173005, \"y\": 15.0762689735174, \"yshift\": 5}, {\"arrowhead\": 1, \"showarrow\": false, \"text\": \"U\", \"x\": 9180.23203245572, \"y\": 16.3246575450579, \"yshift\": 5}, {\"arrowhead\": 1, \"showarrow\": false, \"text\": \"U\", \"x\": 12125.5565871172, \"y\": 17.623777856993698, \"yshift\": 5}, {\"arrowhead\": 1, \"showarrow\": false, \"text\": \"U\", \"x\": 8014.98961995454, \"y\": 15.7252089446465, \"yshift\": 5}, {\"arrowhead\": 1, \"showarrow\": false, \"text\": \"U\", \"x\": 10152.36682839174, \"y\": 16.8713839109421, \"yshift\": 5}, {\"arrowhead\": 1, \"showarrow\": false, \"text\": \"U\", \"x\": 7244.965130200781, \"y\": 14.94975685235655, \"yshift\": 5}, {\"arrowhead\": 1, \"showarrow\": false, \"text\": \"U\", \"x\": 11186.41430592315, \"y\": 17.22639416214625, \"yshift\": 5}, {\"arrowhead\": 1, \"showarrow\": false, \"text\": \"U\", \"x\": 9196.244139650265, \"y\": 16.34612416184745, \"yshift\": 5}, {\"arrowhead\": 1, \"showarrow\": false, \"text\": \"U\", \"x\": 8352.035039818154, \"y\": 15.9451500103553, \"yshift\": 5}, {\"arrowhead\": 1, \"showarrow\": false, \"text\": \"U\", \"x\": 20131.76437596755, \"y\": 19.42417895751, \"yshift\": 5}, {\"arrowhead\": 1, \"showarrow\": false, \"text\": \"U\", \"x\": 13642.92071927815, \"y\": 18.14909083601635, \"yshift\": 5}, {\"arrowhead\": 1, \"showarrow\": false, \"text\": \"U\", \"x\": 11397.52837419615, \"y\": 17.42683015720845, \"yshift\": 5}, {\"arrowhead\": 1, \"showarrow\": false, \"text\": \"U\", \"x\": 9141.236713788385, \"y\": 16.34612416184745, \"yshift\": 5}, {\"arrowhead\": 1, \"showarrow\": false, \"text\": \"U\", \"x\": 8657.063485573515, \"y\": 16.224553170371053, \"yshift\": 5}, {\"arrowhead\": 1, \"showarrow\": false, \"text\": \"U\", \"x\": 6376.7657146232905, \"y\": 14.29770425713855, \"yshift\": 5}, {\"arrowhead\": 1, \"showarrow\": false, \"text\": \"U\", \"x\": 13081.7405041505, \"y\": 17.8510902897199, \"yshift\": 5}, {\"arrowhead\": 1, \"showarrow\": false, \"text\": \"U\", \"x\": 9902.277610289853, \"y\": 16.5527335202376, \"yshift\": 5}, {\"arrowhead\": 1, \"showarrow\": false, \"text\": \"U\", \"x\": 20437.7976838301, \"y\": 19.42417895751, \"yshift\": 5}, {\"arrowhead\": 1, \"showarrow\": false, \"text\": \"mG\", \"x\": 980.375308484804, \"y\": 11.926356940039016, \"yshift\": 5}, {\"arrowhead\": 1, \"showarrow\": false, \"text\": \"mG\", \"x\": 7587.512400548894, \"y\": 15.27479705270925, \"yshift\": 5}, {\"arrowhead\": 1, \"showarrow\": false, \"text\": \"mG\", \"x\": 13705.30927393285, \"y\": 18.1252158230225, \"yshift\": 5}, {\"arrowhead\": 1, \"showarrow\": false, \"text\": \"mG\", \"x\": 14385.3500067998, \"y\": 18.3223442440907, \"yshift\": 5}, {\"arrowhead\": 1, \"showarrow\": false, \"text\": \"mG\", \"x\": 11455.10082474085, \"y\": 17.328405007290797, \"yshift\": 5}, {\"arrowhead\": 1, \"showarrow\": false, \"text\": \"mG\", \"x\": 10500.00617372875, \"y\": 16.850145498482398, \"yshift\": 5}, {\"arrowhead\": 1, \"showarrow\": false, \"text\": \"mG\", \"x\": 15261.60668187565, \"y\": 18.522215915290552, \"yshift\": 5}, {\"arrowhead\": 1, \"showarrow\": false, \"text\": \"mG\", \"x\": 7312.46505448492, \"y\": 15.076784140435851, \"yshift\": 5}, {\"arrowhead\": 1, \"showarrow\": false, \"text\": \"D\", \"x\": 963.8628084657685, \"y\": 13.521644728946695, \"yshift\": 5}, {\"arrowhead\": 1, \"showarrow\": false, \"text\": \"D\", \"x\": 963.8618473613769, \"y\": 15.898395053116495, \"yshift\": 5}, {\"arrowhead\": 1, \"showarrow\": false, \"text\": \"D\", \"x\": 6374.762040089539, \"y\": 14.37427368220485, \"yshift\": 5}, {\"arrowhead\": 1, \"showarrow\": false, \"text\": \"D\", \"x\": 6066.720380337535, \"y\": 14.10070409036475, \"yshift\": 5}, {\"arrowhead\": 1, \"showarrow\": false, \"text\": \"D\", \"x\": 8547.171258326685, \"y\": 15.87316266156035, \"yshift\": 5}, {\"arrowhead\": 1, \"showarrow\": false, \"text\": \"D\", \"x\": 963.8627584147835, \"y\": 15.59757757442, \"yshift\": 5}, {\"arrowhead\": 1, \"showarrow\": false, \"text\": \"D\", \"x\": 963.8617973103919, \"y\": 17.9743278985898, \"yshift\": 5}, {\"arrowhead\": 1, \"showarrow\": false, \"text\": \"D\", \"x\": 17846.4506400237, \"y\": 19.0537902033011, \"yshift\": 5}, {\"arrowhead\": 1, \"showarrow\": false, \"text\": \"D\", \"x\": 18154.491404039953, \"y\": 19.0998460864703, \"yshift\": 5}, {\"arrowhead\": 1, \"showarrow\": false, \"text\": \"D\", \"x\": 9516.312490842116, \"y\": 16.4460852370342, \"yshift\": 5}, {\"arrowhead\": 1, \"showarrow\": false, \"text\": \"D\", \"x\": 9844.316025857965, \"y\": 16.623743461140002, \"yshift\": 5}, {\"arrowhead\": 1, \"showarrow\": false, \"text\": \"D\", \"x\": 13651.92803520085, \"y\": 18.07398144957225, \"yshift\": 5}, {\"arrowhead\": 1, \"showarrow\": false, \"text\": \"mC\", \"x\": 8541.70258358024, \"y\": 15.70021601971785, \"yshift\": 5}, {\"arrowhead\": 1, \"showarrow\": false, \"text\": \"mC\", \"x\": 13316.387848789349, \"y\": 17.975050322779, \"yshift\": 5}, {\"arrowhead\": 1, \"showarrow\": false, \"text\": \"mC\", \"x\": 12705.276229594401, \"y\": 17.82348267790475, \"yshift\": 5}, {\"arrowhead\": 1, \"showarrow\": false, \"text\": \"mC\", \"x\": 8860.756347135954, \"y\": 16.124044485457702, \"yshift\": 5}, {\"arrowhead\": 1, \"showarrow\": false, \"text\": \"mC\", \"x\": 9186.73704736792, \"y\": 16.24602923648355, \"yshift\": 5}, {\"arrowhead\": 1, \"showarrow\": false, \"text\": \"mC\", \"x\": 8840.681375299566, \"y\": 16.0237641071955, \"yshift\": 5}, {\"arrowhead\": 1, \"showarrow\": false, \"text\": \"mC\", \"x\": 6890.424397083615, \"y\": 14.57112840271795, \"yshift\": 5}, {\"arrowhead\": 1, \"showarrow\": false, \"text\": \"mC\", \"x\": 9202.740469940225, \"y\": 16.34612416184745, \"yshift\": 5}, {\"arrowhead\": 1, \"showarrow\": false, \"text\": \"mC\", \"x\": 13330.374495266751, \"y\": 18.0262600814978, \"yshift\": 5}, {\"arrowhead\": 1, \"showarrow\": false, \"text\": \"mC\", \"x\": 13941.4434625262, \"y\": 18.20008553620975, \"yshift\": 5}, {\"arrowhead\": 1, \"showarrow\": false, \"text\": \"mC\", \"x\": 12719.3080328327, \"y\": 17.8995062446276, \"yshift\": 5}, {\"arrowhead\": 1, \"showarrow\": false, \"text\": \"mC\", \"x\": 10519.974152097551, \"y\": 16.850145498482398, \"yshift\": 5}, {\"arrowhead\": 1, \"showarrow\": false, \"text\": \"mC\", \"x\": 8732.67207162184, \"y\": 15.653310869701698, \"yshift\": 5}, {\"arrowhead\": 1, \"showarrow\": false, \"text\": \"mC\", \"x\": 12085.203748303, \"y\": 17.6274690027714, \"yshift\": 5}, {\"arrowhead\": 1, \"showarrow\": false, \"text\": \"mU\", \"x\": 14735.8734187009, \"y\": 18.4004610444784, \"yshift\": 5}, {\"arrowhead\": 1, \"showarrow\": false, \"text\": \"mU\", \"x\": 13410.75010220685, \"y\": 18.0470236277262, \"yshift\": 5}, {\"arrowhead\": 1, \"showarrow\": false, \"text\": \"mU\", \"x\": 6383.778504733071, \"y\": 14.472635944255199, \"yshift\": 5}, {\"arrowhead\": 1, \"showarrow\": false, \"text\": \"mU\", \"x\": 8232.104365738509, \"y\": 15.6746044442733, \"yshift\": 5}, {\"arrowhead\": 1, \"showarrow\": false, \"text\": \"mU\", \"x\": 17674.295326210748, \"y\": 18.9748453205506, \"yshift\": 5}, {\"arrowhead\": 1, \"showarrow\": false, \"text\": \"mU\", \"x\": 15055.931770227151, \"y\": 18.52880835291545, \"yshift\": 5}, {\"arrowhead\": 1, \"showarrow\": false, \"text\": \"mU\", \"x\": 9838.316462386425, \"y\": 16.6734296943426, \"yshift\": 5}, {\"arrowhead\": 1, \"showarrow\": false, \"text\": \"mU\", \"x\": 9644.202876239466, \"y\": 16.673387886651348, \"yshift\": 5}, {\"arrowhead\": 1, \"showarrow\": false, \"text\": \"mU\", \"x\": 14060.81761192775, \"y\": 18.1490621781031, \"yshift\": 5}, {\"arrowhead\": 1, \"showarrow\": false, \"text\": \"mU\", \"x\": 13635.92020651165, \"y\": 18.1219179159085, \"yshift\": 5}, {\"arrowhead\": 1, \"showarrow\": false, \"text\": \"mU\", \"x\": 8650.064093915835, \"y\": 16.1241626417319, \"yshift\": 5}, {\"arrowhead\": 1, \"showarrow\": false, \"text\": \"mU\", \"x\": 12085.691696864, \"y\": 17.60292925295035, \"yshift\": 5}, {\"arrowhead\": 1, \"showarrow\": false, \"text\": \"mU\", \"x\": 11805.53600792645, \"y\": 17.4549535031795, \"yshift\": 5}, {\"arrowhead\": 1, \"showarrow\": false, \"text\": \"mA\", \"x\": 24125.59864599885, \"y\": 19.84894678251745, \"yshift\": 5}, {\"arrowhead\": 1, \"showarrow\": false, \"text\": \"mA\", \"x\": 12097.1588767831, \"y\": 17.60292925295035, \"yshift\": 5}, {\"arrowhead\": 1, \"showarrow\": false, \"text\": \"mA\", \"x\": 12731.2895450167, \"y\": 17.87546940601665, \"yshift\": 5}, {\"arrowhead\": 1, \"showarrow\": false, \"text\": \"mA\", \"x\": 9465.768432376051, \"y\": 16.4460852370342, \"yshift\": 5}, {\"arrowhead\": 1, \"showarrow\": false, \"text\": \"m22C\", \"x\": 9166.73599940175, \"y\": 16.3246575450579, \"yshift\": 5}, {\"arrowhead\": 1, \"showarrow\": false, \"text\": \"m22C\", \"x\": 8821.693779127669, \"y\": 16.174427141316748, \"yshift\": 5}, {\"arrowhead\": 1, \"showarrow\": false, \"text\": \"m22C\", \"x\": 13323.38836155585, \"y\": 18.00222324288685, \"yshift\": 5}, {\"arrowhead\": 1, \"showarrow\": false, \"text\": \"m22C\", \"x\": 13359.336575894751, \"y\": 18.0262600814978, \"yshift\": 5}, {\"arrowhead\": 1, \"showarrow\": false, \"text\": \"m22C\", \"x\": 12712.265446260051, \"y\": 17.87512712833085, \"yshift\": 5}, {\"arrowhead\": 1, \"showarrow\": false, \"text\": \"m22C\", \"x\": 7837.545617531925, \"y\": 15.5055924033801, \"yshift\": 5}, {\"arrowhead\": 1, \"showarrow\": false, \"text\": \"m22C\", \"x\": 12092.17313126455, \"y\": 17.57473825769425, \"yshift\": 5}, {\"arrowhead\": 1, \"showarrow\": false, \"text\": \"mcm5U\", \"x\": 8193.125664668065, \"y\": 15.5055924033801, \"yshift\": 5}, {\"arrowhead\": 1, \"showarrow\": false, \"text\": \"mcm5U\", \"x\": 10861.3980594101, \"y\": 17.17378140744365, \"yshift\": 5}, {\"arrowhead\": 1, \"showarrow\": false, \"text\": \"mcm5U\", \"x\": 11801.5169295265, \"y\": 17.54655688660145, \"yshift\": 5}, {\"arrowhead\": 1, \"showarrow\": false, \"text\": \"mcm5U\", \"x\": 9826.351999921266, \"y\": 16.574066286849998, \"yshift\": 5}, {\"arrowhead\": 1, \"showarrow\": false, \"text\": \"mcm5U\", \"x\": 13381.8156614066, \"y\": 17.99908716138995, \"yshift\": 5}, {\"arrowhead\": 1, \"showarrow\": false, \"text\": \"mcm5U\", \"x\": 10171.361510204064, \"y\": 16.70176685310205, \"yshift\": 5}, {\"arrowhead\": 1, \"showarrow\": false, \"text\": \"mcm5U\", \"x\": 9978.242737552775, \"y\": 16.72300206975935, \"yshift\": 5}, {\"arrowhead\": 1, \"showarrow\": false, \"text\": \"mcm5U\", \"x\": 9866.29790679096, \"y\": 16.6238155112346, \"yshift\": 5}], \"template\": {\"data\": {\"bar\": [{\"error_x\": {\"color\": \"#2a3f5f\"}, \"error_y\": {\"color\": \"#2a3f5f\"}, \"marker\": {\"line\": {\"color\": \"#E5ECF6\", \"width\": 0.5}}, \"type\": \"bar\"}], \"barpolar\": [{\"marker\": {\"line\": {\"color\": \"#E5ECF6\", \"width\": 0.5}}, \"type\": \"barpolar\"}], \"carpet\": [{\"aaxis\": {\"endlinecolor\": \"#2a3f5f\", \"gridcolor\": \"white\", \"linecolor\": \"white\", \"minorgridcolor\": \"white\", \"startlinecolor\": \"#2a3f5f\"}, \"baxis\": {\"endlinecolor\": \"#2a3f5f\", \"gridcolor\": \"white\", \"linecolor\": \"white\", \"minorgridcolor\": \"white\", \"startlinecolor\": \"#2a3f5f\"}, \"type\": \"carpet\"}], \"choropleth\": [{\"colorbar\": {\"outlinewidth\": 0, \"ticks\": \"\"}, \"type\": \"choropleth\"}], \"contour\": [{\"colorbar\": {\"outlinewidth\": 0, \"ticks\": \"\"}, \"colorscale\": [[0.0, \"#0d0887\"], [0.1111111111111111, \"#46039f\"], [0.2222222222222222, \"#7201a8\"], [0.3333333333333333, \"#9c179e\"], [0.4444444444444444, \"#bd3786\"], [0.5555555555555556, \"#d8576b\"], [0.6666666666666666, \"#ed7953\"], [0.7777777777777778, \"#fb9f3a\"], [0.8888888888888888, \"#fdca26\"], [1.0, \"#f0f921\"]], \"type\": \"contour\"}], \"contourcarpet\": [{\"colorbar\": {\"outlinewidth\": 0, \"ticks\": \"\"}, \"type\": \"contourcarpet\"}], \"heatmap\": [{\"colorbar\": {\"outlinewidth\": 0, \"ticks\": \"\"}, \"colorscale\": [[0.0, \"#0d0887\"], [0.1111111111111111, \"#46039f\"], [0.2222222222222222, \"#7201a8\"], [0.3333333333333333, \"#9c179e\"], [0.4444444444444444, \"#bd3786\"], [0.5555555555555556, \"#d8576b\"], [0.6666666666666666, \"#ed7953\"], [0.7777777777777778, \"#fb9f3a\"], [0.8888888888888888, \"#fdca26\"], [1.0, \"#f0f921\"]], \"type\": \"heatmap\"}], \"heatmapgl\": [{\"colorbar\": {\"outlinewidth\": 0, \"ticks\": \"\"}, \"colorscale\": [[0.0, \"#0d0887\"], [0.1111111111111111, \"#46039f\"], [0.2222222222222222, \"#7201a8\"], [0.3333333333333333, \"#9c179e\"], [0.4444444444444444, \"#bd3786\"], [0.5555555555555556, \"#d8576b\"], [0.6666666666666666, \"#ed7953\"], [0.7777777777777778, \"#fb9f3a\"], [0.8888888888888888, \"#fdca26\"], [1.0, \"#f0f921\"]], \"type\": \"heatmapgl\"}], \"histogram\": [{\"marker\": {\"colorbar\": {\"outlinewidth\": 0, \"ticks\": \"\"}}, \"type\": \"histogram\"}], \"histogram2d\": [{\"colorbar\": {\"outlinewidth\": 0, \"ticks\": \"\"}, \"colorscale\": [[0.0, \"#0d0887\"], [0.1111111111111111, \"#46039f\"], [0.2222222222222222, \"#7201a8\"], [0.3333333333333333, \"#9c179e\"], [0.4444444444444444, \"#bd3786\"], [0.5555555555555556, \"#d8576b\"], [0.6666666666666666, \"#ed7953\"], [0.7777777777777778, \"#fb9f3a\"], [0.8888888888888888, \"#fdca26\"], [1.0, \"#f0f921\"]], \"type\": \"histogram2d\"}], \"histogram2dcontour\": [{\"colorbar\": {\"outlinewidth\": 0, \"ticks\": \"\"}, \"colorscale\": [[0.0, \"#0d0887\"], [0.1111111111111111, \"#46039f\"], [0.2222222222222222, \"#7201a8\"], [0.3333333333333333, \"#9c179e\"], [0.4444444444444444, \"#bd3786\"], [0.5555555555555556, \"#d8576b\"], [0.6666666666666666, \"#ed7953\"], [0.7777777777777778, \"#fb9f3a\"], [0.8888888888888888, \"#fdca26\"], [1.0, \"#f0f921\"]], \"type\": \"histogram2dcontour\"}], \"mesh3d\": [{\"colorbar\": {\"outlinewidth\": 0, \"ticks\": \"\"}, \"type\": \"mesh3d\"}], \"parcoords\": [{\"line\": {\"colorbar\": {\"outlinewidth\": 0, \"ticks\": \"\"}}, \"type\": \"parcoords\"}], \"pie\": [{\"automargin\": true, \"type\": \"pie\"}], \"scatter\": [{\"marker\": {\"colorbar\": {\"outlinewidth\": 0, \"ticks\": \"\"}}, \"type\": \"scatter\"}], \"scatter3d\": [{\"line\": {\"colorbar\": {\"outlinewidth\": 0, \"ticks\": \"\"}}, \"marker\": {\"colorbar\": {\"outlinewidth\": 0, \"ticks\": \"\"}}, \"type\": \"scatter3d\"}], \"scattercarpet\": [{\"marker\": {\"colorbar\": {\"outlinewidth\": 0, \"ticks\": \"\"}}, \"type\": \"scattercarpet\"}], \"scattergeo\": [{\"marker\": {\"colorbar\": {\"outlinewidth\": 0, \"ticks\": \"\"}}, \"type\": \"scattergeo\"}], \"scattergl\": [{\"marker\": {\"colorbar\": {\"outlinewidth\": 0, \"ticks\": \"\"}}, \"type\": \"scattergl\"}], \"scattermapbox\": [{\"marker\": {\"colorbar\": {\"outlinewidth\": 0, \"ticks\": \"\"}}, \"type\": \"scattermapbox\"}], \"scatterpolar\": [{\"marker\": {\"colorbar\": {\"outlinewidth\": 0, \"ticks\": \"\"}}, \"type\": \"scatterpolar\"}], \"scatterpolargl\": [{\"marker\": {\"colorbar\": {\"outlinewidth\": 0, \"ticks\": \"\"}}, \"type\": \"scatterpolargl\"}], \"scatterternary\": [{\"marker\": {\"colorbar\": {\"outlinewidth\": 0, \"ticks\": \"\"}}, \"type\": \"scatterternary\"}], \"surface\": [{\"colorbar\": {\"outlinewidth\": 0, \"ticks\": \"\"}, \"colorscale\": [[0.0, \"#0d0887\"], [0.1111111111111111, \"#46039f\"], [0.2222222222222222, \"#7201a8\"], [0.3333333333333333, \"#9c179e\"], [0.4444444444444444, \"#bd3786\"], [0.5555555555555556, \"#d8576b\"], [0.6666666666666666, \"#ed7953\"], [0.7777777777777778, \"#fb9f3a\"], [0.8888888888888888, \"#fdca26\"], [1.0, \"#f0f921\"]], \"type\": \"surface\"}], \"table\": [{\"cells\": {\"fill\": {\"color\": \"#EBF0F8\"}, \"line\": {\"color\": \"white\"}}, \"header\": {\"fill\": {\"color\": \"#C8D4E3\"}, \"line\": {\"color\": \"white\"}}, \"type\": \"table\"}]}, \"layout\": {\"annotationdefaults\": {\"arrowcolor\": \"#2a3f5f\", \"arrowhead\": 0, \"arrowwidth\": 1}, \"autotypenumbers\": \"strict\", \"coloraxis\": {\"colorbar\": {\"outlinewidth\": 0, \"ticks\": \"\"}}, \"colorscale\": {\"diverging\": [[0, \"#8e0152\"], [0.1, \"#c51b7d\"], [0.2, \"#de77ae\"], [0.3, \"#f1b6da\"], [0.4, \"#fde0ef\"], [0.5, \"#f7f7f7\"], [0.6, \"#e6f5d0\"], [0.7, \"#b8e186\"], [0.8, \"#7fbc41\"], [0.9, \"#4d9221\"], [1, \"#276419\"]], \"sequential\": [[0.0, \"#0d0887\"], [0.1111111111111111, \"#46039f\"], [0.2222222222222222, \"#7201a8\"], [0.3333333333333333, \"#9c179e\"], [0.4444444444444444, \"#bd3786\"], [0.5555555555555556, \"#d8576b\"], [0.6666666666666666, \"#ed7953\"], [0.7777777777777778, \"#fb9f3a\"], [0.8888888888888888, \"#fdca26\"], [1.0, \"#f0f921\"]], \"sequentialminus\": [[0.0, \"#0d0887\"], [0.1111111111111111, \"#46039f\"], [0.2222222222222222, \"#7201a8\"], [0.3333333333333333, \"#9c179e\"], [0.4444444444444444, \"#bd3786\"], [0.5555555555555556, \"#d8576b\"], [0.6666666666666666, \"#ed7953\"], [0.7777777777777778, \"#fb9f3a\"], [0.8888888888888888, \"#fdca26\"], [1.0, \"#f0f921\"]]}, \"colorway\": [\"#636efa\", \"#EF553B\", \"#00cc96\", \"#ab63fa\", \"#FFA15A\", \"#19d3f3\", \"#FF6692\", \"#B6E880\", \"#FF97FF\", \"#FECB52\"], \"font\": {\"color\": \"#2a3f5f\"}, \"geo\": {\"bgcolor\": \"white\", \"lakecolor\": \"white\", \"landcolor\": \"#E5ECF6\", \"showlakes\": true, \"showland\": true, \"subunitcolor\": \"white\"}, \"hoverlabel\": {\"align\": \"left\"}, \"hovermode\": \"closest\", \"mapbox\": {\"style\": \"light\"}, \"paper_bgcolor\": \"white\", \"plot_bgcolor\": \"#E5ECF6\", \"polar\": {\"angularaxis\": {\"gridcolor\": \"white\", \"linecolor\": \"white\", \"ticks\": \"\"}, \"bgcolor\": \"#E5ECF6\", \"radialaxis\": {\"gridcolor\": \"white\", \"linecolor\": \"white\", \"ticks\": \"\"}}, \"scene\": {\"xaxis\": {\"backgroundcolor\": \"#E5ECF6\", \"gridcolor\": \"white\", \"gridwidth\": 2, \"linecolor\": \"white\", \"showbackground\": true, \"ticks\": \"\", \"zerolinecolor\": \"white\"}, \"yaxis\": {\"backgroundcolor\": \"#E5ECF6\", \"gridcolor\": \"white\", \"gridwidth\": 2, \"linecolor\": \"white\", \"showbackground\": true, \"ticks\": \"\", \"zerolinecolor\": \"white\"}, \"zaxis\": {\"backgroundcolor\": \"#E5ECF6\", \"gridcolor\": \"white\", \"gridwidth\": 2, \"linecolor\": \"white\", \"showbackground\": true, \"ticks\": \"\", \"zerolinecolor\": \"white\"}}, \"shapedefaults\": {\"line\": {\"color\": \"#2a3f5f\"}}, \"ternary\": {\"aaxis\": {\"gridcolor\": \"white\", \"linecolor\": \"white\", \"ticks\": \"\"}, \"baxis\": {\"gridcolor\": \"white\", \"linecolor\": \"white\", \"ticks\": \"\"}, \"bgcolor\": \"#E5ECF6\", \"caxis\": {\"gridcolor\": \"white\", \"linecolor\": \"white\", \"ticks\": \"\"}}, \"title\": {\"x\": 0.05}, \"xaxis\": {\"automargin\": true, \"gridcolor\": \"white\", \"linecolor\": \"white\", \"ticks\": \"\", \"title\": {\"standoff\": 15}, \"zerolinecolor\": \"white\", \"zerolinewidth\": 2}, \"yaxis\": {\"automargin\": true, \"gridcolor\": \"white\", \"linecolor\": \"white\", \"ticks\": \"\", \"title\": {\"standoff\": 15}, \"zerolinecolor\": \"white\", \"zerolinewidth\": 2}}}},                        {\"responsive\": true}                    ).then(function(){\n",
       "                            \n",
       "var gd = document.getElementById('d95e7d7a-04af-47e7-95f9-3d227ad1c76c');\n",
       "var x = new MutationObserver(function (mutations, observer) {{\n",
       "        var display = window.getComputedStyle(gd).display;\n",
       "        if (!display || display === 'none') {{\n",
       "            console.log([gd, 'removed!']);\n",
       "            Plotly.purge(gd);\n",
       "            observer.disconnect();\n",
       "        }}\n",
       "}});\n",
       "\n",
       "// Listen for the removal of the full notebook cells\n",
       "var notebookContainer = gd.closest('#notebook-container');\n",
       "if (notebookContainer) {{\n",
       "    x.observe(notebookContainer, {childList: true});\n",
       "}}\n",
       "\n",
       "// Listen for the clearing of the current output cell\n",
       "var outputEl = gd.closest('.output');\n",
       "if (outputEl) {{\n",
       "    x.observe(outputEl, {childList: true});\n",
       "}}\n",
       "\n",
       "                        })                };                });            </script>        </div>"
      ]
     },
     "metadata": {},
     "output_type": "display_data"
    }
   ],
   "source": [
    "bcr = base_calling_random(dfm)\n",
    "plotly_basecalling(*bcr, annotate=False)"
   ]
  },
  {
   "cell_type": "code",
   "execution_count": null,
   "id": "typical-cigarette",
   "metadata": {},
   "outputs": [],
   "source": []
  }
 ],
 "metadata": {
  "kernelspec": {
   "display_name": "Python 3",
   "language": "python",
   "name": "python3"
  },
  "language_info": {
   "codemirror_mode": {
    "name": "ipython",
    "version": 3
   },
   "file_extension": ".py",
   "mimetype": "text/x-python",
   "name": "python",
   "nbconvert_exporter": "python",
   "pygments_lexer": "ipython3",
   "version": "3.7.3"
  }
 },
 "nbformat": 4,
 "nbformat_minor": 5
}
