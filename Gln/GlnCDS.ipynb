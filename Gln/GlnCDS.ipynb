{
 "cells": [
  {
   "cell_type": "code",
   "execution_count": null,
   "id": "surface-volunteer",
   "metadata": {},
   "outputs": [],
   "source": [
    "import pandas as pd\n",
    "import matplotlib"
   ]
  },
  {
   "cell_type": "code",
   "execution_count": null,
   "id": "binary-stuart",
   "metadata": {},
   "outputs": [],
   "source": [
    "%run data.ipynb\n",
    "%run ../modules/preprocessing.ipynb\n",
    "%run ../modules/cds.ipynb\n",
    "%run ../modules/utils.ipynb"
   ]
  },
  {
   "cell_type": "code",
   "execution_count": null,
   "id": "matched-elephant",
   "metadata": {},
   "outputs": [],
   "source": [
    "path = \"/Users/bryan/Documents/ChenLab/DataYue/\"\n",
    "\"\"\"\n",
    "A_Gln:\n",
    "DrChen_tRNA_A_Gln.xlsx\t\t\tDrChen_tRNA_A_Gln_FA.xlsx\n",
    "DrChen_tRNA_A_Gln_A.xlsx\t\tDrChen_tRNA_A_Gln_FA_13_Batch2.xlsx\n",
    "DrChen_tRNA_A_Gln_A_FA.xlsx\n",
    "\n",
    "B_Gln:\n",
    "7_B_Gln.xlsx\t\t\t\tDrChen_tRNA_B_Gln_A_FA_20_Batch2.xlsx\n",
    "8_B_Gln_A.xlsx\t\t\t\tDrChen_tRNA_B_Gln_FA.xlsx\n",
    "B_Gln_Summary.docx\t\t\tDrChen_tRNA_B_Gln_FA_19_Batch2.xlsx\n",
    "DrChen_tRNA_B_Gln_A_FA.xlsx\n",
    "\"\"\"\n",
    "df1 = pd.read_excel('{}/{}/{}.xlsx'.format(path,'A_Gln', 'DrChen_tRNA_A_Gln'))\n",
    "df2 = pd.read_excel('{}/{}/{}.xlsx'.format(path,'A_Gln', 'DrChen_tRNA_A_Gln_A'))\n",
    "df13 = pd.read_excel('{}/{}/{}.xlsx'.format(path,'A_Gln', 'DrChen_tRNA_A_Gln_FA'))\n",
    "df13_2 = pd.read_excel('{}/{}/{}.xlsx'.format(path,'A_Gln', 'DrChen_tRNA_A_Gln_FA_13_Batch2'))\n",
    "df14 = pd.read_excel('{}/{}/{}.xlsx'.format(path,'A_Gln', 'DrChen_tRNA_A_Gln_A_FA'))\n",
    "\n",
    "df7 = pd.read_excel('{}/{}/{}.xlsx'.format(path,'B_Gln', '7_B_Gln'))\n",
    "df8 = pd.read_excel('{}/{}/{}.xlsx'.format(path,'B_Gln', '8_B_Gln_A'))\n",
    "df19 = pd.read_excel('{}/{}/{}.xlsx'.format(path,'B_Gln', 'DrChen_tRNA_B_Gln_FA'))\n",
    "df19_2 = pd.read_excel('{}/{}/{}.xlsx'.format(path,'B_Gln', 'DrChen_tRNA_B_Gln_FA_19_Batch2'))\n",
    "df20 = pd.read_excel('{}/{}/{}.xlsx'.format(path,'B_Gln', 'DrChen_tRNA_B_Gln_A_FA'))\n",
    "df20_2 = pd.read_excel('{}/{}/{}.xlsx'.format(path,'B_Gln', 'DrChen_tRNA_B_Gln_A_FA_20_Batch2'))\n",
    "\n",
    "df1 = thermo_df(df1)\n",
    "df2 = thermo_df(df2)\n",
    "df13 = thermo_df(df13)\n",
    "df13_2 = thermo_df(df13_2)\n",
    "df14 = thermo_df(df14)\n",
    "\n",
    "df7 = thermo_df(df7)\n",
    "df8 = thermo_df(df8)\n",
    "df19 = thermo_df(df19)\n",
    "df19_2 = thermo_df(df19_2)\n",
    "df20 = thermo_df(df20)\n",
    "df20_2 = thermo_df(df20_2)"
   ]
  },
  {
   "cell_type": "code",
   "execution_count": null,
   "id": "eight-lending",
   "metadata": {},
   "outputs": [],
   "source": [
    "# df13_2\n",
    "mass = 5271.638\n",
    "# mass = 6591.832\n",
    "df_left_gap = dots_in_left_gap(df13_2, mass)\n",
    "df_left_gap.shape"
   ]
  },
  {
   "cell_type": "code",
   "execution_count": null,
   "id": "judicial-champagne",
   "metadata": {},
   "outputs": [],
   "source": [
    "plotly_zone(df_left_gap)\n",
    "df_left_gap.to_excel('~/Downloads/left_gap.xlsx')"
   ]
  },
  {
   "cell_type": "code",
   "execution_count": null,
   "id": "geographic-accuracy",
   "metadata": {},
   "outputs": [],
   "source": [
    "df_sample = df13_2.copy()\n",
    "df_sample = df_sample[df_sample.Mass>24000]\n",
    "shift = 3*K\n",
    "dfm1 = match_dfs(df_sample, df_sample, shift=-1*shift)\n",
    "dfm2 = match_dfs(df_sample, df_sample, shift=1*shift)\n",
    "print(dfm1.shape, dfm2.shape)\n",
    "plotly_zones(dfm1, dfm2, names=['left', 'right'])\n",
    "dfm1.shape"
   ]
  },
  {
   "cell_type": "code",
   "execution_count": null,
   "id": "guided-quarterly",
   "metadata": {},
   "outputs": [],
   "source": [
    "# df_bases = list()\n",
    "# df_bases.append(dfm1)\n",
    "plotly_multi_zones(df_bases)\n",
    "df_merge = pd.concat(df_bases).drop_duplicates(subset=['Mass'])\n",
    "plotly_zones(df_sample[df_sample.RT>1], df_merge)\n",
    "df_sample.shape, sum([i.shape[0] for i in df_bases]), df_merge.shape"
   ]
  },
  {
   "cell_type": "code",
   "execution_count": null,
   "id": "educated-blair",
   "metadata": {},
   "outputs": [],
   "source": [
    "df_common = match_dfs(df13, df13_2)\n",
    "df13_2_excluded = df13_2.drop(df_common.index)\n",
    "df_merge = pd.concat([df13, df13_2_excluded])\n",
    "plotly_zone(df_merge)\n",
    "df_merge.shape"
   ]
  },
  {
   "cell_type": "code",
   "execution_count": null,
   "id": "better-spine",
   "metadata": {},
   "outputs": [],
   "source": [
    "# fullmass = 24160.21 \n",
    "# fullmass = 24159.22\n",
    "fullmass = 24361.07\n",
    "df_src = df_merge.sort_values('Vol', ascending=False)#.iloc[:2000]\n",
    "\n",
    "dfs = computational_data_seperation(df_src, df_src, full_mass=fullmass)\n",
    "dfs[0].shape"
   ]
  },
  {
   "cell_type": "code",
   "execution_count": null,
   "id": "hollow-moderator",
   "metadata": {},
   "outputs": [],
   "source": [
    "# plotly_zones(dfs_160[0], dfs_274[0])\n",
    "plotly_zones(dfs_160[0], dfs[0])\n",
    "# df_sample = df1\n",
    "# df_top = df_sample[df_sample.Mass>24000]\n",
    "# plotly_zone(df_top, y='Vol')"
   ]
  },
  {
   "cell_type": "code",
   "execution_count": null,
   "id": "proved-mexican",
   "metadata": {},
   "outputs": [],
   "source": [
    "# df_gap_dots = dots_in_mid_gap(df_src, 17879.42, 19856.72)\n",
    "df_gap_dots = dots_in_mid_gap(df20, 4292.483, 6269.774)\n",
    "plotly_zone(df_gap_dots)\n",
    "df_gap_dots"
   ]
  },
  {
   "cell_type": "code",
   "execution_count": null,
   "id": "technical-violation",
   "metadata": {},
   "outputs": [],
   "source": [
    "19856.72 - 18187.45"
   ]
  },
  {
   "cell_type": "code",
   "execution_count": null,
   "id": "median-double",
   "metadata": {},
   "outputs": [],
   "source": [
    "idxs = list()\n",
    "# create our callback function\n",
    "def on_selection(trace, points, selector):\n",
    "    print('points {}'.format(points.point_inds) )\n",
    "    idxs.extend(points.point_inds)\n",
    "\n",
    "def on_click(trace, points, selector):\n",
    "#     print('points {}'.format(points.point_inds) )\n",
    "    idxs.extend(points.point_inds)\n",
    "\n",
    "df_sample = dfs_131[0]\n",
    "f = zone_selection(df_sample, on_selection=on_selection, on_click=on_click)\n",
    "f"
   ]
  },
  {
   "cell_type": "code",
   "execution_count": null,
   "id": "speaking-conservation",
   "metadata": {},
   "outputs": [],
   "source": [
    "df_chosen = df_sample.iloc[idxs]\n",
    "# df_zone = df_sample.drop(df_chosen.index)\n",
    "df_chosen.shape"
   ]
  },
  {
   "cell_type": "code",
   "execution_count": null,
   "id": "introductory-transaction",
   "metadata": {},
   "outputs": [],
   "source": [
    "df_3p = df_chosen.copy()\n",
    "# df_5p = df_sample.drop(df_3p.index)"
   ]
  },
  {
   "cell_type": "code",
   "execution_count": null,
   "id": "continental-residence",
   "metadata": {},
   "outputs": [],
   "source": [
    "df_5p = df_chosen.copy()"
   ]
  },
  {
   "cell_type": "code",
   "execution_count": null,
   "id": "intended-retirement",
   "metadata": {},
   "outputs": [],
   "source": [
    "fullmass = 24160.21 "
   ]
  },
  {
   "cell_type": "code",
   "execution_count": null,
   "id": "humanitarian-falls",
   "metadata": {},
   "outputs": [],
   "source": [
    "plotly_zones(df_5p, df_3p)"
   ]
  },
  {
   "cell_type": "code",
   "execution_count": null,
   "id": "thousand-bottom",
   "metadata": {},
   "outputs": [],
   "source": [
    "%run ../modules/utils.ipynb\n",
    "orientation = 3\n",
    "df_skeleton = df_5p if orientation == 5 else df_3p\n",
    "df_sample = df_src #df_5p if orientation == 5 else df_3p\n",
    "fullmass_dot = df_src[(df_src.Mass>fullmass-0.1) & (df_src.Mass<fullmass+0.1)]\n",
    "print(fullmass_dot)\n",
    "df_gap_160_3p = find_gap_dots(df_sample, df_skeleton, fullmass_dot, \n",
    "                              major=True, stop_at=20000, orientation=orientation)"
   ]
  },
  {
   "cell_type": "code",
   "execution_count": null,
   "id": "noted-fisher",
   "metadata": {},
   "outputs": [],
   "source": [
    "plotly_zones(df_5p, df_gap_160_5p)\n",
    "plotly_zones(df_3p, df_gap_160_3p)\n",
    "\n",
    "dfa = df_5p.copy()\n",
    "dfb = df_gap_160_5p.copy()\n",
    "dfa['is5p'] = True\n",
    "dfb['is5p'] = False\n",
    "df_merge = pd.concat([dfa, dfb])\n",
    "df_merge.to_excel('~/Downloads/Gln_160_masssum.xlsx')"
   ]
  },
  {
   "cell_type": "code",
   "execution_count": null,
   "id": "cooked-destiny",
   "metadata": {},
   "outputs": [],
   "source": []
  }
 ],
 "metadata": {
  "kernelspec": {
   "display_name": "Python 3",
   "language": "python",
   "name": "python3"
  },
  "language_info": {
   "codemirror_mode": {
    "name": "ipython",
    "version": 3
   },
   "file_extension": ".py",
   "mimetype": "text/x-python",
   "name": "python",
   "nbconvert_exporter": "python",
   "pygments_lexer": "ipython3",
   "version": "3.7.3"
  }
 },
 "nbformat": 4,
 "nbformat_minor": 5
}
