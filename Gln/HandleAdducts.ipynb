{
 "cells": [
  {
   "cell_type": "code",
   "execution_count": 1,
   "id": "approximate-grave",
   "metadata": {},
   "outputs": [],
   "source": [
    "import pandas as pd\n",
    "import matplotlib"
   ]
  },
  {
   "cell_type": "code",
   "execution_count": 630,
   "id": "female-preservation",
   "metadata": {},
   "outputs": [],
   "source": [
    "%run data.ipynb\n",
    "%run ../modules/preprocessing.ipynb\n",
    "%run ../modules/cds.ipynb\n",
    "%run ../modules/utils.ipynb"
   ]
  },
  {
   "cell_type": "code",
   "execution_count": null,
   "id": "broad-islam",
   "metadata": {},
   "outputs": [],
   "source": []
  },
  {
   "cell_type": "code",
   "execution_count": 455,
   "id": "closing-smoke",
   "metadata": {},
   "outputs": [],
   "source": [
    "path = \"/Users/bryan/Documents/ChenLab/DataYue/\"\n",
    "\"\"\"\n",
    "A_Gln:\n",
    "DrChen_tRNA_A_Gln.xlsx\t\t\tDrChen_tRNA_A_Gln_FA.xlsx\n",
    "DrChen_tRNA_A_Gln_A.xlsx\t\tDrChen_tRNA_A_Gln_FA_13_Batch2.xlsx\n",
    "DrChen_tRNA_A_Gln_A_FA.xlsx\n",
    "\n",
    "B_Gln:\n",
    "7_B_Gln.xlsx\t\t\t\tDrChen_tRNA_B_Gln_A_FA_20_Batch2.xlsx\n",
    "8_B_Gln_A.xlsx\t\t\t\tDrChen_tRNA_B_Gln_FA.xlsx\n",
    "B_Gln_Summary.docx\t\t\tDrChen_tRNA_B_Gln_FA_19_Batch2.xlsx\n",
    "DrChen_tRNA_B_Gln_A_FA.xlsx\n",
    "\"\"\"\n",
    "df1 = pd.read_excel('{}/{}/{}.xlsx'.format(path,'A_Gln', 'DrChen_tRNA_A_Gln'))\n",
    "df2 = pd.read_excel('{}/{}/{}.xlsx'.format(path,'A_Gln', 'DrChen_tRNA_A_Gln_A'))\n",
    "df13 = pd.read_excel('{}/{}/{}.xlsx'.format(path,'A_Gln', 'DrChen_tRNA_A_Gln_FA'))\n",
    "df13_2 = pd.read_excel('{}/{}/{}.xlsx'.format(path,'A_Gln', 'DrChen_tRNA_A_Gln_FA_13_Batch2'))\n",
    "df14 = pd.read_excel('{}/{}/{}.xlsx'.format(path,'A_Gln', 'DrChen_tRNA_A_Gln_A_FA'))\n",
    "\n",
    "df7 = pd.read_excel('{}/{}/{}.xlsx'.format(path,'B_Gln', '7_B_Gln'))\n",
    "df8 = pd.read_excel('{}/{}/{}.xlsx'.format(path,'B_Gln', '8_B_Gln_A'))\n",
    "df19 = pd.read_excel('{}/{}/{}.xlsx'.format(path,'B_Gln', 'DrChen_tRNA_B_Gln_FA'))\n",
    "df19_2 = pd.read_excel('{}/{}/{}.xlsx'.format(path,'B_Gln', 'DrChen_tRNA_B_Gln_FA_19_Batch2'))\n",
    "df20 = pd.read_excel('{}/{}/{}.xlsx'.format(path,'B_Gln', 'DrChen_tRNA_B_Gln_A_FA'))\n",
    "df20_2 = pd.read_excel('{}/{}/{}.xlsx'.format(path,'B_Gln', 'DrChen_tRNA_B_Gln_A_FA_20_Batch2'))\n",
    "\n",
    "df1 = thermo_df(df1)\n",
    "df2 = thermo_df(df2)\n",
    "df13 = thermo_df(df13)\n",
    "df13_2 = thermo_df(df13_2)\n",
    "df14 = thermo_df(df14)\n",
    "\n",
    "df7 = thermo_df(df7)\n",
    "df8 = thermo_df(df8)\n",
    "df19 = thermo_df(df19)\n",
    "df19_2 = thermo_df(df19_2)\n",
    "df20 = thermo_df(df20)\n",
    "df20_2 = thermo_df(df20_2)"
   ]
  },
  {
   "cell_type": "code",
   "execution_count": 719,
   "id": "paperback-suspect",
   "metadata": {},
   "outputs": [
    {
     "data": {
      "application/vnd.plotly.v1+json": {
       "config": {
        "plotlyServerURL": "https://plot.ly"
       },
       "data": [
        {
         "hovertemplate": "Mass=%{x}<br>Vol=%{y}<extra></extra>",
         "legendgroup": "",
         "marker": {
          "color": "#636efa",
          "symbol": "circle"
         },
         "mode": "markers",
         "name": "",
         "orientation": "v",
         "showlegend": false,
         "type": "scatter",
         "x": [
          24274.2153954554,
          24294.186110206,
          24255.2450532358,
          24311.1804648306,
          24331.1498750105,
          24350.1217460797,
          24217.2780567485,
          24237.2559338324,
          24388.0862295545,
          24370.1017627704,
          24285.1777094061,
          24426.0378688137,
          24361.0729126715,
          24330.1567015343,
          24265.1969958252,
          24159.2655752119,
          24216.2820955423,
          24379.0524892477,
          24416.0081557757,
          24406.0455266371,
          24351.1179990987,
          24199.2811430781,
          24341.0952473793,
          24228.2442837617,
          24313.1562283043,
          24322.1299152478,
          24302.1553463156,
          24198.2887512574,
          24445.0153495907,
          24340.1009660667,
          24425.0354771698,
          24342.0939211802,
          24435.980142561,
          24247.219971967,
          24254.2460594735,
          24172.3133737758,
          24397.0286437901,
          24462.9954598419,
          24481.9742613297,
          24227.2414596032,
          24310.1432231514,
          24453.9707454396,
          24304.1399733362
         ],
         "xaxis": "x",
         "y": [
          202613.46,
          181855.47,
          164860.67,
          164495.43,
          150030.75,
          127867.46,
          107734.85,
          98389.72,
          93752.38,
          86832.07,
          66961.32,
          55329.19,
          52005.95,
          48749.2,
          45235.11,
          43612.84,
          43287.44,
          42699.01,
          41963.32,
          41850.68,
          41191.89,
          38200.43,
          36759.46,
          32159.62,
          32055,
          30593.44,
          29603.95,
          28574.85,
          28440.18,
          21167.92,
          20762.43,
          20121.49,
          20048,
          19977.41,
          18450.25,
          16131.67,
          15140.46,
          15068.36,
          15007.06,
          13839.54,
          12695.1,
          12447.37,
          11192.13
         ],
         "yaxis": "y"
        }
       ],
       "layout": {
        "legend": {
         "tracegroupgap": 0
        },
        "margin": {
         "t": 60
        },
        "template": {
         "data": {
          "bar": [
           {
            "error_x": {
             "color": "#2a3f5f"
            },
            "error_y": {
             "color": "#2a3f5f"
            },
            "marker": {
             "line": {
              "color": "#E5ECF6",
              "width": 0.5
             }
            },
            "type": "bar"
           }
          ],
          "barpolar": [
           {
            "marker": {
             "line": {
              "color": "#E5ECF6",
              "width": 0.5
             }
            },
            "type": "barpolar"
           }
          ],
          "carpet": [
           {
            "aaxis": {
             "endlinecolor": "#2a3f5f",
             "gridcolor": "white",
             "linecolor": "white",
             "minorgridcolor": "white",
             "startlinecolor": "#2a3f5f"
            },
            "baxis": {
             "endlinecolor": "#2a3f5f",
             "gridcolor": "white",
             "linecolor": "white",
             "minorgridcolor": "white",
             "startlinecolor": "#2a3f5f"
            },
            "type": "carpet"
           }
          ],
          "choropleth": [
           {
            "colorbar": {
             "outlinewidth": 0,
             "ticks": ""
            },
            "type": "choropleth"
           }
          ],
          "contour": [
           {
            "colorbar": {
             "outlinewidth": 0,
             "ticks": ""
            },
            "colorscale": [
             [
              0,
              "#0d0887"
             ],
             [
              0.1111111111111111,
              "#46039f"
             ],
             [
              0.2222222222222222,
              "#7201a8"
             ],
             [
              0.3333333333333333,
              "#9c179e"
             ],
             [
              0.4444444444444444,
              "#bd3786"
             ],
             [
              0.5555555555555556,
              "#d8576b"
             ],
             [
              0.6666666666666666,
              "#ed7953"
             ],
             [
              0.7777777777777778,
              "#fb9f3a"
             ],
             [
              0.8888888888888888,
              "#fdca26"
             ],
             [
              1,
              "#f0f921"
             ]
            ],
            "type": "contour"
           }
          ],
          "contourcarpet": [
           {
            "colorbar": {
             "outlinewidth": 0,
             "ticks": ""
            },
            "type": "contourcarpet"
           }
          ],
          "heatmap": [
           {
            "colorbar": {
             "outlinewidth": 0,
             "ticks": ""
            },
            "colorscale": [
             [
              0,
              "#0d0887"
             ],
             [
              0.1111111111111111,
              "#46039f"
             ],
             [
              0.2222222222222222,
              "#7201a8"
             ],
             [
              0.3333333333333333,
              "#9c179e"
             ],
             [
              0.4444444444444444,
              "#bd3786"
             ],
             [
              0.5555555555555556,
              "#d8576b"
             ],
             [
              0.6666666666666666,
              "#ed7953"
             ],
             [
              0.7777777777777778,
              "#fb9f3a"
             ],
             [
              0.8888888888888888,
              "#fdca26"
             ],
             [
              1,
              "#f0f921"
             ]
            ],
            "type": "heatmap"
           }
          ],
          "heatmapgl": [
           {
            "colorbar": {
             "outlinewidth": 0,
             "ticks": ""
            },
            "colorscale": [
             [
              0,
              "#0d0887"
             ],
             [
              0.1111111111111111,
              "#46039f"
             ],
             [
              0.2222222222222222,
              "#7201a8"
             ],
             [
              0.3333333333333333,
              "#9c179e"
             ],
             [
              0.4444444444444444,
              "#bd3786"
             ],
             [
              0.5555555555555556,
              "#d8576b"
             ],
             [
              0.6666666666666666,
              "#ed7953"
             ],
             [
              0.7777777777777778,
              "#fb9f3a"
             ],
             [
              0.8888888888888888,
              "#fdca26"
             ],
             [
              1,
              "#f0f921"
             ]
            ],
            "type": "heatmapgl"
           }
          ],
          "histogram": [
           {
            "marker": {
             "colorbar": {
              "outlinewidth": 0,
              "ticks": ""
             }
            },
            "type": "histogram"
           }
          ],
          "histogram2d": [
           {
            "colorbar": {
             "outlinewidth": 0,
             "ticks": ""
            },
            "colorscale": [
             [
              0,
              "#0d0887"
             ],
             [
              0.1111111111111111,
              "#46039f"
             ],
             [
              0.2222222222222222,
              "#7201a8"
             ],
             [
              0.3333333333333333,
              "#9c179e"
             ],
             [
              0.4444444444444444,
              "#bd3786"
             ],
             [
              0.5555555555555556,
              "#d8576b"
             ],
             [
              0.6666666666666666,
              "#ed7953"
             ],
             [
              0.7777777777777778,
              "#fb9f3a"
             ],
             [
              0.8888888888888888,
              "#fdca26"
             ],
             [
              1,
              "#f0f921"
             ]
            ],
            "type": "histogram2d"
           }
          ],
          "histogram2dcontour": [
           {
            "colorbar": {
             "outlinewidth": 0,
             "ticks": ""
            },
            "colorscale": [
             [
              0,
              "#0d0887"
             ],
             [
              0.1111111111111111,
              "#46039f"
             ],
             [
              0.2222222222222222,
              "#7201a8"
             ],
             [
              0.3333333333333333,
              "#9c179e"
             ],
             [
              0.4444444444444444,
              "#bd3786"
             ],
             [
              0.5555555555555556,
              "#d8576b"
             ],
             [
              0.6666666666666666,
              "#ed7953"
             ],
             [
              0.7777777777777778,
              "#fb9f3a"
             ],
             [
              0.8888888888888888,
              "#fdca26"
             ],
             [
              1,
              "#f0f921"
             ]
            ],
            "type": "histogram2dcontour"
           }
          ],
          "mesh3d": [
           {
            "colorbar": {
             "outlinewidth": 0,
             "ticks": ""
            },
            "type": "mesh3d"
           }
          ],
          "parcoords": [
           {
            "line": {
             "colorbar": {
              "outlinewidth": 0,
              "ticks": ""
             }
            },
            "type": "parcoords"
           }
          ],
          "pie": [
           {
            "automargin": true,
            "type": "pie"
           }
          ],
          "scatter": [
           {
            "marker": {
             "colorbar": {
              "outlinewidth": 0,
              "ticks": ""
             }
            },
            "type": "scatter"
           }
          ],
          "scatter3d": [
           {
            "line": {
             "colorbar": {
              "outlinewidth": 0,
              "ticks": ""
             }
            },
            "marker": {
             "colorbar": {
              "outlinewidth": 0,
              "ticks": ""
             }
            },
            "type": "scatter3d"
           }
          ],
          "scattercarpet": [
           {
            "marker": {
             "colorbar": {
              "outlinewidth": 0,
              "ticks": ""
             }
            },
            "type": "scattercarpet"
           }
          ],
          "scattergeo": [
           {
            "marker": {
             "colorbar": {
              "outlinewidth": 0,
              "ticks": ""
             }
            },
            "type": "scattergeo"
           }
          ],
          "scattergl": [
           {
            "marker": {
             "colorbar": {
              "outlinewidth": 0,
              "ticks": ""
             }
            },
            "type": "scattergl"
           }
          ],
          "scattermapbox": [
           {
            "marker": {
             "colorbar": {
              "outlinewidth": 0,
              "ticks": ""
             }
            },
            "type": "scattermapbox"
           }
          ],
          "scatterpolar": [
           {
            "marker": {
             "colorbar": {
              "outlinewidth": 0,
              "ticks": ""
             }
            },
            "type": "scatterpolar"
           }
          ],
          "scatterpolargl": [
           {
            "marker": {
             "colorbar": {
              "outlinewidth": 0,
              "ticks": ""
             }
            },
            "type": "scatterpolargl"
           }
          ],
          "scatterternary": [
           {
            "marker": {
             "colorbar": {
              "outlinewidth": 0,
              "ticks": ""
             }
            },
            "type": "scatterternary"
           }
          ],
          "surface": [
           {
            "colorbar": {
             "outlinewidth": 0,
             "ticks": ""
            },
            "colorscale": [
             [
              0,
              "#0d0887"
             ],
             [
              0.1111111111111111,
              "#46039f"
             ],
             [
              0.2222222222222222,
              "#7201a8"
             ],
             [
              0.3333333333333333,
              "#9c179e"
             ],
             [
              0.4444444444444444,
              "#bd3786"
             ],
             [
              0.5555555555555556,
              "#d8576b"
             ],
             [
              0.6666666666666666,
              "#ed7953"
             ],
             [
              0.7777777777777778,
              "#fb9f3a"
             ],
             [
              0.8888888888888888,
              "#fdca26"
             ],
             [
              1,
              "#f0f921"
             ]
            ],
            "type": "surface"
           }
          ],
          "table": [
           {
            "cells": {
             "fill": {
              "color": "#EBF0F8"
             },
             "line": {
              "color": "white"
             }
            },
            "header": {
             "fill": {
              "color": "#C8D4E3"
             },
             "line": {
              "color": "white"
             }
            },
            "type": "table"
           }
          ]
         },
         "layout": {
          "annotationdefaults": {
           "arrowcolor": "#2a3f5f",
           "arrowhead": 0,
           "arrowwidth": 1
          },
          "autotypenumbers": "strict",
          "coloraxis": {
           "colorbar": {
            "outlinewidth": 0,
            "ticks": ""
           }
          },
          "colorscale": {
           "diverging": [
            [
             0,
             "#8e0152"
            ],
            [
             0.1,
             "#c51b7d"
            ],
            [
             0.2,
             "#de77ae"
            ],
            [
             0.3,
             "#f1b6da"
            ],
            [
             0.4,
             "#fde0ef"
            ],
            [
             0.5,
             "#f7f7f7"
            ],
            [
             0.6,
             "#e6f5d0"
            ],
            [
             0.7,
             "#b8e186"
            ],
            [
             0.8,
             "#7fbc41"
            ],
            [
             0.9,
             "#4d9221"
            ],
            [
             1,
             "#276419"
            ]
           ],
           "sequential": [
            [
             0,
             "#0d0887"
            ],
            [
             0.1111111111111111,
             "#46039f"
            ],
            [
             0.2222222222222222,
             "#7201a8"
            ],
            [
             0.3333333333333333,
             "#9c179e"
            ],
            [
             0.4444444444444444,
             "#bd3786"
            ],
            [
             0.5555555555555556,
             "#d8576b"
            ],
            [
             0.6666666666666666,
             "#ed7953"
            ],
            [
             0.7777777777777778,
             "#fb9f3a"
            ],
            [
             0.8888888888888888,
             "#fdca26"
            ],
            [
             1,
             "#f0f921"
            ]
           ],
           "sequentialminus": [
            [
             0,
             "#0d0887"
            ],
            [
             0.1111111111111111,
             "#46039f"
            ],
            [
             0.2222222222222222,
             "#7201a8"
            ],
            [
             0.3333333333333333,
             "#9c179e"
            ],
            [
             0.4444444444444444,
             "#bd3786"
            ],
            [
             0.5555555555555556,
             "#d8576b"
            ],
            [
             0.6666666666666666,
             "#ed7953"
            ],
            [
             0.7777777777777778,
             "#fb9f3a"
            ],
            [
             0.8888888888888888,
             "#fdca26"
            ],
            [
             1,
             "#f0f921"
            ]
           ]
          },
          "colorway": [
           "#636efa",
           "#EF553B",
           "#00cc96",
           "#ab63fa",
           "#FFA15A",
           "#19d3f3",
           "#FF6692",
           "#B6E880",
           "#FF97FF",
           "#FECB52"
          ],
          "font": {
           "color": "#2a3f5f"
          },
          "geo": {
           "bgcolor": "white",
           "lakecolor": "white",
           "landcolor": "#E5ECF6",
           "showlakes": true,
           "showland": true,
           "subunitcolor": "white"
          },
          "hoverlabel": {
           "align": "left"
          },
          "hovermode": "closest",
          "mapbox": {
           "style": "light"
          },
          "paper_bgcolor": "white",
          "plot_bgcolor": "#E5ECF6",
          "polar": {
           "angularaxis": {
            "gridcolor": "white",
            "linecolor": "white",
            "ticks": ""
           },
           "bgcolor": "#E5ECF6",
           "radialaxis": {
            "gridcolor": "white",
            "linecolor": "white",
            "ticks": ""
           }
          },
          "scene": {
           "xaxis": {
            "backgroundcolor": "#E5ECF6",
            "gridcolor": "white",
            "gridwidth": 2,
            "linecolor": "white",
            "showbackground": true,
            "ticks": "",
            "zerolinecolor": "white"
           },
           "yaxis": {
            "backgroundcolor": "#E5ECF6",
            "gridcolor": "white",
            "gridwidth": 2,
            "linecolor": "white",
            "showbackground": true,
            "ticks": "",
            "zerolinecolor": "white"
           },
           "zaxis": {
            "backgroundcolor": "#E5ECF6",
            "gridcolor": "white",
            "gridwidth": 2,
            "linecolor": "white",
            "showbackground": true,
            "ticks": "",
            "zerolinecolor": "white"
           }
          },
          "shapedefaults": {
           "line": {
            "color": "#2a3f5f"
           }
          },
          "ternary": {
           "aaxis": {
            "gridcolor": "white",
            "linecolor": "white",
            "ticks": ""
           },
           "baxis": {
            "gridcolor": "white",
            "linecolor": "white",
            "ticks": ""
           },
           "bgcolor": "#E5ECF6",
           "caxis": {
            "gridcolor": "white",
            "linecolor": "white",
            "ticks": ""
           }
          },
          "title": {
           "x": 0.05
          },
          "xaxis": {
           "automargin": true,
           "gridcolor": "white",
           "linecolor": "white",
           "ticks": "",
           "title": {
            "standoff": 15
           },
           "zerolinecolor": "white",
           "zerolinewidth": 2
          },
          "yaxis": {
           "automargin": true,
           "gridcolor": "white",
           "linecolor": "white",
           "ticks": "",
           "title": {
            "standoff": 15
           },
           "zerolinecolor": "white",
           "zerolinewidth": 2
          }
         }
        },
        "xaxis": {
         "anchor": "y",
         "domain": [
          0,
          1
         ],
         "title": {
          "text": "Mass"
         }
        },
        "yaxis": {
         "anchor": "x",
         "domain": [
          0,
          1
         ],
         "title": {
          "text": "Vol"
         }
        }
       }
      },
      "text/html": [
       "<div>                            <div id=\"9c445065-ea86-4df8-94ba-f6d81acde62f\" class=\"plotly-graph-div\" style=\"height:525px; width:100%;\"></div>            <script type=\"text/javascript\">                require([\"plotly\"], function(Plotly) {                    window.PLOTLYENV=window.PLOTLYENV || {};                                    if (document.getElementById(\"9c445065-ea86-4df8-94ba-f6d81acde62f\")) {                    Plotly.newPlot(                        \"9c445065-ea86-4df8-94ba-f6d81acde62f\",                        [{\"hovertemplate\": \"Mass=%{x}<br>Vol=%{y}<extra></extra>\", \"legendgroup\": \"\", \"marker\": {\"color\": \"#636efa\", \"symbol\": \"circle\"}, \"mode\": \"markers\", \"name\": \"\", \"orientation\": \"v\", \"showlegend\": false, \"type\": \"scatter\", \"x\": [24274.2153954554, 24294.186110206, 24255.2450532358, 24311.1804648306, 24331.1498750105, 24350.1217460797, 24217.2780567485, 24237.2559338324, 24388.0862295545, 24370.1017627704, 24285.1777094061, 24426.0378688137, 24361.0729126715, 24330.1567015343, 24265.1969958252, 24159.2655752119, 24216.2820955423, 24379.0524892477, 24416.0081557757, 24406.0455266371, 24351.1179990987, 24199.2811430781, 24341.0952473793, 24228.2442837617, 24313.1562283043, 24322.1299152478, 24302.1553463156, 24198.2887512574, 24445.0153495907, 24340.1009660667, 24425.0354771698, 24342.0939211802, 24435.980142561, 24247.219971967, 24254.2460594735, 24172.3133737758, 24397.0286437901, 24462.9954598419, 24481.9742613297, 24227.2414596032, 24310.1432231514, 24453.9707454396, 24304.1399733362], \"xaxis\": \"x\", \"y\": [202613.46, 181855.47, 164860.67, 164495.43, 150030.75, 127867.46, 107734.85, 98389.72, 93752.38, 86832.07, 66961.32, 55329.19, 52005.95, 48749.2, 45235.11, 43612.84, 43287.44, 42699.01, 41963.32, 41850.68, 41191.89, 38200.43, 36759.46, 32159.62, 32055.0, 30593.44, 29603.95, 28574.85, 28440.18, 21167.92, 20762.43, 20121.49, 20048.0, 19977.41, 18450.25, 16131.67, 15140.46, 15068.36, 15007.06, 13839.54, 12695.1, 12447.37, 11192.13], \"yaxis\": \"y\"}],                        {\"legend\": {\"tracegroupgap\": 0}, \"margin\": {\"t\": 60}, \"template\": {\"data\": {\"bar\": [{\"error_x\": {\"color\": \"#2a3f5f\"}, \"error_y\": {\"color\": \"#2a3f5f\"}, \"marker\": {\"line\": {\"color\": \"#E5ECF6\", \"width\": 0.5}}, \"type\": \"bar\"}], \"barpolar\": [{\"marker\": {\"line\": {\"color\": \"#E5ECF6\", \"width\": 0.5}}, \"type\": \"barpolar\"}], \"carpet\": [{\"aaxis\": {\"endlinecolor\": \"#2a3f5f\", \"gridcolor\": \"white\", \"linecolor\": \"white\", \"minorgridcolor\": \"white\", \"startlinecolor\": \"#2a3f5f\"}, \"baxis\": {\"endlinecolor\": \"#2a3f5f\", \"gridcolor\": \"white\", \"linecolor\": \"white\", \"minorgridcolor\": \"white\", \"startlinecolor\": \"#2a3f5f\"}, \"type\": \"carpet\"}], \"choropleth\": [{\"colorbar\": {\"outlinewidth\": 0, \"ticks\": \"\"}, \"type\": \"choropleth\"}], \"contour\": [{\"colorbar\": {\"outlinewidth\": 0, \"ticks\": \"\"}, \"colorscale\": [[0.0, \"#0d0887\"], [0.1111111111111111, \"#46039f\"], [0.2222222222222222, \"#7201a8\"], [0.3333333333333333, \"#9c179e\"], [0.4444444444444444, \"#bd3786\"], [0.5555555555555556, \"#d8576b\"], [0.6666666666666666, \"#ed7953\"], [0.7777777777777778, \"#fb9f3a\"], [0.8888888888888888, \"#fdca26\"], [1.0, \"#f0f921\"]], \"type\": \"contour\"}], \"contourcarpet\": [{\"colorbar\": {\"outlinewidth\": 0, \"ticks\": \"\"}, \"type\": \"contourcarpet\"}], \"heatmap\": [{\"colorbar\": {\"outlinewidth\": 0, \"ticks\": \"\"}, \"colorscale\": [[0.0, \"#0d0887\"], [0.1111111111111111, \"#46039f\"], [0.2222222222222222, \"#7201a8\"], [0.3333333333333333, \"#9c179e\"], [0.4444444444444444, \"#bd3786\"], [0.5555555555555556, \"#d8576b\"], [0.6666666666666666, \"#ed7953\"], [0.7777777777777778, \"#fb9f3a\"], [0.8888888888888888, \"#fdca26\"], [1.0, \"#f0f921\"]], \"type\": \"heatmap\"}], \"heatmapgl\": [{\"colorbar\": {\"outlinewidth\": 0, \"ticks\": \"\"}, \"colorscale\": [[0.0, \"#0d0887\"], [0.1111111111111111, \"#46039f\"], [0.2222222222222222, \"#7201a8\"], [0.3333333333333333, \"#9c179e\"], [0.4444444444444444, \"#bd3786\"], [0.5555555555555556, \"#d8576b\"], [0.6666666666666666, \"#ed7953\"], [0.7777777777777778, \"#fb9f3a\"], [0.8888888888888888, \"#fdca26\"], [1.0, \"#f0f921\"]], \"type\": \"heatmapgl\"}], \"histogram\": [{\"marker\": {\"colorbar\": {\"outlinewidth\": 0, \"ticks\": \"\"}}, \"type\": \"histogram\"}], \"histogram2d\": [{\"colorbar\": {\"outlinewidth\": 0, \"ticks\": \"\"}, \"colorscale\": [[0.0, \"#0d0887\"], [0.1111111111111111, \"#46039f\"], [0.2222222222222222, \"#7201a8\"], [0.3333333333333333, \"#9c179e\"], [0.4444444444444444, \"#bd3786\"], [0.5555555555555556, \"#d8576b\"], [0.6666666666666666, \"#ed7953\"], [0.7777777777777778, \"#fb9f3a\"], [0.8888888888888888, \"#fdca26\"], [1.0, \"#f0f921\"]], \"type\": \"histogram2d\"}], \"histogram2dcontour\": [{\"colorbar\": {\"outlinewidth\": 0, \"ticks\": \"\"}, \"colorscale\": [[0.0, \"#0d0887\"], [0.1111111111111111, \"#46039f\"], [0.2222222222222222, \"#7201a8\"], [0.3333333333333333, \"#9c179e\"], [0.4444444444444444, \"#bd3786\"], [0.5555555555555556, \"#d8576b\"], [0.6666666666666666, \"#ed7953\"], [0.7777777777777778, \"#fb9f3a\"], [0.8888888888888888, \"#fdca26\"], [1.0, \"#f0f921\"]], \"type\": \"histogram2dcontour\"}], \"mesh3d\": [{\"colorbar\": {\"outlinewidth\": 0, \"ticks\": \"\"}, \"type\": \"mesh3d\"}], \"parcoords\": [{\"line\": {\"colorbar\": {\"outlinewidth\": 0, \"ticks\": \"\"}}, \"type\": \"parcoords\"}], \"pie\": [{\"automargin\": true, \"type\": \"pie\"}], \"scatter\": [{\"marker\": {\"colorbar\": {\"outlinewidth\": 0, \"ticks\": \"\"}}, \"type\": \"scatter\"}], \"scatter3d\": [{\"line\": {\"colorbar\": {\"outlinewidth\": 0, \"ticks\": \"\"}}, \"marker\": {\"colorbar\": {\"outlinewidth\": 0, \"ticks\": \"\"}}, \"type\": \"scatter3d\"}], \"scattercarpet\": [{\"marker\": {\"colorbar\": {\"outlinewidth\": 0, \"ticks\": \"\"}}, \"type\": \"scattercarpet\"}], \"scattergeo\": [{\"marker\": {\"colorbar\": {\"outlinewidth\": 0, \"ticks\": \"\"}}, \"type\": \"scattergeo\"}], \"scattergl\": [{\"marker\": {\"colorbar\": {\"outlinewidth\": 0, \"ticks\": \"\"}}, \"type\": \"scattergl\"}], \"scattermapbox\": [{\"marker\": {\"colorbar\": {\"outlinewidth\": 0, \"ticks\": \"\"}}, \"type\": \"scattermapbox\"}], \"scatterpolar\": [{\"marker\": {\"colorbar\": {\"outlinewidth\": 0, \"ticks\": \"\"}}, \"type\": \"scatterpolar\"}], \"scatterpolargl\": [{\"marker\": {\"colorbar\": {\"outlinewidth\": 0, \"ticks\": \"\"}}, \"type\": \"scatterpolargl\"}], \"scatterternary\": [{\"marker\": {\"colorbar\": {\"outlinewidth\": 0, \"ticks\": \"\"}}, \"type\": \"scatterternary\"}], \"surface\": [{\"colorbar\": {\"outlinewidth\": 0, \"ticks\": \"\"}, \"colorscale\": [[0.0, \"#0d0887\"], [0.1111111111111111, \"#46039f\"], [0.2222222222222222, \"#7201a8\"], [0.3333333333333333, \"#9c179e\"], [0.4444444444444444, \"#bd3786\"], [0.5555555555555556, \"#d8576b\"], [0.6666666666666666, \"#ed7953\"], [0.7777777777777778, \"#fb9f3a\"], [0.8888888888888888, \"#fdca26\"], [1.0, \"#f0f921\"]], \"type\": \"surface\"}], \"table\": [{\"cells\": {\"fill\": {\"color\": \"#EBF0F8\"}, \"line\": {\"color\": \"white\"}}, \"header\": {\"fill\": {\"color\": \"#C8D4E3\"}, \"line\": {\"color\": \"white\"}}, \"type\": \"table\"}]}, \"layout\": {\"annotationdefaults\": {\"arrowcolor\": \"#2a3f5f\", \"arrowhead\": 0, \"arrowwidth\": 1}, \"autotypenumbers\": \"strict\", \"coloraxis\": {\"colorbar\": {\"outlinewidth\": 0, \"ticks\": \"\"}}, \"colorscale\": {\"diverging\": [[0, \"#8e0152\"], [0.1, \"#c51b7d\"], [0.2, \"#de77ae\"], [0.3, \"#f1b6da\"], [0.4, \"#fde0ef\"], [0.5, \"#f7f7f7\"], [0.6, \"#e6f5d0\"], [0.7, \"#b8e186\"], [0.8, \"#7fbc41\"], [0.9, \"#4d9221\"], [1, \"#276419\"]], \"sequential\": [[0.0, \"#0d0887\"], [0.1111111111111111, \"#46039f\"], [0.2222222222222222, \"#7201a8\"], [0.3333333333333333, \"#9c179e\"], [0.4444444444444444, \"#bd3786\"], [0.5555555555555556, \"#d8576b\"], [0.6666666666666666, \"#ed7953\"], [0.7777777777777778, \"#fb9f3a\"], [0.8888888888888888, \"#fdca26\"], [1.0, \"#f0f921\"]], \"sequentialminus\": [[0.0, \"#0d0887\"], [0.1111111111111111, \"#46039f\"], [0.2222222222222222, \"#7201a8\"], [0.3333333333333333, \"#9c179e\"], [0.4444444444444444, \"#bd3786\"], [0.5555555555555556, \"#d8576b\"], [0.6666666666666666, \"#ed7953\"], [0.7777777777777778, \"#fb9f3a\"], [0.8888888888888888, \"#fdca26\"], [1.0, \"#f0f921\"]]}, \"colorway\": [\"#636efa\", \"#EF553B\", \"#00cc96\", \"#ab63fa\", \"#FFA15A\", \"#19d3f3\", \"#FF6692\", \"#B6E880\", \"#FF97FF\", \"#FECB52\"], \"font\": {\"color\": \"#2a3f5f\"}, \"geo\": {\"bgcolor\": \"white\", \"lakecolor\": \"white\", \"landcolor\": \"#E5ECF6\", \"showlakes\": true, \"showland\": true, \"subunitcolor\": \"white\"}, \"hoverlabel\": {\"align\": \"left\"}, \"hovermode\": \"closest\", \"mapbox\": {\"style\": \"light\"}, \"paper_bgcolor\": \"white\", \"plot_bgcolor\": \"#E5ECF6\", \"polar\": {\"angularaxis\": {\"gridcolor\": \"white\", \"linecolor\": \"white\", \"ticks\": \"\"}, \"bgcolor\": \"#E5ECF6\", \"radialaxis\": {\"gridcolor\": \"white\", \"linecolor\": \"white\", \"ticks\": \"\"}}, \"scene\": {\"xaxis\": {\"backgroundcolor\": \"#E5ECF6\", \"gridcolor\": \"white\", \"gridwidth\": 2, \"linecolor\": \"white\", \"showbackground\": true, \"ticks\": \"\", \"zerolinecolor\": \"white\"}, \"yaxis\": {\"backgroundcolor\": \"#E5ECF6\", \"gridcolor\": \"white\", \"gridwidth\": 2, \"linecolor\": \"white\", \"showbackground\": true, \"ticks\": \"\", \"zerolinecolor\": \"white\"}, \"zaxis\": {\"backgroundcolor\": \"#E5ECF6\", \"gridcolor\": \"white\", \"gridwidth\": 2, \"linecolor\": \"white\", \"showbackground\": true, \"ticks\": \"\", \"zerolinecolor\": \"white\"}}, \"shapedefaults\": {\"line\": {\"color\": \"#2a3f5f\"}}, \"ternary\": {\"aaxis\": {\"gridcolor\": \"white\", \"linecolor\": \"white\", \"ticks\": \"\"}, \"baxis\": {\"gridcolor\": \"white\", \"linecolor\": \"white\", \"ticks\": \"\"}, \"bgcolor\": \"#E5ECF6\", \"caxis\": {\"gridcolor\": \"white\", \"linecolor\": \"white\", \"ticks\": \"\"}}, \"title\": {\"x\": 0.05}, \"xaxis\": {\"automargin\": true, \"gridcolor\": \"white\", \"linecolor\": \"white\", \"ticks\": \"\", \"title\": {\"standoff\": 15}, \"zerolinecolor\": \"white\", \"zerolinewidth\": 2}, \"yaxis\": {\"automargin\": true, \"gridcolor\": \"white\", \"linecolor\": \"white\", \"ticks\": \"\", \"title\": {\"standoff\": 15}, \"zerolinecolor\": \"white\", \"zerolinewidth\": 2}}}, \"xaxis\": {\"anchor\": \"y\", \"domain\": [0.0, 1.0], \"title\": {\"text\": \"Mass\"}}, \"yaxis\": {\"anchor\": \"x\", \"domain\": [0.0, 1.0], \"title\": {\"text\": \"Vol\"}}},                        {\"responsive\": true}                    ).then(function(){\n",
       "                            \n",
       "var gd = document.getElementById('9c445065-ea86-4df8-94ba-f6d81acde62f');\n",
       "var x = new MutationObserver(function (mutations, observer) {{\n",
       "        var display = window.getComputedStyle(gd).display;\n",
       "        if (!display || display === 'none') {{\n",
       "            console.log([gd, 'removed!']);\n",
       "            Plotly.purge(gd);\n",
       "            observer.disconnect();\n",
       "        }}\n",
       "}});\n",
       "\n",
       "// Listen for the removal of the full notebook cells\n",
       "var notebookContainer = gd.closest('#notebook-container');\n",
       "if (notebookContainer) {{\n",
       "    x.observe(notebookContainer, {childList: true});\n",
       "}}\n",
       "\n",
       "// Listen for the clearing of the current output cell\n",
       "var outputEl = gd.closest('.output');\n",
       "if (outputEl) {{\n",
       "    x.observe(outputEl, {childList: true});\n",
       "}}\n",
       "\n",
       "                        })                };                });            </script>        </div>"
      ]
     },
     "metadata": {},
     "output_type": "display_data"
    },
    {
     "data": {
      "text/plain": [
       "(43, 5)"
      ]
     },
     "execution_count": 719,
     "metadata": {},
     "output_type": "execute_result"
    }
   ],
   "source": [
    "df_sample = df1\n",
    "df_24k = df_sample[(df_sample.Mass>24000)&(df_sample.Mass<25000)&(df_sample.Vol>1E4)]\n",
    "df_24k = df_24k.sort_values('Vol', ascending=False)#.iloc[:20]\n",
    "# df_24k.to_excel('~/Downloads/gln_s1_24k_top.xlsx')\n",
    "plotly_zone(df_24k, y='Vol')\n",
    "df_24k.shape\n",
    "# df_24k.groupby('RT').sum()"
   ]
  },
  {
   "cell_type": "code",
   "execution_count": 722,
   "id": "invalid-point",
   "metadata": {},
   "outputs": [
    {
     "data": {
      "application/vnd.plotly.v1+json": {
       "config": {
        "plotlyServerURL": "https://plot.ly"
       },
       "data": [
        {
         "hovertemplate": "type=DataSource<br>Mass=%{x}<br>Vol=%{y}<extra></extra>",
         "legendgroup": "DataSource",
         "marker": {
          "color": "#636efa",
          "symbol": "circle"
         },
         "mode": "markers",
         "name": "DataSource",
         "orientation": "v",
         "showlegend": true,
         "type": "scatter",
         "x": [
          24274.2153954554,
          24294.186110206,
          24255.2450532358,
          24311.1804648306,
          24331.1498750105,
          24350.1217460797,
          24217.2780567485,
          24237.2559338324,
          24388.0862295545,
          24370.1017627704,
          24285.1777094061,
          24426.0378688137,
          24361.0729126715,
          24330.1567015343,
          24265.1969958252,
          24159.2655752119,
          24216.2820955423,
          24379.0524892477,
          24416.0081557757,
          24406.0455266371,
          24351.1179990987,
          24199.2811430781,
          24341.0952473793,
          24228.2442837617,
          24313.1562283043,
          24322.1299152478,
          24302.1553463156,
          24198.2887512574,
          24445.0153495907,
          24340.1009660667,
          24425.0354771698,
          24342.0939211802,
          24435.980142561,
          24247.219971967,
          24254.2460594735,
          24172.3133737758,
          24397.0286437901,
          24462.9954598419,
          24481.9742613297,
          24227.2414596032,
          24310.1432231514,
          24453.9707454396,
          24304.1399733362
         ],
         "xaxis": "x",
         "y": [
          202613.46,
          181855.47,
          164860.67,
          164495.43,
          150030.75,
          127867.46,
          107734.85,
          98389.72,
          93752.38,
          86832.07,
          66961.32,
          55329.19,
          52005.95,
          48749.2,
          45235.11,
          43612.84,
          43287.44,
          42699.01,
          41963.32,
          41850.68,
          41191.89,
          38200.43,
          36759.46,
          32159.62,
          32055,
          30593.44,
          29603.95,
          28574.85,
          28440.18,
          21167.92,
          20762.43,
          20121.49,
          20048,
          19977.41,
          18450.25,
          16131.67,
          15140.46,
          15068.36,
          15007.06,
          13839.54,
          12695.1,
          12447.37,
          11192.13
         ],
         "yaxis": "y"
        },
        {
         "hovertemplate": "type=24160+Adducts<br>Mass=%{x}<br>Vol=%{y}<extra></extra>",
         "legendgroup": "24160+Adducts",
         "marker": {
          "color": "#EF553B",
          "symbol": "circle"
         },
         "mode": "markers",
         "name": "24160+Adducts",
         "orientation": "v",
         "showlegend": true,
         "type": "scatter",
         "x": [
          24228.2442837617,
          24294.186110206,
          24304.1399733362,
          24310.1432231514,
          24342.0939211802
         ],
         "xaxis": "x",
         "y": [
          32159.62,
          181855.47,
          11192.13,
          12695.1,
          20121.49
         ],
         "yaxis": "y"
        }
       ],
       "layout": {
        "legend": {
         "title": {
          "text": "type"
         },
         "tracegroupgap": 0
        },
        "margin": {
         "t": 60
        },
        "template": {
         "data": {
          "bar": [
           {
            "error_x": {
             "color": "#2a3f5f"
            },
            "error_y": {
             "color": "#2a3f5f"
            },
            "marker": {
             "line": {
              "color": "#E5ECF6",
              "width": 0.5
             }
            },
            "type": "bar"
           }
          ],
          "barpolar": [
           {
            "marker": {
             "line": {
              "color": "#E5ECF6",
              "width": 0.5
             }
            },
            "type": "barpolar"
           }
          ],
          "carpet": [
           {
            "aaxis": {
             "endlinecolor": "#2a3f5f",
             "gridcolor": "white",
             "linecolor": "white",
             "minorgridcolor": "white",
             "startlinecolor": "#2a3f5f"
            },
            "baxis": {
             "endlinecolor": "#2a3f5f",
             "gridcolor": "white",
             "linecolor": "white",
             "minorgridcolor": "white",
             "startlinecolor": "#2a3f5f"
            },
            "type": "carpet"
           }
          ],
          "choropleth": [
           {
            "colorbar": {
             "outlinewidth": 0,
             "ticks": ""
            },
            "type": "choropleth"
           }
          ],
          "contour": [
           {
            "colorbar": {
             "outlinewidth": 0,
             "ticks": ""
            },
            "colorscale": [
             [
              0,
              "#0d0887"
             ],
             [
              0.1111111111111111,
              "#46039f"
             ],
             [
              0.2222222222222222,
              "#7201a8"
             ],
             [
              0.3333333333333333,
              "#9c179e"
             ],
             [
              0.4444444444444444,
              "#bd3786"
             ],
             [
              0.5555555555555556,
              "#d8576b"
             ],
             [
              0.6666666666666666,
              "#ed7953"
             ],
             [
              0.7777777777777778,
              "#fb9f3a"
             ],
             [
              0.8888888888888888,
              "#fdca26"
             ],
             [
              1,
              "#f0f921"
             ]
            ],
            "type": "contour"
           }
          ],
          "contourcarpet": [
           {
            "colorbar": {
             "outlinewidth": 0,
             "ticks": ""
            },
            "type": "contourcarpet"
           }
          ],
          "heatmap": [
           {
            "colorbar": {
             "outlinewidth": 0,
             "ticks": ""
            },
            "colorscale": [
             [
              0,
              "#0d0887"
             ],
             [
              0.1111111111111111,
              "#46039f"
             ],
             [
              0.2222222222222222,
              "#7201a8"
             ],
             [
              0.3333333333333333,
              "#9c179e"
             ],
             [
              0.4444444444444444,
              "#bd3786"
             ],
             [
              0.5555555555555556,
              "#d8576b"
             ],
             [
              0.6666666666666666,
              "#ed7953"
             ],
             [
              0.7777777777777778,
              "#fb9f3a"
             ],
             [
              0.8888888888888888,
              "#fdca26"
             ],
             [
              1,
              "#f0f921"
             ]
            ],
            "type": "heatmap"
           }
          ],
          "heatmapgl": [
           {
            "colorbar": {
             "outlinewidth": 0,
             "ticks": ""
            },
            "colorscale": [
             [
              0,
              "#0d0887"
             ],
             [
              0.1111111111111111,
              "#46039f"
             ],
             [
              0.2222222222222222,
              "#7201a8"
             ],
             [
              0.3333333333333333,
              "#9c179e"
             ],
             [
              0.4444444444444444,
              "#bd3786"
             ],
             [
              0.5555555555555556,
              "#d8576b"
             ],
             [
              0.6666666666666666,
              "#ed7953"
             ],
             [
              0.7777777777777778,
              "#fb9f3a"
             ],
             [
              0.8888888888888888,
              "#fdca26"
             ],
             [
              1,
              "#f0f921"
             ]
            ],
            "type": "heatmapgl"
           }
          ],
          "histogram": [
           {
            "marker": {
             "colorbar": {
              "outlinewidth": 0,
              "ticks": ""
             }
            },
            "type": "histogram"
           }
          ],
          "histogram2d": [
           {
            "colorbar": {
             "outlinewidth": 0,
             "ticks": ""
            },
            "colorscale": [
             [
              0,
              "#0d0887"
             ],
             [
              0.1111111111111111,
              "#46039f"
             ],
             [
              0.2222222222222222,
              "#7201a8"
             ],
             [
              0.3333333333333333,
              "#9c179e"
             ],
             [
              0.4444444444444444,
              "#bd3786"
             ],
             [
              0.5555555555555556,
              "#d8576b"
             ],
             [
              0.6666666666666666,
              "#ed7953"
             ],
             [
              0.7777777777777778,
              "#fb9f3a"
             ],
             [
              0.8888888888888888,
              "#fdca26"
             ],
             [
              1,
              "#f0f921"
             ]
            ],
            "type": "histogram2d"
           }
          ],
          "histogram2dcontour": [
           {
            "colorbar": {
             "outlinewidth": 0,
             "ticks": ""
            },
            "colorscale": [
             [
              0,
              "#0d0887"
             ],
             [
              0.1111111111111111,
              "#46039f"
             ],
             [
              0.2222222222222222,
              "#7201a8"
             ],
             [
              0.3333333333333333,
              "#9c179e"
             ],
             [
              0.4444444444444444,
              "#bd3786"
             ],
             [
              0.5555555555555556,
              "#d8576b"
             ],
             [
              0.6666666666666666,
              "#ed7953"
             ],
             [
              0.7777777777777778,
              "#fb9f3a"
             ],
             [
              0.8888888888888888,
              "#fdca26"
             ],
             [
              1,
              "#f0f921"
             ]
            ],
            "type": "histogram2dcontour"
           }
          ],
          "mesh3d": [
           {
            "colorbar": {
             "outlinewidth": 0,
             "ticks": ""
            },
            "type": "mesh3d"
           }
          ],
          "parcoords": [
           {
            "line": {
             "colorbar": {
              "outlinewidth": 0,
              "ticks": ""
             }
            },
            "type": "parcoords"
           }
          ],
          "pie": [
           {
            "automargin": true,
            "type": "pie"
           }
          ],
          "scatter": [
           {
            "marker": {
             "colorbar": {
              "outlinewidth": 0,
              "ticks": ""
             }
            },
            "type": "scatter"
           }
          ],
          "scatter3d": [
           {
            "line": {
             "colorbar": {
              "outlinewidth": 0,
              "ticks": ""
             }
            },
            "marker": {
             "colorbar": {
              "outlinewidth": 0,
              "ticks": ""
             }
            },
            "type": "scatter3d"
           }
          ],
          "scattercarpet": [
           {
            "marker": {
             "colorbar": {
              "outlinewidth": 0,
              "ticks": ""
             }
            },
            "type": "scattercarpet"
           }
          ],
          "scattergeo": [
           {
            "marker": {
             "colorbar": {
              "outlinewidth": 0,
              "ticks": ""
             }
            },
            "type": "scattergeo"
           }
          ],
          "scattergl": [
           {
            "marker": {
             "colorbar": {
              "outlinewidth": 0,
              "ticks": ""
             }
            },
            "type": "scattergl"
           }
          ],
          "scattermapbox": [
           {
            "marker": {
             "colorbar": {
              "outlinewidth": 0,
              "ticks": ""
             }
            },
            "type": "scattermapbox"
           }
          ],
          "scatterpolar": [
           {
            "marker": {
             "colorbar": {
              "outlinewidth": 0,
              "ticks": ""
             }
            },
            "type": "scatterpolar"
           }
          ],
          "scatterpolargl": [
           {
            "marker": {
             "colorbar": {
              "outlinewidth": 0,
              "ticks": ""
             }
            },
            "type": "scatterpolargl"
           }
          ],
          "scatterternary": [
           {
            "marker": {
             "colorbar": {
              "outlinewidth": 0,
              "ticks": ""
             }
            },
            "type": "scatterternary"
           }
          ],
          "surface": [
           {
            "colorbar": {
             "outlinewidth": 0,
             "ticks": ""
            },
            "colorscale": [
             [
              0,
              "#0d0887"
             ],
             [
              0.1111111111111111,
              "#46039f"
             ],
             [
              0.2222222222222222,
              "#7201a8"
             ],
             [
              0.3333333333333333,
              "#9c179e"
             ],
             [
              0.4444444444444444,
              "#bd3786"
             ],
             [
              0.5555555555555556,
              "#d8576b"
             ],
             [
              0.6666666666666666,
              "#ed7953"
             ],
             [
              0.7777777777777778,
              "#fb9f3a"
             ],
             [
              0.8888888888888888,
              "#fdca26"
             ],
             [
              1,
              "#f0f921"
             ]
            ],
            "type": "surface"
           }
          ],
          "table": [
           {
            "cells": {
             "fill": {
              "color": "#EBF0F8"
             },
             "line": {
              "color": "white"
             }
            },
            "header": {
             "fill": {
              "color": "#C8D4E3"
             },
             "line": {
              "color": "white"
             }
            },
            "type": "table"
           }
          ]
         },
         "layout": {
          "annotationdefaults": {
           "arrowcolor": "#2a3f5f",
           "arrowhead": 0,
           "arrowwidth": 1
          },
          "autotypenumbers": "strict",
          "coloraxis": {
           "colorbar": {
            "outlinewidth": 0,
            "ticks": ""
           }
          },
          "colorscale": {
           "diverging": [
            [
             0,
             "#8e0152"
            ],
            [
             0.1,
             "#c51b7d"
            ],
            [
             0.2,
             "#de77ae"
            ],
            [
             0.3,
             "#f1b6da"
            ],
            [
             0.4,
             "#fde0ef"
            ],
            [
             0.5,
             "#f7f7f7"
            ],
            [
             0.6,
             "#e6f5d0"
            ],
            [
             0.7,
             "#b8e186"
            ],
            [
             0.8,
             "#7fbc41"
            ],
            [
             0.9,
             "#4d9221"
            ],
            [
             1,
             "#276419"
            ]
           ],
           "sequential": [
            [
             0,
             "#0d0887"
            ],
            [
             0.1111111111111111,
             "#46039f"
            ],
            [
             0.2222222222222222,
             "#7201a8"
            ],
            [
             0.3333333333333333,
             "#9c179e"
            ],
            [
             0.4444444444444444,
             "#bd3786"
            ],
            [
             0.5555555555555556,
             "#d8576b"
            ],
            [
             0.6666666666666666,
             "#ed7953"
            ],
            [
             0.7777777777777778,
             "#fb9f3a"
            ],
            [
             0.8888888888888888,
             "#fdca26"
            ],
            [
             1,
             "#f0f921"
            ]
           ],
           "sequentialminus": [
            [
             0,
             "#0d0887"
            ],
            [
             0.1111111111111111,
             "#46039f"
            ],
            [
             0.2222222222222222,
             "#7201a8"
            ],
            [
             0.3333333333333333,
             "#9c179e"
            ],
            [
             0.4444444444444444,
             "#bd3786"
            ],
            [
             0.5555555555555556,
             "#d8576b"
            ],
            [
             0.6666666666666666,
             "#ed7953"
            ],
            [
             0.7777777777777778,
             "#fb9f3a"
            ],
            [
             0.8888888888888888,
             "#fdca26"
            ],
            [
             1,
             "#f0f921"
            ]
           ]
          },
          "colorway": [
           "#636efa",
           "#EF553B",
           "#00cc96",
           "#ab63fa",
           "#FFA15A",
           "#19d3f3",
           "#FF6692",
           "#B6E880",
           "#FF97FF",
           "#FECB52"
          ],
          "font": {
           "color": "#2a3f5f"
          },
          "geo": {
           "bgcolor": "white",
           "lakecolor": "white",
           "landcolor": "#E5ECF6",
           "showlakes": true,
           "showland": true,
           "subunitcolor": "white"
          },
          "hoverlabel": {
           "align": "left"
          },
          "hovermode": "closest",
          "mapbox": {
           "style": "light"
          },
          "paper_bgcolor": "white",
          "plot_bgcolor": "#E5ECF6",
          "polar": {
           "angularaxis": {
            "gridcolor": "white",
            "linecolor": "white",
            "ticks": ""
           },
           "bgcolor": "#E5ECF6",
           "radialaxis": {
            "gridcolor": "white",
            "linecolor": "white",
            "ticks": ""
           }
          },
          "scene": {
           "xaxis": {
            "backgroundcolor": "#E5ECF6",
            "gridcolor": "white",
            "gridwidth": 2,
            "linecolor": "white",
            "showbackground": true,
            "ticks": "",
            "zerolinecolor": "white"
           },
           "yaxis": {
            "backgroundcolor": "#E5ECF6",
            "gridcolor": "white",
            "gridwidth": 2,
            "linecolor": "white",
            "showbackground": true,
            "ticks": "",
            "zerolinecolor": "white"
           },
           "zaxis": {
            "backgroundcolor": "#E5ECF6",
            "gridcolor": "white",
            "gridwidth": 2,
            "linecolor": "white",
            "showbackground": true,
            "ticks": "",
            "zerolinecolor": "white"
           }
          },
          "shapedefaults": {
           "line": {
            "color": "#2a3f5f"
           }
          },
          "ternary": {
           "aaxis": {
            "gridcolor": "white",
            "linecolor": "white",
            "ticks": ""
           },
           "baxis": {
            "gridcolor": "white",
            "linecolor": "white",
            "ticks": ""
           },
           "bgcolor": "#E5ECF6",
           "caxis": {
            "gridcolor": "white",
            "linecolor": "white",
            "ticks": ""
           }
          },
          "title": {
           "x": 0.05
          },
          "xaxis": {
           "automargin": true,
           "gridcolor": "white",
           "linecolor": "white",
           "ticks": "",
           "title": {
            "standoff": 15
           },
           "zerolinecolor": "white",
           "zerolinewidth": 2
          },
          "yaxis": {
           "automargin": true,
           "gridcolor": "white",
           "linecolor": "white",
           "ticks": "",
           "title": {
            "standoff": 15
           },
           "zerolinecolor": "white",
           "zerolinewidth": 2
          }
         }
        },
        "xaxis": {
         "anchor": "y",
         "domain": [
          0,
          1
         ],
         "title": {
          "text": "Mass"
         }
        },
        "yaxis": {
         "anchor": "x",
         "domain": [
          0,
          1
         ],
         "title": {
          "text": "Vol"
         }
        }
       }
      },
      "text/html": [
       "<div>                            <div id=\"833839f8-1510-4ad3-9f38-1632aea74775\" class=\"plotly-graph-div\" style=\"height:525px; width:100%;\"></div>            <script type=\"text/javascript\">                require([\"plotly\"], function(Plotly) {                    window.PLOTLYENV=window.PLOTLYENV || {};                                    if (document.getElementById(\"833839f8-1510-4ad3-9f38-1632aea74775\")) {                    Plotly.newPlot(                        \"833839f8-1510-4ad3-9f38-1632aea74775\",                        [{\"hovertemplate\": \"type=DataSource<br>Mass=%{x}<br>Vol=%{y}<extra></extra>\", \"legendgroup\": \"DataSource\", \"marker\": {\"color\": \"#636efa\", \"symbol\": \"circle\"}, \"mode\": \"markers\", \"name\": \"DataSource\", \"orientation\": \"v\", \"showlegend\": true, \"type\": \"scatter\", \"x\": [24274.2153954554, 24294.186110206, 24255.2450532358, 24311.1804648306, 24331.1498750105, 24350.1217460797, 24217.2780567485, 24237.2559338324, 24388.0862295545, 24370.1017627704, 24285.1777094061, 24426.0378688137, 24361.0729126715, 24330.1567015343, 24265.1969958252, 24159.2655752119, 24216.2820955423, 24379.0524892477, 24416.0081557757, 24406.0455266371, 24351.1179990987, 24199.2811430781, 24341.0952473793, 24228.2442837617, 24313.1562283043, 24322.1299152478, 24302.1553463156, 24198.2887512574, 24445.0153495907, 24340.1009660667, 24425.0354771698, 24342.0939211802, 24435.980142561, 24247.219971967, 24254.2460594735, 24172.3133737758, 24397.0286437901, 24462.9954598419, 24481.9742613297, 24227.2414596032, 24310.1432231514, 24453.9707454396, 24304.1399733362], \"xaxis\": \"x\", \"y\": [202613.46, 181855.47, 164860.67, 164495.43, 150030.75, 127867.46, 107734.85, 98389.72, 93752.38, 86832.07, 66961.32, 55329.19, 52005.95, 48749.2, 45235.11, 43612.84, 43287.44, 42699.01, 41963.32, 41850.68, 41191.89, 38200.43, 36759.46, 32159.62, 32055.0, 30593.44, 29603.95, 28574.85, 28440.18, 21167.92, 20762.43, 20121.49, 20048.0, 19977.41, 18450.25, 16131.67, 15140.46, 15068.36, 15007.06, 13839.54, 12695.1, 12447.37, 11192.13], \"yaxis\": \"y\"}, {\"hovertemplate\": \"type=24160+Adducts<br>Mass=%{x}<br>Vol=%{y}<extra></extra>\", \"legendgroup\": \"24160+Adducts\", \"marker\": {\"color\": \"#EF553B\", \"symbol\": \"circle\"}, \"mode\": \"markers\", \"name\": \"24160+Adducts\", \"orientation\": \"v\", \"showlegend\": true, \"type\": \"scatter\", \"x\": [24228.2442837617, 24294.186110206, 24304.1399733362, 24310.1432231514, 24342.0939211802], \"xaxis\": \"x\", \"y\": [32159.62, 181855.47, 11192.13, 12695.1, 20121.49], \"yaxis\": \"y\"}],                        {\"legend\": {\"title\": {\"text\": \"type\"}, \"tracegroupgap\": 0}, \"margin\": {\"t\": 60}, \"template\": {\"data\": {\"bar\": [{\"error_x\": {\"color\": \"#2a3f5f\"}, \"error_y\": {\"color\": \"#2a3f5f\"}, \"marker\": {\"line\": {\"color\": \"#E5ECF6\", \"width\": 0.5}}, \"type\": \"bar\"}], \"barpolar\": [{\"marker\": {\"line\": {\"color\": \"#E5ECF6\", \"width\": 0.5}}, \"type\": \"barpolar\"}], \"carpet\": [{\"aaxis\": {\"endlinecolor\": \"#2a3f5f\", \"gridcolor\": \"white\", \"linecolor\": \"white\", \"minorgridcolor\": \"white\", \"startlinecolor\": \"#2a3f5f\"}, \"baxis\": {\"endlinecolor\": \"#2a3f5f\", \"gridcolor\": \"white\", \"linecolor\": \"white\", \"minorgridcolor\": \"white\", \"startlinecolor\": \"#2a3f5f\"}, \"type\": \"carpet\"}], \"choropleth\": [{\"colorbar\": {\"outlinewidth\": 0, \"ticks\": \"\"}, \"type\": \"choropleth\"}], \"contour\": [{\"colorbar\": {\"outlinewidth\": 0, \"ticks\": \"\"}, \"colorscale\": [[0.0, \"#0d0887\"], [0.1111111111111111, \"#46039f\"], [0.2222222222222222, \"#7201a8\"], [0.3333333333333333, \"#9c179e\"], [0.4444444444444444, \"#bd3786\"], [0.5555555555555556, \"#d8576b\"], [0.6666666666666666, \"#ed7953\"], [0.7777777777777778, \"#fb9f3a\"], [0.8888888888888888, \"#fdca26\"], [1.0, \"#f0f921\"]], \"type\": \"contour\"}], \"contourcarpet\": [{\"colorbar\": {\"outlinewidth\": 0, \"ticks\": \"\"}, \"type\": \"contourcarpet\"}], \"heatmap\": [{\"colorbar\": {\"outlinewidth\": 0, \"ticks\": \"\"}, \"colorscale\": [[0.0, \"#0d0887\"], [0.1111111111111111, \"#46039f\"], [0.2222222222222222, \"#7201a8\"], [0.3333333333333333, \"#9c179e\"], [0.4444444444444444, \"#bd3786\"], [0.5555555555555556, \"#d8576b\"], [0.6666666666666666, \"#ed7953\"], [0.7777777777777778, \"#fb9f3a\"], [0.8888888888888888, \"#fdca26\"], [1.0, \"#f0f921\"]], \"type\": \"heatmap\"}], \"heatmapgl\": [{\"colorbar\": {\"outlinewidth\": 0, \"ticks\": \"\"}, \"colorscale\": [[0.0, \"#0d0887\"], [0.1111111111111111, \"#46039f\"], [0.2222222222222222, \"#7201a8\"], [0.3333333333333333, \"#9c179e\"], [0.4444444444444444, \"#bd3786\"], [0.5555555555555556, \"#d8576b\"], [0.6666666666666666, \"#ed7953\"], [0.7777777777777778, \"#fb9f3a\"], [0.8888888888888888, \"#fdca26\"], [1.0, \"#f0f921\"]], \"type\": \"heatmapgl\"}], \"histogram\": [{\"marker\": {\"colorbar\": {\"outlinewidth\": 0, \"ticks\": \"\"}}, \"type\": \"histogram\"}], \"histogram2d\": [{\"colorbar\": {\"outlinewidth\": 0, \"ticks\": \"\"}, \"colorscale\": [[0.0, \"#0d0887\"], [0.1111111111111111, \"#46039f\"], [0.2222222222222222, \"#7201a8\"], [0.3333333333333333, \"#9c179e\"], [0.4444444444444444, \"#bd3786\"], [0.5555555555555556, \"#d8576b\"], [0.6666666666666666, \"#ed7953\"], [0.7777777777777778, \"#fb9f3a\"], [0.8888888888888888, \"#fdca26\"], [1.0, \"#f0f921\"]], \"type\": \"histogram2d\"}], \"histogram2dcontour\": [{\"colorbar\": {\"outlinewidth\": 0, \"ticks\": \"\"}, \"colorscale\": [[0.0, \"#0d0887\"], [0.1111111111111111, \"#46039f\"], [0.2222222222222222, \"#7201a8\"], [0.3333333333333333, \"#9c179e\"], [0.4444444444444444, \"#bd3786\"], [0.5555555555555556, \"#d8576b\"], [0.6666666666666666, \"#ed7953\"], [0.7777777777777778, \"#fb9f3a\"], [0.8888888888888888, \"#fdca26\"], [1.0, \"#f0f921\"]], \"type\": \"histogram2dcontour\"}], \"mesh3d\": [{\"colorbar\": {\"outlinewidth\": 0, \"ticks\": \"\"}, \"type\": \"mesh3d\"}], \"parcoords\": [{\"line\": {\"colorbar\": {\"outlinewidth\": 0, \"ticks\": \"\"}}, \"type\": \"parcoords\"}], \"pie\": [{\"automargin\": true, \"type\": \"pie\"}], \"scatter\": [{\"marker\": {\"colorbar\": {\"outlinewidth\": 0, \"ticks\": \"\"}}, \"type\": \"scatter\"}], \"scatter3d\": [{\"line\": {\"colorbar\": {\"outlinewidth\": 0, \"ticks\": \"\"}}, \"marker\": {\"colorbar\": {\"outlinewidth\": 0, \"ticks\": \"\"}}, \"type\": \"scatter3d\"}], \"scattercarpet\": [{\"marker\": {\"colorbar\": {\"outlinewidth\": 0, \"ticks\": \"\"}}, \"type\": \"scattercarpet\"}], \"scattergeo\": [{\"marker\": {\"colorbar\": {\"outlinewidth\": 0, \"ticks\": \"\"}}, \"type\": \"scattergeo\"}], \"scattergl\": [{\"marker\": {\"colorbar\": {\"outlinewidth\": 0, \"ticks\": \"\"}}, \"type\": \"scattergl\"}], \"scattermapbox\": [{\"marker\": {\"colorbar\": {\"outlinewidth\": 0, \"ticks\": \"\"}}, \"type\": \"scattermapbox\"}], \"scatterpolar\": [{\"marker\": {\"colorbar\": {\"outlinewidth\": 0, \"ticks\": \"\"}}, \"type\": \"scatterpolar\"}], \"scatterpolargl\": [{\"marker\": {\"colorbar\": {\"outlinewidth\": 0, \"ticks\": \"\"}}, \"type\": \"scatterpolargl\"}], \"scatterternary\": [{\"marker\": {\"colorbar\": {\"outlinewidth\": 0, \"ticks\": \"\"}}, \"type\": \"scatterternary\"}], \"surface\": [{\"colorbar\": {\"outlinewidth\": 0, \"ticks\": \"\"}, \"colorscale\": [[0.0, \"#0d0887\"], [0.1111111111111111, \"#46039f\"], [0.2222222222222222, \"#7201a8\"], [0.3333333333333333, \"#9c179e\"], [0.4444444444444444, \"#bd3786\"], [0.5555555555555556, \"#d8576b\"], [0.6666666666666666, \"#ed7953\"], [0.7777777777777778, \"#fb9f3a\"], [0.8888888888888888, \"#fdca26\"], [1.0, \"#f0f921\"]], \"type\": \"surface\"}], \"table\": [{\"cells\": {\"fill\": {\"color\": \"#EBF0F8\"}, \"line\": {\"color\": \"white\"}}, \"header\": {\"fill\": {\"color\": \"#C8D4E3\"}, \"line\": {\"color\": \"white\"}}, \"type\": \"table\"}]}, \"layout\": {\"annotationdefaults\": {\"arrowcolor\": \"#2a3f5f\", \"arrowhead\": 0, \"arrowwidth\": 1}, \"autotypenumbers\": \"strict\", \"coloraxis\": {\"colorbar\": {\"outlinewidth\": 0, \"ticks\": \"\"}}, \"colorscale\": {\"diverging\": [[0, \"#8e0152\"], [0.1, \"#c51b7d\"], [0.2, \"#de77ae\"], [0.3, \"#f1b6da\"], [0.4, \"#fde0ef\"], [0.5, \"#f7f7f7\"], [0.6, \"#e6f5d0\"], [0.7, \"#b8e186\"], [0.8, \"#7fbc41\"], [0.9, \"#4d9221\"], [1, \"#276419\"]], \"sequential\": [[0.0, \"#0d0887\"], [0.1111111111111111, \"#46039f\"], [0.2222222222222222, \"#7201a8\"], [0.3333333333333333, \"#9c179e\"], [0.4444444444444444, \"#bd3786\"], [0.5555555555555556, \"#d8576b\"], [0.6666666666666666, \"#ed7953\"], [0.7777777777777778, \"#fb9f3a\"], [0.8888888888888888, \"#fdca26\"], [1.0, \"#f0f921\"]], \"sequentialminus\": [[0.0, \"#0d0887\"], [0.1111111111111111, \"#46039f\"], [0.2222222222222222, \"#7201a8\"], [0.3333333333333333, \"#9c179e\"], [0.4444444444444444, \"#bd3786\"], [0.5555555555555556, \"#d8576b\"], [0.6666666666666666, \"#ed7953\"], [0.7777777777777778, \"#fb9f3a\"], [0.8888888888888888, \"#fdca26\"], [1.0, \"#f0f921\"]]}, \"colorway\": [\"#636efa\", \"#EF553B\", \"#00cc96\", \"#ab63fa\", \"#FFA15A\", \"#19d3f3\", \"#FF6692\", \"#B6E880\", \"#FF97FF\", \"#FECB52\"], \"font\": {\"color\": \"#2a3f5f\"}, \"geo\": {\"bgcolor\": \"white\", \"lakecolor\": \"white\", \"landcolor\": \"#E5ECF6\", \"showlakes\": true, \"showland\": true, \"subunitcolor\": \"white\"}, \"hoverlabel\": {\"align\": \"left\"}, \"hovermode\": \"closest\", \"mapbox\": {\"style\": \"light\"}, \"paper_bgcolor\": \"white\", \"plot_bgcolor\": \"#E5ECF6\", \"polar\": {\"angularaxis\": {\"gridcolor\": \"white\", \"linecolor\": \"white\", \"ticks\": \"\"}, \"bgcolor\": \"#E5ECF6\", \"radialaxis\": {\"gridcolor\": \"white\", \"linecolor\": \"white\", \"ticks\": \"\"}}, \"scene\": {\"xaxis\": {\"backgroundcolor\": \"#E5ECF6\", \"gridcolor\": \"white\", \"gridwidth\": 2, \"linecolor\": \"white\", \"showbackground\": true, \"ticks\": \"\", \"zerolinecolor\": \"white\"}, \"yaxis\": {\"backgroundcolor\": \"#E5ECF6\", \"gridcolor\": \"white\", \"gridwidth\": 2, \"linecolor\": \"white\", \"showbackground\": true, \"ticks\": \"\", \"zerolinecolor\": \"white\"}, \"zaxis\": {\"backgroundcolor\": \"#E5ECF6\", \"gridcolor\": \"white\", \"gridwidth\": 2, \"linecolor\": \"white\", \"showbackground\": true, \"ticks\": \"\", \"zerolinecolor\": \"white\"}}, \"shapedefaults\": {\"line\": {\"color\": \"#2a3f5f\"}}, \"ternary\": {\"aaxis\": {\"gridcolor\": \"white\", \"linecolor\": \"white\", \"ticks\": \"\"}, \"baxis\": {\"gridcolor\": \"white\", \"linecolor\": \"white\", \"ticks\": \"\"}, \"bgcolor\": \"#E5ECF6\", \"caxis\": {\"gridcolor\": \"white\", \"linecolor\": \"white\", \"ticks\": \"\"}}, \"title\": {\"x\": 0.05}, \"xaxis\": {\"automargin\": true, \"gridcolor\": \"white\", \"linecolor\": \"white\", \"ticks\": \"\", \"title\": {\"standoff\": 15}, \"zerolinecolor\": \"white\", \"zerolinewidth\": 2}, \"yaxis\": {\"automargin\": true, \"gridcolor\": \"white\", \"linecolor\": \"white\", \"ticks\": \"\", \"title\": {\"standoff\": 15}, \"zerolinecolor\": \"white\", \"zerolinewidth\": 2}}}, \"xaxis\": {\"anchor\": \"y\", \"domain\": [0.0, 1.0], \"title\": {\"text\": \"Mass\"}}, \"yaxis\": {\"anchor\": \"x\", \"domain\": [0.0, 1.0], \"title\": {\"text\": \"Vol\"}}},                        {\"responsive\": true}                    ).then(function(){\n",
       "                            \n",
       "var gd = document.getElementById('833839f8-1510-4ad3-9f38-1632aea74775');\n",
       "var x = new MutationObserver(function (mutations, observer) {{\n",
       "        var display = window.getComputedStyle(gd).display;\n",
       "        if (!display || display === 'none') {{\n",
       "            console.log([gd, 'removed!']);\n",
       "            Plotly.purge(gd);\n",
       "            observer.disconnect();\n",
       "        }}\n",
       "}});\n",
       "\n",
       "// Listen for the removal of the full notebook cells\n",
       "var notebookContainer = gd.closest('#notebook-container');\n",
       "if (notebookContainer) {{\n",
       "    x.observe(notebookContainer, {childList: true});\n",
       "}}\n",
       "\n",
       "// Listen for the clearing of the current output cell\n",
       "var outputEl = gd.closest('.output');\n",
       "if (outputEl) {{\n",
       "    x.observe(outputEl, {childList: true});\n",
       "}}\n",
       "\n",
       "                        })                };                });            </script>        </div>"
      ]
     },
     "metadata": {},
     "output_type": "display_data"
    },
    {
     "data": {
      "application/vnd.plotly.v1+json": {
       "config": {
        "plotlyServerURL": "https://plot.ly"
       },
       "data": [
        {
         "hovertemplate": "type=DataSource<br>Mass=%{x}<br>Vol=%{y}<extra></extra>",
         "legendgroup": "DataSource",
         "marker": {
          "color": "#636efa",
          "symbol": "circle"
         },
         "mode": "markers",
         "name": "DataSource",
         "orientation": "v",
         "showlegend": true,
         "type": "scatter",
         "x": [
          24274.2153954554,
          24294.186110206,
          24255.2450532358,
          24311.1804648306,
          24331.1498750105,
          24350.1217460797,
          24217.2780567485,
          24237.2559338324,
          24388.0862295545,
          24370.1017627704,
          24285.1777094061,
          24426.0378688137,
          24361.0729126715,
          24330.1567015343,
          24265.1969958252,
          24159.2655752119,
          24216.2820955423,
          24379.0524892477,
          24416.0081557757,
          24406.0455266371,
          24351.1179990987,
          24199.2811430781,
          24341.0952473793,
          24228.2442837617,
          24313.1562283043,
          24322.1299152478,
          24302.1553463156,
          24198.2887512574,
          24445.0153495907,
          24340.1009660667,
          24425.0354771698,
          24342.0939211802,
          24435.980142561,
          24247.219971967,
          24254.2460594735,
          24172.3133737758,
          24397.0286437901,
          24462.9954598419,
          24481.9742613297,
          24227.2414596032,
          24310.1432231514,
          24453.9707454396,
          24304.1399733362
         ],
         "xaxis": "x",
         "y": [
          202613.46,
          181855.47,
          164860.67,
          164495.43,
          150030.75,
          127867.46,
          107734.85,
          98389.72,
          93752.38,
          86832.07,
          66961.32,
          55329.19,
          52005.95,
          48749.2,
          45235.11,
          43612.84,
          43287.44,
          42699.01,
          41963.32,
          41850.68,
          41191.89,
          38200.43,
          36759.46,
          32159.62,
          32055,
          30593.44,
          29603.95,
          28574.85,
          28440.18,
          21167.92,
          20762.43,
          20121.49,
          20048,
          19977.41,
          18450.25,
          16131.67,
          15140.46,
          15068.36,
          15007.06,
          13839.54,
          12695.1,
          12447.37,
          11192.13
         ],
         "yaxis": "y"
        },
        {
         "hovertemplate": "type=24159+Adducts<br>Mass=%{x}<br>Vol=%{y}<extra></extra>",
         "legendgroup": "24159+Adducts",
         "marker": {
          "color": "#EF553B",
          "symbol": "circle"
         },
         "mode": "markers",
         "name": "24159+Adducts",
         "orientation": "v",
         "showlegend": true,
         "type": "scatter",
         "x": [
          24227.2414596032,
          24265.1969958252,
          24331.1498750105,
          24341.0952473793,
          24379.0524892477
         ],
         "xaxis": "x",
         "y": [
          13839.54,
          45235.11,
          150030.75,
          36759.46,
          42699.01
         ],
         "yaxis": "y"
        }
       ],
       "layout": {
        "legend": {
         "title": {
          "text": "type"
         },
         "tracegroupgap": 0
        },
        "margin": {
         "t": 60
        },
        "template": {
         "data": {
          "bar": [
           {
            "error_x": {
             "color": "#2a3f5f"
            },
            "error_y": {
             "color": "#2a3f5f"
            },
            "marker": {
             "line": {
              "color": "#E5ECF6",
              "width": 0.5
             }
            },
            "type": "bar"
           }
          ],
          "barpolar": [
           {
            "marker": {
             "line": {
              "color": "#E5ECF6",
              "width": 0.5
             }
            },
            "type": "barpolar"
           }
          ],
          "carpet": [
           {
            "aaxis": {
             "endlinecolor": "#2a3f5f",
             "gridcolor": "white",
             "linecolor": "white",
             "minorgridcolor": "white",
             "startlinecolor": "#2a3f5f"
            },
            "baxis": {
             "endlinecolor": "#2a3f5f",
             "gridcolor": "white",
             "linecolor": "white",
             "minorgridcolor": "white",
             "startlinecolor": "#2a3f5f"
            },
            "type": "carpet"
           }
          ],
          "choropleth": [
           {
            "colorbar": {
             "outlinewidth": 0,
             "ticks": ""
            },
            "type": "choropleth"
           }
          ],
          "contour": [
           {
            "colorbar": {
             "outlinewidth": 0,
             "ticks": ""
            },
            "colorscale": [
             [
              0,
              "#0d0887"
             ],
             [
              0.1111111111111111,
              "#46039f"
             ],
             [
              0.2222222222222222,
              "#7201a8"
             ],
             [
              0.3333333333333333,
              "#9c179e"
             ],
             [
              0.4444444444444444,
              "#bd3786"
             ],
             [
              0.5555555555555556,
              "#d8576b"
             ],
             [
              0.6666666666666666,
              "#ed7953"
             ],
             [
              0.7777777777777778,
              "#fb9f3a"
             ],
             [
              0.8888888888888888,
              "#fdca26"
             ],
             [
              1,
              "#f0f921"
             ]
            ],
            "type": "contour"
           }
          ],
          "contourcarpet": [
           {
            "colorbar": {
             "outlinewidth": 0,
             "ticks": ""
            },
            "type": "contourcarpet"
           }
          ],
          "heatmap": [
           {
            "colorbar": {
             "outlinewidth": 0,
             "ticks": ""
            },
            "colorscale": [
             [
              0,
              "#0d0887"
             ],
             [
              0.1111111111111111,
              "#46039f"
             ],
             [
              0.2222222222222222,
              "#7201a8"
             ],
             [
              0.3333333333333333,
              "#9c179e"
             ],
             [
              0.4444444444444444,
              "#bd3786"
             ],
             [
              0.5555555555555556,
              "#d8576b"
             ],
             [
              0.6666666666666666,
              "#ed7953"
             ],
             [
              0.7777777777777778,
              "#fb9f3a"
             ],
             [
              0.8888888888888888,
              "#fdca26"
             ],
             [
              1,
              "#f0f921"
             ]
            ],
            "type": "heatmap"
           }
          ],
          "heatmapgl": [
           {
            "colorbar": {
             "outlinewidth": 0,
             "ticks": ""
            },
            "colorscale": [
             [
              0,
              "#0d0887"
             ],
             [
              0.1111111111111111,
              "#46039f"
             ],
             [
              0.2222222222222222,
              "#7201a8"
             ],
             [
              0.3333333333333333,
              "#9c179e"
             ],
             [
              0.4444444444444444,
              "#bd3786"
             ],
             [
              0.5555555555555556,
              "#d8576b"
             ],
             [
              0.6666666666666666,
              "#ed7953"
             ],
             [
              0.7777777777777778,
              "#fb9f3a"
             ],
             [
              0.8888888888888888,
              "#fdca26"
             ],
             [
              1,
              "#f0f921"
             ]
            ],
            "type": "heatmapgl"
           }
          ],
          "histogram": [
           {
            "marker": {
             "colorbar": {
              "outlinewidth": 0,
              "ticks": ""
             }
            },
            "type": "histogram"
           }
          ],
          "histogram2d": [
           {
            "colorbar": {
             "outlinewidth": 0,
             "ticks": ""
            },
            "colorscale": [
             [
              0,
              "#0d0887"
             ],
             [
              0.1111111111111111,
              "#46039f"
             ],
             [
              0.2222222222222222,
              "#7201a8"
             ],
             [
              0.3333333333333333,
              "#9c179e"
             ],
             [
              0.4444444444444444,
              "#bd3786"
             ],
             [
              0.5555555555555556,
              "#d8576b"
             ],
             [
              0.6666666666666666,
              "#ed7953"
             ],
             [
              0.7777777777777778,
              "#fb9f3a"
             ],
             [
              0.8888888888888888,
              "#fdca26"
             ],
             [
              1,
              "#f0f921"
             ]
            ],
            "type": "histogram2d"
           }
          ],
          "histogram2dcontour": [
           {
            "colorbar": {
             "outlinewidth": 0,
             "ticks": ""
            },
            "colorscale": [
             [
              0,
              "#0d0887"
             ],
             [
              0.1111111111111111,
              "#46039f"
             ],
             [
              0.2222222222222222,
              "#7201a8"
             ],
             [
              0.3333333333333333,
              "#9c179e"
             ],
             [
              0.4444444444444444,
              "#bd3786"
             ],
             [
              0.5555555555555556,
              "#d8576b"
             ],
             [
              0.6666666666666666,
              "#ed7953"
             ],
             [
              0.7777777777777778,
              "#fb9f3a"
             ],
             [
              0.8888888888888888,
              "#fdca26"
             ],
             [
              1,
              "#f0f921"
             ]
            ],
            "type": "histogram2dcontour"
           }
          ],
          "mesh3d": [
           {
            "colorbar": {
             "outlinewidth": 0,
             "ticks": ""
            },
            "type": "mesh3d"
           }
          ],
          "parcoords": [
           {
            "line": {
             "colorbar": {
              "outlinewidth": 0,
              "ticks": ""
             }
            },
            "type": "parcoords"
           }
          ],
          "pie": [
           {
            "automargin": true,
            "type": "pie"
           }
          ],
          "scatter": [
           {
            "marker": {
             "colorbar": {
              "outlinewidth": 0,
              "ticks": ""
             }
            },
            "type": "scatter"
           }
          ],
          "scatter3d": [
           {
            "line": {
             "colorbar": {
              "outlinewidth": 0,
              "ticks": ""
             }
            },
            "marker": {
             "colorbar": {
              "outlinewidth": 0,
              "ticks": ""
             }
            },
            "type": "scatter3d"
           }
          ],
          "scattercarpet": [
           {
            "marker": {
             "colorbar": {
              "outlinewidth": 0,
              "ticks": ""
             }
            },
            "type": "scattercarpet"
           }
          ],
          "scattergeo": [
           {
            "marker": {
             "colorbar": {
              "outlinewidth": 0,
              "ticks": ""
             }
            },
            "type": "scattergeo"
           }
          ],
          "scattergl": [
           {
            "marker": {
             "colorbar": {
              "outlinewidth": 0,
              "ticks": ""
             }
            },
            "type": "scattergl"
           }
          ],
          "scattermapbox": [
           {
            "marker": {
             "colorbar": {
              "outlinewidth": 0,
              "ticks": ""
             }
            },
            "type": "scattermapbox"
           }
          ],
          "scatterpolar": [
           {
            "marker": {
             "colorbar": {
              "outlinewidth": 0,
              "ticks": ""
             }
            },
            "type": "scatterpolar"
           }
          ],
          "scatterpolargl": [
           {
            "marker": {
             "colorbar": {
              "outlinewidth": 0,
              "ticks": ""
             }
            },
            "type": "scatterpolargl"
           }
          ],
          "scatterternary": [
           {
            "marker": {
             "colorbar": {
              "outlinewidth": 0,
              "ticks": ""
             }
            },
            "type": "scatterternary"
           }
          ],
          "surface": [
           {
            "colorbar": {
             "outlinewidth": 0,
             "ticks": ""
            },
            "colorscale": [
             [
              0,
              "#0d0887"
             ],
             [
              0.1111111111111111,
              "#46039f"
             ],
             [
              0.2222222222222222,
              "#7201a8"
             ],
             [
              0.3333333333333333,
              "#9c179e"
             ],
             [
              0.4444444444444444,
              "#bd3786"
             ],
             [
              0.5555555555555556,
              "#d8576b"
             ],
             [
              0.6666666666666666,
              "#ed7953"
             ],
             [
              0.7777777777777778,
              "#fb9f3a"
             ],
             [
              0.8888888888888888,
              "#fdca26"
             ],
             [
              1,
              "#f0f921"
             ]
            ],
            "type": "surface"
           }
          ],
          "table": [
           {
            "cells": {
             "fill": {
              "color": "#EBF0F8"
             },
             "line": {
              "color": "white"
             }
            },
            "header": {
             "fill": {
              "color": "#C8D4E3"
             },
             "line": {
              "color": "white"
             }
            },
            "type": "table"
           }
          ]
         },
         "layout": {
          "annotationdefaults": {
           "arrowcolor": "#2a3f5f",
           "arrowhead": 0,
           "arrowwidth": 1
          },
          "autotypenumbers": "strict",
          "coloraxis": {
           "colorbar": {
            "outlinewidth": 0,
            "ticks": ""
           }
          },
          "colorscale": {
           "diverging": [
            [
             0,
             "#8e0152"
            ],
            [
             0.1,
             "#c51b7d"
            ],
            [
             0.2,
             "#de77ae"
            ],
            [
             0.3,
             "#f1b6da"
            ],
            [
             0.4,
             "#fde0ef"
            ],
            [
             0.5,
             "#f7f7f7"
            ],
            [
             0.6,
             "#e6f5d0"
            ],
            [
             0.7,
             "#b8e186"
            ],
            [
             0.8,
             "#7fbc41"
            ],
            [
             0.9,
             "#4d9221"
            ],
            [
             1,
             "#276419"
            ]
           ],
           "sequential": [
            [
             0,
             "#0d0887"
            ],
            [
             0.1111111111111111,
             "#46039f"
            ],
            [
             0.2222222222222222,
             "#7201a8"
            ],
            [
             0.3333333333333333,
             "#9c179e"
            ],
            [
             0.4444444444444444,
             "#bd3786"
            ],
            [
             0.5555555555555556,
             "#d8576b"
            ],
            [
             0.6666666666666666,
             "#ed7953"
            ],
            [
             0.7777777777777778,
             "#fb9f3a"
            ],
            [
             0.8888888888888888,
             "#fdca26"
            ],
            [
             1,
             "#f0f921"
            ]
           ],
           "sequentialminus": [
            [
             0,
             "#0d0887"
            ],
            [
             0.1111111111111111,
             "#46039f"
            ],
            [
             0.2222222222222222,
             "#7201a8"
            ],
            [
             0.3333333333333333,
             "#9c179e"
            ],
            [
             0.4444444444444444,
             "#bd3786"
            ],
            [
             0.5555555555555556,
             "#d8576b"
            ],
            [
             0.6666666666666666,
             "#ed7953"
            ],
            [
             0.7777777777777778,
             "#fb9f3a"
            ],
            [
             0.8888888888888888,
             "#fdca26"
            ],
            [
             1,
             "#f0f921"
            ]
           ]
          },
          "colorway": [
           "#636efa",
           "#EF553B",
           "#00cc96",
           "#ab63fa",
           "#FFA15A",
           "#19d3f3",
           "#FF6692",
           "#B6E880",
           "#FF97FF",
           "#FECB52"
          ],
          "font": {
           "color": "#2a3f5f"
          },
          "geo": {
           "bgcolor": "white",
           "lakecolor": "white",
           "landcolor": "#E5ECF6",
           "showlakes": true,
           "showland": true,
           "subunitcolor": "white"
          },
          "hoverlabel": {
           "align": "left"
          },
          "hovermode": "closest",
          "mapbox": {
           "style": "light"
          },
          "paper_bgcolor": "white",
          "plot_bgcolor": "#E5ECF6",
          "polar": {
           "angularaxis": {
            "gridcolor": "white",
            "linecolor": "white",
            "ticks": ""
           },
           "bgcolor": "#E5ECF6",
           "radialaxis": {
            "gridcolor": "white",
            "linecolor": "white",
            "ticks": ""
           }
          },
          "scene": {
           "xaxis": {
            "backgroundcolor": "#E5ECF6",
            "gridcolor": "white",
            "gridwidth": 2,
            "linecolor": "white",
            "showbackground": true,
            "ticks": "",
            "zerolinecolor": "white"
           },
           "yaxis": {
            "backgroundcolor": "#E5ECF6",
            "gridcolor": "white",
            "gridwidth": 2,
            "linecolor": "white",
            "showbackground": true,
            "ticks": "",
            "zerolinecolor": "white"
           },
           "zaxis": {
            "backgroundcolor": "#E5ECF6",
            "gridcolor": "white",
            "gridwidth": 2,
            "linecolor": "white",
            "showbackground": true,
            "ticks": "",
            "zerolinecolor": "white"
           }
          },
          "shapedefaults": {
           "line": {
            "color": "#2a3f5f"
           }
          },
          "ternary": {
           "aaxis": {
            "gridcolor": "white",
            "linecolor": "white",
            "ticks": ""
           },
           "baxis": {
            "gridcolor": "white",
            "linecolor": "white",
            "ticks": ""
           },
           "bgcolor": "#E5ECF6",
           "caxis": {
            "gridcolor": "white",
            "linecolor": "white",
            "ticks": ""
           }
          },
          "title": {
           "x": 0.05
          },
          "xaxis": {
           "automargin": true,
           "gridcolor": "white",
           "linecolor": "white",
           "ticks": "",
           "title": {
            "standoff": 15
           },
           "zerolinecolor": "white",
           "zerolinewidth": 2
          },
          "yaxis": {
           "automargin": true,
           "gridcolor": "white",
           "linecolor": "white",
           "ticks": "",
           "title": {
            "standoff": 15
           },
           "zerolinecolor": "white",
           "zerolinewidth": 2
          }
         }
        },
        "xaxis": {
         "anchor": "y",
         "domain": [
          0,
          1
         ],
         "title": {
          "text": "Mass"
         }
        },
        "yaxis": {
         "anchor": "x",
         "domain": [
          0,
          1
         ],
         "title": {
          "text": "Vol"
         }
        }
       }
      },
      "text/html": [
       "<div>                            <div id=\"9b675071-5497-4d6f-a525-263e1c33bd8a\" class=\"plotly-graph-div\" style=\"height:525px; width:100%;\"></div>            <script type=\"text/javascript\">                require([\"plotly\"], function(Plotly) {                    window.PLOTLYENV=window.PLOTLYENV || {};                                    if (document.getElementById(\"9b675071-5497-4d6f-a525-263e1c33bd8a\")) {                    Plotly.newPlot(                        \"9b675071-5497-4d6f-a525-263e1c33bd8a\",                        [{\"hovertemplate\": \"type=DataSource<br>Mass=%{x}<br>Vol=%{y}<extra></extra>\", \"legendgroup\": \"DataSource\", \"marker\": {\"color\": \"#636efa\", \"symbol\": \"circle\"}, \"mode\": \"markers\", \"name\": \"DataSource\", \"orientation\": \"v\", \"showlegend\": true, \"type\": \"scatter\", \"x\": [24274.2153954554, 24294.186110206, 24255.2450532358, 24311.1804648306, 24331.1498750105, 24350.1217460797, 24217.2780567485, 24237.2559338324, 24388.0862295545, 24370.1017627704, 24285.1777094061, 24426.0378688137, 24361.0729126715, 24330.1567015343, 24265.1969958252, 24159.2655752119, 24216.2820955423, 24379.0524892477, 24416.0081557757, 24406.0455266371, 24351.1179990987, 24199.2811430781, 24341.0952473793, 24228.2442837617, 24313.1562283043, 24322.1299152478, 24302.1553463156, 24198.2887512574, 24445.0153495907, 24340.1009660667, 24425.0354771698, 24342.0939211802, 24435.980142561, 24247.219971967, 24254.2460594735, 24172.3133737758, 24397.0286437901, 24462.9954598419, 24481.9742613297, 24227.2414596032, 24310.1432231514, 24453.9707454396, 24304.1399733362], \"xaxis\": \"x\", \"y\": [202613.46, 181855.47, 164860.67, 164495.43, 150030.75, 127867.46, 107734.85, 98389.72, 93752.38, 86832.07, 66961.32, 55329.19, 52005.95, 48749.2, 45235.11, 43612.84, 43287.44, 42699.01, 41963.32, 41850.68, 41191.89, 38200.43, 36759.46, 32159.62, 32055.0, 30593.44, 29603.95, 28574.85, 28440.18, 21167.92, 20762.43, 20121.49, 20048.0, 19977.41, 18450.25, 16131.67, 15140.46, 15068.36, 15007.06, 13839.54, 12695.1, 12447.37, 11192.13], \"yaxis\": \"y\"}, {\"hovertemplate\": \"type=24159+Adducts<br>Mass=%{x}<br>Vol=%{y}<extra></extra>\", \"legendgroup\": \"24159+Adducts\", \"marker\": {\"color\": \"#EF553B\", \"symbol\": \"circle\"}, \"mode\": \"markers\", \"name\": \"24159+Adducts\", \"orientation\": \"v\", \"showlegend\": true, \"type\": \"scatter\", \"x\": [24227.2414596032, 24265.1969958252, 24331.1498750105, 24341.0952473793, 24379.0524892477], \"xaxis\": \"x\", \"y\": [13839.54, 45235.11, 150030.75, 36759.46, 42699.01], \"yaxis\": \"y\"}],                        {\"legend\": {\"title\": {\"text\": \"type\"}, \"tracegroupgap\": 0}, \"margin\": {\"t\": 60}, \"template\": {\"data\": {\"bar\": [{\"error_x\": {\"color\": \"#2a3f5f\"}, \"error_y\": {\"color\": \"#2a3f5f\"}, \"marker\": {\"line\": {\"color\": \"#E5ECF6\", \"width\": 0.5}}, \"type\": \"bar\"}], \"barpolar\": [{\"marker\": {\"line\": {\"color\": \"#E5ECF6\", \"width\": 0.5}}, \"type\": \"barpolar\"}], \"carpet\": [{\"aaxis\": {\"endlinecolor\": \"#2a3f5f\", \"gridcolor\": \"white\", \"linecolor\": \"white\", \"minorgridcolor\": \"white\", \"startlinecolor\": \"#2a3f5f\"}, \"baxis\": {\"endlinecolor\": \"#2a3f5f\", \"gridcolor\": \"white\", \"linecolor\": \"white\", \"minorgridcolor\": \"white\", \"startlinecolor\": \"#2a3f5f\"}, \"type\": \"carpet\"}], \"choropleth\": [{\"colorbar\": {\"outlinewidth\": 0, \"ticks\": \"\"}, \"type\": \"choropleth\"}], \"contour\": [{\"colorbar\": {\"outlinewidth\": 0, \"ticks\": \"\"}, \"colorscale\": [[0.0, \"#0d0887\"], [0.1111111111111111, \"#46039f\"], [0.2222222222222222, \"#7201a8\"], [0.3333333333333333, \"#9c179e\"], [0.4444444444444444, \"#bd3786\"], [0.5555555555555556, \"#d8576b\"], [0.6666666666666666, \"#ed7953\"], [0.7777777777777778, \"#fb9f3a\"], [0.8888888888888888, \"#fdca26\"], [1.0, \"#f0f921\"]], \"type\": \"contour\"}], \"contourcarpet\": [{\"colorbar\": {\"outlinewidth\": 0, \"ticks\": \"\"}, \"type\": \"contourcarpet\"}], \"heatmap\": [{\"colorbar\": {\"outlinewidth\": 0, \"ticks\": \"\"}, \"colorscale\": [[0.0, \"#0d0887\"], [0.1111111111111111, \"#46039f\"], [0.2222222222222222, \"#7201a8\"], [0.3333333333333333, \"#9c179e\"], [0.4444444444444444, \"#bd3786\"], [0.5555555555555556, \"#d8576b\"], [0.6666666666666666, \"#ed7953\"], [0.7777777777777778, \"#fb9f3a\"], [0.8888888888888888, \"#fdca26\"], [1.0, \"#f0f921\"]], \"type\": \"heatmap\"}], \"heatmapgl\": [{\"colorbar\": {\"outlinewidth\": 0, \"ticks\": \"\"}, \"colorscale\": [[0.0, \"#0d0887\"], [0.1111111111111111, \"#46039f\"], [0.2222222222222222, \"#7201a8\"], [0.3333333333333333, \"#9c179e\"], [0.4444444444444444, \"#bd3786\"], [0.5555555555555556, \"#d8576b\"], [0.6666666666666666, \"#ed7953\"], [0.7777777777777778, \"#fb9f3a\"], [0.8888888888888888, \"#fdca26\"], [1.0, \"#f0f921\"]], \"type\": \"heatmapgl\"}], \"histogram\": [{\"marker\": {\"colorbar\": {\"outlinewidth\": 0, \"ticks\": \"\"}}, \"type\": \"histogram\"}], \"histogram2d\": [{\"colorbar\": {\"outlinewidth\": 0, \"ticks\": \"\"}, \"colorscale\": [[0.0, \"#0d0887\"], [0.1111111111111111, \"#46039f\"], [0.2222222222222222, \"#7201a8\"], [0.3333333333333333, \"#9c179e\"], [0.4444444444444444, \"#bd3786\"], [0.5555555555555556, \"#d8576b\"], [0.6666666666666666, \"#ed7953\"], [0.7777777777777778, \"#fb9f3a\"], [0.8888888888888888, \"#fdca26\"], [1.0, \"#f0f921\"]], \"type\": \"histogram2d\"}], \"histogram2dcontour\": [{\"colorbar\": {\"outlinewidth\": 0, \"ticks\": \"\"}, \"colorscale\": [[0.0, \"#0d0887\"], [0.1111111111111111, \"#46039f\"], [0.2222222222222222, \"#7201a8\"], [0.3333333333333333, \"#9c179e\"], [0.4444444444444444, \"#bd3786\"], [0.5555555555555556, \"#d8576b\"], [0.6666666666666666, \"#ed7953\"], [0.7777777777777778, \"#fb9f3a\"], [0.8888888888888888, \"#fdca26\"], [1.0, \"#f0f921\"]], \"type\": \"histogram2dcontour\"}], \"mesh3d\": [{\"colorbar\": {\"outlinewidth\": 0, \"ticks\": \"\"}, \"type\": \"mesh3d\"}], \"parcoords\": [{\"line\": {\"colorbar\": {\"outlinewidth\": 0, \"ticks\": \"\"}}, \"type\": \"parcoords\"}], \"pie\": [{\"automargin\": true, \"type\": \"pie\"}], \"scatter\": [{\"marker\": {\"colorbar\": {\"outlinewidth\": 0, \"ticks\": \"\"}}, \"type\": \"scatter\"}], \"scatter3d\": [{\"line\": {\"colorbar\": {\"outlinewidth\": 0, \"ticks\": \"\"}}, \"marker\": {\"colorbar\": {\"outlinewidth\": 0, \"ticks\": \"\"}}, \"type\": \"scatter3d\"}], \"scattercarpet\": [{\"marker\": {\"colorbar\": {\"outlinewidth\": 0, \"ticks\": \"\"}}, \"type\": \"scattercarpet\"}], \"scattergeo\": [{\"marker\": {\"colorbar\": {\"outlinewidth\": 0, \"ticks\": \"\"}}, \"type\": \"scattergeo\"}], \"scattergl\": [{\"marker\": {\"colorbar\": {\"outlinewidth\": 0, \"ticks\": \"\"}}, \"type\": \"scattergl\"}], \"scattermapbox\": [{\"marker\": {\"colorbar\": {\"outlinewidth\": 0, \"ticks\": \"\"}}, \"type\": \"scattermapbox\"}], \"scatterpolar\": [{\"marker\": {\"colorbar\": {\"outlinewidth\": 0, \"ticks\": \"\"}}, \"type\": \"scatterpolar\"}], \"scatterpolargl\": [{\"marker\": {\"colorbar\": {\"outlinewidth\": 0, \"ticks\": \"\"}}, \"type\": \"scatterpolargl\"}], \"scatterternary\": [{\"marker\": {\"colorbar\": {\"outlinewidth\": 0, \"ticks\": \"\"}}, \"type\": \"scatterternary\"}], \"surface\": [{\"colorbar\": {\"outlinewidth\": 0, \"ticks\": \"\"}, \"colorscale\": [[0.0, \"#0d0887\"], [0.1111111111111111, \"#46039f\"], [0.2222222222222222, \"#7201a8\"], [0.3333333333333333, \"#9c179e\"], [0.4444444444444444, \"#bd3786\"], [0.5555555555555556, \"#d8576b\"], [0.6666666666666666, \"#ed7953\"], [0.7777777777777778, \"#fb9f3a\"], [0.8888888888888888, \"#fdca26\"], [1.0, \"#f0f921\"]], \"type\": \"surface\"}], \"table\": [{\"cells\": {\"fill\": {\"color\": \"#EBF0F8\"}, \"line\": {\"color\": \"white\"}}, \"header\": {\"fill\": {\"color\": \"#C8D4E3\"}, \"line\": {\"color\": \"white\"}}, \"type\": \"table\"}]}, \"layout\": {\"annotationdefaults\": {\"arrowcolor\": \"#2a3f5f\", \"arrowhead\": 0, \"arrowwidth\": 1}, \"autotypenumbers\": \"strict\", \"coloraxis\": {\"colorbar\": {\"outlinewidth\": 0, \"ticks\": \"\"}}, \"colorscale\": {\"diverging\": [[0, \"#8e0152\"], [0.1, \"#c51b7d\"], [0.2, \"#de77ae\"], [0.3, \"#f1b6da\"], [0.4, \"#fde0ef\"], [0.5, \"#f7f7f7\"], [0.6, \"#e6f5d0\"], [0.7, \"#b8e186\"], [0.8, \"#7fbc41\"], [0.9, \"#4d9221\"], [1, \"#276419\"]], \"sequential\": [[0.0, \"#0d0887\"], [0.1111111111111111, \"#46039f\"], [0.2222222222222222, \"#7201a8\"], [0.3333333333333333, \"#9c179e\"], [0.4444444444444444, \"#bd3786\"], [0.5555555555555556, \"#d8576b\"], [0.6666666666666666, \"#ed7953\"], [0.7777777777777778, \"#fb9f3a\"], [0.8888888888888888, \"#fdca26\"], [1.0, \"#f0f921\"]], \"sequentialminus\": [[0.0, \"#0d0887\"], [0.1111111111111111, \"#46039f\"], [0.2222222222222222, \"#7201a8\"], [0.3333333333333333, \"#9c179e\"], [0.4444444444444444, \"#bd3786\"], [0.5555555555555556, \"#d8576b\"], [0.6666666666666666, \"#ed7953\"], [0.7777777777777778, \"#fb9f3a\"], [0.8888888888888888, \"#fdca26\"], [1.0, \"#f0f921\"]]}, \"colorway\": [\"#636efa\", \"#EF553B\", \"#00cc96\", \"#ab63fa\", \"#FFA15A\", \"#19d3f3\", \"#FF6692\", \"#B6E880\", \"#FF97FF\", \"#FECB52\"], \"font\": {\"color\": \"#2a3f5f\"}, \"geo\": {\"bgcolor\": \"white\", \"lakecolor\": \"white\", \"landcolor\": \"#E5ECF6\", \"showlakes\": true, \"showland\": true, \"subunitcolor\": \"white\"}, \"hoverlabel\": {\"align\": \"left\"}, \"hovermode\": \"closest\", \"mapbox\": {\"style\": \"light\"}, \"paper_bgcolor\": \"white\", \"plot_bgcolor\": \"#E5ECF6\", \"polar\": {\"angularaxis\": {\"gridcolor\": \"white\", \"linecolor\": \"white\", \"ticks\": \"\"}, \"bgcolor\": \"#E5ECF6\", \"radialaxis\": {\"gridcolor\": \"white\", \"linecolor\": \"white\", \"ticks\": \"\"}}, \"scene\": {\"xaxis\": {\"backgroundcolor\": \"#E5ECF6\", \"gridcolor\": \"white\", \"gridwidth\": 2, \"linecolor\": \"white\", \"showbackground\": true, \"ticks\": \"\", \"zerolinecolor\": \"white\"}, \"yaxis\": {\"backgroundcolor\": \"#E5ECF6\", \"gridcolor\": \"white\", \"gridwidth\": 2, \"linecolor\": \"white\", \"showbackground\": true, \"ticks\": \"\", \"zerolinecolor\": \"white\"}, \"zaxis\": {\"backgroundcolor\": \"#E5ECF6\", \"gridcolor\": \"white\", \"gridwidth\": 2, \"linecolor\": \"white\", \"showbackground\": true, \"ticks\": \"\", \"zerolinecolor\": \"white\"}}, \"shapedefaults\": {\"line\": {\"color\": \"#2a3f5f\"}}, \"ternary\": {\"aaxis\": {\"gridcolor\": \"white\", \"linecolor\": \"white\", \"ticks\": \"\"}, \"baxis\": {\"gridcolor\": \"white\", \"linecolor\": \"white\", \"ticks\": \"\"}, \"bgcolor\": \"#E5ECF6\", \"caxis\": {\"gridcolor\": \"white\", \"linecolor\": \"white\", \"ticks\": \"\"}}, \"title\": {\"x\": 0.05}, \"xaxis\": {\"automargin\": true, \"gridcolor\": \"white\", \"linecolor\": \"white\", \"ticks\": \"\", \"title\": {\"standoff\": 15}, \"zerolinecolor\": \"white\", \"zerolinewidth\": 2}, \"yaxis\": {\"automargin\": true, \"gridcolor\": \"white\", \"linecolor\": \"white\", \"ticks\": \"\", \"title\": {\"standoff\": 15}, \"zerolinecolor\": \"white\", \"zerolinewidth\": 2}}}, \"xaxis\": {\"anchor\": \"y\", \"domain\": [0.0, 1.0], \"title\": {\"text\": \"Mass\"}}, \"yaxis\": {\"anchor\": \"x\", \"domain\": [0.0, 1.0], \"title\": {\"text\": \"Vol\"}}},                        {\"responsive\": true}                    ).then(function(){\n",
       "                            \n",
       "var gd = document.getElementById('9b675071-5497-4d6f-a525-263e1c33bd8a');\n",
       "var x = new MutationObserver(function (mutations, observer) {{\n",
       "        var display = window.getComputedStyle(gd).display;\n",
       "        if (!display || display === 'none') {{\n",
       "            console.log([gd, 'removed!']);\n",
       "            Plotly.purge(gd);\n",
       "            observer.disconnect();\n",
       "        }}\n",
       "}});\n",
       "\n",
       "// Listen for the removal of the full notebook cells\n",
       "var notebookContainer = gd.closest('#notebook-container');\n",
       "if (notebookContainer) {{\n",
       "    x.observe(notebookContainer, {childList: true});\n",
       "}}\n",
       "\n",
       "// Listen for the clearing of the current output cell\n",
       "var outputEl = gd.closest('.output');\n",
       "if (outputEl) {{\n",
       "    x.observe(outputEl, {childList: true});\n",
       "}}\n",
       "\n",
       "                        })                };                });            </script>        </div>"
      ]
     },
     "metadata": {},
     "output_type": "display_data"
    },
    {
     "name": "stdout",
     "output_type": "stream",
     "text": [
      "Top dots:  [24274.2153954554, 24294.186110206, 24255.2450532358, 24311.1804648306, 24331.1498750105, 24350.1217460797, 24217.2780567485, 24237.2559338324, 24388.0862295545, 24370.1017627704]\n",
      "intact  24160.2 hit  [24294.186110206, 24228.2442837617, 24342.0939211802, 24310.1432231514, 24304.1399733362]\n",
      "intact  24159.2 hit  [24331.1498750105, 24265.1969958252, 24379.0524892477, 24341.0952473793, 24227.2414596032]\n",
      "intact  24176.2 hit  [24350.1217460797, 24388.0862295545, 24370.1017627704, 24426.0378688137, 24416.0081557757, 24406.0455266371, 24322.1299152478, 24302.1553463156, 24340.1009660667, 24342.0939211802, 24435.980142561, 24481.9742613297, 24310.1432231514, 24453.9707454396, 24304.1399733362]\n"
     ]
    }
   ],
   "source": [
    "amino = 140.1 - H2O\n",
    "ppm = 10\n",
    "\n",
    "dfa = detect_combined_salts(df_24k, 24146.13, 6, ppm=ppm)\n",
    "plotly_zones(df_24k, dfa, y='Vol', names=['DataSource', '24160+Adducts'])\n",
    "dfb = detect_combined_salts(df_24k, 24183.09, 6, ppm=ppm)\n",
    "plotly_zones(df_24k, dfb, y='Vol', names=['DataSource', '24159+Adducts'])\n",
    "# dfc = detect_combined_salts(df_24k, 24176.2, 6, ppm=ppm)\n",
    "# plotly_zones(df_24k, dfc, y='Vol', names=['DataSource', '24176+Adducts'])\n",
    "\n",
    "print('Top dots: ', df_24k.iloc[:10].Mass.tolist())\n",
    "mass_hits = [(24160.2, dfa), (24159.2, dfb), (24176.2, dfc)]\n",
    "for mass, df_found in mass_hits:\n",
    "    if not df_found.empty:\n",
    "        df_found = df_found.sort_values('Vol', ascending=False)\n",
    "        print('intact ', mass, 'hit ', df_found.Mass.tolist())\n",
    "# dfa = detect_combined_salts(df_24k, 24146.2 + amino, 30)\n",
    "# plotly_zones(df_24k, dfa, y='Vol', names=['DataSource', '24146+Adducts'])\n",
    "\n",
    "# dfb = detect_combined_salts(df_24k, 24146.2, 30)\n",
    "# plotly_zones(df_24k, dfb, y='Vol', names=['DataSource', '24160+Adducts'])\n",
    "# dfm1 = match_dfs(dfa, dfb)\n",
    "# dfm2 = match_dfs(dfb, dfa)\n",
    "# plotly_zone(dfm, y='Vol')\n",
    "\n",
    "# print(dfa.shape, \n",
    "#         dfa.Vol.sum()/1E3, \n",
    "#       dfb.shape, \n",
    "#       dfb.Vol.sum()/1E3, \n",
    "#      dfc.shape,\n",
    "#      dfc.Vol.sum()/1E3\n",
    "#      )"
   ]
  },
  {
   "cell_type": "code",
   "execution_count": 687,
   "id": "bibliographic-basement",
   "metadata": {},
   "outputs": [
    {
     "data": {
      "application/vnd.plotly.v1+json": {
       "config": {
        "plotlyServerURL": "https://plot.ly"
       },
       "data": [
        {
         "hovertemplate": "Mass=%{x}<br>RT=%{y}<extra></extra>",
         "legendgroup": "",
         "marker": {
          "color": "#636efa",
          "symbol": "circle"
         },
         "mode": "markers",
         "name": "",
         "showlegend": false,
         "type": "scattergl",
         "x": [
          24532.9364359808,
          24525.9069180495,
          24516.8992043533,
          24500.9657051581,
          24481.9742613297,
          24480.967291803,
          24471.9585511988,
          24462.9954598419,
          24460.9686155062,
          24454.9600199103,
          24453.9707454396,
          24452.9584148208,
          24445.0153495907,
          24435.980142561,
          24435.0101139851,
          24433.9786665855,
          24433.0233060373,
          24426.0378688137,
          24425.0354771698,
          24416.0081557757,
          24415.0012804837,
          24414.0054477896,
          24412.0425337977,
          24410.0419894694,
          24406.0455266371,
          24397.0286437901,
          24395.0369801359,
          24391.0519462752,
          24389.0667485687,
          24388.0862295545,
          24386.0937114134,
          24379.0524892477,
          24371.0839056526,
          24370.1017627704,
          24361.0729126715,
          24351.1179990987,
          24350.1217460797,
          24342.0939211802,
          24341.0952473793,
          24340.1009660667,
          24339.1515014232,
          24332.1324303871,
          24331.1498750105,
          24330.1567015343,
          24329.1144714402,
          24323.1121299603,
          24322.1299152478,
          24319.1571298377,
          24313.1562283043,
          24311.1804648306,
          24310.1432231514,
          24304.1399733362,
          24302.1553463156,
          24294.186110206,
          24287.1605959963,
          24286.1771080903,
          24285.1777094061,
          24282.2018192784,
          24277.1872517475,
          24275.1819479932,
          24274.2153954554,
          24266.198908701,
          24265.1969958252,
          24263.2089473169,
          24257.1865841469,
          24255.2450532358,
          24254.2460594735,
          24253.2187650777,
          24247.219971967,
          24237.2559338324,
          24228.2442837617,
          24227.2414596032,
          24226.2298352823,
          24218.2178758122,
          24217.2780567485,
          24216.2820955423,
          24209.258557196,
          24201.1637978303,
          24200.2313696932,
          24199.2811430781,
          24198.2887512574,
          24197.2764943679,
          24190.2891464725,
          24189.3050133915,
          24179.2945617359,
          24172.3133737758,
          24160.3092175975,
          24159.2655752119,
          8125.02370402532,
          8112.03486398677,
          7196.28141264544,
          7180.28787173812,
          6453.36910625082,
          3504.27110177971,
          2151.76457238674,
          1923.68911465312,
          1911.91370149247,
          1893.74316656837,
          1883.93881868116,
          1871.74580053667,
          1795.94351199288,
          1788.9606744884,
          1783.92625091343,
          1768.73879131898,
          1767.73375571785,
          1750.77266458785,
          1749.68299151006,
          1747.96299906998,
          1709.77704293311,
          1692.72541962919,
          1688.96690982193,
          1682.95823842893,
          1682.80030307723,
          1681.80223798328,
          1676.75024909283,
          1676.74968876003,
          1675.75028032056,
          1675.74883953081,
          1665.75008075904,
          1665.66427240406,
          1659.97441268624,
          1635.93196397798,
          1625.75723432638,
          1619.97631604637,
          1603.94284167044,
          1591.88242648766,
          1588.97311298509,
          1583.02977887957,
          1582.96760964104,
          1582.96517892612,
          1575.95092673035,
          1575.83906855056,
          1575.83807962401,
          1565.95048007181,
          1560.78906635272,
          1555.94464259216,
          1549.7791760426,
          1548.66398550196,
          1541.73848036227,
          1536.72542421638,
          1535.93937177584,
          1527.19346088238,
          1526.76579759834,
          1525.76696671814,
          1525.76650440666,
          1522.94591263506,
          1517.90858611131,
          1513.81484301973,
          1513.81457221833,
          1511.86043367972,
          1508.79819486199,
          1507.79681165619,
          1507.79635583797,
          1502.77933266751,
          1501.78005914742,
          1499.95594554203,
          1498.83640636809,
          1497.83764670435,
          1497.8371715479,
          1494.73689226873,
          1492.82065128619,
          1491.96815408125,
          1491.82061787935,
          1491.81996587966,
          1488.98056450463,
          1487.93803116959,
          1485.80528958433,
          1482.97250409445,
          1474.10457755293,
          1466.80829854509,
          1465.80798039861,
          1462.96429940507,
          1462.62708231741,
          1459.79046666043,
          1456.94975101638,
          1444.81558745906,
          1443.81650418075,
          1428.95058311946,
          1427.84276603514,
          1426.82030292104,
          1425.82059510868,
          1425.82011735583,
          1421.90125715414,
          1420.80290510544,
          1419.80269250873,
          1419.80157690683,
          1417.63111821583,
          1411.86480816809,
          1408.98094889818,
          1407.84816445069,
          1407.84776826073,
          1402.83308855529,
          1402.83273842209,
          1397.76005655183,
          1396.993277961,
          1395.81298509218,
          1395.68464662428,
          1393.74195686038,
          1393.74103186344,
          1392.87105330558,
          1392.87098644818,
          1391.86996235633,
          1391.86963052294,
          1387.80870655938,
          1387.80614136752,
          1386.85493218699,
          1385.92406828667,
          1385.85439097336,
          1382.97773944554,
          1381.78857389964,
          1381.78852875108,
          1380.83856382493,
          1377.76717150851,
          1376.58864874049,
          1375.9566,
          1375.77123318191,
          1375.77121084974,
          1369.83769922819,
          1369.75533099179,
          1366.81284898855,
          1365.81341851051,
          1365.81244519123,
          1359.79546353457,
          1353.77892325109,
          1352.96286412772,
          1349.88798619039,
          1343.86971886883,
          1341.80218482959,
          1341.79968609426,
          1339.94176459866,
          1339.80290452499,
          1335.7812512292,
          1335.7802780889,
          1333.78492418856,
          1333.6094,
          1329.84610671642,
          1329.76354371807,
          1329.76326175605,
          1327.89291479548,
          1327.89204187341,
          1324.83195750698,
          1324.68761916585,
          1323.82891699088,
          1323.82886983087,
          1322.87820380331,
          1321.87611010402,
          1321.87555937177,
          1318.81540734027,
          1318.81478452751,
          1317.8118088162,
          1317.81143469051,
          1314.05134822064,
          1313.78864111011,
          1312.79754503124,
          1311.79390148668,
          1311.66426942602,
          1308.8559283706,
          1308.85492491119,
          1308.85467546452,
          1307.85551715764,
          1307.85464344305,
          1305.89886738666,
          1303.78615374079,
          1302.83728191537,
          1301.83700495748,
          1301.83627601728,
          1300.05211451733,
          1296.86871664342,
          1295.86519125642,
          1295.86486301768,
          1295.86443520374,
          1294.79455343561,
          1293.79483341917,
          1293.79465729094,
          1290.55260125499,
          1288.77720103523,
          1287.77726499206,
          1287.77715959037,
          1282.98435205919,
          1282.84328078699,
          1281.8395727119,
          1281.8392,
          1281.79433618645,
          1280.89133713307,
          1280.88965604043,
          1279.88681121311,
          1275.82316772737,
          1275.82306810669,
          1271.80272678471,
          1271.80207145561,
          1269.80686366575,
          1269.80634367012,
          1267.63710111388,
          1263.6583835253,
          1260.8493374963,
          1259.84733951794,
          1259.84713565995,
          1257.85690348975,
          1255.7818109917,
          1255.77979782117,
          1254.83337053278,
          1253.83150886321,
          1253.83044334058,
          1249.76435548467,
          1247.81549890169,
          1245.82681968273,
          1243.8776072517,
          1241.90502735715,
          1239.81058457045,
          1237.86014728041,
          1235.83336015099,
          1235.83285649102,
          1231.84245979651,
          1231.80504843492,
          1229.8190322333,
          1229.8185976451,
          1229.77197573942,
          1227.77425589827,
          1227.609,
          1223.88035772253,
          1223.79894952508,
          1221.88081254471,
          1218.86658535267,
          1217.86406560875,
          1215.98584332413,
          1212.85008752771,
          1212.84998565842,
          1211.8471074926,
          1208.01287395207,
          1207.82827905861,
          1205.82894054525,
          1204.75792015717,
          1204.51547650314,
          1203.96598868774,
          1203.75810152491,
          1203.75777854594,
          1202.88951355335,
          1202.88940472304,
          1201.96971121204,
          1201.88972810346,
          1201.76494636972,
          1197.82119809777,
          1197.78056253706,
          1197.7396378453,
          1196.87214513864,
          1196.87159344127,
          1195.87178517598,
          1191.80467564349,
          1191.80461688987,
          1191.80440334617,
          1189.85491753221,
          1189.85443314782,
          1187.78532118985,
          1187.78406557668,
          1182.0270765179,
          1181.81337905275,
          1181.81272571173,
          1181.76707215704,
          1179.89705132501,
          1179.85502058886,
          1179.85487580338,
          1175.83000044496,
          1173.83737658213,
          1171.85768846739,
          1171.7628425625,
          1171.76009887751,
          1171.72172319311,
          1170.26487481,
          1167.82129573458,
          1167.82060367756,
          1167.82014215946,
          1165.8388678966,
          1165.83860851819,
          1165.7921231932,
          1163.8419093978,
          1163.84182658327,
          1163.76446145438,
          1161.8081194451,
          1161.80790314173,
          1161.76896654012,
          1159.90483480756,
          1158.72999127034,
          1157.69392326429,
          1156.75277120603,
          1153.88692627395,
          1153.88671132083,
          1153.83896099502,
          1151.81182636575,
          1149.86944244576,
          1149.81478158286,
          1147.86830390165,
          1147.86761098502,
          1147.82046280309,
          1145.8762865056,
          1145.79594431106,
          1145.79517278118,
          1143.79938451261,
          1139.86200165425,
          1139.82423547494,
          1139.82320296274,
          1139.77981344569,
          1139.77927273867,
          1138.91278693379,
          1137.90996396122,
          1137.90972002959,
          1137.78130361619,
          1136.4894,
          1134.84746565032,
          1133.84705734182,
          1133.8459703121,
          1131.96308628952,
          1131.89816318961,
          1131.63423001535,
          1130.8705156113,
          1130.86995679288,
          1129.90038881471,
          1129.8706067384,
          1129.87052975362,
          1127.87349438441,
          1127.87309287087,
          1127.82744359219,
          1127.82719589156,
          1126.23875193223,
          1124.85436170668,
          1124.85432074086,
          1123.85517099761,
          1123.85446053288,
          1121.85496521189,
          1121.81030293928,
          1121.80946914983,
          1118.47862820267,
          1117.91633133791,
          1117.91626306862,
          1117.87871470603,
          1115.92003961602,
          1115.79463593371,
          1113.80241142745,
          1111.89924523323,
          1111.86134221596,
          1111.86059061845,
          1107.96192077504,
          1106.88625442566,
          1106.8860333675,
          1105.88244699007,
          1105.88176178657,
          1105.80510133336,
          1105.80366753652,
          1104.81067171556,
          1104.65205287575,
          1103.84011720782,
          1103.81116960655,
          1103.81036006419,
          1103.76340103369,
          1102.65255031866,
          1099.82167031685,
          1099.78777195144,
          1098.79401824996,
          1097.79442431387,
          1097.79338766362,
          1096.92384852495,
          1095.92171995791,
          1095.83738935757,
          1093.85367103061,
          1093.85363442818,
          1093.85360159121,
          1093.85343339758,
          1091.85647309706,
          1091.81603389191,
          1091.81547879167,
          1090.9074513899,
          1090.90742604225,
          1089.90492339375,
          1089.90433056138,
          1089.86177087039,
          1087.95583804367,
          1087.83686214362,
          1087.83651433707,
          1086.12473915868,
          1085.83993302834,
          1085.8397022842,
          1084.7347,
          1083.84683154242,
          1083.80609902879,
          1081.81975719742,
          1081.81941397497,
          1079.91870516853,
          1079.91854474556,
          1079.82323449856,
          1079.82322218465,
          1079.78769475532,
          1078.73014297754,
          1078.1871419173,
          1077.82962233014,
          1077.78913078995,
          1076.19011490146,
          1075.9881,
          1075.97964339306,
          1074.89309688273,
          1074.17491964682,
          1073.89054503236,
          1073.80983914718,
          1073.80856070409,
          1072.10760102806,
          1071.86074305905,
          1071.86026107133,
          1070.8679392888,
          1069.89828099892,
          1069.86437894115,
          1067.87304954698,
          1067.83495534661,
          1067.83418908775,
          1065.84598417361,
          1065.79654800007,
          1065.7965,
          1065.75722278338,
          1065.58630201258,
          1063.94077796699,
          1063.84849114572,
          1063.8109857791,
          1061.85658580292,
          1061.85649820202,
          1061.82222859396,
          1061.77742155254,
          1059.78064868548,
          1057.83541387568,
          1057.83434228923,
          1055.97068979151,
          1055.84328216936,
          1055.84301931489,
          1051.89752801436,
          1051.89739278139,
          1050.45329947268,
          1049.87294725818,
          1049.82594246084,
          1049.82587491354,
          1047.84660418335,
          1047.84458901433,
          1046.85325663167,
          1046.63407553486,
          1045.88328643246,
          1045.85325499146,
          1045.80607263983,
          1044.61781857694,
          1043.85562917905,
          1043.85218513567,
          1043.80857797622,
          1043.8076152599,
          1041.85835170218,
          1039.8359574881,
          1039.83589190856,
          1037.66156234527,
          1035.96233051301,
          1035.90166466489,
          1035.89899803256,
          1035.84430268762,
          1034.90123504215,
          1034.90122924567,
          1034.50006785104,
          1033.8976183173,
          1033.86290468695,
          1033.86208803537,
          1033.82162695084,
          1033.655694325,
          1032.44218096004,
          1030.88322190382,
          1029.82789981337,
          1028.88418222988,
          1028.88405461388,
          1027.88098157549,
          1027.88075413317,
          1027.85140667233,
          1027.84881220963,
          1026.0881064745,
          1025.88442940745,
          1022.81509103479,
          1022.24915484096,
          1021.86419952118,
          1021.86401937836,
          1021.8147959517,
          1019.9691382057,
          1018.53599629184,
          1016.4905608574,
          1015.8478187609,
          1015.84770180054,
          1015.79896412401,
          1013.77310957801,
          1012.90606888175,
          1012.45751437047,
          1011.90357525672,
          1011.81715673164,
          1009.80068679768,
          1008.6318,
          1007.88427242327,
          1007.83785625945,
          1007.79993287237,
          1005.88903081434,
          1005.88827723622,
          1005.79970654671,
          1003.85586913001,
          1002.9571,
          1002.86302169498,
          1001.91613805733,
          1001.91585088284,
          1001.86799254436,
          1001.82023772116,
          1000.17423224284,
          999.945699832687,
          999.874057528549,
          999.873034973973,
          999.846094830514,
          999.842361679006,
          998.846863938475,
          998.84659195809,
          997.876266392525,
          997.848054822737,
          997.847749109092,
          997.847524994348,
          996.901418748891,
          996.0478,
          995.802650971883,
          994.773675473335,
          993.858894912107,
          993.831017781343,
          993.830427086578,
          992.830082007754,
          992.829989953825,
          991.828992493034,
          989.87205035729,
          989.871881759134,
          987.889341046913,
          987.889250117074,
          986.853616665601,
          986.85164771977,
          985.892391378956,
          985.853662231562,
          985.853064176952,
          983.947892344885,
          983.897306713543,
          983.896845560863,
          983.855122194305,
          983.854163771344,
          982.7384,
          981.873044816737,
          981.872923362084,
          981.777976146912,
          979.924507848991,
          979.922883939033,
          979.8757416944,
          979.875476718305,
          979.829106433409,
          979.827499732353,
          978.222932717436,
          977.958053427232,
          977.933610650518,
          977.883550468516,
          977.837590816859,
          975.937309791081,
          975.855685193421,
          975.855409263404,
          975.808418922149,
          973.860240678848,
          973.858926273911,
          973.858707190035,
          973.814388344177,
          973.81316289915,
          972.432858812332,
          971.970985408181,
          971.824502203158,
          970.925555124134,
          970.5625,
          970.4178,
          969.921808830212,
          969.860182083538,
          969.835842305735,
          969.835296585571,
          965.963125366417,
          965.895592270511,
          963.901055947882,
          963.812718882705,
          963.811979190925,
          961.909036599035,
          961.908935480105,
          961.845209158752,
          960.7909,
          959.967074203239,
          959.880890972268,
          959.833239084294,
          959.4207,
          957.9842,
          957.885708218007,
          957.884771502473,
          957.841925628972,
          957.839528222028,
          955.9592,
          955.892118973824,
          955.891950184795,
          955.863708569951,
          955.863320172067,
          955.813415125358,
          955.812867170695,
          955.812759612806,
          954.5423,
          953.816220221756,
          953.815968907133,
          951.973628096339,
          951.823430875633,
          949.985993166102,
          949.879113895464,
          949.795823387583,
          949.583226197356,
          948.929539349205,
          947.927689562017,
          947.927297962414,
          947.798725683834,
          946.478309268667,
          946.405726020404,
          945.931432082009,
          945.931218528215,
          945.76487676546,
          944.5406,
          943.90788299087,
          943.90776706424,
          943.862108490653,
          942.972416530648,
          941.911053624884,
          941.885476608094,
          941.865223328726,
          941.864479887195,
          940.888387483794,
          940.8882495138,
          940.855322947939,
          940.854642646599,
          940.083231641268,
          939.961037067911,
          939.914703120383,
          939.889590441793,
          939.889569447322,
          939.841271910733,
          937.965597800128,
          937.890797094805,
          937.890722228671,
          937.845045273241,
          937.844375469993,
          937.843541446127,
          936.134568681856,
          935.965096478856,
          935.848346843835,
          935.847790910965,
          934.871392038809,
          934.871300816147,
          934.196789893459,
          933.872755425547,
          933.8719314181,
          933.870570632057,
          933.77299806326,
          933.7716,
          932.700401656469,
          929.978840861974,
          929.832236093278,
          929.832175172561,
          928.937000475596,
          927.933558246349,
          927.898969436131,
          927.798865833074,
          927.75807435596,
          926.827528932368,
          925.934518558218,
          925.909156311777,
          923.81966203782,
          922.920591824591,
          921.916618526184,
          921.869894579323,
          921.869309875512,
          920.977873228884,
          920.977707316503,
          919.955414052201,
          919.874485086571,
          919.841832208165,
          918.287205201215,
          917.959107523497,
          916.903601072562,
          916.903486844716,
          915.899933469651,
          915.899775527322,
          915.853762219479,
          915.828075671859,
          915.827245705991,
          914.899381649452,
          914.828990874075,
          914.82896137614,
          913.856980334248,
          913.828773157001,
          913.828417402553,
          912.065828911981,
          911.83067669555,
          910.974796040182,
          910.157028181393,
          909.971492733971,
          909.88473191632,
          909.837669863134,
          909.714924260825,
          907.97455650083,
          907.937466792862,
          907.93736732253,
          907.908543077168,
          907.908453339417,
          907.810140782636,
          906.941250167539,
          906.744466938097,
          905.939302004347,
          905.853548859947,
          905.812783503328,
          904.874599434217,
          904.451132214648,
          903.870417982657,
          902.832222310671,
          901.873819428033,
          900.93117403537,
          899.948716856576,
          899.922315107014,
          899.882113525799,
          897.853736887789,
          897.853413745637,
          897.76035524779,
          896.95607922176,
          895.951915501635,
          895.951888378228,
          895.856863497395,
          895.856802302221,
          895.81299883316,
          894.5313,
          894.063476540792,
          893.865131097771,
          893.830937465962,
          892.131143442115,
          891.980136361182,
          891.83582193395,
          891.835585944935,
          889.967339673804,
          889.93517156804,
          889.935143518503,
          889.840222787885,
          889.840104938759,
          887.847238240919,
          887.806300558335,
          884.839183746193,
          883.907536097872,
          883.867595093476,
          883.692132861068,
          882.87932416492,
          882.125274426012,
          881.876749265905,
          881.001091374841,
          880.478174526284,
          880.254351610801,
          879.963174504614,
          879.914902447768,
          879.91459927418,
          879.881000056163,
          879.793535364291,
          878.849780355831,
          877.890521048329,
          877.850241326692,
          877.849314501941,
          877.810348046791,
          877.771608272258,
          875.813448282596,
          875.773254308515,
          874.884634230207,
          873.957905657478,
          873.957845340921,
          873.868538466116,
          873.867363576726,
          873.866810466591,
          871.974067726853,
          871.872592553065,
          871.833455671248,
          870.838903446724,
          869.892089282725,
          869.797439438694,
          868.110158829867,
          866.498761983792,
          865.860639532332,
          865.823401797449,
          864.0601,
          864.024365194688,
          863.873540936321,
          861.970731249902,
          861.913777094045,
          861.746389662869,
          860.892514345265,
          860.8465429192,
          860.368873246155,
          859.889307160581,
          859.844597053791,
          859.804200231992,
          857.979519427706,
          857.84718540017,
          857.846686817398,
          857.806540659599,
          856.496576761053,
          855.865872553639,
          855.86472384759,
          855.729897966106,
          854.827251977691,
          854.4998,
          854.4069,
          854.255576803132,
          853.868583000302,
          853.828877587068,
          852.519802225533,
          851.967758112643,
          851.926195388379,
          851.875565008665,
          851.829337162623,
          851.829010990528,
          850.853260980613,
          850.852953759974,
          849.848459685899,
          849.848432752862,
          847.851312383683,
          846.924332164832,
          846.4910972132,
          846.1456,
          845.921925749484,
          845.919127321703,
          845.860966051401,
          845.860858978515,
          845.815304515207,
          845.814737940633,
          844.494393319373,
          844.292558840896,
          843.914951841972,
          843.830661676904,
          841.983974639327,
          841.835794700209,
          839.800766319023,
          837.897887161703,
          837.874332418879,
          836.1052,
          835.9548,
          835.903812953773,
          835.223707379215,
          833.885515723458,
          833.785112184724,
          831.961281470272,
          831.880311402947,
          831.838158437052,
          830.811175128341,
          829.966370931135,
          829.885197669095,
          829.885188708161,
          828.17896816179,
          826.878173417085,
          826.735990787552,
          826.40535515334,
          825.975296130506,
          825.865490241101,
          824.33676675721,
          823.943354386312,
          823.868758461905,
          823.868628355393,
          822.92841784369,
          821.977857365528,
          821.930736530626,
          821.902103868385,
          821.83477751534,
          821.792981731659,
          821.725454136183,
          820.535179075028,
          818.431173102802,
          817.97321061456,
          817.855167652891,
          817.720141849016,
          815.90783607418,
          815.906543060938,
          813.972776415641,
          812.936810123462,
          812.878150139844,
          811.974234873567,
          811.838380963095,
          810.753315974084,
          809.889735735953,
          809.863103453466,
          809.862851334672,
          809.8417,
          808.864946118773,
          808.863821322472,
          807.962668841757,
          807.865164417604,
          807.865007712662,
          807.42775957523,
          806.519418434831,
          805.938392121788,
          805.93835893278,
          805.866557329688,
          805.0214,
          803.987550479785,
          803.850426513037,
          803.850099181671,
          803.825789682958,
          803.825406475895,
          803.787718818957,
          801.972435850454,
          801.928839416211,
          801.928771188683,
          801.848198841177,
          801.848149173868,
          799.920510158125,
          799.889147270619,
          799.782564680073,
          797.90659285383,
          797.875738819545,
          797.814338956522,
          797.812865991306,
          797.771416439892,
          796.868221669723,
          795.962400417517,
          795.909618328785,
          795.871393302092,
          795.77461334951,
          793.983321375093,
          793.917555730675,
          793.870448189954,
          792.893165121888,
          792.499393222132,
          792.462206944878,
          791.966426295439,
          791.889699019313,
          791.889665345267,
          791.795989715347,
          790.968739542539,
          790.865470096007,
          790.512245827721,
          789.971159430859,
          789.892469627701,
          789.846330708441,
          788.875884716794,
          787.948909456885,
          787.900819072192,
          787.854398480122,
          787.853236335769,
          787.328132441744,
          786.751205269809,
          786.180843810096,
          783.980820780903,
          783.962834003572,
          783.944026096872,
          783.875843431709,
          783.87575486505,
          783.803240575214,
          781.965574534399,
          781.841877210035,
          781.841765057156,
          781.536,
          779.96948587445,
          779.938934331073,
          779.806204767728,
          779.058569859752,
          778.483183835568,
          777.99326467307,
          777.943401567703,
          777.903172669897,
          777.727626835934,
          777.52519025979,
          775.912041094502,
          775.825227974738,
          773.977079716679,
          773.917480559954,
          773.829105085356,
          773.828225917143,
          773.407625420569,
          771.960490317532,
          771.92636940282,
          771.926364128027,
          771.846331462125,
          771.8462,
          770.808,
          770.513774838843,
          769.964616120194,
          769.849938729071,
          769.849223999337,
          768.399837377496,
          767.967821533803,
          767.90457571832,
          767.90372856583,
          767.5205,
          767.4833,
          766.862674614389,
          766.37945955037,
          764.383097395383,
          763.927981692269,
          763.905571538083,
          763.832428059996,
          762.4394,
          761.841964411425,
          761.84119017779,
          761.362307657855,
          760.861454401374,
          759.981115551726,
          759.896399573871,
          759.860444070866,
          757.944561200221,
          757.91248655996,
          756.447263531434,
          755.948882414816,
          755.94855390195,
          755.88981373353,
          755.867190784318,
          755.782269523772,
          755.743038495076,
          754.928346772376,
          754.928151389254,
          753.970119651191,
          753.925056287566,
          753.924744516984,
          753.92466991648,
          753.902173930525,
          753.879940595426,
          753.833792348847,
          752.4341,
          751.954211796445,
          751.903427047205,
          751.883478461542,
          751.8412298618,
          750.971576248976,
          750.904926554744,
          750.904894984064,
          750.904772415643,
          750.101931526811,
          749.931702905339,
          749.906793173911,
          749.853804897183,
          749.766542218811,
          749.469457362625,
          748.855960159472,
          747.962667447286,
          747.913447249247,
          747.908310107928,
          747.859959206775,
          747.857783815969,
          745.962950747217,
          745.866119804137,
          744.064905113731,
          743.986005865985,
          743.789274644101,
          743.555973457207,
          742.9659,
          741.972580661036,
          741.841724335806,
          740.544915026446,
          740.368597963742,
          739.956229626034,
          739.850234050888,
          739.850124366521,
          739.463835181316,
          738.954177746164,
          737.976789221962,
          737.950815458826,
          737.909114762273,
          737.816476142647,
          737.011692235559,
          736.847303834354,
          736.000000664363,
          735.956334603765,
          735.955932972338,
          735.927221514785,
          733.9641,
          733.940753264413,
          733.917703707379,
          733.83671687287,
          732.937773437899,
          732.002574281152,
          731.933882919937,
          731.844262569384,
          730.994877561167,
          730.994777822877,
          730.543588830835,
          730.179618598234,
          729.970255733547,
          729.891626822297,
          729.722674112343,
          729.539977232646,
          728.1371,
          727.820658672331,
          726.528775650766,
          725.822783101345,
          725.822667533589,
          725.581742487379,
          725.411741554583,
          724.916598566578,
          723.979194656475,
          722.408275014756,
          722.0831,
          721.984242761689,
          721.920264737267,
          721.920089507147,
          721.845119351429,
          721.844787358264,
          721.844653264764,
          720.77200858313,
          719.988690628564,
          719.902209706523,
          719.807035010832,
          719.8068400411,
          719.769207335723,
          717.972994787226,
          717.954084611387,
          717.953919471537,
          717.924531079986,
          716.761117146309,
          716.508370687887,
          715.956524778854,
          715.870483410108,
          715.870377244162,
          715.828455574083,
          715.827678823239,
          715.827331160657,
          714.891222849902,
          713.887773905689,
          713.857664046287,
          713.753027486112,
          711.890993594214,
          711.849792239279,
          711.847983898973,
          711.755892991898,
          710.1406,
          709.960340047715,
          709.898722164421,
          709.881083945214,
          709.853684497248,
          708.36785599561,
          708.347371519895,
          707.77682090758,
          706.9728,
          706.972574579612,
          706.158718430071,
          705.969358522299,
          704.85719937509,
          704.080746123829,
          703.97317602482,
          703.531645103957,
          702.529070091395,
          700.850731489125,
          700.830611907234,
          700.101201226849,
          699.952592257929,
          699.857284858208,
          698.497949898763,
          697.9668,
          697.910848139249,
          697.861664357778,
          697.861168152247,
          697.823446017349,
          695.833301134986,
          693.924710364334,
          693.884872511164,
          692.406959346304,
          692.160070436792,
          692.142862938287,
          691.807369731974,
          691.359478088423,
          690.421096645712,
          690.402271359189,
          689.900834331403,
          689.810148460536,
          687.907730357973,
          685.831071965522,
          685.830914795044,
          685.8307,
          684.901383320818,
          683.967209185815,
          683.884443881849,
          683.881753873471,
          681.971797354977,
          681.0832,
          680.854808174134,
          680.415564966685,
          680.378776245055,
          680.160632977297,
          679.90919824216,
          679.887093220205,
          679.815350176607,
          678.144591911882,
          678.127261502473,
          677.996551529968,
          677.960350528813,
          677.926060225661,
          677.925978975681,
          677.8175,
          676.340449971253,
          675.877804291985,
          675.877572039322,
          675.840458517221,
          674.36618914069,
          674.329668513189,
          673.98328917257,
          673.914362173439,
          672.869212025965,
          672.321266818265,
          671.968514779801,
          671.93701568102,
          671.871226938668,
          671.871045671206,
          671.763604942692,
          670.4662,
          670.40862903332,
          669.906146257958,
          669.905881856978,
          669.8611540006,
          669.861024724199,
          669.860912986242,
          669.358077503153,
          668.314961770005,
          667.97354890531,
          667.879825254254,
          667.864681937621,
          667.864598798393,
          666.363169130801,
          666.337567437222,
          666.144763591091,
          666.1006,
          665.882134796093,
          664.3403,
          664.273469392671,
          664.1291,
          663.9815,
          663.960782088884,
          663.885348648267,
          662.780222500839,
          661.943430555253,
          661.849837801488,
          661.84690155984,
          660.981798341052,
          660.868904464204,
          660.412984402339,
          660.161563532771,
          659.865211333279,
          659.865153725658,
          659.3377246664,
          658.841590944621,
          658.286451226271,
          657.868105806961,
          657.823109019791,
          657.433325781196,
          656.4506,
          656.430025262257,
          656.3158,
          655.949813774732,
          655.949778256667,
          655.9497,
          655.313019199583,
          654.309509200681,
          653.976957887227,
          653.932141771594,
          653.7976,
          653.051743789936,
          652.993306750555,
          652.34768497878,
          652.128954295442,
          651.981524952842,
          651.937705296432,
          651.036076608096,
          650.341473179006,
          649.96670679726,
          648.178406953978,
          648.134249005321,
          647.988,
          647.969796482479,
          647.915165660597,
          646.334683006223,
          646.122035427554,
          645.970006852639,
          645.919096711087,
          645.876109740703,
          645.873142853289,
          645.0265,
          643.954506804119,
          643.8015793273,
          643.2948,
          642.098842008809,
          641.899082519427,
          641.898743737253,
          639.902442714035,
          639.902204570156,
          639.035596701897,
          638.971137233147,
          638.84523017155,
          637.90096365996,
          637.826739748671,
          635.98637159193,
          635.968093908785,
          635.83512671915,
          635.833817666303,
          633.97086463972,
          633.948653211284,
          632.945449022981,
          632.945401239421,
          631.974978342288,
          631.944101314816,
          631.851661177715,
          631.305195352052,
          629.959536834893,
          628.492547003311,
          627.871960790837,
          626.929297796699,
          626.929033232412,
          626.37862269405,
          626.300159394297,
          625.982184927764,
          625.967976890998,
          625.835151493478,
          625.020359182314,
          624.460951912394,
          623.988762854361,
          621.85577538687,
          620.877662838313,
          619.972472098386,
          619.878860974946,
          619.878694757679,
          619.859235176733,
          619.859221320563,
          619.858755081554,
          618.87995853257,
          618.879951910277,
          618.077319831159,
          617.976786824862,
          617.931674788844,
          617.882067022202,
          617.8299,
          616.96097444843,
          616.3865,
          615.955240345171,
          614.22752939948,
          613.964288686982,
          612.057051612588,
          612.0407,
          610.481779774643,
          610.372484527048,
          609.938331618441,
          609.905922768625,
          609.864687712416,
          608.927129836519,
          607.92346728108,
          605.9761,
          605.926442764621,
          605.884261894688,
          605.792024597735,
          605.791513379826,
          605.469722752886,
          603.934330653829,
          603.916883171129,
          602.909764769382,
          602.909729972047,
          602.3416,
          601.906487132626,
          601.906456065853,
          601.906418784511,
          601.812169101993,
          599.969165062785,
          599.909574004218,
          599.8639,
          599.296035137498,
          598.976330062567,
          597.987951046262,
          597.972835437527,
          596.502659527088,
          596.222878305418,
          595.992059272584,
          595.972472877937,
          594.486856555581,
          593.9600578951,
          593.959778905388,
          593.799546695058,
          593.79942561561,
          593.798323302687,
          592.862345443785,
          591.974760304951,
          590.959306782368,
          590.419232323371,
          590.38246872773,
          590.208774838179,
          590.0586,
          588.976035547746,
          587.960314349141,
          587.960181350832,
          587.91980849368,
          586.406521172034,
          586.372870657668,
          585.945622598018,
          583.97475227965,
          583.931498296928,
          583.931375016413,
          583.846012075367,
          581.943354468206,
          581.863732965884,
          581.863411904955,
          580.2279,
          579.866370248253,
          579.825040993155,
          577.983600766256,
          577.963005727713,
          576.4036,
          575.984685309369,
          574.926201057563,
          574.925985315661,
          573.944794094561,
          573.849727919363,
          573.849474332723,
          572.390857731261,
          572.358885924126,
          571.929324077249,
          570.916629506769,
          570.916313558989,
          569.991899871999,
          569.913277288109,
          569.913219732914,
          569.315377678876,
          567.979336026796,
          567.96147934291,
          566.352476312889,
          565.982949879382,
          565.7988,
          563.941616351778,
          562.388067244087,
          561.900174758782,
          560.8222,
          560.118120285508,
          560.010850702494,
          559.3474,
          558.948772757897,
          558.948232731208,
          558.375676763391,
          558.343289699945,
          558.245876310115,
          557.9454,
          557.945384471624,
          557.8743,
          557.223531790998,
          556.92609183777,
          556.81571138692,
          556.167812222752,
          555.978373603186,
          554.237675244327,
          553.982641799411,
          553.882044885649,
          553.806728133869,
          551.98476651613,
          551.9705,
          551.96800650465,
          551.8574,
          550.315017948605,
          549.827821745253,
          548.97086628141,
          548.970859382401,
          547.967602643163,
          547.967495992838,
          547.967406620462,
          547.940266963369,
          545.99490880804,
          545.971974009577,
          545.943846575921,
          545.943723645922,
          543.946421109784,
          543.946364871859,
          542.953869380996,
          542.382737689559,
          542.282169274139,
          542.260165580923,
          542.206256923462,
          542.019201496002,
          541.950675794255,
          540.1965,
          539.908917519618,
          539.9086,
          538.3212,
          538.309981338283,
          535.972044308378,
          535.8549,
          535.840321112954,
          535.2757397664,
          534.985746594912,
          534.245534689927,
          534.120068763351,
          533.977823776895,
          533.26407472127,
          533.103351372306,
          532.251155887158,
          531.936242726281,
          530.190955209445,
          530.000026849651,
          528.974524709438,
          527.970292040032,
          527.970165986322,
          526.206536118048,
          526.1749,
          525.988182372481,
          525.973148702559,
          525.886905066495,
          523.904538003123,
          523.9044,
          521.907576239135,
          520.223413641627,
          520.157162109346,
          520.104309098814,
          519.977311373783,
          519.915499729813,
          518.397973276366,
          517.982753862388,
          516.89438549535,
          516.175285423014,
          515.965910507957,
          514.897221756651,
          514.387435169546,
          514.3177,
          513.970466532035,
          513.894407892652,
          513.894380625043,
          513.8943,
          512.19079389214,
          512.160640541977,
          511.1211,
          510.28989877264,
          510.278706458397,
          509.968930731611,
          509.968891253076,
          508.843622306361,
          505.981684730182,
          504.944816294684,
          504.944733892475,
          503.941372205649,
          502.159354790563,
          501.987892415136,
          500.371884308056,
          500.316071915181,
          500.302732621384,
          500.15926816687,
          499.91569779526,
          499.915226064383,
          498.3352,
          498.275624968127,
          498.2092,
          498.175257560757,
          498.14346924647,
          497.975347785989,
          496.8505,
          496.280054079131,
          495.847481383961,
          495.847356566245,
          494.962843802589,
          494.380424788993,
          494.361872657352,
          493.95934307418,
          492.328145790574,
          490.284965062212,
          490.254843979511,
          488.15922619666,
          488.143862626299,
          487.942720094961,
          487.942625320194,
          487.854208307977,
          487.293612334735,
          486.897715375301,
          485.9756,
          484.193621339681,
          484.1669,
          484.159222243332,
          484.127554515824,
          483.983311778048,
          483.98321649484,
          483.343509074606,
          482.340171826164,
          482.267419864727,
          481.953298019832,
          480.364111771723,
          480.2315,
          478.366073903599,
          477.969,
          476.9016,
          476.350166695712,
          476.116775186359,
          475.898679601063,
          475.293301284911,
          474.290248499842,
          473.901591026769,
          473.901525561353,
          472.980728025413,
          472.3407,
          472.275,
          472.127893833941,
          471.977199991263,
          471.977133914031,
          470.292,
          470.1777,
          468.210339501168,
          467.985968161417,
          467.88468225787,
          467.884621636314,
          466.971828948989,
          466.967400944602,
          466.967291297918,
          466.312297790134,
          465.965165150016,
          464.952007035144,
          463.069568683799,
          462.384287434885,
          462.371686635266,
          462.1846,
          460.302216696246,
          460.127797167295,
          459.8343,
          459.328005743406,
          458.935741371861,
          458.111858931075,
          457.932262014842,
          456.938994202158,
          456.2763,
          456.1386,
          455.93557237396,
          455.93552524905,
          453.9853,
          452.272903932845,
          451.970942752471,
          451.915527977542
         ],
         "xaxis": "x",
         "y": [
          3.72425490177472,
          3.59988218502998,
          3.59988218502998,
          3.63731507616043,
          3.63731507616043,
          3.59988218502998,
          3.63731507616043,
          3.63731507616043,
          3.68017042633692,
          3.59988218502998,
          3.68017042633692,
          3.55946915901502,
          3.63731507616043,
          3.59988218502998,
          3.68017042633692,
          3.55946915901502,
          3.72425490177472,
          3.63731507616043,
          3.55946915901502,
          3.63731507616043,
          3.55946915901502,
          3.55946915901502,
          3.68017042633692,
          3.68017042633692,
          3.59988218502998,
          3.63731507616043,
          3.68017042633692,
          3.51977489150365,
          3.72425490177472,
          3.63731507616043,
          3.72425490177472,
          3.63731507616043,
          3.76182024237315,
          3.59988218502998,
          3.63731507616043,
          3.55946915901502,
          3.63731507616043,
          3.55946915901502,
          3.59988218502998,
          3.68017042633692,
          3.72425490177472,
          3.51977489150365,
          3.59988218502998,
          3.68017042633692,
          3.72425490177472,
          3.55946915901502,
          3.59988218502998,
          3.72425490177472,
          3.55946915901502,
          3.63731507616043,
          3.72425490177472,
          3.55946915901502,
          3.63731507616043,
          3.63731507616043,
          3.63731507616043,
          3.72425490177472,
          3.63731507616043,
          3.72425490177472,
          3.63731507616043,
          3.51977489150365,
          3.63731507616043,
          3.76182024237315,
          3.63731507616043,
          3.72425490177472,
          3.76182024237315,
          3.63731507616043,
          3.72425490177472,
          3.76182024237315,
          3.59988218502998,
          3.59988218502998,
          3.59988218502998,
          3.63731507616043,
          3.76182024237315,
          3.51977489150365,
          3.59988218502998,
          3.68017042633692,
          3.63731507616043,
          3.63731507616043,
          3.72425490177472,
          3.59988218502998,
          3.63731507616043,
          3.68017042633692,
          3.59988218502998,
          3.68017042633692,
          3.59988218502998,
          3.63731507616043,
          3.55946915901502,
          3.63731507616043,
          3.63731507616043,
          3.59988218502998,
          3.04217455940247,
          3.15411232666969,
          3.95417139089902,
          3.68017042633692,
          3.59988218502998,
          8.56516906576157,
          7.51610432422956,
          2.4347621257782,
          7.51610432422956,
          8.28239151593844,
          7.51610432422956,
          7.56152574973106,
          7.60272049066226,
          8.03970136798223,
          3.39349882559776,
          8.00074875709216,
          8.52107802586555,
          7.48576971845627,
          8.00074875709216,
          8.52107802586555,
          7.56152574973106,
          5.72226914124489,
          8.88611269152959,
          8.4401774163723,
          8.79871816592216,
          0.560154274670283,
          1.03485331492424,
          8.56516906576157,
          7.7964500740846,
          8.56516906576157,
          7.60272049066226,
          7.56152574973106,
          7.84613853252729,
          7.48576971845627,
          7.39420979973475,
          7.51610432422956,
          7.51610432422956,
          7.23795746720632,
          7.72378541784286,
          5.75381235834757,
          7.19644406593641,
          8.4401774163723,
          0.473366983302434,
          7.19644406593641,
          8.03970136798223,
          7.23795746720632,
          8.79871816592216,
          7.60272049066226,
          7.84613853252729,
          7.84613853252729,
          7.23795746720632,
          3.63731507616043,
          1.44006280856132,
          0.560154274670283,
          8.84238121665319,
          3.68017042633692,
          7.23795746720632,
          0.52081415014267,
          8.32046623385747,
          9.00264136549632,
          8.59441624240875,
          1.56523151752154,
          8.91518978234927,
          8.88611269152959,
          8.68186213331223,
          7.51610432422956,
          8.19841570016543,
          8.4401774163723,
          4.84539030151367,
          7.7964500740846,
          8.59441624240875,
          7.51610432422956,
          1.36182525909742,
          9.00264136549632,
          7.64117420074145,
          7.44131136692365,
          8.75494237499237,
          7.64117420074145,
          7.23795746720632,
          0.560154274670283,
          1.00368956681887,
          7.35757483201027,
          7.56152574973106,
          0.840468916861216,
          7.72378541784286,
          8.63821542418798,
          8.4401774163723,
          7.51610432422956,
          8.40296818372408,
          0.473366983302434,
          1.00368956681887,
          8.28239151593844,
          3.59988218502998,
          1.19821920749346,
          8.4769453918616,
          1.19821920749346,
          7.84613853252729,
          8.4401774163723,
          7.27891080932617,
          0.560154274670283,
          8.94434559103648,
          0.638192816146215,
          8.88611269152959,
          8.63821542418798,
          7.60272049066226,
          8.91518978234927,
          7.87868284341494,
          8.94434559103648,
          1.00368956681887,
          3.88164065834681,
          8.40296818372408,
          5.03571270065308,
          2.32321949160894,
          8.08457660830815,
          0.317395366795858,
          8.59441624240875,
          6.96027354952494,
          1.08148019072215,
          7.64117420074145,
          9.00264136549632,
          2.72209429896673,
          8.72575774149895,
          9.00264136549632,
          7.51610432422956,
          7.51610432422956,
          1.72217740770976,
          8.88611269152959,
          8.08457660830815,
          9.00264136549632,
          8.28239151593844,
          8.4769453918616,
          3.92471298333804,
          8.52107802586555,
          8.88611269152959,
          7.51610432422956,
          5.48303941842715,
          1.23723386681875,
          8.244354199934,
          1.31497058428129,
          7.48576971845627,
          8.79871816592216,
          1.12053355929057,
          9.00264136549632,
          8.88611269152959,
          7.87868284341494,
          8.12234850085576,
          1.03485331492424,
          8.88611269152959,
          3.92471298333804,
          8.28239151593844,
          8.244354199934,
          7.60272049066226,
          9.00264136549632,
          3.88164065834681,
          8.56516906576157,
          1.23723386681875,
          8.88611269152959,
          8.84238121665319,
          1.31497058428129,
          9.00264136549632,
          0.0855051254908244,
          7.56152574973106,
          8.4401774163723,
          1.44006280856132,
          8.88611269152959,
          7.9236377254804,
          0.473366983302434,
          4.15810186621348,
          8.32046623385747,
          3.92471298333804,
          8.91518978234927,
          8.63821542418798,
          3.51977489150365,
          8.52107802586555,
          2.1168881014665,
          8.94434559103648,
          7.27891080932617,
          2.1168881014665,
          0.879531432755788,
          9.00264136549632,
          4.0813492413044,
          4.35982551531792,
          1.08148019072215,
          9.00264136549632,
          7.48576971845627,
          1.12053355929057,
          9.00264136549632,
          1.40098149336179,
          7.72378541784286,
          6.91801805850665,
          5.87996685859362,
          0.317395366795858,
          0.357342550722758,
          0.52081415014267,
          8.63821542418798,
          1.31497058428129,
          1.64361930843989,
          8.79871816592216,
          1.51826018449465,
          8.84238121665319,
          1.72217740770976,
          9.00264136549632,
          7.84613853252729,
          7.87868284341494,
          0.357342550722758,
          3.83932929989497,
          8.4401774163723,
          2.32321949160894,
          5.48303941842715,
          0.317395366795858,
          2.96206828312874,
          1.44006280856132,
          8.68186213331223,
          8.19841570016543,
          9.00264136549632,
          8.08457660830815,
          8.19841570016543,
          7.51610432422956,
          8.12234850085576,
          8.52107802586555,
          1.03485331492424,
          8.68186213331223,
          8.75494237499237,
          1.23723386681875,
          1.12053355929057,
          9.00264136549632,
          8.59441624240875,
          2.91408731695811,
          7.9236377254804,
          0.357342550722758,
          8.79871816592216,
          8.56516906576157,
          4.23527219053904,
          9.00264136549632,
          7.51610432422956,
          1.00368956681887,
          9.00264136549632,
          3.99883204059601,
          0.317395366795858,
          8.79871816592216,
          9.00264136549632,
          2.24383325931231,
          7.48576971845627,
          7.48576971845627,
          1.00368956681887,
          8.79871816592216,
          8.4401774163723,
          3.88164065834681,
          7.48576971845627,
          6.23626164155006,
          7.87868284341494,
          0.317395366795858,
          0.317395366795858,
          8.75494237499237,
          1.23723386681875,
          8.56516906576157,
          0.879531432755788,
          6.16144223368963,
          1.51826018449465,
          8.75494237499237,
          1.64361930843989,
          8.59441624240875,
          9.00264136549632,
          0.918348615932465,
          7.48576971845627,
          1.28400155064265,
          9.00264136549632,
          8.91518978234927,
          3.44128475941022,
          8.08457660830815,
          0.357342550722758,
          3.79778935866356,
          0.52081415014267,
          1.08148019072215,
          8.03970136798223,
          0.317395366795858,
          0.317395366795858,
          7.60272049066226,
          4.28197791732152,
          8.59441624240875,
          1.88000215845108,
          8.72575774149895,
          1.59660530047417,
          8.68186213331223,
          1.08148019072215,
          9.00264136549632,
          2.99395841714541,
          0.560154274670283,
          8.08457660830815,
          1.28400155064265,
          3.92471298333804,
          7.48576971845627,
          7.9236377254804,
          1.08148019072215,
          1.15935209151904,
          9.00264136549632,
          8.52107802586555,
          0.317395366795858,
          3.59988218502998,
          6.40331874049505,
          1.12053355929057,
          8.63821542418798,
          8.63821542418798,
          8.88611269152959,
          8.88611269152959,
          4.0813492413044,
          9.00264136549632,
          8.08457660830815,
          4.76651709235509,
          8.12234850085576,
          1.40098149336179,
          8.72575774149895,
          8.56516906576157,
          8.40296818372408,
          3.83932929989497,
          8.4401774163723,
          7.35757483201027,
          5.43493518389066,
          8.4769453918616,
          0.52081415014267,
          7.51610432422956,
          8.56516906576157,
          7.87868284341494,
          0.443312358427048,
          8.94434559103648,
          8.56516906576157,
          8.244354199934,
          1.08148019072215,
          8.91518978234927,
          0.879531432755788,
          8.91518978234927,
          0.918348615932465,
          7.48576971845627,
          0.59918166753451,
          9.00264136549632,
          1.80094230728149,
          8.88611269152959,
          8.4769453918616,
          1.31497058428129,
          8.88611269152959,
          7.48576971845627,
          8.4401774163723,
          0.357342550722758,
          0.357342550722758,
          8.52107802586555,
          8.9880903239727,
          8.08457660830815,
          9.00264136549632,
          3.92471298333804,
          8.59441624240875,
          7.51610432422956,
          0.957193384138743,
          8.79871816592216,
          0.0855051254908244,
          3.79778935866356,
          4.11954172409375,
          8.88611269152959,
          3.83932929989497,
          7.48576971845627,
          7.44131136692365,
          1.03485331492424,
          8.88611269152959,
          0.317395366795858,
          7.48576971845627,
          9.00264136549632,
          8.84238121665319,
          0.957193384138743,
          1.36182525909742,
          9.00264136549632,
          8.52107802586555,
          4.2044275657018,
          4.15810186621348,
          5.87996685859362,
          8.16027714964549,
          2.56241560734113,
          0.357342550722758,
          0.317395366795858,
          4.68015694177945,
          8.08457660830815,
          8.75494237499237,
          0.755075674819946,
          8.9880903239727,
          2.8819904501915,
          8.68186213331223,
          7.51610432422956,
          3.83932929989497,
          8.91518978234927,
          7.35757483201027,
          9.00264136549632,
          3.83932929989497,
          7.48576971845627,
          8.68186213331223,
          8.68186213331223,
          1.36182525909742,
          9.00264136549632,
          8.94434559103648,
          0.957193384138743,
          0.957193384138743,
          9.00264136549632,
          0.200305767424901,
          7.56152574973106,
          0.59918166753451,
          8.4401774163723,
          8.00074875709216,
          0.59918166753451,
          0.317395366795858,
          7.51610432422956,
          0.317395366795858,
          0.59918166753451,
          8.08457660830815,
          1.75363162514369,
          8.68186213331223,
          7.15665767547289,
          3.95417139089902,
          8.52107802586555,
          0.394839141337077,
          8.88611269152959,
          3.83932929989497,
          9.00264136549632,
          8.4769453918616,
          0.52081415014267,
          3.76182024237315,
          5.91933502511978,
          0.317395366795858,
          0.317395366795858,
          7.48576971845627,
          8.52107802586555,
          9.00264136549632,
          8.4769453918616,
          9.00264136549632,
          1.51826018449465,
          8.84238121665319,
          1.59660530047417,
          1.03485331492424,
          1.44006280856132,
          8.56516906576157,
          7.48576971845627,
          0.357342550722758,
          8.03970136798223,
          3.83932929989497,
          8.59441624240875,
          7.35757483201027,
          8.32046623385747,
          3.99883204059601,
          8.32046623385747,
          8.88611269152959,
          0.560154274670283,
          1.75363162514369,
          7.60272049066226,
          8.63821542418798,
          0.394839141337077,
          0.317395366795858,
          7.48576971845627,
          8.56516906576157,
          0.317395366795858,
          8.56516906576157,
          0.317395366795858,
          8.68186213331223,
          9.00264136549632,
          1.28400155064265,
          7.9236377254804,
          7.48576971845627,
          0.317395366795858,
          6.16144223368963,
          8.84238121665319,
          8.28239151593844,
          3.79778935866356,
          7.56152574973106,
          0.357342550722758,
          0.357342550722758,
          8.08457660830815,
          5.27495212512016,
          7.9236377254804,
          7.48576971845627,
          6.68141983505885,
          9.00264136549632,
          3.83932929989497,
          8.79871816592216,
          0.473366983302434,
          9.00264136549632,
          0.52081415014267,
          9.00264136549632,
          6.59691486713091,
          8.63821542418798,
          9.00264136549632,
          7.56152574973106,
          9.00264136549632,
          0.918348615932465,
          8.4769453918616,
          7.23795746720632,
          7.51610432422956,
          7.60272049066226,
          8.59441624240875,
          1.19821920749346,
          8.75494237499237,
          2.19613196806908,
          8.52107802586555,
          7.60272049066226,
          8.79871816592216,
          7.87868284341494,
          0.357342550722758,
          7.48576971845627,
          1.03485331492424,
          0.317395366795858,
          0.357342550722758,
          3.88164065834681,
          8.59441624240875,
          8.4769453918616,
          8.75494237499237,
          7.51610432422956,
          8.12234850085576,
          5.67460785067876,
          8.12234850085576,
          4.48473324931463,
          4.2044275657018,
          7.35757483201027,
          7.60272049066226,
          0.840468916861216,
          8.59441624240875,
          1.47902397669156,
          8.79871816592216,
          8.32046623385747,
          1.03485331492424,
          8.56516906576157,
          1.44006280856132,
          5.84064977523486,
          9.00264136549632,
          3.88164065834681,
          0.317395366795858,
          5.03571270065308,
          7.9236377254804,
          8.68186213331223,
          1.00368956681887,
          8.63821542418798,
          8.91518978234927,
          1.08148019072215,
          8.28239151593844,
          0.357342550722758,
          8.03970136798223,
          3.95417139089902,
          0.317395366795858,
          6.3194811419328,
          0.317395366795858,
          0.317395366795858,
          0.357342550722758,
          8.28239151593844,
          7.56152574973106,
          8.68186213331223,
          0.918348615932465,
          8.68186213331223,
          3.92471298333804,
          0.357342550722758,
          1.23723386681875,
          9.00264136549632,
          0.317395366795858,
          3.79778935866356,
          8.52107802586555,
          9.00264136549632,
          1.23723386681875,
          0.357342550722758,
          8.4401774163723,
          7.56152574973106,
          7.19644406593641,
          7.51610432422956,
          8.4401774163723,
          8.4401774163723,
          7.51610432422956,
          9.00264136549632,
          0.957193384138743,
          8.91518978234927,
          4.76651709235509,
          1.19821920749346,
          9.00264136549632,
          0.879531432755788,
          8.9662231997331,
          7.51610432422956,
          7.19644406593641,
          0.317395366795858,
          3.83932929989497,
          7.48576971845627,
          7.48576971845627,
          8.12234850085576,
          7.51610432422956,
          0.801681359179815,
          8.4769453918616,
          7.23795746720632,
          8.56516906576157,
          8.56516906576157,
          5.11536068277359,
          7.87868284341494,
          0.918348615932465,
          9.00264136549632,
          8.4401774163723,
          0.357342550722758,
          7.51610432422956,
          8.52107802586555,
          5.67460785067876,
          7.51610432422956,
          7.35757483201027,
          1.23723386681875,
          8.68186213331223,
          2.8819904501915,
          8.4401774163723,
          7.39420979973475,
          8.84238121665319,
          1.44006280856132,
          8.79871816592216,
          1.08148019072215,
          1.40098149336179,
          8.84238121665319,
          3.79778935866356,
          7.44131136692365,
          8.84238121665319,
          1.31497058428129,
          7.51610432422956,
          8.91518978234927,
          7.51610432422956,
          8.12234850085576,
          8.91518978234927,
          7.48576971845627,
          8.88611269152959,
          0.879531432755788,
          8.52107802586555,
          8.63821542418798,
          7.1216920331796,
          7.39420979973475,
          8.52107802586555,
          3.88164065834681,
          7.9236377254804,
          7.44131136692365,
          1.36182525909742,
          8.4769453918616,
          0.317395366795858,
          7.51610432422956,
          8.59441624240875,
          9.00264136549632,
          0.317395366795858,
          8.08457660830815,
          8.52107802586555,
          1.59660530047417,
          1.36182525909742,
          8.72575774149895,
          7.15665767547289,
          7.51610432422956,
          8.59441624240875,
          9.00264136549632,
          1.03485331492424,
          3.04217455940247,
          7.51610432422956,
          0.957193384138743,
          8.4769453918616,
          8.4769453918616,
          0.317395366795858,
          5.40282422658602,
          7.35757483201027,
          7.56152574973106,
          2.0378608262221,
          9.00264136549632,
          9.00264136549632,
          1.23723386681875,
          7.31988871849378,
          0.0855051254908244,
          8.244354199934,
          3.04217455940247,
          5.9589623506546,
          0.317395366795858,
          7.9236377254804,
          7.44131136692365,
          8.91518978234927,
          1.31497058428129,
          3.63731507616043,
          0.357342550722758,
          8.12234850085576,
          7.87868284341494,
          7.87868284341494,
          8.08457660830815,
          8.88611269152959,
          9.00264136549632,
          8.03970136798223,
          3.59988218502998,
          9.00264136549632,
          4.23527219053904,
          8.4769453918616,
          8.79871816592216,
          1.64361930843989,
          7.51610432422956,
          0.357342550722758,
          8.35808396693865,
          7.35757483201027,
          7.51610432422956,
          0.677155033318202,
          8.75494237499237,
          8.9880903239727,
          1.59660530047417,
          8.4401774163723,
          2.75416257537206,
          9.00264136549632,
          6.23626164155006,
          0.317395366795858,
          3.92471298333804,
          8.52107802586555,
          1.15935209151904,
          9.00264136549632,
          0.317395366795858,
          9.00264136549632,
          7.51610432422956,
          7.39420979973475,
          7.35757483201027,
          6.91801805850665,
          8.79871816592216,
          7.9236377254804,
          7.48576971845627,
          8.63821542418798,
          3.79778935866356,
          8.79871816592216,
          1.51826018449465,
          9.00264136549632,
          6.75746594227155,
          7.84613853252729,
          8.52107802586555,
          7.9236377254804,
          7.87868284341494,
          5.9589623506546,
          7.44131136692365,
          0.317395366795858,
          0.317395366795858,
          0.317395366795858,
          3.72425490177472,
          7.51610432422956,
          8.59441624240875,
          8.08457660830815,
          1.59660530047417,
          8.91518978234927,
          7.9236377254804,
          8.84238121665319,
          8.32046623385747,
          3.88164065834681,
          9.00264136549632,
          3.83932929989497,
          0.59918166753451,
          7.48576971845627,
          6.63917059060732,
          8.79871816592216,
          1.84032981551488,
          7.07818713343938,
          7.19644406593641,
          8.88611269152959,
          1.44006280856132,
          7.35757483201027,
          8.9880903239727,
          1.28400155064265,
          1.44006280856132,
          8.9880903239727,
          8.59441624240875,
          7.9236377254804,
          8.52107802586555,
          8.08457660830815,
          8.03970136798223,
          7.87868284341494,
          8.52107802586555,
          7.19644406593641,
          8.84238121665319,
          6.4788009996891,
          7.39420979973475,
          6.27765415069262,
          7.39420979973475,
          0.755075674819946,
          8.91518978234927,
          0.357342550722758,
          6.03920098500252,
          2.1168881014665,
          9.00264136549632,
          1.28400155064265,
          8.52107802586555,
          0.317395366795858,
          0.317395366795858,
          0.317395366795858,
          0.317395366795858,
          8.08457660830815,
          8.4769453918616,
          1.51826018449465,
          6.91801805850665,
          0.317395366795858,
          8.91518978234927,
          7.23795746720632,
          1.23723386681875,
          8.79871816592216,
          8.19841570016543,
          5.03571270065308,
          1.44006280856132,
          6.84197040157318,
          7.48576971845627,
          7.9236377254804,
          3.88164065834681,
          7.60272049066226,
          0.317395366795858,
          8.79871816592216,
          7.44131136692365,
          8.56516906576157,
          7.84613853252729,
          8.88611269152959,
          3.79778935866356,
          7.27891080932617,
          8.40296818372408,
          4.04379693226814,
          8.56516906576157,
          7.35757483201027,
          8.03970136798223,
          0.317395366795858,
          8.00074875709216,
          7.44131136692365,
          5.9589623506546,
          0.317395366795858,
          7.84613853252729,
          0.317395366795858,
          7.44131136692365,
          7.48576971845627,
          7.48576971845627,
          3.99883204059601,
          4.0813492413044,
          7.51610432422956,
          7.19644406593641,
          5.67460785067876,
          8.52107802586555,
          8.88611269152959,
          1.08148019072215,
          8.28239151593844,
          3.95417139089902,
          9.00264136549632,
          0.957193384138743,
          9.00264136549632,
          3.55946915901502,
          7.48576971845627,
          7.48576971845627,
          3.68017042633692,
          0.317395366795858,
          0.118462532329559,
          8.79871816592216,
          8.84238121665319,
          1.03485331492424,
          7.44131136692365,
          7.48576971845627,
          0.357342550722758,
          8.63821542418798,
          7.35757483201027,
          2.0378608262221,
          7.9236377254804,
          3.79778935866356,
          8.84238121665319,
          6.59691486713091,
          7.03631985740662,
          5.91933502511978,
          6.8842190817674,
          7.64117420074145,
          7.84613853252729,
          7.19644406593641,
          9.00264136549632,
          2.80200339115461,
          0.317395366795858,
          7.27891080932617,
          1.44006280856132,
          9.00264136549632,
          7.48576971845627,
          8.4401774163723,
          7.9236377254804,
          7.56152574973106,
          7.07818713343938,
          3.68017042633692,
          7.48576971845627,
          7.03631985740662,
          8.84238121665319,
          1.23723386681875,
          0.357342550722758,
          7.35757483201027,
          8.08457660830815,
          7.9236377254804,
          7.9236377254804,
          8.88611269152959,
          7.87868284341494,
          7.56152574973106,
          7.35757483201027,
          7.35757483201027,
          0.317395366795858,
          7.84613853252729,
          0.957193384138743,
          8.79871816592216,
          7.35757483201027,
          5.67460785067876,
          0.394839141337077,
          7.48576971845627,
          0.317395366795858,
          7.87868284341494,
          8.63821542418798,
          1.08148019072215,
          8.63821542418798,
          0.317395366795858,
          9.00264136549632,
          1.47902397669156,
          7.23795746720632,
          1.08148019072215,
          8.79871816592216,
          7.44131136692365,
          7.60272049066226,
          3.79778935866356,
          8.08457660830815,
          9.00264136549632,
          7.39420979973475,
          7.35757483201027,
          8.4401774163723,
          1.19821920749346,
          8.244354199934,
          1.91936313268344,
          8.00074875709216,
          7.15665767547289,
          0.638192816146215,
          8.00074875709216,
          1.31497058428129,
          8.84238121665319,
          9.00264136549632,
          7.96165839192073,
          7.87868284341494,
          0.317395366795858,
          7.84613853252729,
          1.67497688290278,
          9.00264136549632,
          7.87868284341494,
          0.317395366795858,
          6.8842190817674,
          0.317395366795858,
          5.9589623506546,
          7.87868284341494,
          7.39420979973475,
          8.35808396693865,
          9.00264136549632,
          0.357342550722758,
          7.56152574973106,
          7.35757483201027,
          7.51610432422956,
          9.00264136549632,
          1.23723386681875,
          8.00074875709216,
          7.19644406593641,
          8.00074875709216,
          7.60272049066226,
          7.51610432422956,
          9.00264136549632,
          8.91518978234927,
          7.96165839192073,
          4.95630614118576,
          8.68186213331223,
          8.68186213331223,
          4.92451526678403,
          7.56152574973106,
          7.9236377254804,
          7.44131136692365,
          7.51610432422956,
          6.8842190817674,
          8.56516906576157,
          1.28400155064265,
          9.00264136549632,
          8.84238121665319,
          7.35757483201027,
          7.9236377254804,
          3.88164065834681,
          7.39420979973475,
          7.15665767547289,
          3.83932929989497,
          8.32046623385747,
          6.56312004880905,
          7.39420979973475,
          7.07818713343938,
          0.357342550722758,
          7.87868284341494,
          7.87868284341494,
          7.48576971845627,
          8.56516906576157,
          3.95417139089902,
          7.48576971845627,
          8.56516906576157,
          7.9236377254804,
          3.95417139089902,
          7.44131136692365,
          7.51610432422956,
          1.23723386681875,
          9.00264136549632,
          5.27495212512016,
          0.317395366795858,
          0.317395366795858,
          7.51610432422956,
          7.51610432422956,
          3.99883204059601,
          0.317395366795858,
          7.51610432422956,
          7.51610432422956,
          0.918348615932465,
          8.75494237499237,
          7.44131136692365,
          7.51610432422956,
          7.84613853252729,
          7.51610432422956,
          7.51610432422956,
          4.28197791732152,
          8.00074875709216,
          3.79778935866356,
          7.48576971845627,
          0.0855051254908244,
          8.79871816592216,
          7.48576971845627,
          5.80124333457947,
          7.39420979973475,
          8.00074875709216,
          6.36142105814616,
          8.52107802586555,
          8.63821542418798,
          7.48576971845627,
          8.56516906576157,
          3.83932929989497,
          7.84613853252729,
          7.7964500740846,
          7.87868284341494,
          7.84613853252729,
          3.2820034757932,
          0.473366983302434,
          7.56152574973106,
          6.07945797599157,
          8.244354199934,
          1.23723386681875,
          1.15935209151904,
          0.394839141337077,
          7.84613853252729,
          7.44131136692365,
          7.48576971845627,
          8.59441624240875,
          8.08457660830815,
          7.7964500740846,
          7.19644406593641,
          8.88611269152959,
          1.03485331492424,
          4.56282771782875,
          7.23795746720632,
          8.59441624240875,
          9.00264136549632,
          0.317395366795858,
          7.9236377254804,
          7.48576971845627,
          7.87868284341494,
          7.23795746720632,
          7.23795746720632,
          0.957193384138743,
          4.68015694177945,
          0.357342550722758,
          6.79972195781072,
          4.92451526678403,
          0.317395366795858,
          6.36142105814616,
          0.317395366795858,
          7.60272049066226,
          3.63731507616043,
          7.23795746720632,
          0.357342550722758,
          7.60272049066226,
          7.51610432422956,
          0.317395366795858,
          0.957193384138743,
          9.00264136549632,
          7.44131136692365,
          7.39420979973475,
          6.79972195781072,
          0.357342550722758,
          4.04379693226814,
          8.03970136798223,
          3.79778935866356,
          8.08457660830815,
          7.39420979973475,
          3.88164065834681,
          0.918348615932465,
          1.28400155064265,
          7.51610432422956,
          3.59988218502998,
          7.87868284341494,
          7.9236377254804,
          7.23795746720632,
          6.36142105814616,
          9.00264136549632,
          8.00074875709216,
          0.0855051254908244,
          8.84238121665319,
          7.60272049066226,
          7.44131136692365,
          6.84197040157318,
          0.357342550722758,
          7.87868284341494,
          7.51610432422956,
          7.51610432422956,
          8.08457660830815,
          7.56152574973106,
          5.19501903411547,
          0.317395366795858,
          7.56152574973106,
          7.48576971845627,
          3.83932929989497,
          7.19644406593641,
          7.44131136692365,
          0.317395366795858,
          7.23795746720632,
          2.91408731695811,
          8.03970136798223,
          2.96206828312874,
          8.12234850085576,
          5.19501903411547,
          7.87868284341494,
          6.91801805850665,
          0.200305767424901,
          8.72575774149895,
          0.317395366795858,
          8.00074875709216,
          6.84197040157318,
          8.56516906576157,
          3.83932929989497,
          1.03485331492424,
          7.9236377254804,
          7.51610432422956,
          8.56516906576157,
          0.357342550722758,
          7.9236377254804,
          8.244354199934,
          5.11536068277359,
          0.317395366795858,
          0.317395366795858,
          3.83932929989497,
          7.9236377254804,
          7.9236377254804,
          0.317395366795858,
          5.03571270065308,
          0.394839141337077,
          7.9236377254804,
          6.40331874049505,
          7.35757483201027,
          8.08457660830815,
          6.23626164155006,
          8.244354199934,
          7.51610432422956,
          7.35757483201027,
          7.87868284341494,
          8.4769453918616,
          6.91801805850665,
          7.39420979973475,
          3.79778935866356,
          7.9236377254804,
          6.59691486713091,
          7.19644406593641,
          7.48576971845627,
          7.44131136692365,
          7.87868284341494,
          7.96165839192073,
          0.317395366795858,
          8.9880903239727,
          8.91518978234927,
          7.48576971845627,
          7.03631985740662,
          7.60272049066226,
          8.75494237499237,
          3.12209851698875,
          7.96165839192073,
          7.87868284341494,
          8.00074875709216,
          5.59496233420372,
          7.60272049066226,
          7.51610432422956,
          7.27891080932617,
          7.84613853252729,
          7.51610432422956,
          7.44131136692365,
          7.56152574973106,
          0.357342550722758,
          7.9236377254804,
          8.84238121665319,
          7.9236377254804,
          5.40282422658602,
          0.317395366795858,
          8.00074875709216,
          7.19644406593641,
          4.2044275657018,
          0.357342550722758,
          6.96027354952494,
          7.44131136692365,
          7.9236377254804,
          7.44131136692365,
          7.51610432422956,
          7.51610432422956,
          4.48473324931463,
          8.00074875709216,
          7.87868284341494,
          7.48576971845627,
          6.8842190817674,
          7.35757483201027,
          7.1216920331796,
          0.52081415014267,
          2.16433243311246,
          0.317395366795858,
          7.51610432422956,
          7.9236377254804,
          0.317395366795858,
          3.79778935866356,
          7.35757483201027,
          7.48576971845627,
          7.35757483201027,
          5.40282422658602,
          4.92451526678403,
          7.19644406593641,
          6.96027354952494,
          8.00074875709216,
          7.87868284341494,
          5.91933502511978,
          7.9236377254804,
          7.48576971845627,
          7.48576971845627,
          8.12234850085576,
          3.88164065834681,
          0.317395366795858,
          7.84613853252729,
          5.67460785067876,
          7.51610432422956,
          7.48576971845627,
          7.51610432422956,
          0.317395366795858,
          0.357342550722758,
          7.9236377254804,
          7.48576971845627,
          7.48576971845627,
          7.56152574973106,
          3.12209851698875,
          0.317395366795858,
          7.48576971845627,
          7.48576971845627,
          7.48576971845627,
          6.91801805850665,
          7.19644406593641,
          0.317395366795858,
          7.9236377254804,
          7.84613853252729,
          8.00074875709216,
          0.317395366795858,
          7.35757483201027,
          2.91408731695811,
          7.64117420074145,
          7.15665767547289,
          8.91518978234927,
          1.00368956681887,
          7.48576971845627,
          7.84613853252729,
          7.48576971845627,
          8.9662231997331,
          0.317395366795858,
          7.64117420074145,
          7.48576971845627,
          7.60272049066226,
          7.48576971845627,
          4.60183141784668,
          8.12234850085576,
          0.52081415014267,
          7.39420979973475,
          7.48576971845627,
          7.35757483201027,
          8.03970136798223,
          7.87868284341494,
          7.35757483201027,
          7.15665767547289,
          7.48576971845627,
          7.51610432422956,
          6.68141983505885,
          1.67497688290278,
          7.23795746720632,
          7.48576971845627,
          7.51610432422956,
          7.51610432422956,
          7.51610432422956,
          7.03631985740662,
          6.72366748210589,
          3.83932929989497,
          7.19644406593641,
          6.59691486713091,
          6.96027354952494,
          0.317395366795858,
          7.84613853252729,
          0.394839141337077,
          0.317395366795858,
          7.19644406593641,
          7.84613853252729,
          7.48576971845627,
          7.9236377254804,
          1.15935209151904,
          8.84238121665319,
          6.20305176731745,
          8.91518978234927,
          7.23795746720632,
          7.03631985740662,
          7.87868284341494,
          7.9236377254804,
          7.9236377254804,
          7.35757483201027,
          4.68015694177945,
          8.08457660830815,
          2.80200339115461,
          7.39420979973475,
          0.317395366795858,
          3.83932929989497,
          0.443312358427048,
          6.75746594227155,
          7.7964500740846,
          7.9236377254804,
          7.48576971845627,
          6.8842190817674,
          7.35757483201027,
          0.317395366795858,
          8.56516906576157,
          2.72209429896673,
          7.64117420074145,
          7.56152574973106,
          7.39420979973475,
          6.52096772548358,
          8.19841570016543,
          7.03631985740662,
          7.23795746720632,
          6.75746594227155,
          3.88164065834681,
          4.48473324931463,
          4.60183141784668,
          9.00264136549632,
          3.83932929989497,
          3.83932929989497,
          8.16027714964549,
          0.317395366795858,
          8.91518978234927,
          1.03485331492424,
          7.19644406593641,
          7.48576971845627,
          7.19644406593641,
          6.3194811419328,
          0.357342550722758,
          6.79972195781072,
          7.60272049066226,
          8.08457660830815,
          7.44131136692365,
          7.35757483201027,
          0.317395366795858,
          0.317395366795858,
          7.44131136692365,
          7.51610432422956,
          8.79871816592216,
          7.9236377254804,
          8.00074875709216,
          7.72378541784286,
          0.317395366795858,
          6.79972195781072,
          0.317395366795858,
          7.76387727416356,
          4.76651709235509,
          7.9236377254804,
          7.44131136692365,
          8.16027714964549,
          7.15665767547289,
          3.83932929989497,
          8.244354199934,
          7.48576971845627,
          4.32091833310127,
          9.00264136549632,
          1.28400155064265,
          7.9236377254804,
          7.48576971845627,
          9.00264136549632,
          0.357342550722758,
          6.4788009996891,
          5.91933502511978,
          6.79972195781072,
          7.23795746720632,
          7.48576971845627,
          7.48576971845627,
          7.51610432422956,
          6.59691486713091,
          7.56152574973106,
          8.56516906576157,
          0.840468916861216,
          2.8819904501915,
          4.7979625995636,
          0.357342550722758,
          7.9236377254804,
          6.59691486713091,
          6.68141983505885,
          7.48576971845627,
          7.48576971845627,
          7.48576971845627,
          0.317395366795858,
          7.35757483201027,
          0.357342550722758,
          5.43493518389066,
          7.87868284341494,
          7.56152574973106,
          7.35757483201027,
          7.96165839192073,
          7.51610432422956,
          8.56516906576157,
          3.83932929989497,
          7.9236377254804,
          9.00264136549632,
          8.35808396693865,
          5.72226914124489,
          7.48576971845627,
          0.317395366795858,
          5.9589623506546,
          7.48576971845627,
          7.19644406593641,
          7.60272049066226,
          7.19644406593641,
          1.47902397669156,
          8.03970136798223,
          3.83932929989497,
          1.64361930843989,
          4.64085978226662,
          7.51610432422956,
          7.60272049066226,
          7.96165839192073,
          7.9236377254804,
          3.79778935866356,
          7.23795746720632,
          8.12234850085576,
          4.48473324931463,
          7.51610432422956,
          7.00252224164009,
          8.52107802586555,
          7.48576971845627,
          6.91801805850665,
          7.87868284341494,
          8.19841570016543,
          7.44131136692365,
          7.96165839192073,
          7.9236377254804,
          7.19644406593641,
          7.64117420074145,
          7.56152574973106,
          1.59660530047417,
          9.00264136549632,
          7.48576971845627,
          7.44131136692365,
          7.48576971845627,
          8.35808396693865,
          0.879531432755788,
          0.357342550722758,
          6.43678439216614,
          3.83932929989497,
          7.87868284341494,
          7.35757483201027,
          7.23795746720632,
          7.23795746720632,
          7.23795746720632,
          7.9236377254804,
          3.92471298333804,
          7.56152574973106,
          0.317395366795858,
          7.27891080932617,
          0.357342550722758,
          7.48576971845627,
          7.87868284341494,
          7.39420979973475,
          5.24289659218788,
          6.96027354952494,
          0.0855051254908244,
          0.357342550722758,
          0.879531432755788,
          7.56152574973106,
          3.83932929989497,
          2.1168881014665,
          9.00264136549632,
          9.00264136549632,
          0.840468916861216,
          7.27891080932617,
          7.51610432422956,
          7.51610432422956,
          7.48576971845627,
          7.51610432422956,
          5.9589623506546,
          9.00264136549632,
          7.44131136692365,
          6.8842190817674,
          0.357342550722758,
          7.35757483201027,
          7.64117420074145,
          7.19644406593641,
          0.317395366795858,
          0.317395366795858,
          7.39420979973475,
          0.394839141337077,
          7.48576971845627,
          7.51610432422956,
          7.44131136692365,
          7.64117420074145,
          0.317395366795858,
          7.48576971845627,
          7.9236377254804,
          7.39420979973475,
          7.48576971845627,
          4.87699625846545,
          8.56516906576157,
          3.83932929989497,
          6.8842190817674,
          7.64117420074145,
          7.35757483201027,
          8.56516906576157,
          7.9236377254804,
          3.92471298333804,
          0.357342550722758,
          0.317395366795858,
          7.51610432422956,
          6.43678439216614,
          7.51610432422956,
          7.19644406593641,
          8.12234850085576,
          7.51610432422956,
          7.56152574973106,
          6.79972195781072,
          7.35757483201027,
          7.19644406593641,
          3.72425490177472,
          7.51610432422956,
          7.48576971845627,
          7.35757483201027,
          3.92471298333804,
          7.76387727416356,
          0.317395366795858,
          6.68141983505885,
          7.56152574973106,
          0.317395366795858,
          6.43678439216614,
          7.60272049066226,
          8.91518978234927,
          1.47902397669156,
          7.9236377254804,
          7.35757483201027,
          0.357342550722758,
          7.9236377254804,
          3.83932929989497,
          7.19644406593641,
          7.56152574973106,
          7.48576971845627,
          7.48576971845627,
          7.44131136692365,
          7.48576971845627,
          0.357342550722758,
          6.63917059060732,
          7.44131136692365,
          7.51610432422956,
          7.44131136692365,
          6.43678439216614,
          7.51610432422956,
          7.23795746720632,
          0.317395366795858,
          7.56152574973106,
          7.9236377254804,
          5.40282422658602,
          6.68141983505885,
          7.56152574973106,
          7.48576971845627,
          8.03970136798223,
          7.60272049066226,
          7.51610432422956,
          7.51610432422956,
          7.51610432422956,
          6.8842190817674,
          8.88611269152959,
          1.03485331492424,
          8.88611269152959,
          7.48576971845627,
          7.9236377254804,
          7.35757483201027,
          7.39420979973475,
          1.95886970914205,
          6.07945797599157,
          7.51610432422956,
          9.00264136549632,
          5.64284360961914,
          7.48576971845627,
          7.64117420074145,
          6.07945797599157,
          8.00074875709216,
          7.60272049066226,
          7.00252224164009,
          7.51610432422956,
          7.23795746720632,
          0.317395366795858,
          7.51610432422956,
          3.15411232666969,
          7.19644406593641,
          7.51610432422956,
          7.72378541784286,
          3.83932929989497,
          8.4769453918616,
          4.68015694177945,
          7.48576971845627,
          7.48576971845627,
          7.48576971845627,
          2.91408731695811,
          7.9236377254804,
          7.48576971845627,
          7.23795746720632,
          6.68141983505885,
          7.56152574973106,
          8.72575774149895,
          1.12053355929057,
          7.35757483201027,
          1.44006280856132,
          4.56282771782875,
          7.51610432422956,
          7.48576971845627,
          7.96165839192073,
          0.357342550722758,
          7.56152574973106,
          7.51610432422956,
          1.91936313268344,
          7.60272049066226,
          7.51610432422956,
          0.317395366795858,
          7.51610432422956,
          2.24383325931231,
          7.23795746720632,
          3.83932929989497,
          0.317395366795858,
          7.44131136692365,
          6.63917059060732,
          3.76182024237315,
          5.16327342348099,
          7.23795746720632,
          7.87868284341494,
          4.60183141784668,
          8.79871816592216
         ],
         "yaxis": "y"
        }
       ],
       "layout": {
        "legend": {
         "tracegroupgap": 0
        },
        "margin": {
         "t": 60
        },
        "template": {
         "data": {
          "bar": [
           {
            "error_x": {
             "color": "#2a3f5f"
            },
            "error_y": {
             "color": "#2a3f5f"
            },
            "marker": {
             "line": {
              "color": "#E5ECF6",
              "width": 0.5
             }
            },
            "type": "bar"
           }
          ],
          "barpolar": [
           {
            "marker": {
             "line": {
              "color": "#E5ECF6",
              "width": 0.5
             }
            },
            "type": "barpolar"
           }
          ],
          "carpet": [
           {
            "aaxis": {
             "endlinecolor": "#2a3f5f",
             "gridcolor": "white",
             "linecolor": "white",
             "minorgridcolor": "white",
             "startlinecolor": "#2a3f5f"
            },
            "baxis": {
             "endlinecolor": "#2a3f5f",
             "gridcolor": "white",
             "linecolor": "white",
             "minorgridcolor": "white",
             "startlinecolor": "#2a3f5f"
            },
            "type": "carpet"
           }
          ],
          "choropleth": [
           {
            "colorbar": {
             "outlinewidth": 0,
             "ticks": ""
            },
            "type": "choropleth"
           }
          ],
          "contour": [
           {
            "colorbar": {
             "outlinewidth": 0,
             "ticks": ""
            },
            "colorscale": [
             [
              0,
              "#0d0887"
             ],
             [
              0.1111111111111111,
              "#46039f"
             ],
             [
              0.2222222222222222,
              "#7201a8"
             ],
             [
              0.3333333333333333,
              "#9c179e"
             ],
             [
              0.4444444444444444,
              "#bd3786"
             ],
             [
              0.5555555555555556,
              "#d8576b"
             ],
             [
              0.6666666666666666,
              "#ed7953"
             ],
             [
              0.7777777777777778,
              "#fb9f3a"
             ],
             [
              0.8888888888888888,
              "#fdca26"
             ],
             [
              1,
              "#f0f921"
             ]
            ],
            "type": "contour"
           }
          ],
          "contourcarpet": [
           {
            "colorbar": {
             "outlinewidth": 0,
             "ticks": ""
            },
            "type": "contourcarpet"
           }
          ],
          "heatmap": [
           {
            "colorbar": {
             "outlinewidth": 0,
             "ticks": ""
            },
            "colorscale": [
             [
              0,
              "#0d0887"
             ],
             [
              0.1111111111111111,
              "#46039f"
             ],
             [
              0.2222222222222222,
              "#7201a8"
             ],
             [
              0.3333333333333333,
              "#9c179e"
             ],
             [
              0.4444444444444444,
              "#bd3786"
             ],
             [
              0.5555555555555556,
              "#d8576b"
             ],
             [
              0.6666666666666666,
              "#ed7953"
             ],
             [
              0.7777777777777778,
              "#fb9f3a"
             ],
             [
              0.8888888888888888,
              "#fdca26"
             ],
             [
              1,
              "#f0f921"
             ]
            ],
            "type": "heatmap"
           }
          ],
          "heatmapgl": [
           {
            "colorbar": {
             "outlinewidth": 0,
             "ticks": ""
            },
            "colorscale": [
             [
              0,
              "#0d0887"
             ],
             [
              0.1111111111111111,
              "#46039f"
             ],
             [
              0.2222222222222222,
              "#7201a8"
             ],
             [
              0.3333333333333333,
              "#9c179e"
             ],
             [
              0.4444444444444444,
              "#bd3786"
             ],
             [
              0.5555555555555556,
              "#d8576b"
             ],
             [
              0.6666666666666666,
              "#ed7953"
             ],
             [
              0.7777777777777778,
              "#fb9f3a"
             ],
             [
              0.8888888888888888,
              "#fdca26"
             ],
             [
              1,
              "#f0f921"
             ]
            ],
            "type": "heatmapgl"
           }
          ],
          "histogram": [
           {
            "marker": {
             "colorbar": {
              "outlinewidth": 0,
              "ticks": ""
             }
            },
            "type": "histogram"
           }
          ],
          "histogram2d": [
           {
            "colorbar": {
             "outlinewidth": 0,
             "ticks": ""
            },
            "colorscale": [
             [
              0,
              "#0d0887"
             ],
             [
              0.1111111111111111,
              "#46039f"
             ],
             [
              0.2222222222222222,
              "#7201a8"
             ],
             [
              0.3333333333333333,
              "#9c179e"
             ],
             [
              0.4444444444444444,
              "#bd3786"
             ],
             [
              0.5555555555555556,
              "#d8576b"
             ],
             [
              0.6666666666666666,
              "#ed7953"
             ],
             [
              0.7777777777777778,
              "#fb9f3a"
             ],
             [
              0.8888888888888888,
              "#fdca26"
             ],
             [
              1,
              "#f0f921"
             ]
            ],
            "type": "histogram2d"
           }
          ],
          "histogram2dcontour": [
           {
            "colorbar": {
             "outlinewidth": 0,
             "ticks": ""
            },
            "colorscale": [
             [
              0,
              "#0d0887"
             ],
             [
              0.1111111111111111,
              "#46039f"
             ],
             [
              0.2222222222222222,
              "#7201a8"
             ],
             [
              0.3333333333333333,
              "#9c179e"
             ],
             [
              0.4444444444444444,
              "#bd3786"
             ],
             [
              0.5555555555555556,
              "#d8576b"
             ],
             [
              0.6666666666666666,
              "#ed7953"
             ],
             [
              0.7777777777777778,
              "#fb9f3a"
             ],
             [
              0.8888888888888888,
              "#fdca26"
             ],
             [
              1,
              "#f0f921"
             ]
            ],
            "type": "histogram2dcontour"
           }
          ],
          "mesh3d": [
           {
            "colorbar": {
             "outlinewidth": 0,
             "ticks": ""
            },
            "type": "mesh3d"
           }
          ],
          "parcoords": [
           {
            "line": {
             "colorbar": {
              "outlinewidth": 0,
              "ticks": ""
             }
            },
            "type": "parcoords"
           }
          ],
          "pie": [
           {
            "automargin": true,
            "type": "pie"
           }
          ],
          "scatter": [
           {
            "marker": {
             "colorbar": {
              "outlinewidth": 0,
              "ticks": ""
             }
            },
            "type": "scatter"
           }
          ],
          "scatter3d": [
           {
            "line": {
             "colorbar": {
              "outlinewidth": 0,
              "ticks": ""
             }
            },
            "marker": {
             "colorbar": {
              "outlinewidth": 0,
              "ticks": ""
             }
            },
            "type": "scatter3d"
           }
          ],
          "scattercarpet": [
           {
            "marker": {
             "colorbar": {
              "outlinewidth": 0,
              "ticks": ""
             }
            },
            "type": "scattercarpet"
           }
          ],
          "scattergeo": [
           {
            "marker": {
             "colorbar": {
              "outlinewidth": 0,
              "ticks": ""
             }
            },
            "type": "scattergeo"
           }
          ],
          "scattergl": [
           {
            "marker": {
             "colorbar": {
              "outlinewidth": 0,
              "ticks": ""
             }
            },
            "type": "scattergl"
           }
          ],
          "scattermapbox": [
           {
            "marker": {
             "colorbar": {
              "outlinewidth": 0,
              "ticks": ""
             }
            },
            "type": "scattermapbox"
           }
          ],
          "scatterpolar": [
           {
            "marker": {
             "colorbar": {
              "outlinewidth": 0,
              "ticks": ""
             }
            },
            "type": "scatterpolar"
           }
          ],
          "scatterpolargl": [
           {
            "marker": {
             "colorbar": {
              "outlinewidth": 0,
              "ticks": ""
             }
            },
            "type": "scatterpolargl"
           }
          ],
          "scatterternary": [
           {
            "marker": {
             "colorbar": {
              "outlinewidth": 0,
              "ticks": ""
             }
            },
            "type": "scatterternary"
           }
          ],
          "surface": [
           {
            "colorbar": {
             "outlinewidth": 0,
             "ticks": ""
            },
            "colorscale": [
             [
              0,
              "#0d0887"
             ],
             [
              0.1111111111111111,
              "#46039f"
             ],
             [
              0.2222222222222222,
              "#7201a8"
             ],
             [
              0.3333333333333333,
              "#9c179e"
             ],
             [
              0.4444444444444444,
              "#bd3786"
             ],
             [
              0.5555555555555556,
              "#d8576b"
             ],
             [
              0.6666666666666666,
              "#ed7953"
             ],
             [
              0.7777777777777778,
              "#fb9f3a"
             ],
             [
              0.8888888888888888,
              "#fdca26"
             ],
             [
              1,
              "#f0f921"
             ]
            ],
            "type": "surface"
           }
          ],
          "table": [
           {
            "cells": {
             "fill": {
              "color": "#EBF0F8"
             },
             "line": {
              "color": "white"
             }
            },
            "header": {
             "fill": {
              "color": "#C8D4E3"
             },
             "line": {
              "color": "white"
             }
            },
            "type": "table"
           }
          ]
         },
         "layout": {
          "annotationdefaults": {
           "arrowcolor": "#2a3f5f",
           "arrowhead": 0,
           "arrowwidth": 1
          },
          "autotypenumbers": "strict",
          "coloraxis": {
           "colorbar": {
            "outlinewidth": 0,
            "ticks": ""
           }
          },
          "colorscale": {
           "diverging": [
            [
             0,
             "#8e0152"
            ],
            [
             0.1,
             "#c51b7d"
            ],
            [
             0.2,
             "#de77ae"
            ],
            [
             0.3,
             "#f1b6da"
            ],
            [
             0.4,
             "#fde0ef"
            ],
            [
             0.5,
             "#f7f7f7"
            ],
            [
             0.6,
             "#e6f5d0"
            ],
            [
             0.7,
             "#b8e186"
            ],
            [
             0.8,
             "#7fbc41"
            ],
            [
             0.9,
             "#4d9221"
            ],
            [
             1,
             "#276419"
            ]
           ],
           "sequential": [
            [
             0,
             "#0d0887"
            ],
            [
             0.1111111111111111,
             "#46039f"
            ],
            [
             0.2222222222222222,
             "#7201a8"
            ],
            [
             0.3333333333333333,
             "#9c179e"
            ],
            [
             0.4444444444444444,
             "#bd3786"
            ],
            [
             0.5555555555555556,
             "#d8576b"
            ],
            [
             0.6666666666666666,
             "#ed7953"
            ],
            [
             0.7777777777777778,
             "#fb9f3a"
            ],
            [
             0.8888888888888888,
             "#fdca26"
            ],
            [
             1,
             "#f0f921"
            ]
           ],
           "sequentialminus": [
            [
             0,
             "#0d0887"
            ],
            [
             0.1111111111111111,
             "#46039f"
            ],
            [
             0.2222222222222222,
             "#7201a8"
            ],
            [
             0.3333333333333333,
             "#9c179e"
            ],
            [
             0.4444444444444444,
             "#bd3786"
            ],
            [
             0.5555555555555556,
             "#d8576b"
            ],
            [
             0.6666666666666666,
             "#ed7953"
            ],
            [
             0.7777777777777778,
             "#fb9f3a"
            ],
            [
             0.8888888888888888,
             "#fdca26"
            ],
            [
             1,
             "#f0f921"
            ]
           ]
          },
          "colorway": [
           "#636efa",
           "#EF553B",
           "#00cc96",
           "#ab63fa",
           "#FFA15A",
           "#19d3f3",
           "#FF6692",
           "#B6E880",
           "#FF97FF",
           "#FECB52"
          ],
          "font": {
           "color": "#2a3f5f"
          },
          "geo": {
           "bgcolor": "white",
           "lakecolor": "white",
           "landcolor": "#E5ECF6",
           "showlakes": true,
           "showland": true,
           "subunitcolor": "white"
          },
          "hoverlabel": {
           "align": "left"
          },
          "hovermode": "closest",
          "mapbox": {
           "style": "light"
          },
          "paper_bgcolor": "white",
          "plot_bgcolor": "#E5ECF6",
          "polar": {
           "angularaxis": {
            "gridcolor": "white",
            "linecolor": "white",
            "ticks": ""
           },
           "bgcolor": "#E5ECF6",
           "radialaxis": {
            "gridcolor": "white",
            "linecolor": "white",
            "ticks": ""
           }
          },
          "scene": {
           "xaxis": {
            "backgroundcolor": "#E5ECF6",
            "gridcolor": "white",
            "gridwidth": 2,
            "linecolor": "white",
            "showbackground": true,
            "ticks": "",
            "zerolinecolor": "white"
           },
           "yaxis": {
            "backgroundcolor": "#E5ECF6",
            "gridcolor": "white",
            "gridwidth": 2,
            "linecolor": "white",
            "showbackground": true,
            "ticks": "",
            "zerolinecolor": "white"
           },
           "zaxis": {
            "backgroundcolor": "#E5ECF6",
            "gridcolor": "white",
            "gridwidth": 2,
            "linecolor": "white",
            "showbackground": true,
            "ticks": "",
            "zerolinecolor": "white"
           }
          },
          "shapedefaults": {
           "line": {
            "color": "#2a3f5f"
           }
          },
          "ternary": {
           "aaxis": {
            "gridcolor": "white",
            "linecolor": "white",
            "ticks": ""
           },
           "baxis": {
            "gridcolor": "white",
            "linecolor": "white",
            "ticks": ""
           },
           "bgcolor": "#E5ECF6",
           "caxis": {
            "gridcolor": "white",
            "linecolor": "white",
            "ticks": ""
           }
          },
          "title": {
           "x": 0.05
          },
          "xaxis": {
           "automargin": true,
           "gridcolor": "white",
           "linecolor": "white",
           "ticks": "",
           "title": {
            "standoff": 15
           },
           "zerolinecolor": "white",
           "zerolinewidth": 2
          },
          "yaxis": {
           "automargin": true,
           "gridcolor": "white",
           "linecolor": "white",
           "ticks": "",
           "title": {
            "standoff": 15
           },
           "zerolinecolor": "white",
           "zerolinewidth": 2
          }
         }
        },
        "xaxis": {
         "anchor": "y",
         "domain": [
          0,
          1
         ],
         "title": {
          "text": "Mass"
         }
        },
        "yaxis": {
         "anchor": "x",
         "domain": [
          0,
          1
         ],
         "title": {
          "text": "RT"
         }
        }
       }
      },
      "text/html": [
       "<div>                            <div id=\"4f2d9727-73d3-46e5-b972-8b6f5ef94ad1\" class=\"plotly-graph-div\" style=\"height:525px; width:100%;\"></div>            <script type=\"text/javascript\">                require([\"plotly\"], function(Plotly) {                    window.PLOTLYENV=window.PLOTLYENV || {};                                    if (document.getElementById(\"4f2d9727-73d3-46e5-b972-8b6f5ef94ad1\")) {                    Plotly.newPlot(                        \"4f2d9727-73d3-46e5-b972-8b6f5ef94ad1\",                        [{\"hovertemplate\": \"Mass=%{x}<br>RT=%{y}<extra></extra>\", \"legendgroup\": \"\", \"marker\": {\"color\": \"#636efa\", \"symbol\": \"circle\"}, \"mode\": \"markers\", \"name\": \"\", \"showlegend\": false, \"type\": \"scattergl\", \"x\": [24532.9364359808, 24525.9069180495, 24516.8992043533, 24500.9657051581, 24481.9742613297, 24480.967291803, 24471.9585511988, 24462.9954598419, 24460.9686155062, 24454.9600199103, 24453.9707454396, 24452.9584148208, 24445.0153495907, 24435.980142561, 24435.0101139851, 24433.9786665855, 24433.0233060373, 24426.0378688137, 24425.0354771698, 24416.0081557757, 24415.0012804837, 24414.0054477896, 24412.0425337977, 24410.0419894694, 24406.0455266371, 24397.0286437901, 24395.0369801359, 24391.0519462752, 24389.0667485687, 24388.0862295545, 24386.0937114134, 24379.0524892477, 24371.0839056526, 24370.1017627704, 24361.0729126715, 24351.1179990987, 24350.1217460797, 24342.0939211802, 24341.0952473793, 24340.1009660667, 24339.1515014232, 24332.1324303871, 24331.1498750105, 24330.1567015343, 24329.1144714402, 24323.1121299603, 24322.1299152478, 24319.1571298377, 24313.1562283043, 24311.1804648306, 24310.1432231514, 24304.1399733362, 24302.1553463156, 24294.186110206, 24287.1605959963, 24286.1771080903, 24285.1777094061, 24282.2018192784, 24277.1872517475, 24275.1819479932, 24274.2153954554, 24266.198908701, 24265.1969958252, 24263.2089473169, 24257.1865841469, 24255.2450532358, 24254.2460594735, 24253.2187650777, 24247.219971967, 24237.2559338324, 24228.2442837617, 24227.2414596032, 24226.2298352823, 24218.2178758122, 24217.2780567485, 24216.2820955423, 24209.258557196, 24201.1637978303, 24200.2313696932, 24199.2811430781, 24198.2887512574, 24197.2764943679, 24190.2891464725, 24189.3050133915, 24179.2945617359, 24172.3133737758, 24160.3092175975, 24159.2655752119, 8125.02370402532, 8112.03486398677, 7196.28141264544, 7180.28787173812, 6453.36910625082, 3504.27110177971, 2151.76457238674, 1923.68911465312, 1911.91370149247, 1893.74316656837, 1883.93881868116, 1871.74580053667, 1795.94351199288, 1788.9606744884, 1783.92625091343, 1768.73879131898, 1767.73375571785, 1750.77266458785, 1749.68299151006, 1747.96299906998, 1709.77704293311, 1692.72541962919, 1688.96690982193, 1682.95823842893, 1682.80030307723, 1681.80223798328, 1676.75024909283, 1676.74968876003, 1675.75028032056, 1675.74883953081, 1665.75008075904, 1665.66427240406, 1659.97441268624, 1635.93196397798, 1625.75723432638, 1619.97631604637, 1603.94284167044, 1591.88242648766, 1588.97311298509, 1583.02977887957, 1582.96760964104, 1582.96517892612, 1575.95092673035, 1575.83906855056, 1575.83807962401, 1565.95048007181, 1560.78906635272, 1555.94464259216, 1549.7791760426, 1548.66398550196, 1541.73848036227, 1536.72542421638, 1535.93937177584, 1527.19346088238, 1526.76579759834, 1525.76696671814, 1525.76650440666, 1522.94591263506, 1517.90858611131, 1513.81484301973, 1513.81457221833, 1511.86043367972, 1508.79819486199, 1507.79681165619, 1507.79635583797, 1502.77933266751, 1501.78005914742, 1499.95594554203, 1498.83640636809, 1497.83764670435, 1497.8371715479, 1494.73689226873, 1492.82065128619, 1491.96815408125, 1491.82061787935, 1491.81996587966, 1488.98056450463, 1487.93803116959, 1485.80528958433, 1482.97250409445, 1474.10457755293, 1466.80829854509, 1465.80798039861, 1462.96429940507, 1462.62708231741, 1459.79046666043, 1456.94975101638, 1444.81558745906, 1443.81650418075, 1428.95058311946, 1427.84276603514, 1426.82030292104, 1425.82059510868, 1425.82011735583, 1421.90125715414, 1420.80290510544, 1419.80269250873, 1419.80157690683, 1417.63111821583, 1411.86480816809, 1408.98094889818, 1407.84816445069, 1407.84776826073, 1402.83308855529, 1402.83273842209, 1397.76005655183, 1396.993277961, 1395.81298509218, 1395.68464662428, 1393.74195686038, 1393.74103186344, 1392.87105330558, 1392.87098644818, 1391.86996235633, 1391.86963052294, 1387.80870655938, 1387.80614136752, 1386.85493218699, 1385.92406828667, 1385.85439097336, 1382.97773944554, 1381.78857389964, 1381.78852875108, 1380.83856382493, 1377.76717150851, 1376.58864874049, 1375.9566, 1375.77123318191, 1375.77121084974, 1369.83769922819, 1369.75533099179, 1366.81284898855, 1365.81341851051, 1365.81244519123, 1359.79546353457, 1353.77892325109, 1352.96286412772, 1349.88798619039, 1343.86971886883, 1341.80218482959, 1341.79968609426, 1339.94176459866, 1339.80290452499, 1335.7812512292, 1335.7802780889, 1333.78492418856, 1333.6094, 1329.84610671642, 1329.76354371807, 1329.76326175605, 1327.89291479548, 1327.89204187341, 1324.83195750698, 1324.68761916585, 1323.82891699088, 1323.82886983087, 1322.87820380331, 1321.87611010402, 1321.87555937177, 1318.81540734027, 1318.81478452751, 1317.8118088162, 1317.81143469051, 1314.05134822064, 1313.78864111011, 1312.79754503124, 1311.79390148668, 1311.66426942602, 1308.8559283706, 1308.85492491119, 1308.85467546452, 1307.85551715764, 1307.85464344305, 1305.89886738666, 1303.78615374079, 1302.83728191537, 1301.83700495748, 1301.83627601728, 1300.05211451733, 1296.86871664342, 1295.86519125642, 1295.86486301768, 1295.86443520374, 1294.79455343561, 1293.79483341917, 1293.79465729094, 1290.55260125499, 1288.77720103523, 1287.77726499206, 1287.77715959037, 1282.98435205919, 1282.84328078699, 1281.8395727119, 1281.8392, 1281.79433618645, 1280.89133713307, 1280.88965604043, 1279.88681121311, 1275.82316772737, 1275.82306810669, 1271.80272678471, 1271.80207145561, 1269.80686366575, 1269.80634367012, 1267.63710111388, 1263.6583835253, 1260.8493374963, 1259.84733951794, 1259.84713565995, 1257.85690348975, 1255.7818109917, 1255.77979782117, 1254.83337053278, 1253.83150886321, 1253.83044334058, 1249.76435548467, 1247.81549890169, 1245.82681968273, 1243.8776072517, 1241.90502735715, 1239.81058457045, 1237.86014728041, 1235.83336015099, 1235.83285649102, 1231.84245979651, 1231.80504843492, 1229.8190322333, 1229.8185976451, 1229.77197573942, 1227.77425589827, 1227.609, 1223.88035772253, 1223.79894952508, 1221.88081254471, 1218.86658535267, 1217.86406560875, 1215.98584332413, 1212.85008752771, 1212.84998565842, 1211.8471074926, 1208.01287395207, 1207.82827905861, 1205.82894054525, 1204.75792015717, 1204.51547650314, 1203.96598868774, 1203.75810152491, 1203.75777854594, 1202.88951355335, 1202.88940472304, 1201.96971121204, 1201.88972810346, 1201.76494636972, 1197.82119809777, 1197.78056253706, 1197.7396378453, 1196.87214513864, 1196.87159344127, 1195.87178517598, 1191.80467564349, 1191.80461688987, 1191.80440334617, 1189.85491753221, 1189.85443314782, 1187.78532118985, 1187.78406557668, 1182.0270765179, 1181.81337905275, 1181.81272571173, 1181.76707215704, 1179.89705132501, 1179.85502058886, 1179.85487580338, 1175.83000044496, 1173.83737658213, 1171.85768846739, 1171.7628425625, 1171.76009887751, 1171.72172319311, 1170.26487481, 1167.82129573458, 1167.82060367756, 1167.82014215946, 1165.8388678966, 1165.83860851819, 1165.7921231932, 1163.8419093978, 1163.84182658327, 1163.76446145438, 1161.8081194451, 1161.80790314173, 1161.76896654012, 1159.90483480756, 1158.72999127034, 1157.69392326429, 1156.75277120603, 1153.88692627395, 1153.88671132083, 1153.83896099502, 1151.81182636575, 1149.86944244576, 1149.81478158286, 1147.86830390165, 1147.86761098502, 1147.82046280309, 1145.8762865056, 1145.79594431106, 1145.79517278118, 1143.79938451261, 1139.86200165425, 1139.82423547494, 1139.82320296274, 1139.77981344569, 1139.77927273867, 1138.91278693379, 1137.90996396122, 1137.90972002959, 1137.78130361619, 1136.4894, 1134.84746565032, 1133.84705734182, 1133.8459703121, 1131.96308628952, 1131.89816318961, 1131.63423001535, 1130.8705156113, 1130.86995679288, 1129.90038881471, 1129.8706067384, 1129.87052975362, 1127.87349438441, 1127.87309287087, 1127.82744359219, 1127.82719589156, 1126.23875193223, 1124.85436170668, 1124.85432074086, 1123.85517099761, 1123.85446053288, 1121.85496521189, 1121.81030293928, 1121.80946914983, 1118.47862820267, 1117.91633133791, 1117.91626306862, 1117.87871470603, 1115.92003961602, 1115.79463593371, 1113.80241142745, 1111.89924523323, 1111.86134221596, 1111.86059061845, 1107.96192077504, 1106.88625442566, 1106.8860333675, 1105.88244699007, 1105.88176178657, 1105.80510133336, 1105.80366753652, 1104.81067171556, 1104.65205287575, 1103.84011720782, 1103.81116960655, 1103.81036006419, 1103.76340103369, 1102.65255031866, 1099.82167031685, 1099.78777195144, 1098.79401824996, 1097.79442431387, 1097.79338766362, 1096.92384852495, 1095.92171995791, 1095.83738935757, 1093.85367103061, 1093.85363442818, 1093.85360159121, 1093.85343339758, 1091.85647309706, 1091.81603389191, 1091.81547879167, 1090.9074513899, 1090.90742604225, 1089.90492339375, 1089.90433056138, 1089.86177087039, 1087.95583804367, 1087.83686214362, 1087.83651433707, 1086.12473915868, 1085.83993302834, 1085.8397022842, 1084.7347, 1083.84683154242, 1083.80609902879, 1081.81975719742, 1081.81941397497, 1079.91870516853, 1079.91854474556, 1079.82323449856, 1079.82322218465, 1079.78769475532, 1078.73014297754, 1078.1871419173, 1077.82962233014, 1077.78913078995, 1076.19011490146, 1075.9881, 1075.97964339306, 1074.89309688273, 1074.17491964682, 1073.89054503236, 1073.80983914718, 1073.80856070409, 1072.10760102806, 1071.86074305905, 1071.86026107133, 1070.8679392888, 1069.89828099892, 1069.86437894115, 1067.87304954698, 1067.83495534661, 1067.83418908775, 1065.84598417361, 1065.79654800007, 1065.7965, 1065.75722278338, 1065.58630201258, 1063.94077796699, 1063.84849114572, 1063.8109857791, 1061.85658580292, 1061.85649820202, 1061.82222859396, 1061.77742155254, 1059.78064868548, 1057.83541387568, 1057.83434228923, 1055.97068979151, 1055.84328216936, 1055.84301931489, 1051.89752801436, 1051.89739278139, 1050.45329947268, 1049.87294725818, 1049.82594246084, 1049.82587491354, 1047.84660418335, 1047.84458901433, 1046.85325663167, 1046.63407553486, 1045.88328643246, 1045.85325499146, 1045.80607263983, 1044.61781857694, 1043.85562917905, 1043.85218513567, 1043.80857797622, 1043.8076152599, 1041.85835170218, 1039.8359574881, 1039.83589190856, 1037.66156234527, 1035.96233051301, 1035.90166466489, 1035.89899803256, 1035.84430268762, 1034.90123504215, 1034.90122924567, 1034.50006785104, 1033.8976183173, 1033.86290468695, 1033.86208803537, 1033.82162695084, 1033.655694325, 1032.44218096004, 1030.88322190382, 1029.82789981337, 1028.88418222988, 1028.88405461388, 1027.88098157549, 1027.88075413317, 1027.85140667233, 1027.84881220963, 1026.0881064745, 1025.88442940745, 1022.81509103479, 1022.24915484096, 1021.86419952118, 1021.86401937836, 1021.8147959517, 1019.9691382057, 1018.53599629184, 1016.4905608574, 1015.8478187609, 1015.84770180054, 1015.79896412401, 1013.77310957801, 1012.90606888175, 1012.45751437047, 1011.90357525672, 1011.81715673164, 1009.80068679768, 1008.6318, 1007.88427242327, 1007.83785625945, 1007.79993287237, 1005.88903081434, 1005.88827723622, 1005.79970654671, 1003.85586913001, 1002.9571, 1002.86302169498, 1001.91613805733, 1001.91585088284, 1001.86799254436, 1001.82023772116, 1000.17423224284, 999.945699832687, 999.874057528549, 999.873034973973, 999.846094830514, 999.842361679006, 998.846863938475, 998.84659195809, 997.876266392525, 997.848054822737, 997.847749109092, 997.847524994348, 996.901418748891, 996.0478, 995.802650971883, 994.773675473335, 993.858894912107, 993.831017781343, 993.830427086578, 992.830082007754, 992.829989953825, 991.828992493034, 989.87205035729, 989.871881759134, 987.889341046913, 987.889250117074, 986.853616665601, 986.85164771977, 985.892391378956, 985.853662231562, 985.853064176952, 983.947892344885, 983.897306713543, 983.896845560863, 983.855122194305, 983.854163771344, 982.7384, 981.873044816737, 981.872923362084, 981.777976146912, 979.924507848991, 979.922883939033, 979.8757416944, 979.875476718305, 979.829106433409, 979.827499732353, 978.222932717436, 977.958053427232, 977.933610650518, 977.883550468516, 977.837590816859, 975.937309791081, 975.855685193421, 975.855409263404, 975.808418922149, 973.860240678848, 973.858926273911, 973.858707190035, 973.814388344177, 973.81316289915, 972.432858812332, 971.970985408181, 971.824502203158, 970.925555124134, 970.5625, 970.4178, 969.921808830212, 969.860182083538, 969.835842305735, 969.835296585571, 965.963125366417, 965.895592270511, 963.901055947882, 963.812718882705, 963.811979190925, 961.909036599035, 961.908935480105, 961.845209158752, 960.7909, 959.967074203239, 959.880890972268, 959.833239084294, 959.4207, 957.9842, 957.885708218007, 957.884771502473, 957.841925628972, 957.839528222028, 955.9592, 955.892118973824, 955.891950184795, 955.863708569951, 955.863320172067, 955.813415125358, 955.812867170695, 955.812759612806, 954.5423, 953.816220221756, 953.815968907133, 951.973628096339, 951.823430875633, 949.985993166102, 949.879113895464, 949.795823387583, 949.583226197356, 948.929539349205, 947.927689562017, 947.927297962414, 947.798725683834, 946.478309268667, 946.405726020404, 945.931432082009, 945.931218528215, 945.76487676546, 944.5406, 943.90788299087, 943.90776706424, 943.862108490653, 942.972416530648, 941.911053624884, 941.885476608094, 941.865223328726, 941.864479887195, 940.888387483794, 940.8882495138, 940.855322947939, 940.854642646599, 940.083231641268, 939.961037067911, 939.914703120383, 939.889590441793, 939.889569447322, 939.841271910733, 937.965597800128, 937.890797094805, 937.890722228671, 937.845045273241, 937.844375469993, 937.843541446127, 936.134568681856, 935.965096478856, 935.848346843835, 935.847790910965, 934.871392038809, 934.871300816147, 934.196789893459, 933.872755425547, 933.8719314181, 933.870570632057, 933.77299806326, 933.7716, 932.700401656469, 929.978840861974, 929.832236093278, 929.832175172561, 928.937000475596, 927.933558246349, 927.898969436131, 927.798865833074, 927.75807435596, 926.827528932368, 925.934518558218, 925.909156311777, 923.81966203782, 922.920591824591, 921.916618526184, 921.869894579323, 921.869309875512, 920.977873228884, 920.977707316503, 919.955414052201, 919.874485086571, 919.841832208165, 918.287205201215, 917.959107523497, 916.903601072562, 916.903486844716, 915.899933469651, 915.899775527322, 915.853762219479, 915.828075671859, 915.827245705991, 914.899381649452, 914.828990874075, 914.82896137614, 913.856980334248, 913.828773157001, 913.828417402553, 912.065828911981, 911.83067669555, 910.974796040182, 910.157028181393, 909.971492733971, 909.88473191632, 909.837669863134, 909.714924260825, 907.97455650083, 907.937466792862, 907.93736732253, 907.908543077168, 907.908453339417, 907.810140782636, 906.941250167539, 906.744466938097, 905.939302004347, 905.853548859947, 905.812783503328, 904.874599434217, 904.451132214648, 903.870417982657, 902.832222310671, 901.873819428033, 900.93117403537, 899.948716856576, 899.922315107014, 899.882113525799, 897.853736887789, 897.853413745637, 897.76035524779, 896.95607922176, 895.951915501635, 895.951888378228, 895.856863497395, 895.856802302221, 895.81299883316, 894.5313, 894.063476540792, 893.865131097771, 893.830937465962, 892.131143442115, 891.980136361182, 891.83582193395, 891.835585944935, 889.967339673804, 889.93517156804, 889.935143518503, 889.840222787885, 889.840104938759, 887.847238240919, 887.806300558335, 884.839183746193, 883.907536097872, 883.867595093476, 883.692132861068, 882.87932416492, 882.125274426012, 881.876749265905, 881.001091374841, 880.478174526284, 880.254351610801, 879.963174504614, 879.914902447768, 879.91459927418, 879.881000056163, 879.793535364291, 878.849780355831, 877.890521048329, 877.850241326692, 877.849314501941, 877.810348046791, 877.771608272258, 875.813448282596, 875.773254308515, 874.884634230207, 873.957905657478, 873.957845340921, 873.868538466116, 873.867363576726, 873.866810466591, 871.974067726853, 871.872592553065, 871.833455671248, 870.838903446724, 869.892089282725, 869.797439438694, 868.110158829867, 866.498761983792, 865.860639532332, 865.823401797449, 864.0601, 864.024365194688, 863.873540936321, 861.970731249902, 861.913777094045, 861.746389662869, 860.892514345265, 860.8465429192, 860.368873246155, 859.889307160581, 859.844597053791, 859.804200231992, 857.979519427706, 857.84718540017, 857.846686817398, 857.806540659599, 856.496576761053, 855.865872553639, 855.86472384759, 855.729897966106, 854.827251977691, 854.4998, 854.4069, 854.255576803132, 853.868583000302, 853.828877587068, 852.519802225533, 851.967758112643, 851.926195388379, 851.875565008665, 851.829337162623, 851.829010990528, 850.853260980613, 850.852953759974, 849.848459685899, 849.848432752862, 847.851312383683, 846.924332164832, 846.4910972132, 846.1456, 845.921925749484, 845.919127321703, 845.860966051401, 845.860858978515, 845.815304515207, 845.814737940633, 844.494393319373, 844.292558840896, 843.914951841972, 843.830661676904, 841.983974639327, 841.835794700209, 839.800766319023, 837.897887161703, 837.874332418879, 836.1052, 835.9548, 835.903812953773, 835.223707379215, 833.885515723458, 833.785112184724, 831.961281470272, 831.880311402947, 831.838158437052, 830.811175128341, 829.966370931135, 829.885197669095, 829.885188708161, 828.17896816179, 826.878173417085, 826.735990787552, 826.40535515334, 825.975296130506, 825.865490241101, 824.33676675721, 823.943354386312, 823.868758461905, 823.868628355393, 822.92841784369, 821.977857365528, 821.930736530626, 821.902103868385, 821.83477751534, 821.792981731659, 821.725454136183, 820.535179075028, 818.431173102802, 817.97321061456, 817.855167652891, 817.720141849016, 815.90783607418, 815.906543060938, 813.972776415641, 812.936810123462, 812.878150139844, 811.974234873567, 811.838380963095, 810.753315974084, 809.889735735953, 809.863103453466, 809.862851334672, 809.8417, 808.864946118773, 808.863821322472, 807.962668841757, 807.865164417604, 807.865007712662, 807.42775957523, 806.519418434831, 805.938392121788, 805.93835893278, 805.866557329688, 805.0214, 803.987550479785, 803.850426513037, 803.850099181671, 803.825789682958, 803.825406475895, 803.787718818957, 801.972435850454, 801.928839416211, 801.928771188683, 801.848198841177, 801.848149173868, 799.920510158125, 799.889147270619, 799.782564680073, 797.90659285383, 797.875738819545, 797.814338956522, 797.812865991306, 797.771416439892, 796.868221669723, 795.962400417517, 795.909618328785, 795.871393302092, 795.77461334951, 793.983321375093, 793.917555730675, 793.870448189954, 792.893165121888, 792.499393222132, 792.462206944878, 791.966426295439, 791.889699019313, 791.889665345267, 791.795989715347, 790.968739542539, 790.865470096007, 790.512245827721, 789.971159430859, 789.892469627701, 789.846330708441, 788.875884716794, 787.948909456885, 787.900819072192, 787.854398480122, 787.853236335769, 787.328132441744, 786.751205269809, 786.180843810096, 783.980820780903, 783.962834003572, 783.944026096872, 783.875843431709, 783.87575486505, 783.803240575214, 781.965574534399, 781.841877210035, 781.841765057156, 781.536, 779.96948587445, 779.938934331073, 779.806204767728, 779.058569859752, 778.483183835568, 777.99326467307, 777.943401567703, 777.903172669897, 777.727626835934, 777.52519025979, 775.912041094502, 775.825227974738, 773.977079716679, 773.917480559954, 773.829105085356, 773.828225917143, 773.407625420569, 771.960490317532, 771.92636940282, 771.926364128027, 771.846331462125, 771.8462, 770.808, 770.513774838843, 769.964616120194, 769.849938729071, 769.849223999337, 768.399837377496, 767.967821533803, 767.90457571832, 767.90372856583, 767.5205, 767.4833, 766.862674614389, 766.37945955037, 764.383097395383, 763.927981692269, 763.905571538083, 763.832428059996, 762.4394, 761.841964411425, 761.84119017779, 761.362307657855, 760.861454401374, 759.981115551726, 759.896399573871, 759.860444070866, 757.944561200221, 757.91248655996, 756.447263531434, 755.948882414816, 755.94855390195, 755.88981373353, 755.867190784318, 755.782269523772, 755.743038495076, 754.928346772376, 754.928151389254, 753.970119651191, 753.925056287566, 753.924744516984, 753.92466991648, 753.902173930525, 753.879940595426, 753.833792348847, 752.4341, 751.954211796445, 751.903427047205, 751.883478461542, 751.8412298618, 750.971576248976, 750.904926554744, 750.904894984064, 750.904772415643, 750.101931526811, 749.931702905339, 749.906793173911, 749.853804897183, 749.766542218811, 749.469457362625, 748.855960159472, 747.962667447286, 747.913447249247, 747.908310107928, 747.859959206775, 747.857783815969, 745.962950747217, 745.866119804137, 744.064905113731, 743.986005865985, 743.789274644101, 743.555973457207, 742.9659, 741.972580661036, 741.841724335806, 740.544915026446, 740.368597963742, 739.956229626034, 739.850234050888, 739.850124366521, 739.463835181316, 738.954177746164, 737.976789221962, 737.950815458826, 737.909114762273, 737.816476142647, 737.011692235559, 736.847303834354, 736.000000664363, 735.956334603765, 735.955932972338, 735.927221514785, 733.9641, 733.940753264413, 733.917703707379, 733.83671687287, 732.937773437899, 732.002574281152, 731.933882919937, 731.844262569384, 730.994877561167, 730.994777822877, 730.543588830835, 730.179618598234, 729.970255733547, 729.891626822297, 729.722674112343, 729.539977232646, 728.1371, 727.820658672331, 726.528775650766, 725.822783101345, 725.822667533589, 725.581742487379, 725.411741554583, 724.916598566578, 723.979194656475, 722.408275014756, 722.0831, 721.984242761689, 721.920264737267, 721.920089507147, 721.845119351429, 721.844787358264, 721.844653264764, 720.77200858313, 719.988690628564, 719.902209706523, 719.807035010832, 719.8068400411, 719.769207335723, 717.972994787226, 717.954084611387, 717.953919471537, 717.924531079986, 716.761117146309, 716.508370687887, 715.956524778854, 715.870483410108, 715.870377244162, 715.828455574083, 715.827678823239, 715.827331160657, 714.891222849902, 713.887773905689, 713.857664046287, 713.753027486112, 711.890993594214, 711.849792239279, 711.847983898973, 711.755892991898, 710.1406, 709.960340047715, 709.898722164421, 709.881083945214, 709.853684497248, 708.36785599561, 708.347371519895, 707.77682090758, 706.9728, 706.972574579612, 706.158718430071, 705.969358522299, 704.85719937509, 704.080746123829, 703.97317602482, 703.531645103957, 702.529070091395, 700.850731489125, 700.830611907234, 700.101201226849, 699.952592257929, 699.857284858208, 698.497949898763, 697.9668, 697.910848139249, 697.861664357778, 697.861168152247, 697.823446017349, 695.833301134986, 693.924710364334, 693.884872511164, 692.406959346304, 692.160070436792, 692.142862938287, 691.807369731974, 691.359478088423, 690.421096645712, 690.402271359189, 689.900834331403, 689.810148460536, 687.907730357973, 685.831071965522, 685.830914795044, 685.8307, 684.901383320818, 683.967209185815, 683.884443881849, 683.881753873471, 681.971797354977, 681.0832, 680.854808174134, 680.415564966685, 680.378776245055, 680.160632977297, 679.90919824216, 679.887093220205, 679.815350176607, 678.144591911882, 678.127261502473, 677.996551529968, 677.960350528813, 677.926060225661, 677.925978975681, 677.8175, 676.340449971253, 675.877804291985, 675.877572039322, 675.840458517221, 674.36618914069, 674.329668513189, 673.98328917257, 673.914362173439, 672.869212025965, 672.321266818265, 671.968514779801, 671.93701568102, 671.871226938668, 671.871045671206, 671.763604942692, 670.4662, 670.40862903332, 669.906146257958, 669.905881856978, 669.8611540006, 669.861024724199, 669.860912986242, 669.358077503153, 668.314961770005, 667.97354890531, 667.879825254254, 667.864681937621, 667.864598798393, 666.363169130801, 666.337567437222, 666.144763591091, 666.1006, 665.882134796093, 664.3403, 664.273469392671, 664.1291, 663.9815, 663.960782088884, 663.885348648267, 662.780222500839, 661.943430555253, 661.849837801488, 661.84690155984, 660.981798341052, 660.868904464204, 660.412984402339, 660.161563532771, 659.865211333279, 659.865153725658, 659.3377246664, 658.841590944621, 658.286451226271, 657.868105806961, 657.823109019791, 657.433325781196, 656.4506, 656.430025262257, 656.3158, 655.949813774732, 655.949778256667, 655.9497, 655.313019199583, 654.309509200681, 653.976957887227, 653.932141771594, 653.7976, 653.051743789936, 652.993306750555, 652.34768497878, 652.128954295442, 651.981524952842, 651.937705296432, 651.036076608096, 650.341473179006, 649.96670679726, 648.178406953978, 648.134249005321, 647.988, 647.969796482479, 647.915165660597, 646.334683006223, 646.122035427554, 645.970006852639, 645.919096711087, 645.876109740703, 645.873142853289, 645.0265, 643.954506804119, 643.8015793273, 643.2948, 642.098842008809, 641.899082519427, 641.898743737253, 639.902442714035, 639.902204570156, 639.035596701897, 638.971137233147, 638.84523017155, 637.90096365996, 637.826739748671, 635.98637159193, 635.968093908785, 635.83512671915, 635.833817666303, 633.97086463972, 633.948653211284, 632.945449022981, 632.945401239421, 631.974978342288, 631.944101314816, 631.851661177715, 631.305195352052, 629.959536834893, 628.492547003311, 627.871960790837, 626.929297796699, 626.929033232412, 626.37862269405, 626.300159394297, 625.982184927764, 625.967976890998, 625.835151493478, 625.020359182314, 624.460951912394, 623.988762854361, 621.85577538687, 620.877662838313, 619.972472098386, 619.878860974946, 619.878694757679, 619.859235176733, 619.859221320563, 619.858755081554, 618.87995853257, 618.879951910277, 618.077319831159, 617.976786824862, 617.931674788844, 617.882067022202, 617.8299, 616.96097444843, 616.3865, 615.955240345171, 614.22752939948, 613.964288686982, 612.057051612588, 612.0407, 610.481779774643, 610.372484527048, 609.938331618441, 609.905922768625, 609.864687712416, 608.927129836519, 607.92346728108, 605.9761, 605.926442764621, 605.884261894688, 605.792024597735, 605.791513379826, 605.469722752886, 603.934330653829, 603.916883171129, 602.909764769382, 602.909729972047, 602.3416, 601.906487132626, 601.906456065853, 601.906418784511, 601.812169101993, 599.969165062785, 599.909574004218, 599.8639, 599.296035137498, 598.976330062567, 597.987951046262, 597.972835437527, 596.502659527088, 596.222878305418, 595.992059272584, 595.972472877937, 594.486856555581, 593.9600578951, 593.959778905388, 593.799546695058, 593.79942561561, 593.798323302687, 592.862345443785, 591.974760304951, 590.959306782368, 590.419232323371, 590.38246872773, 590.208774838179, 590.0586, 588.976035547746, 587.960314349141, 587.960181350832, 587.91980849368, 586.406521172034, 586.372870657668, 585.945622598018, 583.97475227965, 583.931498296928, 583.931375016413, 583.846012075367, 581.943354468206, 581.863732965884, 581.863411904955, 580.2279, 579.866370248253, 579.825040993155, 577.983600766256, 577.963005727713, 576.4036, 575.984685309369, 574.926201057563, 574.925985315661, 573.944794094561, 573.849727919363, 573.849474332723, 572.390857731261, 572.358885924126, 571.929324077249, 570.916629506769, 570.916313558989, 569.991899871999, 569.913277288109, 569.913219732914, 569.315377678876, 567.979336026796, 567.96147934291, 566.352476312889, 565.982949879382, 565.7988, 563.941616351778, 562.388067244087, 561.900174758782, 560.8222, 560.118120285508, 560.010850702494, 559.3474, 558.948772757897, 558.948232731208, 558.375676763391, 558.343289699945, 558.245876310115, 557.9454, 557.945384471624, 557.8743, 557.223531790998, 556.92609183777, 556.81571138692, 556.167812222752, 555.978373603186, 554.237675244327, 553.982641799411, 553.882044885649, 553.806728133869, 551.98476651613, 551.9705, 551.96800650465, 551.8574, 550.315017948605, 549.827821745253, 548.97086628141, 548.970859382401, 547.967602643163, 547.967495992838, 547.967406620462, 547.940266963369, 545.99490880804, 545.971974009577, 545.943846575921, 545.943723645922, 543.946421109784, 543.946364871859, 542.953869380996, 542.382737689559, 542.282169274139, 542.260165580923, 542.206256923462, 542.019201496002, 541.950675794255, 540.1965, 539.908917519618, 539.9086, 538.3212, 538.309981338283, 535.972044308378, 535.8549, 535.840321112954, 535.2757397664, 534.985746594912, 534.245534689927, 534.120068763351, 533.977823776895, 533.26407472127, 533.103351372306, 532.251155887158, 531.936242726281, 530.190955209445, 530.000026849651, 528.974524709438, 527.970292040032, 527.970165986322, 526.206536118048, 526.1749, 525.988182372481, 525.973148702559, 525.886905066495, 523.904538003123, 523.9044, 521.907576239135, 520.223413641627, 520.157162109346, 520.104309098814, 519.977311373783, 519.915499729813, 518.397973276366, 517.982753862388, 516.89438549535, 516.175285423014, 515.965910507957, 514.897221756651, 514.387435169546, 514.3177, 513.970466532035, 513.894407892652, 513.894380625043, 513.8943, 512.19079389214, 512.160640541977, 511.1211, 510.28989877264, 510.278706458397, 509.968930731611, 509.968891253076, 508.843622306361, 505.981684730182, 504.944816294684, 504.944733892475, 503.941372205649, 502.159354790563, 501.987892415136, 500.371884308056, 500.316071915181, 500.302732621384, 500.15926816687, 499.91569779526, 499.915226064383, 498.3352, 498.275624968127, 498.2092, 498.175257560757, 498.14346924647, 497.975347785989, 496.8505, 496.280054079131, 495.847481383961, 495.847356566245, 494.962843802589, 494.380424788993, 494.361872657352, 493.95934307418, 492.328145790574, 490.284965062212, 490.254843979511, 488.15922619666, 488.143862626299, 487.942720094961, 487.942625320194, 487.854208307977, 487.293612334735, 486.897715375301, 485.9756, 484.193621339681, 484.1669, 484.159222243332, 484.127554515824, 483.983311778048, 483.98321649484, 483.343509074606, 482.340171826164, 482.267419864727, 481.953298019832, 480.364111771723, 480.2315, 478.366073903599, 477.969, 476.9016, 476.350166695712, 476.116775186359, 475.898679601063, 475.293301284911, 474.290248499842, 473.901591026769, 473.901525561353, 472.980728025413, 472.3407, 472.275, 472.127893833941, 471.977199991263, 471.977133914031, 470.292, 470.1777, 468.210339501168, 467.985968161417, 467.88468225787, 467.884621636314, 466.971828948989, 466.967400944602, 466.967291297918, 466.312297790134, 465.965165150016, 464.952007035144, 463.069568683799, 462.384287434885, 462.371686635266, 462.1846, 460.302216696246, 460.127797167295, 459.8343, 459.328005743406, 458.935741371861, 458.111858931075, 457.932262014842, 456.938994202158, 456.2763, 456.1386, 455.93557237396, 455.93552524905, 453.9853, 452.272903932845, 451.970942752471, 451.915527977542], \"xaxis\": \"x\", \"y\": [3.72425490177472, 3.59988218502998, 3.59988218502998, 3.63731507616043, 3.63731507616043, 3.59988218502998, 3.63731507616043, 3.63731507616043, 3.68017042633692, 3.59988218502998, 3.68017042633692, 3.55946915901502, 3.63731507616043, 3.59988218502998, 3.68017042633692, 3.55946915901502, 3.72425490177472, 3.63731507616043, 3.55946915901502, 3.63731507616043, 3.55946915901502, 3.55946915901502, 3.68017042633692, 3.68017042633692, 3.59988218502998, 3.63731507616043, 3.68017042633692, 3.51977489150365, 3.72425490177472, 3.63731507616043, 3.72425490177472, 3.63731507616043, 3.76182024237315, 3.59988218502998, 3.63731507616043, 3.55946915901502, 3.63731507616043, 3.55946915901502, 3.59988218502998, 3.68017042633692, 3.72425490177472, 3.51977489150365, 3.59988218502998, 3.68017042633692, 3.72425490177472, 3.55946915901502, 3.59988218502998, 3.72425490177472, 3.55946915901502, 3.63731507616043, 3.72425490177472, 3.55946915901502, 3.63731507616043, 3.63731507616043, 3.63731507616043, 3.72425490177472, 3.63731507616043, 3.72425490177472, 3.63731507616043, 3.51977489150365, 3.63731507616043, 3.76182024237315, 3.63731507616043, 3.72425490177472, 3.76182024237315, 3.63731507616043, 3.72425490177472, 3.76182024237315, 3.59988218502998, 3.59988218502998, 3.59988218502998, 3.63731507616043, 3.76182024237315, 3.51977489150365, 3.59988218502998, 3.68017042633692, 3.63731507616043, 3.63731507616043, 3.72425490177472, 3.59988218502998, 3.63731507616043, 3.68017042633692, 3.59988218502998, 3.68017042633692, 3.59988218502998, 3.63731507616043, 3.55946915901502, 3.63731507616043, 3.63731507616043, 3.59988218502998, 3.04217455940247, 3.15411232666969, 3.95417139089902, 3.68017042633692, 3.59988218502998, 8.56516906576157, 7.51610432422956, 2.4347621257782, 7.51610432422956, 8.28239151593844, 7.51610432422956, 7.56152574973106, 7.60272049066226, 8.03970136798223, 3.39349882559776, 8.00074875709216, 8.52107802586555, 7.48576971845627, 8.00074875709216, 8.52107802586555, 7.56152574973106, 5.72226914124489, 8.88611269152959, 8.4401774163723, 8.79871816592216, 0.560154274670283, 1.03485331492424, 8.56516906576157, 7.7964500740846, 8.56516906576157, 7.60272049066226, 7.56152574973106, 7.84613853252729, 7.48576971845627, 7.39420979973475, 7.51610432422956, 7.51610432422956, 7.23795746720632, 7.72378541784286, 5.75381235834757, 7.19644406593641, 8.4401774163723, 0.473366983302434, 7.19644406593641, 8.03970136798223, 7.23795746720632, 8.79871816592216, 7.60272049066226, 7.84613853252729, 7.84613853252729, 7.23795746720632, 3.63731507616043, 1.44006280856132, 0.560154274670283, 8.84238121665319, 3.68017042633692, 7.23795746720632, 0.52081415014267, 8.32046623385747, 9.00264136549632, 8.59441624240875, 1.56523151752154, 8.91518978234927, 8.88611269152959, 8.68186213331223, 7.51610432422956, 8.19841570016543, 8.4401774163723, 4.84539030151367, 7.7964500740846, 8.59441624240875, 7.51610432422956, 1.36182525909742, 9.00264136549632, 7.64117420074145, 7.44131136692365, 8.75494237499237, 7.64117420074145, 7.23795746720632, 0.560154274670283, 1.00368956681887, 7.35757483201027, 7.56152574973106, 0.840468916861216, 7.72378541784286, 8.63821542418798, 8.4401774163723, 7.51610432422956, 8.40296818372408, 0.473366983302434, 1.00368956681887, 8.28239151593844, 3.59988218502998, 1.19821920749346, 8.4769453918616, 1.19821920749346, 7.84613853252729, 8.4401774163723, 7.27891080932617, 0.560154274670283, 8.94434559103648, 0.638192816146215, 8.88611269152959, 8.63821542418798, 7.60272049066226, 8.91518978234927, 7.87868284341494, 8.94434559103648, 1.00368956681887, 3.88164065834681, 8.40296818372408, 5.03571270065308, 2.32321949160894, 8.08457660830815, 0.317395366795858, 8.59441624240875, 6.96027354952494, 1.08148019072215, 7.64117420074145, 9.00264136549632, 2.72209429896673, 8.72575774149895, 9.00264136549632, 7.51610432422956, 7.51610432422956, 1.72217740770976, 8.88611269152959, 8.08457660830815, 9.00264136549632, 8.28239151593844, 8.4769453918616, 3.92471298333804, 8.52107802586555, 8.88611269152959, 7.51610432422956, 5.48303941842715, 1.23723386681875, 8.244354199934, 1.31497058428129, 7.48576971845627, 8.79871816592216, 1.12053355929057, 9.00264136549632, 8.88611269152959, 7.87868284341494, 8.12234850085576, 1.03485331492424, 8.88611269152959, 3.92471298333804, 8.28239151593844, 8.244354199934, 7.60272049066226, 9.00264136549632, 3.88164065834681, 8.56516906576157, 1.23723386681875, 8.88611269152959, 8.84238121665319, 1.31497058428129, 9.00264136549632, 0.0855051254908244, 7.56152574973106, 8.4401774163723, 1.44006280856132, 8.88611269152959, 7.9236377254804, 0.473366983302434, 4.15810186621348, 8.32046623385747, 3.92471298333804, 8.91518978234927, 8.63821542418798, 3.51977489150365, 8.52107802586555, 2.1168881014665, 8.94434559103648, 7.27891080932617, 2.1168881014665, 0.879531432755788, 9.00264136549632, 4.0813492413044, 4.35982551531792, 1.08148019072215, 9.00264136549632, 7.48576971845627, 1.12053355929057, 9.00264136549632, 1.40098149336179, 7.72378541784286, 6.91801805850665, 5.87996685859362, 0.317395366795858, 0.357342550722758, 0.52081415014267, 8.63821542418798, 1.31497058428129, 1.64361930843989, 8.79871816592216, 1.51826018449465, 8.84238121665319, 1.72217740770976, 9.00264136549632, 7.84613853252729, 7.87868284341494, 0.357342550722758, 3.83932929989497, 8.4401774163723, 2.32321949160894, 5.48303941842715, 0.317395366795858, 2.96206828312874, 1.44006280856132, 8.68186213331223, 8.19841570016543, 9.00264136549632, 8.08457660830815, 8.19841570016543, 7.51610432422956, 8.12234850085576, 8.52107802586555, 1.03485331492424, 8.68186213331223, 8.75494237499237, 1.23723386681875, 1.12053355929057, 9.00264136549632, 8.59441624240875, 2.91408731695811, 7.9236377254804, 0.357342550722758, 8.79871816592216, 8.56516906576157, 4.23527219053904, 9.00264136549632, 7.51610432422956, 1.00368956681887, 9.00264136549632, 3.99883204059601, 0.317395366795858, 8.79871816592216, 9.00264136549632, 2.24383325931231, 7.48576971845627, 7.48576971845627, 1.00368956681887, 8.79871816592216, 8.4401774163723, 3.88164065834681, 7.48576971845627, 6.23626164155006, 7.87868284341494, 0.317395366795858, 0.317395366795858, 8.75494237499237, 1.23723386681875, 8.56516906576157, 0.879531432755788, 6.16144223368963, 1.51826018449465, 8.75494237499237, 1.64361930843989, 8.59441624240875, 9.00264136549632, 0.918348615932465, 7.48576971845627, 1.28400155064265, 9.00264136549632, 8.91518978234927, 3.44128475941022, 8.08457660830815, 0.357342550722758, 3.79778935866356, 0.52081415014267, 1.08148019072215, 8.03970136798223, 0.317395366795858, 0.317395366795858, 7.60272049066226, 4.28197791732152, 8.59441624240875, 1.88000215845108, 8.72575774149895, 1.59660530047417, 8.68186213331223, 1.08148019072215, 9.00264136549632, 2.99395841714541, 0.560154274670283, 8.08457660830815, 1.28400155064265, 3.92471298333804, 7.48576971845627, 7.9236377254804, 1.08148019072215, 1.15935209151904, 9.00264136549632, 8.52107802586555, 0.317395366795858, 3.59988218502998, 6.40331874049505, 1.12053355929057, 8.63821542418798, 8.63821542418798, 8.88611269152959, 8.88611269152959, 4.0813492413044, 9.00264136549632, 8.08457660830815, 4.76651709235509, 8.12234850085576, 1.40098149336179, 8.72575774149895, 8.56516906576157, 8.40296818372408, 3.83932929989497, 8.4401774163723, 7.35757483201027, 5.43493518389066, 8.4769453918616, 0.52081415014267, 7.51610432422956, 8.56516906576157, 7.87868284341494, 0.443312358427048, 8.94434559103648, 8.56516906576157, 8.244354199934, 1.08148019072215, 8.91518978234927, 0.879531432755788, 8.91518978234927, 0.918348615932465, 7.48576971845627, 0.59918166753451, 9.00264136549632, 1.80094230728149, 8.88611269152959, 8.4769453918616, 1.31497058428129, 8.88611269152959, 7.48576971845627, 8.4401774163723, 0.357342550722758, 0.357342550722758, 8.52107802586555, 8.9880903239727, 8.08457660830815, 9.00264136549632, 3.92471298333804, 8.59441624240875, 7.51610432422956, 0.957193384138743, 8.79871816592216, 0.0855051254908244, 3.79778935866356, 4.11954172409375, 8.88611269152959, 3.83932929989497, 7.48576971845627, 7.44131136692365, 1.03485331492424, 8.88611269152959, 0.317395366795858, 7.48576971845627, 9.00264136549632, 8.84238121665319, 0.957193384138743, 1.36182525909742, 9.00264136549632, 8.52107802586555, 4.2044275657018, 4.15810186621348, 5.87996685859362, 8.16027714964549, 2.56241560734113, 0.357342550722758, 0.317395366795858, 4.68015694177945, 8.08457660830815, 8.75494237499237, 0.755075674819946, 8.9880903239727, 2.8819904501915, 8.68186213331223, 7.51610432422956, 3.83932929989497, 8.91518978234927, 7.35757483201027, 9.00264136549632, 3.83932929989497, 7.48576971845627, 8.68186213331223, 8.68186213331223, 1.36182525909742, 9.00264136549632, 8.94434559103648, 0.957193384138743, 0.957193384138743, 9.00264136549632, 0.200305767424901, 7.56152574973106, 0.59918166753451, 8.4401774163723, 8.00074875709216, 0.59918166753451, 0.317395366795858, 7.51610432422956, 0.317395366795858, 0.59918166753451, 8.08457660830815, 1.75363162514369, 8.68186213331223, 7.15665767547289, 3.95417139089902, 8.52107802586555, 0.394839141337077, 8.88611269152959, 3.83932929989497, 9.00264136549632, 8.4769453918616, 0.52081415014267, 3.76182024237315, 5.91933502511978, 0.317395366795858, 0.317395366795858, 7.48576971845627, 8.52107802586555, 9.00264136549632, 8.4769453918616, 9.00264136549632, 1.51826018449465, 8.84238121665319, 1.59660530047417, 1.03485331492424, 1.44006280856132, 8.56516906576157, 7.48576971845627, 0.357342550722758, 8.03970136798223, 3.83932929989497, 8.59441624240875, 7.35757483201027, 8.32046623385747, 3.99883204059601, 8.32046623385747, 8.88611269152959, 0.560154274670283, 1.75363162514369, 7.60272049066226, 8.63821542418798, 0.394839141337077, 0.317395366795858, 7.48576971845627, 8.56516906576157, 0.317395366795858, 8.56516906576157, 0.317395366795858, 8.68186213331223, 9.00264136549632, 1.28400155064265, 7.9236377254804, 7.48576971845627, 0.317395366795858, 6.16144223368963, 8.84238121665319, 8.28239151593844, 3.79778935866356, 7.56152574973106, 0.357342550722758, 0.357342550722758, 8.08457660830815, 5.27495212512016, 7.9236377254804, 7.48576971845627, 6.68141983505885, 9.00264136549632, 3.83932929989497, 8.79871816592216, 0.473366983302434, 9.00264136549632, 0.52081415014267, 9.00264136549632, 6.59691486713091, 8.63821542418798, 9.00264136549632, 7.56152574973106, 9.00264136549632, 0.918348615932465, 8.4769453918616, 7.23795746720632, 7.51610432422956, 7.60272049066226, 8.59441624240875, 1.19821920749346, 8.75494237499237, 2.19613196806908, 8.52107802586555, 7.60272049066226, 8.79871816592216, 7.87868284341494, 0.357342550722758, 7.48576971845627, 1.03485331492424, 0.317395366795858, 0.357342550722758, 3.88164065834681, 8.59441624240875, 8.4769453918616, 8.75494237499237, 7.51610432422956, 8.12234850085576, 5.67460785067876, 8.12234850085576, 4.48473324931463, 4.2044275657018, 7.35757483201027, 7.60272049066226, 0.840468916861216, 8.59441624240875, 1.47902397669156, 8.79871816592216, 8.32046623385747, 1.03485331492424, 8.56516906576157, 1.44006280856132, 5.84064977523486, 9.00264136549632, 3.88164065834681, 0.317395366795858, 5.03571270065308, 7.9236377254804, 8.68186213331223, 1.00368956681887, 8.63821542418798, 8.91518978234927, 1.08148019072215, 8.28239151593844, 0.357342550722758, 8.03970136798223, 3.95417139089902, 0.317395366795858, 6.3194811419328, 0.317395366795858, 0.317395366795858, 0.357342550722758, 8.28239151593844, 7.56152574973106, 8.68186213331223, 0.918348615932465, 8.68186213331223, 3.92471298333804, 0.357342550722758, 1.23723386681875, 9.00264136549632, 0.317395366795858, 3.79778935866356, 8.52107802586555, 9.00264136549632, 1.23723386681875, 0.357342550722758, 8.4401774163723, 7.56152574973106, 7.19644406593641, 7.51610432422956, 8.4401774163723, 8.4401774163723, 7.51610432422956, 9.00264136549632, 0.957193384138743, 8.91518978234927, 4.76651709235509, 1.19821920749346, 9.00264136549632, 0.879531432755788, 8.9662231997331, 7.51610432422956, 7.19644406593641, 0.317395366795858, 3.83932929989497, 7.48576971845627, 7.48576971845627, 8.12234850085576, 7.51610432422956, 0.801681359179815, 8.4769453918616, 7.23795746720632, 8.56516906576157, 8.56516906576157, 5.11536068277359, 7.87868284341494, 0.918348615932465, 9.00264136549632, 8.4401774163723, 0.357342550722758, 7.51610432422956, 8.52107802586555, 5.67460785067876, 7.51610432422956, 7.35757483201027, 1.23723386681875, 8.68186213331223, 2.8819904501915, 8.4401774163723, 7.39420979973475, 8.84238121665319, 1.44006280856132, 8.79871816592216, 1.08148019072215, 1.40098149336179, 8.84238121665319, 3.79778935866356, 7.44131136692365, 8.84238121665319, 1.31497058428129, 7.51610432422956, 8.91518978234927, 7.51610432422956, 8.12234850085576, 8.91518978234927, 7.48576971845627, 8.88611269152959, 0.879531432755788, 8.52107802586555, 8.63821542418798, 7.1216920331796, 7.39420979973475, 8.52107802586555, 3.88164065834681, 7.9236377254804, 7.44131136692365, 1.36182525909742, 8.4769453918616, 0.317395366795858, 7.51610432422956, 8.59441624240875, 9.00264136549632, 0.317395366795858, 8.08457660830815, 8.52107802586555, 1.59660530047417, 1.36182525909742, 8.72575774149895, 7.15665767547289, 7.51610432422956, 8.59441624240875, 9.00264136549632, 1.03485331492424, 3.04217455940247, 7.51610432422956, 0.957193384138743, 8.4769453918616, 8.4769453918616, 0.317395366795858, 5.40282422658602, 7.35757483201027, 7.56152574973106, 2.0378608262221, 9.00264136549632, 9.00264136549632, 1.23723386681875, 7.31988871849378, 0.0855051254908244, 8.244354199934, 3.04217455940247, 5.9589623506546, 0.317395366795858, 7.9236377254804, 7.44131136692365, 8.91518978234927, 1.31497058428129, 3.63731507616043, 0.357342550722758, 8.12234850085576, 7.87868284341494, 7.87868284341494, 8.08457660830815, 8.88611269152959, 9.00264136549632, 8.03970136798223, 3.59988218502998, 9.00264136549632, 4.23527219053904, 8.4769453918616, 8.79871816592216, 1.64361930843989, 7.51610432422956, 0.357342550722758, 8.35808396693865, 7.35757483201027, 7.51610432422956, 0.677155033318202, 8.75494237499237, 8.9880903239727, 1.59660530047417, 8.4401774163723, 2.75416257537206, 9.00264136549632, 6.23626164155006, 0.317395366795858, 3.92471298333804, 8.52107802586555, 1.15935209151904, 9.00264136549632, 0.317395366795858, 9.00264136549632, 7.51610432422956, 7.39420979973475, 7.35757483201027, 6.91801805850665, 8.79871816592216, 7.9236377254804, 7.48576971845627, 8.63821542418798, 3.79778935866356, 8.79871816592216, 1.51826018449465, 9.00264136549632, 6.75746594227155, 7.84613853252729, 8.52107802586555, 7.9236377254804, 7.87868284341494, 5.9589623506546, 7.44131136692365, 0.317395366795858, 0.317395366795858, 0.317395366795858, 3.72425490177472, 7.51610432422956, 8.59441624240875, 8.08457660830815, 1.59660530047417, 8.91518978234927, 7.9236377254804, 8.84238121665319, 8.32046623385747, 3.88164065834681, 9.00264136549632, 3.83932929989497, 0.59918166753451, 7.48576971845627, 6.63917059060732, 8.79871816592216, 1.84032981551488, 7.07818713343938, 7.19644406593641, 8.88611269152959, 1.44006280856132, 7.35757483201027, 8.9880903239727, 1.28400155064265, 1.44006280856132, 8.9880903239727, 8.59441624240875, 7.9236377254804, 8.52107802586555, 8.08457660830815, 8.03970136798223, 7.87868284341494, 8.52107802586555, 7.19644406593641, 8.84238121665319, 6.4788009996891, 7.39420979973475, 6.27765415069262, 7.39420979973475, 0.755075674819946, 8.91518978234927, 0.357342550722758, 6.03920098500252, 2.1168881014665, 9.00264136549632, 1.28400155064265, 8.52107802586555, 0.317395366795858, 0.317395366795858, 0.317395366795858, 0.317395366795858, 8.08457660830815, 8.4769453918616, 1.51826018449465, 6.91801805850665, 0.317395366795858, 8.91518978234927, 7.23795746720632, 1.23723386681875, 8.79871816592216, 8.19841570016543, 5.03571270065308, 1.44006280856132, 6.84197040157318, 7.48576971845627, 7.9236377254804, 3.88164065834681, 7.60272049066226, 0.317395366795858, 8.79871816592216, 7.44131136692365, 8.56516906576157, 7.84613853252729, 8.88611269152959, 3.79778935866356, 7.27891080932617, 8.40296818372408, 4.04379693226814, 8.56516906576157, 7.35757483201027, 8.03970136798223, 0.317395366795858, 8.00074875709216, 7.44131136692365, 5.9589623506546, 0.317395366795858, 7.84613853252729, 0.317395366795858, 7.44131136692365, 7.48576971845627, 7.48576971845627, 3.99883204059601, 4.0813492413044, 7.51610432422956, 7.19644406593641, 5.67460785067876, 8.52107802586555, 8.88611269152959, 1.08148019072215, 8.28239151593844, 3.95417139089902, 9.00264136549632, 0.957193384138743, 9.00264136549632, 3.55946915901502, 7.48576971845627, 7.48576971845627, 3.68017042633692, 0.317395366795858, 0.118462532329559, 8.79871816592216, 8.84238121665319, 1.03485331492424, 7.44131136692365, 7.48576971845627, 0.357342550722758, 8.63821542418798, 7.35757483201027, 2.0378608262221, 7.9236377254804, 3.79778935866356, 8.84238121665319, 6.59691486713091, 7.03631985740662, 5.91933502511978, 6.8842190817674, 7.64117420074145, 7.84613853252729, 7.19644406593641, 9.00264136549632, 2.80200339115461, 0.317395366795858, 7.27891080932617, 1.44006280856132, 9.00264136549632, 7.48576971845627, 8.4401774163723, 7.9236377254804, 7.56152574973106, 7.07818713343938, 3.68017042633692, 7.48576971845627, 7.03631985740662, 8.84238121665319, 1.23723386681875, 0.357342550722758, 7.35757483201027, 8.08457660830815, 7.9236377254804, 7.9236377254804, 8.88611269152959, 7.87868284341494, 7.56152574973106, 7.35757483201027, 7.35757483201027, 0.317395366795858, 7.84613853252729, 0.957193384138743, 8.79871816592216, 7.35757483201027, 5.67460785067876, 0.394839141337077, 7.48576971845627, 0.317395366795858, 7.87868284341494, 8.63821542418798, 1.08148019072215, 8.63821542418798, 0.317395366795858, 9.00264136549632, 1.47902397669156, 7.23795746720632, 1.08148019072215, 8.79871816592216, 7.44131136692365, 7.60272049066226, 3.79778935866356, 8.08457660830815, 9.00264136549632, 7.39420979973475, 7.35757483201027, 8.4401774163723, 1.19821920749346, 8.244354199934, 1.91936313268344, 8.00074875709216, 7.15665767547289, 0.638192816146215, 8.00074875709216, 1.31497058428129, 8.84238121665319, 9.00264136549632, 7.96165839192073, 7.87868284341494, 0.317395366795858, 7.84613853252729, 1.67497688290278, 9.00264136549632, 7.87868284341494, 0.317395366795858, 6.8842190817674, 0.317395366795858, 5.9589623506546, 7.87868284341494, 7.39420979973475, 8.35808396693865, 9.00264136549632, 0.357342550722758, 7.56152574973106, 7.35757483201027, 7.51610432422956, 9.00264136549632, 1.23723386681875, 8.00074875709216, 7.19644406593641, 8.00074875709216, 7.60272049066226, 7.51610432422956, 9.00264136549632, 8.91518978234927, 7.96165839192073, 4.95630614118576, 8.68186213331223, 8.68186213331223, 4.92451526678403, 7.56152574973106, 7.9236377254804, 7.44131136692365, 7.51610432422956, 6.8842190817674, 8.56516906576157, 1.28400155064265, 9.00264136549632, 8.84238121665319, 7.35757483201027, 7.9236377254804, 3.88164065834681, 7.39420979973475, 7.15665767547289, 3.83932929989497, 8.32046623385747, 6.56312004880905, 7.39420979973475, 7.07818713343938, 0.357342550722758, 7.87868284341494, 7.87868284341494, 7.48576971845627, 8.56516906576157, 3.95417139089902, 7.48576971845627, 8.56516906576157, 7.9236377254804, 3.95417139089902, 7.44131136692365, 7.51610432422956, 1.23723386681875, 9.00264136549632, 5.27495212512016, 0.317395366795858, 0.317395366795858, 7.51610432422956, 7.51610432422956, 3.99883204059601, 0.317395366795858, 7.51610432422956, 7.51610432422956, 0.918348615932465, 8.75494237499237, 7.44131136692365, 7.51610432422956, 7.84613853252729, 7.51610432422956, 7.51610432422956, 4.28197791732152, 8.00074875709216, 3.79778935866356, 7.48576971845627, 0.0855051254908244, 8.79871816592216, 7.48576971845627, 5.80124333457947, 7.39420979973475, 8.00074875709216, 6.36142105814616, 8.52107802586555, 8.63821542418798, 7.48576971845627, 8.56516906576157, 3.83932929989497, 7.84613853252729, 7.7964500740846, 7.87868284341494, 7.84613853252729, 3.2820034757932, 0.473366983302434, 7.56152574973106, 6.07945797599157, 8.244354199934, 1.23723386681875, 1.15935209151904, 0.394839141337077, 7.84613853252729, 7.44131136692365, 7.48576971845627, 8.59441624240875, 8.08457660830815, 7.7964500740846, 7.19644406593641, 8.88611269152959, 1.03485331492424, 4.56282771782875, 7.23795746720632, 8.59441624240875, 9.00264136549632, 0.317395366795858, 7.9236377254804, 7.48576971845627, 7.87868284341494, 7.23795746720632, 7.23795746720632, 0.957193384138743, 4.68015694177945, 0.357342550722758, 6.79972195781072, 4.92451526678403, 0.317395366795858, 6.36142105814616, 0.317395366795858, 7.60272049066226, 3.63731507616043, 7.23795746720632, 0.357342550722758, 7.60272049066226, 7.51610432422956, 0.317395366795858, 0.957193384138743, 9.00264136549632, 7.44131136692365, 7.39420979973475, 6.79972195781072, 0.357342550722758, 4.04379693226814, 8.03970136798223, 3.79778935866356, 8.08457660830815, 7.39420979973475, 3.88164065834681, 0.918348615932465, 1.28400155064265, 7.51610432422956, 3.59988218502998, 7.87868284341494, 7.9236377254804, 7.23795746720632, 6.36142105814616, 9.00264136549632, 8.00074875709216, 0.0855051254908244, 8.84238121665319, 7.60272049066226, 7.44131136692365, 6.84197040157318, 0.357342550722758, 7.87868284341494, 7.51610432422956, 7.51610432422956, 8.08457660830815, 7.56152574973106, 5.19501903411547, 0.317395366795858, 7.56152574973106, 7.48576971845627, 3.83932929989497, 7.19644406593641, 7.44131136692365, 0.317395366795858, 7.23795746720632, 2.91408731695811, 8.03970136798223, 2.96206828312874, 8.12234850085576, 5.19501903411547, 7.87868284341494, 6.91801805850665, 0.200305767424901, 8.72575774149895, 0.317395366795858, 8.00074875709216, 6.84197040157318, 8.56516906576157, 3.83932929989497, 1.03485331492424, 7.9236377254804, 7.51610432422956, 8.56516906576157, 0.357342550722758, 7.9236377254804, 8.244354199934, 5.11536068277359, 0.317395366795858, 0.317395366795858, 3.83932929989497, 7.9236377254804, 7.9236377254804, 0.317395366795858, 5.03571270065308, 0.394839141337077, 7.9236377254804, 6.40331874049505, 7.35757483201027, 8.08457660830815, 6.23626164155006, 8.244354199934, 7.51610432422956, 7.35757483201027, 7.87868284341494, 8.4769453918616, 6.91801805850665, 7.39420979973475, 3.79778935866356, 7.9236377254804, 6.59691486713091, 7.19644406593641, 7.48576971845627, 7.44131136692365, 7.87868284341494, 7.96165839192073, 0.317395366795858, 8.9880903239727, 8.91518978234927, 7.48576971845627, 7.03631985740662, 7.60272049066226, 8.75494237499237, 3.12209851698875, 7.96165839192073, 7.87868284341494, 8.00074875709216, 5.59496233420372, 7.60272049066226, 7.51610432422956, 7.27891080932617, 7.84613853252729, 7.51610432422956, 7.44131136692365, 7.56152574973106, 0.357342550722758, 7.9236377254804, 8.84238121665319, 7.9236377254804, 5.40282422658602, 0.317395366795858, 8.00074875709216, 7.19644406593641, 4.2044275657018, 0.357342550722758, 6.96027354952494, 7.44131136692365, 7.9236377254804, 7.44131136692365, 7.51610432422956, 7.51610432422956, 4.48473324931463, 8.00074875709216, 7.87868284341494, 7.48576971845627, 6.8842190817674, 7.35757483201027, 7.1216920331796, 0.52081415014267, 2.16433243311246, 0.317395366795858, 7.51610432422956, 7.9236377254804, 0.317395366795858, 3.79778935866356, 7.35757483201027, 7.48576971845627, 7.35757483201027, 5.40282422658602, 4.92451526678403, 7.19644406593641, 6.96027354952494, 8.00074875709216, 7.87868284341494, 5.91933502511978, 7.9236377254804, 7.48576971845627, 7.48576971845627, 8.12234850085576, 3.88164065834681, 0.317395366795858, 7.84613853252729, 5.67460785067876, 7.51610432422956, 7.48576971845627, 7.51610432422956, 0.317395366795858, 0.357342550722758, 7.9236377254804, 7.48576971845627, 7.48576971845627, 7.56152574973106, 3.12209851698875, 0.317395366795858, 7.48576971845627, 7.48576971845627, 7.48576971845627, 6.91801805850665, 7.19644406593641, 0.317395366795858, 7.9236377254804, 7.84613853252729, 8.00074875709216, 0.317395366795858, 7.35757483201027, 2.91408731695811, 7.64117420074145, 7.15665767547289, 8.91518978234927, 1.00368956681887, 7.48576971845627, 7.84613853252729, 7.48576971845627, 8.9662231997331, 0.317395366795858, 7.64117420074145, 7.48576971845627, 7.60272049066226, 7.48576971845627, 4.60183141784668, 8.12234850085576, 0.52081415014267, 7.39420979973475, 7.48576971845627, 7.35757483201027, 8.03970136798223, 7.87868284341494, 7.35757483201027, 7.15665767547289, 7.48576971845627, 7.51610432422956, 6.68141983505885, 1.67497688290278, 7.23795746720632, 7.48576971845627, 7.51610432422956, 7.51610432422956, 7.51610432422956, 7.03631985740662, 6.72366748210589, 3.83932929989497, 7.19644406593641, 6.59691486713091, 6.96027354952494, 0.317395366795858, 7.84613853252729, 0.394839141337077, 0.317395366795858, 7.19644406593641, 7.84613853252729, 7.48576971845627, 7.9236377254804, 1.15935209151904, 8.84238121665319, 6.20305176731745, 8.91518978234927, 7.23795746720632, 7.03631985740662, 7.87868284341494, 7.9236377254804, 7.9236377254804, 7.35757483201027, 4.68015694177945, 8.08457660830815, 2.80200339115461, 7.39420979973475, 0.317395366795858, 3.83932929989497, 0.443312358427048, 6.75746594227155, 7.7964500740846, 7.9236377254804, 7.48576971845627, 6.8842190817674, 7.35757483201027, 0.317395366795858, 8.56516906576157, 2.72209429896673, 7.64117420074145, 7.56152574973106, 7.39420979973475, 6.52096772548358, 8.19841570016543, 7.03631985740662, 7.23795746720632, 6.75746594227155, 3.88164065834681, 4.48473324931463, 4.60183141784668, 9.00264136549632, 3.83932929989497, 3.83932929989497, 8.16027714964549, 0.317395366795858, 8.91518978234927, 1.03485331492424, 7.19644406593641, 7.48576971845627, 7.19644406593641, 6.3194811419328, 0.357342550722758, 6.79972195781072, 7.60272049066226, 8.08457660830815, 7.44131136692365, 7.35757483201027, 0.317395366795858, 0.317395366795858, 7.44131136692365, 7.51610432422956, 8.79871816592216, 7.9236377254804, 8.00074875709216, 7.72378541784286, 0.317395366795858, 6.79972195781072, 0.317395366795858, 7.76387727416356, 4.76651709235509, 7.9236377254804, 7.44131136692365, 8.16027714964549, 7.15665767547289, 3.83932929989497, 8.244354199934, 7.48576971845627, 4.32091833310127, 9.00264136549632, 1.28400155064265, 7.9236377254804, 7.48576971845627, 9.00264136549632, 0.357342550722758, 6.4788009996891, 5.91933502511978, 6.79972195781072, 7.23795746720632, 7.48576971845627, 7.48576971845627, 7.51610432422956, 6.59691486713091, 7.56152574973106, 8.56516906576157, 0.840468916861216, 2.8819904501915, 4.7979625995636, 0.357342550722758, 7.9236377254804, 6.59691486713091, 6.68141983505885, 7.48576971845627, 7.48576971845627, 7.48576971845627, 0.317395366795858, 7.35757483201027, 0.357342550722758, 5.43493518389066, 7.87868284341494, 7.56152574973106, 7.35757483201027, 7.96165839192073, 7.51610432422956, 8.56516906576157, 3.83932929989497, 7.9236377254804, 9.00264136549632, 8.35808396693865, 5.72226914124489, 7.48576971845627, 0.317395366795858, 5.9589623506546, 7.48576971845627, 7.19644406593641, 7.60272049066226, 7.19644406593641, 1.47902397669156, 8.03970136798223, 3.83932929989497, 1.64361930843989, 4.64085978226662, 7.51610432422956, 7.60272049066226, 7.96165839192073, 7.9236377254804, 3.79778935866356, 7.23795746720632, 8.12234850085576, 4.48473324931463, 7.51610432422956, 7.00252224164009, 8.52107802586555, 7.48576971845627, 6.91801805850665, 7.87868284341494, 8.19841570016543, 7.44131136692365, 7.96165839192073, 7.9236377254804, 7.19644406593641, 7.64117420074145, 7.56152574973106, 1.59660530047417, 9.00264136549632, 7.48576971845627, 7.44131136692365, 7.48576971845627, 8.35808396693865, 0.879531432755788, 0.357342550722758, 6.43678439216614, 3.83932929989497, 7.87868284341494, 7.35757483201027, 7.23795746720632, 7.23795746720632, 7.23795746720632, 7.9236377254804, 3.92471298333804, 7.56152574973106, 0.317395366795858, 7.27891080932617, 0.357342550722758, 7.48576971845627, 7.87868284341494, 7.39420979973475, 5.24289659218788, 6.96027354952494, 0.0855051254908244, 0.357342550722758, 0.879531432755788, 7.56152574973106, 3.83932929989497, 2.1168881014665, 9.00264136549632, 9.00264136549632, 0.840468916861216, 7.27891080932617, 7.51610432422956, 7.51610432422956, 7.48576971845627, 7.51610432422956, 5.9589623506546, 9.00264136549632, 7.44131136692365, 6.8842190817674, 0.357342550722758, 7.35757483201027, 7.64117420074145, 7.19644406593641, 0.317395366795858, 0.317395366795858, 7.39420979973475, 0.394839141337077, 7.48576971845627, 7.51610432422956, 7.44131136692365, 7.64117420074145, 0.317395366795858, 7.48576971845627, 7.9236377254804, 7.39420979973475, 7.48576971845627, 4.87699625846545, 8.56516906576157, 3.83932929989497, 6.8842190817674, 7.64117420074145, 7.35757483201027, 8.56516906576157, 7.9236377254804, 3.92471298333804, 0.357342550722758, 0.317395366795858, 7.51610432422956, 6.43678439216614, 7.51610432422956, 7.19644406593641, 8.12234850085576, 7.51610432422956, 7.56152574973106, 6.79972195781072, 7.35757483201027, 7.19644406593641, 3.72425490177472, 7.51610432422956, 7.48576971845627, 7.35757483201027, 3.92471298333804, 7.76387727416356, 0.317395366795858, 6.68141983505885, 7.56152574973106, 0.317395366795858, 6.43678439216614, 7.60272049066226, 8.91518978234927, 1.47902397669156, 7.9236377254804, 7.35757483201027, 0.357342550722758, 7.9236377254804, 3.83932929989497, 7.19644406593641, 7.56152574973106, 7.48576971845627, 7.48576971845627, 7.44131136692365, 7.48576971845627, 0.357342550722758, 6.63917059060732, 7.44131136692365, 7.51610432422956, 7.44131136692365, 6.43678439216614, 7.51610432422956, 7.23795746720632, 0.317395366795858, 7.56152574973106, 7.9236377254804, 5.40282422658602, 6.68141983505885, 7.56152574973106, 7.48576971845627, 8.03970136798223, 7.60272049066226, 7.51610432422956, 7.51610432422956, 7.51610432422956, 6.8842190817674, 8.88611269152959, 1.03485331492424, 8.88611269152959, 7.48576971845627, 7.9236377254804, 7.35757483201027, 7.39420979973475, 1.95886970914205, 6.07945797599157, 7.51610432422956, 9.00264136549632, 5.64284360961914, 7.48576971845627, 7.64117420074145, 6.07945797599157, 8.00074875709216, 7.60272049066226, 7.00252224164009, 7.51610432422956, 7.23795746720632, 0.317395366795858, 7.51610432422956, 3.15411232666969, 7.19644406593641, 7.51610432422956, 7.72378541784286, 3.83932929989497, 8.4769453918616, 4.68015694177945, 7.48576971845627, 7.48576971845627, 7.48576971845627, 2.91408731695811, 7.9236377254804, 7.48576971845627, 7.23795746720632, 6.68141983505885, 7.56152574973106, 8.72575774149895, 1.12053355929057, 7.35757483201027, 1.44006280856132, 4.56282771782875, 7.51610432422956, 7.48576971845627, 7.96165839192073, 0.357342550722758, 7.56152574973106, 7.51610432422956, 1.91936313268344, 7.60272049066226, 7.51610432422956, 0.317395366795858, 7.51610432422956, 2.24383325931231, 7.23795746720632, 3.83932929989497, 0.317395366795858, 7.44131136692365, 6.63917059060732, 3.76182024237315, 5.16327342348099, 7.23795746720632, 7.87868284341494, 4.60183141784668, 8.79871816592216], \"yaxis\": \"y\"}],                        {\"legend\": {\"tracegroupgap\": 0}, \"margin\": {\"t\": 60}, \"template\": {\"data\": {\"bar\": [{\"error_x\": {\"color\": \"#2a3f5f\"}, \"error_y\": {\"color\": \"#2a3f5f\"}, \"marker\": {\"line\": {\"color\": \"#E5ECF6\", \"width\": 0.5}}, \"type\": \"bar\"}], \"barpolar\": [{\"marker\": {\"line\": {\"color\": \"#E5ECF6\", \"width\": 0.5}}, \"type\": \"barpolar\"}], \"carpet\": [{\"aaxis\": {\"endlinecolor\": \"#2a3f5f\", \"gridcolor\": \"white\", \"linecolor\": \"white\", \"minorgridcolor\": \"white\", \"startlinecolor\": \"#2a3f5f\"}, \"baxis\": {\"endlinecolor\": \"#2a3f5f\", \"gridcolor\": \"white\", \"linecolor\": \"white\", \"minorgridcolor\": \"white\", \"startlinecolor\": \"#2a3f5f\"}, \"type\": \"carpet\"}], \"choropleth\": [{\"colorbar\": {\"outlinewidth\": 0, \"ticks\": \"\"}, \"type\": \"choropleth\"}], \"contour\": [{\"colorbar\": {\"outlinewidth\": 0, \"ticks\": \"\"}, \"colorscale\": [[0.0, \"#0d0887\"], [0.1111111111111111, \"#46039f\"], [0.2222222222222222, \"#7201a8\"], [0.3333333333333333, \"#9c179e\"], [0.4444444444444444, \"#bd3786\"], [0.5555555555555556, \"#d8576b\"], [0.6666666666666666, \"#ed7953\"], [0.7777777777777778, \"#fb9f3a\"], [0.8888888888888888, \"#fdca26\"], [1.0, \"#f0f921\"]], \"type\": \"contour\"}], \"contourcarpet\": [{\"colorbar\": {\"outlinewidth\": 0, \"ticks\": \"\"}, \"type\": \"contourcarpet\"}], \"heatmap\": [{\"colorbar\": {\"outlinewidth\": 0, \"ticks\": \"\"}, \"colorscale\": [[0.0, \"#0d0887\"], [0.1111111111111111, \"#46039f\"], [0.2222222222222222, \"#7201a8\"], [0.3333333333333333, \"#9c179e\"], [0.4444444444444444, \"#bd3786\"], [0.5555555555555556, \"#d8576b\"], [0.6666666666666666, \"#ed7953\"], [0.7777777777777778, \"#fb9f3a\"], [0.8888888888888888, \"#fdca26\"], [1.0, \"#f0f921\"]], \"type\": \"heatmap\"}], \"heatmapgl\": [{\"colorbar\": {\"outlinewidth\": 0, \"ticks\": \"\"}, \"colorscale\": [[0.0, \"#0d0887\"], [0.1111111111111111, \"#46039f\"], [0.2222222222222222, \"#7201a8\"], [0.3333333333333333, \"#9c179e\"], [0.4444444444444444, \"#bd3786\"], [0.5555555555555556, \"#d8576b\"], [0.6666666666666666, \"#ed7953\"], [0.7777777777777778, \"#fb9f3a\"], [0.8888888888888888, \"#fdca26\"], [1.0, \"#f0f921\"]], \"type\": \"heatmapgl\"}], \"histogram\": [{\"marker\": {\"colorbar\": {\"outlinewidth\": 0, \"ticks\": \"\"}}, \"type\": \"histogram\"}], \"histogram2d\": [{\"colorbar\": {\"outlinewidth\": 0, \"ticks\": \"\"}, \"colorscale\": [[0.0, \"#0d0887\"], [0.1111111111111111, \"#46039f\"], [0.2222222222222222, \"#7201a8\"], [0.3333333333333333, \"#9c179e\"], [0.4444444444444444, \"#bd3786\"], [0.5555555555555556, \"#d8576b\"], [0.6666666666666666, \"#ed7953\"], [0.7777777777777778, \"#fb9f3a\"], [0.8888888888888888, \"#fdca26\"], [1.0, \"#f0f921\"]], \"type\": \"histogram2d\"}], \"histogram2dcontour\": [{\"colorbar\": {\"outlinewidth\": 0, \"ticks\": \"\"}, \"colorscale\": [[0.0, \"#0d0887\"], [0.1111111111111111, \"#46039f\"], [0.2222222222222222, \"#7201a8\"], [0.3333333333333333, \"#9c179e\"], [0.4444444444444444, \"#bd3786\"], [0.5555555555555556, \"#d8576b\"], [0.6666666666666666, \"#ed7953\"], [0.7777777777777778, \"#fb9f3a\"], [0.8888888888888888, \"#fdca26\"], [1.0, \"#f0f921\"]], \"type\": \"histogram2dcontour\"}], \"mesh3d\": [{\"colorbar\": {\"outlinewidth\": 0, \"ticks\": \"\"}, \"type\": \"mesh3d\"}], \"parcoords\": [{\"line\": {\"colorbar\": {\"outlinewidth\": 0, \"ticks\": \"\"}}, \"type\": \"parcoords\"}], \"pie\": [{\"automargin\": true, \"type\": \"pie\"}], \"scatter\": [{\"marker\": {\"colorbar\": {\"outlinewidth\": 0, \"ticks\": \"\"}}, \"type\": \"scatter\"}], \"scatter3d\": [{\"line\": {\"colorbar\": {\"outlinewidth\": 0, \"ticks\": \"\"}}, \"marker\": {\"colorbar\": {\"outlinewidth\": 0, \"ticks\": \"\"}}, \"type\": \"scatter3d\"}], \"scattercarpet\": [{\"marker\": {\"colorbar\": {\"outlinewidth\": 0, \"ticks\": \"\"}}, \"type\": \"scattercarpet\"}], \"scattergeo\": [{\"marker\": {\"colorbar\": {\"outlinewidth\": 0, \"ticks\": \"\"}}, \"type\": \"scattergeo\"}], \"scattergl\": [{\"marker\": {\"colorbar\": {\"outlinewidth\": 0, \"ticks\": \"\"}}, \"type\": \"scattergl\"}], \"scattermapbox\": [{\"marker\": {\"colorbar\": {\"outlinewidth\": 0, \"ticks\": \"\"}}, \"type\": \"scattermapbox\"}], \"scatterpolar\": [{\"marker\": {\"colorbar\": {\"outlinewidth\": 0, \"ticks\": \"\"}}, \"type\": \"scatterpolar\"}], \"scatterpolargl\": [{\"marker\": {\"colorbar\": {\"outlinewidth\": 0, \"ticks\": \"\"}}, \"type\": \"scatterpolargl\"}], \"scatterternary\": [{\"marker\": {\"colorbar\": {\"outlinewidth\": 0, \"ticks\": \"\"}}, \"type\": \"scatterternary\"}], \"surface\": [{\"colorbar\": {\"outlinewidth\": 0, \"ticks\": \"\"}, \"colorscale\": [[0.0, \"#0d0887\"], [0.1111111111111111, \"#46039f\"], [0.2222222222222222, \"#7201a8\"], [0.3333333333333333, \"#9c179e\"], [0.4444444444444444, \"#bd3786\"], [0.5555555555555556, \"#d8576b\"], [0.6666666666666666, \"#ed7953\"], [0.7777777777777778, \"#fb9f3a\"], [0.8888888888888888, \"#fdca26\"], [1.0, \"#f0f921\"]], \"type\": \"surface\"}], \"table\": [{\"cells\": {\"fill\": {\"color\": \"#EBF0F8\"}, \"line\": {\"color\": \"white\"}}, \"header\": {\"fill\": {\"color\": \"#C8D4E3\"}, \"line\": {\"color\": \"white\"}}, \"type\": \"table\"}]}, \"layout\": {\"annotationdefaults\": {\"arrowcolor\": \"#2a3f5f\", \"arrowhead\": 0, \"arrowwidth\": 1}, \"autotypenumbers\": \"strict\", \"coloraxis\": {\"colorbar\": {\"outlinewidth\": 0, \"ticks\": \"\"}}, \"colorscale\": {\"diverging\": [[0, \"#8e0152\"], [0.1, \"#c51b7d\"], [0.2, \"#de77ae\"], [0.3, \"#f1b6da\"], [0.4, \"#fde0ef\"], [0.5, \"#f7f7f7\"], [0.6, \"#e6f5d0\"], [0.7, \"#b8e186\"], [0.8, \"#7fbc41\"], [0.9, \"#4d9221\"], [1, \"#276419\"]], \"sequential\": [[0.0, \"#0d0887\"], [0.1111111111111111, \"#46039f\"], [0.2222222222222222, \"#7201a8\"], [0.3333333333333333, \"#9c179e\"], [0.4444444444444444, \"#bd3786\"], [0.5555555555555556, \"#d8576b\"], [0.6666666666666666, \"#ed7953\"], [0.7777777777777778, \"#fb9f3a\"], [0.8888888888888888, \"#fdca26\"], [1.0, \"#f0f921\"]], \"sequentialminus\": [[0.0, \"#0d0887\"], [0.1111111111111111, \"#46039f\"], [0.2222222222222222, \"#7201a8\"], [0.3333333333333333, \"#9c179e\"], [0.4444444444444444, \"#bd3786\"], [0.5555555555555556, \"#d8576b\"], [0.6666666666666666, \"#ed7953\"], [0.7777777777777778, \"#fb9f3a\"], [0.8888888888888888, \"#fdca26\"], [1.0, \"#f0f921\"]]}, \"colorway\": [\"#636efa\", \"#EF553B\", \"#00cc96\", \"#ab63fa\", \"#FFA15A\", \"#19d3f3\", \"#FF6692\", \"#B6E880\", \"#FF97FF\", \"#FECB52\"], \"font\": {\"color\": \"#2a3f5f\"}, \"geo\": {\"bgcolor\": \"white\", \"lakecolor\": \"white\", \"landcolor\": \"#E5ECF6\", \"showlakes\": true, \"showland\": true, \"subunitcolor\": \"white\"}, \"hoverlabel\": {\"align\": \"left\"}, \"hovermode\": \"closest\", \"mapbox\": {\"style\": \"light\"}, \"paper_bgcolor\": \"white\", \"plot_bgcolor\": \"#E5ECF6\", \"polar\": {\"angularaxis\": {\"gridcolor\": \"white\", \"linecolor\": \"white\", \"ticks\": \"\"}, \"bgcolor\": \"#E5ECF6\", \"radialaxis\": {\"gridcolor\": \"white\", \"linecolor\": \"white\", \"ticks\": \"\"}}, \"scene\": {\"xaxis\": {\"backgroundcolor\": \"#E5ECF6\", \"gridcolor\": \"white\", \"gridwidth\": 2, \"linecolor\": \"white\", \"showbackground\": true, \"ticks\": \"\", \"zerolinecolor\": \"white\"}, \"yaxis\": {\"backgroundcolor\": \"#E5ECF6\", \"gridcolor\": \"white\", \"gridwidth\": 2, \"linecolor\": \"white\", \"showbackground\": true, \"ticks\": \"\", \"zerolinecolor\": \"white\"}, \"zaxis\": {\"backgroundcolor\": \"#E5ECF6\", \"gridcolor\": \"white\", \"gridwidth\": 2, \"linecolor\": \"white\", \"showbackground\": true, \"ticks\": \"\", \"zerolinecolor\": \"white\"}}, \"shapedefaults\": {\"line\": {\"color\": \"#2a3f5f\"}}, \"ternary\": {\"aaxis\": {\"gridcolor\": \"white\", \"linecolor\": \"white\", \"ticks\": \"\"}, \"baxis\": {\"gridcolor\": \"white\", \"linecolor\": \"white\", \"ticks\": \"\"}, \"bgcolor\": \"#E5ECF6\", \"caxis\": {\"gridcolor\": \"white\", \"linecolor\": \"white\", \"ticks\": \"\"}}, \"title\": {\"x\": 0.05}, \"xaxis\": {\"automargin\": true, \"gridcolor\": \"white\", \"linecolor\": \"white\", \"ticks\": \"\", \"title\": {\"standoff\": 15}, \"zerolinecolor\": \"white\", \"zerolinewidth\": 2}, \"yaxis\": {\"automargin\": true, \"gridcolor\": \"white\", \"linecolor\": \"white\", \"ticks\": \"\", \"title\": {\"standoff\": 15}, \"zerolinecolor\": \"white\", \"zerolinewidth\": 2}}}, \"xaxis\": {\"anchor\": \"y\", \"domain\": [0.0, 1.0], \"title\": {\"text\": \"Mass\"}}, \"yaxis\": {\"anchor\": \"x\", \"domain\": [0.0, 1.0], \"title\": {\"text\": \"RT\"}}},                        {\"responsive\": true}                    ).then(function(){\n",
       "                            \n",
       "var gd = document.getElementById('4f2d9727-73d3-46e5-b972-8b6f5ef94ad1');\n",
       "var x = new MutationObserver(function (mutations, observer) {{\n",
       "        var display = window.getComputedStyle(gd).display;\n",
       "        if (!display || display === 'none') {{\n",
       "            console.log([gd, 'removed!']);\n",
       "            Plotly.purge(gd);\n",
       "            observer.disconnect();\n",
       "        }}\n",
       "}});\n",
       "\n",
       "// Listen for the removal of the full notebook cells\n",
       "var notebookContainer = gd.closest('#notebook-container');\n",
       "if (notebookContainer) {{\n",
       "    x.observe(notebookContainer, {childList: true});\n",
       "}}\n",
       "\n",
       "// Listen for the clearing of the current output cell\n",
       "var outputEl = gd.closest('.output');\n",
       "if (outputEl) {{\n",
       "    x.observe(outputEl, {childList: true});\n",
       "}}\n",
       "\n",
       "                        })                };                });            </script>        </div>"
      ]
     },
     "metadata": {},
     "output_type": "display_data"
    }
   ],
   "source": [
    "# df_top = df_24k.sort_values('Vol', ascending=False).iloc[:10].copy()\n",
    "# df_top['Mass2'] = df_top.Mass - 128.09\n",
    "# df_top\n",
    "plotly_zone(df1)"
   ]
  },
  {
   "cell_type": "code",
   "execution_count": 723,
   "id": "hungry-while",
   "metadata": {},
   "outputs": [
    {
     "name": "stdout",
     "output_type": "stream",
     "text": [
      "Top dots:  [24274.2153954554, 24294.186110206, 24255.2450532358, 24311.1804648306, 24331.1498750105, 24350.1217460797, 24217.2780567485, 24237.2559338324, 24388.0862295545, 24370.1017627704]\n",
      "intact  24160.2 hit  [24274.2153954554, 24198.2887512574]\n",
      "intact  24159.2 hit  [24311.1804648306, 24159.2655752119, 24247.219971967]\n",
      "intact  24190.2 hit  [24294.186110206, 24228.2442837617, 24342.0939211802, 24310.1432231514, 24304.1399733362]\n",
      "intact  24175.2 hit  [24311.1804648306]\n",
      "intact  24174.2 hit  [24294.186110206, 24310.1432231514]\n",
      "intact  24189.2 hit  [24255.2450532358, 24265.1969958252, 24341.0952473793, 24227.2414596032]\n",
      "intact  24176.2 hit  [24274.2153954554, 24198.2887512574]\n",
      "intact  24191.2 hit  [24311.1804648306]\n",
      "intact  24173.2 hit  [24255.2450532358, 24217.2780567485]\n",
      "Sample 0\n",
      "[231.19 228.09 258.02 164.5  194.55 260.69 231.19 164.5  272.6 ]\n",
      "            Mass        RT        Vol        RA        FA     24160  \\\n",
      "60  24274.215395  3.637315  202613.46  0.105269  0.013326  6.125589   \n",
      "53  24294.186110  3.637315  181855.47  0.094484  0.011961       NaN   \n",
      "65  24255.245053  3.637315  164860.67  0.085654  0.010843       NaN   \n",
      "49  24311.180465  3.637315  164495.43  0.085465  0.010819       NaN   \n",
      "42  24331.149875  3.599882  150030.75  0.077949  0.009868       NaN   \n",
      "36  24350.121746  3.637315  127867.46  0.066434  0.008410       NaN   \n",
      "74  24217.278057  3.599882  107734.85  0.055974  0.007086       NaN   \n",
      "69  24237.255934  3.599882   98389.72  0.051119  0.006471       NaN   \n",
      "29  24388.086230  3.637315   93752.38  0.048710  0.006166       NaN   \n",
      "33  24370.101763  3.599882   86832.07  0.045114  0.005711       NaN   \n",
      "56  24285.177709  3.637315   66961.32  0.034790  0.004404       NaN   \n",
      "17  24426.037869  3.637315   55329.19  0.028747  0.003639       NaN   \n",
      "34  24361.072913  3.637315   52005.95  0.027020  0.003421       NaN   \n",
      "43  24330.156702  3.680170   48749.20  0.025328  0.003206       NaN   \n",
      "62  24265.196996  3.637315   45235.11  0.023502  0.002975       NaN   \n",
      "87  24159.265575  3.637315   43612.84  0.022659  0.002868       NaN   \n",
      "75  24216.282096  3.680170   43287.44  0.022490  0.002847       NaN   \n",
      "31  24379.052489  3.637315   42699.01  0.022185  0.002808       NaN   \n",
      "19  24416.008156  3.637315   41963.32  0.021802  0.002760       NaN   \n",
      "24  24406.045527  3.599882   41850.68  0.021744  0.002753       NaN   \n",
      "35  24351.117999  3.559469   41191.89  0.021402  0.002709       NaN   \n",
      "79  24199.281143  3.599882   38200.43  0.019847  0.002513       NaN   \n",
      "38  24341.095247  3.599882   36759.46  0.019099  0.002418       NaN   \n",
      "70  24228.244284  3.599882   32159.62  0.016709  0.002115       NaN   \n",
      "48  24313.156228  3.559469   32055.00  0.016654  0.002108       NaN   \n",
      "46  24322.129915  3.599882   30593.44  0.015895  0.002012       NaN   \n",
      "52  24302.155346  3.637315   29603.95  0.015381  0.001947       NaN   \n",
      "80  24198.288751  3.637315   28574.85  0.014846  0.001879  5.502904   \n",
      "12  24445.015350  3.637315   28440.18  0.014776  0.001871       NaN   \n",
      "39  24340.100966  3.680170   21167.92  0.010998  0.001392       NaN   \n",
      "18  24425.035477  3.559469   20762.43  0.010787  0.001366       NaN   \n",
      "37  24342.093921  3.559469   20121.49  0.010454  0.001323       NaN   \n",
      "13  24435.980143  3.599882   20048.00  0.010416  0.001319       NaN   \n",
      "68  24247.219972  3.599882   19977.41  0.010379  0.001314       NaN   \n",
      "66  24254.246059  3.724255   18450.25  0.009586  0.001214       NaN   \n",
      "85  24172.313374  3.637315   16131.67  0.008381  0.001061       NaN   \n",
      "25  24397.028644  3.637315   15140.46  0.007866  0.000996       NaN   \n",
      "7   24462.995460  3.637315   15068.36  0.007829  0.000991       NaN   \n",
      "4   24481.974261  3.637315   15007.06  0.007797  0.000987       NaN   \n",
      "71  24227.241460  3.637315   13839.54  0.007190  0.000910       NaN   \n",
      "50  24310.143223  3.724255   12695.10  0.006596  0.000835       NaN   \n",
      "10  24453.970745  3.680170   12447.37  0.006467  0.000819       NaN   \n",
      "51  24304.139973  3.559469   11192.13  0.005815  0.000736       NaN   \n",
      "\n",
      "   24160_composition     24159 24159_composition     24190  ...     24174  \\\n",
      "60               3K        NaN               NaN       NaN  ...       NaN   \n",
      "53               NaN       NaN               NaN  3.497706  ...  4.579684   \n",
      "65               NaN       NaN               NaN       NaN  ...       NaN   \n",
      "49               NaN  6.509521               4K        NaN  ...       NaN   \n",
      "42               NaN       NaN               NaN       NaN  ...       NaN   \n",
      "36               NaN       NaN               NaN       NaN  ...       NaN   \n",
      "74               NaN       NaN               NaN       NaN  ...       NaN   \n",
      "69               NaN       NaN               NaN       NaN  ...       NaN   \n",
      "29               NaN       NaN               NaN       NaN  ...       NaN   \n",
      "33               NaN       NaN               NaN       NaN  ...       NaN   \n",
      "56               NaN       NaN               NaN       NaN  ...       NaN   \n",
      "17               NaN       NaN               NaN       NaN  ...       NaN   \n",
      "34               NaN       NaN               NaN       NaN  ...       NaN   \n",
      "43               NaN       NaN               NaN       NaN  ...       NaN   \n",
      "62               NaN       NaN               NaN       NaN  ...       NaN   \n",
      "87               NaN  2.714296                         NaN  ...       NaN   \n",
      "75               NaN       NaN               NaN       NaN  ...       NaN   \n",
      "31               NaN       NaN               NaN       NaN  ...       NaN   \n",
      "19               NaN       NaN               NaN       NaN  ...       NaN   \n",
      "24               NaN       NaN               NaN       NaN  ...       NaN   \n",
      "35               NaN       NaN               NaN       NaN  ...       NaN   \n",
      "79               NaN       NaN               NaN       NaN  ...       NaN   \n",
      "38               NaN       NaN               NaN       NaN  ...       NaN   \n",
      "70               NaN       NaN               NaN  3.657835  ...       NaN   \n",
      "48               NaN       NaN               NaN       NaN  ...       NaN   \n",
      "46               NaN       NaN               NaN       NaN  ...       NaN   \n",
      "52               NaN       NaN               NaN       NaN  ...       NaN   \n",
      "80               1K        NaN               NaN       NaN  ...       NaN   \n",
      "12               NaN       NaN               NaN       NaN  ...       NaN   \n",
      "39               NaN       NaN               NaN       NaN  ...       NaN   \n",
      "18               NaN       NaN               NaN       NaN  ...       NaN   \n",
      "37               NaN       NaN               NaN  2.923547  ...       NaN   \n",
      "13               NaN       NaN               NaN       NaN  ...       NaN   \n",
      "68               NaN  3.823470              4Na        NaN  ...       NaN   \n",
      "66               NaN       NaN               NaN       NaN  ...       NaN   \n",
      "85               NaN       NaN               NaN       NaN  ...       NaN   \n",
      "25               NaN       NaN               NaN       NaN  ...       NaN   \n",
      "7                NaN       NaN               NaN       NaN  ...       NaN   \n",
      "4                NaN       NaN               NaN       NaN  ...       NaN   \n",
      "71               NaN       NaN               NaN       NaN  ...       NaN   \n",
      "50               NaN       NaN               NaN  2.803745  ...  3.885264   \n",
      "10               NaN       NaN               NaN       NaN  ...       NaN   \n",
      "51               NaN       NaN               NaN  3.000113  ...       NaN   \n",
      "\n",
      "    24174_composition     24189  24189_composition     24176  \\\n",
      "60                NaN       NaN                NaN  5.041961   \n",
      "53            2Na 2K        NaN                NaN       NaN   \n",
      "65                NaN  4.107339               3Na        NaN   \n",
      "49                NaN       NaN                NaN       NaN   \n",
      "42                NaN       NaN                NaN       NaN   \n",
      "36                NaN       NaN                NaN       NaN   \n",
      "74                NaN       NaN                NaN       NaN   \n",
      "69                NaN       NaN                NaN       NaN   \n",
      "29                NaN       NaN                NaN       NaN   \n",
      "33                NaN       NaN                NaN       NaN   \n",
      "56                NaN       NaN                NaN       NaN   \n",
      "17                NaN       NaN                NaN       NaN   \n",
      "34                NaN       NaN                NaN       NaN   \n",
      "43                NaN       NaN                NaN       NaN   \n",
      "62                NaN  3.530329                2K        NaN   \n",
      "87                NaN       NaN                NaN       NaN   \n",
      "75                NaN       NaN                NaN       NaN   \n",
      "31                NaN       NaN                NaN       NaN   \n",
      "19                NaN       NaN                NaN       NaN   \n",
      "24                NaN       NaN                NaN       NaN   \n",
      "35                NaN       NaN                NaN       NaN   \n",
      "79                NaN       NaN                NaN       NaN   \n",
      "38                NaN  2.978494                4K        NaN   \n",
      "70                NaN       NaN                NaN       NaN   \n",
      "48                NaN       NaN                NaN       NaN   \n",
      "46                NaN       NaN                NaN       NaN   \n",
      "52                NaN       NaN                NaN       NaN   \n",
      "80                NaN       NaN                NaN  4.419688   \n",
      "12                NaN       NaN                NaN       NaN   \n",
      "39                NaN       NaN                NaN       NaN   \n",
      "18                NaN       NaN                NaN       NaN   \n",
      "37                NaN       NaN                NaN       NaN   \n",
      "13                NaN       NaN                NaN       NaN   \n",
      "68                NaN       NaN                NaN       NaN   \n",
      "66                NaN       NaN                NaN       NaN   \n",
      "85                NaN       NaN                NaN       NaN   \n",
      "25                NaN       NaN                NaN       NaN   \n",
      "7                 NaN       NaN                NaN       NaN   \n",
      "4                 NaN       NaN                NaN       NaN   \n",
      "71                NaN  3.541233                1K        NaN   \n",
      "50            1Na 3K        NaN                NaN       NaN   \n",
      "10                NaN       NaN                NaN       NaN   \n",
      "51                NaN       NaN                NaN       NaN   \n",
      "\n",
      "    24176_composition     24191  24191_composition     24173  \\\n",
      "60            1Na 2K        NaN                NaN       NaN   \n",
      "53                NaN       NaN                NaN       NaN   \n",
      "65                NaN       NaN                NaN  5.189765   \n",
      "49                NaN  4.343101            2Na 2K        NaN   \n",
      "42                NaN       NaN                NaN       NaN   \n",
      "36                NaN       NaN                NaN       NaN   \n",
      "74                NaN       NaN                NaN  4.726588   \n",
      "69                NaN       NaN                NaN       NaN   \n",
      "29                NaN       NaN                NaN       NaN   \n",
      "33                NaN       NaN                NaN       NaN   \n",
      "56                NaN       NaN                NaN       NaN   \n",
      "17                NaN       NaN                NaN       NaN   \n",
      "34                NaN       NaN                NaN       NaN   \n",
      "43                NaN       NaN                NaN       NaN   \n",
      "62                NaN       NaN                NaN       NaN   \n",
      "87                NaN       NaN                NaN       NaN   \n",
      "75                NaN       NaN                NaN       NaN   \n",
      "31                NaN       NaN                NaN       NaN   \n",
      "19                NaN       NaN                NaN       NaN   \n",
      "24                NaN       NaN                NaN       NaN   \n",
      "35                NaN       NaN                NaN       NaN   \n",
      "79                NaN       NaN                NaN       NaN   \n",
      "38                NaN       NaN                NaN       NaN   \n",
      "70                NaN       NaN                NaN       NaN   \n",
      "48                NaN       NaN                NaN       NaN   \n",
      "46                NaN       NaN                NaN       NaN   \n",
      "52                NaN       NaN                NaN       NaN   \n",
      "80               1Na        NaN                NaN       NaN   \n",
      "12                NaN       NaN                NaN       NaN   \n",
      "39                NaN       NaN                NaN       NaN   \n",
      "18                NaN       NaN                NaN       NaN   \n",
      "37                NaN       NaN                NaN       NaN   \n",
      "13                NaN       NaN                NaN       NaN   \n",
      "68                NaN       NaN                NaN       NaN   \n",
      "66                NaN       NaN                NaN       NaN   \n",
      "85                NaN       NaN                NaN       NaN   \n",
      "25                NaN       NaN                NaN       NaN   \n",
      "7                 NaN       NaN                NaN       NaN   \n",
      "4                 NaN       NaN                NaN       NaN   \n",
      "71                NaN       NaN                NaN       NaN   \n",
      "50                NaN       NaN                NaN       NaN   \n",
      "10                NaN       NaN                NaN       NaN   \n",
      "51                NaN       NaN                NaN       NaN   \n",
      "\n",
      "    24173_composition  \n",
      "60                NaN  \n",
      "53                NaN  \n",
      "65            2Na 1K   \n",
      "49                NaN  \n",
      "42                NaN  \n",
      "36                NaN  \n",
      "74               2Na   \n",
      "69                NaN  \n",
      "29                NaN  \n",
      "33                NaN  \n",
      "56                NaN  \n",
      "17                NaN  \n",
      "34                NaN  \n",
      "43                NaN  \n",
      "62                NaN  \n",
      "87                NaN  \n",
      "75                NaN  \n",
      "31                NaN  \n",
      "19                NaN  \n",
      "24                NaN  \n",
      "35                NaN  \n",
      "79                NaN  \n",
      "38                NaN  \n",
      "70                NaN  \n",
      "48                NaN  \n",
      "46                NaN  \n",
      "52                NaN  \n",
      "80                NaN  \n",
      "12                NaN  \n",
      "39                NaN  \n",
      "18                NaN  \n",
      "37                NaN  \n",
      "13                NaN  \n",
      "68                NaN  \n",
      "66                NaN  \n",
      "85                NaN  \n",
      "25                NaN  \n",
      "7                 NaN  \n",
      "4                 NaN  \n",
      "71                NaN  \n",
      "50                NaN  \n",
      "10                NaN  \n",
      "51                NaN  \n",
      "\n"
     ]
    },
    {
     "name": "stdout",
     "output_type": "stream",
     "text": [
      "[43 rows x 23 columns]\n",
      "Top dots:  [24160.2248306898, 24197.2246142536, 24236.1864941473, 24275.14173303, 24175.2383963349, 24235.1853762744, 24217.191975847, 24294.1096647211, 24215.2041637882, 24174.255624248]\n",
      "intact  24160.2 hit  [24160.2248306898, 24236.1864941473, 24226.1701701962]\n",
      "intact  24159.2 hit  [24197.2246142536, 24235.1853762744, 24159.2078377456]\n",
      "intact  24190.2 hit  [24294.1096647211, 24256.1723095443, 24266.1206671685]\n",
      "intact  24175.2 hit  [24197.2246142536, 24175.2383963349, 24235.1853762744, 24251.1430814486]\n",
      "intact  24174.2 hit  [24294.1096647211, 24174.255624248, 24218.2023508014, 24256.1723095443, 24196.2287452184]\n",
      "df_salts empty\n",
      "intact  24176.2 hit  [24236.1864941473, 24252.1659639317, 24328.0911458215]\n",
      "intact  24191.2 hit  [24235.1853762744, 24267.1263929488, 24305.0799941309, 24251.1430814486]\n",
      "intact  24173.2 hit  [24217.191975847]\n",
      "Sample 1\n",
      "[225.72 185.63  85.59 246.08 163.45   0.   131.82 100.4   50.95]\n",
      "             Mass         RT        Vol        RA        FA     24160  \\\n",
      "506  24160.224831  19.890623  131331.59  0.008490  0.001394  1.027752   \n",
      "516  24197.224614  19.917532  118837.13  0.007682  0.001261       NaN   \n",
      "549  24236.186494  19.917532   80677.18  0.005216  0.000856  3.099898   \n",
      "578  24275.141733  19.890623   62212.57  0.004022  0.000660       NaN   \n",
      "581  24175.238396  19.890623   61383.31  0.003968  0.000652       NaN   \n",
      "595  24235.185376  19.828988   54565.89  0.003528  0.000579       NaN   \n",
      "604  24217.191976  19.890623   50951.95  0.003294  0.000541       NaN   \n",
      "626  24294.109665  19.917532   42694.76  0.002760  0.000453       NaN   \n",
      "637  24215.204164  19.917532   40324.59  0.002607  0.000428       NaN   \n",
      "647  24174.255624  19.983248   38021.66  0.002458  0.000404       NaN   \n",
      "666  24218.202351  19.863416   35866.38  0.002319  0.000381       NaN   \n",
      "672  24252.165964  19.950319   34273.59  0.002216  0.000364       NaN   \n",
      "679  24216.199165  19.950319   32636.36  0.002110  0.000346       NaN   \n",
      "699  24254.170884  19.890623   28868.92  0.001866  0.000306       NaN   \n",
      "715  24185.220172  19.917532   26975.27  0.001744  0.000286       NaN   \n",
      "726  24256.172310  19.983248   25733.54  0.001664  0.000273       NaN   \n",
      "729  24315.092464  19.917532   25648.50  0.001658  0.000272       NaN   \n",
      "759  24224.170198  19.917532   23055.49  0.001490  0.000245       NaN   \n",
      "779  24196.228745  19.828988   21137.24  0.001366  0.000224       NaN   \n",
      "781  24276.146473  19.917532   21033.41  0.001360  0.000223       NaN   \n",
      "799  24267.126393  19.890623   19657.17  0.001271  0.000209       NaN   \n",
      "812  24259.130529  19.890623   18989.25  0.001228  0.000202       NaN   \n",
      "824  24306.082683  19.983248   18238.15  0.001179  0.000194       NaN   \n",
      "839  24184.221724  19.863416   17393.93  0.001124  0.000185       NaN   \n",
      "843  24266.120667  19.917532   17159.45  0.001109  0.000182       NaN   \n",
      "850  24328.091146  19.950319   16867.61  0.001090  0.000179       NaN   \n",
      "855  24209.209852  19.890623   16544.21  0.001070  0.000176       NaN   \n",
      "893  24305.079994  19.863416   14879.70  0.000962  0.000158       NaN   \n",
      "919  24353.041156  19.890623   13883.83  0.000898  0.000147       NaN   \n",
      "926  24226.170170  19.890623   13711.23  0.000886  0.000146  1.012831   \n",
      "949  24268.133475  19.828988   12766.40  0.000825  0.000136       NaN   \n",
      "960  24246.151269  19.917532   12289.50  0.000794  0.000130       NaN   \n",
      "965  24159.207838  19.772642   12223.67  0.000790  0.000130       NaN   \n",
      "966  24292.135125  19.772642   12220.58  0.000790  0.000130       NaN   \n",
      "990  24210.197317  19.800979   11365.69  0.000735  0.000121       NaN   \n",
      "992  24251.143081  19.890623   11296.18  0.000730  0.000120       NaN   \n",
      "\n",
      "    24160_composition     24159 24159_composition     24190  ...     24175  \\\n",
      "506                         NaN               NaN       NaN  ...       NaN   \n",
      "516               NaN  2.848366               1K        NaN  ...  1.766862   \n",
      "549               2K        NaN               NaN       NaN  ...       NaN   \n",
      "578               NaN       NaN               NaN       NaN  ...       NaN   \n",
      "581               NaN       NaN               NaN       NaN  ...  1.588253   \n",
      "595               NaN  3.053755               2K        NaN  ...  1.972115   \n",
      "604               NaN       NaN               NaN       NaN  ...       NaN   \n",
      "626               NaN       NaN               NaN  0.337522  ...       NaN   \n",
      "637               NaN       NaN               NaN       NaN  ...       NaN   \n",
      "647               NaN       NaN               NaN       NaN  ...       NaN   \n",
      "666               NaN       NaN               NaN       NaN  ...       NaN   \n",
      "672               NaN       NaN               NaN       NaN  ...       NaN   \n",
      "679               NaN       NaN               NaN       NaN  ...       NaN   \n",
      "699               NaN       NaN               NaN       NaN  ...       NaN   \n",
      "715               NaN       NaN               NaN       NaN  ...       NaN   \n",
      "726               NaN       NaN               NaN  1.100013  ...       NaN   \n",
      "729               NaN       NaN               NaN       NaN  ...       NaN   \n",
      "759               NaN       NaN               NaN       NaN  ...       NaN   \n",
      "779               NaN       NaN               NaN       NaN  ...       NaN   \n",
      "781               NaN       NaN               NaN       NaN  ...       NaN   \n",
      "799               NaN       NaN               NaN       NaN  ...       NaN   \n",
      "812               NaN       NaN               NaN       NaN  ...       NaN   \n",
      "824               NaN       NaN               NaN       NaN  ...       NaN   \n",
      "839               NaN       NaN               NaN       NaN  ...       NaN   \n",
      "843               NaN       NaN               NaN  0.374828  ...       NaN   \n",
      "850               NaN       NaN               NaN       NaN  ...       NaN   \n",
      "855               NaN       NaN               NaN       NaN  ...       NaN   \n",
      "893               NaN       NaN               NaN       NaN  ...       NaN   \n",
      "919               NaN       NaN               NaN       NaN  ...       NaN   \n",
      "926              3Na        NaN               NaN       NaN  ...       NaN   \n",
      "949               NaN       NaN               NaN       NaN  ...       NaN   \n",
      "960               NaN       NaN               NaN       NaN  ...       NaN   \n",
      "965               NaN  0.324421                         NaN  ...       NaN   \n",
      "966               NaN       NaN               NaN       NaN  ...       NaN   \n",
      "990               NaN       NaN               NaN       NaN  ...       NaN   \n",
      "992               NaN       NaN               NaN       NaN  ...  1.302221   \n",
      "\n",
      "     24175_composition     24174  24174_composition     24176  \\\n",
      "506                NaN       NaN                NaN       NaN   \n",
      "516               1Na        NaN                NaN       NaN   \n",
      "549                NaN       NaN                NaN  2.018272   \n",
      "578                NaN       NaN                NaN       NaN   \n",
      "581                          NaN                NaN       NaN   \n",
      "595            1Na 1K        NaN                NaN       NaN   \n",
      "604                NaN       NaN                NaN       NaN   \n",
      "626                NaN  1.417409            2Na 2K        NaN   \n",
      "637                NaN       NaN                NaN       NaN   \n",
      "647                NaN  2.300976                          NaN   \n",
      "666                NaN  1.594708               2Na        NaN   \n",
      "672                NaN       NaN                NaN  2.248655   \n",
      "679                NaN       NaN                NaN       NaN   \n",
      "699                NaN       NaN                NaN       NaN   \n",
      "715                NaN       NaN                NaN       NaN   \n",
      "726                NaN  2.180405            2Na 1K        NaN   \n",
      "729                NaN       NaN                NaN       NaN   \n",
      "759                NaN       NaN                NaN       NaN   \n",
      "779                NaN  1.937819               1Na        NaN   \n",
      "781                NaN       NaN                NaN       NaN   \n",
      "799                NaN       NaN                NaN       NaN   \n",
      "812                NaN       NaN                NaN       NaN   \n",
      "824                NaN       NaN                NaN       NaN   \n",
      "839                NaN       NaN                NaN       NaN   \n",
      "843                NaN       NaN                NaN       NaN   \n",
      "850                NaN       NaN                NaN  2.810443   \n",
      "855                NaN       NaN                NaN       NaN   \n",
      "893                NaN       NaN                NaN       NaN   \n",
      "919                NaN       NaN                NaN       NaN   \n",
      "926                NaN       NaN                NaN       NaN   \n",
      "949                NaN       NaN                NaN       NaN   \n",
      "960                NaN       NaN                NaN       NaN   \n",
      "965                NaN       NaN                NaN       NaN   \n",
      "966                NaN       NaN                NaN       NaN   \n",
      "990                NaN       NaN                NaN       NaN   \n",
      "992                2K        NaN                NaN       NaN   \n",
      "\n",
      "     24176_composition     24191  24191_composition     24173  \\\n",
      "506                NaN       NaN                NaN       NaN   \n",
      "516                NaN       NaN                NaN       NaN   \n",
      "549            1Na 1K        NaN                NaN       NaN   \n",
      "578                NaN       NaN                NaN       NaN   \n",
      "581                NaN       NaN                NaN       NaN   \n",
      "595                NaN  0.891906               2Na        NaN   \n",
      "604                NaN       NaN                NaN  1.165582   \n",
      "626                NaN       NaN                NaN       NaN   \n",
      "637                NaN       NaN                NaN       NaN   \n",
      "647                NaN       NaN                NaN       NaN   \n",
      "666                NaN       NaN                NaN       NaN   \n",
      "672                2K        NaN                NaN       NaN   \n",
      "679                NaN       NaN                NaN       NaN   \n",
      "699                NaN       NaN                NaN       NaN   \n",
      "715                NaN       NaN                NaN       NaN   \n",
      "726                NaN       NaN                NaN       NaN   \n",
      "729                NaN       NaN                NaN       NaN   \n",
      "759                NaN       NaN                NaN       NaN   \n",
      "779                NaN       NaN                NaN       NaN   \n",
      "781                NaN       NaN                NaN       NaN   \n",
      "799                NaN  0.611501                2K        NaN   \n",
      "812                NaN       NaN                NaN       NaN   \n",
      "824                NaN       NaN                NaN       NaN   \n",
      "839                NaN       NaN                NaN       NaN   \n",
      "843                NaN       NaN                NaN       NaN   \n",
      "850                4K        NaN                NaN       NaN   \n",
      "855                NaN       NaN                NaN       NaN   \n",
      "893                NaN  0.520608                3K        NaN   \n",
      "919                NaN       NaN                NaN       NaN   \n",
      "926                NaN       NaN                NaN       NaN   \n",
      "949                NaN       NaN                NaN       NaN   \n",
      "960                NaN       NaN                NaN       NaN   \n",
      "965                NaN       NaN                NaN       NaN   \n",
      "966                NaN       NaN                NaN       NaN   \n",
      "990                NaN       NaN                NaN       NaN   \n",
      "992                NaN  0.222455            1Na 1K        NaN   \n",
      "\n",
      "     24173_composition  \n",
      "506                NaN  \n",
      "516                NaN  \n",
      "549                NaN  \n",
      "578                NaN  \n",
      "581                NaN  \n",
      "595                NaN  \n",
      "604               2Na   \n",
      "626                NaN  \n",
      "637                NaN  \n",
      "647                NaN  \n",
      "666                NaN  \n",
      "672                NaN  \n",
      "679                NaN  \n",
      "699                NaN  \n",
      "715                NaN  \n",
      "726                NaN  \n",
      "729                NaN  \n",
      "759                NaN  \n",
      "779                NaN  \n",
      "781                NaN  \n",
      "799                NaN  \n",
      "812                NaN  \n",
      "824                NaN  \n",
      "839                NaN  \n",
      "843                NaN  \n",
      "850                NaN  \n",
      "855                NaN  \n",
      "893                NaN  \n",
      "919                NaN  \n",
      "926                NaN  \n",
      "949                NaN  \n",
      "960                NaN  \n",
      "965                NaN  \n",
      "966                NaN  \n",
      "990                NaN  \n",
      "992                NaN  \n",
      "\n",
      "[36 rows x 21 columns]\n",
      "Top dots:  [24236.1900605659, 24218.2027610893, 24198.2227833977, 24274.1443174139, 24159.2220601997, 24257.1638961535, 24181.2556161142, 24294.1211569421, 24197.2237504682, 24247.1382930092]\n"
     ]
    },
    {
     "name": "stdout",
     "output_type": "stream",
     "text": [
      "intact  24160.2 hit  [24236.1900605659, 24198.2227833977, 24274.1443174139, 24160.2125582734, 24312.0981385753, 24248.1274619229, 24226.1779431467, 24258.1626798512]\n",
      "intact  24159.2 hit  [24159.2220601997, 24257.1638961535, 24181.2556161142, 24197.2237504682, 24247.1382930092, 24219.2100300358, 24295.1151591189, 24235.1835172067]\n",
      "intact  24190.2 hit  [24294.1211569421, 24228.1606362025, 24304.0734290415, 24266.1184429909, 24190.203771964]\n",
      "intact  24175.2 hit  [24257.1638961535, 24197.2237504682, 24219.2100300358, 24295.1151591189, 24235.1835172067]\n",
      "intact  24174.2 hit  [24218.2027610893, 24294.1211569421]\n",
      "intact  24189.2 hit  [24265.1159555608, 24227.16218273, 24303.0812469045, 24249.1475339546, 24189.2013184306]\n",
      "intact  24176.2 hit  [24236.1900605659, 24198.2227833977, 24274.1443174139, 24312.0981385753, 24258.1626798512]\n",
      "intact  24191.2 hit  [24257.1638961535, 24295.1151591189, 24235.1835172067, 24343.0305261866, 24229.1604899314]\n",
      "intact  24173.2 hit  [24249.1475339546]\n",
      "Sample 2\n",
      "[3250.92 3293.09  851.16 1808.89 1434.7   362.57 2801.25 1121.93   20.41]\n",
      "              Mass         RT         Vol        RA        FA     24160  \\\n",
      "246   24236.190061  19.909712  1104375.65  0.121550  0.018801  3.247513   \n",
      "266   24218.202761  19.875539   930120.26  0.102371  0.015835       NaN   \n",
      "276   24198.222783  19.875539   841348.04  0.092601  0.014323  2.772469   \n",
      "299   24274.144317  19.909712   670200.97  0.073764  0.011410  3.183641   \n",
      "304   24159.222060  19.909712   638306.39  0.070253  0.010867       NaN   \n",
      "...            ...        ...         ...       ...       ...       ...   \n",
      "1119  24302.097595  19.762443    11515.53  0.001267  0.000196       NaN   \n",
      "1127  24397.008667  20.022047    11280.35  0.001242  0.000192       NaN   \n",
      "1135  24416.986831  19.988531    11025.17  0.001213  0.000188       NaN   \n",
      "1150  24426.993774  19.988531    10725.63  0.001180  0.000183       NaN   \n",
      "1180  24346.025259  19.949334    10146.72  0.001117  0.000173       NaN   \n",
      "\n",
      "     24160_composition     24159 24159_composition  24190  ...     24174  \\\n",
      "246                2K        NaN               NaN    NaN  ...       NaN   \n",
      "266                NaN       NaN               NaN    NaN  ...  1.611681   \n",
      "276                1K        NaN               NaN    NaN  ...       NaN   \n",
      "299                3K        NaN               NaN    NaN  ...       NaN   \n",
      "304                NaN  0.913118                      NaN  ...       NaN   \n",
      "...                ...       ...               ...    ...  ...       ...   \n",
      "1119               NaN       NaN               NaN    NaN  ...       NaN   \n",
      "1127               NaN       NaN               NaN    NaN  ...       NaN   \n",
      "1135               NaN       NaN               NaN    NaN  ...       NaN   \n",
      "1150               NaN       NaN               NaN    NaN  ...       NaN   \n",
      "1180               NaN       NaN               NaN    NaN  ...       NaN   \n",
      "\n",
      "      24174_composition 24189  24189_composition    24176  24176_composition  \\\n",
      "246                 NaN   NaN                NaN  2.16579            1Na 1K    \n",
      "266                2Na    NaN                NaN      NaN                NaN   \n",
      "276                 NaN   NaN                NaN  1.69106               1Na    \n",
      "299                 NaN   NaN                NaN  2.10196            1Na 2K    \n",
      "304                 NaN   NaN                NaN      NaN                NaN   \n",
      "...                 ...   ...                ...      ...                ...   \n",
      "1119                NaN   NaN                NaN      NaN                NaN   \n",
      "1127                NaN   NaN                NaN      NaN                NaN   \n",
      "1135                NaN   NaN                NaN      NaN                NaN   \n",
      "1150                NaN   NaN                NaN      NaN                NaN   \n",
      "1180                NaN   NaN                NaN      NaN                NaN   \n",
      "\n",
      "     24191  24191_composition 24173  24173_composition  \n",
      "246    NaN                NaN   NaN                NaN  \n",
      "266    NaN                NaN   NaN                NaN  \n",
      "276    NaN                NaN   NaN                NaN  \n",
      "299    NaN                NaN   NaN                NaN  \n",
      "304    NaN                NaN   NaN                NaN  \n",
      "...    ...                ...   ...                ...  \n",
      "1119   NaN                NaN   NaN                NaN  \n",
      "1127   NaN                NaN   NaN                NaN  \n",
      "1135   NaN                NaN   NaN                NaN  \n",
      "1150   NaN                NaN   NaN                NaN  \n",
      "1180   NaN                NaN   NaN                NaN  \n",
      "\n",
      "[63 rows x 23 columns]\n",
      "Top dots:  [24292.1842676698, 24274.2052368544, 24254.2208454054, 24236.2434918012, 24330.1300555193, 24351.1039594815, 24312.1612684312, 24216.2679431014, 24369.0750228925, 24198.27161278]\n",
      "intact  24160.2 hit  [24274.2052368544, 24236.2434918012, 24312.1612684312, 24198.27161278, 24226.2302421683, 24264.1755790212]\n",
      "intact  24159.2 hit  [24159.2907061562]\n",
      "intact  24190.2 hit  [24342.0744110426]\n",
      "df_salts empty\n",
      "df_salts empty\n",
      "intact  24189.2 hit  [24255.2135162077]\n",
      "intact  24176.2 hit  [24274.2052368544, 24236.2434918012, 24312.1612684312, 24198.27161278, 24264.1755790212]\n",
      "df_salts empty\n",
      "intact  24173.2 hit  [24255.2135162077, 24217.2724580376]\n",
      "Sample 3\n",
      "[628.86  46.25  67.37   0.     0.    40.57 591.71   0.    72.47]\n",
      "              Mass        RT        Vol        RA        FA     24160  \\\n",
      "433   24292.184268  3.599543  189489.09  0.073567  0.010618       NaN   \n",
      "435   24274.205237  3.599543  188485.66  0.073177  0.010562  5.705121   \n",
      "466   24254.220845  3.647450  152531.60  0.059218  0.008547       NaN   \n",
      "474   24236.243492  3.599543  148250.42  0.057556  0.008308  5.459053   \n",
      "479   24330.130056  3.647450  143997.55  0.055905  0.008069       NaN   \n",
      "481   24351.103959  3.599543  140413.96  0.054514  0.007868       NaN   \n",
      "497   24312.161268  3.599543  128804.26  0.050007  0.007218  5.714706   \n",
      "560   24216.267943  3.599543  103473.03  0.040172  0.005798       NaN   \n",
      "590   24369.075023  3.599543   93753.20  0.036399  0.005254       NaN   \n",
      "594   24198.271613  3.599543   92468.91  0.035900  0.005182  4.793536   \n",
      "655   24342.074411  3.599543   67374.27  0.026157  0.003775       NaN   \n",
      "719   24387.047643  3.599543   52142.11  0.020244  0.002922       NaN   \n",
      "721   24407.027428  3.599543   51323.35  0.019926  0.002876       NaN   \n",
      "754   24159.290706  3.599543   46252.89  0.017957  0.002592       NaN   \n",
      "765   24283.155859  3.599543   44359.80  0.017222  0.002486       NaN   \n",
      "791   24255.213516  3.554364   40573.45  0.015752  0.002274       NaN   \n",
      "817   24226.230242  3.647450   37143.81  0.014421  0.002081  3.499233   \n",
      "844   24264.175579  3.599543   33702.90  0.013085  0.001889  3.066159   \n",
      "859   24217.272458  3.754395   31892.53  0.012382  0.001787       NaN   \n",
      "874   24361.048515  3.599543   30674.34  0.011909  0.001719       NaN   \n",
      "891   24245.205334  3.647450   28749.14  0.011161  0.001611       NaN   \n",
      "898   24179.313270  3.599543   27831.30  0.010805  0.001560       NaN   \n",
      "901   24388.065863  3.702985   27446.09  0.010656  0.001538       NaN   \n",
      "914   24443.972697  3.647450   26336.91  0.010225  0.001476       NaN   \n",
      "927   24322.113483  3.554364   25169.04  0.009772  0.001410       NaN   \n",
      "1015  24397.009369  3.599543   18003.76  0.006990  0.001009       NaN   \n",
      "1067  24415.983176  3.647450   15455.24  0.006000  0.000866       NaN   \n",
      "1070  24434.962435  3.647450   15322.29  0.005949  0.000859       NaN   \n",
      "1085  24170.296657  3.647450   14212.24  0.005518  0.000796       NaN   \n",
      "1118  24396.008247  3.647450   11875.80  0.004611  0.000665       NaN   \n",
      "1121  24453.935166  3.647450   11654.54  0.004525  0.000653       NaN   \n",
      "1144  24480.968056  3.599543   10550.91  0.004096  0.000591       NaN   \n",
      "\n",
      "     24160_composition     24159 24159_composition     24190  \\\n",
      "433                NaN       NaN               NaN       NaN   \n",
      "435                3K        NaN               NaN       NaN   \n",
      "466                NaN       NaN               NaN       NaN   \n",
      "474                2K        NaN               NaN       NaN   \n",
      "479                NaN       NaN               NaN       NaN   \n",
      "481                NaN       NaN               NaN       NaN   \n",
      "497                4K        NaN               NaN       NaN   \n",
      "560                NaN       NaN               NaN       NaN   \n",
      "590                NaN       NaN               NaN       NaN   \n",
      "594                1K        NaN               NaN       NaN   \n",
      "655                NaN       NaN               NaN  2.117016   \n",
      "719                NaN       NaN               NaN       NaN   \n",
      "721                NaN       NaN               NaN       NaN   \n",
      "754                NaN  3.754518                         NaN   \n",
      "765                NaN       NaN               NaN       NaN   \n",
      "791                NaN       NaN               NaN       NaN   \n",
      "817               3Na        NaN               NaN       NaN   \n",
      "844            3Na 1K        NaN               NaN       NaN   \n",
      "859                NaN       NaN               NaN       NaN   \n",
      "874                NaN       NaN               NaN       NaN   \n",
      "891                NaN       NaN               NaN       NaN   \n",
      "898                NaN       NaN               NaN       NaN   \n",
      "901                NaN       NaN               NaN       NaN   \n",
      "914                NaN       NaN               NaN       NaN   \n",
      "927                NaN       NaN               NaN       NaN   \n",
      "1015               NaN       NaN               NaN       NaN   \n",
      "1067               NaN       NaN               NaN       NaN   \n",
      "1070               NaN       NaN               NaN       NaN   \n",
      "1085               NaN       NaN               NaN       NaN   \n",
      "1118               NaN       NaN               NaN       NaN   \n",
      "1121               NaN       NaN               NaN       NaN   \n",
      "1144               NaN       NaN               NaN       NaN   \n",
      "\n",
      "     24190_composition     24189 24189_composition     24176  \\\n",
      "433                NaN       NaN               NaN       NaN   \n",
      "435                NaN       NaN               NaN  4.621771   \n",
      "466                NaN       NaN               NaN       NaN   \n",
      "474                NaN       NaN               NaN  4.375866   \n",
      "479                NaN       NaN               NaN       NaN   \n",
      "481                NaN       NaN               NaN       NaN   \n",
      "497                NaN       NaN               NaN  4.631349   \n",
      "560                NaN       NaN               NaN       NaN   \n",
      "590                NaN       NaN               NaN       NaN   \n",
      "594                NaN       NaN               NaN  3.710789   \n",
      "655                4K        NaN               NaN       NaN   \n",
      "719                NaN       NaN               NaN       NaN   \n",
      "721                NaN       NaN               NaN       NaN   \n",
      "754                NaN       NaN               NaN       NaN   \n",
      "765                NaN       NaN               NaN       NaN   \n",
      "791                NaN  2.803574              3Na        NaN   \n",
      "817                NaN       NaN               NaN       NaN   \n",
      "844                NaN       NaN               NaN  1.984556   \n",
      "859                NaN       NaN               NaN       NaN   \n",
      "874                NaN       NaN               NaN       NaN   \n",
      "891                NaN       NaN               NaN       NaN   \n",
      "898                NaN       NaN               NaN       NaN   \n",
      "901                NaN       NaN               NaN       NaN   \n",
      "914                NaN       NaN               NaN       NaN   \n",
      "927                NaN       NaN               NaN       NaN   \n",
      "1015               NaN       NaN               NaN       NaN   \n",
      "1067               NaN       NaN               NaN       NaN   \n",
      "1070               NaN       NaN               NaN       NaN   \n",
      "1085               NaN       NaN               NaN       NaN   \n",
      "1118               NaN       NaN               NaN       NaN   \n",
      "1121               NaN       NaN               NaN       NaN   \n",
      "1144               NaN       NaN               NaN       NaN   \n",
      "\n",
      "     24176_composition     24173 24173_composition  \n",
      "433                NaN       NaN               NaN  \n",
      "435            1Na 2K        NaN               NaN  \n",
      "466                NaN       NaN               NaN  \n",
      "474            1Na 1K        NaN               NaN  \n",
      "479                NaN       NaN               NaN  \n",
      "481                NaN       NaN               NaN  \n",
      "497            1Na 3K        NaN               NaN  \n",
      "560                NaN       NaN               NaN  \n",
      "590                NaN       NaN               NaN  \n",
      "594               1Na        NaN               NaN  \n",
      "655                NaN       NaN               NaN  \n",
      "719                NaN       NaN               NaN  \n",
      "721                NaN       NaN               NaN  \n",
      "754                NaN       NaN               NaN  \n",
      "765                NaN       NaN               NaN  \n",
      "791                NaN  3.885138           2Na 1K   \n",
      "817                NaN       NaN               NaN  \n",
      "844               4Na        NaN               NaN  \n",
      "859                NaN  4.494979              2Na   \n",
      "874                NaN       NaN               NaN  \n",
      "891                NaN       NaN               NaN  \n",
      "898                NaN       NaN               NaN  \n",
      "901                NaN       NaN               NaN  \n",
      "914                NaN       NaN               NaN  \n",
      "927                NaN       NaN               NaN  \n",
      "1015               NaN       NaN               NaN  \n",
      "1067               NaN       NaN               NaN  \n",
      "1070               NaN       NaN               NaN  \n",
      "1085               NaN       NaN               NaN  \n",
      "1118               NaN       NaN               NaN  \n",
      "1121               NaN       NaN               NaN  \n",
      "1144               NaN       NaN               NaN  \n",
      "Top dots:  [24159.2248038206, 24235.185824209, 24216.2035445427, 24174.2437452916, 24160.2204470087, 24196.2308616465, 24254.1768253967, 24253.180273813, 24197.2095501028, 24291.1255901832]\n",
      "intact  24160.2 hit  [24160.2204470087]\n"
     ]
    },
    {
     "name": "stdout",
     "output_type": "stream",
     "text": [
      "intact  24159.2 hit  [24159.2248038206, 24235.185824209, 24197.2095501028]\n",
      "intact  24190.2 hit  [24310.0903273357]\n",
      "intact  24175.2 hit  [24235.185824209, 24197.2095501028]\n",
      "intact  24174.2 hit  [24174.2437452916, 24196.2308616465, 24310.0903273357]\n",
      "intact  24189.2 hit  [24277.1370162848]\n",
      "df_salts empty\n",
      "intact  24191.2 hit  [24235.185824209]\n",
      "intact  24173.2 hit  [24277.1370162848, 24195.2402842965]\n",
      "Sample 4\n",
      "[ 24.24 122.62  10.79  66.34  69.11  12.25   0.    46.19  22.39]\n",
      "             Mass         RT       Vol        RA        FA    24160  \\\n",
      "691  24159.224804  19.912606  56283.42  0.006080  0.000668      NaN   \n",
      "712  24235.185824  19.946910  46188.38  0.004990  0.000548      NaN   \n",
      "717  24216.203545  19.946910  44965.98  0.004858  0.000534      NaN   \n",
      "750  24174.243745  19.912606  35231.75  0.003806  0.000418      NaN   \n",
      "795  24160.220447  19.834726  24243.09  0.002619  0.000288  0.84631   \n",
      "805  24196.230862  19.912606  23087.99  0.002494  0.000274      NaN   \n",
      "815  24254.176825  19.912606  21790.71  0.002354  0.000259      NaN   \n",
      "825  24253.180274  19.946910  20452.58  0.002210  0.000243      NaN   \n",
      "827  24197.209550  19.988157  20151.53  0.002177  0.000239      NaN   \n",
      "875  24291.125590  19.912606  14797.61  0.001599  0.000176      NaN   \n",
      "908  24277.137016  19.912606  12249.39  0.001323  0.000145      NaN   \n",
      "909  24184.228285  19.912606  12179.16  0.001316  0.000145      NaN   \n",
      "934  24310.090327  19.912606  10789.00  0.001166  0.000128      NaN   \n",
      "944  24195.240284  19.877395  10136.61  0.001095  0.000120      NaN   \n",
      "\n",
      "    24160_composition     24159 24159_composition     24190  ...     24175  \\\n",
      "691               NaN  1.026682                         NaN  ...       NaN   \n",
      "712               NaN  3.072296               2K        NaN  ...  1.990644   \n",
      "717               NaN       NaN               NaN       NaN  ...       NaN   \n",
      "750               NaN       NaN               NaN       NaN  ...       NaN   \n",
      "795                         NaN               NaN       NaN  ...       NaN   \n",
      "805               NaN       NaN               NaN       NaN  ...       NaN   \n",
      "815               NaN       NaN               NaN       NaN  ...       NaN   \n",
      "825               NaN       NaN               NaN       NaN  ...       NaN   \n",
      "827               NaN  2.224830               1K        NaN  ...  1.143738   \n",
      "875               NaN       NaN               NaN       NaN  ...       NaN   \n",
      "908               NaN       NaN               NaN       NaN  ...       NaN   \n",
      "909               NaN       NaN               NaN       NaN  ...       NaN   \n",
      "934               NaN       NaN               NaN  0.617082  ...       NaN   \n",
      "944               NaN       NaN               NaN       NaN  ...       NaN   \n",
      "\n",
      "     24175_composition     24174  24174_composition     24189  \\\n",
      "691                NaN       NaN                NaN       NaN   \n",
      "712            1Na 1K        NaN                NaN       NaN   \n",
      "717                NaN       NaN                NaN       NaN   \n",
      "750                NaN  1.809586                          NaN   \n",
      "795                NaN       NaN                NaN       NaN   \n",
      "805                NaN  2.025368               1Na        NaN   \n",
      "815                NaN       NaN                NaN       NaN   \n",
      "825                NaN       NaN                NaN       NaN   \n",
      "827               1Na        NaN                NaN       NaN   \n",
      "875                NaN       NaN                NaN       NaN   \n",
      "908                NaN       NaN                NaN  0.389276   \n",
      "909                NaN       NaN                NaN       NaN   \n",
      "934                NaN  1.697154            1Na 3K        NaN   \n",
      "944                NaN       NaN                NaN       NaN   \n",
      "\n",
      "     24189_composition     24191  24191_composition     24173  \\\n",
      "691                NaN       NaN                NaN       NaN   \n",
      "712                NaN  0.910422               2Na        NaN   \n",
      "717                NaN       NaN                NaN       NaN   \n",
      "750                NaN       NaN                NaN       NaN   \n",
      "795                NaN       NaN                NaN       NaN   \n",
      "805                NaN       NaN                NaN       NaN   \n",
      "815                NaN       NaN                NaN       NaN   \n",
      "825                NaN       NaN                NaN       NaN   \n",
      "827                NaN       NaN                NaN       NaN   \n",
      "875                NaN       NaN                NaN       NaN   \n",
      "908               4Na        NaN                NaN  1.469242   \n",
      "909                NaN       NaN                NaN       NaN   \n",
      "934                NaN       NaN                NaN       NaN   \n",
      "944                NaN       NaN                NaN  2.415249   \n",
      "\n",
      "     24173_composition  \n",
      "691                NaN  \n",
      "712                NaN  \n",
      "717                NaN  \n",
      "750                NaN  \n",
      "795                NaN  \n",
      "805                NaN  \n",
      "815                NaN  \n",
      "825                NaN  \n",
      "827                NaN  \n",
      "875                NaN  \n",
      "908            3Na 1K   \n",
      "909                NaN  \n",
      "934                NaN  \n",
      "944               1Na   \n",
      "\n",
      "[14 rows x 21 columns]\n",
      "Top dots:  [24235.1883378564, 24197.222381048, 24159.2170129333, 24217.2004611028, 24180.2507386676, 24274.1393337939, 24255.160409434, 24246.135005563, 24208.1812069117, 24226.1629091496]\n",
      "intact  24160.2 hit  [24274.1393337939, 24226.1629091496, 24264.1307852322, 24296.138290697]\n",
      "intact  24159.2 hit  [24235.1883378564, 24197.222381048, 24159.2170129333, 24181.2462577581, 24225.162456919, 24257.1499272929, 24247.1309860544]\n",
      "intact  24190.2 hit  [24266.1119735198, 24326.0555598111]\n",
      "intact  24175.2 hit  [24235.1883378564, 24197.222381048, 24257.1499272929]\n",
      "intact  24174.2 hit  [24174.2369027857, 24326.0555598111]\n",
      "intact  24189.2 hit  [24255.160409434, 24265.1141728076, 24325.1037183428]\n",
      "intact  24176.2 hit  [24274.1393337939, 24264.1307852322, 24296.138290697]\n",
      "intact  24191.2 hit  [24235.1883378564, 24257.1499272929]\n",
      "intact  24173.2 hit  [24217.2004611028, 24255.160409434, 24325.1037183428]\n",
      "Sample 5\n",
      "[1670.06 7468.15  231.07 4651.75  103.04 1315.48 1041.87 2401.95 2605.63]\n",
      "              Mass         RT         Vol        RA        FA  24160  \\\n",
      "159   24235.188338  19.934529  2384660.13  0.262540  0.044440    NaN   \n",
      "166   24197.222381  19.934529  2249797.61  0.247692  0.041927    NaN   \n",
      "172   24159.217013  19.934529  2058606.29  0.226643  0.038364    NaN   \n",
      "181   24217.200461  19.934529  1798840.89  0.198044  0.033523    NaN   \n",
      "230   24180.250739  19.934529  1067814.74  0.117561  0.019899    NaN   \n",
      "...            ...        ...         ...       ...       ...    ...   \n",
      "1710  24396.010262  19.934529    11929.01  0.001313  0.000222    NaN   \n",
      "1716  24247.130986  19.764540    11855.82  0.001305  0.000221    NaN   \n",
      "1741  24419.995191  19.890389    11457.53  0.001261  0.000214    NaN   \n",
      "1777  24409.004732  19.934529    10958.30  0.001206  0.000204    NaN   \n",
      "1822  24043.112599  19.805188    10465.72  0.001152  0.000195    NaN   \n",
      "\n",
      "     24160_composition     24159 24159_composition  24190  ... 24174  \\\n",
      "159                NaN  3.176341               2K     NaN  ...   NaN   \n",
      "166                NaN  2.755929               1K     NaN  ...   NaN   \n",
      "172                NaN  0.704201                      NaN  ...   NaN   \n",
      "181                NaN       NaN               NaN    NaN  ...   NaN   \n",
      "230                NaN       NaN               NaN    NaN  ...   NaN   \n",
      "...                ...       ...               ...    ...  ...   ...   \n",
      "1710               NaN       NaN               NaN    NaN  ...   NaN   \n",
      "1716               NaN  0.140156              4Na     NaN  ...   NaN   \n",
      "1741               NaN       NaN               NaN    NaN  ...   NaN   \n",
      "1777               NaN       NaN               NaN    NaN  ...   NaN   \n",
      "1822               NaN       NaN               NaN    NaN  ...   NaN   \n",
      "\n",
      "      24174_composition 24189  24189_composition 24176  24176_composition  \\\n",
      "159                 NaN   NaN                NaN   NaN                NaN   \n",
      "166                 NaN   NaN                NaN   NaN                NaN   \n",
      "172                 NaN   NaN                NaN   NaN                NaN   \n",
      "181                 NaN   NaN                NaN   NaN                NaN   \n",
      "230                 NaN   NaN                NaN   NaN                NaN   \n",
      "...                 ...   ...                ...   ...                ...   \n",
      "1710                NaN   NaN                NaN   NaN                NaN   \n",
      "1716                NaN   NaN                NaN   NaN                NaN   \n",
      "1741                NaN   NaN                NaN   NaN                NaN   \n",
      "1777                NaN   NaN                NaN   NaN                NaN   \n",
      "1822                NaN   NaN                NaN   NaN                NaN   \n",
      "\n",
      "        24191  24191_composition     24173  24173_composition  \n",
      "159   1.01433               2Na        NaN                NaN  \n",
      "166       NaN                NaN       NaN                NaN  \n",
      "172       NaN                NaN       NaN                NaN  \n",
      "181       NaN                NaN  1.516601               2Na   \n",
      "230       NaN                NaN       NaN                NaN  \n",
      "...       ...                ...       ...                ...  \n",
      "1710      NaN                NaN       NaN                NaN  \n",
      "1716      NaN                NaN       NaN                NaN  \n",
      "1741      NaN                NaN       NaN                NaN  \n",
      "1777      NaN                NaN       NaN                NaN  \n",
      "1822      NaN                NaN       NaN                NaN  \n",
      "\n",
      "[63 rows x 23 columns]\n"
     ]
    },
    {
     "name": "stdout",
     "output_type": "stream",
     "text": [
      "   Group_24160  Group_24159  Group_24190  Group_24175  Group_24174  \\\n",
      "0       231.19       228.09       258.02       164.50       194.55   \n",
      "1       225.72       185.63        85.59       246.08       163.45   \n",
      "2      3250.92      3293.09       851.16      1808.89      1434.70   \n",
      "3       628.86        46.25        67.37         0.00         0.00   \n",
      "4        24.24       122.62        10.79        66.34        69.11   \n",
      "5      1670.06      7468.15       231.07      4651.75       103.04   \n",
      "\n",
      "   Group_24189  Group_24176  Group_24191  Group_24173  \n",
      "0       260.69       231.19       164.50       272.60  \n",
      "1         0.00       131.82       100.40        50.95  \n",
      "2       362.57      2801.25      1121.93        20.41  \n",
      "3        40.57       591.71         0.00        72.47  \n",
      "4        12.25         0.00        46.19        22.39  \n",
      "5      1315.48      1041.87      2401.95      2605.63  \n"
     ]
    }
   ],
   "source": [
    "ppm = 10\n",
    "limit = 4\n",
    "%run ../modules/preprocessing.ipynb\n",
    "\n",
    "df_samples = [df1, df13, df13_2, df7, df19, df19_2]\n",
    "sample_names = ['1', '13', '13_2', '7', '19', '19_2']\n",
    "intacts = [24160.2, 24159.2, 24190.2, 24175.2, 24174.2, 24189.2, 24176.2, 24191.2, 24173.2]\n",
    "# df_samples = [df2, df14, df8, df20]\n",
    "# intacts = [24146, 24132, 24145, 24131, 24160, 24147, 24176]\n",
    "\n",
    "intacts = np.array(intacts)\n",
    "cols = [f'Group_{int(intact)}' for intact in intacts]\n",
    "# intacts += 146.1 - H2O # Amino Acid Gln\n",
    "df_result = pd.DataFrame(columns=cols)\n",
    "for idx, df_sample in enumerate(df_samples):\n",
    "#     df_sample = df.copy()\n",
    "#     df_sample.Mass -= 146.1 - H2O\n",
    "    df_24k = df_sample[(df_sample.Mass>24000)&(df_sample.Mass<25000)&(df_sample.Vol>1E4)]\n",
    "    df_24k = df_24k.sort_values('Vol', ascending=False)#.iloc[:50].copy()\n",
    "    print('Top dots: ', df_24k.iloc[:10].Mass.tolist())\n",
    "    df_count = df_24k.copy()\n",
    "    df_count['cnt'] = 0\n",
    "    df_founds = list()\n",
    "    for intact in intacts:\n",
    "#         intact += 146.1 - 18.0106 # amino acid glu\n",
    "        df_found = detect_combined_salts(df_24k, intact, limit=limit, ppm=ppm)\n",
    "        df_founds.append(df_found)\n",
    "        \n",
    "#         print(df_found.shape, df_count.shape)\n",
    "        if not df_found.empty:\n",
    "            df_found = df_found.sort_values('Vol', ascending=False)\n",
    "            print('intact ', intact, 'hit ', df_found.Mass.unique().tolist()) #\n",
    "#         df_count.loc[df_found.index, 'cnt'] += 1\n",
    "#     print(df_count.sort_values('Vol', ascending=False))\n",
    "#     print(df_founds)\n",
    "    print(f'Sample {idx}')\n",
    "    l = [df.Vol.sum()/1E3 for df in df_founds]\n",
    "    l = np.round(l, 2)\n",
    "    df_result.loc[idx] = l\n",
    "    print(l)\n",
    "    print(df_24k)\n",
    "    df_24k.to_excel('~/Downloads/gln_adducts_#{}.xlsx'.format(sample_names[idx]))\n",
    "\n",
    "print(df_result)"
   ]
  },
  {
   "cell_type": "code",
   "execution_count": 643,
   "id": "parallel-isolation",
   "metadata": {},
   "outputs": [],
   "source": [
    "df_result.to_excel('~/Downloads/Gln_Wildtype.xlsx')\n",
    "# df_result.to_excel('~/Downloads/Gln_AlkB.xlsx')"
   ]
  },
  {
   "cell_type": "code",
   "execution_count": 447,
   "id": "current-practice",
   "metadata": {},
   "outputs": [
    {
     "data": {
      "text/plain": [
       "24182.054423"
      ]
     },
     "execution_count": 447,
     "metadata": {},
     "output_type": "execute_result"
    }
   ],
   "source": [
    "24310.143823 - 146.1 + H2O"
   ]
  },
  {
   "cell_type": "code",
   "execution_count": 448,
   "id": "announced-contribution",
   "metadata": {},
   "outputs": [
    {
     "data": {
      "text/plain": [
       "24203.061075"
      ]
     },
     "execution_count": 448,
     "metadata": {},
     "output_type": "execute_result"
    }
   ],
   "source": [
    "24331.150475 - 146.1 + H2O"
   ]
  },
  {
   "cell_type": "code",
   "execution_count": 449,
   "id": "median-junior",
   "metadata": {},
   "outputs": [
    {
     "data": {
      "text/plain": [
       "43.86107500000071"
      ]
     },
     "execution_count": 449,
     "metadata": {},
     "output_type": "execute_result"
    }
   ],
   "source": [
    "24203.061075 - 24159.2"
   ]
  },
  {
   "cell_type": "code",
   "execution_count": 450,
   "id": "collected-bridge",
   "metadata": {},
   "outputs": [
    {
     "data": {
      "text/plain": [
       "1041.28997"
      ]
     },
     "execution_count": 450,
     "metadata": {},
     "output_type": "execute_result"
    }
   ],
   "source": [
    "877.17937 + 146.1 + H2O"
   ]
  },
  {
   "cell_type": "code",
   "execution_count": null,
   "id": "theoretical-improvement",
   "metadata": {},
   "outputs": [],
   "source": []
  }
 ],
 "metadata": {
  "kernelspec": {
   "display_name": "Python 3",
   "language": "python",
   "name": "python3"
  },
  "language_info": {
   "codemirror_mode": {
    "name": "ipython",
    "version": 3
   },
   "file_extension": ".py",
   "mimetype": "text/x-python",
   "name": "python",
   "nbconvert_exporter": "python",
   "pygments_lexer": "ipython3",
   "version": "3.7.3"
  }
 },
 "nbformat": 4,
 "nbformat_minor": 5
}
