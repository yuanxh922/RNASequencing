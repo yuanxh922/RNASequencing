{
 "cells": [
  {
   "cell_type": "code",
   "execution_count": null,
   "id": "approximate-grave",
   "metadata": {},
   "outputs": [],
   "source": [
    "import pandas as pd\n",
    "import matplotlib"
   ]
  },
  {
   "cell_type": "code",
   "execution_count": null,
   "id": "female-preservation",
   "metadata": {},
   "outputs": [],
   "source": [
    "%run data.ipynb\n",
    "%run ../modules/preprocessing.ipynb\n",
    "%run ../modules/cds.ipynb\n",
    "%run ../modules/utils.ipynb"
   ]
  },
  {
   "cell_type": "code",
   "execution_count": null,
   "id": "broad-islam",
   "metadata": {},
   "outputs": [],
   "source": []
  },
  {
   "cell_type": "code",
   "execution_count": null,
   "id": "closing-smoke",
   "metadata": {},
   "outputs": [],
   "source": [
    "path = \"/Users/bryan/Documents/ChenLab/DataYue/\"\n",
    "\"\"\"\n",
    "A_Gln:\n",
    "DrChen_tRNA_A_Gln.xlsx\t\t\tDrChen_tRNA_A_Gln_FA.xlsx\n",
    "DrChen_tRNA_A_Gln_A.xlsx\t\tDrChen_tRNA_A_Gln_FA_13_Batch2.xlsx\n",
    "DrChen_tRNA_A_Gln_A_FA.xlsx\n",
    "\n",
    "B_Gln:\n",
    "7_B_Gln.xlsx\t\t\t\tDrChen_tRNA_B_Gln_A_FA_20_Batch2.xlsx\n",
    "8_B_Gln_A.xlsx\t\t\t\tDrChen_tRNA_B_Gln_FA.xlsx\n",
    "B_Gln_Summary.docx\t\t\tDrChen_tRNA_B_Gln_FA_19_Batch2.xlsx\n",
    "DrChen_tRNA_B_Gln_A_FA.xlsx\n",
    "\"\"\"\n",
    "df1 = pd.read_excel('{}/{}/{}.xlsx'.format(path,'A_Gln', 'DrChen_tRNA_A_Gln'))\n",
    "df2 = pd.read_excel('{}/{}/{}.xlsx'.format(path,'A_Gln', 'DrChen_tRNA_A_Gln_A'))\n",
    "df13 = pd.read_excel('{}/{}/{}.xlsx'.format(path,'A_Gln', 'DrChen_tRNA_A_Gln_FA'))\n",
    "df13_2 = pd.read_excel('{}/{}/{}.xlsx'.format(path,'A_Gln', 'DrChen_tRNA_A_Gln_FA_13_Batch2'))\n",
    "df14 = pd.read_excel('{}/{}/{}.xlsx'.format(path,'A_Gln', 'DrChen_tRNA_A_Gln_A_FA'))\n",
    "\n",
    "df7 = pd.read_excel('{}/{}/{}.xlsx'.format(path,'B_Gln', '7_B_Gln'))\n",
    "df8 = pd.read_excel('{}/{}/{}.xlsx'.format(path,'B_Gln', '8_B_Gln_A'))\n",
    "df19 = pd.read_excel('{}/{}/{}.xlsx'.format(path,'B_Gln', 'DrChen_tRNA_B_Gln_FA'))\n",
    "df19_2 = pd.read_excel('{}/{}/{}.xlsx'.format(path,'B_Gln', 'DrChen_tRNA_B_Gln_FA_19_Batch2'))\n",
    "df20 = pd.read_excel('{}/{}/{}.xlsx'.format(path,'B_Gln', 'DrChen_tRNA_B_Gln_A_FA'))\n",
    "df20_2 = pd.read_excel('{}/{}/{}.xlsx'.format(path,'B_Gln', 'DrChen_tRNA_B_Gln_A_FA_20_Batch2'))\n",
    "\n",
    "df1 = thermo_df(df1)\n",
    "df2 = thermo_df(df2)\n",
    "df13 = thermo_df(df13)\n",
    "df13_2 = thermo_df(df13_2)\n",
    "df14 = thermo_df(df14)\n",
    "\n",
    "df7 = thermo_df(df7)\n",
    "df8 = thermo_df(df8)\n",
    "df19 = thermo_df(df19)\n",
    "df19_2 = thermo_df(df19_2)\n",
    "df20 = thermo_df(df20)\n",
    "df20_2 = thermo_df(df20_2)"
   ]
  },
  {
   "cell_type": "code",
   "execution_count": null,
   "id": "paperback-suspect",
   "metadata": {},
   "outputs": [],
   "source": [
    "df_sample = df1\n",
    "df_24k = df_sample[(df_sample.Mass>24000)&(df_sample.Mass<25000)&(df_sample.Vol>1E4)]\n",
    "df_24k = df_24k.sort_values('Vol', ascending=False)#.iloc[:20]\n",
    "# df_24k.to_excel('~/Downloads/gln_s1_24k_top.xlsx')\n",
    "plotly_zone(df_24k, y='Vol')\n",
    "df_24k.shape\n",
    "# df_24k.groupby('RT').sum()"
   ]
  },
  {
   "cell_type": "code",
   "execution_count": null,
   "id": "invalid-point",
   "metadata": {},
   "outputs": [],
   "source": [
    "amino = 140.1 - H2O\n",
    "ppm = 10\n",
    "\n",
    "dfa = detect_combined_salts(df_24k, 24146.13, 6, ppm=ppm)\n",
    "plotly_zones(df_24k, dfa, y='Vol', names=['DataSource', '24160+Adducts'])\n",
    "dfb = detect_combined_salts(df_24k, 24183.09, 6, ppm=ppm)\n",
    "plotly_zones(df_24k, dfb, y='Vol', names=['DataSource', '24159+Adducts'])\n",
    "# dfc = detect_combined_salts(df_24k, 24176.2, 6, ppm=ppm)\n",
    "# plotly_zones(df_24k, dfc, y='Vol', names=['DataSource', '24176+Adducts'])\n",
    "\n",
    "print('Top dots: ', df_24k.iloc[:10].Mass.tolist())\n",
    "mass_hits = [(24160.2, dfa), (24159.2, dfb), (24176.2, dfc)]\n",
    "for mass, df_found in mass_hits:\n",
    "    if not df_found.empty:\n",
    "        df_found = df_found.sort_values('Vol', ascending=False)\n",
    "        print('intact ', mass, 'hit ', df_found.Mass.tolist())\n",
    "# dfa = detect_combined_salts(df_24k, 24146.2 + amino, 30)\n",
    "# plotly_zones(df_24k, dfa, y='Vol', names=['DataSource', '24146+Adducts'])\n",
    "\n",
    "# dfb = detect_combined_salts(df_24k, 24146.2, 30)\n",
    "# plotly_zones(df_24k, dfb, y='Vol', names=['DataSource', '24160+Adducts'])\n",
    "# dfm1 = match_dfs(dfa, dfb)\n",
    "# dfm2 = match_dfs(dfb, dfa)\n",
    "# plotly_zone(dfm, y='Vol')\n",
    "\n",
    "# print(dfa.shape, \n",
    "#         dfa.Vol.sum()/1E3, \n",
    "#       dfb.shape, \n",
    "#       dfb.Vol.sum()/1E3, \n",
    "#      dfc.shape,\n",
    "#      dfc.Vol.sum()/1E3\n",
    "#      )"
   ]
  },
  {
   "cell_type": "code",
   "execution_count": null,
   "id": "bibliographic-basement",
   "metadata": {},
   "outputs": [],
   "source": [
    "# df_top = df_24k.sort_values('Vol', ascending=False).iloc[:10].copy()\n",
    "# df_top['Mass2'] = df_top.Mass - 128.09\n",
    "# df_top\n",
    "plotly_zone(df1)"
   ]
  },
  {
   "cell_type": "code",
   "execution_count": null,
   "id": "hungry-while",
   "metadata": {},
   "outputs": [],
   "source": [
    "ppm = 10\n",
    "limit = 4\n",
    "%run ../modules/preprocessing.ipynb\n",
    "\n",
    "df_samples = [df1, df13, df13_2, df7, df19, df19_2]\n",
    "sample_names = ['1', '13', '13_2', '7', '19', '19_2']\n",
    "intacts = [24160.2, 24159.2, 24190.2, 24175.2, 24174.2, 24189.2, 24176.2, 24191.2, 24173.2]\n",
    "# df_samples = [df2, df14, df8, df20]\n",
    "# intacts = [24146, 24132, 24145, 24131, 24160, 24147, 24176]\n",
    "\n",
    "intacts = np.array(intacts)\n",
    "cols = [f'Group_{int(intact)}' for intact in intacts]\n",
    "# intacts += 146.1 - H2O # Amino Acid Gln\n",
    "df_result = pd.DataFrame(columns=cols)\n",
    "for idx, df_sample in enumerate(df_samples):\n",
    "#     df_sample = df.copy()\n",
    "#     df_sample.Mass -= 146.1 - H2O\n",
    "    df_24k = df_sample[(df_sample.Mass>24000)&(df_sample.Mass<25000)&(df_sample.Vol>1E4)]\n",
    "    df_24k = df_24k.sort_values('Vol', ascending=False)#.iloc[:50].copy()\n",
    "    print('Top dots: ', df_24k.iloc[:10].Mass.tolist())\n",
    "    df_count = df_24k.copy()\n",
    "    df_count['cnt'] = 0\n",
    "    df_founds = list()\n",
    "    for intact in intacts:\n",
    "#         intact += 146.1 - 18.0106 # amino acid glu\n",
    "        df_found = detect_combined_salts(df_24k, intact, limit=limit, ppm=ppm)\n",
    "        df_founds.append(df_found)\n",
    "        \n",
    "#         print(df_found.shape, df_count.shape)\n",
    "        if not df_found.empty:\n",
    "            df_found = df_found.sort_values('Vol', ascending=False)\n",
    "            print('intact ', intact, 'hit ', df_found.Mass.unique().tolist()) #\n",
    "#         df_count.loc[df_found.index, 'cnt'] += 1\n",
    "#     print(df_count.sort_values('Vol', ascending=False))\n",
    "#     print(df_founds)\n",
    "    print(f'Sample {idx}')\n",
    "    l = [df.Vol.sum()/1E3 for df in df_founds]\n",
    "    l = np.round(l, 2)\n",
    "    df_result.loc[idx] = l\n",
    "    print(l)\n",
    "    print(df_24k)\n",
    "    df_24k.to_excel('~/Downloads/gln_adducts_#{}.xlsx'.format(sample_names[idx]))\n",
    "\n",
    "print(df_result)"
   ]
  },
  {
   "cell_type": "code",
   "execution_count": null,
   "id": "parallel-isolation",
   "metadata": {},
   "outputs": [],
   "source": [
    "df_result.to_excel('~/Downloads/Gln_Wildtype.xlsx')\n",
    "# df_result.to_excel('~/Downloads/Gln_AlkB.xlsx')"
   ]
  },
  {
   "cell_type": "code",
   "execution_count": null,
   "id": "current-practice",
   "metadata": {},
   "outputs": [],
   "source": [
    "24310.143823 - 146.1 + H2O"
   ]
  },
  {
   "cell_type": "code",
   "execution_count": null,
   "id": "announced-contribution",
   "metadata": {},
   "outputs": [],
   "source": [
    "24331.150475 - 146.1 + H2O"
   ]
  },
  {
   "cell_type": "code",
   "execution_count": null,
   "id": "median-junior",
   "metadata": {},
   "outputs": [],
   "source": [
    "24203.061075 - 24159.2"
   ]
  },
  {
   "cell_type": "code",
   "execution_count": null,
   "id": "collected-bridge",
   "metadata": {},
   "outputs": [],
   "source": [
    "877.17937 + 146.1 + H2O"
   ]
  },
  {
   "cell_type": "code",
   "execution_count": null,
   "id": "theoretical-improvement",
   "metadata": {},
   "outputs": [],
   "source": []
  }
 ],
 "metadata": {
  "kernelspec": {
   "display_name": "Python 3",
   "language": "python",
   "name": "python3"
  },
  "language_info": {
   "codemirror_mode": {
    "name": "ipython",
    "version": 3
   },
   "file_extension": ".py",
   "mimetype": "text/x-python",
   "name": "python",
   "nbconvert_exporter": "python",
   "pygments_lexer": "ipython3",
   "version": "3.7.3"
  }
 },
 "nbformat": 4,
 "nbformat_minor": 5
}
