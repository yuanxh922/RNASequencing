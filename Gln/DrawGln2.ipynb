{
 "cells": [
  {
   "cell_type": "code",
   "execution_count": null,
   "id": "suffering-asthma",
   "metadata": {},
   "outputs": [],
   "source": [
    "import pandas as pd\n",
    "import plotly.express as px\n",
    "import matplotlib\n",
    "import matplotlib.pyplot as plt"
   ]
  },
  {
   "cell_type": "code",
   "execution_count": null,
   "id": "historic-flavor",
   "metadata": {},
   "outputs": [],
   "source": [
    "%run data.ipynb\n",
    "%run ../modules/utils.ipynb\n",
    "%run ../modules/preprocessing.ipynb\n",
    "%run ../modules/cds.ipynb"
   ]
  },
  {
   "cell_type": "code",
   "execution_count": null,
   "id": "proper-victorian",
   "metadata": {},
   "outputs": [],
   "source": [
    "f = '~/Documents/BioPharmaFinder/ZhangLab/Data/Excels/tRNA_Phe_0724.xlsx'\n",
    "df = pd.read_excel(f)\n",
    "df_phe = thermo_df(df)\n",
    "df_wild = pd.read_excel('~/Downloads/glu_isoforms.xlsx', 'Phe')\n",
    "dfm = match_dfs(df_wild, df_phe)\n",
    "plotly_zone(dfm)\n",
    "dfm['Ratio'] = dfm.Vol/dfm.Vol.sum()\n",
    "dfm"
   ]
  },
  {
   "cell_type": "code",
   "execution_count": null,
   "id": "fourth-horse",
   "metadata": {},
   "outputs": [],
   "source": [
    "df_wild = pd.read_excel('~/Downloads/glu_isoforms.xlsx', 'Phe')\n",
    "plotly_zone(df_wild, y='Vol')\n",
    "fig = plt.figure(figsize=(5, 3))\n",
    "plt.scatter(df_wild.Mass, df_wild.Vol/df_wild.Vol.max(), s=100, label='Mean')\n",
    "plt.legend()\n",
    "\n",
    "fig.tight_layout()\n",
    "plt.savefig('/Users/bryan/Downloads/phe_intact.svg', transparent=True, dpi=300)"
   ]
  },
  {
   "cell_type": "code",
   "execution_count": null,
   "id": "piano-latter",
   "metadata": {},
   "outputs": [],
   "source": []
  }
 ],
 "metadata": {
  "kernelspec": {
   "display_name": "Python 3",
   "language": "python",
   "name": "python3"
  },
  "language_info": {
   "codemirror_mode": {
    "name": "ipython",
    "version": 3
   },
   "file_extension": ".py",
   "mimetype": "text/x-python",
   "name": "python",
   "nbconvert_exporter": "python",
   "pygments_lexer": "ipython3",
   "version": "3.7.3"
  }
 },
 "nbformat": 4,
 "nbformat_minor": 5
}
