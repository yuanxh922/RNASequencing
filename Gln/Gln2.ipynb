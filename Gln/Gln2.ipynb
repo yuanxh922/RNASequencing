{
 "cells": [
  {
   "cell_type": "code",
   "execution_count": null,
   "id": "labeled-sweet",
   "metadata": {},
   "outputs": [],
   "source": [
    "import pandas as pd\n",
    "import matplotlib"
   ]
  },
  {
   "cell_type": "code",
   "execution_count": null,
   "id": "occasional-hamburg",
   "metadata": {},
   "outputs": [],
   "source": [
    "%run data.ipynb\n",
    "%run ../modules/preprocessing.ipynb\n",
    "%run ../modules/cds.ipynb\n",
    "%run ../modules/utils.ipynb"
   ]
  },
  {
   "cell_type": "code",
   "execution_count": null,
   "id": "constitutional-possession",
   "metadata": {},
   "outputs": [],
   "source": [
    "df1 = load_uc2(1, intact=True)\n",
    "df2 = load_uc2(2, intact=True)\n",
    "df7 = load_uc2(7, intact=True)\n",
    "df8 = load_uc2(8, intact=True)"
   ]
  },
  {
   "cell_type": "code",
   "execution_count": null,
   "id": "still-reasoning",
   "metadata": {},
   "outputs": [],
   "source": [
    "\n",
    "df13 = pd.read_excel('/Users/bryan/Documents/ChenLab/10Jun2021/degraded/DrChen_tRNA_A_Gln_FA_13.xlsx')\n",
    "df13 = thermo_df(df13)\n",
    "\n",
    "# df13 = load_uc2(13)\n",
    "df14 = load_uc2(14)\n",
    "\n",
    "df19 = pd.read_excel('/Users/bryan/Downloads/drive-download-20210809T144630Z-001/DrChen_tRNA_B_Gln_FA_19_Batch2.xlsx')\n",
    "df19 = thermo_df(df19)\n",
    "# df19 = load_uc2(19)\n",
    "df20 = pd.read_excel('/Users/bryan/Downloads/drive-download-20210809T144630Z-001/DrChen_tRNA_B_Gln_A_FA_20_Batch2.xlsx')\n",
    "df20 = thermo_df(df20)\n",
    "# df20 = load_uc2(20)\n",
    "df13.shape, df14.shape, df19.shape, df20.shape"
   ]
  },
  {
   "cell_type": "code",
   "execution_count": null,
   "id": "partial-remainder",
   "metadata": {},
   "outputs": [],
   "source": [
    "path = \"/Users/bryan/Documents/ChenLab/DataYue/\"\n",
    "\"\"\"\n",
    "A_Gln:\n",
    "DrChen_tRNA_A_Gln.xlsx\t\t\tDrChen_tRNA_A_Gln_FA.xlsx\n",
    "DrChen_tRNA_A_Gln_A.xlsx\t\tDrChen_tRNA_A_Gln_FA_13_Batch2.xlsx\n",
    "DrChen_tRNA_A_Gln_A_FA.xlsx\n",
    "\n",
    "B_Gln:\n",
    "7_B_Gln.xlsx\t\t\t\tDrChen_tRNA_B_Gln_A_FA_20_Batch2.xlsx\n",
    "8_B_Gln_A.xlsx\t\t\t\tDrChen_tRNA_B_Gln_FA.xlsx\n",
    "B_Gln_Summary.docx\t\t\tDrChen_tRNA_B_Gln_FA_19_Batch2.xlsx\n",
    "DrChen_tRNA_B_Gln_A_FA.xlsx\n",
    "\"\"\"\n",
    "df1 = pd.read_excel('{}/{}/{}.xlsx'.format(path,'A_Gln', 'DrChen_tRNA_A_Gln'))\n",
    "df2 = pd.read_excel('{}/{}/{}.xlsx'.format(path,'A_Gln', 'DrChen_tRNA_A_Gln_A'))\n",
    "df13 = pd.read_excel('{}/{}/{}.xlsx'.format(path,'A_Gln', 'DrChen_tRNA_A_Gln_FA'))\n",
    "df13_2 = pd.read_excel('{}/{}/{}.xlsx'.format(path,'A_Gln', 'DrChen_tRNA_A_Gln_FA_13_Batch2'))\n",
    "df14 = pd.read_excel('{}/{}/{}.xlsx'.format(path,'A_Gln', 'DrChen_tRNA_A_Gln_A_FA'))\n",
    "\n",
    "df7 = pd.read_excel('{}/{}/{}.xlsx'.format(path,'B_Gln', '7_B_Gln'))\n",
    "df8 = pd.read_excel('{}/{}/{}.xlsx'.format(path,'B_Gln', '8_B_Gln_A'))\n",
    "df19 = pd.read_excel('{}/{}/{}.xlsx'.format(path,'B_Gln', 'DrChen_tRNA_B_Gln_FA'))\n",
    "df19_2 = pd.read_excel('{}/{}/{}.xlsx'.format(path,'B_Gln', 'DrChen_tRNA_B_Gln_FA_19_Batch2'))\n",
    "df20 = pd.read_excel('{}/{}/{}.xlsx'.format(path,'B_Gln', 'DrChen_tRNA_B_Gln_A_FA'))\n",
    "df20_2 = pd.read_excel('{}/{}/{}.xlsx'.format(path,'B_Gln', 'DrChen_tRNA_B_Gln_A_FA_20_Batch2'))\n",
    "\n",
    "df1 = thermo_df(df1)\n",
    "df2 = thermo_df(df2)\n",
    "df13 = thermo_df(df13)\n",
    "df13_2 = thermo_df(df13_2)\n",
    "df14 = thermo_df(df14)\n",
    "\n",
    "df7 = thermo_df(df7)\n",
    "df8 = thermo_df(df8)\n",
    "df19 = thermo_df(df19)\n",
    "df19_2 = thermo_df(df19_2)\n",
    "df20 = thermo_df(df20)\n",
    "df20_2 = thermo_df(df20_2)"
   ]
  },
  {
   "cell_type": "code",
   "execution_count": null,
   "id": "authentic-guest",
   "metadata": {},
   "outputs": [],
   "source": [
    "df_sample = df19_2\n",
    "# df_top = df_sample[(df_sample.Mass>24000)&(df_sample.Mass<25000)&(df_sample.RT>1)]#.sort_values('Vol', ascending=False).iloc[:30]\n",
    "plotly_zone(df_sample)\n",
    "# plotly_zone(df_top, y='Vol')\n",
    "# plotly_zone(df_top, y='RT')\n",
    "# df_top"
   ]
  },
  {
   "cell_type": "code",
   "execution_count": null,
   "id": "sublime-adaptation",
   "metadata": {},
   "outputs": [],
   "source": [
    "# \n",
    "# Choose dots\n",
    "\n",
    "idxs = list()\n",
    "# create our callback function\n",
    "def on_selection(trace, points, selector):\n",
    "    print('points {}'.format(points.point_inds) )\n",
    "    idxs.extend(points.point_inds)\n",
    "\n",
    "def on_click(trace, points, selector):\n",
    "#     print('points {}'.format(points.point_inds) )\n",
    "    idxs.extend(points.point_inds)\n",
    "\n",
    "df_sample = df19\n",
    "f = zone_selection(df_sample, on_selection=on_selection, on_click=on_click)\n",
    "f"
   ]
  },
  {
   "cell_type": "code",
   "execution_count": null,
   "id": "verbal-shirt",
   "metadata": {},
   "outputs": [],
   "source": [
    "df_chosen = df_sample.iloc[idxs]\n",
    "# df_zone = df_sample.drop(df_chosen.index)\n",
    "df_chosen.shape"
   ]
  },
  {
   "cell_type": "code",
   "execution_count": null,
   "id": "matched-crisis",
   "metadata": {},
   "outputs": [],
   "source": [
    "df_top = df_chosen.sort_values('Vol', ascending=False).iloc[:300]\n",
    "plotly_zone(df_top)"
   ]
  },
  {
   "cell_type": "code",
   "execution_count": null,
   "id": "formed-mozambique",
   "metadata": {},
   "outputs": [],
   "source": [
    "bcr = base_calling_random(df_top)\n",
    "plotly_basecalling(*bcr)\n",
    "len(bcr[1])"
   ]
  },
  {
   "cell_type": "code",
   "execution_count": null,
   "id": "beautiful-hopkins",
   "metadata": {},
   "outputs": [],
   "source": [
    "top_list = list(range(1, 30))\n",
    "count_list = list()\n",
    "for top in top_list:\n",
    "    df_top = local_top(df_sample, top=top)\n",
    "    bcr = base_calling_random(df_top)\n",
    "    count_list.append(len(bcr[1]))\n",
    "\n",
    "print(top_list, count_list)\n",
    "fig = plt.figure(figsize=(3, 2))\n",
    "plt.scatter(x=top_list, y=count_list)\n",
    "fig.tight_layout()\n",
    "svg_name = 'basecalling_count_gln_19_high'\n",
    "fpath = f'/Users/bryan/Downloads/{svg_name}.svg'\n",
    "plt.savefig(fpath, dpi=600, transparent=True)"
   ]
  },
  {
   "cell_type": "code",
   "execution_count": null,
   "id": "divine-insider",
   "metadata": {},
   "outputs": [],
   "source": []
  },
  {
   "cell_type": "code",
   "execution_count": null,
   "id": "overhead-magazine",
   "metadata": {},
   "outputs": [],
   "source": [
    "# Wild type\n",
    "gln_ua_5p = pd.read_excel('/Users/bryan/Studio/tools/gln_ua_5p.xlsx') #24174\n",
    "gln_ua_3p = pd.read_excel('/Users/bryan/Studio/tools/gln_ua_3p.xlsx')\n",
    "gln_ua_39c_5p = pd.read_excel('/Users/bryan/Studio/tools/gln_ua_39c_5p.xlsx') #24160\n",
    "gln_ua_39c_3p = pd.read_excel('/Users/bryan/Studio/tools/gln_ua_39c_3p.xlsx')\n",
    "gln_ua_39mu_5p = pd.read_excel('/Users/bryan/Studio/tools/gln_ua_39mU_5p.xlsx') #24175\n",
    "gln_ua_39mu_3p = pd.read_excel('/Users/bryan/Studio/tools/gln_ua_39mU_3p.xlsx')\n",
    "# gln_ca_39c_5p = pd.read_excel('/Users/bryan/Studio/tools/gln_ca_39c_5p.xlsx') #24159\n",
    "# gln_ca_39c_3p = pd.read_excel('/Users/bryan/Studio/tools/gln_ca_39c_3p.xlsx')\n",
    "gln_ua_39c_16sub1da_5p = pd.read_excel('/Users/bryan/Studio/tools/gln_ua_39c_16sub1da_5p.xlsx') #24159\n",
    "gln_ua_39c_16sub1da_3p = pd.read_excel('/Users/bryan/Studio/tools/gln_ua_39c_16sub1da_3p.xlsx')\n",
    "gln_cg_5p = pd.read_excel('/Users/bryan/Studio/tools/gln_cg_5p.xlsx') #24190\n",
    "gln_cg_3p = pd.read_excel('/Users/bryan/Studio/tools/gln_cg_3p.xlsx')\n",
    "gln_cg_34c_5p = pd.read_excel('/Users/bryan/Studio/tools/gln_cg_34c_5p.xlsx') #24189\n",
    "gln_cg_34c_3p = pd.read_excel('/Users/bryan/Studio/tools/gln_cg_34c_3p.xlsx')\n",
    "# gln_ug_5p = pd.read_excel('/Users/bryan/Studio/tools/gln_ug_5p.xlsx')\n",
    "# gln_ug_3p = pd.read_excel('/Users/bryan/Studio/tools/gln_ug_3p.xlsx')\n",
    "print(gln_ua_5p.Mass.max(), gln_ua_39c_5p.Mass.max(), \n",
    "      gln_ua_39c_16sub1da_5p.Mass.max(), gln_ua_39mu_5p.Mass.max(),\n",
    "      gln_cg_5p.Mass.max(), gln_cg_34c_5p.Mass.max()\n",
    "     )"
   ]
  },
  {
   "cell_type": "code",
   "execution_count": null,
   "id": "polished-edward",
   "metadata": {},
   "outputs": [],
   "source": [
    "# AlkB\n",
    "\n",
    "gln_ua_57a_5p = pd.read_excel('/Users/bryan/Studio/tools/gln_ua_57a_5p.xlsx') #24160\n",
    "gln_ua_57a_3p = pd.read_excel('/Users/bryan/Studio/tools/gln_ua_57a_3p.xlsx')\n",
    "gln_ua_39c_57a_5p = pd.read_excel('/Users/bryan/Studio/tools/gln_ua_39c_57a_5p.xlsx')\n",
    "gln_ua_39c_57a_3p = pd.read_excel('/Users/bryan/Studio/tools/gln_ua_39c_57a_3p.xlsx')\n",
    "gln_ua_9g_57a_5p = pd.read_excel('/Users/bryan/Studio/tools/gln_ua_9g_57a_5p.xlsx')\n",
    "gln_ua_9g_57a_3p = pd.read_excel('/Users/bryan/Studio/tools/gln_ua_9g_57a_3p.xlsx')\n",
    "gln_ua_39c_57a_16sub1_5p = pd.read_excel('/Users/bryan/Studio/tools/gln_ua_39c_57a_16sub1_5p.xlsx')\n",
    "gln_ua_39c_57a_16sub1_3p = pd.read_excel('/Users/bryan/Studio/tools/gln_ua_39c_57a_16sub1_3p.xlsx')\n",
    "gln_ua_9g_39c_57a_16sub1_5p = pd.read_excel('/Users/bryan/Studio/tools/gln_ua_9g_39c_57a_16sub1_5p.xlsx')\n",
    "gln_ua_9g_39c_57a_16sub1_3p = pd.read_excel('/Users/bryan/Studio/tools/gln_ua_9g_39c_57a_16sub1_3p.xlsx')\n",
    "\n",
    "gln_ua_9g_39c_57a_5p = pd.read_excel('/Users/bryan/Studio/tools/gln_ua_9g_39c_57a_5p.xlsx')\n",
    "gln_ua_9g_39c_57a_3p = pd.read_excel('/Users/bryan/Studio/tools/gln_ua_9g_39c_57a_3p.xlsx')\n",
    "gln_ua_9g_39mu_57a_5p = pd.read_excel('/Users/bryan/Studio/tools/gln_ua_9g_39mu_57a_5p.xlsx')\n",
    "gln_ua_9g_39mu_57a_3p = pd.read_excel('/Users/bryan/Studio/tools/gln_ua_9g_39mu_57a_3p.xlsx')\n",
    "\n",
    "print(\n",
    "      gln_ua_57a_5p.Mass.max(),\n",
    "      gln_ua_39c_57a_5p.Mass.max(), \n",
    "      gln_ua_9g_57a_5p.Mass.max(),\n",
    "      gln_ua_39c_57a_16sub1_5p.Mass.max(),\n",
    "      gln_ua_9g_39c_57a_16sub1_5p.Mass.max(),\n",
    "      gln_ua_9g_39c_57a_5p.Mass.max(),\n",
    "      gln_ua_9g_39mu_57a_5p.Mass.max()\n",
    "     )"
   ]
  },
  {
   "cell_type": "code",
   "execution_count": null,
   "id": "descending-senior",
   "metadata": {},
   "outputs": [],
   "source": [
    "dfs = df19_2\n",
    "# dfs_top = dfs[dfs.Mass>24000]\n",
    "plotly_zone(dfs, y='RT')\n",
    "\n",
    "df_sample = dfs[(dfs.Mass>18000)&(dfs.Mass<24000)].sort_values('Vol', ascending=False).iloc[:100]\n",
    "bcr = base_calling_random(df_sample)\n",
    "plotly_basecalling(*bcr, annotate=False)"
   ]
  },
  {
   "cell_type": "code",
   "execution_count": null,
   "id": "stuck-scott",
   "metadata": {},
   "outputs": [],
   "source": [
    "df_top = df19_2[df19_2.Mass>24000]\n",
    "plotly_zone(df_top, y='Vol')"
   ]
  },
  {
   "cell_type": "code",
   "execution_count": null,
   "id": "arabic-orlando",
   "metadata": {},
   "outputs": [],
   "source": [
    "dft = gln_ua_5p.copy()\n",
    "df_sample = df20.copy()\n",
    "df_sample = df_sample[(df_sample.Mass>4000)&(df_sample.Mass<7500)]\n",
    "dfa = match_dfs(dft, df_sample)\n",
    "dft.Mass -= 1\n",
    "dfb = match_dfs(dft, df_sample)\n",
    "# dfa = dfm10[(dfm10.Mass>4500)&(dfm10.Mass<7000)].copy()\n",
    "# dfb = dfm11[(dfm11.Mass>2000)&(dfm11.Mass<7000)].copy()\n",
    "dfb.RT = dfb.RT*0.99\n",
    "plotly_zones(dfa, dfb)\n",
    "plotly_zones(dfa, dfb, y='Vol')"
   ]
  },
  {
   "cell_type": "code",
   "execution_count": null,
   "id": "prescribed-peter",
   "metadata": {},
   "outputs": [],
   "source": [
    "df_sample = df7.copy()\n",
    "df_top2 = df_sample[df_sample.Mass>24000]#.sort_values('Vol', ascending=False).iloc[:10]\n",
    "df_sample = df8.copy()\n",
    "df_top8 = df_sample[df_sample.Mass>24000]#.sort_values('Vol', ascending=False).iloc[:10]\n",
    "# plotly_zones(df_top2, df_top8)\n",
    "# vol = max(df_top2.Vol.max(), df_top8.Vol.max())\n",
    "# df_top2.Vol /= df_top2.Vol.max()\n",
    "# df_top8.Vol /= df_top8.Vol.max()\n",
    "# plotly_zones(df_top2, df_top8, y='Vol')\n",
    "plotly_zone(df_top2)\n",
    "plotly_zone(df_top2, y='Vol')\n",
    "# plotly_zone(df13)\n",
    "# plotly_zone(df13_2)\n",
    "# dfm = match_dfs(df13, df13_2)\n",
    "# plotly_zones(df13, dfm)\n",
    "# df_top = df_sample.sort_values('Vol', ascending=False).iloc[:2000]\n",
    "# dfs = computational_data_seperation(df_top, df_top, full_mass=24235.19)\n",
    "# plotly_zone(dfs[0])"
   ]
  },
  {
   "cell_type": "code",
   "execution_count": null,
   "id": "entitled-roller",
   "metadata": {},
   "outputs": [],
   "source": [
    "### tmp test phe\n",
    "\n",
    "# df_phe = pd.read_excel('/Users/bryan/Documents/BioPharmaFinder/ZhangLab/Data/Excels/tRNA_Phe_0724.xlsx')\n",
    "# df_phe = thermo_df(df_phe)\n",
    "# df_76_5p = pd.read_excel('/Users/bryan/Studio/tools/phe_76_5p.xlsx')\n",
    "# df_75_5p = pd.read_excel('/Users/bryan/Studio/tools/phe_75_5p.xlsx')\n",
    "df_76_3p = pd.read_excel('/Users/bryan/Studio/tools/phe_76_3p.xlsx')\n",
    "df_phe2_3p = pd.read_excel('/Users/bryan/Studio/tools/phe2_76_3p.xlsx')\n",
    "# df_75_5p = pd.read_excel('/Users/bryan/Studio/tools/phe_75_5p.xlsx')\n",
    "\n",
    "dfm1 = match_dfs(df_76_5p, df_phe)\n",
    "# dfm1.RT = 1\n",
    "# plotly_zone(dfm1)\n",
    "\n",
    "dft.Mass += G-A\n",
    "# dft = gln_ua_9g_39mu_57a_3p.copy()\n",
    "dfm2 = match_dfs(dft, df_src)\n",
    "# dfm2.RT = 1.2\n",
    "plotly_multi_zones([dfm1, dfm2], names=['Baseline', '+Na', 'Baseline2', 'BL2-1'])\n",
    "plotly_multi_zones([dfm1, dfm2], y='Vol', names=['Baseline', '+Na', 'Baseline2', 'BL2-1'])"
   ]
  },
  {
   "cell_type": "code",
   "execution_count": null,
   "id": "facial-mirror",
   "metadata": {},
   "outputs": [],
   "source": [
    "df_src = df20.copy()\n",
    "dft = gln_ua_39c_5p.copy() #160\n",
    "# dft = gln_ua_39c_16sub1da_3p.copy() #159\n",
    "dfm1 = match_dfs(dft, df_src)\n",
    "dfm1.RT = 1\n",
    "# plotly_zone(dfm1)\n",
    "\n",
    "dft.Mass -= 1\n",
    "# dft = gln_ua_9g_39mu_57a_3p.copy()\n",
    "dfm2 = match_dfs(dft, df_src)\n",
    "dfm2.RT = 1.2\n",
    "\n",
    "dft = gln_ua_9g_39c_57a_5p.copy()\n",
    "# dft.Mass -= M\n",
    "dfm3 = match_dfs(dft, df_src)\n",
    "dfm3.RT = 2\n",
    "\n",
    "dft.Mass -= 1\n",
    "dfm4 = match_dfs(dft, df_src)\n",
    "dfm4.RT = 2.2\n",
    "\n",
    "print(dfm1.shape, dfm2.shape)\n",
    "# dft.Mass -= M\n",
    "# dfm3 = match_dfs(dft, df_src)\n",
    "plotly_multi_zones([dfm1, dfm2, dfm3, dfm4], names=['Baseline', '+Na', 'Baseline2', 'BL2-1'])\n",
    "plotly_multi_zones([dfm1, dfm2, dfm3, dfm4], y='Vol', names=['Baseline', '+Na', 'Baseline2', 'BL2-1'])"
   ]
  },
  {
   "cell_type": "code",
   "execution_count": null,
   "id": "structural-finnish",
   "metadata": {},
   "outputs": [],
   "source": [
    "# dfm1.to_excel('/Users/bryan/Downloads/GlnAlkB/dfm_merge_{}_5p.xlsx'.format(int(gln_ua_9g_39mu_57a_5p.Mass.max())))\n",
    "# dfm2.to_excel('/Users/bryan/Downloads/GlnAlkB/dfm_merge_{}_3p.xlsx'.format(int(gln_ua_9g_39mu_57a_3p.Mass.max())))\n",
    "\n",
    "dfm1[(dfm1.Mass>12000)&(dfm1.Mass<15000)].to_excel('~/Downloads/gln_32Cm_ladder_1.xlsx')\n",
    "# dfm2.to_excel('~/Downloads/gln_307_ladder_2.xlsx')\n",
    "dfm3[(dfm3.Mass>12000)&(dfm3.Mass<15000)].to_excel('~/Downloads/gln_32Cm_ladder_2.xlsx')\n",
    "# dfm4.to_excel('~/Downloads/gln_307_ladder_4.xlsx')\n",
    "# dfmerge = pd.concat([dfm1, dfm2, dfm3, dfm4])\n",
    "# dfmerge.to_excel('~/Downloads/gln_307_4ladders.xlsx')"
   ]
  },
  {
   "cell_type": "code",
   "execution_count": null,
   "id": "bronze-winner",
   "metadata": {},
   "outputs": [],
   "source": [
    "# dftmp = df13_2[(df13_2.Mass>4964)&(df13_2.Mass<5276)]#.iloc[[0, 1, 3]]\n",
    "# dftmp['Ratio'] = dftmp.Vol/dftmp.Vol.sum()\n",
    "dftmp\n",
    "# 5272.639287 - 4964.603768\n",
    "5271.631434 - 4964.603768"
   ]
  },
  {
   "cell_type": "code",
   "execution_count": null,
   "id": "exact-might",
   "metadata": {},
   "outputs": [],
   "source": [
    "name = 'dfm_merge_24147_3p'\n",
    "dfm_3p = pd.read_excel(f'/Users/bryan/Downloads/GlnAlkB/{name}.xlsx')\n",
    "dfrev = dfm_3p.copy()\n",
    "# dfrev.Mass.max()\n",
    "dfrev.Mass = dfrev.Mass.max() + H2O - dfrev.Mass\n",
    "dfrev = dfrev[dfrev.Mass>200]\n",
    "dfrev.to_excel(f'~/Downloads/GlnAlkB/{name}_rev.xlsx')"
   ]
  },
  {
   "cell_type": "code",
   "execution_count": null,
   "id": "color-employer",
   "metadata": {},
   "outputs": [],
   "source": [
    "\n",
    "dfm1[dfm1.Mass>5257].Vol.mean(), dfm2[dfm2.Mass>5257].Vol.mean()\n",
    "# dfm1[(dfm1.Mass>2800)&(dfm1.Mass<4000)].Vol.mean(), dfm2[(dfm2.Mass>2800)&(dfm2.Mass<4000)].Vol.mean()\n",
    "# dfm3[dfm3.Mass>5257].Vol.mean(), dfm4[dfm4.Mass>5257].Vol.mean()"
   ]
  },
  {
   "cell_type": "code",
   "execution_count": null,
   "id": "orange-house",
   "metadata": {},
   "outputs": [],
   "source": [
    "# direct sequencing\n",
    "\n",
    "# df_src = df13.copy()\n",
    "df_top = df_src[(df_src.Mass>4000)&(df_src.Mass<7500)]#.sort_values('Vol', ascending=False).iloc[:200].copy()\n",
    "# df_top = df_src.copy()\n",
    "# df_top.shape\n",
    "plotly_zone(df_top, y='Vol')\n",
    "\n",
    "# df_salts = list()\n",
    "# for salt in [21.9819, 37.9558, 34.9694, 27.9949, 56.92]:\n",
    "#     df_salt = match_dfs(df_top, df_top, shift=salt)\n",
    "#     df_salts.append(df_salt)\n",
    "# df_salts = pd.concat(df_salts)\n",
    "# df_top = df_top.drop(df_salts.index)\n",
    "# print(df_top.shape, df_salts.shape)\n",
    "# # plotly_zones(df_top, df_salts)\n",
    "\n",
    "# bcr = base_calling_random(df_top)\n",
    "# plotly_basecalling(*bcr, annotate=False)\n",
    "# # groups = basecalling_groups(df_top)\n",
    "# # plotly_basecalling(*groups[0], annotate=False)\n",
    "\n",
    "# dfm = match_dfs(bcr[0], df_src, shift=-1*M)\n",
    "# if not dfm.empty:\n",
    "#     plotly_zones(bcr[0], dfm)"
   ]
  },
  {
   "cell_type": "code",
   "execution_count": null,
   "id": "standing-nursing",
   "metadata": {},
   "outputs": [],
   "source": [
    "target = 3157\n",
    "dfa = df_src[(df_src.Mass>target-1)&(df_src.Mass<target+1)]\n",
    "target -= M\n",
    "dfb = df_src[(df_src.Mass>target-1)&(df_src.Mass<target+1)]\n",
    "dfa, dfb"
   ]
  },
  {
   "cell_type": "code",
   "execution_count": null,
   "id": "addressed-remedy",
   "metadata": {},
   "outputs": [],
   "source": []
  },
  {
   "cell_type": "code",
   "execution_count": null,
   "id": "interior-niger",
   "metadata": {},
   "outputs": [],
   "source": []
  },
  {
   "cell_type": "code",
   "execution_count": null,
   "id": "bigger-russell",
   "metadata": {},
   "outputs": [],
   "source": []
  },
  {
   "cell_type": "code",
   "execution_count": null,
   "id": "armed-assist",
   "metadata": {},
   "outputs": [],
   "source": [
    "# Choose dots\n",
    "\n",
    "idxs = list()\n",
    "# create our callback function\n",
    "def on_selection(trace, points, selector):\n",
    "    print('points {}'.format(points.point_inds) )\n",
    "    idxs.extend(points.point_inds)\n",
    "\n",
    "def on_click(trace, points, selector):\n",
    "#     print('points {}'.format(points.point_inds) )\n",
    "    idxs.extend(points.point_inds)\n",
    "\n",
    "df_sample = df_top\n",
    "f = zone_selection(df_sample, on_selection=on_selection, on_click=on_click)\n",
    "f"
   ]
  },
  {
   "cell_type": "code",
   "execution_count": null,
   "id": "fancy-detective",
   "metadata": {},
   "outputs": [],
   "source": [
    "df_chosen = df_sample.iloc[idxs]\n",
    "# df_zone = df_sample.drop(df_chosen.index)\n",
    "df_chosen.shape"
   ]
  },
  {
   "cell_type": "code",
   "execution_count": null,
   "id": "handled-cursor",
   "metadata": {},
   "outputs": [],
   "source": []
  },
  {
   "cell_type": "code",
   "execution_count": null,
   "id": "continental-monroe",
   "metadata": {},
   "outputs": [],
   "source": [
    "# df_sample = df_chosen\n",
    "df_sample = df_chosen.sort_values('Vol', ascending=False).iloc[:30]\n",
    "orientation = 3\n",
    "\n",
    "# df_sf, df_salts = remove_salts(df_sample)\n",
    "df_sf = df_sample\n",
    "\n",
    "bcr = base_calling_random(df_sf)\n",
    "plotly_basecalling(*bcr, annotate=False, y='RT')\n",
    "plotly_basecalling(*bcr, annotate=False, y='Vol')\n",
    "group = bcr\n",
    "\n",
    "# groups = basecalling_groups(df_sf)\n",
    "# group = groups[0]\n",
    "# plotly_basecalling(*group, annotate=False)\n",
    "\n",
    "# output seats\n",
    "# df = process_mass_base_seats(*group, full_mass=24174, orientation=orientation)\n",
    "# df.to_excel('~/Downloads/seats.xlsx')\n",
    "\n",
    "\n",
    "# dfm = match_dfs(bcr[0], df_src, shift=1*M)\n",
    "# if dfm.empty:\n",
    "#     plotly_zone(bcr[0])\n",
    "# else:\n",
    "#     plotly_zones(bcr[0], dfm, y='RT')"
   ]
  },
  {
   "cell_type": "code",
   "execution_count": null,
   "id": "stock-exhibit",
   "metadata": {},
   "outputs": [],
   "source": [
    "fig = plt.figure(figsize=(5, 3))\n",
    "vol1 = bcr[0].Vol.max()\n",
    "# vol2 = df_alkb.Vol.max()\n",
    "# vol = max(vol1, vol2)\n",
    "plt.scatter(bcr[0].Mass, bcr[0].RT, s=100, color='b', label='Wild type') ##bdc1c1\n",
    "# plt.scatter(df_alkb.Mass, df_alkb.Vol/vol2, s=100, color='r', label='AlkB') ##d9d9d9\n",
    "plt.legend()\n",
    "\n",
    "fig.tight_layout()\n",
    "plt.savefig('/Users/bryan/Downloads/gln_ladder_17.svg', transparent=True, dpi=300)"
   ]
  },
  {
   "cell_type": "code",
   "execution_count": null,
   "id": "romantic-design",
   "metadata": {},
   "outputs": [],
   "source": [
    "bcr[0].to_excel('~/Downloads/type_position_ori.xlsx')\n",
    "# dfa = bcr[0].copy()\n",
    "# dfb = dfm.copy()\n",
    "# dfa['DeMethyl'] = False\n",
    "# dfb['DeMethyl'] = True\n",
    "# dfab = pd.concat([dfa, dfb])\n",
    "# dfab.to_excel('~/Downloads/type_position_ori.xlsx')"
   ]
  },
  {
   "cell_type": "code",
   "execution_count": null,
   "id": "sonic-technology",
   "metadata": {},
   "outputs": [],
   "source": [
    "target = 5962\n",
    "dfa = df_src[(df_src.Mass>target-1)&(df_src.Mass<target+1)]\n",
    "target += M\n",
    "dfb = df_src[(df_src.Mass>target-1)&(df_src.Mass<target+1)]\n",
    "dfa, dfb"
   ]
  },
  {
   "cell_type": "code",
   "execution_count": null,
   "id": "instrumental-methodology",
   "metadata": {},
   "outputs": [],
   "source": []
  },
  {
   "cell_type": "code",
   "execution_count": null,
   "id": "signal-auckland",
   "metadata": {},
   "outputs": [],
   "source": [
    "df23 = load_uc2(23)\n",
    "df24 = load_uc2(24)\n",
    "# df23 = pd.read_excel('~/Downloads/DrChen_tRNA_t_Cys_FA.xlsx')\n",
    "# df24 = pd.read_excel('~/Downloads/DrChen_tRNA_t_Cys_A_FA.xlsx')\n",
    "df23 = thermo_df(df23)\n",
    "df24 = thermo_df(df24)\n",
    "df23.shape, df24.shape"
   ]
  },
  {
   "cell_type": "code",
   "execution_count": null,
   "id": "colored-circulation",
   "metadata": {},
   "outputs": [],
   "source": [
    "df_src = df23"
   ]
  },
  {
   "cell_type": "code",
   "execution_count": null,
   "id": "romantic-train",
   "metadata": {},
   "outputs": [],
   "source": [
    "dft = pd.read_excel('/Users/bryan/Documents/ChenLab/10Jun2021/SupportMethylData/cys_10mG_5p.xlsx')\n",
    "dft = dft.sort_values('Vol', ascending=False).iloc[:20]\n",
    "dft.info()\n",
    "bcr = base_calling_random(dft)\n",
    "plotly_basecalling(*bcr, annotate=False, y='RT')\n",
    "\n",
    "dfm = match_dfs(dft, df_src, shift=-1*M)\n",
    "plotly_zones(dft, dfm)"
   ]
  },
  {
   "cell_type": "code",
   "execution_count": null,
   "id": "loose-airport",
   "metadata": {},
   "outputs": [],
   "source": [
    "target = 7158\n",
    "dfa = dft[(dft.Mass>target-1)&(dft.Mass<target+1)]\n",
    "target += M\n",
    "dfb = dft[(dft.Mass>target-1)&(dft.Mass<target+1)]\n",
    "dfa, dfb"
   ]
  },
  {
   "cell_type": "code",
   "execution_count": null,
   "id": "affected-nursing",
   "metadata": {},
   "outputs": [],
   "source": []
  },
  {
   "cell_type": "code",
   "execution_count": null,
   "id": "animated-franklin",
   "metadata": {},
   "outputs": [],
   "source": [
    "5976.752939 - G"
   ]
  },
  {
   "cell_type": "code",
   "execution_count": null,
   "id": "attached-kennedy",
   "metadata": {},
   "outputs": [],
   "source": [
    "bcr = base_calling_random(df_sf)\n",
    "plotly_basecalling(df_sf, bcr[1], annotate=False)"
   ]
  },
  {
   "cell_type": "code",
   "execution_count": null,
   "id": "quality-advisory",
   "metadata": {},
   "outputs": [],
   "source": []
  },
  {
   "cell_type": "code",
   "execution_count": null,
   "id": "sublime-creativity",
   "metadata": {},
   "outputs": [],
   "source": [
    "\n",
    "df_gln = pd.read_excel('/Users/bryan/Documents/ChenLab/Analysis/Gln.xlsx')\n",
    "# df_gln.Mass.astype(float)\n",
    "df_gln5p = df_gln[df_gln.is5p==True]\n",
    "df_gln3p = df_gln[df_gln.is5p==False]\n",
    "df_gln5p = match_dfs(df_gln5p, df_src)\n",
    "df_gln3p = match_dfs(df_gln3p, df_src)\n",
    "plotly_zones(df_gln5p, df_gln3p)\n",
    "df_gln = pd.concat([df_gln5p, df_gln3p])\n",
    "bcr = base_calling_random(df_gln)\n",
    "plotly_basecalling(df_gln, bcr[1], annotate=False)"
   ]
  },
  {
   "cell_type": "code",
   "execution_count": null,
   "id": "adaptive-extra",
   "metadata": {},
   "outputs": [],
   "source": []
  },
  {
   "cell_type": "code",
   "execution_count": null,
   "id": "relevant-things",
   "metadata": {},
   "outputs": [],
   "source": []
  },
  {
   "cell_type": "code",
   "execution_count": null,
   "id": "frozen-hygiene",
   "metadata": {},
   "outputs": [],
   "source": []
  },
  {
   "cell_type": "code",
   "execution_count": null,
   "id": "unnecessary-monte",
   "metadata": {},
   "outputs": [],
   "source": [
    "def remove_salts(df_sample, salts=[21.9819, 37.9558, 34.9694, 27.9949, 56.92]):\n",
    "    df = df_sample.copy()\n",
    "    df_salts = list()\n",
    "    for salt in salts:\n",
    "        df_salt = match_dfs(df, df, shift=salt)\n",
    "#         df = df.drop(df_salt.index)\n",
    "        df_salts.append(df_salt)\n",
    "    df_salts = pd.concat(df_salts).drop_duplicates()\n",
    "    df = df.drop(df_salts.index)\n",
    "    return df, df_salts"
   ]
  },
  {
   "cell_type": "code",
   "execution_count": null,
   "id": "minimal-constitution",
   "metadata": {},
   "outputs": [],
   "source": []
  }
 ],
 "metadata": {
  "kernelspec": {
   "display_name": "Python 3",
   "language": "python",
   "name": "python3"
  },
  "language_info": {
   "codemirror_mode": {
    "name": "ipython",
    "version": 3
   },
   "file_extension": ".py",
   "mimetype": "text/x-python",
   "name": "python",
   "nbconvert_exporter": "python",
   "pygments_lexer": "ipython3",
   "version": "3.7.3"
  }
 },
 "nbformat": 4,
 "nbformat_minor": 5
}
