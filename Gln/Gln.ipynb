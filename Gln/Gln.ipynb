{
 "cells": [
  {
   "cell_type": "code",
   "execution_count": null,
   "id": "labeled-sweet",
   "metadata": {},
   "outputs": [],
   "source": [
    "import pandas as pd\n",
    "import matplotlib"
   ]
  },
  {
   "cell_type": "code",
   "execution_count": null,
   "id": "occasional-hamburg",
   "metadata": {},
   "outputs": [],
   "source": [
    "%run data.ipynb\n",
    "%run ../modules/preprocessing.ipynb\n",
    "%run ../modules/cds.ipynb\n",
    "%run ../modules/utils.ipynb"
   ]
  },
  {
   "cell_type": "code",
   "execution_count": null,
   "id": "constitutional-possession",
   "metadata": {},
   "outputs": [],
   "source": [
    "df1 = load_uc2(1, intact=True)\n",
    "df2 = load_uc2(2, intact=True)\n",
    "df7 = load_uc2(7, intact=True)\n",
    "df8 = load_uc2(8, intact=True)"
   ]
  },
  {
   "cell_type": "code",
   "execution_count": null,
   "id": "authorized-casino",
   "metadata": {},
   "outputs": [],
   "source": [
    "df_24k = df1[df1.Mass>24000]\n",
    "plotly_zone(df_24k, y='Vol')"
   ]
  },
  {
   "cell_type": "code",
   "execution_count": null,
   "id": "still-reasoning",
   "metadata": {},
   "outputs": [],
   "source": [
    "\n",
    "df13 = pd.read_excel('/Users/bryan/Documents/ChenLab/10Jun2021/degraded/DrChen_tRNA_A_Gln_FA_13.xlsx')\n",
    "df13 = thermo_df(df13)\n",
    "\n",
    "# df13 = load_uc2(13)\n",
    "df14 = load_uc2(14)\n",
    "\n",
    "df19 = pd.read_excel('/Users/bryan/Downloads/drive-download-20210809T144630Z-001/DrChen_tRNA_B_Gln_FA_19_Batch2.xlsx')\n",
    "df19 = thermo_df(df19)\n",
    "# df19 = load_uc2(19)\n",
    "df20 = load_uc2(20)\n",
    "df13.shape, df14.shape, df19.shape, df20.shape"
   ]
  },
  {
   "cell_type": "code",
   "execution_count": null,
   "id": "overhead-magazine",
   "metadata": {},
   "outputs": [],
   "source": [
    "gln_ua_5p = pd.read_excel('/Users/bryan/Studio/tools/gln_ua_5p.xlsx')\n",
    "gln_ua_3p = pd.read_excel('/Users/bryan/Studio/tools/gln_ua_3p.xlsx')\n",
    "gln_ua_39c_5p = pd.read_excel('/Users/bryan/Studio/tools/gln_ua_39c_5p.xlsx')\n",
    "gln_ua_39c_3p = pd.read_excel('/Users/bryan/Studio/tools/gln_ua_39c_3p.xlsx')\n",
    "gln_cg_5p = pd.read_excel('/Users/bryan/Studio/tools/gln_cg_5p.xlsx')\n",
    "gln_cg_3p = pd.read_excel('/Users/bryan/Studio/tools/gln_cg_3p.xlsx')\n",
    "gln_ua_5p.Mass.max(), gln_ua_39c_5p.Mass.max(), gln_cg_5p.Mass.max()"
   ]
  },
  {
   "cell_type": "code",
   "execution_count": null,
   "id": "descending-senior",
   "metadata": {},
   "outputs": [],
   "source": [
    "dfs = df19\n",
    "# dfs_top = dfs[dfs.Mass>24000]\n",
    "plotly_zone(dfs, y='RT')\n",
    "\n",
    "df_sample = dfs[(dfs.Mass>2300)&(dfs.Mass<20000)].sort_values('Vol', ascending=False).iloc[:200]\n",
    "bcr = base_calling_random(df_sample)\n",
    "plotly_basecalling(df_sample, bcr[1], annotate=False)"
   ]
  },
  {
   "cell_type": "code",
   "execution_count": null,
   "id": "devoted-milan",
   "metadata": {},
   "outputs": [],
   "source": [
    "# dfm = match_dfs(df13, df19, ppm=1)\n",
    "# plotly_zone(dfm)\n",
    "dfm.shape, df19.shape, df13.shape"
   ]
  },
  {
   "cell_type": "code",
   "execution_count": null,
   "id": "facial-mirror",
   "metadata": {},
   "outputs": [],
   "source": [
    "df_src = df19.copy()\n",
    "dft = gln_ua_3p.copy()\n",
    "dfm1 = match_dfs(dft, df_src)\n",
    "# plotly_zone(dfm1)\n",
    "\n",
    "dft.Mass += 1\n",
    "dfm2 = match_dfs(dft, df_src)\n",
    "# dft.Mass -= 1\n",
    "\n",
    "# dft.Mass -= M\n",
    "# dfm3 = match_dfs(dft, df_src)\n",
    "plotly_multi_zones([dfm1, dfm2], names=['Baseline', '+1', '-M'])\n",
    "plotly_multi_zones([dfm1, dfm2], y='Vol', names=['Baseline', '+1', '-M'])"
   ]
  },
  {
   "cell_type": "code",
   "execution_count": null,
   "id": "structural-finnish",
   "metadata": {},
   "outputs": [],
   "source": []
  },
  {
   "cell_type": "code",
   "execution_count": null,
   "id": "orange-house",
   "metadata": {},
   "outputs": [],
   "source": [
    "# direct sequencing\n",
    "\n",
    "df_top = df_src[(df_src.Mass>7800)&(df_src.Mass<9500)]#.sort_values('Vol', ascending=False).iloc[:200].copy()\n",
    "# df_top = df_src.copy()\n",
    "df_top.shape\n",
    "\n",
    "# df_salts = list()\n",
    "# for salt in [21.9819, 37.9558, 34.9694, 27.9949, 56.92]:\n",
    "#     df_salt = match_dfs(df_top, df_top, shift=salt)\n",
    "#     df_salts.append(df_salt)\n",
    "# df_salts = pd.concat(df_salts)\n",
    "# df_top = df_top.drop(df_salts.index)\n",
    "# print(df_top.shape, df_salts.shape)\n",
    "# # plotly_zones(df_top, df_salts)\n",
    "\n",
    "# bcr = base_calling_random(df_top)\n",
    "# plotly_basecalling(*bcr, annotate=False)\n",
    "# # groups = basecalling_groups(df_top)\n",
    "# # plotly_basecalling(*groups[0], annotate=False)\n",
    "\n",
    "# dfm = match_dfs(bcr[0], df_src, shift=-1*M)\n",
    "# if not dfm.empty:\n",
    "#     plotly_zones(bcr[0], dfm)"
   ]
  },
  {
   "cell_type": "code",
   "execution_count": null,
   "id": "standing-nursing",
   "metadata": {},
   "outputs": [],
   "source": [
    "target = 3157\n",
    "dfa = df_src[(df_src.Mass>target-1)&(df_src.Mass<target+1)]\n",
    "target -= M\n",
    "dfb = df_src[(df_src.Mass>target-1)&(df_src.Mass<target+1)]\n",
    "dfa, dfb"
   ]
  },
  {
   "cell_type": "code",
   "execution_count": null,
   "id": "addressed-remedy",
   "metadata": {},
   "outputs": [],
   "source": []
  },
  {
   "cell_type": "code",
   "execution_count": null,
   "id": "interior-niger",
   "metadata": {},
   "outputs": [],
   "source": []
  },
  {
   "cell_type": "code",
   "execution_count": null,
   "id": "bigger-russell",
   "metadata": {},
   "outputs": [],
   "source": []
  },
  {
   "cell_type": "code",
   "execution_count": null,
   "id": "armed-assist",
   "metadata": {},
   "outputs": [],
   "source": [
    "# Choose dots\n",
    "\n",
    "idxs = list()\n",
    "# create our callback function\n",
    "def on_selection(trace, points, selector):\n",
    "    print('points {}'.format(points.point_inds) )\n",
    "    idxs.extend(points.point_inds)\n",
    "\n",
    "def on_click(trace, points, selector):\n",
    "#     print('points {}'.format(points.point_inds) )\n",
    "    idxs.extend(points.point_inds)\n",
    "\n",
    "df_sample = df_top\n",
    "f = zone_selection(df_sample, on_selection=on_selection, on_click=on_click)\n",
    "f"
   ]
  },
  {
   "cell_type": "code",
   "execution_count": null,
   "id": "fancy-detective",
   "metadata": {},
   "outputs": [],
   "source": [
    "df_chosen = df_sample.iloc[idxs]\n",
    "# df_zone = df_sample.drop(df_chosen.index)\n",
    "df_chosen.shape"
   ]
  },
  {
   "cell_type": "code",
   "execution_count": null,
   "id": "handled-cursor",
   "metadata": {},
   "outputs": [],
   "source": []
  },
  {
   "cell_type": "code",
   "execution_count": null,
   "id": "continental-monroe",
   "metadata": {},
   "outputs": [],
   "source": [
    "df_sample = df_chosen\n",
    "# df_sample = df_chosen.sort_values('Vol', ascending=False).iloc[:30]\n",
    "orientation = 3\n",
    "\n",
    "# df_sf, df_salts = remove_salts(df_sample)\n",
    "df_sf = df_sample\n",
    "\n",
    "bcr = base_calling_random(df_sf)\n",
    "plotly_basecalling(*bcr, annotate=False, y='RT')\n",
    "plotly_basecalling(*bcr, annotate=False, y='Vol')\n",
    "group = bcr\n",
    "\n",
    "# groups = basecalling_groups(df_sf)\n",
    "# group = groups[0]\n",
    "# plotly_basecalling(*group, annotate=False)\n",
    "\n",
    "# output seats\n",
    "# df = process_mass_base_seats(*group, full_mass=24174, orientation=orientation)\n",
    "# df.to_excel('~/Downloads/seats.xlsx')\n",
    "\n",
    "\n",
    "# dfm = match_dfs(bcr[0], df_src, shift=1*M)\n",
    "# if dfm.empty:\n",
    "#     plotly_zone(bcr[0])\n",
    "# else:\n",
    "#     plotly_zones(bcr[0], dfm, y='RT')"
   ]
  },
  {
   "cell_type": "code",
   "execution_count": null,
   "id": "romantic-design",
   "metadata": {},
   "outputs": [],
   "source": [
    "bcr[0].to_excel('~/Downloads/type_position_ori.xlsx')\n",
    "# dfa = bcr[0].copy()\n",
    "# dfb = dfm.copy()\n",
    "# dfa['DeMethyl'] = False\n",
    "# dfb['DeMethyl'] = True\n",
    "# dfab = pd.concat([dfa, dfb])\n",
    "# dfab.to_excel('~/Downloads/type_position_ori.xlsx')"
   ]
  },
  {
   "cell_type": "code",
   "execution_count": null,
   "id": "sonic-technology",
   "metadata": {},
   "outputs": [],
   "source": [
    "target = 5962\n",
    "dfa = df_src[(df_src.Mass>target-1)&(df_src.Mass<target+1)]\n",
    "target += M\n",
    "dfb = df_src[(df_src.Mass>target-1)&(df_src.Mass<target+1)]\n",
    "dfa, dfb"
   ]
  },
  {
   "cell_type": "code",
   "execution_count": null,
   "id": "instrumental-methodology",
   "metadata": {},
   "outputs": [],
   "source": []
  },
  {
   "cell_type": "code",
   "execution_count": null,
   "id": "signal-auckland",
   "metadata": {},
   "outputs": [],
   "source": [
    "df23 = load_uc2(23)\n",
    "df24 = load_uc2(24)\n",
    "# df23 = pd.read_excel('~/Downloads/DrChen_tRNA_t_Cys_FA.xlsx')\n",
    "# df24 = pd.read_excel('~/Downloads/DrChen_tRNA_t_Cys_A_FA.xlsx')\n",
    "df23 = thermo_df(df23)\n",
    "df24 = thermo_df(df24)\n",
    "df23.shape, df24.shape"
   ]
  },
  {
   "cell_type": "code",
   "execution_count": null,
   "id": "colored-circulation",
   "metadata": {},
   "outputs": [],
   "source": [
    "df_src = df23"
   ]
  },
  {
   "cell_type": "code",
   "execution_count": null,
   "id": "romantic-train",
   "metadata": {},
   "outputs": [],
   "source": [
    "dft = pd.read_excel('/Users/bryan/Documents/ChenLab/10Jun2021/SupportMethylData/cys_10mG_5p.xlsx')\n",
    "dft = dft.sort_values('Vol', ascending=False).iloc[:20]\n",
    "dft.info()\n",
    "bcr = base_calling_random(dft)\n",
    "plotly_basecalling(*bcr, annotate=False, y='RT')\n",
    "\n",
    "dfm = match_dfs(dft, df_src, shift=-1*M)\n",
    "plotly_zones(dft, dfm)"
   ]
  },
  {
   "cell_type": "code",
   "execution_count": null,
   "id": "loose-airport",
   "metadata": {},
   "outputs": [],
   "source": [
    "target = 7158\n",
    "dfa = dft[(dft.Mass>target-1)&(dft.Mass<target+1)]\n",
    "target += M\n",
    "dfb = dft[(dft.Mass>target-1)&(dft.Mass<target+1)]\n",
    "dfa, dfb"
   ]
  },
  {
   "cell_type": "code",
   "execution_count": null,
   "id": "affected-nursing",
   "metadata": {},
   "outputs": [],
   "source": []
  },
  {
   "cell_type": "code",
   "execution_count": null,
   "id": "animated-franklin",
   "metadata": {},
   "outputs": [],
   "source": [
    "5976.752939 - G"
   ]
  },
  {
   "cell_type": "code",
   "execution_count": null,
   "id": "attached-kennedy",
   "metadata": {},
   "outputs": [],
   "source": [
    "bcr = base_calling_random(df_sf)\n",
    "plotly_basecalling(df_sf, bcr[1], annotate=False)"
   ]
  },
  {
   "cell_type": "code",
   "execution_count": null,
   "id": "quality-advisory",
   "metadata": {},
   "outputs": [],
   "source": []
  },
  {
   "cell_type": "code",
   "execution_count": null,
   "id": "sublime-creativity",
   "metadata": {},
   "outputs": [],
   "source": [
    "\n",
    "df_gln = pd.read_excel('/Users/bryan/Documents/ChenLab/Analysis/Gln.xlsx')\n",
    "# df_gln.Mass.astype(float)\n",
    "df_gln5p = df_gln[df_gln.is5p==True]\n",
    "df_gln3p = df_gln[df_gln.is5p==False]\n",
    "df_gln5p = match_dfs(df_gln5p, df_src)\n",
    "df_gln3p = match_dfs(df_gln3p, df_src)\n",
    "plotly_zones(df_gln5p, df_gln3p)\n",
    "df_gln = pd.concat([df_gln5p, df_gln3p])\n",
    "bcr = base_calling_random(df_gln)\n",
    "plotly_basecalling(df_gln, bcr[1], annotate=False)"
   ]
  },
  {
   "cell_type": "code",
   "execution_count": null,
   "id": "adaptive-extra",
   "metadata": {},
   "outputs": [],
   "source": []
  },
  {
   "cell_type": "code",
   "execution_count": null,
   "id": "relevant-things",
   "metadata": {},
   "outputs": [],
   "source": []
  },
  {
   "cell_type": "code",
   "execution_count": null,
   "id": "frozen-hygiene",
   "metadata": {},
   "outputs": [],
   "source": []
  },
  {
   "cell_type": "code",
   "execution_count": null,
   "id": "unnecessary-monte",
   "metadata": {},
   "outputs": [],
   "source": [
    "def remove_salts(df_sample, salts=[21.9819, 37.9558, 34.9694, 27.9949, 56.92]):\n",
    "    df = df_sample.copy()\n",
    "    df_salts = list()\n",
    "    for salt in salts:\n",
    "        df_salt = match_dfs(df, df, shift=salt)\n",
    "#         df = df.drop(df_salt.index)\n",
    "        df_salts.append(df_salt)\n",
    "    df_salts = pd.concat(df_salts).drop_duplicates()\n",
    "    df = df.drop(df_salts.index)\n",
    "    return df, df_salts"
   ]
  },
  {
   "cell_type": "code",
   "execution_count": null,
   "id": "minimal-constitution",
   "metadata": {},
   "outputs": [],
   "source": []
  }
 ],
 "metadata": {
  "kernelspec": {
   "display_name": "Python 3",
   "language": "python",
   "name": "python3"
  },
  "language_info": {
   "codemirror_mode": {
    "name": "ipython",
    "version": 3
   },
   "file_extension": ".py",
   "mimetype": "text/x-python",
   "name": "python",
   "nbconvert_exporter": "python",
   "pygments_lexer": "ipython3",
   "version": "3.7.3"
  }
 },
 "nbformat": 4,
 "nbformat_minor": 5
}
