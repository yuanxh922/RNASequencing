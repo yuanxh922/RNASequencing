{
 "cells": [
  {
   "cell_type": "code",
   "execution_count": null,
   "id": "perceived-slave",
   "metadata": {},
   "outputs": [],
   "source": [
    "import pandas as pd"
   ]
  },
  {
   "cell_type": "code",
   "execution_count": null,
   "id": "silver-geography",
   "metadata": {},
   "outputs": [],
   "source": [
    "%run ../../modules/cds.ipynb\n",
    "%run ../../modules/preprocessing.ipynb\n",
    "%run ../../modules/utils.ipynb"
   ]
  },
  {
   "cell_type": "code",
   "execution_count": null,
   "id": "accessible-reminder",
   "metadata": {},
   "outputs": [],
   "source": [
    "f = '/Users/xyuan/Documents/Datasets/20220708/Yueast_yue/Asn/14_Asn.xlsx'\n",
    "df_ctrl = load_data(f)\n",
    "df_ctrl.shape[0]"
   ]
  },
  {
   "cell_type": "code",
   "execution_count": null,
   "id": "promotional-instrumentation",
   "metadata": {},
   "outputs": [],
   "source": [
    "df_ctrl_24k = df_ctrl[df_ctrl.Mass>24000]\n",
    "# df_24k = df[df.Mass>24000]\n",
    "# plotly_zone(df_ctrl_24k, y='Vol')\n",
    "# plotly_zone(dfm, y='Vol')\n",
    "plotly_zone(df_ctrl_24k, y='Vol')"
   ]
  },
  {
   "cell_type": "code",
   "execution_count": null,
   "id": "thermal-wilson",
   "metadata": {},
   "outputs": [],
   "source": [
    "f = '/Users/xyuan/Documents/Datasets/20220708/Yueast_yue/Asn/17_Asn_AD.xlsx'\n",
    "df = load_data(f)\n",
    "df.shape[0]"
   ]
  },
  {
   "cell_type": "code",
   "execution_count": null,
   "id": "paperback-dream",
   "metadata": {},
   "outputs": [],
   "source": [
    "df_asn_5p = pd.read_excel('~/Studio/tools/asn_5p.xlsx')\n",
    "df_asn_3p = pd.read_excel('~/Studio/tools/asn_3p.xlsx')"
   ]
  },
  {
   "cell_type": "code",
   "execution_count": null,
   "id": "exact-workshop",
   "metadata": {},
   "outputs": [],
   "source": [
    "dft = df_asn_5p.copy()\n",
    "dfm = match_dfs(dft, df)\n",
    "bcr = base_calling_random(dfm)\n",
    "plotly_basecalling(dfm, bcr[1])\n",
    "\n",
    "dft.Mass += 57\n",
    "dfm = match_dfs(dft, df, ppm=10)\n",
    "bcr = base_calling_random(dfm)\n",
    "plotly_basecalling(dfm, bcr[1])\n",
    "\n",
    "# dft.Mass += 57\n",
    "# dfm = match_dfs(dft, df, ppm=30)\n",
    "# bcr = base_calling_random(dfm)\n",
    "# plotly_basecalling(dfm, bcr[1])"
   ]
  },
  {
   "cell_type": "code",
   "execution_count": null,
   "id": "another-necklace",
   "metadata": {},
   "outputs": [],
   "source": [
    "dft = df_asn_3p.copy()\n",
    "dfm = match_dfs(dft, df)\n",
    "# plotly_zone(dfm)\n",
    "bcr = base_calling_random(dfm)\n",
    "plotly_basecalling(dfm, bcr[1])\n",
    "\n",
    "dft.Mass += 57\n",
    "dfm = match_dfs(dft, df, ppm=30)\n",
    "# plotly_zone(dfm)\n",
    "bcr = base_calling_random(dfm)\n",
    "plotly_basecalling(dfm, bcr[1])\n",
    "\n",
    "# dft.Mass += 57\n",
    "# dfm = match_dfs(dft, df, ppm=50)\n",
    "# bcr = base_calling_random(dfm)\n",
    "# plotly_basecalling(*bcr)"
   ]
  },
  {
   "cell_type": "code",
   "execution_count": null,
   "id": "emerging-crash",
   "metadata": {},
   "outputs": [],
   "source": [
    "df_top = local_top(df, top=10)\n",
    "df_top.shape[0]"
   ]
  },
  {
   "cell_type": "code",
   "execution_count": null,
   "id": "communist-swaziland",
   "metadata": {},
   "outputs": [],
   "source": [
    "# dfm_k = match_dfs(df, df, shift=K)\n",
    "# dfm_57 = match_dfs(df, df, shift=57)\n",
    "# dfm = match_dfs(dfm_k, dfm_57)\n",
    "# dfm_k.shape[0], dfm_57.shape[0], dfm.shape[0]\n",
    "dfm = match_dfs(df, df, shift=-1*K)\n",
    "dfm_top = local_top(dfm)\n",
    "dfm.shape, dfm_top.shape"
   ]
  },
  {
   "cell_type": "code",
   "execution_count": null,
   "id": "official-duration",
   "metadata": {},
   "outputs": [],
   "source": [
    "# plotly_zone(df[df.Mass<1988], y='Vol')\n",
    "# # dfm_top = local_top(dfm)\n",
    "# # # plotly_zone(dfm_top)\n",
    "# # # dfm_top.shape[0]\n",
    "# bcr = base_calling_random(dfm_top)\n",
    "# plotly_basecalling(*bcr)"
   ]
  },
  {
   "cell_type": "code",
   "execution_count": null,
   "id": "numerous-aurora",
   "metadata": {},
   "outputs": [],
   "source": [
    "fullmass = 25165.29 #25108.33\n",
    "df_ms_165, _ = computational_data_seperation(df, df, full_mass=fullmass)\n",
    "fullmass = 25108.33\n",
    "df_ms_108, _ = computational_data_seperation(df, df, full_mass=fullmass)\n",
    "fullmass = 25222.25\n",
    "df_ms_222, _ = computational_data_seperation(df, df, full_mass=fullmass)\n",
    "# df_ms.shape[0]"
   ]
  },
  {
   "cell_type": "code",
   "execution_count": null,
   "id": "absent-repository",
   "metadata": {},
   "outputs": [],
   "source": [
    "# plotly_zone(df_ms)\n",
    "# plotly_zone(df_top)\n",
    "bcr = base_calling_random(df_ms)\n",
    "plotly_basecalling(*bcr)\n",
    "bcr = base_calling_random(df_top)\n",
    "plotly_basecalling(*bcr)"
   ]
  },
  {
   "cell_type": "code",
   "execution_count": null,
   "id": "spectacular-force",
   "metadata": {},
   "outputs": [],
   "source": []
  }
 ],
 "metadata": {
  "kernelspec": {
   "display_name": "Python 3",
   "language": "python",
   "name": "python3"
  },
  "language_info": {
   "codemirror_mode": {
    "name": "ipython",
    "version": 3
   },
   "file_extension": ".py",
   "mimetype": "text/x-python",
   "name": "python",
   "nbconvert_exporter": "python",
   "pygments_lexer": "ipython3",
   "version": "3.7.3"
  }
 },
 "nbformat": 4,
 "nbformat_minor": 5
}
