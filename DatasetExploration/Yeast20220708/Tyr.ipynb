{
 "cells": [
  {
   "cell_type": "code",
   "execution_count": null,
   "id": "scheduled-clerk",
   "metadata": {},
   "outputs": [],
   "source": [
    "import pandas as pd"
   ]
  },
  {
   "cell_type": "code",
   "execution_count": null,
   "id": "celtic-framework",
   "metadata": {},
   "outputs": [],
   "source": [
    "%run ../../modules/cds.ipynb\n",
    "%run ../../modules/preprocessing.ipynb\n",
    "%run ../../modules/utils.ipynb"
   ]
  },
  {
   "cell_type": "code",
   "execution_count": null,
   "id": "challenging-growth",
   "metadata": {},
   "outputs": [],
   "source": [
    "f = '/Users/xyuan/Documents/Datasets/20220708/Yueast_yue/Tyr/13_Tyr.xlsx'\n",
    "df_ctrl = load_data(f)\n",
    "df_ctrl.shape[0]"
   ]
  },
  {
   "cell_type": "code",
   "execution_count": null,
   "id": "hungarian-colorado",
   "metadata": {},
   "outputs": [],
   "source": [
    "df_ctrl_24k = df_ctrl[(df_ctrl.Mass>25000)&(df_ctrl.Mass<26000)]\n",
    "plotly_zone(df_ctrl_24k, y='Vol')"
   ]
  },
  {
   "cell_type": "code",
   "execution_count": null,
   "id": "economic-conspiracy",
   "metadata": {},
   "outputs": [],
   "source": [
    "f = '/Users/xyuan/Documents/Datasets/20220708/Yueast_yue/Tyr/16_tyr_AD.xlsx'\n",
    "df = load_data(f)\n",
    "df.shape[0]"
   ]
  },
  {
   "cell_type": "code",
   "execution_count": null,
   "id": "unexpected-garbage",
   "metadata": {},
   "outputs": [],
   "source": [
    "df_top = local_top(df)\n",
    "plotly_zone(df_top)\n",
    "bcr = base_calling_random(df_top)\n",
    "plotly_basecalling(*bcr)"
   ]
  },
  {
   "cell_type": "code",
   "execution_count": null,
   "id": "secondary-cincinnati",
   "metadata": {},
   "outputs": [],
   "source": [
    "df_5p = pd.read_excel('~/Studio/tools/tyr_76_5p.xlsx')\n",
    "df_3p = pd.read_excel('~/Studio/tools/tyr_76_3p.xlsx')"
   ]
  },
  {
   "cell_type": "code",
   "execution_count": null,
   "id": "unknown-recognition",
   "metadata": {},
   "outputs": [],
   "source": [
    "dft = df_5p.copy()\n",
    "dfm = match_dfs(dft, df)\n",
    "bcr = base_calling_random(dfm)\n",
    "plotly_basecalling(dfm, bcr[1])\n",
    "\n",
    "dft.Mass += 57\n",
    "dfm = match_dfs(dft, df, ppm=30)\n",
    "bcr = base_calling_random(dfm)\n",
    "plotly_basecalling(dfm, bcr[1])\n",
    "\n",
    "dft.Mass -= M\n",
    "dfm = match_dfs(dft, df, ppm=30)\n",
    "bcr = base_calling_random(dfm)\n",
    "plotly_basecalling(dfm, bcr[1])"
   ]
  },
  {
   "cell_type": "code",
   "execution_count": null,
   "id": "lyric-bouquet",
   "metadata": {},
   "outputs": [],
   "source": [
    "dft = df_3p.copy()\n",
    "dft.Mass -= M\n",
    "dfm = match_dfs(dft, df, ppm=30)\n",
    "# plotly_zone(dfm)\n",
    "bcr = base_calling_random(dfm)\n",
    "plotly_basecalling(dfm, bcr[1], y='RT')\n",
    "\n",
    "# dft.Mass -= M\n",
    "# dfm = match_dfs(dft, df, ppm=30)\n",
    "# # plotly_zone(dfm)\n",
    "# bcr = base_calling_random(dfm)\n",
    "# plotly_basecalling(dfm, bcr[1], y='Vol')\n",
    "\n",
    "dft.Mass += 57\n",
    "dfm = match_dfs(dft, df, ppm=30)\n",
    "# plotly_zone(dfm)\n",
    "bcr = base_calling_random(dfm)\n",
    "plotly_basecalling(dfm, bcr[1])\n",
    "\n",
    "# dft.Mass -= M\n",
    "# dfm = match_dfs(dft, df, ppm=50)\n",
    "# bcr = base_calling_random(dfm)\n",
    "# plotly_basecalling(*bcr)"
   ]
  },
  {
   "cell_type": "code",
   "execution_count": null,
   "id": "excellent-delivery",
   "metadata": {},
   "outputs": [],
   "source": []
  }
 ],
 "metadata": {
  "kernelspec": {
   "display_name": "Python 3",
   "language": "python",
   "name": "python3"
  },
  "language_info": {
   "codemirror_mode": {
    "name": "ipython",
    "version": 3
   },
   "file_extension": ".py",
   "mimetype": "text/x-python",
   "name": "python",
   "nbconvert_exporter": "python",
   "pygments_lexer": "ipython3",
   "version": "3.7.3"
  }
 },
 "nbformat": 4,
 "nbformat_minor": 5
}
