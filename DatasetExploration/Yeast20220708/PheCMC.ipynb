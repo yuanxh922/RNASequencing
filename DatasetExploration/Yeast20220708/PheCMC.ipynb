{
 "cells": [
  {
   "cell_type": "code",
   "execution_count": null,
   "id": "hired-benjamin",
   "metadata": {},
   "outputs": [],
   "source": [
    "import pandas as pd\n",
    "import os"
   ]
  },
  {
   "cell_type": "code",
   "execution_count": null,
   "id": "attempted-advertiser",
   "metadata": {},
   "outputs": [],
   "source": [
    "%run ../../modules/cds.ipynb\n",
    "%run ../../modules/preprocessing.ipynb\n",
    "%run ../../modules/utils.ipynb"
   ]
  },
  {
   "cell_type": "code",
   "execution_count": null,
   "id": "statistical-nothing",
   "metadata": {},
   "outputs": [],
   "source": [
    "# folder = '/Users/xyuan/Documents/Datasets/20220708/Yeast'\n",
    "# file_names = os.listdir(folder)\n",
    "# file_names = [f for f in file_names if f.endswith('.xlsx')]\n",
    "# file_names.sort()\n",
    "# files = [os.path.join(folder, f) for f in file_names]\n",
    "# files"
   ]
  },
  {
   "cell_type": "code",
   "execution_count": null,
   "id": "verbal-constraint",
   "metadata": {},
   "outputs": [],
   "source": [
    "# dfs = [load_data(f) for f in files]\n",
    "# print([df.shape[0] for df in dfs])"
   ]
  },
  {
   "cell_type": "code",
   "execution_count": null,
   "id": "synthetic-breathing",
   "metadata": {},
   "outputs": [],
   "source": [
    "# for idx, df in enumerate(dfs):\n",
    "#     plot_zone(df, title=file_names[idx])"
   ]
  },
  {
   "cell_type": "code",
   "execution_count": null,
   "id": "velvet-jesus",
   "metadata": {},
   "outputs": [],
   "source": [
    "f = '/Users/xyuan/Documents/Datasets/20220708/Yueast_yue/PheCMC/15_phe_CMC.xlsx'\n",
    "df_ctrl = load_data(f)\n",
    "df_ctrl.shape[0]"
   ]
  },
  {
   "cell_type": "code",
   "execution_count": null,
   "id": "rocky-victoria",
   "metadata": {},
   "outputs": [],
   "source": [
    "df_ctrl_24k = df_ctrl[df_ctrl.Mass>24000]\n",
    "plotly_zone(df_ctrl_24k, y='Vol')"
   ]
  },
  {
   "cell_type": "code",
   "execution_count": null,
   "id": "greenhouse-translation",
   "metadata": {},
   "outputs": [],
   "source": [
    "f = '/Users/xyuan/Documents/Datasets/20220708/Yueast_yue/PheCMC/18_PheCMC_AD.xlsx'\n",
    "df = load_data(f)\n",
    "df.shape[0]"
   ]
  },
  {
   "cell_type": "code",
   "execution_count": null,
   "id": "available-rating",
   "metadata": {},
   "outputs": [],
   "source": [
    "# pu_diff = 557.2251 - U\n",
    "# dfm = match_dfs(df, df, shift=pu_diff)\n",
    "# plotly_zone(dfm)\n",
    "df_3p = pd.read_excel('~/Studio/tools/phe_75_3p.xlsx')\n",
    "df_3p.head()"
   ]
  },
  {
   "cell_type": "code",
   "execution_count": null,
   "id": "automated-priority",
   "metadata": {},
   "outputs": [],
   "source": [
    "dft = df_3p.copy()\n",
    "dfm = match_dfs(dft, df)\n",
    "dft.Mass += pu_diff\n",
    "dfm_cmc = match_dfs(dft, df)\n",
    "plotly_zones(dfm, dfm_cmc)"
   ]
  },
  {
   "cell_type": "code",
   "execution_count": null,
   "id": "actual-pierce",
   "metadata": {},
   "outputs": [],
   "source": [
    "plotly_zone(df_24k, y='Vol')"
   ]
  },
  {
   "cell_type": "code",
   "execution_count": null,
   "id": "straight-teens",
   "metadata": {},
   "outputs": [],
   "source": [
    "dfm = match_dfs(df_24k, df_ctrl_24k)\n",
    "dfm.shape"
   ]
  },
  {
   "cell_type": "code",
   "execution_count": null,
   "id": "insured-reducing",
   "metadata": {},
   "outputs": [],
   "source": []
  }
 ],
 "metadata": {
  "kernelspec": {
   "display_name": "Python 3",
   "language": "python",
   "name": "python3"
  },
  "language_info": {
   "codemirror_mode": {
    "name": "ipython",
    "version": 3
   },
   "file_extension": ".py",
   "mimetype": "text/x-python",
   "name": "python",
   "nbconvert_exporter": "python",
   "pygments_lexer": "ipython3",
   "version": "3.7.3"
  }
 },
 "nbformat": 4,
 "nbformat_minor": 5
}
