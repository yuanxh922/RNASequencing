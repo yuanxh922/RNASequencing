{
 "cells": [
  {
   "cell_type": "code",
   "execution_count": null,
   "id": "criminal-black",
   "metadata": {},
   "outputs": [],
   "source": [
    "import pandas as pd"
   ]
  },
  {
   "cell_type": "code",
   "execution_count": null,
   "id": "greatest-break",
   "metadata": {},
   "outputs": [],
   "source": [
    "%run ../../modules/cds.ipynb\n",
    "%run ../../modules/preprocessing.ipynb\n",
    "%run ../../modules/utils.ipynb"
   ]
  },
  {
   "cell_type": "code",
   "execution_count": null,
   "id": "superb-carbon",
   "metadata": {},
   "outputs": [],
   "source": [
    "f = '/Users/xyuan/Documents/Datasets/20220708/Yueast_yue/Phe/pheAD_4_4.xlsx'\n",
    "df = load_data(f)\n",
    "df.shape[0]"
   ]
  },
  {
   "cell_type": "code",
   "execution_count": null,
   "id": "after-preview",
   "metadata": {},
   "outputs": [],
   "source": [
    "df_24k = df[(df.Mass>24000)&(df.Mass<26000)]\n",
    "plotly_zone(df_24k, y='Vol')\n",
    "plotly_zone(df)"
   ]
  },
  {
   "cell_type": "code",
   "execution_count": null,
   "id": "wired-audience",
   "metadata": {},
   "outputs": [],
   "source": [
    "df_top = local_top(df)"
   ]
  },
  {
   "cell_type": "code",
   "execution_count": null,
   "id": "determined-credits",
   "metadata": {},
   "outputs": [],
   "source": [
    "plotly_zone(df_top)\n",
    "bcr = base_calling_random(df_top)\n",
    "plotly_basecalling(*bcr)"
   ]
  },
  {
   "cell_type": "code",
   "execution_count": null,
   "id": "adverse-sudan",
   "metadata": {},
   "outputs": [],
   "source": [
    "df_5p = pd.read_excel('~/Studio/tools/phe_75_5p.xlsx')\n",
    "df_3p = pd.read_excel('~/Studio/tools/phe_75_3p.xlsx')"
   ]
  },
  {
   "cell_type": "code",
   "execution_count": null,
   "id": "downtown-nickname",
   "metadata": {},
   "outputs": [],
   "source": [
    "dft = df_5p.copy()\n",
    "dfm = match_dfs(dft, df)\n",
    "bcr = base_calling_random(dfm)\n",
    "plotly_basecalling(dfm, bcr[1])\n",
    "\n",
    "dft.Mass += 57\n",
    "dfm = match_dfs(dft, df, ppm=30)\n",
    "bcr = base_calling_random(dfm)\n",
    "plotly_basecalling(dfm, bcr[1])\n",
    "\n",
    "# dft.Mass -= M\n",
    "# dfm = match_dfs(dft, df, ppm=30)\n",
    "# bcr = base_calling_random(dfm)\n",
    "# plotly_basecalling(dfm, bcr[1])"
   ]
  },
  {
   "cell_type": "code",
   "execution_count": null,
   "id": "previous-naples",
   "metadata": {},
   "outputs": [],
   "source": [
    "dft = df_3p.copy()\n",
    "dfm = match_dfs(dft, df)\n",
    "bcr = base_calling_random(dfm)\n",
    "plotly_basecalling(dfm, bcr[1])\n",
    "\n",
    "dft.Mass += 57\n",
    "dfm = match_dfs(dft, df, ppm=30)\n",
    "bcr = base_calling_random(dfm)\n",
    "plotly_basecalling(dfm, bcr[1])"
   ]
  },
  {
   "cell_type": "code",
   "execution_count": null,
   "id": "flexible-rebate",
   "metadata": {},
   "outputs": [],
   "source": []
  }
 ],
 "metadata": {
  "kernelspec": {
   "display_name": "Python 3",
   "language": "python",
   "name": "python3"
  },
  "language_info": {
   "codemirror_mode": {
    "name": "ipython",
    "version": 3
   },
   "file_extension": ".py",
   "mimetype": "text/x-python",
   "name": "python",
   "nbconvert_exporter": "python",
   "pygments_lexer": "ipython3",
   "version": "3.7.3"
  }
 },
 "nbformat": 4,
 "nbformat_minor": 5
}
