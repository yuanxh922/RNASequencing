{
 "cells": [
  {
   "cell_type": "code",
   "execution_count": null,
   "id": "broad-tsunami",
   "metadata": {},
   "outputs": [],
   "source": [
    "import pandas as pd"
   ]
  },
  {
   "cell_type": "code",
   "execution_count": null,
   "id": "foreign-webcam",
   "metadata": {},
   "outputs": [],
   "source": [
    "%run ../../modules/utils.ipynb\n",
    "%run ../../modules/cds.ipynb\n",
    "%run ../../modules/preprocessing.ipynb"
   ]
  },
  {
   "cell_type": "code",
   "execution_count": null,
   "id": "wired-manhattan",
   "metadata": {},
   "outputs": [],
   "source": [
    "# f = '/Users/xyuan/Documents/Datasets/100nt/7_M_Nonm_10_90_ADneg_rt_0.2.xlsx'\n",
    "# df7 = load_data(f)\n",
    "# f = '/Users/xyuan/Documents/Datasets/100nt/8_M_Nonm_30_70_ADneg_rt_0.2.xlsx'\n",
    "# df8 = load_data(f)\n",
    "# f = '/Users/xyuan/Documents/Datasets/100nt/9_M_Nonm_50_50_ADneg.xlsx'\n",
    "# df9 = load_data(f)\n",
    "f = '/Users/xyuan/Documents/Datasets/20220708/100nt/10_M_Nonm_70_30_ADneg.xlsx'\n",
    "df10 = load_data(f)\n",
    "f = '/Users/xyuan/Documents/Datasets/20220708/100nt/11_M_Nonm_90_10_ADneg.xlsx'\n",
    "df11 = load_data(f)\n",
    "f = '/Users/xyuan/Documents/Datasets/20220708/100nt/12_Nonm_ADneg.xlsx'\n",
    "df12 = load_data(f)\n",
    "\n",
    "# Yue exported\n",
    "f = '/Users/xyuan/Documents/Datasets/20220708/100ny_yue/100nt_7_M_Non-m_10_90_AD_0.006.xlsx'\n",
    "df7 = load_data(f)\n",
    "f = '/Users/xyuan/Documents/Datasets/20220708/100ny_yue/100nt_8_M_NonM_30_70_AD.xlsx'\n",
    "df8 = load_data(f)\n",
    "f = '/Users/xyuan/Documents/Datasets/20220708/100ny_yue/100nt_9_M_NonM_50_50_AD.xlsx'\n",
    "df9 = load_data(f)"
   ]
  },
  {
   "cell_type": "code",
   "execution_count": null,
   "id": "cognitive-atmosphere",
   "metadata": {},
   "outputs": [],
   "source": [
    "for df in [df7, df8, df9, df10, df11, df12]:\n",
    "    df_24k = df[df.Mass>30000]\n",
    "#     plotly_zone(df_24k, y='Vol')\n",
    "    plot_zone(df)"
   ]
  },
  {
   "cell_type": "code",
   "execution_count": null,
   "id": "close-child",
   "metadata": {},
   "outputs": [],
   "source": [
    "df_5p = pd.read_excel('~/Studio/tools/rna_100nt_5p.xlsx')\n",
    "df_3p = pd.read_excel('~/Studio/tools/rna_100nt_3p.xlsx')"
   ]
  },
  {
   "cell_type": "code",
   "execution_count": null,
   "id": "standard-sapphire",
   "metadata": {},
   "outputs": [],
   "source": [
    "df = df10.copy()\n",
    "dft = df_5p.copy()\n",
    "\n",
    "dft.Mass -= 80\n",
    "dfm1 = match_dfs(dft, df)\n",
    "# plotly_zone(dfm1)\n",
    "\n",
    "dft.Mass += M\n",
    "dfm2 = match_dfs(dft, df)\n",
    "# plotly_zone(dfm2)\n",
    "\n",
    "dft.Mass += M\n",
    "dfm3 = match_dfs(dft, df)\n",
    "# plotly_zone(dfm3)\n",
    "\n",
    "plotly_multi_zones([dfm1, dfm2, dfm3])"
   ]
  },
  {
   "cell_type": "code",
   "execution_count": null,
   "id": "presidential-twins",
   "metadata": {},
   "outputs": [],
   "source": [
    "df_top = local_top(df, top=20)\n",
    "df_top.shape\n",
    "dfm = match_dfs(df_top, df_top, shift=M)\n",
    "plotly_zone(dfm)"
   ]
  },
  {
   "cell_type": "code",
   "execution_count": null,
   "id": "marine-blame",
   "metadata": {},
   "outputs": [],
   "source": [
    "dfm.shape, df.shape"
   ]
  },
  {
   "cell_type": "code",
   "execution_count": null,
   "id": "medical-ticket",
   "metadata": {},
   "outputs": [],
   "source": []
  }
 ],
 "metadata": {
  "kernelspec": {
   "display_name": "Python 3",
   "language": "python",
   "name": "python3"
  },
  "language_info": {
   "codemirror_mode": {
    "name": "ipython",
    "version": 3
   },
   "file_extension": ".py",
   "mimetype": "text/x-python",
   "name": "python",
   "nbconvert_exporter": "python",
   "pygments_lexer": "ipython3",
   "version": "3.7.3"
  }
 },
 "nbformat": 4,
 "nbformat_minor": 5
}
