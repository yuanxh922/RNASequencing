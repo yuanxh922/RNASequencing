{
 "cells": [
  {
   "cell_type": "code",
   "execution_count": null,
   "id": "educated-principle",
   "metadata": {},
   "outputs": [],
   "source": [
    "import pandas as pd"
   ]
  },
  {
   "cell_type": "code",
   "execution_count": null,
   "id": "acquired-allowance",
   "metadata": {},
   "outputs": [],
   "source": [
    "%run ../modules/utils.ipynb\n",
    "%run ../modules/cds.ipynb\n",
    "%run ../modules/preprocessing.ipynb"
   ]
  },
  {
   "cell_type": "code",
   "execution_count": null,
   "id": "collective-visitor",
   "metadata": {},
   "outputs": [],
   "source": [
    "# Yue exported\n",
    "f = '/Users/xyuan/Documents/Datasets/100ny_yue/100nt_7_M_Non-m_10_90_AD_0.006.xlsx'\n",
    "df7 = load_data(f)\n",
    "f = '/Users/xyuan/Documents/Datasets/100ny_yue/100nt_8_M_NonM_30_70_AD.xlsx'\n",
    "df8 = load_data(f)\n",
    "f = '/Users/xyuan/Documents/Datasets/100ny_yue/100nt_9_M_NonM_50_50_AD.xlsx'\n",
    "df9 = load_data(f)\n",
    "f = '/Users/xyuan/Documents/Datasets/100ny_yue/100nt_10_M_NonM_70_30_AD.xlsx'\n",
    "df10 = load_data(f)\n",
    "f = '/Users/xyuan/Documents/Datasets/100ny_yue/100nt_11_M_NonM_90_10_AD.xlsx'\n",
    "df11 = load_data(f)\n",
    "f = '/Users/xyuan/Documents/Datasets/100ny_yue/100nt_12_NonM_AD.xlsx'\n",
    "df12 = load_data(f)"
   ]
  },
  {
   "cell_type": "code",
   "execution_count": null,
   "id": "incorporated-format",
   "metadata": {},
   "outputs": [],
   "source": [
    "for df in [df7, df8, df9, df10, df11, df12]:\n",
    "    plot_zone(df)"
   ]
  },
  {
   "cell_type": "code",
   "execution_count": null,
   "id": "tough-million",
   "metadata": {},
   "outputs": [],
   "source": []
  }
 ],
 "metadata": {
  "kernelspec": {
   "display_name": "Python 3",
   "language": "python",
   "name": "python3"
  },
  "language_info": {
   "codemirror_mode": {
    "name": "ipython",
    "version": 3
   },
   "file_extension": ".py",
   "mimetype": "text/x-python",
   "name": "python",
   "nbconvert_exporter": "python",
   "pygments_lexer": "ipython3",
   "version": "3.7.3"
  }
 },
 "nbformat": 4,
 "nbformat_minor": 5
}
