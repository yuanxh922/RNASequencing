{
 "cells": [
  {
   "cell_type": "code",
   "execution_count": null,
   "id": "tender-galaxy",
   "metadata": {},
   "outputs": [],
   "source": [
    "import pandas as pd"
   ]
  },
  {
   "cell_type": "code",
   "execution_count": null,
   "id": "junior-conditions",
   "metadata": {},
   "outputs": [],
   "source": [
    "%run ../../modules/utils.ipynb\n",
    "%run ../../modules/cds.ipynb\n",
    "%run ../../modules/preprocessing.ipynb"
   ]
  },
  {
   "cell_type": "code",
   "execution_count": null,
   "id": "third-science",
   "metadata": {},
   "outputs": [],
   "source": [
    "f = '~/Studio/tools/samples/19.csv'\n",
    "df = pd.read_csv(f)\n",
    "df.shape[0]"
   ]
  },
  {
   "cell_type": "code",
   "execution_count": null,
   "id": "duplicate-horror",
   "metadata": {},
   "outputs": [],
   "source": [
    "df = df[df.RT<15]\n",
    "df.shape"
   ]
  },
  {
   "cell_type": "code",
   "execution_count": null,
   "id": "legitimate-dividend",
   "metadata": {},
   "outputs": [],
   "source": [
    "plotly_zone(df, y='Vol')\n",
    "# df_top = local_top(df)\n",
    "# plotly_zone(df_top)\n",
    "bcr = base_calling_random(df, base_only=True)\n",
    "plotly_basecalling(*bcr)"
   ]
  },
  {
   "cell_type": "code",
   "execution_count": null,
   "id": "cosmetic-console",
   "metadata": {},
   "outputs": [],
   "source": [
    "dft = bcr[0].copy()\n",
    "# plotly_zone(dft)\n",
    "plotly_basecalling(dft, bcr[1])"
   ]
  },
  {
   "cell_type": "code",
   "execution_count": null,
   "id": "postal-illinois",
   "metadata": {},
   "outputs": [],
   "source": [
    "1023 - 596"
   ]
  },
  {
   "cell_type": "code",
   "execution_count": null,
   "id": "statistical-southwest",
   "metadata": {},
   "outputs": [],
   "source": [
    "df_3p = pd.read_excel('~/Studio/seq_bank/results/19_3p.xlsx')\n",
    "df_5p = pd.read_excel('~/Studio/seq_bank/results/19_5p.xlsx')"
   ]
  },
  {
   "cell_type": "code",
   "execution_count": null,
   "id": "excessive-integration",
   "metadata": {},
   "outputs": [],
   "source": [
    "dfm_3p = match_dfs(df, df_3p)\n",
    "dfm_5p = match_dfs(df, df_5p)"
   ]
  },
  {
   "cell_type": "code",
   "execution_count": null,
   "id": "emotional-player",
   "metadata": {},
   "outputs": [],
   "source": [
    "l3p = df_3p.copy()\n",
    "# l3p.reset_index(drop=True, inplace=True)\n",
    "l5p = df_5p.sort_values('Mass', ascending=False).copy()\n",
    "# l5p.reset_index(drop=True, inplace=True)\n",
    "# print(l3p, l5p)"
   ]
  },
  {
   "cell_type": "code",
   "execution_count": null,
   "id": "about-suite",
   "metadata": {},
   "outputs": [],
   "source": [
    "l3 = l3p[:-1].reset_index()\n",
    "l5 = l5p[1:].reset_index()\n",
    "l3, l5"
   ]
  },
  {
   "cell_type": "code",
   "execution_count": null,
   "id": "announced-consciousness",
   "metadata": {},
   "outputs": [],
   "source": [
    "# dfm_l3 = match_dfs(l3, df)\n",
    "# dfm_l5 = match_dfs(l5, df)\n",
    "dfm_l3[['Mass', 'Vol']].sort_values('Mass'), dfm_l5[['Mass', 'Vol']].sort_values('Mass', ascending=False)"
   ]
  },
  {
   "cell_type": "code",
   "execution_count": null,
   "id": "forced-thursday",
   "metadata": {},
   "outputs": [],
   "source": [
    "plotly_zones(dfm_l3, dfm_l5)"
   ]
  },
  {
   "cell_type": "code",
   "execution_count": null,
   "id": "genetic-sender",
   "metadata": {},
   "outputs": [],
   "source": [
    "f = '/Users/xyuan/Documents/SeqDataSets/CMC/181227s07_100.xls'\n",
    "df = load_data(f)"
   ]
  },
  {
   "cell_type": "code",
   "execution_count": null,
   "id": "coral-forty",
   "metadata": {},
   "outputs": [],
   "source": [
    "df_top = local_top(df)\n",
    "# plotly_zone(df_top)\n",
    "bcr = base_calling_random(df_top)\n",
    "plotly_basecalling(*bcr)"
   ]
  },
  {
   "cell_type": "code",
   "execution_count": null,
   "id": "corresponding-subscriber",
   "metadata": {},
   "outputs": [],
   "source": [
    "plotly_zone(df)"
   ]
  },
  {
   "cell_type": "code",
   "execution_count": null,
   "id": "biological-suite",
   "metadata": {},
   "outputs": [],
   "source": []
  }
 ],
 "metadata": {
  "kernelspec": {
   "display_name": "Python 3",
   "language": "python",
   "name": "python3"
  },
  "language_info": {
   "codemirror_mode": {
    "name": "ipython",
    "version": 3
   },
   "file_extension": ".py",
   "mimetype": "text/x-python",
   "name": "python",
   "nbconvert_exporter": "python",
   "pygments_lexer": "ipython3",
   "version": "3.7.3"
  }
 },
 "nbformat": 4,
 "nbformat_minor": 5
}
