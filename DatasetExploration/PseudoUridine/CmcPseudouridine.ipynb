{
 "cells": [
  {
   "cell_type": "code",
   "execution_count": null,
   "id": "twenty-official",
   "metadata": {},
   "outputs": [],
   "source": [
    "import pandas as pd"
   ]
  },
  {
   "cell_type": "code",
   "execution_count": null,
   "id": "prime-flush",
   "metadata": {},
   "outputs": [],
   "source": [
    "%run ../../modules/preprocessing.ipynb\n",
    "%run ../../modules/cds.ipynb\n",
    "%run ../../modules/utils.ipynb"
   ]
  },
  {
   "cell_type": "code",
   "execution_count": null,
   "id": "russian-leather",
   "metadata": {},
   "outputs": [],
   "source": [
    "# f = '/Users/xyuan/Documents/SeqDataSets/CMC/181227s07_100.xls' # 3´ Biotin 694.2397, with m5C at the 16th position\n",
    "f = '/Users/xyuan/Documents/Datasets/Ning Zhang/12-29-2018/181227s09_1000.xls' # \n",
    "# f = '/Users/xyuan/Documents/Datasets/Ning Zhang/12-29-2018/181227s08_100.xls' # No tag, without m5C\n",
    "# f = '/Users/xyuan/Documents/Datasets/Ning Zhang/12-29-2018/181227s10_1000.xls' # 3´ Biotin 826.3184, without m5C\n",
    "df = load_data(f)\n",
    "# f = '/Users/xyuan/Documents/Datasets/Ning Zhang/3-19-2018/NZ_180315_#14.csv' # \n",
    "# df = load_data(f, csv_format=True)"
   ]
  },
  {
   "cell_type": "code",
   "execution_count": null,
   "id": "imported-rogers",
   "metadata": {},
   "outputs": [],
   "source": []
  },
  {
   "cell_type": "code",
   "execution_count": null,
   "id": "ancient-certification",
   "metadata": {},
   "outputs": [],
   "source": [
    "plotly_zone(df)\n",
    "# df_top = local_top(df)\n",
    "# bcr = base_calling_random(df_top)\n",
    "# plotly_basecalling(*bcr)"
   ]
  },
  {
   "cell_type": "code",
   "execution_count": null,
   "id": "applicable-clear",
   "metadata": {},
   "outputs": [],
   "source": [
    "f = '~/Studio/tools/samples/201.csv'\n",
    "df_201 = load_data(f, csv_format=True)"
   ]
  },
  {
   "cell_type": "code",
   "execution_count": null,
   "id": "general-multimedia",
   "metadata": {},
   "outputs": [],
   "source": [
    "df_5p = load_data('~/Studio/seq_bank/results/201_5p.xlsx')\n",
    "df_3p = load_data('~/Studio/seq_bank/results/201_3p.xlsx')"
   ]
  },
  {
   "cell_type": "code",
   "execution_count": null,
   "id": "instrumental-accessory",
   "metadata": {},
   "outputs": [],
   "source": [
    "df_5p.head()"
   ]
  },
  {
   "cell_type": "code",
   "execution_count": null,
   "id": "surface-damages",
   "metadata": {},
   "outputs": [],
   "source": [
    "# cmc = 557.2251 - U\n",
    "826.3184 - 694.2397"
   ]
  },
  {
   "cell_type": "code",
   "execution_count": null,
   "id": "parliamentary-investing",
   "metadata": {},
   "outputs": [],
   "source": [
    "# process 5´\n",
    "dft = df_5p.copy()\n",
    "dfm = match_dfs(dft, df)\n",
    "dft.Mass += cmc\n",
    "dfm_cmc = match_dfs(dft, df)\n",
    "dft.Mass += M\n",
    "dfm_cmc_2x = match_dfs(dft, df, ppm=50)\n",
    "dfm.shape[0], dfm_cmc.shape[0], dfm_cmc_2x.shape[0]"
   ]
  },
  {
   "cell_type": "code",
   "execution_count": null,
   "id": "otherwise-japanese",
   "metadata": {},
   "outputs": [],
   "source": [
    "# process 3´\n",
    "dft = df_3p.copy()\n",
    "# dft.Mass -= 756.1954\n",
    "dft.Mass += 132.0787\n",
    "dfm = match_dfs(dft, df)\n",
    "dft.Mass += M\n",
    "dfm_cmc = match_dfs(dft, df)\n",
    "dft.Mass += cmc\n",
    "dfm_cmc_2x = match_dfs(dft, df, ppm=50)\n",
    "dfm.shape[0], dfm_cmc.shape[0], dfm_cmc_2x.shape[0]"
   ]
  },
  {
   "cell_type": "code",
   "execution_count": null,
   "id": "equipped-closing",
   "metadata": {},
   "outputs": [],
   "source": [
    "# plotly_zone(dfm)\n",
    "# plotly_zone(dfm_cmc)\n",
    "# plotly_zones(dfm, dfm_cmc, y='RT') \n",
    "# plotly_multi_zones([dfm, dfm_cmc, dfm_cmc_2x], y='RT')\n",
    "\n",
    "# bcr_reg = base_calling_random(dfm)\n",
    "# bcr_cmc = base_calling_random(dfm_cmc)\n",
    "# plotly_basecalling(*bcr_reg)\n",
    "# plotly_basecalling(*bcr_cmc)\n",
    "\n",
    "dfm = pd.concat([dfm, dfm_cmc, dfm_cmc_2x]).drop_duplicates()\n",
    "bcr = base_calling_random(dfm)\n",
    "plotly_basecalling(*bcr)"
   ]
  },
  {
   "cell_type": "code",
   "execution_count": null,
   "id": "static-landing",
   "metadata": {},
   "outputs": [],
   "source": []
  },
  {
   "cell_type": "code",
   "execution_count": null,
   "id": "metallic-feature",
   "metadata": {},
   "outputs": [],
   "source": [
    "dfm.shape"
   ]
  },
  {
   "cell_type": "code",
   "execution_count": null,
   "id": "endangered-partnership",
   "metadata": {},
   "outputs": [],
   "source": []
  }
 ],
 "metadata": {
  "kernelspec": {
   "display_name": "Python 3",
   "language": "python",
   "name": "python3"
  },
  "language_info": {
   "codemirror_mode": {
    "name": "ipython",
    "version": 3
   },
   "file_extension": ".py",
   "mimetype": "text/x-python",
   "name": "python",
   "nbconvert_exporter": "python",
   "pygments_lexer": "ipython3",
   "version": "3.7.3"
  }
 },
 "nbformat": 4,
 "nbformat_minor": 5
}
