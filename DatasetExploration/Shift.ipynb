{
 "cells": [
  {
   "cell_type": "code",
   "execution_count": null,
   "id": "average-skill",
   "metadata": {},
   "outputs": [],
   "source": [
    "import pandas as pd"
   ]
  },
  {
   "cell_type": "code",
   "execution_count": null,
   "id": "suspended-artist",
   "metadata": {},
   "outputs": [],
   "source": [
    "%run ../modules/utils.ipynb\n",
    "%run ../modules/preprocessing.ipynb\n",
    "%run ../modules/cds.ipynb"
   ]
  },
  {
   "cell_type": "code",
   "execution_count": null,
   "id": "urban-setup",
   "metadata": {},
   "outputs": [],
   "source": [
    "# df = pd.read_excel('/Users/bryan/Documents/BioPharmaFinder/BaoLab/FirstBatch/Excels/S2to5combined_20ul_40min.xlsx')\n",
    "df = pd.read_excel('/Users/bryan/Documents/BioPharmaFinder/BaoLab/FirstBatch/Excels/S6to10combined_20ul_40min.xlsx')\n",
    "df = thermo_df(df)"
   ]
  },
  {
   "cell_type": "code",
   "execution_count": null,
   "id": "collect-director",
   "metadata": {},
   "outputs": [],
   "source": [
    "# df_phe = pd.read_excel('/Users/bryan/Studio/tools/phe_76_5p.xlsx')\n",
    "# df_dna = pd.read_excel('/Users/bryan/Studio/tools/glu_dna.xlsx')\n",
    "df_dna = pd.read_excel('/Users/bryan/Studio/tools/NGS_24129_5p.xlsx')\n",
    "# df_rna = pd.read_excel('/Users/bryan/Studio/tools/glu_76_5p.xlsx')\n",
    "df_rna = pd.read_excel('/Users/bryan/Studio/tools/glu_76_3p.xlsx')"
   ]
  },
  {
   "cell_type": "code",
   "execution_count": null,
   "id": "cosmetic-baseball",
   "metadata": {},
   "outputs": [],
   "source": [
    "df_rna"
   ]
  },
  {
   "cell_type": "code",
   "execution_count": null,
   "id": "norman-kuwait",
   "metadata": {},
   "outputs": [],
   "source": [
    "target = 1333.14174\n",
    "plotly_zone(df[(df.Mass>target-20)&(df.Mass<target+20)])"
   ]
  },
  {
   "cell_type": "code",
   "execution_count": null,
   "id": "powered-front",
   "metadata": {},
   "outputs": [],
   "source": [
    "plotly_zone(df)"
   ]
  },
  {
   "cell_type": "code",
   "execution_count": null,
   "id": "enhanced-wyoming",
   "metadata": {},
   "outputs": [],
   "source": [
    "df[(df.Mass>24190)&(df.Mass<24350)]"
   ]
  },
  {
   "cell_type": "code",
   "execution_count": null,
   "id": "assured-robinson",
   "metadata": {},
   "outputs": [],
   "source": [
    "df_match = match_dfs(df, df, shift=A)\n",
    "df_match.shape"
   ]
  },
  {
   "cell_type": "code",
   "execution_count": null,
   "id": "fifth-northern",
   "metadata": {},
   "outputs": [],
   "source": [
    "plotly_zone(df_match)"
   ]
  },
  {
   "cell_type": "code",
   "execution_count": null,
   "id": "about-hughes",
   "metadata": {},
   "outputs": [],
   "source": [
    "df_match = match_dfs(df_dna, df)\n",
    "df_matches = list()\n",
    "shifts = list()\n",
    "shifts_3p_cca = [16, 22, 24, 28]\n",
    "shifts_3p_cc = [16, 22, 23, 24, 28]\n",
    "shifts_5p = [4, 16, 22, 28]\n",
    "shifts_rna = [-18, -4, -1, 0, 1, 2, 14, 16, 17]\n",
    "# shifts_rna = \n",
    "# for shift in shifts_rna:\n",
    "for shift in range(-200, 200, 1):\n",
    "    df_shift = df_rna.copy()\n",
    "    df_shift.Mass += shift\n",
    "    df_shift_match = match_dfs(df_shift, df_mock_noad)\n",
    "    if df_shift_match.shape[0]> 2:\n",
    "        shifts.append(shift)\n",
    "        print(df_shift_match.shape)\n",
    "        df_matches.append(df_shift_match)"
   ]
  },
  {
   "cell_type": "code",
   "execution_count": null,
   "id": "covered-regard",
   "metadata": {},
   "outputs": [],
   "source": [
    "shifts"
   ]
  },
  {
   "cell_type": "code",
   "execution_count": null,
   "id": "marine-resident",
   "metadata": {},
   "outputs": [],
   "source": [
    "idx = 3\n",
    "dftmp = [df]\n",
    "dftmp.extend(df_matches)\n",
    "# plotly_multi_zones(dftmp)\n",
    "plotly_multi_zones(df_matches[:])\n",
    "# plotly_multi_zones([df_matches[2], df_matches[5]])\n",
    "# plotly_zone(df_matches[2])\n",
    "\n",
    "\n",
    "# plotly_zone(df_matches[idx])"
   ]
  },
  {
   "cell_type": "code",
   "execution_count": null,
   "id": "general-glucose",
   "metadata": {},
   "outputs": [],
   "source": [
    "# df_merge = pd.concat([df_matches[3], df_matches[5]])\n",
    "# df_merge = pd.concat([df_matches[3], df_matches[4]])\n",
    "# df_merge = pd.concat([df_matches[1], df_matches[4]])\n",
    "# df_merge = pd.concat([df_matches[1], df_matches[3]])\n",
    "df_merge = pd.concat([df_matches[1], df_matches[3]])\n",
    "df_merge = df_merge.drop_duplicates()\n",
    "df_merge.to_excel('/Users/bryan/Documents/BioPharmaFinder/BaoLab/NGS/Shift/1.xlsx')"
   ]
  },
  {
   "cell_type": "code",
   "execution_count": null,
   "id": "thousand-package",
   "metadata": {},
   "outputs": [],
   "source": [
    "for i in range(1, 2, 1):\n",
    "    in_name = f'/Users/bryan/Documents/BioPharmaFinder/BaoLab/NGS/Shift/{i}.xlsx'\n",
    "    df = pd.read_excel(in_name)\n",
    "    bcr = base_calling_random(df, silence=True)\n",
    "    plotly_basecalling(*bcr, annotate=False)\n",
    "    df_seats = process_mass_base_seats(*bcr, full_mass=full_mass, orientation=5)\n",
    "    out_name = f'/Users/bryan/Documents/BioPharmaFinder/BaoLab/NGS/Shift/seats_{i}.xlsx'\n",
    "    df_seats.to_excel(out_name)"
   ]
  },
  {
   "cell_type": "code",
   "execution_count": null,
   "id": "surprised-frederick",
   "metadata": {},
   "outputs": [],
   "source": []
  },
  {
   "cell_type": "code",
   "execution_count": null,
   "id": "experienced-costs",
   "metadata": {},
   "outputs": [],
   "source": [
    "df_dna.tail()"
   ]
  },
  {
   "cell_type": "code",
   "execution_count": null,
   "id": "accessible-institution",
   "metadata": {},
   "outputs": [],
   "source": [
    "df = pd.read_excel('/Users/bryan/Documents/BioPharmaFinder/BaoLab/FirstBatch/Excels/S2to5combined_20ul_40min.xlsx')\n",
    "# df = pd.read_excel('/Users/bryan/Documents/BioPharmaFinder/BaoLab/FirstBatch/Excels/S6to10combined_20ul_40min.xlsx')\n",
    "df = thermo_df(df)\n",
    "df_dna = pd.read_excel('/Users/bryan/Studio/tools/glu_dna.xlsx')\n",
    "\n",
    "df_mock_noad = pd.read_excel('/Users/bryan/Documents/BioPharmaFinder/BaoLab/FirstBatch/Excels/1_Mock_10ul_9min_NewOmics.xlsx')\n",
    "df_rsv_noad = pd.read_excel('/Users/bryan/Documents/BioPharmaFinder/BaoLab/FirstBatch/Excels/6_RSV1_10ul_9min_NewOmics.xlsx')\n",
    "df_mock_noad = thermo_df(df_mock_noad)\n",
    "df_rsv_noad = thermo_df(df_rsv_noad)\n",
    "df_mock = pd.read_excel('/Users/bryan/Documents/BioPharmaFinder/BaoLab/FirstBatch/Excels/S2to5combined_20ul_40min.xlsx')\n",
    "df_rsv = pd.read_excel('/Users/bryan/Documents/BioPharmaFinder/BaoLab/FirstBatch/Excels/S6to10combined_20ul_40min.xlsx')\n",
    "df_mock = thermo_df(df_mock)\n",
    "df_rsv = thermo_df(df_rsv)\n"
   ]
  },
  {
   "cell_type": "code",
   "execution_count": null,
   "id": "alien-group",
   "metadata": {},
   "outputs": [],
   "source": [
    "df_25k_rsv = df_rsv[df_rsv.Mass>22000]\n",
    "plotly_zone(df_25k_rsv, y='Vol')"
   ]
  },
  {
   "cell_type": "code",
   "execution_count": null,
   "id": "flexible-collection",
   "metadata": {},
   "outputs": [],
   "source": [
    "# plotly_zone(df_mock_noad)\n",
    "# plotly_zone(df_rsv_noad)\n",
    "# df_25k_mock_noad = df_mock_noad[(df_mock_noad.Mass>6000)&((df_mock_noad.Mass<13000))&(df_mock_noad.RT<3.6)]\n",
    "# df_25k_rsv_noad = df_rsv_noad[(df_rsv_noad.Mass>6000)&(df_rsv_noad.Mass<13000)&(df_rsv_noad.RT<3.6)&(df_25k_rsv_noad.RT>2)]\n",
    "# plotly_zones(df_25k_mock_noad, df_25k_rsv_noad)\n",
    "# plotly_zone(df_25k_rsv_noad)\n",
    "\n",
    "\n"
   ]
  },
  {
   "cell_type": "code",
   "execution_count": null,
   "id": "sharp-firmware",
   "metadata": {},
   "outputs": [],
   "source": [
    "plotly_zone(df_mock_noad[(df_mock_noad.Mass>6000)&(df_mock_noad.Mass<13000)], y='Vol')\n",
    "plotly_zone(df_rsv_noad[(df_rsv_noad.Mass>6000)&(df_rsv_noad.Mass<13000)], y='Vol')"
   ]
  },
  {
   "cell_type": "code",
   "execution_count": null,
   "id": "extra-volleyball",
   "metadata": {},
   "outputs": [],
   "source": [
    "\n",
    "df1 = match_dfs(df_rsv_noad, df_mock_noad)\n",
    "df2 = match_dfs(df_mock_noad, df_rsv_noad)\n",
    "df_mock_rest = df_mock_noad.drop(df1.index)\n",
    "df_rsv_rest = df_rsv_noad.drop(df2.index)\n",
    "# plotly_zone(df_mock_rest)\n",
    "# plotly_zone(df_rsv_rest)"
   ]
  },
  {
   "cell_type": "code",
   "execution_count": null,
   "id": "greenhouse-literacy",
   "metadata": {},
   "outputs": [],
   "source": [
    "\n",
    "df_25k_mock_noad = df_mock_rest[(df_mock_rest.Mass>6000)&((df_mock_rest.Mass<13000))&(df_mock_rest.RT<3.6)]\n",
    "df_25k_rsv_noad = df_rsv_rest[(df_rsv_rest.Mass>6000)&(df_rsv_rest.Mass<13000)&(df_rsv_rest.RT<3.6)&(df_rsv_rest.RT>2)]\n",
    "# plotly_zones(df_25k_mock_noad, df_25k_rsv_noad)\n",
    "plotly_zone(df_25k_mock_noad, y='Vol')\n",
    "plotly_zone(df_25k_rsv_noad, y='Vol')\n",
    "df_25k_mock_noad.to_excel('/Users/bryan/Documents/BioPharmaFinder/BaoLab/FirstBatch/PaperData/GluCleavage/mock.xlsx')\n",
    "df_25k_rsv_noad.to_excel('/Users/bryan/Documents/BioPharmaFinder/BaoLab/FirstBatch/PaperData/GluCleavage/rsv.xlsx')\n"
   ]
  },
  {
   "cell_type": "code",
   "execution_count": null,
   "id": "focused-jimmy",
   "metadata": {},
   "outputs": [],
   "source": []
  },
  {
   "cell_type": "code",
   "execution_count": null,
   "id": "romantic-strength",
   "metadata": {},
   "outputs": [],
   "source": [
    "%run ../modules/utils.ipynb\n",
    "mask = df_m.focus.notna()\n",
    "df_m_focus = df_m[mask]\n",
    "mask = df_r.focus.notna()\n",
    "df_r_focus = df_r[mask]\n",
    "# plotly_zones(df_m_focus, df_r_focus)\n",
    "\n",
    "bcr = base_calling_random(df_m_focus, silence=True)\n",
    "# plt.scatter(df_m.Mass, df_m.RT)\n",
    "plt, _ = plot_basecalling(df_m, bcr[1], plt=plt, annotate=False)\n",
    "# bcr = base_calling_random(df_r_focus, silence=True)\n",
    "# plotly_basecalling(*bcr, annotate=False)"
   ]
  },
  {
   "cell_type": "code",
   "execution_count": null,
   "id": "personalized-carry",
   "metadata": {},
   "outputs": [],
   "source": []
  },
  {
   "cell_type": "code",
   "execution_count": null,
   "id": "female-notice",
   "metadata": {},
   "outputs": [],
   "source": []
  },
  {
   "cell_type": "code",
   "execution_count": null,
   "id": "charming-preview",
   "metadata": {},
   "outputs": [],
   "source": []
  },
  {
   "cell_type": "code",
   "execution_count": null,
   "id": "architectural-width",
   "metadata": {},
   "outputs": [],
   "source": [
    "print(df_mock_noad.shape, df_rsv_noad.shape)\n",
    "df_ngs = pd.read_excel('~/Documents/BioPharmaFinder/BaoLab/NGS/tRNA-Glu-CTC_CNvRSV_EJ_dna_rsv.xlsx')\n",
    "df_ngs.Mass.unique().shape"
   ]
  },
  {
   "cell_type": "code",
   "execution_count": null,
   "id": "widespread-square",
   "metadata": {},
   "outputs": [],
   "source": [
    "idxs = list()\n",
    "# create our callback function\n",
    "def on_selection(trace, points, selector):\n",
    "    print('points {}'.format(points.point_inds) )\n",
    "    idxs.extend(points.point_inds)\n",
    "\n",
    "def on_click(trace, points, selector):\n",
    "#     print('points {}'.format(points.point_inds) )\n",
    "    idxs.extend(points.point_inds)\n",
    "\n",
    "df_sample = df_rsv_noad\n",
    "f = zone_selection(df_sample, on_selection=on_selection, on_click=on_click)\n",
    "f"
   ]
  },
  {
   "cell_type": "code",
   "execution_count": null,
   "id": "anonymous-bulgaria",
   "metadata": {},
   "outputs": [],
   "source": [
    "df_chosen = df_sample.iloc[idxs]\n",
    "# df_zone = df_sample.drop(df_chosen.index)\n",
    "df_chosen.shape"
   ]
  },
  {
   "cell_type": "code",
   "execution_count": null,
   "id": "ecological-recommendation",
   "metadata": {},
   "outputs": [],
   "source": [
    "df_tmp = df_chosen.groupby('RT').head(2)\n",
    "plotly_zone(df_tmp)\n",
    "df_tmp.shape"
   ]
  },
  {
   "cell_type": "code",
   "execution_count": null,
   "id": "alive-marijuana",
   "metadata": {},
   "outputs": [],
   "source": []
  },
  {
   "cell_type": "code",
   "execution_count": null,
   "id": "military-apartment",
   "metadata": {},
   "outputs": [],
   "source": []
  },
  {
   "cell_type": "code",
   "execution_count": null,
   "id": "excited-emperor",
   "metadata": {},
   "outputs": [],
   "source": []
  },
  {
   "cell_type": "code",
   "execution_count": null,
   "id": "manufactured-validity",
   "metadata": {},
   "outputs": [],
   "source": [
    "ngs_5p = df_ngs_5p.Mass\n",
    "ngs_5p_m1 = ngs_5p + M\n",
    "ngs_5p_m1d2 = ngs_5p_m1 + 2 * 2\n",
    "ngs_5p_m2d2 = ngs_5p_m1d2 + M\n",
    "ngs_5p_m3d2 = ngs_5p_m2d2 + M\n",
    "ngs_5p_m4d2 = ngs_5p_m3d2 + M\n",
    "ngs_5p_m5d2 = ngs_5p_m4d2 + M"
   ]
  },
  {
   "cell_type": "code",
   "execution_count": null,
   "id": "narrative-junction",
   "metadata": {},
   "outputs": [],
   "source": [
    "dfs = list()\n",
    "dfs_mock = list()\n",
    "dfs_rsv = list()\n",
    "# shifts = [0, 14, 16, 17, 18, 32, 46, 60, 76]\n",
    "shifts = [0, 14, 2, 4, 18, 32, 46]\n",
    "for shift in shifts:\n",
    "    df_shift = df_dna.copy()\n",
    "    df_shift.Mass -= H2O\n",
    "    df_shift.Mass += shift\n",
    "    df_shift_match = match_dfs(df_shift, df_mock_noad)\n",
    "    if df_shift_match.shape[0] > 0:\n",
    "        print('Mock ', shift, df_shift_match.shape)\n",
    "        dfs_mock.append(df_shift_match)\n",
    "    df_shift_match = match_dfs(df_shift, df_rsv_noad)\n",
    "    if df_shift_match.shape[0] > 0:\n",
    "        print('RSV ', shift, df_shift_match.shape)\n",
    "        dfs_rsv.append(df_shift_match)\n",
    "#     plotly_zone(df_shift_match)"
   ]
  },
  {
   "cell_type": "code",
   "execution_count": null,
   "id": "structured-unemployment",
   "metadata": {},
   "outputs": [],
   "source": [
    "df_rsv_diff = pd.read_excel('/Users/bryan/Documents/BioPharmaFinder/Draw/Source/Fig4_Data_rsv_diff.xlsx')\n",
    "plotly_zone(df_rsv_diff, y='Vol')"
   ]
  },
  {
   "cell_type": "code",
   "execution_count": null,
   "id": "foreign-pointer",
   "metadata": {},
   "outputs": [],
   "source": [
    "df_mid_mock = df_mock[(df_mock.Mass>8695) & (df_mock.Mass<12750)]\n",
    "plotly_zone(df_mid_mock, y='Vol')\n",
    "df_mid_rsv = df_rsv[(df_rsv.Mass>8695) & (df_rsv.Mass<12750)]\n",
    "plotly_zone(df_mid_rsv, y='Vol')"
   ]
  },
  {
   "cell_type": "code",
   "execution_count": null,
   "id": "diverse-garage",
   "metadata": {},
   "outputs": [],
   "source": [
    "masses = [9460.118, 10110.21, 10722.28, 11643.42]"
   ]
  },
  {
   "cell_type": "code",
   "execution_count": null,
   "id": "refined-registration",
   "metadata": {},
   "outputs": [],
   "source": [
    "mass = 8106.712 + H2O\n",
    "df_cds, _ = computational_data_seperation(df_rsv, df_rsv, mass, ignore_endpoints=True)\n",
    "plotly_zone(df_cds)"
   ]
  },
  {
   "cell_type": "code",
   "execution_count": null,
   "id": "amended-shell",
   "metadata": {},
   "outputs": [],
   "source": []
  },
  {
   "cell_type": "code",
   "execution_count": null,
   "id": "human-mining",
   "metadata": {},
   "outputs": [],
   "source": []
  },
  {
   "cell_type": "code",
   "execution_count": null,
   "id": "collectible-liverpool",
   "metadata": {},
   "outputs": [],
   "source": []
  },
  {
   "cell_type": "code",
   "execution_count": null,
   "id": "binding-ceremony",
   "metadata": {},
   "outputs": [],
   "source": []
  },
  {
   "cell_type": "code",
   "execution_count": null,
   "id": "meaning-heath",
   "metadata": {},
   "outputs": [],
   "source": [
    "# df_merge = df_cca #pd.concat(l)\n",
    "\n",
    "dfa = df_chosen.copy()\n",
    "dfb = df_sample.drop(df_chosen.index).copy()\n",
    "dfa['chosen'] = True\n",
    "dfb['chosen'] = False\n",
    "df_merge = pd.concat([dfa, dfb]).drop_duplicates(subset=['Mass'])\n",
    "bcr = base_calling_random(df_tmp, silence=True)\n",
    "\n",
    "plotly_basecalling(*bcr, annotate=False)\n",
    "plt, _ = plot_basecalling(*bcr, annotate=False)\n",
    "\n",
    "# name = 'mock' + '_5pUGGUC'\n",
    "# df_merge.to_excel(f'/Users/bryan/Documents/BioPharmaFinder/BaoLab/FirstBatch/PaperData/Glu/{name}.xlsx')\n",
    "# plt.savefig(f'/Users/bryan/Documents/BioPharmaFinder/BaoLab/FirstBatch/PaperData/Glu/{name}.svg', dpi=300, transparent=True)\n",
    "\n",
    "# df_seats = process_mass_base_seats(*bcr, full_mass=full_mass, orientation=5)\n",
    "# out_name = f'/Users/bryan/Documents/BioPharmaFinder/BaoLab/NGS/Shift/seats_3.xlsx'\n",
    "# df_seats.to_excel(out_name)"
   ]
  },
  {
   "cell_type": "code",
   "execution_count": null,
   "id": "understood-sixth",
   "metadata": {},
   "outputs": [],
   "source": [
    "def homology_groups(df):\n",
    "    \"\"\" given ~25k area dots, doing homology search\n",
    "        return a list of group, each group represents a tRNA specy and its isoforms \n",
    "    \"\"\"\n",
    "    def create_graph(bcr):\n",
    "        G = nx.Graph()\n",
    "        for x in bcr[1]:\n",
    "            G.add_edge(x[0], x[1], name=x[2])\n",
    "\n",
    "        cc = list(nx.connected_components(G))\n",
    "        subgraphs = [G.subgraph(x) for x in cc]\n",
    "        subgraphs.sort(key=len, reverse=True)\n",
    "        return subgraphs\n",
    "    \n",
    "    bcr = base_calling_random(df, silence=True)\n",
    "    subgraphs = create_graph(bcr)\n",
    "    subgraphs_edges = [ [(x[0], x[1], x[2].get('name')) for x in sg.edges(data=True)] for sg in subgraphs]\n",
    "    subgraphs_edges = [sorted(sg_edges, key=lambda x: x[0]) for sg_edges in subgraphs_edges]\n",
    "    subgraphs_nodes = [list(sg.nodes) for sg in subgraphs]\n",
    "    \n",
    "    node_edge_pairs = list()\n",
    "    for group in range(len(subgraphs)):\n",
    "        df_nodes = df[df.Mass.isin(subgraphs_nodes[group])]\n",
    "        edges = subgraphs_edges[group]\n",
    "        node_edge_pairs.append((df_nodes, edges))\n",
    "    \n",
    "    return node_edge_pairs"
   ]
  },
  {
   "cell_type": "code",
   "execution_count": null,
   "id": "effective-opera",
   "metadata": {},
   "outputs": [],
   "source": [
    "groups = basecalling_groups(df_tmp)"
   ]
  },
  {
   "cell_type": "code",
   "execution_count": null,
   "id": "unlimited-shelf",
   "metadata": {},
   "outputs": [],
   "source": [
    "plotly_basecalling(*groups[2], annotate=False)"
   ]
  },
  {
   "cell_type": "code",
   "execution_count": null,
   "id": "sweet-player",
   "metadata": {},
   "outputs": [],
   "source": [
    "df_focus = groups[2][0].copy()\n",
    "dfa = df_tmp.copy()\n",
    "dfb = df_chosen.copy()\n",
    "# dfa = df_chosen.copy()\n",
    "# dfb = df_sample.drop(df_chosen.index).copy()\n",
    "df_focus['focus'] = True\n",
    "dfa['chosen'] = True\n",
    "dfb['chosen'] = False\n",
    "df_merge = pd.concat([df_focus, dfa, dfb]).drop_duplicates(subset=['Mass'])\n",
    "bcr = base_calling_random(df_focus, silence=True)\n",
    "\n",
    "# plotly_basecalling(*bcr, annotate=False)\n",
    "plt, _ = plot_basecalling(*bcr, annotate=False)\n",
    "\n",
    "name = 'mock' + '_3p_36G_to_41U'\n",
    "df_merge.to_excel(f'/Users/bryan/Documents/BioPharmaFinder/BaoLab/FirstBatch/PaperData/Glu/{name}.xlsx')\n",
    "plt.savefig(f'/Users/bryan/Documents/BioPharmaFinder/BaoLab/FirstBatch/PaperData/Glu/{name}.svg', dpi=300, transparent=True)"
   ]
  },
  {
   "cell_type": "code",
   "execution_count": null,
   "id": "caroline-phase",
   "metadata": {},
   "outputs": [],
   "source": [
    "df_m = pd.read_excel('/Users/bryan/Documents/BioPharmaFinder/BaoLab/FirstBatch/PaperData/Glu/mock_5p_22G_to_44C.xlsx')\n",
    "df_r = pd.read_excel('/Users/bryan/Documents/BioPharmaFinder/BaoLab/FirstBatch/PaperData/Glu/rsv_5p_20D_to_40G.xlsx')"
   ]
  },
  {
   "cell_type": "code",
   "execution_count": null,
   "id": "elegant-sport",
   "metadata": {},
   "outputs": [],
   "source": [
    "df_m.head(), df_r.tail()"
   ]
  },
  {
   "cell_type": "code",
   "execution_count": null,
   "id": "qualified-karaoke",
   "metadata": {},
   "outputs": [],
   "source": []
  },
  {
   "cell_type": "code",
   "execution_count": null,
   "id": "blond-signal",
   "metadata": {},
   "outputs": [],
   "source": []
  },
  {
   "cell_type": "markdown",
   "id": "reverse-attraction",
   "metadata": {},
   "source": [
    "# Complementary Data preparation "
   ]
  },
  {
   "cell_type": "code",
   "execution_count": null,
   "id": "complete-bolivia",
   "metadata": {},
   "outputs": [],
   "source": [
    "# 5p\n",
    "for idx, shift in enumerate(shifts):\n",
    "    print(idx, shift)\n",
    "    full_mass = 24581.37 + shift\n",
    "    bcr = base_calling_random(df_matches[idx], silence=True)\n",
    "    df_seats = process_mass_base_seats(*bcr, full_mass=full_mass, orientation=5)\n",
    "    df_seats.to_excel(f'/Users/bryan/Documents/BioPharmaFinder/ZhangLab/Data/Outputs/seats_5p_{shift}da.xlsx')\n",
    "    df_matches[idx].to_excel(f'/Users/bryan/Documents/BioPharmaFinder/ZhangLab/Data/Outputs/data_5p_{shift}da.xlsx')\n",
    "    "
   ]
  },
  {
   "cell_type": "code",
   "execution_count": null,
   "id": "packed-boards",
   "metadata": {},
   "outputs": [],
   "source": [
    "# 3p 76\n",
    "for idx, shift in enumerate(shifts):\n",
    "    full_mass = 24581.37 + shift\n",
    "    df_match_reversed = df_matches[idx].copy()\n",
    "    df_match_reversed.Mass = full_mass + 18.0106 - df_match_reversed.Mass\n",
    "    bcr = base_calling_random(df_match_reversed, silence=True)\n",
    "    df_seats = process_mass_base_seats(*bcr, full_mass=full_mass, orientation=5)\n",
    "#     df_seats.to_excel(f'/Users/bryan/Documents/BioPharmaFinder/ZhangLab/Data/Outputs/seats_76_3p_{shift}da.xlsx')\n",
    "    df_match_reversed.to_excel(f'/Users/bryan/Documents/BioPharmaFinder/ZhangLab/Data/Outputs/data_76_3p_{shift}da_rev.xlsx')\n",
    "    df_matches[idx].to_excel(f'/Users/bryan/Documents/BioPharmaFinder/ZhangLab/Data/Outputs/data_76_3p_{shift}da.xlsx')\n",
    "    "
   ]
  },
  {
   "cell_type": "code",
   "execution_count": null,
   "id": "suited-bones",
   "metadata": {},
   "outputs": [],
   "source": [
    "# 3p 75\n",
    "for idx, shift in enumerate(shifts):\n",
    "    full_mass = 24252.31 + shift\n",
    "    df_match_reversed = df_matches[idx].copy()\n",
    "    df_match_reversed.Mass = full_mass + 18.0106 - df_match_reversed.Mass\n",
    "    bcr = base_calling_random(df_match_reversed, silence=True)\n",
    "    df_seats = process_mass_base_seats(*bcr, full_mass=full_mass, orientation=5)\n",
    "#     df_seats.to_excel(f'/Users/bryan/Documents/BioPharmaFinder/ZhangLab/Data/Outputs/seats_75_3p_{shift}da.xlsx')\n",
    "    df_match_reversed.to_excel(f'/Users/bryan/Documents/BioPharmaFinder/ZhangLab/Data/Outputs/data_75_3p_{shift}da_rev.xlsx')\n",
    "    df_matches[idx].to_excel(f'/Users/bryan/Documents/BioPharmaFinder/ZhangLab/Data/Outputs/data_75_3p_{shift}da.xlsx')\n",
    "    "
   ]
  },
  {
   "cell_type": "code",
   "execution_count": null,
   "id": "breeding-somewhere",
   "metadata": {},
   "outputs": [],
   "source": []
  },
  {
   "cell_type": "code",
   "execution_count": null,
   "id": "english-engine",
   "metadata": {},
   "outputs": [],
   "source": []
  }
 ],
 "metadata": {
  "kernelspec": {
   "display_name": "Python 3",
   "language": "python",
   "name": "python3"
  },
  "language_info": {
   "codemirror_mode": {
    "name": "ipython",
    "version": 3
   },
   "file_extension": ".py",
   "mimetype": "text/x-python",
   "name": "python",
   "nbconvert_exporter": "python",
   "pygments_lexer": "ipython3",
   "version": "3.7.3"
  }
 },
 "nbformat": 4,
 "nbformat_minor": 5
}
