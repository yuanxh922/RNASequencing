{
 "cells": [
  {
   "cell_type": "code",
   "execution_count": null,
   "id": "twelve-stock",
   "metadata": {},
   "outputs": [],
   "source": [
    "import pandas as pd"
   ]
  },
  {
   "cell_type": "code",
   "execution_count": null,
   "id": "responsible-spread",
   "metadata": {},
   "outputs": [],
   "source": [
    "%run ../../modules/utils.ipynb\n",
    "%run ../../modules/cds.ipynb\n",
    "%run ../../modules/preprocessing.ipynb"
   ]
  },
  {
   "cell_type": "code",
   "execution_count": null,
   "id": "latest-harmony",
   "metadata": {},
   "outputs": [],
   "source": [
    "# f = '/Users/xyuan/Downloads/Leu_no_oligo_ctrl.xlsx'\n",
    "f = '/Users/xyuan/Downloads/Leu_no_oligo_ctrl_rt_0.02.xlsx'\n",
    "df = load_data(f)\n",
    "# f = '/Users/xyuan/Downloads/Leu_oligo_ctrl.xlsx'\n",
    "f = '/Users/xyuan/Downloads/Leu_oligo_ctrl_rt_0.02.xlsx'\n",
    "df_oli = load_data(f)\n",
    "df.shape, df_oli.shape"
   ]
  },
  {
   "cell_type": "code",
   "execution_count": null,
   "id": "contained-entertainment",
   "metadata": {},
   "outputs": [],
   "source": [
    "df_24k = df[df.Mass>24000]\n",
    "df_oli_24k = df_oli[df_oli.Mass>24000]"
   ]
  },
  {
   "cell_type": "code",
   "execution_count": null,
   "id": "quarterly-poultry",
   "metadata": {},
   "outputs": [],
   "source": [
    "plotly_zone(df_24k, y='Vol')\n",
    "plotly_zone(df_oli_24k, y='Vol')"
   ]
  },
  {
   "cell_type": "code",
   "execution_count": null,
   "id": "color-freeware",
   "metadata": {},
   "outputs": [],
   "source": [
    "plotly_zone(df)\n",
    "plotly_zone(df_oli)"
   ]
  },
  {
   "cell_type": "code",
   "execution_count": null,
   "id": "distinct-swaziland",
   "metadata": {},
   "outputs": [],
   "source": []
  },
  {
   "cell_type": "code",
   "execution_count": null,
   "id": "handmade-plymouth",
   "metadata": {},
   "outputs": [],
   "source": []
  },
  {
   "cell_type": "code",
   "execution_count": null,
   "id": "hydraulic-crystal",
   "metadata": {},
   "outputs": [],
   "source": [
    "dfm = match_dfs(df, df_oli)\n",
    "plotly_zone(dfm)"
   ]
  },
  {
   "cell_type": "code",
   "execution_count": null,
   "id": "cheap-regression",
   "metadata": {},
   "outputs": [],
   "source": []
  }
 ],
 "metadata": {
  "kernelspec": {
   "display_name": "Python 3",
   "language": "python",
   "name": "python3"
  },
  "language_info": {
   "codemirror_mode": {
    "name": "ipython",
    "version": 3
   },
   "file_extension": ".py",
   "mimetype": "text/x-python",
   "name": "python",
   "nbconvert_exporter": "python",
   "pygments_lexer": "ipython3",
   "version": "3.7.3"
  }
 },
 "nbformat": 4,
 "nbformat_minor": 5
}
