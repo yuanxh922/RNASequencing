{
 "cells": [
  {
   "cell_type": "code",
   "execution_count": null,
   "id": "random-signal",
   "metadata": {},
   "outputs": [],
   "source": [
    "import pandas as pd"
   ]
  },
  {
   "cell_type": "code",
   "execution_count": null,
   "id": "hairy-hunter",
   "metadata": {},
   "outputs": [],
   "source": [
    "%run ../../modules/utils.ipynb\n",
    "%run ../../modules/cds.ipynb\n",
    "%run ../../modules/preprocessing.ipynb"
   ]
  },
  {
   "cell_type": "code",
   "execution_count": null,
   "id": "fixed-processing",
   "metadata": {},
   "outputs": [],
   "source": [
    "# f = '/Users/xyuan/Downloads/Leu_no_oligo_AD_2_5_15min_rt_0.05.xlsx'\n",
    "# df1 = load_data(f)\n",
    "# f = '/Users/xyuan/Downloads/Leu_no_oligo_AD_2_5_15min_rt_0.02.xlsx'\n",
    "# df2 = load_data(f)\n",
    "# f = '/Users/xyuan/Downloads/Leu_no_oligo_AD_2_5_15min_rt_0.01.xlsx'\n",
    "# df3 = load_data(f)\n",
    "# f = '/Users/xyuan/Downloads/Leu_no_oligo_AD_2_5_15min_rt_0.009.xlsx'\n",
    "# df4 = load_data(f)\n",
    "\n",
    "# df_AD = load_data(f)\n",
    "\n",
    "f = '/Users/xyuan/Downloads/Leu_oligo_AD_2_5_15min_rt_0.05.xlsx'\n",
    "df1 = load_data(f)\n",
    "f = '/Users/xyuan/Downloads/Leu_oligo_AD_2_5_15min_rt_0.02.xlsx'\n",
    "df2 = load_data(f)\n",
    "f = '/Users/xyuan/Downloads/Leu_oligo_AD_2_5_15min_rt_0.01.xlsx'\n",
    "df3 = load_data(f)\n",
    "f = '/Users/xyuan/Downloads/Leu_oligo_AD_2_5_15min_rt_0.009.xlsx'\n",
    "df4 = load_data(f)\n",
    "\n",
    "# df_oli_AD = load_data(f)\n",
    "# df_AD.shape, df_oli_AD.shape"
   ]
  },
  {
   "cell_type": "code",
   "execution_count": null,
   "id": "scheduled-vermont",
   "metadata": {},
   "outputs": [],
   "source": [
    "for df in [df1, df2, df3, df4]:\n",
    "    plotly_zone(df)"
   ]
  },
  {
   "cell_type": "code",
   "execution_count": null,
   "id": "hawaiian-fault",
   "metadata": {},
   "outputs": [],
   "source": [
    "df_AD_24k = df_AD[df_AD.Mass>24000]\n",
    "df_oli_AD_24k = df_oli_AD[df_oli_AD.Mass>24000]"
   ]
  },
  {
   "cell_type": "code",
   "execution_count": null,
   "id": "abstract-drive",
   "metadata": {},
   "outputs": [],
   "source": []
  },
  {
   "cell_type": "code",
   "execution_count": null,
   "id": "clear-jonathan",
   "metadata": {},
   "outputs": [],
   "source": [
    "# plotly_zone(df_AD)\n",
    "# plotly_zone(df_oli_AD)\n",
    "plotly_zone(df_AD_24k, y='Vol')\n",
    "plotly_zone(df_oli_AD_24k, y='Vol')\n"
   ]
  },
  {
   "cell_type": "code",
   "execution_count": null,
   "id": "defensive-window",
   "metadata": {},
   "outputs": [],
   "source": []
  },
  {
   "cell_type": "code",
   "execution_count": null,
   "id": "nearby-violin",
   "metadata": {},
   "outputs": [],
   "source": [
    "# Choose dots\n",
    "\n",
    "idxs = list()\n",
    "# create our callback function\n",
    "def on_selection(trace, points, selector):\n",
    "    print('points {}'.format(points.point_inds) )\n",
    "    idxs.extend(points.point_inds)\n",
    "\n",
    "def on_click(trace, points, selector):\n",
    "#     print('points {}'.format(points.point_inds) )\n",
    "    idxs.extend(points.point_inds)\n",
    "\n",
    "df_sample = df_oli_AD\n",
    "f = zone_selection(df_sample, on_selection=on_selection, on_click=on_click)\n",
    "f"
   ]
  },
  {
   "cell_type": "code",
   "execution_count": null,
   "id": "computational-hartford",
   "metadata": {},
   "outputs": [],
   "source": [
    "df_chosen = df_sample.iloc[idxs]\n",
    "df_chosen.shape"
   ]
  },
  {
   "cell_type": "code",
   "execution_count": null,
   "id": "induced-ecology",
   "metadata": {},
   "outputs": [],
   "source": []
  },
  {
   "cell_type": "code",
   "execution_count": null,
   "id": "convenient-calibration",
   "metadata": {},
   "outputs": [],
   "source": [
    "# dft = local_top(df_AD)\n",
    "dft = df_chosen.copy()\n",
    "plotly_zone(dft)\n",
    "bcr = base_calling_random(dft)\n",
    "plotly_basecalling(*bcr)"
   ]
  },
  {
   "cell_type": "code",
   "execution_count": null,
   "id": "third-municipality",
   "metadata": {},
   "outputs": [],
   "source": [
    "len(bcr[1])"
   ]
  },
  {
   "cell_type": "code",
   "execution_count": null,
   "id": "another-reality",
   "metadata": {},
   "outputs": [],
   "source": [
    "shift = 443.03997 + 16 #G + M #443.03997, 443.03997+16\n",
    "df_sample = df_oli_AD \n",
    "# df_sample = df_AD\n",
    "dfm = match_dfs(df_sample, df_sample, shift=shift)\n",
    "dfm.shape"
   ]
  },
  {
   "cell_type": "code",
   "execution_count": null,
   "id": "foreign-preservation",
   "metadata": {},
   "outputs": [],
   "source": [
    "# plotly_zones(df, df_oli, y='RT')\n",
    "plotly_zone(dfm, y='Vol')"
   ]
  },
  {
   "cell_type": "code",
   "execution_count": null,
   "id": "opening-jordan",
   "metadata": {},
   "outputs": [],
   "source": [
    "df_oli_AD 443: 5791.892. 1670.442, 1072.397, 1324.151, 2269.343, 1489.08, 1308.176, 1018.081, 1346.126\n",
    "df_oli_AD 443+16: 5791.892. 1461.462, 1156.974, 1282.208, 1304.1831298.173, 1335.12, 1014.083, 1956.283\n",
    "df_AD 443: 18201.45, 1029.265, 1979.383, 1725.237, 1322.24, 1982.383, 1490.923, 2323.335\n",
    "df_AD 443+16: 1038.239, 2293.487, 1105.609, 1344.222, 1078.608, 1776.244"
   ]
  },
  {
   "cell_type": "code",
   "execution_count": null,
   "id": "golden-combining",
   "metadata": {},
   "outputs": [],
   "source": [
    "target = 5791.892\n",
    "# target = 1461.462\n",
    "# target = 18201.45\n",
    "target -= 443.04 + 16\n",
    "df_target = df_sample[(df_sample.Mass>target-0.3)&(df_sample.Mass<target+0.3)]\n",
    "\n",
    "\n",
    "df_left = df_sample[((df_sample.Mass>target-700)&(df_sample.Mass<target-600))\n",
    "                    | ((df_sample.Mass>target-350)&(df_sample.Mass<target-300))].copy()\n",
    "df_right = df_sample[((df_sample.Mass<target+350)&(df_sample.Mass>target+300))\n",
    "                       | ((df_sample.Mass<target+700)&(df_sample.Mass>target+600))].copy()\n",
    "# dft = df_sample[((df_sample.Mass>target-700)&(df_sample.Mass<target-600))\n",
    "#                     | ((df_sample.Mass>target-350)&(df_sample.Mass<target-300))\n",
    "#                       | ((df_sample.Mass<target+350)&(df_sample.Mass>target+300))\n",
    "#                        | ((df_sample.Mass<target+700)&(df_sample.Mass>target+600))].copy()\n",
    "\n",
    "# dft = df_right\n",
    "dft = df_left\n",
    "dft = pd.concat([dft, df_target])\n",
    "plotly_zone(dft)"
   ]
  },
  {
   "cell_type": "code",
   "execution_count": null,
   "id": "charming-compound",
   "metadata": {},
   "outputs": [],
   "source": [
    "bcr = base_calling_random(dft)\n",
    "plotly_basecalling(*bcr)"
   ]
  },
  {
   "cell_type": "code",
   "execution_count": null,
   "id": "broad-mistress",
   "metadata": {},
   "outputs": [],
   "source": []
  }
 ],
 "metadata": {
  "kernelspec": {
   "display_name": "Python 3",
   "language": "python",
   "name": "python3"
  },
  "language_info": {
   "codemirror_mode": {
    "name": "ipython",
    "version": 3
   },
   "file_extension": ".py",
   "mimetype": "text/x-python",
   "name": "python",
   "nbconvert_exporter": "python",
   "pygments_lexer": "ipython3",
   "version": "3.7.3"
  }
 },
 "nbformat": 4,
 "nbformat_minor": 5
}
