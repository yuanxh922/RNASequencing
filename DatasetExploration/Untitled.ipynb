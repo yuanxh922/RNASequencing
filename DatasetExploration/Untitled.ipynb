{
 "cells": [
  {
   "cell_type": "code",
   "execution_count": null,
   "id": "mounted-delay",
   "metadata": {},
   "outputs": [],
   "source": [
    "import pandas as pd"
   ]
  },
  {
   "cell_type": "code",
   "execution_count": null,
   "id": "mysterious-stake",
   "metadata": {},
   "outputs": [],
   "source": [
    "%run ../modules/utils.ipynb\n",
    "%run ../modules/preprocessing.ipynb\n",
    "%run ../modules/cds.ipynb"
   ]
  },
  {
   "cell_type": "code",
   "execution_count": null,
   "id": "numerical-emperor",
   "metadata": {},
   "outputs": [],
   "source": [
    "df = pd.read_excel('/Users/bryan/Documents/BioPharmaFinder/ZhangLab/Data/Excels/tRNA_Phe_0724.xlsx')\n",
    "df = thermo_df(df)\n",
    "df_phe = pd.read_excel('/Users/bryan/Studio/tools/phe_75_5p.xlsx')\n",
    "# df_match = match_dfs(df_phe, df)\n",
    "df_shift = df_phe.copy()\n",
    "df_shift.Mass += 2* 14.0106\n",
    "# df_shift.Mass += 14.0106\n",
    "df_shift_match = match_dfs(df_shift, df)\n",
    "# plotly_zone(df_shift_match)"
   ]
  },
  {
   "cell_type": "code",
   "execution_count": null,
   "id": "white-pointer",
   "metadata": {},
   "outputs": [],
   "source": [
    "df_5p = pd.read_excel('/Users/bryan/Documents/BioPharmaFinder/ZhangLab/Data/PaperData/phe_5p_zone.xlsx')\n",
    "df_3p = pd.read_excel('/Users/bryan/Documents/BioPharmaFinder/ZhangLab/Data/PaperData/phe_3p_zone.xlsx')"
   ]
  },
  {
   "cell_type": "code",
   "execution_count": null,
   "id": "signed-curve",
   "metadata": {},
   "outputs": [],
   "source": [
    "df_5p[(df_5p.Mass>24280.3)&(df_5p.Mass<24280.4)]"
   ]
  },
  {
   "cell_type": "code",
   "execution_count": null,
   "id": "other-advertising",
   "metadata": {},
   "outputs": [],
   "source": [
    "intact_mass = 24280.3 #24252.31\n",
    "dfs = computational_data_seperation(df_5p, df_3p, intact_mass, ignore_endpoints=True)"
   ]
  },
  {
   "cell_type": "code",
   "execution_count": null,
   "id": "amino-arlington",
   "metadata": {},
   "outputs": [],
   "source": [
    "plotly_zones(dfs[0], df_shift_match)"
   ]
  },
  {
   "cell_type": "code",
   "execution_count": null,
   "id": "convertible-nutrition",
   "metadata": {},
   "outputs": [],
   "source": []
  }
 ],
 "metadata": {
  "kernelspec": {
   "display_name": "Python 3",
   "language": "python",
   "name": "python3"
  },
  "language_info": {
   "codemirror_mode": {
    "name": "ipython",
    "version": 3
   },
   "file_extension": ".py",
   "mimetype": "text/x-python",
   "name": "python",
   "nbconvert_exporter": "python",
   "pygments_lexer": "ipython3",
   "version": "3.7.3"
  }
 },
 "nbformat": 4,
 "nbformat_minor": 5
}
