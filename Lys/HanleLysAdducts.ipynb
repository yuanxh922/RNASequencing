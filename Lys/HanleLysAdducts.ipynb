{
 "cells": [
  {
   "cell_type": "code",
   "execution_count": null,
   "id": "light-scheduling",
   "metadata": {},
   "outputs": [],
   "source": [
    "import pandas as pd\n",
    "import matplotlib"
   ]
  },
  {
   "cell_type": "code",
   "execution_count": null,
   "id": "conditional-terminology",
   "metadata": {},
   "outputs": [],
   "source": [
    "%run data.ipynb\n",
    "%run ../modules/preprocessing.ipynb\n",
    "%run ../modules/cds.ipynb\n",
    "%run ../modules/utils.ipynb"
   ]
  },
  {
   "cell_type": "code",
   "execution_count": null,
   "id": "computational-chicago",
   "metadata": {},
   "outputs": [],
   "source": [
    "path = \"/Users/bryan/Documents/ChenLab/DataYue/\"\n",
    "\"\"\"\n",
    "A_Lys:\n",
    "3_A_Lys.xlsx\t\t\t\tDrChen_tRNA_A_Lys_FA.xlsx\n",
    "4_A_Lys_A.xlsx\t\t\t\tDrChen_tRNA_A_Lys_FA_15_Batch2.xlsx\n",
    "DrChen_tRNA_A_Lys_A_FA.xlsx\n",
    "\n",
    "B_Lys:\n",
    "DrChen_tRNA_B_Lys.xlsx\t\tDrChen_tRNA_B_Lys_A_FA.xlsx\n",
    "DrChen_tRNA_B_Lys_A.xlsx\tDrChen_tRNA_B_Lys_FA.xlsx\n",
    "\"\"\"\n",
    "df3 = pd.read_excel('{}/{}/{}.xlsx'.format(path,'A_Lys', '3_A_Lys'))\n",
    "df4 = pd.read_excel('{}/{}/{}.xlsx'.format(path,'A_Lys', '4_A_Lys_A'))\n",
    "df15 = pd.read_excel('{}/{}/{}.xlsx'.format(path,'A_Lys', 'DrChen_tRNA_A_Lys_FA'))\n",
    "df15_2 = pd.read_excel('{}/{}/{}.xlsx'.format(path,'A_Lys', 'DrChen_tRNA_A_Lys_FA_15_Batch2'))\n",
    "df16 = pd.read_excel('{}/{}/{}.xlsx'.format(path,'A_Lys', 'DrChen_tRNA_A_Lys_A_FA'))\n",
    "\n",
    "df9 = pd.read_excel('{}/{}/{}.xlsx'.format(path,'B_Lys', 'DrChen_tRNA_B_Lys'))\n",
    "df10 = pd.read_excel('{}/{}/{}.xlsx'.format(path,'B_Lys', 'DrChen_tRNA_B_Lys_A'))\n",
    "df21 = pd.read_excel('{}/{}/{}.xlsx'.format(path,'B_Lys', 'DrChen_tRNA_B_Lys_FA'))\n",
    "df22 = pd.read_excel('{}/{}/{}.xlsx'.format(path,'B_Lys', 'DrChen_tRNA_B_Lys_A_FA'))\n",
    "\n",
    "df3 = thermo_df(df3)\n",
    "df4 = thermo_df(df4)\n",
    "df15 = thermo_df(df15)\n",
    "df15_2 = thermo_df(df15_2)\n",
    "df16 = thermo_df(df16)\n",
    "\n",
    "df9 = thermo_df(df9)\n",
    "df10 = thermo_df(df10)\n",
    "df21 = thermo_df(df21)\n",
    "df22 = thermo_df(df22)"
   ]
  },
  {
   "cell_type": "code",
   "execution_count": null,
   "id": "freelance-trader",
   "metadata": {},
   "outputs": [],
   "source": [
    "plotly_zone(df3[df3.Mass>24000], y='Vol')\n",
    "df3[(df3.Mass>24000)&(df3.Vol>5E4)].shape"
   ]
  },
  {
   "cell_type": "code",
   "execution_count": null,
   "id": "historic-coating",
   "metadata": {},
   "outputs": [],
   "source": [
    "\n",
    "df_samples = [df3, df15, df15_2, df9, df21, df4, df16, df10, df22]\n",
    "intacts = [24882.35, 24896.35, 24866.35, 24880.35, 24848.35, 24854.35, 24850.35]\n",
    "\n",
    "intacts = np.array(intacts)\n",
    "# intacts += 146.1 - H2O\n",
    "cols = [f'Group_{int(intact)}' for intact in intacts]\n",
    "df_result = pd.DataFrame(columns=cols)\n",
    "for idx, df_item in enumerate(df_samples[:1]):\n",
    "    df_sample = df_item.copy()\n",
    "#     df_sample = df_sample[(df_sample.Mass>24000)]\n",
    "#     df_sample.Mass -= 146.1 - H2O\n",
    "    df_24k = df_sample[(df_sample.Mass>24000)&(df_sample.Mass<25000)&(df_sample.Vol>1E4)]\n",
    "    df_count = df_24k.copy()\n",
    "    df_count['cnt'] = 0\n",
    "    df_founds = list()\n",
    "    for intact in intacts:\n",
    "        df_found = detect_combined_salts(df_24k, intact, 30)\n",
    "#         if df_found.empty:\n",
    "#             df_found = pd.DataFrame(columns=['Mass', 'RT', 'Vol'])\n",
    "#             df_found.loc[0, 'Vol'] = 0\n",
    "        df_founds.append(df_found)\n",
    "        \n",
    "#         print(df_found.shape, df_count.shape)\n",
    "#         if not df_found.empty:\n",
    "#             print('intact ', intact, 'sample ', idx, 'hit ', df_found.Mass + 128.09)\n",
    "#         df_count.loc[df_found.index, 'cnt'] += 1\n",
    "#     print(df_count.sort_values('Vol', ascending=False))\n",
    "#     print(df_founds)\n",
    "    print(f'Sample {idx}')\n",
    "    l = [df.Vol.sum()/1E3 for df in df_founds]\n",
    "    l = np.round(l, 2)\n",
    "    df_result.loc[idx] = l\n",
    "    print(l)\n",
    "\n",
    "print(df_result)"
   ]
  },
  {
   "cell_type": "code",
   "execution_count": null,
   "id": "going-concept",
   "metadata": {},
   "outputs": [],
   "source": [
    "df_result.to_excel('~/Downloads/Lys_adducts.xlsx')"
   ]
  },
  {
   "cell_type": "code",
   "execution_count": null,
   "id": "hollow-syracuse",
   "metadata": {},
   "outputs": [],
   "source": []
  }
 ],
 "metadata": {
  "kernelspec": {
   "display_name": "Python 3",
   "language": "python",
   "name": "python3"
  },
  "language_info": {
   "codemirror_mode": {
    "name": "ipython",
    "version": 3
   },
   "file_extension": ".py",
   "mimetype": "text/x-python",
   "name": "python",
   "nbconvert_exporter": "python",
   "pygments_lexer": "ipython3",
   "version": "3.7.3"
  }
 },
 "nbformat": 4,
 "nbformat_minor": 5
}
