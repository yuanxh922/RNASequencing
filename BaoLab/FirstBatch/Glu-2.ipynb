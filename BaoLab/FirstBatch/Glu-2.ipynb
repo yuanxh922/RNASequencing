{
 "cells": [
  {
   "cell_type": "code",
   "execution_count": null,
   "metadata": {},
   "outputs": [],
   "source": [
    "import pandas as pd\n",
    "import numpy as np\n",
    "import matplotlib\n",
    "import plotly.express as px"
   ]
  },
  {
   "cell_type": "code",
   "execution_count": null,
   "metadata": {},
   "outputs": [],
   "source": [
    "%run ../modules/utils.ipynb\n",
    "%run ../modules/cds.ipynb\n",
    "%run ../modules/preprocessing.ipynb"
   ]
  },
  {
   "cell_type": "code",
   "execution_count": null,
   "metadata": {},
   "outputs": [],
   "source": [
    "df2 = pd.read_excel('/Users/bryan/Documents/BioPharmaFinder/BaoLab/RawExcels/sample6_std.xlsx')"
   ]
  },
  {
   "cell_type": "code",
   "execution_count": null,
   "metadata": {},
   "outputs": [],
   "source": [
    "plot_zone(df2)"
   ]
  },
  {
   "cell_type": "code",
   "execution_count": null,
   "metadata": {},
   "outputs": [],
   "source": [
    "df2 = df2[['Mass', 'RT', 'Vol']]"
   ]
  },
  {
   "cell_type": "code",
   "execution_count": null,
   "metadata": {},
   "outputs": [],
   "source": [
    "df2.head()"
   ]
  },
  {
   "cell_type": "code",
   "execution_count": null,
   "metadata": {},
   "outputs": [],
   "source": [
    "df2 = df2.dropna()"
   ]
  },
  {
   "cell_type": "code",
   "execution_count": null,
   "metadata": {},
   "outputs": [],
   "source": [
    "df2.info()"
   ]
  },
  {
   "cell_type": "code",
   "execution_count": null,
   "metadata": {},
   "outputs": [],
   "source": [
    "df2.head()"
   ]
  },
  {
   "cell_type": "code",
   "execution_count": null,
   "metadata": {},
   "outputs": [],
   "source": [
    "df_big = df2[df2.Mass>22000].sort_values('Vol', ascending=False)[:20][['Mass', 'Vol', 'RT']]\n",
    "df_big # 2"
   ]
  },
  {
   "cell_type": "code",
   "execution_count": null,
   "metadata": {},
   "outputs": [],
   "source": [
    "# full_mass = df_big.iloc[0].Mass\n",
    "# full_mass = 23277.1 #23281.1 #24206.2 #24330.2261\n",
    "# full_mass = 23595.15 #24234.26\n",
    "full_mass = 24259.192299#23057.09\n",
    "print(full_mass)\n",
    "df_ms, _ = computational_data_seperation(df2, df2, full_mass=full_mass, ignore_endpoints=True)\n",
    "df_ms.shape\n",
    "plot_zone(df_ms)"
   ]
  },
  {
   "cell_type": "code",
   "execution_count": null,
   "metadata": {},
   "outputs": [],
   "source": [
    "df_ms_bcr, mass_pairs = base_calling_random(df_ms)\n",
    "df_ms_bcr.shape, len(mass_pairs)\n",
    "plot_basecalling(df_ms_bcr, mass_pairs, annotate=False)"
   ]
  },
  {
   "cell_type": "code",
   "execution_count": null,
   "metadata": {},
   "outputs": [],
   "source": [
    "mass_3p = [pair[0] for pair in mass_pairs]\n",
    "mass_5p = [pair[1] for pair in mass_pairs]\n",
    "mass_3p5p = set(mass_3p) & set(mass_3p)\n",
    "mass_3ponly = set(mass_3p) - set(mass_5p)\n",
    "mass_5ponly = set(mass_5p) - set(mass_3p)\n",
    "mass_else = mass_3ponly | mass_5ponly\n",
    "len(mass_3p5p), len(mass_else)\n",
    "\n",
    "df_mass_3p5p = df_ms_bcr[df_ms_bcr.Mass.isin(mass_3p5p)]\n",
    "# plot_zone(df_mass_3p5p)\n",
    "# plot_zone(df_ms_bcr[df_ms_bcr.Mass.isin(mass_else)])\n",
    "plt.figure(figsize=(12, 9))\n",
    "plt.xlabel('Mass')\n",
    "plt.ylabel('RT')\n",
    "plt.scatter(df_mass_3p5p.Mass, df_mass_3p5p.RT)\n",
    "# plt.savefig('/Users/bryan/Documents/BioPharmaFinder/BaoLab/Excels/S6to10combined_20ul_40min_skeleton_1.png', transparent=True)"
   ]
  },
  {
   "cell_type": "markdown",
   "metadata": {},
   "source": [
    "#    Rank to get the full mass value"
   ]
  },
  {
   "cell_type": "code",
   "execution_count": null,
   "metadata": {},
   "outputs": [],
   "source": [
    "df_glu = df2[df2.Mass > 2329]"
   ]
  },
  {
   "cell_type": "code",
   "execution_count": null,
   "metadata": {},
   "outputs": [],
   "source": [
    "df3p_mass_np = np.array(df_glu['Mass'])\n",
    "df5p_mass_np = np.array(df_glu['Mass'])\n",
    "mass_sum_np = df3p_mass_np[:, np.newaxis] + df5p_mass_np\n",
    "mass_sum_0 = np.round(mass_sum_np, 0)\n",
    "mass_sum_1 = np.round(mass_sum_np, 1)\n",
    "mass_sum_2 = np.round(mass_sum_np, 2)\n",
    "mass_sum_3 = np.round(mass_sum_np, 3)"
   ]
  },
  {
   "cell_type": "code",
   "execution_count": null,
   "metadata": {},
   "outputs": [],
   "source": [
    "res1 = np.unique(mass_sum_1, return_counts=True)\n",
    "res2 = np.unique(mass_sum_2, return_counts=True)\n",
    "res3 = np.unique(mass_sum_3, return_counts=True)"
   ]
  },
  {
   "cell_type": "code",
   "execution_count": null,
   "metadata": {},
   "outputs": [],
   "source": [
    "res1_s0 = pd.Series(res1[0])\n",
    "res1_s1 = pd.Series(res1[1])\n",
    "\n",
    "res2_s0 = pd.Series(res2[0])\n",
    "res2_s1 = pd.Series(res2[1])\n",
    "\n",
    "res3_s0 = pd.Series(res3[0])\n",
    "res3_s1 = pd.Series(res3[1])"
   ]
  },
  {
   "cell_type": "code",
   "execution_count": null,
   "metadata": {},
   "outputs": [],
   "source": [
    "res1_s1_max = np.max(res1_s1)\n",
    "res1_s2_max = np.max(res2_s1)\n",
    "res1_s3_max = np.max(res3_s1)\n",
    "print(\"max s1 {} s2 {} s3 {}\".format(res1_s1_max, res1_s2_max, res1_s3_max))"
   ]
  },
  {
   "cell_type": "code",
   "execution_count": null,
   "metadata": {},
   "outputs": [],
   "source": [
    "res1_idxs = res1_s1[res1_s1 > 400].index\n",
    "res1_s0[res1_idxs]\n",
    "l = list(zip(res1_s0[res1_idxs], res1_s1[res1_idxs]))\n",
    "[i for i in l if i[0] > 23000]"
   ]
  },
  {
   "cell_type": "code",
   "execution_count": null,
   "metadata": {},
   "outputs": [],
   "source": [
    "res2_idxs = res2_s1[res2_s1 > 80].index\n",
    "l = list(zip(res2_s0[res2_idxs], res2_s1[res2_idxs]))\n",
    "[i for i in l if i[0] > 23000]"
   ]
  },
  {
   "cell_type": "code",
   "execution_count": null,
   "metadata": {},
   "outputs": [],
   "source": [
    "res3_idxs = res3_s1[res3_s1 > 10].index\n",
    "l = list(zip(res3_s0[res3_idxs], res3_s1[res3_idxs]))"
   ]
  },
  {
   "cell_type": "markdown",
   "metadata": {},
   "source": [
    "# Top vols"
   ]
  },
  {
   "cell_type": "code",
   "execution_count": null,
   "metadata": {},
   "outputs": [],
   "source": [
    "plot_zone(df_glu)"
   ]
  },
  {
   "cell_type": "code",
   "execution_count": null,
   "metadata": {},
   "outputs": [],
   "source": [
    "df_glu = df_glu.sort_values('Vol', ascending=False)"
   ]
  },
  {
   "cell_type": "code",
   "execution_count": null,
   "metadata": {},
   "outputs": [],
   "source": [
    "df_top = df_glu[(df_glu.Mass > 11000) & (df_glu.Mass < 20000)][:500]"
   ]
  },
  {
   "cell_type": "code",
   "execution_count": null,
   "metadata": {},
   "outputs": [],
   "source": [
    "fig = px.scatter(x=df_top.Mass, y=df_top.RT)\n",
    "fig.show()"
   ]
  },
  {
   "cell_type": "code",
   "execution_count": null,
   "metadata": {},
   "outputs": [],
   "source": [
    "plot_zone(df_top)"
   ]
  },
  {
   "cell_type": "markdown",
   "metadata": {},
   "source": [
    "\n",
    "# Grouped RT, Top Vol "
   ]
  },
  {
   "cell_type": "code",
   "execution_count": null,
   "metadata": {},
   "outputs": [],
   "source": [
    "# df2_top = df2[(df2.Mass > 4000) & (df2.Mass < 16000)].sort_values('Vol').groupby('RT').tail(1)\n",
    "df2_top = df2[(df2.Mass > 4000) & (df2.Mass < 16000)].sort_values('Vol').groupby('RT').tail(15)"
   ]
  },
  {
   "cell_type": "code",
   "execution_count": null,
   "metadata": {},
   "outputs": [],
   "source": [
    "import plotly.graph_objects as go\n",
    "\n",
    "idxs = list()\n",
    "# create our callback function\n",
    "def update_point(trace, points, selector):\n",
    "    print('points {}'.format(points.point_inds) )\n",
    "    idxs.extend(points.point_inds)\n",
    "\n",
    "# df_draw = df2[(df2.Mass > 12329) & (df2.Mass < 22000) & (df2.RT < 25) & (df2.RT > 8)]\n",
    "df_draw = df2_chosen #df7\n",
    "# df_draw = df2_top[(df2_top.RT < 25) & (df2_top.RT > 8)]\n",
    "x = df_draw.Mass\n",
    "y = df_draw.RT\n",
    "fig = go.Scatter(x=x, y=y, mode='markers')\n",
    "f = go.FigureWidget(fig)\n",
    "f.update_layout(autosize=False, width=1024, height=700, paper_bgcolor=\"LightSteelBlue\",\n",
    "    margin=dict(\n",
    "        l=20,\n",
    "        r=20,\n",
    "        b=20,\n",
    "        t=20,\n",
    "        pad=4\n",
    "    ))\n",
    "scatter = f.data[0]\n",
    "scatter.on_selection(update_point)\n",
    "f"
   ]
  },
  {
   "cell_type": "code",
   "execution_count": null,
   "metadata": {},
   "outputs": [],
   "source": [
    "df2_chosen = df_draw.iloc[idxs]\n",
    "df2_chosen.info()"
   ]
  },
  {
   "cell_type": "code",
   "execution_count": null,
   "metadata": {},
   "outputs": [],
   "source": [
    "df2_chosen = df2_chosen.sort_values('Vol', ascending=False)"
   ]
  },
  {
   "cell_type": "code",
   "execution_count": null,
   "metadata": {},
   "outputs": [],
   "source": [
    "# plot_zone(df2_chosen[:120])\n",
    "plt.figure(figsize=(16, 12))\n",
    "plt.xlabel('Mass')\n",
    "plt.ylabel('RT')\n",
    "plt.scatter(df2_chosen.Mass, df2_chosen.RT)\n",
    "plt.savefig('/Users/bryan/Downloads/Glu_7.png', bbox_inches='tight', transparent=True)\n",
    "\n",
    "# fig = px.scatter(x=df2_chosen.Mass, y=df2_chosen.RT, width=1024, height=768)\n",
    "# fig.show()"
   ]
  },
  {
   "cell_type": "code",
   "execution_count": null,
   "metadata": {},
   "outputs": [],
   "source": [
    "bcr_5p = base_calling_random(df2_chosen[:120])\n",
    "plt = plot_basecalling(*bcr_5p, annotate=True)\n",
    "plt.savefig('/Users/bryan/Downloads/Glu_2.png', bbox_inches='tight', transparent=True)"
   ]
  },
  {
   "cell_type": "markdown",
   "metadata": {},
   "source": [
    "# choose.a small zone for Ranking strategy"
   ]
  },
  {
   "cell_type": "code",
   "execution_count": null,
   "metadata": {},
   "outputs": [],
   "source": [
    "df2 = pd.read_excel('/Users/bryan/Documents/BioPharmaFinder/BaoLab/RawExcels/sample6_std.xlsx')"
   ]
  },
  {
   "cell_type": "code",
   "execution_count": null,
   "metadata": {},
   "outputs": [],
   "source": [
    "import plotly.graph_objects as go\n",
    "\n",
    "idxs = list()\n",
    "# create our callback function\n",
    "def update_point(trace, points, selector):\n",
    "    print('points {}'.format(points.point_inds) )\n",
    "    idxs.extend(points.point_inds)\n",
    "\n",
    "# df_draw = df2[(df2.Mass > 12329) & (df2.Mass < 22000) & (df2.RT < 25) & (df2.RT > 8)]\n",
    "df_draw = df2\n",
    "# df_draw = df2_top[(df2_top.RT < 25) & (df2_top.RT > 8)]\n",
    "x = df_draw.Mass\n",
    "y = df_draw.RT\n",
    "fig = go.Scatter(x=x, y=y, mode='markers')\n",
    "f = go.FigureWidget(fig)\n",
    "f.update_layout(autosize=False, width=1024, height=700, paper_bgcolor=\"LightSteelBlue\",\n",
    "    margin=dict(\n",
    "        l=20,\n",
    "        r=20,\n",
    "        b=20,\n",
    "        t=20,\n",
    "        pad=4\n",
    "    ))\n",
    "scatter = f.data[0]\n",
    "scatter.on_selection(update_point)\n",
    "f"
   ]
  },
  {
   "cell_type": "code",
   "execution_count": null,
   "metadata": {},
   "outputs": [],
   "source": [
    "df_zone = df_draw.iloc[idxs]\n",
    "df_zone.info()"
   ]
  },
  {
   "cell_type": "code",
   "execution_count": null,
   "metadata": {},
   "outputs": [],
   "source": [
    "df_zone = df2[(df2.Mass > 2000) & (df2.RT < 26)]"
   ]
  },
  {
   "cell_type": "code",
   "execution_count": null,
   "metadata": {},
   "outputs": [],
   "source": [
    "df_zone_top = df_zone.sort_values('Vol').groupby('RT').tail(5)\n",
    "df_zone_top.info()"
   ]
  },
  {
   "cell_type": "code",
   "execution_count": null,
   "metadata": {},
   "outputs": [],
   "source": [
    "df_zone_top.to_excel('/Users/bryan/Documents/BioPharmaFinder/BaoLab/RawExcels/sample6_std_pure.xlsx')"
   ]
  },
  {
   "cell_type": "code",
   "execution_count": null,
   "metadata": {},
   "outputs": [],
   "source": [
    "fig = px.scatter(x=df_zone_top.Mass, y=df_zone_top.RT)\n",
    "fig.show()"
   ]
  },
  {
   "cell_type": "code",
   "execution_count": null,
   "metadata": {},
   "outputs": [],
   "source": [
    "df_ms_bcr, mass_pairs = base_calling_random(df_zone_top)\n",
    "df_ms_bcr.shape, len(mass_pairs)\n",
    "plot_basecalling(df_ms_bcr, mass_pairs, annotate=False)"
   ]
  },
  {
   "cell_type": "code",
   "execution_count": null,
   "metadata": {},
   "outputs": [],
   "source": [
    "df_zone_top.to_excel('/Users/bryan/Documents/BioPharmaFinder/BaoLab/Excels/S2to5combined_20ul_40min_std_pure2.xlsx')"
   ]
  },
  {
   "cell_type": "code",
   "execution_count": null,
   "metadata": {},
   "outputs": [],
   "source": []
  },
  {
   "cell_type": "code",
   "execution_count": null,
   "metadata": {},
   "outputs": [],
   "source": [
    "df = pd.read_excel('/Users/bryan/Documents/BioPharmaFinder/BaoLab/RawExcels/sample5_std.xlsx')\n",
    "df.info()\n",
    "plot_zone(df)"
   ]
  },
  {
   "cell_type": "code",
   "execution_count": null,
   "metadata": {},
   "outputs": [],
   "source": []
  }
 ],
 "metadata": {
  "kernelspec": {
   "display_name": "Python 3",
   "language": "python",
   "name": "python3"
  },
  "language_info": {
   "codemirror_mode": {
    "name": "ipython",
    "version": 3
   },
   "file_extension": ".py",
   "mimetype": "text/x-python",
   "name": "python",
   "nbconvert_exporter": "python",
   "pygments_lexer": "ipython3",
   "version": "3.7.3"
  }
 },
 "nbformat": 4,
 "nbformat_minor": 4
}
