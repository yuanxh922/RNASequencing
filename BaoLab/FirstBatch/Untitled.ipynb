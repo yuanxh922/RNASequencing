{
 "cells": [
  {
   "cell_type": "code",
   "execution_count": null,
   "id": "quality-tongue",
   "metadata": {},
   "outputs": [],
   "source": [
    "import pandas as pd"
   ]
  },
  {
   "cell_type": "code",
   "execution_count": null,
   "id": "actual-environment",
   "metadata": {},
   "outputs": [],
   "source": [
    "%run ../../modules/utils.ipynb\n",
    "%run ../../modules/preprocessing.ipynb"
   ]
  },
  {
   "cell_type": "code",
   "execution_count": null,
   "id": "placed-fifteen",
   "metadata": {},
   "outputs": [],
   "source": [
    "df_rsv = pd.read_excel('/Users/bryan/Documents/BioPharmaFinder/BaoLab/FirstBatch/Excels/S6to10combined_20ul_40min.xlsx')\n",
    "df_rsv = thermo_df(df_rsv)"
   ]
  },
  {
   "cell_type": "code",
   "execution_count": null,
   "id": "attractive-slide",
   "metadata": {},
   "outputs": [],
   "source": [
    "df_ngs_5p = pd.read_excel('/Users/bryan/Studio/tools/NGS_24129_5p.xlsx')\n",
    "df_ngs_3p = pd.read_excel('/Users/bryan/Studio/tools/NGS_24129_3p.xlsx')\n",
    "df_ngs_5p.shape, df_ngs_3p.shape"
   ]
  },
  {
   "cell_type": "code",
   "execution_count": null,
   "id": "formal-fraud",
   "metadata": {},
   "outputs": [],
   "source": [
    "df = pd.read_excel('/Users/bryan/Documents/BioPharmaFinder/Draw/SourceGlu/ladders_split_s3_24189.xlsx')\n",
    "df_5p = df[df.is5p==True]\n",
    "df_3p = df[df.is5p==False]\n",
    "df.shape"
   ]
  },
  {
   "cell_type": "code",
   "execution_count": null,
   "id": "filled-receptor",
   "metadata": {},
   "outputs": [],
   "source": [
    "plotly_zones(df_5p, df_3p)\n",
    "df.head()"
   ]
  },
  {
   "cell_type": "code",
   "execution_count": null,
   "id": "continental-delta",
   "metadata": {},
   "outputs": [],
   "source": [
    "masses = [24189.23, 24203.24, 24217.27, 24231.25, 24246.23]"
   ]
  },
  {
   "cell_type": "code",
   "execution_count": null,
   "id": "thermal-sweet",
   "metadata": {},
   "outputs": [],
   "source": [
    "# 24203 - 24129 = 74 Da = 5 Methyl, 4 Da\n",
    "ngs_5p = df_ngs_5p.Mass\n",
    "ngs_5p_m1 = ngs_5p + M\n",
    "ngs_5p_m1d2 = ngs_5p_m1 + 2 * 2\n",
    "ngs_5p_m2d2 = ngs_5p_m1d2 + M\n",
    "ngs_5p_m3d2 = ngs_5p_m2d2 + M\n",
    "ngs_5p_m4d2 = ngs_5p_m3d2 + M\n",
    "ngs_5p_m5d2 = ngs_5p_m4d2 + M\n",
    "\n",
    "ngs_3p = df_ngs_3p.Mass\n",
    "ngs_3p_m1 = ngs_3p + M\n",
    "ngs_3p_m2 = ngs_3p_m1 + M\n",
    "ngs_3p_m3 = ngs_3p_m2 + M\n",
    "ngs_3p_m4 = ngs_3p_m3 + M\n",
    "ngs_3p_m4d2 = ngs_3p_m4 + 2 * 2\n",
    "ngs_3p_m5d2 = ngs_3p_m4d2 + M"
   ]
  },
  {
   "cell_type": "code",
   "execution_count": null,
   "id": "czech-complement",
   "metadata": {},
   "outputs": [],
   "source": [
    "ngs_5p_list = [ngs_5p, ngs_5p_m1, ngs_5p_m1d2, ngs_5p_m2d2, ngs_5p_m3d2, ngs_5p_m4d2, ngs_5p_m5d2]\n",
    "df_matched_5p_list = list()\n",
    "for idx, ngs in enumerate(ngs_5p_list):\n",
    "    df_ngs = find_exist_ladder_dots(df_rsv, ngs)\n",
    "    df_matched_5p_list.append(df_ngs)\n",
    "    \n",
    "ngs_3p_list = [ngs_3p, ngs_3p_m1, ngs_3p_m2, ngs_3p_m3, ngs_3p_m4, ngs_3p_m4d2, ngs_3p_m5d2]\n",
    "df_matched_3p_list = list()\n",
    "for idx, ngs in enumerate(ngs_3p_list):\n",
    "    df_ngs = find_exist_ladder_dots(df_rsv, ngs)\n",
    "    df_matched_3p_list.append(df_ngs)"
   ]
  },
  {
   "cell_type": "code",
   "execution_count": null,
   "id": "painted-implement",
   "metadata": {},
   "outputs": [],
   "source": [
    "df_matched_5p = pd.concat(df_matched_5p_list).drop_duplicates()\n",
    "\n",
    "df_matched_3p = pd.concat(df_matched_3p_list).drop_duplicates()"
   ]
  },
  {
   "cell_type": "code",
   "execution_count": null,
   "id": "loose-living",
   "metadata": {},
   "outputs": [],
   "source": [
    "plotly_multi_zones(df_matched_5p_list)"
   ]
  },
  {
   "cell_type": "code",
   "execution_count": null,
   "id": "northern-passion",
   "metadata": {},
   "outputs": [],
   "source": []
  },
  {
   "cell_type": "code",
   "execution_count": null,
   "id": "animal-boundary",
   "metadata": {},
   "outputs": [],
   "source": []
  },
  {
   "cell_type": "code",
   "execution_count": null,
   "id": "latter-spread",
   "metadata": {},
   "outputs": [],
   "source": [
    "def find_exist_ladder_dots(df, series):\n",
    "    df_ladder = pd.DataFrame()\n",
    "    df_ladder['Mass'] = series\n",
    "    df_found = match_dfs(df_ladder, df)\n",
    "    return df_found"
   ]
  },
  {
   "cell_type": "code",
   "execution_count": null,
   "id": "falling-activation",
   "metadata": {},
   "outputs": [],
   "source": []
  }
 ],
 "metadata": {
  "kernelspec": {
   "display_name": "Python 3",
   "language": "python",
   "name": "python3"
  },
  "language_info": {
   "codemirror_mode": {
    "name": "ipython",
    "version": 3
   },
   "file_extension": ".py",
   "mimetype": "text/x-python",
   "name": "python",
   "nbconvert_exporter": "python",
   "pygments_lexer": "ipython3",
   "version": "3.7.3"
  }
 },
 "nbformat": 4,
 "nbformat_minor": 5
}
