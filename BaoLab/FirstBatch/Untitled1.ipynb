{
 "cells": [
  {
   "cell_type": "code",
   "execution_count": null,
   "id": "virtual-retail",
   "metadata": {},
   "outputs": [],
   "source": [
    "import pandas as pd"
   ]
  },
  {
   "cell_type": "code",
   "execution_count": null,
   "id": "attractive-concert",
   "metadata": {},
   "outputs": [],
   "source": [
    "%run ../../modules/utils.ipynb\n",
    "%run ../../modules/cds.ipynb\n",
    "%run ../../modules/preprocessing.ipynb"
   ]
  },
  {
   "cell_type": "code",
   "execution_count": null,
   "id": "roman-power",
   "metadata": {},
   "outputs": [],
   "source": [
    "df_ctrl_mock = pd.read_excel('/Users/xyuan/Documents/BioPharmaFinder/BaoLab/FirstBatch/Excels/1_Mock_10ul_9min_NewOmics.xlsx')\n",
    "df_ctrl_rsv = pd.read_excel('/Users/xyuan/Documents/BioPharmaFinder/BaoLab/FirstBatch/Excels/6_RSV1_10ul_9min_NewOmics.xlsx')\n",
    "df_ctrl_mock = thermo_df(df_ctrl_mock)\n",
    "df_ctrl_rsv = thermo_df(df_ctrl_rsv)"
   ]
  },
  {
   "cell_type": "code",
   "execution_count": null,
   "id": "presidential-sweden",
   "metadata": {},
   "outputs": [],
   "source": [
    "df_ctrl_mock_24k = df_ctrl_mock[df_ctrl_mock.Mass>23000]\n",
    "df_ctrl_rsv_24k = df_ctrl_rsv[df_ctrl_rsv.Mass>23000]\n",
    "plotly_zone(df_ctrl_mock_24k, y='Vol')\n",
    "plotly_zone(df_ctrl_rsv_24k, y='Vol')"
   ]
  },
  {
   "cell_type": "code",
   "execution_count": null,
   "id": "documentary-preview",
   "metadata": {},
   "outputs": [],
   "source": [
    "df3 = pd.read_excel('/Users/xyuan/Documents/BioPharmaFinder/BaoLab/FirstBatch/Excels/S2to5combined_20ul_40min.xlsx')\n",
    "df6 = pd.read_excel('/Users/xyuan/Documents/BioPharmaFinder/BaoLab/FirstBatch/Excels/S6to10combined_20ul_40min.xlsx')\n",
    "df3 = thermo_df(df3)\n",
    "df6 = thermo_df(df6)\n",
    "df3.shape, df6.shape"
   ]
  },
  {
   "cell_type": "code",
   "execution_count": null,
   "id": "printable-surveillance",
   "metadata": {},
   "outputs": [],
   "source": [
    "plotly_zone(df3)\n",
    "df_ngs"
   ]
  },
  {
   "cell_type": "code",
   "execution_count": null,
   "id": "proper-deployment",
   "metadata": {},
   "outputs": [],
   "source": [
    "df_ngs_5p, df_ngs_3p"
   ]
  },
  {
   "cell_type": "code",
   "execution_count": null,
   "id": "revised-statement",
   "metadata": {},
   "outputs": [],
   "source": [
    "df3_24k = df3[(df3.Mass>24000)&(df3.Mass<25000)]\n",
    "# df3_24k = df3_24k.sort_values('Vol', ascending=False).iloc[:50]\n",
    "df6_24k = df6[(df6.Mass>24000)&(df6.Mass<25000)]\n",
    "# df6_24k = df6_24k.sort_values('Vol', ascending=False).iloc[:50]\n",
    "plotly_zone(df3_24k, y='Vol')\n",
    "plotly_zone(df6_24k, y='Vol')\n",
    "# plotly_zones(df3_24k, df6_24k, y='RT')"
   ]
  },
  {
   "cell_type": "code",
   "execution_count": null,
   "id": "federal-healing",
   "metadata": {},
   "outputs": [],
   "source": [
    "df_203_5p = pd.read_excel('~/Studio/tools/glu_24203_5p_6mG.xlsx')\n",
    "df_203_3p = pd.read_excel('~/Studio/tools/glu_24203_3p_6mG.xlsx')\n",
    "\n",
    "df_217_5p = pd.read_excel('~/Studio/tools/glu_24217_5p_6mG.xlsx')\n",
    "df_217_3p = pd.read_excel('~/Studio/tools/glu_24217_3p_6mG.xlsx')"
   ]
  },
  {
   "cell_type": "code",
   "execution_count": null,
   "id": "antique-swaziland",
   "metadata": {},
   "outputs": [],
   "source": [
    "df_ngs_5p = pd.read_excel('/Users/xyuan/Studio/tools/NGS_24129_5p.xlsx')\n",
    "df_ngs_3p = pd.read_excel('/Users/xyuan/Studio/tools/NGS_24129_3p.xlsx')\n",
    "df_ngs_5p.shape, df_ngs_3p.shape"
   ]
  },
  {
   "cell_type": "code",
   "execution_count": null,
   "id": "foster-arctic",
   "metadata": {},
   "outputs": [],
   "source": [
    "df_ngs = pd.concat([df_ngs_5p, df_ngs_3p])\n",
    "df_ngs.shape"
   ]
  },
  {
   "cell_type": "code",
   "execution_count": null,
   "id": "built-tract",
   "metadata": {},
   "outputs": [],
   "source": [
    "# Mock\n",
    "dfm_203_5p = match_dfs(df_203_5p, df3)\n",
    "dft = df_203_5p.copy()\n",
    "dft.Mass -= 1\n",
    "dft = match_dfs(dft, df3)\n",
    "\n",
    "dfm_203_3p = match_dfs(df_203_3p, df3)\n",
    "# dft = df_203_3p.copy()\n",
    "# dft.Mass -= 1\n",
    "# dft = match_dfs(dft, df3)"
   ]
  },
  {
   "cell_type": "code",
   "execution_count": null,
   "id": "imported-front",
   "metadata": {},
   "outputs": [],
   "source": [
    "# Mock\n",
    "dfm_217_5p = match_dfs(df_217_5p, df6)\n",
    "dft = df_217_5p.copy()\n",
    "dft.Mass -= 1\n",
    "dft = match_dfs(dft, df6)\n",
    "\n",
    "dfm_217_3p = match_dfs(df_217_3p, df6)\n",
    "# dft = df_217_3p.copy()\n",
    "# dft.Mass -= 1\n",
    "# dft = match_dfs(dft, df6)"
   ]
  },
  {
   "cell_type": "code",
   "execution_count": null,
   "id": "renewable-chase",
   "metadata": {},
   "outputs": [],
   "source": [
    "# plotly_zones(dfm_203_5p, dfm_203_3p, y='RT')\n",
    "# plotly_zones(dfm_217_5p, dfm_217_3p, y='RT')\n",
    "\n",
    "# plotly_zones(dfm_203_3p, dft, y='Vol')\n",
    "# plotly_zones(dfm_217_3p, dft, y='Vol')"
   ]
  },
  {
   "cell_type": "code",
   "execution_count": null,
   "id": "coupled-stockholm",
   "metadata": {},
   "outputs": [],
   "source": [
    "# df_lt = local_top(df3)\n",
    "# df_lt.shape"
   ]
  },
  {
   "cell_type": "code",
   "execution_count": null,
   "id": "restricted-migration",
   "metadata": {},
   "outputs": [],
   "source": [
    "# bcr = base_calling_random(df_lt)\n",
    "# plotly_basecalling(*bcr)"
   ]
  },
  {
   "cell_type": "code",
   "execution_count": null,
   "id": "express-surgery",
   "metadata": {},
   "outputs": [],
   "source": [
    "# merge all the datsets, and check the ladders of 24203/24217/24189"
   ]
  },
  {
   "cell_type": "code",
   "execution_count": null,
   "id": "narrative-wallpaper",
   "metadata": {},
   "outputs": [],
   "source": [
    "df_sample = df_ngs"
   ]
  },
  {
   "cell_type": "code",
   "execution_count": null,
   "id": "chubby-redhead",
   "metadata": {},
   "outputs": [],
   "source": [
    "import multiprocessing\n",
    "from collections import namedtuple\n",
    "ShiftHit = namedtuple('ShiftHit', 'shift hit')\n",
    "\n",
    "def func(df_s1, df_s2, shift):\n",
    "    dfm = match_dfs(df_s1, df_s2, shift=shift)\n",
    "    sh = ShiftHit(shift=shift, hit=dfm.shape[0])\n",
    "    return sh\n",
    "\n",
    "PROCESSES = 16\n",
    "shift_hits = None\n",
    "params = [(df_ngs, df3, shift) for shift in np.arange(1, 100, 1)]\n",
    "# params = [(df_sample, shift) for shift in np.arange(1, 64, 0.1)]\n",
    "with multiprocessing.Pool(PROCESSES) as pool:\n",
    "    shift_hits = pool.starmap(func, params)\n",
    "\n",
    "df_shift_hits = pd.DataFrame(shift_hits)    "
   ]
  },
  {
   "cell_type": "code",
   "execution_count": null,
   "id": "returning-porcelain",
   "metadata": {},
   "outputs": [],
   "source": [
    "fig = px.scatter(df_shift_hits, x='shift', y='hit', labels={'shift': 'Mass Shift', 'hit': 'Hit Count'})\n",
    "fig.show()"
   ]
  },
  {
   "cell_type": "code",
   "execution_count": null,
   "id": "advanced-microwave",
   "metadata": {},
   "outputs": [],
   "source": [
    "import multiprocessing\n",
    "from collections import namedtuple\n",
    "ShiftHit = namedtuple('ShiftHit', 'shift hit')\n",
    "\n",
    "def func(df_s1, df_s2, shift):\n",
    "    dfm = match_dfs(df_s1, df_s2, shift=shift)\n",
    "    sh = ShiftHit(shift=shift, hit=dfm.shape[0])\n",
    "    return sh\n",
    "\n",
    "PROCESSES = 16\n",
    "shift_hits = None\n",
    "params = [(df_ngs, df3, shift) for shift in np.arange(1, 100, 1)]\n",
    "# params = [(df_sample, shift) for shift in np.arange(1, 64, 0.1)]\n",
    "with multiprocessing.Pool(PROCESSES) as pool:\n",
    "    shift_hits = pool.starmap(func, params)\n",
    "\n",
    "df_shift_hits6 = pd.DataFrame(shift_hits)    "
   ]
  },
  {
   "cell_type": "code",
   "execution_count": null,
   "id": "confident-family",
   "metadata": {},
   "outputs": [],
   "source": [
    "fig = px.scatter(df_shift_hits, x='shift', y='hit', labels={'shift': 'Mass Shift', 'hit': 'Hit Count'})\n",
    "fig.show()"
   ]
  },
  {
   "cell_type": "code",
   "execution_count": null,
   "id": "balanced-remainder",
   "metadata": {},
   "outputs": [],
   "source": [
    "dfa = df_shift_hits.copy()\n",
    "dfa['type'] = 'Mock'\n",
    "dfb = df_shift_hits6.copy()\n",
    "dfb['type'] = 'RSV'\n",
    "df_mock_rsv = pd.concat([dfa, dfb])\n",
    "df_mock_rsv.shape"
   ]
  },
  {
   "cell_type": "code",
   "execution_count": null,
   "id": "sticky-summit",
   "metadata": {},
   "outputs": [],
   "source": [
    "fig = px.scatter(dfa, x='shift', y='hit', color='type', labels={'shift': 'Mass Shift', 'hit': 'Hit Count'})\n",
    "\n",
    "fig.show()"
   ]
  },
  {
   "cell_type": "code",
   "execution_count": null,
   "id": "decimal-fitness",
   "metadata": {},
   "outputs": [],
   "source": [
    "# fig = px.scatter(df_shift_hits, x='shift', y='hit', labels={'shift': 'Mass Shift', 'hit': 'Hit Count'})\n",
    "fig = px.scatter(dfb, x='shift', y='hit', color='type', labels={'shift': 'Mass Shift', 'hit': 'Hit Count'})\n",
    "\n",
    "fig.show()"
   ]
  },
  {
   "cell_type": "code",
   "execution_count": null,
   "id": "breeding-flood",
   "metadata": {},
   "outputs": [],
   "source": [
    "dfs3, dfs6 = list(), list()\n",
    "shifts = [14, 17, 18, 41, 42, 55, 56]\n",
    "# shifts = [42, 56]\n",
    "for shift in shifts:\n",
    "    print('processing ', shift)\n",
    "    dfm = match_dfs(df_ngs, df3, shift=shift)\n",
    "#     print('matched ', dfm.shape[0])\n",
    "    dfs3.append(dfm)\n",
    "    \n",
    "    dfm = match_dfs(df_ngs, df6, shift=shift)\n",
    "#     print('matched ', dfm.shape[0])\n",
    "    dfs6.append(dfm)\n"
   ]
  },
  {
   "cell_type": "code",
   "execution_count": null,
   "id": "measured-scope",
   "metadata": {},
   "outputs": [],
   "source": [
    "dfs3_top = pd.concat(dfs3)\n",
    "dfs6_top = pd.concat(dfs6)"
   ]
  },
  {
   "cell_type": "code",
   "execution_count": null,
   "id": "surgical-welsh",
   "metadata": {},
   "outputs": [],
   "source": [
    "plotly_multi_zones(dfs3)"
   ]
  },
  {
   "cell_type": "code",
   "execution_count": null,
   "id": "fabulous-monitor",
   "metadata": {},
   "outputs": [],
   "source": [
    "plotly_multi_zones(dfs6[::2])"
   ]
  },
  {
   "cell_type": "code",
   "execution_count": null,
   "id": "active-cycling",
   "metadata": {},
   "outputs": [],
   "source": [
    "plotly_zones(dfs3_top, dfs6_top)\n",
    "# plotly_zone(dfs3_top)\n",
    "# plotly_zone(dfs6_top)"
   ]
  },
  {
   "cell_type": "code",
   "execution_count": null,
   "id": "frank-artist",
   "metadata": {},
   "outputs": [],
   "source": []
  }
 ],
 "metadata": {
  "kernelspec": {
   "display_name": "Python 3",
   "language": "python",
   "name": "python3"
  },
  "language_info": {
   "codemirror_mode": {
    "name": "ipython",
    "version": 3
   },
   "file_extension": ".py",
   "mimetype": "text/x-python",
   "name": "python",
   "nbconvert_exporter": "python",
   "pygments_lexer": "ipython3",
   "version": "3.7.3"
  }
 },
 "nbformat": 4,
 "nbformat_minor": 5
}
