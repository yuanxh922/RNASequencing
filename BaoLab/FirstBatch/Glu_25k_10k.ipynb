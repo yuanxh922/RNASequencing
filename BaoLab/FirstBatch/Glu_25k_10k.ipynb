{
 "cells": [
  {
   "cell_type": "code",
   "execution_count": null,
   "metadata": {},
   "outputs": [],
   "source": [
    "import pandas as pd\n",
    "import numpy as np\n",
    "import matplotlib\n",
    "import plotly.express as px"
   ]
  },
  {
   "cell_type": "code",
   "execution_count": null,
   "metadata": {},
   "outputs": [],
   "source": [
    "%run ../../modules/utils.ipynb\n",
    "%run ../../modules/cds.ipynb\n",
    "%run ../../modules/preprocessing.ipynb"
   ]
  },
  {
   "cell_type": "code",
   "execution_count": null,
   "metadata": {},
   "outputs": [],
   "source": [
    "# df_mock = pd.read_excel('/Users/bryan/Documents/BioPharmaFinder/BaoLab/FirstBatch/NoAcidDeg/Exploris240_UTMB_1_Mock_10ul_9min_NewOmics.xlsx')\n",
    "# df_rsv = pd.read_excel('/Users/bryan/Documents/BioPharmaFinder/BaoLab/FirstBatch/NoAcidDeg/Exploris240_UTMB_6_RSV1_10ul_9min_NewOmics.xlsx')\n",
    "df_mock = pd.read_excel('/Users/bryan/Documents/BioPharmaFinder/BaoLab/FirstBatch/Excels/1_Mock_10ul_9min_NewOmics_std.xlsx')\n",
    "df_rsv = pd.read_excel('/Users/bryan/Documents/BioPharmaFinder/BaoLab/FirstBatch/Excels/6_RSV1_10ul_9min_NewOmics_std.xlsx')\n",
    "df_mock.shape, df_rsv.shape"
   ]
  },
  {
   "cell_type": "code",
   "execution_count": null,
   "metadata": {},
   "outputs": [],
   "source": [
    "df_mock2 = pd.read_excel('/Users/bryan/Documents/BioPharmaFinder/BaoLab/SecondBatch/OE240_UTMB_Mock_5ul_9min_IPM_LP_420to2k_21Dec2020.xlsx')\n",
    "df_rsv2 = pd.read_excel('/Users/bryan/Documents/BioPharmaFinder/BaoLab/SecondBatch/OE240_UTMB_RSV_5ul_9min_IPM_LP_420to2k_21Dec2020.xlsx')\n",
    "df_mock2 = thermo_df(df_mock2)\n",
    "df_rsv2 = thermo_df(df_rsv2)\n",
    "df_mock2.shape, df_rsv2.shape"
   ]
  },
  {
   "cell_type": "code",
   "execution_count": null,
   "metadata": {},
   "outputs": [],
   "source": [
    "plotly_zones(df_mock2, df_rsv2)"
   ]
  },
  {
   "cell_type": "code",
   "execution_count": null,
   "metadata": {},
   "outputs": [],
   "source": [
    "df3 = pd.read_excel('/Users/bryan/Documents/BioPharmaFinder/BaoLab/FirstBatch/Excels/S2to5combined_20ul_40min.xlsx')\n",
    "df6 = pd.read_excel('/Users/bryan/Documents/BioPharmaFinder/BaoLab/FirstBatch/Excels/S6to10combined_20ul_40min.xlsx')\n",
    "df3 = thermo_df(df3)\n",
    "df6 = thermo_df(df6)\n",
    "df3.shape, df6.shape"
   ]
  },
  {
   "cell_type": "code",
   "execution_count": null,
   "metadata": {},
   "outputs": [],
   "source": [
    "df_glu_76_5p = pd.read_excel('/Users/bryan/Studio/tools/glu_76_5p.xlsx')\n",
    "df_glu_76_3p = pd.read_excel('/Users/bryan/Studio/tools/glu_76_3p.xlsx')"
   ]
  },
  {
   "cell_type": "code",
   "execution_count": null,
   "metadata": {},
   "outputs": [],
   "source": [
    "df_mock = thermo_df(df_mock)\n",
    "df_rsv = thermo_df(df_rsv)"
   ]
  },
  {
   "cell_type": "code",
   "execution_count": null,
   "metadata": {},
   "outputs": [],
   "source": [
    "def find_exist_ladder_dots(df, series):\n",
    "    df_ladder = pd.DataFrame()\n",
    "    df_ladder['Mass'] = series\n",
    "    df_found = match_dfs(df_ladder, df)\n",
    "    return df_found"
   ]
  },
  {
   "cell_type": "code",
   "execution_count": null,
   "metadata": {},
   "outputs": [],
   "source": [
    "df_comm = match_dfs(df_mock, df_rsv)\n",
    "df_rsv_diff = df_rsv.drop(df_comm.index)\n",
    "df_comm1 = df_mock[(df_mock.Mass>8600) & (df_mock.Mass<12800)&(df_mock.RT>1)]\n",
    "plotly_zone(df_comm1, y='Vol')\n",
    "df_tmp = df_rsv_diff[(df_rsv_diff.Mass>8600) & (df_rsv_diff.Mass<12800)&(df_rsv_diff.RT>1) & (df_rsv_diff.Vol>8000)]\n",
    "plotly_zone(df_tmp, y='Vol')"
   ]
  },
  {
   "cell_type": "code",
   "execution_count": null,
   "metadata": {},
   "outputs": [],
   "source": [
    "plt = plot_zone(df_tmp, y='Vol')\n",
    "df_tmp.to_excel('/Users/bryan/Documents/BioPharmaFinder/Draw/Source/Fig4_Data_rsv_diff.xlsx')"
   ]
  },
  {
   "cell_type": "code",
   "execution_count": null,
   "metadata": {},
   "outputs": [],
   "source": [
    "\n",
    "df_exam = df_tmp\n",
    "bcr = base_calling_random(df_exam, silence=True)\n",
    "plotly_basecalling(*bcr) #, annotate=False"
   ]
  },
  {
   "cell_type": "code",
   "execution_count": null,
   "metadata": {},
   "outputs": [],
   "source": [
    "df_matchee = df_glu_76_5p.Mass + 2 - 1 - 17\n",
    "df_match_5p = find_exist_ladder_dots(df_mock, df_matchee)\n",
    "\n",
    "df_match_5p_rsv = find_exist_ladder_dots(df_rsv, df_matchee)\n",
    "# plotly_zone(df_match_5p)\n",
    "plotly_zones(df_match_5p, df_match_5p_rsv, names=['Mock', 'RSV'], y='RT')"
   ]
  },
  {
   "cell_type": "code",
   "execution_count": null,
   "metadata": {},
   "outputs": [],
   "source": [
    "df_tmp = df_glu_76_5p.copy()\n",
    "\n",
    "df_tmp.Mass += 2 \n",
    "df_ = match_dfs(df_tmp, df6)\n",
    "df_tmp.Mass += 14\n",
    "df_m = match_dfs(df_tmp, df6)\n",
    "# df_tmp.Mass -= 18\n",
    "# df_m_h = match_dfs(df_tmp, df6)\n",
    "plotly_multi_zones([df_, df_m])"
   ]
  },
  {
   "cell_type": "code",
   "execution_count": null,
   "metadata": {},
   "outputs": [],
   "source": [
    "df_glu_76_5p.tail()"
   ]
  },
  {
   "cell_type": "code",
   "execution_count": null,
   "metadata": {},
   "outputs": [],
   "source": [
    "df_matchee = df_glu_76_5p.Mass + 2\n",
    "df_match_5p = find_exist_ladder_dots(df_mock2, df_matchee)\n",
    "\n",
    "df_match_5p_rsv = find_exist_ladder_dots(df_rsv2, df_matchee)\n",
    "# plotly_zone(df_match_5p)\n",
    "plotly_zones(df_match_5p, df_match_5p_rsv, names=['Mock', 'RSV'], y='Vol')"
   ]
  },
  {
   "cell_type": "code",
   "execution_count": null,
   "metadata": {},
   "outputs": [],
   "source": []
  },
  {
   "cell_type": "code",
   "execution_count": null,
   "metadata": {},
   "outputs": [],
   "source": []
  },
  {
   "cell_type": "code",
   "execution_count": null,
   "metadata": {},
   "outputs": [],
   "source": []
  },
  {
   "cell_type": "code",
   "execution_count": null,
   "metadata": {},
   "outputs": [],
   "source": []
  },
  {
   "cell_type": "code",
   "execution_count": null,
   "metadata": {},
   "outputs": [],
   "source": []
  },
  {
   "cell_type": "code",
   "execution_count": null,
   "metadata": {},
   "outputs": [],
   "source": []
  },
  {
   "cell_type": "code",
   "execution_count": null,
   "metadata": {},
   "outputs": [],
   "source": []
  },
  {
   "cell_type": "code",
   "execution_count": null,
   "metadata": {},
   "outputs": [],
   "source": [
    "masses = [24189.23, 24203.24, 24217.27, 24231.25]\n",
    "df_skeleton, _ = computational_data_seperation(df_mock, df3, full_mass=masses[1], ignore_endpoints=True)\n",
    "# df_skeleton, _ = computational_data_seperation(df_rsv, df3, full_mass=masses[0], ignore_endpoints=True)\n",
    "plotly_zone(df_skeleton)"
   ]
  },
  {
   "cell_type": "code",
   "execution_count": null,
   "metadata": {},
   "outputs": [],
   "source": [
    "idxs = list()\n",
    "# create our callback function\n",
    "def on_selection(trace, points, selector):\n",
    "    print('points {}'.format(points.point_inds) )\n",
    "    idxs.extend(points.point_inds)\n",
    "\n",
    "def on_click(trace, points, selector):\n",
    "#     print('points {}'.format(points.point_inds) )\n",
    "    idxs.extend(points.point_inds)\n",
    "\n",
    "df_sample = df_chosen #df_comm\n",
    "f = zone_selection(df_sample, on_selection=on_selection, on_click=on_click)\n",
    "f"
   ]
  },
  {
   "cell_type": "code",
   "execution_count": null,
   "metadata": {},
   "outputs": [],
   "source": [
    "df_chosen = df_sample.iloc[idxs]\n",
    "df_chosen.shape"
   ]
  },
  {
   "cell_type": "code",
   "execution_count": null,
   "metadata": {},
   "outputs": [],
   "source": []
  },
  {
   "cell_type": "code",
   "execution_count": null,
   "metadata": {},
   "outputs": [],
   "source": []
  },
  {
   "cell_type": "code",
   "execution_count": null,
   "metadata": {},
   "outputs": [],
   "source": []
  },
  {
   "cell_type": "markdown",
   "metadata": {},
   "source": [
    "# 25k"
   ]
  },
  {
   "cell_type": "code",
   "execution_count": null,
   "metadata": {},
   "outputs": [],
   "source": [
    "# df_mock_25k.to_excel('/Users/bryan/Documents/BioPharmaFinder/BaoLab/FirstBatch/NoAcidDeg/mock_25k.xlsx')\n",
    "# df_rsv_25k.to_excel('/Users/bryan/Documents/BioPharmaFinder/BaoLab/FirstBatch/NoAcidDeg/rsv_25k.xlsx')\n",
    "df_mock_25k.to_excel('/Users/bryan/Documents/BioPharmaFinder/BaoLab/FirstBatch/Excels/mock_25k.xlsx')\n",
    "df_rsv_25k.to_excel('/Users/bryan/Documents/BioPharmaFinder/BaoLab/FirstBatch/Excels/rsv_25k.xlsx')"
   ]
  },
  {
   "cell_type": "code",
   "execution_count": null,
   "metadata": {},
   "outputs": [],
   "source": [
    "df2 = pd.read_excel('/Users/bryan/Documents/BioPharmaFinder/BaoLab/FirstBatch/Excels/S2to5combined_20ul_40min.xlsx')\n",
    "df7 = pd.read_excel('/Users/bryan/Documents/BioPharmaFinder/BaoLab/FirstBatch/Excels/S6to10combined_20ul_40min.xlsx')\n",
    "df2 = thermo_df(df2)\n",
    "df7 = thermo_df(df7)"
   ]
  },
  {
   "cell_type": "code",
   "execution_count": null,
   "metadata": {},
   "outputs": [],
   "source": [
    "plotly_zone(df_rsv_25k)"
   ]
  },
  {
   "cell_type": "code",
   "execution_count": null,
   "metadata": {},
   "outputs": [],
   "source": [
    "df_mock_25k = df_mock[(df_mock.Mass > 24000) & (df_mock.Mass < 24500) & (df_mock.RT > 1)  &(df_mock.RT < 4)& (df_mock.Vol > 0.5*1E5)] #\n",
    "df_rsv_25k = df_rsv[(df_rsv.Mass > 24000) & (df_rsv.Mass < 24500) & (df_rsv.RT > 1) & (df_rsv.RT < 4)& (df_rsv.Vol > 0.5*1E5)] #\n",
    "df_mock_25k.shape, df_rsv_25k.shape\n",
    "# df2_25k = df2[(df2.Mass > 24000) & (df2.Mass < 26000)] # & (df2.Vol > 1E5)\n",
    "# df7_25k = df7[(df7.Mass > 24000) & (df7.Mass < 26000)]  #& (df7.Vol > 1E5)"
   ]
  },
  {
   "cell_type": "code",
   "execution_count": null,
   "metadata": {},
   "outputs": [],
   "source": [
    "# plotly_multi_zones([df_mock_25k, df_rsv_25k])\n",
    "plotly_zones(df_mock_25k, df_rsv_25k, y='Vol', names=['Mock', 'RSV'])\n",
    "# plotly_zones(df2_25k, df7_25k, y='RT', names=['Mock', 'RSV'])"
   ]
  },
  {
   "cell_type": "code",
   "execution_count": null,
   "metadata": {},
   "outputs": [],
   "source": [
    "%run ../../modules/utils.ipynb\n",
    "%run ../../modules/preprocessing.ipynb\n",
    "bcr = base_calling_random(df2_25k, silence=True, homology=True)\n",
    "plt, fig = plot_basecalling(*bcr, annotate=False)\n",
    "# fig.tight_layout()\n",
    "# plt.savefig(f'/Users/bryan/Documents/BioPharmaFinder/BaoLab/MassSum/FirstBatch/Fig_homology_rsv_acid_degraded.svg', dpi=300, transparent=True)\n",
    "# df2_25k.to_excel('/Users/bryan/Documents/BioPharmaFinder/BaoLab/MassSum/FirstBatch/homology_rsv_acid_degraded.xlsx')"
   ]
  },
  {
   "cell_type": "code",
   "execution_count": null,
   "metadata": {},
   "outputs": [],
   "source": [
    "bcr = base_calling_random(df7_25k, silence=True, homology=True)\n",
    "plotly_basecalling(*bcr)"
   ]
  },
  {
   "cell_type": "code",
   "execution_count": null,
   "metadata": {},
   "outputs": [],
   "source": []
  },
  {
   "cell_type": "code",
   "execution_count": null,
   "metadata": {},
   "outputs": [],
   "source": [
    "# df_mock_25k = pd.read_csv('/Users/bryan/Documents/BioPharmaFinder/BaoLab/FirstBatch/NoAcidDeg/mock_25k.csv')\n",
    "# df_rsv_25k = pd.read_csv('/Users/bryan/Documents/BioPharmaFinder/BaoLab/FirstBatch/NoAcidDeg/rsv_25k.csv')\n",
    "df_mock_25k = pd.read_csv('/Users/bryan/Documents/BioPharmaFinder/BaoLab/FirstBatch/Excels/mock_25k.csv')\n",
    "df_rsv_25k = pd.read_csv('/Users/bryan/Documents/BioPharmaFinder/BaoLab/FirstBatch/Excels/rsv_25k.csv')"
   ]
  },
  {
   "cell_type": "code",
   "execution_count": null,
   "metadata": {},
   "outputs": [],
   "source": [
    "# df_mock_25k[df_mock_25k.Match == True].to_excel('/Users/bryan/Documents/BioPharmaFinder/BaoLab/FirstBatch/NoAcidDeg/mock_matched.xlsx')\n",
    "# df_mock_25k[df_mock_25k.Match == False].to_excel('/Users/bryan/Documents/BioPharmaFinder/BaoLab/FirstBatch/NoAcidDeg/mock_unmatched.xlsx')\n",
    "df_mock_25k[df_mock_25k.Match == True].to_excel('/Users/bryan/Documents/BioPharmaFinder/BaoLab/FirstBatch/Excels/mock_matched.xlsx')\n",
    "df_mock_25k[df_mock_25k.Match == False].to_excel('/Users/bryan/Documents/BioPharmaFinder/BaoLab/FirstBatch/Excels/mock_unmatched.xlsx')"
   ]
  },
  {
   "cell_type": "code",
   "execution_count": null,
   "metadata": {},
   "outputs": [],
   "source": [
    "# df_rsv_25k[df_rsv_25k.Match == True].to_excel('/Users/bryan/Documents/BioPharmaFinder/BaoLab/FirstBatch/NoAcidDeg/rsv_matched.xlsx')\n",
    "# df_rsv_25k[df_rsv_25k.Match == False].to_excel('/Users/bryan/Documents/BioPharmaFinder/BaoLab/FirstBatch/NoAcidDeg/rsv_unmatched.xlsx')\n",
    "df_rsv_25k[df_rsv_25k.Match == True].to_excel('/Users/bryan/Documents/BioPharmaFinder/BaoLab/FirstBatch/Excels/rsv_matched.xlsx')\n",
    "df_rsv_25k[df_rsv_25k.Match == False].to_excel('/Users/bryan/Documents/BioPharmaFinder/BaoLab/FirstBatch/Excels/rsv_unmatched.xlsx')"
   ]
  },
  {
   "cell_type": "markdown",
   "metadata": {},
   "source": [
    "# 10k"
   ]
  },
  {
   "cell_type": "code",
   "execution_count": null,
   "metadata": {},
   "outputs": [],
   "source": [
    "df_mock_12k = df_mock[(df_mock.Mass > 12000) & (df_mock.Mass < 14000)]\n",
    "df_rsv_12k = df_rsv[(df_rsv.Mass > 12000) & (df_rsv.Mass < 14000)]"
   ]
  },
  {
   "cell_type": "code",
   "execution_count": null,
   "metadata": {},
   "outputs": [],
   "source": [
    "df_mock_10k = df_mock[(df_mock.Mass > 8500) & (df_mock.Mass < 11000) & (df_mock.RT > 1) & (df_mock.Vol > 2E4)] #\n",
    "df_rsv_10k = df_rsv[(df_rsv.Mass > 8500) & (df_rsv.Mass < 11000) & (df_rsv.RT > 1) & (df_rsv.Vol > 2E4)] # "
   ]
  },
  {
   "cell_type": "code",
   "execution_count": null,
   "metadata": {},
   "outputs": [],
   "source": [
    "plotly_zones(df_mock_12k, df_rsv_12k, y='RT')"
   ]
  },
  {
   "cell_type": "code",
   "execution_count": null,
   "metadata": {},
   "outputs": [],
   "source": [
    "plotly_zones(df_mock_10k, df_rsv_10k, y='RT')"
   ]
  },
  {
   "cell_type": "code",
   "execution_count": null,
   "metadata": {},
   "outputs": [],
   "source": [
    "plotly_zones(df_mock_10k, df_rsv_10k, y='Vol')"
   ]
  },
  {
   "cell_type": "code",
   "execution_count": null,
   "metadata": {},
   "outputs": [],
   "source": []
  },
  {
   "cell_type": "markdown",
   "metadata": {},
   "source": [
    "# 25k Methyl"
   ]
  },
  {
   "cell_type": "code",
   "execution_count": null,
   "metadata": {},
   "outputs": [],
   "source": [
    "df2.shape, df7.shape\n",
    "# plotly_zones(df2, df7)\n",
    "df2[df2.Mass>2000].shape, df7[df7.Mass>2000].shape"
   ]
  },
  {
   "cell_type": "code",
   "execution_count": null,
   "metadata": {},
   "outputs": [],
   "source": [
    "def plot_basecalling(df, mass_pairs, endpoints=pd.DataFrame(), annotate=True, plt=None, y='RT'):\n",
    "#     if in_plt:\n",
    "#         plt = in_plt\n",
    "#     else:\n",
    "    if not plt:\n",
    "        plt = matplotlib.pyplot\n",
    "    fig = plt.figure(figsize=(16, 12))\n",
    "#     plt.xlabel('Mass (Da)')\n",
    "#     plt.ylabel('Retention Time (min)')\n",
    "    plt.xlabel('Monoisotopic Mass (Da)', fontname=\"Arial\", fontsize=15, color='black')\n",
    "    plt.ylabel('Retention Time (min)', fontname=\"Arial\", fontsize=15, color='black')\n",
    "#     plt.xticks(range(0, 25001, 2500), fontname=\"Arial\", size=13, color='black')\n",
    "#     plt.yticks(range(0, 25, 2), fontname=\"Arial\", size=13, color='black')\n",
    "    plt.xticks(fontname=\"Arial\", size=13, color='black')\n",
    "    plt.yticks(fontname=\"Arial\", size=13, color='black')\n",
    "    \n",
    "    for idx, row in df.iterrows():\n",
    "        x_pos = row.Mass\n",
    "        y_pos = row[y]\n",
    "        mass = '{:.2f}'.format(x_pos)\n",
    "#         plt.scatter(x_pos, y_pos, color='C0')\n",
    "#         plt.annotate(text=mass, size=13, xy=(x_pos, y_pos), \n",
    "#                      textcoords=\"offset points\", xytext=(10, -20), ha='center')\n",
    "\n",
    "    for t in mass_pairs:\n",
    "        df_pair = df[df.Mass.isin(t)]\n",
    "        if df_pair.empty:\n",
    "            continue\n",
    "        plt.scatter(df_pair.iloc[0].Mass, df_pair.iloc[0][y], color='C0')\n",
    "        \n",
    "        idmax = df_pair.Mass.idxmax()\n",
    "        x_pos = df_pair.Mass.mean()\n",
    "        y_pos = df_pair[y].mean()\n",
    "#         plt.annotate(text=t[2], size=15, xy=(x_pos, y_pos), \n",
    "#                      textcoords=\"offset points\", xytext=(-10, 10), ha='center', color='C0')\n",
    "#         plt.annotate(s=t[2], size=15, xy=(df_pair.loc[idmax].Mass, df_pair.loc[idmax].RT), \n",
    "#                      textcoords=\"offset points\", xytext=(-10, 10), ha='center', color='C0')\n",
    "        \n",
    "        if not annotate:\n",
    "            continue\n",
    "            \n",
    "#         mass = '{:.2f}'.format(df_pair.loc[idmax].Mass)\n",
    "#         plt.annotate(s=mass, size=13, xy=(df_pair.loc[idmax].Mass, df_pair.loc[idmax].RT), \n",
    "#                      textcoords=\"offset points\", xytext=(10, -20), ha='center')\n",
    "#         print(mass_pairs, df_pair)\n",
    "\n",
    "#         mass = '{:.2f}'.format(df_pair.iloc[0].Mass)\n",
    "#         plt.annotate(text=mass, size=13, xy=(df_pair.iloc[0].Mass, df_pair.iloc[0][y]), \n",
    "#                      textcoords=\"offset points\", xytext=(10, -20), ha='center')\n",
    "#         mass = '{:.2f}'.format(df_pair.iloc[1].Mass)\n",
    "#         plt.annotate(text=mass, size=13, xy=(df_pair.iloc[1].Mass, df_pair.iloc[1][y]), \n",
    "#                      textcoords=\"offset points\", xytext=(10, -20), ha='center')\n",
    "\n",
    "    if not endpoints.empty:\n",
    "        plt.scatter(endpoints.Mass, endpoints.RT, color='r')\n",
    "        print(endpoints[['Mass', 'RT', 'Vol']])\n",
    "#     plt.show()\n",
    "    return plt, fig"
   ]
  },
  {
   "cell_type": "code",
   "execution_count": null,
   "metadata": {},
   "outputs": [],
   "source": [
    "%run ../../modules/preprocessing.ipynb\n",
    "bcr2 = base_calling_random(df2[df2.Mass>2000], silence=True, methyl=True)\n",
    "plt, fig = plot_basecalling(*bcr2, annotate=True)\n",
    "bcr7 = base_calling_random(df7[df7.Mass>2000], silence=True, methyl=True)\n",
    "plt, fig = plot_basecalling(*bcr7, annotate=True)\n",
    "len(bcr2[1]), len(bcr7[1])"
   ]
  },
  {
   "cell_type": "code",
   "execution_count": null,
   "metadata": {},
   "outputs": [],
   "source": [
    "df_c7 = match_dfs(df2[df2.Mass>2000], df7[df7.Mass>2000])\n",
    "df_c2 = match_dfs(df7[df7.Mass>2000], df2[df2.Mass>2000])\n",
    "df_c2.shape, df_c7.shape, df_c2.Vol.mean(), df_c7.Vol.mean(), df_c2.Vol.median(), df_c7.Vol.median()"
   ]
  },
  {
   "cell_type": "code",
   "execution_count": null,
   "metadata": {},
   "outputs": [],
   "source": [
    "plotly_zone(df_c2)"
   ]
  },
  {
   "cell_type": "code",
   "execution_count": null,
   "metadata": {},
   "outputs": [],
   "source": [
    "bcr2[0].shape, bcr7[0].shape"
   ]
  },
  {
   "cell_type": "code",
   "execution_count": null,
   "metadata": {},
   "outputs": [],
   "source": [
    "df_comm7 = match_dfs(bcr2[0], bcr7[0])\n",
    "tmp = bcr7[0]\n",
    "bcr7_new = tmp.drop(df_comm7.index)\n",
    "bcr7_new.shape"
   ]
  },
  {
   "cell_type": "code",
   "execution_count": null,
   "metadata": {},
   "outputs": [],
   "source": [
    "df_comm2 = match_dfs(bcr7[0], bcr2[0])\n",
    "tmp = bcr2[0]\n",
    "bcr2_old = tmp.drop(df_comm2.index)\n",
    "bcr2_old.shape"
   ]
  },
  {
   "cell_type": "code",
   "execution_count": null,
   "metadata": {},
   "outputs": [],
   "source": [
    "df_comm2.head(), df_comm7.head()\n",
    "df_comm2.Vol.mean(), df_comm7.Vol.mean()"
   ]
  },
  {
   "cell_type": "code",
   "execution_count": null,
   "metadata": {},
   "outputs": [],
   "source": [
    "plotly_zones(bcr2_old, bcr7_new)"
   ]
  },
  {
   "cell_type": "code",
   "execution_count": null,
   "metadata": {},
   "outputs": [],
   "source": [
    "plotly_zone(df_comm)"
   ]
  },
  {
   "cell_type": "code",
   "execution_count": null,
   "metadata": {},
   "outputs": [],
   "source": [
    "df_comm"
   ]
  },
  {
   "cell_type": "code",
   "execution_count": null,
   "metadata": {},
   "outputs": [],
   "source": []
  }
 ],
 "metadata": {
  "kernelspec": {
   "display_name": "Python 3",
   "language": "python",
   "name": "python3"
  },
  "language_info": {
   "codemirror_mode": {
    "name": "ipython",
    "version": 3
   },
   "file_extension": ".py",
   "mimetype": "text/x-python",
   "name": "python",
   "nbconvert_exporter": "python",
   "pygments_lexer": "ipython3",
   "version": "3.7.3"
  }
 },
 "nbformat": 4,
 "nbformat_minor": 4
}
