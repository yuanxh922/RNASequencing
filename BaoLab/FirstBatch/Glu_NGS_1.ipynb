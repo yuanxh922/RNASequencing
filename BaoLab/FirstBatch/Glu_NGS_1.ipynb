{
 "cells": [
  {
   "cell_type": "code",
   "execution_count": null,
   "metadata": {},
   "outputs": [],
   "source": [
    "import pandas as pd\n",
    "import numpy as np\n",
    "import matplotlib\n",
    "import plotly.express as px"
   ]
  },
  {
   "cell_type": "code",
   "execution_count": null,
   "metadata": {},
   "outputs": [],
   "source": [
    "%run ../../modules/utils.ipynb\n",
    "%run ../../modules/cds.ipynb\n",
    "%run ../../modules/preprocessing.ipynb"
   ]
  },
  {
   "cell_type": "code",
   "execution_count": null,
   "metadata": {},
   "outputs": [],
   "source": [
    "df_ctrl_mock = pd.read_excel('/Users/xyuan/Documents/BioPharmaFinder/BaoLab/FirstBatch/Excels/1_Mock_10ul_9min_NewOmics.xlsx')\n",
    "df_ctrl_rsv = pd.read_excel('/Users/xyuan/Documents/BioPharmaFinder/BaoLab/FirstBatch/Excels/6_RSV1_10ul_9min_NewOmics.xlsx')\n",
    "df_ctrl_mock = thermo_df(df_ctrl_mock)\n",
    "df_ctrl_rsv = thermo_df(df_ctrl_rsv)"
   ]
  },
  {
   "cell_type": "code",
   "execution_count": null,
   "metadata": {},
   "outputs": [],
   "source": [
    "df_cmc = pd.read_excel('/Users/xyuan/Documents/SeqDataSets/CMC/181227s07_100.xls')\n",
    "df_cmc =thermo_df(df_cmc)\n",
    "plotly_zone(df_cmc)"
   ]
  },
  {
   "cell_type": "code",
   "execution_count": null,
   "metadata": {},
   "outputs": [],
   "source": [
    "dft = match_dfs(df_cmc, df_cmc, shift=M, ppm=5)\n",
    "plotly_zones(df3, dft)\n",
    "len(df3), len(dft)"
   ]
  },
  {
   "cell_type": "code",
   "execution_count": null,
   "metadata": {},
   "outputs": [],
   "source": [
    "plotly_zones(df_cmc, dft, names=['Mock', 'Shift_14'])"
   ]
  },
  {
   "cell_type": "code",
   "execution_count": null,
   "metadata": {},
   "outputs": [],
   "source": [
    "df_ctrl_mock_24k = df_ctrl_mock[df_ctrl_mock.Mass>23000]\n",
    "df_ctrl_rsv_24k = df_ctrl_rsv[df_ctrl_rsv.Mass>23000]\n",
    "plotly_zone(df_ctrl_mock_24k, y='Vol')\n",
    "plotly_zone(df_ctrl_rsv_24k, y='Vol')"
   ]
  },
  {
   "cell_type": "code",
   "execution_count": null,
   "metadata": {},
   "outputs": [],
   "source": [
    "# df_sample = df_ctrl_mock_24k\n",
    "df_sample = df_ctrl_rsv_24k"
   ]
  },
  {
   "cell_type": "code",
   "execution_count": null,
   "metadata": {},
   "outputs": [],
   "source": [
    "import multiprocessing\n",
    "from collections import namedtuple\n",
    "ShiftHit = namedtuple('ShiftHit', 'shift hit')\n",
    "\n",
    "def func(df_sample, shift):\n",
    "    dfm = match_dfs(df_sample, df_sample, shift=shift)\n",
    "    sh = ShiftHit(shift=shift, hit=dfm.shape[0])\n",
    "    return sh\n",
    "\n",
    "PROCESSES = 16\n",
    "params = [(df_sample, shift) for shift in np.arange(1, 300, 1)]\n",
    "# params = [(df_sample, shift) for shift in np.arange(1, 64, 0.1)]\n",
    "with multiprocessing.Pool(PROCESSES) as pool:\n",
    "    shift_hits = pool.starmap(func, params)\n",
    "\n",
    "df_shift_hits = pd.DataFrame(shift_hits)    "
   ]
  },
  {
   "cell_type": "code",
   "execution_count": null,
   "metadata": {},
   "outputs": [],
   "source": [
    "fig = px.scatter(df_shift_hits, x='shift', y='hit', labels={'shift': 'Mass Shift', 'hit': 'Hit Count'})\n",
    "fig.show()"
   ]
  },
  {
   "cell_type": "code",
   "execution_count": null,
   "metadata": {},
   "outputs": [],
   "source": [
    "df3 = pd.read_excel('/Users/xyuan/Documents/BioPharmaFinder/BaoLab/FirstBatch/Excels/S2to5combined_20ul_40min.xlsx')\n",
    "df6 = pd.read_excel('/Users/xyuan/Documents/BioPharmaFinder/BaoLab/FirstBatch/Excels/S6to10combined_20ul_40min.xlsx')\n",
    "df3 = thermo_df(df3)\n",
    "df6 = thermo_df(df6)\n",
    "df3.shape, df6.shape"
   ]
  },
  {
   "cell_type": "code",
   "execution_count": null,
   "metadata": {},
   "outputs": [],
   "source": [
    "df3_24k = df3[df3.Mass>23000]\n",
    "df3_24k = df3_24k.sort_values('Vol', ascending=False).iloc[:50]\n",
    "df6_24k = df6[df6.Mass>23000]\n",
    "df6_24k = df6_24k.sort_values('Vol', ascending=False).iloc[:50]\n",
    "plotly_zone(df3_24k, y='Vol')\n",
    "plotly_zone(df6_24k, y='Vol')\n",
    "# plotly_zones(df3_24k, df6_24k, y='RT')"
   ]
  },
  {
   "cell_type": "code",
   "execution_count": null,
   "metadata": {},
   "outputs": [],
   "source": [
    "dft = df3_24k.iloc[:5].copy()\n",
    "dft = dft.reset_index(drop=True)\n",
    "dft.index = np.arange(1, len(dft) + 1)\n",
    "dft"
   ]
  },
  {
   "cell_type": "code",
   "execution_count": null,
   "metadata": {},
   "outputs": [],
   "source": [
    "# plotly_zone(df3[df3.Mass>1500], y='Vol')\n",
    "# plotly_zone(df6[df6.Mass>1500], y='Vol')\n",
    "df3_lt = local_top(df3, top=1)\n",
    "# plotly_zone(df3_lt)\n",
    "bcr = base_calling_random(df3_lt)\n",
    "plotly_basecalling(df3_lt, bcr[1])\n",
    "\n",
    "df6_lt = local_top(df6, top=1)\n",
    "# plotly_zone(df6_lt)\n",
    "bcr = base_calling_random(df6_lt)\n",
    "plotly_basecalling(df6_lt, bcr[1])"
   ]
  },
  {
   "cell_type": "code",
   "execution_count": null,
   "metadata": {},
   "outputs": [],
   "source": [
    "df6_comm = match_dfs(df3, df6)\n",
    "df6_only = df6.drop(df6_comm.index)\n",
    "plotly_zone(df6_only[df6_only.Mass>2000], y='Vol')\n",
    "\n",
    "df3_comm = match_dfs(df6, df3)\n",
    "df3_only = df3.drop(df3_comm.index)\n",
    "plotly_zone(df3_only[df3_only.Mass>2000], y='Vol')"
   ]
  },
  {
   "cell_type": "code",
   "execution_count": null,
   "metadata": {},
   "outputs": [],
   "source": [
    "df_trf_mock = pd.read_excel('/Users/xyuan/Documents/BioPharmaFinder/BaoLab/FirstBatch/NoAcidDeg/Exploris240_UTMB_1_Mock_10ul_9min_NewOmics.xlsx')\n",
    "df_trf_rsv = pd.read_excel('/Users/xyuan/Documents/BioPharmaFinder/BaoLab/FirstBatch/NoAcidDeg/Exploris240_UTMB_6_RSV1_10ul_9min_NewOmics.xlsx')\n",
    "df_trf_mock = thermo_df(df_trf_mock)\n",
    "df_trf_rsv = thermo_df(df_trf_rsv)"
   ]
  },
  {
   "cell_type": "code",
   "execution_count": null,
   "metadata": {},
   "outputs": [],
   "source": [
    "df_trf_mock = pd.read_excel('/Users/xyuan/Documents/BioPharmaFinder/BaoLab/FirstBatch/RawExcels/sample1.xlsx')\n",
    "df_trf_rsv = pd.read_excel('/Users/xyuan/Documents/BioPharmaFinder/BaoLab/FirstBatch/RawExcels/sample4.xlsx')\n",
    "df_trf_mock = thermo_df(df_trf_mock)\n",
    "df_trf_rsv = thermo_df(df_trf_rsv)"
   ]
  },
  {
   "cell_type": "code",
   "execution_count": null,
   "metadata": {},
   "outputs": [],
   "source": [
    "df_b2_mock = pd.read_excel('/Users/xyuan/Documents/BioPharmaFinder/BaoLab/SecondBatch/OE240_UTMB_Mock_5ul_9min_IPM_LP_420to2k_21Dec2020.xlsx')\n",
    "df_b2_rsv = pd.read_excel('/Users/xyuan/Documents/BioPharmaFinder/BaoLab/SecondBatch/OE240_UTMB_RSV_5ul_9min_IPM_LP_420to2k_21Dec2020.xlsx')\n",
    "df_b2_mock = thermo_df(df_b2_mock)\n",
    "df_b2_rsv = thermo_df(df_b2_rsv)"
   ]
  },
  {
   "cell_type": "code",
   "execution_count": null,
   "metadata": {},
   "outputs": [],
   "source": [
    "# plotly_zone(df_trf_mock, y='Vol')\n",
    "# plotly_zone(df_trf_rsv, y='Vol')\n",
    "plotly_zones(df_trf_mock, df_trf_rsv, y='Vol')\n",
    "df_trf_mock[(df_trf_mock.Mass>7000)&(df_trf_mock.Mass<8000)].sort_values('Mass'), df_trf_rsv[(df_trf_rsv.Mass>7000)&(df_trf_rsv.Mass<8000)].sort_values('Mass')"
   ]
  },
  {
   "cell_type": "code",
   "execution_count": null,
   "metadata": {},
   "outputs": [],
   "source": [
    "# plotly_zone(df_trf_rsv, y='Vol')\n",
    "df_rsv_comm = match_dfs(df_trf_mock, df_trf_rsv)\n",
    "df_rsv_only = df_trf_rsv.drop(df_rsv_comm.index)\n",
    "# plotly_zone(df_rsv_only, title='Data Exist in RSV Sample Only')\n",
    "# plotly_zone(df_rsv_only, y='Vol')\n",
    "plotly_zones(df_trf_mock, df_rsv_only, \n",
    "             names=['Mock Data', 'RSV Only'],\n",
    "             title='Data Exist in RSV Sample Only (Mass-t<sub>R</sub>)')\n",
    "plotly_zones(df_trf_mock, df_rsv_only, \n",
    "             names=['Mock Data', 'RSV Only'],\n",
    "             y='Vol', title='Data Exist in RSV Sample Only (Mass-Intensity)')\n",
    "df_rsv_only.shape\n",
    "# plotly_zones(df_trf_rsv, df_rsv_only, y='Vol', names=['Mock', 'RSV Generated'])\n",
    "# df_trf_mock[(df_trf_mock.Mass>8000)&(df_trf_mock.Mass<10000)].sort_values('Mass')\n",
    "\n",
    "# df_mock_comm = match_dfs(df_trf_rsv, df_trf_mock)\n",
    "# df_mock_only = df_trf_mock.drop(df_mock_comm.index)\n",
    "# plotly_zone(df_mock_only, y='Vol')\n"
   ]
  },
  {
   "cell_type": "code",
   "execution_count": null,
   "metadata": {},
   "outputs": [],
   "source": [
    "plotly_zones(df_trf_mock, df_rsv_only, y='Vol', names=['Mock 10K', 'RSV Generated'])"
   ]
  },
  {
   "cell_type": "code",
   "execution_count": null,
   "metadata": {},
   "outputs": [],
   "source": [
    "# df_mock_24k = df_trf_mock[(df_trf_mock.Mass>24200)&(df_trf_mock.Mass<25110)]\n",
    "# df_rsv_24k = df_rsv_only[(df_rsv_only.Mass>24200)&(df_rsv_only.Mass<25110)]\n",
    "# df_mock_24k.sort_values('Mass'), df_rsv_24k.sort_values('Mass')\n",
    "df_mock_10k = df_trf_mock[(df_trf_mock.Mass>8000)&(df_trf_mock.Mass<12000)]\n",
    "df_rsv_10k = df_rsv_only[(df_rsv_only.Mass>8000)&(df_rsv_only.Mass<12000)]\n",
    "df_mock_10k.sort_values('Mass'), df_rsv_10k.sort_values('Mass')"
   ]
  },
  {
   "cell_type": "code",
   "execution_count": null,
   "metadata": {},
   "outputs": [],
   "source": [
    "# plotly_zones(df_trf_mock, df_trf_rsv)\n",
    "plotly_zone(df_trf_mock[df_trf_mock.Mass>2000], y='Vol')\n",
    "plotly_zone(df_trf_rsv[df_trf_rsv.Mass>2000], y='Vol')"
   ]
  },
  {
   "cell_type": "code",
   "execution_count": null,
   "metadata": {},
   "outputs": [],
   "source": [
    "df_uc_b2 = pd.read_excel('/Users/xyuan/Documents/ChenLab/10Jun2021/degraded/DrChen_tRNA_A_Glu_FA_17.xlsx')\n",
    "df_uc_b2 = thermo_df(df_uc_b2)\n",
    "plotly_zone(df_uc_b2)"
   ]
  },
  {
   "cell_type": "code",
   "execution_count": null,
   "metadata": {},
   "outputs": [],
   "source": [
    "df_uc_b1 = pd.read_excel('/Users/xyuan/Documents/ChenLab/8May2021/UC_glu_5_rosa.xlsx')\n",
    "df_uc_b1 = thermo_df(df_uc_b1)\n",
    "df_uc_b1_alkb = pd.read_excel('/Users/xyuan/Documents/ChenLab/8May2021/UC_glu_6_rosa.xlsx')\n",
    "df_uc_b1_alkb = thermo_df(df_uc_b1_alkb)\n",
    "\n",
    "df_uc_b1_24k = df_uc_b1[df_uc_b1.Mass>23000]\n",
    "df_uc_b1_alkb_24k = df_uc_b1_alkb[df_uc_b1_alkb.Mass>23000]\n",
    "df_uc_b1_24k = df_uc_b1_24k.sort_values('Vol', ascending=False).iloc[:50]\n",
    "df_uc_b1_alkb_24k = df_uc_b1_alkb_24k.sort_values('Vol', ascending=False).iloc[:50]\n",
    "plotly_zone(df_uc_b1_24k, y='Vol')\n",
    "plotly_zone(df_uc_b1_alkb_24k, y='Vol')"
   ]
  },
  {
   "cell_type": "code",
   "execution_count": null,
   "metadata": {},
   "outputs": [],
   "source": [
    "dft = df_uc_b1_24k.iloc[:5].copy()\n",
    "dft = dft.reset_index(drop=True)\n",
    "dft.index = np.arange(1, len(dft) + 1)\n",
    "dft"
   ]
  },
  {
   "cell_type": "code",
   "execution_count": null,
   "metadata": {},
   "outputs": [],
   "source": [
    "df_merge_utuc = pd.concat([df36, df_uc_b2]).reset_index()\n",
    "plotly_zone(df_merge_utuc)"
   ]
  },
  {
   "cell_type": "code",
   "execution_count": null,
   "metadata": {},
   "outputs": [],
   "source": [
    "df_sample = df_merge_utuc #df_uc_b2\n",
    "df_tmp = df_ngs_5p.copy()\n",
    "dfm_uc = match_dfs(df_tmp, df_sample)\n",
    "df_tmp.Mass += M\n",
    "dfm_uc_1m = match_dfs(df_tmp, df_sample)\n",
    "plotly_zones(dfm_uc, dfm_uc_1m)"
   ]
  },
  {
   "cell_type": "code",
   "execution_count": null,
   "metadata": {},
   "outputs": [],
   "source": [
    "df36 = pd.concat([df3, df6]).reset_index()\n",
    "df36.shape"
   ]
  },
  {
   "cell_type": "code",
   "execution_count": null,
   "metadata": {},
   "outputs": [],
   "source": [
    "plotly_zone(df36)"
   ]
  },
  {
   "cell_type": "code",
   "execution_count": null,
   "metadata": {},
   "outputs": [],
   "source": [
    "df_top = local_top(df3, top=2)\n",
    "plotly_zone(df_top)"
   ]
  },
  {
   "cell_type": "code",
   "execution_count": null,
   "metadata": {},
   "outputs": [],
   "source": [
    "# Choose dots\n",
    "\n",
    "idxs = list()\n",
    "# create our callback function\n",
    "def on_selection(trace, points, selector):\n",
    "    print('points {}'.format(points.point_inds) )\n",
    "    idxs.extend(points.point_inds)\n",
    "\n",
    "def on_click(trace, points, selector):\n",
    "#     print('points {}'.format(points.point_inds) )\n",
    "    idxs.extend(points.point_inds)\n",
    "\n",
    "df_sample = df_top\n",
    "f = zone_selection(df_sample, on_selection=on_selection, on_click=on_click)\n",
    "f"
   ]
  },
  {
   "cell_type": "code",
   "execution_count": null,
   "metadata": {},
   "outputs": [],
   "source": [
    "df_chosen = df_sample.iloc[idxs]\n",
    "df_chosen.shape"
   ]
  },
  {
   "cell_type": "code",
   "execution_count": null,
   "metadata": {},
   "outputs": [],
   "source": [
    "plotly_zone(df3)"
   ]
  },
  {
   "cell_type": "code",
   "execution_count": null,
   "metadata": {},
   "outputs": [],
   "source": [
    "df_top_filter = df_chosen.copy()\n",
    "plotly_zone(df_top_filter)"
   ]
  },
  {
   "cell_type": "code",
   "execution_count": null,
   "metadata": {},
   "outputs": [],
   "source": [
    "bcr = base_calling_random(df_top_filter)\n",
    "plotly_basecalling(*bcr)"
   ]
  },
  {
   "cell_type": "code",
   "execution_count": null,
   "metadata": {},
   "outputs": [],
   "source": [
    "df_ngs_5p = pd.read_excel('/Users/xyuan/Studio/tools/NGS_24129_5p.xlsx')\n",
    "df_ngs_3p = pd.read_excel('/Users/xyuan/Studio/tools/NGS_24129_3p.xlsx')\n",
    "df_ngs_5p.shape, df_ngs_3p.shape"
   ]
  },
  {
   "cell_type": "code",
   "execution_count": null,
   "metadata": {},
   "outputs": [],
   "source": [
    "df_ut_24k = df36[df36.Mass>23000]\n",
    "df_uc_24k = df_uc_b2[df_uc_b2.Mass>23000]\n",
    "plotly_zone(df_ut_24k, y='Vol')\n",
    "plotly_zone(df_uc_24k, y='Vol')"
   ]
  },
  {
   "cell_type": "code",
   "execution_count": null,
   "metadata": {},
   "outputs": [],
   "source": [
    "df_glu_5p = pd.read_excel('/Users/xyuan/Studio/tools/glu_24203_5p_6mG.xlsx')\n",
    "df_glu_3p = pd.read_excel('/Users/xyuan/Studio/tools/glu_24203_3p_6mG.xlsx')\n",
    "df_glu_5p_217 = pd.read_excel('/Users/xyuan/Studio/tools/glu_24217_5p_6mG.xlsx')\n",
    "df_glu_3p_217 = pd.read_excel('/Users/xyuan/Studio/tools/glu_24217_3p_6mG.xlsx')\n",
    "dft = df_glu_5p.copy()\n",
    "dft.Mass -= M\n",
    "df_glu_5p3p = pd.concat([df_glu_5p, df_glu_3p, df_glu_5p_217, df_glu_3p_217, dft]).reset_index()\n",
    "\n",
    "df_glu_5p_mix = pd.concat([df_glu_5p, df_glu_5p_217, dft]).reset_index()"
   ]
  },
  {
   "cell_type": "code",
   "execution_count": null,
   "metadata": {},
   "outputs": [],
   "source": [
    "# dfm_5p = match_dfs(df_glu_5p, df_merge_utuc)\n",
    "# dfm_3p = match_dfs(df_glu_3p, df_merge_utuc)\n",
    "# plotly_zones(dfm_5p, dfm_3p)\n",
    "\n",
    "dfm_ut = match_dfs(df_glu_5p, df3)\n",
    "# dfm_ut.RT = 2\n",
    "dfm_uc = match_dfs(df_glu_5p, df_uc_b2)\n",
    "# dfm_uc.RT = 1\n",
    "plotly_zones(dfm_uc, dfm_ut, names=['UC', 'UT'])\n",
    "plotly_zone(dfm_uc)\n",
    "dfm_ut.shape[0], dfm_uc.shape[0]"
   ]
  },
  {
   "cell_type": "code",
   "execution_count": null,
   "metadata": {},
   "outputs": [],
   "source": [
    "dfm_merge = pd.concat([dfm_uc, dfm_ut]).reset_index()\n",
    "bcr = base_calling_random(dfm_merge)\n",
    "plotly_basecalling(dfm_merge, bcr[1])"
   ]
  },
  {
   "cell_type": "code",
   "execution_count": null,
   "metadata": {},
   "outputs": [],
   "source": [
    "dft_uc = dfm_uc[dfm_uc.Mass<5000].copy()\n",
    "dft_ut = dfm_ut[dfm_ut.Mass<5000].copy()\n",
    "plotly_zones(dft_uc, dft_ut, names=['UC', 'UT'])\n",
    "\n",
    "dfm_merge = pd.concat([dft_uc, dft_ut]).reset_index()\n",
    "bcr = base_calling_random(dfm_merge)\n",
    "plotly_basecalling(dfm_merge, bcr[1])"
   ]
  },
  {
   "cell_type": "code",
   "execution_count": null,
   "metadata": {},
   "outputs": [],
   "source": [
    "# dfm_merge = pd.concat([dfm_uc, dfm_ut]).reset_index()\n",
    "bcr = base_calling_random(dfm_uc)\n",
    "plotly_basecalling(dfm_uc, bcr[1])\n",
    "bcr = base_calling_random(dfm_ut)\n",
    "plotly_basecalling(dfm_ut, bcr[1])"
   ]
  },
  {
   "cell_type": "code",
   "execution_count": null,
   "metadata": {},
   "outputs": [],
   "source": [
    "masses = [24189.23, 24203.24, 24217.27, 24231.25]"
   ]
  },
  {
   "cell_type": "code",
   "execution_count": null,
   "metadata": {},
   "outputs": [],
   "source": [
    "ngs_5p_m1 = df_ngs_5p.Mass + M\n",
    "ngs_5p_m1d2 = ngs_5p_m1 + 2 * 2\n",
    "ngs_5p_m2d2 = ngs_5p_m1d2 + M\n",
    "ngs_5p_m3d2 = ngs_5p_m2d2 + M\n",
    "ngs_5p_m4d2 = ngs_5p_m3d2 + M\n",
    "\n",
    "ngs_3p_m1 = df_ngs_3p.Mass + M\n",
    "ngs_3p_m2 = ngs_3p_m1 + M\n",
    "ngs_3p_m3 = ngs_3p_m2 + M\n",
    "ngs_3p_m3d2 = ngs_3p_m3 + 2 * 2\n",
    "ngs_3p_m4d2 = ngs_3p_m3d2 + M"
   ]
  },
  {
   "cell_type": "code",
   "execution_count": null,
   "metadata": {},
   "outputs": [],
   "source": [
    "# extra M at the end \n",
    "ngs_5p_m5d2 = ngs_5p_m4d2 + M\n",
    "\n",
    "ngs_3p_m4 = ngs_3p_m3 + M"
   ]
  },
  {
   "cell_type": "code",
   "execution_count": null,
   "metadata": {},
   "outputs": [],
   "source": [
    "# extra M at the 2nd\n",
    "ngs_5p_m2 = ngs_5p_m1 + M\n",
    "ngs_5p_m3 = ngs_5p_m1 + M\n",
    "\n",
    "ngs_5p_m6d2 = ngs_5p_m5d2 + M\n",
    "ngs_5p_m7d2 = ngs_5p_m6d2 + M\n",
    "ngs_5p_m6d1 = ngs_5p_m6d2 - 2\n",
    "ngs_5p_m7d1 = ngs_5p_m7d2 - 2\n",
    "ngs_5p_m6 = ngs_5p_m6d1 - 2\n",
    "ngs_5p_m7 = ngs_5p_m7d1 - 2\n",
    "\n",
    "ngs_3p_m5 = ngs_3p_m4 + M\n",
    "ngs_3p_m6 = ngs_3p_m5 + M"
   ]
  },
  {
   "cell_type": "code",
   "execution_count": null,
   "metadata": {},
   "outputs": [],
   "source": [
    "def find_exist_ladder_dots(df, series):\n",
    "    df_ladder = pd.DataFrame()\n",
    "    df_ladder['Mass'] = series\n",
    "    df_found = match_dfs(df_ladder, df)\n",
    "    return df_found"
   ]
  },
  {
   "cell_type": "code",
   "execution_count": null,
   "metadata": {},
   "outputs": [],
   "source": [
    "# ngs_5p_list = [ngs_5p_m1, ngs_5p_m1d2, ngs_5p_m2d2, ngs_5p_m3d2, ngs_5p_m4d2, ngs_5p_m5d2, ngs_5p_m6d2, ngs_5p_m7d2]\n",
    "ngs_5p_list = [df_ngs_5p.Mass, ngs_5p_m1, ngs_5p_m1d2, ngs_5p_m2d2, ngs_5p_m3d2, ngs_5p_m4d2, ngs_5p_m5d2]\n",
    "df_matched_5p_s3_list = list()\n",
    "df_matched_5p_s6_list = list()\n",
    "for ngs in ngs_5p_list:\n",
    "    df_ngs = find_exist_ladder_dots(df3, ngs)\n",
    "    df_matched_5p_s3_list.append(df_ngs)\n",
    "    df_ngs = find_exist_ladder_dots(df6, ngs)\n",
    "    df_matched_5p_s6_list.append(df_ngs)\n",
    "\n",
    "ngs_3p_list = [df_ngs_3p.Mass, ngs_3p_m1, ngs_3p_m2, ngs_3p_m3, ngs_3p_m3d2, ngs_3p_m4d2, ngs_3p_m4]\n",
    "df_matched_3p_s3_list = list()\n",
    "df_matched_3p_s6_list = list()\n",
    "for ngs in ngs_3p_list:\n",
    "    df_ngs = find_exist_ladder_dots(df3, ngs)\n",
    "    df_matched_3p_s3_list.append(df_ngs)\n",
    "    df_ngs = find_exist_ladder_dots(df6, ngs)\n",
    "    df_matched_3p_s6_list.append(df_ngs)"
   ]
  },
  {
   "cell_type": "code",
   "execution_count": null,
   "metadata": {},
   "outputs": [],
   "source": [
    "plotly_zone(df_matched_3p_s3)\n",
    "# plotly_zones(df_matched_3p_s3, df_matched_5p_s3_list[4])"
   ]
  },
  {
   "cell_type": "code",
   "execution_count": null,
   "metadata": {},
   "outputs": [],
   "source": [
    "\n",
    "plotly_zones(df_matched_5p_s3, df_matched_5p_s3_list[-1])\n",
    "plotly_zone(df_matched_5p_s3_list[0])\n",
    "\n",
    "# plotly_zones(df_matched_3p_s6, df_matched_3p_s6_list[-3])"
   ]
  },
  {
   "cell_type": "code",
   "execution_count": null,
   "metadata": {},
   "outputs": [],
   "source": [
    "\n",
    "plotly_zones(df_matched_5p_s3, df_matched_5p_s3_list[-2])\n",
    "plotly_zones(df_matched_5p_s6, df_matched_5p_s6_list[-2])"
   ]
  },
  {
   "cell_type": "code",
   "execution_count": null,
   "metadata": {},
   "outputs": [],
   "source": [
    "df_matched_5p_s3 = pd.concat(df_matched_5p_s3_list).drop_duplicates()\n",
    "df_matched_5p_s6 = pd.concat(df_matched_5p_s6_list).drop_duplicates()\n",
    "# plotly_zone(df_matched_5p_s3)\n",
    "# plotly_zone(df_matched_5p_s6)\n",
    "plotly_zones(df_matched_5p_s3, df_matched_5p_s6)"
   ]
  },
  {
   "cell_type": "code",
   "execution_count": null,
   "metadata": {},
   "outputs": [],
   "source": [
    "df_matched_3p_s3 = pd.concat(df_matched_3p_s3_list).drop_duplicates()\n",
    "df_matched_3p_s6 = pd.concat(df_matched_3p_s6_list).drop_duplicates()\n",
    "# plotly_zone(df_matched_5p_s3)\n",
    "# plotly_zone(df_matched_5p_s6)\n",
    "plotly_zones(df_matched_3p_s3, df_matched_3p_s6)"
   ]
  },
  {
   "cell_type": "code",
   "execution_count": null,
   "metadata": {},
   "outputs": [],
   "source": [
    "plotly_zones(df_matched_5p_s3, df_matched_3p_s3)"
   ]
  },
  {
   "cell_type": "code",
   "execution_count": null,
   "metadata": {},
   "outputs": [],
   "source": [
    "plotly_zones(df_matched_5p_s6, df_matched_3p_s6)"
   ]
  },
  {
   "cell_type": "code",
   "execution_count": null,
   "metadata": {},
   "outputs": [],
   "source": [
    "plotly_zone(df_matched_3p_s3)"
   ]
  },
  {
   "cell_type": "code",
   "execution_count": null,
   "metadata": {},
   "outputs": [],
   "source": [
    "plotly_zone(df_matched_3p_s6)"
   ]
  },
  {
   "cell_type": "code",
   "execution_count": null,
   "metadata": {},
   "outputs": [],
   "source": [
    "group = 'Group_24189'\n",
    "full_mass = masses[0]\n",
    "df_exam = df_matched_3p_s6\n",
    "bcr = base_calling_random(df_exam, silence=True)\n",
    "df_seats = process_mass_base_seats(df_exam, bcr[1], full_mass=full_mass, orientation=3)\n",
    "df_seats.to_excel('/Users/bryan/Documents/BioPharmaFinder/BaoLab/MassSum/FirstBatch/{}/seats_{}_3p.xlsx'.format(group, int(full_mass)))"
   ]
  },
  {
   "cell_type": "code",
   "execution_count": null,
   "metadata": {},
   "outputs": [],
   "source": []
  },
  {
   "cell_type": "code",
   "execution_count": null,
   "metadata": {},
   "outputs": [],
   "source": [
    "df_matched_3p_s3.to_excel('/Users/bryan/Documents/BioPharmaFinder/BaoLab/MassSum/FirstBatch/{}/{}_3p_s3.xlsx'.format(group, int(full_mass)))\n",
    "df_matched_3p_s6.to_excel('/Users/bryan/Documents/BioPharmaFinder/BaoLab/MassSum/FirstBatch/{}/{}_3p_s6.xlsx'.format(group, int(full_mass)))\n",
    "df_matched_5p_s3.to_excel('/Users/bryan/Documents/BioPharmaFinder/BaoLab/MassSum/FirstBatch/{}/{}_5p_s3.xlsx'.format(group, int(full_mass)))\n",
    "df_matched_5p_s6.to_excel('/Users/bryan/Documents/BioPharmaFinder/BaoLab/MassSum/FirstBatch/{}/{}_5p_s6.xlsx'.format(group, int(full_mass)))"
   ]
  },
  {
   "cell_type": "code",
   "execution_count": null,
   "metadata": {},
   "outputs": [],
   "source": [
    "df_draw = df_matched_5p_s6\n",
    "plt, fig = local_plot_zone(df_draw, y='RT')\n",
    "output(df_draw, plt, fig, 2, '5p_s6')"
   ]
  },
  {
   "cell_type": "code",
   "execution_count": null,
   "metadata": {},
   "outputs": [],
   "source": []
  },
  {
   "cell_type": "code",
   "execution_count": null,
   "metadata": {},
   "outputs": [],
   "source": [
    "def local_plot_zone(df, trend=False, order=1, y='RT'):\n",
    "    fig = plt.figure(figsize=(8.5, 4))\n",
    "    plt.xlabel('Monoisotopic Mass (Da)', fontname=\"Arial\", fontsize=15, color='black')\n",
    "    if y == 'RT':\n",
    "        plt.ylabel('Retention Time (min)', fontname=\"Arial\", fontsize=15, color='black')\n",
    "    else:\n",
    "        plt.ylabel('Intensity', fontname=\"Arial\", fontsize=15, color='black')\n",
    "    plt.xticks(fontname=\"Arial\", size=13, color='black')\n",
    "    plt.yticks(fontname=\"Arial\", size=13, color='black')\n",
    "    if trend:\n",
    "        sns.regplot(df.Mass, df[y], order=order)\n",
    "    else:\n",
    "        plt.scatter(df.Mass, df[y])\n",
    "    \n",
    "    return plt, fig\n",
    "\n",
    "def local_plot_zones(df3p, df5p, trend=False, y='RT'):\n",
    "    fig = plt.figure(figsize=(8.5, 4))\n",
    "    plt.xlabel('Monoisotopic Mass (Da)', fontname=\"Arial\", fontsize=15, color='black')\n",
    "    plt.ylabel('Retention Time (min)', fontname=\"Arial\", fontsize=15, color='black')\n",
    "    plt.xticks(fontname=\"Arial\", size=13, color='black')\n",
    "    plt.yticks(fontname=\"Arial\", size=13, color='black')\n",
    "    if trend:\n",
    "        sns.regplot(df3p.Mass, df3p[y])\n",
    "        sns.regplot(df5p.Mass, df5p[y], order=2)\n",
    "    else:\n",
    "        plt.scatter(df3p.Mass, df3p[y])\n",
    "        plt.scatter(df5p.Mass, df5p[y])\n",
    "    \n",
    "    return plt, fig"
   ]
  },
  {
   "cell_type": "code",
   "execution_count": null,
   "metadata": {},
   "outputs": [],
   "source": [
    "def output(df_ds, plt, fig, idx, svg_name):\n",
    "    fig.tight_layout()\n",
    "    plt.savefig(f'/Users/bryan/Documents/BioPharmaFinder/BaoLab/MassSum/FirstBatch/Group_24189/Fig{idx}_{svg_name}.svg', dpi=300, transparent=True)\n",
    "#     df_ds.to_excel(f'/Users/bryan/Documents/BioPharmaFinder/BaoLab/MassSum/FirstBatch/S{idx}_{svg_name}.xlsx')"
   ]
  },
  {
   "cell_type": "code",
   "execution_count": null,
   "metadata": {},
   "outputs": [],
   "source": [
    "dfa = load_data('/Users/xyuan/Studio/seq/data/samples/19.csv', csv_format=True)\n",
    "dfb = load_data('/Users/xyuan/Studio/seq/data/samples/201.csv', csv_format=True)"
   ]
  },
  {
   "cell_type": "code",
   "execution_count": null,
   "metadata": {},
   "outputs": [],
   "source": [
    "def merge_dfs(dfa, dfb, ppm=10):\n",
    "    \"\"\"merge two pandas DataFrames. For those common data points(close enough, \n",
    "    etc, within PPM 10), replace them with a new data point, which has the \n",
    "    average Mass, average RT, and sum Intensity.\n",
    "    \n",
    "    :param dfa, dfb: pandas DataFrames.\n",
    "    :return: pandas DataFrame, merged dfa and dfb.\n",
    "    \"\"\"\n",
    "    df_comm_a = match_dfs(dfb, dfa, ppm)\n",
    "    df_comm_b = match_dfs(dfa, dfb, ppm)\n",
    "\n",
    "    df_comm_ab = pd.concat([df_comm_a, df_comm_b]).reset_index()\n",
    "    df_comm_ab['RoundedMass'] = df_comm_ab.Mass.apply(np.round, args=(1,))\n",
    "    grouped = df_comm_ab.groupby('RoundedMass')\n",
    "    \n",
    "    df_result = pd.DataFrame({\n",
    "        'Mass': grouped.Mass.mean(), \n",
    "        'RT': grouped.RT.mean(), \n",
    "        'Vol': grouped.Vol.sum()}).reset_index(drop=True)\n",
    "    \n",
    "    df_only_a = dfa.drop(df_comm_a.index)\n",
    "    df_only_b = dfb.drop(df_comm_b.index)\n",
    "    df_return = pd.concat([df_only_a, df_only_b, df_result]).reset_index(drop=True)\n",
    "    \n",
    "    return df_return"
   ]
  },
  {
   "cell_type": "code",
   "execution_count": null,
   "metadata": {},
   "outputs": [],
   "source": [
    "df_res = merge_dfs(dfa, dfb)\n",
    "df_res.shape"
   ]
  },
  {
   "cell_type": "code",
   "execution_count": null,
   "metadata": {},
   "outputs": [],
   "source": [
    "df_comma = match_dfs(dfb, dfa)\n",
    "df_commb = match_dfs(dfa, dfb)\n",
    "\n",
    "df_onlya = dfa.drop(df_comma.index)\n",
    "df_onlyb = dfb.drop(df_commb.index)"
   ]
  },
  {
   "cell_type": "code",
   "execution_count": null,
   "metadata": {},
   "outputs": [],
   "source": [
    "df_commab = pd.concat([df_comma, df_commb]).reset_index()"
   ]
  },
  {
   "cell_type": "code",
   "execution_count": null,
   "metadata": {},
   "outputs": [],
   "source": [
    "df_commab['RoundedMass'] = np.round(df_commab['Mass'], 1)\n",
    "df_commab.sort_values('Mass').head()"
   ]
  },
  {
   "cell_type": "code",
   "execution_count": null,
   "metadata": {},
   "outputs": [],
   "source": [
    "df_grouped = df_commab.groupby('RoundedMass')"
   ]
  },
  {
   "cell_type": "code",
   "execution_count": null,
   "metadata": {},
   "outputs": [],
   "source": [
    "keys = [k for k, _ in df_grouped]"
   ]
  },
  {
   "cell_type": "code",
   "execution_count": null,
   "metadata": {},
   "outputs": [],
   "source": [
    "grouped_mass = df_grouped.Mass.mean()"
   ]
  },
  {
   "cell_type": "code",
   "execution_count": null,
   "metadata": {},
   "outputs": [],
   "source": [
    "grouped_rt = df_grouped.RT.mean()"
   ]
  },
  {
   "cell_type": "code",
   "execution_count": null,
   "metadata": {},
   "outputs": [],
   "source": [
    "grouped_vol = df_grouped.Vol.sum()"
   ]
  },
  {
   "cell_type": "code",
   "execution_count": null,
   "metadata": {},
   "outputs": [],
   "source": [
    "df_result = pd.DataFrame({'Mass': grouped_mass, 'RT': grouped_rt, 'Vol': grouped_vol})"
   ]
  },
  {
   "cell_type": "code",
   "execution_count": null,
   "metadata": {},
   "outputs": [],
   "source": [
    "df_result = df_result.reset_index(drop=True)"
   ]
  },
  {
   "cell_type": "code",
   "execution_count": null,
   "metadata": {},
   "outputs": [],
   "source": [
    "df_return = pd.concat([df_onlya, df_onlyb, df_result]).reset_index(drop=True)"
   ]
  },
  {
   "cell_type": "code",
   "execution_count": null,
   "metadata": {},
   "outputs": [],
   "source": [
    "plotly_zone(df_return)"
   ]
  },
  {
   "cell_type": "code",
   "execution_count": null,
   "metadata": {},
   "outputs": [],
   "source": [
    "df_return.shape"
   ]
  },
  {
   "cell_type": "code",
   "execution_count": null,
   "metadata": {},
   "outputs": [],
   "source": [
    "dfa.shape, dfb.shape, df_commab.shape"
   ]
  },
  {
   "cell_type": "code",
   "execution_count": null,
   "metadata": {},
   "outputs": [],
   "source": [
    "df_commab.Mass.apply(np.round, args=(1,))\n",
    "# np.round(df_commab['Mass'], 1)"
   ]
  },
  {
   "cell_type": "code",
   "execution_count": null,
   "metadata": {},
   "outputs": [],
   "source": []
  }
 ],
 "metadata": {
  "kernelspec": {
   "display_name": "Python 3",
   "language": "python",
   "name": "python3"
  },
  "language_info": {
   "codemirror_mode": {
    "name": "ipython",
    "version": 3
   },
   "file_extension": ".py",
   "mimetype": "text/x-python",
   "name": "python",
   "nbconvert_exporter": "python",
   "pygments_lexer": "ipython3",
   "version": "3.7.3"
  }
 },
 "nbformat": 4,
 "nbformat_minor": 4
}
