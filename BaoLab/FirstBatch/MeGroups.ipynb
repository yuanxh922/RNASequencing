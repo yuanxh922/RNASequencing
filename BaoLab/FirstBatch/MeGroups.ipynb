{
 "cells": [
  {
   "cell_type": "code",
   "execution_count": null,
   "id": "handy-allowance",
   "metadata": {},
   "outputs": [],
   "source": [
    "import pandas as pd\n",
    "import numpy as np\n",
    "import matplotlib\n",
    "import plotly.express as px"
   ]
  },
  {
   "cell_type": "code",
   "execution_count": null,
   "id": "permanent-grenada",
   "metadata": {},
   "outputs": [],
   "source": [
    "%run ../../modules/utils.ipynb\n",
    "%run ../../modules/cds.ipynb\n",
    "%run ../../modules/preprocessing.ipynb"
   ]
  },
  {
   "cell_type": "code",
   "execution_count": null,
   "id": "alone-stewart",
   "metadata": {},
   "outputs": [],
   "source": [
    "fmock = '/Users/xyuan/Documents/BioPharmaFinder/BaoLab/FirstBatch/Excels/S2to5combined_20ul_40min.xlsx'\n",
    "frsv = '/Users/xyuan/Documents/BioPharmaFinder/BaoLab/FirstBatch/Excels/S6to10combined_20ul_40min.xlsx'\n",
    "df_mock_ad = pd.read_excel(fmock)\n",
    "df_rsv_ad = pd.read_excel(frsv)\n",
    "df_mock_ad = thermo_df(df_mock_ad)\n",
    "df_rsv_ad = thermo_df(df_rsv_ad)\n",
    "df_mock_ad.shape, df_rsv_ad.shape"
   ]
  },
  {
   "cell_type": "code",
   "execution_count": null,
   "id": "fifth-fancy",
   "metadata": {},
   "outputs": [],
   "source": [
    "# bcr_base = base_calling_random(df_mock_ad)\n",
    "# bcr_2me = base_calling_random(df_mock_ad, methyl_double=True)\n",
    "bcr_base = base_calling_random(df_rsv_ad)\n",
    "bcr_2me = base_calling_random(df_rsv_ad, methyl_double=True)\n",
    "print(bcr_base[0].shape, bcr_2me[0].shape)\n",
    "# plotly_basecalling(*bcr, annotate=False)"
   ]
  },
  {
   "cell_type": "code",
   "execution_count": null,
   "id": "turned-flush",
   "metadata": {},
   "outputs": [],
   "source": [
    "df_comm = match_dfs(bcr_2me[0], bcr_base[0])\n",
    "df_comm.shape"
   ]
  },
  {
   "cell_type": "code",
   "execution_count": null,
   "id": "comprehensive-modern",
   "metadata": {},
   "outputs": [],
   "source": [
    "graph = generate_basecalling_graphs(df_rsv_ad)\n",
    "# graph = generate_basecalling_graphs(df_mock_ad)\n",
    "len(graph.nodes())"
   ]
  },
  {
   "cell_type": "code",
   "execution_count": null,
   "id": "completed-domestic",
   "metadata": {},
   "outputs": [],
   "source": [
    "G = nx.DiGraph()\n",
    "G_core = nx.DiGraph()\n",
    "idx = 0\n",
    "for node in graph.nodes():\n",
    "#     idx += 1\n",
    "#     if idx > 10:\n",
    "#         break\n",
    "    edge_names = [graph[edge[0]][edge[1]]['name'] for edge in graph.out_edges(node)]\n",
    "    edge_names = set(edge_names)\n",
    "#     print(edge_names)\n",
    "    contains_A = {'A', 'a'}.issubset(edge_names)\n",
    "    contains_C = {'C', 'c'}.issubset(edge_names)\n",
    "    contains_G = {'G', 'g'}.issubset(edge_names)\n",
    "    contains_U = {'U', 'u'}.issubset(edge_names)\n",
    "    contains_D = {'U', 'D'}.issubset(edge_names)\n",
    "    if any([contains_A, contains_C, contains_G, contains_U, contains_D]):\n",
    "        G_core.add_node(node)\n",
    "        G.add_edges_from(graph.out_edges(node))\n",
    "        if node < 1500:\n",
    "            print(node, edge_names)\n",
    "len(G.nodes()), len(G_core.nodes())"
   ]
  },
  {
   "cell_type": "code",
   "execution_count": null,
   "id": "false-roberts",
   "metadata": {},
   "outputs": [],
   "source": [
    "masses_core = list(G_core.nodes())\n",
    "masses = list(graph.nodes())\n",
    "df_core = df_rsv_ad[df_rsv_ad.Mass.isin(masses_core)]\n",
    "df = df_rsv_ad[df_rsv_ad.Mass.isin(masses)]\n",
    "# df_tmp = df_mock_ad[df_mock_ad.Mass.isin(masses)]\n",
    "plotly_zones(df, df_core)\n",
    "# plotly_zone(df_core)\n",
    "df_core.shape, df.shape, bcr_base[0].shape"
   ]
  },
  {
   "cell_type": "code",
   "execution_count": null,
   "id": "designed-hostel",
   "metadata": {},
   "outputs": [],
   "source": [
    "\n",
    "def paired_ladders(df, G, G_start):\n",
    "    def direct_nodes(G, node):\n",
    "        edges = G.out_edges(node)\n",
    "        edges_names = [G[edge[0]][edge[1]]['name'] for edge in edges]\n",
    "        print(edges_names)\n",
    "        nodes = G.successors(node)\n",
    "        df_nodes = pd.DataFrame({'Mass': nodes})\n",
    "        df_a = match_dfs(df_nodes, df_nodes, shift=M)\n",
    "        df_b = match_dfs(df_nodes, df_nodes, shift=-1*M)\n",
    "        if any([df_a.empty, df_b.empty]):\n",
    "            return None\n",
    "        return (df_a.iloc[0].Mass, df_b.iloc[0].Mass)\n",
    "    \n",
    "    def next_nodes(G, nodes):\n",
    "        edges_a = G.out_edges(nodes[0])\n",
    "        edges_b = G.out_edges(nodes[1])\n",
    "        edges_a_names = [(edge[0], edge[1], G[edge[0]][edge[1]]['name']) for edge in edges_a]\n",
    "        edges_b_names = [(edge[0], edge[1], G[edge[0]][edge[1]]['name']) for edge in edges_b]\n",
    "        comm_name = set([x[2] for x in edges_a_names]) & set([x[2] for x in edges_b_names])\n",
    "        comm_name = comm_name.pop() if comm_name else None\n",
    "        if not comm_name:\n",
    "            return None\n",
    "        next_node_a = [x[1] for x in edges_a_names if x[2] == comm_name][0]\n",
    "        next_node_b = [x[1] for x in edges_b_names if x[2] == comm_name][0]\n",
    "        return (next_node_a, next_node_b)\n",
    "        \n",
    "    ladders = list()   \n",
    "    for node in G_start.nodes():\n",
    "        ladder_a = list()\n",
    "        ladder_b = list()\n",
    "        ladder_a.append(node)\n",
    "        ladder_b.append(node)\n",
    "        nodes = direct_nodes(G, node)\n",
    "        print(nodes)\n",
    "        while nodes:\n",
    "            ladder_a.append(nodes[0])\n",
    "            ladder_b.append(nodes[1])\n",
    "            nodes = next_nodes(G, nodes)\n",
    "            if nodes:\n",
    "                ladder_a.append(nodes[0])\n",
    "                ladder_b.append(nodes[1])\n",
    "        ladders.append((ladder_a, ladder_b))\n",
    "    return ladders\n",
    "\n",
    "ladder_pairs = paired_ladders(df, graph, G_core)\n",
    "len(ladder_pairs)"
   ]
  },
  {
   "cell_type": "code",
   "execution_count": null,
   "id": "located-recovery",
   "metadata": {},
   "outputs": [],
   "source": [
    "ladder_pairs.sort(key=lambda x: len(x[0]), reverse=True)\n",
    "def ladder_pair_df(df, ladder_pair):\n",
    "    df_a = df_rsv_ad[df_rsv_ad.Mass.isin(ladder_pair[0])]\n",
    "    df_b = df_rsv_ad[df_rsv_ad.Mass.isin(ladder_pair[1])]\n",
    "    return (df_a, df_b)\n",
    "#     plotly_multi_zones([df, df_a, df_b])\n",
    "    print('ladder length: ', len(ladder_pair[0]))\n"
   ]
  },
  {
   "cell_type": "code",
   "execution_count": null,
   "id": "derived-validation",
   "metadata": {},
   "outputs": [],
   "source": [
    "pairs = [x for x in ladder_pairs if len(x[0])>=13]"
   ]
  },
  {
   "cell_type": "code",
   "execution_count": null,
   "id": "given-lloyd",
   "metadata": {},
   "outputs": [],
   "source": [
    "pairs"
   ]
  },
  {
   "cell_type": "code",
   "execution_count": null,
   "id": "excessive-photograph",
   "metadata": {},
   "outputs": [],
   "source": [
    "pairs[0]"
   ]
  },
  {
   "cell_type": "code",
   "execution_count": null,
   "id": "photographic-torture",
   "metadata": {},
   "outputs": [],
   "source": [
    "df_pair = ladder_pair_df(df, ladder_pairs[0])\n",
    "# plotly_zones(*df_pair)\n",
    "# bcr = base_calling_random(df_pair[0])\n",
    "bcr = base_calling_random(pd.concat(df_pair))\n",
    "plotly_basecalling(*bcr)"
   ]
  },
  {
   "cell_type": "code",
   "execution_count": null,
   "id": "constitutional-stewart",
   "metadata": {},
   "outputs": [],
   "source": []
  },
  {
   "cell_type": "code",
   "execution_count": null,
   "id": "extreme-section",
   "metadata": {},
   "outputs": [],
   "source": [
    "def generate_basecalling_graphs(df):\n",
    "    \"\"\" given dots, doing basecalling and return a graph contains the connections\n",
    "    \"\"\"\n",
    "    def create_graph(bcr):\n",
    "        G = nx.DiGraph()\n",
    "        for x in bcr[1]:\n",
    "            l = min(x[0], x[1])\n",
    "            h = max(x[0], x[1])\n",
    "            G.add_edge(l, h, name=x[2])\n",
    "\n",
    "        return G\n",
    "    \n",
    "    bcr = base_calling_random(df)\n",
    "    graphs = create_graph(bcr)\n",
    "    \n",
    "    return graphs"
   ]
  },
  {
   "cell_type": "code",
   "execution_count": null,
   "id": "liable-heavy",
   "metadata": {},
   "outputs": [],
   "source": [
    "def base_calling_random(df, silence=False, methyl=False, methyl_double=False):\n",
    "    df = df.sort_index()\n",
    "    mass_x = np.array(df.Mass)\n",
    "    mass_y = np.array(df.Mass)\n",
    "    if not silence:\n",
    "        print(\"mass_x {} mass_y {}\".format(mass_x.shape, mass_y.shape))\n",
    "\n",
    "#     base_dict = {'C': 305.0413, 'A': 329.0525, 'G': 345.0474, 'U': 306.0253, 'g': 359.0631, 'D': 308.041, 'c': 319.0569, 'u': 320.041, 'G^': 373.0787, 'a': 343.0682, 'y': 212.0086, 'Y': 570.1475, 'P': 557.2251, 'x': 688.1156, 'z': 625.0844, 'I': 330.03654, 'O': 344.052}\n",
    "#     base_dict = {'C': 305.0413, 'A': 329.0525, 'G': 345.0474, 'U': 306.0253, 'g': 359.0631, 'D': 308.041, 'c': 319.0569, 'u': 320.041, 'a': 343.0682, 'm22C': 333.0625} #, 'y': 212.0086, 'mnm5s2U': 365.04466, 'X': 449.08299, 's4U': 322.00246, 'ms2io6A': 459.09776\n",
    "#     base_dict = {'g': 359.0631, 'u': 320.041, 'mnm5s2U': 365.04466, 'X': 449.08299, 's4U': 322.00246, 'ms2io6A': 459.09776} #387.1273+61.9557\n",
    "    base_dict = {'C': 305.0413, 'A': 329.0525, 'G': 345.0474, 'U': 306.0253, \n",
    "                 'g': 359.0631, 'c': 319.0569, 'u': 320.041, 'a': 343.0682, 'D': 308.041}\n",
    "    if methyl:\n",
    "        base_dict = {'Me': 14.0106} #, '2Me': 28.0212\n",
    "    if methyl_double:\n",
    "        base_dict = {'f5C': 333.0362, 'A': 357.0737, 'm22G': 373.0787, 'm5Um': 334.0566}\n",
    "    pairs = list()\n",
    "    idxs = list()\n",
    "    PPM = 10\n",
    "    for k in base_dict.keys():\n",
    "        base_mass = base_dict.get(k)\n",
    "        ppm_matrix = np.abs((mass_x[:, np.newaxis] - mass_y - base_mass) * 1E6 / (mass_y + base_mass))\n",
    "        ppm_df = pd.DataFrame(ppm_matrix)\n",
    "        crosstalk = ppm_df[ppm_df < PPM]\n",
    "        idx_pairs = list(crosstalk[crosstalk.notnull()].stack().index)\n",
    "        if idx_pairs:\n",
    "            idx_pairs = [(*pair, k) for pair in idx_pairs] # append base name into idx_pairs\n",
    "            pairs.extend(idx_pairs)\n",
    "        df3_idxs = [pair[0] for pair in idx_pairs]\n",
    "        df5_idxs = [pair[1] for pair in idx_pairs]\n",
    "        df3_idxs = list(set(df3_idxs))\n",
    "        df5_idxs = list(set(df5_idxs))\n",
    "#         if not silence:\n",
    "#             print(\"df3_idxs {} df5_idxs {}\".format(len(df3_idxs), len(df5_idxs)))\n",
    "        if df3_idxs:\n",
    "            idxs.extend(df3_idxs)\n",
    "        if df5_idxs:\n",
    "            idxs.extend(df5_idxs)\n",
    "    \n",
    "    mass_pairs = [(df.Mass.iloc[p[0]], df.Mass.iloc[p[1]], p[2]) for p in pairs]\n",
    "    mass_pairs = [mp for mp in mass_pairs if mp[0] != mp[1]] # remove item which contains duplicated values\n",
    "    idxs = list(set(idxs))\n",
    "#     plt.figure(figsize=(16, 12))\n",
    "    df_base_calling = df.iloc[idxs]\n",
    "    return df_base_calling, mass_pairs"
   ]
  },
  {
   "cell_type": "code",
   "execution_count": null,
   "id": "dress-understanding",
   "metadata": {},
   "outputs": [],
   "source": []
  }
 ],
 "metadata": {
  "kernelspec": {
   "display_name": "Python 3",
   "language": "python",
   "name": "python3"
  },
  "language_info": {
   "codemirror_mode": {
    "name": "ipython",
    "version": 3
   },
   "file_extension": ".py",
   "mimetype": "text/x-python",
   "name": "python",
   "nbconvert_exporter": "python",
   "pygments_lexer": "ipython3",
   "version": "3.7.3"
  }
 },
 "nbformat": 4,
 "nbformat_minor": 5
}
