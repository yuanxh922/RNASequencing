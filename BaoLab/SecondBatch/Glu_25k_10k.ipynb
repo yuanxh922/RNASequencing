{
 "cells": [
  {
   "cell_type": "code",
   "execution_count": null,
   "metadata": {},
   "outputs": [],
   "source": [
    "import pandas as pd\n",
    "import numpy as np\n",
    "import matplotlib\n",
    "import plotly.express as px"
   ]
  },
  {
   "cell_type": "code",
   "execution_count": null,
   "metadata": {},
   "outputs": [],
   "source": [
    "%run ../../modules/utils.ipynb\n",
    "%run ../../modules/cds.ipynb\n",
    "%run ../../modules/preprocessing.ipynb"
   ]
  },
  {
   "cell_type": "code",
   "execution_count": null,
   "metadata": {},
   "outputs": [],
   "source": [
    "df_mock = pd.read_excel('/Users/bryan/Documents/BioPharmaFinder/BaoLab/SecondBatch/OE240_UTMB_Mock_5ul_9min_IPM_LP_420to2k_21Dec2020.xlsx')\n",
    "df_rsv = pd.read_excel('/Users/bryan/Documents/BioPharmaFinder/BaoLab/SecondBatch/OE240_UTMB_RSV_5ul_9min_IPM_LP_420to2k_21Dec2020.xlsx')\n",
    "df_mock.info(), df_rsv.info()"
   ]
  },
  {
   "cell_type": "code",
   "execution_count": null,
   "metadata": {},
   "outputs": [],
   "source": [
    "df_mock = thermo_df(df_mock)\n",
    "df_rsv = thermo_df(df_rsv)"
   ]
  },
  {
   "cell_type": "code",
   "execution_count": null,
   "metadata": {},
   "outputs": [],
   "source": [
    "df_mock_25k = df_mock[df_mock.Mass > 20000]\n",
    "df_rsv_25k = df_rsv[df_rsv.Mass > 20000]"
   ]
  },
  {
   "cell_type": "markdown",
   "metadata": {},
   "source": [
    "# 25k"
   ]
  },
  {
   "cell_type": "code",
   "execution_count": null,
   "metadata": {},
   "outputs": [],
   "source": [
    "df_mock_25k.to_excel('/Users/bryan/Documents/BioPharmaFinder/BaoLab/SecondBatch/Analysis/mock_25k.xlsx')\n",
    "df_rsv_25k.to_excel('/Users/bryan/Documents/BioPharmaFinder/BaoLab/SecondBatch/Analysis/rsv_25k.xlsx')"
   ]
  },
  {
   "cell_type": "code",
   "execution_count": null,
   "metadata": {},
   "outputs": [],
   "source": [
    "plotly_zones(df_mock_25k, df_rsv_25k)"
   ]
  },
  {
   "cell_type": "code",
   "execution_count": null,
   "metadata": {},
   "outputs": [],
   "source": []
  },
  {
   "cell_type": "markdown",
   "metadata": {},
   "source": [
    "# 10k"
   ]
  },
  {
   "cell_type": "code",
   "execution_count": null,
   "metadata": {},
   "outputs": [],
   "source": [
    "df_mock_12k = df_mock[(df_mock.Mass > 12000) & (df_mock.Mass < 14000)]\n",
    "df_rsv_12k = df_rsv[(df_rsv.Mass > 12000) & (df_rsv.Mass < 14000)]"
   ]
  },
  {
   "cell_type": "code",
   "execution_count": null,
   "metadata": {},
   "outputs": [],
   "source": [
    "df_mock_10k = df_mock[(df_mock.Mass > 8000) & (df_mock.Mass < 11000)]\n",
    "df_rsv_10k = df_rsv[(df_rsv.Mass > 8000) & (df_rsv.Mass < 11000)]"
   ]
  },
  {
   "cell_type": "code",
   "execution_count": null,
   "metadata": {},
   "outputs": [],
   "source": [
    "plotly_zones(df_mock_10k, df_rsv_10k, y='RT')"
   ]
  },
  {
   "cell_type": "code",
   "execution_count": null,
   "metadata": {},
   "outputs": [],
   "source": [
    "plotly_zones(df_mock_10k, df_rsv_10k, y='Vol')"
   ]
  },
  {
   "cell_type": "code",
   "execution_count": null,
   "metadata": {},
   "outputs": [],
   "source": []
  }
 ],
 "metadata": {
  "kernelspec": {
   "display_name": "Python 3",
   "language": "python",
   "name": "python3"
  },
  "language_info": {
   "codemirror_mode": {
    "name": "ipython",
    "version": 3
   },
   "file_extension": ".py",
   "mimetype": "text/x-python",
   "name": "python",
   "nbconvert_exporter": "python",
   "pygments_lexer": "ipython3",
   "version": "3.7.3"
  }
 },
 "nbformat": 4,
 "nbformat_minor": 4
}
