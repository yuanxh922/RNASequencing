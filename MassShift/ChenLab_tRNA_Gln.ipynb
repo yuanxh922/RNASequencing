{
 "cells": [
  {
   "cell_type": "code",
   "execution_count": null,
   "id": "needed-circuit",
   "metadata": {},
   "outputs": [],
   "source": [
    "import pandas as pd"
   ]
  },
  {
   "cell_type": "code",
   "execution_count": null,
   "id": "ongoing-picking",
   "metadata": {},
   "outputs": [],
   "source": [
    "%run ../modules/utils.ipynb\n",
    "%run ../modules/cds.ipynb\n",
    "%run ../modules/preprocessing.ipynb"
   ]
  },
  {
   "cell_type": "code",
   "execution_count": null,
   "id": "thick-workstation",
   "metadata": {},
   "outputs": [],
   "source": [
    "gln_path = '/Users/xyuan/Documents/ChenLab/10Jun2021/intact/1_A_Gln.xlsx'\n",
    "df_intact = load_data(gln_path)\n",
    "df_intact = df_intact[df_intact.Mass>23000].copy()\n",
    "gln_path = '/Users/xyuan/Documents/ChenLab/10Jun2021/intact/2_A_Gln_A.xlsx'\n",
    "df_intact_alkb = load_data(gln_path)\n",
    "df_intact_alkb = df_intact_alkb[(df_intact_alkb.Mass>23000)&(df_intact_alkb.Mass<24900)].copy()"
   ]
  },
  {
   "cell_type": "code",
   "execution_count": null,
   "id": "about-accreditation",
   "metadata": {},
   "outputs": [],
   "source": [
    "gln_path = '/Users/xyuan/Documents/ChenLab/10Jun2021/intact/7_B_Gln.xlsx'\n",
    "df_intact = load_data(gln_path)\n",
    "df_intact = df_intact[df_intact.Mass>23000].copy()\n",
    "gln_path = '/Users/xyuan/Documents/ChenLab/10Jun2021/intact/8_B_Gln_A.xlsx'\n",
    "df_intact_alkb = load_data(gln_path)\n",
    "df_intact_alkb = df_intact_alkb[df_intact_alkb.Mass>23000].copy()"
   ]
  },
  {
   "cell_type": "code",
   "execution_count": null,
   "id": "cardiac-chancellor",
   "metadata": {},
   "outputs": [],
   "source": [
    "plotly_zones(df_intact, df_intact_alkb)"
   ]
  },
  {
   "cell_type": "code",
   "execution_count": null,
   "id": "lesbian-drinking",
   "metadata": {},
   "outputs": [],
   "source": [
    "gln_path = '/Users/xyuan/Documents/ChenLab/10Jun2021/degraded/13_Gln.xlsx'\n",
    "df_gln1 = load_data(gln_path)\n",
    "gln_path = '/Users/xyuan/Documents/ChenLab/10Jun2021/degraded/19_B_Gln.xlsx'\n",
    "df_gln2 = load_data(gln_path)\n",
    "gln_path = '/Users/xyuan/Documents/ChenLab/10Jun2021/degraded/DrChen_tRNA_A_Gln_FA_13.xlsx'\n",
    "df_gln3 = load_data(gln_path)\n",
    "gln_path = '/Users/xyuan/Documents/ChenLab/10Jun2021/degraded/DrChen_tRNA_B_Gln_FA_19.xlsx'\n",
    "df_gln4 = load_data(gln_path)"
   ]
  },
  {
   "cell_type": "code",
   "execution_count": null,
   "id": "secure-samuel",
   "metadata": {},
   "outputs": [],
   "source": [
    "gln_path = '/Users/xyuan/Documents/ChenLab/10Jun2021/degraded/DrChen_tRNA_B_Gln_A_FA_20.xlsx'\n",
    "df_gln4_alkb = load_data(gln_path)\n",
    "gln_path = '/Users/xyuan/Documents/ChenLab/10Jun2021/degraded/14_Gln_A.xlsx'\n",
    "df_gln1_alkb = load_data(gln_path)"
   ]
  },
  {
   "cell_type": "code",
   "execution_count": null,
   "id": "ecological-seven",
   "metadata": {},
   "outputs": [],
   "source": [
    "df_gln1_top = local_top(df_gln1)\n",
    "df_gln1_alkb_top = local_top(df_gln1_alkb)\n",
    "df_gln1_top.shape, df_gln1_alkb_top.shape"
   ]
  },
  {
   "cell_type": "code",
   "execution_count": null,
   "id": "duplicate-wells",
   "metadata": {},
   "outputs": [],
   "source": [
    "df_gln4_top = local_top(df_gln4)\n",
    "df_gln4_alkb_top = local_top(df_gln4_alkb)\n",
    "df_gln4_top.shape, df_gln4_alkb_top.shape"
   ]
  },
  {
   "cell_type": "code",
   "execution_count": null,
   "id": "chinese-inflation",
   "metadata": {},
   "outputs": [],
   "source": [
    "# plotly_zones(df_gln4_top, df_gln4_alkb_top)\n",
    "# plotly_zones(df_gln1_top, df_gln1_alkb_top)\n",
    "plotly_zone(df_gln1_alkb_top)"
   ]
  },
  {
   "cell_type": "code",
   "execution_count": null,
   "id": "vulnerable-italian",
   "metadata": {},
   "outputs": [],
   "source": [
    "bcr = base_calling_random(df_gln1_alkb_top, base_only=False)\n",
    "plotly_basecalling(*bcr)"
   ]
  },
  {
   "cell_type": "code",
   "execution_count": null,
   "id": "electronic-montreal",
   "metadata": {},
   "outputs": [],
   "source": [
    "# plotly_zone(df_gln1)\n",
    "# plotly_zone(df_gln2)\n",
    "# plotly_zone(df_gln3)\n",
    "plotly_zone(df_intact, y='Vol')\n",
    "plotly_zone(df_intact_alkb, y='Vol')\n",
    "df_intact.shape, df_intact_alkb.shape"
   ]
  },
  {
   "cell_type": "code",
   "execution_count": null,
   "id": "numerous-pursuit",
   "metadata": {},
   "outputs": [],
   "source": [
    "import multiprocessing\n",
    "from collections import namedtuple\n",
    "ShiftHit = namedtuple('ShiftHit', 'shift hit')\n",
    "\n",
    "def func(df_s1, df_s2, shift):\n",
    "    dfm = match_dfs(df_s1, df_s2, shift=shift)\n",
    "    sh = ShiftHit(shift=shift, hit=dfm.shape[0])\n",
    "    return sh\n",
    "\n",
    "PROCESSES = 16\n",
    "# params = [(df_intact_alkb, df_intact, shift) for shift in np.arange(1, 300, 1)]\n",
    "# params = [(df_gln1_alkb, df_gln1, shift) for shift in np.arange(1, 400, 1)]\n",
    "# params = [(df_gln1_alkb_top, df_gln1_top, shift) for shift in np.arange(1, 400, 1)]\n",
    "params = [(df_gln4_alkb, df_gln4, shift) for shift in np.arange(1, 400, 1)]\n",
    "# params = [(df_gln4_alkb_top, df_gln4_top, shift) for shift in np.arange(1, 400, 1)]\n",
    "with multiprocessing.Pool(PROCESSES) as pool:\n",
    "    shift_hits = pool.starmap(func, params)\n",
    "\n",
    "df_shift_hits = pd.DataFrame(shift_hits)"
   ]
  },
  {
   "cell_type": "code",
   "execution_count": null,
   "id": "engaged-mileage",
   "metadata": {},
   "outputs": [],
   "source": [
    "fig = px.scatter(df_shift_hits, x='shift', y='hit', labels={'shift': 'Mass Shift', 'hit': 'Hit Count'})\n",
    "fig.show()"
   ]
  },
  {
   "cell_type": "code",
   "execution_count": null,
   "id": "skilled-layer",
   "metadata": {},
   "outputs": [],
   "source": [
    "# df_sh_glu4 = df_shift_hits.copy()\n",
    "# df_sh_glu1 = df_shift_hits.copy()\n",
    "# df_sh_intact78 = df_shift_hits.copy()\n",
    "# df_sh_glu4_top = df_shift_hits.copy()\n",
    "df_sh_glu1_top = df_shift_hits.copy()"
   ]
  },
  {
   "cell_type": "code",
   "execution_count": null,
   "id": "innocent-reservation",
   "metadata": {},
   "outputs": [],
   "source": [
    "df_shift_hits.sort_values('hit', ascending=False).reset_index(drop=True).iloc[:10]"
   ]
  },
  {
   "cell_type": "code",
   "execution_count": null,
   "id": "tutorial-prototype",
   "metadata": {},
   "outputs": [],
   "source": [
    "df_gln1.shape, df_gln2.shape, df_gln3.shape, df_gln4.shape"
   ]
  },
  {
   "cell_type": "code",
   "execution_count": null,
   "id": "documented-plaza",
   "metadata": {},
   "outputs": [],
   "source": [
    "# df_gln_12 = match_dfs(df_gln1, df_gln2)\n",
    "df_gln_34 = match_dfs(df_gln3, df_gln4)\n",
    "# df_gln_134 = match_dfs(df_gln1, df_gln_34)\n",
    "# df_gln_24 = match_dfs(df_gln2, df_gln4)"
   ]
  },
  {
   "cell_type": "code",
   "execution_count": null,
   "id": "productive-genesis",
   "metadata": {},
   "outputs": [],
   "source": [
    "df_gln_34.shape"
   ]
  },
  {
   "cell_type": "code",
   "execution_count": null,
   "id": "miniature-cancer",
   "metadata": {},
   "outputs": [],
   "source": [
    "df_gln_12.shape, df_gln_34.shape"
   ]
  },
  {
   "cell_type": "code",
   "execution_count": null,
   "id": "compatible-ozone",
   "metadata": {},
   "outputs": [],
   "source": [
    "# plotly_zone(df_gln_24)\n",
    "plotly_zone(df_gln_34)\n",
    "# plotly_zone(df_gln_134)"
   ]
  },
  {
   "cell_type": "code",
   "execution_count": null,
   "id": "white-democracy",
   "metadata": {},
   "outputs": [],
   "source": [
    "df_sample = df_gln_34[df_gln_34.Mass>1500]\n",
    "df_sample.shape"
   ]
  },
  {
   "cell_type": "code",
   "execution_count": null,
   "id": "alpha-tracy",
   "metadata": {},
   "outputs": [],
   "source": [
    "import multiprocessing\n",
    "from collections import namedtuple\n",
    "ShiftHit = namedtuple('ShiftHit', 'shift hit')\n",
    "\n",
    "def func(df_sample, shift):\n",
    "    dfm = match_dfs(df_sample, df_sample, shift=shift)\n",
    "    sh = ShiftHit(shift=shift, hit=dfm.shape[0])\n",
    "    return sh\n",
    "\n",
    "PROCESSES = 16\n",
    "params = [(df_sample, shift) for shift in np.arange(1, 500, 1)]\n",
    "# params = [(df_sample, shift) for shift in np.arange(1, 64, 0.1)]\n",
    "with multiprocessing.Pool(PROCESSES) as pool:\n",
    "    shift_hits = pool.starmap(func, params)\n",
    "\n",
    "df_shift_hits = pd.DataFrame(shift_hits)    "
   ]
  },
  {
   "cell_type": "code",
   "execution_count": null,
   "id": "quarterly-people",
   "metadata": {},
   "outputs": [],
   "source": [
    "fig = px.scatter(df_shift_hits, x='shift', y='hit', labels={'shift': 'Mass Shift', 'hit': 'Hit Count'})\n",
    "fig.show()"
   ]
  },
  {
   "cell_type": "code",
   "execution_count": null,
   "id": "secure-doubt",
   "metadata": {},
   "outputs": [],
   "source": [
    "df_shift_hits.sort_values('hit', ascending=False).reset_index(drop=True).iloc[:20]"
   ]
  },
  {
   "cell_type": "code",
   "execution_count": null,
   "id": "western-first",
   "metadata": {},
   "outputs": [],
   "source": [
    "df_sample = df_gln1.copy()\n",
    "df_sample.shape"
   ]
  },
  {
   "cell_type": "code",
   "execution_count": null,
   "id": "prospective-reservation",
   "metadata": {},
   "outputs": [],
   "source": [
    "shift = Na\n",
    "df_shift_na_l = match_dfs(df_sample, df_sample, shift=-1*shift)\n",
    "df_shift_na_r = match_dfs(df_sample, df_sample, shift=shift)\n",
    "shift = K\n",
    "df_shift_k_l = match_dfs(df_sample, df_sample, shift=-1*shift)\n",
    "df_shift_k_r = match_dfs(df_sample, df_sample, shift=shift)\n",
    "df_shift_na_l.shape, df_shift_na_r.shape, df_shift_k_l.shape, df_shift_k_r.shape"
   ]
  },
  {
   "cell_type": "code",
   "execution_count": null,
   "id": "changing-imagination",
   "metadata": {},
   "outputs": [],
   "source": [
    "shift = H2O\n",
    "df_shift_w_l = match_dfs(df_sample, df_sample, shift=-1*shift)\n",
    "df_shift_w_r = match_dfs(df_sample, df_sample, shift=shift)\n",
    "df_shift_w_l.shape, df_shift_w_r.shape"
   ]
  },
  {
   "cell_type": "code",
   "execution_count": null,
   "id": "technical-birmingham",
   "metadata": {},
   "outputs": [],
   "source": [
    "shift = 1.0\n",
    "df_shift_da_l = match_dfs(df_sample, df_sample, shift=-1*shift)\n",
    "df_shift_da_r = match_dfs(df_sample, df_sample, shift=shift)\n",
    "df_shift_da_l.shape, df_shift_da_r.shape"
   ]
  },
  {
   "cell_type": "code",
   "execution_count": null,
   "id": "color-density",
   "metadata": {},
   "outputs": [],
   "source": [
    "shift = 55.95 # NaCl\n",
    "df_shift_nacl_l = match_dfs(df_sample, df_sample, shift=-1*shift)\n",
    "df_shift_nacl_r = match_dfs(df_sample, df_sample, shift=shift)\n",
    "df_shift_nacl_l.shape, df_shift_nacl_r.shape"
   ]
  },
  {
   "cell_type": "code",
   "execution_count": null,
   "id": "biological-turner",
   "metadata": {},
   "outputs": [],
   "source": [
    "df_top_k = df_shift_k_l.drop(df_shift_k_r.index, errors='ignore')#.sort_values('Vol', ascending=False).iloc[:200]\n",
    "plotly_zone(df_shift_k_l)\n",
    "print(df_shift_k_l.shape)\n",
    "\n",
    "bcr = base_calling_random(df_top_k, base_only=False)\n",
    "plotly_basecalling(*bcr)"
   ]
  },
  {
   "cell_type": "code",
   "execution_count": null,
   "id": "governing-bruce",
   "metadata": {},
   "outputs": [],
   "source": [
    "df_top_na = df_shift_na_l#.sort_values('Vol', ascending=False).iloc[:200]\n",
    "plotly_zone(df_shift_na_l)\n",
    "print(df_shift_na_l.shape)\n",
    "bcr = base_calling_random(df_top_na, base_only=True)\n",
    "plotly_basecalling(*bcr)"
   ]
  },
  {
   "cell_type": "code",
   "execution_count": null,
   "id": "loving-translator",
   "metadata": {},
   "outputs": [],
   "source": [
    "df_merge = pd.concat([df_shift_na_l, df_shift_k_l, df_shift_nacl_l]).drop_duplicates()"
   ]
  },
  {
   "cell_type": "code",
   "execution_count": null,
   "id": "unexpected-raise",
   "metadata": {},
   "outputs": [],
   "source": [
    "plotly_zone(df_merge)\n",
    "bcr = base_calling_random(df_merge, base_only=True)\n",
    "plotly_basecalling(*bcr)"
   ]
  },
  {
   "cell_type": "code",
   "execution_count": null,
   "id": "prepared-latest",
   "metadata": {},
   "outputs": [],
   "source": [
    "df_top_nacl = df_shift_nacl_l#.sort_values('Vol', ascending=False).iloc[:200]\n",
    "plotly_zone(df_shift_nacl_l)\n",
    "print(df_shift_nacl_l.shape)\n",
    "bcr = base_calling_random(df_top_nacl, base_only=True)\n",
    "plotly_basecalling(*bcr)"
   ]
  },
  {
   "cell_type": "code",
   "execution_count": null,
   "id": "through-harvest",
   "metadata": {},
   "outputs": [],
   "source": []
  }
 ],
 "metadata": {
  "kernelspec": {
   "display_name": "Python 3",
   "language": "python",
   "name": "python3"
  },
  "language_info": {
   "codemirror_mode": {
    "name": "ipython",
    "version": 3
   },
   "file_extension": ".py",
   "mimetype": "text/x-python",
   "name": "python",
   "nbconvert_exporter": "python",
   "pygments_lexer": "ipython3",
   "version": "3.7.3"
  }
 },
 "nbformat": 4,
 "nbformat_minor": 5
}
