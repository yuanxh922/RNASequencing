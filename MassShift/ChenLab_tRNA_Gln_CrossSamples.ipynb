{
 "cells": [
  {
   "cell_type": "code",
   "execution_count": null,
   "id": "reduced-commercial",
   "metadata": {},
   "outputs": [],
   "source": [
    "import pandas as pd"
   ]
  },
  {
   "cell_type": "code",
   "execution_count": null,
   "id": "collect-fleet",
   "metadata": {},
   "outputs": [],
   "source": [
    "%run ../modules/utils.ipynb\n",
    "%run ../modules/cds.ipynb\n",
    "%run ../modules/preprocessing.ipynb"
   ]
  },
  {
   "cell_type": "code",
   "execution_count": null,
   "id": "acknowledged-alaska",
   "metadata": {},
   "outputs": [],
   "source": [
    "gln_path = '/Users/xyuan/Documents/ChenLab/10Jun2021/degraded/DrChen_tRNA_A_Gln_FA_13.xlsx'\n",
    "df_gln1 = load_data(gln_path)\n",
    "gln_path = '/Users/xyuan/Documents/ChenLab/10Jun2021/degraded/14_Gln_A.xlsx'\n",
    "df_gln1_alkb = load_data(gln_path)\n",
    "\n",
    "gln_path = '/Users/xyuan/Documents/ChenLab/10Jun2021/degraded/DrChen_tRNA_B_Gln_FA_19.xlsx'\n",
    "df_gln2 = load_data(gln_path)\n",
    "gln_path = '/Users/xyuan/Documents/ChenLab/10Jun2021/degraded/DrChen_tRNA_B_Gln_A_FA_20.xlsx'\n",
    "df_gln2_alkb = load_data(gln_path)"
   ]
  },
  {
   "cell_type": "code",
   "execution_count": null,
   "id": "offensive-uruguay",
   "metadata": {},
   "outputs": [],
   "source": [
    "df_gln1 = df_gln1[df_gln1.Mass>1500]\n",
    "df_gln1_alkb = df_gln1_alkb[df_gln1_alkb.Mass>1500]\n",
    "df_gln2 = df_gln2[df_gln2.Mass>1500]\n",
    "df_gln2_alkb = df_gln2_alkb[df_gln2_alkb.Mass>1500]"
   ]
  },
  {
   "cell_type": "code",
   "execution_count": null,
   "id": "duplicate-alfred",
   "metadata": {},
   "outputs": [],
   "source": [
    "plotly_zone(df_gln2[df_gln2.Mass>23900], y='Vol')"
   ]
  },
  {
   "cell_type": "code",
   "execution_count": null,
   "id": "impressed-pencil",
   "metadata": {},
   "outputs": [],
   "source": [
    "plotly_zone(df_gln2)\n",
    "df_gln2.shape"
   ]
  },
  {
   "cell_type": "code",
   "execution_count": null,
   "id": "intense-vacuum",
   "metadata": {},
   "outputs": [],
   "source": [
    "_, df_alkb1_only = diff_dfs(df_gln1, df_gln1_alkb)\n",
    "df_alkb1_only.shape"
   ]
  },
  {
   "cell_type": "code",
   "execution_count": null,
   "id": "patent-court",
   "metadata": {},
   "outputs": [],
   "source": [
    "_, df_alkb2_only = diff_dfs(df_gln2, df_gln2_alkb)\n",
    "df_alkb2_only.shape"
   ]
  },
  {
   "cell_type": "code",
   "execution_count": null,
   "id": "precise-planner",
   "metadata": {},
   "outputs": [],
   "source": [
    "# remove adducts from df_gln2\n",
    "adducts = [K, Na]\n",
    "dfm_adducts_list = list()\n",
    "for adduct in adducts:\n",
    "    dfm_r = match_dfs(df_gln2, df_gln2, shift=adduct)\n",
    "    dfm_adducts_list.append(dfm_r)\n",
    "dfm_adducts = pd.concat(dfm_adducts_list).drop_duplicates()\n",
    "df_gln2_without_adducts = df_gln2.drop(dfm_adducts.index)"
   ]
  },
  {
   "cell_type": "code",
   "execution_count": null,
   "id": "fourth-turner",
   "metadata": {},
   "outputs": [],
   "source": [
    "# remove adducts from df_alkb2_only\n",
    "adducts = [K, Na]\n",
    "dfm_adducts_list = list()\n",
    "for adduct in adducts:\n",
    "    dfm_r = match_dfs(df_alkb2_only, df_alkb2_only, shift=adduct)\n",
    "    dfm_adducts_list.append(dfm_r)\n",
    "dfm_adducts = pd.concat(dfm_adducts_list).drop_duplicates()\n",
    "df_alkb2_only_without_adducts = df_alkb2_only.drop(dfm_adducts.index)"
   ]
  },
  {
   "cell_type": "code",
   "execution_count": null,
   "id": "sealed-error",
   "metadata": {},
   "outputs": [],
   "source": [
    "# remove adducts from df_gln2\n",
    "adducts = [K, Na]\n",
    "dfm_adducts_list = list()\n",
    "for adduct in adducts:\n",
    "    dfm_r = match_dfs(df_gln2_alkb, df_gln2_alkb, shift=adduct)\n",
    "    dfm_adducts_list.append(dfm_r)\n",
    "dfm_adducts = pd.concat(dfm_adducts_list).drop_duplicates()\n",
    "df_gln2_alkb_without_adducts = df_gln2_alkb.drop(dfm_adducts.index)"
   ]
  },
  {
   "cell_type": "code",
   "execution_count": null,
   "id": "worthy-divorce",
   "metadata": {},
   "outputs": [],
   "source": []
  },
  {
   "cell_type": "code",
   "execution_count": null,
   "id": "parental-terrorism",
   "metadata": {},
   "outputs": [],
   "source": [
    "import multiprocessing\n",
    "from collections import namedtuple\n",
    "ShiftHit = namedtuple('ShiftHit', 'shift hit')\n",
    "\n",
    "def func(df_s1, df_s2, shift):\n",
    "    dfm = match_dfs(df_s1, df_s2, shift=shift)\n",
    "    sh = ShiftHit(shift=shift, hit=dfm.shape[0])\n",
    "    return sh\n",
    "\n",
    "PROCESSES = 8\n",
    "# params = [(df_intact_wild2, df_intact_alkb2_only, shift) for shift in np.arange(-64, 64, 1)]\n",
    "# params = [(df_gln1, df_alkb1_only, shift) for shift in np.arange(-64, 64, 1)]\n",
    "params = [(df_gln2_without_adducts, df_gln2_alkb_without_adducts, shift) for shift in np.arange(-64, 64, 1)]\n",
    "# params = [(df_comm_wild2, df_comm_wild2, shift) for shift in np.arange(1, 64, 1)]\n",
    "# params = [(df_wild2, df_alkb2, shift) for shift in np.arange(1, 100, 1)]\n",
    "# params = [(df_sample, shift) for shift in np.arange(1, 64, 0.1)]\n",
    "with multiprocessing.Pool(PROCESSES) as pool:\n",
    "    shift_hits = pool.starmap(func, params)\n",
    "\n",
    "df_shift_hits = pd.DataFrame(shift_hits)    "
   ]
  },
  {
   "cell_type": "code",
   "execution_count": null,
   "id": "every-wilderness",
   "metadata": {},
   "outputs": [],
   "source": [
    "fig = px.scatter(df_shift_hits, x='shift', y='hit', labels={'shift': 'Mass Shift', 'hit': 'Hit Count'})\n",
    "fig.show()"
   ]
  },
  {
   "cell_type": "code",
   "execution_count": null,
   "id": "julian-celebration",
   "metadata": {},
   "outputs": [],
   "source": [
    "df_shift_hits.sort_values('hit', ascending=False).reset_index(drop=True).iloc[:10].copy()"
   ]
  },
  {
   "cell_type": "code",
   "execution_count": null,
   "id": "turned-aruba",
   "metadata": {},
   "outputs": [],
   "source": [
    "# df_sh_1 = df_shift_hits.copy()\n",
    "df_sh_2 = df_shift_hits.copy()"
   ]
  },
  {
   "cell_type": "code",
   "execution_count": null,
   "id": "saved-humanity",
   "metadata": {},
   "outputs": [],
   "source": [
    "shift = -1*M\n",
    "dfm_l, dfm_r = peer_dfs(df_gln2_without_adducts, df_gln2_alkb_without_adducts, shift=shift)\n",
    "dfm_l.shape, dfm_r.shape"
   ]
  },
  {
   "cell_type": "code",
   "execution_count": null,
   "id": "ultimate-christianity",
   "metadata": {},
   "outputs": [],
   "source": [
    "# plotly_zone(dfm_r[(dfm_r.Mass>5800)&(dfm_r.Mass<6800)], y='Vol')\n",
    "# plotly_zone(dfm_l[(dfm_l.Mass>5800)&(dfm_l.Mass<6800)], y='Vol')\n",
    "plotly_zone(dfm_l, y='RT')\n",
    "plotly_zone(dfm_r, y='RT')"
   ]
  },
  {
   "cell_type": "code",
   "execution_count": null,
   "id": "broadband-cream",
   "metadata": {},
   "outputs": [],
   "source": [
    "import multiprocessing\n",
    "from collections import namedtuple\n",
    "ShiftHit = namedtuple('ShiftHit', 'shift hit')\n",
    "\n",
    "def func(df_sample, shift):\n",
    "    dfm = match_dfs(df_sample, df_sample, shift=shift)\n",
    "    sh = ShiftHit(shift=shift, hit=dfm.shape[0])\n",
    "    return sh\n",
    "\n",
    "PROCESSES = 8\n",
    "params = [(df_alkb_comm_N_inc, shift) for shift in np.arange(1, 64, 1)]\n",
    "with multiprocessing.Pool(PROCESSES) as pool:\n",
    "    shift_hits = pool.starmap(func, params)\n",
    "\n",
    "df_shift_hits = pd.DataFrame(shift_hits)    "
   ]
  },
  {
   "cell_type": "code",
   "execution_count": null,
   "id": "corresponding-chosen",
   "metadata": {},
   "outputs": [],
   "source": [
    "fig = px.scatter(df_shift_hits, x='shift', y='hit', labels={'shift': 'Mass Shift', 'hit': 'Hit Count'})\n",
    "fig.show()"
   ]
  },
  {
   "cell_type": "code",
   "execution_count": null,
   "id": "parallel-easter",
   "metadata": {},
   "outputs": [],
   "source": [
    "bcr = base_calling_random(dfm_l, base_only=True)\n",
    "plotly_basecalling(*bcr)"
   ]
  },
  {
   "cell_type": "code",
   "execution_count": null,
   "id": "guided-attitude",
   "metadata": {},
   "outputs": [],
   "source": [
    "bcr = base_calling_random(dfm_r, base_only=True)\n",
    "plotly_basecalling(*bcr)"
   ]
  },
  {
   "cell_type": "code",
   "execution_count": null,
   "id": "former-nelson",
   "metadata": {},
   "outputs": [],
   "source": [
    "thres = 26000\n",
    "groups_l = basecalling_groups(dfm_l[dfm_l.Mass<thres])\n",
    "len(groups_l)\n",
    "groups_r = basecalling_groups(dfm_r[dfm_r.Mass<thres])\n",
    "len(groups_r)"
   ]
  },
  {
   "cell_type": "code",
   "execution_count": null,
   "id": "retained-malta",
   "metadata": {},
   "outputs": [],
   "source": [
    "print([len(g[0]) for g in groups_l]), print([len(g[0]) for g in groups_r])"
   ]
  },
  {
   "cell_type": "code",
   "execution_count": null,
   "id": "numeric-binary",
   "metadata": {},
   "outputs": [],
   "source": [
    "# [len(group[0]) for group in groups]\n",
    "idx = 0\n",
    "\n",
    "dft = groups_l[idx][0]\n",
    "bcr = base_calling_random(dft)\n",
    "plotly_basecalling(*bcr)\n",
    "\n",
    "dft = groups_r[idx][0]\n",
    "bcr = base_calling_random(dft)\n",
    "plotly_basecalling(*bcr)"
   ]
  },
  {
   "cell_type": "code",
   "execution_count": null,
   "id": "english-arbor",
   "metadata": {},
   "outputs": [],
   "source": [
    "shift = -2*M\n",
    "dfm_l, dfm_r = peer_dfs(df_gln2_without_adducts, df_gln2_without_adducts, shift=shift)\n",
    "dfm_l.shape, dfm_r.shape"
   ]
  },
  {
   "cell_type": "code",
   "execution_count": null,
   "id": "completed-amazon",
   "metadata": {},
   "outputs": [],
   "source": [
    "bcr = base_calling_random(dfm_l[dfm_l.Mass<6000], base_only=True)\n",
    "plotly_basecalling(*bcr)\n",
    "bcr = base_calling_random(dfm_r[dfm_r.Mass<6000], base_only=True)\n",
    "plotly_basecalling(*bcr)"
   ]
  },
  {
   "cell_type": "code",
   "execution_count": null,
   "id": "dense-repair",
   "metadata": {},
   "outputs": [],
   "source": []
  }
 ],
 "metadata": {
  "kernelspec": {
   "display_name": "Python 3",
   "language": "python",
   "name": "python3"
  },
  "language_info": {
   "codemirror_mode": {
    "name": "ipython",
    "version": 3
   },
   "file_extension": ".py",
   "mimetype": "text/x-python",
   "name": "python",
   "nbconvert_exporter": "python",
   "pygments_lexer": "ipython3",
   "version": "3.7.3"
  }
 },
 "nbformat": 4,
 "nbformat_minor": 5
}
