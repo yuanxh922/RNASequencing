{
 "cells": [
  {
   "cell_type": "code",
   "execution_count": null,
   "id": "trying-victory",
   "metadata": {},
   "outputs": [],
   "source": [
    "import pandas as pd"
   ]
  },
  {
   "cell_type": "code",
   "execution_count": null,
   "id": "amended-stock",
   "metadata": {},
   "outputs": [],
   "source": [
    "%run ../modules/utils.ipynb\n",
    "%run ../modules/cds.ipynb\n",
    "%run ../modules/preprocessing.ipynb"
   ]
  },
  {
   "cell_type": "code",
   "execution_count": null,
   "id": "exceptional-moral",
   "metadata": {},
   "outputs": [],
   "source": [
    "df_mix2 = load_data('/Users/xyuan/Documents/SeqDataSets/Ning1024/2mix_180521s14_100.xls')"
   ]
  },
  {
   "cell_type": "code",
   "execution_count": null,
   "id": "acknowledged-death",
   "metadata": {},
   "outputs": [],
   "source": [
    "# 2 mix\n",
    "df_sample = df_mix2[(df_mix2.Mass<8000)&(df_mix2.RT<15)]"
   ]
  },
  {
   "cell_type": "code",
   "execution_count": null,
   "id": "behind-conditions",
   "metadata": {},
   "outputs": [],
   "source": []
  },
  {
   "cell_type": "code",
   "execution_count": null,
   "id": "premium-internship",
   "metadata": {},
   "outputs": [],
   "source": [
    "plotly_zone(df_sample)\n",
    "df_sample.shape[0]\n",
    "# plotly_zones(df_cmc, df_sample, light_bg=True)"
   ]
  },
  {
   "cell_type": "code",
   "execution_count": null,
   "id": "third-floating",
   "metadata": {},
   "outputs": [],
   "source": [
    "shift = Na\n",
    "df_shift_na_l = match_dfs(df_sample, df_sample, shift=-1*shift)\n",
    "df_shift_na_r = match_dfs(df_sample, df_sample, shift=shift)\n",
    "shift = K\n",
    "df_shift_k_l = match_dfs(df_sample, df_sample, shift=-1*shift)\n",
    "df_shift_k_r = match_dfs(df_sample, df_sample, shift=shift)"
   ]
  },
  {
   "cell_type": "code",
   "execution_count": null,
   "id": "danish-photographer",
   "metadata": {},
   "outputs": [],
   "source": [
    "shift = 593.1743\n",
    "df_shift_tag_l = match_dfs(df_sample, df_sample, shift=-1*shift)\n",
    "df_shift_tag_r = match_dfs(df_sample, df_sample, shift=shift)\n",
    "df_shift_tag_l.shape, df_shift_tag_r.shape"
   ]
  },
  {
   "cell_type": "code",
   "execution_count": null,
   "id": "widespread-adams",
   "metadata": {},
   "outputs": [],
   "source": [
    "df_top_tag = df_shift_tag_l#.sort_values('Vol', ascending=False).iloc[:200]\n",
    "# plotly_zones(df_shift_tag_l, df_shift_tag_r)\n",
    "plotly_zone(df_shift_tag_l)\n",
    "plotly_zone(df_shift_tag_r)\n",
    "print(df_shift_tag_l.shape)\n",
    "\n",
    "# bcr = base_calling_random(df_top_tag, base_only=True)\n",
    "# plotly_basecalling(df_top_tag, bcr[1])"
   ]
  },
  {
   "cell_type": "code",
   "execution_count": null,
   "id": "efficient-spare",
   "metadata": {},
   "outputs": [],
   "source": [
    "df_top_k = df_shift_k_l.sort_values('Vol', ascending=False).iloc[:200]\n",
    "plotly_zone(df_shift_k_l)\n",
    "print(df_shift_k_l.shape)\n",
    "\n",
    "bcr = base_calling_random(df_top_k, base_only=True)\n",
    "plotly_basecalling(df_top_k, bcr[1])"
   ]
  },
  {
   "cell_type": "code",
   "execution_count": null,
   "id": "assisted-chester",
   "metadata": {},
   "outputs": [],
   "source": [
    "df_top_na = df_shift_na_l#.sort_values('Vol', ascending=False).iloc[:200]\n",
    "plotly_zone(df_shift_na_l)\n",
    "print(df_shift_na_l.shape)\n",
    "bcr = base_calling_random(df_top_na, base_only=True)\n",
    "plotly_basecalling(df_top_na, bcr[1])"
   ]
  },
  {
   "cell_type": "code",
   "execution_count": null,
   "id": "cultural-investor",
   "metadata": {},
   "outputs": [],
   "source": []
  }
 ],
 "metadata": {
  "kernelspec": {
   "display_name": "Python 3",
   "language": "python",
   "name": "python3"
  },
  "language_info": {
   "codemirror_mode": {
    "name": "ipython",
    "version": 3
   },
   "file_extension": ".py",
   "mimetype": "text/x-python",
   "name": "python",
   "nbconvert_exporter": "python",
   "pygments_lexer": "ipython3",
   "version": "3.7.3"
  }
 },
 "nbformat": 4,
 "nbformat_minor": 5
}
