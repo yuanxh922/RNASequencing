{
 "cells": [
  {
   "cell_type": "code",
   "execution_count": null,
   "id": "northern-suicide",
   "metadata": {},
   "outputs": [],
   "source": [
    "import pandas as pd"
   ]
  },
  {
   "cell_type": "code",
   "execution_count": null,
   "id": "wooden-answer",
   "metadata": {},
   "outputs": [],
   "source": [
    "%run ../modules/utils.ipynb\n",
    "%run ../modules/cds.ipynb\n",
    "%run ../modules/preprocessing.ipynb"
   ]
  },
  {
   "cell_type": "code",
   "execution_count": null,
   "id": "voluntary-butler",
   "metadata": {},
   "outputs": [],
   "source": [
    "glu_path = '/Users/xyuan/Documents/ChenLab/10Jun2021/degraded/DrChen_tRNA_A_Glu_FA_17.xlsx'\n",
    "df_glu1 = load_data(glu_path)\n",
    "glu_path = '/Users/xyuan/Documents/ChenLab/10Jun2021/degraded/18_Glu_A.xlsx'\n",
    "df_glu1_alkb = load_data(glu_path)"
   ]
  },
  {
   "cell_type": "code",
   "execution_count": null,
   "id": "resident-isolation",
   "metadata": {},
   "outputs": [],
   "source": [
    "df_glu1 = df_glu1[df_glu1.Mass>1500]\n",
    "df_glu1_alkb = df_glu1_alkb[df_glu1_alkb.Mass>1500]"
   ]
  },
  {
   "cell_type": "code",
   "execution_count": null,
   "id": "flush-florist",
   "metadata": {},
   "outputs": [],
   "source": [
    "glu_path = '/Users/xyuan/Documents/ChenLab/8May2021/UC_glu_5_rosa.xlsx'\n",
    "df_glu5 = load_data(glu_path)\n",
    "glu_path = '/Users/xyuan/Documents/ChenLab/8May2021/UC_glu_6_rosa.xlsx'\n",
    "df_glu5_alkb = load_data(glu_path)\n",
    "df_glu5.shape, df_glu5_alkb.shape"
   ]
  },
  {
   "cell_type": "code",
   "execution_count": null,
   "id": "vanilla-glance",
   "metadata": {},
   "outputs": [],
   "source": [
    "df_glu5 = df_glu5[df_glu5.Mass>1500]\n",
    "df_glu5_alkb = df_glu5_alkb[df_glu5_alkb.Mass>1500]"
   ]
  },
  {
   "cell_type": "code",
   "execution_count": null,
   "id": "correct-burton",
   "metadata": {},
   "outputs": [],
   "source": [
    "plotly_zone(df_glu5)"
   ]
  },
  {
   "cell_type": "code",
   "execution_count": null,
   "id": "composed-detective",
   "metadata": {},
   "outputs": [],
   "source": [
    "_, df_alkb1_only = diff_dfs(df_glu1, df_glu1_alkb)\n",
    "df_alkb1_only.shape"
   ]
  },
  {
   "cell_type": "code",
   "execution_count": null,
   "id": "charming-sarah",
   "metadata": {},
   "outputs": [],
   "source": [
    "_, df_alkb5_only = diff_dfs(df_glu5, df_glu5_alkb)\n",
    "df_alkb5_only.shape"
   ]
  },
  {
   "cell_type": "code",
   "execution_count": null,
   "id": "agreed-secretariat",
   "metadata": {},
   "outputs": [],
   "source": [
    "_, df_alkb5_comm = comm_dfs(df_glu5, df_glu5_alkb)\n",
    "df_alkb5_comm.shape"
   ]
  },
  {
   "cell_type": "code",
   "execution_count": null,
   "id": "experienced-classic",
   "metadata": {},
   "outputs": [],
   "source": [
    "import multiprocessing\n",
    "from collections import namedtuple\n",
    "ShiftHit = namedtuple('ShiftHit', 'shift hit')\n",
    "\n",
    "def func(df_s1, df_s2, shift):\n",
    "    dfm = match_dfs(df_s1, df_s2, shift=shift)\n",
    "    sh = ShiftHit(shift=shift, hit=dfm.shape[0])\n",
    "    return sh\n",
    "\n",
    "PROCESSES = 16\n",
    "params = [(df_glu1, df_alkb1_only, shift) for shift in np.arange(-64, 64, 1)]\n",
    "# params = [(df_sample, shift) for shift in np.arange(1, 64, 0.1)]\n",
    "with multiprocessing.Pool(PROCESSES) as pool:\n",
    "    shift_hits = pool.starmap(func, params)\n",
    "\n",
    "df_shift_hits = pd.DataFrame(shift_hits)    "
   ]
  },
  {
   "cell_type": "code",
   "execution_count": null,
   "id": "advisory-register",
   "metadata": {},
   "outputs": [],
   "source": [
    "fig = px.scatter(df_shift_hits, x='shift', y='hit', labels={'shift': 'Mass Shift', 'hit': 'Hit Count'})\n",
    "fig.show()"
   ]
  },
  {
   "cell_type": "code",
   "execution_count": null,
   "id": "respiratory-warehouse",
   "metadata": {},
   "outputs": [],
   "source": [
    "df_sh1.sort_values('hit', ascending=False).reset_index(drop=True).iloc[:10].copy()"
   ]
  },
  {
   "cell_type": "code",
   "execution_count": null,
   "id": "dying-pasta",
   "metadata": {},
   "outputs": [],
   "source": [
    "# df_sh1 = df_shift_hits.copy()\n",
    "df_sh5 = df_shift_hits.copy()"
   ]
  },
  {
   "cell_type": "code",
   "execution_count": null,
   "id": "worst-reservoir",
   "metadata": {},
   "outputs": [],
   "source": [
    "dfm_l, dfm_r = peer_dfs(df_glu5, df_alkb5_only, shift=1)\n",
    "dfm_l.shape, dfm_r.shape"
   ]
  },
  {
   "cell_type": "code",
   "execution_count": null,
   "id": "scientific-renewal",
   "metadata": {},
   "outputs": [],
   "source": [
    "shift = 1\n",
    "# dfm_l = match_dfs(df_glu1, df_alkb1_only, shift=shift)\n",
    "# dfm_r = match_dfs(df_alkb1_only, df_glu1, shift=-1*shift)\n",
    "dfm_l, dfm_r = peer_dfs(df_glu1, df_alkb1_only, shift=shift)\n",
    "dfm_l.shape, dfm_r.shape"
   ]
  },
  {
   "cell_type": "code",
   "execution_count": null,
   "id": "necessary-click",
   "metadata": {},
   "outputs": [],
   "source": [
    "shift = 1\n",
    "dfm_wild_l = match_dfs(df_glu1, df_glu1, shift=-1*shift)\n",
    "dfm_wild_r = match_dfs(df_glu1, df_glu1, shift=shift)\n",
    "\n",
    "dfm_alkb_l = match_dfs(df_glu1_alkb, df_glu1_alkb, shift=-1*shift)\n",
    "dfm_alkb_r = match_dfs(df_glu1_alkb, df_glu1_alkb, shift=shift)\n",
    "dfm_wild_l.shape, dfm_wild_r.shape, dfm_alkb_l.shape, dfm_alkb_r.shape"
   ]
  },
  {
   "cell_type": "code",
   "execution_count": null,
   "id": "funny-binary",
   "metadata": {},
   "outputs": [],
   "source": [
    "df_glu5_extended = pd.concat([df_glu5, dfm_l]).drop_duplicates()\n",
    "df_glu5_extended.shape"
   ]
  },
  {
   "cell_type": "code",
   "execution_count": null,
   "id": "adequate-monitor",
   "metadata": {},
   "outputs": [],
   "source": [
    "bcr = base_calling_random(dfm_l, base_only=True)\n",
    "plotly_basecalling(*bcr)\n",
    "bcr = base_calling_random(dfm_r, base_only=True)\n",
    "plotly_basecalling(*bcr)"
   ]
  },
  {
   "cell_type": "code",
   "execution_count": null,
   "id": "distinct-twenty",
   "metadata": {},
   "outputs": [],
   "source": [
    "plotly_basecalling(*bcr_ext)"
   ]
  },
  {
   "cell_type": "code",
   "execution_count": null,
   "id": "latest-destination",
   "metadata": {},
   "outputs": [],
   "source": [
    "# plotly_zone(dfm_l)\n",
    "# plotly_zone(dfm_r)\n",
    "bcr_l = base_calling_random(dfm_l, base_only=True)\n",
    "bcr_r = base_calling_random(dfm_r, base_only=True)"
   ]
  },
  {
   "cell_type": "code",
   "execution_count": null,
   "id": "vulnerable-titanium",
   "metadata": {},
   "outputs": [],
   "source": [
    "plotly_basecalling(*bcr_l)\n",
    "plotly_basecalling(*bcr_r)"
   ]
  },
  {
   "cell_type": "code",
   "execution_count": null,
   "id": "recent-canada",
   "metadata": {},
   "outputs": [],
   "source": []
  }
 ],
 "metadata": {
  "kernelspec": {
   "display_name": "Python 3",
   "language": "python",
   "name": "python3"
  },
  "language_info": {
   "codemirror_mode": {
    "name": "ipython",
    "version": 3
   },
   "file_extension": ".py",
   "mimetype": "text/x-python",
   "name": "python",
   "nbconvert_exporter": "python",
   "pygments_lexer": "ipython3",
   "version": "3.7.3"
  }
 },
 "nbformat": 4,
 "nbformat_minor": 5
}
