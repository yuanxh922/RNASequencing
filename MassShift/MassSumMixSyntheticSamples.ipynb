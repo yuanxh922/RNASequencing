{
 "cells": [
  {
   "cell_type": "code",
   "execution_count": null,
   "id": "spare-leone",
   "metadata": {},
   "outputs": [],
   "source": [
    "import pandas as pd"
   ]
  },
  {
   "cell_type": "code",
   "execution_count": null,
   "id": "descending-stadium",
   "metadata": {},
   "outputs": [],
   "source": [
    "%run ../modules/utils.ipynb\n",
    "%run ../modules/cds.ipynb\n",
    "%run ../modules/preprocessing.ipynb"
   ]
  },
  {
   "cell_type": "code",
   "execution_count": null,
   "id": "musical-rental",
   "metadata": {},
   "outputs": [],
   "source": [
    "df_5mix = load_excel('/Users/xyuan/Documents/SeqDataSets/Ning1024/5mix_MFE.xlsx', 0)\n",
    "df_2mix = load_data('/Users/xyuan/Documents/SeqDataSets/Ning1024/2mix_180521s14_100.xls')\n"
   ]
  },
  {
   "cell_type": "code",
   "execution_count": null,
   "id": "million-covering",
   "metadata": {},
   "outputs": [],
   "source": [
    "fpath = '/Users/xyuan/Documents/SeqDataSets/Ning1024/12mixtures/19-Table 1.csv'\n",
    "df_single_19 = load_data(fpath, csv_format=True)"
   ]
  },
  {
   "cell_type": "code",
   "execution_count": null,
   "id": "durable-toyota",
   "metadata": {},
   "outputs": [],
   "source": [
    "dfm = match_dfs(df_5mix, df_12mix)\n",
    "plotly_zone(dfm)\n",
    "df_12mix.shape, dfm.shape"
   ]
  },
  {
   "cell_type": "code",
   "execution_count": null,
   "id": "lasting-projector",
   "metadata": {},
   "outputs": [],
   "source": [
    "df_12mix = pd.read_excel(\"/Users/xyuan/Documents/SeqDataSets/Ning1024/12mixtures_3'-Biotin_MFE.xls\", '12MIX')\n",
    "df_12mix = thermo_df(df_12mix)"
   ]
  },
  {
   "cell_type": "code",
   "execution_count": null,
   "id": "proprietary-settle",
   "metadata": {},
   "outputs": [],
   "source": [
    "df_cmc = load_data('/Users/xyuan/Documents/SeqDataSets/Modifications/181227s07_100.xls')"
   ]
  },
  {
   "cell_type": "code",
   "execution_count": null,
   "id": "palestinian-religion",
   "metadata": {},
   "outputs": [],
   "source": [
    "df_simulated_5mix = load_data('/Users/xyuan/Studio/seq_bank/mix5.csv', csv_format=True)\n",
    "plotly_zone(df_simulated_5mix)\n",
    "df_simulated_12mix = load_data('')"
   ]
  },
  {
   "cell_type": "code",
   "execution_count": null,
   "id": "racial-mining",
   "metadata": {},
   "outputs": [],
   "source": [
    "# df_sample = df_2mix[(df_2mix.Mass<8000)&(df_2mix.RT<15)]\n",
    "# df_sample = df_simulated_5mix.copy()\n",
    "# df_sample = df_5mix[(df_5mix.Mass<8500)&(df_5mix.RT<10)]\n",
    "df_sample = df_5mix[(df_5mix.Mass<8500)&(df_5mix.RT<15)]\n",
    "# df_sample = df_5mix[(df_5mix.Mass<8500)&(df_5mix.RT<10)&(df_5mix.Vol>3E5)]\n",
    "# df_sample = df_12mix[(df_12mix.RT<15)&(df_12mix.Mass<11000)]\n",
    "# df_sample = dfm\n",
    "# df_sample = dft.copy()\n",
    "# df_sample = df_cmc[(df_cmc.Mass<8000)&(df_cmc.RT<15)].copy()\n",
    "plotly_zone(df_sample)\n",
    "plotly_zone(df_sample, y='Vol')"
   ]
  },
  {
   "cell_type": "code",
   "execution_count": null,
   "id": "after-celtic",
   "metadata": {},
   "outputs": [],
   "source": [
    "dft = pd.read_excel('/Users/xyuan/Documents/SeqDataSets/Ning1024/5mix_MFE.xlsx')\n",
    "dft.shape\n",
    "# dft = dft[dft.Vol>3E5] # for mix5"
   ]
  },
  {
   "cell_type": "code",
   "execution_count": null,
   "id": "passing-anger",
   "metadata": {},
   "outputs": [],
   "source": [
    "\n",
    "dft = df_12mix[df_12mix.Vol>3E5]\n",
    "dft.shape"
   ]
  },
  {
   "cell_type": "code",
   "execution_count": null,
   "id": "earned-weight",
   "metadata": {},
   "outputs": [],
   "source": [
    "dft = df_cmc[df_cmc.Vol > 1.5E5]"
   ]
  },
  {
   "cell_type": "code",
   "execution_count": null,
   "id": "bibliographic-vocabulary",
   "metadata": {},
   "outputs": [],
   "source": [
    "def computational_data_seperation(df3p, df5p, full_mass, error=0.1, ignore_endpoints=True, has_tag=False, tag=826.3184):\n",
    "    df3p_mass_np = np.array(df3p['Mass'])\n",
    "    df5p_mass_np = np.array(df5p['Mass'])\n",
    "    mass_sum_np = df3p_mass_np[:, np.newaxis] + df5p_mass_np\n",
    "    mass_sum_1 = np.round(mass_sum_np, 3)\n",
    "    mass_sum_df = pd.DataFrame(mass_sum_np)\n",
    "    mass_sum_df1 = pd.DataFrame(mass_sum_1)\n",
    "\n",
    "    if has_tag:\n",
    "        sum_value = round(full_mass + tag + 79.9663 - 18.0106, 1)\n",
    "        print('full_mass {} sum_value {}'.format(full_mass, sum_value))\n",
    "    else:\n",
    "        sum_value = round(full_mass + 18.0106, 1)\n",
    "        print('full_mass {} sum_value {}'.format(full_mass, sum_value))\n",
    "\n",
    "    tmp = mass_sum_df1[(mass_sum_df1 >= sum_value-error) & (mass_sum_df1 <= sum_value+error)]\n",
    "    final_idx_pairs = list(tmp[tmp.notnull()].stack().index)\n",
    "    df3_idxs = [pair[0] for pair in final_idx_pairs]\n",
    "    df5_idxs = [pair[1] for pair in final_idx_pairs]\n",
    "    df3_idxs = list(set(df3_idxs))\n",
    "    df5_idxs = list(set(df5_idxs))\n",
    "#     print(\"df3 {} df5 {}\".format(len(df3_idxs), len(df5_idxs)))\n",
    "\n",
    "    df3p_selected = df3p.iloc[df3_idxs]\n",
    "    df5p_selected = df5p.iloc[df5_idxs]\n",
    "    \n",
    "    if not ignore_endpoints:\n",
    "        df5p_endpoints = get_end5p_points(df5p, full_mass + 18.0106, tag)\n",
    "        print(\"df5p_endpoints {}\".format(df5p_endpoints[['Mass', 'RT', 'Vol']]))\n",
    "\n",
    "        df3p_selected.update(df5p_endpoints)\n",
    "        df5p_selected.update(df5p_endpoints)\n",
    "        \n",
    "    return df3p_selected, df5p_selected"
   ]
  },
  {
   "cell_type": "code",
   "execution_count": null,
   "id": "massive-egyptian",
   "metadata": {},
   "outputs": [],
   "source": [
    "dfm = match_dfs(df_simulated_5mix, dft)\n",
    "plotly_zone(dfm)\n",
    "dfm.shape"
   ]
  },
  {
   "cell_type": "code",
   "execution_count": null,
   "id": "contained-matter",
   "metadata": {},
   "outputs": [],
   "source": [
    "\n",
    "# fullmass = 6600.0153 #6898.0210 # mix2\n",
    "# fullmass = 7522.0681 #7088.0479 #7079.0513 #6954.9478 #6781.0426 # # # mix5\n",
    "# fullmass = 6859.019  # mix5 Sulfo Cy3 5'\n",
    "# fullmass = 6781.0487 #6353.872 # mix12\n",
    "# fullmass = 6597.119 #6345.922 # cmc\n",
    "fullmass = 6859.019\n",
    "df1, _ = computational_data_seperation(df_sample, df_sample, full_mass=fullmass, error=0.1)\n",
    "plotly_zone(df1)\n",
    "df1.shape"
   ]
  },
  {
   "cell_type": "code",
   "execution_count": null,
   "id": "interracial-alert",
   "metadata": {},
   "outputs": [],
   "source": [
    "bcr = base_calling_random(df1)\n",
    "plotly_basecalling(*bcr)\n",
    "plotly_basecalling(df_sample, bcr[1])"
   ]
  },
  {
   "cell_type": "code",
   "execution_count": null,
   "id": "abandoned-dialogue",
   "metadata": {},
   "outputs": [],
   "source": []
  }
 ],
 "metadata": {
  "kernelspec": {
   "display_name": "Python 3",
   "language": "python",
   "name": "python3"
  },
  "language_info": {
   "codemirror_mode": {
    "name": "ipython",
    "version": 3
   },
   "file_extension": ".py",
   "mimetype": "text/x-python",
   "name": "python",
   "nbconvert_exporter": "python",
   "pygments_lexer": "ipython3",
   "version": "3.7.3"
  }
 },
 "nbformat": 4,
 "nbformat_minor": 5
}
