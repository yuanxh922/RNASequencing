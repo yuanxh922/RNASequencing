{
 "cells": [
  {
   "cell_type": "code",
   "execution_count": null,
   "id": "valued-devon",
   "metadata": {},
   "outputs": [],
   "source": [
    "import pandas as pd"
   ]
  },
  {
   "cell_type": "code",
   "execution_count": null,
   "id": "experienced-sydney",
   "metadata": {},
   "outputs": [],
   "source": [
    "%run ../modules/utils.ipynb\n",
    "%run ../modules/cds.ipynb\n",
    "%run ../modules/preprocessing.ipynb"
   ]
  },
  {
   "cell_type": "code",
   "execution_count": null,
   "id": "talented-national",
   "metadata": {},
   "outputs": [],
   "source": [
    "path = '/Users/xyuan/Documents/ChenLab/10Jun2021/degraded/23_t_Cys.xlsx'\n",
    "df_wild = load_data(path)\n",
    "path = '/Users/xyuan/Documents/ChenLab/10Jun2021/degraded/24_t_Cys_A.xlsx'\n",
    "df_alkb = load_data(path)\n",
    "df_wild.shape, df_alkb.shape"
   ]
  },
  {
   "cell_type": "code",
   "execution_count": null,
   "id": "geographic-capacity",
   "metadata": {},
   "outputs": [],
   "source": [
    "df_wild = df_wild[df_wild.Mass>1500]\n",
    "df_alkb = df_alkb[df_alkb.Mass>1500]\n",
    "df_wild.shape, df_alkb.shape"
   ]
  },
  {
   "cell_type": "code",
   "execution_count": null,
   "id": "express-plane",
   "metadata": {},
   "outputs": [],
   "source": [
    "_, df_alkb_only = diff_dfs(df_wild, df_alkb)\n",
    "df_alkb_only.shape"
   ]
  },
  {
   "cell_type": "code",
   "execution_count": null,
   "id": "functioning-basin",
   "metadata": {},
   "outputs": [],
   "source": [
    "plotly_zone(df_alkb_only)"
   ]
  },
  {
   "cell_type": "code",
   "execution_count": null,
   "id": "naughty-indie",
   "metadata": {},
   "outputs": [],
   "source": [
    "import multiprocessing\n",
    "from collections import namedtuple\n",
    "ShiftHit = namedtuple('ShiftHit', 'shift hit')\n",
    "\n",
    "def func(df_s1, df_s2, shift):\n",
    "    dfm = match_dfs(df_s1, df_s2, shift=shift)\n",
    "    sh = ShiftHit(shift=shift, hit=dfm.shape[0])\n",
    "    return sh\n",
    "\n",
    "PROCESSES = 8\n",
    "# params = [(df_intact_wild2, df_intact_alkb2_only, shift) for shift in np.arange(-64, 64, 1)]\n",
    "params = [(df_wild, df_alkb_only, shift) for shift in np.arange(-64, 64, 1)]\n",
    "# params = [(df_comm_wild2, df_comm_wild2, shift) for shift in np.arange(1, 64, 1)]\n",
    "# params = [(df_wild2, df_alkb2, shift) for shift in np.arange(1, 100, 1)]\n",
    "# params = [(df_sample, shift) for shift in np.arange(1, 64, 0.1)]\n",
    "with multiprocessing.Pool(PROCESSES) as pool:\n",
    "    shift_hits = pool.starmap(func, params)\n",
    "\n",
    "df_shift_hits = pd.DataFrame(shift_hits)    "
   ]
  },
  {
   "cell_type": "code",
   "execution_count": null,
   "id": "musical-acceptance",
   "metadata": {},
   "outputs": [],
   "source": [
    "fig = px.scatter(df_shift_hits, x='shift', y='hit', labels={'shift': 'Mass Shift', 'hit': 'Hit Count'})\n",
    "fig.show()"
   ]
  },
  {
   "cell_type": "code",
   "execution_count": null,
   "id": "documented-plain",
   "metadata": {},
   "outputs": [],
   "source": [
    "df_shift_hits.sort_values('hit', ascending=False).reset_index(drop=True).iloc[:10].copy()"
   ]
  },
  {
   "cell_type": "code",
   "execution_count": null,
   "id": "packed-korean",
   "metadata": {},
   "outputs": [],
   "source": []
  }
 ],
 "metadata": {
  "kernelspec": {
   "display_name": "Python 3",
   "language": "python",
   "name": "python3"
  },
  "language_info": {
   "codemirror_mode": {
    "name": "ipython",
    "version": 3
   },
   "file_extension": ".py",
   "mimetype": "text/x-python",
   "name": "python",
   "nbconvert_exporter": "python",
   "pygments_lexer": "ipython3",
   "version": "3.7.3"
  }
 },
 "nbformat": 4,
 "nbformat_minor": 5
}
