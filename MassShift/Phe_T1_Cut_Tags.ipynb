{
 "cells": [
  {
   "cell_type": "code",
   "execution_count": null,
   "id": "together-trader",
   "metadata": {},
   "outputs": [],
   "source": [
    "import pandas as pd"
   ]
  },
  {
   "cell_type": "code",
   "execution_count": null,
   "id": "sought-lesson",
   "metadata": {},
   "outputs": [],
   "source": [
    "%run ../modules/utils.ipynb\n",
    "%run ../modules/cds.ipynb\n",
    "%run ../modules/preprocessing.ipynb"
   ]
  },
  {
   "cell_type": "code",
   "execution_count": null,
   "id": "according-integrity",
   "metadata": {},
   "outputs": [],
   "source": [
    "phe_path = \"/Users/xyuan/Documents/SeqDataSets/tRNA/MFE_190927/190927s06.xls\"\n",
    "df_phe = load_data(phe_path)"
   ]
  },
  {
   "cell_type": "code",
   "execution_count": null,
   "id": "spiritual-meaning",
   "metadata": {},
   "outputs": [],
   "source": [
    "df_phe_191126s04 = load_data('~/Documents/SeqDataSets/tRNA/MFE_191126/191126s04_100.xls')\n",
    "df_phe_191126s08 = load_data('~/Documents/SeqDataSets/tRNA/MFE_191126/191126s08_1000.xls')\n",
    "df_phe_191126s12 = load_data('~/Documents/SeqDataSets/tRNA/MFE_191126/191126s12_1000.xls')"
   ]
  },
  {
   "cell_type": "code",
   "execution_count": null,
   "id": "consolidated-customer",
   "metadata": {},
   "outputs": [],
   "source": [
    "plotly_zone(df_phe_191126s08)\n",
    "df_phe.shape"
   ]
  },
  {
   "cell_type": "code",
   "execution_count": null,
   "id": "automated-entrance",
   "metadata": {},
   "outputs": [],
   "source": [
    "df_sample = df_phe"
   ]
  },
  {
   "cell_type": "code",
   "execution_count": null,
   "id": "uniform-forth",
   "metadata": {},
   "outputs": [],
   "source": [
    "import multiprocessing\n",
    "from collections import namedtuple\n",
    "ShiftHit = namedtuple('ShiftHit', 'shift hit')\n",
    "\n",
    "def func(df_sample, shift):\n",
    "    dfm = match_dfs(df_sample, df_sample, shift=shift)\n",
    "    sh = ShiftHit(shift=shift, hit=dfm.shape[0])\n",
    "    return sh\n",
    "\n",
    "PROCESSES = 16\n",
    "params = [(df_sample, shift) for shift in np.arange(1, 42, 0.1)]\n",
    "# params = [(df_sample, shift) for shift in np.arange(1, 64, 0.1)]\n",
    "with multiprocessing.Pool(PROCESSES) as pool:\n",
    "    shift_hits = pool.starmap(func, params)\n",
    "\n",
    "df_shift_hits = pd.DataFrame(shift_hits)    "
   ]
  },
  {
   "cell_type": "code",
   "execution_count": null,
   "id": "chemical-pasta",
   "metadata": {},
   "outputs": [],
   "source": [
    "fig = px.scatter(df_shift_hits, x='shift', y='hit', labels={'shift': 'Mass Shift', 'hit': 'Hit Count'})\n",
    "fig.show()"
   ]
  },
  {
   "cell_type": "code",
   "execution_count": null,
   "id": "confirmed-diana",
   "metadata": {},
   "outputs": [],
   "source": [
    "shift = Na\n",
    "df_shift_na_l = match_dfs(df_sample, df_sample, shift=-1*shift)\n",
    "df_shift_na_r = match_dfs(df_sample, df_sample, shift=shift)\n",
    "df_shift_na_l.shape, df_shift_na_r.shape\n",
    "# shift = K\n",
    "# df_shift_k_l = match_dfs(df_sample, df_sample, shift=-1*shift)\n",
    "# df_shift_k_r = match_dfs(df_sample, df_sample, shift=shift)\n",
    "# df_shift_na_l.shape, df_shift_na_r.shape, df_shift_k_l.shape, df_shift_k_r.shape"
   ]
  },
  {
   "cell_type": "code",
   "execution_count": null,
   "id": "stainless-service",
   "metadata": {},
   "outputs": [],
   "source": [
    "shifts = [1, 6, 18, 22, 40]\n",
    "for shift in shifts:\n",
    "    df_shift_l = match_dfs(df_sample, df_sample, shift=-1*shift)\n",
    "    df_shift_r = match_dfs(df_sample, df_sample, shift=shift)\n",
    "    print(df_shift_l.shape, df_shift_r.shape)"
   ]
  },
  {
   "cell_type": "code",
   "execution_count": null,
   "id": "latter-puzzle",
   "metadata": {},
   "outputs": [],
   "source": [
    "df_top_na = df_shift_na_l.sort_values('Vol', ascending=False).iloc[:100]\n",
    "plotly_zone(df_shift_na_l)\n",
    "print(df_shift_na_l.shape)\n",
    "bcr = base_calling_random(df_top_na, base_only=True)\n",
    "plotly_basecalling(*bcr)"
   ]
  },
  {
   "cell_type": "code",
   "execution_count": null,
   "id": "controlled-fleece",
   "metadata": {},
   "outputs": [],
   "source": [
    "df_phe_76_5p = pd.read_excel('~/Studio/tools/phe_76_5p.xlsx')\n",
    "df_phe_76_3p = pd.read_excel('~/Studio/tools/phe_76_3p.xlsx')\n",
    "df_phe_template = df_phe_76_3p#pd.concat([df_phe_76_5p, df_phe_76_3p])"
   ]
  },
  {
   "cell_type": "code",
   "execution_count": null,
   "id": "velvet-coating",
   "metadata": {},
   "outputs": [],
   "source": [
    "import multiprocessing\n",
    "from collections import namedtuple\n",
    "ShiftHit = namedtuple('ShiftHit', 'shift hit')\n",
    "\n",
    "def func(df_s1, df_s2, shift):\n",
    "    dfm = match_dfs(df_s1, df_s2, shift=shift)\n",
    "    sh = ShiftHit(shift=shift, hit=dfm.shape[0])\n",
    "    return sh\n",
    "\n",
    "PROCESSES = 16\n",
    "params = [(df_phe_191126s04, df_phe_191126s08, shift) for shift in np.arange(826.3184-20, 826.3184+20, 1)]\n",
    "# params = [(df_sample, shift) for shift in np.arange(1, 64, 0.1)]\n",
    "with multiprocessing.Pool(PROCESSES) as pool:\n",
    "    shift_hits = pool.starmap(func, params)\n",
    "\n",
    "df_shift_hits = pd.DataFrame(shift_hits)    "
   ]
  },
  {
   "cell_type": "code",
   "execution_count": null,
   "id": "cooperative-tribune",
   "metadata": {},
   "outputs": [],
   "source": [
    "fig = px.scatter(df_shift_hits, x='shift', y='hit', labels={'shift': 'Mass Shift', 'hit': 'Hit Count'})\n",
    "fig.show()"
   ]
  },
  {
   "cell_type": "code",
   "execution_count": null,
   "id": "detailed-plymouth",
   "metadata": {},
   "outputs": [],
   "source": [
    "dfm = match_dfs(df_phe_191126s08, df_phe_191126s12)\n",
    "plotly_zone(dfm)\n",
    "dfm.shape"
   ]
  },
  {
   "cell_type": "code",
   "execution_count": null,
   "id": "explicit-event",
   "metadata": {},
   "outputs": [],
   "source": [
    "dfm = dfm[dfm.RT<50].copy()"
   ]
  },
  {
   "cell_type": "code",
   "execution_count": null,
   "id": "developed-abraham",
   "metadata": {},
   "outputs": [],
   "source": [
    "bcr = base_calling_random(dfm, base_only=True)\n",
    "plotly_basecalling(*bcr)"
   ]
  },
  {
   "cell_type": "code",
   "execution_count": null,
   "id": "conservative-doctrine",
   "metadata": {},
   "outputs": [],
   "source": []
  }
 ],
 "metadata": {
  "kernelspec": {
   "display_name": "Python 3",
   "language": "python",
   "name": "python3"
  },
  "language_info": {
   "codemirror_mode": {
    "name": "ipython",
    "version": 3
   },
   "file_extension": ".py",
   "mimetype": "text/x-python",
   "name": "python",
   "nbconvert_exporter": "python",
   "pygments_lexer": "ipython3",
   "version": "3.7.3"
  }
 },
 "nbformat": 4,
 "nbformat_minor": 5
}
