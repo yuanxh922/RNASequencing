{
 "cells": [
  {
   "cell_type": "code",
   "execution_count": null,
   "id": "increased-expense",
   "metadata": {},
   "outputs": [],
   "source": [
    "import pandas as pd"
   ]
  },
  {
   "cell_type": "code",
   "execution_count": null,
   "id": "insured-exception",
   "metadata": {},
   "outputs": [],
   "source": [
    "%run ../modules/utils.ipynb\n",
    "%run ../modules/cds.ipynb\n",
    "%run ../modules/preprocessing.ipynb"
   ]
  },
  {
   "cell_type": "code",
   "execution_count": null,
   "id": "individual-break",
   "metadata": {},
   "outputs": [],
   "source": [
    "df_mix5_s1 = load_excel('/Users/xyuan/Documents/SeqDataSets/Ning1024/5mix_MFE.xlsx', '3-biotin')\n",
    "df_mix5_s2 = load_excel('/Users/xyuan/Documents/SeqDataSets/Ning1024/5mix_MFE.xlsx', '5-sulfo-Cy3')\n",
    "df_mix5_s1.shape, df_mix5_s2.shape"
   ]
  },
  {
   "cell_type": "code",
   "execution_count": null,
   "id": "caring-bubble",
   "metadata": {},
   "outputs": [],
   "source": [
    "fpath = \"/Users/xyuan/Documents/SeqDataSets/mix RNA MFE/13 MIX reading/12 mixures of 3-biotin/12 mixtures_3'-Biotin_MFE.xls\"\n",
    "# fpath = \"/Users/xyuan/Documents/SeqDataSets/Ning1024/12mixtures_3'-Biotin_MFE.xls\"\n",
    "df_mix12_s1 = load_excel(fpath, '12MIX')\n",
    "fpath = \"/Users/xyuan/Documents/SeqDataSets/mix RNA MFE/13 MIX reading/12 mixtures of 5-sulfo-Cy3/12 mixtures (5-sulfo-Cy3)_MFE.xlsx\"\n",
    "df_mix12_s2 = load_excel(fpath, '12mix')\n",
    "df_mix12_s1.shape, df_mix12_s2.shape"
   ]
  },
  {
   "cell_type": "code",
   "execution_count": null,
   "id": "round-wagner",
   "metadata": {},
   "outputs": [],
   "source": [
    "plotly_zone(df_mix12_s1, y='Vol')"
   ]
  },
  {
   "cell_type": "code",
   "execution_count": null,
   "id": "floppy-buddy",
   "metadata": {},
   "outputs": [],
   "source": [
    "# df_mix5_s1 = df_mix5_s1[(df_mix5_s1.RT<11)&(df_mix5_s1.Mass<1E4)].copy()\n",
    "# df_mix5_s2 = df_mix5_s2[(df_mix5_s2.RT<15)&(df_mix5_s2.Mass<1E4)].copy()\n",
    "# plotly_zone(df_mix5_s1)\n",
    "# plotly_zone(df_mix5_s2)\n",
    "\n",
    "df_mix12_s1 = df_mix12_s1[(df_mix12_s1.RT<15)].copy()\n",
    "df_mix12_s2 = df_mix12_s2[(df_mix12_s2.RT<15)].copy()\n",
    "plotly_zone(df_mix12_s1)\n",
    "plotly_zone(df_mix12_s2)"
   ]
  },
  {
   "cell_type": "code",
   "execution_count": null,
   "id": "worst-cartridge",
   "metadata": {},
   "outputs": [],
   "source": [
    "dfm = match_dfs(df_mix5_s1, df_mix12_s1)\n",
    "plotly_zone(dfm)\n",
    "dfm.shape"
   ]
  },
  {
   "cell_type": "code",
   "execution_count": null,
   "id": "exposed-proof",
   "metadata": {},
   "outputs": [],
   "source": [
    "# df_biotin3p = match_dfs(df_mix5_s2, df_mix5_s1, shift=694.2397+61.9557)\n",
    "# df_cy35p = match_dfs(df_mix5_s1, df_mix5_s2, shift=852.1934-H2O)\n",
    "\n",
    "df_biotin3p = match_dfs(df_mix12_s2, df_mix12_s1, shift=694.2397+61.9557)\n",
    "df_cy35p = match_dfs(df_mix12_s1, df_mix12_s2, shift=852.1934-H2O)"
   ]
  },
  {
   "cell_type": "code",
   "execution_count": null,
   "id": "impressed-refund",
   "metadata": {},
   "outputs": [],
   "source": [
    "plotly_zone(df_biotin3p)\n",
    "plotly_zone(df_cy35p)\n",
    "df_biotin3p.shape, df_cy35p.shape"
   ]
  },
  {
   "cell_type": "code",
   "execution_count": null,
   "id": "vocal-wrist",
   "metadata": {},
   "outputs": [],
   "source": [
    "# bio3_fullmass = 6954.9478 #7088.0479 #7522.068 #7079.051 # # #6781.0426 #  # # #\n",
    "bio3_fullmass = 6353.872 #10283.47 #7073.039\n",
    "shift = bio3_fullmass + 852.1934 - H2O\n",
    "cds = computational_data_seperation(df_biotin3p, df_cy35p, full_mass=shift)\n",
    "plotly_zones(*cds, names=['SulfoCy3 5´', 'Biotin 3´'])\n",
    "\n",
    "df_merge_5p3p = pd.concat([cds[0], cds[1]]).drop_duplicates()\n",
    "bcr = base_calling_random(df_merge_5p3p)\n",
    "plotly_basecalling(df_merge_5p3p, bcr[1])"
   ]
  },
  {
   "cell_type": "code",
   "execution_count": null,
   "id": "vocal-bobby",
   "metadata": {},
   "outputs": [],
   "source": [
    "\n"
   ]
  },
  {
   "cell_type": "code",
   "execution_count": null,
   "id": "affected-transportation",
   "metadata": {},
   "outputs": [],
   "source": []
  },
  {
   "cell_type": "code",
   "execution_count": null,
   "id": "twelve-border",
   "metadata": {},
   "outputs": [],
   "source": [
    "trna_path = '/Users/xyuan/Documents/SeqDataSets/tRNA/191126_sample analysis/191126s11_1000.xls'\n",
    "df_trna = load_excel(trna_path)\n",
    "df_trna.shape"
   ]
  },
  {
   "cell_type": "code",
   "execution_count": null,
   "id": "technological-density",
   "metadata": {},
   "outputs": [],
   "source": [
    "dfm = match_dfs(df_trna, df_trna, shift=694.2397)\n",
    "plotly_zone(dfm)"
   ]
  },
  {
   "cell_type": "code",
   "execution_count": null,
   "id": "separate-break",
   "metadata": {},
   "outputs": [],
   "source": []
  },
  {
   "cell_type": "code",
   "execution_count": null,
   "id": "acute-albany",
   "metadata": {},
   "outputs": [],
   "source": [
    "import multiprocessing\n",
    "from collections import namedtuple\n",
    "ShiftHit = namedtuple('ShiftHit', 'shift hit')\n",
    "\n",
    "def func(df_sample, shift):\n",
    "    dfm = match_dfs(df_sample, df_sample, shift=shift)\n",
    "    sh = ShiftHit(shift=shift, hit=dfm.shape[0])\n",
    "    return sh\n",
    "\n",
    "PROCESSES = 16\n",
    "params = [(df_trna, shift) for shift in np.arange(1, 100, 1)]\n",
    "# params = [(df_sample, shift) for shift in np.arange(1, 64, 0.1)]\n",
    "with multiprocessing.Pool(PROCESSES) as pool:\n",
    "    shift_hits = pool.starmap(func, params)\n",
    "\n",
    "df_shift_hits = pd.DataFrame(shift_hits)    "
   ]
  },
  {
   "cell_type": "code",
   "execution_count": null,
   "id": "southern-egypt",
   "metadata": {},
   "outputs": [],
   "source": []
  }
 ],
 "metadata": {
  "kernelspec": {
   "display_name": "Python 3",
   "language": "python",
   "name": "python3"
  },
  "language_info": {
   "codemirror_mode": {
    "name": "ipython",
    "version": 3
   },
   "file_extension": ".py",
   "mimetype": "text/x-python",
   "name": "python",
   "nbconvert_exporter": "python",
   "pygments_lexer": "ipython3",
   "version": "3.7.3"
  }
 },
 "nbformat": 4,
 "nbformat_minor": 5
}
