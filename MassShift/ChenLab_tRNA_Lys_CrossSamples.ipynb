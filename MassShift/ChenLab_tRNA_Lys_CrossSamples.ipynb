{
 "cells": [
  {
   "cell_type": "code",
   "execution_count": null,
   "id": "fewer-designer",
   "metadata": {},
   "outputs": [],
   "source": [
    "import pandas as pd"
   ]
  },
  {
   "cell_type": "code",
   "execution_count": null,
   "id": "correct-tours",
   "metadata": {},
   "outputs": [],
   "source": [
    "%run ../modules/utils.ipynb\n",
    "%run ../modules/cds.ipynb\n",
    "%run ../modules/preprocessing.ipynb"
   ]
  },
  {
   "cell_type": "code",
   "execution_count": null,
   "id": "isolated-mixture",
   "metadata": {},
   "outputs": [],
   "source": [
    "lys_path = '/Users/xyuan/Documents/ChenLab/10Jun2021/intact/3_A_Lys.xlsx'\n",
    "df_intact_wild1 = load_data(lys_path)\n",
    "lys_path = '/Users/xyuan/Documents/ChenLab/10Jun2021/intact/4_A_Lys_A.xlsx'\n",
    "df_intact_alkb1 = load_data(lys_path)\n",
    "df_intact_wild1.shape, df_intact_alkb1.shape"
   ]
  },
  {
   "cell_type": "code",
   "execution_count": null,
   "id": "rolled-sailing",
   "metadata": {},
   "outputs": [],
   "source": [
    "_, df_intact_alkb2_only = diff_dfs(df_intact_wild2, df_intact_alkb2)\n",
    "df_intact_alkb2_only.shape"
   ]
  },
  {
   "cell_type": "code",
   "execution_count": null,
   "id": "patient-military",
   "metadata": {},
   "outputs": [],
   "source": [
    "lys_path = '/Users/xyuan/Documents/ChenLab/10Jun2021/intact/9_B_Lys.xlsx'\n",
    "df_intact_wild2 = load_data(lys_path)\n",
    "lys_path = '/Users/xyuan/Documents/ChenLab/10Jun2021/intact/10_B_Lys_A.xlsx'\n",
    "df_intact_alkb2 = load_data(lys_path)\n",
    "df_intact_wild2.shape, df_intact_alkb2.shape"
   ]
  },
  {
   "cell_type": "code",
   "execution_count": null,
   "id": "disturbed-permit",
   "metadata": {},
   "outputs": [],
   "source": [
    "lys_path = '/Users/xyuan/Documents/ChenLab/10Jun2021/degraded/DrChen_tRNA_A_Lys_FA_15.xlsx'\n",
    "df_wild1 = load_data(lys_path)\n",
    "lys_path = '/Users/xyuan/Documents/ChenLab/10Jun2021/degraded/16_A_Lys_A.xlsx'\n",
    "df_alkb1 = load_data(lys_path)\n",
    "df_wild1.shape, df_alkb1.shape"
   ]
  },
  {
   "cell_type": "code",
   "execution_count": null,
   "id": "mathematical-arthritis",
   "metadata": {},
   "outputs": [],
   "source": [
    "df_wild1 = df_wild1[df_wild1.Mass>1500]\n",
    "df_alkb1 = df_alkb1[df_alkb1.Mass>1500]\n",
    "df_wild1.shape, df_alkb1.shape"
   ]
  },
  {
   "cell_type": "code",
   "execution_count": null,
   "id": "assumed-prisoner",
   "metadata": {},
   "outputs": [],
   "source": [
    "_, df_alkb1_only = diff_dfs(df_wild1, df_alkb1)\n",
    "df_alkb1_only.shape"
   ]
  },
  {
   "cell_type": "code",
   "execution_count": null,
   "id": "surface-longitude",
   "metadata": {},
   "outputs": [],
   "source": [
    "lys_path = '/Users/xyuan/Documents/ChenLab/10Jun2021/degraded/21_B_Lys.xlsx'\n",
    "df_wild2 = load_data(lys_path)\n",
    "lys_path = '/Users/xyuan/Documents/ChenLab/10Jun2021/degraded/22_B_Lys_A.xlsx'\n",
    "df_alkb2 = load_data(lys_path)\n",
    "df_wild2.shape, df_alkb2.shape"
   ]
  },
  {
   "cell_type": "code",
   "execution_count": null,
   "id": "spectacular-tunisia",
   "metadata": {},
   "outputs": [],
   "source": [
    "df_wild2 = df_wild2[df_wild2.Mass>1500]\n",
    "df_alkb2 = df_alkb2[df_alkb2.Mass>1500]"
   ]
  },
  {
   "cell_type": "code",
   "execution_count": null,
   "id": "italian-furniture",
   "metadata": {},
   "outputs": [],
   "source": [
    "df_comm_wild2, df_comm_alkb2 = comm_dfs(df_wild2, df_alkb2)\n",
    "df_comm_wild2.shape, df_comm_alkb2.shape"
   ]
  },
  {
   "cell_type": "code",
   "execution_count": null,
   "id": "south-outdoors",
   "metadata": {},
   "outputs": [],
   "source": [
    "df_wild2_top = df_wild2.sort_values('Vol', ascending=False).iloc[:1000]\n",
    "df_alkb2_top = df_alkb2.sort_values('Vol', ascending=False).iloc[:1000]"
   ]
  },
  {
   "cell_type": "code",
   "execution_count": null,
   "id": "australian-mumbai",
   "metadata": {},
   "outputs": [],
   "source": []
  },
  {
   "cell_type": "code",
   "execution_count": null,
   "id": "assumed-living",
   "metadata": {},
   "outputs": [],
   "source": [
    "plotly_zone(df_wild1)\n",
    "plotly_zone(df_alkb1)\n",
    "df_wild1.shape, df_alkb1.shape"
   ]
  },
  {
   "cell_type": "code",
   "execution_count": null,
   "id": "certified-portuguese",
   "metadata": {},
   "outputs": [],
   "source": [
    "dfm_comm_alkb2 = match_dfs(df_wild2, df_alkb2)\n",
    "dfm_comm_wild2 = match_dfs(df_alkb2, df_wild2)\n",
    "dfm_only_alkb2 = df_alkb2.drop(dfm_comm_alkb2.index)\n",
    "dfm_only_wild2 = df_wild2.drop(dfm_comm_wild2.index)"
   ]
  },
  {
   "cell_type": "code",
   "execution_count": null,
   "id": "administrative-lincoln",
   "metadata": {},
   "outputs": [],
   "source": [
    "import multiprocessing\n",
    "from collections import namedtuple\n",
    "ShiftHit = namedtuple('ShiftHit', 'shift hit')\n",
    "\n",
    "def func(df_s1, df_s2, shift):\n",
    "    dfm = match_dfs(df_s1, df_s2, shift=shift)\n",
    "    sh = ShiftHit(shift=shift, hit=dfm.shape[0])\n",
    "    return sh\n",
    "\n",
    "PROCESSES = 8\n",
    "# params = [(df_intact_wild2, df_intact_alkb2_only, shift) for shift in np.arange(-64, 64, 1)]\n",
    "params = [(df_wild1, df_alkb1, shift) for shift in np.arange(-64, 64, 1)]\n",
    "# params = [(df_comm_wild2, df_comm_wild2, shift) for shift in np.arange(1, 64, 1)]\n",
    "# params = [(df_wild2, df_alkb2, shift) for shift in np.arange(1, 100, 1)]\n",
    "# params = [(df_sample, shift) for shift in np.arange(1, 64, 0.1)]\n",
    "with multiprocessing.Pool(PROCESSES) as pool:\n",
    "    shift_hits = pool.starmap(func, params)\n",
    "\n",
    "df_shift_hits = pd.DataFrame(shift_hits)    "
   ]
  },
  {
   "cell_type": "code",
   "execution_count": null,
   "id": "different-default",
   "metadata": {},
   "outputs": [],
   "source": [
    "fig = px.scatter(df_shift_hits, x='shift', y='hit', labels={'shift': 'Mass Shift', 'hit': 'Hit Count'})\n",
    "fig.show()"
   ]
  },
  {
   "cell_type": "code",
   "execution_count": null,
   "id": "alpine-orbit",
   "metadata": {},
   "outputs": [],
   "source": [
    "df_shift_hits.sort_values('hit', ascending=False).reset_index(drop=True).iloc[:10].copy()"
   ]
  },
  {
   "cell_type": "code",
   "execution_count": null,
   "id": "descending-rachel",
   "metadata": {},
   "outputs": [],
   "source": [
    "df_sh1 = df_shift_hits.copy()\n",
    "# df_sh2 = df_shift_hits.copy()"
   ]
  },
  {
   "cell_type": "code",
   "execution_count": null,
   "id": "distinct-zoning",
   "metadata": {},
   "outputs": [],
   "source": [
    "df_sample = df_comm_wild2.copy()"
   ]
  },
  {
   "cell_type": "code",
   "execution_count": null,
   "id": "native-kentucky",
   "metadata": {},
   "outputs": [],
   "source": [
    "shift = Na\n",
    "df_shift_na_l = match_dfs(df_sample, df_sample, shift=-1*shift)\n",
    "df_shift_na_r = match_dfs(df_sample, df_sample, shift=shift)\n",
    "shift = K\n",
    "df_shift_k_l = match_dfs(df_sample, df_sample, shift=-1*shift)\n",
    "df_shift_k_r = match_dfs(df_sample, df_sample, shift=shift)\n",
    "df_shift_na_l.shape, df_shift_na_r.shape, df_shift_k_l.shape, df_shift_k_r.shape"
   ]
  },
  {
   "cell_type": "code",
   "execution_count": null,
   "id": "julian-warning",
   "metadata": {},
   "outputs": [],
   "source": [
    "shift = -1*M\n",
    "df_shift_l = match_dfs(df_sample, df_sample, shift=-1*shift)\n",
    "df_shift_r = match_dfs(df_sample, df_sample, shift=shift)"
   ]
  },
  {
   "cell_type": "code",
   "execution_count": null,
   "id": "wired-smile",
   "metadata": {},
   "outputs": [],
   "source": [
    "shift = M\n",
    "dfm_l = match_dfs(df_wild2, dfm_only_alkb2, shift=-1*shift)\n",
    "dfm_r = match_dfs(dfm_only_alkb2, df_wild2, shift=shift)"
   ]
  },
  {
   "cell_type": "code",
   "execution_count": null,
   "id": "forced-treasury",
   "metadata": {},
   "outputs": [],
   "source": [
    "plotly_zones(df_shift_l, df_shift_r)"
   ]
  },
  {
   "cell_type": "code",
   "execution_count": null,
   "id": "dying-cambodia",
   "metadata": {},
   "outputs": [],
   "source": [
    "bcr = base_calling_random(df_shift_l, base_only=False)\n",
    "plotly_basecalling(*bcr)\n",
    "bcr = base_calling_random(df_shift_r, base_only=False)\n",
    "plotly_basecalling(*bcr)"
   ]
  },
  {
   "cell_type": "code",
   "execution_count": null,
   "id": "excited-charm",
   "metadata": {},
   "outputs": [],
   "source": []
  }
 ],
 "metadata": {
  "kernelspec": {
   "display_name": "Python 3",
   "language": "python",
   "name": "python3"
  },
  "language_info": {
   "codemirror_mode": {
    "name": "ipython",
    "version": 3
   },
   "file_extension": ".py",
   "mimetype": "text/x-python",
   "name": "python",
   "nbconvert_exporter": "python",
   "pygments_lexer": "ipython3",
   "version": "3.7.3"
  }
 },
 "nbformat": 4,
 "nbformat_minor": 5
}
