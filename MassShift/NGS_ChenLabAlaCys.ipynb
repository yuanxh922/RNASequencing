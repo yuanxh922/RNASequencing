{
 "cells": [
  {
   "cell_type": "code",
   "execution_count": null,
   "id": "overall-wireless",
   "metadata": {},
   "outputs": [],
   "source": [
    "import pandas as pd"
   ]
  },
  {
   "cell_type": "code",
   "execution_count": null,
   "id": "copyrighted-gibson",
   "metadata": {},
   "outputs": [],
   "source": [
    "%run ../modules/utils.ipynb\n",
    "%run ../modules/cds.ipynb\n",
    "%run ../modules/preprocessing.ipynb\n",
    "\n",
    "%run ../modules/paper_figures.ipynb"
   ]
  },
  {
   "cell_type": "code",
   "execution_count": null,
   "id": "located-prediction",
   "metadata": {},
   "outputs": [],
   "source": [
    "import time"
   ]
  },
  {
   "cell_type": "code",
   "execution_count": null,
   "id": "generic-barrier",
   "metadata": {},
   "outputs": [],
   "source": [
    "path = '/Users/xyuan/Documents/ChenLab/10Jun2021/degraded/23_t_Cys.xlsx'\n",
    "df_wild = load_data(path)\n",
    "path = '/Users/xyuan/Documents/ChenLab/10Jun2021/degraded/24_t_Cys_A.xlsx'\n",
    "df_alkb = load_data(path)\n",
    "df_wild.shape, df_alkb.shape"
   ]
  },
  {
   "cell_type": "code",
   "execution_count": null,
   "id": "supported-opposition",
   "metadata": {},
   "outputs": [],
   "source": [
    "# path = '~/Studio/seq_bank/data/cys/ala_AGC1.xlsx'\n",
    "# path = '~/Studio/seq_bank/data/cys/ala_AGC1_5p.xlsx'\n",
    "# path = '~/Studio/seq_bank/data/cys/ala_AGC1_3p.xlsx'\n",
    "# path = '~/Studio/seq_bank/data/cys/ala_AGC2_5p.xlsx'\n",
    "path = '~/Studio/seq_bank/data/cys/ala_AGC2_3p.xlsx'\n",
    "# path = '~/Studio/seq_bank/data/cys/ala_CGC1_3p.xlsx'\n",
    "# path = '~/Studio/seq_bank/data/cys/ala_TGC1_3p.xlsx'\n",
    "\n",
    "# path = '~/Studio/seq_bank/data/cys/cys_GCA1.xlsx'\n",
    "# path = '~/Studio/seq_bank/data/cys/cys_GCA1_5p.xlsx'\n",
    "# path = '~/Studio/seq_bank/data/cys/cys_GCA1_3p.xlsx'\n",
    "df_ngs1 = load_data(path)\n",
    "\n",
    "ala_agc1_5p = 'GGGGGUGUAGCUCAGUGGUAGAGCGCGUGCUUAGCAUGCACGAGGCCCUGGGUUCGAUCCCCAGCACCUCCACCA'\n",
    "ala_agc1_3p = ala_agc1_5p[::-1]\n",
    "ala_agc2_5p = 'GGGGAUGUAGCUCAGUGGUAGAGCGCAUGCUUAGCAUGCAUGAGGUCCUGGGUUCGAUCCCCAGCAUCUCCACCA'\n",
    "ala_agc2_3p = ala_agc2_5p[::-1]\n",
    "ala_cgc1_5p = 'GGGGAUGUAGCUCAGUGGUAGAGCGCAUGCUUCGCAUGUAUGAGGCCCCGGGUUCGAUCCCCGGCAUCUCCACCA'\n",
    "ala_cgc1_3p = ala_cgc1_5p[::-1]\n",
    "ala_tgc1_5p = 'GGGGGUGUAGCUCAGUGGUAGAGCGCAUGCUUUGCAUGCAUGAGGCCCCGGGUUCGAUCCCCGGCACCUCCACCA'\n",
    "ala_tgc1_3p = ala_tgc1_5p[::-1]\n",
    "\n",
    "cys_gca1_5p = 'GGGGGUAUAGCUCAGUGGUAGAGCAUUUGACUGCAGAUCAAGAGGUCCCCGGUUCAAAUCCGGGUGCCCCCUCCA'\n",
    "cys_gca1_3p = cys_gca1_5p[::-1]\n",
    "\n",
    "ngs_seq = ala_agc2_3p"
   ]
  },
  {
   "cell_type": "code",
   "execution_count": null,
   "id": "korean-wichita",
   "metadata": {},
   "outputs": [],
   "source": []
  },
  {
   "cell_type": "code",
   "execution_count": null,
   "id": "latter-treatment",
   "metadata": {},
   "outputs": [],
   "source": [
    "df_sample = df_ngs1\n",
    "plotly_zone(df_sample, y='RT')\n",
    "df_sample.shape\n",
    "df_ngs1.head()\n",
    "# bcr = base_calling_random(df_ngs1)\n",
    "# plotly_basecalling(*bcr)\n",
    "# print(bcr[1])\n",
    "\n",
    "df_ngs = df_ngs1.copy()\n",
    "df_ngs['Base'] = list(ngs_seq)\n",
    "df_ngs['Idx'] = 75-np.array(df_ngs.index)\n",
    "df_ngs"
   ]
  },
  {
   "cell_type": "code",
   "execution_count": null,
   "id": "supported-beatles",
   "metadata": {},
   "outputs": [],
   "source": [
    "df_ngs[['Mass', 'Base', 'Idx']].to_excel('~/Downloads/tmp.xlsx')"
   ]
  },
  {
   "cell_type": "code",
   "execution_count": null,
   "id": "developing-negotiation",
   "metadata": {},
   "outputs": [],
   "source": [
    "df_wild_sample = local_top(df_wild, top=20)\n",
    "df_alkb_sample = local_top(df_alkb, top=20)\n",
    "# df_wild_sample = df_wild.copy()\n",
    "# df_alkb_sample = df_wild.copy()\n",
    "df_wild_sample.shape, df_alkb_sample.shape"
   ]
  },
  {
   "cell_type": "code",
   "execution_count": null,
   "id": "brazilian-remainder",
   "metadata": {},
   "outputs": [],
   "source": [
    "import multiprocessing\n",
    "from collections import namedtuple\n",
    "ShiftHit = namedtuple('ShiftHit', 'shift hit')\n",
    "\n",
    "def func(df_s1, df_s2, shift):\n",
    "    dfm = match_dfs(df_s1, df_s2, shift=shift)\n",
    "    sh = ShiftHit(shift=shift, hit=dfm.shape[0])\n",
    "    return sh\n",
    "\n",
    "PROCESSES = 8\n",
    "params = [(df_ngs, df_wild_sample, shift) for shift in np.arange(0, 160, 0.1)]\n",
    "# params = [(df_wild_sample, df_wild_sample, shift) for shift in np.arange(-300, 300, 1)]\n",
    "with multiprocessing.Pool(PROCESSES) as pool:\n",
    "    shift_hits = pool.starmap(func, params)\n",
    "\n",
    "df_shift_hits = pd.DataFrame(shift_hits)"
   ]
  },
  {
   "cell_type": "code",
   "execution_count": null,
   "id": "chemical-guide",
   "metadata": {},
   "outputs": [],
   "source": [
    "# shift_hits"
   ]
  },
  {
   "cell_type": "code",
   "execution_count": null,
   "id": "sophisticated-driving",
   "metadata": {},
   "outputs": [],
   "source": [
    "fig = px.scatter(df_shift_hits[df_shift_hits.hit<df_shift_hits.shape[0]], x='shift', y='hit', labels={'shift': 'Mass Shift', 'hit': 'Hit Count'})\n",
    "fig.show()"
   ]
  },
  {
   "cell_type": "code",
   "execution_count": null,
   "id": "caroline-scope",
   "metadata": {},
   "outputs": [],
   "source": [
    "# shifts = [-60, 0, 13, 27, 41.1, 42]\n",
    "# df_sh_top = df_shift_hits[df_shift_hits['shift']>=1].sort_values('hit', ascending=False).iloc[:10]\n",
    "df_sh_top = df_shift_hits[df_shift_hits.hit>4]\n",
    "shifts = df_sh_top['shift']\n",
    "df_sh_top.shape"
   ]
  },
  {
   "cell_type": "code",
   "execution_count": null,
   "id": "revolutionary-extra",
   "metadata": {},
   "outputs": [],
   "source": [
    "shifts = [0, 14, 28, 42, 56, 70, 84, 98]"
   ]
  },
  {
   "cell_type": "code",
   "execution_count": null,
   "id": "advisory-burning",
   "metadata": {},
   "outputs": [],
   "source": [
    "# find out data points which can generate base calling\n",
    "def func(df_s1, df_s2, shift):\n",
    "    _, df = peer_dfs(df_s1, df_s2, shift=shift)\n",
    "    \n",
    "#     grps = basecalling_groups(df)\n",
    "#     if grps[0][0].shape[0] <= 5:\n",
    "#         return pd.DataFrame()\n",
    "    bcr = base_calling_random(df, base_only=True)\n",
    "#     dfms.append(bcr[0])\n",
    "    \n",
    "    df = bcr[0].copy()\n",
    "    df['Shift'] = shift\n",
    "    return df\n",
    "\n",
    "PROCESSES = 8\n",
    "params = [(df_ngs, df_wild_sample, shift) for shift in shifts]\n",
    "with multiprocessing.Pool(PROCESSES) as pool:\n",
    "    df_basecallings = pool.starmap(func, params)\n",
    "\n",
    "df_hits = pd.concat(df_basecallings).drop_duplicates()\n",
    "df_hits.shape"
   ]
  },
  {
   "cell_type": "code",
   "execution_count": null,
   "id": "executive-efficiency",
   "metadata": {},
   "outputs": [],
   "source": [
    "def valid_shifted_pairs(df_baseline, pairs):\n",
    "    return [pair for pair in pairs if valid_shifted_pair(df_baseline, pair)]\n",
    "\n",
    "def valid_shifted_pair(df_baseline, pair):\n",
    "    \"\"\"given a baseline sequence, and a basecalling pair, check if this pair \n",
    "    is somehow shifted from baseline sequence.\n",
    "    Param df_baseline: a baseline sequence\n",
    "    Param pair: an tuple like (mass1, mass2, nucleobase)\n",
    "    \n",
    "    Return: bool value. if pair valid or not\n",
    "    \"\"\"\n",
    "    mass = pair[0]\n",
    "    max_shift = 150\n",
    "    baseline_base = df_baseline[(df_baseline.Mass>mass-max_shift)&(df_baseline.Mass<mass+max_shift)] \n",
    "#     print(baseline_base[:1].Base.iloc[0], type(baseline_base[:1].Base.iloc[0]))\n",
    "    base = baseline_base[:1].Base.iloc[0] if not baseline_base.empty else ''\n",
    "    observed_base = pair[2]\n",
    "#     print(base, observed_base)\n",
    "    return base in observed_base"
   ]
  },
  {
   "cell_type": "code",
   "execution_count": null,
   "id": "intermediate-champion",
   "metadata": {},
   "outputs": [],
   "source": [
    "df_hits.to_excel('~/Downloads/hits_ala_tgc1.xlsx')"
   ]
  },
  {
   "cell_type": "code",
   "execution_count": null,
   "id": "acceptable-accident",
   "metadata": {},
   "outputs": [],
   "source": [
    "plotly_zones(df_wild_sample, df_hits)\n",
    "# df_hits.head()\n",
    "# plotly_zone(df_ngs1)\n",
    "plotly_zone(df_hits, y='Shift')\n",
    "df_hits.shape"
   ]
  },
  {
   "cell_type": "markdown",
   "id": "linear-diploma",
   "metadata": {},
   "source": []
  },
  {
   "cell_type": "code",
   "execution_count": null,
   "id": "loved-raise",
   "metadata": {},
   "outputs": [],
   "source": [
    "# plotly_zone(df_hits)\n",
    "# df_hits.shape\n",
    "\n",
    "l, h = 100, 25000\n",
    "bcr = base_calling_random(df_hits[(df_hits.Mass>l)&(df_hits.Mass<h)])\n",
    "plot_basecalling(*bcr, figsize=(24, 18))\n",
    "# pairs = valid_shifted_pairs(df_ngs, bcr[1])\n",
    "# plotly_basecalling(bcr[0], pairs)"
   ]
  },
  {
   "cell_type": "code",
   "execution_count": null,
   "id": "compressed-ambassador",
   "metadata": {},
   "outputs": [],
   "source": [
    "grps = basecalling_groups(df_hits)"
   ]
  },
  {
   "cell_type": "code",
   "execution_count": null,
   "id": "considerable-pointer",
   "metadata": {},
   "outputs": [],
   "source": [
    "plotly_basecalling(*grps[0])\n",
    "\n",
    "# for i in range(len(dfms)):\n",
    "#     dft = dfms[i]\n",
    "#     bcr = base_calling_random(dft)\n",
    "#     plotly_basecalling(dft, bcr[1])\n",
    "#     time.sleep(1)"
   ]
  },
  {
   "cell_type": "code",
   "execution_count": null,
   "id": "advanced-jordan",
   "metadata": {},
   "outputs": [],
   "source": [
    "shift = 100\n",
    "\n",
    "dfm_l, _ = peer_dfs(df_wild_sample, df_wild_sample, shift=shift)\n",
    "plotly_zone(dfm_l)"
   ]
  },
  {
   "cell_type": "code",
   "execution_count": null,
   "id": "separated-renewal",
   "metadata": {},
   "outputs": [],
   "source": [
    "dfm_l.shape"
   ]
  },
  {
   "cell_type": "code",
   "execution_count": null,
   "id": "sophisticated-batch",
   "metadata": {},
   "outputs": [],
   "source": []
  }
 ],
 "metadata": {
  "kernelspec": {
   "display_name": "Python 3",
   "language": "python",
   "name": "python3"
  },
  "language_info": {
   "codemirror_mode": {
    "name": "ipython",
    "version": 3
   },
   "file_extension": ".py",
   "mimetype": "text/x-python",
   "name": "python",
   "nbconvert_exporter": "python",
   "pygments_lexer": "ipython3",
   "version": "3.7.3"
  }
 },
 "nbformat": 4,
 "nbformat_minor": 5
}
