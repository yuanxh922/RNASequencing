{
 "cells": [
  {
   "cell_type": "code",
   "execution_count": null,
   "id": "sophisticated-science",
   "metadata": {},
   "outputs": [],
   "source": [
    "import pandas as pd"
   ]
  },
  {
   "cell_type": "code",
   "execution_count": null,
   "id": "better-processor",
   "metadata": {},
   "outputs": [],
   "source": [
    "%run ../modules/utils.ipynb\n",
    "%run ../modules/cds.ipynb\n",
    "%run ../modules/preprocessing.ipynb"
   ]
  },
  {
   "cell_type": "code",
   "execution_count": null,
   "id": "instructional-memphis",
   "metadata": {},
   "outputs": [],
   "source": [
    "df_glu_217_5p = pd.read_excel('~/Studio/tools/glu_24217_5p_6mG.xlsx')\n",
    "df_glu_217_3p = pd.read_excel('~/Studio/tools/glu_24217_3p_6mG.xlsx')\n",
    "df_glu_217_5p.shape, df_glu_217_3p.shape"
   ]
  },
  {
   "cell_type": "code",
   "execution_count": null,
   "id": "fresh-opposition",
   "metadata": {},
   "outputs": [],
   "source": [
    "gln_path = '/Users/xyuan/Documents/BioPharmaFinder/BaoLab/FirstBatch/Excels/S2to5combined_20ul_40min.xlsx'\n",
    "df_mock = load_data(gln_path)\n",
    "gln_path = '/Users/xyuan/Documents/BioPharmaFinder/BaoLab/FirstBatch/Excels/S6to10combined_20ul_40min.xlsx'\n",
    "df_rsv = load_data(gln_path)\n",
    "df_mock.shape, df_rsv.shape"
   ]
  },
  {
   "cell_type": "code",
   "execution_count": null,
   "id": "mysterious-slave",
   "metadata": {},
   "outputs": [],
   "source": [
    "gln_path = '/Users/xyuan/Documents/BioPharmaFinder/BaoLab/SecondBatch/OE240_UTMB_Mock_5ul_9min_IPM_LP_420to2k_21Dec2020.xlsx'\n",
    "df_mock2 = load_data(gln_path)\n",
    "gln_path = '/Users/xyuan/Documents/BioPharmaFinder/BaoLab/SecondBatch/OE240_UTMB_RSV_5ul_9min_IPM_LP_420to2k_21Dec2020.xlsx'\n",
    "df_rsv2 = load_data(gln_path)\n",
    "df_mock2_only, df_rsv2_only = diff_dfs(df_mock2, df_rsv2)\n",
    "df_mock2.shape, df_rsv2.shape"
   ]
  },
  {
   "cell_type": "code",
   "execution_count": null,
   "id": "mental-confusion",
   "metadata": {},
   "outputs": [],
   "source": [
    "fpath = '/Users/xyuan/Documents/BioPharmaFinder/BaoLab/FirstBatch/Excels/UTMB1.xlsx'\n",
    "df_intact_mock = load_data(fpath)\n",
    "fpath = '/Users/xyuan/Documents/BioPharmaFinder/BaoLab/FirstBatch/Excels/UTMB6.xlsx'\n",
    "df_intact_rsv = load_data(fpath)\n",
    "\n",
    "df_intact_mock = df_intact_mock[(df_intact_mock.Mass>24000)&(df_intact_mock.Mass<24600)]\n",
    "df_intact_rsv = df_intact_rsv[(df_intact_rsv.Mass>24000)&(df_intact_rsv.Mass<24600)]"
   ]
  },
  {
   "cell_type": "code",
   "execution_count": null,
   "id": "reasonable-destination",
   "metadata": {},
   "outputs": [],
   "source": [
    "df_mock_24k = df_mock[(df_mock.Mass>24000)&(df_mock.Mass<24500)]\n",
    "df_rsv_24k = df_rsv[(df_rsv.Mass>24000)&(df_rsv.Mass<24500)]\n",
    "df_mock_24k_only, df_rsv_24k_only = diff_dfs(df_mock_24k, df_rsv_24k)"
   ]
  },
  {
   "cell_type": "code",
   "execution_count": null,
   "id": "hungarian-kenya",
   "metadata": {},
   "outputs": [],
   "source": [
    "_, df_only_intact_rsv = diff_dfs(df_intact_mock, df_intact_rsv)"
   ]
  },
  {
   "cell_type": "code",
   "execution_count": null,
   "id": "previous-municipality",
   "metadata": {},
   "outputs": [],
   "source": [
    "# plotly_zone(df_intact_mock, y='Vol')\n",
    "# plotly_zone(df_intact_rsv, y='Vol')\n",
    "\n",
    "# plotly_zone(df_mock_24k_only, y='Vol')\n",
    "\n",
    "df_glu_217_5p\n",
    "# plot_zones(df_mock, df_rsv, y='RT')"
   ]
  },
  {
   "cell_type": "code",
   "execution_count": null,
   "id": "blank-salvation",
   "metadata": {},
   "outputs": [],
   "source": [
    "df_mock = df_mock[df_mock.Mass>1500]\n",
    "df_rsv = df_rsv[df_rsv.Mass>1500]"
   ]
  },
  {
   "cell_type": "code",
   "execution_count": null,
   "id": "defensive-audience",
   "metadata": {},
   "outputs": [],
   "source": [
    "# df_mock.describe(percentiles=[.75])\n",
    "df_mock.Vol.quantile(.75)"
   ]
  },
  {
   "cell_type": "code",
   "execution_count": null,
   "id": "drawn-cooling",
   "metadata": {},
   "outputs": [],
   "source": [
    "df_mock_sample = df_mock#[df_mock.Vol>df_mock.Vol.quantile(.75)].copy()\n",
    "df_rsv_sample = df_rsv#[df_rsv.Vol>df_rsv.Vol.quantile(.75)].copy()\n",
    "df_mock_sample.shape, df_rsv_sample.shape"
   ]
  },
  {
   "cell_type": "code",
   "execution_count": null,
   "id": "empty-adoption",
   "metadata": {},
   "outputs": [],
   "source": [
    "plotly_zone(df_rsv2, y='RT')\n",
    "# plotly_zone(df_rsv, y='Vol')\n",
    "# df_mock.shape, df_rsv.shape"
   ]
  },
  {
   "cell_type": "code",
   "execution_count": null,
   "id": "hydraulic-teens",
   "metadata": {},
   "outputs": [],
   "source": [
    "bcr = base_calling_random(df_rsv2, base_only=True)\n",
    "plotly_basecalling(df_rsv2, bcr[1])"
   ]
  },
  {
   "cell_type": "code",
   "execution_count": null,
   "id": "accredited-shopper",
   "metadata": {},
   "outputs": [],
   "source": [
    "dfm_comm_rsv = match_dfs(df_mock, df_rsv)\n",
    "dfm_comm_mock = match_dfs(df_rsv, df_mock)\n",
    "dfm_only_rsv = df_rsv.drop(dfm_comm_rsv.index)\n",
    "dfm_only_mock = df_mock.drop(dfm_comm_mock.index)"
   ]
  },
  {
   "cell_type": "code",
   "execution_count": null,
   "id": "alert-participant",
   "metadata": {},
   "outputs": [],
   "source": [
    "df_mock_top = local_top(df_mock)\n",
    "df_rsv_top = local_top(df_rsv)\n",
    "df_mock_top.shape, df_rsv_top.shape"
   ]
  },
  {
   "cell_type": "code",
   "execution_count": null,
   "id": "corrected-delay",
   "metadata": {},
   "outputs": [],
   "source": [
    "_, df_rsv_top_only = diff_dfs(df_mock_top, df_rsv_top)"
   ]
  },
  {
   "cell_type": "code",
   "execution_count": null,
   "id": "thorough-corps",
   "metadata": {},
   "outputs": [],
   "source": [
    "_, df_rsv_sample_only = diff_dfs(df_mock_sample, df_rsv_sample)\n",
    "df_rsv_sample_only.shape"
   ]
  },
  {
   "cell_type": "code",
   "execution_count": null,
   "id": "tough-garbage",
   "metadata": {},
   "outputs": [],
   "source": [
    "# remove adducts from df_mock\n",
    "adducts = [K, Na]\n",
    "dfm_adducts_list = list()\n",
    "for adduct in adducts:\n",
    "    dfm_r = match_dfs(df_mock, df_mock, shift=adduct)\n",
    "    dfm_adducts_list.append(dfm_r)\n",
    "dfm_adducts = pd.concat(dfm_adducts_list).drop_duplicates()\n",
    "df_mock_without_adducts = df_mock.drop(dfm_adducts.index)"
   ]
  },
  {
   "cell_type": "code",
   "execution_count": null,
   "id": "informational-elimination",
   "metadata": {},
   "outputs": [],
   "source": [
    "# remove adducts from df_rsv\n",
    "adducts = [K, Na]\n",
    "dfm_adducts_list = list()\n",
    "for adduct in adducts:\n",
    "    dfm_r = match_dfs(df_rsv, df_rsv, shift=adduct)\n",
    "    dfm_adducts_list.append(dfm_r)\n",
    "dfm_adducts = pd.concat(dfm_adducts_list).drop_duplicates()\n",
    "df_rsv_without_adducts = df_rsv.drop(dfm_adducts.index)"
   ]
  },
  {
   "cell_type": "code",
   "execution_count": null,
   "id": "prescription-brighton",
   "metadata": {},
   "outputs": [],
   "source": [
    "df_mock_sample = local_top(df_mock_without_adducts, top=3)\n",
    "df_rsv_sample = local_top(df_rsv_without_adducts, top=3)\n",
    "df_mock_sample.shape, df_rsv_sample.shape"
   ]
  },
  {
   "cell_type": "code",
   "execution_count": null,
   "id": "restricted-laptop",
   "metadata": {},
   "outputs": [],
   "source": [
    "_, df_rsv_sample_only = diff_dfs(df_mock_sample, df_rsv_sample)\n",
    "df_rsv_sample_only.shape"
   ]
  },
  {
   "cell_type": "code",
   "execution_count": null,
   "id": "brave-mystery",
   "metadata": {},
   "outputs": [],
   "source": [
    "import multiprocessing\n",
    "from collections import namedtuple\n",
    "ShiftHit = namedtuple('ShiftHit', 'shift hit')\n",
    "\n",
    "def func(df_s1, df_s2, shift):\n",
    "    dfm = match_dfs(df_s1, df_s2, shift=shift)\n",
    "    sh = ShiftHit(shift=shift, hit=dfm.shape[0])\n",
    "    return sh\n",
    "\n",
    "PROCESSES = 16\n",
    "\n",
    "# params = [(df_intact_rsv, df_intact_rsv, shift) for shift in np.arange(0, 300, 1)]\n",
    "# params = [(df_glu_217_5p, df_rsv2, shift) for shift in np.arange(-300, 300, 1)]\n",
    "# params = [(df_mock2, df_rsv2_only, shift) for shift in np.arange(-64, 64, 1)]\n",
    "params = [(df_mock_sample, df_rsv_sample_only, shift) for shift in np.arange(-64, 64, 1)]\n",
    "# params = [(df_mock, df_rsv, shift) for shift in np.arange(1, 300, 1)]\n",
    "# params = [(df_mock_top, df_rsv_top_only, shift) for shift in np.arange(-64, 64, 1)]\n",
    "# params = [(df_mock, dfm_only_rsv, shift) for shift in np.arange(-64, 64, 1)]\n",
    "# params = [(df_sample, shift) for shift in np.arange(1, 64, 0.1)]\n",
    "with multiprocessing.Pool(PROCESSES) as pool:\n",
    "    shift_hits = pool.starmap(func, params)\n",
    "\n",
    "df_shift_hits = pd.DataFrame(shift_hits)    "
   ]
  },
  {
   "cell_type": "code",
   "execution_count": null,
   "id": "enclosed-partnership",
   "metadata": {},
   "outputs": [],
   "source": [
    "fig = px.scatter(df_shift_hits[df_shift_hits.hit<200], x='shift', y='hit', labels={'shift': 'Mass Shift', 'hit': 'Hit Count'})\n",
    "fig.show()"
   ]
  },
  {
   "cell_type": "code",
   "execution_count": null,
   "id": "found-pizza",
   "metadata": {},
   "outputs": [],
   "source": [
    "med_hit = df_shift_hits.hit.max() / 2\n",
    "df_hm_top = df_shift_hits[df_shift_hits.hit > med_hit]\n",
    "df_hm_top = df_hm_top.sort_values('hit', ascending=False)\n",
    "df_hm_top"
   ]
  },
  {
   "cell_type": "code",
   "execution_count": null,
   "id": "lovely-floating",
   "metadata": {},
   "outputs": [],
   "source": [
    "def func_count_basecallings(shift, df_s1, df_s2):\n",
    "    dfm_l, dfm_r = peer_dfs(df_s1, df_s2, shift=shift)\n",
    "    df = dfm_l if dfm_l.shape[0] < dfm_r.shape[0] else dfm_r\n",
    "    bcr = base_calling_random(df)\n",
    "    return len(bcr[1])\n",
    "\n",
    "def func_longest_ladder(shift, df_s1, df_s2):\n",
    "    dfm_l, dfm_r = peer_dfs(df_s1, df_s2, shift=shift)\n",
    "    df = dfm_l if dfm_l.shape[0] < dfm_r.shape[0] else dfm_r\n",
    "    groups = basecalling_groups(df)\n",
    "    return len(groups[0][1]) if groups else 0\n",
    "\n",
    "df_s1 = df_wild_sample.copy()\n",
    "df_s2 = df_alkb_sample.copy()\n",
    "df_sh_top = df_shift_hits.sort_values('hit', ascending=False).iloc[0:10].copy()\n",
    "df_sh_top['basecallings'] = df_sh_top.apply(\n",
    "    lambda x: func_count_basecallings(x['shift'], df_s1, df_s2), axis=1)\n",
    "df_sh_top['longestladder'] = df_sh_top.apply(\n",
    "    lambda x: func_longest_ladder(x['shift'], df_s1, df_s2), axis=1)\n",
    "df_sh_top"
   ]
  },
  {
   "cell_type": "code",
   "execution_count": null,
   "id": "inside-xerox",
   "metadata": {},
   "outputs": [],
   "source": [
    "def func_count_basecallings(shift, df_s1, df_s2):\n",
    "    dfm_l, dfm_r = peer_dfs(df_s1, df_s2, shift=shift)\n",
    "    df = dfm_l if dfm_l.shape[0] < dfm_r.shape[0] else dfm_r\n",
    "    bcr = base_calling_random(df)\n",
    "    return len(bcr[1])\n",
    "\n",
    "def func_longest_ladder(shift, df_s1, df_s2):\n",
    "    dfm_l, dfm_r = peer_dfs(df_s1, df_s2, shift=shift)\n",
    "    df = dfm_l if dfm_l.shape[0] < dfm_r.shape[0] else dfm_r\n",
    "    groups = basecalling_groups(df)\n",
    "    return len(groups[0][1]) if groups else 0\n",
    "\n",
    "df_s1 = df_mock_sample.copy()\n",
    "df_s2 = df_rsv_sample.copy()\n",
    "df_sh_top = df_shift_hits.sort_values('hit', ascending=False).iloc[0:10].copy()\n",
    "df_sh_top['basecallings'] = df_sh_top.apply(\n",
    "    lambda x: func_count_basecallings(x['shift'], df_s1, df_s2), axis=1)\n",
    "df_sh_top['longestladder'] = df_sh_top.apply(\n",
    "    lambda x: func_longest_ladder(x['shift'], df_s1, df_s2), axis=1)\n",
    "df_sh_top"
   ]
  },
  {
   "cell_type": "code",
   "execution_count": null,
   "id": "enclosed-subcommittee",
   "metadata": {},
   "outputs": [],
   "source": [
    "shift = -14\n",
    "dfm_base_l, dfm_base_r = peer_dfs(df_mock_sample, df_rsv_sample, shift=0)\n",
    "# dfm_l, dfm_r = peer_dfs(df_mock_sample, df_rsv_sample, shift=shift)\n",
    "# dfm_l, dfm_r = peer_dfs(df_mock_sample, df_mock_sample, shift=shift)\n",
    "dfm_l, dfm_r = peer_dfs(df_rsv_sample, df_rsv_sample, shift=shift)\n",
    "# dfm_l.shape, dfm_r.shape\n",
    "plotly_zones(dfm_base_l, dfm_l)\n",
    "bcr = base_calling_random(dfm_l)\n",
    "plotly_basecalling(dfm_l, bcr[1], y='RT')\n",
    "bcr = base_calling_random(dfm_r)\n",
    "plotly_basecalling(dfm_r, bcr[1], y='RT')"
   ]
  },
  {
   "cell_type": "code",
   "execution_count": null,
   "id": "formed-pregnancy",
   "metadata": {},
   "outputs": [],
   "source": [
    "# df_sh_mock2rsv = df_shift_hits.copy()\n",
    "df_sh_intact_mock2rsv = df_shift_hits.copy()"
   ]
  },
  {
   "cell_type": "code",
   "execution_count": null,
   "id": "occasional-decision",
   "metadata": {},
   "outputs": [],
   "source": [
    "df_tmp_mock = df_mock[(df_mock.Mass>7360-3*M)&(df_mock.Mass<7362+M)]\n",
    "df_tmp_rsv = df_rsv[(df_rsv.Mass>7360-4*M)&(df_rsv.Mass<7362+M)]\n",
    "plotly_zone(df_tmp_mock, y='Vol')\n",
    "plotly_zone(df_tmp_rsv, y='Vol')"
   ]
  },
  {
   "cell_type": "code",
   "execution_count": null,
   "id": "coral-traffic",
   "metadata": {},
   "outputs": [],
   "source": [
    "shift = -28\n",
    "\n",
    "_, dfm_l = peer_dfs(df_mock_sample, df_mock_sample, shift=shift)\n",
    "# _, dfm_l = peer_dfs(df_rsv_sample, df_rsv_sample, shift=shift)\n",
    "_, dfm_r = peer_dfs(df_mock_sample, df_rsv_sample, shift=shift)\n",
    "dfm_l.shape, dfm_r.shape"
   ]
  },
  {
   "cell_type": "code",
   "execution_count": null,
   "id": "cosmetic-carrier",
   "metadata": {},
   "outputs": [],
   "source": [
    "shift = -1\n",
    "\n",
    "# dfm_r = match_dfs(df_mock, dfm_only_rsv, shift=shift)\n",
    "# dfm_l = match_dfs(dfm_only_rsv, df_mock, shift=-1*shift)\n",
    "\n",
    "dfm_mock = match_dfs(df_intact_mock, df_only_intact_rsv, shift=shift)\n",
    "dfm_rsv = match_dfs(df_rsv, df_rsv, shift=shift)\n",
    "\n",
    "# dfm.shape, dfm_mock.shape, dfm_rsv.shape"
   ]
  },
  {
   "cell_type": "code",
   "execution_count": null,
   "id": "spatial-block",
   "metadata": {},
   "outputs": [],
   "source": [
    "shifts = df_hm_top['shift'].tolist()\n",
    "dfm_list = list()\n",
    "for shift in shifts:\n",
    "    dfm_ = match_dfs(df_mock_sample, df_rsv_sample_only, shift=shift)\n",
    "    dfm_list.append(dfm_)\n",
    "# dfm_list.append(df_mock)\n",
    "dfm_shifts = pd.concat(dfm_list).drop_duplicates()"
   ]
  },
  {
   "cell_type": "code",
   "execution_count": null,
   "id": "desirable-plastic",
   "metadata": {},
   "outputs": [],
   "source": [
    "# bcr = base_calling_random(dfm_shifts, base_only=True)\n",
    "# plotly_basecalling(dfm_shifts, bcr[1])\n",
    "# plotly_zone(dfm_shifts)\n",
    "\n",
    "dft = dfm_list[0]\n",
    "plotly_zone(dfm_l)\n",
    "plotly_zone(dfm_r)\n",
    "# plotly_zones(dfm_l, dfm_r, y='RT')\n",
    "# plotly_zones(dfm_r, dft)\n",
    "dfm_r.shape\n"
   ]
  },
  {
   "cell_type": "code",
   "execution_count": null,
   "id": "interpreted-image",
   "metadata": {},
   "outputs": [],
   "source": [
    "dfm_l.shape"
   ]
  },
  {
   "cell_type": "code",
   "execution_count": null,
   "id": "palestinian-transsexual",
   "metadata": {},
   "outputs": [],
   "source": [
    "def func(shift, df_s1, df_s2):\n",
    "    dfm_l, dfm_r = peer_dfs(df_s1, df_s2, shift=shift)\n",
    "    df = dfm_l if dfm_l.shape[0] < dfm_r.shape[0] else dfm_r\n",
    "    bcr = base_calling_random(df)\n",
    "    return len(bcr[1])\n",
    "\n",
    "df_s1 = df_mock_sample.copy()\n",
    "df_s2 = df_rsv_sample_only.copy()\n",
    "df_sh_top = df_shift_hits.sort_values('hit', ascending=False).iloc[:10].copy()\n",
    "df_sh_top['basecallings'] = df_sh_top.apply(lambda x: func(x['shift'], df_s1, df_s2), axis=1)\n",
    "df_sh_top"
   ]
  },
  {
   "cell_type": "code",
   "execution_count": null,
   "id": "lucky-mobility",
   "metadata": {},
   "outputs": [],
   "source": [
    "fig = plt.figure(figsize=(2.5, 1.5))\n",
    "df_plt = df_sh_top.copy().sort_values('shift')\n",
    "df_plt1 = df_plt.copy()\n",
    "df_plt1['shift'] = df_plt1['shift'].astype(int)\n",
    "df_plt1 = df_plt1.set_index('shift')\n",
    "df_plt1.plot(kind='bar',figsize=(2.5, 1.5))\n",
    "plt.legend()\n",
    "\n",
    "fig.tight_layout()\n",
    "svg_fpath = '/Users/xyuan/Downloads/demo.svg'\n",
    "plt.savefig(svg_fpath, transparent=True, dpi=300)"
   ]
  },
  {
   "cell_type": "code",
   "execution_count": null,
   "id": "enabling-hands",
   "metadata": {},
   "outputs": [],
   "source": []
  }
 ],
 "metadata": {
  "kernelspec": {
   "display_name": "Python 3",
   "language": "python",
   "name": "python3"
  },
  "language_info": {
   "codemirror_mode": {
    "name": "ipython",
    "version": 3
   },
   "file_extension": ".py",
   "mimetype": "text/x-python",
   "name": "python",
   "nbconvert_exporter": "python",
   "pygments_lexer": "ipython3",
   "version": "3.7.3"
  }
 },
 "nbformat": 4,
 "nbformat_minor": 5
}
