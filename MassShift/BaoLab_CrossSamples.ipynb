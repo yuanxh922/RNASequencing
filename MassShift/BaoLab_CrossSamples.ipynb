{
 "cells": [
  {
   "cell_type": "code",
   "execution_count": 1,
   "id": "sophisticated-science",
   "metadata": {},
   "outputs": [],
   "source": [
    "import pandas as pd"
   ]
  },
  {
   "cell_type": "code",
   "execution_count": 57,
   "id": "better-processor",
   "metadata": {},
   "outputs": [],
   "source": [
    "%run ../modules/utils.ipynb\n",
    "%run ../modules/cds.ipynb\n",
    "%run ../modules/preprocessing.ipynb"
   ]
  },
  {
   "cell_type": "code",
   "execution_count": 3,
   "id": "fresh-opposition",
   "metadata": {},
   "outputs": [],
   "source": [
    "gln_path = '/Users/xyuan/Documents/BioPharmaFinder/BaoLab/FirstBatch/Excels/S2to5combined_20ul_40min.xlsx'\n",
    "df_mock = load_data(gln_path)\n",
    "gln_path = '/Users/xyuan/Documents/BioPharmaFinder/BaoLab/FirstBatch/Excels/S6to10combined_20ul_40min.xlsx'\n",
    "df_rsv = load_data(gln_path)"
   ]
  },
  {
   "cell_type": "code",
   "execution_count": 95,
   "id": "mental-confusion",
   "metadata": {},
   "outputs": [],
   "source": [
    "fpath = '/Users/xyuan/Documents/BioPharmaFinder/BaoLab/FirstBatch/Excels/UTMB1.xlsx'\n",
    "df_intact_mock = load_data(fpath)\n",
    "fpath = '/Users/xyuan/Documents/BioPharmaFinder/BaoLab/FirstBatch/Excels/UTMB6.xlsx'\n",
    "df_intact_rsv = load_data(fpath)\n",
    "\n",
    "df_intact_mock = df_intact_mock[(df_intact_mock.Mass>24000)&(df_intact_mock.Mass<28000)]\n",
    "df_intact_rsv = df_intact_rsv[df_intact_rsv.Mass>24000]"
   ]
  },
  {
   "cell_type": "code",
   "execution_count": 96,
   "id": "hungarian-kenya",
   "metadata": {},
   "outputs": [],
   "source": [
    "_, df_only_intact_rsv = diff_dfs(df_intact_mock, df_intact_rsv)"
   ]
  },
  {
   "cell_type": "code",
   "execution_count": 9,
   "id": "blank-salvation",
   "metadata": {},
   "outputs": [],
   "source": [
    "df_mock = df_mock[df_mock.Mass>1500]\n",
    "df_rsv = df_rsv[df_rsv.Mass>1500]"
   ]
  },
  {
   "cell_type": "code",
   "execution_count": 97,
   "id": "empty-adoption",
   "metadata": {},
   "outputs": [
    {
     "data": {
      "application/vnd.plotly.v1+json": {
       "config": {
        "plotlyServerURL": "https://plot.ly"
       },
       "data": [
        {
         "hovertemplate": "Mass=%{x}<br>RT=%{y}<extra></extra>",
         "legendgroup": "",
         "marker": {
          "color": "#636efa",
          "symbol": "circle"
         },
         "mode": "markers",
         "name": "",
         "orientation": "v",
         "showlegend": false,
         "type": "scatter",
         "x": [
          24302.2203365912,
          24359.1646585273,
          24245.2719810793,
          24217.2912315354,
          24274.216083265,
          24330.1479738108,
          24203.2736876901,
          24373.1518678003,
          24942.5470586963,
          24189.2808422935,
          24316.181138706,
          24260.1987031964,
          24288.2089599486,
          24416.1065594692,
          24317.1939528021,
          24344.1538607027,
          24999.4711265324,
          24273.2129583897,
          24956.536575242,
          24231.2610414405,
          24430.1042679827,
          24386.1049743374,
          24928.5325164534,
          24400.1134189564,
          24345.1518606447,
          24985.5493398065,
          24473.0254580116,
          24173.2503059152,
          24374.1370488999,
          25054.3721390698,
          24969.5229848921,
          24487.0387443361,
          24445.0714823476,
          24401.1191023908,
          24972.5541519562,
          24256.2047819678,
          25027.466726866,
          24409.0978720357,
          25024.4493269839,
          24372.1016997018,
          24309.1689516342,
          24390.239291458,
          24246.2008886357
         ],
         "xaxis": "x",
         "y": [
          3.93684571739833,
          3.93684571739833,
          3.91470047589938,
          3.91470047589938,
          3.91470047589938,
          3.91470047589938,
          3.91470047589938,
          3.93684571739833,
          4.03561839418411,
          3.91470047589938,
          3.93684571739833,
          3.93684571739833,
          3.91470047589938,
          3.91470047589938,
          3.96885434346199,
          3.93684571739833,
          4.03561839418411,
          3.96885434346199,
          4.00295765953064,
          3.91470047589938,
          3.93684571739833,
          3.91470047589938,
          4.03561839418411,
          3.93684571739833,
          3.87827790932655,
          4.05449257648786,
          3.93684571739833,
          3.91470047589938,
          3.96885434346199,
          4.03561839418411,
          4.00295765953064,
          3.93684571739833,
          3.91470047589938,
          3.91470047589938,
          4.03561839418411,
          3.91470047589938,
          4.03561839418411,
          3.91470047589938,
          4.00295765953064,
          3.91470047589938,
          3.87827790932655,
          3.93684571739833,
          4.03561839418411
         ],
         "yaxis": "y"
        }
       ],
       "layout": {
        "legend": {
         "tracegroupgap": 0
        },
        "margin": {
         "t": 60
        },
        "template": {
         "data": {
          "bar": [
           {
            "error_x": {
             "color": "#2a3f5f"
            },
            "error_y": {
             "color": "#2a3f5f"
            },
            "marker": {
             "line": {
              "color": "#E5ECF6",
              "width": 0.5
             }
            },
            "type": "bar"
           }
          ],
          "barpolar": [
           {
            "marker": {
             "line": {
              "color": "#E5ECF6",
              "width": 0.5
             }
            },
            "type": "barpolar"
           }
          ],
          "carpet": [
           {
            "aaxis": {
             "endlinecolor": "#2a3f5f",
             "gridcolor": "white",
             "linecolor": "white",
             "minorgridcolor": "white",
             "startlinecolor": "#2a3f5f"
            },
            "baxis": {
             "endlinecolor": "#2a3f5f",
             "gridcolor": "white",
             "linecolor": "white",
             "minorgridcolor": "white",
             "startlinecolor": "#2a3f5f"
            },
            "type": "carpet"
           }
          ],
          "choropleth": [
           {
            "colorbar": {
             "outlinewidth": 0,
             "ticks": ""
            },
            "type": "choropleth"
           }
          ],
          "contour": [
           {
            "colorbar": {
             "outlinewidth": 0,
             "ticks": ""
            },
            "colorscale": [
             [
              0,
              "#0d0887"
             ],
             [
              0.1111111111111111,
              "#46039f"
             ],
             [
              0.2222222222222222,
              "#7201a8"
             ],
             [
              0.3333333333333333,
              "#9c179e"
             ],
             [
              0.4444444444444444,
              "#bd3786"
             ],
             [
              0.5555555555555556,
              "#d8576b"
             ],
             [
              0.6666666666666666,
              "#ed7953"
             ],
             [
              0.7777777777777778,
              "#fb9f3a"
             ],
             [
              0.8888888888888888,
              "#fdca26"
             ],
             [
              1,
              "#f0f921"
             ]
            ],
            "type": "contour"
           }
          ],
          "contourcarpet": [
           {
            "colorbar": {
             "outlinewidth": 0,
             "ticks": ""
            },
            "type": "contourcarpet"
           }
          ],
          "heatmap": [
           {
            "colorbar": {
             "outlinewidth": 0,
             "ticks": ""
            },
            "colorscale": [
             [
              0,
              "#0d0887"
             ],
             [
              0.1111111111111111,
              "#46039f"
             ],
             [
              0.2222222222222222,
              "#7201a8"
             ],
             [
              0.3333333333333333,
              "#9c179e"
             ],
             [
              0.4444444444444444,
              "#bd3786"
             ],
             [
              0.5555555555555556,
              "#d8576b"
             ],
             [
              0.6666666666666666,
              "#ed7953"
             ],
             [
              0.7777777777777778,
              "#fb9f3a"
             ],
             [
              0.8888888888888888,
              "#fdca26"
             ],
             [
              1,
              "#f0f921"
             ]
            ],
            "type": "heatmap"
           }
          ],
          "heatmapgl": [
           {
            "colorbar": {
             "outlinewidth": 0,
             "ticks": ""
            },
            "colorscale": [
             [
              0,
              "#0d0887"
             ],
             [
              0.1111111111111111,
              "#46039f"
             ],
             [
              0.2222222222222222,
              "#7201a8"
             ],
             [
              0.3333333333333333,
              "#9c179e"
             ],
             [
              0.4444444444444444,
              "#bd3786"
             ],
             [
              0.5555555555555556,
              "#d8576b"
             ],
             [
              0.6666666666666666,
              "#ed7953"
             ],
             [
              0.7777777777777778,
              "#fb9f3a"
             ],
             [
              0.8888888888888888,
              "#fdca26"
             ],
             [
              1,
              "#f0f921"
             ]
            ],
            "type": "heatmapgl"
           }
          ],
          "histogram": [
           {
            "marker": {
             "colorbar": {
              "outlinewidth": 0,
              "ticks": ""
             }
            },
            "type": "histogram"
           }
          ],
          "histogram2d": [
           {
            "colorbar": {
             "outlinewidth": 0,
             "ticks": ""
            },
            "colorscale": [
             [
              0,
              "#0d0887"
             ],
             [
              0.1111111111111111,
              "#46039f"
             ],
             [
              0.2222222222222222,
              "#7201a8"
             ],
             [
              0.3333333333333333,
              "#9c179e"
             ],
             [
              0.4444444444444444,
              "#bd3786"
             ],
             [
              0.5555555555555556,
              "#d8576b"
             ],
             [
              0.6666666666666666,
              "#ed7953"
             ],
             [
              0.7777777777777778,
              "#fb9f3a"
             ],
             [
              0.8888888888888888,
              "#fdca26"
             ],
             [
              1,
              "#f0f921"
             ]
            ],
            "type": "histogram2d"
           }
          ],
          "histogram2dcontour": [
           {
            "colorbar": {
             "outlinewidth": 0,
             "ticks": ""
            },
            "colorscale": [
             [
              0,
              "#0d0887"
             ],
             [
              0.1111111111111111,
              "#46039f"
             ],
             [
              0.2222222222222222,
              "#7201a8"
             ],
             [
              0.3333333333333333,
              "#9c179e"
             ],
             [
              0.4444444444444444,
              "#bd3786"
             ],
             [
              0.5555555555555556,
              "#d8576b"
             ],
             [
              0.6666666666666666,
              "#ed7953"
             ],
             [
              0.7777777777777778,
              "#fb9f3a"
             ],
             [
              0.8888888888888888,
              "#fdca26"
             ],
             [
              1,
              "#f0f921"
             ]
            ],
            "type": "histogram2dcontour"
           }
          ],
          "mesh3d": [
           {
            "colorbar": {
             "outlinewidth": 0,
             "ticks": ""
            },
            "type": "mesh3d"
           }
          ],
          "parcoords": [
           {
            "line": {
             "colorbar": {
              "outlinewidth": 0,
              "ticks": ""
             }
            },
            "type": "parcoords"
           }
          ],
          "pie": [
           {
            "automargin": true,
            "type": "pie"
           }
          ],
          "scatter": [
           {
            "marker": {
             "colorbar": {
              "outlinewidth": 0,
              "ticks": ""
             }
            },
            "type": "scatter"
           }
          ],
          "scatter3d": [
           {
            "line": {
             "colorbar": {
              "outlinewidth": 0,
              "ticks": ""
             }
            },
            "marker": {
             "colorbar": {
              "outlinewidth": 0,
              "ticks": ""
             }
            },
            "type": "scatter3d"
           }
          ],
          "scattercarpet": [
           {
            "marker": {
             "colorbar": {
              "outlinewidth": 0,
              "ticks": ""
             }
            },
            "type": "scattercarpet"
           }
          ],
          "scattergeo": [
           {
            "marker": {
             "colorbar": {
              "outlinewidth": 0,
              "ticks": ""
             }
            },
            "type": "scattergeo"
           }
          ],
          "scattergl": [
           {
            "marker": {
             "colorbar": {
              "outlinewidth": 0,
              "ticks": ""
             }
            },
            "type": "scattergl"
           }
          ],
          "scattermapbox": [
           {
            "marker": {
             "colorbar": {
              "outlinewidth": 0,
              "ticks": ""
             }
            },
            "type": "scattermapbox"
           }
          ],
          "scatterpolar": [
           {
            "marker": {
             "colorbar": {
              "outlinewidth": 0,
              "ticks": ""
             }
            },
            "type": "scatterpolar"
           }
          ],
          "scatterpolargl": [
           {
            "marker": {
             "colorbar": {
              "outlinewidth": 0,
              "ticks": ""
             }
            },
            "type": "scatterpolargl"
           }
          ],
          "scatterternary": [
           {
            "marker": {
             "colorbar": {
              "outlinewidth": 0,
              "ticks": ""
             }
            },
            "type": "scatterternary"
           }
          ],
          "surface": [
           {
            "colorbar": {
             "outlinewidth": 0,
             "ticks": ""
            },
            "colorscale": [
             [
              0,
              "#0d0887"
             ],
             [
              0.1111111111111111,
              "#46039f"
             ],
             [
              0.2222222222222222,
              "#7201a8"
             ],
             [
              0.3333333333333333,
              "#9c179e"
             ],
             [
              0.4444444444444444,
              "#bd3786"
             ],
             [
              0.5555555555555556,
              "#d8576b"
             ],
             [
              0.6666666666666666,
              "#ed7953"
             ],
             [
              0.7777777777777778,
              "#fb9f3a"
             ],
             [
              0.8888888888888888,
              "#fdca26"
             ],
             [
              1,
              "#f0f921"
             ]
            ],
            "type": "surface"
           }
          ],
          "table": [
           {
            "cells": {
             "fill": {
              "color": "#EBF0F8"
             },
             "line": {
              "color": "white"
             }
            },
            "header": {
             "fill": {
              "color": "#C8D4E3"
             },
             "line": {
              "color": "white"
             }
            },
            "type": "table"
           }
          ]
         },
         "layout": {
          "annotationdefaults": {
           "arrowcolor": "#2a3f5f",
           "arrowhead": 0,
           "arrowwidth": 1
          },
          "autotypenumbers": "strict",
          "coloraxis": {
           "colorbar": {
            "outlinewidth": 0,
            "ticks": ""
           }
          },
          "colorscale": {
           "diverging": [
            [
             0,
             "#8e0152"
            ],
            [
             0.1,
             "#c51b7d"
            ],
            [
             0.2,
             "#de77ae"
            ],
            [
             0.3,
             "#f1b6da"
            ],
            [
             0.4,
             "#fde0ef"
            ],
            [
             0.5,
             "#f7f7f7"
            ],
            [
             0.6,
             "#e6f5d0"
            ],
            [
             0.7,
             "#b8e186"
            ],
            [
             0.8,
             "#7fbc41"
            ],
            [
             0.9,
             "#4d9221"
            ],
            [
             1,
             "#276419"
            ]
           ],
           "sequential": [
            [
             0,
             "#0d0887"
            ],
            [
             0.1111111111111111,
             "#46039f"
            ],
            [
             0.2222222222222222,
             "#7201a8"
            ],
            [
             0.3333333333333333,
             "#9c179e"
            ],
            [
             0.4444444444444444,
             "#bd3786"
            ],
            [
             0.5555555555555556,
             "#d8576b"
            ],
            [
             0.6666666666666666,
             "#ed7953"
            ],
            [
             0.7777777777777778,
             "#fb9f3a"
            ],
            [
             0.8888888888888888,
             "#fdca26"
            ],
            [
             1,
             "#f0f921"
            ]
           ],
           "sequentialminus": [
            [
             0,
             "#0d0887"
            ],
            [
             0.1111111111111111,
             "#46039f"
            ],
            [
             0.2222222222222222,
             "#7201a8"
            ],
            [
             0.3333333333333333,
             "#9c179e"
            ],
            [
             0.4444444444444444,
             "#bd3786"
            ],
            [
             0.5555555555555556,
             "#d8576b"
            ],
            [
             0.6666666666666666,
             "#ed7953"
            ],
            [
             0.7777777777777778,
             "#fb9f3a"
            ],
            [
             0.8888888888888888,
             "#fdca26"
            ],
            [
             1,
             "#f0f921"
            ]
           ]
          },
          "colorway": [
           "#636efa",
           "#EF553B",
           "#00cc96",
           "#ab63fa",
           "#FFA15A",
           "#19d3f3",
           "#FF6692",
           "#B6E880",
           "#FF97FF",
           "#FECB52"
          ],
          "font": {
           "color": "#2a3f5f"
          },
          "geo": {
           "bgcolor": "white",
           "lakecolor": "white",
           "landcolor": "#E5ECF6",
           "showlakes": true,
           "showland": true,
           "subunitcolor": "white"
          },
          "hoverlabel": {
           "align": "left"
          },
          "hovermode": "closest",
          "mapbox": {
           "style": "light"
          },
          "paper_bgcolor": "white",
          "plot_bgcolor": "#E5ECF6",
          "polar": {
           "angularaxis": {
            "gridcolor": "white",
            "linecolor": "white",
            "ticks": ""
           },
           "bgcolor": "#E5ECF6",
           "radialaxis": {
            "gridcolor": "white",
            "linecolor": "white",
            "ticks": ""
           }
          },
          "scene": {
           "xaxis": {
            "backgroundcolor": "#E5ECF6",
            "gridcolor": "white",
            "gridwidth": 2,
            "linecolor": "white",
            "showbackground": true,
            "ticks": "",
            "zerolinecolor": "white"
           },
           "yaxis": {
            "backgroundcolor": "#E5ECF6",
            "gridcolor": "white",
            "gridwidth": 2,
            "linecolor": "white",
            "showbackground": true,
            "ticks": "",
            "zerolinecolor": "white"
           },
           "zaxis": {
            "backgroundcolor": "#E5ECF6",
            "gridcolor": "white",
            "gridwidth": 2,
            "linecolor": "white",
            "showbackground": true,
            "ticks": "",
            "zerolinecolor": "white"
           }
          },
          "shapedefaults": {
           "line": {
            "color": "#2a3f5f"
           }
          },
          "ternary": {
           "aaxis": {
            "gridcolor": "white",
            "linecolor": "white",
            "ticks": ""
           },
           "baxis": {
            "gridcolor": "white",
            "linecolor": "white",
            "ticks": ""
           },
           "bgcolor": "#E5ECF6",
           "caxis": {
            "gridcolor": "white",
            "linecolor": "white",
            "ticks": ""
           }
          },
          "title": {
           "x": 0.05
          },
          "xaxis": {
           "automargin": true,
           "gridcolor": "white",
           "linecolor": "white",
           "ticks": "",
           "title": {
            "standoff": 15
           },
           "zerolinecolor": "white",
           "zerolinewidth": 2
          },
          "yaxis": {
           "automargin": true,
           "gridcolor": "white",
           "linecolor": "white",
           "ticks": "",
           "title": {
            "standoff": 15
           },
           "zerolinecolor": "white",
           "zerolinewidth": 2
          }
         }
        },
        "xaxis": {
         "anchor": "y",
         "domain": [
          0,
          1
         ],
         "title": {
          "text": "Mass"
         }
        },
        "yaxis": {
         "anchor": "x",
         "domain": [
          0,
          1
         ],
         "title": {
          "text": "RT"
         }
        }
       }
      },
      "text/html": [
       "<div>                            <div id=\"5154eb9b-6926-46a3-9dcb-cec5d763758e\" class=\"plotly-graph-div\" style=\"height:525px; width:100%;\"></div>            <script type=\"text/javascript\">                require([\"plotly\"], function(Plotly) {                    window.PLOTLYENV=window.PLOTLYENV || {};                                    if (document.getElementById(\"5154eb9b-6926-46a3-9dcb-cec5d763758e\")) {                    Plotly.newPlot(                        \"5154eb9b-6926-46a3-9dcb-cec5d763758e\",                        [{\"hovertemplate\": \"Mass=%{x}<br>RT=%{y}<extra></extra>\", \"legendgroup\": \"\", \"marker\": {\"color\": \"#636efa\", \"symbol\": \"circle\"}, \"mode\": \"markers\", \"name\": \"\", \"orientation\": \"v\", \"showlegend\": false, \"type\": \"scatter\", \"x\": [24302.2203365912, 24359.1646585273, 24245.2719810793, 24217.2912315354, 24274.216083265, 24330.1479738108, 24203.2736876901, 24373.1518678003, 24942.5470586963, 24189.2808422935, 24316.181138706, 24260.1987031964, 24288.2089599486, 24416.1065594692, 24317.1939528021, 24344.1538607027, 24999.4711265324, 24273.2129583897, 24956.536575242, 24231.2610414405, 24430.1042679827, 24386.1049743374, 24928.5325164534, 24400.1134189564, 24345.1518606447, 24985.5493398065, 24473.0254580116, 24173.2503059152, 24374.1370488999, 25054.3721390698, 24969.5229848921, 24487.0387443361, 24445.0714823476, 24401.1191023908, 24972.5541519562, 24256.2047819678, 25027.466726866, 24409.0978720357, 25024.4493269839, 24372.1016997018, 24309.1689516342, 24390.239291458, 24246.2008886357], \"xaxis\": \"x\", \"y\": [3.93684571739833, 3.93684571739833, 3.91470047589938, 3.91470047589938, 3.91470047589938, 3.91470047589938, 3.91470047589938, 3.93684571739833, 4.03561839418411, 3.91470047589938, 3.93684571739833, 3.93684571739833, 3.91470047589938, 3.91470047589938, 3.96885434346199, 3.93684571739833, 4.03561839418411, 3.96885434346199, 4.00295765953064, 3.91470047589938, 3.93684571739833, 3.91470047589938, 4.03561839418411, 3.93684571739833, 3.87827790932655, 4.05449257648786, 3.93684571739833, 3.91470047589938, 3.96885434346199, 4.03561839418411, 4.00295765953064, 3.93684571739833, 3.91470047589938, 3.91470047589938, 4.03561839418411, 3.91470047589938, 4.03561839418411, 3.91470047589938, 4.00295765953064, 3.91470047589938, 3.87827790932655, 3.93684571739833, 4.03561839418411], \"yaxis\": \"y\"}],                        {\"legend\": {\"tracegroupgap\": 0}, \"margin\": {\"t\": 60}, \"template\": {\"data\": {\"bar\": [{\"error_x\": {\"color\": \"#2a3f5f\"}, \"error_y\": {\"color\": \"#2a3f5f\"}, \"marker\": {\"line\": {\"color\": \"#E5ECF6\", \"width\": 0.5}}, \"type\": \"bar\"}], \"barpolar\": [{\"marker\": {\"line\": {\"color\": \"#E5ECF6\", \"width\": 0.5}}, \"type\": \"barpolar\"}], \"carpet\": [{\"aaxis\": {\"endlinecolor\": \"#2a3f5f\", \"gridcolor\": \"white\", \"linecolor\": \"white\", \"minorgridcolor\": \"white\", \"startlinecolor\": \"#2a3f5f\"}, \"baxis\": {\"endlinecolor\": \"#2a3f5f\", \"gridcolor\": \"white\", \"linecolor\": \"white\", \"minorgridcolor\": \"white\", \"startlinecolor\": \"#2a3f5f\"}, \"type\": \"carpet\"}], \"choropleth\": [{\"colorbar\": {\"outlinewidth\": 0, \"ticks\": \"\"}, \"type\": \"choropleth\"}], \"contour\": [{\"colorbar\": {\"outlinewidth\": 0, \"ticks\": \"\"}, \"colorscale\": [[0.0, \"#0d0887\"], [0.1111111111111111, \"#46039f\"], [0.2222222222222222, \"#7201a8\"], [0.3333333333333333, \"#9c179e\"], [0.4444444444444444, \"#bd3786\"], [0.5555555555555556, \"#d8576b\"], [0.6666666666666666, \"#ed7953\"], [0.7777777777777778, \"#fb9f3a\"], [0.8888888888888888, \"#fdca26\"], [1.0, \"#f0f921\"]], \"type\": \"contour\"}], \"contourcarpet\": [{\"colorbar\": {\"outlinewidth\": 0, \"ticks\": \"\"}, \"type\": \"contourcarpet\"}], \"heatmap\": [{\"colorbar\": {\"outlinewidth\": 0, \"ticks\": \"\"}, \"colorscale\": [[0.0, \"#0d0887\"], [0.1111111111111111, \"#46039f\"], [0.2222222222222222, \"#7201a8\"], [0.3333333333333333, \"#9c179e\"], [0.4444444444444444, \"#bd3786\"], [0.5555555555555556, \"#d8576b\"], [0.6666666666666666, \"#ed7953\"], [0.7777777777777778, \"#fb9f3a\"], [0.8888888888888888, \"#fdca26\"], [1.0, \"#f0f921\"]], \"type\": \"heatmap\"}], \"heatmapgl\": [{\"colorbar\": {\"outlinewidth\": 0, \"ticks\": \"\"}, \"colorscale\": [[0.0, \"#0d0887\"], [0.1111111111111111, \"#46039f\"], [0.2222222222222222, \"#7201a8\"], [0.3333333333333333, \"#9c179e\"], [0.4444444444444444, \"#bd3786\"], [0.5555555555555556, \"#d8576b\"], [0.6666666666666666, \"#ed7953\"], [0.7777777777777778, \"#fb9f3a\"], [0.8888888888888888, \"#fdca26\"], [1.0, \"#f0f921\"]], \"type\": \"heatmapgl\"}], \"histogram\": [{\"marker\": {\"colorbar\": {\"outlinewidth\": 0, \"ticks\": \"\"}}, \"type\": \"histogram\"}], \"histogram2d\": [{\"colorbar\": {\"outlinewidth\": 0, \"ticks\": \"\"}, \"colorscale\": [[0.0, \"#0d0887\"], [0.1111111111111111, \"#46039f\"], [0.2222222222222222, \"#7201a8\"], [0.3333333333333333, \"#9c179e\"], [0.4444444444444444, \"#bd3786\"], [0.5555555555555556, \"#d8576b\"], [0.6666666666666666, \"#ed7953\"], [0.7777777777777778, \"#fb9f3a\"], [0.8888888888888888, \"#fdca26\"], [1.0, \"#f0f921\"]], \"type\": \"histogram2d\"}], \"histogram2dcontour\": [{\"colorbar\": {\"outlinewidth\": 0, \"ticks\": \"\"}, \"colorscale\": [[0.0, \"#0d0887\"], [0.1111111111111111, \"#46039f\"], [0.2222222222222222, \"#7201a8\"], [0.3333333333333333, \"#9c179e\"], [0.4444444444444444, \"#bd3786\"], [0.5555555555555556, \"#d8576b\"], [0.6666666666666666, \"#ed7953\"], [0.7777777777777778, \"#fb9f3a\"], [0.8888888888888888, \"#fdca26\"], [1.0, \"#f0f921\"]], \"type\": \"histogram2dcontour\"}], \"mesh3d\": [{\"colorbar\": {\"outlinewidth\": 0, \"ticks\": \"\"}, \"type\": \"mesh3d\"}], \"parcoords\": [{\"line\": {\"colorbar\": {\"outlinewidth\": 0, \"ticks\": \"\"}}, \"type\": \"parcoords\"}], \"pie\": [{\"automargin\": true, \"type\": \"pie\"}], \"scatter\": [{\"marker\": {\"colorbar\": {\"outlinewidth\": 0, \"ticks\": \"\"}}, \"type\": \"scatter\"}], \"scatter3d\": [{\"line\": {\"colorbar\": {\"outlinewidth\": 0, \"ticks\": \"\"}}, \"marker\": {\"colorbar\": {\"outlinewidth\": 0, \"ticks\": \"\"}}, \"type\": \"scatter3d\"}], \"scattercarpet\": [{\"marker\": {\"colorbar\": {\"outlinewidth\": 0, \"ticks\": \"\"}}, \"type\": \"scattercarpet\"}], \"scattergeo\": [{\"marker\": {\"colorbar\": {\"outlinewidth\": 0, \"ticks\": \"\"}}, \"type\": \"scattergeo\"}], \"scattergl\": [{\"marker\": {\"colorbar\": {\"outlinewidth\": 0, \"ticks\": \"\"}}, \"type\": \"scattergl\"}], \"scattermapbox\": [{\"marker\": {\"colorbar\": {\"outlinewidth\": 0, \"ticks\": \"\"}}, \"type\": \"scattermapbox\"}], \"scatterpolar\": [{\"marker\": {\"colorbar\": {\"outlinewidth\": 0, \"ticks\": \"\"}}, \"type\": \"scatterpolar\"}], \"scatterpolargl\": [{\"marker\": {\"colorbar\": {\"outlinewidth\": 0, \"ticks\": \"\"}}, \"type\": \"scatterpolargl\"}], \"scatterternary\": [{\"marker\": {\"colorbar\": {\"outlinewidth\": 0, \"ticks\": \"\"}}, \"type\": \"scatterternary\"}], \"surface\": [{\"colorbar\": {\"outlinewidth\": 0, \"ticks\": \"\"}, \"colorscale\": [[0.0, \"#0d0887\"], [0.1111111111111111, \"#46039f\"], [0.2222222222222222, \"#7201a8\"], [0.3333333333333333, \"#9c179e\"], [0.4444444444444444, \"#bd3786\"], [0.5555555555555556, \"#d8576b\"], [0.6666666666666666, \"#ed7953\"], [0.7777777777777778, \"#fb9f3a\"], [0.8888888888888888, \"#fdca26\"], [1.0, \"#f0f921\"]], \"type\": \"surface\"}], \"table\": [{\"cells\": {\"fill\": {\"color\": \"#EBF0F8\"}, \"line\": {\"color\": \"white\"}}, \"header\": {\"fill\": {\"color\": \"#C8D4E3\"}, \"line\": {\"color\": \"white\"}}, \"type\": \"table\"}]}, \"layout\": {\"annotationdefaults\": {\"arrowcolor\": \"#2a3f5f\", \"arrowhead\": 0, \"arrowwidth\": 1}, \"autotypenumbers\": \"strict\", \"coloraxis\": {\"colorbar\": {\"outlinewidth\": 0, \"ticks\": \"\"}}, \"colorscale\": {\"diverging\": [[0, \"#8e0152\"], [0.1, \"#c51b7d\"], [0.2, \"#de77ae\"], [0.3, \"#f1b6da\"], [0.4, \"#fde0ef\"], [0.5, \"#f7f7f7\"], [0.6, \"#e6f5d0\"], [0.7, \"#b8e186\"], [0.8, \"#7fbc41\"], [0.9, \"#4d9221\"], [1, \"#276419\"]], \"sequential\": [[0.0, \"#0d0887\"], [0.1111111111111111, \"#46039f\"], [0.2222222222222222, \"#7201a8\"], [0.3333333333333333, \"#9c179e\"], [0.4444444444444444, \"#bd3786\"], [0.5555555555555556, \"#d8576b\"], [0.6666666666666666, \"#ed7953\"], [0.7777777777777778, \"#fb9f3a\"], [0.8888888888888888, \"#fdca26\"], [1.0, \"#f0f921\"]], \"sequentialminus\": [[0.0, \"#0d0887\"], [0.1111111111111111, \"#46039f\"], [0.2222222222222222, \"#7201a8\"], [0.3333333333333333, \"#9c179e\"], [0.4444444444444444, \"#bd3786\"], [0.5555555555555556, \"#d8576b\"], [0.6666666666666666, \"#ed7953\"], [0.7777777777777778, \"#fb9f3a\"], [0.8888888888888888, \"#fdca26\"], [1.0, \"#f0f921\"]]}, \"colorway\": [\"#636efa\", \"#EF553B\", \"#00cc96\", \"#ab63fa\", \"#FFA15A\", \"#19d3f3\", \"#FF6692\", \"#B6E880\", \"#FF97FF\", \"#FECB52\"], \"font\": {\"color\": \"#2a3f5f\"}, \"geo\": {\"bgcolor\": \"white\", \"lakecolor\": \"white\", \"landcolor\": \"#E5ECF6\", \"showlakes\": true, \"showland\": true, \"subunitcolor\": \"white\"}, \"hoverlabel\": {\"align\": \"left\"}, \"hovermode\": \"closest\", \"mapbox\": {\"style\": \"light\"}, \"paper_bgcolor\": \"white\", \"plot_bgcolor\": \"#E5ECF6\", \"polar\": {\"angularaxis\": {\"gridcolor\": \"white\", \"linecolor\": \"white\", \"ticks\": \"\"}, \"bgcolor\": \"#E5ECF6\", \"radialaxis\": {\"gridcolor\": \"white\", \"linecolor\": \"white\", \"ticks\": \"\"}}, \"scene\": {\"xaxis\": {\"backgroundcolor\": \"#E5ECF6\", \"gridcolor\": \"white\", \"gridwidth\": 2, \"linecolor\": \"white\", \"showbackground\": true, \"ticks\": \"\", \"zerolinecolor\": \"white\"}, \"yaxis\": {\"backgroundcolor\": \"#E5ECF6\", \"gridcolor\": \"white\", \"gridwidth\": 2, \"linecolor\": \"white\", \"showbackground\": true, \"ticks\": \"\", \"zerolinecolor\": \"white\"}, \"zaxis\": {\"backgroundcolor\": \"#E5ECF6\", \"gridcolor\": \"white\", \"gridwidth\": 2, \"linecolor\": \"white\", \"showbackground\": true, \"ticks\": \"\", \"zerolinecolor\": \"white\"}}, \"shapedefaults\": {\"line\": {\"color\": \"#2a3f5f\"}}, \"ternary\": {\"aaxis\": {\"gridcolor\": \"white\", \"linecolor\": \"white\", \"ticks\": \"\"}, \"baxis\": {\"gridcolor\": \"white\", \"linecolor\": \"white\", \"ticks\": \"\"}, \"bgcolor\": \"#E5ECF6\", \"caxis\": {\"gridcolor\": \"white\", \"linecolor\": \"white\", \"ticks\": \"\"}}, \"title\": {\"x\": 0.05}, \"xaxis\": {\"automargin\": true, \"gridcolor\": \"white\", \"linecolor\": \"white\", \"ticks\": \"\", \"title\": {\"standoff\": 15}, \"zerolinecolor\": \"white\", \"zerolinewidth\": 2}, \"yaxis\": {\"automargin\": true, \"gridcolor\": \"white\", \"linecolor\": \"white\", \"ticks\": \"\", \"title\": {\"standoff\": 15}, \"zerolinecolor\": \"white\", \"zerolinewidth\": 2}}}, \"xaxis\": {\"anchor\": \"y\", \"domain\": [0.0, 1.0], \"title\": {\"text\": \"Mass\"}}, \"yaxis\": {\"anchor\": \"x\", \"domain\": [0.0, 1.0], \"title\": {\"text\": \"RT\"}}},                        {\"responsive\": true}                    ).then(function(){\n",
       "                            \n",
       "var gd = document.getElementById('5154eb9b-6926-46a3-9dcb-cec5d763758e');\n",
       "var x = new MutationObserver(function (mutations, observer) {{\n",
       "        var display = window.getComputedStyle(gd).display;\n",
       "        if (!display || display === 'none') {{\n",
       "            console.log([gd, 'removed!']);\n",
       "            Plotly.purge(gd);\n",
       "            observer.disconnect();\n",
       "        }}\n",
       "}});\n",
       "\n",
       "// Listen for the removal of the full notebook cells\n",
       "var notebookContainer = gd.closest('#notebook-container');\n",
       "if (notebookContainer) {{\n",
       "    x.observe(notebookContainer, {childList: true});\n",
       "}}\n",
       "\n",
       "// Listen for the clearing of the current output cell\n",
       "var outputEl = gd.closest('.output');\n",
       "if (outputEl) {{\n",
       "    x.observe(outputEl, {childList: true});\n",
       "}}\n",
       "\n",
       "                        })                };                });            </script>        </div>"
      ]
     },
     "metadata": {},
     "output_type": "display_data"
    },
    {
     "data": {
      "application/vnd.plotly.v1+json": {
       "config": {
        "plotlyServerURL": "https://plot.ly"
       },
       "data": [
        {
         "hovertemplate": "Mass=%{x}<br>RT=%{y}<extra></extra>",
         "legendgroup": "",
         "marker": {
          "color": "#636efa",
          "symbol": "circle"
         },
         "mode": "markers",
         "name": "",
         "orientation": "v",
         "showlegend": false,
         "type": "scatter",
         "x": [
          24302.2287870343,
          24259.1922990559,
          24245.255351956,
          24359.1761602531,
          24316.1748484255,
          24942.5442052376,
          24203.2678313727,
          24217.2852944405,
          24189.2496993168,
          24330.1641237846,
          24373.1507494765,
          24273.199828793,
          24274.1998710885,
          24287.2066213141,
          24957.5334113811,
          24231.2433991696,
          24416.1000120463,
          24344.1547567587,
          24928.5233447351,
          24998.4791230846,
          24429.1043982891,
          24386.1085332255,
          24343.1569440815,
          24984.5333059569,
          25014.4667171957,
          24999.4708379293,
          24400.0898301452,
          24971.5229696282,
          24415.1203711455,
          24401.1154252794,
          24372.1647315739,
          24174.2351799288,
          24930.5071322198,
          24399.0949925611,
          24970.5231183379,
          24173.224767095,
          24972.521194353,
          24349.1905510274,
          24214.2747268661,
          24927.4987800355,
          24440.076530119,
          24913.4687554411,
          24914.4928103627,
          25006.4417464573,
          24357.1304331109,
          24271.2071545946,
          24244.1492319967,
          24246.2136932877,
          24380.1373586926,
          24276.2001070922
         ],
         "xaxis": "x",
         "y": [
          3.90296001987457,
          3.87923713482221,
          3.87923713482221,
          3.90296001987457,
          3.90296001987457,
          3.9973597363313,
          3.87923713482221,
          3.87923713482221,
          3.87923713482221,
          3.87923713482221,
          3.90296001987457,
          3.90296001987457,
          3.86146371719042,
          3.90296001987457,
          4.01525069233576,
          3.87923713482221,
          3.90296001987457,
          3.90296001987457,
          3.9973597363313,
          3.97358400977453,
          3.90296001987457,
          3.90296001987457,
          3.86146371719042,
          3.9973597363313,
          3.9973597363313,
          4.01525069233576,
          3.86146371719042,
          3.9973597363313,
          3.95110074238777,
          3.87923713482221,
          3.9973597363313,
          3.87923713482221,
          3.9973597363313,
          3.90296001987457,
          4.01525069233576,
          3.87923713482221,
          3.9973597363313,
          3.92455939408938,
          3.86146371719042,
          3.9973597363313,
          3.87923713482221,
          3.9973597363313,
          3.9973597363313,
          3.97358400977453,
          3.90296001987457,
          3.9973597363313,
          3.97358400977453,
          3.97358400977453,
          3.87923713482221,
          3.87923713482221
         ],
         "yaxis": "y"
        }
       ],
       "layout": {
        "legend": {
         "tracegroupgap": 0
        },
        "margin": {
         "t": 60
        },
        "template": {
         "data": {
          "bar": [
           {
            "error_x": {
             "color": "#2a3f5f"
            },
            "error_y": {
             "color": "#2a3f5f"
            },
            "marker": {
             "line": {
              "color": "#E5ECF6",
              "width": 0.5
             }
            },
            "type": "bar"
           }
          ],
          "barpolar": [
           {
            "marker": {
             "line": {
              "color": "#E5ECF6",
              "width": 0.5
             }
            },
            "type": "barpolar"
           }
          ],
          "carpet": [
           {
            "aaxis": {
             "endlinecolor": "#2a3f5f",
             "gridcolor": "white",
             "linecolor": "white",
             "minorgridcolor": "white",
             "startlinecolor": "#2a3f5f"
            },
            "baxis": {
             "endlinecolor": "#2a3f5f",
             "gridcolor": "white",
             "linecolor": "white",
             "minorgridcolor": "white",
             "startlinecolor": "#2a3f5f"
            },
            "type": "carpet"
           }
          ],
          "choropleth": [
           {
            "colorbar": {
             "outlinewidth": 0,
             "ticks": ""
            },
            "type": "choropleth"
           }
          ],
          "contour": [
           {
            "colorbar": {
             "outlinewidth": 0,
             "ticks": ""
            },
            "colorscale": [
             [
              0,
              "#0d0887"
             ],
             [
              0.1111111111111111,
              "#46039f"
             ],
             [
              0.2222222222222222,
              "#7201a8"
             ],
             [
              0.3333333333333333,
              "#9c179e"
             ],
             [
              0.4444444444444444,
              "#bd3786"
             ],
             [
              0.5555555555555556,
              "#d8576b"
             ],
             [
              0.6666666666666666,
              "#ed7953"
             ],
             [
              0.7777777777777778,
              "#fb9f3a"
             ],
             [
              0.8888888888888888,
              "#fdca26"
             ],
             [
              1,
              "#f0f921"
             ]
            ],
            "type": "contour"
           }
          ],
          "contourcarpet": [
           {
            "colorbar": {
             "outlinewidth": 0,
             "ticks": ""
            },
            "type": "contourcarpet"
           }
          ],
          "heatmap": [
           {
            "colorbar": {
             "outlinewidth": 0,
             "ticks": ""
            },
            "colorscale": [
             [
              0,
              "#0d0887"
             ],
             [
              0.1111111111111111,
              "#46039f"
             ],
             [
              0.2222222222222222,
              "#7201a8"
             ],
             [
              0.3333333333333333,
              "#9c179e"
             ],
             [
              0.4444444444444444,
              "#bd3786"
             ],
             [
              0.5555555555555556,
              "#d8576b"
             ],
             [
              0.6666666666666666,
              "#ed7953"
             ],
             [
              0.7777777777777778,
              "#fb9f3a"
             ],
             [
              0.8888888888888888,
              "#fdca26"
             ],
             [
              1,
              "#f0f921"
             ]
            ],
            "type": "heatmap"
           }
          ],
          "heatmapgl": [
           {
            "colorbar": {
             "outlinewidth": 0,
             "ticks": ""
            },
            "colorscale": [
             [
              0,
              "#0d0887"
             ],
             [
              0.1111111111111111,
              "#46039f"
             ],
             [
              0.2222222222222222,
              "#7201a8"
             ],
             [
              0.3333333333333333,
              "#9c179e"
             ],
             [
              0.4444444444444444,
              "#bd3786"
             ],
             [
              0.5555555555555556,
              "#d8576b"
             ],
             [
              0.6666666666666666,
              "#ed7953"
             ],
             [
              0.7777777777777778,
              "#fb9f3a"
             ],
             [
              0.8888888888888888,
              "#fdca26"
             ],
             [
              1,
              "#f0f921"
             ]
            ],
            "type": "heatmapgl"
           }
          ],
          "histogram": [
           {
            "marker": {
             "colorbar": {
              "outlinewidth": 0,
              "ticks": ""
             }
            },
            "type": "histogram"
           }
          ],
          "histogram2d": [
           {
            "colorbar": {
             "outlinewidth": 0,
             "ticks": ""
            },
            "colorscale": [
             [
              0,
              "#0d0887"
             ],
             [
              0.1111111111111111,
              "#46039f"
             ],
             [
              0.2222222222222222,
              "#7201a8"
             ],
             [
              0.3333333333333333,
              "#9c179e"
             ],
             [
              0.4444444444444444,
              "#bd3786"
             ],
             [
              0.5555555555555556,
              "#d8576b"
             ],
             [
              0.6666666666666666,
              "#ed7953"
             ],
             [
              0.7777777777777778,
              "#fb9f3a"
             ],
             [
              0.8888888888888888,
              "#fdca26"
             ],
             [
              1,
              "#f0f921"
             ]
            ],
            "type": "histogram2d"
           }
          ],
          "histogram2dcontour": [
           {
            "colorbar": {
             "outlinewidth": 0,
             "ticks": ""
            },
            "colorscale": [
             [
              0,
              "#0d0887"
             ],
             [
              0.1111111111111111,
              "#46039f"
             ],
             [
              0.2222222222222222,
              "#7201a8"
             ],
             [
              0.3333333333333333,
              "#9c179e"
             ],
             [
              0.4444444444444444,
              "#bd3786"
             ],
             [
              0.5555555555555556,
              "#d8576b"
             ],
             [
              0.6666666666666666,
              "#ed7953"
             ],
             [
              0.7777777777777778,
              "#fb9f3a"
             ],
             [
              0.8888888888888888,
              "#fdca26"
             ],
             [
              1,
              "#f0f921"
             ]
            ],
            "type": "histogram2dcontour"
           }
          ],
          "mesh3d": [
           {
            "colorbar": {
             "outlinewidth": 0,
             "ticks": ""
            },
            "type": "mesh3d"
           }
          ],
          "parcoords": [
           {
            "line": {
             "colorbar": {
              "outlinewidth": 0,
              "ticks": ""
             }
            },
            "type": "parcoords"
           }
          ],
          "pie": [
           {
            "automargin": true,
            "type": "pie"
           }
          ],
          "scatter": [
           {
            "marker": {
             "colorbar": {
              "outlinewidth": 0,
              "ticks": ""
             }
            },
            "type": "scatter"
           }
          ],
          "scatter3d": [
           {
            "line": {
             "colorbar": {
              "outlinewidth": 0,
              "ticks": ""
             }
            },
            "marker": {
             "colorbar": {
              "outlinewidth": 0,
              "ticks": ""
             }
            },
            "type": "scatter3d"
           }
          ],
          "scattercarpet": [
           {
            "marker": {
             "colorbar": {
              "outlinewidth": 0,
              "ticks": ""
             }
            },
            "type": "scattercarpet"
           }
          ],
          "scattergeo": [
           {
            "marker": {
             "colorbar": {
              "outlinewidth": 0,
              "ticks": ""
             }
            },
            "type": "scattergeo"
           }
          ],
          "scattergl": [
           {
            "marker": {
             "colorbar": {
              "outlinewidth": 0,
              "ticks": ""
             }
            },
            "type": "scattergl"
           }
          ],
          "scattermapbox": [
           {
            "marker": {
             "colorbar": {
              "outlinewidth": 0,
              "ticks": ""
             }
            },
            "type": "scattermapbox"
           }
          ],
          "scatterpolar": [
           {
            "marker": {
             "colorbar": {
              "outlinewidth": 0,
              "ticks": ""
             }
            },
            "type": "scatterpolar"
           }
          ],
          "scatterpolargl": [
           {
            "marker": {
             "colorbar": {
              "outlinewidth": 0,
              "ticks": ""
             }
            },
            "type": "scatterpolargl"
           }
          ],
          "scatterternary": [
           {
            "marker": {
             "colorbar": {
              "outlinewidth": 0,
              "ticks": ""
             }
            },
            "type": "scatterternary"
           }
          ],
          "surface": [
           {
            "colorbar": {
             "outlinewidth": 0,
             "ticks": ""
            },
            "colorscale": [
             [
              0,
              "#0d0887"
             ],
             [
              0.1111111111111111,
              "#46039f"
             ],
             [
              0.2222222222222222,
              "#7201a8"
             ],
             [
              0.3333333333333333,
              "#9c179e"
             ],
             [
              0.4444444444444444,
              "#bd3786"
             ],
             [
              0.5555555555555556,
              "#d8576b"
             ],
             [
              0.6666666666666666,
              "#ed7953"
             ],
             [
              0.7777777777777778,
              "#fb9f3a"
             ],
             [
              0.8888888888888888,
              "#fdca26"
             ],
             [
              1,
              "#f0f921"
             ]
            ],
            "type": "surface"
           }
          ],
          "table": [
           {
            "cells": {
             "fill": {
              "color": "#EBF0F8"
             },
             "line": {
              "color": "white"
             }
            },
            "header": {
             "fill": {
              "color": "#C8D4E3"
             },
             "line": {
              "color": "white"
             }
            },
            "type": "table"
           }
          ]
         },
         "layout": {
          "annotationdefaults": {
           "arrowcolor": "#2a3f5f",
           "arrowhead": 0,
           "arrowwidth": 1
          },
          "autotypenumbers": "strict",
          "coloraxis": {
           "colorbar": {
            "outlinewidth": 0,
            "ticks": ""
           }
          },
          "colorscale": {
           "diverging": [
            [
             0,
             "#8e0152"
            ],
            [
             0.1,
             "#c51b7d"
            ],
            [
             0.2,
             "#de77ae"
            ],
            [
             0.3,
             "#f1b6da"
            ],
            [
             0.4,
             "#fde0ef"
            ],
            [
             0.5,
             "#f7f7f7"
            ],
            [
             0.6,
             "#e6f5d0"
            ],
            [
             0.7,
             "#b8e186"
            ],
            [
             0.8,
             "#7fbc41"
            ],
            [
             0.9,
             "#4d9221"
            ],
            [
             1,
             "#276419"
            ]
           ],
           "sequential": [
            [
             0,
             "#0d0887"
            ],
            [
             0.1111111111111111,
             "#46039f"
            ],
            [
             0.2222222222222222,
             "#7201a8"
            ],
            [
             0.3333333333333333,
             "#9c179e"
            ],
            [
             0.4444444444444444,
             "#bd3786"
            ],
            [
             0.5555555555555556,
             "#d8576b"
            ],
            [
             0.6666666666666666,
             "#ed7953"
            ],
            [
             0.7777777777777778,
             "#fb9f3a"
            ],
            [
             0.8888888888888888,
             "#fdca26"
            ],
            [
             1,
             "#f0f921"
            ]
           ],
           "sequentialminus": [
            [
             0,
             "#0d0887"
            ],
            [
             0.1111111111111111,
             "#46039f"
            ],
            [
             0.2222222222222222,
             "#7201a8"
            ],
            [
             0.3333333333333333,
             "#9c179e"
            ],
            [
             0.4444444444444444,
             "#bd3786"
            ],
            [
             0.5555555555555556,
             "#d8576b"
            ],
            [
             0.6666666666666666,
             "#ed7953"
            ],
            [
             0.7777777777777778,
             "#fb9f3a"
            ],
            [
             0.8888888888888888,
             "#fdca26"
            ],
            [
             1,
             "#f0f921"
            ]
           ]
          },
          "colorway": [
           "#636efa",
           "#EF553B",
           "#00cc96",
           "#ab63fa",
           "#FFA15A",
           "#19d3f3",
           "#FF6692",
           "#B6E880",
           "#FF97FF",
           "#FECB52"
          ],
          "font": {
           "color": "#2a3f5f"
          },
          "geo": {
           "bgcolor": "white",
           "lakecolor": "white",
           "landcolor": "#E5ECF6",
           "showlakes": true,
           "showland": true,
           "subunitcolor": "white"
          },
          "hoverlabel": {
           "align": "left"
          },
          "hovermode": "closest",
          "mapbox": {
           "style": "light"
          },
          "paper_bgcolor": "white",
          "plot_bgcolor": "#E5ECF6",
          "polar": {
           "angularaxis": {
            "gridcolor": "white",
            "linecolor": "white",
            "ticks": ""
           },
           "bgcolor": "#E5ECF6",
           "radialaxis": {
            "gridcolor": "white",
            "linecolor": "white",
            "ticks": ""
           }
          },
          "scene": {
           "xaxis": {
            "backgroundcolor": "#E5ECF6",
            "gridcolor": "white",
            "gridwidth": 2,
            "linecolor": "white",
            "showbackground": true,
            "ticks": "",
            "zerolinecolor": "white"
           },
           "yaxis": {
            "backgroundcolor": "#E5ECF6",
            "gridcolor": "white",
            "gridwidth": 2,
            "linecolor": "white",
            "showbackground": true,
            "ticks": "",
            "zerolinecolor": "white"
           },
           "zaxis": {
            "backgroundcolor": "#E5ECF6",
            "gridcolor": "white",
            "gridwidth": 2,
            "linecolor": "white",
            "showbackground": true,
            "ticks": "",
            "zerolinecolor": "white"
           }
          },
          "shapedefaults": {
           "line": {
            "color": "#2a3f5f"
           }
          },
          "ternary": {
           "aaxis": {
            "gridcolor": "white",
            "linecolor": "white",
            "ticks": ""
           },
           "baxis": {
            "gridcolor": "white",
            "linecolor": "white",
            "ticks": ""
           },
           "bgcolor": "#E5ECF6",
           "caxis": {
            "gridcolor": "white",
            "linecolor": "white",
            "ticks": ""
           }
          },
          "title": {
           "x": 0.05
          },
          "xaxis": {
           "automargin": true,
           "gridcolor": "white",
           "linecolor": "white",
           "ticks": "",
           "title": {
            "standoff": 15
           },
           "zerolinecolor": "white",
           "zerolinewidth": 2
          },
          "yaxis": {
           "automargin": true,
           "gridcolor": "white",
           "linecolor": "white",
           "ticks": "",
           "title": {
            "standoff": 15
           },
           "zerolinecolor": "white",
           "zerolinewidth": 2
          }
         }
        },
        "xaxis": {
         "anchor": "y",
         "domain": [
          0,
          1
         ],
         "title": {
          "text": "Mass"
         }
        },
        "yaxis": {
         "anchor": "x",
         "domain": [
          0,
          1
         ],
         "title": {
          "text": "RT"
         }
        }
       }
      },
      "text/html": [
       "<div>                            <div id=\"d42825e2-7875-4a24-841e-75ed8cbea78c\" class=\"plotly-graph-div\" style=\"height:525px; width:100%;\"></div>            <script type=\"text/javascript\">                require([\"plotly\"], function(Plotly) {                    window.PLOTLYENV=window.PLOTLYENV || {};                                    if (document.getElementById(\"d42825e2-7875-4a24-841e-75ed8cbea78c\")) {                    Plotly.newPlot(                        \"d42825e2-7875-4a24-841e-75ed8cbea78c\",                        [{\"hovertemplate\": \"Mass=%{x}<br>RT=%{y}<extra></extra>\", \"legendgroup\": \"\", \"marker\": {\"color\": \"#636efa\", \"symbol\": \"circle\"}, \"mode\": \"markers\", \"name\": \"\", \"orientation\": \"v\", \"showlegend\": false, \"type\": \"scatter\", \"x\": [24302.2287870343, 24259.1922990559, 24245.255351956, 24359.1761602531, 24316.1748484255, 24942.5442052376, 24203.2678313727, 24217.2852944405, 24189.2496993168, 24330.1641237846, 24373.1507494765, 24273.199828793, 24274.1998710885, 24287.2066213141, 24957.5334113811, 24231.2433991696, 24416.1000120463, 24344.1547567587, 24928.5233447351, 24998.4791230846, 24429.1043982891, 24386.1085332255, 24343.1569440815, 24984.5333059569, 25014.4667171957, 24999.4708379293, 24400.0898301452, 24971.5229696282, 24415.1203711455, 24401.1154252794, 24372.1647315739, 24174.2351799288, 24930.5071322198, 24399.0949925611, 24970.5231183379, 24173.224767095, 24972.521194353, 24349.1905510274, 24214.2747268661, 24927.4987800355, 24440.076530119, 24913.4687554411, 24914.4928103627, 25006.4417464573, 24357.1304331109, 24271.2071545946, 24244.1492319967, 24246.2136932877, 24380.1373586926, 24276.2001070922], \"xaxis\": \"x\", \"y\": [3.90296001987457, 3.87923713482221, 3.87923713482221, 3.90296001987457, 3.90296001987457, 3.9973597363313, 3.87923713482221, 3.87923713482221, 3.87923713482221, 3.87923713482221, 3.90296001987457, 3.90296001987457, 3.86146371719042, 3.90296001987457, 4.01525069233576, 3.87923713482221, 3.90296001987457, 3.90296001987457, 3.9973597363313, 3.97358400977453, 3.90296001987457, 3.90296001987457, 3.86146371719042, 3.9973597363313, 3.9973597363313, 4.01525069233576, 3.86146371719042, 3.9973597363313, 3.95110074238777, 3.87923713482221, 3.9973597363313, 3.87923713482221, 3.9973597363313, 3.90296001987457, 4.01525069233576, 3.87923713482221, 3.9973597363313, 3.92455939408938, 3.86146371719042, 3.9973597363313, 3.87923713482221, 3.9973597363313, 3.9973597363313, 3.97358400977453, 3.90296001987457, 3.9973597363313, 3.97358400977453, 3.97358400977453, 3.87923713482221, 3.87923713482221], \"yaxis\": \"y\"}],                        {\"legend\": {\"tracegroupgap\": 0}, \"margin\": {\"t\": 60}, \"template\": {\"data\": {\"bar\": [{\"error_x\": {\"color\": \"#2a3f5f\"}, \"error_y\": {\"color\": \"#2a3f5f\"}, \"marker\": {\"line\": {\"color\": \"#E5ECF6\", \"width\": 0.5}}, \"type\": \"bar\"}], \"barpolar\": [{\"marker\": {\"line\": {\"color\": \"#E5ECF6\", \"width\": 0.5}}, \"type\": \"barpolar\"}], \"carpet\": [{\"aaxis\": {\"endlinecolor\": \"#2a3f5f\", \"gridcolor\": \"white\", \"linecolor\": \"white\", \"minorgridcolor\": \"white\", \"startlinecolor\": \"#2a3f5f\"}, \"baxis\": {\"endlinecolor\": \"#2a3f5f\", \"gridcolor\": \"white\", \"linecolor\": \"white\", \"minorgridcolor\": \"white\", \"startlinecolor\": \"#2a3f5f\"}, \"type\": \"carpet\"}], \"choropleth\": [{\"colorbar\": {\"outlinewidth\": 0, \"ticks\": \"\"}, \"type\": \"choropleth\"}], \"contour\": [{\"colorbar\": {\"outlinewidth\": 0, \"ticks\": \"\"}, \"colorscale\": [[0.0, \"#0d0887\"], [0.1111111111111111, \"#46039f\"], [0.2222222222222222, \"#7201a8\"], [0.3333333333333333, \"#9c179e\"], [0.4444444444444444, \"#bd3786\"], [0.5555555555555556, \"#d8576b\"], [0.6666666666666666, \"#ed7953\"], [0.7777777777777778, \"#fb9f3a\"], [0.8888888888888888, \"#fdca26\"], [1.0, \"#f0f921\"]], \"type\": \"contour\"}], \"contourcarpet\": [{\"colorbar\": {\"outlinewidth\": 0, \"ticks\": \"\"}, \"type\": \"contourcarpet\"}], \"heatmap\": [{\"colorbar\": {\"outlinewidth\": 0, \"ticks\": \"\"}, \"colorscale\": [[0.0, \"#0d0887\"], [0.1111111111111111, \"#46039f\"], [0.2222222222222222, \"#7201a8\"], [0.3333333333333333, \"#9c179e\"], [0.4444444444444444, \"#bd3786\"], [0.5555555555555556, \"#d8576b\"], [0.6666666666666666, \"#ed7953\"], [0.7777777777777778, \"#fb9f3a\"], [0.8888888888888888, \"#fdca26\"], [1.0, \"#f0f921\"]], \"type\": \"heatmap\"}], \"heatmapgl\": [{\"colorbar\": {\"outlinewidth\": 0, \"ticks\": \"\"}, \"colorscale\": [[0.0, \"#0d0887\"], [0.1111111111111111, \"#46039f\"], [0.2222222222222222, \"#7201a8\"], [0.3333333333333333, \"#9c179e\"], [0.4444444444444444, \"#bd3786\"], [0.5555555555555556, \"#d8576b\"], [0.6666666666666666, \"#ed7953\"], [0.7777777777777778, \"#fb9f3a\"], [0.8888888888888888, \"#fdca26\"], [1.0, \"#f0f921\"]], \"type\": \"heatmapgl\"}], \"histogram\": [{\"marker\": {\"colorbar\": {\"outlinewidth\": 0, \"ticks\": \"\"}}, \"type\": \"histogram\"}], \"histogram2d\": [{\"colorbar\": {\"outlinewidth\": 0, \"ticks\": \"\"}, \"colorscale\": [[0.0, \"#0d0887\"], [0.1111111111111111, \"#46039f\"], [0.2222222222222222, \"#7201a8\"], [0.3333333333333333, \"#9c179e\"], [0.4444444444444444, \"#bd3786\"], [0.5555555555555556, \"#d8576b\"], [0.6666666666666666, \"#ed7953\"], [0.7777777777777778, \"#fb9f3a\"], [0.8888888888888888, \"#fdca26\"], [1.0, \"#f0f921\"]], \"type\": \"histogram2d\"}], \"histogram2dcontour\": [{\"colorbar\": {\"outlinewidth\": 0, \"ticks\": \"\"}, \"colorscale\": [[0.0, \"#0d0887\"], [0.1111111111111111, \"#46039f\"], [0.2222222222222222, \"#7201a8\"], [0.3333333333333333, \"#9c179e\"], [0.4444444444444444, \"#bd3786\"], [0.5555555555555556, \"#d8576b\"], [0.6666666666666666, \"#ed7953\"], [0.7777777777777778, \"#fb9f3a\"], [0.8888888888888888, \"#fdca26\"], [1.0, \"#f0f921\"]], \"type\": \"histogram2dcontour\"}], \"mesh3d\": [{\"colorbar\": {\"outlinewidth\": 0, \"ticks\": \"\"}, \"type\": \"mesh3d\"}], \"parcoords\": [{\"line\": {\"colorbar\": {\"outlinewidth\": 0, \"ticks\": \"\"}}, \"type\": \"parcoords\"}], \"pie\": [{\"automargin\": true, \"type\": \"pie\"}], \"scatter\": [{\"marker\": {\"colorbar\": {\"outlinewidth\": 0, \"ticks\": \"\"}}, \"type\": \"scatter\"}], \"scatter3d\": [{\"line\": {\"colorbar\": {\"outlinewidth\": 0, \"ticks\": \"\"}}, \"marker\": {\"colorbar\": {\"outlinewidth\": 0, \"ticks\": \"\"}}, \"type\": \"scatter3d\"}], \"scattercarpet\": [{\"marker\": {\"colorbar\": {\"outlinewidth\": 0, \"ticks\": \"\"}}, \"type\": \"scattercarpet\"}], \"scattergeo\": [{\"marker\": {\"colorbar\": {\"outlinewidth\": 0, \"ticks\": \"\"}}, \"type\": \"scattergeo\"}], \"scattergl\": [{\"marker\": {\"colorbar\": {\"outlinewidth\": 0, \"ticks\": \"\"}}, \"type\": \"scattergl\"}], \"scattermapbox\": [{\"marker\": {\"colorbar\": {\"outlinewidth\": 0, \"ticks\": \"\"}}, \"type\": \"scattermapbox\"}], \"scatterpolar\": [{\"marker\": {\"colorbar\": {\"outlinewidth\": 0, \"ticks\": \"\"}}, \"type\": \"scatterpolar\"}], \"scatterpolargl\": [{\"marker\": {\"colorbar\": {\"outlinewidth\": 0, \"ticks\": \"\"}}, \"type\": \"scatterpolargl\"}], \"scatterternary\": [{\"marker\": {\"colorbar\": {\"outlinewidth\": 0, \"ticks\": \"\"}}, \"type\": \"scatterternary\"}], \"surface\": [{\"colorbar\": {\"outlinewidth\": 0, \"ticks\": \"\"}, \"colorscale\": [[0.0, \"#0d0887\"], [0.1111111111111111, \"#46039f\"], [0.2222222222222222, \"#7201a8\"], [0.3333333333333333, \"#9c179e\"], [0.4444444444444444, \"#bd3786\"], [0.5555555555555556, \"#d8576b\"], [0.6666666666666666, \"#ed7953\"], [0.7777777777777778, \"#fb9f3a\"], [0.8888888888888888, \"#fdca26\"], [1.0, \"#f0f921\"]], \"type\": \"surface\"}], \"table\": [{\"cells\": {\"fill\": {\"color\": \"#EBF0F8\"}, \"line\": {\"color\": \"white\"}}, \"header\": {\"fill\": {\"color\": \"#C8D4E3\"}, \"line\": {\"color\": \"white\"}}, \"type\": \"table\"}]}, \"layout\": {\"annotationdefaults\": {\"arrowcolor\": \"#2a3f5f\", \"arrowhead\": 0, \"arrowwidth\": 1}, \"autotypenumbers\": \"strict\", \"coloraxis\": {\"colorbar\": {\"outlinewidth\": 0, \"ticks\": \"\"}}, \"colorscale\": {\"diverging\": [[0, \"#8e0152\"], [0.1, \"#c51b7d\"], [0.2, \"#de77ae\"], [0.3, \"#f1b6da\"], [0.4, \"#fde0ef\"], [0.5, \"#f7f7f7\"], [0.6, \"#e6f5d0\"], [0.7, \"#b8e186\"], [0.8, \"#7fbc41\"], [0.9, \"#4d9221\"], [1, \"#276419\"]], \"sequential\": [[0.0, \"#0d0887\"], [0.1111111111111111, \"#46039f\"], [0.2222222222222222, \"#7201a8\"], [0.3333333333333333, \"#9c179e\"], [0.4444444444444444, \"#bd3786\"], [0.5555555555555556, \"#d8576b\"], [0.6666666666666666, \"#ed7953\"], [0.7777777777777778, \"#fb9f3a\"], [0.8888888888888888, \"#fdca26\"], [1.0, \"#f0f921\"]], \"sequentialminus\": [[0.0, \"#0d0887\"], [0.1111111111111111, \"#46039f\"], [0.2222222222222222, \"#7201a8\"], [0.3333333333333333, \"#9c179e\"], [0.4444444444444444, \"#bd3786\"], [0.5555555555555556, \"#d8576b\"], [0.6666666666666666, \"#ed7953\"], [0.7777777777777778, \"#fb9f3a\"], [0.8888888888888888, \"#fdca26\"], [1.0, \"#f0f921\"]]}, \"colorway\": [\"#636efa\", \"#EF553B\", \"#00cc96\", \"#ab63fa\", \"#FFA15A\", \"#19d3f3\", \"#FF6692\", \"#B6E880\", \"#FF97FF\", \"#FECB52\"], \"font\": {\"color\": \"#2a3f5f\"}, \"geo\": {\"bgcolor\": \"white\", \"lakecolor\": \"white\", \"landcolor\": \"#E5ECF6\", \"showlakes\": true, \"showland\": true, \"subunitcolor\": \"white\"}, \"hoverlabel\": {\"align\": \"left\"}, \"hovermode\": \"closest\", \"mapbox\": {\"style\": \"light\"}, \"paper_bgcolor\": \"white\", \"plot_bgcolor\": \"#E5ECF6\", \"polar\": {\"angularaxis\": {\"gridcolor\": \"white\", \"linecolor\": \"white\", \"ticks\": \"\"}, \"bgcolor\": \"#E5ECF6\", \"radialaxis\": {\"gridcolor\": \"white\", \"linecolor\": \"white\", \"ticks\": \"\"}}, \"scene\": {\"xaxis\": {\"backgroundcolor\": \"#E5ECF6\", \"gridcolor\": \"white\", \"gridwidth\": 2, \"linecolor\": \"white\", \"showbackground\": true, \"ticks\": \"\", \"zerolinecolor\": \"white\"}, \"yaxis\": {\"backgroundcolor\": \"#E5ECF6\", \"gridcolor\": \"white\", \"gridwidth\": 2, \"linecolor\": \"white\", \"showbackground\": true, \"ticks\": \"\", \"zerolinecolor\": \"white\"}, \"zaxis\": {\"backgroundcolor\": \"#E5ECF6\", \"gridcolor\": \"white\", \"gridwidth\": 2, \"linecolor\": \"white\", \"showbackground\": true, \"ticks\": \"\", \"zerolinecolor\": \"white\"}}, \"shapedefaults\": {\"line\": {\"color\": \"#2a3f5f\"}}, \"ternary\": {\"aaxis\": {\"gridcolor\": \"white\", \"linecolor\": \"white\", \"ticks\": \"\"}, \"baxis\": {\"gridcolor\": \"white\", \"linecolor\": \"white\", \"ticks\": \"\"}, \"bgcolor\": \"#E5ECF6\", \"caxis\": {\"gridcolor\": \"white\", \"linecolor\": \"white\", \"ticks\": \"\"}}, \"title\": {\"x\": 0.05}, \"xaxis\": {\"automargin\": true, \"gridcolor\": \"white\", \"linecolor\": \"white\", \"ticks\": \"\", \"title\": {\"standoff\": 15}, \"zerolinecolor\": \"white\", \"zerolinewidth\": 2}, \"yaxis\": {\"automargin\": true, \"gridcolor\": \"white\", \"linecolor\": \"white\", \"ticks\": \"\", \"title\": {\"standoff\": 15}, \"zerolinecolor\": \"white\", \"zerolinewidth\": 2}}}, \"xaxis\": {\"anchor\": \"y\", \"domain\": [0.0, 1.0], \"title\": {\"text\": \"Mass\"}}, \"yaxis\": {\"anchor\": \"x\", \"domain\": [0.0, 1.0], \"title\": {\"text\": \"RT\"}}},                        {\"responsive\": true}                    ).then(function(){\n",
       "                            \n",
       "var gd = document.getElementById('d42825e2-7875-4a24-841e-75ed8cbea78c');\n",
       "var x = new MutationObserver(function (mutations, observer) {{\n",
       "        var display = window.getComputedStyle(gd).display;\n",
       "        if (!display || display === 'none') {{\n",
       "            console.log([gd, 'removed!']);\n",
       "            Plotly.purge(gd);\n",
       "            observer.disconnect();\n",
       "        }}\n",
       "}});\n",
       "\n",
       "// Listen for the removal of the full notebook cells\n",
       "var notebookContainer = gd.closest('#notebook-container');\n",
       "if (notebookContainer) {{\n",
       "    x.observe(notebookContainer, {childList: true});\n",
       "}}\n",
       "\n",
       "// Listen for the clearing of the current output cell\n",
       "var outputEl = gd.closest('.output');\n",
       "if (outputEl) {{\n",
       "    x.observe(outputEl, {childList: true});\n",
       "}}\n",
       "\n",
       "                        })                };                });            </script>        </div>"
      ]
     },
     "metadata": {},
     "output_type": "display_data"
    }
   ],
   "source": [
    "plotly_zone(df_intact_mock)\n",
    "plotly_zone(df_intact_rsv)"
   ]
  },
  {
   "cell_type": "code",
   "execution_count": 23,
   "id": "hydraulic-teens",
   "metadata": {},
   "outputs": [
    {
     "data": {
      "text/plain": [
       "((3285, 5), (1469, 5))"
      ]
     },
     "execution_count": 23,
     "metadata": {},
     "output_type": "execute_result"
    }
   ],
   "source": [
    "df_mock.shape, df_rsv.shape"
   ]
  },
  {
   "cell_type": "code",
   "execution_count": 29,
   "id": "accredited-shopper",
   "metadata": {},
   "outputs": [],
   "source": [
    "dfm_comm_rsv = match_dfs(df_mock, df_rsv)\n",
    "dfm_comm_mock = match_dfs(df_rsv, df_mock)\n",
    "dfm_only_rsv = df_rsv.drop(dfm_comm_rsv.index)\n",
    "dfm_only_mock = df_mock.drop(dfm_comm_mock.index)"
   ]
  },
  {
   "cell_type": "code",
   "execution_count": 51,
   "id": "alert-participant",
   "metadata": {},
   "outputs": [
    {
     "data": {
      "text/plain": [
       "((271, 5), (239, 5))"
      ]
     },
     "execution_count": 51,
     "metadata": {},
     "output_type": "execute_result"
    }
   ],
   "source": [
    "df_mock_top = local_top(df_mock)\n",
    "df_rsv_top = local_top(df_rsv)\n",
    "df_mock_top.shape, df_rsv_top.shape"
   ]
  },
  {
   "cell_type": "code",
   "execution_count": 58,
   "id": "corrected-delay",
   "metadata": {},
   "outputs": [],
   "source": [
    "_, df_rsv_top_only = diff_dfs(df_mock_top, df_rsv_top)"
   ]
  },
  {
   "cell_type": "code",
   "execution_count": 106,
   "id": "tough-garbage",
   "metadata": {},
   "outputs": [],
   "source": [
    "# remove adducts from df_gln2\n",
    "adducts = [K, Na]\n",
    "dfm_adducts_list = list()\n",
    "for adduct in adducts:\n",
    "    dfm_r = match_dfs(df_mock, df_mock, shift=adduct)\n",
    "    dfm_adducts_list.append(dfm_r)\n",
    "dfm_adducts = pd.concat(dfm_adducts_list).drop_duplicates()\n",
    "df_mock_without_adducts = df_mock.drop(dfm_adducts.index)"
   ]
  },
  {
   "cell_type": "code",
   "execution_count": 107,
   "id": "informational-elimination",
   "metadata": {},
   "outputs": [],
   "source": [
    "# remove adducts from df_gln2\n",
    "adducts = [K, Na]\n",
    "dfm_adducts_list = list()\n",
    "for adduct in adducts:\n",
    "    dfm_r = match_dfs(df_rsv, df_rsv, shift=adduct)\n",
    "    dfm_adducts_list.append(dfm_r)\n",
    "dfm_adducts = pd.concat(dfm_adducts_list).drop_duplicates()\n",
    "df_rsv_without_adducts = df_rsv.drop(dfm_adducts.index)"
   ]
  },
  {
   "cell_type": "code",
   "execution_count": 108,
   "id": "prescription-brighton",
   "metadata": {},
   "outputs": [
    {
     "data": {
      "application/vnd.plotly.v1+json": {
       "config": {
        "plotlyServerURL": "https://plot.ly"
       },
       "data": [
        {
         "hovertemplate": "Mass=%{x}<br>RT=%{y}<extra></extra>",
         "legendgroup": "",
         "marker": {
          "color": "#636efa",
          "symbol": "circle"
         },
         "mode": "markers",
         "name": "",
         "showlegend": false,
         "type": "scattergl",
         "x": [
          4242.477962707,
          24203.2441160552,
          24189.2335295096,
          24303.2287018805,
          24217.2722922851,
          5222.60351265877,
          24246.2258232164,
          5421.7989969733,
          4571.5336862149,
          5567.65154957374,
          1510.94102984884,
          24260.1859092897,
          4916.58651238278,
          5115.77363445905,
          5727.82557622902,
          24317.2107171479,
          6720.98473865703,
          5912.69745765164,
          24274.2099329062,
          6527.78325718211,
          1531.78380940027,
          24359.1949442409,
          24231.253775027,
          6220.74431608048,
          6415.93899366745,
          8182.01703812708,
          6706.96322020598,
          3938.65307812382,
          6070.89355835768,
          24287.2129413663,
          6056.87422528173,
          8793.07888505076,
          7547.93449871077,
          6401.92123133645,
          8488.0502594574,
          1587.95010677179,
          5236.67758816738,
          9138.14874190032,
          10744.3489280577,
          24329.2062693692,
          4055.69648712505,
          6857.85255274996,
          4810.72945096193,
          10438.3098685293,
          7876.98579498371,
          5581.72157374652,
          7706.11370014647,
          9788.22377495241,
          24174.2403000097,
          8715.2671040872,
          7202.90328808054,
          5204.63075238159,
          7361.07132121678,
          5221.70762872453,
          3821.61004506974,
          11661.4891422905,
          5518.75664946969,
          5549.68481429957,
          4256.49357701502,
          5847.81111280899,
          4874.66655487297,
          24344.2209057052,
          8396.21162566792,
          5180.69060471517,
          6520.88052709879,
          9483.19989276333,
          9034.30719843659,
          11050.4090722899,
          6856.84004346864,
          5502.74977101624,
          5871.81810473473,
          5870.78835801608,
          10133.2824750163,
          4569.61866131848,
          11356.4280240284,
          5526.74357149474,
          5213.71956446526,
          5863.80320998587,
          4585.56553702614,
          12573.807346699,
          6673.94540751082,
          5478.7351493282,
          5374.76004078131,
          5564.7441924506,
          6825.89416285455,
          12295.5994978442,
          4868.6643228352,
          7768.04917383786,
          6826.93650676415,
          7678.07844078487,
          4805.63389551128,
          8368.16673001581,
          3805.61430418942,
          9006.26025061867,
          5541.7648105402,
          5894.73339603744,
          8687.21695663337,
          6175.81915726646,
          5785.77114901932,
          5839.79204008722,
          4845.64891473929,
          4931.68940822972,
          4899.67073809803,
          4852.66339982053,
          4867.67301367276,
          4508.601632664,
          5110.67501438519,
          5831.78420473764,
          4539.61768201193,
          7171.97251510033,
          5197.71023088718,
          7436.97366219106,
          7333.03724995605,
          5926.7543992647,
          1727.92850196394,
          7438.01005492543,
          5085.67832786234,
          6979.97263370751,
          6528.81230623278,
          7131.94820382209,
          5793.77879240968,
          7752.04367601136,
          5534.75279590422,
          6137.8441485653,
          4930.61011471426,
          5150.6910799006,
          13555.752023826,
          4829.64488835906,
          4898.5778279638,
          6153.84414852927,
          5680.78673675352,
          12600.6462487555,
          8023.12654749202,
          1545.95834593376,
          6505.90195232539,
          5525.7450651589,
          6202.73772073352,
          5440.71606536837,
          4914.66237611887,
          4876.66308498889,
          6874.94314610177,
          24360.1747745729,
          5760.77530912821,
          4891.67060984765,
          5188.71202402027,
          4779.64426300569,
          5244.66950328391,
          5174.70066960374,
          7692.09557591217,
          10679.5490158161,
          6481.87676992589,
          5532.73699605001,
          8037.12464165444,
          4915.66779488395,
          5802.69512451946,
          5166.68841419088,
          4884.66685274642,
          11990.5453295548,
          8794.09756823857,
          5485.7278620608,
          6811.94507214096,
          24302.2484746077,
          5769.77299610095,
          6818.92416650444,
          6105.8284940062,
          5172.69701118031,
          4547.62774281414,
          5429.73019671741,
          5832.80202919849,
          5539.73328222782,
          3688.57077732898,
          5808.78947675892,
          5234.69558170507,
          5464.72755157359,
          7091.94312499992,
          6482.8840304631,
          5799.78636286977,
          5157.70481217489,
          5487.73975844033,
          5260.73042216455,
          7775.05302533044,
          8128.09313461157,
          6509.79547478516,
          5589.73243769244,
          5142.69341218018,
          5125.68611607868,
          4907.68064124595,
          5220.69481432396,
          5886.81889266626,
          24418.1649157564,
          6552.89546402193,
          13250.7090592684,
          5291.72992368477,
          5455.72465600811,
          9339.3653137977,
          10029.4478654854,
          8165.01993537395,
          9684.41304020701,
          8746.17363008036,
          5909.7963585089,
          8489.05839510282,
          24341.1844398268,
          6247.85433625639,
          5523.94965980482,
          9656.34709888222,
          7792.06597524361,
          1666.75341145276,
          5252.71733505675,
          5069.71728504107,
          8701.24421306155,
          8382.18289114889,
          8377.11819710815,
          5775.7804900012,
          5173.70073109291,
          1651.90507092572,
          9020.3009395652,
          7423.00822534791,
          9139.14077591181,
          6214.83959585002,
          6176.85322423835,
          1613.96023976653,
          5119.67628273152,
          14205.850047853,
          11634.6711132757,
          5854.7963399206,
          4295.56564320071,
          8152.11614158558,
          5557.76740158559,
          7808.07115514121,
          5510.75632178909,
          8088.0973640245,
          5229.70962911849,
          5735.78099613285,
          8073.09746307907,
          6145.82534691583,
          3936.45352856628,
          6184.85233118946,
          7347.04890109688,
          5817.78831347006,
          6451.87055549471,
          6090.81440135727,
          7462.01682853942,
          8362.11587376326,
          6023.85433282848,
          8587.16693938491,
          4553.52356949454,
          6458.8792394281,
          4789.63024711134,
          5182.70230926342,
          5268.72526263853,
          14549.8877682934,
          9396.25856907234,
          10001.3814271542,
          12878.8646634261,
          6772.91479663434,
          5574.76397084558,
          4814.6343317573,
          7742.01917431901,
          4813.64073265353,
          8282.11193878192,
          1561.84688603848,
          3936.45260690034,
          5542.77596066072,
          13900.7944574756,
          5149.69889481645,
          7117.95139197894,
          8072.0697533008,
          1615.96097476078,
          5879.8122513016,
          6190.83355844234,
          12244.7778362216,
          5566.77027591047,
          7139.96833933196,
          5258.70908190331,
          8047.07053866492,
          7822.04542755174,
          4938.63597985361,
          6833.92529527463,
          4484.59713305132,
          9099.22510485557,
          1626.76141582568,
          7076.94867216073,
          7761.98752225711,
          6466.88444893239,
          5783.76828664192,
          1732.72549323722,
          7783.06468075003,
          5189.70981046171,
          8397.0491569744,
          5855.80630357024,
          6396.84846165083,
          7559.95804133553,
          6456.85431616201,
          24568.4054211367,
          6419.85786642731,
          10651.4942015714,
          7044.94954476697,
          7543.93996415354,
          6177.85448053443,
          6568.90656106123,
          4565.61361003845,
          6472.88092210764,
          7395.97411629588,
          4860.66264304906,
          10288.3693362048,
          7404.99917400573,
          7528.94278662168,
          5196.71484629141,
          7186.92538723843,
          8528.14457915717,
          5454.7334861937,
          9311.29555676967,
          4584.61326169338,
          5591.74485394624,
          4947.69027039316,
          5550.7684324254,
          4929.65939960926,
          5194.68593074843,
          5807.78886702509,
          7491.98861629855,
          11939.6981189063,
          5511.74676572425,
          8682.15190553517,
          8048.07552448887,
          4923.67239411423,
          4820.64557486458,
          8057.08711997435,
          6739.90405149209,
          10053.3374835431,
          7085.96541778749,
          7446.00411773973,
          6166.82904491878,
          5448.7298991927,
          6099.81384087174,
          6192.86713639567,
          5573.76930375405,
          4524.60780985233,
          7477.02045591975,
          5470.72935510666,
          9982.34936789943,
          6199.8560456788,
          4837.65096189737,
          5415.71510350613,
          8738.17555376106,
          7976.08848635936,
          5621.78589279786,
          6410.86708540351,
          7108.96022882162,
          6489.88500796769,
          11289.6208059939,
          9741.29400691387,
          4885.66016901488,
          6490.89136879108,
          12945.6704477696,
          6094.79970578761,
          9028.20836014083,
          4538.62240476345,
          12545.7579325298,
          4648.78747427121,
          13884.8550367117,
          6576.89630303768,
          12559.8032776201,
          7517.0272166894,
          4963.6894959321,
          9443.24801034081,
          8135.09157100088,
          5527.75637763395,
          5159.68188885534,
          7493.01026429754,
          24361.2220948057,
          11643.464385517,
          5878.80866838384,
          5292.73348313611,
          8441.14212900128,
          5430.72857662157,
          9091.22899718295,
          7486.0281035468,
          5598.7745599972,
          9347.25383700644,
          5942.80416837849,
          5493.74839630464,
          7285.99877024299,
          7729.03853690075,
          6530.80293061068,
          5845.78743974816,
          5416.70724561128,
          6130.82965527479,
          8097.0861398044,
          4843.66332764034,
          6440.84580242836,
          24315.2240179701,
          9358.26261298582,
          7132.98527398183,
          5390.71135393164,
          5134.68528427001,
          11606.588831363,
          6843.91163889612,
          6858.92537148923,
          6748.91924302144,
          6512.84816814605,
          7831.07645734076,
          5203.70791084174,
          8087.09914398849,
          5227.71077500765,
          3631.4126891383,
          6114.82200664152,
          10306.4248035643,
          7523.01224915393,
          9001.21509998302,
          6442.86364409899,
          5596.75321047277,
          5471.72873685039,
          13461.8964097877,
          9771.27018655943,
          6496.88679828817,
          9050.2172690466,
          6065.81849561506,
          4939.68255163069,
          6913.90006150521,
          7720.04882671161,
          6865.90872185579,
          6786.91303475143,
          2624.20034435981,
          7059.95183575378,
          4515.60349692211,
          5243.70530552175,
          10757.3970799225,
          11261.5608545912,
          10421.3296278972,
          5277.71390297257,
          6232.76653548815,
          8056.08174120727,
          4602.64569079501,
          24349.1773786723,
          8104.0942153599,
          5158.70003132464,
          7140.97639053996,
          5253.71912655192,
          7509.02046424927,
          7799.04852704105,
          10376.3706656689,
          5494.75243312561,
          4500.59420969404,
          13184.8945144639,
          6880.91992505989,
          4563.63017682063,
          9638.26602010759,
          6514.87352958991,
          4586.63789333527,
          6756.91955484991,
          8906.22719762977,
          7525.04029670103,
          4821.63321385023,
          6040.81550757911,
          4892.67471642874,
          7501.02569293947,
          6122.82743788465,
          8690.16577973277,
          7421.99426319879,
          8440.13845293206,
          4835.64664043993,
          9273.24973155327,
          9061.2340786792,
          5844.76819287394,
          6215.84382142049,
          6208.83886588334,
          8120.10260006808,
          6782.8119628623,
          8479.13745931899,
          7184.8874610537,
          4579.62624299494,
          9747.29745177984,
          5154.66672683033,
          7743.02934490684,
          4570.61879566549,
          7427.99921506927,
          24400.1673608315,
          7823.0698866271,
          5745.77061195961,
          6763.91338907824,
          13767.9130559715,
          8026.06814939327,
          8417.13971543921,
          5208.63287020048,
          8114.10345735648,
          7485.01488981318,
          5460.71337884188,
          9043.20927297832,
          4849.6439900572,
          8392.12141885164,
          4920.64426298953,
          8973.19974500949,
          8143.10489267033,
          7814.05155289066,
          7878.01690138836,
          6540.80423198187,
          8501.0771531714,
          9075.21966755316,
          6434.8684019403,
          5508.73786565087,
          5919.8120285157,
          8723.16409402519,
          5447.75061252413,
          9105.23084244658,
          8786.18185096669,
          7429.00275732704,
          4946.69956153494,
          11980.5968504626,
          5580.73943126972,
          15520.0629739331,
          4844.65734648381,
          4853.65517249353,
          7214.90939396164,
          5246.70409404537,
          6224.85530948386,
          7516.01343390067,
          9693.29540402375,
          9083.23061027556,
          7149.9685377682,
          9336.25235071141,
          5284.73845643532,
          8834.1949711411,
          4531.74555178785,
          6724.89084342034,
          4877.65637751765,
          7179.97130134625,
          6808.91536816688,
          1578.21649420591,
          5217.68908319758,
          6541.80939506584,
          7697.02667546854,
          10046.3255116555,
          6730.90645901503,
          5472.73192767628,
          9325.32267551524,
          5190.7006229805,
          9068.22338099575,
          9435.26954757858,
          11275.5734502095,
          5720.7644363236,
          6338.78713595439,
          9436.28537286812,
          5445.7199390237,
          4828.65429671381,
          8340.09260267003,
          6792.91423331381,
          5910.82337887917,
          13578.8726104894,
          8402.1351874995,
          10085.3458221962,
          7710.0274601926,
          7875.99678149715,
          7219.98226901513,
          24336.1971241901,
          11957.5907412256,
          8331.11640714828,
          7382.99090384135,
          11442.4196785379,
          7471.01771122065,
          7012.89911672026,
          6476.82018378395,
          5286.70393748487,
          6089.81740070076,
          8725.17128105671,
          7508.02000102361,
          9801.26850984208,
          5276.73707593181,
          5533.75975552492,
          6838.85948395459,
          8754.18865525277,
          6023.84917270368,
          10007.335776171,
          5605.78557318961,
          4523.61026778241,
          5499.71479191971,
          4883.66963499742,
          13475.8611181742,
          14895.973479262,
          7478.02844175901,
          8809.16765259681,
          9259.25169573161,
          8363.129668088,
          6119.81869823388,
          6546.89725809839,
          12850.8058489176,
          5226.68504288709,
          6263.87272272323,
          10749.363965551,
          5853.7932010007,
          9390.26542845109,
          4236.47676500154,
          8732.18111477058,
          7472.01046682747,
          24352.2077320996,
          12587.7855283328,
          5135.68031985554,
          8033.08056260342,
          2025.85016807232,
          5861.80694288439,
          7744.04952138314,
          7839.05260020111,
          6714.91032461641,
          4846.63530472394,
          3102.46769499857,
          7166.96963438087,
          5822.78873201701,
          6151.80717475531,
          13489.9276708566,
          9303.23480225283,
          5124.69005948143,
          5904.80464381329,
          7054.94974131906,
          10594.3919546547,
          8393.12400929611,
          6866.95368212553,
          8536.18158343514,
          7405.99363928241,
          11032.3937057374,
          10994.4737691938,
          7211.98511264212,
          7798.03212689802,
          9046.13504541591,
          8099.10379551405,
          9968.34118039012,
          5918.81263545827,
          13170.8208953368,
          4859.65958312421,
          8002.06641673225,
          5556.75173007064,
          5830.77836925654,
          6849.93756157906,
          10305.3914623435,
          7534.00163944805,
          7872.97469151612,
          13781.8868893685,
          7354.9764343124,
          3990.52695651799,
          5492.74189926886,
          5823.79984379152,
          2635.28958975437,
          8011.06958754381,
          4842.67200393573,
          5958.82566249549,
          1684.82524748686,
          7700.0164869633,
          4872.64910416228,
          6732.90569419522,
          10450.3806337627,
          5140.68427840383,
          4594.63956944388,
          24295.2287509958,
          5989.8391731967,
          1563.9288630053,
          14188.8843644816,
          5862.81470704524,
          5750.76392615107,
          10979.4722050823,
          15201.0257333709,
          6131.72762165957,
          4978.69623618165,
          5439.71981151994,
          8472.09885193448,
          6801.92083421287,
          4910.66811938681,
          7036.92700124728,
          5553.65287069624,
          15185.0520090648,
          4882.66652694002,
          13795.9483942998,
          7183.94371916852,
          7031.90993459618,
          4858.6597666102,
          9651.29350483857,
          10040.3253702204,
          11964.6022475059,
          7889.00173915653,
          2980.33672398377,
          4983.68999365839,
          6779.90996756471,
          5141.68250280996,
          6600.913354241,
          8681.16559693089,
          9726.30033849397,
          9039.21561815833,
          1551.777834727,
          5815.77960033912,
          6409.85653327502,
          7375.00149680375,
          14072.9553710697,
          8989.19984404448,
          5512.74212724157,
          6794.92501391744,
          5118.67945796189,
          5614.77158143949,
          7504.02579480343,
          5613.76679890823,
          24238.1992919477,
          1555.95585121946,
          11917.6083756602,
          6744.8932945555,
          8018.0640670144,
          10698.4161220095,
          10328.3877114686,
          5338.72791949658,
          4765.62979949919,
          8199.10568858645,
          8659.14777306997,
          11283.5003475509,
          13883.8686656507,
          24583.4200643698,
          9417.26387036633,
          5806.76526080241,
          6796.91983722582,
          8668.16282057488,
          6074.80080708624,
          5522.73517158014,
          5934.82008704869,
          6608.91878465985,
          8017.07544108287,
          10665.5066863353,
          6182.84296324804,
          6842.8912140299,
          8403.1315904093,
          7456.00099882826,
          9679.30376344569,
          7861.03089010347,
          5070.67074037209,
          11299.5332723638,
          6080.81838778687,
          8379.15224371768,
          10071.3436036477,
          8967.21291584072,
          4861.65510591775,
          6752.89388355578,
          8824.19449223374,
          5500.72974411466,
          9130.21456824036,
          8777.10895842578,
          8785.17993604094,
          6270.850644719,
          8504.1502557157,
          4969.66893551806,
          6536.90372571863,
          12864.8293185378,
          10344.3843057317,
          5480.72618287197,
          12216.7040703617,
          5897.76022252067,
          7146.98685935137,
          8463.14071899426,
          5653.78566212633,
          5837.78270714741,
          8818.19357394314,
          6889.96016735698,
          8733.16169419202,
          4955.70050392268,
          7187.91573557876,
          4806.62521177497,
          6346.84837000793,
          7049.93556119202,
          7062.96144768703,
          14291.854445187,
          4981.65804376697,
          8470.0485324831,
          5100.68112758879,
          7572.02727206406,
          7842.06758043465,
          10116.2957651422,
          9370.2630538319,
          13275.7971058926,
          12288.6393882101,
          7367.99186026899,
          5935.82278192108,
          13569.8213720071,
          6123.82497156206,
          9669.31134076333,
          5759.77186507331,
          7048.93296591058,
          7531.98337927772,
          7432.9978932326,
          7390.99072456268,
          5895.82477845286,
          4618.64029920068,
          6400.85118022149,
          11371.5163709832,
          7603.88681087897,
          7358.96680389974,
          6762.89846201072,
          7696.03164723756,
          7712.01146616869,
          4530.61027401369,
          5671.76198259991,
          7045.94444238886,
          6584.70164348207,
          5061.67566452584,
          9770.26324198012,
          12253.6235205817,
          6128.83299788627,
          5457.71189199481,
          5801.78075808607,
          11245.4935368418,
          7020.9190609833,
          2414.3744,
          7162.99060742175,
          10958.4873131043,
          8016.07131971675,
          8707.16766150614,
          14189.9733050656,
          8776.12148004742,
          5746.75290657845,
          7869.09331474986,
          6834.93475120781,
          9700.29909486716,
          4476.58438204869,
          5242.70404673754,
          12700.707932644,
          12611.6717349474,
          5132.68900869407,
          11673.540775287,
          8850.0027684436,
          5340.64974911299,
          5685.69073696731,
          10027.3321610615,
          8450.13998288538,
          6209.85255397977,
          4797.64811662367,
          11875.4984097338,
          10077.3602738663,
          7228.00965306018,
          14530.9385901153,
          9331.2446359882,
          5251.7206431424,
          7107.96247535037,
          4922.67166495672,
          6921.97320268505,
          9151.16732340183,
          13595.8451581226,
          11021.4773377268,
          24582.4486740926,
          5250.70726606905,
          14101.0004164342,
          5770.75223049354,
          6890.93996236413,
          9757.33608514521,
          8192.1105719443,
          6586.90773646219,
          10643.4207174235,
          8467.15700684395,
          5205.7071059846,
          7456.92204038207,
          11001.4547657981,
          4468.5994890886,
          24390.1809367506,
          6501.87943984647,
          6231.85424128499,
          9014.21580517779,
          6896.93558759313,
          7487.02871305023,
          6239.8799691606,
          5323.74502643249,
          7365.98951633593,
          13579.8097155296,
          7068.96067242752,
          9716.29909083933,
          7858.0009897136,
          6575.87640466482,
          6498.89694911528,
          10656.4181237422,
          5406.90268703968,
          12686.6296203464,
          5425.70953918488,
          8347.11981454259,
          9458.27989428241,
          8034.07435536851,
          6025.79883751938,
          9012.21089135946,
          9122.20921262643,
          8040.08466503372,
          7050.94403659689,
          9430.27678769616,
          7879.0633607541,
          8770.20465059398,
          5094.66264654149,
          8439.12191122413,
          5902.79355487144,
          8348.11163222501,
          6134.80876520456,
          10429.3765327184,
          5798.78645327974,
          12063.6260740521,
          4900.68317652136,
          1628.22600149496,
          6280.86370495108,
          5155.67973748009,
          8039.07141758676,
          5628.78856860934,
          10688.4116584048,
          10633.4188000825,
          8408.12563417185,
          8109.10834563214,
          5805.75375537004,
          8308.10210262333,
          11293.5193488487,
          5164.68982793973,
          12956.7161273373,
          9364.26537312701,
          8238.93241062444,
          6488.88554531984,
          11973.6067759335,
          8358.11257239052,
          10617.413434967,
          8346.11456865743,
          6767.89574964823,
          5187.70370144905,
          8638.13084231833,
          5165.69251375437,
          9187.27668360176,
          7351.97570058787,
          5624.57460529632,
          7391.99393406475,
          4578.64177519196,
          5366.71530106749,
          9420.27814202541,
          6385.86109054509,
          6111.81216189706,
          6238.8629337853,
          8806.12551603206,
          8434.14548220747,
          11747.4366835569,
          7557.0417316813,
          6537.90490550616,
          7373.99714328166,
          12279.5922213011,
          9076.24349161469,
          5400.69423422722,
          9052.22077523325,
          6848.93073024771,
          6503.8808098605,
          5944.81767303577,
          5930.80286105106,
          7119.95081839478,
          5866.78103449588,
          4937.65546091275,
          24389.2081511195,
          10734.3775532085,
          4795.65174152675,
          5898.72323088418,
          13155.8323183499,
          6083.81825974326,
          6556.87002990815,
          10293.3710914867,
          4593.50550323195,
          12266.6453389205,
          5644.7841867406,
          13538.7852323609,
          10720.4240559769,
          5240.71250460054,
          5950.84134456585,
          4577.64031141702,
          2640.19438883696,
          1698.23092156744,
          12926.6676523631,
          9363.24829602205,
          9688.309771458,
          5530.72669858804,
          5851.78787600474,
          11033.3999746567,
          4812.63598957666,
          16052.3189028113,
          5586.7574106239,
          7510.03168445449,
          11651.5187475217,
          24376.1683394146,
          8458.14523914474,
          6506.87054243759,
          6460.86250295672,
          5459.72354856646,
          6075.79058883964,
          9710.30658679032,
          8755.18340429419,
          6289.86993279934,
          7687.01271508535,
          8353.12233480099,
          6535.90261368088,
          1921.70635514537,
          4557.51829153259,
          8431.11022643827,
          5843.79099248315,
          5513.74778713811,
          12021.6245469627,
          8832.18384389953,
          8995.20971190877,
          19992.830417024,
          10664.4257721541,
          5267.72485605519,
          12380.5767269695,
          7300.0035279217,
          9029.22390775068,
          10580.403288099,
          9021.23819460345,
          9350.26657833118,
          8322.10357551034,
          4562.63264173757,
          7691.0318896074,
          6468.88298181769,
          5834.77517247124,
          9348.26601186017,
          1726.23636483376,
          8979.19997201653,
          8759.19196831251,
          5137.66821960176,
          4542.5980742169,
          9944.30721099548,
          8655.15783491661,
          6852.91632443201,
          9677.30068428681,
          19963.7914661887,
          1736.95029512797,
          6058.81109509965,
          6651.90176190892,
          9763.29820655671,
          5629.77931206073,
          10314.3866462943,
          6271.87180227167,
          8185.02059765506,
          8091.01100087236,
          16024.2270564799,
          10939.4342366427,
          6424.84258565488,
          5630.77074652809,
          10352.3782495834,
          11294.5068494256,
          6141.82475547491,
          10422.3850089008,
          10353.3697633046,
          4360.52270585174,
          6841.94566571422,
          10138.3025462121,
          6118.80958068527,
          8656.15943070905,
          8857.20751227853,
          9752.32053828484,
          6584.92751619523,
          11630.5816573755,
          6331.85957706996,
          4228.4656766372,
          8498.15581959654,
          5523.73341549105,
          6467.88637881189,
          7661.0170965592,
          6620.89285036116,
          6418.86157399116,
          4498.60433548049,
          10961.446387811,
          7127.94486705046,
          7095.96235481578,
          8747.16479054514,
          13642.765273264,
          11652.5200018172,
          8369.13564174497,
          11043.4823974958,
          7758.06174682484,
          6906.96089934301,
          14219.8459478949,
          7532.96727556512,
          4265.59307661047,
          5965.84115000129,
          11079.4469686425,
          9496.22271524985,
          12229.6901241925,
          7549.97021613725,
          8649.14199305845,
          11588.528208883,
          14879.9850411143,
          8492.07941144071,
          5443.76818781928,
          13043.7469336261,
          1658.93537918256,
          6702.87721368017,
          5943.82220449933,
          6223.84243561962,
          5120.6592260008,
          6361.84750341469,
          9916.30544938989,
          12971.7346308665,
          8841.21426846735,
          11267.496699055,
          8798.14898058748,
          11384.521083292,
          17514.309832648,
          6082.81246046008,
          1614.88420247599,
          6404.85160093987,
          7381.98985851695,
          9626.26708483049,
          6402.86518268931,
          8953.23056646644,
          5193.69265091547,
          10608.4131530058,
          7196.9722667908,
          5637.79588904039,
          5563.72010416053,
          6780.90910183469,
          8043.07433040098,
          9210.25387579007,
          5875.79886520716,
          12933.7020733957,
          7126.95581523689,
          8803.16958839052,
          4970.69761624592,
          9110.23182646432,
          8713.18525780622,
          8626.13584480616,
          7854.05586482032,
          12310.6223939227,
          13196.790524886,
          6230.83739861017,
          10370.3930347518,
          7061.95673024641,
          9903.32696613338,
          5177.67038523262,
          3950.46877537315,
          12326.6515034004,
          9972.33869897708,
          8448.14885120842,
          15925.1277216945,
          9491.25666428372,
          10955.4828000596,
          12627.695294165,
          9161.23183702537,
          7499.00664907808,
          16196.1588384425,
          9238.25706855629,
          8176.10447974045,
          3325.3837742277,
          6287.86116642698,
          13031.6995552426,
          8422.13587146103,
          10623.4255479097,
          13969.8514967443,
          8067.08599094077,
          9544.27836240367,
          7873.99621854757,
          10721.4480614822,
          7309.01023620329,
          9391.18252096603,
          9602.29334302823,
          6135.824896123,
          8695.16785226587,
          9696.22500181452,
          11337.439031435,
          9663.29600118442,
          9624.28426621555,
          6747.91061418482,
          9448.27801648733,
          4522.61503741494,
          7400.99312408387,
          14215.8876064692,
          8006.06164094317,
          2239.57973092112,
          10673.3921151345,
          7787.04708186068,
          4531.62232599261,
          10650.4197443325,
          15296.030972633,
          5308.73687400341,
          6813.90871394293,
          10084.3515885695,
          9779.27274907111,
          9475.26618923961,
          12146.6244539259,
          9297.2379512168,
          9369.25311733813,
          12907.7320968361,
          16165.2039023439,
          7019.94429694484,
          8780.13151658115,
          4461.57739994783,
          9171.23586467071,
          5901.8062303259,
          14666.9816959058,
          11418.5220720094,
          4836.64045562601,
          8386.1325131445,
          9507.26806830059,
          8062.08737711003,
          5102.69124547739,
          11948.5880013292,
          8765.18512882644,
          7154.96462074129,
          6915.90881386841,
          13867.8519229319,
          4902.57623688799,
          10014.3546305768,
          13915.8489790258,
          8064.09400435671,
          6592.88634729763,
          9579.27431898024,
          7851.07621185299,
          10086.3503385122,
          6504.88390639027,
          7682.01753716488,
          1642.22202151953,
          4756.62977640253,
          5405.72913002919,
          13003.7290963914,
          11746.4380067219,
          8481.13629688693,
          7197.97528706049,
          9013.20606621173,
          10259.3716247471,
          7258.80475141922,
          9694.30684482902,
          10028.3363150507,
          7728.03808295222,
          16687.3400606289,
          11979.5823784519,
          16141.2345289724,
          10766.3990130496,
          7053.94777367314,
          6716.89414563594,
          9112.23142473565,
          7135.95884574363,
          8990.20649164762,
          9830.33106133395,
          5098.67044070618,
          5423.71873661429,
          7454.01624249587,
          16874.2468468162,
          24641.3831141025,
          4580.61635813114,
          4202.5709020189,
          9154.22194939341,
          8552.14923898009,
          8158.10724987182,
          6616.92092210908,
          6684.84414910882,
          10707.4318637362,
          9818.33166713965,
          7113.9510104804,
          11260.5200235092,
          9195.08315939056,
          10092.3610265004,
          7529.92958960387,
          12341.6568914491,
          4827.65469841396,
          8058.08814966322,
          10447.3929857646,
          24554.3641076013,
          9958.32539915615,
          12278.6209169757,
          9957.33024827983,
          11062.4634551874,
          9316.29148890038,
          14431.9866194117,
          7581.04564703646,
          11636.5678904689,
          16659.3282201458,
          1658.23220156562,
          9342.25715935121,
          7686.02398065068,
          8230.13382020489,
          13264.7309270228,
          4135.66408365464,
          2276.31156188186,
          12036.6030087315,
          3704.5646089034,
          10279.3694946565,
          6411.87081737202,
          13225.7802467741,
          7441.99392289156,
          11621.5758459463,
          5283.72505432062,
          13986.8616634471,
          8231.13456694688,
          12619.7021239651,
          14445.0045172386,
          13233.7143676097,
          8457.14681504728,
          14971.9852988135,
          13212.7876189475,
          11603.5647226261,
          10972.4737460817,
          5696.74056417971,
          9734.30473525822,
          8628.18331440098,
          5882.79655214008,
          8274.12982206433,
          7549.01099714269,
          8367.13190345398,
          12315.6317852911,
          4822.63569783138,
          8627.12323971267,
          10924.4501383796,
          5452.73602645495,
          7985.06090040462,
          12558.7199391182,
          11230.4986323226,
          9467.19577617324,
          10658.3948116398,
          12764.7492409383,
          9055.22011090923,
          14564.9574579361,
          6140.82238778788,
          5458.70425984813,
          4610.65884296705,
          15215.0411098747,
          5424.7182097678,
          4460.58535529829,
          7090.94414567325,
          6942.9247645842,
          8544.96025283841,
          8053.07943271442,
          9211.25670131161,
          7410.99256159033,
          13060.7235170086,
          14538.9649033577,
          4911.6612960604,
          13315.7725434968,
          14283.874089273,
          5812.77080877581,
          8032.07030699817,
          8315.10035595815,
          8802.19022075069,
          6929.96380767867,
          17513.3403113155,
          5488.73603584857,
          7719.03157873149,
          10145.3223499451,
          13659.8137577343,
          16330.2877189316,
          9114.21063935133,
          5099.6928154847,
          12355.6612591846,
          12892.8412461889,
          10400.3961581241,
          8637.12221763002,
          12910.7200750214,
          2773.41543342648,
          12544.7509230662,
          11314.5149921984,
          2609.18230478162,
          6637.88246758722,
          9995.32979354406,
          6485.88659379956,
          10956.4936416657,
          5316.7534392383,
          8093.07638520537,
          9381.26116251485,
          13914.8233319791,
          5348.73085075605,
          15837.0994967556,
          13930.8798773023,
          24409.1735139497,
          8288.12988755328,
          10887.496362993,
          7624.9981820248,
          9147.22062736562,
          10460.3821774392,
          4962.68762616392,
          6144.84224005262,
          8881.21564969773,
          8645.12689744265,
          13238.7475264722,
          6030.75205474839,
          6675.8973891664,
          6450.87568838121,
          12917.7532992344,
          5278.52169557268,
          5404.73969695356,
          14863.9953705935,
          11064.4679155585,
          11344.4552794371,
          14234.8801986804,
          4626.6596298383,
          12304.6605444396,
          19199.5535786072,
          7739.01572538704,
          12301.634411796,
          9309.24347413471,
          11398.5055100014,
          10715.4408480144,
          6754.92884956519,
          5326.70861484963,
          12483.6571962577,
          5139.67997318165,
          5467.71436189862,
          6478.85351404218,
          6055.80534248072,
          11553.5182147405,
          15936.1181965498,
          11629.5739869186,
          13747.854708935,
          12603.6344057068,
          5734.77140369785,
          9292.24145619332,
          6126.82444199652,
          4217.5802769444,
          8670.14342671328,
          9460.28988020327,
          5325.71944059534,
          8778.08655844627,
          5084.68059554412,
          5365.7267652024,
          4224.46943005574,
          5412.79661671911,
          9403.25836442886,
          10916.4874264003,
          11609.5504964286,
          8674.16217973089,
          18474.4562802612,
          9423.25838314017,
          9428.28159797444,
          4603.6368943348,
          7465.00152177818,
          7648.0197276292,
          10937.4177938582,
          9319.23857859227,
          9532.3069931735,
          15096.1396477667,
          10308.3028941999,
          9519.30246238793,
          13376.7996705693,
          9609.26095606802,
          11136.365920616,
          10243.3993722883,
          7681.03030369166,
          9806.30531806895,
          12092.621827061,
          14633.9442342781,
          6051.79504099575,
          7671.02703504791,
          6379.85497672976,
          20118.6735840481,
          7763.02764419639,
          8714.18541754564,
          7902.08406945474,
          4514.61244695591,
          7236.01837097712,
          15853.0945342862,
          9453.27469388241,
          13563.8298187914,
          13629.8136447182,
          6963.95814107942,
          13562.8067783836,
          6052.78873671204,
          13532.8324573524,
          11427.5315706292,
          10403.4096691524,
          10413.3838347122,
          8882.20316156837,
          8955.18079111284,
          16775.27261869,
          7294.99581228366,
          11924.625237409,
          13308.7554681204,
          4815.62012922305,
          5255.71757348681,
          7837.07410687991,
          9795.30771469138,
          9279.22869419864,
          6668.85949937776,
          6079.81162292921,
          10448.3384035757,
          5631.73953531571,
          6431.866413845,
          13099.7416226318,
          7473.00700696938,
          14485.9726128244,
          6625.90613464155,
          7838.071841237,
          11008.4678020879,
          12629.7533870076,
          5968.61094881364,
          11570.4287501859,
          14871.9919820452,
          17986.4818551097,
          8956.18815526466,
          7676.03289440571,
          9951.32868796405,
          12130.6447364848,
          13676.8310906505,
          8766.16861429915,
          10682.4134884077,
          18000.5072674706,
          8511.16568065287,
          14565.9520972815,
          16529.1469690079,
          8175.10257671773,
          10481.4029455476,
          13613.7788727034,
          5973.83214702711,
          9446.28987090915,
          13636.8201106303,
          3776.56840635553,
          13069.7663476414,
          6634.90767622722,
          14359.9470719219,
          11386.494986883,
          5020.67426080974,
          15007.0021524758,
          12285.6508097482,
          4639.64178151307,
          11896.5991954122,
          6973.88172042412,
          15511.0373394607,
          6196.85375994732,
          17495.3104942394,
          11950.585201036,
          5021.66941708065,
          8984.20078693212,
          7735.01726968254,
          12916.7264533405,
          10034.3352599977,
          8865.22595740102,
          14360.947301104,
          12364.6748565235,
          10685.4270235555,
          11666.530685966,
          1747.56483444658,
          6067.80339356239,
          9402.26327510013,
          5077.61886452881,
          7144.96285127334,
          11602.5621225858,
          6466.98583103384,
          4855.64592276566,
          4546.63932052117,
          8998.23090312815,
          7731.02530585322,
          13227.7842039648,
          11040.3695127716,
          4782.6230545853,
          11113.5028504265,
          6543.88508833801,
          6157.82155736186,
          17677.4500905686,
          10033.3449497067,
          18014.520776186,
          12008.5981802559,
          5307.74690268495,
          8847.19727505069,
          6241.84155359173,
          6133.81033142335,
          12581.6596720962,
          15068.1165992824,
          13338.7757649043,
          7274.99825837128,
          13503.8702271023,
          7853.04903893417,
          6768.90098912495,
          7283.98062916142,
          9318.24995702577,
          17595.3036247437,
          7751.03072299866,
          9844.19932390348,
          4689.57287954708,
          10469.3961990024,
          8943.17456835163,
          12087.6529130307,
          11455.5069084192,
          7077.95442685802,
          13307.7715402018,
          14416.9979612472,
          11965.6002271408,
          9422.27502316464,
          9326.24262003598,
          8950.17576535936,
          5709.77221509991,
          8842.20868471163,
          5705.73007932888,
          7863.03946843788,
          14275.8641300315,
          7362.97781253062,
          10969.474128203,
          10714.4467238609,
          11315.5168974104,
          4848.63148161444,
          13020.7230120786,
          12372.6664902502,
          18294.5625653653,
          12184.6147316273,
          9988.33312400846,
          6406.94289002544,
          8933.20744351909,
          9087.21946077145,
          9056.22198421881,
          10384.379086724,
          11659.533422568,
          5482.72471691309,
          10519.3934765916,
          7342.97923073102,
          4774.62953755481,
          7993.04640905938,
          3035.40869860081,
          15604.024625168,
          5239.72623114429,
          13874.8721416669,
          14826.0215705616,
          5939.79224726129,
          10495.2850024776,
          12939.7260032667,
          7340.97601955126,
          7013.94636343764,
          12187.6246623995,
          10006.3373444049,
          9506.2636819845,
          12671.6939011247,
          13336.7236191946,
          16358.2841934545,
          11996.5844562312,
          8961.17741920106,
          19977.8081039179,
          12243.6495273226,
          12491.6643816395,
          5579.73559722405,
          12876.7500404845,
          9885.28825815253,
          11742.5490463327,
          11067.4378333582,
          7962.04523517173,
          9929.31629612581,
          6591.91617784507,
          14308.9408761709,
          5941.79848809126,
          6392.87168528647,
          12970.7531525447,
          13027.7417567847,
          5238.70862712063,
          8411.15492555269,
          12685.6671421871,
          9493.28523843022,
          10609.4184876092,
          5043.69484001005,
          1784.2423616175,
          6275.84702905027,
          14990.0092426062,
          7736.02886656557,
          11547.5249339364,
          5927.82315787677,
          14216.8951232929,
          16563.1983581003,
          1732.23544230808,
          7638.05189280644,
          8213.11989444802,
          24613.3962902311,
          10449.4109682035,
          12227.658597515,
          9135.15641269136,
          13692.8402157111,
          1691.22901867635,
          8332.08556080553,
          13010.7514342662,
          1656.14130887918,
          2177.87259913345,
          15955.1352137668,
          16039.2639856548,
          8325.1101770826,
          7083.95397873984,
          7624.0008812374,
          10418.4010382351,
          6299.8169137604,
          6063.82837962187,
          6707.89743356115,
          10329.377416333,
          10433.3453438165,
          9328.26208213942,
          12644.7107461388,
          6646.84198277872,
          5568.77275918653,
          8464.12741712261,
          12273.6218847668,
          12108.6159725697,
          5569.76239486015,
          5752.83191924592,
          10052.4266122753,
          4986.70758634133,
          7238.94549162551,
          17003.34669473,
          11997.5683534907,
          4532.6166726326,
          11280.512479149,
          6318.8775514143,
          5449.7205658149,
          4492.61273640838,
          10992.4628970164,
          4993.69617047256,
          7724.03006228424,
          12309.6331785185,
          9194.22857197228,
          5689.69357820345,
          14574.9495284843,
          13594.822666934,
          11677.5377748433,
          2387.32944963945,
          1532.78214036837,
          6126.81635267765,
          6441.86067017827,
          5156.68540078463,
          10631.4259144686,
          1525.76847529679,
          5869.80102394318,
          13531.8017615357,
          12452.6625185915,
          14223.9112861859,
          12236.6446815301,
          8866.21755196358,
          7133.95133546727,
          5520.7598380536,
          7847.05190254909,
          12371.657247263,
          13612.8243552707,
          1615.54555357731,
          10128.3008788891,
          15718.2060360064,
          7769.02397806682,
          15414.145224822,
          7291.00055927771,
          4773.63744567568,
          11674.562905328,
          9254.21702282343,
          13825.867904041,
          13136.7524058612,
          15974.1600955491,
          7335.93579571254,
          4783.6121051264,
          8061.0720305445,
          14173.8938669359,
          4870.65047551489,
          13450.7911441771,
          7774.06430115414,
          5765.7561570494,
          13291.7764147075,
          7932.93625386692,
          9452.28327357169,
          10350.3614819975,
          6692.8748451334,
          14250.8646857468,
          6261.88731022754,
          13621.8164713364,
          10497.3889526511,
          14891.9769403431,
          2375.33168029997,
          6225.84807788864,
          5730.75622697466,
          8805.11296795328,
          2135.28242914164,
          6054.80641126588,
          8255.12148183726,
          13707.8319736182,
          13374.7964986751,
          5660.79774981376,
          6581.90239483814,
          8122.08675665083,
          14305.9242364278,
          12899.7361293185,
          8476.11740156921,
          10430.3786993494,
          5763.74588053582,
          17706.5296009908,
          9352.3399743522,
          6572.8807956801,
          6048.82799085886,
          3171.43275141609,
          1607.80318845038,
          1608.21892719498,
          11757.5449110394,
          14241.9029768418,
          10768.4482923946,
          9680.29527983484,
          8028.06946169045,
          5095.66083501458,
          10708.42959966,
          18810.4983457378,
          10157.3630023479,
          9321.24618601661,
          14953.0130769147,
          5994.74645808626,
          5339.73897389897,
          9353.32719249913,
          13523.8102411331,
          3177.42549133628,
          8823.19495434793,
          12610.6693286729,
          9124.20391196655,
          5383.6579477583,
          16506.1944465055,
          16544.2133605368,
          11364.4781375145,
          11763.581597505,
          8761.17008410712,
          6631.89195268088,
          14921.9640281729,
          15176.0519575213,
          11322.5111445932,
          13348.7868274314,
          7803.05022347458,
          19818.6410233598,
          11092.4763372286,
          14904.9628737587,
          1912.71230864554,
          6628.89660236473,
          16316.2267852465,
          6197.84074140153,
          5636.76644758745,
          14684.0184631554,
          6700.89201021206,
          12423.6952490842,
          13076.7727775239,
          15870.1535859938,
          9205.24648700367,
          13349.7883972298,
          8208.11879248801,
          10461.4175803051,
          24555.4252445555,
          8388.1056257299,
          14918.0038727557,
          11456.5318576439,
          13527.8044742333,
          4798.64730520458,
          10629.4206489363,
          9340.2433337985,
          14269.9228126922,
          17613.3843967604,
          12593.7206954843,
          12317.6329808236,
          10141.3287368927,
          9543.24713839844,
          10935.4417093008,
          5266.7162842335,
          6515.85429370564,
          11287.515642282,
          2306.31032828481,
          11903.6240272764,
          1619.21847384163,
          4994.7046140427,
          5306.75358084543,
          9178.25180545699,
          13690.8347255943,
          7530.96843061611,
          12422.6746163863,
          11589.5966553984,
          16672.3491813576,
          6357.83041451685,
          10098.3753253491,
          8157.09047467957,
          10147.3176878935,
          14012.8585781901,
          15547.0845727464,
          14970.9858102532,
          4982.66031463079,
          10275.3544828116,
          13510.7816262878,
          12924.7177785145,
          7969.0899110885,
          10441.4048650008,
          9302.25054219928,
          19290.6561450563,
          8935.21181412008,
          7319.00013476042,
          9156.18906891713,
          6265.8415720669,
          7952.06017066988,
          9301.2770266454,
          7563.03436242316,
          17693.4750516684,
          13204.7935194638,
          9074.20258699232,
          9644.27711889746,
          7368.98523876365,
          9927.29289344755,
          12214.6628984237,
          9225.27085134789,
          10820.4286166264,
          7302.98047483347,
          16343.2686584663,
          5247.69421267435,
          10233.3516459645,
          6667.85439933288,
          9293.22303501112,
          7357.95745578745,
          10266.3848611264,
          14086.9670407103,
          14537.9259702997,
          11597.5661732816,
          12888.695392337,
          13627.7934580197,
          5562.74359327739,
          8576.17316147924,
          9867.30389294732,
          13568.8175492084,
          10881.4314182272,
          6666.8836520547,
          13549.8144666653,
          13856.8723646607,
          4624.62230860271,
          14838.0270952993,
          12400.6680329137,
          12948.7317287322,
          2491.01111184001,
          10567.4046368691,
          10397.3993570505,
          16267.1209530476,
          8710.17092893657,
          12056.5968678343,
          12659.6860550476,
          13646.7811076633,
          13270.7350498879,
          4233.58324806021,
          14611.9932116537,
          15177.067389247,
          7236.97106888751,
          11762.5545159618,
          7644.01333144057,
          5055.65889163271,
          13340.7684947557,
          12467.6872987267,
          15475.1207943203,
          14503.9696151139,
          12889.7349267566,
          8222.10968942809,
          14880.9882183216,
          5690.73930634908,
          7369.97876845051,
          9585.25969272964,
          7871.06535535014,
          19962.7834114575,
          12334.6596033281,
          7794.02600292494,
          7756.0399736277,
          11932.5866079258,
          16069.1659598404,
          16396.2273921134,
          5712.76764655576,
          8263.10618633201,
          12342.6398794589,
          10767.4132829564,
          14521.9403079539,
          13999.8745697195,
          13234.7654303085,
          11881.5808660288,
          12895.7205788166,
          7242.98187842404,
          12012.5926382804,
          8988.20411506346,
          10332.3736286765,
          14581.9848973039,
          11403.5325273055,
          15503.029254835,
          15271.0238509627,
          12974.7267873551,
          13301.7422534164,
          5976.79703522997,
          5949.85815932329,
          8474.08727720536,
          14664.9801855751,
          10713.4350019728,
          10549.4275180794,
          5272.70732474854,
          8319.08694372857,
          7983.09451921704,
          9513.27664683585,
          15529.0676866478,
          12643.6915642008,
          6393.86820054181,
          13324.7447529919,
          8092.0851149548,
          5437.74508311143,
          6009.77709805719,
          9078.2164982067,
          13935.8637527456,
          14003.8819445808,
          14171.8927919519,
          17834.3596676052,
          14606.9559022411,
          11469.5429971132,
          5747.74405997379,
          15536.0861731996,
          16050.1690634387,
          5123.66736525896,
          5033.62309889861,
          6650.88201544173,
          13635.8251126072,
          1619.88225786474,
          19177.557444641,
          2327.31716370549,
          15897.1153809584,
          12959.6985526606,
          4676.60365110391,
          13638.8157011474,
          15565.0318439322,
          13070.8078196056,
          8171.07372848501,
          9531.2672267894,
          13219.7535628926,
          11685.5397739394,
          5684.78575292723,
          7991.08013824427,
          7886.07050030838,
          7099.94231451956,
          16886.2249743299,
          10181.3557927412,
          12094.619949184,
          16715.2659731342,
          4224.46755911555,
          19397.581866498,
          12274.6177441551,
          5612.78420590024,
          9711.31111403577,
          14615.936367285,
          7261.98271367221,
          16673.3468627107,
          13483.8004324652,
          8494.16901319135,
          4895.65310128565,
          8633.14600968293,
          15223.0262354474,
          10339.3722857353,
          13210.7407453039,
          10719.4251038131,
          11679.535377642,
          6078.82309426266,
          6319.83119139244,
          9272.21166820686,
          14251.8942529595,
          1688.96953039339,
          15888.1168657148,
          13544.8014637557,
          14901.0087332657,
          11717.5809450154,
          7613.02806899374,
          1751.62922541712,
          8269.13337117023,
          15057.0232324378,
          12983.722634808,
          14088.9361087076,
          13808.8688840238,
          7262.97922587751,
          9344.25540334834,
          12468.6640522626,
          6968.95302076253,
          14321.9143020025,
          10586.4110299777,
          9932.35252853216,
          14635.9244981612,
          24313.2324981305,
          12583.6485126788,
          5113.65189793496,
          6676.88117616599,
          4715.63700276677,
          16240.139260408,
          5232.71023389644,
          6589.93050630176,
          13331.7775673119,
          4611.65345711739,
          7971.06664603272,
          12033.632114434,
          13846.8639477866,
          13837.8744434318,
          13220.7737584131,
          19089.518304526,
          7901.09507525368,
          11414.5386748413,
          24431.135198595,
          13647.8293559415,
          9037.22364327811,
          6931.94375616257,
          8454.13288183285,
          10909.4340173448,
          8890.19894588631,
          7750.02520981871,
          10190.3393948992,
          15613.1010901259,
          12413.647917096,
          16278.1535515603,
          14037.8849623274,
          15993.1275752083,
          15840.1619012244,
          9890.32629600479,
          16213.1521965723,
          8314.11793119235,
          10166.3449033486,
          13654.8141999296,
          15277.0467296863,
          7377.96335841603,
          11290.5466734509,
          6266.85075897088,
          6332.79812452273,
          11301.49815193,
          14443.9557900081,
          11330.5009987912,
          9798.27001636522,
          6462.86559115883,
          13390.782931101,
          4241.59494042575,
          13272.794155575,
          5743.78192316717,
          6484.87978524893,
          4617.65014737714,
          12305.636365751,
          5131.68966535034,
          14495.9337205308,
          1544.97231206782,
          14619.911306302,
          8648.11891662622,
          11906.6036825862,
          14055.8965622352,
          13239.7617024161,
          10126.3516698021,
          13619.8563005877,
          5884.7793643277,
          1529.20856310483,
          17906.4527369659,
          15746.2063080021,
          16600.1874739822,
          14410.9469486166,
          14035.8765386778,
          12739.6928810392,
          13198.9146269847,
          13289.7795625828,
          10214.3613753959,
          4194.56556710042,
          12550.6789605282,
          12003.6091415788,
          12966.7344625714,
          12636.7333015884,
          4772.59307038827,
          16942.272503484,
          9437.24926825259,
          4740.62100612521,
          14264.9279761345,
          13652.8024822678,
          7268.00112553951,
          8452.1208587568,
          8083.07982908132,
          18831.5152877545,
          4548.62214525769,
          5116.67484225456,
          12385.616501429,
          15594.0653889532,
          8902.174502313,
          5315.74098680748,
          13960.8764384279,
          9414.24196618736,
          9604.28165001018,
          7977.06474841563,
          9040.19531610289,
          12339.6356417371,
          14739.0352170656,
          5803.76094003375,
          6886.92326002927,
          6507.84334001931,
          13936.8613869899,
          15138.0673754637,
          16873.2488119636,
          13435.7761585998,
          9285.23088229427,
          10488.4222004877,
          7003.92256449588,
          12124.6111147341,
          11637.5804397739,
          13657.8462434144,
          7918.06647405293,
          15480.0933448601,
          11524.5424695114,
          8522.16588594435,
          6733.89922822815,
          17902.3844469978,
          13667.7878536328,
          7564.04469348159,
          10245.3899163088,
          18210.433389001,
          11785.5902545259,
          9615.29262195791,
          6304.88891456301,
          13442.8137663395,
          6423.84834944051,
          20026.6791304929,
          13561.797476456,
          4444.58017624242,
          10161.3776543278,
          4854.64819082613,
          11718.5160247681,
          9996.35362885399,
          6958.90883262165,
          11958.5890613429,
          19635.7107929711,
          11891.5554839196,
          8613.12631263502,
          5032.6345511845,
          8241.11348295374,
          17571.3594861568,
          4627.45077384415,
          14257.8915262623,
          6949.94853090222,
          8846.23099956847,
          15942.1109785795,
          13957.8308058014,
          14462.9342494487,
          6994.94235586196,
          5652.78964950271,
          7434.00020272739,
          11732.5604274807,
          14300.8956302166,
          11385.5295199552,
          7233.98176754442,
          10845.403205288,
          19728.6482373735,
          2329.26207023248,
          16626.2272601271,
          3950.47056632001,
          13981.8903014599,
          15835.1496135865,
          14844.0208453462,
          12729.7278824211,
          17844.3626474657,
          6686.86676702933,
          14557.9475925941,
          10208.3324261948,
          6315.81878267356,
          12986.7131063533,
          12232.6432375348,
          5080.65650523973,
          8559.17540480859,
          9914.32366029461,
          14197.8741360124,
          1528.87412787021,
          1619.54972487445,
          9267.22335966625,
          17705.4781500175,
          12663.7029874092,
          10723.4048959535,
          10410.3977105866,
          20575.8986303248,
          9596.26422008865,
          15670.1068161893,
          5261.71658587781,
          3571.52936694148,
          11761.4890389828,
          14719.9813512107,
          5361.68096369082,
          7339.93899123849,
          10929.4486147676,
          8273.13656645528,
          10124.351302797,
          6341.81931007273,
          13873.9071775044,
          18738.4891118814,
          14570.9312281714,
          16126.1947419309,
          12628.7386329301,
          15244.014954551,
          6061.89201661385,
          6303.86812462024,
          6339.88000873341,
          11822.5804111251,
          10854.4666364426,
          12132.6137456041,
          10520.3555021668,
          1526.80320434608,
          14134.9235172265,
          16984.3126172287,
          9628.28427104629,
          17793.4042260065,
          8560.14196536593,
          9607.29566108834,
          12736.7049389101,
          9979.34097429271,
          6699.89129905442,
          4941.64921026306,
          12269.6210584732,
          8336.10118716321,
          10260.3795806234,
          7741.04496904013,
          17814.1853979946,
          14811.041303036,
          14224.9114460507,
          12084.6157074291,
          13842.8711238447,
          14587.9468545989,
          9233.18325171636,
          6933.91133452087,
          8962.1838643875,
          10864.4218441211,
          17234.3413563847,
          9621.26739350853,
          12873.7211759637,
          15309.0646955514,
          9721.29056748421,
          12596.6668298954,
          12637.7046795148,
          5670.75981392446,
          8215.13204608264,
          7819.06097302225,
          13255.7713590221,
          10601.4041430924,
          14855.0004097895,
          1606.21702057133,
          11321.4984195128,
          10558.4109584067,
          11076.4984178262,
          12630.6959140041,
          5108.69860082091,
          5938.78310086974,
          13996.8345791882,
          19441.5893749894,
          3554.51310021514,
          15914.1335237212,
          16249.1261387524,
          9960.31978676379,
          6322.86474825584,
          12365.6318162534,
          13818.8870027778,
          15403.0822554622,
          12113.6528381577,
          15260.9913959586,
          17733.4018895729,
          15196.0600659752,
          12775.7174765826,
          8050.06216601224,
          14027.8573637792,
          1520.78653850003,
          12987.7266220895,
          17866.3868633372,
          6311.87826525951,
          8125.07677639399,
          16297.2046298063,
          8482.13751332394,
          13420.788469221,
          4527.59640944957,
          17508.3273884096,
          6936.91915472524,
          15367.063313321,
          11546.5250450574,
          19543.5908655005,
          10573.3861232908,
          16595.1946518509,
          15860.1212058505,
          10494.2924126766,
          19991.7869247794,
          16256.1684810027,
          16695.2212050447,
          10123.3193696983,
          5386.69114704836,
          18233.4124936139,
          15241.0272504989,
          5385.68981160115,
          13626.8087162277,
          13764.9101859128,
          13603.820202193,
          9565.24715872442,
          8459.12998238817,
          8180.09564564115,
          7011.88867707695,
          20019.7104270057,
          16961.2465295101,
          4749.62436947155,
          14148.7828809469,
          5722.74585049521,
          9597.27999605416,
          17555.3205890424,
          4755.64045521118,
          12428.6776917812,
          10265.382955275,
          14834.9997496294,
          5105.67565463827,
          16694.2919600153,
          20269.7678956516,
          11777.6023966527,
          13543.8046433911,
          10221.3587973834,
          16867.2309427479,
          7303.97085795431,
          14814.9788683038,
          8189.10095072158,
          14846.0248255823,
          19750.6544524531,
          15516.0870342659,
          13036.7389708767,
          10566.4065061288,
          20003.6579633871,
          1881.77545047421,
          13299.7578431534,
          11066.4568818153,
          9831.33263840489,
          6870.9308945135,
          17887.3532964989,
          10886.4556587141,
          4226.58505853712,
          14967.0179516959,
          13909.8883839091,
          5106.77623176782,
          11381.5163833774,
          13197.9247601767,
          14937.9857049218,
          7466.0190501611,
          13944.859813247,
          11147.4834112801,
          13910.8790441169,
          7919.05023621841,
          5611.78884761473,
          17353.3506175973,
          15619.0392502947,
          24181.1366079015,
          7002.96229289891,
          2174.30152509445,
          6035.77817431657,
          10507.4451485612,
          14628.9353319469,
          20009.7299610031,
          11726.5779051859,
          8543.10468323321,
          4841.64088704878,
          13663.8260188286,
          7027.9266920182,
          14735.0052362869,
          7321.94359501378,
          12456.6635172194,
          10272.3498268952,
          6697.89174337295,
          8588.12439464793,
          15745.1833633538,
          4640.64807446919,
          14886.991236124,
          14479.9385771361,
          5936.80275838118,
          18307.5550843061,
          14853.9972449143,
          12788.6853360769,
          12640.6905904715,
          5056.64843009794,
          7283.00002593534,
          16648.2617224384,
          13816.839097421,
          4972.50278236028,
          11378.5295540389,
          9332.23700270073,
          12051.6067921536,
          12050.6045527025,
          16215.171303144,
          4612.60502005278,
          13493.8857051368,
          7078.9476107331,
          24375.2137220958,
          1709.7765571111,
          15347.0794981434,
          18139.4301967368,
          9470.21975771917,
          19421.5650075203,
          8833.1756454109,
          14908.9656241668,
          18348.4916632594,
          7022.94380678834,
          3230.44971506554,
          16525.1823935038,
          13824.8611149497,
          10426.4074965637,
          5997.83265843081,
          10866.456731404,
          16582.1920858698,
          15170.0637321003,
          10880.4758619626,
          5422.68884223142,
          14363.9252800681,
          10106.4021893125,
          4210.57297290212,
          7330.00261250702,
          8247.12713332126,
          4581.61423089864,
          5273.70521652178,
          5209.74021626271,
          16392.2019099004,
          14125.9144333191,
          7591.05845019696,
          10853.4269072474,
          2280.65383456152,
          6991.9085616348,
          1560.8880117006,
          4641.66009625356,
          12676.6898227986,
          9168.21803716692,
          5987.74362530967,
          6073.80654362044,
          14554.9282734241,
          1533.72564795104,
          8112.06391236313,
          17535.3082873014,
          9921.29048840187,
          15765.1076302794,
          11449.5266894313,
          8872.19623968972,
          17970.4513026981,
          14019.9115601088,
          6162.83241944276,
          6320.85753184215,
          11628.5638080298,
          15278.0265165198,
          5161.67977168036,
          14473.9446153713,
          12964.7304621917,
          8848.19602830868,
          15259.0192958857,
          12523.6541656924,
          10338.3942789472,
          15533.0364243676,
          12379.6420029436,
          19001.6260321196,
          17214.3151893926,
          9219.24393421488,
          9322.28840018984,
          8345.10479711224,
          6837.90972895008,
          18180.4264465088,
          12599.6725718097,
          11461.5198943803,
          13494.8509977439,
          15727.072342063,
          5418.69124130725,
          18803.5642599729,
          16714.3038046758,
          12529.6853204947,
          7895.07902288907,
          16904.2477015292,
          17794.3825642024,
          19482.6193562897,
          13706.8259439099,
          15736.2209225063,
          6971.934695795,
          14934.9981024051,
          15042.9572150144,
          10189.2119968506,
          16144.180531132,
          12531.658187511,
          10827.4751766795,
          3931.43246572857,
          16914.2883566757,
          10898.4737303289,
          19980.7675624921,
          14178.8702793462,
          13756.8360620638,
          7080.95261826494,
          13675.8364560485,
          10598.4051808425,
          9661.27735475574,
          19769.6799377704,
          8840.2346305187,
          12831.7169235658,
          18453.499436271,
          12164.5872142644,
          14796.0011499909,
          13545.8266006888,
          6605.83865847608,
          8621.10282875558,
          8835.22749601514,
          14466.9559244409,
          16123.1790776947,
          13366.8076444241,
          18599.4303178889,
          16728.2633563318,
          7641.97039827624,
          15284.0269520871,
          13535.8237725521,
          19408.5817594398,
          14691.9844923723,
          14536.9041549167,
          18253.4054775344,
          14569.9466159328,
          13297.7853084109,
          8653.15537674867,
          14130.9396803813,
          5999.82611069639,
          8380.12820631956,
          1541.77276614576,
          11724.5761625425,
          21318.8014180831,
          19566.5611621458,
          13630.7911454194,
          13467.8550892256,
          17914.3378896594,
          2891.3923569749,
          7324.98516269247,
          6351.84732437828,
          4540.60391325328,
          1524.54269082857,
          5921.7935882687,
          7767.02650584539,
          4410.66738282386,
          10194.3682694374,
          6234.84016278916,
          5010.71305231917,
          5996.76305296595,
          20168.70201813,
          11471.5269405642,
          13247.8107850031,
          8270.13006025188,
          14403.9317452702,
          4493.60227798616,
          5907.76463742141,
          17592.3362648361,
          9583.25738358747,
          7480.00170525657,
          7026.93021744478,
          15385.0754127758,
          5414.72264444373,
          13959.8785036133,
          13358.7891107029,
          11660.5841008544,
          11898.5824561128,
          8550.15283805128,
          8535.14541724803,
          6342.81685345943,
          4792.63006703681,
          7595.04667713335,
          13181.808275799,
          17298.3237573933,
          13896.9382711018,
          20020.7688506876,
          13904.8373936008,
          13891.8994744114,
          10534.3714949737,
          14607.9305687285,
          10336.3891467669,
          14842.9851157323,
          11667.5757395064,
          10217.3583652236,
          11893.5665706896,
          7592.03317573661,
          18144.4224857503,
          12409.6624166547,
          11779.5734325763,
          9616.27113497045,
          16847.2862144551,
          13280.7650246334,
          18322.5964335258,
          14232.9264831758,
          8928.17230422669,
          4879.6612597373,
          15156.0286148332,
          8583.15508423302,
          10812.4321702389,
          14614.9416601109,
          19314.6169036376,
          5737.78037729294,
          7296.95603326775,
          10263.3700058445,
          18606.4313685852,
          9165.20030852714,
          12772.6539537716,
          16689.3135589233,
          14395.9296790594,
          16605.245287993,
          11148.4462309914,
          13841.8566897301,
          16099.1698004979,
          19464.4685038394,
          17596.2982382655,
          16475.1835937738,
          12514.6681436341,
          16186.1766980283,
          13858.8543774986,
          16087.1729288448,
          17199.2856329407,
          14975.0051484719,
          9923.3007014825,
          9843.30029071306,
          1943.57868640713,
          12992.7202432743,
          4227.5139844926,
          14314.9452934186,
          15441.1143626384,
          7912.0729805425,
          23134.0446047317,
          16275.183875862,
          15194.9915931214,
          12332.668936325,
          18487.5045217203,
          11584.5505967647,
          16574.2138639573,
          20285.8219221593,
          11538.5018782589,
          16155.2419270904,
          18853.538480915,
          18797.5113867454,
          8584.15593235531,
          15817.0684266189,
          5407.72788286307,
          12783.7234295119,
          1620.46834612176,
          20368.7243413911,
          17755.4147885362,
          4951.68172311311,
          6002.80062950855,
          5399.6895175457,
          13513.811217344,
          12005.5976250418,
          11203.4593753148,
          14099.9491206385,
          10247.3564422565,
          9314.23773479233,
          14996.0170717362,
          18578.4384287955,
          14249.914450719,
          16555.1945642823,
          13671.8294703861,
          12071.6258792063,
          14799.9916196747,
          17475.3266500921,
          12250.6474927525,
          12605.7245922412,
          12323.6578169637,
          7975.06450494207,
          11090.5005371354,
          12547.6835085418,
          13868.8914807039,
          12168.6270446083,
          1787.12963368088,
          11554.5193662643,
          12568.7130539636,
          13011.7583284604,
          10847.4118438884,
          7023.92684804929,
          10267.3566559482,
          4459.60107174705,
          16386.2697218453,
          14625.9859668899,
          12589.6429681916,
          6444.86401382154,
          20897.87983399,
          12506.688446474,
          18095.4494433576,
          4973.50183216665,
          15818.1027376495,
          16115.1353073054,
          7602.91176793068,
          4529.60837336807,
          17074.286032046,
          16124.1834034182,
          13689.8123986127,
          16374.2621671818,
          13792.8732846705,
          20536.7012053119,
          17529.3569204662,
          16495.2399095123,
          4942.64785473395,
          6062.81994357039,
          16733.2130037687,
          16055.2072139262,
          6013.83878393943,
          15080.9861776995,
          6408.10315361108,
          8292.10530299316,
          14286.9280377775,
          13353.7818459934,
          5703.75273350865,
          4473.61764791742,
          11377.5954201019,
          19068.5158604493,
          6300.76559963931,
          12980.7370143527,
          20163.7119525934,
          12000.6030663097,
          13162.7781850458,
          7280.97331511823,
          8870.20900138548,
          5018.69397982698,
          16195.209614825,
          13977.8776978548,
          14926.9950200471,
          13477.8921422948,
          9610.29998175635,
          1928.2504546726,
          7334.91059861367,
          15556.0522319094,
          13941.8817485974,
          9500.27799798419,
          14513.9570446944,
          8219.11248725757,
          13123.7339705875,
          7934.06413194508,
          18043.4534179463,
          11883.5943205717,
          6100.7977947104,
          15125.0495888981,
          16790.2668942918,
          14318.9341612034,
          18174.3817312864,
          9377.23496146274,
          15824.1539981332,
          12466.6777416552,
          19866.676500441,
          11175.4381834187,
          5732.7536834042,
          13417.7907077035,
          16538.1988905371,
          9546.2832640571,
          19697.6692474511,
          11495.5096467414,
          5576.75637367364,
          8086.10780603764,
          4767.60890310805,
          11612.5514357653,
          15082.0821660831,
          14150.9328666801,
          5145.68361305786,
          5377.67343388417,
          17588.3816006892,
          16686.3667326802,
          14227.899623597,
          12457.6787273874,
          8223.10987594648,
          12500.6763707312,
          7970.10340398601,
          7453.03706527908,
          13865.8446561605,
          14357.9143809336,
          4716.6236345543,
          1967.59787217706,
          6598.90417979287,
          16776.3022079883,
          8301.13111292573,
          12653.6976354752,
          5432.72006247229,
          6976.91834856464,
          16037.2356874156,
          5688.69551600179,
          7746.03362924558,
          13927.8594868159,
          11490.5360497588,
          1720.78464845537,
          13869.9350259597,
          9712.31222439978,
          6273.86355066017,
          7287.98448361038,
          18407.5534957123,
          18570.5295636968,
          8616.15267316711,
          17923.3607122091,
          12691.7020444373,
          16076.1510284896,
          16962.2689112121,
          13685.8525270314,
          13391.7933091063,
          8665.1634114268,
          1744.23917914658,
          4802.63497880411,
          19335.6348690229,
          13974.8516785954,
          9248.22068189006,
          5933.8236747063,
          5697.76294232813,
          4232.58732728834,
          13524.8181683085,
          7737.03825137865,
          11489.5436599581,
          17873.3941097425,
          7911.06966816871,
          18186.4125058222,
          13254.7319696963,
          4857.6477908231,
          8986.1925925935,
          16095.2227390953,
          14396.9398197483,
          12716.6711999522,
          20297.7397802187,
          18222.4071776931,
          5409.72325187365,
          7654.0239629345,
          13322.7516580476,
          15455.0910994145,
          15850.1191941269,
          18370.416653328,
          15505.071401448,
          18034.3066062122,
          12432.6965740339,
          12419.6645605001,
          8949.18252954528,
          13172.8742971254,
          15235.0436725645,
          8294.07371114977,
          14515.9605097352,
          12515.6793351155,
          12848.7564147095,
          16106.1561920553,
          18642.57499423,
          1529.54442809405,
          13525.7680097778,
          5339.66333614544,
          11464.5103092245,
          17075.2576379316,
          16701.3455680193,
          13097.7641066691,
          11852.5996026026,
          15585.0736956729,
          7352.9597143383,
          11394.5303674103,
          19937.6649719283,
          15034.0068288144,
          17544.3530333302,
          15482.0656018126,
          14670.9916518871,
          15116.0548275637,
          15357.062793412,
          12138.6019825699,
          12835.7174431863,
          13140.7754473373,
          18076.4768822895,
          14729.037161131,
          1946.00673503695,
          12803.715424431,
          9937.33013097088,
          14274.8543166809,
          14490.9344097583,
          7597.04412787997,
          6655.92312023436,
          6022.8176114873,
          20060.7756152157,
          17530.3275908973,
          4766.61887093301,
          1702.42223294072,
          13370.791240359,
          12185.618584963,
          7995.05156718628,
          16208.1834322317,
          13252.7885789044,
          7192.99019218156,
          20716.748238696,
          17100.3299576892,
          14435.9679773222,
          13423.8097655493,
          18990.5931593599,
          15376.0807707836,
          18013.5469731845,
          9224.26603377742,
          15197.0317548026,
          7393.9670849146,
          7966.04805687751,
          2080.28264380223,
          6138.81773749852,
          21188.8323853282,
          14716.990312757,
          7225.00238456437,
          3363.46095648728,
          20090.752352405,
          17819.37899848,
          20243.7124835476,
          2159.30704740143,
          9555.2755231378,
          16197.1898568321,
          6165.83010537485,
          12884.7371887998,
          2489.87793681927,
          12704.7166264065,
          5331.75096037474,
          18005.5103983173,
          18647.602931541,
          17016.3863157047,
          17394.3690811419,
          15366.0255318907,
          13139.7850671486,
          4507.61903118279,
          4531.60359036807,
          2754.3600356309,
          13507.7936777007,
          17033.363594294,
          20345.6972019303,
          14903.9742153531,
          24660.3711768615,
          12049.600975473,
          1527.27096690532,
          20602.8346443299,
          12172.5997064503,
          14368.9446194164,
          9286.24412998885,
          11568.5283171395,
          16344.2697033811,
          18220.4609271352,
          13028.7315785782,
          16902.2515044606,
          14131.9172029732,
          20382.8151554127,
          4451.58198269639,
          15798.1536127266,
          11683.5000293836,
          5981.81901323445,
          15525.1050858502,
          17567.3684315159,
          18843.4989432625,
          6964.94060549232,
          15318.038330856,
          5321.76530988574,
          12839.7329159616,
          15035.0217955191,
          14113.8938040504,
          13447.8428102148,
          17122.3548582027,
          15335.0507821369,
          6000.80121542948,
          4566.60892239513,
          4976.7077860709,
          19569.5980520827,
          6549.87118221346,
          4179.55932595981,
          6674.91621262948,
          13217.78235359,
          9134.2581365752,
          14945.03940059,
          19049.5848985104,
          12073.6160110258,
          5431.70924793395,
          13382.7592956034,
          10228.3262818661,
          16761.2884326083,
          9731.27826478684,
          12965.733958082,
          5676.79363932375,
          19169.6119991171,
          4649.66634907934,
          11572.5400317018,
          17894.4108523985,
          15829.1047722067,
          14758.0494700802,
          8939.29121505129,
          12649.6568343785,
          15808.116263993,
          15703.1368551979,
          18410.5104826735,
          4979.71689521691,
          20945.8508198522,
          14062.9019001058,
          25071.3861087103,
          14034.8773324123,
          14925.988435694,
          10615.4230264023,
          15197.9940791145,
          18852.5177904048,
          1836.00431327397,
          15262.0096294907,
          7924.07817311954,
          16794.2865100882,
          14782.9859082273,
          14114.9184796191,
          2012.92707539018,
          11641.5102091406,
          15913.142804747,
          4932.68395670098,
          13400.8085407857,
          4276.54032228496,
          14071.9121113157,
          13793.9077325094,
          1528.27315231956,
          6492.87284365891,
          14956.0199727421,
          24472.258064022,
          19805.7419257915,
          15450.1090506223,
          15886.103234959,
          14297.8784386278,
          14661.9690105158,
          13939.8806572162,
          16218.2003258569,
          15528.0946691865,
          16078.1643421921,
          17634.3526595245,
          13190.7989917426,
          4642.66514995744,
          19121.5716314008,
          12321.6413644315,
          7653.00934238758,
          5713.77017548051,
          9878.33656817557,
          4570.61655062827,
          14589.9636768908,
          4533.61099458235,
          13592.9238180244,
          15601.0924243434,
          14025.8389361066,
          16093.1538509735,
          13780.9565521413,
          4228.46679039828,
          5874.78372077235,
          14141.9013394994,
          19044.5796917147,
          7639.96005960431,
          8981.17834887004,
          15606.1040521299,
          19268.6058570137,
          16748.2574444953,
          8607.11627922066,
          16451.271713819,
          11438.5568835862,
          14596.9138627564,
          4526.58606614342,
          16685.5326287396,
          12991.7073078345,
          14332.9407103343,
          20689.8654523499,
          7311.9544108635,
          13895.8703409378,
          11479.5040374662,
          10173.3427691838,
          13923.8927638897,
          13790.8737251554,
          13082.7500445617,
          4726.60588143225,
          19376.6135627152,
          15566.0528570157,
          19318.6851389057,
          14725.0054797352,
          13468.8294727041,
          16023.2211390979,
          7955.04509644873,
          19721.6577714589,
          18349.4921080824,
          16113.2232512927,
          10691.4543067729,
          5074.64608042351,
          20355.7784341229,
          5352.71252887323,
          17133.2924016671,
          12142.6486908658,
          12823.7078944486,
          15135.0453521604,
          4650.67903415301,
          8619.23915235516,
          20671.7434695699,
          8302.10730422987,
          14404.9254132477,
          12024.6108769861,
          13737.7897001299,
          14296.9045414635,
          16561.2042562666,
          14583.9916561348,
          9811.29129526974,
          14044.9006844869,
          15717.1774351981,
          15483.1225301478,
          5382.63945318312,
          22294.0772901195,
          5632.72276196558,
          6578.89712091365,
          9141.22888367075,
          17227.3070616725,
          16505.2276653986,
          4240.58279572283,
          17768.4323351048,
          13213.7717403644,
          7115.93723373782,
          26123.4395671935,
          18027.4833786962,
          4534.60681831451,
          16690.34276308,
          16700.3169176733,
          15791.1227231561,
          2159.30705630458,
          4584.65509230402,
          11205.4905544354,
          8509.1612810054,
          17245.2689881376,
          15776.1185449137,
          3918.44029275306,
          13807.8324989362,
          15052.0369325403,
          16365.2684451882,
          15578.0716607328,
          13806.8762682198,
          20620.7592794469,
          14386.8199695411,
          11052.4811536793,
          5710.72807520351,
          4903.66706030176,
          6629.87739016743,
          12982.7380761244,
          21353.8852171833,
          14439.8801892027,
          20162.7656293367,
          15105.05091364,
          21295.918743173,
          18152.4484738168,
          13009.7389962462,
          16520.2340369791,
          15124.046010371,
          19303.7124761713,
          6721.87800832538,
          5738.74327439929,
          13911.8976759424,
          14882.9915478893,
          29474.0112284144,
          18320.5077395632,
          5373.72399490312,
          12722.7312267067,
          9294.24070637261,
          9825.32068414678,
          16061.2141047457,
          21338.8144858932,
          11003.4705810035,
          12614.707360773,
          15868.1299727588,
          16373.3089538384,
          20299.8400826846,
          19011.8706462279,
          28073.6436200852,
          14356.9333424009,
          27517.7259984672,
          20339.7631265142,
          20942.8309810601,
          5347.70882054715,
          13606.8308291506,
          18378.5173996251,
          25533.517433658,
          18833.4982327147,
          17735.4278859892,
          13257.7666515698,
          20894.9292159641,
          5161.67720044622,
          18620.5351795696,
          15246.0180208871,
          18393.5762225879,
          13713.8284123399,
          15527.1238424302,
          2099.93353948595,
          19234.5733962895,
          15812.0986191765,
          15179.0501759304,
          21221.8986204781,
          16198.2309552721,
          9103.23293605025,
          4257.59946808078,
          18098.4866764617,
          3225.93372891499,
          11180.4736664282,
          5053.53002855583,
          25501.4191103375,
          13796.9110301086,
          27395.4917618581,
          14585.9476488713,
          1852.50928541291,
          16279.1240765431,
          4258.59108009684,
          13054.7581554596,
          5374.70519765241,
          14947.0317273862,
          1795.92382437682,
          25661.5435050878,
          13608.8740694261,
          20608.8863504671,
          16485.1950674533,
          11013.4675791996,
          5552.69036581453,
          4757.64947458747,
          18365.4634694861,
          15154.0598398603,
          1551.23387274625,
          18244.5162146588,
          11060.4916495369,
          4486.58408760175,
          20988.7836678455,
          13095.7565811099,
          29115.0138381523,
          28849.4606131051,
          13912.9173962746,
          5438.78001418844,
          19110.5845698217,
          28467.8281763363,
          7894.06527071164,
          4698.63525175174,
          15922.15144894,
          16129.253598119,
          16702.299898259,
          15881.1306614658,
          25184.3855036082,
          21051.9410441898,
          17766.4372795971,
          15111.1335276805,
          1882.5221,
          15150.04539133,
          4856.64024676926,
          1572.02770345893,
          18610.5134209979,
          1891.54166258914,
          15230.0094248431,
          21251.9381868927,
          17443.3743089589,
          1535.96639630181,
          18921.6270254815,
          16731.2734732423
         ],
         "xaxis": "x",
         "y": [
          12.6954864676476,
          24.3822914099375,
          24.3822914099375,
          24.3233433441003,
          24.2015166675727,
          16.3832811510245,
          24.3233433441003,
          14.8822148020744,
          14.947829367288,
          16.942514925766,
          33.8246124759992,
          24.3233433441003,
          15.7544118757725,
          13.755718542703,
          15.6970818257014,
          24.3233433441003,
          16.8796146766027,
          17.4495710110346,
          24.2578273113251,
          18.0787337418079,
          10.5087583100478,
          24.3822914099375,
          24.3233433441003,
          17.7597769017696,
          16.3262298261801,
          19.6945794021765,
          17.5106453772068,
          14.3189666008631,
          15.7544118757725,
          24.3233433441003,
          16.7534518853505,
          20.1349507764657,
          19.0755901769479,
          17.1317640181065,
          19.9435985521158,
          33.8246124759992,
          16.6343759174824,
          20.3844797924836,
          21.2000925755183,
          24.3233433441003,
          15.0140935595512,
          18.5119970933278,
          10.5087583100478,
          21.0146775757949,
          19.4466368273576,
          17.1317640181065,
          18.1957631841977,
          20.6940526441415,
          24.3233433441003,
          19.1952003514449,
          18.7668556010405,
          15.7544118757725,
          18.0787337418079,
          15.7544118757725,
          13.8219826018492,
          21.5704525684992,
          16.2611854688009,
          16.4488718266964,
          13.3912633673032,
          17.068218910265,
          14.385231142807,
          24.3822914099375,
          18.6931291854064,
          15.0720749433517,
          17.6366789277077,
          20.5679557100614,
          19.8218485251745,
          21.2610000010014,
          18.6351309752146,
          16.4488718266964,
          17.1317640181065,
          16.5700603758971,
          20.8847064431191,
          13.1344887848377,
          21.4468683914026,
          15.8855400101026,
          15.5083124931335,
          16.8164789513429,
          15.2613862092972,
          21.5704525684992,
          16.5056300278187,
          16.6343759174824,
          14.2527022595882,
          16.074117151467,
          17.9428821340879,
          21.8897603924751,
          14.5094772771676,
          19.2592897947311,
          18.2621249691327,
          18.6351309752146,
          14.4514954344114,
          19.1952003514449,
          14.5674585675875,
          20.0696192498684,
          16.3262298261801,
          17.0055073515256,
          19.6362096762339,
          17.1317640181065,
          16.8164789513429,
          16.6343759174824,
          14.385231142807,
          14.8822148020744,
          13.8882471259117,
          14.947829367288,
          15.1953631257693,
          13.8882471259117,
          15.2613862092972,
          16.5700603758971,
          13.0102425352414,
          18.5775535599073,
          15.6394065773169,
          18.5775535599073,
          18.3868218417645,
          17.0055073515256,
          33.5718517597199,
          18.8867167170525,
          15.0720749433517,
          16.8796146766027,
          17.9428821340879,
          18.4452998772939,
          17.1945914681435,
          19.1364472086906,
          16.0083362594922,
          17.6366789277077,
          16.0083362594922,
          15.3273832773844,
          22.386297426192,
          14.6337228095214,
          15.0720749433517,
          17.4495710110346,
          15.1953631257693,
          22.0702138360024,
          18.8867167170525,
          33.9454362189452,
          18.0787337418079,
          16.074117151467,
          17.4495710110346,
          16.2611854688009,
          14.5674585675875,
          14.947829367288,
          18.3284182663441,
          24.2578273113251,
          16.6981861348629,
          14.6999871011257,
          15.5736659522533,
          14.1367392674764,
          16.3832811510245,
          15.4427070672989,
          18.7668556010405,
          20.4487852688313,
          17.7597769017696,
          16.5056300278187,
          19.0160387273312,
          14.8159502343019,
          17.3878710186164,
          15.0140935595512,
          14.4514954344114,
          21.8186324770927,
          20.0128573254426,
          15.8198327179432,
          18.4452998772939,
          24.5124938861211,
          17.068218910265,
          18.1375566339175,
          17.1945914681435,
          16.0083362594922,
          13.9545116936843,
          15.9511026676178,
          17.1317640181065,
          15.8198327179432,
          13.8882471259117,
          17.068218910265,
          15.1299568112373,
          16.3832811510245,
          18.4452998772939,
          18.0787337418079,
          16.8164789513429,
          15.8855400101026,
          16.6981861348629,
          15.7544118757725,
          19.1364472086906,
          19.5042967434406,
          17.8265319184144,
          16.8796146766027,
          16.074117151467,
          15.0720749433517,
          14.7662517106215,
          15.1953631257693,
          17.068218910265,
          24.3233433441003,
          17.7597769017696,
          22.2642926350911,
          15.8855400101026,
          16.2611854688009,
          19.8856634751638,
          20.1349507764657,
          19.4466368273576,
          20.0128573254426,
          19.9435985521158,
          16.8796146766027,
          19.8218485251745,
          24.2578273113251,
          17.3185208932241,
          18.7668556010405,
          20.3189699923674,
          19.3228563026269,
          32.2608308509668,
          15.5736659522533,
          12.322749185133,
          19.6945794021765,
          19.2592897947311,
          19.5737146353404,
          16.5700603758971,
          15.7544118757725,
          33.6955119108836,
          20.26129898386,
          19.1364472086906,
          20.26129898386,
          17.1945914681435,
          17.6976700102965,
          33.3227867440065,
          15.8198327179432,
          22.5724764183839,
          21.0146775757949,
          16.5700603758971,
          14.5094772771676,
          19.5042967434406,
          16.3832811510245,
          19.3228563026269,
          16.6981861348629,
          19.4466368273576,
          15.1299568112373,
          16.5700603758971,
          19.5737146353404,
          17.1317640181065,
          10.8897790745576,
          17.7597769017696,
          18.6351309752146,
          17.3185208932241,
          17.6366789277077,
          17.3878710186164,
          19.0755901769479,
          19.5737146353404,
          15.1953631257693,
          18.6931291854064,
          14.0042104001522,
          17.8844870523294,
          14.6337228095214,
          15.9511026676178,
          15.2613862092972,
          22.7021580751419,
          20.3844797924836,
          20.4487852688313,
          21.6402136838118,
          18.4452998772939,
          15.9511026676178,
          14.8822148020744,
          18.8272398109913,
          15.1953631257693,
          18.3868218417645,
          33.759597100385,
          14.0042104001522,
          16.5700603758971,
          22.5129782016754,
          15.6970818257014,
          18.4452998772939,
          19.3228563026269,
          33.8846684173425,
          16.5700603758971,
          17.1317640181065,
          21.2610000010014,
          16.5056300278187,
          18.5775535599073,
          15.385115144221,
          19.1364472086906,
          18.8867167170525,
          15.7544118757725,
          18.1957631841977,
          13.3249992584864,
          20.1349507764657,
          30.1423314507484,
          18.3284182663441,
          19.5042967434406,
          18.1957631841977,
          17.1945914681435,
          32.1964515681744,
          19.2592897947311,
          15.3273832773844,
          20.0696192498684,
          17.3185208932241,
          17.7597769017696,
          19.2592897947311,
          17.4495710110346,
          24.6298199848016,
          17.8844870523294,
          20.8179010526021,
          18.3868218417645,
          19.0755901769479,
          17.5699597096125,
          17.8844870523294,
          13.1924702342033,
          17.8844870523294,
          18.5775535599073,
          13.9545116936843,
          20.764343968598,
          18.7668556010405,
          18.8272398109913,
          16.3262298261801,
          18.3868218417645,
          19.6945794021765,
          16.0083362594922,
          20.1349507764657,
          11.8174816763083,
          16.3262298261801,
          14.6999871011257,
          16.7534518853505,
          14.1367392674764,
          15.0720749433517,
          17.3185208932241,
          18.6351309752146,
          21.1333783165296,
          15.7544118757725,
          19.8856634751638,
          19.4466368273576,
          14.5094772771676,
          14.1367392674764,
          19.5042967434406,
          18.2621249691327,
          20.6374167179743,
          18.3868218417645,
          18.8867167170525,
          17.2566976443609,
          16.6981861348629,
          17.6366789277077,
          17.5106453772068,
          16.4488718266964,
          13.3249992584864,
          19.0755901769479,
          16.074117151467,
          20.6374167179743,
          17.1317640181065,
          15.1953631257693,
          15.9511026676178,
          19.9435985521158,
          18.0787337418079,
          16.3832811510245,
          17.6976700102965,
          18.4452998772939,
          17.6366789277077,
          20.8179010526021,
          20.6374167179743,
          14.2030035769622,
          18.0787337418079,
          22.1943611518224,
          17.1945914681435,
          20.0696192498684,
          13.6977369006157,
          21.8897603924751,
          16.942514925766,
          22.386297426192,
          17.8844870523294,
          21.9441933111032,
          18.8867167170525,
          14.2527022595882,
          20.26129898386,
          19.3878434097449,
          16.4488718266964,
          15.6394065773169,
          18.8272398109913,
          24.5124938861211,
          21.4468683914026,
          16.8164789513429,
          15.4427070672989,
          19.8856634751638,
          15.7544118757725,
          20.3189699923674,
          19.1364472086906,
          16.6343759174824,
          20.1992778436025,
          16.7534518853505,
          16.3262298261801,
          17.3878710186164,
          19.0160387273312,
          18.0787337418079,
          16.3832811510245,
          16.1312475518068,
          17.3878710186164,
          19.5042967434406,
          15.1299568112373,
          17.6366789277077,
          24.3233433441003,
          20.5117211357435,
          18.6351309752146,
          15.7544118757725,
          15.6394065773169,
          21.3867463087718,
          18.2621249691327,
          18.010823702383,
          18.3868218417645,
          18.0787337418079,
          19.4466368273576,
          15.3273832773844,
          19.0755901769479,
          15.7544118757725,
          13.258734410572,
          17.4495710110346,
          20.6374167179743,
          18.8272398109913,
          19.8856634751638,
          18.0787337418079,
          16.074117151467,
          15.7544118757725,
          22.1943611518224,
          20.6374167179743,
          18.0787337418079,
          20.0696192498684,
          17.1945914681435,
          14.1367392674764,
          18.2621249691327,
          19.1952003514449,
          17.9428821340879,
          18.0787337418079,
          33.0753261760553,
          18.3868218417645,
          12.1322379346371,
          15.1953631257693,
          21.2610000010014,
          21.1333783165296,
          20.8847064431191,
          16.942514925766,
          17.9428821340879,
          19.2592897947311,
          13.5734909351349,
          24.2578273113251,
          19.3878434097449,
          15.6970818257014,
          18.7668556010405,
          15.4427070672989,
          18.8272398109913,
          19.1952003514449,
          21.0146775757949,
          16.1312475518068,
          12.6954864676476,
          21.7615675504684,
          17.9428821340879,
          13.6397552505811,
          20.5117211357435,
          17.7597769017696,
          13.755718542703,
          18.5119970933278,
          19.1364472086906,
          19.1364472086906,
          13.8219826018492,
          17.068218910265,
          14.947829367288,
          19.1364472086906,
          17.7597769017696,
          19.8856634751638,
          18.7668556010405,
          19.6362096762339,
          13.8219826018492,
          20.3189699923674,
          20.1349507764657,
          16.5700603758971,
          17.5106453772068,
          17.3185208932241,
          19.4466368273576,
          18.5775535599073,
          19.9435985521158,
          18.6351309752146,
          12.7617506599108,
          20.4487852688313,
          15.0140935595512,
          19.0755901769479,
          13.6977369006157,
          18.7668556010405,
          24.3822914099375,
          19.2592897947311,
          16.942514925766,
          18.1957631841977,
          22.3211468851248,
          19.4466368273576,
          19.8856634751638,
          16.2611854688009,
          19.5042967434406,
          18.8272398109913,
          15.7544118757725,
          20.0696192498684,
          14.0042104001522,
          19.3878434097449,
          13.8219826018492,
          20.1992778436025,
          19.3228563026269,
          19.1364472086906,
          19.5042967434406,
          18.1375566339175,
          20.0128573254426,
          20.26129898386,
          17.8844870523294,
          16.1312475518068,
          17.068218910265,
          19.8218485251745,
          16.5056300278187,
          20.4487852688313,
          19.8218485251745,
          18.6931291854064,
          15.0720749433517,
          21.8186324770927,
          15.8855400101026,
          22.8818772113005,
          14.8159502343019,
          14.8159502343019,
          18.9445386842569,
          15.5736659522533,
          17.5106453772068,
          19.3228563026269,
          20.5679557100614,
          20.26129898386,
          18.4452998772939,
          20.3189699923674,
          15.0140935595512,
          19.9435985521158,
          16.5700603758971,
          18.1375566339175,
          15.1299568112373,
          18.3284182663441,
          18.010823702383,
          19.1952003514449,
          15.385115144221,
          18.2621249691327,
          19.3878434097449,
          20.764343968598,
          17.8844870523294,
          16.7534518853505,
          20.3189699923674,
          15.1953631257693,
          20.26129898386,
          20.6374167179743,
          21.2000925755183,
          16.8164789513429,
          17.8265319184144,
          20.4487852688313,
          15.8198327179432,
          15.2613862092972,
          19.6362096762339,
          18.2621249691327,
          17.068218910265,
          22.2642926350911,
          19.5737146353404,
          20.764343968598,
          19.1364472086906,
          19.6362096762339,
          18.5119970933278,
          24.3233433441003,
          21.6402136838118,
          19.6945794021765,
          18.9445386842569,
          21.5704525684992,
          18.8272398109913,
          18.6931291854064,
          18.2621249691327,
          15.6394065773169,
          17.6366789277077,
          20.0128573254426,
          18.6931291854064,
          20.764343968598,
          15.7544118757725,
          16.942514925766,
          18.1957631841977,
          19.9435985521158,
          17.068218910265,
          20.6940526441415,
          16.6343759174824,
          13.5734909351349,
          15.8198327179432,
          14.947829367288,
          22.3211468851248,
          22.7631282941182,
          18.9445386842569,
          20.0128573254426,
          20.6940526441415,
          19.8218485251745,
          17.2566976443609,
          18.010823702383,
          21.9441933111032,
          14.8159502343019,
          17.2566976443609,
          21.2000925755183,
          16.8164789513429,
          20.3189699923674,
          13.5734909351349,
          20.1992778436025,
          18.5775535599073,
          24.5124938861211,
          21.5704525684992,
          15.5736659522533,
          19.2592897947311,
          24.3233433441003,
          17.2566976443609,
          19.1952003514449,
          19.0755901769479,
          18.010823702383,
          14.2030035769622,
          8.5042572772185,
          18.2621249691327,
          17.1945914681435,
          17.0055073515256,
          21.8897603924751,
          20.6940526441415,
          15.1953631257693,
          16.942514925766,
          18.5775535599073,
          21.0146775757949,
          19.6945794021765,
          18.2621249691327,
          19.8218485251745,
          19.2592897947311,
          21.1333783165296,
          21.1333783165296,
          18.5775535599073,
          19.0160387273312,
          20.6940526441415,
          19.7585523760001,
          20.6374167179743,
          16.7534518853505,
          22.1404092764536,
          14.385231142807,
          19.3878434097449,
          16.6343759174824,
          16.5700603758971,
          18.3284182663441,
          20.9465231434186,
          18.8272398109913,
          19.4466368273576,
          22.386297426192,
          18.5775535599073,
          13.0102425352414,
          15.9511026676178,
          17.068218910265,
          10.0780389523188,
          19.5042967434406,
          14.385231142807,
          16.6981861348629,
          19.6945794021765,
          18.9445386842569,
          14.1367392674764,
          18.4452998772939,
          21.1333783165296,
          15.1299568112373,
          12.1322379346371,
          24.3233433441003,
          16.3262298261801,
          33.8846684173425,
          22.5724764183839,
          17.068218910265,
          16.5056300278187,
          21.0667821184476,
          22.8818772113005,
          17.9428821340879,
          14.0704744592984,
          16.5700603758971,
          19.3878434097449,
          18.3868218417645,
          14.6999871011257,
          18.3284182663441,
          16.8796146766027,
          22.8258403356552,
          14.8159502343019,
          22.0141438022931,
          18.5119970933278,
          18.4452998772939,
          14.2030035769622,
          20.4487852688313,
          20.6374167179743,
          21.6945120012442,
          19.6362096762339,
          11.3204986091137,
          15.2613862092972,
          18.0787337418079,
          14.947829367288,
          17.9428821340879,
          19.6362096762339,
          20.6374167179743,
          20.4487852688313,
          16.0083362594922,
          17.0055073515256,
          17.8265319184144,
          18.8867167170525,
          22.449368192323,
          20.0128573254426,
          16.0083362594922,
          18.010823702383,
          16.074117151467,
          16.5056300278187,
          18.8867167170525,
          16.0083362594922,
          24.4487504179954,
          33.6955119108836,
          21.6402136838118,
          17.9428821340879,
          19.6362096762339,
          21.0146775757949,
          20.8179010526021,
          14.947829367288,
          14.5094772771676,
          19.3228563026269,
          20.0128573254426,
          21.2000925755183,
          22.449368192323,
          24.6298199848016,
          20.3844797924836,
          16.8164789513429,
          17.8844870523294,
          19.9435985521158,
          17.5106453772068,
          16.1963082845688,
          16.4488718266964,
          17.5699597096125,
          19.2592897947311,
          20.4487852688313,
          17.3878710186164,
          18.1375566339175,
          20.0128573254426,
          18.8867167170525,
          20.5117211357435,
          19.0755901769479,
          15.4427070672989,
          21.2610000010014,
          17.068218910265,
          19.8218485251745,
          20.6940526441415,
          20.1349507764657,
          14.2527022595882,
          18.1957631841977,
          19.8218485251745,
          15.6970818257014,
          20.1992778436025,
          19.9435985521158,
          20.1349507764657,
          17.3185208932241,
          19.6362096762339,
          16.5056300278187,
          17.9428821340879,
          22.0141438022931,
          20.8847064431191,
          16.1963082845688,
          21.6402136838118,
          16.942514925766,
          18.8272398109913,
          19.6945794021765,
          16.5700603758971,
          17.068218910265,
          19.9435985521158,
          18.4452998772939,
          19.8218485251745,
          15.0720749433517,
          18.5119970933278,
          14.2030035769622,
          17.5106453772068,
          18.2621249691327,
          18.8272398109913,
          22.7021580751419,
          14.8159502343019,
          19.6362096762339,
          14.8822148020744,
          18.8272398109913,
          19.1952003514449,
          20.8179010526021,
          20.6940526441415,
          22.449368192323,
          21.6945120012442,
          19.0755901769479,
          17.2566976443609,
          22.386297426192,
          17.6366789277077,
          20.5117211357435,
          16.942514925766,
          18.3284182663441,
          18.6351309752146,
          18.7668556010405,
          18.6351309752146,
          17.2566976443609,
          12.8777137175878,
          17.5106453772068,
          21.5704525684992,
          19.0755901769479,
          18.8867167170525,
          17.5106453772068,
          19.0755901769479,
          19.4466368273576,
          12.3807297920863,
          16.3262298261801,
          18.6351309752146,
          18.0787337418079,
          14.8822148020744,
          20.4487852688313,
          21.6945120012442,
          17.5699597096125,
          16.0083362594922,
          16.6981861348629,
          21.3198276932716,
          18.4452998772939,
          27.0095379666169,
          18.6351309752146,
          21.0146775757949,
          19.3878434097449,
          19.8856634751638,
          22.3211468851248,
          20.0128573254426,
          16.7534518853505,
          19.2592897947311,
          18.4452998772939,
          20.5117211357435,
          12.6292216336409,
          15.5083124931335,
          22.0702138360024,
          21.9441933111032,
          16.1312475518068,
          21.6402136838118,
          20.1349507764657,
          16.5056300278187,
          17.068218910265,
          20.6940526441415,
          19.5737146353404,
          17.4495710110346,
          15.3273832773844,
          22.0141438022931,
          20.9465231434186,
          18.5119970933278,
          22.6334935104529,
          20.1992778436025,
          15.7544118757725,
          18.6351309752146,
          14.8159502343019,
          18.1375566339175,
          20.4487852688313,
          22.3211468851248,
          21.2000925755183,
          24.5746387517134,
          15.385115144221,
          22.1404092764536,
          16.8796146766027,
          18.1957631841977,
          20.8179010526021,
          19.5042967434406,
          17.8265319184144,
          21.1333783165296,
          20.0128573254426,
          16.1963082845688,
          19.2592897947311,
          21.2610000010014,
          14.0704744592984,
          24.3822914099375,
          17.7597769017696,
          17.5699597096125,
          20.1349507764657,
          18.2621249691327,
          19.0755901769479,
          17.6366789277077,
          15.0140935595512,
          18.6931291854064,
          22.386297426192,
          18.6351309752146,
          20.8179010526021,
          19.2592897947311,
          17.6366789277077,
          17.8265319184144,
          21.0146775757949,
          18.6351309752146,
          22.1404092764536,
          16.3832811510245,
          19.4466368273576,
          20.3844797924836,
          19.4466368273576,
          17.3878710186164,
          20.1992778436025,
          20.4487852688313,
          19.3228563026269,
          18.1957631841977,
          20.4487852688313,
          19.1364472086906,
          20.3189699923674,
          15.5736659522533,
          19.4466368273576,
          16.6981861348629,
          19.9435985521158,
          17.1317640181065,
          20.8847064431191,
          16.6981861348629,
          21.8897603924751,
          15.2613862092972,
          20.0128573254426,
          17.4495710110346,
          14.8159502343019,
          19.2592897947311,
          16.7534518853505,
          21.0146775757949,
          20.8847064431191,
          19.5737146353404,
          19.5737146353404,
          16.5700603758971,
          19.5042967434406,
          21.2610000010014,
          15.1953631257693,
          22.1943611518224,
          20.3844797924836,
          19.6945794021765,
          17.7597769017696,
          21.6402136838118,
          19.6362096762339,
          21.0667821184476,
          19.6362096762339,
          18.1375566339175,
          15.1299568112373,
          19.8218485251745,
          16.1312475518068,
          20.26129898386,
          18.8272398109913,
          16.942514925766,
          19.1952003514449,
          13.3249992584864,
          15.6394065773169,
          20.5679557100614,
          17.6366789277077,
          17.068218910265,
          17.1945914681435,
          20.26129898386,
          19.7585523760001,
          21.6945120012442,
          18.8867167170525,
          17.8844870523294,
          19.0755901769479,
          21.8897603924751,
          20.4487852688313,
          16.2611854688009,
          20.4487852688313,
          18.0787337418079,
          17.6976700102965,
          17.1945914681435,
          17.8844870523294,
          18.4452998772939,
          16.6981861348629,
          15.0140935595512,
          24.3822914099375,
          21.1333783165296,
          13.6977369006157,
          17.3185208932241,
          22.1404092764536,
          17.6976700102965,
          17.6976700102965,
          20.8847064431191,
          14.947829367288,
          21.8897603924751,
          15.5736659522533,
          22.3211468851248,
          21.2000925755183,
          15.8198327179432,
          17.1317640181065,
          13.8882471259117,
          33.0108936762492,
          22.8818772113005,
          22.0702138360024,
          20.6940526441415,
          20.8179010526021,
          15.8198327179432,
          17.2566976443609,
          21.2610000010014,
          14.7662517106215,
          22.7631282941182,
          16.3832811510245,
          19.1364472086906,
          21.5704525684992,
          24.3233433441003,
          19.8856634751638,
          17.5106453772068,
          18.0787337418079,
          14.8822148020744,
          17.6366789277077,
          20.5679557100614,
          19.8856634751638,
          17.5699597096125,
          19.1364472086906,
          19.7585523760001,
          17.2566976443609,
          31.6295695598602,
          14.7662517106215,
          19.4466368273576,
          16.7534518853505,
          16.3262298261801,
          21.8897603924751,
          19.8218485251745,
          20.1349507764657,
          23.6402445768992,
          21.0667821184476,
          15.6394065773169,
          22.0702138360024,
          18.5119970933278,
          20.26129898386,
          21.0667821184476,
          20.0696192498684,
          20.3844797924836,
          19.5737146353404,
          14.0042104001522,
          19.2592897947311,
          17.6366789277077,
          16.5056300278187,
          20.3189699923674,
          22.7631282941182,
          20.1992778436025,
          20.3189699923674,
          15.6394065773169,
          11.8837462679227,
          20.5679557100614,
          19.7585523760001,
          18.0787337418079,
          20.6374167179743,
          23.6982258434772,
          33.6955119108836,
          17.5699597096125,
          17.8844870523294,
          20.6374167179743,
          15.7544118757725,
          20.8179010526021,
          17.5106453772068,
          19.6945794021765,
          19.8856634751638,
          22.9477005914529,
          21.2000925755183,
          17.6976700102965,
          16.4488718266964,
          20.8847064431191,
          21.4468683914026,
          17.3185208932241,
          21.0667821184476,
          21.0146775757949,
          13.258734410572,
          17.5699597096125,
          20.8847064431191,
          17.5106453772068,
          19.6362096762339,
          20.0128573254426,
          20.5679557100614,
          18.1375566339175,
          21.5078179752509,
          16.6981861348629,
          12.1985025938034,
          19.6945794021765,
          16.3832811510245,
          17.9428821340879,
          18.8272398109913,
          18.5119970933278,
          18.1957631841977,
          13.9545116936843,
          21.2610000010014,
          18.3868218417645,
          18.5775535599073,
          20.26129898386,
          22.449368192323,
          21.3867463087718,
          19.7585523760001,
          21.2000925755183,
          19.2592897947311,
          18.1957631841977,
          22.5724764183839,
          18.6931291854064,
          12.0162753180345,
          17.0055073515256,
          21.2610000010014,
          20.6374167179743,
          21.6945120012442,
          19.1952003514449,
          19.9435985521158,
          21.4468683914026,
          22.7021580751419,
          19.8856634751638,
          14.8822148020744,
          22.2642926350911,
          33.8246124759992,
          18.0787337418079,
          17.1317640181065,
          17.3185208932241,
          15.5736659522533,
          17.4495710110346,
          20.8847064431191,
          22.1404092764536,
          20.1349507764657,
          21.3867463087718,
          20.1992778436025,
          21.4468683914026,
          23.441842517821,
          17.8265319184144,
          14.947829367288,
          17.8844870523294,
          18.6351309752146,
          20.5679557100614,
          18.0787337418079,
          20.5679557100614,
          15.4427070672989,
          21.2000925755183,
          18.5119970933278,
          16.1312475518068,
          16.1963082845688,
          18.0787337418079,
          19.7585523760001,
          20.1992778436025,
          17.1317640181065,
          22.1404092764536,
          18.3868218417645,
          19.8856634751638,
          14.8822148020744,
          20.1992778436025,
          20.0696192498684,
          19.8856634751638,
          19.0160387273312,
          21.8897603924751,
          22.2642926350911,
          17.3185208932241,
          20.8847064431191,
          18.2621249691327,
          20.6940526441415,
          15.2613862092972,
          11.3204986091137,
          21.8186324770927,
          20.764343968598,
          19.6945794021765,
          23.0773804859002,
          20.4487852688313,
          21.2610000010014,
          22.0702138360024,
          20.1992778436025,
          18.8272398109913,
          23.0773804859002,
          19.6362096762339,
          19.2592897947311,
          12.3807297920863,
          17.2566976443609,
          22.2642926350911,
          19.8856634751638,
          21.0667821184476,
          22.5724764183839,
          18.6351309752146,
          19.8856634751638,
          19.4466368273576,
          21.2610000010014,
          18.6351309752146,
          20.8179010526021,
          20.6374167179743,
          16.942514925766,
          19.6945794021765,
          21.0146775757949,
          21.2610000010014,
          20.5117211357435,
          20.4487852688313,
          18.3284182663441,
          20.4487852688313,
          14.1367392674764,
          19.0755901769479,
          22.386297426192,
          19.1364472086906,
          27.1967778340658,
          21.3198276932716,
          19.2592897947311,
          14.2030035769622,
          21.1333783165296,
          22.9477005914529,
          15.1299568112373,
          17.8844870523294,
          20.8179010526021,
          20.6374167179743,
          20.3844797924836,
          21.8186324770927,
          20.3844797924836,
          20.3844797924836,
          21.9441933111032,
          23.0124160186132,
          18.2621249691327,
          19.8856634751638,
          13.1344887848377,
          20.3844797924836,
          17.1317640181065,
          22.7631282941182,
          21.5078179752509,
          14.947829367288,
          20.0696192498684,
          20.3844797924836,
          19.2592897947311,
          16.0083362594922,
          21.5704525684992,
          20.0128573254426,
          18.5775535599073,
          17.8844870523294,
          22.6334935104529,
          15.5736659522533,
          20.6374167179743,
          22.449368192323,
          19.5042967434406,
          17.7597769017696,
          20.6374167179743,
          19.3228563026269,
          20.8847064431191,
          17.6366789277077,
          19.1364472086906,
          21.5078179752509,
          13.755718542703,
          15.6394065773169,
          22.1943611518224,
          21.7615675504684,
          19.6945794021765,
          18.4452998772939,
          20.1992778436025,
          20.8179010526021,
          18.8272398109913,
          20.4487852688313,
          20.8179010526021,
          19.1364472086906,
          23.0124160186132,
          21.6402136838118,
          22.8818772113005,
          21.2000925755183,
          18.5119970933278,
          18.2621249691327,
          20.26129898386,
          18.5119970933278,
          20.3189699923674,
          20.5117211357435,
          15.2613862092972,
          16.6343759174824,
          18.8272398109913,
          23.1933420673688,
          24.6298199848016,
          12.4469946837107,
          11.7595005269527,
          20.0696192498684,
          19.6945794021765,
          19.5737146353404,
          17.7597769017696,
          18.1957631841977,
          21.2000925755183,
          20.5117211357435,
          18.3868218417645,
          21.4468683914026,
          20.3189699923674,
          20.764343968598,
          18.9445386842569,
          22.0702138360024,
          14.8822148020744,
          19.7585523760001,
          20.8847064431191,
          24.6298199848016,
          20.6940526441415,
          21.7615675504684,
          20.6374167179743,
          21.3198276932716,
          20.1992778436025,
          22.6334935104529,
          19.0160387273312,
          21.4468683914026,
          23.1353605862141,
          27.1967778340658,
          20.26129898386,
          18.9445386842569,
          19.4466368273576,
          22.386297426192,
          16.3262298261801,
          18.6931291854064,
          21.7615675504684,
          13.1924702342033,
          20.8847064431191,
          18.1957631841977,
          22.2642926350911,
          18.8867167170525,
          21.5078179752509,
          15.1953631257693,
          22.5129782016754,
          19.6362096762339,
          22.0141438022931,
          22.3211468851248,
          22.1404092764536,
          19.6945794021765,
          22.8258403356552,
          22.0702138360024,
          21.4468683914026,
          21.2000925755183,
          16.5056300278187,
          20.6374167179743,
          19.6945794021765,
          16.6981861348629,
          20.0128573254426,
          18.6931291854064,
          20.0128573254426,
          22.1943611518224,
          14.2030035769622,
          20.1349507764657,
          21.2000925755183,
          16.2611854688009,
          19.4466368273576,
          21.8186324770927,
          21.3198276932716,
          20.4487852688313,
          21.2610000010014,
          22.386297426192,
          20.3844797924836,
          22.8258403356552,
          17.1317640181065,
          16.1312475518068,
          14.2527022595882,
          22.8258403356552,
          16.3832811510245,
          13.4409619009177,
          18.2621249691327,
          17.5106453772068,
          19.8856634751638,
          19.5042967434406,
          19.3228563026269,
          18.9445386842569,
          22.1943611518224,
          22.7631282941182,
          14.8822148020744,
          22.1943611518224,
          22.5724764183839,
          17.068218910265,
          19.8218485251745,
          19.6945794021765,
          19.8218485251745,
          18.2621249691327,
          23.3258798436006,
          16.5700603758971,
          19.0160387273312,
          20.8847064431191,
          22.5129782016754,
          23.0124160186132,
          20.0696192498684,
          15.0720749433517,
          22.0702138360024,
          21.6945120012442,
          21.2000925755183,
          20.0128573254426,
          22.2642926350911,
          6.88077717777888,
          21.7615675504684,
          21.3867463087718,
          33.0108936762492,
          17.1317640181065,
          20.5117211357435,
          17.8844870523294,
          20.9465231434186,
          15.5736659522533,
          19.3878434097449,
          20.3189699923674,
          22.5129782016754,
          15.9511026676178,
          22.9477005914529,
          22.5129782016754,
          24.3822914099375,
          19.5042967434406,
          21.7615675504684,
          18.5775535599073,
          20.3189699923674,
          20.5117211357435,
          14.6999871011257,
          17.6366789277077,
          19.9435985521158,
          19.8856634751638,
          22.2642926350911,
          17.5106453772068,
          18.0787337418079,
          18.010823702383,
          21.9441933111032,
          16.4488718266964,
          15.9511026676178,
          22.7631282941182,
          21.2610000010014,
          21.3198276932716,
          22.6334935104529,
          13.6397552505811,
          21.2610000010014,
          23.6982258434772,
          19.3878434097449,
          21.7615675504684,
          20.3844797924836,
          21.5704525684992,
          21.0667821184476,
          17.9428821340879,
          15.6394065773169,
          22.0702138360024,
          15.0140935595512,
          16.5700603758971,
          17.6366789277077,
          17.0055073515256,
          21.5078179752509,
          23.0773804859002,
          21.4468683914026,
          22.386297426192,
          22.0702138360024,
          16.6343759174824,
          20.5117211357435,
          17.3878710186164,
          12.3807297920863,
          19.6945794021765,
          20.6374167179743,
          15.7544118757725,
          20.0696192498684,
          15.4427070672989,
          15.6394065773169,
          10.7572498436451,
          14.2527022595882,
          20.3189699923674,
          21.2610000010014,
          21.8186324770927,
          19.9435985521158,
          23.6402445768992,
          20.3844797924836,
          20.6374167179743,
          12.8777137175878,
          18.8272398109913,
          18.8867167170525,
          21.4468683914026,
          20.6374167179743,
          20.3189699923674,
          22.449368192323,
          21.2610000010014,
          20.1992778436025,
          22.3211468851248,
          20.764343968598,
          21.4468683914026,
          20.8847064431191,
          19.1952003514449,
          20.764343968598,
          21.7615675504684,
          22.7021580751419,
          17.3185208932241,
          19.0755901769479,
          17.9428821340879,
          23.8224714016596,
          19.1364472086906,
          19.8218485251745,
          19.1952003514449,
          13.3912633673032,
          18.6351309752146,
          23.0773804859002,
          20.26129898386,
          22.1943611518224,
          22.386297426192,
          18.4452998772939,
          22.3211468851248,
          17.3878710186164,
          22.1404092764536,
          21.4468683914026,
          20.8847064431191,
          21.0146775757949,
          20.1349507764657,
          20.1992778436025,
          23.0773804859002,
          19.1952003514449,
          21.5704525684992,
          22.3211468851248,
          14.7662517106215,
          15.6394065773169,
          19.3228563026269,
          20.8179010526021,
          20.4487852688313,
          18.2621249691327,
          17.3185208932241,
          21.0146775757949,
          16.3262298261801,
          17.7597769017696,
          22.1943611518224,
          19.0160387273312,
          22.6334935104529,
          17.8265319184144,
          19.1952003514449,
          21.3198276932716,
          21.5704525684992,
          17.4495710110346,
          21.8897603924751,
          22.7631282941182,
          23.3258798436006,
          20.26129898386,
          19.1364472086906,
          20.6374167179743,
          21.8186324770927,
          22.386297426192,
          19.8856634751638,
          21.2610000010014,
          23.3921441272577,
          19.8218485251745,
          22.7631282941182,
          23.0773804859002,
          19.4466368273576,
          21.0146775757949,
          22.386297426192,
          16.4488718266964,
          20.6940526441415,
          22.2642926350911,
          11.2542337770939,
          22.1943611518224,
          17.9428821340879,
          22.7631282941182,
          21.3867463087718,
          14.947829367288,
          22.8258403356552,
          21.8897603924751,
          14.385231142807,
          21.6945120012442,
          18.6351309752146,
          22.9477005914529,
          17.5699597096125,
          23.2596149678707,
          21.5704525684992,
          14.8159502343019,
          20.1349507764657,
          18.9445386842569,
          22.1404092764536,
          20.764343968598,
          20.1992778436025,
          22.5724764183839,
          22.0702138360024,
          21.1333783165296,
          21.6402136838118,
          15.6394065773169,
          16.074117151467,
          20.5679557100614,
          15.0140935595512,
          18.5775535599073,
          21.6945120012442,
          20.3189699923674,
          15.1953631257693,
          14.6999871011257,
          19.9435985521158,
          19.0755901769479,
          22.1943611518224,
          21.2610000010014,
          14.0042104001522,
          21.3198276932716,
          17.6976700102965,
          17.068218910265,
          23.3258798436006,
          20.764343968598,
          23.1933420673688,
          21.8186324770927,
          15.3273832773844,
          19.8218485251745,
          17.3878710186164,
          17.3185208932241,
          21.9441933111032,
          22.7021580751419,
          22.2642926350911,
          18.1957631841977,
          22.3211468851248,
          18.9445386842569,
          17.9428821340879,
          18.6351309752146,
          20.26129898386,
          23.3921441272577,
          18.8272398109913,
          20.6940526441415,
          15.1953631257693,
          21.0667821184476,
          20.1992778436025,
          21.7615675504684,
          21.5704525684992,
          18.8867167170525,
          22.3211468851248,
          22.5129782016754,
          21.6402136838118,
          20.6940526441415,
          20.6374167179743,
          20.0696192498684,
          16.4488718266964,
          20.0696192498684,
          16.8164789513429,
          19.2592897947311,
          22.7021580751419,
          18.5775535599073,
          21.0667821184476,
          21.0146775757949,
          21.2610000010014,
          14.0704744592984,
          22.2642926350911,
          21.9441933111032,
          23.3921441272577,
          21.9441933111032,
          20.6940526441415,
          15.8855400101026,
          19.3878434097449,
          20.3189699923674,
          20.1992778436025,
          20.8179010526021,
          21.3867463087718,
          16.4488718266964,
          21.0146775757949,
          19.1952003514449,
          14.8159502343019,
          19.5737146353404,
          19.9435985521158,
          23.0773804859002,
          15.6970818257014,
          22.5129782016754,
          22.8258403356552,
          16.6981861348629,
          21.0146775757949,
          22.0702138360024,
          18.5775535599073,
          18.010823702383,
          21.8186324770927,
          20.6940526441415,
          20.1992778436025,
          22.1404092764536,
          22.449368192323,
          22.9477005914529,
          21.8186324770927,
          20.3844797924836,
          23.7562070425034,
          21.7615675504684,
          22.0141438022931,
          15.8198327179432,
          22.0141438022931,
          20.764343968598,
          21.5704525684992,
          21.3867463087718,
          19.3228563026269,
          20.6374167179743,
          18.010823702383,
          22.6334935104529,
          16.6981861348629,
          17.8265319184144,
          22.386297426192,
          22.1404092764536,
          15.1299568112373,
          20.1992778436025,
          21.9441933111032,
          20.3189699923674,
          21.0667821184476,
          15.1953631257693,
          22.1943611518224,
          18.1957631841977,
          22.8258403356552,
          19.0755901769479,
          21.5704525684992,
          16.8164789513429,
          22.5724764183839,
          23.1933420673688,
          22.9477005914529,
          19.0755901769479,
          19.4466368273576,
          24.6959181840897,
          21.0146775757949,
          22.0141438022931,
          20.26129898386,
          22.386297426192,
          23.1353605862141,
          19.8218485251745,
          22.0702138360024,
          23.6982258434772,
          34.4459878678799,
          23.0773804859002,
          22.9477005914529,
          19.8218485251745,
          18.5775535599073,
          19.6362096762339,
          21.0146775757949,
          17.4495710110346,
          17.3878710186164,
          18.2621249691327,
          20.6940526441415,
          20.8847064431191,
          20.3844797924836,
          21.8897603924751,
          18.1957631841977,
          16.5056300278187,
          19.5737146353404,
          22.0702138360024,
          21.7615675504684,
          16.3262298261801,
          15.7544118757725,
          21.7615675504684,
          14.5094772771676,
          18.5119970933278,
          23.1933420673688,
          21.7615675504684,
          14.3189666008631,
          21.5078179752509,
          17.0055073515256,
          16.4488718266964,
          14.4514954344114,
          21.4468683914026,
          13.6977369006157,
          19.0160387273312,
          21.7615675504684,
          20.3189699923674,
          16.4488718266964,
          22.7021580751419,
          22.449368192323,
          21.9441933111032,
          19.1364472086906,
          14.4514954344114,
          15.7544118757725,
          17.3185208932241,
          15.5083124931335,
          21.2000925755183,
          5.63831796801885,
          17.5699597096125,
          22.386297426192,
          21.8897603924751,
          22.5129782016754,
          21.8897603924751,
          20.1349507764657,
          18.5775535599073,
          17.068218910265,
          19.0755901769479,
          22.0702138360024,
          22.2642926350911,
          14.947829367288,
          20.8179010526021,
          22.9477005914529,
          18.8272398109913,
          22.8258403356552,
          18.5119970933278,
          15.2613862092972,
          21.7615675504684,
          20.3844797924836,
          22.3211468851248,
          22.3211468851248,
          23.1933420673688,
          18.8272398109913,
          14.2527022595882,
          19.1952003514449,
          22.6334935104529,
          14.8159502343019,
          22.386297426192,
          19.6362096762339,
          16.5056300278187,
          22.3211468851248,
          19.4466368273576,
          20.5679557100614,
          21.1333783165296,
          17.9428821340879,
          22.5724764183839,
          17.7597769017696,
          22.386297426192,
          21.0146775757949,
          22.8818772113005,
          19.0160387273312,
          17.3878710186164,
          17.068218910265,
          20.1349507764657,
          18.1957631841977,
          17.1317640181065,
          19.4466368273576,
          22.386297426192,
          22.5724764183839,
          16.3262298261801,
          17.8265319184144,
          19.1952003514449,
          22.5724764183839,
          22.0702138360024,
          19.6945794021765,
          21.0667821184476,
          16.5700603758971,
          23.1933420673688,
          20.0128573254426,
          17.7597769017696,
          17.2566976443609,
          20.3844797924836,
          17.068218910265,
          23.1933420673688,
          21.6945120012442,
          22.5724764183839,
          21.0667821184476,
          20.6940526441415,
          19.2592897947311,
          15.5083124931335,
          20.9465231434186,
          23.5743799423853,
          20.6940526441415,
          20.5117211357435,
          22.8818772113005,
          16.942514925766,
          14.6999871011257,
          20.26129898386,
          22.386297426192,
          20.3844797924836,
          19.9435985521158,
          22.0141438022931,
          20.26129898386,
          15.6970818257014,
          23.0773804859002,
          23.1353605862141,
          21.5078179752509,
          21.5704525684992,
          19.8856634751638,
          17.6976700102965,
          22.8258403356552,
          22.8818772113005,
          21.3198276932716,
          22.2642926350911,
          19.2592897947311,
          23.8224714016596,
          21.3867463087718,
          22.7631282941182,
          10.9477603172938,
          17.6366789277077,
          23.1353605862141,
          17.3878710186164,
          16.1963082845688,
          22.7021580751419,
          18.1375566339175,
          21.9441933111032,
          22.1404092764536,
          23.0773804859002,
          20.1992778436025,
          22.3211468851248,
          19.3878434097449,
          21.1333783165296,
          24.6959181840897,
          19.5042967434406,
          22.8258403356552,
          21.4468683914026,
          22.3211468851248,
          15.1953631257693,
          21.3867463087718,
          20.4487852688313,
          22.6334935104529,
          23.3921441272577,
          21.9441933111032,
          21.8897603924751,
          20.764343968598,
          20.6374167179743,
          21.5704525684992,
          15.6970818257014,
          17.7597769017696,
          21.5078179752509,
          18.010823702383,
          22.386297426192,
          19.0755901769479,
          15.0720749433517,
          15.6394065773169,
          20.0696192498684,
          22.386297426192,
          18.8867167170525,
          22.0141438022931,
          21.8186324770927,
          23.1933420673688,
          17.6976700102965,
          20.8847064431191,
          19.5042967434406,
          20.9465231434186,
          22.5724764183839,
          22.9477005914529,
          22.7631282941182,
          15.0140935595512,
          21.0146775757949,
          22.3211468851248,
          21.9441933111032,
          19.8218485251745,
          20.8847064431191,
          20.1349507764657,
          23.6402445768992,
          20.4487852688313,
          18.2621249691327,
          20.3844797924836,
          17.0055073515256,
          19.1364472086906,
          20.1992778436025,
          18.8867167170525,
          23.3258798436006,
          22.1943611518224,
          20.0696192498684,
          20.4487852688313,
          18.9445386842569,
          20.6940526441415,
          21.6402136838118,
          19.4466368273576,
          21.2000925755183,
          19.1364472086906,
          23.0773804859002,
          15.1953631257693,
          20.8847064431191,
          18.3868218417645,
          20.26129898386,
          18.7668556010405,
          20.9465231434186,
          22.449368192323,
          22.6334935104529,
          21.3867463087718,
          22.2642926350911,
          22.3211468851248,
          16.4488718266964,
          19.7585523760001,
          20.6940526441415,
          22.449368192323,
          21.2610000010014,
          17.8265319184144,
          22.3211468851248,
          22.386297426192,
          15.8198327179432,
          22.5129782016754,
          21.9441933111032,
          22.1943611518224,
          19.5042967434406,
          21.0667821184476,
          21.0667821184476,
          23.1933420673688,
          19.7585523760001,
          21.8186324770927,
          22.0141438022931,
          22.5129782016754,
          22.1943611518224,
          11.9500107681433,
          22.8818772113005,
          22.7631282941182,
          18.4452998772939,
          21.6402136838118,
          18.6351309752146,
          15.5083124931335,
          22.3211468851248,
          21.9441933111032,
          22.9477005914529,
          22.6334935104529,
          22.0702138360024,
          19.4466368273576,
          22.8818772113005,
          17.068218910265,
          18.8867167170525,
          20.5117211357435,
          18.8867167170525,
          23.8224714016596,
          21.8897603924751,
          18.9445386842569,
          19.4466368273576,
          21.6402136838118,
          23.1353605862141,
          23.1353605862141,
          16.3832811510245,
          19.3228563026269,
          21.9441933111032,
          21.3198276932716,
          22.7021580751419,
          22.5129782016754,
          22.3211468851248,
          21.7615675504684,
          22.0702138360024,
          18.3868218417645,
          21.7615675504684,
          20.0696192498684,
          20.8179010526021,
          22.7021580751419,
          21.7615675504684,
          22.8258403356552,
          22.8818772113005,
          22.1943611518224,
          22.3211468851248,
          16.942514925766,
          17.3185208932241,
          19.7585523760001,
          22.8258403356552,
          21.1333783165296,
          20.9465231434186,
          15.2613862092972,
          19.7585523760001,
          19.3228563026269,
          20.3844797924836,
          22.8818772113005,
          22.0141438022931,
          17.9428821340879,
          22.386297426192,
          19.6362096762339,
          16.3832811510245,
          17.4495710110346,
          20.0696192498684,
          22.5129782016754,
          22.5129782016754,
          22.5724764183839,
          23.441842517821,
          22.7021580751419,
          21.5078179752509,
          16.942514925766,
          22.9477005914529,
          23.1353605862141,
          15.3273832773844,
          15.8855400101026,
          18.010823702383,
          22.3211468851248,
          14.7662517106215,
          23.6982258434772,
          18.3868218417645,
          23.0124160186132,
          22.3211468851248,
          13.5734909351349,
          22.5129782016754,
          23.0773804859002,
          22.5129782016754,
          19.3228563026269,
          20.4487852688313,
          22.3211468851248,
          21.6402136838118,
          15.5083124931335,
          19.2592897947311,
          19.2592897947311,
          18.2621249691327,
          23.2596149678707,
          20.764343968598,
          21.6945120012442,
          23.1933420673688,
          14.0042104001522,
          23.6982258434772,
          21.8186324770927,
          16.8796146766027,
          21.0146775757949,
          22.7021580751419,
          18.4452998772939,
          23.1353605862141,
          22.449368192323,
          20.1992778436025,
          14.6999871011257,
          19.9435985521158,
          22.9477005914529,
          20.8179010526021,
          22.449368192323,
          21.1333783165296,
          21.5078179752509,
          17.1317640181065,
          17.3185208932241,
          20.3189699923674,
          22.7021580751419,
          18.2621249691327,
          23.1933420673688,
          22.449368192323,
          22.7021580751419,
          21.6402136838118,
          18.9445386842569,
          30.2670495346864,
          19.2592897947311,
          22.8818772113005,
          22.1404092764536,
          22.449368192323,
          22.386297426192,
          18.4452998772939,
          20.5117211357435,
          21.8186324770927,
          17.8265319184144,
          22.7021580751419,
          21.3198276932716,
          21.1333783165296,
          22.7631282941182,
          24.5124938861211,
          21.9441933111032,
          15.3273832773844,
          17.9428821340879,
          13.8219826018492,
          23.0773804859002,
          15.385115144221,
          18.2621249691327,
          22.3211468851248,
          13.9545116936843,
          19.5042967434406,
          22.0141438022931,
          22.5129782016754,
          22.386297426192,
          22.2642926350911,
          23.6402445768992,
          19.3228563026269,
          21.5078179752509,
          24.4487504179954,
          22.386297426192,
          20.0696192498684,
          18.1375566339175,
          19.8218485251745,
          21.3198276932716,
          20.26129898386,
          19.1364472086906,
          20.8847064431191,
          23.0124160186132,
          22.0141438022931,
          23.1933420673688,
          22.5724764183839,
          23.0124160186132,
          23.0773804859002,
          20.6940526441415,
          23.0773804859002,
          19.7585523760001,
          20.8847064431191,
          22.5724764183839,
          23.0124160186132,
          18.8867167170525,
          21.3867463087718,
          17.4495710110346,
          17.6366789277077,
          21.6945120012442,
          22.7631282941182,
          21.3867463087718,
          20.6940526441415,
          17.6976700102965,
          22.3211468851248,
          11.8174816763083,
          22.2642926350911,
          16.8796146766027,
          17.8265319184144,
          13.3249992584864,
          21.8186324770927,
          14.6337228095214,
          22.7631282941182,
          33.5126235182762,
          22.7021580751419,
          20.1349507764657,
          21.5078179752509,
          22.5129782016754,
          22.1943611518224,
          20.764343968598,
          22.7021580751419,
          16.5700603758971,
          22.7021580751419,
          23.5081149593671,
          22.9477005914529,
          23.1933420673688,
          22.7631282941182,
          22.5724764183839,
          22.0702138360024,
          21.8897603924751,
          22.1404092764536,
          20.8847064431191,
          11.5689902678808,
          22.0141438022931,
          21.6945120012442,
          22.2642926350911,
          22.0141438022931,
          13.8882471259117,
          23.1933420673688,
          20.26129898386,
          14.0042104001522,
          22.5724764183839,
          22.386297426192,
          18.4452998772939,
          19.6945794021765,
          19.4466368273576,
          23.6402445768992,
          13.3912633673032,
          15.6394065773169,
          21.9441933111032,
          23.0124160186132,
          20.0696192498684,
          15.6394065773169,
          22.5724764183839,
          20.26129898386,
          20.4487852688313,
          19.2592897947311,
          20.0128573254426,
          21.8186324770927,
          22.6334935104529,
          16.6343759174824,
          18.1375566339175,
          17.5699597096125,
          22.449368192323,
          22.8258403356552,
          23.3258798436006,
          22.386297426192,
          20.3189699923674,
          21.0146775757949,
          18.3868218417645,
          21.8897603924751,
          21.6402136838118,
          22.386297426192,
          19.3228563026269,
          22.9477005914529,
          21.5704525684992,
          19.9435985521158,
          18.6351309752146,
          23.5081149593671,
          22.5129782016754,
          18.8272398109913,
          20.8847064431191,
          23.5081149593671,
          21.5078179752509,
          20.5117211357435,
          17.5699597096125,
          22.3211468851248,
          17.8844870523294,
          23.7562070425034,
          22.386297426192,
          13.3249992584864,
          20.6940526441415,
          14.7662517106215,
          21.6945120012442,
          20.5117211357435,
          18.3284182663441,
          22.0141438022931,
          23.6982258434772,
          21.5078179752509,
          19.8218485251745,
          15.385115144221,
          19.4466368273576,
          23.3921441272577,
          14.947829367288,
          22.7021580751419,
          18.9445386842569,
          19.9435985521158,
          23.0773804859002,
          22.5129782016754,
          22.7021580751419,
          18.2621249691327,
          16.074117151467,
          18.8272398109913,
          21.5704525684992,
          22.6334935104529,
          21.5078179752509,
          18.3868218417645,
          21.2610000010014,
          23.7562070425034,
          8.75274970289866,
          23.2596149678707,
          14.2527022595882,
          22.5724764183839,
          22.8258403356552,
          22.8258403356552,
          22.0141438022931,
          23.441842517821,
          18.1957631841977,
          22.7631282941182,
          20.9465231434186,
          17.6976700102965,
          22.1943611518224,
          21.9441933111032,
          15.7544118757725,
          19.6945794021765,
          20.5679557100614,
          22.5724764183839,
          14.2527022595882,
          14.7662517106215,
          20.5679557100614,
          23.3258798436006,
          22.2642926350911,
          21.2000925755183,
          21.1333783165296,
          23.7562070425034,
          20.5679557100614,
          23.0124160186132,
          15.5083124931335,
          13.0765075162729,
          21.7615675504684,
          22.7631282941182,
          16.3262298261801,
          18.6931291854064,
          21.2610000010014,
          20.0128573254426,
          20.764343968598,
          17.9428821340879,
          22.2642926350911,
          23.5743799423853,
          22.7631282941182,
          22.9477005914529,
          21.6945120012442,
          22.8818772113005,
          15.2613862092972,
          17.068218910265,
          16.942514925766,
          21.6945120012442,
          21.1333783165296,
          21.8186324770927,
          21.1333783165296,
          18.9445386842569,
          22.5129782016754,
          23.3258798436006,
          20.6374167179743,
          23.5081149593671,
          19.5737146353404,
          20.5117211357435,
          22.1404092764536,
          20.764343968598,
          18.010823702383,
          14.8822148020744,
          21.9441933111032,
          19.5737146353404,
          21.0146775757949,
          19.2592897947311,
          23.5743799423853,
          22.7021580751419,
          22.5724764183839,
          21.7615675504684,
          22.386297426192,
          22.6334935104529,
          20.4487852688313,
          18.3284182663441,
          20.1349507764657,
          21.3198276932716,
          23.3921441272577,
          20.5117211357435,
          22.0141438022931,
          22.9477005914529,
          20.6940526441415,
          22.2642926350911,
          21.8897603924751,
          16.4488718266964,
          19.6362096762339,
          19.2592897947311,
          22.2642926350911,
          21.0667821184476,
          22.7021580751419,
          23.3258798436006,
          21.5704525684992,
          21.0146775757949,
          21.5704525684992,
          21.9441933111032,
          15.5083124931335,
          16.8796146766027,
          22.449368192323,
          23.6982258434772,
          13.755718542703,
          23.0124160186132,
          23.1933420673688,
          21.0667821184476,
          17.3185208932241,
          21.9441933111032,
          22.386297426192,
          22.9477005914529,
          22.0702138360024,
          22.9477005914529,
          23.3921441272577,
          22.7021580751419,
          22.1404092764536,
          19.2592897947311,
          22.5129782016754,
          22.3211468851248,
          22.2642926350911,
          23.3258798436006,
          17.3878710186164,
          19.4466368273576,
          23.1353605862141,
          19.5042967434406,
          22.449368192323,
          13.0765075162729,
          23.2596149678707,
          18.1375566339175,
          22.9477005914529,
          21.6402136838118,
          23.7562070425034,
          21.4468683914026,
          23.1933420673688,
          23.0773804859002,
          21.0667821184476,
          23.7562070425034,
          23.1933420673688,
          23.2596149678707,
          20.8179010526021,
          16.5056300278187,
          23.441842517821,
          22.9477005914529,
          16.3262298261801,
          22.449368192323,
          22.449368192323,
          22.386297426192,
          20.3189699923674,
          19.7585523760001,
          19.3228563026269,
          18.3284182663441,
          23.7562070425034,
          23.3258798436006,
          14.7662517106215,
          22.8818772113005,
          16.6981861348629,
          20.6374167179743,
          23.3921441272577,
          14.0704744592984,
          21.8897603924751,
          21.0146775757949,
          22.7021580751419,
          15.9511026676178,
          23.1933420673688,
          23.8224714016596,
          21.6402136838118,
          22.3211468851248,
          20.764343968598,
          23.2596149678707,
          19.0160387273312,
          22.7631282941182,
          19.3878434097449,
          22.6334935104529,
          23.7562070425034,
          22.9477005914529,
          22.1404092764536,
          20.8847064431191,
          23.8224714016596,
          29.6975507175604,
          22.5129782016754,
          21.5704525684992,
          20.6374167179743,
          18.1957631841977,
          23.441842517821,
          21.1333783165296,
          12.7617506599108,
          22.8818772113005,
          22.6334935104529,
          12.6292216336409,
          21.5078179752509,
          21.7615675504684,
          22.8258403356552,
          19.1364472086906,
          22.449368192323,
          21.4468683914026,
          22.386297426192,
          19.3228563026269,
          16.8164789513429,
          23.3921441272577,
          23.0773804859002,
          24.3233433441003,
          18.5119970933278,
          18.5775535599073,
          17.5699597096125,
          20.8179010526021,
          22.7631282941182,
          23.7562070425034,
          21.6402136838118,
          19.6945794021765,
          14.8822148020744,
          22.449368192323,
          18.5119970933278,
          22.7631282941182,
          18.8867167170525,
          21.8897603924751,
          21.0667821184476,
          18.2621249691327,
          20.0128573254426,
          23.0773804859002,
          14.2527022595882,
          22.8258403356552,
          22.6334935104529,
          17.0055073515256,
          23.5081149593671,
          22.8258403356552,
          22.1404092764536,
          22.1404092764536,
          15.6970818257014,
          18.3868218417645,
          23.1933420673688,
          22.5129782016754,
          15.6970818257014,
          21.6402136838118,
          20.1349507764657,
          21.8186324770927,
          21.6402136838118,
          23.0773804859002,
          11.8837462679227,
          22.386297426192,
          18.8272398109913,
          24.3233433441003,
          28.0713489170551,
          22.9477005914529,
          23.441842517821,
          20.4487852688313,
          23.6982258434772,
          19.6945794021765,
          22.7631282941182,
          23.5743799423853,
          18.7668556010405,
          18.3868218417645,
          23.1353605862141,
          22.386297426192,
          21.0667821184476,
          16.6343759174824,
          21.2610000010014,
          23.2596149678707,
          22.7631282941182,
          21.0667821184476,
          16.1312475518068,
          22.6334935104529,
          20.8179010526021,
          13.4409619009177,
          18.0787337418079,
          19.5737146353404,
          12.0659740086079,
          15.385115144221,
          16.5056300278187,
          23.1933420673688,
          22.5724764183839,
          18.8867167170525,
          21.1333783165296,
          18.7668556010405,
          18.4452998772939,
          12.8280155912717,
          13.0102425352414,
          22.1404092764536,
          20.26129898386,
          17.2566976443609,
          17.8265319184144,
          22.6334935104529,
          31.4478498335362,
          19.1952003514449,
          23.3921441272577,
          20.764343968598,
          23.0124160186132,
          21.5078179752509,
          19.8856634751638,
          23.3921441272577,
          22.7021580751419,
          17.2566976443609,
          17.5106453772068,
          21.3867463087718,
          22.8818772113005,
          15.8855400101026,
          22.6334935104529,
          22.0702138360024,
          20.0128573254426,
          22.9477005914529,
          22.1404092764536,
          21.2610000010014,
          22.9477005914529,
          21.9441933111032,
          23.6402445768992,
          23.3921441272577,
          20.3189699923674,
          20.1992778436025,
          19.5737146353404,
          18.0787337418079,
          23.441842517821,
          21.8186324770927,
          21.5078179752509,
          22.386297426192,
          23.0773804859002,
          16.0083362594922,
          23.6982258434772,
          23.2596149678707,
          21.8897603924751,
          19.2592897947311,
          23.2596149678707,
          23.441842517821,
          23.6402445768992,
          22.449368192323,
          22.8818772113005,
          18.1375566339175,
          22.8258403356552,
          22.9477005914529,
          20.8847064431191,
          23.0773804859002,
          21.9441933111032,
          21.2000925755183,
          11.0057418779214,
          23.2596149678707,
          21.1333783165296,
          23.7562070425034,
          22.6334935104529,
          22.5724764183839,
          18.3868218417645,
          22.386297426192,
          21.0146775757949,
          20.6940526441415,
          23.7562070425034,
          20.26129898386,
          22.0702138360024,
          23.5081149593671,
          21.8186324770927,
          22.8818772113005,
          22.1943611518224,
          17.8265319184144,
          19.9435985521158,
          20.3844797924836,
          22.5724764183839,
          23.1933420673688,
          22.5129782016754,
          23.6402445768992,
          23.1933420673688,
          19.1364472086906,
          22.9477005914529,
          22.386297426192,
          23.6982258434772,
          22.8258403356552,
          22.7021580751419,
          23.6402445768992,
          22.7021580751419,
          22.3211468851248,
          20.26129898386,
          22.5129782016754,
          17.1945914681435,
          19.6945794021765,
          14.6337228095214,
          21.8186324770927,
          24.004298976628,
          23.7562070425034,
          22.386297426192,
          22.386297426192,
          23.441842517821,
          20.3844797924836,
          18.6351309752146,
          17.7597769017696,
          12.322749185133,
          13.6397552505811,
          16.5056300278187,
          19.1364472086906,
          13.5072262859027,
          20.764343968598,
          17.5699597096125,
          14.7662517106215,
          17.5106453772068,
          23.8883360441208,
          21.4468683914026,
          22.2642926350911,
          19.5042967434406,
          22.7021580751419,
          14.0042104001522,
          17.2566976443609,
          23.441842517821,
          20.4487852688313,
          18.8867167170525,
          18.6351309752146,
          22.8818772113005,
          16.5056300278187,
          22.6334935104529,
          22.3211468851248,
          21.6945120012442,
          21.6402136838118,
          19.9435985521158,
          19.5737146353404,
          17.7597769017696,
          14.6999871011257,
          19.0160387273312,
          22.1404092764536,
          23.3258798436006,
          22.2642926350911,
          23.6982258434772,
          22.386297426192,
          22.386297426192,
          21.0667821184476,
          22.6334935104529,
          21.0667821184476,
          22.7021580751419,
          21.8897603924751,
          20.8847064431191,
          21.6945120012442,
          19.0755901769479,
          23.441842517821,
          21.8897603924751,
          21.6945120012442,
          20.5679557100614,
          23.2596149678707,
          22.1943611518224,
          23.2596149678707,
          22.6334935104529,
          20.1349507764657,
          14.947829367288,
          22.8818772113005,
          19.7585523760001,
          21.2610000010014,
          22.7631282941182,
          23.6982258434772,
          17.3185208932241,
          18.8867167170525,
          21.2000925755183,
          23.6402445768992,
          20.4487852688313,
          22.1404092764536,
          23.1353605862141,
          22.5724764183839,
          23.1933420673688,
          21.3198276932716,
          22.449368192323,
          23.0773804859002,
          23.6982258434772,
          23.5081149593671,
          23.1353605862141,
          22.1404092764536,
          23.0773804859002,
          22.5129782016754,
          23.0773804859002,
          23.3921441272577,
          22.8258403356552,
          20.6374167179743,
          20.5117211357435,
          32.1964515681744,
          22.1943611518224,
          11.4530272777557,
          22.7631282941182,
          22.9477005914529,
          19.1952003514449,
          24.3233433441003,
          23.0773804859002,
          22.8818772113005,
          21.8897603924751,
          23.5081149593671,
          21.4468683914026,
          23.1933420673688,
          23.7562070425034,
          21.6402136838118,
          23.1353605862141,
          23.6402445768992,
          23.6402445768992,
          19.8856634751638,
          23.0124160186132,
          16.6343759174824,
          22.1943611518224,
          24.9427681759675,
          23.8883360441208,
          23.441842517821,
          14.5094772771676,
          15.6970818257014,
          16.2611854688009,
          22.3211468851248,
          21.7615675504684,
          21.7615675504684,
          22.5724764183839,
          20.764343968598,
          20.6940526441415,
          22.8818772113005,
          23.5743799423853,
          22.449368192323,
          23.1933420673688,
          22.5129782016754,
          21.7615675504684,
          22.8258403356552,
          23.3921441272577,
          21.9441933111032,
          21.8186324770927,
          21.7615675504684,
          19.6362096762339,
          21.3198276932716,
          22.2642926350911,
          22.2642926350911,
          21.8186324770927,
          28.5680828944524,
          21.4468683914026,
          21.8897603924751,
          22.2642926350911,
          21.3198276932716,
          18.2621249691327,
          20.6940526441415,
          12.8280155912717,
          23.0773804859002,
          22.7021580751419,
          22.0141438022931,
          18.2621249691327,
          23.9546006516298,
          22.0702138360024,
          23.5081149593671,
          15.7544118757725,
          23.1353605862141,
          23.1353605862141,
          19.2592897947311,
          11.3204986091137,
          23.3258798436006,
          23.1353605862141,
          22.449368192323,
          23.1353605862141,
          22.386297426192,
          23.9546006516298,
          23.2596149678707,
          23.1933420673688,
          14.8822148020744,
          17.2566976443609,
          23.2596149678707,
          23.0124160186132,
          16.3832811510245,
          22.8818772113005,
          19.7585523760001,
          19.7585523760001,
          22.5724764183839,
          22.386297426192,
          17.1317640181065,
          12.1322379346371,
          22.5129782016754,
          23.6402445768992,
          17.3185208932241,
          22.1404092764536,
          23.9546006516298,
          21.9441933111032,
          22.1943611518224,
          18.8867167170525,
          19.9435985521158,
          13.755718542703,
          23.1933420673688,
          22.5129782016754,
          22.8258403356552,
          22.3211468851248,
          20.3189699923674,
          15.8855400101026,
          18.6931291854064,
          22.9477005914529,
          22.3211468851248,
          20.4487852688313,
          22.7631282941182,
          19.5042967434406,
          22.3211468851248,
          19.5737146353404,
          23.3921441272577,
          21.8186324770927,
          17.2566976443609,
          22.7631282941182,
          23.2596149678707,
          22.7021580751419,
          23.441842517821,
          20.3189699923674,
          22.8818772113005,
          22.0702138360024,
          23.7562070425034,
          21.2610000010014,
          16.6981861348629,
          22.449368192323,
          23.1353605862141,
          20.4487852688313,
          23.8883360441208,
          21.4468683914026,
          16.5700603758971,
          19.7585523760001,
          14.2030035769622,
          21.8186324770927,
          22.7021580751419,
          22.5129782016754,
          15.9511026676178,
          16.074117151467,
          23.3258798436006,
          23.1353605862141,
          22.6334935104529,
          22.0141438022931,
          19.5737146353404,
          22.1404092764536,
          18.8867167170525,
          19.4466368273576,
          22.449368192323,
          22.6334935104529,
          13.5734909351349,
          16.5700603758971,
          17.5106453772068,
          23.1353605862141,
          19.3878434097449,
          21.9441933111032,
          16.0083362594922,
          18.1375566339175,
          22.8258403356552,
          16.5700603758971,
          19.3228563026269,
          22.6334935104529,
          21.5704525684992,
          28.1373638665358,
          22.1943611518224,
          20.6374167179743,
          17.3878710186164,
          17.8265319184144,
          23.441842517821,
          23.5743799423853,
          19.9435985521158,
          23.441842517821,
          22.1943611518224,
          23.0124160186132,
          23.3258798436006,
          22.3211468851248,
          22.386297426192,
          19.5737146353404,
          15.5083124931335,
          14.6999871011257,
          23.7562070425034,
          22.6334935104529,
          20.26129898386,
          16.6343759174824,
          14.947829367288,
          12.2647670920372,
          22.3211468851248,
          19.4466368273576,
          21.6402136838118,
          23.441842517821,
          19.0755901769479,
          23.5081149593671,
          22.449368192323,
          14.6337228095214,
          20.3844797924836,
          23.0773804859002,
          22.6334935104529,
          21.8186324770927,
          23.9546006516298,
          23.441842517821,
          16.6343759174824,
          19.0160387273312,
          22.386297426192,
          22.8818772113005,
          23.0124160186132,
          23.5743799423853,
          22.8818772113005,
          23.5081149593671,
          22.0141438022931,
          22.0702138360024,
          20.0128573254426,
          22.1404092764536,
          22.8818772113005,
          19.6362096762339,
          22.6334935104529,
          21.9441933111032,
          22.1404092764536,
          23.1353605862141,
          23.6402445768992,
          13.3912633673032,
          22.2642926350911,
          16.1312475518068,
          21.4468683914026,
          23.3921441272577,
          23.0773804859002,
          22.2642926350911,
          21.6945120012442,
          23.1353605862141,
          19.0160387273312,
          21.6945120012442,
          23.8883360441208,
          22.8818772113005,
          23.2596149678707,
          23.0124160186132,
          22.8258403356552,
          22.8258403356552,
          22.7631282941182,
          21.8186324770927,
          22.0141438022931,
          22.3211468851248,
          23.5081149593671,
          22.5724764183839,
          19.0160387273312,
          22.3211468851248,
          20.6940526441415,
          22.7631282941182,
          22.7021580751419,
          18.8272398109913,
          17.7597769017696,
          16.6981861348629,
          23.6402445768992,
          23.3258798436006,
          14.1367392674764,
          29.257265293169,
          22.3211468851248,
          21.7615675504684,
          19.3878434097449,
          23.0124160186132,
          22.0141438022931,
          18.9445386842569,
          23.9546006516298,
          23.2596149678707,
          22.7631282941182,
          22.2642926350911,
          23.6982258434772,
          22.8818772113005,
          23.0773804859002,
          20.0128573254426,
          22.7631282941182,
          18.9445386842569,
          19.2592897947311,
          16.942514925766,
          16.8164789513429,
          23.9546006516298,
          22.8258403356552,
          18.7668556010405,
          17.5106453772068,
          23.7562070425034,
          23.3921441272577,
          23.9546006516298,
          30.6927407439232,
          20.5117211357435,
          22.8818772113005,
          16.942514925766,
          22.1404092764536,
          30.3852968171914,
          22.1404092764536,
          15.4427070672989,
          23.3921441272577,
          23.441842517821,
          23.1933420673688,
          23.3258798436006,
          22.9477005914529,
          22.1404092764536,
          14.6999871011257,
          11.9500107681433,
          15.1953631257693,
          22.386297426192,
          23.0773804859002,
          23.9546006516298,
          22.6334935104529,
          24.6298199848016,
          21.8186324770927,
          6.94704150117238,
          23.8224714016596,
          21.7615675504684,
          22.7631282941182,
          20.5679557100614,
          21.9441933111032,
          22.9477005914529,
          23.5743799423853,
          22.1943611518224,
          23.2596149678707,
          22.6334935104529,
          23.7562070425034,
          13.0102425352414,
          23.0773804859002,
          21.4468683914026,
          16.8164789513429,
          22.8258403356552,
          23.3921441272577,
          23.5743799423853,
          18.1957631841977,
          22.8818772113005,
          16.2611854688009,
          22.0702138360024,
          22.7631282941182,
          22.5724764183839,
          22.1943611518224,
          23.1933420673688,
          22.9477005914529,
          17.1317640181065,
          12.2647670920372,
          14.5674585675875,
          23.7562070425034,
          17.5699597096125,
          11.5689902678808,
          18.0787337418079,
          22.0702138360024,
          20.6374167179743,
          23.0124160186132,
          23.6982258434772,
          21.7615675504684,
          15.8855400101026,
          22.386297426192,
          20.8847064431191,
          23.1933420673688,
          20.3189699923674,
          22.1943611518224,
          16.1963082845688,
          23.6402445768992,
          14.1367392674764,
          21.5078179752509,
          23.5081149593671,
          23.0124160186132,
          22.7631282941182,
          19.8218485251745,
          22.1404092764536,
          22.9477005914529,
          22.9477005914529,
          23.5743799423853,
          15.4427070672989,
          23.9546006516298,
          22.5129782016754,
          24.6959181840897,
          22.449368192323,
          22.7021580751419,
          21.3867463087718,
          22.9477005914529,
          23.5743799423853,
          18.4452998772939,
          22.8818772113005,
          19.4466368273576,
          23.1933420673688,
          22.6334935104529,
          22.7021580751419,
          17.5699597096125,
          21.5704525684992,
          23.0773804859002,
          14.3189666008631,
          22.386297426192,
          13.5072262859027,
          22.5724764183839,
          22.3211468851248,
          5.44780729171435,
          17.7597769017696,
          22.7631282941182,
          24.5746387517134,
          23.6982258434772,
          22.9477005914529,
          23.0124160186132,
          22.5724764183839,
          22.7631282941182,
          22.1943611518224,
          23.0124160186132,
          22.8258403356552,
          22.9477005914529,
          23.441842517821,
          22.1943611518224,
          13.1924702342033,
          23.7562070425034,
          21.8186324770927,
          19.0755901769479,
          17.2566976443609,
          20.26129898386,
          11.5689902678808,
          22.6334935104529,
          14.5094772771676,
          22.2642926350911,
          22.9477005914529,
          22.5724764183839,
          23.0124160186132,
          22.1943611518224,
          14.4514954344114,
          16.5056300278187,
          22.386297426192,
          23.5743799423853,
          18.9445386842569,
          20.26129898386,
          23.1353605862141,
          23.6402445768992,
          23.2596149678707,
          20.1349507764657,
          22.9477005914529,
          21.5078179752509,
          22.6334935104529,
          13.9545116936843,
          23.0773804859002,
          22.2642926350911,
          22.7631282941182,
          23.6982258434772,
          18.6351309752146,
          22.449368192323,
          21.6402136838118,
          20.8847064431191,
          22.5129782016754,
          22.449368192323,
          22.2642926350911,
          14.4514954344114,
          23.7562070425034,
          22.9477005914529,
          23.7562070425034,
          22.7021580751419,
          22.386297426192,
          23.0773804859002,
          19.6362096762339,
          23.6982258434772,
          23.441842517821,
          23.1353605862141,
          21.0667821184476,
          15.4427070672989,
          23.7562070425034,
          13.6397552505811,
          23.3258798436006,
          21.6402136838118,
          22.1404092764536,
          22.8258403356552,
          14.3189666008631,
          19.0755901769479,
          23.8883360441208,
          19.6945794021765,
          22.5724764183839,
          22.0141438022931,
          22.5724764183839,
          22.8258403356552,
          23.1933420673688,
          22.8818772113005,
          20.5679557100614,
          22.6334935104529,
          23.0124160186132,
          22.8258403356552,
          16.0083362594922,
          24.004298976628,
          16.4488718266964,
          17.6976700102965,
          20.1992778436025,
          23.3258798436006,
          23.2596149678707,
          13.6397552505811,
          23.441842517821,
          22.449368192323,
          18.3868218417645,
          24.826797210741,
          23.3258798436006,
          14.2030035769622,
          23.0773804859002,
          23.1353605862141,
          22.8818772113005,
          11.8174816763083,
          14.7662517106215,
          21.2610000010014,
          19.5042967434406,
          23.3258798436006,
          23.0124160186132,
          13.4409619009177,
          22.5724764183839,
          22.8258403356552,
          23.1353605862141,
          22.8818772113005,
          22.5129782016754,
          23.8883360441208,
          22.7631282941182,
          21.2000925755183,
          16.7534518853505,
          14.3189666008631,
          17.8265319184144,
          22.2642926350911,
          23.8883360441208,
          22.8258403356552,
          23.8224714016596,
          22.8818772113005,
          23.8883360441208,
          23.5081149593671,
          22.1404092764536,
          23.1353605862141,
          22.7021580751419,
          23.5743799423853,
          17.8844870523294,
          14.7662517106215,
          22.3211468851248,
          22.7631282941182,
          25.0090328848044,
          23.441842517821,
          16.1312475518068,
          22.0702138360024,
          20.5117211357435,
          20.5679557100614,
          23.0124160186132,
          24.0731349364599,
          21.3198276932716,
          21.8186324770927,
          23.1933420673688,
          22.8818772113005,
          23.6402445768992,
          23.3921441272577,
          24.9427681759675,
          22.7021580751419,
          24.8847866431554,
          23.6982258434772,
          23.9546006516298,
          15.1299568112373,
          22.0702138360024,
          23.2596149678707,
          24.6959181840897,
          23.5743799423853,
          23.3921441272577,
          22.2642926350911,
          23.7562070425034,
          14.4514954344114,
          23.6402445768992,
          22.8818772113005,
          23.441842517821,
          22.449368192323,
          22.7021580751419,
          31.383935633866,
          23.6402445768992,
          23.0124160186132,
          22.7631282941182,
          23.9546006516298,
          23.0124160186132,
          20.4487852688313,
          10.6909855182648,
          23.3258798436006,
          17.3185208932241,
          21.2610000010014,
          15.0720749433517,
          24.6959181840897,
          22.5129782016754,
          24.826797210741,
          22.6334935104529,
          27.2601129666646,
          23.1933420673688,
          11.0720066841125,
          22.1404092764536,
          16.3832811510245,
          22.8818772113005,
          27.6408801273187,
          24.826797210741,
          22.3211468851248,
          23.6402445768992,
          23.0124160186132,
          21.4468683914026,
          16.3832811510245,
          15.6394065773169,
          23.441842517821,
          22.8258403356552,
          8.32202981071472,
          23.5743799423853,
          21.2000925755183,
          14.4514954344114,
          23.9546006516298,
          22.1943611518224,
          25.0752975439707,
          25.0090328848044,
          22.2642926350911,
          14.5674585675875,
          23.7562070425034,
          24.8847866431554,
          19.0755901769479,
          14.1367392674764,
          23.0124160186132,
          23.1353605862141,
          23.1933420673688,
          23.1353605862141,
          24.6298199848016,
          23.7562070425034,
          23.3921441272577,
          22.5724764183839,
          25.0090328848044,
          22.7631282941182,
          12.8777137175878,
          22.5724764183839,
          23.5743799423853,
          25.5052165762266,
          22.8258403356552,
          24.0731349364599,
          23.3921441272577,
          28.1373638665358,
          23.6402445768992,
          23.1933420673688
         ],
         "yaxis": "y"
        }
       ],
       "layout": {
        "legend": {
         "tracegroupgap": 0
        },
        "margin": {
         "t": 60
        },
        "template": {
         "data": {
          "bar": [
           {
            "error_x": {
             "color": "#2a3f5f"
            },
            "error_y": {
             "color": "#2a3f5f"
            },
            "marker": {
             "line": {
              "color": "#E5ECF6",
              "width": 0.5
             }
            },
            "type": "bar"
           }
          ],
          "barpolar": [
           {
            "marker": {
             "line": {
              "color": "#E5ECF6",
              "width": 0.5
             }
            },
            "type": "barpolar"
           }
          ],
          "carpet": [
           {
            "aaxis": {
             "endlinecolor": "#2a3f5f",
             "gridcolor": "white",
             "linecolor": "white",
             "minorgridcolor": "white",
             "startlinecolor": "#2a3f5f"
            },
            "baxis": {
             "endlinecolor": "#2a3f5f",
             "gridcolor": "white",
             "linecolor": "white",
             "minorgridcolor": "white",
             "startlinecolor": "#2a3f5f"
            },
            "type": "carpet"
           }
          ],
          "choropleth": [
           {
            "colorbar": {
             "outlinewidth": 0,
             "ticks": ""
            },
            "type": "choropleth"
           }
          ],
          "contour": [
           {
            "colorbar": {
             "outlinewidth": 0,
             "ticks": ""
            },
            "colorscale": [
             [
              0,
              "#0d0887"
             ],
             [
              0.1111111111111111,
              "#46039f"
             ],
             [
              0.2222222222222222,
              "#7201a8"
             ],
             [
              0.3333333333333333,
              "#9c179e"
             ],
             [
              0.4444444444444444,
              "#bd3786"
             ],
             [
              0.5555555555555556,
              "#d8576b"
             ],
             [
              0.6666666666666666,
              "#ed7953"
             ],
             [
              0.7777777777777778,
              "#fb9f3a"
             ],
             [
              0.8888888888888888,
              "#fdca26"
             ],
             [
              1,
              "#f0f921"
             ]
            ],
            "type": "contour"
           }
          ],
          "contourcarpet": [
           {
            "colorbar": {
             "outlinewidth": 0,
             "ticks": ""
            },
            "type": "contourcarpet"
           }
          ],
          "heatmap": [
           {
            "colorbar": {
             "outlinewidth": 0,
             "ticks": ""
            },
            "colorscale": [
             [
              0,
              "#0d0887"
             ],
             [
              0.1111111111111111,
              "#46039f"
             ],
             [
              0.2222222222222222,
              "#7201a8"
             ],
             [
              0.3333333333333333,
              "#9c179e"
             ],
             [
              0.4444444444444444,
              "#bd3786"
             ],
             [
              0.5555555555555556,
              "#d8576b"
             ],
             [
              0.6666666666666666,
              "#ed7953"
             ],
             [
              0.7777777777777778,
              "#fb9f3a"
             ],
             [
              0.8888888888888888,
              "#fdca26"
             ],
             [
              1,
              "#f0f921"
             ]
            ],
            "type": "heatmap"
           }
          ],
          "heatmapgl": [
           {
            "colorbar": {
             "outlinewidth": 0,
             "ticks": ""
            },
            "colorscale": [
             [
              0,
              "#0d0887"
             ],
             [
              0.1111111111111111,
              "#46039f"
             ],
             [
              0.2222222222222222,
              "#7201a8"
             ],
             [
              0.3333333333333333,
              "#9c179e"
             ],
             [
              0.4444444444444444,
              "#bd3786"
             ],
             [
              0.5555555555555556,
              "#d8576b"
             ],
             [
              0.6666666666666666,
              "#ed7953"
             ],
             [
              0.7777777777777778,
              "#fb9f3a"
             ],
             [
              0.8888888888888888,
              "#fdca26"
             ],
             [
              1,
              "#f0f921"
             ]
            ],
            "type": "heatmapgl"
           }
          ],
          "histogram": [
           {
            "marker": {
             "colorbar": {
              "outlinewidth": 0,
              "ticks": ""
             }
            },
            "type": "histogram"
           }
          ],
          "histogram2d": [
           {
            "colorbar": {
             "outlinewidth": 0,
             "ticks": ""
            },
            "colorscale": [
             [
              0,
              "#0d0887"
             ],
             [
              0.1111111111111111,
              "#46039f"
             ],
             [
              0.2222222222222222,
              "#7201a8"
             ],
             [
              0.3333333333333333,
              "#9c179e"
             ],
             [
              0.4444444444444444,
              "#bd3786"
             ],
             [
              0.5555555555555556,
              "#d8576b"
             ],
             [
              0.6666666666666666,
              "#ed7953"
             ],
             [
              0.7777777777777778,
              "#fb9f3a"
             ],
             [
              0.8888888888888888,
              "#fdca26"
             ],
             [
              1,
              "#f0f921"
             ]
            ],
            "type": "histogram2d"
           }
          ],
          "histogram2dcontour": [
           {
            "colorbar": {
             "outlinewidth": 0,
             "ticks": ""
            },
            "colorscale": [
             [
              0,
              "#0d0887"
             ],
             [
              0.1111111111111111,
              "#46039f"
             ],
             [
              0.2222222222222222,
              "#7201a8"
             ],
             [
              0.3333333333333333,
              "#9c179e"
             ],
             [
              0.4444444444444444,
              "#bd3786"
             ],
             [
              0.5555555555555556,
              "#d8576b"
             ],
             [
              0.6666666666666666,
              "#ed7953"
             ],
             [
              0.7777777777777778,
              "#fb9f3a"
             ],
             [
              0.8888888888888888,
              "#fdca26"
             ],
             [
              1,
              "#f0f921"
             ]
            ],
            "type": "histogram2dcontour"
           }
          ],
          "mesh3d": [
           {
            "colorbar": {
             "outlinewidth": 0,
             "ticks": ""
            },
            "type": "mesh3d"
           }
          ],
          "parcoords": [
           {
            "line": {
             "colorbar": {
              "outlinewidth": 0,
              "ticks": ""
             }
            },
            "type": "parcoords"
           }
          ],
          "pie": [
           {
            "automargin": true,
            "type": "pie"
           }
          ],
          "scatter": [
           {
            "marker": {
             "colorbar": {
              "outlinewidth": 0,
              "ticks": ""
             }
            },
            "type": "scatter"
           }
          ],
          "scatter3d": [
           {
            "line": {
             "colorbar": {
              "outlinewidth": 0,
              "ticks": ""
             }
            },
            "marker": {
             "colorbar": {
              "outlinewidth": 0,
              "ticks": ""
             }
            },
            "type": "scatter3d"
           }
          ],
          "scattercarpet": [
           {
            "marker": {
             "colorbar": {
              "outlinewidth": 0,
              "ticks": ""
             }
            },
            "type": "scattercarpet"
           }
          ],
          "scattergeo": [
           {
            "marker": {
             "colorbar": {
              "outlinewidth": 0,
              "ticks": ""
             }
            },
            "type": "scattergeo"
           }
          ],
          "scattergl": [
           {
            "marker": {
             "colorbar": {
              "outlinewidth": 0,
              "ticks": ""
             }
            },
            "type": "scattergl"
           }
          ],
          "scattermapbox": [
           {
            "marker": {
             "colorbar": {
              "outlinewidth": 0,
              "ticks": ""
             }
            },
            "type": "scattermapbox"
           }
          ],
          "scatterpolar": [
           {
            "marker": {
             "colorbar": {
              "outlinewidth": 0,
              "ticks": ""
             }
            },
            "type": "scatterpolar"
           }
          ],
          "scatterpolargl": [
           {
            "marker": {
             "colorbar": {
              "outlinewidth": 0,
              "ticks": ""
             }
            },
            "type": "scatterpolargl"
           }
          ],
          "scatterternary": [
           {
            "marker": {
             "colorbar": {
              "outlinewidth": 0,
              "ticks": ""
             }
            },
            "type": "scatterternary"
           }
          ],
          "surface": [
           {
            "colorbar": {
             "outlinewidth": 0,
             "ticks": ""
            },
            "colorscale": [
             [
              0,
              "#0d0887"
             ],
             [
              0.1111111111111111,
              "#46039f"
             ],
             [
              0.2222222222222222,
              "#7201a8"
             ],
             [
              0.3333333333333333,
              "#9c179e"
             ],
             [
              0.4444444444444444,
              "#bd3786"
             ],
             [
              0.5555555555555556,
              "#d8576b"
             ],
             [
              0.6666666666666666,
              "#ed7953"
             ],
             [
              0.7777777777777778,
              "#fb9f3a"
             ],
             [
              0.8888888888888888,
              "#fdca26"
             ],
             [
              1,
              "#f0f921"
             ]
            ],
            "type": "surface"
           }
          ],
          "table": [
           {
            "cells": {
             "fill": {
              "color": "#EBF0F8"
             },
             "line": {
              "color": "white"
             }
            },
            "header": {
             "fill": {
              "color": "#C8D4E3"
             },
             "line": {
              "color": "white"
             }
            },
            "type": "table"
           }
          ]
         },
         "layout": {
          "annotationdefaults": {
           "arrowcolor": "#2a3f5f",
           "arrowhead": 0,
           "arrowwidth": 1
          },
          "autotypenumbers": "strict",
          "coloraxis": {
           "colorbar": {
            "outlinewidth": 0,
            "ticks": ""
           }
          },
          "colorscale": {
           "diverging": [
            [
             0,
             "#8e0152"
            ],
            [
             0.1,
             "#c51b7d"
            ],
            [
             0.2,
             "#de77ae"
            ],
            [
             0.3,
             "#f1b6da"
            ],
            [
             0.4,
             "#fde0ef"
            ],
            [
             0.5,
             "#f7f7f7"
            ],
            [
             0.6,
             "#e6f5d0"
            ],
            [
             0.7,
             "#b8e186"
            ],
            [
             0.8,
             "#7fbc41"
            ],
            [
             0.9,
             "#4d9221"
            ],
            [
             1,
             "#276419"
            ]
           ],
           "sequential": [
            [
             0,
             "#0d0887"
            ],
            [
             0.1111111111111111,
             "#46039f"
            ],
            [
             0.2222222222222222,
             "#7201a8"
            ],
            [
             0.3333333333333333,
             "#9c179e"
            ],
            [
             0.4444444444444444,
             "#bd3786"
            ],
            [
             0.5555555555555556,
             "#d8576b"
            ],
            [
             0.6666666666666666,
             "#ed7953"
            ],
            [
             0.7777777777777778,
             "#fb9f3a"
            ],
            [
             0.8888888888888888,
             "#fdca26"
            ],
            [
             1,
             "#f0f921"
            ]
           ],
           "sequentialminus": [
            [
             0,
             "#0d0887"
            ],
            [
             0.1111111111111111,
             "#46039f"
            ],
            [
             0.2222222222222222,
             "#7201a8"
            ],
            [
             0.3333333333333333,
             "#9c179e"
            ],
            [
             0.4444444444444444,
             "#bd3786"
            ],
            [
             0.5555555555555556,
             "#d8576b"
            ],
            [
             0.6666666666666666,
             "#ed7953"
            ],
            [
             0.7777777777777778,
             "#fb9f3a"
            ],
            [
             0.8888888888888888,
             "#fdca26"
            ],
            [
             1,
             "#f0f921"
            ]
           ]
          },
          "colorway": [
           "#636efa",
           "#EF553B",
           "#00cc96",
           "#ab63fa",
           "#FFA15A",
           "#19d3f3",
           "#FF6692",
           "#B6E880",
           "#FF97FF",
           "#FECB52"
          ],
          "font": {
           "color": "#2a3f5f"
          },
          "geo": {
           "bgcolor": "white",
           "lakecolor": "white",
           "landcolor": "#E5ECF6",
           "showlakes": true,
           "showland": true,
           "subunitcolor": "white"
          },
          "hoverlabel": {
           "align": "left"
          },
          "hovermode": "closest",
          "mapbox": {
           "style": "light"
          },
          "paper_bgcolor": "white",
          "plot_bgcolor": "#E5ECF6",
          "polar": {
           "angularaxis": {
            "gridcolor": "white",
            "linecolor": "white",
            "ticks": ""
           },
           "bgcolor": "#E5ECF6",
           "radialaxis": {
            "gridcolor": "white",
            "linecolor": "white",
            "ticks": ""
           }
          },
          "scene": {
           "xaxis": {
            "backgroundcolor": "#E5ECF6",
            "gridcolor": "white",
            "gridwidth": 2,
            "linecolor": "white",
            "showbackground": true,
            "ticks": "",
            "zerolinecolor": "white"
           },
           "yaxis": {
            "backgroundcolor": "#E5ECF6",
            "gridcolor": "white",
            "gridwidth": 2,
            "linecolor": "white",
            "showbackground": true,
            "ticks": "",
            "zerolinecolor": "white"
           },
           "zaxis": {
            "backgroundcolor": "#E5ECF6",
            "gridcolor": "white",
            "gridwidth": 2,
            "linecolor": "white",
            "showbackground": true,
            "ticks": "",
            "zerolinecolor": "white"
           }
          },
          "shapedefaults": {
           "line": {
            "color": "#2a3f5f"
           }
          },
          "ternary": {
           "aaxis": {
            "gridcolor": "white",
            "linecolor": "white",
            "ticks": ""
           },
           "baxis": {
            "gridcolor": "white",
            "linecolor": "white",
            "ticks": ""
           },
           "bgcolor": "#E5ECF6",
           "caxis": {
            "gridcolor": "white",
            "linecolor": "white",
            "ticks": ""
           }
          },
          "title": {
           "x": 0.05
          },
          "xaxis": {
           "automargin": true,
           "gridcolor": "white",
           "linecolor": "white",
           "ticks": "",
           "title": {
            "standoff": 15
           },
           "zerolinecolor": "white",
           "zerolinewidth": 2
          },
          "yaxis": {
           "automargin": true,
           "gridcolor": "white",
           "linecolor": "white",
           "ticks": "",
           "title": {
            "standoff": 15
           },
           "zerolinecolor": "white",
           "zerolinewidth": 2
          }
         }
        },
        "xaxis": {
         "anchor": "y",
         "domain": [
          0,
          1
         ],
         "title": {
          "text": "Mass"
         }
        },
        "yaxis": {
         "anchor": "x",
         "domain": [
          0,
          1
         ],
         "title": {
          "text": "RT"
         }
        }
       }
      },
      "text/html": [
       "<div>                            <div id=\"acfc75f1-7ecb-4831-b577-e9254ee60123\" class=\"plotly-graph-div\" style=\"height:525px; width:100%;\"></div>            <script type=\"text/javascript\">                require([\"plotly\"], function(Plotly) {                    window.PLOTLYENV=window.PLOTLYENV || {};                                    if (document.getElementById(\"acfc75f1-7ecb-4831-b577-e9254ee60123\")) {                    Plotly.newPlot(                        \"acfc75f1-7ecb-4831-b577-e9254ee60123\",                        [{\"hovertemplate\": \"Mass=%{x}<br>RT=%{y}<extra></extra>\", \"legendgroup\": \"\", \"marker\": {\"color\": \"#636efa\", \"symbol\": \"circle\"}, \"mode\": \"markers\", \"name\": \"\", \"showlegend\": false, \"type\": \"scattergl\", \"x\": [4242.477962707, 24203.2441160552, 24189.2335295096, 24303.2287018805, 24217.2722922851, 5222.60351265877, 24246.2258232164, 5421.7989969733, 4571.5336862149, 5567.65154957374, 1510.94102984884, 24260.1859092897, 4916.58651238278, 5115.77363445905, 5727.82557622902, 24317.2107171479, 6720.98473865703, 5912.69745765164, 24274.2099329062, 6527.78325718211, 1531.78380940027, 24359.1949442409, 24231.253775027, 6220.74431608048, 6415.93899366745, 8182.01703812708, 6706.96322020598, 3938.65307812382, 6070.89355835768, 24287.2129413663, 6056.87422528173, 8793.07888505076, 7547.93449871077, 6401.92123133645, 8488.0502594574, 1587.95010677179, 5236.67758816738, 9138.14874190032, 10744.3489280577, 24329.2062693692, 4055.69648712505, 6857.85255274996, 4810.72945096193, 10438.3098685293, 7876.98579498371, 5581.72157374652, 7706.11370014647, 9788.22377495241, 24174.2403000097, 8715.2671040872, 7202.90328808054, 5204.63075238159, 7361.07132121678, 5221.70762872453, 3821.61004506974, 11661.4891422905, 5518.75664946969, 5549.68481429957, 4256.49357701502, 5847.81111280899, 4874.66655487297, 24344.2209057052, 8396.21162566792, 5180.69060471517, 6520.88052709879, 9483.19989276333, 9034.30719843659, 11050.4090722899, 6856.84004346864, 5502.74977101624, 5871.81810473473, 5870.78835801608, 10133.2824750163, 4569.61866131848, 11356.4280240284, 5526.74357149474, 5213.71956446526, 5863.80320998587, 4585.56553702614, 12573.807346699, 6673.94540751082, 5478.7351493282, 5374.76004078131, 5564.7441924506, 6825.89416285455, 12295.5994978442, 4868.6643228352, 7768.04917383786, 6826.93650676415, 7678.07844078487, 4805.63389551128, 8368.16673001581, 3805.61430418942, 9006.26025061867, 5541.7648105402, 5894.73339603744, 8687.21695663337, 6175.81915726646, 5785.77114901932, 5839.79204008722, 4845.64891473929, 4931.68940822972, 4899.67073809803, 4852.66339982053, 4867.67301367276, 4508.601632664, 5110.67501438519, 5831.78420473764, 4539.61768201193, 7171.97251510033, 5197.71023088718, 7436.97366219106, 7333.03724995605, 5926.7543992647, 1727.92850196394, 7438.01005492543, 5085.67832786234, 6979.97263370751, 6528.81230623278, 7131.94820382209, 5793.77879240968, 7752.04367601136, 5534.75279590422, 6137.8441485653, 4930.61011471426, 5150.6910799006, 13555.752023826, 4829.64488835906, 4898.5778279638, 6153.84414852927, 5680.78673675352, 12600.6462487555, 8023.12654749202, 1545.95834593376, 6505.90195232539, 5525.7450651589, 6202.73772073352, 5440.71606536837, 4914.66237611887, 4876.66308498889, 6874.94314610177, 24360.1747745729, 5760.77530912821, 4891.67060984765, 5188.71202402027, 4779.64426300569, 5244.66950328391, 5174.70066960374, 7692.09557591217, 10679.5490158161, 6481.87676992589, 5532.73699605001, 8037.12464165444, 4915.66779488395, 5802.69512451946, 5166.68841419088, 4884.66685274642, 11990.5453295548, 8794.09756823857, 5485.7278620608, 6811.94507214096, 24302.2484746077, 5769.77299610095, 6818.92416650444, 6105.8284940062, 5172.69701118031, 4547.62774281414, 5429.73019671741, 5832.80202919849, 5539.73328222782, 3688.57077732898, 5808.78947675892, 5234.69558170507, 5464.72755157359, 7091.94312499992, 6482.8840304631, 5799.78636286977, 5157.70481217489, 5487.73975844033, 5260.73042216455, 7775.05302533044, 8128.09313461157, 6509.79547478516, 5589.73243769244, 5142.69341218018, 5125.68611607868, 4907.68064124595, 5220.69481432396, 5886.81889266626, 24418.1649157564, 6552.89546402193, 13250.7090592684, 5291.72992368477, 5455.72465600811, 9339.3653137977, 10029.4478654854, 8165.01993537395, 9684.41304020701, 8746.17363008036, 5909.7963585089, 8489.05839510282, 24341.1844398268, 6247.85433625639, 5523.94965980482, 9656.34709888222, 7792.06597524361, 1666.75341145276, 5252.71733505675, 5069.71728504107, 8701.24421306155, 8382.18289114889, 8377.11819710815, 5775.7804900012, 5173.70073109291, 1651.90507092572, 9020.3009395652, 7423.00822534791, 9139.14077591181, 6214.83959585002, 6176.85322423835, 1613.96023976653, 5119.67628273152, 14205.850047853, 11634.6711132757, 5854.7963399206, 4295.56564320071, 8152.11614158558, 5557.76740158559, 7808.07115514121, 5510.75632178909, 8088.0973640245, 5229.70962911849, 5735.78099613285, 8073.09746307907, 6145.82534691583, 3936.45352856628, 6184.85233118946, 7347.04890109688, 5817.78831347006, 6451.87055549471, 6090.81440135727, 7462.01682853942, 8362.11587376326, 6023.85433282848, 8587.16693938491, 4553.52356949454, 6458.8792394281, 4789.63024711134, 5182.70230926342, 5268.72526263853, 14549.8877682934, 9396.25856907234, 10001.3814271542, 12878.8646634261, 6772.91479663434, 5574.76397084558, 4814.6343317573, 7742.01917431901, 4813.64073265353, 8282.11193878192, 1561.84688603848, 3936.45260690034, 5542.77596066072, 13900.7944574756, 5149.69889481645, 7117.95139197894, 8072.0697533008, 1615.96097476078, 5879.8122513016, 6190.83355844234, 12244.7778362216, 5566.77027591047, 7139.96833933196, 5258.70908190331, 8047.07053866492, 7822.04542755174, 4938.63597985361, 6833.92529527463, 4484.59713305132, 9099.22510485557, 1626.76141582568, 7076.94867216073, 7761.98752225711, 6466.88444893239, 5783.76828664192, 1732.72549323722, 7783.06468075003, 5189.70981046171, 8397.0491569744, 5855.80630357024, 6396.84846165083, 7559.95804133553, 6456.85431616201, 24568.4054211367, 6419.85786642731, 10651.4942015714, 7044.94954476697, 7543.93996415354, 6177.85448053443, 6568.90656106123, 4565.61361003845, 6472.88092210764, 7395.97411629588, 4860.66264304906, 10288.3693362048, 7404.99917400573, 7528.94278662168, 5196.71484629141, 7186.92538723843, 8528.14457915717, 5454.7334861937, 9311.29555676967, 4584.61326169338, 5591.74485394624, 4947.69027039316, 5550.7684324254, 4929.65939960926, 5194.68593074843, 5807.78886702509, 7491.98861629855, 11939.6981189063, 5511.74676572425, 8682.15190553517, 8048.07552448887, 4923.67239411423, 4820.64557486458, 8057.08711997435, 6739.90405149209, 10053.3374835431, 7085.96541778749, 7446.00411773973, 6166.82904491878, 5448.7298991927, 6099.81384087174, 6192.86713639567, 5573.76930375405, 4524.60780985233, 7477.02045591975, 5470.72935510666, 9982.34936789943, 6199.8560456788, 4837.65096189737, 5415.71510350613, 8738.17555376106, 7976.08848635936, 5621.78589279786, 6410.86708540351, 7108.96022882162, 6489.88500796769, 11289.6208059939, 9741.29400691387, 4885.66016901488, 6490.89136879108, 12945.6704477696, 6094.79970578761, 9028.20836014083, 4538.62240476345, 12545.7579325298, 4648.78747427121, 13884.8550367117, 6576.89630303768, 12559.8032776201, 7517.0272166894, 4963.6894959321, 9443.24801034081, 8135.09157100088, 5527.75637763395, 5159.68188885534, 7493.01026429754, 24361.2220948057, 11643.464385517, 5878.80866838384, 5292.73348313611, 8441.14212900128, 5430.72857662157, 9091.22899718295, 7486.0281035468, 5598.7745599972, 9347.25383700644, 5942.80416837849, 5493.74839630464, 7285.99877024299, 7729.03853690075, 6530.80293061068, 5845.78743974816, 5416.70724561128, 6130.82965527479, 8097.0861398044, 4843.66332764034, 6440.84580242836, 24315.2240179701, 9358.26261298582, 7132.98527398183, 5390.71135393164, 5134.68528427001, 11606.588831363, 6843.91163889612, 6858.92537148923, 6748.91924302144, 6512.84816814605, 7831.07645734076, 5203.70791084174, 8087.09914398849, 5227.71077500765, 3631.4126891383, 6114.82200664152, 10306.4248035643, 7523.01224915393, 9001.21509998302, 6442.86364409899, 5596.75321047277, 5471.72873685039, 13461.8964097877, 9771.27018655943, 6496.88679828817, 9050.2172690466, 6065.81849561506, 4939.68255163069, 6913.90006150521, 7720.04882671161, 6865.90872185579, 6786.91303475143, 2624.20034435981, 7059.95183575378, 4515.60349692211, 5243.70530552175, 10757.3970799225, 11261.5608545912, 10421.3296278972, 5277.71390297257, 6232.76653548815, 8056.08174120727, 4602.64569079501, 24349.1773786723, 8104.0942153599, 5158.70003132464, 7140.97639053996, 5253.71912655192, 7509.02046424927, 7799.04852704105, 10376.3706656689, 5494.75243312561, 4500.59420969404, 13184.8945144639, 6880.91992505989, 4563.63017682063, 9638.26602010759, 6514.87352958991, 4586.63789333527, 6756.91955484991, 8906.22719762977, 7525.04029670103, 4821.63321385023, 6040.81550757911, 4892.67471642874, 7501.02569293947, 6122.82743788465, 8690.16577973277, 7421.99426319879, 8440.13845293206, 4835.64664043993, 9273.24973155327, 9061.2340786792, 5844.76819287394, 6215.84382142049, 6208.83886588334, 8120.10260006808, 6782.8119628623, 8479.13745931899, 7184.8874610537, 4579.62624299494, 9747.29745177984, 5154.66672683033, 7743.02934490684, 4570.61879566549, 7427.99921506927, 24400.1673608315, 7823.0698866271, 5745.77061195961, 6763.91338907824, 13767.9130559715, 8026.06814939327, 8417.13971543921, 5208.63287020048, 8114.10345735648, 7485.01488981318, 5460.71337884188, 9043.20927297832, 4849.6439900572, 8392.12141885164, 4920.64426298953, 8973.19974500949, 8143.10489267033, 7814.05155289066, 7878.01690138836, 6540.80423198187, 8501.0771531714, 9075.21966755316, 6434.8684019403, 5508.73786565087, 5919.8120285157, 8723.16409402519, 5447.75061252413, 9105.23084244658, 8786.18185096669, 7429.00275732704, 4946.69956153494, 11980.5968504626, 5580.73943126972, 15520.0629739331, 4844.65734648381, 4853.65517249353, 7214.90939396164, 5246.70409404537, 6224.85530948386, 7516.01343390067, 9693.29540402375, 9083.23061027556, 7149.9685377682, 9336.25235071141, 5284.73845643532, 8834.1949711411, 4531.74555178785, 6724.89084342034, 4877.65637751765, 7179.97130134625, 6808.91536816688, 1578.21649420591, 5217.68908319758, 6541.80939506584, 7697.02667546854, 10046.3255116555, 6730.90645901503, 5472.73192767628, 9325.32267551524, 5190.7006229805, 9068.22338099575, 9435.26954757858, 11275.5734502095, 5720.7644363236, 6338.78713595439, 9436.28537286812, 5445.7199390237, 4828.65429671381, 8340.09260267003, 6792.91423331381, 5910.82337887917, 13578.8726104894, 8402.1351874995, 10085.3458221962, 7710.0274601926, 7875.99678149715, 7219.98226901513, 24336.1971241901, 11957.5907412256, 8331.11640714828, 7382.99090384135, 11442.4196785379, 7471.01771122065, 7012.89911672026, 6476.82018378395, 5286.70393748487, 6089.81740070076, 8725.17128105671, 7508.02000102361, 9801.26850984208, 5276.73707593181, 5533.75975552492, 6838.85948395459, 8754.18865525277, 6023.84917270368, 10007.335776171, 5605.78557318961, 4523.61026778241, 5499.71479191971, 4883.66963499742, 13475.8611181742, 14895.973479262, 7478.02844175901, 8809.16765259681, 9259.25169573161, 8363.129668088, 6119.81869823388, 6546.89725809839, 12850.8058489176, 5226.68504288709, 6263.87272272323, 10749.363965551, 5853.7932010007, 9390.26542845109, 4236.47676500154, 8732.18111477058, 7472.01046682747, 24352.2077320996, 12587.7855283328, 5135.68031985554, 8033.08056260342, 2025.85016807232, 5861.80694288439, 7744.04952138314, 7839.05260020111, 6714.91032461641, 4846.63530472394, 3102.46769499857, 7166.96963438087, 5822.78873201701, 6151.80717475531, 13489.9276708566, 9303.23480225283, 5124.69005948143, 5904.80464381329, 7054.94974131906, 10594.3919546547, 8393.12400929611, 6866.95368212553, 8536.18158343514, 7405.99363928241, 11032.3937057374, 10994.4737691938, 7211.98511264212, 7798.03212689802, 9046.13504541591, 8099.10379551405, 9968.34118039012, 5918.81263545827, 13170.8208953368, 4859.65958312421, 8002.06641673225, 5556.75173007064, 5830.77836925654, 6849.93756157906, 10305.3914623435, 7534.00163944805, 7872.97469151612, 13781.8868893685, 7354.9764343124, 3990.52695651799, 5492.74189926886, 5823.79984379152, 2635.28958975437, 8011.06958754381, 4842.67200393573, 5958.82566249549, 1684.82524748686, 7700.0164869633, 4872.64910416228, 6732.90569419522, 10450.3806337627, 5140.68427840383, 4594.63956944388, 24295.2287509958, 5989.8391731967, 1563.9288630053, 14188.8843644816, 5862.81470704524, 5750.76392615107, 10979.4722050823, 15201.0257333709, 6131.72762165957, 4978.69623618165, 5439.71981151994, 8472.09885193448, 6801.92083421287, 4910.66811938681, 7036.92700124728, 5553.65287069624, 15185.0520090648, 4882.66652694002, 13795.9483942998, 7183.94371916852, 7031.90993459618, 4858.6597666102, 9651.29350483857, 10040.3253702204, 11964.6022475059, 7889.00173915653, 2980.33672398377, 4983.68999365839, 6779.90996756471, 5141.68250280996, 6600.913354241, 8681.16559693089, 9726.30033849397, 9039.21561815833, 1551.777834727, 5815.77960033912, 6409.85653327502, 7375.00149680375, 14072.9553710697, 8989.19984404448, 5512.74212724157, 6794.92501391744, 5118.67945796189, 5614.77158143949, 7504.02579480343, 5613.76679890823, 24238.1992919477, 1555.95585121946, 11917.6083756602, 6744.8932945555, 8018.0640670144, 10698.4161220095, 10328.3877114686, 5338.72791949658, 4765.62979949919, 8199.10568858645, 8659.14777306997, 11283.5003475509, 13883.8686656507, 24583.4200643698, 9417.26387036633, 5806.76526080241, 6796.91983722582, 8668.16282057488, 6074.80080708624, 5522.73517158014, 5934.82008704869, 6608.91878465985, 8017.07544108287, 10665.5066863353, 6182.84296324804, 6842.8912140299, 8403.1315904093, 7456.00099882826, 9679.30376344569, 7861.03089010347, 5070.67074037209, 11299.5332723638, 6080.81838778687, 8379.15224371768, 10071.3436036477, 8967.21291584072, 4861.65510591775, 6752.89388355578, 8824.19449223374, 5500.72974411466, 9130.21456824036, 8777.10895842578, 8785.17993604094, 6270.850644719, 8504.1502557157, 4969.66893551806, 6536.90372571863, 12864.8293185378, 10344.3843057317, 5480.72618287197, 12216.7040703617, 5897.76022252067, 7146.98685935137, 8463.14071899426, 5653.78566212633, 5837.78270714741, 8818.19357394314, 6889.96016735698, 8733.16169419202, 4955.70050392268, 7187.91573557876, 4806.62521177497, 6346.84837000793, 7049.93556119202, 7062.96144768703, 14291.854445187, 4981.65804376697, 8470.0485324831, 5100.68112758879, 7572.02727206406, 7842.06758043465, 10116.2957651422, 9370.2630538319, 13275.7971058926, 12288.6393882101, 7367.99186026899, 5935.82278192108, 13569.8213720071, 6123.82497156206, 9669.31134076333, 5759.77186507331, 7048.93296591058, 7531.98337927772, 7432.9978932326, 7390.99072456268, 5895.82477845286, 4618.64029920068, 6400.85118022149, 11371.5163709832, 7603.88681087897, 7358.96680389974, 6762.89846201072, 7696.03164723756, 7712.01146616869, 4530.61027401369, 5671.76198259991, 7045.94444238886, 6584.70164348207, 5061.67566452584, 9770.26324198012, 12253.6235205817, 6128.83299788627, 5457.71189199481, 5801.78075808607, 11245.4935368418, 7020.9190609833, 2414.3744, 7162.99060742175, 10958.4873131043, 8016.07131971675, 8707.16766150614, 14189.9733050656, 8776.12148004742, 5746.75290657845, 7869.09331474986, 6834.93475120781, 9700.29909486716, 4476.58438204869, 5242.70404673754, 12700.707932644, 12611.6717349474, 5132.68900869407, 11673.540775287, 8850.0027684436, 5340.64974911299, 5685.69073696731, 10027.3321610615, 8450.13998288538, 6209.85255397977, 4797.64811662367, 11875.4984097338, 10077.3602738663, 7228.00965306018, 14530.9385901153, 9331.2446359882, 5251.7206431424, 7107.96247535037, 4922.67166495672, 6921.97320268505, 9151.16732340183, 13595.8451581226, 11021.4773377268, 24582.4486740926, 5250.70726606905, 14101.0004164342, 5770.75223049354, 6890.93996236413, 9757.33608514521, 8192.1105719443, 6586.90773646219, 10643.4207174235, 8467.15700684395, 5205.7071059846, 7456.92204038207, 11001.4547657981, 4468.5994890886, 24390.1809367506, 6501.87943984647, 6231.85424128499, 9014.21580517779, 6896.93558759313, 7487.02871305023, 6239.8799691606, 5323.74502643249, 7365.98951633593, 13579.8097155296, 7068.96067242752, 9716.29909083933, 7858.0009897136, 6575.87640466482, 6498.89694911528, 10656.4181237422, 5406.90268703968, 12686.6296203464, 5425.70953918488, 8347.11981454259, 9458.27989428241, 8034.07435536851, 6025.79883751938, 9012.21089135946, 9122.20921262643, 8040.08466503372, 7050.94403659689, 9430.27678769616, 7879.0633607541, 8770.20465059398, 5094.66264654149, 8439.12191122413, 5902.79355487144, 8348.11163222501, 6134.80876520456, 10429.3765327184, 5798.78645327974, 12063.6260740521, 4900.68317652136, 1628.22600149496, 6280.86370495108, 5155.67973748009, 8039.07141758676, 5628.78856860934, 10688.4116584048, 10633.4188000825, 8408.12563417185, 8109.10834563214, 5805.75375537004, 8308.10210262333, 11293.5193488487, 5164.68982793973, 12956.7161273373, 9364.26537312701, 8238.93241062444, 6488.88554531984, 11973.6067759335, 8358.11257239052, 10617.413434967, 8346.11456865743, 6767.89574964823, 5187.70370144905, 8638.13084231833, 5165.69251375437, 9187.27668360176, 7351.97570058787, 5624.57460529632, 7391.99393406475, 4578.64177519196, 5366.71530106749, 9420.27814202541, 6385.86109054509, 6111.81216189706, 6238.8629337853, 8806.12551603206, 8434.14548220747, 11747.4366835569, 7557.0417316813, 6537.90490550616, 7373.99714328166, 12279.5922213011, 9076.24349161469, 5400.69423422722, 9052.22077523325, 6848.93073024771, 6503.8808098605, 5944.81767303577, 5930.80286105106, 7119.95081839478, 5866.78103449588, 4937.65546091275, 24389.2081511195, 10734.3775532085, 4795.65174152675, 5898.72323088418, 13155.8323183499, 6083.81825974326, 6556.87002990815, 10293.3710914867, 4593.50550323195, 12266.6453389205, 5644.7841867406, 13538.7852323609, 10720.4240559769, 5240.71250460054, 5950.84134456585, 4577.64031141702, 2640.19438883696, 1698.23092156744, 12926.6676523631, 9363.24829602205, 9688.309771458, 5530.72669858804, 5851.78787600474, 11033.3999746567, 4812.63598957666, 16052.3189028113, 5586.7574106239, 7510.03168445449, 11651.5187475217, 24376.1683394146, 8458.14523914474, 6506.87054243759, 6460.86250295672, 5459.72354856646, 6075.79058883964, 9710.30658679032, 8755.18340429419, 6289.86993279934, 7687.01271508535, 8353.12233480099, 6535.90261368088, 1921.70635514537, 4557.51829153259, 8431.11022643827, 5843.79099248315, 5513.74778713811, 12021.6245469627, 8832.18384389953, 8995.20971190877, 19992.830417024, 10664.4257721541, 5267.72485605519, 12380.5767269695, 7300.0035279217, 9029.22390775068, 10580.403288099, 9021.23819460345, 9350.26657833118, 8322.10357551034, 4562.63264173757, 7691.0318896074, 6468.88298181769, 5834.77517247124, 9348.26601186017, 1726.23636483376, 8979.19997201653, 8759.19196831251, 5137.66821960176, 4542.5980742169, 9944.30721099548, 8655.15783491661, 6852.91632443201, 9677.30068428681, 19963.7914661887, 1736.95029512797, 6058.81109509965, 6651.90176190892, 9763.29820655671, 5629.77931206073, 10314.3866462943, 6271.87180227167, 8185.02059765506, 8091.01100087236, 16024.2270564799, 10939.4342366427, 6424.84258565488, 5630.77074652809, 10352.3782495834, 11294.5068494256, 6141.82475547491, 10422.3850089008, 10353.3697633046, 4360.52270585174, 6841.94566571422, 10138.3025462121, 6118.80958068527, 8656.15943070905, 8857.20751227853, 9752.32053828484, 6584.92751619523, 11630.5816573755, 6331.85957706996, 4228.4656766372, 8498.15581959654, 5523.73341549105, 6467.88637881189, 7661.0170965592, 6620.89285036116, 6418.86157399116, 4498.60433548049, 10961.446387811, 7127.94486705046, 7095.96235481578, 8747.16479054514, 13642.765273264, 11652.5200018172, 8369.13564174497, 11043.4823974958, 7758.06174682484, 6906.96089934301, 14219.8459478949, 7532.96727556512, 4265.59307661047, 5965.84115000129, 11079.4469686425, 9496.22271524985, 12229.6901241925, 7549.97021613725, 8649.14199305845, 11588.528208883, 14879.9850411143, 8492.07941144071, 5443.76818781928, 13043.7469336261, 1658.93537918256, 6702.87721368017, 5943.82220449933, 6223.84243561962, 5120.6592260008, 6361.84750341469, 9916.30544938989, 12971.7346308665, 8841.21426846735, 11267.496699055, 8798.14898058748, 11384.521083292, 17514.309832648, 6082.81246046008, 1614.88420247599, 6404.85160093987, 7381.98985851695, 9626.26708483049, 6402.86518268931, 8953.23056646644, 5193.69265091547, 10608.4131530058, 7196.9722667908, 5637.79588904039, 5563.72010416053, 6780.90910183469, 8043.07433040098, 9210.25387579007, 5875.79886520716, 12933.7020733957, 7126.95581523689, 8803.16958839052, 4970.69761624592, 9110.23182646432, 8713.18525780622, 8626.13584480616, 7854.05586482032, 12310.6223939227, 13196.790524886, 6230.83739861017, 10370.3930347518, 7061.95673024641, 9903.32696613338, 5177.67038523262, 3950.46877537315, 12326.6515034004, 9972.33869897708, 8448.14885120842, 15925.1277216945, 9491.25666428372, 10955.4828000596, 12627.695294165, 9161.23183702537, 7499.00664907808, 16196.1588384425, 9238.25706855629, 8176.10447974045, 3325.3837742277, 6287.86116642698, 13031.6995552426, 8422.13587146103, 10623.4255479097, 13969.8514967443, 8067.08599094077, 9544.27836240367, 7873.99621854757, 10721.4480614822, 7309.01023620329, 9391.18252096603, 9602.29334302823, 6135.824896123, 8695.16785226587, 9696.22500181452, 11337.439031435, 9663.29600118442, 9624.28426621555, 6747.91061418482, 9448.27801648733, 4522.61503741494, 7400.99312408387, 14215.8876064692, 8006.06164094317, 2239.57973092112, 10673.3921151345, 7787.04708186068, 4531.62232599261, 10650.4197443325, 15296.030972633, 5308.73687400341, 6813.90871394293, 10084.3515885695, 9779.27274907111, 9475.26618923961, 12146.6244539259, 9297.2379512168, 9369.25311733813, 12907.7320968361, 16165.2039023439, 7019.94429694484, 8780.13151658115, 4461.57739994783, 9171.23586467071, 5901.8062303259, 14666.9816959058, 11418.5220720094, 4836.64045562601, 8386.1325131445, 9507.26806830059, 8062.08737711003, 5102.69124547739, 11948.5880013292, 8765.18512882644, 7154.96462074129, 6915.90881386841, 13867.8519229319, 4902.57623688799, 10014.3546305768, 13915.8489790258, 8064.09400435671, 6592.88634729763, 9579.27431898024, 7851.07621185299, 10086.3503385122, 6504.88390639027, 7682.01753716488, 1642.22202151953, 4756.62977640253, 5405.72913002919, 13003.7290963914, 11746.4380067219, 8481.13629688693, 7197.97528706049, 9013.20606621173, 10259.3716247471, 7258.80475141922, 9694.30684482902, 10028.3363150507, 7728.03808295222, 16687.3400606289, 11979.5823784519, 16141.2345289724, 10766.3990130496, 7053.94777367314, 6716.89414563594, 9112.23142473565, 7135.95884574363, 8990.20649164762, 9830.33106133395, 5098.67044070618, 5423.71873661429, 7454.01624249587, 16874.2468468162, 24641.3831141025, 4580.61635813114, 4202.5709020189, 9154.22194939341, 8552.14923898009, 8158.10724987182, 6616.92092210908, 6684.84414910882, 10707.4318637362, 9818.33166713965, 7113.9510104804, 11260.5200235092, 9195.08315939056, 10092.3610265004, 7529.92958960387, 12341.6568914491, 4827.65469841396, 8058.08814966322, 10447.3929857646, 24554.3641076013, 9958.32539915615, 12278.6209169757, 9957.33024827983, 11062.4634551874, 9316.29148890038, 14431.9866194117, 7581.04564703646, 11636.5678904689, 16659.3282201458, 1658.23220156562, 9342.25715935121, 7686.02398065068, 8230.13382020489, 13264.7309270228, 4135.66408365464, 2276.31156188186, 12036.6030087315, 3704.5646089034, 10279.3694946565, 6411.87081737202, 13225.7802467741, 7441.99392289156, 11621.5758459463, 5283.72505432062, 13986.8616634471, 8231.13456694688, 12619.7021239651, 14445.0045172386, 13233.7143676097, 8457.14681504728, 14971.9852988135, 13212.7876189475, 11603.5647226261, 10972.4737460817, 5696.74056417971, 9734.30473525822, 8628.18331440098, 5882.79655214008, 8274.12982206433, 7549.01099714269, 8367.13190345398, 12315.6317852911, 4822.63569783138, 8627.12323971267, 10924.4501383796, 5452.73602645495, 7985.06090040462, 12558.7199391182, 11230.4986323226, 9467.19577617324, 10658.3948116398, 12764.7492409383, 9055.22011090923, 14564.9574579361, 6140.82238778788, 5458.70425984813, 4610.65884296705, 15215.0411098747, 5424.7182097678, 4460.58535529829, 7090.94414567325, 6942.9247645842, 8544.96025283841, 8053.07943271442, 9211.25670131161, 7410.99256159033, 13060.7235170086, 14538.9649033577, 4911.6612960604, 13315.7725434968, 14283.874089273, 5812.77080877581, 8032.07030699817, 8315.10035595815, 8802.19022075069, 6929.96380767867, 17513.3403113155, 5488.73603584857, 7719.03157873149, 10145.3223499451, 13659.8137577343, 16330.2877189316, 9114.21063935133, 5099.6928154847, 12355.6612591846, 12892.8412461889, 10400.3961581241, 8637.12221763002, 12910.7200750214, 2773.41543342648, 12544.7509230662, 11314.5149921984, 2609.18230478162, 6637.88246758722, 9995.32979354406, 6485.88659379956, 10956.4936416657, 5316.7534392383, 8093.07638520537, 9381.26116251485, 13914.8233319791, 5348.73085075605, 15837.0994967556, 13930.8798773023, 24409.1735139497, 8288.12988755328, 10887.496362993, 7624.9981820248, 9147.22062736562, 10460.3821774392, 4962.68762616392, 6144.84224005262, 8881.21564969773, 8645.12689744265, 13238.7475264722, 6030.75205474839, 6675.8973891664, 6450.87568838121, 12917.7532992344, 5278.52169557268, 5404.73969695356, 14863.9953705935, 11064.4679155585, 11344.4552794371, 14234.8801986804, 4626.6596298383, 12304.6605444396, 19199.5535786072, 7739.01572538704, 12301.634411796, 9309.24347413471, 11398.5055100014, 10715.4408480144, 6754.92884956519, 5326.70861484963, 12483.6571962577, 5139.67997318165, 5467.71436189862, 6478.85351404218, 6055.80534248072, 11553.5182147405, 15936.1181965498, 11629.5739869186, 13747.854708935, 12603.6344057068, 5734.77140369785, 9292.24145619332, 6126.82444199652, 4217.5802769444, 8670.14342671328, 9460.28988020327, 5325.71944059534, 8778.08655844627, 5084.68059554412, 5365.7267652024, 4224.46943005574, 5412.79661671911, 9403.25836442886, 10916.4874264003, 11609.5504964286, 8674.16217973089, 18474.4562802612, 9423.25838314017, 9428.28159797444, 4603.6368943348, 7465.00152177818, 7648.0197276292, 10937.4177938582, 9319.23857859227, 9532.3069931735, 15096.1396477667, 10308.3028941999, 9519.30246238793, 13376.7996705693, 9609.26095606802, 11136.365920616, 10243.3993722883, 7681.03030369166, 9806.30531806895, 12092.621827061, 14633.9442342781, 6051.79504099575, 7671.02703504791, 6379.85497672976, 20118.6735840481, 7763.02764419639, 8714.18541754564, 7902.08406945474, 4514.61244695591, 7236.01837097712, 15853.0945342862, 9453.27469388241, 13563.8298187914, 13629.8136447182, 6963.95814107942, 13562.8067783836, 6052.78873671204, 13532.8324573524, 11427.5315706292, 10403.4096691524, 10413.3838347122, 8882.20316156837, 8955.18079111284, 16775.27261869, 7294.99581228366, 11924.625237409, 13308.7554681204, 4815.62012922305, 5255.71757348681, 7837.07410687991, 9795.30771469138, 9279.22869419864, 6668.85949937776, 6079.81162292921, 10448.3384035757, 5631.73953531571, 6431.866413845, 13099.7416226318, 7473.00700696938, 14485.9726128244, 6625.90613464155, 7838.071841237, 11008.4678020879, 12629.7533870076, 5968.61094881364, 11570.4287501859, 14871.9919820452, 17986.4818551097, 8956.18815526466, 7676.03289440571, 9951.32868796405, 12130.6447364848, 13676.8310906505, 8766.16861429915, 10682.4134884077, 18000.5072674706, 8511.16568065287, 14565.9520972815, 16529.1469690079, 8175.10257671773, 10481.4029455476, 13613.7788727034, 5973.83214702711, 9446.28987090915, 13636.8201106303, 3776.56840635553, 13069.7663476414, 6634.90767622722, 14359.9470719219, 11386.494986883, 5020.67426080974, 15007.0021524758, 12285.6508097482, 4639.64178151307, 11896.5991954122, 6973.88172042412, 15511.0373394607, 6196.85375994732, 17495.3104942394, 11950.585201036, 5021.66941708065, 8984.20078693212, 7735.01726968254, 12916.7264533405, 10034.3352599977, 8865.22595740102, 14360.947301104, 12364.6748565235, 10685.4270235555, 11666.530685966, 1747.56483444658, 6067.80339356239, 9402.26327510013, 5077.61886452881, 7144.96285127334, 11602.5621225858, 6466.98583103384, 4855.64592276566, 4546.63932052117, 8998.23090312815, 7731.02530585322, 13227.7842039648, 11040.3695127716, 4782.6230545853, 11113.5028504265, 6543.88508833801, 6157.82155736186, 17677.4500905686, 10033.3449497067, 18014.520776186, 12008.5981802559, 5307.74690268495, 8847.19727505069, 6241.84155359173, 6133.81033142335, 12581.6596720962, 15068.1165992824, 13338.7757649043, 7274.99825837128, 13503.8702271023, 7853.04903893417, 6768.90098912495, 7283.98062916142, 9318.24995702577, 17595.3036247437, 7751.03072299866, 9844.19932390348, 4689.57287954708, 10469.3961990024, 8943.17456835163, 12087.6529130307, 11455.5069084192, 7077.95442685802, 13307.7715402018, 14416.9979612472, 11965.6002271408, 9422.27502316464, 9326.24262003598, 8950.17576535936, 5709.77221509991, 8842.20868471163, 5705.73007932888, 7863.03946843788, 14275.8641300315, 7362.97781253062, 10969.474128203, 10714.4467238609, 11315.5168974104, 4848.63148161444, 13020.7230120786, 12372.6664902502, 18294.5625653653, 12184.6147316273, 9988.33312400846, 6406.94289002544, 8933.20744351909, 9087.21946077145, 9056.22198421881, 10384.379086724, 11659.533422568, 5482.72471691309, 10519.3934765916, 7342.97923073102, 4774.62953755481, 7993.04640905938, 3035.40869860081, 15604.024625168, 5239.72623114429, 13874.8721416669, 14826.0215705616, 5939.79224726129, 10495.2850024776, 12939.7260032667, 7340.97601955126, 7013.94636343764, 12187.6246623995, 10006.3373444049, 9506.2636819845, 12671.6939011247, 13336.7236191946, 16358.2841934545, 11996.5844562312, 8961.17741920106, 19977.8081039179, 12243.6495273226, 12491.6643816395, 5579.73559722405, 12876.7500404845, 9885.28825815253, 11742.5490463327, 11067.4378333582, 7962.04523517173, 9929.31629612581, 6591.91617784507, 14308.9408761709, 5941.79848809126, 6392.87168528647, 12970.7531525447, 13027.7417567847, 5238.70862712063, 8411.15492555269, 12685.6671421871, 9493.28523843022, 10609.4184876092, 5043.69484001005, 1784.2423616175, 6275.84702905027, 14990.0092426062, 7736.02886656557, 11547.5249339364, 5927.82315787677, 14216.8951232929, 16563.1983581003, 1732.23544230808, 7638.05189280644, 8213.11989444802, 24613.3962902311, 10449.4109682035, 12227.658597515, 9135.15641269136, 13692.8402157111, 1691.22901867635, 8332.08556080553, 13010.7514342662, 1656.14130887918, 2177.87259913345, 15955.1352137668, 16039.2639856548, 8325.1101770826, 7083.95397873984, 7624.0008812374, 10418.4010382351, 6299.8169137604, 6063.82837962187, 6707.89743356115, 10329.377416333, 10433.3453438165, 9328.26208213942, 12644.7107461388, 6646.84198277872, 5568.77275918653, 8464.12741712261, 12273.6218847668, 12108.6159725697, 5569.76239486015, 5752.83191924592, 10052.4266122753, 4986.70758634133, 7238.94549162551, 17003.34669473, 11997.5683534907, 4532.6166726326, 11280.512479149, 6318.8775514143, 5449.7205658149, 4492.61273640838, 10992.4628970164, 4993.69617047256, 7724.03006228424, 12309.6331785185, 9194.22857197228, 5689.69357820345, 14574.9495284843, 13594.822666934, 11677.5377748433, 2387.32944963945, 1532.78214036837, 6126.81635267765, 6441.86067017827, 5156.68540078463, 10631.4259144686, 1525.76847529679, 5869.80102394318, 13531.8017615357, 12452.6625185915, 14223.9112861859, 12236.6446815301, 8866.21755196358, 7133.95133546727, 5520.7598380536, 7847.05190254909, 12371.657247263, 13612.8243552707, 1615.54555357731, 10128.3008788891, 15718.2060360064, 7769.02397806682, 15414.145224822, 7291.00055927771, 4773.63744567568, 11674.562905328, 9254.21702282343, 13825.867904041, 13136.7524058612, 15974.1600955491, 7335.93579571254, 4783.6121051264, 8061.0720305445, 14173.8938669359, 4870.65047551489, 13450.7911441771, 7774.06430115414, 5765.7561570494, 13291.7764147075, 7932.93625386692, 9452.28327357169, 10350.3614819975, 6692.8748451334, 14250.8646857468, 6261.88731022754, 13621.8164713364, 10497.3889526511, 14891.9769403431, 2375.33168029997, 6225.84807788864, 5730.75622697466, 8805.11296795328, 2135.28242914164, 6054.80641126588, 8255.12148183726, 13707.8319736182, 13374.7964986751, 5660.79774981376, 6581.90239483814, 8122.08675665083, 14305.9242364278, 12899.7361293185, 8476.11740156921, 10430.3786993494, 5763.74588053582, 17706.5296009908, 9352.3399743522, 6572.8807956801, 6048.82799085886, 3171.43275141609, 1607.80318845038, 1608.21892719498, 11757.5449110394, 14241.9029768418, 10768.4482923946, 9680.29527983484, 8028.06946169045, 5095.66083501458, 10708.42959966, 18810.4983457378, 10157.3630023479, 9321.24618601661, 14953.0130769147, 5994.74645808626, 5339.73897389897, 9353.32719249913, 13523.8102411331, 3177.42549133628, 8823.19495434793, 12610.6693286729, 9124.20391196655, 5383.6579477583, 16506.1944465055, 16544.2133605368, 11364.4781375145, 11763.581597505, 8761.17008410712, 6631.89195268088, 14921.9640281729, 15176.0519575213, 11322.5111445932, 13348.7868274314, 7803.05022347458, 19818.6410233598, 11092.4763372286, 14904.9628737587, 1912.71230864554, 6628.89660236473, 16316.2267852465, 6197.84074140153, 5636.76644758745, 14684.0184631554, 6700.89201021206, 12423.6952490842, 13076.7727775239, 15870.1535859938, 9205.24648700367, 13349.7883972298, 8208.11879248801, 10461.4175803051, 24555.4252445555, 8388.1056257299, 14918.0038727557, 11456.5318576439, 13527.8044742333, 4798.64730520458, 10629.4206489363, 9340.2433337985, 14269.9228126922, 17613.3843967604, 12593.7206954843, 12317.6329808236, 10141.3287368927, 9543.24713839844, 10935.4417093008, 5266.7162842335, 6515.85429370564, 11287.515642282, 2306.31032828481, 11903.6240272764, 1619.21847384163, 4994.7046140427, 5306.75358084543, 9178.25180545699, 13690.8347255943, 7530.96843061611, 12422.6746163863, 11589.5966553984, 16672.3491813576, 6357.83041451685, 10098.3753253491, 8157.09047467957, 10147.3176878935, 14012.8585781901, 15547.0845727464, 14970.9858102532, 4982.66031463079, 10275.3544828116, 13510.7816262878, 12924.7177785145, 7969.0899110885, 10441.4048650008, 9302.25054219928, 19290.6561450563, 8935.21181412008, 7319.00013476042, 9156.18906891713, 6265.8415720669, 7952.06017066988, 9301.2770266454, 7563.03436242316, 17693.4750516684, 13204.7935194638, 9074.20258699232, 9644.27711889746, 7368.98523876365, 9927.29289344755, 12214.6628984237, 9225.27085134789, 10820.4286166264, 7302.98047483347, 16343.2686584663, 5247.69421267435, 10233.3516459645, 6667.85439933288, 9293.22303501112, 7357.95745578745, 10266.3848611264, 14086.9670407103, 14537.9259702997, 11597.5661732816, 12888.695392337, 13627.7934580197, 5562.74359327739, 8576.17316147924, 9867.30389294732, 13568.8175492084, 10881.4314182272, 6666.8836520547, 13549.8144666653, 13856.8723646607, 4624.62230860271, 14838.0270952993, 12400.6680329137, 12948.7317287322, 2491.01111184001, 10567.4046368691, 10397.3993570505, 16267.1209530476, 8710.17092893657, 12056.5968678343, 12659.6860550476, 13646.7811076633, 13270.7350498879, 4233.58324806021, 14611.9932116537, 15177.067389247, 7236.97106888751, 11762.5545159618, 7644.01333144057, 5055.65889163271, 13340.7684947557, 12467.6872987267, 15475.1207943203, 14503.9696151139, 12889.7349267566, 8222.10968942809, 14880.9882183216, 5690.73930634908, 7369.97876845051, 9585.25969272964, 7871.06535535014, 19962.7834114575, 12334.6596033281, 7794.02600292494, 7756.0399736277, 11932.5866079258, 16069.1659598404, 16396.2273921134, 5712.76764655576, 8263.10618633201, 12342.6398794589, 10767.4132829564, 14521.9403079539, 13999.8745697195, 13234.7654303085, 11881.5808660288, 12895.7205788166, 7242.98187842404, 12012.5926382804, 8988.20411506346, 10332.3736286765, 14581.9848973039, 11403.5325273055, 15503.029254835, 15271.0238509627, 12974.7267873551, 13301.7422534164, 5976.79703522997, 5949.85815932329, 8474.08727720536, 14664.9801855751, 10713.4350019728, 10549.4275180794, 5272.70732474854, 8319.08694372857, 7983.09451921704, 9513.27664683585, 15529.0676866478, 12643.6915642008, 6393.86820054181, 13324.7447529919, 8092.0851149548, 5437.74508311143, 6009.77709805719, 9078.2164982067, 13935.8637527456, 14003.8819445808, 14171.8927919519, 17834.3596676052, 14606.9559022411, 11469.5429971132, 5747.74405997379, 15536.0861731996, 16050.1690634387, 5123.66736525896, 5033.62309889861, 6650.88201544173, 13635.8251126072, 1619.88225786474, 19177.557444641, 2327.31716370549, 15897.1153809584, 12959.6985526606, 4676.60365110391, 13638.8157011474, 15565.0318439322, 13070.8078196056, 8171.07372848501, 9531.2672267894, 13219.7535628926, 11685.5397739394, 5684.78575292723, 7991.08013824427, 7886.07050030838, 7099.94231451956, 16886.2249743299, 10181.3557927412, 12094.619949184, 16715.2659731342, 4224.46755911555, 19397.581866498, 12274.6177441551, 5612.78420590024, 9711.31111403577, 14615.936367285, 7261.98271367221, 16673.3468627107, 13483.8004324652, 8494.16901319135, 4895.65310128565, 8633.14600968293, 15223.0262354474, 10339.3722857353, 13210.7407453039, 10719.4251038131, 11679.535377642, 6078.82309426266, 6319.83119139244, 9272.21166820686, 14251.8942529595, 1688.96953039339, 15888.1168657148, 13544.8014637557, 14901.0087332657, 11717.5809450154, 7613.02806899374, 1751.62922541712, 8269.13337117023, 15057.0232324378, 12983.722634808, 14088.9361087076, 13808.8688840238, 7262.97922587751, 9344.25540334834, 12468.6640522626, 6968.95302076253, 14321.9143020025, 10586.4110299777, 9932.35252853216, 14635.9244981612, 24313.2324981305, 12583.6485126788, 5113.65189793496, 6676.88117616599, 4715.63700276677, 16240.139260408, 5232.71023389644, 6589.93050630176, 13331.7775673119, 4611.65345711739, 7971.06664603272, 12033.632114434, 13846.8639477866, 13837.8744434318, 13220.7737584131, 19089.518304526, 7901.09507525368, 11414.5386748413, 24431.135198595, 13647.8293559415, 9037.22364327811, 6931.94375616257, 8454.13288183285, 10909.4340173448, 8890.19894588631, 7750.02520981871, 10190.3393948992, 15613.1010901259, 12413.647917096, 16278.1535515603, 14037.8849623274, 15993.1275752083, 15840.1619012244, 9890.32629600479, 16213.1521965723, 8314.11793119235, 10166.3449033486, 13654.8141999296, 15277.0467296863, 7377.96335841603, 11290.5466734509, 6266.85075897088, 6332.79812452273, 11301.49815193, 14443.9557900081, 11330.5009987912, 9798.27001636522, 6462.86559115883, 13390.782931101, 4241.59494042575, 13272.794155575, 5743.78192316717, 6484.87978524893, 4617.65014737714, 12305.636365751, 5131.68966535034, 14495.9337205308, 1544.97231206782, 14619.911306302, 8648.11891662622, 11906.6036825862, 14055.8965622352, 13239.7617024161, 10126.3516698021, 13619.8563005877, 5884.7793643277, 1529.20856310483, 17906.4527369659, 15746.2063080021, 16600.1874739822, 14410.9469486166, 14035.8765386778, 12739.6928810392, 13198.9146269847, 13289.7795625828, 10214.3613753959, 4194.56556710042, 12550.6789605282, 12003.6091415788, 12966.7344625714, 12636.7333015884, 4772.59307038827, 16942.272503484, 9437.24926825259, 4740.62100612521, 14264.9279761345, 13652.8024822678, 7268.00112553951, 8452.1208587568, 8083.07982908132, 18831.5152877545, 4548.62214525769, 5116.67484225456, 12385.616501429, 15594.0653889532, 8902.174502313, 5315.74098680748, 13960.8764384279, 9414.24196618736, 9604.28165001018, 7977.06474841563, 9040.19531610289, 12339.6356417371, 14739.0352170656, 5803.76094003375, 6886.92326002927, 6507.84334001931, 13936.8613869899, 15138.0673754637, 16873.2488119636, 13435.7761585998, 9285.23088229427, 10488.4222004877, 7003.92256449588, 12124.6111147341, 11637.5804397739, 13657.8462434144, 7918.06647405293, 15480.0933448601, 11524.5424695114, 8522.16588594435, 6733.89922822815, 17902.3844469978, 13667.7878536328, 7564.04469348159, 10245.3899163088, 18210.433389001, 11785.5902545259, 9615.29262195791, 6304.88891456301, 13442.8137663395, 6423.84834944051, 20026.6791304929, 13561.797476456, 4444.58017624242, 10161.3776543278, 4854.64819082613, 11718.5160247681, 9996.35362885399, 6958.90883262165, 11958.5890613429, 19635.7107929711, 11891.5554839196, 8613.12631263502, 5032.6345511845, 8241.11348295374, 17571.3594861568, 4627.45077384415, 14257.8915262623, 6949.94853090222, 8846.23099956847, 15942.1109785795, 13957.8308058014, 14462.9342494487, 6994.94235586196, 5652.78964950271, 7434.00020272739, 11732.5604274807, 14300.8956302166, 11385.5295199552, 7233.98176754442, 10845.403205288, 19728.6482373735, 2329.26207023248, 16626.2272601271, 3950.47056632001, 13981.8903014599, 15835.1496135865, 14844.0208453462, 12729.7278824211, 17844.3626474657, 6686.86676702933, 14557.9475925941, 10208.3324261948, 6315.81878267356, 12986.7131063533, 12232.6432375348, 5080.65650523973, 8559.17540480859, 9914.32366029461, 14197.8741360124, 1528.87412787021, 1619.54972487445, 9267.22335966625, 17705.4781500175, 12663.7029874092, 10723.4048959535, 10410.3977105866, 20575.8986303248, 9596.26422008865, 15670.1068161893, 5261.71658587781, 3571.52936694148, 11761.4890389828, 14719.9813512107, 5361.68096369082, 7339.93899123849, 10929.4486147676, 8273.13656645528, 10124.351302797, 6341.81931007273, 13873.9071775044, 18738.4891118814, 14570.9312281714, 16126.1947419309, 12628.7386329301, 15244.014954551, 6061.89201661385, 6303.86812462024, 6339.88000873341, 11822.5804111251, 10854.4666364426, 12132.6137456041, 10520.3555021668, 1526.80320434608, 14134.9235172265, 16984.3126172287, 9628.28427104629, 17793.4042260065, 8560.14196536593, 9607.29566108834, 12736.7049389101, 9979.34097429271, 6699.89129905442, 4941.64921026306, 12269.6210584732, 8336.10118716321, 10260.3795806234, 7741.04496904013, 17814.1853979946, 14811.041303036, 14224.9114460507, 12084.6157074291, 13842.8711238447, 14587.9468545989, 9233.18325171636, 6933.91133452087, 8962.1838643875, 10864.4218441211, 17234.3413563847, 9621.26739350853, 12873.7211759637, 15309.0646955514, 9721.29056748421, 12596.6668298954, 12637.7046795148, 5670.75981392446, 8215.13204608264, 7819.06097302225, 13255.7713590221, 10601.4041430924, 14855.0004097895, 1606.21702057133, 11321.4984195128, 10558.4109584067, 11076.4984178262, 12630.6959140041, 5108.69860082091, 5938.78310086974, 13996.8345791882, 19441.5893749894, 3554.51310021514, 15914.1335237212, 16249.1261387524, 9960.31978676379, 6322.86474825584, 12365.6318162534, 13818.8870027778, 15403.0822554622, 12113.6528381577, 15260.9913959586, 17733.4018895729, 15196.0600659752, 12775.7174765826, 8050.06216601224, 14027.8573637792, 1520.78653850003, 12987.7266220895, 17866.3868633372, 6311.87826525951, 8125.07677639399, 16297.2046298063, 8482.13751332394, 13420.788469221, 4527.59640944957, 17508.3273884096, 6936.91915472524, 15367.063313321, 11546.5250450574, 19543.5908655005, 10573.3861232908, 16595.1946518509, 15860.1212058505, 10494.2924126766, 19991.7869247794, 16256.1684810027, 16695.2212050447, 10123.3193696983, 5386.69114704836, 18233.4124936139, 15241.0272504989, 5385.68981160115, 13626.8087162277, 13764.9101859128, 13603.820202193, 9565.24715872442, 8459.12998238817, 8180.09564564115, 7011.88867707695, 20019.7104270057, 16961.2465295101, 4749.62436947155, 14148.7828809469, 5722.74585049521, 9597.27999605416, 17555.3205890424, 4755.64045521118, 12428.6776917812, 10265.382955275, 14834.9997496294, 5105.67565463827, 16694.2919600153, 20269.7678956516, 11777.6023966527, 13543.8046433911, 10221.3587973834, 16867.2309427479, 7303.97085795431, 14814.9788683038, 8189.10095072158, 14846.0248255823, 19750.6544524531, 15516.0870342659, 13036.7389708767, 10566.4065061288, 20003.6579633871, 1881.77545047421, 13299.7578431534, 11066.4568818153, 9831.33263840489, 6870.9308945135, 17887.3532964989, 10886.4556587141, 4226.58505853712, 14967.0179516959, 13909.8883839091, 5106.77623176782, 11381.5163833774, 13197.9247601767, 14937.9857049218, 7466.0190501611, 13944.859813247, 11147.4834112801, 13910.8790441169, 7919.05023621841, 5611.78884761473, 17353.3506175973, 15619.0392502947, 24181.1366079015, 7002.96229289891, 2174.30152509445, 6035.77817431657, 10507.4451485612, 14628.9353319469, 20009.7299610031, 11726.5779051859, 8543.10468323321, 4841.64088704878, 13663.8260188286, 7027.9266920182, 14735.0052362869, 7321.94359501378, 12456.6635172194, 10272.3498268952, 6697.89174337295, 8588.12439464793, 15745.1833633538, 4640.64807446919, 14886.991236124, 14479.9385771361, 5936.80275838118, 18307.5550843061, 14853.9972449143, 12788.6853360769, 12640.6905904715, 5056.64843009794, 7283.00002593534, 16648.2617224384, 13816.839097421, 4972.50278236028, 11378.5295540389, 9332.23700270073, 12051.6067921536, 12050.6045527025, 16215.171303144, 4612.60502005278, 13493.8857051368, 7078.9476107331, 24375.2137220958, 1709.7765571111, 15347.0794981434, 18139.4301967368, 9470.21975771917, 19421.5650075203, 8833.1756454109, 14908.9656241668, 18348.4916632594, 7022.94380678834, 3230.44971506554, 16525.1823935038, 13824.8611149497, 10426.4074965637, 5997.83265843081, 10866.456731404, 16582.1920858698, 15170.0637321003, 10880.4758619626, 5422.68884223142, 14363.9252800681, 10106.4021893125, 4210.57297290212, 7330.00261250702, 8247.12713332126, 4581.61423089864, 5273.70521652178, 5209.74021626271, 16392.2019099004, 14125.9144333191, 7591.05845019696, 10853.4269072474, 2280.65383456152, 6991.9085616348, 1560.8880117006, 4641.66009625356, 12676.6898227986, 9168.21803716692, 5987.74362530967, 6073.80654362044, 14554.9282734241, 1533.72564795104, 8112.06391236313, 17535.3082873014, 9921.29048840187, 15765.1076302794, 11449.5266894313, 8872.19623968972, 17970.4513026981, 14019.9115601088, 6162.83241944276, 6320.85753184215, 11628.5638080298, 15278.0265165198, 5161.67977168036, 14473.9446153713, 12964.7304621917, 8848.19602830868, 15259.0192958857, 12523.6541656924, 10338.3942789472, 15533.0364243676, 12379.6420029436, 19001.6260321196, 17214.3151893926, 9219.24393421488, 9322.28840018984, 8345.10479711224, 6837.90972895008, 18180.4264465088, 12599.6725718097, 11461.5198943803, 13494.8509977439, 15727.072342063, 5418.69124130725, 18803.5642599729, 16714.3038046758, 12529.6853204947, 7895.07902288907, 16904.2477015292, 17794.3825642024, 19482.6193562897, 13706.8259439099, 15736.2209225063, 6971.934695795, 14934.9981024051, 15042.9572150144, 10189.2119968506, 16144.180531132, 12531.658187511, 10827.4751766795, 3931.43246572857, 16914.2883566757, 10898.4737303289, 19980.7675624921, 14178.8702793462, 13756.8360620638, 7080.95261826494, 13675.8364560485, 10598.4051808425, 9661.27735475574, 19769.6799377704, 8840.2346305187, 12831.7169235658, 18453.499436271, 12164.5872142644, 14796.0011499909, 13545.8266006888, 6605.83865847608, 8621.10282875558, 8835.22749601514, 14466.9559244409, 16123.1790776947, 13366.8076444241, 18599.4303178889, 16728.2633563318, 7641.97039827624, 15284.0269520871, 13535.8237725521, 19408.5817594398, 14691.9844923723, 14536.9041549167, 18253.4054775344, 14569.9466159328, 13297.7853084109, 8653.15537674867, 14130.9396803813, 5999.82611069639, 8380.12820631956, 1541.77276614576, 11724.5761625425, 21318.8014180831, 19566.5611621458, 13630.7911454194, 13467.8550892256, 17914.3378896594, 2891.3923569749, 7324.98516269247, 6351.84732437828, 4540.60391325328, 1524.54269082857, 5921.7935882687, 7767.02650584539, 4410.66738282386, 10194.3682694374, 6234.84016278916, 5010.71305231917, 5996.76305296595, 20168.70201813, 11471.5269405642, 13247.8107850031, 8270.13006025188, 14403.9317452702, 4493.60227798616, 5907.76463742141, 17592.3362648361, 9583.25738358747, 7480.00170525657, 7026.93021744478, 15385.0754127758, 5414.72264444373, 13959.8785036133, 13358.7891107029, 11660.5841008544, 11898.5824561128, 8550.15283805128, 8535.14541724803, 6342.81685345943, 4792.63006703681, 7595.04667713335, 13181.808275799, 17298.3237573933, 13896.9382711018, 20020.7688506876, 13904.8373936008, 13891.8994744114, 10534.3714949737, 14607.9305687285, 10336.3891467669, 14842.9851157323, 11667.5757395064, 10217.3583652236, 11893.5665706896, 7592.03317573661, 18144.4224857503, 12409.6624166547, 11779.5734325763, 9616.27113497045, 16847.2862144551, 13280.7650246334, 18322.5964335258, 14232.9264831758, 8928.17230422669, 4879.6612597373, 15156.0286148332, 8583.15508423302, 10812.4321702389, 14614.9416601109, 19314.6169036376, 5737.78037729294, 7296.95603326775, 10263.3700058445, 18606.4313685852, 9165.20030852714, 12772.6539537716, 16689.3135589233, 14395.9296790594, 16605.245287993, 11148.4462309914, 13841.8566897301, 16099.1698004979, 19464.4685038394, 17596.2982382655, 16475.1835937738, 12514.6681436341, 16186.1766980283, 13858.8543774986, 16087.1729288448, 17199.2856329407, 14975.0051484719, 9923.3007014825, 9843.30029071306, 1943.57868640713, 12992.7202432743, 4227.5139844926, 14314.9452934186, 15441.1143626384, 7912.0729805425, 23134.0446047317, 16275.183875862, 15194.9915931214, 12332.668936325, 18487.5045217203, 11584.5505967647, 16574.2138639573, 20285.8219221593, 11538.5018782589, 16155.2419270904, 18853.538480915, 18797.5113867454, 8584.15593235531, 15817.0684266189, 5407.72788286307, 12783.7234295119, 1620.46834612176, 20368.7243413911, 17755.4147885362, 4951.68172311311, 6002.80062950855, 5399.6895175457, 13513.811217344, 12005.5976250418, 11203.4593753148, 14099.9491206385, 10247.3564422565, 9314.23773479233, 14996.0170717362, 18578.4384287955, 14249.914450719, 16555.1945642823, 13671.8294703861, 12071.6258792063, 14799.9916196747, 17475.3266500921, 12250.6474927525, 12605.7245922412, 12323.6578169637, 7975.06450494207, 11090.5005371354, 12547.6835085418, 13868.8914807039, 12168.6270446083, 1787.12963368088, 11554.5193662643, 12568.7130539636, 13011.7583284604, 10847.4118438884, 7023.92684804929, 10267.3566559482, 4459.60107174705, 16386.2697218453, 14625.9859668899, 12589.6429681916, 6444.86401382154, 20897.87983399, 12506.688446474, 18095.4494433576, 4973.50183216665, 15818.1027376495, 16115.1353073054, 7602.91176793068, 4529.60837336807, 17074.286032046, 16124.1834034182, 13689.8123986127, 16374.2621671818, 13792.8732846705, 20536.7012053119, 17529.3569204662, 16495.2399095123, 4942.64785473395, 6062.81994357039, 16733.2130037687, 16055.2072139262, 6013.83878393943, 15080.9861776995, 6408.10315361108, 8292.10530299316, 14286.9280377775, 13353.7818459934, 5703.75273350865, 4473.61764791742, 11377.5954201019, 19068.5158604493, 6300.76559963931, 12980.7370143527, 20163.7119525934, 12000.6030663097, 13162.7781850458, 7280.97331511823, 8870.20900138548, 5018.69397982698, 16195.209614825, 13977.8776978548, 14926.9950200471, 13477.8921422948, 9610.29998175635, 1928.2504546726, 7334.91059861367, 15556.0522319094, 13941.8817485974, 9500.27799798419, 14513.9570446944, 8219.11248725757, 13123.7339705875, 7934.06413194508, 18043.4534179463, 11883.5943205717, 6100.7977947104, 15125.0495888981, 16790.2668942918, 14318.9341612034, 18174.3817312864, 9377.23496146274, 15824.1539981332, 12466.6777416552, 19866.676500441, 11175.4381834187, 5732.7536834042, 13417.7907077035, 16538.1988905371, 9546.2832640571, 19697.6692474511, 11495.5096467414, 5576.75637367364, 8086.10780603764, 4767.60890310805, 11612.5514357653, 15082.0821660831, 14150.9328666801, 5145.68361305786, 5377.67343388417, 17588.3816006892, 16686.3667326802, 14227.899623597, 12457.6787273874, 8223.10987594648, 12500.6763707312, 7970.10340398601, 7453.03706527908, 13865.8446561605, 14357.9143809336, 4716.6236345543, 1967.59787217706, 6598.90417979287, 16776.3022079883, 8301.13111292573, 12653.6976354752, 5432.72006247229, 6976.91834856464, 16037.2356874156, 5688.69551600179, 7746.03362924558, 13927.8594868159, 11490.5360497588, 1720.78464845537, 13869.9350259597, 9712.31222439978, 6273.86355066017, 7287.98448361038, 18407.5534957123, 18570.5295636968, 8616.15267316711, 17923.3607122091, 12691.7020444373, 16076.1510284896, 16962.2689112121, 13685.8525270314, 13391.7933091063, 8665.1634114268, 1744.23917914658, 4802.63497880411, 19335.6348690229, 13974.8516785954, 9248.22068189006, 5933.8236747063, 5697.76294232813, 4232.58732728834, 13524.8181683085, 7737.03825137865, 11489.5436599581, 17873.3941097425, 7911.06966816871, 18186.4125058222, 13254.7319696963, 4857.6477908231, 8986.1925925935, 16095.2227390953, 14396.9398197483, 12716.6711999522, 20297.7397802187, 18222.4071776931, 5409.72325187365, 7654.0239629345, 13322.7516580476, 15455.0910994145, 15850.1191941269, 18370.416653328, 15505.071401448, 18034.3066062122, 12432.6965740339, 12419.6645605001, 8949.18252954528, 13172.8742971254, 15235.0436725645, 8294.07371114977, 14515.9605097352, 12515.6793351155, 12848.7564147095, 16106.1561920553, 18642.57499423, 1529.54442809405, 13525.7680097778, 5339.66333614544, 11464.5103092245, 17075.2576379316, 16701.3455680193, 13097.7641066691, 11852.5996026026, 15585.0736956729, 7352.9597143383, 11394.5303674103, 19937.6649719283, 15034.0068288144, 17544.3530333302, 15482.0656018126, 14670.9916518871, 15116.0548275637, 15357.062793412, 12138.6019825699, 12835.7174431863, 13140.7754473373, 18076.4768822895, 14729.037161131, 1946.00673503695, 12803.715424431, 9937.33013097088, 14274.8543166809, 14490.9344097583, 7597.04412787997, 6655.92312023436, 6022.8176114873, 20060.7756152157, 17530.3275908973, 4766.61887093301, 1702.42223294072, 13370.791240359, 12185.618584963, 7995.05156718628, 16208.1834322317, 13252.7885789044, 7192.99019218156, 20716.748238696, 17100.3299576892, 14435.9679773222, 13423.8097655493, 18990.5931593599, 15376.0807707836, 18013.5469731845, 9224.26603377742, 15197.0317548026, 7393.9670849146, 7966.04805687751, 2080.28264380223, 6138.81773749852, 21188.8323853282, 14716.990312757, 7225.00238456437, 3363.46095648728, 20090.752352405, 17819.37899848, 20243.7124835476, 2159.30704740143, 9555.2755231378, 16197.1898568321, 6165.83010537485, 12884.7371887998, 2489.87793681927, 12704.7166264065, 5331.75096037474, 18005.5103983173, 18647.602931541, 17016.3863157047, 17394.3690811419, 15366.0255318907, 13139.7850671486, 4507.61903118279, 4531.60359036807, 2754.3600356309, 13507.7936777007, 17033.363594294, 20345.6972019303, 14903.9742153531, 24660.3711768615, 12049.600975473, 1527.27096690532, 20602.8346443299, 12172.5997064503, 14368.9446194164, 9286.24412998885, 11568.5283171395, 16344.2697033811, 18220.4609271352, 13028.7315785782, 16902.2515044606, 14131.9172029732, 20382.8151554127, 4451.58198269639, 15798.1536127266, 11683.5000293836, 5981.81901323445, 15525.1050858502, 17567.3684315159, 18843.4989432625, 6964.94060549232, 15318.038330856, 5321.76530988574, 12839.7329159616, 15035.0217955191, 14113.8938040504, 13447.8428102148, 17122.3548582027, 15335.0507821369, 6000.80121542948, 4566.60892239513, 4976.7077860709, 19569.5980520827, 6549.87118221346, 4179.55932595981, 6674.91621262948, 13217.78235359, 9134.2581365752, 14945.03940059, 19049.5848985104, 12073.6160110258, 5431.70924793395, 13382.7592956034, 10228.3262818661, 16761.2884326083, 9731.27826478684, 12965.733958082, 5676.79363932375, 19169.6119991171, 4649.66634907934, 11572.5400317018, 17894.4108523985, 15829.1047722067, 14758.0494700802, 8939.29121505129, 12649.6568343785, 15808.116263993, 15703.1368551979, 18410.5104826735, 4979.71689521691, 20945.8508198522, 14062.9019001058, 25071.3861087103, 14034.8773324123, 14925.988435694, 10615.4230264023, 15197.9940791145, 18852.5177904048, 1836.00431327397, 15262.0096294907, 7924.07817311954, 16794.2865100882, 14782.9859082273, 14114.9184796191, 2012.92707539018, 11641.5102091406, 15913.142804747, 4932.68395670098, 13400.8085407857, 4276.54032228496, 14071.9121113157, 13793.9077325094, 1528.27315231956, 6492.87284365891, 14956.0199727421, 24472.258064022, 19805.7419257915, 15450.1090506223, 15886.103234959, 14297.8784386278, 14661.9690105158, 13939.8806572162, 16218.2003258569, 15528.0946691865, 16078.1643421921, 17634.3526595245, 13190.7989917426, 4642.66514995744, 19121.5716314008, 12321.6413644315, 7653.00934238758, 5713.77017548051, 9878.33656817557, 4570.61655062827, 14589.9636768908, 4533.61099458235, 13592.9238180244, 15601.0924243434, 14025.8389361066, 16093.1538509735, 13780.9565521413, 4228.46679039828, 5874.78372077235, 14141.9013394994, 19044.5796917147, 7639.96005960431, 8981.17834887004, 15606.1040521299, 19268.6058570137, 16748.2574444953, 8607.11627922066, 16451.271713819, 11438.5568835862, 14596.9138627564, 4526.58606614342, 16685.5326287396, 12991.7073078345, 14332.9407103343, 20689.8654523499, 7311.9544108635, 13895.8703409378, 11479.5040374662, 10173.3427691838, 13923.8927638897, 13790.8737251554, 13082.7500445617, 4726.60588143225, 19376.6135627152, 15566.0528570157, 19318.6851389057, 14725.0054797352, 13468.8294727041, 16023.2211390979, 7955.04509644873, 19721.6577714589, 18349.4921080824, 16113.2232512927, 10691.4543067729, 5074.64608042351, 20355.7784341229, 5352.71252887323, 17133.2924016671, 12142.6486908658, 12823.7078944486, 15135.0453521604, 4650.67903415301, 8619.23915235516, 20671.7434695699, 8302.10730422987, 14404.9254132477, 12024.6108769861, 13737.7897001299, 14296.9045414635, 16561.2042562666, 14583.9916561348, 9811.29129526974, 14044.9006844869, 15717.1774351981, 15483.1225301478, 5382.63945318312, 22294.0772901195, 5632.72276196558, 6578.89712091365, 9141.22888367075, 17227.3070616725, 16505.2276653986, 4240.58279572283, 17768.4323351048, 13213.7717403644, 7115.93723373782, 26123.4395671935, 18027.4833786962, 4534.60681831451, 16690.34276308, 16700.3169176733, 15791.1227231561, 2159.30705630458, 4584.65509230402, 11205.4905544354, 8509.1612810054, 17245.2689881376, 15776.1185449137, 3918.44029275306, 13807.8324989362, 15052.0369325403, 16365.2684451882, 15578.0716607328, 13806.8762682198, 20620.7592794469, 14386.8199695411, 11052.4811536793, 5710.72807520351, 4903.66706030176, 6629.87739016743, 12982.7380761244, 21353.8852171833, 14439.8801892027, 20162.7656293367, 15105.05091364, 21295.918743173, 18152.4484738168, 13009.7389962462, 16520.2340369791, 15124.046010371, 19303.7124761713, 6721.87800832538, 5738.74327439929, 13911.8976759424, 14882.9915478893, 29474.0112284144, 18320.5077395632, 5373.72399490312, 12722.7312267067, 9294.24070637261, 9825.32068414678, 16061.2141047457, 21338.8144858932, 11003.4705810035, 12614.707360773, 15868.1299727588, 16373.3089538384, 20299.8400826846, 19011.8706462279, 28073.6436200852, 14356.9333424009, 27517.7259984672, 20339.7631265142, 20942.8309810601, 5347.70882054715, 13606.8308291506, 18378.5173996251, 25533.517433658, 18833.4982327147, 17735.4278859892, 13257.7666515698, 20894.9292159641, 5161.67720044622, 18620.5351795696, 15246.0180208871, 18393.5762225879, 13713.8284123399, 15527.1238424302, 2099.93353948595, 19234.5733962895, 15812.0986191765, 15179.0501759304, 21221.8986204781, 16198.2309552721, 9103.23293605025, 4257.59946808078, 18098.4866764617, 3225.93372891499, 11180.4736664282, 5053.53002855583, 25501.4191103375, 13796.9110301086, 27395.4917618581, 14585.9476488713, 1852.50928541291, 16279.1240765431, 4258.59108009684, 13054.7581554596, 5374.70519765241, 14947.0317273862, 1795.92382437682, 25661.5435050878, 13608.8740694261, 20608.8863504671, 16485.1950674533, 11013.4675791996, 5552.69036581453, 4757.64947458747, 18365.4634694861, 15154.0598398603, 1551.23387274625, 18244.5162146588, 11060.4916495369, 4486.58408760175, 20988.7836678455, 13095.7565811099, 29115.0138381523, 28849.4606131051, 13912.9173962746, 5438.78001418844, 19110.5845698217, 28467.8281763363, 7894.06527071164, 4698.63525175174, 15922.15144894, 16129.253598119, 16702.299898259, 15881.1306614658, 25184.3855036082, 21051.9410441898, 17766.4372795971, 15111.1335276805, 1882.5221, 15150.04539133, 4856.64024676926, 1572.02770345893, 18610.5134209979, 1891.54166258914, 15230.0094248431, 21251.9381868927, 17443.3743089589, 1535.96639630181, 18921.6270254815, 16731.2734732423], \"xaxis\": \"x\", \"y\": [12.6954864676476, 24.3822914099375, 24.3822914099375, 24.3233433441003, 24.2015166675727, 16.3832811510245, 24.3233433441003, 14.8822148020744, 14.947829367288, 16.942514925766, 33.8246124759992, 24.3233433441003, 15.7544118757725, 13.755718542703, 15.6970818257014, 24.3233433441003, 16.8796146766027, 17.4495710110346, 24.2578273113251, 18.0787337418079, 10.5087583100478, 24.3822914099375, 24.3233433441003, 17.7597769017696, 16.3262298261801, 19.6945794021765, 17.5106453772068, 14.3189666008631, 15.7544118757725, 24.3233433441003, 16.7534518853505, 20.1349507764657, 19.0755901769479, 17.1317640181065, 19.9435985521158, 33.8246124759992, 16.6343759174824, 20.3844797924836, 21.2000925755183, 24.3233433441003, 15.0140935595512, 18.5119970933278, 10.5087583100478, 21.0146775757949, 19.4466368273576, 17.1317640181065, 18.1957631841977, 20.6940526441415, 24.3233433441003, 19.1952003514449, 18.7668556010405, 15.7544118757725, 18.0787337418079, 15.7544118757725, 13.8219826018492, 21.5704525684992, 16.2611854688009, 16.4488718266964, 13.3912633673032, 17.068218910265, 14.385231142807, 24.3822914099375, 18.6931291854064, 15.0720749433517, 17.6366789277077, 20.5679557100614, 19.8218485251745, 21.2610000010014, 18.6351309752146, 16.4488718266964, 17.1317640181065, 16.5700603758971, 20.8847064431191, 13.1344887848377, 21.4468683914026, 15.8855400101026, 15.5083124931335, 16.8164789513429, 15.2613862092972, 21.5704525684992, 16.5056300278187, 16.6343759174824, 14.2527022595882, 16.074117151467, 17.9428821340879, 21.8897603924751, 14.5094772771676, 19.2592897947311, 18.2621249691327, 18.6351309752146, 14.4514954344114, 19.1952003514449, 14.5674585675875, 20.0696192498684, 16.3262298261801, 17.0055073515256, 19.6362096762339, 17.1317640181065, 16.8164789513429, 16.6343759174824, 14.385231142807, 14.8822148020744, 13.8882471259117, 14.947829367288, 15.1953631257693, 13.8882471259117, 15.2613862092972, 16.5700603758971, 13.0102425352414, 18.5775535599073, 15.6394065773169, 18.5775535599073, 18.3868218417645, 17.0055073515256, 33.5718517597199, 18.8867167170525, 15.0720749433517, 16.8796146766027, 17.9428821340879, 18.4452998772939, 17.1945914681435, 19.1364472086906, 16.0083362594922, 17.6366789277077, 16.0083362594922, 15.3273832773844, 22.386297426192, 14.6337228095214, 15.0720749433517, 17.4495710110346, 15.1953631257693, 22.0702138360024, 18.8867167170525, 33.9454362189452, 18.0787337418079, 16.074117151467, 17.4495710110346, 16.2611854688009, 14.5674585675875, 14.947829367288, 18.3284182663441, 24.2578273113251, 16.6981861348629, 14.6999871011257, 15.5736659522533, 14.1367392674764, 16.3832811510245, 15.4427070672989, 18.7668556010405, 20.4487852688313, 17.7597769017696, 16.5056300278187, 19.0160387273312, 14.8159502343019, 17.3878710186164, 15.0140935595512, 14.4514954344114, 21.8186324770927, 20.0128573254426, 15.8198327179432, 18.4452998772939, 24.5124938861211, 17.068218910265, 18.1375566339175, 17.1945914681435, 16.0083362594922, 13.9545116936843, 15.9511026676178, 17.1317640181065, 15.8198327179432, 13.8882471259117, 17.068218910265, 15.1299568112373, 16.3832811510245, 18.4452998772939, 18.0787337418079, 16.8164789513429, 15.8855400101026, 16.6981861348629, 15.7544118757725, 19.1364472086906, 19.5042967434406, 17.8265319184144, 16.8796146766027, 16.074117151467, 15.0720749433517, 14.7662517106215, 15.1953631257693, 17.068218910265, 24.3233433441003, 17.7597769017696, 22.2642926350911, 15.8855400101026, 16.2611854688009, 19.8856634751638, 20.1349507764657, 19.4466368273576, 20.0128573254426, 19.9435985521158, 16.8796146766027, 19.8218485251745, 24.2578273113251, 17.3185208932241, 18.7668556010405, 20.3189699923674, 19.3228563026269, 32.2608308509668, 15.5736659522533, 12.322749185133, 19.6945794021765, 19.2592897947311, 19.5737146353404, 16.5700603758971, 15.7544118757725, 33.6955119108836, 20.26129898386, 19.1364472086906, 20.26129898386, 17.1945914681435, 17.6976700102965, 33.3227867440065, 15.8198327179432, 22.5724764183839, 21.0146775757949, 16.5700603758971, 14.5094772771676, 19.5042967434406, 16.3832811510245, 19.3228563026269, 16.6981861348629, 19.4466368273576, 15.1299568112373, 16.5700603758971, 19.5737146353404, 17.1317640181065, 10.8897790745576, 17.7597769017696, 18.6351309752146, 17.3185208932241, 17.6366789277077, 17.3878710186164, 19.0755901769479, 19.5737146353404, 15.1953631257693, 18.6931291854064, 14.0042104001522, 17.8844870523294, 14.6337228095214, 15.9511026676178, 15.2613862092972, 22.7021580751419, 20.3844797924836, 20.4487852688313, 21.6402136838118, 18.4452998772939, 15.9511026676178, 14.8822148020744, 18.8272398109913, 15.1953631257693, 18.3868218417645, 33.759597100385, 14.0042104001522, 16.5700603758971, 22.5129782016754, 15.6970818257014, 18.4452998772939, 19.3228563026269, 33.8846684173425, 16.5700603758971, 17.1317640181065, 21.2610000010014, 16.5056300278187, 18.5775535599073, 15.385115144221, 19.1364472086906, 18.8867167170525, 15.7544118757725, 18.1957631841977, 13.3249992584864, 20.1349507764657, 30.1423314507484, 18.3284182663441, 19.5042967434406, 18.1957631841977, 17.1945914681435, 32.1964515681744, 19.2592897947311, 15.3273832773844, 20.0696192498684, 17.3185208932241, 17.7597769017696, 19.2592897947311, 17.4495710110346, 24.6298199848016, 17.8844870523294, 20.8179010526021, 18.3868218417645, 19.0755901769479, 17.5699597096125, 17.8844870523294, 13.1924702342033, 17.8844870523294, 18.5775535599073, 13.9545116936843, 20.764343968598, 18.7668556010405, 18.8272398109913, 16.3262298261801, 18.3868218417645, 19.6945794021765, 16.0083362594922, 20.1349507764657, 11.8174816763083, 16.3262298261801, 14.6999871011257, 16.7534518853505, 14.1367392674764, 15.0720749433517, 17.3185208932241, 18.6351309752146, 21.1333783165296, 15.7544118757725, 19.8856634751638, 19.4466368273576, 14.5094772771676, 14.1367392674764, 19.5042967434406, 18.2621249691327, 20.6374167179743, 18.3868218417645, 18.8867167170525, 17.2566976443609, 16.6981861348629, 17.6366789277077, 17.5106453772068, 16.4488718266964, 13.3249992584864, 19.0755901769479, 16.074117151467, 20.6374167179743, 17.1317640181065, 15.1953631257693, 15.9511026676178, 19.9435985521158, 18.0787337418079, 16.3832811510245, 17.6976700102965, 18.4452998772939, 17.6366789277077, 20.8179010526021, 20.6374167179743, 14.2030035769622, 18.0787337418079, 22.1943611518224, 17.1945914681435, 20.0696192498684, 13.6977369006157, 21.8897603924751, 16.942514925766, 22.386297426192, 17.8844870523294, 21.9441933111032, 18.8867167170525, 14.2527022595882, 20.26129898386, 19.3878434097449, 16.4488718266964, 15.6394065773169, 18.8272398109913, 24.5124938861211, 21.4468683914026, 16.8164789513429, 15.4427070672989, 19.8856634751638, 15.7544118757725, 20.3189699923674, 19.1364472086906, 16.6343759174824, 20.1992778436025, 16.7534518853505, 16.3262298261801, 17.3878710186164, 19.0160387273312, 18.0787337418079, 16.3832811510245, 16.1312475518068, 17.3878710186164, 19.5042967434406, 15.1299568112373, 17.6366789277077, 24.3233433441003, 20.5117211357435, 18.6351309752146, 15.7544118757725, 15.6394065773169, 21.3867463087718, 18.2621249691327, 18.010823702383, 18.3868218417645, 18.0787337418079, 19.4466368273576, 15.3273832773844, 19.0755901769479, 15.7544118757725, 13.258734410572, 17.4495710110346, 20.6374167179743, 18.8272398109913, 19.8856634751638, 18.0787337418079, 16.074117151467, 15.7544118757725, 22.1943611518224, 20.6374167179743, 18.0787337418079, 20.0696192498684, 17.1945914681435, 14.1367392674764, 18.2621249691327, 19.1952003514449, 17.9428821340879, 18.0787337418079, 33.0753261760553, 18.3868218417645, 12.1322379346371, 15.1953631257693, 21.2610000010014, 21.1333783165296, 20.8847064431191, 16.942514925766, 17.9428821340879, 19.2592897947311, 13.5734909351349, 24.2578273113251, 19.3878434097449, 15.6970818257014, 18.7668556010405, 15.4427070672989, 18.8272398109913, 19.1952003514449, 21.0146775757949, 16.1312475518068, 12.6954864676476, 21.7615675504684, 17.9428821340879, 13.6397552505811, 20.5117211357435, 17.7597769017696, 13.755718542703, 18.5119970933278, 19.1364472086906, 19.1364472086906, 13.8219826018492, 17.068218910265, 14.947829367288, 19.1364472086906, 17.7597769017696, 19.8856634751638, 18.7668556010405, 19.6362096762339, 13.8219826018492, 20.3189699923674, 20.1349507764657, 16.5700603758971, 17.5106453772068, 17.3185208932241, 19.4466368273576, 18.5775535599073, 19.9435985521158, 18.6351309752146, 12.7617506599108, 20.4487852688313, 15.0140935595512, 19.0755901769479, 13.6977369006157, 18.7668556010405, 24.3822914099375, 19.2592897947311, 16.942514925766, 18.1957631841977, 22.3211468851248, 19.4466368273576, 19.8856634751638, 16.2611854688009, 19.5042967434406, 18.8272398109913, 15.7544118757725, 20.0696192498684, 14.0042104001522, 19.3878434097449, 13.8219826018492, 20.1992778436025, 19.3228563026269, 19.1364472086906, 19.5042967434406, 18.1375566339175, 20.0128573254426, 20.26129898386, 17.8844870523294, 16.1312475518068, 17.068218910265, 19.8218485251745, 16.5056300278187, 20.4487852688313, 19.8218485251745, 18.6931291854064, 15.0720749433517, 21.8186324770927, 15.8855400101026, 22.8818772113005, 14.8159502343019, 14.8159502343019, 18.9445386842569, 15.5736659522533, 17.5106453772068, 19.3228563026269, 20.5679557100614, 20.26129898386, 18.4452998772939, 20.3189699923674, 15.0140935595512, 19.9435985521158, 16.5700603758971, 18.1375566339175, 15.1299568112373, 18.3284182663441, 18.010823702383, 19.1952003514449, 15.385115144221, 18.2621249691327, 19.3878434097449, 20.764343968598, 17.8844870523294, 16.7534518853505, 20.3189699923674, 15.1953631257693, 20.26129898386, 20.6374167179743, 21.2000925755183, 16.8164789513429, 17.8265319184144, 20.4487852688313, 15.8198327179432, 15.2613862092972, 19.6362096762339, 18.2621249691327, 17.068218910265, 22.2642926350911, 19.5737146353404, 20.764343968598, 19.1364472086906, 19.6362096762339, 18.5119970933278, 24.3233433441003, 21.6402136838118, 19.6945794021765, 18.9445386842569, 21.5704525684992, 18.8272398109913, 18.6931291854064, 18.2621249691327, 15.6394065773169, 17.6366789277077, 20.0128573254426, 18.6931291854064, 20.764343968598, 15.7544118757725, 16.942514925766, 18.1957631841977, 19.9435985521158, 17.068218910265, 20.6940526441415, 16.6343759174824, 13.5734909351349, 15.8198327179432, 14.947829367288, 22.3211468851248, 22.7631282941182, 18.9445386842569, 20.0128573254426, 20.6940526441415, 19.8218485251745, 17.2566976443609, 18.010823702383, 21.9441933111032, 14.8159502343019, 17.2566976443609, 21.2000925755183, 16.8164789513429, 20.3189699923674, 13.5734909351349, 20.1992778436025, 18.5775535599073, 24.5124938861211, 21.5704525684992, 15.5736659522533, 19.2592897947311, 24.3233433441003, 17.2566976443609, 19.1952003514449, 19.0755901769479, 18.010823702383, 14.2030035769622, 8.5042572772185, 18.2621249691327, 17.1945914681435, 17.0055073515256, 21.8897603924751, 20.6940526441415, 15.1953631257693, 16.942514925766, 18.5775535599073, 21.0146775757949, 19.6945794021765, 18.2621249691327, 19.8218485251745, 19.2592897947311, 21.1333783165296, 21.1333783165296, 18.5775535599073, 19.0160387273312, 20.6940526441415, 19.7585523760001, 20.6374167179743, 16.7534518853505, 22.1404092764536, 14.385231142807, 19.3878434097449, 16.6343759174824, 16.5700603758971, 18.3284182663441, 20.9465231434186, 18.8272398109913, 19.4466368273576, 22.386297426192, 18.5775535599073, 13.0102425352414, 15.9511026676178, 17.068218910265, 10.0780389523188, 19.5042967434406, 14.385231142807, 16.6981861348629, 19.6945794021765, 18.9445386842569, 14.1367392674764, 18.4452998772939, 21.1333783165296, 15.1299568112373, 12.1322379346371, 24.3233433441003, 16.3262298261801, 33.8846684173425, 22.5724764183839, 17.068218910265, 16.5056300278187, 21.0667821184476, 22.8818772113005, 17.9428821340879, 14.0704744592984, 16.5700603758971, 19.3878434097449, 18.3868218417645, 14.6999871011257, 18.3284182663441, 16.8796146766027, 22.8258403356552, 14.8159502343019, 22.0141438022931, 18.5119970933278, 18.4452998772939, 14.2030035769622, 20.4487852688313, 20.6374167179743, 21.6945120012442, 19.6362096762339, 11.3204986091137, 15.2613862092972, 18.0787337418079, 14.947829367288, 17.9428821340879, 19.6362096762339, 20.6374167179743, 20.4487852688313, 16.0083362594922, 17.0055073515256, 17.8265319184144, 18.8867167170525, 22.449368192323, 20.0128573254426, 16.0083362594922, 18.010823702383, 16.074117151467, 16.5056300278187, 18.8867167170525, 16.0083362594922, 24.4487504179954, 33.6955119108836, 21.6402136838118, 17.9428821340879, 19.6362096762339, 21.0146775757949, 20.8179010526021, 14.947829367288, 14.5094772771676, 19.3228563026269, 20.0128573254426, 21.2000925755183, 22.449368192323, 24.6298199848016, 20.3844797924836, 16.8164789513429, 17.8844870523294, 19.9435985521158, 17.5106453772068, 16.1963082845688, 16.4488718266964, 17.5699597096125, 19.2592897947311, 20.4487852688313, 17.3878710186164, 18.1375566339175, 20.0128573254426, 18.8867167170525, 20.5117211357435, 19.0755901769479, 15.4427070672989, 21.2610000010014, 17.068218910265, 19.8218485251745, 20.6940526441415, 20.1349507764657, 14.2527022595882, 18.1957631841977, 19.8218485251745, 15.6970818257014, 20.1992778436025, 19.9435985521158, 20.1349507764657, 17.3185208932241, 19.6362096762339, 16.5056300278187, 17.9428821340879, 22.0141438022931, 20.8847064431191, 16.1963082845688, 21.6402136838118, 16.942514925766, 18.8272398109913, 19.6945794021765, 16.5700603758971, 17.068218910265, 19.9435985521158, 18.4452998772939, 19.8218485251745, 15.0720749433517, 18.5119970933278, 14.2030035769622, 17.5106453772068, 18.2621249691327, 18.8272398109913, 22.7021580751419, 14.8159502343019, 19.6362096762339, 14.8822148020744, 18.8272398109913, 19.1952003514449, 20.8179010526021, 20.6940526441415, 22.449368192323, 21.6945120012442, 19.0755901769479, 17.2566976443609, 22.386297426192, 17.6366789277077, 20.5117211357435, 16.942514925766, 18.3284182663441, 18.6351309752146, 18.7668556010405, 18.6351309752146, 17.2566976443609, 12.8777137175878, 17.5106453772068, 21.5704525684992, 19.0755901769479, 18.8867167170525, 17.5106453772068, 19.0755901769479, 19.4466368273576, 12.3807297920863, 16.3262298261801, 18.6351309752146, 18.0787337418079, 14.8822148020744, 20.4487852688313, 21.6945120012442, 17.5699597096125, 16.0083362594922, 16.6981861348629, 21.3198276932716, 18.4452998772939, 27.0095379666169, 18.6351309752146, 21.0146775757949, 19.3878434097449, 19.8856634751638, 22.3211468851248, 20.0128573254426, 16.7534518853505, 19.2592897947311, 18.4452998772939, 20.5117211357435, 12.6292216336409, 15.5083124931335, 22.0702138360024, 21.9441933111032, 16.1312475518068, 21.6402136838118, 20.1349507764657, 16.5056300278187, 17.068218910265, 20.6940526441415, 19.5737146353404, 17.4495710110346, 15.3273832773844, 22.0141438022931, 20.9465231434186, 18.5119970933278, 22.6334935104529, 20.1992778436025, 15.7544118757725, 18.6351309752146, 14.8159502343019, 18.1375566339175, 20.4487852688313, 22.3211468851248, 21.2000925755183, 24.5746387517134, 15.385115144221, 22.1404092764536, 16.8796146766027, 18.1957631841977, 20.8179010526021, 19.5042967434406, 17.8265319184144, 21.1333783165296, 20.0128573254426, 16.1963082845688, 19.2592897947311, 21.2610000010014, 14.0704744592984, 24.3822914099375, 17.7597769017696, 17.5699597096125, 20.1349507764657, 18.2621249691327, 19.0755901769479, 17.6366789277077, 15.0140935595512, 18.6931291854064, 22.386297426192, 18.6351309752146, 20.8179010526021, 19.2592897947311, 17.6366789277077, 17.8265319184144, 21.0146775757949, 18.6351309752146, 22.1404092764536, 16.3832811510245, 19.4466368273576, 20.3844797924836, 19.4466368273576, 17.3878710186164, 20.1992778436025, 20.4487852688313, 19.3228563026269, 18.1957631841977, 20.4487852688313, 19.1364472086906, 20.3189699923674, 15.5736659522533, 19.4466368273576, 16.6981861348629, 19.9435985521158, 17.1317640181065, 20.8847064431191, 16.6981861348629, 21.8897603924751, 15.2613862092972, 20.0128573254426, 17.4495710110346, 14.8159502343019, 19.2592897947311, 16.7534518853505, 21.0146775757949, 20.8847064431191, 19.5737146353404, 19.5737146353404, 16.5700603758971, 19.5042967434406, 21.2610000010014, 15.1953631257693, 22.1943611518224, 20.3844797924836, 19.6945794021765, 17.7597769017696, 21.6402136838118, 19.6362096762339, 21.0667821184476, 19.6362096762339, 18.1375566339175, 15.1299568112373, 19.8218485251745, 16.1312475518068, 20.26129898386, 18.8272398109913, 16.942514925766, 19.1952003514449, 13.3249992584864, 15.6394065773169, 20.5679557100614, 17.6366789277077, 17.068218910265, 17.1945914681435, 20.26129898386, 19.7585523760001, 21.6945120012442, 18.8867167170525, 17.8844870523294, 19.0755901769479, 21.8897603924751, 20.4487852688313, 16.2611854688009, 20.4487852688313, 18.0787337418079, 17.6976700102965, 17.1945914681435, 17.8844870523294, 18.4452998772939, 16.6981861348629, 15.0140935595512, 24.3822914099375, 21.1333783165296, 13.6977369006157, 17.3185208932241, 22.1404092764536, 17.6976700102965, 17.6976700102965, 20.8847064431191, 14.947829367288, 21.8897603924751, 15.5736659522533, 22.3211468851248, 21.2000925755183, 15.8198327179432, 17.1317640181065, 13.8882471259117, 33.0108936762492, 22.8818772113005, 22.0702138360024, 20.6940526441415, 20.8179010526021, 15.8198327179432, 17.2566976443609, 21.2610000010014, 14.7662517106215, 22.7631282941182, 16.3832811510245, 19.1364472086906, 21.5704525684992, 24.3233433441003, 19.8856634751638, 17.5106453772068, 18.0787337418079, 14.8822148020744, 17.6366789277077, 20.5679557100614, 19.8856634751638, 17.5699597096125, 19.1364472086906, 19.7585523760001, 17.2566976443609, 31.6295695598602, 14.7662517106215, 19.4466368273576, 16.7534518853505, 16.3262298261801, 21.8897603924751, 19.8218485251745, 20.1349507764657, 23.6402445768992, 21.0667821184476, 15.6394065773169, 22.0702138360024, 18.5119970933278, 20.26129898386, 21.0667821184476, 20.0696192498684, 20.3844797924836, 19.5737146353404, 14.0042104001522, 19.2592897947311, 17.6366789277077, 16.5056300278187, 20.3189699923674, 22.7631282941182, 20.1992778436025, 20.3189699923674, 15.6394065773169, 11.8837462679227, 20.5679557100614, 19.7585523760001, 18.0787337418079, 20.6374167179743, 23.6982258434772, 33.6955119108836, 17.5699597096125, 17.8844870523294, 20.6374167179743, 15.7544118757725, 20.8179010526021, 17.5106453772068, 19.6945794021765, 19.8856634751638, 22.9477005914529, 21.2000925755183, 17.6976700102965, 16.4488718266964, 20.8847064431191, 21.4468683914026, 17.3185208932241, 21.0667821184476, 21.0146775757949, 13.258734410572, 17.5699597096125, 20.8847064431191, 17.5106453772068, 19.6362096762339, 20.0128573254426, 20.5679557100614, 18.1375566339175, 21.5078179752509, 16.6981861348629, 12.1985025938034, 19.6945794021765, 16.3832811510245, 17.9428821340879, 18.8272398109913, 18.5119970933278, 18.1957631841977, 13.9545116936843, 21.2610000010014, 18.3868218417645, 18.5775535599073, 20.26129898386, 22.449368192323, 21.3867463087718, 19.7585523760001, 21.2000925755183, 19.2592897947311, 18.1957631841977, 22.5724764183839, 18.6931291854064, 12.0162753180345, 17.0055073515256, 21.2610000010014, 20.6374167179743, 21.6945120012442, 19.1952003514449, 19.9435985521158, 21.4468683914026, 22.7021580751419, 19.8856634751638, 14.8822148020744, 22.2642926350911, 33.8246124759992, 18.0787337418079, 17.1317640181065, 17.3185208932241, 15.5736659522533, 17.4495710110346, 20.8847064431191, 22.1404092764536, 20.1349507764657, 21.3867463087718, 20.1992778436025, 21.4468683914026, 23.441842517821, 17.8265319184144, 14.947829367288, 17.8844870523294, 18.6351309752146, 20.5679557100614, 18.0787337418079, 20.5679557100614, 15.4427070672989, 21.2000925755183, 18.5119970933278, 16.1312475518068, 16.1963082845688, 18.0787337418079, 19.7585523760001, 20.1992778436025, 17.1317640181065, 22.1404092764536, 18.3868218417645, 19.8856634751638, 14.8822148020744, 20.1992778436025, 20.0696192498684, 19.8856634751638, 19.0160387273312, 21.8897603924751, 22.2642926350911, 17.3185208932241, 20.8847064431191, 18.2621249691327, 20.6940526441415, 15.2613862092972, 11.3204986091137, 21.8186324770927, 20.764343968598, 19.6945794021765, 23.0773804859002, 20.4487852688313, 21.2610000010014, 22.0702138360024, 20.1992778436025, 18.8272398109913, 23.0773804859002, 19.6362096762339, 19.2592897947311, 12.3807297920863, 17.2566976443609, 22.2642926350911, 19.8856634751638, 21.0667821184476, 22.5724764183839, 18.6351309752146, 19.8856634751638, 19.4466368273576, 21.2610000010014, 18.6351309752146, 20.8179010526021, 20.6374167179743, 16.942514925766, 19.6945794021765, 21.0146775757949, 21.2610000010014, 20.5117211357435, 20.4487852688313, 18.3284182663441, 20.4487852688313, 14.1367392674764, 19.0755901769479, 22.386297426192, 19.1364472086906, 27.1967778340658, 21.3198276932716, 19.2592897947311, 14.2030035769622, 21.1333783165296, 22.9477005914529, 15.1299568112373, 17.8844870523294, 20.8179010526021, 20.6374167179743, 20.3844797924836, 21.8186324770927, 20.3844797924836, 20.3844797924836, 21.9441933111032, 23.0124160186132, 18.2621249691327, 19.8856634751638, 13.1344887848377, 20.3844797924836, 17.1317640181065, 22.7631282941182, 21.5078179752509, 14.947829367288, 20.0696192498684, 20.3844797924836, 19.2592897947311, 16.0083362594922, 21.5704525684992, 20.0128573254426, 18.5775535599073, 17.8844870523294, 22.6334935104529, 15.5736659522533, 20.6374167179743, 22.449368192323, 19.5042967434406, 17.7597769017696, 20.6374167179743, 19.3228563026269, 20.8847064431191, 17.6366789277077, 19.1364472086906, 21.5078179752509, 13.755718542703, 15.6394065773169, 22.1943611518224, 21.7615675504684, 19.6945794021765, 18.4452998772939, 20.1992778436025, 20.8179010526021, 18.8272398109913, 20.4487852688313, 20.8179010526021, 19.1364472086906, 23.0124160186132, 21.6402136838118, 22.8818772113005, 21.2000925755183, 18.5119970933278, 18.2621249691327, 20.26129898386, 18.5119970933278, 20.3189699923674, 20.5117211357435, 15.2613862092972, 16.6343759174824, 18.8272398109913, 23.1933420673688, 24.6298199848016, 12.4469946837107, 11.7595005269527, 20.0696192498684, 19.6945794021765, 19.5737146353404, 17.7597769017696, 18.1957631841977, 21.2000925755183, 20.5117211357435, 18.3868218417645, 21.4468683914026, 20.3189699923674, 20.764343968598, 18.9445386842569, 22.0702138360024, 14.8822148020744, 19.7585523760001, 20.8847064431191, 24.6298199848016, 20.6940526441415, 21.7615675504684, 20.6374167179743, 21.3198276932716, 20.1992778436025, 22.6334935104529, 19.0160387273312, 21.4468683914026, 23.1353605862141, 27.1967778340658, 20.26129898386, 18.9445386842569, 19.4466368273576, 22.386297426192, 16.3262298261801, 18.6931291854064, 21.7615675504684, 13.1924702342033, 20.8847064431191, 18.1957631841977, 22.2642926350911, 18.8867167170525, 21.5078179752509, 15.1953631257693, 22.5129782016754, 19.6362096762339, 22.0141438022931, 22.3211468851248, 22.1404092764536, 19.6945794021765, 22.8258403356552, 22.0702138360024, 21.4468683914026, 21.2000925755183, 16.5056300278187, 20.6374167179743, 19.6945794021765, 16.6981861348629, 20.0128573254426, 18.6931291854064, 20.0128573254426, 22.1943611518224, 14.2030035769622, 20.1349507764657, 21.2000925755183, 16.2611854688009, 19.4466368273576, 21.8186324770927, 21.3198276932716, 20.4487852688313, 21.2610000010014, 22.386297426192, 20.3844797924836, 22.8258403356552, 17.1317640181065, 16.1312475518068, 14.2527022595882, 22.8258403356552, 16.3832811510245, 13.4409619009177, 18.2621249691327, 17.5106453772068, 19.8856634751638, 19.5042967434406, 19.3228563026269, 18.9445386842569, 22.1943611518224, 22.7631282941182, 14.8822148020744, 22.1943611518224, 22.5724764183839, 17.068218910265, 19.8218485251745, 19.6945794021765, 19.8218485251745, 18.2621249691327, 23.3258798436006, 16.5700603758971, 19.0160387273312, 20.8847064431191, 22.5129782016754, 23.0124160186132, 20.0696192498684, 15.0720749433517, 22.0702138360024, 21.6945120012442, 21.2000925755183, 20.0128573254426, 22.2642926350911, 6.88077717777888, 21.7615675504684, 21.3867463087718, 33.0108936762492, 17.1317640181065, 20.5117211357435, 17.8844870523294, 20.9465231434186, 15.5736659522533, 19.3878434097449, 20.3189699923674, 22.5129782016754, 15.9511026676178, 22.9477005914529, 22.5129782016754, 24.3822914099375, 19.5042967434406, 21.7615675504684, 18.5775535599073, 20.3189699923674, 20.5117211357435, 14.6999871011257, 17.6366789277077, 19.9435985521158, 19.8856634751638, 22.2642926350911, 17.5106453772068, 18.0787337418079, 18.010823702383, 21.9441933111032, 16.4488718266964, 15.9511026676178, 22.7631282941182, 21.2610000010014, 21.3198276932716, 22.6334935104529, 13.6397552505811, 21.2610000010014, 23.6982258434772, 19.3878434097449, 21.7615675504684, 20.3844797924836, 21.5704525684992, 21.0667821184476, 17.9428821340879, 15.6394065773169, 22.0702138360024, 15.0140935595512, 16.5700603758971, 17.6366789277077, 17.0055073515256, 21.5078179752509, 23.0773804859002, 21.4468683914026, 22.386297426192, 22.0702138360024, 16.6343759174824, 20.5117211357435, 17.3878710186164, 12.3807297920863, 19.6945794021765, 20.6374167179743, 15.7544118757725, 20.0696192498684, 15.4427070672989, 15.6394065773169, 10.7572498436451, 14.2527022595882, 20.3189699923674, 21.2610000010014, 21.8186324770927, 19.9435985521158, 23.6402445768992, 20.3844797924836, 20.6374167179743, 12.8777137175878, 18.8272398109913, 18.8867167170525, 21.4468683914026, 20.6374167179743, 20.3189699923674, 22.449368192323, 21.2610000010014, 20.1992778436025, 22.3211468851248, 20.764343968598, 21.4468683914026, 20.8847064431191, 19.1952003514449, 20.764343968598, 21.7615675504684, 22.7021580751419, 17.3185208932241, 19.0755901769479, 17.9428821340879, 23.8224714016596, 19.1364472086906, 19.8218485251745, 19.1952003514449, 13.3912633673032, 18.6351309752146, 23.0773804859002, 20.26129898386, 22.1943611518224, 22.386297426192, 18.4452998772939, 22.3211468851248, 17.3878710186164, 22.1404092764536, 21.4468683914026, 20.8847064431191, 21.0146775757949, 20.1349507764657, 20.1992778436025, 23.0773804859002, 19.1952003514449, 21.5704525684992, 22.3211468851248, 14.7662517106215, 15.6394065773169, 19.3228563026269, 20.8179010526021, 20.4487852688313, 18.2621249691327, 17.3185208932241, 21.0146775757949, 16.3262298261801, 17.7597769017696, 22.1943611518224, 19.0160387273312, 22.6334935104529, 17.8265319184144, 19.1952003514449, 21.3198276932716, 21.5704525684992, 17.4495710110346, 21.8897603924751, 22.7631282941182, 23.3258798436006, 20.26129898386, 19.1364472086906, 20.6374167179743, 21.8186324770927, 22.386297426192, 19.8856634751638, 21.2610000010014, 23.3921441272577, 19.8218485251745, 22.7631282941182, 23.0773804859002, 19.4466368273576, 21.0146775757949, 22.386297426192, 16.4488718266964, 20.6940526441415, 22.2642926350911, 11.2542337770939, 22.1943611518224, 17.9428821340879, 22.7631282941182, 21.3867463087718, 14.947829367288, 22.8258403356552, 21.8897603924751, 14.385231142807, 21.6945120012442, 18.6351309752146, 22.9477005914529, 17.5699597096125, 23.2596149678707, 21.5704525684992, 14.8159502343019, 20.1349507764657, 18.9445386842569, 22.1404092764536, 20.764343968598, 20.1992778436025, 22.5724764183839, 22.0702138360024, 21.1333783165296, 21.6402136838118, 15.6394065773169, 16.074117151467, 20.5679557100614, 15.0140935595512, 18.5775535599073, 21.6945120012442, 20.3189699923674, 15.1953631257693, 14.6999871011257, 19.9435985521158, 19.0755901769479, 22.1943611518224, 21.2610000010014, 14.0042104001522, 21.3198276932716, 17.6976700102965, 17.068218910265, 23.3258798436006, 20.764343968598, 23.1933420673688, 21.8186324770927, 15.3273832773844, 19.8218485251745, 17.3878710186164, 17.3185208932241, 21.9441933111032, 22.7021580751419, 22.2642926350911, 18.1957631841977, 22.3211468851248, 18.9445386842569, 17.9428821340879, 18.6351309752146, 20.26129898386, 23.3921441272577, 18.8272398109913, 20.6940526441415, 15.1953631257693, 21.0667821184476, 20.1992778436025, 21.7615675504684, 21.5704525684992, 18.8867167170525, 22.3211468851248, 22.5129782016754, 21.6402136838118, 20.6940526441415, 20.6374167179743, 20.0696192498684, 16.4488718266964, 20.0696192498684, 16.8164789513429, 19.2592897947311, 22.7021580751419, 18.5775535599073, 21.0667821184476, 21.0146775757949, 21.2610000010014, 14.0704744592984, 22.2642926350911, 21.9441933111032, 23.3921441272577, 21.9441933111032, 20.6940526441415, 15.8855400101026, 19.3878434097449, 20.3189699923674, 20.1992778436025, 20.8179010526021, 21.3867463087718, 16.4488718266964, 21.0146775757949, 19.1952003514449, 14.8159502343019, 19.5737146353404, 19.9435985521158, 23.0773804859002, 15.6970818257014, 22.5129782016754, 22.8258403356552, 16.6981861348629, 21.0146775757949, 22.0702138360024, 18.5775535599073, 18.010823702383, 21.8186324770927, 20.6940526441415, 20.1992778436025, 22.1404092764536, 22.449368192323, 22.9477005914529, 21.8186324770927, 20.3844797924836, 23.7562070425034, 21.7615675504684, 22.0141438022931, 15.8198327179432, 22.0141438022931, 20.764343968598, 21.5704525684992, 21.3867463087718, 19.3228563026269, 20.6374167179743, 18.010823702383, 22.6334935104529, 16.6981861348629, 17.8265319184144, 22.386297426192, 22.1404092764536, 15.1299568112373, 20.1992778436025, 21.9441933111032, 20.3189699923674, 21.0667821184476, 15.1953631257693, 22.1943611518224, 18.1957631841977, 22.8258403356552, 19.0755901769479, 21.5704525684992, 16.8164789513429, 22.5724764183839, 23.1933420673688, 22.9477005914529, 19.0755901769479, 19.4466368273576, 24.6959181840897, 21.0146775757949, 22.0141438022931, 20.26129898386, 22.386297426192, 23.1353605862141, 19.8218485251745, 22.0702138360024, 23.6982258434772, 34.4459878678799, 23.0773804859002, 22.9477005914529, 19.8218485251745, 18.5775535599073, 19.6362096762339, 21.0146775757949, 17.4495710110346, 17.3878710186164, 18.2621249691327, 20.6940526441415, 20.8847064431191, 20.3844797924836, 21.8897603924751, 18.1957631841977, 16.5056300278187, 19.5737146353404, 22.0702138360024, 21.7615675504684, 16.3262298261801, 15.7544118757725, 21.7615675504684, 14.5094772771676, 18.5119970933278, 23.1933420673688, 21.7615675504684, 14.3189666008631, 21.5078179752509, 17.0055073515256, 16.4488718266964, 14.4514954344114, 21.4468683914026, 13.6977369006157, 19.0160387273312, 21.7615675504684, 20.3189699923674, 16.4488718266964, 22.7021580751419, 22.449368192323, 21.9441933111032, 19.1364472086906, 14.4514954344114, 15.7544118757725, 17.3185208932241, 15.5083124931335, 21.2000925755183, 5.63831796801885, 17.5699597096125, 22.386297426192, 21.8897603924751, 22.5129782016754, 21.8897603924751, 20.1349507764657, 18.5775535599073, 17.068218910265, 19.0755901769479, 22.0702138360024, 22.2642926350911, 14.947829367288, 20.8179010526021, 22.9477005914529, 18.8272398109913, 22.8258403356552, 18.5119970933278, 15.2613862092972, 21.7615675504684, 20.3844797924836, 22.3211468851248, 22.3211468851248, 23.1933420673688, 18.8272398109913, 14.2527022595882, 19.1952003514449, 22.6334935104529, 14.8159502343019, 22.386297426192, 19.6362096762339, 16.5056300278187, 22.3211468851248, 19.4466368273576, 20.5679557100614, 21.1333783165296, 17.9428821340879, 22.5724764183839, 17.7597769017696, 22.386297426192, 21.0146775757949, 22.8818772113005, 19.0160387273312, 17.3878710186164, 17.068218910265, 20.1349507764657, 18.1957631841977, 17.1317640181065, 19.4466368273576, 22.386297426192, 22.5724764183839, 16.3262298261801, 17.8265319184144, 19.1952003514449, 22.5724764183839, 22.0702138360024, 19.6945794021765, 21.0667821184476, 16.5700603758971, 23.1933420673688, 20.0128573254426, 17.7597769017696, 17.2566976443609, 20.3844797924836, 17.068218910265, 23.1933420673688, 21.6945120012442, 22.5724764183839, 21.0667821184476, 20.6940526441415, 19.2592897947311, 15.5083124931335, 20.9465231434186, 23.5743799423853, 20.6940526441415, 20.5117211357435, 22.8818772113005, 16.942514925766, 14.6999871011257, 20.26129898386, 22.386297426192, 20.3844797924836, 19.9435985521158, 22.0141438022931, 20.26129898386, 15.6970818257014, 23.0773804859002, 23.1353605862141, 21.5078179752509, 21.5704525684992, 19.8856634751638, 17.6976700102965, 22.8258403356552, 22.8818772113005, 21.3198276932716, 22.2642926350911, 19.2592897947311, 23.8224714016596, 21.3867463087718, 22.7631282941182, 10.9477603172938, 17.6366789277077, 23.1353605862141, 17.3878710186164, 16.1963082845688, 22.7021580751419, 18.1375566339175, 21.9441933111032, 22.1404092764536, 23.0773804859002, 20.1992778436025, 22.3211468851248, 19.3878434097449, 21.1333783165296, 24.6959181840897, 19.5042967434406, 22.8258403356552, 21.4468683914026, 22.3211468851248, 15.1953631257693, 21.3867463087718, 20.4487852688313, 22.6334935104529, 23.3921441272577, 21.9441933111032, 21.8897603924751, 20.764343968598, 20.6374167179743, 21.5704525684992, 15.6970818257014, 17.7597769017696, 21.5078179752509, 18.010823702383, 22.386297426192, 19.0755901769479, 15.0720749433517, 15.6394065773169, 20.0696192498684, 22.386297426192, 18.8867167170525, 22.0141438022931, 21.8186324770927, 23.1933420673688, 17.6976700102965, 20.8847064431191, 19.5042967434406, 20.9465231434186, 22.5724764183839, 22.9477005914529, 22.7631282941182, 15.0140935595512, 21.0146775757949, 22.3211468851248, 21.9441933111032, 19.8218485251745, 20.8847064431191, 20.1349507764657, 23.6402445768992, 20.4487852688313, 18.2621249691327, 20.3844797924836, 17.0055073515256, 19.1364472086906, 20.1992778436025, 18.8867167170525, 23.3258798436006, 22.1943611518224, 20.0696192498684, 20.4487852688313, 18.9445386842569, 20.6940526441415, 21.6402136838118, 19.4466368273576, 21.2000925755183, 19.1364472086906, 23.0773804859002, 15.1953631257693, 20.8847064431191, 18.3868218417645, 20.26129898386, 18.7668556010405, 20.9465231434186, 22.449368192323, 22.6334935104529, 21.3867463087718, 22.2642926350911, 22.3211468851248, 16.4488718266964, 19.7585523760001, 20.6940526441415, 22.449368192323, 21.2610000010014, 17.8265319184144, 22.3211468851248, 22.386297426192, 15.8198327179432, 22.5129782016754, 21.9441933111032, 22.1943611518224, 19.5042967434406, 21.0667821184476, 21.0667821184476, 23.1933420673688, 19.7585523760001, 21.8186324770927, 22.0141438022931, 22.5129782016754, 22.1943611518224, 11.9500107681433, 22.8818772113005, 22.7631282941182, 18.4452998772939, 21.6402136838118, 18.6351309752146, 15.5083124931335, 22.3211468851248, 21.9441933111032, 22.9477005914529, 22.6334935104529, 22.0702138360024, 19.4466368273576, 22.8818772113005, 17.068218910265, 18.8867167170525, 20.5117211357435, 18.8867167170525, 23.8224714016596, 21.8897603924751, 18.9445386842569, 19.4466368273576, 21.6402136838118, 23.1353605862141, 23.1353605862141, 16.3832811510245, 19.3228563026269, 21.9441933111032, 21.3198276932716, 22.7021580751419, 22.5129782016754, 22.3211468851248, 21.7615675504684, 22.0702138360024, 18.3868218417645, 21.7615675504684, 20.0696192498684, 20.8179010526021, 22.7021580751419, 21.7615675504684, 22.8258403356552, 22.8818772113005, 22.1943611518224, 22.3211468851248, 16.942514925766, 17.3185208932241, 19.7585523760001, 22.8258403356552, 21.1333783165296, 20.9465231434186, 15.2613862092972, 19.7585523760001, 19.3228563026269, 20.3844797924836, 22.8818772113005, 22.0141438022931, 17.9428821340879, 22.386297426192, 19.6362096762339, 16.3832811510245, 17.4495710110346, 20.0696192498684, 22.5129782016754, 22.5129782016754, 22.5724764183839, 23.441842517821, 22.7021580751419, 21.5078179752509, 16.942514925766, 22.9477005914529, 23.1353605862141, 15.3273832773844, 15.8855400101026, 18.010823702383, 22.3211468851248, 14.7662517106215, 23.6982258434772, 18.3868218417645, 23.0124160186132, 22.3211468851248, 13.5734909351349, 22.5129782016754, 23.0773804859002, 22.5129782016754, 19.3228563026269, 20.4487852688313, 22.3211468851248, 21.6402136838118, 15.5083124931335, 19.2592897947311, 19.2592897947311, 18.2621249691327, 23.2596149678707, 20.764343968598, 21.6945120012442, 23.1933420673688, 14.0042104001522, 23.6982258434772, 21.8186324770927, 16.8796146766027, 21.0146775757949, 22.7021580751419, 18.4452998772939, 23.1353605862141, 22.449368192323, 20.1992778436025, 14.6999871011257, 19.9435985521158, 22.9477005914529, 20.8179010526021, 22.449368192323, 21.1333783165296, 21.5078179752509, 17.1317640181065, 17.3185208932241, 20.3189699923674, 22.7021580751419, 18.2621249691327, 23.1933420673688, 22.449368192323, 22.7021580751419, 21.6402136838118, 18.9445386842569, 30.2670495346864, 19.2592897947311, 22.8818772113005, 22.1404092764536, 22.449368192323, 22.386297426192, 18.4452998772939, 20.5117211357435, 21.8186324770927, 17.8265319184144, 22.7021580751419, 21.3198276932716, 21.1333783165296, 22.7631282941182, 24.5124938861211, 21.9441933111032, 15.3273832773844, 17.9428821340879, 13.8219826018492, 23.0773804859002, 15.385115144221, 18.2621249691327, 22.3211468851248, 13.9545116936843, 19.5042967434406, 22.0141438022931, 22.5129782016754, 22.386297426192, 22.2642926350911, 23.6402445768992, 19.3228563026269, 21.5078179752509, 24.4487504179954, 22.386297426192, 20.0696192498684, 18.1375566339175, 19.8218485251745, 21.3198276932716, 20.26129898386, 19.1364472086906, 20.8847064431191, 23.0124160186132, 22.0141438022931, 23.1933420673688, 22.5724764183839, 23.0124160186132, 23.0773804859002, 20.6940526441415, 23.0773804859002, 19.7585523760001, 20.8847064431191, 22.5724764183839, 23.0124160186132, 18.8867167170525, 21.3867463087718, 17.4495710110346, 17.6366789277077, 21.6945120012442, 22.7631282941182, 21.3867463087718, 20.6940526441415, 17.6976700102965, 22.3211468851248, 11.8174816763083, 22.2642926350911, 16.8796146766027, 17.8265319184144, 13.3249992584864, 21.8186324770927, 14.6337228095214, 22.7631282941182, 33.5126235182762, 22.7021580751419, 20.1349507764657, 21.5078179752509, 22.5129782016754, 22.1943611518224, 20.764343968598, 22.7021580751419, 16.5700603758971, 22.7021580751419, 23.5081149593671, 22.9477005914529, 23.1933420673688, 22.7631282941182, 22.5724764183839, 22.0702138360024, 21.8897603924751, 22.1404092764536, 20.8847064431191, 11.5689902678808, 22.0141438022931, 21.6945120012442, 22.2642926350911, 22.0141438022931, 13.8882471259117, 23.1933420673688, 20.26129898386, 14.0042104001522, 22.5724764183839, 22.386297426192, 18.4452998772939, 19.6945794021765, 19.4466368273576, 23.6402445768992, 13.3912633673032, 15.6394065773169, 21.9441933111032, 23.0124160186132, 20.0696192498684, 15.6394065773169, 22.5724764183839, 20.26129898386, 20.4487852688313, 19.2592897947311, 20.0128573254426, 21.8186324770927, 22.6334935104529, 16.6343759174824, 18.1375566339175, 17.5699597096125, 22.449368192323, 22.8258403356552, 23.3258798436006, 22.386297426192, 20.3189699923674, 21.0146775757949, 18.3868218417645, 21.8897603924751, 21.6402136838118, 22.386297426192, 19.3228563026269, 22.9477005914529, 21.5704525684992, 19.9435985521158, 18.6351309752146, 23.5081149593671, 22.5129782016754, 18.8272398109913, 20.8847064431191, 23.5081149593671, 21.5078179752509, 20.5117211357435, 17.5699597096125, 22.3211468851248, 17.8844870523294, 23.7562070425034, 22.386297426192, 13.3249992584864, 20.6940526441415, 14.7662517106215, 21.6945120012442, 20.5117211357435, 18.3284182663441, 22.0141438022931, 23.6982258434772, 21.5078179752509, 19.8218485251745, 15.385115144221, 19.4466368273576, 23.3921441272577, 14.947829367288, 22.7021580751419, 18.9445386842569, 19.9435985521158, 23.0773804859002, 22.5129782016754, 22.7021580751419, 18.2621249691327, 16.074117151467, 18.8272398109913, 21.5704525684992, 22.6334935104529, 21.5078179752509, 18.3868218417645, 21.2610000010014, 23.7562070425034, 8.75274970289866, 23.2596149678707, 14.2527022595882, 22.5724764183839, 22.8258403356552, 22.8258403356552, 22.0141438022931, 23.441842517821, 18.1957631841977, 22.7631282941182, 20.9465231434186, 17.6976700102965, 22.1943611518224, 21.9441933111032, 15.7544118757725, 19.6945794021765, 20.5679557100614, 22.5724764183839, 14.2527022595882, 14.7662517106215, 20.5679557100614, 23.3258798436006, 22.2642926350911, 21.2000925755183, 21.1333783165296, 23.7562070425034, 20.5679557100614, 23.0124160186132, 15.5083124931335, 13.0765075162729, 21.7615675504684, 22.7631282941182, 16.3262298261801, 18.6931291854064, 21.2610000010014, 20.0128573254426, 20.764343968598, 17.9428821340879, 22.2642926350911, 23.5743799423853, 22.7631282941182, 22.9477005914529, 21.6945120012442, 22.8818772113005, 15.2613862092972, 17.068218910265, 16.942514925766, 21.6945120012442, 21.1333783165296, 21.8186324770927, 21.1333783165296, 18.9445386842569, 22.5129782016754, 23.3258798436006, 20.6374167179743, 23.5081149593671, 19.5737146353404, 20.5117211357435, 22.1404092764536, 20.764343968598, 18.010823702383, 14.8822148020744, 21.9441933111032, 19.5737146353404, 21.0146775757949, 19.2592897947311, 23.5743799423853, 22.7021580751419, 22.5724764183839, 21.7615675504684, 22.386297426192, 22.6334935104529, 20.4487852688313, 18.3284182663441, 20.1349507764657, 21.3198276932716, 23.3921441272577, 20.5117211357435, 22.0141438022931, 22.9477005914529, 20.6940526441415, 22.2642926350911, 21.8897603924751, 16.4488718266964, 19.6362096762339, 19.2592897947311, 22.2642926350911, 21.0667821184476, 22.7021580751419, 23.3258798436006, 21.5704525684992, 21.0146775757949, 21.5704525684992, 21.9441933111032, 15.5083124931335, 16.8796146766027, 22.449368192323, 23.6982258434772, 13.755718542703, 23.0124160186132, 23.1933420673688, 21.0667821184476, 17.3185208932241, 21.9441933111032, 22.386297426192, 22.9477005914529, 22.0702138360024, 22.9477005914529, 23.3921441272577, 22.7021580751419, 22.1404092764536, 19.2592897947311, 22.5129782016754, 22.3211468851248, 22.2642926350911, 23.3258798436006, 17.3878710186164, 19.4466368273576, 23.1353605862141, 19.5042967434406, 22.449368192323, 13.0765075162729, 23.2596149678707, 18.1375566339175, 22.9477005914529, 21.6402136838118, 23.7562070425034, 21.4468683914026, 23.1933420673688, 23.0773804859002, 21.0667821184476, 23.7562070425034, 23.1933420673688, 23.2596149678707, 20.8179010526021, 16.5056300278187, 23.441842517821, 22.9477005914529, 16.3262298261801, 22.449368192323, 22.449368192323, 22.386297426192, 20.3189699923674, 19.7585523760001, 19.3228563026269, 18.3284182663441, 23.7562070425034, 23.3258798436006, 14.7662517106215, 22.8818772113005, 16.6981861348629, 20.6374167179743, 23.3921441272577, 14.0704744592984, 21.8897603924751, 21.0146775757949, 22.7021580751419, 15.9511026676178, 23.1933420673688, 23.8224714016596, 21.6402136838118, 22.3211468851248, 20.764343968598, 23.2596149678707, 19.0160387273312, 22.7631282941182, 19.3878434097449, 22.6334935104529, 23.7562070425034, 22.9477005914529, 22.1404092764536, 20.8847064431191, 23.8224714016596, 29.6975507175604, 22.5129782016754, 21.5704525684992, 20.6374167179743, 18.1957631841977, 23.441842517821, 21.1333783165296, 12.7617506599108, 22.8818772113005, 22.6334935104529, 12.6292216336409, 21.5078179752509, 21.7615675504684, 22.8258403356552, 19.1364472086906, 22.449368192323, 21.4468683914026, 22.386297426192, 19.3228563026269, 16.8164789513429, 23.3921441272577, 23.0773804859002, 24.3233433441003, 18.5119970933278, 18.5775535599073, 17.5699597096125, 20.8179010526021, 22.7631282941182, 23.7562070425034, 21.6402136838118, 19.6945794021765, 14.8822148020744, 22.449368192323, 18.5119970933278, 22.7631282941182, 18.8867167170525, 21.8897603924751, 21.0667821184476, 18.2621249691327, 20.0128573254426, 23.0773804859002, 14.2527022595882, 22.8258403356552, 22.6334935104529, 17.0055073515256, 23.5081149593671, 22.8258403356552, 22.1404092764536, 22.1404092764536, 15.6970818257014, 18.3868218417645, 23.1933420673688, 22.5129782016754, 15.6970818257014, 21.6402136838118, 20.1349507764657, 21.8186324770927, 21.6402136838118, 23.0773804859002, 11.8837462679227, 22.386297426192, 18.8272398109913, 24.3233433441003, 28.0713489170551, 22.9477005914529, 23.441842517821, 20.4487852688313, 23.6982258434772, 19.6945794021765, 22.7631282941182, 23.5743799423853, 18.7668556010405, 18.3868218417645, 23.1353605862141, 22.386297426192, 21.0667821184476, 16.6343759174824, 21.2610000010014, 23.2596149678707, 22.7631282941182, 21.0667821184476, 16.1312475518068, 22.6334935104529, 20.8179010526021, 13.4409619009177, 18.0787337418079, 19.5737146353404, 12.0659740086079, 15.385115144221, 16.5056300278187, 23.1933420673688, 22.5724764183839, 18.8867167170525, 21.1333783165296, 18.7668556010405, 18.4452998772939, 12.8280155912717, 13.0102425352414, 22.1404092764536, 20.26129898386, 17.2566976443609, 17.8265319184144, 22.6334935104529, 31.4478498335362, 19.1952003514449, 23.3921441272577, 20.764343968598, 23.0124160186132, 21.5078179752509, 19.8856634751638, 23.3921441272577, 22.7021580751419, 17.2566976443609, 17.5106453772068, 21.3867463087718, 22.8818772113005, 15.8855400101026, 22.6334935104529, 22.0702138360024, 20.0128573254426, 22.9477005914529, 22.1404092764536, 21.2610000010014, 22.9477005914529, 21.9441933111032, 23.6402445768992, 23.3921441272577, 20.3189699923674, 20.1992778436025, 19.5737146353404, 18.0787337418079, 23.441842517821, 21.8186324770927, 21.5078179752509, 22.386297426192, 23.0773804859002, 16.0083362594922, 23.6982258434772, 23.2596149678707, 21.8897603924751, 19.2592897947311, 23.2596149678707, 23.441842517821, 23.6402445768992, 22.449368192323, 22.8818772113005, 18.1375566339175, 22.8258403356552, 22.9477005914529, 20.8847064431191, 23.0773804859002, 21.9441933111032, 21.2000925755183, 11.0057418779214, 23.2596149678707, 21.1333783165296, 23.7562070425034, 22.6334935104529, 22.5724764183839, 18.3868218417645, 22.386297426192, 21.0146775757949, 20.6940526441415, 23.7562070425034, 20.26129898386, 22.0702138360024, 23.5081149593671, 21.8186324770927, 22.8818772113005, 22.1943611518224, 17.8265319184144, 19.9435985521158, 20.3844797924836, 22.5724764183839, 23.1933420673688, 22.5129782016754, 23.6402445768992, 23.1933420673688, 19.1364472086906, 22.9477005914529, 22.386297426192, 23.6982258434772, 22.8258403356552, 22.7021580751419, 23.6402445768992, 22.7021580751419, 22.3211468851248, 20.26129898386, 22.5129782016754, 17.1945914681435, 19.6945794021765, 14.6337228095214, 21.8186324770927, 24.004298976628, 23.7562070425034, 22.386297426192, 22.386297426192, 23.441842517821, 20.3844797924836, 18.6351309752146, 17.7597769017696, 12.322749185133, 13.6397552505811, 16.5056300278187, 19.1364472086906, 13.5072262859027, 20.764343968598, 17.5699597096125, 14.7662517106215, 17.5106453772068, 23.8883360441208, 21.4468683914026, 22.2642926350911, 19.5042967434406, 22.7021580751419, 14.0042104001522, 17.2566976443609, 23.441842517821, 20.4487852688313, 18.8867167170525, 18.6351309752146, 22.8818772113005, 16.5056300278187, 22.6334935104529, 22.3211468851248, 21.6945120012442, 21.6402136838118, 19.9435985521158, 19.5737146353404, 17.7597769017696, 14.6999871011257, 19.0160387273312, 22.1404092764536, 23.3258798436006, 22.2642926350911, 23.6982258434772, 22.386297426192, 22.386297426192, 21.0667821184476, 22.6334935104529, 21.0667821184476, 22.7021580751419, 21.8897603924751, 20.8847064431191, 21.6945120012442, 19.0755901769479, 23.441842517821, 21.8897603924751, 21.6945120012442, 20.5679557100614, 23.2596149678707, 22.1943611518224, 23.2596149678707, 22.6334935104529, 20.1349507764657, 14.947829367288, 22.8818772113005, 19.7585523760001, 21.2610000010014, 22.7631282941182, 23.6982258434772, 17.3185208932241, 18.8867167170525, 21.2000925755183, 23.6402445768992, 20.4487852688313, 22.1404092764536, 23.1353605862141, 22.5724764183839, 23.1933420673688, 21.3198276932716, 22.449368192323, 23.0773804859002, 23.6982258434772, 23.5081149593671, 23.1353605862141, 22.1404092764536, 23.0773804859002, 22.5129782016754, 23.0773804859002, 23.3921441272577, 22.8258403356552, 20.6374167179743, 20.5117211357435, 32.1964515681744, 22.1943611518224, 11.4530272777557, 22.7631282941182, 22.9477005914529, 19.1952003514449, 24.3233433441003, 23.0773804859002, 22.8818772113005, 21.8897603924751, 23.5081149593671, 21.4468683914026, 23.1933420673688, 23.7562070425034, 21.6402136838118, 23.1353605862141, 23.6402445768992, 23.6402445768992, 19.8856634751638, 23.0124160186132, 16.6343759174824, 22.1943611518224, 24.9427681759675, 23.8883360441208, 23.441842517821, 14.5094772771676, 15.6970818257014, 16.2611854688009, 22.3211468851248, 21.7615675504684, 21.7615675504684, 22.5724764183839, 20.764343968598, 20.6940526441415, 22.8818772113005, 23.5743799423853, 22.449368192323, 23.1933420673688, 22.5129782016754, 21.7615675504684, 22.8258403356552, 23.3921441272577, 21.9441933111032, 21.8186324770927, 21.7615675504684, 19.6362096762339, 21.3198276932716, 22.2642926350911, 22.2642926350911, 21.8186324770927, 28.5680828944524, 21.4468683914026, 21.8897603924751, 22.2642926350911, 21.3198276932716, 18.2621249691327, 20.6940526441415, 12.8280155912717, 23.0773804859002, 22.7021580751419, 22.0141438022931, 18.2621249691327, 23.9546006516298, 22.0702138360024, 23.5081149593671, 15.7544118757725, 23.1353605862141, 23.1353605862141, 19.2592897947311, 11.3204986091137, 23.3258798436006, 23.1353605862141, 22.449368192323, 23.1353605862141, 22.386297426192, 23.9546006516298, 23.2596149678707, 23.1933420673688, 14.8822148020744, 17.2566976443609, 23.2596149678707, 23.0124160186132, 16.3832811510245, 22.8818772113005, 19.7585523760001, 19.7585523760001, 22.5724764183839, 22.386297426192, 17.1317640181065, 12.1322379346371, 22.5129782016754, 23.6402445768992, 17.3185208932241, 22.1404092764536, 23.9546006516298, 21.9441933111032, 22.1943611518224, 18.8867167170525, 19.9435985521158, 13.755718542703, 23.1933420673688, 22.5129782016754, 22.8258403356552, 22.3211468851248, 20.3189699923674, 15.8855400101026, 18.6931291854064, 22.9477005914529, 22.3211468851248, 20.4487852688313, 22.7631282941182, 19.5042967434406, 22.3211468851248, 19.5737146353404, 23.3921441272577, 21.8186324770927, 17.2566976443609, 22.7631282941182, 23.2596149678707, 22.7021580751419, 23.441842517821, 20.3189699923674, 22.8818772113005, 22.0702138360024, 23.7562070425034, 21.2610000010014, 16.6981861348629, 22.449368192323, 23.1353605862141, 20.4487852688313, 23.8883360441208, 21.4468683914026, 16.5700603758971, 19.7585523760001, 14.2030035769622, 21.8186324770927, 22.7021580751419, 22.5129782016754, 15.9511026676178, 16.074117151467, 23.3258798436006, 23.1353605862141, 22.6334935104529, 22.0141438022931, 19.5737146353404, 22.1404092764536, 18.8867167170525, 19.4466368273576, 22.449368192323, 22.6334935104529, 13.5734909351349, 16.5700603758971, 17.5106453772068, 23.1353605862141, 19.3878434097449, 21.9441933111032, 16.0083362594922, 18.1375566339175, 22.8258403356552, 16.5700603758971, 19.3228563026269, 22.6334935104529, 21.5704525684992, 28.1373638665358, 22.1943611518224, 20.6374167179743, 17.3878710186164, 17.8265319184144, 23.441842517821, 23.5743799423853, 19.9435985521158, 23.441842517821, 22.1943611518224, 23.0124160186132, 23.3258798436006, 22.3211468851248, 22.386297426192, 19.5737146353404, 15.5083124931335, 14.6999871011257, 23.7562070425034, 22.6334935104529, 20.26129898386, 16.6343759174824, 14.947829367288, 12.2647670920372, 22.3211468851248, 19.4466368273576, 21.6402136838118, 23.441842517821, 19.0755901769479, 23.5081149593671, 22.449368192323, 14.6337228095214, 20.3844797924836, 23.0773804859002, 22.6334935104529, 21.8186324770927, 23.9546006516298, 23.441842517821, 16.6343759174824, 19.0160387273312, 22.386297426192, 22.8818772113005, 23.0124160186132, 23.5743799423853, 22.8818772113005, 23.5081149593671, 22.0141438022931, 22.0702138360024, 20.0128573254426, 22.1404092764536, 22.8818772113005, 19.6362096762339, 22.6334935104529, 21.9441933111032, 22.1404092764536, 23.1353605862141, 23.6402445768992, 13.3912633673032, 22.2642926350911, 16.1312475518068, 21.4468683914026, 23.3921441272577, 23.0773804859002, 22.2642926350911, 21.6945120012442, 23.1353605862141, 19.0160387273312, 21.6945120012442, 23.8883360441208, 22.8818772113005, 23.2596149678707, 23.0124160186132, 22.8258403356552, 22.8258403356552, 22.7631282941182, 21.8186324770927, 22.0141438022931, 22.3211468851248, 23.5081149593671, 22.5724764183839, 19.0160387273312, 22.3211468851248, 20.6940526441415, 22.7631282941182, 22.7021580751419, 18.8272398109913, 17.7597769017696, 16.6981861348629, 23.6402445768992, 23.3258798436006, 14.1367392674764, 29.257265293169, 22.3211468851248, 21.7615675504684, 19.3878434097449, 23.0124160186132, 22.0141438022931, 18.9445386842569, 23.9546006516298, 23.2596149678707, 22.7631282941182, 22.2642926350911, 23.6982258434772, 22.8818772113005, 23.0773804859002, 20.0128573254426, 22.7631282941182, 18.9445386842569, 19.2592897947311, 16.942514925766, 16.8164789513429, 23.9546006516298, 22.8258403356552, 18.7668556010405, 17.5106453772068, 23.7562070425034, 23.3921441272577, 23.9546006516298, 30.6927407439232, 20.5117211357435, 22.8818772113005, 16.942514925766, 22.1404092764536, 30.3852968171914, 22.1404092764536, 15.4427070672989, 23.3921441272577, 23.441842517821, 23.1933420673688, 23.3258798436006, 22.9477005914529, 22.1404092764536, 14.6999871011257, 11.9500107681433, 15.1953631257693, 22.386297426192, 23.0773804859002, 23.9546006516298, 22.6334935104529, 24.6298199848016, 21.8186324770927, 6.94704150117238, 23.8224714016596, 21.7615675504684, 22.7631282941182, 20.5679557100614, 21.9441933111032, 22.9477005914529, 23.5743799423853, 22.1943611518224, 23.2596149678707, 22.6334935104529, 23.7562070425034, 13.0102425352414, 23.0773804859002, 21.4468683914026, 16.8164789513429, 22.8258403356552, 23.3921441272577, 23.5743799423853, 18.1957631841977, 22.8818772113005, 16.2611854688009, 22.0702138360024, 22.7631282941182, 22.5724764183839, 22.1943611518224, 23.1933420673688, 22.9477005914529, 17.1317640181065, 12.2647670920372, 14.5674585675875, 23.7562070425034, 17.5699597096125, 11.5689902678808, 18.0787337418079, 22.0702138360024, 20.6374167179743, 23.0124160186132, 23.6982258434772, 21.7615675504684, 15.8855400101026, 22.386297426192, 20.8847064431191, 23.1933420673688, 20.3189699923674, 22.1943611518224, 16.1963082845688, 23.6402445768992, 14.1367392674764, 21.5078179752509, 23.5081149593671, 23.0124160186132, 22.7631282941182, 19.8218485251745, 22.1404092764536, 22.9477005914529, 22.9477005914529, 23.5743799423853, 15.4427070672989, 23.9546006516298, 22.5129782016754, 24.6959181840897, 22.449368192323, 22.7021580751419, 21.3867463087718, 22.9477005914529, 23.5743799423853, 18.4452998772939, 22.8818772113005, 19.4466368273576, 23.1933420673688, 22.6334935104529, 22.7021580751419, 17.5699597096125, 21.5704525684992, 23.0773804859002, 14.3189666008631, 22.386297426192, 13.5072262859027, 22.5724764183839, 22.3211468851248, 5.44780729171435, 17.7597769017696, 22.7631282941182, 24.5746387517134, 23.6982258434772, 22.9477005914529, 23.0124160186132, 22.5724764183839, 22.7631282941182, 22.1943611518224, 23.0124160186132, 22.8258403356552, 22.9477005914529, 23.441842517821, 22.1943611518224, 13.1924702342033, 23.7562070425034, 21.8186324770927, 19.0755901769479, 17.2566976443609, 20.26129898386, 11.5689902678808, 22.6334935104529, 14.5094772771676, 22.2642926350911, 22.9477005914529, 22.5724764183839, 23.0124160186132, 22.1943611518224, 14.4514954344114, 16.5056300278187, 22.386297426192, 23.5743799423853, 18.9445386842569, 20.26129898386, 23.1353605862141, 23.6402445768992, 23.2596149678707, 20.1349507764657, 22.9477005914529, 21.5078179752509, 22.6334935104529, 13.9545116936843, 23.0773804859002, 22.2642926350911, 22.7631282941182, 23.6982258434772, 18.6351309752146, 22.449368192323, 21.6402136838118, 20.8847064431191, 22.5129782016754, 22.449368192323, 22.2642926350911, 14.4514954344114, 23.7562070425034, 22.9477005914529, 23.7562070425034, 22.7021580751419, 22.386297426192, 23.0773804859002, 19.6362096762339, 23.6982258434772, 23.441842517821, 23.1353605862141, 21.0667821184476, 15.4427070672989, 23.7562070425034, 13.6397552505811, 23.3258798436006, 21.6402136838118, 22.1404092764536, 22.8258403356552, 14.3189666008631, 19.0755901769479, 23.8883360441208, 19.6945794021765, 22.5724764183839, 22.0141438022931, 22.5724764183839, 22.8258403356552, 23.1933420673688, 22.8818772113005, 20.5679557100614, 22.6334935104529, 23.0124160186132, 22.8258403356552, 16.0083362594922, 24.004298976628, 16.4488718266964, 17.6976700102965, 20.1992778436025, 23.3258798436006, 23.2596149678707, 13.6397552505811, 23.441842517821, 22.449368192323, 18.3868218417645, 24.826797210741, 23.3258798436006, 14.2030035769622, 23.0773804859002, 23.1353605862141, 22.8818772113005, 11.8174816763083, 14.7662517106215, 21.2610000010014, 19.5042967434406, 23.3258798436006, 23.0124160186132, 13.4409619009177, 22.5724764183839, 22.8258403356552, 23.1353605862141, 22.8818772113005, 22.5129782016754, 23.8883360441208, 22.7631282941182, 21.2000925755183, 16.7534518853505, 14.3189666008631, 17.8265319184144, 22.2642926350911, 23.8883360441208, 22.8258403356552, 23.8224714016596, 22.8818772113005, 23.8883360441208, 23.5081149593671, 22.1404092764536, 23.1353605862141, 22.7021580751419, 23.5743799423853, 17.8844870523294, 14.7662517106215, 22.3211468851248, 22.7631282941182, 25.0090328848044, 23.441842517821, 16.1312475518068, 22.0702138360024, 20.5117211357435, 20.5679557100614, 23.0124160186132, 24.0731349364599, 21.3198276932716, 21.8186324770927, 23.1933420673688, 22.8818772113005, 23.6402445768992, 23.3921441272577, 24.9427681759675, 22.7021580751419, 24.8847866431554, 23.6982258434772, 23.9546006516298, 15.1299568112373, 22.0702138360024, 23.2596149678707, 24.6959181840897, 23.5743799423853, 23.3921441272577, 22.2642926350911, 23.7562070425034, 14.4514954344114, 23.6402445768992, 22.8818772113005, 23.441842517821, 22.449368192323, 22.7021580751419, 31.383935633866, 23.6402445768992, 23.0124160186132, 22.7631282941182, 23.9546006516298, 23.0124160186132, 20.4487852688313, 10.6909855182648, 23.3258798436006, 17.3185208932241, 21.2610000010014, 15.0720749433517, 24.6959181840897, 22.5129782016754, 24.826797210741, 22.6334935104529, 27.2601129666646, 23.1933420673688, 11.0720066841125, 22.1404092764536, 16.3832811510245, 22.8818772113005, 27.6408801273187, 24.826797210741, 22.3211468851248, 23.6402445768992, 23.0124160186132, 21.4468683914026, 16.3832811510245, 15.6394065773169, 23.441842517821, 22.8258403356552, 8.32202981071472, 23.5743799423853, 21.2000925755183, 14.4514954344114, 23.9546006516298, 22.1943611518224, 25.0752975439707, 25.0090328848044, 22.2642926350911, 14.5674585675875, 23.7562070425034, 24.8847866431554, 19.0755901769479, 14.1367392674764, 23.0124160186132, 23.1353605862141, 23.1933420673688, 23.1353605862141, 24.6298199848016, 23.7562070425034, 23.3921441272577, 22.5724764183839, 25.0090328848044, 22.7631282941182, 12.8777137175878, 22.5724764183839, 23.5743799423853, 25.5052165762266, 22.8258403356552, 24.0731349364599, 23.3921441272577, 28.1373638665358, 23.6402445768992, 23.1933420673688], \"yaxis\": \"y\"}],                        {\"legend\": {\"tracegroupgap\": 0}, \"margin\": {\"t\": 60}, \"template\": {\"data\": {\"bar\": [{\"error_x\": {\"color\": \"#2a3f5f\"}, \"error_y\": {\"color\": \"#2a3f5f\"}, \"marker\": {\"line\": {\"color\": \"#E5ECF6\", \"width\": 0.5}}, \"type\": \"bar\"}], \"barpolar\": [{\"marker\": {\"line\": {\"color\": \"#E5ECF6\", \"width\": 0.5}}, \"type\": \"barpolar\"}], \"carpet\": [{\"aaxis\": {\"endlinecolor\": \"#2a3f5f\", \"gridcolor\": \"white\", \"linecolor\": \"white\", \"minorgridcolor\": \"white\", \"startlinecolor\": \"#2a3f5f\"}, \"baxis\": {\"endlinecolor\": \"#2a3f5f\", \"gridcolor\": \"white\", \"linecolor\": \"white\", \"minorgridcolor\": \"white\", \"startlinecolor\": \"#2a3f5f\"}, \"type\": \"carpet\"}], \"choropleth\": [{\"colorbar\": {\"outlinewidth\": 0, \"ticks\": \"\"}, \"type\": \"choropleth\"}], \"contour\": [{\"colorbar\": {\"outlinewidth\": 0, \"ticks\": \"\"}, \"colorscale\": [[0.0, \"#0d0887\"], [0.1111111111111111, \"#46039f\"], [0.2222222222222222, \"#7201a8\"], [0.3333333333333333, \"#9c179e\"], [0.4444444444444444, \"#bd3786\"], [0.5555555555555556, \"#d8576b\"], [0.6666666666666666, \"#ed7953\"], [0.7777777777777778, \"#fb9f3a\"], [0.8888888888888888, \"#fdca26\"], [1.0, \"#f0f921\"]], \"type\": \"contour\"}], \"contourcarpet\": [{\"colorbar\": {\"outlinewidth\": 0, \"ticks\": \"\"}, \"type\": \"contourcarpet\"}], \"heatmap\": [{\"colorbar\": {\"outlinewidth\": 0, \"ticks\": \"\"}, \"colorscale\": [[0.0, \"#0d0887\"], [0.1111111111111111, \"#46039f\"], [0.2222222222222222, \"#7201a8\"], [0.3333333333333333, \"#9c179e\"], [0.4444444444444444, \"#bd3786\"], [0.5555555555555556, \"#d8576b\"], [0.6666666666666666, \"#ed7953\"], [0.7777777777777778, \"#fb9f3a\"], [0.8888888888888888, \"#fdca26\"], [1.0, \"#f0f921\"]], \"type\": \"heatmap\"}], \"heatmapgl\": [{\"colorbar\": {\"outlinewidth\": 0, \"ticks\": \"\"}, \"colorscale\": [[0.0, \"#0d0887\"], [0.1111111111111111, \"#46039f\"], [0.2222222222222222, \"#7201a8\"], [0.3333333333333333, \"#9c179e\"], [0.4444444444444444, \"#bd3786\"], [0.5555555555555556, \"#d8576b\"], [0.6666666666666666, \"#ed7953\"], [0.7777777777777778, \"#fb9f3a\"], [0.8888888888888888, \"#fdca26\"], [1.0, \"#f0f921\"]], \"type\": \"heatmapgl\"}], \"histogram\": [{\"marker\": {\"colorbar\": {\"outlinewidth\": 0, \"ticks\": \"\"}}, \"type\": \"histogram\"}], \"histogram2d\": [{\"colorbar\": {\"outlinewidth\": 0, \"ticks\": \"\"}, \"colorscale\": [[0.0, \"#0d0887\"], [0.1111111111111111, \"#46039f\"], [0.2222222222222222, \"#7201a8\"], [0.3333333333333333, \"#9c179e\"], [0.4444444444444444, \"#bd3786\"], [0.5555555555555556, \"#d8576b\"], [0.6666666666666666, \"#ed7953\"], [0.7777777777777778, \"#fb9f3a\"], [0.8888888888888888, \"#fdca26\"], [1.0, \"#f0f921\"]], \"type\": \"histogram2d\"}], \"histogram2dcontour\": [{\"colorbar\": {\"outlinewidth\": 0, \"ticks\": \"\"}, \"colorscale\": [[0.0, \"#0d0887\"], [0.1111111111111111, \"#46039f\"], [0.2222222222222222, \"#7201a8\"], [0.3333333333333333, \"#9c179e\"], [0.4444444444444444, \"#bd3786\"], [0.5555555555555556, \"#d8576b\"], [0.6666666666666666, \"#ed7953\"], [0.7777777777777778, \"#fb9f3a\"], [0.8888888888888888, \"#fdca26\"], [1.0, \"#f0f921\"]], \"type\": \"histogram2dcontour\"}], \"mesh3d\": [{\"colorbar\": {\"outlinewidth\": 0, \"ticks\": \"\"}, \"type\": \"mesh3d\"}], \"parcoords\": [{\"line\": {\"colorbar\": {\"outlinewidth\": 0, \"ticks\": \"\"}}, \"type\": \"parcoords\"}], \"pie\": [{\"automargin\": true, \"type\": \"pie\"}], \"scatter\": [{\"marker\": {\"colorbar\": {\"outlinewidth\": 0, \"ticks\": \"\"}}, \"type\": \"scatter\"}], \"scatter3d\": [{\"line\": {\"colorbar\": {\"outlinewidth\": 0, \"ticks\": \"\"}}, \"marker\": {\"colorbar\": {\"outlinewidth\": 0, \"ticks\": \"\"}}, \"type\": \"scatter3d\"}], \"scattercarpet\": [{\"marker\": {\"colorbar\": {\"outlinewidth\": 0, \"ticks\": \"\"}}, \"type\": \"scattercarpet\"}], \"scattergeo\": [{\"marker\": {\"colorbar\": {\"outlinewidth\": 0, \"ticks\": \"\"}}, \"type\": \"scattergeo\"}], \"scattergl\": [{\"marker\": {\"colorbar\": {\"outlinewidth\": 0, \"ticks\": \"\"}}, \"type\": \"scattergl\"}], \"scattermapbox\": [{\"marker\": {\"colorbar\": {\"outlinewidth\": 0, \"ticks\": \"\"}}, \"type\": \"scattermapbox\"}], \"scatterpolar\": [{\"marker\": {\"colorbar\": {\"outlinewidth\": 0, \"ticks\": \"\"}}, \"type\": \"scatterpolar\"}], \"scatterpolargl\": [{\"marker\": {\"colorbar\": {\"outlinewidth\": 0, \"ticks\": \"\"}}, \"type\": \"scatterpolargl\"}], \"scatterternary\": [{\"marker\": {\"colorbar\": {\"outlinewidth\": 0, \"ticks\": \"\"}}, \"type\": \"scatterternary\"}], \"surface\": [{\"colorbar\": {\"outlinewidth\": 0, \"ticks\": \"\"}, \"colorscale\": [[0.0, \"#0d0887\"], [0.1111111111111111, \"#46039f\"], [0.2222222222222222, \"#7201a8\"], [0.3333333333333333, \"#9c179e\"], [0.4444444444444444, \"#bd3786\"], [0.5555555555555556, \"#d8576b\"], [0.6666666666666666, \"#ed7953\"], [0.7777777777777778, \"#fb9f3a\"], [0.8888888888888888, \"#fdca26\"], [1.0, \"#f0f921\"]], \"type\": \"surface\"}], \"table\": [{\"cells\": {\"fill\": {\"color\": \"#EBF0F8\"}, \"line\": {\"color\": \"white\"}}, \"header\": {\"fill\": {\"color\": \"#C8D4E3\"}, \"line\": {\"color\": \"white\"}}, \"type\": \"table\"}]}, \"layout\": {\"annotationdefaults\": {\"arrowcolor\": \"#2a3f5f\", \"arrowhead\": 0, \"arrowwidth\": 1}, \"autotypenumbers\": \"strict\", \"coloraxis\": {\"colorbar\": {\"outlinewidth\": 0, \"ticks\": \"\"}}, \"colorscale\": {\"diverging\": [[0, \"#8e0152\"], [0.1, \"#c51b7d\"], [0.2, \"#de77ae\"], [0.3, \"#f1b6da\"], [0.4, \"#fde0ef\"], [0.5, \"#f7f7f7\"], [0.6, \"#e6f5d0\"], [0.7, \"#b8e186\"], [0.8, \"#7fbc41\"], [0.9, \"#4d9221\"], [1, \"#276419\"]], \"sequential\": [[0.0, \"#0d0887\"], [0.1111111111111111, \"#46039f\"], [0.2222222222222222, \"#7201a8\"], [0.3333333333333333, \"#9c179e\"], [0.4444444444444444, \"#bd3786\"], [0.5555555555555556, \"#d8576b\"], [0.6666666666666666, \"#ed7953\"], [0.7777777777777778, \"#fb9f3a\"], [0.8888888888888888, \"#fdca26\"], [1.0, \"#f0f921\"]], \"sequentialminus\": [[0.0, \"#0d0887\"], [0.1111111111111111, \"#46039f\"], [0.2222222222222222, \"#7201a8\"], [0.3333333333333333, \"#9c179e\"], [0.4444444444444444, \"#bd3786\"], [0.5555555555555556, \"#d8576b\"], [0.6666666666666666, \"#ed7953\"], [0.7777777777777778, \"#fb9f3a\"], [0.8888888888888888, \"#fdca26\"], [1.0, \"#f0f921\"]]}, \"colorway\": [\"#636efa\", \"#EF553B\", \"#00cc96\", \"#ab63fa\", \"#FFA15A\", \"#19d3f3\", \"#FF6692\", \"#B6E880\", \"#FF97FF\", \"#FECB52\"], \"font\": {\"color\": \"#2a3f5f\"}, \"geo\": {\"bgcolor\": \"white\", \"lakecolor\": \"white\", \"landcolor\": \"#E5ECF6\", \"showlakes\": true, \"showland\": true, \"subunitcolor\": \"white\"}, \"hoverlabel\": {\"align\": \"left\"}, \"hovermode\": \"closest\", \"mapbox\": {\"style\": \"light\"}, \"paper_bgcolor\": \"white\", \"plot_bgcolor\": \"#E5ECF6\", \"polar\": {\"angularaxis\": {\"gridcolor\": \"white\", \"linecolor\": \"white\", \"ticks\": \"\"}, \"bgcolor\": \"#E5ECF6\", \"radialaxis\": {\"gridcolor\": \"white\", \"linecolor\": \"white\", \"ticks\": \"\"}}, \"scene\": {\"xaxis\": {\"backgroundcolor\": \"#E5ECF6\", \"gridcolor\": \"white\", \"gridwidth\": 2, \"linecolor\": \"white\", \"showbackground\": true, \"ticks\": \"\", \"zerolinecolor\": \"white\"}, \"yaxis\": {\"backgroundcolor\": \"#E5ECF6\", \"gridcolor\": \"white\", \"gridwidth\": 2, \"linecolor\": \"white\", \"showbackground\": true, \"ticks\": \"\", \"zerolinecolor\": \"white\"}, \"zaxis\": {\"backgroundcolor\": \"#E5ECF6\", \"gridcolor\": \"white\", \"gridwidth\": 2, \"linecolor\": \"white\", \"showbackground\": true, \"ticks\": \"\", \"zerolinecolor\": \"white\"}}, \"shapedefaults\": {\"line\": {\"color\": \"#2a3f5f\"}}, \"ternary\": {\"aaxis\": {\"gridcolor\": \"white\", \"linecolor\": \"white\", \"ticks\": \"\"}, \"baxis\": {\"gridcolor\": \"white\", \"linecolor\": \"white\", \"ticks\": \"\"}, \"bgcolor\": \"#E5ECF6\", \"caxis\": {\"gridcolor\": \"white\", \"linecolor\": \"white\", \"ticks\": \"\"}}, \"title\": {\"x\": 0.05}, \"xaxis\": {\"automargin\": true, \"gridcolor\": \"white\", \"linecolor\": \"white\", \"ticks\": \"\", \"title\": {\"standoff\": 15}, \"zerolinecolor\": \"white\", \"zerolinewidth\": 2}, \"yaxis\": {\"automargin\": true, \"gridcolor\": \"white\", \"linecolor\": \"white\", \"ticks\": \"\", \"title\": {\"standoff\": 15}, \"zerolinecolor\": \"white\", \"zerolinewidth\": 2}}}, \"xaxis\": {\"anchor\": \"y\", \"domain\": [0.0, 1.0], \"title\": {\"text\": \"Mass\"}}, \"yaxis\": {\"anchor\": \"x\", \"domain\": [0.0, 1.0], \"title\": {\"text\": \"RT\"}}},                        {\"responsive\": true}                    ).then(function(){\n",
       "                            \n",
       "var gd = document.getElementById('acfc75f1-7ecb-4831-b577-e9254ee60123');\n",
       "var x = new MutationObserver(function (mutations, observer) {{\n",
       "        var display = window.getComputedStyle(gd).display;\n",
       "        if (!display || display === 'none') {{\n",
       "            console.log([gd, 'removed!']);\n",
       "            Plotly.purge(gd);\n",
       "            observer.disconnect();\n",
       "        }}\n",
       "}});\n",
       "\n",
       "// Listen for the removal of the full notebook cells\n",
       "var notebookContainer = gd.closest('#notebook-container');\n",
       "if (notebookContainer) {{\n",
       "    x.observe(notebookContainer, {childList: true});\n",
       "}}\n",
       "\n",
       "// Listen for the clearing of the current output cell\n",
       "var outputEl = gd.closest('.output');\n",
       "if (outputEl) {{\n",
       "    x.observe(outputEl, {childList: true});\n",
       "}}\n",
       "\n",
       "                        })                };                });            </script>        </div>"
      ]
     },
     "metadata": {},
     "output_type": "display_data"
    },
    {
     "data": {
      "application/vnd.plotly.v1+json": {
       "config": {
        "plotlyServerURL": "https://plot.ly"
       },
       "data": [
        {
         "hovertemplate": "Mass=%{x}<br>RT=%{y}<extra></extra>",
         "legendgroup": "",
         "marker": {
          "color": "#636efa",
          "symbol": "circle"
         },
         "mode": "markers",
         "name": "",
         "showlegend": false,
         "type": "scattergl",
         "x": [
          1510.94140495723,
          24217.2435391601,
          24203.231084514,
          1513.81204927609,
          24189.2222173483,
          24303.2277824442,
          1531.78427961126,
          1587.94874712007,
          24231.226603282,
          24260.1845797258,
          5222.60419620392,
          24274.188285202,
          5567.64987682409,
          24245.2381479082,
          24246.2429800125,
          24317.2188658619,
          6720.98674979931,
          5912.69982723381,
          24287.2047048451,
          7546.93736268254,
          8182.01757514884,
          6706.96755538348,
          8793.07999098085,
          1732.72466925085,
          6527.78429733045,
          24568.4098009108,
          6856.83891971944,
          9138.13899089121,
          24359.198160926,
          7201.88743610023,
          1519.83465675127,
          6056.87346515972,
          1666.75320101418,
          1537.9493057005,
          1561.84632324601,
          6401.92400600633,
          1921.70455017001,
          8488.03978677122,
          5523.94856840204,
          24360.2138373334,
          6415.94269299801,
          1626.76107748303,
          10744.3454786576,
          6220.74408695862,
          24344.2005183712,
          1815.74089674156,
          24328.234802865,
          24373.1774643913,
          9788.2199694483,
          10438.317774455,
          7875.98446012443,
          24288.2154392126,
          11661.4594576236,
          1893.74137357051,
          24174.2084419614,
          1749.76822965271,
          7361.07048591733,
          2195.69708494971,
          8715.27107835852,
          11050.3840145755,
          9483.18463347134,
          11356.4173004901,
          24582.401950785,
          9034.30510392847,
          9403.21533091515,
          6528.79976143888,
          7706.11959361564,
          1931.97850770023,
          10133.2724688016,
          4648.79094495291,
          8051.14654942316,
          1626.76156314535,
          1727.92929885435,
          8396.21479567258,
          24554.3719993925,
          6219.74527416599,
          7678.08176326891,
          4242.47852785913,
          1666.75339445362,
          12295.5595211395,
          7202.88683097324,
          24259.207816451,
          9006.26192708839,
          10053.3146163071,
          8368.16316926576,
          6509.78433354041,
          1771.71511445805,
          7333.03531429285,
          6825.89371331604,
          12573.8277095719,
          1735.94354153114,
          8687.21642637051,
          13555.7350662739,
          6202.73517278261,
          24336.2126755328,
          1525.76711660565,
          1505.95764151503,
          7528.91814585371,
          11990.5338356792,
          5549.64385230718,
          24173.2199149722,
          24417.1567153188,
          6176.86148054252,
          9982.32642434819,
          10726.342905821,
          7171.9590666121,
          1615.96023712113,
          8023.13506608572,
          8587.1616647138,
          1650.90937349556,
          24319.2292017091,
          12600.631224733,
          10679.5457990098,
          8164.02396951405,
          5894.69936286033,
          24375.190586088,
          1658.93632379715,
          9020.29859633614,
          1687.95920930053,
          6520.8747460033,
          9339.36776201677,
          7131.9542512312,
          6519.8708297348,
          7436.97526568512,
          14549.8282117613,
          7692.09797069127,
          10665.407131262,
          1883.94162632625,
          14205.8059294037,
          24294.2041205204,
          6175.8125549756,
          6673.94468453928,
          24390.2017072653,
          7423.00334395005,
          7768.04246541816,
          12945.6402032939,
          6540.80073642639,
          1815.74079053172,
          10420.3314014958,
          13461.8917791896,
          8282.10027150573,
          5871.8157115619,
          9637.28230419508,
          6505.89151377853,
          9656.33836663162,
          13184.8891751027,
          5236.62071572529,
          9684.41101701922,
          6740.90350162907,
          9770.21619877279,
          13899.790263071,
          11289.6354468883,
          5406.90378287143,
          2005.72130664818,
          3936.4531552422,
          7437.9998521254,
          19963.7341881007,
          9311.3182907141,
          14072.9558762491,
          10116.2705633394,
          15519.0482921702,
          7857.99561868986,
          7491.99145186823,
          6818.91574093328,
          6481.8734768348,
          7091.94246793794,
          8489.05530093098,
          7791.04296992975,
          10029.4558569093,
          24295.2045919918,
          8195.0347881454,
          13767.9105689597,
          16659.3138685688,
          7130.93997636146,
          2624.19899647039,
          12244.7810036034,
          8136.10312331073,
          11634.6756824545,
          5847.81071324217,
          6105.82852223845,
          7285.99803239847,
          14187.8302584887,
          1563.92790999094,
          6824.89727683457,
          2202.42715351416,
          10651.4953832024,
          11746.421399872,
          7783.05539681611,
          11261.574463074,
          17514.279347719,
          7186.93293316265,
          9291.22466921829,
          16024.216717957,
          13489.9214037528,
          6232.77338778397,
          11643.4462888636,
          11032.3839480024,
          8382.18073690634,
          16183.1152857273,
          5785.76843465089,
          8701.23162943123,
          9333.24761001577,
          7183.89541195632,
          13156.8493640784,
          6443.87023281519,
          7198.91166328975,
          11338.4043478364,
          9121.14440388961,
          10956.5076724206,
          17818.3138651953,
          15200.9602665296,
          12850.8009653178,
          12878.8611632787,
          7012.89365773063,
          6070.9003006387,
          12278.5811575058,
          7729.01520167109,
          7446.00755167606,
          6482.88516373636,
          9636.26144067915,
          7470.01378404981,
          9292.22084192957,
          9078.20472152044,
          7751.03740285292,
          1553.7762807099,
          7044.95262495492,
          6410.86604345415,
          6838.84357315582,
          5830.78613597192,
          8127.07994883004,
          8441.13892519032,
          1519.83459924701,
          8906.23171130235,
          7830.04412044917,
          13578.8979905578,
          8351.10887127824,
          5926.72455988079,
          6803.92042512377,
          5581.66734161238,
          7214.90737198271,
          6881.90942459148,
          5542.76423101809,
          9670.34344133169,
          6098.81817015651,
          14189.955333406,
          13884.9117639268,
          1556.94355423215,
          12559.8162804085,
          6434.87363795891,
          9058.16821817613,
          17496.2573572931,
          8137.12894370095,
          8059.0695885959,
          5807.79376295938,
          6089.8187201142,
          8471.05955665118,
          6490.88826039058,
          6748.91797927556,
          7147.96940001972,
          6023.85327552968,
          11939.6746842157,
          17803.3921871748,
          7162.9755685794,
          13883.8351277901,
          13475.8749040233,
          6192.86540272119,
          11442.3779274974,
          3631.4125553917,
          12545.7690187161,
          9371.20811255396,
          6129.83209941623,
          9435.26131042274,
          8722.1610611887,
          4961.84842819612,
          8073.07987463588,
          10288.3527881007,
          6497.8775516211,
          13781.9200878341,
          6396.84872714965,
          6575.88112373069,
          24313.2280271571,
          6419.85932743342,
          13795.9452001771,
          8143.09192397073,
          6137.83596113579,
          7139.96548116292,
          6213.83593031757,
          10305.417933546,
          6833.92712953483,
          8017.07286508778,
          8667.15268892434,
          7447.00328306731,
          7101.95285907094,
          6122.83663733689,
          8501.07665486996,
          9396.25656476361,
          16052.2469968987,
          8776.07639102126,
          6552.89575487369,
          7741.9935180103,
          6473.88596007088,
          16038.2304293061,
          6857.88114676701,
          7486.0165368766,
          1898.8933656834,
          6415.94074502347,
          18294.5268209995,
          6090.81175810847,
          17986.4805967893,
          6673.94632873955,
          16165.1104671561,
          6787.92894888614,
          8039.06808071481,
          9151.17213305196,
          6515.87614563196,
          1888.72732907244,
          6368.89848937972,
          7404.99371644446,
          9040.2096869971,
          7792.07476662347,
          1943.00306878686,
          6191.85821555521,
          7119.94159076752,
          12582.5917090973,
          14359.9087969254,
          13171.8638530076,
          8072.06939077509,
          12216.7067074043,
          8026.0740070034,
          8047.05676786524,
          5825.78519964615,
          14894.9092660565,
          7111.90473423133,
          6151.8117237782,
          8128.09529094569,
          9259.2604491651,
          7083.95888366289,
          10756.3547234913,
          7889.00699176153,
          10306.4296714909,
          8378.10375616759,
          15838.0653775841,
          16141.2325235319,
          7155.98356396337,
          7743.0294304011,
          8834.19970108308,
          6428.87244532394,
          6200.86452558941,
          8805.12379036974,
          12599.6008092136,
          11275.5956263338,
          13641.7530603003,
          7382.9845081065,
          7559.95955876913,
          9325.34932183609,
          6715.89643370791,
          7808.05646399988,
          6843.92759876764,
          8744.15973262044,
          6153.83494164741,
          15822.0695132564,
          10001.4140563552,
          12864.8192266018,
          8011.0768903761,
          8700.25587427007,
          11606.6207307231,
          1750.77182739788,
          16527.151083354,
          6209.8385560984,
          14100.987526346,
          13538.7523972779,
          5563.74230337449,
          1749.7687613227,
          9801.26139851738,
          7877.99154023057,
          7126.9457262617,
          8033.06415227431,
          17004.3465574939,
          9700.29742931374,
          6785.88790286449,
          7463.02209382388,
          5768.77752371639,
          9969.33331800851,
          7462.01250497896,
          15068.0777548194,
          7822.04978054386,
          16687.3500479374,
          8079.08221017508,
          8121.09573008673,
          9028.20028178572,
          8385.13271838753,
          7456.94107172657,
          7720.04714645365,
          8362.09626628173,
          7117.95792945898,
          7779.04493556227,
          8472.04318611581,
          7662.98347767972,
          14086.9526966401,
          8998.20644243331,
          1815.57887568388,
          6451.85398425752,
          9466.19014644051,
          7365.99129233548,
          5856.8094906891,
          10664.4511449332,
          16672.3275445459,
          6569.90428209352,
          17680.44697945,
          6859.90383910841,
          6199.85293516568,
          10002.2578768272,
          7699.00715678589,
          8081.09067219503,
          9423.2668470289,
          6743.88510049674,
          7560.95366326005,
          6127.82834064928,
          11607.5733730166,
          5838.78669969402,
          8528.13769211079,
          24272.1748622808,
          6040.80667192446,
          4916.58251099183,
          5760.77445073142,
          7218.9811051388,
          8457.14217935055,
          8724.17593279526,
          7814.05166897705,
          8083.08876033469,
          5753.77828608472,
          9062.2093824066,
          8098.08659671316,
          8087.08474725199,
          9043.21316963846,
          9056.22493484399,
          13250.6972253589,
          24595.4186816012,
          6795.92084568163,
          8973.19688522724,
          7533.95527153501,
          9662.29218550598,
          8391.13680422687,
          10633.3899617659,
          6099.81212716238,
          10650.4568770084,
          6489.88059181867,
          6858.92900064603,
          9348.26157913407,
          8683.1510350711,
          6873.93706199948,
          16358.2763620442,
          6813.9073092843,
          17692.4359586519,
          8747.17298997502,
          6514.87609521494,
          6459.86874977985,
          4571.5284118198,
          9273.26014539108,
          9099.21547626401,
          10308.275050867,
          6159.83803324581,
          13335.6583077215,
          6182.84692268718,
          7049.93206505312,
          10450.3381779025,
          2640.19342486861,
          18308.5357021636,
          8656.15406454868,
          6138.83856195605,
          6488.87909428924,
          8101.0804759806,
          9748.28836620701,
          16330.2458986303,
          9370.25290172902,
          7406.99301803835,
          7753.05003056734,
          20603.8303578671,
          14722.0422298833,
          5862.78877637988,
          6217.74670553219,
          5463.7343127521,
          2282.6294768975,
          10327.3661130438,
          10064.3421780671,
          10672.4161504982,
          8738.1677995636,
          7036.93043314038,
          9117.20511160065,
          6739.89496886234,
          8103.09120402321,
          9741.2978089111,
          8048.07774369499,
          12686.5631617741,
          8393.11818386089,
          9093.22645109016,
          7031.9159091169,
          6512.77460484322,
          7423.99137206492,
          6231.8544913364,
          10359.3491120195,
          7053.94337513367,
          7429.0103531521,
          6812.92829781357,
          3250.42841763507,
          10984.5943560047,
          17596.2717731619,
          8005.0546376736,
          9496.19951228738,
          8797.16058913927,
          7798.0345511898,
          5558.76026729088,
          24642.3426444744,
          10391.3758462848,
          15195.998352441,
          8824.17857915757,
          17706.5341722642,
          1815.7407887247,
          6476.78721511019,
          7545.94272400789,
          5793.78017576403,
          9644.28545148201,
          7020.9476480862,
          18164.4165497497,
          10007.3318276042,
          6247.84461966696,
          8989.18216280499,
          6891.92924675087,
          6756.91834585052,
          5448.72595778412,
          7373.98890759117,
          8057.08124879234,
          7487.00688538059,
          7505.02699010669,
          8401.13821692255,
          12611.6864489784,
          9444.26465549188,
          6143.83749878502,
          13579.8257903043,
          19291.6396189747,
          6536.89615057976,
          5848.79518820432,
          9211.25410327945,
          16775.3021231436,
          6435.86605422358,
          6075.79772400219,
          9013.20703935979,
          7062.95561466814,
          7358.94626734955,
          9464.24820784061,
          8183.09583834669,
          10734.4072871727,
          7773.04068134301,
          8434.13189268351,
          8116.0929979719,
          8298.05900480367,
          6480.86599507218,
          5735.75976505446,
          16343.2469942026,
          8953.23693874643,
          7710.02007586609,
          10148.3018228813,
          18015.5277932188,
          5440.71807981313,
          9622.27334071354,
          6460.85076527434,
          6093.80279204015,
          8097.08771922891,
          8449.13259443964,
          7388.98552654872,
          4916.5796,
          13969.8477843784,
          5777.78575467938,
          9083.21992394907,
          12372.6520964215,
          8691.18111793556,
          8628.17018270575,
          6168.84628291823,
          12229.7280358697,
          5511.75679883336,
          10673.3638308275,
          8758.17079972256,
          7069.95637730222,
          7485.02464654671,
          11655.5559754501,
          9027.19809533159,
          6568.89591784825,
          7092.96358254765,
          18494.437190848,
          11043.4529529053,
          10739.3703350337,
          9544.26488429786,
          9676.29626759545,
          12701.6881821187,
          7068.96200180123,
          8074.07801614911,
          19991.7855507058,
          14563.8902679122,
          9727.31786906046,
          5497.63916488999,
          7712.02142488214,
          9397.28388424775,
          9651.29050286745,
          7341.95910836275,
          24555.372150017,
          8089.1029303552,
          6224.85442341818,
          6208.84881225746,
          14291.8266882447,
          9417.26311165438,
          18639.5614596049,
          6134.80851798329,
          7507.02214708648,
          12587.7897395692,
          9052.20304109193,
          6468.87186655636,
          6869.86786531412,
          5835.79260097684,
          1918.26196999309,
          2610.1854,
          10972.4549014999,
          11136.3624792085,
          6457.86593870147,
          1749.76857522484,
          7454.99972519349,
          5503.74788866502,
          9359.24411587516,
          13374.8186914885,
          6730.89282432711,
          7676.040961292,
          6832.91269753718,
          7831.06490301539,
          7778.04909484337,
          6183.84522111597,
          7523.01081840076,
          8043.07217780232,
          5192.58826742291,
          8167.0171684977,
          12076.515441067,
          8186.02471634201,
          1611.80674503862,
          6181.84069403786,
          8427.15462819844,
          8380.10187553925,
          4135.66664344402,
          9436.29255123488,
          10243.3971360771,
          8198.08801059381,
          11673.5234488991,
          9362.2428933947,
          12267.6265297126,
          9090.22918680423,
          9388.23233407498,
          7354.98206413024,
          19977.7737496172,
          9130.21971610522,
          10594.3996545385,
          5210.88641929574,
          9849.30707640828,
          8462.13133310407,
          7414.0192941627,
          11652.522291801,
          13249.6819682001,
          20575.7982657284,
          1815.74256093155,
          6529.8738247059,
          5943.81983073373,
          1834.24454977911,
          8785.18708249902,
          9303.20349155062,
          13170.8541860868,
          9406.27426944548,
          5904.79549978955,
          9726.31249937019,
          5775.75450440917,
          15213.9914546721,
          9531.29708160916,
          7873.99954761332,
          1838.68578505859,
          8961.166910881,
          7227.99871130162,
          8309.1105733607,
          12558.7714322471,
          2381.3272091149,
          6866.94386476095,
          18783.4631185062,
          7688.01549264211,
          15924.1137862984,
          9116.21057330309,
          9779.26603982381,
          8736.16588473413,
          14664.9913251855,
          8787.16201597673,
          6761.8982098511,
          1541.77335108893,
          8967.21065040159,
          9098.22675602763,
          20078.9329786852,
          13044.7395590287,
          1826.24327701467,
          9696.22725768018,
          19134.5101378155,
          15718.2181007328,
          7838.06860039771,
          6424.85630418505,
          15619.0035552587,
          6079.82217409939,
          5582.67242105416,
          10021.3313580243,
          7991.0482127982,
          2283.31186982035,
          11972.5440737087,
          6475.87131560267,
          13914.7927981422,
          15184.0259012445,
          5827.99693480381,
          7397.99739290626,
          8504.15038590682,
          6683.83452164612,
          5886.81677482996,
          5844.77021208372,
          2005.72130714037,
          5480.73095818638,
          6439.83922436058,
          1725.70489484385,
          8158.08059445931,
          6620.89477322712,
          20272.7797585308,
          5478.7425161097,
          6794.90981178004,
          7189.95299439742,
          16447.2591345255,
          2087.62489855579,
          7431.99714565637,
          12237.6340827476,
          10046.3354723677,
          8050.08434838266,
          7390.00129292551,
          12906.7430453093,
          7499.99979224279,
          11669.5709943449,
          8133.08066629395,
          6751.89387485223,
          7516.00098242615,
          6065.81930490743,
          9445.26921267897,
          10618.4102200724,
          13264.6888257905,
          6399.8423377632,
          9759.30345002855,
          7501.02739502858,
          6404.84688134745,
          7166.95490758513,
          8091.01336542611,
          12356.6776654608,
          8435.14752318867,
          9687.30489660718,
          13568.7763786318,
          11293.5015650563,
          9459.26654752971,
          9942.31711814026,
          8957.22933783759,
          9076.23305257543,
          9809.28373801449,
          7351.96306024011,
          13748.8455719375,
          8296.13359139452,
          14432.0092591528,
          16254.1716115848,
          13021.7064669855,
          17794.3582356687,
          1744.74802529638,
          2258.30579485695,
          15502.0588982679,
          5759.78243759339,
          6030.74540145056,
          5918.80036677451,
          9677.28838536388,
          9719.29556113179,
          6466.98154305223,
          10632.4020873244,
          7809.0795704124,
          6370.84659187431,
          6025.80023443311,
          5821.7930851606,
          18983.6427323194,
          9033.31509347929,
          6467.88772840673,
          9454.27856590678,
          15575.0727947911,
          7148.97020123359,
          10054.3213862099,
          2378.32321881061,
          5887.81146128,
          6189.80690386758,
          8682.14092294834,
          1867.6922439757,
          8151.11758629769,
          5487.73821293825,
          6754.92672079705,
          9582.24701078929,
          20270.7854135833,
          6808.91313796812,
          13986.7995850964,
          12268.645893316,
          10259.3635944651,
          10077.3439646295,
          3102.4673503212,
          9225.26885350503,
          9106.24525701394,
          5527.75367721681,
          10698.4230663188,
          6433.87116811327,
          14611.9512162215,
          10617.4106182759,
          24119.1881983331,
          10101.3665608018,
          11245.4873656075,
          9957.31930891361,
          6834.92164159701,
          6205.74069768915,
          7376.98713710511,
          8176.05949224319,
          5685.69265379179,
          9440.37506932663,
          7524.00463966224,
          7696.0248669283,
          18103.5129328031,
          14417.9763447065,
          7839.04926116922,
          8766.16144650641,
          6119.81102291226,
          5877.8094761481,
          12230.7194291503,
          8463.13015695356,
          9717.27072102776,
          9340.27434464,
          9061.23008120372,
          6676.87467596935,
          10313.3818930692,
          8152.11286466835,
          14485.9387833793,
          11308.498351127,
          7709.00529214524,
          10992.4496313981,
          1921.70563504554,
          15852.0781774866,
          8402.12885187214,
          5720.76018355024,
          8637.11511992279,
          5340.64858297041,
          1697.76193079657,
          6777.90686555383,
          11875.4871432057,
          9765.29905100799,
          7430.99869925,
          11948.6206009036,
          12958.6773436987,
          5836.75939514475,
          14218.8216037942,
          9409.25027121531,
          8109.08950933448,
          8369.12351533836,
          8737.1640324439,
          9609.25799263025,
          16315.1804247943,
          6442.8765264,
          1659.73101870439,
          10959.3818874414,
          8373.1085271322,
          10047.3190715967,
          8645.13150594396,
          16694.2472793847,
          6523.88871359505,
          8714.17556090001,
          7540.99275662867,
          5727.82650977298,
          7135.94932969139,
          5930.79606387156,
          13155.8600266066,
          13307.7707862295,
          17582.3278990437,
          7666.01259822543,
          7879.0615265886,
          6733.90992217533,
          2141.28086495111,
          1529.78596657919,
          9051.19760266417,
          15606.0134776719,
          7078.94399644277,
          10428.351541404,
          21226.9289511922,
          12257.7914097199,
          11370.5306359853,
          6369.8670978315,
          16154.2094076244,
          15413.1121509056,
          10938.4443534545,
          8519.14919168137,
          6275.84607094069,
          8317.08678829096,
          8951.15068709302,
          10580.4083549218,
          19650.6758983291,
          9601.309475145,
          5878.79676267959,
          13220.7598673529,
          8638.13199752356,
          12381.5469789119,
          8002.05717830735,
          8711.19030000847,
          6878.93458157169,
          10978.4610869693,
          17363.4078124797,
          8765.184440103,
          13577.8788929133,
          9334.2480870793,
          8757.17125613007,
          13647.8089581603,
          7681.03461798437,
          13964.8217110312,
          13936.8511574179,
          9795.25595362046,
          11617.5702009576,
          6906.9554193842,
          10154.3515197408,
          6082.82397306906,
          9144.16611139646,
          14534.0133977425,
          8497.14405257061,
          13275.7727540293,
          6913.95130229339,
          6713.8806071502,
          18786.4521399025,
          10375.3836523649,
          10657.4238248173,
          13251.6891771526,
          10988.4372952104,
          11876.5598025849,
          19408.601526414,
          7193.96777967074,
          18825.4586029676,
          2980.33602971743,
          3338.44822822376,
          3060.41362127282,
          13239.734296448,
          19482.6187061833,
          10082.3403488195,
          19507.5384337742,
          12310.6606513732,
          13323.7142508568,
          2146.94798935133,
          5851.78937832159,
          12700.6541394123,
          20273.7781634988,
          8006.05763505588,
          9669.29405639736,
          8377.10749109262,
          1863.39562763797,
          20019.7009525292,
          7969.09956593734,
          6155.82239334322,
          12236.6373712484,
          12881.8818927931,
          7178.94670577348,
          9588.31187725392,
          8693.17264426882,
          13873.8989679764,
          8417.13500581744,
          7775.05025398092,
          15294.9964357357,
          14446.0332949161,
          7811.07006326429,
          8920.22990445289,
          2284.30353723597,
          6074.79026176786,
          19407.6095679437,
          13528.7936906975,
          6477.86665949155,
          10274.3637672168,
          5564.73518829618,
          7106.95674301774,
          16686.3227902536,
          3056.75062557151,
          2947.39331984972,
          13867.8917899671,
          11300.5008993291,
          18762.3914459174,
          10066.3106825546,
          7731.0390217046,
          11924.6516804756,
          8019.06071620607,
          8191.10756267983,
          2249.30046094737,
          7860.98549665418,
          9694.32479744731,
          20370.7243378946,
          7483.00827373272,
          9318.24325940372,
          3470.46807771572,
          14538.9274214417,
          8732.16349621184,
          10071.3370982797,
          9681.31378809322,
          13564.824622088,
          19697.5512765442,
          9238.26923279345,
          7711.04492225922,
          10681.381953694,
          8987.17888995327,
          5518.73728934005,
          7153.95469926158,
          10709.4221766741,
          8430.13739423269,
          8451.1445294821,
          6225.83974127512,
          10427.3619485335,
          14683.9803938893,
          5464.73295860905,
          9374.24879634738,
          17497.3000919615,
          13290.7583592689,
          9645.2753265125,
          20895.8636224729,
          2496.01701292235,
          9316.27956096324,
          19201.5016166126,
          7687.02110600086,
          8601.1821902595,
          14879.9604189848,
          8330.11158587435,
          6222.83887305062,
          9734.30663118431,
          11761.4806106278,
          10062.3550529876,
          18668.6360171298,
          13540.7393878193,
          13261.7676011428,
          14054.8748682849,
          8142.10129441532,
          8482.13528645865,
          11020.4639314399,
          11918.6598604403,
          7805.07281292383,
          6586.88390125785,
          7853.05558081794,
          12604.6556171386,
          16600.1789025481,
          18145.3931585222,
          6634.91219876664,
          7203.95732445188,
          17885.3484756552,
          2279.30211092489,
          9361.27702089724,
          8054.05962486511,
          15818.0439071066,
          8659.13885258142,
          5599.77181505752,
          6896.93205237552,
          18653.5643985208,
          6271.86350035449,
          4572.52645946323,
          16276.1514168938,
          14148.7790386729,
          8467.16964780179,
          7670.00350001886,
          12204.6003191353,
          5495.74150397021,
          6650.88367200125,
          9708.2650096862,
          8407.12645690742,
          6942.92418874302,
          13636.8176836458,
          8778.08959656809,
          9688.3046073583,
          9356.24899082571,
          6409.83701246951,
          11916.6046396123,
          16695.2218993653,
          15632.0930563657,
          9760.30633918269,
          8933.20865733203,
          10721.4620776058,
          13243.7203671912,
          11246.4939958466,
          6380.83831501198,
          9322.24384268316,
          9493.29710537106,
          10126.3265529624,
          20008.7417674535,
          18330.5473567611,
          18693.5010368758,
          13562.8529347506,
          7180.00161210918,
          6585.89329422514,
          9914.33410946923,
          10733.3338781005,
          14649.9050047009,
          7352.96493459434,
          7037.9540104314,
          9915.31612879983,
          13173.8870100896,
          12922.7294101185,
          11678.4614666866,
          21225.8306369415,
          15613.03744802,
          1959.76608515423,
          10682.4027291328,
          9415.23380181466,
          8813.15740887815,
          9430.26471639064,
          16655.2353635095,
          8986.18397370694,
          9678.29126681251,
          6584.70890183732,
          11022.4758286124,
          14001.8716174545,
          2193.30568195516,
          8647.15640313161,
          10926.4547536071,
          12034.5864329539,
          7058.94129202056,
          13850.8295004721,
          7893.07774835584,
          10319.4256030798,
          7409.99561233099,
          7735.01420726851,
          6538.8816678241,
          11386.5241792978,
          16960.2401759867,
          10026.3306958972,
          15917.0743235091,
          9276.23660515268,
          7985.04107815188,
          12185.6308518432,
          9317.24770353764,
          9502.25042032189,
          7763.02959792945,
          11001.469529694,
          6763.92193066296,
          3351.3243280785,
          13517.8255187859,
          12288.6730107852,
          7441.00305288386,
          2110.6268,
          15223.9976718633,
          6780.92211755603,
          1659.73126579779,
          7655.99132511082,
          9321.24630536493,
          14058.8720981118,
          7787.06521421855,
          2240.96665859685,
          16563.1785551121,
          18275.4415336546,
          9239.24889758806,
          10372.3640448582,
          14413.968861308,
          11400.5338416707,
          14967.9689892259,
          11700.573784811,
          10631.4043504782,
          9695.3144982075,
          8414.11922787324,
          11328.5256136623,
          3056.41527923887,
          20693.739527267,
          5815.7684830192,
          14305.9020349465,
          5390.91163251486,
          4224.46858411545,
          8755.17548716034,
          10275.3877929711,
          20282.7990019373,
          12145.642783536,
          12732.6750432809,
          11230.5064081413,
          10766.4084761746,
          16543.175614347,
          9886.27925284682,
          7714.02732662369,
          6400.85440403374,
          8318.06400477107,
          13952.8606927777,
          16835.2464653503,
          10351.371181587,
          7263.00124501623,
          13034.7635325604,
          5477.74806298353,
          9579.2516030198,
          19506.5887061348,
          18546.467158399,
          11920.5908985052,
          5800.78737779384,
          12891.7418284242,
          5415.70641271328,
          15859.0827319643,
          7602.84927602274,
          13511.7836274048,
          10343.3673130874,
          12970.7289657224,
          11516.5359056624,
          11784.5686391252,
          5860.79762417434,
          15717.1566248797,
          17782.3806236646,
          12284.6094081319,
          8979.20259892028,
          15273.030284258,
          15776.1149169141,
          14854.0062520556,
          14130.8994638167,
          13638.784992086,
          7307.98944891595,
          9314.22836108155,
          21016.7673547671,
          13003.7294602987,
          10958.4463733792,
          6381.83481916633,
          5787.76019735277,
          13183.8357463236,
          9353.39469172562,
          12899.741164872,
          6817.90653856922,
          8626.13577020317,
          3325.38713119337,
          10350.370506576,
          15556.0853187819,
          2056.94807282491,
          7842.07340168653,
          11908.6221945365,
          10854.467963578,
          12683.8346375055,
          5591.71960841968,
          7075.9341978005,
          10622.4214953512,
          6114.77583596605,
          10683.4364422807,
          13226.7739910741,
          9706.28785648373,
          9642.28763800227,
          13069.7476039912,
          12315.6003200751,
          3950.47005685584,
          12975.7088856388,
          10548.4183878335,
          15170.017614421,
          1783.66618442087,
          6752.89570838785,
          8538.16694677702,
          13833.8239641842,
          17792.3742557851,
          17998.5007564676,
          14475.973228528,
          8287.14960732889,
          18099.3850482687,
          7573.02497361604,
          14244.8744250424,
          7413.00672138373,
          6547.90864687187,
          10638.4181849373,
          12984.7430705066,
          7996.05267197161,
          10017.3526582804,
          8950.17063161174,
          7832.06810018311,
          13611.7646498711,
          8375.09793910736,
          15204.9842541053,
          7005.94573297482,
          1627.76220962093,
          5813.77255721288,
          5770.76035995976,
          7736.0206601057,
          7196.93192606948,
          6820.92044565622,
          5803.7605759786,
          10103.3871539849,
          15138.0041749236,
          13221.7603008511,
          7433.99248125007,
          17015.2972055326,
          5940.79327726434,
          9447.25640026794,
          5416.71134759088,
          5936.79906635047,
          12685.6765880221,
          20999.8323586043,
          5510.76076538969,
          14173.9046569949,
          15356.0266063338,
          19663.739214428,
          10641.4324197817,
          11489.5434516231,
          20994.8009711346,
          16278.1335358656,
          12389.6499321411,
          20299.8152109556,
          6922.93430819316,
          9561.23712353639,
          11821.5782254926,
          8412.1525885004,
          5897.75340442458,
          20689.8086799715,
          13262.7671120183,
          11599.558069939,
          16334.2175271464,
          17592.3122263565,
          12907.7295572041,
          17774.3861706229,
          9952.31830866142,
          13809.9215378154,
          17990.4466747123,
          20910.9030599502,
          12050.5763547406,
          18994.5899053366,
          16658.3035102897,
          10403.4178002723,
          13946.8983580767,
          11862.5434365659,
          1816.74386437057,
          10826.4255372604,
          14841.0828650145,
          8783.20260816765,
          9773.2623224309,
          12627.6673749566,
          10882.4474127513,
          14143.928062396,
          7319.01334180692,
          6600.91712880688,
          15796.0919021015,
          10143.2877497911,
          9507.26492549538,
          11997.5875122033,
          5671.75179695154,
          5596.75533934405,
          22932.0606088457,
          7515.00987928378,
          14215.8642281024,
          10233.3408323815,
          8708.17444038597,
          15505.084512747,
          10038.4235050229,
          9398.23334690604,
          15765.1106976406,
          5935.85546033871,
          13349.7587888525,
          2264.49793573054,
          11932.5965534564,
          9413.25680108755,
          9543.26667600164,
          13027.7366574008,
          2009.66256823432,
          12933.7066734179,
          6147.82688750794,
          9082.23404749921,
          16647.2206496457,
          13503.8960480781,
          9305.24287523699,
          8857.19815936858,
          19918.6465623474,
          17635.3696425097,
          6408.1099098491,
          6412.86167459997,
          13228.7640355731,
          10567.3910393939,
          7113.95154325887,
          6736.89352773314,
          2735.36372828651,
          8506.14506753737,
          7846.05714337728,
          5496.72217671465,
          6993.93761063253,
          8702.15582725574,
          15135.0431491216,
          8494.17694431496,
          21135.816842288,
          19624.5884113809,
          10538.3881435566,
          13856.8719570682,
          10361.3511773599,
          5208.59139884557,
          14158.8782104353,
          11936.6012931881,
          9301.27233245853,
          5782.76806115312,
          11741.5812999193,
          6172.83863166677,
          17375.3202213749,
          8932.22648975288,
          14012.8775808573,
          13369.7757371894,
          12332.6574925457,
          6702.88400419277,
          6542.8780895431,
          12967.718649929,
          1938.25523659973,
          7326.98568893393,
          12887.7643304301,
          12964.7582493289,
          15682.1731459561,
          13515.8180594816,
          11628.5421349576,
          16098.1687342994,
          2720.3519336737,
          6036.77944078303,
          12593.6902612384,
          12474.6648743683,
          9608.28894852312,
          13868.9198114118,
          8803.17259736155,
          7919.07003956856,
          7312.96351035634,
          18751.5003290013,
          8818.1926642845,
          10881.4773887058,
          15453.0262521057,
          12273.6471228646,
          12164.5820256574,
          12560.8171179526,
          10217.3533937339,
          6112.79142984781,
          11192.4692105648,
          8650.14027902585,
          5854.79235220824,
          5880.80285581379,
          12045.6316252303,
          15807.1071433923,
          16175.1362629136,
          6521.8902114996,
          6699.89720003796,
          6044.83848212646,
          13543.8328018375,
          11133.492471479,
          5958.81430061127,
          11303.6432916986,
          13846.826363579,
          8220.09920277183,
          10902.4510367875,
          13864.8728708417,
          6802.88438161563,
          5541.77921924796,
          16363.2540989696,
          12467.6691429044,
          7642.97272814577,
          12830.7207058664,
          13808.8560673556,
          17473.3461936047,
          19156.5592051564,
          5705.73039904266,
          1511.82433334413,
          1899.05986207706,
          5869.7609863849,
          7023.94392379989,
          6321.89331480171,
          6314.81134551711,
          10522.447172706,
          5696.73624540256,
          8707.17115658607,
          5473.73077086302,
          16443.2900635945,
          13599.8999925962,
          15179.0178979008,
          12355.771736354,
          7978.03035010118,
          6692.86651131407,
          10549.4238537918,
          6322.89376409462,
          8281.10488524833
         ],
         "xaxis": "x",
         "y": [
          33.8092947538376,
          24.3224522288322,
          24.3873628711383,
          6.05577282067935,
          24.3873628711383,
          24.3873628711383,
          9.50157676892281,
          33.8092947538376,
          24.3224522288322,
          24.4476813292185,
          14.8276105041981,
          24.3224522288322,
          16.1280594443957,
          24.3224522288322,
          24.3873628711383,
          24.4476813292185,
          15.8712847447077,
          16.9066669618765,
          24.3224522288322,
          19.0596802369436,
          19.7036349212805,
          16.9729318952243,
          20.0959350184282,
          31.2763754125118,
          17.884085279274,
          24.6466927623431,
          18.4721825535774,
          20.2902232702255,
          24.3224522288322,
          18.7952223952293,
          28.5422863200982,
          15.7387554859797,
          31.3424283460458,
          33.87534454422,
          33.6139541105112,
          16.3268532033443,
          30.6247464950562,
          19.9006510948817,
          18.6626929874897,
          24.4476813292185,
          14.6370915627162,
          31.8545784369787,
          21.1997796034495,
          17.3705271597385,
          24.3873628711383,
          31.3424283460458,
          24.4476813292185,
          24.3873628711383,
          20.6776380792936,
          21.0027177707036,
          19.4399704372565,
          24.4476813292185,
          21.588224962918,
          10.4127300278028,
          24.4476813292185,
          31.7304974790096,
          17.8178206439495,
          32.2518487031937,
          19.1258864855448,
          21.3264694785754,
          20.4839895522277,
          21.461793887186,
          24.6466927623431,
          19.8345881437937,
          20.0302140529633,
          17.7515564775149,
          18.0166143691222,
          32.9630645529111,
          20.8760408774694,
          16.1280594443957,
          18.3396540518284,
          14.7033643956661,
          33.5535930629253,
          18.6626929874897,
          24.6466927623431,
          17.4947733537038,
          18.5964287852923,
          14.5045633709113,
          13.5934264615854,
          21.9166846370379,
          18.7289575532754,
          24.2536350464503,
          20.0302140529633,
          20.4839895522277,
          19.1258864855448,
          17.4285086369197,
          30.9465606526216,
          18.2733895774364,
          17.6273104862054,
          21.588224962918,
          33.87534454422,
          19.571788560915,
          22.3058144445896,
          16.9066669618765,
          24.3873628711383,
          6.1220369453907,
          33.5535930629253,
          18.7952223952293,
          21.7848750447909,
          15.0843938286781,
          24.3224522288322,
          24.3873628711383,
          17.1054607029438,
          20.6130619620959,
          21.066217902867,
          18.0828788435141,
          33.87534454422,
          18.8614867186228,
          18.5964287852923,
          33.8092947538376,
          24.4476813292185,
          21.9784083878676,
          20.4199219460964,
          19.4399704372565,
          16.2605883872191,
          24.5172455445608,
          33.749485661157,
          20.2247304951827,
          33.6139541105112,
          17.2379900212765,
          19.8345881437937,
          18.3396540518284,
          17.0391967034022,
          18.4721825535774,
          22.6269574618022,
          18.7289575532754,
          20.6776380792936,
          33.87534454422,
          22.500942112573,
          24.3224522288322,
          16.5256462688923,
          15.1506581779003,
          24.3873628711383,
          18.9939491108735,
          19.1258864855448,
          22.1166095371723,
          18.0166143691222,
          28.2218662953059,
          20.8760408774694,
          22.1771261946042,
          18.2733895774364,
          16.459382110405,
          20.3553051030318,
          17.7515564775149,
          20.2902232702255,
          21.7220476881345,
          15.4157159026146,
          19.9650769964536,
          17.884085279274,
          20.5487740452766,
          22.3731814201355,
          20.8051827029069,
          18.5301646526337,
          30.4348579203765,
          13.9827299709797,
          18.7952223952293,
          23.734287893343,
          20.0959350184282,
          22.3731814201355,
          20.6776380792936,
          22.828373735714,
          19.183867728281,
          18.6626929874897,
          17.8178206439495,
          17.3705271597385,
          18.3396540518284,
          19.7690477446397,
          19.183867728281,
          20.0959350184282,
          24.3224522288322,
          19.7690477446397,
          22.2380535538673,
          23.1522585367839,
          18.0828788435141,
          33.095412236023,
          21.3264694785754,
          19.571788560915,
          21.0027177707036,
          16.3268532033443,
          16.6498923615297,
          16.8404029961109,
          22.4331826444149,
          33.9418265199343,
          17.884085279274,
          27.0538102443695,
          20.8051827029069,
          21.7220476881345,
          19.183867728281,
          21.1368089274248,
          23.3423831359228,
          18.2154077446143,
          20.2247304951827,
          22.8870214875221,
          21.9166846370379,
          17.6273104862054,
          21.461793887186,
          21.1997796034495,
          19.183867728281,
          23.0207060293039,
          15.9955304876645,
          19.6380532776992,
          20.2247304951827,
          18.4059180116336,
          22.0402345037142,
          17.6273104862054,
          18.7289575532754,
          21.3264694785754,
          20.1611198540211,
          21.0027177707036,
          23.4153719361305,
          22.7618750210285,
          21.9166846370379,
          21.6513775384108,
          18.5964287852923,
          16.8404029961109,
          21.7848750447909,
          18.9939491108735,
          18.8614867186228,
          17.7515564775149,
          20.5487740452766,
          18.5964287852923,
          20.2902232702255,
          19.9650769964536,
          19.1258864855448,
          14.3720336373329,
          18.2733895774364,
          17.2379900212765,
          18.0828788435141,
          16.3268532033443,
          19.1258864855448,
          19.7690477446397,
          13.3366514618874,
          19.0596802369436,
          18.9939491108735,
          22.2380535538673,
          19.4399704372565,
          17.1717250938892,
          18.0828788435141,
          16.459382110405,
          18.92775104599,
          17.8178206439495,
          15.0264126018365,
          20.3553051030318,
          17.3705271597385,
          22.2380535538673,
          22.2380535538673,
          34.7190695360978,
          21.9166846370379,
          17.4285086369197,
          19.7690477446397,
          23.3423831359228,
          19.382003143994,
          19.4399704372565,
          16.393117636013,
          16.6498923615297,
          19.7036349212805,
          17.9503498689016,
          18.1491432205518,
          18.4059180116336,
          16.459382110405,
          21.1997796034495,
          23.4153719361305,
          18.5301646526337,
          22.3731814201355,
          22.1771261946042,
          16.9066669618765,
          21.588224962918,
          13.2041219269911,
          21.8552495872657,
          20.6776380792936,
          16.7824217017174,
          20.3553051030318,
          19.8345881437937,
          17.4285086369197,
          19.4399704372565,
          20.7416711365859,
          17.6273104862054,
          22.3058144445896,
          17.3042543963273,
          17.4285086369197,
          24.4476813292185,
          17.5610375201384,
          21.9784083878676,
          19.382003143994,
          17.0391967034022,
          18.5964287852923,
          16.7824217017174,
          20.5487740452766,
          18.3396540518284,
          19.3157966530005,
          19.8345881437937,
          18.6626929874897,
          18.1491432205518,
          17.3042543963273,
          20.0302140529633,
          20.3553051030318,
          22.6944710528533,
          19.8345881437937,
          17.4947733537038,
          18.7952223952293,
          17.3705271597385,
          22.9538397864183,
          18.2733895774364,
          18.92775104599,
          26.7893773273309,
          16.9729318952243,
          23.4153719361305,
          16.8404029961109,
          23.3423831359228,
          17.0391967034022,
          23.0207060293039,
          18.0166143691222,
          19.3157966530005,
          20.4199219460964,
          17.3042543963273,
          5.46766680436134,
          16.5256462688923,
          18.5964287852923,
          20.2902232702255,
          19.382003143994,
          19.183867728281,
          17.2379900212765,
          18.4059180116336,
          21.9166846370379,
          22.6269574618022,
          21.7220476881345,
          19.183867728281,
          21.6513775384108,
          19.4399704372565,
          19.1258864855448,
          15.8712847447077,
          22.6269574618022,
          18.92775104599,
          16.2605883872191,
          19.4399704372565,
          20.6776380792936,
          18.4059180116336,
          21.3264694785754,
          19.571788560915,
          20.6776380792936,
          19.6380532776992,
          22.9538397864183,
          22.7618750210285,
          18.5964287852923,
          19.0596802369436,
          19.9006510948817,
          17.884085279274,
          17.3042543963273,
          20.2247304951827,
          22.1166095371723,
          21.1997796034495,
          22.4331826444149,
          18.9939491108735,
          19.2500656858762,
          20.2902232702255,
          17.6852919534524,
          19.0596802369436,
          18.0166143691222,
          19.9006510948817,
          16.9729318952243,
          22.8870214875221,
          20.4199219460964,
          21.9784083878676,
          19.5059574440797,
          19.0596802369436,
          21.3264694785754,
          30.3687597687721,
          23.1522585367839,
          16.7161568855921,
          22.1166095371723,
          22.2380535538673,
          14.5708271777312,
          20.6130619620959,
          20.7416711365859,
          19.4399704372565,
          18.3396540518284,
          19.3157966530005,
          23.1522585367839,
          20.5487740452766,
          17.7515564775149,
          19.0596802369436,
          16.459382110405,
          20.5487740452766,
          18.8614867186228,
          22.6269574618022,
          19.2500656858762,
          22.8870214875221,
          19.4399704372565,
          19.183867728281,
          20.1611198540211,
          19.7036349212805,
          19.183867728281,
          19.0596802369436,
          19.7036349212805,
          18.6626929874897,
          18.8614867186228,
          19.7690477446397,
          19.0596802369436,
          22.3731814201355,
          20.0302140529633,
          26.7893773273309,
          17.2379900212765,
          20.3553051030318,
          18.5964287852923,
          16.6498923615297,
          20.9394164875825,
          23.1522585367839,
          17.6273104862054,
          23.3423831359228,
          17.884085279274,
          16.393117636013,
          21.1368089274248,
          18.8614867186228,
          19.2500656858762,
          20.2247304951827,
          17.6852919534524,
          19.1258864855448,
          17.1717250938892,
          21.461793887186,
          15.8050202444871,
          19.6380532776992,
          24.5172455445608,
          16.393117636013,
          12.2350036596934,
          15.6145100787957,
          18.4721825535774,
          19.571788560915,
          19.9650769964536,
          18.9939491108735,
          19.7036349212805,
          16.5256462688923,
          20.0302140529633,
          19.7690477446397,
          19.1258864855448,
          20.0302140529633,
          20.2902232702255,
          22.1166095371723,
          24.7093240117709,
          17.6273104862054,
          20.0959350184282,
          18.7952223952293,
          20.5487740452766,
          19.4399704372565,
          20.9394164875825,
          17.1717250938892,
          20.8760408774694,
          17.6273104862054,
          17.7515564775149,
          20.3553051030318,
          19.8345881437937,
          17.884085279274,
          22.7618750210285,
          17.9503498689016,
          23.3423831359228,
          20.1611198540211,
          17.2379900212765,
          17.5610375201384,
          15.4819806690693,
          20.2247304951827,
          20.0302140529633,
          21.3264694785754,
          16.459382110405,
          22.3731814201355,
          16.7824217017174,
          18.0828788435141,
          21.1368089274248,
          33.0278791363716,
          23.4153719361305,
          19.6380532776992,
          17.1717250938892,
          17.4947733537038,
          19.183867728281,
          20.4199219460964,
          22.9538397864183,
          20.1611198540211,
          19.183867728281,
          19.2500656858762,
          23.734287893343,
          22.5680154021263,
          16.1943244115194,
          17.3705271597385,
          14.9601477876981,
          17.8178206439495,
          20.8051827029069,
          20.8051827029069,
          21.2630911028067,
          19.6380532776992,
          18.0828788435141,
          19.9006510948817,
          18.2154077446143,
          19.4399704372565,
          20.5487740452766,
          19.5059574440797,
          22.1166095371723,
          19.7036349212805,
          20.0302140529633,
          18.3396540518284,
          17.8178206439495,
          18.7952223952293,
          17.1054607029438,
          20.6776380792936,
          18.4721825535774,
          18.5964287852923,
          18.1491432205518,
          20.3553051030318,
          20.6130619620959,
          23.4732312516053,
          19.1258864855448,
          20.6130619620959,
          19.8345881437937,
          18.8614867186228,
          14.5708271777312,
          24.6466927623431,
          20.9394164875825,
          22.7618750210285,
          19.9006510948817,
          23.1522585367839,
          14.1815232034206,
          18.0828788435141,
          18.8614867186228,
          16.5836282864888,
          20.4199219460964,
          18.2154077446143,
          23.5455963706652,
          20.8051827029069,
          16.7161568855921,
          20.2247304951827,
          17.884085279274,
          18.4059180116336,
          15.8712847447077,
          18.8614867186228,
          19.382003143994,
          18.7289575532754,
          18.92775104599,
          19.6380532776992,
          21.9166846370379,
          20.2247304951827,
          16.5836282864888,
          22.3058144445896,
          23.6036679104646,
          17.5610375201384,
          16.1280594443957,
          19.3157966530005,
          23.0207060293039,
          17.3042543963273,
          17.0391967034022,
          20.0959350184282,
          18.7289575532754,
          18.8614867186228,
          20.2247304951827,
          19.3157966530005,
          21.3264694785754,
          18.92775104599,
          19.6380532776992,
          19.5059574440797,
          19.7690477446397,
          17.1717250938892,
          15.3494519527435,
          23.0207060293039,
          20.5487740452766,
          19.1258864855448,
          20.9394164875825,
          23.1522585367839,
          14.5708271777312,
          20.4199219460964,
          17.6273104862054,
          16.6498923615297,
          19.4399704372565,
          19.5059574440797,
          18.7952223952293,
          15.9955304876645,
          22.500942112573,
          16.7824217017174,
          20.2902232702255,
          21.9166846370379,
          19.8345881437937,
          19.7036349212805,
          16.9066669618765,
          21.6513775384108,
          16.0617949700038,
          21.3904274459362,
          20.2247304951827,
          18.4059180116336,
          19.1258864855448,
          21.3264694785754,
          20.0959350184282,
          17.3705271597385,
          18.5964287852923,
          23.5455963706652,
          21.2630911028067,
          21.1997796034495,
          19.9006510948817,
          20.4839895522277,
          21.9166846370379,
          18.5964287852923,
          19.6380532776992,
          23.5455963706652,
          22.6944710528533,
          20.8051827029069,
          16.1280594443957,
          18.8614867186228,
          20.5487740452766,
          20.3553051030318,
          19.0596802369436,
          24.8393232361158,
          19.4399704372565,
          17.0391967034022,
          16.8404029961109,
          22.6269574618022,
          20.3553051030318,
          23.5455963706652,
          16.393117636013,
          18.7952223952293,
          21.6513775384108,
          20.0959350184282,
          17.6852919534524,
          18.5964287852923,
          16.1943244115194,
          25.033518586127,
          33.0278791363716,
          21.1368089274248,
          21.5249683355967,
          17.3042543963273,
          13.9247482116699,
          18.7952223952293,
          15.2169227953434,
          20.3553051030318,
          22.5680154021263,
          17.6273104862054,
          18.9939491108735,
          17.7515564775149,
          19.382003143994,
          18.9939491108735,
          16.6498923615297,
          18.7952223952293,
          19.7690477446397,
          15.0264126018365,
          19.7036349212805,
          21.9166846370379,
          19.571788560915,
          19.7690477446397,
          17.0391967034022,
          20.0302140529633,
          19.4399704372565,
          14.8938751037598,
          20.4839895522277,
          20.8051827029069,
          19.3157966530005,
          21.588224962918,
          20.6776380792936,
          21.7220476881345,
          20.3553051030318,
          20.4199219460964,
          18.4721825535774,
          23.734287893343,
          20.0302140529633,
          21.066217902867,
          18.1491432205518,
          20.0959350184282,
          19.7036349212805,
          18.8614867186228,
          21.588224962918,
          22.3058144445896,
          23.805825336345,
          18.8614867186228,
          17.5610375201384,
          16.459382110405,
          23.0207060293039,
          20.0302140529633,
          20.6130619620959,
          22.1166095371723,
          20.6776380792936,
          15.9292664960702,
          20.3553051030318,
          15.5482454375108,
          22.8870214875221,
          20.2902232702255,
          19.5059574440797,
          31.5982368703365,
          20.2902232702255,
          18.4059180116336,
          19.571788560915,
          21.9166846370379,
          18.92775104599,
          18.1491432205518,
          23.5455963706652,
          19.0596802369436,
          23.0863358612537,
          20.1611198540211,
          20.4839895522277,
          20.1611198540211,
          22.6269574618022,
          19.7690477446397,
          18.2733895774364,
          9.11227282838821,
          20.1611198540211,
          20.2902232702255,
          23.805825336345,
          22.2380535538673,
          25.8773239866575,
          20.9394164875825,
          23.6766401525021,
          22.7618750210285,
          19.1258864855448,
          17.1054607029438,
          23.0863358612537,
          16.5256462688923,
          16.459382110405,
          20.6130619620959,
          19.5059574440797,
          17.8178206439495,
          21.7848750447909,
          17.3042543963273,
          22.500942112573,
          22.6269574618022,
          19.1258864855448,
          18.92775104599,
          19.5059574440797,
          18.0166143691222,
          16.393117636013,
          15.1506581779003,
          17.6273104862054,
          14.5708271777312,
          17.1717250938892,
          32.1856355940978,
          19.5059574440797,
          18.4059180116336,
          23.734287893343,
          15.8712847447077,
          18.0166143691222,
          18.4721825535774,
          22.8870214875221,
          17.0391967034022,
          18.7289575532754,
          21.7220476881345,
          20.9394164875825,
          19.3157966530005,
          18.7289575532754,
          21.9784083878676,
          18.9939491108735,
          20.8051827029069,
          19.3157966530005,
          18.1491432205518,
          18.5964287852923,
          16.5836282864888,
          20.3553051030318,
          21.0027177707036,
          22.2380535538673,
          17.1054607029438,
          20.6776380792936,
          19.1258864855448,
          17.6273104862054,
          18.0828788435141,
          19.8345881437937,
          21.9784083878676,
          19.8345881437937,
          20.4839895522277,
          22.3058144445896,
          21.3904274459362,
          20.4839895522277,
          20.5487740452766,
          19.9650769964536,
          20.4199219460964,
          20.4199219460964,
          18.7289575532754,
          22.2380535538673,
          19.183867728281,
          22.5680154021263,
          23.0863358612537,
          22.1166095371723,
          23.3423831359228,
          27.0538102443695,
          18.4721825535774,
          22.8870214875221,
          16.0617949700038,
          17.0391967034022,
          16.393117636013,
          20.3553051030318,
          20.4839895522277,
          20.2902232702255,
          20.8051827029069,
          19.3157966530005,
          17.4947733537038,
          16.7161568855921,
          16.6498923615297,
          23.5455963706652,
          20.4199219460964,
          17.2379900212765,
          20.3553051030318,
          22.828373735714,
          18.5301646526337,
          20.8051827029069,
          18.8614867186228,
          16.1943244115194,
          16.3268532033443,
          19.6380532776992,
          10.9262796874523,
          19.571788560915,
          15.6724913036505,
          17.7515564775149,
          20.5487740452766,
          23.805825336345,
          17.884085279274,
          22.6269574618022,
          21.7848750447909,
          20.8760408774694,
          20.8760408774694,
          8.32538190242449,
          19.3157966530005,
          20.3553051030318,
          15.2831873949051,
          20.9394164875825,
          17.6852919534524,
          22.6269574618022,
          21.066217902867,
          24.4476813292185,
          20.9394164875825,
          21.3264694785754,
          20.8051827029069,
          18.2154077446143,
          17.2379900212765,
          17.8178206439495,
          19.2500656858762,
          16.393117636013,
          21.3904274459362,
          18.6626929874897,
          19.183867728281,
          23.2843933041573,
          22.5680154021263,
          18.9939491108735,
          19.9650769964536,
          16.6498923615297,
          16.1943244115194,
          21.7220476881345,
          19.571788560915,
          20.8760408774694,
          20.2247304951827,
          20.5487740452766,
          17.884085279274,
          20.8051827029069,
          19.382003143994,
          22.6269574618022,
          21.3904274459362,
          19.2500656858762,
          21.3264694785754,
          15.4157159026146,
          23.0207060293039,
          19.571788560915,
          15.8712847447077,
          20.0302140529633,
          15.0843938286781,
          6.05577282067935,
          18.0828788435141,
          21.9784083878676,
          20.7416711365859,
          18.6626929874897,
          21.6513775384108,
          22.1771261946042,
          15.1506581779003,
          22.500942112573,
          20.3553051030318,
          19.382003143994,
          19.7690477446397,
          19.8345881437937,
          20.7416711365859,
          23.0207060293039,
          17.7515564775149,
          17.6273104862054,
          21.5249683355967,
          19.5059574440797,
          20.8760408774694,
          19.7690477446397,
          23.2843933041573,
          17.4947733537038,
          20.0959350184282,
          18.7289575532754,
          12.4255143439452,
          18.4721825535774,
          17.5610375201384,
          21.9784083878676,
          22.2380535538673,
          23.4153719361305,
          19.183867728281,
          19.0596802369436,
          18.2733895774364,
          17.4285086369197,
          9.43531194485029,
          20.3553051030318,
          23.0207060293039,
          18.5301646526337,
          20.8760408774694,
          23.9364288683414,
          21.3904274459362,
          21.5249683355967,
          17.1717250938892,
          22.828373735714,
          22.7618750210285,
          21.066217902867,
          19.7690477446397,
          18.0166143691222,
          19.7036349212805,
          20.0302140529633,
          21.1368089274248,
          23.6766401525021,
          20.6130619620959,
          15.7387554859797,
          22.1166095371723,
          19.8345881437937,
          21.9784083878676,
          19.6380532776992,
          19.8345881437937,
          18.1491432205518,
          21.1997796034495,
          23.2107943768978,
          19.9006510948817,
          22.1166095371723,
          20.4199219460964,
          19.7690477446397,
          22.3731814201355,
          19.183867728281,
          22.4331826444149,
          22.3731814201355,
          20.6776380792936,
          21.461793887186,
          18.0828788435141,
          20.2902232702255,
          17.4285086369197,
          20.2902232702255,
          22.3058144445896,
          19.6380532776992,
          22.1771261946042,
          18.0828788435141,
          17.8178206439495,
          23.6036679104646,
          20.9394164875825,
          21.1368089274248,
          22.1771261946042,
          21.3904274459362,
          21.6513775384108,
          23.805825336345,
          18.1491432205518,
          23.6036679104646,
          11.1913378115177,
          20.8051827029069,
          20.4839895522277,
          22.1771261946042,
          23.6036679104646,
          20.6776380792936,
          23.734287893343,
          21.8552495872657,
          22.2380535538673,
          17.3705271597385,
          16.5836282864888,
          22.1166095371723,
          23.805825336345,
          19.5059574440797,
          20.5487740452766,
          19.382003143994,
          29.4559247032483,
          23.734287893343,
          19.8345881437937,
          17.3705271597385,
          21.9166846370379,
          21.588224962918,
          18.4721825535774,
          21.0027177707036,
          20.1611198540211,
          22.2380535538673,
          19.7036349212805,
          19.183867728281,
          22.9538397864183,
          22.1771261946042,
          19.382003143994,
          19.1258864855448,
          17.6852919534524,
          16.9729318952243,
          23.6766401525021,
          22.2380535538673,
          17.2379900212765,
          20.9394164875825,
          13.9247482116699,
          18.4721825535774,
          23.0207060293039,
          20.2247304951827,
          15.4819806690693,
          22.4331826444149,
          21.6513775384108,
          23.6036679104646,
          20.6130619620959,
          19.382003143994,
          21.588224962918,
          19.6380532776992,
          19.382003143994,
          21.3264694785754,
          19.4399704372565,
          20.5487740452766,
          23.8637943104585,
          18.7289575532754,
          20.2247304951827,
          21.1368089274248,
          22.5680154021263,
          19.9650769964536,
          20.8051827029069,
          20.5487740452766,
          22.2380535538673,
          23.734287893343,
          20.0959350184282,
          18.8614867186228,
          20.9394164875825,
          19.9006510948817,
          14.7696293945789,
          18.2154077446143,
          21.1997796034495,
          19.8345881437937,
          19.7690477446397,
          17.1717250938892,
          20.8051827029069,
          22.6944710528533,
          15.1506581779003,
          20.3553051030318,
          23.4732312516053,
          22.1771261946042,
          20.6130619620959,
          23.8637943104585,
          19.382003143994,
          20.2247304951827,
          23.805825336345,
          18.8614867186228,
          18.6626929874897,
          22.7618750210285,
          19.9006510948817,
          16.8404029961109,
          20.5487740452766,
          21.7220476881345,
          21.066217902867,
          23.2843933041573,
          22.2380535538673,
          22.1771261946042,
          22.4331826444149,
          19.571788560915,
          19.7036349212805,
          21.3264694785754,
          21.9784083878676,
          19.4399704372565,
          17.4947733537038,
          18.92775104599,
          21.7848750447909,
          23.1522585367839,
          23.4153719361305,
          17.6852919534524,
          18.2733895774364,
          23.5455963706652,
          17.6852919534524,
          20.4199219460964,
          19.3157966530005,
          23.0207060293039,
          20.0959350184282,
          15.4157159026146,
          18.0166143691222,
          23.4153719361305,
          16.9066669618765,
          15.4819806690693,
          23.0207060293039,
          22.8870214875221,
          19.9650769964536,
          18.9939491108735,
          22.1166095371723,
          14.3057690357844,
          17.6273104862054,
          20.2247304951827,
          19.7036349212805,
          17.0391967034022,
          22.1771261946042,
          20.0302140529633,
          20.8051827029069,
          20.2247304951827,
          17.5610375201384,
          21.588224962918,
          23.2843933041573,
          22.9538397864183,
          20.6130619620959,
          19.3157966530005,
          21.461793887186,
          22.1771261946042,
          21.3904274459362,
          17.6273104862054,
          20.3553051030318,
          20.3553051030318,
          20.7416711365859,
          23.8637943104585,
          23.4732312516053,
          23.5455963706652,
          22.3058144445896,
          18.92775104599,
          17.6852919534524,
          20.5487740452766,
          21.1368089274248,
          22.7618750210285,
          18.6626929874897,
          18.5964287852923,
          20.8760408774694,
          22.1166095371723,
          21.9784083878676,
          21.9166846370379,
          23.994354344972,
          22.9538397864183,
          30.4348579203765,
          21.1997796034495,
          20.0959350184282,
          20.0302140529633,
          20.4839895522277,
          23.2107943768978,
          19.9650769964536,
          20.5487740452766,
          17.884085279274,
          21.2630911028067,
          22.4331826444149,
          17.7515564775149,
          20.0302140529633,
          21.2630911028067,
          21.7220476881345,
          18.3396540518284,
          22.500942112573,
          19.1258864855448,
          20.6776380792936,
          18.7289575532754,
          18.7952223952293,
          17.4947733537038,
          21.461793887186,
          23.2843933041573,
          20.7416711365859,
          23.0863358612537,
          20.4199219460964,
          19.5059574440797,
          21.7848750447909,
          20.2902232702255,
          20.1611198540211,
          18.9939491108735,
          21.2630911028067,
          18.0166143691222,
          26.9875458951473,
          22.1166095371723,
          21.7220476881345,
          18.92775104599,
          32.1856355940978,
          22.7618750210285,
          17.8178206439495,
          15.8712847447077,
          19.0596802369436,
          20.6130619620959,
          22.5680154021263,
          19.5059574440797,
          18.2733895774364,
          23.0863358612537,
          23.5455963706652,
          19.571788560915,
          20.8051827029069,
          22.5680154021263,
          21.461793887186,
          22.828373735714,
          21.7220476881345,
          21.0027177707036,
          20.4839895522277,
          19.571788560915,
          21.3904274459362,
          17.6273104862054,
          23.9364288683414,
          15.3494519527435,
          22.5680154021263,
          18.5964287852923,
          13.9827299709797,
          20.0302140529633,
          20.8051827029069,
          23.8637943104585,
          21.8552495872657,
          21.9784083878676,
          21.3904274459362,
          20.6776380792936,
          23.1522585367839,
          20.6776380792936,
          19.3157966530005,
          16.9729318952243,
          19.9006510948817,
          22.5680154021263,
          23.2107943768978,
          21.1368089274248,
          18.2733895774364,
          22.2380535538673,
          15.6145100787957,
          20.4839895522277,
          23.805825336345,
          23.6036679104646,
          21.6513775384108,
          15.6724913036505,
          22.0402345037142,
          14.6370915627162,
          23.0863358612537,
          19.0596802369436,
          22.3058144445896,
          20.7416711365859,
          22.3058144445896,
          21.461793887186,
          21.6513775384108,
          15.6724913036505,
          22.828373735714,
          23.3423831359228,
          21.8552495872657,
          20.4199219460964,
          22.8870214875221,
          22.8870214875221,
          22.7618750210285,
          22.4331826444149,
          22.4331826444149,
          18.7952223952293,
          20.6130619620959,
          24.0655254359722,
          22.1166095371723,
          21.2630911028067,
          17.5610375201384,
          15.6724913036505,
          22.1771261946042,
          19.9650769964536,
          22.0402345037142,
          18.3396540518284,
          19.9006510948817,
          12.2929850951513,
          20.9394164875825,
          22.8870214875221,
          17.1717250938892,
          19.4399704372565,
          21.588224962918,
          21.1368089274248,
          23.2107943768978,
          14.8276105041981,
          18.4059180116336,
          21.1368089274248,
          17.2379900212765,
          21.3904274459362,
          22.2380535538673,
          20.4839895522277,
          20.4199219460964,
          22.1771261946042,
          22.0402345037142,
          14.1815232034206,
          22.1166095371723,
          20.9394164875825,
          22.828373735714,
          12.7485542034785,
          18.0166143691222,
          19.7690477446397,
          22.3731814201355,
          23.4153719361305,
          23.2107943768978,
          22.500942112573,
          19.4399704372565,
          23.4732312516053,
          18.7289575532754,
          22.4331826444149,
          18.9939491108735,
          17.884085279274,
          20.8760408774694,
          22.1166095371723,
          19.5059574440797,
          21.1368089274248,
          20.0959350184282,
          19.3157966530005,
          22.3731814201355,
          19.4399704372565,
          22.8870214875221,
          18.2733895774364,
          29.6445156371276,
          16.3268532033443,
          15.9955304876645,
          19.0596802369436,
          18.4721825535774,
          18.2154077446143,
          15.4819806690693,
          20.8051827029069,
          22.828373735714,
          22.0402345037142,
          18.8614867186228,
          23.2843933041573,
          15.7387554859797,
          20.3553051030318,
          14.3720336373329,
          16.1280594443957,
          22.0402345037142,
          23.994354344972,
          15.6724913036505,
          22.2380535538673,
          22.7618750210285,
          23.6036679104646,
          21.066217902867,
          21.5249683355967,
          23.994354344972,
          23.0207060293039,
          21.8552495872657,
          23.6036679104646,
          17.884085279274,
          20.4199219460964,
          21.6513775384108,
          19.9650769964536,
          16.0617949700038,
          23.8637943104585,
          22.1166095371723,
          21.5249683355967,
          23.0863358612537,
          23.4732312516053,
          22.1771261946042,
          23.4732312516053,
          20.5487740452766,
          22.2380535538673,
          23.3423831359228,
          23.805825336345,
          21.7848750447909,
          23.6036679104646,
          23.0863358612537,
          21.1997796034495,
          22.4331826444149,
          21.7848750447909,
          14.4382981455008,
          21.1997796034495,
          22.4331826444149,
          20.2247304951827,
          20.6130619620959,
          22.0402345037142,
          21.1997796034495,
          22.2380535538673,
          18.0828788435141,
          17.6273104862054,
          22.9538397864183,
          20.8760408774694,
          20.4199219460964,
          21.7848750447909,
          14.8938751037598,
          14.3720336373329,
          24.1900396442095,
          19.0596802369436,
          22.5680154021263,
          20.8051827029069,
          20.1611198540211,
          22.7618750210285,
          26.7893773273309,
          20.0959350184282,
          22.9538397864183,
          16.7824217017174,
          22.3058144445896,
          29.6445156371276,
          21.588224962918,
          20.5487740452766,
          20.3553051030318,
          22.1771261946042,
          31.7304974790096,
          22.0402345037142,
          17.4285086369197,
          20.4199219460964,
          23.1522585367839,
          21.9166846370379,
          20.1611198540211,
          19.9006510948817,
          23.9364288683414,
          23.4732312516053,
          19.7036349212805,
          17.884085279274,
          22.1771261946042,
          21.1997796034495,
          18.0828788435141,
          18.2733895774364,
          19.382003143994,
          19.571788560915,
          19.0596802369436,
          13.9827299709797,
          18.2154077446143,
          20.0959350184282,
          22.7618750210285,
          20.2247304951827,
          23.994354344972,
          23.734287893343,
          21.066217902867,
          22.3058144445896,
          20.7416711365859,
          14.1815232034206,
          22.3058144445896,
          21.6513775384108,
          20.2902232702255,
          16.3268532033443,
          21.6513775384108,
          17.0391967034022,
          23.3423831359228,
          19.8345881437937,
          22.6269574618022,
          22.3731814201355,
          21.9784083878676,
          16.7161568855921,
          17.3042543963273,
          22.1771261946042,
          16.5256462688923,
          18.6626929874897,
          22.1166095371723,
          22.3731814201355,
          22.9538397864183,
          22.3058144445896,
          21.3904274459362,
          22.9538397864183,
          14.0489942447027,
          16.9729318952243,
          22.0402345037142,
          21.8552495872657,
          20.4839895522277,
          22.1771261946042,
          19.9650769964536,
          19.382003143994,
          18.7289575532754,
          23.4732312516053,
          19.9650769964536,
          20.9394164875825,
          22.7618750210285,
          21.7220476881345,
          21.7848750447909,
          21.5249683355967,
          20.8760408774694,
          15.7387554859797,
          21.3904274459362,
          19.8345881437937,
          15.4157159026146,
          15.2169227953434,
          21.7220476881345,
          22.9538397864183,
          23.0863358612537,
          18.2733895774364,
          17.884085279274,
          16.7161568855921,
          22.3058144445896,
          21.3264694785754,
          16.393117636013,
          20.8760408774694,
          22.4331826444149,
          19.382003143994,
          21.1997796034495,
          22.5680154021263,
          17.5610375201384,
          15.8050202444871,
          23.0207060293039,
          21.7848750447909,
          18.9939491108735,
          21.9784083878676,
          22.4331826444149,
          23.3423831359228,
          23.734287893343,
          15.9292664960702,
          26.2082800026417,
          27.3141183769385,
          15.6145100787957,
          18.5964287852923,
          16.6498923615297,
          17.4285086369197,
          21.0027177707036,
          15.0843938286781,
          19.8345881437937,
          15.9955304876645,
          23.1522585367839,
          22.3058144445896,
          22.7618750210285,
          23.0207060293039,
          19.5059574440797,
          17.6273104862054,
          21.0027177707036,
          16.5836282864888,
          19.0596802369436
         ],
         "yaxis": "y"
        }
       ],
       "layout": {
        "legend": {
         "tracegroupgap": 0
        },
        "margin": {
         "t": 60
        },
        "template": {
         "data": {
          "bar": [
           {
            "error_x": {
             "color": "#2a3f5f"
            },
            "error_y": {
             "color": "#2a3f5f"
            },
            "marker": {
             "line": {
              "color": "#E5ECF6",
              "width": 0.5
             }
            },
            "type": "bar"
           }
          ],
          "barpolar": [
           {
            "marker": {
             "line": {
              "color": "#E5ECF6",
              "width": 0.5
             }
            },
            "type": "barpolar"
           }
          ],
          "carpet": [
           {
            "aaxis": {
             "endlinecolor": "#2a3f5f",
             "gridcolor": "white",
             "linecolor": "white",
             "minorgridcolor": "white",
             "startlinecolor": "#2a3f5f"
            },
            "baxis": {
             "endlinecolor": "#2a3f5f",
             "gridcolor": "white",
             "linecolor": "white",
             "minorgridcolor": "white",
             "startlinecolor": "#2a3f5f"
            },
            "type": "carpet"
           }
          ],
          "choropleth": [
           {
            "colorbar": {
             "outlinewidth": 0,
             "ticks": ""
            },
            "type": "choropleth"
           }
          ],
          "contour": [
           {
            "colorbar": {
             "outlinewidth": 0,
             "ticks": ""
            },
            "colorscale": [
             [
              0,
              "#0d0887"
             ],
             [
              0.1111111111111111,
              "#46039f"
             ],
             [
              0.2222222222222222,
              "#7201a8"
             ],
             [
              0.3333333333333333,
              "#9c179e"
             ],
             [
              0.4444444444444444,
              "#bd3786"
             ],
             [
              0.5555555555555556,
              "#d8576b"
             ],
             [
              0.6666666666666666,
              "#ed7953"
             ],
             [
              0.7777777777777778,
              "#fb9f3a"
             ],
             [
              0.8888888888888888,
              "#fdca26"
             ],
             [
              1,
              "#f0f921"
             ]
            ],
            "type": "contour"
           }
          ],
          "contourcarpet": [
           {
            "colorbar": {
             "outlinewidth": 0,
             "ticks": ""
            },
            "type": "contourcarpet"
           }
          ],
          "heatmap": [
           {
            "colorbar": {
             "outlinewidth": 0,
             "ticks": ""
            },
            "colorscale": [
             [
              0,
              "#0d0887"
             ],
             [
              0.1111111111111111,
              "#46039f"
             ],
             [
              0.2222222222222222,
              "#7201a8"
             ],
             [
              0.3333333333333333,
              "#9c179e"
             ],
             [
              0.4444444444444444,
              "#bd3786"
             ],
             [
              0.5555555555555556,
              "#d8576b"
             ],
             [
              0.6666666666666666,
              "#ed7953"
             ],
             [
              0.7777777777777778,
              "#fb9f3a"
             ],
             [
              0.8888888888888888,
              "#fdca26"
             ],
             [
              1,
              "#f0f921"
             ]
            ],
            "type": "heatmap"
           }
          ],
          "heatmapgl": [
           {
            "colorbar": {
             "outlinewidth": 0,
             "ticks": ""
            },
            "colorscale": [
             [
              0,
              "#0d0887"
             ],
             [
              0.1111111111111111,
              "#46039f"
             ],
             [
              0.2222222222222222,
              "#7201a8"
             ],
             [
              0.3333333333333333,
              "#9c179e"
             ],
             [
              0.4444444444444444,
              "#bd3786"
             ],
             [
              0.5555555555555556,
              "#d8576b"
             ],
             [
              0.6666666666666666,
              "#ed7953"
             ],
             [
              0.7777777777777778,
              "#fb9f3a"
             ],
             [
              0.8888888888888888,
              "#fdca26"
             ],
             [
              1,
              "#f0f921"
             ]
            ],
            "type": "heatmapgl"
           }
          ],
          "histogram": [
           {
            "marker": {
             "colorbar": {
              "outlinewidth": 0,
              "ticks": ""
             }
            },
            "type": "histogram"
           }
          ],
          "histogram2d": [
           {
            "colorbar": {
             "outlinewidth": 0,
             "ticks": ""
            },
            "colorscale": [
             [
              0,
              "#0d0887"
             ],
             [
              0.1111111111111111,
              "#46039f"
             ],
             [
              0.2222222222222222,
              "#7201a8"
             ],
             [
              0.3333333333333333,
              "#9c179e"
             ],
             [
              0.4444444444444444,
              "#bd3786"
             ],
             [
              0.5555555555555556,
              "#d8576b"
             ],
             [
              0.6666666666666666,
              "#ed7953"
             ],
             [
              0.7777777777777778,
              "#fb9f3a"
             ],
             [
              0.8888888888888888,
              "#fdca26"
             ],
             [
              1,
              "#f0f921"
             ]
            ],
            "type": "histogram2d"
           }
          ],
          "histogram2dcontour": [
           {
            "colorbar": {
             "outlinewidth": 0,
             "ticks": ""
            },
            "colorscale": [
             [
              0,
              "#0d0887"
             ],
             [
              0.1111111111111111,
              "#46039f"
             ],
             [
              0.2222222222222222,
              "#7201a8"
             ],
             [
              0.3333333333333333,
              "#9c179e"
             ],
             [
              0.4444444444444444,
              "#bd3786"
             ],
             [
              0.5555555555555556,
              "#d8576b"
             ],
             [
              0.6666666666666666,
              "#ed7953"
             ],
             [
              0.7777777777777778,
              "#fb9f3a"
             ],
             [
              0.8888888888888888,
              "#fdca26"
             ],
             [
              1,
              "#f0f921"
             ]
            ],
            "type": "histogram2dcontour"
           }
          ],
          "mesh3d": [
           {
            "colorbar": {
             "outlinewidth": 0,
             "ticks": ""
            },
            "type": "mesh3d"
           }
          ],
          "parcoords": [
           {
            "line": {
             "colorbar": {
              "outlinewidth": 0,
              "ticks": ""
             }
            },
            "type": "parcoords"
           }
          ],
          "pie": [
           {
            "automargin": true,
            "type": "pie"
           }
          ],
          "scatter": [
           {
            "marker": {
             "colorbar": {
              "outlinewidth": 0,
              "ticks": ""
             }
            },
            "type": "scatter"
           }
          ],
          "scatter3d": [
           {
            "line": {
             "colorbar": {
              "outlinewidth": 0,
              "ticks": ""
             }
            },
            "marker": {
             "colorbar": {
              "outlinewidth": 0,
              "ticks": ""
             }
            },
            "type": "scatter3d"
           }
          ],
          "scattercarpet": [
           {
            "marker": {
             "colorbar": {
              "outlinewidth": 0,
              "ticks": ""
             }
            },
            "type": "scattercarpet"
           }
          ],
          "scattergeo": [
           {
            "marker": {
             "colorbar": {
              "outlinewidth": 0,
              "ticks": ""
             }
            },
            "type": "scattergeo"
           }
          ],
          "scattergl": [
           {
            "marker": {
             "colorbar": {
              "outlinewidth": 0,
              "ticks": ""
             }
            },
            "type": "scattergl"
           }
          ],
          "scattermapbox": [
           {
            "marker": {
             "colorbar": {
              "outlinewidth": 0,
              "ticks": ""
             }
            },
            "type": "scattermapbox"
           }
          ],
          "scatterpolar": [
           {
            "marker": {
             "colorbar": {
              "outlinewidth": 0,
              "ticks": ""
             }
            },
            "type": "scatterpolar"
           }
          ],
          "scatterpolargl": [
           {
            "marker": {
             "colorbar": {
              "outlinewidth": 0,
              "ticks": ""
             }
            },
            "type": "scatterpolargl"
           }
          ],
          "scatterternary": [
           {
            "marker": {
             "colorbar": {
              "outlinewidth": 0,
              "ticks": ""
             }
            },
            "type": "scatterternary"
           }
          ],
          "surface": [
           {
            "colorbar": {
             "outlinewidth": 0,
             "ticks": ""
            },
            "colorscale": [
             [
              0,
              "#0d0887"
             ],
             [
              0.1111111111111111,
              "#46039f"
             ],
             [
              0.2222222222222222,
              "#7201a8"
             ],
             [
              0.3333333333333333,
              "#9c179e"
             ],
             [
              0.4444444444444444,
              "#bd3786"
             ],
             [
              0.5555555555555556,
              "#d8576b"
             ],
             [
              0.6666666666666666,
              "#ed7953"
             ],
             [
              0.7777777777777778,
              "#fb9f3a"
             ],
             [
              0.8888888888888888,
              "#fdca26"
             ],
             [
              1,
              "#f0f921"
             ]
            ],
            "type": "surface"
           }
          ],
          "table": [
           {
            "cells": {
             "fill": {
              "color": "#EBF0F8"
             },
             "line": {
              "color": "white"
             }
            },
            "header": {
             "fill": {
              "color": "#C8D4E3"
             },
             "line": {
              "color": "white"
             }
            },
            "type": "table"
           }
          ]
         },
         "layout": {
          "annotationdefaults": {
           "arrowcolor": "#2a3f5f",
           "arrowhead": 0,
           "arrowwidth": 1
          },
          "autotypenumbers": "strict",
          "coloraxis": {
           "colorbar": {
            "outlinewidth": 0,
            "ticks": ""
           }
          },
          "colorscale": {
           "diverging": [
            [
             0,
             "#8e0152"
            ],
            [
             0.1,
             "#c51b7d"
            ],
            [
             0.2,
             "#de77ae"
            ],
            [
             0.3,
             "#f1b6da"
            ],
            [
             0.4,
             "#fde0ef"
            ],
            [
             0.5,
             "#f7f7f7"
            ],
            [
             0.6,
             "#e6f5d0"
            ],
            [
             0.7,
             "#b8e186"
            ],
            [
             0.8,
             "#7fbc41"
            ],
            [
             0.9,
             "#4d9221"
            ],
            [
             1,
             "#276419"
            ]
           ],
           "sequential": [
            [
             0,
             "#0d0887"
            ],
            [
             0.1111111111111111,
             "#46039f"
            ],
            [
             0.2222222222222222,
             "#7201a8"
            ],
            [
             0.3333333333333333,
             "#9c179e"
            ],
            [
             0.4444444444444444,
             "#bd3786"
            ],
            [
             0.5555555555555556,
             "#d8576b"
            ],
            [
             0.6666666666666666,
             "#ed7953"
            ],
            [
             0.7777777777777778,
             "#fb9f3a"
            ],
            [
             0.8888888888888888,
             "#fdca26"
            ],
            [
             1,
             "#f0f921"
            ]
           ],
           "sequentialminus": [
            [
             0,
             "#0d0887"
            ],
            [
             0.1111111111111111,
             "#46039f"
            ],
            [
             0.2222222222222222,
             "#7201a8"
            ],
            [
             0.3333333333333333,
             "#9c179e"
            ],
            [
             0.4444444444444444,
             "#bd3786"
            ],
            [
             0.5555555555555556,
             "#d8576b"
            ],
            [
             0.6666666666666666,
             "#ed7953"
            ],
            [
             0.7777777777777778,
             "#fb9f3a"
            ],
            [
             0.8888888888888888,
             "#fdca26"
            ],
            [
             1,
             "#f0f921"
            ]
           ]
          },
          "colorway": [
           "#636efa",
           "#EF553B",
           "#00cc96",
           "#ab63fa",
           "#FFA15A",
           "#19d3f3",
           "#FF6692",
           "#B6E880",
           "#FF97FF",
           "#FECB52"
          ],
          "font": {
           "color": "#2a3f5f"
          },
          "geo": {
           "bgcolor": "white",
           "lakecolor": "white",
           "landcolor": "#E5ECF6",
           "showlakes": true,
           "showland": true,
           "subunitcolor": "white"
          },
          "hoverlabel": {
           "align": "left"
          },
          "hovermode": "closest",
          "mapbox": {
           "style": "light"
          },
          "paper_bgcolor": "white",
          "plot_bgcolor": "#E5ECF6",
          "polar": {
           "angularaxis": {
            "gridcolor": "white",
            "linecolor": "white",
            "ticks": ""
           },
           "bgcolor": "#E5ECF6",
           "radialaxis": {
            "gridcolor": "white",
            "linecolor": "white",
            "ticks": ""
           }
          },
          "scene": {
           "xaxis": {
            "backgroundcolor": "#E5ECF6",
            "gridcolor": "white",
            "gridwidth": 2,
            "linecolor": "white",
            "showbackground": true,
            "ticks": "",
            "zerolinecolor": "white"
           },
           "yaxis": {
            "backgroundcolor": "#E5ECF6",
            "gridcolor": "white",
            "gridwidth": 2,
            "linecolor": "white",
            "showbackground": true,
            "ticks": "",
            "zerolinecolor": "white"
           },
           "zaxis": {
            "backgroundcolor": "#E5ECF6",
            "gridcolor": "white",
            "gridwidth": 2,
            "linecolor": "white",
            "showbackground": true,
            "ticks": "",
            "zerolinecolor": "white"
           }
          },
          "shapedefaults": {
           "line": {
            "color": "#2a3f5f"
           }
          },
          "ternary": {
           "aaxis": {
            "gridcolor": "white",
            "linecolor": "white",
            "ticks": ""
           },
           "baxis": {
            "gridcolor": "white",
            "linecolor": "white",
            "ticks": ""
           },
           "bgcolor": "#E5ECF6",
           "caxis": {
            "gridcolor": "white",
            "linecolor": "white",
            "ticks": ""
           }
          },
          "title": {
           "x": 0.05
          },
          "xaxis": {
           "automargin": true,
           "gridcolor": "white",
           "linecolor": "white",
           "ticks": "",
           "title": {
            "standoff": 15
           },
           "zerolinecolor": "white",
           "zerolinewidth": 2
          },
          "yaxis": {
           "automargin": true,
           "gridcolor": "white",
           "linecolor": "white",
           "ticks": "",
           "title": {
            "standoff": 15
           },
           "zerolinecolor": "white",
           "zerolinewidth": 2
          }
         }
        },
        "xaxis": {
         "anchor": "y",
         "domain": [
          0,
          1
         ],
         "title": {
          "text": "Mass"
         }
        },
        "yaxis": {
         "anchor": "x",
         "domain": [
          0,
          1
         ],
         "title": {
          "text": "RT"
         }
        }
       }
      },
      "text/html": [
       "<div>                            <div id=\"33240943-c2e6-459c-b66f-b98e153138a4\" class=\"plotly-graph-div\" style=\"height:525px; width:100%;\"></div>            <script type=\"text/javascript\">                require([\"plotly\"], function(Plotly) {                    window.PLOTLYENV=window.PLOTLYENV || {};                                    if (document.getElementById(\"33240943-c2e6-459c-b66f-b98e153138a4\")) {                    Plotly.newPlot(                        \"33240943-c2e6-459c-b66f-b98e153138a4\",                        [{\"hovertemplate\": \"Mass=%{x}<br>RT=%{y}<extra></extra>\", \"legendgroup\": \"\", \"marker\": {\"color\": \"#636efa\", \"symbol\": \"circle\"}, \"mode\": \"markers\", \"name\": \"\", \"showlegend\": false, \"type\": \"scattergl\", \"x\": [1510.94140495723, 24217.2435391601, 24203.231084514, 1513.81204927609, 24189.2222173483, 24303.2277824442, 1531.78427961126, 1587.94874712007, 24231.226603282, 24260.1845797258, 5222.60419620392, 24274.188285202, 5567.64987682409, 24245.2381479082, 24246.2429800125, 24317.2188658619, 6720.98674979931, 5912.69982723381, 24287.2047048451, 7546.93736268254, 8182.01757514884, 6706.96755538348, 8793.07999098085, 1732.72466925085, 6527.78429733045, 24568.4098009108, 6856.83891971944, 9138.13899089121, 24359.198160926, 7201.88743610023, 1519.83465675127, 6056.87346515972, 1666.75320101418, 1537.9493057005, 1561.84632324601, 6401.92400600633, 1921.70455017001, 8488.03978677122, 5523.94856840204, 24360.2138373334, 6415.94269299801, 1626.76107748303, 10744.3454786576, 6220.74408695862, 24344.2005183712, 1815.74089674156, 24328.234802865, 24373.1774643913, 9788.2199694483, 10438.317774455, 7875.98446012443, 24288.2154392126, 11661.4594576236, 1893.74137357051, 24174.2084419614, 1749.76822965271, 7361.07048591733, 2195.69708494971, 8715.27107835852, 11050.3840145755, 9483.18463347134, 11356.4173004901, 24582.401950785, 9034.30510392847, 9403.21533091515, 6528.79976143888, 7706.11959361564, 1931.97850770023, 10133.2724688016, 4648.79094495291, 8051.14654942316, 1626.76156314535, 1727.92929885435, 8396.21479567258, 24554.3719993925, 6219.74527416599, 7678.08176326891, 4242.47852785913, 1666.75339445362, 12295.5595211395, 7202.88683097324, 24259.207816451, 9006.26192708839, 10053.3146163071, 8368.16316926576, 6509.78433354041, 1771.71511445805, 7333.03531429285, 6825.89371331604, 12573.8277095719, 1735.94354153114, 8687.21642637051, 13555.7350662739, 6202.73517278261, 24336.2126755328, 1525.76711660565, 1505.95764151503, 7528.91814585371, 11990.5338356792, 5549.64385230718, 24173.2199149722, 24417.1567153188, 6176.86148054252, 9982.32642434819, 10726.342905821, 7171.9590666121, 1615.96023712113, 8023.13506608572, 8587.1616647138, 1650.90937349556, 24319.2292017091, 12600.631224733, 10679.5457990098, 8164.02396951405, 5894.69936286033, 24375.190586088, 1658.93632379715, 9020.29859633614, 1687.95920930053, 6520.8747460033, 9339.36776201677, 7131.9542512312, 6519.8708297348, 7436.97526568512, 14549.8282117613, 7692.09797069127, 10665.407131262, 1883.94162632625, 14205.8059294037, 24294.2041205204, 6175.8125549756, 6673.94468453928, 24390.2017072653, 7423.00334395005, 7768.04246541816, 12945.6402032939, 6540.80073642639, 1815.74079053172, 10420.3314014958, 13461.8917791896, 8282.10027150573, 5871.8157115619, 9637.28230419508, 6505.89151377853, 9656.33836663162, 13184.8891751027, 5236.62071572529, 9684.41101701922, 6740.90350162907, 9770.21619877279, 13899.790263071, 11289.6354468883, 5406.90378287143, 2005.72130664818, 3936.4531552422, 7437.9998521254, 19963.7341881007, 9311.3182907141, 14072.9558762491, 10116.2705633394, 15519.0482921702, 7857.99561868986, 7491.99145186823, 6818.91574093328, 6481.8734768348, 7091.94246793794, 8489.05530093098, 7791.04296992975, 10029.4558569093, 24295.2045919918, 8195.0347881454, 13767.9105689597, 16659.3138685688, 7130.93997636146, 2624.19899647039, 12244.7810036034, 8136.10312331073, 11634.6756824545, 5847.81071324217, 6105.82852223845, 7285.99803239847, 14187.8302584887, 1563.92790999094, 6824.89727683457, 2202.42715351416, 10651.4953832024, 11746.421399872, 7783.05539681611, 11261.574463074, 17514.279347719, 7186.93293316265, 9291.22466921829, 16024.216717957, 13489.9214037528, 6232.77338778397, 11643.4462888636, 11032.3839480024, 8382.18073690634, 16183.1152857273, 5785.76843465089, 8701.23162943123, 9333.24761001577, 7183.89541195632, 13156.8493640784, 6443.87023281519, 7198.91166328975, 11338.4043478364, 9121.14440388961, 10956.5076724206, 17818.3138651953, 15200.9602665296, 12850.8009653178, 12878.8611632787, 7012.89365773063, 6070.9003006387, 12278.5811575058, 7729.01520167109, 7446.00755167606, 6482.88516373636, 9636.26144067915, 7470.01378404981, 9292.22084192957, 9078.20472152044, 7751.03740285292, 1553.7762807099, 7044.95262495492, 6410.86604345415, 6838.84357315582, 5830.78613597192, 8127.07994883004, 8441.13892519032, 1519.83459924701, 8906.23171130235, 7830.04412044917, 13578.8979905578, 8351.10887127824, 5926.72455988079, 6803.92042512377, 5581.66734161238, 7214.90737198271, 6881.90942459148, 5542.76423101809, 9670.34344133169, 6098.81817015651, 14189.955333406, 13884.9117639268, 1556.94355423215, 12559.8162804085, 6434.87363795891, 9058.16821817613, 17496.2573572931, 8137.12894370095, 8059.0695885959, 5807.79376295938, 6089.8187201142, 8471.05955665118, 6490.88826039058, 6748.91797927556, 7147.96940001972, 6023.85327552968, 11939.6746842157, 17803.3921871748, 7162.9755685794, 13883.8351277901, 13475.8749040233, 6192.86540272119, 11442.3779274974, 3631.4125553917, 12545.7690187161, 9371.20811255396, 6129.83209941623, 9435.26131042274, 8722.1610611887, 4961.84842819612, 8073.07987463588, 10288.3527881007, 6497.8775516211, 13781.9200878341, 6396.84872714965, 6575.88112373069, 24313.2280271571, 6419.85932743342, 13795.9452001771, 8143.09192397073, 6137.83596113579, 7139.96548116292, 6213.83593031757, 10305.417933546, 6833.92712953483, 8017.07286508778, 8667.15268892434, 7447.00328306731, 7101.95285907094, 6122.83663733689, 8501.07665486996, 9396.25656476361, 16052.2469968987, 8776.07639102126, 6552.89575487369, 7741.9935180103, 6473.88596007088, 16038.2304293061, 6857.88114676701, 7486.0165368766, 1898.8933656834, 6415.94074502347, 18294.5268209995, 6090.81175810847, 17986.4805967893, 6673.94632873955, 16165.1104671561, 6787.92894888614, 8039.06808071481, 9151.17213305196, 6515.87614563196, 1888.72732907244, 6368.89848937972, 7404.99371644446, 9040.2096869971, 7792.07476662347, 1943.00306878686, 6191.85821555521, 7119.94159076752, 12582.5917090973, 14359.9087969254, 13171.8638530076, 8072.06939077509, 12216.7067074043, 8026.0740070034, 8047.05676786524, 5825.78519964615, 14894.9092660565, 7111.90473423133, 6151.8117237782, 8128.09529094569, 9259.2604491651, 7083.95888366289, 10756.3547234913, 7889.00699176153, 10306.4296714909, 8378.10375616759, 15838.0653775841, 16141.2325235319, 7155.98356396337, 7743.0294304011, 8834.19970108308, 6428.87244532394, 6200.86452558941, 8805.12379036974, 12599.6008092136, 11275.5956263338, 13641.7530603003, 7382.9845081065, 7559.95955876913, 9325.34932183609, 6715.89643370791, 7808.05646399988, 6843.92759876764, 8744.15973262044, 6153.83494164741, 15822.0695132564, 10001.4140563552, 12864.8192266018, 8011.0768903761, 8700.25587427007, 11606.6207307231, 1750.77182739788, 16527.151083354, 6209.8385560984, 14100.987526346, 13538.7523972779, 5563.74230337449, 1749.7687613227, 9801.26139851738, 7877.99154023057, 7126.9457262617, 8033.06415227431, 17004.3465574939, 9700.29742931374, 6785.88790286449, 7463.02209382388, 5768.77752371639, 9969.33331800851, 7462.01250497896, 15068.0777548194, 7822.04978054386, 16687.3500479374, 8079.08221017508, 8121.09573008673, 9028.20028178572, 8385.13271838753, 7456.94107172657, 7720.04714645365, 8362.09626628173, 7117.95792945898, 7779.04493556227, 8472.04318611581, 7662.98347767972, 14086.9526966401, 8998.20644243331, 1815.57887568388, 6451.85398425752, 9466.19014644051, 7365.99129233548, 5856.8094906891, 10664.4511449332, 16672.3275445459, 6569.90428209352, 17680.44697945, 6859.90383910841, 6199.85293516568, 10002.2578768272, 7699.00715678589, 8081.09067219503, 9423.2668470289, 6743.88510049674, 7560.95366326005, 6127.82834064928, 11607.5733730166, 5838.78669969402, 8528.13769211079, 24272.1748622808, 6040.80667192446, 4916.58251099183, 5760.77445073142, 7218.9811051388, 8457.14217935055, 8724.17593279526, 7814.05166897705, 8083.08876033469, 5753.77828608472, 9062.2093824066, 8098.08659671316, 8087.08474725199, 9043.21316963846, 9056.22493484399, 13250.6972253589, 24595.4186816012, 6795.92084568163, 8973.19688522724, 7533.95527153501, 9662.29218550598, 8391.13680422687, 10633.3899617659, 6099.81212716238, 10650.4568770084, 6489.88059181867, 6858.92900064603, 9348.26157913407, 8683.1510350711, 6873.93706199948, 16358.2763620442, 6813.9073092843, 17692.4359586519, 8747.17298997502, 6514.87609521494, 6459.86874977985, 4571.5284118198, 9273.26014539108, 9099.21547626401, 10308.275050867, 6159.83803324581, 13335.6583077215, 6182.84692268718, 7049.93206505312, 10450.3381779025, 2640.19342486861, 18308.5357021636, 8656.15406454868, 6138.83856195605, 6488.87909428924, 8101.0804759806, 9748.28836620701, 16330.2458986303, 9370.25290172902, 7406.99301803835, 7753.05003056734, 20603.8303578671, 14722.0422298833, 5862.78877637988, 6217.74670553219, 5463.7343127521, 2282.6294768975, 10327.3661130438, 10064.3421780671, 10672.4161504982, 8738.1677995636, 7036.93043314038, 9117.20511160065, 6739.89496886234, 8103.09120402321, 9741.2978089111, 8048.07774369499, 12686.5631617741, 8393.11818386089, 9093.22645109016, 7031.9159091169, 6512.77460484322, 7423.99137206492, 6231.8544913364, 10359.3491120195, 7053.94337513367, 7429.0103531521, 6812.92829781357, 3250.42841763507, 10984.5943560047, 17596.2717731619, 8005.0546376736, 9496.19951228738, 8797.16058913927, 7798.0345511898, 5558.76026729088, 24642.3426444744, 10391.3758462848, 15195.998352441, 8824.17857915757, 17706.5341722642, 1815.7407887247, 6476.78721511019, 7545.94272400789, 5793.78017576403, 9644.28545148201, 7020.9476480862, 18164.4165497497, 10007.3318276042, 6247.84461966696, 8989.18216280499, 6891.92924675087, 6756.91834585052, 5448.72595778412, 7373.98890759117, 8057.08124879234, 7487.00688538059, 7505.02699010669, 8401.13821692255, 12611.6864489784, 9444.26465549188, 6143.83749878502, 13579.8257903043, 19291.6396189747, 6536.89615057976, 5848.79518820432, 9211.25410327945, 16775.3021231436, 6435.86605422358, 6075.79772400219, 9013.20703935979, 7062.95561466814, 7358.94626734955, 9464.24820784061, 8183.09583834669, 10734.4072871727, 7773.04068134301, 8434.13189268351, 8116.0929979719, 8298.05900480367, 6480.86599507218, 5735.75976505446, 16343.2469942026, 8953.23693874643, 7710.02007586609, 10148.3018228813, 18015.5277932188, 5440.71807981313, 9622.27334071354, 6460.85076527434, 6093.80279204015, 8097.08771922891, 8449.13259443964, 7388.98552654872, 4916.5796, 13969.8477843784, 5777.78575467938, 9083.21992394907, 12372.6520964215, 8691.18111793556, 8628.17018270575, 6168.84628291823, 12229.7280358697, 5511.75679883336, 10673.3638308275, 8758.17079972256, 7069.95637730222, 7485.02464654671, 11655.5559754501, 9027.19809533159, 6568.89591784825, 7092.96358254765, 18494.437190848, 11043.4529529053, 10739.3703350337, 9544.26488429786, 9676.29626759545, 12701.6881821187, 7068.96200180123, 8074.07801614911, 19991.7855507058, 14563.8902679122, 9727.31786906046, 5497.63916488999, 7712.02142488214, 9397.28388424775, 9651.29050286745, 7341.95910836275, 24555.372150017, 8089.1029303552, 6224.85442341818, 6208.84881225746, 14291.8266882447, 9417.26311165438, 18639.5614596049, 6134.80851798329, 7507.02214708648, 12587.7897395692, 9052.20304109193, 6468.87186655636, 6869.86786531412, 5835.79260097684, 1918.26196999309, 2610.1854, 10972.4549014999, 11136.3624792085, 6457.86593870147, 1749.76857522484, 7454.99972519349, 5503.74788866502, 9359.24411587516, 13374.8186914885, 6730.89282432711, 7676.040961292, 6832.91269753718, 7831.06490301539, 7778.04909484337, 6183.84522111597, 7523.01081840076, 8043.07217780232, 5192.58826742291, 8167.0171684977, 12076.515441067, 8186.02471634201, 1611.80674503862, 6181.84069403786, 8427.15462819844, 8380.10187553925, 4135.66664344402, 9436.29255123488, 10243.3971360771, 8198.08801059381, 11673.5234488991, 9362.2428933947, 12267.6265297126, 9090.22918680423, 9388.23233407498, 7354.98206413024, 19977.7737496172, 9130.21971610522, 10594.3996545385, 5210.88641929574, 9849.30707640828, 8462.13133310407, 7414.0192941627, 11652.522291801, 13249.6819682001, 20575.7982657284, 1815.74256093155, 6529.8738247059, 5943.81983073373, 1834.24454977911, 8785.18708249902, 9303.20349155062, 13170.8541860868, 9406.27426944548, 5904.79549978955, 9726.31249937019, 5775.75450440917, 15213.9914546721, 9531.29708160916, 7873.99954761332, 1838.68578505859, 8961.166910881, 7227.99871130162, 8309.1105733607, 12558.7714322471, 2381.3272091149, 6866.94386476095, 18783.4631185062, 7688.01549264211, 15924.1137862984, 9116.21057330309, 9779.26603982381, 8736.16588473413, 14664.9913251855, 8787.16201597673, 6761.8982098511, 1541.77335108893, 8967.21065040159, 9098.22675602763, 20078.9329786852, 13044.7395590287, 1826.24327701467, 9696.22725768018, 19134.5101378155, 15718.2181007328, 7838.06860039771, 6424.85630418505, 15619.0035552587, 6079.82217409939, 5582.67242105416, 10021.3313580243, 7991.0482127982, 2283.31186982035, 11972.5440737087, 6475.87131560267, 13914.7927981422, 15184.0259012445, 5827.99693480381, 7397.99739290626, 8504.15038590682, 6683.83452164612, 5886.81677482996, 5844.77021208372, 2005.72130714037, 5480.73095818638, 6439.83922436058, 1725.70489484385, 8158.08059445931, 6620.89477322712, 20272.7797585308, 5478.7425161097, 6794.90981178004, 7189.95299439742, 16447.2591345255, 2087.62489855579, 7431.99714565637, 12237.6340827476, 10046.3354723677, 8050.08434838266, 7390.00129292551, 12906.7430453093, 7499.99979224279, 11669.5709943449, 8133.08066629395, 6751.89387485223, 7516.00098242615, 6065.81930490743, 9445.26921267897, 10618.4102200724, 13264.6888257905, 6399.8423377632, 9759.30345002855, 7501.02739502858, 6404.84688134745, 7166.95490758513, 8091.01336542611, 12356.6776654608, 8435.14752318867, 9687.30489660718, 13568.7763786318, 11293.5015650563, 9459.26654752971, 9942.31711814026, 8957.22933783759, 9076.23305257543, 9809.28373801449, 7351.96306024011, 13748.8455719375, 8296.13359139452, 14432.0092591528, 16254.1716115848, 13021.7064669855, 17794.3582356687, 1744.74802529638, 2258.30579485695, 15502.0588982679, 5759.78243759339, 6030.74540145056, 5918.80036677451, 9677.28838536388, 9719.29556113179, 6466.98154305223, 10632.4020873244, 7809.0795704124, 6370.84659187431, 6025.80023443311, 5821.7930851606, 18983.6427323194, 9033.31509347929, 6467.88772840673, 9454.27856590678, 15575.0727947911, 7148.97020123359, 10054.3213862099, 2378.32321881061, 5887.81146128, 6189.80690386758, 8682.14092294834, 1867.6922439757, 8151.11758629769, 5487.73821293825, 6754.92672079705, 9582.24701078929, 20270.7854135833, 6808.91313796812, 13986.7995850964, 12268.645893316, 10259.3635944651, 10077.3439646295, 3102.4673503212, 9225.26885350503, 9106.24525701394, 5527.75367721681, 10698.4230663188, 6433.87116811327, 14611.9512162215, 10617.4106182759, 24119.1881983331, 10101.3665608018, 11245.4873656075, 9957.31930891361, 6834.92164159701, 6205.74069768915, 7376.98713710511, 8176.05949224319, 5685.69265379179, 9440.37506932663, 7524.00463966224, 7696.0248669283, 18103.5129328031, 14417.9763447065, 7839.04926116922, 8766.16144650641, 6119.81102291226, 5877.8094761481, 12230.7194291503, 8463.13015695356, 9717.27072102776, 9340.27434464, 9061.23008120372, 6676.87467596935, 10313.3818930692, 8152.11286466835, 14485.9387833793, 11308.498351127, 7709.00529214524, 10992.4496313981, 1921.70563504554, 15852.0781774866, 8402.12885187214, 5720.76018355024, 8637.11511992279, 5340.64858297041, 1697.76193079657, 6777.90686555383, 11875.4871432057, 9765.29905100799, 7430.99869925, 11948.6206009036, 12958.6773436987, 5836.75939514475, 14218.8216037942, 9409.25027121531, 8109.08950933448, 8369.12351533836, 8737.1640324439, 9609.25799263025, 16315.1804247943, 6442.8765264, 1659.73101870439, 10959.3818874414, 8373.1085271322, 10047.3190715967, 8645.13150594396, 16694.2472793847, 6523.88871359505, 8714.17556090001, 7540.99275662867, 5727.82650977298, 7135.94932969139, 5930.79606387156, 13155.8600266066, 13307.7707862295, 17582.3278990437, 7666.01259822543, 7879.0615265886, 6733.90992217533, 2141.28086495111, 1529.78596657919, 9051.19760266417, 15606.0134776719, 7078.94399644277, 10428.351541404, 21226.9289511922, 12257.7914097199, 11370.5306359853, 6369.8670978315, 16154.2094076244, 15413.1121509056, 10938.4443534545, 8519.14919168137, 6275.84607094069, 8317.08678829096, 8951.15068709302, 10580.4083549218, 19650.6758983291, 9601.309475145, 5878.79676267959, 13220.7598673529, 8638.13199752356, 12381.5469789119, 8002.05717830735, 8711.19030000847, 6878.93458157169, 10978.4610869693, 17363.4078124797, 8765.184440103, 13577.8788929133, 9334.2480870793, 8757.17125613007, 13647.8089581603, 7681.03461798437, 13964.8217110312, 13936.8511574179, 9795.25595362046, 11617.5702009576, 6906.9554193842, 10154.3515197408, 6082.82397306906, 9144.16611139646, 14534.0133977425, 8497.14405257061, 13275.7727540293, 6913.95130229339, 6713.8806071502, 18786.4521399025, 10375.3836523649, 10657.4238248173, 13251.6891771526, 10988.4372952104, 11876.5598025849, 19408.601526414, 7193.96777967074, 18825.4586029676, 2980.33602971743, 3338.44822822376, 3060.41362127282, 13239.734296448, 19482.6187061833, 10082.3403488195, 19507.5384337742, 12310.6606513732, 13323.7142508568, 2146.94798935133, 5851.78937832159, 12700.6541394123, 20273.7781634988, 8006.05763505588, 9669.29405639736, 8377.10749109262, 1863.39562763797, 20019.7009525292, 7969.09956593734, 6155.82239334322, 12236.6373712484, 12881.8818927931, 7178.94670577348, 9588.31187725392, 8693.17264426882, 13873.8989679764, 8417.13500581744, 7775.05025398092, 15294.9964357357, 14446.0332949161, 7811.07006326429, 8920.22990445289, 2284.30353723597, 6074.79026176786, 19407.6095679437, 13528.7936906975, 6477.86665949155, 10274.3637672168, 5564.73518829618, 7106.95674301774, 16686.3227902536, 3056.75062557151, 2947.39331984972, 13867.8917899671, 11300.5008993291, 18762.3914459174, 10066.3106825546, 7731.0390217046, 11924.6516804756, 8019.06071620607, 8191.10756267983, 2249.30046094737, 7860.98549665418, 9694.32479744731, 20370.7243378946, 7483.00827373272, 9318.24325940372, 3470.46807771572, 14538.9274214417, 8732.16349621184, 10071.3370982797, 9681.31378809322, 13564.824622088, 19697.5512765442, 9238.26923279345, 7711.04492225922, 10681.381953694, 8987.17888995327, 5518.73728934005, 7153.95469926158, 10709.4221766741, 8430.13739423269, 8451.1445294821, 6225.83974127512, 10427.3619485335, 14683.9803938893, 5464.73295860905, 9374.24879634738, 17497.3000919615, 13290.7583592689, 9645.2753265125, 20895.8636224729, 2496.01701292235, 9316.27956096324, 19201.5016166126, 7687.02110600086, 8601.1821902595, 14879.9604189848, 8330.11158587435, 6222.83887305062, 9734.30663118431, 11761.4806106278, 10062.3550529876, 18668.6360171298, 13540.7393878193, 13261.7676011428, 14054.8748682849, 8142.10129441532, 8482.13528645865, 11020.4639314399, 11918.6598604403, 7805.07281292383, 6586.88390125785, 7853.05558081794, 12604.6556171386, 16600.1789025481, 18145.3931585222, 6634.91219876664, 7203.95732445188, 17885.3484756552, 2279.30211092489, 9361.27702089724, 8054.05962486511, 15818.0439071066, 8659.13885258142, 5599.77181505752, 6896.93205237552, 18653.5643985208, 6271.86350035449, 4572.52645946323, 16276.1514168938, 14148.7790386729, 8467.16964780179, 7670.00350001886, 12204.6003191353, 5495.74150397021, 6650.88367200125, 9708.2650096862, 8407.12645690742, 6942.92418874302, 13636.8176836458, 8778.08959656809, 9688.3046073583, 9356.24899082571, 6409.83701246951, 11916.6046396123, 16695.2218993653, 15632.0930563657, 9760.30633918269, 8933.20865733203, 10721.4620776058, 13243.7203671912, 11246.4939958466, 6380.83831501198, 9322.24384268316, 9493.29710537106, 10126.3265529624, 20008.7417674535, 18330.5473567611, 18693.5010368758, 13562.8529347506, 7180.00161210918, 6585.89329422514, 9914.33410946923, 10733.3338781005, 14649.9050047009, 7352.96493459434, 7037.9540104314, 9915.31612879983, 13173.8870100896, 12922.7294101185, 11678.4614666866, 21225.8306369415, 15613.03744802, 1959.76608515423, 10682.4027291328, 9415.23380181466, 8813.15740887815, 9430.26471639064, 16655.2353635095, 8986.18397370694, 9678.29126681251, 6584.70890183732, 11022.4758286124, 14001.8716174545, 2193.30568195516, 8647.15640313161, 10926.4547536071, 12034.5864329539, 7058.94129202056, 13850.8295004721, 7893.07774835584, 10319.4256030798, 7409.99561233099, 7735.01420726851, 6538.8816678241, 11386.5241792978, 16960.2401759867, 10026.3306958972, 15917.0743235091, 9276.23660515268, 7985.04107815188, 12185.6308518432, 9317.24770353764, 9502.25042032189, 7763.02959792945, 11001.469529694, 6763.92193066296, 3351.3243280785, 13517.8255187859, 12288.6730107852, 7441.00305288386, 2110.6268, 15223.9976718633, 6780.92211755603, 1659.73126579779, 7655.99132511082, 9321.24630536493, 14058.8720981118, 7787.06521421855, 2240.96665859685, 16563.1785551121, 18275.4415336546, 9239.24889758806, 10372.3640448582, 14413.968861308, 11400.5338416707, 14967.9689892259, 11700.573784811, 10631.4043504782, 9695.3144982075, 8414.11922787324, 11328.5256136623, 3056.41527923887, 20693.739527267, 5815.7684830192, 14305.9020349465, 5390.91163251486, 4224.46858411545, 8755.17548716034, 10275.3877929711, 20282.7990019373, 12145.642783536, 12732.6750432809, 11230.5064081413, 10766.4084761746, 16543.175614347, 9886.27925284682, 7714.02732662369, 6400.85440403374, 8318.06400477107, 13952.8606927777, 16835.2464653503, 10351.371181587, 7263.00124501623, 13034.7635325604, 5477.74806298353, 9579.2516030198, 19506.5887061348, 18546.467158399, 11920.5908985052, 5800.78737779384, 12891.7418284242, 5415.70641271328, 15859.0827319643, 7602.84927602274, 13511.7836274048, 10343.3673130874, 12970.7289657224, 11516.5359056624, 11784.5686391252, 5860.79762417434, 15717.1566248797, 17782.3806236646, 12284.6094081319, 8979.20259892028, 15273.030284258, 15776.1149169141, 14854.0062520556, 14130.8994638167, 13638.784992086, 7307.98944891595, 9314.22836108155, 21016.7673547671, 13003.7294602987, 10958.4463733792, 6381.83481916633, 5787.76019735277, 13183.8357463236, 9353.39469172562, 12899.741164872, 6817.90653856922, 8626.13577020317, 3325.38713119337, 10350.370506576, 15556.0853187819, 2056.94807282491, 7842.07340168653, 11908.6221945365, 10854.467963578, 12683.8346375055, 5591.71960841968, 7075.9341978005, 10622.4214953512, 6114.77583596605, 10683.4364422807, 13226.7739910741, 9706.28785648373, 9642.28763800227, 13069.7476039912, 12315.6003200751, 3950.47005685584, 12975.7088856388, 10548.4183878335, 15170.017614421, 1783.66618442087, 6752.89570838785, 8538.16694677702, 13833.8239641842, 17792.3742557851, 17998.5007564676, 14475.973228528, 8287.14960732889, 18099.3850482687, 7573.02497361604, 14244.8744250424, 7413.00672138373, 6547.90864687187, 10638.4181849373, 12984.7430705066, 7996.05267197161, 10017.3526582804, 8950.17063161174, 7832.06810018311, 13611.7646498711, 8375.09793910736, 15204.9842541053, 7005.94573297482, 1627.76220962093, 5813.77255721288, 5770.76035995976, 7736.0206601057, 7196.93192606948, 6820.92044565622, 5803.7605759786, 10103.3871539849, 15138.0041749236, 13221.7603008511, 7433.99248125007, 17015.2972055326, 5940.79327726434, 9447.25640026794, 5416.71134759088, 5936.79906635047, 12685.6765880221, 20999.8323586043, 5510.76076538969, 14173.9046569949, 15356.0266063338, 19663.739214428, 10641.4324197817, 11489.5434516231, 20994.8009711346, 16278.1335358656, 12389.6499321411, 20299.8152109556, 6922.93430819316, 9561.23712353639, 11821.5782254926, 8412.1525885004, 5897.75340442458, 20689.8086799715, 13262.7671120183, 11599.558069939, 16334.2175271464, 17592.3122263565, 12907.7295572041, 17774.3861706229, 9952.31830866142, 13809.9215378154, 17990.4466747123, 20910.9030599502, 12050.5763547406, 18994.5899053366, 16658.3035102897, 10403.4178002723, 13946.8983580767, 11862.5434365659, 1816.74386437057, 10826.4255372604, 14841.0828650145, 8783.20260816765, 9773.2623224309, 12627.6673749566, 10882.4474127513, 14143.928062396, 7319.01334180692, 6600.91712880688, 15796.0919021015, 10143.2877497911, 9507.26492549538, 11997.5875122033, 5671.75179695154, 5596.75533934405, 22932.0606088457, 7515.00987928378, 14215.8642281024, 10233.3408323815, 8708.17444038597, 15505.084512747, 10038.4235050229, 9398.23334690604, 15765.1106976406, 5935.85546033871, 13349.7587888525, 2264.49793573054, 11932.5965534564, 9413.25680108755, 9543.26667600164, 13027.7366574008, 2009.66256823432, 12933.7066734179, 6147.82688750794, 9082.23404749921, 16647.2206496457, 13503.8960480781, 9305.24287523699, 8857.19815936858, 19918.6465623474, 17635.3696425097, 6408.1099098491, 6412.86167459997, 13228.7640355731, 10567.3910393939, 7113.95154325887, 6736.89352773314, 2735.36372828651, 8506.14506753737, 7846.05714337728, 5496.72217671465, 6993.93761063253, 8702.15582725574, 15135.0431491216, 8494.17694431496, 21135.816842288, 19624.5884113809, 10538.3881435566, 13856.8719570682, 10361.3511773599, 5208.59139884557, 14158.8782104353, 11936.6012931881, 9301.27233245853, 5782.76806115312, 11741.5812999193, 6172.83863166677, 17375.3202213749, 8932.22648975288, 14012.8775808573, 13369.7757371894, 12332.6574925457, 6702.88400419277, 6542.8780895431, 12967.718649929, 1938.25523659973, 7326.98568893393, 12887.7643304301, 12964.7582493289, 15682.1731459561, 13515.8180594816, 11628.5421349576, 16098.1687342994, 2720.3519336737, 6036.77944078303, 12593.6902612384, 12474.6648743683, 9608.28894852312, 13868.9198114118, 8803.17259736155, 7919.07003956856, 7312.96351035634, 18751.5003290013, 8818.1926642845, 10881.4773887058, 15453.0262521057, 12273.6471228646, 12164.5820256574, 12560.8171179526, 10217.3533937339, 6112.79142984781, 11192.4692105648, 8650.14027902585, 5854.79235220824, 5880.80285581379, 12045.6316252303, 15807.1071433923, 16175.1362629136, 6521.8902114996, 6699.89720003796, 6044.83848212646, 13543.8328018375, 11133.492471479, 5958.81430061127, 11303.6432916986, 13846.826363579, 8220.09920277183, 10902.4510367875, 13864.8728708417, 6802.88438161563, 5541.77921924796, 16363.2540989696, 12467.6691429044, 7642.97272814577, 12830.7207058664, 13808.8560673556, 17473.3461936047, 19156.5592051564, 5705.73039904266, 1511.82433334413, 1899.05986207706, 5869.7609863849, 7023.94392379989, 6321.89331480171, 6314.81134551711, 10522.447172706, 5696.73624540256, 8707.17115658607, 5473.73077086302, 16443.2900635945, 13599.8999925962, 15179.0178979008, 12355.771736354, 7978.03035010118, 6692.86651131407, 10549.4238537918, 6322.89376409462, 8281.10488524833], \"xaxis\": \"x\", \"y\": [33.8092947538376, 24.3224522288322, 24.3873628711383, 6.05577282067935, 24.3873628711383, 24.3873628711383, 9.50157676892281, 33.8092947538376, 24.3224522288322, 24.4476813292185, 14.8276105041981, 24.3224522288322, 16.1280594443957, 24.3224522288322, 24.3873628711383, 24.4476813292185, 15.8712847447077, 16.9066669618765, 24.3224522288322, 19.0596802369436, 19.7036349212805, 16.9729318952243, 20.0959350184282, 31.2763754125118, 17.884085279274, 24.6466927623431, 18.4721825535774, 20.2902232702255, 24.3224522288322, 18.7952223952293, 28.5422863200982, 15.7387554859797, 31.3424283460458, 33.87534454422, 33.6139541105112, 16.3268532033443, 30.6247464950562, 19.9006510948817, 18.6626929874897, 24.4476813292185, 14.6370915627162, 31.8545784369787, 21.1997796034495, 17.3705271597385, 24.3873628711383, 31.3424283460458, 24.4476813292185, 24.3873628711383, 20.6776380792936, 21.0027177707036, 19.4399704372565, 24.4476813292185, 21.588224962918, 10.4127300278028, 24.4476813292185, 31.7304974790096, 17.8178206439495, 32.2518487031937, 19.1258864855448, 21.3264694785754, 20.4839895522277, 21.461793887186, 24.6466927623431, 19.8345881437937, 20.0302140529633, 17.7515564775149, 18.0166143691222, 32.9630645529111, 20.8760408774694, 16.1280594443957, 18.3396540518284, 14.7033643956661, 33.5535930629253, 18.6626929874897, 24.6466927623431, 17.4947733537038, 18.5964287852923, 14.5045633709113, 13.5934264615854, 21.9166846370379, 18.7289575532754, 24.2536350464503, 20.0302140529633, 20.4839895522277, 19.1258864855448, 17.4285086369197, 30.9465606526216, 18.2733895774364, 17.6273104862054, 21.588224962918, 33.87534454422, 19.571788560915, 22.3058144445896, 16.9066669618765, 24.3873628711383, 6.1220369453907, 33.5535930629253, 18.7952223952293, 21.7848750447909, 15.0843938286781, 24.3224522288322, 24.3873628711383, 17.1054607029438, 20.6130619620959, 21.066217902867, 18.0828788435141, 33.87534454422, 18.8614867186228, 18.5964287852923, 33.8092947538376, 24.4476813292185, 21.9784083878676, 20.4199219460964, 19.4399704372565, 16.2605883872191, 24.5172455445608, 33.749485661157, 20.2247304951827, 33.6139541105112, 17.2379900212765, 19.8345881437937, 18.3396540518284, 17.0391967034022, 18.4721825535774, 22.6269574618022, 18.7289575532754, 20.6776380792936, 33.87534454422, 22.500942112573, 24.3224522288322, 16.5256462688923, 15.1506581779003, 24.3873628711383, 18.9939491108735, 19.1258864855448, 22.1166095371723, 18.0166143691222, 28.2218662953059, 20.8760408774694, 22.1771261946042, 18.2733895774364, 16.459382110405, 20.3553051030318, 17.7515564775149, 20.2902232702255, 21.7220476881345, 15.4157159026146, 19.9650769964536, 17.884085279274, 20.5487740452766, 22.3731814201355, 20.8051827029069, 18.5301646526337, 30.4348579203765, 13.9827299709797, 18.7952223952293, 23.734287893343, 20.0959350184282, 22.3731814201355, 20.6776380792936, 22.828373735714, 19.183867728281, 18.6626929874897, 17.8178206439495, 17.3705271597385, 18.3396540518284, 19.7690477446397, 19.183867728281, 20.0959350184282, 24.3224522288322, 19.7690477446397, 22.2380535538673, 23.1522585367839, 18.0828788435141, 33.095412236023, 21.3264694785754, 19.571788560915, 21.0027177707036, 16.3268532033443, 16.6498923615297, 16.8404029961109, 22.4331826444149, 33.9418265199343, 17.884085279274, 27.0538102443695, 20.8051827029069, 21.7220476881345, 19.183867728281, 21.1368089274248, 23.3423831359228, 18.2154077446143, 20.2247304951827, 22.8870214875221, 21.9166846370379, 17.6273104862054, 21.461793887186, 21.1997796034495, 19.183867728281, 23.0207060293039, 15.9955304876645, 19.6380532776992, 20.2247304951827, 18.4059180116336, 22.0402345037142, 17.6273104862054, 18.7289575532754, 21.3264694785754, 20.1611198540211, 21.0027177707036, 23.4153719361305, 22.7618750210285, 21.9166846370379, 21.6513775384108, 18.5964287852923, 16.8404029961109, 21.7848750447909, 18.9939491108735, 18.8614867186228, 17.7515564775149, 20.5487740452766, 18.5964287852923, 20.2902232702255, 19.9650769964536, 19.1258864855448, 14.3720336373329, 18.2733895774364, 17.2379900212765, 18.0828788435141, 16.3268532033443, 19.1258864855448, 19.7690477446397, 13.3366514618874, 19.0596802369436, 18.9939491108735, 22.2380535538673, 19.4399704372565, 17.1717250938892, 18.0828788435141, 16.459382110405, 18.92775104599, 17.8178206439495, 15.0264126018365, 20.3553051030318, 17.3705271597385, 22.2380535538673, 22.2380535538673, 34.7190695360978, 21.9166846370379, 17.4285086369197, 19.7690477446397, 23.3423831359228, 19.382003143994, 19.4399704372565, 16.393117636013, 16.6498923615297, 19.7036349212805, 17.9503498689016, 18.1491432205518, 18.4059180116336, 16.459382110405, 21.1997796034495, 23.4153719361305, 18.5301646526337, 22.3731814201355, 22.1771261946042, 16.9066669618765, 21.588224962918, 13.2041219269911, 21.8552495872657, 20.6776380792936, 16.7824217017174, 20.3553051030318, 19.8345881437937, 17.4285086369197, 19.4399704372565, 20.7416711365859, 17.6273104862054, 22.3058144445896, 17.3042543963273, 17.4285086369197, 24.4476813292185, 17.5610375201384, 21.9784083878676, 19.382003143994, 17.0391967034022, 18.5964287852923, 16.7824217017174, 20.5487740452766, 18.3396540518284, 19.3157966530005, 19.8345881437937, 18.6626929874897, 18.1491432205518, 17.3042543963273, 20.0302140529633, 20.3553051030318, 22.6944710528533, 19.8345881437937, 17.4947733537038, 18.7952223952293, 17.3705271597385, 22.9538397864183, 18.2733895774364, 18.92775104599, 26.7893773273309, 16.9729318952243, 23.4153719361305, 16.8404029961109, 23.3423831359228, 17.0391967034022, 23.0207060293039, 18.0166143691222, 19.3157966530005, 20.4199219460964, 17.3042543963273, 5.46766680436134, 16.5256462688923, 18.5964287852923, 20.2902232702255, 19.382003143994, 19.183867728281, 17.2379900212765, 18.4059180116336, 21.9166846370379, 22.6269574618022, 21.7220476881345, 19.183867728281, 21.6513775384108, 19.4399704372565, 19.1258864855448, 15.8712847447077, 22.6269574618022, 18.92775104599, 16.2605883872191, 19.4399704372565, 20.6776380792936, 18.4059180116336, 21.3264694785754, 19.571788560915, 20.6776380792936, 19.6380532776992, 22.9538397864183, 22.7618750210285, 18.5964287852923, 19.0596802369436, 19.9006510948817, 17.884085279274, 17.3042543963273, 20.2247304951827, 22.1166095371723, 21.1997796034495, 22.4331826444149, 18.9939491108735, 19.2500656858762, 20.2902232702255, 17.6852919534524, 19.0596802369436, 18.0166143691222, 19.9006510948817, 16.9729318952243, 22.8870214875221, 20.4199219460964, 21.9784083878676, 19.5059574440797, 19.0596802369436, 21.3264694785754, 30.3687597687721, 23.1522585367839, 16.7161568855921, 22.1166095371723, 22.2380535538673, 14.5708271777312, 20.6130619620959, 20.7416711365859, 19.4399704372565, 18.3396540518284, 19.3157966530005, 23.1522585367839, 20.5487740452766, 17.7515564775149, 19.0596802369436, 16.459382110405, 20.5487740452766, 18.8614867186228, 22.6269574618022, 19.2500656858762, 22.8870214875221, 19.4399704372565, 19.183867728281, 20.1611198540211, 19.7036349212805, 19.183867728281, 19.0596802369436, 19.7036349212805, 18.6626929874897, 18.8614867186228, 19.7690477446397, 19.0596802369436, 22.3731814201355, 20.0302140529633, 26.7893773273309, 17.2379900212765, 20.3553051030318, 18.5964287852923, 16.6498923615297, 20.9394164875825, 23.1522585367839, 17.6273104862054, 23.3423831359228, 17.884085279274, 16.393117636013, 21.1368089274248, 18.8614867186228, 19.2500656858762, 20.2247304951827, 17.6852919534524, 19.1258864855448, 17.1717250938892, 21.461793887186, 15.8050202444871, 19.6380532776992, 24.5172455445608, 16.393117636013, 12.2350036596934, 15.6145100787957, 18.4721825535774, 19.571788560915, 19.9650769964536, 18.9939491108735, 19.7036349212805, 16.5256462688923, 20.0302140529633, 19.7690477446397, 19.1258864855448, 20.0302140529633, 20.2902232702255, 22.1166095371723, 24.7093240117709, 17.6273104862054, 20.0959350184282, 18.7952223952293, 20.5487740452766, 19.4399704372565, 20.9394164875825, 17.1717250938892, 20.8760408774694, 17.6273104862054, 17.7515564775149, 20.3553051030318, 19.8345881437937, 17.884085279274, 22.7618750210285, 17.9503498689016, 23.3423831359228, 20.1611198540211, 17.2379900212765, 17.5610375201384, 15.4819806690693, 20.2247304951827, 20.0302140529633, 21.3264694785754, 16.459382110405, 22.3731814201355, 16.7824217017174, 18.0828788435141, 21.1368089274248, 33.0278791363716, 23.4153719361305, 19.6380532776992, 17.1717250938892, 17.4947733537038, 19.183867728281, 20.4199219460964, 22.9538397864183, 20.1611198540211, 19.183867728281, 19.2500656858762, 23.734287893343, 22.5680154021263, 16.1943244115194, 17.3705271597385, 14.9601477876981, 17.8178206439495, 20.8051827029069, 20.8051827029069, 21.2630911028067, 19.6380532776992, 18.0828788435141, 19.9006510948817, 18.2154077446143, 19.4399704372565, 20.5487740452766, 19.5059574440797, 22.1166095371723, 19.7036349212805, 20.0302140529633, 18.3396540518284, 17.8178206439495, 18.7952223952293, 17.1054607029438, 20.6776380792936, 18.4721825535774, 18.5964287852923, 18.1491432205518, 20.3553051030318, 20.6130619620959, 23.4732312516053, 19.1258864855448, 20.6130619620959, 19.8345881437937, 18.8614867186228, 14.5708271777312, 24.6466927623431, 20.9394164875825, 22.7618750210285, 19.9006510948817, 23.1522585367839, 14.1815232034206, 18.0828788435141, 18.8614867186228, 16.5836282864888, 20.4199219460964, 18.2154077446143, 23.5455963706652, 20.8051827029069, 16.7161568855921, 20.2247304951827, 17.884085279274, 18.4059180116336, 15.8712847447077, 18.8614867186228, 19.382003143994, 18.7289575532754, 18.92775104599, 19.6380532776992, 21.9166846370379, 20.2247304951827, 16.5836282864888, 22.3058144445896, 23.6036679104646, 17.5610375201384, 16.1280594443957, 19.3157966530005, 23.0207060293039, 17.3042543963273, 17.0391967034022, 20.0959350184282, 18.7289575532754, 18.8614867186228, 20.2247304951827, 19.3157966530005, 21.3264694785754, 18.92775104599, 19.6380532776992, 19.5059574440797, 19.7690477446397, 17.1717250938892, 15.3494519527435, 23.0207060293039, 20.5487740452766, 19.1258864855448, 20.9394164875825, 23.1522585367839, 14.5708271777312, 20.4199219460964, 17.6273104862054, 16.6498923615297, 19.4399704372565, 19.5059574440797, 18.7952223952293, 15.9955304876645, 22.500942112573, 16.7824217017174, 20.2902232702255, 21.9166846370379, 19.8345881437937, 19.7036349212805, 16.9066669618765, 21.6513775384108, 16.0617949700038, 21.3904274459362, 20.2247304951827, 18.4059180116336, 19.1258864855448, 21.3264694785754, 20.0959350184282, 17.3705271597385, 18.5964287852923, 23.5455963706652, 21.2630911028067, 21.1997796034495, 19.9006510948817, 20.4839895522277, 21.9166846370379, 18.5964287852923, 19.6380532776992, 23.5455963706652, 22.6944710528533, 20.8051827029069, 16.1280594443957, 18.8614867186228, 20.5487740452766, 20.3553051030318, 19.0596802369436, 24.8393232361158, 19.4399704372565, 17.0391967034022, 16.8404029961109, 22.6269574618022, 20.3553051030318, 23.5455963706652, 16.393117636013, 18.7952223952293, 21.6513775384108, 20.0959350184282, 17.6852919534524, 18.5964287852923, 16.1943244115194, 25.033518586127, 33.0278791363716, 21.1368089274248, 21.5249683355967, 17.3042543963273, 13.9247482116699, 18.7952223952293, 15.2169227953434, 20.3553051030318, 22.5680154021263, 17.6273104862054, 18.9939491108735, 17.7515564775149, 19.382003143994, 18.9939491108735, 16.6498923615297, 18.7952223952293, 19.7690477446397, 15.0264126018365, 19.7036349212805, 21.9166846370379, 19.571788560915, 19.7690477446397, 17.0391967034022, 20.0302140529633, 19.4399704372565, 14.8938751037598, 20.4839895522277, 20.8051827029069, 19.3157966530005, 21.588224962918, 20.6776380792936, 21.7220476881345, 20.3553051030318, 20.4199219460964, 18.4721825535774, 23.734287893343, 20.0302140529633, 21.066217902867, 18.1491432205518, 20.0959350184282, 19.7036349212805, 18.8614867186228, 21.588224962918, 22.3058144445896, 23.805825336345, 18.8614867186228, 17.5610375201384, 16.459382110405, 23.0207060293039, 20.0302140529633, 20.6130619620959, 22.1166095371723, 20.6776380792936, 15.9292664960702, 20.3553051030318, 15.5482454375108, 22.8870214875221, 20.2902232702255, 19.5059574440797, 31.5982368703365, 20.2902232702255, 18.4059180116336, 19.571788560915, 21.9166846370379, 18.92775104599, 18.1491432205518, 23.5455963706652, 19.0596802369436, 23.0863358612537, 20.1611198540211, 20.4839895522277, 20.1611198540211, 22.6269574618022, 19.7690477446397, 18.2733895774364, 9.11227282838821, 20.1611198540211, 20.2902232702255, 23.805825336345, 22.2380535538673, 25.8773239866575, 20.9394164875825, 23.6766401525021, 22.7618750210285, 19.1258864855448, 17.1054607029438, 23.0863358612537, 16.5256462688923, 16.459382110405, 20.6130619620959, 19.5059574440797, 17.8178206439495, 21.7848750447909, 17.3042543963273, 22.500942112573, 22.6269574618022, 19.1258864855448, 18.92775104599, 19.5059574440797, 18.0166143691222, 16.393117636013, 15.1506581779003, 17.6273104862054, 14.5708271777312, 17.1717250938892, 32.1856355940978, 19.5059574440797, 18.4059180116336, 23.734287893343, 15.8712847447077, 18.0166143691222, 18.4721825535774, 22.8870214875221, 17.0391967034022, 18.7289575532754, 21.7220476881345, 20.9394164875825, 19.3157966530005, 18.7289575532754, 21.9784083878676, 18.9939491108735, 20.8051827029069, 19.3157966530005, 18.1491432205518, 18.5964287852923, 16.5836282864888, 20.3553051030318, 21.0027177707036, 22.2380535538673, 17.1054607029438, 20.6776380792936, 19.1258864855448, 17.6273104862054, 18.0828788435141, 19.8345881437937, 21.9784083878676, 19.8345881437937, 20.4839895522277, 22.3058144445896, 21.3904274459362, 20.4839895522277, 20.5487740452766, 19.9650769964536, 20.4199219460964, 20.4199219460964, 18.7289575532754, 22.2380535538673, 19.183867728281, 22.5680154021263, 23.0863358612537, 22.1166095371723, 23.3423831359228, 27.0538102443695, 18.4721825535774, 22.8870214875221, 16.0617949700038, 17.0391967034022, 16.393117636013, 20.3553051030318, 20.4839895522277, 20.2902232702255, 20.8051827029069, 19.3157966530005, 17.4947733537038, 16.7161568855921, 16.6498923615297, 23.5455963706652, 20.4199219460964, 17.2379900212765, 20.3553051030318, 22.828373735714, 18.5301646526337, 20.8051827029069, 18.8614867186228, 16.1943244115194, 16.3268532033443, 19.6380532776992, 10.9262796874523, 19.571788560915, 15.6724913036505, 17.7515564775149, 20.5487740452766, 23.805825336345, 17.884085279274, 22.6269574618022, 21.7848750447909, 20.8760408774694, 20.8760408774694, 8.32538190242449, 19.3157966530005, 20.3553051030318, 15.2831873949051, 20.9394164875825, 17.6852919534524, 22.6269574618022, 21.066217902867, 24.4476813292185, 20.9394164875825, 21.3264694785754, 20.8051827029069, 18.2154077446143, 17.2379900212765, 17.8178206439495, 19.2500656858762, 16.393117636013, 21.3904274459362, 18.6626929874897, 19.183867728281, 23.2843933041573, 22.5680154021263, 18.9939491108735, 19.9650769964536, 16.6498923615297, 16.1943244115194, 21.7220476881345, 19.571788560915, 20.8760408774694, 20.2247304951827, 20.5487740452766, 17.884085279274, 20.8051827029069, 19.382003143994, 22.6269574618022, 21.3904274459362, 19.2500656858762, 21.3264694785754, 15.4157159026146, 23.0207060293039, 19.571788560915, 15.8712847447077, 20.0302140529633, 15.0843938286781, 6.05577282067935, 18.0828788435141, 21.9784083878676, 20.7416711365859, 18.6626929874897, 21.6513775384108, 22.1771261946042, 15.1506581779003, 22.500942112573, 20.3553051030318, 19.382003143994, 19.7690477446397, 19.8345881437937, 20.7416711365859, 23.0207060293039, 17.7515564775149, 17.6273104862054, 21.5249683355967, 19.5059574440797, 20.8760408774694, 19.7690477446397, 23.2843933041573, 17.4947733537038, 20.0959350184282, 18.7289575532754, 12.4255143439452, 18.4721825535774, 17.5610375201384, 21.9784083878676, 22.2380535538673, 23.4153719361305, 19.183867728281, 19.0596802369436, 18.2733895774364, 17.4285086369197, 9.43531194485029, 20.3553051030318, 23.0207060293039, 18.5301646526337, 20.8760408774694, 23.9364288683414, 21.3904274459362, 21.5249683355967, 17.1717250938892, 22.828373735714, 22.7618750210285, 21.066217902867, 19.7690477446397, 18.0166143691222, 19.7036349212805, 20.0302140529633, 21.1368089274248, 23.6766401525021, 20.6130619620959, 15.7387554859797, 22.1166095371723, 19.8345881437937, 21.9784083878676, 19.6380532776992, 19.8345881437937, 18.1491432205518, 21.1997796034495, 23.2107943768978, 19.9006510948817, 22.1166095371723, 20.4199219460964, 19.7690477446397, 22.3731814201355, 19.183867728281, 22.4331826444149, 22.3731814201355, 20.6776380792936, 21.461793887186, 18.0828788435141, 20.2902232702255, 17.4285086369197, 20.2902232702255, 22.3058144445896, 19.6380532776992, 22.1771261946042, 18.0828788435141, 17.8178206439495, 23.6036679104646, 20.9394164875825, 21.1368089274248, 22.1771261946042, 21.3904274459362, 21.6513775384108, 23.805825336345, 18.1491432205518, 23.6036679104646, 11.1913378115177, 20.8051827029069, 20.4839895522277, 22.1771261946042, 23.6036679104646, 20.6776380792936, 23.734287893343, 21.8552495872657, 22.2380535538673, 17.3705271597385, 16.5836282864888, 22.1166095371723, 23.805825336345, 19.5059574440797, 20.5487740452766, 19.382003143994, 29.4559247032483, 23.734287893343, 19.8345881437937, 17.3705271597385, 21.9166846370379, 21.588224962918, 18.4721825535774, 21.0027177707036, 20.1611198540211, 22.2380535538673, 19.7036349212805, 19.183867728281, 22.9538397864183, 22.1771261946042, 19.382003143994, 19.1258864855448, 17.6852919534524, 16.9729318952243, 23.6766401525021, 22.2380535538673, 17.2379900212765, 20.9394164875825, 13.9247482116699, 18.4721825535774, 23.0207060293039, 20.2247304951827, 15.4819806690693, 22.4331826444149, 21.6513775384108, 23.6036679104646, 20.6130619620959, 19.382003143994, 21.588224962918, 19.6380532776992, 19.382003143994, 21.3264694785754, 19.4399704372565, 20.5487740452766, 23.8637943104585, 18.7289575532754, 20.2247304951827, 21.1368089274248, 22.5680154021263, 19.9650769964536, 20.8051827029069, 20.5487740452766, 22.2380535538673, 23.734287893343, 20.0959350184282, 18.8614867186228, 20.9394164875825, 19.9006510948817, 14.7696293945789, 18.2154077446143, 21.1997796034495, 19.8345881437937, 19.7690477446397, 17.1717250938892, 20.8051827029069, 22.6944710528533, 15.1506581779003, 20.3553051030318, 23.4732312516053, 22.1771261946042, 20.6130619620959, 23.8637943104585, 19.382003143994, 20.2247304951827, 23.805825336345, 18.8614867186228, 18.6626929874897, 22.7618750210285, 19.9006510948817, 16.8404029961109, 20.5487740452766, 21.7220476881345, 21.066217902867, 23.2843933041573, 22.2380535538673, 22.1771261946042, 22.4331826444149, 19.571788560915, 19.7036349212805, 21.3264694785754, 21.9784083878676, 19.4399704372565, 17.4947733537038, 18.92775104599, 21.7848750447909, 23.1522585367839, 23.4153719361305, 17.6852919534524, 18.2733895774364, 23.5455963706652, 17.6852919534524, 20.4199219460964, 19.3157966530005, 23.0207060293039, 20.0959350184282, 15.4157159026146, 18.0166143691222, 23.4153719361305, 16.9066669618765, 15.4819806690693, 23.0207060293039, 22.8870214875221, 19.9650769964536, 18.9939491108735, 22.1166095371723, 14.3057690357844, 17.6273104862054, 20.2247304951827, 19.7036349212805, 17.0391967034022, 22.1771261946042, 20.0302140529633, 20.8051827029069, 20.2247304951827, 17.5610375201384, 21.588224962918, 23.2843933041573, 22.9538397864183, 20.6130619620959, 19.3157966530005, 21.461793887186, 22.1771261946042, 21.3904274459362, 17.6273104862054, 20.3553051030318, 20.3553051030318, 20.7416711365859, 23.8637943104585, 23.4732312516053, 23.5455963706652, 22.3058144445896, 18.92775104599, 17.6852919534524, 20.5487740452766, 21.1368089274248, 22.7618750210285, 18.6626929874897, 18.5964287852923, 20.8760408774694, 22.1166095371723, 21.9784083878676, 21.9166846370379, 23.994354344972, 22.9538397864183, 30.4348579203765, 21.1997796034495, 20.0959350184282, 20.0302140529633, 20.4839895522277, 23.2107943768978, 19.9650769964536, 20.5487740452766, 17.884085279274, 21.2630911028067, 22.4331826444149, 17.7515564775149, 20.0302140529633, 21.2630911028067, 21.7220476881345, 18.3396540518284, 22.500942112573, 19.1258864855448, 20.6776380792936, 18.7289575532754, 18.7952223952293, 17.4947733537038, 21.461793887186, 23.2843933041573, 20.7416711365859, 23.0863358612537, 20.4199219460964, 19.5059574440797, 21.7848750447909, 20.2902232702255, 20.1611198540211, 18.9939491108735, 21.2630911028067, 18.0166143691222, 26.9875458951473, 22.1166095371723, 21.7220476881345, 18.92775104599, 32.1856355940978, 22.7618750210285, 17.8178206439495, 15.8712847447077, 19.0596802369436, 20.6130619620959, 22.5680154021263, 19.5059574440797, 18.2733895774364, 23.0863358612537, 23.5455963706652, 19.571788560915, 20.8051827029069, 22.5680154021263, 21.461793887186, 22.828373735714, 21.7220476881345, 21.0027177707036, 20.4839895522277, 19.571788560915, 21.3904274459362, 17.6273104862054, 23.9364288683414, 15.3494519527435, 22.5680154021263, 18.5964287852923, 13.9827299709797, 20.0302140529633, 20.8051827029069, 23.8637943104585, 21.8552495872657, 21.9784083878676, 21.3904274459362, 20.6776380792936, 23.1522585367839, 20.6776380792936, 19.3157966530005, 16.9729318952243, 19.9006510948817, 22.5680154021263, 23.2107943768978, 21.1368089274248, 18.2733895774364, 22.2380535538673, 15.6145100787957, 20.4839895522277, 23.805825336345, 23.6036679104646, 21.6513775384108, 15.6724913036505, 22.0402345037142, 14.6370915627162, 23.0863358612537, 19.0596802369436, 22.3058144445896, 20.7416711365859, 22.3058144445896, 21.461793887186, 21.6513775384108, 15.6724913036505, 22.828373735714, 23.3423831359228, 21.8552495872657, 20.4199219460964, 22.8870214875221, 22.8870214875221, 22.7618750210285, 22.4331826444149, 22.4331826444149, 18.7952223952293, 20.6130619620959, 24.0655254359722, 22.1166095371723, 21.2630911028067, 17.5610375201384, 15.6724913036505, 22.1771261946042, 19.9650769964536, 22.0402345037142, 18.3396540518284, 19.9006510948817, 12.2929850951513, 20.9394164875825, 22.8870214875221, 17.1717250938892, 19.4399704372565, 21.588224962918, 21.1368089274248, 23.2107943768978, 14.8276105041981, 18.4059180116336, 21.1368089274248, 17.2379900212765, 21.3904274459362, 22.2380535538673, 20.4839895522277, 20.4199219460964, 22.1771261946042, 22.0402345037142, 14.1815232034206, 22.1166095371723, 20.9394164875825, 22.828373735714, 12.7485542034785, 18.0166143691222, 19.7690477446397, 22.3731814201355, 23.4153719361305, 23.2107943768978, 22.500942112573, 19.4399704372565, 23.4732312516053, 18.7289575532754, 22.4331826444149, 18.9939491108735, 17.884085279274, 20.8760408774694, 22.1166095371723, 19.5059574440797, 21.1368089274248, 20.0959350184282, 19.3157966530005, 22.3731814201355, 19.4399704372565, 22.8870214875221, 18.2733895774364, 29.6445156371276, 16.3268532033443, 15.9955304876645, 19.0596802369436, 18.4721825535774, 18.2154077446143, 15.4819806690693, 20.8051827029069, 22.828373735714, 22.0402345037142, 18.8614867186228, 23.2843933041573, 15.7387554859797, 20.3553051030318, 14.3720336373329, 16.1280594443957, 22.0402345037142, 23.994354344972, 15.6724913036505, 22.2380535538673, 22.7618750210285, 23.6036679104646, 21.066217902867, 21.5249683355967, 23.994354344972, 23.0207060293039, 21.8552495872657, 23.6036679104646, 17.884085279274, 20.4199219460964, 21.6513775384108, 19.9650769964536, 16.0617949700038, 23.8637943104585, 22.1166095371723, 21.5249683355967, 23.0863358612537, 23.4732312516053, 22.1771261946042, 23.4732312516053, 20.5487740452766, 22.2380535538673, 23.3423831359228, 23.805825336345, 21.7848750447909, 23.6036679104646, 23.0863358612537, 21.1997796034495, 22.4331826444149, 21.7848750447909, 14.4382981455008, 21.1997796034495, 22.4331826444149, 20.2247304951827, 20.6130619620959, 22.0402345037142, 21.1997796034495, 22.2380535538673, 18.0828788435141, 17.6273104862054, 22.9538397864183, 20.8760408774694, 20.4199219460964, 21.7848750447909, 14.8938751037598, 14.3720336373329, 24.1900396442095, 19.0596802369436, 22.5680154021263, 20.8051827029069, 20.1611198540211, 22.7618750210285, 26.7893773273309, 20.0959350184282, 22.9538397864183, 16.7824217017174, 22.3058144445896, 29.6445156371276, 21.588224962918, 20.5487740452766, 20.3553051030318, 22.1771261946042, 31.7304974790096, 22.0402345037142, 17.4285086369197, 20.4199219460964, 23.1522585367839, 21.9166846370379, 20.1611198540211, 19.9006510948817, 23.9364288683414, 23.4732312516053, 19.7036349212805, 17.884085279274, 22.1771261946042, 21.1997796034495, 18.0828788435141, 18.2733895774364, 19.382003143994, 19.571788560915, 19.0596802369436, 13.9827299709797, 18.2154077446143, 20.0959350184282, 22.7618750210285, 20.2247304951827, 23.994354344972, 23.734287893343, 21.066217902867, 22.3058144445896, 20.7416711365859, 14.1815232034206, 22.3058144445896, 21.6513775384108, 20.2902232702255, 16.3268532033443, 21.6513775384108, 17.0391967034022, 23.3423831359228, 19.8345881437937, 22.6269574618022, 22.3731814201355, 21.9784083878676, 16.7161568855921, 17.3042543963273, 22.1771261946042, 16.5256462688923, 18.6626929874897, 22.1166095371723, 22.3731814201355, 22.9538397864183, 22.3058144445896, 21.3904274459362, 22.9538397864183, 14.0489942447027, 16.9729318952243, 22.0402345037142, 21.8552495872657, 20.4839895522277, 22.1771261946042, 19.9650769964536, 19.382003143994, 18.7289575532754, 23.4732312516053, 19.9650769964536, 20.9394164875825, 22.7618750210285, 21.7220476881345, 21.7848750447909, 21.5249683355967, 20.8760408774694, 15.7387554859797, 21.3904274459362, 19.8345881437937, 15.4157159026146, 15.2169227953434, 21.7220476881345, 22.9538397864183, 23.0863358612537, 18.2733895774364, 17.884085279274, 16.7161568855921, 22.3058144445896, 21.3264694785754, 16.393117636013, 20.8760408774694, 22.4331826444149, 19.382003143994, 21.1997796034495, 22.5680154021263, 17.5610375201384, 15.8050202444871, 23.0207060293039, 21.7848750447909, 18.9939491108735, 21.9784083878676, 22.4331826444149, 23.3423831359228, 23.734287893343, 15.9292664960702, 26.2082800026417, 27.3141183769385, 15.6145100787957, 18.5964287852923, 16.6498923615297, 17.4285086369197, 21.0027177707036, 15.0843938286781, 19.8345881437937, 15.9955304876645, 23.1522585367839, 22.3058144445896, 22.7618750210285, 23.0207060293039, 19.5059574440797, 17.6273104862054, 21.0027177707036, 16.5836282864888, 19.0596802369436], \"yaxis\": \"y\"}],                        {\"legend\": {\"tracegroupgap\": 0}, \"margin\": {\"t\": 60}, \"template\": {\"data\": {\"bar\": [{\"error_x\": {\"color\": \"#2a3f5f\"}, \"error_y\": {\"color\": \"#2a3f5f\"}, \"marker\": {\"line\": {\"color\": \"#E5ECF6\", \"width\": 0.5}}, \"type\": \"bar\"}], \"barpolar\": [{\"marker\": {\"line\": {\"color\": \"#E5ECF6\", \"width\": 0.5}}, \"type\": \"barpolar\"}], \"carpet\": [{\"aaxis\": {\"endlinecolor\": \"#2a3f5f\", \"gridcolor\": \"white\", \"linecolor\": \"white\", \"minorgridcolor\": \"white\", \"startlinecolor\": \"#2a3f5f\"}, \"baxis\": {\"endlinecolor\": \"#2a3f5f\", \"gridcolor\": \"white\", \"linecolor\": \"white\", \"minorgridcolor\": \"white\", \"startlinecolor\": \"#2a3f5f\"}, \"type\": \"carpet\"}], \"choropleth\": [{\"colorbar\": {\"outlinewidth\": 0, \"ticks\": \"\"}, \"type\": \"choropleth\"}], \"contour\": [{\"colorbar\": {\"outlinewidth\": 0, \"ticks\": \"\"}, \"colorscale\": [[0.0, \"#0d0887\"], [0.1111111111111111, \"#46039f\"], [0.2222222222222222, \"#7201a8\"], [0.3333333333333333, \"#9c179e\"], [0.4444444444444444, \"#bd3786\"], [0.5555555555555556, \"#d8576b\"], [0.6666666666666666, \"#ed7953\"], [0.7777777777777778, \"#fb9f3a\"], [0.8888888888888888, \"#fdca26\"], [1.0, \"#f0f921\"]], \"type\": \"contour\"}], \"contourcarpet\": [{\"colorbar\": {\"outlinewidth\": 0, \"ticks\": \"\"}, \"type\": \"contourcarpet\"}], \"heatmap\": [{\"colorbar\": {\"outlinewidth\": 0, \"ticks\": \"\"}, \"colorscale\": [[0.0, \"#0d0887\"], [0.1111111111111111, \"#46039f\"], [0.2222222222222222, \"#7201a8\"], [0.3333333333333333, \"#9c179e\"], [0.4444444444444444, \"#bd3786\"], [0.5555555555555556, \"#d8576b\"], [0.6666666666666666, \"#ed7953\"], [0.7777777777777778, \"#fb9f3a\"], [0.8888888888888888, \"#fdca26\"], [1.0, \"#f0f921\"]], \"type\": \"heatmap\"}], \"heatmapgl\": [{\"colorbar\": {\"outlinewidth\": 0, \"ticks\": \"\"}, \"colorscale\": [[0.0, \"#0d0887\"], [0.1111111111111111, \"#46039f\"], [0.2222222222222222, \"#7201a8\"], [0.3333333333333333, \"#9c179e\"], [0.4444444444444444, \"#bd3786\"], [0.5555555555555556, \"#d8576b\"], [0.6666666666666666, \"#ed7953\"], [0.7777777777777778, \"#fb9f3a\"], [0.8888888888888888, \"#fdca26\"], [1.0, \"#f0f921\"]], \"type\": \"heatmapgl\"}], \"histogram\": [{\"marker\": {\"colorbar\": {\"outlinewidth\": 0, \"ticks\": \"\"}}, \"type\": \"histogram\"}], \"histogram2d\": [{\"colorbar\": {\"outlinewidth\": 0, \"ticks\": \"\"}, \"colorscale\": [[0.0, \"#0d0887\"], [0.1111111111111111, \"#46039f\"], [0.2222222222222222, \"#7201a8\"], [0.3333333333333333, \"#9c179e\"], [0.4444444444444444, \"#bd3786\"], [0.5555555555555556, \"#d8576b\"], [0.6666666666666666, \"#ed7953\"], [0.7777777777777778, \"#fb9f3a\"], [0.8888888888888888, \"#fdca26\"], [1.0, \"#f0f921\"]], \"type\": \"histogram2d\"}], \"histogram2dcontour\": [{\"colorbar\": {\"outlinewidth\": 0, \"ticks\": \"\"}, \"colorscale\": [[0.0, \"#0d0887\"], [0.1111111111111111, \"#46039f\"], [0.2222222222222222, \"#7201a8\"], [0.3333333333333333, \"#9c179e\"], [0.4444444444444444, \"#bd3786\"], [0.5555555555555556, \"#d8576b\"], [0.6666666666666666, \"#ed7953\"], [0.7777777777777778, \"#fb9f3a\"], [0.8888888888888888, \"#fdca26\"], [1.0, \"#f0f921\"]], \"type\": \"histogram2dcontour\"}], \"mesh3d\": [{\"colorbar\": {\"outlinewidth\": 0, \"ticks\": \"\"}, \"type\": \"mesh3d\"}], \"parcoords\": [{\"line\": {\"colorbar\": {\"outlinewidth\": 0, \"ticks\": \"\"}}, \"type\": \"parcoords\"}], \"pie\": [{\"automargin\": true, \"type\": \"pie\"}], \"scatter\": [{\"marker\": {\"colorbar\": {\"outlinewidth\": 0, \"ticks\": \"\"}}, \"type\": \"scatter\"}], \"scatter3d\": [{\"line\": {\"colorbar\": {\"outlinewidth\": 0, \"ticks\": \"\"}}, \"marker\": {\"colorbar\": {\"outlinewidth\": 0, \"ticks\": \"\"}}, \"type\": \"scatter3d\"}], \"scattercarpet\": [{\"marker\": {\"colorbar\": {\"outlinewidth\": 0, \"ticks\": \"\"}}, \"type\": \"scattercarpet\"}], \"scattergeo\": [{\"marker\": {\"colorbar\": {\"outlinewidth\": 0, \"ticks\": \"\"}}, \"type\": \"scattergeo\"}], \"scattergl\": [{\"marker\": {\"colorbar\": {\"outlinewidth\": 0, \"ticks\": \"\"}}, \"type\": \"scattergl\"}], \"scattermapbox\": [{\"marker\": {\"colorbar\": {\"outlinewidth\": 0, \"ticks\": \"\"}}, \"type\": \"scattermapbox\"}], \"scatterpolar\": [{\"marker\": {\"colorbar\": {\"outlinewidth\": 0, \"ticks\": \"\"}}, \"type\": \"scatterpolar\"}], \"scatterpolargl\": [{\"marker\": {\"colorbar\": {\"outlinewidth\": 0, \"ticks\": \"\"}}, \"type\": \"scatterpolargl\"}], \"scatterternary\": [{\"marker\": {\"colorbar\": {\"outlinewidth\": 0, \"ticks\": \"\"}}, \"type\": \"scatterternary\"}], \"surface\": [{\"colorbar\": {\"outlinewidth\": 0, \"ticks\": \"\"}, \"colorscale\": [[0.0, \"#0d0887\"], [0.1111111111111111, \"#46039f\"], [0.2222222222222222, \"#7201a8\"], [0.3333333333333333, \"#9c179e\"], [0.4444444444444444, \"#bd3786\"], [0.5555555555555556, \"#d8576b\"], [0.6666666666666666, \"#ed7953\"], [0.7777777777777778, \"#fb9f3a\"], [0.8888888888888888, \"#fdca26\"], [1.0, \"#f0f921\"]], \"type\": \"surface\"}], \"table\": [{\"cells\": {\"fill\": {\"color\": \"#EBF0F8\"}, \"line\": {\"color\": \"white\"}}, \"header\": {\"fill\": {\"color\": \"#C8D4E3\"}, \"line\": {\"color\": \"white\"}}, \"type\": \"table\"}]}, \"layout\": {\"annotationdefaults\": {\"arrowcolor\": \"#2a3f5f\", \"arrowhead\": 0, \"arrowwidth\": 1}, \"autotypenumbers\": \"strict\", \"coloraxis\": {\"colorbar\": {\"outlinewidth\": 0, \"ticks\": \"\"}}, \"colorscale\": {\"diverging\": [[0, \"#8e0152\"], [0.1, \"#c51b7d\"], [0.2, \"#de77ae\"], [0.3, \"#f1b6da\"], [0.4, \"#fde0ef\"], [0.5, \"#f7f7f7\"], [0.6, \"#e6f5d0\"], [0.7, \"#b8e186\"], [0.8, \"#7fbc41\"], [0.9, \"#4d9221\"], [1, \"#276419\"]], \"sequential\": [[0.0, \"#0d0887\"], [0.1111111111111111, \"#46039f\"], [0.2222222222222222, \"#7201a8\"], [0.3333333333333333, \"#9c179e\"], [0.4444444444444444, \"#bd3786\"], [0.5555555555555556, \"#d8576b\"], [0.6666666666666666, \"#ed7953\"], [0.7777777777777778, \"#fb9f3a\"], [0.8888888888888888, \"#fdca26\"], [1.0, \"#f0f921\"]], \"sequentialminus\": [[0.0, \"#0d0887\"], [0.1111111111111111, \"#46039f\"], [0.2222222222222222, \"#7201a8\"], [0.3333333333333333, \"#9c179e\"], [0.4444444444444444, \"#bd3786\"], [0.5555555555555556, \"#d8576b\"], [0.6666666666666666, \"#ed7953\"], [0.7777777777777778, \"#fb9f3a\"], [0.8888888888888888, \"#fdca26\"], [1.0, \"#f0f921\"]]}, \"colorway\": [\"#636efa\", \"#EF553B\", \"#00cc96\", \"#ab63fa\", \"#FFA15A\", \"#19d3f3\", \"#FF6692\", \"#B6E880\", \"#FF97FF\", \"#FECB52\"], \"font\": {\"color\": \"#2a3f5f\"}, \"geo\": {\"bgcolor\": \"white\", \"lakecolor\": \"white\", \"landcolor\": \"#E5ECF6\", \"showlakes\": true, \"showland\": true, \"subunitcolor\": \"white\"}, \"hoverlabel\": {\"align\": \"left\"}, \"hovermode\": \"closest\", \"mapbox\": {\"style\": \"light\"}, \"paper_bgcolor\": \"white\", \"plot_bgcolor\": \"#E5ECF6\", \"polar\": {\"angularaxis\": {\"gridcolor\": \"white\", \"linecolor\": \"white\", \"ticks\": \"\"}, \"bgcolor\": \"#E5ECF6\", \"radialaxis\": {\"gridcolor\": \"white\", \"linecolor\": \"white\", \"ticks\": \"\"}}, \"scene\": {\"xaxis\": {\"backgroundcolor\": \"#E5ECF6\", \"gridcolor\": \"white\", \"gridwidth\": 2, \"linecolor\": \"white\", \"showbackground\": true, \"ticks\": \"\", \"zerolinecolor\": \"white\"}, \"yaxis\": {\"backgroundcolor\": \"#E5ECF6\", \"gridcolor\": \"white\", \"gridwidth\": 2, \"linecolor\": \"white\", \"showbackground\": true, \"ticks\": \"\", \"zerolinecolor\": \"white\"}, \"zaxis\": {\"backgroundcolor\": \"#E5ECF6\", \"gridcolor\": \"white\", \"gridwidth\": 2, \"linecolor\": \"white\", \"showbackground\": true, \"ticks\": \"\", \"zerolinecolor\": \"white\"}}, \"shapedefaults\": {\"line\": {\"color\": \"#2a3f5f\"}}, \"ternary\": {\"aaxis\": {\"gridcolor\": \"white\", \"linecolor\": \"white\", \"ticks\": \"\"}, \"baxis\": {\"gridcolor\": \"white\", \"linecolor\": \"white\", \"ticks\": \"\"}, \"bgcolor\": \"#E5ECF6\", \"caxis\": {\"gridcolor\": \"white\", \"linecolor\": \"white\", \"ticks\": \"\"}}, \"title\": {\"x\": 0.05}, \"xaxis\": {\"automargin\": true, \"gridcolor\": \"white\", \"linecolor\": \"white\", \"ticks\": \"\", \"title\": {\"standoff\": 15}, \"zerolinecolor\": \"white\", \"zerolinewidth\": 2}, \"yaxis\": {\"automargin\": true, \"gridcolor\": \"white\", \"linecolor\": \"white\", \"ticks\": \"\", \"title\": {\"standoff\": 15}, \"zerolinecolor\": \"white\", \"zerolinewidth\": 2}}}, \"xaxis\": {\"anchor\": \"y\", \"domain\": [0.0, 1.0], \"title\": {\"text\": \"Mass\"}}, \"yaxis\": {\"anchor\": \"x\", \"domain\": [0.0, 1.0], \"title\": {\"text\": \"RT\"}}},                        {\"responsive\": true}                    ).then(function(){\n",
       "                            \n",
       "var gd = document.getElementById('33240943-c2e6-459c-b66f-b98e153138a4');\n",
       "var x = new MutationObserver(function (mutations, observer) {{\n",
       "        var display = window.getComputedStyle(gd).display;\n",
       "        if (!display || display === 'none') {{\n",
       "            console.log([gd, 'removed!']);\n",
       "            Plotly.purge(gd);\n",
       "            observer.disconnect();\n",
       "        }}\n",
       "}});\n",
       "\n",
       "// Listen for the removal of the full notebook cells\n",
       "var notebookContainer = gd.closest('#notebook-container');\n",
       "if (notebookContainer) {{\n",
       "    x.observe(notebookContainer, {childList: true});\n",
       "}}\n",
       "\n",
       "// Listen for the clearing of the current output cell\n",
       "var outputEl = gd.closest('.output');\n",
       "if (outputEl) {{\n",
       "    x.observe(outputEl, {childList: true});\n",
       "}}\n",
       "\n",
       "                        })                };                });            </script>        </div>"
      ]
     },
     "metadata": {},
     "output_type": "display_data"
    }
   ],
   "source": [
    "plotly_zone(df_mock)\n",
    "plotly_zone(df_rsv)"
   ]
  },
  {
   "cell_type": "code",
   "execution_count": 109,
   "id": "brave-mystery",
   "metadata": {},
   "outputs": [],
   "source": [
    "import multiprocessing\n",
    "from collections import namedtuple\n",
    "ShiftHit = namedtuple('ShiftHit', 'shift hit')\n",
    "\n",
    "def func(df_s1, df_s2, shift):\n",
    "    dfm = match_dfs(df_s1, df_s2, shift=shift)\n",
    "    sh = ShiftHit(shift=shift, hit=dfm.shape[0])\n",
    "    return sh\n",
    "\n",
    "PROCESSES = 16\n",
    "params = [(df_mock, df_rsv, shift) for shift in np.arange(-64, 64, 1)]\n",
    "# params = [(df_intact_mock, df_only_intact_rsv, shift) for shift in np.arange(-64, 64, 1)]\n",
    "# params = [(df_mock, df_rsv, shift) for shift in np.arange(1, 300, 1)]\n",
    "# params = [(df_mock, df_rsv, shift) for shift in np.arange(1, 300, 1)]\n",
    "# params = [(df_mock_top, df_rsv_top_only, shift) for shift in np.arange(-64, 64, 1)]\n",
    "# params = [(df_mock, dfm_only_rsv, shift) for shift in np.arange(-64, 64, 1)]\n",
    "# params = [(df_sample, shift) for shift in np.arange(1, 64, 0.1)]\n",
    "with multiprocessing.Pool(PROCESSES) as pool:\n",
    "    shift_hits = pool.starmap(func, params)\n",
    "\n",
    "df_shift_hits = pd.DataFrame(shift_hits)    "
   ]
  },
  {
   "cell_type": "code",
   "execution_count": 111,
   "id": "enclosed-partnership",
   "metadata": {},
   "outputs": [
    {
     "data": {
      "application/vnd.plotly.v1+json": {
       "config": {
        "plotlyServerURL": "https://plot.ly"
       },
       "data": [
        {
         "hovertemplate": "Mass Shift=%{x}<br>Hit Count=%{y}<extra></extra>",
         "legendgroup": "",
         "marker": {
          "color": "#636efa",
          "symbol": "circle"
         },
         "mode": "markers",
         "name": "",
         "orientation": "v",
         "showlegend": false,
         "type": "scatter",
         "x": [
          -64,
          -63,
          -62,
          -61,
          -60,
          -59,
          -58,
          -57,
          -56,
          -55,
          -54,
          -53,
          -52,
          -51,
          -50,
          -49,
          -48,
          -47,
          -46,
          -45,
          -44,
          -43,
          -42,
          -41,
          -40,
          -39,
          -38,
          -37,
          -36,
          -35,
          -34,
          -33,
          -32,
          -31,
          -30,
          -29,
          -28,
          -27,
          -26,
          -25,
          -24,
          -23,
          -22,
          -21,
          -20,
          -19,
          -18,
          -17,
          -16,
          -15,
          -14,
          -13,
          -12,
          -11,
          -10,
          -9,
          -8,
          -7,
          -6,
          -5,
          -4,
          -3,
          -2,
          -1,
          0,
          1,
          2,
          3,
          4,
          5,
          6,
          7,
          8,
          9,
          10,
          11,
          12,
          13,
          14,
          15,
          16,
          17,
          18,
          19,
          20,
          21,
          22,
          23,
          24,
          25,
          26,
          27,
          28,
          29,
          30,
          31,
          32,
          33,
          34,
          35,
          36,
          37,
          38,
          39,
          40,
          41,
          42,
          43,
          44,
          45,
          46,
          47,
          48,
          49,
          50,
          51,
          52,
          53,
          54,
          55,
          56,
          57,
          58,
          59,
          60,
          61,
          62,
          63
         ],
         "xaxis": "x",
         "y": [
          311,
          337,
          298,
          265,
          274,
          255,
          296,
          329,
          328,
          320,
          311,
          282,
          265,
          236,
          277,
          320,
          346,
          333,
          298,
          276,
          286,
          287,
          311,
          322,
          355,
          329,
          293,
          264,
          264,
          263,
          276,
          335,
          342,
          363,
          316,
          291,
          324,
          297,
          283,
          325,
          334,
          344,
          319,
          277,
          253,
          260,
          316,
          340,
          377,
          389,
          356,
          298,
          278,
          282,
          305,
          311,
          342,
          334,
          308,
          288,
          251,
          240,
          252,
          424,
          738,
          408,
          259,
          262,
          235,
          263,
          272,
          323,
          337,
          334,
          311,
          302,
          287,
          280,
          357,
          378,
          353,
          352,
          319,
          291,
          264,
          248,
          320,
          309,
          332,
          326,
          283,
          286,
          312,
          291,
          313,
          330,
          319,
          324,
          291,
          259,
          266,
          266,
          298,
          328,
          339,
          311,
          324,
          296,
          269,
          265,
          269,
          309,
          333,
          313,
          290,
          268,
          264,
          254,
          312,
          335,
          305,
          310,
          288,
          273,
          269,
          275,
          250,
          307
         ],
         "yaxis": "y"
        }
       ],
       "layout": {
        "legend": {
         "tracegroupgap": 0
        },
        "margin": {
         "t": 60
        },
        "template": {
         "data": {
          "bar": [
           {
            "error_x": {
             "color": "#2a3f5f"
            },
            "error_y": {
             "color": "#2a3f5f"
            },
            "marker": {
             "line": {
              "color": "#E5ECF6",
              "width": 0.5
             }
            },
            "type": "bar"
           }
          ],
          "barpolar": [
           {
            "marker": {
             "line": {
              "color": "#E5ECF6",
              "width": 0.5
             }
            },
            "type": "barpolar"
           }
          ],
          "carpet": [
           {
            "aaxis": {
             "endlinecolor": "#2a3f5f",
             "gridcolor": "white",
             "linecolor": "white",
             "minorgridcolor": "white",
             "startlinecolor": "#2a3f5f"
            },
            "baxis": {
             "endlinecolor": "#2a3f5f",
             "gridcolor": "white",
             "linecolor": "white",
             "minorgridcolor": "white",
             "startlinecolor": "#2a3f5f"
            },
            "type": "carpet"
           }
          ],
          "choropleth": [
           {
            "colorbar": {
             "outlinewidth": 0,
             "ticks": ""
            },
            "type": "choropleth"
           }
          ],
          "contour": [
           {
            "colorbar": {
             "outlinewidth": 0,
             "ticks": ""
            },
            "colorscale": [
             [
              0,
              "#0d0887"
             ],
             [
              0.1111111111111111,
              "#46039f"
             ],
             [
              0.2222222222222222,
              "#7201a8"
             ],
             [
              0.3333333333333333,
              "#9c179e"
             ],
             [
              0.4444444444444444,
              "#bd3786"
             ],
             [
              0.5555555555555556,
              "#d8576b"
             ],
             [
              0.6666666666666666,
              "#ed7953"
             ],
             [
              0.7777777777777778,
              "#fb9f3a"
             ],
             [
              0.8888888888888888,
              "#fdca26"
             ],
             [
              1,
              "#f0f921"
             ]
            ],
            "type": "contour"
           }
          ],
          "contourcarpet": [
           {
            "colorbar": {
             "outlinewidth": 0,
             "ticks": ""
            },
            "type": "contourcarpet"
           }
          ],
          "heatmap": [
           {
            "colorbar": {
             "outlinewidth": 0,
             "ticks": ""
            },
            "colorscale": [
             [
              0,
              "#0d0887"
             ],
             [
              0.1111111111111111,
              "#46039f"
             ],
             [
              0.2222222222222222,
              "#7201a8"
             ],
             [
              0.3333333333333333,
              "#9c179e"
             ],
             [
              0.4444444444444444,
              "#bd3786"
             ],
             [
              0.5555555555555556,
              "#d8576b"
             ],
             [
              0.6666666666666666,
              "#ed7953"
             ],
             [
              0.7777777777777778,
              "#fb9f3a"
             ],
             [
              0.8888888888888888,
              "#fdca26"
             ],
             [
              1,
              "#f0f921"
             ]
            ],
            "type": "heatmap"
           }
          ],
          "heatmapgl": [
           {
            "colorbar": {
             "outlinewidth": 0,
             "ticks": ""
            },
            "colorscale": [
             [
              0,
              "#0d0887"
             ],
             [
              0.1111111111111111,
              "#46039f"
             ],
             [
              0.2222222222222222,
              "#7201a8"
             ],
             [
              0.3333333333333333,
              "#9c179e"
             ],
             [
              0.4444444444444444,
              "#bd3786"
             ],
             [
              0.5555555555555556,
              "#d8576b"
             ],
             [
              0.6666666666666666,
              "#ed7953"
             ],
             [
              0.7777777777777778,
              "#fb9f3a"
             ],
             [
              0.8888888888888888,
              "#fdca26"
             ],
             [
              1,
              "#f0f921"
             ]
            ],
            "type": "heatmapgl"
           }
          ],
          "histogram": [
           {
            "marker": {
             "colorbar": {
              "outlinewidth": 0,
              "ticks": ""
             }
            },
            "type": "histogram"
           }
          ],
          "histogram2d": [
           {
            "colorbar": {
             "outlinewidth": 0,
             "ticks": ""
            },
            "colorscale": [
             [
              0,
              "#0d0887"
             ],
             [
              0.1111111111111111,
              "#46039f"
             ],
             [
              0.2222222222222222,
              "#7201a8"
             ],
             [
              0.3333333333333333,
              "#9c179e"
             ],
             [
              0.4444444444444444,
              "#bd3786"
             ],
             [
              0.5555555555555556,
              "#d8576b"
             ],
             [
              0.6666666666666666,
              "#ed7953"
             ],
             [
              0.7777777777777778,
              "#fb9f3a"
             ],
             [
              0.8888888888888888,
              "#fdca26"
             ],
             [
              1,
              "#f0f921"
             ]
            ],
            "type": "histogram2d"
           }
          ],
          "histogram2dcontour": [
           {
            "colorbar": {
             "outlinewidth": 0,
             "ticks": ""
            },
            "colorscale": [
             [
              0,
              "#0d0887"
             ],
             [
              0.1111111111111111,
              "#46039f"
             ],
             [
              0.2222222222222222,
              "#7201a8"
             ],
             [
              0.3333333333333333,
              "#9c179e"
             ],
             [
              0.4444444444444444,
              "#bd3786"
             ],
             [
              0.5555555555555556,
              "#d8576b"
             ],
             [
              0.6666666666666666,
              "#ed7953"
             ],
             [
              0.7777777777777778,
              "#fb9f3a"
             ],
             [
              0.8888888888888888,
              "#fdca26"
             ],
             [
              1,
              "#f0f921"
             ]
            ],
            "type": "histogram2dcontour"
           }
          ],
          "mesh3d": [
           {
            "colorbar": {
             "outlinewidth": 0,
             "ticks": ""
            },
            "type": "mesh3d"
           }
          ],
          "parcoords": [
           {
            "line": {
             "colorbar": {
              "outlinewidth": 0,
              "ticks": ""
             }
            },
            "type": "parcoords"
           }
          ],
          "pie": [
           {
            "automargin": true,
            "type": "pie"
           }
          ],
          "scatter": [
           {
            "marker": {
             "colorbar": {
              "outlinewidth": 0,
              "ticks": ""
             }
            },
            "type": "scatter"
           }
          ],
          "scatter3d": [
           {
            "line": {
             "colorbar": {
              "outlinewidth": 0,
              "ticks": ""
             }
            },
            "marker": {
             "colorbar": {
              "outlinewidth": 0,
              "ticks": ""
             }
            },
            "type": "scatter3d"
           }
          ],
          "scattercarpet": [
           {
            "marker": {
             "colorbar": {
              "outlinewidth": 0,
              "ticks": ""
             }
            },
            "type": "scattercarpet"
           }
          ],
          "scattergeo": [
           {
            "marker": {
             "colorbar": {
              "outlinewidth": 0,
              "ticks": ""
             }
            },
            "type": "scattergeo"
           }
          ],
          "scattergl": [
           {
            "marker": {
             "colorbar": {
              "outlinewidth": 0,
              "ticks": ""
             }
            },
            "type": "scattergl"
           }
          ],
          "scattermapbox": [
           {
            "marker": {
             "colorbar": {
              "outlinewidth": 0,
              "ticks": ""
             }
            },
            "type": "scattermapbox"
           }
          ],
          "scatterpolar": [
           {
            "marker": {
             "colorbar": {
              "outlinewidth": 0,
              "ticks": ""
             }
            },
            "type": "scatterpolar"
           }
          ],
          "scatterpolargl": [
           {
            "marker": {
             "colorbar": {
              "outlinewidth": 0,
              "ticks": ""
             }
            },
            "type": "scatterpolargl"
           }
          ],
          "scatterternary": [
           {
            "marker": {
             "colorbar": {
              "outlinewidth": 0,
              "ticks": ""
             }
            },
            "type": "scatterternary"
           }
          ],
          "surface": [
           {
            "colorbar": {
             "outlinewidth": 0,
             "ticks": ""
            },
            "colorscale": [
             [
              0,
              "#0d0887"
             ],
             [
              0.1111111111111111,
              "#46039f"
             ],
             [
              0.2222222222222222,
              "#7201a8"
             ],
             [
              0.3333333333333333,
              "#9c179e"
             ],
             [
              0.4444444444444444,
              "#bd3786"
             ],
             [
              0.5555555555555556,
              "#d8576b"
             ],
             [
              0.6666666666666666,
              "#ed7953"
             ],
             [
              0.7777777777777778,
              "#fb9f3a"
             ],
             [
              0.8888888888888888,
              "#fdca26"
             ],
             [
              1,
              "#f0f921"
             ]
            ],
            "type": "surface"
           }
          ],
          "table": [
           {
            "cells": {
             "fill": {
              "color": "#EBF0F8"
             },
             "line": {
              "color": "white"
             }
            },
            "header": {
             "fill": {
              "color": "#C8D4E3"
             },
             "line": {
              "color": "white"
             }
            },
            "type": "table"
           }
          ]
         },
         "layout": {
          "annotationdefaults": {
           "arrowcolor": "#2a3f5f",
           "arrowhead": 0,
           "arrowwidth": 1
          },
          "autotypenumbers": "strict",
          "coloraxis": {
           "colorbar": {
            "outlinewidth": 0,
            "ticks": ""
           }
          },
          "colorscale": {
           "diverging": [
            [
             0,
             "#8e0152"
            ],
            [
             0.1,
             "#c51b7d"
            ],
            [
             0.2,
             "#de77ae"
            ],
            [
             0.3,
             "#f1b6da"
            ],
            [
             0.4,
             "#fde0ef"
            ],
            [
             0.5,
             "#f7f7f7"
            ],
            [
             0.6,
             "#e6f5d0"
            ],
            [
             0.7,
             "#b8e186"
            ],
            [
             0.8,
             "#7fbc41"
            ],
            [
             0.9,
             "#4d9221"
            ],
            [
             1,
             "#276419"
            ]
           ],
           "sequential": [
            [
             0,
             "#0d0887"
            ],
            [
             0.1111111111111111,
             "#46039f"
            ],
            [
             0.2222222222222222,
             "#7201a8"
            ],
            [
             0.3333333333333333,
             "#9c179e"
            ],
            [
             0.4444444444444444,
             "#bd3786"
            ],
            [
             0.5555555555555556,
             "#d8576b"
            ],
            [
             0.6666666666666666,
             "#ed7953"
            ],
            [
             0.7777777777777778,
             "#fb9f3a"
            ],
            [
             0.8888888888888888,
             "#fdca26"
            ],
            [
             1,
             "#f0f921"
            ]
           ],
           "sequentialminus": [
            [
             0,
             "#0d0887"
            ],
            [
             0.1111111111111111,
             "#46039f"
            ],
            [
             0.2222222222222222,
             "#7201a8"
            ],
            [
             0.3333333333333333,
             "#9c179e"
            ],
            [
             0.4444444444444444,
             "#bd3786"
            ],
            [
             0.5555555555555556,
             "#d8576b"
            ],
            [
             0.6666666666666666,
             "#ed7953"
            ],
            [
             0.7777777777777778,
             "#fb9f3a"
            ],
            [
             0.8888888888888888,
             "#fdca26"
            ],
            [
             1,
             "#f0f921"
            ]
           ]
          },
          "colorway": [
           "#636efa",
           "#EF553B",
           "#00cc96",
           "#ab63fa",
           "#FFA15A",
           "#19d3f3",
           "#FF6692",
           "#B6E880",
           "#FF97FF",
           "#FECB52"
          ],
          "font": {
           "color": "#2a3f5f"
          },
          "geo": {
           "bgcolor": "white",
           "lakecolor": "white",
           "landcolor": "#E5ECF6",
           "showlakes": true,
           "showland": true,
           "subunitcolor": "white"
          },
          "hoverlabel": {
           "align": "left"
          },
          "hovermode": "closest",
          "mapbox": {
           "style": "light"
          },
          "paper_bgcolor": "white",
          "plot_bgcolor": "#E5ECF6",
          "polar": {
           "angularaxis": {
            "gridcolor": "white",
            "linecolor": "white",
            "ticks": ""
           },
           "bgcolor": "#E5ECF6",
           "radialaxis": {
            "gridcolor": "white",
            "linecolor": "white",
            "ticks": ""
           }
          },
          "scene": {
           "xaxis": {
            "backgroundcolor": "#E5ECF6",
            "gridcolor": "white",
            "gridwidth": 2,
            "linecolor": "white",
            "showbackground": true,
            "ticks": "",
            "zerolinecolor": "white"
           },
           "yaxis": {
            "backgroundcolor": "#E5ECF6",
            "gridcolor": "white",
            "gridwidth": 2,
            "linecolor": "white",
            "showbackground": true,
            "ticks": "",
            "zerolinecolor": "white"
           },
           "zaxis": {
            "backgroundcolor": "#E5ECF6",
            "gridcolor": "white",
            "gridwidth": 2,
            "linecolor": "white",
            "showbackground": true,
            "ticks": "",
            "zerolinecolor": "white"
           }
          },
          "shapedefaults": {
           "line": {
            "color": "#2a3f5f"
           }
          },
          "ternary": {
           "aaxis": {
            "gridcolor": "white",
            "linecolor": "white",
            "ticks": ""
           },
           "baxis": {
            "gridcolor": "white",
            "linecolor": "white",
            "ticks": ""
           },
           "bgcolor": "#E5ECF6",
           "caxis": {
            "gridcolor": "white",
            "linecolor": "white",
            "ticks": ""
           }
          },
          "title": {
           "x": 0.05
          },
          "xaxis": {
           "automargin": true,
           "gridcolor": "white",
           "linecolor": "white",
           "ticks": "",
           "title": {
            "standoff": 15
           },
           "zerolinecolor": "white",
           "zerolinewidth": 2
          },
          "yaxis": {
           "automargin": true,
           "gridcolor": "white",
           "linecolor": "white",
           "ticks": "",
           "title": {
            "standoff": 15
           },
           "zerolinecolor": "white",
           "zerolinewidth": 2
          }
         }
        },
        "xaxis": {
         "anchor": "y",
         "domain": [
          0,
          1
         ],
         "title": {
          "text": "Mass Shift"
         }
        },
        "yaxis": {
         "anchor": "x",
         "domain": [
          0,
          1
         ],
         "title": {
          "text": "Hit Count"
         }
        }
       }
      },
      "text/html": [
       "<div>                            <div id=\"4dc2a7f1-46ad-4d86-9e50-1c2a29bbe817\" class=\"plotly-graph-div\" style=\"height:525px; width:100%;\"></div>            <script type=\"text/javascript\">                require([\"plotly\"], function(Plotly) {                    window.PLOTLYENV=window.PLOTLYENV || {};                                    if (document.getElementById(\"4dc2a7f1-46ad-4d86-9e50-1c2a29bbe817\")) {                    Plotly.newPlot(                        \"4dc2a7f1-46ad-4d86-9e50-1c2a29bbe817\",                        [{\"hovertemplate\": \"Mass Shift=%{x}<br>Hit Count=%{y}<extra></extra>\", \"legendgroup\": \"\", \"marker\": {\"color\": \"#636efa\", \"symbol\": \"circle\"}, \"mode\": \"markers\", \"name\": \"\", \"orientation\": \"v\", \"showlegend\": false, \"type\": \"scatter\", \"x\": [-64, -63, -62, -61, -60, -59, -58, -57, -56, -55, -54, -53, -52, -51, -50, -49, -48, -47, -46, -45, -44, -43, -42, -41, -40, -39, -38, -37, -36, -35, -34, -33, -32, -31, -30, -29, -28, -27, -26, -25, -24, -23, -22, -21, -20, -19, -18, -17, -16, -15, -14, -13, -12, -11, -10, -9, -8, -7, -6, -5, -4, -3, -2, -1, 0, 1, 2, 3, 4, 5, 6, 7, 8, 9, 10, 11, 12, 13, 14, 15, 16, 17, 18, 19, 20, 21, 22, 23, 24, 25, 26, 27, 28, 29, 30, 31, 32, 33, 34, 35, 36, 37, 38, 39, 40, 41, 42, 43, 44, 45, 46, 47, 48, 49, 50, 51, 52, 53, 54, 55, 56, 57, 58, 59, 60, 61, 62, 63], \"xaxis\": \"x\", \"y\": [311, 337, 298, 265, 274, 255, 296, 329, 328, 320, 311, 282, 265, 236, 277, 320, 346, 333, 298, 276, 286, 287, 311, 322, 355, 329, 293, 264, 264, 263, 276, 335, 342, 363, 316, 291, 324, 297, 283, 325, 334, 344, 319, 277, 253, 260, 316, 340, 377, 389, 356, 298, 278, 282, 305, 311, 342, 334, 308, 288, 251, 240, 252, 424, 738, 408, 259, 262, 235, 263, 272, 323, 337, 334, 311, 302, 287, 280, 357, 378, 353, 352, 319, 291, 264, 248, 320, 309, 332, 326, 283, 286, 312, 291, 313, 330, 319, 324, 291, 259, 266, 266, 298, 328, 339, 311, 324, 296, 269, 265, 269, 309, 333, 313, 290, 268, 264, 254, 312, 335, 305, 310, 288, 273, 269, 275, 250, 307], \"yaxis\": \"y\"}],                        {\"legend\": {\"tracegroupgap\": 0}, \"margin\": {\"t\": 60}, \"template\": {\"data\": {\"bar\": [{\"error_x\": {\"color\": \"#2a3f5f\"}, \"error_y\": {\"color\": \"#2a3f5f\"}, \"marker\": {\"line\": {\"color\": \"#E5ECF6\", \"width\": 0.5}}, \"type\": \"bar\"}], \"barpolar\": [{\"marker\": {\"line\": {\"color\": \"#E5ECF6\", \"width\": 0.5}}, \"type\": \"barpolar\"}], \"carpet\": [{\"aaxis\": {\"endlinecolor\": \"#2a3f5f\", \"gridcolor\": \"white\", \"linecolor\": \"white\", \"minorgridcolor\": \"white\", \"startlinecolor\": \"#2a3f5f\"}, \"baxis\": {\"endlinecolor\": \"#2a3f5f\", \"gridcolor\": \"white\", \"linecolor\": \"white\", \"minorgridcolor\": \"white\", \"startlinecolor\": \"#2a3f5f\"}, \"type\": \"carpet\"}], \"choropleth\": [{\"colorbar\": {\"outlinewidth\": 0, \"ticks\": \"\"}, \"type\": \"choropleth\"}], \"contour\": [{\"colorbar\": {\"outlinewidth\": 0, \"ticks\": \"\"}, \"colorscale\": [[0.0, \"#0d0887\"], [0.1111111111111111, \"#46039f\"], [0.2222222222222222, \"#7201a8\"], [0.3333333333333333, \"#9c179e\"], [0.4444444444444444, \"#bd3786\"], [0.5555555555555556, \"#d8576b\"], [0.6666666666666666, \"#ed7953\"], [0.7777777777777778, \"#fb9f3a\"], [0.8888888888888888, \"#fdca26\"], [1.0, \"#f0f921\"]], \"type\": \"contour\"}], \"contourcarpet\": [{\"colorbar\": {\"outlinewidth\": 0, \"ticks\": \"\"}, \"type\": \"contourcarpet\"}], \"heatmap\": [{\"colorbar\": {\"outlinewidth\": 0, \"ticks\": \"\"}, \"colorscale\": [[0.0, \"#0d0887\"], [0.1111111111111111, \"#46039f\"], [0.2222222222222222, \"#7201a8\"], [0.3333333333333333, \"#9c179e\"], [0.4444444444444444, \"#bd3786\"], [0.5555555555555556, \"#d8576b\"], [0.6666666666666666, \"#ed7953\"], [0.7777777777777778, \"#fb9f3a\"], [0.8888888888888888, \"#fdca26\"], [1.0, \"#f0f921\"]], \"type\": \"heatmap\"}], \"heatmapgl\": [{\"colorbar\": {\"outlinewidth\": 0, \"ticks\": \"\"}, \"colorscale\": [[0.0, \"#0d0887\"], [0.1111111111111111, \"#46039f\"], [0.2222222222222222, \"#7201a8\"], [0.3333333333333333, \"#9c179e\"], [0.4444444444444444, \"#bd3786\"], [0.5555555555555556, \"#d8576b\"], [0.6666666666666666, \"#ed7953\"], [0.7777777777777778, \"#fb9f3a\"], [0.8888888888888888, \"#fdca26\"], [1.0, \"#f0f921\"]], \"type\": \"heatmapgl\"}], \"histogram\": [{\"marker\": {\"colorbar\": {\"outlinewidth\": 0, \"ticks\": \"\"}}, \"type\": \"histogram\"}], \"histogram2d\": [{\"colorbar\": {\"outlinewidth\": 0, \"ticks\": \"\"}, \"colorscale\": [[0.0, \"#0d0887\"], [0.1111111111111111, \"#46039f\"], [0.2222222222222222, \"#7201a8\"], [0.3333333333333333, \"#9c179e\"], [0.4444444444444444, \"#bd3786\"], [0.5555555555555556, \"#d8576b\"], [0.6666666666666666, \"#ed7953\"], [0.7777777777777778, \"#fb9f3a\"], [0.8888888888888888, \"#fdca26\"], [1.0, \"#f0f921\"]], \"type\": \"histogram2d\"}], \"histogram2dcontour\": [{\"colorbar\": {\"outlinewidth\": 0, \"ticks\": \"\"}, \"colorscale\": [[0.0, \"#0d0887\"], [0.1111111111111111, \"#46039f\"], [0.2222222222222222, \"#7201a8\"], [0.3333333333333333, \"#9c179e\"], [0.4444444444444444, \"#bd3786\"], [0.5555555555555556, \"#d8576b\"], [0.6666666666666666, \"#ed7953\"], [0.7777777777777778, \"#fb9f3a\"], [0.8888888888888888, \"#fdca26\"], [1.0, \"#f0f921\"]], \"type\": \"histogram2dcontour\"}], \"mesh3d\": [{\"colorbar\": {\"outlinewidth\": 0, \"ticks\": \"\"}, \"type\": \"mesh3d\"}], \"parcoords\": [{\"line\": {\"colorbar\": {\"outlinewidth\": 0, \"ticks\": \"\"}}, \"type\": \"parcoords\"}], \"pie\": [{\"automargin\": true, \"type\": \"pie\"}], \"scatter\": [{\"marker\": {\"colorbar\": {\"outlinewidth\": 0, \"ticks\": \"\"}}, \"type\": \"scatter\"}], \"scatter3d\": [{\"line\": {\"colorbar\": {\"outlinewidth\": 0, \"ticks\": \"\"}}, \"marker\": {\"colorbar\": {\"outlinewidth\": 0, \"ticks\": \"\"}}, \"type\": \"scatter3d\"}], \"scattercarpet\": [{\"marker\": {\"colorbar\": {\"outlinewidth\": 0, \"ticks\": \"\"}}, \"type\": \"scattercarpet\"}], \"scattergeo\": [{\"marker\": {\"colorbar\": {\"outlinewidth\": 0, \"ticks\": \"\"}}, \"type\": \"scattergeo\"}], \"scattergl\": [{\"marker\": {\"colorbar\": {\"outlinewidth\": 0, \"ticks\": \"\"}}, \"type\": \"scattergl\"}], \"scattermapbox\": [{\"marker\": {\"colorbar\": {\"outlinewidth\": 0, \"ticks\": \"\"}}, \"type\": \"scattermapbox\"}], \"scatterpolar\": [{\"marker\": {\"colorbar\": {\"outlinewidth\": 0, \"ticks\": \"\"}}, \"type\": \"scatterpolar\"}], \"scatterpolargl\": [{\"marker\": {\"colorbar\": {\"outlinewidth\": 0, \"ticks\": \"\"}}, \"type\": \"scatterpolargl\"}], \"scatterternary\": [{\"marker\": {\"colorbar\": {\"outlinewidth\": 0, \"ticks\": \"\"}}, \"type\": \"scatterternary\"}], \"surface\": [{\"colorbar\": {\"outlinewidth\": 0, \"ticks\": \"\"}, \"colorscale\": [[0.0, \"#0d0887\"], [0.1111111111111111, \"#46039f\"], [0.2222222222222222, \"#7201a8\"], [0.3333333333333333, \"#9c179e\"], [0.4444444444444444, \"#bd3786\"], [0.5555555555555556, \"#d8576b\"], [0.6666666666666666, \"#ed7953\"], [0.7777777777777778, \"#fb9f3a\"], [0.8888888888888888, \"#fdca26\"], [1.0, \"#f0f921\"]], \"type\": \"surface\"}], \"table\": [{\"cells\": {\"fill\": {\"color\": \"#EBF0F8\"}, \"line\": {\"color\": \"white\"}}, \"header\": {\"fill\": {\"color\": \"#C8D4E3\"}, \"line\": {\"color\": \"white\"}}, \"type\": \"table\"}]}, \"layout\": {\"annotationdefaults\": {\"arrowcolor\": \"#2a3f5f\", \"arrowhead\": 0, \"arrowwidth\": 1}, \"autotypenumbers\": \"strict\", \"coloraxis\": {\"colorbar\": {\"outlinewidth\": 0, \"ticks\": \"\"}}, \"colorscale\": {\"diverging\": [[0, \"#8e0152\"], [0.1, \"#c51b7d\"], [0.2, \"#de77ae\"], [0.3, \"#f1b6da\"], [0.4, \"#fde0ef\"], [0.5, \"#f7f7f7\"], [0.6, \"#e6f5d0\"], [0.7, \"#b8e186\"], [0.8, \"#7fbc41\"], [0.9, \"#4d9221\"], [1, \"#276419\"]], \"sequential\": [[0.0, \"#0d0887\"], [0.1111111111111111, \"#46039f\"], [0.2222222222222222, \"#7201a8\"], [0.3333333333333333, \"#9c179e\"], [0.4444444444444444, \"#bd3786\"], [0.5555555555555556, \"#d8576b\"], [0.6666666666666666, \"#ed7953\"], [0.7777777777777778, \"#fb9f3a\"], [0.8888888888888888, \"#fdca26\"], [1.0, \"#f0f921\"]], \"sequentialminus\": [[0.0, \"#0d0887\"], [0.1111111111111111, \"#46039f\"], [0.2222222222222222, \"#7201a8\"], [0.3333333333333333, \"#9c179e\"], [0.4444444444444444, \"#bd3786\"], [0.5555555555555556, \"#d8576b\"], [0.6666666666666666, \"#ed7953\"], [0.7777777777777778, \"#fb9f3a\"], [0.8888888888888888, \"#fdca26\"], [1.0, \"#f0f921\"]]}, \"colorway\": [\"#636efa\", \"#EF553B\", \"#00cc96\", \"#ab63fa\", \"#FFA15A\", \"#19d3f3\", \"#FF6692\", \"#B6E880\", \"#FF97FF\", \"#FECB52\"], \"font\": {\"color\": \"#2a3f5f\"}, \"geo\": {\"bgcolor\": \"white\", \"lakecolor\": \"white\", \"landcolor\": \"#E5ECF6\", \"showlakes\": true, \"showland\": true, \"subunitcolor\": \"white\"}, \"hoverlabel\": {\"align\": \"left\"}, \"hovermode\": \"closest\", \"mapbox\": {\"style\": \"light\"}, \"paper_bgcolor\": \"white\", \"plot_bgcolor\": \"#E5ECF6\", \"polar\": {\"angularaxis\": {\"gridcolor\": \"white\", \"linecolor\": \"white\", \"ticks\": \"\"}, \"bgcolor\": \"#E5ECF6\", \"radialaxis\": {\"gridcolor\": \"white\", \"linecolor\": \"white\", \"ticks\": \"\"}}, \"scene\": {\"xaxis\": {\"backgroundcolor\": \"#E5ECF6\", \"gridcolor\": \"white\", \"gridwidth\": 2, \"linecolor\": \"white\", \"showbackground\": true, \"ticks\": \"\", \"zerolinecolor\": \"white\"}, \"yaxis\": {\"backgroundcolor\": \"#E5ECF6\", \"gridcolor\": \"white\", \"gridwidth\": 2, \"linecolor\": \"white\", \"showbackground\": true, \"ticks\": \"\", \"zerolinecolor\": \"white\"}, \"zaxis\": {\"backgroundcolor\": \"#E5ECF6\", \"gridcolor\": \"white\", \"gridwidth\": 2, \"linecolor\": \"white\", \"showbackground\": true, \"ticks\": \"\", \"zerolinecolor\": \"white\"}}, \"shapedefaults\": {\"line\": {\"color\": \"#2a3f5f\"}}, \"ternary\": {\"aaxis\": {\"gridcolor\": \"white\", \"linecolor\": \"white\", \"ticks\": \"\"}, \"baxis\": {\"gridcolor\": \"white\", \"linecolor\": \"white\", \"ticks\": \"\"}, \"bgcolor\": \"#E5ECF6\", \"caxis\": {\"gridcolor\": \"white\", \"linecolor\": \"white\", \"ticks\": \"\"}}, \"title\": {\"x\": 0.05}, \"xaxis\": {\"automargin\": true, \"gridcolor\": \"white\", \"linecolor\": \"white\", \"ticks\": \"\", \"title\": {\"standoff\": 15}, \"zerolinecolor\": \"white\", \"zerolinewidth\": 2}, \"yaxis\": {\"automargin\": true, \"gridcolor\": \"white\", \"linecolor\": \"white\", \"ticks\": \"\", \"title\": {\"standoff\": 15}, \"zerolinecolor\": \"white\", \"zerolinewidth\": 2}}}, \"xaxis\": {\"anchor\": \"y\", \"domain\": [0.0, 1.0], \"title\": {\"text\": \"Mass Shift\"}}, \"yaxis\": {\"anchor\": \"x\", \"domain\": [0.0, 1.0], \"title\": {\"text\": \"Hit Count\"}}},                        {\"responsive\": true}                    ).then(function(){\n",
       "                            \n",
       "var gd = document.getElementById('4dc2a7f1-46ad-4d86-9e50-1c2a29bbe817');\n",
       "var x = new MutationObserver(function (mutations, observer) {{\n",
       "        var display = window.getComputedStyle(gd).display;\n",
       "        if (!display || display === 'none') {{\n",
       "            console.log([gd, 'removed!']);\n",
       "            Plotly.purge(gd);\n",
       "            observer.disconnect();\n",
       "        }}\n",
       "}});\n",
       "\n",
       "// Listen for the removal of the full notebook cells\n",
       "var notebookContainer = gd.closest('#notebook-container');\n",
       "if (notebookContainer) {{\n",
       "    x.observe(notebookContainer, {childList: true});\n",
       "}}\n",
       "\n",
       "// Listen for the clearing of the current output cell\n",
       "var outputEl = gd.closest('.output');\n",
       "if (outputEl) {{\n",
       "    x.observe(outputEl, {childList: true});\n",
       "}}\n",
       "\n",
       "                        })                };                });            </script>        </div>"
      ]
     },
     "metadata": {},
     "output_type": "display_data"
    }
   ],
   "source": [
    "fig = px.scatter(df_shift_hits, x='shift', y='hit', labels={'shift': 'Mass Shift', 'hit': 'Hit Count'})\n",
    "fig.show()"
   ]
  },
  {
   "cell_type": "code",
   "execution_count": 112,
   "id": "inside-xerox",
   "metadata": {},
   "outputs": [
    {
     "data": {
      "text/html": [
       "<div>\n",
       "<style scoped>\n",
       "    .dataframe tbody tr th:only-of-type {\n",
       "        vertical-align: middle;\n",
       "    }\n",
       "\n",
       "    .dataframe tbody tr th {\n",
       "        vertical-align: top;\n",
       "    }\n",
       "\n",
       "    .dataframe thead th {\n",
       "        text-align: right;\n",
       "    }\n",
       "</style>\n",
       "<table border=\"1\" class=\"dataframe\">\n",
       "  <thead>\n",
       "    <tr style=\"text-align: right;\">\n",
       "      <th></th>\n",
       "      <th>shift</th>\n",
       "      <th>hit</th>\n",
       "    </tr>\n",
       "  </thead>\n",
       "  <tbody>\n",
       "    <tr>\n",
       "      <th>0</th>\n",
       "      <td>0</td>\n",
       "      <td>738</td>\n",
       "    </tr>\n",
       "    <tr>\n",
       "      <th>1</th>\n",
       "      <td>-1</td>\n",
       "      <td>424</td>\n",
       "    </tr>\n",
       "    <tr>\n",
       "      <th>2</th>\n",
       "      <td>1</td>\n",
       "      <td>408</td>\n",
       "    </tr>\n",
       "    <tr>\n",
       "      <th>3</th>\n",
       "      <td>-15</td>\n",
       "      <td>389</td>\n",
       "    </tr>\n",
       "    <tr>\n",
       "      <th>4</th>\n",
       "      <td>15</td>\n",
       "      <td>378</td>\n",
       "    </tr>\n",
       "    <tr>\n",
       "      <th>5</th>\n",
       "      <td>-16</td>\n",
       "      <td>377</td>\n",
       "    </tr>\n",
       "    <tr>\n",
       "      <th>6</th>\n",
       "      <td>-31</td>\n",
       "      <td>363</td>\n",
       "    </tr>\n",
       "    <tr>\n",
       "      <th>7</th>\n",
       "      <td>14</td>\n",
       "      <td>357</td>\n",
       "    </tr>\n",
       "    <tr>\n",
       "      <th>8</th>\n",
       "      <td>-14</td>\n",
       "      <td>356</td>\n",
       "    </tr>\n",
       "    <tr>\n",
       "      <th>9</th>\n",
       "      <td>-40</td>\n",
       "      <td>355</td>\n",
       "    </tr>\n",
       "  </tbody>\n",
       "</table>\n",
       "</div>"
      ],
      "text/plain": [
       "   shift  hit\n",
       "0      0  738\n",
       "1     -1  424\n",
       "2      1  408\n",
       "3    -15  389\n",
       "4     15  378\n",
       "5    -16  377\n",
       "6    -31  363\n",
       "7     14  357\n",
       "8    -14  356\n",
       "9    -40  355"
      ]
     },
     "execution_count": 112,
     "metadata": {},
     "output_type": "execute_result"
    }
   ],
   "source": [
    "df_shift_hits.sort_values('hit', ascending=False).reset_index(drop=True).iloc[:10].copy()"
   ]
  },
  {
   "cell_type": "code",
   "execution_count": 89,
   "id": "formed-pregnancy",
   "metadata": {},
   "outputs": [],
   "source": [
    "# df_sh_mock2rsv = df_shift_hits.copy()\n",
    "df_sh_intact_mock2rsv = df_shift_hits.copy()"
   ]
  },
  {
   "cell_type": "code",
   "execution_count": 68,
   "id": "cosmetic-carrier",
   "metadata": {},
   "outputs": [],
   "source": [
    "shift = -1\n",
    "\n",
    "# dfm_r = match_dfs(df_mock, dfm_only_rsv, shift=shift)\n",
    "# dfm_l = match_dfs(dfm_only_rsv, df_mock, shift=-1*shift)\n",
    "\n",
    "dfm_mock = match_dfs(df_intact_mock, df_only_intact_rsv, shift=shift)\n",
    "dfm_rsv = match_dfs(df_rsv, df_rsv, shift=shift)\n",
    "\n",
    "# dfm.shape, dfm_mock.shape, dfm_rsv.shape"
   ]
  },
  {
   "cell_type": "code",
   "execution_count": 113,
   "id": "spatial-block",
   "metadata": {},
   "outputs": [],
   "source": [
    "shifts = [-16, -15, -1, 1, 15]\n",
    "dfm_list = list()\n",
    "for shift in shifts:\n",
    "    dfm_r = match_dfs(df_mock, df_rsv, shift=shift)\n",
    "    dfm_list.append(dfm_r)\n",
    "# dfm_list.append(df_mock)\n",
    "dfm_shifts = pd.concat(dfm_list).drop_duplicates()"
   ]
  },
  {
   "cell_type": "code",
   "execution_count": 115,
   "id": "desirable-plastic",
   "metadata": {},
   "outputs": [
    {
     "data": {
      "application/vnd.plotly.v1+json": {
       "config": {
        "plotlyServerURL": "https://plot.ly"
       },
       "data": [
        {
         "hovertemplate": "Mass=%{x}<br>RT=%{y}<extra></extra>",
         "legendgroup": "",
         "marker": {
          "color": "#636efa",
          "symbol": "circle"
         },
         "mode": "markers",
         "name": "",
         "showlegend": false,
         "type": "scattergl",
         "x": [
          24287.2047048451,
          8793.07999098085,
          9138.13899089121,
          24359.198160926,
          24360.2138373334,
          24344.2005183712,
          24328.234802865,
          24373.1774643913,
          11661.4594576236,
          11050.3840145755,
          9034.30510392847,
          8051.14654942316,
          6825.89371331604,
          24336.2126755328,
          1525.76711660565,
          24173.2199149722,
          6176.86148054252,
          7171.9590666121,
          8023.13506608572,
          8164.02396951405,
          6520.8747460033,
          6519.8708297348,
          7436.97526568512,
          14549.8282117613,
          13461.8917791896,
          6740.90350162907,
          13899.790263071,
          7437.9998521254,
          14072.9558762491,
          7857.99561868986,
          7491.99145186823,
          6818.91574093328,
          7091.94246793794,
          7130.93997636146,
          2624.19899647039,
          8136.10312331073,
          5847.81071324217,
          7783.05539681611,
          17514.279347719,
          7186.93293316265,
          11643.4462888636,
          5785.76843465089,
          13156.8493640784,
          7198.91166328975,
          10956.5076724206,
          17818.3138651953,
          7446.00755167606,
          6482.88516373636,
          7470.01378404981,
          7751.03740285292,
          8127.07994883004,
          8441.13892519032,
          13578.8979905578,
          8351.10887127824,
          6098.81817015651,
          14189.955333406,
          13884.9117639268,
          6434.87363795891,
          9058.16821817613,
          5807.79376295938,
          6089.8187201142,
          6490.88826039058,
          17803.3921871748,
          6192.86540272119,
          6129.83209941623,
          8722.1610611887,
          6575.88112373069,
          24313.2280271571,
          6137.83596113579,
          6833.92712953483,
          8017.07286508778,
          7101.95285907094,
          6122.83663733689,
          6552.89575487369,
          7741.9935180103,
          6473.88596007088,
          9040.2096869971,
          7792.07476662347,
          7119.94159076752,
          8072.06939077509,
          12216.7067074043,
          7111.90473423133,
          7083.95888366289,
          7155.98356396337,
          6428.87244532394,
          13641.7530603003,
          6209.8385560984,
          5563.74230337449,
          7877.99154023057,
          9700.29742931374,
          6785.88790286449,
          7462.01250497896,
          7822.04978054386,
          7456.94107172657,
          7720.04714645365,
          7117.95792945898,
          8472.04318611581,
          8998.20644243331,
          6451.85398425752,
          7365.99129233548,
          6199.85293516568,
          8081.09067219503,
          5838.78669969402,
          8083.08876033469,
          5753.77828608472,
          9062.2093824066,
          8098.08659671316,
          6795.92084568163,
          8973.19688522724,
          7533.95527153501,
          6489.88059181867,
          6858.92900064603,
          9348.26157913407,
          6873.93706199948,
          16358.2763620442,
          6159.83803324581,
          6488.87909428924,
          7406.99301803835,
          7753.05003056734,
          5862.78877637988,
          10672.4161504982,
          8738.1677995636,
          9741.2978089111,
          8048.07774369499,
          6512.77460484322,
          6231.8544913364,
          7798.0345511898,
          5558.76026729088,
          8824.17857915757,
          7020.9476480862,
          18164.4165497497,
          6247.84461966696,
          6756.91834585052,
          5448.72595778412,
          8057.08124879234,
          8401.13821692255,
          12611.6864489784,
          9444.26465549188,
          13579.8257903043,
          6536.89615057976,
          6435.86605422358,
          9013.20703935979,
          7062.95561466814,
          7358.94626734955,
          8183.09583834669,
          8434.13189268351,
          8298.05900480367,
          6480.86599507218,
          9622.27334071354,
          6460.85076527434,
          7388.98552654872,
          5777.78575467938,
          9083.21992394907,
          8691.18111793556,
          6168.84628291823,
          5511.75679883336,
          7069.95637730222,
          7485.02464654671,
          9027.19809533159,
          6568.89591784825,
          7092.96358254765,
          7712.02142488214,
          7341.95910836275,
          6208.84881225746,
          7507.02214708648,
          9052.20304109193,
          6468.87186655636,
          5835.79260097684,
          7454.99972519349,
          13374.8186914885,
          7676.040961292,
          6832.91269753718,
          7831.06490301539,
          7778.04909484337,
          6183.84522111597,
          5192.58826742291,
          12076.515441067,
          6181.84069403786,
          9436.29255123488,
          10243.3971360771,
          9303.20349155062,
          9406.27426944548,
          15213.9914546721,
          8309.1105733607,
          9779.26603982381,
          8787.16201597673,
          9098.22675602763,
          13044.7395590287,
          9696.22725768018,
          7838.06860039771,
          6424.85630418505,
          13914.7927981422,
          6683.83452164612,
          5886.81677482996,
          5478.7425161097,
          12237.6340827476,
          7390.00129292551,
          7499.99979224279,
          11669.5709943449,
          6751.89387485223,
          7516.00098242615,
          13264.6888257905,
          7501.02739502858,
          12356.6776654608,
          9459.26654752971,
          9942.31711814026,
          8957.22933783759,
          9809.28373801449,
          7351.96306024011,
          13748.8455719375,
          5759.78243759339,
          5918.80036677451,
          9677.28838536388,
          5821.7930851606,
          9454.27856590678,
          10259.3635944651,
          9106.24525701394,
          10698.4230663188,
          10617.4106182759,
          11245.4873656075,
          8176.05949224319,
          7696.0248669283,
          6119.81102291226,
          8463.13015695356,
          6676.87467596935,
          10313.3818930692,
          10992.4496313981,
          15852.0781774866,
          8637.11511992279,
          11875.4871432057,
          11948.6206009036,
          12958.6773436987,
          14218.8216037942,
          8109.08950933448,
          6442.8765264,
          7540.99275662867,
          5727.82650977298,
          7666.01259822543,
          7879.0615265886,
          11370.5306359853,
          6369.8670978315,
          8519.14919168137,
          8951.15068709302,
          8002.05717830735,
          10978.4610869693,
          9334.2480870793,
          13647.8089581603,
          7681.03461798437,
          9795.25595362046,
          14534.0133977425,
          13275.7727540293,
          6913.95130229339,
          10657.4238248173,
          13239.734296448,
          10082.3403488195,
          12310.6606513732,
          12700.6541394123,
          8377.10749109262,
          7969.09956593734,
          9588.31187725392,
          6074.79026176786,
          13528.7936906975,
          5564.73518829618,
          16686.3227902536,
          13867.8917899671,
          7860.98549665418,
          9694.32479744731,
          7483.00827373272,
          14538.9274214417,
          9238.26923279345,
          5518.73728934005,
          8451.1445294821,
          6225.83974127512,
          5464.73295860905,
          9374.24879634738,
          17497.3000919615,
          9645.2753265125,
          9316.27956096324,
          14879.9604189848,
          8330.11158587435,
          6222.83887305062,
          8142.10129441532,
          8482.13528645865,
          7853.05558081794,
          6634.91219876664,
          7203.95732445188,
          9361.27702089724,
          6271.86350035449,
          7670.00350001886,
          5495.74150397021,
          6650.88367200125,
          6942.92418874302,
          13636.8176836458,
          8778.08959656809,
          11916.6046396123,
          8933.20865733203,
          6380.83831501198,
          13562.8529347506,
          10733.3338781005,
          7352.96493459434,
          7037.9540104314,
          10682.4027291328,
          9430.26471639064,
          9678.29126681251,
          12034.5864329539,
          7735.01420726851,
          9276.23660515268,
          6763.92193066296,
          12288.6730107852,
          6780.92211755603,
          7787.06521421855,
          9695.3144982075,
          11328.5256136623,
          5815.7684830192,
          14305.9020349465,
          5390.91163251486,
          5477.74806298353,
          12891.7418284242,
          5415.70641271328,
          13511.7836274048,
          12970.7289657224,
          8979.20259892028,
          13638.784992086,
          5787.76019735277,
          6817.90653856922,
          7842.07340168653,
          11908.6221945365,
          7075.9341978005,
          6114.77583596605,
          12975.7088856388,
          6752.89570838785,
          17998.5007564676,
          7413.00672138373,
          10017.3526582804,
          13611.7646498711,
          7736.0206601057,
          15138.0041749236,
          5416.71134759088,
          5510.76076538969,
          14173.9046569949,
          9952.31830866142,
          13809.9215378154,
          12627.6673749566,
          10882.4474127513,
          6600.91712880688,
          15796.0919021015,
          5596.75533934405,
          7515.00987928378,
          9398.23334690604,
          11932.5965534564,
          13027.7366574008,
          9305.24287523699,
          6736.89352773314,
          8506.14506753737,
          5496.72217671465,
          5782.76806115312,
          11741.5812999193,
          12967.718649929,
          7326.98568893393,
          12964.7582493289,
          13515.8180594816,
          6036.77944078303,
          9608.28894852312,
          13868.9198114118,
          8818.1926642845,
          10217.3533937339,
          6112.79142984781,
          5854.79235220824,
          6521.8902114996,
          6802.88438161563,
          5541.77921924796,
          12467.6691429044,
          13808.8560673556,
          5696.73624540256,
          8707.17115658607,
          15179.0178979008,
          12355.771736354,
          24231.226603282,
          24245.2381479082,
          24568.4098009108,
          24288.2154392126,
          24174.2084419614,
          11356.4173004901,
          8396.21479567258,
          12295.5595211395,
          24259.207816451,
          9006.26192708839,
          7528.91814585371,
          11990.5338356792,
          24375.190586088,
          7131.9542512312,
          6175.8125549756,
          7423.00334395005,
          7768.04246541816,
          5871.8157115619,
          6505.89151377853,
          9311.3182907141,
          6481.8734768348,
          11746.421399872,
          16024.216717957,
          16183.1152857273,
          9333.24761001577,
          6443.87023281519,
          7012.89365773063,
          7729.01520167109,
          9636.26144067915,
          7044.95262495492,
          5830.78613597192,
          6803.92042512377,
          6881.90942459148,
          5542.76423101809,
          8137.12894370095,
          6748.91797927556,
          7147.96940001972,
          8073.07987463588,
          6497.8775516211,
          13781.9200878341,
          6396.84872714965,
          6419.85932743342,
          8143.09192397073,
          7139.96548116292,
          8667.15268892434,
          7447.00328306731,
          7486.0165368766,
          6090.81175810847,
          8047.05676786524,
          6151.8117237782,
          8128.09529094569,
          8378.10375616759,
          15838.0653775841,
          7743.0294304011,
          6200.86452558941,
          12599.6008092136,
          11275.5956263338,
          6715.89643370791,
          7808.05646399988,
          6843.92759876764,
          8744.15973262044,
          15822.0695132564,
          8011.0768903761,
          8700.25587427007,
          11606.6207307231,
          8033.06415227431,
          7463.02209382388,
          5768.77752371639,
          16687.3500479374,
          9028.20028178572,
          8362.09626628173,
          7779.04493556227,
          5856.8094906891,
          10664.4511449332,
          16672.3275445459,
          6569.90428209352,
          6859.90383910841,
          8528.13769211079,
          24272.1748622808,
          6040.80667192446,
          5760.77445073142,
          7218.9811051388,
          8457.14217935055,
          9662.29218550598,
          6099.81212716238,
          10650.4568770084,
          9099.21547626401,
          6182.84692268718,
          6138.83856195605,
          9748.28836620701,
          6217.74670553219,
          5463.7343127521,
          6739.89496886234,
          8393.11818386089,
          7053.94337513367,
          5793.78017576403,
          6891.92924675087,
          5848.79518820432,
          16775.3021231436,
          6075.79772400219,
          10734.4072871727,
          5735.75976505446,
          16343.2469942026,
          5440.71807981313,
          8097.08771922891,
          8449.13259443964,
          12229.7280358697,
          10673.3638308275,
          12701.6881821187,
          7068.96200180123,
          8089.1029303552,
          6224.85442341818,
          6457.86593870147,
          5503.74788866502,
          8043.07217780232,
          8167.0171684977,
          8198.08801059381,
          9362.2428933947,
          9090.22918680423,
          9388.23233407498,
          7354.98206413024,
          19977.7737496172,
          10594.3996545385,
          7414.0192941627,
          11652.522291801,
          13249.6819682001,
          5943.81983073373,
          5904.79549978955,
          9726.31249937019,
          9531.29708160916,
          7873.99954761332,
          7227.99871130162,
          12558.7714322471,
          6079.82217409939,
          7991.0482127982,
          6475.87131560267,
          6065.81930490743,
          9445.26921267897,
          10618.4102200724,
          6404.84688134745,
          8435.14752318867,
          9076.23305257543,
          13021.7064669855,
          9719.29556113179,
          6370.84659187431,
          6025.80023443311,
          6467.88772840673,
          5887.81146128,
          5487.73821293825,
          9582.24701078929,
          20270.7854135833,
          10077.3439646295,
          5527.75367721681,
          10101.3665608018,
          9957.31930891361,
          6834.92164159701,
          6205.74069768915,
          7376.98713710511,
          7839.04926116922,
          9061.23008120372,
          7709.00529214524,
          8402.12885187214,
          5720.76018355024,
          6777.90686555383,
          7430.99869925,
          5836.75939514475,
          9609.25799263025,
          16315.1804247943,
          8373.1085271322,
          13155.8600266066,
          13307.7707862295,
          6733.90992217533,
          8317.08678829096,
          9601.309475145,
          8638.13199752356,
          8765.184440103,
          13577.8788929133,
          6906.9554193842,
          10988.4372952104,
          11876.5598025849,
          13323.7142508568,
          5851.78937832159,
          8920.22990445289,
          6477.86665949155,
          11300.5008993291,
          7731.0390217046,
          11924.6516804756,
          8019.06071620607,
          8732.16349621184,
          10071.3370982797,
          9681.31378809322,
          13564.824622088,
          8601.1821902595,
          10062.3550529876,
          13540.7393878193,
          12604.6556171386,
          8659.13885258142,
          5599.77181505752,
          8467.16964780179,
          8407.12645690742,
          6409.83701246951,
          11246.4939958466,
          10126.3265529624,
          6585.89329422514,
          9914.33410946923,
          14649.9050047009,
          9415.23380181466,
          8986.18397370694,
          13850.8295004721,
          9317.24770353764,
          13517.8255187859,
          7441.00305288386,
          7655.99132511082,
          9321.24630536493,
          9239.24889758806,
          8755.17548716034,
          20282.7990019373,
          11230.5064081413,
          7714.02732662369,
          5800.78737779384,
          5860.79762417434,
          15776.1149169141,
          6381.83481916633,
          13183.8357463236,
          10683.4364422807,
          9706.28785648373,
          15170.017614421,
          14475.973228528,
          8287.14960732889,
          7996.05267197161,
          7832.06810018311,
          7005.94573297482,
          5770.76035995976,
          7196.93192606948,
          12685.6765880221,
          10641.4324197817,
          5897.75340442458,
          17990.4466747123,
          16658.3035102897,
          10403.4178002723,
          8783.20260816765,
          9773.2623224309,
          11997.5875122033,
          8708.17444038597,
          15505.084512747,
          10038.4235050229,
          5935.85546033871,
          9413.25680108755,
          12933.7066734179,
          6147.82688750794,
          8857.19815936858,
          7846.05714337728,
          15135.0431491216,
          8494.17694431496,
          10361.3511773599,
          14158.8782104353,
          9301.27233245853,
          14012.8775808573,
          11628.5421349576,
          16098.1687342994,
          8803.17259736155,
          7919.07003956856,
          12273.6471228646,
          8650.14027902585,
          5880.80285581379,
          6699.89720003796,
          11133.492471479,
          5958.81430061127,
          5705.73039904266,
          5869.7609863849,
          5473.73077086302,
          7978.03035010118,
          6692.86651131407,
          1531.78427961126,
          7546.93736268254,
          6527.78429733045,
          6856.83891971944,
          7201.88743610023,
          6401.92400600633,
          8488.03978677122,
          7875.98446012443,
          24582.401950785,
          24554.3719993925,
          6219.74527416599,
          8368.16316926576,
          1735.94354153114,
          24417.1567153188,
          8587.1616647138,
          1650.90937349556,
          9020.29859633614,
          1687.95920930053,
          24294.2041205204,
          6673.94468453928,
          6540.80073642639,
          10420.3314014958,
          9637.28230419508,
          9770.21619877279,
          11289.6354468883,
          15519.0482921702,
          7791.04296992975,
          14187.8302584887,
          6824.89727683457,
          9291.22466921829,
          11032.3839480024,
          7183.89541195632,
          9121.14440388961,
          12278.5811575058,
          9292.22084192957,
          6410.86604345415,
          7830.04412044917,
          8471.05955665118,
          13883.8351277901,
          9435.26131042274,
          13795.9452001771,
          6213.83593031757,
          10305.417933546,
          8776.07639102126,
          16038.2304293061,
          6857.88114676701,
          6673.94632873955,
          8039.06808071481,
          7404.99371644446,
          6191.85821555521,
          12582.5917090973,
          14359.9087969254,
          13171.8638530076,
          14894.9092660565,
          10756.3547234913,
          8834.19970108308,
          8805.12379036974,
          7126.9457262617,
          8121.09573008673,
          8385.13271838753,
          9466.19014644051,
          7699.00715678589,
          6743.88510049674,
          6127.82834064928,
          8724.17593279526,
          8087.08474725199,
          8391.13680422687,
          17692.4359586519,
          6514.87609521494,
          6459.86874977985,
          13335.6583077215,
          7049.93206505312,
          10327.3661130438,
          8103.09120402321,
          6812.92829781357,
          8005.0546376736,
          8797.16058913927,
          15195.998352441,
          8989.18216280499,
          7373.98890759117,
          6143.83749878502,
          7773.04068134301,
          6093.80279204015,
          8758.17079972256,
          9676.29626759545,
          19991.7855507058,
          14563.8902679122,
          6134.80851798329,
          6869.86786531412,
          11673.5234488991,
          8462.13133310407,
          8785.18708249902,
          8961.166910881,
          15924.1137862984,
          6761.8982098511,
          11972.5440737087,
          15184.0259012445,
          5844.77021208372,
          6439.83922436058,
          7431.99714565637,
          12906.7430453093,
          6399.8423377632,
          8091.01336542611,
          9687.30489660718,
          13568.7763786318,
          11293.5015650563,
          15502.0588982679,
          10632.4020873244,
          9033.31509347929,
          7148.97020123359,
          6189.80690386758,
          8151.11758629769,
          12268.645893316,
          6433.87116811327,
          7524.00463966224,
          5877.8094761481,
          8737.1640324439,
          16694.2472793847,
          9051.19760266417,
          10428.351541404,
          16154.2094076244,
          15413.1121509056,
          10938.4443534545,
          5878.79676267959,
          6082.82397306906,
          8497.14405257061,
          6713.8806071502,
          10375.3836523649,
          13251.6891771526,
          20019.7009525292,
          7178.94670577348,
          13873.8989679764,
          15294.9964357357,
          19407.6095679437,
          10274.3637672168,
          7106.95674301774,
          8191.10756267983,
          9318.24325940372,
          7711.04492225922,
          10681.381953694,
          8987.17888995327,
          7153.95469926158,
          8430.13739423269,
          13290.7583592689,
          11761.4806106278,
          14054.8748682849,
          11020.4639314399,
          20008.7417674535,
          9915.31612879983,
          11678.4614666866,
          8647.15640313161,
          7058.94129202056,
          7893.07774835584,
          7409.99561233099,
          16960.2401759867,
          10026.3306958972,
          12145.642783536,
          10766.4084761746,
          16543.175614347,
          8318.06400477107,
          10351.371181587,
          15859.0827319643,
          7602.84927602274,
          10343.3673130874,
          11784.5686391252,
          15717.1566248797,
          12284.6094081319,
          14854.0062520556,
          14130.8994638167,
          7307.98944891595,
          8626.13577020317,
          10622.4214953512,
          13226.7739910741,
          13069.7476039912,
          10548.4183878335,
          17792.3742557851,
          17015.2972055326,
          5940.79327726434,
          9447.25640026794,
          15356.0266063338,
          11489.5434516231,
          16278.1335358656,
          11821.5782254926,
          12050.5763547406,
          10826.4255372604,
          14215.8642281024,
          9543.26667600164,
          9082.23404749921,
          16647.2206496457,
          6993.93761063253,
          8932.22648975288,
          13369.7757371894,
          6542.8780895431,
          12887.7643304301,
          15807.1071433923,
          13543.8328018375,
          13864.8728708417,
          7642.97272814577,
          12830.7207058664,
          6321.89331480171,
          6314.81134551711,
          8281.10488524833,
          24303.2277824442,
          8715.27107835852,
          9403.21533091515,
          6528.79976143888,
          12600.631224733,
          7692.09797069127,
          10665.407131262,
          24390.2017072653,
          19963.7341881007,
          8489.05530093098,
          10651.4953832024,
          11261.574463074,
          11338.4043478364,
          6838.84357315582,
          9670.34344133169,
          1556.94355423215,
          12559.8162804085,
          17496.2573572931,
          8059.0695885959,
          6023.85327552968,
          12545.7690187161,
          9371.20811255396,
          6787.92894888614,
          6515.87614563196,
          10306.4296714909,
          7382.9845081065,
          14100.987526346,
          17004.3465574939,
          9969.33331800851,
          9423.2668470289,
          7560.95366326005,
          11607.5733730166,
          9056.22493484399,
          8683.1510350711,
          8747.17298997502,
          9273.26014539108,
          10450.3381779025,
          18308.5357021636,
          8656.15406454868,
          9370.25290172902,
          20603.8303578671,
          12686.5631617741,
          7423.99137206492,
          7429.0103531521,
          17596.2717731619,
          24642.3426444744,
          17706.5341722642,
          10007.3318276042,
          7487.00688538059,
          7505.02699010669,
          19291.6396189747,
          9211.25410327945,
          10148.3018228813,
          18015.5277932188,
          12372.6520964215,
          8628.17018270575,
          9544.26488429786,
          8074.07801614911,
          9727.31786906046,
          9397.28388424775,
          24555.372150017,
          2610.1854,
          9359.24411587516,
          8186.02471634201,
          8380.10187553925,
          12267.6265297126,
          6529.8738247059,
          6866.94386476095,
          7688.01549264211,
          15718.2181007328,
          5582.67242105416,
          8158.08059445931,
          17794.3582356687,
          7809.0795704124,
          10054.3213862099,
          8682.14092294834,
          9225.26885350503,
          14417.9763447065,
          8766.16144650641,
          12230.7194291503,
          9717.27072102776,
          9340.27434464,
          5340.64858297041,
          8369.12351533836,
          10959.3818874414,
          10047.3190715967,
          8714.17556090001,
          7078.94399644277,
          13220.7598673529,
          12381.5469789119,
          8711.19030000847,
          13936.8511574179,
          7193.96777967074,
          7775.05025398092,
          14446.0332949161,
          10709.4221766741,
          10427.3619485335,
          20895.8636224729,
          7687.02110600086,
          11918.6598604403,
          18145.3931585222,
          8054.05962486511,
          15818.0439071066,
          4572.52645946323,
          16276.1514168938,
          16695.2218993653,
          10721.4620776058,
          9322.24384268316,
          13173.8870100896,
          11022.4758286124,
          6538.8816678241,
          11386.5241792978,
          12185.6308518432,
          7763.02959792945,
          15223.9976718633,
          14967.9689892259,
          9886.27925284682,
          7263.00124501623,
          9353.39469172562,
          10854.467963578,
          18099.3850482687,
          7573.02497361604,
          6547.90864687187,
          12984.7430705066,
          8950.17063161174,
          1627.76220962093,
          5813.77255721288,
          13221.7603008511,
          7433.99248125007,
          5936.79906635047,
          6922.93430819316,
          8412.1525885004,
          9507.26492549538,
          5671.75179695154,
          13349.7587888525,
          17635.3696425097,
          6412.86167459997,
          13228.7640355731,
          10567.3910393939,
          7312.96351035634,
          10881.4773887058,
          12560.8171179526,
          8220.09920277183,
          7023.94392379989,
          24189.2222173483,
          5567.64987682409,
          24246.2429800125,
          24317.2188658619,
          4242.47852785913,
          7202.88683097324,
          12573.8277095719,
          8195.0347881454,
          12244.7810036034,
          6105.82852223845,
          8382.18073690634,
          12850.8009653178,
          11939.6746842157,
          9396.25656476361,
          16052.2469968987,
          8026.0740070034,
          7889.00699176153,
          16141.2325235319,
          6153.83494164741,
          13538.7523972779,
          8079.08221017508,
          7662.98347767972,
          14086.9526966401,
          7814.05166897705,
          9043.21316963846,
          10308.275050867,
          8101.0804759806,
          9093.22645109016,
          10359.3491120195,
          10391.3758462848,
          7545.94272400789,
          9417.26311165438,
          7523.01081840076,
          13170.8541860868,
          5775.75450440917,
          15619.0035552587,
          10021.3313580243,
          7397.99739290626,
          6620.89477322712,
          6794.90981178004,
          14432.0092591528,
          6754.92672079705,
          14611.9512162215,
          11308.498351127,
          17582.3278990437,
          19650.6758983291,
          11617.5702009576,
          18825.4586029676,
          8006.05763505588,
          6155.82239334322,
          8417.13500581744,
          20370.7243378946,
          9708.2650096862,
          12922.7294101185,
          8813.15740887815,
          14001.8716174545,
          7985.04107815188,
          11400.5338416707,
          11700.573784811,
          10275.3877929711,
          6400.85440403374,
          12899.741164872,
          5591.71960841968,
          13833.8239641842,
          10638.4181849373,
          9561.23712353639,
          13262.7671120183,
          11599.558069939,
          12907.7295572041,
          14841.0828650145,
          7319.01334180692,
          10143.2877497911,
          8702.15582725574,
          13856.8719570682,
          6172.83863166677,
          12332.6574925457,
          10902.4510367875,
          10522.447172706,
          10549.4238537918
         ],
         "xaxis": "x",
         "y": [
          24.3224522288322,
          20.0959350184282,
          20.2902232702255,
          24.3224522288322,
          24.4476813292185,
          24.3873628711383,
          24.4476813292185,
          24.3873628711383,
          21.588224962918,
          21.3264694785754,
          19.8345881437937,
          18.3396540518284,
          17.6273104862054,
          24.3873628711383,
          6.1220369453907,
          24.3224522288322,
          17.1054607029438,
          18.0828788435141,
          18.8614867186228,
          19.4399704372565,
          17.2379900212765,
          17.0391967034022,
          18.4721825535774,
          22.6269574618022,
          22.1771261946042,
          17.884085279274,
          22.3731814201355,
          18.7952223952293,
          22.3731814201355,
          19.183867728281,
          18.6626929874897,
          17.8178206439495,
          18.3396540518284,
          18.0828788435141,
          33.095412236023,
          19.571788560915,
          16.3268532033443,
          19.183867728281,
          23.3423831359228,
          18.2154077446143,
          21.461793887186,
          15.9955304876645,
          22.0402345037142,
          18.7289575532754,
          21.0027177707036,
          23.4153719361305,
          18.8614867186228,
          17.7515564775149,
          18.5964287852923,
          19.1258864855448,
          19.1258864855448,
          19.7690477446397,
          22.2380535538673,
          19.4399704372565,
          17.3705271597385,
          22.2380535538673,
          22.2380535538673,
          17.4285086369197,
          19.7690477446397,
          16.393117636013,
          16.6498923615297,
          17.9503498689016,
          23.4153719361305,
          16.9066669618765,
          16.7824217017174,
          19.8345881437937,
          17.4285086369197,
          24.4476813292185,
          17.0391967034022,
          18.3396540518284,
          19.3157966530005,
          18.1491432205518,
          17.3042543963273,
          17.4947733537038,
          18.7952223952293,
          17.3705271597385,
          20.2902232702255,
          19.382003143994,
          18.4059180116336,
          19.183867728281,
          21.6513775384108,
          18.92775104599,
          18.4059180116336,
          18.5964287852923,
          17.884085279274,
          22.4331826444149,
          16.7161568855921,
          14.5708271777312,
          19.4399704372565,
          20.5487740452766,
          17.7515564775149,
          18.8614867186228,
          19.2500656858762,
          19.183867728281,
          19.0596802369436,
          18.6626929874897,
          19.7690477446397,
          20.0302140529633,
          17.2379900212765,
          18.5964287852923,
          16.393117636013,
          19.2500656858762,
          15.8050202444871,
          19.7036349212805,
          16.5256462688923,
          20.0302140529633,
          19.7690477446397,
          17.6273104862054,
          20.0959350184282,
          18.7952223952293,
          17.6273104862054,
          17.7515564775149,
          20.3553051030318,
          17.884085279274,
          22.7618750210285,
          16.459382110405,
          17.4947733537038,
          19.183867728281,
          19.2500656858762,
          16.1943244115194,
          21.2630911028067,
          19.6380532776992,
          20.5487740452766,
          19.5059574440797,
          17.8178206439495,
          17.1054607029438,
          18.8614867186228,
          14.5708271777312,
          19.9006510948817,
          18.2154077446143,
          23.5455963706652,
          16.7161568855921,
          18.4059180116336,
          15.8712847447077,
          19.382003143994,
          19.6380532776992,
          21.9166846370379,
          20.2247304951827,
          22.3058144445896,
          17.5610375201384,
          17.3042543963273,
          20.0959350184282,
          18.7289575532754,
          18.8614867186228,
          19.3157966530005,
          19.6380532776992,
          19.7690477446397,
          17.1717250938892,
          20.4199219460964,
          17.6273104862054,
          18.7952223952293,
          16.7824217017174,
          20.2902232702255,
          19.8345881437937,
          16.9066669618765,
          16.0617949700038,
          18.4059180116336,
          19.1258864855448,
          20.0959350184282,
          17.3705271597385,
          18.5964287852923,
          18.8614867186228,
          19.0596802369436,
          16.8404029961109,
          18.7952223952293,
          20.0959350184282,
          17.6852919534524,
          16.1943244115194,
          18.7952223952293,
          22.5680154021263,
          18.9939491108735,
          17.7515564775149,
          19.382003143994,
          18.9939491108735,
          16.6498923615297,
          15.0264126018365,
          21.9166846370379,
          17.0391967034022,
          20.4839895522277,
          20.8051827029069,
          20.6130619620959,
          20.6776380792936,
          22.8870214875221,
          19.571788560915,
          20.4839895522277,
          19.7690477446397,
          20.2902232702255,
          22.2380535538673,
          20.9394164875825,
          19.1258864855448,
          17.1054607029438,
          22.500942112573,
          18.0166143691222,
          16.393117636013,
          15.8712847447077,
          21.7220476881345,
          18.7289575532754,
          18.9939491108735,
          20.8051827029069,
          18.1491432205518,
          18.5964287852923,
          22.2380535538673,
          19.1258864855448,
          21.9784083878676,
          20.4839895522277,
          20.5487740452766,
          19.9650769964536,
          20.4199219460964,
          18.7289575532754,
          22.2380535538673,
          16.0617949700038,
          16.393117636013,
          20.3553051030318,
          16.6498923615297,
          20.3553051030318,
          20.8760408774694,
          20.3553051030318,
          20.9394164875825,
          21.066217902867,
          21.3264694785754,
          19.2500656858762,
          19.183867728281,
          16.6498923615297,
          19.571788560915,
          17.884085279274,
          20.8051827029069,
          21.3264694785754,
          23.0207060293039,
          20.0302140529633,
          21.9784083878676,
          21.6513775384108,
          22.1771261946042,
          22.500942112573,
          19.382003143994,
          17.7515564775149,
          18.7289575532754,
          12.4255143439452,
          19.183867728281,
          19.0596802369436,
          21.5249683355967,
          17.1717250938892,
          19.7690477446397,
          20.0302140529633,
          19.6380532776992,
          21.1997796034495,
          20.4199219460964,
          22.3731814201355,
          19.183867728281,
          20.6776380792936,
          22.3058144445896,
          22.1771261946042,
          18.0828788435141,
          21.1368089274248,
          22.1771261946042,
          20.6776380792936,
          21.8552495872657,
          22.1166095371723,
          19.382003143994,
          19.8345881437937,
          21.0027177707036,
          16.9729318952243,
          22.2380535538673,
          13.9247482116699,
          23.0207060293039,
          22.4331826444149,
          19.4399704372565,
          20.5487740452766,
          18.7289575532754,
          22.5680154021263,
          20.0959350184282,
          14.7696293945789,
          19.7690477446397,
          17.1717250938892,
          15.1506581779003,
          20.3553051030318,
          23.4732312516053,
          20.6130619620959,
          20.2247304951827,
          22.7618750210285,
          19.9006510948817,
          16.8404029961109,
          19.571788560915,
          19.7036349212805,
          18.92775104599,
          17.6852919534524,
          18.2733895774364,
          20.4199219460964,
          16.9066669618765,
          18.9939491108735,
          14.3057690357844,
          17.6273104862054,
          17.0391967034022,
          22.1771261946042,
          20.0302140529633,
          21.588224962918,
          19.3157966530005,
          17.6273104862054,
          22.3058144445896,
          21.1368089274248,
          18.6626929874897,
          18.5964287852923,
          21.1997796034495,
          20.4839895522277,
          20.5487740452766,
          21.7220476881345,
          18.7952223952293,
          20.4199219460964,
          18.0166143691222,
          21.7220476881345,
          17.8178206439495,
          19.5059574440797,
          20.4839895522277,
          21.3904274459362,
          15.3494519527435,
          22.5680154021263,
          18.5964287852923,
          15.6145100787957,
          22.0402345037142,
          14.6370915627162,
          22.3058144445896,
          22.3058144445896,
          20.4199219460964,
          22.4331826444149,
          15.6724913036505,
          18.3396540518284,
          19.4399704372565,
          21.588224962918,
          18.4059180116336,
          17.2379900212765,
          22.1166095371723,
          18.0166143691222,
          23.2107943768978,
          18.9939491108735,
          21.1368089274248,
          22.3731814201355,
          19.0596802369436,
          22.828373735714,
          14.3720336373329,
          15.6724913036505,
          22.2380535538673,
          20.5487740452766,
          22.2380535538673,
          22.0402345037142,
          21.1997796034495,
          17.6273104862054,
          22.9538397864183,
          14.3720336373329,
          19.0596802369436,
          20.0959350184282,
          21.588224962918,
          22.1771261946042,
          20.1611198540211,
          18.2733895774364,
          19.571788560915,
          13.9827299709797,
          16.3268532033443,
          21.6513775384108,
          22.1771261946042,
          18.6626929874897,
          22.3731814201355,
          22.3058144445896,
          16.9729318952243,
          20.4839895522277,
          22.1771261946042,
          19.9650769964536,
          20.8760408774694,
          15.7387554859797,
          15.4157159026146,
          18.2733895774364,
          17.5610375201384,
          15.8050202444871,
          21.7848750447909,
          22.4331826444149,
          15.0843938286781,
          19.8345881437937,
          22.7618750210285,
          23.0207060293039,
          24.3224522288322,
          24.3224522288322,
          24.6466927623431,
          24.4476813292185,
          24.4476813292185,
          21.461793887186,
          18.6626929874897,
          21.9166846370379,
          24.2536350464503,
          20.0302140529633,
          18.7952223952293,
          21.7848750447909,
          24.5172455445608,
          18.3396540518284,
          16.5256462688923,
          18.9939491108735,
          19.1258864855448,
          16.459382110405,
          17.7515564775149,
          20.0959350184282,
          17.3705271597385,
          21.7220476881345,
          22.8870214875221,
          23.0207060293039,
          20.2247304951827,
          17.6273104862054,
          18.5964287852923,
          18.9939491108735,
          20.5487740452766,
          18.2733895774364,
          16.3268532033443,
          18.0828788435141,
          17.8178206439495,
          15.0264126018365,
          19.382003143994,
          18.1491432205518,
          18.4059180116336,
          19.4399704372565,
          17.6273104862054,
          22.3058144445896,
          17.3042543963273,
          17.5610375201384,
          19.382003143994,
          18.5964287852923,
          19.8345881437937,
          18.6626929874897,
          18.92775104599,
          16.8404029961109,
          19.1258864855448,
          16.2605883872191,
          19.4399704372565,
          19.6380532776992,
          22.9538397864183,
          19.0596802369436,
          17.3042543963273,
          22.1166095371723,
          21.1997796034495,
          17.6852919534524,
          19.0596802369436,
          18.0166143691222,
          19.9006510948817,
          22.8870214875221,
          19.5059574440797,
          19.0596802369436,
          21.3264694785754,
          19.3157966530005,
          19.0596802369436,
          16.459382110405,
          22.8870214875221,
          20.1611198540211,
          19.7036349212805,
          18.8614867186228,
          16.6498923615297,
          20.9394164875825,
          23.1522585367839,
          17.6273104862054,
          17.884085279274,
          19.6380532776992,
          24.5172455445608,
          16.393117636013,
          15.6145100787957,
          18.4721825535774,
          19.571788560915,
          20.5487740452766,
          17.1717250938892,
          20.8760408774694,
          20.0302140529633,
          16.7824217017174,
          17.1717250938892,
          20.4199219460964,
          17.3705271597385,
          14.9601477876981,
          18.2154077446143,
          19.7036349212805,
          18.4721825535774,
          16.5836282864888,
          17.884085279274,
          16.1280594443957,
          23.0207060293039,
          17.0391967034022,
          21.3264694785754,
          15.3494519527435,
          23.0207060293039,
          14.5708271777312,
          19.4399704372565,
          19.5059574440797,
          21.6513775384108,
          21.3904274459362,
          21.9166846370379,
          18.5964287852923,
          19.4399704372565,
          17.0391967034022,
          17.3042543963273,
          15.2169227953434,
          19.7690477446397,
          19.7036349212805,
          19.3157966530005,
          20.6776380792936,
          20.3553051030318,
          20.4199219460964,
          18.4721825535774,
          23.734287893343,
          21.066217902867,
          18.8614867186228,
          21.588224962918,
          22.3058144445896,
          16.459382110405,
          15.9292664960702,
          20.3553051030318,
          20.2902232702255,
          19.5059574440797,
          18.4059180116336,
          21.9166846370379,
          16.5256462688923,
          19.5059574440797,
          17.3042543963273,
          16.5836282864888,
          20.3553051030318,
          21.0027177707036,
          17.6273104862054,
          19.8345881437937,
          20.4199219460964,
          22.1166095371723,
          20.4839895522277,
          17.4947733537038,
          16.7161568855921,
          17.2379900212765,
          16.1943244115194,
          15.6724913036505,
          20.5487740452766,
          23.805825336345,
          20.8760408774694,
          15.2831873949051,
          20.9394164875825,
          20.8051827029069,
          18.2154077446143,
          17.2379900212765,
          17.8178206439495,
          18.9939491108735,
          20.5487740452766,
          19.2500656858762,
          19.571788560915,
          15.8712847447077,
          18.0828788435141,
          18.6626929874897,
          15.1506581779003,
          20.7416711365859,
          23.0207060293039,
          19.5059574440797,
          21.9784083878676,
          22.2380535538673,
          18.2733895774364,
          19.7036349212805,
          20.6130619620959,
          19.8345881437937,
          19.9006510948817,
          22.1166095371723,
          18.0828788435141,
          21.3904274459362,
          21.6513775384108,
          22.2380535538673,
          16.5836282864888,
          19.1258864855448,
          17.2379900212765,
          21.6513775384108,
          19.382003143994,
          21.588224962918,
          19.6380532776992,
          19.9650769964536,
          20.8051827029069,
          20.5487740452766,
          22.2380535538673,
          18.6626929874897,
          21.066217902867,
          22.2380535538673,
          21.7848750447909,
          20.0959350184282,
          15.4157159026146,
          19.9650769964536,
          19.7036349212805,
          17.5610375201384,
          21.3904274459362,
          20.7416711365859,
          17.6852919534524,
          20.5487740452766,
          22.7618750210285,
          20.0959350184282,
          19.9650769964536,
          22.500942112573,
          20.2902232702255,
          22.1166095371723,
          18.92775104599,
          19.0596802369436,
          20.6130619620959,
          19.571788560915,
          20.0302140529633,
          23.8637943104585,
          21.3904274459362,
          19.3157966530005,
          15.6724913036505,
          15.6724913036505,
          22.8870214875221,
          17.5610375201384,
          22.1771261946042,
          21.3904274459362,
          20.4839895522277,
          22.828373735714,
          22.500942112573,
          19.4399704372565,
          19.5059574440797,
          19.3157966530005,
          18.2733895774364,
          15.9955304876645,
          18.4721825535774,
          22.0402345037142,
          21.066217902867,
          16.0617949700038,
          23.3423831359228,
          23.0863358612537,
          21.1997796034495,
          20.2247304951827,
          20.6130619620959,
          21.7848750447909,
          20.1611198540211,
          22.7618750210285,
          26.7893773273309,
          16.7824217017174,
          20.5487740452766,
          22.0402345037142,
          17.4285086369197,
          19.9006510948817,
          19.0596802369436,
          22.7618750210285,
          20.2247304951827,
          20.7416711365859,
          22.3058144445896,
          20.2902232702255,
          22.6269574618022,
          21.3904274459362,
          22.9538397864183,
          19.9650769964536,
          19.382003143994,
          21.7220476881345,
          19.8345881437937,
          15.2169227953434,
          17.884085279274,
          21.3264694785754,
          16.393117636013,
          15.9292664960702,
          15.6145100787957,
          15.9955304876645,
          19.5059574440797,
          17.6273104862054,
          9.50157676892281,
          19.0596802369436,
          17.884085279274,
          18.4721825535774,
          18.7952223952293,
          16.3268532033443,
          19.9006510948817,
          19.4399704372565,
          24.6466927623431,
          24.6466927623431,
          17.4947733537038,
          19.1258864855448,
          33.87534454422,
          24.3873628711383,
          18.5964287852923,
          33.8092947538376,
          20.2247304951827,
          33.6139541105112,
          24.3224522288322,
          15.1506581779003,
          18.0166143691222,
          20.8760408774694,
          20.3553051030318,
          20.5487740452766,
          20.8051827029069,
          22.828373735714,
          19.183867728281,
          22.4331826444149,
          17.884085279274,
          20.2247304951827,
          21.1997796034495,
          18.4059180116336,
          20.1611198540211,
          21.7848750447909,
          20.2902232702255,
          17.2379900212765,
          18.9939491108735,
          19.7036349212805,
          22.3731814201355,
          20.3553051030318,
          21.9784083878676,
          16.7824217017174,
          20.5487740452766,
          19.8345881437937,
          22.9538397864183,
          18.2733895774364,
          17.0391967034022,
          19.3157966530005,
          18.5964287852923,
          17.2379900212765,
          21.9166846370379,
          22.6269574618022,
          21.7220476881345,
          22.6269574618022,
          21.3264694785754,
          19.9006510948817,
          20.2247304951827,
          18.3396540518284,
          19.183867728281,
          19.7036349212805,
          20.3553051030318,
          18.8614867186228,
          17.6852919534524,
          17.1717250938892,
          19.9650769964536,
          19.1258864855448,
          19.4399704372565,
          23.3423831359228,
          17.2379900212765,
          17.5610375201384,
          22.3731814201355,
          18.0828788435141,
          20.8051827029069,
          19.4399704372565,
          18.1491432205518,
          19.1258864855448,
          19.8345881437937,
          22.7618750210285,
          20.2247304951827,
          18.8614867186228,
          16.5836282864888,
          18.92775104599,
          16.6498923615297,
          20.2247304951827,
          20.4839895522277,
          23.5455963706652,
          22.6944710528533,
          16.393117636013,
          18.5964287852923,
          21.588224962918,
          19.7036349212805,
          20.0302140529633,
          20.2902232702255,
          23.0863358612537,
          18.2733895774364,
          21.7848750447909,
          22.6269574618022,
          15.1506581779003,
          17.1717250938892,
          18.7289575532754,
          21.9784083878676,
          17.1054607029438,
          19.8345881437937,
          20.4839895522277,
          22.3058144445896,
          21.3904274459362,
          22.8870214875221,
          20.8051827029069,
          20.4199219460964,
          18.5301646526337,
          16.3268532033443,
          19.571788560915,
          21.7848750447909,
          17.6852919534524,
          18.6626929874897,
          16.1943244115194,
          19.8345881437937,
          23.2843933041573,
          20.3553051030318,
          20.8760408774694,
          22.828373735714,
          22.7618750210285,
          21.066217902867,
          15.7387554859797,
          17.4285086369197,
          19.6380532776992,
          17.8178206439495,
          20.9394164875825,
          22.1771261946042,
          23.734287893343,
          18.4721825535774,
          22.2380535538673,
          22.9538397864183,
          23.6766401525021,
          20.9394164875825,
          18.4721825535774,
          19.382003143994,
          20.2247304951827,
          18.8614867186228,
          20.9394164875825,
          19.9006510948817,
          18.2154077446143,
          19.8345881437937,
          22.1771261946042,
          21.7220476881345,
          22.4331826444149,
          21.3264694785754,
          23.8637943104585,
          20.8760408774694,
          21.9166846370379,
          20.0302140529633,
          18.3396540518284,
          19.1258864855448,
          18.7289575532754,
          23.2843933041573,
          20.7416711365859,
          21.8552495872657,
          20.6776380792936,
          23.1522585367839,
          19.9006510948817,
          21.1368089274248,
          23.0863358612537,
          19.0596802369436,
          20.7416711365859,
          21.6513775384108,
          22.828373735714,
          21.8552495872657,
          22.7618750210285,
          22.4331826444149,
          18.7952223952293,
          19.9006510948817,
          21.1368089274248,
          22.2380535538673,
          22.1771261946042,
          20.9394164875825,
          23.4153719361305,
          23.2843933041573,
          15.7387554859797,
          20.3553051030318,
          22.7618750210285,
          21.5249683355967,
          23.0207060293039,
          21.6513775384108,
          21.7848750447909,
          21.1997796034495,
          22.5680154021263,
          20.3553051030318,
          20.4199219460964,
          23.1522585367839,
          18.2154077446143,
          19.8345881437937,
          22.3731814201355,
          17.3042543963273,
          22.1166095371723,
          22.9538397864183,
          22.3058144445896,
          22.5680154021263,
          18.9939491108735,
          21.9784083878676,
          16.6498923615297,
          17.4285086369197,
          19.0596802369436,
          24.3873628711383,
          19.1258864855448,
          20.0302140529633,
          17.7515564775149,
          21.9784083878676,
          18.7289575532754,
          20.6776380792936,
          24.3873628711383,
          23.734287893343,
          19.7690477446397,
          20.8051827029069,
          21.1368089274248,
          21.3264694785754,
          18.0828788435141,
          20.3553051030318,
          34.7190695360978,
          21.9166846370379,
          23.3423831359228,
          19.4399704372565,
          16.459382110405,
          21.8552495872657,
          20.6776380792936,
          18.0166143691222,
          17.3042543963273,
          20.6776380792936,
          18.9939491108735,
          22.1166095371723,
          23.1522585367839,
          20.5487740452766,
          20.2247304951827,
          19.1258864855448,
          21.461793887186,
          20.2902232702255,
          19.8345881437937,
          20.1611198540211,
          20.2247304951827,
          21.1368089274248,
          23.4153719361305,
          19.6380532776992,
          20.1611198540211,
          23.734287893343,
          22.1166095371723,
          18.7952223952293,
          18.5964287852923,
          23.4732312516053,
          24.6466927623431,
          23.1522585367839,
          20.8051827029069,
          18.7289575532754,
          18.92775104599,
          23.6036679104646,
          19.3157966530005,
          20.9394164875825,
          23.1522585367839,
          21.9166846370379,
          19.7036349212805,
          19.9006510948817,
          19.6380532776992,
          20.8051827029069,
          20.5487740452766,
          24.8393232361158,
          33.0278791363716,
          20.3553051030318,
          19.571788560915,
          19.4399704372565,
          21.7220476881345,
          17.5610375201384,
          18.1491432205518,
          19.0596802369436,
          22.7618750210285,
          16.459382110405,
          19.5059574440797,
          23.3423831359228,
          19.3157966530005,
          20.8051827029069,
          19.6380532776992,
          19.3157966530005,
          22.5680154021263,
          19.9650769964536,
          21.7220476881345,
          20.8760408774694,
          20.2247304951827,
          15.0843938286781,
          19.7690477446397,
          21.5249683355967,
          20.8760408774694,
          20.0959350184282,
          18.5301646526337,
          22.1166095371723,
          21.9784083878676,
          19.8345881437937,
          22.3731814201355,
          18.1491432205518,
          19.183867728281,
          22.1771261946042,
          21.1997796034495,
          20.8051827029069,
          23.8637943104585,
          18.8614867186228,
          21.9784083878676,
          23.4153719361305,
          19.3157966530005,
          23.0207060293039,
          15.4819806690693,
          23.0207060293039,
          23.2843933041573,
          21.461793887186,
          20.3553051030318,
          22.1166095371723,
          21.2630911028067,
          17.4947733537038,
          21.461793887186,
          21.7848750447909,
          18.9939491108735,
          22.7618750210285,
          22.828373735714,
          20.6776380792936,
          18.2733895774364,
          19.9650769964536,
          21.1368089274248,
          23.4732312516053,
          18.7289575532754,
          17.884085279274,
          22.1166095371723,
          20.0959350184282,
          29.6445156371276,
          16.3268532033443,
          22.0402345037142,
          18.8614867186228,
          16.1280594443957,
          17.884085279274,
          19.9650769964536,
          20.4199219460964,
          14.8938751037598,
          22.3058144445896,
          23.4732312516053,
          17.884085279274,
          22.1771261946042,
          21.1997796034495,
          18.7289575532754,
          20.9394164875825,
          21.5249683355967,
          19.382003143994,
          18.5964287852923,
          24.3873628711383,
          16.1280594443957,
          24.3873628711383,
          24.4476813292185,
          14.5045633709113,
          18.7289575532754,
          21.588224962918,
          19.7690477446397,
          21.3264694785754,
          16.6498923615297,
          19.183867728281,
          21.9166846370379,
          21.1997796034495,
          20.3553051030318,
          22.6944710528533,
          19.4399704372565,
          19.571788560915,
          22.7618750210285,
          16.9729318952243,
          22.2380535538673,
          19.4399704372565,
          19.0596802369436,
          22.3731814201355,
          18.9939491108735,
          20.0302140529633,
          21.3264694785754,
          19.183867728281,
          20.0302140529633,
          20.6776380792936,
          20.9394164875825,
          18.8614867186228,
          20.3553051030318,
          18.7952223952293,
          22.1166095371723,
          15.5482454375108,
          23.0863358612537,
          20.6130619620959,
          18.92775104599,
          18.4059180116336,
          18.0166143691222,
          22.5680154021263,
          17.7515564775149,
          22.6269574618022,
          21.3904274459362,
          23.4153719361305,
          23.6766401525021,
          21.461793887186,
          23.6036679104646,
          19.5059574440797,
          17.3705271597385,
          19.7036349212805,
          23.8637943104585,
          20.2247304951827,
          21.9784083878676,
          20.0302140529633,
          22.4331826444149,
          19.5059574440797,
          21.461793887186,
          21.7220476881345,
          20.8051827029069,
          16.9729318952243,
          22.0402345037142,
          14.8276105041981,
          22.3731814201355,
          20.8760408774694,
          20.4199219460964,
          22.1166095371723,
          21.5249683355967,
          22.1771261946042,
          22.4331826444149,
          18.0828788435141,
          20.8760408774694,
          20.0959350184282,
          22.3058144445896,
          17.0391967034022,
          21.9784083878676,
          21.1997796034495,
          21.0027177707036,
          21.0027177707036
         ],
         "yaxis": "y"
        }
       ],
       "layout": {
        "legend": {
         "tracegroupgap": 0
        },
        "margin": {
         "t": 60
        },
        "template": {
         "data": {
          "bar": [
           {
            "error_x": {
             "color": "#2a3f5f"
            },
            "error_y": {
             "color": "#2a3f5f"
            },
            "marker": {
             "line": {
              "color": "#E5ECF6",
              "width": 0.5
             }
            },
            "type": "bar"
           }
          ],
          "barpolar": [
           {
            "marker": {
             "line": {
              "color": "#E5ECF6",
              "width": 0.5
             }
            },
            "type": "barpolar"
           }
          ],
          "carpet": [
           {
            "aaxis": {
             "endlinecolor": "#2a3f5f",
             "gridcolor": "white",
             "linecolor": "white",
             "minorgridcolor": "white",
             "startlinecolor": "#2a3f5f"
            },
            "baxis": {
             "endlinecolor": "#2a3f5f",
             "gridcolor": "white",
             "linecolor": "white",
             "minorgridcolor": "white",
             "startlinecolor": "#2a3f5f"
            },
            "type": "carpet"
           }
          ],
          "choropleth": [
           {
            "colorbar": {
             "outlinewidth": 0,
             "ticks": ""
            },
            "type": "choropleth"
           }
          ],
          "contour": [
           {
            "colorbar": {
             "outlinewidth": 0,
             "ticks": ""
            },
            "colorscale": [
             [
              0,
              "#0d0887"
             ],
             [
              0.1111111111111111,
              "#46039f"
             ],
             [
              0.2222222222222222,
              "#7201a8"
             ],
             [
              0.3333333333333333,
              "#9c179e"
             ],
             [
              0.4444444444444444,
              "#bd3786"
             ],
             [
              0.5555555555555556,
              "#d8576b"
             ],
             [
              0.6666666666666666,
              "#ed7953"
             ],
             [
              0.7777777777777778,
              "#fb9f3a"
             ],
             [
              0.8888888888888888,
              "#fdca26"
             ],
             [
              1,
              "#f0f921"
             ]
            ],
            "type": "contour"
           }
          ],
          "contourcarpet": [
           {
            "colorbar": {
             "outlinewidth": 0,
             "ticks": ""
            },
            "type": "contourcarpet"
           }
          ],
          "heatmap": [
           {
            "colorbar": {
             "outlinewidth": 0,
             "ticks": ""
            },
            "colorscale": [
             [
              0,
              "#0d0887"
             ],
             [
              0.1111111111111111,
              "#46039f"
             ],
             [
              0.2222222222222222,
              "#7201a8"
             ],
             [
              0.3333333333333333,
              "#9c179e"
             ],
             [
              0.4444444444444444,
              "#bd3786"
             ],
             [
              0.5555555555555556,
              "#d8576b"
             ],
             [
              0.6666666666666666,
              "#ed7953"
             ],
             [
              0.7777777777777778,
              "#fb9f3a"
             ],
             [
              0.8888888888888888,
              "#fdca26"
             ],
             [
              1,
              "#f0f921"
             ]
            ],
            "type": "heatmap"
           }
          ],
          "heatmapgl": [
           {
            "colorbar": {
             "outlinewidth": 0,
             "ticks": ""
            },
            "colorscale": [
             [
              0,
              "#0d0887"
             ],
             [
              0.1111111111111111,
              "#46039f"
             ],
             [
              0.2222222222222222,
              "#7201a8"
             ],
             [
              0.3333333333333333,
              "#9c179e"
             ],
             [
              0.4444444444444444,
              "#bd3786"
             ],
             [
              0.5555555555555556,
              "#d8576b"
             ],
             [
              0.6666666666666666,
              "#ed7953"
             ],
             [
              0.7777777777777778,
              "#fb9f3a"
             ],
             [
              0.8888888888888888,
              "#fdca26"
             ],
             [
              1,
              "#f0f921"
             ]
            ],
            "type": "heatmapgl"
           }
          ],
          "histogram": [
           {
            "marker": {
             "colorbar": {
              "outlinewidth": 0,
              "ticks": ""
             }
            },
            "type": "histogram"
           }
          ],
          "histogram2d": [
           {
            "colorbar": {
             "outlinewidth": 0,
             "ticks": ""
            },
            "colorscale": [
             [
              0,
              "#0d0887"
             ],
             [
              0.1111111111111111,
              "#46039f"
             ],
             [
              0.2222222222222222,
              "#7201a8"
             ],
             [
              0.3333333333333333,
              "#9c179e"
             ],
             [
              0.4444444444444444,
              "#bd3786"
             ],
             [
              0.5555555555555556,
              "#d8576b"
             ],
             [
              0.6666666666666666,
              "#ed7953"
             ],
             [
              0.7777777777777778,
              "#fb9f3a"
             ],
             [
              0.8888888888888888,
              "#fdca26"
             ],
             [
              1,
              "#f0f921"
             ]
            ],
            "type": "histogram2d"
           }
          ],
          "histogram2dcontour": [
           {
            "colorbar": {
             "outlinewidth": 0,
             "ticks": ""
            },
            "colorscale": [
             [
              0,
              "#0d0887"
             ],
             [
              0.1111111111111111,
              "#46039f"
             ],
             [
              0.2222222222222222,
              "#7201a8"
             ],
             [
              0.3333333333333333,
              "#9c179e"
             ],
             [
              0.4444444444444444,
              "#bd3786"
             ],
             [
              0.5555555555555556,
              "#d8576b"
             ],
             [
              0.6666666666666666,
              "#ed7953"
             ],
             [
              0.7777777777777778,
              "#fb9f3a"
             ],
             [
              0.8888888888888888,
              "#fdca26"
             ],
             [
              1,
              "#f0f921"
             ]
            ],
            "type": "histogram2dcontour"
           }
          ],
          "mesh3d": [
           {
            "colorbar": {
             "outlinewidth": 0,
             "ticks": ""
            },
            "type": "mesh3d"
           }
          ],
          "parcoords": [
           {
            "line": {
             "colorbar": {
              "outlinewidth": 0,
              "ticks": ""
             }
            },
            "type": "parcoords"
           }
          ],
          "pie": [
           {
            "automargin": true,
            "type": "pie"
           }
          ],
          "scatter": [
           {
            "marker": {
             "colorbar": {
              "outlinewidth": 0,
              "ticks": ""
             }
            },
            "type": "scatter"
           }
          ],
          "scatter3d": [
           {
            "line": {
             "colorbar": {
              "outlinewidth": 0,
              "ticks": ""
             }
            },
            "marker": {
             "colorbar": {
              "outlinewidth": 0,
              "ticks": ""
             }
            },
            "type": "scatter3d"
           }
          ],
          "scattercarpet": [
           {
            "marker": {
             "colorbar": {
              "outlinewidth": 0,
              "ticks": ""
             }
            },
            "type": "scattercarpet"
           }
          ],
          "scattergeo": [
           {
            "marker": {
             "colorbar": {
              "outlinewidth": 0,
              "ticks": ""
             }
            },
            "type": "scattergeo"
           }
          ],
          "scattergl": [
           {
            "marker": {
             "colorbar": {
              "outlinewidth": 0,
              "ticks": ""
             }
            },
            "type": "scattergl"
           }
          ],
          "scattermapbox": [
           {
            "marker": {
             "colorbar": {
              "outlinewidth": 0,
              "ticks": ""
             }
            },
            "type": "scattermapbox"
           }
          ],
          "scatterpolar": [
           {
            "marker": {
             "colorbar": {
              "outlinewidth": 0,
              "ticks": ""
             }
            },
            "type": "scatterpolar"
           }
          ],
          "scatterpolargl": [
           {
            "marker": {
             "colorbar": {
              "outlinewidth": 0,
              "ticks": ""
             }
            },
            "type": "scatterpolargl"
           }
          ],
          "scatterternary": [
           {
            "marker": {
             "colorbar": {
              "outlinewidth": 0,
              "ticks": ""
             }
            },
            "type": "scatterternary"
           }
          ],
          "surface": [
           {
            "colorbar": {
             "outlinewidth": 0,
             "ticks": ""
            },
            "colorscale": [
             [
              0,
              "#0d0887"
             ],
             [
              0.1111111111111111,
              "#46039f"
             ],
             [
              0.2222222222222222,
              "#7201a8"
             ],
             [
              0.3333333333333333,
              "#9c179e"
             ],
             [
              0.4444444444444444,
              "#bd3786"
             ],
             [
              0.5555555555555556,
              "#d8576b"
             ],
             [
              0.6666666666666666,
              "#ed7953"
             ],
             [
              0.7777777777777778,
              "#fb9f3a"
             ],
             [
              0.8888888888888888,
              "#fdca26"
             ],
             [
              1,
              "#f0f921"
             ]
            ],
            "type": "surface"
           }
          ],
          "table": [
           {
            "cells": {
             "fill": {
              "color": "#EBF0F8"
             },
             "line": {
              "color": "white"
             }
            },
            "header": {
             "fill": {
              "color": "#C8D4E3"
             },
             "line": {
              "color": "white"
             }
            },
            "type": "table"
           }
          ]
         },
         "layout": {
          "annotationdefaults": {
           "arrowcolor": "#2a3f5f",
           "arrowhead": 0,
           "arrowwidth": 1
          },
          "autotypenumbers": "strict",
          "coloraxis": {
           "colorbar": {
            "outlinewidth": 0,
            "ticks": ""
           }
          },
          "colorscale": {
           "diverging": [
            [
             0,
             "#8e0152"
            ],
            [
             0.1,
             "#c51b7d"
            ],
            [
             0.2,
             "#de77ae"
            ],
            [
             0.3,
             "#f1b6da"
            ],
            [
             0.4,
             "#fde0ef"
            ],
            [
             0.5,
             "#f7f7f7"
            ],
            [
             0.6,
             "#e6f5d0"
            ],
            [
             0.7,
             "#b8e186"
            ],
            [
             0.8,
             "#7fbc41"
            ],
            [
             0.9,
             "#4d9221"
            ],
            [
             1,
             "#276419"
            ]
           ],
           "sequential": [
            [
             0,
             "#0d0887"
            ],
            [
             0.1111111111111111,
             "#46039f"
            ],
            [
             0.2222222222222222,
             "#7201a8"
            ],
            [
             0.3333333333333333,
             "#9c179e"
            ],
            [
             0.4444444444444444,
             "#bd3786"
            ],
            [
             0.5555555555555556,
             "#d8576b"
            ],
            [
             0.6666666666666666,
             "#ed7953"
            ],
            [
             0.7777777777777778,
             "#fb9f3a"
            ],
            [
             0.8888888888888888,
             "#fdca26"
            ],
            [
             1,
             "#f0f921"
            ]
           ],
           "sequentialminus": [
            [
             0,
             "#0d0887"
            ],
            [
             0.1111111111111111,
             "#46039f"
            ],
            [
             0.2222222222222222,
             "#7201a8"
            ],
            [
             0.3333333333333333,
             "#9c179e"
            ],
            [
             0.4444444444444444,
             "#bd3786"
            ],
            [
             0.5555555555555556,
             "#d8576b"
            ],
            [
             0.6666666666666666,
             "#ed7953"
            ],
            [
             0.7777777777777778,
             "#fb9f3a"
            ],
            [
             0.8888888888888888,
             "#fdca26"
            ],
            [
             1,
             "#f0f921"
            ]
           ]
          },
          "colorway": [
           "#636efa",
           "#EF553B",
           "#00cc96",
           "#ab63fa",
           "#FFA15A",
           "#19d3f3",
           "#FF6692",
           "#B6E880",
           "#FF97FF",
           "#FECB52"
          ],
          "font": {
           "color": "#2a3f5f"
          },
          "geo": {
           "bgcolor": "white",
           "lakecolor": "white",
           "landcolor": "#E5ECF6",
           "showlakes": true,
           "showland": true,
           "subunitcolor": "white"
          },
          "hoverlabel": {
           "align": "left"
          },
          "hovermode": "closest",
          "mapbox": {
           "style": "light"
          },
          "paper_bgcolor": "white",
          "plot_bgcolor": "#E5ECF6",
          "polar": {
           "angularaxis": {
            "gridcolor": "white",
            "linecolor": "white",
            "ticks": ""
           },
           "bgcolor": "#E5ECF6",
           "radialaxis": {
            "gridcolor": "white",
            "linecolor": "white",
            "ticks": ""
           }
          },
          "scene": {
           "xaxis": {
            "backgroundcolor": "#E5ECF6",
            "gridcolor": "white",
            "gridwidth": 2,
            "linecolor": "white",
            "showbackground": true,
            "ticks": "",
            "zerolinecolor": "white"
           },
           "yaxis": {
            "backgroundcolor": "#E5ECF6",
            "gridcolor": "white",
            "gridwidth": 2,
            "linecolor": "white",
            "showbackground": true,
            "ticks": "",
            "zerolinecolor": "white"
           },
           "zaxis": {
            "backgroundcolor": "#E5ECF6",
            "gridcolor": "white",
            "gridwidth": 2,
            "linecolor": "white",
            "showbackground": true,
            "ticks": "",
            "zerolinecolor": "white"
           }
          },
          "shapedefaults": {
           "line": {
            "color": "#2a3f5f"
           }
          },
          "ternary": {
           "aaxis": {
            "gridcolor": "white",
            "linecolor": "white",
            "ticks": ""
           },
           "baxis": {
            "gridcolor": "white",
            "linecolor": "white",
            "ticks": ""
           },
           "bgcolor": "#E5ECF6",
           "caxis": {
            "gridcolor": "white",
            "linecolor": "white",
            "ticks": ""
           }
          },
          "title": {
           "x": 0.05
          },
          "xaxis": {
           "automargin": true,
           "gridcolor": "white",
           "linecolor": "white",
           "ticks": "",
           "title": {
            "standoff": 15
           },
           "zerolinecolor": "white",
           "zerolinewidth": 2
          },
          "yaxis": {
           "automargin": true,
           "gridcolor": "white",
           "linecolor": "white",
           "ticks": "",
           "title": {
            "standoff": 15
           },
           "zerolinecolor": "white",
           "zerolinewidth": 2
          }
         }
        },
        "xaxis": {
         "anchor": "y",
         "domain": [
          0,
          1
         ],
         "title": {
          "text": "Mass"
         }
        },
        "yaxis": {
         "anchor": "x",
         "domain": [
          0,
          1
         ],
         "title": {
          "text": "RT"
         }
        }
       }
      },
      "text/html": [
       "<div>                            <div id=\"c866d089-2f8b-48eb-9555-68489b70e359\" class=\"plotly-graph-div\" style=\"height:525px; width:100%;\"></div>            <script type=\"text/javascript\">                require([\"plotly\"], function(Plotly) {                    window.PLOTLYENV=window.PLOTLYENV || {};                                    if (document.getElementById(\"c866d089-2f8b-48eb-9555-68489b70e359\")) {                    Plotly.newPlot(                        \"c866d089-2f8b-48eb-9555-68489b70e359\",                        [{\"hovertemplate\": \"Mass=%{x}<br>RT=%{y}<extra></extra>\", \"legendgroup\": \"\", \"marker\": {\"color\": \"#636efa\", \"symbol\": \"circle\"}, \"mode\": \"markers\", \"name\": \"\", \"showlegend\": false, \"type\": \"scattergl\", \"x\": [24287.2047048451, 8793.07999098085, 9138.13899089121, 24359.198160926, 24360.2138373334, 24344.2005183712, 24328.234802865, 24373.1774643913, 11661.4594576236, 11050.3840145755, 9034.30510392847, 8051.14654942316, 6825.89371331604, 24336.2126755328, 1525.76711660565, 24173.2199149722, 6176.86148054252, 7171.9590666121, 8023.13506608572, 8164.02396951405, 6520.8747460033, 6519.8708297348, 7436.97526568512, 14549.8282117613, 13461.8917791896, 6740.90350162907, 13899.790263071, 7437.9998521254, 14072.9558762491, 7857.99561868986, 7491.99145186823, 6818.91574093328, 7091.94246793794, 7130.93997636146, 2624.19899647039, 8136.10312331073, 5847.81071324217, 7783.05539681611, 17514.279347719, 7186.93293316265, 11643.4462888636, 5785.76843465089, 13156.8493640784, 7198.91166328975, 10956.5076724206, 17818.3138651953, 7446.00755167606, 6482.88516373636, 7470.01378404981, 7751.03740285292, 8127.07994883004, 8441.13892519032, 13578.8979905578, 8351.10887127824, 6098.81817015651, 14189.955333406, 13884.9117639268, 6434.87363795891, 9058.16821817613, 5807.79376295938, 6089.8187201142, 6490.88826039058, 17803.3921871748, 6192.86540272119, 6129.83209941623, 8722.1610611887, 6575.88112373069, 24313.2280271571, 6137.83596113579, 6833.92712953483, 8017.07286508778, 7101.95285907094, 6122.83663733689, 6552.89575487369, 7741.9935180103, 6473.88596007088, 9040.2096869971, 7792.07476662347, 7119.94159076752, 8072.06939077509, 12216.7067074043, 7111.90473423133, 7083.95888366289, 7155.98356396337, 6428.87244532394, 13641.7530603003, 6209.8385560984, 5563.74230337449, 7877.99154023057, 9700.29742931374, 6785.88790286449, 7462.01250497896, 7822.04978054386, 7456.94107172657, 7720.04714645365, 7117.95792945898, 8472.04318611581, 8998.20644243331, 6451.85398425752, 7365.99129233548, 6199.85293516568, 8081.09067219503, 5838.78669969402, 8083.08876033469, 5753.77828608472, 9062.2093824066, 8098.08659671316, 6795.92084568163, 8973.19688522724, 7533.95527153501, 6489.88059181867, 6858.92900064603, 9348.26157913407, 6873.93706199948, 16358.2763620442, 6159.83803324581, 6488.87909428924, 7406.99301803835, 7753.05003056734, 5862.78877637988, 10672.4161504982, 8738.1677995636, 9741.2978089111, 8048.07774369499, 6512.77460484322, 6231.8544913364, 7798.0345511898, 5558.76026729088, 8824.17857915757, 7020.9476480862, 18164.4165497497, 6247.84461966696, 6756.91834585052, 5448.72595778412, 8057.08124879234, 8401.13821692255, 12611.6864489784, 9444.26465549188, 13579.8257903043, 6536.89615057976, 6435.86605422358, 9013.20703935979, 7062.95561466814, 7358.94626734955, 8183.09583834669, 8434.13189268351, 8298.05900480367, 6480.86599507218, 9622.27334071354, 6460.85076527434, 7388.98552654872, 5777.78575467938, 9083.21992394907, 8691.18111793556, 6168.84628291823, 5511.75679883336, 7069.95637730222, 7485.02464654671, 9027.19809533159, 6568.89591784825, 7092.96358254765, 7712.02142488214, 7341.95910836275, 6208.84881225746, 7507.02214708648, 9052.20304109193, 6468.87186655636, 5835.79260097684, 7454.99972519349, 13374.8186914885, 7676.040961292, 6832.91269753718, 7831.06490301539, 7778.04909484337, 6183.84522111597, 5192.58826742291, 12076.515441067, 6181.84069403786, 9436.29255123488, 10243.3971360771, 9303.20349155062, 9406.27426944548, 15213.9914546721, 8309.1105733607, 9779.26603982381, 8787.16201597673, 9098.22675602763, 13044.7395590287, 9696.22725768018, 7838.06860039771, 6424.85630418505, 13914.7927981422, 6683.83452164612, 5886.81677482996, 5478.7425161097, 12237.6340827476, 7390.00129292551, 7499.99979224279, 11669.5709943449, 6751.89387485223, 7516.00098242615, 13264.6888257905, 7501.02739502858, 12356.6776654608, 9459.26654752971, 9942.31711814026, 8957.22933783759, 9809.28373801449, 7351.96306024011, 13748.8455719375, 5759.78243759339, 5918.80036677451, 9677.28838536388, 5821.7930851606, 9454.27856590678, 10259.3635944651, 9106.24525701394, 10698.4230663188, 10617.4106182759, 11245.4873656075, 8176.05949224319, 7696.0248669283, 6119.81102291226, 8463.13015695356, 6676.87467596935, 10313.3818930692, 10992.4496313981, 15852.0781774866, 8637.11511992279, 11875.4871432057, 11948.6206009036, 12958.6773436987, 14218.8216037942, 8109.08950933448, 6442.8765264, 7540.99275662867, 5727.82650977298, 7666.01259822543, 7879.0615265886, 11370.5306359853, 6369.8670978315, 8519.14919168137, 8951.15068709302, 8002.05717830735, 10978.4610869693, 9334.2480870793, 13647.8089581603, 7681.03461798437, 9795.25595362046, 14534.0133977425, 13275.7727540293, 6913.95130229339, 10657.4238248173, 13239.734296448, 10082.3403488195, 12310.6606513732, 12700.6541394123, 8377.10749109262, 7969.09956593734, 9588.31187725392, 6074.79026176786, 13528.7936906975, 5564.73518829618, 16686.3227902536, 13867.8917899671, 7860.98549665418, 9694.32479744731, 7483.00827373272, 14538.9274214417, 9238.26923279345, 5518.73728934005, 8451.1445294821, 6225.83974127512, 5464.73295860905, 9374.24879634738, 17497.3000919615, 9645.2753265125, 9316.27956096324, 14879.9604189848, 8330.11158587435, 6222.83887305062, 8142.10129441532, 8482.13528645865, 7853.05558081794, 6634.91219876664, 7203.95732445188, 9361.27702089724, 6271.86350035449, 7670.00350001886, 5495.74150397021, 6650.88367200125, 6942.92418874302, 13636.8176836458, 8778.08959656809, 11916.6046396123, 8933.20865733203, 6380.83831501198, 13562.8529347506, 10733.3338781005, 7352.96493459434, 7037.9540104314, 10682.4027291328, 9430.26471639064, 9678.29126681251, 12034.5864329539, 7735.01420726851, 9276.23660515268, 6763.92193066296, 12288.6730107852, 6780.92211755603, 7787.06521421855, 9695.3144982075, 11328.5256136623, 5815.7684830192, 14305.9020349465, 5390.91163251486, 5477.74806298353, 12891.7418284242, 5415.70641271328, 13511.7836274048, 12970.7289657224, 8979.20259892028, 13638.784992086, 5787.76019735277, 6817.90653856922, 7842.07340168653, 11908.6221945365, 7075.9341978005, 6114.77583596605, 12975.7088856388, 6752.89570838785, 17998.5007564676, 7413.00672138373, 10017.3526582804, 13611.7646498711, 7736.0206601057, 15138.0041749236, 5416.71134759088, 5510.76076538969, 14173.9046569949, 9952.31830866142, 13809.9215378154, 12627.6673749566, 10882.4474127513, 6600.91712880688, 15796.0919021015, 5596.75533934405, 7515.00987928378, 9398.23334690604, 11932.5965534564, 13027.7366574008, 9305.24287523699, 6736.89352773314, 8506.14506753737, 5496.72217671465, 5782.76806115312, 11741.5812999193, 12967.718649929, 7326.98568893393, 12964.7582493289, 13515.8180594816, 6036.77944078303, 9608.28894852312, 13868.9198114118, 8818.1926642845, 10217.3533937339, 6112.79142984781, 5854.79235220824, 6521.8902114996, 6802.88438161563, 5541.77921924796, 12467.6691429044, 13808.8560673556, 5696.73624540256, 8707.17115658607, 15179.0178979008, 12355.771736354, 24231.226603282, 24245.2381479082, 24568.4098009108, 24288.2154392126, 24174.2084419614, 11356.4173004901, 8396.21479567258, 12295.5595211395, 24259.207816451, 9006.26192708839, 7528.91814585371, 11990.5338356792, 24375.190586088, 7131.9542512312, 6175.8125549756, 7423.00334395005, 7768.04246541816, 5871.8157115619, 6505.89151377853, 9311.3182907141, 6481.8734768348, 11746.421399872, 16024.216717957, 16183.1152857273, 9333.24761001577, 6443.87023281519, 7012.89365773063, 7729.01520167109, 9636.26144067915, 7044.95262495492, 5830.78613597192, 6803.92042512377, 6881.90942459148, 5542.76423101809, 8137.12894370095, 6748.91797927556, 7147.96940001972, 8073.07987463588, 6497.8775516211, 13781.9200878341, 6396.84872714965, 6419.85932743342, 8143.09192397073, 7139.96548116292, 8667.15268892434, 7447.00328306731, 7486.0165368766, 6090.81175810847, 8047.05676786524, 6151.8117237782, 8128.09529094569, 8378.10375616759, 15838.0653775841, 7743.0294304011, 6200.86452558941, 12599.6008092136, 11275.5956263338, 6715.89643370791, 7808.05646399988, 6843.92759876764, 8744.15973262044, 15822.0695132564, 8011.0768903761, 8700.25587427007, 11606.6207307231, 8033.06415227431, 7463.02209382388, 5768.77752371639, 16687.3500479374, 9028.20028178572, 8362.09626628173, 7779.04493556227, 5856.8094906891, 10664.4511449332, 16672.3275445459, 6569.90428209352, 6859.90383910841, 8528.13769211079, 24272.1748622808, 6040.80667192446, 5760.77445073142, 7218.9811051388, 8457.14217935055, 9662.29218550598, 6099.81212716238, 10650.4568770084, 9099.21547626401, 6182.84692268718, 6138.83856195605, 9748.28836620701, 6217.74670553219, 5463.7343127521, 6739.89496886234, 8393.11818386089, 7053.94337513367, 5793.78017576403, 6891.92924675087, 5848.79518820432, 16775.3021231436, 6075.79772400219, 10734.4072871727, 5735.75976505446, 16343.2469942026, 5440.71807981313, 8097.08771922891, 8449.13259443964, 12229.7280358697, 10673.3638308275, 12701.6881821187, 7068.96200180123, 8089.1029303552, 6224.85442341818, 6457.86593870147, 5503.74788866502, 8043.07217780232, 8167.0171684977, 8198.08801059381, 9362.2428933947, 9090.22918680423, 9388.23233407498, 7354.98206413024, 19977.7737496172, 10594.3996545385, 7414.0192941627, 11652.522291801, 13249.6819682001, 5943.81983073373, 5904.79549978955, 9726.31249937019, 9531.29708160916, 7873.99954761332, 7227.99871130162, 12558.7714322471, 6079.82217409939, 7991.0482127982, 6475.87131560267, 6065.81930490743, 9445.26921267897, 10618.4102200724, 6404.84688134745, 8435.14752318867, 9076.23305257543, 13021.7064669855, 9719.29556113179, 6370.84659187431, 6025.80023443311, 6467.88772840673, 5887.81146128, 5487.73821293825, 9582.24701078929, 20270.7854135833, 10077.3439646295, 5527.75367721681, 10101.3665608018, 9957.31930891361, 6834.92164159701, 6205.74069768915, 7376.98713710511, 7839.04926116922, 9061.23008120372, 7709.00529214524, 8402.12885187214, 5720.76018355024, 6777.90686555383, 7430.99869925, 5836.75939514475, 9609.25799263025, 16315.1804247943, 8373.1085271322, 13155.8600266066, 13307.7707862295, 6733.90992217533, 8317.08678829096, 9601.309475145, 8638.13199752356, 8765.184440103, 13577.8788929133, 6906.9554193842, 10988.4372952104, 11876.5598025849, 13323.7142508568, 5851.78937832159, 8920.22990445289, 6477.86665949155, 11300.5008993291, 7731.0390217046, 11924.6516804756, 8019.06071620607, 8732.16349621184, 10071.3370982797, 9681.31378809322, 13564.824622088, 8601.1821902595, 10062.3550529876, 13540.7393878193, 12604.6556171386, 8659.13885258142, 5599.77181505752, 8467.16964780179, 8407.12645690742, 6409.83701246951, 11246.4939958466, 10126.3265529624, 6585.89329422514, 9914.33410946923, 14649.9050047009, 9415.23380181466, 8986.18397370694, 13850.8295004721, 9317.24770353764, 13517.8255187859, 7441.00305288386, 7655.99132511082, 9321.24630536493, 9239.24889758806, 8755.17548716034, 20282.7990019373, 11230.5064081413, 7714.02732662369, 5800.78737779384, 5860.79762417434, 15776.1149169141, 6381.83481916633, 13183.8357463236, 10683.4364422807, 9706.28785648373, 15170.017614421, 14475.973228528, 8287.14960732889, 7996.05267197161, 7832.06810018311, 7005.94573297482, 5770.76035995976, 7196.93192606948, 12685.6765880221, 10641.4324197817, 5897.75340442458, 17990.4466747123, 16658.3035102897, 10403.4178002723, 8783.20260816765, 9773.2623224309, 11997.5875122033, 8708.17444038597, 15505.084512747, 10038.4235050229, 5935.85546033871, 9413.25680108755, 12933.7066734179, 6147.82688750794, 8857.19815936858, 7846.05714337728, 15135.0431491216, 8494.17694431496, 10361.3511773599, 14158.8782104353, 9301.27233245853, 14012.8775808573, 11628.5421349576, 16098.1687342994, 8803.17259736155, 7919.07003956856, 12273.6471228646, 8650.14027902585, 5880.80285581379, 6699.89720003796, 11133.492471479, 5958.81430061127, 5705.73039904266, 5869.7609863849, 5473.73077086302, 7978.03035010118, 6692.86651131407, 1531.78427961126, 7546.93736268254, 6527.78429733045, 6856.83891971944, 7201.88743610023, 6401.92400600633, 8488.03978677122, 7875.98446012443, 24582.401950785, 24554.3719993925, 6219.74527416599, 8368.16316926576, 1735.94354153114, 24417.1567153188, 8587.1616647138, 1650.90937349556, 9020.29859633614, 1687.95920930053, 24294.2041205204, 6673.94468453928, 6540.80073642639, 10420.3314014958, 9637.28230419508, 9770.21619877279, 11289.6354468883, 15519.0482921702, 7791.04296992975, 14187.8302584887, 6824.89727683457, 9291.22466921829, 11032.3839480024, 7183.89541195632, 9121.14440388961, 12278.5811575058, 9292.22084192957, 6410.86604345415, 7830.04412044917, 8471.05955665118, 13883.8351277901, 9435.26131042274, 13795.9452001771, 6213.83593031757, 10305.417933546, 8776.07639102126, 16038.2304293061, 6857.88114676701, 6673.94632873955, 8039.06808071481, 7404.99371644446, 6191.85821555521, 12582.5917090973, 14359.9087969254, 13171.8638530076, 14894.9092660565, 10756.3547234913, 8834.19970108308, 8805.12379036974, 7126.9457262617, 8121.09573008673, 8385.13271838753, 9466.19014644051, 7699.00715678589, 6743.88510049674, 6127.82834064928, 8724.17593279526, 8087.08474725199, 8391.13680422687, 17692.4359586519, 6514.87609521494, 6459.86874977985, 13335.6583077215, 7049.93206505312, 10327.3661130438, 8103.09120402321, 6812.92829781357, 8005.0546376736, 8797.16058913927, 15195.998352441, 8989.18216280499, 7373.98890759117, 6143.83749878502, 7773.04068134301, 6093.80279204015, 8758.17079972256, 9676.29626759545, 19991.7855507058, 14563.8902679122, 6134.80851798329, 6869.86786531412, 11673.5234488991, 8462.13133310407, 8785.18708249902, 8961.166910881, 15924.1137862984, 6761.8982098511, 11972.5440737087, 15184.0259012445, 5844.77021208372, 6439.83922436058, 7431.99714565637, 12906.7430453093, 6399.8423377632, 8091.01336542611, 9687.30489660718, 13568.7763786318, 11293.5015650563, 15502.0588982679, 10632.4020873244, 9033.31509347929, 7148.97020123359, 6189.80690386758, 8151.11758629769, 12268.645893316, 6433.87116811327, 7524.00463966224, 5877.8094761481, 8737.1640324439, 16694.2472793847, 9051.19760266417, 10428.351541404, 16154.2094076244, 15413.1121509056, 10938.4443534545, 5878.79676267959, 6082.82397306906, 8497.14405257061, 6713.8806071502, 10375.3836523649, 13251.6891771526, 20019.7009525292, 7178.94670577348, 13873.8989679764, 15294.9964357357, 19407.6095679437, 10274.3637672168, 7106.95674301774, 8191.10756267983, 9318.24325940372, 7711.04492225922, 10681.381953694, 8987.17888995327, 7153.95469926158, 8430.13739423269, 13290.7583592689, 11761.4806106278, 14054.8748682849, 11020.4639314399, 20008.7417674535, 9915.31612879983, 11678.4614666866, 8647.15640313161, 7058.94129202056, 7893.07774835584, 7409.99561233099, 16960.2401759867, 10026.3306958972, 12145.642783536, 10766.4084761746, 16543.175614347, 8318.06400477107, 10351.371181587, 15859.0827319643, 7602.84927602274, 10343.3673130874, 11784.5686391252, 15717.1566248797, 12284.6094081319, 14854.0062520556, 14130.8994638167, 7307.98944891595, 8626.13577020317, 10622.4214953512, 13226.7739910741, 13069.7476039912, 10548.4183878335, 17792.3742557851, 17015.2972055326, 5940.79327726434, 9447.25640026794, 15356.0266063338, 11489.5434516231, 16278.1335358656, 11821.5782254926, 12050.5763547406, 10826.4255372604, 14215.8642281024, 9543.26667600164, 9082.23404749921, 16647.2206496457, 6993.93761063253, 8932.22648975288, 13369.7757371894, 6542.8780895431, 12887.7643304301, 15807.1071433923, 13543.8328018375, 13864.8728708417, 7642.97272814577, 12830.7207058664, 6321.89331480171, 6314.81134551711, 8281.10488524833, 24303.2277824442, 8715.27107835852, 9403.21533091515, 6528.79976143888, 12600.631224733, 7692.09797069127, 10665.407131262, 24390.2017072653, 19963.7341881007, 8489.05530093098, 10651.4953832024, 11261.574463074, 11338.4043478364, 6838.84357315582, 9670.34344133169, 1556.94355423215, 12559.8162804085, 17496.2573572931, 8059.0695885959, 6023.85327552968, 12545.7690187161, 9371.20811255396, 6787.92894888614, 6515.87614563196, 10306.4296714909, 7382.9845081065, 14100.987526346, 17004.3465574939, 9969.33331800851, 9423.2668470289, 7560.95366326005, 11607.5733730166, 9056.22493484399, 8683.1510350711, 8747.17298997502, 9273.26014539108, 10450.3381779025, 18308.5357021636, 8656.15406454868, 9370.25290172902, 20603.8303578671, 12686.5631617741, 7423.99137206492, 7429.0103531521, 17596.2717731619, 24642.3426444744, 17706.5341722642, 10007.3318276042, 7487.00688538059, 7505.02699010669, 19291.6396189747, 9211.25410327945, 10148.3018228813, 18015.5277932188, 12372.6520964215, 8628.17018270575, 9544.26488429786, 8074.07801614911, 9727.31786906046, 9397.28388424775, 24555.372150017, 2610.1854, 9359.24411587516, 8186.02471634201, 8380.10187553925, 12267.6265297126, 6529.8738247059, 6866.94386476095, 7688.01549264211, 15718.2181007328, 5582.67242105416, 8158.08059445931, 17794.3582356687, 7809.0795704124, 10054.3213862099, 8682.14092294834, 9225.26885350503, 14417.9763447065, 8766.16144650641, 12230.7194291503, 9717.27072102776, 9340.27434464, 5340.64858297041, 8369.12351533836, 10959.3818874414, 10047.3190715967, 8714.17556090001, 7078.94399644277, 13220.7598673529, 12381.5469789119, 8711.19030000847, 13936.8511574179, 7193.96777967074, 7775.05025398092, 14446.0332949161, 10709.4221766741, 10427.3619485335, 20895.8636224729, 7687.02110600086, 11918.6598604403, 18145.3931585222, 8054.05962486511, 15818.0439071066, 4572.52645946323, 16276.1514168938, 16695.2218993653, 10721.4620776058, 9322.24384268316, 13173.8870100896, 11022.4758286124, 6538.8816678241, 11386.5241792978, 12185.6308518432, 7763.02959792945, 15223.9976718633, 14967.9689892259, 9886.27925284682, 7263.00124501623, 9353.39469172562, 10854.467963578, 18099.3850482687, 7573.02497361604, 6547.90864687187, 12984.7430705066, 8950.17063161174, 1627.76220962093, 5813.77255721288, 13221.7603008511, 7433.99248125007, 5936.79906635047, 6922.93430819316, 8412.1525885004, 9507.26492549538, 5671.75179695154, 13349.7587888525, 17635.3696425097, 6412.86167459997, 13228.7640355731, 10567.3910393939, 7312.96351035634, 10881.4773887058, 12560.8171179526, 8220.09920277183, 7023.94392379989, 24189.2222173483, 5567.64987682409, 24246.2429800125, 24317.2188658619, 4242.47852785913, 7202.88683097324, 12573.8277095719, 8195.0347881454, 12244.7810036034, 6105.82852223845, 8382.18073690634, 12850.8009653178, 11939.6746842157, 9396.25656476361, 16052.2469968987, 8026.0740070034, 7889.00699176153, 16141.2325235319, 6153.83494164741, 13538.7523972779, 8079.08221017508, 7662.98347767972, 14086.9526966401, 7814.05166897705, 9043.21316963846, 10308.275050867, 8101.0804759806, 9093.22645109016, 10359.3491120195, 10391.3758462848, 7545.94272400789, 9417.26311165438, 7523.01081840076, 13170.8541860868, 5775.75450440917, 15619.0035552587, 10021.3313580243, 7397.99739290626, 6620.89477322712, 6794.90981178004, 14432.0092591528, 6754.92672079705, 14611.9512162215, 11308.498351127, 17582.3278990437, 19650.6758983291, 11617.5702009576, 18825.4586029676, 8006.05763505588, 6155.82239334322, 8417.13500581744, 20370.7243378946, 9708.2650096862, 12922.7294101185, 8813.15740887815, 14001.8716174545, 7985.04107815188, 11400.5338416707, 11700.573784811, 10275.3877929711, 6400.85440403374, 12899.741164872, 5591.71960841968, 13833.8239641842, 10638.4181849373, 9561.23712353639, 13262.7671120183, 11599.558069939, 12907.7295572041, 14841.0828650145, 7319.01334180692, 10143.2877497911, 8702.15582725574, 13856.8719570682, 6172.83863166677, 12332.6574925457, 10902.4510367875, 10522.447172706, 10549.4238537918], \"xaxis\": \"x\", \"y\": [24.3224522288322, 20.0959350184282, 20.2902232702255, 24.3224522288322, 24.4476813292185, 24.3873628711383, 24.4476813292185, 24.3873628711383, 21.588224962918, 21.3264694785754, 19.8345881437937, 18.3396540518284, 17.6273104862054, 24.3873628711383, 6.1220369453907, 24.3224522288322, 17.1054607029438, 18.0828788435141, 18.8614867186228, 19.4399704372565, 17.2379900212765, 17.0391967034022, 18.4721825535774, 22.6269574618022, 22.1771261946042, 17.884085279274, 22.3731814201355, 18.7952223952293, 22.3731814201355, 19.183867728281, 18.6626929874897, 17.8178206439495, 18.3396540518284, 18.0828788435141, 33.095412236023, 19.571788560915, 16.3268532033443, 19.183867728281, 23.3423831359228, 18.2154077446143, 21.461793887186, 15.9955304876645, 22.0402345037142, 18.7289575532754, 21.0027177707036, 23.4153719361305, 18.8614867186228, 17.7515564775149, 18.5964287852923, 19.1258864855448, 19.1258864855448, 19.7690477446397, 22.2380535538673, 19.4399704372565, 17.3705271597385, 22.2380535538673, 22.2380535538673, 17.4285086369197, 19.7690477446397, 16.393117636013, 16.6498923615297, 17.9503498689016, 23.4153719361305, 16.9066669618765, 16.7824217017174, 19.8345881437937, 17.4285086369197, 24.4476813292185, 17.0391967034022, 18.3396540518284, 19.3157966530005, 18.1491432205518, 17.3042543963273, 17.4947733537038, 18.7952223952293, 17.3705271597385, 20.2902232702255, 19.382003143994, 18.4059180116336, 19.183867728281, 21.6513775384108, 18.92775104599, 18.4059180116336, 18.5964287852923, 17.884085279274, 22.4331826444149, 16.7161568855921, 14.5708271777312, 19.4399704372565, 20.5487740452766, 17.7515564775149, 18.8614867186228, 19.2500656858762, 19.183867728281, 19.0596802369436, 18.6626929874897, 19.7690477446397, 20.0302140529633, 17.2379900212765, 18.5964287852923, 16.393117636013, 19.2500656858762, 15.8050202444871, 19.7036349212805, 16.5256462688923, 20.0302140529633, 19.7690477446397, 17.6273104862054, 20.0959350184282, 18.7952223952293, 17.6273104862054, 17.7515564775149, 20.3553051030318, 17.884085279274, 22.7618750210285, 16.459382110405, 17.4947733537038, 19.183867728281, 19.2500656858762, 16.1943244115194, 21.2630911028067, 19.6380532776992, 20.5487740452766, 19.5059574440797, 17.8178206439495, 17.1054607029438, 18.8614867186228, 14.5708271777312, 19.9006510948817, 18.2154077446143, 23.5455963706652, 16.7161568855921, 18.4059180116336, 15.8712847447077, 19.382003143994, 19.6380532776992, 21.9166846370379, 20.2247304951827, 22.3058144445896, 17.5610375201384, 17.3042543963273, 20.0959350184282, 18.7289575532754, 18.8614867186228, 19.3157966530005, 19.6380532776992, 19.7690477446397, 17.1717250938892, 20.4199219460964, 17.6273104862054, 18.7952223952293, 16.7824217017174, 20.2902232702255, 19.8345881437937, 16.9066669618765, 16.0617949700038, 18.4059180116336, 19.1258864855448, 20.0959350184282, 17.3705271597385, 18.5964287852923, 18.8614867186228, 19.0596802369436, 16.8404029961109, 18.7952223952293, 20.0959350184282, 17.6852919534524, 16.1943244115194, 18.7952223952293, 22.5680154021263, 18.9939491108735, 17.7515564775149, 19.382003143994, 18.9939491108735, 16.6498923615297, 15.0264126018365, 21.9166846370379, 17.0391967034022, 20.4839895522277, 20.8051827029069, 20.6130619620959, 20.6776380792936, 22.8870214875221, 19.571788560915, 20.4839895522277, 19.7690477446397, 20.2902232702255, 22.2380535538673, 20.9394164875825, 19.1258864855448, 17.1054607029438, 22.500942112573, 18.0166143691222, 16.393117636013, 15.8712847447077, 21.7220476881345, 18.7289575532754, 18.9939491108735, 20.8051827029069, 18.1491432205518, 18.5964287852923, 22.2380535538673, 19.1258864855448, 21.9784083878676, 20.4839895522277, 20.5487740452766, 19.9650769964536, 20.4199219460964, 18.7289575532754, 22.2380535538673, 16.0617949700038, 16.393117636013, 20.3553051030318, 16.6498923615297, 20.3553051030318, 20.8760408774694, 20.3553051030318, 20.9394164875825, 21.066217902867, 21.3264694785754, 19.2500656858762, 19.183867728281, 16.6498923615297, 19.571788560915, 17.884085279274, 20.8051827029069, 21.3264694785754, 23.0207060293039, 20.0302140529633, 21.9784083878676, 21.6513775384108, 22.1771261946042, 22.500942112573, 19.382003143994, 17.7515564775149, 18.7289575532754, 12.4255143439452, 19.183867728281, 19.0596802369436, 21.5249683355967, 17.1717250938892, 19.7690477446397, 20.0302140529633, 19.6380532776992, 21.1997796034495, 20.4199219460964, 22.3731814201355, 19.183867728281, 20.6776380792936, 22.3058144445896, 22.1771261946042, 18.0828788435141, 21.1368089274248, 22.1771261946042, 20.6776380792936, 21.8552495872657, 22.1166095371723, 19.382003143994, 19.8345881437937, 21.0027177707036, 16.9729318952243, 22.2380535538673, 13.9247482116699, 23.0207060293039, 22.4331826444149, 19.4399704372565, 20.5487740452766, 18.7289575532754, 22.5680154021263, 20.0959350184282, 14.7696293945789, 19.7690477446397, 17.1717250938892, 15.1506581779003, 20.3553051030318, 23.4732312516053, 20.6130619620959, 20.2247304951827, 22.7618750210285, 19.9006510948817, 16.8404029961109, 19.571788560915, 19.7036349212805, 18.92775104599, 17.6852919534524, 18.2733895774364, 20.4199219460964, 16.9066669618765, 18.9939491108735, 14.3057690357844, 17.6273104862054, 17.0391967034022, 22.1771261946042, 20.0302140529633, 21.588224962918, 19.3157966530005, 17.6273104862054, 22.3058144445896, 21.1368089274248, 18.6626929874897, 18.5964287852923, 21.1997796034495, 20.4839895522277, 20.5487740452766, 21.7220476881345, 18.7952223952293, 20.4199219460964, 18.0166143691222, 21.7220476881345, 17.8178206439495, 19.5059574440797, 20.4839895522277, 21.3904274459362, 15.3494519527435, 22.5680154021263, 18.5964287852923, 15.6145100787957, 22.0402345037142, 14.6370915627162, 22.3058144445896, 22.3058144445896, 20.4199219460964, 22.4331826444149, 15.6724913036505, 18.3396540518284, 19.4399704372565, 21.588224962918, 18.4059180116336, 17.2379900212765, 22.1166095371723, 18.0166143691222, 23.2107943768978, 18.9939491108735, 21.1368089274248, 22.3731814201355, 19.0596802369436, 22.828373735714, 14.3720336373329, 15.6724913036505, 22.2380535538673, 20.5487740452766, 22.2380535538673, 22.0402345037142, 21.1997796034495, 17.6273104862054, 22.9538397864183, 14.3720336373329, 19.0596802369436, 20.0959350184282, 21.588224962918, 22.1771261946042, 20.1611198540211, 18.2733895774364, 19.571788560915, 13.9827299709797, 16.3268532033443, 21.6513775384108, 22.1771261946042, 18.6626929874897, 22.3731814201355, 22.3058144445896, 16.9729318952243, 20.4839895522277, 22.1771261946042, 19.9650769964536, 20.8760408774694, 15.7387554859797, 15.4157159026146, 18.2733895774364, 17.5610375201384, 15.8050202444871, 21.7848750447909, 22.4331826444149, 15.0843938286781, 19.8345881437937, 22.7618750210285, 23.0207060293039, 24.3224522288322, 24.3224522288322, 24.6466927623431, 24.4476813292185, 24.4476813292185, 21.461793887186, 18.6626929874897, 21.9166846370379, 24.2536350464503, 20.0302140529633, 18.7952223952293, 21.7848750447909, 24.5172455445608, 18.3396540518284, 16.5256462688923, 18.9939491108735, 19.1258864855448, 16.459382110405, 17.7515564775149, 20.0959350184282, 17.3705271597385, 21.7220476881345, 22.8870214875221, 23.0207060293039, 20.2247304951827, 17.6273104862054, 18.5964287852923, 18.9939491108735, 20.5487740452766, 18.2733895774364, 16.3268532033443, 18.0828788435141, 17.8178206439495, 15.0264126018365, 19.382003143994, 18.1491432205518, 18.4059180116336, 19.4399704372565, 17.6273104862054, 22.3058144445896, 17.3042543963273, 17.5610375201384, 19.382003143994, 18.5964287852923, 19.8345881437937, 18.6626929874897, 18.92775104599, 16.8404029961109, 19.1258864855448, 16.2605883872191, 19.4399704372565, 19.6380532776992, 22.9538397864183, 19.0596802369436, 17.3042543963273, 22.1166095371723, 21.1997796034495, 17.6852919534524, 19.0596802369436, 18.0166143691222, 19.9006510948817, 22.8870214875221, 19.5059574440797, 19.0596802369436, 21.3264694785754, 19.3157966530005, 19.0596802369436, 16.459382110405, 22.8870214875221, 20.1611198540211, 19.7036349212805, 18.8614867186228, 16.6498923615297, 20.9394164875825, 23.1522585367839, 17.6273104862054, 17.884085279274, 19.6380532776992, 24.5172455445608, 16.393117636013, 15.6145100787957, 18.4721825535774, 19.571788560915, 20.5487740452766, 17.1717250938892, 20.8760408774694, 20.0302140529633, 16.7824217017174, 17.1717250938892, 20.4199219460964, 17.3705271597385, 14.9601477876981, 18.2154077446143, 19.7036349212805, 18.4721825535774, 16.5836282864888, 17.884085279274, 16.1280594443957, 23.0207060293039, 17.0391967034022, 21.3264694785754, 15.3494519527435, 23.0207060293039, 14.5708271777312, 19.4399704372565, 19.5059574440797, 21.6513775384108, 21.3904274459362, 21.9166846370379, 18.5964287852923, 19.4399704372565, 17.0391967034022, 17.3042543963273, 15.2169227953434, 19.7690477446397, 19.7036349212805, 19.3157966530005, 20.6776380792936, 20.3553051030318, 20.4199219460964, 18.4721825535774, 23.734287893343, 21.066217902867, 18.8614867186228, 21.588224962918, 22.3058144445896, 16.459382110405, 15.9292664960702, 20.3553051030318, 20.2902232702255, 19.5059574440797, 18.4059180116336, 21.9166846370379, 16.5256462688923, 19.5059574440797, 17.3042543963273, 16.5836282864888, 20.3553051030318, 21.0027177707036, 17.6273104862054, 19.8345881437937, 20.4199219460964, 22.1166095371723, 20.4839895522277, 17.4947733537038, 16.7161568855921, 17.2379900212765, 16.1943244115194, 15.6724913036505, 20.5487740452766, 23.805825336345, 20.8760408774694, 15.2831873949051, 20.9394164875825, 20.8051827029069, 18.2154077446143, 17.2379900212765, 17.8178206439495, 18.9939491108735, 20.5487740452766, 19.2500656858762, 19.571788560915, 15.8712847447077, 18.0828788435141, 18.6626929874897, 15.1506581779003, 20.7416711365859, 23.0207060293039, 19.5059574440797, 21.9784083878676, 22.2380535538673, 18.2733895774364, 19.7036349212805, 20.6130619620959, 19.8345881437937, 19.9006510948817, 22.1166095371723, 18.0828788435141, 21.3904274459362, 21.6513775384108, 22.2380535538673, 16.5836282864888, 19.1258864855448, 17.2379900212765, 21.6513775384108, 19.382003143994, 21.588224962918, 19.6380532776992, 19.9650769964536, 20.8051827029069, 20.5487740452766, 22.2380535538673, 18.6626929874897, 21.066217902867, 22.2380535538673, 21.7848750447909, 20.0959350184282, 15.4157159026146, 19.9650769964536, 19.7036349212805, 17.5610375201384, 21.3904274459362, 20.7416711365859, 17.6852919534524, 20.5487740452766, 22.7618750210285, 20.0959350184282, 19.9650769964536, 22.500942112573, 20.2902232702255, 22.1166095371723, 18.92775104599, 19.0596802369436, 20.6130619620959, 19.571788560915, 20.0302140529633, 23.8637943104585, 21.3904274459362, 19.3157966530005, 15.6724913036505, 15.6724913036505, 22.8870214875221, 17.5610375201384, 22.1771261946042, 21.3904274459362, 20.4839895522277, 22.828373735714, 22.500942112573, 19.4399704372565, 19.5059574440797, 19.3157966530005, 18.2733895774364, 15.9955304876645, 18.4721825535774, 22.0402345037142, 21.066217902867, 16.0617949700038, 23.3423831359228, 23.0863358612537, 21.1997796034495, 20.2247304951827, 20.6130619620959, 21.7848750447909, 20.1611198540211, 22.7618750210285, 26.7893773273309, 16.7824217017174, 20.5487740452766, 22.0402345037142, 17.4285086369197, 19.9006510948817, 19.0596802369436, 22.7618750210285, 20.2247304951827, 20.7416711365859, 22.3058144445896, 20.2902232702255, 22.6269574618022, 21.3904274459362, 22.9538397864183, 19.9650769964536, 19.382003143994, 21.7220476881345, 19.8345881437937, 15.2169227953434, 17.884085279274, 21.3264694785754, 16.393117636013, 15.9292664960702, 15.6145100787957, 15.9955304876645, 19.5059574440797, 17.6273104862054, 9.50157676892281, 19.0596802369436, 17.884085279274, 18.4721825535774, 18.7952223952293, 16.3268532033443, 19.9006510948817, 19.4399704372565, 24.6466927623431, 24.6466927623431, 17.4947733537038, 19.1258864855448, 33.87534454422, 24.3873628711383, 18.5964287852923, 33.8092947538376, 20.2247304951827, 33.6139541105112, 24.3224522288322, 15.1506581779003, 18.0166143691222, 20.8760408774694, 20.3553051030318, 20.5487740452766, 20.8051827029069, 22.828373735714, 19.183867728281, 22.4331826444149, 17.884085279274, 20.2247304951827, 21.1997796034495, 18.4059180116336, 20.1611198540211, 21.7848750447909, 20.2902232702255, 17.2379900212765, 18.9939491108735, 19.7036349212805, 22.3731814201355, 20.3553051030318, 21.9784083878676, 16.7824217017174, 20.5487740452766, 19.8345881437937, 22.9538397864183, 18.2733895774364, 17.0391967034022, 19.3157966530005, 18.5964287852923, 17.2379900212765, 21.9166846370379, 22.6269574618022, 21.7220476881345, 22.6269574618022, 21.3264694785754, 19.9006510948817, 20.2247304951827, 18.3396540518284, 19.183867728281, 19.7036349212805, 20.3553051030318, 18.8614867186228, 17.6852919534524, 17.1717250938892, 19.9650769964536, 19.1258864855448, 19.4399704372565, 23.3423831359228, 17.2379900212765, 17.5610375201384, 22.3731814201355, 18.0828788435141, 20.8051827029069, 19.4399704372565, 18.1491432205518, 19.1258864855448, 19.8345881437937, 22.7618750210285, 20.2247304951827, 18.8614867186228, 16.5836282864888, 18.92775104599, 16.6498923615297, 20.2247304951827, 20.4839895522277, 23.5455963706652, 22.6944710528533, 16.393117636013, 18.5964287852923, 21.588224962918, 19.7036349212805, 20.0302140529633, 20.2902232702255, 23.0863358612537, 18.2733895774364, 21.7848750447909, 22.6269574618022, 15.1506581779003, 17.1717250938892, 18.7289575532754, 21.9784083878676, 17.1054607029438, 19.8345881437937, 20.4839895522277, 22.3058144445896, 21.3904274459362, 22.8870214875221, 20.8051827029069, 20.4199219460964, 18.5301646526337, 16.3268532033443, 19.571788560915, 21.7848750447909, 17.6852919534524, 18.6626929874897, 16.1943244115194, 19.8345881437937, 23.2843933041573, 20.3553051030318, 20.8760408774694, 22.828373735714, 22.7618750210285, 21.066217902867, 15.7387554859797, 17.4285086369197, 19.6380532776992, 17.8178206439495, 20.9394164875825, 22.1771261946042, 23.734287893343, 18.4721825535774, 22.2380535538673, 22.9538397864183, 23.6766401525021, 20.9394164875825, 18.4721825535774, 19.382003143994, 20.2247304951827, 18.8614867186228, 20.9394164875825, 19.9006510948817, 18.2154077446143, 19.8345881437937, 22.1771261946042, 21.7220476881345, 22.4331826444149, 21.3264694785754, 23.8637943104585, 20.8760408774694, 21.9166846370379, 20.0302140529633, 18.3396540518284, 19.1258864855448, 18.7289575532754, 23.2843933041573, 20.7416711365859, 21.8552495872657, 20.6776380792936, 23.1522585367839, 19.9006510948817, 21.1368089274248, 23.0863358612537, 19.0596802369436, 20.7416711365859, 21.6513775384108, 22.828373735714, 21.8552495872657, 22.7618750210285, 22.4331826444149, 18.7952223952293, 19.9006510948817, 21.1368089274248, 22.2380535538673, 22.1771261946042, 20.9394164875825, 23.4153719361305, 23.2843933041573, 15.7387554859797, 20.3553051030318, 22.7618750210285, 21.5249683355967, 23.0207060293039, 21.6513775384108, 21.7848750447909, 21.1997796034495, 22.5680154021263, 20.3553051030318, 20.4199219460964, 23.1522585367839, 18.2154077446143, 19.8345881437937, 22.3731814201355, 17.3042543963273, 22.1166095371723, 22.9538397864183, 22.3058144445896, 22.5680154021263, 18.9939491108735, 21.9784083878676, 16.6498923615297, 17.4285086369197, 19.0596802369436, 24.3873628711383, 19.1258864855448, 20.0302140529633, 17.7515564775149, 21.9784083878676, 18.7289575532754, 20.6776380792936, 24.3873628711383, 23.734287893343, 19.7690477446397, 20.8051827029069, 21.1368089274248, 21.3264694785754, 18.0828788435141, 20.3553051030318, 34.7190695360978, 21.9166846370379, 23.3423831359228, 19.4399704372565, 16.459382110405, 21.8552495872657, 20.6776380792936, 18.0166143691222, 17.3042543963273, 20.6776380792936, 18.9939491108735, 22.1166095371723, 23.1522585367839, 20.5487740452766, 20.2247304951827, 19.1258864855448, 21.461793887186, 20.2902232702255, 19.8345881437937, 20.1611198540211, 20.2247304951827, 21.1368089274248, 23.4153719361305, 19.6380532776992, 20.1611198540211, 23.734287893343, 22.1166095371723, 18.7952223952293, 18.5964287852923, 23.4732312516053, 24.6466927623431, 23.1522585367839, 20.8051827029069, 18.7289575532754, 18.92775104599, 23.6036679104646, 19.3157966530005, 20.9394164875825, 23.1522585367839, 21.9166846370379, 19.7036349212805, 19.9006510948817, 19.6380532776992, 20.8051827029069, 20.5487740452766, 24.8393232361158, 33.0278791363716, 20.3553051030318, 19.571788560915, 19.4399704372565, 21.7220476881345, 17.5610375201384, 18.1491432205518, 19.0596802369436, 22.7618750210285, 16.459382110405, 19.5059574440797, 23.3423831359228, 19.3157966530005, 20.8051827029069, 19.6380532776992, 19.3157966530005, 22.5680154021263, 19.9650769964536, 21.7220476881345, 20.8760408774694, 20.2247304951827, 15.0843938286781, 19.7690477446397, 21.5249683355967, 20.8760408774694, 20.0959350184282, 18.5301646526337, 22.1166095371723, 21.9784083878676, 19.8345881437937, 22.3731814201355, 18.1491432205518, 19.183867728281, 22.1771261946042, 21.1997796034495, 20.8051827029069, 23.8637943104585, 18.8614867186228, 21.9784083878676, 23.4153719361305, 19.3157966530005, 23.0207060293039, 15.4819806690693, 23.0207060293039, 23.2843933041573, 21.461793887186, 20.3553051030318, 22.1166095371723, 21.2630911028067, 17.4947733537038, 21.461793887186, 21.7848750447909, 18.9939491108735, 22.7618750210285, 22.828373735714, 20.6776380792936, 18.2733895774364, 19.9650769964536, 21.1368089274248, 23.4732312516053, 18.7289575532754, 17.884085279274, 22.1166095371723, 20.0959350184282, 29.6445156371276, 16.3268532033443, 22.0402345037142, 18.8614867186228, 16.1280594443957, 17.884085279274, 19.9650769964536, 20.4199219460964, 14.8938751037598, 22.3058144445896, 23.4732312516053, 17.884085279274, 22.1771261946042, 21.1997796034495, 18.7289575532754, 20.9394164875825, 21.5249683355967, 19.382003143994, 18.5964287852923, 24.3873628711383, 16.1280594443957, 24.3873628711383, 24.4476813292185, 14.5045633709113, 18.7289575532754, 21.588224962918, 19.7690477446397, 21.3264694785754, 16.6498923615297, 19.183867728281, 21.9166846370379, 21.1997796034495, 20.3553051030318, 22.6944710528533, 19.4399704372565, 19.571788560915, 22.7618750210285, 16.9729318952243, 22.2380535538673, 19.4399704372565, 19.0596802369436, 22.3731814201355, 18.9939491108735, 20.0302140529633, 21.3264694785754, 19.183867728281, 20.0302140529633, 20.6776380792936, 20.9394164875825, 18.8614867186228, 20.3553051030318, 18.7952223952293, 22.1166095371723, 15.5482454375108, 23.0863358612537, 20.6130619620959, 18.92775104599, 18.4059180116336, 18.0166143691222, 22.5680154021263, 17.7515564775149, 22.6269574618022, 21.3904274459362, 23.4153719361305, 23.6766401525021, 21.461793887186, 23.6036679104646, 19.5059574440797, 17.3705271597385, 19.7036349212805, 23.8637943104585, 20.2247304951827, 21.9784083878676, 20.0302140529633, 22.4331826444149, 19.5059574440797, 21.461793887186, 21.7220476881345, 20.8051827029069, 16.9729318952243, 22.0402345037142, 14.8276105041981, 22.3731814201355, 20.8760408774694, 20.4199219460964, 22.1166095371723, 21.5249683355967, 22.1771261946042, 22.4331826444149, 18.0828788435141, 20.8760408774694, 20.0959350184282, 22.3058144445896, 17.0391967034022, 21.9784083878676, 21.1997796034495, 21.0027177707036, 21.0027177707036], \"yaxis\": \"y\"}],                        {\"legend\": {\"tracegroupgap\": 0}, \"margin\": {\"t\": 60}, \"template\": {\"data\": {\"bar\": [{\"error_x\": {\"color\": \"#2a3f5f\"}, \"error_y\": {\"color\": \"#2a3f5f\"}, \"marker\": {\"line\": {\"color\": \"#E5ECF6\", \"width\": 0.5}}, \"type\": \"bar\"}], \"barpolar\": [{\"marker\": {\"line\": {\"color\": \"#E5ECF6\", \"width\": 0.5}}, \"type\": \"barpolar\"}], \"carpet\": [{\"aaxis\": {\"endlinecolor\": \"#2a3f5f\", \"gridcolor\": \"white\", \"linecolor\": \"white\", \"minorgridcolor\": \"white\", \"startlinecolor\": \"#2a3f5f\"}, \"baxis\": {\"endlinecolor\": \"#2a3f5f\", \"gridcolor\": \"white\", \"linecolor\": \"white\", \"minorgridcolor\": \"white\", \"startlinecolor\": \"#2a3f5f\"}, \"type\": \"carpet\"}], \"choropleth\": [{\"colorbar\": {\"outlinewidth\": 0, \"ticks\": \"\"}, \"type\": \"choropleth\"}], \"contour\": [{\"colorbar\": {\"outlinewidth\": 0, \"ticks\": \"\"}, \"colorscale\": [[0.0, \"#0d0887\"], [0.1111111111111111, \"#46039f\"], [0.2222222222222222, \"#7201a8\"], [0.3333333333333333, \"#9c179e\"], [0.4444444444444444, \"#bd3786\"], [0.5555555555555556, \"#d8576b\"], [0.6666666666666666, \"#ed7953\"], [0.7777777777777778, \"#fb9f3a\"], [0.8888888888888888, \"#fdca26\"], [1.0, \"#f0f921\"]], \"type\": \"contour\"}], \"contourcarpet\": [{\"colorbar\": {\"outlinewidth\": 0, \"ticks\": \"\"}, \"type\": \"contourcarpet\"}], \"heatmap\": [{\"colorbar\": {\"outlinewidth\": 0, \"ticks\": \"\"}, \"colorscale\": [[0.0, \"#0d0887\"], [0.1111111111111111, \"#46039f\"], [0.2222222222222222, \"#7201a8\"], [0.3333333333333333, \"#9c179e\"], [0.4444444444444444, \"#bd3786\"], [0.5555555555555556, \"#d8576b\"], [0.6666666666666666, \"#ed7953\"], [0.7777777777777778, \"#fb9f3a\"], [0.8888888888888888, \"#fdca26\"], [1.0, \"#f0f921\"]], \"type\": \"heatmap\"}], \"heatmapgl\": [{\"colorbar\": {\"outlinewidth\": 0, \"ticks\": \"\"}, \"colorscale\": [[0.0, \"#0d0887\"], [0.1111111111111111, \"#46039f\"], [0.2222222222222222, \"#7201a8\"], [0.3333333333333333, \"#9c179e\"], [0.4444444444444444, \"#bd3786\"], [0.5555555555555556, \"#d8576b\"], [0.6666666666666666, \"#ed7953\"], [0.7777777777777778, \"#fb9f3a\"], [0.8888888888888888, \"#fdca26\"], [1.0, \"#f0f921\"]], \"type\": \"heatmapgl\"}], \"histogram\": [{\"marker\": {\"colorbar\": {\"outlinewidth\": 0, \"ticks\": \"\"}}, \"type\": \"histogram\"}], \"histogram2d\": [{\"colorbar\": {\"outlinewidth\": 0, \"ticks\": \"\"}, \"colorscale\": [[0.0, \"#0d0887\"], [0.1111111111111111, \"#46039f\"], [0.2222222222222222, \"#7201a8\"], [0.3333333333333333, \"#9c179e\"], [0.4444444444444444, \"#bd3786\"], [0.5555555555555556, \"#d8576b\"], [0.6666666666666666, \"#ed7953\"], [0.7777777777777778, \"#fb9f3a\"], [0.8888888888888888, \"#fdca26\"], [1.0, \"#f0f921\"]], \"type\": \"histogram2d\"}], \"histogram2dcontour\": [{\"colorbar\": {\"outlinewidth\": 0, \"ticks\": \"\"}, \"colorscale\": [[0.0, \"#0d0887\"], [0.1111111111111111, \"#46039f\"], [0.2222222222222222, \"#7201a8\"], [0.3333333333333333, \"#9c179e\"], [0.4444444444444444, \"#bd3786\"], [0.5555555555555556, \"#d8576b\"], [0.6666666666666666, \"#ed7953\"], [0.7777777777777778, \"#fb9f3a\"], [0.8888888888888888, \"#fdca26\"], [1.0, \"#f0f921\"]], \"type\": \"histogram2dcontour\"}], \"mesh3d\": [{\"colorbar\": {\"outlinewidth\": 0, \"ticks\": \"\"}, \"type\": \"mesh3d\"}], \"parcoords\": [{\"line\": {\"colorbar\": {\"outlinewidth\": 0, \"ticks\": \"\"}}, \"type\": \"parcoords\"}], \"pie\": [{\"automargin\": true, \"type\": \"pie\"}], \"scatter\": [{\"marker\": {\"colorbar\": {\"outlinewidth\": 0, \"ticks\": \"\"}}, \"type\": \"scatter\"}], \"scatter3d\": [{\"line\": {\"colorbar\": {\"outlinewidth\": 0, \"ticks\": \"\"}}, \"marker\": {\"colorbar\": {\"outlinewidth\": 0, \"ticks\": \"\"}}, \"type\": \"scatter3d\"}], \"scattercarpet\": [{\"marker\": {\"colorbar\": {\"outlinewidth\": 0, \"ticks\": \"\"}}, \"type\": \"scattercarpet\"}], \"scattergeo\": [{\"marker\": {\"colorbar\": {\"outlinewidth\": 0, \"ticks\": \"\"}}, \"type\": \"scattergeo\"}], \"scattergl\": [{\"marker\": {\"colorbar\": {\"outlinewidth\": 0, \"ticks\": \"\"}}, \"type\": \"scattergl\"}], \"scattermapbox\": [{\"marker\": {\"colorbar\": {\"outlinewidth\": 0, \"ticks\": \"\"}}, \"type\": \"scattermapbox\"}], \"scatterpolar\": [{\"marker\": {\"colorbar\": {\"outlinewidth\": 0, \"ticks\": \"\"}}, \"type\": \"scatterpolar\"}], \"scatterpolargl\": [{\"marker\": {\"colorbar\": {\"outlinewidth\": 0, \"ticks\": \"\"}}, \"type\": \"scatterpolargl\"}], \"scatterternary\": [{\"marker\": {\"colorbar\": {\"outlinewidth\": 0, \"ticks\": \"\"}}, \"type\": \"scatterternary\"}], \"surface\": [{\"colorbar\": {\"outlinewidth\": 0, \"ticks\": \"\"}, \"colorscale\": [[0.0, \"#0d0887\"], [0.1111111111111111, \"#46039f\"], [0.2222222222222222, \"#7201a8\"], [0.3333333333333333, \"#9c179e\"], [0.4444444444444444, \"#bd3786\"], [0.5555555555555556, \"#d8576b\"], [0.6666666666666666, \"#ed7953\"], [0.7777777777777778, \"#fb9f3a\"], [0.8888888888888888, \"#fdca26\"], [1.0, \"#f0f921\"]], \"type\": \"surface\"}], \"table\": [{\"cells\": {\"fill\": {\"color\": \"#EBF0F8\"}, \"line\": {\"color\": \"white\"}}, \"header\": {\"fill\": {\"color\": \"#C8D4E3\"}, \"line\": {\"color\": \"white\"}}, \"type\": \"table\"}]}, \"layout\": {\"annotationdefaults\": {\"arrowcolor\": \"#2a3f5f\", \"arrowhead\": 0, \"arrowwidth\": 1}, \"autotypenumbers\": \"strict\", \"coloraxis\": {\"colorbar\": {\"outlinewidth\": 0, \"ticks\": \"\"}}, \"colorscale\": {\"diverging\": [[0, \"#8e0152\"], [0.1, \"#c51b7d\"], [0.2, \"#de77ae\"], [0.3, \"#f1b6da\"], [0.4, \"#fde0ef\"], [0.5, \"#f7f7f7\"], [0.6, \"#e6f5d0\"], [0.7, \"#b8e186\"], [0.8, \"#7fbc41\"], [0.9, \"#4d9221\"], [1, \"#276419\"]], \"sequential\": [[0.0, \"#0d0887\"], [0.1111111111111111, \"#46039f\"], [0.2222222222222222, \"#7201a8\"], [0.3333333333333333, \"#9c179e\"], [0.4444444444444444, \"#bd3786\"], [0.5555555555555556, \"#d8576b\"], [0.6666666666666666, \"#ed7953\"], [0.7777777777777778, \"#fb9f3a\"], [0.8888888888888888, \"#fdca26\"], [1.0, \"#f0f921\"]], \"sequentialminus\": [[0.0, \"#0d0887\"], [0.1111111111111111, \"#46039f\"], [0.2222222222222222, \"#7201a8\"], [0.3333333333333333, \"#9c179e\"], [0.4444444444444444, \"#bd3786\"], [0.5555555555555556, \"#d8576b\"], [0.6666666666666666, \"#ed7953\"], [0.7777777777777778, \"#fb9f3a\"], [0.8888888888888888, \"#fdca26\"], [1.0, \"#f0f921\"]]}, \"colorway\": [\"#636efa\", \"#EF553B\", \"#00cc96\", \"#ab63fa\", \"#FFA15A\", \"#19d3f3\", \"#FF6692\", \"#B6E880\", \"#FF97FF\", \"#FECB52\"], \"font\": {\"color\": \"#2a3f5f\"}, \"geo\": {\"bgcolor\": \"white\", \"lakecolor\": \"white\", \"landcolor\": \"#E5ECF6\", \"showlakes\": true, \"showland\": true, \"subunitcolor\": \"white\"}, \"hoverlabel\": {\"align\": \"left\"}, \"hovermode\": \"closest\", \"mapbox\": {\"style\": \"light\"}, \"paper_bgcolor\": \"white\", \"plot_bgcolor\": \"#E5ECF6\", \"polar\": {\"angularaxis\": {\"gridcolor\": \"white\", \"linecolor\": \"white\", \"ticks\": \"\"}, \"bgcolor\": \"#E5ECF6\", \"radialaxis\": {\"gridcolor\": \"white\", \"linecolor\": \"white\", \"ticks\": \"\"}}, \"scene\": {\"xaxis\": {\"backgroundcolor\": \"#E5ECF6\", \"gridcolor\": \"white\", \"gridwidth\": 2, \"linecolor\": \"white\", \"showbackground\": true, \"ticks\": \"\", \"zerolinecolor\": \"white\"}, \"yaxis\": {\"backgroundcolor\": \"#E5ECF6\", \"gridcolor\": \"white\", \"gridwidth\": 2, \"linecolor\": \"white\", \"showbackground\": true, \"ticks\": \"\", \"zerolinecolor\": \"white\"}, \"zaxis\": {\"backgroundcolor\": \"#E5ECF6\", \"gridcolor\": \"white\", \"gridwidth\": 2, \"linecolor\": \"white\", \"showbackground\": true, \"ticks\": \"\", \"zerolinecolor\": \"white\"}}, \"shapedefaults\": {\"line\": {\"color\": \"#2a3f5f\"}}, \"ternary\": {\"aaxis\": {\"gridcolor\": \"white\", \"linecolor\": \"white\", \"ticks\": \"\"}, \"baxis\": {\"gridcolor\": \"white\", \"linecolor\": \"white\", \"ticks\": \"\"}, \"bgcolor\": \"#E5ECF6\", \"caxis\": {\"gridcolor\": \"white\", \"linecolor\": \"white\", \"ticks\": \"\"}}, \"title\": {\"x\": 0.05}, \"xaxis\": {\"automargin\": true, \"gridcolor\": \"white\", \"linecolor\": \"white\", \"ticks\": \"\", \"title\": {\"standoff\": 15}, \"zerolinecolor\": \"white\", \"zerolinewidth\": 2}, \"yaxis\": {\"automargin\": true, \"gridcolor\": \"white\", \"linecolor\": \"white\", \"ticks\": \"\", \"title\": {\"standoff\": 15}, \"zerolinecolor\": \"white\", \"zerolinewidth\": 2}}}, \"xaxis\": {\"anchor\": \"y\", \"domain\": [0.0, 1.0], \"title\": {\"text\": \"Mass\"}}, \"yaxis\": {\"anchor\": \"x\", \"domain\": [0.0, 1.0], \"title\": {\"text\": \"RT\"}}},                        {\"responsive\": true}                    ).then(function(){\n",
       "                            \n",
       "var gd = document.getElementById('c866d089-2f8b-48eb-9555-68489b70e359');\n",
       "var x = new MutationObserver(function (mutations, observer) {{\n",
       "        var display = window.getComputedStyle(gd).display;\n",
       "        if (!display || display === 'none') {{\n",
       "            console.log([gd, 'removed!']);\n",
       "            Plotly.purge(gd);\n",
       "            observer.disconnect();\n",
       "        }}\n",
       "}});\n",
       "\n",
       "// Listen for the removal of the full notebook cells\n",
       "var notebookContainer = gd.closest('#notebook-container');\n",
       "if (notebookContainer) {{\n",
       "    x.observe(notebookContainer, {childList: true});\n",
       "}}\n",
       "\n",
       "// Listen for the clearing of the current output cell\n",
       "var outputEl = gd.closest('.output');\n",
       "if (outputEl) {{\n",
       "    x.observe(outputEl, {childList: true});\n",
       "}}\n",
       "\n",
       "                        })                };                });            </script>        </div>"
      ]
     },
     "metadata": {},
     "output_type": "display_data"
    }
   ],
   "source": [
    "# plotly_zones(dfm_l, dfm_r)\n",
    "# plotly_zone(dfm_mock)\n",
    "# plotly_zone(dfm_rsv)\n",
    "plotly_zone(dfm_shifts)"
   ]
  },
  {
   "cell_type": "code",
   "execution_count": 70,
   "id": "interpreted-image",
   "metadata": {},
   "outputs": [
    {
     "data": {
      "text/plain": [
       "(160, 5)"
      ]
     },
     "execution_count": 70,
     "metadata": {},
     "output_type": "execute_result"
    }
   ],
   "source": [
    "dfm_l.shape"
   ]
  },
  {
   "cell_type": "code",
   "execution_count": 71,
   "id": "palestinian-transsexual",
   "metadata": {},
   "outputs": [
    {
     "name": "stdout",
     "output_type": "stream",
     "text": [
      "mass_x (160,) mass_y (160,)\n"
     ]
    },
    {
     "data": {
      "application/vnd.plotly.v1+json": {
       "config": {
        "plotlyServerURL": "https://plot.ly"
       },
       "data": [
        {
         "mode": "markers",
         "type": "scatter",
         "x": [
          11718.5160247681,
          10744.3489280577,
          10438.3098685293,
          8336.10118716321,
          5839.79204008722,
          5831.78420473764,
          7171.97251510033,
          7591.05845019696,
          8037.12464165444,
          13535.8237725521,
          13868.8914807039,
          5854.7963399206,
          6145.82534691583,
          6451.87055549471,
          13353.7818459934,
          6190.83355844234,
          8665.1634114268,
          9377.23496146274,
          6199.8560456788,
          5576.75637367364,
          7729.03853690075,
          6530.80293061068,
          7911.06966816871,
          8097.0861398044,
          7076.94867216073,
          10757.3970799225,
          8619.23915235516,
          7501.02569293947,
          7427.99921506927,
          6165.83010537485,
          15520.0629739331,
          6838.85948395459,
          8754.18865525277,
          5853.7932010007,
          7166.96963438087,
          14072.9553710697,
          8668.16282057488,
          6842.8912140299,
          8403.1315904093,
          5895.82477845286,
          8776.12148004742,
          6209.85255397977,
          6231.85424128499,
          6896.93558759313,
          6498.89694911528,
          8348.11163222501,
          12063.6260740521,
          5805.75375537004,
          6111.81216189706,
          6537.90490550616,
          7119.95081839478,
          5866.78103449588,
          7532.96727556512,
          8448.14885120842,
          9696.22500181452,
          10650.4197443325,
          6813.90871394293,
          11418.5220720094,
          8072.0697533008,
          14431.9866194117,
          13659.8137577343,
          10956.4936416657,
          9309.24347413471,
          7465.00152177818,
          7473.00700696938,
          11040.3695127716,
          8950.17576535936,
          9135.15641269136,
          8805.11296795328,
          9124.20391196655,
          6515.85429370564,
          15840.1619012244,
          8314.11793119235,
          6733.89922822815
         ],
         "y": [
          21.6945120012442,
          21.2000925755183,
          21.0146775757949,
          19.5737146353404,
          16.6343759174824,
          16.5700603758971,
          18.5775535599073,
          18.8867167170525,
          19.0160387273312,
          22.386297426192,
          22.2642926350911,
          16.5700603758971,
          17.1317640181065,
          17.6366789277077,
          22.386297426192,
          17.1317640181065,
          19.5737146353404,
          20.3189699923674,
          17.1317640181065,
          16.5700603758971,
          19.0160387273312,
          18.0787337418079,
          19.0755901769479,
          19.5042967434406,
          18.3284182663441,
          21.2610000010014,
          19.0755901769479,
          19.1364472086906,
          18.7668556010405,
          16.942514925766,
          22.8818772113005,
          18.1957631841977,
          19.9435985521158,
          16.8164789513429,
          18.2621249691327,
          22.449368192323,
          19.9435985521158,
          18.1375566339175,
          20.0128573254426,
          17.2566976443609,
          20.0128573254426,
          17.4495710110346,
          17.5699597096125,
          18.2621249691327,
          17.8265319184144,
          19.9435985521158,
          21.8897603924751,
          16.5700603758971,
          17.068218910265,
          17.8844870523294,
          18.4452998772939,
          16.6981861348629,
          18.6931291854064,
          19.6945794021765,
          21.0146775757949,
          21.1333783165296,
          17.8844870523294,
          21.5078179752509,
          19.3228563026269,
          22.6334935104529,
          22.5129782016754,
          20.9465231434186,
          20.3844797924836,
          18.8272398109913,
          19.0160387273312,
          21.2610000010014,
          20.0696192498684,
          20.26129898386,
          20.1349507764657,
          20.26129898386,
          17.7597769017696,
          23.0773804859002,
          19.7585523760001,
          18.6351309752146
         ]
        },
        {
         "line": {
          "color": "pink"
         },
         "mode": "lines+markers",
         "name": "C",
         "type": "scatter",
         "x": [
          6842.8912140299,
          6537.90490550616
         ],
         "y": [
          18.1375566339175,
          17.8844870523294
         ]
        },
        {
         "line": {
          "color": "pink"
         },
         "mode": "lines+markers",
         "name": "C",
         "type": "scatter",
         "x": [
          8619.23915235516,
          8314.11793119235
         ],
         "y": [
          19.0755901769479,
          19.7585523760001
         ]
        },
        {
         "line": {
          "color": "pink"
         },
         "mode": "lines+markers",
         "name": "A",
         "type": "scatter",
         "x": [
          7171.97251510033,
          6842.8912140299
         ],
         "y": [
          18.5775535599073,
          18.1375566339175
         ]
        },
        {
         "line": {
          "color": "pink"
         },
         "mode": "lines+markers",
         "name": "A",
         "type": "scatter",
         "x": [
          7171.97251510033,
          7501.02569293947
         ],
         "y": [
          18.5775535599073,
          19.1364472086906
         ]
        },
        {
         "line": {
          "color": "pink"
         },
         "mode": "lines+markers",
         "name": "A",
         "type": "scatter",
         "x": [
          8336.10118716321,
          8665.1634114268
         ],
         "y": [
          19.5737146353404,
          19.5737146353404
         ]
        },
        {
         "line": {
          "color": "pink"
         },
         "mode": "lines+markers",
         "name": "G",
         "type": "scatter",
         "x": [
          5854.7963399206,
          6199.8560456788
         ],
         "y": [
          16.5700603758971,
          17.1317640181065
         ]
        },
        {
         "line": {
          "color": "pink"
         },
         "mode": "lines+markers",
         "name": "G",
         "type": "scatter",
         "x": [
          11718.5160247681,
          12063.6260740521
         ],
         "y": [
          21.6945120012442,
          21.8897603924751
         ]
        },
        {
         "line": {
          "color": "pink"
         },
         "mode": "lines+markers",
         "name": "G",
         "type": "scatter",
         "x": [
          7119.95081839478,
          7465.00152177818
         ],
         "y": [
          18.4452998772939,
          18.8272398109913
         ]
        },
        {
         "line": {
          "color": "pink"
         },
         "mode": "lines+markers",
         "name": "U",
         "type": "scatter",
         "x": [
          10744.3489280577,
          10438.3098685293
         ],
         "y": [
          21.2000925755183,
          21.0146775757949
         ]
        },
        {
         "line": {
          "color": "pink"
         },
         "mode": "lines+markers",
         "name": "U",
         "type": "scatter",
         "x": [
          5839.79204008722,
          6145.82534691583
         ],
         "y": [
          16.6343759174824,
          17.1317640181065
         ]
        },
        {
         "line": {
          "color": "pink"
         },
         "mode": "lines+markers",
         "name": "U",
         "type": "scatter",
         "x": [
          6145.82534691583,
          6451.87055549471
         ],
         "y": [
          17.1317640181065,
          17.6366789277077
         ]
        },
        {
         "line": {
          "color": "pink"
         },
         "mode": "lines+markers",
         "name": "U",
         "type": "scatter",
         "x": [
          8754.18865525277,
          8448.14885120842
         ],
         "y": [
          19.9435985521158,
          19.6945794021765
         ]
        },
        {
         "line": {
          "color": "pink"
         },
         "mode": "lines+markers",
         "name": "U",
         "type": "scatter",
         "x": [
          8097.0861398044,
          8403.1315904093
         ],
         "y": [
          19.5042967434406,
          20.0128573254426
         ]
        },
        {
         "line": {
          "color": "pink"
         },
         "mode": "lines+markers",
         "name": "U",
         "type": "scatter",
         "x": [
          5805.75375537004,
          6111.81216189706
         ],
         "y": [
          16.5700603758971,
          17.068218910265
         ]
        },
        {
         "line": {
          "color": "pink"
         },
         "mode": "lines+markers",
         "name": "U",
         "type": "scatter",
         "x": [
          6231.85424128499,
          6537.90490550616
         ],
         "y": [
          17.5699597096125,
          17.8844870523294
         ]
        },
        {
         "line": {
          "color": "pink"
         },
         "mode": "lines+markers",
         "name": "U",
         "type": "scatter",
         "x": [
          7119.95081839478,
          6813.90871394293
         ],
         "y": [
          18.4452998772939,
          17.8844870523294
         ]
        },
        {
         "line": {
          "color": "pink"
         },
         "mode": "lines+markers",
         "name": "U",
         "type": "scatter",
         "x": [
          13353.7818459934,
          13659.8137577343
         ],
         "y": [
          22.386297426192,
          22.5129782016754
         ]
        },
        {
         "line": {
          "color": "pink"
         },
         "mode": "lines+markers",
         "name": "U",
         "type": "scatter",
         "x": [
          10650.4197443325,
          10956.4936416657
         ],
         "y": [
          21.1333783165296,
          20.9465231434186
         ]
        },
        {
         "line": {
          "color": "pink"
         },
         "mode": "lines+markers",
         "name": "U",
         "type": "scatter",
         "x": [
          7166.96963438087,
          7473.00700696938
         ],
         "y": [
          18.2621249691327,
          19.0160387273312
         ]
        },
        {
         "line": {
          "color": "pink"
         },
         "mode": "lines+markers",
         "name": "U",
         "type": "scatter",
         "x": [
          6209.85255397977,
          6515.85429370564
         ],
         "y": [
          17.4495710110346,
          17.7597769017696
         ]
        },
        {
         "line": {
          "color": "pink"
         },
         "mode": "lines+markers",
         "name": "mG",
         "type": "scatter",
         "x": [
          5831.78420473764,
          6190.83355844234
         ],
         "y": [
          16.5700603758971,
          17.1317640181065
         ]
        },
        {
         "line": {
          "color": "pink"
         },
         "mode": "lines+markers",
         "name": "mG",
         "type": "scatter",
         "x": [
          6896.93558759313,
          6537.90490550616
         ],
         "y": [
          18.2621249691327,
          17.8844870523294
         ]
        },
        {
         "line": {
          "color": "pink"
         },
         "mode": "lines+markers",
         "name": "mG",
         "type": "scatter",
         "x": [
          14072.9553710697,
          14431.9866194117
         ],
         "y": [
          22.449368192323,
          22.6334935104529
         ]
        },
        {
         "line": {
          "color": "pink"
         },
         "mode": "lines+markers",
         "name": "mG",
         "type": "scatter",
         "x": [
          9309.24347413471,
          8950.17576535936
         ],
         "y": [
          20.3844797924836,
          20.0696192498684
         ]
        },
        {
         "line": {
          "color": "pink"
         },
         "mode": "lines+markers",
         "name": "mG",
         "type": "scatter",
         "x": [
          8776.12148004742,
          9135.15641269136
         ],
         "y": [
          20.0128573254426,
          20.26129898386
         ]
        },
        {
         "line": {
          "color": "pink"
         },
         "mode": "lines+markers",
         "name": "D",
         "type": "scatter",
         "x": [
          8037.12464165444,
          7729.03853690075
         ],
         "y": [
          19.0160387273312,
          19.0160387273312
         ]
        },
        {
         "line": {
          "color": "pink"
         },
         "mode": "lines+markers",
         "name": "D",
         "type": "scatter",
         "x": [
          7427.99921506927,
          7119.95081839478
         ],
         "y": [
          18.7668556010405,
          18.4452998772939
         ]
        },
        {
         "line": {
          "color": "pink"
         },
         "mode": "lines+markers",
         "name": "D",
         "type": "scatter",
         "x": [
          6530.80293061068,
          6838.85948395459
         ],
         "y": [
          18.0787337418079,
          18.1957631841977
         ]
        },
        {
         "line": {
          "color": "pink"
         },
         "mode": "lines+markers",
         "name": "D",
         "type": "scatter",
         "x": [
          6190.83355844234,
          6498.89694911528
         ],
         "y": [
          17.1317640181065,
          17.8265319184144
         ]
        },
        {
         "line": {
          "color": "pink"
         },
         "mode": "lines+markers",
         "name": "mC",
         "type": "scatter",
         "x": [
          10438.3098685293,
          10757.3970799225
         ],
         "y": [
          21.0146775757949,
          21.2610000010014
         ]
        },
        {
         "line": {
          "color": "pink"
         },
         "mode": "lines+markers",
         "name": "mC",
         "type": "scatter",
         "x": [
          5576.75637367364,
          5895.82477845286
         ],
         "y": [
          16.5700603758971,
          17.2566976443609
         ]
        },
        {
         "line": {
          "color": "pink"
         },
         "mode": "lines+markers",
         "name": "mC",
         "type": "scatter",
         "x": [
          9377.23496146274,
          9696.22500181452
         ],
         "y": [
          20.3189699923674,
          21.0146775757949
         ]
        },
        {
         "line": {
          "color": "pink"
         },
         "mode": "lines+markers",
         "name": "mC",
         "type": "scatter",
         "x": [
          8805.11296795328,
          9124.20391196655
         ],
         "y": [
          20.1349507764657,
          20.26129898386
         ]
        },
        {
         "line": {
          "color": "pink"
         },
         "mode": "lines+markers",
         "name": "mU",
         "type": "scatter",
         "x": [
          8668.16282057488,
          8348.11163222501
         ],
         "y": [
          19.9435985521158,
          19.9435985521158
         ]
        },
        {
         "line": {
          "color": "pink"
         },
         "mode": "lines+markers",
         "name": "mU",
         "type": "scatter",
         "x": [
          15520.0629739331,
          15840.1619012244
         ],
         "y": [
          22.8818772113005,
          23.0773804859002
         ]
        },
        {
         "line": {
          "color": "pink"
         },
         "mode": "lines+markers",
         "name": "mU",
         "type": "scatter",
         "x": [
          7591.05845019696,
          7911.06966816871
         ],
         "y": [
          18.8867167170525,
          19.0755901769479
         ]
        },
        {
         "line": {
          "color": "pink"
         },
         "mode": "lines+markers",
         "name": "mA",
         "type": "scatter",
         "x": [
          7729.03853690075,
          8072.0697533008
         ],
         "y": [
          19.0160387273312,
          19.3228563026269
         ]
        },
        {
         "line": {
          "color": "pink"
         },
         "mode": "lines+markers",
         "name": "mA",
         "type": "scatter",
         "x": [
          7076.94867216073,
          6733.89922822815
         ],
         "y": [
          18.3284182663441,
          18.6351309752146
         ]
        },
        {
         "line": {
          "color": "pink"
         },
         "mode": "lines+markers",
         "name": "mA",
         "type": "scatter",
         "x": [
          6209.85255397977,
          5866.78103449588
         ],
         "y": [
          17.4495710110346,
          16.6981861348629
         ]
        },
        {
         "line": {
          "color": "pink"
         },
         "mode": "lines+markers",
         "name": "m22C",
         "type": "scatter",
         "x": [
          7171.97251510033,
          6838.85948395459
         ],
         "y": [
          18.5775535599073,
          18.1957631841977
         ]
        },
        {
         "line": {
          "color": "pink"
         },
         "mode": "lines+markers",
         "name": "m22C",
         "type": "scatter",
         "x": [
          6199.8560456788,
          5866.78103449588
         ],
         "y": [
          17.1317640181065,
          16.6981861348629
         ]
        },
        {
         "line": {
          "color": "pink"
         },
         "mode": "lines+markers",
         "name": "m22C",
         "type": "scatter",
         "x": [
          6165.83010537485,
          6498.89694911528
         ],
         "y": [
          16.942514925766,
          17.8265319184144
         ]
        },
        {
         "line": {
          "color": "pink"
         },
         "mode": "lines+markers",
         "name": "m22C",
         "type": "scatter",
         "x": [
          13535.8237725521,
          13868.8914807039
         ],
         "y": [
          22.386297426192,
          22.2642926350911
         ]
        },
        {
         "line": {
          "color": "pink"
         },
         "mode": "lines+markers",
         "name": "mcm5U",
         "type": "scatter",
         "x": [
          5831.78420473764,
          6209.85255397977
         ],
         "y": [
          16.5700603758971,
          17.4495710110346
         ]
        },
        {
         "line": {
          "color": "pink"
         },
         "mode": "lines+markers",
         "name": "mcm5U",
         "type": "scatter",
         "x": [
          5853.7932010007,
          6231.85424128499
         ],
         "y": [
          16.8164789513429,
          17.5699597096125
         ]
        },
        {
         "line": {
          "color": "pink"
         },
         "mode": "lines+markers",
         "name": "mcm5U",
         "type": "scatter",
         "x": [
          11418.5220720094,
          11040.3695127716
         ],
         "y": [
          21.5078179752509,
          21.2610000010014
         ]
        },
        {
         "line": {
          "color": "pink"
         },
         "mode": "lines+markers",
         "name": "mcm5U",
         "type": "scatter",
         "x": [
          7911.06966816871,
          7532.96727556512
         ],
         "y": [
          19.0755901769479,
          18.6931291854064
         ]
        }
       ],
       "layout": {
        "annotations": [
         {
          "arrowhead": 1,
          "showarrow": false,
          "text": "C",
          "x": 6690.398059768029,
          "y": 18.01102184312345,
          "yshift": 5
         },
         {
          "arrowhead": 1,
          "showarrow": false,
          "text": "C",
          "x": 8466.678541773756,
          "y": 19.417071276474,
          "yshift": 5
         },
         {
          "arrowhead": 1,
          "showarrow": false,
          "text": "A",
          "x": 7007.431864565115,
          "y": 18.3575550969124,
          "yshift": 5
         },
         {
          "arrowhead": 1,
          "showarrow": false,
          "text": "A",
          "x": 7336.4991040199,
          "y": 18.85700038429895,
          "yshift": 5
         },
         {
          "arrowhead": 1,
          "showarrow": false,
          "text": "A",
          "x": 8500.632299295004,
          "y": 19.5737146353404,
          "yshift": 5
         },
         {
          "arrowhead": 1,
          "showarrow": false,
          "text": "G",
          "x": 6027.3261927997,
          "y": 16.8509121970018,
          "yshift": 5
         },
         {
          "arrowhead": 1,
          "showarrow": false,
          "text": "G",
          "x": 11891.0710494101,
          "y": 21.79213619685965,
          "yshift": 5
         },
         {
          "arrowhead": 1,
          "showarrow": false,
          "text": "G",
          "x": 7292.47617008648,
          "y": 18.6362698441426,
          "yshift": 5
         },
         {
          "arrowhead": 1,
          "showarrow": false,
          "text": "U",
          "x": 10591.3293982935,
          "y": 21.1073850756566,
          "yshift": 5
         },
         {
          "arrowhead": 1,
          "showarrow": false,
          "text": "U",
          "x": 5992.808693501525,
          "y": 16.88306996779445,
          "yshift": 5
         },
         {
          "arrowhead": 1,
          "showarrow": false,
          "text": "U",
          "x": 6298.84795120527,
          "y": 17.3842214729071,
          "yshift": 5
         },
         {
          "arrowhead": 1,
          "showarrow": false,
          "text": "U",
          "x": 8601.168753230595,
          "y": 19.81908897714615,
          "yshift": 5
         },
         {
          "arrowhead": 1,
          "showarrow": false,
          "text": "U",
          "x": 8250.10886510685,
          "y": 19.7585770344416,
          "yshift": 5
         },
         {
          "arrowhead": 1,
          "showarrow": false,
          "text": "U",
          "x": 5958.78295863355,
          "y": 16.81913964308105,
          "yshift": 5
         },
         {
          "arrowhead": 1,
          "showarrow": false,
          "text": "U",
          "x": 6384.879573395575,
          "y": 17.72722338097095,
          "yshift": 5
         },
         {
          "arrowhead": 1,
          "showarrow": false,
          "text": "U",
          "x": 6966.929766168855,
          "y": 18.164893464811648,
          "yshift": 5
         },
         {
          "arrowhead": 1,
          "showarrow": false,
          "text": "U",
          "x": 13506.79780186385,
          "y": 22.4496378139337,
          "yshift": 5
         },
         {
          "arrowhead": 1,
          "showarrow": false,
          "text": "U",
          "x": 10803.4566929991,
          "y": 21.0399507299741,
          "yshift": 5
         },
         {
          "arrowhead": 1,
          "showarrow": false,
          "text": "U",
          "x": 7319.988320675126,
          "y": 18.63908184823195,
          "yshift": 5
         },
         {
          "arrowhead": 1,
          "showarrow": false,
          "text": "U",
          "x": 6362.8534238427055,
          "y": 17.604673956402102,
          "yshift": 5
         },
         {
          "arrowhead": 1,
          "showarrow": false,
          "text": "mG",
          "x": 6011.30888158999,
          "y": 16.8509121970018,
          "yshift": 5
         },
         {
          "arrowhead": 1,
          "showarrow": false,
          "text": "mG",
          "x": 6717.420246549645,
          "y": 18.073306010731052,
          "yshift": 5
         },
         {
          "arrowhead": 1,
          "showarrow": false,
          "text": "mG",
          "x": 14252.4709952407,
          "y": 22.54143085138795,
          "yshift": 5
         },
         {
          "arrowhead": 1,
          "showarrow": false,
          "text": "mG",
          "x": 9129.709619747035,
          "y": 20.227049521176,
          "yshift": 5
         },
         {
          "arrowhead": 1,
          "showarrow": false,
          "text": "mG",
          "x": 8955.63894636939,
          "y": 20.1370781546513,
          "yshift": 5
         },
         {
          "arrowhead": 1,
          "showarrow": false,
          "text": "D",
          "x": 7883.081589277595,
          "y": 19.0160387273312,
          "yshift": 5
         },
         {
          "arrowhead": 1,
          "showarrow": false,
          "text": "D",
          "x": 7273.975016732025,
          "y": 18.606077739167198,
          "yshift": 5
         },
         {
          "arrowhead": 1,
          "showarrow": false,
          "text": "D",
          "x": 6684.831207282636,
          "y": 18.1372484630028,
          "yshift": 5
         },
         {
          "arrowhead": 1,
          "showarrow": false,
          "text": "D",
          "x": 6344.86525377881,
          "y": 17.47914796826045,
          "yshift": 5
         },
         {
          "arrowhead": 1,
          "showarrow": false,
          "text": "mC",
          "x": 10597.8534742259,
          "y": 21.13783878839815,
          "yshift": 5
         },
         {
          "arrowhead": 1,
          "showarrow": false,
          "text": "mC",
          "x": 5736.29057606325,
          "y": 16.913379010129,
          "yshift": 5
         },
         {
          "arrowhead": 1,
          "showarrow": false,
          "text": "mC",
          "x": 9536.72998163863,
          "y": 20.66682378408115,
          "yshift": 5
         },
         {
          "arrowhead": 1,
          "showarrow": false,
          "text": "mC",
          "x": 8964.658439959916,
          "y": 20.19812488016285,
          "yshift": 5
         },
         {
          "arrowhead": 1,
          "showarrow": false,
          "text": "mU",
          "x": 8508.137226399946,
          "y": 19.9435985521158,
          "yshift": 5
         },
         {
          "arrowhead": 1,
          "showarrow": false,
          "text": "mU",
          "x": 15680.11243757875,
          "y": 22.97962884860035,
          "yshift": 5
         },
         {
          "arrowhead": 1,
          "showarrow": false,
          "text": "mU",
          "x": 7751.064059182835,
          "y": 18.981153447000203,
          "yshift": 5
         },
         {
          "arrowhead": 1,
          "showarrow": false,
          "text": "mA",
          "x": 7900.554145100775,
          "y": 19.169447514979048,
          "yshift": 5
         },
         {
          "arrowhead": 1,
          "showarrow": false,
          "text": "mA",
          "x": 6905.423950194439,
          "y": 18.48177462077935,
          "yshift": 5
         },
         {
          "arrowhead": 1,
          "showarrow": false,
          "text": "mA",
          "x": 6038.316794237825,
          "y": 17.07387857294875,
          "yshift": 5
         },
         {
          "arrowhead": 1,
          "showarrow": false,
          "text": "m22C",
          "x": 7005.41599952746,
          "y": 18.3866583720525,
          "yshift": 5
         },
         {
          "arrowhead": 1,
          "showarrow": false,
          "text": "m22C",
          "x": 6033.31854008734,
          "y": 16.9149750764847,
          "yshift": 5
         },
         {
          "arrowhead": 1,
          "showarrow": false,
          "text": "m22C",
          "x": 6332.363527245065,
          "y": 17.3845234220902,
          "yshift": 5
         },
         {
          "arrowhead": 1,
          "showarrow": false,
          "text": "m22C",
          "x": 13702.357626628,
          "y": 22.32529503064155,
          "yshift": 5
         },
         {
          "arrowhead": 1,
          "showarrow": false,
          "text": "mcm5U",
          "x": 6020.818379358705,
          "y": 17.00981569346585,
          "yshift": 5
         },
         {
          "arrowhead": 1,
          "showarrow": false,
          "text": "mcm5U",
          "x": 6042.823721142845,
          "y": 17.193219330477703,
          "yshift": 5
         },
         {
          "arrowhead": 1,
          "showarrow": false,
          "text": "mcm5U",
          "x": 11229.4457923905,
          "y": 21.38440898812615,
          "yshift": 5
         },
         {
          "arrowhead": 1,
          "showarrow": false,
          "text": "mcm5U",
          "x": 7722.018471866915,
          "y": 18.884359681177152,
          "yshift": 5
         }
        ],
        "template": {
         "data": {
          "bar": [
           {
            "error_x": {
             "color": "#2a3f5f"
            },
            "error_y": {
             "color": "#2a3f5f"
            },
            "marker": {
             "line": {
              "color": "#E5ECF6",
              "width": 0.5
             }
            },
            "type": "bar"
           }
          ],
          "barpolar": [
           {
            "marker": {
             "line": {
              "color": "#E5ECF6",
              "width": 0.5
             }
            },
            "type": "barpolar"
           }
          ],
          "carpet": [
           {
            "aaxis": {
             "endlinecolor": "#2a3f5f",
             "gridcolor": "white",
             "linecolor": "white",
             "minorgridcolor": "white",
             "startlinecolor": "#2a3f5f"
            },
            "baxis": {
             "endlinecolor": "#2a3f5f",
             "gridcolor": "white",
             "linecolor": "white",
             "minorgridcolor": "white",
             "startlinecolor": "#2a3f5f"
            },
            "type": "carpet"
           }
          ],
          "choropleth": [
           {
            "colorbar": {
             "outlinewidth": 0,
             "ticks": ""
            },
            "type": "choropleth"
           }
          ],
          "contour": [
           {
            "colorbar": {
             "outlinewidth": 0,
             "ticks": ""
            },
            "colorscale": [
             [
              0,
              "#0d0887"
             ],
             [
              0.1111111111111111,
              "#46039f"
             ],
             [
              0.2222222222222222,
              "#7201a8"
             ],
             [
              0.3333333333333333,
              "#9c179e"
             ],
             [
              0.4444444444444444,
              "#bd3786"
             ],
             [
              0.5555555555555556,
              "#d8576b"
             ],
             [
              0.6666666666666666,
              "#ed7953"
             ],
             [
              0.7777777777777778,
              "#fb9f3a"
             ],
             [
              0.8888888888888888,
              "#fdca26"
             ],
             [
              1,
              "#f0f921"
             ]
            ],
            "type": "contour"
           }
          ],
          "contourcarpet": [
           {
            "colorbar": {
             "outlinewidth": 0,
             "ticks": ""
            },
            "type": "contourcarpet"
           }
          ],
          "heatmap": [
           {
            "colorbar": {
             "outlinewidth": 0,
             "ticks": ""
            },
            "colorscale": [
             [
              0,
              "#0d0887"
             ],
             [
              0.1111111111111111,
              "#46039f"
             ],
             [
              0.2222222222222222,
              "#7201a8"
             ],
             [
              0.3333333333333333,
              "#9c179e"
             ],
             [
              0.4444444444444444,
              "#bd3786"
             ],
             [
              0.5555555555555556,
              "#d8576b"
             ],
             [
              0.6666666666666666,
              "#ed7953"
             ],
             [
              0.7777777777777778,
              "#fb9f3a"
             ],
             [
              0.8888888888888888,
              "#fdca26"
             ],
             [
              1,
              "#f0f921"
             ]
            ],
            "type": "heatmap"
           }
          ],
          "heatmapgl": [
           {
            "colorbar": {
             "outlinewidth": 0,
             "ticks": ""
            },
            "colorscale": [
             [
              0,
              "#0d0887"
             ],
             [
              0.1111111111111111,
              "#46039f"
             ],
             [
              0.2222222222222222,
              "#7201a8"
             ],
             [
              0.3333333333333333,
              "#9c179e"
             ],
             [
              0.4444444444444444,
              "#bd3786"
             ],
             [
              0.5555555555555556,
              "#d8576b"
             ],
             [
              0.6666666666666666,
              "#ed7953"
             ],
             [
              0.7777777777777778,
              "#fb9f3a"
             ],
             [
              0.8888888888888888,
              "#fdca26"
             ],
             [
              1,
              "#f0f921"
             ]
            ],
            "type": "heatmapgl"
           }
          ],
          "histogram": [
           {
            "marker": {
             "colorbar": {
              "outlinewidth": 0,
              "ticks": ""
             }
            },
            "type": "histogram"
           }
          ],
          "histogram2d": [
           {
            "colorbar": {
             "outlinewidth": 0,
             "ticks": ""
            },
            "colorscale": [
             [
              0,
              "#0d0887"
             ],
             [
              0.1111111111111111,
              "#46039f"
             ],
             [
              0.2222222222222222,
              "#7201a8"
             ],
             [
              0.3333333333333333,
              "#9c179e"
             ],
             [
              0.4444444444444444,
              "#bd3786"
             ],
             [
              0.5555555555555556,
              "#d8576b"
             ],
             [
              0.6666666666666666,
              "#ed7953"
             ],
             [
              0.7777777777777778,
              "#fb9f3a"
             ],
             [
              0.8888888888888888,
              "#fdca26"
             ],
             [
              1,
              "#f0f921"
             ]
            ],
            "type": "histogram2d"
           }
          ],
          "histogram2dcontour": [
           {
            "colorbar": {
             "outlinewidth": 0,
             "ticks": ""
            },
            "colorscale": [
             [
              0,
              "#0d0887"
             ],
             [
              0.1111111111111111,
              "#46039f"
             ],
             [
              0.2222222222222222,
              "#7201a8"
             ],
             [
              0.3333333333333333,
              "#9c179e"
             ],
             [
              0.4444444444444444,
              "#bd3786"
             ],
             [
              0.5555555555555556,
              "#d8576b"
             ],
             [
              0.6666666666666666,
              "#ed7953"
             ],
             [
              0.7777777777777778,
              "#fb9f3a"
             ],
             [
              0.8888888888888888,
              "#fdca26"
             ],
             [
              1,
              "#f0f921"
             ]
            ],
            "type": "histogram2dcontour"
           }
          ],
          "mesh3d": [
           {
            "colorbar": {
             "outlinewidth": 0,
             "ticks": ""
            },
            "type": "mesh3d"
           }
          ],
          "parcoords": [
           {
            "line": {
             "colorbar": {
              "outlinewidth": 0,
              "ticks": ""
             }
            },
            "type": "parcoords"
           }
          ],
          "pie": [
           {
            "automargin": true,
            "type": "pie"
           }
          ],
          "scatter": [
           {
            "marker": {
             "colorbar": {
              "outlinewidth": 0,
              "ticks": ""
             }
            },
            "type": "scatter"
           }
          ],
          "scatter3d": [
           {
            "line": {
             "colorbar": {
              "outlinewidth": 0,
              "ticks": ""
             }
            },
            "marker": {
             "colorbar": {
              "outlinewidth": 0,
              "ticks": ""
             }
            },
            "type": "scatter3d"
           }
          ],
          "scattercarpet": [
           {
            "marker": {
             "colorbar": {
              "outlinewidth": 0,
              "ticks": ""
             }
            },
            "type": "scattercarpet"
           }
          ],
          "scattergeo": [
           {
            "marker": {
             "colorbar": {
              "outlinewidth": 0,
              "ticks": ""
             }
            },
            "type": "scattergeo"
           }
          ],
          "scattergl": [
           {
            "marker": {
             "colorbar": {
              "outlinewidth": 0,
              "ticks": ""
             }
            },
            "type": "scattergl"
           }
          ],
          "scattermapbox": [
           {
            "marker": {
             "colorbar": {
              "outlinewidth": 0,
              "ticks": ""
             }
            },
            "type": "scattermapbox"
           }
          ],
          "scatterpolar": [
           {
            "marker": {
             "colorbar": {
              "outlinewidth": 0,
              "ticks": ""
             }
            },
            "type": "scatterpolar"
           }
          ],
          "scatterpolargl": [
           {
            "marker": {
             "colorbar": {
              "outlinewidth": 0,
              "ticks": ""
             }
            },
            "type": "scatterpolargl"
           }
          ],
          "scatterternary": [
           {
            "marker": {
             "colorbar": {
              "outlinewidth": 0,
              "ticks": ""
             }
            },
            "type": "scatterternary"
           }
          ],
          "surface": [
           {
            "colorbar": {
             "outlinewidth": 0,
             "ticks": ""
            },
            "colorscale": [
             [
              0,
              "#0d0887"
             ],
             [
              0.1111111111111111,
              "#46039f"
             ],
             [
              0.2222222222222222,
              "#7201a8"
             ],
             [
              0.3333333333333333,
              "#9c179e"
             ],
             [
              0.4444444444444444,
              "#bd3786"
             ],
             [
              0.5555555555555556,
              "#d8576b"
             ],
             [
              0.6666666666666666,
              "#ed7953"
             ],
             [
              0.7777777777777778,
              "#fb9f3a"
             ],
             [
              0.8888888888888888,
              "#fdca26"
             ],
             [
              1,
              "#f0f921"
             ]
            ],
            "type": "surface"
           }
          ],
          "table": [
           {
            "cells": {
             "fill": {
              "color": "#EBF0F8"
             },
             "line": {
              "color": "white"
             }
            },
            "header": {
             "fill": {
              "color": "#C8D4E3"
             },
             "line": {
              "color": "white"
             }
            },
            "type": "table"
           }
          ]
         },
         "layout": {
          "annotationdefaults": {
           "arrowcolor": "#2a3f5f",
           "arrowhead": 0,
           "arrowwidth": 1
          },
          "autotypenumbers": "strict",
          "coloraxis": {
           "colorbar": {
            "outlinewidth": 0,
            "ticks": ""
           }
          },
          "colorscale": {
           "diverging": [
            [
             0,
             "#8e0152"
            ],
            [
             0.1,
             "#c51b7d"
            ],
            [
             0.2,
             "#de77ae"
            ],
            [
             0.3,
             "#f1b6da"
            ],
            [
             0.4,
             "#fde0ef"
            ],
            [
             0.5,
             "#f7f7f7"
            ],
            [
             0.6,
             "#e6f5d0"
            ],
            [
             0.7,
             "#b8e186"
            ],
            [
             0.8,
             "#7fbc41"
            ],
            [
             0.9,
             "#4d9221"
            ],
            [
             1,
             "#276419"
            ]
           ],
           "sequential": [
            [
             0,
             "#0d0887"
            ],
            [
             0.1111111111111111,
             "#46039f"
            ],
            [
             0.2222222222222222,
             "#7201a8"
            ],
            [
             0.3333333333333333,
             "#9c179e"
            ],
            [
             0.4444444444444444,
             "#bd3786"
            ],
            [
             0.5555555555555556,
             "#d8576b"
            ],
            [
             0.6666666666666666,
             "#ed7953"
            ],
            [
             0.7777777777777778,
             "#fb9f3a"
            ],
            [
             0.8888888888888888,
             "#fdca26"
            ],
            [
             1,
             "#f0f921"
            ]
           ],
           "sequentialminus": [
            [
             0,
             "#0d0887"
            ],
            [
             0.1111111111111111,
             "#46039f"
            ],
            [
             0.2222222222222222,
             "#7201a8"
            ],
            [
             0.3333333333333333,
             "#9c179e"
            ],
            [
             0.4444444444444444,
             "#bd3786"
            ],
            [
             0.5555555555555556,
             "#d8576b"
            ],
            [
             0.6666666666666666,
             "#ed7953"
            ],
            [
             0.7777777777777778,
             "#fb9f3a"
            ],
            [
             0.8888888888888888,
             "#fdca26"
            ],
            [
             1,
             "#f0f921"
            ]
           ]
          },
          "colorway": [
           "#636efa",
           "#EF553B",
           "#00cc96",
           "#ab63fa",
           "#FFA15A",
           "#19d3f3",
           "#FF6692",
           "#B6E880",
           "#FF97FF",
           "#FECB52"
          ],
          "font": {
           "color": "#2a3f5f"
          },
          "geo": {
           "bgcolor": "white",
           "lakecolor": "white",
           "landcolor": "#E5ECF6",
           "showlakes": true,
           "showland": true,
           "subunitcolor": "white"
          },
          "hoverlabel": {
           "align": "left"
          },
          "hovermode": "closest",
          "mapbox": {
           "style": "light"
          },
          "paper_bgcolor": "white",
          "plot_bgcolor": "#E5ECF6",
          "polar": {
           "angularaxis": {
            "gridcolor": "white",
            "linecolor": "white",
            "ticks": ""
           },
           "bgcolor": "#E5ECF6",
           "radialaxis": {
            "gridcolor": "white",
            "linecolor": "white",
            "ticks": ""
           }
          },
          "scene": {
           "xaxis": {
            "backgroundcolor": "#E5ECF6",
            "gridcolor": "white",
            "gridwidth": 2,
            "linecolor": "white",
            "showbackground": true,
            "ticks": "",
            "zerolinecolor": "white"
           },
           "yaxis": {
            "backgroundcolor": "#E5ECF6",
            "gridcolor": "white",
            "gridwidth": 2,
            "linecolor": "white",
            "showbackground": true,
            "ticks": "",
            "zerolinecolor": "white"
           },
           "zaxis": {
            "backgroundcolor": "#E5ECF6",
            "gridcolor": "white",
            "gridwidth": 2,
            "linecolor": "white",
            "showbackground": true,
            "ticks": "",
            "zerolinecolor": "white"
           }
          },
          "shapedefaults": {
           "line": {
            "color": "#2a3f5f"
           }
          },
          "ternary": {
           "aaxis": {
            "gridcolor": "white",
            "linecolor": "white",
            "ticks": ""
           },
           "baxis": {
            "gridcolor": "white",
            "linecolor": "white",
            "ticks": ""
           },
           "bgcolor": "#E5ECF6",
           "caxis": {
            "gridcolor": "white",
            "linecolor": "white",
            "ticks": ""
           }
          },
          "title": {
           "x": 0.05
          },
          "xaxis": {
           "automargin": true,
           "gridcolor": "white",
           "linecolor": "white",
           "ticks": "",
           "title": {
            "standoff": 15
           },
           "zerolinecolor": "white",
           "zerolinewidth": 2
          },
          "yaxis": {
           "automargin": true,
           "gridcolor": "white",
           "linecolor": "white",
           "ticks": "",
           "title": {
            "standoff": 15
           },
           "zerolinecolor": "white",
           "zerolinewidth": 2
          }
         }
        }
       }
      },
      "text/html": [
       "<div>                            <div id=\"7e956d69-7f02-463f-a62c-f6ba7da8a61f\" class=\"plotly-graph-div\" style=\"height:525px; width:100%;\"></div>            <script type=\"text/javascript\">                require([\"plotly\"], function(Plotly) {                    window.PLOTLYENV=window.PLOTLYENV || {};                                    if (document.getElementById(\"7e956d69-7f02-463f-a62c-f6ba7da8a61f\")) {                    Plotly.newPlot(                        \"7e956d69-7f02-463f-a62c-f6ba7da8a61f\",                        [{\"mode\": \"markers\", \"type\": \"scatter\", \"x\": [11718.5160247681, 10744.3489280577, 10438.3098685293, 8336.10118716321, 5839.79204008722, 5831.78420473764, 7171.97251510033, 7591.05845019696, 8037.12464165444, 13535.8237725521, 13868.8914807039, 5854.7963399206, 6145.82534691583, 6451.87055549471, 13353.7818459934, 6190.83355844234, 8665.1634114268, 9377.23496146274, 6199.8560456788, 5576.75637367364, 7729.03853690075, 6530.80293061068, 7911.06966816871, 8097.0861398044, 7076.94867216073, 10757.3970799225, 8619.23915235516, 7501.02569293947, 7427.99921506927, 6165.83010537485, 15520.0629739331, 6838.85948395459, 8754.18865525277, 5853.7932010007, 7166.96963438087, 14072.9553710697, 8668.16282057488, 6842.8912140299, 8403.1315904093, 5895.82477845286, 8776.12148004742, 6209.85255397977, 6231.85424128499, 6896.93558759313, 6498.89694911528, 8348.11163222501, 12063.6260740521, 5805.75375537004, 6111.81216189706, 6537.90490550616, 7119.95081839478, 5866.78103449588, 7532.96727556512, 8448.14885120842, 9696.22500181452, 10650.4197443325, 6813.90871394293, 11418.5220720094, 8072.0697533008, 14431.9866194117, 13659.8137577343, 10956.4936416657, 9309.24347413471, 7465.00152177818, 7473.00700696938, 11040.3695127716, 8950.17576535936, 9135.15641269136, 8805.11296795328, 9124.20391196655, 6515.85429370564, 15840.1619012244, 8314.11793119235, 6733.89922822815], \"y\": [21.6945120012442, 21.2000925755183, 21.0146775757949, 19.5737146353404, 16.6343759174824, 16.5700603758971, 18.5775535599073, 18.8867167170525, 19.0160387273312, 22.386297426192, 22.2642926350911, 16.5700603758971, 17.1317640181065, 17.6366789277077, 22.386297426192, 17.1317640181065, 19.5737146353404, 20.3189699923674, 17.1317640181065, 16.5700603758971, 19.0160387273312, 18.0787337418079, 19.0755901769479, 19.5042967434406, 18.3284182663441, 21.2610000010014, 19.0755901769479, 19.1364472086906, 18.7668556010405, 16.942514925766, 22.8818772113005, 18.1957631841977, 19.9435985521158, 16.8164789513429, 18.2621249691327, 22.449368192323, 19.9435985521158, 18.1375566339175, 20.0128573254426, 17.2566976443609, 20.0128573254426, 17.4495710110346, 17.5699597096125, 18.2621249691327, 17.8265319184144, 19.9435985521158, 21.8897603924751, 16.5700603758971, 17.068218910265, 17.8844870523294, 18.4452998772939, 16.6981861348629, 18.6931291854064, 19.6945794021765, 21.0146775757949, 21.1333783165296, 17.8844870523294, 21.5078179752509, 19.3228563026269, 22.6334935104529, 22.5129782016754, 20.9465231434186, 20.3844797924836, 18.8272398109913, 19.0160387273312, 21.2610000010014, 20.0696192498684, 20.26129898386, 20.1349507764657, 20.26129898386, 17.7597769017696, 23.0773804859002, 19.7585523760001, 18.6351309752146]}, {\"line\": {\"color\": \"pink\"}, \"mode\": \"lines+markers\", \"name\": \"C\", \"type\": \"scatter\", \"x\": [6842.8912140299, 6537.90490550616], \"y\": [18.1375566339175, 17.8844870523294]}, {\"line\": {\"color\": \"pink\"}, \"mode\": \"lines+markers\", \"name\": \"C\", \"type\": \"scatter\", \"x\": [8619.23915235516, 8314.11793119235], \"y\": [19.0755901769479, 19.7585523760001]}, {\"line\": {\"color\": \"pink\"}, \"mode\": \"lines+markers\", \"name\": \"A\", \"type\": \"scatter\", \"x\": [7171.97251510033, 6842.8912140299], \"y\": [18.5775535599073, 18.1375566339175]}, {\"line\": {\"color\": \"pink\"}, \"mode\": \"lines+markers\", \"name\": \"A\", \"type\": \"scatter\", \"x\": [7171.97251510033, 7501.02569293947], \"y\": [18.5775535599073, 19.1364472086906]}, {\"line\": {\"color\": \"pink\"}, \"mode\": \"lines+markers\", \"name\": \"A\", \"type\": \"scatter\", \"x\": [8336.10118716321, 8665.1634114268], \"y\": [19.5737146353404, 19.5737146353404]}, {\"line\": {\"color\": \"pink\"}, \"mode\": \"lines+markers\", \"name\": \"G\", \"type\": \"scatter\", \"x\": [5854.7963399206, 6199.8560456788], \"y\": [16.5700603758971, 17.1317640181065]}, {\"line\": {\"color\": \"pink\"}, \"mode\": \"lines+markers\", \"name\": \"G\", \"type\": \"scatter\", \"x\": [11718.5160247681, 12063.6260740521], \"y\": [21.6945120012442, 21.8897603924751]}, {\"line\": {\"color\": \"pink\"}, \"mode\": \"lines+markers\", \"name\": \"G\", \"type\": \"scatter\", \"x\": [7119.95081839478, 7465.00152177818], \"y\": [18.4452998772939, 18.8272398109913]}, {\"line\": {\"color\": \"pink\"}, \"mode\": \"lines+markers\", \"name\": \"U\", \"type\": \"scatter\", \"x\": [10744.3489280577, 10438.3098685293], \"y\": [21.2000925755183, 21.0146775757949]}, {\"line\": {\"color\": \"pink\"}, \"mode\": \"lines+markers\", \"name\": \"U\", \"type\": \"scatter\", \"x\": [5839.79204008722, 6145.82534691583], \"y\": [16.6343759174824, 17.1317640181065]}, {\"line\": {\"color\": \"pink\"}, \"mode\": \"lines+markers\", \"name\": \"U\", \"type\": \"scatter\", \"x\": [6145.82534691583, 6451.87055549471], \"y\": [17.1317640181065, 17.6366789277077]}, {\"line\": {\"color\": \"pink\"}, \"mode\": \"lines+markers\", \"name\": \"U\", \"type\": \"scatter\", \"x\": [8754.18865525277, 8448.14885120842], \"y\": [19.9435985521158, 19.6945794021765]}, {\"line\": {\"color\": \"pink\"}, \"mode\": \"lines+markers\", \"name\": \"U\", \"type\": \"scatter\", \"x\": [8097.0861398044, 8403.1315904093], \"y\": [19.5042967434406, 20.0128573254426]}, {\"line\": {\"color\": \"pink\"}, \"mode\": \"lines+markers\", \"name\": \"U\", \"type\": \"scatter\", \"x\": [5805.75375537004, 6111.81216189706], \"y\": [16.5700603758971, 17.068218910265]}, {\"line\": {\"color\": \"pink\"}, \"mode\": \"lines+markers\", \"name\": \"U\", \"type\": \"scatter\", \"x\": [6231.85424128499, 6537.90490550616], \"y\": [17.5699597096125, 17.8844870523294]}, {\"line\": {\"color\": \"pink\"}, \"mode\": \"lines+markers\", \"name\": \"U\", \"type\": \"scatter\", \"x\": [7119.95081839478, 6813.90871394293], \"y\": [18.4452998772939, 17.8844870523294]}, {\"line\": {\"color\": \"pink\"}, \"mode\": \"lines+markers\", \"name\": \"U\", \"type\": \"scatter\", \"x\": [13353.7818459934, 13659.8137577343], \"y\": [22.386297426192, 22.5129782016754]}, {\"line\": {\"color\": \"pink\"}, \"mode\": \"lines+markers\", \"name\": \"U\", \"type\": \"scatter\", \"x\": [10650.4197443325, 10956.4936416657], \"y\": [21.1333783165296, 20.9465231434186]}, {\"line\": {\"color\": \"pink\"}, \"mode\": \"lines+markers\", \"name\": \"U\", \"type\": \"scatter\", \"x\": [7166.96963438087, 7473.00700696938], \"y\": [18.2621249691327, 19.0160387273312]}, {\"line\": {\"color\": \"pink\"}, \"mode\": \"lines+markers\", \"name\": \"U\", \"type\": \"scatter\", \"x\": [6209.85255397977, 6515.85429370564], \"y\": [17.4495710110346, 17.7597769017696]}, {\"line\": {\"color\": \"pink\"}, \"mode\": \"lines+markers\", \"name\": \"mG\", \"type\": \"scatter\", \"x\": [5831.78420473764, 6190.83355844234], \"y\": [16.5700603758971, 17.1317640181065]}, {\"line\": {\"color\": \"pink\"}, \"mode\": \"lines+markers\", \"name\": \"mG\", \"type\": \"scatter\", \"x\": [6896.93558759313, 6537.90490550616], \"y\": [18.2621249691327, 17.8844870523294]}, {\"line\": {\"color\": \"pink\"}, \"mode\": \"lines+markers\", \"name\": \"mG\", \"type\": \"scatter\", \"x\": [14072.9553710697, 14431.9866194117], \"y\": [22.449368192323, 22.6334935104529]}, {\"line\": {\"color\": \"pink\"}, \"mode\": \"lines+markers\", \"name\": \"mG\", \"type\": \"scatter\", \"x\": [9309.24347413471, 8950.17576535936], \"y\": [20.3844797924836, 20.0696192498684]}, {\"line\": {\"color\": \"pink\"}, \"mode\": \"lines+markers\", \"name\": \"mG\", \"type\": \"scatter\", \"x\": [8776.12148004742, 9135.15641269136], \"y\": [20.0128573254426, 20.26129898386]}, {\"line\": {\"color\": \"pink\"}, \"mode\": \"lines+markers\", \"name\": \"D\", \"type\": \"scatter\", \"x\": [8037.12464165444, 7729.03853690075], \"y\": [19.0160387273312, 19.0160387273312]}, {\"line\": {\"color\": \"pink\"}, \"mode\": \"lines+markers\", \"name\": \"D\", \"type\": \"scatter\", \"x\": [7427.99921506927, 7119.95081839478], \"y\": [18.7668556010405, 18.4452998772939]}, {\"line\": {\"color\": \"pink\"}, \"mode\": \"lines+markers\", \"name\": \"D\", \"type\": \"scatter\", \"x\": [6530.80293061068, 6838.85948395459], \"y\": [18.0787337418079, 18.1957631841977]}, {\"line\": {\"color\": \"pink\"}, \"mode\": \"lines+markers\", \"name\": \"D\", \"type\": \"scatter\", \"x\": [6190.83355844234, 6498.89694911528], \"y\": [17.1317640181065, 17.8265319184144]}, {\"line\": {\"color\": \"pink\"}, \"mode\": \"lines+markers\", \"name\": \"mC\", \"type\": \"scatter\", \"x\": [10438.3098685293, 10757.3970799225], \"y\": [21.0146775757949, 21.2610000010014]}, {\"line\": {\"color\": \"pink\"}, \"mode\": \"lines+markers\", \"name\": \"mC\", \"type\": \"scatter\", \"x\": [5576.75637367364, 5895.82477845286], \"y\": [16.5700603758971, 17.2566976443609]}, {\"line\": {\"color\": \"pink\"}, \"mode\": \"lines+markers\", \"name\": \"mC\", \"type\": \"scatter\", \"x\": [9377.23496146274, 9696.22500181452], \"y\": [20.3189699923674, 21.0146775757949]}, {\"line\": {\"color\": \"pink\"}, \"mode\": \"lines+markers\", \"name\": \"mC\", \"type\": \"scatter\", \"x\": [8805.11296795328, 9124.20391196655], \"y\": [20.1349507764657, 20.26129898386]}, {\"line\": {\"color\": \"pink\"}, \"mode\": \"lines+markers\", \"name\": \"mU\", \"type\": \"scatter\", \"x\": [8668.16282057488, 8348.11163222501], \"y\": [19.9435985521158, 19.9435985521158]}, {\"line\": {\"color\": \"pink\"}, \"mode\": \"lines+markers\", \"name\": \"mU\", \"type\": \"scatter\", \"x\": [15520.0629739331, 15840.1619012244], \"y\": [22.8818772113005, 23.0773804859002]}, {\"line\": {\"color\": \"pink\"}, \"mode\": \"lines+markers\", \"name\": \"mU\", \"type\": \"scatter\", \"x\": [7591.05845019696, 7911.06966816871], \"y\": [18.8867167170525, 19.0755901769479]}, {\"line\": {\"color\": \"pink\"}, \"mode\": \"lines+markers\", \"name\": \"mA\", \"type\": \"scatter\", \"x\": [7729.03853690075, 8072.0697533008], \"y\": [19.0160387273312, 19.3228563026269]}, {\"line\": {\"color\": \"pink\"}, \"mode\": \"lines+markers\", \"name\": \"mA\", \"type\": \"scatter\", \"x\": [7076.94867216073, 6733.89922822815], \"y\": [18.3284182663441, 18.6351309752146]}, {\"line\": {\"color\": \"pink\"}, \"mode\": \"lines+markers\", \"name\": \"mA\", \"type\": \"scatter\", \"x\": [6209.85255397977, 5866.78103449588], \"y\": [17.4495710110346, 16.6981861348629]}, {\"line\": {\"color\": \"pink\"}, \"mode\": \"lines+markers\", \"name\": \"m22C\", \"type\": \"scatter\", \"x\": [7171.97251510033, 6838.85948395459], \"y\": [18.5775535599073, 18.1957631841977]}, {\"line\": {\"color\": \"pink\"}, \"mode\": \"lines+markers\", \"name\": \"m22C\", \"type\": \"scatter\", \"x\": [6199.8560456788, 5866.78103449588], \"y\": [17.1317640181065, 16.6981861348629]}, {\"line\": {\"color\": \"pink\"}, \"mode\": \"lines+markers\", \"name\": \"m22C\", \"type\": \"scatter\", \"x\": [6165.83010537485, 6498.89694911528], \"y\": [16.942514925766, 17.8265319184144]}, {\"line\": {\"color\": \"pink\"}, \"mode\": \"lines+markers\", \"name\": \"m22C\", \"type\": \"scatter\", \"x\": [13535.8237725521, 13868.8914807039], \"y\": [22.386297426192, 22.2642926350911]}, {\"line\": {\"color\": \"pink\"}, \"mode\": \"lines+markers\", \"name\": \"mcm5U\", \"type\": \"scatter\", \"x\": [5831.78420473764, 6209.85255397977], \"y\": [16.5700603758971, 17.4495710110346]}, {\"line\": {\"color\": \"pink\"}, \"mode\": \"lines+markers\", \"name\": \"mcm5U\", \"type\": \"scatter\", \"x\": [5853.7932010007, 6231.85424128499], \"y\": [16.8164789513429, 17.5699597096125]}, {\"line\": {\"color\": \"pink\"}, \"mode\": \"lines+markers\", \"name\": \"mcm5U\", \"type\": \"scatter\", \"x\": [11418.5220720094, 11040.3695127716], \"y\": [21.5078179752509, 21.2610000010014]}, {\"line\": {\"color\": \"pink\"}, \"mode\": \"lines+markers\", \"name\": \"mcm5U\", \"type\": \"scatter\", \"x\": [7911.06966816871, 7532.96727556512], \"y\": [19.0755901769479, 18.6931291854064]}],                        {\"annotations\": [{\"arrowhead\": 1, \"showarrow\": false, \"text\": \"C\", \"x\": 6690.398059768029, \"y\": 18.01102184312345, \"yshift\": 5}, {\"arrowhead\": 1, \"showarrow\": false, \"text\": \"C\", \"x\": 8466.678541773756, \"y\": 19.417071276474, \"yshift\": 5}, {\"arrowhead\": 1, \"showarrow\": false, \"text\": \"A\", \"x\": 7007.431864565115, \"y\": 18.3575550969124, \"yshift\": 5}, {\"arrowhead\": 1, \"showarrow\": false, \"text\": \"A\", \"x\": 7336.4991040199, \"y\": 18.85700038429895, \"yshift\": 5}, {\"arrowhead\": 1, \"showarrow\": false, \"text\": \"A\", \"x\": 8500.632299295004, \"y\": 19.5737146353404, \"yshift\": 5}, {\"arrowhead\": 1, \"showarrow\": false, \"text\": \"G\", \"x\": 6027.3261927997, \"y\": 16.8509121970018, \"yshift\": 5}, {\"arrowhead\": 1, \"showarrow\": false, \"text\": \"G\", \"x\": 11891.0710494101, \"y\": 21.79213619685965, \"yshift\": 5}, {\"arrowhead\": 1, \"showarrow\": false, \"text\": \"G\", \"x\": 7292.47617008648, \"y\": 18.6362698441426, \"yshift\": 5}, {\"arrowhead\": 1, \"showarrow\": false, \"text\": \"U\", \"x\": 10591.3293982935, \"y\": 21.1073850756566, \"yshift\": 5}, {\"arrowhead\": 1, \"showarrow\": false, \"text\": \"U\", \"x\": 5992.808693501525, \"y\": 16.88306996779445, \"yshift\": 5}, {\"arrowhead\": 1, \"showarrow\": false, \"text\": \"U\", \"x\": 6298.84795120527, \"y\": 17.3842214729071, \"yshift\": 5}, {\"arrowhead\": 1, \"showarrow\": false, \"text\": \"U\", \"x\": 8601.168753230595, \"y\": 19.81908897714615, \"yshift\": 5}, {\"arrowhead\": 1, \"showarrow\": false, \"text\": \"U\", \"x\": 8250.10886510685, \"y\": 19.7585770344416, \"yshift\": 5}, {\"arrowhead\": 1, \"showarrow\": false, \"text\": \"U\", \"x\": 5958.78295863355, \"y\": 16.81913964308105, \"yshift\": 5}, {\"arrowhead\": 1, \"showarrow\": false, \"text\": \"U\", \"x\": 6384.879573395575, \"y\": 17.72722338097095, \"yshift\": 5}, {\"arrowhead\": 1, \"showarrow\": false, \"text\": \"U\", \"x\": 6966.929766168855, \"y\": 18.164893464811648, \"yshift\": 5}, {\"arrowhead\": 1, \"showarrow\": false, \"text\": \"U\", \"x\": 13506.79780186385, \"y\": 22.4496378139337, \"yshift\": 5}, {\"arrowhead\": 1, \"showarrow\": false, \"text\": \"U\", \"x\": 10803.4566929991, \"y\": 21.0399507299741, \"yshift\": 5}, {\"arrowhead\": 1, \"showarrow\": false, \"text\": \"U\", \"x\": 7319.988320675126, \"y\": 18.63908184823195, \"yshift\": 5}, {\"arrowhead\": 1, \"showarrow\": false, \"text\": \"U\", \"x\": 6362.8534238427055, \"y\": 17.604673956402102, \"yshift\": 5}, {\"arrowhead\": 1, \"showarrow\": false, \"text\": \"mG\", \"x\": 6011.30888158999, \"y\": 16.8509121970018, \"yshift\": 5}, {\"arrowhead\": 1, \"showarrow\": false, \"text\": \"mG\", \"x\": 6717.420246549645, \"y\": 18.073306010731052, \"yshift\": 5}, {\"arrowhead\": 1, \"showarrow\": false, \"text\": \"mG\", \"x\": 14252.4709952407, \"y\": 22.54143085138795, \"yshift\": 5}, {\"arrowhead\": 1, \"showarrow\": false, \"text\": \"mG\", \"x\": 9129.709619747035, \"y\": 20.227049521176, \"yshift\": 5}, {\"arrowhead\": 1, \"showarrow\": false, \"text\": \"mG\", \"x\": 8955.63894636939, \"y\": 20.1370781546513, \"yshift\": 5}, {\"arrowhead\": 1, \"showarrow\": false, \"text\": \"D\", \"x\": 7883.081589277595, \"y\": 19.0160387273312, \"yshift\": 5}, {\"arrowhead\": 1, \"showarrow\": false, \"text\": \"D\", \"x\": 7273.975016732025, \"y\": 18.606077739167198, \"yshift\": 5}, {\"arrowhead\": 1, \"showarrow\": false, \"text\": \"D\", \"x\": 6684.831207282636, \"y\": 18.1372484630028, \"yshift\": 5}, {\"arrowhead\": 1, \"showarrow\": false, \"text\": \"D\", \"x\": 6344.86525377881, \"y\": 17.47914796826045, \"yshift\": 5}, {\"arrowhead\": 1, \"showarrow\": false, \"text\": \"mC\", \"x\": 10597.8534742259, \"y\": 21.13783878839815, \"yshift\": 5}, {\"arrowhead\": 1, \"showarrow\": false, \"text\": \"mC\", \"x\": 5736.29057606325, \"y\": 16.913379010129, \"yshift\": 5}, {\"arrowhead\": 1, \"showarrow\": false, \"text\": \"mC\", \"x\": 9536.72998163863, \"y\": 20.66682378408115, \"yshift\": 5}, {\"arrowhead\": 1, \"showarrow\": false, \"text\": \"mC\", \"x\": 8964.658439959916, \"y\": 20.19812488016285, \"yshift\": 5}, {\"arrowhead\": 1, \"showarrow\": false, \"text\": \"mU\", \"x\": 8508.137226399946, \"y\": 19.9435985521158, \"yshift\": 5}, {\"arrowhead\": 1, \"showarrow\": false, \"text\": \"mU\", \"x\": 15680.11243757875, \"y\": 22.97962884860035, \"yshift\": 5}, {\"arrowhead\": 1, \"showarrow\": false, \"text\": \"mU\", \"x\": 7751.064059182835, \"y\": 18.981153447000203, \"yshift\": 5}, {\"arrowhead\": 1, \"showarrow\": false, \"text\": \"mA\", \"x\": 7900.554145100775, \"y\": 19.169447514979048, \"yshift\": 5}, {\"arrowhead\": 1, \"showarrow\": false, \"text\": \"mA\", \"x\": 6905.423950194439, \"y\": 18.48177462077935, \"yshift\": 5}, {\"arrowhead\": 1, \"showarrow\": false, \"text\": \"mA\", \"x\": 6038.316794237825, \"y\": 17.07387857294875, \"yshift\": 5}, {\"arrowhead\": 1, \"showarrow\": false, \"text\": \"m22C\", \"x\": 7005.41599952746, \"y\": 18.3866583720525, \"yshift\": 5}, {\"arrowhead\": 1, \"showarrow\": false, \"text\": \"m22C\", \"x\": 6033.31854008734, \"y\": 16.9149750764847, \"yshift\": 5}, {\"arrowhead\": 1, \"showarrow\": false, \"text\": \"m22C\", \"x\": 6332.363527245065, \"y\": 17.3845234220902, \"yshift\": 5}, {\"arrowhead\": 1, \"showarrow\": false, \"text\": \"m22C\", \"x\": 13702.357626628, \"y\": 22.32529503064155, \"yshift\": 5}, {\"arrowhead\": 1, \"showarrow\": false, \"text\": \"mcm5U\", \"x\": 6020.818379358705, \"y\": 17.00981569346585, \"yshift\": 5}, {\"arrowhead\": 1, \"showarrow\": false, \"text\": \"mcm5U\", \"x\": 6042.823721142845, \"y\": 17.193219330477703, \"yshift\": 5}, {\"arrowhead\": 1, \"showarrow\": false, \"text\": \"mcm5U\", \"x\": 11229.4457923905, \"y\": 21.38440898812615, \"yshift\": 5}, {\"arrowhead\": 1, \"showarrow\": false, \"text\": \"mcm5U\", \"x\": 7722.018471866915, \"y\": 18.884359681177152, \"yshift\": 5}], \"template\": {\"data\": {\"bar\": [{\"error_x\": {\"color\": \"#2a3f5f\"}, \"error_y\": {\"color\": \"#2a3f5f\"}, \"marker\": {\"line\": {\"color\": \"#E5ECF6\", \"width\": 0.5}}, \"type\": \"bar\"}], \"barpolar\": [{\"marker\": {\"line\": {\"color\": \"#E5ECF6\", \"width\": 0.5}}, \"type\": \"barpolar\"}], \"carpet\": [{\"aaxis\": {\"endlinecolor\": \"#2a3f5f\", \"gridcolor\": \"white\", \"linecolor\": \"white\", \"minorgridcolor\": \"white\", \"startlinecolor\": \"#2a3f5f\"}, \"baxis\": {\"endlinecolor\": \"#2a3f5f\", \"gridcolor\": \"white\", \"linecolor\": \"white\", \"minorgridcolor\": \"white\", \"startlinecolor\": \"#2a3f5f\"}, \"type\": \"carpet\"}], \"choropleth\": [{\"colorbar\": {\"outlinewidth\": 0, \"ticks\": \"\"}, \"type\": \"choropleth\"}], \"contour\": [{\"colorbar\": {\"outlinewidth\": 0, \"ticks\": \"\"}, \"colorscale\": [[0.0, \"#0d0887\"], [0.1111111111111111, \"#46039f\"], [0.2222222222222222, \"#7201a8\"], [0.3333333333333333, \"#9c179e\"], [0.4444444444444444, \"#bd3786\"], [0.5555555555555556, \"#d8576b\"], [0.6666666666666666, \"#ed7953\"], [0.7777777777777778, \"#fb9f3a\"], [0.8888888888888888, \"#fdca26\"], [1.0, \"#f0f921\"]], \"type\": \"contour\"}], \"contourcarpet\": [{\"colorbar\": {\"outlinewidth\": 0, \"ticks\": \"\"}, \"type\": \"contourcarpet\"}], \"heatmap\": [{\"colorbar\": {\"outlinewidth\": 0, \"ticks\": \"\"}, \"colorscale\": [[0.0, \"#0d0887\"], [0.1111111111111111, \"#46039f\"], [0.2222222222222222, \"#7201a8\"], [0.3333333333333333, \"#9c179e\"], [0.4444444444444444, \"#bd3786\"], [0.5555555555555556, \"#d8576b\"], [0.6666666666666666, \"#ed7953\"], [0.7777777777777778, \"#fb9f3a\"], [0.8888888888888888, \"#fdca26\"], [1.0, \"#f0f921\"]], \"type\": \"heatmap\"}], \"heatmapgl\": [{\"colorbar\": {\"outlinewidth\": 0, \"ticks\": \"\"}, \"colorscale\": [[0.0, \"#0d0887\"], [0.1111111111111111, \"#46039f\"], [0.2222222222222222, \"#7201a8\"], [0.3333333333333333, \"#9c179e\"], [0.4444444444444444, \"#bd3786\"], [0.5555555555555556, \"#d8576b\"], [0.6666666666666666, \"#ed7953\"], [0.7777777777777778, \"#fb9f3a\"], [0.8888888888888888, \"#fdca26\"], [1.0, \"#f0f921\"]], \"type\": \"heatmapgl\"}], \"histogram\": [{\"marker\": {\"colorbar\": {\"outlinewidth\": 0, \"ticks\": \"\"}}, \"type\": \"histogram\"}], \"histogram2d\": [{\"colorbar\": {\"outlinewidth\": 0, \"ticks\": \"\"}, \"colorscale\": [[0.0, \"#0d0887\"], [0.1111111111111111, \"#46039f\"], [0.2222222222222222, \"#7201a8\"], [0.3333333333333333, \"#9c179e\"], [0.4444444444444444, \"#bd3786\"], [0.5555555555555556, \"#d8576b\"], [0.6666666666666666, \"#ed7953\"], [0.7777777777777778, \"#fb9f3a\"], [0.8888888888888888, \"#fdca26\"], [1.0, \"#f0f921\"]], \"type\": \"histogram2d\"}], \"histogram2dcontour\": [{\"colorbar\": {\"outlinewidth\": 0, \"ticks\": \"\"}, \"colorscale\": [[0.0, \"#0d0887\"], [0.1111111111111111, \"#46039f\"], [0.2222222222222222, \"#7201a8\"], [0.3333333333333333, \"#9c179e\"], [0.4444444444444444, \"#bd3786\"], [0.5555555555555556, \"#d8576b\"], [0.6666666666666666, \"#ed7953\"], [0.7777777777777778, \"#fb9f3a\"], [0.8888888888888888, \"#fdca26\"], [1.0, \"#f0f921\"]], \"type\": \"histogram2dcontour\"}], \"mesh3d\": [{\"colorbar\": {\"outlinewidth\": 0, \"ticks\": \"\"}, \"type\": \"mesh3d\"}], \"parcoords\": [{\"line\": {\"colorbar\": {\"outlinewidth\": 0, \"ticks\": \"\"}}, \"type\": \"parcoords\"}], \"pie\": [{\"automargin\": true, \"type\": \"pie\"}], \"scatter\": [{\"marker\": {\"colorbar\": {\"outlinewidth\": 0, \"ticks\": \"\"}}, \"type\": \"scatter\"}], \"scatter3d\": [{\"line\": {\"colorbar\": {\"outlinewidth\": 0, \"ticks\": \"\"}}, \"marker\": {\"colorbar\": {\"outlinewidth\": 0, \"ticks\": \"\"}}, \"type\": \"scatter3d\"}], \"scattercarpet\": [{\"marker\": {\"colorbar\": {\"outlinewidth\": 0, \"ticks\": \"\"}}, \"type\": \"scattercarpet\"}], \"scattergeo\": [{\"marker\": {\"colorbar\": {\"outlinewidth\": 0, \"ticks\": \"\"}}, \"type\": \"scattergeo\"}], \"scattergl\": [{\"marker\": {\"colorbar\": {\"outlinewidth\": 0, \"ticks\": \"\"}}, \"type\": \"scattergl\"}], \"scattermapbox\": [{\"marker\": {\"colorbar\": {\"outlinewidth\": 0, \"ticks\": \"\"}}, \"type\": \"scattermapbox\"}], \"scatterpolar\": [{\"marker\": {\"colorbar\": {\"outlinewidth\": 0, \"ticks\": \"\"}}, \"type\": \"scatterpolar\"}], \"scatterpolargl\": [{\"marker\": {\"colorbar\": {\"outlinewidth\": 0, \"ticks\": \"\"}}, \"type\": \"scatterpolargl\"}], \"scatterternary\": [{\"marker\": {\"colorbar\": {\"outlinewidth\": 0, \"ticks\": \"\"}}, \"type\": \"scatterternary\"}], \"surface\": [{\"colorbar\": {\"outlinewidth\": 0, \"ticks\": \"\"}, \"colorscale\": [[0.0, \"#0d0887\"], [0.1111111111111111, \"#46039f\"], [0.2222222222222222, \"#7201a8\"], [0.3333333333333333, \"#9c179e\"], [0.4444444444444444, \"#bd3786\"], [0.5555555555555556, \"#d8576b\"], [0.6666666666666666, \"#ed7953\"], [0.7777777777777778, \"#fb9f3a\"], [0.8888888888888888, \"#fdca26\"], [1.0, \"#f0f921\"]], \"type\": \"surface\"}], \"table\": [{\"cells\": {\"fill\": {\"color\": \"#EBF0F8\"}, \"line\": {\"color\": \"white\"}}, \"header\": {\"fill\": {\"color\": \"#C8D4E3\"}, \"line\": {\"color\": \"white\"}}, \"type\": \"table\"}]}, \"layout\": {\"annotationdefaults\": {\"arrowcolor\": \"#2a3f5f\", \"arrowhead\": 0, \"arrowwidth\": 1}, \"autotypenumbers\": \"strict\", \"coloraxis\": {\"colorbar\": {\"outlinewidth\": 0, \"ticks\": \"\"}}, \"colorscale\": {\"diverging\": [[0, \"#8e0152\"], [0.1, \"#c51b7d\"], [0.2, \"#de77ae\"], [0.3, \"#f1b6da\"], [0.4, \"#fde0ef\"], [0.5, \"#f7f7f7\"], [0.6, \"#e6f5d0\"], [0.7, \"#b8e186\"], [0.8, \"#7fbc41\"], [0.9, \"#4d9221\"], [1, \"#276419\"]], \"sequential\": [[0.0, \"#0d0887\"], [0.1111111111111111, \"#46039f\"], [0.2222222222222222, \"#7201a8\"], [0.3333333333333333, \"#9c179e\"], [0.4444444444444444, \"#bd3786\"], [0.5555555555555556, \"#d8576b\"], [0.6666666666666666, \"#ed7953\"], [0.7777777777777778, \"#fb9f3a\"], [0.8888888888888888, \"#fdca26\"], [1.0, \"#f0f921\"]], \"sequentialminus\": [[0.0, \"#0d0887\"], [0.1111111111111111, \"#46039f\"], [0.2222222222222222, \"#7201a8\"], [0.3333333333333333, \"#9c179e\"], [0.4444444444444444, \"#bd3786\"], [0.5555555555555556, \"#d8576b\"], [0.6666666666666666, \"#ed7953\"], [0.7777777777777778, \"#fb9f3a\"], [0.8888888888888888, \"#fdca26\"], [1.0, \"#f0f921\"]]}, \"colorway\": [\"#636efa\", \"#EF553B\", \"#00cc96\", \"#ab63fa\", \"#FFA15A\", \"#19d3f3\", \"#FF6692\", \"#B6E880\", \"#FF97FF\", \"#FECB52\"], \"font\": {\"color\": \"#2a3f5f\"}, \"geo\": {\"bgcolor\": \"white\", \"lakecolor\": \"white\", \"landcolor\": \"#E5ECF6\", \"showlakes\": true, \"showland\": true, \"subunitcolor\": \"white\"}, \"hoverlabel\": {\"align\": \"left\"}, \"hovermode\": \"closest\", \"mapbox\": {\"style\": \"light\"}, \"paper_bgcolor\": \"white\", \"plot_bgcolor\": \"#E5ECF6\", \"polar\": {\"angularaxis\": {\"gridcolor\": \"white\", \"linecolor\": \"white\", \"ticks\": \"\"}, \"bgcolor\": \"#E5ECF6\", \"radialaxis\": {\"gridcolor\": \"white\", \"linecolor\": \"white\", \"ticks\": \"\"}}, \"scene\": {\"xaxis\": {\"backgroundcolor\": \"#E5ECF6\", \"gridcolor\": \"white\", \"gridwidth\": 2, \"linecolor\": \"white\", \"showbackground\": true, \"ticks\": \"\", \"zerolinecolor\": \"white\"}, \"yaxis\": {\"backgroundcolor\": \"#E5ECF6\", \"gridcolor\": \"white\", \"gridwidth\": 2, \"linecolor\": \"white\", \"showbackground\": true, \"ticks\": \"\", \"zerolinecolor\": \"white\"}, \"zaxis\": {\"backgroundcolor\": \"#E5ECF6\", \"gridcolor\": \"white\", \"gridwidth\": 2, \"linecolor\": \"white\", \"showbackground\": true, \"ticks\": \"\", \"zerolinecolor\": \"white\"}}, \"shapedefaults\": {\"line\": {\"color\": \"#2a3f5f\"}}, \"ternary\": {\"aaxis\": {\"gridcolor\": \"white\", \"linecolor\": \"white\", \"ticks\": \"\"}, \"baxis\": {\"gridcolor\": \"white\", \"linecolor\": \"white\", \"ticks\": \"\"}, \"bgcolor\": \"#E5ECF6\", \"caxis\": {\"gridcolor\": \"white\", \"linecolor\": \"white\", \"ticks\": \"\"}}, \"title\": {\"x\": 0.05}, \"xaxis\": {\"automargin\": true, \"gridcolor\": \"white\", \"linecolor\": \"white\", \"ticks\": \"\", \"title\": {\"standoff\": 15}, \"zerolinecolor\": \"white\", \"zerolinewidth\": 2}, \"yaxis\": {\"automargin\": true, \"gridcolor\": \"white\", \"linecolor\": \"white\", \"ticks\": \"\", \"title\": {\"standoff\": 15}, \"zerolinecolor\": \"white\", \"zerolinewidth\": 2}}}},                        {\"responsive\": true}                    ).then(function(){\n",
       "                            \n",
       "var gd = document.getElementById('7e956d69-7f02-463f-a62c-f6ba7da8a61f');\n",
       "var x = new MutationObserver(function (mutations, observer) {{\n",
       "        var display = window.getComputedStyle(gd).display;\n",
       "        if (!display || display === 'none') {{\n",
       "            console.log([gd, 'removed!']);\n",
       "            Plotly.purge(gd);\n",
       "            observer.disconnect();\n",
       "        }}\n",
       "}});\n",
       "\n",
       "// Listen for the removal of the full notebook cells\n",
       "var notebookContainer = gd.closest('#notebook-container');\n",
       "if (notebookContainer) {{\n",
       "    x.observe(notebookContainer, {childList: true});\n",
       "}}\n",
       "\n",
       "// Listen for the clearing of the current output cell\n",
       "var outputEl = gd.closest('.output');\n",
       "if (outputEl) {{\n",
       "    x.observe(outputEl, {childList: true});\n",
       "}}\n",
       "\n",
       "                        })                };                });            </script>        </div>"
      ]
     },
     "metadata": {},
     "output_type": "display_data"
    }
   ],
   "source": [
    "bcr = base_calling_random(dfm_l)\n",
    "plotly_basecalling(*bcr)"
   ]
  },
  {
   "cell_type": "code",
   "execution_count": null,
   "id": "lucky-mobility",
   "metadata": {},
   "outputs": [],
   "source": []
  }
 ],
 "metadata": {
  "kernelspec": {
   "display_name": "Python 3",
   "language": "python",
   "name": "python3"
  },
  "language_info": {
   "codemirror_mode": {
    "name": "ipython",
    "version": 3
   },
   "file_extension": ".py",
   "mimetype": "text/x-python",
   "name": "python",
   "nbconvert_exporter": "python",
   "pygments_lexer": "ipython3",
   "version": "3.7.3"
  }
 },
 "nbformat": 4,
 "nbformat_minor": 5
}
