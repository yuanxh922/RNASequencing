{
 "cells": [
  {
   "cell_type": "code",
   "execution_count": null,
   "metadata": {},
   "outputs": [],
   "source": [
    "import pandas as pd\n",
    "import matplotlib.pyplot as plt"
   ]
  },
  {
   "cell_type": "code",
   "execution_count": null,
   "metadata": {},
   "outputs": [],
   "source": [
    "%run ../modules/utils.ipynb"
   ]
  },
  {
   "cell_type": "code",
   "execution_count": null,
   "metadata": {},
   "outputs": [],
   "source": [
    "df = pd.read_excel('/Users/bryan/Documents/BioPharmaFinder/ZhangLab/oligossample3-1.xlsx')\n",
    "# df = pd.read_excel('/Users/bryan/Documents/BioPharmaFinder/ZhangLab/Data/Excels/total_tRNA_no_acid_deg_20to40b_70c_component_only.xlsx')\n",
    "df.shape"
   ]
  },
  {
   "cell_type": "code",
   "execution_count": null,
   "metadata": {},
   "outputs": [],
   "source": [
    "df = thermo_df(df)"
   ]
  },
  {
   "cell_type": "code",
   "execution_count": null,
   "metadata": {},
   "outputs": [],
   "source": [
    "df_25k = df[(df.Mass > 2E4) & (df.Mass < 3E4)]\n",
    "df_25k.shape"
   ]
  },
  {
   "cell_type": "code",
   "execution_count": null,
   "metadata": {},
   "outputs": [],
   "source": [
    "# df_25k.to_excel('~/Downloads/total_tRNA_20to40_no_ad_25k.xlsx')\n",
    "df_25k.to_excel('~/Downloads/total_tRNA_sample3_no_ad_25k.xlsx')"
   ]
  },
  {
   "cell_type": "code",
   "execution_count": null,
   "metadata": {},
   "outputs": [],
   "source": [
    "# plot_zones(df, df_25k)\n",
    "plt.figure(figsize=(12, 9))\n",
    "plt.xlabel('Mass')\n",
    "plt.ylabel('RT')\n",
    "plt.scatter(df.Mass, df.RT)\n",
    "plt.scatter(df_25k.Mass, df_25k.RT, color='g')\n",
    "\n",
    "plt.savefig('/Users/bryan/Downloads/tRNA_full.png')"
   ]
  },
  {
   "cell_type": "code",
   "execution_count": null,
   "metadata": {},
   "outputs": [],
   "source": [
    "# plot_zone(df_25k)\n",
    "\n",
    "plt.figure(figsize=(12, 9))\n",
    "plt.xlabel('Mass')\n",
    "plt.ylabel('RT')\n",
    "plt.scatter(df_25k.Mass, df_25k.RT, color='g')\n",
    "\n",
    "# plt.savefig('/Users/bryan/Downloads/tRNA_25k.png')"
   ]
  },
  {
   "cell_type": "code",
   "execution_count": null,
   "metadata": {},
   "outputs": [],
   "source": [
    "import plotly.graph_objects as go\n",
    "\n",
    "idxs = list()\n",
    "# create our callback function\n",
    "def update_point(trace, points, selector):\n",
    "    print('points {}'.format(points.point_inds) )\n",
    "    idxs.extend(points.point_inds)\n",
    "\n",
    "# df_draw = df2[(df2.Mass > 12329) & (df2.Mass < 22000) & (df2.RT < 25) & (df2.RT > 8)]\n",
    "df_draw = df_25k #df7\n",
    "# df_draw = df2_top[(df2_top.RT < 25) & (df2_top.RT > 8)]\n",
    "x = df_draw.Mass\n",
    "y = df_draw.RT\n",
    "fig = go.Scatter(x=x, y=y, mode='markers')\n",
    "f = go.FigureWidget(fig)\n",
    "f.update_layout(autosize=False, width=1024, height=700, paper_bgcolor=\"LightSteelBlue\",\n",
    "    margin=dict(\n",
    "        l=20,\n",
    "        r=20,\n",
    "        b=20,\n",
    "        t=20,\n",
    "        pad=4\n",
    "    ))\n",
    "scatter = f.data[0]\n",
    "scatter.on_selection(update_point)\n",
    "f"
   ]
  },
  {
   "cell_type": "code",
   "execution_count": null,
   "metadata": {},
   "outputs": [],
   "source": [
    "import plotly.graph_objects as go\n",
    "\n",
    "idxs = list()\n",
    "# create our callback function\n",
    "def update_point(trace, points, selector):\n",
    "    print('points {}'.format(points.point_inds) )\n",
    "    idxs.extend(points.point_inds)\n",
    "\n",
    "# df_draw = df2[(df2.Mass > 12329) & (df2.Mass < 22000) & (df2.RT < 25) & (df2.RT > 8)]\n",
    "df_draw = df_25k #df7\n",
    "# df_draw = df2_top[(df2_top.RT < 25) & (df2_top.RT > 8)]\n",
    "x = df_draw.Mass\n",
    "y = df_draw.Vol\n",
    "fig = go.Scatter(x=x, y=y, mode='markers')\n",
    "f = go.FigureWidget(fig)\n",
    "f.update_layout(autosize=False, width=1024, height=700, paper_bgcolor=\"LightSteelBlue\",\n",
    "    margin=dict(\n",
    "        l=20,\n",
    "        r=20,\n",
    "        b=20,\n",
    "        t=20,\n",
    "        pad=4\n",
    "    ))\n",
    "scatter = f.data[0]\n",
    "scatter.on_selection(update_point)\n",
    "f"
   ]
  },
  {
   "cell_type": "code",
   "execution_count": null,
   "metadata": {},
   "outputs": [],
   "source": [
    "df_25k.sort_values('Mass', ascending=False)"
   ]
  },
  {
   "cell_type": "code",
   "execution_count": null,
   "metadata": {},
   "outputs": [],
   "source": [
    "# 20to40 CCA-tailed\n",
    "masses = [24625.465389, 24763.495702, 24939.515536, 27657.762268]\n",
    "vols = [601938.14, 1979656.58, 347778.18, 687400.02]"
   ]
  },
  {
   "cell_type": "code",
   "execution_count": null,
   "metadata": {},
   "outputs": [],
   "source": [
    "masses = [24939.512133, 27657.742294, 25334.583962]\n",
    "vols = [344737.73, 663069.60, 169882.50]"
   ]
  },
  {
   "cell_type": "code",
   "execution_count": null,
   "metadata": {},
   "outputs": [],
   "source": [
    "plt.figure(figsize=(12, 9))\n",
    "plt.xlabel('Monoisotopic Mass')\n",
    "plt.ylabel('Sum Intensity')\n",
    "plt.scatter(df.Mass, df.Vol, color='r')\n",
    "plt.scatter(masses, vols, color='b')\n",
    "\n",
    "for mass, vol in zip(masses, vols):\n",
    "    txt = '{:.2f}'.format(mass)\n",
    "    plt.annotate(s=txt, size=13, xy=(mass, vol), textcoords=\"offset points\", xytext=(10, -20), ha='center')"
   ]
  },
  {
   "cell_type": "markdown",
   "metadata": {},
   "source": [
    "# CCA, CC, C matched in NO_acid_degration MFEs"
   ]
  },
  {
   "cell_type": "code",
   "execution_count": null,
   "metadata": {},
   "outputs": [],
   "source": [
    "df = pd.read_excel('/Users/bryan/Downloads/total_tRNA_no_acid_deg_2.xlsx')\n",
    "df.shape"
   ]
  },
  {
   "cell_type": "code",
   "execution_count": null,
   "metadata": {},
   "outputs": [],
   "source": [
    "df = thermo_df(df, key_rows_only=False)"
   ]
  },
  {
   "cell_type": "code",
   "execution_count": null,
   "metadata": {},
   "outputs": [],
   "source": [
    "df.info()"
   ]
  },
  {
   "cell_type": "code",
   "execution_count": null,
   "metadata": {},
   "outputs": [],
   "source": [
    "df['CCAmatched'] = df['CCAmatched'].map({1: True})\n",
    "df['CCmatched'] = df['CCmatched'].map({1: True})\n",
    "df['Cmatched'] = df['Cmatched'].map({1: True})\n",
    "df['CCmethyl'] = df['CCmethyl'].map({1: True})\n",
    "df['Cmethyl'] = df['Cmethyl'].map({1: True})"
   ]
  },
  {
   "cell_type": "code",
   "execution_count": null,
   "metadata": {},
   "outputs": [],
   "source": [
    "df.fillna(False, inplace=True)"
   ]
  },
  {
   "cell_type": "code",
   "execution_count": null,
   "metadata": {},
   "outputs": [],
   "source": [
    "df.head()"
   ]
  },
  {
   "cell_type": "code",
   "execution_count": null,
   "metadata": {},
   "outputs": [],
   "source": [
    "df.info()"
   ]
  },
  {
   "cell_type": "code",
   "execution_count": null,
   "metadata": {},
   "outputs": [],
   "source": [
    "df_cca = df[df.CCAmatched == True]\n",
    "df_cc = df[df.CCmatched == True]\n",
    "df_c = df[df.Cmatched == True]\n",
    "df_cc_me = df[df.CCmethyl == True]\n",
    "df_c_me = df[df.Cmethyl == True]"
   ]
  },
  {
   "cell_type": "code",
   "execution_count": null,
   "metadata": {},
   "outputs": [],
   "source": [
    "df_union = pd.concat([df_cca, df_cc, df_c])"
   ]
  },
  {
   "cell_type": "code",
   "execution_count": null,
   "metadata": {},
   "outputs": [],
   "source": [
    "# plt.figure(figsize=(12, 9))\n",
    "fig, (ax1, ax2) = plt.subplots(1, 2, figsize=(30, 18), sharex=True)\n",
    "fig.suptitle('total tRNA no-acid-degration')\n",
    "#### ax1\n",
    "# ax1.xlabel('Monoisotopic Mass')\n",
    "# ax1.ylabel('Sum Intensity')\n",
    "ax1.set(xlabel='Monoisotopic Mass', ylabel='Sum Intensity')\n",
    "ax1.scatter(df.Mass, df.Vol, color='r')\n",
    "\n",
    "ax1.scatter(df_union.Mass, df_union.Vol, color='b')\n",
    "\n",
    "for idx, row in df_union.iterrows():\n",
    "    txt = '{:.2f}'.format(row.Mass)\n",
    "    ax1.annotate(s=txt, size=13, xy=(row.Mass, row.Vol), textcoords=\"offset points\", xytext=(10, -20), ha='center')\n",
    "\n",
    "#### ax2\n",
    "# ax1.xlabel('Monoisotopic Mass')\n",
    "# ax1.ylabel('Sum Intensity')\n",
    "ax2.set(xlabel='Monoisotopic Mass', ylabel='RT')\n",
    "ax2.scatter(df.Mass, df.RT, color='r')\n",
    "\n",
    "# df_union = pd.concat([df_cca, df_cc, df_cc_me])\n",
    "ax2.scatter(df_union.Mass, df_union.RT, color='b')\n",
    "\n",
    "for idx, row in df_union.iterrows():\n",
    "    txt = '{:.2f}'.format(row.Mass)\n",
    "    ax2.annotate(s=txt, size=13, xy=(row.Mass, row.RT), textcoords=\"offset points\", xytext=(10, -20), ha='center')"
   ]
  },
  {
   "cell_type": "code",
   "execution_count": null,
   "metadata": {},
   "outputs": [],
   "source": [
    "# df_25k.to_excel('total_tRNA_no_acid_deg_1.xlsx')"
   ]
  },
  {
   "cell_type": "code",
   "execution_count": null,
   "metadata": {},
   "outputs": [],
   "source": []
  }
 ],
 "metadata": {
  "kernelspec": {
   "display_name": "Python 3",
   "language": "python",
   "name": "python3"
  },
  "language_info": {
   "codemirror_mode": {
    "name": "ipython",
    "version": 3
   },
   "file_extension": ".py",
   "mimetype": "text/x-python",
   "name": "python",
   "nbconvert_exporter": "python",
   "pygments_lexer": "ipython3",
   "version": "3.7.3"
  }
 },
 "nbformat": 4,
 "nbformat_minor": 4
}
