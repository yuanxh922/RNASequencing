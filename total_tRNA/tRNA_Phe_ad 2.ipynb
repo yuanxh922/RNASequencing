{
 "cells": [
  {
   "cell_type": "code",
   "execution_count": null,
   "metadata": {},
   "outputs": [],
   "source": [
    "import pandas as pd\n",
    "import matplotlib\n",
    "import plotly.express as px\n",
    "import matplotlib.pyplot as plt"
   ]
  },
  {
   "cell_type": "code",
   "execution_count": null,
   "metadata": {},
   "outputs": [],
   "source": [
    "%run ../modules/utils.ipynb\n",
    "%run ../modules/cds.ipynb\n",
    "%run ../modules/preprocessing.ipynb"
   ]
  },
  {
   "cell_type": "code",
   "execution_count": null,
   "metadata": {},
   "outputs": [],
   "source": [
    "# df = pd.read_excel('/Users/bryan/Documents/BioPharmaFinder/ZhangLab/total_tRNA_acid_deg_oligosdegcoplex4.xlsx')\n",
    "df = pd.read_excel('/Users/bryan/Documents/BioPharmaFinder/ZhangLab/Data/Excels/tRNA_Phe_0724.xlsx')\n",
    "df.shape"
   ]
  },
  {
   "cell_type": "code",
   "execution_count": null,
   "metadata": {},
   "outputs": [],
   "source": [
    "df_std_phe_76_5p = pd.read_excel('/Users/bryan/Studio/tools/phe_76_5p.xlsx')\n",
    "df_std_phe_76_3p = pd.read_excel('/Users/bryan/Studio/tools/phe_76_3p.xlsx')\n",
    "df_std_phe_75_3p = pd.read_excel('/Users/bryan/Studio/tools/phe_75_3p.xlsx')"
   ]
  },
  {
   "cell_type": "code",
   "execution_count": null,
   "metadata": {},
   "outputs": [],
   "source": [
    "df_noad = pd.read_excel('/Users/bryan/Documents/BioPharmaFinder/ZhangLab/oligossample1.xlsx')\n",
    "df_noad.shape"
   ]
  },
  {
   "cell_type": "code",
   "execution_count": null,
   "metadata": {},
   "outputs": [],
   "source": [
    "df_5p = pd.read_excel('/Users/bryan/Documents/BioPharmaFinder/ZhangLab/MassSum/GraphsOutput/phe5p.xlsx')\n",
    "df_3p = pd.read_excel('/Users/bryan/Documents/BioPharmaFinder/ZhangLab/MassSum/GraphsOutput/phe3p.xlsx')\n",
    "df_5p.shape, df_3p.shape"
   ]
  },
  {
   "cell_type": "code",
   "execution_count": null,
   "metadata": {},
   "outputs": [],
   "source": [
    "df_5p = df_5p.sort_values('Vol', ascending=False).iloc[:1000]\n",
    "df_3p = df_3p.sort_values('Vol', ascending=False).iloc[:1000]"
   ]
  },
  {
   "cell_type": "code",
   "execution_count": null,
   "metadata": {},
   "outputs": [],
   "source": [
    "df = thermo_df(df)\n",
    "df_noad = thermo_df(df_noad)"
   ]
  },
  {
   "cell_type": "code",
   "execution_count": null,
   "metadata": {},
   "outputs": [],
   "source": [
    "df_25k_noad = df_noad[(df_noad.Mass > 2.3E4) & (df_noad.Mass < 2.6E4) & (df_noad.Vol > 2E5) ] #  & (df_noad.Vol > 1E6)\n",
    "df_25k = df[(df.Mass > 2.3E4) & (df.Mass < 2.6E4) & (df.Vol > 5E5)] #  \n",
    "df_25k_noad.shape, df_25k.shape\n"
   ]
  },
  {
   "cell_type": "code",
   "execution_count": null,
   "metadata": {},
   "outputs": [],
   "source": [
    "# plotly_zones(df_25k_noad, df_25k, y='Vol')\n",
    "plotly_zone(df_25k_noad, y='Vol')\n",
    "plotly_zone(df_25k, y='Vol')"
   ]
  },
  {
   "cell_type": "code",
   "execution_count": null,
   "metadata": {},
   "outputs": [],
   "source": [
    "masses_phe = [24581.380920, 24252.311092, 24238.33]\n",
    "masses_phe16 = [24597.35, 24268.30]\n",
    "masses_phe2 = [24596.356603, 24267.306460]\n",
    "masses_tyr = [25334.568757, 25005.518339]"
   ]
  },
  {
   "cell_type": "code",
   "execution_count": null,
   "metadata": {},
   "outputs": [],
   "source": [
    "df_a = df_25k_noad.copy()\n",
    "df_b = df_25k.copy()\n",
    "df_a['isAD'] = False\n",
    "df_b['isAD'] = True\n",
    "df_merge = pd.concat([df_a, df_b])\n",
    "\n",
    "%run ../modules/utils.ipynb\n",
    "%run ../modules/preprocessing.ipynb\n",
    "bcr = base_calling_random(df_merge, acid_labile=True)\n",
    "# print(bcr)\n",
    "plt, fig = plot_basecalling(*bcr, y='Vol')\n",
    "\n",
    "pre = df_a[df_a.Mass.isin(bcr[0].Mass)]\n",
    "post = df_b[df_b.Mass.isin(bcr[0].Mass)]\n",
    "plt.scatter(pre.Mass, pre.Vol, marker='<', s=100)\n",
    "plt.scatter(post.Mass, post.Vol, marker='>', s=100)\n",
    "# df_pairs = bcr2df(bcr[1])\n",
    "# output(df_pairs, plt, fig, 0, 'homology_acid_labile')"
   ]
  },
  {
   "cell_type": "code",
   "execution_count": null,
   "metadata": {},
   "outputs": [],
   "source": [
    "bcr = base_calling_random(df_25k, homology=True)\n",
    "# bcr = base_calling_random(df_25k_noad, homology=True)\n",
    "plt, fig = plot_basecalling(*bcr, y='Vol')\n",
    "# plt.scatter(df_25k_noad.Mass, df_25k_noad.Vol, color='gray')\n",
    "# output(df_25k_noad, plt, fig, 1, 'homology_no_acid_deg')\n",
    "# output(df_25k, plt, fig, 1, 'homology_acid_deg')\n",
    "bcr[1]"
   ]
  },
  {
   "cell_type": "code",
   "execution_count": null,
   "metadata": {},
   "outputs": [],
   "source": [
    "def bcr2df(bcr_pairs):\n",
    "    from collections import namedtuple\n",
    "    Pair = namedtuple('Pair', ['left', 'right', 'name'])\n",
    "    pairs = [Pair(i[0], i[1], i[2]) for i in bcr_pairs]\n",
    "    df_pairs = pd.DataFrame(pairs)\n",
    "    return df_pairs"
   ]
  },
  {
   "cell_type": "code",
   "execution_count": null,
   "metadata": {},
   "outputs": [],
   "source": [
    "# df_pairs = bcr2df(bcr[1])\n",
    "# df_pairs.to_excel('/Users/bryan/Documents/BioPharmaFinder/ZhangLab/MassSum/Homology/noad_connections.xlsx')\n",
    "# df_25k_noad.to_excel('/Users/bryan/Documents/BioPharmaFinder/ZhangLab/MassSum/Homology/noad.xlsx')\n",
    "# df_pairs.to_excel('/Users/bryan/Documents/BioPharmaFinder/ZhangLab/MassSum/Homology/ad_top_connections.xlsx')\n",
    "# df_25k.to_excel('/Users/bryan/Documents/BioPharmaFinder/ZhangLab/MassSum/Homology/ad_top.xlsx')\n",
    "# df_pairs.to_excel('/Users/bryan/Documents/BioPharmaFinder/ZhangLab/MassSum/Homology/ad_all_connections.xlsx')\n",
    "df_25k.to_excel('/Users/bryan/Documents/BioPharmaFinder/ZhangLab/MassSum/Homology/ad_all.xlsx')\n"
   ]
  },
  {
   "cell_type": "code",
   "execution_count": null,
   "metadata": {},
   "outputs": [],
   "source": [
    "df_25k_common = match_dfs(df_25k, df_25k_noad)\n",
    "# df_25k_common.to_excel('/Users/bryan/Documents/BioPharmaFinder/ZhangLab/MassSum/Homology/common_dots_within_PPM_10.xlsx')\n",
    "df_25k_common"
   ]
  },
  {
   "cell_type": "code",
   "execution_count": null,
   "metadata": {},
   "outputs": [],
   "source": [
    "full_mass = masses_phe[0]\n",
    "df_phe76 = computational_data_seperation(df_5p, df_3p, full_mass, ignore_endpoints=True)\n",
    "# plotly_zones(*df_phe74)"
   ]
  },
  {
   "cell_type": "code",
   "execution_count": null,
   "metadata": {},
   "outputs": [],
   "source": [
    "full_mass = masses_phe[1]\n",
    "df_phe75 = computational_data_seperation(df_5p, df_3p, full_mass, ignore_endpoints=True)\n",
    "# plotly_zones(*df_phe74)"
   ]
  },
  {
   "cell_type": "code",
   "execution_count": null,
   "metadata": {},
   "outputs": [],
   "source": [
    "full_mass = masses_phe[1] - C\n",
    "df_phe74 = computational_data_seperation(df_5p, df_3p, full_mass, ignore_endpoints=True)\n",
    "# plotly_zones(*df_phe74)"
   ]
  },
  {
   "cell_type": "code",
   "execution_count": null,
   "metadata": {},
   "outputs": [],
   "source": [
    "full_mass = masses_phe[1] + 2*M\n",
    "df_phe75m = computational_data_seperation(df_5p, df_3p, full_mass, ignore_endpoints=True)\n",
    "# plotly_zones(*df_phe75m)"
   ]
  },
  {
   "cell_type": "code",
   "execution_count": null,
   "metadata": {},
   "outputs": [],
   "source": [
    "full_mass = masses_phe16[0]\n",
    "df_phe16_76 = computational_data_seperation(df_5p, df_3p, full_mass, ignore_endpoints=True)\n",
    "# plotly_zones(*df_phe16_76)"
   ]
  },
  {
   "cell_type": "code",
   "execution_count": null,
   "metadata": {},
   "outputs": [],
   "source": [
    "full_mass = masses_phe16[1]\n",
    "df_phe16_75 = computational_data_seperation(df_5p, df_3p, full_mass, ignore_endpoints=True)\n",
    "# plotly_zones(*df_phe16_76)"
   ]
  },
  {
   "cell_type": "code",
   "execution_count": null,
   "metadata": {},
   "outputs": [],
   "source": [
    "full_mass = masses_phe2[1]\n",
    "df_phe2_75 = computational_data_seperation(df_5p, df_3p, full_mass, ignore_endpoints=True)\n",
    "# plotly_zones(*df_phe2_75)"
   ]
  },
  {
   "cell_type": "code",
   "execution_count": null,
   "metadata": {},
   "outputs": [],
   "source": [
    "# 5p\n",
    "\n",
    "df_5p_cca = pd.read_excel('/Users/bryan/Documents/BioPharmaFinder/ZhangLab/Data/Outputs_phe/complementary_5p_cca.xlsx')\n",
    "df_5p_cc = pd.read_excel('/Users/bryan/Documents/BioPharmaFinder/ZhangLab/Data/Outputs_phe/complementary_5p_cc.xlsx')\n",
    "\n",
    "df_ox_3p_cca = pd.read_excel('/Users/bryan/Documents/BioPharmaFinder/ZhangLab/Data/Outputs_a16Da/complementary_3p_cca.xlsx')\n",
    "df_ox_3p_cc = pd.read_excel('/Users/bryan/Documents/BioPharmaFinder/ZhangLab/Data/Outputs_a16Da/complementary_3p_cc_rev.xlsx')\n",
    "\n",
    "# df_16da_76_5p = pd.read_excel('/Users/bryan/Documents/BioPharmaFinder/ZhangLab/Data/Outputs/data_5p_16da.xlsx')\n",
    "df_28da_75_5p = pd.read_excel('/Users/bryan/Documents/BioPharmaFinder/ZhangLab/Data/Outputs/data_5p_28da.xlsx')\n",
    "\n",
    "fig, (ax1, ax2) = plt.subplots(2, figsize=(16, 3), sharex=True, sharey=True, gridspec_kw={'height_ratios': [3, 1]})\n",
    "# plt.xlabel('Position', fontname=\"Arial\", fontsize=15, color='black')\n",
    "# plt.ylabel('Relative Abandance', fontname=\"Arial\", fontsize=15, color='black')\n",
    "# plt.xticks(range(0, 77, 5), fontname=\"Arial\", size=13, color='black')\n",
    "# plt.yticks(range(6), fontname=\"Arial\", size=13, color='black')\n",
    "# ax1.set_yticks(range(6))\n",
    "# ax2.set_yticks(range(2))\n",
    "\n",
    "dfs = [(df_5p_cc, \"24252 5'\"), (df_5p_cca, \"24581 5'\"), (df_28da_75_5p, \"24280 5'\")] #, (df_phe16_75_5p, \"24268 5'\"), (df_phe74_5p, \"23947 5'\")\n",
    "total = len(dfs)\n",
    "df_isoforms = list()\n",
    "for idx, item in enumerate(dfs):\n",
    "    df_iso = item[0].copy()\n",
    "    if 'Position' in df_iso.columns:\n",
    "        df_iso['pos'] = df_iso.Position\n",
    "    else:\n",
    "        df_iso['pos'] = df_iso.Mass/320\n",
    "        df_iso.pos.astype(int)\n",
    "    label = item[1]\n",
    "    ax1.scatter(df_iso.Mass, [total - idx]*len(df_iso.Mass), label=label)\n",
    "    \n",
    "    df_iso['Isoform'] = idx + 1\n",
    "    df_isoforms.append(df_iso)\n",
    "# plt.legend(loc=3)\n",
    "\n",
    "df_merge_5p = pd.concat(df_isoforms).drop_duplicates(subset=['Mass', 'RT'])\n",
    "print(df_merge_5p.shape)\n",
    "ax2.scatter(df_merge_5p.Mass, [2]*df_merge_5p.shape[0], color='b')\n",
    "# ax2.scatter(df_phe_final_5p.Position, [3]*df_phe_final_5p.shape[0], color='b')\n",
    "# for idx, row in df_merge_5p.iterrows():\n",
    "#     x_pos = row.Mass #int(row.Mass/320)\n",
    "#     y_pos = 3.2\n",
    "#     plt.annotate(s=row.Base, size=9, xy=(x_pos, y_pos), textcoords=\"offset points\", xytext=(0, 0), ha='center', color='C0')\n",
    "\n",
    "df_merge_5p = pd.concat(df_isoforms)\n",
    "output(df_merge_5p, plt, fig, 1, 'phe_complement_5p')"
   ]
  },
  {
   "cell_type": "code",
   "execution_count": null,
   "metadata": {},
   "outputs": [],
   "source": []
  },
  {
   "cell_type": "code",
   "execution_count": null,
   "metadata": {},
   "outputs": [],
   "source": [
    "# 3p\n",
    "\n",
    "df_3p_cca = pd.read_excel('/Users/bryan/Documents/BioPharmaFinder/ZhangLab/Data/Outputs_phe/complementary_3p_cca.xlsx')\n",
    "df_3p_cc = pd.read_excel('/Users/bryan/Documents/BioPharmaFinder/ZhangLab/Data/Outputs_phe/complementary_3p_cc.xlsx')\n",
    "df_phe74_3p = pd.read_excel('/Users/bryan/Documents/BioPharmaFinder/SI/PheComplementary/phe74_3p.xlsx')\n",
    "\n",
    "# df_16da_76_5p = pd.read_excel('/Users/bryan/Documents/BioPharmaFinder/ZhangLab/Data/Outputs/data_5p_16da.xlsx')\n",
    "df_28da_76_3p = pd.read_excel('/Users/bryan/Documents/BioPharmaFinder/ZhangLab/Data/Outputs/data_76_3p_28da.xlsx')\n",
    "df_28da_75_3p = pd.read_excel('/Users/bryan/Documents/BioPharmaFinder/ZhangLab/Data/Outputs/data_75_3p_28da.xlsx')\n",
    "\n",
    "fig, (ax1, ax2) = plt.subplots(2, figsize=(16, 3), sharex=True, sharey=True, gridspec_kw={'height_ratios': [3, 1]})\n",
    "# plt.xlabel('Position', fontname=\"Arial\", fontsize=15, color='black')\n",
    "# plt.ylabel('Relative Abandance', fontname=\"Arial\", fontsize=15, color='black')\n",
    "# plt.xticks(range(0, 77, 5), fontname=\"Arial\", size=13, color='black')\n",
    "# plt.yticks(range(6), fontname=\"Arial\", size=13, color='black')\n",
    "\n",
    "dfs = [(df_3p_cc, \"24252 3'\"), (df_3p_cca, \"24581 3'\"), (df_28da_75_3p, \"24280 3'\")] #, (df_phe16_75_3p, \"24268 3'\"), (df_phe74_3p, \"23947 3'\")\n",
    "total = len(dfs)\n",
    "df_isoforms = list()\n",
    "for idx, item in enumerate(dfs):\n",
    "    df_iso = item[0].copy()\n",
    "    if 'Position' in df_iso.columns:\n",
    "        df_iso['pos'] = df_iso.Position\n",
    "    else:\n",
    "        df_iso['pos'] = df_iso.Mass/320\n",
    "        df_iso.pos.astype(int)\n",
    "    label = item[1]\n",
    "    ax1.scatter(df_iso.Mass, [total - idx]*len(df_iso.Mass))\n",
    "#     ax1.scatter(df_iso.Mass, [total - idx]*len(df_iso.Mass), label=label)\n",
    "    \n",
    "    df_iso['Isoform'] = idx + 1\n",
    "    df_isoforms.append(df_iso)\n",
    "# plt.legend(loc=4)\n",
    "\n",
    "df_merge_3p = pd.concat(df_isoforms).drop_duplicates(subset=['Mass', 'RT'])\n",
    "print(df_merge_3p.shape)\n",
    "ax2.scatter(df_merge_3p.Mass, [2]*df_merge_3p.shape[0], color='b')\n",
    "# ax2.scatter(df_phe_final_3p.Position, [3]*df_phe_final_3p.shape[0], color='b')\n",
    "# for idx, row in df_phe_final_3p.iterrows():\n",
    "#     if row.Base is np.nan:\n",
    "#         continue\n",
    "#     x_pos = row.Position #int(row.Mass/320)\n",
    "#     y_pos = 3.2\n",
    "#     plt.annotate(text=row.Base, size=9, xy=(x_pos, y_pos), textcoords=\"offset points\", xytext=(0, 0), ha='center', color='C0')\n",
    "\n",
    "output(df_merge_3p, plt, fig, 1, 'phe_complement_3p')"
   ]
  },
  {
   "cell_type": "code",
   "execution_count": null,
   "metadata": {},
   "outputs": [],
   "source": []
  },
  {
   "cell_type": "code",
   "execution_count": null,
   "metadata": {},
   "outputs": [],
   "source": [
    "# 5p & 3p --> 5p\n",
    "\n",
    "df_5p_cca = pd.read_excel('/Users/bryan/Documents/BioPharmaFinder/ZhangLab/Data/Outputs_phe/complementary_5p_cca.xlsx')\n",
    "df_5p_cc = pd.read_excel('/Users/bryan/Documents/BioPharmaFinder/ZhangLab/Data/Outputs_phe/complementary_5p_cc.xlsx')\n",
    "# df_phe74_5p = pd.read_excel('/Users/bryan/Documents/BioPharmaFinder/SI/PheComplementary/phe74_5p.xlsx')\n",
    "\n",
    "df_3p_cca_rev = pd.read_excel('/Users/bryan/Documents/BioPharmaFinder/ZhangLab/Data/Outputs_phe/complementary_3p_cca_rev.xlsx')\n",
    "df_3p_cc_rev = pd.read_excel('/Users/bryan/Documents/BioPharmaFinder/ZhangLab/Data/Outputs_phe/complementary_3p_cc_rev.xlsx')\n",
    "\n",
    "df_3p_cca_rev = df_3p_cca_rev[df_3p_cca_rev.Mass>200]\n",
    "df_3p_cc_rev = df_3p_cc_rev[df_3p_cc_rev.Mass>200]\n",
    "\n",
    "# df_16da_76_5p = pd.read_excel('/Users/bryan/Documents/BioPharmaFinder/ZhangLab/Data/Outputs/data_5p_16da.xlsx')\n",
    "df_28da_75_5p = pd.read_excel('/Users/bryan/Documents/BioPharmaFinder/ZhangLab/Data/Outputs/data_5p_28da.xlsx')\n",
    "df_16da_76_3p_rev = pd.read_excel('/Users/bryan/Documents/BioPharmaFinder/ZhangLab/Data/Outputs/data_76_3p_16da_rev.xlsx')\n",
    "df_16da_75_3p_rev = pd.read_excel('/Users/bryan/Documents/BioPharmaFinder/ZhangLab/Data/Outputs/data_75_3p_16da_rev.xlsx')\n",
    "df_28da_75_3p_rev = pd.read_excel('/Users/bryan/Documents/BioPharmaFinder/ZhangLab/Data/Outputs/data_75_3p_28da_rev.xlsx')\n",
    "\n",
    "df_16da_76_3p_rev = df_16da_76_3p_rev[df_16da_76_3p_rev.Mass>200]\n",
    "df_16da_75_3p_rev = df_16da_75_3p_rev[df_16da_75_3p_rev.Mass>200]\n",
    "df_28da_75_3p_rev = df_28da_75_3p_rev[df_28da_75_3p_rev.Mass>200]\n",
    "\n",
    "fig, (ax1, ax2) = plt.subplots(2, figsize=(12, 3), sharex=True, sharey=True, gridspec_kw={'height_ratios': [3, 1]})\n",
    "# plt.xlabel('Position', fontname=\"Arial\", fontsize=15, color='black')\n",
    "# plt.ylabel('Relative Abandance', fontname=\"Arial\", fontsize=15, color='black')\n",
    "# plt.xticks(range(0, 77, 5), fontname=\"Arial\", size=13, color='black')\n",
    "# plt.yticks(range(6), fontname=\"Arial\", size=13, color='black')\n",
    "# ax1.set_yticks(range(6))\n",
    "# ax2.set_yticks(range(2))\n",
    "\n",
    "dfs = [(df_5p_cc, \"24252 5'\"), (df_5p_cca, \"24581 5'\"), \n",
    "       (df_28da_75_5p, \"24280 5'\"),\n",
    "#        (df_3p_cc_rev, \"24252 3' --> 5'\"), \n",
    "#        (df_3p_cca_rev, \"24581 3' --> 5'\"), \n",
    "       (df_16da_75_3p_rev, \"24268 3' --> 5'\"),\n",
    "      (df_16da_76_3p_rev, \"24597 3' --> 5'\")] #, (df_28da_75_3p_rev, \"24280 3' --> 5'\") , (df_phe16_75_5p, \"24268 5'\"), (df_phe74_5p, \"23947 5'\")\n",
    "total = len(dfs)\n",
    "df_isoforms = list()\n",
    "for idx, item in enumerate(dfs):\n",
    "    df_iso = item[0].copy()\n",
    "    if 'Position' in df_iso.columns:\n",
    "        df_iso['pos'] = df_iso.Position\n",
    "    else:\n",
    "        df_iso['pos'] = df_iso.Mass/320\n",
    "        df_iso.pos.astype(int)\n",
    "    label = item[1]\n",
    "    ax1.scatter(df_iso.Mass, [total - idx]*len(df_iso.Mass), label=label)\n",
    "    \n",
    "    df_iso['Isoform'] = idx + 1\n",
    "    df_isoforms.append(df_iso)\n",
    "# plt.legend(loc=3)\n",
    "\n",
    "df_merge_5p = pd.concat(df_isoforms).drop_duplicates(subset=['Mass', 'RT'])\n",
    "print(df_merge_5p.shape)\n",
    "ax2.scatter(df_merge_5p.Mass, [3]*df_merge_5p.shape[0], color='b')\n",
    "# ax2.scatter(df_phe_final_5p.Position, [3]*df_phe_final_5p.shape[0], color='b')\n",
    "# for idx, row in df_merge_5p.iterrows():\n",
    "#     x_pos = row.Mass #int(row.Mass/320)\n",
    "#     y_pos = 3.2\n",
    "#     plt.annotate(s=row.Base, size=9, xy=(x_pos, y_pos), textcoords=\"offset points\", xytext=(0, 0), ha='center', color='C0')\n",
    "\n",
    "df_merge_5p = pd.concat(df_isoforms)\n",
    "output(df_merge_5p, plt, fig, 1, 'phe_complement_5p3p')"
   ]
  },
  {
   "cell_type": "code",
   "execution_count": null,
   "metadata": {},
   "outputs": [],
   "source": []
  },
  {
   "cell_type": "code",
   "execution_count": null,
   "metadata": {},
   "outputs": [],
   "source": [
    "# fig = plt.figure(figsize=(16, 7))\n",
    "# plt.xlabel('Monoisotopic Mass (Da)', fontname=\"Arial\", fontsize=15, color='black')\n",
    "# plt.ylabel('Retention Time (min)', fontname=\"Arial\", fontsize=15, color='black')\n",
    "# plt.xticks(fontname=\"Arial\", size=13, color='black')\n",
    "# plt.yticks(fontname=\"Arial\", size=13, color='black')\n",
    "# plt.scatter(df_phe76[0].Mass, df_phe76[0].RT, label=\"24581 5'\")\n",
    "# plt.scatter(df_phe75[0].Mass, df_phe75[0].RT, label=\"24252 5'\")\n",
    "# plt.scatter(df_phe74[0].Mass, df_phe74[0].RT, label=\"23947 5'\")\n",
    "# plt.scatter(df_phe16_76[0].Mass, df_phe16_76[0].RT, label=\"24597 5'\")\n",
    "# plt.scatter(df_phe16_75[0].Mass, df_phe16_75[0].RT, label=\"24268 5'\")\n",
    "\n",
    "fig, (ax1, ax2) = plt.subplots(2, figsize=(16, 7), sharex=True, sharey=True, gridspec_kw={'height_ratios': [3, 1]})\n",
    "plt.xlabel('Position', fontname=\"Arial\", fontsize=15, color='black')\n",
    "plt.ylabel('Relative Abandance', fontname=\"Arial\", fontsize=15, color='black')\n",
    "plt.xticks(range(0, 77, 5), fontname=\"Arial\", size=13, color='black')\n",
    "plt.yticks(range(6), fontname=\"Arial\", size=13, color='black')\n",
    "# ax1.set_yticks(range(6))\n",
    "# ax2.set_yticks(range(2))\n",
    "\n",
    "df_ox_3p_cca = pd.read_excel('/Users/bryan/Documents/BioPharmaFinder/ZhangLab/Data/Outputs_a16Da/complementary_3p_cca_rev.xlsx')\n",
    "df_ox_3p_cc = pd.read_excel('/Users/bryan/Documents/BioPharmaFinder/ZhangLab/Data/Outputs_a16Da/complementary_3p_cc_rev.xlsx')\n",
    "df_3p_cca = pd.read_excel('/Users/bryan/Documents/BioPharmaFinder/ZhangLab/Data/Outputs_phe/complementary_3p_cca_rev.xlsx')\n",
    "df_3p_cc = pd.read_excel('/Users/bryan/Documents/BioPharmaFinder/ZhangLab/Data/Outputs_phe/complementary_3p_cc_rev.xlsx')\n",
    "df_5p_cca = pd.read_excel('/Users/bryan/Documents/BioPharmaFinder/ZhangLab/Data/Outputs_phe/complementary_5p_cca.xlsx')\n",
    "df_5p_cc = pd.read_excel('/Users/bryan/Documents/BioPharmaFinder/ZhangLab/Data/Outputs_phe/complementary_5p_cc.xlsx')\n",
    "\n",
    "dfs = [(df_5p_cca, \"24581 5'\"), (df_5p_cc, \"24252 5'\"), \n",
    "#        (df_phe16_76_5p, \"24597 5'\"), (df_phe16_75_5p, \"24268 5'\"), \n",
    "       (df_phe74_5p, \"23947 5'\"),\n",
    "       (df_3p_cca, \"24581 3'->5'\"), (df_3p_cc, \"24252 3'->5'\"),\n",
    "       (df_ox_3p_cca, \"24597 3'->5'\"), (df_ox_3p_cc, \"24268 3'->5'\")\n",
    "      ]\n",
    "total = len(dfs)\n",
    "df_isoforms = list()\n",
    "for idx, item in enumerate(dfs):\n",
    "    df_iso = item[0].copy()\n",
    "    if 'Position' in df_iso.columns or 'position' in df_iso.columns:\n",
    "        df_iso['pos'] = df_iso.Position\n",
    "    else:\n",
    "        df_iso['pos'] = df_iso.Mass/320\n",
    "        df_iso.pos.astype(int)\n",
    "    label = item[1]\n",
    "    ax1.scatter(df_iso.pos, [total - idx]*len(df_iso.Mass), label=label)\n",
    "    \n",
    "    df_iso['Isoform'] = idx + 1\n",
    "    df_isoforms.append(df_iso)\n",
    "# plt.legend(loc=3)\n",
    "\n",
    "ax2.scatter(df_phe_final_5p.Position, [3]*df_phe_final_5p.shape[0], color='b')\n",
    "for idx, row in df_phe_final_5p.iterrows():\n",
    "    x_pos = row.Position #int(row.Mass/320)\n",
    "    y_pos = 3.2\n",
    "    plt.annotate(s=row.Base, size=9, xy=(x_pos, y_pos), textcoords=\"offset points\", xytext=(0, 0), ha='center', color='C0')\n",
    "# for idx, df in enumerate([df_phe76, df_phe75, df_phe74, df_phe16_76, df_phe16_75]):\n",
    "#     df_tmp = df[0].copy()\n",
    "#     df_tmp['Isoform'] = idx + 1\n",
    "#     df_isoforms.append(df_tmp)\n",
    "df_merge_5p = pd.concat(df_isoforms)\n",
    "output(df_merge_5p, plt, fig, 1, 'phe_complement_5p')"
   ]
  },
  {
   "cell_type": "code",
   "execution_count": null,
   "metadata": {},
   "outputs": [],
   "source": [
    "plotly_zone(df_3p_cca)"
   ]
  },
  {
   "cell_type": "code",
   "execution_count": null,
   "metadata": {},
   "outputs": [],
   "source": [
    "plotly_multi_zones([df_phe76[0], df_phe75[0], df_phe74[0], df_phe16_76[0], df_phe75m[0]])\n",
    "plotly_multi_zones([df_phe76[1], df_phe75[1], df_phe74[1], df_phe16_76[1], df_phe75m[1]])"
   ]
  },
  {
   "cell_type": "code",
   "execution_count": null,
   "metadata": {},
   "outputs": [],
   "source": [
    "idxs = list()\n",
    "# create our callback function\n",
    "def on_selection(trace, points, selector):\n",
    "    print('points {}'.format(points.point_inds) )\n",
    "    idxs.extend(points.point_inds)\n",
    "\n",
    "def on_click(trace, points, selector):\n",
    "#     print('points {}'.format(points.point_inds) )\n",
    "    idxs.extend(points.point_inds)\n",
    "\n",
    "df_sample = df\n",
    "f = zone_selection(df_sample, on_selection=on_selection, on_click=on_click)\n",
    "f"
   ]
  },
  {
   "cell_type": "code",
   "execution_count": null,
   "metadata": {},
   "outputs": [],
   "source": [
    "df_chosen = df_sample.iloc[idxs]\n",
    "# df_zone = df_sample.drop(df_chosen.index)\n",
    "df_chosen.shape"
   ]
  },
  {
   "cell_type": "code",
   "execution_count": null,
   "metadata": {},
   "outputs": [],
   "source": [
    "df5p = df_chosen.copy()"
   ]
  },
  {
   "cell_type": "code",
   "execution_count": null,
   "metadata": {},
   "outputs": [],
   "source": [
    "df3p = df_chosen.copy()"
   ]
  },
  {
   "cell_type": "code",
   "execution_count": null,
   "metadata": {},
   "outputs": [],
   "source": [
    "import pandas as pd\n",
    "%run ../modules/utils.ipynb\n",
    "\n",
    "df5p = pd.read_excel('/Users/bryan/Documents/BioPharmaFinder/SI/LadderSeperation/dots_5p.xlsx')\n",
    "df3p = pd.read_excel('/Users/bryan/Documents/BioPharmaFinder/SI/LadderSeperation/dots_3p.xlsx')\n",
    "df = pd.read_excel('/Users/bryan/Documents/BioPharmaFinder/SI/LadderSeperation/overall_dots.xlsx')\n",
    "df3p5p_comm = pd.read_excel('/Users/bryan/Documents/BioPharmaFinder/SI/LadderSeperation/dots_overlap.xlsx')"
   ]
  },
  {
   "cell_type": "code",
   "execution_count": null,
   "metadata": {},
   "outputs": [],
   "source": [
    "plt, fig = local_plot_zones(df, df3p5p_comm)\n",
    "fig.tight_layout()\n",
    "plt.savefig(f'/Users/bryan/Documents/Data/separation/fig_overlap.svg', dpi=300, transparent=True)"
   ]
  },
  {
   "cell_type": "code",
   "execution_count": null,
   "metadata": {},
   "outputs": [],
   "source": [
    "df5p_rest = df.drop(df5p.index)\n",
    "df3p_rest = df.drop(df3p.index)\n",
    "df3p5p_comm = match_dfs(df3p, df5p)\n",
    "df.to_excel('/Users/bryan/Documents/BioPharmaFinder/SI/LadderSeperation/overall_dots.xlsx')\n",
    "df5p.to_excel('/Users/bryan/Documents/BioPharmaFinder/SI/LadderSeperation/dots_5p.xlsx')\n",
    "df3p.to_excel('/Users/bryan/Documents/BioPharmaFinder/SI/LadderSeperation/dots_3p.xlsx')\n",
    "df5p_rest.to_excel('/Users/bryan/Documents/BioPharmaFinder/SI/LadderSeperation/dots_5p_rest.xlsx')\n",
    "df3p_rest.to_excel('/Users/bryan/Documents/BioPharmaFinder/SI/LadderSeperation/dots_3p_rest.xlsx')\n",
    "df3p5p_comm.to_excel('/Users/bryan/Documents/BioPharmaFinder/SI/LadderSeperation/dots_overlap.xlsx')"
   ]
  },
  {
   "cell_type": "code",
   "execution_count": null,
   "metadata": {},
   "outputs": [],
   "source": [
    "# plotly_zones(df, df3p5p_comm)\n",
    "# plotly_zones(df5p_rest, df5p)"
   ]
  },
  {
   "cell_type": "code",
   "execution_count": null,
   "metadata": {},
   "outputs": [],
   "source": [
    "full_mass = masses_phe16[1]\n",
    "df_phe16_75 = computational_data_seperation(df_5p, df_3p, full_mass, ignore_endpoints=True)\n",
    "# plotly_zones(*df_phe16_75)"
   ]
  },
  {
   "cell_type": "code",
   "execution_count": null,
   "metadata": {},
   "outputs": [],
   "source": [
    "full_mass = masses_tyr[1]\n",
    "df_tyr75 = computational_data_seperation(df_5p, df_3p, full_mass, ignore_endpoints=True)\n",
    "# plotly_zones(*df_tyr75)"
   ]
  },
  {
   "cell_type": "code",
   "execution_count": null,
   "metadata": {},
   "outputs": [],
   "source": [
    "plotly_zone(df_tyr75[1])"
   ]
  },
  {
   "cell_type": "code",
   "execution_count": null,
   "metadata": {},
   "outputs": [],
   "source": [
    "%run ../modules/utils.ipynb\n",
    "orientation = 3\n",
    "if orientation == 5:\n",
    "    fullmass_dot = df_5p[(df_5p.Mass>full_mass-0.1) & (df_5p.Mass<full_mass+0.1)]\n",
    "    df_sample = df_5p\n",
    "    idx = 0\n",
    "else:\n",
    "    fullmass_dot = df_3p[(df_3p.Mass>full_mass-0.1) & (df_3p.Mass<full_mass+0.1)]\n",
    "    df_sample = df_3p\n",
    "    idx = 1\n",
    "print(fullmass_dot)\n",
    "# df_gap_phe76 = find_gap_dots(df_sample, df_zone, fullmass_dot, major=True, orientation=orientation) #df_phe76[idx]\n",
    "# df_gap_phe75 = find_gap_dots(df_sample, df_phe75[idx], fullmass_dot, major=True, orientation=orientation)\n",
    "# df_gap_phe75m = find_gap_dots(df_sample, df_phe75m[0], fullmass_dot, major=True, orientation=orientation)\n",
    "# df_gap_phe75m = find_gap_dots(df_3p, df_phe75m[1], fullmass_dot, major=True, orientation=3)\n",
    "# df_gap_phe75_m1m = find_gap_dots(df_3p, df_phe75_m1m[1], fullmass_dot, stop_at=5200, orientation=3)\n",
    "# df_gap_phe74 = find_gap_dots(df_sample, df_phe74[1], fullmass_dot, major=True, orientation=orientation) #, stop_at=8600\n",
    "# df_gap_phe74 = find_gap_dots(df_sample, df_phe74[0], fullmass_dot, major=True, orientation=orientation) \n",
    "# df_gap_phe16_76 = find_gap_dots(df_sample, df_phe16_76[1], fullmass_dot, major=False, orientation=orientation) #df_phe16_76[1]\n",
    "# df_gap_phe16_76 = find_gap_dots(df_sample, df_phe16_76[0], fullmass_dot, major=True, orientation=orientation)\n",
    "# df_gap_phe16_75 = find_gap_dots(df_sample, df_phe16_75[0], fullmass_dot, major=True, orientation=orientation)\n",
    "# df_gap_phe16_75 = find_gap_dots(df_sample, df_phe16_75[1], fullmass_dot, major=True, stop_at=13000, orientation=orientation)\n",
    "# df_gap_phe2_76 = find_gap_dots(df_3p, df_phe2[1], fullmass_dot, major=True, orientation=3) #df_phe2[0]\n",
    "df_gap_tyr_75 = find_gap_dots(df_sample, df_tyr75[1], fullmass_dot, major=True, orientation=orientation)"
   ]
  },
  {
   "cell_type": "code",
   "execution_count": null,
   "metadata": {},
   "outputs": [],
   "source": [
    "# df_phe76_5p = merge_gap(df_zone, df_gap_phe76) #df_phe76[0]\n",
    "# output2(df_phe76_5p, full_mass, \"phe76_5p\", orientation)\n",
    "# df_phe76_3p = merge_gap(df_phe76[1], df_gap_phe76)\n",
    "# output2(df_phe76_3p, full_mass, \"phe76_3p\")\n",
    "# df_phe75_5p = merge_gap(df_phe75[0], df_gap_phe75)\n",
    "# output2(df_phe75_5p, full_mass, \"phe75_5p\")\n",
    "# df_phe75_3p = merge_gap(df_phe75[1], df_gap_phe75)\n",
    "# output2(df_phe75_3p, full_mass, \"phe75_3p\")\n",
    "# df_phe74_5p = merge_gap(df_phe74[0], df_gap_phe74)\n",
    "# output2(df_phe74_5p, full_mass, \"phe74_5p\", orientation)\n",
    "# df_phe74_3p = merge_gap(df_phe74[1], df_gap_phe74)\n",
    "# output2(df_phe74_3p, full_mass, \"phe74_3p\", orientation)\n",
    "# df_phe16_76_5p = merge_gap(df_phe16_76[0], df_gap_phe16_76) #df_phe76[0]\n",
    "# output2(df_phe16_76_5p, full_mass, \"phe16_76_5p\", orientation)\n",
    "# df_phe16_76_3p = merge_gap(df_phe16_76[1], df_gap_phe16_76) #df_phe76[0]\n",
    "# output2(df_phe16_76_3p, full_mass, \"phe16_76_3p\", orientation)\n",
    "# df_phe16_75_5p = merge_gap(df_phe16_75[0], df_gap_phe16_75) #df_phe76[0]\n",
    "# output2(df_phe16_75_5p, full_mass, \"phe16_75_5p\", orientation)\n",
    "# df_phe16_75_3p = merge_gap(df_phe16_75[1], df_gap_phe16_75) #df_phe76[0]\n",
    "# output2(df_phe16_75_3p, full_mass, \"phe16_75_3p\", orientation)\n",
    "# df_phe75m_5p = merge_gap(df_phe75m[0], df_gap_phe75m) #df_phe76[0]\n",
    "# output2(df_phe75m_5p, full_mass, \"phe75m_5p\", orientation)\n",
    "\n",
    "# plotly_zones(df_tyr75[1], df_gap_tyr_75)\n",
    "# df_tyr_75_3p = merge_gap(df_tyr75[1], df_gap_tyr_75)\n",
    "\n",
    "bcr = base_calling_random(df_tyr_75_5p)\n",
    "plotly_basecalling(*bcr, annotate=False)"
   ]
  },
  {
   "cell_type": "code",
   "execution_count": null,
   "metadata": {},
   "outputs": [],
   "source": [
    "df_t = pd.read_excel('/Users/bryan/Documents/BioPharmaFinder/ZhangLab/MassSum/Yue/25334.618/skeleton_3p.xlsx')\n",
    "bcr = base_calling_random(df_t)\n",
    "plotly_basecalling(*bcr, annotate=False)\n",
    "\n"
   ]
  },
  {
   "cell_type": "code",
   "execution_count": null,
   "metadata": {},
   "outputs": [],
   "source": [
    "df_tyr_75_5p.sort_values('Mass')"
   ]
  },
  {
   "cell_type": "code",
   "execution_count": null,
   "metadata": {},
   "outputs": [],
   "source": [
    "df_phe76_5p = pd.read_excel('/Users/bryan/Documents/BioPharmaFinder/SI/Archive_YS/phe76_5p.xlsx')\n",
    "df_phe76_3p = pd.read_excel('/Users/bryan/Documents/BioPharmaFinder/SI/PheComplementary/phe76_3p.xlsx')\n",
    "df_phe75_5p = pd.read_excel('/Users/bryan/Documents/BioPharmaFinder/SI/Archive_YS/phe75_5p.xlsx')\n",
    "df_phe75_3p = pd.read_excel('/Users/bryan/Documents/BioPharmaFinder/SI/PheComplementary/phe75_3p.xlsx')\n",
    "df_phe16_76_5p = pd.read_excel('/Users/bryan/Documents/BioPharmaFinder/SI/PheComplementary/phe16_76_5p.xlsx')\n",
    "df_phe16_76_3p = pd.read_excel('/Users/bryan/Documents/BioPharmaFinder/SI/PheComplementary/phe16_76_3p.xlsx')\n",
    "df_phe16_75_5p = pd.read_excel('/Users/bryan/Documents/BioPharmaFinder/SI/PheComplementary/phe16_75_5p.xlsx')\n",
    "df_phe16_75_3p = pd.read_excel('/Users/bryan/Documents/BioPharmaFinder/SI/PheComplementary/phe16_75_3p.xlsx')\n",
    "df_phe74_5p = pd.read_excel('/Users/bryan/Documents/BioPharmaFinder/SI/PheComplementary/phe74_5p.xlsx')\n",
    "df_phe74_3p = pd.read_excel('/Users/bryan/Documents/BioPharmaFinder/SI/PheComplementary/phe74_3p.xlsx')"
   ]
  },
  {
   "cell_type": "code",
   "execution_count": null,
   "metadata": {},
   "outputs": [],
   "source": [
    "\n",
    "df_phe74_5p = pd.read_excel('/Users/bryan/Documents/BioPharmaFinder/SI/PheComplementary/phe74_5p.xlsx')"
   ]
  },
  {
   "cell_type": "code",
   "execution_count": null,
   "metadata": {},
   "outputs": [],
   "source": [
    "\n",
    "df_phe76_3p = pd.read_excel('/Users/bryan/Documents/BioPharmaFinder/SI/Archive_YS/phe76_3p.xlsx')\n",
    "df_phe75_3p = pd.read_excel('/Users/bryan/Documents/BioPharmaFinder/SI/Archive_YS/phe75_3p.xlsx')\n",
    "df_phe16_76_3p = pd.read_excel('/Users/bryan/Documents/BioPharmaFinder/SI/Archive_YS/phe16_76_3p.xlsx')\n",
    "df_phe16_75_3p = pd.read_excel('/Users/bryan/Documents/BioPharmaFinder/SI/Archive_YS/phe16_75_3p.xlsx')\n",
    "df_phe74_3p = pd.read_excel('/Users/bryan/Documents/BioPharmaFinder/SI/Archive_YS/phe74_3p.xlsx')"
   ]
  },
  {
   "cell_type": "code",
   "execution_count": null,
   "metadata": {},
   "outputs": [],
   "source": [
    "# tmp = df_std_phe_76_5p.copy()\n",
    "# df_a = match_dfs(tmp, df_phe16_76[0])\n",
    "# tmp.Mass += 16\n",
    "# df_b = match_dfs(tmp, df_phe16_76[0])\n",
    "# plotly_zones(df_a, df_b)\n",
    "df_phe16_76_5p = df_phe16_76[0].copy()\n",
    "# df_phe16_76_5p = df_phe16_76_5p[df_phe16_76_5p.Mass < 21000]"
   ]
  },
  {
   "cell_type": "code",
   "execution_count": null,
   "metadata": {},
   "outputs": [],
   "source": [
    "# df_phe_final_5p = pd.read_excel('/Users/bryan/Documents/BioPharmaFinder/SI/PheComplementary/final_phe_5p.xlsx')\n",
    "df_phe_final_5p = pd.read_excel('/Users/bryan/Documents/BioPharmaFinder/SI/Archive_YS/final.xlsx')\n",
    "# df_phe_final_3p = pd.read_excel('/Users/bryan/Documents/BioPharmaFinder/SI/PheComplementary/phe_final_3p.xlsx')\n",
    "df_phe_final_5p.shape#, df_phe_final_3p.shape"
   ]
  },
  {
   "cell_type": "code",
   "execution_count": null,
   "metadata": {},
   "outputs": [],
   "source": [
    "def output2(df, fullmass, name, orientation): \n",
    "    df.to_excel(f'/Users/bryan/Documents/BioPharmaFinder/SI/PheComplementary/{name}.xlsx')\n",
    "    bcr = base_calling_random(df, silence=True)\n",
    "    df_seats = process_mass_base_seats(df, bcr[1], full_mass=fullmass, orientation=orientation)\n",
    "    df_seats.to_excel(f'/Users/bryan/Documents/BioPharmaFinder/SI/PheComplementary/seats_{name}.xlsx')"
   ]
  },
  {
   "cell_type": "code",
   "execution_count": null,
   "metadata": {},
   "outputs": [],
   "source": [
    "plotly_zones(df_phe76[0], df_gap_phe76)\n",
    "# plotly_zones(df_phe74[0], df_gap_phe74)\n",
    "# plotly_zones(df_phe75m[1], df_gap_phe75m)\n",
    "# plotly_zones(df_phe16_76[0], df_gap_phe16_76) #df_phe16_76[1],\n",
    "# plotly_zones(df_phe16_75[0], df_gap_phe16_75)"
   ]
  },
  {
   "cell_type": "code",
   "execution_count": null,
   "metadata": {},
   "outputs": [],
   "source": [
    "dots_in_right_gap(df_5p, 21726.04018, masses_phe16[0])\n",
    "# components(22743.06447 - 21726.04018)"
   ]
  },
  {
   "cell_type": "code",
   "execution_count": null,
   "metadata": {},
   "outputs": [],
   "source": [
    "components(22032.076607 - 21726.04018)"
   ]
  },
  {
   "cell_type": "code",
   "execution_count": null,
   "metadata": {},
   "outputs": [],
   "source": [
    "orientation = 5\n",
    "# df_a = df_phe74[0].copy()\n",
    "# df_b = df_gap_phe74.copy()\n",
    "df_a = df_phe2[0].copy()\n",
    "df_b = df_gap_phe2_76.copy()\n",
    "df_a['isSkeleton'] = True\n",
    "df_b['isSkeleton'] = False\n",
    "df_merge = pd.concat([df_a, df_b])\n",
    "# df_merge = pd.concat(df_phe75_m1m[1], df_gap_phe75_m1m).drop_duplicates()\n",
    "bcr = base_calling_random(df_merge, silence=True)\n",
    "df_seats = process_mass_base_seats(df_merge, bcr[1], full_mass=full_mass, orientation=orientation)\n",
    "\n",
    "plt, fig = local_plot_zones(df_a, df_b)\n",
    "output(df_merge, plt, fig, 3, f'gap_file_{orientation}p')\n",
    "output(df_seats, plt, fig, 4, f'seats_{orientation}p')\n",
    "# df_seats.to_excel(f'/Users/bryan/Documents/BioPharmaFinder/ZhangLab/MassSum/GraphsOutput/S4_seats_5p.xlsx')"
   ]
  },
  {
   "cell_type": "code",
   "execution_count": null,
   "metadata": {},
   "outputs": [],
   "source": []
  },
  {
   "cell_type": "code",
   "execution_count": null,
   "metadata": {},
   "outputs": [],
   "source": []
  },
  {
   "cell_type": "code",
   "execution_count": null,
   "metadata": {},
   "outputs": [],
   "source": [
    "%run ../modules/utils.ipynb\n",
    "fullmass_dot = df_5p[(df_5p.Mass>full_mass-0.1) & (df_5p.Mass<full_mass+0.1)]\n",
    "print(fullmass_dot.empty)\n",
    "df_gap_dots_5p = find_gap_dots(df_5p, df_23947_5p, fullmass_dot, orientation=5)\n",
    "df_gap_dots_5p"
   ]
  },
  {
   "cell_type": "code",
   "execution_count": null,
   "metadata": {},
   "outputs": [],
   "source": [
    "# plotly_zones(df_23947_3p, df_gap_dots)\n",
    "plotly_zones(df_23947_5p, df_gap_dots_5p)"
   ]
  },
  {
   "cell_type": "code",
   "execution_count": null,
   "metadata": {},
   "outputs": [],
   "source": [
    "df_merge = pd.concat([df_23947_5p, df_gap_dots_5p]).drop_duplicates()\n",
    "bcr = base_calling_random(df_merge, silence=True)\n",
    "df_seats = process_mass_base_seats(df_merge, bcr[1], full_mass=full_mass, orientation=5)\n",
    "\n",
    "plt, fig = local_plot_zones(df_23947_5p, df_gap_dots_5p)\n",
    "output(df_merge, plt, fig, 3, 'gap_file_5p')\n",
    "output(df_seats, plt, fig, 3, 'seats_5p')\n",
    "# df_seats.to_excel(f'/Users/bryan/Documents/BioPharmaFinder/ZhangLab/MassSum/GraphsOutput/S4_seats.xlsx')"
   ]
  },
  {
   "cell_type": "code",
   "execution_count": null,
   "metadata": {},
   "outputs": [],
   "source": []
  },
  {
   "cell_type": "code",
   "execution_count": null,
   "metadata": {},
   "outputs": [],
   "source": []
  },
  {
   "cell_type": "code",
   "execution_count": null,
   "metadata": {},
   "outputs": [],
   "source": []
  },
  {
   "cell_type": "code",
   "execution_count": null,
   "metadata": {},
   "outputs": [],
   "source": [
    "def local_plot_zone(df, trend=False, order=1, y='RT'):\n",
    "    fig = plt.figure(figsize=(8.5, 4))\n",
    "    plt.xlabel('Monoisotopic Mass (Da)', fontname=\"Arial\", fontsize=15, color='black')\n",
    "    if y == 'RT':\n",
    "        plt.ylabel('Retention Time (min)', fontname=\"Arial\", fontsize=15, color='black')\n",
    "    else:\n",
    "        plt.ylabel('Intensity', fontname=\"Arial\", fontsize=15, color='black')\n",
    "    plt.xticks(fontname=\"Arial\", size=13, color='black')\n",
    "    plt.yticks(fontname=\"Arial\", size=13, color='black')\n",
    "    if trend:\n",
    "        sns.regplot(df.Mass, df[y], order=order)\n",
    "    else:\n",
    "        plt.scatter(df.Mass, df[y])\n",
    "    \n",
    "    return plt, fig\n",
    "\n",
    "def local_plot_zones(df3p, df5p, trend=False, y='RT'):\n",
    "    fig = plt.figure(figsize=(8.5, 4))\n",
    "    plt.xlabel('Monoisotopic Mass (Da)', fontname=\"Arial\", fontsize=15, color='black')\n",
    "    plt.ylabel('Retention Time (min)', fontname=\"Arial\", fontsize=15, color='black')\n",
    "    plt.xticks(fontname=\"Arial\", size=13, color='black')\n",
    "    plt.yticks(fontname=\"Arial\", size=13, color='black')\n",
    "    if trend:\n",
    "        sns.regplot(df3p.Mass, df3p[y])\n",
    "        sns.regplot(df5p.Mass, df5p[y], order=2)\n",
    "    else:\n",
    "        plt.scatter(df3p.Mass, df3p[y])\n",
    "        plt.scatter(df5p.Mass, df5p[y])\n",
    "    \n",
    "    return plt, fig\n",
    "\n",
    "def output(df_ds, plt, fig, idx, svg_name):\n",
    "    fig.tight_layout()\n",
    "    plt.savefig(f'/Users/bryan/Documents/BioPharmaFinder/ZhangLab/MassSum/GraphsOutput/Fig{idx}_{svg_name}.svg', dpi=300, transparent=True)\n",
    "    df_ds.to_excel(f'/Users/bryan/Documents/BioPharmaFinder/ZhangLab/MassSum/GraphsOutput/S{idx}_{svg_name}.xlsx')\n",
    "#     plt.savefig(f'/Users/bryan/Documents/BioPharmaFinder/SI/Phe/Fig{idx}_{svg_name}.svg', dpi=300, transparent=True)\n",
    "#     df_ds.to_excel(f'/Users/bryan/Documents/BioPharmaFinder/SI/Phe/S{idx}_{svg_name}.xlsx')"
   ]
  },
  {
   "cell_type": "code",
   "execution_count": null,
   "metadata": {},
   "outputs": [],
   "source": [
    "def merge_gap(df_skeleton, df_gap):\n",
    "    df1 = df_skeleton.copy()\n",
    "    df2 = df_gap.copy()\n",
    "    df1['isSkeleton'] = True\n",
    "    df2['isSkeleton'] = False\n",
    "    df_merge = pd.concat([df1, df2])\n",
    "    return df_merge"
   ]
  },
  {
   "cell_type": "code",
   "execution_count": null,
   "metadata": {},
   "outputs": [],
   "source": []
  }
 ],
 "metadata": {
  "kernelspec": {
   "display_name": "Python 3",
   "language": "python",
   "name": "python3"
  },
  "language_info": {
   "codemirror_mode": {
    "name": "ipython",
    "version": 3
   },
   "file_extension": ".py",
   "mimetype": "text/x-python",
   "name": "python",
   "nbconvert_exporter": "python",
   "pygments_lexer": "ipython3",
   "version": "3.7.3"
  }
 },
 "nbformat": 4,
 "nbformat_minor": 4
}
