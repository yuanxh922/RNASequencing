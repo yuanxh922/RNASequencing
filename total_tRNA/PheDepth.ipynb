{
 "cells": [
  {
   "cell_type": "code",
   "execution_count": null,
   "id": "correct-ceramic",
   "metadata": {},
   "outputs": [],
   "source": [
    "import pandas as pd\n",
    "import matplotlib\n",
    "import plotly.express as px\n",
    "import matplotlib.pyplot as plt"
   ]
  },
  {
   "cell_type": "code",
   "execution_count": null,
   "id": "empty-bankruptcy",
   "metadata": {},
   "outputs": [],
   "source": [
    "%run ../modules/utils.ipynb\n",
    "%run ../modules/cds.ipynb\n",
    "%run ../modules/preprocessing.ipynb"
   ]
  },
  {
   "cell_type": "code",
   "execution_count": null,
   "id": "growing-sucking",
   "metadata": {},
   "outputs": [],
   "source": [
    "# df = pd.read_excel('/Users/bryan/Documents/BioPharmaFinder/ZhangLab/total_tRNA_acid_deg_oligosdegcoplex4.xlsx')\n",
    "df = pd.read_excel('/Users/bryan/Documents/BioPharmaFinder/ZhangLab/Data/Excels/tRNA_Phe_0724.xlsx')\n",
    "# df = pd.read_excel('/Users/bryan/Documents/BioPharmaFinder/ZhangLab/Data/Excels/tRNA_Phe_0821.xlsx')\n",
    "df = thermo_df(df)\n",
    "df.shape"
   ]
  },
  {
   "cell_type": "code",
   "execution_count": null,
   "id": "seasonal-imagination",
   "metadata": {},
   "outputs": [],
   "source": [
    "plotly_zone(df)"
   ]
  },
  {
   "cell_type": "code",
   "execution_count": null,
   "id": "unlikely-helicopter",
   "metadata": {},
   "outputs": [],
   "source": [
    "df_76_5p = pd.read_excel('~/Studio/tools/phe_76_5p.xlsx')\n",
    "df_76_3p = pd.read_excel('~/Studio/tools/phe_76_3p.xlsx')\n",
    "df_75_5p = pd.read_excel('~/Studio/tools/phe_75_5p.xlsx')\n",
    "df_75_3p = pd.read_excel('~/Studio/tools/phe_75_3p.xlsx')\n",
    "df_74_5p = pd.read_excel('~/Studio/tools/phe_74_5p.xlsx')\n",
    "df_74_3p = pd.read_excel('~/Studio/tools/phe_74_3p.xlsx')\n",
    "\n",
    "df_597_5p = pd.read_excel('~/Studio/tools/phe3_76_5p.xlsx')\n",
    "df_597_3p = pd.read_excel('~/Studio/tools/phe3_76_3p.xlsx')\n",
    "df_268_5p = pd.read_excel('~/Studio/tools/phe3_75_5p.xlsx')\n",
    "df_268_3p = pd.read_excel('~/Studio/tools/phe3_75_3p.xlsx')"
   ]
  },
  {
   "cell_type": "code",
   "execution_count": null,
   "id": "worldwide-aquarium",
   "metadata": {},
   "outputs": [],
   "source": [
    "df_templates_5p = [df_75_5p, df_76_5p, df_268_5p, df_597_5p, df_74_5p]\n",
    "df_templates_3p = [df_75_3p, df_76_3p, df_268_3p, df_597_3p, df_74_3p]"
   ]
  },
  {
   "cell_type": "code",
   "execution_count": null,
   "id": "naval-exchange",
   "metadata": {},
   "outputs": [],
   "source": [
    "dfm_5ps = list()\n",
    "for df_template in [df_75_5p, df_76_5p, df_268_5p, df_597_5p, df_74_5p]:\n",
    "    dfm = match_dfs(df_template, df)\n",
    "    dfm_5ps.append(dfm)\n",
    "\n",
    "dfm_3ps = list()\n",
    "for df_template in [df_75_3p, df_76_3p, df_268_3p, df_597_3p, df_74_3p]:\n",
    "    dfm = match_dfs(df_template, df)\n",
    "    dfm_3ps.append(dfm)"
   ]
  },
  {
   "cell_type": "code",
   "execution_count": null,
   "id": "homeless-alarm",
   "metadata": {},
   "outputs": [],
   "source": [
    "plotly_multi_zones(dfm_3ps)"
   ]
  },
  {
   "cell_type": "code",
   "execution_count": null,
   "id": "upset-journey",
   "metadata": {},
   "outputs": [],
   "source": []
  },
  {
   "cell_type": "code",
   "execution_count": null,
   "id": "gothic-london",
   "metadata": {},
   "outputs": [],
   "source": [
    "masses_phe = [24252.311092, 24581.380920, 24252.311092-C]\n",
    "masses_phe3 = [24268.30, 24597.35]\n",
    "masses_phe2 = [24596.356603, 24267.306460]"
   ]
  },
  {
   "cell_type": "code",
   "execution_count": null,
   "id": "entire-spider",
   "metadata": {},
   "outputs": [],
   "source": [
    "full_mass = masses_phe[0]\n",
    "df_phe75 = computational_data_seperation(dfm_5ps[0], dfm_3ps[0], full_mass, ignore_endpoints=True)\n",
    "\n",
    "full_mass = masses_phe[1]\n",
    "df_phe76 = computational_data_seperation(dfm_5ps[1], dfm_3ps[1], full_mass, ignore_endpoints=True)\n",
    "\n",
    "full_mass = masses_phe3[0]\n",
    "df_phe75_16da = computational_data_seperation(dfm_5ps[2], dfm_3ps[2], full_mass, ignore_endpoints=True)\n",
    "\n",
    "full_mass = masses_phe3[1]\n",
    "df_phe76_16da = computational_data_seperation(dfm_5ps[3], dfm_3ps[3], full_mass, ignore_endpoints=True)\n",
    "\n",
    "full_mass = masses_phe[2]\n",
    "df_phe74 = computational_data_seperation(dfm_5ps[4], dfm_3ps[4], full_mass, ignore_endpoints=True)"
   ]
  },
  {
   "cell_type": "code",
   "execution_count": null,
   "id": "viral-annual",
   "metadata": {},
   "outputs": [],
   "source": [
    "df_skeleton_5ps = list()\n",
    "df_skeleton_3ps = list()\n",
    "for idx, full_mass in enumerate([masses_phe[0], masses_phe[1], \n",
    "                                 masses_phe3[0], masses_phe3[1], \n",
    "                                 masses_phe[2]]):\n",
    "    df_skeletons = computational_data_seperation(dfm_5ps[idx], dfm_3ps[idx], \n",
    "                                                 full_mass, ignore_endpoints=True)\n",
    "    df_skeleton_5ps.append(df_skeletons[0])\n",
    "    df_skeleton_3ps.append(df_skeletons[1])"
   ]
  },
  {
   "cell_type": "code",
   "execution_count": null,
   "id": "allied-plymouth",
   "metadata": {},
   "outputs": [],
   "source": [
    "# print([df.shape for df in df_gap_5ps], [df.shape for df in df_gap_3ps],\n",
    "# [df.shape for df in df_skeleton_5ps], [df.shape for df in df_skeleton_3ps])\n",
    "\n",
    "df_combined_5ps = list()\n",
    "for pair in zip(df_skeleton_5ps, df_gap_5ps):\n",
    "    df_combined = pd.concat(pair)\n",
    "    df_combined_5ps.append(df_combined)\n",
    "[df.shape for df in df_combined_5ps]\n",
    "\n",
    "df_combined_3ps = list()\n",
    "for pair in zip(df_skeleton_3ps, df_gap_3ps):\n",
    "    df_combined = pd.concat(pair)\n",
    "    df_combined_3ps.append(df_combined)\n",
    "[df.shape for df in df_combined_3ps]"
   ]
  },
  {
   "cell_type": "code",
   "execution_count": null,
   "id": "smaller-acceptance",
   "metadata": {},
   "outputs": [],
   "source": [
    "plotly_multi_zones(df_combined_5ps)"
   ]
  },
  {
   "cell_type": "code",
   "execution_count": null,
   "id": "running-tokyo",
   "metadata": {},
   "outputs": [],
   "source": [
    "# plotly_zones(*df_phe74)\n",
    "fullmass_dot = pd.DataFrame()\n",
    "# df_gap_phe74 = find_gap_dots(dfm_3ps[4], df_phe74[1], fullmass_dot, major=True, orientation=3)\n",
    "# plotly_zone(df_gap_phe74)\n",
    "\n",
    "df_gap_5ps = list()\n",
    "for dfm, df_skeleton in zip(dfm_5ps, df_skeleton_5ps):\n",
    "    df_gap = find_gap_dots(dfm, df_skeleton, fullmass_dot, major=True, orientation=5)\n",
    "    df_gap_5ps.append(df_gap)\n",
    "\n",
    "df_gap_3ps = list()\n",
    "for dfm, df_skeleton in zip(dfm_3ps, df_skeleton_3ps):\n",
    "    df_gap = find_gap_dots(dfm, df_skeleton, fullmass_dot, major=True, orientation=3)\n",
    "    df_gap_3ps.append(df_gap)"
   ]
  },
  {
   "cell_type": "code",
   "execution_count": null,
   "id": "settled-fetish",
   "metadata": {},
   "outputs": [],
   "source": [
    "df_phe75_rev = df_combined_3ps[0].copy()\n",
    "df_phe75_rev.Mass = df_75_5p.Mass.max() - df_phe75_rev.Mass\n",
    "df_phe75_rev = df_phe75_rev[df_phe75_rev.Mass>200]\n",
    "\n",
    "df_phe76_rev = df_combined_3ps[1].copy()\n",
    "df_phe76_rev.Mass = df_76_5p.Mass.max() - df_phe76_rev.Mass\n",
    "df_phe76_rev = df_phe76_rev[df_phe76_rev.Mass>200]\n",
    "\n",
    "df_phe75_16da_rev = df_combined_3ps[2].copy()\n",
    "df_phe75_16da_rev.Mass = df_268_5p.Mass.max() - df_phe75_16da_rev.Mass\n",
    "df_phe75_16da_rev = df_phe75_16da_rev[df_phe75_16da_rev.Mass>200]\n",
    "\n",
    "df_phe76_16da_rev = df_combined_3ps[3].copy()\n",
    "df_phe76_16da_rev.Mass = df_597_5p.Mass.max() - df_phe76_16da_rev.Mass\n",
    "df_phe76_16da_rev = df_phe76_16da_rev[df_phe76_16da_rev.Mass>200]\n",
    "\n",
    "df_phe74_rev = df_combined_3ps[4].copy()\n",
    "df_phe74_rev.Mass = df_74_5p.Mass.max() - df_phe74_rev.Mass\n",
    "df_phe74_rev = df_phe74_rev[df_phe74_rev.Mass>200]"
   ]
  },
  {
   "cell_type": "code",
   "execution_count": null,
   "id": "reduced-houston",
   "metadata": {},
   "outputs": [],
   "source": [
    "df_revs = [df_phe75_rev, df_phe76_rev, df_phe75_16da_rev, df_phe76_16da_rev, df_phe74_rev]\n"
   ]
  },
  {
   "cell_type": "code",
   "execution_count": null,
   "id": "mineral-spray",
   "metadata": {},
   "outputs": [],
   "source": [
    "fig, (ax1, ax2) = plt.subplots(2, figsize=(12, 5), \n",
    "                               sharex=True, sharey=True, \n",
    "                               gridspec_kw={'height_ratios': [5, 1]})\n",
    "\n",
    "# dfs = [\n",
    "#        (dfm_5ps[0], \"24252 5'\"),\n",
    "#        (dfm_5ps[1], \"24581 5'\"),\n",
    "#        (dfm_5ps[2], \"24268 5'\"),\n",
    "#        (dfm_5ps[3], \"24597 5'\"),\n",
    "#        (dfm_5ps[4], \"23947 5'\"),\n",
    "       \n",
    "#        (dfm_3ps[0], \"24252 3' --> 5'\"),\n",
    "#        (dfm_3ps[1], \"24581 3' --> 5'\"),\n",
    "#        (dfm_3ps[2], \"24268 3' --> 5'\"),\n",
    "#        (dfm_3ps[3], \"24597 3' --> 5'\"),\n",
    "#        (dfm_3ps[4], \"23947 3' --> 5'\"),\n",
    "#       ] \n",
    "\n",
    "dftmp1 = df_combined_5ps[4].copy()\n",
    "dftmp1 = dftmp1[dftmp1.Mass>10000]\n",
    "dftmp2 = df_revs[2].copy()\n",
    "dftmp2 = dftmp2[dftmp2.Mass>10000]\n",
    "dftmp3 = df_revs[3].copy()\n",
    "dftmp3 = dftmp3[dftmp3.Mass>5000]\n",
    "dftmp4 = df_revs[4].copy()\n",
    "dftmp4 = dftmp4[dftmp4.Mass>14000]\n",
    "dfs = [\n",
    "       (df_combined_5ps[0], \"24252 5'\"),\n",
    "       (df_combined_5ps[1], \"24581 5'\"),\n",
    "       (df_combined_5ps[2], \"24268 5'\"),\n",
    "       (df_combined_5ps[3], \"24597 5'\"),\n",
    "       (dftmp1, \"23947 5'\"),\n",
    "       \n",
    "       (df_revs[0], \"24252 3' --> 5'\"),\n",
    "       (df_revs[1], \"24581 3' --> 5'\"),\n",
    "       (dftmp2, \"24268 3' --> 5'\"),\n",
    "       (dftmp3, \"24597 3' --> 5'\"),\n",
    "       (dftmp4, \"23947 3' --> 5'\"),\n",
    "      ] \n",
    "\n",
    "total = len(dfs)\n",
    "df_isoforms = list()\n",
    "for idx, item in enumerate(dfs):\n",
    "    df_iso = item[0].copy()\n",
    "    print(idx, df_iso.shape)\n",
    "    if 'Position' in df_iso.columns:\n",
    "        df_iso['pos'] = df_iso.Position\n",
    "    else:\n",
    "        df_iso['pos'] = df_iso.Mass/320\n",
    "        df_iso.pos.astype(int)\n",
    "    label = item[1]\n",
    "    ax1.scatter(df_iso.Mass, [total - idx]*len(df_iso.Mass), label=label)\n",
    "    \n",
    "    df_iso['Isoform'] = idx + 1\n",
    "    df_isoforms.append(df_iso)\n",
    "# plt.legend(loc=3)\n",
    "\n",
    "df_merge_5p = pd.concat(df_isoforms).drop_duplicates(subset=['Mass', 'RT'])\n",
    "print(df_merge_5p.shape)\n",
    "ax2.scatter(df_merge_5p.Mass, [3]*df_merge_5p.shape[0], color='b')\n",
    "\n",
    "# df_merge_5p = pd.concat(df_isoforms)\n",
    "# output(df_merge_5p, plt, fig, 1, 'phe_complement_5p3p')\n",
    "\n",
    "fig.tight_layout()\n",
    "plt.savefig('/Users/bryan/Downloads/tRNA_phe_complement.svg', transparent=True, dpi=300)"
   ]
  },
  {
   "cell_type": "code",
   "execution_count": null,
   "id": "intimate-luxury",
   "metadata": {},
   "outputs": [],
   "source": [
    "df_revs[0].Mass.min()"
   ]
  },
  {
   "cell_type": "code",
   "execution_count": null,
   "id": "radical-monthly",
   "metadata": {},
   "outputs": [],
   "source": [
    "df_olis1 = pd.read_excel('/Users/bryan/Downloads/Phe_dataset/Sample#2_oligossample2charge1.xlsx')\n",
    "df_olis2 = pd.read_excel('/Users/bryan/Downloads/Phe_dataset/Sample#2_oligosdegradsample2.xlsx')\n",
    "df_0724 = pd.read_excel('/Users/bryan/Downloads/Phe_dataset/tRNA_Phe_0724.xlsx')\n",
    "df_0821 = pd.read_excel('/Users/bryan/Downloads/Phe_dataset/tRNA_Phe_0821.xlsx')\n",
    "df_sn2 = pd.read_excel('/Users/bryan/Documents/MLCSeq/DataSrc/NY/phe/tRNA_AcidDeg_SN2.xlsx')\n",
    "df_olis1 = thermo_df(df_olis1)\n",
    "df_olis2 = thermo_df(df_olis2)\n",
    "df_0724 = thermo_df(df_0724)\n",
    "df_0821 = thermo_df(df_0821)\n",
    "df_sn2 = thermo_df(df_sn2)"
   ]
  },
  {
   "cell_type": "code",
   "execution_count": null,
   "id": "union-poetry",
   "metadata": {},
   "outputs": [],
   "source": [
    "plotly_multi_zones(dfm_5ps)"
   ]
  },
  {
   "cell_type": "code",
   "execution_count": null,
   "id": "union-duration",
   "metadata": {},
   "outputs": [],
   "source": [
    "dfm_5ps = list()\n",
    "dfm_3ps = list()\n",
    "dfm_3ps_rev = list()\n",
    "df_sample = df_sn2.copy()\n",
    "for df_template in df_templates_5p:\n",
    "    dfm = match_dfs(df_template, df_sample)\n",
    "    dfm_5ps.append(dfm)\n",
    "\n",
    "for df_template in df_templates_3p:\n",
    "    dfm = match_dfs(df_template, df_sample)\n",
    "    dfm_3ps.append(dfm)\n",
    "    \n",
    "    dfm_rev = dfm.copy()\n",
    "    dfm_rev.Mass = df_template.Mass.max() + H2O - dfm_rev.Mass\n",
    "    dfm_rev = dfm_rev[dfm_rev.Mass>200]\n",
    "    dfm_3ps_rev.append(dfm_rev)"
   ]
  },
  {
   "cell_type": "code",
   "execution_count": null,
   "id": "approved-strength",
   "metadata": {},
   "outputs": [],
   "source": [
    "fig, (ax1, ax2) = plt.subplots(2, figsize=(12, 5), \n",
    "                               sharex=True, sharey=True, \n",
    "                               gridspec_kw={'height_ratios': [5, 1]})\n",
    "\n",
    "dfs = [\n",
    "       (dfm_5ps[0], \"24252 5'\"),\n",
    "       (dfm_5ps[1], \"24581 5'\"),\n",
    "       (dfm_5ps[2], \"24268 5'\"),\n",
    "       (dfm_5ps[3], \"24597 5'\"),\n",
    "       (dfm_5ps[4], \"23947 5'\"),\n",
    "       \n",
    "       (dfm_3ps_rev[0], \"24252 3' --> 5'\"),\n",
    "       (dfm_3ps_rev[1], \"24581 3' --> 5'\"),\n",
    "       (dfm_3ps_rev[2], \"24268 3' --> 5'\"),\n",
    "       (dfm_3ps_rev[3], \"24597 3' --> 5'\"),\n",
    "       (dfm_3ps_rev[4], \"23947 3' --> 5'\"),\n",
    "      ] \n",
    "\n",
    "total = len(dfs)\n",
    "df_isoforms = list()\n",
    "for idx, item in enumerate(dfs):\n",
    "    df_iso = item[0].copy()\n",
    "    print(idx, df_iso.shape)\n",
    "    if 'Position' in df_iso.columns:\n",
    "        df_iso['pos'] = df_iso.Position\n",
    "    else:\n",
    "        df_iso['pos'] = df_iso.Mass/320\n",
    "        df_iso.pos.astype(int)\n",
    "    label = item[1]\n",
    "    ax1.scatter(df_iso.Mass, [total - idx]*len(df_iso.Mass), label=label)\n",
    "    \n",
    "    df_iso['Isoform'] = idx + 1\n",
    "    df_isoforms.append(df_iso)\n",
    "# plt.legend(loc=3)\n",
    "\n",
    "df_merge_5p = pd.concat(df_isoforms).drop_duplicates(subset=['Mass', 'RT'])\n",
    "print(df_merge_5p.shape)\n",
    "ax2.scatter(df_merge_5p.Mass, [3]*df_merge_5p.shape[0], color='b')\n",
    "\n",
    "# df_merge_5p = pd.concat(df_isoforms)\n",
    "# output(df_merge_5p, plt, fig, 1, 'phe_complement_5p3p')\n",
    "\n",
    "# fig.tight_layout()\n",
    "# plt.savefig('/Users/bryan/Downloads/tRNA_phe_olis2c1_complement.svg', transparent=True, dpi=300)"
   ]
  },
  {
   "cell_type": "code",
   "execution_count": null,
   "id": "anonymous-profession",
   "metadata": {},
   "outputs": [],
   "source": []
  },
  {
   "cell_type": "code",
   "execution_count": null,
   "id": "running-setting",
   "metadata": {},
   "outputs": [],
   "source": [
    "fig, (ax1, ax2) = plt.subplots(2, figsize=(12, 5), \n",
    "                               sharex=True, sharey=True, \n",
    "                               gridspec_kw={'height_ratios': [5, 1]})\n",
    "\n",
    "dfs = [\n",
    "       (dfm_5ps[0], \"24252 5'\"),\n",
    "       (dfm_5ps[1], \"24581 5'\"),\n",
    "       (dfm_5ps[2], \"24268 5'\"),\n",
    "       (dfm_5ps[3], \"24597 5'\"),\n",
    "       (dfm_5ps[4], \"23947 5'\"),\n",
    "       \n",
    "       (dfm_3ps_rev[0], \"24252 3' --> 5'\"),\n",
    "       (dfm_3ps_rev[1], \"24581 3' --> 5'\"),\n",
    "       (dfm_3ps_rev[2], \"24268 3' --> 5'\"),\n",
    "       (dfm_3ps_rev[3], \"24597 3' --> 5'\"),\n",
    "       (dfm_3ps_rev[4], \"23947 3' --> 5'\"),\n",
    "      ] \n",
    "\n",
    "total = len(dfs)\n",
    "df_isoforms = list()\n",
    "for idx, item in enumerate(dfs):\n",
    "    df_iso = item[0].copy()\n",
    "    print(idx, df_iso.shape)\n",
    "    if 'Position' in df_iso.columns:\n",
    "        df_iso['pos'] = df_iso.Position\n",
    "    else:\n",
    "        df_iso['pos'] = df_iso.Mass/320\n",
    "        df_iso.pos.astype(int)\n",
    "    label = item[1]\n",
    "    ax1.scatter(df_iso.Mass, [total - idx]*len(df_iso.Mass), label=label)\n",
    "    \n",
    "    df_iso['Isoform'] = idx + 1\n",
    "    df_isoforms.append(df_iso)\n",
    "# plt.legend(loc=3)\n",
    "\n",
    "df_merge_5p = pd.concat(df_isoforms).drop_duplicates(subset=['Mass', 'RT'])\n",
    "print(df_merge_5p.shape)\n",
    "ax2.scatter(df_merge_5p.Mass, [3]*df_merge_5p.shape[0], color='b')\n",
    "\n",
    "# df_merge_5p = pd.concat(df_isoforms)\n",
    "# output(df_merge_5p, plt, fig, 1, 'phe_complement_5p3p')\n",
    "\n",
    "# fig.tight_layout()\n",
    "# plt.savefig('/Users/bryan/Downloads/tRNA_phe_olis2c1_complement.svg', transparent=True, dpi=300)"
   ]
  },
  {
   "cell_type": "code",
   "execution_count": null,
   "id": "interior-effects",
   "metadata": {},
   "outputs": [],
   "source": [
    "df_control = pd.read_excel('/Users/bryan/Documents/BioPharmaFinder/ZhangLab/oligossample1.xlsx')\n",
    "df_control = thermo_df(df_control)"
   ]
  },
  {
   "cell_type": "code",
   "execution_count": null,
   "id": "inside-jason",
   "metadata": {},
   "outputs": [],
   "source": [
    "plotly_zone(df_control[df_control.Mass>23900], y='Vol')"
   ]
  },
  {
   "cell_type": "code",
   "execution_count": null,
   "id": "another-copying",
   "metadata": {},
   "outputs": [],
   "source": [
    "df_tmp = pd.DataFrame()\n",
    "df_tmp['Mass'] = [24610.49, 24939.55, 24626.46, 24955.52, 24305.4]"
   ]
  },
  {
   "cell_type": "code",
   "execution_count": null,
   "id": "medical-exercise",
   "metadata": {},
   "outputs": [],
   "source": [
    "dfm = match_dfs(df_tmp, df_control)\n",
    "# dfm['Ratio'] = dfm\n",
    "dfm['Ratio'] = dfm.Vol / dfm.Vol.max()\n",
    "dfm"
   ]
  },
  {
   "cell_type": "code",
   "execution_count": null,
   "id": "fluid-spelling",
   "metadata": {},
   "outputs": [],
   "source": [
    "dfm.to_excel('~/Downloads/phe_homology_control_data.xlsx')"
   ]
  },
  {
   "cell_type": "code",
   "execution_count": null,
   "id": "asian-origin",
   "metadata": {},
   "outputs": [],
   "source": []
  }
 ],
 "metadata": {
  "kernelspec": {
   "display_name": "Python 3",
   "language": "python",
   "name": "python3"
  },
  "language_info": {
   "codemirror_mode": {
    "name": "ipython",
    "version": 3
   },
   "file_extension": ".py",
   "mimetype": "text/x-python",
   "name": "python",
   "nbconvert_exporter": "python",
   "pygments_lexer": "ipython3",
   "version": "3.7.3"
  }
 },
 "nbformat": 4,
 "nbformat_minor": 5
}
