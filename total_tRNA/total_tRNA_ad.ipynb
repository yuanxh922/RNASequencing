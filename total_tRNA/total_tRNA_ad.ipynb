{
 "cells": [
  {
   "cell_type": "code",
   "execution_count": null,
   "metadata": {},
   "outputs": [],
   "source": [
    "import pandas as pd\n",
    "import matplotlib\n",
    "import plotly.express as px\n",
    "import matplotlib.pyplot as plt\n",
    "from collections import namedtuple"
   ]
  },
  {
   "cell_type": "code",
   "execution_count": null,
   "metadata": {},
   "outputs": [],
   "source": [
    "%run ../modules/utils.ipynb\n",
    "%run ../modules/cds.ipynb\n",
    "%run ../modules/preprocessing.ipynb"
   ]
  },
  {
   "cell_type": "code",
   "execution_count": null,
   "metadata": {},
   "outputs": [],
   "source": [
    "# df = pd.read_excel('/Users/bryan/Documents/BioPharmaFinder/ZhangLab/Data/Excels/total_tRNA_acid_deg.xlsx')\n",
    "df = pd.read_excel('/Users/bryan/Documents/BioPharmaFinder/ZhangLab/Data/Excels/total_tRNA_acid_degradated_20to40_component_only.xlsx')\n",
    "# df = pd.read_excel('/Users/bryan/Documents/BioPharmaFinder/ZhangLab/Data/Excels/total_tRNA_acid_degradated_20to40_all_level.xlsx')\n",
    "# df = pd.read_excel('/Users/bryan/Documents/BioPharmaFinder/ZhangLab/Data/Excels/total_tRNA_acid_degradated_15to35_component_only.xlsx')\n",
    "df.shape"
   ]
  },
  {
   "cell_type": "code",
   "execution_count": null,
   "metadata": {},
   "outputs": [],
   "source": [
    "df = thermo_df(df)"
   ]
  },
  {
   "cell_type": "code",
   "execution_count": null,
   "metadata": {},
   "outputs": [],
   "source": [
    "df.to_excel('/Users/bryan/Downloads/ori.xlsx')"
   ]
  },
  {
   "cell_type": "code",
   "execution_count": null,
   "metadata": {},
   "outputs": [],
   "source": [
    "plt = plot_zone(df[df.Mass < 20000])\n",
    "\n",
    "plt.savefig('/Users/bryan/Downloads/tRNA_full_dots.png', transparent=True)"
   ]
  },
  {
   "cell_type": "code",
   "execution_count": null,
   "metadata": {},
   "outputs": [],
   "source": [
    "df = df.sort_values('Vol', ascending=False)"
   ]
  },
  {
   "cell_type": "code",
   "execution_count": null,
   "metadata": {},
   "outputs": [],
   "source": [
    "# df_top = df[(10000 < df.Mass) & (df.Mass  < 20000)].head(100)\n",
    "# df_top = df[(df.RT > 2.0) & (df.Mass < 20000)].head(1000)\n",
    "df_top = local_top(df, top=2)\n",
    "plotly_zone(df_top)"
   ]
  },
  {
   "cell_type": "code",
   "execution_count": null,
   "metadata": {},
   "outputs": [],
   "source": [
    "# df_top = df[(df.Mass > 4000) & (df.Mass < 20000) & (df.RT > 2.2)].sort_values('Vol').groupby('RT').tail(3)\n",
    "df_top = df[df.Mass < 20000].sort_values('Vol').groupby('RT').tail(10)\n",
    "# df_top = df[(df.RT > 2.0) & (df.Mass < 20000)].sort_values('Vol').groupby('RT').tail(2)\n",
    "plot_zone(df_top)\n",
    "df_top.shape"
   ]
  },
  {
   "cell_type": "code",
   "execution_count": null,
   "metadata": {},
   "outputs": [],
   "source": [
    "df_top.to_excel('/Users/bryan/Downloads/bak.xlsx')"
   ]
  },
  {
   "cell_type": "code",
   "execution_count": null,
   "metadata": {},
   "outputs": [],
   "source": [
    "import plotly.graph_objects as go\n",
    "\n",
    "idxs = list()\n",
    "# create our callback function\n",
    "def update_point(trace, points, selector):\n",
    "    print('points {}'.format(points.point_inds) )\n",
    "    idxs.extend(points.point_inds)\n",
    "\n",
    "# df_draw = df2[(df2.Mass > 12329) & (df2.Mass < 22000) & (df2.RT < 25) & (df2.RT > 8)]\n",
    "df_draw = df_top #df7\n",
    "# df_draw = df2_top[(df2_top.RT < 25) & (df2_top.RT > 8)]\n",
    "x = df_draw.Mass\n",
    "y = df_draw.RT\n",
    "fig = go.Scatter(x=x, y=y, mode='markers')\n",
    "f = go.FigureWidget(fig)\n",
    "f.update_layout(autosize=False, width=1024, height=700, paper_bgcolor=\"LightSteelBlue\",\n",
    "    margin=dict(\n",
    "        l=20,\n",
    "        r=20,\n",
    "        b=20,\n",
    "        t=20,\n",
    "        pad=4\n",
    "    ))\n",
    "scatter = f.data[0]\n",
    "scatter.on_selection(update_point)\n",
    "f"
   ]
  },
  {
   "cell_type": "code",
   "execution_count": null,
   "metadata": {},
   "outputs": [],
   "source": [
    "df_bak = df_chosen"
   ]
  },
  {
   "cell_type": "code",
   "execution_count": null,
   "metadata": {},
   "outputs": [],
   "source": [
    "import plotly.graph_objects as go\n",
    "\n",
    "idxs = list()\n",
    "# create our callback function\n",
    "def update_point(trace, points, selector):\n",
    "    print('points {}'.format(points.point_inds) )\n",
    "    idxs.extend(points.point_inds)\n",
    "\n",
    "# df_draw = df2[(df2.Mass > 12329) & (df2.Mass < 22000) & (df2.RT < 25) & (df2.RT > 8)]\n",
    "df_draw = bcr_5p[0]#df_bak[df_bak.Mass < 12000] #df7\n",
    "# df_draw = df2_top[(df2_top.RT < 25) & (df2_top.RT > 8)]\n",
    "x = df_draw.Mass\n",
    "y = df_draw.RT\n",
    "fig = go.Scatter(x=x, y=y, mode='markers')\n",
    "f = go.FigureWidget(fig)\n",
    "f.update_layout(autosize=False, width=1024, height=700, paper_bgcolor=\"LightSteelBlue\",\n",
    "    margin=dict(\n",
    "        l=20,\n",
    "        r=20,\n",
    "        b=20,\n",
    "        t=20,\n",
    "        pad=4\n",
    "    ))\n",
    "scatter = f.data[0]\n",
    "scatter.on_selection(update_point)\n",
    "f"
   ]
  },
  {
   "cell_type": "code",
   "execution_count": null,
   "metadata": {},
   "outputs": [],
   "source": [
    "df_chosen = df_draw.iloc[idxs]\n",
    "df_chosen.info()"
   ]
  },
  {
   "cell_type": "code",
   "execution_count": null,
   "metadata": {},
   "outputs": [],
   "source": [
    "bcr_5p = base_calling_random(df[df.Mass < 20000])\n",
    "plt, _ = plot_basecalling(*bcr_5p, annotate=False)\n",
    "# plt.savefig('/Users/bryan/Downloads/tRNA_basecalling.png', transparent=True)"
   ]
  },
  {
   "cell_type": "code",
   "execution_count": null,
   "metadata": {},
   "outputs": [],
   "source": [
    "full_mass = 23904.236#23057.09\n",
    "print(full_mass)\n",
    "df_ms, _ = computational_data_seperation(df, df, full_mass=full_mass, ignore_endpoints=True)\n",
    "df_ms.shape\n",
    "plot_zone(df_ms)"
   ]
  },
  {
   "cell_type": "markdown",
   "metadata": {},
   "source": [
    "# Processing ~25k Dalton"
   ]
  },
  {
   "cell_type": "code",
   "execution_count": null,
   "metadata": {},
   "outputs": [],
   "source": [
    "df_25k = df[(df.Mass > 2.1E4) & (df.Mass < 3E4)]\n",
    "df_25k.shape"
   ]
  },
  {
   "cell_type": "code",
   "execution_count": null,
   "metadata": {},
   "outputs": [],
   "source": [
    "# df_25k.to_excel('~/Downloads/total_tRNA_20to40_ad_25k.xlsx')\n",
    "df_25k.to_excel('~/Downloads/total_tRNA_sample4_ad_25k.xlsx')"
   ]
  },
  {
   "cell_type": "code",
   "execution_count": null,
   "metadata": {},
   "outputs": [],
   "source": [
    "# plot_zones(df, df_25k)\n",
    "plt.figure(figsize=(12, 9))\n",
    "plt.xlabel('Mass')\n",
    "plt.ylabel('RT')\n",
    "plt.scatter(df.Mass, df.RT)\n",
    "plt.scatter(df_25k.Mass, df_25k.RT, color='g')\n"
   ]
  },
  {
   "cell_type": "code",
   "execution_count": null,
   "metadata": {},
   "outputs": [],
   "source": [
    "# plot_zone(df_25k)\n",
    "\n",
    "plt.figure(figsize=(12, 9))\n",
    "plt.xlabel('Mass')\n",
    "plt.ylabel('RT')\n",
    "plt.scatter(df_25k.Mass, df_25k.RT, color='g')\n",
    "\n",
    "# plt.savefig('/Users/bryan/Downloads/tRNA_25k.png')"
   ]
  },
  {
   "cell_type": "code",
   "execution_count": null,
   "metadata": {},
   "outputs": [],
   "source": [
    "df_25k.sort_values('Mass', ascending=False)"
   ]
  },
  {
   "cell_type": "markdown",
   "metadata": {},
   "source": [
    "# Sliding Mass Window (600Da)"
   ]
  },
  {
   "cell_type": "code",
   "execution_count": null,
   "metadata": {},
   "outputs": [],
   "source": [
    "def process_slopes(df, mass_pairs, radius=0.25):\n",
    "    slopes = list()\n",
    "    for t in mass_pairs:\n",
    "        df_pair = df[df.Mass.isin(t)]\n",
    "        if df_pair.empty:\n",
    "            continue\n",
    "        \n",
    "        slope = 1E3 * (df_pair.iloc[0].RT - df_pair.iloc[1].RT)/(df_pair.iloc[0].Mass - df_pair.iloc[1].Mass)\n",
    "        if slope > 0.:\n",
    "            slopes.append(slope)\n",
    "#     median = np.median(slopes)\n",
    "#     lo = median - radius\n",
    "#     hi = median + radius\n",
    "#     print(slopes)\n",
    "#     median = slope_range(slopes, radius * 2)\n",
    "#     if not median:\n",
    "#         return None\n",
    "#     lo = median.lo\n",
    "#     hi = median.hi\n",
    "    ranges = slope_ranges(slopes)\n",
    "        \n",
    "    count = 0\n",
    "    count_ignore = 0\n",
    "    accepted_pairs = list()\n",
    "    for t in mass_pairs:\n",
    "        df_pair = df[df.Mass.isin(t)]\n",
    "        if df_pair.empty:\n",
    "            continue\n",
    "        \n",
    "        slope = 1E3 * (df_pair.iloc[0].RT - df_pair.iloc[1].RT)/(df_pair.iloc[0].Mass - df_pair.iloc[1].Mass)\n",
    "#         if slope > 0.:\n",
    "#         if lo < slope < hi:\n",
    "        if any([i[0] < slope < i[1] for i in ranges]):\n",
    "            slopes.append(slope)\n",
    "#             plt.plot(df_pair.Mass, df_pair.RT, 'green')\n",
    "            count += 1\n",
    "            accepted_pairs.append(df_pair)\n",
    "        else:\n",
    "            count_ignore += 1\n",
    "    \n",
    "#     print('median {:.2f} lo-hi {:.3f}-{:.3f} accept {} reject {}'.format((lo+hi)/2, lo, hi, count, count_ignore))\n",
    "    print('accept {} reject {}'.format(count, count_ignore))\n",
    "    return accepted_pairs"
   ]
  },
  {
   "cell_type": "code",
   "execution_count": null,
   "metadata": {},
   "outputs": [],
   "source": [
    "def slope_range(l, win=0.2):\n",
    "    l = np.array(l)\n",
    "    l.sort()\n",
    "    len = l.shape[0]\n",
    "    WinCount = namedtuple('WinCount', 'lo hi count')\n",
    "    win_counts = list()\n",
    "    for value in l:\n",
    "        lo = value\n",
    "        hi = lo + win\n",
    "        count = l[(l>=lo) & (l < hi)].shape[0]\n",
    "        win_count = WinCount(lo, hi, count)\n",
    "        win_counts.append(win_count)\n",
    "    \n",
    "    if win_counts:\n",
    "        max_win_count = max(win_counts, key=lambda x: x.count)\n",
    "        return max_win_count"
   ]
  },
  {
   "cell_type": "code",
   "execution_count": null,
   "metadata": {},
   "outputs": [],
   "source": [
    "def slope_ranges(l, ratio=0.5, top=3):\n",
    "    hist = np.histogram(l, bins='auto')\n",
    "    max_bin_count = max(hist[0])\n",
    "    loc_counts = list(enumerate(hist[0]))\n",
    "    top_loc_counts = [i for i in loc_counts if i[1] > max_bin_count * ratio]\n",
    "    top_loc_counts = sorted(top_loc_counts, key=lambda x: x[1], reverse=True)[:top]\n",
    "    ranges = [(hist[1][i[0]], hist[1][i[0]+1]) for i in top_loc_counts]\n",
    "    print(ranges)\n",
    "    return ranges"
   ]
  },
  {
   "cell_type": "code",
   "execution_count": null,
   "metadata": {},
   "outputs": [],
   "source": [
    "def plot_basecalling2(df, mass_pairs, endpoints=pd.DataFrame(), annotate=True, plt=None, median=-1):\n",
    "    if not plt:\n",
    "        plt = matplotlib.pyplot\n",
    "    fig = plt.figure(figsize=(16, 12))\n",
    "    plt.xlabel('Monoisotopic Mass (Da)', fontname=\"Arial\", fontsize=15, color='black')\n",
    "    plt.ylabel('Retention Time (min)', fontname=\"Arial\", fontsize=15, color='black')\n",
    "    plt.xticks(fontname=\"Arial\", size=13, color='black')\n",
    "    plt.yticks(fontname=\"Arial\", size=13, color='black')\n",
    "        \n",
    "    plt.scatter(df.Mass, df.RT)\n",
    "\n",
    "    # calc slopes\n",
    "    slopes = list()\n",
    "    for t in mass_pairs:\n",
    "        df_pair = df[df.Mass.isin(t)]\n",
    "        if df_pair.empty:\n",
    "            continue\n",
    "        \n",
    "        slope = 1E3 * (df_pair.iloc[0].RT - df_pair.iloc[1].RT)/(df_pair.iloc[0].Mass - df_pair.iloc[1].Mass)\n",
    "        if slope > 0.:\n",
    "            slopes.append(slope)\n",
    "#     if median < 0:\n",
    "#         median = np.median(slopes)\n",
    "#     lo = median - 0.25\n",
    "#     lo = lo if lo > 0 else 0\n",
    "#     hi = median + 0.25\n",
    "#     median = slope_range(slopes, 0.5)\n",
    "#     if not median:\n",
    "#         return plt, fig\n",
    "#     lo = median.lo\n",
    "#     hi = median.hi\n",
    "    ranges = slope_ranges(slopes)\n",
    "        \n",
    "    count = 0\n",
    "    count_ignore = 0\n",
    "    for t in mass_pairs:\n",
    "        df_pair = df[df.Mass.isin(t)]\n",
    "        if df_pair.empty:\n",
    "            continue\n",
    "        \n",
    "        slope = 1E3 * (df_pair.iloc[0].RT - df_pair.iloc[1].RT)/(df_pair.iloc[0].Mass - df_pair.iloc[1].Mass)\n",
    "        if slope > 0.:\n",
    "#         if lo < slope < hi:\n",
    "#         if any([i[0] < slope < i[1] for i in ranges]):\n",
    "#             slopes.append(slope)\n",
    "            plt.plot(df_pair.Mass, df_pair.RT, 'green')\n",
    "            count += 1\n",
    "        else:\n",
    "            count_ignore += 1\n",
    "        \n",
    "        if not annotate:\n",
    "            continue\n",
    "            \n",
    "        idmax = df_pair['Mass'].idxmax()\n",
    "        plt.annotate(s=t[2], size=15, xy=(df_pair.loc[idmax].Mass, df_pair.loc[idmax].RT), \n",
    "                     textcoords=\"offset points\", xytext=(-10, 10), ha='center', color='black')\n",
    "        \n",
    "        mass = '{:.2f}'.format(df_pair.loc[idmax].Mass)\n",
    "        plt.annotate(s=mass, size=13, xy=(df_pair.loc[idmax].Mass, df_pair.loc[idmax].RT), \n",
    "                     textcoords=\"offset points\", xytext=(10, -20), ha='center')\n",
    "\n",
    "#     print('median {:.2f} lo-hi {:.3f}-{:.3f} accept {} reject {}'.format((lo+hi)/2, lo, hi, count, count_ignore))\n",
    "    print(slopes)\n",
    "    if not endpoints.empty:\n",
    "        plt.scatter(endpoints.Mass, endpoints.RT, color='r')\n",
    "        print(endpoints[['Mass', 'RT', 'Vol']])\n",
    "    return plt, fig"
   ]
  },
  {
   "cell_type": "code",
   "execution_count": null,
   "metadata": {},
   "outputs": [],
   "source": [
    "win_pos = 6200\n",
    "win_size = 600"
   ]
  },
  {
   "cell_type": "code",
   "execution_count": null,
   "metadata": {},
   "outputs": [],
   "source": [
    "df_win = df[(df.Mass > win_pos) & (df.Mass < win_pos + win_size)]\n",
    "df_win.shape"
   ]
  },
  {
   "cell_type": "code",
   "execution_count": null,
   "metadata": {},
   "outputs": [],
   "source": [
    "plt = plot_zones(df[df.Mass < 20000], df_win)\n",
    "# plt.savefig('/Users/bryan/Downloads/tRNA_win.png', transparent=True)"
   ]
  },
  {
   "cell_type": "code",
   "execution_count": null,
   "metadata": {},
   "outputs": [],
   "source": [
    "plt = plot_zone(df_win, trend=True)\n",
    "# plt.savefig('/Users/bryan/Downloads/tRNA_win_dots.png', transparent=True)"
   ]
  },
  {
   "cell_type": "code",
   "execution_count": null,
   "metadata": {},
   "outputs": [],
   "source": [
    "slope, _ = np.polyfit(df_win.Mass, df_win.RT, 1)\n",
    "slope = slope * 1E3\n",
    "print(slope)"
   ]
  },
  {
   "cell_type": "code",
   "execution_count": null,
   "metadata": {},
   "outputs": [],
   "source": [
    "bcr_5p = base_calling_random(df_win, silence=True)\n",
    "# plt, _ = plot_basecalling(*bcr_5p, annotate=False)\n",
    "plt, _ = plot_basecalling2(*bcr_5p, annotate=False, median=slope)\n",
    "plt.scatter(df_win.Mass, df_win.RT, color='C0')\n",
    "plt.xticks(list(range(6200, 6800, 200)))\n",
    "plt.grid(axis='x', which='major')\n",
    "# plt.savefig('/Users/bryan/Downloads/tRNA_win_basecalling.png', transparent=True)\n",
    "# plt.savefig('/Users/bryan/Downloads/tRNA_win_basecalling_select.png', transparent=True)"
   ]
  },
  {
   "cell_type": "code",
   "execution_count": null,
   "metadata": {},
   "outputs": [],
   "source": [
    "df_"
   ]
  },
  {
   "cell_type": "markdown",
   "metadata": {},
   "source": [
    "# Sliding"
   ]
  },
  {
   "cell_type": "code",
   "execution_count": null,
   "metadata": {},
   "outputs": [],
   "source": [
    "win_pos = 1000\n",
    "win_size = 600\n",
    "win_step = 100\n",
    "pairs = list()\n",
    "while win_pos + win_size < 25000:\n",
    "    df_win = df[(df.Mass > win_pos) & (df.Mass < win_pos + win_size)]\n",
    "#     print(df_win.shape)\n",
    "    if df_win.shape[0] > 1:\n",
    "#         continue\n",
    "        print('win {}-{}'.format(win_pos, win_pos+win_size))\n",
    "        bcr_5p = base_calling_random(df_win, silence=True)\n",
    "        accepted_pairs = process_slopes(*bcr_5p, radius=0.20)\n",
    "        if accepted_pairs:\n",
    "            pairs.extend(accepted_pairs)\n",
    "    win_pos += win_step"
   ]
  },
  {
   "cell_type": "code",
   "execution_count": null,
   "metadata": {},
   "outputs": [],
   "source": [
    "len(pairs)"
   ]
  },
  {
   "cell_type": "code",
   "execution_count": null,
   "metadata": {},
   "outputs": [],
   "source": [
    "import matplotlib.pyplot as plt\n",
    "plt.figure(figsize=(16, 12))\n",
    "plt.xlabel('Monoisotopic Mass (Da)', fontname=\"Arial\", fontsize=15, color='black')\n",
    "plt.ylabel('Retention Time (min)', fontname=\"Arial\", fontsize=15, color='black')\n",
    "plt.xticks(fontname=\"Arial\", size=13, color='black')\n",
    "plt.yticks(fontname=\"Arial\", size=13, color='black')\n",
    "# plt.scatter(df[df.Mass < 20000].Mass, df[df.Mass < 20000].RT)\n",
    "for pair in pairs:\n",
    "    if pair.iloc[0].Mass > 20000:\n",
    "        continue\n",
    "    plt.plot(pair.Mass, pair.RT)\n",
    "\n",
    "# plt.savefig('/Users/bryan/Downloads/tRNA_sliding_wins.png', transparent=True)\n",
    "plt.savefig('/Users/bryan/Downloads/tRNA_sliding_wins_lines_only.png', transparent=True)"
   ]
  },
  {
   "cell_type": "code",
   "execution_count": null,
   "metadata": {},
   "outputs": [],
   "source": []
  }
 ],
 "metadata": {
  "kernelspec": {
   "display_name": "Python 3",
   "language": "python",
   "name": "python3"
  },
  "language_info": {
   "codemirror_mode": {
    "name": "ipython",
    "version": 3
   },
   "file_extension": ".py",
   "mimetype": "text/x-python",
   "name": "python",
   "nbconvert_exporter": "python",
   "pygments_lexer": "ipython3",
   "version": "3.7.3"
  }
 },
 "nbformat": 4,
 "nbformat_minor": 4
}
