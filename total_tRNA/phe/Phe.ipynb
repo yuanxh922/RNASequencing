{
 "cells": [
  {
   "cell_type": "code",
   "execution_count": null,
   "metadata": {},
   "outputs": [],
   "source": [
    "import pandas as pd\n",
    "import numpy as np\n",
    "import matplotlib\n",
    "import plotly.express as px"
   ]
  },
  {
   "cell_type": "code",
   "execution_count": null,
   "metadata": {},
   "outputs": [],
   "source": [
    "%run ../../modules/utils.ipynb\n",
    "%run ../../modules/cds.ipynb\n",
    "%run ../../modules/preprocessing.ipynb"
   ]
  },
  {
   "cell_type": "code",
   "execution_count": null,
   "metadata": {},
   "outputs": [],
   "source": [
    "df_phe = pd.read_excel('/Users/bryan/Documents/BioPharmaFinder/ZhangLab/Data/Excels/tRNA_Phe_0724_std.xlsx')\n",
    "# plot_zone(df_phe)\n",
    "# plt.savefig('/Users/bryan/Downloads/tRNA_Phe_Thermo_Fisher_result_WL_20200916.png', transparent=True)"
   ]
  },
  {
   "cell_type": "code",
   "execution_count": null,
   "metadata": {},
   "outputs": [],
   "source": [
    "df_25k = df_phe[(df_phe.Mass > 23000) & (df_phe.Vol > 5E5)]\n",
    "plotly_zone(df_25k, y='Vol')\n",
    "df_25k.shape"
   ]
  },
  {
   "cell_type": "code",
   "execution_count": null,
   "metadata": {},
   "outputs": [],
   "source": [
    "bcr = base_calling_random(df_25k, silence=True, homology=True)\n",
    "# plt, _ = plot_basecalling(*bcr)\n",
    "# plt.scatter(df_25k.Mass, df_25k.RT)\n",
    "plotly_basecalling(*bcr)"
   ]
  },
  {
   "cell_type": "code",
   "execution_count": null,
   "metadata": {},
   "outputs": [],
   "source": [
    "plt.figure(figsize=(12, 9))\n",
    "plt.xlabel('Mass')\n",
    "plt.ylabel('RT')\n",
    "plt.scatter(df_phe.Mass, df_phe.RT, color='darkgray')"
   ]
  },
  {
   "cell_type": "code",
   "execution_count": null,
   "metadata": {},
   "outputs": [],
   "source": [
    "df_phe.info()"
   ]
  },
  {
   "cell_type": "code",
   "execution_count": null,
   "metadata": {},
   "outputs": [],
   "source": [
    "df_phe_big = df_phe[df_phe.Mass>22000].sort_values('Vol', ascending=False)[:30][['Mass', 'Vol', 'RT']]\n",
    "df_phe_big # 2"
   ]
  },
  {
   "cell_type": "code",
   "execution_count": null,
   "metadata": {},
   "outputs": [],
   "source": [
    "full_mass = df_phe_big.iloc[-4].Mass\n",
    "print(full_mass)\n",
    "df_ms, _ = computational_data_seperation(df_phe, df_phe, full_mass=full_mass, ignore_endpoints=True)\n",
    "df_ms.shape\n",
    "plot_zone(df_ms)"
   ]
  },
  {
   "cell_type": "code",
   "execution_count": null,
   "metadata": {},
   "outputs": [],
   "source": [
    "df_ms_bcr, mass_pairs = base_calling_random(df_ms)\n",
    "df_ms_bcr.shape, len(mass_pairs)\n",
    "# plot_basecalling(df_ms_bcr, mass_pairs, annotate=False)\n",
    "mass_3p = [pair[0] for pair in mass_pairs]\n",
    "mass_5p = [pair[1] for pair in mass_pairs]\n",
    "mass_3p5p = set(mass_3p) & set(mass_3p)\n",
    "mass_3ponly = set(mass_3p) - set(mass_5p)\n",
    "mass_5ponly = set(mass_5p) - set(mass_3p)\n",
    "mass_else = mass_3ponly | mass_5ponly\n",
    "len(mass_3p5p), len(mass_else)\n",
    "\n",
    "df_skeleton = df_ms_bcr[df_ms_bcr.Mass.isin(mass_3p5p)]\n",
    "# plot_zone(df_skeleton)\n",
    "plt.figure(figsize=(12, 9))\n",
    "plt.xlabel('Mass')\n",
    "plt.ylabel('RT')\n",
    "plt.scatter(df_skeleton.Mass, df_skeleton.RT, color='royalblue')"
   ]
  },
  {
   "cell_type": "code",
   "execution_count": null,
   "metadata": {},
   "outputs": [],
   "source": [
    "df_phe_3p = pd.read_csv('/Users/bryan/Studio/tools/tRNA-Phe_3p.csv')\n",
    "df_phe_5p = pd.read_csv('/Users/bryan/Studio/tools/tRNA-Phe_5p_nogap.csv')"
   ]
  },
  {
   "cell_type": "code",
   "execution_count": null,
   "metadata": {},
   "outputs": [],
   "source": [
    "fig = plt.figure(figsize=(9, 4))\n",
    "plt.xlabel('Monoisotopic Mass (Da)', fontname=\"Arial\", fontsize=15, color='black')\n",
    "plt.ylabel('Retention Time (min)', fontname=\"Arial\", fontsize=15, color='black')\n",
    "plt.xticks(range(0, 25001, 2500), fontname=\"Arial\", size=13, color='black')\n",
    "plt.yticks(range(0, 17, 3), fontname=\"Arial\", size=13, color='black')\n",
    "# plt.rc('xtick', labelsize=13) \n",
    "# plt.rc('ytick', labelsize=13)\n",
    "# plt.rc('axes', titlesize=15)\n",
    "# plt.rc('axes', labelsize=18)\n",
    "# plt.scatter(df_phe.Mass, df_phe.RT, color='navy')\n",
    "plt.scatter(df_phe_3p.Mass, df_phe_3p.RT, color='royalblue', marker='s')\n",
    "plt.scatter(df_phe_5p.Mass, df_phe_5p.RT, color='red')\n",
    "# plt.scatter(df_skeleton.Mass, df_skeleton.RT, color='royalblue')\n",
    "# plt.scatter(df_phe_big.iloc[1].Mass, df_phe_big.iloc[1].RT, color='royalblue')\n",
    "fig.tight_layout()\n",
    "plt.savefig('/Users/bryan/Documents/BioPharmaFinder/Draw/Outputs_Fig3/tRNA_phe_ladders_mar28.svg', transparent=True, dpi=300)"
   ]
  },
  {
   "cell_type": "code",
   "execution_count": null,
   "metadata": {},
   "outputs": [],
   "source": [
    "fig = plt.figure(figsize=(9, 4))\n",
    "plt.xlabel('Monoisotopic Mass (Da)', fontname=\"Arial\", fontsize=15, color='black')\n",
    "plt.ylabel('Retention Time (min)', fontname=\"Arial\", fontsize=15, color='black')\n",
    "plt.xticks(range(0, 25001, 2500), fontname=\"Arial\", size=13, color='black')\n",
    "plt.yticks(range(0, 17, 3), fontname=\"Arial\", size=13, color='black')\n",
    "\n",
    "df_a = df_phe_5p.copy()\n",
    "df_b = df_phe_3p.copy()\n",
    "df_a = df_a.sample(16)\n",
    "df_b = df_b.sample(6)\n",
    "plt.scatter(df_a.Mass, df_a.RT, color='red', marker='o')\n",
    "plt.scatter(df_b.Mass, df_b.RT, color='royalblue', marker='s')\n",
    "fig.tight_layout()\n",
    "plt.savefig('/Users/bryan/Documents/BioPharmaFinder/Draw/Outputs_Fig3/tRNA_tyr_ladders_mar28.svg', transparent=True, dpi=300)"
   ]
  },
  {
   "cell_type": "code",
   "execution_count": null,
   "metadata": {},
   "outputs": [],
   "source": [
    "df_result = pd.read_csv('/Users/bryan/Downloads/tRNA_Phe_Thermo_Fisher_result_WL_20200916.csv')"
   ]
  },
  {
   "cell_type": "code",
   "execution_count": null,
   "metadata": {},
   "outputs": [],
   "source": [
    "plt.figure(figsize=(12, 9))\n",
    "plt.xlabel('Mass')\n",
    "plt.ylabel('RT')\n",
    "plt.scatter(df_result.Mass, df_result.RT, color='green')"
   ]
  },
  {
   "cell_type": "code",
   "execution_count": null,
   "metadata": {},
   "outputs": [],
   "source": []
  }
 ],
 "metadata": {
  "kernelspec": {
   "display_name": "Python 3",
   "language": "python",
   "name": "python3"
  },
  "language_info": {
   "codemirror_mode": {
    "name": "ipython",
    "version": 3
   },
   "file_extension": ".py",
   "mimetype": "text/x-python",
   "name": "python",
   "nbconvert_exporter": "python",
   "pygments_lexer": "ipython3",
   "version": "3.7.3"
  }
 },
 "nbformat": 4,
 "nbformat_minor": 4
}
