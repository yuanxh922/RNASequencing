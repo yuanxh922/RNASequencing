{
 "cells": [
  {
   "cell_type": "code",
   "execution_count": null,
   "id": "fitting-archives",
   "metadata": {},
   "outputs": [],
   "source": [
    "import pandas as pd\n",
    "import numpy as np"
   ]
  },
  {
   "cell_type": "code",
   "execution_count": null,
   "id": "valid-shore",
   "metadata": {},
   "outputs": [],
   "source": [
    "%run ../modules/utils.ipynb\n",
    "%run ../modules/cds.ipynb\n",
    "%run ../modules/preprocessing.ipynb"
   ]
  },
  {
   "cell_type": "code",
   "execution_count": null,
   "id": "billion-culture",
   "metadata": {},
   "outputs": [],
   "source": [
    "df_ad = pd.read_excel('/Users/bryan/Documents/BioPharmaFinder/ZhangLab/Data/Excels/tRNA_Phe_0724.xlsx')\n",
    "df_noad = pd.read_excel('/Users/bryan/Documents/BioPharmaFinder/ZhangLab/Data/NoAcidDeg_Phe/Sigma_tRNA_standard_IPM_Lowpresure_30min_Shallow.xlsx')\n",
    "df_ad = thermo_df(df_ad)\n",
    "df_noad = thermo_df(df_noad)\n",
    "df_ad.shape, df_noad.shape"
   ]
  },
  {
   "cell_type": "code",
   "execution_count": null,
   "id": "canadian-stereo",
   "metadata": {},
   "outputs": [],
   "source": [
    "df_noad[(df_noad.Mass>24581)&(df_noad.Mass<24581)]"
   ]
  },
  {
   "cell_type": "code",
   "execution_count": null,
   "id": "right-chuck",
   "metadata": {},
   "outputs": [],
   "source": [
    "# df_noad = pd.read_excel('/Users/bryan/Documents/BioPharmaFinder/ZhangLab/oligossample1.xlsx')\n",
    "# df_ad = pd.read_excel('/Users/bryan/Documents/BioPharmaFinder/ZhangLab/oligosdegradsample2.xlsx')\n",
    "# df_ad = pd.read_excel('/Users/bryan/Documents/BioPharmaFinder/ZhangLab/oligosdegradsample2.xlsx')\n",
    "# df_noad = thermo_df(df_noad)\n",
    "# df_ad = thermo_df(df_ad)\n",
    "# df_noad.shape, df_ad.shape"
   ]
  },
  {
   "cell_type": "code",
   "execution_count": null,
   "id": "limited-morgan",
   "metadata": {},
   "outputs": [],
   "source": [
    "df_25k_noad = df_noad[(df_noad.Mass>23000) & (df_noad.Mass<25500)]\n",
    "df_25k_ad = df_ad[(df_ad.Mass>23000) & (df_ad.Mass<25500)]"
   ]
  },
  {
   "cell_type": "code",
   "execution_count": null,
   "id": "binding-christmas",
   "metadata": {},
   "outputs": [],
   "source": [
    "# df_25k_noad = df_25k_noad.sort_values('Vol', ascending=False)\n",
    "df_top_noad = df_25k_noad[df_25k_noad.Vol>100000]\n",
    "df_top_ad = df_25k_ad[df_25k_ad.Vol>1000000]\n",
    "df_top_noad.shape, df_top_ad.shape"
   ]
  },
  {
   "cell_type": "code",
   "execution_count": null,
   "id": "decreased-arrow",
   "metadata": {},
   "outputs": [],
   "source": [
    "plotly_zone(df_top_noad, y='Vol')"
   ]
  },
  {
   "cell_type": "code",
   "execution_count": null,
   "id": "everyday-skating",
   "metadata": {},
   "outputs": [],
   "source": [
    "dfa = df_top_noad.copy()\n",
    "dfb = df_top_ad.copy()\n",
    "dfa['isAD'] = False\n",
    "dfb['isAD'] = True\n",
    "df_merge = pd.concat([dfa, dfb])\n",
    "bcr = base_calling_random(df_merge, acid_labile=True)\n",
    "# plotly_basecalling(*bcr, annotate=False, y='RT')\n",
    "# plotly_zone(df_25k, y='RT')"
   ]
  },
  {
   "cell_type": "code",
   "execution_count": null,
   "id": "hazardous-survey",
   "metadata": {},
   "outputs": [],
   "source": [
    "bcr[1]"
   ]
  },
  {
   "cell_type": "code",
   "execution_count": null,
   "id": "junior-carol",
   "metadata": {},
   "outputs": [],
   "source": [
    "plotly_zone(df_25k)"
   ]
  },
  {
   "cell_type": "code",
   "execution_count": null,
   "id": "oriented-berkeley",
   "metadata": {},
   "outputs": [],
   "source": []
  },
  {
   "cell_type": "code",
   "execution_count": null,
   "id": "ranging-dryer",
   "metadata": {},
   "outputs": [],
   "source": []
  },
  {
   "cell_type": "code",
   "execution_count": null,
   "id": "broad-concept",
   "metadata": {},
   "outputs": [],
   "source": [
    "ms = 24087.242612065 #24416.2863040009\n",
    "df_tmp = df_25k_noad[(df_25k_noad.Mass>ms) & (df_25k_noad.Mass<ms+300)]\n",
    "df_tmp['MassDiff'] = df_tmp.Mass - ms\n",
    "df_tmp[['Mass', 'MassDiff']]"
   ]
  },
  {
   "cell_type": "markdown",
   "id": "miniature-columbia",
   "metadata": {},
   "source": [
    "# Before Acid Deg"
   ]
  },
  {
   "cell_type": "code",
   "execution_count": null,
   "id": "aerial-accident",
   "metadata": {},
   "outputs": [],
   "source": [
    "\n",
    "df_top_noad1 = df_25k_noad[(df_25k_noad.Vol < 100000)]\n",
    "bcr = base_calling_random(df_top_noad1, homology=True)\n",
    "# bcr = base_calling_random(df_top_ad, homology=True)\n",
    "plotly_basecalling(*bcr, y='Vol')"
   ]
  },
  {
   "cell_type": "code",
   "execution_count": null,
   "id": "greek-typing",
   "metadata": {},
   "outputs": [],
   "source": [
    "df_25k_noad[(df_25k_noad.Mass>24086)&(df_25k_noad.Mass<24088)]"
   ]
  },
  {
   "cell_type": "code",
   "execution_count": null,
   "id": "celtic-battery",
   "metadata": {},
   "outputs": [],
   "source": [
    "bcr[1]"
   ]
  },
  {
   "cell_type": "code",
   "execution_count": null,
   "id": "smart-concern",
   "metadata": {},
   "outputs": [],
   "source": [
    "bcr[1]"
   ]
  },
  {
   "cell_type": "code",
   "execution_count": null,
   "id": "consecutive-southeast",
   "metadata": {},
   "outputs": [],
   "source": [
    "df_tmp = df_25k_noad[(df_25k_noad.Mass>24416.2863040009) & (df_25k_noad.Mass<24416.2863040009+400)]\n",
    "df_tmp['MassDiff'] = df_tmp.Mass - 24416.2863040009\n",
    "df_tmp.sort_values('Vol', ascending=False)[['Mass', 'MassDiff']]"
   ]
  },
  {
   "cell_type": "code",
   "execution_count": null,
   "id": "surprised-interaction",
   "metadata": {},
   "outputs": [],
   "source": [
    "plotly_zone(df)"
   ]
  },
  {
   "cell_type": "code",
   "execution_count": null,
   "id": "stopped-samuel",
   "metadata": {},
   "outputs": [],
   "source": [
    "def base_calling_random(df, silence=False, homology=False, acid_labile=False, methyl=False):\n",
    "    df = df.sort_index()\n",
    "    mass_x = np.array(df.Mass)\n",
    "    mass_y = np.array(df.Mass)\n",
    "    if acid_labile:\n",
    "        mass_x = np.array(df[df.isAD == False].Mass)\n",
    "        mass_y = np.array(df[df.isAD == True].Mass)\n",
    "    if not silence:\n",
    "        print(\"mass_x {} mass_y {}\".format(mass_x.shape, mass_y.shape))\n",
    "\n",
    "#     base_dict = {'C': 305.0413, 'A': 329.0525, 'G': 345.0474, 'U': 306.0253, 'g': 359.0631, 'D': 308.041, 'c': 319.0569, 'T': 320.041, 'G^': 373.0787, 'a': 343.0682, 'y': 212.0086, 'Y': 570.1475, 'P': 557.2251, 'x': 688.1156, 'z': 625.0844, 'I': 330.03654, 'O': 344.052}\n",
    "    base_dict = {'C': 305.0413, 'A': 329.0525, 'G': 345.0474, 'U': 306.0253, 'g': 359.0631, 'D': 308.041, 'c': 319.0569, 'T': 320.041, 'a': 343.0682, 'y': 212.0086, 'mnm5s2U': 365.04466, 'X': 449.08299, 's4U': 322.00246, 'ms2io6A': 459.09776} #\n",
    "#     base_dict = {'g': 359.0631, 'T': 320.041, 'mnm5s2U': 365.04466, 'X': 449.08299, 's4U': 322.00246, 'ms2io6A': 459.09776} #387.1273+61.9557\n",
    "    if homology:\n",
    "#         base_dict = {'Me': 14.0106} \n",
    "#         base_dict = {'C (305.04)': 305.0413, 'A (329.05)': 329.0525, 'endA (249.09)': 249.0862, 'endC (225.08)': 225.075, 'Me (14.01)': 14.0106, '2Me (14.01)': 28.0212} #, 'Udiff': 43\n",
    "        base_dict = {'C': 305.0413, 'A': 329.0525} #, 'Udiff': 43, 'Ox': 16.0, 'Ai': 249.0862, 'Ci': 225.075, 'Methyl': 14.0106, '2Methyl': 28.0212\n",
    "#         base_dict = {'Y (358.16)': 358.1599, 'C (305.04)': 305.0413, 'A (329.05)': 329.0525, 'endA (249.09)': 249.0862, 'endC (225.08)': 225.075, 'Methyl (14.01)': 14.0106}\n",
    "    if acid_labile:\n",
    "        base_dict = {'Y': 358.1599, 'm6t6A': 276.09568, 'Gr(p)': 345.04602, 'cnm5U': 133.0262, 'I': 118.02654, 'g6A': 218.05381, 'o2yW': 390.12737, 'ms2t6A': 308.06775, 'acp3U/cmnm5Um': 195.06298, 'mcmo5U': 182.03135}\n",
    "#         base_dict = {'Y': 358.1599}\n",
    "    if methyl:\n",
    "        base_dict = {'Me': 14.0106} #, '2Me': 28.0212\n",
    "    pairs = list()\n",
    "    idxs = list()\n",
    "    PPM = 10\n",
    "    for k in base_dict.keys():\n",
    "        base_mass = base_dict.get(k)\n",
    "        ppm_matrix = np.abs((mass_x[:, np.newaxis] - mass_y - base_mass) * 1E6 / (mass_y + base_mass))\n",
    "        ppm_df = pd.DataFrame(ppm_matrix)\n",
    "        crosstalk = ppm_df[ppm_df < PPM]\n",
    "        idx_pairs = list(crosstalk[crosstalk.notnull()].stack().index)\n",
    "        if idx_pairs:\n",
    "            idx_pairs = [(*pair, k) for pair in idx_pairs] # append base name into idx_pairs\n",
    "            pairs.extend(idx_pairs)\n",
    "        df3_idxs = [pair[0] for pair in idx_pairs]\n",
    "        df5_idxs = [pair[1] for pair in idx_pairs]\n",
    "        df3_idxs = list(set(df3_idxs))\n",
    "        df5_idxs = list(set(df5_idxs))\n",
    "#         if not silence:\n",
    "#             print(\"df3_idxs {} df5_idxs {}\".format(len(df3_idxs), len(df5_idxs)))\n",
    "        if df3_idxs:\n",
    "            idxs.extend(df3_idxs)\n",
    "        if df5_idxs:\n",
    "            idxs.extend(df5_idxs)\n",
    "    \n",
    "    mass_pairs = [(df.Mass.iloc[p[0]], df.Mass.iloc[p[1]], p[2]) for p in pairs]\n",
    "    if acid_labile:\n",
    "        mass_pairs = [(df[df.isAD == False].Mass.iloc[p[0]], df[df.isAD == True].Mass.iloc[p[1]], p[2]) for p in pairs]\n",
    "    mass_pairs = [mp for mp in mass_pairs if mp[0] != mp[1]] # remove item which contains duplicated values\n",
    "    idxs = list(set(idxs))\n",
    "#     plt.figure(figsize=(16, 12))\n",
    "    df_base_calling = df.iloc[idxs]\n",
    "    if acid_labile:\n",
    "        masses = [pair[0] for pair in mass_pairs]\n",
    "        masses_1 = [pair[1] for pair in mass_pairs]\n",
    "        masses.extend(masses_1)\n",
    "        masses = list(set(masses))\n",
    "        df_base_calling = df[df.Mass.isin(masses)]\n",
    "    return df_base_calling, mass_pairs"
   ]
  },
  {
   "cell_type": "code",
   "execution_count": null,
   "id": "liked-chocolate",
   "metadata": {},
   "outputs": [],
   "source": []
  }
 ],
 "metadata": {
  "kernelspec": {
   "display_name": "Python 3",
   "language": "python",
   "name": "python3"
  },
  "language_info": {
   "codemirror_mode": {
    "name": "ipython",
    "version": 3
   },
   "file_extension": ".py",
   "mimetype": "text/x-python",
   "name": "python",
   "nbconvert_exporter": "python",
   "pygments_lexer": "ipython3",
   "version": "3.7.3"
  }
 },
 "nbformat": 4,
 "nbformat_minor": 5
}
