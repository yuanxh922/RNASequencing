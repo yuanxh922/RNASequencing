{
 "cells": [
  {
   "cell_type": "code",
   "execution_count": null,
   "metadata": {},
   "outputs": [],
   "source": [
    "import pandas as pd"
   ]
  },
  {
   "cell_type": "code",
   "execution_count": null,
   "metadata": {},
   "outputs": [],
   "source": [
    "df = pd.read_excel('/home/bryan/Documents/SeqData/yeast_total_tRNAs.xlsx', skiprows=1)"
   ]
  },
  {
   "cell_type": "code",
   "execution_count": null,
   "metadata": {},
   "outputs": [],
   "source": [
    "row0 = df.loc[0]\n",
    "row1 = df.loc[1]\n",
    "row21 = df.loc[21]"
   ]
  },
  {
   "cell_type": "code",
   "execution_count": null,
   "metadata": {},
   "outputs": [],
   "source": [
    "positions = row0[1:].astype(int)"
   ]
  },
  {
   "cell_type": "code",
   "execution_count": null,
   "metadata": {},
   "outputs": [],
   "source": [
    "tmp_row = row1[row1 != '-'][1:]"
   ]
  },
  {
   "cell_type": "code",
   "execution_count": null,
   "metadata": {},
   "outputs": [],
   "source": [
    "''.join(tmp_row)"
   ]
  },
  {
   "cell_type": "code",
   "execution_count": null,
   "metadata": {},
   "outputs": [],
   "source": [
    "tmp_idx = tmp_row[2:9].index\n",
    "tmp_row[tmp_idx]"
   ]
  },
  {
   "cell_type": "code",
   "execution_count": null,
   "metadata": {},
   "outputs": [],
   "source": [
    "positions[positions>0].index"
   ]
  },
  {
   "cell_type": "code",
   "execution_count": null,
   "metadata": {},
   "outputs": [],
   "source": [
    "positions = row0[row0.apply(isinstance, args=(int,))]\n",
    "positions = list(positions)\n",
    "positions"
   ]
  },
  {
   "cell_type": "code",
   "execution_count": null,
   "metadata": {},
   "outputs": [],
   "source": [
    "len(positions)"
   ]
  },
  {
   "cell_type": "code",
   "execution_count": null,
   "metadata": {},
   "outputs": [],
   "source": [
    "trna_positions = row1[row1!=-1].index\n",
    "trna_positions"
   ]
  },
  {
   "cell_type": "code",
   "execution_count": null,
   "metadata": {},
   "outputs": [],
   "source": [
    "trna_positions = trna_positions[1:]"
   ]
  },
  {
   "cell_type": "code",
   "execution_count": null,
   "metadata": {},
   "outputs": [],
   "source": [
    "len(trna_positions)"
   ]
  },
  {
   "cell_type": "code",
   "execution_count": null,
   "metadata": {},
   "outputs": [],
   "source": [
    "data = zip(list(row0), list(row21))"
   ]
  },
  {
   "cell_type": "code",
   "execution_count": null,
   "metadata": {},
   "outputs": [],
   "source": [
    "data = list(data)"
   ]
  },
  {
   "cell_type": "code",
   "execution_count": null,
   "metadata": {},
   "outputs": [],
   "source": [
    "data"
   ]
  },
  {
   "cell_type": "code",
   "execution_count": null,
   "metadata": {},
   "outputs": [],
   "source": [
    "df.loc[0:2]"
   ]
  },
  {
   "cell_type": "code",
   "execution_count": null,
   "metadata": {},
   "outputs": [],
   "source": [
    "with open('tmp.txt', 'r') as f:\n",
    "    txt = f.read()\n",
    "    print(txt)"
   ]
  },
  {
   "cell_type": "code",
   "execution_count": null,
   "metadata": {},
   "outputs": [],
   "source": [
    "def calc_consecutive(line):\n",
    "    l = line.strip('][\\n').split(', ')\n",
    "    l = [int(i) for i in l]\n",
    "    print(l)\n",
    "    return l"
   ]
  },
  {
   "cell_type": "code",
   "execution_count": null,
   "metadata": {},
   "outputs": [],
   "source": [
    "with open('tmp.txt', 'r') as f:\n",
    "    while True:\n",
    "        line = f.readline()\n",
    "        if not line:\n",
    "            break\n",
    "        print('---> {}'.format(line))\n",
    "        calc_consecutive(line)\n",
    "        break"
   ]
  },
  {
   "cell_type": "code",
   "execution_count": null,
   "metadata": {},
   "outputs": [],
   "source": [
    "l = [2, 3, 5, 6, 7, 9, 10, 11, 12, 13, 14, 15]\n",
    "np.diff(sorted(l))"
   ]
  },
  {
   "cell_type": "code",
   "execution_count": null,
   "metadata": {},
   "outputs": [],
   "source": [
    "from itertools import groupby, count\n",
    "\n",
    "l = [2, 3, 5, 6, 7, 9, 10, 11, 12, 13, 14, 15]\n",
    "res = groupby(l, lambda n, c=count(): n-next(c))\n",
    "def as_range(iterable): # not sure how to do this part elegantly\n",
    "    l = list(iterable)\n",
    "    if len(l) > 1:\n",
    "        return '{0}-{1}'.format(l[0], l[-1])\n",
    "    else:\n",
    "        return '{0}'.format(l[0])\n",
    "\n",
    "for _, g in res:\n",
    "    ','.join(as_range(g))"
   ]
  },
  {
   "cell_type": "code",
   "execution_count": null,
   "metadata": {},
   "outputs": [],
   "source": [
    "def format_poslist(numberlist):\n",
    "    \"\"\"given number list, for example [2, 3, 4, 5, 6, 7, 9, 10, 11]\n",
    "    return [[2, 7], [9-11]]\n",
    "    \"\"\"\n",
    "    prev_number = min(numberlist) if numberlist else None\n",
    "    poslist = list()\n",
    "\n",
    "    for number in sorted(numberlist):\n",
    "        if number != prev_number+1:\n",
    "            poslist.append([number])\n",
    "        elif len(poslist[-1]) > 1:\n",
    "            poslist[-1][-1] = number\n",
    "        else:\n",
    "            poslist[-1].append(number)\n",
    "        prev_number = number\n",
    "\n",
    "    return poslist\n"
   ]
  },
  {
   "cell_type": "code",
   "execution_count": null,
   "metadata": {},
   "outputs": [],
   "source": [
    "l = [2, 3, 4, 5, 6, 7, 9, 10, 11, 12, 13, 14, 15, 19, 20, 23, 25, 26, 29, 30, 31]\n",
    "l = formatpagelist(l)\n",
    "print(l)\n",
    "[i for i in l if len(i) > 1 and i[1] - i[0] > 1]\n",
    "\n",
    "# [i for i in l]"
   ]
  },
  {
   "cell_type": "code",
   "execution_count": null,
   "metadata": {},
   "outputs": [],
   "source": [
    "list(range(2, 7))"
   ]
  },
  {
   "cell_type": "code",
   "execution_count": null,
   "metadata": {},
   "outputs": [],
   "source": [
    "txt"
   ]
  },
  {
   "cell_type": "code",
   "execution_count": null,
   "metadata": {},
   "outputs": [],
   "source": [
    "import re"
   ]
  },
  {
   "cell_type": "code",
   "execution_count": null,
   "metadata": {},
   "outputs": [],
   "source": [
    "txt = txt.replace('[', '')\n",
    "txt = txt.replace(']', '')\n",
    "txt = txt.replace('\\n', ',')\n",
    "txt = txt.replace(' ', '')\n",
    "re.split(',', txt)"
   ]
  },
  {
   "cell_type": "code",
   "execution_count": null,
   "metadata": {},
   "outputs": [],
   "source": [
    "l = re.split('[,|\\[|\\]|\\n]', txt)"
   ]
  },
  {
   "cell_type": "code",
   "execution_count": null,
   "metadata": {},
   "outputs": [],
   "source": [
    "l = [int(i) for i in l if i != '']"
   ]
  },
  {
   "cell_type": "code",
   "execution_count": null,
   "metadata": {},
   "outputs": [],
   "source": [
    "import collections\n",
    "counter = collections.Counter(l)"
   ]
  },
  {
   "cell_type": "code",
   "execution_count": null,
   "metadata": {},
   "outputs": [],
   "source": [
    "counter"
   ]
  },
  {
   "cell_type": "code",
   "execution_count": null,
   "metadata": {},
   "outputs": [],
   "source": [
    "count_dict = {x: l.count(x) for x in l}"
   ]
  },
  {
   "cell_type": "code",
   "execution_count": null,
   "metadata": {},
   "outputs": [],
   "source": [
    "import numpy as np\n",
    "counts_res = np.unique(l, return_counts=True)"
   ]
  },
  {
   "cell_type": "code",
   "execution_count": null,
   "metadata": {},
   "outputs": [],
   "source": [
    "counts_res[1]"
   ]
  },
  {
   "cell_type": "code",
   "execution_count": null,
   "metadata": {},
   "outputs": [],
   "source": [
    "df = pd.read_csv('/Users/bryan/Studio/tools/symbol_mapping.csv')"
   ]
  },
  {
   "cell_type": "code",
   "execution_count": null,
   "metadata": {},
   "outputs": [],
   "source": [
    "df.Mass"
   ]
  },
  {
   "cell_type": "markdown",
   "metadata": {},
   "source": [
    "# yeast mapping"
   ]
  },
  {
   "cell_type": "code",
   "execution_count": null,
   "metadata": {},
   "outputs": [],
   "source": [
    "import pandas as pd\n",
    "base = pd.read_excel('/Users/bryan/Studio/tools/phe_base.xlsx')\n",
    "mod = pd.read_excel('/Users/bryan/Studio/tools/phe_mod.xlsx')\n",
    "\n",
    "mod_base_mask = mod.Base.isin(['A', 'C', 'G', 'U'])\n",
    "reg_idxs = mod[mod_base_mask].index\n",
    "mod = mod.drop(reg_idxs)\n",
    "base = base.drop(reg_idxs)\n",
    "mod = mod[['Mass', 'Base']]\n",
    "base = base[['Mass', 'Base']]\n",
    "diff = pd.DataFrame()\n",
    "# diff['idx'] = base.index\n",
    "diff['RegBase'] = base.Base\n",
    "diff['ModBase'] = mod.Base\n",
    "diff['diff'] = mod.Mass - base.Mass\n",
    "\n",
    "diff['RegBase'] = base.Base\n",
    "\n",
    "symbol = pd.read_csv('/Users/bryan/Studio/tools/symbol_mapping.csv')\n",
    "symbol = symbol[['Code', 'Symbol', 'Mass']].dropna()\n",
    "symbol[symbol.Code == '+']['Mass'].values[0]\n",
    "mod['Base'].map(lambda x: symbol[symbol.Code == x]['Symbol'].values[0])\n",
    "mod_value = mod['Base'].map(lambda x: symbol[symbol.Code == x]['Mass'].values[0])\n",
    "base_value = base['Base'].map(lambda x: symbol[symbol.Code == x]['Mass'].values[0])\n",
    "\n",
    "(mod_value - base_value).sum()\n",
    "diff['RegMass'] = base_value\n",
    "diff['ModMass'] = mod_value\n",
    "diff['PerDiff'] = mod_value - base_value\n",
    "diff.rename(columns={'diff': 'DiffSum'}, inplace=True)\n",
    "diff.rename(columns={'PerDiff': 'Diff'}, inplace=True)\n",
    "diff[['RegBase', 'RegMass', 'ModBase', 'ModMass', 'Diff', 'DiffSum']]\n",
    "diff = diff[['RegBase', 'RegMass', 'ModBase', 'ModMass', 'Diff', 'DiffSum']]\n",
    "diff\n",
    "diff.to_excel('/Users/bryan/Downloads/phe.xlsx')\n",
    "mod_csv = pd.read_csv('/Users/bryan/Studio/tools/mod.csv')\n",
    "mod_csv.rename(columns={'Exact Mass': 'Mass'}, inplace=True)\n",
    "diff = mod_csv.Mass - mod_csv.RegMass\n",
    "diff = diff[diff > 0]\n",
    "diff.unique().shape, diff.shape"
   ]
  },
  {
   "cell_type": "code",
   "execution_count": null,
   "metadata": {},
   "outputs": [],
   "source": []
  }
 ],
 "metadata": {
  "kernelspec": {
   "display_name": "Python 3",
   "language": "python",
   "name": "python3"
  },
  "language_info": {
   "codemirror_mode": {
    "name": "ipython",
    "version": 3
   },
   "file_extension": ".py",
   "mimetype": "text/x-python",
   "name": "python",
   "nbconvert_exporter": "python",
   "pygments_lexer": "ipython3",
   "version": "3.7.3"
  }
 },
 "nbformat": 4,
 "nbformat_minor": 4
}
