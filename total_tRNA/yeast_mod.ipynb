{
 "cells": [
  {
   "cell_type": "code",
   "execution_count": 1,
   "metadata": {},
   "outputs": [],
   "source": [
    "import pandas as pd"
   ]
  },
  {
   "cell_type": "code",
   "execution_count": 120,
   "metadata": {},
   "outputs": [],
   "source": [
    "df = pd.read_excel('/home/bryan/Documents/SeqData/yeast_total_tRNAs.xlsx', skiprows=1)"
   ]
  },
  {
   "cell_type": "code",
   "execution_count": 121,
   "metadata": {},
   "outputs": [],
   "source": [
    "row0 = df.loc[0]\n",
    "row1 = df.loc[1]\n",
    "row21 = df.loc[21]"
   ]
  },
  {
   "cell_type": "code",
   "execution_count": 109,
   "metadata": {},
   "outputs": [],
   "source": [
    "positions = row0[1:].astype(int)"
   ]
  },
  {
   "cell_type": "code",
   "execution_count": 125,
   "metadata": {},
   "outputs": [],
   "source": [
    "tmp_row = row1[row1 != '-'][1:]"
   ]
  },
  {
   "cell_type": "code",
   "execution_count": 126,
   "metadata": {},
   "outputs": [
    {
     "data": {
      "text/plain": [
       "'GGGCGUGUKGCGUAGDCGGDAGCGCRCUCCCUUIGCOPGGGAGAGGDCUCCGGTPCGAUUCCGGACUCGUCCACCA'"
      ]
     },
     "execution_count": 126,
     "metadata": {},
     "output_type": "execute_result"
    }
   ],
   "source": [
    "''.join(tmp_row)"
   ]
  },
  {
   "cell_type": "code",
   "execution_count": 129,
   "metadata": {},
   "outputs": [
    {
     "data": {
      "text/plain": [
       "3    G\n",
       "4    C\n",
       "5    G\n",
       "6    U\n",
       "7    G\n",
       "8    U\n",
       "9    K\n",
       "Name: 1, dtype: object"
      ]
     },
     "execution_count": 129,
     "metadata": {},
     "output_type": "execute_result"
    }
   ],
   "source": [
    "tmp_idx = tmp_row[2:9].index\n",
    "tmp_row[tmp_idx]"
   ]
  },
  {
   "cell_type": "code",
   "execution_count": 111,
   "metadata": {},
   "outputs": [
    {
     "data": {
      "text/plain": [
       "Index([ 1,  2,  3,  4,  5,  6,  7,  8,  9, 10, 11, 12, 13, 14, 15, 16, 17, 18,\n",
       "       19, 20, 23, 24, 25, 26, 27, 28, 29, 30, 31, 32, 33, 34, 35, 36, 37, 38,\n",
       "       39, 40, 41, 42, 43, 44, 45, 46, 47, 60, 61, 62, 63, 64, 65, 66, 67, 68,\n",
       "       69, 70, 71, 72, 73, 74, 75, 76, 77, 78, 79, 80, 81, 82, 83, 84, 85, 86,\n",
       "       87, 88, 89, 90],\n",
       "      dtype='object')"
      ]
     },
     "execution_count": 111,
     "metadata": {},
     "output_type": "execute_result"
    }
   ],
   "source": [
    "positions[positions>0].index"
   ]
  },
  {
   "cell_type": "code",
   "execution_count": 101,
   "metadata": {},
   "outputs": [
    {
     "data": {
      "text/plain": [
       "[1,\n",
       " 2,\n",
       " 3,\n",
       " 4,\n",
       " 5,\n",
       " 6,\n",
       " 7,\n",
       " 8,\n",
       " 9,\n",
       " 10,\n",
       " 11,\n",
       " 12,\n",
       " 13,\n",
       " 14,\n",
       " 15,\n",
       " 16,\n",
       " 17,\n",
       " 18,\n",
       " 19,\n",
       " 20,\n",
       " 22,\n",
       " 23,\n",
       " 24,\n",
       " 25,\n",
       " 26,\n",
       " 27,\n",
       " 28,\n",
       " 29,\n",
       " 30,\n",
       " 31,\n",
       " 32,\n",
       " 33,\n",
       " 34,\n",
       " 35,\n",
       " 36,\n",
       " 37,\n",
       " 38,\n",
       " 39,\n",
       " 40,\n",
       " 41,\n",
       " 42,\n",
       " 43,\n",
       " 44,\n",
       " 49,\n",
       " 50,\n",
       " 51,\n",
       " 52,\n",
       " 53,\n",
       " 54,\n",
       " 55,\n",
       " 56,\n",
       " 57,\n",
       " 58,\n",
       " 59,\n",
       " 60,\n",
       " 61,\n",
       " 62,\n",
       " 63,\n",
       " 64,\n",
       " 65,\n",
       " 66,\n",
       " 67,\n",
       " 68,\n",
       " 69,\n",
       " 70,\n",
       " 71,\n",
       " 72,\n",
       " 73,\n",
       " 74,\n",
       " 75,\n",
       " 76]"
      ]
     },
     "execution_count": 101,
     "metadata": {},
     "output_type": "execute_result"
    }
   ],
   "source": [
    "positions = row0[row0.apply(isinstance, args=(int,))]\n",
    "positions = list(positions)\n",
    "positions"
   ]
  },
  {
   "cell_type": "code",
   "execution_count": 100,
   "metadata": {},
   "outputs": [
    {
     "data": {
      "text/plain": [
       "71"
      ]
     },
     "execution_count": 100,
     "metadata": {},
     "output_type": "execute_result"
    }
   ],
   "source": [
    "len(positions)"
   ]
  },
  {
   "cell_type": "code",
   "execution_count": 70,
   "metadata": {},
   "outputs": [
    {
     "data": {
      "text/plain": [
       "Index(['position #',            0,            1,            2,            3,\n",
       "                  4,            5,            6,            7,            8,\n",
       "                  9,           10,           11,           12,           13,\n",
       "                 14,           15,           16,           17,           18,\n",
       "                 19,           20,           21,           22,           23,\n",
       "                 24,           25,           26,           27,           28,\n",
       "                 29,           30,           31,           32,           33,\n",
       "                 34,           35,           36,           37,           38,\n",
       "                 39,           40,           41,           42,           43,\n",
       "                 44,           45,           46,           47,           48,\n",
       "                 49,           50,           51,           52,           53,\n",
       "                 54,           55,           56,           57,           58,\n",
       "                 59,           60,           61,           62,           63,\n",
       "                 64,           65,           66,           67,           68,\n",
       "                 69,           70,           71,           72,           73,\n",
       "                 74,           75,           76,           77,           78,\n",
       "                 79,           80,           81,           82,           83,\n",
       "                 84,           85,           86,           87,           88,\n",
       "                 89,           90],\n",
       "      dtype='object')"
      ]
     },
     "execution_count": 70,
     "metadata": {},
     "output_type": "execute_result"
    }
   ],
   "source": [
    "trna_positions = row1[row1!=-1].index\n",
    "trna_positions"
   ]
  },
  {
   "cell_type": "code",
   "execution_count": 66,
   "metadata": {},
   "outputs": [],
   "source": [
    "trna_positions = trna_positions[1:]"
   ]
  },
  {
   "cell_type": "code",
   "execution_count": 67,
   "metadata": {},
   "outputs": [
    {
     "data": {
      "text/plain": [
       "90"
      ]
     },
     "execution_count": 67,
     "metadata": {},
     "output_type": "execute_result"
    }
   ],
   "source": [
    "len(trna_positions)"
   ]
  },
  {
   "cell_type": "code",
   "execution_count": 48,
   "metadata": {},
   "outputs": [],
   "source": [
    "data = zip(list(row0), list(row21))"
   ]
  },
  {
   "cell_type": "code",
   "execution_count": 49,
   "metadata": {},
   "outputs": [],
   "source": [
    "data = list(data)"
   ]
  },
  {
   "cell_type": "code",
   "execution_count": 53,
   "metadata": {},
   "outputs": [
    {
     "data": {
      "text/plain": [
       "[(\"5'\", 'Phe'),\n",
       " (-1, nan),\n",
       " (1, 'G'),\n",
       " (2, 'C'),\n",
       " (3, 'G'),\n",
       " (4, 'G'),\n",
       " (5, 'A'),\n",
       " (6, 'U'),\n",
       " (7, 'U'),\n",
       " (8, 'U'),\n",
       " (9, 'A'),\n",
       " (10, 'L'),\n",
       " (11, 'C'),\n",
       " (12, 'U'),\n",
       " (13, 'C'),\n",
       " (14, 'A'),\n",
       " (15, 'G'),\n",
       " (16, 'D'),\n",
       " (17, 'D'),\n",
       " (18, 'G'),\n",
       " (19, 'G'),\n",
       " (20, 'G'),\n",
       " ('-1', '-'),\n",
       " ('-1', '-'),\n",
       " ('21', 'A'),\n",
       " (22, 'G'),\n",
       " (23, 'A'),\n",
       " (24, 'G'),\n",
       " (25, 'C'),\n",
       " (26, 'R'),\n",
       " (27, 'C'),\n",
       " (28, 'C'),\n",
       " (29, 'A'),\n",
       " (30, 'G'),\n",
       " (31, 'A'),\n",
       " (32, 'B'),\n",
       " (33, 'U'),\n",
       " (34, '#'),\n",
       " (35, 'A'),\n",
       " (36, 'A'),\n",
       " (37, 'Y'),\n",
       " (38, 'A'),\n",
       " (39, 'P'),\n",
       " (40, '?'),\n",
       " (41, 'U'),\n",
       " (42, 'G'),\n",
       " (43, 'G'),\n",
       " (44, 'A'),\n",
       " ('45', 'G'),\n",
       " ('-1', '-'),\n",
       " ('-1', '-'),\n",
       " ('-1', '-'),\n",
       " ('-1', '-'),\n",
       " ('-1', '-'),\n",
       " ('-1', '-'),\n",
       " ('-1', '-'),\n",
       " ('-1', '-'),\n",
       " ('-1', '-'),\n",
       " ('-1', '-'),\n",
       " ('-1', '-'),\n",
       " ('-1', '-'),\n",
       " ('46', 7),\n",
       " ('47', 'U'),\n",
       " ('48', 'C'),\n",
       " (49, '?'),\n",
       " (50, 'U'),\n",
       " (51, 'G'),\n",
       " (52, 'U'),\n",
       " (53, 'G'),\n",
       " (54, 'T'),\n",
       " (55, 'P'),\n",
       " (56, 'C'),\n",
       " (57, 'G'),\n",
       " (58, '\"'),\n",
       " (59, 'U'),\n",
       " (60, 'C'),\n",
       " (61, 'C'),\n",
       " (62, 'A'),\n",
       " (63, 'C'),\n",
       " (64, 'A'),\n",
       " (65, 'G'),\n",
       " (66, 'A'),\n",
       " (67, 'A'),\n",
       " (68, 'U'),\n",
       " (69, 'U'),\n",
       " (70, 'C'),\n",
       " (71, 'G'),\n",
       " (72, 'C'),\n",
       " (73, 'A'),\n",
       " (74, 'C'),\n",
       " (75, 'C'),\n",
       " (76, 'A')]"
      ]
     },
     "execution_count": 53,
     "metadata": {},
     "output_type": "execute_result"
    }
   ],
   "source": [
    "data"
   ]
  },
  {
   "cell_type": "code",
   "execution_count": 45,
   "metadata": {
    "scrolled": true
   },
   "outputs": [
    {
     "data": {
      "text/html": [
       "<div>\n",
       "<style scoped>\n",
       "    .dataframe tbody tr th:only-of-type {\n",
       "        vertical-align: middle;\n",
       "    }\n",
       "\n",
       "    .dataframe tbody tr th {\n",
       "        vertical-align: top;\n",
       "    }\n",
       "\n",
       "    .dataframe thead th {\n",
       "        text-align: right;\n",
       "    }\n",
       "</style>\n",
       "<table border=\"1\" class=\"dataframe\">\n",
       "  <thead>\n",
       "    <tr style=\"text-align: right;\">\n",
       "      <th></th>\n",
       "      <th>position #</th>\n",
       "      <th>0</th>\n",
       "      <th>1</th>\n",
       "      <th>2</th>\n",
       "      <th>3</th>\n",
       "      <th>4</th>\n",
       "      <th>5</th>\n",
       "      <th>6</th>\n",
       "      <th>7</th>\n",
       "      <th>8</th>\n",
       "      <th>...</th>\n",
       "      <th>81</th>\n",
       "      <th>82</th>\n",
       "      <th>83</th>\n",
       "      <th>84</th>\n",
       "      <th>85</th>\n",
       "      <th>86</th>\n",
       "      <th>87</th>\n",
       "      <th>88</th>\n",
       "      <th>89</th>\n",
       "      <th>90</th>\n",
       "    </tr>\n",
       "  </thead>\n",
       "  <tbody>\n",
       "    <tr>\n",
       "      <th>0</th>\n",
       "      <td>5'</td>\n",
       "      <td>-1</td>\n",
       "      <td>1</td>\n",
       "      <td>2</td>\n",
       "      <td>3</td>\n",
       "      <td>4</td>\n",
       "      <td>5</td>\n",
       "      <td>6</td>\n",
       "      <td>7</td>\n",
       "      <td>8</td>\n",
       "      <td>...</td>\n",
       "      <td>67</td>\n",
       "      <td>68</td>\n",
       "      <td>69</td>\n",
       "      <td>70</td>\n",
       "      <td>71</td>\n",
       "      <td>72</td>\n",
       "      <td>73</td>\n",
       "      <td>74</td>\n",
       "      <td>75</td>\n",
       "      <td>76</td>\n",
       "    </tr>\n",
       "    <tr>\n",
       "      <th>1</th>\n",
       "      <td>Ala</td>\n",
       "      <td>NaN</td>\n",
       "      <td>G</td>\n",
       "      <td>G</td>\n",
       "      <td>G</td>\n",
       "      <td>C</td>\n",
       "      <td>G</td>\n",
       "      <td>U</td>\n",
       "      <td>G</td>\n",
       "      <td>U</td>\n",
       "      <td>...</td>\n",
       "      <td>U</td>\n",
       "      <td>C</td>\n",
       "      <td>G</td>\n",
       "      <td>U</td>\n",
       "      <td>C</td>\n",
       "      <td>C</td>\n",
       "      <td>A</td>\n",
       "      <td>C</td>\n",
       "      <td>C</td>\n",
       "      <td>A</td>\n",
       "    </tr>\n",
       "    <tr>\n",
       "      <th>2</th>\n",
       "      <td>Arg</td>\n",
       "      <td>NaN</td>\n",
       "      <td>G</td>\n",
       "      <td>C</td>\n",
       "      <td>U</td>\n",
       "      <td>C</td>\n",
       "      <td>G</td>\n",
       "      <td>C</td>\n",
       "      <td>G</td>\n",
       "      <td>U</td>\n",
       "      <td>...</td>\n",
       "      <td>G</td>\n",
       "      <td>U</td>\n",
       "      <td>G</td>\n",
       "      <td>A</td>\n",
       "      <td>G</td>\n",
       "      <td>U</td>\n",
       "      <td>G</td>\n",
       "      <td>C</td>\n",
       "      <td>C</td>\n",
       "      <td>A</td>\n",
       "    </tr>\n",
       "  </tbody>\n",
       "</table>\n",
       "<p>3 rows × 92 columns</p>\n",
       "</div>"
      ],
      "text/plain": [
       "  position #    0  1  2  3  4  5  6  7  8  ...  81  82  83  84  85  86  87  \\\n",
       "0         5'   -1  1  2  3  4  5  6  7  8  ...  67  68  69  70  71  72  73   \n",
       "1        Ala  NaN  G  G  G  C  G  U  G  U  ...   U   C   G   U   C   C   A   \n",
       "2        Arg  NaN  G  C  U  C  G  C  G  U  ...   G   U   G   A   G   U   G   \n",
       "\n",
       "   88  89  90  \n",
       "0  74  75  76  \n",
       "1   C   C   A  \n",
       "2   C   C   A  \n",
       "\n",
       "[3 rows x 92 columns]"
      ]
     },
     "execution_count": 45,
     "metadata": {},
     "output_type": "execute_result"
    }
   ],
   "source": [
    "df.loc[0:2]"
   ]
  },
  {
   "cell_type": "code",
   "execution_count": 153,
   "metadata": {},
   "outputs": [
    {
     "name": "stdout",
     "output_type": "stream",
     "text": [
      "[2, 3, 5, 6, 7, 9, 10, 11, 13, 17, 19, 22]\n",
      "[71, 72, 74, 75, 76, 77]\n",
      "[35, 39, 51, 62, 67, 73, 75, 76]\n",
      "[70, 71, 72, 73, 74, 75]\n",
      "[37, 40, 60, 62, 63, 64, 71, 72, 73]\n",
      "[4, 5, 6, 7, 8, 9, 16, 17, 18]\n",
      "[62, 63, 64, 65, 73, 74, 75, 76]\n",
      "[50, 63, 64, 72, 74, 75]\n",
      "[72, 73, 74, 75]\n",
      "[71, 72, 73]\n",
      "[2, 3, 4, 5, 6, 7, 8, 9, 10, 11, 12, 13, 14, 15, 17, 18, 20, 22, 24]\n",
      "[71, 72, 74, 75, 76, 77]\n",
      "[58, 73, 75, 76]\n",
      "[38, 56, 60, 61, 62, 69, 70, 71, 72, 73, 74, 75]\n",
      "[62, 71, 72, 73]\n",
      "\n"
     ]
    }
   ],
   "source": [
    "with open('tmp.txt', 'r') as f:\n",
    "    txt = f.read()\n",
    "    print(txt)"
   ]
  },
  {
   "cell_type": "code",
   "execution_count": 192,
   "metadata": {},
   "outputs": [],
   "source": [
    "def calc_consecutive(line):\n",
    "    l = line.strip('][\\n').split(', ')\n",
    "    l = [int(i) for i in l]\n",
    "    print(l)\n",
    "    return l"
   ]
  },
  {
   "cell_type": "code",
   "execution_count": 193,
   "metadata": {},
   "outputs": [
    {
     "name": "stdout",
     "output_type": "stream",
     "text": [
      "---> [2, 3, 5, 6, 7, 9, 10, 11, 13, 17, 19, 22]\n",
      "\n",
      "[2, 3, 5, 6, 7, 9, 10, 11, 13, 17, 19, 22]\n"
     ]
    }
   ],
   "source": [
    "with open('tmp.txt', 'r') as f:\n",
    "    while True:\n",
    "        line = f.readline()\n",
    "        if not line:\n",
    "            break\n",
    "        print('---> {}'.format(line))\n",
    "        calc_consecutive(line)\n",
    "        break"
   ]
  },
  {
   "cell_type": "code",
   "execution_count": 199,
   "metadata": {},
   "outputs": [
    {
     "data": {
      "text/plain": [
       "array([1, 2, 1, 1, 2, 1, 1, 1, 1, 1, 1])"
      ]
     },
     "execution_count": 199,
     "metadata": {},
     "output_type": "execute_result"
    }
   ],
   "source": [
    "l = [2, 3, 5, 6, 7, 9, 10, 11, 12, 13, 14, 15]\n",
    "np.diff(sorted(l))"
   ]
  },
  {
   "cell_type": "code",
   "execution_count": 1,
   "metadata": {},
   "outputs": [],
   "source": [
    "from itertools import groupby, count\n",
    "\n",
    "l = [2, 3, 5, 6, 7, 9, 10, 11, 12, 13, 14, 15]\n",
    "res = groupby(l, lambda n, c=count(): n-next(c))\n",
    "def as_range(iterable): # not sure how to do this part elegantly\n",
    "    l = list(iterable)\n",
    "    if len(l) > 1:\n",
    "        return '{0}-{1}'.format(l[0], l[-1])\n",
    "    else:\n",
    "        return '{0}'.format(l[0])\n",
    "\n",
    "for _, g in res:\n",
    "    ','.join(as_range(g))"
   ]
  },
  {
   "cell_type": "code",
   "execution_count": 30,
   "metadata": {},
   "outputs": [],
   "source": [
    "def format_poslist(numberlist):\n",
    "    \"\"\"given number list, for example [2, 3, 4, 5, 6, 7, 9, 10, 11]\n",
    "    return [[2, 7], [9-11]]\n",
    "    \"\"\"\n",
    "    prev_number = min(numberlist) if numberlist else None\n",
    "    poslist = list()\n",
    "\n",
    "    for number in sorted(numberlist):\n",
    "        if number != prev_number+1:\n",
    "            poslist.append([number])\n",
    "        elif len(poslist[-1]) > 1:\n",
    "            poslist[-1][-1] = number\n",
    "        else:\n",
    "            poslist[-1].append(number)\n",
    "        prev_number = number\n",
    "\n",
    "    return poslist\n"
   ]
  },
  {
   "cell_type": "code",
   "execution_count": 31,
   "metadata": {},
   "outputs": [
    {
     "name": "stdout",
     "output_type": "stream",
     "text": [
      "[[2, 7], [9, 15], [19, 20], [23], [25, 26], [29, 31]]\n"
     ]
    },
    {
     "data": {
      "text/plain": [
       "[[2, 7], [9, 15], [29, 31]]"
      ]
     },
     "execution_count": 31,
     "metadata": {},
     "output_type": "execute_result"
    }
   ],
   "source": [
    "l = [2, 3, 4, 5, 6, 7, 9, 10, 11, 12, 13, 14, 15, 19, 20, 23, 25, 26, 29, 30, 31]\n",
    "l = formatpagelist(l)\n",
    "print(l)\n",
    "[i for i in l if len(i) > 1 and i[1] - i[0] > 1]\n",
    "\n",
    "# [i for i in l]"
   ]
  },
  {
   "cell_type": "code",
   "execution_count": 33,
   "metadata": {},
   "outputs": [
    {
     "data": {
      "text/plain": [
       "[2, 3, 4, 5, 6]"
      ]
     },
     "execution_count": 33,
     "metadata": {},
     "output_type": "execute_result"
    }
   ],
   "source": [
    "list(range(2, 7))"
   ]
  },
  {
   "cell_type": "code",
   "execution_count": 144,
   "metadata": {},
   "outputs": [
    {
     "data": {
      "text/plain": [
       "'[2, 3, 5, 6, 7, 9, 10, 11, 13, 17, 19, 22]\\n[71, 72, 74, 75, 76, 77]\\n[35, 39, 51, 62, 67, 73, 75, 76]\\n[70, 71, 72, 73, 74, 75]\\n[37, 40, 60, 62, 63, 64, 71, 72, 73]\\n[4, 5, 6, 7, 8, 9, 16, 17, 18]\\n[62, 63, 64, 65, 73, 74, 75, 76]\\n[50, 63, 64, 72, 74, 75]\\n[72, 73, 74, 75]\\n[71, 72, 73]\\n[2, 3, 4, 5, 6, 7, 8, 9, 10, 11, 12, 13, 14, 15, 17, 18, 20, 22, 24]\\n[71, 72, 74, 75, 76, 77]\\n[58, 73, 75, 76]\\n[38, 56, 60, 61, 62, 69, 70, 71, 72, 73, 74, 75]\\n[62, 71, 72, 73]\\n'"
      ]
     },
     "execution_count": 144,
     "metadata": {},
     "output_type": "execute_result"
    }
   ],
   "source": [
    "txt"
   ]
  },
  {
   "cell_type": "code",
   "execution_count": 132,
   "metadata": {},
   "outputs": [],
   "source": [
    "import re"
   ]
  },
  {
   "cell_type": "code",
   "execution_count": 145,
   "metadata": {},
   "outputs": [
    {
     "data": {
      "text/plain": [
       "['2',\n",
       " '3',\n",
       " '5',\n",
       " '6',\n",
       " '7',\n",
       " '9',\n",
       " '10',\n",
       " '11',\n",
       " '13',\n",
       " '17',\n",
       " '19',\n",
       " '22',\n",
       " '71',\n",
       " '72',\n",
       " '74',\n",
       " '75',\n",
       " '76',\n",
       " '77',\n",
       " '35',\n",
       " '39',\n",
       " '51',\n",
       " '62',\n",
       " '67',\n",
       " '73',\n",
       " '75',\n",
       " '76',\n",
       " '70',\n",
       " '71',\n",
       " '72',\n",
       " '73',\n",
       " '74',\n",
       " '75',\n",
       " '37',\n",
       " '40',\n",
       " '60',\n",
       " '62',\n",
       " '63',\n",
       " '64',\n",
       " '71',\n",
       " '72',\n",
       " '73',\n",
       " '4',\n",
       " '5',\n",
       " '6',\n",
       " '7',\n",
       " '8',\n",
       " '9',\n",
       " '16',\n",
       " '17',\n",
       " '18',\n",
       " '62',\n",
       " '63',\n",
       " '64',\n",
       " '65',\n",
       " '73',\n",
       " '74',\n",
       " '75',\n",
       " '76',\n",
       " '50',\n",
       " '63',\n",
       " '64',\n",
       " '72',\n",
       " '74',\n",
       " '75',\n",
       " '72',\n",
       " '73',\n",
       " '74',\n",
       " '75',\n",
       " '71',\n",
       " '72',\n",
       " '73',\n",
       " '2',\n",
       " '3',\n",
       " '4',\n",
       " '5',\n",
       " '6',\n",
       " '7',\n",
       " '8',\n",
       " '9',\n",
       " '10',\n",
       " '11',\n",
       " '12',\n",
       " '13',\n",
       " '14',\n",
       " '15',\n",
       " '17',\n",
       " '18',\n",
       " '20',\n",
       " '22',\n",
       " '24',\n",
       " '71',\n",
       " '72',\n",
       " '74',\n",
       " '75',\n",
       " '76',\n",
       " '77',\n",
       " '58',\n",
       " '73',\n",
       " '75',\n",
       " '76',\n",
       " '38',\n",
       " '56',\n",
       " '60',\n",
       " '61',\n",
       " '62',\n",
       " '69',\n",
       " '70',\n",
       " '71',\n",
       " '72',\n",
       " '73',\n",
       " '74',\n",
       " '75',\n",
       " '62',\n",
       " '71',\n",
       " '72',\n",
       " '73',\n",
       " '']"
      ]
     },
     "execution_count": 145,
     "metadata": {},
     "output_type": "execute_result"
    }
   ],
   "source": [
    "txt = txt.replace('[', '')\n",
    "txt = txt.replace(']', '')\n",
    "txt = txt.replace('\\n', ',')\n",
    "txt = txt.replace(' ', '')\n",
    "re.split(',', txt)"
   ]
  },
  {
   "cell_type": "code",
   "execution_count": 168,
   "metadata": {},
   "outputs": [],
   "source": [
    "l = re.split('[,|\\[|\\]|\\n]', txt)"
   ]
  },
  {
   "cell_type": "code",
   "execution_count": 170,
   "metadata": {},
   "outputs": [],
   "source": [
    "l = [int(i) for i in l if i != '']"
   ]
  },
  {
   "cell_type": "code",
   "execution_count": 171,
   "metadata": {},
   "outputs": [],
   "source": [
    "import collections\n",
    "counter = collections.Counter(l)"
   ]
  },
  {
   "cell_type": "code",
   "execution_count": 172,
   "metadata": {},
   "outputs": [
    {
     "data": {
      "text/plain": [
       "Counter({2: 2,\n",
       "         3: 2,\n",
       "         5: 3,\n",
       "         6: 3,\n",
       "         7: 3,\n",
       "         9: 3,\n",
       "         10: 2,\n",
       "         11: 2,\n",
       "         13: 2,\n",
       "         17: 3,\n",
       "         19: 1,\n",
       "         22: 2,\n",
       "         71: 7,\n",
       "         72: 9,\n",
       "         74: 7,\n",
       "         75: 9,\n",
       "         76: 5,\n",
       "         77: 2,\n",
       "         35: 1,\n",
       "         39: 1,\n",
       "         51: 1,\n",
       "         62: 5,\n",
       "         67: 1,\n",
       "         73: 9,\n",
       "         70: 2,\n",
       "         37: 1,\n",
       "         40: 1,\n",
       "         60: 2,\n",
       "         63: 3,\n",
       "         64: 3,\n",
       "         4: 2,\n",
       "         8: 2,\n",
       "         16: 1,\n",
       "         18: 2,\n",
       "         65: 1,\n",
       "         50: 1,\n",
       "         12: 1,\n",
       "         14: 1,\n",
       "         15: 1,\n",
       "         20: 1,\n",
       "         24: 1,\n",
       "         58: 1,\n",
       "         38: 1,\n",
       "         56: 1,\n",
       "         61: 1,\n",
       "         69: 1})"
      ]
     },
     "execution_count": 172,
     "metadata": {},
     "output_type": "execute_result"
    }
   ],
   "source": [
    "counter"
   ]
  },
  {
   "cell_type": "code",
   "execution_count": 173,
   "metadata": {},
   "outputs": [],
   "source": [
    "count_dict = {x: l.count(x) for x in l}"
   ]
  },
  {
   "cell_type": "code",
   "execution_count": 179,
   "metadata": {},
   "outputs": [],
   "source": [
    "import numpy as np\n",
    "counts_res = np.unique(l, return_counts=True)"
   ]
  },
  {
   "cell_type": "code",
   "execution_count": 183,
   "metadata": {},
   "outputs": [
    {
     "data": {
      "text/plain": [
       "array([2, 2, 2, 3, 3, 3, 2, 3, 2, 2, 1, 2, 1, 1, 1, 3, 2, 1, 1, 2, 1, 1,\n",
       "       1, 1, 1, 1, 1, 1, 1, 1, 2, 1, 5, 3, 3, 1, 1, 1, 2, 7, 9, 9, 7, 9,\n",
       "       5, 2])"
      ]
     },
     "execution_count": 183,
     "metadata": {},
     "output_type": "execute_result"
    }
   ],
   "source": [
    "counts_res[1]"
   ]
  },
  {
   "cell_type": "code",
   "execution_count": 2,
   "metadata": {},
   "outputs": [],
   "source": [
    "df = pd.read_csv('/Users/bryan/Studio/tools/symbol_mapping.csv')"
   ]
  },
  {
   "cell_type": "code",
   "execution_count": 8,
   "metadata": {},
   "outputs": [
    {
     "data": {
      "text/plain": [
       "0       306.1656\n",
       "1       305.1808\n",
       "2       329.2055\n",
       "3       345.2049\n",
       "4            NaN\n",
       "5       343.2320\n",
       "6       343.2320\n",
       "7       397.3222\n",
       "8       443.4137\n",
       "9       343.2320\n",
       "10      474.3186\n",
       "11      488.3451\n",
       "12      520.4101\n",
       "13      343.2320\n",
       "14      330.1903\n",
       "15      344.2168\n",
       "16      541.2997\n",
       "17      413.3216\n",
       "18           NaN\n",
       "19      321.2464\n",
       "20      344.2168\n",
       "21      347.2174\n",
       "22      319.2073\n",
       "23      319.2073\n",
       "24      433.3526\n",
       "25      333.1909\n",
       "26      347.2174\n",
       "27           NaN\n",
       "28      359.2314\n",
       "29      359.2314\n",
       "         ...    \n",
       "34      386.2567\n",
       "35      471.3576\n",
       "36      633.4978\n",
       "37      633.4978\n",
       "38      212.0942\n",
       "39      602.4442\n",
       "40           NaN\n",
       "41      349.2332\n",
       "42      322.2312\n",
       "43      320.1921\n",
       "44      322.2312\n",
       "45      363.2168\n",
       "46      378.2281\n",
       "47      365.2988\n",
       "48      394.2937\n",
       "49      380.2010\n",
       "50      336.1915\n",
       "51      393.2427\n",
       "52      409.3083\n",
       "53      407.2692\n",
       "54      394.2275\n",
       "55      407.2692\n",
       "56      377.2433\n",
       "57      308.1814\n",
       "58    C9H11N2O8P\n",
       "59      320.1921\n",
       "60      320.1921\n",
       "61      320.1921\n",
       "62      336.2577\n",
       "63      334.2186\n",
       "Name: Mass, Length: 64, dtype: object"
      ]
     },
     "execution_count": 8,
     "metadata": {},
     "output_type": "execute_result"
    }
   ],
   "source": [
    "df.Mass"
   ]
  },
  {
   "cell_type": "markdown",
   "metadata": {},
   "source": [
    "# yeast mapping"
   ]
  },
  {
   "cell_type": "code",
   "execution_count": 2,
   "metadata": {},
   "outputs": [
    {
     "data": {
      "text/plain": [
       "((13,), (22,))"
      ]
     },
     "execution_count": 2,
     "metadata": {},
     "output_type": "execute_result"
    }
   ],
   "source": [
    "import pandas as pd\n",
    "base = pd.read_excel('/Users/bryan/Studio/tools/phe_base.xlsx')\n",
    "mod = pd.read_excel('/Users/bryan/Studio/tools/phe_mod.xlsx')\n",
    "\n",
    "mod_base_mask = mod.Base.isin(['A', 'C', 'G', 'U'])\n",
    "reg_idxs = mod[mod_base_mask].index\n",
    "mod = mod.drop(reg_idxs)\n",
    "base = base.drop(reg_idxs)\n",
    "mod = mod[['Mass', 'Base']]\n",
    "base = base[['Mass', 'Base']]\n",
    "diff = pd.DataFrame()\n",
    "# diff['idx'] = base.index\n",
    "diff['RegBase'] = base.Base\n",
    "diff['ModBase'] = mod.Base\n",
    "diff['diff'] = mod.Mass - base.Mass\n",
    "\n",
    "diff['RegBase'] = base.Base\n",
    "\n",
    "symbol = pd.read_csv('/Users/bryan/Studio/tools/symbol_mapping.csv')\n",
    "symbol = symbol[['Code', 'Symbol', 'Mass']].dropna()\n",
    "symbol[symbol.Code == '+']['Mass'].values[0]\n",
    "mod['Base'].map(lambda x: symbol[symbol.Code == x]['Symbol'].values[0])\n",
    "mod_value = mod['Base'].map(lambda x: symbol[symbol.Code == x]['Mass'].values[0])\n",
    "base_value = base['Base'].map(lambda x: symbol[symbol.Code == x]['Mass'].values[0])\n",
    "\n",
    "(mod_value - base_value).sum()\n",
    "diff['RegMass'] = base_value\n",
    "diff['ModMass'] = mod_value\n",
    "diff['PerDiff'] = mod_value - base_value\n",
    "diff.rename(columns={'diff': 'DiffSum'}, inplace=True)\n",
    "diff.rename(columns={'PerDiff': 'Diff'}, inplace=True)\n",
    "diff[['RegBase', 'RegMass', 'ModBase', 'ModMass', 'Diff', 'DiffSum']]\n",
    "diff = diff[['RegBase', 'RegMass', 'ModBase', 'ModMass', 'Diff', 'DiffSum']]\n",
    "diff\n",
    "diff.to_excel('/Users/bryan/Downloads/phe.xlsx')\n",
    "mod_csv = pd.read_csv('/Users/bryan/Studio/tools/mod.csv')\n",
    "mod_csv.rename(columns={'Exact Mass': 'Mass'}, inplace=True)\n",
    "diff = mod_csv.Mass - mod_csv.RegMass\n",
    "diff = diff[diff > 0]\n",
    "diff.unique().shape, diff.shape"
   ]
  },
  {
   "cell_type": "code",
   "execution_count": null,
   "metadata": {},
   "outputs": [],
   "source": []
  }
 ],
 "metadata": {
  "kernelspec": {
   "display_name": "Python 3",
   "language": "python",
   "name": "python3"
  },
  "language_info": {
   "codemirror_mode": {
    "name": "ipython",
    "version": 3
   },
   "file_extension": ".py",
   "mimetype": "text/x-python",
   "name": "python",
   "nbconvert_exporter": "python",
   "pygments_lexer": "ipython3",
   "version": "3.7.3"
  }
 },
 "nbformat": 4,
 "nbformat_minor": 4
}
