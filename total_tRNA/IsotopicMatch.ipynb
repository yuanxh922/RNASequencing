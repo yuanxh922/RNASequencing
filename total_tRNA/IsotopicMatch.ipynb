{
 "cells": [
  {
   "cell_type": "code",
   "execution_count": null,
   "id": "outside-salad",
   "metadata": {},
   "outputs": [],
   "source": [
    "import pandas as pd\n",
    "import numpy as np\n",
    "import matplotlib"
   ]
  },
  {
   "cell_type": "code",
   "execution_count": null,
   "id": "immediate-format",
   "metadata": {},
   "outputs": [],
   "source": [
    "%run ../modules/utils.ipynb\n",
    "%run ../modules/cds.ipynb\n",
    "%run ../modules/preprocessing.ipynb"
   ]
  },
  {
   "cell_type": "code",
   "execution_count": null,
   "id": "alien-nashville",
   "metadata": {},
   "outputs": [],
   "source": [
    "df_5p = pd.read_excel('/Users/bryan/Studio/tools/phe_76_5p.xlsx')\n",
    "df_3p = pd.read_excel('/Users/bryan/Studio/tools/phe_76_3p.xlsx')"
   ]
  },
  {
   "cell_type": "code",
   "execution_count": null,
   "id": "statewide-paraguay",
   "metadata": {},
   "outputs": [],
   "source": [
    "df = pd.read_excel('/Users/bryan/Documents/BioPharmaFinder/ZhangLab/Data/Excels/tRNA_Phe_0724.xlsx')\n",
    "df = thermo_df(df)\n",
    "df.shape"
   ]
  },
  {
   "cell_type": "code",
   "execution_count": null,
   "id": "advised-consistency",
   "metadata": {},
   "outputs": [],
   "source": [
    "df_total = pd.read_excel('/Users/bryan/Documents/BioPharmaFinder/ZhangLab/Data/Excels/total_tRNA_acid_deg.xlsx')\n",
    "df_total = thermo_df(df_total)\n",
    "df_total.shape"
   ]
  },
  {
   "cell_type": "code",
   "execution_count": null,
   "id": "scheduled-surface",
   "metadata": {},
   "outputs": [],
   "source": [
    "df_glu = pd.read_excel('/Users/bryan/Documents/BioPharmaFinder/BaoLab/FirstBatch/Excels/S2to5combined_20ul_40min.xlsx')\n",
    "df_glu = thermo_df(df_glu)\n",
    "df_glu.shape"
   ]
  },
  {
   "cell_type": "code",
   "execution_count": null,
   "id": "convertible-thanks",
   "metadata": {},
   "outputs": [],
   "source": [
    "df_match_5p = match_dfs(df_5p, df)\n",
    "df_match_3p = match_dfs(df_3p, df)\n",
    "df_match_5p.shape, df_match_3p.shape"
   ]
  },
  {
   "cell_type": "code",
   "execution_count": null,
   "id": "related-designation",
   "metadata": {},
   "outputs": [],
   "source": [
    "df_5p_1da = df_5p.copy()\n",
    "# df_5p_1da.Mass += 16.0106\n",
    "df_3p_1da = df_3p.copy()\n",
    "# df_3p_1da.Mass += 16.0106\n",
    "df_match_5p_1da = match_dfs(df_5p_1da, df_glu)\n",
    "df_match_3p_1da = match_dfs(df_3p_1da, df_glu)\n",
    "df_match_5p_1da.shape, df_match_3p_1da.shape"
   ]
  },
  {
   "cell_type": "code",
   "execution_count": null,
   "id": "arranged-progress",
   "metadata": {},
   "outputs": [],
   "source": [
    "# plotly_zones(df_match_5p, df_match_3p)\n",
    "plotly_zone(df_match_5p_1da)\n",
    "plotly_zone(df_match_3p_1da)"
   ]
  },
  {
   "cell_type": "code",
   "execution_count": null,
   "id": "collected-auction",
   "metadata": {},
   "outputs": [],
   "source": []
  }
 ],
 "metadata": {
  "kernelspec": {
   "display_name": "Python 3",
   "language": "python",
   "name": "python3"
  },
  "language_info": {
   "codemirror_mode": {
    "name": "ipython",
    "version": 3
   },
   "file_extension": ".py",
   "mimetype": "text/x-python",
   "name": "python",
   "nbconvert_exporter": "python",
   "pygments_lexer": "ipython3",
   "version": "3.7.3"
  }
 },
 "nbformat": 4,
 "nbformat_minor": 5
}
